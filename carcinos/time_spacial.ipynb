{
 "cells": [
  {
   "cell_type": "markdown",
   "metadata": {},
   "source": [
    "# Time-Spacial Exploration\n",
    "\n",
    "By **Franklin Oliveira**\n",
    "\n",
    "-----\n",
    "This notebook contains all code necessary to make charts from `carcinos` database with focus on time and space exploration. Here you'll find some basic data treatment and charts' code. \n",
    "\n",
    "Database: <font color='blue'>'Planilha geral Atualizada FINAL 5_GERAL_sendo trabalhada no Google drive.xlsx'</font>"
   ]
  },
  {
   "cell_type": "code",
   "execution_count": 1,
   "metadata": {
    "ExecuteTime": {
     "end_time": "2021-02-13T16:24:13.573236Z",
     "start_time": "2021-02-13T16:24:12.631727Z"
    }
   },
   "outputs": [
    {
     "data": {
      "text/plain": [
       "DataTransformerRegistry.enable('default')"
      ]
     },
     "execution_count": 1,
     "metadata": {},
     "output_type": "execute_result"
    }
   ],
   "source": [
    "import datetime\n",
    "import numpy as np\n",
    "import pandas as pd\n",
    "\n",
    "from collections import defaultdict\n",
    "\n",
    "# quick visualization\n",
    "import matplotlib.pyplot as plt\n",
    "import seaborn as sns\n",
    "\n",
    "# Waffle Charts\n",
    "# from pywaffle import Waffle \n",
    "# docs: https://pywaffle.readthedocs.io/en/latest/examples/block_shape_distance_location_and_direction.html\n",
    "\n",
    "# visualization\n",
    "import altair as alt\n",
    "\n",
    "# enabling notebook renderer\n",
    "# alt.renderers.enable('notebook')\n",
    "# alt.renderers.enable('default')\n",
    "\n",
    "# disabling rows limit\n",
    "alt.data_transformers.disable_max_rows()"
   ]
  },
  {
   "cell_type": "markdown",
   "metadata": {},
   "source": [
    "## Importing data..."
   ]
  },
  {
   "cell_type": "code",
   "execution_count": 2,
   "metadata": {
    "ExecuteTime": {
     "end_time": "2021-02-13T16:24:14.183621Z",
     "start_time": "2021-02-13T16:24:13.575610Z"
    }
   },
   "outputs": [],
   "source": [
    "NewTable = pd.read_csv('./data/treated_db.csv', sep=';', encoding='utf-8-sig', low_memory=False)"
   ]
  },
  {
   "cell_type": "markdown",
   "metadata": {},
   "source": [
    "## Filtering\n",
    "\n",
    "At least for now, we'll be considering only specimens of order decapoda (deeply revised by the Museum's crew)"
   ]
  },
  {
   "cell_type": "code",
   "execution_count": 3,
   "metadata": {
    "ExecuteTime": {
     "end_time": "2021-02-13T16:24:14.206646Z",
     "start_time": "2021-02-13T16:24:14.185756Z"
    }
   },
   "outputs": [],
   "source": [
    "decapoda = NewTable[NewTable['order'] == 'Decapoda'].copy()"
   ]
  },
  {
   "cell_type": "markdown",
   "metadata": {},
   "source": [
    "<br>\n",
    "\n",
    "<font size=5>**Color palette**</font>\n",
    "\n",
    "Colors (per infraorder): \n",
    "\n",
    "- <font color='#e26d67'><b>Ascacidae</b></font>\n",
    "- <font color='#007961'><b>Anomura</b></font>\n",
    "- <font color='#7a2c39'><b>Achelata</b></font>\n",
    "- <font color='#b67262'><b>Axiidea</b></font>\n",
    "- <font color='#ee4454'><b>Brachyura</b></font>\n",
    "- <font color='#3330b7'><b>Caridea</b></font>\n",
    "- <font color='#58b5e1'><b>Gebiidea</b></font>\n",
    "- <font color='#b8e450'><b>Stenopodídea</b></font>\n",
    "- <font color='#a0a3fd'><b>Astacidae</b></font>\n",
    "- <font color='#deae9e'><b>Polychelida</b></font>\n",
    "- <font color='#d867be'><b>Grapsidae</b></font>\n",
    "- <font color='#fece5f'><b>Xanthoidea</b></font>"
   ]
  },
  {
   "cell_type": "code",
   "execution_count": 4,
   "metadata": {
    "ExecuteTime": {
     "end_time": "2021-02-13T16:24:14.272649Z",
     "start_time": "2021-02-13T16:24:14.209429Z"
    }
   },
   "outputs": [],
   "source": [
    "# importing customized color palettes\n",
    "from src.MNViz_colors import *"
   ]
  },
  {
   "cell_type": "markdown",
   "metadata": {},
   "source": [
    "<br>\n",
    "\n",
    "## Graph: Exploring time-spacial evolution of the database"
   ]
  },
  {
   "cell_type": "code",
   "execution_count": 5,
   "metadata": {
    "ExecuteTime": {
     "end_time": "2021-02-13T16:24:14.323504Z",
     "start_time": "2021-02-13T16:24:14.276013Z"
    }
   },
   "outputs": [],
   "source": [
    "# corrects some typos\n",
    "continent_typos = {\n",
    "    'America do Sul':'América do Sul',\n",
    "    'America do Norte':'América do Norte',\n",
    "    'America Central':'América Central',\n",
    "    'Africa':'África',\n",
    "    'Asia':'Ásia'\n",
    "}\n",
    "\n",
    "decapoda['continent'] = decapoda['continent'].apply(lambda x: continent_typos[x] if x in continent_typos.keys() else x)"
   ]
  },
  {
   "cell_type": "code",
   "execution_count": 6,
   "metadata": {
    "ExecuteTime": {
     "end_time": "2021-02-13T16:24:14.381016Z",
     "start_time": "2021-02-13T16:24:14.325192Z"
    }
   },
   "outputs": [
    {
     "data": {
      "text/plain": [
       "América do Sul      8144\n",
       "Desconhecido         106\n",
       "Europa                24\n",
       "América do Norte      21\n",
       "Oceania                9\n",
       "América Central        8\n",
       "África                 6\n",
       "Ásia                   2\n",
       "Name: continent, dtype: int64"
      ]
     },
     "execution_count": 6,
     "metadata": {},
     "output_type": "execute_result"
    }
   ],
   "source": [
    "# looking good...\n",
    "decapoda['continent'].value_counts()"
   ]
  },
  {
   "cell_type": "markdown",
   "metadata": {},
   "source": [
    "### Chart 1: Evolution per time and continent"
   ]
  },
  {
   "cell_type": "code",
   "execution_count": 7,
   "metadata": {
    "ExecuteTime": {
     "end_time": "2021-02-13T16:24:14.434042Z",
     "start_time": "2021-02-13T16:24:14.383619Z"
    }
   },
   "outputs": [
    {
     "data": {
      "text/plain": [
       "array(['Brachyura', 'Xanthoidea'], dtype=object)"
      ]
     },
     "execution_count": 7,
     "metadata": {},
     "output_type": "execute_result"
    }
   ],
   "source": [
    "decapoda[decapoda['family'] == 'Xanthidae']['infraorder'].unique()"
   ]
  },
  {
   "cell_type": "code",
   "execution_count": 8,
   "metadata": {
    "ExecuteTime": {
     "end_time": "2021-02-13T16:24:14.607324Z",
     "start_time": "2021-02-13T16:24:14.436883Z"
    }
   },
   "outputs": [],
   "source": [
    "# agrupando por Ano e Continente\n",
    "teste = NewTable.groupby(['start_year','continent', 'family']).count()['class'].reset_index().rename(columns={\n",
    "    'class':'counts'\n",
    "})"
   ]
  },
  {
   "cell_type": "code",
   "execution_count": 9,
   "metadata": {
    "ExecuteTime": {
     "end_time": "2021-02-13T16:24:14.626316Z",
     "start_time": "2021-02-13T16:24:14.609446Z"
    }
   },
   "outputs": [],
   "source": [
    "g1 = alt.Chart(teste, title='Evolução temporal da coleção por continente', height=300, width=2000).mark_circle().encode(\n",
    "    x= alt.X('start_year', type=\"ordinal\", title='Ano de Coleta'),\n",
    "    y= alt.Y('continent', title='Continente', \n",
    "             sort=alt.EncodingSortField('counts', op=\"count\", order='descending')), \n",
    "    size=alt.Size('counts', scale= alt.Scale(range=[30,1200]),\n",
    "                  legend= alt.Legend(orient='bottom')), \n",
    "    order= alt.Order('counts', sort='descending'),  # smaller points in front\n",
    "#     color= alt.Color('ordem', scale=alt.Scale(domain=ordens, range=cores)),  # old palette per order\n",
    "    color= alt.Color('family:N',title= 'Família', \n",
    "                    legend= alt.Legend(columns=10, symbolLimit= 102, orient='bottom'),\n",
    "                    scale= alt.Scale(domain= list(cores_familia_naive.keys()), \n",
    "                                     range= list(cores_familia_naive.values()))),\n",
    "    tooltip= alt.Tooltip(['continent','start_year','family','counts'])\n",
    ")\n",
    "\n",
    "g1 = g1.configure_title(fontSize=16).configure_axis(\n",
    "    labelFontSize=12,\n",
    "    titleFontSize=12\n",
    ").configure_legend(\n",
    "    labelFontSize=12,\n",
    "    titleFontSize=12\n",
    ")\n",
    "\n",
    "# g1.save('./graphs/time-spacial/evolucao_por_continente-FAMILIA.html')\n",
    "# g1"
   ]
  },
  {
   "cell_type": "markdown",
   "metadata": {},
   "source": [
    "<br>\n",
    "\n",
    "### Chart 2: Evolution per time and country"
   ]
  },
  {
   "cell_type": "code",
   "execution_count": 10,
   "metadata": {
    "ExecuteTime": {
     "end_time": "2021-02-13T16:24:14.711344Z",
     "start_time": "2021-02-13T16:24:14.628567Z"
    }
   },
   "outputs": [],
   "source": [
    "# agrupando por Ano e Continente\n",
    "teste1 = decapoda.groupby(['start_year','country', 'family']).count()['class'].reset_index().rename(columns={\n",
    "    'class':'counts'\n",
    "})"
   ]
  },
  {
   "cell_type": "code",
   "execution_count": 11,
   "metadata": {
    "ExecuteTime": {
     "end_time": "2021-02-13T16:24:14.733431Z",
     "start_time": "2021-02-13T16:24:14.712970Z"
    }
   },
   "outputs": [],
   "source": [
    "# retirei Brasil (será detalhado por Estados depois)\n",
    "g1 = alt.Chart(teste1[teste1['country'] != 'Brasil'], title='Animais coletados por ano em outros países',\n",
    "              width=800).mark_circle().encode(\n",
    "    x= alt.X('start_year', type=\"ordinal\", title='Ano de Coleta'),\n",
    "    y= alt.Y('country', title='País', \n",
    "             sort=alt.EncodingSortField('counts', op=\"sum\", order='descending')), \n",
    "    size=alt.Size('counts', scale= alt.Scale(range=[20,250]),\n",
    "                  legend= alt.Legend(orient='right', columns=6)), \n",
    "    order= alt.Order('counts', sort='descending'),  # smaller points in front\n",
    "#     color= alt.Color('ordem', scale=alt.Scale(domain=ordens, range=cores)),  # old palette per order\n",
    "    color= alt.Color('family:N', title='Familia', \n",
    "                    legend= alt.Legend(columns=4, symbolLimit=102, orient='right'), \n",
    "                    scale= alt.Scale(domain= list(cores_familia_naive.keys()), \n",
    "                                     range= list(cores_familia_naive.values()))),\n",
    "    tooltip= alt.Tooltip(['country','start_year','family','counts'])\n",
    ")\n",
    "\n",
    "g1 = g1.configure_title(fontSize=16).configure_axis(\n",
    "    labelFontSize=12,\n",
    "    titleFontSize=12\n",
    ").configure_legend(\n",
    "    labelFontSize=12,\n",
    "    titleFontSize=12\n",
    ")\n",
    "\n",
    "# g1.save('./graphs/time-spacial/evolucao_por_pais.html')\n",
    "# g1"
   ]
  },
  {
   "cell_type": "markdown",
   "metadata": {},
   "source": [
    "<br>\n",
    "\n",
    "### Chart 3: Evolution per time and brazilian states"
   ]
  },
  {
   "cell_type": "code",
   "execution_count": 12,
   "metadata": {
    "ExecuteTime": {
     "end_time": "2021-02-13T16:24:14.845892Z",
     "start_time": "2021-02-13T16:24:14.735095Z"
    }
   },
   "outputs": [],
   "source": [
    "# parsing into string\n",
    "decapoda['braz_region'] = decapoda['braz_region'].astype(str)\n",
    "\n",
    "# agrupando por Ano e Continente\n",
    "teste2 = decapoda[decapoda['country'] == 'Brasil']\n",
    "teste2 = teste2.groupby(['start_year','state', 'braz_region', 'family']).count()['class'].reset_index().rename(columns={\n",
    "    'class':'counts'\n",
    "})"
   ]
  },
  {
   "cell_type": "code",
   "execution_count": 13,
   "metadata": {
    "ExecuteTime": {
     "end_time": "2021-02-13T16:24:14.856141Z",
     "start_time": "2021-02-13T16:24:14.848031Z"
    }
   },
   "outputs": [],
   "source": [
    "teste2['state_and_region'] = teste2['state'] + ', ' + teste2['braz_region']"
   ]
  },
  {
   "cell_type": "markdown",
   "metadata": {},
   "source": [
    "#### creating column with brazilian regions"
   ]
  },
  {
   "cell_type": "code",
   "execution_count": 14,
   "metadata": {
    "ExecuteTime": {
     "end_time": "2021-02-13T16:24:14.905491Z",
     "start_time": "2021-02-13T16:24:14.857722Z"
    }
   },
   "outputs": [],
   "source": [
    "# regioes = {\n",
    "#     'Rio de Janeiro':'SE',\n",
    "#     'São Paulo':'SE',\n",
    "#     'Espírito Santo': 'SE',\n",
    "#     'Pernambuco':'NE',\n",
    "#     'Santa Catarina':'S',\n",
    "#     'Amazonas':'N',\n",
    "#     'Goiás':'CO',\n",
    "#     'Roraima':'N',\n",
    "#     'Pará':'N',\n",
    "#     'Mato Grosso':'CO',\n",
    "#     'Acre': 'N',\n",
    "#     'Bahia': 'NE',\n",
    "#     'Minas Gerais': 'SE',\n",
    "#     'Mato Grosso do Sul': 'CO',\n",
    "#     'Paraná': 'S',\n",
    "#     'Rondônia': 'N',\n",
    "#     'Ceará': 'NE',\n",
    "#     'Maranhão': 'N',\n",
    "#     'Rio Grande do Sul': 'S',\n",
    "#     'Paraíba': 'NE',\n",
    "#     'Distrito Federal': 'CO',\n",
    "#     'Alagoas': 'NE',\n",
    "#     'Amapá':'N',\n",
    "#     'Piauí': 'NE',\n",
    "#     'Brasília': 'CO',\n",
    "#     'Tocantins': 'N',\n",
    "#     'Rio Grande do Norte': 'NE',\n",
    "#     'Sergipe': 'NE',\n",
    "#     'Minas Gerais/Goiás/Distrito Federal': 'CO',\n",
    "#     'Santa Catarina-Rio Grande do Sul': 'S'\n",
    "# }\n",
    "\n",
    "# # criando coluna com as regiões\n",
    "# teste2['regiao'] = teste2['estado_ou_provincia'].apply(lambda x: regioes[str(x)])\n",
    "\n",
    "# # coluna com estado, regiao\n",
    "# teste2['regiao_e_estado'] = teste2['estado_ou_provincia'] + ', ' + teste2['regiao']\n",
    "\n",
    "# ordenando por região e soma das contagens\n",
    "sorting = teste2.groupby(['braz_region', 'state_and_region']).sum()['counts'].reset_index(\n",
    "                                                                ).rename(columns={'counts':'soma'})\n",
    "sorting = sorting.sort_values(['braz_region','soma'], ascending=False)['state_and_region'].unique()"
   ]
  },
  {
   "cell_type": "code",
   "execution_count": 15,
   "metadata": {
    "ExecuteTime": {
     "end_time": "2021-02-13T16:24:14.960139Z",
     "start_time": "2021-02-13T16:24:14.907203Z"
    }
   },
   "outputs": [],
   "source": [
    "g1 = alt.Chart(teste2, title='Animais coletados por ano nos Estados Brasileiros',\n",
    "                ).mark_circle(opacity=0.8).encode(\n",
    "    x= alt.X('start_year', type=\"ordinal\", title='Ano de Coleta'),\n",
    "    y= alt.Y('state_and_region', type=\"nominal\",title='Estado, Região',\n",
    "            sort= sorting, axis=alt.Axis(labels=True)), \n",
    "#     y2 = alt.Y2('braz_region', title='Região'),\n",
    "    size=alt.Size('counts', scale= alt.Scale(range=[30,1200], zero=False),\n",
    "                  legend= alt.Legend(columns=5, orient='right')), \n",
    "    order= alt.Order('counts', sort='descending'),  # smaller points in front\n",
    "    color= alt.Color('family:N', title='Familia', \n",
    "                    legend= alt.Legend(columns=3, symbolLimit=102, direction='vertical'), \n",
    "                    scale= alt.Scale(domain= list(cores_familia_naive.keys()), \n",
    "                                     range= list(cores_familia_naive.values()))),\n",
    "    tooltip= alt.Tooltip(['state_and_region','start_year','family','counts'])\n",
    ")\n",
    "\n",
    "# OBS: marca o background da região que eu quiser, mas distorce as cores\n",
    "# rule = alt.Chart(teste2[teste2['regiao'].isin(['SE','NE','CO'])], \n",
    "#                  title='Animais coletados por ano nos Estados Brasileiros').mark_rule(\n",
    "#                     opacity=0.1, size=19, color='#dedede', filled=False, fill='green').encode(\n",
    "#     y= alt.Y('regiao_e_estado', type=\"nominal\",title='Estado, Região',\n",
    "#             sort= sorting, axis=alt.Axis(labels=True))\n",
    "# )\n",
    "\n",
    "g1 = g1.configure_title(fontSize=16).configure_axis(\n",
    "    labelFontSize=12,\n",
    "    titleFontSize=12\n",
    ").configure_legend(\n",
    "    labelFontSize=12,\n",
    "    titleFontSize=12\n",
    ")\n",
    "\n",
    "# g1.save('./graphs/time-spacial/evolucao_por_estados_brasileiros.html')\n",
    "# g1"
   ]
  },
  {
   "cell_type": "markdown",
   "metadata": {},
   "source": [
    "<br>\n",
    "\n",
    "## Lat Long"
   ]
  },
  {
   "cell_type": "code",
   "execution_count": 16,
   "metadata": {
    "ExecuteTime": {
     "end_time": "2021-02-13T16:24:15.020000Z",
     "start_time": "2021-02-13T16:24:14.961917Z"
    }
   },
   "outputs": [],
   "source": [
    "# def regiao(est):\n",
    "#     if est not in regioes.keys():\n",
    "#         return np.NAN\n",
    "#     else:\n",
    "#         return regioes[est]\n",
    "    \n",
    "# NewTable['regiao'] = NewTable['estado_ou_provincia'].apply(regiao)"
   ]
  },
  {
   "cell_type": "code",
   "execution_count": 17,
   "metadata": {
    "ExecuteTime": {
     "end_time": "2021-02-13T16:24:15.071130Z",
     "start_time": "2021-02-13T16:24:15.021517Z"
    }
   },
   "outputs": [],
   "source": [
    "from vega_datasets import data\n",
    "\n",
    "source = alt.topo_feature(data.world_110m.url, 'countries')\n",
    "\n",
    "world = alt.Chart(source).mark_geoshape(\n",
    "    fill='white',\n",
    "    stroke='gray'\n",
    ").project('naturalEarth1')\n",
    "\n",
    "# world"
   ]
  },
  {
   "cell_type": "code",
   "execution_count": 18,
   "metadata": {
    "ExecuteTime": {
     "end_time": "2021-02-13T16:24:15.125614Z",
     "start_time": "2021-02-13T16:24:15.073301Z"
    }
   },
   "outputs": [
    {
     "data": {
      "text/plain": [
       "array(['1969', nan, '1955', '1943', '1975', '1950', '1911', '1953',\n",
       "       '1903', '1944', '1959', '1956', '1973', '1970', '1974', '1979',\n",
       "       '1949', '1978', '1964', '1960', '1904', '1968', '1963', '1967',\n",
       "       '1951', '1993', '1945', '1957', '1901', '1954', '1972', '1942',\n",
       "       '1962', '1985', '1977', '1952', '1940', '1984', '1976', '1941',\n",
       "       '1965', '1935', '1966', '1913', '1933', '1980', '1961', '1971',\n",
       "       '1946', '1999', '1916', '1958', '1932', '1981', '1947', '1936',\n",
       "       '2014', '1983', '1982', '1987', '1986', '1905', '1927', '1948',\n",
       "       '1988', '1908', '1914', '1917', '1918', '1939', '1920', '1902',\n",
       "       '1995', '1991', '1909', '1989', '1990', '1938', '1931', '1898',\n",
       "       '1924', '1915', '1992', '1926', '2000', '1994', '2008', '1996',\n",
       "       '1925', '1997', '1998', '2002', '1871', '2003', '2001', '1937',\n",
       "       '2004', '2006', '2005', '2007', '2009', 'None', '2011', '2010',\n",
       "       '2012', '2013', '2016', '2015', '2017', '1906', '31364', '20',\n",
       "       '2018'], dtype=object)"
      ]
     },
     "execution_count": 18,
     "metadata": {},
     "output_type": "execute_result"
    }
   ],
   "source": [
    "decapoda['start_year'].unique()"
   ]
  },
  {
   "cell_type": "code",
   "execution_count": 19,
   "metadata": {
    "ExecuteTime": {
     "end_time": "2021-02-13T16:24:15.188661Z",
     "start_time": "2021-02-13T16:24:15.127781Z"
    }
   },
   "outputs": [],
   "source": [
    "# dynamic version\n",
    "# slider = alt.binding_range(min=1850, max=2020, step=1)\n",
    "# select_year = alt.selection_single(name=' ', fields=['start_year'],\n",
    "#                                    bind=slider, init={'start_year': 1916})\n",
    "select_family = alt.selection_multi(fields=['family'], bind='legend')\n",
    "\n",
    "# data = NewTable[(NewTable['long'] < 10) & (NewTable['long'] >-150)].copy()\n",
    "data = decapoda.copy()\n",
    "\n",
    "back = alt.Chart(data).mark_point(filled=True,opacity=0.7, color='lightgray').encode(\n",
    "    longitude = alt.X('long', type='quantitative', title='Longitude'),\n",
    "    latitude = alt.Y('lat', type='quantitative', title='Latitude'),\n",
    "    tooltip = alt.Tooltip(['lat','long','catalog_number', 'country','braz_region','state',\n",
    "                           'locality', 'environment',\n",
    "                           'start_year','start_month', 'infraorder', 'family','genus', 'type_status'])\n",
    ")\n",
    "\n",
    "front = alt.Chart(data).mark_point(filled=True).encode(\n",
    "    longitude = alt.X('long:Q', title='Longitude'),\n",
    "    latitude = alt.Y('lat:Q', title='Latitude'),\n",
    "    color= alt.Color('family:N', title='Familia', \n",
    "                    legend= alt.Legend(columns=4, symbolLimit=102), \n",
    "                    scale= alt.Scale(domain= list(cores_familia_naive.keys()), \n",
    "                                     range= list(cores_familia_naive.values()))),\n",
    "    tooltip = alt.Tooltip(['lat','long','catalog_number', 'country','braz_region','state',\n",
    "                           'locality', 'environment',\n",
    "                           'start_year','start_month', 'infraorder', 'family','genus', 'type_status'])\n",
    ")\n",
    "\n",
    "equador = alt.Chart(data[data['lat'] == 0], width=800, height= 400).mark_rule(color='black').encode(\n",
    "    y = alt.Y('lat:Q', axis=alt.Axis(grid=False))\n",
    ")\n",
    "\n",
    "\n",
    "g = alt.layer(world, back, front).properties(\n",
    "    width= 800,\n",
    "    height= 500\n",
    ")  # tirei o equador\n",
    "\n",
    "# ajustando tamanho de fonte\n",
    "g = g.configure_title(fontSize=16).configure_axis(\n",
    "    labelFontSize=12,\n",
    "    titleFontSize=12\n",
    ").configure_legend(\n",
    "    labelFontSize=12,\n",
    "    titleFontSize=12\n",
    ")\n",
    "\n",
    "# g.save('./graphs/time-spacial/lat_long-worldwide.html')\n",
    "# g"
   ]
  },
  {
   "cell_type": "markdown",
   "metadata": {},
   "source": [
    "<br>\n",
    "\n",
    "<font color='red' size='5'>Lat long (layout 2 estático)</font>"
   ]
  },
  {
   "cell_type": "code",
   "execution_count": 20,
   "metadata": {
    "ExecuteTime": {
     "end_time": "2021-02-13T16:24:15.256218Z",
     "start_time": "2021-02-13T16:24:15.190948Z"
    }
   },
   "outputs": [],
   "source": [
    "# https://nextjournal.com/sdanisch/cartographic-visualization\n",
    "\n",
    "db = decapoda.copy()\n",
    "\n",
    "# parsing into string to make legend selector work\n",
    "db['type_status'] = db['type_status'].astype(str)\n",
    "\n",
    "# seletores\n",
    "select_family = alt.selection_multi(fields=['family'], bind='legend')\n",
    "select_type = alt.selection_multi(fields=['type_status'], bind='legend')\n",
    "\n",
    "tipos = db['type_status'].unique()  # lista temporária! ajustar depois!\n",
    "\n",
    "# AJUSTAR CORES\n",
    "\n",
    "from vega_datasets import data\n",
    "\n",
    "front = alt.Chart(db).mark_point(filled=True).encode(\n",
    "    longitude = alt.X('long', type='quantitative', title='Longitude'),\n",
    "    latitude = alt.Y('lat', type='quantitative', title='Latitude'),\n",
    "    color= alt.Color('family:N', title='Familia', \n",
    "                    legend= alt.Legend(columns=3, symbolLimit=102, direction='vertical', orient='right'), \n",
    "                    scale= alt.Scale(domain= list(cores_familia_naive.keys()), \n",
    "                                     range= list(cores_familia_naive.values()))),\n",
    "    shape = alt.Shape('type_status:N', title='Type', scale= alt.Scale(domain=tipos),\n",
    "                      legend= alt.Legend(columns=4, direction='vertical')),\n",
    "    tooltip = alt.Tooltip(['lat','long','country','braz_region','state',\n",
    "                           'start_year','start_month','infraorder','family', 'type_status'])\n",
    ").add_selection(select_family, select_type).transform_filter(select_family).transform_filter(select_type)\n",
    "\n",
    "mapa = alt.layer(\n",
    "     # use the sphere of the Earth as the base layer\n",
    "    alt.Chart({'sphere': True}).mark_geoshape(\n",
    "        fill='#f2f2f2'\n",
    "    ),\n",
    "    # add a graticule for geographic reference lines\n",
    "    alt.Chart({'graticule': True}).mark_geoshape(\n",
    "        stroke='#ffffff', strokeWidth=1\n",
    "    ),\n",
    "    # and then the countries of the world\n",
    "    alt.Chart(alt.topo_feature(data.world_110m.url, 'countries')).mark_geoshape(\n",
    "        fill='#white', stroke='black', strokeWidth=0.5\n",
    "    ),\n",
    "    front\n",
    ").properties(\n",
    "    width=800,\n",
    "    height=600\n",
    ")\n",
    "\n",
    "mapa = mapa.project(\n",
    "    type='naturalEarth1', scale=140\n",
    ").configure_view(stroke=None)\n",
    "\n",
    "mapa = mapa.configure_title(fontSize=16).configure_axis(\n",
    "    labelFontSize=12,\n",
    "    titleFontSize=12\n",
    ").configure_legend(\n",
    "    labelFontSize=12,\n",
    "    titleFontSize=12\n",
    ")\n",
    "\n",
    "# mapa.save('./graphs/time-spacial/lat_long-worldwide-static-grid.html')\n",
    "# mapa"
   ]
  },
  {
   "cell_type": "code",
   "execution_count": 21,
   "metadata": {
    "ExecuteTime": {
     "end_time": "2021-02-13T16:24:15.317083Z",
     "start_time": "2021-02-13T16:24:15.257976Z"
    },
    "scrolled": false
   },
   "outputs": [],
   "source": [
    "db = decapoda.copy()  # selecting database\n",
    "db['type_status'] = db['type_status'].astype(str)\n",
    "# db = db[(db['lat'] > 90) & (db['long'] > 180)]\n",
    "\n",
    "# seletores\n",
    "select_family = alt.selection_multi(fields=['family'], bind='legend')\n",
    "select_type = alt.selection_multi(fields=['type_status'], bind='legend')\n",
    "\n",
    "teste = alt.Chart(db).mark_point(filled=True).encode(\n",
    "    longitude = alt.X('long:Q', title='Longitude'),\n",
    "    latitude = alt.Y('lat:Q', title='Latitude'),\n",
    "    color= alt.Color('family:N', title='Familia', \n",
    "                    legend= alt.Legend(columns=3, symbolLimit=102), \n",
    "                    scale= alt.Scale(domain= list(cores_familia_naive.keys()), \n",
    "                                     range= list(cores_familia_naive.values()))),\n",
    "    shape = alt.Shape('type_status:N', title='Type', scale= alt.Scale(domain=tipos), \n",
    "                     legend= alt.Legend(columns=4)),\n",
    "    tooltip = alt.Tooltip(['lat','long','catalog_number', 'country','braz_region','state',\n",
    "                           'locality', 'environment',\n",
    "                           'start_year','start_month', 'infraorder', 'family','genus', 'type_status'])\n",
    ").project(type='naturalEarth1').add_selection(select_family, \n",
    "                            select_type).transform_filter(select_family).transform_filter(select_type)\n",
    "\n",
    "temp = (world + teste).properties(width=800, height=500).configure_title(fontSize=16).configure_axis(\n",
    "    labelFontSize=12,\n",
    "    titleFontSize=12\n",
    ").configure_legend(\n",
    "    labelFontSize=12,\n",
    "    titleFontSize=12\n",
    ")\n",
    "\n",
    "# temp.save('./graphs/time-spacial/lat_long-worldwide-static.html')\n",
    "# temp"
   ]
  },
  {
   "cell_type": "markdown",
   "metadata": {},
   "source": [
    "<br>\n",
    "\n",
    "### Latin America"
   ]
  },
  {
   "cell_type": "code",
   "execution_count": 22,
   "metadata": {
    "ExecuteTime": {
     "end_time": "2021-02-13T16:24:15.508378Z",
     "start_time": "2021-02-13T16:24:15.318630Z"
    }
   },
   "outputs": [],
   "source": [
    "db = decapoda.copy()  # selecting database\n",
    "db['type_status'] = db['type_status'].astype(str)\n",
    "\n",
    "# seletores\n",
    "select_order = alt.selection_multi(fields=['family'], bind='legend')\n",
    "select_type = alt.selection_multi(fields=['type_status'], bind='legend')\n",
    "\n",
    "tipos = db['type_status'].unique()  # lista temporária! ajustar depois!\n",
    "\n",
    "# mapa\n",
    "from vega_datasets import data\n",
    "\n",
    "source = alt.topo_feature(data.world_110m.url, 'countries')\n",
    "\n",
    "latinAmerica = alt.Chart(source).mark_geoshape(\n",
    "    fill='white',\n",
    "    stroke='gray'\n",
    ").project('naturalEarth1', translate=[680, 150], scale=450)\n",
    "\n",
    "# pontos\n",
    "teste = alt.Chart(db).mark_point(filled=True).encode(\n",
    "    longitude = alt.X('long:Q', title='Longitude'),\n",
    "    latitude = alt.Y('lat:Q', title='Latitude'),\n",
    "    color= alt.Color('family:N', title='Familia', \n",
    "                    legend= alt.Legend(columns=3, symbolLimit=102), \n",
    "                    scale= alt.Scale(domain= list(cores_familia_naive.keys()), \n",
    "                                     range= list(cores_familia_naive.values()))),\n",
    "    shape = alt.Shape('type_status:N', title='Tipos', scale= alt.Scale(domain=tipos), \n",
    "                     legend= alt.Legend(columns=4)),\n",
    "    tooltip = alt.Tooltip(['lat','long','catalog_number', 'country','braz_region','state',\n",
    "                           'locality', 'environment',\n",
    "                           'start_year','start_month', 'infraorder', 'family','genus', 'type_status'])\n",
    ").project(type='naturalEarth1', translate=[680, 150], scale=450).add_selection(select_order,\n",
    "                                select_type).transform_filter(select_order).transform_filter(select_type)\n",
    "\n",
    "\n",
    "# configurando grafico\n",
    "temp = (latinAmerica + teste).properties(width=600, height=600).configure_title(fontSize=16).configure_axis(\n",
    "    labelFontSize=12,\n",
    "    titleFontSize=12\n",
    ").configure_legend(\n",
    "    labelFontSize=12,\n",
    "    titleFontSize=12\n",
    ")\n",
    "\n",
    "# temp.save('./graphs/time-spacial/lat_long-latinAmerica-static.html')\n",
    "# temp"
   ]
  },
  {
   "cell_type": "markdown",
   "metadata": {},
   "source": [
    "**Fim!**"
   ]
  }
 ],
 "metadata": {
  "kernelspec": {
   "display_name": "Python 3",
   "language": "python",
   "name": "python3"
  },
  "language_info": {
   "codemirror_mode": {
    "name": "ipython",
    "version": 3
   },
   "file_extension": ".py",
   "mimetype": "text/x-python",
   "name": "python",
   "nbconvert_exporter": "python",
   "pygments_lexer": "ipython3",
   "version": "3.9.1"
  },
  "latex_envs": {
   "LaTeX_envs_menu_present": true,
   "autoclose": false,
   "autocomplete": true,
   "bibliofile": "biblio.bib",
   "cite_by": "apalike",
   "current_citInitial": 1,
   "eqLabelWithNumbers": true,
   "eqNumInitial": 1,
   "hotkeys": {
    "equation": "Ctrl-E",
    "itemize": "Ctrl-I"
   },
   "labels_anchors": false,
   "latex_user_defs": false,
   "report_style_numbering": false,
   "user_envs_cfg": false
  },
  "toc": {
   "base_numbering": 1,
   "nav_menu": {},
   "number_sections": true,
   "sideBar": true,
   "skip_h1_title": false,
   "title_cell": "Table of Contents",
   "title_sidebar": "Contents",
   "toc_cell": false,
   "toc_position": {},
   "toc_section_display": true,
   "toc_window_display": false
  },
  "varInspector": {
   "cols": {
    "lenName": 16,
    "lenType": 16,
    "lenVar": 40
   },
   "kernels_config": {
    "python": {
     "delete_cmd_postfix": "",
     "delete_cmd_prefix": "del ",
     "library": "var_list.py",
     "varRefreshCmd": "print(var_dic_list())"
    },
    "r": {
     "delete_cmd_postfix": ") ",
     "delete_cmd_prefix": "rm(",
     "library": "var_list.r",
     "varRefreshCmd": "cat(var_dic_list()) "
    }
   },
   "position": {
    "height": "293px",
    "left": "1494px",
    "right": "20px",
    "top": "120px",
    "width": "350px"
   },
   "types_to_exclude": [
    "module",
    "function",
    "builtin_function_or_method",
    "instance",
    "_Feature"
   ],
   "window_display": false
  }
 },
 "nbformat": 4,
 "nbformat_minor": 4
}
