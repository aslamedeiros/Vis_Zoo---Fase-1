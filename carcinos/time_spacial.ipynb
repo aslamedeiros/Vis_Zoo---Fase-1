{
 "cells": [
  {
   "cell_type": "markdown",
   "metadata": {},
   "source": [
    "# Time-Spacial Exploration\n",
    "\n",
    "By **Franklin Oliveira**\n",
    "\n",
    "-----\n",
    "This notebook contains all code necessary to make charts from `carcinos` database with focus on time and space exploration. Here you'll find some basic data treatment and charts' code. \n",
    "\n",
    "Database: <font color='blue'>'Planilha geral Atualizada FINAL 5_GERAL_sendo trabalhada no Google drive.xlsx'</font>"
   ]
  },
  {
   "cell_type": "code",
   "execution_count": 11,
   "metadata": {
    "ExecuteTime": {
     "end_time": "2021-02-14T19:02:42.836870Z",
     "start_time": "2021-02-14T19:02:42.826435Z"
    }
   },
   "outputs": [
    {
     "data": {
      "text/plain": [
       "DataTransformerRegistry.enable('default')"
      ]
     },
     "execution_count": 11,
     "metadata": {},
     "output_type": "execute_result"
    }
   ],
   "source": [
    "import datetime\n",
    "import numpy as np\n",
    "import pandas as pd\n",
    "\n",
    "from collections import defaultdict\n",
    "\n",
    "# quick visualization\n",
    "import matplotlib.pyplot as plt\n",
    "import seaborn as sns\n",
    "\n",
    "# Waffle Charts\n",
    "# from pywaffle import Waffle \n",
    "# docs: https://pywaffle.readthedocs.io/en/latest/examples/block_shape_distance_location_and_direction.html\n",
    "\n",
    "# visualization\n",
    "import altair as alt\n",
    "\n",
    "# enabling notebook renderer\n",
    "# alt.renderers.enable('notebook')\n",
    "# alt.renderers.enable('default')\n",
    "\n",
    "# disabling rows limit\n",
    "alt.data_transformers.disable_max_rows()"
   ]
  },
  {
   "cell_type": "markdown",
   "metadata": {},
   "source": [
    "## Importing data..."
   ]
  },
  {
   "cell_type": "code",
   "execution_count": 12,
   "metadata": {
    "ExecuteTime": {
     "end_time": "2021-02-14T19:02:43.340949Z",
     "start_time": "2021-02-14T19:02:42.840805Z"
    }
   },
   "outputs": [],
   "source": [
    "NewTable = pd.read_csv('./data/treated_db.csv', sep=';', encoding='utf-8-sig', low_memory=False)"
   ]
  },
  {
   "cell_type": "markdown",
   "metadata": {},
   "source": [
    "## Filtering\n",
    "\n",
    "At least for now, we'll be considering only specimens of order decapoda (deeply revised by the Museum's crew)"
   ]
  },
  {
   "cell_type": "code",
   "execution_count": 13,
   "metadata": {
    "ExecuteTime": {
     "end_time": "2021-02-14T19:02:43.354135Z",
     "start_time": "2021-02-14T19:02:43.342349Z"
    }
   },
   "outputs": [],
   "source": [
    "decapoda = NewTable[NewTable['order'] == 'Decapoda'].copy()"
   ]
  },
  {
   "cell_type": "markdown",
   "metadata": {},
   "source": [
    "<br>\n",
    "\n",
    "<font size=5>**Color palette**</font>\n",
    "\n",
    "Colors (per infraorder): \n",
    "\n",
    "- <font color='#e26d67'><b>Ascacidae</b></font>\n",
    "- <font color='#007961'><b>Anomura</b></font>\n",
    "- <font color='#7a2c39'><b>Achelata</b></font>\n",
    "- <font color='#b67262'><b>Axiidea</b></font>\n",
    "- <font color='#ee4454'><b>Brachyura</b></font>\n",
    "- <font color='#3330b7'><b>Caridea</b></font>\n",
    "- <font color='#58b5e1'><b>Gebiidea</b></font>\n",
    "- <font color='#b8e450'><b>Stenopodídea</b></font>\n",
    "- <font color='#a0a3fd'><b>Astacidae</b></font>\n",
    "- <font color='#deae9e'><b>Polychelida</b></font>\n",
    "- <font color='#d867be'><b>Grapsidae</b></font>\n",
    "- <font color='#fece5f'><b>Xanthoidea</b></font>"
   ]
  },
  {
   "cell_type": "code",
   "execution_count": 14,
   "metadata": {
    "ExecuteTime": {
     "end_time": "2021-02-14T19:02:43.390446Z",
     "start_time": "2021-02-14T19:02:43.355587Z"
    }
   },
   "outputs": [],
   "source": [
    "# importing customized color palettes\n",
    "from src.MNViz_colors import *"
   ]
  },
  {
   "cell_type": "markdown",
   "metadata": {},
   "source": [
    "<br>\n",
    "\n",
    "## Graph: Exploring time-spacial evolution of the database"
   ]
  },
  {
   "cell_type": "code",
   "execution_count": 15,
   "metadata": {
    "ExecuteTime": {
     "end_time": "2021-02-14T19:02:43.441082Z",
     "start_time": "2021-02-14T19:02:43.393603Z"
    }
   },
   "outputs": [],
   "source": [
    "# corrects some typos\n",
    "continent_typos = {\n",
    "    'America do Sul':'América do Sul',\n",
    "    'America do Norte':'América do Norte',\n",
    "    'America Central':'América Central',\n",
    "    'Africa':'África',\n",
    "    'Asia':'Ásia'\n",
    "}\n",
    "\n",
    "decapoda['continent'] = decapoda['continent'].apply(lambda x: continent_typos[x] if x in continent_typos.keys() else x)"
   ]
  },
  {
   "cell_type": "code",
   "execution_count": 16,
   "metadata": {
    "ExecuteTime": {
     "end_time": "2021-02-14T19:02:43.485021Z",
     "start_time": "2021-02-14T19:02:43.443010Z"
    }
   },
   "outputs": [
    {
     "data": {
      "text/plain": [
       "América do Sul      8144\n",
       "Desconhecido         106\n",
       "Europa                24\n",
       "América do Norte      21\n",
       "Oceania                9\n",
       "América Central        8\n",
       "África                 6\n",
       "Ásia                   2\n",
       "Name: continent, dtype: int64"
      ]
     },
     "execution_count": 16,
     "metadata": {},
     "output_type": "execute_result"
    }
   ],
   "source": [
    "# looking good...\n",
    "decapoda['continent'].value_counts()"
   ]
  },
  {
   "cell_type": "markdown",
   "metadata": {},
   "source": [
    "### Chart 1: Evolution per time and continent"
   ]
  },
  {
   "cell_type": "code",
   "execution_count": 17,
   "metadata": {
    "ExecuteTime": {
     "end_time": "2021-02-14T19:02:43.525015Z",
     "start_time": "2021-02-14T19:02:43.489388Z"
    }
   },
   "outputs": [],
   "source": [
    "# p.s.: some families have more than one corresponding infraorder (ERROR)\n",
    "# decapoda[decapoda['family'] == 'Xanthidae']['infraorder'].unique()"
   ]
  },
  {
   "cell_type": "code",
   "execution_count": 18,
   "metadata": {
    "ExecuteTime": {
     "end_time": "2021-02-14T19:02:45.659347Z",
     "start_time": "2021-02-14T19:02:45.561969Z"
    }
   },
   "outputs": [],
   "source": [
    "# grouping\n",
    "teste = NewTable.groupby(['start_year','continent', 'family']).count()['class'].reset_index().rename(columns={\n",
    "    'class':'counts'\n",
    "})"
   ]
  },
  {
   "cell_type": "code",
   "execution_count": 30,
   "metadata": {
    "ExecuteTime": {
     "end_time": "2021-02-14T19:07:14.660604Z",
     "start_time": "2021-02-14T19:07:14.621434Z"
    }
   },
   "outputs": [],
   "source": [
    "# selector\n",
    "select_family = alt.selection_multi(fields=['family'], bind='legend')\n",
    "\n",
    "# database\n",
    "db = teste\n",
    "\n",
    "# auxiliar variables for encoding fields\n",
    "x_labels = db.sort_values('start_year')['start_year'].unique()\n",
    "y_labels = db['continent'].unique()\n",
    "counts = db['counts'].unique()\n",
    "counts = list(range(min(counts), max(counts), 100))\n",
    "\n",
    "g1 = alt.Chart(teste, title='Temporal evolution per continent', height=300, width=2000).mark_circle().encode(\n",
    "    x= alt.X('start_year', type=\"ordinal\", title='Sampling Year',\n",
    "             scale= alt.Scale(domain= x_labels)),\n",
    "    y= alt.Y('continent', title='Continent', \n",
    "             sort=alt.EncodingSortField('counts', op=\"count\", order='descending'),\n",
    "             scale= alt.Scale(domain= y_labels)), \n",
    "    size=alt.Size('counts', title='Counts',\n",
    "                  scale= alt.Scale(domain= counts, range=[20,120]),\n",
    "                  legend= alt.Legend(orient='bottom', direction='horizontal')), \n",
    "    order= alt.Order('counts', sort='descending'),  # smaller points in front\n",
    "#     color= alt.Color('ordem', scale=alt.Scale(domain=ordens, range=cores)),  # old palette per order\n",
    "    color= alt.Color('family:N',title= 'Family', \n",
    "                    legend= alt.Legend(columns=10, symbolLimit= 102, orient='bottom'),\n",
    "                    scale= alt.Scale(domain= list(cores_familia_naive.keys()), \n",
    "                                     range= list(cores_familia_naive.values()))),\n",
    "    tooltip= alt.Tooltip(['continent','start_year','family','counts'])\n",
    ").add_selection(select_family).transform_filter(select_family)\n",
    "\n",
    "g1 = g1.configure_title(fontSize=16).configure_axis(\n",
    "    labelFontSize=12,\n",
    "    titleFontSize=12\n",
    ").configure_legend(\n",
    "    labelFontSize=12,\n",
    "    titleFontSize=12\n",
    ")\n",
    "\n",
    "# g1.save('./graphs/time-spacial/temporal_evolution_per_continent-wFamilies.html')\n",
    "# g1"
   ]
  },
  {
   "cell_type": "markdown",
   "metadata": {},
   "source": [
    "<br>\n",
    "\n",
    "### Chart 2: Evolution per time and country"
   ]
  },
  {
   "cell_type": "code",
   "execution_count": 31,
   "metadata": {
    "ExecuteTime": {
     "end_time": "2021-02-14T19:07:17.750294Z",
     "start_time": "2021-02-14T19:07:17.711799Z"
    }
   },
   "outputs": [],
   "source": [
    "# agrupando por Ano e Continente\n",
    "teste1 = decapoda.groupby(['start_year','country', 'family']).count()['class'].reset_index().rename(columns={\n",
    "    'class':'counts'\n",
    "})"
   ]
  },
  {
   "cell_type": "code",
   "execution_count": 32,
   "metadata": {
    "ExecuteTime": {
     "end_time": "2021-02-14T19:07:20.910322Z",
     "start_time": "2021-02-14T19:07:20.879352Z"
    }
   },
   "outputs": [],
   "source": [
    "# selector\n",
    "select_family = alt.selection_multi(fields=['family'], bind='legend')\n",
    "\n",
    "# filtering database (removing Brazil)\n",
    "db = teste1[teste1['country'] != 'Brasil']\n",
    "\n",
    "# auxiliar variables for encoding fields\n",
    "x_labels = db.sort_values('start_year')['start_year'].unique()\n",
    "y_labels = db['country'].unique()\n",
    "counts = db['counts'].unique()\n",
    "\n",
    "g1 = alt.Chart(db, title='Collected specimens per year in other countries', height=500,\n",
    "              width=800).mark_circle().encode(\n",
    "    x= alt.X('start_year', type=\"ordinal\", title='Sampling Year',\n",
    "            scale= alt.Scale(domain=x_labels)),\n",
    "    y= alt.Y('country', title='Country', \n",
    "             scale= alt.Scale(domain=y_labels),\n",
    "             sort=alt.EncodingSortField('counts', op=\"sum\", order='descending')), \n",
    "    size=alt.Size('counts', title='Counts',\n",
    "                  scale= alt.Scale(domain=counts, range=[20,120]),\n",
    "                  legend= alt.Legend(orient='right', direction='horizontal')), \n",
    "    order= alt.Order('counts', sort='descending'),  # smaller points in front\n",
    "#     color= alt.Color('ordem', scale=alt.Scale(domain=ordens, range=cores)),  # old palette per order\n",
    "    color= alt.Color('family:N', title='Family', \n",
    "                    legend= alt.Legend(columns=3, symbolLimit=102, orient='right'), \n",
    "                    scale= alt.Scale(domain= list(cores_familia_naive.keys()), \n",
    "                                     range= list(cores_familia_naive.values()))),\n",
    "    tooltip= alt.Tooltip(['country','start_year','family','counts'])\n",
    ").add_selection(select_family).transform_filter(select_family)\n",
    "\n",
    "g1 = g1.configure_title(fontSize=16).configure_axis(\n",
    "    labelFontSize=12,\n",
    "    titleFontSize=12\n",
    ").configure_legend(\n",
    "    labelFontSize=12,\n",
    "    titleFontSize=12\n",
    ")\n",
    "\n",
    "# g1.save('./graphs/time-spacial/temporal_evolution_per_country.html')\n",
    "# g1"
   ]
  },
  {
   "cell_type": "markdown",
   "metadata": {},
   "source": [
    "<br>\n",
    "\n",
    "### Chart 3: Evolution per time and brazilian states"
   ]
  },
  {
   "cell_type": "code",
   "execution_count": 33,
   "metadata": {
    "ExecuteTime": {
     "end_time": "2021-02-14T19:07:24.795416Z",
     "start_time": "2021-02-14T19:07:24.740204Z"
    }
   },
   "outputs": [],
   "source": [
    "# parsing into string\n",
    "decapoda['braz_region'] = decapoda['braz_region'].astype(str)\n",
    "\n",
    "# agrupando por Ano e Continente\n",
    "teste2 = decapoda[decapoda['country'] == 'Brasil']\n",
    "teste2 = teste2.groupby(['start_year','state', 'braz_region', 'family']).count()['class'].reset_index().rename(columns={\n",
    "    'class':'counts'\n",
    "})"
   ]
  },
  {
   "cell_type": "code",
   "execution_count": 36,
   "metadata": {
    "ExecuteTime": {
     "end_time": "2021-02-14T19:07:52.896916Z",
     "start_time": "2021-02-14T19:07:52.872854Z"
    }
   },
   "outputs": [],
   "source": [
    "teste2['state_and_region'] = teste2['state'] + ', ' + teste2['braz_region']\n",
    "\n",
    "# ordenando por região e soma das contagens\n",
    "sorting = teste2.groupby(['braz_region', 'state_and_region']).sum()['counts'].reset_index(\n",
    "                                                                ).rename(columns={'counts':'soma'})\n",
    "sorting = sorting.sort_values(['braz_region','soma'], ascending=False)['state_and_region'].unique()"
   ]
  },
  {
   "cell_type": "code",
   "execution_count": 66,
   "metadata": {
    "ExecuteTime": {
     "end_time": "2021-02-14T19:18:51.667230Z",
     "start_time": "2021-02-14T19:18:51.648049Z"
    }
   },
   "outputs": [],
   "source": [
    "# selector\n",
    "select_family = alt.selection_multi(fields=['family'], bind='legend')\n",
    "\n",
    "# filtering database (removing Brazil)\n",
    "db = teste2\n",
    "\n",
    "# auxiliar variables for encoding fields\n",
    "x_labels = db.sort_values('start_year')['start_year'].unique()\n",
    "y_labels = db['state_and_region'].unique()\n",
    "counts = db['counts'].unique()\n",
    "counts = list(range(min(counts), max(counts), 20))\n",
    "\n",
    "g1 = alt.Chart(db, title='Total of collected decapoda per year in Brazilian States',\n",
    "               width=1600 ).mark_circle(opacity=0.8).encode(\n",
    "    x= alt.X('start_year', type=\"ordinal\", title='Sampling Year',\n",
    "            scale= alt.Scale(domain= x_labels)),\n",
    "    y= alt.Y('state_and_region', type=\"nominal\",title='State, Region',\n",
    "             scale= alt.Scale(domain= y_labels),\n",
    "             sort= sorting, axis=alt.Axis(labels=True)), \n",
    "#     y2 = alt.Y2('braz_region', title='Região'),\n",
    "    size=alt.Size('counts', title='Counts',\n",
    "                  scale= alt.Scale(domain= counts, range=[30,130], zero=False),\n",
    "                  legend= alt.Legend(orient='bottom', direction='horizontal')), \n",
    "    order= alt.Order('counts', sort='descending'),  # smaller points in front\n",
    "    color= alt.Color('family:N', title='Family', \n",
    "                    legend= alt.Legend(columns=11, symbolLimit=102, direction='horizontal', orient='bottom'), \n",
    "                    scale= alt.Scale(domain= list(cores_familia_naive.keys()), \n",
    "                                     range= list(cores_familia_naive.values()))),\n",
    "    tooltip= alt.Tooltip(['state_and_region','start_year','family','counts'])\n",
    ").add_selection(select_family).transform_filter(select_family)\n",
    "\n",
    "g1 = g1.configure_title(fontSize=16).configure_axis(\n",
    "    labelFontSize=12,\n",
    "    titleFontSize=12\n",
    ").configure_legend(\n",
    "    labelFontSize=12,\n",
    "    titleFontSize=12\n",
    ")\n",
    "\n",
    "# g1.save('./graphs/time-spacial/temporal_evolution_per_brazilian_states.html')\n",
    "# g1"
   ]
  },
  {
   "cell_type": "markdown",
   "metadata": {},
   "source": [
    "<br>\n",
    "\n",
    "## Lat Long"
   ]
  },
  {
   "cell_type": "code",
   "execution_count": 67,
   "metadata": {
    "ExecuteTime": {
     "end_time": "2021-02-14T19:19:08.305659Z",
     "start_time": "2021-02-14T19:19:08.300800Z"
    }
   },
   "outputs": [],
   "source": [
    "# def regiao(est):\n",
    "#     if est not in regioes.keys():\n",
    "#         return np.NAN\n",
    "#     else:\n",
    "#         return regioes[est]\n",
    "    \n",
    "# NewTable['regiao'] = NewTable['estado_ou_provincia'].apply(regiao)"
   ]
  },
  {
   "cell_type": "code",
   "execution_count": 68,
   "metadata": {
    "ExecuteTime": {
     "end_time": "2021-02-14T19:19:08.959425Z",
     "start_time": "2021-02-14T19:19:08.738216Z"
    }
   },
   "outputs": [],
   "source": [
    "from vega_datasets import data\n",
    "\n",
    "source = alt.topo_feature(data.world_110m.url, 'countries')\n",
    "\n",
    "world = alt.Chart(source).mark_geoshape(\n",
    "    fill='white',\n",
    "    stroke='gray'\n",
    ").project('naturalEarth1')\n",
    "\n",
    "# world"
   ]
  },
  {
   "cell_type": "code",
   "execution_count": 73,
   "metadata": {
    "ExecuteTime": {
     "end_time": "2021-02-14T19:20:22.219434Z",
     "start_time": "2021-02-14T19:20:22.188252Z"
    }
   },
   "outputs": [],
   "source": [
    "# dynamic version\n",
    "# slider = alt.binding_range(min=1850, max=2020, step=1)\n",
    "# select_year = alt.selection_single(name=' ', fields=['start_year'],\n",
    "#                                    bind=slider, init={'start_year': 1916})\n",
    "select_family = alt.selection_multi(fields=['family'], bind='legend')\n",
    "\n",
    "# data = NewTable[(NewTable['long'] < 10) & (NewTable['long'] >-150)].copy()\n",
    "data = decapoda.copy()\n",
    "\n",
    "back = alt.Chart(data).mark_point(filled=True,opacity=0.7, color='lightgray').encode(\n",
    "    longitude = alt.X('long', type='quantitative', title='Longitude'),\n",
    "    latitude = alt.Y('lat', type='quantitative', title='Latitude'),\n",
    "    tooltip = alt.Tooltip(['lat','long','catalog_number', 'country','braz_region','state',\n",
    "                           'locality', 'environment',\n",
    "                           'start_year','start_month', 'infraorder', 'family','genus', 'type_status'])\n",
    ")\n",
    "\n",
    "front = alt.Chart(data).mark_point(filled=True).encode(\n",
    "    longitude = alt.X('long:Q', title='Longitude'),\n",
    "    latitude = alt.Y('lat:Q', title='Latitude'),\n",
    "    color= alt.Color('family:N', title='Family', \n",
    "                    legend= alt.Legend(columns=3, symbolLimit=102), \n",
    "                    scale= alt.Scale(domain= list(cores_familia_naive.keys()), \n",
    "                                     range= list(cores_familia_naive.values()))),\n",
    "    tooltip = alt.Tooltip(['lat','long','catalog_number', 'country','braz_region','state',\n",
    "                           'locality', 'environment',\n",
    "                           'start_year','start_month', 'infraorder', 'family','genus', 'type_status'])\n",
    ")\n",
    "\n",
    "equador = alt.Chart(data[data['lat'] == 0], width=800, height= 400).mark_rule(color='black').encode(\n",
    "    y = alt.Y('lat:Q', axis=alt.Axis(grid=False))\n",
    ")\n",
    "\n",
    "\n",
    "g = alt.layer(world, back, front).properties(\n",
    "    width= 800,\n",
    "    height= 500\n",
    ")  # tirei o equador\n",
    "\n",
    "# ajustando tamanho de fonte\n",
    "g = g.configure_title(fontSize=16).configure_axis(\n",
    "    labelFontSize=12,\n",
    "    titleFontSize=12\n",
    ").configure_legend(\n",
    "    labelFontSize=12,\n",
    "    titleFontSize=12\n",
    ")\n",
    "\n",
    "# g.save('./graphs/time-spacial/lat_long-worldwide.html')\n",
    "# g"
   ]
  },
  {
   "cell_type": "markdown",
   "metadata": {},
   "source": [
    "<br>\n",
    "\n",
    "<font color='red' size='5'>Lat long (layout 2)</font>"
   ]
  },
  {
   "cell_type": "code",
   "execution_count": 77,
   "metadata": {
    "ExecuteTime": {
     "end_time": "2021-02-14T19:21:28.671544Z",
     "start_time": "2021-02-14T19:21:28.626262Z"
    }
   },
   "outputs": [],
   "source": [
    "# https://nextjournal.com/sdanisch/cartographic-visualization\n",
    "\n",
    "db = decapoda.copy()\n",
    "\n",
    "# parsing into string to make legend selector work\n",
    "db['type_status'] = db['type_status'].astype(str)\n",
    "\n",
    "# seletores\n",
    "select_family = alt.selection_multi(fields=['family'], bind='legend')\n",
    "select_type = alt.selection_multi(fields=['type_status'], bind='legend')\n",
    "\n",
    "tipos = db['type_status'].unique()  # lista temporária! ajustar depois!\n",
    "\n",
    "# AJUSTAR CORES\n",
    "\n",
    "from vega_datasets import data\n",
    "\n",
    "front = alt.Chart(db).mark_point(filled=True).encode(\n",
    "    longitude = alt.X('long', type='quantitative', title='Longitude'),\n",
    "    latitude = alt.Y('lat', type='quantitative', title='Latitude'),\n",
    "    color= alt.Color('family:N', title='Family', \n",
    "                    legend= alt.Legend(columns=3, symbolLimit=102, direction='vertical', orient='right'), \n",
    "                    scale= alt.Scale(domain= list(cores_familia_naive.keys()), \n",
    "                                     range= list(cores_familia_naive.values()))),\n",
    "    shape = alt.Shape('type_status:N', title='Type', scale= alt.Scale(domain=tipos),\n",
    "                      legend= alt.Legend(columns=4, direction='vertical')),\n",
    "    tooltip = alt.Tooltip(['lat','long','country','braz_region','state',\n",
    "                           'start_year','start_month','infraorder','family', 'type_status'])\n",
    ").add_selection(select_family, select_type).transform_filter(select_family).transform_filter(select_type)\n",
    "\n",
    "mapa = alt.layer(\n",
    "     # use the sphere of the Earth as the base layer\n",
    "    alt.Chart({'sphere': True}).mark_geoshape(\n",
    "        fill='#f2f2f2'\n",
    "    ),\n",
    "    # add a graticule for geographic reference lines\n",
    "    alt.Chart({'graticule': True}).mark_geoshape(\n",
    "        stroke='#ffffff', strokeWidth=1\n",
    "    ),\n",
    "    # and then the countries of the world\n",
    "    alt.Chart(alt.topo_feature(data.world_110m.url, 'countries')).mark_geoshape(\n",
    "        fill='#white', stroke='black', strokeWidth=0.5\n",
    "    ),\n",
    "    front\n",
    ").properties(\n",
    "    width=800,\n",
    "    height=600\n",
    ")\n",
    "\n",
    "mapa = mapa.project(\n",
    "    type='naturalEarth1', scale=140\n",
    ").configure_view(stroke=None)\n",
    "\n",
    "mapa = mapa.configure_title(fontSize=16).configure_axis(\n",
    "    labelFontSize=12,\n",
    "    titleFontSize=12\n",
    ").configure_legend(\n",
    "    labelFontSize=12,\n",
    "    titleFontSize=12\n",
    ")\n",
    "\n",
    "# mapa.save('./graphs/time-spacial/lat_long-worldwide-static-grid.html')\n",
    "# mapa"
   ]
  },
  {
   "cell_type": "code",
   "execution_count": 79,
   "metadata": {
    "ExecuteTime": {
     "end_time": "2021-02-14T19:21:55.343193Z",
     "start_time": "2021-02-14T19:21:55.324645Z"
    },
    "scrolled": false
   },
   "outputs": [],
   "source": [
    "db = decapoda.copy()  # selecting database\n",
    "db['type_status'] = db['type_status'].astype(str)\n",
    "# db = db[(db['lat'] > 90) & (db['long'] > 180)]\n",
    "\n",
    "# seletores\n",
    "select_family = alt.selection_multi(fields=['family'], bind='legend')\n",
    "select_type = alt.selection_multi(fields=['type_status'], bind='legend')\n",
    "\n",
    "teste = alt.Chart(db).mark_point(filled=True).encode(\n",
    "    longitude = alt.X('long:Q', title='Longitude'),\n",
    "    latitude = alt.Y('lat:Q', title='Latitude'),\n",
    "    color= alt.Color('family:N', title='Family', \n",
    "                    legend= alt.Legend(columns=3, symbolLimit=102), \n",
    "                    scale= alt.Scale(domain= list(cores_familia_naive.keys()), \n",
    "                                     range= list(cores_familia_naive.values()))),\n",
    "    shape = alt.Shape('type_status:N', title='Type', scale= alt.Scale(domain=tipos), \n",
    "                     legend= alt.Legend(columns=4)),\n",
    "    tooltip = alt.Tooltip(['lat','long','catalog_number', 'country','braz_region','state',\n",
    "                           'locality', 'environment',\n",
    "                           'start_year','start_month', 'infraorder', 'family','genus', 'type_status'])\n",
    ").project(type='naturalEarth1').add_selection(select_family, \n",
    "                            select_type).transform_filter(select_family).transform_filter(select_type)\n",
    "\n",
    "temp = (world + teste).properties(width=800, height=500).configure_title(fontSize=16).configure_axis(\n",
    "    labelFontSize=12,\n",
    "    titleFontSize=12\n",
    ").configure_legend(\n",
    "    labelFontSize=12,\n",
    "    titleFontSize=12\n",
    ")\n",
    "\n",
    "# temp.save('./graphs/time-spacial/lat_long-worldwide-static.html')\n",
    "# temp"
   ]
  },
  {
   "cell_type": "markdown",
   "metadata": {},
   "source": [
    "<br>\n",
    "\n",
    "### Latin America"
   ]
  },
  {
   "cell_type": "code",
   "execution_count": 81,
   "metadata": {
    "ExecuteTime": {
     "end_time": "2021-02-14T19:22:43.332312Z",
     "start_time": "2021-02-14T19:22:43.288669Z"
    }
   },
   "outputs": [],
   "source": [
    "db = decapoda.copy()  # selecting database\n",
    "db['type_status'] = db['type_status'].astype(str)\n",
    "\n",
    "# seletores\n",
    "select_order = alt.selection_multi(fields=['family'], bind='legend')\n",
    "select_type = alt.selection_multi(fields=['type_status'], bind='legend')\n",
    "\n",
    "tipos = db['type_status'].unique()  # lista temporária! ajustar depois!\n",
    "\n",
    "# mapa\n",
    "from vega_datasets import data\n",
    "\n",
    "source = alt.topo_feature(data.world_110m.url, 'countries')\n",
    "\n",
    "latinAmerica = alt.Chart(source).mark_geoshape(\n",
    "    fill='white',\n",
    "    stroke='gray'\n",
    ").project('naturalEarth1', translate=[680, 150], scale=450)\n",
    "\n",
    "# pontos\n",
    "teste = alt.Chart(db).mark_point(filled=True).encode(\n",
    "    longitude = alt.X('long:Q', title='Longitude'),\n",
    "    latitude = alt.Y('lat:Q', title='Latitude'),\n",
    "    color= alt.Color('family:N', title='Family', \n",
    "                    legend= alt.Legend(columns=3, symbolLimit=102), \n",
    "                    scale= alt.Scale(domain= list(cores_familia_naive.keys()), \n",
    "                                     range= list(cores_familia_naive.values()))),\n",
    "    shape = alt.Shape('type_status:N', title='Tipos', scale= alt.Scale(domain=tipos), \n",
    "                     legend= alt.Legend(columns=4)),\n",
    "    tooltip = alt.Tooltip(['lat','long','catalog_number', 'country','braz_region','state',\n",
    "                           'locality', 'environment',\n",
    "                           'start_year','start_month', 'infraorder', 'family','genus', 'type_status'])\n",
    ").project(type='naturalEarth1', translate=[680, 150], scale=450).add_selection(select_order,\n",
    "                                select_type).transform_filter(select_order).transform_filter(select_type)\n",
    "\n",
    "\n",
    "# configurando grafico\n",
    "temp = (latinAmerica + teste).properties(width=600, height=600).configure_title(fontSize=16).configure_axis(\n",
    "    labelFontSize=12,\n",
    "    titleFontSize=12\n",
    ").configure_legend(\n",
    "    labelFontSize=12,\n",
    "    titleFontSize=12\n",
    ")\n",
    "\n",
    "# temp.save('./graphs/time-spacial/lat_long-latinAmerica-static.html')\n",
    "# temp"
   ]
  },
  {
   "cell_type": "markdown",
   "metadata": {},
   "source": [
    "**Fim!**"
   ]
  }
 ],
 "metadata": {
  "kernelspec": {
   "display_name": "Python 3",
   "language": "python",
   "name": "python3"
  },
  "language_info": {
   "codemirror_mode": {
    "name": "ipython",
    "version": 3
   },
   "file_extension": ".py",
   "mimetype": "text/x-python",
   "name": "python",
   "nbconvert_exporter": "python",
   "pygments_lexer": "ipython3",
   "version": "3.9.1"
  },
  "latex_envs": {
   "LaTeX_envs_menu_present": true,
   "autoclose": false,
   "autocomplete": true,
   "bibliofile": "biblio.bib",
   "cite_by": "apalike",
   "current_citInitial": 1,
   "eqLabelWithNumbers": true,
   "eqNumInitial": 1,
   "hotkeys": {
    "equation": "Ctrl-E",
    "itemize": "Ctrl-I"
   },
   "labels_anchors": false,
   "latex_user_defs": false,
   "report_style_numbering": false,
   "user_envs_cfg": false
  },
  "toc": {
   "base_numbering": 1,
   "nav_menu": {},
   "number_sections": true,
   "sideBar": true,
   "skip_h1_title": false,
   "title_cell": "Table of Contents",
   "title_sidebar": "Contents",
   "toc_cell": false,
   "toc_position": {},
   "toc_section_display": true,
   "toc_window_display": false
  },
  "varInspector": {
   "cols": {
    "lenName": 16,
    "lenType": 16,
    "lenVar": 40
   },
   "kernels_config": {
    "python": {
     "delete_cmd_postfix": "",
     "delete_cmd_prefix": "del ",
     "library": "var_list.py",
     "varRefreshCmd": "print(var_dic_list())"
    },
    "r": {
     "delete_cmd_postfix": ") ",
     "delete_cmd_prefix": "rm(",
     "library": "var_list.r",
     "varRefreshCmd": "cat(var_dic_list()) "
    }
   },
   "position": {
    "height": "293px",
    "left": "1494px",
    "right": "20px",
    "top": "120px",
    "width": "350px"
   },
   "types_to_exclude": [
    "module",
    "function",
    "builtin_function_or_method",
    "instance",
    "_Feature"
   ],
   "window_display": false
  }
 },
 "nbformat": 4,
 "nbformat_minor": 4
}
