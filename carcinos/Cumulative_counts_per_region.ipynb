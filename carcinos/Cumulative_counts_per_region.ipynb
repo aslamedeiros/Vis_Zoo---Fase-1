{
 "cells": [
  {
   "cell_type": "markdown",
   "metadata": {},
   "source": [
    "# Cumulative counts per geographical region\n",
    "\n",
    "By **Franklin Oliveira**\n",
    "\n",
    "-----\n",
    "This notebook contains all code necessary to make charts from `carcinos` database with focus on collection's cumulative spacial increments. Here you'll find some basic data treatment and charts' code. \n",
    "\n",
    "Database: <font color='blue'>'Planilha geral Atualizada FINAL 5_GERAL_sendo trabalhada no Google drive.xlsx'</font>.    "
   ]
  },
  {
   "cell_type": "code",
   "execution_count": 1,
   "metadata": {
    "ExecuteTime": {
     "end_time": "2021-03-01T15:00:00.367042Z",
     "start_time": "2021-03-01T14:59:59.445137Z"
    }
   },
   "outputs": [
    {
     "data": {
      "text/plain": [
       "DataTransformerRegistry.enable('default')"
      ]
     },
     "execution_count": 1,
     "metadata": {},
     "output_type": "execute_result"
    }
   ],
   "source": [
    "import datetime\n",
    "import numpy as np\n",
    "import pandas as pd\n",
    "\n",
    "from collections import defaultdict\n",
    "\n",
    "# quick visualization\n",
    "import matplotlib.pyplot as plt\n",
    "import seaborn as sns\n",
    "\n",
    "# Waffle Charts\n",
    "# from pywaffle import Waffle \n",
    "# docs: https://pywaffle.readthedocs.io/en/latest/examples/block_shape_distance_location_and_direction.html\n",
    "\n",
    "# visualization\n",
    "import altair as alt\n",
    "\n",
    "# enabling notebook renderer\n",
    "# alt.renderers.enable('notebook')\n",
    "# alt.renderers.enable('default')\n",
    "\n",
    "# disabling rows limit\n",
    "alt.data_transformers.disable_max_rows()"
   ]
  },
  {
   "cell_type": "markdown",
   "metadata": {},
   "source": [
    "## Importing data..."
   ]
  },
  {
   "cell_type": "code",
   "execution_count": 2,
   "metadata": {
    "ExecuteTime": {
     "end_time": "2021-03-01T15:00:00.991628Z",
     "start_time": "2021-03-01T15:00:00.381005Z"
    }
   },
   "outputs": [],
   "source": [
    "NewTable = pd.read_csv('./data/treated_db.csv', sep=';', encoding='utf-8-sig', low_memory=False)"
   ]
  },
  {
   "cell_type": "code",
   "execution_count": 3,
   "metadata": {
    "ExecuteTime": {
     "end_time": "2021-03-01T15:00:01.118661Z",
     "start_time": "2021-03-01T15:00:01.068587Z"
    }
   },
   "outputs": [],
   "source": [
    "# formatando a string NaN\n",
    "# NewTable['family'] = NewTable['family'].apply(lambda x: 'NaN' if x=='Nan' else x)\n",
    "NewTable['continent'] = NewTable['continent'].apply(lambda x: 'NaN' if str(x) == 'nan' else str(x).strip())\n",
    "NewTable['country'] = NewTable['country'].apply(lambda x: 'NaN' if str(x) == 'nan' else str(x).strip())\n",
    "NewTable['state'] = NewTable['state'].apply(lambda x: 'NaN' if str(x) == 'nan' else str(x).strip())"
   ]
  },
  {
   "cell_type": "markdown",
   "metadata": {},
   "source": [
    "## Filtering\n",
    "\n",
    "At least for now, we'll be considering only specimens of order decapoda (deeply revised by the Museum's crew)"
   ]
  },
  {
   "cell_type": "code",
   "execution_count": 4,
   "metadata": {
    "ExecuteTime": {
     "end_time": "2021-03-01T15:00:02.239283Z",
     "start_time": "2021-03-01T15:00:02.213973Z"
    }
   },
   "outputs": [],
   "source": [
    "decapoda = NewTable[NewTable['order'] == 'Decapoda'].copy()"
   ]
  },
  {
   "cell_type": "markdown",
   "metadata": {},
   "source": [
    "<br>\n",
    "\n",
    "<font size=5>**Color palette**</font>\n",
    "\n",
    "Colors (per infraorder): \n",
    "\n",
    "- <font color='#e26d67'><b>Ascacidae</b></font>\n",
    "- <font color='#007961'><b>Anomura</b></font>\n",
    "- <font color='#7a2c39'><b>Achelata</b></font>\n",
    "- <font color='#b67262'><b>Axiidea</b></font>\n",
    "- <font color='#ee4454'><b>Brachyura</b></font>\n",
    "- <font color='#3330b7'><b>Caridea</b></font>\n",
    "- <font color='#58b5e1'><b>Gebiidea</b></font>\n",
    "- <font color='#b8e450'><b>Stenopodídea</b></font>\n",
    "- <font color='#a0a3fd'><b>Astacidae</b></font>\n",
    "- <font color='#deae9e'><b>Polychelida</b></font>\n",
    "- <font color='#d867be'><b>Grapsidae</b></font>\n",
    "- <font color='#fece5f'><b>Xanthoidea</b></font>"
   ]
  },
  {
   "cell_type": "code",
   "execution_count": 5,
   "metadata": {
    "ExecuteTime": {
     "end_time": "2021-03-01T15:00:03.975602Z",
     "start_time": "2021-03-01T15:00:03.969018Z"
    }
   },
   "outputs": [],
   "source": [
    "# importing customized color palettes\n",
    "from src.MNViz_colors import *"
   ]
  },
  {
   "cell_type": "markdown",
   "metadata": {},
   "source": [
    "<br>\n",
    "\n",
    "## Counting per continent"
   ]
  },
  {
   "cell_type": "code",
   "execution_count": 6,
   "metadata": {
    "ExecuteTime": {
     "end_time": "2021-03-01T15:00:04.705525Z",
     "start_time": "2021-03-01T15:00:04.698984Z"
    }
   },
   "outputs": [],
   "source": [
    "# corrects some typos\n",
    "continent_typos = {\n",
    "    'America do Sul':'América do Sul',\n",
    "    'America do Norte':'América do Norte',\n",
    "    'America Central':'América Central',\n",
    "    'Africa':'África',\n",
    "    'Asia':'Ásia'\n",
    "}\n",
    "\n",
    "decapoda['continent'] = decapoda['continent'].apply(lambda x: continent_typos[x] if x in continent_typos.keys() else x)"
   ]
  },
  {
   "cell_type": "code",
   "execution_count": 7,
   "metadata": {
    "ExecuteTime": {
     "end_time": "2021-03-01T15:00:06.022813Z",
     "start_time": "2021-03-01T15:00:06.020662Z"
    }
   },
   "outputs": [],
   "source": [
    "# looking good...\n",
    "# decapoda['continent'].value_counts()"
   ]
  },
  {
   "cell_type": "code",
   "execution_count": 8,
   "metadata": {
    "ExecuteTime": {
     "end_time": "2021-03-01T15:00:06.784790Z",
     "start_time": "2021-03-01T15:00:06.782030Z"
    }
   },
   "outputs": [],
   "source": [
    "def convert2int(y):\n",
    "    try:\n",
    "        return int(y)\n",
    "    except:\n",
    "        return y"
   ]
  },
  {
   "cell_type": "code",
   "execution_count": 9,
   "metadata": {
    "ExecuteTime": {
     "end_time": "2021-03-01T15:00:08.224864Z",
     "start_time": "2021-03-01T15:00:08.220934Z"
    }
   },
   "outputs": [],
   "source": [
    "# p.s.: there are strings and numbers (floats) in this column\n",
    "# decapoda['start_year'].unique()"
   ]
  },
  {
   "cell_type": "code",
   "execution_count": 10,
   "metadata": {
    "ExecuteTime": {
     "end_time": "2021-03-01T15:00:08.599527Z",
     "start_time": "2021-03-01T15:00:08.546757Z"
    }
   },
   "outputs": [],
   "source": [
    "# grouping per Year and Continent\n",
    "decapoda['start_year'] = decapoda['start_year'].apply(convert2int).astype(str)  # forcing to string to keep NaNs\n",
    "teste = decapoda.groupby(['start_year','continent']).count()['class'].reset_index().rename(columns={\n",
    "    'class':'counts'\n",
    "})\n",
    "\n",
    "# sorting...\n",
    "teste = teste.sort_values(['continent', 'start_year'])"
   ]
  },
  {
   "cell_type": "code",
   "execution_count": 11,
   "metadata": {
    "ExecuteTime": {
     "end_time": "2021-03-01T15:00:09.914061Z",
     "start_time": "2021-03-01T15:00:09.900819Z"
    }
   },
   "outputs": [],
   "source": [
    "# cumulatively counting\n",
    "cumSum = []\n",
    "for continente in teste['continent'].unique():\n",
    "    cumSum.extend(list(teste[teste['continent'] == continente]['counts'].cumsum()))\n",
    "    \n",
    "teste['cumulative_sum'] = cumSum"
   ]
  },
  {
   "cell_type": "markdown",
   "metadata": {},
   "source": [
    "### Chart: all continents"
   ]
  },
  {
   "cell_type": "code",
   "execution_count": 13,
   "metadata": {
    "ExecuteTime": {
     "end_time": "2021-03-01T15:00:16.960125Z",
     "start_time": "2021-03-01T15:00:16.941409Z"
    }
   },
   "outputs": [],
   "source": [
    "# selector\n",
    "select_continent = alt.selection_multi(fields=['continent'], bind='legend')\n",
    "\n",
    "g1 = alt.Chart(teste, title=\"Collection's temporal evolution per continent\", \n",
    "               width=800).mark_line(point=True).encode(\n",
    "    x= alt.X('start_year', type=\"ordinal\", title='Sampling Year'),\n",
    "    y= alt.Y('cumulative_sum', title='', \n",
    "             sort=alt.EncodingSortField('counts', op=\"count\", order='descending')),\n",
    "    color= alt.Color('continent:N', title='Continent',\n",
    "                     scale=alt.Scale(domain=list(cores_continente.keys()), range=list(cores_continente.values()))),\n",
    "    tooltip= alt.Tooltip(['continent','start_year','counts', 'cumulative_sum']),\n",
    "    opacity= alt.condition(select_continent, alt.value(1), alt.value(0))\n",
    ").add_selection(select_continent)\n",
    "\n",
    "g1 = g1.configure_title(fontSize=16).configure_axis(\n",
    "    labelFontSize=12,\n",
    "    titleFontSize=12\n",
    ").configure_legend(\n",
    "    labelFontSize=12,\n",
    "    titleFontSize=12\n",
    ")\n",
    "\n",
    "# g1.save('./graphs/cumCounts/time-spacial/evolution_per_continent.html')\n",
    "# g1"
   ]
  },
  {
   "cell_type": "markdown",
   "metadata": {},
   "source": [
    "### Chart: all continents (ex. South America)"
   ]
  },
  {
   "cell_type": "code",
   "execution_count": 14,
   "metadata": {
    "ExecuteTime": {
     "end_time": "2021-03-01T15:00:18.441789Z",
     "start_time": "2021-03-01T15:00:18.435450Z"
    }
   },
   "outputs": [
    {
     "data": {
      "text/plain": [
       "América do Sul      8144\n",
       "Desconhecido         106\n",
       "Europa                24\n",
       "América do Norte      21\n",
       "Oceania                9\n",
       "América Central        8\n",
       "África                 6\n",
       "NaN                    3\n",
       "Ásia                   2\n",
       "Name: continent, dtype: int64"
      ]
     },
     "execution_count": 14,
     "metadata": {},
     "output_type": "execute_result"
    }
   ],
   "source": [
    "decapoda['continent'].value_counts()"
   ]
  },
  {
   "cell_type": "code",
   "execution_count": 17,
   "metadata": {
    "ExecuteTime": {
     "end_time": "2021-03-01T15:00:26.756121Z",
     "start_time": "2021-03-01T15:00:26.713539Z"
    }
   },
   "outputs": [],
   "source": [
    "select_continent = alt.selection_multi(fields=['continent'], bind='legend')\n",
    "\n",
    "# database\n",
    "db = teste[(teste['continent']!='América do Sul')]\n",
    "\n",
    "# removing South America from domain and range colors\n",
    "continents_exSA = [c for c in teste['continent'].unique() if c != 'América do Sul']\n",
    "colors_exSA = [cores_continente[c] for c in continents_exSA]\n",
    "\n",
    "g1 = alt.Chart(db,\n",
    "               title=\"Collection's temporal evolution per continent (ex. South America and missing values)\", \n",
    "width=800).mark_line(point=True).encode(\n",
    "    x= alt.X('start_year', type=\"ordinal\", title='Sampling Year'),\n",
    "    y= alt.Y('cumulative_sum', title='', \n",
    "             sort=alt.EncodingSortField('counts', op=\"count\", order='descending'),\n",
    "             scale= alt.Scale(domain=[0,120])),\n",
    "    color= alt.Color('continent:N', title='Continent',\n",
    "                     scale=alt.Scale(domain= continents_exSA, range= colors_exSA)),\n",
    "    tooltip= alt.Tooltip(['continent','start_year','counts', 'cumulative_sum']),\n",
    "    opacity= alt.condition(select_continent, alt.value(1), alt.value(0))\n",
    ").add_selection(select_continent).configure_point(\n",
    "    size=50\n",
    ")\n",
    "\n",
    "g1 = g1.configure_title(fontSize=16).configure_axis(\n",
    "    labelFontSize=12,\n",
    "    titleFontSize=12\n",
    ").configure_legend(\n",
    "    labelFontSize=12,\n",
    "    titleFontSize=12\n",
    ")\n",
    "\n",
    "# g1.save('./graphs/cumCounts/time-spacial/evolution_per_OTHER_continents.html')\n",
    "# g1"
   ]
  },
  {
   "cell_type": "markdown",
   "metadata": {},
   "source": [
    "<br>\n",
    "\n",
    "## Counting per Country"
   ]
  },
  {
   "cell_type": "code",
   "execution_count": 18,
   "metadata": {
    "ExecuteTime": {
     "end_time": "2021-03-01T15:00:27.646228Z",
     "start_time": "2021-03-01T15:00:27.632338Z"
    }
   },
   "outputs": [],
   "source": [
    "# OBS: conserto temporário (tem valores NaN na coluna continente para o país Brasil)\n",
    "temp = decapoda.copy()\n",
    "idx = temp[temp['country'] == 'Brasil'].index\n",
    "\n",
    "temp.loc[idx, 'continent'] = 'América do Sul'"
   ]
  },
  {
   "cell_type": "code",
   "execution_count": 19,
   "metadata": {
    "ExecuteTime": {
     "end_time": "2021-03-01T15:00:28.737279Z",
     "start_time": "2021-03-01T15:00:28.699811Z"
    }
   },
   "outputs": [],
   "source": [
    "# grouping per year, continent and country\n",
    "teste = temp.groupby(['start_year','continent','country']).count()['class'].reset_index().rename(columns={\n",
    "    'class':'counts'\n",
    "})\n",
    "\n",
    "teste = teste.sort_values(['country', 'start_year'])"
   ]
  },
  {
   "cell_type": "code",
   "execution_count": 20,
   "metadata": {
    "ExecuteTime": {
     "end_time": "2021-03-01T15:00:28.978890Z",
     "start_time": "2021-03-01T15:00:28.953465Z"
    }
   },
   "outputs": [],
   "source": [
    "# cumulatively counting\n",
    "cumSum = []\n",
    "for pais in teste['country'].unique():\n",
    "    cumSum.extend(list(teste[teste['country'] == pais]['counts'].cumsum()))\n",
    "    \n",
    "teste['cumulative_sum'] = cumSum"
   ]
  },
  {
   "cell_type": "markdown",
   "metadata": {},
   "source": [
    "### Chart: all countries"
   ]
  },
  {
   "cell_type": "code",
   "execution_count": 22,
   "metadata": {
    "ExecuteTime": {
     "end_time": "2021-03-01T15:00:35.150977Z",
     "start_time": "2021-03-01T15:00:35.134293Z"
    }
   },
   "outputs": [],
   "source": [
    "select_country = alt.selection_multi(fields=['country'], bind='legend')\n",
    "\n",
    "g1 = alt.Chart(teste, title=\"Collection's temporal evolution per country\", \n",
    "width=600).mark_line(point=True).encode(\n",
    "    x= alt.X('start_year', type=\"ordinal\", title='Sampling Year',\n",
    "            scale= alt.Scale(domain=list(sorted(teste['start_year'].unique())))), # fixed x-axis\n",
    "    y= alt.Y('cumulative_sum', title='', \n",
    "             sort=alt.EncodingSortField('counts', op=\"count\", order='descending'),\n",
    "             scale= alt.Scale(domain=[0,8200])),\n",
    "    color= alt.Color('country:N', title='Country',\n",
    "                     legend= alt.Legend(columns=2, symbolLimit=42),\n",
    "                     scale= alt.Scale(domain=list(cores_pais.keys()), range=list(cores_pais.values()))),\n",
    "    tooltip= alt.Tooltip(['country','start_year','counts', 'cumulative_sum']),\n",
    "#     opacity= alt.condition(select_country, alt.value(1), alt.value(0))\n",
    ").add_selection(select_country).transform_filter(select_country)\n",
    "\n",
    "g1 = g1.configure_title(fontSize=16).configure_axis(\n",
    "    labelFontSize=12,\n",
    "    titleFontSize=12\n",
    ").configure_legend(\n",
    "    labelFontSize=12,\n",
    "    titleFontSize=12\n",
    ")\n",
    "\n",
    "# g1.save('./graphs/cumCounts/time-spacial/evolution_per_country.html')\n",
    "# g1"
   ]
  },
  {
   "cell_type": "markdown",
   "metadata": {},
   "source": [
    "<font color='red' size=4>TEST: multiple selectors (for country and continent)</font>"
   ]
  },
  {
   "cell_type": "code",
   "execution_count": 24,
   "metadata": {
    "ExecuteTime": {
     "end_time": "2021-03-01T15:00:42.640767Z",
     "start_time": "2021-03-01T15:00:42.587319Z"
    }
   },
   "outputs": [],
   "source": [
    "# selectors\n",
    "select_continent = alt.selection_multi(fields=['continent'], bind='legend')\n",
    "select_country = alt.selection_multi(fields=['country'], bind='legend')\n",
    "\n",
    "db = teste[teste['country'] != 'Brasil']\n",
    "\n",
    "# charts\n",
    "g1 = alt.Chart(db, title=\"Collection's temporal evolution per country (ex. Brazil)\", width=600).mark_line(point=True).encode(\n",
    "    x= alt.X('start_year', type=\"ordinal\", title='Sampling Year',\n",
    "             scale= alt.Scale(domain=sorted(list(teste['start_year'].unique())))),\n",
    "    y= alt.Y('cumulative_sum', title='', \n",
    "             sort=alt.EncodingSortField('counts', op=\"count\", order='descending'),\n",
    "             scale= alt.Scale(domain=[0,110])\n",
    "            ),\n",
    "    color= alt.Color('country:N', title='Country', \n",
    "                legend= alt.Legend(columns=2, symbolLimit=42),\n",
    "                scale= alt.Scale(domain=list(cores_pais.keys()), range=list(cores_pais.values()))),\n",
    "    tooltip= alt.Tooltip(['continent', 'country','start_year','counts', 'cumulative_sum']),\n",
    "    detail= alt.Detail('country:N'),\n",
    "    opacity= alt.condition(select_country, alt.value(1), alt.value(0.05))\n",
    ").add_selection(select_country).transform_filter(select_country).transform_filter(select_continent)\n",
    "\n",
    "g2 = alt.Chart(db, title=\"Collection's temporal evolution per country (ex. Brazil)\", width=600).mark_line(point=True).encode(\n",
    "    x= alt.X('start_year', type=\"ordinal\", title='Sampling Year',\n",
    "             scale= alt.Scale(domain=sorted(list(teste['start_year'].unique())))),\n",
    "    y= alt.Y('cumulative_sum', title='', \n",
    "             sort=alt.EncodingSortField('counts', op=\"count\", order='descending'),\n",
    "             scale= alt.Scale(domain=[0,110])\n",
    "            ),\n",
    "    color= alt.Color('continent:N', title='Continent', \n",
    "                legend= alt.Legend(columns=2, symbolLimit=42),\n",
    "                scale= alt.Scale(domain=list(cores_continente.keys()), range=list(cores_continente.values()))),\n",
    "    tooltip= alt.Tooltip(['continent', 'country','start_year','counts', 'cumulative_sum']),\n",
    "    detail= alt.Detail('country:N'),\n",
    "    opacity= alt.condition(select_country, alt.value(1), alt.value(0.05))\n",
    ").add_selection(select_continent).transform_filter(select_continent)\n",
    "\n",
    "\n",
    "# creating layers (to make different selectors work together)\n",
    "chart = alt.layer(g2, g1).resolve_scale('independent').configure_title(fontSize=16).configure_axis(\n",
    "    labelFontSize=12,\n",
    "    titleFontSize=12\n",
    ").configure_legend(\n",
    "    labelFontSize=12,\n",
    "    titleFontSize=12\n",
    ")\n",
    "\n",
    "# chart.save('./graphs/cumCounts/time-spacial/evolution_per_country-TEST.html')\n",
    "# chart"
   ]
  },
  {
   "cell_type": "markdown",
   "metadata": {},
   "source": [
    "### Chart: all countries (ex. Brasil)"
   ]
  },
  {
   "cell_type": "code",
   "execution_count": 26,
   "metadata": {
    "ExecuteTime": {
     "end_time": "2021-03-01T15:00:49.170352Z",
     "start_time": "2021-03-01T15:00:49.152944Z"
    }
   },
   "outputs": [],
   "source": [
    "select_country = alt.selection_multi(fields=['country'], bind='legend')\n",
    "\n",
    "# database\n",
    "db = teste[teste['country'] != 'Brasil']\n",
    "\n",
    "g1 = alt.Chart(db, \n",
    "               title=\"Collection's temporal evolution per country (ex. Brazil)\", \n",
    "width=600).mark_line(point=True).encode(\n",
    "    x= alt.X('start_year', type=\"ordinal\", title='Sampling Year',\n",
    "            scale= alt.Scale(domain=list(sorted(teste['start_year'].unique())))),\n",
    "    y= alt.Y('cumulative_sum', title='', \n",
    "             sort=alt.EncodingSortField('counts', op=\"count\", order='descending'),\n",
    "            scale= alt.Scale(domain=[0,110])),\n",
    "    color= alt.Color('country:N', title='Country',\n",
    "                     legend= alt.Legend(columns=2, symbolLimit=42),\n",
    "                     scale= alt.Scale(domain=list(cores_pais.keys()), range=list(cores_pais.values()))),\n",
    "    tooltip= alt.Tooltip(['country','start_year','counts', 'cumulative_sum']),\n",
    "#     opacity= alt.condition(select_country, alt.value(1), alt.value(0))\n",
    ").add_selection(select_country).transform_filter(select_country)\n",
    "\n",
    "g1 = g1.configure_title(fontSize=16).configure_axis(\n",
    "    labelFontSize=12,\n",
    "    titleFontSize=12\n",
    ").configure_legend(\n",
    "    labelFontSize=12,\n",
    "    titleFontSize=12\n",
    ")\n",
    "\n",
    "# g1.save('./graphs/cumCounts/time-spacial/evolution_per_country-exBrazil.html')\n",
    "# g1"
   ]
  },
  {
   "cell_type": "markdown",
   "metadata": {},
   "source": [
    "<br>\n",
    "\n",
    "## Counting per Brazilian State"
   ]
  },
  {
   "cell_type": "code",
   "execution_count": 27,
   "metadata": {
    "ExecuteTime": {
     "end_time": "2021-03-01T15:00:50.771923Z",
     "start_time": "2021-03-01T15:00:50.724831Z"
    }
   },
   "outputs": [],
   "source": [
    "# filtering for Brazil, only\n",
    "teste2 = decapoda[decapoda['country'] == 'Brasil']\n",
    "teste2 = teste2.groupby(['start_year','state','braz_region', 'infraorder']).count()['class'].reset_index().rename(columns={\n",
    "    'class':'counts'\n",
    "})"
   ]
  },
  {
   "cell_type": "markdown",
   "metadata": {},
   "source": [
    "### creating column with brazilian regions"
   ]
  },
  {
   "cell_type": "code",
   "execution_count": 28,
   "metadata": {
    "ExecuteTime": {
     "end_time": "2021-03-01T15:00:51.448414Z",
     "start_time": "2021-03-01T15:00:51.420815Z"
    }
   },
   "outputs": [],
   "source": [
    "# coluna com estado, regiao\n",
    "teste2['regiao_e_estado'] = teste2['state'] + ', ' + teste2['braz_region']\n",
    "\n",
    "# ordenando por região e soma das contagens\n",
    "sorting = teste2.groupby(['regiao_e_estado', 'braz_region']).sum()['counts'].reset_index(\n",
    "                                                                ).rename(columns={'counts':'soma'})\n",
    "sorting = sorting.sort_values(['braz_region','soma'], ascending=False)['regiao_e_estado'].unique()"
   ]
  },
  {
   "cell_type": "code",
   "execution_count": 29,
   "metadata": {
    "ExecuteTime": {
     "end_time": "2021-03-01T15:00:51.877359Z",
     "start_time": "2021-03-01T15:00:51.858989Z"
    }
   },
   "outputs": [],
   "source": [
    "# OBS: variável teste2 tem as informações que precisamos (vide gráfico de contagem por região - time_spacial)\n",
    "teste = teste2.groupby(['start_year','regiao_e_estado']).count()['infraorder'].reset_index().rename(columns={\n",
    "    'infraorder':'counts'\n",
    "})\n",
    "\n",
    "teste = teste.sort_values(['regiao_e_estado', 'start_year'])"
   ]
  },
  {
   "cell_type": "code",
   "execution_count": 30,
   "metadata": {
    "ExecuteTime": {
     "end_time": "2021-03-01T15:00:52.291766Z",
     "start_time": "2021-03-01T15:00:52.259451Z"
    }
   },
   "outputs": [],
   "source": [
    "# cumulatively counting\n",
    "cumSum = []\n",
    "for reg_est in teste['regiao_e_estado'].unique():\n",
    "    cumSum.extend(list(teste[teste['regiao_e_estado'] == reg_est]['counts'].cumsum()))\n",
    "    \n",
    "teste['cumulative_sum'] = cumSum"
   ]
  },
  {
   "cell_type": "code",
   "execution_count": 31,
   "metadata": {
    "ExecuteTime": {
     "end_time": "2021-03-01T15:00:53.460915Z",
     "start_time": "2021-03-01T15:00:53.455102Z"
    }
   },
   "outputs": [],
   "source": [
    "teste['state'] = teste['regiao_e_estado'].apply(lambda x:x.split(',')[0])\n",
    "teste['region'] = teste['regiao_e_estado'].apply(lambda x:x.split(',')[1].strip())"
   ]
  },
  {
   "cell_type": "markdown",
   "metadata": {},
   "source": [
    "### Chart: cumulative counts per Brazilian State"
   ]
  },
  {
   "cell_type": "code",
   "execution_count": 33,
   "metadata": {
    "ExecuteTime": {
     "end_time": "2021-03-01T15:01:09.854374Z",
     "start_time": "2021-03-01T15:01:09.840395Z"
    },
    "scrolled": false
   },
   "outputs": [],
   "source": [
    "select_state = alt.selection_multi(fields=['state'], bind='legend')\n",
    "\n",
    "g1 = alt.Chart(teste, title=\"Collection's temporal evolution per Brazilian State\", \n",
    "        width=600).mark_line(point=True).encode(\n",
    "    x= alt.X('start_year', type=\"ordinal\", title='Sampling Year'),\n",
    "    y= alt.Y('cumulative_sum', title='', \n",
    "             sort=alt.EncodingSortField('counts', op=\"count\", order='descending'),\n",
    "             scale= alt.Scale(domain=[0,320])),\n",
    "    color= alt.Color('state:N', title='State', \n",
    "                legend= alt.Legend(columns=2, symbolLimit=42),\n",
    "                scale= alt.Scale(domain=list(cores_estados.keys()), range=list(cores_estados.values()))),\n",
    "    tooltip= alt.Tooltip(['region', 'state','start_year','counts', 'cumulative_sum']),\n",
    "#     opacity= alt.condition(select_region, alt.value(1), alt.value(0.2))\n",
    ").add_selection(select_state).transform_filter(select_state)\n",
    "\n",
    "g1 = g1.configure_title(fontSize=16).configure_axis(\n",
    "    labelFontSize=12,\n",
    "    titleFontSize=12\n",
    ").configure_legend(\n",
    "    labelFontSize=12,\n",
    "    titleFontSize=12\n",
    ").configure_view(strokeWidth=0)\n",
    "\n",
    "# g1.save('./graphs/cumCounts/time-spacial/evolution_per_state.html')\n",
    "# g1"
   ]
  },
  {
   "cell_type": "markdown",
   "metadata": {},
   "source": [
    "<br>\n",
    "\n",
    "<font color='red' size='5'>TESTE</font>\n",
    "\n",
    "gráfico com múltiplos seletores "
   ]
  },
  {
   "cell_type": "code",
   "execution_count": 35,
   "metadata": {
    "ExecuteTime": {
     "end_time": "2021-03-01T15:01:16.292106Z",
     "start_time": "2021-03-01T15:01:16.205062Z"
    },
    "scrolled": false
   },
   "outputs": [],
   "source": [
    "# selectors\n",
    "select_region = alt.selection_multi(fields=['region'], bind='legend')\n",
    "select_state = alt.selection_multi(fields=['state'], bind='legend')\n",
    "\n",
    "\n",
    "# charts\n",
    "g1 = alt.Chart(teste, title=\"Collection's temporal evolution per Brazilian State\", width=600).mark_line(point=True).encode(\n",
    "    x= alt.X('start_year', type=\"ordinal\", title='Sampling Year',\n",
    "             scale= alt.Scale(domain=sorted(list(teste['start_year'].unique())))),\n",
    "    y= alt.Y('cumulative_sum', title='', \n",
    "             sort=alt.EncodingSortField('counts', op=\"count\", order='descending'),\n",
    "             scale= alt.Scale(domain=[0,320])),\n",
    "    color= alt.Color('state:N', title='State', \n",
    "                legend= alt.Legend(columns=2, symbolLimit=42),\n",
    "                scale= alt.Scale(domain=list(cores_estados.keys()), range=list(cores_estados.values()))),\n",
    "    tooltip= alt.Tooltip(['region', 'state','start_year','counts', 'cumulative_sum']),\n",
    "    detail= alt.Detail('state:N'),\n",
    "    opacity= alt.condition(select_state, alt.value(1), alt.value(0.05))\n",
    ").add_selection(select_state).transform_filter(select_state).transform_filter(select_region)\n",
    "\n",
    "g2 = alt.Chart(teste, title=\"Collection's temporal evolution per Brazilian State\", width=600).mark_line(point=True).encode(\n",
    "    x= alt.X('start_year', type=\"ordinal\", title='Sampling Year',\n",
    "             scale= alt.Scale(domain=sorted(list(teste['start_year'].unique())))),\n",
    "    y= alt.Y('cumulative_sum', title='', \n",
    "             sort=alt.EncodingSortField('counts', op=\"count\", order='descending'),\n",
    "             scale= alt.Scale(domain=[0,320])),\n",
    "    color= alt.Color('region:N', title='Region', \n",
    "                legend= alt.Legend(columns=5, symbolLimit=42),\n",
    "                scale= alt.Scale(domain=list(cores_regioes.keys()), range=list(cores_regioes.values()))),\n",
    "    tooltip= alt.Tooltip(['region', 'state','start_year','counts', 'cumulative_sum']),\n",
    "    detail= alt.Detail('state:N'),\n",
    "    opacity= alt.condition(select_state, alt.value(1), alt.value(0.05))\n",
    ").add_selection(select_region).transform_filter(select_region)\n",
    "\n",
    "\n",
    "# creating layers (to make different selectors work together)\n",
    "chart = alt.layer(g2, g1).resolve_scale('independent').configure_title(fontSize=16).configure_axis(\n",
    "    labelFontSize=12,\n",
    "    titleFontSize=12\n",
    ").configure_legend(\n",
    "    labelFontSize=12,\n",
    "    titleFontSize=12\n",
    ")\n",
    "\n",
    "# chart.save('./graphs/cumCounts/time-spacial/evolution_per_state-TEST.html')\n",
    "# chart"
   ]
  },
  {
   "cell_type": "markdown",
   "metadata": {},
   "source": [
    "<br>\n",
    "\n",
    "### Chart: cumulative counts per Brazilian Region"
   ]
  },
  {
   "cell_type": "code",
   "execution_count": 36,
   "metadata": {
    "ExecuteTime": {
     "end_time": "2021-03-01T15:01:17.818437Z",
     "start_time": "2021-03-01T15:01:17.806508Z"
    }
   },
   "outputs": [],
   "source": [
    "temp = teste2.groupby(['start_year','braz_region']).count()['infraorder'].reset_index().rename(columns={\n",
    "    'infraorder':'counts'\n",
    "})\n",
    "\n",
    "temp = temp.sort_values(['braz_region', 'start_year'])"
   ]
  },
  {
   "cell_type": "code",
   "execution_count": 37,
   "metadata": {
    "ExecuteTime": {
     "end_time": "2021-03-01T15:01:18.066360Z",
     "start_time": "2021-03-01T15:01:18.057883Z"
    }
   },
   "outputs": [],
   "source": [
    "# cumulatively counting\n",
    "cumSum = []\n",
    "for reg in temp['braz_region'].unique():\n",
    "    cumSum.extend(list(temp[temp['braz_region'] == reg]['counts'].cumsum()))\n",
    "    \n",
    "temp['cumulative_sum'] = cumSum"
   ]
  },
  {
   "cell_type": "code",
   "execution_count": 40,
   "metadata": {
    "ExecuteTime": {
     "end_time": "2021-03-01T15:01:53.693966Z",
     "start_time": "2021-03-01T15:01:53.678539Z"
    },
    "scrolled": false
   },
   "outputs": [],
   "source": [
    "select_region = alt.selection_multi(fields=['region'], bind='legend')\n",
    "\n",
    "g1 = alt.Chart(temp, title=\"Collection's temporal evolution per Brazilian Region\", \n",
    "               width=600).mark_line(point=True).encode(\n",
    "    x= alt.X('start_year', type=\"ordinal\", title='Sampling Year',\n",
    "             scale= alt.Scale(domain=sorted(list(teste['start_year'].unique())))),\n",
    "    y= alt.Y('cumulative_sum', title='', \n",
    "             sort=alt.EncodingSortField('counts', op=\"count\", order='descending'),\n",
    "             scale= alt.Scale(domain=[0,550])),\n",
    "    color= alt.Color('braz_region:N', title='Region', \n",
    "                        legend= alt.Legend(columns=1, symbolLimit=42),\n",
    "                     scale= alt.Scale(domain=list(cores_regioes.keys()), range=list(cores_regioes.values()))),\n",
    "    tooltip= alt.Tooltip(['braz_region','start_year','counts', 'cumulative_sum']),\n",
    "#     opacity= alt.condition(select_country, alt.value(1), alt.value(0))\n",
    ").add_selection(select_region).transform_filter(select_region)\n",
    "\n",
    "g1 = g1.configure_title(fontSize=16).configure_axis(\n",
    "    labelFontSize=12,\n",
    "    titleFontSize=12\n",
    ").configure_legend(\n",
    "    labelFontSize=12,\n",
    "    titleFontSize=12\n",
    ")\n",
    "\n",
    "# g1.save('./graphs/cumCounts/time-spacial/evolution_per_region.html')\n",
    "# g1"
   ]
  },
  {
   "cell_type": "markdown",
   "metadata": {},
   "source": [
    "<br>\n",
    "\n",
    "**That's it!**"
   ]
  }
 ],
 "metadata": {
  "kernelspec": {
   "display_name": "Python 3",
   "language": "python",
   "name": "python3"
  },
  "language_info": {
   "codemirror_mode": {
    "name": "ipython",
    "version": 3
   },
   "file_extension": ".py",
   "mimetype": "text/x-python",
   "name": "python",
   "nbconvert_exporter": "python",
   "pygments_lexer": "ipython3",
   "version": "3.9.1"
  },
  "toc": {
   "base_numbering": 1,
   "nav_menu": {},
   "number_sections": true,
   "sideBar": true,
   "skip_h1_title": false,
   "title_cell": "Table of Contents",
   "title_sidebar": "Contents",
   "toc_cell": false,
   "toc_position": {},
   "toc_section_display": true,
   "toc_window_display": false
  },
  "varInspector": {
   "cols": {
    "lenName": 16,
    "lenType": 16,
    "lenVar": 40
   },
   "kernels_config": {
    "python": {
     "delete_cmd_postfix": "",
     "delete_cmd_prefix": "del ",
     "library": "var_list.py",
     "varRefreshCmd": "print(var_dic_list())"
    },
    "r": {
     "delete_cmd_postfix": ") ",
     "delete_cmd_prefix": "rm(",
     "library": "var_list.r",
     "varRefreshCmd": "cat(var_dic_list()) "
    }
   },
   "position": {
    "height": "374px",
    "left": "1266px",
    "right": "20px",
    "top": "230px",
    "width": "350px"
   },
   "types_to_exclude": [
    "module",
    "function",
    "builtin_function_or_method",
    "instance",
    "_Feature"
   ],
   "window_display": false
  }
 },
 "nbformat": 4,
 "nbformat_minor": 4
}
