{
 "cells": [
  {
   "cell_type": "markdown",
   "metadata": {},
   "source": [
    "# Type charts\n",
    "\n",
    "By **Franklin Oliveira**\n",
    "\n",
    "-----\n",
    "This notebook contains all code necessary to make the \"type\" charts from `carcinos` database. Here you'll find some basic data treatment and charts' code. \n",
    "\n",
    "Database: <font color='blue'>'Planilha geral Atualizada FINAL 5_GERAL_sendo trabalhada no Google drive.xlsx'</font>"
   ]
  },
  {
   "cell_type": "code",
   "execution_count": 1,
   "metadata": {
    "ExecuteTime": {
     "end_time": "2021-02-12T01:06:32.792000Z",
     "start_time": "2021-02-12T01:06:31.869957Z"
    }
   },
   "outputs": [
    {
     "data": {
      "text/plain": [
       "DataTransformerRegistry.enable('default')"
      ]
     },
     "execution_count": 1,
     "metadata": {},
     "output_type": "execute_result"
    }
   ],
   "source": [
    "import datetime\n",
    "import numpy as np\n",
    "import pandas as pd\n",
    "\n",
    "from collections import defaultdict\n",
    "\n",
    "# pacotes para visualização rápida\n",
    "import seaborn as sns\n",
    "import matplotlib.pyplot as plt\n",
    "\n",
    "# pacote para visualização principal\n",
    "import altair as alt\n",
    "\n",
    "# habilitando renderizador para notebook\n",
    "# alt.renderers.enable('notebook')\n",
    "alt.renderers.enable('default')\n",
    "\n",
    "\n",
    "# desabilitando limite de linhas\n",
    "alt.data_transformers.disable_max_rows()"
   ]
  },
  {
   "cell_type": "markdown",
   "metadata": {},
   "source": [
    "## Importing data..."
   ]
  },
  {
   "cell_type": "code",
   "execution_count": 3,
   "metadata": {
    "ExecuteTime": {
     "end_time": "2021-02-12T01:06:53.184340Z",
     "start_time": "2021-02-12T01:06:52.624271Z"
    }
   },
   "outputs": [],
   "source": [
    "NewTable = pd.read_csv('./data/treated_db.csv', sep=';', encoding='utf-8-sig', low_memory=False)"
   ]
  },
  {
   "cell_type": "markdown",
   "metadata": {},
   "source": [
    "## Filtering\n",
    "\n",
    "At least for now, we'll be considering only specimens of order decapoda (deeply revised by the Museum's crew)"
   ]
  },
  {
   "cell_type": "code",
   "execution_count": 4,
   "metadata": {
    "ExecuteTime": {
     "end_time": "2021-02-12T01:07:18.676840Z",
     "start_time": "2021-02-12T01:07:18.652649Z"
    }
   },
   "outputs": [],
   "source": [
    "decapoda = NewTable[NewTable['order'] == 'Decapoda'].copy()"
   ]
  },
  {
   "cell_type": "markdown",
   "metadata": {},
   "source": [
    "<br>\n",
    "\n",
    "<font size=5>**Color palette**</font>\n",
    "\n",
    "Colors (per infraorder): \n",
    "\n",
    "- <font color='#e26d67'><b>Ascacidae</b></font>\n",
    "- <font color='#007961'><b>Anomura</b></font>\n",
    "- <font color='#7a2c39'><b>Achelata</b></font>\n",
    "- <font color='#b67262'><b>Axiidea</b></font>\n",
    "- <font color='#ee4454'><b>Brachyura</b></font>\n",
    "- <font color='#3330b7'><b>Caridea</b></font>\n",
    "- <font color='#58b5e1'><b>Gebiidea</b></font>\n",
    "- <font color='#b8e450'><b>Stenopodídea</b></font>\n",
    "- <font color='#a0a3fd'><b>Astacidae</b></font>\n",
    "- <font color='#deae9e'><b>Polychelida</b></font>\n",
    "- <font color='#d867be'><b>Grapsidae</b></font>\n",
    "- <font color='#fece5f'><b>Xanthoidea</b></font>"
   ]
  },
  {
   "cell_type": "code",
   "execution_count": 5,
   "metadata": {
    "ExecuteTime": {
     "end_time": "2021-02-12T01:07:20.410044Z",
     "start_time": "2021-02-12T01:07:20.402484Z"
    }
   },
   "outputs": [],
   "source": [
    "# importing customized color palettes\n",
    "from src.MNViz_colors import *"
   ]
  },
  {
   "cell_type": "markdown",
   "metadata": {},
   "source": [
    "<br>\n",
    "\n",
    "\n",
    "## Graphs\n",
    "\n",
    "---\n",
    "\n",
    "### Types (*per year*) per genus\n",
    "\n",
    "x: Species1, cor: Type Status1, size: counts"
   ]
  },
  {
   "cell_type": "code",
   "execution_count": 7,
   "metadata": {
    "ExecuteTime": {
     "end_time": "2021-02-12T01:07:31.594747Z",
     "start_time": "2021-02-12T01:07:31.581513Z"
    }
   },
   "outputs": [
    {
     "data": {
      "text/plain": [
       "Parátipo         78\n",
       "Holótipo         33\n",
       "Paralectótipo     6\n",
       "Alótipo           3\n",
       "Síntipo           2\n",
       "Lectótipo         2\n",
       "Topótipo          2\n",
       "Neótipo           1\n",
       "Material tipo     1\n",
       "Name: type_status, dtype: int64"
      ]
     },
     "execution_count": 7,
     "metadata": {},
     "output_type": "execute_result"
    }
   ],
   "source": [
    "# p.s.: the large majority is non-type\n",
    "decapoda['type_status'].value_counts()"
   ]
  },
  {
   "cell_type": "code",
   "execution_count": 31,
   "metadata": {
    "ExecuteTime": {
     "end_time": "2021-02-12T01:19:18.303580Z",
     "start_time": "2021-02-12T01:19:18.286128Z"
    }
   },
   "outputs": [],
   "source": [
    "# subsetting\n",
    "teste = decapoda[['min_depth','family','order', 'start_year', 'qualifier', 'catalog_number', \n",
    "                  'genus', 'species', 'type_status']].copy()\n",
    "\n",
    "# grouping by type, year and order\n",
    "temp = teste.groupby(['type_status','start_year', 'family']).count()['species'].reset_index().rename(columns={\n",
    "    'species':'counts'\n",
    "})\n",
    "\n",
    "# p.s.: Cótipo and Topótipo are not types\n",
    "temp = temp[~(temp['type_status'].isin(['Cótipo', 'Topótipo', 'Material tipo', 'Tipo']))]"
   ]
  },
  {
   "cell_type": "code",
   "execution_count": 32,
   "metadata": {
    "ExecuteTime": {
     "end_time": "2021-02-12T01:19:19.511048Z",
     "start_time": "2021-02-12T01:19:19.499564Z"
    }
   },
   "outputs": [
    {
     "data": {
      "text/plain": [
       "array(['Alótipo', 'Holótipo', 'Lectótipo', 'Neótipo', 'Paralectótipo',\n",
       "       'Parátipo', 'Síntipo'], dtype=object)"
      ]
     },
     "execution_count": 32,
     "metadata": {},
     "output_type": "execute_result"
    }
   ],
   "source": [
    "temp['type_status'].unique()"
   ]
  },
  {
   "cell_type": "markdown",
   "metadata": {},
   "source": [
    "### Gráf. de Tipos"
   ]
  },
  {
   "cell_type": "code",
   "execution_count": 34,
   "metadata": {
    "ExecuteTime": {
     "end_time": "2021-02-12T01:19:27.543184Z",
     "start_time": "2021-02-12T01:19:27.525273Z"
    }
   },
   "outputs": [],
   "source": [
    "tipo = alt.Chart(temp, height=150, title='Types per year').mark_circle().encode(\n",
    "    x = alt.X('start_year:O', title='Sampling Year'),\n",
    "    y = alt.Y('type_status:N', title= 'Type',\n",
    "              sort=alt.EncodingSortField('counts', op='sum', order='descending')),\n",
    "    color= alt.Color('family:N', title='Family',\n",
    "                     scale=alt.Scale(domain=list(cores_familia_naive.keys()), \n",
    "                                     range=list(cores_familia_naive.values())),\n",
    "                     legend= alt.Legend(columns=6, symbolLimit=102,\n",
    "                                       direction='horizontal', orient='bottom')), \n",
    "    size= alt.Size('counts'),\n",
    "    order= alt.Order('counts', sort='descending'),  # smaller points in front\n",
    "    tooltip= [alt.Tooltip('type_status', title='type'),\n",
    "              alt.Tooltip('start_year', title='start year'),\n",
    "              alt.Tooltip('counts', title='counts')]\n",
    ")\n",
    "\n",
    "tipo = tipo.configure_title(fontSize=16).configure_axis(\n",
    "    labelFontSize=12,\n",
    "    titleFontSize=12\n",
    ").configure_legend(\n",
    "    labelFontSize=12,\n",
    "    titleFontSize=12\n",
    ")\n",
    "\n",
    "# tipo.save('./graphs/tipo/tipos_por_ano-colors_per_family.html')\n",
    "\n",
    "# tipo"
   ]
  },
  {
   "cell_type": "markdown",
   "metadata": {},
   "source": [
    "## Types per Genus \n",
    "\n",
    "same graph as above, with gender on Y axis and colored by type"
   ]
  },
  {
   "cell_type": "code",
   "execution_count": 35,
   "metadata": {
    "ExecuteTime": {
     "end_time": "2021-02-12T01:19:29.120964Z",
     "start_time": "2021-02-12T01:19:29.055201Z"
    }
   },
   "outputs": [],
   "source": [
    "# subsetting\n",
    "teste = NewTable[['min_depth','family','infraorder', 'start_year', 'qualifier', 'catalog_number', \n",
    "                  'genus', 'species', 'type_status']].copy()\n",
    "\n",
    "# grouping by type, year and order\n",
    "temp = teste.groupby(['type_status','start_year', 'genus', 'family']).count()['infraorder'].reset_index().rename(columns={\n",
    "    'infraorder':'counts'\n",
    "})\n",
    "\n",
    "# p.s.: Cótipo and Topótipo are not types\n",
    "temp = temp[~(temp['type_status'].isin(['Cótipo', 'Topótipo', 'Material tipo', 'Tipo']))]"
   ]
  },
  {
   "cell_type": "code",
   "execution_count": 36,
   "metadata": {
    "ExecuteTime": {
     "end_time": "2021-02-12T01:19:31.548810Z",
     "start_time": "2021-02-12T01:19:31.544828Z"
    }
   },
   "outputs": [],
   "source": [
    "cores_padrao = ['#e45756', '#4c78a8', '#f58518']\n",
    "tipos = ['Holotype', 'Paratype', 'Neotype']"
   ]
  },
  {
   "cell_type": "code",
   "execution_count": 38,
   "metadata": {
    "ExecuteTime": {
     "end_time": "2021-02-12T01:19:37.193108Z",
     "start_time": "2021-02-12T01:19:37.162384Z"
    }
   },
   "outputs": [],
   "source": [
    "tipo = alt.Chart(temp, height=1000, width= 400, title='Types per Genus').mark_point(filled=False).encode(\n",
    "    x = alt.X('start_year:O', title='Sampling Year'),\n",
    "    y = alt.Y('genus:N', title= 'Genus',\n",
    "              sort=alt.EncodingSortField('counts', op='count', order='descending')),\n",
    "    color= alt.Color('family:N', title='Family',\n",
    "                    scale= alt.Scale(domain=list(cores_familia_naive.keys()),\n",
    "                                     range=list(cores_familia_naive.values())),\n",
    "                    legend= alt.Legend(columns=3, symbolLimit=102, symbolType= 'circle')), \n",
    "    size= alt.Size('counts', scale= alt.Scale(range=[10,500]),\n",
    "                   legend= alt.Legend(columns=5)),\n",
    "    order= alt.Order('counts', sort='descending'),  # smaller points in front\n",
    "    shape= alt.Shape('type_status:N', title='Type', legend=alt.Legend(columns=5)), \n",
    "#                     scale= alt.Scale(domain=['Holotype', 'Neotype','Paratype'],\n",
    "#                                      range=['triangle', 'square', 'circle'])),\n",
    "#     opacity= alt.Opacity('type:N', scale= alt.Scale(domain=['Holotype', 'Neotype','Paratype'],\n",
    "#                                                      range=[1, 0.5, 1])),\n",
    "    tooltip= [alt.Tooltip('type_status', title='type'),\n",
    "              alt.Tooltip('start_year', title='start year'),\n",
    "              alt.Tooltip('counts', title='counts')]\n",
    ")\n",
    "\n",
    "tipo = tipo.configure_title(fontSize=16).configure_axis(\n",
    "    labelFontSize=12,\n",
    "    titleFontSize=12\n",
    ").configure_legend(\n",
    "    labelFontSize=12,\n",
    "    titleFontSize=12\n",
    ")\n",
    "\n",
    "# tipo.save('./graphs/tipo/tipos_por_genero.html')\n",
    "\n",
    "# tipo"
   ]
  },
  {
   "cell_type": "code",
   "execution_count": 39,
   "metadata": {
    "ExecuteTime": {
     "end_time": "2021-02-12T01:19:43.581408Z",
     "start_time": "2021-02-12T01:19:43.386601Z"
    }
   },
   "outputs": [],
   "source": [
    "genus_order = list(temp.groupby(['genus']).min()['start_year'].reset_index().sort_values('start_year')['genus'])"
   ]
  },
  {
   "cell_type": "code",
   "execution_count": 45,
   "metadata": {
    "ExecuteTime": {
     "end_time": "2021-02-12T01:21:10.914276Z",
     "start_time": "2021-02-12T01:21:10.887167Z"
    }
   },
   "outputs": [],
   "source": [
    "tipo = alt.Chart(temp, height=1000, width= 400, title='Types per Genus').mark_point(filled=False).encode(\n",
    "    x = alt.X('start_year:O', title='Sampling Year'),\n",
    "    y = alt.Y('genus:N', title= 'Genus',\n",
    "              sort=genus_order),\n",
    "    color= alt.Color('family:N', title='Family',\n",
    "                    scale= alt.Scale(domain=list(cores_familia_naive.keys()),\n",
    "                                     range=list(cores_familia_naive.values())),\n",
    "                    legend= alt.Legend(columns=3, symbolLimit=102, symbolType= 'circle')), \n",
    "    size= alt.Size('counts', scale= alt.Scale(range=[10,500]),\n",
    "                   legend= alt.Legend(columns=5)),\n",
    "    order= alt.Order('counts', sort='descending'),  # smaller points in front\n",
    "    shape= alt.Shape('type_status:N', title='Type', legend=alt.Legend(columns=5)), \n",
    "#                     scale= alt.Scale(domain=['Holotype', 'Neotype','Paratype'],\n",
    "#                                      range=['triangle', 'square', 'circle'])),\n",
    "#     opacity= alt.Opacity('type:N', scale= alt.Scale(domain=['Holotype', 'Neotype','Paratype'],\n",
    "#                                                      range=[1, 0.5, 1])),\n",
    "    tooltip= [alt.Tooltip('type_status', title='type'),\n",
    "              alt.Tooltip('start_year', title='start year'),\n",
    "              alt.Tooltip('counts', title='counts')]\n",
    ")\n",
    "\n",
    "tipo = tipo.configure_title(fontSize=16).configure_axis(\n",
    "    labelFontSize=12,\n",
    "    titleFontSize=12\n",
    ").configure_legend(\n",
    "    labelFontSize=12,\n",
    "    titleFontSize=12\n",
    ")\n",
    "\n",
    "# tipo.save('./graphs/tipo/tipos_por_genero-primeiro_ano.html')\n",
    "\n",
    "# tipo"
   ]
  },
  {
   "cell_type": "markdown",
   "metadata": {},
   "source": [
    "## Types per determiner"
   ]
  },
  {
   "cell_type": "code",
   "execution_count": 69,
   "metadata": {
    "ExecuteTime": {
     "end_time": "2021-02-12T01:36:40.806741Z",
     "start_time": "2021-02-12T01:36:40.775451Z"
    }
   },
   "outputs": [],
   "source": [
    "# subsetting\n",
    "teste = NewTable[['min_depth','family','order', 'start_year', 'qualifier', 'catalog_number', \n",
    "                  'determiner_full_name', 'species', 'type_status']].copy()\n",
    "\n",
    "# grouping by type, year and order\n",
    "temp = teste.groupby(['type_status','start_year', 'determiner_full_name', 'family']).count()['order'].reset_index().rename(columns={\n",
    "    'order':'counts'\n",
    "})\n",
    "\n",
    "# p.s.: Cótipo and Topótipo are not types\n",
    "temp = temp[~(temp['type_status'].isin(['Cótipo', 'Topótipo', 'Material tipo', 'Tipo']))]"
   ]
  },
  {
   "cell_type": "code",
   "execution_count": 70,
   "metadata": {
    "ExecuteTime": {
     "end_time": "2021-02-12T01:36:41.178076Z",
     "start_time": "2021-02-12T01:36:41.093152Z"
    }
   },
   "outputs": [],
   "source": [
    "determiner_order = list(temp.groupby(['determiner_full_name']).min(\n",
    "    )['start_year'].reset_index().sort_values('start_year')['determiner_full_name'])"
   ]
  },
  {
   "cell_type": "code",
   "execution_count": 73,
   "metadata": {
    "ExecuteTime": {
     "end_time": "2021-02-12T01:36:50.131708Z",
     "start_time": "2021-02-12T01:36:50.093981Z"
    }
   },
   "outputs": [],
   "source": [
    "tipo = alt.Chart(temp, height=800, width= 500, title='Types per Determiner').mark_point(filled=False).encode(\n",
    "    x = alt.X('start_year:O', title='Sampling Year'),\n",
    "    y = alt.Y('determiner_full_name:N', title= 'Determiner',\n",
    "              sort=determiner_order),\n",
    "    color= alt.Color('family:N', title='Family',\n",
    "                    scale= alt.Scale(domain=list(cores_familia_naive.keys()), \n",
    "                                     range=list(cores_familia_naive.values())),\n",
    "                    legend= alt.Legend(columns=3, symbolLimit=102)), \n",
    "    size= alt.Size('counts:Q', scale=alt.Scale(range=[10,500]),\n",
    "                   legend= alt.Legend(columns=5)),\n",
    "    order= alt.Order('counts', sort='descending'),  # smaller points in front\n",
    "    shape= alt.Shape('type_status:N', title='Type',\n",
    "                    legend= alt.Legend(columns=5)), \n",
    "#                     scale= alt.Scale(domain=['Holotype', 'Neotype','Paratype'],\n",
    "#                                      range=['triangle', 'square', 'circle'])),\n",
    "#     opacity= alt.Opacity('type_status:N', scale= alt.Scale(domain=['Holotype', 'Neotype','Paratype'],\n",
    "#                                                      range=[1, 0.5, 1])),\n",
    "    tooltip= [alt.Tooltip('determiner_full_name', title='Determiner'),\n",
    "              alt.Tooltip('type_status', title='type'),\n",
    "              alt.Tooltip('start_year', title='start year'),\n",
    "              alt.Tooltip('counts', title='counts')]\n",
    ")\n",
    "\n",
    "tipo = tipo.configure_title(fontSize=16).configure_axis(\n",
    "    labelFontSize=12,\n",
    "    titleFontSize=12\n",
    ").configure_legend(\n",
    "    labelFontSize=12,\n",
    "    titleFontSize=12\n",
    ")\n",
    "\n",
    "# tipo.save('./graphs/tipo/tipos_por_determinador-primeiro_ano.html')\n",
    "\n",
    "# tipo"
   ]
  },
  {
   "cell_type": "markdown",
   "metadata": {},
   "source": [
    "## Types per family"
   ]
  },
  {
   "cell_type": "code",
   "execution_count": 74,
   "metadata": {
    "ExecuteTime": {
     "end_time": "2021-02-12T01:36:59.959384Z",
     "start_time": "2021-02-12T01:36:59.904242Z"
    }
   },
   "outputs": [],
   "source": [
    "# subsetting\n",
    "teste = NewTable[['min_depth','family','order', 'start_year', 'qualifier', 'catalog_number', \n",
    "                  'genus', 'species', 'type_status']].copy()\n",
    "\n",
    "# grouping by type, year and order\n",
    "temp = teste.groupby(['type_status','start_year', 'family', 'order']).count()['genus'].reset_index().rename(columns={\n",
    "    'genus':'counts'\n",
    "})\n",
    "\n",
    "# p.s.: Cótipo and Topótipo are not types\n",
    "temp = temp[~(temp['type_status'].isin(['Cótipo', 'Topótipo', 'Material tipo', 'Tipo']))]"
   ]
  },
  {
   "cell_type": "code",
   "execution_count": 75,
   "metadata": {
    "ExecuteTime": {
     "end_time": "2021-02-12T01:37:00.527084Z",
     "start_time": "2021-02-12T01:37:00.433725Z"
    }
   },
   "outputs": [],
   "source": [
    "family_order = list(temp.groupby(['family']).min(\n",
    "    )['start_year'].reset_index().sort_values('start_year')['family'])"
   ]
  },
  {
   "cell_type": "code",
   "execution_count": 79,
   "metadata": {
    "ExecuteTime": {
     "end_time": "2021-02-12T01:37:23.048171Z",
     "start_time": "2021-02-12T01:37:23.017434Z"
    }
   },
   "outputs": [],
   "source": [
    "tipo = alt.Chart(temp, height=800, width= 500, title='Types per Family').mark_point(filled=False).encode(\n",
    "    x = alt.X('start_year:O', title='Sampling Year'),\n",
    "    y = alt.Y('family:N', title= 'Family',\n",
    "              sort=determiner_order),\n",
    "    color= alt.Color('family:N', title='Family',\n",
    "                    scale= alt.Scale(domain=list(cores_familia_naive.keys()), \n",
    "                                     range=list(cores_familia_naive.values())),\n",
    "                    legend= alt.Legend(columns=3, symbolLimit=102)), \n",
    "    size= alt.Size('counts:Q', scale=alt.Scale(range=[10,500]),\n",
    "                   legend= alt.Legend(columns=5)),\n",
    "    order= alt.Order('counts', sort='descending'),  # smaller points in front\n",
    "    shape= alt.Shape('type_status:N', title='Type',\n",
    "                    legend= alt.Legend(columns=5)), \n",
    "#                     scale= alt.Scale(domain=['Holotype', 'Neotype','Paratype'],\n",
    "#                                      range=['triangle', 'square', 'circle'])),\n",
    "#     opacity= alt.Opacity('type_status:N', scale= alt.Scale(domain=['Holotype', 'Neotype','Paratype'],\n",
    "#                                                      range=[1, 0.5, 1])),\n",
    "    tooltip= [alt.Tooltip('family', title='Family'),\n",
    "              alt.Tooltip('type_status', title='type'),\n",
    "              alt.Tooltip('start_year', title='start year'),\n",
    "              alt.Tooltip('counts', title='counts')]\n",
    ")\n",
    "\n",
    "tipo = tipo.configure_title(fontSize=16).configure_axis(\n",
    "    labelFontSize=12,\n",
    "    titleFontSize=12\n",
    ").configure_legend(\n",
    "    labelFontSize=12,\n",
    "    titleFontSize=12\n",
    ")\n",
    "\n",
    "# tipo.save('./graphs/tipo/tipos_por_familia.html')\n",
    "\n",
    "# tipo"
   ]
  },
  {
   "cell_type": "markdown",
   "metadata": {},
   "source": [
    "<br>\n",
    "\n",
    "**The end!**\n",
    "\n",
    "-----"
   ]
  }
 ],
 "metadata": {
  "kernelspec": {
   "display_name": "Python 3",
   "language": "python",
   "name": "python3"
  },
  "language_info": {
   "codemirror_mode": {
    "name": "ipython",
    "version": 3
   },
   "file_extension": ".py",
   "mimetype": "text/x-python",
   "name": "python",
   "nbconvert_exporter": "python",
   "pygments_lexer": "ipython3",
   "version": "3.9.1"
  },
  "latex_envs": {
   "LaTeX_envs_menu_present": true,
   "autoclose": false,
   "autocomplete": true,
   "bibliofile": "biblio.bib",
   "cite_by": "apalike",
   "current_citInitial": 1,
   "eqLabelWithNumbers": true,
   "eqNumInitial": 1,
   "hotkeys": {
    "equation": "Ctrl-E",
    "itemize": "Ctrl-I"
   },
   "labels_anchors": false,
   "latex_user_defs": false,
   "report_style_numbering": false,
   "user_envs_cfg": false
  },
  "toc": {
   "base_numbering": 1,
   "nav_menu": {},
   "number_sections": false,
   "sideBar": true,
   "skip_h1_title": false,
   "title_cell": "Table of Contents",
   "title_sidebar": "Contents",
   "toc_cell": false,
   "toc_position": {},
   "toc_section_display": true,
   "toc_window_display": false
  },
  "varInspector": {
   "cols": {
    "lenName": 16,
    "lenType": 16,
    "lenVar": 40
   },
   "kernels_config": {
    "python": {
     "delete_cmd_postfix": "",
     "delete_cmd_prefix": "del ",
     "library": "var_list.py",
     "varRefreshCmd": "print(var_dic_list())"
    },
    "r": {
     "delete_cmd_postfix": ") ",
     "delete_cmd_prefix": "rm(",
     "library": "var_list.r",
     "varRefreshCmd": "cat(var_dic_list()) "
    }
   },
   "position": {
    "height": "391.35px",
    "left": "900.5px",
    "right": "20px",
    "top": "96px",
    "width": "536.5px"
   },
   "types_to_exclude": [
    "module",
    "function",
    "builtin_function_or_method",
    "instance",
    "_Feature"
   ],
   "window_display": false
  }
 },
 "nbformat": 4,
 "nbformat_minor": 2
}
