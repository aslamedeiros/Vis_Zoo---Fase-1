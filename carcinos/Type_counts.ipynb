{
 "cells": [
  {
   "cell_type": "markdown",
   "metadata": {},
   "source": [
    "# Type charts\n",
    "\n",
    "By **Franklin Oliveira**\n",
    "\n",
    "-----\n",
    "This notebook contains all code necessary to make the \"type\" charts from `carcinos` database. Here you'll find some basic data treatment and charts' code. \n",
    "\n",
    "Database: <font color='blue'>'Planilha geral Atualizada FINAL 5_GERAL_sendo trabalhada no Google drive.xlsx'</font>"
   ]
  },
  {
   "cell_type": "code",
   "execution_count": 20,
   "metadata": {
    "ExecuteTime": {
     "end_time": "2021-02-13T13:12:52.767683Z",
     "start_time": "2021-02-13T13:12:52.755066Z"
    }
   },
   "outputs": [
    {
     "data": {
      "text/plain": [
       "DataTransformerRegistry.enable('default')"
      ]
     },
     "execution_count": 20,
     "metadata": {},
     "output_type": "execute_result"
    }
   ],
   "source": [
    "import datetime\n",
    "import numpy as np\n",
    "import pandas as pd\n",
    "\n",
    "from collections import defaultdict\n",
    "\n",
    "# pacotes para visualização rápida\n",
    "import seaborn as sns\n",
    "import matplotlib.pyplot as plt\n",
    "\n",
    "# pacote para visualização principal\n",
    "import altair as alt\n",
    "\n",
    "# habilitando renderizador para notebook\n",
    "# alt.renderers.enable('notebook')\n",
    "alt.renderers.enable('default')\n",
    "\n",
    "\n",
    "# desabilitando limite de linhas\n",
    "alt.data_transformers.disable_max_rows()"
   ]
  },
  {
   "cell_type": "markdown",
   "metadata": {},
   "source": [
    "## Importing data..."
   ]
  },
  {
   "cell_type": "code",
   "execution_count": 21,
   "metadata": {
    "ExecuteTime": {
     "end_time": "2021-02-13T13:12:53.436728Z",
     "start_time": "2021-02-13T13:12:52.770271Z"
    }
   },
   "outputs": [],
   "source": [
    "NewTable = pd.read_csv('./data/treated_db.csv', sep=';', encoding='utf-8-sig', low_memory=False)"
   ]
  },
  {
   "cell_type": "markdown",
   "metadata": {},
   "source": [
    "## Filtering\n",
    "\n",
    "At least for now, we'll be considering only specimens of order decapoda (deeply revised by the Museum's crew)"
   ]
  },
  {
   "cell_type": "code",
   "execution_count": 22,
   "metadata": {
    "ExecuteTime": {
     "end_time": "2021-02-13T13:12:53.455866Z",
     "start_time": "2021-02-13T13:12:53.438864Z"
    }
   },
   "outputs": [],
   "source": [
    "decapoda = NewTable[NewTable['order'] == 'Decapoda'].copy()"
   ]
  },
  {
   "cell_type": "markdown",
   "metadata": {},
   "source": [
    "<font color='red'>**p.s.:** parsing column type_status into string to make selectors work appropriately </font>"
   ]
  },
  {
   "cell_type": "code",
   "execution_count": 23,
   "metadata": {
    "ExecuteTime": {
     "end_time": "2021-02-13T13:12:53.520943Z",
     "start_time": "2021-02-13T13:12:53.457673Z"
    }
   },
   "outputs": [],
   "source": [
    "decapoda['type_status'] = decapoda['type_status'].astype(str)"
   ]
  },
  {
   "cell_type": "markdown",
   "metadata": {},
   "source": [
    "<br>\n",
    "\n",
    "<font size=5>**Color palette**</font>\n",
    "\n",
    "Colors (per infraorder): \n",
    "\n",
    "- <font color='#e26d67'><b>Ascacidae</b></font>\n",
    "- <font color='#007961'><b>Anomura</b></font>\n",
    "- <font color='#7a2c39'><b>Achelata</b></font>\n",
    "- <font color='#b67262'><b>Axiidea</b></font>\n",
    "- <font color='#ee4454'><b>Brachyura</b></font>\n",
    "- <font color='#3330b7'><b>Caridea</b></font>\n",
    "- <font color='#58b5e1'><b>Gebiidea</b></font>\n",
    "- <font color='#b8e450'><b>Stenopodídea</b></font>\n",
    "- <font color='#a0a3fd'><b>Astacidae</b></font>\n",
    "- <font color='#deae9e'><b>Polychelida</b></font>\n",
    "- <font color='#d867be'><b>Grapsidae</b></font>\n",
    "- <font color='#fece5f'><b>Xanthoidea</b></font>"
   ]
  },
  {
   "cell_type": "code",
   "execution_count": 24,
   "metadata": {
    "ExecuteTime": {
     "end_time": "2021-02-13T13:12:53.561349Z",
     "start_time": "2021-02-13T13:12:53.523739Z"
    }
   },
   "outputs": [],
   "source": [
    "# importing customized color palettes\n",
    "from src.MNViz_colors import *"
   ]
  },
  {
   "cell_type": "markdown",
   "metadata": {},
   "source": [
    "<br>\n",
    "\n",
    "\n",
    "## Graphs\n",
    "\n",
    "---\n",
    "\n",
    "### Types (*per year*) per genus\n",
    "\n",
    "x: Species1, cor: Type Status1, size: counts"
   ]
  },
  {
   "cell_type": "code",
   "execution_count": 25,
   "metadata": {
    "ExecuteTime": {
     "end_time": "2021-02-13T13:12:53.633788Z",
     "start_time": "2021-02-13T13:12:53.563293Z"
    }
   },
   "outputs": [
    {
     "data": {
      "text/plain": [
       "nan              8195\n",
       "Parátipo           78\n",
       "Holótipo           33\n",
       "Paralectótipo       6\n",
       "Alótipo             3\n",
       "Lectótipo           2\n",
       "Síntipo             2\n",
       "Topótipo            2\n",
       "Neótipo             1\n",
       "Material tipo       1\n",
       "Name: type_status, dtype: int64"
      ]
     },
     "execution_count": 25,
     "metadata": {},
     "output_type": "execute_result"
    }
   ],
   "source": [
    "# p.s.: the large majority is non-type\n",
    "decapoda['type_status'].value_counts()"
   ]
  },
  {
   "cell_type": "code",
   "execution_count": 26,
   "metadata": {
    "ExecuteTime": {
     "end_time": "2021-02-13T13:12:53.695036Z",
     "start_time": "2021-02-13T13:12:53.639545Z"
    }
   },
   "outputs": [],
   "source": [
    "# subsetting\n",
    "teste = decapoda[['min_depth','family','order', 'start_year', 'qualifier', 'catalog_number', \n",
    "                  'genus', 'species', 'type_status']].copy()\n",
    "\n",
    "# grouping by type, year and order\n",
    "temp = teste.groupby(['type_status','start_year', 'family']).count()['species'].reset_index().rename(columns={\n",
    "    'species':'counts'\n",
    "})\n",
    "\n",
    "# p.s.: Cótipo, Co-tipo, Material tipo and Tipo are not types\n",
    "temp = temp[~(temp['type_status'].isin(['Cótipo', 'Material tipo', 'Tipo', 'Co-tipo']))]"
   ]
  },
  {
   "cell_type": "code",
   "execution_count": 27,
   "metadata": {
    "ExecuteTime": {
     "end_time": "2021-02-13T13:12:53.753323Z",
     "start_time": "2021-02-13T13:12:53.697119Z"
    }
   },
   "outputs": [
    {
     "data": {
      "text/plain": [
       "array(['Alótipo', 'Holótipo', 'Lectótipo', 'Neótipo', 'Paralectótipo',\n",
       "       'Parátipo', 'Síntipo', 'Topótipo', 'nan'], dtype=object)"
      ]
     },
     "execution_count": 27,
     "metadata": {},
     "output_type": "execute_result"
    }
   ],
   "source": [
    "temp['type_status'].unique()"
   ]
  },
  {
   "cell_type": "markdown",
   "metadata": {},
   "source": [
    "### Gráf. de Tipos"
   ]
  },
  {
   "cell_type": "code",
   "execution_count": 28,
   "metadata": {
    "ExecuteTime": {
     "end_time": "2021-02-13T13:12:53.803390Z",
     "start_time": "2021-02-13T13:12:53.757141Z"
    }
   },
   "outputs": [],
   "source": [
    "tipo = alt.Chart(temp, height=150, title='Tipos por ano').mark_circle().encode(\n",
    "    x = alt.X('start_year:O', title='Ano de Coleta'),\n",
    "    y = alt.Y('type_status:N', title= 'Type',\n",
    "              sort=alt.EncodingSortField('counts', op='sum', order='descending')),\n",
    "    color= alt.Color('family:N', title='Família',\n",
    "                     scale=alt.Scale(domain=list(cores_familia_naive.keys()), \n",
    "                                     range=list(cores_familia_naive.values())),\n",
    "                     legend= alt.Legend(columns=8, symbolLimit=102,\n",
    "                                       direction='horizontal', orient='bottom')), \n",
    "    size= alt.Size('counts', title='Contagem',\n",
    "                   legend= alt.Legend(columns=10, orient='bottom')),\n",
    "    order= alt.Order('counts', sort='descending'),  # smaller points in front\n",
    "    tooltip= [alt.Tooltip('type_status', title='Tipo'),\n",
    "              alt.Tooltip('start_year', title='Ano de Coleta'),\n",
    "              alt.Tooltip('counts', title='Contagem')]\n",
    ")\n",
    "\n",
    "tipo = tipo.configure_title(fontSize=16).configure_axis(\n",
    "    labelFontSize=12,\n",
    "    titleFontSize=12\n",
    ").configure_legend(\n",
    "    labelFontSize=12,\n",
    "    titleFontSize=12\n",
    ")\n",
    "\n",
    "# tipo.save('./graphs/tipo/tipos_por_ano-colors_per_family.html')\n",
    "# tipo"
   ]
  },
  {
   "cell_type": "markdown",
   "metadata": {},
   "source": [
    "## Types per Genus \n",
    "\n",
    "same graph as above, with gender on Y axis and colored by type"
   ]
  },
  {
   "cell_type": "code",
   "execution_count": 29,
   "metadata": {
    "ExecuteTime": {
     "end_time": "2021-02-13T13:12:53.876311Z",
     "start_time": "2021-02-13T13:12:53.805070Z"
    }
   },
   "outputs": [],
   "source": [
    "# subsetting\n",
    "teste = decapoda[['min_depth','family','infraorder', 'start_year', 'qualifier', 'catalog_number', \n",
    "                  'genus', 'species', 'type_status']].copy()\n",
    "\n",
    "# grouping by type, year and order\n",
    "temp = teste.groupby(['type_status','start_year', 'genus', 'family']).count()['infraorder'].reset_index().rename(columns={\n",
    "    'infraorder':'counts'\n",
    "})\n",
    "\n",
    "# p.s.: Cótipo, Co-tipo, Material tipo and Tipo are not types\n",
    "temp = temp[~(temp['type_status'].isin(['Cótipo', 'Material tipo', 'Tipo', 'Co-tipo']))]"
   ]
  },
  {
   "cell_type": "code",
   "execution_count": 30,
   "metadata": {
    "ExecuteTime": {
     "end_time": "2021-02-13T13:12:53.940653Z",
     "start_time": "2021-02-13T13:12:53.878371Z"
    }
   },
   "outputs": [],
   "source": [
    "select_type = alt.selection_multi(fields= ['type_status'], bind='legend')\n",
    "select_family = alt.selection_multi(fields= ['family'], bind='legend')\n",
    "\n",
    "# filtering out non types\n",
    "db = temp[temp['type_status'] != 'nan']\n",
    "\n",
    "# encoding labels\n",
    "x_labels = db.sort_values('start_year')['start_year'].unique()\n",
    "y_labels = db['genus'].unique()\n",
    "types = db['type_status'].unique()\n",
    "counts = db['counts'].unique()\n",
    "families = db['family'].unique()\n",
    "\n",
    "tipo = alt.Chart(db, height=700, width= 400, title='Tipos por Gênero').mark_point(filled=False).encode(\n",
    "    x = alt.X('start_year:O', title='Ano de Coleta',\n",
    "              scale= alt.Scale(domain=x_labels)),\n",
    "    y = alt.Y('genus:N', title= 'Gênero',\n",
    "              sort=alt.EncodingSortField('counts', op='count', order='descending'),\n",
    "              scale= alt.Scale(domain=y_labels)),\n",
    "    color= alt.Color('family:N', title='Família',\n",
    "                    scale= alt.Scale(domain=list(cores_familia_naive.keys()),\n",
    "                                     range=list(cores_familia_naive.values())),\n",
    "                    legend= alt.Legend(columns=3, symbolLimit=102, symbolType= 'circle')), \n",
    "    size= alt.Size('counts', title= 'Contagem',scale= alt.Scale(domain= counts, range=[10,100]),\n",
    "                   legend= alt.Legend(columns=6)),\n",
    "    order= alt.Order('counts', title='Contagem', sort='descending'),  # smaller points in front\n",
    "    shape= alt.Shape('type_status:N', title='Tipos', legend=alt.Legend(columns=5),\n",
    "                     scale= alt.Scale(domain= types)), \n",
    "    tooltip= [alt.Tooltip('type_status', title='Tipo'),\n",
    "              alt.Tooltip('start_year', title='Ano de Coleta'),\n",
    "              alt.Tooltip('counts', title='Contagem')]\n",
    ").add_selection(select_type, select_family).transform_filter(select_type).transform_filter(select_family)\n",
    "\n",
    "tipo = tipo.configure_title(fontSize=16).configure_axis(\n",
    "    labelFontSize=12,\n",
    "    titleFontSize=12\n",
    ").configure_legend(\n",
    "    labelFontSize=12,\n",
    "    titleFontSize=12\n",
    ")\n",
    "\n",
    "# tipo.save('./graphs/tipo/tipos_por_genero.html')\n",
    "# tipo"
   ]
  },
  {
   "cell_type": "code",
   "execution_count": 31,
   "metadata": {
    "ExecuteTime": {
     "end_time": "2021-02-13T13:12:54.129046Z",
     "start_time": "2021-02-13T13:12:53.942431Z"
    }
   },
   "outputs": [],
   "source": [
    "genus_order = list(temp.groupby(['genus']).min()['start_year'].reset_index().sort_values('start_year')['genus'])"
   ]
  },
  {
   "cell_type": "code",
   "execution_count": 32,
   "metadata": {
    "ExecuteTime": {
     "end_time": "2021-02-13T13:12:54.186886Z",
     "start_time": "2021-02-13T13:12:54.131204Z"
    }
   },
   "outputs": [],
   "source": [
    "select_type = alt.selection_multi(fields= ['type_status'], bind='legend')\n",
    "select_family = alt.selection_multi(fields= ['family'], bind='legend')\n",
    "\n",
    "# filtering out non types\n",
    "db = temp[temp['type_status'] != 'nan'].sort_values('start_year')\n",
    "\n",
    "# encoding labels\n",
    "x_labels = db['start_year'].unique()\n",
    "y_labels = db['genus'].unique()\n",
    "types = db['type_status'].unique()\n",
    "counts = db['counts'].unique()\n",
    "families = db['family'].unique()\n",
    "\n",
    "tipo = alt.Chart(db, height=700, width= 400, title='Tipos por Gênero').mark_point(filled=False).encode(\n",
    "    x = alt.X('start_year:O', title='Ano de Coleta',\n",
    "              scale= alt.Scale(domain=x_labels)),\n",
    "    y = alt.Y('genus:N', title= 'Gênero',\n",
    "              sort=genus_order,\n",
    "              scale= alt.Scale(domain=y_labels)),\n",
    "    color= alt.Color('family:N', title='Família',\n",
    "                    scale= alt.Scale(domain=list(cores_familia_naive.keys()),\n",
    "                                     range=list(cores_familia_naive.values())),\n",
    "                    legend= alt.Legend(columns=3, symbolLimit=102, symbolType= 'circle')), \n",
    "    size= alt.Size('counts', title='Contagem', scale= alt.Scale(domain= counts, range=[10,100]),\n",
    "                   legend= alt.Legend(columns=6)),\n",
    "    order= alt.Order('counts', sort='descending'),  # smaller points in front\n",
    "    shape= alt.Shape('type_status:N', title='Tipos', legend=alt.Legend(columns=5),\n",
    "                     scale= alt.Scale(domain= types)), \n",
    "    tooltip= [alt.Tooltip('type_status', title='Tipo'),\n",
    "              alt.Tooltip('start_year', title='Ano de Coleta'),\n",
    "              alt.Tooltip('counts', title='Contagem')]\n",
    ").add_selection(select_type, select_family).transform_filter(select_type).transform_filter(select_family)\n",
    "\n",
    "tipo = tipo.configure_title(fontSize=16).configure_axis(\n",
    "    labelFontSize=12,\n",
    "    titleFontSize=12\n",
    ").configure_legend(\n",
    "    labelFontSize=12,\n",
    "    titleFontSize=12\n",
    ")\n",
    "\n",
    "# tipo.save('./graphs/tipo/tipos_por_genero-primeiro_ano.html')\n",
    "# tipo"
   ]
  },
  {
   "cell_type": "markdown",
   "metadata": {},
   "source": [
    "## Types per determiner"
   ]
  },
  {
   "cell_type": "code",
   "execution_count": 33,
   "metadata": {
    "ExecuteTime": {
     "end_time": "2021-02-13T13:12:54.262381Z",
     "start_time": "2021-02-13T13:12:54.189374Z"
    }
   },
   "outputs": [],
   "source": [
    "# subsetting\n",
    "teste = decapoda[['min_depth','family', 'order','infraorder', 'start_year', 'qualifier', 'catalog_number', \n",
    "                  'determiner_full_name', 'species', 'type_status']].copy()\n",
    "\n",
    "# grouping by type, year and order\n",
    "temp = teste.groupby(['type_status','start_year', 'determiner_full_name', 'family']).count()['order'].reset_index().rename(columns={\n",
    "    'order':'counts'\n",
    "})\n",
    "\n",
    "# p.s.: Cótipo, Co-tipo, Material tipo and Tipo are not types\n",
    "temp = temp[~(temp['type_status'].isin(['Cótipo', 'Material tipo', 'Tipo', 'Co-tipo']))]"
   ]
  },
  {
   "cell_type": "code",
   "execution_count": 34,
   "metadata": {
    "ExecuteTime": {
     "end_time": "2021-02-13T13:12:54.370563Z",
     "start_time": "2021-02-13T13:12:54.265063Z"
    }
   },
   "outputs": [],
   "source": [
    "determiner_order = list(temp.groupby(['determiner_full_name']).min(\n",
    "    )['start_year'].reset_index().sort_values('start_year')['determiner_full_name'])"
   ]
  },
  {
   "cell_type": "code",
   "execution_count": 35,
   "metadata": {
    "ExecuteTime": {
     "end_time": "2021-02-13T13:12:54.401727Z",
     "start_time": "2021-02-13T13:12:54.372124Z"
    }
   },
   "outputs": [],
   "source": [
    "select_type = alt.selection_multi(fields= ['type_status'], bind='legend')\n",
    "select_family = alt.selection_multi(fields= ['family'], bind='legend')\n",
    "\n",
    "# filtering out non types\n",
    "db = temp[temp['type_status'] != 'nan'].sort_values('start_year')\n",
    "\n",
    "# encoding labels\n",
    "x_labels = db.sort_values('start_year')['start_year'].unique()\n",
    "y_labels = db['determiner_full_name'].unique()\n",
    "types = db['type_status'].unique()\n",
    "counts = db['counts'].unique()\n",
    "families = db['family'].unique()\n",
    "\n",
    "tipo = alt.Chart(db, height=800, width= 500, title='Tipos por Determinador').mark_point(filled=False).encode(\n",
    "    x = alt.X('start_year:O', title='Ano de Coleta', \n",
    "             scale= alt.Scale(domain=x_labels)),\n",
    "    y = alt.Y('determiner_full_name:N', title= 'Determinador',\n",
    "              sort=determiner_order, \n",
    "              scale= alt.Scale(domain= y_labels)),\n",
    "    color= alt.Color('family:N', title='Família',\n",
    "                    scale= alt.Scale(domain=list(cores_familia_naive.keys()), \n",
    "                                     range=list(cores_familia_naive.values())),\n",
    "                    legend= alt.Legend(columns=3, symbolLimit=102)), \n",
    "    size= alt.Size('counts:Q', title='Contagem', scale=alt.Scale(domain= counts, range=[10,100]),\n",
    "                   legend= alt.Legend(columns=10)),\n",
    "    order= alt.Order('counts', sort='descending'),  # smaller points in front\n",
    "    shape= alt.Shape('type_status:N', title='Tipos',\n",
    "                    legend= alt.Legend(columns=5),\n",
    "                    scale= alt.Scale(domain=types)), \n",
    "    tooltip= [alt.Tooltip('determiner_full_name', title='Determiner'),\n",
    "              alt.Tooltip('type_status', title='Tipo'),\n",
    "              alt.Tooltip('start_year', title='Ano de Coleta'),\n",
    "              alt.Tooltip('counts', title='counts')]\n",
    ").add_selection(select_type, select_family).transform_filter(select_type).transform_filter(select_family)\n",
    "\n",
    "tipo = tipo.configure_title(fontSize=16).configure_axis(\n",
    "    labelFontSize=12,\n",
    "    titleFontSize=12\n",
    ").configure_legend(\n",
    "    labelFontSize=12,\n",
    "    titleFontSize=12\n",
    ")\n",
    "\n",
    "# tipo.save('./graphs/tipo/tipos_por_determinador-primeiro_ano.html')\n",
    "# tipo"
   ]
  },
  {
   "cell_type": "markdown",
   "metadata": {},
   "source": [
    "<br>\n",
    "\n",
    "## Types per family"
   ]
  },
  {
   "cell_type": "code",
   "execution_count": 36,
   "metadata": {
    "ExecuteTime": {
     "end_time": "2021-02-13T13:12:54.476832Z",
     "start_time": "2021-02-13T13:12:54.403488Z"
    }
   },
   "outputs": [],
   "source": [
    "# subsetting\n",
    "teste = decapoda[['min_depth','family','infraorder', 'start_year', 'qualifier', 'catalog_number', \n",
    "                  'genus', 'species', 'type_status']].copy()\n",
    "\n",
    "# grouping by type, year and order\n",
    "temp = teste.groupby(['type_status','start_year', 'family']).count()['genus'].reset_index().rename(columns={\n",
    "    'genus':'counts'\n",
    "})\n",
    "\n",
    "# p.s.: Cótipo, Co-tipo, Material tipo and Tipo are not types\n",
    "temp = temp[~(temp['type_status'].isin(['Cótipo', 'Material tipo', 'Tipo', 'Co-tipo']))]"
   ]
  },
  {
   "cell_type": "code",
   "execution_count": 37,
   "metadata": {
    "ExecuteTime": {
     "end_time": "2021-02-13T13:12:54.544378Z",
     "start_time": "2021-02-13T13:12:54.479321Z"
    }
   },
   "outputs": [],
   "source": [
    "family_order = list(temp.groupby(['family']).min(\n",
    "    )['start_year'].reset_index().sort_values('start_year')['family'])"
   ]
  },
  {
   "cell_type": "code",
   "execution_count": 38,
   "metadata": {
    "ExecuteTime": {
     "end_time": "2021-02-13T13:12:54.715779Z",
     "start_time": "2021-02-13T13:12:54.548779Z"
    }
   },
   "outputs": [],
   "source": [
    "select_type = alt.selection_multi(fields= ['type_status'], bind='legend')\n",
    "select_family = alt.selection_multi(fields= ['family'], bind='legend')\n",
    "\n",
    "# filtering out non types\n",
    "db = temp[temp['type_status'] != 'nan'].sort_values('start_year')\n",
    "\n",
    "# encoding labels\n",
    "x_labels = db.sort_values('start_year')['start_year'].unique()\n",
    "y_labels = db['family'].unique()\n",
    "types = db['type_status'].unique()\n",
    "counts = db['counts'].unique()\n",
    "counts = list(range(counts.min(), counts.max() + 1))  # adjusting for missing counts\n",
    "families = db['family'].unique()\n",
    "\n",
    "tipo = alt.Chart(db, height=800, width= 500, title='Tipos por Família').mark_point(filled=False).encode(\n",
    "    x = alt.X('start_year:O', title='Ano de Coleta',\n",
    "              scale= alt.Scale(domain=x_labels)),\n",
    "    y = alt.Y('family:N', title= 'Família',\n",
    "              sort=family_order,\n",
    "              scale= alt.Scale(domain=y_labels)),\n",
    "    color= alt.Color('family:N', title='Família',\n",
    "                    scale= alt.Scale(domain=list(cores_familia_naive.keys()), \n",
    "                                     range=list(cores_familia_naive.values())),\n",
    "                    legend= alt.Legend(columns=3, symbolLimit=102)), \n",
    "    size= alt.Size('counts:Q', title='Contagem', scale=alt.Scale(domain= counts, range=[10,140]),\n",
    "                   legend= alt.Legend(columns=10)),\n",
    "    order= alt.Order('counts', sort='descending'),  # smaller points in front\n",
    "    shape= alt.Shape('type_status:N', title='Tipos',\n",
    "                    legend= alt.Legend(columns=5),\n",
    "                    scale= alt.Scale(domain= types)), \n",
    "    tooltip= [alt.Tooltip('family', title='Família'),\n",
    "              alt.Tooltip('type_status', title='Tipo'),\n",
    "              alt.Tooltip('start_year', title='Ano de Coleta'),\n",
    "              alt.Tooltip('counts', title='Contagem')]\n",
    ").add_selection(select_type, select_family).transform_filter(select_type).transform_filter(select_family)\n",
    "\n",
    "tipo = tipo.configure_title(fontSize=16).configure_axis(\n",
    "    labelFontSize=12,\n",
    "    titleFontSize=12\n",
    ").configure_legend(\n",
    "    labelFontSize=12,\n",
    "    titleFontSize=12\n",
    ")\n",
    "\n",
    "# tipo.save('./graphs/tipo/tipos_por_familia.html')\n",
    "# tipo"
   ]
  },
  {
   "cell_type": "markdown",
   "metadata": {},
   "source": [
    "<br>\n",
    "\n",
    "**The end!**\n",
    "\n",
    "-----"
   ]
  }
 ],
 "metadata": {
  "kernelspec": {
   "display_name": "Python 3",
   "language": "python",
   "name": "python3"
  },
  "language_info": {
   "codemirror_mode": {
    "name": "ipython",
    "version": 3
   },
   "file_extension": ".py",
   "mimetype": "text/x-python",
   "name": "python",
   "nbconvert_exporter": "python",
   "pygments_lexer": "ipython3",
   "version": "3.9.1"
  },
  "latex_envs": {
   "LaTeX_envs_menu_present": true,
   "autoclose": false,
   "autocomplete": true,
   "bibliofile": "biblio.bib",
   "cite_by": "apalike",
   "current_citInitial": 1,
   "eqLabelWithNumbers": true,
   "eqNumInitial": 1,
   "hotkeys": {
    "equation": "Ctrl-E",
    "itemize": "Ctrl-I"
   },
   "labels_anchors": false,
   "latex_user_defs": false,
   "report_style_numbering": false,
   "user_envs_cfg": false
  },
  "toc": {
   "base_numbering": 1,
   "nav_menu": {},
   "number_sections": false,
   "sideBar": true,
   "skip_h1_title": false,
   "title_cell": "Table of Contents",
   "title_sidebar": "Contents",
   "toc_cell": false,
   "toc_position": {},
   "toc_section_display": true,
   "toc_window_display": false
  },
  "varInspector": {
   "cols": {
    "lenName": 16,
    "lenType": 16,
    "lenVar": 40
   },
   "kernels_config": {
    "python": {
     "delete_cmd_postfix": "",
     "delete_cmd_prefix": "del ",
     "library": "var_list.py",
     "varRefreshCmd": "print(var_dic_list())"
    },
    "r": {
     "delete_cmd_postfix": ") ",
     "delete_cmd_prefix": "rm(",
     "library": "var_list.r",
     "varRefreshCmd": "cat(var_dic_list()) "
    }
   },
   "position": {
    "height": "391.35px",
    "left": "900.5px",
    "right": "20px",
    "top": "96px",
    "width": "536.5px"
   },
   "types_to_exclude": [
    "module",
    "function",
    "builtin_function_or_method",
    "instance",
    "_Feature"
   ],
   "window_display": false
  }
 },
 "nbformat": 4,
 "nbformat_minor": 2
}
