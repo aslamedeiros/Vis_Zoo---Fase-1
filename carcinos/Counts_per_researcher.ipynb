{
 "cells": [
  {
   "cell_type": "markdown",
   "metadata": {},
   "source": [
    "# Counts per researcher\n",
    "\n",
    "By **Franklin Oliveira**\n",
    "\n",
    "-----\n",
    "This notebook contains all code necessary to make charts from `carcinos` database with focus on time and space exploration. Here you'll find some basic data treatment and charts' code. \n",
    "\n",
    "Database: <font color='blue'>'Planilha geral Atualizada FINAL 5_GERAL_sendo trabalhada no Google drive.xlsx'</font>\n"
   ]
  },
  {
   "cell_type": "code",
   "execution_count": 1,
   "metadata": {
    "ExecuteTime": {
     "end_time": "2021-02-13T23:35:19.903137Z",
     "start_time": "2021-02-13T23:35:14.392478Z"
    }
   },
   "outputs": [
    {
     "data": {
      "text/plain": [
       "DataTransformerRegistry.enable('default')"
      ]
     },
     "execution_count": 1,
     "metadata": {},
     "output_type": "execute_result"
    }
   ],
   "source": [
    "import datetime\n",
    "import numpy as np\n",
    "import pandas as pd\n",
    "\n",
    "from collections import defaultdict\n",
    "\n",
    "# quick visualization\n",
    "import matplotlib.pyplot as plt\n",
    "import seaborn as sns\n",
    "\n",
    "# Waffle Charts\n",
    "# from pywaffle import Waffle \n",
    "# docs: https://pywaffle.readthedocs.io/en/latest/examples/block_shape_distance_location_and_direction.html\n",
    "\n",
    "# visualization\n",
    "import altair as alt\n",
    "\n",
    "# enabling notebook renderer\n",
    "# alt.renderers.enable('notebook')\n",
    "alt.renderers.enable('default')\n",
    "\n",
    "# disabling rows limit\n",
    "alt.data_transformers.disable_max_rows()"
   ]
  },
  {
   "cell_type": "markdown",
   "metadata": {},
   "source": [
    "## Importing data..."
   ]
  },
  {
   "cell_type": "code",
   "execution_count": 2,
   "metadata": {
    "ExecuteTime": {
     "end_time": "2021-02-13T23:35:20.900191Z",
     "start_time": "2021-02-13T23:35:19.911921Z"
    }
   },
   "outputs": [],
   "source": [
    "NewTable = pd.read_csv('./data/treated_db.csv', sep=';', encoding='utf-8', low_memory=False)"
   ]
  },
  {
   "cell_type": "markdown",
   "metadata": {},
   "source": [
    "## Filtering\n",
    "\n",
    "At least for now, we'll be considering only specimens of order decapoda (deeply revised by the Museum's crew)"
   ]
  },
  {
   "cell_type": "code",
   "execution_count": 3,
   "metadata": {
    "ExecuteTime": {
     "end_time": "2021-02-13T23:35:21.029703Z",
     "start_time": "2021-02-13T23:35:21.015346Z"
    }
   },
   "outputs": [],
   "source": [
    "decapoda = NewTable[NewTable['order'] == 'Decapoda'].copy()"
   ]
  },
  {
   "cell_type": "markdown",
   "metadata": {},
   "source": [
    "<br>\n",
    "\n",
    "<font size=5>**Color palette**</font>\n",
    "\n",
    "Colors (per infraorder): \n",
    "\n",
    "- <font color='#e26d67'><b>Ascacidae</b></font>\n",
    "- <font color='#007961'><b>Anomura</b></font>\n",
    "- <font color='#7a2c39'><b>Achelata</b></font>\n",
    "- <font color='#b67262'><b>Axiidea</b></font>\n",
    "- <font color='#ee4454'><b>Brachyura</b></font>\n",
    "- <font color='#3330b7'><b>Caridea</b></font>\n",
    "- <font color='#58b5e1'><b>Gebiidea</b></font>\n",
    "- <font color='#b8e450'><b>Stenopodídea</b></font>\n",
    "- <font color='#a0a3fd'><b>Astacidae</b></font>\n",
    "- <font color='#deae9e'><b>Polychelida</b></font>\n",
    "- <font color='#d867be'><b>Grapsidae</b></font>\n",
    "- <font color='#fece5f'><b>Xanthoidea</b></font>"
   ]
  },
  {
   "cell_type": "code",
   "execution_count": 4,
   "metadata": {
    "ExecuteTime": {
     "end_time": "2021-02-13T23:35:21.235500Z",
     "start_time": "2021-02-13T23:35:21.084722Z"
    }
   },
   "outputs": [],
   "source": [
    "# importing customized color palettes\n",
    "from src.MNViz_colors import *"
   ]
  },
  {
   "cell_type": "markdown",
   "metadata": {},
   "source": [
    "<br>\n",
    "\n",
    "\n",
    "## Graphs\n",
    "\n",
    "---\n",
    "\n",
    "### counts per determiner per year"
   ]
  },
  {
   "cell_type": "code",
   "execution_count": 5,
   "metadata": {
    "ExecuteTime": {
     "end_time": "2021-02-13T23:35:21.450492Z",
     "start_time": "2021-02-13T23:35:21.310980Z"
    }
   },
   "outputs": [],
   "source": [
    "teste = decapoda.groupby(['determiner_full_name','det_year']).count()['class'].reset_index().rename(columns=\n",
    "                                                                                            {'class':'counts'})"
   ]
  },
  {
   "cell_type": "code",
   "execution_count": 6,
   "metadata": {
    "ExecuteTime": {
     "end_time": "2021-02-13T23:35:21.526332Z",
     "start_time": "2021-02-13T23:35:21.518920Z"
    }
   },
   "outputs": [],
   "source": [
    "# gráfico não tem todas as contagens por causa de nomes faltando\n",
    "g1 = alt.Chart(teste, width=600, height=500).mark_circle().encode(\n",
    "    x= alt.X('det_year', type='ordinal', title='Ano de Determinação'),\n",
    "    y= alt.Y('determiner_full_name', type='nominal', title='Determiner Name', \n",
    "            sort=alt.EncodingSortField('counts', op=\"count\", order='descending')),\n",
    "    size= alt.Size('counts', scale=alt.Scale(range=[15, 500])),  # range ajusta tamanho do circulo\n",
    "    tooltip= alt.Tooltip(['determiner_full_name', 'det_year', 'counts'])\n",
    ")\n",
    "\n",
    "# g1.save('./graphs/determiner/counts_per_determiner.html')\n",
    "# g1"
   ]
  },
  {
   "cell_type": "markdown",
   "metadata": {},
   "source": [
    "<font color='red' size='5'>mesmo gráfico, ordenando também pela ordem</font>"
   ]
  },
  {
   "cell_type": "code",
   "execution_count": 51,
   "metadata": {
    "ExecuteTime": {
     "end_time": "2021-02-13T23:57:30.077197Z",
     "start_time": "2021-02-13T23:57:30.038333Z"
    }
   },
   "outputs": [],
   "source": [
    "teste1 = decapoda.groupby(['determiner_full_name','det_year','family', 'infraorder']).count()['class'].reset_index().rename(columns=\n",
    "                                                                                            {'class':'counts'})"
   ]
  },
  {
   "cell_type": "code",
   "execution_count": 52,
   "metadata": {
    "ExecuteTime": {
     "end_time": "2021-02-13T23:57:31.659546Z",
     "start_time": "2021-02-13T23:57:31.629511Z"
    }
   },
   "outputs": [],
   "source": [
    "g = alt.Chart(teste1, width=800, height=1000, \n",
    "              title='').mark_circle().encode(\n",
    "    x= alt.X('det_year', type='ordinal', title='Ano de Determinação'),\n",
    "    y= alt.Y('determiner_full_name', type='nominal', title='Determinador', \n",
    "            sort=alt.EncodingSortField('counts', op=\"count\", order='descending')),\n",
    "    size= alt.Size('counts:Q', title='Contagem',\n",
    "                   legend= alt.Legend(columns=1),\n",
    "                   scale=alt.Scale(range=[15, 500])),  # range ajusta tamanho do circulo\n",
    "    order= alt.Order('counts', sort='descending'),  # smaller points in front\n",
    "    color= alt.Color('family:N', title=\"Família\", \n",
    "                     scale=alt.Scale(domain=list(cores_familia_naive.keys()), \n",
    "                                     range=list(cores_familia_naive.values())),\n",
    "                     legend= alt.Legend(columns=2, symbolLimit= 102)),\n",
    "    tooltip= alt.Tooltip(['determiner_full_name', 'det_year', 'counts', 'family'])\n",
    ")\n",
    "\n",
    "# configuring graphic elements (font, fontSize, etc)\n",
    "g = g.configure_title(fontSize=16).configure_axis(\n",
    "    labelFontSize=12,\n",
    "    titleFontSize=12\n",
    ").configure_legend(\n",
    "    labelFontSize=12,\n",
    "    titleFontSize=12\n",
    ")\n",
    "\n",
    "# g.save('./graphs/determiner/counts_per_determiner-w-family.html')\n",
    "# g"
   ]
  },
  {
   "cell_type": "markdown",
   "metadata": {},
   "source": [
    "<br>\n",
    "\n",
    "<font color='red'>**mesmo gráfico, agora ordenando pelo primeiro ano que o pesquisador aparece na base**</font>"
   ]
  },
  {
   "cell_type": "code",
   "execution_count": 62,
   "metadata": {
    "ExecuteTime": {
     "end_time": "2021-02-13T23:58:45.408515Z",
     "start_time": "2021-02-13T23:58:45.392989Z"
    }
   },
   "outputs": [],
   "source": [
    "# ordenando\n",
    "teste1.sort_values(['det_year', 'determiner_full_name'], inplace=True)\n",
    "\n",
    "# salvando ordem das entradas\n",
    "sorting = list(teste1['determiner_full_name'].unique())"
   ]
  },
  {
   "cell_type": "code",
   "execution_count": 64,
   "metadata": {
    "ExecuteTime": {
     "end_time": "2021-02-13T23:58:56.201968Z",
     "start_time": "2021-02-13T23:58:56.142538Z"
    },
    "scrolled": false
   },
   "outputs": [],
   "source": [
    "select_family = alt.selection_multi(fields=['family'], bind='legend')\n",
    "\n",
    "# database\n",
    "db = teste1.sort_values('det_year')\n",
    "\n",
    "# aux. variables for encoding channels \n",
    "x_labels = db['det_year'].unique()\n",
    "y_labels = sorting\n",
    "counts = db['counts'].unique()\n",
    "counts = list(range(min(counts), max(counts),20))\n",
    "# families = [f for f in cores_familia_naive.keys() if f in db['family'].unique()]\n",
    "# colors = [cores_familia_naive[k] for k in families]\n",
    "\n",
    "g = alt.Chart(db, width=500, height=1000,\n",
    "              title='').mark_circle().encode(\n",
    "    x= alt.X('det_year', type='ordinal', title='Ano de Determinação',\n",
    "             scale= alt.Scale(domain=x_labels)),\n",
    "    y= alt.Y('determiner_full_name', type='nominal', title='Determinador', \n",
    "            sort=sorting, \n",
    "            scale= alt.Scale(domain=y_labels)),\n",
    "    size= alt.Size('counts', title='Contagem',type=\"quantitative\",\n",
    "                   legend= alt.Legend(columns=10),\n",
    "                   scale=alt.Scale(domain= counts, range=[15, 100])),  # range ajusta tamanho do circulo\n",
    "    order= alt.Order('counts', sort='descending'),  # smaller points in front\n",
    "    color= alt.Color('family:N', title=\"Família\", \n",
    "                     scale=alt.Scale(domain=list(cores_familia_naive.keys()), \n",
    "                                     range=list(cores_familia_naive.values())),\n",
    "                     legend= alt.Legend(columns=2, symbolLimit= 102)),\n",
    "    tooltip= alt.Tooltip(['determiner_full_name', 'det_year', 'counts', 'infraorder', 'family'])\n",
    ").add_selection(select_family).transform_filter(select_family)\n",
    "\n",
    "# configuring graphic elements (font, fontSize, etc)\n",
    "g = g.configure_title(fontSize=16).configure_axis(\n",
    "    labelFontSize=12,\n",
    "    titleFontSize=12\n",
    ").configure_legend(\n",
    "    labelFontSize=12,\n",
    "    titleFontSize=12\n",
    ")\n",
    "\n",
    "# g.save('./graphs/determiner/counts_per_determiner-w-family-reordenado.html')\n",
    "# g"
   ]
  },
  {
   "cell_type": "markdown",
   "metadata": {},
   "source": [
    "<br>\n",
    "\n",
    "### Gráfico dos determinadores mais expressivos \n",
    "\n",
    "<font color='red' size='5'>mesmo gráfico, ordenado pela soma das contagens </font>"
   ]
  },
  {
   "cell_type": "code",
   "execution_count": 42,
   "metadata": {
    "ExecuteTime": {
     "end_time": "2021-02-13T23:55:31.792335Z",
     "start_time": "2021-02-13T23:55:31.720315Z"
    }
   },
   "outputs": [
    {
     "data": {
      "text/html": [
       "<div>\n",
       "<style scoped>\n",
       "    .dataframe tbody tr th:only-of-type {\n",
       "        vertical-align: middle;\n",
       "    }\n",
       "\n",
       "    .dataframe tbody tr th {\n",
       "        vertical-align: top;\n",
       "    }\n",
       "\n",
       "    .dataframe thead th {\n",
       "        text-align: right;\n",
       "    }\n",
       "</style>\n",
       "<table border=\"1\" class=\"dataframe\">\n",
       "  <thead>\n",
       "    <tr style=\"text-align: right;\">\n",
       "      <th></th>\n",
       "      <th>determiner_full_name</th>\n",
       "      <th>det_year</th>\n",
       "      <th>family</th>\n",
       "      <th>counts</th>\n",
       "    </tr>\n",
       "  </thead>\n",
       "  <tbody>\n",
       "    <tr>\n",
       "      <th>8</th>\n",
       "      <td>Adriano nan Magesky</td>\n",
       "      <td>1905</td>\n",
       "      <td>Ocypodidae</td>\n",
       "      <td>1</td>\n",
       "    </tr>\n",
       "    <tr>\n",
       "      <th>42</th>\n",
       "      <td>Carlos nan Moreira</td>\n",
       "      <td>1910</td>\n",
       "      <td>Trichodactylidae</td>\n",
       "      <td>1</td>\n",
       "    </tr>\n",
       "    <tr>\n",
       "      <th>43</th>\n",
       "      <td>Carlos nan Moreira</td>\n",
       "      <td>1915</td>\n",
       "      <td>Pseudothelphusidae</td>\n",
       "      <td>1</td>\n",
       "    </tr>\n",
       "    <tr>\n",
       "      <th>462</th>\n",
       "      <td>M J Rathbun</td>\n",
       "      <td>1915</td>\n",
       "      <td>Palaemonidae</td>\n",
       "      <td>2</td>\n",
       "    </tr>\n",
       "    <tr>\n",
       "      <th>643</th>\n",
       "      <td>nan nan Luederwaldz</td>\n",
       "      <td>1915</td>\n",
       "      <td>Palaemonidae</td>\n",
       "      <td>1</td>\n",
       "    </tr>\n",
       "  </tbody>\n",
       "</table>\n",
       "</div>"
      ],
      "text/plain": [
       "    determiner_full_name det_year              family  counts\n",
       "8    Adriano nan Magesky     1905          Ocypodidae       1\n",
       "42    Carlos nan Moreira     1910    Trichodactylidae       1\n",
       "43    Carlos nan Moreira     1915  Pseudothelphusidae       1\n",
       "462          M J Rathbun     1915        Palaemonidae       2\n",
       "643  nan nan Luederwaldz     1915        Palaemonidae       1"
      ]
     },
     "execution_count": 42,
     "metadata": {},
     "output_type": "execute_result"
    }
   ],
   "source": [
    "teste1.head()"
   ]
  },
  {
   "cell_type": "code",
   "execution_count": 65,
   "metadata": {
    "ExecuteTime": {
     "end_time": "2021-02-13T23:58:57.242662Z",
     "start_time": "2021-02-13T23:58:57.231488Z"
    }
   },
   "outputs": [],
   "source": [
    "# somando contagens de cada pesquisador\n",
    "sorting = teste1.groupby('determiner_full_name').sum()['counts'].reset_index().rename(\n",
    "    columns={'counts':'sum'})\n",
    "\n",
    "sorting = sorting.sort_values('sum', ascending=False)\n",
    "\n",
    "# Nomes dos pesquisadores ordenados\n",
    "sort_list = sorting['determiner_full_name'].unique()"
   ]
  },
  {
   "cell_type": "code",
   "execution_count": 66,
   "metadata": {
    "ExecuteTime": {
     "end_time": "2021-02-13T23:58:57.896683Z",
     "start_time": "2021-02-13T23:58:57.855837Z"
    }
   },
   "outputs": [],
   "source": [
    "select_family = alt.selection_multi(fields=['family'], bind='legend')\n",
    "\n",
    "# selecting database (top 50 most expressive determiners) - p.s.: in this case, we can leave all determiners\n",
    "# db = teste1[teste1['determiner_full_name'].isin(sort_list[:50])].sort_values('det_year')\n",
    "db = teste1.sort_values('det_year')\n",
    "\n",
    "# aux. variables for encoding channels \n",
    "x_labels = db['det_year'].unique()\n",
    "y_labels = sort_list  \n",
    "counts = db['counts'].unique()\n",
    "counts = list(range(min(counts), max(counts),20))\n",
    "# families = [f for f in cores_familia_naive.keys() if f in db['family'].unique()]\n",
    "# colors = [cores_familia_naive[k] for k in families]\n",
    "\n",
    "g = alt.Chart(db, width=500, height=1000,\n",
    "              title='').mark_circle().encode(\n",
    "    x= alt.X('det_year', type='ordinal', title='Ano de Determinação',\n",
    "             scale= alt.Scale(domain= x_labels)),\n",
    "    y= alt.Y('determiner_full_name', type='nominal', title='Determinador', \n",
    "            sort=sort_list,\n",
    "            scale= alt.Scale(domain= y_labels)),\n",
    "    size= alt.Size('counts:Q', title='Contagem', legend=alt.Legend(orient='right', direction='horizontal'),\n",
    "                   scale=alt.Scale(domain= counts, range=[15, 100])),  # range ajusta tamanho do circulo\n",
    "    order= alt.Order('counts', sort='descending'),  # smaller points in front\n",
    "    color= alt.Color('family:N', title=\"Família\", \n",
    "                     scale=alt.Scale(domain=list(cores_familia_naive.keys()), \n",
    "                                     range=list(cores_familia_naive.values())),\n",
    "                     legend= alt.Legend(columns=2, symbolLimit= 102)),\n",
    "    tooltip= alt.Tooltip(['determiner_full_name', 'det_year', 'counts', 'infraorder','family'])\n",
    ").add_selection(select_family).transform_filter(select_family)\n",
    "\n",
    "# configuring graphic elements (font, fontSize, etc)\n",
    "g = g.configure_title(fontSize=16).configure_axis(\n",
    "    labelFontSize=12,\n",
    "    titleFontSize=12\n",
    ").configure_legend(\n",
    "    labelFontSize=12,\n",
    "    titleFontSize=12\n",
    ")\n",
    "\n",
    "# g.save('./graphs/determiner/counts_per_determiner-top50-ordenado_pela_soma.html')\n",
    "# g"
   ]
  },
  {
   "cell_type": "markdown",
   "metadata": {},
   "source": [
    "#### Ordering by first year of appearance"
   ]
  },
  {
   "cell_type": "code",
   "execution_count": 72,
   "metadata": {
    "ExecuteTime": {
     "end_time": "2021-02-14T00:04:16.073530Z",
     "start_time": "2021-02-14T00:04:16.049217Z"
    }
   },
   "outputs": [],
   "source": [
    "select_family = alt.selection_multi(fields=['family'], bind='legend')\n",
    "\n",
    "# selecting database (top 50 most expressive determiners) - p.s.: in this case, we can leave all determiners\n",
    "# db = teste1[teste1['determiner_full_name'].isin(sort_list[:50])].sort_values('det_year')\n",
    "db = teste1.sort_values('det_year')\n",
    "\n",
    "# aux. variables for encoding channels \n",
    "x_labels = db['det_year'].unique()\n",
    "y_labels = db['determiner_full_name'].unique()\n",
    "counts = db['counts'].unique()\n",
    "counts = list(range(min(counts), max(counts),20))\n",
    "# families = [f for f in cores_familia_naive.keys() if f in db['family'].unique()]\n",
    "# colors = [cores_familia_naive[k] for k in families]\n",
    "\n",
    "g = alt.Chart(db, width=500, height=1000,\n",
    "              title='').mark_circle().encode(\n",
    "    x= alt.X('det_year', type='ordinal', title='Ano de Determinação',\n",
    "             scale= alt.Scale(domain= x_labels)),\n",
    "    y= alt.Y('determiner_full_name', type='nominal', title='Determinador', \n",
    "             sort=alt.EncodingSortField('start_year'),\n",
    "             scale= alt.Scale(domain= y_labels)),\n",
    "    size= alt.Size('counts:Q', title='Contagem', legend=alt.Legend(orient= 'right', direction='horizontal'),\n",
    "                   scale=alt.Scale(domain= counts, range=[15, 100])),  # range ajusta tamanho do circulo\n",
    "    order= alt.Order('counts', sort='descending'),  # smaller points in front\n",
    "    color= alt.Color('family:N', title=\"Família\", \n",
    "                     scale=alt.Scale(domain=list(cores_familia_naive.keys()), \n",
    "                                     range=list(cores_familia_naive.values())),\n",
    "                     legend= alt.Legend(columns=2, symbolLimit= 102)),\n",
    "    tooltip= alt.Tooltip(['determiner_full_name', 'det_year', 'counts', 'infraorder','family'])\n",
    ").add_selection(select_family).transform_filter(select_family)\n",
    "\n",
    "# configuring graphic elements (font, fontSize, etc)\n",
    "g = g.configure_title(fontSize=16).configure_axis(\n",
    "    labelFontSize=12,\n",
    "    titleFontSize=12\n",
    ").configure_legend(\n",
    "    labelFontSize=12,\n",
    "    titleFontSize=12\n",
    ")\n",
    "\n",
    "# g.save('./graphs/determiner/counts_per_determiner-top50-reordenado.html')\n",
    "# g"
   ]
  },
  {
   "cell_type": "markdown",
   "metadata": {},
   "source": [
    "<br>\n",
    "\n",
    "### Creating chart: counts per collector per year\n",
    "\n",
    "<font color='red' size='5'> Collectors name is sensitive data. Do not publish it without curator's permission </font>"
   ]
  },
  {
   "cell_type": "code",
   "execution_count": 73,
   "metadata": {
    "ExecuteTime": {
     "end_time": "2021-02-14T00:04:18.863682Z",
     "start_time": "2021-02-14T00:04:18.825111Z"
    }
   },
   "outputs": [],
   "source": [
    "teste = decapoda.groupby(['collector_full_name','start_year']).count()['class'].reset_index().rename(columns=\n",
    "                                                                                            {'class':'counts'})"
   ]
  },
  {
   "cell_type": "code",
   "execution_count": 75,
   "metadata": {
    "ExecuteTime": {
     "end_time": "2021-02-14T00:04:27.847031Z",
     "start_time": "2021-02-14T00:04:27.839626Z"
    }
   },
   "outputs": [],
   "source": [
    "g1 = alt.Chart(teste, width=500, height=800).mark_circle().encode(\n",
    "    x= alt.X('start_year', type='ordinal', title='Ano de Coleta'),\n",
    "    y= alt.Y('collector_full_name', type='nominal', title='Coletor', \n",
    "            sort=alt.EncodingSortField('counts', op=\"count\", order='descending')),\n",
    "    size= alt.Size('counts', scale=alt.Scale(range=[15, 500])),  # range ajusta tamanho do circulo\n",
    "    tooltip= alt.Tooltip(['collector_full_name', 'start_year', 'counts'])\n",
    ")\n",
    "\n",
    "\n",
    "# configuring graphic elements (font, fontSize, etc)\n",
    "g1 = g1.configure_title(fontSize=16).configure_axis(\n",
    "    labelFontSize=12,\n",
    "    titleFontSize=12\n",
    ").configure_legend(\n",
    "    labelFontSize=12,\n",
    "    titleFontSize=12\n",
    ")\n",
    "\n",
    "# g1.save('./graphs/collector/counts_per_collector.html')\n",
    "# g1"
   ]
  },
  {
   "cell_type": "markdown",
   "metadata": {},
   "source": [
    "<font color='red' size='5'>mesmo gráfico, colorindo por família</font>\n",
    "\n",
    "**OBS:** Note que\n",
    "\n",
    "- as contagens mudam (porque estamos ordenando por um fator a mais)\n",
    "- há pontos sobrepostos (semelhante ao que tinhamos para a base crustaceas - para um mesmo ano, um mesmo pesquisador descobriu animais de ordens/familias diferentes)"
   ]
  },
  {
   "cell_type": "code",
   "execution_count": 95,
   "metadata": {
    "ExecuteTime": {
     "end_time": "2021-02-14T00:14:37.127408Z",
     "start_time": "2021-02-14T00:14:37.003106Z"
    }
   },
   "outputs": [],
   "source": [
    "teste1 = NewTable.groupby(['collector_full_name','start_year', 'infraorder','family']).count()['class'].reset_index().rename(columns=\n",
    "                                                                                            {'class':'counts'})"
   ]
  },
  {
   "cell_type": "code",
   "execution_count": 78,
   "metadata": {
    "ExecuteTime": {
     "end_time": "2021-02-14T00:05:22.548336Z",
     "start_time": "2021-02-14T00:05:22.517691Z"
    }
   },
   "outputs": [],
   "source": [
    "g = alt.Chart(teste1, width=500, height=800,\n",
    "              title='').mark_circle().encode(\n",
    "    x= alt.X('start_year', type='ordinal', title='Ano de Coleta'),\n",
    "    y= alt.Y('collector_full_name', type='nominal', title='Coletor', \n",
    "            sort=alt.EncodingSortField('counts', op=\"count\", order='descending')),\n",
    "    size= alt.Size('counts:Q', title='Contagem',scale=alt.Scale(range=[15, 500])),  # range ajusta tamanho do circulo\n",
    "    order= alt.Order('counts', sort='descending'),  # smaller points in front\n",
    "    color= alt.Color('family:N', title=\"Família\", \n",
    "                     scale=alt.Scale(domain=list(cores_familia_naive.keys()), \n",
    "                                     range=list(cores_familia_naive.values())),\n",
    "                     legend= alt.Legend(columns=2, symbolLimit= 102)),\n",
    "    tooltip= alt.Tooltip(['collector_full_name', 'start_year', 'counts', 'family'])\n",
    ")\n",
    "\n",
    "# configuring graphic elements (font, fontSize, etc)\n",
    "g = g.configure_title(fontSize=16).configure_axis(\n",
    "    labelFontSize=12,\n",
    "    titleFontSize=12\n",
    ").configure_legend(\n",
    "    labelFontSize=12,\n",
    "    titleFontSize=12\n",
    ")\n",
    "\n",
    "# g.save('./graphs/collector/counts_per_collector-w-family.html')\n",
    "# g"
   ]
  },
  {
   "cell_type": "markdown",
   "metadata": {},
   "source": [
    "<br>\n",
    "\n",
    "<font color='red'>**mesmo gráfico, agora ordenando pelo primeiro ano que o pesquisador aparece na base**</font>"
   ]
  },
  {
   "cell_type": "code",
   "execution_count": 79,
   "metadata": {
    "ExecuteTime": {
     "end_time": "2021-02-14T00:05:26.498000Z",
     "start_time": "2021-02-14T00:05:26.485524Z"
    }
   },
   "outputs": [],
   "source": [
    "# ordenando\n",
    "teste1.sort_values(['start_year', 'collector_full_name'], inplace=True)\n",
    "\n",
    "# salvando ordem das entradas\n",
    "sorting = list(teste1['collector_full_name'].unique())"
   ]
  },
  {
   "cell_type": "code",
   "execution_count": 81,
   "metadata": {
    "ExecuteTime": {
     "end_time": "2021-02-14T00:05:41.498186Z",
     "start_time": "2021-02-14T00:05:41.482336Z"
    }
   },
   "outputs": [],
   "source": [
    "g = alt.Chart(teste1, width=500, height=800,\n",
    "              title='').mark_circle().encode(\n",
    "    x= alt.X('start_year', type='ordinal', title='Ano de Coleta'),\n",
    "    y= alt.Y('collector_full_name', type='nominal', title='Coletor', \n",
    "            sort=alt.EncodingSortField('start_year', op=\"min\", order='ascending')),\n",
    "    size= alt.Size('counts:Q', title='Contagem',scale=alt.Scale(range=[15, 500])),  # range ajusta tamanho do circulo\n",
    "    order= alt.Order('counts', sort='descending'),  # smaller points in front    \n",
    "    color= alt.Color('family:N', title=\"Família\", \n",
    "                     scale=alt.Scale(domain=list(cores_familia_naive.keys()), \n",
    "                                     range=list(cores_familia_naive.values())),\n",
    "                     legend= alt.Legend(columns=2, symbolLimit= 102)),\n",
    "    tooltip= alt.Tooltip(['collector_full_name', 'start_year', 'counts', 'family'])\n",
    ")\n",
    "\n",
    "# configuring graphic elements (font, fontSize, etc)\n",
    "g = g.configure_title(fontSize=16).configure_axis(\n",
    "    labelFontSize=12,\n",
    "    titleFontSize=12\n",
    ").configure_legend(\n",
    "    labelFontSize=12,\n",
    "    titleFontSize=12\n",
    ")\n",
    "\n",
    "# g.save('./graphs/collector/counts_per_collector-w-family-reordenado.html')\n",
    "# g"
   ]
  },
  {
   "cell_type": "markdown",
   "metadata": {},
   "source": [
    "<br>\n",
    "\n",
    "### Gráfico dos coletores mais expressivos"
   ]
  },
  {
   "cell_type": "code",
   "execution_count": 82,
   "metadata": {
    "ExecuteTime": {
     "end_time": "2021-02-14T00:05:45.249421Z",
     "start_time": "2021-02-14T00:05:45.226905Z"
    }
   },
   "outputs": [],
   "source": [
    "# somando contagens de cada pesquisador\n",
    "sorting = teste1.groupby('collector_full_name').sum()['counts'].reset_index().rename(\n",
    "    columns={'counts':'sum'})\n",
    "\n",
    "sorting = sorting.sort_values('sum', ascending=False)\n",
    "\n",
    "# Nomes dos pesquisadores ordenados\n",
    "sort_list = sorting['collector_full_name'].unique()"
   ]
  },
  {
   "cell_type": "code",
   "execution_count": 98,
   "metadata": {
    "ExecuteTime": {
     "end_time": "2021-02-14T00:20:58.496969Z",
     "start_time": "2021-02-14T00:20:58.465432Z"
    }
   },
   "outputs": [],
   "source": [
    "select_family = alt.selection_multi(fields= ['family'], bind='legend')\n",
    "\n",
    "# filtering database (top 50 most expressive collectors)\n",
    "db = teste1[teste1['collector_full_name'].isin(sort_list[:50])].sort_values('start_year')\n",
    "\n",
    "# auxiliar variables for encoding fields\n",
    "x_labels = db['start_year'].unique()\n",
    "y_labels = sort_list[:50]\n",
    "counts = db['counts'].unique()\n",
    "counts = list(range(min(counts), max(counts), 200))\n",
    "# families = [f for f in cores_familia_naive.keys() if f in db['family'].unique()]\n",
    "# colors = [cores_familia_naive[k] for k in families]\n",
    "\n",
    "g = alt.Chart(teste1[teste1['collector_full_name'].isin(sort_list[:50])], width=500, height=800,\n",
    "              title='').mark_circle().encode(\n",
    "    x= alt.X('start_year', type='ordinal', title='Ano de Coleta',\n",
    "             scale= alt.Scale(domain= x_labels)),\n",
    "    y= alt.Y('collector_full_name', type='nominal', title='Coletor', \n",
    "            sort=sort_list[:50],\n",
    "            scale= alt.Scale(domain= y_labels)),\n",
    "    size= alt.Size('counts:Q', title='Contagem',\n",
    "                   legend= alt.Legend(orient= 'right', direction='horizontal'),\n",
    "                   scale=alt.Scale(domain= counts,range=[15, 115])),  # range ajusta tamanho do circulo\n",
    "    order= alt.Order('counts', sort='descending'),  # smaller points in front\n",
    "    color= alt.Color('family:N', title=\"Família\", \n",
    "                     scale=alt.Scale(domain=list(cores_familia_naive.keys()), \n",
    "                                     range=list(cores_familia_naive.values())),\n",
    "                     legend= alt.Legend(columns=2, symbolLimit= 102)),\n",
    "    tooltip= alt.Tooltip(['collector_full_name', 'start_year', 'counts', 'infraorder','family'])\n",
    ").add_selection(select_family).transform_filter(select_family)\n",
    "\n",
    "# configuring graphic elements (font, fontSize, etc)\n",
    "g = g.configure_title(fontSize=16).configure_axis(\n",
    "    labelFontSize=12,\n",
    "    titleFontSize=12\n",
    ").configure_legend(\n",
    "    labelFontSize=12,\n",
    "    titleFontSize=12\n",
    ")\n",
    "\n",
    "# g.save('./graphs/collector/counts_per_collector-top50-ordenado_pela_soma.html')\n",
    "# g"
   ]
  },
  {
   "cell_type": "markdown",
   "metadata": {},
   "source": [
    "<br>\n",
    "\n",
    "#### ordering by first year of appearance"
   ]
  },
  {
   "cell_type": "code",
   "execution_count": 99,
   "metadata": {
    "ExecuteTime": {
     "end_time": "2021-02-14T00:21:00.225471Z",
     "start_time": "2021-02-14T00:21:00.208952Z"
    }
   },
   "outputs": [],
   "source": [
    "# somando contagens de cada pesquisador\n",
    "sorting = teste1.groupby(['collector_full_name', 'start_year']).sum()['counts'].reset_index().rename(\n",
    "    columns={'counts':'sum'})\n",
    "\n",
    "sorting = sorting.sort_values('start_year', ascending=True)"
   ]
  },
  {
   "cell_type": "code",
   "execution_count": 113,
   "metadata": {
    "ExecuteTime": {
     "end_time": "2021-02-14T00:26:54.568686Z",
     "start_time": "2021-02-14T00:26:54.533937Z"
    }
   },
   "outputs": [],
   "source": [
    "select_family = alt.selection_multi(fields= ['family'], bind='legend')\n",
    "\n",
    "# filtering database (top 50 most expressive collectors)\n",
    "db = teste1[teste1['collector_full_name'].isin(sort_list[:50])].sort_values('start_year')\n",
    "\n",
    "# auxiliar variables for encoding fields\n",
    "x_labels = db['start_year'].unique()\n",
    "y_labels = [n for n in db['collector_full_name'].unique() if n in sort_list[:50]]  # needs to be a top 50\n",
    "counts = db['counts'].unique()\n",
    "counts = list(range(min(counts), max(counts), 200))\n",
    "# families = [f for f in cores_familia_naive.keys() if f in db['family'].unique()]\n",
    "# colors = [cores_familia_naive[k] for k in families]\n",
    "\n",
    "g = alt.Chart(teste1[teste1['collector_full_name'].isin(sort_list[:50])], width=500, height=800,\n",
    "              title='').mark_circle().encode(\n",
    "    x= alt.X('start_year', type='ordinal', title='Ano de Coleta',\n",
    "             scale= alt.Scale(domain= x_labels)),\n",
    "    y= alt.Y('collector_full_name', type='nominal', title='Coletor', \n",
    "            scale= alt.Scale(domain= y_labels),\n",
    "            sort=alt.EncodingSortField('start_year')),\n",
    "    size= alt.Size('counts:Q', title='Contagem',\n",
    "                   legend= alt.Legend(orient= 'right', direction= 'horizontal'),\n",
    "                   scale=alt.Scale(domain= counts,range=[15, 115])),  # range ajusta tamanho do circulo\n",
    "    order= alt.Order('counts', sort='descending'),  # smaller points in front\n",
    "    color= alt.Color('family:N', title=\"Família\", \n",
    "                     scale=alt.Scale(domain=list(cores_familia_naive.keys()), \n",
    "                                     range=list(cores_familia_naive.values())),\n",
    "                     legend= alt.Legend(columns=2, symbolLimit= 102)),\n",
    "    tooltip= alt.Tooltip(['collector_full_name', 'start_year', 'counts', 'family'])\n",
    ").add_selection(select_family).transform_filter(select_family)\n",
    "\n",
    "# configuring graphic elements (font, fontSize, etc)\n",
    "g = g.configure_title(fontSize=16).configure_axis(\n",
    "    labelFontSize=12,\n",
    "    titleFontSize=12\n",
    ").configure_legend(\n",
    "    labelFontSize=12,\n",
    "    titleFontSize=12\n",
    ")\n",
    "\n",
    "# g.save('./graphs/collector/counts_per_collector-top50-reordenado.html')\n",
    "# g"
   ]
  },
  {
   "cell_type": "markdown",
   "metadata": {},
   "source": [
    "<br>\n",
    "\n",
    "**The end!**\n",
    "\n",
    "-----"
   ]
  }
 ],
 "metadata": {
  "kernelspec": {
   "display_name": "Python 3",
   "language": "python",
   "name": "python3"
  },
  "language_info": {
   "codemirror_mode": {
    "name": "ipython",
    "version": 3
   },
   "file_extension": ".py",
   "mimetype": "text/x-python",
   "name": "python",
   "nbconvert_exporter": "python",
   "pygments_lexer": "ipython3",
   "version": "3.9.1"
  },
  "latex_envs": {
   "LaTeX_envs_menu_present": true,
   "autoclose": false,
   "autocomplete": true,
   "bibliofile": "biblio.bib",
   "cite_by": "apalike",
   "current_citInitial": 1,
   "eqLabelWithNumbers": true,
   "eqNumInitial": 1,
   "hotkeys": {
    "equation": "Ctrl-E",
    "itemize": "Ctrl-I"
   },
   "labels_anchors": false,
   "latex_user_defs": false,
   "report_style_numbering": false,
   "user_envs_cfg": false
  },
  "toc": {
   "base_numbering": 1,
   "nav_menu": {},
   "number_sections": false,
   "sideBar": true,
   "skip_h1_title": false,
   "title_cell": "Table of Contents",
   "title_sidebar": "Contents",
   "toc_cell": false,
   "toc_position": {},
   "toc_section_display": true,
   "toc_window_display": false
  },
  "varInspector": {
   "cols": {
    "lenName": 16,
    "lenType": 16,
    "lenVar": 40
   },
   "kernels_config": {
    "python": {
     "delete_cmd_postfix": "",
     "delete_cmd_prefix": "del ",
     "library": "var_list.py",
     "varRefreshCmd": "print(var_dic_list())"
    },
    "r": {
     "delete_cmd_postfix": ") ",
     "delete_cmd_prefix": "rm(",
     "library": "var_list.r",
     "varRefreshCmd": "cat(var_dic_list()) "
    }
   },
   "position": {
    "height": "391.35px",
    "left": "900.5px",
    "right": "20px",
    "top": "96px",
    "width": "536.5px"
   },
   "types_to_exclude": [
    "module",
    "function",
    "builtin_function_or_method",
    "instance",
    "_Feature"
   ],
   "window_display": false
  }
 },
 "nbformat": 4,
 "nbformat_minor": 2
}
