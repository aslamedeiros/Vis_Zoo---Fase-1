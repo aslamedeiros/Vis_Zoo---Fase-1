{
 "cells": [
  {
   "cell_type": "markdown",
   "metadata": {},
   "source": [
    "# Counts per researcher\n",
    "\n",
    "By **Franklin Oliveira**\n",
    "\n",
    "-----\n",
    "This notebook contains all code necessary to make charts from `carcinos` database with focus on time and space exploration. Here you'll find some basic data treatment and charts' code. \n",
    "\n",
    "Database: <font color='blue'>'Planilha geral Atualizada FINAL 5_GERAL_sendo trabalhada no Google drive.xlsx'</font>\n"
   ]
  },
  {
   "cell_type": "code",
   "execution_count": 1,
   "metadata": {
    "ExecuteTime": {
     "end_time": "2021-02-15T17:05:02.863121Z",
     "start_time": "2021-02-15T17:05:01.932098Z"
    }
   },
   "outputs": [
    {
     "data": {
      "text/plain": [
       "DataTransformerRegistry.enable('default')"
      ]
     },
     "execution_count": 1,
     "metadata": {},
     "output_type": "execute_result"
    }
   ],
   "source": [
    "import datetime\n",
    "import numpy as np\n",
    "import pandas as pd\n",
    "\n",
    "from collections import defaultdict\n",
    "\n",
    "# quick visualization\n",
    "import matplotlib.pyplot as plt\n",
    "import seaborn as sns\n",
    "\n",
    "# Waffle Charts\n",
    "# from pywaffle import Waffle \n",
    "# docs: https://pywaffle.readthedocs.io/en/latest/examples/block_shape_distance_location_and_direction.html\n",
    "\n",
    "# visualization\n",
    "import altair as alt\n",
    "\n",
    "# enabling notebook renderer\n",
    "# alt.renderers.enable('notebook')\n",
    "alt.renderers.enable('default')\n",
    "\n",
    "# disabling rows limit\n",
    "alt.data_transformers.disable_max_rows()"
   ]
  },
  {
   "cell_type": "markdown",
   "metadata": {},
   "source": [
    "## Importing data..."
   ]
  },
  {
   "cell_type": "code",
   "execution_count": 2,
   "metadata": {
    "ExecuteTime": {
     "end_time": "2021-02-15T17:05:03.411732Z",
     "start_time": "2021-02-15T17:05:02.865214Z"
    }
   },
   "outputs": [],
   "source": [
    "NewTable = pd.read_csv('./data/treated_db.csv', sep=';', encoding='utf-8', low_memory=False)"
   ]
  },
  {
   "cell_type": "markdown",
   "metadata": {},
   "source": [
    "## Filtering\n",
    "\n",
    "At least for now, we'll be considering only specimens of order decapoda (deeply revised by the Museum's crew)"
   ]
  },
  {
   "cell_type": "code",
   "execution_count": 3,
   "metadata": {
    "ExecuteTime": {
     "end_time": "2021-02-15T17:05:03.428186Z",
     "start_time": "2021-02-15T17:05:03.413894Z"
    }
   },
   "outputs": [],
   "source": [
    "decapoda = NewTable[NewTable['order'] == 'Decapoda'].copy()"
   ]
  },
  {
   "cell_type": "markdown",
   "metadata": {},
   "source": [
    "<br>\n",
    "\n",
    "<font size=5>**Color palette**</font>\n",
    "\n",
    "Colors (per infraorder): \n",
    "\n",
    "- <font color='#e26d67'><b>Ascacidae</b></font>\n",
    "- <font color='#007961'><b>Anomura</b></font>\n",
    "- <font color='#7a2c39'><b>Achelata</b></font>\n",
    "- <font color='#b67262'><b>Axiidea</b></font>\n",
    "- <font color='#ee4454'><b>Brachyura</b></font>\n",
    "- <font color='#3330b7'><b>Caridea</b></font>\n",
    "- <font color='#58b5e1'><b>Gebiidea</b></font>\n",
    "- <font color='#b8e450'><b>Stenopodídea</b></font>\n",
    "- <font color='#a0a3fd'><b>Astacidae</b></font>\n",
    "- <font color='#deae9e'><b>Polychelida</b></font>\n",
    "- <font color='#d867be'><b>Grapsidae</b></font>\n",
    "- <font color='#fece5f'><b>Xanthoidea</b></font>"
   ]
  },
  {
   "cell_type": "code",
   "execution_count": 4,
   "metadata": {
    "ExecuteTime": {
     "end_time": "2021-02-15T17:05:03.489605Z",
     "start_time": "2021-02-15T17:05:03.430712Z"
    }
   },
   "outputs": [],
   "source": [
    "# importing customized color palettes\n",
    "from src.MNViz_colors import *"
   ]
  },
  {
   "cell_type": "markdown",
   "metadata": {},
   "source": [
    "<br>\n",
    "\n",
    "\n",
    "## Graphs\n",
    "\n",
    "---\n",
    "\n",
    "### counts per determiner per year"
   ]
  },
  {
   "cell_type": "code",
   "execution_count": 5,
   "metadata": {
    "ExecuteTime": {
     "end_time": "2021-02-15T17:05:03.583936Z",
     "start_time": "2021-02-15T17:05:03.491690Z"
    }
   },
   "outputs": [],
   "source": [
    "teste = decapoda.groupby(['determiner_full_name','det_year']).count()['class'].reset_index().rename(columns=\n",
    "                                                                                            {'class':'counts'})"
   ]
  },
  {
   "cell_type": "code",
   "execution_count": 6,
   "metadata": {
    "ExecuteTime": {
     "end_time": "2021-02-15T17:05:03.591144Z",
     "start_time": "2021-02-15T17:05:03.585599Z"
    }
   },
   "outputs": [],
   "source": [
    "# gráfico não tem todas as contagens por causa de nomes faltando\n",
    "g1 = alt.Chart(teste, title= 'Counts per determiner', width=600, height=800).mark_circle().encode(\n",
    "    x= alt.X('det_year', type='ordinal', title='Determination Year'),\n",
    "    y= alt.Y('determiner_full_name', type='nominal', title='Determiner Name', \n",
    "            sort=alt.EncodingSortField('counts', op=\"count\", order='descending')),\n",
    "    size= alt.Size('counts', scale=alt.Scale(range=[15, 500])),  # range ajusta tamanho do circulo\n",
    "    tooltip= alt.Tooltip(['determiner_full_name', 'det_year', 'counts'])\n",
    ")\n",
    "\n",
    "# g1.save('./graphs/determiner/counts_per_determiner.html')\n",
    "# g1"
   ]
  },
  {
   "cell_type": "markdown",
   "metadata": {},
   "source": [
    "<font color='red' size='5'>same chart, now sorting per family too</font>"
   ]
  },
  {
   "cell_type": "code",
   "execution_count": 12,
   "metadata": {
    "ExecuteTime": {
     "end_time": "2021-02-15T17:05:18.645432Z",
     "start_time": "2021-02-15T17:05:18.606604Z"
    }
   },
   "outputs": [],
   "source": [
    "teste1 = decapoda.groupby(['determiner_full_name','det_year','family', 'infraorder']).count()['class'].reset_index().rename(columns=\n",
    "                                                                                            {'class':'counts'})"
   ]
  },
  {
   "cell_type": "code",
   "execution_count": 13,
   "metadata": {
    "ExecuteTime": {
     "end_time": "2021-02-15T17:05:22.316386Z",
     "start_time": "2021-02-15T17:05:22.281226Z"
    }
   },
   "outputs": [],
   "source": [
    "# database\n",
    "db = teste1\n",
    "\n",
    "# aux. variables for encoding channels \n",
    "x_labels = db.sort_values('det_year')['det_year'].unique()\n",
    "y_labels = db.groupby('determiner_full_name').sum().reset_index().sort_values('counts')['determiner_full_name'].unique()[::-1]\n",
    "counts = db['counts'].unique()\n",
    "counts = list(range(min(counts), max(counts),20))\n",
    "# families = [f for f in cores_familia_naive.keys() if f in db['family'].unique()]\n",
    "# colors = [cores_familia_naive[k] for k in families]\n",
    "\n",
    "# selector\n",
    "select_family = alt.selection_multi(fields= ['family'], bind='legend')\n",
    "\n",
    "g = alt.Chart(db, title= 'Counts per determiner (sorted by sum)', width=600, height=1000, \n",
    "              ).mark_circle().encode(\n",
    "    x= alt.X('det_year', type='ordinal', title='Determination Year', \n",
    "             scale= alt.Scale(domain= x_labels)),\n",
    "    y= alt.Y('determiner_full_name', type='nominal', title='Determiner', \n",
    "             scale= alt.Scale(domain= y_labels),\n",
    "            sort=alt.EncodingSortField('counts', op=\"sum\", order='descending')),\n",
    "    size= alt.Size('counts:Q', title='Counts',\n",
    "                   legend= alt.Legend(orient='right', direction='horizontal'),\n",
    "                   scale=alt.Scale(domain= counts, range=[20, 120])),  # range ajusta tamanho do circulo\n",
    "    order= alt.Order('counts', sort='descending'),  # smaller points in front\n",
    "    color= alt.Color('family:N', title=\"Family\", \n",
    "                     scale=alt.Scale(domain=list(cores_familia_naive.keys()), \n",
    "                                     range=list(cores_familia_naive.values())),\n",
    "                     legend= alt.Legend(columns=2, symbolLimit= 102)),\n",
    "    tooltip= alt.Tooltip(['determiner_full_name', 'det_year', 'counts', 'family'])\n",
    ").add_selection(select_family).transform_filter(select_family)\n",
    "\n",
    "# configuring graphic elements (font, fontSize, etc)\n",
    "g = g.configure_title(fontSize=16).configure_axis(\n",
    "    labelFontSize=12,\n",
    "    titleFontSize=12\n",
    ").configure_legend(\n",
    "    labelFontSize=12,\n",
    "    titleFontSize=12\n",
    ")\n",
    "\n",
    "# g.save('./graphs/determiner/counts_per_determiner-w-family.html')\n",
    "# g"
   ]
  },
  {
   "cell_type": "markdown",
   "metadata": {},
   "source": [
    "<br>\n",
    "\n",
    "<font color='red'>**same chart, now rearranging by the first year the determiner appears in the database**</font>"
   ]
  },
  {
   "cell_type": "code",
   "execution_count": 9,
   "metadata": {
    "ExecuteTime": {
     "end_time": "2021-02-15T17:05:03.821473Z",
     "start_time": "2021-02-15T17:05:03.815588Z"
    }
   },
   "outputs": [],
   "source": [
    "# ordenando\n",
    "teste1.sort_values(['det_year', 'determiner_full_name'], inplace=True)\n",
    "\n",
    "# salvando ordem das entradas\n",
    "sorting = list(teste1['determiner_full_name'].unique())"
   ]
  },
  {
   "cell_type": "code",
   "execution_count": 11,
   "metadata": {
    "ExecuteTime": {
     "end_time": "2021-02-15T17:05:14.104526Z",
     "start_time": "2021-02-15T17:05:14.068451Z"
    },
    "scrolled": false
   },
   "outputs": [],
   "source": [
    "select_family = alt.selection_multi(fields=['family'], bind='legend')\n",
    "\n",
    "# database\n",
    "db = teste1.sort_values('det_year')\n",
    "\n",
    "# aux. variables for encoding channels \n",
    "x_labels = db['det_year'].unique()\n",
    "y_labels = sorting\n",
    "counts = db['counts'].unique()\n",
    "counts = list(range(min(counts), max(counts),20))\n",
    "# families = [f for f in cores_familia_naive.keys() if f in db['family'].unique()]\n",
    "# colors = [cores_familia_naive[k] for k in families]\n",
    "\n",
    "g = alt.Chart(db, title= 'Counts per determiner (rearranged by first year of appearance)', \n",
    "            width=600, height=1000).mark_circle().encode(\n",
    "    x= alt.X('det_year', type='ordinal', title='Determination Year',\n",
    "             scale= alt.Scale(domain=x_labels)),\n",
    "    y= alt.Y('determiner_full_name', type='nominal', title='Determiner', \n",
    "            sort=sorting, \n",
    "            scale= alt.Scale(domain=y_labels)),\n",
    "    size= alt.Size('counts', title='Counts',type=\"quantitative\",\n",
    "                   legend= alt.Legend(orient='right', direction='horizontal'),\n",
    "                   scale=alt.Scale(domain= counts, range=[15, 100])),  # range ajusta tamanho do circulo\n",
    "    order= alt.Order('counts', sort='descending'),  # smaller points in front\n",
    "    color= alt.Color('family:N', title=\"Family\", \n",
    "                     scale=alt.Scale(domain=list(cores_familia_naive.keys()), \n",
    "                                     range=list(cores_familia_naive.values())),\n",
    "                     legend= alt.Legend(columns=2, symbolLimit= 102)),\n",
    "    tooltip= alt.Tooltip(['determiner_full_name', 'det_year', 'counts', 'infraorder', 'family'])\n",
    ").add_selection(select_family).transform_filter(select_family)\n",
    "\n",
    "# configuring graphic elements (font, fontSize, etc)\n",
    "g = g.configure_title(fontSize=16).configure_axis(\n",
    "    labelFontSize=12,\n",
    "    titleFontSize=12\n",
    ").configure_legend(\n",
    "    labelFontSize=12,\n",
    "    titleFontSize=12\n",
    ")\n",
    "\n",
    "# g.save('./graphs/determiner/counts_per_determiner-w-family-rearranged.html')\n",
    "# g"
   ]
  },
  {
   "cell_type": "markdown",
   "metadata": {},
   "source": [
    "<br>\n",
    "\n",
    "### Chart: top 50 determiners "
   ]
  },
  {
   "cell_type": "code",
   "execution_count": 21,
   "metadata": {
    "ExecuteTime": {
     "end_time": "2021-02-15T16:47:40.559346Z",
     "start_time": "2021-02-15T16:47:40.403545Z"
    }
   },
   "outputs": [],
   "source": [
    "# somando contagens de cada pesquisador\n",
    "sorting = teste1.groupby('determiner_full_name').sum()['counts'].reset_index().rename(\n",
    "    columns={'counts':'sum'})\n",
    "\n",
    "sorting = sorting.sort_values('sum', ascending=False)\n",
    "\n",
    "# Nomes dos pesquisadores ordenados\n",
    "sort_list = sorting['determiner_full_name'].unique()"
   ]
  },
  {
   "cell_type": "code",
   "execution_count": 22,
   "metadata": {
    "ExecuteTime": {
     "end_time": "2021-02-15T16:47:40.636694Z",
     "start_time": "2021-02-15T16:47:40.561445Z"
    }
   },
   "outputs": [],
   "source": [
    "select_family = alt.selection_multi(fields=['family'], bind='legend')\n",
    "\n",
    "# selecting database (top 50 most expressive determiners) - p.s.: in this case, we can leave all determiners\n",
    "# db = teste1[teste1['determiner_full_name'].isin(sort_list[:50])].sort_values('det_year')\n",
    "db = teste1.sort_values('det_year')\n",
    "\n",
    "# aux. variables for encoding channels \n",
    "x_labels = db['det_year'].unique()\n",
    "y_labels = sort_list  \n",
    "counts = db['counts'].unique()\n",
    "counts = list(range(min(counts), max(counts),20))\n",
    "# families = [f for f in cores_familia_naive.keys() if f in db['family'].unique()]\n",
    "# colors = [cores_familia_naive[k] for k in families]\n",
    "\n",
    "g = alt.Chart(db, title= 'Counts per determiner (Top 50)', width=600, height=1000).mark_circle().encode(\n",
    "    x= alt.X('det_year', type='ordinal', title='Determination Year',\n",
    "             scale= alt.Scale(domain= x_labels)),\n",
    "    y= alt.Y('determiner_full_name', type='nominal', title='Determiner', \n",
    "            sort=sort_list,\n",
    "            scale= alt.Scale(domain= y_labels)),\n",
    "    size= alt.Size('counts:Q', title='Counts', \n",
    "                   legend=alt.Legend(orient='right', direction='horizontal'),\n",
    "                   scale=alt.Scale(domain= counts, range=[15, 100])),  # range ajusta tamanho do circulo\n",
    "    order= alt.Order('counts', sort='descending'),  # smaller points in front\n",
    "    color= alt.Color('family:N', title=\"Family\", \n",
    "                     scale=alt.Scale(domain=list(cores_familia_naive.keys()), \n",
    "                                     range=list(cores_familia_naive.values())),\n",
    "                     legend= alt.Legend(columns=2, symbolLimit= 102)),\n",
    "    tooltip= alt.Tooltip(['determiner_full_name', 'det_year', 'counts', 'infraorder','family'])\n",
    ").add_selection(select_family).transform_filter(select_family)\n",
    "\n",
    "# configuring graphic elements (font, fontSize, etc)\n",
    "g = g.configure_title(fontSize=16).configure_axis(\n",
    "    labelFontSize=12,\n",
    "    titleFontSize=12\n",
    ").configure_legend(\n",
    "    labelFontSize=12,\n",
    "    titleFontSize=12\n",
    ")\n",
    "\n",
    "# g.save('./graphs/determiner/counts_per_determiner-top50.html')\n",
    "# g"
   ]
  },
  {
   "cell_type": "markdown",
   "metadata": {},
   "source": [
    "#### Ordering by first year of appearance"
   ]
  },
  {
   "cell_type": "code",
   "execution_count": 23,
   "metadata": {
    "ExecuteTime": {
     "end_time": "2021-02-15T16:47:40.700059Z",
     "start_time": "2021-02-15T16:47:40.638411Z"
    }
   },
   "outputs": [],
   "source": [
    "select_family = alt.selection_multi(fields=['family'], bind='legend')\n",
    "\n",
    "# selecting database (top 50 most expressive determiners) - p.s.: in this case, we can leave all determiners\n",
    "# db = teste1[teste1['determiner_full_name'].isin(sort_list[:50])].sort_values('det_year')\n",
    "db = teste1.sort_values('det_year')\n",
    "\n",
    "# aux. variables for encoding channels \n",
    "x_labels = db['det_year'].unique()\n",
    "y_labels = db['determiner_full_name'].unique()\n",
    "counts = db['counts'].unique()\n",
    "counts = list(range(min(counts), max(counts),20))\n",
    "# families = [f for f in cores_familia_naive.keys() if f in db['family'].unique()]\n",
    "# colors = [cores_familia_naive[k] for k in families]\n",
    "\n",
    "g = alt.Chart(db, title= 'Counts per determiner (Top 50 - rearranged by first year of appearance)', \n",
    "            width=600, height=1000).mark_circle().encode(\n",
    "    x= alt.X('det_year', type='ordinal', title='Determination Year',\n",
    "             scale= alt.Scale(domain= x_labels)),\n",
    "    y= alt.Y('determiner_full_name', type='nominal', title='Determiner', \n",
    "             sort=alt.EncodingSortField('start_year'),\n",
    "             scale= alt.Scale(domain= y_labels)),\n",
    "    size= alt.Size('counts:Q', title='Counts', legend=alt.Legend(orient= 'right', direction='horizontal'),\n",
    "                   scale=alt.Scale(domain= counts, range=[15, 100])),  # range ajusta tamanho do circulo\n",
    "    order= alt.Order('counts', sort='descending'),  # smaller points in front\n",
    "    color= alt.Color('family:N', title=\"Family\", \n",
    "                     scale=alt.Scale(domain=list(cores_familia_naive.keys()), \n",
    "                                     range=list(cores_familia_naive.values())),\n",
    "                     legend= alt.Legend(columns=2, symbolLimit= 102)),\n",
    "    tooltip= alt.Tooltip(['determiner_full_name', 'det_year', 'counts', 'infraorder','family'])\n",
    ").add_selection(select_family).transform_filter(select_family)\n",
    "\n",
    "# configuring graphic elements (font, fontSize, etc)\n",
    "g = g.configure_title(fontSize=16).configure_axis(\n",
    "    labelFontSize=12,\n",
    "    titleFontSize=12\n",
    ").configure_legend(\n",
    "    labelFontSize=12,\n",
    "    titleFontSize=12\n",
    ")\n",
    "\n",
    "# g.save('./graphs/determiner/counts_per_determiner-top50-rearranged.html')\n",
    "# g"
   ]
  },
  {
   "cell_type": "markdown",
   "metadata": {},
   "source": [
    "<br>\n",
    "\n",
    "### Creating chart: counts per collector per year"
   ]
  },
  {
   "cell_type": "code",
   "execution_count": 24,
   "metadata": {
    "ExecuteTime": {
     "end_time": "2021-02-15T16:47:40.766775Z",
     "start_time": "2021-02-15T16:47:40.701703Z"
    }
   },
   "outputs": [],
   "source": [
    "teste = decapoda.groupby(['collector_full_name','start_year']).count()['class'].reset_index().rename(columns=\n",
    "                                                                                            {'class':'counts'})"
   ]
  },
  {
   "cell_type": "code",
   "execution_count": 25,
   "metadata": {
    "ExecuteTime": {
     "end_time": "2021-02-15T16:47:40.782286Z",
     "start_time": "2021-02-15T16:47:40.771014Z"
    }
   },
   "outputs": [],
   "source": [
    "g1 = alt.Chart(teste, title= 'Counts per collector', width=800, height=1400).mark_circle().encode(\n",
    "    x= alt.X('start_year', type='ordinal', title='Sampling Year'),\n",
    "    y= alt.Y('collector_full_name', type='nominal', title='Collector', \n",
    "            sort=alt.EncodingSortField('counts', op=\"count\", order='descending')),\n",
    "    size= alt.Size('counts', title='Counts',\n",
    "                   scale=alt.Scale(range=[15, 500])),  # range ajusta tamanho do circulo\n",
    "    tooltip= alt.Tooltip(['collector_full_name', 'start_year', 'counts'])\n",
    ")\n",
    "\n",
    "\n",
    "# configuring graphic elements (font, fontSize, etc)\n",
    "g1 = g1.configure_title(fontSize=16).configure_axis(\n",
    "    labelFontSize=12,\n",
    "    titleFontSize=12\n",
    ").configure_legend(\n",
    "    labelFontSize=12,\n",
    "    titleFontSize=12\n",
    ")\n",
    "\n",
    "# g1.save('./graphs/collector/counts_per_collector.html')\n",
    "# g1"
   ]
  },
  {
   "cell_type": "markdown",
   "metadata": {},
   "source": [
    "<font color='red' size='5'>same chart, now coloring by family</font>\n"
   ]
  },
  {
   "cell_type": "code",
   "execution_count": 26,
   "metadata": {
    "ExecuteTime": {
     "end_time": "2021-02-15T16:47:40.966527Z",
     "start_time": "2021-02-15T16:47:40.783944Z"
    }
   },
   "outputs": [],
   "source": [
    "teste1 = NewTable.groupby(['collector_full_name','start_year', 'infraorder','family']).count()['class'].reset_index().rename(columns=\n",
    "                                                                                            {'class':'counts'})"
   ]
  },
  {
   "cell_type": "code",
   "execution_count": 34,
   "metadata": {
    "ExecuteTime": {
     "end_time": "2021-02-15T16:51:29.777866Z",
     "start_time": "2021-02-15T16:51:29.746695Z"
    }
   },
   "outputs": [],
   "source": [
    "# database\n",
    "db = teste1\n",
    "\n",
    "# aux. variables\n",
    "x_labels = db.sort_values('start_year')['start_year'].unique()\n",
    "temp = db['counts'].unique()\n",
    "counts = list(range(temp.min(), temp.max(), 200))\n",
    "\n",
    "# selector\n",
    "select_family = alt.selection_multi(fields= ['family'], bind= 'legend')\n",
    "\n",
    "g = alt.Chart(teste1, title= 'Counts per collector (sorted by sum)', \n",
    "              width=800, height=1400).mark_circle().encode(\n",
    "    x= alt.X('start_year', type='ordinal', title='Sampling Year', \n",
    "             scale= alt.Scale(domain= x_labels)),\n",
    "    y= alt.Y('collector_full_name', type='nominal', title='Collector', \n",
    "            sort=alt.EncodingSortField('counts', op=\"sum\", order='descending')),\n",
    "    size= alt.Size('counts:Q', title='Counts',\n",
    "                   legend= alt.Legend(orient='right', direction='horizontal'),\n",
    "                   scale=alt.Scale(domain= counts, range=[20, 120], zero= True)),  # range ajusta tamanho do circulo\n",
    "    order= alt.Order('counts', sort='descending'),  # smaller points in front\n",
    "    color= alt.Color('family:N', title=\"Family\", \n",
    "                     scale=alt.Scale(domain=list(cores_familia_naive.keys()), \n",
    "                                     range=list(cores_familia_naive.values())),\n",
    "                     legend= alt.Legend(columns=2, symbolLimit= 102)),\n",
    "    tooltip= alt.Tooltip(['collector_full_name', 'start_year', 'counts', 'family'])\n",
    ").add_selection(select_family).transform_filter(select_family)\n",
    "\n",
    "# configuring graphic elements (font, fontSize, etc)\n",
    "g = g.configure_title(fontSize=16).configure_axis(\n",
    "    labelFontSize=12,\n",
    "    titleFontSize=12\n",
    ").configure_legend(\n",
    "    labelFontSize=12,\n",
    "    titleFontSize=12\n",
    ")\n",
    "\n",
    "# g.save('./graphs/collector/counts_per_collector-w-family.html')\n",
    "# g"
   ]
  },
  {
   "cell_type": "markdown",
   "metadata": {},
   "source": [
    "<br>\n",
    "\n",
    "<font color='red'>**same chart, now rearranging by the first year the collector shows up on the database**</font>"
   ]
  },
  {
   "cell_type": "code",
   "execution_count": 18,
   "metadata": {
    "ExecuteTime": {
     "end_time": "2021-02-15T16:33:19.727165Z",
     "start_time": "2021-02-15T16:33:19.677544Z"
    }
   },
   "outputs": [],
   "source": [
    "# ordenando\n",
    "teste1.sort_values(['start_year', 'collector_full_name'], inplace=True)\n",
    "\n",
    "# salvando ordem das entradas\n",
    "sorting = list(teste1['collector_full_name'].unique())"
   ]
  },
  {
   "cell_type": "code",
   "execution_count": 40,
   "metadata": {
    "ExecuteTime": {
     "end_time": "2021-02-15T16:55:16.472355Z",
     "start_time": "2021-02-15T16:55:16.439811Z"
    }
   },
   "outputs": [],
   "source": [
    "# database\n",
    "db = teste1\n",
    "\n",
    "# aux. variables\n",
    "x_labels = db.sort_values('start_year')['start_year'].unique()\n",
    "temp = db['counts'].unique()\n",
    "counts = list(range(temp.min(), temp.max(), 200))\n",
    "\n",
    "# selector\n",
    "select_family = alt.selection_multi(fields= ['family'], bind= 'legend')\n",
    "\n",
    "g = alt.Chart(db, title= 'Counts per collector (rearranged by first year of appearance)', \n",
    "              width=800, height=1400).mark_circle().encode(\n",
    "    x= alt.X('start_year', type='ordinal', title='Sampling Year', \n",
    "             scale= alt.Scale(domain= x_labels)),\n",
    "    y= alt.Y('collector_full_name', type='nominal', title='Collector', \n",
    "             sort=alt.EncodingSortField('start_year', op=\"min\", order='ascending')),\n",
    "    size= alt.Size('counts:Q', title='Counts',\n",
    "                   legend= alt.Legend(direction='horizontal', orient='right'),\n",
    "                   scale=alt.Scale(domain= counts, range=[20, 120])),  # range ajusta tamanho do circulo\n",
    "    order= alt.Order('counts', sort='descending'),  # smaller points in front    \n",
    "    color= alt.Color('family:N', title=\"Family\", \n",
    "                     scale=alt.Scale(domain=list(cores_familia_naive.keys()), \n",
    "                                     range=list(cores_familia_naive.values())),\n",
    "                     legend= alt.Legend(columns=2, symbolLimit= 102)),\n",
    "    tooltip= alt.Tooltip(['collector_full_name', 'start_year', 'counts', 'family'])\n",
    ").add_selection(select_family).transform_filter(select_family)\n",
    "\n",
    "# configuring graphic elements (font, fontSize, etc)\n",
    "g = g.configure_title(fontSize=16).configure_axis(\n",
    "    labelFontSize=12,\n",
    "    titleFontSize=12\n",
    ").configure_legend(\n",
    "    labelFontSize=12,\n",
    "    titleFontSize=12\n",
    ")\n",
    "\n",
    "# g.save('./graphs/collector/counts_per_collector-w-family-rearranged.html')\n",
    "# g"
   ]
  },
  {
   "cell_type": "markdown",
   "metadata": {},
   "source": [
    "<br>\n",
    "\n",
    "### Gráfico dos coletores mais expressivos"
   ]
  },
  {
   "cell_type": "code",
   "execution_count": 20,
   "metadata": {
    "ExecuteTime": {
     "end_time": "2021-02-15T16:33:19.839596Z",
     "start_time": "2021-02-15T16:33:19.782446Z"
    }
   },
   "outputs": [],
   "source": [
    "# somando contagens de cada pesquisador\n",
    "sorting = teste1.groupby('collector_full_name').sum()['counts'].reset_index().rename(\n",
    "    columns={'counts':'sum'})\n",
    "\n",
    "sorting = sorting.sort_values('sum', ascending=False)\n",
    "\n",
    "# Nomes dos pesquisadores ordenados\n",
    "sort_list = sorting['collector_full_name'].unique()"
   ]
  },
  {
   "cell_type": "code",
   "execution_count": 21,
   "metadata": {
    "ExecuteTime": {
     "end_time": "2021-02-15T16:33:19.899323Z",
     "start_time": "2021-02-15T16:33:19.841636Z"
    }
   },
   "outputs": [],
   "source": [
    "select_family = alt.selection_multi(fields= ['family'], bind='legend')\n",
    "\n",
    "# filtering database (top 50 most expressive collectors)\n",
    "db = teste1[teste1['collector_full_name'].isin(sort_list[:50])].sort_values('start_year')\n",
    "\n",
    "# auxiliar variables for encoding fields\n",
    "x_labels = db['start_year'].unique()\n",
    "y_labels = sort_list[:50]\n",
    "counts = db['counts'].unique()\n",
    "counts = list(range(min(counts), max(counts), 200))\n",
    "# families = [f for f in cores_familia_naive.keys() if f in db['family'].unique()]\n",
    "# colors = [cores_familia_naive[k] for k in families]\n",
    "\n",
    "g = alt.Chart(teste1[teste1['collector_full_name'].isin(sort_list[:50])], width=800, height=800,\n",
    "              title= 'Counts per collector (Top 50)').mark_circle().encode(\n",
    "    x= alt.X('start_year', type='ordinal', title='Sampling Year',\n",
    "             scale= alt.Scale(domain= x_labels)),\n",
    "    y= alt.Y('collector_full_name', type='nominal', title='Collector', \n",
    "            sort=sort_list[:50],\n",
    "            scale= alt.Scale(domain= y_labels)),\n",
    "    size= alt.Size('counts:Q', title='Counts',\n",
    "                   legend= alt.Legend(orient= 'right', direction='horizontal'),\n",
    "                   scale=alt.Scale(domain= counts,range=[15, 115])),  # range ajusta tamanho do circulo\n",
    "    order= alt.Order('counts', sort='descending'),  # smaller points in front\n",
    "    color= alt.Color('family:N', title=\"Family\", \n",
    "                     scale=alt.Scale(domain=list(cores_familia_naive.keys()), \n",
    "                                     range=list(cores_familia_naive.values())),\n",
    "                     legend= alt.Legend(columns=2, symbolLimit= 102)),\n",
    "    tooltip= alt.Tooltip(['collector_full_name', 'start_year', 'counts', 'infraorder','family'])\n",
    ").add_selection(select_family).transform_filter(select_family)\n",
    "\n",
    "# configuring graphic elements (font, fontSize, etc)\n",
    "g = g.configure_title(fontSize=16).configure_axis(\n",
    "    labelFontSize=12,\n",
    "    titleFontSize=12\n",
    ").configure_legend(\n",
    "    labelFontSize=12,\n",
    "    titleFontSize=12\n",
    ")\n",
    "\n",
    "# g.save('./graphs/collector/counts_per_collector-top50.html')\n",
    "# g"
   ]
  },
  {
   "cell_type": "markdown",
   "metadata": {},
   "source": [
    "<br>\n",
    "\n",
    "#### ordering by first year of appearance"
   ]
  },
  {
   "cell_type": "code",
   "execution_count": 22,
   "metadata": {
    "ExecuteTime": {
     "end_time": "2021-02-15T16:33:19.950515Z",
     "start_time": "2021-02-15T16:33:19.900816Z"
    }
   },
   "outputs": [],
   "source": [
    "# somando contagens de cada pesquisador\n",
    "sorting = teste1.groupby(['collector_full_name', 'start_year']).sum()['counts'].reset_index().rename(\n",
    "    columns={'counts':'sum'})\n",
    "\n",
    "sorting = sorting.sort_values('start_year', ascending=True)"
   ]
  },
  {
   "cell_type": "code",
   "execution_count": 23,
   "metadata": {
    "ExecuteTime": {
     "end_time": "2021-02-15T16:33:20.021569Z",
     "start_time": "2021-02-15T16:33:19.956723Z"
    }
   },
   "outputs": [],
   "source": [
    "select_family = alt.selection_multi(fields= ['family'], bind='legend')\n",
    "\n",
    "# filtering database (top 50 most expressive collectors)\n",
    "db = teste1[teste1['collector_full_name'].isin(sort_list[:50])].sort_values('start_year')\n",
    "\n",
    "# auxiliar variables for encoding fields\n",
    "x_labels = db['start_year'].unique()\n",
    "y_labels = [n for n in db['collector_full_name'].unique() if n in sort_list[:50]]  # needs to be a top 50\n",
    "counts = db['counts'].unique()\n",
    "counts = list(range(min(counts), max(counts), 200))\n",
    "# families = [f for f in cores_familia_naive.keys() if f in db['family'].unique()]\n",
    "# colors = [cores_familia_naive[k] for k in families]\n",
    "\n",
    "g = alt.Chart(teste1[teste1['collector_full_name'].isin(sort_list[:50])], width=800, height=800,\n",
    "        title= 'Counts per collector (Top 50 - rearranged by first year of appearance)').mark_circle().encode(\n",
    "    x= alt.X('start_year', type='ordinal', title='Sampling Year',\n",
    "             scale= alt.Scale(domain= x_labels)),\n",
    "    y= alt.Y('collector_full_name', type='nominal', title='Collector', \n",
    "            scale= alt.Scale(domain= y_labels),\n",
    "            sort=alt.EncodingSortField('start_year')),\n",
    "    size= alt.Size('counts:Q', title='Counts',\n",
    "                   legend= alt.Legend(orient= 'right', direction= 'horizontal'),\n",
    "                   scale=alt.Scale(domain= counts,range=[15, 115])),  # range ajusta tamanho do circulo\n",
    "    order= alt.Order('counts', sort='descending'),  # smaller points in front\n",
    "    color= alt.Color('family:N', title=\"Family\", \n",
    "                     scale=alt.Scale(domain=list(cores_familia_naive.keys()), \n",
    "                                     range=list(cores_familia_naive.values())),\n",
    "                     legend= alt.Legend(columns=2, symbolLimit= 102)),\n",
    "    tooltip= alt.Tooltip(['collector_full_name', 'start_year', 'counts', 'family'])\n",
    ").add_selection(select_family).transform_filter(select_family)\n",
    "\n",
    "# configuring graphic elements (font, fontSize, etc)\n",
    "g = g.configure_title(fontSize=16).configure_axis(\n",
    "    labelFontSize=12,\n",
    "    titleFontSize=12\n",
    ").configure_legend(\n",
    "    labelFontSize=12,\n",
    "    titleFontSize=12\n",
    ")\n",
    "\n",
    "# g.save('./graphs/collector/counts_per_collector-top50-rearranged.html')\n",
    "# g"
   ]
  },
  {
   "cell_type": "markdown",
   "metadata": {},
   "source": [
    "<br>\n",
    "\n",
    "**The end!**\n",
    "\n",
    "-----"
   ]
  }
 ],
 "metadata": {
  "kernelspec": {
   "display_name": "Python 3",
   "language": "python",
   "name": "python3"
  },
  "language_info": {
   "codemirror_mode": {
    "name": "ipython",
    "version": 3
   },
   "file_extension": ".py",
   "mimetype": "text/x-python",
   "name": "python",
   "nbconvert_exporter": "python",
   "pygments_lexer": "ipython3",
   "version": "3.9.1"
  },
  "latex_envs": {
   "LaTeX_envs_menu_present": true,
   "autoclose": false,
   "autocomplete": true,
   "bibliofile": "biblio.bib",
   "cite_by": "apalike",
   "current_citInitial": 1,
   "eqLabelWithNumbers": true,
   "eqNumInitial": 1,
   "hotkeys": {
    "equation": "Ctrl-E",
    "itemize": "Ctrl-I"
   },
   "labels_anchors": false,
   "latex_user_defs": false,
   "report_style_numbering": false,
   "user_envs_cfg": false
  },
  "toc": {
   "base_numbering": 1,
   "nav_menu": {},
   "number_sections": false,
   "sideBar": true,
   "skip_h1_title": false,
   "title_cell": "Table of Contents",
   "title_sidebar": "Contents",
   "toc_cell": false,
   "toc_position": {},
   "toc_section_display": true,
   "toc_window_display": false
  },
  "varInspector": {
   "cols": {
    "lenName": 16,
    "lenType": 16,
    "lenVar": 40
   },
   "kernels_config": {
    "python": {
     "delete_cmd_postfix": "",
     "delete_cmd_prefix": "del ",
     "library": "var_list.py",
     "varRefreshCmd": "print(var_dic_list())"
    },
    "r": {
     "delete_cmd_postfix": ") ",
     "delete_cmd_prefix": "rm(",
     "library": "var_list.r",
     "varRefreshCmd": "cat(var_dic_list()) "
    }
   },
   "position": {
    "height": "391.35px",
    "left": "900.5px",
    "right": "20px",
    "top": "96px",
    "width": "536.5px"
   },
   "types_to_exclude": [
    "module",
    "function",
    "builtin_function_or_method",
    "instance",
    "_Feature"
   ],
   "window_display": false
  }
 },
 "nbformat": 4,
 "nbformat_minor": 2
}
