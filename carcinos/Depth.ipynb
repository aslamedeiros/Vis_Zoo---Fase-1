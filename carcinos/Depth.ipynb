{
 "cells": [
  {
   "cell_type": "markdown",
   "metadata": {},
   "source": [
    "# Depth\n",
    "\n",
    "By **Franklin Oliveira**\n",
    "\n",
    "-----\n",
    "\n",
    "This notebook outputs Depth charts for the `carcinos` collection. \n",
    "\n",
    "Database: <font color='blue'>'Planilha geral Atualizada FINAL 5_GERAL_sendo trabalhada no Google drive.xlsx'</font>."
   ]
  },
  {
   "cell_type": "code",
   "execution_count": 1,
   "metadata": {
    "ExecuteTime": {
     "end_time": "2021-02-14T18:21:57.688200Z",
     "start_time": "2021-02-14T18:21:57.022355Z"
    }
   },
   "outputs": [
    {
     "data": {
      "text/plain": [
       "DataTransformerRegistry.enable('default')"
      ]
     },
     "execution_count": 1,
     "metadata": {},
     "output_type": "execute_result"
    }
   ],
   "source": [
    "import datetime\n",
    "import numpy as np\n",
    "import pandas as pd\n",
    "\n",
    "from collections import defaultdict\n",
    "\n",
    "# pacotes para visualização rápida\n",
    "import seaborn as sns\n",
    "import matplotlib.pyplot as plt\n",
    "\n",
    "# pacote para visualização principal\n",
    "import altair as alt\n",
    "\n",
    "# habilitando renderizador para notebook\n",
    "# alt.renderers.enable('notebook')\n",
    "alt.renderers.enable('default')\n",
    "\n",
    "\n",
    "# desabilitando limite de linhas\n",
    "alt.data_transformers.disable_max_rows()"
   ]
  },
  {
   "cell_type": "markdown",
   "metadata": {},
   "source": [
    "## Importing data...\n",
    "\n",
    "Importing pre-treated data in `1-data_treatment.ipynb`. In this notebook, I'm doing only some minnor adjustments for visualization purposes only. For a full traceback of data treatment, please see the `1-data_treatment` notebook."
   ]
  },
  {
   "cell_type": "code",
   "execution_count": 2,
   "metadata": {
    "ExecuteTime": {
     "end_time": "2021-02-14T18:21:59.295543Z",
     "start_time": "2021-02-14T18:21:58.905031Z"
    }
   },
   "outputs": [],
   "source": [
    "# treated_db was the previous db I used to write all this code\n",
    "NewTable = pd.read_csv('./data/treated_db.csv', sep=';', encoding='utf-8', low_memory=False)"
   ]
  },
  {
   "cell_type": "markdown",
   "metadata": {},
   "source": [
    "## Filtering\n",
    "\n",
    "At least for now, we'll be considering only specimens of order decapoda (deeply revised by the Museum's crew)"
   ]
  },
  {
   "cell_type": "code",
   "execution_count": 3,
   "metadata": {
    "ExecuteTime": {
     "end_time": "2021-02-14T18:21:59.619798Z",
     "start_time": "2021-02-14T18:21:59.598589Z"
    }
   },
   "outputs": [],
   "source": [
    "decapoda = NewTable[NewTable['order'] == 'Decapoda'].copy()"
   ]
  },
  {
   "cell_type": "markdown",
   "metadata": {},
   "source": [
    "<br>\n",
    "\n",
    "<font size=5>**Color palette**</font>\n",
    "\n",
    "Colors (per infraorder): \n",
    "\n",
    "- <font color='#e26d67'><b>Ascacidae</b></font>\n",
    "- <font color='#007961'><b>Anomura</b></font>\n",
    "- <font color='#7a2c39'><b>Achelata</b></font>\n",
    "- <font color='#b67262'><b>Axiidea</b></font>\n",
    "- <font color='#ee4454'><b>Brachyura</b></font>\n",
    "- <font color='#3330b7'><b>Caridea</b></font>\n",
    "- <font color='#58b5e1'><b>Gebiidea</b></font>\n",
    "- <font color='#b8e450'><b>Stenopodídea</b></font>\n",
    "- <font color='#a0a3fd'><b>Astacidae</b></font>\n",
    "- <font color='#deae9e'><b>Polychelida</b></font>\n",
    "- <font color='#d867be'><b>Grapsidae</b></font>\n",
    "- <font color='#fece5f'><b>Xanthoidea</b></font>"
   ]
  },
  {
   "cell_type": "code",
   "execution_count": 4,
   "metadata": {
    "ExecuteTime": {
     "end_time": "2021-02-14T18:22:00.447376Z",
     "start_time": "2021-02-14T18:22:00.440391Z"
    }
   },
   "outputs": [],
   "source": [
    "# importing customized color palettes\n",
    "from src.MNViz_colors import *"
   ]
  },
  {
   "cell_type": "markdown",
   "metadata": {},
   "source": [
    "<br>\n",
    "\n",
    "---\n",
    "\n",
    "## Graphs\n",
    "\n",
    "### Depth per family\n",
    "\n",
    "x: Start Year (from Start Date)\n",
    "y: number of catalogations per year"
   ]
  },
  {
   "cell_type": "code",
   "execution_count": 5,
   "metadata": {
    "ExecuteTime": {
     "end_time": "2021-02-14T18:22:03.425389Z",
     "start_time": "2021-02-14T18:22:03.414191Z"
    }
   },
   "outputs": [],
   "source": [
    "# subsetting\n",
    "teste = decapoda[['min_depth','family','infraorder', 'start_year', 'qualifier', 'catalog_number', \n",
    "                  'genus', 'species', 'collector_full_name', 'country','state','locality', 'type_status']].copy()\n",
    "\n",
    "# sorting\n",
    "teste = teste.sort_values(['min_depth','family'])\n",
    "\n",
    "# dropping na\n",
    "teste.dropna(subset=['min_depth'], inplace=True)\n",
    "\n",
    "# making sure altitude is a floating point number\n",
    "teste['min_depth'] = teste['min_depth'].astype(float)\n",
    "\n",
    "# extremes for scale\n",
    "max_y = teste['min_depth'].max()\n",
    "min_y = teste['min_depth'].min()"
   ]
  },
  {
   "cell_type": "code",
   "execution_count": 7,
   "metadata": {
    "ExecuteTime": {
     "end_time": "2021-02-14T18:22:46.360460Z",
     "start_time": "2021-02-14T18:22:46.333308Z"
    }
   },
   "outputs": [],
   "source": [
    "temp = alt.Chart(teste, title='Depth per Family', width=800, height=400).mark_circle().encode(\n",
    "    x = alt.X('family', type='nominal', title='Family', \n",
    "              sort= alt.EncodingSortField('min_depth', op='max', order='ascending')),\n",
    "    y = alt.Y('min_depth', type='quantitative', title='Depth (in meters)',\n",
    "              scale = alt.Scale(domain=[max_y, min_y])),\n",
    "        color= alt.Color('family:N', title='Family', \n",
    "                     scale=alt.Scale(domain=list(cores_familia_naive.keys()), \n",
    "                                     range=list(cores_familia_naive.values())),\n",
    "                     legend= alt.Legend(columns=3, symbolLimit=102)),\n",
    "    tooltip = alt.Tooltip(['catalog_number', 'infraorder','family','genus','species', 'type_status',\n",
    "                            'qualifier', 'start_year','collector_full_name',\n",
    "                            'country', 'state', 'locality', 'min_depth'])\n",
    ")\n",
    "\n",
    "temp = temp.configure_title(fontSize=16).configure_axis(\n",
    "    labelFontSize=12,\n",
    "    titleFontSize=12\n",
    ").configure_legend(\n",
    "    labelFontSize=12,\n",
    "    titleFontSize=12\n",
    ")\n",
    "\n",
    "# temp.save('./graphs/depth/depth_per_family.html')\n",
    "# temp"
   ]
  },
  {
   "cell_type": "markdown",
   "metadata": {},
   "source": [
    "<br>\n",
    "\n",
    "### Customizing scale for Y axis\n",
    "\n",
    "as suggested by the Museum team: 200m is a threshold that separates ocean stream."
   ]
  },
  {
   "cell_type": "code",
   "execution_count": 9,
   "metadata": {
    "ExecuteTime": {
     "end_time": "2021-02-14T18:23:49.799202Z",
     "start_time": "2021-02-14T18:23:49.777251Z"
    }
   },
   "outputs": [],
   "source": [
    "# escala customizada para o eixo Y\n",
    "custom_y_scale = []\n",
    "\n",
    "i = 0\n",
    "\n",
    "while i < max_y+1:\n",
    "    if i % 20 == 0 and i <= 200:\n",
    "        custom_y_scale.append(i)\n",
    "    elif i % 100 == 0 and i <=500:\n",
    "        custom_y_scale.append(i)\n",
    "    elif i % 500 == 0:\n",
    "        custom_y_scale.append(i)\n",
    "    i+=1\n",
    "    \n",
    "custom_y_scale.append(custom_y_scale[-1] + 500)\n",
    "\n",
    "# custom_y_scale"
   ]
  },
  {
   "cell_type": "code",
   "execution_count": 13,
   "metadata": {
    "ExecuteTime": {
     "end_time": "2021-02-14T18:25:26.147966Z",
     "start_time": "2021-02-14T18:25:26.105722Z"
    }
   },
   "outputs": [],
   "source": [
    "data = teste.copy()\n",
    "data['type_status'] = data['type_status'].astype(str)\n",
    "\n",
    "select_family = alt.selection_multi(fields=['family'], bind='legend')\n",
    "select_type = alt.selection_multi(fields=['type_status'], bind='legend')\n",
    "\n",
    "# background\n",
    "back = alt.Chart(data, title='Depth per Family', width=800, height=1200).mark_point(filled=True,\n",
    "                                                                color= 'lightgray', opacity=0.2).encode(\n",
    "    x = alt.X('family', type='nominal', title='Family', \n",
    "              sort= alt.EncodingSortField('min_depth', op='max', order='ascending')),\n",
    "    y = alt.Y('min_depth', type='quantitative', title='Depth (in meters)',\n",
    "              scale = alt.Scale(domain=[max_y, min_y]),\n",
    "              axis= alt.Axis(values=custom_y_scale, tickCount=len(custom_y_scale),\n",
    "                             labelExpr=\"datum.value % 50 ? null : datum.label\")),\n",
    "    tooltip = alt.Tooltip(['catalog_number', 'infraorder','family','genus','species', 'type_status',\n",
    "                            'qualifier', 'start_year','collector_full_name',\n",
    "                            'country', 'state', 'locality', 'min_depth'])\n",
    ")\n",
    "\n",
    "# front view\n",
    "front = alt.Chart(data, title='Depth per Family', width=800, height=1200).mark_point(filled=True).encode(\n",
    "    x = alt.X('family', type='nominal', title='Family', \n",
    "              sort= alt.EncodingSortField('min_depth', op='max', order='ascending')),\n",
    "    y = alt.Y('min_depth', type='quantitative', title='Depth (in meters)',\n",
    "              scale = alt.Scale(domain=[max_y, min_y]),\n",
    "              axis= alt.Axis(values=custom_y_scale, tickCount=len(custom_y_scale),\n",
    "                             labelExpr=\"datum.value % 50 ? null : datum.label\")),\n",
    "    color= alt.Color('family', title='Family', \n",
    "                     scale=alt.Scale(domain=list(cores_familia_naive.keys()), \n",
    "                                     range=list(cores_familia_naive.values())),\n",
    "                     legend= alt.Legend(columns=2, symbolLimit=102)),\n",
    "    shape = alt.Shape('type_status:N', title='Types', \n",
    "                      legend= alt.Legend(columns=4),\n",
    "                      scale= alt.Scale(domain=['Holótipo', 'Lectótipo','Parátipo', 'nan'],\n",
    "                                       range=['triangle', 'square', 'cross','circle'])),\n",
    "    tooltip = alt.Tooltip(['catalog_number', 'infraorder','family','genus','species', 'type_status',\n",
    "                            'qualifier', 'start_year','collector_full_name',\n",
    "                            'country', 'state', 'locality', 'min_depth'])\n",
    ").add_selection(select_family, select_type).transform_filter(select_family).transform_filter(select_type)\n",
    "\n",
    "g = (back + front)\n",
    "\n",
    "g = g.configure_title(fontSize=16).configure_axis(\n",
    "    labelFontSize=12,\n",
    "    titleFontSize=12\n",
    ").configure_legend(\n",
    "    labelFontSize=12,\n",
    "    titleFontSize=12\n",
    ")\n",
    "\n",
    "# g.save('./graphs/depth/depth_per_family-custom_scale.html')\n",
    "# g"
   ]
  },
  {
   "cell_type": "markdown",
   "metadata": {},
   "source": [
    "<br>\n",
    "\n",
    "### Interactive version with standard scale"
   ]
  },
  {
   "cell_type": "code",
   "execution_count": 17,
   "metadata": {
    "ExecuteTime": {
     "end_time": "2021-02-14T18:27:29.024913Z",
     "start_time": "2021-02-14T18:27:28.990968Z"
    }
   },
   "outputs": [],
   "source": [
    "# subsetting\n",
    "teste = decapoda[['min_depth','family','infraorder', 'start_year', 'qualifier', 'catalog_number', \n",
    "                  'genus', 'species', 'collector_full_name', 'country','state','locality', 'type_status']].copy()\n",
    "\n",
    "# sorting\n",
    "teste = teste.sort_values(['min_depth','family'])\n",
    "\n",
    "# dropping na\n",
    "teste.dropna(subset=['min_depth'], inplace=True)\n",
    "\n",
    "# making sure altitude is a floating point number\n",
    "teste['min_depth'] = teste['min_depth'].astype(float)\n",
    "\n",
    "# extremes for scale\n",
    "max_y = teste['min_depth'].max()\n",
    "min_y = teste['min_depth'].min()"
   ]
  },
  {
   "cell_type": "code",
   "execution_count": 40,
   "metadata": {
    "ExecuteTime": {
     "end_time": "2021-02-14T18:38:39.649439Z",
     "start_time": "2021-02-14T18:38:39.607151Z"
    }
   },
   "outputs": [],
   "source": [
    "data = teste.copy()\n",
    "data['type_status'] = data['type_status'].astype(str)\n",
    "\n",
    "select_family = alt.selection_multi(fields=['family'], bind='legend')\n",
    "select_type = alt.selection_multi(fields=['type_status'], bind='legend')\n",
    "\n",
    "### background\n",
    "back = alt.Chart(data, title='Depth per Family', width=800, height=400).mark_point(filled=True,\n",
    "                                                                  color='lightgray', opacity=0.2).encode(\n",
    "    x = alt.X('family', type='nominal', title='Family', \n",
    "              sort= alt.EncodingSortField('min_depth', op='max', order='ascending')),\n",
    "    y = alt.Y('min_depth', type='quantitative', title='Depth (in meters)',\n",
    "              scale = alt.Scale(domain=[max_y, min_y])),\n",
    "    tooltip = alt.Tooltip(['catalog_number', 'infraorder','family','genus','species', 'type_status',\n",
    "                           'qualifier', 'start_year','collector_full_name',\n",
    "                           'country', 'state', 'locality', 'min_depth'])\n",
    ")\n",
    "\n",
    "### front view\n",
    "temp = alt.Chart(data, title='Depth per Family', width=800, height=400).mark_point(filled=True).encode(\n",
    "    x = alt.X('family', type='nominal', title='Family', \n",
    "              sort= alt.EncodingSortField('min_depth', op='max', order='ascending')),\n",
    "    y = alt.Y('min_depth', type='quantitative', title='Depth (in meters)',\n",
    "              scale = alt.Scale(domain=[max_y, min_y])),\n",
    "    color= alt.Color('family', title='Family', \n",
    "                     scale=alt.Scale(domain=list(cores_familia_naive.keys()), \n",
    "                                     range=list(cores_familia_naive.values())),\n",
    "                     legend= alt.Legend(columns=3, symbolLimit=102)),\n",
    "    shape= alt.Shape('type_status:N', title='Types', \n",
    "                     legend= alt.Legend(columns=4),\n",
    "                     scale= alt.Scale(domain=['Holótipo', 'Lectótipo','Parátipo', 'nan'],\n",
    "                                     range=['triangle', 'square', 'cross','circle'])),\n",
    "#     opacity= alt.condition(select_type, alt.value(1), alt.value(0)),\n",
    "    tooltip = alt.Tooltip(['catalog_number', 'infraorder','family','genus','species', 'type_status',\n",
    "                            'qualifier', 'start_year','collector_full_name',\n",
    "                            'country', 'state', 'locality', 'min_depth'])\n",
    ").add_selection(select_family, select_type).transform_filter(select_family).transform_filter(select_type)\n",
    "\n",
    "g = (back + temp)\n",
    "\n",
    "g = g.configure_title(fontSize=16).configure_axis(\n",
    "    labelFontSize=12,\n",
    "    titleFontSize=12\n",
    ").configure_legend(\n",
    "    labelFontSize=12,\n",
    "    titleFontSize=12\n",
    ")\n",
    "\n",
    "# g.save('./graphs/depth/depth_per_family-shape_types.html')\n",
    "# g"
   ]
  },
  {
   "cell_type": "markdown",
   "metadata": {},
   "source": [
    "<br>\n",
    "\n",
    "### Interactive version considering specimens collected ABOVE sea level (column `depth`)"
   ]
  },
  {
   "cell_type": "code",
   "execution_count": 16,
   "metadata": {
    "ExecuteTime": {
     "end_time": "2021-02-14T18:27:06.125637Z",
     "start_time": "2021-02-14T18:27:06.123785Z"
    }
   },
   "outputs": [],
   "source": [
    "# family Pseudothelphusidae was collected above sea level\n",
    "# teste[teste['depth'] < 0]['family']"
   ]
  },
  {
   "cell_type": "code",
   "execution_count": 20,
   "metadata": {
    "ExecuteTime": {
     "end_time": "2021-02-14T18:29:42.739649Z",
     "start_time": "2021-02-14T18:29:42.726253Z"
    }
   },
   "outputs": [],
   "source": [
    "# subsetting\n",
    "teste = decapoda[['depth','family','infraorder', 'start_year', 'qualifier', 'catalog_number', \n",
    "                  'genus', 'species', 'collector_full_name', 'country','state','locality', 'type_status']].copy()\n",
    "\n",
    "# sorting\n",
    "teste = teste.sort_values(['depth','family'])\n",
    "\n",
    "# dropping na\n",
    "teste.dropna(subset=['depth'], inplace=True)\n",
    "\n",
    "# making sure altitude is a floating point number\n",
    "teste['depth'] = teste['depth'].astype(float)\n",
    "\n",
    "# extremes for scale\n",
    "max_y = teste['depth'].max()\n",
    "min_y = teste['depth'].min()"
   ]
  },
  {
   "cell_type": "code",
   "execution_count": 24,
   "metadata": {
    "ExecuteTime": {
     "end_time": "2021-02-14T18:30:58.436677Z",
     "start_time": "2021-02-14T18:30:58.409418Z"
    }
   },
   "outputs": [],
   "source": [
    "data = teste.copy()\n",
    "data['type_status'] = data['type_status'].astype(str)\n",
    "\n",
    "select_family = alt.selection_multi(fields=['family'], bind='legend')\n",
    "select_type = alt.selection_multi(fields=['type_status'], bind='legend')\n",
    "\n",
    "### background\n",
    "back = alt.Chart(data, title='Depth per Family', width=800, height=400).mark_point(filled=True,\n",
    "                                                                  color='lightgray', opacity=0.2).encode(\n",
    "    x = alt.X('family', type='nominal', title='Family', \n",
    "              sort= alt.EncodingSortField('depth', op='max', order='ascending')),\n",
    "    y = alt.Y('depth', type='quantitative', title='Depth (in meters)',\n",
    "              scale = alt.Scale(domain=[max_y, min_y])),\n",
    "    tooltip = alt.Tooltip(['catalog_number', 'infraorder','family','genus','species', 'type_status',\n",
    "                           'qualifier', 'start_year','collector_full_name',\n",
    "                           'country', 'state', 'locality', 'depth'])\n",
    ")\n",
    "\n",
    "### front view\n",
    "temp = alt.Chart(data, title='Depth per Family', width=800, height=400).mark_point(filled=True).encode(\n",
    "    x = alt.X('family', type='nominal', title='Family', \n",
    "              sort= alt.EncodingSortField('depth', op='max', order='ascending')),\n",
    "    y = alt.Y('depth', type='quantitative', title='Depth (in meters)',\n",
    "              scale = alt.Scale(domain=[max_y, min_y])),\n",
    "    color= alt.Color('family', title='Family', \n",
    "                     scale=alt.Scale(domain=list(cores_familia_naive.keys()), \n",
    "                                     range=list(cores_familia_naive.values())),\n",
    "                     legend= alt.Legend(columns=3, symbolLimit=102)),\n",
    "    shape= alt.Shape('type_status:N', title='Types', \n",
    "                     legend= alt.Legend(columns=4),\n",
    "                     scale= alt.Scale(domain=['Holótipo', 'Lectótipo','Parátipo', 'nan'],\n",
    "                                     range=['triangle', 'square', 'cross','circle'])),\n",
    "#     opacity= alt.condition(select_type, alt.value(1), alt.value(0)),\n",
    "    tooltip = alt.Tooltip(['catalog_number', 'infraorder','family','genus','species', 'type_status',\n",
    "                            'qualifier', 'start_year','collector_full_name',\n",
    "                            'country', 'state', 'locality', 'depth'])\n",
    ").add_selection(select_family, select_type).transform_filter(select_family).transform_filter(select_type)\n",
    "\n",
    "g = (back + temp)\n",
    "\n",
    "g = g.configure_title(fontSize=16).configure_axis(\n",
    "    labelFontSize=12,\n",
    "    titleFontSize=12\n",
    ").configure_legend(\n",
    "    labelFontSize=12,\n",
    "    titleFontSize=12\n",
    ")\n",
    "\n",
    "# g.save('./graphs/depth/depth_per_family-shape_types-wAltitude.html')\n",
    "# g"
   ]
  },
  {
   "cell_type": "markdown",
   "metadata": {},
   "source": [
    "<br>\n",
    "\n",
    "## Depth per genus"
   ]
  },
  {
   "cell_type": "code",
   "execution_count": 25,
   "metadata": {
    "ExecuteTime": {
     "end_time": "2021-02-14T18:31:01.441909Z",
     "start_time": "2021-02-14T18:31:01.409193Z"
    }
   },
   "outputs": [],
   "source": [
    "teste = decapoda[['min_depth','family','infraorder', 'start_year', 'qualifier', 'catalog_number', \n",
    "                  'genus', 'species',  'collector_full_name', 'type_status',\n",
    "                            'country', 'state', 'locality']].copy()\n",
    "\n",
    "# making sure altitude is a floating point number\n",
    "teste['min_depth'] = teste['min_depth'].astype(float)\n",
    "teste['genus'] = teste['genus'].str.capitalize()\n",
    "\n",
    "# sorting\n",
    "teste = teste.sort_values(['min_depth','genus'])\n",
    "\n",
    "# dropping na\n",
    "teste = teste.dropna(subset=['min_depth'])\n",
    "\n",
    "# extremes for y axis\n",
    "max_y = teste['min_depth'].max()\n",
    "min_y = teste['min_depth'].min()"
   ]
  },
  {
   "cell_type": "code",
   "execution_count": 28,
   "metadata": {
    "ExecuteTime": {
     "end_time": "2021-02-14T18:32:39.317434Z",
     "start_time": "2021-02-14T18:32:39.267475Z"
    }
   },
   "outputs": [],
   "source": [
    "select_type = alt.selection_multi(fields= ['type_status'], bind='legend')\n",
    "select_family = alt.selection_multi(fields= ['family'], bind='legend')\n",
    "\n",
    "# filtering depth group\n",
    "db = teste.sort_values('min_depth', ascending=False)\n",
    "db['type_status'] = db['type_status'].astype(str)  # parsing into string to make selector work for NaN cases\n",
    "\n",
    "# encoding labels\n",
    "x_labels = db[['genus', 'min_depth']].groupby('genus').max().reset_index().sort_values('min_depth')['genus'].unique()\n",
    "y_labels = db['min_depth'].unique()\n",
    "types = db['type_status'].unique()\n",
    "families = db['family'].unique()\n",
    "\n",
    "# background\n",
    "back = alt.Chart(db, width= 1500, height=500,\n",
    "                 title='Depth per Genus').mark_point(filled=True, color='lightgray', opacity=0.2).encode(\n",
    "    x = alt.X('genus', type='nominal', title='Genus',\n",
    "             sort=alt.EncodingSortField('min_depth', op='max', order=\"ascending\"),\n",
    "             scale= alt.Scale(domain=x_labels)),\n",
    "    y = alt.Y('min_depth', type='quantitative', title='Depth (in meters)', \n",
    "              scale= alt.Scale(domain=[max_y, 0])),\n",
    "   tooltip = alt.Tooltip(['catalog_number', 'infraorder','family', 'genus','species',\n",
    "                            'qualifier', 'start_year','collector_full_name',\n",
    "                            'country', 'state', 'locality', 'min_depth'])\n",
    ")\n",
    "\n",
    "# front view\n",
    "front = alt.Chart(db, width= 1500, height=500,\n",
    "                 title='Depth per Genus').mark_point(filled=True).encode(\n",
    "    x = alt.X('genus', type='nominal', title='Genus',\n",
    "             sort=alt.EncodingSortField('min_depth', op='max', order=\"ascending\"),\n",
    "             scale= alt.Scale(domain=x_labels)),\n",
    "    y = alt.Y('min_depth', type='quantitative', title='Depth (in meters)', \n",
    "              scale= alt.Scale(domain=[max_y, 0])),\n",
    "    color = alt.Color('family:N', title='Family',\n",
    "                      scale= alt.Scale(domain=list(cores_familia_naive.keys()), \n",
    "                                       range=list(cores_familia_naive.values())),\n",
    "                      legend= alt.Legend(columns=3, symbolLimit=102)),\n",
    "    shape= alt.Shape('type_status:N', title='Types', \n",
    "                     legend= alt.Legend(columns=4),\n",
    "                     scale= alt.Scale(domain=['Holótipo', 'Lectótipo','Parátipo', 'nan'],\n",
    "                                     range=['triangle', 'square', 'cross','circle'])),\n",
    "    tooltip = alt.Tooltip(['catalog_number', 'infraorder','family', 'genus','species',\n",
    "                            'qualifier', 'start_year','collector_full_name',\n",
    "                            'country', 'state', 'locality', 'min_depth'])\n",
    ").add_selection(select_family, select_type).transform_filter(select_family).transform_filter(select_type)\n",
    "\n",
    "\n",
    "g = back + front\n",
    "\n",
    "g = g.configure_title(fontSize=16).configure_axis(\n",
    "    labelFontSize=12,\n",
    "    titleFontSize=12\n",
    ").configure_legend(\n",
    "    labelFontSize=12,\n",
    "    titleFontSize=12\n",
    ")\n",
    "\n",
    "# g.save('./graphs/depth/genus/depth-per-genus.html')\n",
    "# g"
   ]
  },
  {
   "cell_type": "markdown",
   "metadata": {},
   "source": [
    "<br>\n",
    "\n",
    "## Separating per Min Depth\n",
    "\n",
    "<font color='red' size=4>Separating groups below and above the 200m sea threshold</font>\n"
   ]
  },
  {
   "cell_type": "code",
   "execution_count": 29,
   "metadata": {
    "ExecuteTime": {
     "end_time": "2021-02-14T18:33:37.778708Z",
     "start_time": "2021-02-14T18:33:37.620142Z"
    }
   },
   "outputs": [],
   "source": [
    "genus = teste['genus'].unique()\n",
    "\n",
    "d = defaultdict()\n",
    "\n",
    "for gen in genus:\n",
    "    depth = teste[teste['genus'] == gen]['min_depth'].max()\n",
    "    d[gen] = depth\n",
    "        \n",
    "d = pd.DataFrame(dict(d), index=[0]).transpose().reset_index()\n",
    "d.columns = ['genus', 'max_depth']"
   ]
  },
  {
   "cell_type": "code",
   "execution_count": 30,
   "metadata": {
    "ExecuteTime": {
     "end_time": "2021-02-14T18:33:38.174293Z",
     "start_time": "2021-02-14T18:33:38.165050Z"
    }
   },
   "outputs": [],
   "source": [
    "# divisão entre marés (sugerido pelo pessoal do Museu)\n",
    "threshold = 200\n",
    "\n",
    "# maior profundidade (>= 500m)\n",
    "grupo1 = d[d['max_depth'] > threshold]['genus']\n",
    "\n",
    "# menor profundidade\n",
    "grupo2 = d[d['max_depth'] <= threshold]['genus']"
   ]
  },
  {
   "cell_type": "markdown",
   "metadata": {},
   "source": [
    "#### higher depth group"
   ]
  },
  {
   "cell_type": "code",
   "execution_count": 33,
   "metadata": {
    "ExecuteTime": {
     "end_time": "2021-02-14T18:35:08.839589Z",
     "start_time": "2021-02-14T18:35:08.781575Z"
    }
   },
   "outputs": [],
   "source": [
    "select_type = alt.selection_multi(fields= ['type_status'], bind='legend')\n",
    "select_family = alt.selection_multi(fields= ['family'], bind='legend')\n",
    "\n",
    "# filtering depth group\n",
    "db = teste[teste['genus'].isin(grupo1)].sort_values('min_depth', ascending=False)\n",
    "db['type_status'] = db['type_status'].astype(str)  # parsing into string to make selector work for NaN cases\n",
    "\n",
    "# encoding labels\n",
    "x_labels = db[['genus', 'min_depth']].groupby('genus').max().reset_index().sort_values('min_depth')['genus'].unique()\n",
    "y_labels = db['min_depth'].unique()\n",
    "types = db['type_status'].unique()\n",
    "families = db['family'].unique()\n",
    "\n",
    "\n",
    "# background\n",
    "back = alt.Chart(db, width= 800, height=500,\n",
    "                 title='Depth per Genus').mark_point(filled=True, color='lightgray', opacity=0.2).encode(\n",
    "    x = alt.X('genus', type='nominal', title='Genus',\n",
    "             sort=alt.EncodingSortField('min_depth', op='max', order=\"ascending\"),\n",
    "             scale= alt.Scale(domain=x_labels)),\n",
    "    y = alt.Y('min_depth', type='quantitative', title='Depth (in meters)', \n",
    "              scale= alt.Scale(domain=[max_y, 0])),\n",
    "   tooltip = alt.Tooltip(['catalog_number', 'infraorder','family', 'genus','species',\n",
    "                            'qualifier', 'start_year','collector_full_name',\n",
    "                            'country', 'state', 'locality', 'min_depth'])\n",
    ")\n",
    "\n",
    "# front view\n",
    "front = alt.Chart(db, width= 800, height=500,\n",
    "                 title='Depth per Genus').mark_point(filled=True).encode(\n",
    "    x = alt.X('genus', type='nominal', title='Genus',\n",
    "             sort=alt.EncodingSortField('min_depth', op='max', order=\"ascending\"),\n",
    "             scale= alt.Scale(domain=x_labels)),\n",
    "    y = alt.Y('min_depth', type='quantitative', title='Depth (in meters)', \n",
    "              scale= alt.Scale(domain=[max_y, 0])),\n",
    "    color = alt.Color('family:N', title='Family',\n",
    "                      scale= alt.Scale(domain=list(cores_familia_naive.keys()), \n",
    "                                       range=list(cores_familia_naive.values())),\n",
    "                      legend= alt.Legend(columns=3, symbolLimit=102)),\n",
    "    shape= alt.Shape('type_status:N', title='Types', \n",
    "                     legend= alt.Legend(columns=4),\n",
    "                     scale= alt.Scale(domain=['Holótipo', 'Lectótipo','Parátipo', 'nan'],\n",
    "                                     range=['triangle', 'square', 'cross','circle'])),\n",
    "    tooltip = alt.Tooltip(['catalog_number', 'infraorder','family', 'genus','species',\n",
    "                            'qualifier', 'start_year','collector_full_name',\n",
    "                            'country', 'state', 'locality', 'min_depth'])\n",
    ").add_selection(select_family, select_type).transform_filter(select_family).transform_filter(select_type)\n",
    "\n",
    "\n",
    "g = back + front\n",
    "\n",
    "g = g.configure_title(fontSize=16).configure_axis(\n",
    "    labelFontSize=12,\n",
    "    titleFontSize=12\n",
    ").configure_legend(\n",
    "    labelFontSize=12,\n",
    "    titleFontSize=12\n",
    ")\n",
    "\n",
    "# g.save('./graphs/depth/genus/depth_per_genus-higher-depth.html')\n",
    "# g"
   ]
  },
  {
   "cell_type": "markdown",
   "metadata": {},
   "source": [
    "#### lower depth"
   ]
  },
  {
   "cell_type": "code",
   "execution_count": 39,
   "metadata": {
    "ExecuteTime": {
     "end_time": "2021-02-14T18:38:14.550649Z",
     "start_time": "2021-02-14T18:38:14.511109Z"
    },
    "scrolled": false
   },
   "outputs": [],
   "source": [
    "select_type = alt.selection_multi(fields= ['type_status'], bind='legend')\n",
    "select_family = alt.selection_multi(fields= ['family'], bind='legend')\n",
    "\n",
    "# filtering depth group\n",
    "db = teste[teste['genus'].isin(grupo2)].sort_values('min_depth', ascending=False)\n",
    "db['type_status'] = db['type_status'].astype(str)  # parsing into string to make selector work for NaN cases\n",
    "\n",
    "# encoding labels\n",
    "x_labels = db[['genus', 'min_depth']].groupby('genus').max().reset_index().sort_values('min_depth')['genus'].unique()\n",
    "y_labels = db['min_depth'].unique()\n",
    "types = db['type_status'].unique()\n",
    "families = db['family'].unique()\n",
    "\n",
    "\n",
    "# background\n",
    "back = alt.Chart(db, width= 800, height=500,\n",
    "                 title='Depth per Genus').mark_point(filled=True, color='lightgray', opacity=0.2).encode(\n",
    "    x = alt.X('genus', type='nominal', title='Genus',\n",
    "             sort=alt.EncodingSortField('min_depth', op='max', order=\"ascending\"),\n",
    "             scale= alt.Scale(domain=x_labels)),\n",
    "    y = alt.Y('min_depth', type='quantitative', title='Depth (in meters)', \n",
    "              scale= alt.Scale(domain=[threshold, 0])),\n",
    "   tooltip = alt.Tooltip(['catalog_number', 'infraorder','family', 'genus','species',\n",
    "                            'qualifier', 'start_year','collector_full_name',\n",
    "                            'country', 'state', 'locality', 'min_depth'])\n",
    ")\n",
    "\n",
    "# front view\n",
    "front = alt.Chart(db, width= 800, height=500,\n",
    "                 title='Depth per Genus').mark_point(filled=True).encode(\n",
    "    x = alt.X('genus', type='nominal', title='Genus',\n",
    "             sort=alt.EncodingSortField('min_depth', op='max', order=\"ascending\"),\n",
    "             scale= alt.Scale(domain=x_labels)),\n",
    "    y = alt.Y('min_depth', type='quantitative', title='Depth (in meters)', \n",
    "              scale= alt.Scale(domain=[threshold, 0])),\n",
    "    color = alt.Color('family:N', title='Family',\n",
    "                      scale= alt.Scale(domain=list(cores_familia_naive.keys()), \n",
    "                                       range=list(cores_familia_naive.values())),\n",
    "                      legend= alt.Legend(columns=3, symbolLimit=102)),\n",
    "    shape= alt.Shape('type_status:N', title='Types', \n",
    "                     legend= alt.Legend(columns=4),\n",
    "                     scale= alt.Scale(domain=['Holótipo', 'Lectótipo','Parátipo', 'nan'],\n",
    "                                     range=['triangle', 'square', 'cross','circle'])),\n",
    "    tooltip = alt.Tooltip(['catalog_number', 'infraorder','family', 'genus','species',\n",
    "                            'qualifier', 'start_year','collector_full_name',\n",
    "                            'country', 'state', 'locality', 'min_depth'])\n",
    ").add_selection(select_family, select_type).transform_filter(select_family).transform_filter(select_type)\n",
    "\n",
    "\n",
    "g = back + front\n",
    "\n",
    "g = g.configure_title(fontSize=16).configure_axis(\n",
    "    labelFontSize=12,\n",
    "    titleFontSize=12\n",
    ").configure_legend(\n",
    "    labelFontSize=12,\n",
    "    titleFontSize=12\n",
    ")\n",
    "\n",
    "# g.save('./graphs/depth/genus/depth_per_genus-lower-depth.html')\n",
    "# g"
   ]
  },
  {
   "cell_type": "markdown",
   "metadata": {},
   "source": [
    "<br>\n",
    "\n",
    "**Thats it!**\n",
    "\n",
    "-----"
   ]
  }
 ],
 "metadata": {
  "kernelspec": {
   "display_name": "Python 3",
   "language": "python",
   "name": "python3"
  },
  "language_info": {
   "codemirror_mode": {
    "name": "ipython",
    "version": 3
   },
   "file_extension": ".py",
   "mimetype": "text/x-python",
   "name": "python",
   "nbconvert_exporter": "python",
   "pygments_lexer": "ipython3",
   "version": "3.9.1"
  },
  "latex_envs": {
   "LaTeX_envs_menu_present": true,
   "autoclose": false,
   "autocomplete": true,
   "bibliofile": "biblio.bib",
   "cite_by": "apalike",
   "current_citInitial": 1,
   "eqLabelWithNumbers": true,
   "eqNumInitial": 1,
   "hotkeys": {
    "equation": "Ctrl-E",
    "itemize": "Ctrl-I"
   },
   "labels_anchors": false,
   "latex_user_defs": false,
   "report_style_numbering": false,
   "user_envs_cfg": false
  },
  "toc": {
   "base_numbering": 1,
   "nav_menu": {},
   "number_sections": false,
   "sideBar": true,
   "skip_h1_title": false,
   "title_cell": "Table of Contents",
   "title_sidebar": "Contents",
   "toc_cell": false,
   "toc_position": {},
   "toc_section_display": true,
   "toc_window_display": false
  },
  "varInspector": {
   "cols": {
    "lenName": 16,
    "lenType": 16,
    "lenVar": 40
   },
   "kernels_config": {
    "python": {
     "delete_cmd_postfix": "",
     "delete_cmd_prefix": "del ",
     "library": "var_list.py",
     "varRefreshCmd": "print(var_dic_list())"
    },
    "r": {
     "delete_cmd_postfix": ") ",
     "delete_cmd_prefix": "rm(",
     "library": "var_list.r",
     "varRefreshCmd": "cat(var_dic_list()) "
    }
   },
   "position": {
    "height": "391.35px",
    "left": "900.5px",
    "right": "20px",
    "top": "96px",
    "width": "536.5px"
   },
   "types_to_exclude": [
    "module",
    "function",
    "builtin_function_or_method",
    "instance",
    "_Feature"
   ],
   "window_display": false
  }
 },
 "nbformat": 4,
 "nbformat_minor": 2
}
