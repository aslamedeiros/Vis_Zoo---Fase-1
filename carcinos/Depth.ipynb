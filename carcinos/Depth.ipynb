{
 "cells": [
  {
   "cell_type": "markdown",
   "metadata": {},
   "source": [
    "# Depth\n",
    "\n",
    "By **Franklin Oliveira**\n",
    "\n",
    "-----\n",
    "\n",
    "This notebook outputs Depth charts for the `carcinos` collection. \n",
    "\n",
    "Database: <font color='blue'>'Planilha geral Atualizada FINAL 5_GERAL_sendo trabalhada no Google drive.xlsx'</font>."
   ]
  },
  {
   "cell_type": "code",
   "execution_count": 1,
   "metadata": {
    "ExecuteTime": {
     "end_time": "2021-02-14T00:55:58.886346Z",
     "start_time": "2021-02-14T00:55:57.974424Z"
    }
   },
   "outputs": [
    {
     "data": {
      "text/plain": [
       "DataTransformerRegistry.enable('default')"
      ]
     },
     "execution_count": 1,
     "metadata": {},
     "output_type": "execute_result"
    }
   ],
   "source": [
    "import datetime\n",
    "import numpy as np\n",
    "import pandas as pd\n",
    "\n",
    "from collections import defaultdict\n",
    "\n",
    "# pacotes para visualização rápida\n",
    "import seaborn as sns\n",
    "import matplotlib.pyplot as plt\n",
    "\n",
    "# pacote para visualização principal\n",
    "import altair as alt\n",
    "\n",
    "# habilitando renderizador para notebook\n",
    "# alt.renderers.enable('notebook')\n",
    "alt.renderers.enable('default')\n",
    "\n",
    "\n",
    "# desabilitando limite de linhas\n",
    "alt.data_transformers.disable_max_rows()"
   ]
  },
  {
   "cell_type": "markdown",
   "metadata": {},
   "source": [
    "## Importing data...\n",
    "\n",
    "Importing pre-treated data in `1-data_treatment.ipynb`. In this notebook, I'm doing only some minnor adjustments for visualization purposes only. For a full traceback of data treatment, please see the `1-data_treatment` notebook."
   ]
  },
  {
   "cell_type": "code",
   "execution_count": 2,
   "metadata": {
    "ExecuteTime": {
     "end_time": "2021-02-14T00:55:59.468570Z",
     "start_time": "2021-02-14T00:55:58.888285Z"
    }
   },
   "outputs": [],
   "source": [
    "# treated_db was the previous db I used to write all this code\n",
    "NewTable = pd.read_csv('./data/treated_db.csv', sep=';', encoding='utf-8', low_memory=False)"
   ]
  },
  {
   "cell_type": "markdown",
   "metadata": {},
   "source": [
    "## Filtering\n",
    "\n",
    "At least for now, we'll be considering only specimens of order decapoda (deeply revised by the Museum's crew)"
   ]
  },
  {
   "cell_type": "code",
   "execution_count": 3,
   "metadata": {
    "ExecuteTime": {
     "end_time": "2021-02-14T00:55:59.491591Z",
     "start_time": "2021-02-14T00:55:59.470793Z"
    }
   },
   "outputs": [],
   "source": [
    "decapoda = NewTable[NewTable['order'] == 'Decapoda'].copy()"
   ]
  },
  {
   "cell_type": "markdown",
   "metadata": {},
   "source": [
    "<br>\n",
    "\n",
    "<font size=5>**Color palette**</font>\n",
    "\n",
    "Colors (per infraorder): \n",
    "\n",
    "- <font color='#e26d67'><b>Ascacidae</b></font>\n",
    "- <font color='#007961'><b>Anomura</b></font>\n",
    "- <font color='#7a2c39'><b>Achelata</b></font>\n",
    "- <font color='#b67262'><b>Axiidea</b></font>\n",
    "- <font color='#ee4454'><b>Brachyura</b></font>\n",
    "- <font color='#3330b7'><b>Caridea</b></font>\n",
    "- <font color='#58b5e1'><b>Gebiidea</b></font>\n",
    "- <font color='#b8e450'><b>Stenopodídea</b></font>\n",
    "- <font color='#a0a3fd'><b>Astacidae</b></font>\n",
    "- <font color='#deae9e'><b>Polychelida</b></font>\n",
    "- <font color='#d867be'><b>Grapsidae</b></font>\n",
    "- <font color='#fece5f'><b>Xanthoidea</b></font>"
   ]
  },
  {
   "cell_type": "code",
   "execution_count": 4,
   "metadata": {
    "ExecuteTime": {
     "end_time": "2021-02-14T00:55:59.546300Z",
     "start_time": "2021-02-14T00:55:59.494084Z"
    }
   },
   "outputs": [],
   "source": [
    "# importing customized color palettes\n",
    "from src.MNViz_colors import *"
   ]
  },
  {
   "cell_type": "markdown",
   "metadata": {},
   "source": [
    "<br>\n",
    "\n",
    "---\n",
    "\n",
    "## Graphs\n",
    "\n",
    "### Depth per family\n",
    "\n",
    "x: Start Year (from Start Date)\n",
    "y: number of catalogations per year"
   ]
  },
  {
   "cell_type": "code",
   "execution_count": 5,
   "metadata": {
    "ExecuteTime": {
     "end_time": "2021-02-14T00:55:59.613669Z",
     "start_time": "2021-02-14T00:55:59.548437Z"
    }
   },
   "outputs": [],
   "source": [
    "# subsetting\n",
    "teste = decapoda[['min_depth','family','infraorder', 'start_year', 'qualifier', 'catalog_number', \n",
    "                  'genus', 'species', 'collector_full_name', 'country','state','locality', 'type_status']].copy()\n",
    "\n",
    "# sorting\n",
    "teste = teste.sort_values(['min_depth','family'])\n",
    "\n",
    "# dropping na\n",
    "teste.dropna(subset=['min_depth'], inplace=True)\n",
    "\n",
    "# making sure altitude is a floating point number\n",
    "teste['min_depth'] = teste['min_depth'].astype(float)\n",
    "\n",
    "# extremes for scale\n",
    "max_y = teste['min_depth'].max()\n",
    "min_y = teste['min_depth'].min()"
   ]
  },
  {
   "cell_type": "code",
   "execution_count": 6,
   "metadata": {
    "ExecuteTime": {
     "end_time": "2021-02-14T00:55:59.646157Z",
     "start_time": "2021-02-14T00:55:59.616138Z"
    }
   },
   "outputs": [],
   "source": [
    "temp = alt.Chart(teste, title='Profundidade por Família', width=800, height=400).mark_circle().encode(\n",
    "    x = alt.X('family', type='nominal', title='Família', \n",
    "              sort= alt.EncodingSortField('min_depth', op='max', order='ascending')),\n",
    "    y = alt.Y('min_depth', type='quantitative', title='Profundidade (em metros)',\n",
    "              scale = alt.Scale(domain=[max_y, min_y])),\n",
    "        color= alt.Color('family:N', title='Família', \n",
    "                     scale=alt.Scale(domain=list(cores_familia_naive.keys()), \n",
    "                                     range=list(cores_familia_naive.values())),\n",
    "                     legend= alt.Legend(columns=3, symbolLimit=102)),\n",
    "    tooltip = alt.Tooltip(['catalog_number', 'infraorder','family','genus','species', 'type_status',\n",
    "                            'qualifier', 'start_year','collector_full_name',\n",
    "                            'country', 'state', 'locality', 'min_depth'])\n",
    ")\n",
    "\n",
    "temp = temp.configure_title(fontSize=16).configure_axis(\n",
    "    labelFontSize=12,\n",
    "    titleFontSize=12\n",
    ").configure_legend(\n",
    "    labelFontSize=12,\n",
    "    titleFontSize=12\n",
    ")\n",
    "\n",
    "# temp.save('./graphs/depth/depth_per_family.html')\n",
    "# temp"
   ]
  },
  {
   "cell_type": "code",
   "execution_count": 7,
   "metadata": {
    "ExecuteTime": {
     "end_time": "2021-02-14T00:55:59.710416Z",
     "start_time": "2021-02-14T00:55:59.647766Z"
    }
   },
   "outputs": [],
   "source": [
    "# escala customizada para o eixo Y\n",
    "custom_y_scale = []\n",
    "\n",
    "i = 0\n",
    "\n",
    "while i < max_y+1:\n",
    "    if i % 20 == 0 and i <= 200:\n",
    "        custom_y_scale.append(i)\n",
    "    elif i % 100 == 0 and i <=500:\n",
    "        custom_y_scale.append(i)\n",
    "    elif i % 500 == 0:\n",
    "        custom_y_scale.append(i)\n",
    "    i+=1\n",
    "    \n",
    "custom_y_scale.append(custom_y_scale[-1] + 500)\n",
    "\n",
    "# custom_y_scale"
   ]
  },
  {
   "cell_type": "code",
   "execution_count": 8,
   "metadata": {
    "ExecuteTime": {
     "end_time": "2021-02-14T00:55:59.769649Z",
     "start_time": "2021-02-14T00:55:59.713492Z"
    }
   },
   "outputs": [],
   "source": [
    "data = teste.copy()\n",
    "data['type_status'] = data['type_status'].astype(str)\n",
    "\n",
    "select_family = alt.selection_multi(fields=['family'], bind='legend')\n",
    "select_type = alt.selection_multi(fields=['type_status'], bind='legend')\n",
    "\n",
    "# background\n",
    "back = alt.Chart(data, title='Profundidade por Família', width=800, height=1200).mark_point(filled=True,\n",
    "                                                                color= 'lightgray', opacity=0.2).encode(\n",
    "    x = alt.X('family', type='nominal', title='Família', \n",
    "              sort= alt.EncodingSortField('min_depth', op='max', order='ascending')),\n",
    "    y = alt.Y('min_depth', type='quantitative', title='Profundidade (em metros)',\n",
    "              scale = alt.Scale(domain=[max_y, min_y]),\n",
    "              axis= alt.Axis(values=custom_y_scale, tickCount=len(custom_y_scale),\n",
    "                             labelExpr=\"datum.value % 50 ? null : datum.label\")),\n",
    "    tooltip = alt.Tooltip(['catalog_number', 'infraorder','family','genus','species', 'type_status',\n",
    "                            'qualifier', 'start_year','collector_full_name',\n",
    "                            'country', 'state', 'locality', 'min_depth'])\n",
    ")\n",
    "\n",
    "# front view\n",
    "front = alt.Chart(data, title='Profundidade por Família', width=800, height=1200).mark_point(filled=True).encode(\n",
    "    x = alt.X('family', type='nominal', title='Família', \n",
    "              sort= alt.EncodingSortField('min_depth', op='max', order='ascending')),\n",
    "    y = alt.Y('min_depth', type='quantitative', title='Profundidade (em metros)',\n",
    "              scale = alt.Scale(domain=[max_y, min_y]),\n",
    "              axis= alt.Axis(values=custom_y_scale, tickCount=len(custom_y_scale),\n",
    "                             labelExpr=\"datum.value % 50 ? null : datum.label\")),\n",
    "    color= alt.Color('family', title='Família', \n",
    "                     scale=alt.Scale(domain=list(cores_familia_naive.keys()), \n",
    "                                     range=list(cores_familia_naive.values())),\n",
    "                     legend= alt.Legend(columns=2, symbolLimit=102)),\n",
    "    shape = alt.Shape('type_status:N', title='Tipos', \n",
    "                      legend= alt.Legend(columns=4),\n",
    "                      scale= alt.Scale(domain=['Holótipo', 'Lectótipo','Parátipo', 'nan'],\n",
    "                                       range=['triangle', 'square', 'cross','circle'])),\n",
    "    tooltip = alt.Tooltip(['catalog_number', 'infraorder','family','genus','species', 'type_status',\n",
    "                            'qualifier', 'start_year','collector_full_name',\n",
    "                            'country', 'state', 'locality', 'min_depth'])\n",
    ").add_selection(select_family, select_type).transform_filter(select_family).transform_filter(select_type)\n",
    "\n",
    "g = (back + front)\n",
    "\n",
    "g = g.configure_title(fontSize=16).configure_axis(\n",
    "    labelFontSize=12,\n",
    "    titleFontSize=12\n",
    ").configure_legend(\n",
    "    labelFontSize=12,\n",
    "    titleFontSize=12\n",
    ")\n",
    "\n",
    "# g.save('./graphs/depth/depth_per_family-custom_scale.html')\n",
    "# g"
   ]
  },
  {
   "cell_type": "markdown",
   "metadata": {},
   "source": [
    "#### Interactive version with standard scale"
   ]
  },
  {
   "cell_type": "code",
   "execution_count": 9,
   "metadata": {
    "ExecuteTime": {
     "end_time": "2021-02-14T00:55:59.847367Z",
     "start_time": "2021-02-14T00:55:59.772133Z"
    }
   },
   "outputs": [],
   "source": [
    "# subsetting\n",
    "teste = decapoda[['min_depth','family','infraorder', 'start_year', 'qualifier', 'catalog_number', \n",
    "                  'genus', 'species', 'collector_full_name', 'country','state','locality', 'type_status']].copy()\n",
    "\n",
    "# sorting\n",
    "teste = teste.sort_values(['min_depth','family'])\n",
    "\n",
    "# dropping na\n",
    "teste.dropna(subset=['min_depth'], inplace=True)\n",
    "\n",
    "# making sure altitude is a floating point number\n",
    "teste['min_depth'] = teste['min_depth'].astype(float)\n",
    "\n",
    "# extremes for scale\n",
    "max_y = teste['min_depth'].max()\n",
    "min_y = teste['min_depth'].min()"
   ]
  },
  {
   "cell_type": "code",
   "execution_count": 10,
   "metadata": {
    "ExecuteTime": {
     "end_time": "2021-02-14T00:55:59.876355Z",
     "start_time": "2021-02-14T00:55:59.849169Z"
    }
   },
   "outputs": [],
   "source": [
    "# apenas a família Pseudothelphusidae foi encontrada acima do nível do mar\n",
    "# teste[teste['depth'] < 0]['family']"
   ]
  },
  {
   "cell_type": "code",
   "execution_count": 11,
   "metadata": {
    "ExecuteTime": {
     "end_time": "2021-02-14T00:55:59.943383Z",
     "start_time": "2021-02-14T00:55:59.878285Z"
    }
   },
   "outputs": [],
   "source": [
    "data = teste.copy()\n",
    "data['type_status'] = data['type_status'].astype(str)\n",
    "\n",
    "select_family = alt.selection_multi(fields=['family'], bind='legend')\n",
    "select_type = alt.selection_multi(fields=['type_status'], bind='legend')\n",
    "\n",
    "### background\n",
    "back = alt.Chart(data, title='Profundidade por Família', width=800, height=400).mark_point(filled=True,\n",
    "                                                                  color='lightgray', opacity=0.2).encode(\n",
    "    x = alt.X('family', type='nominal', title='Família', \n",
    "              sort= alt.EncodingSortField('min_depth', op='max', order='ascending')),\n",
    "    y = alt.Y('min_depth', type='quantitative', title='Profundidade (em metros)',\n",
    "              scale = alt.Scale(domain=[max_y, min_y])),\n",
    "    tooltip = alt.Tooltip(['catalog_number', 'infraorder','family','genus','species', 'type_status',\n",
    "                           'qualifier', 'start_year','collector_full_name',\n",
    "                           'country', 'state', 'locality', 'min_depth'])\n",
    ")\n",
    "\n",
    "### front view\n",
    "temp = alt.Chart(data, title='Profundidade por Família', width=800, height=400).mark_point(filled=True).encode(\n",
    "    x = alt.X('family', type='nominal', title='Família', \n",
    "              sort= alt.EncodingSortField('min_depth', op='max', order='ascending')),\n",
    "    y = alt.Y('min_depth', type='quantitative', title='Profundidade (em metros)',\n",
    "              scale = alt.Scale(domain=[max_y, min_y])),\n",
    "    color= alt.Color('family', title='Família', \n",
    "                     scale=alt.Scale(domain=list(cores_familia_naive.keys()), \n",
    "                                     range=list(cores_familia_naive.values())),\n",
    "                     legend= alt.Legend(columns=3, symbolLimit=102)),\n",
    "    shape= alt.Shape('type_status:N', title='Tipos', \n",
    "                     legend= alt.Legend(columns=4),\n",
    "                     scale= alt.Scale(domain=['Holótipo', 'Lectótipo','Parátipo', 'nan'],\n",
    "                                     range=['triangle', 'square', 'cross','circle'])),\n",
    "#     opacity= alt.condition(select_type, alt.value(1), alt.value(0)),\n",
    "    tooltip = alt.Tooltip(['catalog_number', 'infraorder','family','genus','species', 'type_status',\n",
    "                            'qualifier', 'start_year','collector_full_name',\n",
    "                            'country', 'state', 'locality', 'min_depth'])\n",
    ").add_selection(select_family, select_type).transform_filter(select_family).transform_filter(select_type)\n",
    "\n",
    "g = (back + temp)\n",
    "\n",
    "g = g.configure_title(fontSize=16).configure_axis(\n",
    "    labelFontSize=12,\n",
    "    titleFontSize=12\n",
    ").configure_legend(\n",
    "    labelFontSize=12,\n",
    "    titleFontSize=12\n",
    ")\n",
    "\n",
    "# g.save('./graphs/depth/depth_per_family-shape_tipos.html')\n",
    "# g"
   ]
  },
  {
   "cell_type": "markdown",
   "metadata": {},
   "source": [
    "<br>\n",
    "\n",
    "## Depth per genus"
   ]
  },
  {
   "cell_type": "code",
   "execution_count": 12,
   "metadata": {
    "ExecuteTime": {
     "end_time": "2021-02-14T00:56:00.003759Z",
     "start_time": "2021-02-14T00:55:59.944994Z"
    }
   },
   "outputs": [],
   "source": [
    "teste = decapoda[['min_depth','family','infraorder', 'start_year', 'qualifier', 'catalog_number', \n",
    "                  'genus', 'species',  'collector_full_name', 'type_status',\n",
    "                            'country', 'state', 'locality']].copy()\n",
    "\n",
    "# making sure altitude is a floating point number\n",
    "teste['min_depth'] = teste['min_depth'].astype(float)\n",
    "teste['genus'] = teste['genus'].str.capitalize()\n",
    "\n",
    "# sorting\n",
    "teste = teste.sort_values(['min_depth','genus'])\n",
    "\n",
    "# dropping na\n",
    "teste = teste.dropna(subset=['min_depth'])\n",
    "\n",
    "# extremes for y axis\n",
    "max_y = teste['min_depth'].max()\n",
    "min_y = teste['min_depth'].min()"
   ]
  },
  {
   "cell_type": "code",
   "execution_count": 13,
   "metadata": {
    "ExecuteTime": {
     "end_time": "2021-02-14T00:56:00.034813Z",
     "start_time": "2021-02-14T00:56:00.005329Z"
    }
   },
   "outputs": [],
   "source": [
    "## OLD CHART - will be removed in a future release\n",
    "# temp = alt.Chart(teste, title='Profundidade por Gênero',\n",
    "#                 width= 1500, height=400).mark_circle().encode(\n",
    "#     x = alt.X('genus', type='nominal', title='Gênero',\n",
    "#              sort=alt.EncodingSortField('min_depth', op=\"max\", order=\"ascending\")),\n",
    "#     y = alt.Y('min_depth', type='quantitative', title='Profundidade (em metros)',\n",
    "#               scale= alt.Scale(domain= [max_y, min_y])),\n",
    "#     color = alt.Color('family:N', title='Família',\n",
    "#                       scale= alt.Scale(domain=list(cores_familia_naive.keys()), \n",
    "#                                        range=list(cores_familia_naive.values())),\n",
    "#                       legend= alt.Legend(columns=3, symbolLimit=102)),\n",
    "#     tooltip = alt.Tooltip(['catalog_number', 'family', 'genus','species',\n",
    "#                             'qualifier', 'start_year','collector_full_name',\n",
    "#                             'country', 'state', 'locality', 'min_depth'])\n",
    "# )\n",
    "\n",
    "# temp = temp.configure_title(fontSize=16).configure_axis(\n",
    "#     labelFontSize=12,\n",
    "#     titleFontSize=12\n",
    "# ).configure_legend(\n",
    "#     labelFontSize=12,\n",
    "#     titleFontSize=12,\n",
    "# #     orient='bottom'\n",
    "# )\n",
    "\n",
    "# temp.save('./graphs/depth/genus/depth-per-genus.html')\n",
    "# temp"
   ]
  },
  {
   "cell_type": "code",
   "execution_count": 14,
   "metadata": {
    "ExecuteTime": {
     "end_time": "2021-02-14T00:56:00.124515Z",
     "start_time": "2021-02-14T00:56:00.036632Z"
    }
   },
   "outputs": [],
   "source": [
    "select_type = alt.selection_multi(fields= ['type_status'], bind='legend')\n",
    "select_family = alt.selection_multi(fields= ['family'], bind='legend')\n",
    "\n",
    "# filtering depth group\n",
    "db = teste.sort_values('min_depth', ascending=False)\n",
    "db['type_status'] = db['type_status'].astype(str)  # parsing into string to make selector work for NaN cases\n",
    "\n",
    "# encoding labels\n",
    "x_labels = db[['genus', 'min_depth']].groupby('genus').max().reset_index().sort_values('min_depth')['genus'].unique()\n",
    "y_labels = db['min_depth'].unique()\n",
    "types = db['type_status'].unique()\n",
    "families = db['family'].unique()\n",
    "\n",
    "# background\n",
    "back = alt.Chart(db, width= 1500, height=500,\n",
    "                 title='Profundidade por Gênero').mark_point(filled=True, color='lightgray', opacity=0.2).encode(\n",
    "    x = alt.X('genus', type='nominal', title='Gênero',\n",
    "             sort=alt.EncodingSortField('min_depth', op='max', order=\"ascending\"),\n",
    "             scale= alt.Scale(domain=x_labels)),\n",
    "    y = alt.Y('min_depth', type='quantitative', title='Profundidade (em metros)', \n",
    "              scale= alt.Scale(domain=[max_y, 0])),\n",
    "   tooltip = alt.Tooltip(['catalog_number', 'infraorder','family', 'genus','species',\n",
    "                            'qualifier', 'start_year','collector_full_name',\n",
    "                            'country', 'state', 'locality', 'min_depth'])\n",
    ")\n",
    "\n",
    "# front view\n",
    "front = alt.Chart(db, width= 1500, height=500,\n",
    "                 title='Profundidade por Gênero').mark_point(filled=True).encode(\n",
    "    x = alt.X('genus', type='nominal', title='Gênero',\n",
    "             sort=alt.EncodingSortField('min_depth', op='max', order=\"ascending\"),\n",
    "             scale= alt.Scale(domain=x_labels)),\n",
    "    y = alt.Y('min_depth', type='quantitative', title='Profundidade (em metros)', \n",
    "              scale= alt.Scale(domain=[max_y, 0])),\n",
    "    color = alt.Color('family:N', title='Família',\n",
    "                      scale= alt.Scale(domain=list(cores_familia_naive.keys()), \n",
    "                                       range=list(cores_familia_naive.values())),\n",
    "                      legend= alt.Legend(columns=3, symbolLimit=102)),\n",
    "    shape= alt.Shape('type_status:N', title='Tipos', \n",
    "                     legend= alt.Legend(columns=4),\n",
    "                     scale= alt.Scale(domain=['Holótipo', 'Lectótipo','Parátipo', 'nan'],\n",
    "                                     range=['triangle', 'square', 'cross','circle'])),\n",
    "    tooltip = alt.Tooltip(['catalog_number', 'infraorder','family', 'genus','species',\n",
    "                            'qualifier', 'start_year','collector_full_name',\n",
    "                            'country', 'state', 'locality', 'min_depth'])\n",
    ").add_selection(select_family, select_type).transform_filter(select_family).transform_filter(select_type)\n",
    "\n",
    "\n",
    "g = back + front\n",
    "\n",
    "g = g.configure_title(fontSize=16).configure_axis(\n",
    "    labelFontSize=12,\n",
    "    titleFontSize=12\n",
    ").configure_legend(\n",
    "    labelFontSize=12,\n",
    "    titleFontSize=12\n",
    ")\n",
    "\n",
    "# g.save('./graphs/depth/genus/depth-per-genus.html')\n",
    "# g"
   ]
  },
  {
   "cell_type": "markdown",
   "metadata": {},
   "source": [
    "<br>\n",
    "\n",
    "## Separating per Min Depth\n",
    "\n",
    "<font color='red' size=4>Separando grupos de \"maior profundidade\"</font>\n"
   ]
  },
  {
   "cell_type": "code",
   "execution_count": 15,
   "metadata": {
    "ExecuteTime": {
     "end_time": "2021-02-14T00:56:00.299144Z",
     "start_time": "2021-02-14T00:56:00.126199Z"
    }
   },
   "outputs": [],
   "source": [
    "genus = teste['genus'].unique()\n",
    "\n",
    "d = defaultdict()\n",
    "\n",
    "for gen in genus:\n",
    "    depth = teste[teste['genus'] == gen]['min_depth'].max()\n",
    "    d[gen] = depth\n",
    "        \n",
    "d = pd.DataFrame(dict(d), index=[0]).transpose().reset_index()\n",
    "d.columns = ['genus', 'max_depth']"
   ]
  },
  {
   "cell_type": "code",
   "execution_count": 16,
   "metadata": {
    "ExecuteTime": {
     "end_time": "2021-02-14T00:56:00.305625Z",
     "start_time": "2021-02-14T00:56:00.300777Z"
    }
   },
   "outputs": [],
   "source": [
    "# divisão entre marés (sugerido pelo pessoal do Museu)\n",
    "threshold = 200\n",
    "\n",
    "# maior profundidade (>= 500m)\n",
    "grupo1 = d[d['max_depth'] > threshold]['genus']\n",
    "\n",
    "# menor profundidade\n",
    "grupo2 = d[d['max_depth'] <= threshold]['genus']"
   ]
  },
  {
   "cell_type": "markdown",
   "metadata": {},
   "source": [
    "#### grupo de maior profundidade"
   ]
  },
  {
   "cell_type": "code",
   "execution_count": 17,
   "metadata": {
    "ExecuteTime": {
     "end_time": "2021-02-14T00:56:00.351970Z",
     "start_time": "2021-02-14T00:56:00.307388Z"
    }
   },
   "outputs": [],
   "source": [
    "## OLD CHART - will be removed in a future release\n",
    "\n",
    "# temp = alt.Chart(teste[teste['genus'].isin(grupo1)], width= 800, height=400,\n",
    "#                  title='Profundidade por Gênero').mark_circle().encode(\n",
    "#     x = alt.X('genus', type='nominal', title='Gênero',\n",
    "#              sort=alt.EncodingSortField('min_depth', op='max', order=\"ascending\")),\n",
    "#     y = alt.Y('min_depth', type='quantitative', title='Profundidade (em metros)', \n",
    "#               scale= alt.Scale(domain=[max_y, 0])),\n",
    "#     color = alt.Color('family:N', title='Família',\n",
    "#                       scale= alt.Scale(domain=list(cores_familia_naive.keys()), \n",
    "#                                        range=list(cores_familia_naive.values())),\n",
    "#                       legend= alt.Legend(columns=3, symbolLimit=102)),\n",
    "#     tooltip = alt.Tooltip(['catalog_number', 'family', 'genus','species',\n",
    "#                             'qualifier', 'start_year','collector_full_name',\n",
    "#                             'country', 'state', 'locality', 'min_depth'])\n",
    "# )\n",
    "\n",
    "# temp = temp.configure_title(fontSize=16).configure_axis(\n",
    "#     labelFontSize=12,\n",
    "#     titleFontSize=12\n",
    "# ).configure_legend(\n",
    "#     labelFontSize=12,\n",
    "#     titleFontSize=12\n",
    "# )\n",
    "\n",
    "# temp.save('./graphs/depth/genus/depth_per_genus-maior-profundidade.html')\n",
    "# temp"
   ]
  },
  {
   "cell_type": "code",
   "execution_count": 18,
   "metadata": {
    "ExecuteTime": {
     "end_time": "2021-02-14T00:56:00.435967Z",
     "start_time": "2021-02-14T00:56:00.355481Z"
    }
   },
   "outputs": [],
   "source": [
    "select_type = alt.selection_multi(fields= ['type_status'], bind='legend')\n",
    "select_family = alt.selection_multi(fields= ['family'], bind='legend')\n",
    "\n",
    "# filtering depth group\n",
    "db = teste[teste['genus'].isin(grupo1)].sort_values('min_depth', ascending=False)\n",
    "db['type_status'] = db['type_status'].astype(str)  # parsing into string to make selector work for NaN cases\n",
    "\n",
    "# encoding labels\n",
    "x_labels = db[['genus', 'min_depth']].groupby('genus').max().reset_index().sort_values('min_depth')['genus'].unique()\n",
    "y_labels = db['min_depth'].unique()\n",
    "types = db['type_status'].unique()\n",
    "families = db['family'].unique()\n",
    "\n",
    "\n",
    "# background\n",
    "back = alt.Chart(db, width= 800, height=500,\n",
    "                 title='Profundidade por Gênero').mark_point(filled=True, color='lightgray', opacity=0.2).encode(\n",
    "    x = alt.X('genus', type='nominal', title='Gênero',\n",
    "             sort=alt.EncodingSortField('min_depth', op='max', order=\"ascending\"),\n",
    "             scale= alt.Scale(domain=x_labels)),\n",
    "    y = alt.Y('min_depth', type='quantitative', title='Profundidade (em metros)', \n",
    "              scale= alt.Scale(domain=[max_y, 0])),\n",
    "   tooltip = alt.Tooltip(['catalog_number', 'infraorder','family', 'genus','species',\n",
    "                            'qualifier', 'start_year','collector_full_name',\n",
    "                            'country', 'state', 'locality', 'min_depth'])\n",
    ")\n",
    "\n",
    "# front view\n",
    "front = alt.Chart(db, width= 800, height=500,\n",
    "                 title='Profundidade por Gênero').mark_point(filled=True).encode(\n",
    "    x = alt.X('genus', type='nominal', title='Gênero',\n",
    "             sort=alt.EncodingSortField('min_depth', op='max', order=\"ascending\"),\n",
    "             scale= alt.Scale(domain=x_labels)),\n",
    "    y = alt.Y('min_depth', type='quantitative', title='Profundidade (em metros)', \n",
    "              scale= alt.Scale(domain=[max_y, 0])),\n",
    "    color = alt.Color('family:N', title='Família',\n",
    "                      scale= alt.Scale(domain=list(cores_familia_naive.keys()), \n",
    "                                       range=list(cores_familia_naive.values())),\n",
    "                      legend= alt.Legend(columns=3, symbolLimit=102)),\n",
    "    shape= alt.Shape('type_status:N', title='Tipos', \n",
    "                     legend= alt.Legend(columns=4),\n",
    "                     scale= alt.Scale(domain=['Holótipo', 'Lectótipo','Parátipo', 'nan'],\n",
    "                                     range=['triangle', 'square', 'cross','circle'])),\n",
    "    tooltip = alt.Tooltip(['catalog_number', 'infraorder','family', 'genus','species',\n",
    "                            'qualifier', 'start_year','collector_full_name',\n",
    "                            'country', 'state', 'locality', 'min_depth'])\n",
    ").add_selection(select_family, select_type).transform_filter(select_family).transform_filter(select_type)\n",
    "\n",
    "\n",
    "g = back + front\n",
    "\n",
    "g = g.configure_title(fontSize=16).configure_axis(\n",
    "    labelFontSize=12,\n",
    "    titleFontSize=12\n",
    ").configure_legend(\n",
    "    labelFontSize=12,\n",
    "    titleFontSize=12\n",
    ")\n",
    "\n",
    "# g.save('./graphs/depth/genus/depth_per_genus-maior-profundidade.html')\n",
    "# g"
   ]
  },
  {
   "cell_type": "markdown",
   "metadata": {},
   "source": [
    "#### grupo de menor profundidade\n",
    "\n",
    "menos pontos (generos menos representados)"
   ]
  },
  {
   "cell_type": "code",
   "execution_count": 19,
   "metadata": {
    "ExecuteTime": {
     "end_time": "2021-02-14T00:56:00.494854Z",
     "start_time": "2021-02-14T00:56:00.437630Z"
    },
    "scrolled": false
   },
   "outputs": [],
   "source": [
    "select_type = alt.selection_multi(fields= ['type_status'], bind='legend')\n",
    "select_family = alt.selection_multi(fields= ['family'], bind='legend')\n",
    "\n",
    "# filtering depth group\n",
    "db = teste[teste['genus'].isin(grupo2)].sort_values('min_depth', ascending=False)\n",
    "db['type_status'] = db['type_status'].astype(str)  # parsing into string to make selector work for NaN cases\n",
    "\n",
    "# encoding labels\n",
    "x_labels = db[['genus', 'min_depth']].groupby('genus').max().reset_index().sort_values('min_depth')['genus'].unique()\n",
    "y_labels = db['min_depth'].unique()\n",
    "types = db['type_status'].unique()\n",
    "families = db['family'].unique()\n",
    "\n",
    "\n",
    "# background\n",
    "back = alt.Chart(db, width= 800, height=500,\n",
    "                 title='Profundidade por Gênero').mark_point(filled=True, color='lightgray', opacity=0.2).encode(\n",
    "    x = alt.X('genus', type='nominal', title='Gênero',\n",
    "             sort=alt.EncodingSortField('min_depth', op='max', order=\"ascending\"),\n",
    "             scale= alt.Scale(domain=x_labels)),\n",
    "    y = alt.Y('min_depth', type='quantitative', title='Profundidade (em metros)', \n",
    "              scale= alt.Scale(domain=[threshold, 0])),\n",
    "   tooltip = alt.Tooltip(['catalog_number', 'infraorder','family', 'genus','species',\n",
    "                            'qualifier', 'start_year','collector_full_name',\n",
    "                            'country', 'state', 'locality', 'min_depth'])\n",
    ")\n",
    "\n",
    "# front view\n",
    "front = alt.Chart(db, width= 800, height=500,\n",
    "                 title='Profundidade por Gênero').mark_point(filled=True).encode(\n",
    "    x = alt.X('genus', type='nominal', title='Gênero',\n",
    "             sort=alt.EncodingSortField('min_depth', op='max', order=\"ascending\"),\n",
    "             scale= alt.Scale(domain=x_labels)),\n",
    "    y = alt.Y('min_depth', type='quantitative', title='Profundidade (em metros)', \n",
    "              scale= alt.Scale(domain=[threshold, 0])),\n",
    "    color = alt.Color('family:N', title='Família',\n",
    "                      scale= alt.Scale(domain=list(cores_familia_naive.keys()), \n",
    "                                       range=list(cores_familia_naive.values())),\n",
    "                      legend= alt.Legend(columns=3, symbolLimit=102)),\n",
    "    shape= alt.Shape('type_status:N', title='Tipos', \n",
    "                     legend= alt.Legend(columns=4),\n",
    "                     scale= alt.Scale(domain=['Holótipo', 'Lectótipo','Parátipo', 'nan'],\n",
    "                                     range=['triangle', 'square', 'cross','circle'])),\n",
    "    tooltip = alt.Tooltip(['catalog_number', 'infraorder','family', 'genus','species',\n",
    "                            'qualifier', 'start_year','collector_full_name',\n",
    "                            'country', 'state', 'locality', 'min_depth'])\n",
    ").add_selection(select_family, select_type).transform_filter(select_family).transform_filter(select_type)\n",
    "\n",
    "\n",
    "g = back + front\n",
    "\n",
    "g = g.configure_title(fontSize=16).configure_axis(\n",
    "    labelFontSize=12,\n",
    "    titleFontSize=12\n",
    ").configure_legend(\n",
    "    labelFontSize=12,\n",
    "    titleFontSize=12\n",
    ")\n",
    "\n",
    "# g.save('./graphs/depth/genus/depth_per_genus-menor-profundidade.html')\n",
    "# g"
   ]
  },
  {
   "cell_type": "markdown",
   "metadata": {},
   "source": [
    "<br>\n",
    "\n",
    "**Thats it!**\n",
    "\n",
    "-----"
   ]
  }
 ],
 "metadata": {
  "kernelspec": {
   "display_name": "Python 3",
   "language": "python",
   "name": "python3"
  },
  "language_info": {
   "codemirror_mode": {
    "name": "ipython",
    "version": 3
   },
   "file_extension": ".py",
   "mimetype": "text/x-python",
   "name": "python",
   "nbconvert_exporter": "python",
   "pygments_lexer": "ipython3",
   "version": "3.9.1"
  },
  "latex_envs": {
   "LaTeX_envs_menu_present": true,
   "autoclose": false,
   "autocomplete": true,
   "bibliofile": "biblio.bib",
   "cite_by": "apalike",
   "current_citInitial": 1,
   "eqLabelWithNumbers": true,
   "eqNumInitial": 1,
   "hotkeys": {
    "equation": "Ctrl-E",
    "itemize": "Ctrl-I"
   },
   "labels_anchors": false,
   "latex_user_defs": false,
   "report_style_numbering": false,
   "user_envs_cfg": false
  },
  "toc": {
   "base_numbering": 1,
   "nav_menu": {},
   "number_sections": false,
   "sideBar": true,
   "skip_h1_title": false,
   "title_cell": "Table of Contents",
   "title_sidebar": "Contents",
   "toc_cell": false,
   "toc_position": {},
   "toc_section_display": true,
   "toc_window_display": false
  },
  "varInspector": {
   "cols": {
    "lenName": 16,
    "lenType": 16,
    "lenVar": 40
   },
   "kernels_config": {
    "python": {
     "delete_cmd_postfix": "",
     "delete_cmd_prefix": "del ",
     "library": "var_list.py",
     "varRefreshCmd": "print(var_dic_list())"
    },
    "r": {
     "delete_cmd_postfix": ") ",
     "delete_cmd_prefix": "rm(",
     "library": "var_list.r",
     "varRefreshCmd": "cat(var_dic_list()) "
    }
   },
   "position": {
    "height": "391.35px",
    "left": "900.5px",
    "right": "20px",
    "top": "96px",
    "width": "536.5px"
   },
   "types_to_exclude": [
    "module",
    "function",
    "builtin_function_or_method",
    "instance",
    "_Feature"
   ],
   "window_display": false
  }
 },
 "nbformat": 4,
 "nbformat_minor": 2
}
