{
 "cells": [
  {
   "cell_type": "markdown",
   "metadata": {},
   "source": [
    "# Data Treatment (Carcinos - Decaphoda Database)\n",
    "\n",
    "In this notebook I'm doing all the data treatments and adjustments necessary to produce high quality visualizations. \n",
    "\n",
    "This notebook has an output <font color='blue'>treated_db.csv</font> with a subset of the original database properly treated.\n",
    "\n",
    "-----\n",
    "\n",
    "Specifically, for the `Decaphoda` database, the file we'll read is <font color='blue'>Planilha geral Atualizada FINAL 5_GERAL_sendo trabalhada no Google drive.xlsx</font>"
   ]
  },
  {
   "cell_type": "markdown",
   "metadata": {},
   "source": [
    "## Imports"
   ]
  },
  {
   "cell_type": "code",
   "execution_count": 1,
   "metadata": {
    "ExecuteTime": {
     "end_time": "2021-02-10T13:51:29.871267Z",
     "start_time": "2021-02-10T13:51:24.274732Z"
    }
   },
   "outputs": [],
   "source": [
    "import datetime\n",
    "import unidecode\n",
    "import numpy as np\n",
    "import pandas as pd\n",
    "\n",
    "from collections import defaultdict\n",
    "\n",
    "# quick visualizations for data analytics\n",
    "import seaborn as sns\n",
    "import matplotlib.pyplot as plt\n",
    "\n",
    "# proprietary functions in ./src/MNViz.py\n",
    "from src.MNViz import *"
   ]
  },
  {
   "cell_type": "markdown",
   "metadata": {},
   "source": [
    "## Importing data"
   ]
  },
  {
   "cell_type": "code",
   "execution_count": 2,
   "metadata": {
    "ExecuteTime": {
     "end_time": "2021-02-10T13:51:31.925489Z",
     "start_time": "2021-02-10T13:51:29.875089Z"
    }
   },
   "outputs": [
    {
     "name": "stdout",
     "output_type": "stream",
     "text": [
      "The excel file contains the following sheets: ['Banco de Dados Colecao Carcinol', 'Planilha1', 'Legenda cores']\n",
      "\n",
      "Database is in sheet: Banco de Dados Colecao Carcinol\n"
     ]
    }
   ],
   "source": [
    "excel = pd.ExcelFile(\n",
    "    './data/Planilha geral Atualizada FINAL 5_GERAL_sendo trabalhada no Google drive.xlsx')\n",
    "sheet_name = excel.sheet_names\n",
    "\n",
    "print('The excel file contains the following sheets:', sheet_name)\n",
    "print('\\nDatabase is in sheet:', sheet_name[0])"
   ]
  },
  {
   "cell_type": "code",
   "execution_count": 3,
   "metadata": {
    "ExecuteTime": {
     "end_time": "2021-02-10T13:51:51.612292Z",
     "start_time": "2021-02-10T13:51:31.927397Z"
    }
   },
   "outputs": [
    {
     "name": "stderr",
     "output_type": "stream",
     "text": [
      "/home/franklin/anaconda3/envs/viz/lib/python3.9/site-packages/openpyxl/worksheet/_reader.py:300: UserWarning: Unknown extension is not supported and will be removed\n",
      "  warn(msg)\n"
     ]
    },
    {
     "name": "stdout",
     "output_type": "stream",
     "text": [
      "The database has 31000 rows and 153 columns.\n"
     ]
    }
   ],
   "source": [
    "db = excel.parse(sheet_name[0], sep=';', encoding='utf-8-sig')\n",
    "carcinos = db.copy()\n",
    "\n",
    "print(f'The database has {db.shape[0]} rows and {db.shape[1]} columns.')"
   ]
  },
  {
   "cell_type": "markdown",
   "metadata": {},
   "source": [
    "## Adjusting column names\n",
    "\n",
    "### removing '\\n', '\\t', and other special characters"
   ]
  },
  {
   "cell_type": "code",
   "execution_count": 4,
   "metadata": {
    "ExecuteTime": {
     "end_time": "2021-02-10T13:51:51.616091Z",
     "start_time": "2021-02-10T13:51:51.613692Z"
    }
   },
   "outputs": [],
   "source": [
    "carcinos.columns = [str(col).replace(r'\\n','') for col in carcinos.columns]"
   ]
  },
  {
   "cell_type": "markdown",
   "metadata": {},
   "source": [
    "### There are a lot of `Unnamed` columns\n",
    "\n",
    "Here we'll investigate to see if there's any data in these columns. If there is, there might be a reading problem."
   ]
  },
  {
   "cell_type": "code",
   "execution_count": 5,
   "metadata": {
    "ExecuteTime": {
     "end_time": "2021-02-10T13:51:51.701474Z",
     "start_time": "2021-02-10T13:51:51.617180Z"
    }
   },
   "outputs": [
    {
     "name": "stdout",
     "output_type": "stream",
     "text": [
      "There is 20 unnamed columns.\n"
     ]
    }
   ],
   "source": [
    "# Unnamed columns\n",
    "unnamed_cols = []\n",
    "for col in carcinos.columns:\n",
    "    if 'unnamed' in col.lower():\n",
    "        unnamed_cols.append(col)\n",
    "        \n",
    "print(f'There is {len(unnamed_cols)} unnamed columns.')"
   ]
  },
  {
   "cell_type": "code",
   "execution_count": 6,
   "metadata": {
    "ExecuteTime": {
     "end_time": "2021-02-10T13:51:52.988955Z",
     "start_time": "2021-02-10T13:51:51.702857Z"
    }
   },
   "outputs": [
    {
     "data": {
      "text/plain": [
       "<AxesSubplot:>"
      ]
     },
     "execution_count": 6,
     "metadata": {},
     "output_type": "execute_result"
    },
    {
     "data": {
      "image/png": "[encoded data removed]",
      "text/plain": [
       "<Figure size 720x360 with 1 Axes>"
      ]
     },
     "metadata": {
      "needs_background": "light"
     },
     "output_type": "display_data"
    }
   ],
   "source": [
    "# If there's at least one red cell in the chart below, it's not safe to exclude the Unnamed columns from \n",
    "# the database. I recommend you take a further look into the database to check if there's some annotation \n",
    "# errors or, perhaps, you're using the special character ';' in some cells? \n",
    "subset = carcinos[unnamed_cols]\n",
    "\n",
    "plt.figure(figsize=(10,5))\n",
    "sns.heatmap(subset.isna(), vmin=0, vmax=1, cmap=['red', 'lightgray'], cbar=False)"
   ]
  },
  {
   "cell_type": "markdown",
   "metadata": {},
   "source": [
    "#### short code to test if all unnamed columns are totally empty"
   ]
  },
  {
   "cell_type": "code",
   "execution_count": 7,
   "metadata": {
    "ExecuteTime": {
     "end_time": "2021-02-10T13:51:52.996568Z",
     "start_time": "2021-02-10T13:51:52.990068Z"
    }
   },
   "outputs": [],
   "source": [
    "empty_cols = []\n",
    "for col in unnamed_cols:\n",
    "    # if theres at least one non-empty cell, the sum of empty cells wont coincide with the number of lines\n",
    "    if carcinos[col].isna().sum() != carcinos.shape[0]:\n",
    "        print(f'p.s.: The column {col} is not fully empty! Please check that before moving on.')\n",
    "    else:\n",
    "        empty_cols.append(col)"
   ]
  },
  {
   "cell_type": "markdown",
   "metadata": {},
   "source": [
    "#### If it's all good, we can remove those empty columns without any loss"
   ]
  },
  {
   "cell_type": "code",
   "execution_count": 8,
   "metadata": {
    "ExecuteTime": {
     "end_time": "2021-02-10T13:51:53.122684Z",
     "start_time": "2021-02-10T13:51:52.998273Z"
    }
   },
   "outputs": [],
   "source": [
    "carcinos.drop(empty_cols, axis=1, inplace=True)"
   ]
  },
  {
   "cell_type": "markdown",
   "metadata": {
    "ExecuteTime": {
     "end_time": "2020-07-29T18:51:12.632272Z",
     "start_time": "2020-07-29T18:51:12.627636Z"
    }
   },
   "source": [
    "## Adjusting Determiners and Collectors Names"
   ]
  },
  {
   "cell_type": "code",
   "execution_count": 9,
   "metadata": {
    "ExecuteTime": {
     "end_time": "2021-02-10T13:51:53.149949Z",
     "start_time": "2021-02-10T13:51:53.124030Z"
    }
   },
   "outputs": [],
   "source": [
    "# for col in carcinos.columns:\n",
    "#     if 'collect' in col.lower():\n",
    "#         print(col)"
   ]
  },
  {
   "cell_type": "code",
   "execution_count": 10,
   "metadata": {
    "ExecuteTime": {
     "end_time": "2021-02-10T13:51:53.195385Z",
     "start_time": "2021-02-10T13:51:53.150964Z"
    }
   },
   "outputs": [],
   "source": [
    "names_col = ['Determiner First Name1', 'Determiner Middle1', 'Determiner Last Name1',\n",
    "             'Determiner First Name2', 'Determiner Middle2', 'Determiner Last Name2',\n",
    "             'Collector First Name1', 'Collector Middle1', 'Collector Last Name1',\n",
    "             'Collector First Name2', 'Collector Middle2', 'Collector Last Name2',\n",
    "             'Collector First Name3', 'Collector Middle3', 'Collector Last Name3',\n",
    "             'Collector First Name4', 'Collector Middle4', 'Collector Last Name4',\n",
    "             'Collector First Name5', 'Collector Middle5', 'Collector Last Name5',\n",
    "             'Collector First Name6', 'Collector Middle6', 'Collector Last Name6',\n",
    "             'Collector First Name7', 'Collector Middle7', 'Collector Last Name7']"
   ]
  },
  {
   "cell_type": "code",
   "execution_count": 11,
   "metadata": {
    "ExecuteTime": {
     "end_time": "2021-02-10T13:51:53.243682Z",
     "start_time": "2021-02-10T13:51:53.196567Z"
    }
   },
   "outputs": [],
   "source": [
    "# skipping this for now. There are composite names that I can't just split\n",
    "\n",
    "# for name_col in names_col:\n",
    "#     if 'last' in name_col.lower():\n",
    "#         carcinos[name_col] = carcinos[name_col].apply(lambda x: treat_names(x, pos='last'))\n",
    "#     else:\n",
    "#         carcinos[name_col] = carcinos[name_col].apply(treat_names)"
   ]
  },
  {
   "cell_type": "code",
   "execution_count": 12,
   "metadata": {
    "ExecuteTime": {
     "end_time": "2021-02-10T13:51:53.592150Z",
     "start_time": "2021-02-10T13:51:53.247753Z"
    }
   },
   "outputs": [],
   "source": [
    "# p.s.: Being careful to keep NaN\n",
    "for name_col in names_col:\n",
    "    if 'middle' not in name_col.lower():\n",
    "        carcinos[name_col] = carcinos[name_col].apply(lambda x:str(x).strip().capitalize() if type(x) == str else str(x))\n",
    "    else:\n",
    "        carcinos[name_col] = carcinos[name_col].apply(lambda x:str(x).strip().lower().capitalize() if type(x) == str else str(x))"
   ]
  },
  {
   "cell_type": "markdown",
   "metadata": {},
   "source": [
    "### creating column joining First and Last names\n",
    "\n",
    "I'm doing this only for the first collectors and determiners"
   ]
  },
  {
   "cell_type": "code",
   "execution_count": 13,
   "metadata": {
    "ExecuteTime": {
     "end_time": "2021-02-10T13:51:53.670826Z",
     "start_time": "2021-02-10T13:51:53.593334Z"
    }
   },
   "outputs": [],
   "source": [
    "carcinos['DeterminerFirst_and_LastName1'] = carcinos['Determiner First Name1'] + ' ' + carcinos['Determiner Last Name1']\n",
    "\n",
    "carcinos['CollectorFirst_and_LastName1'] = carcinos['Collector First Name1'] + ' ' + carcinos['Collector Last Name1']"
   ]
  },
  {
   "cell_type": "markdown",
   "metadata": {},
   "source": [
    "Doing the same thing for the other columns (2,3,4,5 and 6)"
   ]
  },
  {
   "cell_type": "code",
   "execution_count": 14,
   "metadata": {
    "ExecuteTime": {
     "end_time": "2021-02-10T13:51:53.820795Z",
     "start_time": "2021-02-10T13:51:53.672281Z"
    }
   },
   "outputs": [],
   "source": [
    "for i in range(2, 8):    \n",
    "    if i < 3:\n",
    "        # determiner \n",
    "        carcinos[f'DeterminerFirst_and_LastName{i}'] = carcinos[f'Determiner First Name{i}'].astype(str).str.strip() + ' ' + carcinos[f'Determiner Last Name{i}'].astype(str).str.strip()\n",
    "    \n",
    "    # collector\n",
    "    carcinos[f'CollectorFirst_and_LastName{i}'] = carcinos[f'Collector First Name{i}'].str.strip() + ' ' + carcinos[f'Collector Last Name{i}'].str.strip()"
   ]
  },
  {
   "cell_type": "code",
   "execution_count": 15,
   "metadata": {
    "ExecuteTime": {
     "end_time": "2021-02-10T13:51:53.876424Z",
     "start_time": "2021-02-10T13:51:53.821863Z"
    }
   },
   "outputs": [
    {
     "data": {
      "text/plain": [
       "array(['nan nan', 'Priscila Nascimento', 'Walter Zwink',\n",
       "       'Gustavo-augusto De melo', 'Paulo Young', 'Alexandre Leta',\n",
       "       'H Pinto', '0 Thiery', 'A Mello', 'Cristiana Serejo', 'W Boeger',\n",
       "       'J Luque', 'Maria-margarida Correa', 'Juliana Segadilha',\n",
       "       'Fabio Mauro', 'None None'], dtype=object)"
      ]
     },
     "execution_count": 15,
     "metadata": {},
     "output_type": "execute_result"
    }
   ],
   "source": [
    "carcinos['DeterminerFirst_and_LastName2'].unique()"
   ]
  },
  {
   "cell_type": "markdown",
   "metadata": {},
   "source": [
    "### Creating column with FULL name (first + middle + last names)"
   ]
  },
  {
   "cell_type": "code",
   "execution_count": 16,
   "metadata": {
    "ExecuteTime": {
     "end_time": "2021-02-10T13:51:53.941213Z",
     "start_time": "2021-02-10T13:51:53.880739Z"
    }
   },
   "outputs": [],
   "source": [
    "carcinos['DeterminerFullName1'] = carcinos['Determiner First Name1'] + ' ' + carcinos['Determiner Middle1'] + ' ' + carcinos['Determiner Last Name1']\n",
    "\n",
    "carcinos['CollectorFullName1'] = carcinos['Collector First Name1'] + ' ' + carcinos['Collector Middle1'] + ' ' + carcinos['Collector Last Name1']"
   ]
  },
  {
   "cell_type": "code",
   "execution_count": 17,
   "metadata": {
    "ExecuteTime": {
     "end_time": "2021-02-10T13:51:54.200890Z",
     "start_time": "2021-02-10T13:51:53.942571Z"
    }
   },
   "outputs": [],
   "source": [
    "for i in range(2, 8):    \n",
    "    if i < 3:\n",
    "        # determiner \n",
    "        carcinos[f'DeterminerFullName{i}'] = carcinos[f'Determiner First Name{i}'].astype(str).str.strip() + ' ' + carcinos[f'Determiner Middle{i}'].astype(str).str.strip() + ' ' + carcinos[f'Determiner Last Name{i}'].astype(str).str.strip()\n",
    "    \n",
    "    # collector\n",
    "    carcinos[f'CollectorFullName{i}'] = carcinos[f'Collector First Name{i}'].str.strip() + ' ' + carcinos[f'Collector Middle{i}'].str.strip() + ' ' + carcinos[f'Collector Last Name{i}'].str.strip()"
   ]
  },
  {
   "cell_type": "markdown",
   "metadata": {},
   "source": [
    "## Author names..."
   ]
  },
  {
   "cell_type": "code",
   "execution_count": 18,
   "metadata": {
    "ExecuteTime": {
     "end_time": "2021-02-10T13:51:54.204430Z",
     "start_time": "2021-02-10T13:51:54.201977Z"
    }
   },
   "outputs": [],
   "source": [
    "author_cols = []\n",
    "for col in carcinos.columns:\n",
    "    if 'author' in col.lower():\n",
    "        author_cols.append(col)"
   ]
  },
  {
   "cell_type": "code",
   "execution_count": 19,
   "metadata": {
    "ExecuteTime": {
     "end_time": "2021-02-10T13:51:54.490369Z",
     "start_time": "2021-02-10T13:51:54.205571Z"
    }
   },
   "outputs": [
    {
     "data": {
      "text/html": [
       "<div>\n",
       "<style scoped>\n",
       "    .dataframe tbody tr th:only-of-type {\n",
       "        vertical-align: middle;\n",
       "    }\n",
       "\n",
       "    .dataframe tbody tr th {\n",
       "        vertical-align: top;\n",
       "    }\n",
       "\n",
       "    .dataframe thead th {\n",
       "        text-align: right;\n",
       "    }\n",
       "</style>\n",
       "<table border=\"1\" class=\"dataframe\">\n",
       "  <thead>\n",
       "    <tr style=\"text-align: right;\">\n",
       "      <th></th>\n",
       "      <th>Species Author Name 1</th>\n",
       "      <th>Species Author Year 1</th>\n",
       "      <th>SpeciesAuthorInfo1</th>\n",
       "      <th>Species Author Parentheses 1</th>\n",
       "      <th>Species Author Name 2</th>\n",
       "      <th>Species Author Year 2</th>\n",
       "      <th>SpeciesAuthorInfo2</th>\n",
       "      <th>Species Author Parentheses 2</th>\n",
       "    </tr>\n",
       "  </thead>\n",
       "  <tbody>\n",
       "    <tr>\n",
       "      <th>0</th>\n",
       "      <td>Burkenroad</td>\n",
       "      <td>1936.0</td>\n",
       "      <td>NaN</td>\n",
       "      <td>NO</td>\n",
       "      <td>NaN</td>\n",
       "      <td>NaN</td>\n",
       "      <td>NaN</td>\n",
       "      <td>NaN</td>\n",
       "    </tr>\n",
       "    <tr>\n",
       "      <th>1</th>\n",
       "      <td>Burkenroad</td>\n",
       "      <td>1936.0</td>\n",
       "      <td>NaN</td>\n",
       "      <td>NO</td>\n",
       "      <td>NaN</td>\n",
       "      <td>NaN</td>\n",
       "      <td>NaN</td>\n",
       "      <td>NaN</td>\n",
       "    </tr>\n",
       "    <tr>\n",
       "      <th>2</th>\n",
       "      <td>Burkenroad</td>\n",
       "      <td>1936.0</td>\n",
       "      <td>NaN</td>\n",
       "      <td>NO</td>\n",
       "      <td>NaN</td>\n",
       "      <td>NaN</td>\n",
       "      <td>NaN</td>\n",
       "      <td>NaN</td>\n",
       "    </tr>\n",
       "    <tr>\n",
       "      <th>3</th>\n",
       "      <td>Hobbs III</td>\n",
       "      <td>1979.0</td>\n",
       "      <td>NaN</td>\n",
       "      <td>NO</td>\n",
       "      <td>NaN</td>\n",
       "      <td>NaN</td>\n",
       "      <td>NaN</td>\n",
       "      <td>NaN</td>\n",
       "    </tr>\n",
       "    <tr>\n",
       "      <th>4</th>\n",
       "      <td>Burkenroad</td>\n",
       "      <td>1936.0</td>\n",
       "      <td>NaN</td>\n",
       "      <td>NO</td>\n",
       "      <td>NaN</td>\n",
       "      <td>NaN</td>\n",
       "      <td>NaN</td>\n",
       "      <td>NaN</td>\n",
       "    </tr>\n",
       "    <tr>\n",
       "      <th>...</th>\n",
       "      <td>...</td>\n",
       "      <td>...</td>\n",
       "      <td>...</td>\n",
       "      <td>...</td>\n",
       "      <td>...</td>\n",
       "      <td>...</td>\n",
       "      <td>...</td>\n",
       "      <td>...</td>\n",
       "    </tr>\n",
       "    <tr>\n",
       "      <th>30995</th>\n",
       "      <td>NaN</td>\n",
       "      <td>NaN</td>\n",
       "      <td>NaN</td>\n",
       "      <td>NaN</td>\n",
       "      <td>NaN</td>\n",
       "      <td>NaN</td>\n",
       "      <td>NaN</td>\n",
       "      <td>NaN</td>\n",
       "    </tr>\n",
       "    <tr>\n",
       "      <th>30996</th>\n",
       "      <td>NaN</td>\n",
       "      <td>NaN</td>\n",
       "      <td>NaN</td>\n",
       "      <td>NaN</td>\n",
       "      <td>NaN</td>\n",
       "      <td>NaN</td>\n",
       "      <td>NaN</td>\n",
       "      <td>NaN</td>\n",
       "    </tr>\n",
       "    <tr>\n",
       "      <th>30997</th>\n",
       "      <td>NaN</td>\n",
       "      <td>NaN</td>\n",
       "      <td>NaN</td>\n",
       "      <td>NaN</td>\n",
       "      <td>NaN</td>\n",
       "      <td>NaN</td>\n",
       "      <td>NaN</td>\n",
       "      <td>NaN</td>\n",
       "    </tr>\n",
       "    <tr>\n",
       "      <th>30998</th>\n",
       "      <td>NaN</td>\n",
       "      <td>NaN</td>\n",
       "      <td>NaN</td>\n",
       "      <td>NaN</td>\n",
       "      <td>NaN</td>\n",
       "      <td>NaN</td>\n",
       "      <td>NaN</td>\n",
       "      <td>NaN</td>\n",
       "    </tr>\n",
       "    <tr>\n",
       "      <th>30999</th>\n",
       "      <td>NaN</td>\n",
       "      <td>NaN</td>\n",
       "      <td>NaN</td>\n",
       "      <td>NaN</td>\n",
       "      <td>NaN</td>\n",
       "      <td>NaN</td>\n",
       "      <td>NaN</td>\n",
       "      <td>NaN</td>\n",
       "    </tr>\n",
       "  </tbody>\n",
       "</table>\n",
       "<p>31000 rows × 8 columns</p>\n",
       "</div>"
      ],
      "text/plain": [
       "      Species Author Name 1  Species Author Year 1 SpeciesAuthorInfo1  \\\n",
       "0                Burkenroad                 1936.0                NaN   \n",
       "1                Burkenroad                 1936.0                NaN   \n",
       "2                Burkenroad                 1936.0                NaN   \n",
       "3                 Hobbs III                 1979.0                NaN   \n",
       "4                Burkenroad                 1936.0                NaN   \n",
       "...                     ...                    ...                ...   \n",
       "30995                   NaN                    NaN                NaN   \n",
       "30996                   NaN                    NaN                NaN   \n",
       "30997                   NaN                    NaN                NaN   \n",
       "30998                   NaN                    NaN                NaN   \n",
       "30999                   NaN                    NaN                NaN   \n",
       "\n",
       "      Species Author Parentheses 1  Species Author Name 2  \\\n",
       "0                               NO                    NaN   \n",
       "1                               NO                    NaN   \n",
       "2                               NO                    NaN   \n",
       "3                               NO                    NaN   \n",
       "4                               NO                    NaN   \n",
       "...                            ...                    ...   \n",
       "30995                          NaN                    NaN   \n",
       "30996                          NaN                    NaN   \n",
       "30997                          NaN                    NaN   \n",
       "30998                          NaN                    NaN   \n",
       "30999                          NaN                    NaN   \n",
       "\n",
       "       Species Author Year 2  SpeciesAuthorInfo2  Species Author Parentheses 2  \n",
       "0                        NaN                 NaN                           NaN  \n",
       "1                        NaN                 NaN                           NaN  \n",
       "2                        NaN                 NaN                           NaN  \n",
       "3                        NaN                 NaN                           NaN  \n",
       "4                        NaN                 NaN                           NaN  \n",
       "...                      ...                 ...                           ...  \n",
       "30995                    NaN                 NaN                           NaN  \n",
       "30996                    NaN                 NaN                           NaN  \n",
       "30997                    NaN                 NaN                           NaN  \n",
       "30998                    NaN                 NaN                           NaN  \n",
       "30999                    NaN                 NaN                           NaN  \n",
       "\n",
       "[31000 rows x 8 columns]"
      ]
     },
     "execution_count": 19,
     "metadata": {},
     "output_type": "execute_result"
    }
   ],
   "source": [
    "carcinos[author_cols]"
   ]
  },
  {
   "cell_type": "code",
   "execution_count": 20,
   "metadata": {
    "ExecuteTime": {
     "end_time": "2021-02-10T13:51:54.500483Z",
     "start_time": "2021-02-10T13:51:54.495437Z"
    }
   },
   "outputs": [],
   "source": [
    "author_cols = ['Species Author Name 1', 'Species Author Name 2']"
   ]
  },
  {
   "cell_type": "code",
   "execution_count": 21,
   "metadata": {
    "ExecuteTime": {
     "end_time": "2021-02-10T13:51:54.567690Z",
     "start_time": "2021-02-10T13:51:54.503145Z"
    }
   },
   "outputs": [],
   "source": [
    "carcinos['Author1'] = carcinos['Species Author Name 1'].apply(lambda x:str(x).strip().lower().capitalize())\n",
    "carcinos['Author2'] = carcinos['Species Author Name 2'].apply(lambda x:str(x).strip().lower().capitalize())"
   ]
  },
  {
   "cell_type": "markdown",
   "metadata": {},
   "source": [
    "<br>\n",
    "\n",
    "## Treating taxon columns"
   ]
  },
  {
   "cell_type": "code",
   "execution_count": 22,
   "metadata": {
    "ExecuteTime": {
     "end_time": "2021-02-10T13:51:54.903033Z",
     "start_time": "2021-02-10T13:51:54.568786Z"
    }
   },
   "outputs": [
    {
     "name": "stdout",
     "output_type": "stream",
     "text": [
      "Adjusting column Kingdom\n",
      "Adjusting column Phylum1\n",
      "Adjusting column Subphylum1\n",
      "Adjusting column Class1\n",
      "Adjusting column Subclass1\n",
      "Adjusting column Infraclass1\n",
      "Adjusting column Superorder1\n",
      "Adjusting column Order1\n",
      "Adjusting column Suborder1\n",
      "Adjusting column Infraorder1\n",
      "Adjusting column Superfamily1\n",
      "Adjusting column Family1\n",
      "Adjusting column Subfamily1\n",
      "Adjusting column Tribe1\n",
      "Adjusting column Genus1\n",
      "Adjusting column Species1\n",
      "Adjusting column Type Status1\n"
     ]
    }
   ],
   "source": [
    "# OBS: continuar a partir daqui!!!\n",
    "taxon_columns = ['Kingdom', 'Phylum1', 'Subphylum1', 'Class1', 'Subclass1', 'Infraclass1',  \n",
    "                 'Superorder1', 'Order1', 'Suborder1', 'Infraorder1',  'Superfamily1', 'Family1',\n",
    "                 'Subfamily1', 'Tribe1', 'Genus1', 'Species1',\n",
    "                 'Type Status1']  # selecting taxonomy columns\n",
    "\n",
    "treat_taxon_columns(carcinos, taxon_columns)"
   ]
  },
  {
   "cell_type": "markdown",
   "metadata": {},
   "source": [
    "## Adjusting Gender and Species"
   ]
  },
  {
   "cell_type": "code",
   "execution_count": 23,
   "metadata": {
    "ExecuteTime": {
     "end_time": "2021-02-10T13:51:54.914986Z",
     "start_time": "2021-02-10T13:51:54.905853Z"
    }
   },
   "outputs": [],
   "source": [
    "# dica do especialista: epiteto especifico deve ser todo minusculo (especie e subespecie, nesse caso)\n",
    "carcinos['Species1'] = carcinos['Species1'].str.lower()"
   ]
  },
  {
   "cell_type": "markdown",
   "metadata": {
    "ExecuteTime": {
     "end_time": "2020-08-01T16:38:50.984971Z",
     "start_time": "2020-08-01T16:38:50.966700Z"
    }
   },
   "source": [
    "<br>\n",
    "\n",
    "### Treating Type column"
   ]
  },
  {
   "cell_type": "code",
   "execution_count": 24,
   "metadata": {
    "ExecuteTime": {
     "end_time": "2021-02-10T13:51:54.957295Z",
     "start_time": "2021-02-10T13:51:54.916696Z"
    }
   },
   "outputs": [],
   "source": [
    "def correct_type(t):\n",
    "    '''\n",
    "    Given a type input, it correctly returns the name of the type (Corrects for spelling mistakes \n",
    "    and some known errors)\n",
    "    '''\n",
    "    # list of known types\n",
    "    types = ['Parátipo', 'Holótipo', 'Alótipo', 'Neótipo', 'Paralectótipo', 'Topótipo', 'Síntipo', 'Lectótipo']\n",
    "    normalized_types = {unidecode.unidecode(j):j for j in types}  # corrects for accents errors\n",
    "    \n",
    "    t = str(t).strip().capitalize()\n",
    "    if t in types:\n",
    "        return t\n",
    "    elif t in normalized_types.keys():\n",
    "        return normalized_types[t]\n",
    "    elif t == 'None' or t == 'Nan':\n",
    "        return np.NAN\n",
    "    else:  # still don't know what to do with 'Tipo, Co-tipo and Material tipo'.\n",
    "        return t"
   ]
  },
  {
   "cell_type": "code",
   "execution_count": 25,
   "metadata": {
    "ExecuteTime": {
     "end_time": "2021-02-10T13:51:55.740374Z",
     "start_time": "2021-02-10T13:51:54.958800Z"
    }
   },
   "outputs": [
    {
     "data": {
      "text/plain": [
       "Parátipo         929\n",
       "Holótipo         303\n",
       "Alótipo           86\n",
       "Neótipo            7\n",
       "Paralectótipo      6\n",
       "Topótipo           6\n",
       "Síntipo            5\n",
       "Lectótipo          4\n",
       "Material tipo      4\n",
       "Tipo               2\n",
       "Co-tipo            1\n",
       "Neotype            1\n",
       "Name: Type Status1, dtype: int64"
      ]
     },
     "execution_count": 25,
     "metadata": {},
     "output_type": "execute_result"
    }
   ],
   "source": [
    "carcinos['Type Status1'] = carcinos['Type Status1'].apply(correct_type)\n",
    "carcinos['Type Status1'].value_counts()"
   ]
  },
  {
   "cell_type": "markdown",
   "metadata": {},
   "source": [
    "## Catching Month and Year"
   ]
  },
  {
   "cell_type": "markdown",
   "metadata": {},
   "source": [
    "date_columns= ['Cataloged Date','Determined Date1','Determined Date2', 'Start Date'] "
   ]
  },
  {
   "cell_type": "code",
   "execution_count": 26,
   "metadata": {
    "ExecuteTime": {
     "end_time": "2021-02-10T13:51:55.744169Z",
     "start_time": "2021-02-10T13:51:55.741987Z"
    }
   },
   "outputs": [],
   "source": [
    "# carcinos['Determined Date1'].unique()"
   ]
  },
  {
   "cell_type": "code",
   "execution_count": 27,
   "metadata": {
    "ExecuteTime": {
     "end_time": "2021-02-10T13:51:55.783411Z",
     "start_time": "2021-02-10T13:51:55.745690Z"
    }
   },
   "outputs": [],
   "source": [
    "def get_year(date):\n",
    "    '''\n",
    "    Expected format: YYYY/mm/dd\n",
    "    '''\n",
    "    date = str(date).replace('-','/')\n",
    "    if date.lower() == 'nan':\n",
    "        return np.NAN\n",
    "    else:\n",
    "        return date.split('/')[0]\n",
    "    \n",
    "def get_month(date):\n",
    "    '''\n",
    "    Expected format: YYYY/mm/dd\n",
    "    '''\n",
    "    date = str(date).replace('-','/')\n",
    "    if date.lower() == 'nan':\n",
    "        return np.NAN\n",
    "    elif len(date.split('/')) >= 2:\n",
    "        return date.split('/')[1]\n",
    "    else:\n",
    "        return date"
   ]
  },
  {
   "cell_type": "code",
   "execution_count": 28,
   "metadata": {
    "ExecuteTime": {
     "end_time": "2021-02-10T13:51:55.895754Z",
     "start_time": "2021-02-10T13:51:55.785484Z"
    }
   },
   "outputs": [],
   "source": [
    "# carcinos['Determined Date1'].apply(get_month).value_counts(dropna=False)"
   ]
  },
  {
   "cell_type": "code",
   "execution_count": 70,
   "metadata": {
    "ExecuteTime": {
     "end_time": "2021-02-10T15:21:02.608888Z",
     "start_time": "2021-02-10T15:21:02.437682Z"
    }
   },
   "outputs": [],
   "source": [
    "carcinos['det_year'] = carcinos['Determined Date1'].apply(get_year)\n",
    "carcinos['det_year2'] = carcinos['Determined Date2'].apply(get_year)\n",
    "carcinos['start_year'] = carcinos['Start Date'].apply(get_year)\n",
    "carcinos['catalog_year'] = carcinos['Cataloged Date'].apply(get_year)\n",
    "\n",
    "carcinos['det_month'] = carcinos['Determined Date1'].apply(get_month)\n",
    "carcinos['det_month2'] = carcinos['Determined Date2'].apply(get_month)\n",
    "carcinos['start_month'] = carcinos['Start Date'].apply(get_month)\n",
    "carcinos['catalog_month'] = carcinos['Cataloged Date'].apply(get_month)"
   ]
  },
  {
   "cell_type": "markdown",
   "metadata": {},
   "source": [
    "converting to int"
   ]
  },
  {
   "cell_type": "code",
   "execution_count": 30,
   "metadata": {
    "ExecuteTime": {
     "end_time": "2021-02-10T13:51:56.083721Z",
     "start_time": "2021-02-10T13:51:56.081992Z"
    }
   },
   "outputs": [],
   "source": [
    "# skipping this for now as there are still many non-integers in these columns (probably errors)\n",
    "\n",
    "# repteis['ano_determinacao'] = repteis['ano_determinacao'].apply(str_with_nan2int) #has NaN\n",
    "# repteis['ano_coleta'] = repteis['ano_coleta'].apply(str_with_nan2int) #has NaN\n",
    "# repteis['ano_entrada'] = repteis['ano_entrada'].apply(str_with_nan2int) #has NaN\n",
    "\n",
    "# repteis['mes_determinacao'] = repteis['mes_determinacao'].apply(str_with_nan2int) #has NaN\n",
    "# repteis['mes_coleta'] = repteis['mes_coleta'].apply(str_with_nan2int) #has NaN\n",
    "# repteis['mes_entrada'] = repteis['mes_entrada'].apply(str_with_nan2int) #has NaN"
   ]
  },
  {
   "cell_type": "markdown",
   "metadata": {},
   "source": [
    "<br>\n",
    "\n",
    "## Adjusting `Depth` columns\n",
    "\n",
    "<font color='red'>**p.s.:** I'm assuming it's all on the same unit measure (in meters) </font>"
   ]
  },
  {
   "cell_type": "code",
   "execution_count": 31,
   "metadata": {
    "ExecuteTime": {
     "end_time": "2021-02-10T13:51:56.130974Z",
     "start_time": "2021-02-10T13:51:56.084780Z"
    }
   },
   "outputs": [],
   "source": [
    "def get_depth(d):\n",
    "    '''\n",
    "    Treats known errors in Depth columns\n",
    "    '''\n",
    "    \n",
    "    d = str(d)\n",
    "    \n",
    "    if d.lower() == 'nan' or d.lower() == 'none':\n",
    "        return np.NAN\n",
    "    else:\n",
    "        return d.replace(',','.').replace('m','').strip()"
   ]
  },
  {
   "cell_type": "code",
   "execution_count": 145,
   "metadata": {
    "ExecuteTime": {
     "end_time": "2021-02-10T16:03:11.311190Z",
     "start_time": "2021-02-10T16:03:11.265814Z"
    }
   },
   "outputs": [],
   "source": [
    "carcinos['min_depth'] = carcinos['StartDepth'].apply(get_depth)\n",
    "carcinos['max_depth'] = carcinos['EndDepth'].apply(get_depth)\n",
    "\n",
    "# converting to float (keeping NaN)\n",
    "carcinos['min_depth'] = carcinos['min_depth'].apply(convert2float)\n",
    "carcinos['max_depth'] = carcinos['max_depth'].apply(convert2float)"
   ]
  },
  {
   "cell_type": "code",
   "execution_count": null,
   "metadata": {},
   "outputs": [],
   "source": [
    "# (sanity check) startdepth cells in which StartDepth is nonempty and min_depth is\n",
    "# carcinos[(~carcinos['StartDepth'].isna()) & (carcinos['min_depth'].isna())][['StartDepth', 'min_depth']]"
   ]
  },
  {
   "cell_type": "code",
   "execution_count": 146,
   "metadata": {
    "ExecuteTime": {
     "end_time": "2021-02-10T16:03:13.155700Z",
     "start_time": "2021-02-10T16:03:13.144239Z"
    }
   },
   "outputs": [
    {
     "data": {
      "text/html": [
       "<div>\n",
       "<style scoped>\n",
       "    .dataframe tbody tr th:only-of-type {\n",
       "        vertical-align: middle;\n",
       "    }\n",
       "\n",
       "    .dataframe tbody tr th {\n",
       "        vertical-align: top;\n",
       "    }\n",
       "\n",
       "    .dataframe thead th {\n",
       "        text-align: right;\n",
       "    }\n",
       "</style>\n",
       "<table border=\"1\" class=\"dataframe\">\n",
       "  <thead>\n",
       "    <tr style=\"text-align: right;\">\n",
       "      <th></th>\n",
       "      <th>StartDepth</th>\n",
       "      <th>min_depth</th>\n",
       "      <th>MinElevation</th>\n",
       "    </tr>\n",
       "  </thead>\n",
       "  <tbody>\n",
       "    <tr>\n",
       "      <th>11329</th>\n",
       "      <td>NaN</td>\n",
       "      <td>NaN</td>\n",
       "      <td>1400.0</td>\n",
       "    </tr>\n",
       "    <tr>\n",
       "      <th>12256</th>\n",
       "      <td>NaN</td>\n",
       "      <td>NaN</td>\n",
       "      <td>1500.0</td>\n",
       "    </tr>\n",
       "    <tr>\n",
       "      <th>18181</th>\n",
       "      <td>NaN</td>\n",
       "      <td>NaN</td>\n",
       "      <td>1500.0</td>\n",
       "    </tr>\n",
       "    <tr>\n",
       "      <th>23051</th>\n",
       "      <td>NaN</td>\n",
       "      <td>NaN</td>\n",
       "      <td>740.0</td>\n",
       "    </tr>\n",
       "    <tr>\n",
       "      <th>23052</th>\n",
       "      <td>NaN</td>\n",
       "      <td>NaN</td>\n",
       "      <td>740.0</td>\n",
       "    </tr>\n",
       "    <tr>\n",
       "      <th>23053</th>\n",
       "      <td>NaN</td>\n",
       "      <td>NaN</td>\n",
       "      <td>740.0</td>\n",
       "    </tr>\n",
       "    <tr>\n",
       "      <th>23310</th>\n",
       "      <td>NaN</td>\n",
       "      <td>NaN</td>\n",
       "      <td>340.0</td>\n",
       "    </tr>\n",
       "    <tr>\n",
       "      <th>23404</th>\n",
       "      <td>NaN</td>\n",
       "      <td>NaN</td>\n",
       "      <td>350.0</td>\n",
       "    </tr>\n",
       "    <tr>\n",
       "      <th>24806</th>\n",
       "      <td>NaN</td>\n",
       "      <td>NaN</td>\n",
       "      <td>855.0</td>\n",
       "    </tr>\n",
       "    <tr>\n",
       "      <th>24810</th>\n",
       "      <td>NaN</td>\n",
       "      <td>NaN</td>\n",
       "      <td>1761.0</td>\n",
       "    </tr>\n",
       "    <tr>\n",
       "      <th>25195</th>\n",
       "      <td>NaN</td>\n",
       "      <td>NaN</td>\n",
       "      <td>604.0</td>\n",
       "    </tr>\n",
       "    <tr>\n",
       "      <th>25434</th>\n",
       "      <td>NaN</td>\n",
       "      <td>NaN</td>\n",
       "      <td>981.0</td>\n",
       "    </tr>\n",
       "  </tbody>\n",
       "</table>\n",
       "</div>"
      ],
      "text/plain": [
       "      StartDepth  min_depth  MinElevation\n",
       "11329        NaN        NaN        1400.0\n",
       "12256        NaN        NaN        1500.0\n",
       "18181        NaN        NaN        1500.0\n",
       "23051        NaN        NaN         740.0\n",
       "23052        NaN        NaN         740.0\n",
       "23053        NaN        NaN         740.0\n",
       "23310        NaN        NaN         340.0\n",
       "23404        NaN        NaN         350.0\n",
       "24806        NaN        NaN         855.0\n",
       "24810        NaN        NaN        1761.0\n",
       "25195        NaN        NaN         604.0\n",
       "25434        NaN        NaN         981.0"
      ]
     },
     "execution_count": 146,
     "metadata": {},
     "output_type": "execute_result"
    }
   ],
   "source": [
    "# p.s.: some specimens were found above sea level!!!\n",
    "carcinos[~carcinos['MinElevation'].isna()][['StartDepth', 'min_depth', 'MinElevation']]"
   ]
  },
  {
   "cell_type": "code",
   "execution_count": 147,
   "metadata": {
    "ExecuteTime": {
     "end_time": "2021-02-10T16:03:15.176669Z",
     "start_time": "2021-02-10T16:03:15.172865Z"
    }
   },
   "outputs": [],
   "source": [
    "# test code to see if some depth values will be thrown away when incorporating elevation measures\n",
    "temp = carcinos[~carcinos['MinElevation'].isna()] \n",
    "\n",
    "if temp['StartDepth'].isna().sum() != temp.shape[0]:\n",
    "    # if the total empty cells in Start Depth != total non-empty cells MinElevation\n",
    "    print('Some DEPTH values may be overlaid when adding ELEVATION measures.')\n",
    "    print('Please check that before moving on...')"
   ]
  },
  {
   "cell_type": "code",
   "execution_count": 148,
   "metadata": {
    "ExecuteTime": {
     "end_time": "2021-02-10T16:03:15.734265Z",
     "start_time": "2021-02-10T16:03:15.655475Z"
    }
   },
   "outputs": [],
   "source": [
    "values = []\n",
    "for depth, elev in zip(carcinos['min_depth'], carcinos['MinElevation']):\n",
    "    if np.isnan(depth) and ~np.isnan(elev):\n",
    "        values.append(-elev)  # negative depth means measures above sea level (convention)\n",
    "    else:\n",
    "        values.append(depth)"
   ]
  },
  {
   "cell_type": "markdown",
   "metadata": {},
   "source": [
    "<br>\n",
    "\n",
    "## Adjusting Latitude and Longitude"
   ]
  },
  {
   "cell_type": "markdown",
   "metadata": {},
   "source": [
    "columns: ['Longitude1', 'Latitude1']"
   ]
  },
  {
   "cell_type": "code",
   "execution_count": 33,
   "metadata": {
    "ExecuteTime": {
     "end_time": "2021-02-10T13:51:56.268238Z",
     "start_time": "2021-02-10T13:51:56.244694Z"
    }
   },
   "outputs": [
    {
     "name": "stdout",
     "output_type": "stream",
     "text": [
      "Latitude1\n",
      "Latitude/Longitude Type\n",
      "Lat/Long Method\n"
     ]
    }
   ],
   "source": [
    "for col in carcinos.columns:\n",
    "    if 'lat' in col.lower():\n",
    "        print(col)"
   ]
  },
  {
   "cell_type": "code",
   "execution_count": 34,
   "metadata": {
    "ExecuteTime": {
     "end_time": "2021-02-10T13:51:56.315736Z",
     "start_time": "2021-02-10T13:51:56.269226Z"
    }
   },
   "outputs": [
    {
     "data": {
      "text/plain": [
       "array(['48.528374 W', nan, '43.640745 W', ..., -34550000, -38100000,\n",
       "       -36383333], dtype=object)"
      ]
     },
     "execution_count": 34,
     "metadata": {},
     "output_type": "execute_result"
    }
   ],
   "source": [
    "carcinos['Longitude1'].unique()"
   ]
  },
  {
   "cell_type": "code",
   "execution_count": 35,
   "metadata": {
    "ExecuteTime": {
     "end_time": "2021-02-10T13:51:56.358895Z",
     "start_time": "2021-02-10T13:51:56.316784Z"
    }
   },
   "outputs": [],
   "source": [
    "def correct_coord(x):\n",
    "    x = str(x).lower()\n",
    "    \n",
    "    if x == 'nan':\n",
    "        return np.NAN\n",
    "    elif '-' in x and '.' not in x:\n",
    "        return x[:2] + '.' + x[2:].split(' ')[0]\n",
    "    elif '.' not in x:\n",
    "        return x[:2] + '.' + x[2:].split(' ')[0]\n",
    "    else:\n",
    "        return x.split(' ')[0]"
   ]
  },
  {
   "cell_type": "code",
   "execution_count": 36,
   "metadata": {
    "ExecuteTime": {
     "end_time": "2021-02-10T13:51:58.303030Z",
     "start_time": "2021-02-10T13:51:58.262767Z"
    }
   },
   "outputs": [],
   "source": [
    "carcinos['lat'] = carcinos['Latitude1'].apply(correct_coord)\n",
    "carcinos['long'] = carcinos['Longitude1'].apply(correct_coord)\n",
    "\n",
    "# converting to float\n",
    "carcinos['lat'] = carcinos['lat'].apply(convert2float)\n",
    "carcinos['long'] = carcinos['long'].apply(convert2float)"
   ]
  },
  {
   "cell_type": "markdown",
   "metadata": {},
   "source": [
    "<br>\n",
    "\n",
    "## Locality columns and creating column with brazilian regions"
   ]
  },
  {
   "cell_type": "markdown",
   "metadata": {},
   "source": [
    "columns: ['Environment Type','Locality Name','waterBody','Continent', 'Country', 'State', 'County']"
   ]
  },
  {
   "cell_type": "markdown",
   "metadata": {},
   "source": [
    "<font color='red' size='5'><b>Continuar a partir daqui!!!</b></font>"
   ]
  },
  {
   "cell_type": "code",
   "execution_count": 37,
   "metadata": {
    "ExecuteTime": {
     "end_time": "2021-02-10T13:52:02.247964Z",
     "start_time": "2021-02-10T13:52:02.195283Z"
    }
   },
   "outputs": [],
   "source": [
    "# p.s.: there are still some errors to treat here (only removing accents)\n",
    "carcinos['Environment Type'] = carcinos['Environment Type'].apply(lambda x:unidecode.unidecode(str(x)))\n",
    "carcinos['waterBody'] = carcinos['waterBody'].apply(lambda x:unidecode.unidecode(str(x)))\n",
    "carcinos['Continent'] = carcinos['Continent'].apply(lambda x:unidecode.unidecode(str(x)))"
   ]
  },
  {
   "cell_type": "code",
   "execution_count": 38,
   "metadata": {
    "ExecuteTime": {
     "end_time": "2021-02-10T14:04:30.931951Z",
     "start_time": "2021-02-10T14:04:30.928284Z"
    }
   },
   "outputs": [],
   "source": [
    "correct_states = {\n",
    "    # Norte\n",
    "    'acre':'Acre',\n",
    "    'amazonas':'Amazonas',\n",
    "    'amapa':'Amapá',\n",
    "    'para':'Pará',\n",
    "    'rondonia':'Rondônia',\n",
    "    'roraima':'Roraima',\n",
    "    'tocantins':'Tocantins',\n",
    "    # Nordeste\n",
    "    'ceara':'Ceará',\n",
    "    'maranhao':'Maranhão',\n",
    "    'piaui':'Piauí',\n",
    "    'rio grande do norte':'Rio Grande do Norte',\n",
    "    'paraiba':'Paraíba',\n",
    "    'pernambuco':'Pernambuco',\n",
    "    'alagoas':'Alagoas',\n",
    "    'sergipe':'Sergipe',\n",
    "    'bahia':'Bahia',\n",
    "    # Sudeste\n",
    "    'rio de janeiro':'Rio de Janeiro',\n",
    "    'espirito santo':'Espírito Santo',\n",
    "    'sao paulo':'São Paulo',\n",
    "    # Centro-oeste\n",
    "    'mato grosso':'Mato Grosso',\n",
    "    'mato grosso do sul':'Mato Grosso do Sul',\n",
    "    'goias':'Goiás',\n",
    "    'minas gerais':'Minas Gerais',\n",
    "    # Sul\n",
    "    'parana':'Paraná',\n",
    "    'santa catarina':'Santa Catarina',\n",
    "    'rio grande do sul':'Rio Grande do Sul'\n",
    "}\n",
    "\n",
    "def correct_state(state, correct_states):\n",
    "    '''\n",
    "    Corrects the writing of states' names.\n",
    "    '''\n",
    "    temp = str(state).lower()\n",
    "    temp = unidecode.unidecode(temp)\n",
    "    \n",
    "    try:\n",
    "        return correct_states[temp]\n",
    "    except:\n",
    "        return state  # remains unchanged in case it's a non-brazilian state"
   ]
  },
  {
   "cell_type": "code",
   "execution_count": 45,
   "metadata": {
    "ExecuteTime": {
     "end_time": "2021-02-10T14:06:04.111755Z",
     "start_time": "2021-02-10T14:06:04.085498Z"
    }
   },
   "outputs": [],
   "source": [
    "carcinos['State'] = carcinos['State'].apply(lambda x: correct_state(x, correct_states))"
   ]
  },
  {
   "cell_type": "code",
   "execution_count": 46,
   "metadata": {
    "ExecuteTime": {
     "end_time": "2021-02-10T14:06:08.961068Z",
     "start_time": "2021-02-10T14:06:08.923896Z"
    }
   },
   "outputs": [],
   "source": [
    "# brazilian region\n",
    "carcinos['braz_region'] = carcinos['State'].apply(brazilian_region)"
   ]
  },
  {
   "cell_type": "markdown",
   "metadata": {},
   "source": [
    "<br>\n",
    "\n",
    "## Selecting Subset of Main DB"
   ]
  },
  {
   "cell_type": "code",
   "execution_count": 68,
   "metadata": {
    "ExecuteTime": {
     "end_time": "2021-02-10T15:15:51.642082Z",
     "start_time": "2021-02-10T15:15:51.637165Z"
    }
   },
   "outputs": [],
   "source": [
    "# for col in carcinos.columns:\n",
    "#     if 'date' in col.lower():\n",
    "#         print(col)"
   ]
  },
  {
   "cell_type": "code",
   "execution_count": 151,
   "metadata": {
    "ExecuteTime": {
     "end_time": "2021-02-10T16:04:40.892574Z",
     "start_time": "2021-02-10T16:04:40.888198Z"
    }
   },
   "outputs": [],
   "source": [
    "selected_columns = ['Acronimo+CatalogNumber','CatalogNumber', 'DeterminerFirst_and_LastName1',\n",
    "                    'DeterminerFirst_and_LastName2', 'CollectorFirst_and_LastName1', \n",
    "                    'CollectorFirst_and_LastName2', 'CollectorFirst_and_LastName3',\n",
    "                    'CollectorFirst_and_LastName4', 'CollectorFirst_and_LastName5',\n",
    "                    'CollectorFirst_and_LastName6', 'CollectorFirst_and_LastName7',\n",
    "                    'DeterminerFullName1', 'DeterminerFullName2', 'CollectorFullName1',\n",
    "                    'CollectorFullName2', 'CollectorFullName3', 'CollectorFullName4',\n",
    "                    'CollectorFullName5', 'CollectorFullName6', 'CollectorFullName7',\n",
    "                    'Author1', 'Author2', 'Kingdom', 'Phylum1', 'Subphylum1', 'Class1', 'Subclass1', \n",
    "                    'Infraclass1', 'Superorder1', 'Order1', 'Suborder1', 'Infraorder1',  'Superfamily1', \n",
    "                    'Family1', 'Subfamily1', 'Tribe1', 'Genus1', 'Species1', 'Type Status1', 'Qualifier1',\n",
    "                    'det_year', 'det_year2', 'start_year', 'catalog_year',\n",
    "                    'det_month', 'det_month2', 'start_month', 'catalog_month',\n",
    "                    'Determined Date1', 'Determined Date2', 'Start Date', 'Cataloged Date',\n",
    "                    'min_depth', 'max_depth', 'depth', 'lat', 'long',\n",
    "                    'Environment Type','Locality Name','waterBody','Continent', 'Country', 'State', 'County',\n",
    "                    'braz_region']"
   ]
  },
  {
   "cell_type": "code",
   "execution_count": 152,
   "metadata": {
    "ExecuteTime": {
     "end_time": "2021-02-10T16:04:41.725907Z",
     "start_time": "2021-02-10T16:04:41.661713Z"
    }
   },
   "outputs": [],
   "source": [
    "NewTable = carcinos[selected_columns].copy()"
   ]
  },
  {
   "cell_type": "markdown",
   "metadata": {},
   "source": [
    "## Renaming columns\n",
    "\n",
    "Setting new standardized column names to facilitate future steps."
   ]
  },
  {
   "cell_type": "code",
   "execution_count": 153,
   "metadata": {
    "ExecuteTime": {
     "end_time": "2021-02-10T16:04:43.283241Z",
     "start_time": "2021-02-10T16:04:43.267931Z"
    }
   },
   "outputs": [],
   "source": [
    "renames = {\n",
    "    'DeterminerFirst_and_LastName1':'determiner_first_and_last_name',\n",
    "    'DeterminerFirst_and_LastName2':'determiner_first_and_last_name2',\n",
    "    'CollectorFirst_and_LastName1':'collector_first_and_last_name',\n",
    "    'CollectorFirst_and_LastName2':'collector_first_and_last_name2',\n",
    "    'CollectorFirst_and_LastName3':'collector_first_and_last_name3',\n",
    "    'CollectorFirst_and_LastName4':'collector_first_and_last_name4',\n",
    "    'CollectorFirst_and_LastName5':'collector_first_and_last_name5',\n",
    "    'CollectorFirst_and_LastName6':'collector_first_and_last_name6',\n",
    "    'CollectorFirst_and_LastName7':'collector_first_and_last_name7',\n",
    "    'DeterminerFullName1':'determiner_full_name',\n",
    "    'DeterminerFullName2':'determiner_full_name2',\n",
    "    'CollectorFullName1':'collector_full_name',\n",
    "    'CollectorFullName2':'collector_full_name2',\n",
    "    'CollectorFullName3':'collector_full_name3',\n",
    "    'CollectorFullName4':'collector_full_name4',\n",
    "    'CollectorFullName5':'collector_full_name5',\n",
    "    'CollectorFullName6':'collector_full_name6',\n",
    "    'CollectorFullName7':'collector_full_name7',\n",
    "    'Author1':'author',\n",
    "    'Author2':'author2',\n",
    "    'Determined Date1':'det_date', \n",
    "    'Determined Date2':'det_date2', \n",
    "    'Start Date':'start_date', \n",
    "    'Cataloged Date':'catalog_date',\n",
    "    'Kingdom':'kingdom', \n",
    "    'Phylum1':'phylum', \n",
    "    'Subphylum1':'subphylum', \n",
    "    'Class1':'class', \n",
    "    'Subclass1':'subclass',\n",
    "    'Infraclass1':'infraclass',\n",
    "    'Superorder1':'superorder',\n",
    "    'Order1':'order',\n",
    "    'Suborder1':'suborder',\n",
    "    'Infraorder1':'infraorder',\n",
    "    'Superfamily1':'superfamily',\n",
    "    'Family1':'family',\n",
    "    'Subfamily1':'subfamily',\n",
    "    'Tribe1':'tribe',\n",
    "    'Genus1':'genus',\n",
    "    'Species1':'species',\n",
    "    'Type Status1':'type_status',\n",
    "    'Qualifier1':'qualifier',\n",
    "    'Environment Type':'environment',\n",
    "    'Locality Name':'locality',\n",
    "    'waterBody':'water_body',\n",
    "    'Continent':'continent', \n",
    "    'Country':'country', \n",
    "    'State':'state', \n",
    "    'County':'county',\n",
    "}"
   ]
  },
  {
   "cell_type": "code",
   "execution_count": 154,
   "metadata": {
    "ExecuteTime": {
     "end_time": "2021-02-10T16:04:44.694488Z",
     "start_time": "2021-02-10T16:04:44.653995Z"
    }
   },
   "outputs": [],
   "source": [
    "NewTable = NewTable.rename(columns=renames)"
   ]
  },
  {
   "cell_type": "markdown",
   "metadata": {},
   "source": [
    "<br>\n",
    "\n",
    "## Exporting to `CSV`\n",
    "\n",
    "name: <font color='blue'>./src/treated_db.csv</font>\n",
    "sep: ';'\n",
    "encoding: 'utf-8-sig'"
   ]
  },
  {
   "cell_type": "code",
   "execution_count": 155,
   "metadata": {
    "ExecuteTime": {
     "end_time": "2021-02-10T16:04:46.373240Z",
     "start_time": "2021-02-10T16:04:45.760996Z"
    }
   },
   "outputs": [],
   "source": [
    "NewTable.to_csv('./data/treated_db.csv', sep=';', encoding='utf-8-sig')"
   ]
  }
 ],
 "metadata": {
  "kernelspec": {
   "display_name": "Python 3",
   "language": "python",
   "name": "python3"
  },
  "language_info": {
   "codemirror_mode": {
    "name": "ipython",
    "version": 3
   },
   "file_extension": ".py",
   "mimetype": "text/x-python",
   "name": "python",
   "nbconvert_exporter": "python",
   "pygments_lexer": "ipython3",
   "version": "3.9.1"
  },
  "latex_envs": {
   "LaTeX_envs_menu_present": true,
   "autoclose": false,
   "autocomplete": true,
   "bibliofile": "biblio.bib",
   "cite_by": "apalike",
   "current_citInitial": 1,
   "eqLabelWithNumbers": true,
   "eqNumInitial": 1,
   "hotkeys": {
    "equation": "Ctrl-E",
    "itemize": "Ctrl-I"
   },
   "labels_anchors": false,
   "latex_user_defs": false,
   "report_style_numbering": false,
   "user_envs_cfg": false
  },
  "toc": {
   "base_numbering": 1,
   "nav_menu": {},
   "number_sections": true,
   "sideBar": true,
   "skip_h1_title": false,
   "title_cell": "Table of Contents",
   "title_sidebar": "Contents",
   "toc_cell": false,
   "toc_position": {},
   "toc_section_display": true,
   "toc_window_display": false
  },
  "varInspector": {
   "cols": {
    "lenName": 16,
    "lenType": 16,
    "lenVar": 40
   },
   "kernels_config": {
    "python": {
     "delete_cmd_postfix": "",
     "delete_cmd_prefix": "del ",
     "library": "var_list.py",
     "varRefreshCmd": "print(var_dic_list())"
    },
    "r": {
     "delete_cmd_postfix": ") ",
     "delete_cmd_prefix": "rm(",
     "library": "var_list.r",
     "varRefreshCmd": "cat(var_dic_list()) "
    }
   },
   "types_to_exclude": [
    "module",
    "function",
    "builtin_function_or_method",
    "instance",
    "_Feature"
   ],
   "window_display": false
  }
 },
 "nbformat": 4,
 "nbformat_minor": 4
}
