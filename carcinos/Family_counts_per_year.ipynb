{
 "cells": [
  {
   "cell_type": "markdown",
   "metadata": {},
   "source": [
    "# Family counts per year\n",
    "\n",
    "By **Franklin Oliveira**\n",
    "\n",
    "-----\n",
    "This notebook contains all code necessary to make the \"type\" charts from `carcinos` database. Here you'll find some basic data treatment and charts' code. \n",
    "\n",
    "Database: <font color='blue'>'Planilha geral Atualizada FINAL 5_GERAL_sendo trabalhada no Google drive.xlsx'</font>"
   ]
  },
  {
   "cell_type": "code",
   "execution_count": 1,
   "metadata": {
    "ExecuteTime": {
     "end_time": "2021-02-13T09:58:06.444366Z",
     "start_time": "2021-02-13T09:58:05.446982Z"
    }
   },
   "outputs": [
    {
     "data": {
      "text/plain": [
       "DataTransformerRegistry.enable('default')"
      ]
     },
     "execution_count": 1,
     "metadata": {},
     "output_type": "execute_result"
    }
   ],
   "source": [
    "import datetime\n",
    "import numpy as np\n",
    "import pandas as pd\n",
    "\n",
    "from collections import defaultdict\n",
    "\n",
    "# quick visualization\n",
    "import matplotlib.pyplot as plt\n",
    "import seaborn as sns\n",
    "\n",
    "# Waffle Charts\n",
    "# from pywaffle import Waffle \n",
    "# docs: https://pywaffle.readthedocs.io/en/latest/examples/block_shape_distance_location_and_direction.html\n",
    "\n",
    "# visualization\n",
    "import altair as alt\n",
    "\n",
    "# enabling notebook renderer\n",
    "# alt.renderers.enable('notebook')\n",
    "alt.renderers.enable('default')\n",
    "\n",
    "# disabling rows limit\n",
    "alt.data_transformers.disable_max_rows()"
   ]
  },
  {
   "cell_type": "markdown",
   "metadata": {},
   "source": [
    "## Importing data..."
   ]
  },
  {
   "cell_type": "code",
   "execution_count": 2,
   "metadata": {
    "ExecuteTime": {
     "end_time": "2021-02-13T09:58:07.064604Z",
     "start_time": "2021-02-13T09:58:06.446363Z"
    }
   },
   "outputs": [],
   "source": [
    "NewTable = pd.read_csv('./data/treated_db.csv', sep=';', encoding='utf-8-sig', low_memory=False)"
   ]
  },
  {
   "cell_type": "markdown",
   "metadata": {},
   "source": [
    "## Filtering\n",
    "\n",
    "At least for now, we'll be considering only specimens of order decapoda (deeply revised by the Museum's crew)"
   ]
  },
  {
   "cell_type": "code",
   "execution_count": 3,
   "metadata": {
    "ExecuteTime": {
     "end_time": "2021-02-13T09:58:07.082485Z",
     "start_time": "2021-02-13T09:58:07.066930Z"
    }
   },
   "outputs": [],
   "source": [
    "decapoda = NewTable[NewTable['order'] == 'Decapoda'].copy()"
   ]
  },
  {
   "cell_type": "markdown",
   "metadata": {},
   "source": [
    "<br>\n",
    "\n",
    "<font size=5>**Color palette**</font>\n",
    "\n",
    "Colors (per infraorder): \n",
    "\n",
    "- <font color='#e26d67'><b>Ascacidae</b></font>\n",
    "- <font color='#007961'><b>Anomura</b></font>\n",
    "- <font color='#7a2c39'><b>Achelata</b></font>\n",
    "- <font color='#b67262'><b>Axiidea</b></font>\n",
    "- <font color='#ee4454'><b>Brachyura</b></font>\n",
    "- <font color='#3330b7'><b>Caridea</b></font>\n",
    "- <font color='#58b5e1'><b>Gebiidea</b></font>\n",
    "- <font color='#b8e450'><b>Stenopodídea</b></font>\n",
    "- <font color='#a0a3fd'><b>Astacidae</b></font>\n",
    "- <font color='#deae9e'><b>Polychelida</b></font>\n",
    "- <font color='#d867be'><b>Grapsidae</b></font>\n",
    "- <font color='#fece5f'><b>Xanthoidea</b></font>"
   ]
  },
  {
   "cell_type": "code",
   "execution_count": 4,
   "metadata": {
    "ExecuteTime": {
     "end_time": "2021-02-13T09:58:07.143564Z",
     "start_time": "2021-02-13T09:58:07.084623Z"
    }
   },
   "outputs": [],
   "source": [
    "# importing customized color palettes\n",
    "from src.MNViz_colors import *"
   ]
  },
  {
   "cell_type": "markdown",
   "metadata": {},
   "source": [
    "<br>\n",
    "\n",
    "\n",
    "## Graphs\n",
    "\n",
    "---\n",
    "### Creating chart: counts per order per year"
   ]
  },
  {
   "cell_type": "code",
   "execution_count": 5,
   "metadata": {
    "ExecuteTime": {
     "end_time": "2021-02-13T09:58:07.225792Z",
     "start_time": "2021-02-13T09:58:07.145457Z"
    }
   },
   "outputs": [],
   "source": [
    "infraorders = decapoda.groupby(['start_year','infraorder', 'family']).count()['class'].reset_index().rename(columns={'class':'counts'})\n",
    "\n",
    "infraorders.sort_values(['start_year','infraorder'], inplace=True)  # ordering"
   ]
  },
  {
   "cell_type": "code",
   "execution_count": 6,
   "metadata": {
    "ExecuteTime": {
     "end_time": "2021-02-13T09:58:07.233694Z",
     "start_time": "2021-02-13T09:58:07.227323Z"
    }
   },
   "outputs": [],
   "source": [
    "# dropping remaining NaN's\n",
    "# infraorders = infraorders.dropna(subset=['infraorder'])"
   ]
  },
  {
   "cell_type": "code",
   "execution_count": 9,
   "metadata": {
    "ExecuteTime": {
     "end_time": "2021-02-13T09:58:34.711862Z",
     "start_time": "2021-02-13T09:58:34.697780Z"
    }
   },
   "outputs": [],
   "source": [
    "g1 = alt.Chart(infraorders, width=800, height=500, \n",
    "               title='Número de decapodas coletados por infraordem a cada ano').mark_circle().encode(\n",
    "    x= alt.X('start_year', type='ordinal', title='Ano de Coleta'),\n",
    "    y= alt.Y('infraorder', type='nominal', title='Infraordem',\n",
    "            sort= alt.EncodingSortField(field='counts', op='sum', order='descending')),\n",
    "    size = alt.Size('counts', scale=alt.Scale(range=[10,600]),\n",
    "                    legend= alt.Legend(columns=6)),\n",
    "    order= alt.Order('counts', sort='descending'),  # smaller points in front\n",
    "    color = alt.Color('family:N', title='Family', \n",
    "                      scale= alt.Scale(domain=list(cores_familia_naive.keys()), \n",
    "                                       range=list(cores_familia_naive.values())),\n",
    "                      legend= alt.Legend(columns=3, symbolLimit=102)),\n",
    "    tooltip= alt.Tooltip(['start_year', 'counts'])\n",
    ")\n",
    "\n",
    "g1 = g1.configure_title(fontSize=16).configure_axis(\n",
    "    labelFontSize=12,\n",
    "    titleFontSize=12\n",
    ").configure_legend(\n",
    "    labelFontSize=12,\n",
    "    titleFontSize=12\n",
    ")\n",
    "\n",
    "# saving graph\n",
    "# g1.save('./graphs/infraorders_per_year.html')\n",
    "# g1"
   ]
  },
  {
   "cell_type": "markdown",
   "metadata": {},
   "source": [
    "### number of decapodas per family per year"
   ]
  },
  {
   "cell_type": "code",
   "execution_count": 10,
   "metadata": {
    "ExecuteTime": {
     "end_time": "2021-02-13T09:58:37.749134Z",
     "start_time": "2021-02-13T09:58:37.713039Z"
    }
   },
   "outputs": [],
   "source": [
    "teste = decapoda.groupby(['family','start_year']).count()['class'].reset_index().rename(\n",
    "                                                                                    columns={'class':'counts'})\n",
    "\n",
    "# teste['start_year'] = teste['start_year'].astype(int)  # there are non-integers remaining"
   ]
  },
  {
   "cell_type": "markdown",
   "metadata": {},
   "source": [
    "<br>\n",
    "\n",
    "**graph:** family per year"
   ]
  },
  {
   "cell_type": "code",
   "execution_count": 14,
   "metadata": {
    "ExecuteTime": {
     "end_time": "2021-02-13T09:59:21.769873Z",
     "start_time": "2021-02-13T09:59:21.741714Z"
    }
   },
   "outputs": [],
   "source": [
    "g1 = alt.Chart(teste,\n",
    "               width=500, height=1000, title='Número de decapodas coletados a cada ano').mark_circle(\n",
    "                                                                                size=60).encode(\n",
    "    x= alt.X('start_year', type='ordinal', title='Sampling Year'),\n",
    "    y= alt.Y('family', type='nominal', title='Family',\n",
    "            sort= alt.EncodingSortField(field='counts', op='count', order='descending')),\n",
    "    size= alt.Size('counts', title='Count', scale=alt.Scale(range=[6,400])),\n",
    "    tooltip = alt.Tooltip(['family', 'start_year', 'counts'])\n",
    ")\n",
    "\n",
    "g1 = g1.configure_title(fontSize=16).configure_axis(\n",
    "    labelFontSize=12,\n",
    "    titleFontSize=12\n",
    ").configure_legend(\n",
    "    labelFontSize=12,\n",
    "    titleFontSize=12\n",
    ")\n",
    "\n",
    "# g1.save('./graphs/families_per_year.html')\n",
    "# g1"
   ]
  },
  {
   "cell_type": "code",
   "execution_count": 15,
   "metadata": {
    "ExecuteTime": {
     "end_time": "2021-02-13T09:59:23.672251Z",
     "start_time": "2021-02-13T09:59:23.522025Z"
    }
   },
   "outputs": [],
   "source": [
    "teste = NewTable.groupby(['family','infraorder','start_year']).count()['class'].reset_index().rename(\n",
    "                                                                                    columns={'class':'counts'})\n",
    "\n",
    "# teste['start_year'] = teste['start_year'].astype(int) # there are non-integers remaining"
   ]
  },
  {
   "cell_type": "code",
   "execution_count": 20,
   "metadata": {
    "ExecuteTime": {
     "end_time": "2021-02-13T10:02:08.826261Z",
     "start_time": "2021-02-13T10:02:08.809359Z"
    }
   },
   "outputs": [],
   "source": [
    "g1 = alt.Chart(teste,\n",
    "               width=500, height=1200, title='Número de decapoda coletados a cada ano').mark_circle(\n",
    "                                                                                size=60).encode(\n",
    "    x= alt.X('start_year', type='ordinal', title='Sampling Year'),\n",
    "    y= alt.Y('family', type='nominal', title='Family',\n",
    "            sort= alt.EncodingSortField(field='counts', op='sum', order='descending')),\n",
    "    size= alt.Size('counts', title='Count', scale=alt.Scale(range=[6,400]),\n",
    "                   legend= alt.Legend(columns=5)),\n",
    "    order= alt.Order('counts', sort='descending'),  # smaller points in front\n",
    "    color = alt.Color('family:N', title='Family', \n",
    "                      scale= alt.Scale(domain=list(cores_familia_naive.keys()), \n",
    "                                       range=list(cores_familia_naive.values())),\n",
    "                      legend= alt.Legend(columns=2, symbolLimit=102)),\n",
    "    tooltip = alt.Tooltip(['family', 'start_year', 'counts'])\n",
    ")\n",
    "\n",
    "g1 = g1.configure_title(fontSize=16).configure_axis(\n",
    "    labelFontSize=12,\n",
    "    titleFontSize=12\n",
    ").configure_legend(\n",
    "    labelFontSize=12,\n",
    "    titleFontSize=12\n",
    ")\n",
    "\n",
    "# g1.save('./graphs/families_per_year-colorful-FULL.html')\n",
    "# g1"
   ]
  },
  {
   "cell_type": "code",
   "execution_count": 22,
   "metadata": {
    "ExecuteTime": {
     "end_time": "2021-02-13T10:03:08.845948Z",
     "start_time": "2021-02-13T10:03:08.826769Z"
    }
   },
   "outputs": [],
   "source": [
    "fam_legend = teste['family'].unique()\n",
    "fam_legend = [f for f in fam_legend if f in cores_familia_naive.keys()]\n",
    "g1 = alt.Chart(teste[teste['family'].isin(fam_legend)],\n",
    "               width=500, height=1200, title='Número de decapoda coletados a cada ano').mark_circle(\n",
    "                                                                                size=60).encode(\n",
    "    x= alt.X('start_year', type='ordinal', title='Sampling Year'),\n",
    "    y= alt.Y('family', type='nominal', title='Family',\n",
    "            sort= alt.EncodingSortField(field='counts', op='sum', order='descending')),\n",
    "    size= alt.Size('counts', title='Count', scale=alt.Scale(range=[6,400]),\n",
    "                   legend= alt.Legend(columns=5)),\n",
    "    order= alt.Order('counts', sort='descending'),  # smaller points in front\n",
    "    color = alt.Color('family:N', title='Family', \n",
    "                      scale= alt.Scale(domain=list(cores_familia_naive.keys()), \n",
    "                                       range=list(cores_familia_naive.values())),\n",
    "                      legend= alt.Legend(columns=2, symbolLimit=102)),\n",
    "    tooltip = alt.Tooltip(['family', 'start_year', 'counts'])\n",
    ")\n",
    "\n",
    "g1 = g1.configure_title(fontSize=16).configure_axis(\n",
    "    labelFontSize=12,\n",
    "    titleFontSize=12\n",
    ").configure_legend(\n",
    "    labelFontSize=12,\n",
    "    titleFontSize=12\n",
    ")\n",
    "\n",
    "# g1.save('./graphs/families_per_year-colorful.html')\n",
    "# g1"
   ]
  },
  {
   "cell_type": "markdown",
   "metadata": {},
   "source": [
    "<br>\n",
    "\n",
    "**The end!**\n",
    "\n",
    "-----"
   ]
  }
 ],
 "metadata": {
  "kernelspec": {
   "display_name": "Python 3",
   "language": "python",
   "name": "python3"
  },
  "language_info": {
   "codemirror_mode": {
    "name": "ipython",
    "version": 3
   },
   "file_extension": ".py",
   "mimetype": "text/x-python",
   "name": "python",
   "nbconvert_exporter": "python",
   "pygments_lexer": "ipython3",
   "version": "3.9.1"
  },
  "latex_envs": {
   "LaTeX_envs_menu_present": true,
   "autoclose": false,
   "autocomplete": true,
   "bibliofile": "biblio.bib",
   "cite_by": "apalike",
   "current_citInitial": 1,
   "eqLabelWithNumbers": true,
   "eqNumInitial": 1,
   "hotkeys": {
    "equation": "Ctrl-E",
    "itemize": "Ctrl-I"
   },
   "labels_anchors": false,
   "latex_user_defs": false,
   "report_style_numbering": false,
   "user_envs_cfg": false
  },
  "toc": {
   "base_numbering": 1,
   "nav_menu": {},
   "number_sections": false,
   "sideBar": true,
   "skip_h1_title": false,
   "title_cell": "Table of Contents",
   "title_sidebar": "Contents",
   "toc_cell": false,
   "toc_position": {},
   "toc_section_display": true,
   "toc_window_display": false
  },
  "varInspector": {
   "cols": {
    "lenName": 16,
    "lenType": 16,
    "lenVar": 40
   },
   "kernels_config": {
    "python": {
     "delete_cmd_postfix": "",
     "delete_cmd_prefix": "del ",
     "library": "var_list.py",
     "varRefreshCmd": "print(var_dic_list())"
    },
    "r": {
     "delete_cmd_postfix": ") ",
     "delete_cmd_prefix": "rm(",
     "library": "var_list.r",
     "varRefreshCmd": "cat(var_dic_list()) "
    }
   },
   "position": {
    "height": "391.35px",
    "left": "900.5px",
    "right": "20px",
    "top": "96px",
    "width": "536.5px"
   },
   "types_to_exclude": [
    "module",
    "function",
    "builtin_function_or_method",
    "instance",
    "_Feature"
   ],
   "window_display": false
  }
 },
 "nbformat": 4,
 "nbformat_minor": 2
}
