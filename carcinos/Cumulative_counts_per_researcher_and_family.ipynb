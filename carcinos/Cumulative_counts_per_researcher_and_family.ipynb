{
 "cells": [
  {
   "cell_type": "markdown",
   "metadata": {},
   "source": [
    "# Cumulative Counts per researcher & family\n",
    "\n",
    "By **Franklin Oliveira**\n",
    "\n",
    "-----\n",
    "This notebook contains all code necessary to make the cumulative counts line charts for `poliqueta` database. Here you'll find some basic data treatment and charts' code. \n",
    "\n",
    "Database: <font color='blue'>'IBUFRJ27.07.2020 - visualização.xlsx'</font> and <font color='blue'>'MNRJP27.07.2020 - visualização.xls'</font>."
   ]
  },
  {
   "cell_type": "code",
   "execution_count": 1,
   "metadata": {
    "ExecuteTime": {
     "end_time": "2021-02-14T17:57:58.635491Z",
     "start_time": "2021-02-14T17:57:58.037863Z"
    }
   },
   "outputs": [
    {
     "data": {
      "text/plain": [
       "DataTransformerRegistry.enable('default')"
      ]
     },
     "execution_count": 1,
     "metadata": {},
     "output_type": "execute_result"
    }
   ],
   "source": [
    "import datetime\n",
    "import numpy as np\n",
    "import pandas as pd\n",
    "\n",
    "from collections import defaultdict\n",
    "\n",
    "# quick visualization\n",
    "import matplotlib.pyplot as plt\n",
    "import seaborn as sns\n",
    "\n",
    "# Waffle Charts\n",
    "# from pywaffle import Waffle \n",
    "# docs: https://pywaffle.readthedocs.io/en/latest/examples/block_shape_distance_location_and_direction.html\n",
    "\n",
    "# visualization\n",
    "import altair as alt\n",
    "\n",
    "# enabling notebook renderer\n",
    "# alt.renderers.enable('notebook')\n",
    "# alt.renderers.enable('default')\n",
    "\n",
    "# disabling rows limit\n",
    "alt.data_transformers.disable_max_rows()"
   ]
  },
  {
   "cell_type": "markdown",
   "metadata": {},
   "source": [
    "## Importing data..."
   ]
  },
  {
   "cell_type": "code",
   "execution_count": 2,
   "metadata": {
    "ExecuteTime": {
     "end_time": "2021-02-14T17:57:59.026577Z",
     "start_time": "2021-02-14T17:57:58.636975Z"
    }
   },
   "outputs": [],
   "source": [
    "NewTable = pd.read_csv('./data/treated_db.csv', sep=';', encoding='utf-8-sig', low_memory=False)"
   ]
  },
  {
   "cell_type": "markdown",
   "metadata": {},
   "source": [
    "## Filtering\n",
    "\n",
    "At least for now, we'll be considering only specimens of order decapoda (deeply revised by the Museum's crew)"
   ]
  },
  {
   "cell_type": "code",
   "execution_count": 3,
   "metadata": {
    "ExecuteTime": {
     "end_time": "2021-02-14T17:57:59.038222Z",
     "start_time": "2021-02-14T17:57:59.028177Z"
    }
   },
   "outputs": [],
   "source": [
    "decapoda = NewTable[NewTable['order'] == 'Decapoda'].copy()"
   ]
  },
  {
   "cell_type": "markdown",
   "metadata": {},
   "source": [
    "<br>\n",
    "\n",
    "<font size=5>**Color palette**</font>\n",
    "\n",
    "Colors (per infraorder): \n",
    "\n",
    "- <font color='#e26d67'><b>Ascacidae</b></font>\n",
    "- <font color='#007961'><b>Anomura</b></font>\n",
    "- <font color='#7a2c39'><b>Achelata</b></font>\n",
    "- <font color='#b67262'><b>Axiidea</b></font>\n",
    "- <font color='#ee4454'><b>Brachyura</b></font>\n",
    "- <font color='#3330b7'><b>Caridea</b></font>\n",
    "- <font color='#58b5e1'><b>Gebiidea</b></font>\n",
    "- <font color='#b8e450'><b>Stenopodídea</b></font>\n",
    "- <font color='#a0a3fd'><b>Astacidae</b></font>\n",
    "- <font color='#deae9e'><b>Polychelida</b></font>\n",
    "- <font color='#d867be'><b>Grapsidae</b></font>\n",
    "- <font color='#fece5f'><b>Xanthoidea</b></font>"
   ]
  },
  {
   "cell_type": "code",
   "execution_count": 4,
   "metadata": {
    "ExecuteTime": {
     "end_time": "2021-02-14T17:57:59.180406Z",
     "start_time": "2021-02-14T17:57:59.039868Z"
    }
   },
   "outputs": [],
   "source": [
    "# importing customized color palettes\n",
    "from src.MNViz_colors import *"
   ]
  },
  {
   "cell_type": "code",
   "execution_count": 5,
   "metadata": {
    "ExecuteTime": {
     "end_time": "2021-02-14T17:57:59.235991Z",
     "start_time": "2021-02-14T17:57:59.184101Z"
    }
   },
   "outputs": [],
   "source": [
    "# p.s.: there are strings and numbers (floats) in these columns\n",
    "# decapoda['det_year'].unique()\n",
    "# decapoda['start_year'].unique()"
   ]
  },
  {
   "cell_type": "code",
   "execution_count": 6,
   "metadata": {
    "ExecuteTime": {
     "end_time": "2021-02-14T17:57:59.306781Z",
     "start_time": "2021-02-14T17:57:59.239618Z"
    }
   },
   "outputs": [],
   "source": [
    "def convert2int(y):\n",
    "    try:\n",
    "        return int(y)\n",
    "    except:\n",
    "        return y\n",
    "    \n",
    "decapoda['det_year'] = decapoda['det_year'].apply(convert2int).astype(str)  # forcing to string to keep NaNs\n",
    "decapoda['start_year'] = decapoda['start_year'].apply(convert2int).astype(str)  "
   ]
  },
  {
   "cell_type": "markdown",
   "metadata": {},
   "source": [
    "<br>\n",
    "\n",
    "\n",
    "## Graphs\n",
    "\n",
    "---\n",
    "\n",
    "<br>\n",
    "\n",
    "### Creating chart: counts per determiner per year\n",
    "\n",
    "To calculate the cumulative counts, we need to consider ALL determiner's columns, in this case:\n",
    "\n",
    "    - 'determiner_full_name'\n",
    "    - 'determiner_full_name2'"
   ]
  },
  {
   "cell_type": "code",
   "execution_count": 7,
   "metadata": {
    "ExecuteTime": {
     "end_time": "2021-02-14T17:57:59.353688Z",
     "start_time": "2021-02-14T17:57:59.308392Z"
    }
   },
   "outputs": [],
   "source": [
    "determiner_columns = ['determiner_full_name', 'determiner_full_name2']\n",
    "\n",
    "# name of all determiners (first and second)\n",
    "determiners = set(decapoda['determiner_full_name'].str.strip()).union(set(decapoda['determiner_full_name2']))\n",
    "\n",
    "determiners = [name for name in determiners if 'nan' not in str(name)]  # removing NaN and parsing into a list"
   ]
  },
  {
   "cell_type": "code",
   "execution_count": 8,
   "metadata": {
    "ExecuteTime": {
     "end_time": "2021-02-14T17:57:59.525997Z",
     "start_time": "2021-02-14T17:57:59.356652Z"
    }
   },
   "outputs": [],
   "source": [
    "# cumulatively counting the contribution of each determiner\n",
    "result = defaultdict()\n",
    "for col in determiner_columns:\n",
    "    temp = decapoda.groupby([col, 'det_year']).count()['class'].reset_index().rename(columns={\n",
    "        'class':'counts'\n",
    "    })\n",
    "    \n",
    "    temp.sort_values('det_year')\n",
    "    for det in temp[col].unique():\n",
    "        if 'nan' not in str(det):  # OBS: se precisar coletar mais informações, fazer isso AQUI!\n",
    "            cumSum = list(temp[temp[col] == det]['counts'].cumsum())\n",
    "            years = list(temp[temp[col] == det]['det_year'])\n",
    "\n",
    "            for i in range(len(cumSum)):\n",
    "                result[f'{det}-{years[i]}'] = cumSum[i]\n",
    "                \n",
    "counts = pd.DataFrame(dict(result), index=['cumulative_sum']).transpose().reset_index()"
   ]
  },
  {
   "cell_type": "code",
   "execution_count": 9,
   "metadata": {
    "ExecuteTime": {
     "end_time": "2021-02-14T17:57:59.530833Z",
     "start_time": "2021-02-14T17:57:59.527353Z"
    }
   },
   "outputs": [],
   "source": [
    "counts['determinator_full_name'] = counts['index'].apply(lambda x:str(x).split('-')[0])\n",
    "counts['det_year'] = counts['index'].apply(lambda x:str(x).split('-')[-1])"
   ]
  },
  {
   "cell_type": "code",
   "execution_count": 13,
   "metadata": {
    "ExecuteTime": {
     "end_time": "2021-02-14T17:59:55.063779Z",
     "start_time": "2021-02-14T17:59:55.041809Z"
    }
   },
   "outputs": [],
   "source": [
    "select = alt.selection(type='single', on='mouseover', nearest=True, fields=['determinator_full_name'])\n",
    "\n",
    "base = alt.Chart(counts, title='Cumulative contribution of each determiner', width=1000,\n",
    "              height=500).encode(\n",
    "    x= alt.X('det_year', type=\"ordinal\", title='Determination Year'),\n",
    "    y= alt.Y('cumulative_sum', title='', \n",
    "             sort=alt.EncodingSortField('counts', op=\"count\", order='descending')),\n",
    "    color= alt.Color('determinator_full_name:N', title='', legend=None,\n",
    "                    scale= alt.Scale(scheme='warmgreys')),\n",
    "    opacity= alt.value(0)\n",
    "#     tooltip= alt.Tooltip(['determinator_full_name','det_year','cumulative_sum'])\n",
    ")\n",
    "\n",
    "points = base.mark_circle(size=40).encode(\n",
    "    opacity=alt.value(0.5),\n",
    "    tooltip= alt.Tooltip(['determinator_full_name','det_year','cumulative_sum'])\n",
    ").add_selection(\n",
    "    select\n",
    ")\n",
    "\n",
    "front = base.mark_line(point=True).encode(\n",
    "    size=alt.condition(~select, alt.value(1), alt.value(4)),\n",
    "    opacity= alt.value(1),\n",
    "#     color = alt.condition(~select, alt.value('lightgray'), alt.value('black'))\n",
    "#     tooltip= alt.Tooltip(['determinator_full_name','det_year','cumulative_sum'])\n",
    ")\n",
    "\n",
    "g1 = points + front\n",
    "\n",
    "g1 = g1.configure_title(fontSize=16).configure_axis(\n",
    "    labelFontSize=12,\n",
    "    titleFontSize=12\n",
    ").configure_legend(\n",
    "    labelFontSize=12,\n",
    "    titleFontSize=12\n",
    ")\n",
    "\n",
    "# g1.save('./graphs/cumCounts/determiner/cumCount-per-year.html')\n",
    "# g1"
   ]
  },
  {
   "cell_type": "markdown",
   "metadata": {},
   "source": [
    "<br>\n",
    "\n",
    "### Collector's cumulative contribution per year\n",
    "\n",
    "To calculate the cumulative counts, we need to consider ALL collector's columns, in this case:\n",
    "\n",
    "    - 'collector_full_name'\n",
    "    - 'collector_full_name2' ... 'collector_full_name7'"
   ]
  },
  {
   "cell_type": "code",
   "execution_count": 25,
   "metadata": {
    "ExecuteTime": {
     "end_time": "2021-02-14T16:18:35.155700Z",
     "start_time": "2021-02-14T16:18:34.980715Z"
    }
   },
   "outputs": [],
   "source": [
    "collector_columns = ['collector_full_name', 'collector_full_name2', \n",
    "                     'collector_full_name3', 'collector_full_name4', \n",
    "                     'collector_full_name5', 'collector_full_name6', 'collector_full_name7']\n",
    "\n",
    "# name of all collectors (first through sixth)\n",
    "collectors = set(decapoda['collector_full_name'].str.strip())\n",
    "\n",
    "for col in collector_columns[1:]:\n",
    "    collectors = collectors.union(set(decapoda[col]))\n",
    "\n",
    "collectors = [name for name in collectors if 'nan' not in str(name)]  # removing NaN and parsing into a list"
   ]
  },
  {
   "cell_type": "code",
   "execution_count": 26,
   "metadata": {
    "ExecuteTime": {
     "end_time": "2021-02-14T16:18:36.238489Z",
     "start_time": "2021-02-14T16:18:35.159716Z"
    }
   },
   "outputs": [],
   "source": [
    "# organising the yearly contribution of each collector\n",
    "result = defaultdict()\n",
    "for col in collector_columns:\n",
    "    temp = decapoda.groupby([col, 'start_year']).count()['class'].reset_index().rename(columns={\n",
    "        'class':'counts'\n",
    "    })\n",
    "    \n",
    "    temp.sort_values('start_year')\n",
    "    for collector in temp[col].unique():\n",
    "        if 'nan' not in str(collector):  # OBS: se precisar coletar mais informações, fazer isso AQUI!\n",
    "            count = list(temp[temp[col] == collector]['counts'])\n",
    "            years = list(temp[temp[col] == collector]['start_year'])\n",
    "\n",
    "            for i in range(len(count)):\n",
    "                result[f'{collector}-{years[i]}'] = count[i]\n",
    "                \n",
    "counts = pd.DataFrame(dict(result), index=['count']).transpose().reset_index()"
   ]
  },
  {
   "cell_type": "code",
   "execution_count": 27,
   "metadata": {
    "ExecuteTime": {
     "end_time": "2021-02-14T16:18:36.248591Z",
     "start_time": "2021-02-14T16:18:36.240153Z"
    }
   },
   "outputs": [],
   "source": [
    "counts['collector_full_name'] = counts['index'].apply(lambda x:str(x).split('-')[0])\n",
    "counts['start_year'] = counts['index'].apply(lambda x:str(x).split('-')[-1])"
   ]
  },
  {
   "cell_type": "code",
   "execution_count": 28,
   "metadata": {
    "ExecuteTime": {
     "end_time": "2021-02-14T16:18:36.659392Z",
     "start_time": "2021-02-14T16:18:36.250459Z"
    }
   },
   "outputs": [],
   "source": [
    "# sorting\n",
    "counts.sort_values(['collector_full_name', 'start_year'], inplace=True)\n",
    "\n",
    "# cumulatively counting\n",
    "cumSum = []\n",
    "for collector in counts['collector_full_name'].unique():\n",
    "    cumSum.extend(list(counts[counts['collector_full_name'] == collector]['count'].cumsum()))\n",
    "\n",
    "counts['cumulative_sum'] = cumSum"
   ]
  },
  {
   "cell_type": "code",
   "execution_count": 29,
   "metadata": {
    "ExecuteTime": {
     "end_time": "2021-02-14T16:18:36.695388Z",
     "start_time": "2021-02-14T16:18:36.661000Z"
    }
   },
   "outputs": [],
   "source": [
    "select = alt.selection(type='single', on='mouseover', nearest=True, fields=['collector_full_name'])\n",
    "\n",
    "base = alt.Chart(counts, title='Cumulative contribution of each Collector', width=800,\n",
    "              height=400).encode(\n",
    "    x= alt.X('start_year', type=\"ordinal\", title='Collecting Year'),\n",
    "    y= alt.Y('cumulative_sum', title='', \n",
    "             sort=alt.EncodingSortField('counts', op=\"count\", order='descending')),\n",
    "    color= alt.Color('collector_full_name:N', title='', legend=None,\n",
    "                     scale= alt.Scale(scheme='warmgreys')),\n",
    "#     tooltip= alt.Tooltip(['collector_full_name','start_year','cumulative_sum'])\n",
    ")\n",
    "\n",
    "\n",
    "points = base.mark_circle(size=40).encode(\n",
    "    opacity=alt.value(0.5),\n",
    "    tooltip= alt.Tooltip(['collector_full_name','start_year','cumulative_sum'])\n",
    ").add_selection(\n",
    "    select\n",
    ")\n",
    "\n",
    "front = base.mark_line(point=True).encode(\n",
    "    size=alt.condition(~select, alt.value(1), alt.value(3)),\n",
    "    opacity= alt.value(1),\n",
    "#     color = alt.condition(~select, alt.value('lightgray'), alt.value('black'))\n",
    "#     tooltip= alt.Tooltip(['determinator_full_name','det_year','cumulative_sum'])\n",
    ")\n",
    "\n",
    "g1 = points + front\n",
    "\n",
    "g1 = g1.configure_title(fontSize=16).configure_axis(\n",
    "    labelFontSize=12,\n",
    "    titleFontSize=12\n",
    ").configure_legend(\n",
    "    labelFontSize=12,\n",
    "    titleFontSize=12\n",
    ")\n",
    "\n",
    "# g1.save('./graphs/cumCounts/collector/cumCount-per-year.html')\n",
    "# g1"
   ]
  },
  {
   "cell_type": "markdown",
   "metadata": {},
   "source": [
    "<br>\n",
    "\n",
    "## Cumulative counts per Family\n"
   ]
  },
  {
   "cell_type": "code",
   "execution_count": 30,
   "metadata": {
    "ExecuteTime": {
     "end_time": "2021-02-14T16:18:36.810995Z",
     "start_time": "2021-02-14T16:18:36.697592Z"
    }
   },
   "outputs": [],
   "source": [
    "# grouping per Year and Family\n",
    "teste = decapoda.groupby(['start_year','family']).count()['class'].reset_index().rename(columns={\n",
    "    'class':'counts'\n",
    "})\n",
    "\n",
    "# sorting...\n",
    "teste = teste.sort_values(['family', 'start_year'])"
   ]
  },
  {
   "cell_type": "code",
   "execution_count": 31,
   "metadata": {
    "ExecuteTime": {
     "end_time": "2021-02-14T16:18:36.907394Z",
     "start_time": "2021-02-14T16:18:36.812455Z"
    }
   },
   "outputs": [],
   "source": [
    "# cumulatively counting\n",
    "cumSum = []\n",
    "for family in teste['family'].unique():\n",
    "    cumSum.extend(list(teste[teste['family'] == family]['counts'].cumsum()))\n",
    "    \n",
    "teste['cumulative_sum'] = cumSum"
   ]
  },
  {
   "cell_type": "markdown",
   "metadata": {},
   "source": [
    "### Chart: per collected year"
   ]
  },
  {
   "cell_type": "code",
   "execution_count": 37,
   "metadata": {
    "ExecuteTime": {
     "end_time": "2021-02-14T16:21:31.767797Z",
     "start_time": "2021-02-14T16:21:29.458807Z"
    }
   },
   "outputs": [],
   "source": [
    "# searching back for infraorder of each family\n",
    "infra = []\n",
    "for f in teste['family']:\n",
    "    infra.append(decapoda[decapoda['family'] == f]['infraorder'].unique()[0])\n",
    "    \n",
    "teste['infraorder'] = infra"
   ]
  },
  {
   "cell_type": "code",
   "execution_count": 41,
   "metadata": {
    "ExecuteTime": {
     "end_time": "2021-02-14T16:22:28.520576Z",
     "start_time": "2021-02-14T16:22:28.497886Z"
    }
   },
   "outputs": [],
   "source": [
    "# filtering out some families lost while grouping\n",
    "# familias = [f for f in cores_familia_naive.keys() if f in teste['family'].unique()]\n",
    "# cores_temp = [cores_familia_naive[f] for f in familias] \n",
    "\n",
    "\n",
    "# selector\n",
    "select_family = alt.selection_multi(fields=['family'], bind='legend')\n",
    "\n",
    "g1 = alt.Chart(teste, title='Cumulative evolution of each family', \n",
    "               width=800, height=500).mark_line(point=True).encode(\n",
    "    x= alt.X('start_year', type=\"ordinal\", title='Sampling Year'),\n",
    "    y= alt.Y('cumulative_sum', title='', \n",
    "             sort=alt.EncodingSortField('counts', op=\"count\", order='descending')),\n",
    "    color= alt.Color('family:N', title='Familia',\n",
    "                     legend= alt.Legend(columns=3, symbolLimit=102),\n",
    "                     scale=alt.Scale(domain=list(cores_familia_naive.keys()), \n",
    "                                     range= list(cores_familia_naive.values()))),\n",
    "    tooltip= alt.Tooltip(['infraorder','family','start_year','counts', 'cumulative_sum']),\n",
    "    opacity= alt.condition(select_family, alt.value(1), alt.value(0))\n",
    ").add_selection(select_family)\n",
    "\n",
    "g1 = g1.configure_title(fontSize=16).configure_axis(\n",
    "    labelFontSize=12,\n",
    "    titleFontSize=12\n",
    ").configure_legend(\n",
    "    labelFontSize=12,\n",
    "    titleFontSize=12\n",
    ")\n",
    "\n",
    "# g1.save('./graphs/cumCounts/family/evolution_per_family.html')\n",
    "# g1"
   ]
  },
  {
   "cell_type": "markdown",
   "metadata": {},
   "source": [
    "<br>\n",
    "\n",
    "**The end!**\n",
    "\n",
    "-----"
   ]
  }
 ],
 "metadata": {
  "kernelspec": {
   "display_name": "Python 3",
   "language": "python",
   "name": "python3"
  },
  "language_info": {
   "codemirror_mode": {
    "name": "ipython",
    "version": 3
   },
   "file_extension": ".py",
   "mimetype": "text/x-python",
   "name": "python",
   "nbconvert_exporter": "python",
   "pygments_lexer": "ipython3",
   "version": "3.9.1"
  },
  "latex_envs": {
   "LaTeX_envs_menu_present": true,
   "autoclose": false,
   "autocomplete": true,
   "bibliofile": "biblio.bib",
   "cite_by": "apalike",
   "current_citInitial": 1,
   "eqLabelWithNumbers": true,
   "eqNumInitial": 1,
   "hotkeys": {
    "equation": "Ctrl-E",
    "itemize": "Ctrl-I"
   },
   "labels_anchors": false,
   "latex_user_defs": false,
   "report_style_numbering": false,
   "user_envs_cfg": false
  },
  "toc": {
   "base_numbering": 1,
   "nav_menu": {},
   "number_sections": false,
   "sideBar": true,
   "skip_h1_title": false,
   "title_cell": "Table of Contents",
   "title_sidebar": "Contents",
   "toc_cell": false,
   "toc_position": {},
   "toc_section_display": true,
   "toc_window_display": false
  },
  "varInspector": {
   "cols": {
    "lenName": 16,
    "lenType": 16,
    "lenVar": 40
   },
   "kernels_config": {
    "python": {
     "delete_cmd_postfix": "",
     "delete_cmd_prefix": "del ",
     "library": "var_list.py",
     "varRefreshCmd": "print(var_dic_list())"
    },
    "r": {
     "delete_cmd_postfix": ") ",
     "delete_cmd_prefix": "rm(",
     "library": "var_list.r",
     "varRefreshCmd": "cat(var_dic_list()) "
    }
   },
   "position": {
    "height": "391.35px",
    "left": "900.5px",
    "right": "20px",
    "top": "96px",
    "width": "536.5px"
   },
   "types_to_exclude": [
    "module",
    "function",
    "builtin_function_or_method",
    "instance",
    "_Feature"
   ],
   "window_display": false
  }
 },
 "nbformat": 4,
 "nbformat_minor": 2
}
