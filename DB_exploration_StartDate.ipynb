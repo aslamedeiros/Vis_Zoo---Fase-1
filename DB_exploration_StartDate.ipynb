{
 "cells": [
  {
   "cell_type": "markdown",
   "metadata": {},
   "source": [
    "# Database Exploration\n",
    "\n",
    "By **Franklin Oliveira**\n",
    "\n",
    "-----\n",
    "\n",
    "This notebook contains some code written to I (Franklin) get accquainted with the `crustacea` database. Here you'll find some basic data treatment and adjustments that presented necessary as I started to understand the nature of the information in file <font color='blue'>'Planilha geral Atualizda FINAL com correções.xlsx'</font>."
   ]
  },
  {
   "cell_type": "code",
   "execution_count": 1,
   "metadata": {
    "ExecuteTime": {
     "end_time": "2020-02-18T19:01:33.174497Z",
     "start_time": "2020-02-18T19:01:29.600498Z"
    }
   },
   "outputs": [
    {
     "data": {
      "text/plain": [
       "DataTransformerRegistry.enable('default')"
      ]
     },
     "execution_count": 1,
     "metadata": {},
     "output_type": "execute_result"
    }
   ],
   "source": [
    "import datetime\n",
    "import numpy as np\n",
    "import pandas as pd\n",
    "\n",
    "from collections import defaultdict\n",
    "\n",
    "# pacotes para visualização rápida\n",
    "# import seaborn as sns\n",
    "# import matplotlib.pyplot as plt\n",
    "\n",
    "# Waffle Charts\n",
    "from pywaffle import Waffle \n",
    "# docs: https://pywaffle.readthedocs.io/en/latest/examples/block_shape_distance_location_and_direction.html\n",
    "\n",
    "# pacote para visualização principal\n",
    "import altair as alt\n",
    "\n",
    "# habilitando renderizador para notebook\n",
    "alt.renderers.enable('notebook')\n",
    "\n",
    "# desabilitando limite de linhas\n",
    "alt.data_transformers.disable_max_rows()"
   ]
  },
  {
   "cell_type": "markdown",
   "metadata": {},
   "source": [
    "## Importing data..."
   ]
  },
  {
   "cell_type": "code",
   "execution_count": 2,
   "metadata": {
    "ExecuteTime": {
     "end_time": "2020-02-18T19:01:51.785382Z",
     "start_time": "2020-02-18T19:01:33.188337Z"
    }
   },
   "outputs": [
    {
     "name": "stdout",
     "output_type": "stream",
     "text": [
      "The excel file contains the following sheets: ['Banco de Dados Colecao Carcinol', 'Planilha1']\n",
      "\n",
      "Database is in sheet: Banco de Dados Colecao Carcinol\n"
     ]
    }
   ],
   "source": [
    "excel = pd.ExcelFile('Planilha geral Atualizda FINAL com correções.xlsx')\n",
    "sheet_name = excel.sheet_names\n",
    "\n",
    "print('The excel file contains the following sheets:', sheet_name)\n",
    "print('\\nDatabase is in sheet:', sheet_name[0])"
   ]
  },
  {
   "cell_type": "code",
   "execution_count": 3,
   "metadata": {
    "ExecuteTime": {
     "end_time": "2020-02-18T19:01:54.798557Z",
     "start_time": "2020-02-18T19:01:53.626340Z"
    }
   },
   "outputs": [
    {
     "name": "stdout",
     "output_type": "stream",
     "text": [
      "The database has 28689 rows and 132 columns.\n"
     ]
    }
   ],
   "source": [
    "# db = excel.parse(sheet_name[0], sep=';', encoding='utf-8-sig')\n",
    "\n",
    "# p.s.: I'm parsing a pre-treated file provided by Asla\n",
    "db = pd.read_csv('db.csv', sep=',', encoding='utf-8-sig', low_memory=False)\n",
    "print(f'The database has {db.shape[0]} rows and {db.shape[1]} columns.')"
   ]
  },
  {
   "cell_type": "code",
   "execution_count": 4,
   "metadata": {
    "ExecuteTime": {
     "end_time": "2020-02-18T19:01:56.284018Z",
     "start_time": "2020-02-18T19:01:55.942631Z"
    }
   },
   "outputs": [],
   "source": [
    "# copying database to another variable to make a few changes keeping the original intact\n",
    "crustaceas = db.copy()"
   ]
  },
  {
   "cell_type": "markdown",
   "metadata": {},
   "source": [
    "<br>\n",
    "\n",
    "### Name columns\n",
    "\n",
    "`Determiner First Name1` e `Determiner Last Name1`\n",
    "\n",
    "#### treating determiner's name \n",
    "\n",
    "In this step, we're going to put together determiner's first and last name. \n",
    "\n",
    "`Determiner First Name1` + `Determiner Last Name1`\n",
    "\n",
    "Just concatenating those two columns is not satisfactory because there's some dirt in these data columns. So, let's begin by treating them..."
   ]
  },
  {
   "cell_type": "code",
   "execution_count": 5,
   "metadata": {
    "ExecuteTime": {
     "end_time": "2020-02-18T19:01:58.068255Z",
     "start_time": "2020-02-18T19:01:58.060383Z"
    }
   },
   "outputs": [],
   "source": [
    "def treat_names(name, pos='first'):\n",
    "    '''\n",
    "    Treat names keeping NaN as such.\n",
    "    \n",
    "    Arguments: \n",
    "        - name: name to be treated. \n",
    "        - pos (str): name position. One of ['first', 'last']\n",
    "    '''\n",
    "    if type(name) == str and pos == 'first':     # first name\n",
    "        \n",
    "        if len(name.split(' ')) > 1:             # treats composite names (+ 1 name)\n",
    "            return str(name).strip().split(' ')[0].capitalize()\n",
    "        else:\n",
    "            return str(name).strip().capitalize()\n",
    "    \n",
    "    elif type(name) == str and pos == 'last':    # last name\n",
    "        \n",
    "        if len(name.split(' ')) > 1:             # treats composite last name (+ 1 surname)\n",
    "            return str(name).strip().split(' ')[-1].capitalize()\n",
    "        else:\n",
    "            return str(name).strip().capitalize()   \n",
    "    else:\n",
    "        return name"
   ]
  },
  {
   "cell_type": "markdown",
   "metadata": {},
   "source": [
    "applying function to the two column names"
   ]
  },
  {
   "cell_type": "code",
   "execution_count": 6,
   "metadata": {
    "ExecuteTime": {
     "end_time": "2020-02-18T19:01:59.623178Z",
     "start_time": "2020-02-18T19:01:59.595804Z"
    }
   },
   "outputs": [],
   "source": [
    "crustaceas['Determiner First Name1'] = crustaceas['Determiner First Name1'].apply(treat_names)\n",
    "# crustaceas['Determiner First Name1'].value_counts()"
   ]
  },
  {
   "cell_type": "code",
   "execution_count": 7,
   "metadata": {
    "ExecuteTime": {
     "end_time": "2020-02-18T19:01:59.963096Z",
     "start_time": "2020-02-18T19:01:59.925864Z"
    }
   },
   "outputs": [],
   "source": [
    "crustaceas['Determiner Last Name1'] = crustaceas['Determiner Last Name1'].apply(lambda x:\n",
    "                                                                treat_names(x, pos='last'))\n",
    "# crustaceas['Determiner Last Name1'].value_counts()"
   ]
  },
  {
   "cell_type": "code",
   "execution_count": 8,
   "metadata": {
    "ExecuteTime": {
     "end_time": "2020-02-18T19:02:00.614547Z",
     "start_time": "2020-02-18T19:02:00.362776Z"
    }
   },
   "outputs": [],
   "source": [
    "# creating column with First and Last name for identification\n",
    "crustaceas['Determiner First_and_Last Name'] = crustaceas['Determiner First Name1'] + ' ' + crustaceas['Determiner Last Name1']"
   ]
  },
  {
   "cell_type": "markdown",
   "metadata": {},
   "source": [
    "<br>\n",
    "\n",
    "## Adjusting columns names\n",
    "\n",
    "### removing '\\n'"
   ]
  },
  {
   "cell_type": "code",
   "execution_count": 9,
   "metadata": {
    "ExecuteTime": {
     "end_time": "2020-02-18T19:02:03.670033Z",
     "start_time": "2020-02-18T19:02:03.664113Z"
    }
   },
   "outputs": [],
   "source": [
    "crustaceas.columns = [str(col).replace(r'\\n','') for col in crustaceas.columns]"
   ]
  },
  {
   "cell_type": "markdown",
   "metadata": {},
   "source": [
    "#### closer look on some columns..."
   ]
  },
  {
   "cell_type": "code",
   "execution_count": 10,
   "metadata": {
    "ExecuteTime": {
     "end_time": "2020-02-18T19:02:04.380698Z",
     "start_time": "2020-02-18T19:02:04.377569Z"
    }
   },
   "outputs": [],
   "source": [
    "# crustaceas[['Species1', 'Species Author1', 'Type Status1', 'Qualifier1', 'Determiner First Name1',\n",
    "#       'Determiner Middle1', 'Determiner Last Name1', 'Determined Date1']]"
   ]
  },
  {
   "cell_type": "markdown",
   "metadata": {},
   "source": [
    "<br>\n",
    "\n",
    "## preparing data for charts..."
   ]
  },
  {
   "cell_type": "markdown",
   "metadata": {},
   "source": [
    "### Column: `Type Status1`\n",
    "\n",
    "contains info on species type"
   ]
  },
  {
   "cell_type": "code",
   "execution_count": 11,
   "metadata": {
    "ExecuteTime": {
     "end_time": "2020-02-18T19:02:06.001461Z",
     "start_time": "2020-02-18T19:02:05.992859Z"
    }
   },
   "outputs": [
    {
     "data": {
      "text/plain": [
       "Paratipo    433\n",
       "Holotipo    203\n",
       "ParaTIPO    142\n",
       "PARATIPO    120\n",
       "HOLOTIPO     82\n",
       "Name: Type Status1, dtype: int64"
      ]
     },
     "execution_count": 11,
     "metadata": {},
     "output_type": "execute_result"
    }
   ],
   "source": [
    "crustaceas['Type Status1'].value_counts().head()"
   ]
  },
  {
   "cell_type": "markdown",
   "metadata": {},
   "source": [
    "#### Let's begin cleaning this data and lowering all cases."
   ]
  },
  {
   "cell_type": "code",
   "execution_count": 12,
   "metadata": {
    "ExecuteTime": {
     "end_time": "2020-02-18T19:02:06.834494Z",
     "start_time": "2020-02-18T19:02:06.814986Z"
    }
   },
   "outputs": [],
   "source": [
    "crustaceas['Type Status1'] = crustaceas['Type Status1'].str.strip().str.lower().str.capitalize()"
   ]
  },
  {
   "cell_type": "code",
   "execution_count": 13,
   "metadata": {
    "ExecuteTime": {
     "end_time": "2020-02-18T19:02:07.319096Z",
     "start_time": "2020-02-18T19:02:07.304486Z"
    }
   },
   "outputs": [
    {
     "data": {
      "text/plain": [
       "Paratipo         695\n",
       "Holotipo         285\n",
       "Alotipo           81\n",
       "Topotipo           9\n",
       "Paralectotipo      6\n",
       "Name: Type Status1, dtype: int64"
      ]
     },
     "execution_count": 13,
     "metadata": {},
     "output_type": "execute_result"
    }
   ],
   "source": [
    "crustaceas['Type Status1'].value_counts().head()"
   ]
  },
  {
   "cell_type": "markdown",
   "metadata": {},
   "source": [
    "### preparing taxonomy columns\n",
    "\n",
    "`Kingdom` - `Phylum1` - `Subphylum1` - `Class1` - `Subclass1` - `Infraclass1` - `Superorder1` - `Order1` - `Suborder1` - `Infraorder1` - `Superfamily1` - `Family1` - `Subfamily1` - `Tribe1` - `Genus1` - `Species1`"
   ]
  },
  {
   "cell_type": "code",
   "execution_count": 14,
   "metadata": {
    "ExecuteTime": {
     "end_time": "2020-02-18T19:02:09.719538Z",
     "start_time": "2020-02-18T19:02:09.360080Z"
    }
   },
   "outputs": [
    {
     "name": "stdout",
     "output_type": "stream",
     "text": [
      "Adjusting column Kingdom\n",
      "Adjusting column Phylum1\n",
      "Adjusting column Subphylum1\n",
      "Adjusting column Class1\n",
      "Adjusting column Subclass1\n",
      "Adjusting column Infraclass1\n",
      "Adjusting column Superorder1\n",
      "Adjusting column Order1\n",
      "Adjusting column Suborder1\n",
      "Adjusting column Infraorder1\n",
      "Adjusting column Superfamily1\n",
      "Adjusting column Family1\n",
      "Adjusting column Subfamily1\n",
      "Adjusting column Tribe1\n",
      "Adjusting column Genus1\n",
      "Adjusting column Species1\n"
     ]
    }
   ],
   "source": [
    "taxon_columns = crustaceas.columns[21:37]  # selecting taxonomy columns\n",
    "\n",
    "# defining function\n",
    "def treat_str(x):\n",
    "    return str(x).lower().capitalize().strip()\n",
    "\n",
    "# applying treatment\n",
    "for col in taxon_columns:\n",
    "    print(f'Adjusting column {col}')\n",
    "    crustaceas[col] = crustaceas[col].apply(treat_str)"
   ]
  },
  {
   "cell_type": "markdown",
   "metadata": {},
   "source": [
    "### adding `Genus1` and `Species1`together (they completely identify each animal's species)"
   ]
  },
  {
   "cell_type": "code",
   "execution_count": 16,
   "metadata": {
    "ExecuteTime": {
     "end_time": "2020-02-18T19:03:00.434761Z",
     "start_time": "2020-02-18T19:03:00.366370Z"
    }
   },
   "outputs": [],
   "source": [
    "crustaceas['genus_and_species'] = crustaceas['Genus1'] + ' ' + crustaceas['Species1']\n",
    "crustaceas['genus_and_species'] = crustaceas['genus_and_species'].str.lower().str.capitalize()"
   ]
  },
  {
   "cell_type": "markdown",
   "metadata": {},
   "source": [
    "<br>\n",
    "\n",
    "### Collecting date (year) and sclicing main DB to a smaller dataset \n",
    "\n",
    "Columns: `Determined Date1` - `Class1` - `Kingdom` and more..."
   ]
  },
  {
   "cell_type": "code",
   "execution_count": 43,
   "metadata": {
    "ExecuteTime": {
     "end_time": "2020-02-18T19:20:31.859753Z",
     "start_time": "2020-02-18T19:19:58.437968Z"
    }
   },
   "outputs": [
    {
     "data": {
      "text/html": [
       "<div>\n",
       "<style scoped>\n",
       "    .dataframe tbody tr th:only-of-type {\n",
       "        vertical-align: middle;\n",
       "    }\n",
       "\n",
       "    .dataframe tbody tr th {\n",
       "        vertical-align: top;\n",
       "    }\n",
       "\n",
       "    .dataframe thead th {\n",
       "        text-align: right;\n",
       "    }\n",
       "</style>\n",
       "<table border=\"1\" class=\"dataframe\">\n",
       "  <thead>\n",
       "    <tr style=\"text-align: right;\">\n",
       "      <th></th>\n",
       "      <th>cataloged_year</th>\n",
       "      <th>count</th>\n",
       "      <th>class</th>\n",
       "      <th>kingdom</th>\n",
       "      <th>genus</th>\n",
       "      <th>species</th>\n",
       "      <th>genus_and_species</th>\n",
       "      <th>type_status</th>\n",
       "      <th>determiner_first_and_last_name</th>\n",
       "      <th>determiner_first_name</th>\n",
       "      <th>...</th>\n",
       "      <th>species_author</th>\n",
       "      <th>order</th>\n",
       "      <th>suborder</th>\n",
       "      <th>infraorder</th>\n",
       "      <th>superfamily</th>\n",
       "      <th>family</th>\n",
       "      <th>subfamily</th>\n",
       "      <th>tribe</th>\n",
       "      <th>determined_year</th>\n",
       "      <th>start_year</th>\n",
       "    </tr>\n",
       "  </thead>\n",
       "  <tbody>\n",
       "    <tr>\n",
       "      <td>0</td>\n",
       "      <td>1980</td>\n",
       "      <td>5</td>\n",
       "      <td>Malacostraca</td>\n",
       "      <td>Animalia</td>\n",
       "      <td>Penaeus</td>\n",
       "      <td>Schmitti</td>\n",
       "      <td>Penaeus schmitti</td>\n",
       "      <td>NaN</td>\n",
       "      <td>Alceu Castro</td>\n",
       "      <td>Alceu</td>\n",
       "      <td>...</td>\n",
       "      <td>Burkenroad, 1936</td>\n",
       "      <td>Decapoda</td>\n",
       "      <td>Nan</td>\n",
       "      <td>Nan</td>\n",
       "      <td>Nan</td>\n",
       "      <td>Penaeidae</td>\n",
       "      <td>Nan</td>\n",
       "      <td>Penaeini</td>\n",
       "      <td>NaN</td>\n",
       "      <td>1969.0</td>\n",
       "    </tr>\n",
       "    <tr>\n",
       "      <td>1</td>\n",
       "      <td>1980</td>\n",
       "      <td>15</td>\n",
       "      <td>Malacostraca</td>\n",
       "      <td>Animalia</td>\n",
       "      <td>Penaeus</td>\n",
       "      <td>Schmitti</td>\n",
       "      <td>Penaeus schmitti</td>\n",
       "      <td>NaN</td>\n",
       "      <td>Alceu Castro</td>\n",
       "      <td>Alceu</td>\n",
       "      <td>...</td>\n",
       "      <td>Burkenroad, 1936</td>\n",
       "      <td>Decapoda</td>\n",
       "      <td>Nan</td>\n",
       "      <td>Nan</td>\n",
       "      <td>Nan</td>\n",
       "      <td>Penaeidae</td>\n",
       "      <td>Nan</td>\n",
       "      <td>Penaeini</td>\n",
       "      <td>NaN</td>\n",
       "      <td>NaN</td>\n",
       "    </tr>\n",
       "  </tbody>\n",
       "</table>\n",
       "<p>2 rows × 22 columns</p>\n",
       "</div>"
      ],
      "text/plain": [
       "   cataloged_year count         class   kingdom    genus   species  \\\n",
       "0            1980     5  Malacostraca  Animalia  Penaeus  Schmitti   \n",
       "1            1980    15  Malacostraca  Animalia  Penaeus  Schmitti   \n",
       "\n",
       "  genus_and_species type_status determiner_first_and_last_name  \\\n",
       "0  Penaeus schmitti         NaN                   Alceu Castro   \n",
       "1  Penaeus schmitti         NaN                   Alceu Castro   \n",
       "\n",
       "  determiner_first_name  ...    species_author     order suborder infraorder  \\\n",
       "0                 Alceu  ...  Burkenroad, 1936  Decapoda      Nan        Nan   \n",
       "1                 Alceu  ...  Burkenroad, 1936  Decapoda      Nan        Nan   \n",
       "\n",
       "  superfamily     family subfamily     tribe determined_year start_year  \n",
       "0         Nan  Penaeidae       Nan  Penaeini             NaN     1969.0  \n",
       "1         Nan  Penaeidae       Nan  Penaeini             NaN        NaN  \n",
       "\n",
       "[2 rows x 22 columns]"
      ]
     },
     "execution_count": 43,
     "metadata": {},
     "output_type": "execute_result"
    }
   ],
   "source": [
    "# slicing main database (crustaceas)\n",
    "Table = crustaceas[['Cataloged Date','Determined Date1','Start Date','Class1','Kingdom', \n",
    "                    'Genus1', 'Species1', 'Type Status1',\n",
    "                   'Determiner First_and_Last Name', 'Determiner First Name1',\n",
    "                   'Determiner Last Name1', 'genus_and_species','Min Depth', 'Count 1',\n",
    "                   'Species Author1', 'Order1', 'Suborder1', 'Infraorder1',\n",
    "                   'Superfamily1', 'Family1', 'Subfamily1', 'Tribe1']].copy()\n",
    "\n",
    "# OBS: Determined Date1 has many missing values... CHECK THAT\n",
    "d = []\n",
    "counter=0\n",
    "for row in Table['Cataloged Date']:\n",
    "    if not str(row).find('/')==-1:\n",
    "        dates_values = str(row).split(\"/\")\n",
    "        year = int(dates_values[0])\n",
    "        month = int(dates_values[1])\n",
    "        if (month>1) and (month<12):\n",
    "            #store the year and month in a datetime datatype for later sorting\n",
    "            dateRecord = datetime.datetime(year,month,1)    \n",
    "            \n",
    "    d.append({'cataloged_year':year, 'count':Table.loc[counter,'Count 1'],\n",
    "              'class':Table.loc[counter,'Class1'],\n",
    "              'kingdom':Table.loc[counter,'Kingdom'], 'genus':Table.loc[counter,'Genus1'],\n",
    "              'species':Table.loc[counter,'Species1'],\n",
    "              'genus_and_species': Table.loc[counter,'genus_and_species'],\n",
    "              'type_status':Table.loc[counter,'Type Status1'], \n",
    "              'determiner_first_and_last_name':Table.loc[counter,'Determiner First_and_Last Name'],\n",
    "              'determiner_first_name':Table.loc[counter,'Determiner First Name1'],\n",
    "              'determiner_last_name':Table.loc[counter,'Determiner Last Name1'],\n",
    "              'depth':Table.loc[counter,'Min Depth'],\n",
    "              'species_author':Table.loc[counter,'Species Author1'],\n",
    "              'order':Table.loc[counter,'Order1'],\n",
    "              'suborder':Table.loc[counter,'Suborder1'],\n",
    "              'infraorder':Table.loc[counter, 'Infraorder1'],\n",
    "              'superfamily':Table.loc[counter,'Superfamily1'],\n",
    "              'family':Table.loc[counter,'Family1'],\n",
    "              'subfamily':Table.loc[counter,'Subfamily1'],\n",
    "              'tribe':Table.loc[counter,'Tribe1']\n",
    "             })\n",
    "    counter = counter+1\n",
    "\n",
    "NewTable = pd.DataFrame(d)\n",
    "\n",
    "\n",
    "### collecting determined year (p.s.: being careful to keep NaNs as they show up)\n",
    "NewTable['determined_year'] = np.nan\n",
    "\n",
    "d1 = []\n",
    "counter=0\n",
    "for row in Table['Determined Date1']:\n",
    "    try:  # if Determined Date1 is empty, keep it so \n",
    "        if np.isnan(row):\n",
    "            year= np.NAN\n",
    "    \n",
    "    except:\n",
    "        if not str(row).find('/')==-1:\n",
    "            dates_values = str(row).split(\"/\")\n",
    "            year = int(dates_values[0])\n",
    "            month = int(dates_values[1])\n",
    "            if (month>1) and (month<12):\n",
    "                #store the year and month in a datetime datatype for later sorting\n",
    "                dateRecord = datetime.datetime(year,month,1)    \n",
    "    \n",
    "    NewTable.loc[counter, 'determined_year'] = year\n",
    "    counter = counter+1\n",
    "\n",
    "    \n",
    "### collecting start year (p.s.: being careful to keep NaNs as they show up)  \n",
    "NewTable['start_year'] = np.nan\n",
    "d1 = []\n",
    "counter=0\n",
    "for row in Table['Start Date']:\n",
    "    try:  # if Start Date is empty, keep it so \n",
    "        if np.isnan(row):\n",
    "            year= np.NAN\n",
    "    \n",
    "    except:\n",
    "        if not str(row).find('/')==-1:\n",
    "            dates_values = str(row).split(\"/\")\n",
    "            year = int(dates_values[0])\n",
    "            month = int(dates_values[1])\n",
    "            if (month>1) and (month<12):\n",
    "                #store the year and month in a datetime datatype for later sorting\n",
    "                dateRecord = datetime.datetime(year,month,1)    \n",
    "\n",
    "    NewTable.loc[counter, 'start_year'] = year\n",
    "    counter = counter+1\n",
    "\n",
    "# NewTable['determined_year'] = pd.Series(year, index=NewTable.index)\n",
    "NewTable.head(2)"
   ]
  },
  {
   "cell_type": "code",
   "execution_count": 44,
   "metadata": {
    "ExecuteTime": {
     "end_time": "2020-02-18T19:20:32.247609Z",
     "start_time": "2020-02-18T19:20:32.232694Z"
    }
   },
   "outputs": [
    {
     "name": "stdout",
     "output_type": "stream",
     "text": [
      "Start year info is valid.\n"
     ]
    }
   ],
   "source": [
    "# checks if NaNs are in the same position \n",
    "result = (NewTable['start_year'].isna() == crustaceas['Start Date'].isna()).sum() == NewTable.shape[0]\n",
    "\n",
    "if result:\n",
    "    print('Start year info is valid.')\n",
    "else:\n",
    "    print(\"There's something wrong with NewTable. Check how you're collecting Start Year info.\")"
   ]
  },
  {
   "cell_type": "code",
   "execution_count": 45,
   "metadata": {
    "ExecuteTime": {
     "end_time": "2020-02-18T19:20:32.645727Z",
     "start_time": "2020-02-18T19:20:32.599965Z"
    }
   },
   "outputs": [],
   "source": [
    "# year in which the holotipo was \"firstly\" found \n",
    "NewTable['holotipo_year'] = NewTable['species_author'].str.extract('(\\d+)')"
   ]
  },
  {
   "cell_type": "markdown",
   "metadata": {},
   "source": [
    "<br>\n",
    "\n",
    "### creating `years` columns in crustaceas"
   ]
  },
  {
   "cell_type": "code",
   "execution_count": 47,
   "metadata": {
    "ExecuteTime": {
     "end_time": "2020-02-18T19:20:41.336698Z",
     "start_time": "2020-02-18T19:20:41.331681Z"
    }
   },
   "outputs": [],
   "source": [
    "def catch_year(row):\n",
    "    if not str(row).find('/')==-1:\n",
    "        dates_values = str(row).split(\"/\")\n",
    "        year = int(dates_values[0])\n",
    "        month = int(dates_values[1])\n",
    "        return year\n",
    "    else:\n",
    "        return np.NaN"
   ]
  },
  {
   "cell_type": "code",
   "execution_count": 48,
   "metadata": {
    "ExecuteTime": {
     "end_time": "2020-02-18T19:20:41.948089Z",
     "start_time": "2020-02-18T19:20:41.793144Z"
    }
   },
   "outputs": [],
   "source": [
    "crustaceas['determined_year'] = crustaceas['Determined Date1'].apply(catch_year)\n",
    "crustaceas['start_year'] = crustaceas['Start Date'].apply(catch_year)\n",
    "crustaceas['cataloged_year'] = crustaceas['Cataloged Date'].apply(catch_year)\n",
    "crustaceas['holotipo_year'] = crustaceas['Species Author1'].str.extract('(\\d+)')"
   ]
  },
  {
   "cell_type": "markdown",
   "metadata": {},
   "source": [
    "<br>\n",
    "\n",
    "---\n",
    "\n",
    "## Graphs\n",
    "\n",
    "### Total amount of catalogations per year\n",
    "\n",
    "x: Start Year (from Start Date)\n",
    "y: number of catalogations per year"
   ]
  },
  {
   "cell_type": "code",
   "execution_count": 53,
   "metadata": {
    "ExecuteTime": {
     "end_time": "2020-02-18T19:21:58.248322Z",
     "start_time": "2020-02-18T19:21:58.226730Z"
    }
   },
   "outputs": [],
   "source": [
    "# counting catalog. per year\n",
    "teste = crustaceas['Start Date'].value_counts()\n",
    "teste = teste.reset_index().rename(columns={'index':'year', 'Start Date':'counts'})"
   ]
  },
  {
   "cell_type": "code",
   "execution_count": 54,
   "metadata": {
    "ExecuteTime": {
     "end_time": "2020-02-18T19:21:58.799936Z",
     "start_time": "2020-02-18T19:21:58.781087Z"
    }
   },
   "outputs": [],
   "source": [
    "# adjusting columns for graphs\n",
    "teste['year'] = teste['year'].apply(lambda x:x.split('/')[0]).astype(int)\n",
    "teste = teste.groupby('year').sum().reset_index() # soma do total de bichos coletados por ano"
   ]
  },
  {
   "cell_type": "code",
   "execution_count": 55,
   "metadata": {
    "ExecuteTime": {
     "end_time": "2020-02-18T19:21:59.337343Z",
     "start_time": "2020-02-18T19:21:59.332198Z"
    }
   },
   "outputs": [],
   "source": [
    "# min e max para eixo X (year)\n",
    "min_x = teste['year'].min()\n",
    "max_x = teste['year'].max()"
   ]
  },
  {
   "cell_type": "code",
   "execution_count": 56,
   "metadata": {
    "ExecuteTime": {
     "end_time": "2020-02-18T19:22:01.075306Z",
     "start_time": "2020-02-18T19:22:01.053227Z"
    }
   },
   "outputs": [
    {
     "data": {
      "application/javascript": [
       "const spec = {\"config\": {\"view\": {\"width\": 400, \"height\": 300}, \"mark\": {\"tooltip\": null}}, \"data\": {\"name\": \"data-8a29d45436bef19edddc362aed2a7c2f\"}, \"mark\": \"circle\", \"encoding\": {\"x\": {\"type\": \"ordinal\", \"field\": \"year\"}, \"y\": {\"type\": \"quantitative\", \"field\": \"counts\"}}, \"title\": \"Number of catalogations per year\", \"width\": 800, \"$schema\": \"https://vega.github.io/schema/vega-lite/v3.4.0.json\", \"datasets\": {\"data-8a29d45436bef19edddc362aed2a7c2f\": [{\"year\": 27, \"counts\": 1}, {\"year\": 1871, \"counts\": 1}, {\"year\": 1877, \"counts\": 1}, {\"year\": 1880, \"counts\": 1}, {\"year\": 1892, \"counts\": 1}, {\"year\": 1898, \"counts\": 1}, {\"year\": 1901, \"counts\": 10}, {\"year\": 1902, \"counts\": 2}, {\"year\": 1903, \"counts\": 26}, {\"year\": 1904, \"counts\": 1}, {\"year\": 1905, \"counts\": 7}, {\"year\": 1906, \"counts\": 1}, {\"year\": 1908, \"counts\": 4}, {\"year\": 1909, \"counts\": 2}, {\"year\": 1910, \"counts\": 3}, {\"year\": 1911, \"counts\": 15}, {\"year\": 1913, \"counts\": 6}, {\"year\": 1914, \"counts\": 3}, {\"year\": 1915, \"counts\": 7}, {\"year\": 1916, \"counts\": 5}, {\"year\": 1917, \"counts\": 2}, {\"year\": 1918, \"counts\": 5}, {\"year\": 1919, \"counts\": 1}, {\"year\": 1920, \"counts\": 2}, {\"year\": 1922, \"counts\": 2}, {\"year\": 1924, \"counts\": 3}, {\"year\": 1925, \"counts\": 5}, {\"year\": 1926, \"counts\": 2}, {\"year\": 1927, \"counts\": 3}, {\"year\": 1930, \"counts\": 4}, {\"year\": 1931, \"counts\": 3}, {\"year\": 1932, \"counts\": 2}, {\"year\": 1933, \"counts\": 4}, {\"year\": 1935, \"counts\": 12}, {\"year\": 1936, \"counts\": 13}, {\"year\": 1937, \"counts\": 4}, {\"year\": 1938, \"counts\": 21}, {\"year\": 1939, \"counts\": 37}, {\"year\": 1940, \"counts\": 28}, {\"year\": 1941, \"counts\": 14}, {\"year\": 1942, \"counts\": 23}, {\"year\": 1943, \"counts\": 14}, {\"year\": 1944, \"counts\": 85}, {\"year\": 1945, \"counts\": 40}, {\"year\": 1946, \"counts\": 38}, {\"year\": 1947, \"counts\": 32}, {\"year\": 1948, \"counts\": 50}, {\"year\": 1949, \"counts\": 28}, {\"year\": 1950, \"counts\": 105}, {\"year\": 1951, \"counts\": 99}, {\"year\": 1952, \"counts\": 109}, {\"year\": 1953, \"counts\": 129}, {\"year\": 1954, \"counts\": 112}, {\"year\": 1955, \"counts\": 94}, {\"year\": 1956, \"counts\": 114}, {\"year\": 1957, \"counts\": 56}, {\"year\": 1958, \"counts\": 60}, {\"year\": 1959, \"counts\": 161}, {\"year\": 1960, \"counts\": 131}, {\"year\": 1961, \"counts\": 113}, {\"year\": 1962, \"counts\": 158}, {\"year\": 1963, \"counts\": 138}, {\"year\": 1964, \"counts\": 308}, {\"year\": 1965, \"counts\": 149}, {\"year\": 1966, \"counts\": 181}, {\"year\": 1967, \"counts\": 207}, {\"year\": 1968, \"counts\": 202}, {\"year\": 1969, \"counts\": 272}, {\"year\": 1970, \"counts\": 171}, {\"year\": 1971, \"counts\": 230}, {\"year\": 1972, \"counts\": 83}, {\"year\": 1973, \"counts\": 297}, {\"year\": 1974, \"counts\": 204}, {\"year\": 1975, \"counts\": 125}, {\"year\": 1976, \"counts\": 195}, {\"year\": 1977, \"counts\": 162}, {\"year\": 1978, \"counts\": 140}, {\"year\": 1979, \"counts\": 82}, {\"year\": 1980, \"counts\": 182}, {\"year\": 1981, \"counts\": 203}, {\"year\": 1982, \"counts\": 230}, {\"year\": 1983, \"counts\": 395}, {\"year\": 1984, \"counts\": 498}, {\"year\": 1985, \"counts\": 524}, {\"year\": 1986, \"counts\": 656}, {\"year\": 1987, \"counts\": 586}, {\"year\": 1988, \"counts\": 322}, {\"year\": 1989, \"counts\": 190}, {\"year\": 1990, \"counts\": 153}, {\"year\": 1991, \"counts\": 247}, {\"year\": 1992, \"counts\": 292}, {\"year\": 1993, \"counts\": 685}, {\"year\": 1994, \"counts\": 703}, {\"year\": 1995, \"counts\": 1247}, {\"year\": 1996, \"counts\": 308}, {\"year\": 1997, \"counts\": 918}, {\"year\": 1998, \"counts\": 667}, {\"year\": 1999, \"counts\": 592}, {\"year\": 2000, \"counts\": 1453}, {\"year\": 2001, \"counts\": 1433}, {\"year\": 2002, \"counts\": 1656}, {\"year\": 2003, \"counts\": 1579}, {\"year\": 2004, \"counts\": 112}, {\"year\": 2005, \"counts\": 183}, {\"year\": 2006, \"counts\": 109}, {\"year\": 2007, \"counts\": 56}, {\"year\": 2008, \"counts\": 1003}, {\"year\": 2009, \"counts\": 2698}, {\"year\": 2010, \"counts\": 133}, {\"year\": 2011, \"counts\": 133}, {\"year\": 2012, \"counts\": 106}, {\"year\": 2013, \"counts\": 213}, {\"year\": 2014, \"counts\": 68}, {\"year\": 2015, \"counts\": 270}, {\"year\": 2016, \"counts\": 12}, {\"year\": 2099, \"counts\": 1}]}};\n",
       "const opt = {};\n",
       "const type = \"vega-lite\";\n",
       "const id = \"962163e1-7b8a-43ff-aa41-1e78a6a191ea\";\n",
       "\n",
       "const output_area = this;\n",
       "\n",
       "require([\"nbextensions/jupyter-vega/index\"], function(vega) {\n",
       "  const target = document.createElement(\"div\");\n",
       "  target.id = id;\n",
       "  target.className = \"vega-embed\";\n",
       "\n",
       "  const style = document.createElement(\"style\");\n",
       "  style.textContent = [\n",
       "    \".vega-embed .error p {\",\n",
       "    \"  color: firebrick;\",\n",
       "    \"  font-size: 14px;\",\n",
       "    \"}\",\n",
       "  ].join(\"\\\\n\");\n",
       "\n",
       "  // element is a jQuery wrapped DOM element inside the output area\n",
       "  // see http://ipython.readthedocs.io/en/stable/api/generated/\\\n",
       "  // IPython.display.html#IPython.display.Javascript.__init__\n",
       "  element[0].appendChild(target);\n",
       "  element[0].appendChild(style);\n",
       "\n",
       "  vega.render(\"#\" + id, spec, type, opt, output_area);\n",
       "}, function (err) {\n",
       "  if (err.requireType !== \"scripterror\") {\n",
       "    throw(err);\n",
       "  }\n",
       "});\n"
      ],
      "text/plain": [
       "<vega.vegalite.VegaLite at 0x7f937006b150>"
      ]
     },
     "metadata": {
      "jupyter-vega": "#962163e1-7b8a-43ff-aa41-1e78a6a191ea"
     },
     "output_type": "display_data"
    },
    {
     "data": {
      "text/plain": []
     },
     "execution_count": 56,
     "metadata": {},
     "output_type": "execute_result"
    },
    {
     "data": {
      "image/png": "[encoded data removed]"
     },
     "metadata": {
      "jupyter-vega": "#962163e1-7b8a-43ff-aa41-1e78a6a191ea"
     },
     "output_type": "display_data"
    }
   ],
   "source": [
    "alt.Chart(data= teste, width=800, title= 'Number of catalogations per year').mark_circle().encode(\n",
    "    x= alt.X('year', type='ordinal'),\n",
    "    y= alt.Y('counts', type='quantitative')\n",
    ")"
   ]
  },
  {
   "cell_type": "markdown",
   "metadata": {},
   "source": [
    "<br>\n",
    "\n",
    "### Types (*per year*)\n",
    "\n",
    "x: Species1, cor: Type Status1, size: counts"
   ]
  },
  {
   "cell_type": "markdown",
   "metadata": {},
   "source": [
    "#### adjusting columns `determined_year` e `cataloged_year` to ```*int*``` format "
   ]
  },
  {
   "cell_type": "code",
   "execution_count": 57,
   "metadata": {
    "ExecuteTime": {
     "end_time": "2020-02-18T19:22:04.000556Z",
     "start_time": "2020-02-18T19:22:03.995170Z"
    }
   },
   "outputs": [],
   "source": [
    "def str_with_nan2int(string):\n",
    "    if not np.isnan(string):\n",
    "        return int(string)\n",
    "    else:\n",
    "        return np.NAN"
   ]
  },
  {
   "cell_type": "code",
   "execution_count": 61,
   "metadata": {
    "ExecuteTime": {
     "end_time": "2020-02-18T19:23:34.389285Z",
     "start_time": "2020-02-18T19:23:34.252852Z"
    }
   },
   "outputs": [],
   "source": [
    "NewTable['determined_year'] = NewTable['determined_year'].apply(str_with_nan2int) #has NaN\n",
    "# NewTable['determined_year'] = NewTable['determined_year'].astype(int)\n",
    "NewTable['cataloged_year'] = NewTable['cataloged_year'].astype(int)\n",
    "NewTable['start_year'] = NewTable['start_year'].apply(str_with_nan2int) #has NaN"
   ]
  },
  {
   "cell_type": "markdown",
   "metadata": {},
   "source": [
    "#### removing duplicated rows as we took a subset of the main database"
   ]
  },
  {
   "cell_type": "code",
   "execution_count": 89,
   "metadata": {
    "ExecuteTime": {
     "end_time": "2020-02-18T19:27:21.413896Z",
     "start_time": "2020-02-18T19:27:21.242951Z"
    }
   },
   "outputs": [
    {
     "name": "stdout",
     "output_type": "stream",
     "text": [
      "Duplicated registers: 7001\n"
     ]
    }
   ],
   "source": [
    "teste1 = NewTable.drop_duplicates().copy()  # removes duplicated rows (with same values in ALL columns)\n",
    "print('Duplicated registers:',NewTable.shape[0] - NewTable.drop_duplicates().shape[0])\n",
    "# teste1.head(2)"
   ]
  },
  {
   "cell_type": "markdown",
   "metadata": {},
   "source": [
    "#### sorting for y axis (researchers  are listed by their first year of contribution)"
   ]
  },
  {
   "cell_type": "code",
   "execution_count": 90,
   "metadata": {
    "ExecuteTime": {
     "end_time": "2020-02-18T19:27:22.648337Z",
     "start_time": "2020-02-18T19:27:22.623469Z"
    }
   },
   "outputs": [],
   "source": [
    "teste1.sort_values(['start_year','determiner_first_and_last_name'], inplace=True)"
   ]
  },
  {
   "cell_type": "code",
   "execution_count": 91,
   "metadata": {
    "ExecuteTime": {
     "end_time": "2020-02-18T19:27:25.443848Z",
     "start_time": "2020-02-18T19:27:25.423592Z"
    }
   },
   "outputs": [],
   "source": [
    "# names ordering for y axis\n",
    "names_ordering = list(\n",
    "    teste1[~teste1['determiner_first_and_last_name'].isna()]['determiner_first_and_last_name'].unique()\n",
    ")"
   ]
  },
  {
   "cell_type": "markdown",
   "metadata": {},
   "source": [
    "<br>\n",
    "\n",
    "<font color='red' size='4'>**p.s.:** there are overlapping dots in the following graph. For each year, some researchers did catalog more than one *specimen* of different types. </font>"
   ]
  },
  {
   "cell_type": "code",
   "execution_count": 93,
   "metadata": {
    "ExecuteTime": {
     "end_time": "2020-02-18T19:27:51.051021Z",
     "start_time": "2020-02-18T19:27:51.045597Z"
    }
   },
   "outputs": [],
   "source": [
    "g1 = alt.Chart(teste1, width=800, height=2200).mark_circle().encode(\n",
    "    x= alt.X('start_year', type='ordinal', title='Year'),\n",
    "    y= alt.Y('determiner_first_and_last_name', type='nominal', title='Determiner Name',\n",
    "            sort= names_ordering),\n",
    "    color= alt.Color('type_status')\n",
    ")\n",
    "\n",
    "# # salvando o gráfico\n",
    "# g1.save('./viz/1-determiner_and_year-null_name.svg')\n",
    "# g1.save('./viz/1-determiner_and_year-null_name.html')\n",
    "\n",
    "# g1"
   ]
  },
  {
   "cell_type": "markdown",
   "metadata": {},
   "source": [
    "<br>\n",
    "\n",
    "#### adjustements: removing empty names and types"
   ]
  },
  {
   "cell_type": "code",
   "execution_count": 95,
   "metadata": {
    "ExecuteTime": {
     "end_time": "2020-02-18T19:28:25.939568Z",
     "start_time": "2020-02-18T19:28:25.924485Z"
    }
   },
   "outputs": [],
   "source": [
    "g1 = alt.Chart(teste1[~teste1['determiner_first_and_last_name'].isna() & (~teste1['determined_year'].isna())],\n",
    "               width=800, height=2200).mark_circle().encode(\n",
    "    x= alt.X('start_year', type='ordinal', title='Year'),\n",
    "    y= alt.Y('determiner_first_and_last_name', type='nominal', title='Determiner Name',\n",
    "            sort= names_ordering),\n",
    "    color= alt.Color('type_status')\n",
    ")\n",
    "\n",
    "# salvando o gráfico\n",
    "# g1.save('./viz/2-determiner_and_year-null_type.svg')\n",
    "# g1.save('./viz/2-determiner_and_year-null_type.html')\n",
    "\n",
    "# g1"
   ]
  },
  {
   "cell_type": "markdown",
   "metadata": {},
   "source": [
    "<br>\n",
    "\n",
    "#### ordering per holotype year (year in which the holotype was discovered)"
   ]
  },
  {
   "cell_type": "code",
   "execution_count": 96,
   "metadata": {
    "ExecuteTime": {
     "end_time": "2020-02-18T19:28:35.615561Z",
     "start_time": "2020-02-18T19:28:35.547920Z"
    }
   },
   "outputs": [],
   "source": [
    "counts = teste1.groupby(['determiner_first_and_last_name', 'type_status','holotipo_year']).count()['class'].reset_index()\n",
    "counts.rename(columns={'class':'counts'}, inplace=True)"
   ]
  },
  {
   "cell_type": "code",
   "execution_count": 97,
   "metadata": {
    "ExecuteTime": {
     "end_time": "2020-02-18T19:28:36.585356Z",
     "start_time": "2020-02-18T19:28:36.566289Z"
    }
   },
   "outputs": [],
   "source": [
    "teste1 = pd.merge(teste1, counts, on=['determiner_first_and_last_name', 'type_status','holotipo_year'])"
   ]
  },
  {
   "cell_type": "code",
   "execution_count": 98,
   "metadata": {
    "ExecuteTime": {
     "end_time": "2020-02-18T19:28:38.034739Z",
     "start_time": "2020-02-18T19:28:38.021455Z"
    }
   },
   "outputs": [],
   "source": [
    "teste1.sort_values(['holotipo_year','determiner_first_and_last_name', 'counts'], inplace=True)"
   ]
  },
  {
   "cell_type": "code",
   "execution_count": 99,
   "metadata": {
    "ExecuteTime": {
     "end_time": "2020-02-18T19:28:42.129242Z",
     "start_time": "2020-02-18T19:28:42.117454Z"
    }
   },
   "outputs": [],
   "source": [
    "# sorting order for y axis\n",
    "names_ordering = list(\n",
    "    teste1[(~teste1['determiner_first_and_last_name'].isna()) & (~teste1['type_status'].isna())]['determiner_first_and_last_name'].unique()\n",
    ")"
   ]
  },
  {
   "cell_type": "code",
   "execution_count": 102,
   "metadata": {
    "ExecuteTime": {
     "end_time": "2020-02-18T19:29:07.582726Z",
     "start_time": "2020-02-18T19:29:07.558247Z"
    }
   },
   "outputs": [],
   "source": [
    "g1 = alt.Chart(teste1[(~teste1['determiner_first_and_last_name'].isna()) & (~teste1['type_status'].isna())],\n",
    "               width=800, height=800).mark_circle().encode(\n",
    "    x= alt.X('start_year', type='ordinal', title='Year'),\n",
    "    y= alt.Y('determiner_first_and_last_name', type='nominal', title='Determiner Name',\n",
    "            sort= names_ordering),\n",
    "    color= alt.Color('type_status'),\n",
    "#     size=alt.Size('depth')\n",
    ")\n",
    "\n",
    "# saving chart\n",
    "# g1.save('./viz/2-determiner_and_year-cor.svg')\n",
    "# g1.save('./viz/2-determiner_and_year-cor.html')\n",
    "\n",
    "# g1"
   ]
  },
  {
   "cell_type": "code",
   "execution_count": 103,
   "metadata": {
    "ExecuteTime": {
     "end_time": "2020-02-18T19:29:11.152574Z",
     "start_time": "2020-02-18T19:29:11.140420Z"
    }
   },
   "outputs": [],
   "source": [
    "colors = ['#d62728', '#f58518', '#d95f02',\n",
    "          '#d62729', '#f58519', '#d95f03',\n",
    "          '#4daf4a', '#8c6d31',\n",
    "          '#79706e', '#bab0ac', '#d8b5a5'\n",
    "         ]\n",
    "\n",
    "types = ['Holotipo', 'Alotipo', 'Neotipo',\n",
    "          'Sintipo', 'Lectotipo', 'Paralectotipo',\n",
    "          'Paratipo', 'Topotipo', \n",
    "          'Tipo', 'Co-tipo', 'Material tipo'\n",
    "        ]\n",
    "\n",
    "opacities= [1, 1, 1,\n",
    "           0.4,0.4,0.4,\n",
    "           1,1,1,\n",
    "           1,1,1]\n",
    "\n",
    "# creating dictionary with type:color\n",
    "type_color = defaultdict()\n",
    "for t in range(len(types)):\n",
    "    type_color[types[t]] = colors[t] "
   ]
  },
  {
   "cell_type": "code",
   "execution_count": 105,
   "metadata": {
    "ExecuteTime": {
     "end_time": "2020-02-18T19:29:41.116389Z",
     "start_time": "2020-02-18T19:29:41.081143Z"
    }
   },
   "outputs": [],
   "source": [
    "# p.s.: there are still overlapping points (it's affecting opacity)\n",
    "g1 = alt.Chart(teste1[(~teste1['determiner_first_and_last_name'].isna()) & (~teste1['type_status'].isna())],\n",
    "               width=800, height=800).mark_circle(size=60).encode(\n",
    "    x= alt.X('start_year', type='ordinal', title='Year'),\n",
    "    y= alt.Y('determiner_first_and_last_name', type='nominal', title='Determiner Name',\n",
    "            sort= names_ordering),\n",
    "    color= alt.Color('type_status', legend= alt.Legend(title='Type Status'),\n",
    "                     sort=types,\n",
    "                     scale= alt.Scale(domain=types,range=colors)\n",
    "                  ),\n",
    "    tooltip= alt.Tooltip(['determiner_first_and_last_name','determined_year','type_status','holotipo_year']),\n",
    "    opacity= alt.Opacity(scale= alt.Scale(domain=types,range=opacities), type='quantitative')\n",
    "#     size=alt.Size('depth')\n",
    ")\n",
    "\n",
    "# saving chart\n",
    "# g1.save('./viz/2-determiner_and_year_ordered_per_holotype_discover_yr.svg')\n",
    "# g1.save('./viz/2-determiner_and_year_ordered_per_holotype_discover_yr.html')\n",
    "\n",
    "# g1"
   ]
  },
  {
   "cell_type": "code",
   "execution_count": 107,
   "metadata": {
    "ExecuteTime": {
     "end_time": "2020-02-18T19:29:49.873937Z",
     "start_time": "2020-02-18T19:29:49.837846Z"
    }
   },
   "outputs": [],
   "source": [
    "holotipo = teste1[(teste1['type_status'] == 'Holotipo')].copy()    # filtering just holotype\n",
    "holotipo = holotipo[~holotipo['determiner_first_and_last_name'].isna()].copy() # making sure names are nonempty\n",
    "\n",
    "# sorting\n",
    "holotipo.sort_values('holotipo_year', inplace=True)\n",
    "\n",
    "# sorting per holotipo year\n",
    "names_ordering = list(holotipo['determiner_first_and_last_name'].values)\n",
    "\n",
    "temp = holotipo.groupby(['order','start_year']).count()['count'].reset_index()"
   ]
  },
  {
   "cell_type": "code",
   "execution_count": 109,
   "metadata": {
    "ExecuteTime": {
     "end_time": "2020-02-18T19:30:07.013631Z",
     "start_time": "2020-02-18T19:30:07.003804Z"
    }
   },
   "outputs": [],
   "source": [
    "# New Chart\n",
    "g1 = alt.Chart(holotipo,\n",
    "               width=800, height=1200, title='Number of holotypes of each order per year').mark_circle(size=60,\n",
    "                                                                                    color='red').encode(\n",
    "    x= alt.X('start_year', type='ordinal', title='Determined Year'),\n",
    "    y= alt.Y('genus_and_species', type='nominal', title='Species')\n",
    ")\n",
    "\n",
    "g2 = alt.Chart(holotipo,\n",
    "               width=680, height=1200, title='Number of holotypes of each order per year').mark_circle(size=60,\n",
    "                                                                                    color='blue').encode(\n",
    "    x= alt.X('holotipo_year', type='ordinal', title='Holotype Year'),\n",
    "    y= alt.Y('genus_and_species', type='nominal', title='Species')\n",
    ")\n",
    "\n",
    "# saving chart\n",
    "# g1.save('./viz/holotypes_per_order.svg')\n",
    "# g1.save('./viz/holotypes_per_order.html')\n",
    "\n",
    "# g1 + g2"
   ]
  },
  {
   "cell_type": "code",
   "execution_count": 115,
   "metadata": {
    "ExecuteTime": {
     "end_time": "2020-02-18T19:30:48.310557Z",
     "start_time": "2020-02-18T19:30:48.293887Z"
    }
   },
   "outputs": [],
   "source": [
    "g1 = alt.Chart(temp[temp['order'] != 'Nan'],\n",
    "               width=800, height=400, title='Number of holotypes of each order per year').mark_circle(size=60,\n",
    "                                                                                color='red').encode(\n",
    "    x= alt.X('start_year', type='ordinal', title='Year'),\n",
    "    y= alt.Y('order', type='nominal', title='Order',\n",
    "            sort= alt.EncodingSortField(field='count', op='max', order='descending')),\n",
    "    size = alt.Size('count'),\n",
    ")\n",
    "\n",
    "# saving chart\n",
    "# g1.save(f'./viz/types/holotypes_per_order.svg')\n",
    "# g1.save(f'./viz/types/holotypes_per_order.html')\n",
    "\n",
    "# g1"
   ]
  },
  {
   "cell_type": "markdown",
   "metadata": {},
   "source": [
    "separating and grouping types"
   ]
  },
  {
   "cell_type": "code",
   "execution_count": 116,
   "metadata": {
    "ExecuteTime": {
     "end_time": "2020-02-18T19:30:51.129979Z",
     "start_time": "2020-02-18T19:30:51.123223Z"
    }
   },
   "outputs": [],
   "source": [
    "types = teste1['type_status'].unique()\n",
    "\n",
    "group_types = []\n",
    "for t in types:\n",
    "    if t not in ['Holotipo', 'Alotipo', 'Paratipo']:\n",
    "        group_types.append(t)"
   ]
  },
  {
   "cell_type": "code",
   "execution_count": 190,
   "metadata": {
    "ExecuteTime": {
     "end_time": "2020-02-16T02:11:30.588889Z",
     "start_time": "2020-02-16T02:11:25.394684Z"
    }
   },
   "outputs": [],
   "source": [
    "# replicating for all types\n",
    "for t in ['Holotipo', 'Alotipo', 'Paratipo']:\n",
    "    # preparing data\n",
    "    temp1 = teste1[(teste1['type_status'] == t)].copy()                   # filtering just holotype\n",
    "    temp = temp1[~temp1['determiner_first_and_last_name'].isna()].copy()  # making sure names are nonempty \n",
    "                                                                          \n",
    "    # sorting\n",
    "    temp.sort_values('holotipo_year', inplace=True)\n",
    "\n",
    "    # sorting per holotipo year\n",
    "    names_ordering = list(temp['determiner_first_and_last_name'].values)\n",
    "    \n",
    "    # grouping and counting per order and year\n",
    "    temp = temp.groupby(['order','start_year']).count()['count'].reset_index()\n",
    "\n",
    "    ### Chart\n",
    "    g1 = alt.Chart(temp[temp['order'] != 'Nan'],\n",
    "                   width=680, height=500, title=f'Number of {t} of each order per year').mark_circle(size=60,\n",
    "                                                                     color=f'{type_color[t]}').encode(\n",
    "        x= alt.X('start_year', type='ordinal', title='Year'),\n",
    "        y= alt.Y('order', type='nominal', title='Order',\n",
    "                sort= alt.EncodingSortField(field='count', op='count', order='descending')),\n",
    "        size = alt.Size('count'),\n",
    "    #     color= alt.Color('holotipo_year', type='quantitative', scale= alt.Scale(scheme='reds')), \n",
    "    #     opacity= alt.Opacity(scale= alt.Scale(domain=types,range=opacities), type='quantitative')\n",
    "    #     size=alt.Size('depth')\n",
    "    )\n",
    "\n",
    "    # saving chart\n",
    "#     g1.save(f'./viz/types/{t}_per_order.svg')\n",
    "#     g1.save(f'./viz/types/{t}_per_order.html')\n",
    "\n",
    "# g1"
   ]
  },
  {
   "cell_type": "markdown",
   "metadata": {},
   "source": [
    "<br>\n",
    "\n",
    "preparing data of other types to make a separate chart..."
   ]
  },
  {
   "cell_type": "code",
   "execution_count": 117,
   "metadata": {
    "ExecuteTime": {
     "end_time": "2020-02-18T19:31:22.401467Z",
     "start_time": "2020-02-18T19:31:22.395999Z"
    }
   },
   "outputs": [],
   "source": [
    "t = teste1['order'].unique()  # orders"
   ]
  },
  {
   "cell_type": "code",
   "execution_count": 118,
   "metadata": {
    "ExecuteTime": {
     "end_time": "2020-02-18T19:31:28.840577Z",
     "start_time": "2020-02-18T19:31:28.810483Z"
    }
   },
   "outputs": [],
   "source": [
    "temp = teste1[(teste1['order'] != 'Nan') & (teste1['type_status'].isin(group_types))]\n",
    "temp = temp.groupby(['order','start_year','type_status']).count()['count'].reset_index()\n",
    "\n",
    "colors = ['']"
   ]
  },
  {
   "cell_type": "code",
   "execution_count": 121,
   "metadata": {
    "ExecuteTime": {
     "end_time": "2020-02-18T19:31:48.745497Z",
     "start_time": "2020-02-18T19:31:48.703128Z"
    }
   },
   "outputs": [
    {
     "data": {
      "application/javascript": [
       "const spec = {\"config\": {\"view\": {\"width\": 400, \"height\": 300}, \"mark\": {\"tooltip\": null}}, \"data\": {\"name\": \"data-e828f8d8dc94df2181567eedd1a583a2\"}, \"mark\": {\"type\": \"circle\", \"size\": 60}, \"encoding\": {\"color\": {\"type\": \"nominal\", \"field\": \"type_status\", \"scale\": {\"domain\": [\"Topotipo\", \"Neotipo\", \"Tipo\", \"Paralectotipo\", \"Co-tipo\", \"Lectotipo\", \"Sintipo\", \"Material tipo\"], \"range\": [\"#8c6d31\", \"#d95f02\", \"#79706e\", \"#d95f03\", \"#bab0ac\", \"#f58519\", \"#d62729\", \"#d8b5a5\"]}, \"title\": \"type\"}, \"size\": {\"type\": \"quantitative\", \"field\": \"count\", \"scale\": {\"type\": \"bin-ordinal\"}}, \"x\": {\"type\": \"ordinal\", \"field\": \"start_year\", \"title\": \"Year\"}, \"y\": {\"type\": \"nominal\", \"field\": \"order\", \"sort\": {\"field\": \"count\", \"op\": \"max\", \"order\": \"descending\"}, \"title\": \"Order\"}}, \"height\": 400, \"title\": \"Number of types of each order per year\", \"width\": 800, \"$schema\": \"https://vega.github.io/schema/vega-lite/v3.4.0.json\", \"datasets\": {\"data-e828f8d8dc94df2181567eedd1a583a2\": [{\"order\": \"Amphipoda\", \"start_year\": 2000.0, \"type_status\": \"Material tipo\", \"count\": 1}, {\"order\": \"Amphipoda\", \"start_year\": 2005.0, \"type_status\": \"Topotipo\", \"count\": 1}, {\"order\": \"Decapoda\", \"start_year\": 1903.0, \"type_status\": \"Lectotipo\", \"count\": 1}, {\"order\": \"Decapoda\", \"start_year\": 1903.0, \"type_status\": \"Paralectotipo\", \"count\": 3}, {\"order\": \"Decapoda\", \"start_year\": 1965.0, \"type_status\": \"Sintipo\", \"count\": 2}, {\"order\": \"Decapoda\", \"start_year\": 1986.0, \"type_status\": \"Material tipo\", \"count\": 1}, {\"order\": \"Isopoda\", \"start_year\": 1948.0, \"type_status\": \"Neotipo\", \"count\": 1}, {\"order\": \"Isopoda\", \"start_year\": 1952.0, \"type_status\": \"Sintipo\", \"count\": 1}, {\"order\": \"Isopoda\", \"start_year\": 1953.0, \"type_status\": \"Neotipo\", \"count\": 1}, {\"order\": \"Isopoda\", \"start_year\": 1964.0, \"type_status\": \"Sintipo\", \"count\": 1}, {\"order\": \"Isopoda\", \"start_year\": 1971.0, \"type_status\": \"Neotipo\", \"count\": 1}, {\"order\": \"Isopoda\", \"start_year\": 1973.0, \"type_status\": \"Tipo\", \"count\": 1}, {\"order\": \"Isopoda\", \"start_year\": 1988.0, \"type_status\": \"Lectotipo\", \"count\": 1}, {\"order\": \"Stomatopoda\", \"start_year\": 1903.0, \"type_status\": \"Co-tipo\", \"count\": 1}, {\"order\": \"Stomatopoda\", \"start_year\": 2001.0, \"type_status\": \"Neotipo\", \"count\": 1}]}};\n",
       "const opt = {};\n",
       "const type = \"vega-lite\";\n",
       "const id = \"6420674c-29ca-4b9f-9d27-60918a0d7316\";\n",
       "\n",
       "const output_area = this;\n",
       "\n",
       "require([\"nbextensions/jupyter-vega/index\"], function(vega) {\n",
       "  const target = document.createElement(\"div\");\n",
       "  target.id = id;\n",
       "  target.className = \"vega-embed\";\n",
       "\n",
       "  const style = document.createElement(\"style\");\n",
       "  style.textContent = [\n",
       "    \".vega-embed .error p {\",\n",
       "    \"  color: firebrick;\",\n",
       "    \"  font-size: 14px;\",\n",
       "    \"}\",\n",
       "  ].join(\"\\\\n\");\n",
       "\n",
       "  // element is a jQuery wrapped DOM element inside the output area\n",
       "  // see http://ipython.readthedocs.io/en/stable/api/generated/\\\n",
       "  // IPython.display.html#IPython.display.Javascript.__init__\n",
       "  element[0].appendChild(target);\n",
       "  element[0].appendChild(style);\n",
       "\n",
       "  vega.render(\"#\" + id, spec, type, opt, output_area);\n",
       "}, function (err) {\n",
       "  if (err.requireType !== \"scripterror\") {\n",
       "    throw(err);\n",
       "  }\n",
       "});\n"
      ],
      "text/plain": [
       "<vega.vegalite.VegaLite at 0x7f936dec84d0>"
      ]
     },
     "metadata": {
      "jupyter-vega": "#6420674c-29ca-4b9f-9d27-60918a0d7316"
     },
     "output_type": "display_data"
    },
    {
     "data": {
      "text/plain": []
     },
     "execution_count": 121,
     "metadata": {},
     "output_type": "execute_result"
    },
    {
     "data": {
      "image/png": "[encoded data removed]"
     },
     "metadata": {
      "jupyter-vega": "#6420674c-29ca-4b9f-9d27-60918a0d7316"
     },
     "output_type": "display_data"
    }
   ],
   "source": [
    "# making graph for other types (group_types)\n",
    "g1 = alt.Chart(temp,\n",
    "               width=800, height=400, title='Number of types of each order per year').mark_circle(\n",
    "                                                                                size=60).encode(\n",
    "    x= alt.X('start_year', type='ordinal', title='Year'),\n",
    "    y= alt.Y('order', type='nominal', title='Order',\n",
    "            sort= alt.EncodingSortField(field='count', op='max', order='descending')),\n",
    "    color= alt.Color('type_status', title='type',\n",
    "                     scale= alt.Scale(domain=group_types,range=[type_color[t] for t in group_types])),\n",
    "    size = alt.Size('count', type='quantitative', scale = alt.Scale(type='bin-ordinal')),\n",
    ")\n",
    "\n",
    "# salvando o gráfico\n",
    "# g1.save(f'./viz/types/other-types_per_order.svg')\n",
    "# g1.save(f'./viz/types/other-types_per_order.html')\n",
    "\n",
    "g1"
   ]
  },
  {
   "cell_type": "markdown",
   "metadata": {},
   "source": [
    "### Next chart relates holotipo and start years"
   ]
  },
  {
   "cell_type": "code",
   "execution_count": 123,
   "metadata": {
    "ExecuteTime": {
     "end_time": "2020-02-18T19:32:40.951431Z",
     "start_time": "2020-02-18T19:32:40.868021Z"
    }
   },
   "outputs": [
    {
     "data": {
      "application/javascript": [
       "const spec = {\"config\": {\"view\": {\"width\": 400, \"height\": 300}, \"mark\": {\"tooltip\": null}}, \"data\": {\"name\": \"data-41f10853d3962dc7f2668196f6688f4e\"}, \"mark\": {\"type\": \"circle\", \"size\": 60}, \"encoding\": {\"color\": {\"type\": \"nominal\", \"field\": \"order\", \"scale\": {\"scheme\": \"reds\"}}, \"tooltip\": [{\"type\": \"nominal\", \"field\": \"holotipo_year\"}, {\"type\": \"quantitative\", \"field\": \"start_year\"}], \"x\": {\"type\": \"ordinal\", \"field\": \"start_year\", \"title\": \"Discovered Year\"}, \"y\": {\"type\": \"ordinal\", \"field\": \"holotipo_year\", \"sort\": {\"field\": \"holotipo_year\", \"order\": \"descending\"}, \"title\": \"Start Year\"}}, \"height\": 500, \"title\": \"Holotypes discovered and determined years\", \"width\": 600, \"$schema\": \"https://vega.github.io/schema/vega-lite/v3.4.0.json\", \"datasets\": {\"data-41f10853d3962dc7f2668196f6688f4e\": [{\"cataloged_year\": 2000, \"count\": \"1\", \"class\": \"Malacostraca\", \"kingdom\": \"Animalia\", \"genus\": \"Symethis\", \"species\": \"Variolosa\", \"genus_and_species\": \"Symethis variolosa\", \"type_status\": \"Holotipo\", \"determiner_first_and_last_name\": \"Gustavo Melo\", \"determiner_first_name\": \"Gustavo\", \"determiner_last_name\": \"Melo\", \"depth\": \"0\", \"species_author\": \"(Fabricius, 1793)\", \"order\": \"Amphipoda\", \"suborder\": \"Nan\", \"infraorder\": \"Nan\", \"superfamily\": \"Nan\", \"family\": \"Raninidae\", \"subfamily\": \"Ranininae\", \"tribe\": \"Raninini\", \"determined_year\": null, \"start_year\": 1981.0, \"holotipo_year\": \"1793\", \"counts\": 1}, {\"cataloged_year\": 2017, \"count\": \"1\", \"class\": \"Malacostraca\", \"kingdom\": \"Animalia\", \"genus\": \"Pseudione\", \"species\": \"Serejoae\", \"genus_and_species\": \"Pseudione serejoae\", \"type_status\": \"Holotipo\", \"determiner_first_and_last_name\": \"Ayrton Brito\", \"determiner_first_name\": \"Ayrton\", \"determiner_last_name\": \"Brito\", \"depth\": \"1127\", \"species_author\": \"Rafinesque, 1815\", \"order\": \"Isopoda\", \"suborder\": \"Cymothoida\", \"infraorder\": \"Epicaridea\", \"superfamily\": \"Bopyroidea\", \"family\": \"Bopyridae\", \"subfamily\": \"Pseudioninae\", \"tribe\": \"Nan\", \"determined_year\": null, \"start_year\": 2003.0, \"holotipo_year\": \"1815\", \"counts\": 1}, {\"cataloged_year\": 2006, \"count\": \"24\", \"class\": \"Malacostraca\", \"kingdom\": \"Animalia\", \"genus\": \"Ilyocryptus\", \"species\": \"Spinifer\", \"genus_and_species\": \"Ilyocryptus spinifer\", \"type_status\": \"Holotipo\", \"determiner_first_and_last_name\": \"Lourdes Loureiro\", \"determiner_first_name\": \"Lourdes\", \"determiner_last_name\": \"Loureiro\", \"depth\": \"0\", \"species_author\": \"Herrick, 1882\", \"order\": \"Anomopoda\", \"suborder\": \"Nan\", \"infraorder\": \"Nan\", \"superfamily\": \"Nan\", \"family\": \"Ilyocryptidae\", \"subfamily\": \"Llyocryptinae\", \"tribe\": \"Llyocryptini\", \"determined_year\": null, \"start_year\": 1998.0, \"holotipo_year\": \"1882\", \"counts\": 1}, {\"cataloged_year\": 2015, \"count\": \"9\", \"class\": \"Malacostraca\", \"kingdom\": \"Animalia\", \"genus\": \"Nototanais\", \"species\": \"Dimorphus\", \"genus_and_species\": \"Nototanais dimorphus\", \"type_status\": \"Holotipo\", \"determiner_first_and_last_name\": \"Juliana Segadilha\", \"determiner_first_name\": \"Juliana\", \"determiner_last_name\": \"Segadilha\", \"depth\": \"120\", \"species_author\": \"(Beddard, 1886)\\u00a0\", \"order\": \"Tanaidacea\", \"suborder\": \"Nan\", \"infraorder\": \"Nan\", \"superfamily\": \"Nan\", \"family\": \"Nototanaidae\", \"subfamily\": \"Nototanainae\", \"tribe\": \"Nototanaini\", \"determined_year\": null, \"start_year\": 2009.0, \"holotipo_year\": \"1886\", \"counts\": 1}, {\"cataloged_year\": 1978, \"count\": \"2\", \"class\": \"Malacostraca\", \"kingdom\": \"Animalia\", \"genus\": \"Trichodactylus\", \"species\": \"Petropolitanus\", \"genus_and_species\": \"Trichodactylus petropolitanus\", \"type_status\": \"Holotipo\", \"determiner_first_and_last_name\": \"Nilton Hebling\", \"determiner_first_name\": \"Nilton\", \"determiner_last_name\": \"Hebling\", \"depth\": \"0\", \"species_author\": \"(Goeldi, 1886)\", \"order\": \"Decapoda\", \"suborder\": \"Nan\", \"infraorder\": \"Nan\", \"superfamily\": \"Nan\", \"family\": \"Trichodactylidae\", \"subfamily\": \"Trichodactylinae\", \"tribe\": \"Trichodactylini\", \"determined_year\": null, \"start_year\": null, \"holotipo_year\": \"1886\", \"counts\": 1}, {\"cataloged_year\": 2003, \"count\": \"1\", \"class\": \"Malacostraca\", \"kingdom\": \"Animalia\", \"genus\": \"Themisto\", \"species\": \"Australis\", \"genus_and_species\": \"Themisto australis\", \"type_status\": \"Holotipo\", \"determiner_first_and_last_name\": \"M Lima\", \"determiner_first_name\": \"M\", \"determiner_last_name\": \"Lima\", \"depth\": \"0\", \"species_author\": \"(Stebbing, 1888)\", \"order\": \"Amphipoda\", \"suborder\": \"Nan\", \"infraorder\": \"Nan\", \"superfamily\": \"Nan\", \"family\": \"Hyperiidae\", \"subfamily\": \"Hyperiinae\", \"tribe\": \"Hyperiini\", \"determined_year\": 2001.0, \"start_year\": 1977.0, \"holotipo_year\": \"1888\", \"counts\": 1}, {\"cataloged_year\": 2006, \"count\": \"30\", \"class\": \"Malacostraca\", \"kingdom\": \"Animalia\", \"genus\": \"Bosminopsis\", \"species\": \"Deitersi\", \"genus_and_species\": \"Bosminopsis deitersi\", \"type_status\": \"Holotipo\", \"determiner_first_and_last_name\": \"Lourdes Loureiro\", \"determiner_first_name\": \"Lourdes\", \"determiner_last_name\": \"Loureiro\", \"depth\": \"0\", \"species_author\": \"Richard, 1895\", \"order\": \"Anomopoda\", \"suborder\": \"Nan\", \"infraorder\": \"Nan\", \"superfamily\": \"Nan\", \"family\": \"Bosminidae\", \"subfamily\": \"Bosmininae\", \"tribe\": \"Bosminini\", \"determined_year\": null, \"start_year\": 2001.0, \"holotipo_year\": \"1895\", \"counts\": 1}, {\"cataloged_year\": 1997, \"count\": \"1\", \"class\": \"Malacostraca\", \"kingdom\": \"Animalia\", \"genus\": \"Hyalella\", \"species\": \"Warmingi\", \"genus_and_species\": \"Hyalella warmingi\", \"type_status\": \"Holotipo\", \"determiner_first_and_last_name\": \"Cristiana Serejo\", \"determiner_first_name\": \"Cristiana\", \"determiner_last_name\": \"Serejo\", \"depth\": \"0\", \"species_author\": \"Stebbing, 1899\", \"order\": \"Amphipoda\", \"suborder\": \"Nan\", \"infraorder\": \"Nan\", \"superfamily\": \"Nan\", \"family\": \"Hyalellidae\", \"subfamily\": \"Hyalellinae\", \"tribe\": \"Hyalellini\", \"determined_year\": 1997.0, \"start_year\": 1967.0, \"holotipo_year\": \"1899\", \"counts\": 1}, {\"cataloged_year\": 1995, \"count\": \"1\", \"class\": \"Malacostraca\", \"kingdom\": \"Animalia\", \"genus\": \"Loxopagurus\", \"species\": \"Loxochelis\", \"genus_and_species\": \"Loxopagurus loxochelis\", \"type_status\": \"Holotipo\", \"determiner_first_and_last_name\": \"Carlos Moreira\", \"determiner_first_name\": \"Carlos\", \"determiner_last_name\": \"Moreira\", \"depth\": \"0\", \"species_author\": \"(Moreira, 1901)\", \"order\": \"Decapoda\", \"suborder\": \"Nan\", \"infraorder\": \"Nan\", \"superfamily\": \"Nan\", \"family\": \"Diogenidae\", \"subfamily\": \"Diogeninae\", \"tribe\": \"Diogenini\", \"determined_year\": null, \"start_year\": null, \"holotipo_year\": \"1901\", \"counts\": 1}, {\"cataloged_year\": 2000, \"count\": \"3\", \"class\": \"Malacostraca\", \"kingdom\": \"Animalia\", \"genus\": \"Parapenaeus\", \"species\": \"Americanus\", \"genus_and_species\": \"Parapenaeus americanus\", \"type_status\": \"Holotipo\", \"determiner_first_and_last_name\": \"Fernando D'incao\", \"determiner_first_name\": \"Fernando\", \"determiner_last_name\": \"D'incao\", \"depth\": \"0\", \"species_author\": \"Rathbun, 1901\", \"order\": \"Decapoda\", \"suborder\": \"Nan\", \"infraorder\": \"Nan\", \"superfamily\": \"Nan\", \"family\": \"Penaeidae\", \"subfamily\": \"Penaeinae\", \"tribe\": \"Penaeini\", \"determined_year\": null, \"start_year\": 2000.0, \"holotipo_year\": \"1901\", \"counts\": 1}, {\"cataloged_year\": 1952, \"count\": \"1\", \"class\": \"Malacostraca\", \"kingdom\": \"Animalia\", \"genus\": \"Moreirocarcinus\", \"species\": \"Laevifrons\", \"genus_and_species\": \"Moreirocarcinus laevifrons\", \"type_status\": \"Holotipo\", \"determiner_first_and_last_name\": \"Walter Zwink\", \"determiner_first_name\": \"Walter\", \"determiner_last_name\": \"Zwink\", \"depth\": \"0\", \"species_author\": \"(Moreira, 1901)\", \"order\": \"Decapoda\", \"suborder\": \"Nan\", \"infraorder\": \"Nan\", \"superfamily\": \"Nan\", \"family\": \"Trichodactylidae\", \"subfamily\": \"Trichodactylinae\", \"tribe\": \"Trichodactylini\", \"determined_year\": 2005.0, \"start_year\": null, \"holotipo_year\": \"1901\", \"counts\": 1}, {\"cataloged_year\": 2015, \"count\": \"5\", \"class\": \"Malacostraca\", \"kingdom\": \"Animalia\", \"genus\": \"Nototanais\", \"species\": \"Antarcticus\", \"genus_and_species\": \"Nototanais antarcticus\", \"type_status\": \"Holotipo\", \"determiner_first_and_last_name\": \"Juliana Segadilha\", \"determiner_first_name\": \"Juliana\", \"determiner_last_name\": \"Segadilha\", \"depth\": \"120\", \"species_author\": \"(Hodgson, 1902)\\u00a0\", \"order\": \"Tanaidacea\", \"suborder\": \"Nan\", \"infraorder\": \"Nan\", \"superfamily\": \"Nan\", \"family\": \"Nototanaidae\", \"subfamily\": \"Nototanainae\", \"tribe\": \"Nototanaini\", \"determined_year\": null, \"start_year\": 2009.0, \"holotipo_year\": \"1902\", \"counts\": 1}, {\"cataloged_year\": 2014, \"count\": \"1\", \"class\": \"Malacostraca\", \"kingdom\": \"Animalia\", \"genus\": \"Deutella\", \"species\": \"Incerta\", \"genus_and_species\": \"Deutella incerta\", \"type_status\": \"Holotipo\", \"determiner_first_and_last_name\": \"Fabio Mauro\", \"determiner_first_name\": \"Fabio\", \"determiner_last_name\": \"Mauro\", \"depth\": \"105\", \"species_author\": \"(Mayer, 1903)\", \"order\": \"Amphipoda\", \"suborder\": \"Nan\", \"infraorder\": \"Nan\", \"superfamily\": \"Nan\", \"family\": \"Caprellidae\", \"subfamily\": \"Caprellinae\", \"tribe\": \"Caprellini\", \"determined_year\": null, \"start_year\": 2009.0, \"holotipo_year\": \"1903\", \"counts\": 1}, {\"cataloged_year\": 1999, \"count\": \"1\", \"class\": \"Malacostraca\", \"kingdom\": \"Animalia\", \"genus\": \"Acanthoserolis\", \"species\": \"Polaris\", \"genus_and_species\": \"Acanthoserolis polaris\", \"type_status\": \"Holotipo\", \"determiner_first_and_last_name\": \"Ingrid Costa\", \"determiner_first_name\": \"Ingrid\", \"determiner_last_name\": \"Costa\", \"depth\": \"0\", \"species_author\": \"(Richardson, 1911)\", \"order\": \"Isopoda\", \"suborder\": \"Nan\", \"infraorder\": \"Nan\", \"superfamily\": \"Nan\", \"family\": \"Serolidae\", \"subfamily\": \"Serolinae\", \"tribe\": \"Serolini\", \"determined_year\": 2015.0, \"start_year\": 1992.0, \"holotipo_year\": \"1911\", \"counts\": 1}, {\"cataloged_year\": 2009, \"count\": \"30\", \"class\": \"Malacostraca\", \"kingdom\": \"Animalia\", \"genus\": \"Talitroides\", \"species\": \"Topitotum\", \"genus_and_species\": \"Talitroides topitotum\", \"type_status\": \"Holotipo\", \"determiner_first_and_last_name\": \"Cristiana Serejo\", \"determiner_first_name\": \"Cristiana\", \"determiner_last_name\": \"Serejo\", \"depth\": \"0\", \"species_author\": \"Burt, 1934\", \"order\": \"Amphipoda\", \"suborder\": \"Nan\", \"infraorder\": \"Nan\", \"superfamily\": \"Nan\", \"family\": \"Talitridae\", \"subfamily\": \"Talitrinae\", \"tribe\": \"Talitrini\", \"determined_year\": null, \"start_year\": 2000.0, \"holotipo_year\": \"1934\", \"counts\": 1}, {\"cataloged_year\": 1995, \"count\": \"1\", \"class\": \"Malacostraca\", \"kingdom\": \"Animalia\", \"genus\": \"Dolops\", \"species\": \"Carvalhoi\", \"genus_and_species\": \"Dolops carvalhoi\", \"type_status\": \"Holotipo\", \"determiner_first_and_last_name\": \"Alceu Castro\", \"determiner_first_name\": \"Alceu\", \"determiner_last_name\": \"Castro\", \"depth\": \"0\", \"species_author\": \"Lemos de Castro, 1949\", \"order\": \"Arguloida\", \"suborder\": \"Nan\", \"infraorder\": \"Nan\", \"superfamily\": \"Nan\", \"family\": \"Argulidae\", \"subfamily\": \"Argulinae\", \"tribe\": \"Argulini\", \"determined_year\": null, \"start_year\": 1947.0, \"holotipo_year\": \"1949\", \"counts\": 2}, {\"cataloged_year\": 1995, \"count\": \"1\", \"class\": \"Malacostraca\", \"kingdom\": \"Animalia\", \"genus\": \"Paradasygyius\", \"species\": \"Tuberculatus\", \"genus_and_species\": \"Paradasygyius tuberculatus\", \"type_status\": \"Holotipo\", \"determiner_first_and_last_name\": \"Alceu Castro\", \"determiner_first_name\": \"Alceu\", \"determiner_last_name\": \"Castro\", \"depth\": \"0\", \"species_author\": \"(Lemos de Castro, 1949)\", \"order\": \"Decapoda\", \"suborder\": \"Nan\", \"infraorder\": \"Nan\", \"superfamily\": \"Nan\", \"family\": \"Inachoididae\", \"subfamily\": \"Majinae\", \"tribe\": \"Majini\", \"determined_year\": null, \"start_year\": null, \"holotipo_year\": \"1949\", \"counts\": 2}, {\"cataloged_year\": 1995, \"count\": \"1\", \"class\": \"Malacostraca\", \"kingdom\": \"Animalia\", \"genus\": \"Argulus\", \"species\": \"Juparanaensis\", \"genus_and_species\": \"Argulus juparanaensis\", \"type_status\": \"Holotipo\", \"determiner_first_and_last_name\": \"Alceu Castro\", \"determiner_first_name\": \"Alceu\", \"determiner_last_name\": \"Castro\", \"depth\": \"0\", \"species_author\": \"Lemos de Castro, 1950\", \"order\": \"Arguloida\", \"suborder\": \"Nan\", \"infraorder\": \"Nan\", \"superfamily\": \"Nan\", \"family\": \"Argulidae\", \"subfamily\": \"Argulinae\", \"tribe\": \"Argulini\", \"determined_year\": null, \"start_year\": 1948.0, \"holotipo_year\": \"1950\", \"counts\": 1}, {\"cataloged_year\": 1995, \"count\": \"1\", \"class\": \"Malacostraca\", \"kingdom\": \"Animalia\", \"genus\": \"Meiosquilla\", \"species\": \"Schmittii\", \"genus_and_species\": \"Meiosquilla schmittii\", \"type_status\": \"Holotipo\", \"determiner_first_and_last_name\": \"Alceu Castro\", \"determiner_first_name\": \"Alceu\", \"determiner_last_name\": \"Castro\", \"depth\": \"0\", \"species_author\": \"(Lemos de Castro, 1955)\", \"order\": \"Stomatopoda\", \"suborder\": \"Nan\", \"infraorder\": \"Nan\", \"superfamily\": \"Nan\", \"family\": \"Squillidae\", \"subfamily\": \"Squillinae\", \"tribe\": \"Squillini\", \"determined_year\": null, \"start_year\": 1944.0, \"holotipo_year\": \"1955\", \"counts\": 3}, {\"cataloged_year\": 1995, \"count\": \"1\", \"class\": \"Malacostraca\", \"kingdom\": \"Animalia\", \"genus\": \"Ischioscia\", \"species\": \"Amazonica\", \"genus_and_species\": \"Ischioscia amazonica\", \"type_status\": \"Holotipo\", \"determiner_first_and_last_name\": \"Alceu Castro\", \"determiner_first_name\": \"Alceu\", \"determiner_last_name\": \"Castro\", \"depth\": \"0\", \"species_author\": \"Lemos de Castro, 1955\", \"order\": \"Isopoda\", \"suborder\": \"Nan\", \"infraorder\": \"Nan\", \"superfamily\": \"Nan\", \"family\": \"Philosciidae\", \"subfamily\": \"Philosciinae\", \"tribe\": \"Philosciini\", \"determined_year\": null, \"start_year\": 1950.0, \"holotipo_year\": \"1955\", \"counts\": 3}, {\"cataloged_year\": 1995, \"count\": \"1\", \"class\": \"Malacostraca\", \"kingdom\": \"Animalia\", \"genus\": \"Paracymothoa\", \"species\": \"Astyanaxi\", \"genus_and_species\": \"Paracymothoa astyanaxi\", \"type_status\": \"Holotipo\", \"determiner_first_and_last_name\": \"Alceu Castro\", \"determiner_first_name\": \"Alceu\", \"determiner_last_name\": \"Castro\", \"depth\": \"0\", \"species_author\": \"Lemos de Castro, 1955\", \"order\": \"Isopoda\", \"suborder\": \"Nan\", \"infraorder\": \"Nan\", \"superfamily\": \"Nan\", \"family\": \"Cymothoidae\", \"subfamily\": \"Cymothoinae\", \"tribe\": \"Cymothoini\", \"determined_year\": 1955.0, \"start_year\": 1953.0, \"holotipo_year\": \"1955\", \"counts\": 3}, {\"cataloged_year\": 2008, \"count\": \"1\", \"class\": \"Copepoda\", \"kingdom\": \"Animalia\", \"genus\": \"Attheyella (canthosella)\", \"species\": \"Aliena\", \"genus_and_species\": \"Attheyella (canthosella) aliena\", \"type_status\": \"Holotipo\", \"determiner_first_and_last_name\": \"S Gaviria\", \"determiner_first_name\": \"S\", \"determiner_last_name\": \"Gaviria\", \"depth\": \"0\", \"species_author\": \"Noodt, 1956\", \"order\": \"Cyclopoida\", \"suborder\": \"Nan\", \"infraorder\": \"Nan\", \"superfamily\": \"Nan\", \"family\": \"Cyclopidae\", \"subfamily\": \"Cyclopinae\", \"tribe\": \"Cyclopini\", \"determined_year\": null, \"start_year\": 1998.0, \"holotipo_year\": \"1956\", \"counts\": 1}, {\"cataloged_year\": 1995, \"count\": \"1\", \"class\": \"Malacostraca\", \"kingdom\": \"Animalia\", \"genus\": \"Benthana\", \"species\": \"Schubarti\", \"genus_and_species\": \"Benthana schubarti\", \"type_status\": \"Holotipo\", \"determiner_first_and_last_name\": \"Alceu Castro\", \"determiner_first_name\": \"Alceu\", \"determiner_last_name\": \"Castro\", \"depth\": \"0\", \"species_author\": \"Lemos de Castro, 1958\", \"order\": \"Isopoda\", \"suborder\": \"Nan\", \"infraorder\": \"Nan\", \"superfamily\": \"Nan\", \"family\": \"Philosciidae\", \"subfamily\": \"Philosciinae\", \"tribe\": \"Philosciini\", \"determined_year\": null, \"start_year\": null, \"holotipo_year\": \"1958\", \"counts\": 6}, {\"cataloged_year\": 1995, \"count\": \"1\", \"class\": \"Malacostraca\", \"kingdom\": \"Animalia\", \"genus\": \"Benthana\", \"species\": \"Albomarginata\", \"genus_and_species\": \"Benthana albomarginata\", \"type_status\": \"Holotipo\", \"determiner_first_and_last_name\": \"Alceu Castro\", \"determiner_first_name\": \"Alceu\", \"determiner_last_name\": \"Castro\", \"depth\": \"0\", \"species_author\": \"Lemos de Castro, 1958\", \"order\": \"Isopoda\", \"suborder\": \"Nan\", \"infraorder\": \"Nan\", \"superfamily\": \"Nan\", \"family\": \"Philosciidae\", \"subfamily\": \"Philosciinae\", \"tribe\": \"Philosciini\", \"determined_year\": 1958.0, \"start_year\": 1955.0, \"holotipo_year\": \"1958\", \"counts\": 6}, {\"cataloged_year\": 1995, \"count\": \"1\", \"class\": \"Malacostraca\", \"kingdom\": \"Animalia\", \"genus\": \"Benthana\", \"species\": \"Werneri\", \"genus_and_species\": \"Benthana werneri\", \"type_status\": \"Holotipo\", \"determiner_first_and_last_name\": \"Alceu Castro\", \"determiner_first_name\": \"Alceu\", \"determiner_last_name\": \"Castro\", \"depth\": \"0\", \"species_author\": \"Lemos de Castro, 1958\", \"order\": \"Isopoda\", \"suborder\": \"Nan\", \"infraorder\": \"Nan\", \"superfamily\": \"Nan\", \"family\": \"Philosciidae\", \"subfamily\": \"Philosciinae\", \"tribe\": \"Philosciini\", \"determined_year\": null, \"start_year\": null, \"holotipo_year\": \"1958\", \"counts\": 6}, {\"cataloged_year\": 1995, \"count\": \"1\", \"class\": \"Malacostraca\", \"kingdom\": \"Animalia\", \"genus\": \"Benthana\", \"species\": \"Longipenis\", \"genus_and_species\": \"Benthana longipenis\", \"type_status\": \"Holotipo\", \"determiner_first_and_last_name\": \"Alceu Castro\", \"determiner_first_name\": \"Alceu\", \"determiner_last_name\": \"Castro\", \"depth\": \"0\", \"species_author\": \"Lemos de Castro, 1958\", \"order\": \"Isopoda\", \"suborder\": \"Nan\", \"infraorder\": \"Nan\", \"superfamily\": \"Nan\", \"family\": \"Philosciidae\", \"subfamily\": \"Philosciinae\", \"tribe\": \"Philosciini\", \"determined_year\": null, \"start_year\": 1951.0, \"holotipo_year\": \"1958\", \"counts\": 6}, {\"cataloged_year\": 1995, \"count\": \"1\", \"class\": \"Malacostraca\", \"kingdom\": \"Animalia\", \"genus\": \"Benthana\", \"species\": \"Bocainensis\", \"genus_and_species\": \"Benthana bocainensis\", \"type_status\": \"Holotipo\", \"determiner_first_and_last_name\": \"Alceu Castro\", \"determiner_first_name\": \"Alceu\", \"determiner_last_name\": \"Castro\", \"depth\": \"0\", \"species_author\": \"Lemos de Castro, 1958\", \"order\": \"Isopoda\", \"suborder\": \"Nan\", \"infraorder\": \"Nan\", \"superfamily\": \"Nan\", \"family\": \"Philosciidae\", \"subfamily\": \"Philosciinae\", \"tribe\": \"Philosciini\", \"determined_year\": 1958.0, \"start_year\": 1950.0, \"holotipo_year\": \"1958\", \"counts\": 6}, {\"cataloged_year\": 1995, \"count\": \"1\", \"class\": \"Malacostraca\", \"kingdom\": \"Animalia\", \"genus\": \"Benthana\", \"species\": \"Convexa\", \"genus_and_species\": \"Benthana convexa\", \"type_status\": \"Holotipo\", \"determiner_first_and_last_name\": \"Alceu Castro\", \"determiner_first_name\": \"Alceu\", \"determiner_last_name\": \"Castro\", \"depth\": \"0\", \"species_author\": \"Lemos de Castro, 1958\", \"order\": \"Isopoda\", \"suborder\": \"Nan\", \"infraorder\": \"Nan\", \"superfamily\": \"Nan\", \"family\": \"Philosciidae\", \"subfamily\": \"Philosciinae\", \"tribe\": \"Philosciini\", \"determined_year\": null, \"start_year\": 1952.0, \"holotipo_year\": \"1958\", \"counts\": 6}, {\"cataloged_year\": 1995, \"count\": \"1\", \"class\": \"Malacostraca\", \"kingdom\": \"Animalia\", \"genus\": \"Phalloniscus\", \"species\": \"Dissimilis\", \"genus_and_species\": \"Phalloniscus dissimilis\", \"type_status\": \"Holotipo\", \"determiner_first_and_last_name\": \"Alceu Castro\", \"determiner_first_name\": \"Alceu\", \"determiner_last_name\": \"Castro\", \"depth\": \"0\", \"species_author\": \"Lemos de Castro, 1959\", \"order\": \"Isopoda\", \"suborder\": \"Nan\", \"infraorder\": \"Nan\", \"superfamily\": \"Nan\", \"family\": \"Oniscidae\", \"subfamily\": \"Oniscinae\", \"tribe\": \"Oniscini\", \"determined_year\": 1958.0, \"start_year\": 1951.0, \"holotipo_year\": \"1959\", \"counts\": 3}, {\"cataloged_year\": 1995, \"count\": \"1\", \"class\": \"Malacostraca\", \"kingdom\": \"Animalia\", \"genus\": \"Novamundoniscus\", \"species\": \"Vandeli\", \"genus_and_species\": \"Novamundoniscus vandeli\", \"type_status\": \"Holotipo\", \"determiner_first_and_last_name\": \"Alceu Castro\", \"determiner_first_name\": \"Alceu\", \"determiner_last_name\": \"Castro\", \"depth\": \"0\", \"species_author\": \"(Lemos de Castro, 1959)\", \"order\": \"Isopoda\", \"suborder\": \"Nan\", \"infraorder\": \"Nan\", \"superfamily\": \"Nan\", \"family\": \"Dubioniscidae\", \"subfamily\": \"Dubioniscinae\", \"tribe\": \"Dubioniscini\", \"determined_year\": null, \"start_year\": 1952.0, \"holotipo_year\": \"1959\", \"counts\": 3}, {\"cataloged_year\": 1995, \"count\": \"1\", \"class\": \"Malacostraca\", \"kingdom\": \"Animalia\", \"genus\": \"Ancinus\", \"species\": \"Brasiliensis\", \"genus_and_species\": \"Ancinus brasiliensis\", \"type_status\": \"Holotipo\", \"determiner_first_and_last_name\": \"Alceu Castro\", \"determiner_first_name\": \"Alceu\", \"determiner_last_name\": \"Castro\", \"depth\": \"1.5\", \"species_author\": \"Lemos de Castro, 1959\", \"order\": \"Isopoda\", \"suborder\": \"Nan\", \"infraorder\": \"Nan\", \"superfamily\": \"Nan\", \"family\": \"Ancinidae\", \"subfamily\": \"Sphaeromatinae\", \"tribe\": \"Sphaeromatini\", \"determined_year\": 1965.0, \"start_year\": 1959.0, \"holotipo_year\": \"1959\", \"counts\": 3}, {\"cataloged_year\": 1995, \"count\": \"1\", \"class\": \"Malacostraca\", \"kingdom\": \"Animalia\", \"genus\": \"Trichorhina\", \"species\": \"Heterophthalma\", \"genus_and_species\": \"Trichorhina heterophthalma\", \"type_status\": \"Holotipo\", \"determiner_first_and_last_name\": \"Alceu Castro\", \"determiner_first_name\": \"Alceu\", \"determiner_last_name\": \"Castro\", \"depth\": \"0\", \"species_author\": \"Lemos de Castro, 1964\", \"order\": \"Isopoda\", \"suborder\": \"Nan\", \"infraorder\": \"Nan\", \"superfamily\": \"Nan\", \"family\": \"Platyarthridae\", \"subfamily\": \"Platyarthrinae\", \"tribe\": \"Platyarthrini\", \"determined_year\": null, \"start_year\": 1958.0, \"holotipo_year\": \"1964\", \"counts\": 1}, {\"cataloged_year\": 1995, \"count\": \"1\", \"class\": \"Malacostraca\", \"kingdom\": \"Animalia\", \"genus\": \"Pseudostegias\", \"species\": \"Atlantica\", \"genus_and_species\": \"Pseudostegias atlantica\", \"type_status\": \"Holotipo\", \"determiner_first_and_last_name\": \"Alceu Castro\", \"determiner_first_name\": \"Alceu\", \"determiner_last_name\": \"Castro\", \"depth\": \"0\", \"species_author\": \"Lemos de Castro, 1965\", \"order\": \"Isopoda\", \"suborder\": \"Nan\", \"infraorder\": \"Nan\", \"superfamily\": \"Nan\", \"family\": \"Bopyridae\", \"subfamily\": \"Bopyrinae\", \"tribe\": \"Bopyrini\", \"determined_year\": 1965.0, \"start_year\": null, \"holotipo_year\": \"1965\", \"counts\": 1}, {\"cataloged_year\": 1994, \"count\": \"4\", \"class\": \"Malacostraca\", \"kingdom\": \"Animalia\", \"genus\": \"Oxyurostilis\", \"species\": \"Salinoi\", \"genus_and_species\": \"Oxyurostilis salinoi\", \"type_status\": \"Holotipo\", \"determiner_first_and_last_name\": \"Ivanilce Brum\", \"determiner_first_name\": \"Ivanilce\", \"determiner_last_name\": \"Brum\", \"depth\": \"6\", \"species_author\": \"Silva-Brum, 1966\", \"order\": \"Cumacea\", \"suborder\": \"Nan\", \"infraorder\": \"Nan\", \"superfamily\": \"Nan\", \"family\": \"Diastylidae\", \"subfamily\": \"Diastylinae\", \"tribe\": \"Diastylini\", \"determined_year\": 1966.0, \"start_year\": 1962.0, \"holotipo_year\": \"1966\", \"counts\": 1}, {\"cataloged_year\": 1995, \"count\": \"1\", \"class\": \"Malacostraca\", \"kingdom\": \"Animalia\", \"genus\": \"Novamundoniscus\", \"species\": \"Setosus\", \"genus_and_species\": \"Novamundoniscus setosus\", \"type_status\": \"Holotipo\", \"determiner_first_and_last_name\": \"Alceu Castro\", \"determiner_first_name\": \"Alceu\", \"determiner_last_name\": \"Castro\", \"depth\": \"0\", \"species_author\": \"(Lemos de Castro, 1967)\", \"order\": \"Isopoda\", \"suborder\": \"Nan\", \"infraorder\": \"Nan\", \"superfamily\": \"Nan\", \"family\": \"Dubioniscidae\", \"subfamily\": \"Dubioniscinae\", \"tribe\": \"Dubioniscini\", \"determined_year\": null, \"start_year\": 1956.0, \"holotipo_year\": \"1967\", \"counts\": 6}, {\"cataloged_year\": 1995, \"count\": \"1\", \"class\": \"Malacostraca\", \"kingdom\": \"Animalia\", \"genus\": \"Amazoniscus\", \"species\": \"Arlei\", \"genus_and_species\": \"Amazoniscus arlei\", \"type_status\": \"Holotipo\", \"determiner_first_and_last_name\": \"Alceu Castro\", \"determiner_first_name\": \"Alceu\", \"determiner_last_name\": \"Castro\", \"depth\": \"0\", \"species_author\": \"Lemos de Castro, 1967\", \"order\": \"Isopoda\", \"suborder\": \"Nan\", \"infraorder\": \"Nan\", \"superfamily\": \"Nan\", \"family\": \"Scleropactidae\", \"subfamily\": \"Scleropactinae\", \"tribe\": \"Scleropactini\", \"determined_year\": 1967.0, \"start_year\": 1959.0, \"holotipo_year\": \"1967\", \"counts\": 6}, {\"cataloged_year\": 1995, \"count\": \"1\", \"class\": \"Malacostraca\", \"kingdom\": \"Animalia\", \"genus\": \"Novamundoniscus\", \"species\": \"Singularis\", \"genus_and_species\": \"Novamundoniscus singularis\", \"type_status\": \"Holotipo\", \"determiner_first_and_last_name\": \"Alceu Castro\", \"determiner_first_name\": \"Alceu\", \"determiner_last_name\": \"Castro\", \"depth\": \"0\", \"species_author\": \"(Lemos de Castro, 1967)\", \"order\": \"Isopoda\", \"suborder\": \"Nan\", \"infraorder\": \"Nan\", \"superfamily\": \"Nan\", \"family\": \"Dubioniscidae\", \"subfamily\": \"Dubioniscinae\", \"tribe\": \"Dubioniscini\", \"determined_year\": null, \"start_year\": 1961.0, \"holotipo_year\": \"1967\", \"counts\": 6}, {\"cataloged_year\": 1995, \"count\": \"1\", \"class\": \"Malacostraca\", \"kingdom\": \"Animalia\", \"genus\": \"Parsphaeroniscus\", \"species\": \"Apeuensis\", \"genus_and_species\": \"Parsphaeroniscus apeuensis\", \"type_status\": \"Holotipo\", \"determiner_first_and_last_name\": \"Alceu Castro\", \"determiner_first_name\": \"Alceu\", \"determiner_last_name\": \"Castro\", \"depth\": \"0\", \"species_author\": \"Lemos de Castro, 1967\", \"order\": \"Isopoda\", \"suborder\": \"Nan\", \"infraorder\": \"Nan\", \"superfamily\": \"Nan\", \"family\": \"Eubelidae\", \"subfamily\": \"Eubelinae\", \"tribe\": \"Eubelini\", \"determined_year\": 1967.0, \"start_year\": 1964.0, \"holotipo_year\": \"1967\", \"counts\": 6}, {\"cataloged_year\": 1995, \"count\": \"1\", \"class\": \"Malacostraca\", \"kingdom\": \"Animalia\", \"genus\": \"Chaetophiloscia\", \"species\": \"Frontalis\", \"genus_and_species\": \"Chaetophiloscia frontalis\", \"type_status\": \"Holotipo\", \"determiner_first_and_last_name\": \"Alceu Castro\", \"determiner_first_name\": \"Alceu\", \"determiner_last_name\": \"Castro\", \"depth\": \"0\", \"species_author\": \"Lemos de Castro, 1967\", \"order\": \"Isopoda\", \"suborder\": \"Nan\", \"infraorder\": \"Nan\", \"superfamily\": \"Nan\", \"family\": \"Philosciidae\", \"subfamily\": \"Philosciinae\", \"tribe\": \"Philosciini\", \"determined_year\": 1967.0, \"start_year\": 1964.0, \"holotipo_year\": \"1967\", \"counts\": 6}, {\"cataloged_year\": 1995, \"count\": \"1\", \"class\": \"Malacostraca\", \"kingdom\": \"Animalia\", \"genus\": \"Hileioniscus\", \"species\": \"Goeldii\", \"genus_and_species\": \"Hileioniscus goeldii\", \"type_status\": \"Holotipo\", \"determiner_first_and_last_name\": \"Alceu Castro\", \"determiner_first_name\": \"Alceu\", \"determiner_last_name\": \"Castro\", \"depth\": \"0\", \"species_author\": \"Lemos de Castro, 1967\", \"order\": \"Isopoda\", \"suborder\": \"Nan\", \"infraorder\": \"Nan\", \"superfamily\": \"Nan\", \"family\": \"Bathytropidae\", \"subfamily\": \"Bathytropinae\", \"tribe\": \"Bathytropini\", \"determined_year\": 1967.0, \"start_year\": 1965.0, \"holotipo_year\": \"1967\", \"counts\": 6}, {\"cataloged_year\": 1994, \"count\": \"4\", \"class\": \"Malacostraca\", \"kingdom\": \"Animalia\", \"genus\": \"Upogebia\", \"species\": \"Omissa\", \"genus_and_species\": \"Upogebia omissa\", \"type_status\": \"Holotipo\", \"determiner_first_and_last_name\": \"Maria Correa\", \"determiner_first_name\": \"Maria\", \"determiner_last_name\": \"Correa\", \"depth\": \"0\", \"species_author\": \"Gomes Correa, 1968\", \"order\": \"Decapoda\", \"suborder\": \"Nan\", \"infraorder\": \"Nan\", \"superfamily\": \"Nan\", \"family\": \"Upogebiidae\", \"subfamily\": \"Upogebiinae\", \"tribe\": \"Upogebiini\", \"determined_year\": 1968.0, \"start_year\": 1964.0, \"holotipo_year\": \"1968\", \"counts\": 1}, {\"cataloged_year\": 1995, \"count\": \"1\", \"class\": \"Malacostraca\", \"kingdom\": \"Animalia\", \"genus\": \"Neotroponiscus\", \"species\": \"Perlatus\", \"genus_and_species\": \"Neotroponiscus perlatus\", \"type_status\": \"Holotipo\", \"determiner_first_and_last_name\": \"Alceu Castro\", \"determiner_first_name\": \"Alceu\", \"determiner_last_name\": \"Castro\", \"depth\": \"0\", \"species_author\": \"Lemos de Castro, 1970\", \"order\": \"Isopoda\", \"suborder\": \"Nan\", \"infraorder\": \"Nan\", \"superfamily\": \"Nan\", \"family\": \"Bathytropidae\", \"subfamily\": \"Bathytropinae\", \"tribe\": \"Bathytropini\", \"determined_year\": null, \"start_year\": 1944.0, \"holotipo_year\": \"1970\", \"counts\": 7}, {\"cataloged_year\": 1995, \"count\": \"1\", \"class\": \"Malacostraca\", \"kingdom\": \"Animalia\", \"genus\": \"Neotroponiscus\", \"species\": \"Lobatus\", \"genus_and_species\": \"Neotroponiscus lobatus\", \"type_status\": \"Holotipo\", \"determiner_first_and_last_name\": \"Alceu Castro\", \"determiner_first_name\": \"Alceu\", \"determiner_last_name\": \"Castro\", \"depth\": \"0\", \"species_author\": \"Lemos de Castro, 1970\", \"order\": \"Isopoda\", \"suborder\": \"Nan\", \"infraorder\": \"Nan\", \"superfamily\": \"Nan\", \"family\": \"Bathytropidae\", \"subfamily\": \"Bathytropinae\", \"tribe\": \"Bathytropini\", \"determined_year\": null, \"start_year\": 1957.0, \"holotipo_year\": \"1970\", \"counts\": 7}, {\"cataloged_year\": 1995, \"count\": \"1\", \"class\": \"Malacostraca\", \"kingdom\": \"Animalia\", \"genus\": \"Dubioniscus\", \"species\": \"Marmoratus\", \"genus_and_species\": \"Dubioniscus marmoratus\", \"type_status\": \"Holotipo\", \"determiner_first_and_last_name\": \"Alceu Castro\", \"determiner_first_name\": \"Alceu\", \"determiner_last_name\": \"Castro\", \"depth\": \"0\", \"species_author\": \"Lemos de Castro, 1970\", \"order\": \"Isopoda\", \"suborder\": \"Nan\", \"infraorder\": \"Nan\", \"superfamily\": \"Nan\", \"family\": \"Bathytropidae\", \"subfamily\": \"Bathytropinae\", \"tribe\": \"Bathytropini\", \"determined_year\": null, \"start_year\": 1963.0, \"holotipo_year\": \"1970\", \"counts\": 7}, {\"cataloged_year\": 1995, \"count\": \"1\", \"class\": \"Malacostraca\", \"kingdom\": \"Animalia\", \"genus\": \"Cabirops\", \"species\": \"Pseudioni\", \"genus_and_species\": \"Cabirops pseudioni\", \"type_status\": \"Holotipo\", \"determiner_first_and_last_name\": \"Alceu Castro\", \"determiner_first_name\": \"Alceu\", \"determiner_last_name\": \"Castro\", \"depth\": \"0\", \"species_author\": \"Lemos de Castro, 1970\", \"order\": \"Isopoda\", \"suborder\": \"Nan\", \"infraorder\": \"Nan\", \"superfamily\": \"Nan\", \"family\": \"Cabiropidae\", \"subfamily\": \"Cabiropsinae\", \"tribe\": \"Cabiropsini\", \"determined_year\": null, \"start_year\": 1964.0, \"holotipo_year\": \"1970\", \"counts\": 7}, {\"cataloged_year\": 1995, \"count\": \"1\", \"class\": \"Malacostraca\", \"kingdom\": \"Animalia\", \"genus\": \"Neotroponiscus\", \"species\": \"Lenkoi\", \"genus_and_species\": \"Neotroponiscus lenkoi\", \"type_status\": \"Holotipo\", \"determiner_first_and_last_name\": \"Alceu Castro\", \"determiner_first_name\": \"Alceu\", \"determiner_last_name\": \"Castro\", \"depth\": \"0\", \"species_author\": \"Lemos de Castro, 1970\", \"order\": \"Isopoda\", \"suborder\": \"Nan\", \"infraorder\": \"Nan\", \"superfamily\": \"Nan\", \"family\": \"Bathytropidae\", \"subfamily\": \"Bathytropinae\", \"tribe\": \"Bathytropini\", \"determined_year\": null, \"start_year\": 1964.0, \"holotipo_year\": \"1970\", \"counts\": 7}, {\"cataloged_year\": 1995, \"count\": \"1\", \"class\": \"Malacostraca\", \"kingdom\": \"Animalia\", \"genus\": \"Neotroponiscus\", \"species\": \"Littoralis\", \"genus_and_species\": \"Neotroponiscus littoralis\", \"type_status\": \"Holotipo\", \"determiner_first_and_last_name\": \"Alceu Castro\", \"determiner_first_name\": \"Alceu\", \"determiner_last_name\": \"Castro\", \"depth\": \"0\", \"species_author\": \"Lemos de Castro, 1970\", \"order\": \"Isopoda\", \"suborder\": \"Nan\", \"infraorder\": \"Nan\", \"superfamily\": \"Nan\", \"family\": \"Bathytropidae\", \"subfamily\": \"Bathytropinae\", \"tribe\": \"Bathytropini\", \"determined_year\": null, \"start_year\": 1965.0, \"holotipo_year\": \"1970\", \"counts\": 7}, {\"cataloged_year\": 1995, \"count\": \"1\", \"class\": \"Malacostraca\", \"kingdom\": \"Animalia\", \"genus\": \"Cabirops\", \"species\": \"Lobiformis\", \"genus_and_species\": \"Cabirops lobiformis\", \"type_status\": \"Holotipo\", \"determiner_first_and_last_name\": \"Alceu Castro\", \"determiner_first_name\": \"Alceu\", \"determiner_last_name\": \"Castro\", \"depth\": \"0\", \"species_author\": \"Lemos de Castro, 1970\", \"order\": \"Isopoda\", \"suborder\": \"Nan\", \"infraorder\": \"Nan\", \"superfamily\": \"Nan\", \"family\": \"Cabiropidae\", \"subfamily\": \"Cabiropsinae\", \"tribe\": \"Cabiropsini\", \"determined_year\": null, \"start_year\": null, \"holotipo_year\": \"1970\", \"counts\": 7}, {\"cataloged_year\": 2010, \"count\": \"1\", \"class\": \"Malacostraca\", \"kingdom\": \"Animalia\", \"genus\": \"Bathypalaemonella\", \"species\": \"Texana\", \"genus_and_species\": \"Bathypalaemonella texana\", \"type_status\": \"Holotipo\", \"determiner_first_and_last_name\": \"Irene Cardoso\", \"determiner_first_name\": \"Irene\", \"determiner_last_name\": \"Cardoso\", \"depth\": \"610\", \"species_author\": \"Pequegnat, 1970\", \"order\": \"Decapoda\", \"suborder\": \"Nan\", \"infraorder\": \"Nan\", \"superfamily\": \"Nan\", \"family\": \"Bathypalaemonellidae\", \"subfamily\": \"Bathypalaemonellinae\", \"tribe\": \"Bathypalaemonellini\", \"determined_year\": 2010.0, \"start_year\": 2008.0, \"holotipo_year\": \"1970\", \"counts\": 1}, {\"cataloged_year\": 1995, \"count\": \"1\", \"class\": \"Malacostraca\", \"kingdom\": \"Animalia\", \"genus\": \"Saltipedis (saltipedis)\", \"species\": \"Paulensis\", \"genus_and_species\": \"Saltipedis (saltipedis) paulensis\", \"type_status\": \"Holotipo\", \"determiner_first_and_last_name\": \"Ivanilce Brum\", \"determiner_first_name\": \"Ivanilce\", \"determiner_last_name\": \"Brum\", \"depth\": \"0\", \"species_author\": \"(Brum, 1971)\", \"order\": \"Tanaidacea\", \"suborder\": \"Nan\", \"infraorder\": \"Nan\", \"superfamily\": \"Nan\", \"family\": \"Parapseudidae\", \"subfamily\": \"Parapseudinae\", \"tribe\": \"Parapseudini\", \"determined_year\": 1971.0, \"start_year\": 1962.0, \"holotipo_year\": \"1971\", \"counts\": 2}, {\"cataloged_year\": 1994, \"count\": \"1\", \"class\": \"Malacostraca\", \"kingdom\": \"Animalia\", \"genus\": \"Makrokylindrus (makrokylindrus)\", \"species\": \"Bacescui\", \"genus_and_species\": \"Makrokylindrus (makrokylindrus) bacescui\", \"type_status\": \"Holotipo\", \"determiner_first_and_last_name\": \"Ivanilce Brum\", \"determiner_first_name\": \"Ivanilce\", \"determiner_last_name\": \"Brum\", \"depth\": \"18\", \"species_author\": \"Silva-Brum, 1971\", \"order\": \"Cumacea\", \"suborder\": \"Nan\", \"infraorder\": \"Nan\", \"superfamily\": \"Nan\", \"family\": \"Diastylidae\", \"subfamily\": \"Diastylinae\", \"tribe\": \"Diastylini\", \"determined_year\": 1971.0, \"start_year\": 1963.0, \"holotipo_year\": \"1971\", \"counts\": 2}, {\"cataloged_year\": 1995, \"count\": \"1\", \"class\": \"Malacostraca\", \"kingdom\": \"Animalia\", \"genus\": \"Reductoniscus\", \"species\": \"Gibbus\", \"genus_and_species\": \"Reductoniscus gibbus\", \"type_status\": \"Holotipo\", \"determiner_first_and_last_name\": \"Alceu Castro\", \"determiner_first_name\": \"Alceu\", \"determiner_last_name\": \"Castro\", \"depth\": \"0\", \"species_author\": \"(Lemos de Castro, 1972)\", \"order\": \"Isopoda\", \"suborder\": \"Nan\", \"infraorder\": \"Nan\", \"superfamily\": \"Nan\", \"family\": \"Oniscidae\", \"subfamily\": \"Oniscinae\", \"tribe\": \"Oniscini\", \"determined_year\": 1972.0, \"start_year\": 1961.0, \"holotipo_year\": \"1972\", \"counts\": 1}, {\"cataloged_year\": 1994, \"count\": \"4\", \"class\": \"Malacostraca\", \"kingdom\": \"Animalia\", \"genus\": \"Podochela\", \"species\": \"Brasiliensis\", \"genus_and_species\": \"Podochela brasiliensis\", \"type_status\": \"Holotipo\", \"determiner_first_and_last_name\": \"Petronio Coelho\", \"determiner_first_name\": \"Petronio\", \"determiner_last_name\": \"Coelho\", \"depth\": \"0\", \"species_author\": \"Coelho, 1972\", \"order\": \"Decapoda\", \"suborder\": \"Nan\", \"infraorder\": \"Nan\", \"superfamily\": \"Nan\", \"family\": \"Inachidae\", \"subfamily\": \"Majinae\", \"tribe\": \"Majini\", \"determined_year\": null, \"start_year\": 1967.0, \"holotipo_year\": \"1972\", \"counts\": 1}, {\"cataloged_year\": 1987, \"count\": \"1\", \"class\": \"Malacostraca\", \"kingdom\": \"Animalia\", \"genus\": \"Cryphiops\", \"species\": \"Brasiliensis\", \"genus_and_species\": \"Cryphiops brasiliensis\", \"type_status\": \"Holotipo\", \"determiner_first_and_last_name\": \"Maria Correa\", \"determiner_first_name\": \"Maria\", \"determiner_last_name\": \"Correa\", \"depth\": \"0\", \"species_author\": \"Gomes Correa, 1973\", \"order\": \"Decapoda\", \"suborder\": \"Nan\", \"infraorder\": \"Nan\", \"superfamily\": \"Nan\", \"family\": \"Palaemonidae\", \"subfamily\": \"Nan\", \"tribe\": \"Palaemonini\", \"determined_year\": null, \"start_year\": 1972.0, \"holotipo_year\": \"1973\", \"counts\": 1}, {\"cataloged_year\": 1994, \"count\": \"1\", \"class\": \"Malacostraca\", \"kingdom\": \"Animalia\", \"genus\": \"Parapagurapseudopsis\", \"species\": \"Carinatus\", \"genus_and_species\": \"Parapagurapseudopsis carinatus\", \"type_status\": \"Holotipo\", \"determiner_first_and_last_name\": \"Ivanilce Brum\", \"determiner_first_name\": \"Ivanilce\", \"determiner_last_name\": \"Brum\", \"depth\": \"0\", \"species_author\": \"Brum, 1973\", \"order\": \"Tanaidacea\", \"suborder\": \"Nan\", \"infraorder\": \"Nan\", \"superfamily\": \"Nan\", \"family\": \"Pagurapseudidae\", \"subfamily\": \"Pagurapseudinae\", \"tribe\": \"Pagurapseudini\", \"determined_year\": 1973.0, \"start_year\": 1969.0, \"holotipo_year\": \"1973\", \"counts\": 3}, {\"cataloged_year\": 1994, \"count\": \"1\", \"class\": \"Malacostraca\", \"kingdom\": \"Animalia\", \"genus\": \"Psammokalliapseudes\", \"species\": \"Granulosus\", \"genus_and_species\": \"Psammokalliapseudes granulosus\", \"type_status\": \"Holotipo\", \"determiner_first_and_last_name\": \"Ivanilce Brum\", \"determiner_first_name\": \"Ivanilce\", \"determiner_last_name\": \"Brum\", \"depth\": \"0\", \"species_author\": \"Brum, 1973\", \"order\": \"Tanaidacea\", \"suborder\": \"Nan\", \"infraorder\": \"Nan\", \"superfamily\": \"Nan\", \"family\": \"Kalliapseudidae\", \"subfamily\": \"Kalliapseudinae\", \"tribe\": \"Kalliapseudini\", \"determined_year\": 1973.0, \"start_year\": 1969.0, \"holotipo_year\": \"1973\", \"counts\": 3}, {\"cataloged_year\": 1995, \"count\": \"1\", \"class\": \"Malacostraca\", \"kingdom\": \"Animalia\", \"genus\": \"Brasiloniscus\", \"species\": \"Verrucosus\", \"genus_and_species\": \"Brasiloniscus verrucosus\", \"type_status\": \"Holotipo\", \"determiner_first_and_last_name\": \"Alceu Castro\", \"determiner_first_name\": \"Alceu\", \"determiner_last_name\": \"Castro\", \"depth\": \"0\", \"species_author\": \"Lemos de Castro, 1973\", \"order\": \"Isopoda\", \"suborder\": \"Nan\", \"infraorder\": \"Nan\", \"superfamily\": \"Nan\", \"family\": \"Pudeoniscidae\", \"subfamily\": \"Pudeoniscinae\", \"tribe\": \"Pudeoniscini\", \"determined_year\": null, \"start_year\": 1959.0, \"holotipo_year\": \"1973\", \"counts\": 3}, {\"cataloged_year\": 1995, \"count\": \"1\", \"class\": \"Malacostraca\", \"kingdom\": \"Animalia\", \"genus\": \"Pudeoniscus\", \"species\": \"Obscurus\", \"genus_and_species\": \"Pudeoniscus obscurus\", \"type_status\": \"Holotipo\", \"determiner_first_and_last_name\": \"Alceu Castro\", \"determiner_first_name\": \"Alceu\", \"determiner_last_name\": \"Castro\", \"depth\": \"0\", \"species_author\": \"Lemos de Castro, 1973\", \"order\": \"Isopoda\", \"suborder\": \"Nan\", \"infraorder\": \"Nan\", \"superfamily\": \"Nan\", \"family\": \"Pudeoniscidae\", \"subfamily\": \"Pudeoniscinae\", \"tribe\": \"Pudeoniscini\", \"determined_year\": null, \"start_year\": null, \"holotipo_year\": \"1973\", \"counts\": 3}, {\"cataloged_year\": 1995, \"count\": \"1\", \"class\": \"Malacostraca\", \"kingdom\": \"Animalia\", \"genus\": \"Brasiloniscus\", \"species\": \"Maculatus\", \"genus_and_species\": \"Brasiloniscus maculatus\", \"type_status\": \"Holotipo\", \"determiner_first_and_last_name\": \"Alceu Castro\", \"determiner_first_name\": \"Alceu\", \"determiner_last_name\": \"Castro\", \"depth\": \"0\", \"species_author\": \"Lemos de Castro, 1973\", \"order\": \"Isopoda\", \"suborder\": \"Nan\", \"infraorder\": \"Nan\", \"superfamily\": \"Nan\", \"family\": \"Pudeoniscidae\", \"subfamily\": \"Pudeoniscinae\", \"tribe\": \"Pudeoniscini\", \"determined_year\": null, \"start_year\": 1965.0, \"holotipo_year\": \"1973\", \"counts\": 3}, {\"cataloged_year\": 1994, \"count\": \"1\", \"class\": \"Malacostraca\", \"kingdom\": \"Animalia\", \"genus\": \"Parapseudes\", \"species\": \"Inermis\", \"genus_and_species\": \"Parapseudes inermis\", \"type_status\": \"Holotipo\", \"determiner_first_and_last_name\": \"Ivanilce Brum\", \"determiner_first_name\": \"Ivanilce\", \"determiner_last_name\": \"Brum\", \"depth\": \"0\", \"species_author\": \"(Brum, 1973)\", \"order\": \"Tanaidacea\", \"suborder\": \"Nan\", \"infraorder\": \"Nan\", \"superfamily\": \"Nan\", \"family\": \"Parapseudidae\", \"subfamily\": \"Apseudinae\", \"tribe\": \"Apseudini\", \"determined_year\": 1973.0, \"start_year\": 1969.0, \"holotipo_year\": \"1973\", \"counts\": 3}, {\"cataloged_year\": 1995, \"count\": \"1\", \"class\": \"Malacostraca\", \"kingdom\": \"Animalia\", \"genus\": \"Pleurocrypta\", \"species\": \"Meridionalis\", \"genus_and_species\": \"Pleurocrypta meridionalis\", \"type_status\": \"Holotipo\", \"determiner_first_and_last_name\": \"Alceu Castro\", \"determiner_first_name\": \"Alceu\", \"determiner_last_name\": \"Castro\", \"depth\": \"133\", \"species_author\": \"Lemos de Castro & Brasil Lima, 1974\", \"order\": \"Isopoda\", \"suborder\": \"Nan\", \"infraorder\": \"Nan\", \"superfamily\": \"Nan\", \"family\": \"Bopyridae\", \"subfamily\": \"Bopyrinae\", \"tribe\": \"Bopyrini\", \"determined_year\": null, \"start_year\": 1966.0, \"holotipo_year\": \"1974\", \"counts\": 2}, {\"cataloged_year\": 1995, \"count\": \"1\", \"class\": \"Malacostraca\", \"kingdom\": \"Animalia\", \"genus\": \"Probopyrus\", \"species\": \"Palaemoni\", \"genus_and_species\": \"Probopyrus palaemoni\", \"type_status\": \"Holotipo\", \"determiner_first_and_last_name\": \"Alceu Castro\", \"determiner_first_name\": \"Alceu\", \"determiner_last_name\": \"Castro\", \"depth\": \"0\", \"species_author\": \"Lemos de Castro & Brasil Lima, 1974\", \"order\": \"Isopoda\", \"suborder\": \"Nan\", \"infraorder\": \"Nan\", \"superfamily\": \"Nan\", \"family\": \"Bopyridae\", \"subfamily\": \"Bopyrinae\", \"tribe\": \"Bopyrini\", \"determined_year\": null, \"start_year\": 1973.0, \"holotipo_year\": \"1974\", \"counts\": 2}, {\"cataloged_year\": 1995, \"count\": \"1\", \"class\": \"Malacostraca\", \"kingdom\": \"Animalia\", \"genus\": \"Upogebione\", \"species\": \"Tropica\", \"genus_and_species\": \"Upogebione tropica\", \"type_status\": \"Holotipo\", \"determiner_first_and_last_name\": \"Alceu Castro\", \"determiner_first_name\": \"Alceu\", \"determiner_last_name\": \"Castro\", \"depth\": \"0\", \"species_author\": \"(Lemos de Castro & Brasil-Lima, 1975)\", \"order\": \"Isopoda\", \"suborder\": \"Nan\", \"infraorder\": \"Nan\", \"superfamily\": \"Nan\", \"family\": \"Bopyridae\", \"subfamily\": \"Bopyrinae\", \"tribe\": \"Bopyrini\", \"determined_year\": null, \"start_year\": 1964.0, \"holotipo_year\": \"1975\", \"counts\": 1}, {\"cataloged_year\": 1995, \"count\": \"1\", \"class\": \"Malacostraca\", \"kingdom\": \"Animalia\", \"genus\": \"Spelaeogammarus\", \"species\": \"Bahiensis\", \"genus_and_species\": \"Spelaeogammarus bahiensis\", \"type_status\": \"Holotipo\", \"determiner_first_and_last_name\": \"Ivanilce Brum\", \"determiner_first_name\": \"Ivanilce\", \"determiner_last_name\": \"Brum\", \"depth\": \"0\", \"species_author\": \"Brum, 1975\", \"order\": \"Amphipoda\", \"suborder\": \"Nan\", \"infraorder\": \"Nan\", \"superfamily\": \"Nan\", \"family\": \"Bogidiellidae\", \"subfamily\": \"Bogidiellinae\", \"tribe\": \"Bogidiellini\", \"determined_year\": 1975.0, \"start_year\": null, \"holotipo_year\": \"1975\", \"counts\": 1}, {\"cataloged_year\": 1995, \"count\": \"1\", \"class\": \"Malacostraca\", \"kingdom\": \"Animalia\", \"genus\": \"Metacirolana\", \"species\": \"Riobaldoi\", \"genus_and_species\": \"Metacirolana riobaldoi\", \"type_status\": \"Holotipo\", \"determiner_first_and_last_name\": \"Alceu Castro\", \"determiner_first_name\": \"Alceu\", \"determiner_last_name\": \"Castro\", \"depth\": \"0\", \"species_author\": \"(Lemos de Castro & Brasil-Lima, 1976)\", \"order\": \"Isopoda\", \"suborder\": \"Nan\", \"infraorder\": \"Nan\", \"superfamily\": \"Nan\", \"family\": \"Cirolanidae\", \"subfamily\": \"Cirolaninae\", \"tribe\": \"Cirolanini\", \"determined_year\": null, \"start_year\": 1974.0, \"holotipo_year\": \"1976\", \"counts\": 1}, {\"cataloged_year\": 1995, \"count\": \"1\", \"class\": \"Malacostraca\", \"kingdom\": \"Animalia\", \"genus\": \"Paraleiopus\", \"species\": \"Macrochelis\", \"genus_and_species\": \"Paraleiopus macrochelis\", \"type_status\": \"Holotipo\", \"determiner_first_and_last_name\": \"Ivanilce Brum\", \"determiner_first_name\": \"Ivanilce\", \"determiner_last_name\": \"Brum\", \"depth\": \"0\", \"species_author\": \"Silva-brum, 1978\", \"order\": \"Tanaidacea\", \"suborder\": \"Nan\", \"infraorder\": \"Nan\", \"superfamily\": \"Nan\", \"family\": \"Kalliapseudidae\", \"subfamily\": \"Leiopinae\", \"tribe\": \"Leiopini\", \"determined_year\": 1978.0, \"start_year\": 1973.0, \"holotipo_year\": \"1978\", \"counts\": 1}, {\"cataloged_year\": 1995, \"count\": \"1\", \"class\": \"Malacostraca\", \"kingdom\": \"Animalia\", \"genus\": \"Coxicerberus\", \"species\": \"Parvulus\", \"genus_and_species\": \"Coxicerberus parvulus\", \"type_status\": \"Holotipo\", \"determiner_first_and_last_name\": \"Elaine Albuquerque\", \"determiner_first_name\": \"Elaine\", \"determiner_last_name\": \"Albuquerque\", \"depth\": \"0\", \"species_author\": \"Albuquerque, 1978\", \"order\": \"Isopoda\", \"suborder\": \"Nan\", \"infraorder\": \"Nan\", \"superfamily\": \"Nan\", \"family\": \"Microcerberidae\", \"subfamily\": \"Microcerberinae\", \"tribe\": \"Microcerberini\", \"determined_year\": null, \"start_year\": 1976.0, \"holotipo_year\": \"1978\", \"counts\": 4}, {\"cataloged_year\": 1995, \"count\": \"1\", \"class\": \"Malacostraca\", \"kingdom\": \"Animalia\", \"genus\": \"Coxicerberus\", \"species\": \"Brasiliensis\", \"genus_and_species\": \"Coxicerberus brasiliensis\", \"type_status\": \"Holotipo\", \"determiner_first_and_last_name\": \"Elaine Albuquerque\", \"determiner_first_name\": \"Elaine\", \"determiner_last_name\": \"Albuquerque\", \"depth\": \"0\", \"species_author\": \"Albuquerque, 1978\", \"order\": \"Isopoda\", \"suborder\": \"Nan\", \"infraorder\": \"Nan\", \"superfamily\": \"Nan\", \"family\": \"Microcerberidae\", \"subfamily\": \"Microcerberinae\", \"tribe\": \"Microcerberini\", \"determined_year\": null, \"start_year\": 1976.0, \"holotipo_year\": \"1978\", \"counts\": 4}, {\"cataloged_year\": 1995, \"count\": \"1\", \"class\": \"Malacostraca\", \"kingdom\": \"Animalia\", \"genus\": \"Coxicerberus\", \"species\": \"Magnus\", \"genus_and_species\": \"Coxicerberus magnus\", \"type_status\": \"Holotipo\", \"determiner_first_and_last_name\": \"Elaine Albuquerque\", \"determiner_first_name\": \"Elaine\", \"determiner_last_name\": \"Albuquerque\", \"depth\": \"0\", \"species_author\": \"Albuquerque, 1978\", \"order\": \"Isopoda\", \"suborder\": \"Nan\", \"infraorder\": \"Nan\", \"superfamily\": \"Nan\", \"family\": \"Microcerberidae\", \"subfamily\": \"Microcerberinae\", \"tribe\": \"Microcerberini\", \"determined_year\": null, \"start_year\": 1976.0, \"holotipo_year\": \"1978\", \"counts\": 4}, {\"cataloged_year\": 1995, \"count\": \"1\", \"class\": \"Malacostraca\", \"kingdom\": \"Animalia\", \"genus\": \"Bathynomus\", \"species\": \"Miyarei\", \"genus_and_species\": \"Bathynomus miyarei\", \"type_status\": \"Holotipo\", \"determiner_first_and_last_name\": \"Alceu Castro\", \"determiner_first_name\": \"Alceu\", \"determiner_last_name\": \"Castro\", \"depth\": \"280\", \"species_author\": \"Lemos de Castro, 1978\", \"order\": \"Isopoda\", \"suborder\": \"Nan\", \"infraorder\": \"Nan\", \"superfamily\": \"Nan\", \"family\": \"Cirolanidae\", \"subfamily\": \"Cirolaninae\", \"tribe\": \"Cirolanini\", \"determined_year\": 1978.0, \"start_year\": 1973.0, \"holotipo_year\": \"1978\", \"counts\": 1}, {\"cataloged_year\": 1995, \"count\": \"1\", \"class\": \"Malacostraca\", \"kingdom\": \"Animalia\", \"genus\": \"Coxicerberus\", \"species\": \"Ramosae\", \"genus_and_species\": \"Coxicerberus ramosae\", \"type_status\": \"Holotipo\", \"determiner_first_and_last_name\": \"Elaine Albuquerque\", \"determiner_first_name\": \"Elaine\", \"determiner_last_name\": \"Albuquerque\", \"depth\": \"0\", \"species_author\": \"Albuquerque, 1978\", \"order\": \"Isopoda\", \"suborder\": \"Nan\", \"infraorder\": \"Nan\", \"superfamily\": \"Nan\", \"family\": \"Microcerberidae\", \"subfamily\": \"Microcerberinae\", \"tribe\": \"Microcerberini\", \"determined_year\": null, \"start_year\": 1976.0, \"holotipo_year\": \"1978\", \"counts\": 4}, {\"cataloged_year\": 2007, \"count\": \"4\", \"class\": \"Malacostraca\", \"kingdom\": \"Animalia\", \"genus\": \"Pseudopalaemon\", \"species\": \"Amazonensis\", \"genus_and_species\": \"Pseudopalaemon amazonensis\", \"type_status\": \"Holotipo\", \"determiner_first_and_last_name\": \"Jesser Filho\", \"determiner_first_name\": \"Jesser\", \"determiner_last_name\": \"Filho\", \"depth\": \"0\", \"species_author\": \"Ramos-Porto, 1979\", \"order\": \"Decapoda\", \"suborder\": \"Nan\", \"infraorder\": \"Nan\", \"superfamily\": \"Nan\", \"family\": \"Palaemonidae\", \"subfamily\": \"Palaemoninae\", \"tribe\": \"Palaemonini\", \"determined_year\": 2007.0, \"start_year\": 1986.0, \"holotipo_year\": \"1979\", \"counts\": 1}, {\"cataloged_year\": 1995, \"count\": \"1\", \"class\": \"Malacostraca\", \"kingdom\": \"Animalia\", \"genus\": \"Hemicepon\", \"species\": \"Muelleri\", \"genus_and_species\": \"Hemicepon muelleri\", \"type_status\": \"Holotipo\", \"determiner_first_and_last_name\": \"Alceu Castro\", \"determiner_first_name\": \"Alceu\", \"determiner_last_name\": \"Castro\", \"depth\": \"0\", \"species_author\": \"Lemos de Castro & Brasil-Lima, 1980\", \"order\": \"Isopoda\", \"suborder\": \"Nan\", \"infraorder\": \"Nan\", \"superfamily\": \"Nan\", \"family\": \"Bopyridae\", \"subfamily\": \"Bopyrinae\", \"tribe\": \"Bopyrini\", \"determined_year\": null, \"start_year\": 1959.0, \"holotipo_year\": \"1980\", \"counts\": 1}, {\"cataloged_year\": 1995, \"count\": \"1\", \"class\": \"Malacostraca\", \"kingdom\": \"Animalia\", \"genus\": \"Castrione\", \"species\": \"Longicaudata\", \"genus_and_species\": \"Castrione longicaudata\", \"type_status\": \"Holotipo\", \"determiner_first_and_last_name\": \"I Lima\", \"determiner_first_name\": \"I\", \"determiner_last_name\": \"Lima\", \"depth\": \"0\", \"species_author\": \"Brasil-Lima, 1980\", \"order\": \"Isopoda\", \"suborder\": \"Nan\", \"infraorder\": \"Nan\", \"superfamily\": \"Nan\", \"family\": \"Bopyridae\", \"subfamily\": \"Bopyrinae\", \"tribe\": \"Bopyrini\", \"determined_year\": null, \"start_year\": null, \"holotipo_year\": \"1980\", \"counts\": 1}, {\"cataloged_year\": 1998, \"count\": \"1\", \"class\": \"Malacostraca\", \"kingdom\": \"Animalia\", \"genus\": \"Benthana\", \"species\": \"Dimorpha\", \"genus_and_species\": \"Benthana dimorpha\", \"type_status\": \"Holotipo\", \"determiner_first_and_last_name\": \"Alceu Castro\", \"determiner_first_name\": \"Alceu\", \"determiner_last_name\": \"Castro\", \"depth\": \"0\", \"species_author\": \"Lemos de Castro, 1985\", \"order\": \"Isopoda\", \"suborder\": \"Nan\", \"infraorder\": \"Nan\", \"superfamily\": \"Nan\", \"family\": \"Philosciidae\", \"subfamily\": \"Philosciinae\", \"tribe\": \"Philosciini\", \"determined_year\": null, \"start_year\": 1956.0, \"holotipo_year\": \"1985\", \"counts\": 1}, {\"cataloged_year\": 1997, \"count\": \"4\", \"class\": \"Malacostraca\", \"kingdom\": \"Animalia\", \"genus\": \"Prosekia\", \"species\": \"Silvatica\", \"genus_and_species\": \"Prosekia silvatica\", \"type_status\": \"Holotipo\", \"determiner_first_and_last_name\": \"Alceu Castro\", \"determiner_first_name\": \"Alceu\", \"determiner_last_name\": \"Castro\", \"depth\": \"0\", \"species_author\": \"Lemos de Castro & Souza, 1986\", \"order\": \"Isopoda\", \"suborder\": \"Nan\", \"infraorder\": \"Nan\", \"superfamily\": \"Nan\", \"family\": \"Philosciidae\", \"subfamily\": \"Philosciinae\", \"tribe\": \"Philosciini\", \"determined_year\": null, \"start_year\": 1966.0, \"holotipo_year\": \"1986\", \"counts\": 1}, {\"cataloged_year\": 1995, \"count\": \"1\", \"class\": \"Malacostraca\", \"kingdom\": \"Animalia\", \"genus\": \"Rocinela\", \"species\": \"Tropica\", \"genus_and_species\": \"Rocinela tropica\", \"type_status\": \"Holotipo\", \"determiner_first_and_last_name\": \"I Lima\", \"determiner_first_name\": \"I\", \"determiner_last_name\": \"Lima\", \"depth\": \"0\", \"species_author\": \"Brasil-Lima, 1986\", \"order\": \"Isopoda\", \"suborder\": \"Nan\", \"infraorder\": \"Nan\", \"superfamily\": \"Nan\", \"family\": \"Aegidae\", \"subfamily\": \"Aeginae\", \"tribe\": \"Aegini\", \"determined_year\": null, \"start_year\": null, \"holotipo_year\": \"1986\", \"counts\": 2}, {\"cataloged_year\": 1995, \"count\": \"1\", \"class\": \"Malacostraca\", \"kingdom\": \"Animalia\", \"genus\": \"Rocinela\", \"species\": \"Patriciae\", \"genus_and_species\": \"Rocinela patriciae\", \"type_status\": \"Holotipo\", \"determiner_first_and_last_name\": \"I Lima\", \"determiner_first_name\": \"I\", \"determiner_last_name\": \"Lima\", \"depth\": \"0\", \"species_author\": \"Brasil-Lima, 1986\", \"order\": \"Isopoda\", \"suborder\": \"Nan\", \"infraorder\": \"Nan\", \"superfamily\": \"Nan\", \"family\": \"Aegidae\", \"subfamily\": \"Aeginae\", \"tribe\": \"Aegini\", \"determined_year\": null, \"start_year\": null, \"holotipo_year\": \"1986\", \"counts\": 2}, {\"cataloged_year\": 1994, \"count\": \"1\", \"class\": \"Malacostraca\", \"kingdom\": \"Animalia\", \"genus\": \"Vadosiapus\", \"species\": \"Copacabanus\", \"genus_and_species\": \"Vadosiapus copacabanus\", \"type_status\": \"Holotipo\", \"determiner_first_and_last_name\": \"James Barnard\", \"determiner_first_name\": \"James\", \"determiner_last_name\": \"Barnard\", \"depth\": \"0\", \"species_author\": \"Barnard & Thomas, 1988\", \"order\": \"Amphipoda\", \"suborder\": \"Nan\", \"infraorder\": \"Nan\", \"superfamily\": \"Nan\", \"family\": \"E0oedicerotidae\", \"subfamily\": \"Exoegicerotinae\", \"tribe\": \"Exoegicerotini\", \"determined_year\": 1987.0, \"start_year\": 1985.0, \"holotipo_year\": \"1988\", \"counts\": 2}, {\"cataloged_year\": 1995, \"count\": \"1\", \"class\": \"Malacostraca\", \"kingdom\": \"Animalia\", \"genus\": \"Ipanema\", \"species\": \"Talpa\", \"genus_and_species\": \"Ipanema talpa\", \"type_status\": \"Holotipo\", \"determiner_first_and_last_name\": \"James Barnard\", \"determiner_first_name\": \"James\", \"determiner_last_name\": \"Barnard\", \"depth\": \"0\", \"species_author\": \"Barnard & Thomas, 1988\", \"order\": \"Amphipoda\", \"suborder\": \"Nan\", \"infraorder\": \"Nan\", \"superfamily\": \"Nan\", \"family\": \"Ipanemidae\", \"subfamily\": \"Ipaneminae\", \"tribe\": \"Ipanemini\", \"determined_year\": null, \"start_year\": null, \"holotipo_year\": \"1988\", \"counts\": 2}, {\"cataloged_year\": 1980, \"count\": \"1\", \"class\": \"Malacostraca\", \"kingdom\": \"Animalia\", \"genus\": \"Chaceon\", \"species\": \"Ramosae\", \"genus_and_species\": \"Chaceon ramosae\", \"type_status\": \"Holotipo\", \"determiner_first_and_last_name\": \"Equipe Mnrj\", \"determiner_first_name\": \"Equipe\", \"determiner_last_name\": \"Mnrj\", \"depth\": \"0\", \"species_author\": \"Manning, Tavares & Albuquerque, 1989\", \"order\": \"Decapoda\", \"suborder\": \"Nan\", \"infraorder\": \"Nan\", \"superfamily\": \"Nan\", \"family\": \"Geryonidae\", \"subfamily\": \"Geryoninae\", \"tribe\": \"Geryonini\", \"determined_year\": null, \"start_year\": 1987.0, \"holotipo_year\": \"1989\", \"counts\": 1}, {\"cataloged_year\": 1994, \"count\": \"1\", \"class\": \"Malacostraca\", \"kingdom\": \"Animalia\", \"genus\": \"Circoniscus\", \"species\": \"Incisus\", \"genus_and_species\": \"Circoniscus incisus\", \"type_status\": \"Holotipo\", \"determiner_first_and_last_name\": \"Luiz Souza\", \"determiner_first_name\": \"Luiz\", \"determiner_last_name\": \"Souza\", \"depth\": \"0\", \"species_author\": \"Souza & Lemos de Castro, 1991\", \"order\": \"Isopoda\", \"suborder\": \"Nan\", \"infraorder\": \"Nan\", \"superfamily\": \"Nan\", \"family\": \"Scleropactidae\", \"subfamily\": \"Scleropactinae\", \"tribe\": \"Scleropactini\", \"determined_year\": null, \"start_year\": null, \"holotipo_year\": \"1991\", \"counts\": 2}, {\"cataloged_year\": 1994, \"count\": \"1\", \"class\": \"Malacostraca\", \"kingdom\": \"Animalia\", \"genus\": \"Circoniscus\", \"species\": \"Intermedius\", \"genus_and_species\": \"Circoniscus intermedius\", \"type_status\": \"Holotipo\", \"determiner_first_and_last_name\": \"Luiz Souza\", \"determiner_first_name\": \"Luiz\", \"determiner_last_name\": \"Souza\", \"depth\": \"0\", \"species_author\": \"Souza & Lemos de Castro, 1991\", \"order\": \"Isopoda\", \"suborder\": \"Nan\", \"infraorder\": \"Nan\", \"superfamily\": \"Nan\", \"family\": \"Scleropactidae\", \"subfamily\": \"Scleropactinae\", \"tribe\": \"Scleropactini\", \"determined_year\": null, \"start_year\": 1979.0, \"holotipo_year\": \"1991\", \"counts\": 2}, {\"cataloged_year\": 1994, \"count\": \"1\", \"class\": \"Maxillopoda\", \"kingdom\": \"Animalia\", \"genus\": \"Circoniscus\", \"species\": \"Gracilidens\", \"genus_and_species\": \"Circoniscus gracilidens\", \"type_status\": \"Holotipo\", \"determiner_first_and_last_name\": \"Alceu Castro\", \"determiner_first_name\": \"Alceu\", \"determiner_last_name\": \"Castro\", \"depth\": \"0\", \"species_author\": \"Souza & Lemos de Castro, 1991\", \"order\": \"Isopoda\", \"suborder\": \"Nan\", \"infraorder\": \"Nan\", \"superfamily\": \"Nan\", \"family\": \"Scleropactidae\", \"subfamily\": \"Scleropactinae\", \"tribe\": \"Scleropactini\", \"determined_year\": null, \"start_year\": 1939.0, \"holotipo_year\": \"1991\", \"counts\": 1}, {\"cataloged_year\": 2009, \"count\": \"1\", \"class\": \"Malacostraca\", \"kingdom\": \"Animalia\", \"genus\": \"Rochinia\", \"species\": \"Confusa\", \"genus_and_species\": \"Rochinia confusa\", \"type_status\": \"Holotipo\", \"determiner_first_and_last_name\": \"Cristiana Serejo\", \"determiner_first_name\": \"Cristiana\", \"determiner_last_name\": \"Serejo\", \"depth\": \"0\", \"species_author\": \"Tavares, 1991\", \"order\": \"Decapoda\", \"suborder\": \"Nan\", \"infraorder\": \"Nan\", \"superfamily\": \"Nan\", \"family\": \"Epialtidae\", \"subfamily\": \"Majinae\", \"tribe\": \"Majini\", \"determined_year\": null, \"start_year\": 1987.0, \"holotipo_year\": \"1991\", \"counts\": 1}, {\"cataloged_year\": 1995, \"count\": \"1\", \"class\": \"Malacostraca\", \"kingdom\": \"Animalia\", \"genus\": \"Benthana\", \"species\": \"Iporangensis\", \"genus_and_species\": \"Benthana iporangensis\", \"type_status\": \"Holotipo\", \"determiner_first_and_last_name\": \"I Lima\", \"determiner_first_name\": \"I\", \"determiner_last_name\": \"Lima\", \"depth\": \"0\", \"species_author\": \"Brasil-Lima & Serejo, 1993\", \"order\": \"Isopoda\", \"suborder\": \"Nan\", \"infraorder\": \"Nan\", \"superfamily\": \"Nan\", \"family\": \"Philosciidae\", \"subfamily\": \"Philosciinae\", \"tribe\": \"Philosciini\", \"determined_year\": null, \"start_year\": 1983.0, \"holotipo_year\": \"1993\", \"counts\": 1}, {\"cataloged_year\": 1994, \"count\": \"4\", \"class\": \"Malacostraca\", \"kingdom\": \"Animalia\", \"genus\": \"Trichorhina\", \"species\": \"Macrops\", \"genus_and_species\": \"Trichorhina macrops\", \"type_status\": \"Holotipo\", \"determiner_first_and_last_name\": \"L Kury\", \"determiner_first_name\": \"L\", \"determiner_last_name\": \"Kury\", \"depth\": \"0\", \"species_author\": \"Souza-Kury, 1993\", \"order\": \"Isopoda\", \"suborder\": \"Nan\", \"infraorder\": \"Nan\", \"superfamily\": \"Nan\", \"family\": \"Platyarthridae\", \"subfamily\": \"Platyarthrinae\", \"tribe\": \"Platyarthrini\", \"determined_year\": 1991.0, \"start_year\": 1980.0, \"holotipo_year\": \"1993\", \"counts\": 1}, {\"cataloged_year\": 1995, \"count\": \"1\", \"class\": \"Malacostraca\", \"kingdom\": \"Animalia\", \"genus\": \"Podocerus\", \"species\": \"Fissipes\", \"genus_and_species\": \"Podocerus fissipes\", \"type_status\": \"Holotipo\", \"determiner_first_and_last_name\": \"Cristiana Serejo\", \"determiner_first_name\": \"Cristiana\", \"determiner_last_name\": \"Serejo\", \"depth\": \"0\", \"species_author\": \"Serejo, 1996\", \"order\": \"Amphipoda\", \"suborder\": \"Nan\", \"infraorder\": \"Nan\", \"superfamily\": \"Nan\", \"family\": \"Podoceridae\", \"subfamily\": \"Podocerinae\", \"tribe\": \"Podocerini\", \"determined_year\": 1995.0, \"start_year\": 1994.0, \"holotipo_year\": \"1996\", \"counts\": 1}, {\"cataloged_year\": 1994, \"count\": \"4\", \"class\": \"Copepoda\", \"kingdom\": \"Animalia\", \"genus\": \"Caligus\", \"species\": \"Sepetibensis\", \"genus_and_species\": \"Caligus sepetibensis\", \"type_status\": \"Holotipo\", \"determiner_first_and_last_name\": \"Jose Luque\", \"determiner_first_name\": \"Jose\", \"determiner_last_name\": \"Luque\", \"depth\": \"0\", \"species_author\": \"Luque & Takemoto, 1996\", \"order\": \"Siphonostomatoida\", \"suborder\": \"Nan\", \"infraorder\": \"Nan\", \"superfamily\": \"Nan\", \"family\": \"Caligidae\", \"subfamily\": \"Caliginae\", \"tribe\": \"Caligini\", \"determined_year\": null, \"start_year\": 1991.0, \"holotipo_year\": \"1996\", \"counts\": 1}, {\"cataloged_year\": 1994, \"count\": \"1\", \"class\": \"Branchiopoda\", \"kingdom\": \"Animalia\", \"genus\": \"Dendrocephalus\", \"species\": \"Goiasensis\", \"genus_and_species\": \"Dendrocephalus goiasensis\", \"type_status\": \"Holotipo\", \"determiner_first_and_last_name\": \"Nicolas Rabet\", \"determiner_first_name\": \"Nicolas\", \"determiner_last_name\": \"Rabet\", \"depth\": \"0\", \"species_author\": \"Rabet & Thiery, 1996\", \"order\": \"Anostraca\", \"suborder\": \"Nan\", \"infraorder\": \"Nan\", \"superfamily\": \"Nan\", \"family\": \"Thamnocephalidae\", \"subfamily\": \"Thamnocephalinae\", \"tribe\": \"Thamnocephalini\", \"determined_year\": 1993.0, \"start_year\": 1989.0, \"holotipo_year\": \"1996\", \"counts\": 2}, {\"cataloged_year\": 1994, \"count\": \"1\", \"class\": \"Branchiopoda\", \"kingdom\": \"Animalia\", \"genus\": \"Dendrocephalus\", \"species\": \"Orientalis\", \"genus_and_species\": \"Dendrocephalus orientalis\", \"type_status\": \"Holotipo\", \"determiner_first_and_last_name\": \"Nicolas Rabet\", \"determiner_first_name\": \"Nicolas\", \"determiner_last_name\": \"Rabet\", \"depth\": \"0\", \"species_author\": \"Rabet & Thiery, 1996\", \"order\": \"Anostraca\", \"suborder\": \"Nan\", \"infraorder\": \"Nan\", \"superfamily\": \"Nan\", \"family\": \"Thamnocephalidae\", \"subfamily\": \"Thamnocephalinae\", \"tribe\": \"Thamnocephalini\", \"determined_year\": 1993.0, \"start_year\": 1993.0, \"holotipo_year\": \"1996\", \"counts\": 2}, {\"cataloged_year\": 1994, \"count\": \"4\", \"class\": \"Malacostraca\", \"kingdom\": \"Animalia\", \"genus\": \"Trichorhina\", \"species\": \"Amazonica\", \"genus_and_species\": \"Trichorhina amazonica\", \"type_status\": \"Holotipo\", \"determiner_first_and_last_name\": \"L Kury\", \"determiner_first_name\": \"L\", \"determiner_last_name\": \"Kury\", \"depth\": \"0\", \"species_author\": \"Souza-Kury, 1997\", \"order\": \"Isopoda\", \"suborder\": \"Nan\", \"infraorder\": \"Nan\", \"superfamily\": \"Nan\", \"family\": \"Platyarthridae\", \"subfamily\": \"Platyarthrinae\", \"tribe\": \"Platyarthrini\", \"determined_year\": 1991.0, \"start_year\": null, \"holotipo_year\": \"1997\", \"counts\": 2}, {\"cataloged_year\": 2009, \"count\": \"1\", \"class\": \"Malacostraca\", \"kingdom\": \"Animalia\", \"genus\": \"Bathyarctus\", \"species\": \"Ramosae\", \"genus_and_species\": \"Bathyarctus ramosae\", \"type_status\": \"Holotipo\", \"determiner_first_and_last_name\": \"Cristiana Serejo\", \"determiner_first_name\": \"Cristiana\", \"determiner_last_name\": \"Serejo\", \"depth\": \"0\", \"species_author\": \"(Tavares, 1997)\", \"order\": \"Decapoda\", \"suborder\": \"Nan\", \"infraorder\": \"Nan\", \"superfamily\": \"Nan\", \"family\": \"Scyllaridae\", \"subfamily\": \"Scyllarinae\", \"tribe\": \"Scyllarini\", \"determined_year\": null, \"start_year\": 1987.0, \"holotipo_year\": \"1997\", \"counts\": 1}, {\"cataloged_year\": 1994, \"count\": \"4\", \"class\": \"Malacostraca\", \"kingdom\": \"Animalia\", \"genus\": \"Trichorhina\", \"species\": \"Paraensis\", \"genus_and_species\": \"Trichorhina paraensis\", \"type_status\": \"Holotipo\", \"determiner_first_and_last_name\": \"L Kury\", \"determiner_first_name\": \"L\", \"determiner_last_name\": \"Kury\", \"depth\": \"0\", \"species_author\": \"Souza-Kury, 1997\", \"order\": \"Isopoda\", \"suborder\": \"Nan\", \"infraorder\": \"Nan\", \"superfamily\": \"Nan\", \"family\": \"Platyarthridae\", \"subfamily\": \"Platyarthrinae\", \"tribe\": \"Platyarthrini\", \"determined_year\": 1991.0, \"start_year\": 1967.0, \"holotipo_year\": \"1997\", \"counts\": 2}, {\"cataloged_year\": 1997, \"count\": \"1\", \"class\": \"Copepoda\", \"kingdom\": \"Animalia\", \"genus\": \"Monocheres\", \"species\": \"Cagarrensis\", \"genus_and_species\": \"Monocheres cagarrensis\", \"type_status\": \"Holotipo\", \"determiner_first_and_last_name\": \"Rodrigo Johnsson\", \"determiner_first_name\": \"Rodrigo\", \"determiner_last_name\": \"Johnsson\", \"depth\": \"7\", \"species_author\": \"Johnsson & Bustamante, 1997\", \"order\": \"Siphonostomatoida\", \"suborder\": \"Nan\", \"infraorder\": \"Nan\", \"superfamily\": \"Nan\", \"family\": \"Asterocheridae\", \"subfamily\": \"Asterocherinae\", \"tribe\": \"Asterocherini\", \"determined_year\": null, \"start_year\": 1994.0, \"holotipo_year\": \"1997\", \"counts\": 1}, {\"cataloged_year\": 1996, \"count\": \"1\", \"class\": \"Copepoda\", \"kingdom\": \"Animalia\", \"genus\": \"Orecturus\", \"species\": \"Bahiensis\", \"genus_and_species\": \"Orecturus bahiensis\", \"type_status\": \"Holotipo\", \"determiner_first_and_last_name\": \"Rodrigo Johnsson\", \"determiner_first_name\": \"Rodrigo\", \"determiner_last_name\": \"Johnsson\", \"depth\": \"0\", \"species_author\": \"Johnsson, 1998\", \"order\": \"Siphonostomatoida\", \"suborder\": \"Nan\", \"infraorder\": \"Nan\", \"superfamily\": \"Nan\", \"family\": \"Asterocheridae\", \"subfamily\": \"Asterocherinae\", \"tribe\": \"Asterocherini\", \"determined_year\": null, \"start_year\": 1995.0, \"holotipo_year\": \"1998\", \"counts\": 2}, {\"cataloged_year\": 1996, \"count\": \"1\", \"class\": \"Copepoda\", \"kingdom\": \"Animalia\", \"genus\": \"Asteropontoides\", \"species\": \"Elephantinus\", \"genus_and_species\": \"Asteropontoides elephantinus\", \"type_status\": \"Holotipo\", \"determiner_first_and_last_name\": \"Rodrigo Johnsson\", \"determiner_first_name\": \"Rodrigo\", \"determiner_last_name\": \"Johnsson\", \"depth\": \"0\", \"species_author\": \"Johnsson, 1998\", \"order\": \"Siphonostomatoida\", \"suborder\": \"Nan\", \"infraorder\": \"Nan\", \"superfamily\": \"Nan\", \"family\": \"Asterocheridae\", \"subfamily\": \"Asterocherinae\", \"tribe\": \"Asterocherini\", \"determined_year\": 1996.0, \"start_year\": 1994.0, \"holotipo_year\": \"1998\", \"counts\": 2}, {\"cataloged_year\": 1997, \"count\": \"1\", \"class\": \"Malacostraca\", \"kingdom\": \"Animalia\", \"genus\": \"Leucothoe\", \"species\": \"Basilobata\", \"genus_and_species\": \"Leucothoe basilobata\", \"type_status\": \"Holotipo\", \"determiner_first_and_last_name\": \"Cristiana Serejo\", \"determiner_first_name\": \"Cristiana\", \"determiner_last_name\": \"Serejo\", \"depth\": \"0\", \"species_author\": \"Serejo, 1998\", \"order\": \"Amphipoda\", \"suborder\": \"Nan\", \"infraorder\": \"Nan\", \"superfamily\": \"Nan\", \"family\": \"Leucothoidae\", \"subfamily\": \"Leucothoinae\", \"tribe\": \"Leucothoini\", \"determined_year\": null, \"start_year\": 1995.0, \"holotipo_year\": \"1998\", \"counts\": 4}, {\"cataloged_year\": 1997, \"count\": \"1\", \"class\": \"Malacostraca\", \"kingdom\": \"Animalia\", \"genus\": \"Leucothoe\", \"species\": \"Urospinosa\", \"genus_and_species\": \"Leucothoe urospinosa\", \"type_status\": \"Holotipo\", \"determiner_first_and_last_name\": \"Cristiana Serejo\", \"determiner_first_name\": \"Cristiana\", \"determiner_last_name\": \"Serejo\", \"depth\": \"0\", \"species_author\": \"Serejo, 1998\", \"order\": \"Amphipoda\", \"suborder\": \"Nan\", \"infraorder\": \"Nan\", \"superfamily\": \"Nan\", \"family\": \"Leucothoidae\", \"subfamily\": \"Leucothoinae\", \"tribe\": \"Leucothoini\", \"determined_year\": null, \"start_year\": 1994.0, \"holotipo_year\": \"1998\", \"counts\": 4}, {\"cataloged_year\": 1997, \"count\": \"1\", \"class\": \"Malacostraca\", \"kingdom\": \"Animalia\", \"genus\": \"Leucothoe\", \"species\": \"Cheiriserra\", \"genus_and_species\": \"Leucothoe cheiriserra\", \"type_status\": \"Holotipo\", \"determiner_first_and_last_name\": \"Cristiana Serejo\", \"determiner_first_name\": \"Cristiana\", \"determiner_last_name\": \"Serejo\", \"depth\": \"0\", \"species_author\": \"Serejo, 1998\", \"order\": \"Amphipoda\", \"suborder\": \"Nan\", \"infraorder\": \"Nan\", \"superfamily\": \"Nan\", \"family\": \"Leucothoidae\", \"subfamily\": \"Leucothoinae\", \"tribe\": \"Leucothoini\", \"determined_year\": null, \"start_year\": 1994.0, \"holotipo_year\": \"1998\", \"counts\": 4}, {\"cataloged_year\": 1997, \"count\": \"1\", \"class\": \"Malacostraca\", \"kingdom\": \"Animalia\", \"genus\": \"Leucothoe\", \"species\": \"Leptosa\", \"genus_and_species\": \"Leucothoe leptosa\", \"type_status\": \"Holotipo\", \"determiner_first_and_last_name\": \"Cristiana Serejo\", \"determiner_first_name\": \"Cristiana\", \"determiner_last_name\": \"Serejo\", \"depth\": \"30\", \"species_author\": \"Serejo, 1998\", \"order\": \"Amphipoda\", \"suborder\": \"Nan\", \"infraorder\": \"Nan\", \"superfamily\": \"Nan\", \"family\": \"Leucothoidae\", \"subfamily\": \"Leucothoinae\", \"tribe\": \"Leucothoini\", \"determined_year\": null, \"start_year\": 1995.0, \"holotipo_year\": \"1998\", \"counts\": 4}, {\"cataloged_year\": 1997, \"count\": \"1\", \"class\": \"Copepoda\", \"kingdom\": \"Animalia\", \"genus\": \"Asterocheres\", \"species\": \"Crenulatus\", \"genus_and_species\": \"Asterocheres crenulatus\", \"type_status\": \"Holotipo\", \"determiner_first_and_last_name\": \"Rodrigo Johnsson\", \"determiner_first_name\": \"Rodrigo\", \"determiner_last_name\": \"Johnsson\", \"depth\": \"0\", \"species_author\": \"Johnsson, 1999\", \"order\": \"Siphonostomatoida\", \"suborder\": \"Nan\", \"infraorder\": \"Nan\", \"superfamily\": \"Nan\", \"family\": \"Asterocheridae\", \"subfamily\": \"Asterocherinae\", \"tribe\": \"Asterocherini\", \"determined_year\": null, \"start_year\": 1994.0, \"holotipo_year\": \"1999\", \"counts\": 9}, {\"cataloged_year\": 1997, \"count\": \"1\", \"class\": \"Copepoda\", \"kingdom\": \"Animalia\", \"genus\": \"Asterocheres\", \"species\": \"Tetrasetosus\", \"genus_and_species\": \"Asterocheres tetrasetosus\", \"type_status\": \"Holotipo\", \"determiner_first_and_last_name\": \"Rodrigo Johnsson\", \"determiner_first_name\": \"Rodrigo\", \"determiner_last_name\": \"Johnsson\", \"depth\": \"0\", \"species_author\": \"Johnsson, 1999\", \"order\": \"Siphonostomatoida\", \"suborder\": \"Nan\", \"infraorder\": \"Nan\", \"superfamily\": \"Nan\", \"family\": \"Asterocheridae\", \"subfamily\": \"Asterocherinae\", \"tribe\": \"Asterocherini\", \"determined_year\": null, \"start_year\": 1994.0, \"holotipo_year\": \"1999\", \"counts\": 9}, {\"cataloged_year\": 1997, \"count\": \"1\", \"class\": \"Copepoda\", \"kingdom\": \"Animalia\", \"genus\": \"Asterocheres\", \"species\": \"Lunatus\", \"genus_and_species\": \"Asterocheres lunatus\", \"type_status\": \"Holotipo\", \"determiner_first_and_last_name\": \"Rodrigo Johnsson\", \"determiner_first_name\": \"Rodrigo\", \"determiner_last_name\": \"Johnsson\", \"depth\": \"0\", \"species_author\": \"Johnsson, 1999\", \"order\": \"Siphonostomatoida\", \"suborder\": \"Nan\", \"infraorder\": \"Nan\", \"superfamily\": \"Nan\", \"family\": \"Asterocheridae\", \"subfamily\": \"Asterocherinae\", \"tribe\": \"Asterocherini\", \"determined_year\": null, \"start_year\": 1994.0, \"holotipo_year\": \"1999\", \"counts\": 9}, {\"cataloged_year\": 1998, \"count\": \"1\", \"class\": \"Copepoda\", \"kingdom\": \"Animalia\", \"genus\": \"Asteropontius\", \"species\": \"Elizabethae\", \"genus_and_species\": \"Asteropontius elizabethae\", \"type_status\": \"Holotipo\", \"determiner_first_and_last_name\": \"Rodrigo Johnsson\", \"determiner_first_name\": \"Rodrigo\", \"determiner_last_name\": \"Johnsson\", \"depth\": \"30\", \"species_author\": \"Johnsson, 1999\", \"order\": \"Siphonostomatoida\", \"suborder\": \"Nan\", \"infraorder\": \"Nan\", \"superfamily\": \"Nan\", \"family\": \"Asterocheridae\", \"subfamily\": \"Asterocherinae\", \"tribe\": \"Asterocherini\", \"determined_year\": null, \"start_year\": 1997.0, \"holotipo_year\": \"1999\", \"counts\": 9}, {\"cataloged_year\": 1997, \"count\": \"1\", \"class\": \"Copepoda\", \"kingdom\": \"Animalia\", \"genus\": \"Kolocheres\", \"species\": \"Angustus\", \"genus_and_species\": \"Kolocheres angustus\", \"type_status\": \"Holotipo\", \"determiner_first_and_last_name\": \"Rodrigo Johnsson\", \"determiner_first_name\": \"Rodrigo\", \"determiner_last_name\": \"Johnsson\", \"depth\": \"0\", \"species_author\": \"Johnsson, 1999\", \"order\": \"Siphonostomatoida\", \"suborder\": \"Nan\", \"infraorder\": \"Nan\", \"superfamily\": \"Nan\", \"family\": \"Asterocheridae\", \"subfamily\": \"Asterocherinae\", \"tribe\": \"Asterocherini\", \"determined_year\": null, \"start_year\": 1994.0, \"holotipo_year\": \"1999\", \"counts\": 9}, {\"cataloged_year\": 1996, \"count\": \"1\", \"class\": \"Copepoda\", \"kingdom\": \"Animalia\", \"genus\": \"Cletopontius\", \"species\": \"Titanus\", \"genus_and_species\": \"Cletopontius titanus\", \"type_status\": \"Holotipo\", \"determiner_first_and_last_name\": \"Rodrigo Johnsson\", \"determiner_first_name\": \"Rodrigo\", \"determiner_last_name\": \"Johnsson\", \"depth\": \"0\", \"species_author\": \"Johnsson, 1999\", \"order\": \"Siphonostomatoida\", \"suborder\": \"Nan\", \"infraorder\": \"Nan\", \"superfamily\": \"Nan\", \"family\": \"Asterocheridae\", \"subfamily\": \"Asterocherinae\", \"tribe\": \"Asterocherini\", \"determined_year\": null, \"start_year\": 1994.0, \"holotipo_year\": \"1999\", \"counts\": 9}, {\"cataloged_year\": 1997, \"count\": \"1\", \"class\": \"Copepoda\", \"kingdom\": \"Animalia\", \"genus\": \"Asterocheres\", \"species\": \"Spinopaulus\", \"genus_and_species\": \"Asterocheres spinopaulus\", \"type_status\": \"Holotipo\", \"determiner_first_and_last_name\": \"Rodrigo Johnsson\", \"determiner_first_name\": \"Rodrigo\", \"determiner_last_name\": \"Johnsson\", \"depth\": \"0\", \"species_author\": \"Johnsson, 1999\", \"order\": \"Siphonostomatoida\", \"suborder\": \"Nan\", \"infraorder\": \"Nan\", \"superfamily\": \"Nan\", \"family\": \"Asterocheridae\", \"subfamily\": \"Asterocherinae\", \"tribe\": \"Asterocherini\", \"determined_year\": null, \"start_year\": 1994.0, \"holotipo_year\": \"1999\", \"counts\": 9}, {\"cataloged_year\": 1997, \"count\": \"1\", \"class\": \"Copepoda\", \"kingdom\": \"Animalia\", \"genus\": \"Asterocheres\", \"species\": \"Abrolhensis\", \"genus_and_species\": \"Asterocheres abrolhensis\", \"type_status\": \"Holotipo\", \"determiner_first_and_last_name\": \"Rodrigo Johnsson\", \"determiner_first_name\": \"Rodrigo\", \"determiner_last_name\": \"Johnsson\", \"depth\": \"0\", \"species_author\": \"Johnsson, 1999\", \"order\": \"Siphonostomatoida\", \"suborder\": \"Nan\", \"infraorder\": \"Nan\", \"superfamily\": \"Nan\", \"family\": \"Asterocheridae\", \"subfamily\": \"Asterocherinae\", \"tribe\": \"Asterocherini\", \"determined_year\": null, \"start_year\": 1994.0, \"holotipo_year\": \"1999\", \"counts\": 9}, {\"cataloged_year\": 1998, \"count\": \"1\", \"class\": \"Maxillopoda\", \"kingdom\": \"Animalia\", \"genus\": \"Scillaelepas\", \"species\": \"Brasiliensis\", \"genus_and_species\": \"Scillaelepas brasiliensis\", \"type_status\": \"Holotipo\", \"determiner_first_and_last_name\": \"Paulo Young\", \"determiner_first_name\": \"Paulo\", \"determiner_last_name\": \"Young\", \"depth\": \"0\", \"species_author\": \"Young, 1999\", \"order\": \"Thoracica\", \"suborder\": \"Nan\", \"infraorder\": \"Nan\", \"superfamily\": \"Nan\", \"family\": \"Calanticidae\", \"subfamily\": \"Calanticinae\", \"tribe\": \"Calanticini\", \"determined_year\": null, \"start_year\": 1987.0, \"holotipo_year\": \"1999\", \"counts\": 2}, {\"cataloged_year\": 1997, \"count\": \"1\", \"class\": \"Copepoda\", \"kingdom\": \"Animalia\", \"genus\": \"Asterocheres\", \"species\": \"Paraboecki\", \"genus_and_species\": \"Asterocheres paraboecki\", \"type_status\": \"Holotipo\", \"determiner_first_and_last_name\": \"Rodrigo Johnsson\", \"determiner_first_name\": \"Rodrigo\", \"determiner_last_name\": \"Johnsson\", \"depth\": \"0\", \"species_author\": \"Johnsson, 1999\", \"order\": \"Siphonostomatoida\", \"suborder\": \"Nan\", \"infraorder\": \"Nan\", \"superfamily\": \"Nan\", \"family\": \"Asterocheridae\", \"subfamily\": \"Asterocherinae\", \"tribe\": \"Asterocherini\", \"determined_year\": null, \"start_year\": 1994.0, \"holotipo_year\": \"1999\", \"counts\": 9}, {\"cataloged_year\": 1998, \"count\": \"1\", \"class\": \"Maxillopoda\", \"kingdom\": \"Animalia\", \"genus\": \"Aurivillialepas\", \"species\": \"Rhabdota\", \"genus_and_species\": \"Aurivillialepas rhabdota\", \"type_status\": \"Holotipo\", \"determiner_first_and_last_name\": \"Paulo Young\", \"determiner_first_name\": \"Paulo\", \"determiner_last_name\": \"Young\", \"depth\": \"0\", \"species_author\": \"(Young, 1999)\", \"order\": \"Thoracica\", \"suborder\": \"Nan\", \"infraorder\": \"Nan\", \"superfamily\": \"Nan\", \"family\": \"Calanticidae\", \"subfamily\": \"Calanticinae\", \"tribe\": \"Calanticini\", \"determined_year\": null, \"start_year\": 1987.0, \"holotipo_year\": \"1999\", \"counts\": 2}, {\"cataloged_year\": 2003, \"count\": \"1\", \"class\": \"Malacostraca\", \"kingdom\": \"Animalia\", \"genus\": \"Heterocarpus\", \"species\": \"Inopinatus\", \"genus_and_species\": \"Heterocarpus inopinatus\", \"type_status\": \"Holotipo\", \"determiner_first_and_last_name\": \"Marcos Tavares\", \"determiner_first_name\": \"Marcos\", \"determiner_last_name\": \"Tavares\", \"depth\": \"0\", \"species_author\": \"Tavares, 1999\", \"order\": \"Decapoda\", \"suborder\": \"Nan\", \"infraorder\": \"Nan\", \"superfamily\": \"Nan\", \"family\": \"Pandalidae\", \"subfamily\": \"Pandalinae\", \"tribe\": \"Pandalini\", \"determined_year\": null, \"start_year\": 1987.0, \"holotipo_year\": \"1999\", \"counts\": 1}, {\"cataloged_year\": 1997, \"count\": \"1\", \"class\": \"Copepoda\", \"kingdom\": \"Animalia\", \"genus\": \"Lepeophtheirus\", \"species\": \"Rhinobati\", \"genus_and_species\": \"Lepeophtheirus rhinobati\", \"type_status\": \"Holotipo\", \"determiner_first_and_last_name\": \"Jose Luque\", \"determiner_first_name\": \"Jose\", \"determiner_last_name\": \"Luque\", \"depth\": \"0\", \"species_author\": \"Luque, Chaves & Cesar, 1999\", \"order\": \"Siphonostomatoida\", \"suborder\": \"Nan\", \"infraorder\": \"Nan\", \"superfamily\": \"Nan\", \"family\": \"Caligidae\", \"subfamily\": \"Caliginae\", \"tribe\": \"Caligini\", \"determined_year\": null, \"start_year\": 1910.0, \"holotipo_year\": \"1999\", \"counts\": 1}, {\"cataloged_year\": 1998, \"count\": \"1\", \"class\": \"Malacostraca\", \"kingdom\": \"Animalia\", \"genus\": \"Apohyale\", \"species\": \"Wakabarae\", \"genus_and_species\": \"Apohyale wakabarae\", \"type_status\": \"Holotipo\", \"determiner_first_and_last_name\": \"Cristiana Serejo\", \"determiner_first_name\": \"Cristiana\", \"determiner_last_name\": \"Serejo\", \"depth\": \"0\", \"species_author\": \"(Serejo, 1999)\", \"order\": \"Amphipoda\", \"suborder\": \"Nan\", \"infraorder\": \"Nan\", \"superfamily\": \"Nan\", \"family\": \"Hyalidae\", \"subfamily\": \"Hyalinae\", \"tribe\": \"Hyalini\", \"determined_year\": null, \"start_year\": 1983.0, \"holotipo_year\": \"1999\", \"counts\": 1}, {\"cataloged_year\": 1999, \"count\": \"1\", \"class\": \"Malacostraca\", \"kingdom\": \"Animalia\", \"genus\": \"Spelaeogammarus\", \"species\": \"Trajanoae\", \"genus_and_species\": \"Spelaeogammarus trajanoae\", \"type_status\": \"Holotipo\", \"determiner_first_and_last_name\": \"S Koenemann\", \"determiner_first_name\": \"S\", \"determiner_last_name\": \"Koenemann\", \"depth\": \"0\", \"species_author\": \"Koenemann & Holsinger, 2000\", \"order\": \"Amphipoda\", \"suborder\": \"Nan\", \"infraorder\": \"Nan\", \"superfamily\": \"Nan\", \"family\": \"Bogidiellidae\", \"subfamily\": \"Bogidiellinae\", \"tribe\": \"Bogidiellini\", \"determined_year\": null, \"start_year\": 1989.0, \"holotipo_year\": \"2000\", \"counts\": 2}, {\"cataloged_year\": 1997, \"count\": \"1\", \"class\": \"Copepoda\", \"kingdom\": \"Animalia\", \"genus\": \"Spongiopsyllus\", \"species\": \"Adventicius\", \"genus_and_species\": \"Spongiopsyllus adventicius\", \"type_status\": \"Holotipo\", \"determiner_first_and_last_name\": \"Rodrigo Johnsson\", \"determiner_first_name\": \"Rodrigo\", \"determiner_last_name\": \"Johnsson\", \"depth\": \"0\", \"species_author\": \"Johnsson, 2000\", \"order\": \"Siphonostomatoida\", \"suborder\": \"Nan\", \"infraorder\": \"Nan\", \"superfamily\": \"Nan\", \"family\": \"Entomolepididae\", \"subfamily\": \"Entomolepidinae\", \"tribe\": \"Entomolepidini\", \"determined_year\": null, \"start_year\": 1995.0, \"holotipo_year\": \"2000\", \"counts\": 1}, {\"cataloged_year\": 1999, \"count\": \"1\", \"class\": \"Malacostraca\", \"kingdom\": \"Animalia\", \"genus\": \"Spelaeogammarus\", \"species\": \"Santanensis\", \"genus_and_species\": \"Spelaeogammarus santanensis\", \"type_status\": \"Holotipo\", \"determiner_first_and_last_name\": \"S Koenemann\", \"determiner_first_name\": \"S\", \"determiner_last_name\": \"Koenemann\", \"depth\": \"0\", \"species_author\": \"Koenemann & Holsinger, 2000\", \"order\": \"Amphipoda\", \"suborder\": \"Nan\", \"infraorder\": \"Nan\", \"superfamily\": \"Nan\", \"family\": \"Bogidiellidae\", \"subfamily\": \"Bogidiellinae\", \"tribe\": \"Bogidiellini\", \"determined_year\": null, \"start_year\": 1987.0, \"holotipo_year\": \"2000\", \"counts\": 2}, {\"cataloged_year\": 2000, \"count\": \"1\", \"class\": \"Copepoda\", \"kingdom\": \"Animalia\", \"genus\": \"Caligus\", \"species\": \"Itacurussensis\", \"genus_and_species\": \"Caligus itacurussensis\", \"type_status\": \"Holotipo\", \"determiner_first_and_last_name\": \"Jose Luque\", \"determiner_first_name\": \"Jose\", \"determiner_last_name\": \"Luque\", \"depth\": \"0\", \"species_author\": \"Luque & Cezar, 2000\", \"order\": \"Siphonostomatoida\", \"suborder\": \"Nan\", \"infraorder\": \"Nan\", \"superfamily\": \"Nan\", \"family\": \"Caligidae\", \"subfamily\": \"Caliginae\", \"tribe\": \"Caligini\", \"determined_year\": null, \"start_year\": 1992.0, \"holotipo_year\": \"2000\", \"counts\": 2}, {\"cataloged_year\": 1997, \"count\": \"1\", \"class\": \"Copepoda\", \"kingdom\": \"Animalia\", \"genus\": \"Caligus\", \"species\": \"Littoralis\", \"genus_and_species\": \"Caligus littoralis\", \"type_status\": \"Holotipo\", \"determiner_first_and_last_name\": \"Jose Luque\", \"determiner_first_name\": \"Jose\", \"determiner_last_name\": \"Luque\", \"depth\": \"0\", \"species_author\": \"Luque & Cezar, 2000\", \"order\": \"Siphonostomatoida\", \"suborder\": \"Nan\", \"infraorder\": \"Nan\", \"superfamily\": \"Nan\", \"family\": \"Caligidae\", \"subfamily\": \"Caliginae\", \"tribe\": \"Caligini\", \"determined_year\": null, \"start_year\": 1992.0, \"holotipo_year\": \"2000\", \"counts\": 2}, {\"cataloged_year\": 1998, \"count\": \"1\", \"class\": \"Maxillopoda\", \"kingdom\": \"Animalia\", \"genus\": \"Verruca\", \"species\": \"Minuta\", \"genus_and_species\": \"Verruca minuta\", \"type_status\": \"Holotipo\", \"determiner_first_and_last_name\": \"Paulo Young\", \"determiner_first_name\": \"Paulo\", \"determiner_last_name\": \"Young\", \"depth\": \"0\", \"species_author\": \"Young, 2000\", \"order\": \"Thoracica\", \"suborder\": \"Nan\", \"infraorder\": \"Nan\", \"superfamily\": \"Nan\", \"family\": \"Verrucidae\", \"subfamily\": \"Verrucinae\", \"tribe\": \"Verrucini\", \"determined_year\": null, \"start_year\": 1997.0, \"holotipo_year\": \"2000\", \"counts\": 1}, {\"cataloged_year\": 2001, \"count\": \"1\", \"class\": \"Malacostraca\", \"kingdom\": \"Animalia\", \"genus\": \"Serejohyale\", \"species\": \"Youngi\", \"genus_and_species\": \"Serejohyale youngi\", \"type_status\": \"Holotipo\", \"determiner_first_and_last_name\": \"Cristiana Serejo\", \"determiner_first_name\": \"Cristiana\", \"determiner_last_name\": \"Serejo\", \"depth\": \"0\", \"species_author\": \"(Serejo, 2001)\", \"order\": \"Amphipoda\", \"suborder\": \"Nan\", \"infraorder\": \"Nan\", \"superfamily\": \"Nan\", \"family\": \"Hyalidae\", \"subfamily\": \"Hyalinae\", \"tribe\": \"Hyalini\", \"determined_year\": null, \"start_year\": 1996.0, \"holotipo_year\": \"2001\", \"counts\": 1}, {\"cataloged_year\": 2000, \"count\": \"1\", \"class\": \"Copepoda\", \"kingdom\": \"Animalia\", \"genus\": \"Monstrillopsis\", \"species\": \"Fosshageni\", \"genus_and_species\": \"Monstrillopsis fosshageni\", \"type_status\": \"Holotipo\", \"determiner_first_and_last_name\": \"Eduardo Morales\", \"determiner_first_name\": \"Eduardo\", \"determiner_last_name\": \"Morales\", \"depth\": \"0\", \"species_author\": \"Suarez-Morales & Dias, 2001\", \"order\": \"Monstrilloida\", \"suborder\": \"Nan\", \"infraorder\": \"Nan\", \"superfamily\": \"Nan\", \"family\": \"Monstrillidae\", \"subfamily\": \"Monstrillinae\", \"tribe\": \"Monstrillini\", \"determined_year\": null, \"start_year\": 1993.0, \"holotipo_year\": \"2001\", \"counts\": 4}, {\"cataloged_year\": 2000, \"count\": \"1\", \"class\": \"Copepoda\", \"kingdom\": \"Animalia\", \"genus\": \"Cymbasoma\", \"species\": \"Rochai\", \"genus_and_species\": \"Cymbasoma rochai\", \"type_status\": \"Holotipo\", \"determiner_first_and_last_name\": \"Eduardo Morales\", \"determiner_first_name\": \"Eduardo\", \"determiner_last_name\": \"Morales\", \"depth\": \"0\", \"species_author\": \"Suarez-Morales & Dias, 2001\", \"order\": \"Monstrilloida\", \"suborder\": \"Nan\", \"infraorder\": \"Nan\", \"superfamily\": \"Nan\", \"family\": \"Monstrillidae\", \"subfamily\": \"Monstrillinae\", \"tribe\": \"Monstrillini\", \"determined_year\": null, \"start_year\": 1995.0, \"holotipo_year\": \"2001\", \"counts\": 4}, {\"cataloged_year\": 2000, \"count\": \"1\", \"class\": \"Copepoda\", \"kingdom\": \"Animalia\", \"genus\": \"Monstrilla\", \"species\": \"Satchmoi\", \"genus_and_species\": \"Monstrilla satchmoi\", \"type_status\": \"Holotipo\", \"determiner_first_and_last_name\": \"Eduardo Morales\", \"determiner_first_name\": \"Eduardo\", \"determiner_last_name\": \"Morales\", \"depth\": \"0\", \"species_author\": \"Suarez-Morales & Dias, 2001\", \"order\": \"Monstrilloida\", \"suborder\": \"Nan\", \"infraorder\": \"Nan\", \"superfamily\": \"Nan\", \"family\": \"Monstrillidae\", \"subfamily\": \"Monstrillinae\", \"tribe\": \"Monstrillini\", \"determined_year\": null, \"start_year\": 1999.0, \"holotipo_year\": \"2001\", \"counts\": 4}, {\"cataloged_year\": 2000, \"count\": \"1\", \"class\": \"Copepoda\", \"kingdom\": \"Animalia\", \"genus\": \"Monstrilla\", \"species\": \"Bahiana\", \"genus_and_species\": \"Monstrilla bahiana\", \"type_status\": \"Holotipo\", \"determiner_first_and_last_name\": \"Eduardo Morales\", \"determiner_first_name\": \"Eduardo\", \"determiner_last_name\": \"Morales\", \"depth\": \"0\", \"species_author\": \"Suarez-Morales & Dias, 2001\", \"order\": \"Monstrilloida\", \"suborder\": \"Nan\", \"infraorder\": \"Nan\", \"superfamily\": \"Nan\", \"family\": \"Monstrillidae\", \"subfamily\": \"Monstrillinae\", \"tribe\": \"Monstrillini\", \"determined_year\": null, \"start_year\": 1999.0, \"holotipo_year\": \"2001\", \"counts\": 4}, {\"cataloged_year\": 2000, \"count\": \"1\", \"class\": \"Copepoda\", \"kingdom\": \"Animalia\", \"genus\": \"Cryptopontius\", \"species\": \"Madeirensis\", \"genus_and_species\": \"Cryptopontius madeirensis\", \"type_status\": \"Holotipo\", \"determiner_first_and_last_name\": \"Rodrigo Johnsson\", \"determiner_first_name\": \"Rodrigo\", \"determiner_last_name\": \"Johnsson\", \"depth\": \"0\", \"species_author\": \"Johnsson, 2001\", \"order\": \"Siphonostomatoida\", \"suborder\": \"Nan\", \"infraorder\": \"Nan\", \"superfamily\": \"Nan\", \"family\": \"Artotrogidae\", \"subfamily\": \"Artotroginae\", \"tribe\": \"Artotrogini\", \"determined_year\": null, \"start_year\": 1997.0, \"holotipo_year\": \"2001\", \"counts\": 2}, {\"cataloged_year\": 2000, \"count\": \"2\", \"class\": \"Copepoda\", \"kingdom\": \"Animalia\", \"genus\": \"Dyspontius\", \"species\": \"Gerardius\", \"genus_and_species\": \"Dyspontius gerardius\", \"type_status\": \"Holotipo\", \"determiner_first_and_last_name\": \"Rodrigo Johnsson\", \"determiner_first_name\": \"Rodrigo\", \"determiner_last_name\": \"Johnsson\", \"depth\": \"0\", \"species_author\": \"Johnsson, 2001\", \"order\": \"Siphonostomatoida\", \"suborder\": \"Nan\", \"infraorder\": \"Nan\", \"superfamily\": \"Nan\", \"family\": \"Artotrogidae\", \"subfamily\": \"Artotroginae\", \"tribe\": \"Artotrogini\", \"determined_year\": null, \"start_year\": 1997.0, \"holotipo_year\": \"2001\", \"counts\": 2}, {\"cataloged_year\": 1998, \"count\": \"1\", \"class\": \"Copepoda\", \"kingdom\": \"Animalia\", \"genus\": \"Scottocheres\", \"species\": \"Youngi\", \"genus_and_species\": \"Scottocheres youngi\", \"type_status\": \"Holotipo\", \"determiner_first_and_last_name\": \"Rodrigo Johnsson\", \"determiner_first_name\": \"Rodrigo\", \"determiner_last_name\": \"Johnsson\", \"depth\": \"0\", \"species_author\": \"Johnsson, 2002\", \"order\": \"Siphonostomatoida\", \"suborder\": \"Nan\", \"infraorder\": \"Nan\", \"superfamily\": \"Nan\", \"family\": \"Asterocheridae\", \"subfamily\": \"Asterocherinae\", \"tribe\": \"Asterocherini\", \"determined_year\": null, \"start_year\": 1997.0, \"holotipo_year\": \"2002\", \"counts\": 7}, {\"cataloged_year\": 1998, \"count\": \"1\", \"class\": \"Copepoda\", \"kingdom\": \"Animalia\", \"genus\": \"Asterocheres\", \"species\": \"Spongus\", \"genus_and_species\": \"Asterocheres spongus\", \"type_status\": \"Holotipo\", \"determiner_first_and_last_name\": \"Rodrigo Johnsson\", \"determiner_first_name\": \"Rodrigo\", \"determiner_last_name\": \"Johnsson\", \"depth\": \"0\", \"species_author\": \"Johnsson, 2002\", \"order\": \"Siphonostomatoida\", \"suborder\": \"Nan\", \"infraorder\": \"Nan\", \"superfamily\": \"Nan\", \"family\": \"Asterocheridae\", \"subfamily\": \"Asterocherinae\", \"tribe\": \"Asterocherini\", \"determined_year\": null, \"start_year\": 1997.0, \"holotipo_year\": \"2002\", \"counts\": 7}, {\"cataloged_year\": 1998, \"count\": \"1\", \"class\": \"Copepoda\", \"kingdom\": \"Animalia\", \"genus\": \"Asterocheres\", \"species\": \"Aplysinus\", \"genus_and_species\": \"Asterocheres aplysinus\", \"type_status\": \"Holotipo\", \"determiner_first_and_last_name\": \"Rodrigo Johnsson\", \"determiner_first_name\": \"Rodrigo\", \"determiner_last_name\": \"Johnsson\", \"depth\": \"0\", \"species_author\": \"Johnsson, 2002\", \"order\": \"Siphonostomatoida\", \"suborder\": \"Nan\", \"infraorder\": \"Nan\", \"superfamily\": \"Nan\", \"family\": \"Asterocheridae\", \"subfamily\": \"Asterocherinae\", \"tribe\": \"Asterocherini\", \"determined_year\": null, \"start_year\": 1997.0, \"holotipo_year\": \"2002\", \"counts\": 7}, {\"cataloged_year\": 1998, \"count\": \"1\", \"class\": \"Copepoda\", \"kingdom\": \"Animalia\", \"genus\": \"Asterocheres\", \"species\": \"Neptunei\", \"genus_and_species\": \"Asterocheres neptunei\", \"type_status\": \"Holotipo\", \"determiner_first_and_last_name\": \"Rodrigo Johnsson\", \"determiner_first_name\": \"Rodrigo\", \"determiner_last_name\": \"Johnsson\", \"depth\": \"0\", \"species_author\": \"Johnsson, In: Johnsson, Rocha & Neves, 2002 \", \"order\": \"Siphonostomatoida\", \"suborder\": \"Nan\", \"infraorder\": \"Nan\", \"superfamily\": \"Nan\", \"family\": \"Asterocheridae\", \"subfamily\": \"Asterocherinae\", \"tribe\": \"Asterocherini\", \"determined_year\": null, \"start_year\": 1996.0, \"holotipo_year\": \"2002\", \"counts\": 7}, {\"cataloged_year\": 1998, \"count\": \"1\", \"class\": \"Copepoda\", \"kingdom\": \"Animalia\", \"genus\": \"Acontiophorus\", \"species\": \"Monanchorae\", \"genus_and_species\": \"Acontiophorus monanchorae\", \"type_status\": \"Holotipo\", \"determiner_first_and_last_name\": \"Rodrigo Johnsson\", \"determiner_first_name\": \"Rodrigo\", \"determiner_last_name\": \"Johnsson\", \"depth\": \"0\", \"species_author\": \"Johnsson, 2002\", \"order\": \"Siphonostomatoida\", \"suborder\": \"Nan\", \"infraorder\": \"Nan\", \"superfamily\": \"Nan\", \"family\": \"Asterocheridae\", \"subfamily\": \"Asterocherinae\", \"tribe\": \"Asterocherini\", \"determined_year\": null, \"start_year\": 1997.0, \"holotipo_year\": \"2002\", \"counts\": 7}, {\"cataloged_year\": 1998, \"count\": \"8\", \"class\": \"Copepoda\", \"kingdom\": \"Animalia\", \"genus\": \"Asterocheres\", \"species\": \"Picinguabensis\", \"genus_and_species\": \"Asterocheres picinguabensis\", \"type_status\": \"Holotipo\", \"determiner_first_and_last_name\": \"Rodrigo Johnsson\", \"determiner_first_name\": \"Rodrigo\", \"determiner_last_name\": \"Johnsson\", \"depth\": \"0\", \"species_author\": \"Johnsson, In: Johnsson, Rocha & Neves, 2002 \", \"order\": \"Siphonostomatoida\", \"suborder\": \"Nan\", \"infraorder\": \"Nan\", \"superfamily\": \"Nan\", \"family\": \"Asterocheridae\", \"subfamily\": \"Asterocherinae\", \"tribe\": \"Asterocherini\", \"determined_year\": null, \"start_year\": 1995.0, \"holotipo_year\": \"2002\", \"counts\": 7}, {\"cataloged_year\": 1997, \"count\": \"1\", \"class\": \"Malacostraca\", \"kingdom\": \"Animalia\", \"genus\": \"Microphoxus\", \"species\": \"Uroserratus\", \"genus_and_species\": \"Microphoxus uroserratus\", \"type_status\": \"Holotipo\", \"determiner_first_and_last_name\": \"Alice Bustamante\", \"determiner_first_name\": \"Alice\", \"determiner_last_name\": \"Bustamante\", \"depth\": \"0\", \"species_author\": \"Bustamante, 2002\", \"order\": \"Amphipoda\", \"suborder\": \"Nan\", \"infraorder\": \"Nan\", \"superfamily\": \"Nan\", \"family\": \"phoxocephalidae\", \"subfamily\": \"Phoxocephalinae\", \"tribe\": \"Phoxocephalini\", \"determined_year\": 2000.0, \"start_year\": null, \"holotipo_year\": \"2002\", \"counts\": 3}, {\"cataloged_year\": 1997, \"count\": \"1\", \"class\": \"Malacostraca\", \"kingdom\": \"Animalia\", \"genus\": \"Microphoxus\", \"species\": \"Moraesi\", \"genus_and_species\": \"Microphoxus moraesi\", \"type_status\": \"Holotipo\", \"determiner_first_and_last_name\": \"Alice Bustamante\", \"determiner_first_name\": \"Alice\", \"determiner_last_name\": \"Bustamante\", \"depth\": \"5\", \"species_author\": \"Bustamante, 2002\", \"order\": \"Amphipoda\", \"suborder\": \"Nan\", \"infraorder\": \"Nan\", \"superfamily\": \"Nan\", \"family\": \"phoxocephalidae\", \"subfamily\": \"Phoxocephalinae\", \"tribe\": \"Phoxocephalini\", \"determined_year\": 2000.0, \"start_year\": 1989.0, \"holotipo_year\": \"2002\", \"counts\": 3}, {\"cataloged_year\": 1997, \"count\": \"1\", \"class\": \"Malacostraca\", \"kingdom\": \"Animalia\", \"genus\": \"Microphoxus\", \"species\": \"Breviramus\", \"genus_and_species\": \"Microphoxus breviramus\", \"type_status\": \"Holotipo\", \"determiner_first_and_last_name\": \"Alice Bustamante\", \"determiner_first_name\": \"Alice\", \"determiner_last_name\": \"Bustamante\", \"depth\": \"20\", \"species_author\": \"Bustamante, 2002\", \"order\": \"Amphipoda\", \"suborder\": \"Nan\", \"infraorder\": \"Nan\", \"superfamily\": \"Nan\", \"family\": \"phoxocephalidae\", \"subfamily\": \"Phoxocephalinae\", \"tribe\": \"Phoxocephalini\", \"determined_year\": 2000.0, \"start_year\": 1988.0, \"holotipo_year\": \"2002\", \"counts\": 3}, {\"cataloged_year\": 1998, \"count\": \"1\", \"class\": \"Copepoda\", \"kingdom\": \"Animalia\", \"genus\": \"Asterocheres\", \"species\": \"Unicus\", \"genus_and_species\": \"Asterocheres unicus\", \"type_status\": \"Holotipo\", \"determiner_first_and_last_name\": \"Rodrigo Johnsson\", \"determiner_first_name\": \"Rodrigo\", \"determiner_last_name\": \"Johnsson\", \"depth\": \"0\", \"species_author\": \"Johnsson, In: Johnsson, Rocha & Neves, 2002 \", \"order\": \"Siphonostomatoida\", \"suborder\": \"Nan\", \"infraorder\": \"Nan\", \"superfamily\": \"Nan\", \"family\": \"Asterocheridae\", \"subfamily\": \"Asterocherinae\", \"tribe\": \"Asterocherini\", \"determined_year\": null, \"start_year\": 1996.0, \"holotipo_year\": \"2002\", \"counts\": 7}, {\"cataloged_year\": 2003, \"count\": \"1\", \"class\": \"Copepoda\", \"kingdom\": \"Animalia\", \"genus\": \"Hamaticolax\", \"species\": \"Unisagittatus\", \"genus_and_species\": \"Hamaticolax unisagittatus\", \"type_status\": \"Holotipo\", \"determiner_first_and_last_name\": \"Luiz Tavares\", \"determiner_first_name\": \"Luiz\", \"determiner_last_name\": \"Tavares\", \"depth\": \"0\", \"species_author\": \"(Tavares & Luque, 2003)\", \"order\": \"Poecilostomatoida\", \"suborder\": \"Nan\", \"infraorder\": \"Nan\", \"superfamily\": \"Nan\", \"family\": \"Bomolochidae\", \"subfamily\": \"Bomolochinae\", \"tribe\": \"Bomolochini\", \"determined_year\": null, \"start_year\": 2000.0, \"holotipo_year\": \"2003\", \"counts\": 1}, {\"cataloged_year\": 2003, \"count\": \"1\", \"class\": \"Copepoda\", \"kingdom\": \"Animalia\", \"genus\": \"Acanthochondria\", \"species\": \"Triangularis\", \"genus_and_species\": \"Acanthochondria triangularis\", \"type_status\": \"Holotipo\", \"determiner_first_and_last_name\": \"Dimitri Alves\", \"determiner_first_name\": \"Dimitri\", \"determiner_last_name\": \"Alves\", \"depth\": \"0\", \"species_author\": \"Alves, Luque & Paraguasu, 2003\", \"order\": \"Poecilostomatoida\", \"suborder\": \"Nan\", \"infraorder\": \"Nan\", \"superfamily\": \"Nan\", \"family\": \"Chondracanthidae\", \"subfamily\": \"Chondracanthinae\", \"tribe\": \"Chondracanthini\", \"determined_year\": null, \"start_year\": 2001.0, \"holotipo_year\": \"2003\", \"counts\": 1}, {\"cataloged_year\": 2002, \"count\": \"1\", \"class\": \"Malacostraca\", \"kingdom\": \"Animalia\", \"genus\": \"Bathynomus\", \"species\": \"Obtusus\", \"genus_and_species\": \"Bathynomus obtusus\", \"type_status\": \"Holotipo\", \"determiner_first_and_last_name\": \"Noa Magalhaes\", \"determiner_first_name\": \"Noa\", \"determiner_last_name\": \"Magalhaes\", \"depth\": \"0\", \"species_author\": \"Magalhaes & Young, 2003\", \"order\": \"Isopoda\", \"suborder\": \"Nan\", \"infraorder\": \"Nan\", \"superfamily\": \"Nan\", \"family\": \"Cirolanidae\", \"subfamily\": \"Cirolaninae\", \"tribe\": \"Cirolanini\", \"determined_year\": null, \"start_year\": 2000.0, \"holotipo_year\": \"2003\", \"counts\": 1}, {\"cataloged_year\": 2002, \"count\": \"1\", \"class\": \"Malacostraca\", \"kingdom\": \"Animalia\", \"genus\": \"Tectovalopsis\", \"species\": \"Ruffoi\", \"genus_and_species\": \"Tectovalopsis ruffoi\", \"type_status\": \"Holotipo\", \"determiner_first_and_last_name\": \"Cristiana Serejo\", \"determiner_first_name\": \"Cristiana\", \"determiner_last_name\": \"Serejo\", \"depth\": \"0\", \"species_author\": \"(Serejo & Wakabara, 2003)\\u00a0\", \"order\": \"Amphipoda\", \"suborder\": \"Nan\", \"infraorder\": \"Nan\", \"superfamily\": \"Nan\", \"family\": \"Alicellidae\", \"subfamily\": \"Lysianassinae\", \"tribe\": \"Lysianassini\", \"determined_year\": null, \"start_year\": 1987.0, \"holotipo_year\": \"2003\", \"counts\": 2}, {\"cataloged_year\": 1995, \"count\": \"1\", \"class\": \"Malacostraca\", \"kingdom\": \"Animalia\", \"genus\": \"Novamundoniscus\", \"species\": \"Gracilis\", \"genus_and_species\": \"Novamundoniscus gracilis\", \"type_status\": \"Holotipo\", \"determiner_first_and_last_name\": \"Alceu Castro\", \"determiner_first_name\": \"Alceu\", \"determiner_last_name\": \"Castro\", \"depth\": \"0\", \"species_author\": \"Lopes & Araujo, 2003\", \"order\": \"Isopoda\", \"suborder\": \"Nan\", \"infraorder\": \"Nan\", \"superfamily\": \"Nan\", \"family\": \"Dubioniscidae\", \"subfamily\": \"Dubioniscinae\", \"tribe\": \"Dubioniscini\", \"determined_year\": null, \"start_year\": 1957.0, \"holotipo_year\": \"2003\", \"counts\": 1}, {\"cataloged_year\": 2003, \"count\": \"1\", \"class\": \"Malacostraca\", \"kingdom\": \"Animalia\", \"genus\": \"Monoliropus\", \"species\": \"Enodis\", \"genus_and_species\": \"Monoliropus enodis\", \"type_status\": \"Holotipo\", \"determiner_first_and_last_name\": \"Cristiana Serejo\", \"determiner_first_name\": \"Cristiana\", \"determiner_last_name\": \"Serejo\", \"depth\": \"0\", \"species_author\": \"Rayol & Serejo, 2003\", \"order\": \"Amphipoda\", \"suborder\": \"Nan\", \"infraorder\": \"Nan\", \"superfamily\": \"Nan\", \"family\": \"Oedicerotidae\", \"subfamily\": \"Oedicerotinae\", \"tribe\": \"Oedicerotini\", \"determined_year\": null, \"start_year\": 2001.0, \"holotipo_year\": \"2003\", \"counts\": 2}, {\"cataloged_year\": 2001, \"count\": \"1\", \"class\": \"Malacostraca\", \"kingdom\": \"Animalia\", \"genus\": \"Trischizostoma\", \"species\": \"Costai\", \"genus_and_species\": \"Trischizostoma costai\", \"type_status\": \"Holotipo\", \"determiner_first_and_last_name\": \"P Freire\", \"determiner_first_name\": \"P\", \"determiner_last_name\": \"Freire\", \"depth\": \"1364\", \"species_author\": \"Freire & Serejo, 2004\", \"order\": \"Amphipoda\", \"suborder\": \"Nan\", \"infraorder\": \"Nan\", \"superfamily\": \"Nan\", \"family\": \"Trischizostomidae\", \"subfamily\": \"Trischizostominae\", \"tribe\": \"Trischizostomini\", \"determined_year\": null, \"start_year\": 2000.0, \"holotipo_year\": \"2004\", \"counts\": 1}, {\"cataloged_year\": 2006, \"count\": \"1\", \"class\": \"Ostracoda\", \"kingdom\": \"Animalia\", \"genus\": \"Yemanja\", \"species\": \"Coimbrai\", \"genus_and_species\": \"Yemanja coimbrai\", \"type_status\": \"Holotipo\", \"determiner_first_and_last_name\": \"Simone Brandao\", \"determiner_first_name\": \"Simone\", \"determiner_last_name\": \"Brandao\", \"depth\": \"0\", \"species_author\": \"(Brandao, 2005)\", \"order\": \"Podocopida\", \"suborder\": \"Nan\", \"infraorder\": \"Nan\", \"superfamily\": \"Nan\", \"family\": \"Macrocyprididae\", \"subfamily\": \"Macrocypridinae\", \"tribe\": \"Macrocypridini\", \"determined_year\": 2001.0, \"start_year\": 1995.0, \"holotipo_year\": \"2005\", \"counts\": 3}, {\"cataloged_year\": 2006, \"count\": \"1\", \"class\": \"Ostracoda\", \"kingdom\": \"Animalia\", \"genus\": \"Yemanja\", \"species\": \"Youngi\", \"genus_and_species\": \"Yemanja youngi\", \"type_status\": \"Holotipo\", \"determiner_first_and_last_name\": \"Simone Brandao\", \"determiner_first_name\": \"Simone\", \"determiner_last_name\": \"Brandao\", \"depth\": \"0\", \"species_author\": \"(Brandao, 2005)\", \"order\": \"Podocopida\", \"suborder\": \"Nan\", \"infraorder\": \"Nan\", \"superfamily\": \"Nan\", \"family\": \"Macrocyprididae\", \"subfamily\": \"Macrocypridinae\", \"tribe\": \"Macrocypridini\", \"determined_year\": null, \"start_year\": 2000.0, \"holotipo_year\": \"2005\", \"counts\": 3}, {\"cataloged_year\": 2006, \"count\": \"1\", \"class\": \"Ostracoda\", \"kingdom\": \"Animalia\", \"genus\": \"Yemanja\", \"species\": \"Rocas\", \"genus_and_species\": \"Yemanja rocas\", \"type_status\": \"Holotipo\", \"determiner_first_and_last_name\": \"Simone Brandao\", \"determiner_first_name\": \"Simone\", \"determiner_last_name\": \"Brandao\", \"depth\": \"19\", \"species_author\": \"(Brandao, 2005)\", \"order\": \"Podocopida\", \"suborder\": \"Nan\", \"infraorder\": \"Nan\", \"superfamily\": \"Nan\", \"family\": \"Macrocyprididae\", \"subfamily\": \"Macrocypridinae\", \"tribe\": \"Macrocypridini\", \"determined_year\": null, \"start_year\": 2000.0, \"holotipo_year\": \"2005\", \"counts\": 3}, {\"cataloged_year\": 2014, \"count\": \"1\", \"class\": \"Malacostraca\", \"kingdom\": \"Animalia\", \"genus\": \"Hyalella\", \"species\": \"Castroi\", \"genus_and_species\": \"Hyalella castroi\", \"type_status\": \"Holotipo\", \"determiner_first_and_last_name\": \"Paula Araujo\", \"determiner_first_name\": \"Paula\", \"determiner_last_name\": \"Araujo\", \"depth\": \"0\", \"species_author\": \"Gonzalez, Bond-Buckup & Araujo, 2006\", \"order\": \"Amphipoda\", \"suborder\": \"Nan\", \"infraorder\": \"Nan\", \"superfamily\": \"Nan\", \"family\": \"Hyalellidae\", \"subfamily\": \"Hyalellinae\", \"tribe\": \"Hyalellini\", \"determined_year\": null, \"start_year\": 2000.0, \"holotipo_year\": \"2006\", \"counts\": 1}, {\"cataloged_year\": 2006, \"count\": \"1\", \"class\": \"Maxillopoda\", \"kingdom\": \"Animalia\", \"genus\": \"Chthamalus\", \"species\": \"Hedgecocki\", \"genus_and_species\": \"Chthamalus hedgecocki\", \"type_status\": \"Holotipo\", \"determiner_first_and_last_name\": \"Fabio Pitombo\", \"determiner_first_name\": \"Fabio\", \"determiner_last_name\": \"Pitombo\", \"depth\": \"0\", \"species_author\": \"Pitombo & Burton, 2007\", \"order\": \"Thoracica\", \"suborder\": \"Nan\", \"infraorder\": \"Nan\", \"superfamily\": \"Nan\", \"family\": \"Chthamalidae\", \"subfamily\": \"Chthamalinae\", \"tribe\": \"Chthamalini\", \"determined_year\": null, \"start_year\": 2002.0, \"holotipo_year\": \"2007\", \"counts\": 2}, {\"cataloged_year\": 2015, \"count\": \"4\", \"class\": \"Malacostraca\", \"kingdom\": \"Animalia\", \"genus\": \"Meromonakantha\", \"species\": \"Nutae\", \"genus_and_species\": \"Meromonakantha nutae\", \"type_status\": \"Holotipo\", \"determiner_first_and_last_name\": \"Juliana Segadilha\", \"determiner_first_name\": \"Juliana\", \"determiner_last_name\": \"Segadilha\", \"depth\": \"1153\", \"species_author\": \"Blazewicz-Paszkowycz, 2007\", \"order\": \"Tanaidacea\", \"suborder\": \"Nan\", \"infraorder\": \"Nan\", \"superfamily\": \"Nan\", \"family\": \"Typhlotanaidae\", \"subfamily\": \"Typhlotanainae\", \"tribe\": \"Typhlotanaini\", \"determined_year\": null, \"start_year\": 2009.0, \"holotipo_year\": \"2007\", \"counts\": 1}, {\"cataloged_year\": 2006, \"count\": \"1\", \"class\": \"Malacostraca\", \"kingdom\": \"Animalia\", \"genus\": \"Periclimenaeus\", \"species\": \"Crosnieri\", \"genus_and_species\": \"Periclimenaeus crosnieri\", \"type_status\": \"Holotipo\", \"determiner_first_and_last_name\": \"Irene Cardoso\", \"determiner_first_name\": \"Irene\", \"determiner_last_name\": \"Cardoso\", \"depth\": \"20\", \"species_author\": \"Cardoso & Young, 2007\", \"order\": \"Decapoda\", \"suborder\": \"Nan\", \"infraorder\": \"Nan\", \"superfamily\": \"Nan\", \"family\": \"Palaemonidae\", \"subfamily\": \"Pontoniinae\", \"tribe\": \"Pontoniini\", \"determined_year\": null, \"start_year\": 2000.0, \"holotipo_year\": \"2007\", \"counts\": 2}, {\"cataloged_year\": 2006, \"count\": \"1\", \"class\": \"Malacostraca\", \"kingdom\": \"Animalia\", \"genus\": \"Periclimenaeus\", \"species\": \"Brucei\", \"genus_and_species\": \"Periclimenaeus brucei\", \"type_status\": \"Holotipo\", \"determiner_first_and_last_name\": \"Irene Cardoso\", \"determiner_first_name\": \"Irene\", \"determiner_last_name\": \"Cardoso\", \"depth\": \"20\", \"species_author\": \"Cardoso & Young, 2007\", \"order\": \"Decapoda\", \"suborder\": \"Nan\", \"infraorder\": \"Nan\", \"superfamily\": \"Nan\", \"family\": \"Palaemonidae\", \"subfamily\": \"Pontoniinae\", \"tribe\": \"Pontoniini\", \"determined_year\": null, \"start_year\": 2000.0, \"holotipo_year\": \"2007\", \"counts\": 2}, {\"cataloged_year\": 2006, \"count\": \"4\", \"class\": \"Maxillopoda\", \"kingdom\": \"Animalia\", \"genus\": \"Chthamalus\", \"species\": \"Hedgecocki\", \"genus_and_species\": \"Chthamalus hedgecocki\", \"type_status\": \"Holotipo\", \"determiner_first_and_last_name\": \"Fabio Pitombo\", \"determiner_first_name\": \"Fabio\", \"determiner_last_name\": \"Pitombo\", \"depth\": \"0\", \"species_author\": \"Pitombo & Burton, 2007\", \"order\": \"Thoracica\", \"suborder\": \"Nan\", \"infraorder\": \"Nan\", \"superfamily\": \"Nan\", \"family\": \"Chthamalidae\", \"subfamily\": \"Chthamalinae\", \"tribe\": \"Chthamalini\", \"determined_year\": null, \"start_year\": 2002.0, \"holotipo_year\": \"2007\", \"counts\": 2}, {\"cataloged_year\": 2007, \"count\": \"1\", \"class\": \"Malacostraca\", \"kingdom\": \"Animalia\", \"genus\": \"Batea\", \"species\": \"Intermedia\", \"genus_and_species\": \"Batea intermedia\", \"type_status\": \"Holotipo\", \"determiner_first_and_last_name\": \"Cristiana Serejo\", \"determiner_first_name\": \"Cristiana\", \"determiner_last_name\": \"Serejo\", \"depth\": \"77\", \"species_author\": \"Serejo, 2007\", \"order\": \"Amphipoda\", \"suborder\": \"Nan\", \"infraorder\": \"Nan\", \"superfamily\": \"Nan\", \"family\": \"Bateidae\", \"subfamily\": \"Bateinae\", \"tribe\": \"Bateini\", \"determined_year\": 2004.0, \"start_year\": 2002.0, \"holotipo_year\": \"2007\", \"counts\": 1}, {\"cataloged_year\": 2006, \"count\": \"1\", \"class\": \"Malacostraca\", \"kingdom\": \"Animalia\", \"genus\": \"Quadrimaera\", \"species\": \"Rocasensis\", \"genus_and_species\": \"Quadrimaera rocasensis\", \"type_status\": \"Holotipo\", \"determiner_first_and_last_name\": \"Andre Senna\", \"determiner_first_name\": \"Andre\", \"determiner_last_name\": \"Senna\", \"depth\": \"0\", \"species_author\": \"Senna & Serejo, 2007\", \"order\": \"Amphipoda\", \"suborder\": \"Nan\", \"infraorder\": \"Nan\", \"superfamily\": \"Nan\", \"family\": \"Maeridae\", \"subfamily\": \"Melitinae\", \"tribe\": \"Melitini\", \"determined_year\": null, \"start_year\": 2000.0, \"holotipo_year\": \"2007\", \"counts\": 4}, {\"cataloged_year\": 2006, \"count\": \"1\", \"class\": \"Malacostraca\", \"kingdom\": \"Animalia\", \"genus\": \"Salmoneus\", \"species\": \"Rocas\", \"genus_and_species\": \"Salmoneus rocas\", \"type_status\": \"Holotipo\", \"determiner_first_and_last_name\": \"Arthur Anker\", \"determiner_first_name\": \"Arthur\", \"determiner_last_name\": \"Anker\", \"depth\": \"1\", \"species_author\": \"Anker, 2007\\u00a0\", \"order\": \"Decapoda\", \"suborder\": \"Nan\", \"infraorder\": \"Nan\", \"superfamily\": \"Nan\", \"family\": \"Alpheidae\", \"subfamily\": \"Alpheinae\", \"tribe\": \"Alpheini\", \"determined_year\": 2005.0, \"start_year\": 2000.0, \"holotipo_year\": \"2007\", \"counts\": 2}, {\"cataloged_year\": 2003, \"count\": \"1\", \"class\": \"Malacostraca\", \"kingdom\": \"Animalia\", \"genus\": \"Alpheus\", \"species\": \"Christofferseni\", \"genus_and_species\": \"Alpheus christofferseni\", \"type_status\": \"Holotipo\", \"determiner_first_and_last_name\": \"Arthur Anker\", \"determiner_first_name\": \"Arthur\", \"determiner_last_name\": \"Anker\", \"depth\": \"0\", \"species_author\": \"Anker, Hurt & Knowlton, 2007\", \"order\": \"Decapoda\", \"suborder\": \"Nan\", \"infraorder\": \"Nan\", \"superfamily\": \"Nan\", \"family\": \"Alpheidae\", \"subfamily\": \"Alpheinae\", \"tribe\": \"Alpheini\", \"determined_year\": 2005.0, \"start_year\": 2000.0, \"holotipo_year\": \"2007\", \"counts\": 2}, {\"cataloged_year\": 2001, \"count\": \"1\", \"class\": \"Malacostraca\", \"kingdom\": \"Animalia\", \"genus\": \"Stephonyx\", \"species\": \"Uncinatus\", \"genus_and_species\": \"Stephonyx uncinatus\", \"type_status\": \"Holotipo\", \"determiner_first_and_last_name\": \"Andre Senna\", \"determiner_first_name\": \"Andre\", \"determiner_last_name\": \"Senna\", \"depth\": \"0\", \"species_author\": \"Senna & Serejo, 2007\", \"order\": \"Amphipoda\", \"suborder\": \"Nan\", \"infraorder\": \"Nan\", \"superfamily\": \"Nan\", \"family\": \"Uristidae\", \"subfamily\": \"Uristinae\", \"tribe\": \"Uristinii\", \"determined_year\": null, \"start_year\": 2001.0, \"holotipo_year\": \"2007\", \"counts\": 4}, {\"cataloged_year\": 2006, \"count\": \"8\", \"class\": \"Malacostraca\", \"kingdom\": \"Animalia\", \"genus\": \"Lysianopsis\", \"species\": \"Concavus\", \"genus_and_species\": \"Lysianopsis concavus\", \"type_status\": \"Holotipo\", \"determiner_first_and_last_name\": \"Andre Senna\", \"determiner_first_name\": \"Andre\", \"determiner_last_name\": \"Senna\", \"depth\": \"20\", \"species_author\": \"Senna, 2007\", \"order\": \"Amphipoda\", \"suborder\": \"Nan\", \"infraorder\": \"Nan\", \"superfamily\": \"Nan\", \"family\": \"Lysianassidae\", \"subfamily\": \"Lysianassinae\", \"tribe\": \"Lysianassini\", \"determined_year\": 2001.0, \"start_year\": 2001.0, \"holotipo_year\": \"2007\", \"counts\": 4}, {\"cataloged_year\": 2006, \"count\": \"1\", \"class\": \"Malacostraca\", \"kingdom\": \"Animalia\", \"genus\": \"Quadrimaera\", \"species\": \"Chaelata\", \"genus_and_species\": \"Quadrimaera chaelata\", \"type_status\": \"Holotipo\", \"determiner_first_and_last_name\": \"Andre Senna\", \"determiner_first_name\": \"Andre\", \"determiner_last_name\": \"Senna\", \"depth\": \"0\", \"species_author\": \"Senna & Serejo, 2007\", \"order\": \"Amphipoda\", \"suborder\": \"Nan\", \"infraorder\": \"Nan\", \"superfamily\": \"Nan\", \"family\": \"Maeridae\", \"subfamily\": \"Melitinae\", \"tribe\": \"Melitini\", \"determined_year\": 2003.0, \"start_year\": 2000.0, \"holotipo_year\": \"2007\", \"counts\": 4}, {\"cataloged_year\": 1994, \"count\": \"1\", \"class\": \"Malacostraca\", \"kingdom\": \"Animalia\", \"genus\": \"Heptapactes\", \"species\": \"Quadrisaetosus\", \"genus_and_species\": \"Heptapactes quadrisaetosus\", \"type_status\": \"Holotipo\", \"determiner_first_and_last_name\": \"Christian Schmidt\", \"determiner_first_name\": \"Christian\", \"determiner_last_name\": \"Schmidt\", \"depth\": \"0\", \"species_author\": \"Schmidt, 2007\", \"order\": \"Isopoda\", \"suborder\": \"Nan\", \"infraorder\": \"Nan\", \"superfamily\": \"Nan\", \"family\": \"Eubelidae\", \"subfamily\": \"Eubelinae\", \"tribe\": \"Eubelini\", \"determined_year\": null, \"start_year\": 1966.0, \"holotipo_year\": \"2007\", \"counts\": 1}, {\"cataloged_year\": 2006, \"count\": \"1\", \"class\": \"Malacostraca\", \"kingdom\": \"Animalia\", \"genus\": \"Haploops\", \"species\": \"Meloi\", \"genus_and_species\": \"Haploops meloi\", \"type_status\": \"Holotipo\", \"determiner_first_and_last_name\": \"Maria Berardo\", \"determiner_first_name\": \"Maria\", \"determiner_last_name\": \"Berardo\", \"depth\": \"1050\", \"species_author\": \"Valerio-Berardo, 2008\", \"order\": \"Amphipoda\", \"suborder\": \"Nan\", \"infraorder\": \"Nan\", \"superfamily\": \"Nan\", \"family\": \"Ampeliscidae\", \"subfamily\": \"Ampeliscinae\", \"tribe\": \"Ampeliscini\", \"determined_year\": 2008.0, \"start_year\": 2003.0, \"holotipo_year\": \"2008\", \"counts\": 4}, {\"cataloged_year\": 2006, \"count\": \"1\", \"class\": \"Malacostraca\", \"kingdom\": \"Animalia\", \"genus\": \"Ampelisca\", \"species\": \"Campensis\", \"genus_and_species\": \"Ampelisca campensis\", \"type_status\": \"Holotipo\", \"determiner_first_and_last_name\": \"Maria Berardo\", \"determiner_first_name\": \"Maria\", \"determiner_last_name\": \"Berardo\", \"depth\": \"1650\", \"species_author\": \"Valerio-Berardo, 2008\", \"order\": \"Amphipoda\", \"suborder\": \"Nan\", \"infraorder\": \"Nan\", \"superfamily\": \"Nan\", \"family\": \"Ampeliscidae\", \"subfamily\": \"Ampeliscinae\", \"tribe\": \"Ampeliscini\", \"determined_year\": 2008.0, \"start_year\": 2003.0, \"holotipo_year\": \"2008\", \"counts\": 4}, {\"cataloged_year\": 2006, \"count\": \"1\", \"class\": \"Malacostraca\", \"kingdom\": \"Animalia\", \"genus\": \"Ampelisca\", \"species\": \"Wakabarae\", \"genus_and_species\": \"Ampelisca wakabarae\", \"type_status\": \"Holotipo\", \"determiner_first_and_last_name\": \"Maria Berardo\", \"determiner_first_name\": \"Maria\", \"determiner_last_name\": \"Berardo\", \"depth\": \"1050\", \"species_author\": \"Valerio-Berardo, 2008\", \"order\": \"Amphipoda\", \"suborder\": \"Nan\", \"infraorder\": \"Nan\", \"superfamily\": \"Nan\", \"family\": \"Ampeliscidae\", \"subfamily\": \"Ampeliscinae\", \"tribe\": \"Ampeliscini\", \"determined_year\": 2008.0, \"start_year\": 2003.0, \"holotipo_year\": \"2008\", \"counts\": 4}, {\"cataloged_year\": 2007, \"count\": \"1\", \"class\": \"Malacostraca\", \"kingdom\": \"Animalia\", \"genus\": \"Benthana\", \"species\": \"Cairensis\", \"genus_and_species\": \"Benthana cairensis\", \"type_status\": \"Holotipo\", \"determiner_first_and_last_name\": \"Paula Araujo\", \"determiner_first_name\": \"Paula\", \"determiner_last_name\": \"Araujo\", \"depth\": \"0\", \"species_author\": \"Sokolowicz, Araujo & Boelter, 2008\", \"order\": \"Isopoda\", \"suborder\": \"Nan\", \"infraorder\": \"Nan\", \"superfamily\": \"Nan\", \"family\": \"Philosciidae\", \"subfamily\": \"Philosciinae\", \"tribe\": \"Philosciini\", \"determined_year\": 2004.0, \"start_year\": 2004.0, \"holotipo_year\": \"2008\", \"counts\": 1}, {\"cataloged_year\": 2007, \"count\": \"1\", \"class\": \"Malacostraca\", \"kingdom\": \"Animalia\", \"genus\": \"Ampelisca\", \"species\": \"Minuta\", \"genus_and_species\": \"Ampelisca minuta\", \"type_status\": \"Holotipo\", \"determiner_first_and_last_name\": \"Maria Berardo\", \"determiner_first_name\": \"Maria\", \"determiner_last_name\": \"Berardo\", \"depth\": \"750\", \"species_author\": \"Valerio-Berardo, 2008\", \"order\": \"Amphipoda\", \"suborder\": \"Nan\", \"infraorder\": \"Nan\", \"superfamily\": \"Nan\", \"family\": \"Ampeliscidae\", \"subfamily\": \"Ampeliscinae\", \"tribe\": \"Ampeliscini\", \"determined_year\": null, \"start_year\": 2002.0, \"holotipo_year\": \"2008\", \"counts\": 4}, {\"cataloged_year\": 2007, \"count\": \"1\", \"class\": \"Malacostraca\", \"kingdom\": \"Animalia\", \"genus\": \"Ampelisca\", \"species\": \"Anae\", \"genus_and_species\": \"Ampelisca anae\", \"type_status\": \"Holotipo\", \"determiner_first_and_last_name\": \"Andre Senna\", \"determiner_first_name\": \"Andre\", \"determiner_last_name\": \"Senna\", \"depth\": \"750\", \"species_author\": \"Valerio-Berardo, 2008\", \"order\": \"Amphipoda\", \"suborder\": \"Nan\", \"infraorder\": \"Nan\", \"superfamily\": \"Nan\", \"family\": \"Ampeliscidae\", \"subfamily\": \"Ampeliscinae\", \"tribe\": \"Ampeliscini\", \"determined_year\": 2008.0, \"start_year\": 2002.0, \"holotipo_year\": \"2008\", \"counts\": 4}, {\"cataloged_year\": 2007, \"count\": \"1\", \"class\": \"Malacostraca\", \"kingdom\": \"Animalia\", \"genus\": \"Byblis\", \"species\": \"Bjornbergae\", \"genus_and_species\": \"Byblis bjornbergae\", \"type_status\": \"Holotipo\", \"determiner_first_and_last_name\": \"Andre Senna\", \"determiner_first_name\": \"Andre\", \"determiner_last_name\": \"Senna\", \"depth\": \"750\", \"species_author\": \"Valerio-Berardo, 2008\", \"order\": \"Amphipoda\", \"suborder\": \"Nan\", \"infraorder\": \"Nan\", \"superfamily\": \"Nan\", \"family\": \"Ampeliscidae\", \"subfamily\": \"Ampeliscinae\", \"tribe\": \"Ampeliscini\", \"determined_year\": 2007.0, \"start_year\": 2002.0, \"holotipo_year\": \"2008\", \"counts\": 4}, {\"cataloged_year\": 2003, \"count\": \"1\", \"class\": \"Malacostraca\", \"kingdom\": \"Animalia\", \"genus\": \"Bonassa\", \"species\": \"Brasiliensis\", \"genus_and_species\": \"Bonassa brasiliensis\", \"type_status\": \"Holotipo\", \"determiner_first_and_last_name\": \"Andre Senna\", \"determiner_first_name\": \"Andre\", \"determiner_last_name\": \"Senna\", \"depth\": \"50\", \"species_author\": \"Senna & Serejo, 2008\", \"order\": \"Amphipoda\", \"suborder\": \"Nan\", \"infraorder\": \"Nan\", \"superfamily\": \"Nan\", \"family\": \"Lysianassidae\", \"subfamily\": \"Lysianassinae\", \"tribe\": \"Lysianassini\", \"determined_year\": 2001.0, \"start_year\": 2001.0, \"holotipo_year\": \"2008\", \"counts\": 4}, {\"cataloged_year\": 2007, \"count\": \"1\", \"class\": \"Malacostraca\", \"kingdom\": \"Animalia\", \"genus\": \"Curidia\", \"species\": \"Wakabarae\", \"genus_and_species\": \"Curidia wakabarae\", \"type_status\": \"Holotipo\", \"determiner_first_and_last_name\": \"Jesser Filho\", \"determiner_first_name\": \"Jesser\", \"determiner_last_name\": \"Filho\", \"depth\": \"0\", \"species_author\": \"De Souza-Filho & Serejo, 2008\\u00a0\", \"order\": \"Amphipoda\", \"suborder\": \"Nan\", \"infraorder\": \"Nan\", \"superfamily\": \"Nan\", \"family\": \"Ochlesidae\", \"subfamily\": \"Ochlesinae\", \"tribe\": \"Ochlesini\", \"determined_year\": 2007.0, \"start_year\": 1998.0, \"holotipo_year\": \"2008\", \"counts\": 1}, {\"cataloged_year\": 2006, \"count\": \"1\", \"class\": \"Malacostraca\", \"kingdom\": \"Animalia\", \"genus\": \"Amaryllis\", \"species\": \"Atlantica\", \"genus_and_species\": \"Amaryllis atlantica\", \"type_status\": \"Holotipo\", \"determiner_first_and_last_name\": \"Andre Senna\", \"determiner_first_name\": \"Andre\", \"determiner_last_name\": \"Senna\", \"depth\": \"20\", \"species_author\": \"Senna & Serejo, 2008\", \"order\": \"Amphipoda\", \"suborder\": \"Nan\", \"infraorder\": \"Nan\", \"superfamily\": \"Nan\", \"family\": \"Amaryllididae\", \"subfamily\": \"Lysianassinae\", \"tribe\": \"Lysianassini\", \"determined_year\": 2005.0, \"start_year\": 2001.0, \"holotipo_year\": \"2008\", \"counts\": 4}, {\"cataloged_year\": 2006, \"count\": \"1\", \"class\": \"Malacostraca\", \"kingdom\": \"Animalia\", \"genus\": \"Lepechinella\", \"species\": \"Campensis\", \"genus_and_species\": \"Lepechinella campensis\", \"type_status\": \"Holotipo\", \"determiner_first_and_last_name\": \"Daniela Sittrop\", \"determiner_first_name\": \"Daniela\", \"determiner_last_name\": \"Sittrop\", \"depth\": \"1050\", \"species_author\": \"Sittrop & Serejo, 2009\", \"order\": \"Amphipoda\", \"suborder\": \"Nan\", \"infraorder\": \"Nan\", \"superfamily\": \"Nan\", \"family\": \"Lepechinellidae\", \"subfamily\": \"Lepechinellinae\", \"tribe\": \"Lepechinellini\", \"determined_year\": null, \"start_year\": 2002.0, \"holotipo_year\": \"2009\", \"counts\": 3}, {\"cataloged_year\": 2009, \"count\": \"1\", \"class\": \"Malacostraca\", \"kingdom\": \"Animalia\", \"genus\": \"Lepechinella\", \"species\": \"Hirsuta\", \"genus_and_species\": \"Lepechinella hirsuta\", \"type_status\": \"Holotipo\", \"determiner_first_and_last_name\": \"Daniela Sittrop\", \"determiner_first_name\": \"Daniela\", \"determiner_last_name\": \"Sittrop\", \"depth\": \"1050\", \"species_author\": \"Sittrop & Serejo, 2009\", \"order\": \"Amphipoda\", \"suborder\": \"Nan\", \"infraorder\": \"Nan\", \"superfamily\": \"Nan\", \"family\": \"Lepechinellidae\", \"subfamily\": \"Lepechinellinae\", \"tribe\": \"Lepechinellini\", \"determined_year\": null, \"start_year\": 2002.0, \"holotipo_year\": \"2009\", \"counts\": 3}, {\"cataloged_year\": 2006, \"count\": \"1\", \"class\": \"Malacostraca\", \"kingdom\": \"Animalia\", \"genus\": \"Lepechinella\", \"species\": \"Laurensi\", \"genus_and_species\": \"Lepechinella laurensi\", \"type_status\": \"Holotipo\", \"determiner_first_and_last_name\": \"Daniela Sittrop\", \"determiner_first_name\": \"Daniela\", \"determiner_last_name\": \"Sittrop\", \"depth\": \"1950\", \"species_author\": \"Sittrop & Serejo, 2009\", \"order\": \"Amphipoda\", \"suborder\": \"Nan\", \"infraorder\": \"Nan\", \"superfamily\": \"Nan\", \"family\": \"Lepechinellidae\", \"subfamily\": \"Lepechinellinae\", \"tribe\": \"Lepechinellini\", \"determined_year\": null, \"start_year\": 2003.0, \"holotipo_year\": \"2009\", \"counts\": 3}, {\"cataloged_year\": 2009, \"count\": \"1\", \"class\": \"Malacostraca\", \"kingdom\": \"Animalia\", \"genus\": \"Ampelisca\", \"species\": \"Angraensis\", \"genus_and_species\": \"Ampelisca angraensis\", \"type_status\": \"Holotipo\", \"determiner_first_and_last_name\": \"Jesser Filho\", \"determiner_first_name\": \"Jesser\", \"determiner_last_name\": \"Filho\", \"depth\": \"12\", \"species_author\": \"Souza-Filho, Souza & Valerio-Berardo, 2009\", \"order\": \"Amphipoda\", \"suborder\": \"Nan\", \"infraorder\": \"Nan\", \"superfamily\": \"Nan\", \"family\": \"Ampeliscidae\", \"subfamily\": \"Ampeliscinae\", \"tribe\": \"Ampeliscini\", \"determined_year\": null, \"start_year\": 1969.0, \"holotipo_year\": \"2009\", \"counts\": 4}, {\"cataloged_year\": 2009, \"count\": \"1\", \"class\": \"Malacostraca\", \"kingdom\": \"Animalia\", \"genus\": \"Ampelisca\", \"species\": \"Pseudobicarinata\", \"genus_and_species\": \"Ampelisca pseudobicarinata\", \"type_status\": \"Holotipo\", \"determiner_first_and_last_name\": \"Jesser Filho\", \"determiner_first_name\": \"Jesser\", \"determiner_last_name\": \"Filho\", \"depth\": \"0\", \"species_author\": \"Souza-Filho, Souza & Valerio-Berardo, 2009 \", \"order\": \"Amphipoda\", \"suborder\": \"Nan\", \"infraorder\": \"Nan\", \"superfamily\": \"Nan\", \"family\": \"Ampeliscidae\", \"subfamily\": \"Ampeliscinae\", \"tribe\": \"Ampeliscini\", \"determined_year\": null, \"start_year\": 1997.0, \"holotipo_year\": \"2009\", \"counts\": 4}, {\"cataloged_year\": 2009, \"count\": \"16\", \"class\": \"Malacostraca\", \"kingdom\": \"Animalia\", \"genus\": \"Ampelisca\", \"species\": \"Cristianae\", \"genus_and_species\": \"Ampelisca cristianae\", \"type_status\": \"Holotipo\", \"determiner_first_and_last_name\": \"Jesser Filho\", \"determiner_first_name\": \"Jesser\", \"determiner_last_name\": \"Filho\", \"depth\": \"22\", \"species_author\": \"Souza-Filho, Souza & Valerio-Berardo, 2009 \", \"order\": \"Amphipoda\", \"suborder\": \"Nan\", \"infraorder\": \"Nan\", \"superfamily\": \"Nan\", \"family\": \"Ampeliscidae\", \"subfamily\": \"Ampeliscinae\", \"tribe\": \"Ampeliscini\", \"determined_year\": null, \"start_year\": 1998.0, \"holotipo_year\": \"2009\", \"counts\": 4}, {\"cataloged_year\": 2009, \"count\": \"1\", \"class\": \"Malacostraca\", \"kingdom\": \"Animalia\", \"genus\": \"Ampelisca\", \"species\": \"Rocasensis\", \"genus_and_species\": \"Ampelisca rocasensis\", \"type_status\": \"Holotipo\", \"determiner_first_and_last_name\": \"Jesser Filho\", \"determiner_first_name\": \"Jesser\", \"determiner_last_name\": \"Filho\", \"depth\": \"70.7\", \"species_author\": \"Souza-Filho, Souza & Valerio-Berardo, 2009\", \"order\": \"Amphipoda\", \"suborder\": \"Nan\", \"infraorder\": \"Nan\", \"superfamily\": \"Nan\", \"family\": \"Ampeliscidae\", \"subfamily\": \"Ampeliscinae\", \"tribe\": \"Ampeliscini\", \"determined_year\": null, \"start_year\": 2000.0, \"holotipo_year\": \"2009\", \"counts\": 4}, {\"cataloged_year\": 2007, \"count\": \"1\", \"class\": \"Malacostraca\", \"kingdom\": \"Animalia\", \"genus\": \"Leptophoxoides\", \"species\": \"Marina\", \"genus_and_species\": \"Leptophoxoides marina\", \"type_status\": \"Holotipo\", \"determiner_first_and_last_name\": \"Andre Senna\", \"determiner_first_name\": \"Andre\", \"determiner_last_name\": \"Senna\", \"depth\": \"750\", \"species_author\": \"Senna, 2010\", \"order\": \"Amphipoda\", \"suborder\": \"Nan\", \"infraorder\": \"Nan\", \"superfamily\": \"Nan\", \"family\": \"Phoxocephalidae\", \"subfamily\": \"Phoxocephalinae\", \"tribe\": \"Phoxocephalini\", \"determined_year\": null, \"start_year\": 2002.0, \"holotipo_year\": \"2010\", \"counts\": 5}, {\"cataloged_year\": 2010, \"count\": \"1\", \"class\": \"Malacostraca\", \"kingdom\": \"Animalia\", \"genus\": \"Chevalia\", \"species\": \"Setosa\", \"genus_and_species\": \"Chevalia setosa\", \"type_status\": \"Holotipo\", \"determiner_first_and_last_name\": \"Jesser Filho\", \"determiner_first_name\": \"Jesser\", \"determiner_last_name\": \"Filho\", \"depth\": \"19\", \"species_author\": \"Souza-Filho, Souza & Valerio-Berardo, 2010\", \"order\": \"Amphipoda\", \"suborder\": \"Nan\", \"infraorder\": \"Nan\", \"superfamily\": \"Nan\", \"family\": \"Chevaliidae\", \"subfamily\": \"Chevaliinae\", \"tribe\": \"Chevaliini\", \"determined_year\": null, \"start_year\": 2000.0, \"holotipo_year\": \"2010\", \"counts\": 6}, {\"cataloged_year\": 2009, \"count\": \"1\", \"class\": \"Malacostraca\", \"kingdom\": \"Animalia\", \"genus\": \"Rocasphotis\", \"species\": \"Aiso\", \"genus_and_species\": \"Rocasphotis aiso\", \"type_status\": \"Holotipo\", \"determiner_first_and_last_name\": \"Jesser Filho\", \"determiner_first_name\": \"Jesser\", \"determiner_last_name\": \"Filho\", \"depth\": \"16\", \"species_author\": \"Souza-Filho & Serejo, 2010\", \"order\": \"Amphipoda\", \"suborder\": \"Nan\", \"infraorder\": \"Nan\", \"superfamily\": \"Nan\", \"family\": \"Photidae\", \"subfamily\": \"Photinae\", \"tribe\": \"Photini\", \"determined_year\": null, \"start_year\": 2000.0, \"holotipo_year\": \"2010\", \"counts\": 6}, {\"cataloged_year\": 2010, \"count\": \"1\", \"class\": \"Malacostraca\", \"kingdom\": \"Animalia\", \"genus\": \"Chevalia\", \"species\": \"Convexa\", \"genus_and_species\": \"Chevalia convexa\", \"type_status\": \"Holotipo\", \"determiner_first_and_last_name\": \"Jesser Filho\", \"determiner_first_name\": \"Jesser\", \"determiner_last_name\": \"Filho\", \"depth\": \"22\", \"species_author\": \"Souza-Filho, Souza & Valerio-Berardo, 2010\", \"order\": \"Amphipoda\", \"suborder\": \"Nan\", \"infraorder\": \"Nan\", \"superfamily\": \"Nan\", \"family\": \"Chevaliidae\", \"subfamily\": \"Chevaliinae\", \"tribe\": \"Chevaliini\", \"determined_year\": null, \"start_year\": 1998.0, \"holotipo_year\": \"2010\", \"counts\": 6}, {\"cataloged_year\": 2009, \"count\": \"1\", \"class\": \"Malacostraca\", \"kingdom\": \"Animalia\", \"genus\": \"Photis\", \"species\": \"Sarae\", \"genus_and_species\": \"Photis sarae\", \"type_status\": \"Holotipo\", \"determiner_first_and_last_name\": \"Jesser Filho\", \"determiner_first_name\": \"Jesser\", \"determiner_last_name\": \"Filho\", \"depth\": \"0\", \"species_author\": \"Souza-Filho & Serejo, 2010\", \"order\": \"Amphipoda\", \"suborder\": \"Nan\", \"infraorder\": \"Nan\", \"superfamily\": \"Nan\", \"family\": \"Photidae\", \"subfamily\": \"Photinae\", \"tribe\": \"Photini\", \"determined_year\": null, \"start_year\": 1997.0, \"holotipo_year\": \"2010\", \"counts\": 6}, {\"cataloged_year\": 2002, \"count\": \"1\", \"class\": \"Malacostraca\", \"kingdom\": \"Animalia\", \"genus\": \"Chevalia\", \"species\": \"Thomasi\", \"genus_and_species\": \"Chevalia thomasi\", \"type_status\": \"Holotipo\", \"determiner_first_and_last_name\": \"Jesser Filho\", \"determiner_first_name\": \"Jesser\", \"determiner_last_name\": \"Filho\", \"depth\": \"16\", \"species_author\": \"Souza-Filho, Souza & Valerio-Berardo, 2010\", \"order\": \"Amphipoda\", \"suborder\": \"Nan\", \"infraorder\": \"Nan\", \"superfamily\": \"Nan\", \"family\": \"Chevaliidae\", \"subfamily\": \"Chevaliinae\", \"tribe\": \"Chevaliini\", \"determined_year\": null, \"start_year\": 1997.0, \"holotipo_year\": \"2010\", \"counts\": 6}, {\"cataloged_year\": 2006, \"count\": \"1\", \"class\": \"Malacostraca\", \"kingdom\": \"Animalia\", \"genus\": \"Pseudharpinia\", \"species\": \"Ovata\", \"genus_and_species\": \"Pseudharpinia ovata\", \"type_status\": \"Holotipo\", \"determiner_first_and_last_name\": \"Andre Senna\", \"determiner_first_name\": \"Andre\", \"determiner_last_name\": \"Senna\", \"depth\": \"1100\", \"species_author\": \"Senna, 2010\", \"order\": \"Amphipoda\", \"suborder\": \"Nan\", \"infraorder\": \"Nan\", \"superfamily\": \"Nan\", \"family\": \"Phoxocephalidae\", \"subfamily\": \"Harpiniinae\", \"tribe\": \"Harpiniini\", \"determined_year\": 2007.0, \"start_year\": 2002.0, \"holotipo_year\": \"2010\", \"counts\": 5}, {\"cataloged_year\": 2010, \"count\": \"1\", \"class\": \"Malacostraca\", \"kingdom\": \"Animalia\", \"genus\": \"Lysianassa\", \"species\": \"Tememino\", \"genus_and_species\": \"Lysianassa tememino\", \"type_status\": \"Holotipo\", \"determiner_first_and_last_name\": \"Andre Senna\", \"determiner_first_name\": \"Andre\", \"determiner_last_name\": \"Senna\", \"depth\": \"2\", \"species_author\": \"Senna & Souza-Filho, 2010\\u00a0\", \"order\": \"Amphipoda\", \"suborder\": \"Nan\", \"infraorder\": \"Nan\", \"superfamily\": \"Nan\", \"family\": \"Lysianassidae\", \"subfamily\": \"Lysianassinae\", \"tribe\": \"Lysianassini\", \"determined_year\": 2010.0, \"start_year\": 2005.0, \"holotipo_year\": \"2010\", \"counts\": 5}, {\"cataloged_year\": 2007, \"count\": \"1\", \"class\": \"Malacostraca\", \"kingdom\": \"Animalia\", \"genus\": \"Bathybirubius\", \"species\": \"Margaretae\", \"genus_and_species\": \"Bathybirubius margaretae\", \"type_status\": \"Holotipo\", \"determiner_first_and_last_name\": \"Andre Senna\", \"determiner_first_name\": \"Andre\", \"determiner_last_name\": \"Senna\", \"depth\": null, \"species_author\": \"Senna, 2010\", \"order\": \"Amphipoda\", \"suborder\": \"Gammaridea\", \"infraorder\": \"Nan\", \"superfamily\": \"Nan\", \"family\": \"Phoxocephalidae\", \"subfamily\": \"Birubiinae\", \"tribe\": \"Nan\", \"determined_year\": 2007.0, \"start_year\": 2003.0, \"holotipo_year\": \"2010\", \"counts\": 5}, {\"cataloged_year\": 2006, \"count\": \"1\", \"class\": \"Malacostraca\", \"kingdom\": \"Animalia\", \"genus\": \"Pseudharpinia\", \"species\": \"Berardo\", \"genus_and_species\": \"Pseudharpinia berardo\", \"type_status\": \"Holotipo\", \"determiner_first_and_last_name\": \"Andre Senna\", \"determiner_first_name\": \"Andre\", \"determiner_last_name\": \"Senna\", \"depth\": \"900\", \"species_author\": \"Senna, 2010\", \"order\": \"Amphipoda\", \"suborder\": \"Nan\", \"infraorder\": \"Nan\", \"superfamily\": \"Nan\", \"family\": \"Phoxocephalidae\", \"subfamily\": \"Harpiniinae\", \"tribe\": \"Harpiniini\", \"determined_year\": null, \"start_year\": 2002.0, \"holotipo_year\": \"2010\", \"counts\": 5}, {\"cataloged_year\": 2010, \"count\": \"2\", \"class\": \"Malacostraca\", \"kingdom\": \"Animalia\", \"genus\": \"Gabunillo\", \"species\": \"Aridicola\", \"genus_and_species\": \"Gabunillo aridicola\", \"type_status\": \"Holotipo\", \"determiner_first_and_last_name\": \"Adriano Kury\", \"determiner_first_name\": \"Adriano\", \"determiner_last_name\": \"Kury\", \"depth\": \"0\", \"species_author\": \"Souza, Senna & Kury 2010\", \"order\": \"Isopoda\", \"suborder\": \"Nan\", \"infraorder\": \"Nan\", \"superfamily\": \"Nan\", \"family\": \"Armadillidae\", \"subfamily\": \"Armadillinae\", \"tribe\": \"Armadillini\", \"determined_year\": null, \"start_year\": 2007.0, \"holotipo_year\": \"2010\", \"counts\": 1}, {\"cataloged_year\": 1996, \"count\": \"1\", \"class\": \"Malacostraca\", \"kingdom\": \"Animalia\", \"genus\": \"Chevalia\", \"species\": \"Caetes\", \"genus_and_species\": \"Chevalia caetes\", \"type_status\": \"Holotipo\", \"determiner_first_and_last_name\": \"Jesser Filho\", \"determiner_first_name\": \"Jesser\", \"determiner_last_name\": \"Filho\", \"depth\": \"0\", \"species_author\": \"Souza-Filho, Souza & Valerio-Berardo, 2010\", \"order\": \"Amphipoda\", \"suborder\": \"Nan\", \"infraorder\": \"Nan\", \"superfamily\": \"Nan\", \"family\": \"Chevaliidae\", \"subfamily\": \"Chevaliinae\", \"tribe\": \"Chevaliini\", \"determined_year\": null, \"start_year\": 1995.0, \"holotipo_year\": \"2010\", \"counts\": 6}, {\"cataloged_year\": 1994, \"count\": \"4\", \"class\": \"Malacostraca\", \"kingdom\": \"Animalia\", \"genus\": \"Trichorhina\", \"species\": \"Crassisetae\", \"genus_and_species\": \"Trichorhina crassisetae\", \"type_status\": \"Holotipo\", \"determiner_first_and_last_name\": \"L Kury\", \"determiner_first_name\": \"L\", \"determiner_last_name\": \"Kury\", \"depth\": \"0\", \"species_author\": \"Souza, Araujo & Campos-Filho, 2011\", \"order\": \"Isopoda\", \"suborder\": \"Nan\", \"infraorder\": \"Nan\", \"superfamily\": \"Nan\", \"family\": \"Platyarthridae\", \"subfamily\": \"Platyarthrinae\", \"tribe\": \"Platyarthrini\", \"determined_year\": 1991.0, \"start_year\": 1964.0, \"holotipo_year\": \"2011\", \"counts\": 6}, {\"cataloged_year\": 1994, \"count\": \"4\", \"class\": \"Malacostraca\", \"kingdom\": \"Animalia\", \"genus\": \"Trichorhina\", \"species\": \"Lenkoi\", \"genus_and_species\": \"Trichorhina lenkoi\", \"type_status\": \"Holotipo\", \"determiner_first_and_last_name\": \"L Kury\", \"determiner_first_name\": \"L\", \"determiner_last_name\": \"Kury\", \"depth\": \"0\", \"species_author\": \"Souza, Araujo & Campos-Filho, 2011\", \"order\": \"Isopoda\", \"suborder\": \"Nan\", \"infraorder\": \"Nan\", \"superfamily\": \"Nan\", \"family\": \"Platyarthridae\", \"subfamily\": \"Platyarthrinae\", \"tribe\": \"Platyarthrini\", \"determined_year\": 1991.0, \"start_year\": 1970.0, \"holotipo_year\": \"2011\", \"counts\": 6}, {\"cataloged_year\": 1994, \"count\": \"4\", \"class\": \"Malacostraca\", \"kingdom\": \"Animalia\", \"genus\": \"Trichorhina\", \"species\": \"Myrmecophila\", \"genus_and_species\": \"Trichorhina myrmecophila\", \"type_status\": \"Holotipo\", \"determiner_first_and_last_name\": \"L Kury\", \"determiner_first_name\": \"L\", \"determiner_last_name\": \"Kury\", \"depth\": \"0\", \"species_author\": \"Souza, Araujo & Campos-Filho, 2011\", \"order\": \"Isopoda\", \"suborder\": \"Nan\", \"infraorder\": \"Nan\", \"superfamily\": \"Nan\", \"family\": \"Platyarthridae\", \"subfamily\": \"Platyarthrinae\", \"tribe\": \"Platyarthrini\", \"determined_year\": 1991.0, \"start_year\": 1967.0, \"holotipo_year\": \"2011\", \"counts\": 6}, {\"cataloged_year\": 1994, \"count\": \"4\", \"class\": \"Malacostraca\", \"kingdom\": \"Animalia\", \"genus\": \"Trichorhina\", \"species\": \"Orensis\", \"genus_and_species\": \"Trichorhina orensis\", \"type_status\": \"Holotipo\", \"determiner_first_and_last_name\": \"L Kury\", \"determiner_first_name\": \"L\", \"determiner_last_name\": \"Kury\", \"depth\": \"0\", \"species_author\": \"Souza, Araujo & Campos-Filho, 2011\", \"order\": \"Isopoda\", \"suborder\": \"Nan\", \"infraorder\": \"Nan\", \"superfamily\": \"Nan\", \"family\": \"Platyarthridae\", \"subfamily\": \"Platyarthrinae\", \"tribe\": \"Platyarthrini\", \"determined_year\": 1991.0, \"start_year\": 1973.0, \"holotipo_year\": \"2011\", \"counts\": 6}, {\"cataloged_year\": 1994, \"count\": \"4\", \"class\": \"Malacostraca\", \"kingdom\": \"Animalia\", \"genus\": \"Trichorhina\", \"species\": \"Sexdens\", \"genus_and_species\": \"Trichorhina sexdens\", \"type_status\": \"Holotipo\", \"determiner_first_and_last_name\": \"L Kury\", \"determiner_first_name\": \"L\", \"determiner_last_name\": \"Kury\", \"depth\": \"0\", \"species_author\": \"Souza, Araujo & Campos-Filho, 2011\", \"order\": \"Isopoda\", \"suborder\": \"Nan\", \"infraorder\": \"Nan\", \"superfamily\": \"Nan\", \"family\": \"Platyarthridae\", \"subfamily\": \"Platyarthrinae\", \"tribe\": \"Platyarthrini\", \"determined_year\": 1991.0, \"start_year\": 1963.0, \"holotipo_year\": \"2011\", \"counts\": 6}, {\"cataloged_year\": 2010, \"count\": \"1\", \"class\": \"Malacostraca\", \"kingdom\": \"Animalia\", \"genus\": \"Microcheus\", \"species\": \"Nortoni\", \"genus_and_species\": \"Microcheus nortoni\", \"type_status\": \"Holotipo\", \"determiner_first_and_last_name\": \"Jesser Filho\", \"determiner_first_name\": \"Jesser\", \"determiner_last_name\": \"Filho\", \"depth\": \"1\", \"species_author\": \"Souza-Filho, 2011 \", \"order\": \"Amphipoda\", \"suborder\": \"Nan\", \"infraorder\": \"Nan\", \"superfamily\": \"Nan\", \"family\": \"Cheidae\", \"subfamily\": \"Cheinae\", \"tribe\": \"Cheini\", \"determined_year\": null, \"start_year\": 2003.0, \"holotipo_year\": \"2011\", \"counts\": 1}, {\"cataloged_year\": 2000, \"count\": \"1\", \"class\": \"Malacostraca\", \"kingdom\": \"Animalia\", \"genus\": \"Plesionika\", \"species\": \"Revizeei\", \"genus_and_species\": \"Plesionika revizeei\", \"type_status\": \"Holotipo\", \"determiner_first_and_last_name\": \"Irene Cardoso\", \"determiner_first_name\": \"Irene\", \"determiner_last_name\": \"Cardoso\", \"depth\": \"573\", \"species_author\": \"Cardoso, 2011\", \"order\": \"Decapoda\", \"suborder\": \"Nan\", \"infraorder\": \"Nan\", \"superfamily\": \"Nan\", \"family\": \"Pandalidae\", \"subfamily\": \"Pandalinae\", \"tribe\": \"Pandalini\", \"determined_year\": null, \"start_year\": 2000.0, \"holotipo_year\": \"2011\", \"counts\": 1}, {\"cataloged_year\": 2013, \"count\": \"1\", \"class\": \"Malacostraca\", \"kingdom\": \"Animalia\", \"genus\": \"Pseudharpinia\", \"species\": \"Tupinamba\", \"genus_and_species\": \"Pseudharpinia tupinamba\", \"type_status\": \"Holotipo\", \"determiner_first_and_last_name\": \"Andre Senna\", \"determiner_first_name\": \"Andre\", \"determiner_last_name\": \"Senna\", \"depth\": \"58\", \"species_author\": \"Senna & Souza-Filho, 2011\", \"order\": \"Amphipoda\", \"suborder\": \"Nan\", \"infraorder\": \"Nan\", \"superfamily\": \"Nan\", \"family\": \"Phoxocephalidae\", \"subfamily\": \"Harpiniinae\", \"tribe\": \"Harpiniini\", \"determined_year\": 2011.0, \"start_year\": 2006.0, \"holotipo_year\": \"2011\", \"counts\": 1}, {\"cataloged_year\": 1994, \"count\": \"4\", \"class\": \"Malacostraca\", \"kingdom\": \"Animalia\", \"genus\": \"Trichorhina\", \"species\": \"Tropidocerata\", \"genus_and_species\": \"Trichorhina tropidocerata\", \"type_status\": \"Holotipo\", \"determiner_first_and_last_name\": \"L Kury\", \"determiner_first_name\": \"L\", \"determiner_last_name\": \"Kury\", \"depth\": \"0\", \"species_author\": \"Souza, Araujo & Campos-Filho, 2011\", \"order\": \"Isopoda\", \"suborder\": \"Nan\", \"infraorder\": \"Nan\", \"superfamily\": \"Nan\", \"family\": \"Platyarthridae\", \"subfamily\": \"Platyarthrinae\", \"tribe\": \"Platyarthrini\", \"determined_year\": 1991.0, \"start_year\": 1963.0, \"holotipo_year\": \"2011\", \"counts\": 6}, {\"cataloged_year\": 2011, \"count\": \"1\", \"class\": \"Malacostraca\", \"kingdom\": \"Animalia\", \"genus\": \"Cuneimelita\", \"species\": \"Danielle\", \"genus_and_species\": \"Cuneimelita danielle\", \"type_status\": \"Holotipo\", \"determiner_first_and_last_name\": \"Andre Senna\", \"determiner_first_name\": \"Andre\", \"determiner_last_name\": \"Senna\", \"depth\": \"132\", \"species_author\": \"Senna & Serejo, 2012\", \"order\": \"Amphipoda\", \"suborder\": \"Nan\", \"infraorder\": \"Nan\", \"superfamily\": \"Nan\", \"family\": \"Melitidae\", \"subfamily\": \"Melitinae\", \"tribe\": \"Melitini\", \"determined_year\": 2011.0, \"start_year\": 1968.0, \"holotipo_year\": \"2012\", \"counts\": 4}, {\"cataloged_year\": 2011, \"count\": \"1\", \"class\": \"Malacostraca\", \"kingdom\": \"Animalia\", \"genus\": \"Melita\", \"species\": \"Petronioi\", \"genus_and_species\": \"Melita petronioi\", \"type_status\": \"Holotipo\", \"determiner_first_and_last_name\": \"Andre Senna\", \"determiner_first_name\": \"Andre\", \"determiner_last_name\": \"Senna\", \"depth\": \"0\", \"species_author\": \"Senna, Sorrentino, Machado & Torrent, 2012\", \"order\": \"Amphipoda\", \"suborder\": \"Nan\", \"infraorder\": \"Nan\", \"superfamily\": \"Nan\", \"family\": \"Melitidae\", \"subfamily\": \"Melitinae\", \"tribe\": \"Melitini\", \"determined_year\": null, \"start_year\": 1999.0, \"holotipo_year\": \"2012\", \"counts\": 4}, {\"cataloged_year\": 2007, \"count\": \"1\", \"class\": \"Malacostraca\", \"kingdom\": \"Animalia\", \"genus\": \"Megamphopus\", \"species\": \"Robustisetae\", \"genus_and_species\": \"Megamphopus robustisetae\", \"type_status\": \"Holotipo\", \"determiner_first_and_last_name\": \"Andre Senna\", \"determiner_first_name\": \"Andre\", \"determiner_last_name\": \"Senna\", \"depth\": \"1050\", \"species_author\": \"Souza-Filho & Senna, 2012\", \"order\": \"Amphipoda\", \"suborder\": \"Nan\", \"infraorder\": \"Nan\", \"superfamily\": \"Nan\", \"family\": \"Photidae\", \"subfamily\": \"Photinae\", \"tribe\": \"Photini\", \"determined_year\": null, \"start_year\": 2002.0, \"holotipo_year\": \"2012\", \"counts\": 4}, {\"cataloged_year\": 2011, \"count\": \"1\", \"class\": \"Malacostraca\", \"kingdom\": \"Animalia\", \"genus\": \"Nuuanu\", \"species\": \"Peroa\", \"genus_and_species\": \"Nuuanu peroa\", \"type_status\": \"Holotipo\", \"determiner_first_and_last_name\": \"Andre Senna\", \"determiner_first_name\": \"Andre\", \"determiner_last_name\": \"Senna\", \"depth\": \"50\", \"species_author\": \"Senna & Serejo, 2012\", \"order\": \"Amphipoda\", \"suborder\": \"Nan\", \"infraorder\": \"Nan\", \"superfamily\": \"Nan\", \"family\": \"Melitidae\", \"subfamily\": \"Melitinae\", \"tribe\": \"Melitini\", \"determined_year\": null, \"start_year\": 2008.0, \"holotipo_year\": \"2012\", \"counts\": 4}, {\"cataloged_year\": 2014, \"count\": \"1\", \"class\": \"Malacostraca\", \"kingdom\": \"Animalia\", \"genus\": \"Postispinatus\", \"species\": \"Youngi\", \"genus_and_species\": \"Postispinatus youngi\", \"type_status\": \"Holotipo\", \"determiner_first_and_last_name\": \"William Santana\", \"determiner_first_name\": \"William\", \"determiner_last_name\": \"Santana\", \"depth\": \"26\", \"species_author\": \"Santos, Santana & Vanin, 2012\", \"order\": \"Tanaidacea\", \"suborder\": \"Nan\", \"infraorder\": \"Nan\", \"superfamily\": \"Nan\", \"family\": \"Kalliapseudidae\", \"subfamily\": \"Hemikalliapseudinae\", \"tribe\": \"Kalliapseudini\", \"determined_year\": null, \"start_year\": 2002.0, \"holotipo_year\": \"2012\", \"counts\": 1}, {\"cataloged_year\": 2012, \"count\": \"1\", \"class\": \"Copepoda\", \"kingdom\": \"Animalia\", \"genus\": \"Acantholochus\", \"species\": \"Lamellatus\", \"genus_and_species\": \"Acantholochus lamellatus\", \"type_status\": \"Holotipo\", \"determiner_first_and_last_name\": \"F Oliveira\", \"determiner_first_name\": \"F\", \"determiner_last_name\": \"Oliveira\", \"depth\": \"0\", \"species_author\": \"Paschoal, Cezar & Luque, 2013\", \"order\": \"Poecilostomatoida\", \"suborder\": \"Nan\", \"infraorder\": \"Nan\", \"superfamily\": \"Nan\", \"family\": \"Bomolochidae\", \"subfamily\": \"Bomolochinae\", \"tribe\": \"Bomolochini\", \"determined_year\": null, \"start_year\": 2009.0, \"holotipo_year\": \"2013\", \"counts\": 1}, {\"cataloged_year\": 2007, \"count\": \"1\", \"class\": \"Malacostraca\", \"kingdom\": \"Animalia\", \"genus\": \"Cheirimedon\", \"species\": \"Foscae\", \"genus_and_species\": \"Cheirimedon foscae\", \"type_status\": \"Holotipo\", \"determiner_first_and_last_name\": \"Silvana Siqueira\", \"determiner_first_name\": \"Silvana\", \"determiner_last_name\": \"Siqueira\", \"depth\": \"750\", \"species_author\": \"Siqueira & Senna, 2014\", \"order\": \"Amphipoda\", \"suborder\": \"Nan\", \"infraorder\": \"Nan\", \"superfamily\": \"Nan\", \"family\": \"Lysianassidae\", \"subfamily\": \"Tryphosinae\", \"tribe\": \"Tryphosini\", \"determined_year\": null, \"start_year\": 2003.0, \"holotipo_year\": \"2014\", \"counts\": 1}, {\"cataloged_year\": 2009, \"count\": \"1\", \"class\": \"Malacostraca\", \"kingdom\": \"Animalia\", \"genus\": \"Pseudischyrocerus\", \"species\": \"Caecus\", \"genus_and_species\": \"Pseudischyrocerus caecus\", \"type_status\": \"Holotipo\", \"determiner_first_and_last_name\": \"Jesser Filho\", \"determiner_first_name\": \"Jesser\", \"determiner_last_name\": \"Filho\", \"depth\": \"1058\", \"species_author\": \"Souza-Filho & Serejo, 2014\", \"order\": \"Amphipoda\", \"suborder\": \"Nan\", \"infraorder\": \"Nan\", \"superfamily\": \"Nan\", \"family\": \"Ischyroceridae\", \"subfamily\": \"Ischyrocerinae\", \"tribe\": \"Ischyrocerini\", \"determined_year\": null, \"start_year\": 2006.0, \"holotipo_year\": \"2014\", \"counts\": 7}, {\"cataloged_year\": 2007, \"count\": \"1\", \"class\": \"Malacostraca\", \"kingdom\": \"Animalia\", \"genus\": \"Notopoma\", \"species\": \"Teresae\", \"genus_and_species\": \"Notopoma teresae\", \"type_status\": \"Holotipo\", \"determiner_first_and_last_name\": \"Jesser Filho\", \"determiner_first_name\": \"Jesser\", \"determiner_last_name\": \"Filho\", \"depth\": \"750\", \"species_author\": \"Souza-Filho & Serejo, 2014\", \"order\": \"Amphipoda\", \"suborder\": \"Nan\", \"infraorder\": \"Nan\", \"superfamily\": \"Nan\", \"family\": \"Ischyroceridae\", \"subfamily\": \"Ischyrocerinae\", \"tribe\": \"Siphonoecetini\", \"determined_year\": null, \"start_year\": 2003.0, \"holotipo_year\": \"2014\", \"counts\": 7}, {\"cataloged_year\": 2007, \"count\": \"1\", \"class\": \"Malacostraca\", \"kingdom\": \"Animalia\", \"genus\": \"Myersius\", \"species\": \"Denticaudatus\", \"genus_and_species\": \"Myersius denticaudatus\", \"type_status\": \"Holotipo\", \"determiner_first_and_last_name\": \"Jesser Filho\", \"determiner_first_name\": \"Jesser\", \"determiner_last_name\": \"Filho\", \"depth\": \"750\", \"species_author\": \"Souza-Filho & Serejo, 2014\", \"order\": \"Amphipoda\", \"suborder\": \"Nan\", \"infraorder\": \"Nan\", \"superfamily\": \"Nan\", \"family\": \"Ischyroceridae\", \"subfamily\": \"Bonnierellinae\", \"tribe\": \"Bonnierellini\", \"determined_year\": null, \"start_year\": 2003.0, \"holotipo_year\": \"2014\", \"counts\": 7}, {\"cataloged_year\": 2007, \"count\": \"1\", \"class\": \"Malacostraca\", \"kingdom\": \"Animalia\", \"genus\": \"Pseudericthonius\", \"species\": \"Bousfieldi\", \"genus_and_species\": \"Pseudericthonius bousfieldi\", \"type_status\": \"Holotipo\", \"determiner_first_and_last_name\": \"Jesser Filho\", \"determiner_first_name\": \"Jesser\", \"determiner_last_name\": \"Filho\", \"depth\": \"750\", \"species_author\": \"Souza-Filho & Serejo, 2014\", \"order\": \"Amphipoda\", \"suborder\": \"Nan\", \"infraorder\": \"Nan\", \"superfamily\": \"Nan\", \"family\": \"Ischyroceridae\", \"subfamily\": \"Ischyrocerinae\", \"tribe\": \"Siphonoecetini\", \"determined_year\": null, \"start_year\": 2003.0, \"holotipo_year\": \"2014\", \"counts\": 7}, {\"cataloged_year\": 2007, \"count\": \"1\", \"class\": \"Malacostraca\", \"kingdom\": \"Animalia\", \"genus\": \"Bonnierella\", \"species\": \"Laurensi\", \"genus_and_species\": \"Bonnierella laurensi\", \"type_status\": \"Holotipo\", \"determiner_first_and_last_name\": \"Jesser Filho\", \"determiner_first_name\": \"Jesser\", \"determiner_last_name\": \"Filho\", \"depth\": \"1050\", \"species_author\": \"Souza-Filho & Serejo, 2014\", \"order\": \"Amphipoda\", \"suborder\": \"Nan\", \"infraorder\": \"Nan\", \"superfamily\": \"Nan\", \"family\": \"Ischyroceridae\", \"subfamily\": \"Ischyrocerinae\", \"tribe\": \"Ischyrocerini\", \"determined_year\": null, \"start_year\": 2003.0, \"holotipo_year\": \"2014\", \"counts\": 7}, {\"cataloged_year\": 2007, \"count\": \"1\", \"class\": \"Malacostraca\", \"kingdom\": \"Animalia\", \"genus\": \"Bonnierella\", \"species\": \"Campensis\", \"genus_and_species\": \"Bonnierella campensis\", \"type_status\": \"Holotipo\", \"determiner_first_and_last_name\": \"Jesser Filho\", \"determiner_first_name\": \"Jesser\", \"determiner_last_name\": \"Filho\", \"depth\": \"775\", \"species_author\": \"Souza-Filho & Serejo, 2014\", \"order\": \"Amphipoda\", \"suborder\": \"Nan\", \"infraorder\": \"Nan\", \"superfamily\": \"Nan\", \"family\": \"Ischyroceridae\", \"subfamily\": \"Ischyrocerinae\", \"tribe\": \"Ischyrocerini\", \"determined_year\": null, \"start_year\": 2002.0, \"holotipo_year\": \"2014\", \"counts\": 7}, {\"cataloged_year\": 2007, \"count\": \"1\", \"class\": \"Malacostraca\", \"kingdom\": \"Animalia\", \"genus\": \"Pseudericthonius\", \"species\": \"Concavus\", \"genus_and_species\": \"Pseudericthonius concavus\", \"type_status\": \"Holotipo\", \"determiner_first_and_last_name\": \"Jesser Filho\", \"determiner_first_name\": \"Jesser\", \"determiner_last_name\": \"Filho\", \"depth\": \"1050\", \"species_author\": \"Souza-Filho & Serejo, 2014\", \"order\": \"Amphipoda\", \"suborder\": \"Nan\", \"infraorder\": \"Nan\", \"superfamily\": \"Nan\", \"family\": \"Ischyroceridae\", \"subfamily\": \"Ischyrocerinae\", \"tribe\": \"Siphonoecetini\", \"determined_year\": null, \"start_year\": 2003.0, \"holotipo_year\": \"2014\", \"counts\": 7}, {\"cataloged_year\": 2008, \"count\": \"1\", \"class\": \"Malacostraca\", \"kingdom\": \"Animalia\", \"genus\": \"Carangolioides\", \"species\": \"Hamatus\", \"genus_and_species\": \"Carangolioides hamatus\", \"type_status\": \"Holotipo\", \"determiner_first_and_last_name\": \"Daniela Sittrop\", \"determiner_first_name\": \"Daniela\", \"determiner_last_name\": \"Sittrop\", \"depth\": \"750\", \"species_author\": \"Sittrop, Serejo, Souza-Filho & Senna, 2015\", \"order\": \"Amphipoda\", \"suborder\": \"Nan\", \"infraorder\": \"Nan\", \"superfamily\": \"Nan\", \"family\": \"Urothoidae\", \"subfamily\": \"Urothoinae\", \"tribe\": \"Urothoini\", \"determined_year\": null, \"start_year\": 2003.0, \"holotipo_year\": \"2015\", \"counts\": 2}, {\"cataloged_year\": 2008, \"count\": \"1\", \"class\": \"Malacostraca\", \"kingdom\": \"Animalia\", \"genus\": \"Coronaurothoe\", \"species\": \"Rotunda\", \"genus_and_species\": \"Coronaurothoe rotunda\", \"type_status\": \"Holotipo\", \"determiner_first_and_last_name\": \"Daniela Sittrop\", \"determiner_first_name\": \"Daniela\", \"determiner_last_name\": \"Sittrop\", \"depth\": \"750\", \"species_author\": \"Sittrop, Serejo, Souza-Filho & Senna, 2015\", \"order\": \"Amphipoda\", \"suborder\": \"Nan\", \"infraorder\": \"Nan\", \"superfamily\": \"Nan\", \"family\": \"Urothoidae\", \"subfamily\": \"Urothoinae\", \"tribe\": \"Urothoini\", \"determined_year\": null, \"start_year\": 2003.0, \"holotipo_year\": \"2015\", \"counts\": 2}, {\"cataloged_year\": 2015, \"count\": \"1\", \"class\": \"Copepoda\", \"kingdom\": \"Animalia\", \"genus\": \"Colobomatus\", \"species\": \"Kimi\", \"genus_and_species\": \"Colobomatus kimi\", \"type_status\": \"Holotipo\", \"determiner_first_and_last_name\": \"Fabiano Paschoal\", \"determiner_first_name\": \"Fabiano\", \"determiner_last_name\": \"Paschoal\", \"depth\": \"0\", \"species_author\": \"Paschoal, Pereira & Luque, 2015\", \"order\": \"Cyclopoida\", \"suborder\": \"Nan\", \"infraorder\": \"Nan\", \"superfamily\": \"Nan\", \"family\": \"Philichthyidae\", \"subfamily\": \"Philichthyinae\", \"tribe\": \"Philichthyini\", \"determined_year\": null, \"start_year\": 2014.0, \"holotipo_year\": \"2015\", \"counts\": 1}, {\"cataloged_year\": 2015, \"count\": \"1\", \"class\": \"Malacostraca\", \"kingdom\": \"Animalia\", \"genus\": \"Tanaopsis\", \"species\": \"Bamberi\", \"genus_and_species\": \"Tanaopsis bamberi\", \"type_status\": \"Holotipo\", \"determiner_first_and_last_name\": \"Juliana Segadilha\", \"determiner_first_name\": \"Juliana\", \"determiner_last_name\": \"Segadilha\", \"depth\": \"50\", \"species_author\": \"Segadilha & Araujo-Silva, 2015\", \"order\": \"Tanaidacea\", \"suborder\": \"Nan\", \"infraorder\": \"Nan\", \"superfamily\": \"Nan\", \"family\": \"Tanaopsidae\", \"subfamily\": \"Tanaopsinae\", \"tribe\": \"Tanaopsini\", \"determined_year\": 2015.0, \"start_year\": 2004.0, \"holotipo_year\": \"2015\", \"counts\": 2}, {\"cataloged_year\": 2015, \"count\": \"1\", \"class\": \"Malacostraca\", \"kingdom\": \"Animalia\", \"genus\": \"Tanaopsis\", \"species\": \"Brevicorpus\", \"genus_and_species\": \"Tanaopsis brevicorpus\", \"type_status\": \"Holotipo\", \"determiner_first_and_last_name\": \"Juliana Segadilha\", \"determiner_first_name\": \"Juliana\", \"determiner_last_name\": \"Segadilha\", \"depth\": \"125\", \"species_author\": \"Segadilha & Araujo-Silva, 2015\", \"order\": \"Tanaidacea\", \"suborder\": \"Nan\", \"infraorder\": \"Nan\", \"superfamily\": \"Nan\", \"family\": \"Tanaopsidae\", \"subfamily\": \"Tanaopsinae\", \"tribe\": \"Tanaopsini\", \"determined_year\": 2015.0, \"start_year\": 2009.0, \"holotipo_year\": \"2015\", \"counts\": 2}, {\"cataloged_year\": 2014, \"count\": \"1\", \"class\": \"Malacostraca\", \"kingdom\": \"Animalia\", \"genus\": \"Metharpinia\", \"species\": \"Taylorae\", \"genus_and_species\": \"Metharpinia taylorae\", \"type_status\": \"Holotipo\", \"determiner_first_and_last_name\": \"Luis Andrade\", \"determiner_first_name\": \"Luis\", \"determiner_last_name\": \"Andrade\", \"depth\": \"22\", \"species_author\": \"Andrade, Johnsson & Senna, 2015\", \"order\": \"Amphipoda\", \"suborder\": \"Nan\", \"infraorder\": \"Nan\", \"superfamily\": \"Nan\", \"family\": \"Phoxocephalidae\", \"subfamily\": \"Nan\", \"tribe\": \"Metharpinini\", \"determined_year\": 2015.0, \"start_year\": 2009.0, \"holotipo_year\": \"2015\", \"counts\": 1}, {\"cataloged_year\": 2016, \"count\": \"1\", \"class\": \"Maxillopoda\", \"kingdom\": \"Animalia\", \"genus\": \"Leposphilus\", \"species\": \"Vogti\", \"genus_and_species\": \"Leposphilus vogti\", \"type_status\": \"Holotipo\", \"determiner_first_and_last_name\": \"Fabiano Paschoal\", \"determiner_first_name\": \"Fabiano\", \"determiner_last_name\": \"Paschoal\", \"depth\": \"1\", \"species_author\": \"Paschoal, Nagasawa & Luque, 2016\\u00a0\", \"order\": \"Poecilostomatoida\", \"suborder\": \"Nan\", \"infraorder\": \"Nan\", \"superfamily\": \"Indeterminado\", \"family\": \"Philichthyidae\", \"subfamily\": \"Indeterminado\", \"tribe\": \"Indeterminado\", \"determined_year\": 2015.0, \"start_year\": 2015.0, \"holotipo_year\": \"2016\", \"counts\": 1}, {\"cataloged_year\": 2016, \"count\": \"1\", \"class\": \"Maxillopoda\", \"kingdom\": \"Animalia\", \"genus\": \"Ergasilus\", \"species\": \"Xinguensis\", \"genus_and_species\": \"Ergasilus xinguensis\", \"type_status\": \"Holotipo\", \"determiner_first_and_last_name\": \"N Taborda\", \"determiner_first_name\": \"N\", \"determiner_last_name\": \"Taborda\", \"depth\": \"3\", \"species_author\": \"Taborda, Paschoal & Luque, 2016\", \"order\": \"Cyclopoida\", \"suborder\": \"Nan\", \"infraorder\": \"Nan\", \"superfamily\": \"Indeterminado\", \"family\": \"Ergasilidae\", \"subfamily\": \"Indeterminado\", \"tribe\": \"Indeterminado\", \"determined_year\": 2015.0, \"start_year\": 2013.0, \"holotipo_year\": \"2016\", \"counts\": 1}]}};\n",
       "const opt = {};\n",
       "const type = \"vega-lite\";\n",
       "const id = \"dc133f77-0060-41c7-844e-fa80d0161e77\";\n",
       "\n",
       "const output_area = this;\n",
       "\n",
       "require([\"nbextensions/jupyter-vega/index\"], function(vega) {\n",
       "  const target = document.createElement(\"div\");\n",
       "  target.id = id;\n",
       "  target.className = \"vega-embed\";\n",
       "\n",
       "  const style = document.createElement(\"style\");\n",
       "  style.textContent = [\n",
       "    \".vega-embed .error p {\",\n",
       "    \"  color: firebrick;\",\n",
       "    \"  font-size: 14px;\",\n",
       "    \"}\",\n",
       "  ].join(\"\\\\n\");\n",
       "\n",
       "  // element is a jQuery wrapped DOM element inside the output area\n",
       "  // see http://ipython.readthedocs.io/en/stable/api/generated/\\\n",
       "  // IPython.display.html#IPython.display.Javascript.__init__\n",
       "  element[0].appendChild(target);\n",
       "  element[0].appendChild(style);\n",
       "\n",
       "  vega.render(\"#\" + id, spec, type, opt, output_area);\n",
       "}, function (err) {\n",
       "  if (err.requireType !== \"scripterror\") {\n",
       "    throw(err);\n",
       "  }\n",
       "});\n"
      ],
      "text/plain": [
       "<vega.vegalite.VegaLite at 0x7f936e82ef90>"
      ]
     },
     "metadata": {
      "jupyter-vega": "#dc133f77-0060-41c7-844e-fa80d0161e77"
     },
     "output_type": "display_data"
    },
    {
     "data": {
      "text/plain": []
     },
     "execution_count": 123,
     "metadata": {},
     "output_type": "execute_result"
    },
    {
     "data": {
      "image/png": "[encoded data removed]"
     },
     "metadata": {
      "jupyter-vega": "#dc133f77-0060-41c7-844e-fa80d0161e77"
     },
     "output_type": "display_data"
    }
   ],
   "source": [
    "g1 = alt.Chart(holotipo, title='Holotypes discovered and determined years',\n",
    "               width=600, height=500).mark_circle(size=60).encode(\n",
    "    x= alt.X('start_year', type='ordinal', title='Start Year'),\n",
    "    y= alt.Y('holotipo_year', type='ordinal', title='Holotipo Year',\n",
    "            sort= alt.EncodingSortField(field='holotipo_year', order='descending')),\n",
    "    tooltip= alt.Tooltip(['holotipo_year', 'start_year']),\n",
    "    color= alt.Color('order', type='nominal', scale= alt.Scale(scheme='reds')), \n",
    "#     opacity= alt.Opacity(scale= alt.Scale(domain=types,range=opacities), type='quantitative')\n",
    "#     size=alt.Size('depth')\n",
    ")\n",
    "\n",
    "# saving chart\n",
    "# g1.save('./viz/types/holotipo_cataloged_and_determined_year.svg')\n",
    "# g1.save('./viz/types/holotipo_cataloged_and_determined_year.html')\n",
    "\n",
    "g1"
   ]
  },
  {
   "cell_type": "markdown",
   "metadata": {},
   "source": [
    "### Número de catalogações de cad tipo (por ano)"
   ]
  },
  {
   "cell_type": "code",
   "execution_count": null,
   "metadata": {},
   "outputs": [],
   "source": [
    "# teste1 é construída a partir do df NewTable\n",
    "type_data = teste1.groupby(['type_status','year']).count()['class'].reset_index().rename(\n",
    "                                                    columns={'class':'counts'})"
   ]
  },
  {
   "cell_type": "code",
   "execution_count": null,
   "metadata": {},
   "outputs": [],
   "source": [
    "type_data.sort_values(['counts'], inplace=True)"
   ]
  },
  {
   "cell_type": "markdown",
   "metadata": {},
   "source": [
    "<font color='red' size='5'>**Anotar valores nas células**</font>"
   ]
  },
  {
   "cell_type": "code",
   "execution_count": null,
   "metadata": {},
   "outputs": [],
   "source": [
    "g3 = alt.Chart(type_data, title='Number of animals of each type per year').mark_rect().encode(\n",
    "    x= alt.X('year', type='ordinal', title='Year'),\n",
    "    y= alt.Y('type_status', type='nominal', title='Type', \n",
    "             sort=alt.EncodingSortField(field=\"counts\", op=\"mean\", order='descending'),\n",
    "            axis=alt.Axis(grid=False)),\n",
    "    color= alt.Color('counts', type='quantitative', scale=alt.Scale(scheme='yellowgreenblue'))\n",
    ")\n",
    "\n",
    "g3.save('./viz/types_per_year.html')\n",
    "g3.save('./viz/types_per_year.svg')\n",
    "\n",
    "g3"
   ]
  },
  {
   "cell_type": "markdown",
   "metadata": {},
   "source": [
    "<br>\n",
    "\n",
    "**Thats it!**\n",
    "\n",
    "-----"
   ]
  }
 ],
 "metadata": {
  "kernelspec": {
   "display_name": "Python 3",
   "language": "python",
   "name": "python3"
  },
  "language_info": {
   "codemirror_mode": {
    "name": "ipython",
    "version": 3
   },
   "file_extension": ".py",
   "mimetype": "text/x-python",
   "name": "python",
   "nbconvert_exporter": "python",
   "pygments_lexer": "ipython3",
   "version": "3.7.4"
  },
  "toc": {
   "base_numbering": 1,
   "nav_menu": {},
   "number_sections": false,
   "sideBar": true,
   "skip_h1_title": false,
   "title_cell": "Table of Contents",
   "title_sidebar": "Contents",
   "toc_cell": false,
   "toc_position": {},
   "toc_section_display": true,
   "toc_window_display": false
  },
  "varInspector": {
   "cols": {
    "lenName": 16,
    "lenType": 16,
    "lenVar": 40
   },
   "kernels_config": {
    "python": {
     "delete_cmd_postfix": "",
     "delete_cmd_prefix": "del ",
     "library": "var_list.py",
     "varRefreshCmd": "print(var_dic_list())"
    },
    "r": {
     "delete_cmd_postfix": ") ",
     "delete_cmd_prefix": "rm(",
     "library": "var_list.r",
     "varRefreshCmd": "cat(var_dic_list()) "
    }
   },
   "position": {
    "height": "391.35px",
    "left": "900.5px",
    "right": "20px",
    "top": "96px",
    "width": "536.5px"
   },
   "types_to_exclude": [
    "module",
    "function",
    "builtin_function_or_method",
    "instance",
    "_Feature"
   ],
   "window_display": false
  }
 },
 "nbformat": 4,
 "nbformat_minor": 2
}
