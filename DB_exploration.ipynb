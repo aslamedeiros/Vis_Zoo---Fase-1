{
 "cells": [
  {
   "cell_type": "markdown",
   "metadata": {},
   "source": [
    "# Database Exploration\n",
    "\n",
    "By **Franklin Oliveira**\n",
    "\n",
    "-----\n",
    "This notebook contains some code written in order for me (Franklin) to get accquainted with the `crustacea` database. Here you'll find some basic data treatment and some insights that did show up as I started to understand all the information on file <font color='blue'>'Planilha geral Atualizda FINAL com correções.xlsx'</font>."
   ]
  },
  {
   "cell_type": "code",
   "execution_count": 1,
   "metadata": {
    "ExecuteTime": {
     "end_time": "2020-02-06T00:06:51.615067Z",
     "start_time": "2020-02-06T00:06:43.397727Z"
    }
   },
   "outputs": [
    {
     "data": {
      "text/plain": [
       "RendererRegistry.enable('notebook')"
      ]
     },
     "execution_count": 1,
     "metadata": {},
     "output_type": "execute_result"
    }
   ],
   "source": [
    "import datetime\n",
    "import numpy as np\n",
    "import pandas as pd\n",
    "from collections import defaultdict\n",
    "\n",
    "# pacotes para visualização rápida\n",
    "import seaborn as sns\n",
    "import matplotlib.pyplot as plt\n",
    "\n",
    "# Waffle Charts\n",
    "from pywaffle import Waffle \n",
    "# docs: https://pywaffle.readthedocs.io/en/latest/examples/block_shape_distance_location_and_direction.html\n",
    "\n",
    "# pacote para visualização principal\n",
    "import altair as alt\n",
    "\n",
    "# habilitando renderizador para notebook\n",
    "alt.renderers.enable('notebook')"
   ]
  },
  {
   "cell_type": "markdown",
   "metadata": {},
   "source": [
    "## Importing data..."
   ]
  },
  {
   "cell_type": "code",
   "execution_count": 65,
   "metadata": {
    "ExecuteTime": {
     "end_time": "2020-02-05T16:12:08.151966Z",
     "start_time": "2020-02-05T16:11:47.900023Z"
    }
   },
   "outputs": [
    {
     "name": "stdout",
     "output_type": "stream",
     "text": [
      "The excel file contains the following sheets: ['Banco de Dados Colecao Carcinol', 'Planilha1']\n",
      "\n",
      "Database is in sheet: Banco de Dados Colecao Carcinol\n"
     ]
    }
   ],
   "source": [
    "excel = pd.ExcelFile('Planilha geral Atualizda FINAL com correções.xlsx')\n",
    "sheet_name = excel.sheet_names\n",
    "\n",
    "print('The excel file contains the following sheets:', sheet_name)\n",
    "print('\\nDatabase is in sheet:', sheet_name[0])"
   ]
  },
  {
   "cell_type": "code",
   "execution_count": 66,
   "metadata": {
    "ExecuteTime": {
     "end_time": "2020-02-05T16:12:09.844062Z",
     "start_time": "2020-02-05T16:12:08.502406Z"
    }
   },
   "outputs": [
    {
     "name": "stdout",
     "output_type": "stream",
     "text": [
      "The database has 28689 rows and 132 columns.\n"
     ]
    }
   ],
   "source": [
    "# db = excel.parse(sheet_name[0], sep=';', encoding='utf-8-sig')\n",
    "db = pd.read_csv('db.csv', sep=',', encoding='utf-8-sig', low_memory=False)\n",
    "print(f'The database has {db.shape[0]} rows and {db.shape[1]} columns.')"
   ]
  },
  {
   "cell_type": "code",
   "execution_count": 73,
   "metadata": {
    "ExecuteTime": {
     "end_time": "2020-02-05T16:14:13.863309Z",
     "start_time": "2020-02-05T16:14:13.852082Z"
    }
   },
   "outputs": [
    {
     "data": {
      "text/plain": [
       "0                 Burkenroad, 1936\n",
       "1                 Burkenroad, 1936\n",
       "2                 Burkenroad, 1936\n",
       "3                  Hobbs III, 1979\n",
       "4                 Burkenroad, 1936\n",
       "                   ...            \n",
       "28684             Rafinesque, 1815\n",
       "28685             Rafinesque, 1815\n",
       "28686             Rafinesque, 1815\n",
       "28687             Rafinesque, 1815\n",
       "28688    Rodrigues & Cardoso, 2018\n",
       "Name: Species Author1, Length: 28689, dtype: object"
      ]
     },
     "execution_count": 73,
     "metadata": {},
     "output_type": "execute_result"
    }
   ],
   "source": [
    "db['Species Author1']"
   ]
  },
  {
   "cell_type": "markdown",
   "metadata": {},
   "source": [
    "<br>\n",
    "\n",
    "**<font color='red' size='5'>Colunas de Nome </font>**\n",
    "\n",
    "`Determiner First Name1` e `Determiner Last Name1`"
   ]
  },
  {
   "cell_type": "code",
   "execution_count": 74,
   "metadata": {
    "ExecuteTime": {
     "end_time": "2020-02-05T16:14:37.052795Z",
     "start_time": "2020-02-05T16:14:37.045342Z"
    }
   },
   "outputs": [
    {
     "data": {
      "text/plain": [
       "0                  Alceu\n",
       "1                  Alceu\n",
       "2                  Alceu\n",
       "3        Maria Margarida\n",
       "4                  Alceu\n",
       "              ...       \n",
       "28684             Ayrton\n",
       "28685             Ayrton\n",
       "28686             Ayrton\n",
       "28687             Ayrton\n",
       "28688            Thaiana\n",
       "Name: Determiner First Name1, Length: 28689, dtype: object"
      ]
     },
     "execution_count": 74,
     "metadata": {},
     "output_type": "execute_result"
    }
   ],
   "source": [
    "db['Determiner First Name1']"
   ]
  },
  {
   "cell_type": "code",
   "execution_count": 5,
   "metadata": {
    "ExecuteTime": {
     "end_time": "2020-02-05T13:54:31.425421Z",
     "start_time": "2020-02-05T13:54:31.422028Z"
    }
   },
   "outputs": [],
   "source": [
    "# for col in db.columns:\n",
    "#     print('-', col)"
   ]
  },
  {
   "cell_type": "markdown",
   "metadata": {},
   "source": [
    "#### removing '\\n' from column names"
   ]
  },
  {
   "cell_type": "code",
   "execution_count": 6,
   "metadata": {
    "ExecuteTime": {
     "end_time": "2020-02-05T13:54:34.759639Z",
     "start_time": "2020-02-05T13:54:34.753257Z"
    }
   },
   "outputs": [],
   "source": [
    "db.columns = [str(col).replace(r'\\n','') for col in db.columns]"
   ]
  },
  {
   "cell_type": "markdown",
   "metadata": {},
   "source": [
    "#### closer look on some columns..."
   ]
  },
  {
   "cell_type": "code",
   "execution_count": 8,
   "metadata": {
    "ExecuteTime": {
     "end_time": "2020-02-05T13:54:42.044385Z",
     "start_time": "2020-02-05T13:54:42.041647Z"
    }
   },
   "outputs": [],
   "source": [
    "# db[['Species1', 'Species Author1', 'Type Status1', 'Qualifier1', 'Determiner First Name1',\n",
    "#       'Determiner Middle1', 'Determiner Last Name1', 'Determined Date1']]"
   ]
  },
  {
   "cell_type": "markdown",
   "metadata": {},
   "source": [
    "## preparing data for charts..."
   ]
  },
  {
   "cell_type": "markdown",
   "metadata": {},
   "source": [
    "Column: `Type Status1`"
   ]
  },
  {
   "cell_type": "code",
   "execution_count": 9,
   "metadata": {
    "ExecuteTime": {
     "end_time": "2020-02-05T13:54:44.442841Z",
     "start_time": "2020-02-05T13:54:44.265752Z"
    }
   },
   "outputs": [],
   "source": [
    "crustaceas = db.copy()"
   ]
  },
  {
   "cell_type": "code",
   "execution_count": 10,
   "metadata": {
    "ExecuteTime": {
     "end_time": "2020-02-05T13:54:46.020859Z",
     "start_time": "2020-02-05T13:54:46.007163Z"
    }
   },
   "outputs": [
    {
     "data": {
      "text/plain": [
       "Paratipo         433\n",
       "Holotipo         203\n",
       "ParaTIPO         142\n",
       "PARATIPO         120\n",
       "HOLOTIPO          82\n",
       "Alotipo           69\n",
       "ALOTIPO           12\n",
       "Topotipo           6\n",
       "Sintipo            5\n",
       "Neotipo            5\n",
       "Paralectotipo      4\n",
       "Lectotipo          4\n",
       "TOPOTIPO           3\n",
       "MATERIAL TIPO      2\n",
       "Tipo               2\n",
       "PARALECTOTIPO      2\n",
       "NEOTIPO            1\n",
       "Material Tipo      1\n",
       "Co-tipo            1\n",
       "Name: Type Status1, dtype: int64"
      ]
     },
     "execution_count": 10,
     "metadata": {},
     "output_type": "execute_result"
    }
   ],
   "source": [
    "crustaceas['Type Status1'].value_counts()"
   ]
  },
  {
   "cell_type": "markdown",
   "metadata": {},
   "source": [
    "Let's begin cleaning this data and lowering all cases."
   ]
  },
  {
   "cell_type": "code",
   "execution_count": 11,
   "metadata": {
    "ExecuteTime": {
     "end_time": "2020-02-05T13:54:47.970820Z",
     "start_time": "2020-02-05T13:54:47.951195Z"
    }
   },
   "outputs": [],
   "source": [
    "crustaceas['Type Status1'] = crustaceas['Type Status1'].str.strip().str.lower().str.capitalize()"
   ]
  },
  {
   "cell_type": "code",
   "execution_count": 12,
   "metadata": {
    "ExecuteTime": {
     "end_time": "2020-02-05T13:54:48.867716Z",
     "start_time": "2020-02-05T13:54:48.856959Z"
    }
   },
   "outputs": [
    {
     "data": {
      "text/plain": [
       "Paratipo         695\n",
       "Holotipo         285\n",
       "Alotipo           81\n",
       "Topotipo           9\n",
       "Neotipo            6\n",
       "Paralectotipo      6\n",
       "Sintipo            5\n",
       "Lectotipo          4\n",
       "Material tipo      3\n",
       "Tipo               2\n",
       "Co-tipo            1\n",
       "Name: Type Status1, dtype: int64"
      ]
     },
     "execution_count": 12,
     "metadata": {},
     "output_type": "execute_result"
    }
   ],
   "source": [
    "crustaceas['Type Status1'].value_counts()"
   ]
  },
  {
   "cell_type": "markdown",
   "metadata": {},
   "source": [
    "### Collecting date (year), class and kingdom \n",
    "\n",
    "Columns: `Cataloged Date` - `Class1` - `Kingdom`"
   ]
  },
  {
   "cell_type": "code",
   "execution_count": 15,
   "metadata": {
    "ExecuteTime": {
     "end_time": "2020-02-05T13:58:23.137266Z",
     "start_time": "2020-02-05T13:58:21.974409Z"
    }
   },
   "outputs": [
    {
     "data": {
      "text/html": [
       "<div>\n",
       "<style scoped>\n",
       "    .dataframe tbody tr th:only-of-type {\n",
       "        vertical-align: middle;\n",
       "    }\n",
       "\n",
       "    .dataframe tbody tr th {\n",
       "        vertical-align: top;\n",
       "    }\n",
       "\n",
       "    .dataframe thead th {\n",
       "        text-align: right;\n",
       "    }\n",
       "</style>\n",
       "<table border=\"1\" class=\"dataframe\">\n",
       "  <thead>\n",
       "    <tr style=\"text-align: right;\">\n",
       "      <th></th>\n",
       "      <th>year</th>\n",
       "      <th>class</th>\n",
       "      <th>kingdom</th>\n",
       "      <th>species</th>\n",
       "      <th>type_status</th>\n",
       "    </tr>\n",
       "  </thead>\n",
       "  <tbody>\n",
       "    <tr>\n",
       "      <td>0</td>\n",
       "      <td>1980</td>\n",
       "      <td>Malacostraca</td>\n",
       "      <td>Animalia</td>\n",
       "      <td>schmitti</td>\n",
       "      <td>NaN</td>\n",
       "    </tr>\n",
       "    <tr>\n",
       "      <td>1</td>\n",
       "      <td>1980</td>\n",
       "      <td>Malacostraca</td>\n",
       "      <td>Animalia</td>\n",
       "      <td>schmitti</td>\n",
       "      <td>NaN</td>\n",
       "    </tr>\n",
       "    <tr>\n",
       "      <td>2</td>\n",
       "      <td>1980</td>\n",
       "      <td>Malacostraca</td>\n",
       "      <td>Animalia</td>\n",
       "      <td>schmitti</td>\n",
       "      <td>NaN</td>\n",
       "    </tr>\n",
       "    <tr>\n",
       "      <td>3</td>\n",
       "      <td>1980</td>\n",
       "      <td>Malacostraca</td>\n",
       "      <td>Animalia</td>\n",
       "      <td>schmitti</td>\n",
       "      <td>NaN</td>\n",
       "    </tr>\n",
       "    <tr>\n",
       "      <td>4</td>\n",
       "      <td>1980</td>\n",
       "      <td>Malacostraca</td>\n",
       "      <td>Animalia</td>\n",
       "      <td>schmitti</td>\n",
       "      <td>NaN</td>\n",
       "    </tr>\n",
       "  </tbody>\n",
       "</table>\n",
       "</div>"
      ],
      "text/plain": [
       "   year         class   kingdom    species type_status\n",
       "0  1980  Malacostraca  Animalia   schmitti         NaN\n",
       "1  1980  Malacostraca  Animalia   schmitti         NaN\n",
       "2  1980  Malacostraca  Animalia   schmitti         NaN\n",
       "3  1980  Malacostraca  Animalia  schmitti          NaN\n",
       "4  1980  Malacostraca  Animalia   schmitti         NaN"
      ]
     },
     "execution_count": 15,
     "metadata": {},
     "output_type": "execute_result"
    }
   ],
   "source": [
    "Table = crustaceas[['Cataloged Date','Class1','Kingdom', 'Species1', 'Type Status1']].copy()\n",
    "\n",
    "d = []\n",
    "counter=0\n",
    "for row in Table['Cataloged Date']:\n",
    "    if not str(row).find('/')==-1:\n",
    "        dates_values = str(row).split(\"/\")\n",
    "        year = int(dates_values[0])\n",
    "        month = int(dates_values[1])\n",
    "        if (month>1) and (month<12):\n",
    "            #store the year and month in a datetime datatype for later sorting\n",
    "            dateRecord = datetime.datetime(year,month,1)    \n",
    "            \n",
    "    d.append({'year':year, 'class':Table.loc[counter,'Class1'],\n",
    "              'kingdom':Table.loc[counter,'Kingdom'], 'species':Table.loc[counter,'Species1'],\n",
    "              'type_status':Table.loc[counter,'Type Status1']\n",
    "             })\n",
    "    counter = counter+1\n",
    "    \n",
    "NewTable = pd.DataFrame(d)\n",
    "NewTable.head()"
   ]
  },
  {
   "cell_type": "markdown",
   "metadata": {},
   "source": [
    "### counting number of registers per year"
   ]
  },
  {
   "cell_type": "code",
   "execution_count": 19,
   "metadata": {
    "ExecuteTime": {
     "end_time": "2020-02-05T14:02:05.237778Z",
     "start_time": "2020-02-05T14:02:04.587343Z"
    }
   },
   "outputs": [
    {
     "data": {
      "text/html": [
       "<div>\n",
       "<style scoped>\n",
       "    .dataframe tbody tr th:only-of-type {\n",
       "        vertical-align: middle;\n",
       "    }\n",
       "\n",
       "    .dataframe tbody tr th {\n",
       "        vertical-align: top;\n",
       "    }\n",
       "\n",
       "    .dataframe thead th {\n",
       "        text-align: right;\n",
       "    }\n",
       "</style>\n",
       "<table border=\"1\" class=\"dataframe\">\n",
       "  <thead>\n",
       "    <tr style=\"text-align: right;\">\n",
       "      <th></th>\n",
       "      <th>class</th>\n",
       "      <th>kingdom</th>\n",
       "      <th>year</th>\n",
       "      <th>amount</th>\n",
       "      <th>species</th>\n",
       "      <th>type_status</th>\n",
       "    </tr>\n",
       "  </thead>\n",
       "  <tbody>\n",
       "    <tr>\n",
       "      <td>0</td>\n",
       "      <td>Malacostraca</td>\n",
       "      <td>Animalia</td>\n",
       "      <td>1980</td>\n",
       "      <td>52</td>\n",
       "      <td>schmitti</td>\n",
       "      <td>NaN</td>\n",
       "    </tr>\n",
       "    <tr>\n",
       "      <td>1</td>\n",
       "      <td>Malacostraca</td>\n",
       "      <td>Animalia</td>\n",
       "      <td>2009</td>\n",
       "      <td>288</td>\n",
       "      <td>schmitti</td>\n",
       "      <td>NaN</td>\n",
       "    </tr>\n",
       "    <tr>\n",
       "      <td>2</td>\n",
       "      <td>Malacostraca</td>\n",
       "      <td>Animalia</td>\n",
       "      <td>1981</td>\n",
       "      <td>118</td>\n",
       "      <td>schmitti</td>\n",
       "      <td>NaN</td>\n",
       "    </tr>\n",
       "    <tr>\n",
       "      <td>3</td>\n",
       "      <td>Malacostraca</td>\n",
       "      <td>Animalia</td>\n",
       "      <td>1985</td>\n",
       "      <td>75</td>\n",
       "      <td>schmitti</td>\n",
       "      <td>NaN</td>\n",
       "    </tr>\n",
       "    <tr>\n",
       "      <td>4</td>\n",
       "      <td>Malacostraca</td>\n",
       "      <td>Animalia</td>\n",
       "      <td>1982</td>\n",
       "      <td>112</td>\n",
       "      <td>schmitti</td>\n",
       "      <td>NaN</td>\n",
       "    </tr>\n",
       "    <tr>\n",
       "      <td>...</td>\n",
       "      <td>...</td>\n",
       "      <td>...</td>\n",
       "      <td>...</td>\n",
       "      <td>...</td>\n",
       "      <td>...</td>\n",
       "      <td>...</td>\n",
       "    </tr>\n",
       "    <tr>\n",
       "      <td>196</td>\n",
       "      <td>Phyllocarida</td>\n",
       "      <td>Animalia</td>\n",
       "      <td>2004</td>\n",
       "      <td>1</td>\n",
       "      <td>sp</td>\n",
       "      <td>NaN</td>\n",
       "    </tr>\n",
       "    <tr>\n",
       "      <td>197</td>\n",
       "      <td>Phyllocarida</td>\n",
       "      <td>Animalia</td>\n",
       "      <td>2006</td>\n",
       "      <td>1</td>\n",
       "      <td>sp</td>\n",
       "      <td>NaN</td>\n",
       "    </tr>\n",
       "    <tr>\n",
       "      <td>198</td>\n",
       "      <td>Indeterminado</td>\n",
       "      <td>Animalia</td>\n",
       "      <td>2015</td>\n",
       "      <td>8</td>\n",
       "      <td>sp.</td>\n",
       "      <td>NaN</td>\n",
       "    </tr>\n",
       "    <tr>\n",
       "      <td>199</td>\n",
       "      <td>Indeterminado</td>\n",
       "      <td>Animalia</td>\n",
       "      <td>2017</td>\n",
       "      <td>1</td>\n",
       "      <td>sp.</td>\n",
       "      <td>NaN</td>\n",
       "    </tr>\n",
       "    <tr>\n",
       "      <td>200</td>\n",
       "      <td>Hexanauplia</td>\n",
       "      <td>Animalia</td>\n",
       "      <td>2017</td>\n",
       "      <td>39</td>\n",
       "      <td>sp</td>\n",
       "      <td>NaN</td>\n",
       "    </tr>\n",
       "  </tbody>\n",
       "</table>\n",
       "<p>201 rows × 6 columns</p>\n",
       "</div>"
      ],
      "text/plain": [
       "             class   kingdom  year  amount   species  type_status\n",
       "0     Malacostraca  Animalia  1980      52  schmitti          NaN\n",
       "1     Malacostraca  Animalia  2009     288  schmitti          NaN\n",
       "2     Malacostraca  Animalia  1981     118  schmitti          NaN\n",
       "3     Malacostraca  Animalia  1985      75  schmitti          NaN\n",
       "4     Malacostraca  Animalia  1982     112  schmitti          NaN\n",
       "..             ...       ...   ...     ...       ...          ...\n",
       "196   Phyllocarida  Animalia  2004       1       sp           NaN\n",
       "197   Phyllocarida  Animalia  2006       1       sp           NaN\n",
       "198  Indeterminado  Animalia  2015       8       sp.          NaN\n",
       "199  Indeterminado  Animalia  2017       1       sp.          NaN\n",
       "200    Hexanauplia  Animalia  2017      39        sp          NaN\n",
       "\n",
       "[201 rows x 6 columns]"
      ]
     },
     "execution_count": 19,
     "metadata": {},
     "output_type": "execute_result"
    }
   ],
   "source": [
    "classes = NewTable_Date['class'].unique()\n",
    "classes\n",
    "\n",
    "e = []\n",
    "countam = 0\n",
    "for classSp in classes:\n",
    "    p = NewTable.loc[NewTable.loc[:,'class']==classSp,:]\n",
    "#     p.year.value_counts()\n",
    "#     print(p['class'])\n",
    "    numbers = p.year.value_counts(sort=False)\n",
    "#     print(p.year.value_counts(sort=False))\n",
    "    for oneyear in p.year.unique():\n",
    "        countam = countam + numbers.loc[oneyear]\n",
    "        \n",
    "        # problema: pega só a primeira informação de cada ano\n",
    "        e.append({'class':p['class'].unique()[0],'kingdom':p.kingdom.unique()[0],\n",
    "                  'year':oneyear,'amount':numbers.loc[oneyear], \n",
    "                 'species':p.species.unique()[0], 'type_status':p.type_status.unique()[0]})\n",
    "NewTable_Years = pd.DataFrame(e)\n",
    "NewTable_Years"
   ]
  },
  {
   "cell_type": "markdown",
   "metadata": {},
   "source": [
    "<font color='red' size='5'>Fazer gráfico dos holótipos por biólogo, ao longo do tempo </font>\n",
    "\n",
    "<br>\n",
    "\n",
    "<font color='red' size='5'>Fazer gráfico dos holótipos por biólogo, com ordens no eixo x </font>\n",
    "\n",
    "Nome dos biólogos no eixo y, coluna Species1 no eixo x, cor: type status1, tamanho: número de registros."
   ]
  },
  {
   "cell_type": "markdown",
   "metadata": {},
   "source": [
    "### creating column `year` in crustaceas"
   ]
  },
  {
   "cell_type": "code",
   "execution_count": 14,
   "metadata": {
    "ExecuteTime": {
     "end_time": "2020-02-05T12:57:02.841965Z",
     "start_time": "2020-02-05T12:57:02.837247Z"
    }
   },
   "outputs": [],
   "source": [
    "def catch_year(row):\n",
    "    if not str(row).find('/')==-1:\n",
    "        dates_values = str(row).split(\"/\")\n",
    "        year = int(dates_values[0])\n",
    "        month = int(dates_values[1])\n",
    "        return year\n",
    "    else:\n",
    "        return np.NaN"
   ]
  },
  {
   "cell_type": "code",
   "execution_count": 69,
   "metadata": {
    "ExecuteTime": {
     "end_time": "2020-02-05T13:25:23.949714Z",
     "start_time": "2020-02-05T13:25:23.909111Z"
    }
   },
   "outputs": [],
   "source": [
    "crustaceas['year'] = crustaceas['Cataloged Date'].apply(catch_year)"
   ]
  },
  {
   "cell_type": "markdown",
   "metadata": {},
   "source": [
    "### preparing taxonomy columns\n",
    "\n",
    "`Kingdom` - `Phylum1` - `Subphylum1` - `Class1` - `Subclass1` - `Infraclass1` - `Superorder1` - `Order1` - `Suborder1` - `Infraorder1` - `Superfamily1` - `Family1` - `Subfamily1` - `Tribe1` - `Genus1` - `Species1`"
   ]
  },
  {
   "cell_type": "code",
   "execution_count": 16,
   "metadata": {
    "ExecuteTime": {
     "end_time": "2020-02-05T12:57:05.766033Z",
     "start_time": "2020-02-05T12:57:05.762501Z"
    }
   },
   "outputs": [],
   "source": [
    "taxon_columns = crustaceas.columns[21:37]"
   ]
  },
  {
   "cell_type": "code",
   "execution_count": 17,
   "metadata": {
    "ExecuteTime": {
     "end_time": "2020-02-05T12:57:07.311127Z",
     "start_time": "2020-02-05T12:57:07.304047Z"
    }
   },
   "outputs": [],
   "source": [
    "def treat_str(x):\n",
    "    return str(x).lower().capitalize().strip()"
   ]
  },
  {
   "cell_type": "code",
   "execution_count": 18,
   "metadata": {
    "ExecuteTime": {
     "end_time": "2020-02-05T12:57:08.556797Z",
     "start_time": "2020-02-05T12:57:08.189248Z"
    }
   },
   "outputs": [
    {
     "name": "stdout",
     "output_type": "stream",
     "text": [
      "Adjusting column Kingdom\n",
      "Adjusting column Phylum1\n",
      "Adjusting column Subphylum1\n",
      "Adjusting column Class1\n",
      "Adjusting column Subclass1\n",
      "Adjusting column Infraclass1\n",
      "Adjusting column Superorder1\n",
      "Adjusting column Order1\n",
      "Adjusting column Suborder1\n",
      "Adjusting column Infraorder1\n",
      "Adjusting column Superfamily1\n",
      "Adjusting column Family1\n",
      "Adjusting column Subfamily1\n",
      "Adjusting column Tribe1\n",
      "Adjusting column Genus1\n",
      "Adjusting column Species1\n"
     ]
    }
   ],
   "source": [
    "for col in taxon_columns:\n",
    "    print(f'Adjusting column {col}')\n",
    "    crustaceas[col] = crustaceas[col].apply(treat_str)"
   ]
  },
  {
   "cell_type": "markdown",
   "metadata": {},
   "source": [
    "### treating cataloger's name \n",
    "\n",
    "In this step, we're going to put together cataloger's first and last name. \n",
    "\n",
    "`Cataloger First Name` + `Cataloger Last Name`"
   ]
  },
  {
   "cell_type": "code",
   "execution_count": 25,
   "metadata": {
    "ExecuteTime": {
     "end_time": "2020-02-05T13:03:05.117726Z",
     "start_time": "2020-02-05T13:03:04.801832Z"
    }
   },
   "outputs": [
    {
     "data": {
      "text/plain": [
       "0                      nan Legado\n",
       "1                      nan Legado\n",
       "2                      nan Legado\n",
       "3                      nan Legado\n",
       "4                      nan Legado\n",
       "                   ...           \n",
       "28684    Barbara Cristina Calcado\n",
       "28685    Barbara Cristina Calcado\n",
       "28686    Barbara Cristina Calcado\n",
       "28687    Barbara Cristina Calcado\n",
       "28688                     nan nan\n",
       "Length: 28689, dtype: object"
      ]
     },
     "execution_count": 25,
     "metadata": {},
     "output_type": "execute_result"
    }
   ],
   "source": [
    "crustaceas['Cataloger First Name'].astype(str) + ' ' + crustaceas['Cataloger Last Name'].astype(str)"
   ]
  },
  {
   "cell_type": "markdown",
   "metadata": {},
   "source": [
    "Just concatenating those two columns is not satisfactory because there's some dirt in these data columns. So, let's begin by treating them..."
   ]
  },
  {
   "cell_type": "code",
   "execution_count": 42,
   "metadata": {
    "ExecuteTime": {
     "end_time": "2020-02-05T13:10:09.644777Z",
     "start_time": "2020-02-05T13:10:09.545133Z"
    }
   },
   "outputs": [],
   "source": [
    "crustaceas['Cataloger First Name'] = crustaceas['Cataloger First Name'].fillna('').str.strip().apply(lambda x:str(x).split(' ')[0])\n",
    "crustaceas['Cataloger Last Name'] = crustaceas['Cataloger Last Name'].fillna('').str.strip().apply(lambda x:str(x).split(' ')[-1])"
   ]
  },
  {
   "cell_type": "code",
   "execution_count": 44,
   "metadata": {
    "ExecuteTime": {
     "end_time": "2020-02-05T13:11:08.436128Z",
     "start_time": "2020-02-05T13:11:08.398224Z"
    }
   },
   "outputs": [],
   "source": [
    "crustaceas['Cataloger First_and_Last Name'] = crustaceas['Cataloger First Name'].astype(str) + ' ' + crustaceas['Cataloger Last Name'].astype(str)"
   ]
  },
  {
   "cell_type": "code",
   "execution_count": 46,
   "metadata": {
    "ExecuteTime": {
     "end_time": "2020-02-05T13:14:15.405459Z",
     "start_time": "2020-02-05T13:14:15.390699Z"
    }
   },
   "outputs": [
    {
     "data": {
      "text/plain": [
       "DataTransformerRegistry.enable('default')"
      ]
     },
     "execution_count": 46,
     "metadata": {},
     "output_type": "execute_result"
    }
   ],
   "source": [
    "alt.data_transformers.disable_max_rows()"
   ]
  },
  {
   "cell_type": "code",
   "execution_count": 55,
   "metadata": {
    "ExecuteTime": {
     "end_time": "2020-02-05T13:18:03.776989Z",
     "start_time": "2020-02-05T13:18:03.760987Z"
    }
   },
   "outputs": [
    {
     "data": {
      "text/plain": [
       "Barbara Cristina    13\n",
       "Name: Cataloger First Name, dtype: int64"
      ]
     },
     "execution_count": 55,
     "metadata": {},
     "output_type": "execute_result"
    }
   ],
   "source": [
    "db['Cataloger First Name'].value_counts()"
   ]
  },
  {
   "cell_type": "code",
   "execution_count": 53,
   "metadata": {
    "ExecuteTime": {
     "end_time": "2020-02-05T13:17:13.492292Z",
     "start_time": "2020-02-05T13:17:13.476422Z"
    }
   },
   "outputs": [
    {
     "data": {
      "text/plain": [
       " Legado            25629\n",
       "                    3047\n",
       "Barbara Calcado       13\n",
       "Name: Cataloger First_and_Last Name, dtype: int64"
      ]
     },
     "execution_count": 53,
     "metadata": {},
     "output_type": "execute_result"
    }
   ],
   "source": [
    "crustaceas['Catalog'].value_counts()"
   ]
  },
  {
   "cell_type": "code",
   "execution_count": 63,
   "metadata": {
    "ExecuteTime": {
     "end_time": "2020-02-05T13:21:19.329373Z",
     "start_time": "2020-02-05T13:21:19.323350Z"
    }
   },
   "outputs": [
    {
     "data": {
      "text/plain": [
       "0         Schmitti\n",
       "1         Schmitti\n",
       "2         Schmitti\n",
       "3         Schmitti\n",
       "4         Schmitti\n",
       "           ...    \n",
       "28684     Serejoae\n",
       "28685     Serejoae\n",
       "28686     Serejoae\n",
       "28687     Serejoae\n",
       "28688    Ostrovski\n",
       "Name: Species1, Length: 28689, dtype: object"
      ]
     },
     "execution_count": 63,
     "metadata": {},
     "output_type": "execute_result"
    }
   ],
   "source": [
    "crustaceas['Species1']"
   ]
  },
  {
   "cell_type": "code",
   "execution_count": 87,
   "metadata": {
    "ExecuteTime": {
     "end_time": "2020-02-05T13:29:36.113222Z",
     "start_time": "2020-02-05T13:29:36.104963Z"
    }
   },
   "outputs": [],
   "source": [
    "teste = crustaceas['Cataloged Date'].value_counts()"
   ]
  },
  {
   "cell_type": "code",
   "execution_count": 88,
   "metadata": {
    "ExecuteTime": {
     "end_time": "2020-02-05T13:29:36.588845Z",
     "start_time": "2020-02-05T13:29:36.581494Z"
    }
   },
   "outputs": [],
   "source": [
    "teste = teste.reset_index().rename(columns={'index':'year', 'Cataloged Date':'counts'})"
   ]
  },
  {
   "cell_type": "code",
   "execution_count": 94,
   "metadata": {
    "ExecuteTime": {
     "end_time": "2020-02-05T13:31:05.244142Z",
     "start_time": "2020-02-05T13:31:05.218449Z"
    }
   },
   "outputs": [
    {
     "data": {
      "text/html": [
       "<div>\n",
       "<style scoped>\n",
       "    .dataframe tbody tr th:only-of-type {\n",
       "        vertical-align: middle;\n",
       "    }\n",
       "\n",
       "    .dataframe tbody tr th {\n",
       "        vertical-align: top;\n",
       "    }\n",
       "\n",
       "    .dataframe thead th {\n",
       "        text-align: right;\n",
       "    }\n",
       "</style>\n",
       "<table border=\"1\" class=\"dataframe\">\n",
       "  <thead>\n",
       "    <tr style=\"text-align: right;\">\n",
       "      <th></th>\n",
       "      <th>class</th>\n",
       "      <th>kingdom</th>\n",
       "      <th>year</th>\n",
       "      <th>amount</th>\n",
       "    </tr>\n",
       "  </thead>\n",
       "  <tbody>\n",
       "    <tr>\n",
       "      <td>0</td>\n",
       "      <td>Malacostraca</td>\n",
       "      <td>Animalia</td>\n",
       "      <td>1980</td>\n",
       "      <td>52</td>\n",
       "    </tr>\n",
       "    <tr>\n",
       "      <td>1</td>\n",
       "      <td>Malacostraca</td>\n",
       "      <td>Animalia</td>\n",
       "      <td>2009</td>\n",
       "      <td>288</td>\n",
       "    </tr>\n",
       "    <tr>\n",
       "      <td>2</td>\n",
       "      <td>Malacostraca</td>\n",
       "      <td>Animalia</td>\n",
       "      <td>1981</td>\n",
       "      <td>118</td>\n",
       "    </tr>\n",
       "    <tr>\n",
       "      <td>3</td>\n",
       "      <td>Malacostraca</td>\n",
       "      <td>Animalia</td>\n",
       "      <td>1985</td>\n",
       "      <td>75</td>\n",
       "    </tr>\n",
       "    <tr>\n",
       "      <td>4</td>\n",
       "      <td>Malacostraca</td>\n",
       "      <td>Animalia</td>\n",
       "      <td>1982</td>\n",
       "      <td>112</td>\n",
       "    </tr>\n",
       "    <tr>\n",
       "      <td>...</td>\n",
       "      <td>...</td>\n",
       "      <td>...</td>\n",
       "      <td>...</td>\n",
       "      <td>...</td>\n",
       "    </tr>\n",
       "    <tr>\n",
       "      <td>196</td>\n",
       "      <td>Phyllocarida</td>\n",
       "      <td>Animalia</td>\n",
       "      <td>2004</td>\n",
       "      <td>1</td>\n",
       "    </tr>\n",
       "    <tr>\n",
       "      <td>197</td>\n",
       "      <td>Phyllocarida</td>\n",
       "      <td>Animalia</td>\n",
       "      <td>2006</td>\n",
       "      <td>1</td>\n",
       "    </tr>\n",
       "    <tr>\n",
       "      <td>198</td>\n",
       "      <td>Indeterminado</td>\n",
       "      <td>Animalia</td>\n",
       "      <td>2015</td>\n",
       "      <td>8</td>\n",
       "    </tr>\n",
       "    <tr>\n",
       "      <td>199</td>\n",
       "      <td>Indeterminado</td>\n",
       "      <td>Animalia</td>\n",
       "      <td>2017</td>\n",
       "      <td>1</td>\n",
       "    </tr>\n",
       "    <tr>\n",
       "      <td>200</td>\n",
       "      <td>Hexanauplia</td>\n",
       "      <td>Animalia</td>\n",
       "      <td>2017</td>\n",
       "      <td>39</td>\n",
       "    </tr>\n",
       "  </tbody>\n",
       "</table>\n",
       "<p>201 rows × 4 columns</p>\n",
       "</div>"
      ],
      "text/plain": [
       "             class   kingdom  year  amount\n",
       "0     Malacostraca  Animalia  1980      52\n",
       "1     Malacostraca  Animalia  2009     288\n",
       "2     Malacostraca  Animalia  1981     118\n",
       "3     Malacostraca  Animalia  1985      75\n",
       "4     Malacostraca  Animalia  1982     112\n",
       "..             ...       ...   ...     ...\n",
       "196   Phyllocarida  Animalia  2004       1\n",
       "197   Phyllocarida  Animalia  2006       1\n",
       "198  Indeterminado  Animalia  2015       8\n",
       "199  Indeterminado  Animalia  2017       1\n",
       "200    Hexanauplia  Animalia  2017      39\n",
       "\n",
       "[201 rows x 4 columns]"
      ]
     },
     "execution_count": 94,
     "metadata": {},
     "output_type": "execute_result"
    }
   ],
   "source": [
    "NewTable_Years"
   ]
  },
  {
   "cell_type": "code",
   "execution_count": 90,
   "metadata": {
    "ExecuteTime": {
     "end_time": "2020-02-05T13:29:39.075560Z",
     "start_time": "2020-02-05T13:29:39.060735Z"
    }
   },
   "outputs": [
    {
     "data": {
      "text/html": [
       "<div>\n",
       "<style scoped>\n",
       "    .dataframe tbody tr th:only-of-type {\n",
       "        vertical-align: middle;\n",
       "    }\n",
       "\n",
       "    .dataframe tbody tr th {\n",
       "        vertical-align: top;\n",
       "    }\n",
       "\n",
       "    .dataframe thead th {\n",
       "        text-align: right;\n",
       "    }\n",
       "</style>\n",
       "<table border=\"1\" class=\"dataframe\">\n",
       "  <thead>\n",
       "    <tr style=\"text-align: right;\">\n",
       "      <th></th>\n",
       "      <th>year</th>\n",
       "      <th>counts</th>\n",
       "    </tr>\n",
       "  </thead>\n",
       "  <tbody>\n",
       "    <tr>\n",
       "      <td>0</td>\n",
       "      <td>1997.0</td>\n",
       "      <td>3316</td>\n",
       "    </tr>\n",
       "    <tr>\n",
       "      <td>1</td>\n",
       "      <td>1994.0</td>\n",
       "      <td>2267</td>\n",
       "    </tr>\n",
       "    <tr>\n",
       "      <td>2</td>\n",
       "      <td>2016.0</td>\n",
       "      <td>2110</td>\n",
       "    </tr>\n",
       "    <tr>\n",
       "      <td>3</td>\n",
       "      <td>2006.0</td>\n",
       "      <td>2075</td>\n",
       "    </tr>\n",
       "    <tr>\n",
       "      <td>4</td>\n",
       "      <td>1995.0</td>\n",
       "      <td>1531</td>\n",
       "    </tr>\n",
       "    <tr>\n",
       "      <td>...</td>\n",
       "      <td>...</td>\n",
       "      <td>...</td>\n",
       "    </tr>\n",
       "    <tr>\n",
       "      <td>82</td>\n",
       "      <td>1932.0</td>\n",
       "      <td>1</td>\n",
       "    </tr>\n",
       "    <tr>\n",
       "      <td>83</td>\n",
       "      <td>1957.0</td>\n",
       "      <td>1</td>\n",
       "    </tr>\n",
       "    <tr>\n",
       "      <td>84</td>\n",
       "      <td>1946.0</td>\n",
       "      <td>1</td>\n",
       "    </tr>\n",
       "    <tr>\n",
       "      <td>85</td>\n",
       "      <td>1961.0</td>\n",
       "      <td>1</td>\n",
       "    </tr>\n",
       "    <tr>\n",
       "      <td>86</td>\n",
       "      <td>1933.0</td>\n",
       "      <td>1</td>\n",
       "    </tr>\n",
       "  </tbody>\n",
       "</table>\n",
       "<p>87 rows × 2 columns</p>\n",
       "</div>"
      ],
      "text/plain": [
       "      year  counts\n",
       "0   1997.0    3316\n",
       "1   1994.0    2267\n",
       "2   2016.0    2110\n",
       "3   2006.0    2075\n",
       "4   1995.0    1531\n",
       "..     ...     ...\n",
       "82  1932.0       1\n",
       "83  1957.0       1\n",
       "84  1946.0       1\n",
       "85  1961.0       1\n",
       "86  1933.0       1\n",
       "\n",
       "[87 rows x 2 columns]"
      ]
     },
     "execution_count": 90,
     "metadata": {},
     "output_type": "execute_result"
    }
   ],
   "source": [
    "teste"
   ]
  },
  {
   "cell_type": "code",
   "execution_count": 98,
   "metadata": {
    "ExecuteTime": {
     "end_time": "2020-02-05T13:35:36.121678Z",
     "start_time": "2020-02-05T13:35:36.104161Z"
    }
   },
   "outputs": [],
   "source": [
    "# min e max para eixo X (year)\n",
    "min_x = teste['year'].min()\n",
    "max_x = teste['year'].max()"
   ]
  },
  {
   "cell_type": "code",
   "execution_count": 100,
   "metadata": {
    "ExecuteTime": {
     "end_time": "2020-02-05T13:35:46.241582Z",
     "start_time": "2020-02-05T13:35:46.217421Z"
    }
   },
   "outputs": [
    {
     "data": {
      "application/javascript": [
       "const spec = {\"config\": {\"view\": {\"width\": 400, \"height\": 300}, \"mark\": {\"tooltip\": null}}, \"data\": {\"name\": \"data-c52e25a0cedceb5b3dbfbda6b179c4b4\"}, \"mark\": \"circle\", \"encoding\": {\"x\": {\"type\": \"quantitative\", \"field\": \"year\", \"scale\": {\"domain\": [1900.0, 2018.0]}}, \"y\": {\"type\": \"quantitative\", \"field\": \"counts\"}}, \"$schema\": \"https://vega.github.io/schema/vega-lite/v3.4.0.json\", \"datasets\": {\"data-c52e25a0cedceb5b3dbfbda6b179c4b4\": [{\"year\": 1997.0, \"counts\": 3316}, {\"year\": 1994.0, \"counts\": 2267}, {\"year\": 2016.0, \"counts\": 2110}, {\"year\": 2006.0, \"counts\": 2075}, {\"year\": 1995.0, \"counts\": 1531}, {\"year\": 2003.0, \"counts\": 1437}, {\"year\": 2000.0, \"counts\": 1411}, {\"year\": 2015.0, \"counts\": 1382}, {\"year\": 1998.0, \"counts\": 1298}, {\"year\": 1996.0, \"counts\": 1242}, {\"year\": 2002.0, \"counts\": 1182}, {\"year\": 2013.0, \"counts\": 1098}, {\"year\": 2014.0, \"counts\": 956}, {\"year\": 2007.0, \"counts\": 943}, {\"year\": 2010.0, \"counts\": 797}, {\"year\": 2017.0, \"counts\": 668}, {\"year\": 2001.0, \"counts\": 657}, {\"year\": 2011.0, \"counts\": 614}, {\"year\": 1993.0, \"counts\": 500}, {\"year\": 1999.0, \"counts\": 405}, {\"year\": 2009.0, \"counts\": 279}, {\"year\": 1987.0, \"counts\": 251}, {\"year\": 1992.0, \"counts\": 237}, {\"year\": 2008.0, \"counts\": 189}, {\"year\": 1988.0, \"counts\": 169}, {\"year\": 2004.0, \"counts\": 167}, {\"year\": 1983.0, \"counts\": 157}, {\"year\": 1984.0, \"counts\": 139}, {\"year\": 1981.0, \"counts\": 125}, {\"year\": 1982.0, \"counts\": 119}, {\"year\": 2012.0, \"counts\": 92}, {\"year\": 1985.0, \"counts\": 91}, {\"year\": 1980.0, \"counts\": 50}, {\"year\": 1964.0, \"counts\": 44}, {\"year\": 2005.0, \"counts\": 28}, {\"year\": 1968.0, \"counts\": 26}, {\"year\": 1974.0, \"counts\": 25}, {\"year\": 1986.0, \"counts\": 23}, {\"year\": 1969.0, \"counts\": 23}, {\"year\": 1944.0, \"counts\": 21}, {\"year\": 1953.0, \"counts\": 20}, {\"year\": 1954.0, \"counts\": 17}, {\"year\": 1960.0, \"counts\": 16}, {\"year\": 1959.0, \"counts\": 15}, {\"year\": 1976.0, \"counts\": 15}, {\"year\": 1956.0, \"counts\": 15}, {\"year\": 1967.0, \"counts\": 13}, {\"year\": 1966.0, \"counts\": 12}, {\"year\": 1975.0, \"counts\": 12}, {\"year\": 1973.0, \"counts\": 12}, {\"year\": 1951.0, \"counts\": 11}, {\"year\": 1962.0, \"counts\": 11}, {\"year\": 1963.0, \"counts\": 11}, {\"year\": 1978.0, \"counts\": 10}, {\"year\": 1965.0, \"counts\": 10}, {\"year\": 1945.0, \"counts\": 8}, {\"year\": 1977.0, \"counts\": 8}, {\"year\": 1911.0, \"counts\": 7}, {\"year\": 1955.0, \"counts\": 7}, {\"year\": 1950.0, \"counts\": 6}, {\"year\": 1949.0, \"counts\": 6}, {\"year\": 1935.0, \"counts\": 5}, {\"year\": 1942.0, \"counts\": 5}, {\"year\": 1972.0, \"counts\": 5}, {\"year\": 1903.0, \"counts\": 5}, {\"year\": 1958.0, \"counts\": 5}, {\"year\": 1952.0, \"counts\": 4}, {\"year\": 1936.0, \"counts\": 4}, {\"year\": 1970.0, \"counts\": 4}, {\"year\": 1971.0, \"counts\": 4}, {\"year\": 1901.0, \"counts\": 4}, {\"year\": 1940.0, \"counts\": 3}, {\"year\": 1979.0, \"counts\": 3}, {\"year\": 1941.0, \"counts\": 3}, {\"year\": 1900.0, \"counts\": 3}, {\"year\": 1916.0, \"counts\": 2}, {\"year\": 1927.0, \"counts\": 2}, {\"year\": 1989.0, \"counts\": 2}, {\"year\": 1947.0, \"counts\": 2}, {\"year\": 1913.0, \"counts\": 2}, {\"year\": 2018.0, \"counts\": 2}, {\"year\": 1905.0, \"counts\": 1}, {\"year\": 1932.0, \"counts\": 1}, {\"year\": 1957.0, \"counts\": 1}, {\"year\": 1946.0, \"counts\": 1}, {\"year\": 1961.0, \"counts\": 1}, {\"year\": 1933.0, \"counts\": 1}]}};\n",
       "const opt = {};\n",
       "const type = \"vega-lite\";\n",
       "const id = \"869a528e-3c29-4c1e-80dd-01627c123d84\";\n",
       "\n",
       "const output_area = this;\n",
       "\n",
       "require([\"nbextensions/jupyter-vega/index\"], function(vega) {\n",
       "  const target = document.createElement(\"div\");\n",
       "  target.id = id;\n",
       "  target.className = \"vega-embed\";\n",
       "\n",
       "  const style = document.createElement(\"style\");\n",
       "  style.textContent = [\n",
       "    \".vega-embed .error p {\",\n",
       "    \"  color: firebrick;\",\n",
       "    \"  font-size: 14px;\",\n",
       "    \"}\",\n",
       "  ].join(\"\\\\n\");\n",
       "\n",
       "  // element is a jQuery wrapped DOM element inside the output area\n",
       "  // see http://ipython.readthedocs.io/en/stable/api/generated/\\\n",
       "  // IPython.display.html#IPython.display.Javascript.__init__\n",
       "  element[0].appendChild(target);\n",
       "  element[0].appendChild(style);\n",
       "\n",
       "  vega.render(\"#\" + id, spec, type, opt, output_area);\n",
       "}, function (err) {\n",
       "  if (err.requireType !== \"scripterror\") {\n",
       "    throw(err);\n",
       "  }\n",
       "});\n"
      ],
      "text/plain": [
       "<vega.vegalite.VegaLite at 0x7fa6bdc5e550>"
      ]
     },
     "metadata": {
      "jupyter-vega": "#869a528e-3c29-4c1e-80dd-01627c123d84"
     },
     "output_type": "display_data"
    },
    {
     "data": {
      "text/plain": []
     },
     "execution_count": 100,
     "metadata": {},
     "output_type": "execute_result"
    },
    {
     "data": {
      "image/png": "[encoded data removed]"
     },
     "metadata": {
      "jupyter-vega": "#869a528e-3c29-4c1e-80dd-01627c123d84"
     },
     "output_type": "display_data"
    }
   ],
   "source": [
    "alt.Chart(data= teste).mark_circle().encode(\n",
    "    x= alt.X('year', type='quantitative', scale=alt.Scale(domain=[min_x, max_x])),\n",
    "    y= alt.Y('counts', type='quantitative')\n",
    ")"
   ]
  },
  {
   "cell_type": "code",
   "execution_count": 106,
   "metadata": {
    "ExecuteTime": {
     "end_time": "2020-02-05T13:49:12.504677Z",
     "start_time": "2020-02-05T13:49:11.816561Z"
    }
   },
   "outputs": [],
   "source": [
    "teste = crustaceas['Species1'].value_counts().reset_index()"
   ]
  },
  {
   "cell_type": "code",
   "execution_count": 20,
   "metadata": {
    "ExecuteTime": {
     "end_time": "2020-02-05T14:02:47.678173Z",
     "start_time": "2020-02-05T14:02:47.661817Z"
    }
   },
   "outputs": [
    {
     "data": {
      "text/html": [
       "<div>\n",
       "<style scoped>\n",
       "    .dataframe tbody tr th:only-of-type {\n",
       "        vertical-align: middle;\n",
       "    }\n",
       "\n",
       "    .dataframe tbody tr th {\n",
       "        vertical-align: top;\n",
       "    }\n",
       "\n",
       "    .dataframe thead th {\n",
       "        text-align: right;\n",
       "    }\n",
       "</style>\n",
       "<table border=\"1\" class=\"dataframe\">\n",
       "  <thead>\n",
       "    <tr style=\"text-align: right;\">\n",
       "      <th></th>\n",
       "      <th>class</th>\n",
       "      <th>kingdom</th>\n",
       "      <th>year</th>\n",
       "      <th>amount</th>\n",
       "      <th>species</th>\n",
       "      <th>type_status</th>\n",
       "    </tr>\n",
       "  </thead>\n",
       "  <tbody>\n",
       "    <tr>\n",
       "      <td>0</td>\n",
       "      <td>Malacostraca</td>\n",
       "      <td>Animalia</td>\n",
       "      <td>1980</td>\n",
       "      <td>52</td>\n",
       "      <td>schmitti</td>\n",
       "      <td>NaN</td>\n",
       "    </tr>\n",
       "    <tr>\n",
       "      <td>1</td>\n",
       "      <td>Malacostraca</td>\n",
       "      <td>Animalia</td>\n",
       "      <td>2009</td>\n",
       "      <td>288</td>\n",
       "      <td>schmitti</td>\n",
       "      <td>NaN</td>\n",
       "    </tr>\n",
       "    <tr>\n",
       "      <td>2</td>\n",
       "      <td>Malacostraca</td>\n",
       "      <td>Animalia</td>\n",
       "      <td>1981</td>\n",
       "      <td>118</td>\n",
       "      <td>schmitti</td>\n",
       "      <td>NaN</td>\n",
       "    </tr>\n",
       "    <tr>\n",
       "      <td>3</td>\n",
       "      <td>Malacostraca</td>\n",
       "      <td>Animalia</td>\n",
       "      <td>1985</td>\n",
       "      <td>75</td>\n",
       "      <td>schmitti</td>\n",
       "      <td>NaN</td>\n",
       "    </tr>\n",
       "    <tr>\n",
       "      <td>4</td>\n",
       "      <td>Malacostraca</td>\n",
       "      <td>Animalia</td>\n",
       "      <td>1982</td>\n",
       "      <td>112</td>\n",
       "      <td>schmitti</td>\n",
       "      <td>NaN</td>\n",
       "    </tr>\n",
       "  </tbody>\n",
       "</table>\n",
       "</div>"
      ],
      "text/plain": [
       "          class   kingdom  year  amount   species  type_status\n",
       "0  Malacostraca  Animalia  1980      52  schmitti          NaN\n",
       "1  Malacostraca  Animalia  2009     288  schmitti          NaN\n",
       "2  Malacostraca  Animalia  1981     118  schmitti          NaN\n",
       "3  Malacostraca  Animalia  1985      75  schmitti          NaN\n",
       "4  Malacostraca  Animalia  1982     112  schmitti          NaN"
      ]
     },
     "execution_count": 20,
     "metadata": {},
     "output_type": "execute_result"
    }
   ],
   "source": [
    "NewTable_Years.head()"
   ]
  },
  {
   "cell_type": "markdown",
   "metadata": {},
   "source": [
    "x: Species1, cor: Type Status1, size: counts"
   ]
  },
  {
   "cell_type": "code",
   "execution_count": 21,
   "metadata": {
    "ExecuteTime": {
     "end_time": "2020-02-05T14:03:44.352441Z",
     "start_time": "2020-02-05T14:03:44.024400Z"
    }
   },
   "outputs": [
    {
     "data": {
      "application/javascript": [
       "const spec = {\"config\": {\"view\": {\"width\": 400, \"height\": 300}, \"mark\": {\"tooltip\": null}}, \"data\": {\"name\": \"data-68c20519602440ccee381d330bca9593\"}, \"mark\": \"circle\", \"encoding\": {\"color\": {\"type\": \"nominal\", \"field\": \"species\"}, \"x\": {\"type\": \"ordinal\", \"field\": \"year\"}, \"y\": {\"type\": \"quantitative\", \"field\": \"amount\"}}, \"$schema\": \"https://vega.github.io/schema/vega-lite/v3.4.0.json\", \"datasets\": {\"data-68c20519602440ccee381d330bca9593\": [{\"class\": \"Malacostraca\", \"kingdom\": \"Animalia\", \"year\": 1980, \"amount\": 52, \"species\": \"schmitti\", \"type_status\": null}, {\"class\": \"Malacostraca\", \"kingdom\": \"Animalia\", \"year\": 2009, \"amount\": 288, \"species\": \"schmitti\", \"type_status\": null}, {\"class\": \"Malacostraca\", \"kingdom\": \"Animalia\", \"year\": 1981, \"amount\": 118, \"species\": \"schmitti\", \"type_status\": null}, {\"class\": \"Malacostraca\", \"kingdom\": \"Animalia\", \"year\": 1985, \"amount\": 75, \"species\": \"schmitti\", \"type_status\": null}, {\"class\": \"Malacostraca\", \"kingdom\": \"Animalia\", \"year\": 1982, \"amount\": 112, \"species\": \"schmitti\", \"type_status\": null}, {\"class\": \"Malacostraca\", \"kingdom\": \"Animalia\", \"year\": 2010, \"amount\": 708, \"species\": \"schmitti\", \"type_status\": null}, {\"class\": \"Malacostraca\", \"kingdom\": \"Animalia\", \"year\": 1989, \"amount\": 2, \"species\": \"schmitti\", \"type_status\": null}, {\"class\": \"Malacostraca\", \"kingdom\": \"Animalia\", \"year\": 2002, \"amount\": 920, \"species\": \"schmitti\", \"type_status\": null}, {\"class\": \"Malacostraca\", \"kingdom\": \"Animalia\", \"year\": 1983, \"amount\": 120, \"species\": \"schmitti\", \"type_status\": null}, {\"class\": \"Malacostraca\", \"kingdom\": \"Animalia\", \"year\": 1984, \"amount\": 129, \"species\": \"schmitti\", \"type_status\": null}, {\"class\": \"Malacostraca\", \"kingdom\": \"Animalia\", \"year\": 2014, \"amount\": 912, \"species\": \"schmitti\", \"type_status\": null}, {\"class\": \"Malacostraca\", \"kingdom\": \"Animalia\", \"year\": 2004, \"amount\": 135, \"species\": \"schmitti\", \"type_status\": null}, {\"class\": \"Malacostraca\", \"kingdom\": \"Animalia\", \"year\": 1987, \"amount\": 228, \"species\": \"schmitti\", \"type_status\": null}, {\"class\": \"Malacostraca\", \"kingdom\": \"Animalia\", \"year\": 1960, \"amount\": 7, \"species\": \"schmitti\", \"type_status\": null}, {\"class\": \"Malacostraca\", \"kingdom\": \"Animalia\", \"year\": 1975, \"amount\": 7, \"species\": \"schmitti\", \"type_status\": null}, {\"class\": \"Malacostraca\", \"kingdom\": \"Animalia\", \"year\": 1956, \"amount\": 18, \"species\": \"schmitti\", \"type_status\": null}, {\"class\": \"Malacostraca\", \"kingdom\": \"Animalia\", \"year\": 1968, \"amount\": 25, \"species\": \"schmitti\", \"type_status\": null}, {\"class\": \"Malacostraca\", \"kingdom\": \"Animalia\", \"year\": 1964, \"amount\": 57, \"species\": \"schmitti\", \"type_status\": null}, {\"class\": \"Malacostraca\", \"kingdom\": \"Animalia\", \"year\": 1944, \"amount\": 28, \"species\": \"schmitti\", \"type_status\": null}, {\"class\": \"Malacostraca\", \"kingdom\": \"Animalia\", \"year\": 1955, \"amount\": 9, \"species\": \"schmitti\", \"type_status\": null}, {\"class\": \"Malacostraca\", \"kingdom\": \"Animalia\", \"year\": 1963, \"amount\": 14, \"species\": \"schmitti\", \"type_status\": null}, {\"class\": \"Malacostraca\", \"kingdom\": \"Animalia\", \"year\": 1959, \"amount\": 21, \"species\": \"schmitti\", \"type_status\": null}, {\"class\": \"Malacostraca\", \"kingdom\": \"Animalia\", \"year\": 1967, \"amount\": 4, \"species\": \"schmitti\", \"type_status\": null}, {\"class\": \"Malacostraca\", \"kingdom\": \"Animalia\", \"year\": 2005, \"amount\": 39, \"species\": \"schmitti\", \"type_status\": null}, {\"class\": \"Malacostraca\", \"kingdom\": \"Animalia\", \"year\": 1951, \"amount\": 12, \"species\": \"schmitti\", \"type_status\": null}, {\"class\": \"Malacostraca\", \"kingdom\": \"Animalia\", \"year\": 1969, \"amount\": 18, \"species\": \"schmitti\", \"type_status\": null}, {\"class\": \"Malacostraca\", \"kingdom\": \"Animalia\", \"year\": 1993, \"amount\": 323, \"species\": \"schmitti\", \"type_status\": null}, {\"class\": \"Malacostraca\", \"kingdom\": \"Animalia\", \"year\": 1945, \"amount\": 2, \"species\": \"schmitti\", \"type_status\": null}, {\"class\": \"Malacostraca\", \"kingdom\": \"Animalia\", \"year\": 1903, \"amount\": 7, \"species\": \"schmitti\", \"type_status\": null}, {\"class\": \"Malacostraca\", \"kingdom\": \"Animalia\", \"year\": 1957, \"amount\": 2, \"species\": \"schmitti\", \"type_status\": null}, {\"class\": \"Malacostraca\", \"kingdom\": \"Animalia\", \"year\": 1901, \"amount\": 3, \"species\": \"schmitti\", \"type_status\": null}, {\"class\": \"Malacostraca\", \"kingdom\": \"Animalia\", \"year\": 1954, \"amount\": 17, \"species\": \"schmitti\", \"type_status\": null}, {\"class\": \"Malacostraca\", \"kingdom\": \"Animalia\", \"year\": 1911, \"amount\": 6, \"species\": \"schmitti\", \"type_status\": null}, {\"class\": \"Malacostraca\", \"kingdom\": \"Animalia\", \"year\": 1974, \"amount\": 26, \"species\": \"schmitti\", \"type_status\": null}, {\"class\": \"Malacostraca\", \"kingdom\": \"Animalia\", \"year\": 1972, \"amount\": 4, \"species\": \"schmitti\", \"type_status\": null}, {\"class\": \"Malacostraca\", \"kingdom\": \"Animalia\", \"year\": 1973, \"amount\": 12, \"species\": \"schmitti\", \"type_status\": null}, {\"class\": \"Malacostraca\", \"kingdom\": \"Animalia\", \"year\": 1942, \"amount\": 4, \"species\": \"schmitti\", \"type_status\": null}, {\"class\": \"Malacostraca\", \"kingdom\": \"Animalia\", \"year\": 1962, \"amount\": 9, \"species\": \"schmitti\", \"type_status\": null}, {\"class\": \"Malacostraca\", \"kingdom\": \"Animalia\", \"year\": 1977, \"amount\": 3, \"species\": \"schmitti\", \"type_status\": null}, {\"class\": \"Malacostraca\", \"kingdom\": \"Animalia\", \"year\": 1953, \"amount\": 18, \"species\": \"schmitti\", \"type_status\": null}, {\"class\": \"Malacostraca\", \"kingdom\": \"Animalia\", \"year\": 1970, \"amount\": 11, \"species\": \"schmitti\", \"type_status\": null}, {\"class\": \"Malacostraca\", \"kingdom\": \"Animalia\", \"year\": 1952, \"amount\": 2, \"species\": \"schmitti\", \"type_status\": null}, {\"class\": \"Malacostraca\", \"kingdom\": \"Animalia\", \"year\": 1950, \"amount\": 4, \"species\": \"schmitti\", \"type_status\": null}, {\"class\": \"Malacostraca\", \"kingdom\": \"Animalia\", \"year\": 1940, \"amount\": 5, \"species\": \"schmitti\", \"type_status\": null}, {\"class\": \"Malacostraca\", \"kingdom\": \"Animalia\", \"year\": 1949, \"amount\": 5, \"species\": \"schmitti\", \"type_status\": null}, {\"class\": \"Malacostraca\", \"kingdom\": \"Animalia\", \"year\": 1976, \"amount\": 9, \"species\": \"schmitti\", \"type_status\": null}, {\"class\": \"Malacostraca\", \"kingdom\": \"Animalia\", \"year\": 1941, \"amount\": 1, \"species\": \"schmitti\", \"type_status\": null}, {\"class\": \"Malacostraca\", \"kingdom\": \"Animalia\", \"year\": 1965, \"amount\": 4, \"species\": \"schmitti\", \"type_status\": null}, {\"class\": \"Malacostraca\", \"kingdom\": \"Animalia\", \"year\": 1978, \"amount\": 11, \"species\": \"schmitti\", \"type_status\": null}, {\"class\": \"Malacostraca\", \"kingdom\": \"Animalia\", \"year\": 1935, \"amount\": 3, \"species\": \"schmitti\", \"type_status\": null}, {\"class\": \"Malacostraca\", \"kingdom\": \"Animalia\", \"year\": 1966, \"amount\": 6, \"species\": \"schmitti\", \"type_status\": null}, {\"class\": \"Malacostraca\", \"kingdom\": \"Animalia\", \"year\": 1913, \"amount\": 3, \"species\": \"schmitti\", \"type_status\": null}, {\"class\": \"Malacostraca\", \"kingdom\": \"Animalia\", \"year\": 1933, \"amount\": 2, \"species\": \"schmitti\", \"type_status\": null}, {\"class\": \"Malacostraca\", \"kingdom\": \"Animalia\", \"year\": 1961, \"amount\": 1, \"species\": \"schmitti\", \"type_status\": null}, {\"class\": \"Malacostraca\", \"kingdom\": \"Animalia\", \"year\": 1979, \"amount\": 1, \"species\": \"schmitti\", \"type_status\": null}, {\"class\": \"Malacostraca\", \"kingdom\": \"Animalia\", \"year\": 1971, \"amount\": 3, \"species\": \"schmitti\", \"type_status\": null}, {\"class\": \"Malacostraca\", \"kingdom\": \"Animalia\", \"year\": 1946, \"amount\": 1, \"species\": \"schmitti\", \"type_status\": null}, {\"class\": \"Malacostraca\", \"kingdom\": \"Animalia\", \"year\": 1999, \"amount\": 384, \"species\": \"schmitti\", \"type_status\": null}, {\"class\": \"Malacostraca\", \"kingdom\": \"Animalia\", \"year\": 1916, \"amount\": 1, \"species\": \"schmitti\", \"type_status\": null}, {\"class\": \"Malacostraca\", \"kingdom\": \"Animalia\", \"year\": 1958, \"amount\": 4, \"species\": \"schmitti\", \"type_status\": null}, {\"class\": \"Malacostraca\", \"kingdom\": \"Animalia\", \"year\": 1932, \"amount\": 1, \"species\": \"schmitti\", \"type_status\": null}, {\"class\": \"Malacostraca\", \"kingdom\": \"Animalia\", \"year\": 1947, \"amount\": 2, \"species\": \"schmitti\", \"type_status\": null}, {\"class\": \"Malacostraca\", \"kingdom\": \"Animalia\", \"year\": 1936, \"amount\": 8, \"species\": \"schmitti\", \"type_status\": null}, {\"class\": \"Malacostraca\", \"kingdom\": \"Animalia\", \"year\": 2008, \"amount\": 171, \"species\": \"schmitti\", \"type_status\": null}, {\"class\": \"Malacostraca\", \"kingdom\": \"Animalia\", \"year\": 2003, \"amount\": 1256, \"species\": \"schmitti\", \"type_status\": null}, {\"class\": \"Malacostraca\", \"kingdom\": \"Animalia\", \"year\": 2000, \"amount\": 1146, \"species\": \"schmitti\", \"type_status\": null}, {\"class\": \"Malacostraca\", \"kingdom\": \"Animalia\", \"year\": 1992, \"amount\": 53, \"species\": \"schmitti\", \"type_status\": null}, {\"class\": \"Malacostraca\", \"kingdom\": \"Animalia\", \"year\": 1998, \"amount\": 995, \"species\": \"schmitti\", \"type_status\": null}, {\"class\": \"Malacostraca\", \"kingdom\": \"Animalia\", \"year\": 1994, \"amount\": 1950, \"species\": \"schmitti\", \"type_status\": null}, {\"class\": \"Malacostraca\", \"kingdom\": \"Animalia\", \"year\": 1996, \"amount\": 1179, \"species\": \"schmitti\", \"type_status\": null}, {\"class\": \"Malacostraca\", \"kingdom\": \"Animalia\", \"year\": 1995, \"amount\": 1531, \"species\": \"schmitti\", \"type_status\": null}, {\"class\": \"Malacostraca\", \"kingdom\": \"Animalia\", \"year\": 2006, \"amount\": 1665, \"species\": \"schmitti\", \"type_status\": null}, {\"class\": \"Malacostraca\", \"kingdom\": \"Animalia\", \"year\": 1997, \"amount\": 2990, \"species\": \"schmitti\", \"type_status\": null}, {\"class\": \"Malacostraca\", \"kingdom\": \"Animalia\", \"year\": 2007, \"amount\": 821, \"species\": \"schmitti\", \"type_status\": null}, {\"class\": \"Malacostraca\", \"kingdom\": \"Animalia\", \"year\": 2001, \"amount\": 513, \"species\": \"schmitti\", \"type_status\": null}, {\"class\": \"Malacostraca\", \"kingdom\": \"Animalia\", \"year\": 2013, \"amount\": 1072, \"species\": \"schmitti\", \"type_status\": null}, {\"class\": \"Malacostraca\", \"kingdom\": \"Animalia\", \"year\": 2015, \"amount\": 832, \"species\": \"schmitti\", \"type_status\": null}, {\"class\": \"Malacostraca\", \"kingdom\": \"Animalia\", \"year\": 2016, \"amount\": 1987, \"species\": \"schmitti\", \"type_status\": null}, {\"class\": \"Malacostraca\", \"kingdom\": \"Animalia\", \"year\": 2012, \"amount\": 82, \"species\": \"schmitti\", \"type_status\": null}, {\"class\": \"Malacostraca\", \"kingdom\": \"Animalia\", \"year\": 1900, \"amount\": 4, \"species\": \"schmitti\", \"type_status\": null}, {\"class\": \"Malacostraca\", \"kingdom\": \"Animalia\", \"year\": 2011, \"amount\": 604, \"species\": \"schmitti\", \"type_status\": null}, {\"class\": \"Malacostraca\", \"kingdom\": \"Animalia\", \"year\": 2017, \"amount\": 617, \"species\": \"schmitti\", \"type_status\": null}, {\"class\": \"Malacostraca\", \"kingdom\": \"Animalia\", \"year\": 2018, \"amount\": 2, \"species\": \"schmitti\", \"type_status\": null}, {\"class\": \"Maxillopoda\", \"kingdom\": \"Animalia\", \"year\": 2014, \"amount\": 5, \"species\": \"sp \", \"type_status\": null}, {\"class\": \"Maxillopoda\", \"kingdom\": \"Animalia\", \"year\": 2008, \"amount\": 15, \"species\": \"sp \", \"type_status\": null}, {\"class\": \"Maxillopoda\", \"kingdom\": \"Animalia\", \"year\": 1980, \"amount\": 1, \"species\": \"sp \", \"type_status\": null}, {\"class\": \"Maxillopoda\", \"kingdom\": \"Animalia\", \"year\": 1982, \"amount\": 9, \"species\": \"sp \", \"type_status\": null}, {\"class\": \"Maxillopoda\", \"kingdom\": \"Animalia\", \"year\": 1974, \"amount\": 10, \"species\": \"sp \", \"type_status\": null}, {\"class\": \"Maxillopoda\", \"kingdom\": \"Animalia\", \"year\": 1976, \"amount\": 9, \"species\": \"sp \", \"type_status\": null}, {\"class\": \"Maxillopoda\", \"kingdom\": \"Animalia\", \"year\": 1975, \"amount\": 9, \"species\": \"sp \", \"type_status\": null}, {\"class\": \"Maxillopoda\", \"kingdom\": \"Animalia\", \"year\": 1949, \"amount\": 2, \"species\": \"sp \", \"type_status\": null}, {\"class\": \"Maxillopoda\", \"kingdom\": \"Animalia\", \"year\": 1936, \"amount\": 1, \"species\": \"sp \", \"type_status\": null}, {\"class\": \"Maxillopoda\", \"kingdom\": \"Animalia\", \"year\": 1911, \"amount\": 5, \"species\": \"sp \", \"type_status\": null}, {\"class\": \"Maxillopoda\", \"kingdom\": \"Animalia\", \"year\": 1966, \"amount\": 8, \"species\": \"sp \", \"type_status\": null}, {\"class\": \"Maxillopoda\", \"kingdom\": \"Animalia\", \"year\": 1960, \"amount\": 17, \"species\": \"sp \", \"type_status\": null}, {\"class\": \"Maxillopoda\", \"kingdom\": \"Animalia\", \"year\": 1958, \"amount\": 2, \"species\": \"sp \", \"type_status\": null}, {\"class\": \"Maxillopoda\", \"kingdom\": \"Animalia\", \"year\": 1954, \"amount\": 3, \"species\": \"sp \", \"type_status\": null}, {\"class\": \"Maxillopoda\", \"kingdom\": \"Animalia\", \"year\": 1964, \"amount\": 6, \"species\": \"sp \", \"type_status\": null}, {\"class\": \"Maxillopoda\", \"kingdom\": \"Animalia\", \"year\": 1969, \"amount\": 6, \"species\": \"sp \", \"type_status\": null}, {\"class\": \"Maxillopoda\", \"kingdom\": \"Animalia\", \"year\": 1963, \"amount\": 1, \"species\": \"sp \", \"type_status\": null}, {\"class\": \"Maxillopoda\", \"kingdom\": \"Animalia\", \"year\": 1959, \"amount\": 1, \"species\": \"sp \", \"type_status\": null}, {\"class\": \"Maxillopoda\", \"kingdom\": \"Animalia\", \"year\": 1956, \"amount\": 2, \"species\": \"sp \", \"type_status\": null}, {\"class\": \"Maxillopoda\", \"kingdom\": \"Animalia\", \"year\": 1962, \"amount\": 3, \"species\": \"sp \", \"type_status\": null}, {\"class\": \"Maxillopoda\", \"kingdom\": \"Animalia\", \"year\": 1951, \"amount\": 5, \"species\": \"sp \", \"type_status\": null}, {\"class\": \"Maxillopoda\", \"kingdom\": \"Animalia\", \"year\": 1965, \"amount\": 7, \"species\": \"sp \", \"type_status\": null}, {\"class\": \"Maxillopoda\", \"kingdom\": \"Animalia\", \"year\": 1968, \"amount\": 9, \"species\": \"sp \", \"type_status\": null}, {\"class\": \"Maxillopoda\", \"kingdom\": \"Animalia\", \"year\": 1967, \"amount\": 10, \"species\": \"sp \", \"type_status\": null}, {\"class\": \"Maxillopoda\", \"kingdom\": \"Animalia\", \"year\": 1983, \"amount\": 41, \"species\": \"sp \", \"type_status\": null}, {\"class\": \"Maxillopoda\", \"kingdom\": \"Animalia\", \"year\": 1985, \"amount\": 16, \"species\": \"sp \", \"type_status\": null}, {\"class\": \"Maxillopoda\", \"kingdom\": \"Animalia\", \"year\": 1987, \"amount\": 23, \"species\": \"sp \", \"type_status\": null}, {\"class\": \"Maxillopoda\", \"kingdom\": \"Animalia\", \"year\": 1984, \"amount\": 11, \"species\": \"sp \", \"type_status\": null}, {\"class\": \"Maxillopoda\", \"kingdom\": \"Animalia\", \"year\": 1986, \"amount\": 23, \"species\": \"sp \", \"type_status\": null}, {\"class\": \"Maxillopoda\", \"kingdom\": \"Animalia\", \"year\": 1981, \"amount\": 11, \"species\": \"sp \", \"type_status\": null}, {\"class\": \"Maxillopoda\", \"kingdom\": \"Animalia\", \"year\": 1905, \"amount\": 1, \"species\": \"sp \", \"type_status\": null}, {\"class\": \"Maxillopoda\", \"kingdom\": \"Animalia\", \"year\": 1950, \"amount\": 3, \"species\": \"sp \", \"type_status\": null}, {\"class\": \"Maxillopoda\", \"kingdom\": \"Animalia\", \"year\": 1977, \"amount\": 5, \"species\": \"sp \", \"type_status\": null}, {\"class\": \"Maxillopoda\", \"kingdom\": \"Animalia\", \"year\": 1916, \"amount\": 1, \"species\": \"sp \", \"type_status\": null}, {\"class\": \"Maxillopoda\", \"kingdom\": \"Animalia\", \"year\": 1945, \"amount\": 7, \"species\": \"sp \", \"type_status\": null}, {\"class\": \"Maxillopoda\", \"kingdom\": \"Animalia\", \"year\": 1972, \"amount\": 2, \"species\": \"sp \", \"type_status\": null}, {\"class\": \"Maxillopoda\", \"kingdom\": \"Animalia\", \"year\": 1944, \"amount\": 8, \"species\": \"sp \", \"type_status\": null}, {\"class\": \"Maxillopoda\", \"kingdom\": \"Animalia\", \"year\": 1953, \"amount\": 2, \"species\": \"sp \", \"type_status\": null}, {\"class\": \"Maxillopoda\", \"kingdom\": \"Animalia\", \"year\": 1971, \"amount\": 1, \"species\": \"sp \", \"type_status\": null}, {\"class\": \"Maxillopoda\", \"kingdom\": \"Animalia\", \"year\": 1941, \"amount\": 2, \"species\": \"sp \", \"type_status\": null}, {\"class\": \"Maxillopoda\", \"kingdom\": \"Animalia\", \"year\": 1942, \"amount\": 1, \"species\": \"sp \", \"type_status\": null}, {\"class\": \"Maxillopoda\", \"kingdom\": \"Animalia\", \"year\": 1952, \"amount\": 2, \"species\": \"sp \", \"type_status\": null}, {\"class\": \"Maxillopoda\", \"kingdom\": \"Animalia\", \"year\": 1970, \"amount\": 3, \"species\": \"sp \", \"type_status\": null}, {\"class\": \"Maxillopoda\", \"kingdom\": \"Animalia\", \"year\": 1901, \"amount\": 3, \"species\": \"sp \", \"type_status\": null}, {\"class\": \"Maxillopoda\", \"kingdom\": \"Animalia\", \"year\": 1935, \"amount\": 3, \"species\": \"sp \", \"type_status\": null}, {\"class\": \"Maxillopoda\", \"kingdom\": \"Animalia\", \"year\": 1927, \"amount\": 2, \"species\": \"sp \", \"type_status\": null}, {\"class\": \"Maxillopoda\", \"kingdom\": \"Animalia\", \"year\": 1979, \"amount\": 3, \"species\": \"sp \", \"type_status\": null}, {\"class\": \"Maxillopoda\", \"kingdom\": \"Animalia\", \"year\": 1973, \"amount\": 1, \"species\": \"sp \", \"type_status\": null}, {\"class\": \"Maxillopoda\", \"kingdom\": \"Animalia\", \"year\": 1978, \"amount\": 2, \"species\": \"sp \", \"type_status\": null}, {\"class\": \"Maxillopoda\", \"kingdom\": \"Animalia\", \"year\": 1988, \"amount\": 169, \"species\": \"sp \", \"type_status\": null}, {\"class\": \"Maxillopoda\", \"kingdom\": \"Animalia\", \"year\": 1992, \"amount\": 184, \"species\": \"sp \", \"type_status\": null}, {\"class\": \"Maxillopoda\", \"kingdom\": \"Animalia\", \"year\": 1993, \"amount\": 159, \"species\": \"sp \", \"type_status\": null}, {\"class\": \"Maxillopoda\", \"kingdom\": \"Animalia\", \"year\": 1994, \"amount\": 263, \"species\": \"sp \", \"type_status\": null}, {\"class\": \"Maxillopoda\", \"kingdom\": \"Animalia\", \"year\": 1996, \"amount\": 54, \"species\": \"sp \", \"type_status\": null}, {\"class\": \"Maxillopoda\", \"kingdom\": \"Animalia\", \"year\": 1997, \"amount\": 141, \"species\": \"sp \", \"type_status\": null}, {\"class\": \"Maxillopoda\", \"kingdom\": \"Animalia\", \"year\": 1998, \"amount\": 73, \"species\": \"sp \", \"type_status\": null}, {\"class\": \"Maxillopoda\", \"kingdom\": \"Animalia\", \"year\": 1999, \"amount\": 19, \"species\": \"sp \", \"type_status\": null}, {\"class\": \"Maxillopoda\", \"kingdom\": \"Animalia\", \"year\": 2000, \"amount\": 167, \"species\": \"sp \", \"type_status\": null}, {\"class\": \"Maxillopoda\", \"kingdom\": \"Animalia\", \"year\": 2001, \"amount\": 24, \"species\": \"sp \", \"type_status\": null}, {\"class\": \"Maxillopoda\", \"kingdom\": \"Animalia\", \"year\": 2006, \"amount\": 119, \"species\": \"sp \", \"type_status\": null}, {\"class\": \"Maxillopoda\", \"kingdom\": \"Animalia\", \"year\": 2002, \"amount\": 110, \"species\": \"sp \", \"type_status\": null}, {\"class\": \"Maxillopoda\", \"kingdom\": \"Animalia\", \"year\": 2003, \"amount\": 42, \"species\": \"sp \", \"type_status\": null}, {\"class\": \"Maxillopoda\", \"kingdom\": \"Animalia\", \"year\": 2004, \"amount\": 2, \"species\": \"sp \", \"type_status\": null}, {\"class\": \"Maxillopoda\", \"kingdom\": \"Animalia\", \"year\": 2007, \"amount\": 33, \"species\": \"sp \", \"type_status\": null}, {\"class\": \"Maxillopoda\", \"kingdom\": \"Animalia\", \"year\": 2009, \"amount\": 1, \"species\": \"sp \", \"type_status\": null}, {\"class\": \"Maxillopoda\", \"kingdom\": \"Animalia\", \"year\": 2010, \"amount\": 2, \"species\": \"sp \", \"type_status\": null}, {\"class\": \"Maxillopoda\", \"kingdom\": \"Animalia\", \"year\": 2011, \"amount\": 3, \"species\": \"sp \", \"type_status\": null}, {\"class\": \"Maxillopoda\", \"kingdom\": \"Animalia\", \"year\": 2013, \"amount\": 9, \"species\": \"sp \", \"type_status\": null}, {\"class\": \"Maxillopoda\", \"kingdom\": \"Animalia\", \"year\": 2015, \"amount\": 112, \"species\": \"sp \", \"type_status\": null}, {\"class\": \"Maxillopoda\", \"kingdom\": \"Animalia\", \"year\": 2005, \"amount\": 1, \"species\": \"sp \", \"type_status\": null}, {\"class\": \"Maxillopoda\", \"kingdom\": \"Animalia\", \"year\": 2016, \"amount\": 20, \"species\": \"sp \", \"type_status\": null}, {\"class\": \"Copepoda\", \"kingdom\": \"Animalia\", \"year\": 1993, \"amount\": 3, \"species\": \"sp \", \"type_status\": null}, {\"class\": \"Copepoda\", \"kingdom\": \"Animalia\", \"year\": 1994, \"amount\": 42, \"species\": \"sp \", \"type_status\": null}, {\"class\": \"Copepoda\", \"kingdom\": \"Animalia\", \"year\": 1998, \"amount\": 232, \"species\": \"sp \", \"type_status\": null}, {\"class\": \"Copepoda\", \"kingdom\": \"Animalia\", \"year\": 1997, \"amount\": 99, \"species\": \"sp \", \"type_status\": null}, {\"class\": \"Copepoda\", \"kingdom\": \"Animalia\", \"year\": 1996, \"amount\": 9, \"species\": \"sp \", \"type_status\": null}, {\"class\": \"Copepoda\", \"kingdom\": \"Animalia\", \"year\": 2003, \"amount\": 71, \"species\": \"sp \", \"type_status\": null}, {\"class\": \"Copepoda\", \"kingdom\": \"Animalia\", \"year\": 2014, \"amount\": 12, \"species\": \"sp \", \"type_status\": null}, {\"class\": \"Copepoda\", \"kingdom\": \"Animalia\", \"year\": 1999, \"amount\": 3, \"species\": \"sp \", \"type_status\": null}, {\"class\": \"Copepoda\", \"kingdom\": \"Animalia\", \"year\": 2001, \"amount\": 118, \"species\": \"sp \", \"type_status\": null}, {\"class\": \"Copepoda\", \"kingdom\": \"Animalia\", \"year\": 2000, \"amount\": 54, \"species\": \"sp \", \"type_status\": null}, {\"class\": \"Copepoda\", \"kingdom\": \"Animalia\", \"year\": 2002, \"amount\": 87, \"species\": \"sp \", \"type_status\": null}, {\"class\": \"Copepoda\", \"kingdom\": \"Animalia\", \"year\": 2004, \"amount\": 26, \"species\": \"sp \", \"type_status\": null}, {\"class\": \"Copepoda\", \"kingdom\": \"Animalia\", \"year\": 2006, \"amount\": 81, \"species\": \"sp \", \"type_status\": null}, {\"class\": \"Copepoda\", \"kingdom\": \"Animalia\", \"year\": 2007, \"amount\": 71, \"species\": \"sp \", \"type_status\": null}, {\"class\": \"Copepoda\", \"kingdom\": \"Animalia\", \"year\": 2008, \"amount\": 6, \"species\": \"sp \", \"type_status\": null}, {\"class\": \"Copepoda\", \"kingdom\": \"Animalia\", \"year\": 2011, \"amount\": 3, \"species\": \"sp \", \"type_status\": null}, {\"class\": \"Copepoda\", \"kingdom\": \"Animalia\", \"year\": 2012, \"amount\": 5, \"species\": \"sp \", \"type_status\": null}, {\"class\": \"Copepoda\", \"kingdom\": \"Animalia\", \"year\": 2013, \"amount\": 15, \"species\": \"sp \", \"type_status\": null}, {\"class\": \"Copepoda\", \"kingdom\": \"Animalia\", \"year\": 2015, \"amount\": 4, \"species\": \"sp \", \"type_status\": null}, {\"class\": \"Copepoda\", \"kingdom\": \"Animalia\", \"year\": 2016, \"amount\": 36, \"species\": \"sp \", \"type_status\": null}, {\"class\": \"Ostracoda\", \"kingdom\": \"Animalia\", \"year\": 1993, \"amount\": 2, \"species\": \"brasiliensis \", \"type_status\": null}, {\"class\": \"Ostracoda\", \"kingdom\": \"Animalia\", \"year\": 1997, \"amount\": 85, \"species\": \"brasiliensis \", \"type_status\": null}, {\"class\": \"Ostracoda\", \"kingdom\": \"Animalia\", \"year\": 2000, \"amount\": 38, \"species\": \"brasiliensis \", \"type_status\": null}, {\"class\": \"Ostracoda\", \"kingdom\": \"Animalia\", \"year\": 2001, \"amount\": 1, \"species\": \"brasiliensis \", \"type_status\": null}, {\"class\": \"Ostracoda\", \"kingdom\": \"Animalia\", \"year\": 2002, \"amount\": 65, \"species\": \"brasiliensis \", \"type_status\": null}, {\"class\": \"Ostracoda\", \"kingdom\": \"Animalia\", \"year\": 2006, \"amount\": 207, \"species\": \"brasiliensis \", \"type_status\": null}, {\"class\": \"Ostracoda\", \"kingdom\": \"Animalia\", \"year\": 2014, \"amount\": 24, \"species\": \"brasiliensis \", \"type_status\": null}, {\"class\": \"Ostracoda\", \"kingdom\": \"Animalia\", \"year\": 2009, \"amount\": 1, \"species\": \"brasiliensis \", \"type_status\": null}, {\"class\": \"Ostracoda\", \"kingdom\": \"Animalia\", \"year\": 2003, \"amount\": 60, \"species\": \"brasiliensis \", \"type_status\": null}, {\"class\": \"Ostracoda\", \"kingdom\": \"Animalia\", \"year\": 2004, \"amount\": 3, \"species\": \"brasiliensis \", \"type_status\": null}, {\"class\": \"Ostracoda\", \"kingdom\": \"Animalia\", \"year\": 2007, \"amount\": 13, \"species\": \"brasiliensis \", \"type_status\": null}, {\"class\": \"Ostracoda\", \"kingdom\": \"Animalia\", \"year\": 2016, \"amount\": 47, \"species\": \"brasiliensis \", \"type_status\": null}, {\"class\": \"Ostracoda\", \"kingdom\": \"Animalia\", \"year\": 2017, \"amount\": 2, \"species\": \"brasiliensis \", \"type_status\": null}, {\"class\": \"Branchiopoda\", \"kingdom\": \"Animalia\", \"year\": 1993, \"amount\": 13, \"species\": \"sp \", \"type_status\": null}, {\"class\": \"Branchiopoda\", \"kingdom\": \"Animalia\", \"year\": 1994, \"amount\": 12, \"species\": \"sp \", \"type_status\": null}, {\"class\": \"Branchiopoda\", \"kingdom\": \"Animalia\", \"year\": 2017, \"amount\": 9, \"species\": \"sp \", \"type_status\": null}, {\"class\": \"Cephalocarida\", \"kingdom\": \"Animalia\", \"year\": 1997, \"amount\": 1, \"species\": \"macracantha \", \"type_status\": null}, {\"class\": \"Cephalocarida\", \"kingdom\": \"Animalia\", \"year\": 2000, \"amount\": 7, \"species\": \"macracantha \", \"type_status\": null}, {\"class\": \"Tantulocarida\", \"kingdom\": \"Animalia\", \"year\": 2001, \"amount\": 1, \"species\": \"sp \", \"type_status\": null}, {\"class\": \"Tantulocarida\", \"kingdom\": \"Animalia\", \"year\": 2006, \"amount\": 1, \"species\": \"sp \", \"type_status\": null}, {\"class\": \"Remipedia\", \"kingdom\": \"Animalia\", \"year\": 2006, \"amount\": 1, \"species\": \"gironensis \", \"type_status\": null}, {\"class\": \"Phyllocarida\", \"kingdom\": \"Animalia\", \"year\": 2003, \"amount\": 8, \"species\": \"sp \", \"type_status\": null}, {\"class\": \"Phyllocarida\", \"kingdom\": \"Animalia\", \"year\": 2004, \"amount\": 1, \"species\": \"sp \", \"type_status\": null}, {\"class\": \"Phyllocarida\", \"kingdom\": \"Animalia\", \"year\": 2006, \"amount\": 1, \"species\": \"sp \", \"type_status\": null}, {\"class\": \"Indeterminado\", \"kingdom\": \"Animalia\", \"year\": 2015, \"amount\": 8, \"species\": \"sp.\", \"type_status\": null}, {\"class\": \"Indeterminado\", \"kingdom\": \"Animalia\", \"year\": 2017, \"amount\": 1, \"species\": \"sp.\", \"type_status\": null}, {\"class\": \"Hexanauplia\", \"kingdom\": \"Animalia\", \"year\": 2017, \"amount\": 39, \"species\": \"sp\", \"type_status\": null}]}};\n",
       "const opt = {};\n",
       "const type = \"vega-lite\";\n",
       "const id = \"d9f98afc-4bdd-4ac1-bcc3-2f138e8c3dfd\";\n",
       "\n",
       "const output_area = this;\n",
       "\n",
       "require([\"nbextensions/jupyter-vega/index\"], function(vega) {\n",
       "  const target = document.createElement(\"div\");\n",
       "  target.id = id;\n",
       "  target.className = \"vega-embed\";\n",
       "\n",
       "  const style = document.createElement(\"style\");\n",
       "  style.textContent = [\n",
       "    \".vega-embed .error p {\",\n",
       "    \"  color: firebrick;\",\n",
       "    \"  font-size: 14px;\",\n",
       "    \"}\",\n",
       "  ].join(\"\\\\n\");\n",
       "\n",
       "  // element is a jQuery wrapped DOM element inside the output area\n",
       "  // see http://ipython.readthedocs.io/en/stable/api/generated/\\\n",
       "  // IPython.display.html#IPython.display.Javascript.__init__\n",
       "  element[0].appendChild(target);\n",
       "  element[0].appendChild(style);\n",
       "\n",
       "  vega.render(\"#\" + id, spec, type, opt, output_area);\n",
       "}, function (err) {\n",
       "  if (err.requireType !== \"scripterror\") {\n",
       "    throw(err);\n",
       "  }\n",
       "});\n"
      ],
      "text/plain": [
       "<vega.vegalite.VegaLite at 0x7fc5b5981d50>"
      ]
     },
     "metadata": {
      "jupyter-vega": "#d9f98afc-4bdd-4ac1-bcc3-2f138e8c3dfd"
     },
     "output_type": "display_data"
    },
    {
     "data": {
      "image/png": "[encoded data removed]"
     },
     "metadata": {
      "jupyter-vega": "#d9f98afc-4bdd-4ac1-bcc3-2f138e8c3dfd"
     },
     "output_type": "display_data"
    },
    {
     "data": {
      "text/plain": []
     },
     "execution_count": 21,
     "metadata": {},
     "output_type": "execute_result"
    }
   ],
   "source": [
    "alt.Chart(NewTable_Years).mark_circle().encode(\n",
    "    x= alt.X('year', type='ordinal'),\n",
    "    y= alt.Y('amount', type='quantitative'),\n",
    "    color=alt.Color('species')\n",
    ")"
   ]
  },
  {
   "cell_type": "markdown",
   "metadata": {},
   "source": [
    "## Waffle Chart"
   ]
  },
  {
   "cell_type": "code",
   "execution_count": 2,
   "metadata": {
    "ExecuteTime": {
     "end_time": "2020-02-06T00:07:31.589478Z",
     "start_time": "2020-02-06T00:07:31.269997Z"
    }
   },
   "outputs": [
    {
     "name": "stdout",
     "output_type": "stream",
     "text": [
      "['Dados Gerais', 'Dados por coleção']\n"
     ]
    }
   ],
   "source": [
    "ex = pd.ExcelFile('Dados gerais de coleção MN_29_09_19 enviado KELLNER_Asla.xlsx')\n",
    "print(ex.sheet_names)"
   ]
  },
  {
   "cell_type": "code",
   "execution_count": 3,
   "metadata": {
    "ExecuteTime": {
     "end_time": "2020-02-06T00:07:32.923635Z",
     "start_time": "2020-02-06T00:07:32.853122Z"
    }
   },
   "outputs": [],
   "source": [
    "dados_gerais = ex.parse('Dados Gerais', sep=';', encoding='utf-8-sig')\n",
    "dados_colecao = ex.parse('Dados por coleção', sep=';', encoding='utf-8-sig')"
   ]
  },
  {
   "cell_type": "code",
   "execution_count": 4,
   "metadata": {
    "ExecuteTime": {
     "end_time": "2020-02-06T00:07:33.593932Z",
     "start_time": "2020-02-06T00:07:33.559396Z"
    }
   },
   "outputs": [
    {
     "data": {
      "text/html": [
       "<div>\n",
       "<style scoped>\n",
       "    .dataframe tbody tr th:only-of-type {\n",
       "        vertical-align: middle;\n",
       "    }\n",
       "\n",
       "    .dataframe tbody tr th {\n",
       "        vertical-align: top;\n",
       "    }\n",
       "\n",
       "    .dataframe thead th {\n",
       "        text-align: right;\n",
       "    }\n",
       "</style>\n",
       "<table border=\"1\" class=\"dataframe\">\n",
       "  <thead>\n",
       "    <tr style=\"text-align: right;\">\n",
       "      <th></th>\n",
       "      <th>Unnamed: 0</th>\n",
       "      <th>Coleção</th>\n",
       "      <th>Curador</th>\n",
       "      <th>número de exemplares tombados e backlog</th>\n",
       "      <th>sub-coleções</th>\n",
       "      <th>Material afetado no incêndio (N)</th>\n",
       "      <th>Material afetado no incêndio (% do total)</th>\n",
       "      <th>Unnamed: 7</th>\n",
       "      <th>Unnamed: 8</th>\n",
       "    </tr>\n",
       "  </thead>\n",
       "  <tbody>\n",
       "    <tr>\n",
       "      <td>0</td>\n",
       "      <td>DA</td>\n",
       "      <td>Arqueológica do Museu Nacional</td>\n",
       "      <td>Rita Scheel-Ybert, Antonio Brancaglion Jr, Ang...</td>\n",
       "      <td>510674</td>\n",
       "      <td>Reserva Técnica Principal da Arquelogia (Palác...</td>\n",
       "      <td>153202</td>\n",
       "      <td>0.765019</td>\n",
       "      <td>29.999961</td>\n",
       "      <td>NaN</td>\n",
       "    </tr>\n",
       "  </tbody>\n",
       "</table>\n",
       "</div>"
      ],
      "text/plain": [
       "  Unnamed: 0                          Coleção  \\\n",
       "0         DA  Arqueológica do Museu Nacional    \n",
       "\n",
       "                                             Curador  \\\n",
       "0  Rita Scheel-Ybert, Antonio Brancaglion Jr, Ang...   \n",
       "\n",
       "   número de exemplares tombados e backlog  \\\n",
       "0                                   510674   \n",
       "\n",
       "                                        sub-coleções  \\\n",
       "0  Reserva Técnica Principal da Arquelogia (Palác...   \n",
       "\n",
       "   Material afetado no incêndio (N)  \\\n",
       "0                            153202   \n",
       "\n",
       "   Material afetado no incêndio (% do total)  Unnamed: 7  Unnamed: 8  \n",
       "0                                   0.765019   29.999961         NaN  "
      ]
     },
     "execution_count": 4,
     "metadata": {},
     "output_type": "execute_result"
    }
   ],
   "source": [
    "dados_colecao.head(1)"
   ]
  },
  {
   "cell_type": "code",
   "execution_count": 5,
   "metadata": {
    "ExecuteTime": {
     "end_time": "2020-02-06T00:07:34.714750Z",
     "start_time": "2020-02-06T00:07:34.596804Z"
    }
   },
   "outputs": [],
   "source": [
    "dc = dados_colecao[['Unnamed: 0', 'Coleção', 'número de exemplares tombados e backlog', \n",
    "               'Material afetado no incêndio (N)',\n",
    "               'Material afetado no incêndio (% do total)', 'Unnamed: 7']].copy()"
   ]
  },
  {
   "cell_type": "code",
   "execution_count": 6,
   "metadata": {
    "ExecuteTime": {
     "end_time": "2020-02-06T00:07:52.650941Z",
     "start_time": "2020-02-06T00:07:52.643809Z"
    }
   },
   "outputs": [],
   "source": [
    "dc.rename(columns={'Unnamed: 0':'dept', 'Coleção':'colecao', \n",
    "                   'número de exemplares tombados e backlog':'numero_exemp',\n",
    "                   'Material afetado no incêndio (N)':'incendio', \n",
    "                    'Material afetado no incêndio (% do total)':'incendio_perc_total',\n",
    "                    'Unnamed: 7':'incendio_perc_colecao'}, inplace=True)"
   ]
  },
  {
   "cell_type": "code",
   "execution_count": 7,
   "metadata": {
    "ExecuteTime": {
     "end_time": "2020-02-06T00:07:53.300512Z",
     "start_time": "2020-02-06T00:07:53.292149Z"
    }
   },
   "outputs": [],
   "source": [
    "dc['dept'] = dc['dept'].str.upper().str.strip()\n",
    "dc['dept'] = dc['dept'].str.replace('DIREÇÃO', 'Direção')"
   ]
  },
  {
   "cell_type": "code",
   "execution_count": 8,
   "metadata": {
    "ExecuteTime": {
     "end_time": "2020-02-06T00:07:54.427933Z",
     "start_time": "2020-02-06T00:07:54.421015Z"
    }
   },
   "outputs": [],
   "source": [
    "dc['colecao'] = dc['colecao'].apply(lambda x:str(x).split('(')[0].strip())"
   ]
  },
  {
   "cell_type": "code",
   "execution_count": 9,
   "metadata": {
    "ExecuteTime": {
     "end_time": "2020-02-06T00:07:55.029768Z",
     "start_time": "2020-02-06T00:07:55.019203Z"
    }
   },
   "outputs": [],
   "source": [
    "# mudanças para encurtar o nome das coleções (p/ caber no frame da figura)\n",
    "dc['colecao'] = dc['colecao'].str.replace('Centro de Documentação', 'Doc.')\n",
    "dc['colecao'] = dc['colecao'].str.replace('do Museu Nacional', '').str.strip()\n",
    "dc['colecao'] = dc['colecao'].str.replace('Biblioteca', 'Bib.')\n",
    "dc['colecao'] = dc['colecao'].str.replace('Coleção de','')\n",
    "dc['colecao'] = dc['colecao'].str.replace('COFRE DIREÇÃO', 'Cofre')\n",
    "dc['colecao'] = dc['colecao'].str.replace('Coleção Didática de', '')"
   ]
  },
  {
   "cell_type": "code",
   "execution_count": 11,
   "metadata": {
    "ExecuteTime": {
     "end_time": "2020-02-06T00:07:59.853114Z",
     "start_time": "2020-02-06T00:07:59.031823Z"
    }
   },
   "outputs": [
    {
     "data": {
      "image/png": "[encoded data removed]",
      "text/plain": [
       "<Waffle size 720x432 with 1 Axes>"
      ]
     },
     "metadata": {
      "needs_background": "light"
     },
     "output_type": "display_data"
    }
   ],
   "source": [
    "# Figura padrão\n",
    "fig1 = plt.figure(\n",
    "    FigureClass=Waffle, \n",
    "    rows=10, \n",
    "    columns=10, \n",
    "    values=[84.556, 100-84.556],\n",
    "    colors=(\"#826745\", \"#3EA447\"),\n",
    "    title={'label': 'Total', 'loc': 'center'},\n",
    "    labels=[\"{0} ({1}%)\".format(k, v) for k, v in (('Consumido no incendio','84.55'),('remanescente' ,'{}'.format(round(100-84.55,2))))],\n",
    "#     labels=[\"{0}\".format(k) for k in ['consumido no incendio', 'remanescente']],\n",
    "    legend={'loc': 'upper left', 'bbox_to_anchor': (1, 1)},\n",
    "    icon_size=18,\n",
    "    icon_legend=True,\n",
    "#     legend={'loc': 'lower left', 'bbox_to_anchor': (0, -0.4), 'ncol': len(data), 'framealpha': 0},\n",
    "    figsize=(10, 6)  # figsize is a parameter of matplotlib.pyplot.figure\n",
    ")\n",
    "plt.show()"
   ]
  },
  {
   "cell_type": "code",
   "execution_count": 44,
   "metadata": {
    "ExecuteTime": {
     "end_time": "2020-02-06T00:41:12.968034Z",
     "start_time": "2020-02-06T00:41:12.684478Z"
    }
   },
   "outputs": [
    {
     "data": {
      "image/png": "[encoded data removed]",
      "text/plain": [
       "<Waffle size 720x432 with 1 Axes>"
      ]
     },
     "metadata": {
      "needs_background": "light"
     },
     "output_type": "display_data"
    },
    {
     "data": {
      "text/plain": [
       "<Figure size 432x288 with 0 Axes>"
      ]
     },
     "metadata": {},
     "output_type": "display_data"
    }
   ],
   "source": [
    "# Figura padrão\n",
    "fig2 = plt.figure(\n",
    "    FigureClass=Waffle, \n",
    "    rows=10, \n",
    "    columns=10, \n",
    "    values=[84.556, 100-84.556],\n",
    "    colors=(\"#826745\", \"#3EA447\"),\n",
    "    title={'label': 'Total', 'loc': 'center', 'fontsize':18},\n",
    "    labels=[\"{0} ({1}%)\".format(k, v) for k, v in (('Consumido no incendio','84.55'),('Remanescente' ,'{}'.format(round(100-84.55,2))))],\n",
    "#     labels=[\"{0}\".format(k) for k in ['consumido no incendio', 'remanescente']],\n",
    "    legend={'loc': 'upper left', 'bbox_to_anchor': (1, 1)},\n",
    "    icon_size=18,\n",
    "    icon_legend=True,\n",
    "    vertical=True,\n",
    "#     icons=['fire','heart'],  # fire, campfire, heart, heart-o - OBS: pode passar a ideia errada\n",
    "    figsize=(10, 6)  # figsize is a parameter of matplotlib.pyplot.figure\n",
    ")\n",
    "plt.show()\n",
    "\n",
    "plt.savefig('total.svg')\n",
    "plt.savefig('total.png')"
   ]
  },
  {
   "cell_type": "markdown",
   "metadata": {},
   "source": [
    "### criando dicionários para plot\n",
    "cada linha deve ser um departamento, e cada coluna uma coleção"
   ]
  },
  {
   "cell_type": "code",
   "execution_count": 13,
   "metadata": {
    "ExecuteTime": {
     "end_time": "2020-02-06T00:08:07.707628Z",
     "start_time": "2020-02-06T00:08:07.695291Z"
    }
   },
   "outputs": [
    {
     "data": {
      "text/html": [
       "<div>\n",
       "<style scoped>\n",
       "    .dataframe tbody tr th:only-of-type {\n",
       "        vertical-align: middle;\n",
       "    }\n",
       "\n",
       "    .dataframe tbody tr th {\n",
       "        vertical-align: top;\n",
       "    }\n",
       "\n",
       "    .dataframe thead th {\n",
       "        text-align: right;\n",
       "    }\n",
       "</style>\n",
       "<table border=\"1\" class=\"dataframe\">\n",
       "  <thead>\n",
       "    <tr style=\"text-align: right;\">\n",
       "      <th></th>\n",
       "      <th>dept</th>\n",
       "      <th>colecao</th>\n",
       "      <th>numero_exemp</th>\n",
       "      <th>incendio</th>\n",
       "      <th>incendio_perc_total</th>\n",
       "      <th>incendio_perc_colecao</th>\n",
       "    </tr>\n",
       "  </thead>\n",
       "  <tbody>\n",
       "    <tr>\n",
       "      <td>0</td>\n",
       "      <td>DA</td>\n",
       "      <td>Arqueológica</td>\n",
       "      <td>510674</td>\n",
       "      <td>153202</td>\n",
       "      <td>0.765019</td>\n",
       "      <td>29.999961</td>\n",
       "    </tr>\n",
       "    <tr>\n",
       "      <td>1</td>\n",
       "      <td>DA</td>\n",
       "      <td>Arqueobotânica</td>\n",
       "      <td>528187</td>\n",
       "      <td>528187</td>\n",
       "      <td>2.637520</td>\n",
       "      <td>100.000000</td>\n",
       "    </tr>\n",
       "    <tr>\n",
       "      <td>2</td>\n",
       "      <td>DA</td>\n",
       "      <td>Antropologia Biológica</td>\n",
       "      <td>3000</td>\n",
       "      <td>3000</td>\n",
       "      <td>0.014981</td>\n",
       "      <td>100.000000</td>\n",
       "    </tr>\n",
       "    <tr>\n",
       "      <td>3</td>\n",
       "      <td>DA</td>\n",
       "      <td>Setor de Etnográficas</td>\n",
       "      <td>41495</td>\n",
       "      <td>41495</td>\n",
       "      <td>0.207207</td>\n",
       "      <td>100.000000</td>\n",
       "    </tr>\n",
       "    <tr>\n",
       "      <td>4</td>\n",
       "      <td>DA</td>\n",
       "      <td>Doc. de Línguas Indígenas</td>\n",
       "      <td>16093</td>\n",
       "      <td>16093</td>\n",
       "      <td>0.080361</td>\n",
       "      <td>100.000000</td>\n",
       "    </tr>\n",
       "  </tbody>\n",
       "</table>\n",
       "</div>"
      ],
      "text/plain": [
       "  dept                    colecao  numero_exemp  incendio  \\\n",
       "0   DA               Arqueológica        510674    153202   \n",
       "1   DA             Arqueobotânica        528187    528187   \n",
       "2   DA     Antropologia Biológica          3000      3000   \n",
       "3   DA      Setor de Etnográficas         41495     41495   \n",
       "4   DA  Doc. de Línguas Indígenas         16093     16093   \n",
       "\n",
       "   incendio_perc_total  incendio_perc_colecao  \n",
       "0             0.765019              29.999961  \n",
       "1             2.637520             100.000000  \n",
       "2             0.014981             100.000000  \n",
       "3             0.207207             100.000000  \n",
       "4             0.080361             100.000000  "
      ]
     },
     "execution_count": 13,
     "metadata": {},
     "output_type": "execute_result"
    }
   ],
   "source": [
    "dc.head()"
   ]
  },
  {
   "cell_type": "code",
   "execution_count": 14,
   "metadata": {
    "ExecuteTime": {
     "end_time": "2020-02-06T00:08:09.891246Z",
     "start_time": "2020-02-06T00:08:09.883489Z"
    }
   },
   "outputs": [],
   "source": [
    "# lista de departamentos ordenada de acordo com o número de coleções\n",
    "deptos = dc['dept'].value_counts().sort_values(ascending=True).index"
   ]
  },
  {
   "cell_type": "code",
   "execution_count": 21,
   "metadata": {
    "ExecuteTime": {
     "end_time": "2020-02-06T00:14:51.199971Z",
     "start_time": "2020-02-06T00:14:51.193960Z"
    }
   },
   "outputs": [
    {
     "data": {
      "text/plain": [
       "Index(['DB', 'DV', 'DA', 'Direção', 'DI', 'DE', 'DGP'], dtype='object')"
      ]
     },
     "execution_count": 21,
     "metadata": {},
     "output_type": "execute_result"
    }
   ],
   "source": [
    "deptos"
   ]
  },
  {
   "cell_type": "code",
   "execution_count": 26,
   "metadata": {
    "ExecuteTime": {
     "end_time": "2020-02-06T00:16:54.115727Z",
     "start_time": "2020-02-06T00:16:54.040615Z"
    }
   },
   "outputs": [],
   "source": [
    "# for para dept\n",
    "# for para colecao\n",
    "# dict padrao\n",
    "d = defaultdict()\n",
    "\n",
    "index=0\n",
    "adj = 0  # valor para ajuste das linhas (número de colunas para pular se acabar as coleções por depto)\n",
    "for dept in deptos:\n",
    "    temp = dc[dc['dept']==dept]\n",
    "    \n",
    "    row_count = temp.shape[0] # aumenta a linha com o número de dept\n",
    "    \n",
    "    adj = 10\n",
    "    for c in range(temp['colecao'].shape[0]):\n",
    "        \n",
    "        adj -= 1\n",
    "        index += 1\n",
    "        val = round(temp.iloc[c-1].loc['incendio_perc_colecao'], 2)\n",
    "        colecao = temp.iloc[c-1].loc['colecao']\n",
    "        \n",
    "        # criando dicionário para o gráfico\n",
    "        d[(7,10,index)]= { \n",
    "                    'values':[val, 100-val],\n",
    "                    'colors':(\"#826745\", \"#3EA447\"),\n",
    "                    'title':{'label': f'Depto.: {dept}\\nCol.: {colecao}', 'loc': 'left', 'fontsize':14},\n",
    "#                   'labels':[\"{0} ({1}%)\".format(k, v) for k, v in data.items()],\n",
    "#                   'labels':[\"{0}\".format(k) for k in ['% da colecao consumida no incendio', '% remanescente da coleção']],\n",
    "#                   'legend':{'loc': 'upper left', 'bbox_to_anchor': (1, 1)},\n",
    "#                     'icon_size':18, \n",
    "                    'icon_legend':True,\n",
    "        }\n",
    "    \n",
    "        \n",
    "        # pulando para a próxima linha\n",
    "        if c == temp['colecao'].shape[0]-1:\n",
    "            index = index + adj\n",
    "        \n",
    "d = dict(d)\n",
    "# d"
   ]
  },
  {
   "cell_type": "code",
   "execution_count": 30,
   "metadata": {
    "ExecuteTime": {
     "end_time": "2020-02-06T00:26:39.119637Z",
     "start_time": "2020-02-06T00:26:20.905604Z"
    },
    "scrolled": true
   },
   "outputs": [
    {
     "data": {
      "image/png": "[encoded data removed]",
      "text/plain": [
       "<Waffle size 2520x2520 with 44 Axes>"
      ]
     },
     "metadata": {
      "needs_background": "light"
     },
     "output_type": "display_data"
    }
   ],
   "source": [
    "teste = plt.figure(\n",
    "    FigureClass= Waffle,\n",
    "    plots= d,\n",
    "    rows=10, \n",
    "    columns=10, \n",
    "    vertical=True, \n",
    "    block_aspect_ratio=1.2,\n",
    "    figsize=(35, 35)  # figsize is a parameter of matplotlib.pyplot.figure\n",
    ")\n",
    "\n",
    "plt.savefig('teste_colecao.svg')\n",
    "plt.savefig('teste_colecao.png')"
   ]
  },
  {
   "cell_type": "markdown",
   "metadata": {},
   "source": [
    "**<font color='red' size='5'>Ajustes</font>**\n",
    "\n",
    "- idealmente, o nome do departamento deveria ficar nas colunas (editar o svg)\n",
    "- adicionar legenda"
   ]
  }
 ],
 "metadata": {
  "kernelspec": {
   "display_name": "Python 3",
   "language": "python",
   "name": "python3"
  },
  "language_info": {
   "codemirror_mode": {
    "name": "ipython",
    "version": 3
   },
   "file_extension": ".py",
   "mimetype": "text/x-python",
   "name": "python",
   "nbconvert_exporter": "python",
   "pygments_lexer": "ipython3",
   "version": "3.7.4"
  },
  "toc": {
   "base_numbering": 1,
   "nav_menu": {},
   "number_sections": false,
   "sideBar": true,
   "skip_h1_title": false,
   "title_cell": "Table of Contents",
   "title_sidebar": "Contents",
   "toc_cell": false,
   "toc_position": {},
   "toc_section_display": true,
   "toc_window_display": false
  },
  "varInspector": {
   "cols": {
    "lenName": 16,
    "lenType": 16,
    "lenVar": 40
   },
   "kernels_config": {
    "python": {
     "delete_cmd_postfix": "",
     "delete_cmd_prefix": "del ",
     "library": "var_list.py",
     "varRefreshCmd": "print(var_dic_list())"
    },
    "r": {
     "delete_cmd_postfix": ") ",
     "delete_cmd_prefix": "rm(",
     "library": "var_list.r",
     "varRefreshCmd": "cat(var_dic_list()) "
    }
   },
   "types_to_exclude": [
    "module",
    "function",
    "builtin_function_or_method",
    "instance",
    "_Feature"
   ],
   "window_display": false
  }
 },
 "nbformat": 4,
 "nbformat_minor": 2
}
