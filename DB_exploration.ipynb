{
 "cells": [
  {
   "cell_type": "markdown",
   "metadata": {},
   "source": [
    "# Database Exploration\n",
    "\n",
    "By **Franklin Oliveira**\n",
    "\n",
    "-----\n",
    "This notebook contains some code written in order for me (Franklin) to get accquainted with the `crustacea` database. Here you'll find some basic data treatment and some insights that did show up as I started to understand all the information on file <font color='blue'>'Planilha geral Atualizda FINAL com correções.xlsx'</font>."
   ]
  },
  {
   "cell_type": "code",
   "execution_count": 13,
   "metadata": {
    "ExecuteTime": {
     "end_time": "2020-02-02T02:54:53.329422Z",
     "start_time": "2020-02-02T02:54:53.324351Z"
    }
   },
   "outputs": [],
   "source": [
    "import numpy as np\n",
    "import pandas as pd\n",
    "\n",
    "import seaborn as sns\n",
    "import matplotlib.pyplot as plt"
   ]
  },
  {
   "cell_type": "markdown",
   "metadata": {},
   "source": [
    "## Importing data..."
   ]
  },
  {
   "cell_type": "code",
   "execution_count": 7,
   "metadata": {
    "ExecuteTime": {
     "end_time": "2020-02-02T02:48:00.368563Z",
     "start_time": "2020-02-02T02:47:39.065065Z"
    }
   },
   "outputs": [
    {
     "name": "stdout",
     "output_type": "stream",
     "text": [
      "The excel file contains the following sheets: ['Banco de Dados Colecao Carcinol', 'Planilha1']\n",
      "\n",
      "Database is in sheet: Banco de Dados Colecao Carcinol\n"
     ]
    }
   ],
   "source": [
    "excel = pd.ExcelFile('Planilha geral Atualizda FINAL com correções.xlsx')\n",
    "sheet_name = excel.sheet_names\n",
    "\n",
    "print('The excel file contains the following sheets:', sheet_name)\n",
    "print('\\nDatabase is in sheet:', sheet_name[0])"
   ]
  },
  {
   "cell_type": "code",
   "execution_count": 8,
   "metadata": {
    "ExecuteTime": {
     "end_time": "2020-02-02T02:48:07.562338Z",
     "start_time": "2020-02-02T02:48:05.350473Z"
    }
   },
   "outputs": [],
   "source": [
    "db = excel.parse(sheet_name[0], sep=';', encoding='utf-8-sig')"
   ]
  },
  {
   "cell_type": "code",
   "execution_count": 11,
   "metadata": {
    "ExecuteTime": {
     "end_time": "2020-02-02T02:48:55.892552Z",
     "start_time": "2020-02-02T02:48:55.840190Z"
    }
   },
   "outputs": [
    {
     "data": {
      "text/html": [
       "<div>\n",
       "<style scoped>\n",
       "    .dataframe tbody tr th:only-of-type {\n",
       "        vertical-align: middle;\n",
       "    }\n",
       "\n",
       "    .dataframe tbody tr th {\n",
       "        vertical-align: top;\n",
       "    }\n",
       "\n",
       "    .dataframe thead th {\n",
       "        text-align: right;\n",
       "    }\n",
       "</style>\n",
       "<table border=\"1\" class=\"dataframe\">\n",
       "  <thead>\n",
       "    <tr style=\"text-align: right;\">\n",
       "      <th></th>\n",
       "      <th>Acronimo+Catalog Number</th>\n",
       "      <th>Catalog Number</th>\n",
       "      <th>Cataloger First Name</th>\n",
       "      <th>Cataloger Middle</th>\n",
       "      <th>Cataloger Last Name</th>\n",
       "      <th>Cataloged Date</th>\n",
       "      <th>offline</th>\n",
       "      <th>Input Type</th>\n",
       "      <th>Alt Cat Number</th>\n",
       "      <th>reserved</th>\n",
       "      <th>...</th>\n",
       "      <th>waterBody</th>\n",
       "      <th>Continent</th>\n",
       "      <th>Country</th>\n",
       "      <th>State</th>\n",
       "      <th>County</th>\n",
       "      <th>Latitude1</th>\n",
       "      <th>Longitude1</th>\n",
       "      <th>Datum</th>\n",
       "      <th>Latitude/Longitude Type</th>\n",
       "      <th>Lat/Long Method</th>\n",
       "    </tr>\n",
       "  </thead>\n",
       "  <tbody>\n",
       "    <tr>\n",
       "      <td>0</td>\n",
       "      <td>MNRJcarcino 000001</td>\n",
       "      <td>1.0</td>\n",
       "      <td>NaN</td>\n",
       "      <td>NaN</td>\n",
       "      <td>Legado</td>\n",
       "      <td>1980/10/30</td>\n",
       "      <td>False</td>\n",
       "      <td>Donation</td>\n",
       "      <td>NaN</td>\n",
       "      <td>False</td>\n",
       "      <td>...</td>\n",
       "      <td>Oceano Atlantico Sul</td>\n",
       "      <td>America do Sul</td>\n",
       "      <td>Brasil</td>\n",
       "      <td>Parana</td>\n",
       "      <td>NaN</td>\n",
       "      <td>25.830035 S</td>\n",
       "      <td>48.528374 W</td>\n",
       "      <td>NaN</td>\n",
       "      <td>Point</td>\n",
       "      <td>NaN</td>\n",
       "    </tr>\n",
       "    <tr>\n",
       "      <td>1</td>\n",
       "      <td>MNRJcarcino 000002</td>\n",
       "      <td>2.0</td>\n",
       "      <td>NaN</td>\n",
       "      <td>NaN</td>\n",
       "      <td>Legado</td>\n",
       "      <td>1980/10/31</td>\n",
       "      <td>False</td>\n",
       "      <td>Donation</td>\n",
       "      <td>NaN</td>\n",
       "      <td>False</td>\n",
       "      <td>...</td>\n",
       "      <td>Oceano Atlantico Sul</td>\n",
       "      <td>America do Sul</td>\n",
       "      <td>Brasil</td>\n",
       "      <td>Pernambuco</td>\n",
       "      <td>NaN</td>\n",
       "      <td>NaN</td>\n",
       "      <td>NaN</td>\n",
       "      <td>NaN</td>\n",
       "      <td>NaN</td>\n",
       "      <td>NaN</td>\n",
       "    </tr>\n",
       "    <tr>\n",
       "      <td>2</td>\n",
       "      <td>MNRJcarcino 000003</td>\n",
       "      <td>3.0</td>\n",
       "      <td>NaN</td>\n",
       "      <td>NaN</td>\n",
       "      <td>Legado</td>\n",
       "      <td>1980/10/31</td>\n",
       "      <td>False</td>\n",
       "      <td>Donation</td>\n",
       "      <td>NaN</td>\n",
       "      <td>False</td>\n",
       "      <td>...</td>\n",
       "      <td>Oceano Atlantico Sul</td>\n",
       "      <td>America do Sul</td>\n",
       "      <td>Brasil</td>\n",
       "      <td>Rio de Janeiro</td>\n",
       "      <td>Rio de Janeiro</td>\n",
       "      <td>23.00347 S</td>\n",
       "      <td>43.640745 W</td>\n",
       "      <td>NaN</td>\n",
       "      <td>Point</td>\n",
       "      <td>NaN</td>\n",
       "    </tr>\n",
       "    <tr>\n",
       "      <td>3</td>\n",
       "      <td>MNRJcarcino 000004</td>\n",
       "      <td>4.0</td>\n",
       "      <td>NaN</td>\n",
       "      <td>NaN</td>\n",
       "      <td>Legado</td>\n",
       "      <td>1980/10/30</td>\n",
       "      <td>False</td>\n",
       "      <td>Donation</td>\n",
       "      <td>NaN</td>\n",
       "      <td>False</td>\n",
       "      <td>...</td>\n",
       "      <td>Oceano Atlantico Sul</td>\n",
       "      <td>America do Sul</td>\n",
       "      <td>Brasil</td>\n",
       "      <td>Parana</td>\n",
       "      <td>NaN</td>\n",
       "      <td>NaN</td>\n",
       "      <td>NaN</td>\n",
       "      <td>NaN</td>\n",
       "      <td>NaN</td>\n",
       "      <td>NaN</td>\n",
       "    </tr>\n",
       "    <tr>\n",
       "      <td>4</td>\n",
       "      <td>MNRJcarcino 000005</td>\n",
       "      <td>5.0</td>\n",
       "      <td>NaN</td>\n",
       "      <td>NaN</td>\n",
       "      <td>Legado</td>\n",
       "      <td>1980/10/31</td>\n",
       "      <td>False</td>\n",
       "      <td>Donation</td>\n",
       "      <td>NaN</td>\n",
       "      <td>False</td>\n",
       "      <td>...</td>\n",
       "      <td>Oceano Atlantico Sul</td>\n",
       "      <td>America do Sul</td>\n",
       "      <td>Brasil</td>\n",
       "      <td>Ceara</td>\n",
       "      <td>Fortaleza</td>\n",
       "      <td>3.811753 S</td>\n",
       "      <td>38.478649 W</td>\n",
       "      <td>NaN</td>\n",
       "      <td>Point</td>\n",
       "      <td>NaN</td>\n",
       "    </tr>\n",
       "  </tbody>\n",
       "</table>\n",
       "<p>5 rows × 133 columns</p>\n",
       "</div>"
      ],
      "text/plain": [
       "  Acronimo+Catalog Number  Catalog Number Cataloger First Name  \\\n",
       "0      MNRJcarcino 000001             1.0                  NaN   \n",
       "1      MNRJcarcino 000002             2.0                  NaN   \n",
       "2      MNRJcarcino 000003             3.0                  NaN   \n",
       "3      MNRJcarcino 000004             4.0                  NaN   \n",
       "4      MNRJcarcino 000005             5.0                  NaN   \n",
       "\n",
       "  Cataloger Middle Cataloger Last Name Cataloged Date  offline Input Type  \\\n",
       "0              NaN              Legado     1980/10/30    False   Donation   \n",
       "1              NaN              Legado     1980/10/31    False   Donation   \n",
       "2              NaN              Legado     1980/10/31    False   Donation   \n",
       "3              NaN              Legado     1980/10/30    False   Donation   \n",
       "4              NaN              Legado     1980/10/31    False   Donation   \n",
       "\n",
       "   Alt Cat Number  reserved  ...             waterBody       Continent  \\\n",
       "0             NaN     False  ...  Oceano Atlantico Sul  America do Sul   \n",
       "1             NaN     False  ...  Oceano Atlantico Sul  America do Sul   \n",
       "2             NaN     False  ...  Oceano Atlantico Sul  America do Sul   \n",
       "3             NaN     False  ...  Oceano Atlantico Sul  America do Sul   \n",
       "4             NaN     False  ...  Oceano Atlantico Sul  America do Sul   \n",
       "\n",
       "  Country           State          County    Latitude1   Longitude1  Datum  \\\n",
       "0  Brasil          Parana             NaN  25.830035 S  48.528374 W    NaN   \n",
       "1  Brasil      Pernambuco             NaN          NaN          NaN    NaN   \n",
       "2  Brasil  Rio de Janeiro  Rio de Janeiro   23.00347 S  43.640745 W    NaN   \n",
       "3  Brasil          Parana             NaN          NaN          NaN    NaN   \n",
       "4  Brasil           Ceara       Fortaleza   3.811753 S  38.478649 W    NaN   \n",
       "\n",
       "   Latitude/Longitude Type  Lat/Long Method  \n",
       "0                    Point              NaN  \n",
       "1                      NaN              NaN  \n",
       "2                    Point              NaN  \n",
       "3                      NaN              NaN  \n",
       "4                    Point              NaN  \n",
       "\n",
       "[5 rows x 133 columns]"
      ]
     },
     "execution_count": 11,
     "metadata": {},
     "output_type": "execute_result"
    }
   ],
   "source": [
    "db.head()"
   ]
  },
  {
   "cell_type": "code",
   "execution_count": 18,
   "metadata": {
    "ExecuteTime": {
     "end_time": "2020-02-02T02:58:18.312899Z",
     "start_time": "2020-02-02T02:58:18.286868Z"
    }
   },
   "outputs": [
    {
     "name": "stdout",
     "output_type": "stream",
     "text": [
      "- Acronimo+Catalog Number\n",
      "- Catalog Number\n",
      "- Cataloger First Name\n",
      "- Cataloger Middle\n",
      "- Cataloger Last Name\n",
      "- Cataloged Date\n",
      "- offline\n",
      "- Input Type\n",
      "- Alt Cat Number\n",
      "- reserved\n",
      "- Object Condition\n",
      "- Count Amount\n",
      "- associatedTaxa\n",
      "- Females\n",
      "- Males\n",
      "- Ind\n",
      "- Adults\n",
      "- Young\n",
      "- Larvae\n",
      "- Egg Mass\n",
      "- Measurement\\n Records\n",
      "- Remarks\n",
      "- Kingdom\n",
      "- Phylum1\n",
      "- Subphylum1\n",
      "- Class1\n",
      "- Subclass1\n",
      "- Infraclass1\n",
      "- Superorder1\n",
      "- Order1\n",
      "- Suborder1\n",
      "- Infraorder1\n",
      "- Superfamily1\n",
      "- Family1\n",
      "- Subfamily1\n",
      "- Tribe1\n",
      "- Genus1\n",
      "- Species1\n",
      "- Species Author1\n",
      "- Type Status1\n",
      "- Qualifier1\n",
      "- Determiner First Name1\n",
      "- Determiner Middle1\n",
      "- Determiner Last Name1\n",
      "- Determined Date1\n",
      "- Phylum2\n",
      "- Subphylum2\n",
      "- Class2\n",
      "- Subclass2\n",
      "- Infraclass2\n",
      "- Superorder2\n",
      "- Order2\n",
      "- Suborder2\n",
      "- Infraorder2\n",
      "- Superfamily2\n",
      "- Family2\n",
      "- Subfamily2\n",
      "- Tribe2\n",
      "- Genus2\n",
      "- Species2\n",
      "- Species Author2\n",
      "- Type Status2\n",
      "- Qualifier2\n",
      "- Determiner First Name2\n",
      "- Determiner Middle2\n",
      "- Determiner Last Name2\n",
      "- Determined Date2\n",
      "- Prep Type1\n",
      "- Count 1\n",
      "- Description 1\n",
      "- Prepared First Name By1\n",
      "- Prepared Middle By1\n",
      "- Prepared Last Name By1\n",
      "- Prepared Date 1\n",
      "- Prep Type2\n",
      "- Count 2\n",
      "- Description 2\n",
      "- Prepared First Name By2\n",
      "- Prepared Middle By2\n",
      "- Prepared Last Name By2\n",
      "- Prepared Date 2\n",
      "- Prep Type3\n",
      "- Count 3\n",
      "- Description 3\n",
      "- Prepared First Name By3\n",
      "- Prepared Middle By3\n",
      "- Prepared Last Name By3\n",
      "- Prepared Date 3\n",
      "- Collector Number\n",
      "- Start Date\n",
      "- End Date\n",
      "- Verbatim Date\n",
      "- Collector First Name1\n",
      "- Collector Middle1\n",
      "- Collector Last Name1\n",
      "- Collector First Name2\n",
      "- Collector Middle2\n",
      "- Collector Last Name2\n",
      "- Collector First Name3\n",
      "- Collector Middle3\n",
      "- Collector Last Name3\n",
      "- Collector First Name4\n",
      "- Collector Middle4\n",
      "- Collector Last Name4\n",
      "- Collector First Name5\n",
      "- Collector Middle5\n",
      "- Collector Last Name5\n",
      "- Collector First Name6\n",
      "- Collector Middle6\n",
      "- Collector Last Name6\n",
      "- Collector First Name7\n",
      "- Collector Middle7\n",
      "- Collector Last Name7\n",
      "- Method\n",
      "- StardDepth\n",
      "- EndDepth\n",
      "- Min Elevation\n",
      "- Max Elevation\n",
      "- Environment Type\n",
      "- Substratum\n",
      "- Locality Name\n",
      "- Verbatim Locality\n",
      "- Locality and\\n Habitat Notes\n",
      "- waterBody\n",
      "- Continent\n",
      "- Country\n",
      "- State\n",
      "- County\n",
      "- Latitude1\n",
      "- Longitude1\n",
      "- Datum\n",
      "- Latitude/Longitude Type\n",
      "- Lat/Long Method\n"
     ]
    }
   ],
   "source": [
    "for col in db.columns:\n",
    "    print('-', col)"
   ]
  },
  {
   "cell_type": "markdown",
   "metadata": {},
   "source": [
    "### Location columns"
   ]
  },
  {
   "cell_type": "code",
   "execution_count": 32,
   "metadata": {
    "ExecuteTime": {
     "end_time": "2020-02-02T03:04:36.724943Z",
     "start_time": "2020-02-02T03:04:36.710168Z"
    }
   },
   "outputs": [
    {
     "data": {
      "text/plain": [
       "America do Sul      26306\n",
       "Desconhecido         1188\n",
       "America do Norte      276\n",
       "Europa                268\n",
       "Antartica             179\n",
       "Oceania                98\n",
       "America Central        85\n",
       "Asia                   48\n",
       "Africa                 44\n",
       "Oceano Atlantico       33\n",
       "Eurasia                23\n",
       "Numero reservado        1\n",
       "Name: Continent, dtype: int64"
      ]
     },
     "execution_count": 32,
     "metadata": {},
     "output_type": "execute_result"
    }
   ],
   "source": [
    "# DO a map?\n",
    "db['Continent'].value_counts()"
   ]
  },
  {
   "cell_type": "code",
   "execution_count": 31,
   "metadata": {
    "ExecuteTime": {
     "end_time": "2020-02-02T03:03:02.848935Z",
     "start_time": "2020-02-02T03:03:02.828894Z"
    }
   },
   "outputs": [
    {
     "data": {
      "text/plain": [
       "Brasil                   25882\n",
       "Desconhecido              1097\n",
       "Estados Unidos             190\n",
       "Antartica                  179\n",
       "Venezuela                  155\n",
       "                         ...  \n",
       "Estreito de Gibraltar        1\n",
       "Suriname                     1\n",
       "Kiribati                     1\n",
       "Holanda                      1\n",
       "Groelandia                   1\n",
       "Name: Country, Length: 90, dtype: int64"
      ]
     },
     "execution_count": 31,
     "metadata": {},
     "output_type": "execute_result"
    }
   ],
   "source": [
    "db['Country'].value_counts()  # there about 90 countries listed in the database (quite a lot!)\n",
    "# DO remove 'desconhecido' = unknown country?"
   ]
  },
  {
   "cell_type": "markdown",
   "metadata": {},
   "source": [
    "### Lat Long columns"
   ]
  },
  {
   "cell_type": "code",
   "execution_count": 22,
   "metadata": {
    "ExecuteTime": {
     "end_time": "2020-02-02T03:00:06.335595Z",
     "start_time": "2020-02-02T03:00:06.315625Z"
    }
   },
   "outputs": [
    {
     "data": {
      "text/plain": [
       "3.862872 S     228\n",
       "17.986496 S    147\n",
       "22.755182 S    134\n",
       "22.947708 S     74\n",
       "3.811753 S      70\n",
       "              ... \n",
       "23.756296 S      1\n",
       "23.612333 S      1\n",
       "22.383272 S      1\n",
       "6.984941 S       1\n",
       "23.312778 S      1\n",
       "Name: Latitude1, Length: 3744, dtype: int64"
      ]
     },
     "execution_count": 22,
     "metadata": {},
     "output_type": "execute_result"
    }
   ],
   "source": [
    "# there's an empty space between the number and S (use this to clean up)\n",
    "db['Latitude1'].value_counts()"
   ]
  },
  {
   "cell_type": "code",
   "execution_count": 30,
   "metadata": {
    "ExecuteTime": {
     "end_time": "2020-02-02T03:02:34.152857Z",
     "start_time": "2020-02-02T03:02:34.133463Z"
    }
   },
   "outputs": [
    {
     "data": {
      "text/html": [
       "<div>\n",
       "<style scoped>\n",
       "    .dataframe tbody tr th:only-of-type {\n",
       "        vertical-align: middle;\n",
       "    }\n",
       "\n",
       "    .dataframe tbody tr th {\n",
       "        vertical-align: top;\n",
       "    }\n",
       "\n",
       "    .dataframe thead th {\n",
       "        text-align: right;\n",
       "    }\n",
       "</style>\n",
       "<table border=\"1\" class=\"dataframe\">\n",
       "  <thead>\n",
       "    <tr style=\"text-align: right;\">\n",
       "      <th></th>\n",
       "      <th>Latitude1</th>\n",
       "      <th>Longitude1</th>\n",
       "    </tr>\n",
       "  </thead>\n",
       "  <tbody>\n",
       "    <tr>\n",
       "      <td>0</td>\n",
       "      <td>25.830035 S</td>\n",
       "      <td>48.528374 W</td>\n",
       "    </tr>\n",
       "    <tr>\n",
       "      <td>1</td>\n",
       "      <td>NaN</td>\n",
       "      <td>NaN</td>\n",
       "    </tr>\n",
       "    <tr>\n",
       "      <td>2</td>\n",
       "      <td>23.00347 S</td>\n",
       "      <td>43.640745 W</td>\n",
       "    </tr>\n",
       "    <tr>\n",
       "      <td>3</td>\n",
       "      <td>NaN</td>\n",
       "      <td>NaN</td>\n",
       "    </tr>\n",
       "    <tr>\n",
       "      <td>4</td>\n",
       "      <td>3.811753 S</td>\n",
       "      <td>38.478649 W</td>\n",
       "    </tr>\n",
       "    <tr>\n",
       "      <td>5</td>\n",
       "      <td>9.422624 S</td>\n",
       "      <td>35.48556 W</td>\n",
       "    </tr>\n",
       "    <tr>\n",
       "      <td>6</td>\n",
       "      <td>23.006136 S</td>\n",
       "      <td>43.634274 W</td>\n",
       "    </tr>\n",
       "    <tr>\n",
       "      <td>7</td>\n",
       "      <td>NaN</td>\n",
       "      <td>NaN</td>\n",
       "    </tr>\n",
       "    <tr>\n",
       "      <td>8</td>\n",
       "      <td>23.00347 S</td>\n",
       "      <td>43.640745 W</td>\n",
       "    </tr>\n",
       "    <tr>\n",
       "      <td>9</td>\n",
       "      <td>NaN</td>\n",
       "      <td>NaN</td>\n",
       "    </tr>\n",
       "  </tbody>\n",
       "</table>\n",
       "</div>"
      ],
      "text/plain": [
       "     Latitude1   Longitude1\n",
       "0  25.830035 S  48.528374 W\n",
       "1          NaN          NaN\n",
       "2   23.00347 S  43.640745 W\n",
       "3          NaN          NaN\n",
       "4   3.811753 S  38.478649 W\n",
       "5   9.422624 S   35.48556 W\n",
       "6  23.006136 S  43.634274 W\n",
       "7          NaN          NaN\n",
       "8   23.00347 S  43.640745 W\n",
       "9          NaN          NaN"
      ]
     },
     "execution_count": 30,
     "metadata": {},
     "output_type": "execute_result"
    }
   ],
   "source": [
    "db[['Latitude1','Longitude1']].head(10)"
   ]
  },
  {
   "cell_type": "code",
   "execution_count": 20,
   "metadata": {
    "ExecuteTime": {
     "end_time": "2020-02-02T02:59:18.798404Z",
     "start_time": "2020-02-02T02:59:18.784990Z"
    }
   },
   "outputs": [
    {
     "data": {
      "text/plain": [
       "Point    15286\n",
       "Name: Latitude/Longitude Type, dtype: int64"
      ]
     },
     "execution_count": 20,
     "metadata": {},
     "output_type": "execute_result"
    }
   ],
   "source": [
    "# doesn't bring any classification info\n",
    "db['Latitude/Longitude Type'].value_counts()"
   ]
  },
  {
   "cell_type": "code",
   "execution_count": 21,
   "metadata": {
    "ExecuteTime": {
     "end_time": "2020-02-02T02:59:30.652247Z",
     "start_time": "2020-02-02T02:59:30.613651Z"
    }
   },
   "outputs": [
    {
     "data": {
      "text/plain": [
       "Series([], Name: Lat/Long Method, dtype: int64)"
      ]
     },
     "execution_count": 21,
     "metadata": {},
     "output_type": "execute_result"
    }
   ],
   "source": [
    "# empty\n",
    "db['Lat/Long Method'].value_counts()"
   ]
  },
  {
   "cell_type": "markdown",
   "metadata": {},
   "source": [
    "<br>\n",
    "\n",
    "<font color='red' size='5'>Listar colunas usadas nos gráficos e o que entendi delas </font>"
   ]
  },
  {
   "cell_type": "code",
   "execution_count": 17,
   "metadata": {
    "ExecuteTime": {
     "end_time": "2020-02-02T02:56:57.535239Z",
     "start_time": "2020-02-02T02:56:49.346764Z"
    }
   },
   "outputs": [
    {
     "data": {
      "text/plain": [
       "<matplotlib.axes._subplots.AxesSubplot at 0x7f2fd848e590>"
      ]
     },
     "execution_count": 17,
     "metadata": {},
     "output_type": "execute_result"
    },
    {
     "data": {
      "image/png": "[encoded data removed]",
      "text/plain": [
       "<Figure size 1008x432 with 2 Axes>"
      ]
     },
     "metadata": {
      "needs_background": "light"
     },
     "output_type": "display_data"
    }
   ],
   "source": [
    "plt.figure(figsize=(14,6))\n",
    "sns.heatmap(db.isna(), cmap=['darkgreen', 'white'])"
   ]
  },
  {
   "cell_type": "code",
   "execution_count": null,
   "metadata": {},
   "outputs": [],
   "source": []
  }
 ],
 "metadata": {
  "kernelspec": {
   "display_name": "Python 3",
   "language": "python",
   "name": "python3"
  },
  "language_info": {
   "codemirror_mode": {
    "name": "ipython",
    "version": 3
   },
   "file_extension": ".py",
   "mimetype": "text/x-python",
   "name": "python",
   "nbconvert_exporter": "python",
   "pygments_lexer": "ipython3",
   "version": "3.7.4"
  },
  "toc": {
   "base_numbering": 1,
   "nav_menu": {},
   "number_sections": false,
   "sideBar": true,
   "skip_h1_title": false,
   "title_cell": "Table of Contents",
   "title_sidebar": "Contents",
   "toc_cell": false,
   "toc_position": {},
   "toc_section_display": true,
   "toc_window_display": false
  },
  "varInspector": {
   "cols": {
    "lenName": 16,
    "lenType": 16,
    "lenVar": 40
   },
   "kernels_config": {
    "python": {
     "delete_cmd_postfix": "",
     "delete_cmd_prefix": "del ",
     "library": "var_list.py",
     "varRefreshCmd": "print(var_dic_list())"
    },
    "r": {
     "delete_cmd_postfix": ") ",
     "delete_cmd_prefix": "rm(",
     "library": "var_list.r",
     "varRefreshCmd": "cat(var_dic_list()) "
    }
   },
   "types_to_exclude": [
    "module",
    "function",
    "builtin_function_or_method",
    "instance",
    "_Feature"
   ],
   "window_display": false
  }
 },
 "nbformat": 4,
 "nbformat_minor": 2
}
