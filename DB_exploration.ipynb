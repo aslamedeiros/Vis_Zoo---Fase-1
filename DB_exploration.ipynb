{
 "cells": [
  {
   "cell_type": "markdown",
   "metadata": {},
   "source": [
    "# Database Exploration\n",
    "\n",
    "By **Franklin Oliveira**\n",
    "\n",
    "-----\n",
    "This notebook contains some code written in order for me (Franklin) to get accquainted with the `crustacea` database. Here you'll find some basic data treatment and some insights that did show up as I started to understand all the information on file <font color='blue'>'Planilha geral Atualizda FINAL com correções.xlsx'</font>."
   ]
  },
  {
   "cell_type": "code",
   "execution_count": 35,
   "metadata": {
    "ExecuteTime": {
     "end_time": "2020-02-04T18:36:48.640992Z",
     "start_time": "2020-02-04T18:36:48.628689Z"
    }
   },
   "outputs": [
    {
     "data": {
      "text/plain": [
       "RendererRegistry.enable('notebook')"
      ]
     },
     "execution_count": 35,
     "metadata": {},
     "output_type": "execute_result"
    }
   ],
   "source": [
    "import datetime\n",
    "import numpy as np\n",
    "import pandas as pd\n",
    "\n",
    "# pacotes para visualização rápida\n",
    "import seaborn as sns\n",
    "import matplotlib.pyplot as plt\n",
    "\n",
    "# pacote para visualização principal\n",
    "import altair as alt\n",
    "\n",
    "# habilitando renderizador para notebook\n",
    "alt.renderers.enable('notebook')"
   ]
  },
  {
   "cell_type": "markdown",
   "metadata": {},
   "source": [
    "## Importing data..."
   ]
  },
  {
   "cell_type": "code",
   "execution_count": 2,
   "metadata": {
    "ExecuteTime": {
     "end_time": "2020-02-04T17:59:32.031310Z",
     "start_time": "2020-02-04T17:59:09.284156Z"
    }
   },
   "outputs": [
    {
     "name": "stdout",
     "output_type": "stream",
     "text": [
      "The excel file contains the following sheets: ['Banco de Dados Colecao Carcinol', 'Planilha1']\n",
      "\n",
      "Database is in sheet: Banco de Dados Colecao Carcinol\n"
     ]
    }
   ],
   "source": [
    "excel = pd.ExcelFile('Planilha geral Atualizda FINAL com correções.xlsx')\n",
    "sheet_name = excel.sheet_names\n",
    "\n",
    "print('The excel file contains the following sheets:', sheet_name)\n",
    "print('\\nDatabase is in sheet:', sheet_name[0])"
   ]
  },
  {
   "cell_type": "code",
   "execution_count": 5,
   "metadata": {
    "ExecuteTime": {
     "end_time": "2020-02-04T17:59:59.645035Z",
     "start_time": "2020-02-04T17:59:58.829612Z"
    }
   },
   "outputs": [
    {
     "name": "stdout",
     "output_type": "stream",
     "text": [
      "The database has 28689 rows and 132 columns.\n"
     ]
    },
    {
     "name": "stderr",
     "output_type": "stream",
     "text": [
      "/home/franklin/anaconda3/lib/python3.7/site-packages/IPython/core/interactiveshell.py:3058: DtypeWarning: Columns (1,2,10,11,12,13,29,30,31,39,44,45,46,47,49,50,51,52,53,54,55,56,57,58,62,63,64,65,67,73,80,89,90,94,95,96,97,98,99,100,101,102,103,104,105,106,107,108,109,110,111,113,114,118,120,126,127,128) have mixed types. Specify dtype option on import or set low_memory=False.\n",
      "  interactivity=interactivity, compiler=compiler, result=result)\n"
     ]
    }
   ],
   "source": [
    "# db = excel.parse(sheet_name[0], sep=';', encoding='utf-8-sig')\n",
    "db = pd.read_csv('db.csv', sep=',', encoding='utf-8-sig')\n",
    "print(f'The database has {db.shape[0]} rows and {db.shape[1]} columns.')"
   ]
  },
  {
   "cell_type": "code",
   "execution_count": 21,
   "metadata": {
    "ExecuteTime": {
     "end_time": "2020-02-04T18:11:07.815243Z",
     "start_time": "2020-02-04T18:11:07.756792Z"
    }
   },
   "outputs": [
    {
     "data": {
      "text/html": [
       "<div>\n",
       "<style scoped>\n",
       "    .dataframe tbody tr th:only-of-type {\n",
       "        vertical-align: middle;\n",
       "    }\n",
       "\n",
       "    .dataframe tbody tr th {\n",
       "        vertical-align: top;\n",
       "    }\n",
       "\n",
       "    .dataframe thead th {\n",
       "        text-align: right;\n",
       "    }\n",
       "</style>\n",
       "<table border=\"1\" class=\"dataframe\">\n",
       "  <thead>\n",
       "    <tr style=\"text-align: right;\">\n",
       "      <th></th>\n",
       "      <th>Catalog Number</th>\n",
       "      <th>Cataloger First Name</th>\n",
       "      <th>Cataloger Middle</th>\n",
       "      <th>Cataloger Last Name</th>\n",
       "      <th>Cataloged Date</th>\n",
       "      <th>on line</th>\n",
       "      <th>Input Type</th>\n",
       "      <th>Alt Cat Number</th>\n",
       "      <th>reserved</th>\n",
       "      <th>Object Condition</th>\n",
       "      <th>...</th>\n",
       "      <th>waterBody</th>\n",
       "      <th>Continent</th>\n",
       "      <th>Country</th>\n",
       "      <th>State</th>\n",
       "      <th>County</th>\n",
       "      <th>Latitude1</th>\n",
       "      <th>Longitude1</th>\n",
       "      <th>Datum</th>\n",
       "      <th>Latitude/Longitude Type</th>\n",
       "      <th>Lat/Long Method</th>\n",
       "    </tr>\n",
       "  </thead>\n",
       "  <tbody>\n",
       "    <tr>\n",
       "      <td>0</td>\n",
       "      <td>MNRJcarcino 000001</td>\n",
       "      <td>NaN</td>\n",
       "      <td>NaN</td>\n",
       "      <td>Legado</td>\n",
       "      <td>1980/10/30</td>\n",
       "      <td>1</td>\n",
       "      <td>Doacao</td>\n",
       "      <td>NaN</td>\n",
       "      <td>NaN</td>\n",
       "      <td>Material Disponivel</td>\n",
       "      <td>...</td>\n",
       "      <td>Oceano Atlantico Sul</td>\n",
       "      <td>America do Sul</td>\n",
       "      <td>brasil</td>\n",
       "      <td>parana</td>\n",
       "      <td>NaN</td>\n",
       "      <td>25.830035 S</td>\n",
       "      <td>48.528374 W</td>\n",
       "      <td>NaN</td>\n",
       "      <td>Point</td>\n",
       "      <td>NaN</td>\n",
       "    </tr>\n",
       "    <tr>\n",
       "      <td>1</td>\n",
       "      <td>MNRJcarcino 000002</td>\n",
       "      <td>NaN</td>\n",
       "      <td>NaN</td>\n",
       "      <td>Legado</td>\n",
       "      <td>1980/10/31</td>\n",
       "      <td>1</td>\n",
       "      <td>Doacao</td>\n",
       "      <td>NaN</td>\n",
       "      <td>NaN</td>\n",
       "      <td>Material Disponivel</td>\n",
       "      <td>...</td>\n",
       "      <td>Oceano Atlantico Sul</td>\n",
       "      <td>America do Sul</td>\n",
       "      <td>brasil</td>\n",
       "      <td>pernambuco</td>\n",
       "      <td>NaN</td>\n",
       "      <td>NaN</td>\n",
       "      <td>NaN</td>\n",
       "      <td>NaN</td>\n",
       "      <td>Point</td>\n",
       "      <td>NaN</td>\n",
       "    </tr>\n",
       "    <tr>\n",
       "      <td>2</td>\n",
       "      <td>MNRJcarcino 000003</td>\n",
       "      <td>NaN</td>\n",
       "      <td>NaN</td>\n",
       "      <td>Legado</td>\n",
       "      <td>1980/10/31</td>\n",
       "      <td>1</td>\n",
       "      <td>Doacao</td>\n",
       "      <td>NaN</td>\n",
       "      <td>NaN</td>\n",
       "      <td>Material Disponivel</td>\n",
       "      <td>...</td>\n",
       "      <td>Oceano Atlantico Sul</td>\n",
       "      <td>America do Sul</td>\n",
       "      <td>brasil</td>\n",
       "      <td>rio de janeiro</td>\n",
       "      <td>Rio de Janeiro</td>\n",
       "      <td>23.00347 S</td>\n",
       "      <td>43.640745 W</td>\n",
       "      <td>NaN</td>\n",
       "      <td>Point</td>\n",
       "      <td>NaN</td>\n",
       "    </tr>\n",
       "  </tbody>\n",
       "</table>\n",
       "<p>3 rows × 132 columns</p>\n",
       "</div>"
      ],
      "text/plain": [
       "       Catalog Number Cataloger First Name Cataloger Middle  \\\n",
       "0  MNRJcarcino 000001                  NaN              NaN   \n",
       "1  MNRJcarcino 000002                  NaN              NaN   \n",
       "2  MNRJcarcino 000003                  NaN              NaN   \n",
       "\n",
       "  Cataloger Last Name Cataloged Date  on line Input Type  Alt Cat Number  \\\n",
       "0              Legado     1980/10/30        1     Doacao             NaN   \n",
       "1              Legado     1980/10/31        1     Doacao             NaN   \n",
       "2              Legado     1980/10/31        1     Doacao             NaN   \n",
       "\n",
       "   reserved     Object Condition  ...             waterBody       Continent  \\\n",
       "0       NaN  Material Disponivel  ...  Oceano Atlantico Sul  America do Sul   \n",
       "1       NaN  Material Disponivel  ...  Oceano Atlantico Sul  America do Sul   \n",
       "2       NaN  Material Disponivel  ...  Oceano Atlantico Sul  America do Sul   \n",
       "\n",
       "  Country           State          County    Latitude1   Longitude1  Datum  \\\n",
       "0  brasil          parana             NaN  25.830035 S  48.528374 W    NaN   \n",
       "1  brasil      pernambuco             NaN          NaN          NaN    NaN   \n",
       "2  brasil  rio de janeiro  Rio de Janeiro   23.00347 S  43.640745 W    NaN   \n",
       "\n",
       "   Latitude/Longitude Type  Lat/Long Method  \n",
       "0                    Point              NaN  \n",
       "1                    Point              NaN  \n",
       "2                    Point              NaN  \n",
       "\n",
       "[3 rows x 132 columns]"
      ]
     },
     "execution_count": 21,
     "metadata": {},
     "output_type": "execute_result"
    }
   ],
   "source": [
    "db.head(3)"
   ]
  },
  {
   "cell_type": "code",
   "execution_count": 7,
   "metadata": {
    "ExecuteTime": {
     "end_time": "2020-02-04T18:00:36.156301Z",
     "start_time": "2020-02-04T18:00:36.120280Z"
    }
   },
   "outputs": [
    {
     "name": "stdout",
     "output_type": "stream",
     "text": [
      "- Catalog Number\n",
      "- Cataloger First Name\n",
      "- Cataloger Middle\n",
      "- Cataloger Last Name\n",
      "- Cataloged Date\n",
      "- on line\n",
      "- Input Type\n",
      "- Alt Cat Number\n",
      "- reserved\n",
      "- Object Condition\n",
      "- Count Amount\n",
      "- associatedTaxa\n",
      "- Females\n",
      "- Males\n",
      "- Ind\n",
      "- Adults\n",
      "- Young\n",
      "- Larvae\n",
      "- Egg Mass\n",
      "- Measurement\\n Records\n",
      "- Remarks\n",
      "- Kingdom\n",
      "- Phylum1\n",
      "- Subphylum1\n",
      "- Class1\n",
      "- Subclass1\n",
      "- Infraclass1\n",
      "- Superorder1\n",
      "- Order1\n",
      "- Suborder1\n",
      "- Infraorder1\n",
      "- Superfamily1\n",
      "- Family1\n",
      "- Subfamily1\n",
      "- Tribe1\n",
      "- Genus1\n",
      "- Species1\n",
      "- Species Author1\n",
      "- Type Status1\n",
      "- Qualifier1\n",
      "- Determiner First Name1\n",
      "- Determiner Middle1\n",
      "- Determiner Last Name1\n",
      "- Determined Date1\n",
      "- Phylum2\n",
      "- Subphylum2\n",
      "- Class2\n",
      "- Subclass2\n",
      "- Infraclass2\n",
      "- Superorder2\n",
      "- Order2\n",
      "- Suborder2\n",
      "- Infraorder2\n",
      "- Superfamily2\n",
      "- Family2\n",
      "- Subfamily2\n",
      "- Tribe2\n",
      "- Genus2\n",
      "- Species2\n",
      "- Species Author2\n",
      "- Type Status2\n",
      "- Qualifier2\n",
      "- Determiner First Name2\n",
      "- Determiner Middle2\n",
      "- Determiner Last Name2\n",
      "- Determined Date2\n",
      "- Prep Type1\n",
      "- Count 1\n",
      "- Description 1\n",
      "- Prepared First Name By1\n",
      "- Prepared Middle By1\n",
      "- Prepared Last Name By1\n",
      "- Prepared Date 1\n",
      "- Prep Type2\n",
      "- Count 2\n",
      "- Description 2\n",
      "- Prepared First Name By2\n",
      "- Prepared Middle By2\n",
      "- Prepared Last Name By2\n",
      "- Prepared Date 2\n",
      "- Prep Type3\n",
      "- Count 3\n",
      "- Description 3\n",
      "- Prepared First Name By3\n",
      "- Prepared Middle By3\n",
      "- Prepared Last Name By3\n",
      "- Prepared Date 3\n",
      "- Collector Number\n",
      "- Start Date\n",
      "- End Date\n",
      "- Verbatim Date\n",
      "- Collector First Name1\n",
      "- Collector Middle1\n",
      "- Collector Last Name1\n",
      "- Collector First Name2\n",
      "- Collector Middle2\n",
      "- Collector Last Name2\n",
      "- Collector First Name3\n",
      "- Collector Middle3\n",
      "- Collector Last Name3\n",
      "- Collector First Name4\n",
      "- Collector Middle4\n",
      "- Collector Last Name4\n",
      "- Collector First Name5\n",
      "- Collector Middle5\n",
      "- Collector Last Name5\n",
      "- Collector First Name6\n",
      "- Collector Middle6\n",
      "- Collector Last Name6\n",
      "- Collector First Name7\n",
      "- Collector Middle7\n",
      "- Collector Last Name7\n",
      "- Method\n",
      "- Min Depth\n",
      "- Max Depth\n",
      "- Min Alt\n",
      "- Max Alt\n",
      "- Habitat Type\n",
      "- Substratum\n",
      "- Locality Name\n",
      "- Verbatim Locality\n",
      "- Locality and\\n Habitat Notes\n",
      "- waterBody\n",
      "- Continent\n",
      "- Country\n",
      "- State\n",
      "- County\n",
      "- Latitude1\n",
      "- Longitude1\n",
      "- Datum\n",
      "- Latitude/Longitude Type\n",
      "- Lat/Long Method\n"
     ]
    }
   ],
   "source": [
    "for col in db.columns:\n",
    "    print('-', col)"
   ]
  },
  {
   "cell_type": "markdown",
   "metadata": {},
   "source": [
    "#### removing '\\n' from column names"
   ]
  },
  {
   "cell_type": "code",
   "execution_count": 8,
   "metadata": {
    "ExecuteTime": {
     "end_time": "2020-02-04T18:00:48.644265Z",
     "start_time": "2020-02-04T18:00:48.637019Z"
    }
   },
   "outputs": [],
   "source": [
    "db.columns = [str(col).replace(r'\\n','') for col in db.columns]"
   ]
  },
  {
   "cell_type": "markdown",
   "metadata": {},
   "source": [
    "#### closer look on some columns..."
   ]
  },
  {
   "cell_type": "code",
   "execution_count": 9,
   "metadata": {
    "ExecuteTime": {
     "end_time": "2020-02-04T18:01:06.805887Z",
     "start_time": "2020-02-04T18:01:06.778421Z"
    }
   },
   "outputs": [
    {
     "data": {
      "text/html": [
       "<div>\n",
       "<style scoped>\n",
       "    .dataframe tbody tr th:only-of-type {\n",
       "        vertical-align: middle;\n",
       "    }\n",
       "\n",
       "    .dataframe tbody tr th {\n",
       "        vertical-align: top;\n",
       "    }\n",
       "\n",
       "    .dataframe thead th {\n",
       "        text-align: right;\n",
       "    }\n",
       "</style>\n",
       "<table border=\"1\" class=\"dataframe\">\n",
       "  <thead>\n",
       "    <tr style=\"text-align: right;\">\n",
       "      <th></th>\n",
       "      <th>Species1</th>\n",
       "      <th>Species Author1</th>\n",
       "      <th>Type Status1</th>\n",
       "      <th>Qualifier1</th>\n",
       "      <th>Determiner First Name1</th>\n",
       "      <th>Determiner Middle1</th>\n",
       "      <th>Determiner Last Name1</th>\n",
       "      <th>Determined Date1</th>\n",
       "    </tr>\n",
       "  </thead>\n",
       "  <tbody>\n",
       "    <tr>\n",
       "      <td>0</td>\n",
       "      <td>schmitti</td>\n",
       "      <td>Burkenroad, 1936</td>\n",
       "      <td>NaN</td>\n",
       "      <td>NaN</td>\n",
       "      <td>Alceu</td>\n",
       "      <td>L</td>\n",
       "      <td>de Castro</td>\n",
       "      <td>NaN</td>\n",
       "    </tr>\n",
       "    <tr>\n",
       "      <td>1</td>\n",
       "      <td>schmitti</td>\n",
       "      <td>Burkenroad, 1936</td>\n",
       "      <td>NaN</td>\n",
       "      <td>NaN</td>\n",
       "      <td>Alceu</td>\n",
       "      <td>L</td>\n",
       "      <td>de Castro</td>\n",
       "      <td>NaN</td>\n",
       "    </tr>\n",
       "    <tr>\n",
       "      <td>2</td>\n",
       "      <td>schmitti</td>\n",
       "      <td>Burkenroad, 1936</td>\n",
       "      <td>NaN</td>\n",
       "      <td>NaN</td>\n",
       "      <td>Alceu</td>\n",
       "      <td>L</td>\n",
       "      <td>de Castro</td>\n",
       "      <td>NaN</td>\n",
       "    </tr>\n",
       "    <tr>\n",
       "      <td>3</td>\n",
       "      <td>schmitti</td>\n",
       "      <td>Hobbs III, 1979</td>\n",
       "      <td>NaN</td>\n",
       "      <td>NaN</td>\n",
       "      <td>Maria Margarida</td>\n",
       "      <td>G</td>\n",
       "      <td>Correa</td>\n",
       "      <td>NaN</td>\n",
       "    </tr>\n",
       "    <tr>\n",
       "      <td>4</td>\n",
       "      <td>schmitti</td>\n",
       "      <td>Burkenroad, 1936</td>\n",
       "      <td>NaN</td>\n",
       "      <td>NaN</td>\n",
       "      <td>Alceu</td>\n",
       "      <td>L</td>\n",
       "      <td>de Castro</td>\n",
       "      <td>NaN</td>\n",
       "    </tr>\n",
       "    <tr>\n",
       "      <td>...</td>\n",
       "      <td>...</td>\n",
       "      <td>...</td>\n",
       "      <td>...</td>\n",
       "      <td>...</td>\n",
       "      <td>...</td>\n",
       "      <td>...</td>\n",
       "      <td>...</td>\n",
       "      <td>...</td>\n",
       "    </tr>\n",
       "    <tr>\n",
       "      <td>28684</td>\n",
       "      <td>serejoae</td>\n",
       "      <td>Rafinesque, 1815</td>\n",
       "      <td>NaN</td>\n",
       "      <td>NaN</td>\n",
       "      <td>Ayrton</td>\n",
       "      <td>R</td>\n",
       "      <td>Brito</td>\n",
       "      <td>2017/06/09</td>\n",
       "    </tr>\n",
       "    <tr>\n",
       "      <td>28685</td>\n",
       "      <td>serejoae</td>\n",
       "      <td>Rafinesque, 1815</td>\n",
       "      <td>NaN</td>\n",
       "      <td>NaN</td>\n",
       "      <td>Ayrton</td>\n",
       "      <td>R</td>\n",
       "      <td>Brito</td>\n",
       "      <td>2017/06/10</td>\n",
       "    </tr>\n",
       "    <tr>\n",
       "      <td>28686</td>\n",
       "      <td>serejoae</td>\n",
       "      <td>Rafinesque, 1815</td>\n",
       "      <td>NaN</td>\n",
       "      <td>NaN</td>\n",
       "      <td>Ayrton</td>\n",
       "      <td>R</td>\n",
       "      <td>Brito</td>\n",
       "      <td>2017/06/10</td>\n",
       "    </tr>\n",
       "    <tr>\n",
       "      <td>28687</td>\n",
       "      <td>serejoae</td>\n",
       "      <td>Rafinesque, 1815</td>\n",
       "      <td>NaN</td>\n",
       "      <td>NaN</td>\n",
       "      <td>Ayrton</td>\n",
       "      <td>R</td>\n",
       "      <td>Brito</td>\n",
       "      <td>2017/06/10</td>\n",
       "    </tr>\n",
       "    <tr>\n",
       "      <td>28688</td>\n",
       "      <td>ostrovski</td>\n",
       "      <td>Rodrigues &amp; Cardoso, 2018</td>\n",
       "      <td>Paratipo</td>\n",
       "      <td>NaN</td>\n",
       "      <td>Thaiana</td>\n",
       "      <td>GA</td>\n",
       "      <td>Rodrigues</td>\n",
       "      <td>2016/03/01</td>\n",
       "    </tr>\n",
       "  </tbody>\n",
       "</table>\n",
       "<p>28689 rows × 8 columns</p>\n",
       "</div>"
      ],
      "text/plain": [
       "        Species1            Species Author1 Type Status1 Qualifier1  \\\n",
       "0       schmitti           Burkenroad, 1936          NaN        NaN   \n",
       "1       schmitti           Burkenroad, 1936          NaN        NaN   \n",
       "2       schmitti           Burkenroad, 1936          NaN        NaN   \n",
       "3      schmitti             Hobbs III, 1979          NaN        NaN   \n",
       "4       schmitti           Burkenroad, 1936          NaN        NaN   \n",
       "...          ...                        ...          ...        ...   \n",
       "28684   serejoae           Rafinesque, 1815          NaN        NaN   \n",
       "28685   serejoae           Rafinesque, 1815          NaN        NaN   \n",
       "28686   serejoae           Rafinesque, 1815          NaN        NaN   \n",
       "28687   serejoae           Rafinesque, 1815          NaN        NaN   \n",
       "28688  ostrovski  Rodrigues & Cardoso, 2018     Paratipo        NaN   \n",
       "\n",
       "      Determiner First Name1 Determiner Middle1 Determiner Last Name1  \\\n",
       "0                      Alceu                  L             de Castro   \n",
       "1                      Alceu                  L             de Castro   \n",
       "2                      Alceu                  L             de Castro   \n",
       "3            Maria Margarida                  G                Correa   \n",
       "4                      Alceu                  L             de Castro   \n",
       "...                      ...                ...                   ...   \n",
       "28684                 Ayrton                  R                 Brito   \n",
       "28685                 Ayrton                  R                 Brito   \n",
       "28686                 Ayrton                  R                 Brito   \n",
       "28687                 Ayrton                  R                 Brito   \n",
       "28688                Thaiana                 GA             Rodrigues   \n",
       "\n",
       "      Determined Date1  \n",
       "0                  NaN  \n",
       "1                  NaN  \n",
       "2                  NaN  \n",
       "3                  NaN  \n",
       "4                  NaN  \n",
       "...                ...  \n",
       "28684       2017/06/09  \n",
       "28685       2017/06/10  \n",
       "28686       2017/06/10  \n",
       "28687       2017/06/10  \n",
       "28688       2016/03/01  \n",
       "\n",
       "[28689 rows x 8 columns]"
      ]
     },
     "execution_count": 9,
     "metadata": {},
     "output_type": "execute_result"
    }
   ],
   "source": [
    "db[['Species1', 'Species Author1', 'Type Status1', 'Qualifier1', 'Determiner First Name1',\n",
    "      'Determiner Middle1', 'Determiner Last Name1', 'Determined Date1']]"
   ]
  },
  {
   "cell_type": "markdown",
   "metadata": {},
   "source": [
    "## preparing data for charts..."
   ]
  },
  {
   "cell_type": "markdown",
   "metadata": {},
   "source": [
    "Column: `Type Status1`"
   ]
  },
  {
   "cell_type": "code",
   "execution_count": 30,
   "metadata": {
    "ExecuteTime": {
     "end_time": "2020-02-04T18:36:05.088764Z",
     "start_time": "2020-02-04T18:36:04.969666Z"
    }
   },
   "outputs": [],
   "source": [
    "crustaceas = db.copy()"
   ]
  },
  {
   "cell_type": "code",
   "execution_count": 31,
   "metadata": {
    "ExecuteTime": {
     "end_time": "2020-02-04T18:36:11.160370Z",
     "start_time": "2020-02-04T18:36:11.141783Z"
    }
   },
   "outputs": [
    {
     "data": {
      "text/plain": [
       "paratipo         695\n",
       "holotipo         285\n",
       "alotipo           81\n",
       "topotipo           9\n",
       "neotipo            6\n",
       "paralectotipo      6\n",
       "sintipo            5\n",
       "lectotipo          4\n",
       "material tipo      3\n",
       "tipo               2\n",
       "co-tipo            1\n",
       "Name: Type Status1, dtype: int64"
      ]
     },
     "execution_count": 31,
     "metadata": {},
     "output_type": "execute_result"
    }
   ],
   "source": [
    "crustaceas['Type Status1'].value_counts()"
   ]
  },
  {
   "cell_type": "markdown",
   "metadata": {},
   "source": [
    "Let's begin cleaning this data and lowering all cases."
   ]
  },
  {
   "cell_type": "code",
   "execution_count": 32,
   "metadata": {
    "ExecuteTime": {
     "end_time": "2020-02-04T18:36:23.709062Z",
     "start_time": "2020-02-04T18:36:23.679973Z"
    }
   },
   "outputs": [],
   "source": [
    "crustaceas['Type Status1'] = crustaceas['Type Status1'].str.strip().str.lower()"
   ]
  },
  {
   "cell_type": "code",
   "execution_count": 33,
   "metadata": {
    "ExecuteTime": {
     "end_time": "2020-02-04T18:36:26.653891Z",
     "start_time": "2020-02-04T18:36:26.637678Z"
    }
   },
   "outputs": [
    {
     "data": {
      "text/plain": [
       "paratipo         695\n",
       "holotipo         285\n",
       "alotipo           81\n",
       "topotipo           9\n",
       "neotipo            6\n",
       "paralectotipo      6\n",
       "sintipo            5\n",
       "lectotipo          4\n",
       "material tipo      3\n",
       "tipo               2\n",
       "co-tipo            1\n",
       "Name: Type Status1, dtype: int64"
      ]
     },
     "execution_count": 33,
     "metadata": {},
     "output_type": "execute_result"
    }
   ],
   "source": [
    "crustaceas['Type Status1'].value_counts()"
   ]
  },
  {
   "cell_type": "markdown",
   "metadata": {},
   "source": [
    "### Collecting data \n",
    "\n",
    "Column: `Cataloged Date`"
   ]
  },
  {
   "cell_type": "code",
   "execution_count": 38,
   "metadata": {
    "ExecuteTime": {
     "end_time": "2020-02-04T18:37:45.270041Z",
     "start_time": "2020-02-04T18:37:44.561216Z"
    }
   },
   "outputs": [
    {
     "data": {
      "text/html": [
       "<div>\n",
       "<style scoped>\n",
       "    .dataframe tbody tr th:only-of-type {\n",
       "        vertical-align: middle;\n",
       "    }\n",
       "\n",
       "    .dataframe tbody tr th {\n",
       "        vertical-align: top;\n",
       "    }\n",
       "\n",
       "    .dataframe thead th {\n",
       "        text-align: right;\n",
       "    }\n",
       "</style>\n",
       "<table border=\"1\" class=\"dataframe\">\n",
       "  <thead>\n",
       "    <tr style=\"text-align: right;\">\n",
       "      <th></th>\n",
       "      <th>year</th>\n",
       "      <th>class</th>\n",
       "      <th>kingdom</th>\n",
       "    </tr>\n",
       "  </thead>\n",
       "  <tbody>\n",
       "    <tr>\n",
       "      <td>0</td>\n",
       "      <td>1980</td>\n",
       "      <td>Malacostraca</td>\n",
       "      <td>Animalia</td>\n",
       "    </tr>\n",
       "    <tr>\n",
       "      <td>1</td>\n",
       "      <td>1980</td>\n",
       "      <td>Malacostraca</td>\n",
       "      <td>Animalia</td>\n",
       "    </tr>\n",
       "    <tr>\n",
       "      <td>2</td>\n",
       "      <td>1980</td>\n",
       "      <td>Malacostraca</td>\n",
       "      <td>Animalia</td>\n",
       "    </tr>\n",
       "    <tr>\n",
       "      <td>3</td>\n",
       "      <td>1980</td>\n",
       "      <td>Malacostraca</td>\n",
       "      <td>Animalia</td>\n",
       "    </tr>\n",
       "    <tr>\n",
       "      <td>4</td>\n",
       "      <td>1980</td>\n",
       "      <td>Malacostraca</td>\n",
       "      <td>Animalia</td>\n",
       "    </tr>\n",
       "  </tbody>\n",
       "</table>\n",
       "</div>"
      ],
      "text/plain": [
       "   year         class   kingdom\n",
       "0  1980  Malacostraca  Animalia\n",
       "1  1980  Malacostraca  Animalia\n",
       "2  1980  Malacostraca  Animalia\n",
       "3  1980  Malacostraca  Animalia\n",
       "4  1980  Malacostraca  Animalia"
      ]
     },
     "execution_count": 38,
     "metadata": {},
     "output_type": "execute_result"
    }
   ],
   "source": [
    "Table_Date = crustaceas[['Cataloged Date','Class1','Kingdom']].copy()\n",
    "\n",
    "counter=0\n",
    "for row in Table_Date['Cataloged Date']:\n",
    "#     print(row)\n",
    "    if not str(row).find('/')==-1:\n",
    "        dates_values = str(row).split(\"/\")\n",
    "        year = int(dates_values[0])\n",
    "        month = int(dates_values[1])\n",
    "        if (month>1) and (month<12):\n",
    "            #store the year and month in a datetime datatype for later sorting\n",
    "            dateRecord = datetime.datetime(year,month,1)\n",
    "#         else:\n",
    "#             #if the month is not valid, then use 1/1/1 as the date\n",
    "#             dateRecord = dt.datetime(1,1,1)\n",
    "#     else:\n",
    "#         #if the date is nan, then use 1/1/1 as the date\n",
    "#         dateRecord = dt.datetime(1,1,1)         \n",
    "    d.append({'year':year, 'class':Table_Date.loc[counter,'Class1'],\n",
    "              'kingdom':Table_Date.loc[counter,'Kingdom']})\n",
    "    counter = counter+1\n",
    "NewTable_Date = pd.DataFrame(d)\n",
    "NewTable_Date.head()"
   ]
  },
  {
   "cell_type": "code",
   "execution_count": null,
   "metadata": {},
   "outputs": [],
   "source": []
  }
 ],
 "metadata": {
  "kernelspec": {
   "display_name": "Python 3",
   "language": "python",
   "name": "python3"
  },
  "language_info": {
   "codemirror_mode": {
    "name": "ipython",
    "version": 3
   },
   "file_extension": ".py",
   "mimetype": "text/x-python",
   "name": "python",
   "nbconvert_exporter": "python",
   "pygments_lexer": "ipython3",
   "version": "3.7.4"
  },
  "toc": {
   "base_numbering": 1,
   "nav_menu": {},
   "number_sections": false,
   "sideBar": true,
   "skip_h1_title": false,
   "title_cell": "Table of Contents",
   "title_sidebar": "Contents",
   "toc_cell": false,
   "toc_position": {},
   "toc_section_display": true,
   "toc_window_display": false
  },
  "varInspector": {
   "cols": {
    "lenName": 16,
    "lenType": 16,
    "lenVar": 40
   },
   "kernels_config": {
    "python": {
     "delete_cmd_postfix": "",
     "delete_cmd_prefix": "del ",
     "library": "var_list.py",
     "varRefreshCmd": "print(var_dic_list())"
    },
    "r": {
     "delete_cmd_postfix": ") ",
     "delete_cmd_prefix": "rm(",
     "library": "var_list.r",
     "varRefreshCmd": "cat(var_dic_list()) "
    }
   },
   "types_to_exclude": [
    "module",
    "function",
    "builtin_function_or_method",
    "instance",
    "_Feature"
   ],
   "window_display": false
  }
 },
 "nbformat": 4,
 "nbformat_minor": 2
}
