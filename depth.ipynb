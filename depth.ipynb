{
 "cells": [
  {
   "cell_type": "markdown",
   "metadata": {},
   "source": [
    "# Type charts\n",
    "\n",
    "By **Franklin Oliveira**\n",
    "\n",
    "-----\n",
    "This notebook contains all code necessary to make the \"type\" charts from `crustacea` database. Here you'll find some basic data treatment and charts' code. \n",
    "\n",
    "Database: <font color='blue'>'Planilha geral Atualizda FINAL com correções.xlsx'</font>."
   ]
  },
  {
   "cell_type": "code",
   "execution_count": 1,
   "metadata": {
    "ExecuteTime": {
     "end_time": "2020-02-28T19:25:17.309120Z",
     "start_time": "2020-02-28T19:25:16.052595Z"
    }
   },
   "outputs": [
    {
     "data": {
      "text/plain": [
       "DataTransformerRegistry.enable('default')"
      ]
     },
     "execution_count": 1,
     "metadata": {},
     "output_type": "execute_result"
    }
   ],
   "source": [
    "import datetime\n",
    "import numpy as np\n",
    "import pandas as pd\n",
    "\n",
    "from collections import defaultdict\n",
    "\n",
    "# pacotes para visualização rápida\n",
    "import seaborn as sns\n",
    "import matplotlib.pyplot as plt\n",
    "\n",
    "# Waffle Charts\n",
    "from pywaffle import Waffle \n",
    "# docs: https://pywaffle.readthedocs.io/en/latest/examples/block_shape_distance_location_and_direction.html\n",
    "\n",
    "# pacote para visualização principal\n",
    "import altair as alt\n",
    "\n",
    "# habilitando renderizador para notebook\n",
    "alt.renderers.enable('notebook')\n",
    "\n",
    "# desabilitando limite de linhas\n",
    "alt.data_transformers.disable_max_rows()"
   ]
  },
  {
   "cell_type": "markdown",
   "metadata": {},
   "source": [
    "## Importing data..."
   ]
  },
  {
   "cell_type": "code",
   "execution_count": 2,
   "metadata": {
    "ExecuteTime": {
     "end_time": "2020-02-28T19:25:35.441319Z",
     "start_time": "2020-02-28T19:25:17.312505Z"
    }
   },
   "outputs": [
    {
     "name": "stdout",
     "output_type": "stream",
     "text": [
      "The excel file contains the following sheets: ['Banco de Dados Colecao Carcinol', 'Planilha1']\n",
      "\n",
      "Database is in sheet: Banco de Dados Colecao Carcinol\n"
     ]
    }
   ],
   "source": [
    "excel = pd.ExcelFile('Planilha geral Atualizda FINAL com correções.xlsx')\n",
    "sheet_name = excel.sheet_names\n",
    "\n",
    "print('The excel file contains the following sheets:', sheet_name)\n",
    "print('\\nDatabase is in sheet:', sheet_name[0])"
   ]
  },
  {
   "cell_type": "code",
   "execution_count": 3,
   "metadata": {
    "ExecuteTime": {
     "end_time": "2020-02-28T19:25:36.270852Z",
     "start_time": "2020-02-28T19:25:35.443900Z"
    }
   },
   "outputs": [
    {
     "name": "stdout",
     "output_type": "stream",
     "text": [
      "The database has 28689 rows and 132 columns.\n"
     ]
    }
   ],
   "source": [
    "# db = excel.parse(sheet_name[0], sep=';', encoding='utf-8-sig')\n",
    "db = pd.read_csv('db.csv', sep=',', encoding='utf-8-sig', low_memory=False)  # db pre-treated by Asla\n",
    "print(f'The database has {db.shape[0]} rows and {db.shape[1]} columns.')"
   ]
  },
  {
   "cell_type": "code",
   "execution_count": 4,
   "metadata": {
    "ExecuteTime": {
     "end_time": "2020-02-28T19:25:36.378224Z",
     "start_time": "2020-02-28T19:25:36.278019Z"
    }
   },
   "outputs": [],
   "source": [
    "# copying database to another variable to make a few changes keeping the original intact\n",
    "crustaceas = db.copy()"
   ]
  },
  {
   "cell_type": "markdown",
   "metadata": {},
   "source": [
    "<br>\n",
    "\n",
    "### Name columns\n",
    "\n",
    "`Determiner First Name1` e `Determiner Last Name1`\n",
    "\n",
    "#### treating determiner's name \n",
    "\n",
    "In this step, we're going to put together determiner's first and last name. \n",
    "\n",
    "`Determiner First Name1` + `Determiner Last Name1`\n",
    "\n",
    "Just concatenating those two columns is not satisfactory because there's some dirt in these data columns. So, let's begin by treating them..."
   ]
  },
  {
   "cell_type": "code",
   "execution_count": 5,
   "metadata": {
    "ExecuteTime": {
     "end_time": "2020-02-28T19:25:36.423863Z",
     "start_time": "2020-02-28T19:25:36.380269Z"
    }
   },
   "outputs": [],
   "source": [
    "def treat_names(name, pos='first'):\n",
    "    '''\n",
    "    Treat names keeping NaN as such.\n",
    "    \n",
    "    Arguments: \n",
    "        - name: name to be treated. \n",
    "        - pos (str): name position. One of ['first', 'last']\n",
    "    '''\n",
    "    if type(name) == str and pos == 'first':     # primeiro nome\n",
    "        \n",
    "        if len(name.split(' ')) > 1:             # trata se o nome é composto (+ de um nome)\n",
    "            return str(name).strip().split(' ')[0].capitalize()\n",
    "        else:\n",
    "            return str(name).strip().capitalize()\n",
    "    \n",
    "    elif type(name) == str and pos == 'last':    # último sobrenome\n",
    "        \n",
    "        if len(name.split(' ')) > 1:             # trata se o último nome é composto (+ de um sobrenome)\n",
    "            return str(name).strip().split(' ')[-1].capitalize()\n",
    "        else:\n",
    "            return str(name).strip().capitalize()   \n",
    "    else:\n",
    "        return name"
   ]
  },
  {
   "cell_type": "markdown",
   "metadata": {},
   "source": [
    "applying function to the two column names"
   ]
  },
  {
   "cell_type": "code",
   "execution_count": 6,
   "metadata": {
    "ExecuteTime": {
     "end_time": "2020-02-28T19:25:36.564661Z",
     "start_time": "2020-02-28T19:25:36.427245Z"
    }
   },
   "outputs": [],
   "source": [
    "crustaceas['Determiner First Name1'] = crustaceas['Determiner First Name1'].apply(treat_names)\n",
    "# crustaceas['Determiner First Name1'].value_counts()"
   ]
  },
  {
   "cell_type": "code",
   "execution_count": 7,
   "metadata": {
    "ExecuteTime": {
     "end_time": "2020-02-28T19:25:36.737653Z",
     "start_time": "2020-02-28T19:25:36.566778Z"
    }
   },
   "outputs": [],
   "source": [
    "crustaceas['Determiner Last Name1'] = crustaceas['Determiner Last Name1'].apply(lambda x:\n",
    "                                                                treat_names(x, pos='last'))\n",
    "# crustaceas['Determiner Last Name1'].value_counts()"
   ]
  },
  {
   "cell_type": "code",
   "execution_count": 8,
   "metadata": {
    "ExecuteTime": {
     "end_time": "2020-02-28T19:25:36.827193Z",
     "start_time": "2020-02-28T19:25:36.741628Z"
    }
   },
   "outputs": [],
   "source": [
    "# creating column with First and Last name for identification\n",
    "crustaceas['Determiner First_and_Last Name'] = crustaceas['Determiner First Name1'] + ' ' + crustaceas['Determiner Last Name1']"
   ]
  },
  {
   "cell_type": "markdown",
   "metadata": {},
   "source": [
    "<br>\n",
    "\n",
    "## Adjusting columns names\n",
    "\n",
    "### removing '\\n'"
   ]
  },
  {
   "cell_type": "code",
   "execution_count": 9,
   "metadata": {
    "ExecuteTime": {
     "end_time": "2020-02-28T19:25:36.998784Z",
     "start_time": "2020-02-28T19:25:36.831408Z"
    }
   },
   "outputs": [],
   "source": [
    "crustaceas.columns = [str(col).replace(r'\\n','') for col in crustaceas.columns]"
   ]
  },
  {
   "cell_type": "markdown",
   "metadata": {},
   "source": [
    "<br>\n",
    "\n",
    "## preparing data for charts..."
   ]
  },
  {
   "cell_type": "markdown",
   "metadata": {},
   "source": [
    "### Column: `Type Status1`"
   ]
  },
  {
   "cell_type": "code",
   "execution_count": 10,
   "metadata": {
    "ExecuteTime": {
     "end_time": "2020-02-28T19:25:37.177052Z",
     "start_time": "2020-02-28T19:25:37.000765Z"
    }
   },
   "outputs": [
    {
     "data": {
      "text/plain": [
       "Paratipo    433\n",
       "Holotipo    203\n",
       "ParaTIPO    142\n",
       "PARATIPO    120\n",
       "HOLOTIPO     82\n",
       "Name: Type Status1, dtype: int64"
      ]
     },
     "execution_count": 10,
     "metadata": {},
     "output_type": "execute_result"
    }
   ],
   "source": [
    "crustaceas['Type Status1'].value_counts().head()"
   ]
  },
  {
   "cell_type": "markdown",
   "metadata": {},
   "source": [
    "#### Let's begin cleaning this data and lowering all cases."
   ]
  },
  {
   "cell_type": "code",
   "execution_count": 11,
   "metadata": {
    "ExecuteTime": {
     "end_time": "2020-02-28T19:25:37.554157Z",
     "start_time": "2020-02-28T19:25:37.184352Z"
    }
   },
   "outputs": [],
   "source": [
    "crustaceas['Type Status1'] = crustaceas['Type Status1'].str.strip().str.lower().str.capitalize()"
   ]
  },
  {
   "cell_type": "code",
   "execution_count": 12,
   "metadata": {
    "ExecuteTime": {
     "end_time": "2020-02-28T19:25:37.742944Z",
     "start_time": "2020-02-28T19:25:37.557218Z"
    }
   },
   "outputs": [
    {
     "data": {
      "text/plain": [
       "Paratipo         695\n",
       "Holotipo         285\n",
       "Alotipo           81\n",
       "Topotipo           9\n",
       "Paralectotipo      6\n",
       "Name: Type Status1, dtype: int64"
      ]
     },
     "execution_count": 12,
     "metadata": {},
     "output_type": "execute_result"
    }
   ],
   "source": [
    "crustaceas['Type Status1'].value_counts().head()"
   ]
  },
  {
   "cell_type": "markdown",
   "metadata": {},
   "source": [
    "### preparing taxonomy columns\n",
    "\n",
    "`Kingdom` - `Phylum1` - `Subphylum1` - `Class1` - `Subclass1` - `Infraclass1` - `Superorder1` - `Order1` - `Suborder1` - `Infraorder1` - `Superfamily1` - `Family1` - `Subfamily1` - `Tribe1` - `Genus1` - `Species1`"
   ]
  },
  {
   "cell_type": "code",
   "execution_count": 13,
   "metadata": {
    "ExecuteTime": {
     "end_time": "2020-02-28T19:25:38.343738Z",
     "start_time": "2020-02-28T19:25:37.750320Z"
    }
   },
   "outputs": [
    {
     "name": "stdout",
     "output_type": "stream",
     "text": [
      "Adjusting column Kingdom\n",
      "Adjusting column Phylum1\n",
      "Adjusting column Subphylum1\n",
      "Adjusting column Class1\n",
      "Adjusting column Subclass1\n",
      "Adjusting column Infraclass1\n",
      "Adjusting column Superorder1\n",
      "Adjusting column Order1\n",
      "Adjusting column Suborder1\n",
      "Adjusting column Infraorder1\n",
      "Adjusting column Superfamily1\n",
      "Adjusting column Family1\n",
      "Adjusting column Subfamily1\n",
      "Adjusting column Tribe1\n",
      "Adjusting column Genus1\n",
      "Adjusting column Species1\n"
     ]
    }
   ],
   "source": [
    "taxon_columns = crustaceas.columns[21:37]  # selecionando colunas de taxonomia\n",
    "\n",
    "# definindo função\n",
    "def treat_str(x):\n",
    "    return str(x).lower().capitalize().strip()\n",
    "\n",
    "# aplicando tratamento\n",
    "for col in taxon_columns:\n",
    "    print(f'Adjusting column {col}')\n",
    "    crustaceas[col] = crustaceas[col].apply(treat_str)"
   ]
  },
  {
   "cell_type": "markdown",
   "metadata": {},
   "source": [
    "### adding `Genus1` and `Species1`together (they completely identify each animal's species)"
   ]
  },
  {
   "cell_type": "code",
   "execution_count": 14,
   "metadata": {
    "ExecuteTime": {
     "end_time": "2020-02-28T19:25:38.431616Z",
     "start_time": "2020-02-28T19:25:38.346816Z"
    }
   },
   "outputs": [],
   "source": [
    "crustaceas['genus_and_species'] = crustaceas['Genus1'] + ' ' + crustaceas['Species1']\n",
    "crustaceas['genus_and_species'] = crustaceas['genus_and_species'].str.lower().str.capitalize()"
   ]
  },
  {
   "cell_type": "markdown",
   "metadata": {},
   "source": [
    "<br>\n",
    "\n",
    "### Collecting date (year) and sclicing main DB to a smaller dataset \n",
    "\n",
    "Columns: `Determined Date1` - `Class1` - `Kingdom` and more..."
   ]
  },
  {
   "cell_type": "code",
   "execution_count": 15,
   "metadata": {
    "ExecuteTime": {
     "end_time": "2020-02-28T19:26:20.170984Z",
     "start_time": "2020-02-28T19:25:38.434869Z"
    }
   },
   "outputs": [
    {
     "data": {
      "text/html": [
       "<div>\n",
       "<style scoped>\n",
       "    .dataframe tbody tr th:only-of-type {\n",
       "        vertical-align: middle;\n",
       "    }\n",
       "\n",
       "    .dataframe tbody tr th {\n",
       "        vertical-align: top;\n",
       "    }\n",
       "\n",
       "    .dataframe thead th {\n",
       "        text-align: right;\n",
       "    }\n",
       "</style>\n",
       "<table border=\"1\" class=\"dataframe\">\n",
       "  <thead>\n",
       "    <tr style=\"text-align: right;\">\n",
       "      <th></th>\n",
       "      <th>cataloged_year</th>\n",
       "      <th>count</th>\n",
       "      <th>class</th>\n",
       "      <th>kingdom</th>\n",
       "      <th>genus</th>\n",
       "      <th>species</th>\n",
       "      <th>genus_and_species</th>\n",
       "      <th>type_status</th>\n",
       "      <th>determiner_first_and_last_name</th>\n",
       "      <th>determiner_first_name</th>\n",
       "      <th>...</th>\n",
       "      <th>species_author</th>\n",
       "      <th>order</th>\n",
       "      <th>suborder</th>\n",
       "      <th>infraorder</th>\n",
       "      <th>superfamily</th>\n",
       "      <th>family</th>\n",
       "      <th>subfamily</th>\n",
       "      <th>tribe</th>\n",
       "      <th>determined_year</th>\n",
       "      <th>start_year</th>\n",
       "    </tr>\n",
       "  </thead>\n",
       "  <tbody>\n",
       "    <tr>\n",
       "      <td>0</td>\n",
       "      <td>1980</td>\n",
       "      <td>5</td>\n",
       "      <td>Malacostraca</td>\n",
       "      <td>Animalia</td>\n",
       "      <td>Penaeus</td>\n",
       "      <td>Schmitti</td>\n",
       "      <td>Penaeus schmitti</td>\n",
       "      <td>NaN</td>\n",
       "      <td>Alceu Castro</td>\n",
       "      <td>Alceu</td>\n",
       "      <td>...</td>\n",
       "      <td>Burkenroad, 1936</td>\n",
       "      <td>Decapoda</td>\n",
       "      <td>Nan</td>\n",
       "      <td>Nan</td>\n",
       "      <td>Nan</td>\n",
       "      <td>Penaeidae</td>\n",
       "      <td>Nan</td>\n",
       "      <td>Penaeini</td>\n",
       "      <td>NaN</td>\n",
       "      <td>1969.0</td>\n",
       "    </tr>\n",
       "    <tr>\n",
       "      <td>1</td>\n",
       "      <td>1980</td>\n",
       "      <td>15</td>\n",
       "      <td>Malacostraca</td>\n",
       "      <td>Animalia</td>\n",
       "      <td>Penaeus</td>\n",
       "      <td>Schmitti</td>\n",
       "      <td>Penaeus schmitti</td>\n",
       "      <td>NaN</td>\n",
       "      <td>Alceu Castro</td>\n",
       "      <td>Alceu</td>\n",
       "      <td>...</td>\n",
       "      <td>Burkenroad, 1936</td>\n",
       "      <td>Decapoda</td>\n",
       "      <td>Nan</td>\n",
       "      <td>Nan</td>\n",
       "      <td>Nan</td>\n",
       "      <td>Penaeidae</td>\n",
       "      <td>Nan</td>\n",
       "      <td>Penaeini</td>\n",
       "      <td>NaN</td>\n",
       "      <td>NaN</td>\n",
       "    </tr>\n",
       "  </tbody>\n",
       "</table>\n",
       "<p>2 rows × 23 columns</p>\n",
       "</div>"
      ],
      "text/plain": [
       "   cataloged_year count         class   kingdom    genus   species  \\\n",
       "0            1980     5  Malacostraca  Animalia  Penaeus  Schmitti   \n",
       "1            1980    15  Malacostraca  Animalia  Penaeus  Schmitti   \n",
       "\n",
       "  genus_and_species type_status determiner_first_and_last_name  \\\n",
       "0  Penaeus schmitti         NaN                   Alceu Castro   \n",
       "1  Penaeus schmitti         NaN                   Alceu Castro   \n",
       "\n",
       "  determiner_first_name  ...    species_author     order suborder infraorder  \\\n",
       "0                 Alceu  ...  Burkenroad, 1936  Decapoda      Nan        Nan   \n",
       "1                 Alceu  ...  Burkenroad, 1936  Decapoda      Nan        Nan   \n",
       "\n",
       "  superfamily     family subfamily     tribe determined_year start_year  \n",
       "0         Nan  Penaeidae       Nan  Penaeini             NaN     1969.0  \n",
       "1         Nan  Penaeidae       Nan  Penaeini             NaN        NaN  \n",
       "\n",
       "[2 rows x 23 columns]"
      ]
     },
     "execution_count": 15,
     "metadata": {},
     "output_type": "execute_result"
    }
   ],
   "source": [
    "# slicing main database (crustaceas)\n",
    "Table = crustaceas[['Cataloged Date','Determined Date1','Start Date','Class1','Kingdom', \n",
    "                    'Genus1', 'Species1', 'Type Status1',\n",
    "                   'Determiner First_and_Last Name', 'Determiner First Name1',\n",
    "                   'Determiner Last Name1', 'genus_and_species','Min Depth', 'Max Depth', 'Count 1',\n",
    "                   'Species Author1', 'Order1', 'Suborder1', 'Infraorder1',\n",
    "                   'Superfamily1', 'Family1', 'Subfamily1', 'Tribe1']].copy()\n",
    "\n",
    "# OBS: Determined Date1 tem muitos valores faltantes... VERIFICAR ISSO\n",
    "d = []\n",
    "counter=0\n",
    "for row in Table['Cataloged Date']:\n",
    "    if not str(row).find('/')==-1:\n",
    "        dates_values = str(row).split(\"/\")\n",
    "        year = int(dates_values[0])\n",
    "        month = int(dates_values[1])\n",
    "        if (month>1) and (month<12):\n",
    "            #store the year and month in a datetime datatype for later sorting\n",
    "            dateRecord = datetime.datetime(year,month,1)    \n",
    "            \n",
    "    d.append({'cataloged_year':year, 'count':Table.loc[counter,'Count 1'],\n",
    "              'class':Table.loc[counter,'Class1'],\n",
    "              'kingdom':Table.loc[counter,'Kingdom'], 'genus':Table.loc[counter,'Genus1'],\n",
    "              'species':Table.loc[counter,'Species1'],\n",
    "              'genus_and_species': Table.loc[counter,'genus_and_species'],\n",
    "              'type_status':Table.loc[counter,'Type Status1'], \n",
    "              'determiner_first_and_last_name':Table.loc[counter,'Determiner First_and_Last Name'],\n",
    "              'determiner_first_name':Table.loc[counter,'Determiner First Name1'],\n",
    "              'determiner_last_name':Table.loc[counter,'Determiner Last Name1'],\n",
    "              'min_depth':Table.loc[counter,'Min Depth'],\n",
    "              'max_depth':Table.loc[counter,'Max Depth'],\n",
    "              'species_author':Table.loc[counter,'Species Author1'],\n",
    "              'order':Table.loc[counter,'Order1'],\n",
    "              'suborder':Table.loc[counter,'Suborder1'],\n",
    "              'infraorder':Table.loc[counter, 'Infraorder1'],\n",
    "              'superfamily':Table.loc[counter,'Superfamily1'],\n",
    "              'family':Table.loc[counter,'Family1'],\n",
    "              'subfamily':Table.loc[counter,'Subfamily1'],\n",
    "              'tribe':Table.loc[counter,'Tribe1']\n",
    "             })\n",
    "    counter = counter+1\n",
    "\n",
    "NewTable = pd.DataFrame(d)\n",
    "\n",
    "\n",
    "### collecting determined year (p.s.: being careful to keep NaNs as they show up)\n",
    "NewTable['determined_year'] = np.nan\n",
    "\n",
    "d1 = []\n",
    "counter=0\n",
    "for row in Table['Determined Date1']:\n",
    "    try:  # if Determined Date1 is empty, keep it so \n",
    "        if np.isnan(row):\n",
    "            year= np.NAN\n",
    "    \n",
    "    except:\n",
    "        if not str(row).find('/')==-1:\n",
    "            dates_values = str(row).split(\"/\")\n",
    "            year = int(dates_values[0])\n",
    "            month = int(dates_values[1])\n",
    "            if (month>1) and (month<12):\n",
    "                #store the year and month in a datetime datatype for later sorting\n",
    "                dateRecord = datetime.datetime(year,month,1)    \n",
    "    \n",
    "    NewTable.loc[counter, 'determined_year'] = year\n",
    "    counter = counter+1\n",
    "\n",
    "    \n",
    "### collecting start year (p.s.: being careful to keep NaNs as they show up)  \n",
    "NewTable['start_year'] = np.nan\n",
    "d1 = []\n",
    "counter=0\n",
    "for row in Table['Start Date']:\n",
    "    try:  # if Start Date is empty, keep it so \n",
    "        if np.isnan(row):\n",
    "            year= np.NAN\n",
    "    \n",
    "    except:\n",
    "        if not str(row).find('/')==-1:\n",
    "            dates_values = str(row).split(\"/\")\n",
    "            year = int(dates_values[0])\n",
    "            month = int(dates_values[1])\n",
    "            if (month>1) and (month<12):\n",
    "                #store the year and month in a datetime datatype for later sorting\n",
    "                dateRecord = datetime.datetime(year,month,1)    \n",
    "\n",
    "    NewTable.loc[counter, 'start_year'] = year\n",
    "    counter = counter+1\n",
    "\n",
    "# NewTable['determined_year'] = pd.Series(year, index=NewTable.index)\n",
    "NewTable.head(2)"
   ]
  },
  {
   "cell_type": "code",
   "execution_count": 16,
   "metadata": {
    "ExecuteTime": {
     "end_time": "2020-02-28T19:26:20.194697Z",
     "start_time": "2020-02-28T19:26:20.174634Z"
    }
   },
   "outputs": [
    {
     "name": "stdout",
     "output_type": "stream",
     "text": [
      "Start year info is valid.\n"
     ]
    }
   ],
   "source": [
    "# checks if NaNs are in the same position \n",
    "result = (NewTable['start_year'].isna() == crustaceas['Start Date'].isna()).sum() == NewTable.shape[0]\n",
    "\n",
    "if result:\n",
    "    print('Start year info is valid.')\n",
    "else:\n",
    "    print(\"There's something wrong with NewTable. Check how you're collecting Start Year info.\")"
   ]
  },
  {
   "cell_type": "code",
   "execution_count": 17,
   "metadata": {
    "ExecuteTime": {
     "end_time": "2020-02-28T19:26:20.446286Z",
     "start_time": "2020-02-28T19:26:20.197534Z"
    }
   },
   "outputs": [],
   "source": [
    "# year in which the holotipo was \"firstly\" found \n",
    "NewTable['holotipo_year'] = NewTable['species_author'].str.extract('(\\d+)')"
   ]
  },
  {
   "cell_type": "markdown",
   "metadata": {},
   "source": [
    "<br>\n",
    "\n",
    "### creating `years` columns in crustaceas"
   ]
  },
  {
   "cell_type": "code",
   "execution_count": 18,
   "metadata": {
    "ExecuteTime": {
     "end_time": "2020-02-28T19:26:20.477654Z",
     "start_time": "2020-02-28T19:26:20.449700Z"
    }
   },
   "outputs": [],
   "source": [
    "def catch_year(row):\n",
    "    if not str(row).find('/')==-1:\n",
    "        dates_values = str(row).split(\"/\")\n",
    "        year = int(dates_values[0])\n",
    "        month = int(dates_values[1])\n",
    "        return year\n",
    "    else:\n",
    "        return np.NaN"
   ]
  },
  {
   "cell_type": "code",
   "execution_count": 19,
   "metadata": {
    "ExecuteTime": {
     "end_time": "2020-02-28T19:26:20.978301Z",
     "start_time": "2020-02-28T19:26:20.480423Z"
    }
   },
   "outputs": [],
   "source": [
    "crustaceas['determined_year'] = crustaceas['Determined Date1'].apply(catch_year)\n",
    "crustaceas['start_year'] = crustaceas['Start Date'].apply(catch_year)\n",
    "crustaceas['cataloged_year'] = crustaceas['Cataloged Date'].apply(catch_year)\n",
    "crustaceas['holotipo_year'] = crustaceas['Species Author1'].str.extract('(\\d+)')"
   ]
  },
  {
   "cell_type": "markdown",
   "metadata": {},
   "source": [
    "<br>\n",
    "\n",
    "\n",
    "## Graph\n",
    "\n",
    "---\n",
    "\n",
    "### Depth\n",
    "\n",
    "First, let's make some adjustments to prepare all the data we need for this chart."
   ]
  },
  {
   "cell_type": "markdown",
   "metadata": {},
   "source": [
    "#### adjusting columns `determined_year`, `cataloged_year` and `start_year` to ```*int*``` format "
   ]
  },
  {
   "cell_type": "code",
   "execution_count": 20,
   "metadata": {
    "ExecuteTime": {
     "end_time": "2020-02-28T19:26:20.986713Z",
     "start_time": "2020-02-28T19:26:20.981383Z"
    }
   },
   "outputs": [],
   "source": [
    "def str_with_nan2int(string):\n",
    "    if not np.isnan(string):\n",
    "        return int(string)\n",
    "    else:\n",
    "        return np.NAN"
   ]
  },
  {
   "cell_type": "code",
   "execution_count": 21,
   "metadata": {
    "ExecuteTime": {
     "end_time": "2020-02-28T19:26:21.298371Z",
     "start_time": "2020-02-28T19:26:20.990348Z"
    }
   },
   "outputs": [],
   "source": [
    "NewTable['determined_year'] = NewTable['determined_year'].apply(str_with_nan2int) #has NaN\n",
    "# NewTable['determined_year'] = NewTable['determined_year'].astype(int)\n",
    "NewTable['cataloged_year'] = NewTable['cataloged_year'].astype(int)\n",
    "NewTable['start_year'] = NewTable['start_year'].apply(str_with_nan2int) #has NaN"
   ]
  },
  {
   "cell_type": "markdown",
   "metadata": {},
   "source": [
    "#### removing duplicated rows as we took a subset of the main database"
   ]
  },
  {
   "cell_type": "code",
   "execution_count": 22,
   "metadata": {
    "ExecuteTime": {
     "end_time": "2020-02-28T19:26:21.646021Z",
     "start_time": "2020-02-28T19:26:21.302306Z"
    }
   },
   "outputs": [
    {
     "name": "stdout",
     "output_type": "stream",
     "text": [
      "Duplicated registers: 7001\n"
     ]
    }
   ],
   "source": [
    "teste1 = NewTable.drop_duplicates().copy()  # removes duplicated rows (with same values in ALL columns)\n",
    "print('Duplicated registers:',NewTable.shape[0] - NewTable.drop_duplicates().shape[0])\n",
    "# teste1.head(2)"
   ]
  },
  {
   "cell_type": "markdown",
   "metadata": {},
   "source": [
    "<br>\n",
    "\n",
    "### Creating chart: number of cataloged animals per depth"
   ]
  },
  {
   "cell_type": "markdown",
   "metadata": {},
   "source": [
    "<br>\n",
    "\n",
    "#### defining some parameters"
   ]
  },
  {
   "cell_type": "code",
   "execution_count": 23,
   "metadata": {
    "ExecuteTime": {
     "end_time": "2020-02-28T19:26:21.668021Z",
     "start_time": "2020-02-28T19:26:21.656770Z"
    }
   },
   "outputs": [],
   "source": [
    "colors = ['#d62728', '#f58518', '#d95f02',\n",
    "          '#d62729', '#f58519', '#d95f03',\n",
    "          '#4daf4a', '#8c6d31',\n",
    "          '#79706e', '#bab0ac', '#d8b5a5'\n",
    "         ]\n",
    "\n",
    "types = ['Holotipo', 'Alotipo', 'Neotipo',\n",
    "          'Sintipo', 'Lectotipo', 'Paralectotipo',\n",
    "          'Paratipo', 'Topotipo', \n",
    "          'Tipo', 'Co-tipo', 'Material tipo'\n",
    "        ]\n",
    "\n",
    "opacities= [1, 1, 1,\n",
    "           0.4,0.4,0.4,\n",
    "           1,1,1,\n",
    "           1,1,1]\n",
    "\n",
    "# creating dictionary with type:color\n",
    "type_color = defaultdict()\n",
    "for t in range(len(types)):\n",
    "    type_color[types[t]] = colors[t] "
   ]
  },
  {
   "cell_type": "markdown",
   "metadata": {},
   "source": [
    "### separating and grouping types"
   ]
  },
  {
   "cell_type": "code",
   "execution_count": 24,
   "metadata": {
    "ExecuteTime": {
     "end_time": "2020-02-28T19:26:21.812045Z",
     "start_time": "2020-02-28T19:26:21.673760Z"
    }
   },
   "outputs": [],
   "source": [
    "# different orders\n",
    "orders = teste1['order'].unique()\n",
    "\n",
    "# types\n",
    "types = teste1['type_status'].unique()\n",
    "\n",
    "group_types = []\n",
    "for t in types:\n",
    "    if t not in ['Holotipo', 'Alotipo', 'Paratipo']:\n",
    "        group_types.append(t)\n",
    "\n",
    "group_types = [i for i in group_types if 'nan' not in str(i)]  # removing nan"
   ]
  },
  {
   "cell_type": "markdown",
   "metadata": {},
   "source": [
    "<br>\n",
    "\n",
    "### Graph\n",
    "\n",
    "<font color='red'>**OBS:** Nesse gráfico ainda há pontos sobrepostos. Pensar como corrigir isso... </font>"
   ]
  },
  {
   "cell_type": "code",
   "execution_count": 25,
   "metadata": {
    "ExecuteTime": {
     "end_time": "2020-02-28T19:26:21.982385Z",
     "start_time": "2020-02-28T19:26:21.815752Z"
    }
   },
   "outputs": [
    {
     "data": {
      "text/plain": [
       "0"
      ]
     },
     "execution_count": 25,
     "metadata": {},
     "output_type": "execute_result"
    }
   ],
   "source": [
    "# contango catalog. por ano, type e profundidade.\n",
    "t = teste1.groupby(['start_year','type_status','min_depth', 'count']).count()['class'].reset_index()\n",
    "t.rename(columns={'class':'reg_counts'}, inplace=True)\n",
    "t['type_status'].isna().sum()  # nenhum NaN"
   ]
  },
  {
   "cell_type": "markdown",
   "metadata": {},
   "source": [
    "### Types per depth"
   ]
  },
  {
   "cell_type": "code",
   "execution_count": 26,
   "metadata": {
    "ExecuteTime": {
     "end_time": "2020-02-28T19:26:22.057167Z",
     "start_time": "2020-02-28T19:26:21.985490Z"
    }
   },
   "outputs": [],
   "source": [
    "t = teste1[~teste1['type_status'].isna()].copy()\n",
    "t = t.groupby(['start_year', 'min_depth']).count()['count'].reset_index()"
   ]
  },
  {
   "cell_type": "code",
   "execution_count": 27,
   "metadata": {
    "ExecuteTime": {
     "end_time": "2020-02-28T19:26:22.152330Z",
     "start_time": "2020-02-28T19:26:22.060008Z"
    }
   },
   "outputs": [],
   "source": [
    "# defining range of y axis\n",
    "l = []\n",
    "for depth in t['min_depth']:\n",
    "    try:\n",
    "        l.append(float(depth))\n",
    "    except:\n",
    "        pass\n",
    "    \n",
    "max_y = max(l)\n",
    "min_y = min(l)"
   ]
  },
  {
   "cell_type": "code",
   "execution_count": 28,
   "metadata": {
    "ExecuteTime": {
     "end_time": "2020-02-28T19:26:26.968715Z",
     "start_time": "2020-02-28T19:26:22.154463Z"
    }
   },
   "outputs": [
    {
     "data": {
      "application/javascript": [
       "const spec = {\"config\": {\"view\": {\"width\": 400, \"height\": 300}, \"mark\": {\"tooltip\": null}}, \"data\": {\"name\": \"data-bf9f47604788660e836881b89e0c9eae\"}, \"mark\": {\"type\": \"circle\", \"color\": \"red\"}, \"encoding\": {\"size\": {\"type\": \"quantitative\", \"field\": \"count\", \"legend\": {\"title\": \"Quantity\"}}, \"x\": {\"type\": \"ordinal\", \"field\": \"start_year\", \"title\": \"Year\"}, \"y\": {\"type\": \"quantitative\", \"field\": \"min_depth\", \"scale\": {\"domain\": [5029.0, 0.0]}, \"title\": \"Depth\"}}, \"height\": 400, \"title\": \"Depth of cataloged types per year\", \"width\": 800, \"$schema\": \"https://vega.github.io/schema/vega-lite/v3.4.0.json\", \"datasets\": {\"data-bf9f47604788660e836881b89e0c9eae\": [{\"start_year\": 1903.0, \"min_depth\": \"0\", \"count\": 4}, {\"start_year\": 1903.0, \"min_depth\": \"100\", \"count\": 1}, {\"start_year\": 1910.0, \"min_depth\": \"0\", \"count\": 3}, {\"start_year\": 1911.0, \"min_depth\": \"0\", \"count\": 1}, {\"start_year\": 1914.0, \"min_depth\": \"0\", \"count\": 1}, {\"start_year\": 1927.0, \"min_depth\": \"0\", \"count\": 1}, {\"start_year\": 1938.0, \"min_depth\": \"0\", \"count\": 1}, {\"start_year\": 1939.0, \"min_depth\": \"0\", \"count\": 2}, {\"start_year\": 1940.0, \"min_depth\": \"0\", \"count\": 1}, {\"start_year\": 1941.0, \"min_depth\": \"0\", \"count\": 2}, {\"start_year\": 1942.0, \"min_depth\": \"0\", \"count\": 1}, {\"start_year\": 1943.0, \"min_depth\": \"0\", \"count\": 1}, {\"start_year\": 1944.0, \"min_depth\": \"0\", \"count\": 4}, {\"start_year\": 1945.0, \"min_depth\": \"0\", \"count\": 2}, {\"start_year\": 1946.0, \"min_depth\": \"0\", \"count\": 1}, {\"start_year\": 1947.0, \"min_depth\": \"0\", \"count\": 3}, {\"start_year\": 1948.0, \"min_depth\": \"0\", \"count\": 5}, {\"start_year\": 1950.0, \"min_depth\": \"0\", \"count\": 10}, {\"start_year\": 1950.0, \"min_depth\": \"5029\", \"count\": 1}, {\"start_year\": 1951.0, \"min_depth\": \"0\", \"count\": 7}, {\"start_year\": 1951.0, \"min_depth\": \"4940\", \"count\": 1}, {\"start_year\": 1952.0, \"min_depth\": \"0\", \"count\": 8}, {\"start_year\": 1952.0, \"min_depth\": \"2530\", \"count\": 1}, {\"start_year\": 1953.0, \"min_depth\": \"0\", \"count\": 5}, {\"start_year\": 1955.0, \"min_depth\": \"0\", \"count\": 6}, {\"start_year\": 1956.0, \"min_depth\": \"0\", \"count\": 5}, {\"start_year\": 1957.0, \"min_depth\": \"0\", \"count\": 5}, {\"start_year\": 1958.0, \"min_depth\": \"0\", \"count\": 4}, {\"start_year\": 1959.0, \"min_depth\": \"0\", \"count\": 12}, {\"start_year\": 1959.0, \"min_depth\": \"1.5\", \"count\": 2}, {\"start_year\": 1960.0, \"min_depth\": \"0\", \"count\": 3}, {\"start_year\": 1961.0, \"min_depth\": \"0\", \"count\": 5}, {\"start_year\": 1961.0, \"min_depth\": \"12\", \"count\": 1}, {\"start_year\": 1961.0, \"min_depth\": \"18\", \"count\": 1}, {\"start_year\": 1961.0, \"min_depth\": \"20\", \"count\": 1}, {\"start_year\": 1961.0, \"min_depth\": \"3\", \"count\": 1}, {\"start_year\": 1961.0, \"min_depth\": \"6\", \"count\": 1}, {\"start_year\": 1962.0, \"min_depth\": \"0\", \"count\": 3}, {\"start_year\": 1962.0, \"min_depth\": \"1\", \"count\": 1}, {\"start_year\": 1962.0, \"min_depth\": \"20\", \"count\": 1}, {\"start_year\": 1962.0, \"min_depth\": \"3\", \"count\": 1}, {\"start_year\": 1962.0, \"min_depth\": \"6\", \"count\": 4}, {\"start_year\": 1962.0, \"min_depth\": \"6.5\", \"count\": 1}, {\"start_year\": 1963.0, \"min_depth\": \"0\", \"count\": 8}, {\"start_year\": 1963.0, \"min_depth\": \"18\", \"count\": 2}, {\"start_year\": 1964.0, \"min_depth\": \"0\", \"count\": 25}, {\"start_year\": 1965.0, \"min_depth\": \"0\", \"count\": 16}, {\"start_year\": 1966.0, \"min_depth\": \"0\", \"count\": 8}, {\"start_year\": 1966.0, \"min_depth\": \"133\", \"count\": 2}, {\"start_year\": 1967.0, \"min_depth\": \"0\", \"count\": 16}, {\"start_year\": 1968.0, \"min_depth\": \"0\", \"count\": 6}, {\"start_year\": 1968.0, \"min_depth\": \"132\", \"count\": 1}, {\"start_year\": 1969.0, \"min_depth\": \"0\", \"count\": 10}, {\"start_year\": 1969.0, \"min_depth\": \"12\", \"count\": 1}, {\"start_year\": 1969.0, \"min_depth\": \"31\", \"count\": 1}, {\"start_year\": 1970.0, \"min_depth\": \"0\", \"count\": 4}, {\"start_year\": 1970.0, \"min_depth\": \"113\", \"count\": 1}, {\"start_year\": 1970.0, \"min_depth\": \"118\", \"count\": 1}, {\"start_year\": 1970.0, \"min_depth\": \"128\", \"count\": 1}, {\"start_year\": 1970.0, \"min_depth\": \"135\", \"count\": 1}, {\"start_year\": 1970.0, \"min_depth\": \"29\", \"count\": 1}, {\"start_year\": 1970.0, \"min_depth\": \"34\", \"count\": 1}, {\"start_year\": 1970.0, \"min_depth\": \"58\", \"count\": 1}, {\"start_year\": 1971.0, \"min_depth\": \"0\", \"count\": 4}, {\"start_year\": 1971.0, \"min_depth\": \"22\", \"count\": 1}, {\"start_year\": 1971.0, \"min_depth\": \"52\", \"count\": 1}, {\"start_year\": 1972.0, \"min_depth\": \"0\", \"count\": 2}, {\"start_year\": 1973.0, \"min_depth\": \"0\", \"count\": 10}, {\"start_year\": 1973.0, \"min_depth\": \"280\", \"count\": 2}, {\"start_year\": 1974.0, \"min_depth\": \"0\", \"count\": 3}, {\"start_year\": 1975.0, \"min_depth\": \"0\", \"count\": 4}, {\"start_year\": 1976.0, \"min_depth\": \"0\", \"count\": 5}, {\"start_year\": 1977.0, \"min_depth\": \"0\", \"count\": 1}, {\"start_year\": 1978.0, \"min_depth\": \"0\", \"count\": 1}, {\"start_year\": 1979.0, \"min_depth\": \"0\", \"count\": 2}, {\"start_year\": 1980.0, \"min_depth\": \"0\", \"count\": 7}, {\"start_year\": 1981.0, \"min_depth\": \"0\", \"count\": 1}, {\"start_year\": 1982.0, \"min_depth\": \"0\", \"count\": 1}, {\"start_year\": 1983.0, \"min_depth\": \"0\", \"count\": 9}, {\"start_year\": 1984.0, \"min_depth\": \"0\", \"count\": 2}, {\"start_year\": 1985.0, \"min_depth\": \"0\", \"count\": 6}, {\"start_year\": 1985.0, \"min_depth\": \"1875\", \"count\": 2}, {\"start_year\": 1986.0, \"min_depth\": \"0\", \"count\": 5}, {\"start_year\": 1987.0, \"min_depth\": \"0\", \"count\": 18}, {\"start_year\": 1987.0, \"min_depth\": \"295\", \"count\": 1}, {\"start_year\": 1988.0, \"min_depth\": \"0\", \"count\": 4}, {\"start_year\": 1988.0, \"min_depth\": \"20\", \"count\": 3}, {\"start_year\": 1989.0, \"min_depth\": \"0\", \"count\": 8}, {\"start_year\": 1989.0, \"min_depth\": \"10\", \"count\": 1}, {\"start_year\": 1989.0, \"min_depth\": \"5\", \"count\": 2}, {\"start_year\": 1990.0, \"min_depth\": \"0\", \"count\": 1}, {\"start_year\": 1991.0, \"min_depth\": \"0\", \"count\": 3}, {\"start_year\": 1992.0, \"min_depth\": \"0\", \"count\": 13}, {\"start_year\": 1992.0, \"min_depth\": \"16\", \"count\": 1}, {\"start_year\": 1992.0, \"min_depth\": \"23\", \"count\": 1}, {\"start_year\": 1992.0, \"min_depth\": \"33\", \"count\": 1}, {\"start_year\": 1992.0, \"min_depth\": \"38\", \"count\": 1}, {\"start_year\": 1992.0, \"min_depth\": \"750\", \"count\": 1}, {\"start_year\": 1993.0, \"min_depth\": \"0\", \"count\": 11}, {\"start_year\": 1994.0, \"min_depth\": \"0\", \"count\": 37}, {\"start_year\": 1994.0, \"min_depth\": \"7\", \"count\": 2}, {\"start_year\": 1995.0, \"min_depth\": \"0\", \"count\": 36}, {\"start_year\": 1995.0, \"min_depth\": \"15\", \"count\": 2}, {\"start_year\": 1995.0, \"min_depth\": \"30\", \"count\": 10}, {\"start_year\": 1996.0, \"min_depth\": \"0\", \"count\": 18}, {\"start_year\": 1997.0, \"min_depth\": \"0\", \"count\": 38}, {\"start_year\": 1997.0, \"min_depth\": \"16\", \"count\": 1}, {\"start_year\": 1997.0, \"min_depth\": \"3\", \"count\": 1}, {\"start_year\": 1997.0, \"min_depth\": \"30\", \"count\": 1}, {\"start_year\": 1997.0, \"min_depth\": \"58\", \"count\": 1}, {\"start_year\": 1998.0, \"min_depth\": \"0\", \"count\": 13}, {\"start_year\": 1998.0, \"min_depth\": \"22\", \"count\": 4}, {\"start_year\": 1998.0, \"min_depth\": \"54\", \"count\": 1}, {\"start_year\": 1998.0, \"min_depth\": \"61.8\", \"count\": 1}, {\"start_year\": 1999.0, \"min_depth\": \"0\", \"count\": 10}, {\"start_year\": 1999.0, \"min_depth\": \"450\", \"count\": 1}, {\"start_year\": 1999.0, \"min_depth\": \"475\", \"count\": 1}, {\"start_year\": 1999.0, \"min_depth\": \"592\", \"count\": 1}, {\"start_year\": 2000.0, \"min_depth\": \"0\", \"count\": 35}, {\"start_year\": 2000.0, \"min_depth\": \"1\", \"count\": 1}, {\"start_year\": 2000.0, \"min_depth\": \"1026\", \"count\": 1}, {\"start_year\": 2000.0, \"min_depth\": \"1364\", \"count\": 1}, {\"start_year\": 2000.0, \"min_depth\": \"14\", \"count\": 1}, {\"start_year\": 2000.0, \"min_depth\": \"16\", \"count\": 4}, {\"start_year\": 2000.0, \"min_depth\": \"1718\", \"count\": 1}, {\"start_year\": 2000.0, \"min_depth\": \"19\", \"count\": 6}, {\"start_year\": 2000.0, \"min_depth\": \"20\", \"count\": 4}, {\"start_year\": 2000.0, \"min_depth\": \"25\", \"count\": 1}, {\"start_year\": 2000.0, \"min_depth\": \"394\", \"count\": 1}, {\"start_year\": 2000.0, \"min_depth\": \"40\", \"count\": 1}, {\"start_year\": 2000.0, \"min_depth\": \"42\", \"count\": 1}, {\"start_year\": 2000.0, \"min_depth\": \"573\", \"count\": 2}, {\"start_year\": 2000.0, \"min_depth\": \"623\", \"count\": 1}, {\"start_year\": 2000.0, \"min_depth\": \"666\", \"count\": 1}, {\"start_year\": 2000.0, \"min_depth\": \"70.7\", \"count\": 2}, {\"start_year\": 2000.0, \"min_depth\": \"740\", \"count\": 1}, {\"start_year\": 2000.0, \"min_depth\": \"744\", \"count\": 1}, {\"start_year\": 2001.0, \"min_depth\": \"0\", \"count\": 26}, {\"start_year\": 2001.0, \"min_depth\": \"1\", \"count\": 1}, {\"start_year\": 2001.0, \"min_depth\": \"100\", \"count\": 2}, {\"start_year\": 2001.0, \"min_depth\": \"108\", \"count\": 1}, {\"start_year\": 2001.0, \"min_depth\": \"1300\", \"count\": 1}, {\"start_year\": 2001.0, \"min_depth\": \"140\", \"count\": 1}, {\"start_year\": 2001.0, \"min_depth\": \"1566\", \"count\": 1}, {\"start_year\": 2001.0, \"min_depth\": \"1700\", \"count\": 2}, {\"start_year\": 2001.0, \"min_depth\": \"20\", \"count\": 5}, {\"start_year\": 2001.0, \"min_depth\": \"50\", \"count\": 7}, {\"start_year\": 2001.0, \"min_depth\": \"52\", \"count\": 1}, {\"start_year\": 2001.0, \"min_depth\": \"55\", \"count\": 5}, {\"start_year\": 2001.0, \"min_depth\": \"60\", \"count\": 2}, {\"start_year\": 2001.0, \"min_depth\": \"604\", \"count\": 1}, {\"start_year\": 2001.0, \"min_depth\": \"65\", \"count\": 9}, {\"start_year\": 2001.0, \"min_depth\": \"67\", \"count\": 2}, {\"start_year\": 2001.0, \"min_depth\": \"757\", \"count\": 1}, {\"start_year\": 2001.0, \"min_depth\": \"9\", \"count\": 1}, {\"start_year\": 2002.0, \"min_depth\": \"0\", \"count\": 8}, {\"start_year\": 2002.0, \"min_depth\": \"1045\", \"count\": 1}, {\"start_year\": 2002.0, \"min_depth\": \"1050\", \"count\": 15}, {\"start_year\": 2002.0, \"min_depth\": \"1100\", \"count\": 3}, {\"start_year\": 2002.0, \"min_depth\": \"1350\", \"count\": 10}, {\"start_year\": 2002.0, \"min_depth\": \"1650\", \"count\": 2}, {\"start_year\": 2002.0, \"min_depth\": \"1950\", \"count\": 2}, {\"start_year\": 2002.0, \"min_depth\": \"24\", \"count\": 1}, {\"start_year\": 2002.0, \"min_depth\": \"26\", \"count\": 3}, {\"start_year\": 2002.0, \"min_depth\": \"600\", \"count\": 1}, {\"start_year\": 2002.0, \"min_depth\": \"65\", \"count\": 1}, {\"start_year\": 2002.0, \"min_depth\": \"750\", \"count\": 16}, {\"start_year\": 2002.0, \"min_depth\": \"77\", \"count\": 8}, {\"start_year\": 2002.0, \"min_depth\": \"775\", \"count\": 4}, {\"start_year\": 2002.0, \"min_depth\": \"83\", \"count\": 1}, {\"start_year\": 2002.0, \"min_depth\": \"85\", \"count\": 1}, {\"start_year\": 2002.0, \"min_depth\": \"900\", \"count\": 3}, {\"start_year\": 2002.0, \"min_depth\": \"91\", \"count\": 2}, {\"start_year\": 2002.0, \"min_depth\": \"92\", \"count\": 1}, {\"start_year\": 2003.0, \"min_depth\": \"0\", \"count\": 3}, {\"start_year\": 2003.0, \"min_depth\": \"1\", \"count\": 3}, {\"start_year\": 2003.0, \"min_depth\": \"1050\", \"count\": 14}, {\"start_year\": 2003.0, \"min_depth\": \"1127\", \"count\": 1}, {\"start_year\": 2003.0, \"min_depth\": \"1144\", \"count\": 1}, {\"start_year\": 2003.0, \"min_depth\": \"1628\", \"count\": 1}, {\"start_year\": 2003.0, \"min_depth\": \"1650\", \"count\": 3}, {\"start_year\": 2003.0, \"min_depth\": \"1950\", \"count\": 3}, {\"start_year\": 2003.0, \"min_depth\": \"31\", \"count\": 1}, {\"start_year\": 2003.0, \"min_depth\": \"36\", \"count\": 1}, {\"start_year\": 2003.0, \"min_depth\": \"750\", \"count\": 22}, {\"start_year\": 2004.0, \"min_depth\": \"0\", \"count\": 2}, {\"start_year\": 2004.0, \"min_depth\": \"50\", \"count\": 3}, {\"start_year\": 2004.0, \"min_depth\": \"60\", \"count\": 1}, {\"start_year\": 2005.0, \"min_depth\": \"0\", \"count\": 5}, {\"start_year\": 2005.0, \"min_depth\": \"2\", \"count\": 3}, {\"start_year\": 2006.0, \"min_depth\": \"0\", \"count\": 2}, {\"start_year\": 2006.0, \"min_depth\": \"1058\", \"count\": 1}, {\"start_year\": 2006.0, \"min_depth\": \"58\", \"count\": 2}, {\"start_year\": 2007.0, \"min_depth\": \"0\", \"count\": 6}, {\"start_year\": 2008.0, \"min_depth\": \"0\", \"count\": 6}, {\"start_year\": 2008.0, \"min_depth\": \"1147\", \"count\": 2}, {\"start_year\": 2008.0, \"min_depth\": \"1293\", \"count\": 1}, {\"start_year\": 2008.0, \"min_depth\": \"2\", \"count\": 1}, {\"start_year\": 2008.0, \"min_depth\": \"390\", \"count\": 1}, {\"start_year\": 2008.0, \"min_depth\": \"393\", \"count\": 1}, {\"start_year\": 2008.0, \"min_depth\": \"402\", \"count\": 1}, {\"start_year\": 2008.0, \"min_depth\": \"50\", \"count\": 2}, {\"start_year\": 2008.0, \"min_depth\": \"60\", \"count\": 1}, {\"start_year\": 2008.0, \"min_depth\": \"610\", \"count\": 1}, {\"start_year\": 2008.0, \"min_depth\": \"705\", \"count\": 1}, {\"start_year\": 2008.0, \"min_depth\": \"986\", \"count\": 1}, {\"start_year\": 2008.0, \"min_depth\": \"992\", \"count\": 1}, {\"start_year\": 2009.0, \"min_depth\": \"0\", \"count\": 5}, {\"start_year\": 2009.0, \"min_depth\": \"105\", \"count\": 1}, {\"start_year\": 2009.0, \"min_depth\": \"1153\", \"count\": 2}, {\"start_year\": 2009.0, \"min_depth\": \"117\", \"count\": 1}, {\"start_year\": 2009.0, \"min_depth\": \"120\", \"count\": 2}, {\"start_year\": 2009.0, \"min_depth\": \"125\", \"count\": 2}, {\"start_year\": 2009.0, \"min_depth\": \"150\", \"count\": 1}, {\"start_year\": 2009.0, \"min_depth\": \"20\", \"count\": 2}, {\"start_year\": 2009.0, \"min_depth\": \"21\", \"count\": 2}, {\"start_year\": 2009.0, \"min_depth\": \"22\", \"count\": 2}, {\"start_year\": 2009.0, \"min_depth\": \"26\", \"count\": 2}, {\"start_year\": 2009.0, \"min_depth\": \"29\", \"count\": 1}, {\"start_year\": 2009.0, \"min_depth\": \"621\", \"count\": 1}, {\"start_year\": 2009.0, \"min_depth\": \"702\", \"count\": 1}, {\"start_year\": 2009.0, \"min_depth\": \"92\", \"count\": 1}, {\"start_year\": 2010.0, \"min_depth\": \"0\", \"count\": 3}, {\"start_year\": 2011.0, \"min_depth\": \"0\", \"count\": 5}, {\"start_year\": 2011.0, \"min_depth\": \"2014\", \"count\": 1}, {\"start_year\": 2012.0, \"min_depth\": \"0\", \"count\": 2}, {\"start_year\": 2012.0, \"min_depth\": \"6\", \"count\": 1}, {\"start_year\": 2013.0, \"min_depth\": \"0\", \"count\": 2}, {\"start_year\": 2013.0, \"min_depth\": \"3\", \"count\": 3}, {\"start_year\": 2014.0, \"min_depth\": \"0\", \"count\": 2}, {\"start_year\": 2015.0, \"min_depth\": \"0\", \"count\": 1}, {\"start_year\": 2015.0, \"min_depth\": \"1\", \"count\": 3}]}};\n",
       "const opt = {};\n",
       "const type = \"vega-lite\";\n",
       "const id = \"8eba8a75-bf99-4140-a7cb-162999b32994\";\n",
       "\n",
       "const output_area = this;\n",
       "\n",
       "require([\"nbextensions/jupyter-vega/index\"], function(vega) {\n",
       "  const target = document.createElement(\"div\");\n",
       "  target.id = id;\n",
       "  target.className = \"vega-embed\";\n",
       "\n",
       "  const style = document.createElement(\"style\");\n",
       "  style.textContent = [\n",
       "    \".vega-embed .error p {\",\n",
       "    \"  color: firebrick;\",\n",
       "    \"  font-size: 14px;\",\n",
       "    \"}\",\n",
       "  ].join(\"\\\\n\");\n",
       "\n",
       "  // element is a jQuery wrapped DOM element inside the output area\n",
       "  // see http://ipython.readthedocs.io/en/stable/api/generated/\\\n",
       "  // IPython.display.html#IPython.display.Javascript.__init__\n",
       "  element[0].appendChild(target);\n",
       "  element[0].appendChild(style);\n",
       "\n",
       "  vega.render(\"#\" + id, spec, type, opt, output_area);\n",
       "}, function (err) {\n",
       "  if (err.requireType !== \"scripterror\") {\n",
       "    throw(err);\n",
       "  }\n",
       "});\n"
      ],
      "text/plain": [
       "<vega.vegalite.VegaLite at 0x7f7e201fc0d0>"
      ]
     },
     "metadata": {
      "jupyter-vega": "#8eba8a75-bf99-4140-a7cb-162999b32994"
     },
     "output_type": "display_data"
    },
    {
     "data": {
      "image/png": "[encoded data removed]"
     },
     "metadata": {
      "jupyter-vega": "#8eba8a75-bf99-4140-a7cb-162999b32994"
     },
     "output_type": "display_data"
    },
    {
     "data": {
      "text/plain": []
     },
     "execution_count": 28,
     "metadata": {},
     "output_type": "execute_result"
    }
   ],
   "source": [
    "# p.s.: I'm not considering the non-types\n",
    "g1 = alt.Chart(t, title='Depth of cataloged types per year',\n",
    "              height=400, width=800).mark_circle(color='red').encode(\n",
    "    x= alt.X('start_year', type='ordinal', title='Year'),\n",
    "    y= alt.Y('min_depth', type='quantitative', title='Depth', scale=alt.Scale(domain=[max_y,min_y])),\n",
    "    size=alt.Size('count',type= 'quantitative', legend=alt.Legend(title='Quantity'))\n",
    ")\n",
    "\n",
    "# salvando o gráfico\n",
    "# g1.save('./depth/types_per_year.svg')\n",
    "# g1.save('./depth/types_per_year.png')\n",
    "# g1.save('./depth/types_per_year.html')\n",
    "\n",
    "g1"
   ]
  },
  {
   "cell_type": "markdown",
   "metadata": {},
   "source": [
    "### Non-types per depth"
   ]
  },
  {
   "cell_type": "code",
   "execution_count": 29,
   "metadata": {
    "ExecuteTime": {
     "end_time": "2020-02-28T19:26:27.097690Z",
     "start_time": "2020-02-28T19:26:26.971959Z"
    }
   },
   "outputs": [],
   "source": [
    "t = teste1[teste1['type_status'].isna()].copy()\n",
    "t = t.groupby(['start_year', 'min_depth']).count()['count'].reset_index()"
   ]
  },
  {
   "cell_type": "code",
   "execution_count": 30,
   "metadata": {
    "ExecuteTime": {
     "end_time": "2020-02-28T19:26:27.155339Z",
     "start_time": "2020-02-28T19:26:27.100843Z"
    }
   },
   "outputs": [],
   "source": [
    "# defining range of y axis\n",
    "l = []\n",
    "for depth in t['min_depth']:\n",
    "    try:\n",
    "        l.append(float(depth))\n",
    "    except:\n",
    "        pass\n",
    "    \n",
    "max_y = max(l)\n",
    "min_y = min(l)"
   ]
  },
  {
   "cell_type": "code",
   "execution_count": 31,
   "metadata": {
    "ExecuteTime": {
     "end_time": "2020-02-28T19:26:31.600765Z",
     "start_time": "2020-02-28T19:26:27.157790Z"
    }
   },
   "outputs": [
    {
     "data": {
      "application/javascript": [
       "const spec = {\"config\": {\"view\": {\"width\": 400, \"height\": 300}, \"mark\": {\"tooltip\": null}}, \"data\": {\"name\": \"data-dd071a6f5a764b58091b59d9090951a9\"}, \"mark\": \"circle\", \"encoding\": {\"size\": {\"type\": \"quantitative\", \"field\": \"count\", \"legend\": {\"title\": \"Quantity\"}}, \"x\": {\"type\": \"ordinal\", \"field\": \"start_year\", \"title\": \"Year\"}, \"y\": {\"type\": \"quantitative\", \"field\": \"min_depth\", \"scale\": {\"domain\": [6901.0, 0.0]}, \"title\": \"Depth\"}}, \"height\": 400, \"title\": \"Depth of cataloged non-types per year\", \"width\": 800, \"$schema\": \"https://vega.github.io/schema/vega-lite/v3.4.0.json\", \"datasets\": {\"data-dd071a6f5a764b58091b59d9090951a9\": [{\"start_year\": 27.0, \"min_depth\": \"53 m\", \"count\": 1}, {\"start_year\": 1871.0, \"min_depth\": \"0\", \"count\": 1}, {\"start_year\": 1877.0, \"min_depth\": \"0\", \"count\": 1}, {\"start_year\": 1880.0, \"min_depth\": \"0\", \"count\": 1}, {\"start_year\": 1892.0, \"min_depth\": \"0\", \"count\": 1}, {\"start_year\": 1898.0, \"min_depth\": \"0\", \"count\": 1}, {\"start_year\": 1901.0, \"min_depth\": \"0\", \"count\": 10}, {\"start_year\": 1902.0, \"min_depth\": \"0\", \"count\": 2}, {\"start_year\": 1903.0, \"min_depth\": \"0\", \"count\": 18}, {\"start_year\": 1903.0, \"min_depth\": \"100\", \"count\": 1}, {\"start_year\": 1904.0, \"min_depth\": \"0\", \"count\": 1}, {\"start_year\": 1905.0, \"min_depth\": \"0\", \"count\": 4}, {\"start_year\": 1905.0, \"min_depth\": \"1637\", \"count\": 1}, {\"start_year\": 1905.0, \"min_depth\": \"50\", \"count\": 1}, {\"start_year\": 1905.0, \"min_depth\": \"83\", \"count\": 1}, {\"start_year\": 1906.0, \"min_depth\": \"0\", \"count\": 1}, {\"start_year\": 1908.0, \"min_depth\": \"0\", \"count\": 4}, {\"start_year\": 1909.0, \"min_depth\": \"0\", \"count\": 2}, {\"start_year\": 1911.0, \"min_depth\": \"0\", \"count\": 14}, {\"start_year\": 1913.0, \"min_depth\": \"0\", \"count\": 6}, {\"start_year\": 1914.0, \"min_depth\": \"0\", \"count\": 2}, {\"start_year\": 1915.0, \"min_depth\": \"0\", \"count\": 7}, {\"start_year\": 1916.0, \"min_depth\": \"0\", \"count\": 5}, {\"start_year\": 1917.0, \"min_depth\": \"0\", \"count\": 2}, {\"start_year\": 1918.0, \"min_depth\": \"0\", \"count\": 5}, {\"start_year\": 1919.0, \"min_depth\": \"0\", \"count\": 1}, {\"start_year\": 1920.0, \"min_depth\": \"0\", \"count\": 2}, {\"start_year\": 1922.0, \"min_depth\": \"0\", \"count\": 2}, {\"start_year\": 1924.0, \"min_depth\": \"0\", \"count\": 3}, {\"start_year\": 1925.0, \"min_depth\": \"0\", \"count\": 5}, {\"start_year\": 1926.0, \"min_depth\": \"0\", \"count\": 2}, {\"start_year\": 1927.0, \"min_depth\": \"0\", \"count\": 1}, {\"start_year\": 1930.0, \"min_depth\": \"0\", \"count\": 4}, {\"start_year\": 1931.0, \"min_depth\": \"0\", \"count\": 3}, {\"start_year\": 1932.0, \"min_depth\": \"0\", \"count\": 2}, {\"start_year\": 1933.0, \"min_depth\": \"0\", \"count\": 4}, {\"start_year\": 1935.0, \"min_depth\": \"0\", \"count\": 12}, {\"start_year\": 1936.0, \"min_depth\": \"0\", \"count\": 13}, {\"start_year\": 1937.0, \"min_depth\": \"0\", \"count\": 4}, {\"start_year\": 1938.0, \"min_depth\": \"0\", \"count\": 17}, {\"start_year\": 1939.0, \"min_depth\": \"0\", \"count\": 25}, {\"start_year\": 1940.0, \"min_depth\": \"0\", \"count\": 24}, {\"start_year\": 1941.0, \"min_depth\": \"0\", \"count\": 12}, {\"start_year\": 1942.0, \"min_depth\": \"0\", \"count\": 22}, {\"start_year\": 1943.0, \"min_depth\": \"0\", \"count\": 13}, {\"start_year\": 1944.0, \"min_depth\": \"0\", \"count\": 70}, {\"start_year\": 1945.0, \"min_depth\": \"0\", \"count\": 33}, {\"start_year\": 1946.0, \"min_depth\": \"0\", \"count\": 33}, {\"start_year\": 1947.0, \"min_depth\": \"0\", \"count\": 23}, {\"start_year\": 1948.0, \"min_depth\": \"0\", \"count\": 44}, {\"start_year\": 1949.0, \"min_depth\": \"0\", \"count\": 27}, {\"start_year\": 1950.0, \"min_depth\": \"0\", \"count\": 72}, {\"start_year\": 1951.0, \"min_depth\": \"0\", \"count\": 63}, {\"start_year\": 1951.0, \"min_depth\": \"1210\", \"count\": 1}, {\"start_year\": 1951.0, \"min_depth\": \"1570\", \"count\": 1}, {\"start_year\": 1951.0, \"min_depth\": \"1600\", \"count\": 1}, {\"start_year\": 1951.0, \"min_depth\": \"2084\", \"count\": 1}, {\"start_year\": 1951.0, \"min_depth\": \"2790\", \"count\": 2}, {\"start_year\": 1951.0, \"min_depth\": \"3580\", \"count\": 1}, {\"start_year\": 1951.0, \"min_depth\": \"4070\", \"count\": 1}, {\"start_year\": 1951.0, \"min_depth\": \"4150\", \"count\": 2}, {\"start_year\": 1951.0, \"min_depth\": \"460\", \"count\": 1}, {\"start_year\": 1951.0, \"min_depth\": \"4940\", \"count\": 3}, {\"start_year\": 1952.0, \"min_depth\": \"0\", \"count\": 67}, {\"start_year\": 1952.0, \"min_depth\": \"2530\", \"count\": 1}, {\"start_year\": 1952.0, \"min_depth\": \"3680\", \"count\": 3}, {\"start_year\": 1952.0, \"min_depth\": \"3800\", \"count\": 2}, {\"start_year\": 1952.0, \"min_depth\": \"4625\", \"count\": 1}, {\"start_year\": 1952.0, \"min_depth\": \"4700\", \"count\": 1}, {\"start_year\": 1952.0, \"min_depth\": \"6901\", \"count\": 1}, {\"start_year\": 1953.0, \"min_depth\": \"0\", \"count\": 112}, {\"start_year\": 1954.0, \"min_depth\": \"0\", \"count\": 98}, {\"start_year\": 1955.0, \"min_depth\": \"0\", \"count\": 81}, {\"start_year\": 1955.0, \"min_depth\": \"200\", \"count\": 1}, {\"start_year\": 1956.0, \"min_depth\": \"0\", \"count\": 100}, {\"start_year\": 1957.0, \"min_depth\": \"0\", \"count\": 46}, {\"start_year\": 1958.0, \"min_depth\": \"0\", \"count\": 53}, {\"start_year\": 1959.0, \"min_depth\": \"0\", \"count\": 138}, {\"start_year\": 1960.0, \"min_depth\": \"0\", \"count\": 118}, {\"start_year\": 1961.0, \"min_depth\": \"0\", \"count\": 94}, {\"start_year\": 1962.0, \"min_depth\": \"0\", \"count\": 117}, {\"start_year\": 1962.0, \"min_depth\": \"11\", \"count\": 1}, {\"start_year\": 1963.0, \"min_depth\": \"0\", \"count\": 115}, {\"start_year\": 1964.0, \"min_depth\": \"0\", \"count\": 245}, {\"start_year\": 1964.0, \"min_depth\": \"48\", \"count\": 1}, {\"start_year\": 1965.0, \"min_depth\": \"0\", \"count\": 113}, {\"start_year\": 1965.0, \"min_depth\": \"49\", \"count\": 1}, {\"start_year\": 1966.0, \"min_depth\": \"0\", \"count\": 131}, {\"start_year\": 1966.0, \"min_depth\": \"6\", \"count\": 1}, {\"start_year\": 1967.0, \"min_depth\": \"0\", \"count\": 135}, {\"start_year\": 1968.0, \"min_depth\": \"0\", \"count\": 162}, {\"start_year\": 1968.0, \"min_depth\": \"20\", \"count\": 1}, {\"start_year\": 1968.0, \"min_depth\": \"57\", \"count\": 1}, {\"start_year\": 1969.0, \"min_depth\": \"0\", \"count\": 226}, {\"start_year\": 1970.0, \"min_depth\": \"0\", \"count\": 119}, {\"start_year\": 1970.0, \"min_depth\": \"1000\", \"count\": 1}, {\"start_year\": 1970.0, \"min_depth\": \"125\", \"count\": 1}, {\"start_year\": 1970.0, \"min_depth\": \"128\", \"count\": 1}, {\"start_year\": 1970.0, \"min_depth\": \"137\", \"count\": 1}, {\"start_year\": 1970.0, \"min_depth\": \"150\", \"count\": 1}, {\"start_year\": 1970.0, \"min_depth\": \"155\", \"count\": 1}, {\"start_year\": 1970.0, \"min_depth\": \"34\", \"count\": 1}, {\"start_year\": 1970.0, \"min_depth\": \"710\", \"count\": 1}, {\"start_year\": 1970.0, \"min_depth\": \"900\", \"count\": 1}, {\"start_year\": 1971.0, \"min_depth\": \"0\", \"count\": 182}, {\"start_year\": 1971.0, \"min_depth\": \"125\", \"count\": 1}, {\"start_year\": 1972.0, \"min_depth\": \"0\", \"count\": 70}, {\"start_year\": 1972.0, \"min_depth\": \"2938\", \"count\": 1}, {\"start_year\": 1973.0, \"min_depth\": \"0\", \"count\": 235}, {\"start_year\": 1974.0, \"min_depth\": \"0\", \"count\": 174}, {\"start_year\": 1975.0, \"min_depth\": \"0\", \"count\": 103}, {\"start_year\": 1976.0, \"min_depth\": \"0\", \"count\": 174}, {\"start_year\": 1977.0, \"min_depth\": \"0\", \"count\": 150}, {\"start_year\": 1978.0, \"min_depth\": \"0\", \"count\": 123}, {\"start_year\": 1978.0, \"min_depth\": \"20\", \"count\": 1}, {\"start_year\": 1979.0, \"min_depth\": \"0\", \"count\": 73}, {\"start_year\": 1980.0, \"min_depth\": \"0\", \"count\": 147}, {\"start_year\": 1981.0, \"min_depth\": \"0\", \"count\": 180}, {\"start_year\": 1981.0, \"min_depth\": \"5180\", \"count\": 1}, {\"start_year\": 1981.0, \"min_depth\": \"5230\", \"count\": 1}, {\"start_year\": 1981.0, \"min_depth\": \"93\", \"count\": 1}, {\"start_year\": 1981.0, \"min_depth\": \"95\", \"count\": 1}, {\"start_year\": 1982.0, \"min_depth\": \"0\", \"count\": 211}, {\"start_year\": 1982.0, \"min_depth\": \"7\", \"count\": 1}, {\"start_year\": 1982.0, \"min_depth\": \"81\", \"count\": 1}, {\"start_year\": 1983.0, \"min_depth\": \"0\", \"count\": 309}, {\"start_year\": 1984.0, \"min_depth\": \"0\", \"count\": 361}, {\"start_year\": 1984.0, \"min_depth\": \"100\", \"count\": 1}, {\"start_year\": 1985.0, \"min_depth\": \"0\", \"count\": 288}, {\"start_year\": 1985.0, \"min_depth\": \"412\", \"count\": 2}, {\"start_year\": 1985.0, \"min_depth\": \"45\", \"count\": 2}, {\"start_year\": 1986.0, \"min_depth\": \"0\", \"count\": 416}, {\"start_year\": 1986.0, \"min_depth\": \"130\", \"count\": 1}, {\"start_year\": 1986.0, \"min_depth\": \"60\", \"count\": 2}, {\"start_year\": 1987.0, \"min_depth\": \"0\", \"count\": 430}, {\"start_year\": 1987.0, \"min_depth\": \"134\", \"count\": 1}, {\"start_year\": 1987.0, \"min_depth\": \"184\", \"count\": 1}, {\"start_year\": 1987.0, \"min_depth\": \"1950\", \"count\": 1}, {\"start_year\": 1987.0, \"min_depth\": \"34\", \"count\": 1}, {\"start_year\": 1987.0, \"min_depth\": \"3640\", \"count\": 1}, {\"start_year\": 1987.0, \"min_depth\": \"60\", \"count\": 1}, {\"start_year\": 1987.0, \"min_depth\": \"830\", \"count\": 1}, {\"start_year\": 1988.0, \"min_depth\": \"0\", \"count\": 242}, {\"start_year\": 1988.0, \"min_depth\": \"2\", \"count\": 1}, {\"start_year\": 1988.0, \"min_depth\": \"20\", \"count\": 4}, {\"start_year\": 1988.0, \"min_depth\": \"510\", \"count\": 1}, {\"start_year\": 1988.0, \"min_depth\": \"530\", \"count\": 1}, {\"start_year\": 1988.0, \"min_depth\": \"60\", \"count\": 3}, {\"start_year\": 1988.0, \"min_depth\": \"70\", \"count\": 3}, {\"start_year\": 1989.0, \"min_depth\": \"0\", \"count\": 121}, {\"start_year\": 1989.0, \"min_depth\": \"10\", \"count\": 7}, {\"start_year\": 1989.0, \"min_depth\": \"3017\", \"count\": 1}, {\"start_year\": 1989.0, \"min_depth\": \"5\", \"count\": 8}, {\"start_year\": 1990.0, \"min_depth\": \"0\", \"count\": 124}, {\"start_year\": 1991.0, \"min_depth\": \"0\", \"count\": 202}, {\"start_year\": 1992.0, \"min_depth\": \"0\", \"count\": 198}, {\"start_year\": 1992.0, \"min_depth\": \"16\", \"count\": 2}, {\"start_year\": 1992.0, \"min_depth\": \"23\", \"count\": 5}, {\"start_year\": 1992.0, \"min_depth\": \"33\", \"count\": 5}, {\"start_year\": 1992.0, \"min_depth\": \"38\", \"count\": 1}, {\"start_year\": 1992.0, \"min_depth\": \"750\", \"count\": 1}, {\"start_year\": 1993.0, \"min_depth\": \"0\", \"count\": 511}, {\"start_year\": 1993.0, \"min_depth\": \"1000\", \"count\": 1}, {\"start_year\": 1993.0, \"min_depth\": \"1160\", \"count\": 1}, {\"start_year\": 1993.0, \"min_depth\": \"1250\", \"count\": 2}, {\"start_year\": 1993.0, \"min_depth\": \"1260\", \"count\": 2}, {\"start_year\": 1993.0, \"min_depth\": \"1500\", \"count\": 1}, {\"start_year\": 1993.0, \"min_depth\": \"1520\", \"count\": 1}, {\"start_year\": 1993.0, \"min_depth\": \"200\", \"count\": 1}, {\"start_year\": 1993.0, \"min_depth\": \"2060\", \"count\": 1}, {\"start_year\": 1993.0, \"min_depth\": \"270\", \"count\": 1}, {\"start_year\": 1993.0, \"min_depth\": \"625\", \"count\": 1}, {\"start_year\": 1993.0, \"min_depth\": \"655\", \"count\": 2}, {\"start_year\": 1993.0, \"min_depth\": \"760\", \"count\": 1}, {\"start_year\": 1993.0, \"min_depth\": \"990\", \"count\": 3}, {\"start_year\": 1994.0, \"min_depth\": \"0\", \"count\": 436}, {\"start_year\": 1995.0, \"min_depth\": \"0\", \"count\": 777}, {\"start_year\": 1995.0, \"min_depth\": \"10\", \"count\": 2}, {\"start_year\": 1995.0, \"min_depth\": \"11\", \"count\": 2}, {\"start_year\": 1995.0, \"min_depth\": \"15\", \"count\": 3}, {\"start_year\": 1995.0, \"min_depth\": \"28\", \"count\": 3}, {\"start_year\": 1995.0, \"min_depth\": \"30\", \"count\": 35}, {\"start_year\": 1995.0, \"min_depth\": \"4\", \"count\": 1}, {\"start_year\": 1995.0, \"min_depth\": \"4.3\", \"count\": 2}, {\"start_year\": 1995.0, \"min_depth\": \"40\", \"count\": 1}, {\"start_year\": 1995.0, \"min_depth\": \"90\", \"count\": 6}, {\"start_year\": 1996.0, \"min_depth\": \"0\", \"count\": 239}, {\"start_year\": 1996.0, \"min_depth\": \"10\", \"count\": 2}, {\"start_year\": 1997.0, \"min_depth\": \"0\", \"count\": 519}, {\"start_year\": 1997.0, \"min_depth\": \"100\", \"count\": 2}, {\"start_year\": 1997.0, \"min_depth\": \"108\", \"count\": 1}, {\"start_year\": 1997.0, \"min_depth\": \"15\", \"count\": 4}, {\"start_year\": 1997.0, \"min_depth\": \"16\", \"count\": 3}, {\"start_year\": 1997.0, \"min_depth\": \"23\", \"count\": 3}, {\"start_year\": 1997.0, \"min_depth\": \"3\", \"count\": 9}, {\"start_year\": 1997.0, \"min_depth\": \"30\", \"count\": 5}, {\"start_year\": 1997.0, \"min_depth\": \"50\", \"count\": 6}, {\"start_year\": 1997.0, \"min_depth\": \"58\", \"count\": 1}, {\"start_year\": 1997.0, \"min_depth\": \"59\", \"count\": 1}, {\"start_year\": 1997.0, \"min_depth\": \"79\", \"count\": 1}, {\"start_year\": 1997.0, \"min_depth\": \"8\", \"count\": 2}, {\"start_year\": 1998.0, \"min_depth\": \"0\", \"count\": 284}, {\"start_year\": 1998.0, \"min_depth\": \"10\", \"count\": 2}, {\"start_year\": 1998.0, \"min_depth\": \"100\", \"count\": 19}, {\"start_year\": 1998.0, \"min_depth\": \"102\", \"count\": 5}, {\"start_year\": 1998.0, \"min_depth\": \"103\", \"count\": 1}, {\"start_year\": 1998.0, \"min_depth\": \"105\", \"count\": 4}, {\"start_year\": 1998.0, \"min_depth\": \"110\", \"count\": 18}, {\"start_year\": 1998.0, \"min_depth\": \"131\", \"count\": 2}, {\"start_year\": 1998.0, \"min_depth\": \"138\", \"count\": 9}, {\"start_year\": 1998.0, \"min_depth\": \"145\", \"count\": 17}, {\"start_year\": 1998.0, \"min_depth\": \"147\", \"count\": 7}, {\"start_year\": 1998.0, \"min_depth\": \"149\", \"count\": 6}, {\"start_year\": 1998.0, \"min_depth\": \"150\", \"count\": 1}, {\"start_year\": 1998.0, \"min_depth\": \"162\", \"count\": 10}, {\"start_year\": 1998.0, \"min_depth\": \"187\", \"count\": 2}, {\"start_year\": 1998.0, \"min_depth\": \"191\", \"count\": 3}, {\"start_year\": 1998.0, \"min_depth\": \"208\", \"count\": 2}, {\"start_year\": 1998.0, \"min_depth\": \"22\", \"count\": 1}, {\"start_year\": 1998.0, \"min_depth\": \"220\", \"count\": 3}, {\"start_year\": 1998.0, \"min_depth\": \"235\", \"count\": 4}, {\"start_year\": 1998.0, \"min_depth\": \"254\", \"count\": 11}, {\"start_year\": 1998.0, \"min_depth\": \"257\", \"count\": 1}, {\"start_year\": 1998.0, \"min_depth\": \"258\", \"count\": 6}, {\"start_year\": 1998.0, \"min_depth\": \"275\", \"count\": 1}, {\"start_year\": 1998.0, \"min_depth\": \"280\", \"count\": 2}, {\"start_year\": 1998.0, \"min_depth\": \"325\", \"count\": 2}, {\"start_year\": 1998.0, \"min_depth\": \"330\", \"count\": 9}, {\"start_year\": 1998.0, \"min_depth\": \"400\", \"count\": 7}, {\"start_year\": 1998.0, \"min_depth\": \"425\", \"count\": 4}, {\"start_year\": 1998.0, \"min_depth\": \"435\", \"count\": 2}, {\"start_year\": 1998.0, \"min_depth\": \"453\", \"count\": 4}, {\"start_year\": 1998.0, \"min_depth\": \"476\", \"count\": 2}, {\"start_year\": 1998.0, \"min_depth\": \"497\", \"count\": 4}, {\"start_year\": 1998.0, \"min_depth\": \"500\", \"count\": 1}, {\"start_year\": 1998.0, \"min_depth\": \"502\", \"count\": 4}, {\"start_year\": 1998.0, \"min_depth\": \"508\", \"count\": 2}, {\"start_year\": 1998.0, \"min_depth\": \"93\", \"count\": 9}, {\"start_year\": 1999.0, \"min_depth\": \"0\", \"count\": 270}, {\"start_year\": 1999.0, \"min_depth\": \"1.5\", \"count\": 3}, {\"start_year\": 1999.0, \"min_depth\": \"1067\", \"count\": 1}, {\"start_year\": 1999.0, \"min_depth\": \"1089\", \"count\": 1}, {\"start_year\": 1999.0, \"min_depth\": \"145\", \"count\": 1}, {\"start_year\": 1999.0, \"min_depth\": \"18\", \"count\": 1}, {\"start_year\": 1999.0, \"min_depth\": \"19\", \"count\": 1}, {\"start_year\": 1999.0, \"min_depth\": \"278\", \"count\": 1}, {\"start_year\": 1999.0, \"min_depth\": \"3\", \"count\": 3}, {\"start_year\": 1999.0, \"min_depth\": \"4\", \"count\": 1}, {\"start_year\": 1999.0, \"min_depth\": \"45\", \"count\": 9}, {\"start_year\": 1999.0, \"min_depth\": \"450\", \"count\": 15}, {\"start_year\": 1999.0, \"min_depth\": \"5\", \"count\": 9}, {\"start_year\": 1999.0, \"min_depth\": \"592\", \"count\": 19}, {\"start_year\": 1999.0, \"min_depth\": \"623\", \"count\": 1}, {\"start_year\": 1999.0, \"min_depth\": \"665\", \"count\": 2}, {\"start_year\": 1999.0, \"min_depth\": \"702\", \"count\": 12}, {\"start_year\": 1999.0, \"min_depth\": \"740\", \"count\": 1}, {\"start_year\": 1999.0, \"min_depth\": \"808\", \"count\": 19}, {\"start_year\": 1999.0, \"min_depth\": \"910\", \"count\": 29}, {\"start_year\": 1999.0, \"min_depth\": \"927\", \"count\": 7}, {\"start_year\": 1999.0, \"min_depth\": \"935\", \"count\": 1}, {\"start_year\": 2000.0, \"min_depth\": \"0\", \"count\": 534}, {\"start_year\": 2000.0, \"min_depth\": \"0.2\", \"count\": 1}, {\"start_year\": 2000.0, \"min_depth\": \"0.5\", \"count\": 1}, {\"start_year\": 2000.0, \"min_depth\": \"1\", \"count\": 10}, {\"start_year\": 2000.0, \"min_depth\": \"10\", \"count\": 5}, {\"start_year\": 2000.0, \"min_depth\": \"1001\", \"count\": 1}, {\"start_year\": 2000.0, \"min_depth\": \"1002\", \"count\": 19}, {\"start_year\": 2000.0, \"min_depth\": \"1026\", \"count\": 1}, {\"start_year\": 2000.0, \"min_depth\": \"1102\", \"count\": 1}, {\"start_year\": 2000.0, \"min_depth\": \"1144\", \"count\": 1}, {\"start_year\": 2000.0, \"min_depth\": \"12\", \"count\": 1}, {\"start_year\": 2000.0, \"min_depth\": \"1293\", \"count\": 14}, {\"start_year\": 2000.0, \"min_depth\": \"1364\", \"count\": 12}, {\"start_year\": 2000.0, \"min_depth\": \"14\", \"count\": 2}, {\"start_year\": 2000.0, \"min_depth\": \"140\", \"count\": 5}, {\"start_year\": 2000.0, \"min_depth\": \"1402\", \"count\": 18}, {\"start_year\": 2000.0, \"min_depth\": \"15\", \"count\": 2}, {\"start_year\": 2000.0, \"min_depth\": \"1545\", \"count\": 18}, {\"start_year\": 2000.0, \"min_depth\": \"1598\", \"count\": 12}, {\"start_year\": 2000.0, \"min_depth\": \"16\", \"count\": 3}, {\"start_year\": 2000.0, \"min_depth\": \"1639\", \"count\": 12}, {\"start_year\": 2000.0, \"min_depth\": \"1642\", \"count\": 18}, {\"start_year\": 2000.0, \"min_depth\": \"1680\", \"count\": 16}, {\"start_year\": 2000.0, \"min_depth\": \"1694\", \"count\": 4}, {\"start_year\": 2000.0, \"min_depth\": \"1717\", \"count\": 14}, {\"start_year\": 2000.0, \"min_depth\": \"1718\", \"count\": 12}, {\"start_year\": 2000.0, \"min_depth\": \"1730\", \"count\": 14}, {\"start_year\": 2000.0, \"min_depth\": \"178\", \"count\": 10}, {\"start_year\": 2000.0, \"min_depth\": \"1799\", \"count\": 13}, {\"start_year\": 2000.0, \"min_depth\": \"19\", \"count\": 5}, {\"start_year\": 2000.0, \"min_depth\": \"195\", \"count\": 6}, {\"start_year\": 2000.0, \"min_depth\": \"20\", \"count\": 2}, {\"start_year\": 2000.0, \"min_depth\": \"2076\", \"count\": 13}, {\"start_year\": 2000.0, \"min_depth\": \"2137\", \"count\": 1}, {\"start_year\": 2000.0, \"min_depth\": \"23\", \"count\": 12}, {\"start_year\": 2000.0, \"min_depth\": \"239\", \"count\": 8}, {\"start_year\": 2000.0, \"min_depth\": \"251\", \"count\": 19}, {\"start_year\": 2000.0, \"min_depth\": \"259\", \"count\": 8}, {\"start_year\": 2000.0, \"min_depth\": \"334\", \"count\": 12}, {\"start_year\": 2000.0, \"min_depth\": \"341\", \"count\": 8}, {\"start_year\": 2000.0, \"min_depth\": \"376\", \"count\": 7}, {\"start_year\": 2000.0, \"min_depth\": \"394\", \"count\": 21}, {\"start_year\": 2000.0, \"min_depth\": \"4\", \"count\": 1}, {\"start_year\": 2000.0, \"min_depth\": \"489\", \"count\": 1}, {\"start_year\": 2000.0, \"min_depth\": \"5\", \"count\": 9}, {\"start_year\": 2000.0, \"min_depth\": \"518\", \"count\": 10}, {\"start_year\": 2000.0, \"min_depth\": \"565\", \"count\": 4}, {\"start_year\": 2000.0, \"min_depth\": \"573\", \"count\": 12}, {\"start_year\": 2000.0, \"min_depth\": \"613\", \"count\": 17}, {\"start_year\": 2000.0, \"min_depth\": \"623\", \"count\": 4}, {\"start_year\": 2000.0, \"min_depth\": \"662\", \"count\": 1}, {\"start_year\": 2000.0, \"min_depth\": \"666\", \"count\": 16}, {\"start_year\": 2000.0, \"min_depth\": \"740\", \"count\": 16}, {\"start_year\": 2000.0, \"min_depth\": \"750\", \"count\": 19}, {\"start_year\": 2000.0, \"min_depth\": \"761\", \"count\": 1}, {\"start_year\": 2000.0, \"min_depth\": \"770\", \"count\": 1}, {\"start_year\": 2000.0, \"min_depth\": \"925\", \"count\": 2}, {\"start_year\": 2001.0, \"min_depth\": \"0\", \"count\": 341}, {\"start_year\": 2001.0, \"min_depth\": \"100\", \"count\": 25}, {\"start_year\": 2001.0, \"min_depth\": \"1000\", \"count\": 10}, {\"start_year\": 2001.0, \"min_depth\": \"108\", \"count\": 27}, {\"start_year\": 2001.0, \"min_depth\": \"1200\", \"count\": 11}, {\"start_year\": 2001.0, \"min_depth\": \"1240\", \"count\": 27}, {\"start_year\": 2001.0, \"min_depth\": \"1300\", \"count\": 22}, {\"start_year\": 2001.0, \"min_depth\": \"1438\", \"count\": 2}, {\"start_year\": 2001.0, \"min_depth\": \"1566\", \"count\": 3}, {\"start_year\": 2001.0, \"min_depth\": \"1600\", \"count\": 3}, {\"start_year\": 2001.0, \"min_depth\": \"1650\", \"count\": 8}, {\"start_year\": 2001.0, \"min_depth\": \"1680\", \"count\": 1}, {\"start_year\": 2001.0, \"min_depth\": \"1700\", \"count\": 18}, {\"start_year\": 2001.0, \"min_depth\": \"1980\", \"count\": 3}, {\"start_year\": 2001.0, \"min_depth\": \"20\", \"count\": 28}, {\"start_year\": 2001.0, \"min_depth\": \"200\", \"count\": 6}, {\"start_year\": 2001.0, \"min_depth\": \"2076\", \"count\": 6}, {\"start_year\": 2001.0, \"min_depth\": \"230\", \"count\": 7}, {\"start_year\": 2001.0, \"min_depth\": \"2426\", \"count\": 2}, {\"start_year\": 2001.0, \"min_depth\": \"278\", \"count\": 4}, {\"start_year\": 2001.0, \"min_depth\": \"30\", \"count\": 1}, {\"start_year\": 2001.0, \"min_depth\": \"360\", \"count\": 1}, {\"start_year\": 2001.0, \"min_depth\": \"40\", \"count\": 46}, {\"start_year\": 2001.0, \"min_depth\": \"420\", \"count\": 2}, {\"start_year\": 2001.0, \"min_depth\": \"45\", \"count\": 7}, {\"start_year\": 2001.0, \"min_depth\": \"450\", \"count\": 3}, {\"start_year\": 2001.0, \"min_depth\": \"486\", \"count\": 1}, {\"start_year\": 2001.0, \"min_depth\": \"50\", \"count\": 83}, {\"start_year\": 2001.0, \"min_depth\": \"52\", \"count\": 10}, {\"start_year\": 2001.0, \"min_depth\": \"55\", \"count\": 89}, {\"start_year\": 2001.0, \"min_depth\": \"580\", \"count\": 1}, {\"start_year\": 2001.0, \"min_depth\": \"60\", \"count\": 49}, {\"start_year\": 2001.0, \"min_depth\": \"604\", \"count\": 1}, {\"start_year\": 2001.0, \"min_depth\": \"646\", \"count\": 2}, {\"start_year\": 2001.0, \"min_depth\": \"65\", \"count\": 65}, {\"start_year\": 2001.0, \"min_depth\": \"652\", \"count\": 1}, {\"start_year\": 2001.0, \"min_depth\": \"663\", \"count\": 1}, {\"start_year\": 2001.0, \"min_depth\": \"67\", \"count\": 17}, {\"start_year\": 2001.0, \"min_depth\": \"686\", \"count\": 1}, {\"start_year\": 2001.0, \"min_depth\": \"7\", \"count\": 2}, {\"start_year\": 2001.0, \"min_depth\": \"715\", \"count\": 1}, {\"start_year\": 2001.0, \"min_depth\": \"723\", \"count\": 2}, {\"start_year\": 2001.0, \"min_depth\": \"750\", \"count\": 1}, {\"start_year\": 2001.0, \"min_depth\": \"775\", \"count\": 1}, {\"start_year\": 2001.0, \"min_depth\": \"80\", \"count\": 18}, {\"start_year\": 2001.0, \"min_depth\": \"809\", \"count\": 1}, {\"start_year\": 2001.0, \"min_depth\": \"830\", \"count\": 6}, {\"start_year\": 2001.0, \"min_depth\": \"9\", \"count\": 2}, {\"start_year\": 2001.0, \"min_depth\": \"90\", \"count\": 3}, {\"start_year\": 2001.0, \"min_depth\": \"91\", \"count\": 1}, {\"start_year\": 2002.0, \"min_depth\": \"0\", \"count\": 306}, {\"start_year\": 2002.0, \"min_depth\": \"1\", \"count\": 1}, {\"start_year\": 2002.0, \"min_depth\": \"10\", \"count\": 8}, {\"start_year\": 2002.0, \"min_depth\": \"100\", \"count\": 20}, {\"start_year\": 2002.0, \"min_depth\": \"1000\", \"count\": 9}, {\"start_year\": 2002.0, \"min_depth\": \"103\", \"count\": 10}, {\"start_year\": 2002.0, \"min_depth\": \"1045\", \"count\": 1}, {\"start_year\": 2002.0, \"min_depth\": \"1050\", \"count\": 75}, {\"start_year\": 2002.0, \"min_depth\": \"1100\", \"count\": 15}, {\"start_year\": 2002.0, \"min_depth\": \"1200\", \"count\": 15}, {\"start_year\": 2002.0, \"min_depth\": \"1230\", \"count\": 16}, {\"start_year\": 2002.0, \"min_depth\": \"1291\", \"count\": 2}, {\"start_year\": 2002.0, \"min_depth\": \"1334\", \"count\": 1}, {\"start_year\": 2002.0, \"min_depth\": \"1350\", \"count\": 64}, {\"start_year\": 2002.0, \"min_depth\": \"140\", \"count\": 1}, {\"start_year\": 2002.0, \"min_depth\": \"15\", \"count\": 2}, {\"start_year\": 2002.0, \"min_depth\": \"1650\", \"count\": 42}, {\"start_year\": 2002.0, \"min_depth\": \"17\", \"count\": 4}, {\"start_year\": 2002.0, \"min_depth\": \"1730\", \"count\": 14}, {\"start_year\": 2002.0, \"min_depth\": \"180\", \"count\": 1}, {\"start_year\": 2002.0, \"min_depth\": \"1930\", \"count\": 6}, {\"start_year\": 2002.0, \"min_depth\": \"1950\", \"count\": 31}, {\"start_year\": 2002.0, \"min_depth\": \"2\", \"count\": 2}, {\"start_year\": 2002.0, \"min_depth\": \"20\", \"count\": 2}, {\"start_year\": 2002.0, \"min_depth\": \"219\", \"count\": 1}, {\"start_year\": 2002.0, \"min_depth\": \"230\", \"count\": 1}, {\"start_year\": 2002.0, \"min_depth\": \"231\", \"count\": 1}, {\"start_year\": 2002.0, \"min_depth\": \"24\", \"count\": 8}, {\"start_year\": 2002.0, \"min_depth\": \"247\", \"count\": 3}, {\"start_year\": 2002.0, \"min_depth\": \"250\", \"count\": 2}, {\"start_year\": 2002.0, \"min_depth\": \"26\", \"count\": 20}, {\"start_year\": 2002.0, \"min_depth\": \"260\", \"count\": 1}, {\"start_year\": 2002.0, \"min_depth\": \"269\", \"count\": 1}, {\"start_year\": 2002.0, \"min_depth\": \"288\", \"count\": 4}, {\"start_year\": 2002.0, \"min_depth\": \"35\", \"count\": 28}, {\"start_year\": 2002.0, \"min_depth\": \"446\", \"count\": 4}, {\"start_year\": 2002.0, \"min_depth\": \"46\", \"count\": 3}, {\"start_year\": 2002.0, \"min_depth\": \"46.6\", \"count\": 5}, {\"start_year\": 2002.0, \"min_depth\": \"49\", \"count\": 1}, {\"start_year\": 2002.0, \"min_depth\": \"498\", \"count\": 1}, {\"start_year\": 2002.0, \"min_depth\": \"506\", \"count\": 1}, {\"start_year\": 2002.0, \"min_depth\": \"54\", \"count\": 25}, {\"start_year\": 2002.0, \"min_depth\": \"560\", \"count\": 1}, {\"start_year\": 2002.0, \"min_depth\": \"57\", \"count\": 3}, {\"start_year\": 2002.0, \"min_depth\": \"570\", \"count\": 1}, {\"start_year\": 2002.0, \"min_depth\": \"580\", \"count\": 1}, {\"start_year\": 2002.0, \"min_depth\": \"60\", \"count\": 13}, {\"start_year\": 2002.0, \"min_depth\": \"600\", \"count\": 2}, {\"start_year\": 2002.0, \"min_depth\": \"618\", \"count\": 1}, {\"start_year\": 2002.0, \"min_depth\": \"625\", \"count\": 1}, {\"start_year\": 2002.0, \"min_depth\": \"66\", \"count\": 2}, {\"start_year\": 2002.0, \"min_depth\": \"7\", \"count\": 3}, {\"start_year\": 2002.0, \"min_depth\": \"72\", \"count\": 18}, {\"start_year\": 2002.0, \"min_depth\": \"735\", \"count\": 3}, {\"start_year\": 2002.0, \"min_depth\": \"738\", \"count\": 1}, {\"start_year\": 2002.0, \"min_depth\": \"750\", \"count\": 47}, {\"start_year\": 2002.0, \"min_depth\": \"755\", \"count\": 1}, {\"start_year\": 2002.0, \"min_depth\": \"760\", \"count\": 7}, {\"start_year\": 2002.0, \"min_depth\": \"765\", \"count\": 2}, {\"start_year\": 2002.0, \"min_depth\": \"77\", \"count\": 36}, {\"start_year\": 2002.0, \"min_depth\": \"775\", \"count\": 5}, {\"start_year\": 2002.0, \"min_depth\": \"78\", \"count\": 10}, {\"start_year\": 2002.0, \"min_depth\": \"80\", \"count\": 1}, {\"start_year\": 2002.0, \"min_depth\": \"82.9\", \"count\": 2}, {\"start_year\": 2002.0, \"min_depth\": \"83\", \"count\": 45}, {\"start_year\": 2002.0, \"min_depth\": \"85\", \"count\": 13}, {\"start_year\": 2002.0, \"min_depth\": \"900\", \"count\": 16}, {\"start_year\": 2002.0, \"min_depth\": \"91\", \"count\": 23}, {\"start_year\": 2003.0, \"min_depth\": \"0\", \"count\": 166}, {\"start_year\": 2003.0, \"min_depth\": \"10\", \"count\": 1}, {\"start_year\": 2003.0, \"min_depth\": \"1023\", \"count\": 1}, {\"start_year\": 2003.0, \"min_depth\": \"1050\", \"count\": 97}, {\"start_year\": 2003.0, \"min_depth\": \"1059\", \"count\": 12}, {\"start_year\": 2003.0, \"min_depth\": \"1064\", \"count\": 6}, {\"start_year\": 2003.0, \"min_depth\": \"1071\", \"count\": 10}, {\"start_year\": 2003.0, \"min_depth\": \"1074\", \"count\": 4}, {\"start_year\": 2003.0, \"min_depth\": \"1077\", \"count\": 6}, {\"start_year\": 2003.0, \"min_depth\": \"1100\", \"count\": 8}, {\"start_year\": 2003.0, \"min_depth\": \"1105\", \"count\": 5}, {\"start_year\": 2003.0, \"min_depth\": \"1107\", \"count\": 10}, {\"start_year\": 2003.0, \"min_depth\": \"1122\", \"count\": 7}, {\"start_year\": 2003.0, \"min_depth\": \"1124\", \"count\": 10}, {\"start_year\": 2003.0, \"min_depth\": \"1127\", \"count\": 2}, {\"start_year\": 2003.0, \"min_depth\": \"1128\", \"count\": 13}, {\"start_year\": 2003.0, \"min_depth\": \"1130\", \"count\": 6}, {\"start_year\": 2003.0, \"min_depth\": \"1144\", \"count\": 5}, {\"start_year\": 2003.0, \"min_depth\": \"1150\", \"count\": 3}, {\"start_year\": 2003.0, \"min_depth\": \"1157\", \"count\": 5}, {\"start_year\": 2003.0, \"min_depth\": \"12\", \"count\": 4}, {\"start_year\": 2003.0, \"min_depth\": \"1294\", \"count\": 7}, {\"start_year\": 2003.0, \"min_depth\": \"1300\", \"count\": 5}, {\"start_year\": 2003.0, \"min_depth\": \"1305\", \"count\": 1}, {\"start_year\": 2003.0, \"min_depth\": \"1318\", \"count\": 11}, {\"start_year\": 2003.0, \"min_depth\": \"1319\", \"count\": 16}, {\"start_year\": 2003.0, \"min_depth\": \"1320\", \"count\": 9}, {\"start_year\": 2003.0, \"min_depth\": \"1322\", \"count\": 10}, {\"start_year\": 2003.0, \"min_depth\": \"1324\", \"count\": 8}, {\"start_year\": 2003.0, \"min_depth\": \"1325\", \"count\": 10}, {\"start_year\": 2003.0, \"min_depth\": \"1330\", \"count\": 4}, {\"start_year\": 2003.0, \"min_depth\": \"1332\", \"count\": 22}, {\"start_year\": 2003.0, \"min_depth\": \"1350\", \"count\": 81}, {\"start_year\": 2003.0, \"min_depth\": \"1358\", \"count\": 8}, {\"start_year\": 2003.0, \"min_depth\": \"1360\", \"count\": 8}, {\"start_year\": 2003.0, \"min_depth\": \"15\", \"count\": 4}, {\"start_year\": 2003.0, \"min_depth\": \"1532\", \"count\": 1}, {\"start_year\": 2003.0, \"min_depth\": \"1600\", \"count\": 1}, {\"start_year\": 2003.0, \"min_depth\": \"1605\", \"count\": 19}, {\"start_year\": 2003.0, \"min_depth\": \"1620\", \"count\": 12}, {\"start_year\": 2003.0, \"min_depth\": \"1627\", \"count\": 19}, {\"start_year\": 2003.0, \"min_depth\": \"1628\", \"count\": 9}, {\"start_year\": 2003.0, \"min_depth\": \"1630\", \"count\": 7}, {\"start_year\": 2003.0, \"min_depth\": \"1632\", \"count\": 12}, {\"start_year\": 2003.0, \"min_depth\": \"1640\", \"count\": 12}, {\"start_year\": 2003.0, \"min_depth\": \"1649\", \"count\": 11}, {\"start_year\": 2003.0, \"min_depth\": \"1650\", \"count\": 62}, {\"start_year\": 2003.0, \"min_depth\": \"1664\", \"count\": 8}, {\"start_year\": 2003.0, \"min_depth\": \"19\", \"count\": 1}, {\"start_year\": 2003.0, \"min_depth\": \"1950\", \"count\": 49}, {\"start_year\": 2003.0, \"min_depth\": \"20\", \"count\": 3}, {\"start_year\": 2003.0, \"min_depth\": \"200\", \"count\": 21}, {\"start_year\": 2003.0, \"min_depth\": \"30\", \"count\": 124}, {\"start_year\": 2003.0, \"min_depth\": \"31\", \"count\": 1}, {\"start_year\": 2003.0, \"min_depth\": \"32\", \"count\": 8}, {\"start_year\": 2003.0, \"min_depth\": \"4\", \"count\": 1}, {\"start_year\": 2003.0, \"min_depth\": \"40\", \"count\": 8}, {\"start_year\": 2003.0, \"min_depth\": \"410\", \"count\": 1}, {\"start_year\": 2003.0, \"min_depth\": \"44\", \"count\": 6}, {\"start_year\": 2003.0, \"min_depth\": \"47\", \"count\": 2}, {\"start_year\": 2003.0, \"min_depth\": \"6\", \"count\": 8}, {\"start_year\": 2003.0, \"min_depth\": \"60\", \"count\": 3}, {\"start_year\": 2003.0, \"min_depth\": \"70\", \"count\": 5}, {\"start_year\": 2003.0, \"min_depth\": \"713\", \"count\": 6}, {\"start_year\": 2003.0, \"min_depth\": \"722\", \"count\": 3}, {\"start_year\": 2003.0, \"min_depth\": \"739\", \"count\": 16}, {\"start_year\": 2003.0, \"min_depth\": \"749\", \"count\": 1}, {\"start_year\": 2003.0, \"min_depth\": \"750\", \"count\": 66}, {\"start_year\": 2003.0, \"min_depth\": \"8\", \"count\": 4}, {\"start_year\": 2003.0, \"min_depth\": \"91\", \"count\": 1}, {\"start_year\": 2004.0, \"min_depth\": \"0\", \"count\": 23}, {\"start_year\": 2004.0, \"min_depth\": \"20\", \"count\": 12}, {\"start_year\": 2004.0, \"min_depth\": \"30\", \"count\": 21}, {\"start_year\": 2004.0, \"min_depth\": \"384\", \"count\": 1}, {\"start_year\": 2004.0, \"min_depth\": \"50\", \"count\": 6}, {\"start_year\": 2004.0, \"min_depth\": \"60\", \"count\": 5}, {\"start_year\": 2004.0, \"min_depth\": \"7\", \"count\": 14}, {\"start_year\": 2004.0, \"min_depth\": \"747\", \"count\": 1}, {\"start_year\": 2004.0, \"min_depth\": \"798\", \"count\": 1}, {\"start_year\": 2005.0, \"min_depth\": \"0\", \"count\": 81}, {\"start_year\": 2005.0, \"min_depth\": \"1\", \"count\": 2}, {\"start_year\": 2005.0, \"min_depth\": \"17\", \"count\": 1}, {\"start_year\": 2005.0, \"min_depth\": \"2\", \"count\": 1}, {\"start_year\": 2005.0, \"min_depth\": \"20\", \"count\": 5}, {\"start_year\": 2005.0, \"min_depth\": \"43\", \"count\": 2}, {\"start_year\": 2005.0, \"min_depth\": \"50\", \"count\": 5}, {\"start_year\": 2005.0, \"min_depth\": \"500\", \"count\": 5}, {\"start_year\": 2005.0, \"min_depth\": \"600\", \"count\": 2}, {\"start_year\": 2005.0, \"min_depth\": \"650\", \"count\": 1}, {\"start_year\": 2005.0, \"min_depth\": \"705.2\", \"count\": 1}, {\"start_year\": 2005.0, \"min_depth\": \"950\", \"count\": 2}, {\"start_year\": 2006.0, \"min_depth\": \"0\", \"count\": 74}, {\"start_year\": 2006.0, \"min_depth\": \"54\", \"count\": 1}, {\"start_year\": 2006.0, \"min_depth\": \"747\", \"count\": 1}, {\"start_year\": 2006.0, \"min_depth\": \"923\", \"count\": 1}, {\"start_year\": 2007.0, \"min_depth\": \"0\", \"count\": 26}, {\"start_year\": 2007.0, \"min_depth\": \"0.1\", \"count\": 6}, {\"start_year\": 2007.0, \"min_depth\": \"65\", \"count\": 5}, {\"start_year\": 2008.0, \"min_depth\": \"0\", \"count\": 52}, {\"start_year\": 2008.0, \"min_depth\": \"1000\", \"count\": 2}, {\"start_year\": 2008.0, \"min_depth\": \"1000.8\", \"count\": 4}, {\"start_year\": 2008.0, \"min_depth\": \"1002\", \"count\": 7}, {\"start_year\": 2008.0, \"min_depth\": \"101\", \"count\": 5}, {\"start_year\": 2008.0, \"min_depth\": \"1023\", \"count\": 7}, {\"start_year\": 2008.0, \"min_depth\": \"1023.3\", \"count\": 1}, {\"start_year\": 2008.0, \"min_depth\": \"1026\", \"count\": 1}, {\"start_year\": 2008.0, \"min_depth\": \"1031\", \"count\": 4}, {\"start_year\": 2008.0, \"min_depth\": \"1031.7\", \"count\": 2}, {\"start_year\": 2008.0, \"min_depth\": \"1035\", \"count\": 7}, {\"start_year\": 2008.0, \"min_depth\": \"1054\", \"count\": 2}, {\"start_year\": 2008.0, \"min_depth\": \"1140\", \"count\": 4}, {\"start_year\": 2008.0, \"min_depth\": \"1147\", \"count\": 5}, {\"start_year\": 2008.0, \"min_depth\": \"1182\", \"count\": 4}, {\"start_year\": 2008.0, \"min_depth\": \"1215\", \"count\": 3}, {\"start_year\": 2008.0, \"min_depth\": \"1244\", \"count\": 10}, {\"start_year\": 2008.0, \"min_depth\": \"1244,4\", \"count\": 1}, {\"start_year\": 2008.0, \"min_depth\": \"1283.9\", \"count\": 1}, {\"start_year\": 2008.0, \"min_depth\": \"1287\", \"count\": 1}, {\"start_year\": 2008.0, \"min_depth\": \"1288\", \"count\": 1}, {\"start_year\": 2008.0, \"min_depth\": \"1288.5\", \"count\": 2}, {\"start_year\": 2008.0, \"min_depth\": \"1291\", \"count\": 5}, {\"start_year\": 2008.0, \"min_depth\": \"1293\", \"count\": 8}, {\"start_year\": 2008.0, \"min_depth\": \"1293.2\", \"count\": 2}, {\"start_year\": 2008.0, \"min_depth\": \"1298\", \"count\": 2}, {\"start_year\": 2008.0, \"min_depth\": \"1298.4\", \"count\": 3}, {\"start_year\": 2008.0, \"min_depth\": \"1299\", \"count\": 3}, {\"start_year\": 2008.0, \"min_depth\": \"1299.3\", \"count\": 1}, {\"start_year\": 2008.0, \"min_depth\": \"1299.8\", \"count\": 2}, {\"start_year\": 2008.0, \"min_depth\": \"1300\", \"count\": 1}, {\"start_year\": 2008.0, \"min_depth\": \"1302\", \"count\": 7}, {\"start_year\": 2008.0, \"min_depth\": \"1302.3\", \"count\": 1}, {\"start_year\": 2008.0, \"min_depth\": \"1304\", \"count\": 7}, {\"start_year\": 2008.0, \"min_depth\": \"1309\", \"count\": 1}, {\"start_year\": 2008.0, \"min_depth\": \"1311\", \"count\": 6}, {\"start_year\": 2008.0, \"min_depth\": \"1311.9\", \"count\": 2}, {\"start_year\": 2008.0, \"min_depth\": \"1313\", \"count\": 2}, {\"start_year\": 2008.0, \"min_depth\": \"1333\", \"count\": 2}, {\"start_year\": 2008.0, \"min_depth\": \"1335\", \"count\": 4}, {\"start_year\": 2008.0, \"min_depth\": \"1335.2\", \"count\": 2}, {\"start_year\": 2008.0, \"min_depth\": \"1379\", \"count\": 1}, {\"start_year\": 2008.0, \"min_depth\": \"1379.1\", \"count\": 6}, {\"start_year\": 2008.0, \"min_depth\": \"1395\", \"count\": 3}, {\"start_year\": 2008.0, \"min_depth\": \"1395.5\", \"count\": 3}, {\"start_year\": 2008.0, \"min_depth\": \"17.1\", \"count\": 1}, {\"start_year\": 2008.0, \"min_depth\": \"17.2\", \"count\": 4}, {\"start_year\": 2008.0, \"min_depth\": \"1864\", \"count\": 1}, {\"start_year\": 2008.0, \"min_depth\": \"1867\", \"count\": 9}, {\"start_year\": 2008.0, \"min_depth\": \"1868\", \"count\": 4}, {\"start_year\": 2008.0, \"min_depth\": \"1871\", \"count\": 2}, {\"start_year\": 2008.0, \"min_depth\": \"1871.5\", \"count\": 1}, {\"start_year\": 2008.0, \"min_depth\": \"1881\", \"count\": 1}, {\"start_year\": 2008.0, \"min_depth\": \"1881.4\", \"count\": 1}, {\"start_year\": 2008.0, \"min_depth\": \"1886\", \"count\": 3}, {\"start_year\": 2008.0, \"min_depth\": \"1886.3\", \"count\": 2}, {\"start_year\": 2008.0, \"min_depth\": \"1889\", \"count\": 9}, {\"start_year\": 2008.0, \"min_depth\": \"1890\", \"count\": 14}, {\"start_year\": 2008.0, \"min_depth\": \"1891\", \"count\": 1}, {\"start_year\": 2008.0, \"min_depth\": \"1891.2\", \"count\": 1}, {\"start_year\": 2008.0, \"min_depth\": \"1898\", \"count\": 2}, {\"start_year\": 2008.0, \"min_depth\": \"1898.7\", \"count\": 2}, {\"start_year\": 2008.0, \"min_depth\": \"19.5\", \"count\": 5}, {\"start_year\": 2008.0, \"min_depth\": \"1900\", \"count\": 8}, {\"start_year\": 2008.0, \"min_depth\": \"1912\", \"count\": 10}, {\"start_year\": 2008.0, \"min_depth\": \"1924\", \"count\": 1}, {\"start_year\": 2008.0, \"min_depth\": \"1924.5\", \"count\": 1}, {\"start_year\": 2008.0, \"min_depth\": \"1931\", \"count\": 8}, {\"start_year\": 2008.0, \"min_depth\": \"2\", \"count\": 4}, {\"start_year\": 2008.0, \"min_depth\": \"2448\", \"count\": 1}, {\"start_year\": 2008.0, \"min_depth\": \"2455\", \"count\": 1}, {\"start_year\": 2008.0, \"min_depth\": \"2484\", \"count\": 1}, {\"start_year\": 2008.0, \"min_depth\": \"2484.2\", \"count\": 1}, {\"start_year\": 2008.0, \"min_depth\": \"2491.5\", \"count\": 1}, {\"start_year\": 2008.0, \"min_depth\": \"2508\", \"count\": 2}, {\"start_year\": 2008.0, \"min_depth\": \"2514\", \"count\": 1}, {\"start_year\": 2008.0, \"min_depth\": \"2514.9\", \"count\": 1}, {\"start_year\": 2008.0, \"min_depth\": \"2539\", \"count\": 1}, {\"start_year\": 2008.0, \"min_depth\": \"2589\", \"count\": 1}, {\"start_year\": 2008.0, \"min_depth\": \"277\", \"count\": 2}, {\"start_year\": 2008.0, \"min_depth\": \"2906\", \"count\": 1}, {\"start_year\": 2008.0, \"min_depth\": \"2908\", \"count\": 2}, {\"start_year\": 2008.0, \"min_depth\": \"2987\", \"count\": 1}, {\"start_year\": 2008.0, \"min_depth\": \"2990\", \"count\": 2}, {\"start_year\": 2008.0, \"min_depth\": \"2992.5\", \"count\": 1}, {\"start_year\": 2008.0, \"min_depth\": \"376\", \"count\": 7}, {\"start_year\": 2008.0, \"min_depth\": \"384\", \"count\": 3}, {\"start_year\": 2008.0, \"min_depth\": \"385\", \"count\": 3}, {\"start_year\": 2008.0, \"min_depth\": \"386\", \"count\": 3}, {\"start_year\": 2008.0, \"min_depth\": \"387\", \"count\": 9}, {\"start_year\": 2008.0, \"min_depth\": \"388\", \"count\": 9}, {\"start_year\": 2008.0, \"min_depth\": \"388.9\", \"count\": 2}, {\"start_year\": 2008.0, \"min_depth\": \"389\", \"count\": 7}, {\"start_year\": 2008.0, \"min_depth\": \"390\", \"count\": 15}, {\"start_year\": 2008.0, \"min_depth\": \"390.2\", \"count\": 1}, {\"start_year\": 2008.0, \"min_depth\": \"390.6\", \"count\": 3}, {\"start_year\": 2008.0, \"min_depth\": \"393\", \"count\": 2}, {\"start_year\": 2008.0, \"min_depth\": \"393.4\", \"count\": 2}, {\"start_year\": 2008.0, \"min_depth\": \"396\", \"count\": 11}, {\"start_year\": 2008.0, \"min_depth\": \"396.1\", \"count\": 2}, {\"start_year\": 2008.0, \"min_depth\": \"396.2\", \"count\": 2}, {\"start_year\": 2008.0, \"min_depth\": \"399\", \"count\": 5}, {\"start_year\": 2008.0, \"min_depth\": \"4\", \"count\": 1}, {\"start_year\": 2008.0, \"min_depth\": \"401\", \"count\": 6}, {\"start_year\": 2008.0, \"min_depth\": \"401.6\", \"count\": 2}, {\"start_year\": 2008.0, \"min_depth\": \"402\", \"count\": 16}, {\"start_year\": 2008.0, \"min_depth\": \"402.7\", \"count\": 2}, {\"start_year\": 2008.0, \"min_depth\": \"403\", \"count\": 3}, {\"start_year\": 2008.0, \"min_depth\": \"404\", \"count\": 5}, {\"start_year\": 2008.0, \"min_depth\": \"412\", \"count\": 1}, {\"start_year\": 2008.0, \"min_depth\": \"417\", \"count\": 2}, {\"start_year\": 2008.0, \"min_depth\": \"424\", \"count\": 1}, {\"start_year\": 2008.0, \"min_depth\": \"447\", \"count\": 5}, {\"start_year\": 2008.0, \"min_depth\": \"451\", \"count\": 3}, {\"start_year\": 2008.0, \"min_depth\": \"466\", \"count\": 9}, {\"start_year\": 2008.0, \"min_depth\": \"466.8\", \"count\": 2}, {\"start_year\": 2008.0, \"min_depth\": \"469\", \"count\": 8}, {\"start_year\": 2008.0, \"min_depth\": \"48.2\", \"count\": 1}, {\"start_year\": 2008.0, \"min_depth\": \"481\", \"count\": 9}, {\"start_year\": 2008.0, \"min_depth\": \"481.4\", \"count\": 1}, {\"start_year\": 2008.0, \"min_depth\": \"493\", \"count\": 2}, {\"start_year\": 2008.0, \"min_depth\": \"502\", \"count\": 1}, {\"start_year\": 2008.0, \"min_depth\": \"529\", \"count\": 22}, {\"start_year\": 2008.0, \"min_depth\": \"59.5\", \"count\": 1}, {\"start_year\": 2008.0, \"min_depth\": \"603\", \"count\": 1}, {\"start_year\": 2008.0, \"min_depth\": \"615\", \"count\": 1}, {\"start_year\": 2008.0, \"min_depth\": \"619\", \"count\": 1}, {\"start_year\": 2008.0, \"min_depth\": \"621\", \"count\": 2}, {\"start_year\": 2008.0, \"min_depth\": \"636\", \"count\": 1}, {\"start_year\": 2008.0, \"min_depth\": \"64.8\", \"count\": 1}, {\"start_year\": 2008.0, \"min_depth\": \"686.1\", \"count\": 1}, {\"start_year\": 2008.0, \"min_depth\": \"689.4\", \"count\": 1}, {\"start_year\": 2008.0, \"min_depth\": \"692\", \"count\": 7}, {\"start_year\": 2008.0, \"min_depth\": \"693\", \"count\": 8}, {\"start_year\": 2008.0, \"min_depth\": \"693.7\", \"count\": 3}, {\"start_year\": 2008.0, \"min_depth\": \"697\", \"count\": 2}, {\"start_year\": 2008.0, \"min_depth\": \"699\", \"count\": 7}, {\"start_year\": 2008.0, \"min_depth\": \"699.7\", \"count\": 1}, {\"start_year\": 2008.0, \"min_depth\": \"700\", \"count\": 12}, {\"start_year\": 2008.0, \"min_depth\": \"705\", \"count\": 17}, {\"start_year\": 2008.0, \"min_depth\": \"705.3\", \"count\": 2}, {\"start_year\": 2008.0, \"min_depth\": \"707\", \"count\": 4}, {\"start_year\": 2008.0, \"min_depth\": \"707.1\", \"count\": 5}, {\"start_year\": 2008.0, \"min_depth\": \"709\", \"count\": 5}, {\"start_year\": 2008.0, \"min_depth\": \"709.7\", \"count\": 1}, {\"start_year\": 2008.0, \"min_depth\": \"710\", \"count\": 4}, {\"start_year\": 2008.0, \"min_depth\": \"710.1\", \"count\": 1}, {\"start_year\": 2008.0, \"min_depth\": \"712\", \"count\": 7}, {\"start_year\": 2008.0, \"min_depth\": \"712.6\", \"count\": 4}, {\"start_year\": 2008.0, \"min_depth\": \"724\", \"count\": 6}, {\"start_year\": 2008.0, \"min_depth\": \"726\", \"count\": 2}, {\"start_year\": 2008.0, \"min_depth\": \"726.8\", \"count\": 1}, {\"start_year\": 2008.0, \"min_depth\": \"730\", \"count\": 3}, {\"start_year\": 2008.0, \"min_depth\": \"730.5\", \"count\": 3}, {\"start_year\": 2008.0, \"min_depth\": \"732\", \"count\": 1}, {\"start_year\": 2008.0, \"min_depth\": \"732.9\", \"count\": 4}, {\"start_year\": 2008.0, \"min_depth\": \"752\", \"count\": 9}, {\"start_year\": 2008.0, \"min_depth\": \"752.5\", \"count\": 3}, {\"start_year\": 2008.0, \"min_depth\": \"758\", \"count\": 5}, {\"start_year\": 2008.0, \"min_depth\": \"807\", \"count\": 2}, {\"start_year\": 2008.0, \"min_depth\": \"815\", \"count\": 1}, {\"start_year\": 2008.0, \"min_depth\": \"975\", \"count\": 5}, {\"start_year\": 2008.0, \"min_depth\": \"978\", \"count\": 12}, {\"start_year\": 2008.0, \"min_depth\": \"98.7\", \"count\": 7}, {\"start_year\": 2008.0, \"min_depth\": \"98.8\", \"count\": 1}, {\"start_year\": 2008.0, \"min_depth\": \"984\", \"count\": 10}, {\"start_year\": 2008.0, \"min_depth\": \"984.3\", \"count\": 1}, {\"start_year\": 2008.0, \"min_depth\": \"984.4\", \"count\": 2}, {\"start_year\": 2008.0, \"min_depth\": \"984.5\", \"count\": 1}, {\"start_year\": 2008.0, \"min_depth\": \"986\", \"count\": 11}, {\"start_year\": 2008.0, \"min_depth\": \"988\", \"count\": 4}, {\"start_year\": 2008.0, \"min_depth\": \"988.4\", \"count\": 6}, {\"start_year\": 2008.0, \"min_depth\": \"989\", \"count\": 19}, {\"start_year\": 2008.0, \"min_depth\": \"989.5\", \"count\": 1}, {\"start_year\": 2008.0, \"min_depth\": \"990\", \"count\": 17}, {\"start_year\": 2008.0, \"min_depth\": \"992\", \"count\": 6}, {\"start_year\": 2008.0, \"min_depth\": \"992.6\", \"count\": 9}, {\"start_year\": 2008.0, \"min_depth\": \"996\", \"count\": 2}, {\"start_year\": 2008.0, \"min_depth\": \"997\", \"count\": 7}, {\"start_year\": 2008.0, \"min_depth\": \"999\", \"count\": 1}, {\"start_year\": 2008.0, \"min_depth\": \"999.9\", \"count\": 2}, {\"start_year\": 2009.0, \"min_depth\": \"0\", \"count\": 42}, {\"start_year\": 2009.0, \"min_depth\": \"100\", \"count\": 5}, {\"start_year\": 2009.0, \"min_depth\": \"1001\", \"count\": 6}, {\"start_year\": 2009.0, \"min_depth\": \"1001.4\", \"count\": 2}, {\"start_year\": 2009.0, \"min_depth\": \"1001.5\", \"count\": 1}, {\"start_year\": 2009.0, \"min_depth\": \"1003\", \"count\": 13}, {\"start_year\": 2009.0, \"min_depth\": \"1004\", \"count\": 5}, {\"start_year\": 2009.0, \"min_depth\": \"1004.7\", \"count\": 3}, {\"start_year\": 2009.0, \"min_depth\": \"1006\", \"count\": 3}, {\"start_year\": 2009.0, \"min_depth\": \"1006.8\", \"count\": 3}, {\"start_year\": 2009.0, \"min_depth\": \"1007\", \"count\": 2}, {\"start_year\": 2009.0, \"min_depth\": \"1008\", \"count\": 2}, {\"start_year\": 2009.0, \"min_depth\": \"101\", \"count\": 12}, {\"start_year\": 2009.0, \"min_depth\": \"1010\", \"count\": 8}, {\"start_year\": 2009.0, \"min_depth\": \"1013\", \"count\": 2}, {\"start_year\": 2009.0, \"min_depth\": \"1017\", \"count\": 4}, {\"start_year\": 2009.0, \"min_depth\": \"1017.9\", \"count\": 2}, {\"start_year\": 2009.0, \"min_depth\": \"1020\", \"count\": 2}, {\"start_year\": 2009.0, \"min_depth\": \"1021\", \"count\": 4}, {\"start_year\": 2009.0, \"min_depth\": \"1023\", \"count\": 1}, {\"start_year\": 2009.0, \"min_depth\": \"103\", \"count\": 30}, {\"start_year\": 2009.0, \"min_depth\": \"1030\", \"count\": 12}, {\"start_year\": 2009.0, \"min_depth\": \"104\", \"count\": 28}, {\"start_year\": 2009.0, \"min_depth\": \"105\", \"count\": 25}, {\"start_year\": 2009.0, \"min_depth\": \"106\", \"count\": 16}, {\"start_year\": 2009.0, \"min_depth\": \"107\", \"count\": 11}, {\"start_year\": 2009.0, \"min_depth\": \"1074\", \"count\": 3}, {\"start_year\": 2009.0, \"min_depth\": \"110\", \"count\": 7}, {\"start_year\": 2009.0, \"min_depth\": \"1107\", \"count\": 5}, {\"start_year\": 2009.0, \"min_depth\": \"111\", \"count\": 6}, {\"start_year\": 2009.0, \"min_depth\": \"1153\", \"count\": 2}, {\"start_year\": 2009.0, \"min_depth\": \"117\", \"count\": 18}, {\"start_year\": 2009.0, \"min_depth\": \"1175\", \"count\": 1}, {\"start_year\": 2009.0, \"min_depth\": \"1180\", \"count\": 1}, {\"start_year\": 2009.0, \"min_depth\": \"12\", \"count\": 3}, {\"start_year\": 2009.0, \"min_depth\": \"120\", \"count\": 6}, {\"start_year\": 2009.0, \"min_depth\": \"1216\", \"count\": 2}, {\"start_year\": 2009.0, \"min_depth\": \"1228\", \"count\": 2}, {\"start_year\": 2009.0, \"min_depth\": \"1228.5\", \"count\": 2}, {\"start_year\": 2009.0, \"min_depth\": \"125\", \"count\": 1}, {\"start_year\": 2009.0, \"min_depth\": \"1272\", \"count\": 3}, {\"start_year\": 2009.0, \"min_depth\": \"1285\", \"count\": 3}, {\"start_year\": 2009.0, \"min_depth\": \"1285.4\", \"count\": 1}, {\"start_year\": 2009.0, \"min_depth\": \"1285.8\", \"count\": 1}, {\"start_year\": 2009.0, \"min_depth\": \"1288\", \"count\": 1}, {\"start_year\": 2009.0, \"min_depth\": \"1290\", \"count\": 3}, {\"start_year\": 2009.0, \"min_depth\": \"1290.5\", \"count\": 2}, {\"start_year\": 2009.0, \"min_depth\": \"1296\", \"count\": 8}, {\"start_year\": 2009.0, \"min_depth\": \"1300\", \"count\": 18}, {\"start_year\": 2009.0, \"min_depth\": \"1300.7\", \"count\": 1}, {\"start_year\": 2009.0, \"min_depth\": \"1302\", \"count\": 11}, {\"start_year\": 2009.0, \"min_depth\": \"1310\", \"count\": 6}, {\"start_year\": 2009.0, \"min_depth\": \"1317.5\", \"count\": 1}, {\"start_year\": 2009.0, \"min_depth\": \"1319\", \"count\": 1}, {\"start_year\": 2009.0, \"min_depth\": \"1320\", \"count\": 8}, {\"start_year\": 2009.0, \"min_depth\": \"1328\", \"count\": 1}, {\"start_year\": 2009.0, \"min_depth\": \"1328.8\", \"count\": 1}, {\"start_year\": 2009.0, \"min_depth\": \"1333\", \"count\": 2}, {\"start_year\": 2009.0, \"min_depth\": \"1335\", \"count\": 2}, {\"start_year\": 2009.0, \"min_depth\": \"137\", \"count\": 1}, {\"start_year\": 2009.0, \"min_depth\": \"138\", \"count\": 1}, {\"start_year\": 2009.0, \"min_depth\": \"139\", \"count\": 6}, {\"start_year\": 2009.0, \"min_depth\": \"139 m\", \"count\": 1}, {\"start_year\": 2009.0, \"min_depth\": \"140\", \"count\": 3}, {\"start_year\": 2009.0, \"min_depth\": \"141\", \"count\": 1}, {\"start_year\": 2009.0, \"min_depth\": \"142\", \"count\": 31}, {\"start_year\": 2009.0, \"min_depth\": \"143\", \"count\": 16}, {\"start_year\": 2009.0, \"min_depth\": \"144\", \"count\": 2}, {\"start_year\": 2009.0, \"min_depth\": \"145\", \"count\": 7}, {\"start_year\": 2009.0, \"min_depth\": \"147\", \"count\": 21}, {\"start_year\": 2009.0, \"min_depth\": \"148\", \"count\": 2}, {\"start_year\": 2009.0, \"min_depth\": \"149\", \"count\": 7}, {\"start_year\": 2009.0, \"min_depth\": \"15\", \"count\": 30}, {\"start_year\": 2009.0, \"min_depth\": \"150\", \"count\": 9}, {\"start_year\": 2009.0, \"min_depth\": \"153\", \"count\": 10}, {\"start_year\": 2009.0, \"min_depth\": \"154\", \"count\": 11}, {\"start_year\": 2009.0, \"min_depth\": \"16\", \"count\": 20}, {\"start_year\": 2009.0, \"min_depth\": \"17\", \"count\": 8}, {\"start_year\": 2009.0, \"min_depth\": \"174\", \"count\": 1}, {\"start_year\": 2009.0, \"min_depth\": \"18\", \"count\": 9}, {\"start_year\": 2009.0, \"min_depth\": \"1875.3\", \"count\": 1}, {\"start_year\": 2009.0, \"min_depth\": \"1897\", \"count\": 1}, {\"start_year\": 2009.0, \"min_depth\": \"1899\", \"count\": 1}, {\"start_year\": 2009.0, \"min_depth\": \"19\", \"count\": 2}, {\"start_year\": 2009.0, \"min_depth\": \"1901.1\", \"count\": 1}, {\"start_year\": 2009.0, \"min_depth\": \"1903\", \"count\": 1}, {\"start_year\": 2009.0, \"min_depth\": \"1905\", \"count\": 1}, {\"start_year\": 2009.0, \"min_depth\": \"1912\", \"count\": 2}, {\"start_year\": 2009.0, \"min_depth\": \"1912.3\", \"count\": 1}, {\"start_year\": 2009.0, \"min_depth\": \"1919\", \"count\": 3}, {\"start_year\": 2009.0, \"min_depth\": \"1921\", \"count\": 1}, {\"start_year\": 2009.0, \"min_depth\": \"1932\", \"count\": 5}, {\"start_year\": 2009.0, \"min_depth\": \"1935\", \"count\": 1}, {\"start_year\": 2009.0, \"min_depth\": \"1937\", \"count\": 1}, {\"start_year\": 2009.0, \"min_depth\": \"1953\", \"count\": 2}, {\"start_year\": 2009.0, \"min_depth\": \"1954\", \"count\": 1}, {\"start_year\": 2009.0, \"min_depth\": \"20\", \"count\": 27}, {\"start_year\": 2009.0, \"min_depth\": \"2014\", \"count\": 2}, {\"start_year\": 2009.0, \"min_depth\": \"2045\", \"count\": 1}, {\"start_year\": 2009.0, \"min_depth\": \"21\", \"count\": 25}, {\"start_year\": 2009.0, \"min_depth\": \"22\", \"count\": 20}, {\"start_year\": 2009.0, \"min_depth\": \"23\", \"count\": 12}, {\"start_year\": 2009.0, \"min_depth\": \"24\", \"count\": 26}, {\"start_year\": 2009.0, \"min_depth\": \"2407.3\", \"count\": 2}, {\"start_year\": 2009.0, \"min_depth\": \"2408\", \"count\": 2}, {\"start_year\": 2009.0, \"min_depth\": \"2423\", \"count\": 1}, {\"start_year\": 2009.0, \"min_depth\": \"2433\", \"count\": 1}, {\"start_year\": 2009.0, \"min_depth\": \"2507\", \"count\": 2}, {\"start_year\": 2009.0, \"min_depth\": \"2599\", \"count\": 1}, {\"start_year\": 2009.0, \"min_depth\": \"2599.0\", \"count\": 1}, {\"start_year\": 2009.0, \"min_depth\": \"26\", \"count\": 33}, {\"start_year\": 2009.0, \"min_depth\": \"2663\", \"count\": 1}, {\"start_year\": 2009.0, \"min_depth\": \"27\", \"count\": 24}, {\"start_year\": 2009.0, \"min_depth\": \"28\", \"count\": 49}, {\"start_year\": 2009.0, \"min_depth\": \"2810\", \"count\": 2}, {\"start_year\": 2009.0, \"min_depth\": \"29\", \"count\": 41}, {\"start_year\": 2009.0, \"min_depth\": \"2975\", \"count\": 1}, {\"start_year\": 2009.0, \"min_depth\": \"30\", \"count\": 21}, {\"start_year\": 2009.0, \"min_depth\": \"3013\", \"count\": 3}, {\"start_year\": 2009.0, \"min_depth\": \"3015\", \"count\": 1}, {\"start_year\": 2009.0, \"min_depth\": \"3016\", \"count\": 1}, {\"start_year\": 2009.0, \"min_depth\": \"3017\", \"count\": 1}, {\"start_year\": 2009.0, \"min_depth\": \"3084\", \"count\": 1}, {\"start_year\": 2009.0, \"min_depth\": \"3093\", \"count\": 2}, {\"start_year\": 2009.0, \"min_depth\": \"32\", \"count\": 7}, {\"start_year\": 2009.0, \"min_depth\": \"3268\", \"count\": 1}, {\"start_year\": 2009.0, \"min_depth\": \"33\", \"count\": 11}, {\"start_year\": 2009.0, \"min_depth\": \"3342\", \"count\": 8}, {\"start_year\": 2009.0, \"min_depth\": \"360\", \"count\": 1}, {\"start_year\": 2009.0, \"min_depth\": \"3721\", \"count\": 8}, {\"start_year\": 2009.0, \"min_depth\": \"376\", \"count\": 2}, {\"start_year\": 2009.0, \"min_depth\": \"376.6\", \"count\": 2}, {\"start_year\": 2009.0, \"min_depth\": \"380\", \"count\": 3}, {\"start_year\": 2009.0, \"min_depth\": \"383\", \"count\": 3}, {\"start_year\": 2009.0, \"min_depth\": \"383.8\", \"count\": 1}, {\"start_year\": 2009.0, \"min_depth\": \"385\", \"count\": 6}, {\"start_year\": 2009.0, \"min_depth\": \"386\", \"count\": 7}, {\"start_year\": 2009.0, \"min_depth\": \"387\", \"count\": 3}, {\"start_year\": 2009.0, \"min_depth\": \"387.1\", \"count\": 1}, {\"start_year\": 2009.0, \"min_depth\": \"390\", \"count\": 2}, {\"start_year\": 2009.0, \"min_depth\": \"390.5\", \"count\": 2}, {\"start_year\": 2009.0, \"min_depth\": \"390.7\", \"count\": 1}, {\"start_year\": 2009.0, \"min_depth\": \"393\", \"count\": 2}, {\"start_year\": 2009.0, \"min_depth\": \"393.6\", \"count\": 1}, {\"start_year\": 2009.0, \"min_depth\": \"400\", \"count\": 14}, {\"start_year\": 2009.0, \"min_depth\": \"400.5\", \"count\": 3}, {\"start_year\": 2009.0, \"min_depth\": \"401\", \"count\": 8}, {\"start_year\": 2009.0, \"min_depth\": \"402\", \"count\": 6}, {\"start_year\": 2009.0, \"min_depth\": \"404\", \"count\": 2}, {\"start_year\": 2009.0, \"min_depth\": \"405\", \"count\": 3}, {\"start_year\": 2009.0, \"min_depth\": \"4120\", \"count\": 17}, {\"start_year\": 2009.0, \"min_depth\": \"417\", \"count\": 7}, {\"start_year\": 2009.0, \"min_depth\": \"418\", \"count\": 8}, {\"start_year\": 2009.0, \"min_depth\": \"432\", \"count\": 3}, {\"start_year\": 2009.0, \"min_depth\": \"44\", \"count\": 22}, {\"start_year\": 2009.0, \"min_depth\": \"45\", \"count\": 9}, {\"start_year\": 2009.0, \"min_depth\": \"47\", \"count\": 20}, {\"start_year\": 2009.0, \"min_depth\": \"4715\", \"count\": 1}, {\"start_year\": 2009.0, \"min_depth\": \"474\", \"count\": 1}, {\"start_year\": 2009.0, \"min_depth\": \"48\", \"count\": 12}, {\"start_year\": 2009.0, \"min_depth\": \"49\", \"count\": 79}, {\"start_year\": 2009.0, \"min_depth\": \"50\", \"count\": 12}, {\"start_year\": 2009.0, \"min_depth\": \"500\", \"count\": 6}, {\"start_year\": 2009.0, \"min_depth\": \"52\", \"count\": 107}, {\"start_year\": 2009.0, \"min_depth\": \"52 m\", \"count\": 1}, {\"start_year\": 2009.0, \"min_depth\": \"522\", \"count\": 2}, {\"start_year\": 2009.0, \"min_depth\": \"53\", \"count\": 80}, {\"start_year\": 2009.0, \"min_depth\": \"53 m\", \"count\": 2}, {\"start_year\": 2009.0, \"min_depth\": \"54\", \"count\": 28}, {\"start_year\": 2009.0, \"min_depth\": \"56\", \"count\": 28}, {\"start_year\": 2009.0, \"min_depth\": \"59\", \"count\": 8}, {\"start_year\": 2009.0, \"min_depth\": \"60\", \"count\": 12}, {\"start_year\": 2009.0, \"min_depth\": \"612\", \"count\": 1}, {\"start_year\": 2009.0, \"min_depth\": \"620\", \"count\": 1}, {\"start_year\": 2009.0, \"min_depth\": \"623\", \"count\": 1}, {\"start_year\": 2009.0, \"min_depth\": \"624\", \"count\": 1}, {\"start_year\": 2009.0, \"min_depth\": \"625\", \"count\": 1}, {\"start_year\": 2009.0, \"min_depth\": \"626\", \"count\": 1}, {\"start_year\": 2009.0, \"min_depth\": \"630\", \"count\": 1}, {\"start_year\": 2009.0, \"min_depth\": \"65\", \"count\": 19}, {\"start_year\": 2009.0, \"min_depth\": \"66\", \"count\": 2}, {\"start_year\": 2009.0, \"min_depth\": \"67\", \"count\": 16}, {\"start_year\": 2009.0, \"min_depth\": \"68\", \"count\": 12}, {\"start_year\": 2009.0, \"min_depth\": \"680\", \"count\": 16}, {\"start_year\": 2009.0, \"min_depth\": \"682\", \"count\": 9}, {\"start_year\": 2009.0, \"min_depth\": \"683\", \"count\": 6}, {\"start_year\": 2009.0, \"min_depth\": \"686\", \"count\": 2}, {\"start_year\": 2009.0, \"min_depth\": \"692\", \"count\": 5}, {\"start_year\": 2009.0, \"min_depth\": \"695\", \"count\": 6}, {\"start_year\": 2009.0, \"min_depth\": \"695.4\", \"count\": 1}, {\"start_year\": 2009.0, \"min_depth\": \"698\", \"count\": 2}, {\"start_year\": 2009.0, \"min_depth\": \"698.1\", \"count\": 1}, {\"start_year\": 2009.0, \"min_depth\": \"699\", \"count\": 5}, {\"start_year\": 2009.0, \"min_depth\": \"699.7\", \"count\": 1}, {\"start_year\": 2009.0, \"min_depth\": \"70\", \"count\": 11}, {\"start_year\": 2009.0, \"min_depth\": \"700\", \"count\": 14}, {\"start_year\": 2009.0, \"min_depth\": \"700.2\", \"count\": 1}, {\"start_year\": 2009.0, \"min_depth\": \"700.7\", \"count\": 1}, {\"start_year\": 2009.0, \"min_depth\": \"701\", \"count\": 15}, {\"start_year\": 2009.0, \"min_depth\": \"702\", \"count\": 7}, {\"start_year\": 2009.0, \"min_depth\": \"702.1\", \"count\": 3}, {\"start_year\": 2009.0, \"min_depth\": \"708\", \"count\": 3}, {\"start_year\": 2009.0, \"min_depth\": \"72\", \"count\": 4}, {\"start_year\": 2009.0, \"min_depth\": \"720\", \"count\": 14}, {\"start_year\": 2009.0, \"min_depth\": \"73\", \"count\": 76}, {\"start_year\": 2009.0, \"min_depth\": \"737\", \"count\": 4}, {\"start_year\": 2009.0, \"min_depth\": \"74\", \"count\": 2}, {\"start_year\": 2009.0, \"min_depth\": \"741\", \"count\": 3}, {\"start_year\": 2009.0, \"min_depth\": \"741.6\", \"count\": 1}, {\"start_year\": 2009.0, \"min_depth\": \"75\", \"count\": 64}, {\"start_year\": 2009.0, \"min_depth\": \"76\", \"count\": 3}, {\"start_year\": 2009.0, \"min_depth\": \"761\", \"count\": 2}, {\"start_year\": 2009.0, \"min_depth\": \"77\", \"count\": 29}, {\"start_year\": 2009.0, \"min_depth\": \"775\", \"count\": 4}, {\"start_year\": 2009.0, \"min_depth\": \"78\", \"count\": 40}, {\"start_year\": 2009.0, \"min_depth\": \"780\", \"count\": 9}, {\"start_year\": 2009.0, \"min_depth\": \"80\", \"count\": 14}, {\"start_year\": 2009.0, \"min_depth\": \"88\", \"count\": 1}, {\"start_year\": 2009.0, \"min_depth\": \"89\", \"count\": 4}, {\"start_year\": 2009.0, \"min_depth\": \"90\", \"count\": 11}, {\"start_year\": 2009.0, \"min_depth\": \"902\", \"count\": 13}, {\"start_year\": 2009.0, \"min_depth\": \"91\", \"count\": 25}, {\"start_year\": 2009.0, \"min_depth\": \"92\", \"count\": 41}, {\"start_year\": 2009.0, \"min_depth\": \"96\", \"count\": 3}, {\"start_year\": 2009.0, \"min_depth\": \"96 m\", \"count\": 2}, {\"start_year\": 2009.0, \"min_depth\": \"962\", \"count\": 2}, {\"start_year\": 2009.0, \"min_depth\": \"964.8\", \"count\": 1}, {\"start_year\": 2009.0, \"min_depth\": \"97\", \"count\": 26}, {\"start_year\": 2009.0, \"min_depth\": \"977\", \"count\": 2}, {\"start_year\": 2009.0, \"min_depth\": \"98\", \"count\": 28}, {\"start_year\": 2009.0, \"min_depth\": \"99\", \"count\": 18}, {\"start_year\": 2009.0, \"min_depth\": \"992\", \"count\": 16}, {\"start_year\": 2009.0, \"min_depth\": \"993\", \"count\": 4}, {\"start_year\": 2009.0, \"min_depth\": \"996\", \"count\": 2}, {\"start_year\": 2009.0, \"min_depth\": \"996.9\", \"count\": 2}, {\"start_year\": 2009.0, \"min_depth\": \"997\", \"count\": 2}, {\"start_year\": 2009.0, \"min_depth\": \"998\", \"count\": 9}, {\"start_year\": 2010.0, \"min_depth\": \"0\", \"count\": 31}, {\"start_year\": 2010.0, \"min_depth\": \"100\", \"count\": 18}, {\"start_year\": 2010.0, \"min_depth\": \"101\", \"count\": 5}, {\"start_year\": 2010.0, \"min_depth\": \"103\", \"count\": 1}, {\"start_year\": 2010.0, \"min_depth\": \"105\", \"count\": 1}, {\"start_year\": 2010.0, \"min_depth\": \"106\", \"count\": 5}, {\"start_year\": 2010.0, \"min_depth\": \"20\", \"count\": 9}, {\"start_year\": 2010.0, \"min_depth\": \"29\", \"count\": 1}, {\"start_year\": 2010.0, \"min_depth\": \"38\", \"count\": 1}, {\"start_year\": 2010.0, \"min_depth\": \"38 m\", \"count\": 1}, {\"start_year\": 2010.0, \"min_depth\": \"41\", \"count\": 2}, {\"start_year\": 2010.0, \"min_depth\": \"41 m\", \"count\": 1}, {\"start_year\": 2010.0, \"min_depth\": \"43\", \"count\": 3}, {\"start_year\": 2010.0, \"min_depth\": \"43 m\", \"count\": 1}, {\"start_year\": 2010.0, \"min_depth\": \"47 m\", \"count\": 1}, {\"start_year\": 2010.0, \"min_depth\": \"51\", \"count\": 1}, {\"start_year\": 2010.0, \"min_depth\": \"53\", \"count\": 2}, {\"start_year\": 2010.0, \"min_depth\": \"54\", \"count\": 1}, {\"start_year\": 2010.0, \"min_depth\": \"95\", \"count\": 4}, {\"start_year\": 2010.0, \"min_depth\": \"98\", \"count\": 2}, {\"start_year\": 2010.0, \"min_depth\": \"99\", \"count\": 3}, {\"start_year\": 2011.0, \"min_depth\": \"0\", \"count\": 29}, {\"start_year\": 2011.0, \"min_depth\": \"105\", \"count\": 2}, {\"start_year\": 2011.0, \"min_depth\": \"1300 m\", \"count\": 1}, {\"start_year\": 2011.0, \"min_depth\": \"1302 m\", \"count\": 2}, {\"start_year\": 2011.0, \"min_depth\": \"1307\", \"count\": 1}, {\"start_year\": 2011.0, \"min_depth\": \"16 m\", \"count\": 1}, {\"start_year\": 2011.0, \"min_depth\": \"171\", \"count\": 1}, {\"start_year\": 2011.0, \"min_depth\": \"2494\", \"count\": 2}, {\"start_year\": 2011.0, \"min_depth\": \"30 m\", \"count\": 1}, {\"start_year\": 2011.0, \"min_depth\": \"3004\", \"count\": 1}, {\"start_year\": 2011.0, \"min_depth\": \"31\", \"count\": 1}, {\"start_year\": 2011.0, \"min_depth\": \"3342\", \"count\": 1}, {\"start_year\": 2011.0, \"min_depth\": \"34\", \"count\": 2}, {\"start_year\": 2011.0, \"min_depth\": \"34 m\", \"count\": 1}, {\"start_year\": 2011.0, \"min_depth\": \"39\", \"count\": 1}, {\"start_year\": 2011.0, \"min_depth\": \"41\", \"count\": 1}, {\"start_year\": 2011.0, \"min_depth\": \"41 m\", \"count\": 1}, {\"start_year\": 2011.0, \"min_depth\": \"46\", \"count\": 1}, {\"start_year\": 2011.0, \"min_depth\": \"46 m\", \"count\": 2}, {\"start_year\": 2011.0, \"min_depth\": \"47\", \"count\": 2}, {\"start_year\": 2011.0, \"min_depth\": \"47 m\", \"count\": 2}, {\"start_year\": 2011.0, \"min_depth\": \"500\", \"count\": 1}, {\"start_year\": 2011.0, \"min_depth\": \"51\", \"count\": 3}, {\"start_year\": 2011.0, \"min_depth\": \"51 m\", \"count\": 3}, {\"start_year\": 2011.0, \"min_depth\": \"52\", \"count\": 3}, {\"start_year\": 2011.0, \"min_depth\": \"53\", \"count\": 3}, {\"start_year\": 2012.0, \"min_depth\": \"0\", \"count\": 14}, {\"start_year\": 2012.0, \"min_depth\": \"0.1\", \"count\": 1}, {\"start_year\": 2012.0, \"min_depth\": \"0.45\", \"count\": 3}, {\"start_year\": 2012.0, \"min_depth\": \"1000\", \"count\": 1}, {\"start_year\": 2012.0, \"min_depth\": \"1040\", \"count\": 1}, {\"start_year\": 2012.0, \"min_depth\": \"141 m\", \"count\": 1}, {\"start_year\": 2012.0, \"min_depth\": \"147\", \"count\": 2}, {\"start_year\": 2012.0, \"min_depth\": \"149\", \"count\": 1}, {\"start_year\": 2012.0, \"min_depth\": \"25\", \"count\": 6}, {\"start_year\": 2012.0, \"min_depth\": \"25 m\", \"count\": 7}, {\"start_year\": 2012.0, \"min_depth\": \"39\", \"count\": 2}, {\"start_year\": 2012.0, \"min_depth\": \"39 m\", \"count\": 6}, {\"start_year\": 2012.0, \"min_depth\": \"40\", \"count\": 4}, {\"start_year\": 2012.0, \"min_depth\": \"40 m\", \"count\": 4}, {\"start_year\": 2012.0, \"min_depth\": \"41\", \"count\": 1}, {\"start_year\": 2012.0, \"min_depth\": \"41 m\", \"count\": 2}, {\"start_year\": 2012.0, \"min_depth\": \"410 m\", \"count\": 1}, {\"start_year\": 2012.0, \"min_depth\": \"428\", \"count\": 1}, {\"start_year\": 2012.0, \"min_depth\": \"49\", \"count\": 1}, {\"start_year\": 2012.0, \"min_depth\": \"49 m\", \"count\": 1}, {\"start_year\": 2012.0, \"min_depth\": \"50\", \"count\": 4}, {\"start_year\": 2012.0, \"min_depth\": \"50 m\", \"count\": 3}, {\"start_year\": 2012.0, \"min_depth\": \"52\", \"count\": 1}, {\"start_year\": 2012.0, \"min_depth\": \"52 m\", \"count\": 2}, {\"start_year\": 2012.0, \"min_depth\": \"55\", \"count\": 3}, {\"start_year\": 2012.0, \"min_depth\": \"55 m\", \"count\": 2}, {\"start_year\": 2013.0, \"min_depth\": \"0\", \"count\": 94}, {\"start_year\": 2013.0, \"min_depth\": \"1\", \"count\": 13}, {\"start_year\": 2013.0, \"min_depth\": \"1003\", \"count\": 1}, {\"start_year\": 2013.0, \"min_depth\": \"1003 m\", \"count\": 2}, {\"start_year\": 2013.0, \"min_depth\": \"1040\", \"count\": 1}, {\"start_year\": 2013.0, \"min_depth\": \"1050\", \"count\": 2}, {\"start_year\": 2013.0, \"min_depth\": \"1050 m\", \"count\": 1}, {\"start_year\": 2013.0, \"min_depth\": \"1250\", \"count\": 1}, {\"start_year\": 2013.0, \"min_depth\": \"1251\", \"count\": 3}, {\"start_year\": 2013.0, \"min_depth\": \"1295\", \"count\": 2}, {\"start_year\": 2013.0, \"min_depth\": \"1295 m\", \"count\": 1}, {\"start_year\": 2013.0, \"min_depth\": \"141 m\", \"count\": 2}, {\"start_year\": 2013.0, \"min_depth\": \"143\", \"count\": 1}, {\"start_year\": 2013.0, \"min_depth\": \"143 m\", \"count\": 1}, {\"start_year\": 2013.0, \"min_depth\": \"146\", \"count\": 1}, {\"start_year\": 2013.0, \"min_depth\": \"160\", \"count\": 2}, {\"start_year\": 2013.0, \"min_depth\": \"160 m\", \"count\": 2}, {\"start_year\": 2013.0, \"min_depth\": \"1920\", \"count\": 1}, {\"start_year\": 2013.0, \"min_depth\": \"25\", \"count\": 1}, {\"start_year\": 2013.0, \"min_depth\": \"26\", \"count\": 1}, {\"start_year\": 2013.0, \"min_depth\": \"26 m\", \"count\": 2}, {\"start_year\": 2013.0, \"min_depth\": \"3000\", \"count\": 1}, {\"start_year\": 2013.0, \"min_depth\": \"360\", \"count\": 1}, {\"start_year\": 2013.0, \"min_depth\": \"38 m\", \"count\": 1}, {\"start_year\": 2013.0, \"min_depth\": \"39 m\", \"count\": 3}, {\"start_year\": 2013.0, \"min_depth\": \"40\", \"count\": 3}, {\"start_year\": 2013.0, \"min_depth\": \"40 m\", \"count\": 3}, {\"start_year\": 2013.0, \"min_depth\": \"41\", \"count\": 3}, {\"start_year\": 2013.0, \"min_depth\": \"41 m\", \"count\": 2}, {\"start_year\": 2013.0, \"min_depth\": \"415 m\", \"count\": 1}, {\"start_year\": 2013.0, \"min_depth\": \"449\", \"count\": 1}, {\"start_year\": 2013.0, \"min_depth\": \"49\", \"count\": 1}, {\"start_year\": 2013.0, \"min_depth\": \"49 m\", \"count\": 1}, {\"start_year\": 2013.0, \"min_depth\": \"50\", \"count\": 3}, {\"start_year\": 2013.0, \"min_depth\": \"50 m\", \"count\": 2}, {\"start_year\": 2013.0, \"min_depth\": \"51 m\", \"count\": 2}, {\"start_year\": 2013.0, \"min_depth\": \"53\", \"count\": 1}, {\"start_year\": 2013.0, \"min_depth\": \"53 m\", \"count\": 1}, {\"start_year\": 2013.0, \"min_depth\": \"921\", \"count\": 3}, {\"start_year\": 2013.0, \"min_depth\": \"970\", \"count\": 1}, {\"start_year\": 2014.0, \"min_depth\": \"0\", \"count\": 20}, {\"start_year\": 2014.0, \"min_depth\": \"1\", \"count\": 10}, {\"start_year\": 2015.0, \"min_depth\": \"0\", \"count\": 17}, {\"start_year\": 2015.0, \"min_depth\": \"1\", \"count\": 2}, {\"start_year\": 2015.0, \"min_depth\": \"1.3\", \"count\": 1}, {\"start_year\": 2015.0, \"min_depth\": \"100\", \"count\": 13}, {\"start_year\": 2015.0, \"min_depth\": \"15\", \"count\": 13}, {\"start_year\": 2015.0, \"min_depth\": \"20\", \"count\": 1}, {\"start_year\": 2015.0, \"min_depth\": \"21\", \"count\": 1}, {\"start_year\": 2016.0, \"min_depth\": \"0\", \"count\": 1}, {\"start_year\": 2016.0, \"min_depth\": \"1\", \"count\": 1}, {\"start_year\": 2099.0, \"min_depth\": \"28\", \"count\": 1}]}};\n",
       "const opt = {};\n",
       "const type = \"vega-lite\";\n",
       "const id = \"39e72bb8-b528-41cf-a342-1786c9dd77e3\";\n",
       "\n",
       "const output_area = this;\n",
       "\n",
       "require([\"nbextensions/jupyter-vega/index\"], function(vega) {\n",
       "  const target = document.createElement(\"div\");\n",
       "  target.id = id;\n",
       "  target.className = \"vega-embed\";\n",
       "\n",
       "  const style = document.createElement(\"style\");\n",
       "  style.textContent = [\n",
       "    \".vega-embed .error p {\",\n",
       "    \"  color: firebrick;\",\n",
       "    \"  font-size: 14px;\",\n",
       "    \"}\",\n",
       "  ].join(\"\\\\n\");\n",
       "\n",
       "  // element is a jQuery wrapped DOM element inside the output area\n",
       "  // see http://ipython.readthedocs.io/en/stable/api/generated/\\\n",
       "  // IPython.display.html#IPython.display.Javascript.__init__\n",
       "  element[0].appendChild(target);\n",
       "  element[0].appendChild(style);\n",
       "\n",
       "  vega.render(\"#\" + id, spec, type, opt, output_area);\n",
       "}, function (err) {\n",
       "  if (err.requireType !== \"scripterror\") {\n",
       "    throw(err);\n",
       "  }\n",
       "});\n"
      ],
      "text/plain": [
       "<vega.vegalite.VegaLite at 0x7f7e1fc59950>"
      ]
     },
     "metadata": {
      "jupyter-vega": "#39e72bb8-b528-41cf-a342-1786c9dd77e3"
     },
     "output_type": "display_data"
    },
    {
     "data": {
      "text/plain": []
     },
     "execution_count": 31,
     "metadata": {},
     "output_type": "execute_result"
    },
    {
     "data": {
      "image/png": "[encoded data removed]"
     },
     "metadata": {
      "jupyter-vega": "#39e72bb8-b528-41cf-a342-1786c9dd77e3"
     },
     "output_type": "display_data"
    }
   ],
   "source": [
    "# p.s.: I'm not considering the non-types\n",
    "g2 = alt.Chart(t, title='Depth of cataloged non-types per year',\n",
    "              height=400, width=800).mark_circle().encode(\n",
    "    x= alt.X('start_year', type='ordinal', title='Year'),\n",
    "    y= alt.Y('min_depth', type='quantitative', title='Depth', scale=alt.Scale(domain=[max_y,min_y])),\n",
    "    size=alt.Size('count',type= 'quantitative', legend=alt.Legend(title='Quantity'))\n",
    ")\n",
    "\n",
    "# salvando o gráfico\n",
    "# g2.save('./depth/non-types_per_year.svg')\n",
    "# g2.save('./depth/non-types_per_year.png')\n",
    "# g2.save('./depth/non-types_per_year.html')\n",
    "\n",
    "g2"
   ]
  },
  {
   "cell_type": "markdown",
   "metadata": {},
   "source": [
    "<br>\n",
    "\n",
    "### Filtering by type"
   ]
  },
  {
   "cell_type": "code",
   "execution_count": 32,
   "metadata": {
    "ExecuteTime": {
     "end_time": "2020-02-28T19:26:31.607353Z",
     "start_time": "2020-02-28T19:26:31.604196Z"
    }
   },
   "outputs": [],
   "source": [
    "# translation to graph title\n",
    "types_translate = {\n",
    "    'Holotipo':'holotypes',\n",
    "    'Alotipo':'alotypes',\n",
    "    'Paratipo':'paratypes'\n",
    "}"
   ]
  },
  {
   "cell_type": "code",
   "execution_count": 33,
   "metadata": {
    "ExecuteTime": {
     "end_time": "2020-02-28T19:26:45.357750Z",
     "start_time": "2020-02-28T19:26:31.609921Z"
    }
   },
   "outputs": [
    {
     "data": {
      "application/javascript": [
       "const spec = {\"config\": {\"view\": {\"width\": 400, \"height\": 300}, \"mark\": {\"tooltip\": null}}, \"data\": {\"name\": \"data-447817a42553be60979cd0352221c201\"}, \"mark\": {\"type\": \"circle\", \"color\": \"#4daf4a\"}, \"encoding\": {\"size\": {\"type\": \"quantitative\", \"field\": \"count\", \"legend\": {\"title\": \"Quantity\"}}, \"x\": {\"type\": \"ordinal\", \"field\": \"start_year\", \"title\": \"Year\"}, \"y\": {\"type\": \"quantitative\", \"field\": \"min_depth\", \"scale\": {\"domain\": [5029.0, 0.0]}, \"title\": \"Depth\"}}, \"height\": 400, \"title\": \"Depth of cataloged paratypes per year\", \"width\": 800, \"$schema\": \"https://vega.github.io/schema/vega-lite/v3.4.0.json\", \"datasets\": {\"data-447817a42553be60979cd0352221c201\": [{\"start_year\": 1910.0, \"min_depth\": \"0\", \"count\": 1}, {\"start_year\": 1927.0, \"min_depth\": \"0\", \"count\": 1}, {\"start_year\": 1938.0, \"min_depth\": \"0\", \"count\": 1}, {\"start_year\": 1939.0, \"min_depth\": \"0\", \"count\": 1}, {\"start_year\": 1940.0, \"min_depth\": \"0\", \"count\": 1}, {\"start_year\": 1941.0, \"min_depth\": \"0\", \"count\": 2}, {\"start_year\": 1942.0, \"min_depth\": \"0\", \"count\": 1}, {\"start_year\": 1943.0, \"min_depth\": \"0\", \"count\": 1}, {\"start_year\": 1944.0, \"min_depth\": \"0\", \"count\": 1}, {\"start_year\": 1945.0, \"min_depth\": \"0\", \"count\": 2}, {\"start_year\": 1946.0, \"min_depth\": \"0\", \"count\": 1}, {\"start_year\": 1947.0, \"min_depth\": \"0\", \"count\": 1}, {\"start_year\": 1948.0, \"min_depth\": \"0\", \"count\": 2}, {\"start_year\": 1950.0, \"min_depth\": \"0\", \"count\": 6}, {\"start_year\": 1950.0, \"min_depth\": \"5029\", \"count\": 1}, {\"start_year\": 1951.0, \"min_depth\": \"0\", \"count\": 3}, {\"start_year\": 1951.0, \"min_depth\": \"4940\", \"count\": 1}, {\"start_year\": 1952.0, \"min_depth\": \"0\", \"count\": 4}, {\"start_year\": 1952.0, \"min_depth\": \"2530\", \"count\": 1}, {\"start_year\": 1953.0, \"min_depth\": \"0\", \"count\": 2}, {\"start_year\": 1955.0, \"min_depth\": \"0\", \"count\": 3}, {\"start_year\": 1956.0, \"min_depth\": \"0\", \"count\": 3}, {\"start_year\": 1957.0, \"min_depth\": \"0\", \"count\": 2}, {\"start_year\": 1958.0, \"min_depth\": \"0\", \"count\": 2}, {\"start_year\": 1959.0, \"min_depth\": \"0\", \"count\": 7}, {\"start_year\": 1960.0, \"min_depth\": \"0\", \"count\": 2}, {\"start_year\": 1961.0, \"min_depth\": \"0\", \"count\": 2}, {\"start_year\": 1961.0, \"min_depth\": \"12\", \"count\": 1}, {\"start_year\": 1961.0, \"min_depth\": \"18\", \"count\": 1}, {\"start_year\": 1961.0, \"min_depth\": \"20\", \"count\": 1}, {\"start_year\": 1961.0, \"min_depth\": \"3\", \"count\": 1}, {\"start_year\": 1961.0, \"min_depth\": \"6\", \"count\": 1}, {\"start_year\": 1962.0, \"min_depth\": \"0\", \"count\": 1}, {\"start_year\": 1962.0, \"min_depth\": \"1\", \"count\": 1}, {\"start_year\": 1962.0, \"min_depth\": \"20\", \"count\": 1}, {\"start_year\": 1962.0, \"min_depth\": \"3\", \"count\": 1}, {\"start_year\": 1962.0, \"min_depth\": \"6\", \"count\": 2}, {\"start_year\": 1962.0, \"min_depth\": \"6.5\", \"count\": 1}, {\"start_year\": 1963.0, \"min_depth\": \"0\", \"count\": 4}, {\"start_year\": 1964.0, \"min_depth\": \"0\", \"count\": 12}, {\"start_year\": 1965.0, \"min_depth\": \"0\", \"count\": 7}, {\"start_year\": 1966.0, \"min_depth\": \"0\", \"count\": 6}, {\"start_year\": 1967.0, \"min_depth\": \"0\", \"count\": 10}, {\"start_year\": 1968.0, \"min_depth\": \"0\", \"count\": 6}, {\"start_year\": 1969.0, \"min_depth\": \"0\", \"count\": 7}, {\"start_year\": 1969.0, \"min_depth\": \"31\", \"count\": 1}, {\"start_year\": 1970.0, \"min_depth\": \"0\", \"count\": 2}, {\"start_year\": 1970.0, \"min_depth\": \"113\", \"count\": 1}, {\"start_year\": 1970.0, \"min_depth\": \"118\", \"count\": 1}, {\"start_year\": 1970.0, \"min_depth\": \"128\", \"count\": 1}, {\"start_year\": 1970.0, \"min_depth\": \"135\", \"count\": 1}, {\"start_year\": 1970.0, \"min_depth\": \"29\", \"count\": 1}, {\"start_year\": 1970.0, \"min_depth\": \"34\", \"count\": 1}, {\"start_year\": 1970.0, \"min_depth\": \"58\", \"count\": 1}, {\"start_year\": 1971.0, \"min_depth\": \"0\", \"count\": 3}, {\"start_year\": 1971.0, \"min_depth\": \"22\", \"count\": 1}, {\"start_year\": 1971.0, \"min_depth\": \"52\", \"count\": 1}, {\"start_year\": 1972.0, \"min_depth\": \"0\", \"count\": 1}, {\"start_year\": 1973.0, \"min_depth\": \"0\", \"count\": 5}, {\"start_year\": 1973.0, \"min_depth\": \"280\", \"count\": 1}, {\"start_year\": 1974.0, \"min_depth\": \"0\", \"count\": 2}, {\"start_year\": 1975.0, \"min_depth\": \"0\", \"count\": 4}, {\"start_year\": 1976.0, \"min_depth\": \"0\", \"count\": 1}, {\"start_year\": 1978.0, \"min_depth\": \"0\", \"count\": 1}, {\"start_year\": 1979.0, \"min_depth\": \"0\", \"count\": 1}, {\"start_year\": 1980.0, \"min_depth\": \"0\", \"count\": 6}, {\"start_year\": 1982.0, \"min_depth\": \"0\", \"count\": 1}, {\"start_year\": 1983.0, \"min_depth\": \"0\", \"count\": 7}, {\"start_year\": 1984.0, \"min_depth\": \"0\", \"count\": 2}, {\"start_year\": 1985.0, \"min_depth\": \"0\", \"count\": 5}, {\"start_year\": 1985.0, \"min_depth\": \"1875\", \"count\": 2}, {\"start_year\": 1986.0, \"min_depth\": \"0\", \"count\": 3}, {\"start_year\": 1987.0, \"min_depth\": \"0\", \"count\": 7}, {\"start_year\": 1988.0, \"min_depth\": \"0\", \"count\": 3}, {\"start_year\": 1988.0, \"min_depth\": \"20\", \"count\": 2}, {\"start_year\": 1989.0, \"min_depth\": \"0\", \"count\": 4}, {\"start_year\": 1989.0, \"min_depth\": \"10\", \"count\": 1}, {\"start_year\": 1989.0, \"min_depth\": \"5\", \"count\": 1}, {\"start_year\": 1990.0, \"min_depth\": \"0\", \"count\": 1}, {\"start_year\": 1991.0, \"min_depth\": \"0\", \"count\": 2}, {\"start_year\": 1992.0, \"min_depth\": \"0\", \"count\": 7}, {\"start_year\": 1992.0, \"min_depth\": \"16\", \"count\": 1}, {\"start_year\": 1992.0, \"min_depth\": \"23\", \"count\": 1}, {\"start_year\": 1992.0, \"min_depth\": \"33\", \"count\": 1}, {\"start_year\": 1992.0, \"min_depth\": \"38\", \"count\": 1}, {\"start_year\": 1992.0, \"min_depth\": \"750\", \"count\": 1}, {\"start_year\": 1993.0, \"min_depth\": \"0\", \"count\": 6}, {\"start_year\": 1994.0, \"min_depth\": \"0\", \"count\": 24}, {\"start_year\": 1994.0, \"min_depth\": \"7\", \"count\": 1}, {\"start_year\": 1995.0, \"min_depth\": \"0\", \"count\": 27}, {\"start_year\": 1995.0, \"min_depth\": \"15\", \"count\": 2}, {\"start_year\": 1995.0, \"min_depth\": \"30\", \"count\": 9}, {\"start_year\": 1996.0, \"min_depth\": \"0\", \"count\": 13}, {\"start_year\": 1997.0, \"min_depth\": \"0\", \"count\": 23}, {\"start_year\": 1997.0, \"min_depth\": \"3\", \"count\": 1}, {\"start_year\": 1997.0, \"min_depth\": \"58\", \"count\": 1}, {\"start_year\": 1998.0, \"min_depth\": \"0\", \"count\": 3}, {\"start_year\": 1998.0, \"min_depth\": \"22\", \"count\": 2}, {\"start_year\": 1998.0, \"min_depth\": \"54\", \"count\": 1}, {\"start_year\": 1998.0, \"min_depth\": \"61.8\", \"count\": 1}, {\"start_year\": 1999.0, \"min_depth\": \"0\", \"count\": 5}, {\"start_year\": 1999.0, \"min_depth\": \"450\", \"count\": 1}, {\"start_year\": 1999.0, \"min_depth\": \"475\", \"count\": 1}, {\"start_year\": 1999.0, \"min_depth\": \"592\", \"count\": 1}, {\"start_year\": 2000.0, \"min_depth\": \"0\", \"count\": 24}, {\"start_year\": 2000.0, \"min_depth\": \"1026\", \"count\": 1}, {\"start_year\": 2000.0, \"min_depth\": \"14\", \"count\": 1}, {\"start_year\": 2000.0, \"min_depth\": \"16\", \"count\": 3}, {\"start_year\": 2000.0, \"min_depth\": \"1718\", \"count\": 1}, {\"start_year\": 2000.0, \"min_depth\": \"19\", \"count\": 4}, {\"start_year\": 2000.0, \"min_depth\": \"20\", \"count\": 2}, {\"start_year\": 2000.0, \"min_depth\": \"25\", \"count\": 1}, {\"start_year\": 2000.0, \"min_depth\": \"394\", \"count\": 1}, {\"start_year\": 2000.0, \"min_depth\": \"40\", \"count\": 1}, {\"start_year\": 2000.0, \"min_depth\": \"42\", \"count\": 1}, {\"start_year\": 2000.0, \"min_depth\": \"573\", \"count\": 1}, {\"start_year\": 2000.0, \"min_depth\": \"623\", \"count\": 1}, {\"start_year\": 2000.0, \"min_depth\": \"666\", \"count\": 1}, {\"start_year\": 2000.0, \"min_depth\": \"70.7\", \"count\": 1}, {\"start_year\": 2000.0, \"min_depth\": \"740\", \"count\": 1}, {\"start_year\": 2000.0, \"min_depth\": \"744\", \"count\": 1}, {\"start_year\": 2001.0, \"min_depth\": \"0\", \"count\": 16}, {\"start_year\": 2001.0, \"min_depth\": \"1\", \"count\": 1}, {\"start_year\": 2001.0, \"min_depth\": \"100\", \"count\": 1}, {\"start_year\": 2001.0, \"min_depth\": \"108\", \"count\": 1}, {\"start_year\": 2001.0, \"min_depth\": \"140\", \"count\": 1}, {\"start_year\": 2001.0, \"min_depth\": \"1566\", \"count\": 1}, {\"start_year\": 2001.0, \"min_depth\": \"1700\", \"count\": 2}, {\"start_year\": 2001.0, \"min_depth\": \"20\", \"count\": 3}, {\"start_year\": 2001.0, \"min_depth\": \"50\", \"count\": 5}, {\"start_year\": 2001.0, \"min_depth\": \"52\", \"count\": 1}, {\"start_year\": 2001.0, \"min_depth\": \"55\", \"count\": 4}, {\"start_year\": 2001.0, \"min_depth\": \"60\", \"count\": 1}, {\"start_year\": 2001.0, \"min_depth\": \"604\", \"count\": 1}, {\"start_year\": 2001.0, \"min_depth\": \"65\", \"count\": 8}, {\"start_year\": 2001.0, \"min_depth\": \"67\", \"count\": 2}, {\"start_year\": 2001.0, \"min_depth\": \"757\", \"count\": 1}, {\"start_year\": 2001.0, \"min_depth\": \"9\", \"count\": 1}, {\"start_year\": 2002.0, \"min_depth\": \"0\", \"count\": 5}, {\"start_year\": 2002.0, \"min_depth\": \"1045\", \"count\": 1}, {\"start_year\": 2002.0, \"min_depth\": \"1050\", \"count\": 10}, {\"start_year\": 2002.0, \"min_depth\": \"1100\", \"count\": 2}, {\"start_year\": 2002.0, \"min_depth\": \"1350\", \"count\": 7}, {\"start_year\": 2002.0, \"min_depth\": \"1650\", \"count\": 2}, {\"start_year\": 2002.0, \"min_depth\": \"24\", \"count\": 1}, {\"start_year\": 2002.0, \"min_depth\": \"26\", \"count\": 1}, {\"start_year\": 2002.0, \"min_depth\": \"65\", \"count\": 1}, {\"start_year\": 2002.0, \"min_depth\": \"750\", \"count\": 12}, {\"start_year\": 2002.0, \"min_depth\": \"77\", \"count\": 6}, {\"start_year\": 2002.0, \"min_depth\": \"775\", \"count\": 3}, {\"start_year\": 2002.0, \"min_depth\": \"83\", \"count\": 1}, {\"start_year\": 2002.0, \"min_depth\": \"85\", \"count\": 1}, {\"start_year\": 2002.0, \"min_depth\": \"900\", \"count\": 2}, {\"start_year\": 2002.0, \"min_depth\": \"91\", \"count\": 2}, {\"start_year\": 2002.0, \"min_depth\": \"92\", \"count\": 1}, {\"start_year\": 2003.0, \"min_depth\": \"0\", \"count\": 3}, {\"start_year\": 2003.0, \"min_depth\": \"1\", \"count\": 2}, {\"start_year\": 2003.0, \"min_depth\": \"1050\", \"count\": 9}, {\"start_year\": 2003.0, \"min_depth\": \"1144\", \"count\": 1}, {\"start_year\": 2003.0, \"min_depth\": \"1628\", \"count\": 1}, {\"start_year\": 2003.0, \"min_depth\": \"1650\", \"count\": 2}, {\"start_year\": 2003.0, \"min_depth\": \"1950\", \"count\": 2}, {\"start_year\": 2003.0, \"min_depth\": \"31\", \"count\": 1}, {\"start_year\": 2003.0, \"min_depth\": \"36\", \"count\": 1}, {\"start_year\": 2003.0, \"min_depth\": \"750\", \"count\": 14}, {\"start_year\": 2004.0, \"min_depth\": \"0\", \"count\": 1}, {\"start_year\": 2004.0, \"min_depth\": \"50\", \"count\": 2}, {\"start_year\": 2005.0, \"min_depth\": \"0\", \"count\": 4}, {\"start_year\": 2005.0, \"min_depth\": \"2\", \"count\": 2}, {\"start_year\": 2006.0, \"min_depth\": \"0\", \"count\": 2}, {\"start_year\": 2006.0, \"min_depth\": \"58\", \"count\": 1}, {\"start_year\": 2007.0, \"min_depth\": \"0\", \"count\": 4}, {\"start_year\": 2008.0, \"min_depth\": \"0\", \"count\": 6}, {\"start_year\": 2008.0, \"min_depth\": \"1147\", \"count\": 2}, {\"start_year\": 2008.0, \"min_depth\": \"1293\", \"count\": 1}, {\"start_year\": 2008.0, \"min_depth\": \"2\", \"count\": 1}, {\"start_year\": 2008.0, \"min_depth\": \"390\", \"count\": 1}, {\"start_year\": 2008.0, \"min_depth\": \"393\", \"count\": 1}, {\"start_year\": 2008.0, \"min_depth\": \"402\", \"count\": 1}, {\"start_year\": 2008.0, \"min_depth\": \"50\", \"count\": 1}, {\"start_year\": 2008.0, \"min_depth\": \"60\", \"count\": 1}, {\"start_year\": 2008.0, \"min_depth\": \"705\", \"count\": 1}, {\"start_year\": 2008.0, \"min_depth\": \"992\", \"count\": 1}, {\"start_year\": 2009.0, \"min_depth\": \"0\", \"count\": 2}, {\"start_year\": 2009.0, \"min_depth\": \"117\", \"count\": 1}, {\"start_year\": 2009.0, \"min_depth\": \"125\", \"count\": 1}, {\"start_year\": 2009.0, \"min_depth\": \"20\", \"count\": 1}, {\"start_year\": 2009.0, \"min_depth\": \"21\", \"count\": 2}, {\"start_year\": 2009.0, \"min_depth\": \"22\", \"count\": 1}, {\"start_year\": 2009.0, \"min_depth\": \"29\", \"count\": 1}, {\"start_year\": 2010.0, \"min_depth\": \"0\", \"count\": 3}, {\"start_year\": 2011.0, \"min_depth\": \"0\", \"count\": 4}, {\"start_year\": 2011.0, \"min_depth\": \"2014\", \"count\": 1}, {\"start_year\": 2012.0, \"min_depth\": \"0\", \"count\": 2}, {\"start_year\": 2012.0, \"min_depth\": \"6\", \"count\": 1}, {\"start_year\": 2013.0, \"min_depth\": \"0\", \"count\": 2}, {\"start_year\": 2013.0, \"min_depth\": \"3\", \"count\": 2}, {\"start_year\": 2014.0, \"min_depth\": \"0\", \"count\": 1}, {\"start_year\": 2015.0, \"min_depth\": \"0\", \"count\": 1}, {\"start_year\": 2015.0, \"min_depth\": \"1\", \"count\": 1}]}};\n",
       "const opt = {};\n",
       "const type = \"vega-lite\";\n",
       "const id = \"c015962c-44a6-4e9a-841a-2a165078016a\";\n",
       "\n",
       "const output_area = this;\n",
       "\n",
       "require([\"nbextensions/jupyter-vega/index\"], function(vega) {\n",
       "  const target = document.createElement(\"div\");\n",
       "  target.id = id;\n",
       "  target.className = \"vega-embed\";\n",
       "\n",
       "  const style = document.createElement(\"style\");\n",
       "  style.textContent = [\n",
       "    \".vega-embed .error p {\",\n",
       "    \"  color: firebrick;\",\n",
       "    \"  font-size: 14px;\",\n",
       "    \"}\",\n",
       "  ].join(\"\\\\n\");\n",
       "\n",
       "  // element is a jQuery wrapped DOM element inside the output area\n",
       "  // see http://ipython.readthedocs.io/en/stable/api/generated/\\\n",
       "  // IPython.display.html#IPython.display.Javascript.__init__\n",
       "  element[0].appendChild(target);\n",
       "  element[0].appendChild(style);\n",
       "\n",
       "  vega.render(\"#\" + id, spec, type, opt, output_area);\n",
       "}, function (err) {\n",
       "  if (err.requireType !== \"scripterror\") {\n",
       "    throw(err);\n",
       "  }\n",
       "});\n"
      ],
      "text/plain": [
       "<vega.vegalite.VegaLite at 0x7f7e1fc73b50>"
      ]
     },
     "metadata": {
      "jupyter-vega": "#c015962c-44a6-4e9a-841a-2a165078016a"
     },
     "output_type": "display_data"
    },
    {
     "data": {
      "text/plain": []
     },
     "execution_count": 33,
     "metadata": {},
     "output_type": "execute_result"
    },
    {
     "data": {
      "image/png": "[encoded data removed]"
     },
     "metadata": {
      "jupyter-vega": "#c015962c-44a6-4e9a-841a-2a165078016a"
     },
     "output_type": "display_data"
    }
   ],
   "source": [
    "for tp in ['Holotipo', 'Alotipo', 'Paratipo']:\n",
    "    temp = teste1[teste1['type_status'] == tp]\n",
    "    t = temp.groupby(['start_year', 'min_depth']).count()['count'].reset_index()\n",
    "    \n",
    "    # defining range of y axis\n",
    "    l = []\n",
    "    for depth in t['min_depth']:\n",
    "        try:\n",
    "            l.append(float(depth))\n",
    "        except:\n",
    "            pass\n",
    "\n",
    "    max_y = max(l)\n",
    "    min_y = min(l)\n",
    "    \n",
    "    # making chart\n",
    "    g3 = alt.Chart(t, title=f'Depth of cataloged {types_translate[tp]} per year',\n",
    "                   height=400, width=800\n",
    "                  ).mark_circle(color= f'{type_color[tp]}').encode(\n",
    "        x= alt.X('start_year', type='ordinal', title='Year'),\n",
    "        y= alt.Y('min_depth', type='quantitative', title='Depth', scale=alt.Scale(domain=[max_y,min_y])),\n",
    "        size=alt.Size('count',type= 'quantitative', legend=alt.Legend(title='Quantity'))\n",
    "    )\n",
    "\n",
    "    # salvando o gráfico\n",
    "#     g3.save(f'./depth/{tp}_per_year.svg')\n",
    "#     g3.save(f'./depth/{tp}_per_year.png')\n",
    "#     g3.save(f'./depth/{tp}_per_year.html')\n",
    "\n",
    "g3"
   ]
  },
  {
   "cell_type": "markdown",
   "metadata": {
    "ExecuteTime": {
     "end_time": "2020-02-28T18:42:29.333791Z",
     "start_time": "2020-02-28T18:42:29.305485Z"
    }
   },
   "source": [
    "#### depth of other types"
   ]
  },
  {
   "cell_type": "code",
   "execution_count": 34,
   "metadata": {
    "ExecuteTime": {
     "end_time": "2020-02-28T19:26:49.551233Z",
     "start_time": "2020-02-28T19:26:45.363677Z"
    }
   },
   "outputs": [
    {
     "data": {
      "application/javascript": [
       "const spec = {\"config\": {\"view\": {\"width\": 400, \"height\": 300}, \"mark\": {\"tooltip\": null}}, \"data\": {\"name\": \"data-0b3be0404643261045912a0efc03548a\"}, \"mark\": \"circle\", \"encoding\": {\"color\": {\"type\": \"nominal\", \"field\": \"type_status\", \"legend\": {\"title\": \"Type Status\"}, \"scale\": {\"domain\": [\"Sintipo\", \"Lectotipo\", \"Paralectotipo\", \"Material tipo\", \"Neotipo\", \"Topotipo\", \"Co-tipo\", \"Tipo\"], \"range\": [\"#d62729\", \"#f58519\", \"#d95f03\", \"#d8b5a5\", \"#d95f02\", \"#8c6d31\", \"#bab0ac\", \"#79706e\"]}, \"sort\": [\"Sintipo\", \"Lectotipo\", \"Paralectotipo\", \"Material tipo\", \"Neotipo\", \"Topotipo\", \"Co-tipo\", \"Tipo\"]}, \"size\": {\"type\": \"quantitative\", \"field\": \"count\", \"legend\": {\"title\": \"Quantity\"}}, \"x\": {\"type\": \"ordinal\", \"field\": \"start_year\", \"title\": \"Year\"}, \"y\": {\"type\": \"quantitative\", \"field\": \"min_depth\", \"scale\": {\"domain\": [1950.0, 0.0]}, \"title\": \"Depth\"}}, \"title\": \"Depth of other types cataloged per year\", \"width\": 600, \"$schema\": \"https://vega.github.io/schema/vega-lite/v3.4.0.json\", \"datasets\": {\"data-0b3be0404643261045912a0efc03548a\": [{\"start_year\": 1903.0, \"min_depth\": \"0\", \"type_status\": \"Co-tipo\", \"count\": 1}, {\"start_year\": 1903.0, \"min_depth\": \"0\", \"type_status\": \"Paralectotipo\", \"count\": 3}, {\"start_year\": 1903.0, \"min_depth\": \"100\", \"type_status\": \"Lectotipo\", \"count\": 1}, {\"start_year\": 1914.0, \"min_depth\": \"0\", \"type_status\": \"Sintipo\", \"count\": 1}, {\"start_year\": 1948.0, \"min_depth\": \"0\", \"type_status\": \"Neotipo\", \"count\": 1}, {\"start_year\": 1952.0, \"min_depth\": \"0\", \"type_status\": \"Sintipo\", \"count\": 1}, {\"start_year\": 1953.0, \"min_depth\": \"0\", \"type_status\": \"Neotipo\", \"count\": 1}, {\"start_year\": 1964.0, \"min_depth\": \"0\", \"type_status\": \"Sintipo\", \"count\": 1}, {\"start_year\": 1965.0, \"min_depth\": \"0\", \"type_status\": \"Sintipo\", \"count\": 2}, {\"start_year\": 1971.0, \"min_depth\": \"0\", \"type_status\": \"Neotipo\", \"count\": 1}, {\"start_year\": 1973.0, \"min_depth\": \"0\", \"type_status\": \"Tipo\", \"count\": 1}, {\"start_year\": 1986.0, \"min_depth\": \"0\", \"type_status\": \"Material tipo\", \"count\": 1}, {\"start_year\": 1988.0, \"min_depth\": \"0\", \"type_status\": \"Lectotipo\", \"count\": 1}, {\"start_year\": 1994.0, \"min_depth\": \"0\", \"type_status\": \"Lectotipo\", \"count\": 1}, {\"start_year\": 1998.0, \"min_depth\": \"0\", \"type_status\": \"Neotipo\", \"count\": 1}, {\"start_year\": 2000.0, \"min_depth\": \"0\", \"type_status\": \"Material tipo\", \"count\": 1}, {\"start_year\": 2000.0, \"min_depth\": \"0\", \"type_status\": \"Topotipo\", \"count\": 1}, {\"start_year\": 2001.0, \"min_depth\": \"60\", \"type_status\": \"Neotipo\", \"count\": 1}, {\"start_year\": 2002.0, \"min_depth\": \"0\", \"type_status\": \"Topotipo\", \"count\": 1}, {\"start_year\": 2002.0, \"min_depth\": \"1950\", \"type_status\": \"Material tipo\", \"count\": 1}, {\"start_year\": 2005.0, \"min_depth\": \"0\", \"type_status\": \"Topotipo\", \"count\": 1}]}};\n",
       "const opt = {};\n",
       "const type = \"vega-lite\";\n",
       "const id = \"834683ab-6089-4891-84dc-172a86cb2c22\";\n",
       "\n",
       "const output_area = this;\n",
       "\n",
       "require([\"nbextensions/jupyter-vega/index\"], function(vega) {\n",
       "  const target = document.createElement(\"div\");\n",
       "  target.id = id;\n",
       "  target.className = \"vega-embed\";\n",
       "\n",
       "  const style = document.createElement(\"style\");\n",
       "  style.textContent = [\n",
       "    \".vega-embed .error p {\",\n",
       "    \"  color: firebrick;\",\n",
       "    \"  font-size: 14px;\",\n",
       "    \"}\",\n",
       "  ].join(\"\\\\n\");\n",
       "\n",
       "  // element is a jQuery wrapped DOM element inside the output area\n",
       "  // see http://ipython.readthedocs.io/en/stable/api/generated/\\\n",
       "  // IPython.display.html#IPython.display.Javascript.__init__\n",
       "  element[0].appendChild(target);\n",
       "  element[0].appendChild(style);\n",
       "\n",
       "  vega.render(\"#\" + id, spec, type, opt, output_area);\n",
       "}, function (err) {\n",
       "  if (err.requireType !== \"scripterror\") {\n",
       "    throw(err);\n",
       "  }\n",
       "});\n"
      ],
      "text/plain": [
       "<vega.vegalite.VegaLite at 0x7f7e1eb92750>"
      ]
     },
     "metadata": {
      "jupyter-vega": "#834683ab-6089-4891-84dc-172a86cb2c22"
     },
     "output_type": "display_data"
    },
    {
     "data": {
      "text/plain": []
     },
     "execution_count": 34,
     "metadata": {},
     "output_type": "execute_result"
    },
    {
     "data": {
      "image/png": "[encoded data removed]"
     },
     "metadata": {
      "jupyter-vega": "#834683ab-6089-4891-84dc-172a86cb2c22"
     },
     "output_type": "display_data"
    }
   ],
   "source": [
    "temp = teste1[teste1['type_status'].isin(group_types)]\n",
    "t = temp.groupby(['start_year', 'min_depth', 'type_status']).count()['count'].reset_index()\n",
    "\n",
    "# defining range of y axis\n",
    "l = []\n",
    "for depth in t['min_depth']:\n",
    "    try:\n",
    "        l.append(float(depth))\n",
    "    except:\n",
    "        pass\n",
    "\n",
    "max_y = max(l)\n",
    "min_y = min(l)\n",
    "\n",
    "# making chart\n",
    "g4 = alt.Chart(t, width=600, title='Depth of other types cataloged per year'\n",
    "              ).mark_circle().encode(\n",
    "    x= alt.X('start_year', type='ordinal', title='Year'),\n",
    "    y= alt.Y('min_depth', type='quantitative', title='Depth', scale=alt.Scale(domain=[max_y,min_y])),\n",
    "    size=alt.Size('count',type= 'quantitative', legend=alt.Legend(title='Quantity')),\n",
    "    color= alt.Color('type_status', legend= alt.Legend(title='Type Status'),\n",
    "                     sort=group_types,\n",
    "                     scale= alt.Scale(domain=group_types,range=[type_color[c] for c in group_types])\n",
    "                  )\n",
    ")\n",
    "\n",
    "# g4.save('./depth/other-types_per_year.svg')\n",
    "# g4.save('./depth/other-types_per_year.png')\n",
    "# g4.save('./depth/other-types_per_year.html')\n",
    "\n",
    "g4"
   ]
  },
  {
   "cell_type": "markdown",
   "metadata": {},
   "source": [
    "<br>\n",
    "\n",
    "**The end!**\n",
    "\n",
    "-----"
   ]
  }
 ],
 "metadata": {
  "kernelspec": {
   "display_name": "Python 3",
   "language": "python",
   "name": "python3"
  },
  "language_info": {
   "codemirror_mode": {
    "name": "ipython",
    "version": 3
   },
   "file_extension": ".py",
   "mimetype": "text/x-python",
   "name": "python",
   "nbconvert_exporter": "python",
   "pygments_lexer": "ipython3",
   "version": "3.7.4"
  },
  "toc": {
   "base_numbering": 1,
   "nav_menu": {},
   "number_sections": false,
   "sideBar": true,
   "skip_h1_title": false,
   "title_cell": "Table of Contents",
   "title_sidebar": "Contents",
   "toc_cell": false,
   "toc_position": {},
   "toc_section_display": true,
   "toc_window_display": false
  },
  "varInspector": {
   "cols": {
    "lenName": 16,
    "lenType": 16,
    "lenVar": 40
   },
   "kernels_config": {
    "python": {
     "delete_cmd_postfix": "",
     "delete_cmd_prefix": "del ",
     "library": "var_list.py",
     "varRefreshCmd": "print(var_dic_list())"
    },
    "r": {
     "delete_cmd_postfix": ") ",
     "delete_cmd_prefix": "rm(",
     "library": "var_list.r",
     "varRefreshCmd": "cat(var_dic_list()) "
    }
   },
   "position": {
    "height": "391.35px",
    "left": "900.5px",
    "right": "20px",
    "top": "96px",
    "width": "536.5px"
   },
   "types_to_exclude": [
    "module",
    "function",
    "builtin_function_or_method",
    "instance",
    "_Feature"
   ],
   "window_display": false
  }
 },
 "nbformat": 4,
 "nbformat_minor": 2
}
