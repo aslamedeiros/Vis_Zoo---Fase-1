{
 "cells": [
  {
   "cell_type": "markdown",
   "metadata": {},
   "source": [
    "# Database Exploration\n",
    "\n",
    "By **Franklin Oliveira**\n",
    "\n",
    "-----\n",
    "\n",
    "This notebook contains some code written to I (Franklin) get accquainted with the `crustacea` database. Here you'll find some basic data treatment and adjustments that presented necessary as I started to understand the nature of the information in file <font color='blue'>'Planilha geral Atualizda FINAL com correções.xlsx'</font>."
   ]
  },
  {
   "cell_type": "code",
   "execution_count": 1,
   "metadata": {
    "ExecuteTime": {
     "end_time": "2020-03-12T00:16:41.777750Z",
     "start_time": "2020-03-12T00:16:40.853178Z"
    }
   },
   "outputs": [
    {
     "data": {
      "text/plain": [
       "DataTransformerRegistry.enable('default')"
      ]
     },
     "execution_count": 1,
     "metadata": {},
     "output_type": "execute_result"
    }
   ],
   "source": [
    "import datetime\n",
    "import numpy as np\n",
    "import pandas as pd\n",
    "\n",
    "from collections import defaultdict\n",
    "\n",
    "# pacotes para visualização rápida\n",
    "# import seaborn as sns\n",
    "# import matplotlib.pyplot as plt\n",
    "\n",
    "# Waffle Charts\n",
    "from pywaffle import Waffle \n",
    "# docs: https://pywaffle.readthedocs.io/en/latest/examples/block_shape_distance_location_and_direction.html\n",
    "\n",
    "# pacote para visualização principal\n",
    "import altair as alt\n",
    "\n",
    "# habilitando renderizador para notebook\n",
    "alt.renderers.enable('notebook')\n",
    "\n",
    "# desabilitando limite de linhas\n",
    "alt.data_transformers.disable_max_rows()"
   ]
  },
  {
   "cell_type": "markdown",
   "metadata": {},
   "source": [
    "## Importing data..."
   ]
  },
  {
   "cell_type": "code",
   "execution_count": 2,
   "metadata": {
    "ExecuteTime": {
     "end_time": "2020-03-12T00:17:01.019155Z",
     "start_time": "2020-03-12T00:16:41.780589Z"
    }
   },
   "outputs": [
    {
     "name": "stdout",
     "output_type": "stream",
     "text": [
      "The excel file contains the following sheets: ['Banco de Dados Colecao Carcinol', 'Planilha1']\n",
      "\n",
      "Database is in sheet: Banco de Dados Colecao Carcinol\n"
     ]
    }
   ],
   "source": [
    "excel = pd.ExcelFile('Planilha geral Atualizda FINAL com correções.xlsx')\n",
    "sheet_name = excel.sheet_names\n",
    "\n",
    "print('The excel file contains the following sheets:', sheet_name)\n",
    "print('\\nDatabase is in sheet:', sheet_name[0])"
   ]
  },
  {
   "cell_type": "code",
   "execution_count": 3,
   "metadata": {
    "ExecuteTime": {
     "end_time": "2020-03-12T00:17:01.853063Z",
     "start_time": "2020-03-12T00:17:01.023074Z"
    }
   },
   "outputs": [
    {
     "name": "stdout",
     "output_type": "stream",
     "text": [
      "The database has 28689 rows and 132 columns.\n"
     ]
    }
   ],
   "source": [
    "# db = excel.parse(sheet_name[0], sep=';', encoding='utf-8-sig')\n",
    "\n",
    "# p.s.: I'm parsing a pre-treated file provided by Asla\n",
    "db = pd.read_csv('db.csv', sep=',', encoding='utf-8-sig', low_memory=False)\n",
    "print(f'The database has {db.shape[0]} rows and {db.shape[1]} columns.')"
   ]
  },
  {
   "cell_type": "code",
   "execution_count": 4,
   "metadata": {
    "ExecuteTime": {
     "end_time": "2020-03-12T00:17:01.976692Z",
     "start_time": "2020-03-12T00:17:01.856022Z"
    }
   },
   "outputs": [],
   "source": [
    "# copying database to another variable to make a few changes keeping the original intact\n",
    "crustaceas = db.copy()"
   ]
  },
  {
   "cell_type": "markdown",
   "metadata": {},
   "source": [
    "<br>\n",
    "\n",
    "### Name columns\n",
    "\n",
    "`Determiner First Name1` e `Determiner Last Name1`\n",
    "\n",
    "#### treating determiner's name \n",
    "\n",
    "In this step, we're going to put together determiner's first and last name. \n",
    "\n",
    "`Determiner First Name1` + `Determiner Last Name1`\n",
    "\n",
    "Just concatenating those two columns is not satisfactory because there's some dirt in these data columns. So, let's begin by treating them..."
   ]
  },
  {
   "cell_type": "code",
   "execution_count": 5,
   "metadata": {
    "ExecuteTime": {
     "end_time": "2020-03-12T00:17:01.999609Z",
     "start_time": "2020-03-12T00:17:01.981146Z"
    }
   },
   "outputs": [],
   "source": [
    "def treat_names(name, pos='first'):\n",
    "    '''\n",
    "    Treat names keeping NaN as such.\n",
    "    \n",
    "    Arguments: \n",
    "        - name: name to be treated. \n",
    "        - pos (str): name position. One of ['first', 'last']\n",
    "    '''\n",
    "    if type(name) == str and pos == 'first':     # first name\n",
    "        \n",
    "        if len(name.split(' ')) > 1:             # treats composite names (+ 1 name)\n",
    "            return str(name).strip().split(' ')[0].capitalize()\n",
    "        else:\n",
    "            return str(name).strip().capitalize()\n",
    "    \n",
    "    elif type(name) == str and pos == 'last':    # last name\n",
    "        \n",
    "        if len(name.split(' ')) > 1:             # treats composite last name (+ 1 surname)\n",
    "            return str(name).strip().split(' ')[-1].capitalize()\n",
    "        else:\n",
    "            return str(name).strip().capitalize()   \n",
    "    else:\n",
    "        return name"
   ]
  },
  {
   "cell_type": "markdown",
   "metadata": {},
   "source": [
    "applying function to the two column names"
   ]
  },
  {
   "cell_type": "code",
   "execution_count": 6,
   "metadata": {
    "ExecuteTime": {
     "end_time": "2020-03-12T00:17:02.177977Z",
     "start_time": "2020-03-12T00:17:02.002156Z"
    }
   },
   "outputs": [],
   "source": [
    "crustaceas['Determiner First Name1'] = crustaceas['Determiner First Name1'].apply(treat_names)\n",
    "# crustaceas['Determiner First Name1'].value_counts()"
   ]
  },
  {
   "cell_type": "code",
   "execution_count": 7,
   "metadata": {
    "ExecuteTime": {
     "end_time": "2020-03-12T00:17:02.321500Z",
     "start_time": "2020-03-12T00:17:02.180201Z"
    }
   },
   "outputs": [],
   "source": [
    "crustaceas['Determiner Last Name1'] = crustaceas['Determiner Last Name1'].apply(lambda x:\n",
    "                                                                treat_names(x, pos='last'))\n",
    "# crustaceas['Determiner Last Name1'].value_counts()"
   ]
  },
  {
   "cell_type": "code",
   "execution_count": 8,
   "metadata": {
    "ExecuteTime": {
     "end_time": "2020-03-12T00:17:02.462911Z",
     "start_time": "2020-03-12T00:17:02.325456Z"
    }
   },
   "outputs": [],
   "source": [
    "# creating column with First and Last name for identification\n",
    "crustaceas['Determiner First_and_Last Name'] = crustaceas['Determiner First Name1'] + ' ' + crustaceas['Determiner Last Name1']"
   ]
  },
  {
   "cell_type": "markdown",
   "metadata": {},
   "source": [
    "<br>\n",
    "\n",
    "## Adjusting columns names\n",
    "\n",
    "### removing '\\n'"
   ]
  },
  {
   "cell_type": "code",
   "execution_count": 9,
   "metadata": {
    "ExecuteTime": {
     "end_time": "2020-03-12T00:17:02.745199Z",
     "start_time": "2020-03-12T00:17:02.465999Z"
    }
   },
   "outputs": [],
   "source": [
    "crustaceas.columns = [str(col).replace(r'\\n','') for col in crustaceas.columns]"
   ]
  },
  {
   "cell_type": "markdown",
   "metadata": {},
   "source": [
    "#### closer look on some columns..."
   ]
  },
  {
   "cell_type": "code",
   "execution_count": 10,
   "metadata": {
    "ExecuteTime": {
     "end_time": "2020-03-12T00:17:02.865146Z",
     "start_time": "2020-03-12T00:17:02.747219Z"
    }
   },
   "outputs": [],
   "source": [
    "# crustaceas[['Species1', 'Species Author1', 'Type Status1', 'Qualifier1', 'Determiner First Name1',\n",
    "#       'Determiner Middle1', 'Determiner Last Name1', 'Determined Date1']]"
   ]
  },
  {
   "cell_type": "markdown",
   "metadata": {},
   "source": [
    "<br>\n",
    "\n",
    "## preparing data for charts..."
   ]
  },
  {
   "cell_type": "markdown",
   "metadata": {},
   "source": [
    "### Column: `Type Status1`\n",
    "\n",
    "contains info on species type"
   ]
  },
  {
   "cell_type": "code",
   "execution_count": 11,
   "metadata": {
    "ExecuteTime": {
     "end_time": "2020-03-12T00:17:02.992620Z",
     "start_time": "2020-03-12T00:17:02.868291Z"
    }
   },
   "outputs": [
    {
     "data": {
      "text/plain": [
       "Paratipo    433\n",
       "Holotipo    203\n",
       "ParaTIPO    142\n",
       "PARATIPO    120\n",
       "HOLOTIPO     82\n",
       "Name: Type Status1, dtype: int64"
      ]
     },
     "execution_count": 11,
     "metadata": {},
     "output_type": "execute_result"
    }
   ],
   "source": [
    "crustaceas['Type Status1'].value_counts().head()"
   ]
  },
  {
   "cell_type": "markdown",
   "metadata": {},
   "source": [
    "#### Let's begin cleaning this data and lowering all cases."
   ]
  },
  {
   "cell_type": "code",
   "execution_count": 12,
   "metadata": {
    "ExecuteTime": {
     "end_time": "2020-03-12T00:17:03.142604Z",
     "start_time": "2020-03-12T00:17:02.994858Z"
    }
   },
   "outputs": [],
   "source": [
    "crustaceas['Type Status1'] = crustaceas['Type Status1'].str.strip().str.lower().str.capitalize()"
   ]
  },
  {
   "cell_type": "code",
   "execution_count": 13,
   "metadata": {
    "ExecuteTime": {
     "end_time": "2020-03-12T00:17:03.255436Z",
     "start_time": "2020-03-12T00:17:03.145895Z"
    }
   },
   "outputs": [
    {
     "data": {
      "text/plain": [
       "Paratipo    695\n",
       "Holotipo    285\n",
       "Alotipo      81\n",
       "Topotipo      9\n",
       "Neotipo       6\n",
       "Name: Type Status1, dtype: int64"
      ]
     },
     "execution_count": 13,
     "metadata": {},
     "output_type": "execute_result"
    }
   ],
   "source": [
    "crustaceas['Type Status1'].value_counts().head()"
   ]
  },
  {
   "cell_type": "markdown",
   "metadata": {},
   "source": [
    "### preparing taxonomy columns\n",
    "\n",
    "`Kingdom` - `Phylum1` - `Subphylum1` - `Class1` - `Subclass1` - `Infraclass1` - `Superorder1` - `Order1` - `Suborder1` - `Infraorder1` - `Superfamily1` - `Family1` - `Subfamily1` - `Tribe1` - `Genus1` - `Species1`"
   ]
  },
  {
   "cell_type": "code",
   "execution_count": 14,
   "metadata": {
    "ExecuteTime": {
     "end_time": "2020-03-12T00:17:03.775124Z",
     "start_time": "2020-03-12T00:17:03.258405Z"
    }
   },
   "outputs": [
    {
     "name": "stdout",
     "output_type": "stream",
     "text": [
      "Adjusting column Kingdom\n",
      "Adjusting column Phylum1\n",
      "Adjusting column Subphylum1\n",
      "Adjusting column Class1\n",
      "Adjusting column Subclass1\n",
      "Adjusting column Infraclass1\n",
      "Adjusting column Superorder1\n",
      "Adjusting column Order1\n",
      "Adjusting column Suborder1\n",
      "Adjusting column Infraorder1\n",
      "Adjusting column Superfamily1\n",
      "Adjusting column Family1\n",
      "Adjusting column Subfamily1\n",
      "Adjusting column Tribe1\n",
      "Adjusting column Genus1\n",
      "Adjusting column Species1\n"
     ]
    }
   ],
   "source": [
    "taxon_columns = crustaceas.columns[21:37]  # selecting taxonomy columns\n",
    "\n",
    "# defining function\n",
    "def treat_str(x):\n",
    "    return str(x).lower().capitalize().strip()\n",
    "\n",
    "# applying treatment\n",
    "for col in taxon_columns:\n",
    "    print(f'Adjusting column {col}')\n",
    "    crustaceas[col] = crustaceas[col].apply(treat_str)"
   ]
  },
  {
   "cell_type": "markdown",
   "metadata": {},
   "source": [
    "### adding `Genus1` and `Species1`together (they completely identify each animal's species)"
   ]
  },
  {
   "cell_type": "code",
   "execution_count": 15,
   "metadata": {
    "ExecuteTime": {
     "end_time": "2020-03-12T00:17:03.837163Z",
     "start_time": "2020-03-12T00:17:03.779336Z"
    }
   },
   "outputs": [],
   "source": [
    "crustaceas['genus_and_species'] = crustaceas['Genus1'] + ' ' + crustaceas['Species1']\n",
    "crustaceas['genus_and_species'] = crustaceas['genus_and_species'].str.lower().str.capitalize()"
   ]
  },
  {
   "cell_type": "markdown",
   "metadata": {},
   "source": [
    "<br>\n",
    "\n",
    "### Collecting date (year) and sclicing main DB to a smaller dataset \n",
    "\n",
    "Columns: `Determined Date1` - `Class1` - `Kingdom` and more..."
   ]
  },
  {
   "cell_type": "code",
   "execution_count": 16,
   "metadata": {
    "ExecuteTime": {
     "end_time": "2020-03-12T00:17:38.251162Z",
     "start_time": "2020-03-12T00:17:03.842420Z"
    }
   },
   "outputs": [
    {
     "data": {
      "text/html": [
       "<div>\n",
       "<style scoped>\n",
       "    .dataframe tbody tr th:only-of-type {\n",
       "        vertical-align: middle;\n",
       "    }\n",
       "\n",
       "    .dataframe tbody tr th {\n",
       "        vertical-align: top;\n",
       "    }\n",
       "\n",
       "    .dataframe thead th {\n",
       "        text-align: right;\n",
       "    }\n",
       "</style>\n",
       "<table border=\"1\" class=\"dataframe\">\n",
       "  <thead>\n",
       "    <tr style=\"text-align: right;\">\n",
       "      <th></th>\n",
       "      <th>cataloged_year</th>\n",
       "      <th>count</th>\n",
       "      <th>class</th>\n",
       "      <th>kingdom</th>\n",
       "      <th>genus</th>\n",
       "      <th>species</th>\n",
       "      <th>genus_and_species</th>\n",
       "      <th>type_status</th>\n",
       "      <th>determiner_first_and_last_name</th>\n",
       "      <th>determiner_first_name</th>\n",
       "      <th>...</th>\n",
       "      <th>species_author</th>\n",
       "      <th>order</th>\n",
       "      <th>suborder</th>\n",
       "      <th>infraorder</th>\n",
       "      <th>superfamily</th>\n",
       "      <th>family</th>\n",
       "      <th>subfamily</th>\n",
       "      <th>tribe</th>\n",
       "      <th>determined_year</th>\n",
       "      <th>start_year</th>\n",
       "    </tr>\n",
       "  </thead>\n",
       "  <tbody>\n",
       "    <tr>\n",
       "      <td>0</td>\n",
       "      <td>1980</td>\n",
       "      <td>5</td>\n",
       "      <td>Malacostraca</td>\n",
       "      <td>Animalia</td>\n",
       "      <td>Penaeus</td>\n",
       "      <td>Schmitti</td>\n",
       "      <td>Penaeus schmitti</td>\n",
       "      <td>NaN</td>\n",
       "      <td>Alceu Castro</td>\n",
       "      <td>Alceu</td>\n",
       "      <td>...</td>\n",
       "      <td>Burkenroad, 1936</td>\n",
       "      <td>Decapoda</td>\n",
       "      <td>Nan</td>\n",
       "      <td>Nan</td>\n",
       "      <td>Nan</td>\n",
       "      <td>Penaeidae</td>\n",
       "      <td>Nan</td>\n",
       "      <td>Penaeini</td>\n",
       "      <td>NaN</td>\n",
       "      <td>1969.0</td>\n",
       "    </tr>\n",
       "    <tr>\n",
       "      <td>1</td>\n",
       "      <td>1980</td>\n",
       "      <td>15</td>\n",
       "      <td>Malacostraca</td>\n",
       "      <td>Animalia</td>\n",
       "      <td>Penaeus</td>\n",
       "      <td>Schmitti</td>\n",
       "      <td>Penaeus schmitti</td>\n",
       "      <td>NaN</td>\n",
       "      <td>Alceu Castro</td>\n",
       "      <td>Alceu</td>\n",
       "      <td>...</td>\n",
       "      <td>Burkenroad, 1936</td>\n",
       "      <td>Decapoda</td>\n",
       "      <td>Nan</td>\n",
       "      <td>Nan</td>\n",
       "      <td>Nan</td>\n",
       "      <td>Penaeidae</td>\n",
       "      <td>Nan</td>\n",
       "      <td>Penaeini</td>\n",
       "      <td>NaN</td>\n",
       "      <td>NaN</td>\n",
       "    </tr>\n",
       "  </tbody>\n",
       "</table>\n",
       "<p>2 rows × 22 columns</p>\n",
       "</div>"
      ],
      "text/plain": [
       "   cataloged_year count         class   kingdom    genus   species  \\\n",
       "0            1980     5  Malacostraca  Animalia  Penaeus  Schmitti   \n",
       "1            1980    15  Malacostraca  Animalia  Penaeus  Schmitti   \n",
       "\n",
       "  genus_and_species type_status determiner_first_and_last_name  \\\n",
       "0  Penaeus schmitti         NaN                   Alceu Castro   \n",
       "1  Penaeus schmitti         NaN                   Alceu Castro   \n",
       "\n",
       "  determiner_first_name  ...    species_author     order suborder infraorder  \\\n",
       "0                 Alceu  ...  Burkenroad, 1936  Decapoda      Nan        Nan   \n",
       "1                 Alceu  ...  Burkenroad, 1936  Decapoda      Nan        Nan   \n",
       "\n",
       "  superfamily     family subfamily     tribe determined_year start_year  \n",
       "0         Nan  Penaeidae       Nan  Penaeini             NaN     1969.0  \n",
       "1         Nan  Penaeidae       Nan  Penaeini             NaN        NaN  \n",
       "\n",
       "[2 rows x 22 columns]"
      ]
     },
     "execution_count": 16,
     "metadata": {},
     "output_type": "execute_result"
    }
   ],
   "source": [
    "# slicing main database (crustaceas)\n",
    "Table = crustaceas[['Cataloged Date','Determined Date1','Start Date','Class1','Kingdom', \n",
    "                    'Genus1', 'Species1', 'Type Status1',\n",
    "                   'Determiner First_and_Last Name', 'Determiner First Name1',\n",
    "                   'Determiner Last Name1', 'genus_and_species','Min Depth', 'Count 1',\n",
    "                   'Species Author1', 'Order1', 'Suborder1', 'Infraorder1',\n",
    "                   'Superfamily1', 'Family1', 'Subfamily1', 'Tribe1']].copy()\n",
    "\n",
    "# OBS: Determined Date1 has many missing values... CHECK THAT\n",
    "d = []\n",
    "counter=0\n",
    "for row in Table['Cataloged Date']:\n",
    "    if not str(row).find('/')==-1:\n",
    "        dates_values = str(row).split(\"/\")\n",
    "        year = int(dates_values[0])\n",
    "        month = int(dates_values[1])\n",
    "        if (month>1) and (month<12):\n",
    "            #store the year and month in a datetime datatype for later sorting\n",
    "            dateRecord = datetime.datetime(year,month,1)    \n",
    "            \n",
    "    d.append({'cataloged_year':year, 'count':Table.loc[counter,'Count 1'],\n",
    "              'class':Table.loc[counter,'Class1'],\n",
    "              'kingdom':Table.loc[counter,'Kingdom'], 'genus':Table.loc[counter,'Genus1'],\n",
    "              'species':Table.loc[counter,'Species1'],\n",
    "              'genus_and_species': Table.loc[counter,'genus_and_species'],\n",
    "              'type_status':Table.loc[counter,'Type Status1'], \n",
    "              'determiner_first_and_last_name':Table.loc[counter,'Determiner First_and_Last Name'],\n",
    "              'determiner_first_name':Table.loc[counter,'Determiner First Name1'],\n",
    "              'determiner_last_name':Table.loc[counter,'Determiner Last Name1'],\n",
    "              'depth':Table.loc[counter,'Min Depth'],\n",
    "              'species_author':Table.loc[counter,'Species Author1'],\n",
    "              'order':Table.loc[counter,'Order1'],\n",
    "              'suborder':Table.loc[counter,'Suborder1'],\n",
    "              'infraorder':Table.loc[counter, 'Infraorder1'],\n",
    "              'superfamily':Table.loc[counter,'Superfamily1'],\n",
    "              'family':Table.loc[counter,'Family1'],\n",
    "              'subfamily':Table.loc[counter,'Subfamily1'],\n",
    "              'tribe':Table.loc[counter,'Tribe1']\n",
    "             })\n",
    "    counter = counter+1\n",
    "\n",
    "NewTable = pd.DataFrame(d)\n",
    "\n",
    "\n",
    "### collecting determined year (p.s.: being careful to keep NaNs as they show up)\n",
    "NewTable['determined_year'] = np.nan\n",
    "\n",
    "d1 = []\n",
    "counter=0\n",
    "for row in Table['Determined Date1']:\n",
    "    try:  # if Determined Date1 is empty, keep it so \n",
    "        if np.isnan(row):\n",
    "            year= np.NAN\n",
    "    \n",
    "    except:\n",
    "        if not str(row).find('/')==-1:\n",
    "            dates_values = str(row).split(\"/\")\n",
    "            year = int(dates_values[0])\n",
    "            month = int(dates_values[1])\n",
    "            if (month>1) and (month<12):\n",
    "                #store the year and month in a datetime datatype for later sorting\n",
    "                dateRecord = datetime.datetime(year,month,1)    \n",
    "    \n",
    "    NewTable.loc[counter, 'determined_year'] = year\n",
    "    counter = counter+1\n",
    "\n",
    "    \n",
    "### collecting start year (p.s.: being careful to keep NaNs as they show up)  \n",
    "NewTable['start_year'] = np.nan\n",
    "d1 = []\n",
    "counter=0\n",
    "for row in Table['Start Date']:\n",
    "    try:  # if Start Date is empty, keep it so \n",
    "        if np.isnan(row):\n",
    "            year= np.NAN\n",
    "    \n",
    "    except:\n",
    "        if not str(row).find('/')==-1:\n",
    "            dates_values = str(row).split(\"/\")\n",
    "            year = int(dates_values[0])\n",
    "            month = int(dates_values[1])\n",
    "            if (month>1) and (month<12):\n",
    "                #store the year and month in a datetime datatype for later sorting\n",
    "                dateRecord = datetime.datetime(year,month,1)    \n",
    "\n",
    "    NewTable.loc[counter, 'start_year'] = year\n",
    "    counter = counter+1\n",
    "\n",
    "# NewTable['determined_year'] = pd.Series(year, index=NewTable.index)\n",
    "NewTable.head(2)"
   ]
  },
  {
   "cell_type": "code",
   "execution_count": 17,
   "metadata": {
    "ExecuteTime": {
     "end_time": "2020-03-12T00:17:38.263311Z",
     "start_time": "2020-03-12T00:17:38.253458Z"
    }
   },
   "outputs": [
    {
     "name": "stdout",
     "output_type": "stream",
     "text": [
      "Start year info is valid.\n"
     ]
    }
   ],
   "source": [
    "# checks if NaNs are in the same position \n",
    "result = (NewTable['start_year'].isna() == crustaceas['Start Date'].isna()).sum() == NewTable.shape[0]\n",
    "\n",
    "if result:\n",
    "    print('Start year info is valid.')\n",
    "else:\n",
    "    print(\"There's something wrong with NewTable. Check how you're collecting Start Year info.\")"
   ]
  },
  {
   "cell_type": "code",
   "execution_count": 18,
   "metadata": {
    "ExecuteTime": {
     "end_time": "2020-03-12T00:17:38.562270Z",
     "start_time": "2020-03-12T00:17:38.265571Z"
    }
   },
   "outputs": [],
   "source": [
    "# year in which the holotipo was \"firstly\" found \n",
    "NewTable['holotipo_year'] = NewTable['species_author'].str.extract('(\\d+)')"
   ]
  },
  {
   "cell_type": "markdown",
   "metadata": {},
   "source": [
    "<br>\n",
    "\n",
    "### creating `years` columns in crustaceas"
   ]
  },
  {
   "cell_type": "code",
   "execution_count": 19,
   "metadata": {
    "ExecuteTime": {
     "end_time": "2020-03-12T00:17:38.598584Z",
     "start_time": "2020-03-12T00:17:38.563969Z"
    }
   },
   "outputs": [],
   "source": [
    "def catch_year(row):\n",
    "    if not str(row).find('/')==-1:\n",
    "        dates_values = str(row).split(\"/\")\n",
    "        year = int(dates_values[0])\n",
    "        month = int(dates_values[1])\n",
    "        return year\n",
    "    else:\n",
    "        return np.NaN"
   ]
  },
  {
   "cell_type": "code",
   "execution_count": 20,
   "metadata": {
    "ExecuteTime": {
     "end_time": "2020-03-12T00:17:38.860393Z",
     "start_time": "2020-03-12T00:17:38.600424Z"
    }
   },
   "outputs": [],
   "source": [
    "crustaceas['determined_year'] = crustaceas['Determined Date1'].apply(catch_year)\n",
    "crustaceas['start_year'] = crustaceas['Start Date'].apply(catch_year)\n",
    "crustaceas['cataloged_year'] = crustaceas['Cataloged Date'].apply(catch_year)\n",
    "crustaceas['holotipo_year'] = crustaceas['Species Author1'].str.extract('(\\d+)')"
   ]
  },
  {
   "cell_type": "markdown",
   "metadata": {},
   "source": [
    "<br>\n",
    "\n",
    "---\n",
    "\n",
    "## Graphs\n",
    "\n",
    "<font color='red'>**p.s.:** All the main charts were moved to individual notebooks. I've kept these two below only in case we need them.</font>\n",
    "\n",
    "### Total amount of catalogations per year\n",
    "\n",
    "x: Start Year (from Start Date)\n",
    "y: number of catalogations per year"
   ]
  },
  {
   "cell_type": "code",
   "execution_count": 21,
   "metadata": {
    "ExecuteTime": {
     "end_time": "2020-03-12T00:17:38.898580Z",
     "start_time": "2020-03-12T00:17:38.862443Z"
    }
   },
   "outputs": [],
   "source": [
    "# counting catalog. per year\n",
    "teste = crustaceas['Start Date'].value_counts()\n",
    "teste = teste.reset_index().rename(columns={'index':'year', 'Start Date':'counts'})"
   ]
  },
  {
   "cell_type": "code",
   "execution_count": 22,
   "metadata": {
    "ExecuteTime": {
     "end_time": "2020-03-12T00:17:38.992182Z",
     "start_time": "2020-03-12T00:17:38.900960Z"
    }
   },
   "outputs": [],
   "source": [
    "# adjusting columns for graphs\n",
    "teste['year'] = teste['year'].apply(lambda x:x.split('/')[0]).astype(int)\n",
    "teste = teste.groupby('year').sum().reset_index() # soma do total de bichos coletados por ano"
   ]
  },
  {
   "cell_type": "code",
   "execution_count": 23,
   "metadata": {
    "ExecuteTime": {
     "end_time": "2020-03-12T00:17:39.087809Z",
     "start_time": "2020-03-12T00:17:38.999659Z"
    }
   },
   "outputs": [],
   "source": [
    "# min e max para eixo X (year)\n",
    "min_x = teste['year'].min()\n",
    "max_x = teste['year'].max()"
   ]
  },
  {
   "cell_type": "code",
   "execution_count": 24,
   "metadata": {
    "ExecuteTime": {
     "end_time": "2020-03-12T00:17:39.220344Z",
     "start_time": "2020-03-12T00:17:39.090999Z"
    }
   },
   "outputs": [
    {
     "data": {
      "application/javascript": [
       "const spec = {\"config\": {\"view\": {\"width\": 400, \"height\": 300}, \"mark\": {\"tooltip\": null}}, \"data\": {\"name\": \"data-8a29d45436bef19edddc362aed2a7c2f\"}, \"mark\": \"circle\", \"encoding\": {\"x\": {\"type\": \"ordinal\", \"field\": \"year\"}, \"y\": {\"type\": \"quantitative\", \"field\": \"counts\"}}, \"title\": \"Number of catalogations per year\", \"width\": 800, \"$schema\": \"https://vega.github.io/schema/vega-lite/v3.4.0.json\", \"datasets\": {\"data-8a29d45436bef19edddc362aed2a7c2f\": [{\"year\": 27, \"counts\": 1}, {\"year\": 1871, \"counts\": 1}, {\"year\": 1877, \"counts\": 1}, {\"year\": 1880, \"counts\": 1}, {\"year\": 1892, \"counts\": 1}, {\"year\": 1898, \"counts\": 1}, {\"year\": 1901, \"counts\": 10}, {\"year\": 1902, \"counts\": 2}, {\"year\": 1903, \"counts\": 26}, {\"year\": 1904, \"counts\": 1}, {\"year\": 1905, \"counts\": 7}, {\"year\": 1906, \"counts\": 1}, {\"year\": 1908, \"counts\": 4}, {\"year\": 1909, \"counts\": 2}, {\"year\": 1910, \"counts\": 3}, {\"year\": 1911, \"counts\": 15}, {\"year\": 1913, \"counts\": 6}, {\"year\": 1914, \"counts\": 3}, {\"year\": 1915, \"counts\": 7}, {\"year\": 1916, \"counts\": 5}, {\"year\": 1917, \"counts\": 2}, {\"year\": 1918, \"counts\": 5}, {\"year\": 1919, \"counts\": 1}, {\"year\": 1920, \"counts\": 2}, {\"year\": 1922, \"counts\": 2}, {\"year\": 1924, \"counts\": 3}, {\"year\": 1925, \"counts\": 5}, {\"year\": 1926, \"counts\": 2}, {\"year\": 1927, \"counts\": 3}, {\"year\": 1930, \"counts\": 4}, {\"year\": 1931, \"counts\": 3}, {\"year\": 1932, \"counts\": 2}, {\"year\": 1933, \"counts\": 4}, {\"year\": 1935, \"counts\": 12}, {\"year\": 1936, \"counts\": 13}, {\"year\": 1937, \"counts\": 4}, {\"year\": 1938, \"counts\": 21}, {\"year\": 1939, \"counts\": 37}, {\"year\": 1940, \"counts\": 28}, {\"year\": 1941, \"counts\": 14}, {\"year\": 1942, \"counts\": 23}, {\"year\": 1943, \"counts\": 14}, {\"year\": 1944, \"counts\": 85}, {\"year\": 1945, \"counts\": 40}, {\"year\": 1946, \"counts\": 38}, {\"year\": 1947, \"counts\": 32}, {\"year\": 1948, \"counts\": 50}, {\"year\": 1949, \"counts\": 28}, {\"year\": 1950, \"counts\": 105}, {\"year\": 1951, \"counts\": 99}, {\"year\": 1952, \"counts\": 109}, {\"year\": 1953, \"counts\": 129}, {\"year\": 1954, \"counts\": 112}, {\"year\": 1955, \"counts\": 94}, {\"year\": 1956, \"counts\": 114}, {\"year\": 1957, \"counts\": 56}, {\"year\": 1958, \"counts\": 60}, {\"year\": 1959, \"counts\": 161}, {\"year\": 1960, \"counts\": 131}, {\"year\": 1961, \"counts\": 113}, {\"year\": 1962, \"counts\": 158}, {\"year\": 1963, \"counts\": 138}, {\"year\": 1964, \"counts\": 308}, {\"year\": 1965, \"counts\": 149}, {\"year\": 1966, \"counts\": 181}, {\"year\": 1967, \"counts\": 207}, {\"year\": 1968, \"counts\": 202}, {\"year\": 1969, \"counts\": 272}, {\"year\": 1970, \"counts\": 171}, {\"year\": 1971, \"counts\": 230}, {\"year\": 1972, \"counts\": 83}, {\"year\": 1973, \"counts\": 297}, {\"year\": 1974, \"counts\": 204}, {\"year\": 1975, \"counts\": 125}, {\"year\": 1976, \"counts\": 195}, {\"year\": 1977, \"counts\": 162}, {\"year\": 1978, \"counts\": 140}, {\"year\": 1979, \"counts\": 82}, {\"year\": 1980, \"counts\": 182}, {\"year\": 1981, \"counts\": 203}, {\"year\": 1982, \"counts\": 230}, {\"year\": 1983, \"counts\": 395}, {\"year\": 1984, \"counts\": 498}, {\"year\": 1985, \"counts\": 524}, {\"year\": 1986, \"counts\": 656}, {\"year\": 1987, \"counts\": 586}, {\"year\": 1988, \"counts\": 322}, {\"year\": 1989, \"counts\": 190}, {\"year\": 1990, \"counts\": 153}, {\"year\": 1991, \"counts\": 247}, {\"year\": 1992, \"counts\": 292}, {\"year\": 1993, \"counts\": 685}, {\"year\": 1994, \"counts\": 703}, {\"year\": 1995, \"counts\": 1247}, {\"year\": 1996, \"counts\": 308}, {\"year\": 1997, \"counts\": 918}, {\"year\": 1998, \"counts\": 667}, {\"year\": 1999, \"counts\": 592}, {\"year\": 2000, \"counts\": 1453}, {\"year\": 2001, \"counts\": 1433}, {\"year\": 2002, \"counts\": 1656}, {\"year\": 2003, \"counts\": 1579}, {\"year\": 2004, \"counts\": 112}, {\"year\": 2005, \"counts\": 183}, {\"year\": 2006, \"counts\": 109}, {\"year\": 2007, \"counts\": 56}, {\"year\": 2008, \"counts\": 1003}, {\"year\": 2009, \"counts\": 2698}, {\"year\": 2010, \"counts\": 133}, {\"year\": 2011, \"counts\": 133}, {\"year\": 2012, \"counts\": 106}, {\"year\": 2013, \"counts\": 213}, {\"year\": 2014, \"counts\": 68}, {\"year\": 2015, \"counts\": 270}, {\"year\": 2016, \"counts\": 12}, {\"year\": 2099, \"counts\": 1}]}};\n",
       "const opt = {};\n",
       "const type = \"vega-lite\";\n",
       "const id = \"2c0ab5e8-2ab5-4ec6-b01e-b68996c3b036\";\n",
       "\n",
       "const output_area = this;\n",
       "\n",
       "require([\"nbextensions/jupyter-vega/index\"], function(vega) {\n",
       "  const target = document.createElement(\"div\");\n",
       "  target.id = id;\n",
       "  target.className = \"vega-embed\";\n",
       "\n",
       "  const style = document.createElement(\"style\");\n",
       "  style.textContent = [\n",
       "    \".vega-embed .error p {\",\n",
       "    \"  color: firebrick;\",\n",
       "    \"  font-size: 14px;\",\n",
       "    \"}\",\n",
       "  ].join(\"\\\\n\");\n",
       "\n",
       "  // element is a jQuery wrapped DOM element inside the output area\n",
       "  // see http://ipython.readthedocs.io/en/stable/api/generated/\\\n",
       "  // IPython.display.html#IPython.display.Javascript.__init__\n",
       "  element[0].appendChild(target);\n",
       "  element[0].appendChild(style);\n",
       "\n",
       "  vega.render(\"#\" + id, spec, type, opt, output_area);\n",
       "}, function (err) {\n",
       "  if (err.requireType !== \"scripterror\") {\n",
       "    throw(err);\n",
       "  }\n",
       "});\n"
      ],
      "text/plain": [
       "<vega.vegalite.VegaLite at 0x7fcf9b3b0250>"
      ]
     },
     "metadata": {
      "jupyter-vega": "#2c0ab5e8-2ab5-4ec6-b01e-b68996c3b036"
     },
     "output_type": "display_data"
    },
    {
     "data": {
      "image/png": "[encoded data removed]"
     },
     "metadata": {
      "jupyter-vega": "#2c0ab5e8-2ab5-4ec6-b01e-b68996c3b036"
     },
     "output_type": "display_data"
    },
    {
     "data": {
      "text/plain": []
     },
     "execution_count": 24,
     "metadata": {},
     "output_type": "execute_result"
    }
   ],
   "source": [
    "alt.Chart(data= teste, width=800, title= 'Number of catalogations per year').mark_circle().encode(\n",
    "    x= alt.X('year', type='ordinal'),\n",
    "    y= alt.Y('counts', type='quantitative')\n",
    ")"
   ]
  },
  {
   "cell_type": "markdown",
   "metadata": {},
   "source": [
    "<br>\n",
    "\n",
    "---\n",
    "\n",
    "### Types (*per year*)\n",
    "\n",
    "#### adjusting columns `determined_year` e `cataloged_year` to ```*int*``` format "
   ]
  },
  {
   "cell_type": "code",
   "execution_count": 25,
   "metadata": {
    "ExecuteTime": {
     "end_time": "2020-03-12T00:17:39.286817Z",
     "start_time": "2020-03-12T00:17:39.223541Z"
    }
   },
   "outputs": [],
   "source": [
    "def str_with_nan2int(string):\n",
    "    if not np.isnan(string):\n",
    "        return int(string)\n",
    "    else:\n",
    "        return np.NAN"
   ]
  },
  {
   "cell_type": "code",
   "execution_count": 26,
   "metadata": {
    "ExecuteTime": {
     "end_time": "2020-03-12T00:17:39.526554Z",
     "start_time": "2020-03-12T00:17:39.291394Z"
    }
   },
   "outputs": [],
   "source": [
    "NewTable['determined_year'] = NewTable['determined_year'].apply(str_with_nan2int) #has NaN\n",
    "# NewTable['determined_year'] = NewTable['determined_year'].astype(int)\n",
    "NewTable['cataloged_year'] = NewTable['cataloged_year'].astype(int)\n",
    "NewTable['start_year'] = NewTable['start_year'].apply(str_with_nan2int) #has NaN"
   ]
  },
  {
   "cell_type": "markdown",
   "metadata": {},
   "source": [
    "#### removing duplicated rows as we took a subset of the main database"
   ]
  },
  {
   "cell_type": "code",
   "execution_count": 27,
   "metadata": {
    "ExecuteTime": {
     "end_time": "2020-03-12T00:17:49.776122Z",
     "start_time": "2020-03-12T00:17:49.585446Z"
    }
   },
   "outputs": [
    {
     "name": "stdout",
     "output_type": "stream",
     "text": [
      "Duplicated registers: 7001\n"
     ]
    }
   ],
   "source": [
    "teste1 = NewTable.drop_duplicates().copy()  # removes duplicated rows (with same values in ALL columns)\n",
    "print('Duplicated registers:',NewTable.shape[0] - NewTable.drop_duplicates().shape[0])\n",
    "# teste1.head(2)"
   ]
  },
  {
   "cell_type": "markdown",
   "metadata": {},
   "source": [
    "### Number of catalogations of each type (per year)"
   ]
  },
  {
   "cell_type": "code",
   "execution_count": 42,
   "metadata": {
    "ExecuteTime": {
     "end_time": "2020-03-12T00:23:23.420201Z",
     "start_time": "2020-03-12T00:23:23.339988Z"
    }
   },
   "outputs": [],
   "source": [
    "# p.s.: I'm grouping again because, previously, there were other charts in this notebook. \n",
    "# Now, I'm only keeping what's important for this chart (in case we need to get back to it)\n",
    "\n",
    "# p.s.: try changing year column in groupby to start_year\n",
    "type_data = teste1.groupby(['type_status','cataloged_year']).count()['class'].reset_index().rename(\n",
    "                                                    columns={'class':'counts'})\n",
    "\n",
    "type_data.sort_values(['counts'], inplace=True) # sorting..."
   ]
  },
  {
   "cell_type": "code",
   "execution_count": 45,
   "metadata": {
    "ExecuteTime": {
     "end_time": "2020-03-12T00:23:51.148632Z",
     "start_time": "2020-03-12T00:23:48.178640Z"
    }
   },
   "outputs": [
    {
     "data": {
      "application/javascript": [
       "const spec = {\"config\": {\"view\": {\"width\": 400, \"height\": 300}, \"mark\": {\"tooltip\": null}}, \"data\": {\"name\": \"data-f3db507587d84ecac2ff4d3852d1eaa2\"}, \"mark\": \"rect\", \"encoding\": {\"color\": {\"type\": \"quantitative\", \"field\": \"counts\", \"scale\": {\"scheme\": \"yellowgreenblue\"}}, \"x\": {\"type\": \"ordinal\", \"field\": \"cataloged_year\", \"title\": \"Year\"}, \"y\": {\"type\": \"nominal\", \"axis\": {\"grid\": false}, \"field\": \"type_status\", \"sort\": {\"field\": \"counts\", \"op\": \"mean\", \"order\": \"descending\"}, \"title\": \"Type\"}}, \"title\": \"Number of animals of each type per year\", \"$schema\": \"https://vega.github.io/schema/vega-lite/v3.4.0.json\", \"datasets\": {\"data-f3db507587d84ecac2ff4d3852d1eaa2\": [{\"type_status\": \"Alotipo\", \"cataloged_year\": 1993, \"counts\": 1}, {\"type_status\": \"Lectotipo\", \"cataloged_year\": 2009, \"counts\": 1}, {\"type_status\": \"Material tipo\", \"cataloged_year\": 1969, \"counts\": 1}, {\"type_status\": \"Material tipo\", \"cataloged_year\": 2012, \"counts\": 1}, {\"type_status\": \"Topotipo\", \"cataloged_year\": 2008, \"counts\": 1}, {\"type_status\": \"Neotipo\", \"cataloged_year\": 2000, \"counts\": 1}, {\"type_status\": \"Neotipo\", \"cataloged_year\": 2006, \"counts\": 1}, {\"type_status\": \"Neotipo\", \"cataloged_year\": 2008, \"counts\": 1}, {\"type_status\": \"Paralectotipo\", \"cataloged_year\": 1950, \"counts\": 1}, {\"type_status\": \"Paralectotipo\", \"cataloged_year\": 1953, \"counts\": 1}, {\"type_status\": \"Paralectotipo\", \"cataloged_year\": 1994, \"counts\": 1}, {\"type_status\": \"Paratipo\", \"cataloged_year\": 1944, \"counts\": 1}, {\"type_status\": \"Paratipo\", \"cataloged_year\": 1956, \"counts\": 1}, {\"type_status\": \"Paratipo\", \"cataloged_year\": 1964, \"counts\": 1}, {\"type_status\": \"Paratipo\", \"cataloged_year\": 1987, \"counts\": 1}, {\"type_status\": \"Paratipo\", \"cataloged_year\": 1992, \"counts\": 1}, {\"type_status\": \"Sintipo\", \"cataloged_year\": 1995, \"counts\": 1}, {\"type_status\": \"Sintipo\", \"cataloged_year\": 2006, \"counts\": 1}, {\"type_status\": \"Sintipo\", \"cataloged_year\": 2008, \"counts\": 1}, {\"type_status\": \"Tipo\", \"cataloged_year\": 1995, \"counts\": 1}, {\"type_status\": \"Tipo\", \"cataloged_year\": 1998, \"counts\": 1}, {\"type_status\": \"Topotipo\", \"cataloged_year\": 2000, \"counts\": 1}, {\"type_status\": \"Topotipo\", \"cataloged_year\": 2003, \"counts\": 1}, {\"type_status\": \"Topotipo\", \"cataloged_year\": 2006, \"counts\": 1}, {\"type_status\": \"Lectotipo\", \"cataloged_year\": 1950, \"counts\": 1}, {\"type_status\": \"Holotipo\", \"cataloged_year\": 2004, \"counts\": 1}, {\"type_status\": \"Material tipo\", \"cataloged_year\": 2016, \"counts\": 1}, {\"type_status\": \"Alotipo\", \"cataloged_year\": 2011, \"counts\": 1}, {\"type_status\": \"Holotipo\", \"cataloged_year\": 1978, \"counts\": 1}, {\"type_status\": \"Holotipo\", \"cataloged_year\": 1952, \"counts\": 1}, {\"type_status\": \"Holotipo\", \"cataloged_year\": 1900, \"counts\": 1}, {\"type_status\": \"Co-tipo\", \"cataloged_year\": 1995, \"counts\": 1}, {\"type_status\": \"Alotipo\", \"cataloged_year\": 2016, \"counts\": 1}, {\"type_status\": \"Alotipo\", \"cataloged_year\": 2012, \"counts\": 1}, {\"type_status\": \"Holotipo\", \"cataloged_year\": 1987, \"counts\": 1}, {\"type_status\": \"Holotipo\", \"cataloged_year\": 1980, \"counts\": 1}, {\"type_status\": \"Alotipo\", \"cataloged_year\": 2003, \"counts\": 1}, {\"type_status\": \"Alotipo\", \"cataloged_year\": 2002, \"counts\": 1}, {\"type_status\": \"Alotipo\", \"cataloged_year\": 1997, \"counts\": 1}, {\"type_status\": \"Alotipo\", \"cataloged_year\": 1996, \"counts\": 1}, {\"type_status\": \"Alotipo\", \"cataloged_year\": 2004, \"counts\": 1}, {\"type_status\": \"Alotipo\", \"cataloged_year\": 2006, \"counts\": 2}, {\"type_status\": \"Paratipo\", \"cataloged_year\": 1985, \"counts\": 2}, {\"type_status\": \"Paratipo\", \"cataloged_year\": 1993, \"counts\": 2}, {\"type_status\": \"Sintipo\", \"cataloged_year\": 1993, \"counts\": 2}, {\"type_status\": \"Paratipo\", \"cataloged_year\": 1900, \"counts\": 2}, {\"type_status\": \"Paralectotipo\", \"cataloged_year\": 1995, \"counts\": 2}, {\"type_status\": \"Alotipo\", \"cataloged_year\": 2013, \"counts\": 2}, {\"type_status\": \"Alotipo\", \"cataloged_year\": 2017, \"counts\": 2}, {\"type_status\": \"Topotipo\", \"cataloged_year\": 1995, \"counts\": 2}, {\"type_status\": \"Paratipo\", \"cataloged_year\": 1980, \"counts\": 2}, {\"type_status\": \"Topotipo\", \"cataloged_year\": 2009, \"counts\": 2}, {\"type_status\": \"Holotipo\", \"cataloged_year\": 2016, \"counts\": 2}, {\"type_status\": \"Lectotipo\", \"cataloged_year\": 2006, \"counts\": 2}, {\"type_status\": \"Neotipo\", \"cataloged_year\": 1995, \"counts\": 3}, {\"type_status\": \"Holotipo\", \"cataloged_year\": 2017, \"counts\": 3}, {\"type_status\": \"Paratipo\", \"cataloged_year\": 2001, \"counts\": 3}, {\"type_status\": \"Alotipo\", \"cataloged_year\": 1994, \"counts\": 3}, {\"type_status\": \"Holotipo\", \"cataloged_year\": 2012, \"counts\": 3}, {\"type_status\": \"Paratipo\", \"cataloged_year\": 2017, \"counts\": 3}, {\"type_status\": \"Holotipo\", \"cataloged_year\": 2008, \"counts\": 3}, {\"type_status\": \"Alotipo\", \"cataloged_year\": 2007, \"counts\": 3}, {\"type_status\": \"Holotipo\", \"cataloged_year\": 1999, \"counts\": 4}, {\"type_status\": \"Holotipo\", \"cataloged_year\": 2001, \"counts\": 4}, {\"type_status\": \"Holotipo\", \"cataloged_year\": 1996, \"counts\": 4}, {\"type_status\": \"Paratipo\", \"cataloged_year\": 1999, \"counts\": 4}, {\"type_status\": \"Holotipo\", \"cataloged_year\": 2013, \"counts\": 4}, {\"type_status\": \"Alotipo\", \"cataloged_year\": 2000, \"counts\": 4}, {\"type_status\": \"Paratipo\", \"cataloged_year\": 2004, \"counts\": 5}, {\"type_status\": \"Alotipo\", \"cataloged_year\": 2014, \"counts\": 5}, {\"type_status\": \"Holotipo\", \"cataloged_year\": 2014, \"counts\": 5}, {\"type_status\": \"Paratipo\", \"cataloged_year\": 2016, \"counts\": 5}, {\"type_status\": \"Holotipo\", \"cataloged_year\": 2011, \"counts\": 6}, {\"type_status\": \"Holotipo\", \"cataloged_year\": 2002, \"counts\": 6}, {\"type_status\": \"Paratipo\", \"cataloged_year\": 2015, \"counts\": 6}, {\"type_status\": \"Holotipo\", \"cataloged_year\": 2010, \"counts\": 7}, {\"type_status\": \"Paratipo\", \"cataloged_year\": 2002, \"counts\": 9}, {\"type_status\": \"Holotipo\", \"cataloged_year\": 2015, \"counts\": 9}, {\"type_status\": \"Alotipo\", \"cataloged_year\": 1998, \"counts\": 9}, {\"type_status\": \"Paratipo\", \"cataloged_year\": 2014, \"counts\": 10}, {\"type_status\": \"Holotipo\", \"cataloged_year\": 2003, \"counts\": 11}, {\"type_status\": \"Paratipo\", \"cataloged_year\": 2011, \"counts\": 11}, {\"type_status\": \"Paratipo\", \"cataloged_year\": 1996, \"counts\": 12}, {\"type_status\": \"Holotipo\", \"cataloged_year\": 2000, \"counts\": 14}, {\"type_status\": \"Holotipo\", \"cataloged_year\": 2009, \"counts\": 14}, {\"type_status\": \"Paratipo\", \"cataloged_year\": 2008, \"counts\": 15}, {\"type_status\": \"Paratipo\", \"cataloged_year\": 2012, \"counts\": 17}, {\"type_status\": \"Paratipo\", \"cataloged_year\": 2013, \"counts\": 18}, {\"type_status\": \"Holotipo\", \"cataloged_year\": 1998, \"counts\": 18}, {\"type_status\": \"Holotipo\", \"cataloged_year\": 2007, \"counts\": 23}, {\"type_status\": \"Holotipo\", \"cataloged_year\": 1997, \"counts\": 24}, {\"type_status\": \"Holotipo\", \"cataloged_year\": 2006, \"counts\": 26}, {\"type_status\": \"Holotipo\", \"cataloged_year\": 1994, \"counts\": 26}, {\"type_status\": \"Paratipo\", \"cataloged_year\": 2003, \"counts\": 28}, {\"type_status\": \"Paratipo\", \"cataloged_year\": 2009, \"counts\": 29}, {\"type_status\": \"Paratipo\", \"cataloged_year\": 2000, \"counts\": 42}, {\"type_status\": \"Paratipo\", \"cataloged_year\": 1998, \"counts\": 42}, {\"type_status\": \"Alotipo\", \"cataloged_year\": 1995, \"counts\": 42}, {\"type_status\": \"Paratipo\", \"cataloged_year\": 2010, \"counts\": 46}, {\"type_status\": \"Paratipo\", \"cataloged_year\": 2007, \"counts\": 52}, {\"type_status\": \"Paratipo\", \"cataloged_year\": 1997, \"counts\": 55}, {\"type_status\": \"Holotipo\", \"cataloged_year\": 1995, \"counts\": 61}, {\"type_status\": \"Paratipo\", \"cataloged_year\": 1994, \"counts\": 64}, {\"type_status\": \"Paratipo\", \"cataloged_year\": 2006, \"counts\": 67}, {\"type_status\": \"Paratipo\", \"cataloged_year\": 1995, \"counts\": 76}]}};\n",
       "const opt = {};\n",
       "const type = \"vega-lite\";\n",
       "const id = \"b9f39191-7195-46c6-9eee-52d50973bd73\";\n",
       "\n",
       "const output_area = this;\n",
       "\n",
       "require([\"nbextensions/jupyter-vega/index\"], function(vega) {\n",
       "  const target = document.createElement(\"div\");\n",
       "  target.id = id;\n",
       "  target.className = \"vega-embed\";\n",
       "\n",
       "  const style = document.createElement(\"style\");\n",
       "  style.textContent = [\n",
       "    \".vega-embed .error p {\",\n",
       "    \"  color: firebrick;\",\n",
       "    \"  font-size: 14px;\",\n",
       "    \"}\",\n",
       "  ].join(\"\\\\n\");\n",
       "\n",
       "  // element is a jQuery wrapped DOM element inside the output area\n",
       "  // see http://ipython.readthedocs.io/en/stable/api/generated/\\\n",
       "  // IPython.display.html#IPython.display.Javascript.__init__\n",
       "  element[0].appendChild(target);\n",
       "  element[0].appendChild(style);\n",
       "\n",
       "  vega.render(\"#\" + id, spec, type, opt, output_area);\n",
       "}, function (err) {\n",
       "  if (err.requireType !== \"scripterror\") {\n",
       "    throw(err);\n",
       "  }\n",
       "});\n"
      ],
      "text/plain": [
       "<vega.vegalite.VegaLite at 0x7fcf8cba0450>"
      ]
     },
     "metadata": {
      "jupyter-vega": "#b9f39191-7195-46c6-9eee-52d50973bd73"
     },
     "output_type": "display_data"
    },
    {
     "data": {
      "image/png": "[encoded data removed]"
     },
     "metadata": {
      "jupyter-vega": "#b9f39191-7195-46c6-9eee-52d50973bd73"
     },
     "output_type": "display_data"
    },
    {
     "data": {
      "text/plain": []
     },
     "execution_count": 45,
     "metadata": {},
     "output_type": "execute_result"
    }
   ],
   "source": [
    "# p.s.: try changing X axis to start_year ;)\n",
    "g3 = alt.Chart(type_data, title='Number of animals of each type per year').mark_rect().encode(\n",
    "    x= alt.X('cataloged_year', type='ordinal', title='Year'),\n",
    "    y= alt.Y('type_status', type='nominal', title='Type', \n",
    "             sort=alt.EncodingSortField(field=\"counts\", op=\"mean\", order='descending'),\n",
    "            axis=alt.Axis(grid=False)),\n",
    "    color= alt.Color('counts', type='quantitative', scale=alt.Scale(scheme='yellowgreenblue'))\n",
    ")\n",
    "\n",
    "# g3.save('./viz_old/types_per_year.html')\n",
    "# g3.save('./viz_old/types_per_year.svg')\n",
    "\n",
    "g3"
   ]
  },
  {
   "cell_type": "markdown",
   "metadata": {},
   "source": [
    "<br>\n",
    "\n",
    "**Thats it!**\n",
    "\n",
    "-----"
   ]
  }
 ],
 "metadata": {
  "kernelspec": {
   "display_name": "Python 3",
   "language": "python",
   "name": "python3"
  },
  "language_info": {
   "codemirror_mode": {
    "name": "ipython",
    "version": 3
   },
   "file_extension": ".py",
   "mimetype": "text/x-python",
   "name": "python",
   "nbconvert_exporter": "python",
   "pygments_lexer": "ipython3",
   "version": "3.7.4"
  },
  "toc": {
   "base_numbering": 1,
   "nav_menu": {},
   "number_sections": false,
   "sideBar": true,
   "skip_h1_title": false,
   "title_cell": "Table of Contents",
   "title_sidebar": "Contents",
   "toc_cell": false,
   "toc_position": {},
   "toc_section_display": true,
   "toc_window_display": false
  },
  "varInspector": {
   "cols": {
    "lenName": 16,
    "lenType": 16,
    "lenVar": 40
   },
   "kernels_config": {
    "python": {
     "delete_cmd_postfix": "",
     "delete_cmd_prefix": "del ",
     "library": "var_list.py",
     "varRefreshCmd": "print(var_dic_list())"
    },
    "r": {
     "delete_cmd_postfix": ") ",
     "delete_cmd_prefix": "rm(",
     "library": "var_list.r",
     "varRefreshCmd": "cat(var_dic_list()) "
    }
   },
   "position": {
    "height": "391.35px",
    "left": "900.5px",
    "right": "20px",
    "top": "96px",
    "width": "536.5px"
   },
   "types_to_exclude": [
    "module",
    "function",
    "builtin_function_or_method",
    "instance",
    "_Feature"
   ],
   "window_display": false
  }
 },
 "nbformat": 4,
 "nbformat_minor": 2
}
