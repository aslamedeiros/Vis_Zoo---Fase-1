{
 "cells": [
  {
   "cell_type": "markdown",
   "metadata": {},
   "source": [
    "# Explorando a planilha Crustaceas_MN"
   ]
  },
  {
   "cell_type": "code",
   "execution_count": 269,
   "metadata": {},
   "outputs": [
    {
     "name": "stdout",
     "output_type": "stream",
     "text": [
      "28689\n"
     ]
    },
    {
     "data": {
      "text/html": [
       "\n",
       "<div id=\"altair-viz-23\"></div>\n",
       "<script type=\"text/javascript\">\n",
       "  (function(spec, embedOpt){\n",
       "    const outputDiv = document.getElementById(\"altair-viz-23\");\n",
       "    const paths = {\n",
       "      \"vega\": \"https://cdn.jsdelivr.net/npm//vega@5?noext\",\n",
       "      \"vega-lib\": \"https://cdn.jsdelivr.net/npm//vega-lib?noext\",\n",
       "      \"vega-lite\": \"https://cdn.jsdelivr.net/npm//vega-lite@4.0.0?noext\",\n",
       "      \"vega-embed\": \"https://cdn.jsdelivr.net/npm//vega-embed@6?noext\",\n",
       "    };\n",
       "\n",
       "    function loadScript(lib) {\n",
       "      return new Promise(function(resolve, reject) {\n",
       "        var s = document.createElement('script');\n",
       "        s.src = paths[lib];\n",
       "        s.async = true;\n",
       "        s.onload = () => resolve(paths[lib]);\n",
       "        s.onerror = () => reject(`Error loading script: ${paths[lib]}`);\n",
       "        document.getElementsByTagName(\"head\")[0].appendChild(s);\n",
       "      });\n",
       "    }\n",
       "\n",
       "    function showError(err) {\n",
       "      outputDiv.innerHTML = `<div class=\"error\" style=\"color:red;\">${err}</div>`;\n",
       "      throw err;\n",
       "    }\n",
       "\n",
       "    function displayChart(vegaEmbed) {\n",
       "      vegaEmbed(outputDiv, spec, embedOpt)\n",
       "        .catch(err => showError(`Javascript Error: ${err.message}<br>This usually means there's a typo in your chart specification. See the javascript console for the full traceback.`));\n",
       "    }\n",
       "\n",
       "    if(typeof define === \"function\" && define.amd) {\n",
       "      requirejs.config({paths});\n",
       "      require([\"vega-embed\"], displayChart, err => showError(`Error loading script: ${err.message}`));\n",
       "    } else if (typeof vegaEmbed === \"function\") {\n",
       "      displayChart(vegaEmbed);\n",
       "    } else {\n",
       "      loadScript(\"vega\")\n",
       "        .then(() => loadScript(\"vega-lite\"))\n",
       "        .then(() => loadScript(\"vega-embed\"))\n",
       "        .catch(showError)\n",
       "        .then(() => displayChart(vegaEmbed));\n",
       "    }\n",
       "  })({\"config\": {\"view\": {\"continuousWidth\": 400, \"continuousHeight\": 300}}, \"data\": {\"name\": \"data-6e80befc94081a49c5005c4a23868abf\"}, \"mark\": {\"type\": \"square\", \"size\": 60}, \"encoding\": {\"color\": {\"type\": \"quantitative\", \"field\": \"y\", \"title\": \"Counting ocurrences.\"}, \"x\": {\"type\": \"quantitative\", \"field\": \"x\", \"title\": \"Year\"}}, \"height\": 40, \"width\": 620, \"$schema\": \"https://vega.github.io/schema/vega-lite/v4.0.0.json\", \"datasets\": {\"data-6e80befc94081a49c5005c4a23868abf\": [{\"x\": 0, \"y\": 4}, {\"x\": 1, \"y\": 6}, {\"x\": 2, \"y\": 7}, {\"x\": 3, \"y\": 1}, {\"x\": 4, \"y\": 11}, {\"x\": 5, \"y\": 3}, {\"x\": 6, \"y\": 2}, {\"x\": 7, \"y\": 2}, {\"x\": 8, \"y\": 1}, {\"x\": 9, \"y\": 2}, {\"x\": 10, \"y\": 6}, {\"x\": 11, \"y\": 9}, {\"x\": 12, \"y\": 5}, {\"x\": 13, \"y\": 3}, {\"x\": 14, \"y\": 5}, {\"x\": 15, \"y\": 37}, {\"x\": 16, \"y\": 9}, {\"x\": 17, \"y\": 1}, {\"x\": 18, \"y\": 2}, {\"x\": 19, \"y\": 7}, {\"x\": 20, \"y\": 7}, {\"x\": 21, \"y\": 17}, {\"x\": 22, \"y\": 4}, {\"x\": 23, \"y\": 20}, {\"x\": 24, \"y\": 20}, {\"x\": 25, \"y\": 9}, {\"x\": 26, \"y\": 20}, {\"x\": 27, \"y\": 2}, {\"x\": 28, \"y\": 6}, {\"x\": 29, \"y\": 22}, {\"x\": 30, \"y\": 24}, {\"x\": 31, \"y\": 1}, {\"x\": 32, \"y\": 12}, {\"x\": 33, \"y\": 15}, {\"x\": 34, \"y\": 63}, {\"x\": 35, \"y\": 11}, {\"x\": 36, \"y\": 14}, {\"x\": 37, \"y\": 14}, {\"x\": 38, \"y\": 34}, {\"x\": 39, \"y\": 24}, {\"x\": 40, \"y\": 14}, {\"x\": 41, \"y\": 4}, {\"x\": 42, \"y\": 6}, {\"x\": 43, \"y\": 13}, {\"x\": 44, \"y\": 36}, {\"x\": 45, \"y\": 16}, {\"x\": 46, \"y\": 18}, {\"x\": 47, \"y\": 8}, {\"x\": 48, \"y\": 13}, {\"x\": 49, \"y\": 4}, {\"x\": 50, \"y\": 53}, {\"x\": 51, \"y\": 129}, {\"x\": 52, \"y\": 121}, {\"x\": 53, \"y\": 161}, {\"x\": 54, \"y\": 140}, {\"x\": 55, \"y\": 91}, {\"x\": 56, \"y\": 23}, {\"x\": 57, \"y\": 251}, {\"x\": 58, \"y\": 169}, {\"x\": 59, \"y\": 2}, {\"x\": 60, \"y\": 237}, {\"x\": 61, \"y\": 500}, {\"x\": 62, \"y\": 2267}, {\"x\": 63, \"y\": 1531}, {\"x\": 64, \"y\": 1242}, {\"x\": 65, \"y\": 3316}, {\"x\": 66, \"y\": 1300}, {\"x\": 67, \"y\": 406}, {\"x\": 68, \"y\": 1412}, {\"x\": 69, \"y\": 657}, {\"x\": 70, \"y\": 1182}, {\"x\": 71, \"y\": 1437}, {\"x\": 72, \"y\": 167}, {\"x\": 73, \"y\": 40}, {\"x\": 74, \"y\": 2075}, {\"x\": 75, \"y\": 945}, {\"x\": 76, \"y\": 192}, {\"x\": 77, \"y\": 291}, {\"x\": 78, \"y\": 802}, {\"x\": 79, \"y\": 636}, {\"x\": 80, \"y\": 97}, {\"x\": 81, \"y\": 1102}, {\"x\": 82, \"y\": 956}, {\"x\": 83, \"y\": 1384}, {\"x\": 84, \"y\": 2110}, {\"x\": 85, \"y\": 669}, {\"x\": 86, \"y\": 2}]}}, {\"mode\": \"vega-lite\"});\n",
       "</script>"
      ],
      "text/plain": [
       "alt.Chart(...)"
      ]
     },
     "execution_count": 269,
     "metadata": {},
     "output_type": "execute_result"
    }
   ],
   "source": [
    "import numpy as np\n",
    "import pandas as pd\n",
    "import altair as alt\n",
    "import datetime as dt\n",
    "import math as mt\n",
    "import array as arr\n",
    "\n",
    "file_name = './data/db.csv'\n",
    "crustaceas = pd.read_csv(file_name, sep=',', encoding='utf-8', index_col=False, low_memory=False)\n",
    "\n",
    "Table_Date = crustaceas['Cataloged Date']\n",
    "print(Table_Date.size)\n",
    "d = []\n",
    "for row in Table_Date:\n",
    "    if not str(row).find('/')==-1:\n",
    "        dates_values = str(row).split(\"/\")\n",
    "        year = int(dates_values[0])\n",
    "        month = int(dates_values[1])\n",
    "        if (month>1) and (month<12):\n",
    "            #store the year and month in a datetime datatype for later sorting\n",
    "            dateRecord = dt.datetime(year,month,1)\n",
    "#         else:\n",
    "#             #if the month is not valid, then use 1/1/1 as the date\n",
    "#             dateRecord = dt.datetime(1,1,1)\n",
    "#     else:\n",
    "#         #if the date is nan, then use 1/1/1 as the date\n",
    "#         dateRecord = dt.datetime(1,1,1)         \n",
    "    d.append({'Date': dateRecord, 'year':year})\n",
    "NewTable_Date = pd.DataFrame(d)\n",
    "# NewTable_Date.dtypes\n",
    "\n",
    "# amount = crustaceas['Cataloged Date'].value_counts(sort=False)\n",
    "amount = NewTable_Date['year'].value_counts(sort=True)\n",
    "ordered_amount = amount.sort_index()\n",
    "F_amount=pd.DataFrame({'x': np.arange(ordered_amount.size), 'y': ordered_amount})\n",
    "alt.Chart(F_amount,width=620,height=40).mark_square(size=60).encode(\n",
    "    x= alt.X('x', title='Year'),\n",
    "#     y= alt.Y('y', title='Counting ocurrences.'),\n",
    "    color=alt.Color('y', title='Counting ocurrences.')\n",
    ")"
   ]
  },
  {
   "cell_type": "code",
   "execution_count": null,
   "metadata": {},
   "outputs": [],
   "source": []
  }
 ],
 "metadata": {
  "kernelspec": {
   "display_name": "Python 3",
   "language": "python",
   "name": "python3"
  },
  "language_info": {
   "codemirror_mode": {
    "name": "ipython",
    "version": 3
   },
   "file_extension": ".py",
   "mimetype": "text/x-python",
   "name": "python",
   "nbconvert_exporter": "python",
   "pygments_lexer": "ipython3",
   "version": "3.7.4"
  },
  "toc": {
   "base_numbering": 1,
   "nav_menu": {},
   "number_sections": false,
   "sideBar": true,
   "skip_h1_title": false,
   "title_cell": "Table of Contents",
   "title_sidebar": "Contents",
   "toc_cell": false,
   "toc_position": {},
   "toc_section_display": true,
   "toc_window_display": false
  },
  "varInspector": {
   "cols": {
    "lenName": 16,
    "lenType": 16,
    "lenVar": 40
   },
   "kernels_config": {
    "python": {
     "delete_cmd_postfix": "",
     "delete_cmd_prefix": "del ",
     "library": "var_list.py",
     "varRefreshCmd": "print(var_dic_list())"
    },
    "r": {
     "delete_cmd_postfix": ") ",
     "delete_cmd_prefix": "rm(",
     "library": "var_list.r",
     "varRefreshCmd": "cat(var_dic_list()) "
    }
   },
   "types_to_exclude": [
    "module",
    "function",
    "builtin_function_or_method",
    "instance",
    "_Feature"
   ],
   "window_display": false
  }
 },
 "nbformat": 4,
 "nbformat_minor": 2
}
