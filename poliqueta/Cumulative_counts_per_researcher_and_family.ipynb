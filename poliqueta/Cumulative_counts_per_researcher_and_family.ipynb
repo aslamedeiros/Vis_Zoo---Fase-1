{
 "cells": [
  {
   "cell_type": "markdown",
   "metadata": {},
   "source": [
    "# Cumulative Counts per researcher & family\n",
    "\n",
    "By **Franklin Oliveira**\n",
    "\n",
    "-----\n",
    "This notebook contains all code necessary to make the cumulative counts line charts for `poliqueta` database. Here you'll find some basic data treatment and charts' code. \n",
    "\n",
    "Database: <font color='blue'>'IBUFRJ27.07.2020 - visualização.xlsx'</font> and <font color='blue'>'MNRJP27.07.2020 - visualização.xls'</font>."
   ]
  },
  {
   "cell_type": "code",
   "execution_count": 1,
   "metadata": {
    "ExecuteTime": {
     "end_time": "2021-02-15T01:24:48.563446Z",
     "start_time": "2021-02-15T01:24:47.654840Z"
    }
   },
   "outputs": [
    {
     "data": {
      "text/plain": [
       "DataTransformerRegistry.enable('default')"
      ]
     },
     "execution_count": 1,
     "metadata": {},
     "output_type": "execute_result"
    }
   ],
   "source": [
    "import datetime\n",
    "import numpy as np\n",
    "import pandas as pd\n",
    "\n",
    "from collections import defaultdict\n",
    "\n",
    "# quick visualization\n",
    "import matplotlib.pyplot as plt\n",
    "import seaborn as sns\n",
    "\n",
    "# Waffle Charts\n",
    "# from pywaffle import Waffle \n",
    "# docs: https://pywaffle.readthedocs.io/en/latest/examples/block_shape_distance_location_and_direction.html\n",
    "\n",
    "# visualization\n",
    "import altair as alt\n",
    "\n",
    "# enabling notebook renderer\n",
    "# alt.renderers.enable('notebook')\n",
    "# alt.renderers.enable('default')\n",
    "\n",
    "# disabling rows limit\n",
    "alt.data_transformers.disable_max_rows()"
   ]
  },
  {
   "cell_type": "markdown",
   "metadata": {},
   "source": [
    "## Importing data..."
   ]
  },
  {
   "cell_type": "code",
   "execution_count": 2,
   "metadata": {
    "ExecuteTime": {
     "end_time": "2021-02-15T01:24:48.630030Z",
     "start_time": "2021-02-15T01:24:48.565280Z"
    }
   },
   "outputs": [],
   "source": [
    "NewTable = pd.read_csv('./data/merged_db.csv', sep=';', encoding='utf-8-sig')"
   ]
  },
  {
   "cell_type": "code",
   "execution_count": 3,
   "metadata": {
    "ExecuteTime": {
     "end_time": "2021-02-15T01:24:48.648511Z",
     "start_time": "2021-02-15T01:24:48.632118Z"
    }
   },
   "outputs": [],
   "source": [
    "# only this first collection database contains determination date\n",
    "ibufrj = NewTable[NewTable['catalog_number'].str.contains('IBUFRJ')].copy()"
   ]
  },
  {
   "cell_type": "code",
   "execution_count": 4,
   "metadata": {
    "ExecuteTime": {
     "end_time": "2021-02-15T01:24:48.693787Z",
     "start_time": "2021-02-15T01:24:48.650464Z"
    }
   },
   "outputs": [],
   "source": [
    "# formatando a string NaN\n",
    "NewTable['family'] = NewTable['family'].apply(lambda x: 'NaN' if x=='Nan' else x)\n",
    "\n",
    "# parsing into string\n",
    "NewTable['determiner_full_name'] = NewTable['determiner_full_name'].astype(str)"
   ]
  },
  {
   "cell_type": "code",
   "execution_count": 5,
   "metadata": {
    "ExecuteTime": {
     "end_time": "2021-02-15T01:24:48.750987Z",
     "start_time": "2021-02-15T01:24:48.697376Z"
    }
   },
   "outputs": [],
   "source": [
    "# parsing NaN into string so it's not excluded while grouping\n",
    "def convert2int(y):\n",
    "    try:\n",
    "        return int(y)\n",
    "    except:\n",
    "        return y\n",
    "    \n",
    "# NewTable['determined_year'] = NewTable['determined_year'].apply(convert2int).astype(str)  # forcing to string to keep NaNs\n",
    "NewTable['start_year'] = NewTable['start_year'].apply(convert2int).astype(str) "
   ]
  },
  {
   "cell_type": "markdown",
   "metadata": {},
   "source": [
    "<br>\n",
    "\n",
    "<font size=5>**Color Palette**</font>\n",
    "\n",
    "<div class='row' style='padding-top:20px;'>\n",
    "    <div class='col-md-6'>\n",
    "        <img src=\"./src/img1.jpg\" width='400px'>\n",
    "    </div>\n",
    "    <div class='col-md-6'>\n",
    "        <img src=\"./src/img2.jpg\" width='400px'>\n",
    "    </div>\n",
    "</div>\n",
    "\n",
    "<br>"
   ]
  },
  {
   "cell_type": "code",
   "execution_count": 6,
   "metadata": {
    "ExecuteTime": {
     "end_time": "2021-02-15T01:24:48.801298Z",
     "start_time": "2021-02-15T01:24:48.752966Z"
    }
   },
   "outputs": [],
   "source": [
    "# importing customized color palettes\n",
    "from src.MNViz_colors import *"
   ]
  },
  {
   "cell_type": "markdown",
   "metadata": {},
   "source": [
    "<br>\n",
    "\n",
    "\n",
    "## Graphs\n",
    "\n",
    "---\n",
    "\n",
    "### Creating chart: counts per determiner per year\n",
    "\n",
    "To calculate the cumulative counts, we need to consider ALL determiner's columns, in this case:\n",
    "\n",
    "    - 'determinator_full_name'\n",
    "    - 'determinator_full_name2': as I'm writing this script, it's all empty"
   ]
  },
  {
   "cell_type": "code",
   "execution_count": 7,
   "metadata": {
    "ExecuteTime": {
     "end_time": "2021-02-15T01:24:48.851796Z",
     "start_time": "2021-02-15T01:24:48.804707Z"
    }
   },
   "outputs": [],
   "source": [
    "determiner_columns = ['determiner_full_name', 'determiner_full_name1', 'determiner_full_name2']\n",
    "\n",
    "# name of all determiners (first, second and third)\n",
    "determiners = set(ibufrj['determiner_full_name'].str.strip()).union(set(ibufrj['determiner_full_name1']))\n",
    "determiners = determiners.union(set(ibufrj['determiner_full_name2']))\n",
    "# determiners = NewTable['determiner_full_name'].unique()\n",
    "\n",
    "determiners = [name for name in determiners if str(name) != 'nan']  # removing NaN and parsing into a list"
   ]
  },
  {
   "cell_type": "code",
   "execution_count": 62,
   "metadata": {
    "ExecuteTime": {
     "end_time": "2021-02-15T01:36:24.473018Z",
     "start_time": "2021-02-15T01:36:24.448534Z"
    }
   },
   "outputs": [],
   "source": [
    "# subsetting (p.s.: kingdom is a non-empty column used only for counting)\n",
    "df = ibufrj[[determiner_columns[0], 'determined_year', 'kingdom']].copy()\n",
    "\n",
    "# concatenating all columns into just one to make grouping per determiner and year easier\n",
    "if len(determiner_columns) > 1:\n",
    "    for det_col in determiner_columns[1:]:\n",
    "        temp = ibufrj[[det_col, 'determined_year', 'kingdom']].copy()\n",
    "        temp.columns = [determiner_columns[0], 'determined_year', 'kingdom']\n",
    "        \n",
    "        df = pd.concat([df, temp])\n",
    "        \n",
    "# parsing columns into strings so we don't lose information while grouping\n",
    "df[determiner_columns[0]] = df[determiner_columns[0]].astype(str)\n",
    "df['determined_year'] = df['determined_year'].astype(str)"
   ]
  },
  {
   "cell_type": "code",
   "execution_count": 86,
   "metadata": {
    "ExecuteTime": {
     "end_time": "2021-02-15T01:43:00.548083Z",
     "start_time": "2021-02-15T01:43:00.425566Z"
    }
   },
   "outputs": [],
   "source": [
    "# grouping\n",
    "grouped = df.groupby(['determiner_full_name', 'determined_year']).count().reset_index().rename(columns=\n",
    "                                                        {'kingdom':'count'})\n",
    "\n",
    "# sorting\n",
    "grouped.sort_values('determined_year', inplace=True)\n",
    "\n",
    "# cumulatively counting for each determiner\n",
    "counts = pd.DataFrame()\n",
    "for det in determiners:\n",
    "    temp = grouped[grouped['determiner_full_name'] == det].copy()\n",
    "    temp['cumulative_sum'] = temp['count'].cumsum()\n",
    "    \n",
    "    counts = pd.concat([counts, temp])\n",
    "    \n",
    "# grouped['cumulative_sum'] = cumCounts"
   ]
  },
  {
   "cell_type": "code",
   "execution_count": 93,
   "metadata": {
    "ExecuteTime": {
     "end_time": "2021-02-15T01:45:42.558102Z",
     "start_time": "2021-02-15T01:45:42.554449Z"
    }
   },
   "outputs": [],
   "source": [
    "# temporary adjustment for axis labels only\n",
    "counts['determined_year'] = counts['determined_year'].apply(lambda x:str(x).split('.')[0])"
   ]
  },
  {
   "cell_type": "markdown",
   "metadata": {},
   "source": [
    "## Chart: cumulative counts per determiner"
   ]
  },
  {
   "cell_type": "code",
   "execution_count": 99,
   "metadata": {
    "ExecuteTime": {
     "end_time": "2021-02-15T01:48:30.404606Z",
     "start_time": "2021-02-15T01:48:30.374080Z"
    },
    "scrolled": false
   },
   "outputs": [],
   "source": [
    "select = alt.selection(type='single', on='mouseover', nearest=True, fields=['determiner_full_name'])\n",
    "\n",
    "base = alt.Chart(counts, title='Cumulative contribution of each determiner', width=800,\n",
    "              height=400).mark_line(point=True).encode(\n",
    "    x= alt.X('determined_year', type=\"ordinal\", title='Determination Year'),\n",
    "    y= alt.Y('cumulative_sum', title='', \n",
    "             sort=alt.EncodingSortField('counts', op=\"count\", order='descending')),\n",
    "    color= alt.Color('determiner_full_name:N', title='', legend=None,\n",
    "                     scale= alt.Scale(scheme='warmgreys')),\n",
    ")\n",
    "\n",
    "points = base.mark_circle(size=40).encode(\n",
    "    opacity=alt.value(0.5),\n",
    "    tooltip= alt.Tooltip(['determiner_full_name','determined_year','count','cumulative_sum'])\n",
    ").add_selection(\n",
    "    select\n",
    ")\n",
    "\n",
    "lines = base.mark_line(point=True).encode(\n",
    "    size=alt.condition(~select, alt.value(1), alt.value(4)),\n",
    "    opacity= alt.value(1),\n",
    "#     color = alt.condition(~select, alt.value('lightgray'), alt.value('black'))\n",
    "#     tooltip= alt.Tooltip(['determinator_full_name','det_year','cumulative_sum'])\n",
    ")\n",
    "\n",
    "g1 = points + lines \n",
    "\n",
    "g1 = g1.configure_title(fontSize=16).configure_axis(\n",
    "    labelFontSize=12,\n",
    "    titleFontSize=12\n",
    ").configure_legend(\n",
    "    labelFontSize=12,\n",
    "    titleFontSize=12\n",
    ")\n",
    "\n",
    "# g1.save('./graphs/cumCounts/determiner/cumCount-per-year.html')\n",
    "\n",
    "# g1"
   ]
  },
  {
   "cell_type": "markdown",
   "metadata": {},
   "source": [
    "<br>\n",
    "\n",
    "### Collector's cumulative contribution per year\n",
    "\n",
    "To calculate the cumulative counts, we need to consider ALL collector's columns, in this case:\n",
    "\n",
    "    - 'collector_full_name'\n",
    "    - 'collector_full_name2' ... 'collector_full_name6'"
   ]
  },
  {
   "cell_type": "code",
   "execution_count": 101,
   "metadata": {
    "ExecuteTime": {
     "end_time": "2021-02-15T01:49:39.665792Z",
     "start_time": "2021-02-15T01:49:39.654394Z"
    }
   },
   "outputs": [],
   "source": [
    "collector_columns = ['collector_full_name', 'collector_full_name2', \n",
    "                     'collector_full_name3', 'collector_full_name4']\n",
    "\n",
    "# name of all collectors (first through sixth)\n",
    "collectors = set(NewTable['collector_full_name'].str.strip())\n",
    "\n",
    "for col in collector_columns[1:]:\n",
    "    collectors = collectors.union(set(NewTable[col]))\n",
    "\n",
    "collectors = [name for name in collectors if 'nan' not in str(name)]  # removing NaN and parsing into a list"
   ]
  },
  {
   "cell_type": "code",
   "execution_count": 104,
   "metadata": {
    "ExecuteTime": {
     "end_time": "2021-02-15T01:51:01.951865Z",
     "start_time": "2021-02-15T01:51:01.930974Z"
    }
   },
   "outputs": [],
   "source": [
    "# subsetting (p.s.: kingdom is a non-empty column used only for counting)\n",
    "df = NewTable[[collector_columns[0], 'start_year', 'kingdom']].copy()\n",
    "\n",
    "# concatenating all columns into just one to make grouping per determiner and year easier\n",
    "if len(collector_columns) > 1:\n",
    "    for col in collector_columns[1:]:\n",
    "        temp = NewTable[[col, 'start_year', 'kingdom']].copy()\n",
    "        temp.columns = [collector_columns[0], 'start_year', 'kingdom']\n",
    "        \n",
    "        df = pd.concat([df, temp])\n",
    "        \n",
    "# parsing columns into strings so we don't lose information while grouping\n",
    "df[collector_columns[0]] = df[collector_columns[0]].astype(str)\n",
    "df['start_year'] = df['start_year'].astype(str)"
   ]
  },
  {
   "cell_type": "code",
   "execution_count": 114,
   "metadata": {
    "ExecuteTime": {
     "end_time": "2021-02-15T01:54:39.409587Z",
     "start_time": "2021-02-15T01:54:39.014912Z"
    }
   },
   "outputs": [],
   "source": [
    "# grouping\n",
    "grouped = df.groupby([collector_columns[0], 'start_year']).count().reset_index().rename(columns=\n",
    "                                                        {'kingdom':'count'})\n",
    "\n",
    "# sorting\n",
    "grouped.sort_values('start_year', inplace=True)\n",
    "\n",
    "# cumulatively counting for each determiner\n",
    "counts = pd.DataFrame()\n",
    "for col in collectors:\n",
    "    temp = grouped[grouped[collector_columns[0]] == col].copy()\n",
    "    temp['cumulative_sum'] = temp['count'].cumsum()\n",
    "    \n",
    "    counts = pd.concat([counts, temp])\n",
    "    \n",
    "# grouped['cumulative_sum'] = cumCounts"
   ]
  },
  {
   "cell_type": "code",
   "execution_count": 115,
   "metadata": {
    "ExecuteTime": {
     "end_time": "2021-02-15T01:54:40.766022Z",
     "start_time": "2021-02-15T01:54:40.762347Z"
    }
   },
   "outputs": [],
   "source": [
    "# temporary adjustment for axis labels only\n",
    "counts['start_year'] = counts['start_year'].apply(lambda x:str(x).split('.')[0])"
   ]
  },
  {
   "cell_type": "markdown",
   "metadata": {},
   "source": [
    "### Chart: cumulative counts per collector"
   ]
  },
  {
   "cell_type": "code",
   "execution_count": 123,
   "metadata": {
    "ExecuteTime": {
     "end_time": "2021-02-15T01:58:27.196471Z",
     "start_time": "2021-02-15T01:58:27.166457Z"
    }
   },
   "outputs": [],
   "source": [
    "select = alt.selection(type='single', on='mouseover', nearest=True, fields=['collector_full_name'])\n",
    "\n",
    "\n",
    "base = alt.Chart(counts, title='Cumulative contribution of each Collector', width=800,\n",
    "              height=400).encode(\n",
    "    x= alt.X('start_year', type=\"ordinal\", title='Sampling Year'),\n",
    "    y= alt.Y('cumulative_sum', title='', \n",
    "             sort=alt.EncodingSortField('counts', op=\"count\", order='descending')),\n",
    "    color= alt.Color('collector_full_name:N', title='', legend=None, \n",
    "                     scale= alt.Scale(scheme= 'warmgreys')),\n",
    ")\n",
    "\n",
    "points = base.mark_circle(size=40).encode(\n",
    "    opacity=alt.value(0.5),\n",
    "    tooltip= alt.Tooltip(['collector_full_name','start_year','count','cumulative_sum'])\n",
    ").add_selection(\n",
    "    select\n",
    ")\n",
    "\n",
    "front = base.mark_line(point=True).encode(\n",
    "    size=alt.condition(~select, alt.value(1), alt.value(4)),\n",
    "    opacity= alt.value(1),\n",
    ")\n",
    "\n",
    "g1 = points + front\n",
    "\n",
    "g1 = g1.configure_title(fontSize=16).configure_axis(\n",
    "    labelFontSize=12,\n",
    "    titleFontSize=12\n",
    ").configure_legend(\n",
    "    labelFontSize=12,\n",
    "    titleFontSize=12\n",
    ")\n",
    "\n",
    "# g1.save('./graphs/cumCounts/collector/cumCount-per-year.html')\n",
    "\n",
    "# g1"
   ]
  },
  {
   "cell_type": "markdown",
   "metadata": {},
   "source": [
    "<br>\n",
    "\n",
    "## Cumulative counts per Family\n"
   ]
  },
  {
   "cell_type": "code",
   "execution_count": 124,
   "metadata": {
    "ExecuteTime": {
     "end_time": "2021-02-15T01:59:00.454147Z",
     "start_time": "2021-02-15T01:59:00.428260Z"
    }
   },
   "outputs": [],
   "source": [
    "# grouping per Year and Family\n",
    "teste = NewTable.groupby(['start_year','family']).count()['class'].reset_index().rename(columns={\n",
    "    'class':'counts'\n",
    "})\n",
    "\n",
    "# sorting...\n",
    "teste = teste.sort_values(['family', 'start_year'])"
   ]
  },
  {
   "cell_type": "code",
   "execution_count": 125,
   "metadata": {
    "ExecuteTime": {
     "end_time": "2021-02-15T01:59:00.823005Z",
     "start_time": "2021-02-15T01:59:00.770670Z"
    }
   },
   "outputs": [],
   "source": [
    "# cumulatively counting\n",
    "cumSum = []\n",
    "for family in teste['family'].unique():\n",
    "    cumSum.extend(list(teste[teste['family'] == family]['counts'].cumsum()))\n",
    "    \n",
    "teste['cumulative_sum'] = cumSum"
   ]
  },
  {
   "cell_type": "code",
   "execution_count": 126,
   "metadata": {
    "ExecuteTime": {
     "end_time": "2021-02-15T01:59:01.368954Z",
     "start_time": "2021-02-15T01:59:01.361523Z"
    }
   },
   "outputs": [],
   "source": [
    "teste['start_year'] = teste['start_year'].apply(lambda x: str(x).split('.')[0])"
   ]
  },
  {
   "cell_type": "markdown",
   "metadata": {},
   "source": [
    "### Chart: per collected year"
   ]
  },
  {
   "cell_type": "code",
   "execution_count": 129,
   "metadata": {
    "ExecuteTime": {
     "end_time": "2021-02-15T01:59:35.048094Z",
     "start_time": "2021-02-15T01:59:35.000517Z"
    }
   },
   "outputs": [
    {
     "data": {
      "text/html": [
       "\n",
       "<div id=\"altair-viz-dc41a08a853c4ef1bf69e3342aa42d7b\"></div>\n",
       "<script type=\"text/javascript\">\n",
       "  (function(spec, embedOpt){\n",
       "    let outputDiv = document.currentScript.previousElementSibling;\n",
       "    if (outputDiv.id !== \"altair-viz-dc41a08a853c4ef1bf69e3342aa42d7b\") {\n",
       "      outputDiv = document.getElementById(\"altair-viz-dc41a08a853c4ef1bf69e3342aa42d7b\");\n",
       "    }\n",
       "    const paths = {\n",
       "      \"vega\": \"https://cdn.jsdelivr.net/npm//vega@5?noext\",\n",
       "      \"vega-lib\": \"https://cdn.jsdelivr.net/npm//vega-lib?noext\",\n",
       "      \"vega-lite\": \"https://cdn.jsdelivr.net/npm//vega-lite@4.8.1?noext\",\n",
       "      \"vega-embed\": \"https://cdn.jsdelivr.net/npm//vega-embed@6?noext\",\n",
       "    };\n",
       "\n",
       "    function loadScript(lib) {\n",
       "      return new Promise(function(resolve, reject) {\n",
       "        var s = document.createElement('script');\n",
       "        s.src = paths[lib];\n",
       "        s.async = true;\n",
       "        s.onload = () => resolve(paths[lib]);\n",
       "        s.onerror = () => reject(`Error loading script: ${paths[lib]}`);\n",
       "        document.getElementsByTagName(\"head\")[0].appendChild(s);\n",
       "      });\n",
       "    }\n",
       "\n",
       "    function showError(err) {\n",
       "      outputDiv.innerHTML = `<div class=\"error\" style=\"color:red;\">${err}</div>`;\n",
       "      throw err;\n",
       "    }\n",
       "\n",
       "    function displayChart(vegaEmbed) {\n",
       "      vegaEmbed(outputDiv, spec, embedOpt)\n",
       "        .catch(err => showError(`Javascript Error: ${err.message}<br>This usually means there's a typo in your chart specification. See the javascript console for the full traceback.`));\n",
       "    }\n",
       "\n",
       "    if(typeof define === \"function\" && define.amd) {\n",
       "      requirejs.config({paths});\n",
       "      require([\"vega-embed\"], displayChart, err => showError(`Error loading script: ${err.message}`));\n",
       "    } else if (typeof vegaEmbed === \"function\") {\n",
       "      displayChart(vegaEmbed);\n",
       "    } else {\n",
       "      loadScript(\"vega\")\n",
       "        .then(() => loadScript(\"vega-lite\"))\n",
       "        .then(() => loadScript(\"vega-embed\"))\n",
       "        .catch(showError)\n",
       "        .then(() => displayChart(vegaEmbed));\n",
       "    }\n",
       "  })({\"config\": {\"view\": {\"continuousWidth\": 400, \"continuousHeight\": 300}, \"axis\": {\"labelFontSize\": 12, \"titleFontSize\": 12}, \"legend\": {\"labelFontSize\": 12, \"titleFontSize\": 12}, \"title\": {\"fontSize\": 16}}, \"data\": {\"name\": \"data-e13435c04ac71735549d8b56057720aa\"}, \"mark\": {\"type\": \"line\", \"point\": true}, \"encoding\": {\"color\": {\"type\": \"nominal\", \"field\": \"family\", \"legend\": {\"columns\": 2, \"symbolLimit\": 50}, \"scale\": {\"domain\": [\"Magelonidae\", \"Oweniidae\", \"Chaetopteridae\", \"Amphinomidae\", \"Lumbrineridae\", \"Dorvilleidae\", \"Oenonidae\", \"Eunicidae\", \"Onuphidae\", \"Syllidae\", \"Typhloscolecidae\", \"Aphroditidae\", \"Acoetidae\", \"Chrysopetalidae\", \"Eulepethidae\", \"Lopadorrhynchidae\", \"Polynoidae\", \"Nereididae\", \"Nephtyidae\", \"Glyceridae\", \"Tomopteridae\", \"Serpulidae\", \"Sabellidae\", \"Sabellariidae\", \"Spionidae\", \"Ampharetidae\", \"Pectinariidae\", \"Trichobranchidae\", \"Terebellidae\", \"Cirratulidae\", \"Flabelligeridae\", \"Sternaspidae\", \"Orbiniidae\", \"Opheliidae\", \"Capitellidae\", \"Arenicolidae\", \"Cossuridae\", \"Scalibregmatidae\", \"Paraonidae\", \"Maldanidae\", \"NaN\"], \"range\": [\"#238762\", \"#3CA67F\", \"#77c8a5\", \"#bbebd3\", \"#e7e5df\", \"#b2c0d0\", \"#7A9FBF\", \"#3c81ae\", \"#00669a\", \"#ffbd84\", \"#ffaa74\", \"#ff9760\", \"#ff814b\", \"#fc6b36\", \"#eb5824\", \"#d94814\", \"#c83b03\", \"#b73000\", \"#f18e56\", \"#D96236\", \"#bf381b\", \"#fbd0ad\", \"#f2b999\", \"#e8a287\", \"#d27666\", \"#b48061\", \"#a66c4b\", \"#975b39\", \"#874c2c\", \"#774124\", \"#683720\", \"#eebd93\", \"#dfa47a\", \"#d28d60\", \"#c37746\", \"#b4622f\", \"#a3501d\", \"#92420e\", \"#823606\", \"#732c02\", \"#0D0D0D\"]}, \"title\": \"Family\"}, \"tooltip\": [{\"type\": \"nominal\", \"field\": \"family\"}, {\"type\": \"nominal\", \"field\": \"start_year\"}, {\"type\": \"quantitative\", \"field\": \"counts\"}, {\"type\": \"quantitative\", \"field\": \"cumulative_sum\"}], \"x\": {\"type\": \"ordinal\", \"field\": \"start_year\", \"scale\": {\"domain\": [\"1900\", \"1905\", \"1961\", \"1962\", \"1966\", \"1967\", \"1971\", \"1974\", \"1976\", \"1977\", \"1979\", \"1980\", \"1982\", \"1983\", \"1984\", \"1986\", \"1989\", \"1990\", \"1991\", \"1992\", \"1993\", \"1994\", \"1995\", \"1996\", \"1997\", \"1998\", \"1999\", \"2000\", \"2001\", \"2002\", \"2003\", \"2004\", \"2005\", \"2006\", \"2007\", \"2008\", \"2009\", \"2010\", \"2011\", \"2012\", \"2013\", \"2014\", \"2015\", \"2016\", \"2017\", \"2018\", \"2019\", \"nan\"]}, \"title\": \"Ano de Coleta\"}, \"y\": {\"type\": \"quantitative\", \"field\": \"cumulative_sum\", \"scale\": {\"domain\": [0, 1206.0]}, \"sort\": {\"field\": \"counts\", \"op\": \"count\", \"order\": \"descending\"}, \"title\": \"\"}}, \"height\": 400, \"selection\": {\"selector013\": {\"type\": \"multi\", \"fields\": [\"family\"], \"bind\": \"legend\"}}, \"title\": \"Quantidade de exemplares por fam\\u00edlia\", \"transform\": [{\"filter\": {\"selection\": \"selector013\"}}], \"width\": 600, \"$schema\": \"https://vega.github.io/schema/vega-lite/v4.8.1.json\", \"datasets\": {\"data-e13435c04ac71735549d8b56057720aa\": [{\"start_year\": \"2001\", \"family\": \"Acoetidae\", \"counts\": 3, \"cumulative_sum\": 3}, {\"start_year\": \"2002\", \"family\": \"Acoetidae\", \"counts\": 2, \"cumulative_sum\": 5}, {\"start_year\": \"2012\", \"family\": \"Acoetidae\", \"counts\": 2, \"cumulative_sum\": 7}, {\"start_year\": \"nan\", \"family\": \"Acoetidae\", \"counts\": 1, \"cumulative_sum\": 8}, {\"start_year\": \"1998\", \"family\": \"Alciopidae\", \"counts\": 139, \"cumulative_sum\": 139}, {\"start_year\": \"2000\", \"family\": \"Alciopidae\", \"counts\": 170, \"cumulative_sum\": 309}, {\"start_year\": \"1993\", \"family\": \"Ampharetidae\", \"counts\": 1, \"cumulative_sum\": 1}, {\"start_year\": \"1994\", \"family\": \"Ampharetidae\", \"counts\": 1, \"cumulative_sum\": 2}, {\"start_year\": \"1996\", \"family\": \"Ampharetidae\", \"counts\": 2, \"cumulative_sum\": 4}, {\"start_year\": \"1998\", \"family\": \"Ampharetidae\", \"counts\": 1, \"cumulative_sum\": 5}, {\"start_year\": \"2000\", \"family\": \"Ampharetidae\", \"counts\": 8, \"cumulative_sum\": 13}, {\"start_year\": \"2001\", \"family\": \"Ampharetidae\", \"counts\": 2, \"cumulative_sum\": 15}, {\"start_year\": \"2002\", \"family\": \"Ampharetidae\", \"counts\": 4, \"cumulative_sum\": 19}, {\"start_year\": \"2003\", \"family\": \"Ampharetidae\", \"counts\": 8, \"cumulative_sum\": 27}, {\"start_year\": \"2008\", \"family\": \"Ampharetidae\", \"counts\": 1, \"cumulative_sum\": 28}, {\"start_year\": \"2013\", \"family\": \"Ampharetidae\", \"counts\": 1, \"cumulative_sum\": 29}, {\"start_year\": \"1900\", \"family\": \"Amphinomidae\", \"counts\": 1, \"cumulative_sum\": 1}, {\"start_year\": \"1905\", \"family\": \"Amphinomidae\", \"counts\": 1, \"cumulative_sum\": 2}, {\"start_year\": \"1961\", \"family\": \"Amphinomidae\", \"counts\": 1, \"cumulative_sum\": 3}, {\"start_year\": \"1967\", \"family\": \"Amphinomidae\", \"counts\": 1, \"cumulative_sum\": 4}, {\"start_year\": \"1977\", \"family\": \"Amphinomidae\", \"counts\": 1, \"cumulative_sum\": 5}, {\"start_year\": \"1999\", \"family\": \"Amphinomidae\", \"counts\": 4, \"cumulative_sum\": 9}, {\"start_year\": \"2000\", \"family\": \"Amphinomidae\", \"counts\": 20, \"cumulative_sum\": 29}, {\"start_year\": \"2001\", \"family\": \"Amphinomidae\", \"counts\": 35, \"cumulative_sum\": 64}, {\"start_year\": \"2002\", \"family\": \"Amphinomidae\", \"counts\": 4, \"cumulative_sum\": 68}, {\"start_year\": \"2003\", \"family\": \"Amphinomidae\", \"counts\": 7, \"cumulative_sum\": 75}, {\"start_year\": \"2005\", \"family\": \"Amphinomidae\", \"counts\": 4, \"cumulative_sum\": 79}, {\"start_year\": \"2007\", \"family\": \"Amphinomidae\", \"counts\": 1, \"cumulative_sum\": 80}, {\"start_year\": \"2008\", \"family\": \"Amphinomidae\", \"counts\": 90, \"cumulative_sum\": 170}, {\"start_year\": \"2009\", \"family\": \"Amphinomidae\", \"counts\": 2, \"cumulative_sum\": 172}, {\"start_year\": \"2010\", \"family\": \"Amphinomidae\", \"counts\": 5, \"cumulative_sum\": 177}, {\"start_year\": \"2011\", \"family\": \"Amphinomidae\", \"counts\": 43, \"cumulative_sum\": 220}, {\"start_year\": \"2012\", \"family\": \"Amphinomidae\", \"counts\": 78, \"cumulative_sum\": 298}, {\"start_year\": \"2013\", \"family\": \"Amphinomidae\", \"counts\": 87, \"cumulative_sum\": 385}, {\"start_year\": \"2014\", \"family\": \"Amphinomidae\", \"counts\": 6, \"cumulative_sum\": 391}, {\"start_year\": \"2016\", \"family\": \"Amphinomidae\", \"counts\": 1, \"cumulative_sum\": 392}, {\"start_year\": \"2017\", \"family\": \"Amphinomidae\", \"counts\": 2, \"cumulative_sum\": 394}, {\"start_year\": \"nan\", \"family\": \"Amphinomidae\", \"counts\": 51, \"cumulative_sum\": 445}, {\"start_year\": \"1905\", \"family\": \"Aphroditidae\", \"counts\": 1, \"cumulative_sum\": 1}, {\"start_year\": \"1974\", \"family\": \"Aphroditidae\", \"counts\": 1, \"cumulative_sum\": 2}, {\"start_year\": \"2000\", \"family\": \"Aphroditidae\", \"counts\": 1, \"cumulative_sum\": 3}, {\"start_year\": \"2001\", \"family\": \"Aphroditidae\", \"counts\": 15, \"cumulative_sum\": 18}, {\"start_year\": \"2002\", \"family\": \"Aphroditidae\", \"counts\": 2, \"cumulative_sum\": 20}, {\"start_year\": \"2005\", \"family\": \"Aphroditidae\", \"counts\": 1, \"cumulative_sum\": 21}, {\"start_year\": \"2013\", \"family\": \"Aphroditidae\", \"counts\": 1, \"cumulative_sum\": 22}, {\"start_year\": \"2017\", \"family\": \"Aphroditidae\", \"counts\": 1, \"cumulative_sum\": 23}, {\"start_year\": \"2018\", \"family\": \"Aphroditidae\", \"counts\": 7, \"cumulative_sum\": 30}, {\"start_year\": \"nan\", \"family\": \"Aphroditidae\", \"counts\": 3, \"cumulative_sum\": 33}, {\"start_year\": \"2003\", \"family\": \"Apistobranchidae\", \"counts\": 2, \"cumulative_sum\": 2}, {\"start_year\": \"2008\", \"family\": \"Apistobranchidae\", \"counts\": 18, \"cumulative_sum\": 20}, {\"start_year\": \"2009\", \"family\": \"Apistobranchidae\", \"counts\": 30, \"cumulative_sum\": 50}, {\"start_year\": \"2010\", \"family\": \"Apistobranchidae\", \"counts\": 12, \"cumulative_sum\": 62}, {\"start_year\": \"2011\", \"family\": \"Apistobranchidae\", \"counts\": 43, \"cumulative_sum\": 105}, {\"start_year\": \"2012\", \"family\": \"Apistobranchidae\", \"counts\": 1, \"cumulative_sum\": 106}, {\"start_year\": \"2013\", \"family\": \"Apistobranchidae\", \"counts\": 44, \"cumulative_sum\": 150}, {\"start_year\": \"2017\", \"family\": \"Arenicolidae\", \"counts\": 1, \"cumulative_sum\": 1}, {\"start_year\": \"2012\", \"family\": \"Aspidosiphonidae\", \"counts\": 1, \"cumulative_sum\": 1}, {\"start_year\": \"1995\", \"family\": \"Capitellidae\", \"counts\": 6, \"cumulative_sum\": 6}, {\"start_year\": \"1997\", \"family\": \"Capitellidae\", \"counts\": 1, \"cumulative_sum\": 7}, {\"start_year\": \"1998\", \"family\": \"Capitellidae\", \"counts\": 13, \"cumulative_sum\": 20}, {\"start_year\": \"1999\", \"family\": \"Capitellidae\", \"counts\": 15, \"cumulative_sum\": 35}, {\"start_year\": \"2000\", \"family\": \"Capitellidae\", \"counts\": 14, \"cumulative_sum\": 49}, {\"start_year\": \"2001\", \"family\": \"Capitellidae\", \"counts\": 2, \"cumulative_sum\": 51}, {\"start_year\": \"2002\", \"family\": \"Capitellidae\", \"counts\": 7, \"cumulative_sum\": 58}, {\"start_year\": \"2003\", \"family\": \"Capitellidae\", \"counts\": 3, \"cumulative_sum\": 61}, {\"start_year\": \"2004\", \"family\": \"Capitellidae\", \"counts\": 3, \"cumulative_sum\": 64}, {\"start_year\": \"2006\", \"family\": \"Capitellidae\", \"counts\": 1, \"cumulative_sum\": 65}, {\"start_year\": \"2007\", \"family\": \"Capitellidae\", \"counts\": 2, \"cumulative_sum\": 67}, {\"start_year\": \"2008\", \"family\": \"Capitellidae\", \"counts\": 2, \"cumulative_sum\": 69}, {\"start_year\": \"2012\", \"family\": \"Capitellidae\", \"counts\": 3, \"cumulative_sum\": 72}, {\"start_year\": \"2013\", \"family\": \"Capitellidae\", \"counts\": 31, \"cumulative_sum\": 103}, {\"start_year\": \"2014\", \"family\": \"Capitellidae\", \"counts\": 20, \"cumulative_sum\": 123}, {\"start_year\": \"2015\", \"family\": \"Capitellidae\", \"counts\": 4, \"cumulative_sum\": 127}, {\"start_year\": \"2018\", \"family\": \"Capitellidae\", \"counts\": 2, \"cumulative_sum\": 129}, {\"start_year\": \"nan\", \"family\": \"Capitellidae\", \"counts\": 15, \"cumulative_sum\": 144}, {\"start_year\": \"1999\", \"family\": \"Chaetopteridae\", \"counts\": 2, \"cumulative_sum\": 2}, {\"start_year\": \"2001\", \"family\": \"Chaetopteridae\", \"counts\": 1, \"cumulative_sum\": 3}, {\"start_year\": \"2002\", \"family\": \"Chaetopteridae\", \"counts\": 2, \"cumulative_sum\": 5}, {\"start_year\": \"2005\", \"family\": \"Chaetopteridae\", \"counts\": 1, \"cumulative_sum\": 6}, {\"start_year\": \"2011\", \"family\": \"Chaetopteridae\", \"counts\": 2, \"cumulative_sum\": 8}, {\"start_year\": \"2012\", \"family\": \"Chaetopteridae\", \"counts\": 1, \"cumulative_sum\": 9}, {\"start_year\": \"2018\", \"family\": \"Chaetopteridae\", \"counts\": 1, \"cumulative_sum\": 10}, {\"start_year\": \"nan\", \"family\": \"Chaetopteridae\", \"counts\": 6, \"cumulative_sum\": 16}, {\"start_year\": \"2000\", \"family\": \"Chrysopetalidae\", \"counts\": 1, \"cumulative_sum\": 1}, {\"start_year\": \"2005\", \"family\": \"Chrysopetalidae\", \"counts\": 2, \"cumulative_sum\": 3}, {\"start_year\": \"2012\", \"family\": \"Chrysopetalidae\", \"counts\": 29, \"cumulative_sum\": 32}, {\"start_year\": \"2013\", \"family\": \"Chrysopetalidae\", \"counts\": 1, \"cumulative_sum\": 33}, {\"start_year\": \"2014\", \"family\": \"Chrysopetalidae\", \"counts\": 2, \"cumulative_sum\": 35}, {\"start_year\": \"2017\", \"family\": \"Chrysopetalidae\", \"counts\": 3, \"cumulative_sum\": 38}, {\"start_year\": \"1996\", \"family\": \"Cirratulidae\", \"counts\": 1, \"cumulative_sum\": 1}, {\"start_year\": \"1997\", \"family\": \"Cirratulidae\", \"counts\": 1, \"cumulative_sum\": 2}, {\"start_year\": \"1999\", \"family\": \"Cirratulidae\", \"counts\": 11, \"cumulative_sum\": 13}, {\"start_year\": \"2000\", \"family\": \"Cirratulidae\", \"counts\": 14, \"cumulative_sum\": 27}, {\"start_year\": \"2001\", \"family\": \"Cirratulidae\", \"counts\": 2, \"cumulative_sum\": 29}, {\"start_year\": \"2002\", \"family\": \"Cirratulidae\", \"counts\": 3, \"cumulative_sum\": 32}, {\"start_year\": \"2003\", \"family\": \"Cirratulidae\", \"counts\": 6, \"cumulative_sum\": 38}, {\"start_year\": \"2004\", \"family\": \"Cirratulidae\", \"counts\": 2, \"cumulative_sum\": 40}, {\"start_year\": \"2005\", \"family\": \"Cirratulidae\", \"counts\": 1, \"cumulative_sum\": 41}, {\"start_year\": \"2009\", \"family\": \"Cirratulidae\", \"counts\": 2, \"cumulative_sum\": 43}, {\"start_year\": \"2011\", \"family\": \"Cirratulidae\", \"counts\": 11, \"cumulative_sum\": 54}, {\"start_year\": \"2012\", \"family\": \"Cirratulidae\", \"counts\": 21, \"cumulative_sum\": 75}, {\"start_year\": \"2013\", \"family\": \"Cirratulidae\", \"counts\": 14, \"cumulative_sum\": 89}, {\"start_year\": \"2014\", \"family\": \"Cirratulidae\", \"counts\": 8, \"cumulative_sum\": 97}, {\"start_year\": \"2015\", \"family\": \"Cirratulidae\", \"counts\": 1, \"cumulative_sum\": 98}, {\"start_year\": \"nan\", \"family\": \"Cirratulidae\", \"counts\": 15, \"cumulative_sum\": 113}, {\"start_year\": \"2000\", \"family\": \"Cossuridae\", \"counts\": 1, \"cumulative_sum\": 1}, {\"start_year\": \"2001\", \"family\": \"Cossuridae\", \"counts\": 1, \"cumulative_sum\": 2}, {\"start_year\": \"nan\", \"family\": \"Cossuridae\", \"counts\": 1, \"cumulative_sum\": 3}, {\"start_year\": \"1998\", \"family\": \"Dorvilleidae\", \"counts\": 1, \"cumulative_sum\": 1}, {\"start_year\": \"2000\", \"family\": \"Dorvilleidae\", \"counts\": 5, \"cumulative_sum\": 6}, {\"start_year\": \"2002\", \"family\": \"Dorvilleidae\", \"counts\": 2, \"cumulative_sum\": 8}, {\"start_year\": \"2003\", \"family\": \"Dorvilleidae\", \"counts\": 2, \"cumulative_sum\": 10}, {\"start_year\": \"2005\", \"family\": \"Dorvilleidae\", \"counts\": 2, \"cumulative_sum\": 12}, {\"start_year\": \"2010\", \"family\": \"Dorvilleidae\", \"counts\": 4, \"cumulative_sum\": 16}, {\"start_year\": \"2011\", \"family\": \"Dorvilleidae\", \"counts\": 1, \"cumulative_sum\": 17}, {\"start_year\": \"2012\", \"family\": \"Dorvilleidae\", \"counts\": 5, \"cumulative_sum\": 22}, {\"start_year\": \"2013\", \"family\": \"Dorvilleidae\", \"counts\": 3, \"cumulative_sum\": 25}, {\"start_year\": \"2014\", \"family\": \"Dorvilleidae\", \"counts\": 2, \"cumulative_sum\": 27}, {\"start_year\": \"2017\", \"family\": \"Dorvilleidae\", \"counts\": 2, \"cumulative_sum\": 29}, {\"start_year\": \"nan\", \"family\": \"Dorvilleidae\", \"counts\": 9, \"cumulative_sum\": 38}, {\"start_year\": \"1999\", \"family\": \"Eulepethidae\", \"counts\": 1, \"cumulative_sum\": 1}, {\"start_year\": \"2000\", \"family\": \"Eulepethidae\", \"counts\": 2, \"cumulative_sum\": 3}, {\"start_year\": \"2002\", \"family\": \"Eulepethidae\", \"counts\": 1, \"cumulative_sum\": 4}, {\"start_year\": \"1905\", \"family\": \"Eunicidae\", \"counts\": 1, \"cumulative_sum\": 1}, {\"start_year\": \"1962\", \"family\": \"Eunicidae\", \"counts\": 1, \"cumulative_sum\": 2}, {\"start_year\": \"1967\", \"family\": \"Eunicidae\", \"counts\": 3, \"cumulative_sum\": 5}, {\"start_year\": \"1979\", \"family\": \"Eunicidae\", \"counts\": 1, \"cumulative_sum\": 6}, {\"start_year\": \"1980\", \"family\": \"Eunicidae\", \"counts\": 4, \"cumulative_sum\": 10}, {\"start_year\": \"1982\", \"family\": \"Eunicidae\", \"counts\": 2, \"cumulative_sum\": 12}, {\"start_year\": \"1983\", \"family\": \"Eunicidae\", \"counts\": 3, \"cumulative_sum\": 15}, {\"start_year\": \"1984\", \"family\": \"Eunicidae\", \"counts\": 5, \"cumulative_sum\": 20}, {\"start_year\": \"1986\", \"family\": \"Eunicidae\", \"counts\": 2, \"cumulative_sum\": 22}, {\"start_year\": \"1989\", \"family\": \"Eunicidae\", \"counts\": 3, \"cumulative_sum\": 25}, {\"start_year\": \"1990\", \"family\": \"Eunicidae\", \"counts\": 1, \"cumulative_sum\": 26}, {\"start_year\": \"1992\", \"family\": \"Eunicidae\", \"counts\": 15, \"cumulative_sum\": 41}, {\"start_year\": \"1993\", \"family\": \"Eunicidae\", \"counts\": 4, \"cumulative_sum\": 45}, {\"start_year\": \"1994\", \"family\": \"Eunicidae\", \"counts\": 1, \"cumulative_sum\": 46}, {\"start_year\": \"1995\", \"family\": \"Eunicidae\", \"counts\": 3, \"cumulative_sum\": 49}, {\"start_year\": \"1996\", \"family\": \"Eunicidae\", \"counts\": 42, \"cumulative_sum\": 91}, {\"start_year\": \"1997\", \"family\": \"Eunicidae\", \"counts\": 135, \"cumulative_sum\": 226}, {\"start_year\": \"1998\", \"family\": \"Eunicidae\", \"counts\": 4, \"cumulative_sum\": 230}, {\"start_year\": \"1999\", \"family\": \"Eunicidae\", \"counts\": 28, \"cumulative_sum\": 258}, {\"start_year\": \"2000\", \"family\": \"Eunicidae\", \"counts\": 257, \"cumulative_sum\": 515}, {\"start_year\": \"2001\", \"family\": \"Eunicidae\", \"counts\": 86, \"cumulative_sum\": 601}, {\"start_year\": \"2002\", \"family\": \"Eunicidae\", \"counts\": 16, \"cumulative_sum\": 617}, {\"start_year\": \"2003\", \"family\": \"Eunicidae\", \"counts\": 3, \"cumulative_sum\": 620}, {\"start_year\": \"2004\", \"family\": \"Eunicidae\", \"counts\": 48, \"cumulative_sum\": 668}, {\"start_year\": \"2005\", \"family\": \"Eunicidae\", \"counts\": 93, \"cumulative_sum\": 761}, {\"start_year\": \"2006\", \"family\": \"Eunicidae\", \"counts\": 1, \"cumulative_sum\": 762}, {\"start_year\": \"2007\", \"family\": \"Eunicidae\", \"counts\": 6, \"cumulative_sum\": 768}, {\"start_year\": \"2008\", \"family\": \"Eunicidae\", \"counts\": 1, \"cumulative_sum\": 769}, {\"start_year\": \"2009\", \"family\": \"Eunicidae\", \"counts\": 9, \"cumulative_sum\": 778}, {\"start_year\": \"2010\", \"family\": \"Eunicidae\", \"counts\": 5, \"cumulative_sum\": 783}, {\"start_year\": \"2011\", \"family\": \"Eunicidae\", \"counts\": 53, \"cumulative_sum\": 836}, {\"start_year\": \"2012\", \"family\": \"Eunicidae\", \"counts\": 56, \"cumulative_sum\": 892}, {\"start_year\": \"2013\", \"family\": \"Eunicidae\", \"counts\": 35, \"cumulative_sum\": 927}, {\"start_year\": \"2014\", \"family\": \"Eunicidae\", \"counts\": 47, \"cumulative_sum\": 974}, {\"start_year\": \"2015\", \"family\": \"Eunicidae\", \"counts\": 9, \"cumulative_sum\": 983}, {\"start_year\": \"2016\", \"family\": \"Eunicidae\", \"counts\": 19, \"cumulative_sum\": 1002}, {\"start_year\": \"2017\", \"family\": \"Eunicidae\", \"counts\": 4, \"cumulative_sum\": 1006}, {\"start_year\": \"2018\", \"family\": \"Eunicidae\", \"counts\": 1, \"cumulative_sum\": 1007}, {\"start_year\": \"nan\", \"family\": \"Eunicidae\", \"counts\": 199, \"cumulative_sum\": 1206}, {\"start_year\": \"2002\", \"family\": \"Euphrosinidae\", \"counts\": 1, \"cumulative_sum\": 1}, {\"start_year\": \"2010\", \"family\": \"Euphrosinidae\", \"counts\": 2, \"cumulative_sum\": 3}, {\"start_year\": \"2011\", \"family\": \"Euphrosinidae\", \"counts\": 3, \"cumulative_sum\": 6}, {\"start_year\": \"2012\", \"family\": \"Euphrosinidae\", \"counts\": 5, \"cumulative_sum\": 11}, {\"start_year\": \"2013\", \"family\": \"Euphrosinidae\", \"counts\": 7, \"cumulative_sum\": 18}, {\"start_year\": \"nan\", \"family\": \"Euphrosinidae\", \"counts\": 1, \"cumulative_sum\": 19}, {\"start_year\": \"2000\", \"family\": \"Flabelligeridae\", \"counts\": 12, \"cumulative_sum\": 12}, {\"start_year\": \"2001\", \"family\": \"Flabelligeridae\", \"counts\": 4, \"cumulative_sum\": 16}, {\"start_year\": \"2002\", \"family\": \"Flabelligeridae\", \"counts\": 4, \"cumulative_sum\": 20}, {\"start_year\": \"2003\", \"family\": \"Flabelligeridae\", \"counts\": 18, \"cumulative_sum\": 38}, {\"start_year\": \"2011\", \"family\": \"Flabelligeridae\", \"counts\": 4, \"cumulative_sum\": 42}, {\"start_year\": \"2012\", \"family\": \"Flabelligeridae\", \"counts\": 1, \"cumulative_sum\": 43}, {\"start_year\": \"nan\", \"family\": \"Flabelligeridae\", \"counts\": 2, \"cumulative_sum\": 45}, {\"start_year\": \"1995\", \"family\": \"Glyceridae\", \"counts\": 1, \"cumulative_sum\": 1}, {\"start_year\": \"1999\", \"family\": \"Glyceridae\", \"counts\": 1, \"cumulative_sum\": 2}, {\"start_year\": \"2000\", \"family\": \"Glyceridae\", \"counts\": 15, \"cumulative_sum\": 17}, {\"start_year\": \"2001\", \"family\": \"Glyceridae\", \"counts\": 17, \"cumulative_sum\": 34}, {\"start_year\": \"2002\", \"family\": \"Glyceridae\", \"counts\": 6, \"cumulative_sum\": 40}, {\"start_year\": \"2003\", \"family\": \"Glyceridae\", \"counts\": 21, \"cumulative_sum\": 61}, {\"start_year\": \"2006\", \"family\": \"Glyceridae\", \"counts\": 2, \"cumulative_sum\": 63}, {\"start_year\": \"2011\", \"family\": \"Glyceridae\", \"counts\": 1, \"cumulative_sum\": 64}, {\"start_year\": \"2012\", \"family\": \"Glyceridae\", \"counts\": 6, \"cumulative_sum\": 70}, {\"start_year\": \"2013\", \"family\": \"Glyceridae\", \"counts\": 1, \"cumulative_sum\": 71}, {\"start_year\": \"2014\", \"family\": \"Glyceridae\", \"counts\": 3, \"cumulative_sum\": 74}, {\"start_year\": \"2015\", \"family\": \"Glyceridae\", \"counts\": 1, \"cumulative_sum\": 75}, {\"start_year\": \"2017\", \"family\": \"Glyceridae\", \"counts\": 2, \"cumulative_sum\": 77}, {\"start_year\": \"nan\", \"family\": \"Glyceridae\", \"counts\": 51, \"cumulative_sum\": 128}, {\"start_year\": \"1992\", \"family\": \"Goniadidae\", \"counts\": 1, \"cumulative_sum\": 1}, {\"start_year\": \"1993\", \"family\": \"Goniadidae\", \"counts\": 4, \"cumulative_sum\": 5}, {\"start_year\": \"1994\", \"family\": \"Goniadidae\", \"counts\": 1, \"cumulative_sum\": 6}, {\"start_year\": \"1995\", \"family\": \"Goniadidae\", \"counts\": 1, \"cumulative_sum\": 7}, {\"start_year\": \"1996\", \"family\": \"Goniadidae\", \"counts\": 1, \"cumulative_sum\": 8}, {\"start_year\": \"1997\", \"family\": \"Goniadidae\", \"counts\": 1, \"cumulative_sum\": 9}, {\"start_year\": \"1998\", \"family\": \"Goniadidae\", \"counts\": 1, \"cumulative_sum\": 10}, {\"start_year\": \"1999\", \"family\": \"Goniadidae\", \"counts\": 8, \"cumulative_sum\": 18}, {\"start_year\": \"2000\", \"family\": \"Goniadidae\", \"counts\": 4, \"cumulative_sum\": 22}, {\"start_year\": \"2002\", \"family\": \"Goniadidae\", \"counts\": 1, \"cumulative_sum\": 23}, {\"start_year\": \"2003\", \"family\": \"Goniadidae\", \"counts\": 4, \"cumulative_sum\": 27}, {\"start_year\": \"2006\", \"family\": \"Goniadidae\", \"counts\": 1, \"cumulative_sum\": 28}, {\"start_year\": \"2008\", \"family\": \"Goniadidae\", \"counts\": 1, \"cumulative_sum\": 29}, {\"start_year\": \"nan\", \"family\": \"Goniadidae\", \"counts\": 11, \"cumulative_sum\": 40}, {\"start_year\": \"2000\", \"family\": \"Hesionidae\", \"counts\": 1, \"cumulative_sum\": 1}, {\"start_year\": \"2001\", \"family\": \"Hesionidae\", \"counts\": 2, \"cumulative_sum\": 3}, {\"start_year\": \"2002\", \"family\": \"Hesionidae\", \"counts\": 2, \"cumulative_sum\": 5}, {\"start_year\": \"2011\", \"family\": \"Hesionidae\", \"counts\": 3, \"cumulative_sum\": 8}, {\"start_year\": \"2012\", \"family\": \"Hesionidae\", \"counts\": 2, \"cumulative_sum\": 10}, {\"start_year\": \"2013\", \"family\": \"Hesionidae\", \"counts\": 3, \"cumulative_sum\": 13}, {\"start_year\": \"2014\", \"family\": \"Hesionidae\", \"counts\": 5, \"cumulative_sum\": 18}, {\"start_year\": \"2016\", \"family\": \"Hesionidae\", \"counts\": 1, \"cumulative_sum\": 19}, {\"start_year\": \"2018\", \"family\": \"Hesionidae\", \"counts\": 2, \"cumulative_sum\": 21}, {\"start_year\": \"nan\", \"family\": \"Hesionidae\", \"counts\": 9, \"cumulative_sum\": 30}, {\"start_year\": \"1998\", \"family\": \"Iospilidae\", \"counts\": 53, \"cumulative_sum\": 53}, {\"start_year\": \"2000\", \"family\": \"Iospilidae\", \"counts\": 62, \"cumulative_sum\": 115}, {\"start_year\": \"2008\", \"family\": \"Lacydoniidae\", \"counts\": 1, \"cumulative_sum\": 1}, {\"start_year\": \"2009\", \"family\": \"Lacydoniidae\", \"counts\": 2, \"cumulative_sum\": 3}, {\"start_year\": \"2018\", \"family\": \"Lacydoniidae\", \"counts\": 2, \"cumulative_sum\": 5}, {\"start_year\": \"nan\", \"family\": \"Lacydoniidae\", \"counts\": 1, \"cumulative_sum\": 6}, {\"start_year\": \"2000\", \"family\": \"Longosomatidae\", \"counts\": 1, \"cumulative_sum\": 1}, {\"start_year\": \"nan\", \"family\": \"Longosomatidae\", \"counts\": 2, \"cumulative_sum\": 3}, {\"start_year\": \"1998\", \"family\": \"Lopadorrhynchidae\", \"counts\": 49, \"cumulative_sum\": 49}, {\"start_year\": \"2000\", \"family\": \"Lopadorrhynchidae\", \"counts\": 24, \"cumulative_sum\": 73}, {\"start_year\": \"2003\", \"family\": \"Lopadorrhynchidae\", \"counts\": 1, \"cumulative_sum\": 74}, {\"start_year\": \"2008\", \"family\": \"Lopadorrhynchidae\", \"counts\": 1, \"cumulative_sum\": 75}, {\"start_year\": \"1992\", \"family\": \"Lumbrineridae\", \"counts\": 1, \"cumulative_sum\": 1}, {\"start_year\": \"1993\", \"family\": \"Lumbrineridae\", \"counts\": 3, \"cumulative_sum\": 4}, {\"start_year\": \"1994\", \"family\": \"Lumbrineridae\", \"counts\": 3, \"cumulative_sum\": 7}, {\"start_year\": \"1996\", \"family\": \"Lumbrineridae\", \"counts\": 1, \"cumulative_sum\": 8}, {\"start_year\": \"1998\", \"family\": \"Lumbrineridae\", \"counts\": 1, \"cumulative_sum\": 9}, {\"start_year\": \"1999\", \"family\": \"Lumbrineridae\", \"counts\": 4, \"cumulative_sum\": 13}, {\"start_year\": \"2000\", \"family\": \"Lumbrineridae\", \"counts\": 36, \"cumulative_sum\": 49}, {\"start_year\": \"2001\", \"family\": \"Lumbrineridae\", \"counts\": 5, \"cumulative_sum\": 54}, {\"start_year\": \"2002\", \"family\": \"Lumbrineridae\", \"counts\": 7, \"cumulative_sum\": 61}, {\"start_year\": \"2003\", \"family\": \"Lumbrineridae\", \"counts\": 19, \"cumulative_sum\": 80}, {\"start_year\": \"2005\", \"family\": \"Lumbrineridae\", \"counts\": 1, \"cumulative_sum\": 81}, {\"start_year\": \"2008\", \"family\": \"Lumbrineridae\", \"counts\": 2, \"cumulative_sum\": 83}, {\"start_year\": \"2011\", \"family\": \"Lumbrineridae\", \"counts\": 4, \"cumulative_sum\": 87}, {\"start_year\": \"2012\", \"family\": \"Lumbrineridae\", \"counts\": 4, \"cumulative_sum\": 91}, {\"start_year\": \"2013\", \"family\": \"Lumbrineridae\", \"counts\": 12, \"cumulative_sum\": 103}, {\"start_year\": \"2014\", \"family\": \"Lumbrineridae\", \"counts\": 14, \"cumulative_sum\": 117}, {\"start_year\": \"2017\", \"family\": \"Lumbrineridae\", \"counts\": 1, \"cumulative_sum\": 118}, {\"start_year\": \"nan\", \"family\": \"Lumbrineridae\", \"counts\": 17, \"cumulative_sum\": 135}, {\"start_year\": \"1997\", \"family\": \"Magelonidae\", \"counts\": 1, \"cumulative_sum\": 1}, {\"start_year\": \"1998\", \"family\": \"Magelonidae\", \"counts\": 1, \"cumulative_sum\": 2}, {\"start_year\": \"1999\", \"family\": \"Magelonidae\", \"counts\": 6, \"cumulative_sum\": 8}, {\"start_year\": \"2000\", \"family\": \"Magelonidae\", \"counts\": 8, \"cumulative_sum\": 16}, {\"start_year\": \"2002\", \"family\": \"Magelonidae\", \"counts\": 1, \"cumulative_sum\": 17}, {\"start_year\": \"2003\", \"family\": \"Magelonidae\", \"counts\": 1, \"cumulative_sum\": 18}, {\"start_year\": \"2005\", \"family\": \"Magelonidae\", \"counts\": 2, \"cumulative_sum\": 20}, {\"start_year\": \"2006\", \"family\": \"Magelonidae\", \"counts\": 1, \"cumulative_sum\": 21}, {\"start_year\": \"2007\", \"family\": \"Magelonidae\", \"counts\": 1, \"cumulative_sum\": 22}, {\"start_year\": \"2008\", \"family\": \"Magelonidae\", \"counts\": 1, \"cumulative_sum\": 23}, {\"start_year\": \"2011\", \"family\": \"Magelonidae\", \"counts\": 1, \"cumulative_sum\": 24}, {\"start_year\": \"nan\", \"family\": \"Magelonidae\", \"counts\": 10, \"cumulative_sum\": 34}, {\"start_year\": \"1992\", \"family\": \"Maldanidae\", \"counts\": 1, \"cumulative_sum\": 1}, {\"start_year\": \"1999\", \"family\": \"Maldanidae\", \"counts\": 2, \"cumulative_sum\": 3}, {\"start_year\": \"2000\", \"family\": \"Maldanidae\", \"counts\": 7, \"cumulative_sum\": 10}, {\"start_year\": \"2001\", \"family\": \"Maldanidae\", \"counts\": 2, \"cumulative_sum\": 12}, {\"start_year\": \"2002\", \"family\": \"Maldanidae\", \"counts\": 6, \"cumulative_sum\": 18}, {\"start_year\": \"2003\", \"family\": \"Maldanidae\", \"counts\": 16, \"cumulative_sum\": 34}, {\"start_year\": \"2004\", \"family\": \"Maldanidae\", \"counts\": 1, \"cumulative_sum\": 35}, {\"start_year\": \"2011\", \"family\": \"Maldanidae\", \"counts\": 1, \"cumulative_sum\": 36}, {\"start_year\": \"2018\", \"family\": \"Maldanidae\", \"counts\": 3, \"cumulative_sum\": 39}, {\"start_year\": \"nan\", \"family\": \"Maldanidae\", \"counts\": 8, \"cumulative_sum\": 47}, {\"start_year\": \"2001\", \"family\": \"Megascolecidae\", \"counts\": 1, \"cumulative_sum\": 1}, {\"start_year\": \"1992\", \"family\": \"NaN\", \"counts\": 1, \"cumulative_sum\": 1}, {\"start_year\": \"2000\", \"family\": \"NaN\", \"counts\": 1, \"cumulative_sum\": 2}, {\"start_year\": \"2001\", \"family\": \"NaN\", \"counts\": 1, \"cumulative_sum\": 3}, {\"start_year\": \"2002\", \"family\": \"NaN\", \"counts\": 9, \"cumulative_sum\": 12}, {\"start_year\": \"2003\", \"family\": \"NaN\", \"counts\": 9, \"cumulative_sum\": 21}, {\"start_year\": \"2004\", \"family\": \"NaN\", \"counts\": 1, \"cumulative_sum\": 22}, {\"start_year\": \"2005\", \"family\": \"NaN\", \"counts\": 2, \"cumulative_sum\": 24}, {\"start_year\": \"2007\", \"family\": \"NaN\", \"counts\": 1, \"cumulative_sum\": 25}, {\"start_year\": \"2008\", \"family\": \"NaN\", \"counts\": 2, \"cumulative_sum\": 27}, {\"start_year\": \"2011\", \"family\": \"NaN\", \"counts\": 9, \"cumulative_sum\": 36}, {\"start_year\": \"2013\", \"family\": \"NaN\", \"counts\": 1, \"cumulative_sum\": 37}, {\"start_year\": \"2014\", \"family\": \"NaN\", \"counts\": 6, \"cumulative_sum\": 43}, {\"start_year\": \"2015\", \"family\": \"NaN\", \"counts\": 3, \"cumulative_sum\": 46}, {\"start_year\": \"nan\", \"family\": \"NaN\", \"counts\": 206, \"cumulative_sum\": 252}, {\"start_year\": \"1992\", \"family\": \"Nephtyidae\", \"counts\": 1, \"cumulative_sum\": 1}, {\"start_year\": \"2000\", \"family\": \"Nephtyidae\", \"counts\": 8, \"cumulative_sum\": 9}, {\"start_year\": \"2001\", \"family\": \"Nephtyidae\", \"counts\": 4, \"cumulative_sum\": 13}, {\"start_year\": \"2002\", \"family\": \"Nephtyidae\", \"counts\": 2, \"cumulative_sum\": 15}, {\"start_year\": \"2003\", \"family\": \"Nephtyidae\", \"counts\": 4, \"cumulative_sum\": 19}, {\"start_year\": \"2008\", \"family\": \"Nephtyidae\", \"counts\": 1, \"cumulative_sum\": 20}, {\"start_year\": \"2014\", \"family\": \"Nephtyidae\", \"counts\": 4, \"cumulative_sum\": 24}, {\"start_year\": \"nan\", \"family\": \"Nephtyidae\", \"counts\": 2, \"cumulative_sum\": 26}, {\"start_year\": \"1995\", \"family\": \"Nereididae\", \"counts\": 5, \"cumulative_sum\": 5}, {\"start_year\": \"1997\", \"family\": \"Nereididae\", \"counts\": 1, \"cumulative_sum\": 6}, {\"start_year\": \"1998\", \"family\": \"Nereididae\", \"counts\": 2, \"cumulative_sum\": 8}, {\"start_year\": \"1999\", \"family\": \"Nereididae\", \"counts\": 11, \"cumulative_sum\": 19}, {\"start_year\": \"2000\", \"family\": \"Nereididae\", \"counts\": 25, \"cumulative_sum\": 44}, {\"start_year\": \"2001\", \"family\": \"Nereididae\", \"counts\": 27, \"cumulative_sum\": 71}, {\"start_year\": \"2002\", \"family\": \"Nereididae\", \"counts\": 17, \"cumulative_sum\": 88}, {\"start_year\": \"2003\", \"family\": \"Nereididae\", \"counts\": 2, \"cumulative_sum\": 90}, {\"start_year\": \"2005\", \"family\": \"Nereididae\", \"counts\": 6, \"cumulative_sum\": 96}, {\"start_year\": \"2007\", \"family\": \"Nereididae\", \"counts\": 3, \"cumulative_sum\": 99}, {\"start_year\": \"2008\", \"family\": \"Nereididae\", \"counts\": 4, \"cumulative_sum\": 103}, {\"start_year\": \"2010\", \"family\": \"Nereididae\", \"counts\": 1, \"cumulative_sum\": 104}, {\"start_year\": \"2011\", \"family\": \"Nereididae\", \"counts\": 4, \"cumulative_sum\": 108}, {\"start_year\": \"2012\", \"family\": \"Nereididae\", \"counts\": 74, \"cumulative_sum\": 182}, {\"start_year\": \"2013\", \"family\": \"Nereididae\", \"counts\": 39, \"cumulative_sum\": 221}, {\"start_year\": \"2014\", \"family\": \"Nereididae\", \"counts\": 28, \"cumulative_sum\": 249}, {\"start_year\": \"2015\", \"family\": \"Nereididae\", \"counts\": 13, \"cumulative_sum\": 262}, {\"start_year\": \"2016\", \"family\": \"Nereididae\", \"counts\": 3, \"cumulative_sum\": 265}, {\"start_year\": \"nan\", \"family\": \"Nereididae\", \"counts\": 47, \"cumulative_sum\": 312}, {\"start_year\": \"2000\", \"family\": \"Oenonidae\", \"counts\": 3, \"cumulative_sum\": 3}, {\"start_year\": \"2001\", \"family\": \"Oenonidae\", \"counts\": 9, \"cumulative_sum\": 12}, {\"start_year\": \"2002\", \"family\": \"Oenonidae\", \"counts\": 6, \"cumulative_sum\": 18}, {\"start_year\": \"2005\", \"family\": \"Oenonidae\", \"counts\": 2, \"cumulative_sum\": 20}, {\"start_year\": \"2007\", \"family\": \"Oenonidae\", \"counts\": 2, \"cumulative_sum\": 22}, {\"start_year\": \"2011\", \"family\": \"Oenonidae\", \"counts\": 3, \"cumulative_sum\": 25}, {\"start_year\": \"2012\", \"family\": \"Oenonidae\", \"counts\": 3, \"cumulative_sum\": 28}, {\"start_year\": \"2013\", \"family\": \"Oenonidae\", \"counts\": 5, \"cumulative_sum\": 33}, {\"start_year\": \"2014\", \"family\": \"Oenonidae\", \"counts\": 4, \"cumulative_sum\": 37}, {\"start_year\": \"nan\", \"family\": \"Oenonidae\", \"counts\": 2, \"cumulative_sum\": 39}, {\"start_year\": \"1998\", \"family\": \"Onuphidae\", \"counts\": 1, \"cumulative_sum\": 1}, {\"start_year\": \"1999\", \"family\": \"Onuphidae\", \"counts\": 5, \"cumulative_sum\": 6}, {\"start_year\": \"2000\", \"family\": \"Onuphidae\", \"counts\": 11, \"cumulative_sum\": 17}, {\"start_year\": \"2001\", \"family\": \"Onuphidae\", \"counts\": 4, \"cumulative_sum\": 21}, {\"start_year\": \"2002\", \"family\": \"Onuphidae\", \"counts\": 7, \"cumulative_sum\": 28}, {\"start_year\": \"2003\", \"family\": \"Onuphidae\", \"counts\": 2, \"cumulative_sum\": 30}, {\"start_year\": \"2005\", \"family\": \"Onuphidae\", \"counts\": 1, \"cumulative_sum\": 31}, {\"start_year\": \"2010\", \"family\": \"Onuphidae\", \"counts\": 1, \"cumulative_sum\": 32}, {\"start_year\": \"2011\", \"family\": \"Onuphidae\", \"counts\": 9, \"cumulative_sum\": 41}, {\"start_year\": \"2012\", \"family\": \"Onuphidae\", \"counts\": 2, \"cumulative_sum\": 43}, {\"start_year\": \"2013\", \"family\": \"Onuphidae\", \"counts\": 2, \"cumulative_sum\": 45}, {\"start_year\": \"2015\", \"family\": \"Onuphidae\", \"counts\": 4, \"cumulative_sum\": 49}, {\"start_year\": \"2016\", \"family\": \"Onuphidae\", \"counts\": 2, \"cumulative_sum\": 51}, {\"start_year\": \"2017\", \"family\": \"Onuphidae\", \"counts\": 1, \"cumulative_sum\": 52}, {\"start_year\": \"nan\", \"family\": \"Onuphidae\", \"counts\": 18, \"cumulative_sum\": 70}, {\"start_year\": \"1997\", \"family\": \"Opheliidae\", \"counts\": 1, \"cumulative_sum\": 1}, {\"start_year\": \"1998\", \"family\": \"Opheliidae\", \"counts\": 2, \"cumulative_sum\": 3}, {\"start_year\": \"1999\", \"family\": \"Opheliidae\", \"counts\": 4, \"cumulative_sum\": 7}, {\"start_year\": \"2000\", \"family\": \"Opheliidae\", \"counts\": 7, \"cumulative_sum\": 14}, {\"start_year\": \"2001\", \"family\": \"Opheliidae\", \"counts\": 3, \"cumulative_sum\": 17}, {\"start_year\": \"2002\", \"family\": \"Opheliidae\", \"counts\": 4, \"cumulative_sum\": 21}, {\"start_year\": \"2003\", \"family\": \"Opheliidae\", \"counts\": 6, \"cumulative_sum\": 27}, {\"start_year\": \"2008\", \"family\": \"Opheliidae\", \"counts\": 1, \"cumulative_sum\": 28}, {\"start_year\": \"2014\", \"family\": \"Opheliidae\", \"counts\": 2, \"cumulative_sum\": 30}, {\"start_year\": \"2015\", \"family\": \"Opheliidae\", \"counts\": 2, \"cumulative_sum\": 32}, {\"start_year\": \"2016\", \"family\": \"Opheliidae\", \"counts\": 1, \"cumulative_sum\": 33}, {\"start_year\": \"2017\", \"family\": \"Opheliidae\", \"counts\": 4, \"cumulative_sum\": 37}, {\"start_year\": \"2018\", \"family\": \"Opheliidae\", \"counts\": 3, \"cumulative_sum\": 40}, {\"start_year\": \"nan\", \"family\": \"Opheliidae\", \"counts\": 10, \"cumulative_sum\": 50}, {\"start_year\": \"1995\", \"family\": \"Orbiniidae\", \"counts\": 2, \"cumulative_sum\": 2}, {\"start_year\": \"1996\", \"family\": \"Orbiniidae\", \"counts\": 2, \"cumulative_sum\": 4}, {\"start_year\": \"1997\", \"family\": \"Orbiniidae\", \"counts\": 3, \"cumulative_sum\": 7}, {\"start_year\": \"1998\", \"family\": \"Orbiniidae\", \"counts\": 2, \"cumulative_sum\": 9}, {\"start_year\": \"1999\", \"family\": \"Orbiniidae\", \"counts\": 8, \"cumulative_sum\": 17}, {\"start_year\": \"2000\", \"family\": \"Orbiniidae\", \"counts\": 20, \"cumulative_sum\": 37}, {\"start_year\": \"2001\", \"family\": \"Orbiniidae\", \"counts\": 1, \"cumulative_sum\": 38}, {\"start_year\": \"2002\", \"family\": \"Orbiniidae\", \"counts\": 7, \"cumulative_sum\": 45}, {\"start_year\": \"2003\", \"family\": \"Orbiniidae\", \"counts\": 7, \"cumulative_sum\": 52}, {\"start_year\": \"2004\", \"family\": \"Orbiniidae\", \"counts\": 4, \"cumulative_sum\": 56}, {\"start_year\": \"2006\", \"family\": \"Orbiniidae\", \"counts\": 1, \"cumulative_sum\": 57}, {\"start_year\": \"2008\", \"family\": \"Orbiniidae\", \"counts\": 1, \"cumulative_sum\": 58}, {\"start_year\": \"2009\", \"family\": \"Orbiniidae\", \"counts\": 18, \"cumulative_sum\": 76}, {\"start_year\": \"2011\", \"family\": \"Orbiniidae\", \"counts\": 2, \"cumulative_sum\": 78}, {\"start_year\": \"2012\", \"family\": \"Orbiniidae\", \"counts\": 2, \"cumulative_sum\": 80}, {\"start_year\": \"2015\", \"family\": \"Orbiniidae\", \"counts\": 5, \"cumulative_sum\": 85}, {\"start_year\": \"2016\", \"family\": \"Orbiniidae\", \"counts\": 8, \"cumulative_sum\": 93}, {\"start_year\": \"2017\", \"family\": \"Orbiniidae\", \"counts\": 6, \"cumulative_sum\": 99}, {\"start_year\": \"2018\", \"family\": \"Orbiniidae\", \"counts\": 4, \"cumulative_sum\": 103}, {\"start_year\": \"nan\", \"family\": \"Orbiniidae\", \"counts\": 5, \"cumulative_sum\": 108}, {\"start_year\": \"1995\", \"family\": \"Oweniidae\", \"counts\": 1, \"cumulative_sum\": 1}, {\"start_year\": \"1996\", \"family\": \"Oweniidae\", \"counts\": 1, \"cumulative_sum\": 2}, {\"start_year\": \"1998\", \"family\": \"Oweniidae\", \"counts\": 1, \"cumulative_sum\": 3}, {\"start_year\": \"1999\", \"family\": \"Oweniidae\", \"counts\": 2, \"cumulative_sum\": 5}, {\"start_year\": \"2000\", \"family\": \"Oweniidae\", \"counts\": 5, \"cumulative_sum\": 10}, {\"start_year\": \"2002\", \"family\": \"Oweniidae\", \"counts\": 1, \"cumulative_sum\": 11}, {\"start_year\": \"2012\", \"family\": \"Oweniidae\", \"counts\": 1, \"cumulative_sum\": 12}, {\"start_year\": \"1999\", \"family\": \"Paraonidae\", \"counts\": 1, \"cumulative_sum\": 1}, {\"start_year\": \"2000\", \"family\": \"Paraonidae\", \"counts\": 7, \"cumulative_sum\": 8}, {\"start_year\": \"2002\", \"family\": \"Paraonidae\", \"counts\": 9, \"cumulative_sum\": 17}, {\"start_year\": \"2003\", \"family\": \"Paraonidae\", \"counts\": 7, \"cumulative_sum\": 24}, {\"start_year\": \"2004\", \"family\": \"Paraonidae\", \"counts\": 118, \"cumulative_sum\": 142}, {\"start_year\": \"2006\", \"family\": \"Paraonidae\", \"counts\": 2, \"cumulative_sum\": 144}, {\"start_year\": \"2008\", \"family\": \"Paraonidae\", \"counts\": 127, \"cumulative_sum\": 271}, {\"start_year\": \"2009\", \"family\": \"Paraonidae\", \"counts\": 2, \"cumulative_sum\": 273}, {\"start_year\": \"2010\", \"family\": \"Paraonidae\", \"counts\": 8, \"cumulative_sum\": 281}, {\"start_year\": \"2011\", \"family\": \"Paraonidae\", \"counts\": 6, \"cumulative_sum\": 287}, {\"start_year\": \"2012\", \"family\": \"Paraonidae\", \"counts\": 20, \"cumulative_sum\": 307}, {\"start_year\": \"2014\", \"family\": \"Paraonidae\", \"counts\": 1, \"cumulative_sum\": 308}, {\"start_year\": \"2015\", \"family\": \"Paraonidae\", \"counts\": 1, \"cumulative_sum\": 309}, {\"start_year\": \"2018\", \"family\": \"Paraonidae\", \"counts\": 4, \"cumulative_sum\": 313}, {\"start_year\": \"nan\", \"family\": \"Paraonidae\", \"counts\": 21, \"cumulative_sum\": 334}, {\"start_year\": \"1986\", \"family\": \"Pectinariidae\", \"counts\": 1, \"cumulative_sum\": 1}, {\"start_year\": \"1993\", \"family\": \"Pectinariidae\", \"counts\": 3, \"cumulative_sum\": 4}, {\"start_year\": \"1994\", \"family\": \"Pectinariidae\", \"counts\": 1, \"cumulative_sum\": 5}, {\"start_year\": \"1998\", \"family\": \"Pectinariidae\", \"counts\": 1, \"cumulative_sum\": 6}, {\"start_year\": \"1999\", \"family\": \"Pectinariidae\", \"counts\": 2, \"cumulative_sum\": 8}, {\"start_year\": \"2000\", \"family\": \"Pectinariidae\", \"counts\": 8, \"cumulative_sum\": 16}, {\"start_year\": \"nan\", \"family\": \"Pectinariidae\", \"counts\": 2, \"cumulative_sum\": 18}, {\"start_year\": \"1993\", \"family\": \"Pholoidae\", \"counts\": 2, \"cumulative_sum\": 2}, {\"start_year\": \"1994\", \"family\": \"Pholoidae\", \"counts\": 2, \"cumulative_sum\": 4}, {\"start_year\": \"2003\", \"family\": \"Pholoidae\", \"counts\": 7, \"cumulative_sum\": 11}, {\"start_year\": \"2007\", \"family\": \"Pholoidae\", \"counts\": 1, \"cumulative_sum\": 12}, {\"start_year\": \"1905\", \"family\": \"Phyllodocidae\", \"counts\": 1, \"cumulative_sum\": 1}, {\"start_year\": \"1976\", \"family\": \"Phyllodocidae\", \"counts\": 1, \"cumulative_sum\": 2}, {\"start_year\": \"1995\", \"family\": \"Phyllodocidae\", \"counts\": 1, \"cumulative_sum\": 3}, {\"start_year\": \"1998\", \"family\": \"Phyllodocidae\", \"counts\": 3, \"cumulative_sum\": 6}, {\"start_year\": \"2000\", \"family\": \"Phyllodocidae\", \"counts\": 20, \"cumulative_sum\": 26}, {\"start_year\": \"2001\", \"family\": \"Phyllodocidae\", \"counts\": 28, \"cumulative_sum\": 54}, {\"start_year\": \"2002\", \"family\": \"Phyllodocidae\", \"counts\": 8, \"cumulative_sum\": 62}, {\"start_year\": \"2003\", \"family\": \"Phyllodocidae\", \"counts\": 1, \"cumulative_sum\": 63}, {\"start_year\": \"2005\", \"family\": \"Phyllodocidae\", \"counts\": 1, \"cumulative_sum\": 64}, {\"start_year\": \"2011\", \"family\": \"Phyllodocidae\", \"counts\": 1, \"cumulative_sum\": 65}, {\"start_year\": \"2012\", \"family\": \"Phyllodocidae\", \"counts\": 4, \"cumulative_sum\": 69}, {\"start_year\": \"2013\", \"family\": \"Phyllodocidae\", \"counts\": 3, \"cumulative_sum\": 72}, {\"start_year\": \"2014\", \"family\": \"Phyllodocidae\", \"counts\": 2, \"cumulative_sum\": 74}, {\"start_year\": \"2015\", \"family\": \"Phyllodocidae\", \"counts\": 1, \"cumulative_sum\": 75}, {\"start_year\": \"2017\", \"family\": \"Phyllodocidae\", \"counts\": 23, \"cumulative_sum\": 98}, {\"start_year\": \"2018\", \"family\": \"Phyllodocidae\", \"counts\": 10, \"cumulative_sum\": 108}, {\"start_year\": \"nan\", \"family\": \"Phyllodocidae\", \"counts\": 12, \"cumulative_sum\": 120}, {\"start_year\": \"1993\", \"family\": \"Pilargidae\", \"counts\": 3, \"cumulative_sum\": 3}, {\"start_year\": \"1994\", \"family\": \"Pilargidae\", \"counts\": 2, \"cumulative_sum\": 5}, {\"start_year\": \"1995\", \"family\": \"Pilargidae\", \"counts\": 4, \"cumulative_sum\": 9}, {\"start_year\": \"1996\", \"family\": \"Pilargidae\", \"counts\": 1, \"cumulative_sum\": 10}, {\"start_year\": \"1997\", \"family\": \"Pilargidae\", \"counts\": 5, \"cumulative_sum\": 15}, {\"start_year\": \"1998\", \"family\": \"Pilargidae\", \"counts\": 1, \"cumulative_sum\": 16}, {\"start_year\": \"1999\", \"family\": \"Pilargidae\", \"counts\": 6, \"cumulative_sum\": 22}, {\"start_year\": \"2000\", \"family\": \"Pilargidae\", \"counts\": 6, \"cumulative_sum\": 28}, {\"start_year\": \"2002\", \"family\": \"Pilargidae\", \"counts\": 4, \"cumulative_sum\": 32}, {\"start_year\": \"2003\", \"family\": \"Pilargidae\", \"counts\": 1, \"cumulative_sum\": 33}, {\"start_year\": \"2004\", \"family\": \"Pilargidae\", \"counts\": 1, \"cumulative_sum\": 34}, {\"start_year\": \"2008\", \"family\": \"Pilargidae\", \"counts\": 3, \"cumulative_sum\": 37}, {\"start_year\": \"2015\", \"family\": \"Pilargidae\", \"counts\": 2, \"cumulative_sum\": 39}, {\"start_year\": \"nan\", \"family\": \"Pilargidae\", \"counts\": 2, \"cumulative_sum\": 41}, {\"start_year\": \"1999\", \"family\": \"Poecilochaetidae\", \"counts\": 3, \"cumulative_sum\": 3}, {\"start_year\": \"2000\", \"family\": \"Poecilochaetidae\", \"counts\": 3, \"cumulative_sum\": 6}, {\"start_year\": \"2002\", \"family\": \"Poecilochaetidae\", \"counts\": 1, \"cumulative_sum\": 7}, {\"start_year\": \"2003\", \"family\": \"Poecilochaetidae\", \"counts\": 3, \"cumulative_sum\": 10}, {\"start_year\": \"2005\", \"family\": \"Poecilochaetidae\", \"counts\": 1, \"cumulative_sum\": 11}, {\"start_year\": \"2008\", \"family\": \"Poecilochaetidae\", \"counts\": 1, \"cumulative_sum\": 12}, {\"start_year\": \"nan\", \"family\": \"Poecilochaetidae\", \"counts\": 5, \"cumulative_sum\": 17}, {\"start_year\": \"1905\", \"family\": \"Polynoidae\", \"counts\": 1, \"cumulative_sum\": 1}, {\"start_year\": \"1992\", \"family\": \"Polynoidae\", \"counts\": 1, \"cumulative_sum\": 2}, {\"start_year\": \"1998\", \"family\": \"Polynoidae\", \"counts\": 17, \"cumulative_sum\": 19}, {\"start_year\": \"1999\", \"family\": \"Polynoidae\", \"counts\": 2, \"cumulative_sum\": 21}, {\"start_year\": \"2000\", \"family\": \"Polynoidae\", \"counts\": 24, \"cumulative_sum\": 45}, {\"start_year\": \"2001\", \"family\": \"Polynoidae\", \"counts\": 18, \"cumulative_sum\": 63}, {\"start_year\": \"2002\", \"family\": \"Polynoidae\", \"counts\": 8, \"cumulative_sum\": 71}, {\"start_year\": \"2003\", \"family\": \"Polynoidae\", \"counts\": 6, \"cumulative_sum\": 77}, {\"start_year\": \"2004\", \"family\": \"Polynoidae\", \"counts\": 1, \"cumulative_sum\": 78}, {\"start_year\": \"2005\", \"family\": \"Polynoidae\", \"counts\": 9, \"cumulative_sum\": 87}, {\"start_year\": \"2006\", \"family\": \"Polynoidae\", \"counts\": 2, \"cumulative_sum\": 89}, {\"start_year\": \"2008\", \"family\": \"Polynoidae\", \"counts\": 22, \"cumulative_sum\": 111}, {\"start_year\": \"2009\", \"family\": \"Polynoidae\", \"counts\": 10, \"cumulative_sum\": 121}, {\"start_year\": \"2011\", \"family\": \"Polynoidae\", \"counts\": 4, \"cumulative_sum\": 125}, {\"start_year\": \"2012\", \"family\": \"Polynoidae\", \"counts\": 2, \"cumulative_sum\": 127}, {\"start_year\": \"2013\", \"family\": \"Polynoidae\", \"counts\": 5, \"cumulative_sum\": 132}, {\"start_year\": \"2014\", \"family\": \"Polynoidae\", \"counts\": 5, \"cumulative_sum\": 137}, {\"start_year\": \"2017\", \"family\": \"Polynoidae\", \"counts\": 23, \"cumulative_sum\": 160}, {\"start_year\": \"2018\", \"family\": \"Polynoidae\", \"counts\": 2, \"cumulative_sum\": 162}, {\"start_year\": \"nan\", \"family\": \"Polynoidae\", \"counts\": 5, \"cumulative_sum\": 167}, {\"start_year\": \"2000\", \"family\": \"Pontodoridae\", \"counts\": 1, \"cumulative_sum\": 1}, {\"start_year\": \"1991\", \"family\": \"Sabellariidae\", \"counts\": 1, \"cumulative_sum\": 1}, {\"start_year\": \"1998\", \"family\": \"Sabellariidae\", \"counts\": 1, \"cumulative_sum\": 2}, {\"start_year\": \"1999\", \"family\": \"Sabellariidae\", \"counts\": 1, \"cumulative_sum\": 3}, {\"start_year\": \"2002\", \"family\": \"Sabellariidae\", \"counts\": 1, \"cumulative_sum\": 4}, {\"start_year\": \"2007\", \"family\": \"Sabellariidae\", \"counts\": 2, \"cumulative_sum\": 6}, {\"start_year\": \"2012\", \"family\": \"Sabellariidae\", \"counts\": 53, \"cumulative_sum\": 59}, {\"start_year\": \"2013\", \"family\": \"Sabellariidae\", \"counts\": 30, \"cumulative_sum\": 89}, {\"start_year\": \"2014\", \"family\": \"Sabellariidae\", \"counts\": 121, \"cumulative_sum\": 210}, {\"start_year\": \"2015\", \"family\": \"Sabellariidae\", \"counts\": 2, \"cumulative_sum\": 212}, {\"start_year\": \"nan\", \"family\": \"Sabellariidae\", \"counts\": 3, \"cumulative_sum\": 215}, {\"start_year\": \"1966\", \"family\": \"Sabellidae\", \"counts\": 2, \"cumulative_sum\": 2}, {\"start_year\": \"1971\", \"family\": \"Sabellidae\", \"counts\": 2, \"cumulative_sum\": 4}, {\"start_year\": \"1979\", \"family\": \"Sabellidae\", \"counts\": 2, \"cumulative_sum\": 6}, {\"start_year\": \"1986\", \"family\": \"Sabellidae\", \"counts\": 1, \"cumulative_sum\": 7}, {\"start_year\": \"1996\", \"family\": \"Sabellidae\", \"counts\": 1, \"cumulative_sum\": 8}, {\"start_year\": \"1997\", \"family\": \"Sabellidae\", \"counts\": 1, \"cumulative_sum\": 9}, {\"start_year\": \"1999\", \"family\": \"Sabellidae\", \"counts\": 9, \"cumulative_sum\": 18}, {\"start_year\": \"2000\", \"family\": \"Sabellidae\", \"counts\": 21, \"cumulative_sum\": 39}, {\"start_year\": \"2001\", \"family\": \"Sabellidae\", \"counts\": 7, \"cumulative_sum\": 46}, {\"start_year\": \"2002\", \"family\": \"Sabellidae\", \"counts\": 4, \"cumulative_sum\": 50}, {\"start_year\": \"2003\", \"family\": \"Sabellidae\", \"counts\": 7, \"cumulative_sum\": 57}, {\"start_year\": \"2004\", \"family\": \"Sabellidae\", \"counts\": 3, \"cumulative_sum\": 60}, {\"start_year\": \"2005\", \"family\": \"Sabellidae\", \"counts\": 2, \"cumulative_sum\": 62}, {\"start_year\": \"2008\", \"family\": \"Sabellidae\", \"counts\": 85, \"cumulative_sum\": 147}, {\"start_year\": \"2009\", \"family\": \"Sabellidae\", \"counts\": 98, \"cumulative_sum\": 245}, {\"start_year\": \"2010\", \"family\": \"Sabellidae\", \"counts\": 25, \"cumulative_sum\": 270}, {\"start_year\": \"2011\", \"family\": \"Sabellidae\", \"counts\": 89, \"cumulative_sum\": 359}, {\"start_year\": \"2012\", \"family\": \"Sabellidae\", \"counts\": 20, \"cumulative_sum\": 379}, {\"start_year\": \"2013\", \"family\": \"Sabellidae\", \"counts\": 7, \"cumulative_sum\": 386}, {\"start_year\": \"2014\", \"family\": \"Sabellidae\", \"counts\": 6, \"cumulative_sum\": 392}, {\"start_year\": \"2017\", \"family\": \"Sabellidae\", \"counts\": 2, \"cumulative_sum\": 394}, {\"start_year\": \"2019\", \"family\": \"Sabellidae\", \"counts\": 1, \"cumulative_sum\": 395}, {\"start_year\": \"nan\", \"family\": \"Sabellidae\", \"counts\": 59, \"cumulative_sum\": 454}, {\"start_year\": \"2000\", \"family\": \"Scalibregmatidae\", \"counts\": 2, \"cumulative_sum\": 2}, {\"start_year\": \"2002\", \"family\": \"Scalibregmatidae\", \"counts\": 1, \"cumulative_sum\": 3}, {\"start_year\": \"2003\", \"family\": \"Scalibregmatidae\", \"counts\": 4, \"cumulative_sum\": 7}, {\"start_year\": \"2018\", \"family\": \"Scalibregmatidae\", \"counts\": 5, \"cumulative_sum\": 12}, {\"start_year\": \"1986\", \"family\": \"Serpulidae\", \"counts\": 1, \"cumulative_sum\": 1}, {\"start_year\": \"1999\", \"family\": \"Serpulidae\", \"counts\": 6, \"cumulative_sum\": 7}, {\"start_year\": \"2000\", \"family\": \"Serpulidae\", \"counts\": 4, \"cumulative_sum\": 11}, {\"start_year\": \"2001\", \"family\": \"Serpulidae\", \"counts\": 7, \"cumulative_sum\": 18}, {\"start_year\": \"2002\", \"family\": \"Serpulidae\", \"counts\": 1, \"cumulative_sum\": 19}, {\"start_year\": \"2004\", \"family\": \"Serpulidae\", \"counts\": 3, \"cumulative_sum\": 22}, {\"start_year\": \"2005\", \"family\": \"Serpulidae\", \"counts\": 1, \"cumulative_sum\": 23}, {\"start_year\": \"2008\", \"family\": \"Serpulidae\", \"counts\": 1, \"cumulative_sum\": 24}, {\"start_year\": \"2011\", \"family\": \"Serpulidae\", \"counts\": 20, \"cumulative_sum\": 44}, {\"start_year\": \"2012\", \"family\": \"Serpulidae\", \"counts\": 6, \"cumulative_sum\": 50}, {\"start_year\": \"2013\", \"family\": \"Serpulidae\", \"counts\": 1, \"cumulative_sum\": 51}, {\"start_year\": \"2015\", \"family\": \"Serpulidae\", \"counts\": 2, \"cumulative_sum\": 53}, {\"start_year\": \"2017\", \"family\": \"Serpulidae\", \"counts\": 3, \"cumulative_sum\": 56}, {\"start_year\": \"nan\", \"family\": \"Serpulidae\", \"counts\": 17, \"cumulative_sum\": 73}, {\"start_year\": \"1998\", \"family\": \"Sigalionidae\", \"counts\": 3, \"cumulative_sum\": 3}, {\"start_year\": \"1999\", \"family\": \"Sigalionidae\", \"counts\": 1, \"cumulative_sum\": 4}, {\"start_year\": \"2000\", \"family\": \"Sigalionidae\", \"counts\": 11, \"cumulative_sum\": 15}, {\"start_year\": \"2002\", \"family\": \"Sigalionidae\", \"counts\": 4, \"cumulative_sum\": 19}, {\"start_year\": \"2003\", \"family\": \"Sigalionidae\", \"counts\": 3, \"cumulative_sum\": 22}, {\"start_year\": \"2006\", \"family\": \"Sigalionidae\", \"counts\": 1, \"cumulative_sum\": 23}, {\"start_year\": \"2008\", \"family\": \"Sigalionidae\", \"counts\": 2, \"cumulative_sum\": 25}, {\"start_year\": \"2011\", \"family\": \"Sigalionidae\", \"counts\": 1, \"cumulative_sum\": 26}, {\"start_year\": \"2012\", \"family\": \"Sigalionidae\", \"counts\": 2, \"cumulative_sum\": 28}, {\"start_year\": \"2014\", \"family\": \"Sigalionidae\", \"counts\": 3, \"cumulative_sum\": 31}, {\"start_year\": \"nan\", \"family\": \"Sigalionidae\", \"counts\": 4, \"cumulative_sum\": 35}, {\"start_year\": \"nan\", \"family\": \"Sipunculidae\", \"counts\": 2, \"cumulative_sum\": 2}, {\"start_year\": \"2003\", \"family\": \"Sphaerodoridae\", \"counts\": 1, \"cumulative_sum\": 1}, {\"start_year\": \"2004\", \"family\": \"Sphaerodoridae\", \"counts\": 4, \"cumulative_sum\": 5}, {\"start_year\": \"2017\", \"family\": \"Sphaerodoridae\", \"counts\": 1, \"cumulative_sum\": 6}, {\"start_year\": \"nan\", \"family\": \"Sphaerodoridae\", \"counts\": 1, \"cumulative_sum\": 7}, {\"start_year\": \"1995\", \"family\": \"Spionidae\", \"counts\": 2, \"cumulative_sum\": 2}, {\"start_year\": \"1996\", \"family\": \"Spionidae\", \"counts\": 2, \"cumulative_sum\": 4}, {\"start_year\": \"1997\", \"family\": \"Spionidae\", \"counts\": 2, \"cumulative_sum\": 6}, {\"start_year\": \"1998\", \"family\": \"Spionidae\", \"counts\": 5, \"cumulative_sum\": 11}, {\"start_year\": \"1999\", \"family\": \"Spionidae\", \"counts\": 20, \"cumulative_sum\": 31}, {\"start_year\": \"2000\", \"family\": \"Spionidae\", \"counts\": 25, \"cumulative_sum\": 56}, {\"start_year\": \"2001\", \"family\": \"Spionidae\", \"counts\": 3, \"cumulative_sum\": 59}, {\"start_year\": \"2002\", \"family\": \"Spionidae\", \"counts\": 23, \"cumulative_sum\": 82}, {\"start_year\": \"2003\", \"family\": \"Spionidae\", \"counts\": 2, \"cumulative_sum\": 84}, {\"start_year\": \"2004\", \"family\": \"Spionidae\", \"counts\": 1, \"cumulative_sum\": 85}, {\"start_year\": \"2005\", \"family\": \"Spionidae\", \"counts\": 4, \"cumulative_sum\": 89}, {\"start_year\": \"2006\", \"family\": \"Spionidae\", \"counts\": 5, \"cumulative_sum\": 94}, {\"start_year\": \"2007\", \"family\": \"Spionidae\", \"counts\": 1, \"cumulative_sum\": 95}, {\"start_year\": \"2008\", \"family\": \"Spionidae\", \"counts\": 3, \"cumulative_sum\": 98}, {\"start_year\": \"2009\", \"family\": \"Spionidae\", \"counts\": 2, \"cumulative_sum\": 100}, {\"start_year\": \"2011\", \"family\": \"Spionidae\", \"counts\": 9, \"cumulative_sum\": 109}, {\"start_year\": \"2012\", \"family\": \"Spionidae\", \"counts\": 3, \"cumulative_sum\": 112}, {\"start_year\": \"2013\", \"family\": \"Spionidae\", \"counts\": 2, \"cumulative_sum\": 114}, {\"start_year\": \"2014\", \"family\": \"Spionidae\", \"counts\": 7, \"cumulative_sum\": 121}, {\"start_year\": \"2015\", \"family\": \"Spionidae\", \"counts\": 7, \"cumulative_sum\": 128}, {\"start_year\": \"2017\", \"family\": \"Spionidae\", \"counts\": 1, \"cumulative_sum\": 129}, {\"start_year\": \"nan\", \"family\": \"Spionidae\", \"counts\": 85, \"cumulative_sum\": 214}, {\"start_year\": \"1995\", \"family\": \"Sternaspidae\", \"counts\": 1, \"cumulative_sum\": 1}, {\"start_year\": \"1998\", \"family\": \"Sternaspidae\", \"counts\": 1, \"cumulative_sum\": 2}, {\"start_year\": \"2000\", \"family\": \"Sternaspidae\", \"counts\": 1, \"cumulative_sum\": 3}, {\"start_year\": \"2001\", \"family\": \"Sternaspidae\", \"counts\": 1, \"cumulative_sum\": 4}, {\"start_year\": \"2002\", \"family\": \"Sternaspidae\", \"counts\": 1, \"cumulative_sum\": 5}, {\"start_year\": \"2003\", \"family\": \"Sternaspidae\", \"counts\": 7, \"cumulative_sum\": 12}, {\"start_year\": \"2008\", \"family\": \"Sternaspidae\", \"counts\": 29, \"cumulative_sum\": 41}, {\"start_year\": \"2010\", \"family\": \"Sternaspidae\", \"counts\": 1, \"cumulative_sum\": 42}, {\"start_year\": \"2011\", \"family\": \"Sternaspidae\", \"counts\": 36, \"cumulative_sum\": 78}, {\"start_year\": \"nan\", \"family\": \"Sternaspidae\", \"counts\": 7, \"cumulative_sum\": 85}, {\"start_year\": \"1997\", \"family\": \"Syllidae\", \"counts\": 1, \"cumulative_sum\": 1}, {\"start_year\": \"1998\", \"family\": \"Syllidae\", \"counts\": 5, \"cumulative_sum\": 6}, {\"start_year\": \"1999\", \"family\": \"Syllidae\", \"counts\": 63, \"cumulative_sum\": 69}, {\"start_year\": \"2000\", \"family\": \"Syllidae\", \"counts\": 21, \"cumulative_sum\": 90}, {\"start_year\": \"2001\", \"family\": \"Syllidae\", \"counts\": 16, \"cumulative_sum\": 106}, {\"start_year\": \"2002\", \"family\": \"Syllidae\", \"counts\": 19, \"cumulative_sum\": 125}, {\"start_year\": \"2003\", \"family\": \"Syllidae\", \"counts\": 33, \"cumulative_sum\": 158}, {\"start_year\": \"2005\", \"family\": \"Syllidae\", \"counts\": 1, \"cumulative_sum\": 159}, {\"start_year\": \"2006\", \"family\": \"Syllidae\", \"counts\": 1, \"cumulative_sum\": 160}, {\"start_year\": \"2007\", \"family\": \"Syllidae\", \"counts\": 1, \"cumulative_sum\": 161}, {\"start_year\": \"2009\", \"family\": \"Syllidae\", \"counts\": 2, \"cumulative_sum\": 163}, {\"start_year\": \"2011\", \"family\": \"Syllidae\", \"counts\": 45, \"cumulative_sum\": 208}, {\"start_year\": \"2012\", \"family\": \"Syllidae\", \"counts\": 182, \"cumulative_sum\": 390}, {\"start_year\": \"2013\", \"family\": \"Syllidae\", \"counts\": 13, \"cumulative_sum\": 403}, {\"start_year\": \"2014\", \"family\": \"Syllidae\", \"counts\": 17, \"cumulative_sum\": 420}, {\"start_year\": \"2015\", \"family\": \"Syllidae\", \"counts\": 28, \"cumulative_sum\": 448}, {\"start_year\": \"2016\", \"family\": \"Syllidae\", \"counts\": 16, \"cumulative_sum\": 464}, {\"start_year\": \"2017\", \"family\": \"Syllidae\", \"counts\": 11, \"cumulative_sum\": 475}, {\"start_year\": \"2018\", \"family\": \"Syllidae\", \"counts\": 3, \"cumulative_sum\": 478}, {\"start_year\": \"nan\", \"family\": \"Syllidae\", \"counts\": 40, \"cumulative_sum\": 518}, {\"start_year\": \"1999\", \"family\": \"Terebellidae\", \"counts\": 4, \"cumulative_sum\": 4}, {\"start_year\": \"2000\", \"family\": \"Terebellidae\", \"counts\": 11, \"cumulative_sum\": 15}, {\"start_year\": \"2001\", \"family\": \"Terebellidae\", \"counts\": 1, \"cumulative_sum\": 16}, {\"start_year\": \"2002\", \"family\": \"Terebellidae\", \"counts\": 9, \"cumulative_sum\": 25}, {\"start_year\": \"2003\", \"family\": \"Terebellidae\", \"counts\": 3, \"cumulative_sum\": 28}, {\"start_year\": \"2011\", \"family\": \"Terebellidae\", \"counts\": 2, \"cumulative_sum\": 30}, {\"start_year\": \"2012\", \"family\": \"Terebellidae\", \"counts\": 11, \"cumulative_sum\": 41}, {\"start_year\": \"2013\", \"family\": \"Terebellidae\", \"counts\": 9, \"cumulative_sum\": 50}, {\"start_year\": \"2014\", \"family\": \"Terebellidae\", \"counts\": 4, \"cumulative_sum\": 54}, {\"start_year\": \"2015\", \"family\": \"Terebellidae\", \"counts\": 1, \"cumulative_sum\": 55}, {\"start_year\": \"nan\", \"family\": \"Terebellidae\", \"counts\": 11, \"cumulative_sum\": 66}, {\"start_year\": \"1998\", \"family\": \"Tomopteridae\", \"counts\": 80, \"cumulative_sum\": 80}, {\"start_year\": \"2000\", \"family\": \"Tomopteridae\", \"counts\": 91, \"cumulative_sum\": 171}, {\"start_year\": \"1994\", \"family\": \"Trichobranchidae\", \"counts\": 1, \"cumulative_sum\": 1}, {\"start_year\": \"1997\", \"family\": \"Trichobranchidae\", \"counts\": 2, \"cumulative_sum\": 3}, {\"start_year\": \"1999\", \"family\": \"Trichobranchidae\", \"counts\": 1, \"cumulative_sum\": 4}, {\"start_year\": \"2000\", \"family\": \"Trichobranchidae\", \"counts\": 21, \"cumulative_sum\": 25}, {\"start_year\": \"2003\", \"family\": \"Trichobranchidae\", \"counts\": 1, \"cumulative_sum\": 26}, {\"start_year\": \"nan\", \"family\": \"Trichobranchidae\", \"counts\": 5, \"cumulative_sum\": 31}, {\"start_year\": \"2006\", \"family\": \"Trochochaetidae\", \"counts\": 5, \"cumulative_sum\": 5}, {\"start_year\": \"2015\", \"family\": \"Trochochaetidae\", \"counts\": 1, \"cumulative_sum\": 6}, {\"start_year\": \"1998\", \"family\": \"Typhloscolecidae\", \"counts\": 115, \"cumulative_sum\": 115}, {\"start_year\": \"2000\", \"family\": \"Typhloscolecidae\", \"counts\": 124, \"cumulative_sum\": 239}]}}, {\"mode\": \"vega-lite\"});\n",
       "</script>"
      ],
      "text/plain": [
       "alt.Chart(...)"
      ]
     },
     "execution_count": 129,
     "metadata": {},
     "output_type": "execute_result"
    }
   ],
   "source": [
    "## filtering out some families lost while grouping\n",
    "# familias = [f for f in cores_familia.keys() if f in teste['family'].unique()]\n",
    "# cores_temp = [cores_familia[f] for f in familias] \n",
    "\n",
    "# selector\n",
    "select_family = alt.selection_multi(fields=['family'], bind='legend')\n",
    "\n",
    "# aux. variables for encoding fields\n",
    "x_labels = teste.sort_values('start_year')['start_year'].unique()\n",
    "# x_labels = [str(y).split('.')[0] for y in x_labels]\n",
    "y_max = np.ceil(max(teste['cumulative_sum'].unique()))\n",
    "\n",
    "g1 = alt.Chart(teste, title='Cumulative amount of specimen', \n",
    "               width=600, height=400).mark_line(point=True).encode(\n",
    "    x= alt.X('start_year', type=\"ordinal\", title='Ano de Coleta',\n",
    "             scale= alt.Scale(domain= x_labels)),\n",
    "    y= alt.Y('cumulative_sum', title='',\n",
    "             scale= alt.Scale(domain= [0,y_max]),\n",
    "             sort=alt.EncodingSortField('counts', op=\"count\", order='descending')),\n",
    "    color= alt.Color('family:N', title='Family',\n",
    "                     legend= alt.Legend(columns=2, symbolLimit=50),\n",
    "                     scale=alt.Scale(domain=list(cores_familia.keys()), range= list(cores_familia.values()))),\n",
    "    tooltip= alt.Tooltip(['family','start_year','counts', 'cumulative_sum']),\n",
    "#     opacity= alt.condition(select_family, alt.value(1), alt.value(0))\n",
    ").add_selection(select_family).transform_filter(select_family)\n",
    "\n",
    "g1 = g1.configure_title(fontSize=16).configure_axis(\n",
    "    labelFontSize=12,\n",
    "    titleFontSize=12\n",
    ").configure_legend(\n",
    "    labelFontSize=12,\n",
    "    titleFontSize=12\n",
    ")\n",
    "\n",
    "# g1.save('./graphs/cumCounts/family/evolucao_por_familia.html')\n",
    "g1"
   ]
  },
  {
   "cell_type": "markdown",
   "metadata": {},
   "source": [
    "<br>\n",
    "\n",
    "**The end!**\n",
    "\n",
    "-----"
   ]
  }
 ],
 "metadata": {
  "kernelspec": {
   "display_name": "Python 3",
   "language": "python",
   "name": "python3"
  },
  "language_info": {
   "codemirror_mode": {
    "name": "ipython",
    "version": 3
   },
   "file_extension": ".py",
   "mimetype": "text/x-python",
   "name": "python",
   "nbconvert_exporter": "python",
   "pygments_lexer": "ipython3",
   "version": "3.9.1"
  },
  "latex_envs": {
   "LaTeX_envs_menu_present": true,
   "autoclose": false,
   "autocomplete": true,
   "bibliofile": "biblio.bib",
   "cite_by": "apalike",
   "current_citInitial": 1,
   "eqLabelWithNumbers": true,
   "eqNumInitial": 1,
   "hotkeys": {
    "equation": "Ctrl-E",
    "itemize": "Ctrl-I"
   },
   "labels_anchors": false,
   "latex_user_defs": false,
   "report_style_numbering": false,
   "user_envs_cfg": false
  },
  "toc": {
   "base_numbering": 1,
   "nav_menu": {},
   "number_sections": false,
   "sideBar": true,
   "skip_h1_title": false,
   "title_cell": "Table of Contents",
   "title_sidebar": "Contents",
   "toc_cell": false,
   "toc_position": {},
   "toc_section_display": true,
   "toc_window_display": false
  },
  "varInspector": {
   "cols": {
    "lenName": 16,
    "lenType": 16,
    "lenVar": 40
   },
   "kernels_config": {
    "python": {
     "delete_cmd_postfix": "",
     "delete_cmd_prefix": "del ",
     "library": "var_list.py",
     "varRefreshCmd": "print(var_dic_list())"
    },
    "r": {
     "delete_cmd_postfix": ") ",
     "delete_cmd_prefix": "rm(",
     "library": "var_list.r",
     "varRefreshCmd": "cat(var_dic_list()) "
    }
   },
   "position": {
    "height": "391.35px",
    "left": "900.5px",
    "right": "20px",
    "top": "96px",
    "width": "536.5px"
   },
   "types_to_exclude": [
    "module",
    "function",
    "builtin_function_or_method",
    "instance",
    "_Feature"
   ],
   "window_display": false
  }
 },
 "nbformat": 4,
 "nbformat_minor": 2
}
