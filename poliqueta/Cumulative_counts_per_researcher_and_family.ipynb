{
 "cells": [
  {
   "cell_type": "markdown",
   "metadata": {},
   "source": [
    "# Cumulative Counts per researcher & family\n",
    "\n",
    "By **Franklin Oliveira**\n",
    "\n",
    "-----\n",
    "This notebook contains all code necessary to make the cumulative counts line charts for `poliqueta` database. Here you'll find some basic data treatment and charts' code. \n",
    "\n",
    "Database: <font color='blue'>'IBUFRJ27.07.2020 - visualização.xlsx'</font> and <font color='blue'>'MNRJP27.07.2020 - visualização.xls'</font>."
   ]
  },
  {
   "cell_type": "code",
   "execution_count": 9,
   "metadata": {
    "ExecuteTime": {
     "end_time": "2021-02-14T21:51:41.028684Z",
     "start_time": "2021-02-14T21:51:41.022702Z"
    }
   },
   "outputs": [
    {
     "data": {
      "text/plain": [
       "DataTransformerRegistry.enable('default')"
      ]
     },
     "execution_count": 9,
     "metadata": {},
     "output_type": "execute_result"
    }
   ],
   "source": [
    "import datetime\n",
    "import numpy as np\n",
    "import pandas as pd\n",
    "\n",
    "from collections import defaultdict\n",
    "\n",
    "# quick visualization\n",
    "import matplotlib.pyplot as plt\n",
    "import seaborn as sns\n",
    "\n",
    "# Waffle Charts\n",
    "# from pywaffle import Waffle \n",
    "# docs: https://pywaffle.readthedocs.io/en/latest/examples/block_shape_distance_location_and_direction.html\n",
    "\n",
    "# visualization\n",
    "import altair as alt\n",
    "\n",
    "# enabling notebook renderer\n",
    "# alt.renderers.enable('notebook')\n",
    "# alt.renderers.enable('default')\n",
    "\n",
    "# disabling rows limit\n",
    "alt.data_transformers.disable_max_rows()"
   ]
  },
  {
   "cell_type": "markdown",
   "metadata": {},
   "source": [
    "## Importing data..."
   ]
  },
  {
   "cell_type": "code",
   "execution_count": 10,
   "metadata": {
    "ExecuteTime": {
     "end_time": "2021-02-14T21:51:42.206623Z",
     "start_time": "2021-02-14T21:51:42.145222Z"
    }
   },
   "outputs": [],
   "source": [
    "NewTable = pd.read_csv('./data/merged_db.csv', sep=';', encoding='utf-8-sig')"
   ]
  },
  {
   "cell_type": "code",
   "execution_count": 23,
   "metadata": {
    "ExecuteTime": {
     "end_time": "2021-02-14T21:54:29.415234Z",
     "start_time": "2021-02-14T21:54:29.408097Z"
    }
   },
   "outputs": [],
   "source": [
    "# only this first collection database contains determination date\n",
    "ibufrj = NewTable[NewTable['catalog_number'].str.contains('IBUFRJ')].copy()"
   ]
  },
  {
   "cell_type": "code",
   "execution_count": 25,
   "metadata": {
    "ExecuteTime": {
     "end_time": "2021-02-14T21:54:47.150377Z",
     "start_time": "2021-02-14T21:54:47.130052Z"
    }
   },
   "outputs": [],
   "source": [
    "# formatando a string NaN\n",
    "NewTable['family'] = NewTable['family'].apply(lambda x: 'NaN' if x=='Nan' else x)\n",
    "\n",
    "# parsing into string\n",
    "NewTable['determiner_full_name'] = NewTable['determiner_full_name'].astype(str)"
   ]
  },
  {
   "cell_type": "code",
   "execution_count": 24,
   "metadata": {
    "ExecuteTime": {
     "end_time": "2021-02-14T21:54:44.885133Z",
     "start_time": "2021-02-14T21:54:44.872522Z"
    }
   },
   "outputs": [],
   "source": [
    "# parsing NaN into string so it's not excluded while grouping\n",
    "def convert2int(y):\n",
    "    try:\n",
    "        return int(y)\n",
    "    except:\n",
    "        return y\n",
    "    \n",
    "# NewTable['determined_year'] = NewTable['determined_year'].apply(convert2int).astype(str)  # forcing to string to keep NaNs\n",
    "NewTable['start_year'] = NewTable['start_year'].apply(convert2int).astype(str) "
   ]
  },
  {
   "cell_type": "markdown",
   "metadata": {},
   "source": [
    "<br>\n",
    "\n",
    "<font size=5>**Color Palette**</font>\n",
    "\n",
    "<div class='row' style='padding-top:20px;'>\n",
    "    <div class='col-md-6'>\n",
    "        <img src=\"./src/img1.jpg\" width='400px'>\n",
    "    </div>\n",
    "    <div class='col-md-6'>\n",
    "        <img src=\"./src/img2.jpg\" width='400px'>\n",
    "    </div>\n",
    "</div>\n",
    "\n",
    "<br>"
   ]
  },
  {
   "cell_type": "code",
   "execution_count": 26,
   "metadata": {
    "ExecuteTime": {
     "end_time": "2021-02-14T21:54:55.548964Z",
     "start_time": "2021-02-14T21:54:55.542099Z"
    }
   },
   "outputs": [],
   "source": [
    "# importing customized color palettes\n",
    "from src.MNViz_colors import *"
   ]
  },
  {
   "cell_type": "markdown",
   "metadata": {},
   "source": [
    "<br>\n",
    "\n",
    "\n",
    "## Graphs\n",
    "\n",
    "---\n",
    "\n",
    "### Creating chart: counts per determiner per year\n",
    "\n",
    "To calculate the cumulative counts, we need to consider ALL determiner's columns, in this case:\n",
    "\n",
    "    - 'determinator_full_name'\n",
    "    - 'determinator_full_name2': as I'm writing this script, it's all empty"
   ]
  },
  {
   "cell_type": "code",
   "execution_count": 39,
   "metadata": {
    "ExecuteTime": {
     "end_time": "2021-02-14T21:59:42.926676Z",
     "start_time": "2021-02-14T21:59:42.921493Z"
    }
   },
   "outputs": [],
   "source": [
    "determiner_columns = ['determiner_full_name', 'determiner_full_name1', 'determiner_full_name2']\n",
    "\n",
    "# name of all determiners (first, second and third)\n",
    "determiners = set(ibufrj['determiner_full_name'].str.strip()).union(set(ibufrj['determiner_full_name1']))\n",
    "determiners = determiners.union(set(ibufrj['determiner_full_name2']))\n",
    "# determiners = NewTable['determiner_full_name'].unique()\n",
    "\n",
    "determiners = [name for name in determiners if name != 'nan']  # removing NaN and parsing into a list"
   ]
  },
  {
   "cell_type": "code",
   "execution_count": 42,
   "metadata": {
    "ExecuteTime": {
     "end_time": "2021-02-14T21:59:56.584580Z",
     "start_time": "2021-02-14T21:59:56.497152Z"
    }
   },
   "outputs": [],
   "source": [
    "# cumulatively counting the contribution of each determiner\n",
    "result = defaultdict()\n",
    "for col in determiner_columns:\n",
    "    temp = ibufrj.groupby([col, 'determined_year']).count()['class'].reset_index().rename(columns={\n",
    "        'class':'counts'\n",
    "    })\n",
    "    \n",
    "    temp.sort_values('determined_year')\n",
    "    for det in temp[col].unique():\n",
    "        if 'nan' not in str(det):  # OBS: se precisar coletar mais informações, fazer isso AQUI!\n",
    "            cumSum = list(temp[temp[col] == det]['counts'].cumsum())\n",
    "            years = list(temp[temp[col] == det]['determined_year'])\n",
    "\n",
    "            for i in range(len(cumSum)):\n",
    "                result[f'{det}-{years[i]}'] = cumSum[i]\n",
    "                \n",
    "counts = pd.DataFrame(dict(result), index=['cumulative_sum']).transpose().reset_index()"
   ]
  },
  {
   "cell_type": "code",
   "execution_count": 54,
   "metadata": {
    "ExecuteTime": {
     "end_time": "2021-02-14T22:03:50.695566Z",
     "start_time": "2021-02-14T22:03:50.689259Z"
    }
   },
   "outputs": [],
   "source": [
    "counts['determiner_full_name'] = counts['index'].apply(lambda x:str(x).split('-')[0])\n",
    "counts['determined_year'] = counts['index'].apply(lambda x:str(x).split('-')[-1])\n",
    "\n",
    "# temporary adjustment for x-axis labels\n",
    "counts['determined_year'] = counts['determined_year'].apply(lambda x: str(x).split('.')[0])"
   ]
  },
  {
   "cell_type": "code",
   "execution_count": 59,
   "metadata": {
    "ExecuteTime": {
     "end_time": "2021-02-14T22:04:35.812190Z",
     "start_time": "2021-02-14T22:04:35.793899Z"
    },
    "scrolled": false
   },
   "outputs": [],
   "source": [
    "select = alt.selection(type='single', on='mouseover', nearest=True, fields=['determiner_full_name'])\n",
    "\n",
    "base = alt.Chart(counts, title='Cumulative contribution of each determiner', width=800,\n",
    "              height=400).mark_line(point=True).encode(\n",
    "    x= alt.X('determined_year', type=\"ordinal\", title='Determination Year'),\n",
    "    y= alt.Y('cumulative_sum', title='', \n",
    "             sort=alt.EncodingSortField('counts', op=\"count\", order='descending')),\n",
    "    color= alt.Color('determiner_full_name:N', title='', legend=None,\n",
    "                     scale= alt.Scale(scheme='warmgreys')),\n",
    ")\n",
    "\n",
    "points = base.mark_circle(size=40).encode(\n",
    "    opacity=alt.value(0.5),\n",
    "    tooltip= alt.Tooltip(['determiner_full_name','determined_year','cumulative_sum'])\n",
    ").add_selection(\n",
    "    select\n",
    ")\n",
    "\n",
    "lines = base.mark_line(point=True).encode(\n",
    "    size=alt.condition(~select, alt.value(1), alt.value(4)),\n",
    "    opacity= alt.value(1),\n",
    "#     color = alt.condition(~select, alt.value('lightgray'), alt.value('black'))\n",
    "#     tooltip= alt.Tooltip(['determinator_full_name','det_year','cumulative_sum'])\n",
    ")\n",
    "\n",
    "g1 = points + lines \n",
    "\n",
    "g1 = g1.configure_title(fontSize=16).configure_axis(\n",
    "    labelFontSize=12,\n",
    "    titleFontSize=12\n",
    ").configure_legend(\n",
    "    labelFontSize=12,\n",
    "    titleFontSize=12\n",
    ")\n",
    "\n",
    "# g1.save('./graphs/cumCounts/determiner/cumCount-per-year.html')\n",
    "\n",
    "# g1"
   ]
  },
  {
   "cell_type": "markdown",
   "metadata": {},
   "source": [
    "<br>\n",
    "\n",
    "### Collector's cumulative contribution per year\n",
    "\n",
    "To calculate the cumulative counts, we need to consider ALL collector's columns, in this case:\n",
    "\n",
    "    - 'collector_full_name'\n",
    "    - 'collector_full_name2' ... 'collector_full_name6'"
   ]
  },
  {
   "cell_type": "code",
   "execution_count": 61,
   "metadata": {
    "ExecuteTime": {
     "end_time": "2021-02-14T22:05:34.486495Z",
     "start_time": "2021-02-14T22:05:34.480180Z"
    }
   },
   "outputs": [],
   "source": [
    "collector_columns = ['collector_full_name', 'collector_full_name2', \n",
    "                     'collector_full_name3', 'collector_full_name4']\n",
    "\n",
    "# name of all collectors (first through sixth)\n",
    "collectors = set(NewTable['collector_full_name'].str.strip())\n",
    "\n",
    "for col in collector_columns[1:]:\n",
    "    collectors = collectors.union(set(NewTable[col]))\n",
    "\n",
    "collectors = [name for name in collectors if 'nan' not in str(name)]  # removing NaN and parsing into a list"
   ]
  },
  {
   "cell_type": "code",
   "execution_count": 65,
   "metadata": {
    "ExecuteTime": {
     "end_time": "2021-02-14T22:06:18.683710Z",
     "start_time": "2021-02-14T22:06:18.456766Z"
    }
   },
   "outputs": [],
   "source": [
    "# organising the yearly contribution of each collector\n",
    "result = defaultdict()\n",
    "for col in collector_columns:\n",
    "    temp = NewTable.groupby([col, 'start_year']).count()['class'].reset_index().rename(columns={\n",
    "        'class':'counts'\n",
    "    })\n",
    "    \n",
    "    temp.sort_values('start_year')\n",
    "    for collector in temp[col].unique():\n",
    "        if 'nan' not in str(collector):  # OBS: se precisar coletar mais informações, fazer isso AQUI!\n",
    "            count = list(temp[temp[col] == collector]['counts'])\n",
    "            years = list(temp[temp[col] == collector]['start_year'])\n",
    "\n",
    "            for i in range(len(count)):\n",
    "                result[f'{collector}-{years[i]}'] = count[i]\n",
    "                \n",
    "counts = pd.DataFrame(dict(result), index=['count']).transpose().reset_index()"
   ]
  },
  {
   "cell_type": "code",
   "execution_count": 70,
   "metadata": {
    "ExecuteTime": {
     "end_time": "2021-02-14T22:07:19.047228Z",
     "start_time": "2021-02-14T22:07:19.039509Z"
    }
   },
   "outputs": [],
   "source": [
    "counts['collector_full_name'] = counts['index'].apply(lambda x:str(x).split('-')[0])\n",
    "counts['start_year'] = counts['index'].apply(lambda x:str(x).split('-')[-1])\n",
    "\n",
    "# temporary adjustment for x-axis labels\n",
    "counts['start_year'] = counts['start_year'].apply(lambda x: str(x).split('.')[0])"
   ]
  },
  {
   "cell_type": "code",
   "execution_count": 72,
   "metadata": {
    "ExecuteTime": {
     "end_time": "2021-02-14T22:07:38.410318Z",
     "start_time": "2021-02-14T22:07:38.321590Z"
    }
   },
   "outputs": [],
   "source": [
    "# sorting\n",
    "counts.sort_values(['collector_full_name', 'start_year'], inplace=True)\n",
    "\n",
    "# cumulatively counting\n",
    "cumSum = []\n",
    "for collector in counts['collector_full_name'].unique():\n",
    "    cumSum.extend(list(counts[counts['collector_full_name'] == collector]['count'].cumsum()))\n",
    "\n",
    "counts['cumulative_sum'] = cumSum"
   ]
  },
  {
   "cell_type": "code",
   "execution_count": 86,
   "metadata": {
    "ExecuteTime": {
     "end_time": "2021-02-14T22:12:26.919229Z",
     "start_time": "2021-02-14T22:12:26.897996Z"
    }
   },
   "outputs": [],
   "source": [
    "select = alt.selection(type='single', on='mouseover', nearest=True, fields=['collector_full_name'])\n",
    "\n",
    "\n",
    "base = alt.Chart(counts, title='Cumulative contribution of each Collector', width=800,\n",
    "              height=400).encode(\n",
    "    x= alt.X('start_year', type=\"ordinal\", title='Sampling Year'),\n",
    "    y= alt.Y('cumulative_sum', title='', \n",
    "             sort=alt.EncodingSortField('counts', op=\"count\", order='descending')),\n",
    "    color= alt.Color('collector_full_name:N', title='', legend=None, \n",
    "                     scale= alt.Scale(scheme= 'warmgreys')),\n",
    ")\n",
    "\n",
    "points = base.mark_circle(size=40).encode(\n",
    "    opacity=alt.value(0.5),\n",
    "    tooltip= alt.Tooltip(['collector_full_name','start_year','cumulative_sum'])\n",
    ").add_selection(\n",
    "    select\n",
    ")\n",
    "\n",
    "front = base.mark_line(point=True).encode(\n",
    "    size=alt.condition(~select, alt.value(1), alt.value(4)),\n",
    "    opacity= alt.value(1),\n",
    ")\n",
    "\n",
    "g1 = points + front\n",
    "\n",
    "g1 = g1.configure_title(fontSize=16).configure_axis(\n",
    "    labelFontSize=12,\n",
    "    titleFontSize=12\n",
    ").configure_legend(\n",
    "    labelFontSize=12,\n",
    "    titleFontSize=12\n",
    ")\n",
    "\n",
    "# g1.save('./graphs/cumCounts/collector/cumCount-per-year.html')\n",
    "\n",
    "# g1"
   ]
  },
  {
   "cell_type": "markdown",
   "metadata": {},
   "source": [
    "<br>\n",
    "\n",
    "## Cumulative counts per Family\n"
   ]
  },
  {
   "cell_type": "code",
   "execution_count": 87,
   "metadata": {
    "ExecuteTime": {
     "end_time": "2021-02-14T22:12:47.085106Z",
     "start_time": "2021-02-14T22:12:47.069424Z"
    }
   },
   "outputs": [],
   "source": [
    "# grouping per Year and Family\n",
    "teste = NewTable.groupby(['start_year','family']).count()['class'].reset_index().rename(columns={\n",
    "    'class':'counts'\n",
    "})\n",
    "\n",
    "# sorting...\n",
    "teste = teste.sort_values(['family', 'start_year'])"
   ]
  },
  {
   "cell_type": "code",
   "execution_count": 88,
   "metadata": {
    "ExecuteTime": {
     "end_time": "2021-02-14T22:12:56.420577Z",
     "start_time": "2021-02-14T22:12:56.382934Z"
    }
   },
   "outputs": [],
   "source": [
    "# cumulatively counting\n",
    "cumSum = []\n",
    "for family in teste['family'].unique():\n",
    "    cumSum.extend(list(teste[teste['family'] == family]['counts'].cumsum()))\n",
    "    \n",
    "teste['cumulative_sum'] = cumSum"
   ]
  },
  {
   "cell_type": "code",
   "execution_count": 120,
   "metadata": {
    "ExecuteTime": {
     "end_time": "2021-02-14T22:32:04.579147Z",
     "start_time": "2021-02-14T22:32:04.569907Z"
    }
   },
   "outputs": [],
   "source": [
    "teste['start_year'] = teste['start_year'].apply(lambda x: str(x).split('.')[0])"
   ]
  },
  {
   "cell_type": "markdown",
   "metadata": {},
   "source": [
    "### Chart: per collected year"
   ]
  },
  {
   "cell_type": "code",
   "execution_count": 128,
   "metadata": {
    "ExecuteTime": {
     "end_time": "2021-02-14T22:32:59.842403Z",
     "start_time": "2021-02-14T22:32:59.809629Z"
    }
   },
   "outputs": [],
   "source": [
    "## filtering out some families lost while grouping\n",
    "# familias = [f for f in cores_familia.keys() if f in teste['family'].unique()]\n",
    "# cores_temp = [cores_familia[f] for f in familias] \n",
    "\n",
    "# selector\n",
    "select_family = alt.selection_multi(fields=['family'], bind='legend')\n",
    "\n",
    "# aux. variables for encoding fields\n",
    "x_labels = teste.sort_values('start_year')['start_year'].unique()\n",
    "# x_labels = [str(y).split('.')[0] for y in x_labels]\n",
    "y_max = np.ceil(max(teste['cumulative_sum'].unique()))\n",
    "\n",
    "g1 = alt.Chart(teste, title='Quantidade de exemplares por família', \n",
    "               width=600, height=400).mark_line(point=True).encode(\n",
    "    x= alt.X('start_year', type=\"ordinal\", title='Ano de Coleta',\n",
    "             scale= alt.Scale(domain= x_labels)),\n",
    "    y= alt.Y('cumulative_sum', title='',\n",
    "             scale= alt.Scale(domain= [0,y_max]),\n",
    "             sort=alt.EncodingSortField('counts', op=\"count\", order='descending')),\n",
    "    color= alt.Color('family:N', title='Familia',\n",
    "                     legend= alt.Legend(columns=2, symbolLimit=50),\n",
    "                     scale=alt.Scale(domain=list(cores_familia.keys()), range= list(cores_familia.values()))),\n",
    "    tooltip= alt.Tooltip(['family','start_year','counts', 'cumulative_sum']),\n",
    "#     opacity= alt.condition(select_family, alt.value(1), alt.value(0))\n",
    ").add_selection(select_family).transform_filter(select_family)\n",
    "\n",
    "g1 = g1.configure_title(fontSize=16).configure_axis(\n",
    "    labelFontSize=12,\n",
    "    titleFontSize=12\n",
    ").configure_legend(\n",
    "    labelFontSize=12,\n",
    "    titleFontSize=12\n",
    ")\n",
    "\n",
    "# g1.save('./graphs/cumCounts/family/evolucao_por_familia.html')\n",
    "# g1"
   ]
  },
  {
   "cell_type": "markdown",
   "metadata": {},
   "source": [
    "<br>\n",
    "\n",
    "**The end!**\n",
    "\n",
    "-----"
   ]
  }
 ],
 "metadata": {
  "kernelspec": {
   "display_name": "Python 3",
   "language": "python",
   "name": "python3"
  },
  "language_info": {
   "codemirror_mode": {
    "name": "ipython",
    "version": 3
   },
   "file_extension": ".py",
   "mimetype": "text/x-python",
   "name": "python",
   "nbconvert_exporter": "python",
   "pygments_lexer": "ipython3",
   "version": "3.9.1"
  },
  "latex_envs": {
   "LaTeX_envs_menu_present": true,
   "autoclose": false,
   "autocomplete": true,
   "bibliofile": "biblio.bib",
   "cite_by": "apalike",
   "current_citInitial": 1,
   "eqLabelWithNumbers": true,
   "eqNumInitial": 1,
   "hotkeys": {
    "equation": "Ctrl-E",
    "itemize": "Ctrl-I"
   },
   "labels_anchors": false,
   "latex_user_defs": false,
   "report_style_numbering": false,
   "user_envs_cfg": false
  },
  "toc": {
   "base_numbering": 1,
   "nav_menu": {},
   "number_sections": false,
   "sideBar": true,
   "skip_h1_title": false,
   "title_cell": "Table of Contents",
   "title_sidebar": "Contents",
   "toc_cell": false,
   "toc_position": {},
   "toc_section_display": true,
   "toc_window_display": false
  },
  "varInspector": {
   "cols": {
    "lenName": 16,
    "lenType": 16,
    "lenVar": 40
   },
   "kernels_config": {
    "python": {
     "delete_cmd_postfix": "",
     "delete_cmd_prefix": "del ",
     "library": "var_list.py",
     "varRefreshCmd": "print(var_dic_list())"
    },
    "r": {
     "delete_cmd_postfix": ") ",
     "delete_cmd_prefix": "rm(",
     "library": "var_list.r",
     "varRefreshCmd": "cat(var_dic_list()) "
    }
   },
   "position": {
    "height": "391.35px",
    "left": "900.5px",
    "right": "20px",
    "top": "96px",
    "width": "536.5px"
   },
   "types_to_exclude": [
    "module",
    "function",
    "builtin_function_or_method",
    "instance",
    "_Feature"
   ],
   "window_display": false
  }
 },
 "nbformat": 4,
 "nbformat_minor": 2
}
