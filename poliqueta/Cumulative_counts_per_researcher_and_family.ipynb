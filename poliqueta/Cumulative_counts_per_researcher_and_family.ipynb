{
 "cells": [
  {
   "cell_type": "markdown",
   "metadata": {},
   "source": [
    "# Cumulative Counts per researcher & family\n",
    "\n",
    "By **Franklin Oliveira**\n",
    "\n",
    "-----\n",
    "This notebook contains all code necessary to make the cumulative counts line charts for `poliqueta` database. Here you'll find some basic data treatment and charts' code. \n",
    "\n",
    "Database: <font color='blue'>'IBUFRJ27.07.2020 - visualização.xlsx'</font> and <font color='blue'>'MNRJP27.07.2020 - visualização.xls'</font>."
   ]
  },
  {
   "cell_type": "code",
   "execution_count": 1,
   "metadata": {
    "ExecuteTime": {
     "end_time": "2021-02-15T01:24:48.563446Z",
     "start_time": "2021-02-15T01:24:47.654840Z"
    }
   },
   "outputs": [
    {
     "data": {
      "text/plain": [
       "DataTransformerRegistry.enable('default')"
      ]
     },
     "execution_count": 1,
     "metadata": {},
     "output_type": "execute_result"
    }
   ],
   "source": [
    "import datetime\n",
    "import numpy as np\n",
    "import pandas as pd\n",
    "\n",
    "from collections import defaultdict\n",
    "\n",
    "# quick visualization\n",
    "import matplotlib.pyplot as plt\n",
    "import seaborn as sns\n",
    "\n",
    "# Waffle Charts\n",
    "# from pywaffle import Waffle \n",
    "# docs: https://pywaffle.readthedocs.io/en/latest/examples/block_shape_distance_location_and_direction.html\n",
    "\n",
    "# visualization\n",
    "import altair as alt\n",
    "\n",
    "# enabling notebook renderer\n",
    "# alt.renderers.enable('notebook')\n",
    "# alt.renderers.enable('default')\n",
    "\n",
    "# disabling rows limit\n",
    "alt.data_transformers.disable_max_rows()"
   ]
  },
  {
   "cell_type": "markdown",
   "metadata": {},
   "source": [
    "## Importing data..."
   ]
  },
  {
   "cell_type": "code",
   "execution_count": 2,
   "metadata": {
    "ExecuteTime": {
     "end_time": "2021-02-15T01:24:48.630030Z",
     "start_time": "2021-02-15T01:24:48.565280Z"
    }
   },
   "outputs": [],
   "source": [
    "NewTable = pd.read_csv('./data/merged_db.csv', sep=';', encoding='utf-8-sig')"
   ]
  },
  {
   "cell_type": "code",
   "execution_count": 3,
   "metadata": {
    "ExecuteTime": {
     "end_time": "2021-02-15T01:24:48.648511Z",
     "start_time": "2021-02-15T01:24:48.632118Z"
    }
   },
   "outputs": [],
   "source": [
    "# only this first collection database contains determination date\n",
    "ibufrj = NewTable[NewTable['catalog_number'].str.contains('IBUFRJ')].copy()"
   ]
  },
  {
   "cell_type": "code",
   "execution_count": 4,
   "metadata": {
    "ExecuteTime": {
     "end_time": "2021-02-15T01:24:48.693787Z",
     "start_time": "2021-02-15T01:24:48.650464Z"
    }
   },
   "outputs": [],
   "source": [
    "# formatting the string NaN\n",
    "NewTable['family'] = NewTable['family'].apply(lambda x: 'NaN' if x=='Nan' else x)\n",
    "\n",
    "# parsing into string\n",
    "NewTable['determiner_full_name'] = NewTable['determiner_full_name'].astype(str)"
   ]
  },
  {
   "cell_type": "code",
   "execution_count": 5,
   "metadata": {
    "ExecuteTime": {
     "end_time": "2021-02-15T01:24:48.750987Z",
     "start_time": "2021-02-15T01:24:48.697376Z"
    }
   },
   "outputs": [],
   "source": [
    "# parsing NaN into string so it's not excluded while grouping\n",
    "def convert2int(y):\n",
    "    try:\n",
    "        return int(y)\n",
    "    except:\n",
    "        return y\n",
    "    \n",
    "# NewTable['determined_year'] = NewTable['determined_year'].apply(convert2int).astype(str)  # forcing to string to keep NaNs\n",
    "NewTable['start_year'] = NewTable['start_year'].apply(convert2int).astype(str) "
   ]
  },
  {
   "cell_type": "markdown",
   "metadata": {},
   "source": [
    "<br>\n",
    "\n",
    "<font size=5>**Color Palette**</font>\n",
    "\n",
    "<!-- <div class='row' style='padding-top:20px;'>\n",
    "    <div class='col-md-6'>\n",
    "        <img src=\"./src/img1.jpg\" width='400px'>\n",
    "    </div>\n",
    "    <div class='col-md-6'>\n",
    "        <img src=\"./src/img2.jpg\" width='400px'>\n",
    "    </div>\n",
    "</div> -->\n",
    "\n",
    "<br>"
   ]
  },
  {
   "cell_type": "code",
   "execution_count": 6,
   "metadata": {
    "ExecuteTime": {
     "end_time": "2021-02-15T01:24:48.801298Z",
     "start_time": "2021-02-15T01:24:48.752966Z"
    }
   },
   "outputs": [],
   "source": [
    "# importing customized color palettes\n",
    "from src.MNViz_colors import *"
   ]
  },
  {
   "cell_type": "markdown",
   "metadata": {},
   "source": [
    "<br>\n",
    "\n",
    "\n",
    "## Graphs\n",
    "\n",
    "---\n",
    "\n",
    "### Creating chart: counts per determiner per year\n",
    "\n",
    "To calculate the cumulative counts, we need to consider ALL determiner's columns, in this case:\n",
    "\n",
    "    - 'determinator_full_name'\n",
    "    - 'determinator_full_name2': as I'm writing this script, it's all empty"
   ]
  },
  {
   "cell_type": "code",
   "execution_count": 7,
   "metadata": {
    "ExecuteTime": {
     "end_time": "2021-02-15T01:24:48.851796Z",
     "start_time": "2021-02-15T01:24:48.804707Z"
    }
   },
   "outputs": [],
   "source": [
    "determiner_columns = ['determiner_full_name', 'determiner_full_name1', 'determiner_full_name2']\n",
    "\n",
    "# name of all determiners (first, second and third)\n",
    "determiners = set(ibufrj['determiner_full_name'].str.strip()).union(set(ibufrj['determiner_full_name1']))\n",
    "determiners = determiners.union(set(ibufrj['determiner_full_name2']))\n",
    "# determiners = NewTable['determiner_full_name'].unique()\n",
    "\n",
    "determiners = [name for name in determiners if str(name) != 'nan']  # removing NaN and parsing into a list"
   ]
  },
  {
   "cell_type": "code",
   "execution_count": 62,
   "metadata": {
    "ExecuteTime": {
     "end_time": "2021-02-15T01:36:24.473018Z",
     "start_time": "2021-02-15T01:36:24.448534Z"
    }
   },
   "outputs": [],
   "source": [
    "# subsetting (p.s.: kingdom is a non-empty column used only for counting)\n",
    "df = ibufrj[[determiner_columns[0], 'determined_year', 'kingdom']].copy()\n",
    "\n",
    "# concatenating all columns into just one to make grouping per determiner and year easier\n",
    "if len(determiner_columns) > 1:\n",
    "    for det_col in determiner_columns[1:]:\n",
    "        temp = ibufrj[[det_col, 'determined_year', 'kingdom']].copy()\n",
    "        temp.columns = [determiner_columns[0], 'determined_year', 'kingdom']\n",
    "        \n",
    "        df = pd.concat([df, temp])\n",
    "        \n",
    "# parsing columns into strings so we don't lose information while grouping\n",
    "df[determiner_columns[0]] = df[determiner_columns[0]].astype(str)\n",
    "df['determined_year'] = df['determined_year'].astype(str)"
   ]
  },
  {
   "cell_type": "code",
   "execution_count": 86,
   "metadata": {
    "ExecuteTime": {
     "end_time": "2021-02-15T01:43:00.548083Z",
     "start_time": "2021-02-15T01:43:00.425566Z"
    }
   },
   "outputs": [],
   "source": [
    "# grouping\n",
    "grouped = df.groupby(['determiner_full_name', 'determined_year']).count().reset_index().rename(columns=\n",
    "                                                        {'kingdom':'count'})\n",
    "\n",
    "# sorting\n",
    "grouped.sort_values('determined_year', inplace=True)\n",
    "\n",
    "# cumulatively counting for each determiner\n",
    "counts = pd.DataFrame()\n",
    "for det in determiners:\n",
    "    temp = grouped[grouped['determiner_full_name'] == det].copy()\n",
    "    temp['cumulative_sum'] = temp['count'].cumsum()\n",
    "    \n",
    "    counts = pd.concat([counts, temp])\n",
    "    \n",
    "# grouped['cumulative_sum'] = cumCounts"
   ]
  },
  {
   "cell_type": "code",
   "execution_count": 93,
   "metadata": {
    "ExecuteTime": {
     "end_time": "2021-02-15T01:45:42.558102Z",
     "start_time": "2021-02-15T01:45:42.554449Z"
    }
   },
   "outputs": [],
   "source": [
    "# temporary adjustment for axis labels only\n",
    "counts['determined_year'] = counts['determined_year'].apply(lambda x:str(x).split('.')[0])"
   ]
  },
  {
   "cell_type": "markdown",
   "metadata": {},
   "source": [
    "## Chart: cumulative counts per determiner"
   ]
  },
  {
   "cell_type": "code",
   "execution_count": 99,
   "metadata": {
    "ExecuteTime": {
     "end_time": "2021-02-15T01:48:30.404606Z",
     "start_time": "2021-02-15T01:48:30.374080Z"
    },
    "scrolled": false
   },
   "outputs": [],
   "source": [
    "select = alt.selection(type='single', on='mouseover', nearest=True, fields=['determiner_full_name'])\n",
    "\n",
    "base = alt.Chart(counts, title='Cumulative contribution of each determiner', width=800,\n",
    "              height=400).mark_line(point=True).encode(\n",
    "    x= alt.X('determined_year', type=\"ordinal\", title='Determination Year'),\n",
    "    y= alt.Y('cumulative_sum', title='', \n",
    "             sort=alt.EncodingSortField('counts', op=\"count\", order='descending')),\n",
    "    color= alt.Color('determiner_full_name:N', title='', legend=None,\n",
    "                     scale= alt.Scale(scheme='warmgreys')),\n",
    ")\n",
    "\n",
    "points = base.mark_circle(size=40).encode(\n",
    "    opacity=alt.value(0.5),\n",
    "    tooltip= alt.Tooltip(['determiner_full_name','determined_year','count','cumulative_sum'])\n",
    ").add_selection(\n",
    "    select\n",
    ")\n",
    "\n",
    "lines = base.mark_line(point=True).encode(\n",
    "    size=alt.condition(~select, alt.value(1), alt.value(4)),\n",
    "    opacity= alt.value(1),\n",
    "#     color = alt.condition(~select, alt.value('lightgray'), alt.value('black'))\n",
    "#     tooltip= alt.Tooltip(['determinator_full_name','det_year','cumulative_sum'])\n",
    ")\n",
    "\n",
    "g1 = points + lines \n",
    "\n",
    "g1 = g1.configure_title(fontSize=16).configure_axis(\n",
    "    labelFontSize=12,\n",
    "    titleFontSize=12\n",
    ").configure_legend(\n",
    "    labelFontSize=12,\n",
    "    titleFontSize=12\n",
    ")\n",
    "\n",
    "# g1.save('./graphs/cumCounts/determiner/cumCount-per-year.html')\n",
    "\n",
    "# g1"
   ]
  },
  {
   "cell_type": "markdown",
   "metadata": {},
   "source": [
    "<br>\n",
    "\n",
    "### Collector's cumulative contribution per year\n",
    "\n",
    "To calculate the cumulative counts, we need to consider ALL collector's columns, in this case:\n",
    "\n",
    "    - 'collector_full_name'\n",
    "    - 'collector_full_name2' ... 'collector_full_name6'"
   ]
  },
  {
   "cell_type": "code",
   "execution_count": 101,
   "metadata": {
    "ExecuteTime": {
     "end_time": "2021-02-15T01:49:39.665792Z",
     "start_time": "2021-02-15T01:49:39.654394Z"
    }
   },
   "outputs": [],
   "source": [
    "collector_columns = ['collector_full_name', 'collector_full_name2', \n",
    "                     'collector_full_name3', 'collector_full_name4']\n",
    "\n",
    "# name of all collectors (first through sixth)\n",
    "collectors = set(NewTable['collector_full_name'].str.strip())\n",
    "\n",
    "for col in collector_columns[1:]:\n",
    "    collectors = collectors.union(set(NewTable[col]))\n",
    "\n",
    "collectors = [name for name in collectors if 'nan' not in str(name)]  # removing NaN and parsing into a list"
   ]
  },
  {
   "cell_type": "code",
   "execution_count": 104,
   "metadata": {
    "ExecuteTime": {
     "end_time": "2021-02-15T01:51:01.951865Z",
     "start_time": "2021-02-15T01:51:01.930974Z"
    }
   },
   "outputs": [],
   "source": [
    "# subsetting (p.s.: kingdom is a non-empty column used only for counting)\n",
    "df = NewTable[[collector_columns[0], 'start_year', 'kingdom']].copy()\n",
    "\n",
    "# concatenating all columns into just one to make grouping per determiner and year easier\n",
    "if len(collector_columns) > 1:\n",
    "    for col in collector_columns[1:]:\n",
    "        temp = NewTable[[col, 'start_year', 'kingdom']].copy()\n",
    "        temp.columns = [collector_columns[0], 'start_year', 'kingdom']\n",
    "        \n",
    "        df = pd.concat([df, temp])\n",
    "        \n",
    "# parsing columns into strings so we don't lose information while grouping\n",
    "df[collector_columns[0]] = df[collector_columns[0]].astype(str)\n",
    "df['start_year'] = df['start_year'].astype(str)"
   ]
  },
  {
   "cell_type": "code",
   "execution_count": 114,
   "metadata": {
    "ExecuteTime": {
     "end_time": "2021-02-15T01:54:39.409587Z",
     "start_time": "2021-02-15T01:54:39.014912Z"
    }
   },
   "outputs": [],
   "source": [
    "# grouping\n",
    "grouped = df.groupby([collector_columns[0], 'start_year']).count().reset_index().rename(columns=\n",
    "                                                        {'kingdom':'count'})\n",
    "\n",
    "# sorting\n",
    "grouped.sort_values('start_year', inplace=True)\n",
    "\n",
    "# cumulatively counting for each determiner\n",
    "counts = pd.DataFrame()\n",
    "for col in collectors:\n",
    "    temp = grouped[grouped[collector_columns[0]] == col].copy()\n",
    "    temp['cumulative_sum'] = temp['count'].cumsum()\n",
    "    \n",
    "    counts = pd.concat([counts, temp])\n",
    "    \n",
    "# grouped['cumulative_sum'] = cumCounts"
   ]
  },
  {
   "cell_type": "code",
   "execution_count": 115,
   "metadata": {
    "ExecuteTime": {
     "end_time": "2021-02-15T01:54:40.766022Z",
     "start_time": "2021-02-15T01:54:40.762347Z"
    }
   },
   "outputs": [],
   "source": [
    "# temporary adjustment for axis labels only\n",
    "counts['start_year'] = counts['start_year'].apply(lambda x:str(x).split('.')[0])"
   ]
  },
  {
   "cell_type": "markdown",
   "metadata": {},
   "source": [
    "### Chart: cumulative counts per collector"
   ]
  },
  {
   "cell_type": "code",
   "execution_count": 123,
   "metadata": {
    "ExecuteTime": {
     "end_time": "2021-02-15T01:58:27.196471Z",
     "start_time": "2021-02-15T01:58:27.166457Z"
    }
   },
   "outputs": [],
   "source": [
    "select = alt.selection(type='single', on='mouseover', nearest=True, fields=['collector_full_name'])\n",
    "\n",
    "\n",
    "base = alt.Chart(counts, title='Cumulative contribution of each Collector', width=800,\n",
    "              height=400).encode(\n",
    "    x= alt.X('start_year', type=\"ordinal\", title='Sampling Year'),\n",
    "    y= alt.Y('cumulative_sum', title='', \n",
    "             sort=alt.EncodingSortField('counts', op=\"count\", order='descending')),\n",
    "    color= alt.Color('collector_full_name:N', title='', legend=None, \n",
    "                     scale= alt.Scale(scheme= 'warmgreys')),\n",
    ")\n",
    "\n",
    "points = base.mark_circle(size=40).encode(\n",
    "    opacity=alt.value(0.5),\n",
    "    tooltip= alt.Tooltip(['collector_full_name','start_year','count','cumulative_sum'])\n",
    ").add_selection(\n",
    "    select\n",
    ")\n",
    "\n",
    "front = base.mark_line(point=True).encode(\n",
    "    size=alt.condition(~select, alt.value(1), alt.value(4)),\n",
    "    opacity= alt.value(1),\n",
    ")\n",
    "\n",
    "g1 = points + front\n",
    "\n",
    "g1 = g1.configure_title(fontSize=16).configure_axis(\n",
    "    labelFontSize=12,\n",
    "    titleFontSize=12\n",
    ").configure_legend(\n",
    "    labelFontSize=12,\n",
    "    titleFontSize=12\n",
    ")\n",
    "\n",
    "# g1.save('./graphs/cumCounts/collector/cumCount-per-year.html')\n",
    "\n",
    "# g1"
   ]
  },
  {
   "cell_type": "markdown",
   "metadata": {},
   "source": [
    "<br>\n",
    "\n",
    "## Cumulative counts per Family\n"
   ]
  },
  {
   "cell_type": "code",
   "execution_count": 124,
   "metadata": {
    "ExecuteTime": {
     "end_time": "2021-02-15T01:59:00.454147Z",
     "start_time": "2021-02-15T01:59:00.428260Z"
    }
   },
   "outputs": [],
   "source": [
    "# grouping per Year and Family\n",
    "teste = NewTable.groupby(['start_year','family']).count()['class'].reset_index().rename(columns={\n",
    "    'class':'counts'\n",
    "})\n",
    "\n",
    "# sorting...\n",
    "teste = teste.sort_values(['family', 'start_year'])"
   ]
  },
  {
   "cell_type": "code",
   "execution_count": 125,
   "metadata": {
    "ExecuteTime": {
     "end_time": "2021-02-15T01:59:00.823005Z",
     "start_time": "2021-02-15T01:59:00.770670Z"
    }
   },
   "outputs": [],
   "source": [
    "# cumulatively counting\n",
    "cumSum = []\n",
    "for family in teste['family'].unique():\n",
    "    cumSum.extend(list(teste[teste['family'] == family]['counts'].cumsum()))\n",
    "    \n",
    "teste['cumulative_sum'] = cumSum"
   ]
  },
  {
   "cell_type": "code",
   "execution_count": 126,
   "metadata": {
    "ExecuteTime": {
     "end_time": "2021-02-15T01:59:01.368954Z",
     "start_time": "2021-02-15T01:59:01.361523Z"
    }
   },
   "outputs": [],
   "source": [
    "teste['start_year'] = teste['start_year'].apply(lambda x: str(x).split('.')[0])"
   ]
  },
  {
   "cell_type": "markdown",
   "metadata": {},
   "source": [
    "### Chart: per collected year"
   ]
  },
  {
   "cell_type": "code",
   "execution_count": 134,
   "metadata": {
    "ExecuteTime": {
     "end_time": "2021-02-15T02:00:38.491622Z",
     "start_time": "2021-02-15T02:00:38.459157Z"
    }
   },
   "outputs": [],
   "source": [
    "## filtering out some families lost while grouping\n",
    "# familias = [f for f in cores_familia.keys() if f in teste['family'].unique()]\n",
    "# cores_temp = [cores_familia[f] for f in familias] \n",
    "\n",
    "# selector\n",
    "select_family = alt.selection_multi(fields=['family'], bind='legend')\n",
    "\n",
    "# aux. variables for encoding fields\n",
    "x_labels = teste.sort_values('start_year')['start_year'].unique()\n",
    "# x_labels = [str(y).split('.')[0] for y in x_labels]\n",
    "y_max = np.ceil(max(teste['cumulative_sum'].unique()))\n",
    "\n",
    "g1 = alt.Chart(teste, title='Cumulative amount of specimens per family', \n",
    "               width=600, height=400).mark_line(point=True).encode(\n",
    "    x= alt.X('start_year', type=\"ordinal\", title='Sampling Year',\n",
    "             scale= alt.Scale(domain= x_labels)),\n",
    "    y= alt.Y('cumulative_sum', title='',\n",
    "             scale= alt.Scale(domain= [0,y_max]),\n",
    "             sort=alt.EncodingSortField('counts', op=\"count\", order='descending')),\n",
    "    color= alt.Color('family:N', title='Family',\n",
    "                     legend= alt.Legend(columns=2, symbolLimit=50),\n",
    "                     scale=alt.Scale(domain=list(cores_familia.keys()), range= list(cores_familia.values()))),\n",
    "    tooltip= alt.Tooltip(['family','start_year','counts', 'cumulative_sum']),\n",
    "#     opacity= alt.condition(select_family, alt.value(1), alt.value(0))\n",
    ").add_selection(select_family).transform_filter(select_family)\n",
    "\n",
    "g1 = g1.configure_title(fontSize=16).configure_axis(\n",
    "    labelFontSize=12,\n",
    "    titleFontSize=12\n",
    ").configure_legend(\n",
    "    labelFontSize=12,\n",
    "    titleFontSize=12\n",
    ")\n",
    "\n",
    "# g1.save('./graphs/cumCounts/family/temporal_evolution_per_family.html')\n",
    "# g1"
   ]
  },
  {
   "cell_type": "markdown",
   "metadata": {},
   "source": [
    "<br>\n",
    "\n",
    "**The end!**\n",
    "\n",
    "-----"
   ]
  }
 ],
 "metadata": {
  "kernelspec": {
   "display_name": "Python 3",
   "language": "python",
   "name": "python3"
  },
  "language_info": {
   "codemirror_mode": {
    "name": "ipython",
    "version": 3
   },
   "file_extension": ".py",
   "mimetype": "text/x-python",
   "name": "python",
   "nbconvert_exporter": "python",
   "pygments_lexer": "ipython3",
   "version": "3.9.1"
  },
  "latex_envs": {
   "LaTeX_envs_menu_present": true,
   "autoclose": false,
   "autocomplete": true,
   "bibliofile": "biblio.bib",
   "cite_by": "apalike",
   "current_citInitial": 1,
   "eqLabelWithNumbers": true,
   "eqNumInitial": 1,
   "hotkeys": {
    "equation": "Ctrl-E",
    "itemize": "Ctrl-I"
   },
   "labels_anchors": false,
   "latex_user_defs": false,
   "report_style_numbering": false,
   "user_envs_cfg": false
  },
  "toc": {
   "base_numbering": 1,
   "nav_menu": {},
   "number_sections": false,
   "sideBar": true,
   "skip_h1_title": false,
   "title_cell": "Table of Contents",
   "title_sidebar": "Contents",
   "toc_cell": false,
   "toc_position": {},
   "toc_section_display": true,
   "toc_window_display": false
  },
  "varInspector": {
   "cols": {
    "lenName": 16,
    "lenType": 16,
    "lenVar": 40
   },
   "kernels_config": {
    "python": {
     "delete_cmd_postfix": "",
     "delete_cmd_prefix": "del ",
     "library": "var_list.py",
     "varRefreshCmd": "print(var_dic_list())"
    },
    "r": {
     "delete_cmd_postfix": ") ",
     "delete_cmd_prefix": "rm(",
     "library": "var_list.r",
     "varRefreshCmd": "cat(var_dic_list()) "
    }
   },
   "position": {
    "height": "391.35px",
    "left": "900.5px",
    "right": "20px",
    "top": "96px",
    "width": "536.5px"
   },
   "types_to_exclude": [
    "module",
    "function",
    "builtin_function_or_method",
    "instance",
    "_Feature"
   ],
   "window_display": false
  }
 },
 "nbformat": 4,
 "nbformat_minor": 2
}
