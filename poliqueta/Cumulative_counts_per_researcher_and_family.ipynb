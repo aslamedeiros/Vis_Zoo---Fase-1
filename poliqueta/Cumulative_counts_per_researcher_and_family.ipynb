{
 "cells": [
  {
   "cell_type": "markdown",
   "metadata": {},
   "source": [
    "# Cumulative Counts per researcher & family\n",
    "\n",
    "By **Franklin Oliveira**\n",
    "\n",
    "-----\n",
    "This notebook contains all code necessary to make the cumulative counts line charts for `poliqueta` database. Here you'll find some basic data treatment and charts' code. \n",
    "\n",
    "Database: <font color='blue'>'IBUFRJ27.07.2020 - visualização.xlsx'</font> and <font color='blue'>'MNRJP27.07.2020 - visualização.xls'</font>."
   ]
  },
  {
   "cell_type": "code",
   "execution_count": 1,
   "metadata": {
    "ExecuteTime": {
     "end_time": "2021-02-14T22:51:38.458562Z",
     "start_time": "2021-02-14T22:51:37.781445Z"
    }
   },
   "outputs": [
    {
     "data": {
      "text/plain": [
       "DataTransformerRegistry.enable('default')"
      ]
     },
     "execution_count": 1,
     "metadata": {},
     "output_type": "execute_result"
    }
   ],
   "source": [
    "import datetime\n",
    "import numpy as np\n",
    "import pandas as pd\n",
    "\n",
    "from collections import defaultdict\n",
    "\n",
    "# quick visualization\n",
    "import matplotlib.pyplot as plt\n",
    "import seaborn as sns\n",
    "\n",
    "# Waffle Charts\n",
    "# from pywaffle import Waffle \n",
    "# docs: https://pywaffle.readthedocs.io/en/latest/examples/block_shape_distance_location_and_direction.html\n",
    "\n",
    "# visualization\n",
    "import altair as alt\n",
    "\n",
    "# enabling notebook renderer\n",
    "# alt.renderers.enable('notebook')\n",
    "# alt.renderers.enable('default')\n",
    "\n",
    "# disabling rows limit\n",
    "alt.data_transformers.disable_max_rows()"
   ]
  },
  {
   "cell_type": "markdown",
   "metadata": {},
   "source": [
    "## Importing data..."
   ]
  },
  {
   "cell_type": "code",
   "execution_count": 2,
   "metadata": {
    "ExecuteTime": {
     "end_time": "2021-02-14T22:51:38.504013Z",
     "start_time": "2021-02-14T22:51:38.460098Z"
    }
   },
   "outputs": [],
   "source": [
    "NewTable = pd.read_csv('./data/merged_db.csv', sep=';', encoding='utf-8-sig')"
   ]
  },
  {
   "cell_type": "code",
   "execution_count": 3,
   "metadata": {
    "ExecuteTime": {
     "end_time": "2021-02-14T22:51:38.514065Z",
     "start_time": "2021-02-14T22:51:38.505916Z"
    }
   },
   "outputs": [],
   "source": [
    "# only this first collection database contains determination date\n",
    "ibufrj = NewTable[NewTable['catalog_number'].str.contains('IBUFRJ')].copy()"
   ]
  },
  {
   "cell_type": "code",
   "execution_count": 4,
   "metadata": {
    "ExecuteTime": {
     "end_time": "2021-02-14T22:51:38.574730Z",
     "start_time": "2021-02-14T22:51:38.515873Z"
    }
   },
   "outputs": [],
   "source": [
    "# formatando a string NaN\n",
    "NewTable['family'] = NewTable['family'].apply(lambda x: 'NaN' if x=='Nan' else x)\n",
    "\n",
    "# parsing into string\n",
    "NewTable['determiner_full_name'] = NewTable['determiner_full_name'].astype(str)"
   ]
  },
  {
   "cell_type": "code",
   "execution_count": 5,
   "metadata": {
    "ExecuteTime": {
     "end_time": "2021-02-14T22:51:38.631797Z",
     "start_time": "2021-02-14T22:51:38.578062Z"
    }
   },
   "outputs": [],
   "source": [
    "# parsing NaN into string so it's not excluded while grouping\n",
    "def convert2int(y):\n",
    "    try:\n",
    "        return int(y)\n",
    "    except:\n",
    "        return y\n",
    "    \n",
    "# NewTable['determined_year'] = NewTable['determined_year'].apply(convert2int).astype(str)  # forcing to string to keep NaNs\n",
    "NewTable['start_year'] = NewTable['start_year'].apply(convert2int).astype(str) "
   ]
  },
  {
   "cell_type": "markdown",
   "metadata": {},
   "source": [
    "<br>\n",
    "\n",
    "<font size=5>**Color Palette**</font>\n",
    "\n",
    "<div class='row' style='padding-top:20px;'>\n",
    "    <div class='col-md-6'>\n",
    "        <img src=\"./src/img1.jpg\" width='400px'>\n",
    "    </div>\n",
    "    <div class='col-md-6'>\n",
    "        <img src=\"./src/img2.jpg\" width='400px'>\n",
    "    </div>\n",
    "</div>\n",
    "\n",
    "<br>"
   ]
  },
  {
   "cell_type": "code",
   "execution_count": 6,
   "metadata": {
    "ExecuteTime": {
     "end_time": "2021-02-14T22:51:38.677321Z",
     "start_time": "2021-02-14T22:51:38.633363Z"
    }
   },
   "outputs": [],
   "source": [
    "# importing customized color palettes\n",
    "from src.MNViz_colors import *"
   ]
  },
  {
   "cell_type": "markdown",
   "metadata": {},
   "source": [
    "<br>\n",
    "\n",
    "\n",
    "## Graphs\n",
    "\n",
    "---\n",
    "\n",
    "### Creating chart: counts per determiner per year\n",
    "\n",
    "To calculate the cumulative counts, we need to consider ALL determiner's columns, in this case:\n",
    "\n",
    "    - 'determinator_full_name'\n",
    "    - 'determinator_full_name2': as I'm writing this script, it's all empty"
   ]
  },
  {
   "cell_type": "code",
   "execution_count": 13,
   "metadata": {
    "ExecuteTime": {
     "end_time": "2021-02-15T01:21:32.887798Z",
     "start_time": "2021-02-15T01:21:32.881436Z"
    }
   },
   "outputs": [],
   "source": [
    "determiner_columns = ['determiner_full_name', 'determiner_full_name1', 'determiner_full_name2']\n",
    "\n",
    "# name of all determiners (first, second and third)\n",
    "determiners = set(ibufrj['determiner_full_name'].str.strip()).union(set(ibufrj['determiner_full_name1']))\n",
    "determiners = determiners.union(set(ibufrj['determiner_full_name2']))\n",
    "# determiners = NewTable['determiner_full_name'].unique()\n",
    "\n",
    "determiners = [name for name in determiners if str(name) != 'nan']  # removing NaN and parsing into a list"
   ]
  },
  {
   "cell_type": "code",
   "execution_count": 8,
   "metadata": {
    "ExecuteTime": {
     "end_time": "2021-02-14T22:51:38.880574Z",
     "start_time": "2021-02-14T22:51:38.751380Z"
    }
   },
   "outputs": [],
   "source": [
    "# cumulatively counting the contribution of each determiner\n",
    "result = defaultdict()\n",
    "for col in determiner_columns:\n",
    "    temp = ibufrj.groupby([col, 'determined_year']).count()['class'].reset_index().rename(columns={\n",
    "        'class':'counts'\n",
    "    })\n",
    "    \n",
    "    temp.sort_values('determined_year')\n",
    "    for det in temp[col].unique():\n",
    "        if 'nan' not in str(det):  # OBS: se precisar coletar mais informações, fazer isso AQUI!\n",
    "            cumSum = list(temp[temp[col] == det]['counts'].cumsum())\n",
    "            years = list(temp[temp[col] == det]['determined_year'])\n",
    "\n",
    "            for i in range(len(cumSum)):\n",
    "                result[f'{det}-{years[i]}'] = cumSum[i]\n",
    "                \n",
    "counts = pd.DataFrame(dict(result), index=['count']).transpose().reset_index()"
   ]
  },
  {
   "cell_type": "code",
   "execution_count": 9,
   "metadata": {
    "ExecuteTime": {
     "end_time": "2021-02-14T22:51:38.887342Z",
     "start_time": "2021-02-14T22:51:38.882559Z"
    }
   },
   "outputs": [],
   "source": [
    "counts['determiner_full_name'] = counts['index'].apply(lambda x:str(x).split('-')[0])\n",
    "counts['determined_year'] = counts['index'].apply(lambda x:str(x).split('-')[-1])\n",
    "\n",
    "# temporary adjustment for x-axis labels\n",
    "counts['determined_year'] = counts['determined_year'].apply(lambda x: str(x).split('.')[0])"
   ]
  },
  {
   "cell_type": "code",
   "execution_count": 10,
   "metadata": {
    "ExecuteTime": {
     "end_time": "2021-02-14T22:51:39.004643Z",
     "start_time": "2021-02-14T22:51:38.888474Z"
    }
   },
   "outputs": [],
   "source": [
    "# sorting\n",
    "counts.sort_values(['determiner_full_name', 'determined_year'], inplace=True)\n",
    "\n",
    "# cumulatively counting\n",
    "cumSum = []\n",
    "for collector in counts['determiner_full_name'].unique():\n",
    "    cumSum.extend(list(counts[counts['determiner_full_name'] == collector]['count'].cumsum()))\n",
    "\n",
    "counts['cumulative_sum'] = cumSum"
   ]
  },
  {
   "cell_type": "code",
   "execution_count": 14,
   "metadata": {
    "ExecuteTime": {
     "end_time": "2021-02-15T01:21:35.914938Z",
     "start_time": "2021-02-15T01:21:35.907990Z"
    }
   },
   "outputs": [
    {
     "data": {
      "text/plain": [
       "['Paulo C. Lana',\n",
       " 'Bruna T. Faro',\n",
       " 'Joao M. Nogueira',\n",
       " 'Fredrik J. Pleijel',\n",
       " 'Raquel M. Berlandi',\n",
       " 'Pedro H. Lima',\n",
       " 'Monique C. Santos',\n",
       " 'Ana C. Brasil',\n",
       " 'Daniel',\n",
       " 'Beatriz Bomfim',\n",
       " 'Cinthya S. Santos',\n",
       " 'Thauane D. Silva',\n",
       " 'Elisa M. Paiva',\n",
       " 'Vasily I. Radashevsky',\n",
       " 'Sergio Joziel',\n",
       " 'Mariana V. Gonçalves',\n",
       " 'Joziel',\n",
       " 'Sergio',\n",
       " 'Carolina Paiva',\n",
       " 'Vinicius D. Miranda',\n",
       " 'Gustavo M. Souza',\n",
       " 'Leticia Barbosa',\n",
       " 'Werner Brandão',\n",
       " 'Matheus Vivan',\n",
       " 'Marcelo B. Rocha',\n",
       " 'Victor C. Seixas',\n",
       " 'Nury E. Riascos',\n",
       " 'Thauane Silva',\n",
       " 'Joana Zanol',\n",
       " 'Werner F. Brandao',\n",
       " 'Natalia M. Souto',\n",
       " 'Gisele E. Occhioni',\n",
       " 'Paulo C. Paiva',\n",
       " 'Andre R. Garraffoni',\n",
       " 'Priscilla M. Garcia',\n",
       " 'Anja Schulze',\n",
       " 'Wagner F. Magalhaes',\n",
       " 'Andre M. Lanna',\n",
       " 'Leonardo F. Silva',\n",
       " 'Brener',\n",
       " 'Andre H. Pinto',\n",
       " 'Pat Hutchings',\n",
       " 'Romulo B. Baptista',\n",
       " 'Christine Ruta',\n",
       " 'Elinia M. Lopes',\n",
       " 'Bianca F. Silva',\n",
       " 'Edmundo F. Nonato',\n",
       " 'Susie Subrinho',\n",
       " 'Rômulo B. Baptista',\n",
       " 'Antonia C. Amaral',\n",
       " 'Tito C. Almeida',\n",
       " 'Fabiano d. Attolini']"
      ]
     },
     "execution_count": 14,
     "metadata": {},
     "output_type": "execute_result"
    }
   ],
   "source": []
  },
  {
   "cell_type": "markdown",
   "metadata": {},
   "source": [
    "<br>\n",
    "\n",
    "<font color='red' size=5>OBS: REVISAR ESSAS CONTAGENS. devo estar agregando e somando o acumulado duas vezes</font>"
   ]
  },
  {
   "cell_type": "code",
   "execution_count": 11,
   "metadata": {
    "ExecuteTime": {
     "end_time": "2021-02-14T22:51:40.378618Z",
     "start_time": "2021-02-14T22:51:40.319737Z"
    },
    "scrolled": false
   },
   "outputs": [
    {
     "data": {
      "text/html": [
       "\n",
       "<div id=\"altair-viz-2a25904d62804f8f8fe19f5f9cf72f88\"></div>\n",
       "<script type=\"text/javascript\">\n",
       "  (function(spec, embedOpt){\n",
       "    let outputDiv = document.currentScript.previousElementSibling;\n",
       "    if (outputDiv.id !== \"altair-viz-2a25904d62804f8f8fe19f5f9cf72f88\") {\n",
       "      outputDiv = document.getElementById(\"altair-viz-2a25904d62804f8f8fe19f5f9cf72f88\");\n",
       "    }\n",
       "    const paths = {\n",
       "      \"vega\": \"https://cdn.jsdelivr.net/npm//vega@5?noext\",\n",
       "      \"vega-lib\": \"https://cdn.jsdelivr.net/npm//vega-lib?noext\",\n",
       "      \"vega-lite\": \"https://cdn.jsdelivr.net/npm//vega-lite@4.8.1?noext\",\n",
       "      \"vega-embed\": \"https://cdn.jsdelivr.net/npm//vega-embed@6?noext\",\n",
       "    };\n",
       "\n",
       "    function loadScript(lib) {\n",
       "      return new Promise(function(resolve, reject) {\n",
       "        var s = document.createElement('script');\n",
       "        s.src = paths[lib];\n",
       "        s.async = true;\n",
       "        s.onload = () => resolve(paths[lib]);\n",
       "        s.onerror = () => reject(`Error loading script: ${paths[lib]}`);\n",
       "        document.getElementsByTagName(\"head\")[0].appendChild(s);\n",
       "      });\n",
       "    }\n",
       "\n",
       "    function showError(err) {\n",
       "      outputDiv.innerHTML = `<div class=\"error\" style=\"color:red;\">${err}</div>`;\n",
       "      throw err;\n",
       "    }\n",
       "\n",
       "    function displayChart(vegaEmbed) {\n",
       "      vegaEmbed(outputDiv, spec, embedOpt)\n",
       "        .catch(err => showError(`Javascript Error: ${err.message}<br>This usually means there's a typo in your chart specification. See the javascript console for the full traceback.`));\n",
       "    }\n",
       "\n",
       "    if(typeof define === \"function\" && define.amd) {\n",
       "      requirejs.config({paths});\n",
       "      require([\"vega-embed\"], displayChart, err => showError(`Error loading script: ${err.message}`));\n",
       "    } else if (typeof vegaEmbed === \"function\") {\n",
       "      displayChart(vegaEmbed);\n",
       "    } else {\n",
       "      loadScript(\"vega\")\n",
       "        .then(() => loadScript(\"vega-lite\"))\n",
       "        .then(() => loadScript(\"vega-embed\"))\n",
       "        .catch(showError)\n",
       "        .then(() => displayChart(vegaEmbed));\n",
       "    }\n",
       "  })({\"config\": {\"view\": {\"continuousWidth\": 400, \"continuousHeight\": 300}, \"axis\": {\"labelFontSize\": 12, \"titleFontSize\": 12}, \"legend\": {\"labelFontSize\": 12, \"titleFontSize\": 12}, \"title\": {\"fontSize\": 16}}, \"layer\": [{\"mark\": {\"type\": \"circle\", \"size\": 40}, \"encoding\": {\"color\": {\"type\": \"nominal\", \"field\": \"determiner_full_name\", \"legend\": null, \"scale\": {\"scheme\": \"warmgreys\"}, \"title\": \"\"}, \"opacity\": {\"value\": 0.5}, \"tooltip\": [{\"type\": \"nominal\", \"field\": \"determiner_full_name\"}, {\"type\": \"nominal\", \"field\": \"determined_year\"}, {\"type\": \"quantitative\", \"field\": \"cumulative_sum\"}], \"x\": {\"type\": \"ordinal\", \"field\": \"determined_year\", \"title\": \"Determination Year\"}, \"y\": {\"type\": \"quantitative\", \"field\": \"cumulative_sum\", \"sort\": {\"field\": \"counts\", \"op\": \"count\", \"order\": \"descending\"}, \"title\": \"\"}}, \"height\": 400, \"selection\": {\"selector001\": {\"type\": \"single\", \"on\": \"mouseover\", \"nearest\": true, \"fields\": [\"determiner_full_name\"]}}, \"title\": \"Cumulative contribution of each determiner\", \"width\": 800}, {\"mark\": {\"type\": \"line\", \"point\": true}, \"encoding\": {\"color\": {\"type\": \"nominal\", \"field\": \"determiner_full_name\", \"legend\": null, \"scale\": {\"scheme\": \"warmgreys\"}, \"title\": \"\"}, \"opacity\": {\"value\": 1}, \"size\": {\"condition\": {\"value\": 1, \"selection\": {\"not\": \"selector001\"}}, \"value\": 4}, \"x\": {\"type\": \"ordinal\", \"field\": \"determined_year\", \"title\": \"Determination Year\"}, \"y\": {\"type\": \"quantitative\", \"field\": \"cumulative_sum\", \"sort\": {\"field\": \"counts\", \"op\": \"count\", \"order\": \"descending\"}, \"title\": \"\"}}, \"height\": 400, \"title\": \"Cumulative contribution of each determiner\", \"width\": 800}], \"data\": {\"name\": \"data-b5948055b481a1bb59ddc6bcc4a24064\"}, \"$schema\": \"https://vega.github.io/schema/vega-lite/v4.8.1.json\", \"datasets\": {\"data-b5948055b481a1bb59ddc6bcc4a24064\": [{\"index\": \"Ana C. Brasil-2012.0\", \"count\": 17, \"determiner_full_name\": \"Ana C. Brasil\", \"determined_year\": \"2012\", \"cumulative_sum\": 17}, {\"index\": \"Andre M. Lanna-2013.0\", \"count\": 1, \"determiner_full_name\": \"Andre M. Lanna\", \"determined_year\": \"2013\", \"cumulative_sum\": 1}, {\"index\": \"Andre R. Garraffoni-2003.0\", \"count\": 7, \"determiner_full_name\": \"Andre R. Garraffoni\", \"determined_year\": \"2003\", \"cumulative_sum\": 7}, {\"index\": \"Anja Schulze-2011.0\", \"count\": 2, \"determiner_full_name\": \"Anja Schulze\", \"determined_year\": \"2011\", \"cumulative_sum\": 2}, {\"index\": \"Anja Schulze-2012.0\", \"count\": 6, \"determiner_full_name\": \"Anja Schulze\", \"determined_year\": \"2012\", \"cumulative_sum\": 8}, {\"index\": \"Antonia C. Amaral-2013.0\", \"count\": 1, \"determiner_full_name\": \"Antonia C. Amaral\", \"determined_year\": \"2013\", \"cumulative_sum\": 1}, {\"index\": \"Beatriz Bomfim-2001.0\", \"count\": 1, \"determiner_full_name\": \"Beatriz Bomfim\", \"determined_year\": \"2001\", \"cumulative_sum\": 1}, {\"index\": \"Beatriz Bomfim-2002.0\", \"count\": 3, \"determiner_full_name\": \"Beatriz Bomfim\", \"determined_year\": \"2002\", \"cumulative_sum\": 4}, {\"index\": \"Brener-2011.0\", \"count\": 3, \"determiner_full_name\": \"Brener\", \"determined_year\": \"2011\", \"cumulative_sum\": 3}, {\"index\": \"Bruna T. Faro-2008.0\", \"count\": 1, \"determiner_full_name\": \"Bruna T. Faro\", \"determined_year\": \"2008\", \"cumulative_sum\": 1}, {\"index\": \"Bruna T. Faro-2011.0\", \"count\": 957, \"determiner_full_name\": \"Bruna T. Faro\", \"determined_year\": \"2011\", \"cumulative_sum\": 958}, {\"index\": \"Carolina Paiva-2011.0\", \"count\": 3, \"determiner_full_name\": \"Carolina Paiva\", \"determined_year\": \"2011\", \"cumulative_sum\": 3}, {\"index\": \"Carolina Paiva-2012.0\", \"count\": 6, \"determiner_full_name\": \"Carolina Paiva\", \"determined_year\": \"2012\", \"cumulative_sum\": 9}, {\"index\": \"Christine Ruta-1998.0\", \"count\": 2, \"determiner_full_name\": \"Christine Ruta\", \"determined_year\": \"1998\", \"cumulative_sum\": 2}, {\"index\": \"Daniel-2009.0\", \"count\": 1, \"determiner_full_name\": \"Daniel\", \"determined_year\": \"2009\", \"cumulative_sum\": 1}, {\"index\": \"Edmundo F. Nonato-1991.0\", \"count\": 4, \"determiner_full_name\": \"Edmundo F. Nonato\", \"determined_year\": \"1991\", \"cumulative_sum\": 4}, {\"index\": \"Elinia M. Lopes-2012.0\", \"count\": 2, \"determiner_full_name\": \"Elinia M. Lopes\", \"determined_year\": \"2012\", \"cumulative_sum\": 2}, {\"index\": \"Elinia M. Lopes-2014.0\", \"count\": 1, \"determiner_full_name\": \"Elinia M. Lopes\", \"determined_year\": \"2014\", \"cumulative_sum\": 3}, {\"index\": \"Elisa M. Paiva-2002.0\", \"count\": 1, \"determiner_full_name\": \"Elisa M. Paiva\", \"determined_year\": \"2002\", \"cumulative_sum\": 1}, {\"index\": \"Elisa M. Paiva-2003.0\", \"count\": 15, \"determiner_full_name\": \"Elisa M. Paiva\", \"determined_year\": \"2003\", \"cumulative_sum\": 16}, {\"index\": \"Fabiano d. Attolini-1998.0\", \"count\": 3, \"determiner_full_name\": \"Fabiano d. Attolini\", \"determined_year\": \"1998\", \"cumulative_sum\": 3}, {\"index\": \"Fabiano d. Attolini-1999.0\", \"count\": 6, \"determiner_full_name\": \"Fabiano d. Attolini\", \"determined_year\": \"1999\", \"cumulative_sum\": 9}, {\"index\": \"Fredrik J. Pleijel-1986.0\", \"count\": 1, \"determiner_full_name\": \"Fredrik J. Pleijel\", \"determined_year\": \"1986\", \"cumulative_sum\": 1}, {\"index\": \"Fredrik J. Pleijel-1993.0\", \"count\": 2, \"determiner_full_name\": \"Fredrik J. Pleijel\", \"determined_year\": \"1993\", \"cumulative_sum\": 3}, {\"index\": \"Gisele E. Occhioni-2012.0\", \"count\": 6, \"determiner_full_name\": \"Gisele E. Occhioni\", \"determined_year\": \"2012\", \"cumulative_sum\": 6}, {\"index\": \"Gisele E. Occhioni-2013.0\", \"count\": 1, \"determiner_full_name\": \"Gisele E. Occhioni\", \"determined_year\": \"2013\", \"cumulative_sum\": 7}, {\"index\": \"Gisele E. Occhioni-2014.0\", \"count\": 18, \"determiner_full_name\": \"Gisele E. Occhioni\", \"determined_year\": \"2014\", \"cumulative_sum\": 25}, {\"index\": \"Gustavo M. Souza-2014.0\", \"count\": 1, \"determiner_full_name\": \"Gustavo M. Souza\", \"determined_year\": \"2014\", \"cumulative_sum\": 1}, {\"index\": \"Joana Zanol-1998.0\", \"count\": 59, \"determiner_full_name\": \"Joana Zanol\", \"determined_year\": \"1998\", \"cumulative_sum\": 59}, {\"index\": \"Joana Zanol-1999.0\", \"count\": 1, \"determiner_full_name\": \"Joana Zanol\", \"determined_year\": \"1999\", \"cumulative_sum\": 60}, {\"index\": \"Joana Zanol-2000.0\", \"count\": 4, \"determiner_full_name\": \"Joana Zanol\", \"determined_year\": \"2000\", \"cumulative_sum\": 64}, {\"index\": \"Joana Zanol-2001.0\", \"count\": 20, \"determiner_full_name\": \"Joana Zanol\", \"determined_year\": \"2001\", \"cumulative_sum\": 84}, {\"index\": \"Joana Zanol-2005.0\", \"count\": 114, \"determiner_full_name\": \"Joana Zanol\", \"determined_year\": \"2005\", \"cumulative_sum\": 198}, {\"index\": \"Joana Zanol-2012.0\", \"count\": 116, \"determiner_full_name\": \"Joana Zanol\", \"determined_year\": \"2012\", \"cumulative_sum\": 314}, {\"index\": \"Joana Zanol-2013.0\", \"count\": 120, \"determiner_full_name\": \"Joana Zanol\", \"determined_year\": \"2013\", \"cumulative_sum\": 434}, {\"index\": \"Joana Zanol-2014.0\", \"count\": 121, \"determiner_full_name\": \"Joana Zanol\", \"determined_year\": \"2014\", \"cumulative_sum\": 555}, {\"index\": \"Joana Zanol-2015.0\", \"count\": 125, \"determiner_full_name\": \"Joana Zanol\", \"determined_year\": \"2015\", \"cumulative_sum\": 680}, {\"index\": \"Joao M. Nogueira-2010.0\", \"count\": 1, \"determiner_full_name\": \"Joao M. Nogueira\", \"determined_year\": \"2010\", \"cumulative_sum\": 1}, {\"index\": \"Joao M. Nogueira-2012.0\", \"count\": 2, \"determiner_full_name\": \"Joao M. Nogueira\", \"determined_year\": \"2012\", \"cumulative_sum\": 3}, {\"index\": \"Joao M. Nogueira-2013.0\", \"count\": 3, \"determiner_full_name\": \"Joao M. Nogueira\", \"determined_year\": \"2013\", \"cumulative_sum\": 6}, {\"index\": \"Joao M. Nogueira-2014.0\", \"count\": 7, \"determiner_full_name\": \"Joao M. Nogueira\", \"determined_year\": \"2014\", \"cumulative_sum\": 13}, {\"index\": \"Joziel-2011.0\", \"count\": 1, \"determiner_full_name\": \"Joziel\", \"determined_year\": \"2011\", \"cumulative_sum\": 1}, {\"index\": \"Leonardo F. Silva-2013.0\", \"count\": 1, \"determiner_full_name\": \"Leonardo F. Silva\", \"determined_year\": \"2013\", \"cumulative_sum\": 1}, {\"index\": \"Leonardo F. Silva-2014.0\", \"count\": 18, \"determiner_full_name\": \"Leonardo F. Silva\", \"determined_year\": \"2014\", \"cumulative_sum\": 19}, {\"index\": \"Leticia Barbosa-2004.0\", \"count\": 7, \"determiner_full_name\": \"Leticia Barbosa\", \"determined_year\": \"2004\", \"cumulative_sum\": 7}, {\"index\": \"Leticia Barbosa-2007.0\", \"count\": 61, \"determiner_full_name\": \"Leticia Barbosa\", \"determined_year\": \"2007\", \"cumulative_sum\": 68}, {\"index\": \"Marcelo B. Rocha-2009.0\", \"count\": 8, \"determiner_full_name\": \"Marcelo B. Rocha\", \"determined_year\": \"2009\", \"cumulative_sum\": 8}, {\"index\": \"Mariana V. Gon\\u00e7alves-2012.0\", \"count\": 2, \"determiner_full_name\": \"Mariana V. Gon\\u00e7alves\", \"determined_year\": \"2012\", \"cumulative_sum\": 2}, {\"index\": \"Natalia M. Souto-2013.0\", \"count\": 2, \"determiner_full_name\": \"Natalia M. Souto\", \"determined_year\": \"2013\", \"cumulative_sum\": 2}, {\"index\": \"Nury E. Riascos-2005.0\", \"count\": 5, \"determiner_full_name\": \"Nury E. Riascos\", \"determined_year\": \"2005\", \"cumulative_sum\": 5}, {\"index\": \"Nury E. Riascos-2010.0\", \"count\": 8, \"determiner_full_name\": \"Nury E. Riascos\", \"determined_year\": \"2010\", \"cumulative_sum\": 13}, {\"index\": \"Nury E. Riascos-2011.0\", \"count\": 43, \"determiner_full_name\": \"Nury E. Riascos\", \"determined_year\": \"2011\", \"cumulative_sum\": 56}, {\"index\": \"Nury E. Riascos-2013.0\", \"count\": 89, \"determiner_full_name\": \"Nury E. Riascos\", \"determined_year\": \"2013\", \"cumulative_sum\": 145}, {\"index\": \"Pat Hutchings-2013.0\", \"count\": 1, \"determiner_full_name\": \"Pat Hutchings\", \"determined_year\": \"2013\", \"cumulative_sum\": 1}, {\"index\": \"Paulo C. Lana-2000.0\", \"count\": 1, \"determiner_full_name\": \"Paulo C. Lana\", \"determined_year\": \"2000\", \"cumulative_sum\": 1}, {\"index\": \"Paulo C. Paiva-1991.0\", \"count\": 4, \"determiner_full_name\": \"Paulo C. Paiva\", \"determined_year\": \"1991\", \"cumulative_sum\": 4}, {\"index\": \"Paulo C. Paiva-1993.0\", \"count\": 5, \"determiner_full_name\": \"Paulo C. Paiva\", \"determined_year\": \"1993\", \"cumulative_sum\": 9}, {\"index\": \"Paulo C. Paiva-1994.0\", \"count\": 31, \"determiner_full_name\": \"Paulo C. Paiva\", \"determined_year\": \"1994\", \"cumulative_sum\": 40}, {\"index\": \"Paulo C. Paiva-1997.0\", \"count\": 33, \"determiner_full_name\": \"Paulo C. Paiva\", \"determined_year\": \"1997\", \"cumulative_sum\": 73}, {\"index\": \"Paulo C. Paiva-1998.0\", \"count\": 92, \"determiner_full_name\": \"Paulo C. Paiva\", \"determined_year\": \"1998\", \"cumulative_sum\": 165}, {\"index\": \"Paulo C. Paiva-1999.0\", \"count\": 95, \"determiner_full_name\": \"Paulo C. Paiva\", \"determined_year\": \"1999\", \"cumulative_sum\": 260}, {\"index\": \"Paulo C. Paiva-2000.0\", \"count\": 130, \"determiner_full_name\": \"Paulo C. Paiva\", \"determined_year\": \"2000\", \"cumulative_sum\": 390}, {\"index\": \"Paulo C. Paiva-2001.0\", \"count\": 339, \"determiner_full_name\": \"Paulo C. Paiva\", \"determined_year\": \"2001\", \"cumulative_sum\": 729}, {\"index\": \"Paulo C. Paiva-2002.0\", \"count\": 1, \"determiner_full_name\": \"Paulo C. Paiva\", \"determined_year\": \"2002\", \"cumulative_sum\": 730}, {\"index\": \"Paulo C. Paiva-2003.0\", \"count\": 379, \"determiner_full_name\": \"Paulo C. Paiva\", \"determined_year\": \"2003\", \"cumulative_sum\": 1109}, {\"index\": \"Paulo C. Paiva-2004.0\", \"count\": 395, \"determiner_full_name\": \"Paulo C. Paiva\", \"determined_year\": \"2004\", \"cumulative_sum\": 1504}, {\"index\": \"Paulo C. Paiva-2007.0\", \"count\": 396, \"determiner_full_name\": \"Paulo C. Paiva\", \"determined_year\": \"2007\", \"cumulative_sum\": 1900}, {\"index\": \"Paulo C. Paiva-2008.0\", \"count\": 558, \"determiner_full_name\": \"Paulo C. Paiva\", \"determined_year\": \"2008\", \"cumulative_sum\": 2458}, {\"index\": \"Paulo C. Paiva-2010.0\", \"count\": 608, \"determiner_full_name\": \"Paulo C. Paiva\", \"determined_year\": \"2010\", \"cumulative_sum\": 3066}, {\"index\": \"Paulo C. Paiva-2011.0\", \"count\": 609, \"determiner_full_name\": \"Paulo C. Paiva\", \"determined_year\": \"2011\", \"cumulative_sum\": 3675}, {\"index\": \"Paulo C. Paiva-2013.0\", \"count\": 611, \"determiner_full_name\": \"Paulo C. Paiva\", \"determined_year\": \"2013\", \"cumulative_sum\": 4286}, {\"index\": \"Paulo C. Paiva-2015.0\", \"count\": 614, \"determiner_full_name\": \"Paulo C. Paiva\", \"determined_year\": \"2015\", \"cumulative_sum\": 4900}, {\"index\": \"Pedro H. Lima-2008.0\", \"count\": 16, \"determiner_full_name\": \"Pedro H. Lima\", \"determined_year\": \"2008\", \"cumulative_sum\": 16}, {\"index\": \"Raquel M. Berlandi-2008.0\", \"count\": 12, \"determiner_full_name\": \"Raquel M. Berlandi\", \"determined_year\": \"2008\", \"cumulative_sum\": 12}, {\"index\": \"Raquel M. Berlandi-2009.0\", \"count\": 19, \"determiner_full_name\": \"Raquel M. Berlandi\", \"determined_year\": \"2009\", \"cumulative_sum\": 31}, {\"index\": \"Raquel M. Berlandi-2010.0\", \"count\": 28, \"determiner_full_name\": \"Raquel M. Berlandi\", \"determined_year\": \"2010\", \"cumulative_sum\": 59}, {\"index\": \"Raquel M. Berlandi-2011.0\", \"count\": 35, \"determiner_full_name\": \"Raquel M. Berlandi\", \"determined_year\": \"2011\", \"cumulative_sum\": 94}, {\"index\": \"Raquel M. Berlandi-2013.0\", \"count\": 80, \"determiner_full_name\": \"Raquel M. Berlandi\", \"determined_year\": \"2013\", \"cumulative_sum\": 174}, {\"index\": \"Romulo B. Baptista-2000.0\", \"count\": 20, \"determiner_full_name\": \"Romulo B. Baptista\", \"determined_year\": \"2000\", \"cumulative_sum\": 20}, {\"index\": \"Romulo B. Baptista-2002.0\", \"count\": 24, \"determiner_full_name\": \"Romulo B. Baptista\", \"determined_year\": \"2002\", \"cumulative_sum\": 44}, {\"index\": \"Romulo B. Baptista-2003.0\", \"count\": 30, \"determiner_full_name\": \"Romulo B. Baptista\", \"determined_year\": \"2003\", \"cumulative_sum\": 74}, {\"index\": \"Romulo B. Baptista-2007.0\", \"count\": 39, \"determiner_full_name\": \"Romulo B. Baptista\", \"determined_year\": \"2007\", \"cumulative_sum\": 113}, {\"index\": \"Romulo B. Baptista-2009.0\", \"count\": 41, \"determiner_full_name\": \"Romulo B. Baptista\", \"determined_year\": \"2009\", \"cumulative_sum\": 154}, {\"index\": \"Romulo B. Baptista-2010.0\", \"count\": 65, \"determiner_full_name\": \"Romulo B. Baptista\", \"determined_year\": \"2010\", \"cumulative_sum\": 219}, {\"index\": \"R\\u00f4mulo B. Baptista-2002.0\", \"count\": 1, \"determiner_full_name\": \"R\\u00f4mulo B. Baptista\", \"determined_year\": \"2002\", \"cumulative_sum\": 1}, {\"index\": \"Sergio-2009.0\", \"count\": 1, \"determiner_full_name\": \"Sergio\", \"determined_year\": \"2009\", \"cumulative_sum\": 1}, {\"index\": \"Sergio Joziel-2009.0\", \"count\": 1, \"determiner_full_name\": \"Sergio Joziel\", \"determined_year\": \"2009\", \"cumulative_sum\": 1}, {\"index\": \"Susie Subrinho-1999.0\", \"count\": 1, \"determiner_full_name\": \"Susie Subrinho\", \"determined_year\": \"1999\", \"cumulative_sum\": 1}, {\"index\": \"Thauane Silva-2014.0\", \"count\": 3, \"determiner_full_name\": \"Thauane Silva\", \"determined_year\": \"2014\", \"cumulative_sum\": 3}, {\"index\": \"Vasily I. Radashevsky-2002.0\", \"count\": 1, \"determiner_full_name\": \"Vasily I. Radashevsky\", \"determined_year\": \"2002\", \"cumulative_sum\": 1}, {\"index\": \"Vasily I. Radashevsky-2003.0\", \"count\": 38, \"determiner_full_name\": \"Vasily I. Radashevsky\", \"determined_year\": \"2003\", \"cumulative_sum\": 39}, {\"index\": \"Victor C. Seixas-2011.0\", \"count\": 10, \"determiner_full_name\": \"Victor C. Seixas\", \"determined_year\": \"2011\", \"cumulative_sum\": 10}, {\"index\": \"Victor C. Seixas-2012.0\", \"count\": 15, \"determiner_full_name\": \"Victor C. Seixas\", \"determined_year\": \"2012\", \"cumulative_sum\": 25}, {\"index\": \"Vinicius D. Miranda-2012.0\", \"count\": 42, \"determiner_full_name\": \"Vinicius D. Miranda\", \"determined_year\": \"2012\", \"cumulative_sum\": 42}, {\"index\": \"Wagner F. Magalhaes-2014.0\", \"count\": 6, \"determiner_full_name\": \"Wagner F. Magalhaes\", \"determined_year\": \"2014\", \"cumulative_sum\": 6}, {\"index\": \"Werner Brand\\u00e3o-2014.0\", \"count\": 3, \"determiner_full_name\": \"Werner Brand\\u00e3o\", \"determined_year\": \"2014\", \"cumulative_sum\": 3}, {\"index\": \"Werner F. Brandao-2001.0\", \"count\": 1, \"determiner_full_name\": \"Werner F. Brandao\", \"determined_year\": \"2001\", \"cumulative_sum\": 1}, {\"index\": \"Werner F. Brandao-2010.0\", \"count\": 4, \"determiner_full_name\": \"Werner F. Brandao\", \"determined_year\": \"2010\", \"cumulative_sum\": 5}, {\"index\": \"Werner F. Brandao-2011.0\", \"count\": 8, \"determiner_full_name\": \"Werner F. Brandao\", \"determined_year\": \"2011\", \"cumulative_sum\": 13}, {\"index\": \"Werner F. Brandao-2013.0\", \"count\": 11, \"determiner_full_name\": \"Werner F. Brandao\", \"determined_year\": \"2013\", \"cumulative_sum\": 24}]}}, {\"mode\": \"vega-lite\"});\n",
       "</script>"
      ],
      "text/plain": [
       "alt.LayerChart(...)"
      ]
     },
     "execution_count": 11,
     "metadata": {},
     "output_type": "execute_result"
    }
   ],
   "source": [
    "select = alt.selection(type='single', on='mouseover', nearest=True, fields=['determiner_full_name'])\n",
    "\n",
    "base = alt.Chart(counts, title='Cumulative contribution of each determiner', width=800,\n",
    "              height=400).mark_line(point=True).encode(\n",
    "    x= alt.X('determined_year', type=\"ordinal\", title='Determination Year'),\n",
    "    y= alt.Y('cumulative_sum', title='', \n",
    "             sort=alt.EncodingSortField('counts', op=\"count\", order='descending')),\n",
    "    color= alt.Color('determiner_full_name:N', title='', legend=None,\n",
    "                     scale= alt.Scale(scheme='warmgreys')),\n",
    ")\n",
    "\n",
    "points = base.mark_circle(size=40).encode(\n",
    "    opacity=alt.value(0.5),\n",
    "    tooltip= alt.Tooltip(['determiner_full_name','determined_year','cumulative_sum'])\n",
    ").add_selection(\n",
    "    select\n",
    ")\n",
    "\n",
    "lines = base.mark_line(point=True).encode(\n",
    "    size=alt.condition(~select, alt.value(1), alt.value(4)),\n",
    "    opacity= alt.value(1),\n",
    "#     color = alt.condition(~select, alt.value('lightgray'), alt.value('black'))\n",
    "#     tooltip= alt.Tooltip(['determinator_full_name','det_year','cumulative_sum'])\n",
    ")\n",
    "\n",
    "g1 = points + lines \n",
    "\n",
    "g1 = g1.configure_title(fontSize=16).configure_axis(\n",
    "    labelFontSize=12,\n",
    "    titleFontSize=12\n",
    ").configure_legend(\n",
    "    labelFontSize=12,\n",
    "    titleFontSize=12\n",
    ")\n",
    "\n",
    "# g1.save('./graphs/cumCounts/determiner/cumCount-per-year.html')\n",
    "\n",
    "g1"
   ]
  },
  {
   "cell_type": "markdown",
   "metadata": {},
   "source": [
    "<br>\n",
    "\n",
    "### Collector's cumulative contribution per year\n",
    "\n",
    "To calculate the cumulative counts, we need to consider ALL collector's columns, in this case:\n",
    "\n",
    "    - 'collector_full_name'\n",
    "    - 'collector_full_name2' ... 'collector_full_name6'"
   ]
  },
  {
   "cell_type": "code",
   "execution_count": 61,
   "metadata": {
    "ExecuteTime": {
     "end_time": "2021-02-14T22:05:34.486495Z",
     "start_time": "2021-02-14T22:05:34.480180Z"
    }
   },
   "outputs": [],
   "source": [
    "collector_columns = ['collector_full_name', 'collector_full_name2', \n",
    "                     'collector_full_name3', 'collector_full_name4']\n",
    "\n",
    "# name of all collectors (first through sixth)\n",
    "collectors = set(NewTable['collector_full_name'].str.strip())\n",
    "\n",
    "for col in collector_columns[1:]:\n",
    "    collectors = collectors.union(set(NewTable[col]))\n",
    "\n",
    "collectors = [name for name in collectors if 'nan' not in str(name)]  # removing NaN and parsing into a list"
   ]
  },
  {
   "cell_type": "code",
   "execution_count": 65,
   "metadata": {
    "ExecuteTime": {
     "end_time": "2021-02-14T22:06:18.683710Z",
     "start_time": "2021-02-14T22:06:18.456766Z"
    }
   },
   "outputs": [],
   "source": [
    "# organising the yearly contribution of each collector\n",
    "result = defaultdict()\n",
    "for col in collector_columns:\n",
    "    temp = NewTable.groupby([col, 'start_year']).count()['class'].reset_index().rename(columns={\n",
    "        'class':'counts'\n",
    "    })\n",
    "    \n",
    "    temp.sort_values('start_year')\n",
    "    for collector in temp[col].unique():\n",
    "        if 'nan' not in str(collector):  # OBS: se precisar coletar mais informações, fazer isso AQUI!\n",
    "            count = list(temp[temp[col] == collector]['counts'])\n",
    "            years = list(temp[temp[col] == collector]['start_year'])\n",
    "\n",
    "            for i in range(len(count)):\n",
    "                result[f'{collector}-{years[i]}'] = count[i]\n",
    "                \n",
    "counts = pd.DataFrame(dict(result), index=['count']).transpose().reset_index()"
   ]
  },
  {
   "cell_type": "code",
   "execution_count": 70,
   "metadata": {
    "ExecuteTime": {
     "end_time": "2021-02-14T22:07:19.047228Z",
     "start_time": "2021-02-14T22:07:19.039509Z"
    }
   },
   "outputs": [],
   "source": [
    "counts['collector_full_name'] = counts['index'].apply(lambda x:str(x).split('-')[0])\n",
    "counts['start_year'] = counts['index'].apply(lambda x:str(x).split('-')[-1])\n",
    "\n",
    "# temporary adjustment for x-axis labels\n",
    "counts['start_year'] = counts['start_year'].apply(lambda x: str(x).split('.')[0])"
   ]
  },
  {
   "cell_type": "code",
   "execution_count": 72,
   "metadata": {
    "ExecuteTime": {
     "end_time": "2021-02-14T22:07:38.410318Z",
     "start_time": "2021-02-14T22:07:38.321590Z"
    }
   },
   "outputs": [],
   "source": [
    "# sorting\n",
    "counts.sort_values(['collector_full_name', 'start_year'], inplace=True)\n",
    "\n",
    "# cumulatively counting\n",
    "cumSum = []\n",
    "for collector in counts['collector_full_name'].unique():\n",
    "    cumSum.extend(list(counts[counts['collector_full_name'] == collector]['count'].cumsum()))\n",
    "\n",
    "counts['cumulative_sum'] = cumSum"
   ]
  },
  {
   "cell_type": "code",
   "execution_count": 86,
   "metadata": {
    "ExecuteTime": {
     "end_time": "2021-02-14T22:12:26.919229Z",
     "start_time": "2021-02-14T22:12:26.897996Z"
    }
   },
   "outputs": [],
   "source": [
    "select = alt.selection(type='single', on='mouseover', nearest=True, fields=['collector_full_name'])\n",
    "\n",
    "\n",
    "base = alt.Chart(counts, title='Cumulative contribution of each Collector', width=800,\n",
    "              height=400).encode(\n",
    "    x= alt.X('start_year', type=\"ordinal\", title='Sampling Year'),\n",
    "    y= alt.Y('cumulative_sum', title='', \n",
    "             sort=alt.EncodingSortField('counts', op=\"count\", order='descending')),\n",
    "    color= alt.Color('collector_full_name:N', title='', legend=None, \n",
    "                     scale= alt.Scale(scheme= 'warmgreys')),\n",
    ")\n",
    "\n",
    "points = base.mark_circle(size=40).encode(\n",
    "    opacity=alt.value(0.5),\n",
    "    tooltip= alt.Tooltip(['collector_full_name','start_year','cumulative_sum'])\n",
    ").add_selection(\n",
    "    select\n",
    ")\n",
    "\n",
    "front = base.mark_line(point=True).encode(\n",
    "    size=alt.condition(~select, alt.value(1), alt.value(4)),\n",
    "    opacity= alt.value(1),\n",
    ")\n",
    "\n",
    "g1 = points + front\n",
    "\n",
    "g1 = g1.configure_title(fontSize=16).configure_axis(\n",
    "    labelFontSize=12,\n",
    "    titleFontSize=12\n",
    ").configure_legend(\n",
    "    labelFontSize=12,\n",
    "    titleFontSize=12\n",
    ")\n",
    "\n",
    "# g1.save('./graphs/cumCounts/collector/cumCount-per-year.html')\n",
    "\n",
    "# g1"
   ]
  },
  {
   "cell_type": "markdown",
   "metadata": {},
   "source": [
    "<br>\n",
    "\n",
    "## Cumulative counts per Family\n"
   ]
  },
  {
   "cell_type": "code",
   "execution_count": 87,
   "metadata": {
    "ExecuteTime": {
     "end_time": "2021-02-14T22:12:47.085106Z",
     "start_time": "2021-02-14T22:12:47.069424Z"
    }
   },
   "outputs": [],
   "source": [
    "# grouping per Year and Family\n",
    "teste = NewTable.groupby(['start_year','family']).count()['class'].reset_index().rename(columns={\n",
    "    'class':'counts'\n",
    "})\n",
    "\n",
    "# sorting...\n",
    "teste = teste.sort_values(['family', 'start_year'])"
   ]
  },
  {
   "cell_type": "code",
   "execution_count": 88,
   "metadata": {
    "ExecuteTime": {
     "end_time": "2021-02-14T22:12:56.420577Z",
     "start_time": "2021-02-14T22:12:56.382934Z"
    }
   },
   "outputs": [],
   "source": [
    "# cumulatively counting\n",
    "cumSum = []\n",
    "for family in teste['family'].unique():\n",
    "    cumSum.extend(list(teste[teste['family'] == family]['counts'].cumsum()))\n",
    "    \n",
    "teste['cumulative_sum'] = cumSum"
   ]
  },
  {
   "cell_type": "code",
   "execution_count": 120,
   "metadata": {
    "ExecuteTime": {
     "end_time": "2021-02-14T22:32:04.579147Z",
     "start_time": "2021-02-14T22:32:04.569907Z"
    }
   },
   "outputs": [],
   "source": [
    "teste['start_year'] = teste['start_year'].apply(lambda x: str(x).split('.')[0])"
   ]
  },
  {
   "cell_type": "markdown",
   "metadata": {},
   "source": [
    "### Chart: per collected year"
   ]
  },
  {
   "cell_type": "code",
   "execution_count": 128,
   "metadata": {
    "ExecuteTime": {
     "end_time": "2021-02-14T22:32:59.842403Z",
     "start_time": "2021-02-14T22:32:59.809629Z"
    }
   },
   "outputs": [],
   "source": [
    "## filtering out some families lost while grouping\n",
    "# familias = [f for f in cores_familia.keys() if f in teste['family'].unique()]\n",
    "# cores_temp = [cores_familia[f] for f in familias] \n",
    "\n",
    "# selector\n",
    "select_family = alt.selection_multi(fields=['family'], bind='legend')\n",
    "\n",
    "# aux. variables for encoding fields\n",
    "x_labels = teste.sort_values('start_year')['start_year'].unique()\n",
    "# x_labels = [str(y).split('.')[0] for y in x_labels]\n",
    "y_max = np.ceil(max(teste['cumulative_sum'].unique()))\n",
    "\n",
    "g1 = alt.Chart(teste, title='Quantidade de exemplares por família', \n",
    "               width=600, height=400).mark_line(point=True).encode(\n",
    "    x= alt.X('start_year', type=\"ordinal\", title='Ano de Coleta',\n",
    "             scale= alt.Scale(domain= x_labels)),\n",
    "    y= alt.Y('cumulative_sum', title='',\n",
    "             scale= alt.Scale(domain= [0,y_max]),\n",
    "             sort=alt.EncodingSortField('counts', op=\"count\", order='descending')),\n",
    "    color= alt.Color('family:N', title='Familia',\n",
    "                     legend= alt.Legend(columns=2, symbolLimit=50),\n",
    "                     scale=alt.Scale(domain=list(cores_familia.keys()), range= list(cores_familia.values()))),\n",
    "    tooltip= alt.Tooltip(['family','start_year','counts', 'cumulative_sum']),\n",
    "#     opacity= alt.condition(select_family, alt.value(1), alt.value(0))\n",
    ").add_selection(select_family).transform_filter(select_family)\n",
    "\n",
    "g1 = g1.configure_title(fontSize=16).configure_axis(\n",
    "    labelFontSize=12,\n",
    "    titleFontSize=12\n",
    ").configure_legend(\n",
    "    labelFontSize=12,\n",
    "    titleFontSize=12\n",
    ")\n",
    "\n",
    "# g1.save('./graphs/cumCounts/family/evolucao_por_familia.html')\n",
    "# g1"
   ]
  },
  {
   "cell_type": "markdown",
   "metadata": {},
   "source": [
    "<br>\n",
    "\n",
    "**The end!**\n",
    "\n",
    "-----"
   ]
  }
 ],
 "metadata": {
  "kernelspec": {
   "display_name": "Python 3",
   "language": "python",
   "name": "python3"
  },
  "language_info": {
   "codemirror_mode": {
    "name": "ipython",
    "version": 3
   },
   "file_extension": ".py",
   "mimetype": "text/x-python",
   "name": "python",
   "nbconvert_exporter": "python",
   "pygments_lexer": "ipython3",
   "version": "3.9.1"
  },
  "latex_envs": {
   "LaTeX_envs_menu_present": true,
   "autoclose": false,
   "autocomplete": true,
   "bibliofile": "biblio.bib",
   "cite_by": "apalike",
   "current_citInitial": 1,
   "eqLabelWithNumbers": true,
   "eqNumInitial": 1,
   "hotkeys": {
    "equation": "Ctrl-E",
    "itemize": "Ctrl-I"
   },
   "labels_anchors": false,
   "latex_user_defs": false,
   "report_style_numbering": false,
   "user_envs_cfg": false
  },
  "toc": {
   "base_numbering": 1,
   "nav_menu": {},
   "number_sections": false,
   "sideBar": true,
   "skip_h1_title": false,
   "title_cell": "Table of Contents",
   "title_sidebar": "Contents",
   "toc_cell": false,
   "toc_position": {},
   "toc_section_display": true,
   "toc_window_display": false
  },
  "varInspector": {
   "cols": {
    "lenName": 16,
    "lenType": 16,
    "lenVar": 40
   },
   "kernels_config": {
    "python": {
     "delete_cmd_postfix": "",
     "delete_cmd_prefix": "del ",
     "library": "var_list.py",
     "varRefreshCmd": "print(var_dic_list())"
    },
    "r": {
     "delete_cmd_postfix": ") ",
     "delete_cmd_prefix": "rm(",
     "library": "var_list.r",
     "varRefreshCmd": "cat(var_dic_list()) "
    }
   },
   "position": {
    "height": "391.35px",
    "left": "900.5px",
    "right": "20px",
    "top": "96px",
    "width": "536.5px"
   },
   "types_to_exclude": [
    "module",
    "function",
    "builtin_function_or_method",
    "instance",
    "_Feature"
   ],
   "window_display": false
  }
 },
 "nbformat": 4,
 "nbformat_minor": 2
}
