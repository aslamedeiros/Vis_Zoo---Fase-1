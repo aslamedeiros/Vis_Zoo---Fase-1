{
 "cells": [
  {
   "cell_type": "markdown",
   "metadata": {},
   "source": [
    "# Cumulative Counts per researcher & family\n",
    "\n",
    "By **Franklin Oliveira**\n",
    "\n",
    "-----\n",
    "This notebook contains all code necessary to make the cumulative counts line charts for `poliqueta` database. Here you'll find some basic data treatment and charts' code. \n",
    "\n",
    "Database: <font color='blue'>'IBUFRJ27.07.2020 - visualização.xlsx'</font> and <font color='blue'>'MNRJP27.07.2020 - visualização.xls'</font>."
   ]
  },
  {
   "cell_type": "code",
   "execution_count": 2,
   "metadata": {
    "ExecuteTime": {
     "end_time": "2021-01-26T14:36:34.366208Z",
     "start_time": "2021-01-26T14:36:28.449615Z"
    }
   },
   "outputs": [
    {
     "data": {
      "text/plain": [
       "DataTransformerRegistry.enable('default')"
      ]
     },
     "execution_count": 2,
     "metadata": {},
     "output_type": "execute_result"
    }
   ],
   "source": [
    "import datetime\n",
    "import numpy as np\n",
    "import pandas as pd\n",
    "\n",
    "from collections import defaultdict\n",
    "\n",
    "# quick visualization\n",
    "import matplotlib.pyplot as plt\n",
    "import seaborn as sns\n",
    "\n",
    "# Waffle Charts\n",
    "# from pywaffle import Waffle \n",
    "# docs: https://pywaffle.readthedocs.io/en/latest/examples/block_shape_distance_location_and_direction.html\n",
    "\n",
    "# visualization\n",
    "import altair as alt\n",
    "\n",
    "# enabling notebook renderer\n",
    "# alt.renderers.enable('notebook')\n",
    "# alt.renderers.enable('default')\n",
    "\n",
    "# disabling rows limit\n",
    "alt.data_transformers.disable_max_rows()"
   ]
  },
  {
   "cell_type": "markdown",
   "metadata": {},
   "source": [
    "## Importing data..."
   ]
  },
  {
   "cell_type": "code",
   "execution_count": 3,
   "metadata": {
    "ExecuteTime": {
     "end_time": "2021-01-26T14:36:34.747346Z",
     "start_time": "2021-01-26T14:36:34.387505Z"
    }
   },
   "outputs": [],
   "source": [
    "NewTable = pd.read_csv('./data/merged_db.csv', sep=';', encoding='utf-8-sig')"
   ]
  },
  {
   "cell_type": "code",
   "execution_count": 4,
   "metadata": {
    "ExecuteTime": {
     "end_time": "2021-01-26T14:36:50.299991Z",
     "start_time": "2021-01-26T14:36:50.288936Z"
    }
   },
   "outputs": [],
   "source": [
    "# formatando a string NaN\n",
    "NewTable['family'] = NewTable['family'].apply(lambda x: 'NaN' if x=='Nan' else x)"
   ]
  },
  {
   "cell_type": "markdown",
   "metadata": {},
   "source": [
    "<br>\n",
    "\n",
    "<font size=5>**Color Palette per Order**</font>\n",
    "\n",
    "These images were used as inspiration (https://color.adobe.com/create/image)\n",
    "\n",
    "\n",
    "<div class='row' style='padding-top:20px;'>\n",
    "    <div class='col-md-6'>\n",
    "        <img src=\"./src/img1.jpg\" width='400px'>\n",
    "    </div>\n",
    "    <div class='col-md-6'>\n",
    "        <img src=\"./src/img2.jpg\" width='400px'>\n",
    "    </div>\n",
    "</div>\n",
    "\n",
    "<br>\n",
    "\n",
    "A partir das imagens acima, selecionamos cores (centróides) para criar a paleta de cores. Foram elas: \n",
    "<ul>\n",
    "    <li style='color:#3CA67F'><b> #3CA67F </b># verde</li>\n",
    "    <li style='color:#7A9FBF'><b> #7A9FBF </b># azul</li>\n",
    "    <li style='color:#D94814'><b> #D94814 </b># laranja</li>\n",
    "    <li style='color:#D96236'><b> #D96236 </b># laranja 2</li>\n",
    "    <li style='color:#F2B999'><b> #F2B999 </b># 'cor de pele'</li>\n",
    "    <li style='color:#A66C4B'><b> #A66C4B </b># marrom 1</li>\n",
    "    <li style='color:#732C02'><b> #732C02 </b># marrom 2</li>\n",
    "</ul>\n",
    "\n",
    "A partir das cores \"centróides\", utilizamos a ferramenta Color Crafter para selecionar diferentes \"shades\" e auxiliar para categorização em diferentes grupos sugeridos pela equipe de Poliquetas do Museu Nacional. \n",
    "\n",
    "<ul>\n",
    "    <li style='color:#3CA67F'><b> Verde: </b> ['#daffef', '#bbebd3', '#9adabc', '#77c8a5', '#57b791', '#3ca67f', '#2a9670', '#238762', '#257a56']</li>\n",
    "    <li style='color:#7A9FBF'><b> Azul: </b> ['#e7e5df', '#ccd2d8', '#b2c0d0', '#96afc8', '#7a9fbf', '#5d90b6', '#3c81ae', '#0673a4', '#00669a']</li>\n",
    "    <li style='color:#D94814'><b> laranja: </b> ['#ffbd84', '#ffaa74', '#ff9760', '#ff814b', '#fc6b36', '#eb5824', '#d94814', '#c83b03', '#b73000']</li>\n",
    "    <li style='color:#D96236'><b> laranja 2: ['#ffeba9', '#ffd391', '#ffbb7b', '#fda468', '#f18e56', '#e57846', '#d96236', '#cc4d28', '#bf381b']</b> </li>\n",
    "    <li style='color:#F2B999'><b> cor de pele: ['#ffe9c3', '#fbd0ad', '#f2b999', '#e8a287', '#dd8c76', '#d27666', '#c76158', '#bb4d4b', '#ae393e']</b> </li>\n",
    "    <li style='color:#A66C4B'><b> marrom 1: ['#d9c6af', '#ccad96', '#c1977c', '#b48061', '#a66c4b', '#975b39', '#874c2c', '#774124', '#683720']</b> </li>\n",
    "    <li style='color:#732C02'><b> marrom 2: ['#eebd93', '#dfa47a', '#d28d60', '#c37746', '#b4622f', '#a3501d', '#92420e', '#823606', '#732c02']</b> </li>\n",
    "</ul>\n",
    "\n",
    "\n",
    "\n",
    "**Colors  (antigas):** \n",
    "\n",
    "<ul>\n",
    "    <li style='color:#41A681'><b> #41A681 </b># verde1</li>\n",
    "    <li style='color:#3CA67F'><b> #3CA67F </b># verde2</li>\n",
    "    <li style='color:#7ACAAB'><b> #7ACAAB </b># verde claro</li>\n",
    "    <li style='color:#78a1a1'><b> #78a1a1 </b># azul</li>\n",
    "    <li style='color:#8ABFB0'><b> #8ABFB0 </b># azul claro</li>\n",
    "    <li style='color:#FFB27C'><b> #FFB27C </b># cor de pele clara</li>\n",
    "    <li style='color:#F29877'><b> #F29877 </b># cor de pele</li>\n",
    "    <li style='color:#ed845e'><b> #ed845e </b># laranja claro1</li>\n",
    "    <li style='color:#D96236'><b> #D96236 </b># laranja claro2</li>\n",
    "    <li style='color:#D95323'><b> #D95323 </b># laranja 1</li>\n",
    "    <li style='color:#D94B18'><b> #D94B18 </b># laranja 2</li>\n",
    "    <li style='color:#D9C2AD'><b> #D9C2AD </b># bege</li>\n",
    "    <li style='color:#A66C4B'><b> #A66C4B </b># marrom claro</li>\n",
    "    <li style='color:#86471B'><b> #86471B </b># marrom1</li>\n",
    "    <li style='color:#732C02'><b> #732C02 </b># marrom2</li>\n",
    "    <li style='color:#592202'><b> #592202 </b># marrom escuro1</li>\n",
    "    <li style='color:#3D1806'><b> #3D1806 </b># marrom escuro2</li>\n",
    "    <li style='color:#0D0D0D'><b> #0D0D0D </b># preto</li>\n",
    "</ul>"
   ]
  },
  {
   "cell_type": "code",
   "execution_count": 5,
   "metadata": {
    "ExecuteTime": {
     "end_time": "2021-01-26T14:37:17.912512Z",
     "start_time": "2021-01-26T14:37:17.880040Z"
    }
   },
   "outputs": [],
   "source": [
    "# importing customized color palettes\n",
    "from src.MNViz_colors import *"
   ]
  },
  {
   "cell_type": "markdown",
   "metadata": {},
   "source": [
    "**Paleta de Cores - Família:**\n",
    "\n",
    "- grupo 1: 1 cor  (verde escuro)\n",
    "<ul>\n",
    "    <li style=\"color:#142611\"><b>centroide 1</b></li>\n",
    "</ul>\n",
    "- grupo 2: 8 cores\n",
    "<ul>\n",
    "    <li style=\"color:#85D907\"><b>centroide 2</b></li>\n",
    "</ul>\n",
    "\n",
    "['#d7ff81', '#bafd62', '#9feb3f', '#85d907', '#6cc700', '#52b700', '#35a600', '#0b9700', '#008800']\n",
    "\n",
    "<font color=\"#d7ff81\"><b>cor 1</b> (ficou fora)</font>\n",
    "<font color=\"#bafd62\"><b>cor 2</b></font>\n",
    "<font color=\"#9feb3f\"><b>cor 3</b></font>\n",
    "<font color=\"#85d907\"><b>cor 4</b></font>\n",
    "<font color=\"#6cc700\"><b>cor 5</b></font>\n",
    "<font color=\"#52b700\"><b>cor 6</b></font>\n",
    "<font color=\"#35a600\"><b>cor 7</b></font>\n",
    "<font color=\"#0b9700\"><b>cor 8</b></font>\n",
    "<font color=\"#008800\"><b>cor 9</b></font>\n",
    "\n",
    "\n",
    "- grupo 3: 2 cores\n",
    "#888C03\n",
    "<ul>\n",
    "    <li style=\"color:#22401E\"><b>centroide 3 (puxando para tons frios mais claros)</b></li>\n",
    "</ul>\n",
    "\n",
    "<font color=\"#99b6b2\"><b>cor 1</b></font>\n",
    "<font color=\"#81a58b\"><b>cor 2</b></font>\n",
    "\n",
    "\n",
    "- grupo 4: 1 cor  (amarelo)\n",
    "<ul>\n",
    "    <li style=\"color:#F2CB07\"><b>centroide 4</b></li>\n",
    "</ul>\n",
    "\n",
    "- grupo 5: 10 cores\n",
    "<ul>\n",
    "    <li style=\"color:#cb97d4\"><b>centroide 5 (puxando para o roxo)</b></li>\n",
    "</ul>\n",
    "\n",
    "['#f8dcf9', '#ebc5ed', '#ddafe2', '#ce9ad6', '#bf86cc', '#af73c2', '#a160b8', '#924fae', '#833fa4'] #803da1\n",
    "\n",
    "<font color=\"#f8dcf9\"><b>cor 1</b></font>\n",
    "<font color=\"#ebc5ed\"><b>cor 2</b></font>\n",
    "<font color=\"#ddafe2\"><b>cor 3</b></font>\n",
    "<font color=\"#ce9ad6\"><b>cor 4</b></font>\n",
    "<font color=\"#bf86cc\"><b>cor 5</b></font>\n",
    "<font color=\"#af73c2\"><b>cor 6</b></font>\n",
    "<font color=\"#a160b8\"><b>cor 7</b></font>\n",
    "<font color=\"#924fae\"><b>cor 8</b></font>\n",
    "<font color=\"#833fa4\"><b>cor 9</b></font>\n",
    "<font color=\"#803da1\"><b>cor 10</b></font>\n",
    "\n",
    "\n",
    "- grupo 6: 12 cores\n",
    "<ul>\n",
    "    <li style=\"color:#91F2E9\"><b>centroide 6</b></li>\n",
    "</ul>\n",
    "\n",
    "['#c9fff9', '#b3eff2', '#9cdcea', '#83c9e2', '#68b7da', '#4aa6d2', '#2096ca', '#0087c1', '#0079b7']\n",
    "\n",
    "['#cee5d8', '#b3d2d1', '#9bbfc9', '#83adc2', '#6d9bba', '#568ab2', '#3e7baa', '#226ca2', '#005e98']\n",
    "\n",
    "\n",
    "<font color=\"#c9fff9\"><b>cor 1</b></font>\n",
    "<font color=\"#b3eff2\"><b>cor 2</b></font>\n",
    "<font color=\"#9cdcea\"><b>cor 3</b></font>\n",
    "<font color=\"#83c9e2\"><b>cor 4</b></font>\n",
    "<font color=\"#68b7da\"><b>cor 5</b></font>\n",
    "<font color=\"#4aa6d2\"><b>cor 6</b></font>\n",
    "<font color=\"#2096ca\"><b>cor 7</b></font>\n",
    "<font color=\"#0087c1\"><b>cor 8</b></font>\n",
    "<font color=\"#0079b7\"><b>cor 9</b></font>\n",
    "<font color=\"#3e7baa\"><b>cor 10</b></font>\n",
    "<font color=\"#226ca2\"><b>cor 11</b></font>\n",
    "<font color=\"#005e98\"><b>cor 12</b></font>\n",
    "\n",
    "\n",
    "- grupo 7: 3 cores\n",
    "<ul>\n",
    "    <li style=\"color:#8C1A0F\"><b>centroide 7 (puxando para o marrom)</b></li>\n",
    "</ul>\n",
    "\n",
    "['#fde5bf', '#efd09f', '#e1bb82', '#d3a767', '#c6934d', '#b98033', '#ac6f18', '#9e5e00', '#914e00']\n",
    "\n",
    "<font color=\"#ac6f18\"><b>cor 1</b></font>\n",
    "<font color=\"#9e5e00\"><b>cor 2</b></font>\n",
    "<font color=\"#914e00\"><b>cor 3</b></font>\n",
    "\n",
    "\n",
    "- grupo 8: 13 cores\n",
    "<ul>\n",
    "    <li style=\"color:#D9430D\"><b>centroide 8</b></li>\n",
    "</ul>\n",
    "\n",
    "['#ffce9f', '#ffb683', '#ff9f69', '#ff8851', '#f5723b', '#e75b25', '#d9430d', '#cb2800', '#bc0000']\n",
    "\n",
    "['#ff8f68', '#ff7e56', '#ff6b40', '#ee5829', '#d9430d', '#c62f00', '#b41b00', '#a40300', '#930000']\n",
    "\n",
    "<font color=\"#ffce9f\"><b>cor 1</b></font>\n",
    "<font color=\"#ffb683\"><b>cor 2</b></font>\n",
    "<font color=\"#ff9f69\"><b>cor 3</b></font>\n",
    "<font color=\"#ff8851\"><b>cor 4</b></font>\n",
    "<font color=\"#f5723b\"><b>cor 5</b></font>\n",
    "<font color=\"#e75b25\"><b>cor 6</b></font>\n",
    "<font color=\"#d9430d\"><b>cor 7</b></font>\n",
    "<font color=\"#cb2800\"><b>cor 8</b></font>\n",
    "<font color=\"#bc0000\"><b>cor 9</b></font>\n",
    "<font color=\"#c62f00\"><b>cor 10</b></font>\n",
    "<font color=\"#b41b00\"><b>cor 11</b></font>\n",
    "<font color=\"#a40300\"><b>cor 12</b></font>\n",
    "<font color=\"#930000\"><b>cor 13</b></font>\n",
    "\n",
    "<br>\n",
    "\n",
    "**TOTAL: 50 cores**"
   ]
  },
  {
   "cell_type": "code",
   "execution_count": 4,
   "metadata": {
    "ExecuteTime": {
     "end_time": "2021-01-06T22:04:29.088193Z",
     "start_time": "2021-01-06T22:04:29.082556Z"
    }
   },
   "outputs": [],
   "source": [
    "# cores_familia = {\n",
    "#     # known errors treatment\n",
    "# #     '#n/d':'#000000',\n",
    "# #     'nan':'#000000',\n",
    "#     # grupo 1: Crocodylia\n",
    "#     'Alligatoridae':'#142611',\n",
    "#     # grupo 2: Testudines - Cryptodira\n",
    "#     'Cheloniidae':'#bafd62',\n",
    "#     'Chelydridae':'#9feb3f',\n",
    "#     'Dermochelyidae':'#85d907',\n",
    "#     'Emydidae':'#6cc700',\n",
    "#     'Geoemydidae':'#52b700',\n",
    "#     'Kinosternidae':'#35a600',\n",
    "#     'Testudinidae':'#0b9700',\n",
    "#     'Trionychidae':'#008800',\n",
    "#     # grupo 3: Testudines - Pleurodira\n",
    "#     'Chelidae':'#99b6b2' ,\n",
    "#     'Podocnemididae':'#81a58b',\n",
    "#     # grupo 4: Amphisbaenia - Amphisbaenia\n",
    "#     'Amphisbaenidae':'#F2CB07',\n",
    "#     # grupo 5: Sauria - Iguania\n",
    "#     'Agamidae':'#f8dcf9',\n",
    "#     'Chamaeleonidae':'#ebc5ed',\n",
    "#     'Dactyloidae':'#ddafe2',\n",
    "#     'Iguanidae':'#ce9ad6',\n",
    "#     'Hoplocercidae':'#bf86cc',\n",
    "#     'Leiosauridae':'#af73c2',\n",
    "#     'Liolaemidae':'#a160b8', \n",
    "#     'Phrynosomatidae':'#924fae',\n",
    "#     'Polychrotidae':'#833fa4',\n",
    "#     'Tropiduridae':'#803da1',\n",
    "#     # grupo 6: Sauria - Scleroglossa\n",
    "#     'Anguidae':'#c9fff9',\n",
    "#     'Gekkonidae':'#b3eff2',\n",
    "#     'Gymnophthalmidae':'#9cdcea',\n",
    "#     'Helodermatidae':'#83c9e2',\n",
    "#     'Lacertidae':'#68b7da',\n",
    "#     'Mabuyinae':'#4aa6d2',\n",
    "#     'Phyllodactylidae':'#2096ca',\n",
    "#     'Scincidae':'#0087c1',\n",
    "#     'Sphaerodactylidae':'#0079b7',\n",
    "#     'Teiidae':'#3e7baa',\n",
    "#     'Varanidae':'#226ca2',\n",
    "#     'Xantusiidae':'#005e98',\n",
    "#     # grupo 7: Serpentes - Scolecophidia\n",
    "#     'Anomalepididae':'#ac6f18',\n",
    "#     'Leptotyphlopidae':'#9e5e00',\n",
    "#     'Typhlopidae':'#914e00', \n",
    "#     # grupo 8: Alethinophidia\n",
    "#     'Aniliidae':'#ffce9f',\n",
    "#     'Boidae':'#ffb683',\n",
    "#     'Colubridae':'#ff9f69',\n",
    "#     'Dipsadidae':'#ff8851',\n",
    "#     'Elapidae':'#f5723b',\n",
    "#     'Homalopsidae':'#e75b25',\n",
    "#     'Lamprophiidae':'#d9430d', \n",
    "#     'Loxocemidae':'#cb2800',\n",
    "#     'Natricidae':'#bc0000',\n",
    "#     'Pythonidae':'#c62f00',\n",
    "#     'Tropidophiidae':'#b41b00',\n",
    "#     'Viperidae':'#a40300',\n",
    "#     'Xenopeltidae':'#930000'\n",
    "# }"
   ]
  },
  {
   "cell_type": "code",
   "execution_count": 6,
   "metadata": {
    "ExecuteTime": {
     "end_time": "2021-01-26T14:38:20.564032Z",
     "start_time": "2021-01-26T14:38:20.524319Z"
    }
   },
   "outputs": [],
   "source": [
    "ordens = NewTable['order'].unique()\n",
    "familias = NewTable['family'].unique()"
   ]
  },
  {
   "cell_type": "markdown",
   "metadata": {},
   "source": [
    "<br>\n",
    "\n",
    "\n",
    "## Graphs\n",
    "\n",
    "---"
   ]
  },
  {
   "cell_type": "markdown",
   "metadata": {},
   "source": [
    "<font color='blue' size='6'>Ajustar a partir daqui!!! </font>"
   ]
  },
  {
   "cell_type": "markdown",
   "metadata": {},
   "source": [
    "<br>\n",
    "\n",
    "### Creating chart: counts per determiner per year\n",
    "\n",
    "To calculate the cumulative counts, we need to consider ALL determiner's columns, in this case:\n",
    "\n",
    "    - 'determinator_full_name'\n",
    "    - 'determinator_full_name2': as I'm writing this script, it's all empty"
   ]
  },
  {
   "cell_type": "code",
   "execution_count": 5,
   "metadata": {
    "ExecuteTime": {
     "end_time": "2021-01-06T22:04:32.169592Z",
     "start_time": "2021-01-06T22:04:32.152718Z"
    }
   },
   "outputs": [],
   "source": [
    "determiner_columns = ['determinator_full_name', 'determinator_full_name2']\n",
    "\n",
    "# name of all determiners (first and second)\n",
    "determiners = set(NewTable['determinator_full_name'].str.strip()).union(set(NewTable['determinator_full_name2']))\n",
    "\n",
    "determiners = [name for name in determiners if 'nan' not in str(name)]  # removing NaN and parsing into a list"
   ]
  },
  {
   "cell_type": "code",
   "execution_count": 6,
   "metadata": {
    "ExecuteTime": {
     "end_time": "2021-01-06T22:04:33.435251Z",
     "start_time": "2021-01-06T22:04:33.114981Z"
    }
   },
   "outputs": [],
   "source": [
    "# cumulatively counting the contribution of each determiner\n",
    "result = defaultdict()\n",
    "for col in determiner_columns:\n",
    "    temp = NewTable.groupby([col, 'ano_determinacao']).count()['class'].reset_index().rename(columns={\n",
    "        'class':'counts'\n",
    "    })\n",
    "    \n",
    "    temp.sort_values('ano_determinacao')\n",
    "    for det in temp[col].unique():\n",
    "        if 'nan' not in str(det):  # OBS: se precisar coletar mais informações, fazer isso AQUI!\n",
    "            cumSum = list(temp[temp[col] == det]['counts'].cumsum())\n",
    "            years = list(temp[temp[col] == det]['ano_determinacao'])\n",
    "\n",
    "            for i in range(len(cumSum)):\n",
    "                result[f'{det}-{years[i]}'] = cumSum[i]\n",
    "                \n",
    "counts = pd.DataFrame(dict(result), index=['cumulative_sum']).transpose().reset_index()"
   ]
  },
  {
   "cell_type": "code",
   "execution_count": 7,
   "metadata": {
    "ExecuteTime": {
     "end_time": "2021-01-06T22:04:35.758549Z",
     "start_time": "2021-01-06T22:04:35.752756Z"
    }
   },
   "outputs": [],
   "source": [
    "counts['determinator_full_name'] = counts['index'].apply(lambda x:str(x).split('-')[0])\n",
    "counts['ano_determinacao'] = counts['index'].apply(lambda x:float(str(x).split('-')[-1]))"
   ]
  },
  {
   "cell_type": "code",
   "execution_count": 9,
   "metadata": {
    "ExecuteTime": {
     "end_time": "2021-01-06T22:04:41.534257Z",
     "start_time": "2021-01-06T22:04:41.498345Z"
    }
   },
   "outputs": [],
   "source": [
    "g1 = alt.Chart(counts, title='Número acumulado de espécimes por determinador', width=800,\n",
    "              height=400).mark_line(point=True).encode(\n",
    "    x= alt.X('ano_determinacao', type=\"ordinal\", title='Ano de Determinação'),\n",
    "    y= alt.Y('cumulative_sum', title='', \n",
    "             sort=alt.EncodingSortField('counts', op=\"count\", order='descending')),\n",
    "    color= alt.Color('determinator_full_name:N', title='', legend=None),\n",
    "    tooltip= alt.Tooltip(['determinator_full_name','ano_determinacao','cumulative_sum'])\n",
    ")\n",
    "\n",
    "g1 = g1.configure_title(fontSize=16).configure_axis(\n",
    "    labelFontSize=12,\n",
    "    titleFontSize=12\n",
    ").configure_legend(\n",
    "    labelFontSize=12,\n",
    "    titleFontSize=12\n",
    ")\n",
    "\n",
    "g1.save('./graphs/cumCounts/determiner/cumCount-per-year.html')\n",
    "\n",
    "# g1"
   ]
  },
  {
   "cell_type": "markdown",
   "metadata": {},
   "source": [
    "<br>\n",
    "\n",
    "### Collector's cumulative contribution per year\n",
    "\n",
    "<font color='red' size='5'> Collectors name is sensitive data. Do not publish it without curator's permission </font>\n",
    "\n",
    "To calculate the cumulative counts, we need to consider ALL collector's columns, in this case:\n",
    "\n",
    "    - 'collector_full_name'\n",
    "    - 'collector_full_name2' ... 'collector_full_name6'"
   ]
  },
  {
   "cell_type": "code",
   "execution_count": 10,
   "metadata": {
    "ExecuteTime": {
     "end_time": "2021-01-06T22:04:42.675929Z",
     "start_time": "2021-01-06T22:04:42.650595Z"
    }
   },
   "outputs": [],
   "source": [
    "collector_columns = ['collector_full_name', 'collector_full_name2', \n",
    "                     'collector_full_name3', 'collector_full_name4', \n",
    "                     'collector_full_name5', 'collector_full_name6']\n",
    "\n",
    "# name of all collectors (first through sixth)\n",
    "collectors = set(NewTable['collector_full_name'].str.strip())\n",
    "\n",
    "for col in collector_columns[1:]:\n",
    "    collectors = collectors.union(set(NewTable[col]))\n",
    "\n",
    "collectors = [name for name in collectors if 'nan' not in str(name)]  # removing NaN and parsing into a list"
   ]
  },
  {
   "cell_type": "code",
   "execution_count": 11,
   "metadata": {
    "ExecuteTime": {
     "end_time": "2021-01-06T22:04:48.644042Z",
     "start_time": "2021-01-06T22:04:44.511701Z"
    }
   },
   "outputs": [],
   "source": [
    "# organising the yearly contribution of each collector\n",
    "result = defaultdict()\n",
    "for col in collector_columns:\n",
    "    temp = NewTable.groupby([col, 'ano_coleta']).count()['class'].reset_index().rename(columns={\n",
    "        'class':'counts'\n",
    "    })\n",
    "    \n",
    "    temp.sort_values('ano_coleta')\n",
    "    for collector in temp[col].unique():\n",
    "        if 'nan' not in str(collector):  # OBS: se precisar coletar mais informações, fazer isso AQUI!\n",
    "            count = list(temp[temp[col] == collector]['counts'])\n",
    "            years = list(temp[temp[col] == collector]['ano_coleta'])\n",
    "\n",
    "            for i in range(len(count)):\n",
    "                result[f'{collector}-{years[i]}'] = count[i]\n",
    "                \n",
    "counts = pd.DataFrame(dict(result), index=['count']).transpose().reset_index()"
   ]
  },
  {
   "cell_type": "code",
   "execution_count": 12,
   "metadata": {
    "ExecuteTime": {
     "end_time": "2021-01-06T22:04:48.730941Z",
     "start_time": "2021-01-06T22:04:48.720693Z"
    }
   },
   "outputs": [],
   "source": [
    "counts['collector_full_name'] = counts['index'].apply(lambda x:str(x).split('-')[0])\n",
    "counts['ano_coleta'] = counts['index'].apply(lambda x:float(str(x).split('-')[-1]))"
   ]
  },
  {
   "cell_type": "code",
   "execution_count": 13,
   "metadata": {
    "ExecuteTime": {
     "end_time": "2021-01-06T22:04:48.820518Z",
     "start_time": "2021-01-06T22:04:48.810940Z"
    }
   },
   "outputs": [],
   "source": [
    "# sorting\n",
    "counts.sort_values(['collector_full_name', 'ano_coleta'], inplace=True)"
   ]
  },
  {
   "cell_type": "code",
   "execution_count": 14,
   "metadata": {
    "ExecuteTime": {
     "end_time": "2021-01-06T22:04:50.841378Z",
     "start_time": "2021-01-06T22:04:48.906158Z"
    }
   },
   "outputs": [],
   "source": [
    "# cumulatively counting\n",
    "cumSum = []\n",
    "for collector in counts['collector_full_name'].unique():\n",
    "    cumSum.extend(list(counts[counts['collector_full_name'] == collector]['count'].cumsum()))\n",
    "\n",
    "counts['cumulative_sum'] = cumSum"
   ]
  },
  {
   "cell_type": "code",
   "execution_count": 16,
   "metadata": {
    "ExecuteTime": {
     "end_time": "2021-01-06T22:05:00.032651Z",
     "start_time": "2021-01-06T22:04:59.967388Z"
    }
   },
   "outputs": [],
   "source": [
    "g1 = alt.Chart(counts, title='Número acumulado de espécimes por coletor', width=800,\n",
    "              height=400).mark_line(point=True).encode(\n",
    "    x= alt.X('ano_coleta', type=\"ordinal\", title='Ano de Coleta'),\n",
    "    y= alt.Y('cumulative_sum', title='', \n",
    "             sort=alt.EncodingSortField('counts', op=\"count\", order='descending')),\n",
    "    color= alt.Color('collector_full_name:N', title='', legend=None),\n",
    "    tooltip= alt.Tooltip(['collector_full_name','ano_coleta','cumulative_sum'])\n",
    ")\n",
    "\n",
    "g1 = g1.configure_title(fontSize=16).configure_axis(\n",
    "    labelFontSize=12,\n",
    "    titleFontSize=12\n",
    ").configure_legend(\n",
    "    labelFontSize=12,\n",
    "    titleFontSize=12\n",
    ")\n",
    "\n",
    "g1.save('./graphs/cumCounts/collector/cumCount-per-year.html')\n",
    "\n",
    "# g1"
   ]
  },
  {
   "cell_type": "markdown",
   "metadata": {},
   "source": [
    "<br>\n",
    "\n",
    "## Cumulative counts per Family\n"
   ]
  },
  {
   "cell_type": "code",
   "execution_count": 17,
   "metadata": {
    "ExecuteTime": {
     "end_time": "2021-01-06T22:06:37.837193Z",
     "start_time": "2021-01-06T22:06:37.784451Z"
    }
   },
   "outputs": [],
   "source": [
    "# grouping per Year and Family\n",
    "teste = NewTable.groupby(['ano_coleta','familia']).count()['class'].reset_index().rename(columns={\n",
    "    'class':'counts'\n",
    "})\n",
    "\n",
    "# sorting...\n",
    "teste = teste.sort_values(['familia', 'ano_coleta'])"
   ]
  },
  {
   "cell_type": "code",
   "execution_count": 18,
   "metadata": {
    "ExecuteTime": {
     "end_time": "2021-01-06T22:07:11.285870Z",
     "start_time": "2021-01-06T22:07:11.238597Z"
    }
   },
   "outputs": [],
   "source": [
    "# cumulatively counting\n",
    "cumSum = []\n",
    "for family in teste['familia'].unique():\n",
    "    cumSum.extend(list(teste[teste['familia'] == family]['counts'].cumsum()))\n",
    "    \n",
    "teste['cumulative_sum'] = cumSum"
   ]
  },
  {
   "cell_type": "markdown",
   "metadata": {},
   "source": [
    "### Chart: per collected year"
   ]
  },
  {
   "cell_type": "code",
   "execution_count": 26,
   "metadata": {
    "ExecuteTime": {
     "end_time": "2021-01-06T22:12:56.732514Z",
     "start_time": "2021-01-06T22:12:56.644986Z"
    }
   },
   "outputs": [
    {
     "data": {
      "text/html": [
       "\n",
       "<div id=\"altair-viz-cbd5ca4ee04c412bba41407d928cfa52\"></div>\n",
       "<script type=\"text/javascript\">\n",
       "  (function(spec, embedOpt){\n",
       "    let outputDiv = document.currentScript.previousElementSibling;\n",
       "    if (outputDiv.id !== \"altair-viz-cbd5ca4ee04c412bba41407d928cfa52\") {\n",
       "      outputDiv = document.getElementById(\"altair-viz-cbd5ca4ee04c412bba41407d928cfa52\");\n",
       "    }\n",
       "    const paths = {\n",
       "      \"vega\": \"https://cdn.jsdelivr.net/npm//vega@5?noext\",\n",
       "      \"vega-lib\": \"https://cdn.jsdelivr.net/npm//vega-lib?noext\",\n",
       "      \"vega-lite\": \"https://cdn.jsdelivr.net/npm//vega-lite@4.8.1?noext\",\n",
       "      \"vega-embed\": \"https://cdn.jsdelivr.net/npm//vega-embed@6?noext\",\n",
       "    };\n",
       "\n",
       "    function loadScript(lib) {\n",
       "      return new Promise(function(resolve, reject) {\n",
       "        var s = document.createElement('script');\n",
       "        s.src = paths[lib];\n",
       "        s.async = true;\n",
       "        s.onload = () => resolve(paths[lib]);\n",
       "        s.onerror = () => reject(`Error loading script: ${paths[lib]}`);\n",
       "        document.getElementsByTagName(\"head\")[0].appendChild(s);\n",
       "      });\n",
       "    }\n",
       "\n",
       "    function showError(err) {\n",
       "      outputDiv.innerHTML = `<div class=\"error\" style=\"color:red;\">${err}</div>`;\n",
       "      throw err;\n",
       "    }\n",
       "\n",
       "    function displayChart(vegaEmbed) {\n",
       "      vegaEmbed(outputDiv, spec, embedOpt)\n",
       "        .catch(err => showError(`Javascript Error: ${err.message}<br>This usually means there's a typo in your chart specification. See the javascript console for the full traceback.`));\n",
       "    }\n",
       "\n",
       "    if(typeof define === \"function\" && define.amd) {\n",
       "      requirejs.config({paths});\n",
       "      require([\"vega-embed\"], displayChart, err => showError(`Error loading script: ${err.message}`));\n",
       "    } else if (typeof vegaEmbed === \"function\") {\n",
       "      displayChart(vegaEmbed);\n",
       "    } else {\n",
       "      loadScript(\"vega\")\n",
       "        .then(() => loadScript(\"vega-lite\"))\n",
       "        .then(() => loadScript(\"vega-embed\"))\n",
       "        .catch(showError)\n",
       "        .then(() => displayChart(vegaEmbed));\n",
       "    }\n",
       "  })({\"config\": {\"view\": {\"continuousWidth\": 400, \"continuousHeight\": 300}, \"axis\": {\"labelFontSize\": 12, \"titleFontSize\": 12}, \"legend\": {\"labelFontSize\": 12, \"titleFontSize\": 12}, \"title\": {\"fontSize\": 16}}, \"data\": {\"name\": \"data-ba3e5b39552e42282396e40d02a0e5cc\"}, \"mark\": {\"type\": \"line\", \"point\": true}, \"encoding\": {\"color\": {\"type\": \"nominal\", \"field\": \"familia\", \"legend\": {\"columns\": 2, \"symbolLimit\": 50}, \"scale\": {\"domain\": [\"Alligatoridae\", \"Cheloniidae\", \"Dermochelyidae\", \"Emydidae\", \"Geoemydidae\", \"Kinosternidae\", \"Testudinidae\", \"Trionychidae\", \"Chelidae\", \"Podocnemididae\", \"Amphisbaenidae\", \"Agamidae\", \"Chamaeleonidae\", \"Dactyloidae\", \"Iguanidae\", \"Hoplocercidae\", \"Leiosauridae\", \"Liolaemidae\", \"Phrynosomatidae\", \"Polychrotidae\", \"Tropiduridae\", \"Anguidae\", \"Gekkonidae\", \"Gymnophthalmidae\", \"Phyllodactylidae\", \"Scincidae\", \"Sphaerodactylidae\", \"Teiidae\", \"Xantusiidae\", \"Anomalepididae\", \"Leptotyphlopidae\", \"Typhlopidae\", \"Aniliidae\", \"Boidae\", \"Colubridae\", \"Dipsadidae\", \"Elapidae\", \"Loxocemidae\", \"Natricidae\", \"Tropidophiidae\", \"Viperidae\"], \"range\": [\"#142611\", \"#bafd62\", \"#85d907\", \"#6cc700\", \"#52b700\", \"#35a600\", \"#0b9700\", \"#008800\", \"#99b6b2\", \"#81a58b\", \"#F2CB07\", \"#f8dcf9\", \"#ebc5ed\", \"#ddafe2\", \"#ce9ad6\", \"#bf86cc\", \"#af73c2\", \"#a160b8\", \"#924fae\", \"#833fa4\", \"#803da1\", \"#c9fff9\", \"#b3eff2\", \"#9cdcea\", \"#2096ca\", \"#0087c1\", \"#0079b7\", \"#3e7baa\", \"#005e98\", \"#ac6f18\", \"#9e5e00\", \"#914e00\", \"#ffce9f\", \"#ffb683\", \"#ff9f69\", \"#ff8851\", \"#f5723b\", \"#cb2800\", \"#bc0000\", \"#b41b00\", \"#a40300\"]}, \"title\": \"Familia\"}, \"opacity\": {\"condition\": {\"value\": 1, \"selection\": \"selector008\"}, \"value\": 0}, \"tooltip\": [{\"type\": \"nominal\", \"field\": \"familia\"}, {\"type\": \"quantitative\", \"field\": \"ano_coleta\"}, {\"type\": \"quantitative\", \"field\": \"counts\"}, {\"type\": \"quantitative\", \"field\": \"cumulative_sum\"}], \"x\": {\"type\": \"ordinal\", \"field\": \"ano_coleta\", \"title\": \"Ano de Coleta\"}, \"y\": {\"type\": \"quantitative\", \"field\": \"cumulative_sum\", \"sort\": {\"field\": \"counts\", \"op\": \"count\", \"order\": \"descending\"}, \"title\": \"\"}}, \"height\": 400, \"selection\": {\"selector008\": {\"type\": \"multi\", \"fields\": [\"familia\"], \"bind\": \"legend\"}}, \"title\": \"Quantidade de exemplares por fam\\u00edlia\", \"width\": 600, \"$schema\": \"https://vega.github.io/schema/vega-lite/v4.8.1.json\", \"datasets\": {\"data-ba3e5b39552e42282396e40d02a0e5cc\": [{\"ano_coleta\": 1990.0, \"familia\": \"#n/d\", \"counts\": 1, \"cumulative_sum\": 1}, {\"ano_coleta\": 2015.0, \"familia\": \"#n/d\", \"counts\": 1, \"cumulative_sum\": 2}, {\"ano_coleta\": 1962.0, \"familia\": \"Agamidae\", \"counts\": 2, \"cumulative_sum\": 2}, {\"ano_coleta\": 1912.0, \"familia\": \"Alligatoridae\", \"counts\": 1, \"cumulative_sum\": 1}, {\"ano_coleta\": 1948.0, \"familia\": \"Alligatoridae\", \"counts\": 1, \"cumulative_sum\": 2}, {\"ano_coleta\": 1979.0, \"familia\": \"Alligatoridae\", \"counts\": 1, \"cumulative_sum\": 3}, {\"ano_coleta\": 1986.0, \"familia\": \"Alligatoridae\", \"counts\": 2, \"cumulative_sum\": 5}, {\"ano_coleta\": 1987.0, \"familia\": \"Alligatoridae\", \"counts\": 187, \"cumulative_sum\": 192}, {\"ano_coleta\": 1989.0, \"familia\": \"Alligatoridae\", \"counts\": 2, \"cumulative_sum\": 194}, {\"ano_coleta\": 1991.0, \"familia\": \"Alligatoridae\", \"counts\": 2, \"cumulative_sum\": 196}, {\"ano_coleta\": 1996.0, \"familia\": \"Alligatoridae\", \"counts\": 3, \"cumulative_sum\": 199}, {\"ano_coleta\": 1998.0, \"familia\": \"Alligatoridae\", \"counts\": 3, \"cumulative_sum\": 202}, {\"ano_coleta\": 1999.0, \"familia\": \"Alligatoridae\", \"counts\": 2, \"cumulative_sum\": 204}, {\"ano_coleta\": 2000.0, \"familia\": \"Alligatoridae\", \"counts\": 3, \"cumulative_sum\": 207}, {\"ano_coleta\": 2001.0, \"familia\": \"Alligatoridae\", \"counts\": 1, \"cumulative_sum\": 208}, {\"ano_coleta\": 2005.0, \"familia\": \"Alligatoridae\", \"counts\": 2, \"cumulative_sum\": 210}, {\"ano_coleta\": 2006.0, \"familia\": \"Alligatoridae\", \"counts\": 2, \"cumulative_sum\": 212}, {\"ano_coleta\": 2007.0, \"familia\": \"Alligatoridae\", \"counts\": 4, \"cumulative_sum\": 216}, {\"ano_coleta\": 2008.0, \"familia\": \"Alligatoridae\", \"counts\": 2, \"cumulative_sum\": 218}, {\"ano_coleta\": 2009.0, \"familia\": \"Alligatoridae\", \"counts\": 5, \"cumulative_sum\": 223}, {\"ano_coleta\": 2010.0, \"familia\": \"Alligatoridae\", \"counts\": 1, \"cumulative_sum\": 224}, {\"ano_coleta\": 2012.0, \"familia\": \"Alligatoridae\", \"counts\": 2, \"cumulative_sum\": 226}, {\"ano_coleta\": 2013.0, \"familia\": \"Alligatoridae\", \"counts\": 2, \"cumulative_sum\": 228}, {\"ano_coleta\": 2014.0, \"familia\": \"Alligatoridae\", \"counts\": 1, \"cumulative_sum\": 229}, {\"ano_coleta\": 1938.0, \"familia\": \"Amphisbaenidae\", \"counts\": 1, \"cumulative_sum\": 1}, {\"ano_coleta\": 1939.0, \"familia\": \"Amphisbaenidae\", \"counts\": 1, \"cumulative_sum\": 2}, {\"ano_coleta\": 1940.0, \"familia\": \"Amphisbaenidae\", \"counts\": 2, \"cumulative_sum\": 4}, {\"ano_coleta\": 1941.0, \"familia\": \"Amphisbaenidae\", \"counts\": 1, \"cumulative_sum\": 5}, {\"ano_coleta\": 1942.0, \"familia\": \"Amphisbaenidae\", \"counts\": 4, \"cumulative_sum\": 9}, {\"ano_coleta\": 1943.0, \"familia\": \"Amphisbaenidae\", \"counts\": 1, \"cumulative_sum\": 10}, {\"ano_coleta\": 1944.0, \"familia\": \"Amphisbaenidae\", \"counts\": 6, \"cumulative_sum\": 16}, {\"ano_coleta\": 1945.0, \"familia\": \"Amphisbaenidae\", \"counts\": 5, \"cumulative_sum\": 21}, {\"ano_coleta\": 1946.0, \"familia\": \"Amphisbaenidae\", \"counts\": 1, \"cumulative_sum\": 22}, {\"ano_coleta\": 1947.0, \"familia\": \"Amphisbaenidae\", \"counts\": 5, \"cumulative_sum\": 27}, {\"ano_coleta\": 1948.0, \"familia\": \"Amphisbaenidae\", \"counts\": 3, \"cumulative_sum\": 30}, {\"ano_coleta\": 1949.0, \"familia\": \"Amphisbaenidae\", \"counts\": 1, \"cumulative_sum\": 31}, {\"ano_coleta\": 1950.0, \"familia\": \"Amphisbaenidae\", \"counts\": 2, \"cumulative_sum\": 33}, {\"ano_coleta\": 1951.0, \"familia\": \"Amphisbaenidae\", \"counts\": 1, \"cumulative_sum\": 34}, {\"ano_coleta\": 1952.0, \"familia\": \"Amphisbaenidae\", \"counts\": 2, \"cumulative_sum\": 36}, {\"ano_coleta\": 1953.0, \"familia\": \"Amphisbaenidae\", \"counts\": 1, \"cumulative_sum\": 37}, {\"ano_coleta\": 1954.0, \"familia\": \"Amphisbaenidae\", \"counts\": 2, \"cumulative_sum\": 39}, {\"ano_coleta\": 1956.0, \"familia\": \"Amphisbaenidae\", \"counts\": 1, \"cumulative_sum\": 40}, {\"ano_coleta\": 1957.0, \"familia\": \"Amphisbaenidae\", \"counts\": 4, \"cumulative_sum\": 44}, {\"ano_coleta\": 1958.0, \"familia\": \"Amphisbaenidae\", \"counts\": 5, \"cumulative_sum\": 49}, {\"ano_coleta\": 1959.0, \"familia\": \"Amphisbaenidae\", \"counts\": 1, \"cumulative_sum\": 50}, {\"ano_coleta\": 1961.0, \"familia\": \"Amphisbaenidae\", \"counts\": 1, \"cumulative_sum\": 51}, {\"ano_coleta\": 1963.0, \"familia\": \"Amphisbaenidae\", \"counts\": 2, \"cumulative_sum\": 53}, {\"ano_coleta\": 1964.0, \"familia\": \"Amphisbaenidae\", \"counts\": 2, \"cumulative_sum\": 55}, {\"ano_coleta\": 1966.0, \"familia\": \"Amphisbaenidae\", \"counts\": 1, \"cumulative_sum\": 56}, {\"ano_coleta\": 1969.0, \"familia\": \"Amphisbaenidae\", \"counts\": 45, \"cumulative_sum\": 101}, {\"ano_coleta\": 1973.0, \"familia\": \"Amphisbaenidae\", \"counts\": 3, \"cumulative_sum\": 104}, {\"ano_coleta\": 1974.0, \"familia\": \"Amphisbaenidae\", \"counts\": 1, \"cumulative_sum\": 105}, {\"ano_coleta\": 1975.0, \"familia\": \"Amphisbaenidae\", \"counts\": 4, \"cumulative_sum\": 109}, {\"ano_coleta\": 1976.0, \"familia\": \"Amphisbaenidae\", \"counts\": 3, \"cumulative_sum\": 112}, {\"ano_coleta\": 1977.0, \"familia\": \"Amphisbaenidae\", \"counts\": 1, \"cumulative_sum\": 113}, {\"ano_coleta\": 1978.0, \"familia\": \"Amphisbaenidae\", \"counts\": 2, \"cumulative_sum\": 115}, {\"ano_coleta\": 1979.0, \"familia\": \"Amphisbaenidae\", \"counts\": 1, \"cumulative_sum\": 116}, {\"ano_coleta\": 1980.0, \"familia\": \"Amphisbaenidae\", \"counts\": 3, \"cumulative_sum\": 119}, {\"ano_coleta\": 1981.0, \"familia\": \"Amphisbaenidae\", \"counts\": 4, \"cumulative_sum\": 123}, {\"ano_coleta\": 1982.0, \"familia\": \"Amphisbaenidae\", \"counts\": 3, \"cumulative_sum\": 126}, {\"ano_coleta\": 1983.0, \"familia\": \"Amphisbaenidae\", \"counts\": 1, \"cumulative_sum\": 127}, {\"ano_coleta\": 1984.0, \"familia\": \"Amphisbaenidae\", \"counts\": 3, \"cumulative_sum\": 130}, {\"ano_coleta\": 1985.0, \"familia\": \"Amphisbaenidae\", \"counts\": 7, \"cumulative_sum\": 137}, {\"ano_coleta\": 1986.0, \"familia\": \"Amphisbaenidae\", \"counts\": 8, \"cumulative_sum\": 145}, {\"ano_coleta\": 1987.0, \"familia\": \"Amphisbaenidae\", \"counts\": 9, \"cumulative_sum\": 154}, {\"ano_coleta\": 1988.0, \"familia\": \"Amphisbaenidae\", \"counts\": 13, \"cumulative_sum\": 167}, {\"ano_coleta\": 1989.0, \"familia\": \"Amphisbaenidae\", \"counts\": 16, \"cumulative_sum\": 183}, {\"ano_coleta\": 1990.0, \"familia\": \"Amphisbaenidae\", \"counts\": 42, \"cumulative_sum\": 225}, {\"ano_coleta\": 1991.0, \"familia\": \"Amphisbaenidae\", \"counts\": 5, \"cumulative_sum\": 230}, {\"ano_coleta\": 1992.0, \"familia\": \"Amphisbaenidae\", \"counts\": 7, \"cumulative_sum\": 237}, {\"ano_coleta\": 1993.0, \"familia\": \"Amphisbaenidae\", \"counts\": 7, \"cumulative_sum\": 244}, {\"ano_coleta\": 1994.0, \"familia\": \"Amphisbaenidae\", \"counts\": 1, \"cumulative_sum\": 245}, {\"ano_coleta\": 1995.0, \"familia\": \"Amphisbaenidae\", \"counts\": 7, \"cumulative_sum\": 252}, {\"ano_coleta\": 1996.0, \"familia\": \"Amphisbaenidae\", \"counts\": 13, \"cumulative_sum\": 265}, {\"ano_coleta\": 1997.0, \"familia\": \"Amphisbaenidae\", \"counts\": 15, \"cumulative_sum\": 280}, {\"ano_coleta\": 1998.0, \"familia\": \"Amphisbaenidae\", \"counts\": 18, \"cumulative_sum\": 298}, {\"ano_coleta\": 1999.0, \"familia\": \"Amphisbaenidae\", \"counts\": 9, \"cumulative_sum\": 307}, {\"ano_coleta\": 2000.0, \"familia\": \"Amphisbaenidae\", \"counts\": 1, \"cumulative_sum\": 308}, {\"ano_coleta\": 2001.0, \"familia\": \"Amphisbaenidae\", \"counts\": 9, \"cumulative_sum\": 317}, {\"ano_coleta\": 2002.0, \"familia\": \"Amphisbaenidae\", \"counts\": 1, \"cumulative_sum\": 318}, {\"ano_coleta\": 2003.0, \"familia\": \"Amphisbaenidae\", \"counts\": 12, \"cumulative_sum\": 330}, {\"ano_coleta\": 2004.0, \"familia\": \"Amphisbaenidae\", \"counts\": 11, \"cumulative_sum\": 341}, {\"ano_coleta\": 2005.0, \"familia\": \"Amphisbaenidae\", \"counts\": 17, \"cumulative_sum\": 358}, {\"ano_coleta\": 2006.0, \"familia\": \"Amphisbaenidae\", \"counts\": 14, \"cumulative_sum\": 372}, {\"ano_coleta\": 2007.0, \"familia\": \"Amphisbaenidae\", \"counts\": 30, \"cumulative_sum\": 402}, {\"ano_coleta\": 2008.0, \"familia\": \"Amphisbaenidae\", \"counts\": 47, \"cumulative_sum\": 449}, {\"ano_coleta\": 2009.0, \"familia\": \"Amphisbaenidae\", \"counts\": 30, \"cumulative_sum\": 479}, {\"ano_coleta\": 2010.0, \"familia\": \"Amphisbaenidae\", \"counts\": 32, \"cumulative_sum\": 511}, {\"ano_coleta\": 2011.0, \"familia\": \"Amphisbaenidae\", \"counts\": 29, \"cumulative_sum\": 540}, {\"ano_coleta\": 2012.0, \"familia\": \"Amphisbaenidae\", \"counts\": 25, \"cumulative_sum\": 565}, {\"ano_coleta\": 2013.0, \"familia\": \"Amphisbaenidae\", \"counts\": 20, \"cumulative_sum\": 585}, {\"ano_coleta\": 2014.0, \"familia\": \"Amphisbaenidae\", \"counts\": 59, \"cumulative_sum\": 644}, {\"ano_coleta\": 2015.0, \"familia\": \"Amphisbaenidae\", \"counts\": 300, \"cumulative_sum\": 944}, {\"ano_coleta\": 2016.0, \"familia\": \"Amphisbaenidae\", \"counts\": 1, \"cumulative_sum\": 945}, {\"ano_coleta\": 1940.0, \"familia\": \"Anguidae\", \"counts\": 1, \"cumulative_sum\": 1}, {\"ano_coleta\": 1942.0, \"familia\": \"Anguidae\", \"counts\": 8, \"cumulative_sum\": 9}, {\"ano_coleta\": 1944.0, \"familia\": \"Anguidae\", \"counts\": 5, \"cumulative_sum\": 14}, {\"ano_coleta\": 1945.0, \"familia\": \"Anguidae\", \"counts\": 3, \"cumulative_sum\": 17}, {\"ano_coleta\": 1946.0, \"familia\": \"Anguidae\", \"counts\": 1, \"cumulative_sum\": 18}, {\"ano_coleta\": 1947.0, \"familia\": \"Anguidae\", \"counts\": 2, \"cumulative_sum\": 20}, {\"ano_coleta\": 1949.0, \"familia\": \"Anguidae\", \"counts\": 4, \"cumulative_sum\": 24}, {\"ano_coleta\": 1952.0, \"familia\": \"Anguidae\", \"counts\": 1, \"cumulative_sum\": 25}, {\"ano_coleta\": 1953.0, \"familia\": \"Anguidae\", \"counts\": 1, \"cumulative_sum\": 26}, {\"ano_coleta\": 1956.0, \"familia\": \"Anguidae\", \"counts\": 1, \"cumulative_sum\": 27}, {\"ano_coleta\": 1957.0, \"familia\": \"Anguidae\", \"counts\": 1, \"cumulative_sum\": 28}, {\"ano_coleta\": 1959.0, \"familia\": \"Anguidae\", \"counts\": 2, \"cumulative_sum\": 30}, {\"ano_coleta\": 1960.0, \"familia\": \"Anguidae\", \"counts\": 2, \"cumulative_sum\": 32}, {\"ano_coleta\": 1963.0, \"familia\": \"Anguidae\", \"counts\": 1, \"cumulative_sum\": 33}, {\"ano_coleta\": 1964.0, \"familia\": \"Anguidae\", \"counts\": 1, \"cumulative_sum\": 34}, {\"ano_coleta\": 1973.0, \"familia\": \"Anguidae\", \"counts\": 1, \"cumulative_sum\": 35}, {\"ano_coleta\": 1974.0, \"familia\": \"Anguidae\", \"counts\": 2, \"cumulative_sum\": 37}, {\"ano_coleta\": 1975.0, \"familia\": \"Anguidae\", \"counts\": 2, \"cumulative_sum\": 39}, {\"ano_coleta\": 1976.0, \"familia\": \"Anguidae\", \"counts\": 1, \"cumulative_sum\": 40}, {\"ano_coleta\": 1977.0, \"familia\": \"Anguidae\", \"counts\": 2, \"cumulative_sum\": 42}, {\"ano_coleta\": 1978.0, \"familia\": \"Anguidae\", \"counts\": 1, \"cumulative_sum\": 43}, {\"ano_coleta\": 1979.0, \"familia\": \"Anguidae\", \"counts\": 1, \"cumulative_sum\": 44}, {\"ano_coleta\": 1980.0, \"familia\": \"Anguidae\", \"counts\": 2, \"cumulative_sum\": 46}, {\"ano_coleta\": 1981.0, \"familia\": \"Anguidae\", \"counts\": 2, \"cumulative_sum\": 48}, {\"ano_coleta\": 1982.0, \"familia\": \"Anguidae\", \"counts\": 2, \"cumulative_sum\": 50}, {\"ano_coleta\": 1984.0, \"familia\": \"Anguidae\", \"counts\": 1, \"cumulative_sum\": 51}, {\"ano_coleta\": 1985.0, \"familia\": \"Anguidae\", \"counts\": 2, \"cumulative_sum\": 53}, {\"ano_coleta\": 1986.0, \"familia\": \"Anguidae\", \"counts\": 3, \"cumulative_sum\": 56}, {\"ano_coleta\": 1987.0, \"familia\": \"Anguidae\", \"counts\": 2, \"cumulative_sum\": 58}, {\"ano_coleta\": 1988.0, \"familia\": \"Anguidae\", \"counts\": 2, \"cumulative_sum\": 60}, {\"ano_coleta\": 1989.0, \"familia\": \"Anguidae\", \"counts\": 2, \"cumulative_sum\": 62}, {\"ano_coleta\": 1990.0, \"familia\": \"Anguidae\", \"counts\": 3, \"cumulative_sum\": 65}, {\"ano_coleta\": 1991.0, \"familia\": \"Anguidae\", \"counts\": 4, \"cumulative_sum\": 69}, {\"ano_coleta\": 1992.0, \"familia\": \"Anguidae\", \"counts\": 2, \"cumulative_sum\": 71}, {\"ano_coleta\": 1993.0, \"familia\": \"Anguidae\", \"counts\": 1, \"cumulative_sum\": 72}, {\"ano_coleta\": 1994.0, \"familia\": \"Anguidae\", \"counts\": 3, \"cumulative_sum\": 75}, {\"ano_coleta\": 1995.0, \"familia\": \"Anguidae\", \"counts\": 1, \"cumulative_sum\": 76}, {\"ano_coleta\": 1996.0, \"familia\": \"Anguidae\", \"counts\": 5, \"cumulative_sum\": 81}, {\"ano_coleta\": 1997.0, \"familia\": \"Anguidae\", \"counts\": 2, \"cumulative_sum\": 83}, {\"ano_coleta\": 1998.0, \"familia\": \"Anguidae\", \"counts\": 3, \"cumulative_sum\": 86}, {\"ano_coleta\": 1999.0, \"familia\": \"Anguidae\", \"counts\": 3, \"cumulative_sum\": 89}, {\"ano_coleta\": 2000.0, \"familia\": \"Anguidae\", \"counts\": 4, \"cumulative_sum\": 93}, {\"ano_coleta\": 2001.0, \"familia\": \"Anguidae\", \"counts\": 4, \"cumulative_sum\": 97}, {\"ano_coleta\": 2002.0, \"familia\": \"Anguidae\", \"counts\": 5, \"cumulative_sum\": 102}, {\"ano_coleta\": 2003.0, \"familia\": \"Anguidae\", \"counts\": 4, \"cumulative_sum\": 106}, {\"ano_coleta\": 2004.0, \"familia\": \"Anguidae\", \"counts\": 9, \"cumulative_sum\": 115}, {\"ano_coleta\": 2005.0, \"familia\": \"Anguidae\", \"counts\": 5, \"cumulative_sum\": 120}, {\"ano_coleta\": 2006.0, \"familia\": \"Anguidae\", \"counts\": 5, \"cumulative_sum\": 125}, {\"ano_coleta\": 2007.0, \"familia\": \"Anguidae\", \"counts\": 16, \"cumulative_sum\": 141}, {\"ano_coleta\": 2008.0, \"familia\": \"Anguidae\", \"counts\": 7, \"cumulative_sum\": 148}, {\"ano_coleta\": 2009.0, \"familia\": \"Anguidae\", \"counts\": 15, \"cumulative_sum\": 163}, {\"ano_coleta\": 2010.0, \"familia\": \"Anguidae\", \"counts\": 14, \"cumulative_sum\": 177}, {\"ano_coleta\": 2011.0, \"familia\": \"Anguidae\", \"counts\": 2, \"cumulative_sum\": 179}, {\"ano_coleta\": 2012.0, \"familia\": \"Anguidae\", \"counts\": 2, \"cumulative_sum\": 181}, {\"ano_coleta\": 2013.0, \"familia\": \"Anguidae\", \"counts\": 9, \"cumulative_sum\": 190}, {\"ano_coleta\": 2014.0, \"familia\": \"Anguidae\", \"counts\": 10, \"cumulative_sum\": 200}, {\"ano_coleta\": 2015.0, \"familia\": \"Anguidae\", \"counts\": 10, \"cumulative_sum\": 210}, {\"ano_coleta\": 2016.0, \"familia\": \"Anguidae\", \"counts\": 1, \"cumulative_sum\": 211}, {\"ano_coleta\": 1975.0, \"familia\": \"Aniliidae\", \"counts\": 1, \"cumulative_sum\": 1}, {\"ano_coleta\": 1983.0, \"familia\": \"Aniliidae\", \"counts\": 1, \"cumulative_sum\": 2}, {\"ano_coleta\": 1986.0, \"familia\": \"Aniliidae\", \"counts\": 2, \"cumulative_sum\": 4}, {\"ano_coleta\": 1991.0, \"familia\": \"Aniliidae\", \"counts\": 1, \"cumulative_sum\": 5}, {\"ano_coleta\": 1996.0, \"familia\": \"Aniliidae\", \"counts\": 1, \"cumulative_sum\": 6}, {\"ano_coleta\": 2007.0, \"familia\": \"Aniliidae\", \"counts\": 1, \"cumulative_sum\": 7}, {\"ano_coleta\": 2009.0, \"familia\": \"Aniliidae\", \"counts\": 2, \"cumulative_sum\": 9}, {\"ano_coleta\": 2012.0, \"familia\": \"Aniliidae\", \"counts\": 1, \"cumulative_sum\": 10}, {\"ano_coleta\": 2016.0, \"familia\": \"Aniliidae\", \"counts\": 1, \"cumulative_sum\": 11}, {\"ano_coleta\": 1944.0, \"familia\": \"Anomalepididae\", \"counts\": 1, \"cumulative_sum\": 1}, {\"ano_coleta\": 1981.0, \"familia\": \"Anomalepididae\", \"counts\": 1, \"cumulative_sum\": 2}, {\"ano_coleta\": 1982.0, \"familia\": \"Anomalepididae\", \"counts\": 1, \"cumulative_sum\": 3}, {\"ano_coleta\": 1988.0, \"familia\": \"Anomalepididae\", \"counts\": 1, \"cumulative_sum\": 4}, {\"ano_coleta\": 1995.0, \"familia\": \"Anomalepididae\", \"counts\": 4, \"cumulative_sum\": 8}, {\"ano_coleta\": 1996.0, \"familia\": \"Anomalepididae\", \"counts\": 3, \"cumulative_sum\": 11}, {\"ano_coleta\": 1997.0, \"familia\": \"Anomalepididae\", \"counts\": 1, \"cumulative_sum\": 12}, {\"ano_coleta\": 1998.0, \"familia\": \"Anomalepididae\", \"counts\": 1, \"cumulative_sum\": 13}, {\"ano_coleta\": 2000.0, \"familia\": \"Anomalepididae\", \"counts\": 1, \"cumulative_sum\": 14}, {\"ano_coleta\": 2002.0, \"familia\": \"Anomalepididae\", \"counts\": 2, \"cumulative_sum\": 16}, {\"ano_coleta\": 2003.0, \"familia\": \"Anomalepididae\", \"counts\": 3, \"cumulative_sum\": 19}, {\"ano_coleta\": 2004.0, \"familia\": \"Anomalepididae\", \"counts\": 1, \"cumulative_sum\": 20}, {\"ano_coleta\": 2005.0, \"familia\": \"Anomalepididae\", \"counts\": 1, \"cumulative_sum\": 21}, {\"ano_coleta\": 2007.0, \"familia\": \"Anomalepididae\", \"counts\": 1, \"cumulative_sum\": 22}, {\"ano_coleta\": 2008.0, \"familia\": \"Anomalepididae\", \"counts\": 5, \"cumulative_sum\": 27}, {\"ano_coleta\": 2009.0, \"familia\": \"Anomalepididae\", \"counts\": 1, \"cumulative_sum\": 28}, {\"ano_coleta\": 2011.0, \"familia\": \"Anomalepididae\", \"counts\": 3, \"cumulative_sum\": 31}, {\"ano_coleta\": 2013.0, \"familia\": \"Anomalepididae\", \"counts\": 2, \"cumulative_sum\": 33}, {\"ano_coleta\": 1943.0, \"familia\": \"Boidae\", \"counts\": 1, \"cumulative_sum\": 1}, {\"ano_coleta\": 1948.0, \"familia\": \"Boidae\", \"counts\": 52, \"cumulative_sum\": 53}, {\"ano_coleta\": 1950.0, \"familia\": \"Boidae\", \"counts\": 2, \"cumulative_sum\": 55}, {\"ano_coleta\": 1951.0, \"familia\": \"Boidae\", \"counts\": 1, \"cumulative_sum\": 56}, {\"ano_coleta\": 1952.0, \"familia\": \"Boidae\", \"counts\": 2, \"cumulative_sum\": 58}, {\"ano_coleta\": 1953.0, \"familia\": \"Boidae\", \"counts\": 1, \"cumulative_sum\": 59}, {\"ano_coleta\": 1954.0, \"familia\": \"Boidae\", \"counts\": 1, \"cumulative_sum\": 60}, {\"ano_coleta\": 1956.0, \"familia\": \"Boidae\", \"counts\": 1, \"cumulative_sum\": 61}, {\"ano_coleta\": 1958.0, \"familia\": \"Boidae\", \"counts\": 1, \"cumulative_sum\": 62}, {\"ano_coleta\": 1973.0, \"familia\": \"Boidae\", \"counts\": 1, \"cumulative_sum\": 63}, {\"ano_coleta\": 1975.0, \"familia\": \"Boidae\", \"counts\": 2, \"cumulative_sum\": 65}, {\"ano_coleta\": 1976.0, \"familia\": \"Boidae\", \"counts\": 1, \"cumulative_sum\": 66}, {\"ano_coleta\": 1979.0, \"familia\": \"Boidae\", \"counts\": 5, \"cumulative_sum\": 71}, {\"ano_coleta\": 1982.0, \"familia\": \"Boidae\", \"counts\": 1, \"cumulative_sum\": 72}, {\"ano_coleta\": 1983.0, \"familia\": \"Boidae\", \"counts\": 2, \"cumulative_sum\": 74}, {\"ano_coleta\": 1984.0, \"familia\": \"Boidae\", \"counts\": 2, \"cumulative_sum\": 76}, {\"ano_coleta\": 1985.0, \"familia\": \"Boidae\", \"counts\": 1, \"cumulative_sum\": 77}, {\"ano_coleta\": 1986.0, \"familia\": \"Boidae\", \"counts\": 6, \"cumulative_sum\": 83}, {\"ano_coleta\": 1987.0, \"familia\": \"Boidae\", \"counts\": 3, \"cumulative_sum\": 86}, {\"ano_coleta\": 1988.0, \"familia\": \"Boidae\", \"counts\": 1, \"cumulative_sum\": 87}, {\"ano_coleta\": 1992.0, \"familia\": \"Boidae\", \"counts\": 1, \"cumulative_sum\": 88}, {\"ano_coleta\": 1993.0, \"familia\": \"Boidae\", \"counts\": 2, \"cumulative_sum\": 90}, {\"ano_coleta\": 1994.0, \"familia\": \"Boidae\", \"counts\": 2, \"cumulative_sum\": 92}, {\"ano_coleta\": 1995.0, \"familia\": \"Boidae\", \"counts\": 3, \"cumulative_sum\": 95}, {\"ano_coleta\": 1996.0, \"familia\": \"Boidae\", \"counts\": 2, \"cumulative_sum\": 97}, {\"ano_coleta\": 1997.0, \"familia\": \"Boidae\", \"counts\": 4, \"cumulative_sum\": 101}, {\"ano_coleta\": 1998.0, \"familia\": \"Boidae\", \"counts\": 2, \"cumulative_sum\": 103}, {\"ano_coleta\": 1999.0, \"familia\": \"Boidae\", \"counts\": 2, \"cumulative_sum\": 105}, {\"ano_coleta\": 2000.0, \"familia\": \"Boidae\", \"counts\": 7, \"cumulative_sum\": 112}, {\"ano_coleta\": 2001.0, \"familia\": \"Boidae\", \"counts\": 6, \"cumulative_sum\": 118}, {\"ano_coleta\": 2002.0, \"familia\": \"Boidae\", \"counts\": 3, \"cumulative_sum\": 121}, {\"ano_coleta\": 2003.0, \"familia\": \"Boidae\", \"counts\": 2, \"cumulative_sum\": 123}, {\"ano_coleta\": 2004.0, \"familia\": \"Boidae\", \"counts\": 8, \"cumulative_sum\": 131}, {\"ano_coleta\": 2005.0, \"familia\": \"Boidae\", \"counts\": 8, \"cumulative_sum\": 139}, {\"ano_coleta\": 2006.0, \"familia\": \"Boidae\", \"counts\": 11, \"cumulative_sum\": 150}, {\"ano_coleta\": 2007.0, \"familia\": \"Boidae\", \"counts\": 11, \"cumulative_sum\": 161}, {\"ano_coleta\": 2008.0, \"familia\": \"Boidae\", \"counts\": 18, \"cumulative_sum\": 179}, {\"ano_coleta\": 2009.0, \"familia\": \"Boidae\", \"counts\": 23, \"cumulative_sum\": 202}, {\"ano_coleta\": 2010.0, \"familia\": \"Boidae\", \"counts\": 13, \"cumulative_sum\": 215}, {\"ano_coleta\": 2011.0, \"familia\": \"Boidae\", \"counts\": 12, \"cumulative_sum\": 227}, {\"ano_coleta\": 2012.0, \"familia\": \"Boidae\", \"counts\": 10, \"cumulative_sum\": 237}, {\"ano_coleta\": 2013.0, \"familia\": \"Boidae\", \"counts\": 8, \"cumulative_sum\": 245}, {\"ano_coleta\": 2014.0, \"familia\": \"Boidae\", \"counts\": 3, \"cumulative_sum\": 248}, {\"ano_coleta\": 2015.0, \"familia\": \"Boidae\", \"counts\": 5, \"cumulative_sum\": 253}, {\"ano_coleta\": 2016.0, \"familia\": \"Boidae\", \"counts\": 4, \"cumulative_sum\": 257}, {\"ano_coleta\": 2002.0, \"familia\": \"Chamaeleonidae\", \"counts\": 1, \"cumulative_sum\": 1}, {\"ano_coleta\": 1912.0, \"familia\": \"Chelidae\", \"counts\": 1, \"cumulative_sum\": 1}, {\"ano_coleta\": 1923.0, \"familia\": \"Chelidae\", \"counts\": 1, \"cumulative_sum\": 2}, {\"ano_coleta\": 1942.0, \"familia\": \"Chelidae\", \"counts\": 6, \"cumulative_sum\": 8}, {\"ano_coleta\": 1953.0, \"familia\": \"Chelidae\", \"counts\": 2, \"cumulative_sum\": 10}, {\"ano_coleta\": 1954.0, \"familia\": \"Chelidae\", \"counts\": 1, \"cumulative_sum\": 11}, {\"ano_coleta\": 1957.0, \"familia\": \"Chelidae\", \"counts\": 1, \"cumulative_sum\": 12}, {\"ano_coleta\": 1961.0, \"familia\": \"Chelidae\", \"counts\": 1, \"cumulative_sum\": 13}, {\"ano_coleta\": 1963.0, \"familia\": \"Chelidae\", \"counts\": 6, \"cumulative_sum\": 19}, {\"ano_coleta\": 1968.0, \"familia\": \"Chelidae\", \"counts\": 3, \"cumulative_sum\": 22}, {\"ano_coleta\": 1975.0, \"familia\": \"Chelidae\", \"counts\": 2, \"cumulative_sum\": 24}, {\"ano_coleta\": 1976.0, \"familia\": \"Chelidae\", \"counts\": 1, \"cumulative_sum\": 25}, {\"ano_coleta\": 1984.0, \"familia\": \"Chelidae\", \"counts\": 2, \"cumulative_sum\": 27}, {\"ano_coleta\": 1985.0, \"familia\": \"Chelidae\", \"counts\": 1, \"cumulative_sum\": 28}, {\"ano_coleta\": 1986.0, \"familia\": \"Chelidae\", \"counts\": 18, \"cumulative_sum\": 46}, {\"ano_coleta\": 1987.0, \"familia\": \"Chelidae\", \"counts\": 3, \"cumulative_sum\": 49}, {\"ano_coleta\": 1988.0, \"familia\": \"Chelidae\", \"counts\": 2, \"cumulative_sum\": 51}, {\"ano_coleta\": 1989.0, \"familia\": \"Chelidae\", \"counts\": 9, \"cumulative_sum\": 60}, {\"ano_coleta\": 1990.0, \"familia\": \"Chelidae\", \"counts\": 7, \"cumulative_sum\": 67}, {\"ano_coleta\": 1991.0, \"familia\": \"Chelidae\", \"counts\": 5, \"cumulative_sum\": 72}, {\"ano_coleta\": 1992.0, \"familia\": \"Chelidae\", \"counts\": 1, \"cumulative_sum\": 73}, {\"ano_coleta\": 1993.0, \"familia\": \"Chelidae\", \"counts\": 2, \"cumulative_sum\": 75}, {\"ano_coleta\": 1994.0, \"familia\": \"Chelidae\", \"counts\": 4, \"cumulative_sum\": 79}, {\"ano_coleta\": 1996.0, \"familia\": \"Chelidae\", \"counts\": 5, \"cumulative_sum\": 84}, {\"ano_coleta\": 1997.0, \"familia\": \"Chelidae\", \"counts\": 1, \"cumulative_sum\": 85}, {\"ano_coleta\": 1998.0, \"familia\": \"Chelidae\", \"counts\": 16, \"cumulative_sum\": 101}, {\"ano_coleta\": 2000.0, \"familia\": \"Chelidae\", \"counts\": 4, \"cumulative_sum\": 105}, {\"ano_coleta\": 2001.0, \"familia\": \"Chelidae\", \"counts\": 1, \"cumulative_sum\": 106}, {\"ano_coleta\": 2002.0, \"familia\": \"Chelidae\", \"counts\": 2, \"cumulative_sum\": 108}, {\"ano_coleta\": 2004.0, \"familia\": \"Chelidae\", \"counts\": 2, \"cumulative_sum\": 110}, {\"ano_coleta\": 2005.0, \"familia\": \"Chelidae\", \"counts\": 1, \"cumulative_sum\": 111}, {\"ano_coleta\": 2006.0, \"familia\": \"Chelidae\", \"counts\": 11, \"cumulative_sum\": 122}, {\"ano_coleta\": 2007.0, \"familia\": \"Chelidae\", \"counts\": 10, \"cumulative_sum\": 132}, {\"ano_coleta\": 2008.0, \"familia\": \"Chelidae\", \"counts\": 5, \"cumulative_sum\": 137}, {\"ano_coleta\": 2009.0, \"familia\": \"Chelidae\", \"counts\": 7, \"cumulative_sum\": 144}, {\"ano_coleta\": 2010.0, \"familia\": \"Chelidae\", \"counts\": 10, \"cumulative_sum\": 154}, {\"ano_coleta\": 2012.0, \"familia\": \"Chelidae\", \"counts\": 5, \"cumulative_sum\": 159}, {\"ano_coleta\": 2013.0, \"familia\": \"Chelidae\", \"counts\": 3, \"cumulative_sum\": 162}, {\"ano_coleta\": 2014.0, \"familia\": \"Chelidae\", \"counts\": 3, \"cumulative_sum\": 165}, {\"ano_coleta\": 2016.0, \"familia\": \"Chelidae\", \"counts\": 2, \"cumulative_sum\": 167}, {\"ano_coleta\": 1907.0, \"familia\": \"Cheloniidae\", \"counts\": 1, \"cumulative_sum\": 1}, {\"ano_coleta\": 1944.0, \"familia\": \"Cheloniidae\", \"counts\": 2, \"cumulative_sum\": 3}, {\"ano_coleta\": 1957.0, \"familia\": \"Cheloniidae\", \"counts\": 1, \"cumulative_sum\": 4}, {\"ano_coleta\": 1964.0, \"familia\": \"Cheloniidae\", \"counts\": 18, \"cumulative_sum\": 22}, {\"ano_coleta\": 1976.0, \"familia\": \"Cheloniidae\", \"counts\": 71, \"cumulative_sum\": 93}, {\"ano_coleta\": 1980.0, \"familia\": \"Cheloniidae\", \"counts\": 1, \"cumulative_sum\": 94}, {\"ano_coleta\": 1981.0, \"familia\": \"Cheloniidae\", \"counts\": 3, \"cumulative_sum\": 97}, {\"ano_coleta\": 1982.0, \"familia\": \"Cheloniidae\", \"counts\": 7, \"cumulative_sum\": 104}, {\"ano_coleta\": 1986.0, \"familia\": \"Cheloniidae\", \"counts\": 1, \"cumulative_sum\": 105}, {\"ano_coleta\": 1987.0, \"familia\": \"Cheloniidae\", \"counts\": 1, \"cumulative_sum\": 106}, {\"ano_coleta\": 1992.0, \"familia\": \"Cheloniidae\", \"counts\": 13, \"cumulative_sum\": 119}, {\"ano_coleta\": 1994.0, \"familia\": \"Cheloniidae\", \"counts\": 7, \"cumulative_sum\": 126}, {\"ano_coleta\": 1995.0, \"familia\": \"Cheloniidae\", \"counts\": 6, \"cumulative_sum\": 132}, {\"ano_coleta\": 1996.0, \"familia\": \"Cheloniidae\", \"counts\": 7, \"cumulative_sum\": 139}, {\"ano_coleta\": 1997.0, \"familia\": \"Cheloniidae\", \"counts\": 4, \"cumulative_sum\": 143}, {\"ano_coleta\": 1998.0, \"familia\": \"Cheloniidae\", \"counts\": 2, \"cumulative_sum\": 145}, {\"ano_coleta\": 1999.0, \"familia\": \"Cheloniidae\", \"counts\": 1, \"cumulative_sum\": 146}, {\"ano_coleta\": 2000.0, \"familia\": \"Cheloniidae\", \"counts\": 4, \"cumulative_sum\": 150}, {\"ano_coleta\": 2001.0, \"familia\": \"Cheloniidae\", \"counts\": 3, \"cumulative_sum\": 153}, {\"ano_coleta\": 1824.0, \"familia\": \"Colubridae\", \"counts\": 1, \"cumulative_sum\": 1}, {\"ano_coleta\": 1905.0, \"familia\": \"Colubridae\", \"counts\": 1, \"cumulative_sum\": 2}, {\"ano_coleta\": 1907.0, \"familia\": \"Colubridae\", \"counts\": 1, \"cumulative_sum\": 3}, {\"ano_coleta\": 1915.0, \"familia\": \"Colubridae\", \"counts\": 1, \"cumulative_sum\": 4}, {\"ano_coleta\": 1917.0, \"familia\": \"Colubridae\", \"counts\": 1, \"cumulative_sum\": 5}, {\"ano_coleta\": 1941.0, \"familia\": \"Colubridae\", \"counts\": 1, \"cumulative_sum\": 6}, {\"ano_coleta\": 1942.0, \"familia\": \"Colubridae\", \"counts\": 2, \"cumulative_sum\": 8}, {\"ano_coleta\": 1943.0, \"familia\": \"Colubridae\", \"counts\": 1, \"cumulative_sum\": 9}, {\"ano_coleta\": 1944.0, \"familia\": \"Colubridae\", \"counts\": 1, \"cumulative_sum\": 10}, {\"ano_coleta\": 1945.0, \"familia\": \"Colubridae\", \"counts\": 2, \"cumulative_sum\": 12}, {\"ano_coleta\": 1946.0, \"familia\": \"Colubridae\", \"counts\": 10, \"cumulative_sum\": 22}, {\"ano_coleta\": 1947.0, \"familia\": \"Colubridae\", \"counts\": 7, \"cumulative_sum\": 29}, {\"ano_coleta\": 1948.0, \"familia\": \"Colubridae\", \"counts\": 6, \"cumulative_sum\": 35}, {\"ano_coleta\": 1950.0, \"familia\": \"Colubridae\", \"counts\": 4, \"cumulative_sum\": 39}, {\"ano_coleta\": 1951.0, \"familia\": \"Colubridae\", \"counts\": 4, \"cumulative_sum\": 43}, {\"ano_coleta\": 1952.0, \"familia\": \"Colubridae\", \"counts\": 5, \"cumulative_sum\": 48}, {\"ano_coleta\": 1953.0, \"familia\": \"Colubridae\", \"counts\": 4, \"cumulative_sum\": 52}, {\"ano_coleta\": 1954.0, \"familia\": \"Colubridae\", \"counts\": 1, \"cumulative_sum\": 53}, {\"ano_coleta\": 1955.0, \"familia\": \"Colubridae\", \"counts\": 1, \"cumulative_sum\": 54}, {\"ano_coleta\": 1956.0, \"familia\": \"Colubridae\", \"counts\": 4, \"cumulative_sum\": 58}, {\"ano_coleta\": 1957.0, \"familia\": \"Colubridae\", \"counts\": 12, \"cumulative_sum\": 70}, {\"ano_coleta\": 1958.0, \"familia\": \"Colubridae\", \"counts\": 1, \"cumulative_sum\": 71}, {\"ano_coleta\": 1959.0, \"familia\": \"Colubridae\", \"counts\": 1, \"cumulative_sum\": 72}, {\"ano_coleta\": 1960.0, \"familia\": \"Colubridae\", \"counts\": 2, \"cumulative_sum\": 74}, {\"ano_coleta\": 1961.0, \"familia\": \"Colubridae\", \"counts\": 1, \"cumulative_sum\": 75}, {\"ano_coleta\": 1962.0, \"familia\": \"Colubridae\", \"counts\": 1, \"cumulative_sum\": 76}, {\"ano_coleta\": 1963.0, \"familia\": \"Colubridae\", \"counts\": 3, \"cumulative_sum\": 79}, {\"ano_coleta\": 1964.0, \"familia\": \"Colubridae\", \"counts\": 1, \"cumulative_sum\": 80}, {\"ano_coleta\": 1966.0, \"familia\": \"Colubridae\", \"counts\": 3, \"cumulative_sum\": 83}, {\"ano_coleta\": 1967.0, \"familia\": \"Colubridae\", \"counts\": 1, \"cumulative_sum\": 84}, {\"ano_coleta\": 1969.0, \"familia\": \"Colubridae\", \"counts\": 1, \"cumulative_sum\": 85}, {\"ano_coleta\": 1971.0, \"familia\": \"Colubridae\", \"counts\": 3, \"cumulative_sum\": 88}, {\"ano_coleta\": 1972.0, \"familia\": \"Colubridae\", \"counts\": 1, \"cumulative_sum\": 89}, {\"ano_coleta\": 1973.0, \"familia\": \"Colubridae\", \"counts\": 2, \"cumulative_sum\": 91}, {\"ano_coleta\": 1974.0, \"familia\": \"Colubridae\", \"counts\": 2, \"cumulative_sum\": 93}, {\"ano_coleta\": 1975.0, \"familia\": \"Colubridae\", \"counts\": 13, \"cumulative_sum\": 106}, {\"ano_coleta\": 1976.0, \"familia\": \"Colubridae\", \"counts\": 1, \"cumulative_sum\": 107}, {\"ano_coleta\": 1977.0, \"familia\": \"Colubridae\", \"counts\": 5, \"cumulative_sum\": 112}, {\"ano_coleta\": 1978.0, \"familia\": \"Colubridae\", \"counts\": 3, \"cumulative_sum\": 115}, {\"ano_coleta\": 1979.0, \"familia\": \"Colubridae\", \"counts\": 1, \"cumulative_sum\": 116}, {\"ano_coleta\": 1980.0, \"familia\": \"Colubridae\", \"counts\": 4, \"cumulative_sum\": 120}, {\"ano_coleta\": 1981.0, \"familia\": \"Colubridae\", \"counts\": 5, \"cumulative_sum\": 125}, {\"ano_coleta\": 1982.0, \"familia\": \"Colubridae\", \"counts\": 4, \"cumulative_sum\": 129}, {\"ano_coleta\": 1983.0, \"familia\": \"Colubridae\", \"counts\": 4, \"cumulative_sum\": 133}, {\"ano_coleta\": 1984.0, \"familia\": \"Colubridae\", \"counts\": 10, \"cumulative_sum\": 143}, {\"ano_coleta\": 1985.0, \"familia\": \"Colubridae\", \"counts\": 15, \"cumulative_sum\": 158}, {\"ano_coleta\": 1986.0, \"familia\": \"Colubridae\", \"counts\": 38, \"cumulative_sum\": 196}, {\"ano_coleta\": 1987.0, \"familia\": \"Colubridae\", \"counts\": 16, \"cumulative_sum\": 212}, {\"ano_coleta\": 1988.0, \"familia\": \"Colubridae\", \"counts\": 15, \"cumulative_sum\": 227}, {\"ano_coleta\": 1989.0, \"familia\": \"Colubridae\", \"counts\": 9, \"cumulative_sum\": 236}, {\"ano_coleta\": 1990.0, \"familia\": \"Colubridae\", \"counts\": 11, \"cumulative_sum\": 247}, {\"ano_coleta\": 1991.0, \"familia\": \"Colubridae\", \"counts\": 7, \"cumulative_sum\": 254}, {\"ano_coleta\": 1992.0, \"familia\": \"Colubridae\", \"counts\": 13, \"cumulative_sum\": 267}, {\"ano_coleta\": 1993.0, \"familia\": \"Colubridae\", \"counts\": 17, \"cumulative_sum\": 284}, {\"ano_coleta\": 1994.0, \"familia\": \"Colubridae\", \"counts\": 16, \"cumulative_sum\": 300}, {\"ano_coleta\": 1995.0, \"familia\": \"Colubridae\", \"counts\": 6, \"cumulative_sum\": 306}, {\"ano_coleta\": 1996.0, \"familia\": \"Colubridae\", \"counts\": 10, \"cumulative_sum\": 316}, {\"ano_coleta\": 1997.0, \"familia\": \"Colubridae\", \"counts\": 13, \"cumulative_sum\": 329}, {\"ano_coleta\": 1998.0, \"familia\": \"Colubridae\", \"counts\": 10, \"cumulative_sum\": 339}, {\"ano_coleta\": 1999.0, \"familia\": \"Colubridae\", \"counts\": 5, \"cumulative_sum\": 344}, {\"ano_coleta\": 2000.0, \"familia\": \"Colubridae\", \"counts\": 8, \"cumulative_sum\": 352}, {\"ano_coleta\": 2001.0, \"familia\": \"Colubridae\", \"counts\": 13, \"cumulative_sum\": 365}, {\"ano_coleta\": 2002.0, \"familia\": \"Colubridae\", \"counts\": 12, \"cumulative_sum\": 377}, {\"ano_coleta\": 2003.0, \"familia\": \"Colubridae\", \"counts\": 15, \"cumulative_sum\": 392}, {\"ano_coleta\": 2004.0, \"familia\": \"Colubridae\", \"counts\": 16, \"cumulative_sum\": 408}, {\"ano_coleta\": 2005.0, \"familia\": \"Colubridae\", \"counts\": 18, \"cumulative_sum\": 426}, {\"ano_coleta\": 2006.0, \"familia\": \"Colubridae\", \"counts\": 30, \"cumulative_sum\": 456}, {\"ano_coleta\": 2007.0, \"familia\": \"Colubridae\", \"counts\": 51, \"cumulative_sum\": 507}, {\"ano_coleta\": 2008.0, \"familia\": \"Colubridae\", \"counts\": 106, \"cumulative_sum\": 613}, {\"ano_coleta\": 2009.0, \"familia\": \"Colubridae\", \"counts\": 81, \"cumulative_sum\": 694}, {\"ano_coleta\": 2010.0, \"familia\": \"Colubridae\", \"counts\": 61, \"cumulative_sum\": 755}, {\"ano_coleta\": 2011.0, \"familia\": \"Colubridae\", \"counts\": 42, \"cumulative_sum\": 797}, {\"ano_coleta\": 2012.0, \"familia\": \"Colubridae\", \"counts\": 37, \"cumulative_sum\": 834}, {\"ano_coleta\": 2013.0, \"familia\": \"Colubridae\", \"counts\": 36, \"cumulative_sum\": 870}, {\"ano_coleta\": 2014.0, \"familia\": \"Colubridae\", \"counts\": 24, \"cumulative_sum\": 894}, {\"ano_coleta\": 2015.0, \"familia\": \"Colubridae\", \"counts\": 27, \"cumulative_sum\": 921}, {\"ano_coleta\": 2016.0, \"familia\": \"Colubridae\", \"counts\": 12, \"cumulative_sum\": 933}, {\"ano_coleta\": 1906.0, \"familia\": \"Dactyloidae\", \"counts\": 1, \"cumulative_sum\": 1}, {\"ano_coleta\": 1942.0, \"familia\": \"Dactyloidae\", \"counts\": 3, \"cumulative_sum\": 4}, {\"ano_coleta\": 1943.0, \"familia\": \"Dactyloidae\", \"counts\": 1, \"cumulative_sum\": 5}, {\"ano_coleta\": 1944.0, \"familia\": \"Dactyloidae\", \"counts\": 4, \"cumulative_sum\": 9}, {\"ano_coleta\": 1950.0, \"familia\": \"Dactyloidae\", \"counts\": 1, \"cumulative_sum\": 10}, {\"ano_coleta\": 1956.0, \"familia\": \"Dactyloidae\", \"counts\": 2, \"cumulative_sum\": 12}, {\"ano_coleta\": 1964.0, \"familia\": \"Dactyloidae\", \"counts\": 5, \"cumulative_sum\": 17}, {\"ano_coleta\": 1967.0, \"familia\": \"Dactyloidae\", \"counts\": 2, \"cumulative_sum\": 19}, {\"ano_coleta\": 1970.0, \"familia\": \"Dactyloidae\", \"counts\": 25, \"cumulative_sum\": 44}, {\"ano_coleta\": 1975.0, \"familia\": \"Dactyloidae\", \"counts\": 1, \"cumulative_sum\": 45}, {\"ano_coleta\": 1979.0, \"familia\": \"Dactyloidae\", \"counts\": 1, \"cumulative_sum\": 46}, {\"ano_coleta\": 1985.0, \"familia\": \"Dactyloidae\", \"counts\": 1, \"cumulative_sum\": 47}, {\"ano_coleta\": 1986.0, \"familia\": \"Dactyloidae\", \"counts\": 1, \"cumulative_sum\": 48}, {\"ano_coleta\": 1988.0, \"familia\": \"Dactyloidae\", \"counts\": 2, \"cumulative_sum\": 50}, {\"ano_coleta\": 1989.0, \"familia\": \"Dactyloidae\", \"counts\": 4, \"cumulative_sum\": 54}, {\"ano_coleta\": 1992.0, \"familia\": \"Dactyloidae\", \"counts\": 1, \"cumulative_sum\": 55}, {\"ano_coleta\": 1993.0, \"familia\": \"Dactyloidae\", \"counts\": 2, \"cumulative_sum\": 57}, {\"ano_coleta\": 1994.0, \"familia\": \"Dactyloidae\", \"counts\": 1, \"cumulative_sum\": 58}, {\"ano_coleta\": 1995.0, \"familia\": \"Dactyloidae\", \"counts\": 3, \"cumulative_sum\": 61}, {\"ano_coleta\": 1996.0, \"familia\": \"Dactyloidae\", \"counts\": 6, \"cumulative_sum\": 67}, {\"ano_coleta\": 1997.0, \"familia\": \"Dactyloidae\", \"counts\": 2, \"cumulative_sum\": 69}, {\"ano_coleta\": 1998.0, \"familia\": \"Dactyloidae\", \"counts\": 1, \"cumulative_sum\": 70}, {\"ano_coleta\": 2002.0, \"familia\": \"Dactyloidae\", \"counts\": 1, \"cumulative_sum\": 71}, {\"ano_coleta\": 2003.0, \"familia\": \"Dactyloidae\", \"counts\": 3, \"cumulative_sum\": 74}, {\"ano_coleta\": 2004.0, \"familia\": \"Dactyloidae\", \"counts\": 3, \"cumulative_sum\": 77}, {\"ano_coleta\": 2005.0, \"familia\": \"Dactyloidae\", \"counts\": 3, \"cumulative_sum\": 80}, {\"ano_coleta\": 2006.0, \"familia\": \"Dactyloidae\", \"counts\": 5, \"cumulative_sum\": 85}, {\"ano_coleta\": 2007.0, \"familia\": \"Dactyloidae\", \"counts\": 13, \"cumulative_sum\": 98}, {\"ano_coleta\": 2008.0, \"familia\": \"Dactyloidae\", \"counts\": 39, \"cumulative_sum\": 137}, {\"ano_coleta\": 2009.0, \"familia\": \"Dactyloidae\", \"counts\": 36, \"cumulative_sum\": 173}, {\"ano_coleta\": 2010.0, \"familia\": \"Dactyloidae\", \"counts\": 11, \"cumulative_sum\": 184}, {\"ano_coleta\": 2011.0, \"familia\": \"Dactyloidae\", \"counts\": 5, \"cumulative_sum\": 189}, {\"ano_coleta\": 2012.0, \"familia\": \"Dactyloidae\", \"counts\": 4, \"cumulative_sum\": 193}, {\"ano_coleta\": 2013.0, \"familia\": \"Dactyloidae\", \"counts\": 10, \"cumulative_sum\": 203}, {\"ano_coleta\": 1983.0, \"familia\": \"Dermochelyidae\", \"counts\": 1, \"cumulative_sum\": 1}, {\"ano_coleta\": 1992.0, \"familia\": \"Dermochelyidae\", \"counts\": 1, \"cumulative_sum\": 2}, {\"ano_coleta\": 1996.0, \"familia\": \"Dermochelyidae\", \"counts\": 1, \"cumulative_sum\": 3}, {\"ano_coleta\": 2001.0, \"familia\": \"Dermochelyidae\", \"counts\": 3, \"cumulative_sum\": 6}, {\"ano_coleta\": 2004.0, \"familia\": \"Dermochelyidae\", \"counts\": 3, \"cumulative_sum\": 9}, {\"ano_coleta\": 0.0, \"familia\": \"Dipsadidae\", \"counts\": 2, \"cumulative_sum\": 2}, {\"ano_coleta\": 1916.0, \"familia\": \"Dipsadidae\", \"counts\": 2, \"cumulative_sum\": 4}, {\"ano_coleta\": 1919.0, \"familia\": \"Dipsadidae\", \"counts\": 1, \"cumulative_sum\": 5}, {\"ano_coleta\": 1923.0, \"familia\": \"Dipsadidae\", \"counts\": 2, \"cumulative_sum\": 7}, {\"ano_coleta\": 1936.0, \"familia\": \"Dipsadidae\", \"counts\": 1, \"cumulative_sum\": 8}, {\"ano_coleta\": 1940.0, \"familia\": \"Dipsadidae\", \"counts\": 1, \"cumulative_sum\": 9}, {\"ano_coleta\": 1942.0, \"familia\": \"Dipsadidae\", \"counts\": 7, \"cumulative_sum\": 16}, {\"ano_coleta\": 1943.0, \"familia\": \"Dipsadidae\", \"counts\": 3, \"cumulative_sum\": 19}, {\"ano_coleta\": 1944.0, \"familia\": \"Dipsadidae\", \"counts\": 25, \"cumulative_sum\": 44}, {\"ano_coleta\": 1945.0, \"familia\": \"Dipsadidae\", \"counts\": 9, \"cumulative_sum\": 53}, {\"ano_coleta\": 1946.0, \"familia\": \"Dipsadidae\", \"counts\": 16, \"cumulative_sum\": 69}, {\"ano_coleta\": 1947.0, \"familia\": \"Dipsadidae\", \"counts\": 10, \"cumulative_sum\": 79}, {\"ano_coleta\": 1948.0, \"familia\": \"Dipsadidae\", \"counts\": 11, \"cumulative_sum\": 90}, {\"ano_coleta\": 1949.0, \"familia\": \"Dipsadidae\", \"counts\": 3, \"cumulative_sum\": 93}, {\"ano_coleta\": 1950.0, \"familia\": \"Dipsadidae\", \"counts\": 6, \"cumulative_sum\": 99}, {\"ano_coleta\": 1951.0, \"familia\": \"Dipsadidae\", \"counts\": 10, \"cumulative_sum\": 109}, {\"ano_coleta\": 1952.0, \"familia\": \"Dipsadidae\", \"counts\": 22, \"cumulative_sum\": 131}, {\"ano_coleta\": 1953.0, \"familia\": \"Dipsadidae\", \"counts\": 11, \"cumulative_sum\": 142}, {\"ano_coleta\": 1954.0, \"familia\": \"Dipsadidae\", \"counts\": 18, \"cumulative_sum\": 160}, {\"ano_coleta\": 1955.0, \"familia\": \"Dipsadidae\", \"counts\": 18, \"cumulative_sum\": 178}, {\"ano_coleta\": 1956.0, \"familia\": \"Dipsadidae\", \"counts\": 15, \"cumulative_sum\": 193}, {\"ano_coleta\": 1957.0, \"familia\": \"Dipsadidae\", \"counts\": 21, \"cumulative_sum\": 214}, {\"ano_coleta\": 1958.0, \"familia\": \"Dipsadidae\", \"counts\": 13, \"cumulative_sum\": 227}, {\"ano_coleta\": 1959.0, \"familia\": \"Dipsadidae\", \"counts\": 5, \"cumulative_sum\": 232}, {\"ano_coleta\": 1960.0, \"familia\": \"Dipsadidae\", \"counts\": 5, \"cumulative_sum\": 237}, {\"ano_coleta\": 1961.0, \"familia\": \"Dipsadidae\", \"counts\": 4, \"cumulative_sum\": 241}, {\"ano_coleta\": 1963.0, \"familia\": \"Dipsadidae\", \"counts\": 3, \"cumulative_sum\": 244}, {\"ano_coleta\": 1964.0, \"familia\": \"Dipsadidae\", \"counts\": 9, \"cumulative_sum\": 253}, {\"ano_coleta\": 1965.0, \"familia\": \"Dipsadidae\", \"counts\": 22, \"cumulative_sum\": 275}, {\"ano_coleta\": 1966.0, \"familia\": \"Dipsadidae\", \"counts\": 9, \"cumulative_sum\": 284}, {\"ano_coleta\": 1967.0, \"familia\": \"Dipsadidae\", \"counts\": 3, \"cumulative_sum\": 287}, {\"ano_coleta\": 1968.0, \"familia\": \"Dipsadidae\", \"counts\": 1, \"cumulative_sum\": 288}, {\"ano_coleta\": 1969.0, \"familia\": \"Dipsadidae\", \"counts\": 1, \"cumulative_sum\": 289}, {\"ano_coleta\": 1970.0, \"familia\": \"Dipsadidae\", \"counts\": 2, \"cumulative_sum\": 291}, {\"ano_coleta\": 1971.0, \"familia\": \"Dipsadidae\", \"counts\": 9, \"cumulative_sum\": 300}, {\"ano_coleta\": 1972.0, \"familia\": \"Dipsadidae\", \"counts\": 8, \"cumulative_sum\": 308}, {\"ano_coleta\": 1973.0, \"familia\": \"Dipsadidae\", \"counts\": 3, \"cumulative_sum\": 311}, {\"ano_coleta\": 1974.0, \"familia\": \"Dipsadidae\", \"counts\": 16, \"cumulative_sum\": 327}, {\"ano_coleta\": 1975.0, \"familia\": \"Dipsadidae\", \"counts\": 67, \"cumulative_sum\": 394}, {\"ano_coleta\": 1976.0, \"familia\": \"Dipsadidae\", \"counts\": 24, \"cumulative_sum\": 418}, {\"ano_coleta\": 1977.0, \"familia\": \"Dipsadidae\", \"counts\": 12, \"cumulative_sum\": 430}, {\"ano_coleta\": 1978.0, \"familia\": \"Dipsadidae\", \"counts\": 21, \"cumulative_sum\": 451}, {\"ano_coleta\": 1979.0, \"familia\": \"Dipsadidae\", \"counts\": 19, \"cumulative_sum\": 470}, {\"ano_coleta\": 1980.0, \"familia\": \"Dipsadidae\", \"counts\": 17, \"cumulative_sum\": 487}, {\"ano_coleta\": 1981.0, \"familia\": \"Dipsadidae\", \"counts\": 26, \"cumulative_sum\": 513}, {\"ano_coleta\": 1982.0, \"familia\": \"Dipsadidae\", \"counts\": 29, \"cumulative_sum\": 542}, {\"ano_coleta\": 1983.0, \"familia\": \"Dipsadidae\", \"counts\": 26, \"cumulative_sum\": 568}, {\"ano_coleta\": 1984.0, \"familia\": \"Dipsadidae\", \"counts\": 42, \"cumulative_sum\": 610}, {\"ano_coleta\": 1985.0, \"familia\": \"Dipsadidae\", \"counts\": 70, \"cumulative_sum\": 680}, {\"ano_coleta\": 1986.0, \"familia\": \"Dipsadidae\", \"counts\": 136, \"cumulative_sum\": 816}, {\"ano_coleta\": 1987.0, \"familia\": \"Dipsadidae\", \"counts\": 105, \"cumulative_sum\": 921}, {\"ano_coleta\": 1988.0, \"familia\": \"Dipsadidae\", \"counts\": 57, \"cumulative_sum\": 978}, {\"ano_coleta\": 1989.0, \"familia\": \"Dipsadidae\", \"counts\": 88, \"cumulative_sum\": 1066}, {\"ano_coleta\": 1990.0, \"familia\": \"Dipsadidae\", \"counts\": 60, \"cumulative_sum\": 1126}, {\"ano_coleta\": 1991.0, \"familia\": \"Dipsadidae\", \"counts\": 107, \"cumulative_sum\": 1233}, {\"ano_coleta\": 1992.0, \"familia\": \"Dipsadidae\", \"counts\": 76, \"cumulative_sum\": 1309}, {\"ano_coleta\": 1993.0, \"familia\": \"Dipsadidae\", \"counts\": 89, \"cumulative_sum\": 1398}, {\"ano_coleta\": 1994.0, \"familia\": \"Dipsadidae\", \"counts\": 94, \"cumulative_sum\": 1492}, {\"ano_coleta\": 1995.0, \"familia\": \"Dipsadidae\", \"counts\": 47, \"cumulative_sum\": 1539}, {\"ano_coleta\": 1996.0, \"familia\": \"Dipsadidae\", \"counts\": 123, \"cumulative_sum\": 1662}, {\"ano_coleta\": 1997.0, \"familia\": \"Dipsadidae\", \"counts\": 58, \"cumulative_sum\": 1720}, {\"ano_coleta\": 1998.0, \"familia\": \"Dipsadidae\", \"counts\": 48, \"cumulative_sum\": 1768}, {\"ano_coleta\": 1999.0, \"familia\": \"Dipsadidae\", \"counts\": 65, \"cumulative_sum\": 1833}, {\"ano_coleta\": 2000.0, \"familia\": \"Dipsadidae\", \"counts\": 58, \"cumulative_sum\": 1891}, {\"ano_coleta\": 2001.0, \"familia\": \"Dipsadidae\", \"counts\": 75, \"cumulative_sum\": 1966}, {\"ano_coleta\": 2002.0, \"familia\": \"Dipsadidae\", \"counts\": 45, \"cumulative_sum\": 2011}, {\"ano_coleta\": 2003.0, \"familia\": \"Dipsadidae\", \"counts\": 101, \"cumulative_sum\": 2112}, {\"ano_coleta\": 2004.0, \"familia\": \"Dipsadidae\", \"counts\": 156, \"cumulative_sum\": 2268}, {\"ano_coleta\": 2005.0, \"familia\": \"Dipsadidae\", \"counts\": 128, \"cumulative_sum\": 2396}, {\"ano_coleta\": 2006.0, \"familia\": \"Dipsadidae\", \"counts\": 181, \"cumulative_sum\": 2577}, {\"ano_coleta\": 2007.0, \"familia\": \"Dipsadidae\", \"counts\": 224, \"cumulative_sum\": 2801}, {\"ano_coleta\": 2008.0, \"familia\": \"Dipsadidae\", \"counts\": 380, \"cumulative_sum\": 3181}, {\"ano_coleta\": 2009.0, \"familia\": \"Dipsadidae\", \"counts\": 283, \"cumulative_sum\": 3464}, {\"ano_coleta\": 2010.0, \"familia\": \"Dipsadidae\", \"counts\": 294, \"cumulative_sum\": 3758}, {\"ano_coleta\": 2011.0, \"familia\": \"Dipsadidae\", \"counts\": 216, \"cumulative_sum\": 3974}, {\"ano_coleta\": 2012.0, \"familia\": \"Dipsadidae\", \"counts\": 125, \"cumulative_sum\": 4099}, {\"ano_coleta\": 2013.0, \"familia\": \"Dipsadidae\", \"counts\": 145, \"cumulative_sum\": 4244}, {\"ano_coleta\": 2014.0, \"familia\": \"Dipsadidae\", \"counts\": 120, \"cumulative_sum\": 4364}, {\"ano_coleta\": 2015.0, \"familia\": \"Dipsadidae\", \"counts\": 95, \"cumulative_sum\": 4459}, {\"ano_coleta\": 2016.0, \"familia\": \"Dipsadidae\", \"counts\": 48, \"cumulative_sum\": 4507}, {\"ano_coleta\": 1935.0, \"familia\": \"Elapidae\", \"counts\": 1, \"cumulative_sum\": 1}, {\"ano_coleta\": 1937.0, \"familia\": \"Elapidae\", \"counts\": 1, \"cumulative_sum\": 2}, {\"ano_coleta\": 1939.0, \"familia\": \"Elapidae\", \"counts\": 2, \"cumulative_sum\": 4}, {\"ano_coleta\": 1942.0, \"familia\": \"Elapidae\", \"counts\": 6, \"cumulative_sum\": 10}, {\"ano_coleta\": 1943.0, \"familia\": \"Elapidae\", \"counts\": 2, \"cumulative_sum\": 12}, {\"ano_coleta\": 1944.0, \"familia\": \"Elapidae\", \"counts\": 1, \"cumulative_sum\": 13}, {\"ano_coleta\": 1946.0, \"familia\": \"Elapidae\", \"counts\": 3, \"cumulative_sum\": 16}, {\"ano_coleta\": 1950.0, \"familia\": \"Elapidae\", \"counts\": 2, \"cumulative_sum\": 18}, {\"ano_coleta\": 1956.0, \"familia\": \"Elapidae\", \"counts\": 1, \"cumulative_sum\": 19}, {\"ano_coleta\": 1957.0, \"familia\": \"Elapidae\", \"counts\": 2, \"cumulative_sum\": 21}, {\"ano_coleta\": 1961.0, \"familia\": \"Elapidae\", \"counts\": 2, \"cumulative_sum\": 23}, {\"ano_coleta\": 1964.0, \"familia\": \"Elapidae\", \"counts\": 2, \"cumulative_sum\": 25}, {\"ano_coleta\": 1968.0, \"familia\": \"Elapidae\", \"counts\": 1, \"cumulative_sum\": 26}, {\"ano_coleta\": 1973.0, \"familia\": \"Elapidae\", \"counts\": 1, \"cumulative_sum\": 27}, {\"ano_coleta\": 1974.0, \"familia\": \"Elapidae\", \"counts\": 1, \"cumulative_sum\": 28}, {\"ano_coleta\": 1975.0, \"familia\": \"Elapidae\", \"counts\": 3, \"cumulative_sum\": 31}, {\"ano_coleta\": 1978.0, \"familia\": \"Elapidae\", \"counts\": 2, \"cumulative_sum\": 33}, {\"ano_coleta\": 1983.0, \"familia\": \"Elapidae\", \"counts\": 2, \"cumulative_sum\": 35}, {\"ano_coleta\": 1984.0, \"familia\": \"Elapidae\", \"counts\": 6, \"cumulative_sum\": 41}, {\"ano_coleta\": 1985.0, \"familia\": \"Elapidae\", \"counts\": 9, \"cumulative_sum\": 50}, {\"ano_coleta\": 1986.0, \"familia\": \"Elapidae\", \"counts\": 14, \"cumulative_sum\": 64}, {\"ano_coleta\": 1987.0, \"familia\": \"Elapidae\", \"counts\": 11, \"cumulative_sum\": 75}, {\"ano_coleta\": 1988.0, \"familia\": \"Elapidae\", \"counts\": 3, \"cumulative_sum\": 78}, {\"ano_coleta\": 1989.0, \"familia\": \"Elapidae\", \"counts\": 9, \"cumulative_sum\": 87}, {\"ano_coleta\": 1990.0, \"familia\": \"Elapidae\", \"counts\": 9, \"cumulative_sum\": 96}, {\"ano_coleta\": 1991.0, \"familia\": \"Elapidae\", \"counts\": 9, \"cumulative_sum\": 105}, {\"ano_coleta\": 1992.0, \"familia\": \"Elapidae\", \"counts\": 4, \"cumulative_sum\": 109}, {\"ano_coleta\": 1993.0, \"familia\": \"Elapidae\", \"counts\": 8, \"cumulative_sum\": 117}, {\"ano_coleta\": 1994.0, \"familia\": \"Elapidae\", \"counts\": 4, \"cumulative_sum\": 121}, {\"ano_coleta\": 1996.0, \"familia\": \"Elapidae\", \"counts\": 3, \"cumulative_sum\": 124}, {\"ano_coleta\": 1997.0, \"familia\": \"Elapidae\", \"counts\": 4, \"cumulative_sum\": 128}, {\"ano_coleta\": 1998.0, \"familia\": \"Elapidae\", \"counts\": 3, \"cumulative_sum\": 131}, {\"ano_coleta\": 1999.0, \"familia\": \"Elapidae\", \"counts\": 4, \"cumulative_sum\": 135}, {\"ano_coleta\": 2000.0, \"familia\": \"Elapidae\", \"counts\": 2, \"cumulative_sum\": 137}, {\"ano_coleta\": 2001.0, \"familia\": \"Elapidae\", \"counts\": 6, \"cumulative_sum\": 143}, {\"ano_coleta\": 2002.0, \"familia\": \"Elapidae\", \"counts\": 2, \"cumulative_sum\": 145}, {\"ano_coleta\": 2003.0, \"familia\": \"Elapidae\", \"counts\": 8, \"cumulative_sum\": 153}, {\"ano_coleta\": 2004.0, \"familia\": \"Elapidae\", \"counts\": 12, \"cumulative_sum\": 165}, {\"ano_coleta\": 2005.0, \"familia\": \"Elapidae\", \"counts\": 7, \"cumulative_sum\": 172}, {\"ano_coleta\": 2006.0, \"familia\": \"Elapidae\", \"counts\": 10, \"cumulative_sum\": 182}, {\"ano_coleta\": 2007.0, \"familia\": \"Elapidae\", \"counts\": 6, \"cumulative_sum\": 188}, {\"ano_coleta\": 2008.0, \"familia\": \"Elapidae\", \"counts\": 27, \"cumulative_sum\": 215}, {\"ano_coleta\": 2009.0, \"familia\": \"Elapidae\", \"counts\": 23, \"cumulative_sum\": 238}, {\"ano_coleta\": 2010.0, \"familia\": \"Elapidae\", \"counts\": 16, \"cumulative_sum\": 254}, {\"ano_coleta\": 2011.0, \"familia\": \"Elapidae\", \"counts\": 21, \"cumulative_sum\": 275}, {\"ano_coleta\": 2012.0, \"familia\": \"Elapidae\", \"counts\": 13, \"cumulative_sum\": 288}, {\"ano_coleta\": 2013.0, \"familia\": \"Elapidae\", \"counts\": 14, \"cumulative_sum\": 302}, {\"ano_coleta\": 2014.0, \"familia\": \"Elapidae\", \"counts\": 3, \"cumulative_sum\": 305}, {\"ano_coleta\": 2015.0, \"familia\": \"Elapidae\", \"counts\": 5, \"cumulative_sum\": 310}, {\"ano_coleta\": 2016.0, \"familia\": \"Elapidae\", \"counts\": 1, \"cumulative_sum\": 311}, {\"ano_coleta\": 1915.0, \"familia\": \"Emydidae\", \"counts\": 1, \"cumulative_sum\": 1}, {\"ano_coleta\": 1916.0, \"familia\": \"Emydidae\", \"counts\": 1, \"cumulative_sum\": 2}, {\"ano_coleta\": 1962.0, \"familia\": \"Emydidae\", \"counts\": 1, \"cumulative_sum\": 3}, {\"ano_coleta\": 1968.0, \"familia\": \"Emydidae\", \"counts\": 3, \"cumulative_sum\": 6}, {\"ano_coleta\": 2008.0, \"familia\": \"Emydidae\", \"counts\": 1, \"cumulative_sum\": 7}, {\"ano_coleta\": 1940.0, \"familia\": \"Gekkonidae\", \"counts\": 3, \"cumulative_sum\": 3}, {\"ano_coleta\": 1942.0, \"familia\": \"Gekkonidae\", \"counts\": 4, \"cumulative_sum\": 7}, {\"ano_coleta\": 1943.0, \"familia\": \"Gekkonidae\", \"counts\": 8, \"cumulative_sum\": 15}, {\"ano_coleta\": 1944.0, \"familia\": \"Gekkonidae\", \"counts\": 14, \"cumulative_sum\": 29}, {\"ano_coleta\": 1945.0, \"familia\": \"Gekkonidae\", \"counts\": 1, \"cumulative_sum\": 30}, {\"ano_coleta\": 1946.0, \"familia\": \"Gekkonidae\", \"counts\": 1, \"cumulative_sum\": 31}, {\"ano_coleta\": 1949.0, \"familia\": \"Gekkonidae\", \"counts\": 1, \"cumulative_sum\": 32}, {\"ano_coleta\": 1950.0, \"familia\": \"Gekkonidae\", \"counts\": 2, \"cumulative_sum\": 34}, {\"ano_coleta\": 1961.0, \"familia\": \"Gekkonidae\", \"counts\": 4, \"cumulative_sum\": 38}, {\"ano_coleta\": 1965.0, \"familia\": \"Gekkonidae\", \"counts\": 1, \"cumulative_sum\": 39}, {\"ano_coleta\": 1968.0, \"familia\": \"Gekkonidae\", \"counts\": 1, \"cumulative_sum\": 40}, {\"ano_coleta\": 1972.0, \"familia\": \"Gekkonidae\", \"counts\": 1, \"cumulative_sum\": 41}, {\"ano_coleta\": 1978.0, \"familia\": \"Gekkonidae\", \"counts\": 2, \"cumulative_sum\": 43}, {\"ano_coleta\": 1979.0, \"familia\": \"Gekkonidae\", \"counts\": 1, \"cumulative_sum\": 44}, {\"ano_coleta\": 1980.0, \"familia\": \"Gekkonidae\", \"counts\": 2, \"cumulative_sum\": 46}, {\"ano_coleta\": 1981.0, \"familia\": \"Gekkonidae\", \"counts\": 2, \"cumulative_sum\": 48}, {\"ano_coleta\": 1982.0, \"familia\": \"Gekkonidae\", \"counts\": 8, \"cumulative_sum\": 56}, {\"ano_coleta\": 1983.0, \"familia\": \"Gekkonidae\", \"counts\": 3, \"cumulative_sum\": 59}, {\"ano_coleta\": 1985.0, \"familia\": \"Gekkonidae\", \"counts\": 4, \"cumulative_sum\": 63}, {\"ano_coleta\": 1986.0, \"familia\": \"Gekkonidae\", \"counts\": 3, \"cumulative_sum\": 66}, {\"ano_coleta\": 1987.0, \"familia\": \"Gekkonidae\", \"counts\": 8, \"cumulative_sum\": 74}, {\"ano_coleta\": 1988.0, \"familia\": \"Gekkonidae\", \"counts\": 2, \"cumulative_sum\": 76}, {\"ano_coleta\": 1989.0, \"familia\": \"Gekkonidae\", \"counts\": 8, \"cumulative_sum\": 84}, {\"ano_coleta\": 1991.0, \"familia\": \"Gekkonidae\", \"counts\": 1, \"cumulative_sum\": 85}, {\"ano_coleta\": 1992.0, \"familia\": \"Gekkonidae\", \"counts\": 1, \"cumulative_sum\": 86}, {\"ano_coleta\": 1993.0, \"familia\": \"Gekkonidae\", \"counts\": 1, \"cumulative_sum\": 87}, {\"ano_coleta\": 1994.0, \"familia\": \"Gekkonidae\", \"counts\": 1, \"cumulative_sum\": 88}, {\"ano_coleta\": 1996.0, \"familia\": \"Gekkonidae\", \"counts\": 9, \"cumulative_sum\": 97}, {\"ano_coleta\": 1997.0, \"familia\": \"Gekkonidae\", \"counts\": 12, \"cumulative_sum\": 109}, {\"ano_coleta\": 1998.0, \"familia\": \"Gekkonidae\", \"counts\": 17, \"cumulative_sum\": 126}, {\"ano_coleta\": 1999.0, \"familia\": \"Gekkonidae\", \"counts\": 12, \"cumulative_sum\": 138}, {\"ano_coleta\": 2000.0, \"familia\": \"Gekkonidae\", \"counts\": 6, \"cumulative_sum\": 144}, {\"ano_coleta\": 2001.0, \"familia\": \"Gekkonidae\", \"counts\": 5, \"cumulative_sum\": 149}, {\"ano_coleta\": 2002.0, \"familia\": \"Gekkonidae\", \"counts\": 3, \"cumulative_sum\": 152}, {\"ano_coleta\": 2003.0, \"familia\": \"Gekkonidae\", \"counts\": 14, \"cumulative_sum\": 166}, {\"ano_coleta\": 2004.0, \"familia\": \"Gekkonidae\", \"counts\": 27, \"cumulative_sum\": 193}, {\"ano_coleta\": 2005.0, \"familia\": \"Gekkonidae\", \"counts\": 11, \"cumulative_sum\": 204}, {\"ano_coleta\": 2006.0, \"familia\": \"Gekkonidae\", \"counts\": 13, \"cumulative_sum\": 217}, {\"ano_coleta\": 2007.0, \"familia\": \"Gekkonidae\", \"counts\": 19, \"cumulative_sum\": 236}, {\"ano_coleta\": 2008.0, \"familia\": \"Gekkonidae\", \"counts\": 42, \"cumulative_sum\": 278}, {\"ano_coleta\": 2009.0, \"familia\": \"Gekkonidae\", \"counts\": 4, \"cumulative_sum\": 282}, {\"ano_coleta\": 2010.0, \"familia\": \"Gekkonidae\", \"counts\": 34, \"cumulative_sum\": 316}, {\"ano_coleta\": 2011.0, \"familia\": \"Gekkonidae\", \"counts\": 33, \"cumulative_sum\": 349}, {\"ano_coleta\": 2012.0, \"familia\": \"Gekkonidae\", \"counts\": 55, \"cumulative_sum\": 404}, {\"ano_coleta\": 2013.0, \"familia\": \"Gekkonidae\", \"counts\": 26, \"cumulative_sum\": 430}, {\"ano_coleta\": 2014.0, \"familia\": \"Gekkonidae\", \"counts\": 13, \"cumulative_sum\": 443}, {\"ano_coleta\": 2015.0, \"familia\": \"Gekkonidae\", \"counts\": 16, \"cumulative_sum\": 459}, {\"ano_coleta\": 2016.0, \"familia\": \"Gekkonidae\", \"counts\": 6, \"cumulative_sum\": 465}, {\"ano_coleta\": 1968.0, \"familia\": \"Geoemydidae\", \"counts\": 1, \"cumulative_sum\": 1}, {\"ano_coleta\": 1974.0, \"familia\": \"Geoemydidae\", \"counts\": 1, \"cumulative_sum\": 2}, {\"ano_coleta\": 2007.0, \"familia\": \"Geoemydidae\", \"counts\": 3, \"cumulative_sum\": 5}, {\"ano_coleta\": 2008.0, \"familia\": \"Geoemydidae\", \"counts\": 7, \"cumulative_sum\": 12}, {\"ano_coleta\": 2009.0, \"familia\": \"Geoemydidae\", \"counts\": 3, \"cumulative_sum\": 15}, {\"ano_coleta\": 2011.0, \"familia\": \"Geoemydidae\", \"counts\": 2, \"cumulative_sum\": 17}, {\"ano_coleta\": 1925.0, \"familia\": \"Gymnophthalmidae\", \"counts\": 1, \"cumulative_sum\": 1}, {\"ano_coleta\": 1937.0, \"familia\": \"Gymnophthalmidae\", \"counts\": 1, \"cumulative_sum\": 2}, {\"ano_coleta\": 1939.0, \"familia\": \"Gymnophthalmidae\", \"counts\": 75, \"cumulative_sum\": 77}, {\"ano_coleta\": 1943.0, \"familia\": \"Gymnophthalmidae\", \"counts\": 1, \"cumulative_sum\": 78}, {\"ano_coleta\": 1944.0, \"familia\": \"Gymnophthalmidae\", \"counts\": 1, \"cumulative_sum\": 79}, {\"ano_coleta\": 1945.0, \"familia\": \"Gymnophthalmidae\", \"counts\": 2, \"cumulative_sum\": 81}, {\"ano_coleta\": 1948.0, \"familia\": \"Gymnophthalmidae\", \"counts\": 4, \"cumulative_sum\": 85}, {\"ano_coleta\": 1949.0, \"familia\": \"Gymnophthalmidae\", \"counts\": 1, \"cumulative_sum\": 86}, {\"ano_coleta\": 1951.0, \"familia\": \"Gymnophthalmidae\", \"counts\": 1, \"cumulative_sum\": 87}, {\"ano_coleta\": 1953.0, \"familia\": \"Gymnophthalmidae\", \"counts\": 3, \"cumulative_sum\": 90}, {\"ano_coleta\": 1955.0, \"familia\": \"Gymnophthalmidae\", \"counts\": 1, \"cumulative_sum\": 91}, {\"ano_coleta\": 1956.0, \"familia\": \"Gymnophthalmidae\", \"counts\": 3, \"cumulative_sum\": 94}, {\"ano_coleta\": 1957.0, \"familia\": \"Gymnophthalmidae\", \"counts\": 3, \"cumulative_sum\": 97}, {\"ano_coleta\": 1959.0, \"familia\": \"Gymnophthalmidae\", \"counts\": 2, \"cumulative_sum\": 99}, {\"ano_coleta\": 1963.0, \"familia\": \"Gymnophthalmidae\", \"counts\": 5, \"cumulative_sum\": 104}, {\"ano_coleta\": 1964.0, \"familia\": \"Gymnophthalmidae\", \"counts\": 7, \"cumulative_sum\": 111}, {\"ano_coleta\": 1965.0, \"familia\": \"Gymnophthalmidae\", \"counts\": 3, \"cumulative_sum\": 114}, {\"ano_coleta\": 1966.0, \"familia\": \"Gymnophthalmidae\", \"counts\": 2, \"cumulative_sum\": 116}, {\"ano_coleta\": 1969.0, \"familia\": \"Gymnophthalmidae\", \"counts\": 1, \"cumulative_sum\": 117}, {\"ano_coleta\": 1970.0, \"familia\": \"Gymnophthalmidae\", \"counts\": 1, \"cumulative_sum\": 118}, {\"ano_coleta\": 1971.0, \"familia\": \"Gymnophthalmidae\", \"counts\": 2, \"cumulative_sum\": 120}, {\"ano_coleta\": 1972.0, \"familia\": \"Gymnophthalmidae\", \"counts\": 2, \"cumulative_sum\": 122}, {\"ano_coleta\": 1973.0, \"familia\": \"Gymnophthalmidae\", \"counts\": 1, \"cumulative_sum\": 123}, {\"ano_coleta\": 1975.0, \"familia\": \"Gymnophthalmidae\", \"counts\": 4, \"cumulative_sum\": 127}, {\"ano_coleta\": 1976.0, \"familia\": \"Gymnophthalmidae\", \"counts\": 4, \"cumulative_sum\": 131}, {\"ano_coleta\": 1977.0, \"familia\": \"Gymnophthalmidae\", \"counts\": 2, \"cumulative_sum\": 133}, {\"ano_coleta\": 1978.0, \"familia\": \"Gymnophthalmidae\", \"counts\": 1, \"cumulative_sum\": 134}, {\"ano_coleta\": 1979.0, \"familia\": \"Gymnophthalmidae\", \"counts\": 1, \"cumulative_sum\": 135}, {\"ano_coleta\": 1980.0, \"familia\": \"Gymnophthalmidae\", \"counts\": 3, \"cumulative_sum\": 138}, {\"ano_coleta\": 1982.0, \"familia\": \"Gymnophthalmidae\", \"counts\": 1, \"cumulative_sum\": 139}, {\"ano_coleta\": 1983.0, \"familia\": \"Gymnophthalmidae\", \"counts\": 3, \"cumulative_sum\": 142}, {\"ano_coleta\": 1984.0, \"familia\": \"Gymnophthalmidae\", \"counts\": 1, \"cumulative_sum\": 143}, {\"ano_coleta\": 1985.0, \"familia\": \"Gymnophthalmidae\", \"counts\": 1, \"cumulative_sum\": 144}, {\"ano_coleta\": 1987.0, \"familia\": \"Gymnophthalmidae\", \"counts\": 14, \"cumulative_sum\": 158}, {\"ano_coleta\": 1988.0, \"familia\": \"Gymnophthalmidae\", \"counts\": 6, \"cumulative_sum\": 164}, {\"ano_coleta\": 1989.0, \"familia\": \"Gymnophthalmidae\", \"counts\": 6, \"cumulative_sum\": 170}, {\"ano_coleta\": 1990.0, \"familia\": \"Gymnophthalmidae\", \"counts\": 7, \"cumulative_sum\": 177}, {\"ano_coleta\": 1991.0, \"familia\": \"Gymnophthalmidae\", \"counts\": 1, \"cumulative_sum\": 178}, {\"ano_coleta\": 1992.0, \"familia\": \"Gymnophthalmidae\", \"counts\": 1, \"cumulative_sum\": 179}, {\"ano_coleta\": 1993.0, \"familia\": \"Gymnophthalmidae\", \"counts\": 2, \"cumulative_sum\": 181}, {\"ano_coleta\": 1994.0, \"familia\": \"Gymnophthalmidae\", \"counts\": 5, \"cumulative_sum\": 186}, {\"ano_coleta\": 1995.0, \"familia\": \"Gymnophthalmidae\", \"counts\": 3, \"cumulative_sum\": 189}, {\"ano_coleta\": 1996.0, \"familia\": \"Gymnophthalmidae\", \"counts\": 9, \"cumulative_sum\": 198}, {\"ano_coleta\": 1997.0, \"familia\": \"Gymnophthalmidae\", \"counts\": 12, \"cumulative_sum\": 210}, {\"ano_coleta\": 1998.0, \"familia\": \"Gymnophthalmidae\", \"counts\": 11, \"cumulative_sum\": 221}, {\"ano_coleta\": 1999.0, \"familia\": \"Gymnophthalmidae\", \"counts\": 6, \"cumulative_sum\": 227}, {\"ano_coleta\": 2000.0, \"familia\": \"Gymnophthalmidae\", \"counts\": 39, \"cumulative_sum\": 266}, {\"ano_coleta\": 2001.0, \"familia\": \"Gymnophthalmidae\", \"counts\": 3, \"cumulative_sum\": 269}, {\"ano_coleta\": 2002.0, \"familia\": \"Gymnophthalmidae\", \"counts\": 6, \"cumulative_sum\": 275}, {\"ano_coleta\": 2003.0, \"familia\": \"Gymnophthalmidae\", \"counts\": 5, \"cumulative_sum\": 280}, {\"ano_coleta\": 2004.0, \"familia\": \"Gymnophthalmidae\", \"counts\": 11, \"cumulative_sum\": 291}, {\"ano_coleta\": 2005.0, \"familia\": \"Gymnophthalmidae\", \"counts\": 7, \"cumulative_sum\": 298}, {\"ano_coleta\": 2006.0, \"familia\": \"Gymnophthalmidae\", \"counts\": 23, \"cumulative_sum\": 321}, {\"ano_coleta\": 2007.0, \"familia\": \"Gymnophthalmidae\", \"counts\": 63, \"cumulative_sum\": 384}, {\"ano_coleta\": 2008.0, \"familia\": \"Gymnophthalmidae\", \"counts\": 63, \"cumulative_sum\": 447}, {\"ano_coleta\": 2009.0, \"familia\": \"Gymnophthalmidae\", \"counts\": 70, \"cumulative_sum\": 517}, {\"ano_coleta\": 2010.0, \"familia\": \"Gymnophthalmidae\", \"counts\": 37, \"cumulative_sum\": 554}, {\"ano_coleta\": 2011.0, \"familia\": \"Gymnophthalmidae\", \"counts\": 20, \"cumulative_sum\": 574}, {\"ano_coleta\": 2012.0, \"familia\": \"Gymnophthalmidae\", \"counts\": 30, \"cumulative_sum\": 604}, {\"ano_coleta\": 2013.0, \"familia\": \"Gymnophthalmidae\", \"counts\": 70, \"cumulative_sum\": 674}, {\"ano_coleta\": 2014.0, \"familia\": \"Gymnophthalmidae\", \"counts\": 16, \"cumulative_sum\": 690}, {\"ano_coleta\": 2015.0, \"familia\": \"Gymnophthalmidae\", \"counts\": 13, \"cumulative_sum\": 703}, {\"ano_coleta\": 2016.0, \"familia\": \"Gymnophthalmidae\", \"counts\": 3, \"cumulative_sum\": 706}, {\"ano_coleta\": 1943.0, \"familia\": \"Hoplocercidae\", \"counts\": 1, \"cumulative_sum\": 1}, {\"ano_coleta\": 1946.0, \"familia\": \"Hoplocercidae\", \"counts\": 2, \"cumulative_sum\": 3}, {\"ano_coleta\": 1947.0, \"familia\": \"Hoplocercidae\", \"counts\": 56, \"cumulative_sum\": 59}, {\"ano_coleta\": 1949.0, \"familia\": \"Hoplocercidae\", \"counts\": 4, \"cumulative_sum\": 63}, {\"ano_coleta\": 1950.0, \"familia\": \"Hoplocercidae\", \"counts\": 10, \"cumulative_sum\": 73}, {\"ano_coleta\": 1960.0, \"familia\": \"Hoplocercidae\", \"counts\": 1, \"cumulative_sum\": 74}, {\"ano_coleta\": 1971.0, \"familia\": \"Hoplocercidae\", \"counts\": 1, \"cumulative_sum\": 75}, {\"ano_coleta\": 1972.0, \"familia\": \"Hoplocercidae\", \"counts\": 6, \"cumulative_sum\": 81}, {\"ano_coleta\": 1985.0, \"familia\": \"Hoplocercidae\", \"counts\": 1, \"cumulative_sum\": 82}, {\"ano_coleta\": 1989.0, \"familia\": \"Hoplocercidae\", \"counts\": 1, \"cumulative_sum\": 83}, {\"ano_coleta\": 2012.0, \"familia\": \"Hoplocercidae\", \"counts\": 1, \"cumulative_sum\": 84}, {\"ano_coleta\": 2013.0, \"familia\": \"Hoplocercidae\", \"counts\": 1, \"cumulative_sum\": 85}, {\"ano_coleta\": 1941.0, \"familia\": \"Iguanidae\", \"counts\": 2, \"cumulative_sum\": 2}, {\"ano_coleta\": 1942.0, \"familia\": \"Iguanidae\", \"counts\": 2, \"cumulative_sum\": 4}, {\"ano_coleta\": 1943.0, \"familia\": \"Iguanidae\", \"counts\": 1, \"cumulative_sum\": 5}, {\"ano_coleta\": 1945.0, \"familia\": \"Iguanidae\", \"counts\": 1, \"cumulative_sum\": 6}, {\"ano_coleta\": 1948.0, \"familia\": \"Iguanidae\", \"counts\": 2, \"cumulative_sum\": 8}, {\"ano_coleta\": 1950.0, \"familia\": \"Iguanidae\", \"counts\": 1, \"cumulative_sum\": 9}, {\"ano_coleta\": 1951.0, \"familia\": \"Iguanidae\", \"counts\": 2, \"cumulative_sum\": 11}, {\"ano_coleta\": 1956.0, \"familia\": \"Iguanidae\", \"counts\": 3, \"cumulative_sum\": 14}, {\"ano_coleta\": 1967.0, \"familia\": \"Iguanidae\", \"counts\": 1, \"cumulative_sum\": 15}, {\"ano_coleta\": 1978.0, \"familia\": \"Iguanidae\", \"counts\": 2, \"cumulative_sum\": 17}, {\"ano_coleta\": 1981.0, \"familia\": \"Iguanidae\", \"counts\": 1, \"cumulative_sum\": 18}, {\"ano_coleta\": 1985.0, \"familia\": \"Iguanidae\", \"counts\": 1, \"cumulative_sum\": 19}, {\"ano_coleta\": 1986.0, \"familia\": \"Iguanidae\", \"counts\": 1, \"cumulative_sum\": 20}, {\"ano_coleta\": 1988.0, \"familia\": \"Iguanidae\", \"counts\": 1, \"cumulative_sum\": 21}, {\"ano_coleta\": 1995.0, \"familia\": \"Iguanidae\", \"counts\": 1, \"cumulative_sum\": 22}, {\"ano_coleta\": 1997.0, \"familia\": \"Iguanidae\", \"counts\": 1, \"cumulative_sum\": 23}, {\"ano_coleta\": 1998.0, \"familia\": \"Iguanidae\", \"counts\": 9, \"cumulative_sum\": 32}, {\"ano_coleta\": 2000.0, \"familia\": \"Iguanidae\", \"counts\": 3, \"cumulative_sum\": 35}, {\"ano_coleta\": 2003.0, \"familia\": \"Iguanidae\", \"counts\": 1, \"cumulative_sum\": 36}, {\"ano_coleta\": 2004.0, \"familia\": \"Iguanidae\", \"counts\": 2, \"cumulative_sum\": 38}, {\"ano_coleta\": 2008.0, \"familia\": \"Iguanidae\", \"counts\": 1, \"cumulative_sum\": 39}, {\"ano_coleta\": 2009.0, \"familia\": \"Iguanidae\", \"counts\": 1, \"cumulative_sum\": 40}, {\"ano_coleta\": 2010.0, \"familia\": \"Iguanidae\", \"counts\": 1, \"cumulative_sum\": 41}, {\"ano_coleta\": 2011.0, \"familia\": \"Iguanidae\", \"counts\": 1, \"cumulative_sum\": 42}, {\"ano_coleta\": 2016.0, \"familia\": \"Iguanidae\", \"counts\": 1, \"cumulative_sum\": 43}, {\"ano_coleta\": 1955.0, \"familia\": \"Kinosternidae\", \"counts\": 1, \"cumulative_sum\": 1}, {\"ano_coleta\": 1963.0, \"familia\": \"Kinosternidae\", \"counts\": 1, \"cumulative_sum\": 2}, {\"ano_coleta\": 1976.0, \"familia\": \"Kinosternidae\", \"counts\": 1, \"cumulative_sum\": 3}, {\"ano_coleta\": 2006.0, \"familia\": \"Kinosternidae\", \"counts\": 1, \"cumulative_sum\": 4}, {\"ano_coleta\": 2009.0, \"familia\": \"Kinosternidae\", \"counts\": 1, \"cumulative_sum\": 5}, {\"ano_coleta\": 1915.0, \"familia\": \"Leiosauridae\", \"counts\": 4, \"cumulative_sum\": 4}, {\"ano_coleta\": 1939.0, \"familia\": \"Leiosauridae\", \"counts\": 1, \"cumulative_sum\": 5}, {\"ano_coleta\": 1940.0, \"familia\": \"Leiosauridae\", \"counts\": 4, \"cumulative_sum\": 9}, {\"ano_coleta\": 1941.0, \"familia\": \"Leiosauridae\", \"counts\": 2, \"cumulative_sum\": 11}, {\"ano_coleta\": 1942.0, \"familia\": \"Leiosauridae\", \"counts\": 3, \"cumulative_sum\": 14}, {\"ano_coleta\": 1943.0, \"familia\": \"Leiosauridae\", \"counts\": 1, \"cumulative_sum\": 15}, {\"ano_coleta\": 1944.0, \"familia\": \"Leiosauridae\", \"counts\": 17, \"cumulative_sum\": 32}, {\"ano_coleta\": 1945.0, \"familia\": \"Leiosauridae\", \"counts\": 6, \"cumulative_sum\": 38}, {\"ano_coleta\": 1947.0, \"familia\": \"Leiosauridae\", \"counts\": 2, \"cumulative_sum\": 40}, {\"ano_coleta\": 1948.0, \"familia\": \"Leiosauridae\", \"counts\": 1, \"cumulative_sum\": 41}, {\"ano_coleta\": 1952.0, \"familia\": \"Leiosauridae\", \"counts\": 7, \"cumulative_sum\": 48}, {\"ano_coleta\": 1954.0, \"familia\": \"Leiosauridae\", \"counts\": 2, \"cumulative_sum\": 50}, {\"ano_coleta\": 1956.0, \"familia\": \"Leiosauridae\", \"counts\": 3, \"cumulative_sum\": 53}, {\"ano_coleta\": 1958.0, \"familia\": \"Leiosauridae\", \"counts\": 2, \"cumulative_sum\": 55}, {\"ano_coleta\": 1959.0, \"familia\": \"Leiosauridae\", \"counts\": 1, \"cumulative_sum\": 56}, {\"ano_coleta\": 1963.0, \"familia\": \"Leiosauridae\", \"counts\": 2, \"cumulative_sum\": 58}, {\"ano_coleta\": 1965.0, \"familia\": \"Leiosauridae\", \"counts\": 1, \"cumulative_sum\": 59}, {\"ano_coleta\": 1969.0, \"familia\": \"Leiosauridae\", \"counts\": 2, \"cumulative_sum\": 61}, {\"ano_coleta\": 1970.0, \"familia\": \"Leiosauridae\", \"counts\": 2, \"cumulative_sum\": 63}, {\"ano_coleta\": 1971.0, \"familia\": \"Leiosauridae\", \"counts\": 2, \"cumulative_sum\": 65}, {\"ano_coleta\": 1973.0, \"familia\": \"Leiosauridae\", \"counts\": 1, \"cumulative_sum\": 66}, {\"ano_coleta\": 1975.0, \"familia\": \"Leiosauridae\", \"counts\": 1, \"cumulative_sum\": 67}, {\"ano_coleta\": 1976.0, \"familia\": \"Leiosauridae\", \"counts\": 1, \"cumulative_sum\": 68}, {\"ano_coleta\": 1985.0, \"familia\": \"Leiosauridae\", \"counts\": 1, \"cumulative_sum\": 69}, {\"ano_coleta\": 1986.0, \"familia\": \"Leiosauridae\", \"counts\": 3, \"cumulative_sum\": 72}, {\"ano_coleta\": 1987.0, \"familia\": \"Leiosauridae\", \"counts\": 10, \"cumulative_sum\": 82}, {\"ano_coleta\": 1988.0, \"familia\": \"Leiosauridae\", \"counts\": 3, \"cumulative_sum\": 85}, {\"ano_coleta\": 1989.0, \"familia\": \"Leiosauridae\", \"counts\": 5, \"cumulative_sum\": 90}, {\"ano_coleta\": 1990.0, \"familia\": \"Leiosauridae\", \"counts\": 2, \"cumulative_sum\": 92}, {\"ano_coleta\": 1991.0, \"familia\": \"Leiosauridae\", \"counts\": 4, \"cumulative_sum\": 96}, {\"ano_coleta\": 1992.0, \"familia\": \"Leiosauridae\", \"counts\": 2, \"cumulative_sum\": 98}, {\"ano_coleta\": 1993.0, \"familia\": \"Leiosauridae\", \"counts\": 2, \"cumulative_sum\": 100}, {\"ano_coleta\": 1994.0, \"familia\": \"Leiosauridae\", \"counts\": 10, \"cumulative_sum\": 110}, {\"ano_coleta\": 1995.0, \"familia\": \"Leiosauridae\", \"counts\": 3, \"cumulative_sum\": 113}, {\"ano_coleta\": 1996.0, \"familia\": \"Leiosauridae\", \"counts\": 7, \"cumulative_sum\": 120}, {\"ano_coleta\": 1997.0, \"familia\": \"Leiosauridae\", \"counts\": 9, \"cumulative_sum\": 129}, {\"ano_coleta\": 1998.0, \"familia\": \"Leiosauridae\", \"counts\": 7, \"cumulative_sum\": 136}, {\"ano_coleta\": 1999.0, \"familia\": \"Leiosauridae\", \"counts\": 2, \"cumulative_sum\": 138}, {\"ano_coleta\": 2000.0, \"familia\": \"Leiosauridae\", \"counts\": 5, \"cumulative_sum\": 143}, {\"ano_coleta\": 2001.0, \"familia\": \"Leiosauridae\", \"counts\": 2, \"cumulative_sum\": 145}, {\"ano_coleta\": 2002.0, \"familia\": \"Leiosauridae\", \"counts\": 2, \"cumulative_sum\": 147}, {\"ano_coleta\": 2003.0, \"familia\": \"Leiosauridae\", \"counts\": 17, \"cumulative_sum\": 164}, {\"ano_coleta\": 2004.0, \"familia\": \"Leiosauridae\", \"counts\": 15, \"cumulative_sum\": 179}, {\"ano_coleta\": 2005.0, \"familia\": \"Leiosauridae\", \"counts\": 24, \"cumulative_sum\": 203}, {\"ano_coleta\": 2006.0, \"familia\": \"Leiosauridae\", \"counts\": 18, \"cumulative_sum\": 221}, {\"ano_coleta\": 2007.0, \"familia\": \"Leiosauridae\", \"counts\": 13, \"cumulative_sum\": 234}, {\"ano_coleta\": 2008.0, \"familia\": \"Leiosauridae\", \"counts\": 13, \"cumulative_sum\": 247}, {\"ano_coleta\": 2009.0, \"familia\": \"Leiosauridae\", \"counts\": 25, \"cumulative_sum\": 272}, {\"ano_coleta\": 2010.0, \"familia\": \"Leiosauridae\", \"counts\": 16, \"cumulative_sum\": 288}, {\"ano_coleta\": 2011.0, \"familia\": \"Leiosauridae\", \"counts\": 13, \"cumulative_sum\": 301}, {\"ano_coleta\": 2012.0, \"familia\": \"Leiosauridae\", \"counts\": 23, \"cumulative_sum\": 324}, {\"ano_coleta\": 2013.0, \"familia\": \"Leiosauridae\", \"counts\": 23, \"cumulative_sum\": 347}, {\"ano_coleta\": 2014.0, \"familia\": \"Leiosauridae\", \"counts\": 2, \"cumulative_sum\": 349}, {\"ano_coleta\": 2015.0, \"familia\": \"Leiosauridae\", \"counts\": 2, \"cumulative_sum\": 351}, {\"ano_coleta\": 2016.0, \"familia\": \"Leiosauridae\", \"counts\": 8, \"cumulative_sum\": 359}, {\"ano_coleta\": 1946.0, \"familia\": \"Leptotyphlopidae\", \"counts\": 1, \"cumulative_sum\": 1}, {\"ano_coleta\": 1953.0, \"familia\": \"Leptotyphlopidae\", \"counts\": 1, \"cumulative_sum\": 2}, {\"ano_coleta\": 1956.0, \"familia\": \"Leptotyphlopidae\", \"counts\": 1, \"cumulative_sum\": 3}, {\"ano_coleta\": 1963.0, \"familia\": \"Leptotyphlopidae\", \"counts\": 1, \"cumulative_sum\": 4}, {\"ano_coleta\": 1976.0, \"familia\": \"Leptotyphlopidae\", \"counts\": 1, \"cumulative_sum\": 5}, {\"ano_coleta\": 1985.0, \"familia\": \"Leptotyphlopidae\", \"counts\": 1, \"cumulative_sum\": 6}, {\"ano_coleta\": 1987.0, \"familia\": \"Leptotyphlopidae\", \"counts\": 1, \"cumulative_sum\": 7}, {\"ano_coleta\": 1989.0, \"familia\": \"Leptotyphlopidae\", \"counts\": 6, \"cumulative_sum\": 13}, {\"ano_coleta\": 1993.0, \"familia\": \"Leptotyphlopidae\", \"counts\": 1, \"cumulative_sum\": 14}, {\"ano_coleta\": 1995.0, \"familia\": \"Leptotyphlopidae\", \"counts\": 1, \"cumulative_sum\": 15}, {\"ano_coleta\": 1998.0, \"familia\": \"Leptotyphlopidae\", \"counts\": 2, \"cumulative_sum\": 17}, {\"ano_coleta\": 2003.0, \"familia\": \"Leptotyphlopidae\", \"counts\": 3, \"cumulative_sum\": 20}, {\"ano_coleta\": 2004.0, \"familia\": \"Leptotyphlopidae\", \"counts\": 2, \"cumulative_sum\": 22}, {\"ano_coleta\": 2005.0, \"familia\": \"Leptotyphlopidae\", \"counts\": 4, \"cumulative_sum\": 26}, {\"ano_coleta\": 2006.0, \"familia\": \"Leptotyphlopidae\", \"counts\": 6, \"cumulative_sum\": 32}, {\"ano_coleta\": 2007.0, \"familia\": \"Leptotyphlopidae\", \"counts\": 3, \"cumulative_sum\": 35}, {\"ano_coleta\": 2008.0, \"familia\": \"Leptotyphlopidae\", \"counts\": 16, \"cumulative_sum\": 51}, {\"ano_coleta\": 2009.0, \"familia\": \"Leptotyphlopidae\", \"counts\": 24, \"cumulative_sum\": 75}, {\"ano_coleta\": 2010.0, \"familia\": \"Leptotyphlopidae\", \"counts\": 2, \"cumulative_sum\": 77}, {\"ano_coleta\": 2011.0, \"familia\": \"Leptotyphlopidae\", \"counts\": 12, \"cumulative_sum\": 89}, {\"ano_coleta\": 2012.0, \"familia\": \"Leptotyphlopidae\", \"counts\": 2, \"cumulative_sum\": 91}, {\"ano_coleta\": 2013.0, \"familia\": \"Leptotyphlopidae\", \"counts\": 7, \"cumulative_sum\": 98}, {\"ano_coleta\": 2014.0, \"familia\": \"Leptotyphlopidae\", \"counts\": 1, \"cumulative_sum\": 99}, {\"ano_coleta\": 2015.0, \"familia\": \"Leptotyphlopidae\", \"counts\": 2, \"cumulative_sum\": 101}, {\"ano_coleta\": 1943.0, \"familia\": \"Liolaemidae\", \"counts\": 5, \"cumulative_sum\": 5}, {\"ano_coleta\": 1944.0, \"familia\": \"Liolaemidae\", \"counts\": 7, \"cumulative_sum\": 12}, {\"ano_coleta\": 1945.0, \"familia\": \"Liolaemidae\", \"counts\": 10, \"cumulative_sum\": 22}, {\"ano_coleta\": 1953.0, \"familia\": \"Liolaemidae\", \"counts\": 5, \"cumulative_sum\": 27}, {\"ano_coleta\": 1954.0, \"familia\": \"Liolaemidae\", \"counts\": 1, \"cumulative_sum\": 28}, {\"ano_coleta\": 1964.0, \"familia\": \"Liolaemidae\", \"counts\": 1, \"cumulative_sum\": 29}, {\"ano_coleta\": 1966.0, \"familia\": \"Liolaemidae\", \"counts\": 3, \"cumulative_sum\": 32}, {\"ano_coleta\": 1983.0, \"familia\": \"Liolaemidae\", \"counts\": 1, \"cumulative_sum\": 33}, {\"ano_coleta\": 1986.0, \"familia\": \"Liolaemidae\", \"counts\": 54, \"cumulative_sum\": 87}, {\"ano_coleta\": 1987.0, \"familia\": \"Liolaemidae\", \"counts\": 100, \"cumulative_sum\": 187}, {\"ano_coleta\": 1988.0, \"familia\": \"Liolaemidae\", \"counts\": 2, \"cumulative_sum\": 189}, {\"ano_coleta\": 1993.0, \"familia\": \"Liolaemidae\", \"counts\": 1, \"cumulative_sum\": 190}, {\"ano_coleta\": 1998.0, \"familia\": \"Liolaemidae\", \"counts\": 1, \"cumulative_sum\": 191}, {\"ano_coleta\": 1999.0, \"familia\": \"Liolaemidae\", \"counts\": 3, \"cumulative_sum\": 194}, {\"ano_coleta\": 2000.0, \"familia\": \"Liolaemidae\", \"counts\": 5, \"cumulative_sum\": 199}, {\"ano_coleta\": 2001.0, \"familia\": \"Liolaemidae\", \"counts\": 8, \"cumulative_sum\": 207}, {\"ano_coleta\": 2002.0, \"familia\": \"Liolaemidae\", \"counts\": 5, \"cumulative_sum\": 212}, {\"ano_coleta\": 2004.0, \"familia\": \"Liolaemidae\", \"counts\": 1, \"cumulative_sum\": 213}, {\"ano_coleta\": 2005.0, \"familia\": \"Liolaemidae\", \"counts\": 1, \"cumulative_sum\": 214}, {\"ano_coleta\": 2007.0, \"familia\": \"Liolaemidae\", \"counts\": 4, \"cumulative_sum\": 218}, {\"ano_coleta\": 2012.0, \"familia\": \"Liolaemidae\", \"counts\": 8, \"cumulative_sum\": 226}, {\"ano_coleta\": 1936.0, \"familia\": \"Loxocemidae\", \"counts\": 1, \"cumulative_sum\": 1}, {\"ano_coleta\": 1962.0, \"familia\": \"Nan\", \"counts\": 1, \"cumulative_sum\": 1}, {\"ano_coleta\": 1963.0, \"familia\": \"Nan\", \"counts\": 1, \"cumulative_sum\": 2}, {\"ano_coleta\": 2007.0, \"familia\": \"Nan\", \"counts\": 1, \"cumulative_sum\": 3}, {\"ano_coleta\": 2008.0, \"familia\": \"Nan\", \"counts\": 1, \"cumulative_sum\": 4}, {\"ano_coleta\": 1914.0, \"familia\": \"Natricidae\", \"counts\": 1, \"cumulative_sum\": 1}, {\"ano_coleta\": 1919.0, \"familia\": \"Natricidae\", \"counts\": 2, \"cumulative_sum\": 3}, {\"ano_coleta\": 1994.0, \"familia\": \"Natricidae\", \"counts\": 1, \"cumulative_sum\": 4}, {\"ano_coleta\": 1901.0, \"familia\": \"Phrynosomatidae\", \"counts\": 2, \"cumulative_sum\": 2}, {\"ano_coleta\": 1902.0, \"familia\": \"Phrynosomatidae\", \"counts\": 1, \"cumulative_sum\": 3}, {\"ano_coleta\": 1947.0, \"familia\": \"Phrynosomatidae\", \"counts\": 2, \"cumulative_sum\": 5}, {\"ano_coleta\": 1937.0, \"familia\": \"Phyllodactylidae\", \"counts\": 1, \"cumulative_sum\": 1}, {\"ano_coleta\": 1941.0, \"familia\": \"Phyllodactylidae\", \"counts\": 4, \"cumulative_sum\": 5}, {\"ano_coleta\": 1942.0, \"familia\": \"Phyllodactylidae\", \"counts\": 30, \"cumulative_sum\": 35}, {\"ano_coleta\": 1944.0, \"familia\": \"Phyllodactylidae\", \"counts\": 1, \"cumulative_sum\": 36}, {\"ano_coleta\": 1945.0, \"familia\": \"Phyllodactylidae\", \"counts\": 1, \"cumulative_sum\": 37}, {\"ano_coleta\": 1949.0, \"familia\": \"Phyllodactylidae\", \"counts\": 7, \"cumulative_sum\": 44}, {\"ano_coleta\": 1950.0, \"familia\": \"Phyllodactylidae\", \"counts\": 2, \"cumulative_sum\": 46}, {\"ano_coleta\": 1963.0, \"familia\": \"Phyllodactylidae\", \"counts\": 1, \"cumulative_sum\": 47}, {\"ano_coleta\": 1968.0, \"familia\": \"Phyllodactylidae\", \"counts\": 1, \"cumulative_sum\": 48}, {\"ano_coleta\": 1970.0, \"familia\": \"Phyllodactylidae\", \"counts\": 1, \"cumulative_sum\": 49}, {\"ano_coleta\": 1971.0, \"familia\": \"Phyllodactylidae\", \"counts\": 1, \"cumulative_sum\": 50}, {\"ano_coleta\": 1973.0, \"familia\": \"Phyllodactylidae\", \"counts\": 1, \"cumulative_sum\": 51}, {\"ano_coleta\": 1975.0, \"familia\": \"Phyllodactylidae\", \"counts\": 2, \"cumulative_sum\": 53}, {\"ano_coleta\": 1977.0, \"familia\": \"Phyllodactylidae\", \"counts\": 2, \"cumulative_sum\": 55}, {\"ano_coleta\": 1979.0, \"familia\": \"Phyllodactylidae\", \"counts\": 3, \"cumulative_sum\": 58}, {\"ano_coleta\": 1980.0, \"familia\": \"Phyllodactylidae\", \"counts\": 1, \"cumulative_sum\": 59}, {\"ano_coleta\": 1982.0, \"familia\": \"Phyllodactylidae\", \"counts\": 3, \"cumulative_sum\": 62}, {\"ano_coleta\": 1985.0, \"familia\": \"Phyllodactylidae\", \"counts\": 2, \"cumulative_sum\": 64}, {\"ano_coleta\": 1986.0, \"familia\": \"Phyllodactylidae\", \"counts\": 1, \"cumulative_sum\": 65}, {\"ano_coleta\": 1987.0, \"familia\": \"Phyllodactylidae\", \"counts\": 2, \"cumulative_sum\": 67}, {\"ano_coleta\": 1988.0, \"familia\": \"Phyllodactylidae\", \"counts\": 2, \"cumulative_sum\": 69}, {\"ano_coleta\": 1989.0, \"familia\": \"Phyllodactylidae\", \"counts\": 2, \"cumulative_sum\": 71}, {\"ano_coleta\": 1990.0, \"familia\": \"Phyllodactylidae\", \"counts\": 6, \"cumulative_sum\": 77}, {\"ano_coleta\": 1991.0, \"familia\": \"Phyllodactylidae\", \"counts\": 1, \"cumulative_sum\": 78}, {\"ano_coleta\": 1992.0, \"familia\": \"Phyllodactylidae\", \"counts\": 3, \"cumulative_sum\": 81}, {\"ano_coleta\": 1993.0, \"familia\": \"Phyllodactylidae\", \"counts\": 6, \"cumulative_sum\": 87}, {\"ano_coleta\": 1994.0, \"familia\": \"Phyllodactylidae\", \"counts\": 1, \"cumulative_sum\": 88}, {\"ano_coleta\": 1995.0, \"familia\": \"Phyllodactylidae\", \"counts\": 12, \"cumulative_sum\": 100}, {\"ano_coleta\": 1996.0, \"familia\": \"Phyllodactylidae\", \"counts\": 3, \"cumulative_sum\": 103}, {\"ano_coleta\": 1997.0, \"familia\": \"Phyllodactylidae\", \"counts\": 1, \"cumulative_sum\": 104}, {\"ano_coleta\": 1998.0, \"familia\": \"Phyllodactylidae\", \"counts\": 20, \"cumulative_sum\": 124}, {\"ano_coleta\": 1999.0, \"familia\": \"Phyllodactylidae\", \"counts\": 10, \"cumulative_sum\": 134}, {\"ano_coleta\": 2000.0, \"familia\": \"Phyllodactylidae\", \"counts\": 22, \"cumulative_sum\": 156}, {\"ano_coleta\": 2001.0, \"familia\": \"Phyllodactylidae\", \"counts\": 6, \"cumulative_sum\": 162}, {\"ano_coleta\": 2002.0, \"familia\": \"Phyllodactylidae\", \"counts\": 23, \"cumulative_sum\": 185}, {\"ano_coleta\": 2003.0, \"familia\": \"Phyllodactylidae\", \"counts\": 5, \"cumulative_sum\": 190}, {\"ano_coleta\": 2004.0, \"familia\": \"Phyllodactylidae\", \"counts\": 8, \"cumulative_sum\": 198}, {\"ano_coleta\": 2005.0, \"familia\": \"Phyllodactylidae\", \"counts\": 13, \"cumulative_sum\": 211}, {\"ano_coleta\": 2006.0, \"familia\": \"Phyllodactylidae\", \"counts\": 5, \"cumulative_sum\": 216}, {\"ano_coleta\": 2007.0, \"familia\": \"Phyllodactylidae\", \"counts\": 16, \"cumulative_sum\": 232}, {\"ano_coleta\": 2008.0, \"familia\": \"Phyllodactylidae\", \"counts\": 33, \"cumulative_sum\": 265}, {\"ano_coleta\": 2009.0, \"familia\": \"Phyllodactylidae\", \"counts\": 27, \"cumulative_sum\": 292}, {\"ano_coleta\": 2010.0, \"familia\": \"Phyllodactylidae\", \"counts\": 20, \"cumulative_sum\": 312}, {\"ano_coleta\": 2011.0, \"familia\": \"Phyllodactylidae\", \"counts\": 13, \"cumulative_sum\": 325}, {\"ano_coleta\": 2012.0, \"familia\": \"Phyllodactylidae\", \"counts\": 9, \"cumulative_sum\": 334}, {\"ano_coleta\": 2013.0, \"familia\": \"Phyllodactylidae\", \"counts\": 16, \"cumulative_sum\": 350}, {\"ano_coleta\": 2014.0, \"familia\": \"Phyllodactylidae\", \"counts\": 27, \"cumulative_sum\": 377}, {\"ano_coleta\": 2015.0, \"familia\": \"Phyllodactylidae\", \"counts\": 5, \"cumulative_sum\": 382}, {\"ano_coleta\": 2016.0, \"familia\": \"Phyllodactylidae\", \"counts\": 2, \"cumulative_sum\": 384}, {\"ano_coleta\": 1912.0, \"familia\": \"Plethodontidae\", \"counts\": 1, \"cumulative_sum\": 1}, {\"ano_coleta\": 1942.0, \"familia\": \"Podocnemididae\", \"counts\": 1, \"cumulative_sum\": 1}, {\"ano_coleta\": 1949.0, \"familia\": \"Podocnemididae\", \"counts\": 1, \"cumulative_sum\": 2}, {\"ano_coleta\": 1954.0, \"familia\": \"Podocnemididae\", \"counts\": 1, \"cumulative_sum\": 3}, {\"ano_coleta\": 1955.0, \"familia\": \"Podocnemididae\", \"counts\": 1, \"cumulative_sum\": 4}, {\"ano_coleta\": 1967.0, \"familia\": \"Podocnemididae\", \"counts\": 1, \"cumulative_sum\": 5}, {\"ano_coleta\": 1968.0, \"familia\": \"Podocnemididae\", \"counts\": 9, \"cumulative_sum\": 14}, {\"ano_coleta\": 1971.0, \"familia\": \"Podocnemididae\", \"counts\": 1, \"cumulative_sum\": 15}, {\"ano_coleta\": 1974.0, \"familia\": \"Podocnemididae\", \"counts\": 1, \"cumulative_sum\": 16}, {\"ano_coleta\": 1984.0, \"familia\": \"Podocnemididae\", \"counts\": 1, \"cumulative_sum\": 17}, {\"ano_coleta\": 1985.0, \"familia\": \"Podocnemididae\", \"counts\": 2, \"cumulative_sum\": 19}, {\"ano_coleta\": 1986.0, \"familia\": \"Podocnemididae\", \"counts\": 1, \"cumulative_sum\": 20}, {\"ano_coleta\": 1987.0, \"familia\": \"Podocnemididae\", \"counts\": 2, \"cumulative_sum\": 22}, {\"ano_coleta\": 1988.0, \"familia\": \"Podocnemididae\", \"counts\": 173, \"cumulative_sum\": 195}, {\"ano_coleta\": 1995.0, \"familia\": \"Podocnemididae\", \"counts\": 1, \"cumulative_sum\": 196}, {\"ano_coleta\": 1996.0, \"familia\": \"Podocnemididae\", \"counts\": 3, \"cumulative_sum\": 199}, {\"ano_coleta\": 1997.0, \"familia\": \"Podocnemididae\", \"counts\": 1, \"cumulative_sum\": 200}, {\"ano_coleta\": 1998.0, \"familia\": \"Podocnemididae\", \"counts\": 1, \"cumulative_sum\": 201}, {\"ano_coleta\": 2010.0, \"familia\": \"Podocnemididae\", \"counts\": 1, \"cumulative_sum\": 202}, {\"ano_coleta\": 2013.0, \"familia\": \"Podocnemididae\", \"counts\": 2, \"cumulative_sum\": 204}, {\"ano_coleta\": 1932.0, \"familia\": \"Polychrotidae\", \"counts\": 1, \"cumulative_sum\": 1}, {\"ano_coleta\": 1937.0, \"familia\": \"Polychrotidae\", \"counts\": 2, \"cumulative_sum\": 3}, {\"ano_coleta\": 1939.0, \"familia\": \"Polychrotidae\", \"counts\": 5, \"cumulative_sum\": 8}, {\"ano_coleta\": 1940.0, \"familia\": \"Polychrotidae\", \"counts\": 2, \"cumulative_sum\": 10}, {\"ano_coleta\": 1942.0, \"familia\": \"Polychrotidae\", \"counts\": 27, \"cumulative_sum\": 37}, {\"ano_coleta\": 1943.0, \"familia\": \"Polychrotidae\", \"counts\": 4, \"cumulative_sum\": 41}, {\"ano_coleta\": 1944.0, \"familia\": \"Polychrotidae\", \"counts\": 3, \"cumulative_sum\": 44}, {\"ano_coleta\": 1946.0, \"familia\": \"Polychrotidae\", \"counts\": 4, \"cumulative_sum\": 48}, {\"ano_coleta\": 1948.0, \"familia\": \"Polychrotidae\", \"counts\": 1, \"cumulative_sum\": 49}, {\"ano_coleta\": 1950.0, \"familia\": \"Polychrotidae\", \"counts\": 11, \"cumulative_sum\": 60}, {\"ano_coleta\": 1955.0, \"familia\": \"Polychrotidae\", \"counts\": 1, \"cumulative_sum\": 61}, {\"ano_coleta\": 1956.0, \"familia\": \"Polychrotidae\", \"counts\": 1, \"cumulative_sum\": 62}, {\"ano_coleta\": 1958.0, \"familia\": \"Polychrotidae\", \"counts\": 1, \"cumulative_sum\": 63}, {\"ano_coleta\": 1963.0, \"familia\": \"Polychrotidae\", \"counts\": 2, \"cumulative_sum\": 65}, {\"ano_coleta\": 1970.0, \"familia\": \"Polychrotidae\", \"counts\": 1, \"cumulative_sum\": 66}, {\"ano_coleta\": 1972.0, \"familia\": \"Polychrotidae\", \"counts\": 1, \"cumulative_sum\": 67}, {\"ano_coleta\": 1973.0, \"familia\": \"Polychrotidae\", \"counts\": 1, \"cumulative_sum\": 68}, {\"ano_coleta\": 1975.0, \"familia\": \"Polychrotidae\", \"counts\": 3, \"cumulative_sum\": 71}, {\"ano_coleta\": 1977.0, \"familia\": \"Polychrotidae\", \"counts\": 1, \"cumulative_sum\": 72}, {\"ano_coleta\": 1978.0, \"familia\": \"Polychrotidae\", \"counts\": 1, \"cumulative_sum\": 73}, {\"ano_coleta\": 1979.0, \"familia\": \"Polychrotidae\", \"counts\": 1, \"cumulative_sum\": 74}, {\"ano_coleta\": 1980.0, \"familia\": \"Polychrotidae\", \"counts\": 3, \"cumulative_sum\": 77}, {\"ano_coleta\": 1985.0, \"familia\": \"Polychrotidae\", \"counts\": 1, \"cumulative_sum\": 78}, {\"ano_coleta\": 1986.0, \"familia\": \"Polychrotidae\", \"counts\": 5, \"cumulative_sum\": 83}, {\"ano_coleta\": 1987.0, \"familia\": \"Polychrotidae\", \"counts\": 1, \"cumulative_sum\": 84}, {\"ano_coleta\": 1988.0, \"familia\": \"Polychrotidae\", \"counts\": 12, \"cumulative_sum\": 96}, {\"ano_coleta\": 1989.0, \"familia\": \"Polychrotidae\", \"counts\": 2, \"cumulative_sum\": 98}, {\"ano_coleta\": 1990.0, \"familia\": \"Polychrotidae\", \"counts\": 2, \"cumulative_sum\": 100}, {\"ano_coleta\": 1991.0, \"familia\": \"Polychrotidae\", \"counts\": 1, \"cumulative_sum\": 101}, {\"ano_coleta\": 1993.0, \"familia\": \"Polychrotidae\", \"counts\": 3, \"cumulative_sum\": 104}, {\"ano_coleta\": 1994.0, \"familia\": \"Polychrotidae\", \"counts\": 1, \"cumulative_sum\": 105}, {\"ano_coleta\": 1995.0, \"familia\": \"Polychrotidae\", \"counts\": 4, \"cumulative_sum\": 109}, {\"ano_coleta\": 1996.0, \"familia\": \"Polychrotidae\", \"counts\": 3, \"cumulative_sum\": 112}, {\"ano_coleta\": 1997.0, \"familia\": \"Polychrotidae\", \"counts\": 1, \"cumulative_sum\": 113}, {\"ano_coleta\": 1998.0, \"familia\": \"Polychrotidae\", \"counts\": 1, \"cumulative_sum\": 114}, {\"ano_coleta\": 1999.0, \"familia\": \"Polychrotidae\", \"counts\": 6, \"cumulative_sum\": 120}, {\"ano_coleta\": 2000.0, \"familia\": \"Polychrotidae\", \"counts\": 2, \"cumulative_sum\": 122}, {\"ano_coleta\": 2001.0, \"familia\": \"Polychrotidae\", \"counts\": 1, \"cumulative_sum\": 123}, {\"ano_coleta\": 2003.0, \"familia\": \"Polychrotidae\", \"counts\": 1, \"cumulative_sum\": 124}, {\"ano_coleta\": 2005.0, \"familia\": \"Polychrotidae\", \"counts\": 1, \"cumulative_sum\": 125}, {\"ano_coleta\": 2006.0, \"familia\": \"Polychrotidae\", \"counts\": 2, \"cumulative_sum\": 127}, {\"ano_coleta\": 2007.0, \"familia\": \"Polychrotidae\", \"counts\": 4, \"cumulative_sum\": 131}, {\"ano_coleta\": 2008.0, \"familia\": \"Polychrotidae\", \"counts\": 5, \"cumulative_sum\": 136}, {\"ano_coleta\": 2009.0, \"familia\": \"Polychrotidae\", \"counts\": 4, \"cumulative_sum\": 140}, {\"ano_coleta\": 2010.0, \"familia\": \"Polychrotidae\", \"counts\": 6, \"cumulative_sum\": 146}, {\"ano_coleta\": 2011.0, \"familia\": \"Polychrotidae\", \"counts\": 15, \"cumulative_sum\": 161}, {\"ano_coleta\": 2012.0, \"familia\": \"Polychrotidae\", \"counts\": 1, \"cumulative_sum\": 162}, {\"ano_coleta\": 2013.0, \"familia\": \"Polychrotidae\", \"counts\": 3, \"cumulative_sum\": 165}, {\"ano_coleta\": 2015.0, \"familia\": \"Polychrotidae\", \"counts\": 18, \"cumulative_sum\": 183}, {\"ano_coleta\": 2016.0, \"familia\": \"Polychrotidae\", \"counts\": 4, \"cumulative_sum\": 187}, {\"ano_coleta\": 1876.0, \"familia\": \"Scincidae\", \"counts\": 74, \"cumulative_sum\": 74}, {\"ano_coleta\": 1901.0, \"familia\": \"Scincidae\", \"counts\": 1, \"cumulative_sum\": 75}, {\"ano_coleta\": 1903.0, \"familia\": \"Scincidae\", \"counts\": 1, \"cumulative_sum\": 76}, {\"ano_coleta\": 1941.0, \"familia\": \"Scincidae\", \"counts\": 1, \"cumulative_sum\": 77}, {\"ano_coleta\": 1942.0, \"familia\": \"Scincidae\", \"counts\": 1, \"cumulative_sum\": 78}, {\"ano_coleta\": 1943.0, \"familia\": \"Scincidae\", \"counts\": 3, \"cumulative_sum\": 81}, {\"ano_coleta\": 1944.0, \"familia\": \"Scincidae\", \"counts\": 8, \"cumulative_sum\": 89}, {\"ano_coleta\": 1945.0, \"familia\": \"Scincidae\", \"counts\": 1, \"cumulative_sum\": 90}, {\"ano_coleta\": 1946.0, \"familia\": \"Scincidae\", \"counts\": 4, \"cumulative_sum\": 94}, {\"ano_coleta\": 1947.0, \"familia\": \"Scincidae\", \"counts\": 5, \"cumulative_sum\": 99}, {\"ano_coleta\": 1949.0, \"familia\": \"Scincidae\", \"counts\": 2, \"cumulative_sum\": 101}, {\"ano_coleta\": 1952.0, \"familia\": \"Scincidae\", \"counts\": 3, \"cumulative_sum\": 104}, {\"ano_coleta\": 1953.0, \"familia\": \"Scincidae\", \"counts\": 7, \"cumulative_sum\": 111}, {\"ano_coleta\": 1957.0, \"familia\": \"Scincidae\", \"counts\": 2, \"cumulative_sum\": 113}, {\"ano_coleta\": 1958.0, \"familia\": \"Scincidae\", \"counts\": 2, \"cumulative_sum\": 115}, {\"ano_coleta\": 1959.0, \"familia\": \"Scincidae\", \"counts\": 1, \"cumulative_sum\": 116}, {\"ano_coleta\": 1961.0, \"familia\": \"Scincidae\", \"counts\": 1, \"cumulative_sum\": 117}, {\"ano_coleta\": 1963.0, \"familia\": \"Scincidae\", \"counts\": 6, \"cumulative_sum\": 123}, {\"ano_coleta\": 1965.0, \"familia\": \"Scincidae\", \"counts\": 1, \"cumulative_sum\": 124}, {\"ano_coleta\": 1968.0, \"familia\": \"Scincidae\", \"counts\": 2, \"cumulative_sum\": 126}, {\"ano_coleta\": 1970.0, \"familia\": \"Scincidae\", \"counts\": 1, \"cumulative_sum\": 127}, {\"ano_coleta\": 1971.0, \"familia\": \"Scincidae\", \"counts\": 8, \"cumulative_sum\": 135}, {\"ano_coleta\": 1972.0, \"familia\": \"Scincidae\", \"counts\": 3, \"cumulative_sum\": 138}, {\"ano_coleta\": 1973.0, \"familia\": \"Scincidae\", \"counts\": 23, \"cumulative_sum\": 161}, {\"ano_coleta\": 1974.0, \"familia\": \"Scincidae\", \"counts\": 1, \"cumulative_sum\": 162}, {\"ano_coleta\": 1975.0, \"familia\": \"Scincidae\", \"counts\": 1, \"cumulative_sum\": 163}, {\"ano_coleta\": 1980.0, \"familia\": \"Scincidae\", \"counts\": 1, \"cumulative_sum\": 164}, {\"ano_coleta\": 1981.0, \"familia\": \"Scincidae\", \"counts\": 2, \"cumulative_sum\": 166}, {\"ano_coleta\": 1982.0, \"familia\": \"Scincidae\", \"counts\": 2, \"cumulative_sum\": 168}, {\"ano_coleta\": 1984.0, \"familia\": \"Scincidae\", \"counts\": 3, \"cumulative_sum\": 171}, {\"ano_coleta\": 1985.0, \"familia\": \"Scincidae\", \"counts\": 6, \"cumulative_sum\": 177}, {\"ano_coleta\": 1986.0, \"familia\": \"Scincidae\", \"counts\": 7, \"cumulative_sum\": 184}, {\"ano_coleta\": 1987.0, \"familia\": \"Scincidae\", \"counts\": 5, \"cumulative_sum\": 189}, {\"ano_coleta\": 1988.0, \"familia\": \"Scincidae\", \"counts\": 5, \"cumulative_sum\": 194}, {\"ano_coleta\": 1989.0, \"familia\": \"Scincidae\", \"counts\": 17, \"cumulative_sum\": 211}, {\"ano_coleta\": 1990.0, \"familia\": \"Scincidae\", \"counts\": 10, \"cumulative_sum\": 221}, {\"ano_coleta\": 1991.0, \"familia\": \"Scincidae\", \"counts\": 58, \"cumulative_sum\": 279}, {\"ano_coleta\": 1992.0, \"familia\": \"Scincidae\", \"counts\": 28, \"cumulative_sum\": 307}, {\"ano_coleta\": 1993.0, \"familia\": \"Scincidae\", \"counts\": 36, \"cumulative_sum\": 343}, {\"ano_coleta\": 1994.0, \"familia\": \"Scincidae\", \"counts\": 228, \"cumulative_sum\": 571}, {\"ano_coleta\": 1995.0, \"familia\": \"Scincidae\", \"counts\": 26, \"cumulative_sum\": 597}, {\"ano_coleta\": 1996.0, \"familia\": \"Scincidae\", \"counts\": 27, \"cumulative_sum\": 624}, {\"ano_coleta\": 1997.0, \"familia\": \"Scincidae\", \"counts\": 51, \"cumulative_sum\": 675}, {\"ano_coleta\": 1998.0, \"familia\": \"Scincidae\", \"counts\": 73, \"cumulative_sum\": 748}, {\"ano_coleta\": 1999.0, \"familia\": \"Scincidae\", \"counts\": 157, \"cumulative_sum\": 905}, {\"ano_coleta\": 2000.0, \"familia\": \"Scincidae\", \"counts\": 68, \"cumulative_sum\": 973}, {\"ano_coleta\": 2001.0, \"familia\": \"Scincidae\", \"counts\": 17, \"cumulative_sum\": 990}, {\"ano_coleta\": 2002.0, \"familia\": \"Scincidae\", \"counts\": 30, \"cumulative_sum\": 1020}, {\"ano_coleta\": 2003.0, \"familia\": \"Scincidae\", \"counts\": 8, \"cumulative_sum\": 1028}, {\"ano_coleta\": 2004.0, \"familia\": \"Scincidae\", \"counts\": 6, \"cumulative_sum\": 1034}, {\"ano_coleta\": 2005.0, \"familia\": \"Scincidae\", \"counts\": 43, \"cumulative_sum\": 1077}, {\"ano_coleta\": 2006.0, \"familia\": \"Scincidae\", \"counts\": 3, \"cumulative_sum\": 1080}, {\"ano_coleta\": 2007.0, \"familia\": \"Scincidae\", \"counts\": 12, \"cumulative_sum\": 1092}, {\"ano_coleta\": 2008.0, \"familia\": \"Scincidae\", \"counts\": 56, \"cumulative_sum\": 1148}, {\"ano_coleta\": 2009.0, \"familia\": \"Scincidae\", \"counts\": 28, \"cumulative_sum\": 1176}, {\"ano_coleta\": 2010.0, \"familia\": \"Scincidae\", \"counts\": 16, \"cumulative_sum\": 1192}, {\"ano_coleta\": 2011.0, \"familia\": \"Scincidae\", \"counts\": 10, \"cumulative_sum\": 1202}, {\"ano_coleta\": 2012.0, \"familia\": \"Scincidae\", \"counts\": 17, \"cumulative_sum\": 1219}, {\"ano_coleta\": 2013.0, \"familia\": \"Scincidae\", \"counts\": 23, \"cumulative_sum\": 1242}, {\"ano_coleta\": 2014.0, \"familia\": \"Scincidae\", \"counts\": 22, \"cumulative_sum\": 1264}, {\"ano_coleta\": 2015.0, \"familia\": \"Scincidae\", \"counts\": 5, \"cumulative_sum\": 1269}, {\"ano_coleta\": 2016.0, \"familia\": \"Scincidae\", \"counts\": 1, \"cumulative_sum\": 1270}, {\"ano_coleta\": 1935.0, \"familia\": \"Sphaerodactylidae\", \"counts\": 1, \"cumulative_sum\": 1}, {\"ano_coleta\": 1937.0, \"familia\": \"Sphaerodactylidae\", \"counts\": 4, \"cumulative_sum\": 5}, {\"ano_coleta\": 1940.0, \"familia\": \"Sphaerodactylidae\", \"counts\": 6, \"cumulative_sum\": 11}, {\"ano_coleta\": 1942.0, \"familia\": \"Sphaerodactylidae\", \"counts\": 6, \"cumulative_sum\": 17}, {\"ano_coleta\": 1943.0, \"familia\": \"Sphaerodactylidae\", \"counts\": 8, \"cumulative_sum\": 25}, {\"ano_coleta\": 1944.0, \"familia\": \"Sphaerodactylidae\", \"counts\": 43, \"cumulative_sum\": 68}, {\"ano_coleta\": 1950.0, \"familia\": \"Sphaerodactylidae\", \"counts\": 7, \"cumulative_sum\": 75}, {\"ano_coleta\": 1956.0, \"familia\": \"Sphaerodactylidae\", \"counts\": 5, \"cumulative_sum\": 80}, {\"ano_coleta\": 1963.0, \"familia\": \"Sphaerodactylidae\", \"counts\": 1, \"cumulative_sum\": 81}, {\"ano_coleta\": 1967.0, \"familia\": \"Sphaerodactylidae\", \"counts\": 1, \"cumulative_sum\": 82}, {\"ano_coleta\": 1971.0, \"familia\": \"Sphaerodactylidae\", \"counts\": 2, \"cumulative_sum\": 84}, {\"ano_coleta\": 1972.0, \"familia\": \"Sphaerodactylidae\", \"counts\": 1, \"cumulative_sum\": 85}, {\"ano_coleta\": 1973.0, \"familia\": \"Sphaerodactylidae\", \"counts\": 5, \"cumulative_sum\": 90}, {\"ano_coleta\": 1975.0, \"familia\": \"Sphaerodactylidae\", \"counts\": 3, \"cumulative_sum\": 93}, {\"ano_coleta\": 1976.0, \"familia\": \"Sphaerodactylidae\", \"counts\": 1, \"cumulative_sum\": 94}, {\"ano_coleta\": 1979.0, \"familia\": \"Sphaerodactylidae\", \"counts\": 9, \"cumulative_sum\": 103}, {\"ano_coleta\": 1984.0, \"familia\": \"Sphaerodactylidae\", \"counts\": 1, \"cumulative_sum\": 104}, {\"ano_coleta\": 1985.0, \"familia\": \"Sphaerodactylidae\", \"counts\": 9, \"cumulative_sum\": 113}, {\"ano_coleta\": 1987.0, \"familia\": \"Sphaerodactylidae\", \"counts\": 1, \"cumulative_sum\": 114}, {\"ano_coleta\": 1988.0, \"familia\": \"Sphaerodactylidae\", \"counts\": 10, \"cumulative_sum\": 124}, {\"ano_coleta\": 1991.0, \"familia\": \"Sphaerodactylidae\", \"counts\": 3, \"cumulative_sum\": 127}, {\"ano_coleta\": 1992.0, \"familia\": \"Sphaerodactylidae\", \"counts\": 4, \"cumulative_sum\": 131}, {\"ano_coleta\": 1996.0, \"familia\": \"Sphaerodactylidae\", \"counts\": 1, \"cumulative_sum\": 132}, {\"ano_coleta\": 1997.0, \"familia\": \"Sphaerodactylidae\", \"counts\": 1, \"cumulative_sum\": 133}, {\"ano_coleta\": 1998.0, \"familia\": \"Sphaerodactylidae\", \"counts\": 2, \"cumulative_sum\": 135}, {\"ano_coleta\": 1999.0, \"familia\": \"Sphaerodactylidae\", \"counts\": 120, \"cumulative_sum\": 255}, {\"ano_coleta\": 2004.0, \"familia\": \"Sphaerodactylidae\", \"counts\": 3, \"cumulative_sum\": 258}, {\"ano_coleta\": 2006.0, \"familia\": \"Sphaerodactylidae\", \"counts\": 10, \"cumulative_sum\": 268}, {\"ano_coleta\": 2007.0, \"familia\": \"Sphaerodactylidae\", \"counts\": 12, \"cumulative_sum\": 280}, {\"ano_coleta\": 2008.0, \"familia\": \"Sphaerodactylidae\", \"counts\": 23, \"cumulative_sum\": 303}, {\"ano_coleta\": 2009.0, \"familia\": \"Sphaerodactylidae\", \"counts\": 32, \"cumulative_sum\": 335}, {\"ano_coleta\": 2010.0, \"familia\": \"Sphaerodactylidae\", \"counts\": 5, \"cumulative_sum\": 340}, {\"ano_coleta\": 2011.0, \"familia\": \"Sphaerodactylidae\", \"counts\": 13, \"cumulative_sum\": 353}, {\"ano_coleta\": 2012.0, \"familia\": \"Sphaerodactylidae\", \"counts\": 7, \"cumulative_sum\": 360}, {\"ano_coleta\": 2013.0, \"familia\": \"Sphaerodactylidae\", \"counts\": 16, \"cumulative_sum\": 376}, {\"ano_coleta\": 2015.0, \"familia\": \"Sphaerodactylidae\", \"counts\": 7, \"cumulative_sum\": 383}, {\"ano_coleta\": 2016.0, \"familia\": \"Sphaerodactylidae\", \"counts\": 8, \"cumulative_sum\": 391}, {\"ano_coleta\": 0.0, \"familia\": \"Teiidae\", \"counts\": 1, \"cumulative_sum\": 1}, {\"ano_coleta\": 1913.0, \"familia\": \"Teiidae\", \"counts\": 1, \"cumulative_sum\": 2}, {\"ano_coleta\": 1922.0, \"familia\": \"Teiidae\", \"counts\": 2, \"cumulative_sum\": 4}, {\"ano_coleta\": 1931.0, \"familia\": \"Teiidae\", \"counts\": 2, \"cumulative_sum\": 6}, {\"ano_coleta\": 1936.0, \"familia\": \"Teiidae\", \"counts\": 1, \"cumulative_sum\": 7}, {\"ano_coleta\": 1937.0, \"familia\": \"Teiidae\", \"counts\": 18, \"cumulative_sum\": 25}, {\"ano_coleta\": 1939.0, \"familia\": \"Teiidae\", \"counts\": 106, \"cumulative_sum\": 131}, {\"ano_coleta\": 1940.0, \"familia\": \"Teiidae\", \"counts\": 29, \"cumulative_sum\": 160}, {\"ano_coleta\": 1941.0, \"familia\": \"Teiidae\", \"counts\": 3, \"cumulative_sum\": 163}, {\"ano_coleta\": 1942.0, \"familia\": \"Teiidae\", \"counts\": 93, \"cumulative_sum\": 256}, {\"ano_coleta\": 1943.0, \"familia\": \"Teiidae\", \"counts\": 5, \"cumulative_sum\": 261}, {\"ano_coleta\": 1944.0, \"familia\": \"Teiidae\", \"counts\": 11, \"cumulative_sum\": 272}, {\"ano_coleta\": 1945.0, \"familia\": \"Teiidae\", \"counts\": 282, \"cumulative_sum\": 554}, {\"ano_coleta\": 1946.0, \"familia\": \"Teiidae\", \"counts\": 1, \"cumulative_sum\": 555}, {\"ano_coleta\": 1947.0, \"familia\": \"Teiidae\", \"counts\": 4, \"cumulative_sum\": 559}, {\"ano_coleta\": 1948.0, \"familia\": \"Teiidae\", \"counts\": 4, \"cumulative_sum\": 563}, {\"ano_coleta\": 1949.0, \"familia\": \"Teiidae\", \"counts\": 2, \"cumulative_sum\": 565}, {\"ano_coleta\": 1950.0, \"familia\": \"Teiidae\", \"counts\": 4, \"cumulative_sum\": 569}, {\"ano_coleta\": 1951.0, \"familia\": \"Teiidae\", \"counts\": 4, \"cumulative_sum\": 573}, {\"ano_coleta\": 1952.0, \"familia\": \"Teiidae\", \"counts\": 1, \"cumulative_sum\": 574}, {\"ano_coleta\": 1955.0, \"familia\": \"Teiidae\", \"counts\": 5, \"cumulative_sum\": 579}, {\"ano_coleta\": 1956.0, \"familia\": \"Teiidae\", \"counts\": 1, \"cumulative_sum\": 580}, {\"ano_coleta\": 1957.0, \"familia\": \"Teiidae\", \"counts\": 1, \"cumulative_sum\": 581}, {\"ano_coleta\": 1959.0, \"familia\": \"Teiidae\", \"counts\": 1, \"cumulative_sum\": 582}, {\"ano_coleta\": 1960.0, \"familia\": \"Teiidae\", \"counts\": 2, \"cumulative_sum\": 584}, {\"ano_coleta\": 1961.0, \"familia\": \"Teiidae\", \"counts\": 1, \"cumulative_sum\": 585}, {\"ano_coleta\": 1963.0, \"familia\": \"Teiidae\", \"counts\": 3, \"cumulative_sum\": 588}, {\"ano_coleta\": 1964.0, \"familia\": \"Teiidae\", \"counts\": 1, \"cumulative_sum\": 589}, {\"ano_coleta\": 1966.0, \"familia\": \"Teiidae\", \"counts\": 5, \"cumulative_sum\": 594}, {\"ano_coleta\": 1972.0, \"familia\": \"Teiidae\", \"counts\": 8, \"cumulative_sum\": 602}, {\"ano_coleta\": 1973.0, \"familia\": \"Teiidae\", \"counts\": 1, \"cumulative_sum\": 603}, {\"ano_coleta\": 1974.0, \"familia\": \"Teiidae\", \"counts\": 3, \"cumulative_sum\": 606}, {\"ano_coleta\": 1975.0, \"familia\": \"Teiidae\", \"counts\": 5, \"cumulative_sum\": 611}, {\"ano_coleta\": 1976.0, \"familia\": \"Teiidae\", \"counts\": 5, \"cumulative_sum\": 616}, {\"ano_coleta\": 1979.0, \"familia\": \"Teiidae\", \"counts\": 5, \"cumulative_sum\": 621}, {\"ano_coleta\": 1980.0, \"familia\": \"Teiidae\", \"counts\": 2, \"cumulative_sum\": 623}, {\"ano_coleta\": 1981.0, \"familia\": \"Teiidae\", \"counts\": 3, \"cumulative_sum\": 626}, {\"ano_coleta\": 1982.0, \"familia\": \"Teiidae\", \"counts\": 7, \"cumulative_sum\": 633}, {\"ano_coleta\": 1983.0, \"familia\": \"Teiidae\", \"counts\": 1, \"cumulative_sum\": 634}, {\"ano_coleta\": 1984.0, \"familia\": \"Teiidae\", \"counts\": 3, \"cumulative_sum\": 637}, {\"ano_coleta\": 1985.0, \"familia\": \"Teiidae\", \"counts\": 3, \"cumulative_sum\": 640}, {\"ano_coleta\": 1986.0, \"familia\": \"Teiidae\", \"counts\": 10, \"cumulative_sum\": 650}, {\"ano_coleta\": 1987.0, \"familia\": \"Teiidae\", \"counts\": 9, \"cumulative_sum\": 659}, {\"ano_coleta\": 1988.0, \"familia\": \"Teiidae\", \"counts\": 17, \"cumulative_sum\": 676}, {\"ano_coleta\": 1989.0, \"familia\": \"Teiidae\", \"counts\": 49, \"cumulative_sum\": 725}, {\"ano_coleta\": 1990.0, \"familia\": \"Teiidae\", \"counts\": 60, \"cumulative_sum\": 785}, {\"ano_coleta\": 1991.0, \"familia\": \"Teiidae\", \"counts\": 95, \"cumulative_sum\": 880}, {\"ano_coleta\": 1992.0, \"familia\": \"Teiidae\", \"counts\": 25, \"cumulative_sum\": 905}, {\"ano_coleta\": 1993.0, \"familia\": \"Teiidae\", \"counts\": 17, \"cumulative_sum\": 922}, {\"ano_coleta\": 1994.0, \"familia\": \"Teiidae\", \"counts\": 8, \"cumulative_sum\": 930}, {\"ano_coleta\": 1995.0, \"familia\": \"Teiidae\", \"counts\": 42, \"cumulative_sum\": 972}, {\"ano_coleta\": 1996.0, \"familia\": \"Teiidae\", \"counts\": 9, \"cumulative_sum\": 981}, {\"ano_coleta\": 1997.0, \"familia\": \"Teiidae\", \"counts\": 104, \"cumulative_sum\": 1085}, {\"ano_coleta\": 1998.0, \"familia\": \"Teiidae\", \"counts\": 124, \"cumulative_sum\": 1209}, {\"ano_coleta\": 1999.0, \"familia\": \"Teiidae\", \"counts\": 8, \"cumulative_sum\": 1217}, {\"ano_coleta\": 2000.0, \"familia\": \"Teiidae\", \"counts\": 125, \"cumulative_sum\": 1342}, {\"ano_coleta\": 2001.0, \"familia\": \"Teiidae\", \"counts\": 17, \"cumulative_sum\": 1359}, {\"ano_coleta\": 2002.0, \"familia\": \"Teiidae\", \"counts\": 11, \"cumulative_sum\": 1370}, {\"ano_coleta\": 2003.0, \"familia\": \"Teiidae\", \"counts\": 21, \"cumulative_sum\": 1391}, {\"ano_coleta\": 2004.0, \"familia\": \"Teiidae\", \"counts\": 13, \"cumulative_sum\": 1404}, {\"ano_coleta\": 2005.0, \"familia\": \"Teiidae\", \"counts\": 1, \"cumulative_sum\": 1405}, {\"ano_coleta\": 2006.0, \"familia\": \"Teiidae\", \"counts\": 19, \"cumulative_sum\": 1424}, {\"ano_coleta\": 2007.0, \"familia\": \"Teiidae\", \"counts\": 16, \"cumulative_sum\": 1440}, {\"ano_coleta\": 2008.0, \"familia\": \"Teiidae\", \"counts\": 88, \"cumulative_sum\": 1528}, {\"ano_coleta\": 2009.0, \"familia\": \"Teiidae\", \"counts\": 68, \"cumulative_sum\": 1596}, {\"ano_coleta\": 2010.0, \"familia\": \"Teiidae\", \"counts\": 43, \"cumulative_sum\": 1639}, {\"ano_coleta\": 2011.0, \"familia\": \"Teiidae\", \"counts\": 22, \"cumulative_sum\": 1661}, {\"ano_coleta\": 2012.0, \"familia\": \"Teiidae\", \"counts\": 42, \"cumulative_sum\": 1703}, {\"ano_coleta\": 2013.0, \"familia\": \"Teiidae\", \"counts\": 48, \"cumulative_sum\": 1751}, {\"ano_coleta\": 2014.0, \"familia\": \"Teiidae\", \"counts\": 26, \"cumulative_sum\": 1777}, {\"ano_coleta\": 2015.0, \"familia\": \"Teiidae\", \"counts\": 20, \"cumulative_sum\": 1797}, {\"ano_coleta\": 2016.0, \"familia\": \"Teiidae\", \"counts\": 4, \"cumulative_sum\": 1801}, {\"ano_coleta\": 1979.0, \"familia\": \"Testudinidae\", \"counts\": 1, \"cumulative_sum\": 1}, {\"ano_coleta\": 1986.0, \"familia\": \"Testudinidae\", \"counts\": 1, \"cumulative_sum\": 2}, {\"ano_coleta\": 1988.0, \"familia\": \"Testudinidae\", \"counts\": 2, \"cumulative_sum\": 4}, {\"ano_coleta\": 1989.0, \"familia\": \"Testudinidae\", \"counts\": 1, \"cumulative_sum\": 5}, {\"ano_coleta\": 1998.0, \"familia\": \"Testudinidae\", \"counts\": 5, \"cumulative_sum\": 10}, {\"ano_coleta\": 1999.0, \"familia\": \"Testudinidae\", \"counts\": 1, \"cumulative_sum\": 11}, {\"ano_coleta\": 2008.0, \"familia\": \"Testudinidae\", \"counts\": 12, \"cumulative_sum\": 23}, {\"ano_coleta\": 2010.0, \"familia\": \"Testudinidae\", \"counts\": 1, \"cumulative_sum\": 24}, {\"ano_coleta\": 2011.0, \"familia\": \"Testudinidae\", \"counts\": 1, \"cumulative_sum\": 25}, {\"ano_coleta\": 2012.0, \"familia\": \"Testudinidae\", \"counts\": 1, \"cumulative_sum\": 26}, {\"ano_coleta\": 1963.0, \"familia\": \"Trionychidae\", \"counts\": 4, \"cumulative_sum\": 4}, {\"ano_coleta\": 1994.0, \"familia\": \"Tropidophiidae\", \"counts\": 1, \"cumulative_sum\": 1}, {\"ano_coleta\": 2000.0, \"familia\": \"Tropidophiidae\", \"counts\": 1, \"cumulative_sum\": 2}, {\"ano_coleta\": 2015.0, \"familia\": \"Tropidophiidae\", \"counts\": 1, \"cumulative_sum\": 3}, {\"ano_coleta\": 1926.0, \"familia\": \"Tropiduridae\", \"counts\": 1, \"cumulative_sum\": 1}, {\"ano_coleta\": 1933.0, \"familia\": \"Tropiduridae\", \"counts\": 3, \"cumulative_sum\": 4}, {\"ano_coleta\": 1939.0, \"familia\": \"Tropiduridae\", \"counts\": 13, \"cumulative_sum\": 17}, {\"ano_coleta\": 1942.0, \"familia\": \"Tropiduridae\", \"counts\": 55, \"cumulative_sum\": 72}, {\"ano_coleta\": 1943.0, \"familia\": \"Tropiduridae\", \"counts\": 24, \"cumulative_sum\": 96}, {\"ano_coleta\": 1944.0, \"familia\": \"Tropiduridae\", \"counts\": 10, \"cumulative_sum\": 106}, {\"ano_coleta\": 1945.0, \"familia\": \"Tropiduridae\", \"counts\": 67, \"cumulative_sum\": 173}, {\"ano_coleta\": 1946.0, \"familia\": \"Tropiduridae\", \"counts\": 5, \"cumulative_sum\": 178}, {\"ano_coleta\": 1947.0, \"familia\": \"Tropiduridae\", \"counts\": 7, \"cumulative_sum\": 185}, {\"ano_coleta\": 1948.0, \"familia\": \"Tropiduridae\", \"counts\": 18, \"cumulative_sum\": 203}, {\"ano_coleta\": 1949.0, \"familia\": \"Tropiduridae\", \"counts\": 1, \"cumulative_sum\": 204}, {\"ano_coleta\": 1951.0, \"familia\": \"Tropiduridae\", \"counts\": 9, \"cumulative_sum\": 213}, {\"ano_coleta\": 1952.0, \"familia\": \"Tropiduridae\", \"counts\": 13, \"cumulative_sum\": 226}, {\"ano_coleta\": 1953.0, \"familia\": \"Tropiduridae\", \"counts\": 10, \"cumulative_sum\": 236}, {\"ano_coleta\": 1954.0, \"familia\": \"Tropiduridae\", \"counts\": 2, \"cumulative_sum\": 238}, {\"ano_coleta\": 1955.0, \"familia\": \"Tropiduridae\", \"counts\": 2, \"cumulative_sum\": 240}, {\"ano_coleta\": 1956.0, \"familia\": \"Tropiduridae\", \"counts\": 3, \"cumulative_sum\": 243}, {\"ano_coleta\": 1957.0, \"familia\": \"Tropiduridae\", \"counts\": 13, \"cumulative_sum\": 256}, {\"ano_coleta\": 1958.0, \"familia\": \"Tropiduridae\", \"counts\": 6, \"cumulative_sum\": 262}, {\"ano_coleta\": 1959.0, \"familia\": \"Tropiduridae\", \"counts\": 5, \"cumulative_sum\": 267}, {\"ano_coleta\": 1961.0, \"familia\": \"Tropiduridae\", \"counts\": 5, \"cumulative_sum\": 272}, {\"ano_coleta\": 1962.0, \"familia\": \"Tropiduridae\", \"counts\": 4, \"cumulative_sum\": 276}, {\"ano_coleta\": 1963.0, \"familia\": \"Tropiduridae\", \"counts\": 1, \"cumulative_sum\": 277}, {\"ano_coleta\": 1964.0, \"familia\": \"Tropiduridae\", \"counts\": 6, \"cumulative_sum\": 283}, {\"ano_coleta\": 1965.0, \"familia\": \"Tropiduridae\", \"counts\": 3, \"cumulative_sum\": 286}, {\"ano_coleta\": 1967.0, \"familia\": \"Tropiduridae\", \"counts\": 1, \"cumulative_sum\": 287}, {\"ano_coleta\": 1968.0, \"familia\": \"Tropiduridae\", \"counts\": 1, \"cumulative_sum\": 288}, {\"ano_coleta\": 1971.0, \"familia\": \"Tropiduridae\", \"counts\": 15, \"cumulative_sum\": 303}, {\"ano_coleta\": 1973.0, \"familia\": \"Tropiduridae\", \"counts\": 11, \"cumulative_sum\": 314}, {\"ano_coleta\": 1975.0, \"familia\": \"Tropiduridae\", \"counts\": 13, \"cumulative_sum\": 327}, {\"ano_coleta\": 1976.0, \"familia\": \"Tropiduridae\", \"counts\": 2, \"cumulative_sum\": 329}, {\"ano_coleta\": 1977.0, \"familia\": \"Tropiduridae\", \"counts\": 2, \"cumulative_sum\": 331}, {\"ano_coleta\": 1979.0, \"familia\": \"Tropiduridae\", \"counts\": 1, \"cumulative_sum\": 332}, {\"ano_coleta\": 1980.0, \"familia\": \"Tropiduridae\", \"counts\": 1, \"cumulative_sum\": 333}, {\"ano_coleta\": 1981.0, \"familia\": \"Tropiduridae\", \"counts\": 1, \"cumulative_sum\": 334}, {\"ano_coleta\": 1982.0, \"familia\": \"Tropiduridae\", \"counts\": 6, \"cumulative_sum\": 340}, {\"ano_coleta\": 1983.0, \"familia\": \"Tropiduridae\", \"counts\": 2, \"cumulative_sum\": 342}, {\"ano_coleta\": 1984.0, \"familia\": \"Tropiduridae\", \"counts\": 7, \"cumulative_sum\": 349}, {\"ano_coleta\": 1985.0, \"familia\": \"Tropiduridae\", \"counts\": 10, \"cumulative_sum\": 359}, {\"ano_coleta\": 1986.0, \"familia\": \"Tropiduridae\", \"counts\": 139, \"cumulative_sum\": 498}, {\"ano_coleta\": 1987.0, \"familia\": \"Tropiduridae\", \"counts\": 91, \"cumulative_sum\": 589}, {\"ano_coleta\": 1988.0, \"familia\": \"Tropiduridae\", \"counts\": 162, \"cumulative_sum\": 751}, {\"ano_coleta\": 1989.0, \"familia\": \"Tropiduridae\", \"counts\": 139, \"cumulative_sum\": 890}, {\"ano_coleta\": 1990.0, \"familia\": \"Tropiduridae\", \"counts\": 41, \"cumulative_sum\": 931}, {\"ano_coleta\": 1991.0, \"familia\": \"Tropiduridae\", \"counts\": 85, \"cumulative_sum\": 1016}, {\"ano_coleta\": 1992.0, \"familia\": \"Tropiduridae\", \"counts\": 20, \"cumulative_sum\": 1036}, {\"ano_coleta\": 1993.0, \"familia\": \"Tropiduridae\", \"counts\": 17, \"cumulative_sum\": 1053}, {\"ano_coleta\": 1994.0, \"familia\": \"Tropiduridae\", \"counts\": 25, \"cumulative_sum\": 1078}, {\"ano_coleta\": 1995.0, \"familia\": \"Tropiduridae\", \"counts\": 128, \"cumulative_sum\": 1206}, {\"ano_coleta\": 1996.0, \"familia\": \"Tropiduridae\", \"counts\": 94, \"cumulative_sum\": 1300}, {\"ano_coleta\": 1997.0, \"familia\": \"Tropiduridae\", \"counts\": 209, \"cumulative_sum\": 1509}, {\"ano_coleta\": 1998.0, \"familia\": \"Tropiduridae\", \"counts\": 92, \"cumulative_sum\": 1601}, {\"ano_coleta\": 1999.0, \"familia\": \"Tropiduridae\", \"counts\": 84, \"cumulative_sum\": 1685}, {\"ano_coleta\": 2000.0, \"familia\": \"Tropiduridae\", \"counts\": 96, \"cumulative_sum\": 1781}, {\"ano_coleta\": 2001.0, \"familia\": \"Tropiduridae\", \"counts\": 112, \"cumulative_sum\": 1893}, {\"ano_coleta\": 2002.0, \"familia\": \"Tropiduridae\", \"counts\": 302, \"cumulative_sum\": 2195}, {\"ano_coleta\": 2003.0, \"familia\": \"Tropiduridae\", \"counts\": 84, \"cumulative_sum\": 2279}, {\"ano_coleta\": 2004.0, \"familia\": \"Tropiduridae\", \"counts\": 24, \"cumulative_sum\": 2303}, {\"ano_coleta\": 2005.0, \"familia\": \"Tropiduridae\", \"counts\": 130, \"cumulative_sum\": 2433}, {\"ano_coleta\": 2006.0, \"familia\": \"Tropiduridae\", \"counts\": 40, \"cumulative_sum\": 2473}, {\"ano_coleta\": 2007.0, \"familia\": \"Tropiduridae\", \"counts\": 43, \"cumulative_sum\": 2516}, {\"ano_coleta\": 2008.0, \"familia\": \"Tropiduridae\", \"counts\": 144, \"cumulative_sum\": 2660}, {\"ano_coleta\": 2009.0, \"familia\": \"Tropiduridae\", \"counts\": 46, \"cumulative_sum\": 2706}, {\"ano_coleta\": 2010.0, \"familia\": \"Tropiduridae\", \"counts\": 45, \"cumulative_sum\": 2751}, {\"ano_coleta\": 2011.0, \"familia\": \"Tropiduridae\", \"counts\": 46, \"cumulative_sum\": 2797}, {\"ano_coleta\": 2012.0, \"familia\": \"Tropiduridae\", \"counts\": 76, \"cumulative_sum\": 2873}, {\"ano_coleta\": 2013.0, \"familia\": \"Tropiduridae\", \"counts\": 40, \"cumulative_sum\": 2913}, {\"ano_coleta\": 2014.0, \"familia\": \"Tropiduridae\", \"counts\": 25, \"cumulative_sum\": 2938}, {\"ano_coleta\": 2015.0, \"familia\": \"Tropiduridae\", \"counts\": 11, \"cumulative_sum\": 2949}, {\"ano_coleta\": 2016.0, \"familia\": \"Tropiduridae\", \"counts\": 4, \"cumulative_sum\": 2953}, {\"ano_coleta\": 1962.0, \"familia\": \"Typhlopidae\", \"counts\": 1, \"cumulative_sum\": 1}, {\"ano_coleta\": 1963.0, \"familia\": \"Typhlopidae\", \"counts\": 1, \"cumulative_sum\": 2}, {\"ano_coleta\": 1972.0, \"familia\": \"Typhlopidae\", \"counts\": 2, \"cumulative_sum\": 4}, {\"ano_coleta\": 1994.0, \"familia\": \"Typhlopidae\", \"counts\": 4, \"cumulative_sum\": 8}, {\"ano_coleta\": 1995.0, \"familia\": \"Typhlopidae\", \"counts\": 1, \"cumulative_sum\": 9}, {\"ano_coleta\": 1996.0, \"familia\": \"Typhlopidae\", \"counts\": 2, \"cumulative_sum\": 11}, {\"ano_coleta\": 2000.0, \"familia\": \"Typhlopidae\", \"counts\": 1, \"cumulative_sum\": 12}, {\"ano_coleta\": 2001.0, \"familia\": \"Typhlopidae\", \"counts\": 1, \"cumulative_sum\": 13}, {\"ano_coleta\": 2002.0, \"familia\": \"Typhlopidae\", \"counts\": 1, \"cumulative_sum\": 14}, {\"ano_coleta\": 2003.0, \"familia\": \"Typhlopidae\", \"counts\": 2, \"cumulative_sum\": 16}, {\"ano_coleta\": 2004.0, \"familia\": \"Typhlopidae\", \"counts\": 1, \"cumulative_sum\": 17}, {\"ano_coleta\": 2006.0, \"familia\": \"Typhlopidae\", \"counts\": 2, \"cumulative_sum\": 19}, {\"ano_coleta\": 2007.0, \"familia\": \"Typhlopidae\", \"counts\": 6, \"cumulative_sum\": 25}, {\"ano_coleta\": 2008.0, \"familia\": \"Typhlopidae\", \"counts\": 20, \"cumulative_sum\": 45}, {\"ano_coleta\": 2009.0, \"familia\": \"Typhlopidae\", \"counts\": 14, \"cumulative_sum\": 59}, {\"ano_coleta\": 2010.0, \"familia\": \"Typhlopidae\", \"counts\": 16, \"cumulative_sum\": 75}, {\"ano_coleta\": 2011.0, \"familia\": \"Typhlopidae\", \"counts\": 18, \"cumulative_sum\": 93}, {\"ano_coleta\": 2012.0, \"familia\": \"Typhlopidae\", \"counts\": 10, \"cumulative_sum\": 103}, {\"ano_coleta\": 2013.0, \"familia\": \"Typhlopidae\", \"counts\": 8, \"cumulative_sum\": 111}, {\"ano_coleta\": 2014.0, \"familia\": \"Typhlopidae\", \"counts\": 22, \"cumulative_sum\": 133}, {\"ano_coleta\": 2015.0, \"familia\": \"Typhlopidae\", \"counts\": 24, \"cumulative_sum\": 157}, {\"ano_coleta\": 2016.0, \"familia\": \"Typhlopidae\", \"counts\": 1, \"cumulative_sum\": 158}, {\"ano_coleta\": 0.0, \"familia\": \"Viperidae\", \"counts\": 2, \"cumulative_sum\": 2}, {\"ano_coleta\": 1902.0, \"familia\": \"Viperidae\", \"counts\": 1, \"cumulative_sum\": 3}, {\"ano_coleta\": 1907.0, \"familia\": \"Viperidae\", \"counts\": 2, \"cumulative_sum\": 5}, {\"ano_coleta\": 1912.0, \"familia\": \"Viperidae\", \"counts\": 1, \"cumulative_sum\": 6}, {\"ano_coleta\": 1913.0, \"familia\": \"Viperidae\", \"counts\": 1, \"cumulative_sum\": 7}, {\"ano_coleta\": 1924.0, \"familia\": \"Viperidae\", \"counts\": 1, \"cumulative_sum\": 8}, {\"ano_coleta\": 1928.0, \"familia\": \"Viperidae\", \"counts\": 1, \"cumulative_sum\": 9}, {\"ano_coleta\": 1937.0, \"familia\": \"Viperidae\", \"counts\": 1, \"cumulative_sum\": 10}, {\"ano_coleta\": 1939.0, \"familia\": \"Viperidae\", \"counts\": 2, \"cumulative_sum\": 12}, {\"ano_coleta\": 1940.0, \"familia\": \"Viperidae\", \"counts\": 7, \"cumulative_sum\": 19}, {\"ano_coleta\": 1941.0, \"familia\": \"Viperidae\", \"counts\": 3, \"cumulative_sum\": 22}, {\"ano_coleta\": 1942.0, \"familia\": \"Viperidae\", \"counts\": 4, \"cumulative_sum\": 26}, {\"ano_coleta\": 1943.0, \"familia\": \"Viperidae\", \"counts\": 42, \"cumulative_sum\": 68}, {\"ano_coleta\": 1944.0, \"familia\": \"Viperidae\", \"counts\": 1, \"cumulative_sum\": 69}, {\"ano_coleta\": 1945.0, \"familia\": \"Viperidae\", \"counts\": 1, \"cumulative_sum\": 70}, {\"ano_coleta\": 1946.0, \"familia\": \"Viperidae\", \"counts\": 2, \"cumulative_sum\": 72}, {\"ano_coleta\": 1947.0, \"familia\": \"Viperidae\", \"counts\": 2, \"cumulative_sum\": 74}, {\"ano_coleta\": 1948.0, \"familia\": \"Viperidae\", \"counts\": 3, \"cumulative_sum\": 77}, {\"ano_coleta\": 1951.0, \"familia\": \"Viperidae\", \"counts\": 1, \"cumulative_sum\": 78}, {\"ano_coleta\": 1952.0, \"familia\": \"Viperidae\", \"counts\": 1, \"cumulative_sum\": 79}, {\"ano_coleta\": 1954.0, \"familia\": \"Viperidae\", \"counts\": 1, \"cumulative_sum\": 80}, {\"ano_coleta\": 1955.0, \"familia\": \"Viperidae\", \"counts\": 1, \"cumulative_sum\": 81}, {\"ano_coleta\": 1956.0, \"familia\": \"Viperidae\", \"counts\": 7, \"cumulative_sum\": 88}, {\"ano_coleta\": 1957.0, \"familia\": \"Viperidae\", \"counts\": 4, \"cumulative_sum\": 92}, {\"ano_coleta\": 1958.0, \"familia\": \"Viperidae\", \"counts\": 2, \"cumulative_sum\": 94}, {\"ano_coleta\": 1959.0, \"familia\": \"Viperidae\", \"counts\": 2, \"cumulative_sum\": 96}, {\"ano_coleta\": 1960.0, \"familia\": \"Viperidae\", \"counts\": 2, \"cumulative_sum\": 98}, {\"ano_coleta\": 1963.0, \"familia\": \"Viperidae\", \"counts\": 3, \"cumulative_sum\": 101}, {\"ano_coleta\": 1964.0, \"familia\": \"Viperidae\", \"counts\": 3, \"cumulative_sum\": 104}, {\"ano_coleta\": 1965.0, \"familia\": \"Viperidae\", \"counts\": 4, \"cumulative_sum\": 108}, {\"ano_coleta\": 1966.0, \"familia\": \"Viperidae\", \"counts\": 1, \"cumulative_sum\": 109}, {\"ano_coleta\": 1968.0, \"familia\": \"Viperidae\", \"counts\": 3, \"cumulative_sum\": 112}, {\"ano_coleta\": 1969.0, \"familia\": \"Viperidae\", \"counts\": 1, \"cumulative_sum\": 113}, {\"ano_coleta\": 1972.0, \"familia\": \"Viperidae\", \"counts\": 1, \"cumulative_sum\": 114}, {\"ano_coleta\": 1973.0, \"familia\": \"Viperidae\", \"counts\": 1, \"cumulative_sum\": 115}, {\"ano_coleta\": 1974.0, \"familia\": \"Viperidae\", \"counts\": 1, \"cumulative_sum\": 116}, {\"ano_coleta\": 1975.0, \"familia\": \"Viperidae\", \"counts\": 7, \"cumulative_sum\": 123}, {\"ano_coleta\": 1977.0, \"familia\": \"Viperidae\", \"counts\": 1, \"cumulative_sum\": 124}, {\"ano_coleta\": 1978.0, \"familia\": \"Viperidae\", \"counts\": 6, \"cumulative_sum\": 130}, {\"ano_coleta\": 1979.0, \"familia\": \"Viperidae\", \"counts\": 4, \"cumulative_sum\": 134}, {\"ano_coleta\": 1980.0, \"familia\": \"Viperidae\", \"counts\": 4, \"cumulative_sum\": 138}, {\"ano_coleta\": 1981.0, \"familia\": \"Viperidae\", \"counts\": 3, \"cumulative_sum\": 141}, {\"ano_coleta\": 1982.0, \"familia\": \"Viperidae\", \"counts\": 2, \"cumulative_sum\": 143}, {\"ano_coleta\": 1983.0, \"familia\": \"Viperidae\", \"counts\": 4, \"cumulative_sum\": 147}, {\"ano_coleta\": 1984.0, \"familia\": \"Viperidae\", \"counts\": 9, \"cumulative_sum\": 156}, {\"ano_coleta\": 1985.0, \"familia\": \"Viperidae\", \"counts\": 11, \"cumulative_sum\": 167}, {\"ano_coleta\": 1986.0, \"familia\": \"Viperidae\", \"counts\": 29, \"cumulative_sum\": 196}, {\"ano_coleta\": 1987.0, \"familia\": \"Viperidae\", \"counts\": 46, \"cumulative_sum\": 242}, {\"ano_coleta\": 1988.0, \"familia\": \"Viperidae\", \"counts\": 15, \"cumulative_sum\": 257}, {\"ano_coleta\": 1989.0, \"familia\": \"Viperidae\", \"counts\": 21, \"cumulative_sum\": 278}, {\"ano_coleta\": 1990.0, \"familia\": \"Viperidae\", \"counts\": 32, \"cumulative_sum\": 310}, {\"ano_coleta\": 1991.0, \"familia\": \"Viperidae\", \"counts\": 54, \"cumulative_sum\": 364}, {\"ano_coleta\": 1992.0, \"familia\": \"Viperidae\", \"counts\": 67, \"cumulative_sum\": 431}, {\"ano_coleta\": 1993.0, \"familia\": \"Viperidae\", \"counts\": 75, \"cumulative_sum\": 506}, {\"ano_coleta\": 1994.0, \"familia\": \"Viperidae\", \"counts\": 52, \"cumulative_sum\": 558}, {\"ano_coleta\": 1995.0, \"familia\": \"Viperidae\", \"counts\": 10, \"cumulative_sum\": 568}, {\"ano_coleta\": 1996.0, \"familia\": \"Viperidae\", \"counts\": 16, \"cumulative_sum\": 584}, {\"ano_coleta\": 1997.0, \"familia\": \"Viperidae\", \"counts\": 9, \"cumulative_sum\": 593}, {\"ano_coleta\": 1998.0, \"familia\": \"Viperidae\", \"counts\": 16, \"cumulative_sum\": 609}, {\"ano_coleta\": 1999.0, \"familia\": \"Viperidae\", \"counts\": 58, \"cumulative_sum\": 667}, {\"ano_coleta\": 2000.0, \"familia\": \"Viperidae\", \"counts\": 8, \"cumulative_sum\": 675}, {\"ano_coleta\": 2001.0, \"familia\": \"Viperidae\", \"counts\": 16, \"cumulative_sum\": 691}, {\"ano_coleta\": 2002.0, \"familia\": \"Viperidae\", \"counts\": 7, \"cumulative_sum\": 698}, {\"ano_coleta\": 2003.0, \"familia\": \"Viperidae\", \"counts\": 31, \"cumulative_sum\": 729}, {\"ano_coleta\": 2004.0, \"familia\": \"Viperidae\", \"counts\": 27, \"cumulative_sum\": 756}, {\"ano_coleta\": 2005.0, \"familia\": \"Viperidae\", \"counts\": 29, \"cumulative_sum\": 785}, {\"ano_coleta\": 2006.0, \"familia\": \"Viperidae\", \"counts\": 67, \"cumulative_sum\": 852}, {\"ano_coleta\": 2007.0, \"familia\": \"Viperidae\", \"counts\": 68, \"cumulative_sum\": 920}, {\"ano_coleta\": 2008.0, \"familia\": \"Viperidae\", \"counts\": 78, \"cumulative_sum\": 998}, {\"ano_coleta\": 2009.0, \"familia\": \"Viperidae\", \"counts\": 89, \"cumulative_sum\": 1087}, {\"ano_coleta\": 2010.0, \"familia\": \"Viperidae\", \"counts\": 79, \"cumulative_sum\": 1166}, {\"ano_coleta\": 2011.0, \"familia\": \"Viperidae\", \"counts\": 53, \"cumulative_sum\": 1219}, {\"ano_coleta\": 2012.0, \"familia\": \"Viperidae\", \"counts\": 58, \"cumulative_sum\": 1277}, {\"ano_coleta\": 2013.0, \"familia\": \"Viperidae\", \"counts\": 42, \"cumulative_sum\": 1319}, {\"ano_coleta\": 2014.0, \"familia\": \"Viperidae\", \"counts\": 34, \"cumulative_sum\": 1353}, {\"ano_coleta\": 2015.0, \"familia\": \"Viperidae\", \"counts\": 23, \"cumulative_sum\": 1376}, {\"ano_coleta\": 2016.0, \"familia\": \"Viperidae\", \"counts\": 13, \"cumulative_sum\": 1389}, {\"ano_coleta\": 1937.0, \"familia\": \"Xantusiidae\", \"counts\": 1, \"cumulative_sum\": 1}]}}, {\"mode\": \"vega-lite\"});\n",
       "</script>"
      ],
      "text/plain": [
       "alt.Chart(...)"
      ]
     },
     "execution_count": 26,
     "metadata": {},
     "output_type": "execute_result"
    }
   ],
   "source": [
    "# filtering out some families lost while grouping\n",
    "familias = [f for f in cores_familia.keys() if f in teste['familia'].unique()]\n",
    "cores_temp = [cores_familia[f] for f in familias] \n",
    "\n",
    "\n",
    "# selector\n",
    "select_family = alt.selection_multi(fields=['familia'], bind='legend')\n",
    "\n",
    "g1 = alt.Chart(teste, title='Quantidade de exemplares por família', \n",
    "               width=600, height=400).mark_line(point=True).encode(\n",
    "    x= alt.X('ano_coleta', type=\"ordinal\", title='Ano de Coleta'),\n",
    "    y= alt.Y('cumulative_sum', title='', \n",
    "             sort=alt.EncodingSortField('counts', op=\"count\", order='descending')),\n",
    "    color= alt.Color('familia:N', title='Familia',\n",
    "                     legend= alt.Legend(columns=2, symbolLimit=50),\n",
    "                     scale=alt.Scale(domain=familias, range= cores_temp)),\n",
    "    tooltip= alt.Tooltip(['familia','ano_coleta','counts', 'cumulative_sum']),\n",
    "    opacity= alt.condition(select_family, alt.value(1), alt.value(0))\n",
    ").add_selection(select_family)\n",
    "\n",
    "g1 = g1.configure_title(fontSize=16).configure_axis(\n",
    "    labelFontSize=12,\n",
    "    titleFontSize=12\n",
    ").configure_legend(\n",
    "    labelFontSize=12,\n",
    "    titleFontSize=12\n",
    ")\n",
    "\n",
    "g1.save('./graphs/cumCounts/time-spacial/evolucao_por_familia.html')\n",
    "\n",
    "g1"
   ]
  },
  {
   "cell_type": "markdown",
   "metadata": {},
   "source": [
    "<br>\n",
    "\n",
    "### Chart: per determination year"
   ]
  },
  {
   "cell_type": "code",
   "execution_count": 27,
   "metadata": {
    "ExecuteTime": {
     "end_time": "2021-01-06T22:13:21.748067Z",
     "start_time": "2021-01-06T22:13:21.694357Z"
    }
   },
   "outputs": [],
   "source": [
    "# grouping per Year and Family\n",
    "teste = NewTable.groupby(['ano_determinacao','familia']).count()['class'].reset_index().rename(columns={\n",
    "    'class':'counts'\n",
    "})\n",
    "\n",
    "# sorting...\n",
    "teste = teste.sort_values(['familia', 'ano_determinacao'])"
   ]
  },
  {
   "cell_type": "code",
   "execution_count": 28,
   "metadata": {
    "ExecuteTime": {
     "end_time": "2021-01-06T22:13:23.346400Z",
     "start_time": "2021-01-06T22:13:23.303962Z"
    }
   },
   "outputs": [],
   "source": [
    "# cumulatively counting\n",
    "cumSum = []\n",
    "for family in teste['familia'].unique():\n",
    "    cumSum.extend(list(teste[teste['familia'] == family]['counts'].cumsum()))\n",
    "    \n",
    "teste['cumulative_sum'] = cumSum"
   ]
  },
  {
   "cell_type": "code",
   "execution_count": 31,
   "metadata": {
    "ExecuteTime": {
     "end_time": "2021-01-06T22:15:20.390621Z",
     "start_time": "2021-01-06T22:15:20.341850Z"
    }
   },
   "outputs": [],
   "source": [
    "# filtering out some families lost while grouping\n",
    "familias = [f for f in cores_familia.keys() if f in teste['familia'].unique()]\n",
    "cores_temp = [cores_familia[f] for f in familias] \n",
    "\n",
    "\n",
    "# selector\n",
    "select_family = alt.selection_multi(fields=['familia'], bind='legend')\n",
    "\n",
    "g1 = alt.Chart(teste, title='Quantidade de exemplares por família', \n",
    "               width=600, height=400).mark_line(point=True).encode(\n",
    "    x= alt.X('ano_determinacao', type=\"ordinal\", title='Ano de Determinação'),\n",
    "    y= alt.Y('cumulative_sum', title='', \n",
    "             sort=alt.EncodingSortField('counts', op=\"count\", order='descending')),\n",
    "    color= alt.Color('familia:N', title='Família',\n",
    "                     legend= alt.Legend(columns=2, symbolLimit=50),\n",
    "                     scale=alt.Scale(domain=familias, range= cores_temp)),\n",
    "    tooltip= alt.Tooltip(['familia','ano_determinacao','counts', 'cumulative_sum']),\n",
    "    opacity= alt.condition(select_family, alt.value(1), alt.value(0))\n",
    ").add_selection(select_family)\n",
    "\n",
    "g1 = g1.configure_title(fontSize=16).configure_axis(\n",
    "    labelFontSize=12,\n",
    "    titleFontSize=12\n",
    ").configure_legend(\n",
    "    labelFontSize=12,\n",
    "    titleFontSize=12\n",
    ")\n",
    "\n",
    "g1.save('./graphs/cumCounts/time-spacial/evolucao_por_familia-ANO-DETERMINACAO.html')\n",
    "\n",
    "# g1"
   ]
  },
  {
   "cell_type": "markdown",
   "metadata": {},
   "source": [
    "<br>\n",
    "\n",
    "**The end!**\n",
    "\n",
    "-----"
   ]
  }
 ],
 "metadata": {
  "kernelspec": {
   "display_name": "Python 3",
   "language": "python",
   "name": "python3"
  },
  "language_info": {
   "codemirror_mode": {
    "name": "ipython",
    "version": 3
   },
   "file_extension": ".py",
   "mimetype": "text/x-python",
   "name": "python",
   "nbconvert_exporter": "python",
   "pygments_lexer": "ipython3",
   "version": "3.9.1"
  },
  "latex_envs": {
   "LaTeX_envs_menu_present": true,
   "autoclose": false,
   "autocomplete": true,
   "bibliofile": "biblio.bib",
   "cite_by": "apalike",
   "current_citInitial": 1,
   "eqLabelWithNumbers": true,
   "eqNumInitial": 1,
   "hotkeys": {
    "equation": "Ctrl-E",
    "itemize": "Ctrl-I"
   },
   "labels_anchors": false,
   "latex_user_defs": false,
   "report_style_numbering": false,
   "user_envs_cfg": false
  },
  "toc": {
   "base_numbering": 1,
   "nav_menu": {},
   "number_sections": false,
   "sideBar": true,
   "skip_h1_title": false,
   "title_cell": "Table of Contents",
   "title_sidebar": "Contents",
   "toc_cell": false,
   "toc_position": {},
   "toc_section_display": true,
   "toc_window_display": false
  },
  "varInspector": {
   "cols": {
    "lenName": 16,
    "lenType": 16,
    "lenVar": 40
   },
   "kernels_config": {
    "python": {
     "delete_cmd_postfix": "",
     "delete_cmd_prefix": "del ",
     "library": "var_list.py",
     "varRefreshCmd": "print(var_dic_list())"
    },
    "r": {
     "delete_cmd_postfix": ") ",
     "delete_cmd_prefix": "rm(",
     "library": "var_list.r",
     "varRefreshCmd": "cat(var_dic_list()) "
    }
   },
   "position": {
    "height": "391.35px",
    "left": "900.5px",
    "right": "20px",
    "top": "96px",
    "width": "536.5px"
   },
   "types_to_exclude": [
    "module",
    "function",
    "builtin_function_or_method",
    "instance",
    "_Feature"
   ],
   "window_display": false
  }
 },
 "nbformat": 4,
 "nbformat_minor": 2
}
