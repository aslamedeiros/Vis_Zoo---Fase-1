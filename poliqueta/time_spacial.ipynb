{
 "cells": [
  {
   "cell_type": "markdown",
   "metadata": {},
   "source": [
    "# Time-Spacial Exploration\n",
    "\n",
    "By **Franklin Oliveira**\n",
    "\n",
    "-----\n",
    "This notebook contains all code necessary to make charts from `poliqueta` database with focus on time and space exploration. Here you'll find some basic data treatment and charts' code. \n",
    "\n",
    "Database: <font color='blue'>'IBUFRJ27.07.2020 - visualização.xlsx'</font>\n",
    "    "
   ]
  },
  {
   "cell_type": "code",
   "execution_count": 1,
   "metadata": {
    "ExecuteTime": {
     "end_time": "2021-02-16T04:42:34.695287Z",
     "start_time": "2021-02-16T04:42:33.522473Z"
    }
   },
   "outputs": [
    {
     "data": {
      "text/plain": [
       "DataTransformerRegistry.enable('default')"
      ]
     },
     "execution_count": 1,
     "metadata": {},
     "output_type": "execute_result"
    }
   ],
   "source": [
    "import datetime\n",
    "import numpy as np\n",
    "import pandas as pd\n",
    "\n",
    "from collections import defaultdict\n",
    "\n",
    "# quick visualization\n",
    "import matplotlib.pyplot as plt\n",
    "import seaborn as sns\n",
    "\n",
    "# Waffle Charts\n",
    "# from pywaffle import Waffle \n",
    "# docs: https://pywaffle.readthedocs.io/en/latest/examples/block_shape_distance_location_and_direction.html\n",
    "\n",
    "# visualization\n",
    "import altair as alt\n",
    "\n",
    "# enabling notebook renderer\n",
    "# alt.renderers.enable('notebook')\n",
    "alt.renderers.enable('default')\n",
    "\n",
    "# disabling rows limit\n",
    "alt.data_transformers.disable_max_rows()"
   ]
  },
  {
   "cell_type": "markdown",
   "metadata": {},
   "source": [
    "## Importing data..."
   ]
  },
  {
   "cell_type": "code",
   "execution_count": 2,
   "metadata": {
    "ExecuteTime": {
     "end_time": "2021-02-16T04:42:34.765473Z",
     "start_time": "2021-02-16T04:42:34.699230Z"
    }
   },
   "outputs": [],
   "source": [
    "NewTable = pd.read_csv('./data/merged_db.csv', sep=';', encoding='utf-8-sig', low_memory=False)"
   ]
  },
  {
   "cell_type": "code",
   "execution_count": 3,
   "metadata": {
    "ExecuteTime": {
     "end_time": "2021-02-16T04:42:34.781444Z",
     "start_time": "2021-02-16T04:42:34.767936Z"
    }
   },
   "outputs": [],
   "source": [
    "NewTable['genus'] = NewTable['genus'].str.capitalize()\n",
    "NewTable['family'] = NewTable['family'].astype(str)\n",
    "NewTable['type'] = NewTable['type'].astype(str)\n",
    "\n",
    "\n",
    "# formatando string NaN\n",
    "NewTable['family'] = NewTable['family'].apply(lambda x: 'NaN' if x=='Nan' else x)"
   ]
  },
  {
   "cell_type": "markdown",
   "metadata": {},
   "source": [
    "<br>\n",
    "\n",
    "<font size=5>**Color Palette**</font>\n"
   ]
  },
  {
   "cell_type": "code",
   "execution_count": 4,
   "metadata": {
    "ExecuteTime": {
     "end_time": "2021-02-16T04:42:34.950480Z",
     "start_time": "2021-02-16T04:42:34.783017Z"
    }
   },
   "outputs": [],
   "source": [
    "# importing customized color palettes\n",
    "from src.MNViz_colors import *"
   ]
  },
  {
   "cell_type": "markdown",
   "metadata": {},
   "source": [
    "<br>\n",
    "\n",
    "## Graph: Exploring time-spacial evolution of the database"
   ]
  },
  {
   "cell_type": "markdown",
   "metadata": {},
   "source": [
    "### Chart 1: Evolution per time and continent"
   ]
  },
  {
   "cell_type": "code",
   "execution_count": 5,
   "metadata": {
    "ExecuteTime": {
     "end_time": "2021-02-16T04:42:35.026221Z",
     "start_time": "2021-02-16T04:42:34.954329Z"
    }
   },
   "outputs": [],
   "source": [
    "# agrupando por Ano e Continente\n",
    "teste = NewTable.groupby(['start_year','continent', 'family']).count()['class'].reset_index().rename(columns={\n",
    "    'class':'counts'\n",
    "})"
   ]
  },
  {
   "cell_type": "code",
   "execution_count": 6,
   "metadata": {
    "ExecuteTime": {
     "end_time": "2021-02-16T04:42:35.067697Z",
     "start_time": "2021-02-16T04:42:35.027846Z"
    }
   },
   "outputs": [],
   "source": [
    "# selector\n",
    "select_family = alt.selection_multi(fields=['family'], bind='legend')\n",
    "\n",
    "# database\n",
    "db = teste\n",
    "\n",
    "# auxiliar variables for encoding fields\n",
    "x_labels = db.sort_values('start_year')['start_year'].unique()\n",
    "temp = db.groupby('continent').sum().reset_index().sort_values('counts')\n",
    "y_labels = temp['continent'].unique()[::-1]\n",
    "counts = db['counts'].unique()\n",
    "counts = list(range(min(counts), max(counts), 20))\n",
    "\n",
    "g1 = alt.Chart(teste, title='Temporal evolution per continent', height=200, width=800).mark_circle().encode(\n",
    "    x= alt.X('start_year', type=\"ordinal\", title='Sampling Year',\n",
    "             scale= alt.Scale(domain= x_labels)),\n",
    "    y= alt.Y('continent', title='Continent', \n",
    "             sort=alt.EncodingSortField('counts', op=\"sum\", order='descending'),\n",
    "             scale= alt.Scale(domain= y_labels)), \n",
    "    size=alt.Size('counts', title='Counts',\n",
    "                  scale= alt.Scale(domain= counts, range=[20,120]),\n",
    "                  legend= alt.Legend(orient='bottom', direction='horizontal')), \n",
    "    order= alt.Order('counts', sort='descending'),  # smaller points in front\n",
    "#     color= alt.Color('ordem', scale=alt.Scale(domain=ordens, range=cores)),  # old palette per order\n",
    "    color= alt.Color('family:N',title= 'Family', \n",
    "                    legend= alt.Legend(columns=5, symbolLimit= 102, orient='bottom', direction='horizontal'),\n",
    "                    scale= alt.Scale(domain= list(cores_familia.keys()), \n",
    "                                     range= list(cores_familia.values()))),\n",
    "    tooltip= alt.Tooltip(['continent','start_year','family','counts'])\n",
    ").add_selection(select_family).transform_filter(select_family)\n",
    "\n",
    "g1 = g1.configure_title(fontSize=16).configure_axis(\n",
    "    labelFontSize=12,\n",
    "    titleFontSize=12\n",
    ").configure_legend(\n",
    "    labelFontSize=12,\n",
    "    titleFontSize=12\n",
    ")\n",
    "\n",
    "# g1.save('./graphs/time-spacial/temporal_evolution_per_continent-wFamilies.html')\n",
    "# g1"
   ]
  },
  {
   "cell_type": "markdown",
   "metadata": {},
   "source": [
    "<br>\n",
    "\n",
    "### Chart 2: Evolution per time and country"
   ]
  },
  {
   "cell_type": "code",
   "execution_count": 7,
   "metadata": {
    "ExecuteTime": {
     "end_time": "2021-02-16T04:42:35.164275Z",
     "start_time": "2021-02-16T04:42:35.069245Z"
    }
   },
   "outputs": [],
   "source": [
    "# agrupando por Ano e Continente\n",
    "teste1 = NewTable.groupby(['start_year','country', 'family']).count()['class'].reset_index().rename(columns={\n",
    "    'class':'counts'\n",
    "})"
   ]
  },
  {
   "cell_type": "code",
   "execution_count": 8,
   "metadata": {
    "ExecuteTime": {
     "end_time": "2021-02-16T04:42:35.201334Z",
     "start_time": "2021-02-16T04:42:35.167333Z"
    }
   },
   "outputs": [],
   "source": [
    "# selector\n",
    "select_family = alt.selection_multi(fields=['family'], bind='legend')\n",
    "\n",
    "# filtering database (removing Brazil)\n",
    "db = teste1[teste1['country'] != 'Brasil']\n",
    "\n",
    "# auxiliar variables for encoding fields\n",
    "x_labels = db.sort_values('start_year')['start_year'].unique()\n",
    "y_labels = db['country'].unique()\n",
    "temp = db['counts'].unique()\n",
    "counts = [temp.min(), temp.max()]\n",
    "\n",
    "g1 = alt.Chart(db, title='Collected specimens per year in other countries', height=500,\n",
    "              width=800).mark_circle().encode(\n",
    "    x= alt.X('start_year', type=\"ordinal\", title='Sampling Year',\n",
    "            scale= alt.Scale(domain=x_labels)),\n",
    "    y= alt.Y('country', title='Country', \n",
    "             scale= alt.Scale(domain=y_labels),\n",
    "             sort=alt.EncodingSortField('counts', op=\"sum\", order='descending')), \n",
    "    size=alt.Size('counts', title='Counts',\n",
    "                  scale= alt.Scale(domain=counts, range=[20,250]),\n",
    "                  legend= alt.Legend(orient='right', direction='horizontal')), \n",
    "    order= alt.Order('counts', sort='descending'),  # smaller points in front\n",
    "#     color= alt.Color('ordem', scale=alt.Scale(domain=ordens, range=cores)),  # old palette per order\n",
    "    color= alt.Color('family:N', title='Family', \n",
    "                    legend= alt.Legend(columns=3, symbolLimit=102, orient='right'), \n",
    "                    scale= alt.Scale(domain= list(cores_familia.keys()), \n",
    "                                     range= list(cores_familia.values()))),\n",
    "    tooltip= alt.Tooltip(['country','start_year','family','counts'])\n",
    ").add_selection(select_family).transform_filter(select_family)\n",
    "\n",
    "g1 = g1.configure_title(fontSize=16).configure_axis(\n",
    "    labelFontSize=12,\n",
    "    titleFontSize=12\n",
    ").configure_legend(\n",
    "    labelFontSize=12,\n",
    "    titleFontSize=12\n",
    ")\n",
    "\n",
    "# g1.save('./graphs/time-spacial/temporal_evolution_per_country.html')\n",
    "# g1"
   ]
  },
  {
   "cell_type": "markdown",
   "metadata": {},
   "source": [
    "<br>\n",
    "\n",
    "### Chart 3: Evolution per time and brazilian states"
   ]
  },
  {
   "cell_type": "code",
   "execution_count": 9,
   "metadata": {
    "ExecuteTime": {
     "end_time": "2021-02-16T04:42:35.256083Z",
     "start_time": "2021-02-16T04:42:35.203621Z"
    }
   },
   "outputs": [],
   "source": [
    "# agrupando por Ano e Continente\n",
    "teste2 = NewTable[NewTable['country'] == 'Brazil']\n",
    "teste2 = teste2.groupby(['start_year','state', 'family']).count()['class'].reset_index().rename(columns={\n",
    "    'class':'counts'\n",
    "})"
   ]
  },
  {
   "cell_type": "markdown",
   "metadata": {},
   "source": [
    "#### creating column with brazilian regions"
   ]
  },
  {
   "cell_type": "code",
   "execution_count": 10,
   "metadata": {
    "ExecuteTime": {
     "end_time": "2021-02-16T04:42:35.314681Z",
     "start_time": "2021-02-16T04:42:35.257760Z"
    }
   },
   "outputs": [],
   "source": [
    "regioes = {\n",
    "    'Rio de Janeiro':'SE',\n",
    "    'São Paulo':'SE',\n",
    "    'Espírito Santo': 'SE',\n",
    "    'Pernambuco':'NE',\n",
    "    'Santa Catarina':'S',\n",
    "    'Amazonas':'N',\n",
    "    'Goiás':'CO',\n",
    "    'Roraima':'N',\n",
    "    'Pará':'N',\n",
    "    'Mato Grosso':'CO',\n",
    "    'Acre': 'N',\n",
    "    'Bahia': 'NE',\n",
    "    'Minas Gerais': 'SE',\n",
    "    'Mato Grosso do Sul': 'CO',\n",
    "    'Paraná': 'S',\n",
    "    'Rondônia': 'N',\n",
    "    'Ceará': 'NE',\n",
    "    'Maranhão': 'N',\n",
    "    'Rio Grande do Sul': 'S',\n",
    "    'Paraíba': 'NE',\n",
    "    'Distrito Federal': 'CO',\n",
    "    'Alagoas': 'NE',\n",
    "    'Amapá':'N',\n",
    "    'Piauí': 'NE',\n",
    "    'Brasília': 'CO',\n",
    "    'Tocantins': 'N',\n",
    "    'Rio Grande do Norte': 'NE',\n",
    "    'Sergipe': 'NE',\n",
    "    'Minas Gerais/Goiás/Distrito Federal': 'CO',\n",
    "    'Santa Catarina-Rio Grande do Sul': 'S'\n",
    "}\n",
    "\n",
    "# criando coluna com as regiões\n",
    "teste2['regiao'] = teste2['state'].apply(lambda x: regioes[str(x)])\n",
    "\n",
    "# coluna com estado, regiao\n",
    "teste2['regiao_e_estado'] = teste2['state'] + ', ' + teste2['regiao']\n",
    "\n",
    "# ordenando por região e soma das contagens\n",
    "sorting = teste2.groupby(['regiao_e_estado', 'regiao']).sum()['counts'].reset_index(\n",
    "                                                                ).rename(columns={'counts':'soma'})\n",
    "sorting = sorting.sort_values(['regiao','soma'], ascending=False)['regiao_e_estado'].unique()"
   ]
  },
  {
   "cell_type": "code",
   "execution_count": 11,
   "metadata": {
    "ExecuteTime": {
     "end_time": "2021-02-16T04:42:35.348546Z",
     "start_time": "2021-02-16T04:42:35.316882Z"
    }
   },
   "outputs": [],
   "source": [
    "# selector\n",
    "select_family = alt.selection_multi(fields=['family'], bind='legend')\n",
    "\n",
    "# filtering database (removing Brazil)\n",
    "db = teste2\n",
    "\n",
    "# auxiliar variables for encoding fields\n",
    "x_labels = db.sort_values('start_year')['start_year'].unique()\n",
    "y_labels = sorting\n",
    "counts = db['counts'].unique()\n",
    "counts = list(range(min(counts), max(counts), 20))\n",
    "\n",
    "g1 = alt.Chart(db, title='Total of collected decapoda per year in Brazilian States',\n",
    "               width=800 ).mark_circle(opacity=0.8).encode(\n",
    "    x= alt.X('start_year', type=\"ordinal\", title='Sampling Year',\n",
    "            scale= alt.Scale(domain= x_labels)),\n",
    "    y= alt.Y('regiao_e_estado', type=\"nominal\",title='State, Region',\n",
    "             scale= alt.Scale(domain= y_labels),\n",
    "             sort= sorting, axis=alt.Axis(labels=True)), \n",
    "#     y2 = alt.Y2('braz_region', title='Região'),\n",
    "    size=alt.Size('counts', title='Counts',\n",
    "                  scale= alt.Scale(domain= counts, range=[30,130], zero=False),\n",
    "                  legend= alt.Legend(orient='bottom', direction='horizontal')), \n",
    "    order= alt.Order('counts', sort='descending'),  # smaller points in front\n",
    "    color= alt.Color('family:N', title='Family', \n",
    "                    legend= alt.Legend(columns=5, symbolLimit=102, direction='horizontal', orient='bottom'), \n",
    "                    scale= alt.Scale(domain= list(cores_familia.keys()), \n",
    "                                     range= list(cores_familia.values()))),\n",
    "    tooltip= alt.Tooltip(['regiao_e_estado','start_year','family','counts'])\n",
    ").add_selection(select_family).transform_filter(select_family)\n",
    "\n",
    "g1 = g1.configure_title(fontSize=16).configure_axis(\n",
    "    labelFontSize=12,\n",
    "    titleFontSize=12\n",
    ").configure_legend(\n",
    "    labelFontSize=12,\n",
    "    titleFontSize=12\n",
    ")\n",
    "\n",
    "# g1.save('./graphs/time-spacial/temporal_evolution_per_brazilian_states.html')\n",
    "# g1"
   ]
  },
  {
   "cell_type": "markdown",
   "metadata": {},
   "source": [
    "<br>\n",
    "\n",
    "## Lat Long"
   ]
  },
  {
   "cell_type": "code",
   "execution_count": 12,
   "metadata": {
    "ExecuteTime": {
     "end_time": "2021-02-16T04:42:35.471637Z",
     "start_time": "2021-02-16T04:42:35.350398Z"
    }
   },
   "outputs": [],
   "source": [
    "def regiao(est):\n",
    "    if est not in regioes.keys():\n",
    "        return np.NAN\n",
    "    else:\n",
    "        return regioes[est]\n",
    "    \n",
    "NewTable['regiao'] = NewTable['state'].apply(regiao)"
   ]
  },
  {
   "cell_type": "code",
   "execution_count": 13,
   "metadata": {
    "ExecuteTime": {
     "end_time": "2021-02-16T04:42:35.570274Z",
     "start_time": "2021-02-16T04:42:35.474651Z"
    }
   },
   "outputs": [],
   "source": [
    "from vega_datasets import data\n",
    "\n",
    "source = alt.topo_feature(data.world_110m.url, 'countries')\n",
    "\n",
    "world = alt.Chart(source).mark_geoshape(\n",
    "    fill='white',\n",
    "    stroke='gray'\n",
    ").project('naturalEarth1')\n",
    "\n",
    "# world"
   ]
  },
  {
   "cell_type": "code",
   "execution_count": 14,
   "metadata": {
    "ExecuteTime": {
     "end_time": "2021-02-16T04:42:35.657699Z",
     "start_time": "2021-02-16T04:42:35.572700Z"
    }
   },
   "outputs": [],
   "source": [
    "# dynamic version\n",
    "slider = alt.binding_range(min=1905, max=2015, step=1)\n",
    "select_year = alt.selection_single(name=' ', fields=['start_year'],\n",
    "                                   bind=slider, init={'start_year': 1905})\n",
    "\n",
    "# data = NewTable[(NewTable['long'] < 10) & (NewTable['long'] >-150)].copy()\n",
    "data = NewTable.copy()\n",
    "data['equador'] = 0\n",
    "\n",
    "back = alt.Chart(data).mark_circle(color='lightgray').encode(\n",
    "    longitude = alt.X('long', type='quantitative', title='Longitude'),\n",
    "    latitude = alt.Y('lat', type='quantitative', title='Latitude'),\n",
    "    tooltip = alt.Tooltip(['lat','long','country','regiao','state', 'locality','start_year','collector_full_name',\n",
    "                           'family', 'genus','species','order', 'catalog_number']),\n",
    "#     shape = alt.Shape('type:N', title='Type')\n",
    ")\n",
    "\n",
    "front = alt.Chart(data).mark_circle().encode(\n",
    "    longitude = alt.X('long', type='quantitative', title='Longitude'),\n",
    "    latitude = alt.Y('lat', type='quantitative', title='Latitude'),\n",
    "    color = alt.Color('family:N', title='Family', scale=\n",
    "                     alt.Scale(range=list(cores_familia.values()), domain=list(cores_familia.keys())),\n",
    "                     legend=alt.Legend(columns=2, symbolLimit=42)),\n",
    "    tooltip = alt.Tooltip(['lat','long','country','regiao','state', 'locality','start_year','collector_full_name',\n",
    "                           'family', 'genus','species','order', 'catalog_number']),\n",
    "#     shape = alt.Shape('type:N', title='Type')\n",
    ").add_selection(\n",
    "    select_year\n",
    ").transform_filter(\n",
    "    select_year\n",
    ")\n",
    "\n",
    "equador = alt.Chart(data, width=700, height= 400).mark_rule(color='black', size=1).encode(\n",
    "    y = alt.Y('equador', axis=alt.Axis(grid=False))\n",
    ")\n",
    "\n",
    "\n",
    "g = alt.layer(world, back, front).properties(\n",
    "    width=800,\n",
    "    height=500\n",
    ").configure_title(fontSize=16).configure_axis(\n",
    "    labelFontSize=12,\n",
    "    titleFontSize=12\n",
    ").configure_legend(\n",
    "    labelFontSize=12,\n",
    "    titleFontSize=12\n",
    ")\n",
    "\n",
    "# g.save('./graphs/time-spacial/lat_long-animated.html')\n",
    "# g"
   ]
  },
  {
   "cell_type": "markdown",
   "metadata": {},
   "source": [
    "<br>\n",
    "\n",
    "<font color='red' size='5'>Lat long (layout 2)</font>"
   ]
  },
  {
   "cell_type": "code",
   "execution_count": 15,
   "metadata": {
    "ExecuteTime": {
     "end_time": "2021-02-16T04:42:35.722312Z",
     "start_time": "2021-02-16T04:42:35.659267Z"
    }
   },
   "outputs": [],
   "source": [
    "# https://nextjournal.com/sdanisch/cartographic-visualization\n",
    "\n",
    "db = NewTable.copy()\n",
    "\n",
    "# parsing into string to make legend selector work\n",
    "db['type'] = db['type'].astype(str)\n",
    "\n",
    "# seletores\n",
    "select_family = alt.selection_multi(fields=['family'], bind='legend')\n",
    "select_type = alt.selection_multi(fields=['type'], bind='legend')\n",
    "\n",
    "tipos = db['type'].unique()  # lista temporária! ajustar depois!\n",
    "\n",
    "# AJUSTAR CORES\n",
    "\n",
    "from vega_datasets import data\n",
    "\n",
    "front = alt.Chart(db).mark_point(filled=True, size=80).encode(\n",
    "    longitude = alt.X('long', type='quantitative', title='Longitude'),\n",
    "    latitude = alt.Y('lat', type='quantitative', title='Latitude'),\n",
    "    color= alt.Color('family:N', title='Family', \n",
    "                    legend= alt.Legend(columns=2, symbolLimit=102, direction='vertical', orient='right'), \n",
    "                    scale= alt.Scale(domain= list(cores_familia.keys()), \n",
    "                                     range= list(cores_familia.values()))),\n",
    "     shape= alt.Shape('type:N', title='Types', \n",
    "                     legend= alt.Legend(columns=4),\n",
    "                     scale= alt.Scale(domain=['Holotype', 'Neotype','Paratype', 'nan'],\n",
    "                                      range=['triangle', 'square', 'cross','circle'])),\n",
    "   tooltip = alt.Tooltip(['lat','long','country','regiao','state',\n",
    "                           'start_year','start_month','order','family', 'type'])\n",
    ").add_selection(select_family, select_type).transform_filter(select_family).transform_filter(select_type)\n",
    "\n",
    "mapa = alt.layer(\n",
    "     # use the sphere of the Earth as the base layer\n",
    "    alt.Chart({'sphere': True}).mark_geoshape(\n",
    "        fill='#f2f2f2'\n",
    "    ),\n",
    "    # add a graticule for geographic reference lines\n",
    "    alt.Chart({'graticule': True}).mark_geoshape(\n",
    "        stroke='#ffffff', strokeWidth=1\n",
    "    ),\n",
    "    # and then the countries of the world\n",
    "    alt.Chart(alt.topo_feature(data.world_110m.url, 'countries')).mark_geoshape(\n",
    "        fill='#white', stroke='black', strokeWidth=0.5\n",
    "    ),\n",
    "    front\n",
    ").properties(\n",
    "    width=800,\n",
    "    height=600\n",
    ")\n",
    "\n",
    "mapa = mapa.project(\n",
    "    type='naturalEarth1', scale=140\n",
    ").configure_view(stroke=None)\n",
    "\n",
    "mapa = mapa.configure_title(fontSize=16).configure_axis(\n",
    "    labelFontSize=12,\n",
    "    titleFontSize=12\n",
    ").configure_legend(\n",
    "    labelFontSize=12,\n",
    "    titleFontSize=12\n",
    ")\n",
    "\n",
    "# mapa.save('./graphs/time-spacial/lat_long-worldwide-static-grid.html')\n",
    "# mapa"
   ]
  },
  {
   "cell_type": "code",
   "execution_count": 16,
   "metadata": {
    "ExecuteTime": {
     "end_time": "2021-02-16T04:42:35.773602Z",
     "start_time": "2021-02-16T04:42:35.724025Z"
    }
   },
   "outputs": [],
   "source": [
    "db = NewTable.copy()  # selecting database\n",
    "db['type'] = db['type'].astype(str)\n",
    "# db = db[(db['lat'] > 90) & (db['long'] > 180)]\n",
    "\n",
    "# seletores\n",
    "select_family = alt.selection_multi(fields=['family'], bind='legend')\n",
    "select_type = alt.selection_multi(fields=['type'], bind='legend')\n",
    "\n",
    "teste = alt.Chart(db).mark_point(filled=True, size=80).encode(\n",
    "    longitude = alt.X('long:Q', title='Longitude'),\n",
    "    latitude = alt.Y('lat:Q', title='Latitude'),\n",
    "    color= alt.Color('family:N', title='Family', \n",
    "                    legend= alt.Legend(columns=2, symbolLimit=102), \n",
    "                    scale= alt.Scale(domain= list(cores_familia.keys()), \n",
    "                                     range= list(cores_familia.values()))),\n",
    "     shape= alt.Shape('type:N', title='Types', \n",
    "                     legend= alt.Legend(columns=4),\n",
    "                     scale= alt.Scale(domain=['Holotype', 'Neotype','Paratype', 'nan'],\n",
    "                                      range=['triangle', 'square', 'cross','circle'])),\n",
    "    tooltip = alt.Tooltip(['lat','long','catalog_number', 'country','regiao','state',\n",
    "                           'locality', 'start_year','start_month', 'order', 'family','genus', 'type'])\n",
    ").project(type='naturalEarth1').add_selection(select_family, \n",
    "                            select_type).transform_filter(select_family).transform_filter(select_type)\n",
    "\n",
    "temp = (world + teste).properties(width=800, height=500).configure_title(fontSize=16).configure_axis(\n",
    "    labelFontSize=12,\n",
    "    titleFontSize=12\n",
    ").configure_legend(\n",
    "    labelFontSize=12,\n",
    "    titleFontSize=12\n",
    ")\n",
    "\n",
    "# temp.save('./graphs/time-spacial/lat_long-worldwide-static.html')\n",
    "# temp"
   ]
  },
  {
   "cell_type": "markdown",
   "metadata": {},
   "source": [
    "### Latin America"
   ]
  },
  {
   "cell_type": "code",
   "execution_count": 17,
   "metadata": {
    "ExecuteTime": {
     "end_time": "2021-02-16T04:42:35.834966Z",
     "start_time": "2021-02-16T04:42:35.775307Z"
    }
   },
   "outputs": [],
   "source": [
    "db = NewTable.copy()  # selecting database\n",
    "db['type'] = db['type'].astype(str)\n",
    "\n",
    "# seletores\n",
    "select_order = alt.selection_multi(fields=['family'], bind='legend')\n",
    "select_type = alt.selection_multi(fields=['type'], bind='legend')\n",
    "\n",
    "tipos = db['type'].unique()  # lista temporária! ajustar depois!\n",
    "\n",
    "# mapa\n",
    "from vega_datasets import data\n",
    "\n",
    "source = alt.topo_feature(data.world_110m.url, 'countries')\n",
    "\n",
    "latinAmerica = alt.Chart(source).mark_geoshape(\n",
    "    fill='white',\n",
    "    stroke='gray'\n",
    ").project('naturalEarth1', translate=[680, 150], scale=450)\n",
    "\n",
    "# pontos\n",
    "teste = alt.Chart(db).mark_point(filled=True, size=80).encode(\n",
    "    longitude = alt.X('long:Q', title='Longitude'),\n",
    "    latitude = alt.Y('lat:Q', title='Latitude'),\n",
    "    color= alt.Color('family:N', title='Family', \n",
    "                    legend= alt.Legend(columns=2, symbolLimit=102), \n",
    "                    scale= alt.Scale(domain= list(cores_familia.keys()), \n",
    "                                     range= list(cores_familia.values()))),\n",
    "    shape= alt.Shape('type:N', title='Types', \n",
    "                     legend= alt.Legend(columns=4),\n",
    "                     scale= alt.Scale(domain=['Holotype', 'Neotype','Paratype', 'nan'],\n",
    "                                      range=['triangle', 'square', 'cross','circle'])),\n",
    "    tooltip = alt.Tooltip(['lat','long','catalog_number', 'country','regiao','state',\n",
    "                           'locality', 'start_year','start_month', 'order', 'family','genus', 'type'])\n",
    ").project(type='naturalEarth1', translate=[680, 150], scale=450).add_selection(select_order,\n",
    "                                select_type).transform_filter(select_order).transform_filter(select_type)\n",
    "\n",
    "\n",
    "# configurando grafico\n",
    "temp = (latinAmerica + teste).properties(width=600, height=600).configure_title(fontSize=16).configure_axis(\n",
    "    labelFontSize=12,\n",
    "    titleFontSize=12\n",
    ").configure_legend(\n",
    "    labelFontSize=12,\n",
    "    titleFontSize=12\n",
    ")\n",
    "\n",
    "# temp.save('./graphs/time-spacial/lat_long-latinAmerica-static.html')\n",
    "# temp"
   ]
  },
  {
   "cell_type": "markdown",
   "metadata": {},
   "source": [
    "## Lat long version for types"
   ]
  },
  {
   "cell_type": "code",
   "execution_count": 18,
   "metadata": {
    "ExecuteTime": {
     "end_time": "2021-02-16T04:42:35.873368Z",
     "start_time": "2021-02-16T04:42:35.836450Z"
    }
   },
   "outputs": [],
   "source": [
    "from vega_datasets import data\n",
    "\n",
    "source = alt.topo_feature(data.world_110m.url, 'countries')\n",
    "\n",
    "latinAmerica = alt.Chart(source).mark_geoshape(\n",
    "    fill='white',\n",
    "    stroke='gray'\n",
    ").project('naturalEarth1', translate=[680, 150], scale=450)\n",
    "\n",
    "# latinAmerica"
   ]
  },
  {
   "cell_type": "code",
   "execution_count": 19,
   "metadata": {
    "ExecuteTime": {
     "end_time": "2021-02-16T04:42:35.961661Z",
     "start_time": "2021-02-16T04:42:35.875018Z"
    }
   },
   "outputs": [],
   "source": [
    "data = NewTable[~NewTable['type'].isna()].copy()\n",
    "data['type'] = data['type'].apply(lambda x:'NaN' if str(x) == 'nan' else x)\n",
    "# \n",
    "select_family = alt.selection_multi(fields=['family'], bind='legend')\n",
    "select_type = alt.selection_multi(fields=['type'], bind='legend')\n",
    "\n",
    "teste = alt.Chart(data).mark_point(filled=True, size=80).encode(\n",
    "    longitude = alt.X('long:Q', title='Longitude'),\n",
    "    latitude = alt.Y('lat:Q', title='Latitude'),\n",
    "    color = alt.Color('family:N', title='Family', \n",
    "                      scale = alt.Scale(range=list(cores_familia.values()), domain=list(cores_familia.keys())),\n",
    "                      legend=alt.Legend(columns=2, symbolLimit=42)),\n",
    "    tooltip = alt.Tooltip(['lat','long','country','regiao','state', 'locality','start_year','collector_full_name',\n",
    "                           'family', 'genus','species','order', 'catalog_number']), \n",
    "    shape= alt.Shape('type:N', title='Type', \n",
    "                     legend= alt.Legend(orient='right', direction='horizontal'),\n",
    "                     scale= alt.Scale(domain=['Holotype', 'Neotype','Paratype'],\n",
    "                                      range=['triangle', 'square', 'circle'])),\n",
    ").project(type='naturalEarth1', translate=[680, 150]).add_selection(select_family, select_type\n",
    "                                            ).transform_filter(select_family).transform_filter(select_type)\n",
    "\n",
    "temp = (latinAmerica + teste).properties(width=600, height=600)\n",
    "\n",
    "# ajustes de fonte\n",
    "temp = temp.configure_title(fontSize=16).configure_axis(\n",
    "    labelFontSize=12,\n",
    "    titleFontSize=12\n",
    ").configure_legend(\n",
    "    labelFontSize=12,\n",
    "    titleFontSize=12\n",
    ")\n",
    "\n",
    "# temp.save('./graphs/time-spacial/lat_long-worldwide-static-latinAmerica-type.html')\n",
    "# temp"
   ]
  },
  {
   "cell_type": "markdown",
   "metadata": {},
   "source": [
    "-----\n",
    "\n",
    "**That's it!**"
   ]
  }
 ],
 "metadata": {
  "kernelspec": {
   "display_name": "Python 3",
   "language": "python",
   "name": "python3"
  },
  "language_info": {
   "codemirror_mode": {
    "name": "ipython",
    "version": 3
   },
   "file_extension": ".py",
   "mimetype": "text/x-python",
   "name": "python",
   "nbconvert_exporter": "python",
   "pygments_lexer": "ipython3",
   "version": "3.9.1"
  },
  "latex_envs": {
   "LaTeX_envs_menu_present": true,
   "autoclose": false,
   "autocomplete": true,
   "bibliofile": "biblio.bib",
   "cite_by": "apalike",
   "current_citInitial": 1,
   "eqLabelWithNumbers": true,
   "eqNumInitial": 1,
   "hotkeys": {
    "equation": "Ctrl-E",
    "itemize": "Ctrl-I"
   },
   "labels_anchors": false,
   "latex_user_defs": false,
   "report_style_numbering": false,
   "user_envs_cfg": false
  },
  "toc": {
   "base_numbering": 1,
   "nav_menu": {},
   "number_sections": true,
   "sideBar": true,
   "skip_h1_title": false,
   "title_cell": "Table of Contents",
   "title_sidebar": "Contents",
   "toc_cell": false,
   "toc_position": {},
   "toc_section_display": true,
   "toc_window_display": false
  },
  "varInspector": {
   "cols": {
    "lenName": 16,
    "lenType": 16,
    "lenVar": 40
   },
   "kernels_config": {
    "python": {
     "delete_cmd_postfix": "",
     "delete_cmd_prefix": "del ",
     "library": "var_list.py",
     "varRefreshCmd": "print(var_dic_list())"
    },
    "r": {
     "delete_cmd_postfix": ") ",
     "delete_cmd_prefix": "rm(",
     "library": "var_list.r",
     "varRefreshCmd": "cat(var_dic_list()) "
    }
   },
   "types_to_exclude": [
    "module",
    "function",
    "builtin_function_or_method",
    "instance",
    "_Feature"
   ],
   "window_display": false
  }
 },
 "nbformat": 4,
 "nbformat_minor": 4
}
