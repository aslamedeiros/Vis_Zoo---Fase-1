{
 "cells": [
  {
   "cell_type": "markdown",
   "metadata": {},
   "source": [
    "# Time-Spacial Exploration\n",
    "\n",
    "By **Franklin Oliveira**\n",
    "\n",
    "-----\n",
    "This notebook contains all code necessary to make charts from `poliqueta` database with focus on time and space exploration. Here you'll find some basic data treatment and charts' code. \n",
    "\n",
    "Database: <font color='blue'>'IBUFRJ27.07.2020 - visualização.xlsx'</font>\n",
    "    "
   ]
  },
  {
   "cell_type": "code",
   "execution_count": 1,
   "metadata": {
    "ExecuteTime": {
     "end_time": "2020-08-29T14:41:33.927932Z",
     "start_time": "2020-08-29T14:41:32.436167Z"
    }
   },
   "outputs": [
    {
     "data": {
      "text/plain": [
       "DataTransformerRegistry.enable('default')"
      ]
     },
     "execution_count": 1,
     "metadata": {},
     "output_type": "execute_result"
    }
   ],
   "source": [
    "import datetime\n",
    "import numpy as np\n",
    "import pandas as pd\n",
    "\n",
    "from collections import defaultdict\n",
    "\n",
    "# quick visualization\n",
    "import matplotlib.pyplot as plt\n",
    "import seaborn as sns\n",
    "\n",
    "# Waffle Charts\n",
    "# from pywaffle import Waffle \n",
    "# docs: https://pywaffle.readthedocs.io/en/latest/examples/block_shape_distance_location_and_direction.html\n",
    "\n",
    "# visualization\n",
    "import altair as alt\n",
    "\n",
    "# enabling notebook renderer\n",
    "# alt.renderers.enable('notebook')\n",
    "alt.renderers.enable('default')\n",
    "\n",
    "# disabling rows limit\n",
    "alt.data_transformers.disable_max_rows()"
   ]
  },
  {
   "cell_type": "markdown",
   "metadata": {},
   "source": [
    "## Importing data..."
   ]
  },
  {
   "cell_type": "code",
   "execution_count": 2,
   "metadata": {
    "ExecuteTime": {
     "end_time": "2020-08-29T14:41:34.942211Z",
     "start_time": "2020-08-29T14:41:34.829165Z"
    }
   },
   "outputs": [],
   "source": [
    "NewTable = pd.read_csv('./data/merged_db.csv', sep=';', encoding='utf-8-sig', low_memory=False)"
   ]
  },
  {
   "cell_type": "code",
   "execution_count": 3,
   "metadata": {
    "ExecuteTime": {
     "end_time": "2020-08-29T14:41:37.196888Z",
     "start_time": "2020-08-29T14:41:37.184439Z"
    }
   },
   "outputs": [],
   "source": [
    "NewTable['genus'] = NewTable['genus'].str.capitalize()\n",
    "\n",
    "# formatando string NaN\n",
    "NewTable['family'] = NewTable['family'].apply(lambda x: 'NaN' if x=='Nan' else x)"
   ]
  },
  {
   "cell_type": "markdown",
   "metadata": {},
   "source": [
    "<br>\n",
    "\n",
    "<font size=5>**Color Palette per Order**</font>\n",
    "\n",
    "These images were used as inspiration (https://color.adobe.com/create/image)\n",
    "\n",
    "\n",
    "<div class='row' style='padding-top:20px;'>\n",
    "    <div class='col-md-6'>\n",
    "        <img src=\"./src/img1.jpg\" width='400px'>\n",
    "    </div>\n",
    "    <div class='col-md-6'>\n",
    "        <img src=\"./src/img2.jpg\" width='400px'>\n",
    "    </div>\n",
    "</div>\n",
    "\n",
    "<br>\n",
    "\n",
    "A partir das imagens acima, selecionamos cores (centróides) para criar a paleta de cores. Foram elas: \n",
    "<ul>\n",
    "    <li style='color:#3CA67F'><b> #3CA67F </b># verde</li>\n",
    "    <li style='color:#7A9FBF'><b> #7A9FBF </b># azul</li>\n",
    "    <li style='color:#D94814'><b> #D94814 </b># laranja</li>\n",
    "    <li style='color:#D96236'><b> #D96236 </b># laranja 2</li>\n",
    "    <li style='color:#F2B999'><b> #F2B999 </b># 'cor de pele'</li>\n",
    "    <li style='color:#A66C4B'><b> #A66C4B </b># marrom 1</li>\n",
    "    <li style='color:#732C02'><b> #732C02 </b># marrom 2</li>\n",
    "</ul>\n",
    "\n",
    "A partir das cores \"centróides\", utilizamos a ferramenta Color Crafter para selecionar diferentes \"shades\" e auxiliar para categorização em diferentes grupos sugeridos pela equipe de Poliquetas do Museu Nacional. \n",
    "\n",
    "<ul>\n",
    "    <li style='color:#3CA67F'><b> Verde: </b> ['#daffef', '#bbebd3', '#9adabc', '#77c8a5', '#57b791', '#3ca67f', '#2a9670', '#238762', '#257a56']</li>\n",
    "    <li style='color:#7A9FBF'><b> Azul: </b> ['#e7e5df', '#ccd2d8', '#b2c0d0', '#96afc8', '#7a9fbf', '#5d90b6', '#3c81ae', '#0673a4', '#00669a']</li>\n",
    "    <li style='color:#D94814'><b> laranja: </b> ['#ffbd84', '#ffaa74', '#ff9760', '#ff814b', '#fc6b36', '#eb5824', '#d94814', '#c83b03', '#b73000']</li>\n",
    "    <li style='color:#D96236'><b> laranja 2: ['#ffeba9', '#ffd391', '#ffbb7b', '#fda468', '#f18e56', '#e57846', '#d96236', '#cc4d28', '#bf381b']</b> </li>\n",
    "    <li style='color:#F2B999'><b> cor de pele: ['#ffe9c3', '#fbd0ad', '#f2b999', '#e8a287', '#dd8c76', '#d27666', '#c76158', '#bb4d4b', '#ae393e']</b> </li>\n",
    "    <li style='color:#A66C4B'><b> marrom 1: ['#d9c6af', '#ccad96', '#c1977c', '#b48061', '#a66c4b', '#975b39', '#874c2c', '#774124', '#683720']</b> </li>\n",
    "    <li style='color:#732C02'><b> marrom 2: ['#eebd93', '#dfa47a', '#d28d60', '#c37746', '#b4622f', '#a3501d', '#92420e', '#823606', '#732c02']</b> </li>\n",
    "</ul>\n",
    "\n",
    "\n",
    "\n",
    "**Colors  (antigas):** \n",
    "\n",
    "<ul>\n",
    "    <li style='color:#41A681'><b> #41A681 </b># verde1</li>\n",
    "    <li style='color:#3CA67F'><b> #3CA67F </b># verde2</li>\n",
    "    <li style='color:#7ACAAB'><b> #7ACAAB </b># verde claro</li>\n",
    "    <li style='color:#78a1a1'><b> #78a1a1 </b># azul</li>\n",
    "    <li style='color:#8ABFB0'><b> #8ABFB0 </b># azul claro</li>\n",
    "    <li style='color:#FFB27C'><b> #FFB27C </b># cor de pele clara</li>\n",
    "    <li style='color:#F29877'><b> #F29877 </b># cor de pele</li>\n",
    "    <li style='color:#ed845e'><b> #ed845e </b># laranja claro1</li>\n",
    "    <li style='color:#D96236'><b> #D96236 </b># laranja claro2</li>\n",
    "    <li style='color:#D95323'><b> #D95323 </b># laranja 1</li>\n",
    "    <li style='color:#D94B18'><b> #D94B18 </b># laranja 2</li>\n",
    "    <li style='color:#D9C2AD'><b> #D9C2AD </b># bege</li>\n",
    "    <li style='color:#A66C4B'><b> #A66C4B </b># marrom claro</li>\n",
    "    <li style='color:#86471B'><b> #86471B </b># marrom1</li>\n",
    "    <li style='color:#732C02'><b> #732C02 </b># marrom2</li>\n",
    "    <li style='color:#592202'><b> #592202 </b># marrom escuro1</li>\n",
    "    <li style='color:#3D1806'><b> #3D1806 </b># marrom escuro2</li>\n",
    "    <li style='color:#0D0D0D'><b> #0D0D0D </b># preto</li>\n",
    "</ul>\n",
    "\n"
   ]
  },
  {
   "cell_type": "code",
   "execution_count": 4,
   "metadata": {
    "ExecuteTime": {
     "end_time": "2020-08-29T14:41:39.296573Z",
     "start_time": "2020-08-29T14:41:39.284624Z"
    }
   },
   "outputs": [],
   "source": [
    "# 220 NaNs\n",
    "# NewTable['order'].value_counts(dropna=False)"
   ]
  },
  {
   "cell_type": "code",
   "execution_count": 5,
   "metadata": {},
   "outputs": [],
   "source": [
    "# determinando cores de acordo com a planilha (2020.10.01 - IB e MN - Cores visualização.xlsx)\n",
    "ordens = NewTable['order'].unique()\n",
    "familias = NewTable['family'].unique()\n",
    "\n",
    "# # o agrupamento é feito por famílias (ordem daquelas famílias deve assumir certa cor)\n",
    "cores_ordem = {\n",
    "    'Spionida':'#41A681',   # verde\n",
    "    'Sabellida':'#7ACAAB',  # verde claro\n",
    "    'Canalipalpata':'#78a1a1',  # azul\n",
    "    'Amphinomida':'#8ABFB0',  # azul claro\n",
    "    'Eunicida':'#A66C4B', # marrom claro\n",
    "    'Phyllodocida':'#732C02', # marrom2\n",
    "    'Terebellida':'#ed845e', # laranja claro1\n",
    "    'Scolecida':'#D94B18', # laranja 2\n",
    "    np.NAN:'#0D0D0D',  # preto\n",
    "    \n",
    "    # ordens não citadas na planilha:\n",
    "    'Sipuncula':'#D9C2AD', # bege\n",
    "    'Crassiclitellata':'#FFB27C', # cor de pele clara\n",
    "    'Aspidosiphonida':'#F29877',  # cor de pele\n",
    "    \n",
    "}\n",
    "\n",
    "# paleta de cores por família\n",
    "cores_familia = {\n",
    "    'Magelonidae':'#238762',    # verde escuro \n",
    "    'Oweniidae':'#3CA67F',      # verde (centroide)  \n",
    "    'Chaetopteridae':'#77c8a5', # verde\n",
    "    'Amphinomidae':'#bbebd3',   # verde claro\n",
    "    'Lumbrineridae':'#e7e5df',  # azul claro 1\n",
    "    'Dorvilleidae':'#b2c0d0',   # azul claro2\n",
    "    'Oenonidae':'#7A9FBF',      # azul (centroide)\n",
    "    'Eunicidae':'#3c81ae',      # azul\n",
    "    'Onuphidae':'#00669a',      # azul escuro\n",
    "    'Syllidae':'#ffbd84', \n",
    "    'Typhloscolecidae':'#ffaa74', \n",
    "    'Aphroditidae':'#ff9760', \n",
    "    'Acoetidae':'#ff814b', \n",
    "    'Chrysopetalidae':'#fc6b36', \n",
    "    'Eulepethidae':'#eb5824',\n",
    "    'Lopadorrhynchidae':'#d94814',  # laranja (centroide)\n",
    "    'Polynoidae':'#c83b03',\n",
    "    'Nereididae':'#b73000',\n",
    "    'Nephtyidae':'#f18e56',\n",
    "    'Glyceridae':'#D96236',         # laranja 2 (centroide)\n",
    "    'Tomopteridae':'#bf381b',\n",
    "    'Serpulidae':'#fbd0ad',\n",
    "    'Sabellidae':'#f2b999', # cor de pele (centroide)\n",
    "    'Sabellariidae':'#e8a287',\n",
    "    'Spionidae':'#d27666',\n",
    "    'Ampharetidae':'#b48061',\n",
    "    'Pectinariidae':'#a66c4b',  # marrom 1 (centroide),\n",
    "    'Trichobranchidae':'#975b39',\n",
    "    'Terebellidae':'#874c2c',\n",
    "    'Cirratulidae':'#774124',\n",
    "    'Flabelligeridae':'#683720',\n",
    "    'Sternaspidae':'#eebd93',\n",
    "    'Orbiniidae':'#dfa47a',\n",
    "    'Opheliidae':'#d28d60',\n",
    "    'Capitellidae':'#c37746',\n",
    "    'Arenicolidae':'#b4622f',\n",
    "    'Cossuridae':'#a3501d',\n",
    "    'Scalibregmatidae':'#92420e',\n",
    "    'Paraonidae':'#823606',\n",
    "    'Maldanidae':'#732c02', # marrom 2 (centroide)\n",
    "    'NaN':'#0D0D0D',  # preto\n",
    "}"
   ]
  },
  {
   "cell_type": "markdown",
   "metadata": {},
   "source": [
    "<br>\n",
    "\n",
    "## Graph: Exploring time-spacial evolution of the database"
   ]
  },
  {
   "cell_type": "code",
   "execution_count": 6,
   "metadata": {
    "ExecuteTime": {
     "end_time": "2020-08-29T14:41:42.034277Z",
     "start_time": "2020-08-29T14:41:42.022756Z"
    }
   },
   "outputs": [
    {
     "data": {
      "text/plain": [
       "South America      3637\n",
       "Antarctica           74\n",
       "Central America      52\n",
       "Europe               11\n",
       "Asia                  3\n",
       "North America         2\n",
       "Oceania               2\n",
       "Africa                1\n",
       "Name: continent, dtype: int64"
      ]
     },
     "execution_count": 6,
     "metadata": {},
     "output_type": "execute_result"
    }
   ],
   "source": [
    "NewTable['continent'].value_counts()"
   ]
  },
  {
   "cell_type": "markdown",
   "metadata": {},
   "source": [
    "### Chart 1: Evolution per time and continent"
   ]
  },
  {
   "cell_type": "code",
   "execution_count": 7,
   "metadata": {
    "ExecuteTime": {
     "end_time": "2020-08-29T14:41:43.905561Z",
     "start_time": "2020-08-29T14:41:43.873088Z"
    }
   },
   "outputs": [],
   "source": [
    "# agrupando por Ano e Continente\n",
    "teste = NewTable.groupby(['start_year','continent', 'family']).count()['class'].reset_index().rename(columns={\n",
    "    'class':'counts'\n",
    "})"
   ]
  },
  {
   "cell_type": "markdown",
   "metadata": {},
   "source": [
    "<font color='red' size='4'>**dica:** jogar legenda para a parte de baixo</font>"
   ]
  },
  {
   "cell_type": "code",
   "execution_count": 8,
   "metadata": {
    "ExecuteTime": {
     "end_time": "2020-08-29T14:41:49.494089Z",
     "start_time": "2020-08-29T14:41:49.410748Z"
    }
   },
   "outputs": [],
   "source": [
    "g1 = alt.Chart(teste, title='Temporal evolution per continent').mark_circle().encode(\n",
    "    x= alt.X('start_year', type=\"ordinal\", title='Sampling Year'),\n",
    "    y= alt.Y('continent', title=None, \n",
    "             sort=alt.EncodingSortField('counts', op=\"sum\", order='descending')), \n",
    "    size=alt.Size('counts', title='Counts', scale= alt.Scale(range=[30,800])), \n",
    "    order= alt.Order('counts', sort='descending'),  # smaller points in front\n",
    "    color= alt.Color('family', title='Family',\n",
    "                     scale=alt.Scale(domain=list(cores_familia.keys()), range=list(cores_familia.values())),\n",
    "                    legend= alt.Legend(columns=5, symbolLimit=42)),\n",
    "    tooltip= alt.Tooltip(['continent','start_year','family','counts'])\n",
    ")\n",
    "\n",
    "g1 = g1.properties(\n",
    "        width=800,\n",
    "        height=200\n",
    ").configure_title(fontSize=16).configure_axis(\n",
    "    labelFontSize=12,\n",
    "    titleFontSize=12\n",
    ").configure_legend(\n",
    "    labelFontSize=12,\n",
    "    titleFontSize=12,\n",
    "    orient='bottom'\n",
    ")\n",
    "\n",
    "# g1.save('./graphs/time-spacial/evolucao_por_continente.html')\n",
    "\n",
    "# g1"
   ]
  },
  {
   "cell_type": "markdown",
   "metadata": {},
   "source": [
    "<br>\n",
    "\n",
    "### Chart 2: Evolution per time and country"
   ]
  },
  {
   "cell_type": "code",
   "execution_count": 9,
   "metadata": {
    "ExecuteTime": {
     "end_time": "2020-08-29T14:41:52.653041Z",
     "start_time": "2020-08-29T14:41:52.624983Z"
    }
   },
   "outputs": [],
   "source": [
    "# agrupando por Ano e Continente\n",
    "teste1 = NewTable.groupby(['start_year','country', 'family']).count()['class'].reset_index().rename(columns={\n",
    "    'class':'counts'\n",
    "})"
   ]
  },
  {
   "cell_type": "code",
   "execution_count": 10,
   "metadata": {
    "ExecuteTime": {
     "end_time": "2020-08-29T14:41:58.478380Z",
     "start_time": "2020-08-29T14:41:58.390873Z"
    }
   },
   "outputs": [],
   "source": [
    "# retirei Brasil (será detalhado por Estados depois)\n",
    "g1 = alt.Chart(teste1[teste1['country'] != 'Brazil'], title='Animals collected in other countries',\n",
    "              width=400).mark_circle().encode(\n",
    "    x= alt.X('start_year', type=\"ordinal\", title='Sampling Year'),\n",
    "    y= alt.Y('country', title='Country', \n",
    "             sort=alt.EncodingSortField('counts', op=\"sum\", order='descending')), \n",
    "    size=alt.Size('counts', scale= alt.Scale(range=[20,250])), \n",
    "    order= alt.Order('counts', sort='descending'),  # smaller points in front\n",
    "    color= alt.Color('family', \n",
    "                     scale=alt.Scale(domain=list(cores_familia.keys()), range=list(cores_familia.values())),\n",
    "                    legend= alt.Legend(columns=2, symbolLimit=42)),\n",
    "    tooltip= alt.Tooltip(['country','start_year','family','counts'])\n",
    ")\n",
    "\n",
    "g1 = g1.configure_title(fontSize=16).configure_axis(\n",
    "    labelFontSize=12,\n",
    "    titleFontSize=12\n",
    ").configure_legend(\n",
    "    labelFontSize=12,\n",
    "    titleFontSize=12\n",
    ")\n",
    "\n",
    "# g1.save('./graphs/time-spacial/evolucao_por_pais.html')\n",
    "# g1"
   ]
  },
  {
   "cell_type": "markdown",
   "metadata": {},
   "source": [
    "<br>\n",
    "\n",
    "### Chart 3: Evolution per time and brazilian states"
   ]
  },
  {
   "cell_type": "code",
   "execution_count": 11,
   "metadata": {
    "ExecuteTime": {
     "end_time": "2020-08-29T14:42:05.137056Z",
     "start_time": "2020-08-29T14:42:05.060817Z"
    }
   },
   "outputs": [],
   "source": [
    "# agrupando por Ano e Continente\n",
    "teste2 = NewTable[NewTable['country'] == 'Brazil']\n",
    "teste2 = teste2.groupby(['start_year','state', 'family']).count()['class'].reset_index().rename(columns={\n",
    "    'class':'counts'\n",
    "})"
   ]
  },
  {
   "cell_type": "markdown",
   "metadata": {},
   "source": [
    "#### creating column with brazilian regions"
   ]
  },
  {
   "cell_type": "code",
   "execution_count": 12,
   "metadata": {
    "ExecuteTime": {
     "end_time": "2020-08-29T14:42:09.992058Z",
     "start_time": "2020-08-29T14:42:09.958266Z"
    }
   },
   "outputs": [],
   "source": [
    "regioes = {\n",
    "    'Rio de Janeiro':'SE',\n",
    "    'São Paulo':'SE',\n",
    "    'Espírito Santo': 'SE',\n",
    "    'Pernambuco':'NE',\n",
    "    'Santa Catarina':'S',\n",
    "    'Amazonas':'N',\n",
    "    'Goiás':'CO',\n",
    "    'Roraima':'N',\n",
    "    'Pará':'N',\n",
    "    'Mato Grosso':'CO',\n",
    "    'Acre': 'N',\n",
    "    'Bahia': 'NE',\n",
    "    'Minas Gerais': 'SE',\n",
    "    'Mato Grosso do Sul': 'CO',\n",
    "    'Paraná': 'S',\n",
    "    'Rondônia': 'N',\n",
    "    'Ceará': 'NE',\n",
    "    'Maranhão': 'N',\n",
    "    'Rio Grande do Sul': 'S',\n",
    "    'Paraíba': 'NE',\n",
    "    'Distrito Federal': 'CO',\n",
    "    'Alagoas': 'NE',\n",
    "    'Amapá':'N',\n",
    "    'Piauí': 'NE',\n",
    "    'Brasília': 'CO',\n",
    "    'Tocantins': 'N',\n",
    "    'Rio Grande do Norte': 'NE',\n",
    "    'Sergipe': 'NE',\n",
    "    'Minas Gerais/Goiás/Distrito Federal': 'CO',\n",
    "    'Santa Catarina-Rio Grande do Sul': 'S'\n",
    "}\n",
    "\n",
    "# criando coluna com as regiões\n",
    "teste2['regiao'] = teste2['state'].apply(lambda x: regioes[str(x)])\n",
    "\n",
    "# coluna com estado, regiao\n",
    "teste2['regiao_e_estado'] = teste2['state'] + ', ' + teste2['regiao']\n",
    "\n",
    "# ordenando por região e soma das contagens\n",
    "sorting = teste2.groupby(['regiao_e_estado', 'regiao']).sum()['counts'].reset_index(\n",
    "                                                                ).rename(columns={'counts':'soma'})\n",
    "sorting = sorting.sort_values(['regiao','soma'], ascending=False)['regiao_e_estado'].unique()"
   ]
  },
  {
   "cell_type": "code",
   "execution_count": 13,
   "metadata": {
    "ExecuteTime": {
     "end_time": "2020-08-29T14:42:13.936747Z",
     "start_time": "2020-08-29T14:42:13.838838Z"
    }
   },
   "outputs": [],
   "source": [
    "g1 = alt.Chart(teste2, title='Animals collected on brazilian states per year').mark_circle(opacity=0.8).encode(\n",
    "    x= alt.X('start_year', type=\"ordinal\", title='Sampling Year'),\n",
    "    y= alt.Y('regiao_e_estado', type=\"nominal\",title='State, Region',\n",
    "            sort= sorting, axis=alt.Axis(labels=True)), \n",
    "    y2 = alt.Y2('regiao', title='Região'),\n",
    "    size=alt.Size('counts', title='Counts', scale= alt.Scale(range=[30,800], zero=False)), \n",
    "    order= alt.Order('counts', sort='descending'),  # smaller points in front\n",
    "    color= alt.Color('family', title='Family',\n",
    "                     scale=alt.Scale(domain=list(cores_familia.keys()), range=list(cores_familia.values())),\n",
    "                    legend= alt.Legend(columns=5, symbolLimit=42)),\n",
    "    tooltip= alt.Tooltip(['regiao','state','start_year','family','counts'])\n",
    ")\n",
    "\n",
    "g1 = g1.properties(\n",
    "    height=350,\n",
    "    width=800\n",
    ").configure_title(fontSize=16).configure_axis(\n",
    "    labelFontSize=12,\n",
    "    titleFontSize=12\n",
    ").configure_legend(\n",
    "    labelFontSize=12,\n",
    "    titleFontSize=12,\n",
    "    orient='bottom'\n",
    ")\n",
    "\n",
    "# g1.save('./graphs/time-spacial/evolucao_por_estados_brasileiros.html')\n",
    "# g1"
   ]
  },
  {
   "cell_type": "markdown",
   "metadata": {},
   "source": [
    "<br>\n",
    "\n",
    "## Lat Long"
   ]
  },
  {
   "cell_type": "code",
   "execution_count": 14,
   "metadata": {
    "ExecuteTime": {
     "end_time": "2020-08-29T14:42:16.632098Z",
     "start_time": "2020-08-29T14:42:16.618468Z"
    }
   },
   "outputs": [],
   "source": [
    "def regiao(est):\n",
    "    if est not in regioes.keys():\n",
    "        return np.NAN\n",
    "    else:\n",
    "        return regioes[est]\n",
    "    \n",
    "NewTable['regiao'] = NewTable['state'].apply(regiao)"
   ]
  },
  {
   "cell_type": "code",
   "execution_count": 15,
   "metadata": {
    "ExecuteTime": {
     "end_time": "2020-08-29T14:42:18.231148Z",
     "start_time": "2020-08-29T14:42:18.055578Z"
    }
   },
   "outputs": [],
   "source": [
    "from vega_datasets import data\n",
    "\n",
    "source = alt.topo_feature(data.world_110m.url, 'countries')\n",
    "\n",
    "world = alt.Chart(source).mark_geoshape(\n",
    "    fill='white',\n",
    "    stroke='gray'\n",
    ").project('naturalEarth1')\n",
    "\n",
    "# world"
   ]
  },
  {
   "cell_type": "code",
   "execution_count": 16,
   "metadata": {
    "ExecuteTime": {
     "end_time": "2020-08-29T14:42:23.338861Z",
     "start_time": "2020-08-29T14:42:20.485346Z"
    }
   },
   "outputs": [],
   "source": [
    "# dynamic version\n",
    "slider = alt.binding_range(min=1905, max=2015, step=1)\n",
    "select_year = alt.selection_single(name=' ', fields=['start_year'],\n",
    "                                   bind=slider, init={'start_year': 1905})\n",
    "\n",
    "# data = NewTable[(NewTable['long'] < 10) & (NewTable['long'] >-150)].copy()\n",
    "data = NewTable.copy()\n",
    "data['equador'] = 0\n",
    "\n",
    "back = alt.Chart(data).mark_circle(color='lightgray').encode(\n",
    "    longitude = alt.X('long', type='quantitative', title='Longitude'),\n",
    "    latitude = alt.Y('lat', type='quantitative', title='Latitude'),\n",
    "    tooltip = alt.Tooltip(['lat','long','country','regiao','state', 'locality','start_year','collector_full_name',\n",
    "                           'family', 'genus','species','order', 'catalog_number']),\n",
    "#     shape = alt.Shape('type:N', title='Type')\n",
    ")\n",
    "\n",
    "front = alt.Chart(data).mark_circle().encode(\n",
    "    longitude = alt.X('long', type='quantitative', title='Longitude'),\n",
    "    latitude = alt.Y('lat', type='quantitative', title='Latitude'),\n",
    "    color = alt.Color('family:N', title='Family', scale=\n",
    "                     alt.Scale(range=list(cores_familia.values()), domain=list(cores_familia.keys())),\n",
    "                     legend=alt.Legend(columns=2, symbolLimit=42)),\n",
    "    tooltip = alt.Tooltip(['lat','long','country','regiao','state', 'locality','start_year','collector_full_name',\n",
    "                           'family', 'genus','species','order', 'catalog_number']),\n",
    "#     shape = alt.Shape('type:N', title='Type')\n",
    ").add_selection(\n",
    "    select_year\n",
    ").transform_filter(\n",
    "    select_year\n",
    ")\n",
    "\n",
    "equador = alt.Chart(data, width=700, height= 400).mark_rule(color='black', size=1).encode(\n",
    "    y = alt.Y('equador', axis=alt.Axis(grid=False))\n",
    ")\n",
    "\n",
    "\n",
    "g = alt.layer(world, back, front).properties(\n",
    "    width=800,\n",
    "    height=500\n",
    ").configure_title(fontSize=16).configure_axis(\n",
    "    labelFontSize=12,\n",
    "    titleFontSize=12\n",
    ").configure_legend(\n",
    "    labelFontSize=12,\n",
    "    titleFontSize=12\n",
    ")\n",
    "\n",
    "# g.save('./graphs/time-spacial/lat_long.html')\n",
    "\n",
    "# g"
   ]
  },
  {
   "cell_type": "markdown",
   "metadata": {},
   "source": [
    "<br>\n",
    "\n",
    "<font color='red' size='5'>ajustes para versão estática - seção temporária</font>"
   ]
  },
  {
   "cell_type": "code",
   "execution_count": 17,
   "metadata": {},
   "outputs": [],
   "source": [
    "# https://nextjournal.com/sdanisch/cartographic-visualization\n",
    "\n",
    "# AJUSTAR CORES\n",
    "\n",
    "from vega_datasets import data\n",
    "\n",
    "mapa = alt.layer(\n",
    "     # use the sphere of the Earth as the base layer\n",
    "    alt.Chart({'sphere': True}).mark_geoshape(\n",
    "        fill='#f2f2f2'\n",
    "    ),\n",
    "    # add a graticule for geographic reference lines\n",
    "    alt.Chart({'graticule': True}).mark_geoshape(\n",
    "        stroke='#ffffff', strokeWidth=1\n",
    "    ),\n",
    "    # and then the countries of the world\n",
    "    alt.Chart(alt.topo_feature(data.world_110m.url, 'countries')).mark_geoshape(\n",
    "        fill='#white', stroke='black', strokeWidth=0.5\n",
    "    ), \n",
    "    back, front\n",
    ").properties(\n",
    "    width=800,\n",
    "    height=500\n",
    ")\n",
    "\n",
    "mapa = mapa.project(\n",
    "    type='naturalEarth1', scale=140\n",
    ").configure_view(stroke=None)\n",
    "\n",
    "# ajustes de fonte\n",
    "mapa = mapa.configure_title(fontSize=16).configure_axis(\n",
    "    labelFontSize=12,\n",
    "    titleFontSize=12\n",
    ").configure_legend(\n",
    "    labelFontSize=12,\n",
    "    titleFontSize=12\n",
    ")\n",
    "\n",
    "# mapa.save('./graphs/time-spacial/lat_long-worldwide-grid.html')\n",
    "\n",
    "# mapa"
   ]
  },
  {
   "cell_type": "code",
   "execution_count": 27,
   "metadata": {},
   "outputs": [],
   "source": [
    "data = NewTable.copy()\n",
    "data['type'] = data['type'].apply(lambda x:'NaN' if str(x) == 'nan' else x)\n",
    "\n",
    "select_family = alt.selection_multi(fields=['family'], bind='legend')\n",
    "select_type = alt.selection_multi(fields=['type'], bind='legend')\n",
    "\n",
    "teste = alt.Chart(data).mark_point(filled=True).encode(\n",
    "    longitude = alt.X('long:Q', title='Longitude'),\n",
    "    latitude = alt.Y('lat:Q', title='Latitude'),\n",
    "    color = alt.Color('family:N', title='Family', \n",
    "                      scale = alt.Scale(range=list(cores_familia.values()), domain=list(cores_familia.keys())),\n",
    "                      legend=alt.Legend(columns=2, symbolLimit=42)),\n",
    "    tooltip = alt.Tooltip(['lat','long','country','regiao','state', 'locality','start_year','collector_full_name',\n",
    "                           'family', 'genus','species','order', 'type', 'catalog_number']), \n",
    "    shape= alt.Shape('type:N', title='Type', \n",
    "                    scale= alt.Scale(domain=['Holotype', 'Neotype','Paratype', 'NaN'],\n",
    "                                     range=['triangle', 'square', 'cross', 'circle'])),\n",
    ").project(type='naturalEarth1').add_selection(\n",
    "    select_family, select_type).transform_filter(select_family).transform_filter(select_type)\n",
    "\n",
    "temp = (world + teste).properties(width=800, height=500)\n",
    "\n",
    "\n",
    "# ajustes de fonte\n",
    "temp = temp.configure_title(fontSize=16).configure_axis(\n",
    "    labelFontSize=12,\n",
    "    titleFontSize=12\n",
    ").configure_legend(\n",
    "    labelFontSize=12,\n",
    "    titleFontSize=12\n",
    ")\n",
    "\n",
    "# temp.save('./graphs/time-spacial/lat_long-worldwide-static.html')\n",
    "\n",
    "# temp"
   ]
  },
  {
   "cell_type": "markdown",
   "metadata": {},
   "source": [
    "### Latin America"
   ]
  },
  {
   "cell_type": "code",
   "execution_count": 236,
   "metadata": {},
   "outputs": [],
   "source": [
    "from vega_datasets import data\n",
    "\n",
    "source = alt.topo_feature(data.world_110m.url, 'countries')\n",
    "\n",
    "latinAmerica = alt.Chart(source).mark_geoshape(\n",
    "    fill='white',\n",
    "    stroke='gray'\n",
    ").project('naturalEarth1', translate=[680, 150], scale=450)\n",
    "\n",
    "# latinAmerica\n",
    "\n",
    "select_family = alt.selection_multi(fields=['family'], bind='legend')\n",
    "select_type = alt.selection_multi(fields=['type'], bind='legend')\n",
    "\n",
    "data = NewTable.copy()\n",
    "data['type'] = data['type'].apply(lambda x:'NaN' if str(x) == 'nan' else x)\n",
    "\n",
    "teste = alt.Chart(data).mark_point(filled=True, size=50).encode(\n",
    "    longitude = alt.X('long:Q', title='Longitude'),\n",
    "    latitude = alt.Y('lat:Q', title='Latitude'),\n",
    "    color = alt.Color('family:N', title='Family', \n",
    "                      scale = alt.Scale(range=list(cores_familia.values()), domain=list(cores_familia.keys())),\n",
    "                      legend=alt.Legend(columns=2, symbolLimit=42)),\n",
    "    tooltip = alt.Tooltip(['lat','long','country','regiao','state', 'locality','start_year','collector_full_name',\n",
    "                           'family', 'genus','species','order', 'type', 'catalog_number']), \n",
    "    shape= alt.Shape('type:N', title='Type', \n",
    "                    scale= alt.Scale(domain=['Holotype', 'Neotype','Paratype', 'NaN'],\n",
    "                                     range=['triangle', 'square', 'cross', 'circle'])),\n",
    "#     opacity = alt.condition(select_family, alt.value(1), alt.value(0))\n",
    ").project(type='naturalEarth1', translate=[680, 150]).add_selection(select_family,\n",
    "                                    select_type).transform_filter(select_family).transform_filter(select_type)\n",
    "\n",
    "temp = (latinAmerica + teste).properties(width=600, height=600)\n",
    "\n",
    "# ajustes de fonte\n",
    "temp = temp.configure_title(fontSize=16).configure_axis(\n",
    "    labelFontSize=12,\n",
    "    titleFontSize=12\n",
    ").configure_legend(\n",
    "    labelFontSize=12,\n",
    "    titleFontSize=12\n",
    ")\n",
    "\n",
    "# temp.save('./graphs/time-spacial/lat_long-worldwide-static-latinAmerica.html')\n",
    "\n",
    "# temp"
   ]
  },
  {
   "cell_type": "markdown",
   "metadata": {},
   "source": [
    "## Lat long version for types"
   ]
  },
  {
   "cell_type": "code",
   "execution_count": 237,
   "metadata": {},
   "outputs": [],
   "source": [
    "from vega_datasets import data\n",
    "\n",
    "source = alt.topo_feature(data.world_110m.url, 'countries')\n",
    "\n",
    "latinAmerica = alt.Chart(source).mark_geoshape(\n",
    "    fill='white',\n",
    "    stroke='gray'\n",
    ").project('naturalEarth1', translate=[680, 150], scale=450)\n",
    "\n",
    "# latinAmerica"
   ]
  },
  {
   "cell_type": "code",
   "execution_count": 238,
   "metadata": {},
   "outputs": [],
   "source": [
    "data = NewTable[~NewTable['type'].isna()].copy()\n",
    "data['type'] = data['type'].apply(lambda x:'NaN' if str(x) == 'nan' else x)\n",
    "# \n",
    "select_family = alt.selection_multi(fields=['family'], bind='legend')\n",
    "select_type = alt.selection_multi(fields=['type'], bind='legend')\n",
    "\n",
    "teste = alt.Chart(data).mark_point(filled=True, size=80).encode(\n",
    "    longitude = alt.X('long:Q', title='Longitude'),\n",
    "    latitude = alt.Y('lat:Q', title='Latitude'),\n",
    "    color = alt.Color('family:N', title='Family', \n",
    "                      scale = alt.Scale(range=list(cores_familia.values()), domain=list(cores_familia.keys())),\n",
    "                      legend=alt.Legend(columns=2, symbolLimit=42)),\n",
    "    tooltip = alt.Tooltip(['lat','long','country','regiao','state', 'locality','start_year','collector_full_name',\n",
    "                           'family', 'genus','species','order', 'catalog_number']), \n",
    "    shape= alt.Shape('type:N', title='Type', \n",
    "                    scale= alt.Scale(domain=['Holotype', 'Neotype','Paratype'],\n",
    "                                     range=['triangle', 'square', 'circle'])),\n",
    "    \n",
    ").project(type='naturalEarth1', translate=[680, 150]).add_selection(select_family, select_type\n",
    "                                            ).transform_filter(select_family).transform_filter(select_type)\n",
    "\n",
    "temp = (latinAmerica + teste).properties(width=600, height=600)\n",
    "\n",
    "# ajustes de fonte\n",
    "temp = temp.configure_title(fontSize=16).configure_axis(\n",
    "    labelFontSize=12,\n",
    "    titleFontSize=12\n",
    ").configure_legend(\n",
    "    labelFontSize=12,\n",
    "    titleFontSize=12\n",
    ")\n",
    "\n",
    "# temp.save('./graphs/time-spacial/lat_long-worldwide-static-latinAmerica-type.html')\n",
    "\n",
    "# temp"
   ]
  },
  {
   "cell_type": "markdown",
   "metadata": {},
   "source": [
    "-----\n",
    "\n",
    "**That's it!**"
   ]
  }
 ],
 "metadata": {
  "kernelspec": {
   "display_name": "Python 3",
   "language": "python",
   "name": "python3"
  },
  "language_info": {
   "codemirror_mode": {
    "name": "ipython",
    "version": 3
   },
   "file_extension": ".py",
   "mimetype": "text/x-python",
   "name": "python",
   "nbconvert_exporter": "python",
   "pygments_lexer": "ipython3",
   "version": "3.8.3"
  },
  "latex_envs": {
   "LaTeX_envs_menu_present": true,
   "autoclose": false,
   "autocomplete": true,
   "bibliofile": "biblio.bib",
   "cite_by": "apalike",
   "current_citInitial": 1,
   "eqLabelWithNumbers": true,
   "eqNumInitial": 1,
   "hotkeys": {
    "equation": "Ctrl-E",
    "itemize": "Ctrl-I"
   },
   "labels_anchors": false,
   "latex_user_defs": false,
   "report_style_numbering": false,
   "user_envs_cfg": false
  },
  "varInspector": {
   "cols": {
    "lenName": 16,
    "lenType": 16,
    "lenVar": 40
   },
   "kernels_config": {
    "python": {
     "delete_cmd_postfix": "",
     "delete_cmd_prefix": "del ",
     "library": "var_list.py",
     "varRefreshCmd": "print(var_dic_list())"
    },
    "r": {
     "delete_cmd_postfix": ") ",
     "delete_cmd_prefix": "rm(",
     "library": "var_list.r",
     "varRefreshCmd": "cat(var_dic_list()) "
    }
   },
   "types_to_exclude": [
    "module",
    "function",
    "builtin_function_or_method",
    "instance",
    "_Feature"
   ],
   "window_display": false
  }
 },
 "nbformat": 4,
 "nbformat_minor": 4
}
