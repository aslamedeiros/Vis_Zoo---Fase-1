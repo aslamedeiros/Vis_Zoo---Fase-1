{
 "cells": [
  {
   "cell_type": "markdown",
   "metadata": {},
   "source": [
    "# Depth\n",
    "\n",
    "By **Franklin Oliveira**\n",
    "\n",
    "-----\n",
    "\n",
    "This notebook outputs Depth charts for the `poliqueta` collection. Database is in <font color='blue'>'IBUFRJ27.07.2020 - visualização.xlsx'</font> and <font color='blue'>'MNRJP27.07.2020 - visualização.xls'</font>."
   ]
  },
  {
   "cell_type": "code",
   "execution_count": 1,
   "metadata": {
    "ExecuteTime": {
     "end_time": "2021-10-26T23:57:45.180783Z",
     "start_time": "2021-10-26T23:57:44.202820Z"
    }
   },
   "outputs": [
    {
     "data": {
      "text/plain": [
       "DataTransformerRegistry.enable('default')"
      ]
     },
     "execution_count": 1,
     "metadata": {},
     "output_type": "execute_result"
    }
   ],
   "source": [
    "import datetime\n",
    "import numpy as np\n",
    "import pandas as pd\n",
    "\n",
    "from collections import defaultdict\n",
    "\n",
    "# pacotes para visualização rápida\n",
    "import seaborn as sns\n",
    "import matplotlib.pyplot as plt\n",
    "\n",
    "# pacote para visualização principal\n",
    "import altair as alt\n",
    "\n",
    "# habilitando renderizador para notebook\n",
    "# alt.renderers.enable('notebook')\n",
    "alt.renderers.enable('default')\n",
    "\n",
    "\n",
    "# desabilitando limite de linhas\n",
    "alt.data_transformers.disable_max_rows()"
   ]
  },
  {
   "cell_type": "markdown",
   "metadata": {},
   "source": [
    "## Importing data...\n",
    "\n",
    "Importing pre-treated data in `1-data_treatment.ipynb`. In this notebook, I'm doing only some minnor adjustments for visualization purposes only. For a full traceback of data treatment, please see the `1-data_treatment` notebook."
   ]
  },
  {
   "cell_type": "code",
   "execution_count": 2,
   "metadata": {
    "ExecuteTime": {
     "end_time": "2021-10-26T23:57:45.249507Z",
     "start_time": "2021-10-26T23:57:45.182792Z"
    }
   },
   "outputs": [],
   "source": [
    "# treated_db was the previous db I used to write all this code\n",
    "NewTable = pd.read_csv('./data/merged_db.csv', sep=';', encoding='utf-8')"
   ]
  },
  {
   "cell_type": "code",
   "execution_count": 3,
   "metadata": {
    "ExecuteTime": {
     "end_time": "2021-10-26T23:57:45.285612Z",
     "start_time": "2021-10-26T23:57:45.251617Z"
    }
   },
   "outputs": [],
   "source": [
    "NewTable['family'] = NewTable['family'].astype(str)\n",
    "NewTable['type'] = NewTable['type'].astype(str)\n",
    "\n",
    "# formatando a string NaN\n",
    "NewTable['family'] = NewTable['family'].apply(lambda x: 'NaN' if x=='Nan' else x)\n",
    "NewTable['type'] = NewTable['type'].apply(lambda x: x if str(x) != 'nan' else 'Non-type').astype(str)"
   ]
  },
  {
   "cell_type": "markdown",
   "metadata": {},
   "source": [
    "<br>\n",
    "\n",
    "<font size=5>**Color Palette per Order**</font>\n",
    "\n",
    "\n",
    "<!-- <div class='row' style='padding-top:20px;'>\n",
    "    <div class='col-md-6'>\n",
    "        <img src=\"./src/img1.jpg\" width='400px'>\n",
    "    </div>\n",
    "    <div class='col-md-6'>\n",
    "        <img src=\"./src/img2.jpg\" width='400px'>\n",
    "    </div>\n",
    "</div>\n",
    "\n",
    "<br>\n",
    "\n",
    "A partir das imagens acima, selecionamos cores (centróides) para criar a paleta de cores. Foram elas: \n",
    "<ul>\n",
    "    <li style='color:#3CA67F'><b> #3CA67F </b># verde</li>\n",
    "    <li style='color:#7A9FBF'><b> #7A9FBF </b># azul</li>\n",
    "    <li style='color:#D94814'><b> #D94814 </b># laranja</li>\n",
    "    <li style='color:#D96236'><b> #D96236 </b># laranja 2</li>\n",
    "    <li style='color:#F2B999'><b> #F2B999 </b># 'cor de pele'</li>\n",
    "    <li style='color:#A66C4B'><b> #A66C4B </b># marrom 1</li>\n",
    "    <li style='color:#732C02'><b> #732C02 </b># marrom 2</li>\n",
    "</ul>\n",
    "\n",
    "A partir das cores \"centróides\", utilizamos a ferramenta Color Crafter para selecionar diferentes \"shades\" e auxiliar para categorização em diferentes grupos sugeridos pela equipe de Poliquetas do Museu Nacional. \n",
    "\n",
    "<ul>\n",
    "    <li style='color:#3CA67F'><b> Verde: </b> ['#daffef', '#bbebd3', '#9adabc', '#77c8a5', '#57b791', '#3ca67f', '#2a9670', '#238762', '#257a56']</li>\n",
    "    <li style='color:#7A9FBF'><b> Azul: </b> ['#e7e5df', '#ccd2d8', '#b2c0d0', '#96afc8', '#7a9fbf', '#5d90b6', '#3c81ae', '#0673a4', '#00669a']</li>\n",
    "    <li style='color:#D94814'><b> laranja: </b> ['#ffbd84', '#ffaa74', '#ff9760', '#ff814b', '#fc6b36', '#eb5824', '#d94814', '#c83b03', '#b73000']</li>\n",
    "    <li style='color:#D96236'><b> laranja 2: ['#ffeba9', '#ffd391', '#ffbb7b', '#fda468', '#f18e56', '#e57846', '#d96236', '#cc4d28', '#bf381b']</b> </li>\n",
    "    <li style='color:#F2B999'><b> cor de pele: ['#ffe9c3', '#fbd0ad', '#f2b999', '#e8a287', '#dd8c76', '#d27666', '#c76158', '#bb4d4b', '#ae393e']</b> </li>\n",
    "    <li style='color:#A66C4B'><b> marrom 1: ['#d9c6af', '#ccad96', '#c1977c', '#b48061', '#a66c4b', '#975b39', '#874c2c', '#774124', '#683720']</b> </li>\n",
    "    <li style='color:#732C02'><b> marrom 2: ['#eebd93', '#dfa47a', '#d28d60', '#c37746', '#b4622f', '#a3501d', '#92420e', '#823606', '#732c02']</b> </li>\n",
    "</ul>\n",
    "\n",
    "\n",
    "\n",
    "**Colors  (antigas):** \n",
    "\n",
    "<ul>\n",
    "    <li style='color:#41A681'><b> #41A681 </b># verde1</li>\n",
    "    <li style='color:#3CA67F'><b> #3CA67F </b># verde2</li>\n",
    "    <li style='color:#7ACAAB'><b> #7ACAAB </b># verde claro</li>\n",
    "    <li style='color:#78a1a1'><b> #78a1a1 </b># azul</li>\n",
    "    <li style='color:#8ABFB0'><b> #8ABFB0 </b># azul claro</li>\n",
    "    <li style='color:#FFB27C'><b> #FFB27C </b># cor de pele clara</li>\n",
    "    <li style='color:#F29877'><b> #F29877 </b># cor de pele</li>\n",
    "    <li style='color:#ed845e'><b> #ed845e </b># laranja claro1</li>\n",
    "    <li style='color:#D96236'><b> #D96236 </b># laranja claro2</li>\n",
    "    <li style='color:#D95323'><b> #D95323 </b># laranja 1</li>\n",
    "    <li style='color:#D94B18'><b> #D94B18 </b># laranja 2</li>\n",
    "    <li style='color:#D9C2AD'><b> #D9C2AD </b># bege</li>\n",
    "    <li style='color:#A66C4B'><b> #A66C4B </b># marrom claro</li>\n",
    "    <li style='color:#86471B'><b> #86471B </b># marrom1</li>\n",
    "    <li style='color:#732C02'><b> #732C02 </b># marrom2</li>\n",
    "    <li style='color:#592202'><b> #592202 </b># marrom escuro1</li>\n",
    "    <li style='color:#3D1806'><b> #3D1806 </b># marrom escuro2</li>\n",
    "    <li style='color:#0D0D0D'><b> #0D0D0D </b># preto</li>\n",
    "</ul>\n",
    "\n",
    " -->"
   ]
  },
  {
   "cell_type": "code",
   "execution_count": 4,
   "metadata": {
    "ExecuteTime": {
     "end_time": "2021-10-26T23:57:45.360267Z",
     "start_time": "2021-10-26T23:57:45.287946Z"
    }
   },
   "outputs": [],
   "source": [
    "# importing customized color palettes\n",
    "from src.MNViz_colors import *"
   ]
  },
  {
   "cell_type": "markdown",
   "metadata": {},
   "source": [
    "<br>\n",
    "\n",
    "---\n",
    "\n",
    "## Graphs\n",
    "\n",
    "### Total amount of catalogations per year\n",
    "\n",
    "x: Start Year (from Start Date)\n",
    "y: number of catalogations per year"
   ]
  },
  {
   "cell_type": "code",
   "execution_count": 5,
   "metadata": {
    "ExecuteTime": {
     "end_time": "2021-10-26T23:57:45.421135Z",
     "start_time": "2021-10-26T23:57:45.364560Z"
    }
   },
   "outputs": [],
   "source": [
    "# counting catalog. per year\n",
    "# teste = NewTable['cataloged_year'].value_counts()\n",
    "# teste = teste.reset_index().rename(columns={'index':'year', 'cataloged_year':'counts'})\n",
    "\n",
    "teste = NewTable.groupby(['cataloged_year', 'collection_prefix']).count()\n",
    "teste = teste['catalog_number'].reset_index().rename(columns={'catalog_number':'counts'})\n",
    "\n",
    "# min e max para eixo X (year)\n",
    "min_x = teste['cataloged_year'].min()\n",
    "max_x = teste['cataloged_year'].max()"
   ]
  },
  {
   "cell_type": "code",
   "execution_count": 6,
   "metadata": {
    "ExecuteTime": {
     "end_time": "2021-10-26T23:57:45.462396Z",
     "start_time": "2021-10-26T23:57:45.422913Z"
    }
   },
   "outputs": [],
   "source": [
    "temp = alt.Chart(data= teste, width=800, title= 'Number of cataloged specimens per year').mark_bar().encode(\n",
    "    x= alt.X('cataloged_year', type='ordinal', title='Cataloged Year'),\n",
    "    y= alt.Y('counts', type='quantitative', title='Counts'), \n",
    "    color= alt.Color('collection_prefix', title='Collection')\n",
    ")\n",
    "\n",
    "temp = temp.configure_title(fontSize=16).configure_axis(\n",
    "    labelFontSize=12,\n",
    "    titleFontSize=12\n",
    ").configure_legend(\n",
    "    labelFontSize=12,\n",
    "    titleFontSize=12\n",
    ")\n",
    "\n",
    "# temp.save('./graphs/catalogations_per_year.html')\n",
    "# temp"
   ]
  },
  {
   "cell_type": "markdown",
   "metadata": {},
   "source": [
    "-----\n",
    "\n",
    "## Depth per family"
   ]
  },
  {
   "cell_type": "code",
   "execution_count": 7,
   "metadata": {
    "ExecuteTime": {
     "end_time": "2021-10-26T23:57:45.539055Z",
     "start_time": "2021-10-26T23:57:45.464200Z"
    }
   },
   "outputs": [],
   "source": [
    "# subsetting\n",
    "teste = NewTable[['min_depth','family','order', 'start_year', 'qualifier', 'catalog_number', \n",
    "                  'genus', 'species', 'collector_full_name', 'country','state','locality', 'type']].copy()\n",
    "\n",
    "# sorting\n",
    "teste = teste.sort_values(['min_depth','family'])\n",
    "\n",
    "# dropping na\n",
    "teste.dropna(subset=['min_depth'], inplace=True)\n",
    "\n",
    "# making sure altitude is a floating point number\n",
    "teste['min_depth'] = teste['min_depth'].astype(float)\n",
    "\n",
    "# extremes for scale\n",
    "max_y = teste['min_depth'].max()\n",
    "min_y = teste['min_depth'].min()"
   ]
  },
  {
   "cell_type": "code",
   "execution_count": 8,
   "metadata": {
    "ExecuteTime": {
     "end_time": "2021-10-26T23:57:45.582799Z",
     "start_time": "2021-10-26T23:57:45.541986Z"
    }
   },
   "outputs": [],
   "source": [
    "temp = alt.Chart(teste, title='Depth per Family', width=800, height=400).mark_circle().encode(\n",
    "    x = alt.X('family', type='nominal', title='Family', \n",
    "              sort= alt.EncodingSortField('min_depth', op='max', order='ascending')),\n",
    "    y = alt.Y('min_depth', type='quantitative', title='Depth (in meters)',\n",
    "              scale = alt.Scale(domain=[max_y, min_y])),\n",
    "        color= alt.Color('family:N', title='Family', \n",
    "                     scale=alt.Scale(domain=list(cores_familia.keys()), \n",
    "                                     range=list(cores_familia.values())),\n",
    "                     legend= alt.Legend(columns=2, symbolLimit=102)),\n",
    "    tooltip = alt.Tooltip(['catalog_number', 'order','family','genus','species', 'type',\n",
    "                            'qualifier', 'start_year','collector_full_name',\n",
    "                            'country', 'state', 'locality', 'min_depth'])\n",
    ")\n",
    "\n",
    "temp = temp.configure_title(fontSize=16).configure_axis(\n",
    "    labelFontSize=12,\n",
    "    titleFontSize=12\n",
    ").configure_legend(\n",
    "    labelFontSize=12,\n",
    "    titleFontSize=12\n",
    ")\n",
    "\n",
    "# temp.save('./graphs/depth/depth_per_family.html')\n",
    "# temp"
   ]
  },
  {
   "cell_type": "markdown",
   "metadata": {},
   "source": [
    "<br>\n",
    "\n",
    "### Customizing scale for Y axis\n",
    "\n",
    "as suggested by the Museum team: 200m is a threshold that separates ocean stream."
   ]
  },
  {
   "cell_type": "code",
   "execution_count": 9,
   "metadata": {
    "ExecuteTime": {
     "end_time": "2021-10-26T23:57:45.653985Z",
     "start_time": "2021-10-26T23:57:45.584930Z"
    }
   },
   "outputs": [],
   "source": [
    "# escala customizada para o eixo Y\n",
    "custom_y_scale = []\n",
    "\n",
    "i = 0\n",
    "\n",
    "while i < max_y+1:\n",
    "    if i % 20 == 0 and i <= 200:\n",
    "        custom_y_scale.append(i)\n",
    "    elif i % 100 == 0 and i <=500:\n",
    "        custom_y_scale.append(i)\n",
    "    elif i % 500 == 0:\n",
    "        custom_y_scale.append(i)\n",
    "    i+=1\n",
    "    \n",
    "custom_y_scale.append(custom_y_scale[-1] + 500)\n",
    "\n",
    "# custom_y_scale"
   ]
  },
  {
   "cell_type": "code",
   "execution_count": 13,
   "metadata": {
    "ExecuteTime": {
     "end_time": "2021-10-26T23:58:42.440486Z",
     "start_time": "2021-10-26T23:58:42.383798Z"
    }
   },
   "outputs": [],
   "source": [
    "data = teste.copy()\n",
    "data['type'] = data['type'].astype(str)\n",
    "\n",
    "select_family = alt.selection_multi(fields=['family'], bind='legend')\n",
    "select_type = alt.selection_multi(fields=['type'], bind='legend')\n",
    "\n",
    "# background\n",
    "back = alt.Chart(data, title='Depth per Family', width=800, height=1200).mark_point(filled=True,\n",
    "                                                                color= 'lightgray', opacity=0.2).encode(\n",
    "    x = alt.X('family', type='nominal', title='Family', \n",
    "              sort= alt.EncodingSortField('min_depth', op='max', order='ascending')),\n",
    "    y = alt.Y('min_depth', type='quantitative', title='Depth (in meters)',\n",
    "              scale = alt.Scale(domain=[max_y, min_y]),\n",
    "              axis= alt.Axis(values=custom_y_scale, tickCount=len(custom_y_scale),\n",
    "                             labelExpr=\"datum.value % 50 ? null : datum.label\")),\n",
    "    tooltip = alt.Tooltip(['catalog_number', 'order','family','genus','species', 'type',\n",
    "                            'qualifier', 'start_year','collector_full_name',\n",
    "                            'country', 'state', 'locality', 'min_depth'])\n",
    ")\n",
    "\n",
    "# front view\n",
    "front = alt.Chart(data, title='Depth per Family', width=800, height=1200).mark_point(filled=True).encode(\n",
    "    x = alt.X('family', type='nominal', title='Family', \n",
    "              sort= alt.EncodingSortField('min_depth', op='max', order='ascending')),\n",
    "    y = alt.Y('min_depth', type='quantitative', title='Depth (in meters)',\n",
    "              scale = alt.Scale(domain=[max_y, min_y]),\n",
    "              axis= alt.Axis(values=custom_y_scale, tickCount=len(custom_y_scale),\n",
    "                             labelExpr=\"datum.value % 50 ? null : datum.label\")),\n",
    "    color= alt.Color('family', title='Family', \n",
    "                     scale=alt.Scale(domain=list(cores_familia.keys()), \n",
    "                                     range=list(cores_familia.values())),\n",
    "                     legend= alt.Legend(columns=2, symbolLimit=102)),\n",
    "    shape = alt.Shape('type:N', title='Types', \n",
    "                      legend= alt.Legend(columns=4),\n",
    "                      scale= alt.Scale(domain=['Holotype', 'Neotype','Paratype', 'Non-type'],\n",
    "                                       range=['triangle', 'square', 'cross','circle'])),\n",
    "    tooltip = alt.Tooltip(['catalog_number', 'order','family','genus','species', 'type',\n",
    "                            'qualifier', 'start_year','collector_full_name',\n",
    "                            'country', 'state', 'locality', 'min_depth'])\n",
    ").add_selection(select_family, select_type).transform_filter(select_family).transform_filter(select_type)\n",
    "\n",
    "g = (back + front)\n",
    "\n",
    "g = g.configure_title(fontSize=16).configure_axis(\n",
    "    labelFontSize=12,\n",
    "    titleFontSize=12\n",
    ").configure_legend(\n",
    "    labelFontSize=12,\n",
    "    titleFontSize=12\n",
    ")\n",
    "\n",
    "# g.save('./graphs/depth/depth_per_family-custom_scale.html')\n",
    "# g"
   ]
  },
  {
   "cell_type": "markdown",
   "metadata": {},
   "source": [
    "<br>\n",
    "\n",
    "### Interactive version with standard scale"
   ]
  },
  {
   "cell_type": "code",
   "execution_count": 14,
   "metadata": {
    "ExecuteTime": {
     "end_time": "2021-10-26T23:58:45.628529Z",
     "start_time": "2021-10-26T23:58:45.599116Z"
    }
   },
   "outputs": [],
   "source": [
    "# subsetting\n",
    "teste = NewTable[['min_depth','family','order', 'start_year', 'qualifier', 'catalog_number', \n",
    "                  'genus', 'species', 'collector_full_name', 'country','state','locality', 'type']].copy()\n",
    "\n",
    "# sorting\n",
    "teste = teste.sort_values(['min_depth','family'])\n",
    "\n",
    "# dropping na\n",
    "teste.dropna(subset=['min_depth'], inplace=True)\n",
    "\n",
    "# making sure altitude is a floating point number\n",
    "teste['min_depth'] = teste['min_depth'].astype(float)\n",
    "\n",
    "# extremes for scale\n",
    "max_y = teste['min_depth'].max()\n",
    "min_y = teste['min_depth'].min()"
   ]
  },
  {
   "cell_type": "code",
   "execution_count": 16,
   "metadata": {
    "ExecuteTime": {
     "end_time": "2021-10-26T23:59:03.232997Z",
     "start_time": "2021-10-26T23:59:03.205985Z"
    }
   },
   "outputs": [],
   "source": [
    "data = teste.copy()\n",
    "data['type'] = data['type'].astype(str)\n",
    "\n",
    "select_family = alt.selection_multi(fields=['family'], bind='legend')\n",
    "select_type = alt.selection_multi(fields=['type'], bind='legend')\n",
    "\n",
    "### background\n",
    "back = alt.Chart(data, title='Depth per Family', width=800, height=400).mark_point(filled=True,\n",
    "                                                                  color='lightgray', opacity=0.2).encode(\n",
    "    x = alt.X('family', type='nominal', title='Family', \n",
    "              sort= alt.EncodingSortField('min_depth', op='max', order='ascending')),\n",
    "    y = alt.Y('min_depth', type='quantitative', title='Depth (in meters)',\n",
    "              scale = alt.Scale(domain=[max_y, min_y])),\n",
    "    tooltip = alt.Tooltip(['catalog_number', 'order','family','genus','species', 'type',\n",
    "                           'qualifier', 'start_year','collector_full_name',\n",
    "                           'country', 'state', 'locality', 'min_depth'])\n",
    ")\n",
    "\n",
    "### front view\n",
    "temp = alt.Chart(data, title='Depth per Family', width=800, height=400).mark_point(filled=True).encode(\n",
    "    x = alt.X('family', type='nominal', title='Family', \n",
    "              sort= alt.EncodingSortField('min_depth', op='max', order='ascending')),\n",
    "    y = alt.Y('min_depth', type='quantitative', title='Depth (in meters)',\n",
    "              scale = alt.Scale(domain=[max_y, min_y])),\n",
    "    color= alt.Color('family', title='Family', \n",
    "                     scale=alt.Scale(domain=list(cores_familia.keys()), \n",
    "                                     range=list(cores_familia.values())),\n",
    "                     legend= alt.Legend(columns=2, symbolLimit=102)),\n",
    "    shape= alt.Shape('type:N', title='Types', \n",
    "                     legend= alt.Legend(columns=4),\n",
    "                      scale= alt.Scale(domain=['Holotype', 'Neotype','Paratype', 'Non-type'],\n",
    "                                       range=['triangle', 'square', 'cross','circle'])),\n",
    "#     opacity= alt.condition(select_type, alt.value(1), alt.value(0)),\n",
    "    tooltip = alt.Tooltip(['catalog_number', 'order','family','genus','species', 'type',\n",
    "                            'qualifier', 'start_year','collector_full_name',\n",
    "                            'country', 'state', 'locality', 'min_depth'])\n",
    ").add_selection(select_family, select_type).transform_filter(select_family).transform_filter(select_type)\n",
    "\n",
    "g = (back + temp)\n",
    "\n",
    "g = g.configure_title(fontSize=16).configure_axis(\n",
    "    labelFontSize=12,\n",
    "    titleFontSize=12\n",
    ").configure_legend(\n",
    "    labelFontSize=12,\n",
    "    titleFontSize=12\n",
    ")\n",
    "\n",
    "# g.save('./graphs/depth/depth_per_family-shape_types.html')\n",
    "# g"
   ]
  },
  {
   "cell_type": "markdown",
   "metadata": {},
   "source": [
    "<br>\n",
    "\n",
    "## Depth per genus"
   ]
  },
  {
   "cell_type": "code",
   "execution_count": 17,
   "metadata": {
    "ExecuteTime": {
     "end_time": "2021-10-26T23:59:05.145852Z",
     "start_time": "2021-10-26T23:59:05.111631Z"
    }
   },
   "outputs": [],
   "source": [
    "teste = NewTable[['min_depth','family','order', 'start_year', 'qualifier', 'catalog_number', \n",
    "                  'genus', 'species',  'collector_full_name', 'type',\n",
    "                            'country', 'state', 'locality']].copy()\n",
    "\n",
    "# making sure altitude is a floating point number\n",
    "teste['min_depth'] = teste['min_depth'].astype(float)\n",
    "teste['genus'] = teste['genus'].str.capitalize()\n",
    "\n",
    "# sorting\n",
    "teste = teste.sort_values(['min_depth','genus'])\n",
    "\n",
    "# dropping na\n",
    "teste = teste.dropna(subset=['min_depth'])\n",
    "\n",
    "# extremes for y axis\n",
    "max_y = teste['min_depth'].max()\n",
    "min_y = teste['min_depth'].min()"
   ]
  },
  {
   "cell_type": "code",
   "execution_count": 19,
   "metadata": {
    "ExecuteTime": {
     "end_time": "2021-10-26T23:59:32.782538Z",
     "start_time": "2021-10-26T23:59:32.720128Z"
    }
   },
   "outputs": [],
   "source": [
    "select_type = alt.selection_multi(fields= ['type'], bind='legend')\n",
    "select_family = alt.selection_multi(fields= ['family'], bind='legend')\n",
    "\n",
    "# filtering depth group\n",
    "db = teste.sort_values('min_depth', ascending=False)\n",
    "db['type'] = db['type'].astype(str)  # parsing into string to make selector work for NaN cases\n",
    "\n",
    "# encoding labels\n",
    "x_labels = db[['genus', 'min_depth']].groupby('genus').max().reset_index().sort_values('min_depth')['genus'].unique()\n",
    "y_labels = db['min_depth'].unique()\n",
    "types = db['type'].unique()\n",
    "families = db['family'].unique()\n",
    "\n",
    "# background\n",
    "back = alt.Chart(db, width= 1500, height=500,\n",
    "                 title='Depth per Genus').mark_point(filled=True, color='lightgray', opacity=0.2).encode(\n",
    "    x = alt.X('genus', type='nominal', title='Genus',\n",
    "             sort=alt.EncodingSortField('min_depth', op='max', order=\"ascending\"),\n",
    "             scale= alt.Scale(domain=x_labels)),\n",
    "    y = alt.Y('min_depth', type='quantitative', title='Depth (in meters)', \n",
    "              scale= alt.Scale(domain=[max_y, 0])),\n",
    "   tooltip = alt.Tooltip(['catalog_number', 'order','family', 'genus','species','type',\n",
    "                            'qualifier', 'start_year','collector_full_name',\n",
    "                            'country', 'state', 'locality', 'min_depth'])\n",
    ")\n",
    "\n",
    "# front view\n",
    "front = alt.Chart(db, width= 1500, height=500,\n",
    "                 title='Depth per Genus').mark_point(filled=True).encode(\n",
    "    x = alt.X('genus', type='nominal', title='Genus',\n",
    "             sort=alt.EncodingSortField('min_depth', op='max', order=\"ascending\"),\n",
    "             scale= alt.Scale(domain=x_labels)),\n",
    "    y = alt.Y('min_depth', type='quantitative', title='Depth (in meters)', \n",
    "              scale= alt.Scale(domain=[max_y, 0])),\n",
    "    color = alt.Color('family:N', title='Family',\n",
    "                      scale= alt.Scale(domain=list(cores_familia.keys()), \n",
    "                                       range=list(cores_familia.values())),\n",
    "                      legend= alt.Legend(columns=2, symbolLimit=102)),\n",
    "    shape= alt.Shape('type:N', title='Types', \n",
    "                     legend= alt.Legend(columns=4),\n",
    "                      scale= alt.Scale(domain=['Holotype', 'Neotype','Paratype', 'Non-type'],\n",
    "                                       range=['triangle', 'square', 'cross','circle'])),\n",
    "    tooltip = alt.Tooltip(['catalog_number', 'order','family', 'genus','species', 'type',\n",
    "                            'qualifier', 'start_year','collector_full_name',\n",
    "                            'country', 'state', 'locality', 'min_depth'])\n",
    ").add_selection(select_family, select_type).transform_filter(select_family).transform_filter(select_type)\n",
    "\n",
    "\n",
    "g = back + front\n",
    "\n",
    "g = g.configure_title(fontSize=16).configure_axis(\n",
    "    labelFontSize=12,\n",
    "    titleFontSize=12\n",
    ").configure_legend(\n",
    "    labelFontSize=12,\n",
    "    titleFontSize=12\n",
    ")\n",
    "\n",
    "# g.save('./graphs/depth/genus/depth-per-genus.html')\n",
    "# g"
   ]
  },
  {
   "cell_type": "markdown",
   "metadata": {},
   "source": [
    "<br>\n",
    "\n",
    "## Separating per Min Depth\n",
    "\n",
    "<font color='red' size=4>Separating groups below and above the 200m sea threshold</font>\n"
   ]
  },
  {
   "cell_type": "code",
   "execution_count": 20,
   "metadata": {
    "ExecuteTime": {
     "end_time": "2021-10-26T23:59:34.774146Z",
     "start_time": "2021-10-26T23:59:34.497973Z"
    }
   },
   "outputs": [],
   "source": [
    "genus = teste['genus'].unique()\n",
    "\n",
    "d = defaultdict()\n",
    "\n",
    "for gen in genus:\n",
    "    depth = teste[teste['genus'] == gen]['min_depth'].max()\n",
    "    d[gen] = depth\n",
    "        \n",
    "d = pd.DataFrame(dict(d), index=[0]).transpose().reset_index()\n",
    "d.columns = ['genus', 'max_depth']"
   ]
  },
  {
   "cell_type": "code",
   "execution_count": 21,
   "metadata": {
    "ExecuteTime": {
     "end_time": "2021-10-26T23:59:35.750602Z",
     "start_time": "2021-10-26T23:59:35.744638Z"
    }
   },
   "outputs": [],
   "source": [
    "# divisão entre marés (sugerido pelo pessoal do Museu)\n",
    "threshold = 200\n",
    "\n",
    "# maior profundidade (>= 500m)\n",
    "grupo1 = d[d['max_depth'] > threshold]['genus']\n",
    "\n",
    "# menor profundidade\n",
    "grupo2 = d[d['max_depth'] <= threshold]['genus']"
   ]
  },
  {
   "cell_type": "markdown",
   "metadata": {},
   "source": [
    "#### higher depth group"
   ]
  },
  {
   "cell_type": "code",
   "execution_count": 23,
   "metadata": {
    "ExecuteTime": {
     "end_time": "2021-10-27T00:00:02.119542Z",
     "start_time": "2021-10-27T00:00:02.025973Z"
    }
   },
   "outputs": [],
   "source": [
    "select_type = alt.selection_multi(fields= ['type'], bind='legend')\n",
    "select_family = alt.selection_multi(fields= ['family'], bind='legend')\n",
    "\n",
    "# filtering depth group\n",
    "db = teste[teste['genus'].isin(grupo1)].sort_values('min_depth', ascending=False)\n",
    "db['type'] = db['type'].astype(str)  # parsing into string to make selector work for NaN cases\n",
    "\n",
    "# encoding labels\n",
    "x_labels = db[['genus', 'min_depth']].groupby('genus').max().reset_index().sort_values('min_depth')['genus'].unique()\n",
    "y_labels = db['min_depth'].unique()\n",
    "types = db['type'].unique()\n",
    "families = db['family'].unique()\n",
    "\n",
    "\n",
    "# background\n",
    "back = alt.Chart(db, width= 800, height=500,\n",
    "                 title='Depth per Genus').mark_point(filled=True, color='lightgray', opacity=0.2).encode(\n",
    "    x = alt.X('genus', type='nominal', title='Genus',\n",
    "             sort=alt.EncodingSortField('min_depth', op='max', order=\"ascending\"),\n",
    "             scale= alt.Scale(domain=x_labels)),\n",
    "    y = alt.Y('min_depth', type='quantitative', title='Depth (in meters)', \n",
    "              scale= alt.Scale(domain=[max_y, 0])),\n",
    "   tooltip = alt.Tooltip(['catalog_number', 'order','family', 'genus','species', 'type',\n",
    "                            'qualifier', 'start_year','collector_full_name',\n",
    "                            'country', 'state', 'locality', 'min_depth'])\n",
    ")\n",
    "\n",
    "# front view\n",
    "front = alt.Chart(db, width= 800, height=500,\n",
    "                 title='Depth per Genus').mark_point(filled=True).encode(\n",
    "    x = alt.X('genus', type='nominal', title='Genus',\n",
    "             sort=alt.EncodingSortField('min_depth', op='max', order=\"ascending\"),\n",
    "             scale= alt.Scale(domain=x_labels)),\n",
    "    y = alt.Y('min_depth', type='quantitative', title='Depth (in meters)', \n",
    "              scale= alt.Scale(domain=[max_y, 0])),\n",
    "    color = alt.Color('family:N', title='Family',\n",
    "                      scale= alt.Scale(domain=list(cores_familia.keys()), \n",
    "                                       range=list(cores_familia.values())),\n",
    "                      legend= alt.Legend(columns=2, symbolLimit=102)),\n",
    "    shape= alt.Shape('type:N', title='Types', \n",
    "                     legend= alt.Legend(columns=4),\n",
    "                     scale= alt.Scale(domain=['Holotype', 'Neotype','Paratype', 'Non-type'],\n",
    "                                      range=['triangle', 'square', 'cross','circle'])),\n",
    "    tooltip = alt.Tooltip(['catalog_number', 'order','family', 'genus','species', 'type',\n",
    "                            'qualifier', 'start_year','collector_full_name',\n",
    "                            'country', 'state', 'locality', 'min_depth'])\n",
    ").add_selection(select_family, select_type).transform_filter(select_family).transform_filter(select_type)\n",
    "\n",
    "\n",
    "g = back + front\n",
    "\n",
    "g = g.configure_title(fontSize=16).configure_axis(\n",
    "    labelFontSize=12,\n",
    "    titleFontSize=12\n",
    ").configure_legend(\n",
    "    labelFontSize=12,\n",
    "    titleFontSize=12\n",
    ")\n",
    "\n",
    "# g.save('./graphs/depth/genus/depth_per_genus-higher-depth.html')\n",
    "# g"
   ]
  },
  {
   "cell_type": "markdown",
   "metadata": {},
   "source": [
    "#### lower depth group"
   ]
  },
  {
   "cell_type": "code",
   "execution_count": 25,
   "metadata": {
    "ExecuteTime": {
     "end_time": "2021-10-27T00:00:18.162638Z",
     "start_time": "2021-10-27T00:00:18.102090Z"
    }
   },
   "outputs": [],
   "source": [
    "select_type = alt.selection_multi(fields= ['type'], bind='legend')\n",
    "select_family = alt.selection_multi(fields= ['family'], bind='legend')\n",
    "\n",
    "# filtering depth group\n",
    "db = teste[teste['genus'].isin(grupo2)].sort_values('min_depth', ascending=False)\n",
    "db['type'] = db['type'].astype(str)  # parsing into string to make selector work for NaN cases\n",
    "\n",
    "# encoding labels\n",
    "x_labels = db[['genus', 'min_depth']].groupby('genus').max().reset_index().sort_values('min_depth')['genus'].unique()\n",
    "y_labels = db['min_depth'].unique()\n",
    "types = db['type'].unique()\n",
    "families = db['family'].unique()\n",
    "\n",
    "\n",
    "# background\n",
    "back = alt.Chart(db, width= 800, height=500,\n",
    "                 title='Depth per Genus').mark_point(filled=True, color='lightgray', opacity=0.2).encode(\n",
    "    x = alt.X('genus', type='nominal', title='Genus',\n",
    "             sort=alt.EncodingSortField('min_depth', op='max', order=\"ascending\"),\n",
    "             scale= alt.Scale(domain=x_labels)),\n",
    "    y = alt.Y('min_depth', type='quantitative', title='Depth (in meters)', \n",
    "              scale= alt.Scale(domain=[threshold, 0])),\n",
    "   tooltip = alt.Tooltip(['catalog_number', 'order','family', 'genus','species', 'type',\n",
    "                            'qualifier', 'start_year','collector_full_name',\n",
    "                            'country', 'state', 'locality', 'min_depth'])\n",
    ")\n",
    "\n",
    "# front view\n",
    "front = alt.Chart(db, width= 800, height=500,\n",
    "                 title='Depth per Genus').mark_point(filled=True).encode(\n",
    "    x = alt.X('genus', type='nominal', title='Genus',\n",
    "             sort=alt.EncodingSortField('min_depth', op='max', order=\"ascending\"),\n",
    "             scale= alt.Scale(domain=x_labels)),\n",
    "    y = alt.Y('min_depth', type='quantitative', title='Depth (in meters)', \n",
    "              scale= alt.Scale(domain=[threshold, 0])),\n",
    "    color = alt.Color('family:N', title='Family',\n",
    "                      scale= alt.Scale(domain=list(cores_familia.keys()), \n",
    "                                       range=list(cores_familia.values())),\n",
    "                      legend= alt.Legend(columns=3, symbolLimit=102)),\n",
    "    shape= alt.Shape('type:N', title='Types', \n",
    "                     legend= alt.Legend(columns=4),\n",
    "                     scale= alt.Scale(domain=['Holotype', 'Neotype','Paratype', 'Non-type'],\n",
    "                                      range=['triangle', 'square', 'cross','circle'])),\n",
    "    tooltip = alt.Tooltip(['catalog_number', 'order','family', 'genus','species', 'type',\n",
    "                            'qualifier', 'start_year','collector_full_name',\n",
    "                            'country', 'state', 'locality', 'min_depth'])\n",
    ").add_selection(select_family, select_type).transform_filter(select_family).transform_filter(select_type)\n",
    "\n",
    "\n",
    "g = back + front\n",
    "\n",
    "g = g.configure_title(fontSize=16).configure_axis(\n",
    "    labelFontSize=12,\n",
    "    titleFontSize=12\n",
    ").configure_legend(\n",
    "    labelFontSize=12,\n",
    "    titleFontSize=12\n",
    ")\n",
    "\n",
    "# g.save('./graphs/depth/genus/depth_per_genus-lower-depth.html')\n",
    "# g"
   ]
  },
  {
   "cell_type": "markdown",
   "metadata": {},
   "source": [
    "<br>\n",
    "\n",
    "**Thats it!**\n",
    "\n",
    "-----"
   ]
  }
 ],
 "metadata": {
  "kernelspec": {
   "display_name": "Python 3",
   "language": "python",
   "name": "python3"
  },
  "language_info": {
   "codemirror_mode": {
    "name": "ipython",
    "version": 3
   },
   "file_extension": ".py",
   "mimetype": "text/x-python",
   "name": "python",
   "nbconvert_exporter": "python",
   "pygments_lexer": "ipython3",
   "version": "3.9.1"
  },
  "latex_envs": {
   "LaTeX_envs_menu_present": true,
   "autoclose": false,
   "autocomplete": true,
   "bibliofile": "biblio.bib",
   "cite_by": "apalike",
   "current_citInitial": 1,
   "eqLabelWithNumbers": true,
   "eqNumInitial": 1,
   "hotkeys": {
    "equation": "Ctrl-E",
    "itemize": "Ctrl-I"
   },
   "labels_anchors": false,
   "latex_user_defs": false,
   "report_style_numbering": false,
   "user_envs_cfg": false
  },
  "toc": {
   "base_numbering": 1,
   "nav_menu": {},
   "number_sections": false,
   "sideBar": true,
   "skip_h1_title": false,
   "title_cell": "Table of Contents",
   "title_sidebar": "Contents",
   "toc_cell": false,
   "toc_position": {},
   "toc_section_display": true,
   "toc_window_display": false
  },
  "varInspector": {
   "cols": {
    "lenName": 16,
    "lenType": 16,
    "lenVar": 40
   },
   "kernels_config": {
    "python": {
     "delete_cmd_postfix": "",
     "delete_cmd_prefix": "del ",
     "library": "var_list.py",
     "varRefreshCmd": "print(var_dic_list())"
    },
    "r": {
     "delete_cmd_postfix": ") ",
     "delete_cmd_prefix": "rm(",
     "library": "var_list.r",
     "varRefreshCmd": "cat(var_dic_list()) "
    }
   },
   "position": {
    "height": "391.35px",
    "left": "900.5px",
    "right": "20px",
    "top": "96px",
    "width": "536.5px"
   },
   "types_to_exclude": [
    "module",
    "function",
    "builtin_function_or_method",
    "instance",
    "_Feature"
   ],
   "window_display": false
  }
 },
 "nbformat": 4,
 "nbformat_minor": 2
}
