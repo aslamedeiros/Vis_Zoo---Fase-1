{
 "cells": [
  {
   "cell_type": "markdown",
   "metadata": {},
   "source": [
    "# Depth\n",
    "\n",
    "By **Franklin Oliveira**\n",
    "\n",
    "-----\n",
    "\n",
    "This notebook outputs Depth charts for the `poliqueta` collection. Database is in <font color='blue'>'IBUFRJ27.07.2020 - visualização.xlsx'</font> and <font color='blue'>'MNRJP27.07.2020 - visualização.xls'</font>."
   ]
  },
  {
   "cell_type": "code",
   "execution_count": 61,
   "metadata": {
    "ExecuteTime": {
     "end_time": "2020-08-29T14:51:15.094349Z",
     "start_time": "2020-08-29T14:51:14.006924Z"
    }
   },
   "outputs": [
    {
     "data": {
      "text/plain": [
       "DataTransformerRegistry.enable('default')"
      ]
     },
     "execution_count": 61,
     "metadata": {},
     "output_type": "execute_result"
    }
   ],
   "source": [
    "import datetime\n",
    "import numpy as np\n",
    "import pandas as pd\n",
    "\n",
    "from collections import defaultdict\n",
    "\n",
    "# pacotes para visualização rápida\n",
    "import seaborn as sns\n",
    "import matplotlib.pyplot as plt\n",
    "\n",
    "# pacote para visualização principal\n",
    "import altair as alt\n",
    "\n",
    "# habilitando renderizador para notebook\n",
    "# alt.renderers.enable('notebook')\n",
    "alt.renderers.enable('default')\n",
    "\n",
    "\n",
    "# desabilitando limite de linhas\n",
    "alt.data_transformers.disable_max_rows()"
   ]
  },
  {
   "cell_type": "markdown",
   "metadata": {},
   "source": [
    "## Importing data...\n",
    "\n",
    "Importing pre-treated data in `1-data_treatment.ipynb`. In this notebook, I'm doing only some minnor adjustments for visualization purposes only. For a full traceback of data treatment, please see the `1-data_treatment` notebook."
   ]
  },
  {
   "cell_type": "code",
   "execution_count": 62,
   "metadata": {
    "ExecuteTime": {
     "end_time": "2020-08-29T14:51:15.195869Z",
     "start_time": "2020-08-29T14:51:15.096649Z"
    }
   },
   "outputs": [],
   "source": [
    "# treated_db was the previous db I used to write all this code\n",
    "NewTable = pd.read_csv('./data/merged_db.csv', sep=';', encoding='utf-8')"
   ]
  },
  {
   "cell_type": "code",
   "execution_count": 63,
   "metadata": {},
   "outputs": [],
   "source": [
    "# formatando a string NaN\n",
    "NewTable['family'] = NewTable['family'].apply(lambda x: 'NaN' if x=='Nan' else x)"
   ]
  },
  {
   "cell_type": "markdown",
   "metadata": {},
   "source": [
    "<br>\n",
    "\n",
    "<font size=5>**Color Palette per Order**</font>\n",
    "\n",
    "These images were used as inspiration (https://color.adobe.com/create/image)\n",
    "\n",
    "\n",
    "<div class='row' style='padding-top:20px;'>\n",
    "    <div class='col-md-6'>\n",
    "        <img src=\"./src/img1.jpg\" width='400px'>\n",
    "    </div>\n",
    "    <div class='col-md-6'>\n",
    "        <img src=\"./src/img2.jpg\" width='400px'>\n",
    "    </div>\n",
    "</div>\n",
    "\n",
    "<br>\n",
    "\n",
    "A partir das imagens acima, selecionamos cores (centróides) para criar a paleta de cores. Foram elas: \n",
    "<ul>\n",
    "    <li style='color:#3CA67F'><b> #3CA67F </b># verde</li>\n",
    "    <li style='color:#7A9FBF'><b> #7A9FBF </b># azul</li>\n",
    "    <li style='color:#D94814'><b> #D94814 </b># laranja</li>\n",
    "    <li style='color:#D96236'><b> #D96236 </b># laranja 2</li>\n",
    "    <li style='color:#F2B999'><b> #F2B999 </b># 'cor de pele'</li>\n",
    "    <li style='color:#A66C4B'><b> #A66C4B </b># marrom 1</li>\n",
    "    <li style='color:#732C02'><b> #732C02 </b># marrom 2</li>\n",
    "</ul>\n",
    "\n",
    "A partir das cores \"centróides\", utilizamos a ferramenta Color Crafter para selecionar diferentes \"shades\" e auxiliar para categorização em diferentes grupos sugeridos pela equipe de Poliquetas do Museu Nacional. \n",
    "\n",
    "<ul>\n",
    "    <li style='color:#3CA67F'><b> Verde: </b> ['#daffef', '#bbebd3', '#9adabc', '#77c8a5', '#57b791', '#3ca67f', '#2a9670', '#238762', '#257a56']</li>\n",
    "    <li style='color:#7A9FBF'><b> Azul: </b> ['#e7e5df', '#ccd2d8', '#b2c0d0', '#96afc8', '#7a9fbf', '#5d90b6', '#3c81ae', '#0673a4', '#00669a']</li>\n",
    "    <li style='color:#D94814'><b> laranja: </b> ['#ffbd84', '#ffaa74', '#ff9760', '#ff814b', '#fc6b36', '#eb5824', '#d94814', '#c83b03', '#b73000']</li>\n",
    "    <li style='color:#D96236'><b> laranja 2: ['#ffeba9', '#ffd391', '#ffbb7b', '#fda468', '#f18e56', '#e57846', '#d96236', '#cc4d28', '#bf381b']</b> </li>\n",
    "    <li style='color:#F2B999'><b> cor de pele: ['#ffe9c3', '#fbd0ad', '#f2b999', '#e8a287', '#dd8c76', '#d27666', '#c76158', '#bb4d4b', '#ae393e']</b> </li>\n",
    "    <li style='color:#A66C4B'><b> marrom 1: ['#d9c6af', '#ccad96', '#c1977c', '#b48061', '#a66c4b', '#975b39', '#874c2c', '#774124', '#683720']</b> </li>\n",
    "    <li style='color:#732C02'><b> marrom 2: ['#eebd93', '#dfa47a', '#d28d60', '#c37746', '#b4622f', '#a3501d', '#92420e', '#823606', '#732c02']</b> </li>\n",
    "</ul>\n",
    "\n",
    "\n",
    "\n",
    "**Colors  (antigas):** \n",
    "\n",
    "<ul>\n",
    "    <li style='color:#41A681'><b> #41A681 </b># verde1</li>\n",
    "    <li style='color:#3CA67F'><b> #3CA67F </b># verde2</li>\n",
    "    <li style='color:#7ACAAB'><b> #7ACAAB </b># verde claro</li>\n",
    "    <li style='color:#78a1a1'><b> #78a1a1 </b># azul</li>\n",
    "    <li style='color:#8ABFB0'><b> #8ABFB0 </b># azul claro</li>\n",
    "    <li style='color:#FFB27C'><b> #FFB27C </b># cor de pele clara</li>\n",
    "    <li style='color:#F29877'><b> #F29877 </b># cor de pele</li>\n",
    "    <li style='color:#ed845e'><b> #ed845e </b># laranja claro1</li>\n",
    "    <li style='color:#D96236'><b> #D96236 </b># laranja claro2</li>\n",
    "    <li style='color:#D95323'><b> #D95323 </b># laranja 1</li>\n",
    "    <li style='color:#D94B18'><b> #D94B18 </b># laranja 2</li>\n",
    "    <li style='color:#D9C2AD'><b> #D9C2AD </b># bege</li>\n",
    "    <li style='color:#A66C4B'><b> #A66C4B </b># marrom claro</li>\n",
    "    <li style='color:#86471B'><b> #86471B </b># marrom1</li>\n",
    "    <li style='color:#732C02'><b> #732C02 </b># marrom2</li>\n",
    "    <li style='color:#592202'><b> #592202 </b># marrom escuro1</li>\n",
    "    <li style='color:#3D1806'><b> #3D1806 </b># marrom escuro2</li>\n",
    "    <li style='color:#0D0D0D'><b> #0D0D0D </b># preto</li>\n",
    "</ul>\n",
    "\n"
   ]
  },
  {
   "cell_type": "code",
   "execution_count": 64,
   "metadata": {
    "ExecuteTime": {
     "end_time": "2020-08-29T14:51:15.210520Z",
     "start_time": "2020-08-29T14:51:15.199342Z"
    }
   },
   "outputs": [],
   "source": [
    "# 242 NaNs\n",
    "# NewTable['order'].value_counts(dropna=False)"
   ]
  },
  {
   "cell_type": "code",
   "execution_count": 65,
   "metadata": {},
   "outputs": [],
   "source": [
    "# determinando cores de acordo com a planilha (2020.10.01 - IB e MN - Cores visualização.xlsx)\n",
    "ordens = NewTable['order'].unique()\n",
    "familias = NewTable['family'].unique()\n",
    "\n",
    "# # o agrupamento é feito por famílias (ordem daquelas famílias deve assumir certa cor)\n",
    "cores_ordem = {\n",
    "    'Spionida':'#41A681',   # verde\n",
    "    'Sabellida':'#7ACAAB',  # verde claro\n",
    "    'Canalipalpata':'#78a1a1',  # azul\n",
    "    'Amphinomida':'#8ABFB0',  # azul claro\n",
    "    'Eunicida':'#A66C4B', # marrom claro\n",
    "    'Phyllodocida':'#732C02', # marrom2\n",
    "    'Terebellida':'#ed845e', # laranja claro1\n",
    "    'Scolecida':'#D94B18', # laranja 2\n",
    "    np.NAN:'#0D0D0D',  # preto\n",
    "    \n",
    "    # ordens não citadas na planilha:\n",
    "    'Sipuncula':'#D9C2AD', # bege\n",
    "    'Crassiclitellata':'#FFB27C', # cor de pele clara\n",
    "    'Aspidosiphonida':'#F29877',  # cor de pele\n",
    "    \n",
    "}\n",
    "\n",
    "# paleta de cores por família\n",
    "cores_familia = {\n",
    "    'Magelonidae':'#238762',    # verde escuro \n",
    "    'Oweniidae':'#3CA67F',      # verde (centroide)  \n",
    "    'Chaetopteridae':'#77c8a5', # verde\n",
    "    'Amphinomidae':'#bbebd3',   # verde claro\n",
    "    'Lumbrineridae':'#e7e5df',  # azul claro 1\n",
    "    'Dorvilleidae':'#b2c0d0',   # azul claro2\n",
    "    'Oenonidae':'#7A9FBF',      # azul (centroide)\n",
    "    'Eunicidae':'#3c81ae',      # azul\n",
    "    'Onuphidae':'#00669a',      # azul escuro\n",
    "    'Syllidae':'#ffbd84', \n",
    "    'Typhloscolecidae':'#ffaa74', \n",
    "    'Aphroditidae':'#ff9760', \n",
    "    'Acoetidae':'#ff814b', \n",
    "    'Chrysopetalidae':'#fc6b36', \n",
    "    'Eulepethidae':'#eb5824',\n",
    "    'Lopadorrhynchidae':'#d94814',  # laranja (centroide)\n",
    "    'Polynoidae':'#c83b03',\n",
    "    'Nereididae':'#b73000',\n",
    "    'Nephtyidae':'#f18e56',\n",
    "    'Glyceridae':'#D96236',         # laranja 2 (centroide)\n",
    "    'Tomopteridae':'#bf381b',\n",
    "    'Serpulidae':'#fbd0ad',\n",
    "    'Sabellidae':'#f2b999', # cor de pele (centroide)\n",
    "    'Sabellariidae':'#e8a287',\n",
    "    'Spionidae':'#d27666',\n",
    "    'Ampharetidae':'#b48061',\n",
    "    'Pectinariidae':'#a66c4b',  # marrom 1 (centroide),\n",
    "    'Trichobranchidae':'#975b39',\n",
    "    'Terebellidae':'#874c2c',\n",
    "    'Cirratulidae':'#774124',\n",
    "    'Flabelligeridae':'#683720',\n",
    "    'Sternaspidae':'#eebd93',\n",
    "    'Orbiniidae':'#dfa47a',\n",
    "    'Opheliidae':'#d28d60',\n",
    "    'Capitellidae':'#c37746',\n",
    "    'Arenicolidae':'#b4622f',\n",
    "    'Cossuridae':'#a3501d',\n",
    "    'Scalibregmatidae':'#92420e',\n",
    "    'Paraonidae':'#823606',\n",
    "    'Maldanidae':'#732c02', # marrom 2 (centroide)\n",
    "    'NaN':'#0D0D0D',  # preto\n",
    "}"
   ]
  },
  {
   "cell_type": "code",
   "execution_count": 66,
   "metadata": {},
   "outputs": [
    {
     "name": "stdout",
     "output_type": "stream",
     "text": [
      "- Phyllodocidae\n",
      "- Goniadidae\n",
      "- Pilargidae\n",
      "- Poecilochaetidae\n",
      "- Sigalionidae\n",
      "- Hesionidae\n",
      "- Longosomatidae\n",
      "- Euphrosinidae\n",
      "- Sphaerodoridae\n",
      "- Apistobranchidae\n",
      "- Pholoidae\n",
      "- Sipunculidae\n",
      "- Alciopidae\n",
      "- Pontodoridae\n",
      "- Iospilidae\n",
      "- Megascolecidae\n",
      "- Lacydoniidae\n",
      "- Aspidosiphonidae\n",
      "- Trochochaetidae\n"
     ]
    }
   ],
   "source": [
    "# Lista de Famílias que não estão com cor atribuída\n",
    "\n",
    "for f in NewTable['family'].unique():\n",
    "    if f not in list(cores_familia.keys()) and f != 'Nan':\n",
    "        print('-', f)"
   ]
  },
  {
   "cell_type": "markdown",
   "metadata": {},
   "source": [
    "<br>\n",
    "\n",
    "---\n",
    "\n",
    "## Graphs\n",
    "\n",
    "### Total amount of catalogations per year\n",
    "\n",
    "x: Start Year (from Start Date)\n",
    "y: number of catalogations per year"
   ]
  },
  {
   "cell_type": "code",
   "execution_count": 67,
   "metadata": {
    "ExecuteTime": {
     "end_time": "2020-08-29T14:51:15.387249Z",
     "start_time": "2020-08-29T14:51:15.281632Z"
    }
   },
   "outputs": [],
   "source": [
    "# counting catalog. per year\n",
    "teste = NewTable['start_year'].value_counts()\n",
    "teste = teste.reset_index().rename(columns={'index':'year', 'start_year':'counts'})"
   ]
  },
  {
   "cell_type": "code",
   "execution_count": 68,
   "metadata": {
    "ExecuteTime": {
     "end_time": "2020-08-29T14:51:15.484035Z",
     "start_time": "2020-08-29T14:51:15.388990Z"
    }
   },
   "outputs": [],
   "source": [
    "# adjusting columns for graphs\n",
    "teste['year'] = teste['year'].apply(lambda x:str(x).split('/')[0].split('.')[0]).astype(int)\n",
    "teste = teste.groupby('year').sum().reset_index() # soma do total de bichos coletados por ano"
   ]
  },
  {
   "cell_type": "code",
   "execution_count": 69,
   "metadata": {
    "ExecuteTime": {
     "end_time": "2020-08-29T14:51:15.537872Z",
     "start_time": "2020-08-29T14:51:15.485774Z"
    }
   },
   "outputs": [],
   "source": [
    "# min e max para eixo X (year)\n",
    "min_x = teste['year'].min()\n",
    "max_x = teste['year'].max()\n",
    "\n",
    "# taking natural log\n",
    "teste['ln_counts'] = teste['counts']"
   ]
  },
  {
   "cell_type": "markdown",
   "metadata": {},
   "source": [
    "<font color='red'>**ideia:** fazer crescimento em log (referencias em Bio. fazem isso)</font>"
   ]
  },
  {
   "cell_type": "code",
   "execution_count": 70,
   "metadata": {
    "ExecuteTime": {
     "end_time": "2020-08-29T14:51:15.676395Z",
     "start_time": "2020-08-29T14:51:15.543194Z"
    }
   },
   "outputs": [],
   "source": [
    "temp = alt.Chart(data= teste, width=800, title= 'Collected animals per year').mark_bar().encode(\n",
    "    x= alt.X('year', type='ordinal', title='Sampling Year'),\n",
    "    y= alt.Y('ln_counts', type='quantitative', title='Contagem')\n",
    ")\n",
    "\n",
    "# temp.save('./graphs/coletas_por_ano.html')\n",
    "# temp"
   ]
  },
  {
   "cell_type": "code",
   "execution_count": 71,
   "metadata": {
    "ExecuteTime": {
     "end_time": "2020-08-29T14:56:17.107217Z",
     "start_time": "2020-08-29T14:56:17.053269Z"
    }
   },
   "outputs": [],
   "source": [
    "# counting catalog. per year\n",
    "# teste = NewTable['cataloged_year'].value_counts()\n",
    "# teste = teste.reset_index().rename(columns={'index':'year', 'cataloged_year':'counts'})\n",
    "\n",
    "teste = NewTable.groupby(['cataloged_year', 'collection_prefix']).count()\n",
    "teste = teste['catalog_number'].reset_index().rename(columns={'catalog_number':'counts'})\n",
    "\n",
    "# min e max para eixo X (year)\n",
    "min_x = teste['cataloged_year'].min()\n",
    "max_x = teste['cataloged_year'].max()"
   ]
  },
  {
   "cell_type": "code",
   "execution_count": 72,
   "metadata": {
    "ExecuteTime": {
     "end_time": "2020-08-29T14:59:47.294364Z",
     "start_time": "2020-08-29T14:59:47.275909Z"
    }
   },
   "outputs": [
    {
     "data": {
      "text/html": [
       "\n",
       "<div id=\"altair-viz-5b07c7c09d6c4d5db72b8aa6c3246a05\"></div>\n",
       "<script type=\"text/javascript\">\n",
       "  (function(spec, embedOpt){\n",
       "    let outputDiv = document.currentScript.previousElementSibling;\n",
       "    if (outputDiv.id !== \"altair-viz-5b07c7c09d6c4d5db72b8aa6c3246a05\") {\n",
       "      outputDiv = document.getElementById(\"altair-viz-5b07c7c09d6c4d5db72b8aa6c3246a05\");\n",
       "    }\n",
       "    const paths = {\n",
       "      \"vega\": \"https://cdn.jsdelivr.net/npm//vega@5?noext\",\n",
       "      \"vega-lib\": \"https://cdn.jsdelivr.net/npm//vega-lib?noext\",\n",
       "      \"vega-lite\": \"https://cdn.jsdelivr.net/npm//vega-lite@4.8.1?noext\",\n",
       "      \"vega-embed\": \"https://cdn.jsdelivr.net/npm//vega-embed@6?noext\",\n",
       "    };\n",
       "\n",
       "    function loadScript(lib) {\n",
       "      return new Promise(function(resolve, reject) {\n",
       "        var s = document.createElement('script');\n",
       "        s.src = paths[lib];\n",
       "        s.async = true;\n",
       "        s.onload = () => resolve(paths[lib]);\n",
       "        s.onerror = () => reject(`Error loading script: ${paths[lib]}`);\n",
       "        document.getElementsByTagName(\"head\")[0].appendChild(s);\n",
       "      });\n",
       "    }\n",
       "\n",
       "    function showError(err) {\n",
       "      outputDiv.innerHTML = `<div class=\"error\" style=\"color:red;\">${err}</div>`;\n",
       "      throw err;\n",
       "    }\n",
       "\n",
       "    function displayChart(vegaEmbed) {\n",
       "      vegaEmbed(outputDiv, spec, embedOpt)\n",
       "        .catch(err => showError(`Javascript Error: ${err.message}<br>This usually means there's a typo in your chart specification. See the javascript console for the full traceback.`));\n",
       "    }\n",
       "\n",
       "    if(typeof define === \"function\" && define.amd) {\n",
       "      requirejs.config({paths});\n",
       "      require([\"vega-embed\"], displayChart, err => showError(`Error loading script: ${err.message}`));\n",
       "    } else if (typeof vegaEmbed === \"function\") {\n",
       "      displayChart(vegaEmbed);\n",
       "    } else {\n",
       "      loadScript(\"vega\")\n",
       "        .then(() => loadScript(\"vega-lite\"))\n",
       "        .then(() => loadScript(\"vega-embed\"))\n",
       "        .catch(showError)\n",
       "        .then(() => displayChart(vegaEmbed));\n",
       "    }\n",
       "  })({\"config\": {\"view\": {\"continuousWidth\": 400, \"continuousHeight\": 300}, \"axis\": {\"labelFontSize\": 12, \"titleFontSize\": 12}, \"legend\": {\"labelFontSize\": 12, \"titleFontSize\": 12}, \"title\": {\"fontSize\": 16}}, \"data\": {\"name\": \"data-1d5a4f8bdcd0ac6491939bb5c8834f80\"}, \"mark\": \"bar\", \"encoding\": {\"color\": {\"type\": \"nominal\", \"field\": \"collection_prefix\", \"title\": \"Cole\\u00e7\\u00e3o\"}, \"x\": {\"type\": \"ordinal\", \"field\": \"cataloged_year\", \"title\": \"Cataloged Year\"}, \"y\": {\"type\": \"quantitative\", \"field\": \"counts\", \"title\": \"Contagem\"}}, \"title\": \"Cataloged animals per year\", \"width\": 800, \"$schema\": \"https://vega.github.io/schema/vega-lite/v4.8.1.json\", \"datasets\": {\"data-1d5a4f8bdcd0ac6491939bb5c8834f80\": [{\"cataloged_year\": 0.0, \"collection_prefix\": \"IBUFRJ\", \"counts\": 1}, {\"cataloged_year\": 1905.0, \"collection_prefix\": \"IBUFRJ\", \"counts\": 10}, {\"cataloged_year\": 1960.0, \"collection_prefix\": \"IBUFRJ\", \"counts\": 1}, {\"cataloged_year\": 1961.0, \"collection_prefix\": \"IBUFRJ\", \"counts\": 1}, {\"cataloged_year\": 1966.0, \"collection_prefix\": \"IBUFRJ\", \"counts\": 3}, {\"cataloged_year\": 1967.0, \"collection_prefix\": \"IBUFRJ\", \"counts\": 4}, {\"cataloged_year\": 1971.0, \"collection_prefix\": \"IBUFRJ\", \"counts\": 2}, {\"cataloged_year\": 1977.0, \"collection_prefix\": \"IBUFRJ\", \"counts\": 3}, {\"cataloged_year\": 1979.0, \"collection_prefix\": \"IBUFRJ\", \"counts\": 2}, {\"cataloged_year\": 1980.0, \"collection_prefix\": \"IBUFRJ\", \"counts\": 3}, {\"cataloged_year\": 1982.0, \"collection_prefix\": \"IBUFRJ\", \"counts\": 1}, {\"cataloged_year\": 1983.0, \"collection_prefix\": \"IBUFRJ\", \"counts\": 1}, {\"cataloged_year\": 1984.0, \"collection_prefix\": \"IBUFRJ\", \"counts\": 9}, {\"cataloged_year\": 1985.0, \"collection_prefix\": \"IBUFRJ\", \"counts\": 1}, {\"cataloged_year\": 1986.0, \"collection_prefix\": \"IBUFRJ\", \"counts\": 5}, {\"cataloged_year\": 1987.0, \"collection_prefix\": \"IBUFRJ\", \"counts\": 2}, {\"cataloged_year\": 1988.0, \"collection_prefix\": \"IBUFRJ\", \"counts\": 9}, {\"cataloged_year\": 1991.0, \"collection_prefix\": \"IBUFRJ\", \"counts\": 4}, {\"cataloged_year\": 1992.0, \"collection_prefix\": \"IBUFRJ\", \"counts\": 18}, {\"cataloged_year\": 1993.0, \"collection_prefix\": \"IBUFRJ\", \"counts\": 2}, {\"cataloged_year\": 1994.0, \"collection_prefix\": \"IBUFRJ\", \"counts\": 1}, {\"cataloged_year\": 1996.0, \"collection_prefix\": \"IBUFRJ\", \"counts\": 23}, {\"cataloged_year\": 1997.0, \"collection_prefix\": \"IBUFRJ\", \"counts\": 69}, {\"cataloged_year\": 1998.0, \"collection_prefix\": \"IBUFRJ\", \"counts\": 13}, {\"cataloged_year\": 1999.0, \"collection_prefix\": \"IBUFRJ\", \"counts\": 13}, {\"cataloged_year\": 2000.0, \"collection_prefix\": \"IBUFRJ\", \"counts\": 368}, {\"cataloged_year\": 2001.0, \"collection_prefix\": \"IBUFRJ\", \"counts\": 37}, {\"cataloged_year\": 2002.0, \"collection_prefix\": \"IBUFRJ\", \"counts\": 63}, {\"cataloged_year\": 2003.0, \"collection_prefix\": \"IBUFRJ\", \"counts\": 81}, {\"cataloged_year\": 2004.0, \"collection_prefix\": \"IBUFRJ\", \"counts\": 4}, {\"cataloged_year\": 2005.0, \"collection_prefix\": \"IBUFRJ\", \"counts\": 116}, {\"cataloged_year\": 2007.0, \"collection_prefix\": \"IBUFRJ\", \"counts\": 20}, {\"cataloged_year\": 2008.0, \"collection_prefix\": \"IBUFRJ\", \"counts\": 133}, {\"cataloged_year\": 2009.0, \"collection_prefix\": \"IBUFRJ\", \"counts\": 48}, {\"cataloged_year\": 2012.0, \"collection_prefix\": \"IBUFRJ\", \"counts\": 8}, {\"cataloged_year\": 2013.0, \"collection_prefix\": \"IBUFRJ\", \"counts\": 1691}, {\"cataloged_year\": 2014.0, \"collection_prefix\": \"IBUFRJ\", \"counts\": 490}, {\"cataloged_year\": 2015.0, \"collection_prefix\": \"IBUFRJ\", \"counts\": 331}, {\"cataloged_year\": 2015.0, \"collection_prefix\": \"MNRJP\", \"counts\": 427}, {\"cataloged_year\": 2016.0, \"collection_prefix\": \"MNRJP\", \"counts\": 424}, {\"cataloged_year\": 2017.0, \"collection_prefix\": \"MNRJP\", \"counts\": 330}, {\"cataloged_year\": 2018.0, \"collection_prefix\": \"MNRJP\", \"counts\": 390}, {\"cataloged_year\": 2019.0, \"collection_prefix\": \"MNRJP\", \"counts\": 743}, {\"cataloged_year\": 2020.0, \"collection_prefix\": \"MNRJP\", \"counts\": 29}]}}, {\"mode\": \"vega-lite\"});\n",
       "</script>"
      ],
      "text/plain": [
       "alt.Chart(...)"
      ]
     },
     "execution_count": 72,
     "metadata": {},
     "output_type": "execute_result"
    }
   ],
   "source": [
    "temp = alt.Chart(data= teste, width=800, title= 'Cataloged animals per year').mark_bar().encode(\n",
    "    x= alt.X('cataloged_year', type='ordinal', title='Cataloged Year'),\n",
    "    y= alt.Y('counts', type='quantitative', title='Contagem'), \n",
    "    color= alt.Color('collection_prefix', title='Coleção')\n",
    ")\n",
    "\n",
    "temp = temp.configure_title(fontSize=16).configure_axis(\n",
    "    labelFontSize=12,\n",
    "    titleFontSize=12\n",
    ").configure_legend(\n",
    "    labelFontSize=12,\n",
    "    titleFontSize=12\n",
    ")\n",
    "\n",
    "# temp.save('./graphs/catalogacoes_por_ano.html')\n",
    "\n",
    "temp"
   ]
  },
  {
   "cell_type": "markdown",
   "metadata": {},
   "source": [
    "-----\n",
    "\n",
    "## Depth per family"
   ]
  },
  {
   "cell_type": "code",
   "execution_count": 73,
   "metadata": {
    "ExecuteTime": {
     "end_time": "2020-08-29T14:37:28.323571Z",
     "start_time": "2020-08-29T14:37:28.293501Z"
    }
   },
   "outputs": [],
   "source": [
    "# subsetting\n",
    "teste = NewTable[['min_depth','family','order', 'start_year', 'qualifier', 'catalog_number', \n",
    "                  'genus', 'species', 'collector_full_name', 'country','state','locality', 'type']].copy()\n",
    "\n",
    "# sorting\n",
    "teste = teste.sort_values(['min_depth','family'])\n",
    "\n",
    "# dropping na\n",
    "teste.dropna(subset=['min_depth'], inplace=True)\n",
    "\n",
    "# making sure altitude is a floating point number\n",
    "teste['min_depth'] = teste['min_depth'].astype(float)\n",
    "\n",
    "# extremes for scale\n",
    "max_y = teste['min_depth'].max()\n",
    "min_y = teste['min_depth'].min()"
   ]
  },
  {
   "cell_type": "code",
   "execution_count": 74,
   "metadata": {},
   "outputs": [],
   "source": [
    "# escala customizada para o eixo Y\n",
    "custom_y_scale = []\n",
    "\n",
    "i = 0\n",
    "\n",
    "while i < max_y+1:\n",
    "    if i % 20 == 0 and i <= 200:\n",
    "        custom_y_scale.append(i)\n",
    "    elif i % 100 == 0 and i <=500:\n",
    "        custom_y_scale.append(i)\n",
    "    elif i % 500 == 0:\n",
    "        custom_y_scale.append(i)\n",
    "    i+=1\n",
    "    \n",
    "custom_y_scale.append(custom_y_scale[-1] + 500)\n",
    "\n",
    "# custom_y_scale"
   ]
  },
  {
   "cell_type": "code",
   "execution_count": 78,
   "metadata": {
    "ExecuteTime": {
     "end_time": "2020-08-29T14:37:41.995530Z",
     "start_time": "2020-08-29T14:37:41.381832Z"
    }
   },
   "outputs": [],
   "source": [
    "temp = alt.Chart(teste, title='Depth per family', width=800, height=1200).mark_circle().encode(\n",
    "    x = alt.X('family', type='nominal', title='Family', \n",
    "              sort= alt.EncodingSortField('min_depth', op='max', order='ascending')),\n",
    "    y = alt.Y('min_depth', type='quantitative', title='Depth (in meters)',\n",
    "              scale = alt.Scale(domain=[max_y, min_y]),\n",
    "              axis= alt.Axis(values=custom_y_scale, tickCount=len(custom_y_scale))),\n",
    "    color= alt.Color('family', title='Family', \n",
    "                     scale=alt.Scale(domain=list(cores_familia.keys()), range=list(cores_familia.values())),\n",
    "                     legend= alt.Legend(columns=2, symbolLimit=42)),\n",
    "    tooltip = alt.Tooltip(['catalog_number', 'family','genus','species', 'type',\n",
    "                            'qualifier', 'start_year','collector_full_name',\n",
    "                            'country', 'state', 'locality', 'min_depth'])\n",
    ")\n",
    "\n",
    "temp = temp.configure_title(fontSize=16).configure_axis(\n",
    "    labelFontSize=12,\n",
    "    titleFontSize=12\n",
    ").configure_legend(\n",
    "    labelFontSize=12,\n",
    "    titleFontSize=12\n",
    ")\n",
    "\n",
    "# temp.save('./graphs/depth/depth_per_family-custom_scale.html')\n",
    "# temp.facet(row='order').save('./graphs/depth/depth_per_family-facetado.html')\n",
    "\n",
    "# temp"
   ]
  },
  {
   "cell_type": "code",
   "execution_count": 79,
   "metadata": {},
   "outputs": [],
   "source": [
    "data = teste.copy()\n",
    "data['type'] = data['type'].apply(lambda x:'NaN' if str(x).lower() == 'nan' else x)\n",
    "\n",
    "select_family = alt.selection_multi(fields=['family'], bind='legend')\n",
    "select_type = alt.selection_multi(fields=['type'], bind='legend')\n",
    "\n",
    "### TESTANDO shape com tipos\n",
    "temp = alt.Chart(data, title='Depth per family', width=800).mark_point(filled=True).encode(\n",
    "    x = alt.X('family', type='nominal', title='Family', \n",
    "              sort= alt.EncodingSortField('min_depth', op='max', order='ascending')),\n",
    "    y = alt.Y('min_depth', type='quantitative', title='Depth (in meters)',\n",
    "              scale = alt.Scale(domain=[max_y, min_y])),\n",
    "    color= alt.Color('family', title='Family', \n",
    "                     scale=alt.Scale(domain=list(cores_familia.keys()), range=list(cores_familia.values())),\n",
    "                     legend= alt.Legend(columns=2, symbolLimit=42)),\n",
    "    shape= alt.Shape('type:N', title='Type', \n",
    "                    scale= alt.Scale(domain=['Holotype', 'Neotype','Paratype', 'NaN'],\n",
    "                                     range=['triangle', 'square', 'cross','circle'])),\n",
    "    opacity= alt.condition(select_type, alt.value(1), alt.value(0)),\n",
    "    tooltip = alt.Tooltip(['catalog_number', 'family','genus','species', 'type',\n",
    "                            'qualifier', 'start_year','collector_full_name',\n",
    "                            'country', 'state', 'locality', 'min_depth'])\n",
    ").add_selection(select_family, select_type).transform_filter(select_family)\n",
    "\n",
    "temp = temp.configure_title(fontSize=16).configure_axis(\n",
    "    labelFontSize=12,\n",
    "    titleFontSize=12\n",
    ").configure_legend(\n",
    "    labelFontSize=12,\n",
    "    titleFontSize=12\n",
    ")\n",
    "\n",
    "# temp.save('./graphs/depth/depth_per_family-shape_tipos.html')\n",
    "# temp"
   ]
  },
  {
   "cell_type": "markdown",
   "metadata": {},
   "source": [
    "<br>\n",
    "\n",
    "## Depth per genus"
   ]
  },
  {
   "cell_type": "code",
   "execution_count": 52,
   "metadata": {
    "ExecuteTime": {
     "end_time": "2020-08-29T14:39:01.386212Z",
     "start_time": "2020-08-29T14:39:01.350316Z"
    }
   },
   "outputs": [],
   "source": [
    "teste = NewTable[['min_depth','family','order', 'start_year', 'qualifier', 'catalog_number', \n",
    "                  'genus', 'species',  'collector_full_name',\n",
    "                            'country', 'state', 'locality']].copy()\n",
    "\n",
    "# making sure altitude is a floating point number\n",
    "teste['min_depth'] = teste['min_depth'].astype(float)\n",
    "teste['genus'] = teste['genus'].str.capitalize()\n",
    "\n",
    "# sorting\n",
    "teste = teste.sort_values(['min_depth','genus'])\n",
    "\n",
    "# dropping na\n",
    "teste = teste.dropna(subset=['min_depth'])\n",
    "\n",
    "# extremes for y axis\n",
    "max_y = teste['min_depth'].max()\n",
    "min_y = teste['min_depth'].min()"
   ]
  },
  {
   "cell_type": "code",
   "execution_count": 60,
   "metadata": {
    "ExecuteTime": {
     "end_time": "2020-08-29T14:39:04.322717Z",
     "start_time": "2020-08-29T14:39:03.915673Z"
    }
   },
   "outputs": [],
   "source": [
    "# ordering x-axis per mean altitude - OUTLIER: ordem nula\n",
    "temp = alt.Chart(teste, title='Depth per genus',\n",
    "                width= 1500).mark_circle().encode(\n",
    "    x = alt.X('genus', type='nominal', title='Genus',\n",
    "             sort=alt.EncodingSortField('min_depth', op=\"max\", order=\"ascending\")),\n",
    "    y = alt.Y('min_depth', type='quantitative', title='Depth (in meters)',\n",
    "              scale= alt.Scale(domain= [max_y, min_y])),\n",
    "    color = alt.Color('family:N', title='Family',\n",
    "                      scale= alt.Scale(domain=list(cores_familia.keys()), range=list(cores_familia.values())),\n",
    "                      legend= alt.Legend(columns=2, symbolLimit=42)),\n",
    "    tooltip = alt.Tooltip(['catalog_number', 'family', 'genus','species',\n",
    "                            'qualifier', 'start_year','collector_full_name',\n",
    "                            'country', 'state', 'locality', 'min_depth'])\n",
    ")\n",
    "\n",
    "temp = temp.configure_title(fontSize=16).configure_axis(\n",
    "    labelFontSize=12,\n",
    "    titleFontSize=12\n",
    ").configure_legend(\n",
    "    labelFontSize=12,\n",
    "    titleFontSize=12,\n",
    "#     orient='bottom'\n",
    ")\n",
    "\n",
    "# temp.save('./graphs/depth/genus/depth-per-genus.html')\n",
    "# temp"
   ]
  },
  {
   "cell_type": "markdown",
   "metadata": {},
   "source": [
    "<br>\n",
    "\n",
    "## Separating per Min Depth\n",
    "\n",
    "<font color='red' size=4>Separando grupos de \"maior profundidade\"</font>\n"
   ]
  },
  {
   "cell_type": "code",
   "execution_count": 48,
   "metadata": {
    "ExecuteTime": {
     "end_time": "2020-08-29T14:38:24.992197Z",
     "start_time": "2020-08-29T14:38:24.602139Z"
    }
   },
   "outputs": [],
   "source": [
    "genus = teste['genus'].unique()\n",
    "\n",
    "d = defaultdict()\n",
    "\n",
    "for gen in genus:\n",
    "    depth = teste[teste['genus'] == gen]['min_depth'].max()\n",
    "    d[gen] = depth\n",
    "        \n",
    "d = pd.DataFrame(dict(d), index=[0]).transpose().reset_index()\n",
    "d.columns = ['genus', 'max_depth']"
   ]
  },
  {
   "cell_type": "code",
   "execution_count": 49,
   "metadata": {
    "ExecuteTime": {
     "end_time": "2020-08-29T14:38:37.177639Z",
     "start_time": "2020-08-29T14:38:37.169555Z"
    }
   },
   "outputs": [],
   "source": [
    "# divisão entre marés (sugerido pelo pessoal do Museu)\n",
    "threshold = 200\n",
    "\n",
    "# maior profundidade (>= 500m)\n",
    "grupo1 = d[d['max_depth'] > threshold]['genus']\n",
    "\n",
    "# menor profundidade\n",
    "grupo2 = d[d['max_depth'] <= threshold]['genus']"
   ]
  },
  {
   "cell_type": "markdown",
   "metadata": {},
   "source": [
    "#### grupo de maior profundidade"
   ]
  },
  {
   "cell_type": "code",
   "execution_count": 50,
   "metadata": {
    "ExecuteTime": {
     "end_time": "2020-08-29T14:39:16.522949Z",
     "start_time": "2020-08-29T14:39:16.210532Z"
    }
   },
   "outputs": [],
   "source": [
    "# ordering x-axis per mean altitude\n",
    "temp = alt.Chart(teste[teste['genus'].isin(grupo1)], width= 800,\n",
    "                 title='Depth per genus').mark_circle().encode(\n",
    "    x = alt.X('genus', type='nominal', title='Genus',\n",
    "             sort=alt.EncodingSortField('min_depth', op='max', order=\"ascending\")),\n",
    "    y = alt.Y('min_depth', type='quantitative', title='Depth (in meters)', \n",
    "              scale= alt.Scale(domain=[max_y, 0])),\n",
    "    color = alt.Color('family:N', title='Family',\n",
    "                      scale= alt.Scale(domain=list(cores_familia.keys()), range=list(cores_familia.values())),\n",
    "                      legend= alt.Legend(columns=2, symbolLimit=42)),\n",
    "    tooltip = alt.Tooltip(['catalog_number', 'family', 'genus','species',\n",
    "                            'qualifier', 'start_year','collector_full_name',\n",
    "                            'country', 'state', 'locality', 'min_depth'])\n",
    ")\n",
    "\n",
    "temp = temp.configure_title(fontSize=16).configure_axis(\n",
    "    labelFontSize=12,\n",
    "    titleFontSize=12\n",
    ").configure_legend(\n",
    "    labelFontSize=12,\n",
    "    titleFontSize=12\n",
    ")\n",
    "\n",
    "# temp.save('./graphs/depth/genus/depth_per_genus-maior-profundidade.html')\n",
    "# temp"
   ]
  },
  {
   "cell_type": "markdown",
   "metadata": {},
   "source": [
    "#### grupo de menor profundidade\n",
    "\n",
    "menos pontos (generos menos representados)"
   ]
  },
  {
   "cell_type": "code",
   "execution_count": 51,
   "metadata": {
    "ExecuteTime": {
     "end_time": "2020-08-29T14:39:29.130641Z",
     "start_time": "2020-08-29T14:39:28.898715Z"
    },
    "scrolled": false
   },
   "outputs": [],
   "source": [
    "# ordering x-axis per mean altitude\n",
    "temp = alt.Chart(teste[teste['genus'].isin(grupo2)], width= 800,\n",
    "                 title='Depth per genus').mark_circle().encode(\n",
    "    x = alt.X('genus', type='nominal', title='Genus',\n",
    "             sort=alt.EncodingSortField('min_depth', op='max', order=\"ascending\")),\n",
    "    y = alt.Y('min_depth', type='quantitative', title='Depth (in meters)', \n",
    "              scale= alt.Scale(domain=[threshold, 0])),\n",
    "     color = alt.Color('family:N', title='Family',\n",
    "                      scale= alt.Scale(domain=list(cores_familia.keys()), range=list(cores_familia.values())),\n",
    "                      legend= alt.Legend(columns=2, symbolLimit=42)),\n",
    "    tooltip = alt.Tooltip(['catalog_number', 'family', 'genus','species',\n",
    "                            'qualifier', 'start_year','collector_full_name',\n",
    "                            'country', 'state', 'locality', 'min_depth'])\n",
    ")\n",
    "\n",
    "temp = temp.configure_title(fontSize=16).configure_axis(\n",
    "    labelFontSize=12,\n",
    "    titleFontSize=12\n",
    ").configure_legend(\n",
    "    labelFontSize=12,\n",
    "    titleFontSize=12\n",
    ")\n",
    "\n",
    "# temp.save('./graphs/depth/genus/depth_per_genus-menor-profundidade.html')\n",
    "# temp"
   ]
  },
  {
   "cell_type": "markdown",
   "metadata": {},
   "source": [
    "<br>\n",
    "\n",
    "**Thats it!**\n",
    "\n",
    "-----"
   ]
  }
 ],
 "metadata": {
  "kernelspec": {
   "display_name": "Python 3",
   "language": "python",
   "name": "python3"
  },
  "language_info": {
   "codemirror_mode": {
    "name": "ipython",
    "version": 3
   },
   "file_extension": ".py",
   "mimetype": "text/x-python",
   "name": "python",
   "nbconvert_exporter": "python",
   "pygments_lexer": "ipython3",
   "version": "3.8.3"
  },
  "latex_envs": {
   "LaTeX_envs_menu_present": true,
   "autoclose": false,
   "autocomplete": true,
   "bibliofile": "biblio.bib",
   "cite_by": "apalike",
   "current_citInitial": 1,
   "eqLabelWithNumbers": true,
   "eqNumInitial": 1,
   "hotkeys": {
    "equation": "Ctrl-E",
    "itemize": "Ctrl-I"
   },
   "labels_anchors": false,
   "latex_user_defs": false,
   "report_style_numbering": false,
   "user_envs_cfg": false
  },
  "toc": {
   "base_numbering": 1,
   "nav_menu": {},
   "number_sections": false,
   "sideBar": true,
   "skip_h1_title": false,
   "title_cell": "Table of Contents",
   "title_sidebar": "Contents",
   "toc_cell": false,
   "toc_position": {},
   "toc_section_display": true,
   "toc_window_display": false
  },
  "varInspector": {
   "cols": {
    "lenName": 16,
    "lenType": 16,
    "lenVar": 40
   },
   "kernels_config": {
    "python": {
     "delete_cmd_postfix": "",
     "delete_cmd_prefix": "del ",
     "library": "var_list.py",
     "varRefreshCmd": "print(var_dic_list())"
    },
    "r": {
     "delete_cmd_postfix": ") ",
     "delete_cmd_prefix": "rm(",
     "library": "var_list.r",
     "varRefreshCmd": "cat(var_dic_list()) "
    }
   },
   "position": {
    "height": "391.35px",
    "left": "900.5px",
    "right": "20px",
    "top": "96px",
    "width": "536.5px"
   },
   "types_to_exclude": [
    "module",
    "function",
    "builtin_function_or_method",
    "instance",
    "_Feature"
   ],
   "window_display": false
  }
 },
 "nbformat": 4,
 "nbformat_minor": 2
}
