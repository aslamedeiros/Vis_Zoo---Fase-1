{
 "cells": [
  {
   "cell_type": "markdown",
   "metadata": {},
   "source": [
    "# Type charts\n",
    "\n",
    "By **Franklin Oliveira**\n",
    "\n",
    "-----\n",
    "This notebook contains all code necessary to make the \"type\" charts from `poliqueta` database. Here you'll find some basic data treatment and charts' code. \n",
    "\n",
    "Database: <font color='blue'>'IBUFRJ27.07.2020 - visualização.xlsx'</font> and <font color='blue'>'MNRJP27.07.2020 - visualização.xls'</font>."
   ]
  },
  {
   "cell_type": "code",
   "execution_count": 1,
   "metadata": {
    "ExecuteTime": {
     "end_time": "2021-02-16T04:44:38.569094Z",
     "start_time": "2021-02-16T04:44:37.569533Z"
    }
   },
   "outputs": [
    {
     "data": {
      "text/plain": [
       "DataTransformerRegistry.enable('default')"
      ]
     },
     "execution_count": 1,
     "metadata": {},
     "output_type": "execute_result"
    }
   ],
   "source": [
    "import datetime\n",
    "import numpy as np\n",
    "import pandas as pd\n",
    "\n",
    "from collections import defaultdict\n",
    "\n",
    "# pacotes para visualização rápida\n",
    "import seaborn as sns\n",
    "import matplotlib.pyplot as plt\n",
    "\n",
    "# pacote para visualização principal\n",
    "import altair as alt\n",
    "\n",
    "# habilitando renderizador para notebook\n",
    "# alt.renderers.enable('notebook')\n",
    "alt.renderers.enable('default')\n",
    "\n",
    "\n",
    "# desabilitando limite de linhas\n",
    "alt.data_transformers.disable_max_rows()"
   ]
  },
  {
   "cell_type": "markdown",
   "metadata": {},
   "source": [
    "## Importing data..."
   ]
  },
  {
   "cell_type": "code",
   "execution_count": 2,
   "metadata": {
    "ExecuteTime": {
     "end_time": "2021-02-16T04:44:38.757935Z",
     "start_time": "2021-02-16T04:44:38.664948Z"
    }
   },
   "outputs": [],
   "source": [
    "NewTable = pd.read_csv('./data/merged_db.csv', sep=';', encoding='utf-8-sig')"
   ]
  },
  {
   "cell_type": "code",
   "execution_count": 3,
   "metadata": {
    "ExecuteTime": {
     "end_time": "2021-02-16T04:44:39.192962Z",
     "start_time": "2021-02-16T04:44:39.185862Z"
    }
   },
   "outputs": [],
   "source": [
    "# formatando a string NaN\n",
    "NewTable['family'] = NewTable['family'].apply(lambda x: 'NaN' if x=='Nan' else x)"
   ]
  },
  {
   "cell_type": "markdown",
   "metadata": {},
   "source": [
    "<br>\n",
    "\n",
    "<font size=5>**Color Palette**</font>"
   ]
  },
  {
   "cell_type": "code",
   "execution_count": 4,
   "metadata": {
    "ExecuteTime": {
     "end_time": "2021-02-16T04:44:41.331115Z",
     "start_time": "2021-02-16T04:44:41.324459Z"
    }
   },
   "outputs": [],
   "source": [
    "# importing customized color palette\n",
    "from src.MNViz_colors import *"
   ]
  },
  {
   "cell_type": "markdown",
   "metadata": {},
   "source": [
    "<br>\n",
    "\n",
    "\n",
    "## Graphs\n",
    "\n",
    "---\n",
    "\n",
    "### Types (*per year*) per genus\n",
    "\n",
    "x: Species1, cor: Type Status1, size: counts"
   ]
  },
  {
   "cell_type": "code",
   "execution_count": 5,
   "metadata": {
    "ExecuteTime": {
     "end_time": "2021-02-16T04:44:43.576152Z",
     "start_time": "2021-02-16T04:44:43.563108Z"
    }
   },
   "outputs": [
    {
     "data": {
      "text/plain": [
       "Paratype    119\n",
       "Holotype     35\n",
       "Neotype       1\n",
       "Name: type, dtype: int64"
      ]
     },
     "execution_count": 5,
     "metadata": {},
     "output_type": "execute_result"
    }
   ],
   "source": [
    "# p.s.: the large majority is non-type\n",
    "NewTable['type'].value_counts()"
   ]
  },
  {
   "cell_type": "code",
   "execution_count": 6,
   "metadata": {
    "ExecuteTime": {
     "end_time": "2021-02-16T04:44:46.302290Z",
     "start_time": "2021-02-16T04:44:46.274630Z"
    }
   },
   "outputs": [],
   "source": [
    "# subsetting\n",
    "teste = NewTable[['min_depth','family','order', 'start_year', 'qualifier', 'catalog_number', \n",
    "                  'genus', 'species', 'type']].copy()\n",
    "\n",
    "# grouping by type, year and order\n",
    "temp = teste.groupby(['type','start_year', 'family']).count()['species'].reset_index().rename(columns={\n",
    "    'species':'counts'\n",
    "})\n",
    "\n",
    "# p.s.: Cótipo and Topótipo are not types\n",
    "temp = temp[(temp['type'] != 'Cótipo') & (temp['type'] != 'Topótipo')]"
   ]
  },
  {
   "cell_type": "markdown",
   "metadata": {},
   "source": [
    "### Gráf. de Tipos"
   ]
  },
  {
   "cell_type": "code",
   "execution_count": 24,
   "metadata": {
    "ExecuteTime": {
     "end_time": "2021-02-16T04:51:36.603484Z",
     "start_time": "2021-02-16T04:51:36.567498Z"
    }
   },
   "outputs": [],
   "source": [
    "# selector\n",
    "select_family = alt.selection_multi(fields= ['family'], bind='legend')\n",
    "\n",
    "# database\n",
    "db = temp\n",
    "\n",
    "# auxiliar variables for encoding charts\n",
    "x_labels = db.sort_values('start_year')['start_year'].unique()\n",
    "y_labels = db.groupby('type').sum().reset_index().sort_values('counts')['type'].unique()[::-1]\n",
    "counts = db['counts'].unique()\n",
    "counts = list(range(min(counts), 20, 1))\n",
    "\n",
    "tipo = alt.Chart(temp, height=150,width=600, title='Types per year').mark_circle().encode(\n",
    "    x = alt.X('start_year:O', title='Sampling Year',\n",
    "              scale= alt.Scale(domain= x_labels)),\n",
    "    y = alt.Y('type:N', title= 'Types',\n",
    "              scale= alt.Scale(domain= y_labels),\n",
    "              sort=alt.EncodingSortField('counts', op='sum', order='descending')),\n",
    "    color= alt.Color('family:N', title='Family',\n",
    "                     scale=alt.Scale(domain=list(cores_familia.keys()), \n",
    "                                     range=list(cores_familia.values())),\n",
    "                     legend= alt.Legend(columns=4, symbolLimit=102,\n",
    "                                       direction='horizontal', orient='bottom')), \n",
    "    size= alt.Size('counts', title='Counts',\n",
    "                   scale= alt.Scale(domain= counts, range=[20, 50]),\n",
    "                   legend= alt.Legend(orient='bottom', direction='horizontal')),\n",
    "    order= alt.Order('counts', sort='descending'),  # smaller points in front\n",
    "    tooltip= [alt.Tooltip('type', title='Tipo'),\n",
    "              alt.Tooltip('start_year', title='Ano de Coleta'),\n",
    "              alt.Tooltip('counts', title='Contagem')]\n",
    ").add_selection(select_family).transform_filter(select_family)\n",
    "\n",
    "tipo = tipo.configure_title(fontSize=16).configure_axis(\n",
    "    labelFontSize=12,\n",
    "    titleFontSize=12\n",
    ").configure_legend(\n",
    "    labelFontSize=12,\n",
    "    titleFontSize=12\n",
    ")\n",
    "\n",
    "# tipo.save('./graphs/type/types_per_year.html')\n",
    "# tipo"
   ]
  },
  {
   "cell_type": "markdown",
   "metadata": {},
   "source": [
    "## Types per Genus \n",
    "\n",
    "same graph as above, with gender on Y axis and colored by type"
   ]
  },
  {
   "cell_type": "code",
   "execution_count": 25,
   "metadata": {
    "ExecuteTime": {
     "end_time": "2021-02-16T04:51:56.591613Z",
     "start_time": "2021-02-16T04:51:56.569747Z"
    }
   },
   "outputs": [],
   "source": [
    "# subsetting\n",
    "teste = NewTable[['min_depth','family','order', 'start_year', 'qualifier', 'catalog_number', \n",
    "                  'genus', 'species', 'type']].copy()\n",
    "\n",
    "# grouping by type, year and order\n",
    "temp = teste.groupby(['type','start_year', 'genus', 'family']).count()['order'].reset_index().rename(columns={\n",
    "    'order':'counts'\n",
    "})\n",
    "\n",
    "# p.s.: Cótipo and Topótipo are not types\n",
    "temp = temp[(temp['type'] != 'Cótipo') & (temp['type'] != 'Topótipo')]"
   ]
  },
  {
   "cell_type": "code",
   "execution_count": 26,
   "metadata": {
    "ExecuteTime": {
     "end_time": "2021-02-16T04:51:57.481782Z",
     "start_time": "2021-02-16T04:51:57.476528Z"
    }
   },
   "outputs": [],
   "source": [
    "cores_padrao = ['#e45756', '#4c78a8', '#f58518']\n",
    "tipos = ['Holotype', 'Paratype', 'Neotype']"
   ]
  },
  {
   "cell_type": "code",
   "execution_count": 46,
   "metadata": {
    "ExecuteTime": {
     "end_time": "2021-02-16T04:58:24.396400Z",
     "start_time": "2021-02-16T04:58:24.351417Z"
    }
   },
   "outputs": [],
   "source": [
    "select_type = alt.selection_multi(fields= ['type'], bind='legend')\n",
    "select_family = alt.selection_multi(fields= ['family'], bind='legend')\n",
    "\n",
    "# filtering out non types\n",
    "db = temp[temp['type'] != 'nan']\n",
    "\n",
    "# encoding labels\n",
    "x_labels = db.sort_values('start_year')['start_year'].unique()\n",
    "y_labels = db.groupby('genus').sum().reset_index().sort_values('counts')['genus'].unique()[::-1]\n",
    "types = db['type'].unique()\n",
    "counts = db['counts'].unique()\n",
    "counts = [counts.min(), counts.max()]\n",
    "families = db['family'].unique()\n",
    "\n",
    "tipo = alt.Chart(db, height=500, width= 400, title='Types per Genus').mark_point(filled=False).encode(\n",
    "    x = alt.X('start_year:O', title='Sampling Year',\n",
    "              scale= alt.Scale(domain=x_labels)),\n",
    "    y = alt.Y('genus:N', title= 'Genus',\n",
    "              sort=alt.EncodingSortField('counts', op='count', order='descending'),\n",
    "              scale= alt.Scale(domain=y_labels)),\n",
    "    color= alt.Color('family:N', title='Family',\n",
    "                    scale= alt.Scale(domain=list(cores_familia.keys()),\n",
    "                                     range=list(cores_familia.values())),\n",
    "                    legend= alt.Legend(columns=2, symbolLimit=102, symbolType= 'circle')), \n",
    "    size= alt.Size('counts', title= 'Counts',scale= alt.Scale(domain= counts, range=[20,220]),\n",
    "                   legend= alt.Legend(orient= 'right', direction= 'horizontal')),\n",
    "    order= alt.Order('counts', title='Counts', sort='descending'),  # smaller points in front\n",
    "    shape= alt.Shape('type:N', title='Types', \n",
    "                     legend= alt.Legend(columns=4),\n",
    "                     scale= alt.Scale(domain=['Holotype', 'Neotype','Paratype'],\n",
    "                                      range=['triangle', 'square', 'cross'])),\n",
    "     tooltip= [alt.Tooltip('genus', title='genus'),\n",
    "              alt.Tooltip('type', title='type_status'),\n",
    "              alt.Tooltip('start_year', title='start_year'),\n",
    "              alt.Tooltip('counts', title='counts')]\n",
    ").add_selection(select_type, select_family).transform_filter(select_type).transform_filter(select_family)\n",
    "\n",
    "tipo = tipo.configure_title(fontSize=16).configure_axis(\n",
    "    labelFontSize=12,\n",
    "    titleFontSize=12\n",
    ").configure_legend(\n",
    "    labelFontSize=12,\n",
    "    titleFontSize=12\n",
    ")\n",
    "\n",
    "# tipo.save('./graphs/type/types_per_genus.html')\n",
    "# tipo"
   ]
  },
  {
   "cell_type": "markdown",
   "metadata": {},
   "source": [
    "### rearranging by the first year of appearance"
   ]
  },
  {
   "cell_type": "code",
   "execution_count": 47,
   "metadata": {
    "ExecuteTime": {
     "end_time": "2021-02-16T04:58:49.971402Z",
     "start_time": "2021-02-16T04:58:49.936179Z"
    }
   },
   "outputs": [],
   "source": [
    "genus_order = list(temp.groupby(['genus']).min()['start_year'].reset_index().sort_values('start_year')['genus'])"
   ]
  },
  {
   "cell_type": "code",
   "execution_count": 56,
   "metadata": {
    "ExecuteTime": {
     "end_time": "2021-02-16T05:01:24.324063Z",
     "start_time": "2021-02-16T05:01:24.281025Z"
    }
   },
   "outputs": [],
   "source": [
    "select_type = alt.selection_multi(fields= ['type'], bind='legend')\n",
    "select_family = alt.selection_multi(fields= ['family'], bind='legend')\n",
    "\n",
    "# filtering out non types\n",
    "db = temp[temp['type'] != 'nan'].sort_values('start_year')\n",
    "\n",
    "# encoding labels\n",
    "x_labels = db['start_year'].unique()\n",
    "y_labels = db['genus'].unique()\n",
    "types = db['type'].unique()\n",
    "counts = db['counts'].unique()\n",
    "counts = [counts.min(), counts.max()]\n",
    "families = db['family'].unique()\n",
    "\n",
    "tipo = alt.Chart(db, height=500, width= 400, title='Types per Genus').mark_point(filled=False).encode(\n",
    "    x = alt.X('start_year:O', title='Sampling Year',\n",
    "              scale= alt.Scale(domain=x_labels)),\n",
    "    y = alt.Y('genus:N', title= 'Genus',\n",
    "              sort=genus_order,\n",
    "              scale= alt.Scale(domain=y_labels)),\n",
    "    color= alt.Color('family:N', title='Family',\n",
    "                    scale= alt.Scale(domain=list(cores_familia.keys()),\n",
    "                                     range=list(cores_familia.values())),\n",
    "                    legend= alt.Legend(columns=2, symbolLimit=102, symbolType= 'circle')), \n",
    "    size= alt.Size('counts', title='Counts', scale= alt.Scale(domain= counts, range=[20,220]),\n",
    "                   legend= alt.Legend(orient= 'right', direction= 'horizontal')),\n",
    "    order= alt.Order('counts', sort='descending'),  # smaller points in front\n",
    "    shape= alt.Shape('type:N', title='Types', \n",
    "                     legend= alt.Legend(columns=4),\n",
    "                     scale= alt.Scale(domain=['Holotype', 'Neotype','Paratype'],\n",
    "                                      range=['triangle', 'square', 'cross'])),\n",
    "    tooltip= [alt.Tooltip('type', title='type_status'),\n",
    "              alt.Tooltip('start_year', title='start_year'),\n",
    "              alt.Tooltip('counts', title='counts')]\n",
    ").add_selection(select_type, select_family).transform_filter(select_type).transform_filter(select_family)\n",
    "\n",
    "tipo = tipo.configure_title(fontSize=16).configure_axis(\n",
    "    labelFontSize=12,\n",
    "    titleFontSize=12\n",
    ").configure_legend(\n",
    "    labelFontSize=12,\n",
    "    titleFontSize=12\n",
    ")\n",
    "\n",
    "# tipo.save('./graphs/type/types_per_genus-rearranged.html')\n",
    "# tipo"
   ]
  },
  {
   "cell_type": "markdown",
   "metadata": {},
   "source": [
    "## Types per determiner"
   ]
  },
  {
   "cell_type": "code",
   "execution_count": 57,
   "metadata": {
    "ExecuteTime": {
     "end_time": "2021-02-16T05:01:28.281981Z",
     "start_time": "2021-02-16T05:01:28.251748Z"
    }
   },
   "outputs": [],
   "source": [
    "# subsetting\n",
    "teste = NewTable[['min_depth','family','order', 'start_year', 'qualifier', 'catalog_number', \n",
    "                  'determiner_full_name', 'species', 'type']].copy()\n",
    "\n",
    "# grouping by type, year and order\n",
    "temp = teste.groupby(['type','start_year', 'determiner_full_name', 'family']).count()['order'].reset_index().rename(columns={\n",
    "    'order':'counts'\n",
    "})\n",
    "\n",
    "# p.s.: Cótipo and Topótipo are not types\n",
    "temp = temp[(temp['type'] != 'Cótipo') & (temp['type'] != 'Topótipo')]"
   ]
  },
  {
   "cell_type": "code",
   "execution_count": 58,
   "metadata": {
    "ExecuteTime": {
     "end_time": "2021-02-16T05:01:28.783401Z",
     "start_time": "2021-02-16T05:01:28.753696Z"
    }
   },
   "outputs": [],
   "source": [
    "determiner_order = list(temp.groupby(['determiner_full_name']).min(\n",
    "    )['start_year'].reset_index().sort_values('start_year')['determiner_full_name'])"
   ]
  },
  {
   "cell_type": "code",
   "execution_count": 70,
   "metadata": {
    "ExecuteTime": {
     "end_time": "2021-02-16T05:04:29.747343Z",
     "start_time": "2021-02-16T05:04:29.711019Z"
    }
   },
   "outputs": [],
   "source": [
    "select_type = alt.selection_multi(fields= ['type'], bind='legend')\n",
    "select_family = alt.selection_multi(fields= ['family'], bind='legend')\n",
    "\n",
    "# filtering out non types\n",
    "db = temp[temp['type'] != 'nan'].sort_values('start_year')\n",
    "\n",
    "# encoding labels\n",
    "x_labels = db.sort_values('start_year')['start_year'].unique()\n",
    "y_labels = db['determiner_full_name'].unique()\n",
    "types = db['type'].unique()\n",
    "counts = db['counts'].unique()\n",
    "counts = [counts.min(), counts.max()]\n",
    "families = db['family'].unique()\n",
    "\n",
    "tipo = alt.Chart(db, height=500, width= 400, title='Types per Determiner').mark_point(filled=False).encode(\n",
    "    x = alt.X('start_year:O', title='Sampling Year', \n",
    "             scale= alt.Scale(domain=x_labels)),\n",
    "    y = alt.Y('determiner_full_name:N', title= 'Determiner',\n",
    "              sort=determiner_order, \n",
    "              scale= alt.Scale(domain= y_labels)),\n",
    "    color= alt.Color('family:N', title='Family',\n",
    "                    scale= alt.Scale(domain=list(cores_familia.keys()), \n",
    "                                     range=list(cores_familia.values())),\n",
    "                    legend= alt.Legend(columns=2, symbolLimit=102)), \n",
    "    size= alt.Size('counts:Q', title='Counts', scale=alt.Scale(domain= counts, range=[20,220]),\n",
    "                   legend= alt.Legend(orient= 'right', direction='horizontal')),\n",
    "    order= alt.Order('counts', sort='descending'),  # smaller points in front\n",
    "    shape= alt.Shape('type:N', title='Types', \n",
    "                     legend= alt.Legend(columns=4),\n",
    "                     scale= alt.Scale(domain=['Holotype', 'Neotype','Paratype'],\n",
    "                                      range=['triangle', 'square', 'cross'])),\n",
    "    tooltip= [alt.Tooltip('determiner_full_name', title='determiner'),\n",
    "              alt.Tooltip('type', title='type_status'),\n",
    "              alt.Tooltip('start_year', title='start_year'),\n",
    "              alt.Tooltip('counts', title='counts')]\n",
    ").add_selection(select_type, select_family).transform_filter(select_type).transform_filter(select_family)\n",
    "\n",
    "tipo = tipo.configure_title(fontSize=16).configure_axis(\n",
    "    labelFontSize=12,\n",
    "    titleFontSize=12\n",
    ").configure_legend(\n",
    "    labelFontSize=12,\n",
    "    titleFontSize=12\n",
    ")\n",
    "\n",
    "# tipo.save('./graphs/type/types_per_determiner-rearranged.html')\n",
    "# tipo"
   ]
  },
  {
   "cell_type": "markdown",
   "metadata": {},
   "source": [
    "## Types per family"
   ]
  },
  {
   "cell_type": "code",
   "execution_count": 71,
   "metadata": {
    "ExecuteTime": {
     "end_time": "2021-02-16T05:04:42.659376Z",
     "start_time": "2021-02-16T05:04:42.627440Z"
    }
   },
   "outputs": [],
   "source": [
    "# subsetting\n",
    "teste = NewTable[['min_depth','family','order', 'start_year', 'qualifier', 'catalog_number', \n",
    "                  'genus', 'species', 'type']].copy()\n",
    "\n",
    "# grouping by type, year and order\n",
    "temp = teste.groupby(['type','start_year', 'family', 'order']).count()['genus'].reset_index().rename(columns={\n",
    "    'genus':'counts'\n",
    "})\n",
    "\n",
    "# p.s.: Cótipo and Topótipo are not types\n",
    "temp = temp[(temp['type'] != 'Cótipo') & (temp['type'] != 'Topótipo')]"
   ]
  },
  {
   "cell_type": "code",
   "execution_count": 72,
   "metadata": {
    "ExecuteTime": {
     "end_time": "2021-02-16T05:04:42.900331Z",
     "start_time": "2021-02-16T05:04:42.880349Z"
    }
   },
   "outputs": [],
   "source": [
    "family_order = list(temp.groupby(['family']).min(\n",
    "    )['start_year'].reset_index().sort_values('start_year')['family'])"
   ]
  },
  {
   "cell_type": "code",
   "execution_count": 82,
   "metadata": {
    "ExecuteTime": {
     "end_time": "2021-02-16T05:08:02.274952Z",
     "start_time": "2021-02-16T05:08:02.236604Z"
    }
   },
   "outputs": [],
   "source": [
    "select_type = alt.selection_multi(fields= ['type'], bind='legend')\n",
    "select_family = alt.selection_multi(fields= ['family'], bind='legend')\n",
    "\n",
    "# filtering out non types\n",
    "db = temp[temp['type'] != 'nan'].sort_values('start_year')\n",
    "\n",
    "# aux. variables for encoding labels\n",
    "x_labels = db.sort_values('start_year')['start_year'].unique()\n",
    "y_labels = db['family'].unique()\n",
    "types = db['type'].unique()\n",
    "counts = db['counts'].unique()\n",
    "counts = [counts.min(), counts.max()]\n",
    "families = db['family'].unique()\n",
    "\n",
    "tipo = alt.Chart(db, height=500, width= 400, title='Types per Family').mark_point(filled=False).encode(\n",
    "    x = alt.X('start_year:O', title='Sampling Year',\n",
    "              scale= alt.Scale(domain=x_labels)),\n",
    "    y = alt.Y('family:N', title= 'Family',\n",
    "              sort=family_order,\n",
    "              scale= alt.Scale(domain=y_labels)),\n",
    "    color= alt.Color('family:N', title='Family',\n",
    "                    scale= alt.Scale(domain=list(cores_familia.keys()), \n",
    "                                     range=list(cores_familia.values())),\n",
    "                    legend= alt.Legend(columns=2, symbolLimit=102)), \n",
    "    size= alt.Size('counts:Q', title='Counts', scale=alt.Scale(domain= counts, range=[20,320]),\n",
    "                   legend= alt.Legend(orient= 'right', direction= 'horizontal')),\n",
    "    order= alt.Order('counts', sort='descending'),  # smaller points in front\n",
    "    shape= alt.Shape('type:N', title='Types', \n",
    "                     legend= alt.Legend(columns=4),\n",
    "                     scale= alt.Scale(domain=['Holotype', 'Neotype','Paratype'],\n",
    "                                      range=['triangle', 'square', 'cross'])),\n",
    "    tooltip= [alt.Tooltip('family', title='family'),\n",
    "              alt.Tooltip('type', title='type'),\n",
    "              alt.Tooltip('start_year', title='start_year'),\n",
    "              alt.Tooltip('counts', title='counts')]\n",
    ").add_selection(select_type, select_family).transform_filter(select_type).transform_filter(select_family)\n",
    "\n",
    "tipo = tipo.configure_title(fontSize=16).configure_axis(\n",
    "    labelFontSize=12,\n",
    "    titleFontSize=12\n",
    ").configure_legend(\n",
    "    labelFontSize=12,\n",
    "    titleFontSize=12\n",
    ")\n",
    "\n",
    "# tipo.save('./graphs/type/types_per_family.html')\n",
    "# tipo"
   ]
  },
  {
   "cell_type": "markdown",
   "metadata": {},
   "source": [
    "<br>\n",
    "\n",
    "**The end!**\n",
    "\n",
    "-----"
   ]
  }
 ],
 "metadata": {
  "kernelspec": {
   "display_name": "Python 3",
   "language": "python",
   "name": "python3"
  },
  "language_info": {
   "codemirror_mode": {
    "name": "ipython",
    "version": 3
   },
   "file_extension": ".py",
   "mimetype": "text/x-python",
   "name": "python",
   "nbconvert_exporter": "python",
   "pygments_lexer": "ipython3",
   "version": "3.9.1"
  },
  "latex_envs": {
   "LaTeX_envs_menu_present": true,
   "autoclose": false,
   "autocomplete": true,
   "bibliofile": "biblio.bib",
   "cite_by": "apalike",
   "current_citInitial": 1,
   "eqLabelWithNumbers": true,
   "eqNumInitial": 1,
   "hotkeys": {
    "equation": "Ctrl-E",
    "itemize": "Ctrl-I"
   },
   "labels_anchors": false,
   "latex_user_defs": false,
   "report_style_numbering": false,
   "user_envs_cfg": false
  },
  "toc": {
   "base_numbering": 1,
   "nav_menu": {},
   "number_sections": false,
   "sideBar": true,
   "skip_h1_title": false,
   "title_cell": "Table of Contents",
   "title_sidebar": "Contents",
   "toc_cell": false,
   "toc_position": {},
   "toc_section_display": true,
   "toc_window_display": false
  },
  "varInspector": {
   "cols": {
    "lenName": 16,
    "lenType": 16,
    "lenVar": 40
   },
   "kernels_config": {
    "python": {
     "delete_cmd_postfix": "",
     "delete_cmd_prefix": "del ",
     "library": "var_list.py",
     "varRefreshCmd": "print(var_dic_list())"
    },
    "r": {
     "delete_cmd_postfix": ") ",
     "delete_cmd_prefix": "rm(",
     "library": "var_list.r",
     "varRefreshCmd": "cat(var_dic_list()) "
    }
   },
   "position": {
    "height": "391.35px",
    "left": "900.5px",
    "right": "20px",
    "top": "96px",
    "width": "536.5px"
   },
   "types_to_exclude": [
    "module",
    "function",
    "builtin_function_or_method",
    "instance",
    "_Feature"
   ],
   "window_display": false
  }
 },
 "nbformat": 4,
 "nbformat_minor": 2
}
