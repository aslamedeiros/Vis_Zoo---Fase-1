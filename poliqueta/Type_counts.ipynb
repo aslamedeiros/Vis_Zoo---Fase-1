{
 "cells": [
  {
   "cell_type": "markdown",
   "metadata": {},
   "source": [
    "# Type charts\n",
    "\n",
    "By **Franklin Oliveira**\n",
    "\n",
    "-----\n",
    "This notebook contains all code necessary to make the \"type\" charts from `poliqueta` database. Here you'll find some basic data treatment and charts' code. \n",
    "\n",
    "Database: <font color='blue'>'IBUFRJ27.07.2020 - visualização.xlsx'</font> and <font color='blue'>'MNRJP27.07.2020 - visualização.xls'</font>."
   ]
  },
  {
   "cell_type": "code",
   "execution_count": 1,
   "metadata": {
    "ExecuteTime": {
     "end_time": "2020-08-29T14:43:31.441858Z",
     "start_time": "2020-08-29T14:43:30.351082Z"
    }
   },
   "outputs": [
    {
     "data": {
      "text/plain": [
       "DataTransformerRegistry.enable('default')"
      ]
     },
     "execution_count": 1,
     "metadata": {},
     "output_type": "execute_result"
    }
   ],
   "source": [
    "import datetime\n",
    "import numpy as np\n",
    "import pandas as pd\n",
    "\n",
    "from collections import defaultdict\n",
    "\n",
    "# pacotes para visualização rápida\n",
    "import seaborn as sns\n",
    "import matplotlib.pyplot as plt\n",
    "\n",
    "# pacote para visualização principal\n",
    "import altair as alt\n",
    "\n",
    "# habilitando renderizador para notebook\n",
    "# alt.renderers.enable('notebook')\n",
    "alt.renderers.enable('default')\n",
    "\n",
    "\n",
    "# desabilitando limite de linhas\n",
    "alt.data_transformers.disable_max_rows()"
   ]
  },
  {
   "cell_type": "markdown",
   "metadata": {},
   "source": [
    "## Importing data..."
   ]
  },
  {
   "cell_type": "code",
   "execution_count": 2,
   "metadata": {
    "ExecuteTime": {
     "end_time": "2020-08-29T14:43:31.560572Z",
     "start_time": "2020-08-29T14:43:31.444783Z"
    }
   },
   "outputs": [],
   "source": [
    "NewTable = pd.read_csv('./data/merged_db.csv', sep=';', encoding='utf-8-sig')"
   ]
  },
  {
   "cell_type": "markdown",
   "metadata": {},
   "source": [
    "<br>\n",
    "\n",
    "<font size=5>**Color Palette per Order**</font>\n",
    "\n",
    "These images were used as inspiration (https://color.adobe.com/create/image)\n",
    "\n",
    "\n",
    "<div class='row' style='padding-top:20px;'>\n",
    "    <div class='col-md-6'>\n",
    "        <img src=\"./src/img1.jpg\" width='400px'>\n",
    "    </div>\n",
    "    <div class='col-md-6'>\n",
    "        <img src=\"./src/img2.jpg\" width='400px'>\n",
    "    </div>\n",
    "</div>\n",
    "\n",
    "<br>\n",
    "\n",
    "**Colors:** \n",
    "\n",
    "<ul>\n",
    "    <li style='color:#41A681'><b> #41A681 </b># verde</li>\n",
    "    <li style='color:#7ACAAB'><b> #7ACAAB </b># verde claro</li>\n",
    "    <li style='color:#78a1a1'><b> #78a1a1 </b># azul</li>\n",
    "    <li style='color:#8ABFB0'><b> #8ABFB0 </b># azul claro</li>\n",
    "    <li style='color:#FFB27C'><b> #FFB27C </b># cor de pele clara</li>\n",
    "    <li style='color:#F29877'><b> #F29877 </b># cor de pele</li>\n",
    "    <li style='color:#ed845e'><b> #ed845e </b># laranja claro1</li>\n",
    "    <li style='color:#D96236'><b> #D96236 </b># laranja claro2</li>\n",
    "    <li style='color:#D95323'><b> #D95323 </b># laranja 1</li>\n",
    "    <li style='color:#D94B18'><b> #D94B18 </b># laranja 2</li>\n",
    "    <li style='color:#D9C2AD'><b> #D9C2AD </b># bege</li>\n",
    "    <li style='color:#A66C4B'><b> #A66C4B </b># marrom claro</li>\n",
    "    <li style='color:#86471B'><b> #86471B </b># marrom1</li>\n",
    "    <li style='color:#732C02'><b> #732C02 </b># marrom2</li>\n",
    "    <li style='color:#592202'><b> #592202 </b># marrom escuro1</li>\n",
    "    <li style='color:#3D1806'><b> #3D1806 </b># marrom escuro2</li>\n",
    "    <li style='color:#0D0D0D'><b> #0D0D0D </b># preto</li>\n",
    "</ul>\n",
    "\n"
   ]
  },
  {
   "cell_type": "code",
   "execution_count": 3,
   "metadata": {},
   "outputs": [],
   "source": [
    "# determinando cores de acordo com a planilha (2020.10.01 - IB e MN - Cores visualização.xlsx)\n",
    "ordens = NewTable['order'].unique()\n",
    "\n",
    "# o agrupamento é feito por famílias (ordem daquelas famílias deve assumir certa cor)\n",
    "cores_ordem = {\n",
    "    'Spionida':'#41A681',   # verde\n",
    "    'Sabellida':'#7ACAAB',  # verde claro\n",
    "    'Canalipalpata':'#78a1a1',  # azul\n",
    "    'Amphinomida':'#8ABFB0',  # azul claro\n",
    "    'Eunicida':'#A66C4B', # marrom claro\n",
    "    'Phyllodocida':'#732C02', # marrom2\n",
    "    'Terebellida':'#ed845e', # laranja claro1\n",
    "    'Scolecida':'#D94B18', # laranja 2\n",
    "    np.NAN:'#0D0D0D',  # preto\n",
    "    \n",
    "    # ordens não citadas na planilha:\n",
    "    'Sipuncula':'#D9C2AD', # bege\n",
    "    'Crassiclitellata':'#FFB27C', # cor de pele clara\n",
    "    'Aspidosiphonida':'#F29877',  # cor de pele\n",
    "    \n",
    "}"
   ]
  },
  {
   "cell_type": "code",
   "execution_count": 4,
   "metadata": {
    "ExecuteTime": {
     "end_time": "2020-08-29T14:43:31.583386Z",
     "start_time": "2020-08-29T14:43:31.566275Z"
    }
   },
   "outputs": [],
   "source": [
    "# paleta de cores ANTIGA\n",
    "\n",
    "# ordens = NewTable['order'].unique()\n",
    "# cores = [\n",
    "#     '#8ABFB0',  # azul claro\n",
    "#     '#41A681',  # verde\n",
    "#     '#7ACAAB',  # verde claro\n",
    "#     '#D9C2AD',  # bege\n",
    "#     '#0D0D0D',  # preto\n",
    "#     '#D96236',  # laranja\n",
    "#     '#D94B18',  # laranja escuro\n",
    "#     '#FFB27C',  # cor de pele clara\n",
    "#     '#732C02',  # marrom\n",
    "#     '#86471B',  # mostarda\n",
    "    \n",
    "#     # cores novas para Canalipalpata e Aspidosiphonida (a ordem é aleatória. Fixar depois)\n",
    "#     '#592202',\n",
    "#     '#D96236'\n",
    "# ]\n",
    "\n",
    "# cores_ordem = defaultdict()\n",
    "# for j in range(len(ordens)):\n",
    "#     ordem = ordens[j]\n",
    "#     cores_ordem[ordem] = cores[j]\n",
    "    \n",
    "# cores_ordem = dict(cores_ordem)"
   ]
  },
  {
   "cell_type": "markdown",
   "metadata": {},
   "source": [
    "<br>\n",
    "\n",
    "\n",
    "## Graphs\n",
    "\n",
    "---\n",
    "\n",
    "### Types (*per year*) per genus\n",
    "\n",
    "x: Species1, cor: Type Status1, size: counts"
   ]
  },
  {
   "cell_type": "code",
   "execution_count": 5,
   "metadata": {
    "ExecuteTime": {
     "end_time": "2020-08-29T14:43:31.665942Z",
     "start_time": "2020-08-29T14:43:31.588066Z"
    }
   },
   "outputs": [
    {
     "data": {
      "text/plain": [
       "Paratype    119\n",
       "Holotype     35\n",
       "Neotype       1\n",
       "Name: type, dtype: int64"
      ]
     },
     "execution_count": 5,
     "metadata": {},
     "output_type": "execute_result"
    }
   ],
   "source": [
    "# p.s.: the large majority is non-type\n",
    "NewTable['type'].value_counts()"
   ]
  },
  {
   "cell_type": "code",
   "execution_count": 6,
   "metadata": {
    "ExecuteTime": {
     "end_time": "2020-08-29T14:43:31.731143Z",
     "start_time": "2020-08-29T14:43:31.672315Z"
    }
   },
   "outputs": [
    {
     "data": {
      "text/plain": [
       "Index(['Unnamed: 0', 'catalog_number', 'cataloged_date', 'Determined date 1',\n",
       "       'Start Date', 'start_year', 'start_month', 'determined_year',\n",
       "       'determined_month', 'cataloged_month', 'cataloged_year', 'class',\n",
       "       'kingdom', 'genus', 'species', 'family', 'phylum', 'order', 'type',\n",
       "       'author', 'author_year', 'determiner_full_name', 'collector_full_name',\n",
       "       'collector_full_name2', 'collector_first_name', 'collector_last_name',\n",
       "       'qualifier', 'min_depth', 'max_depth', 'lat', 'long', 'continent',\n",
       "       'water_body', 'country', 'state', 'county', 'locality',\n",
       "       'determiner_last_name', 'determiner_first_name', 'collection_prefix'],\n",
       "      dtype='object')"
      ]
     },
     "execution_count": 6,
     "metadata": {},
     "output_type": "execute_result"
    }
   ],
   "source": [
    "NewTable.columns"
   ]
  },
  {
   "cell_type": "code",
   "execution_count": 7,
   "metadata": {
    "ExecuteTime": {
     "end_time": "2020-08-29T14:43:31.825641Z",
     "start_time": "2020-08-29T14:43:31.738468Z"
    }
   },
   "outputs": [],
   "source": [
    "# subsetting\n",
    "teste = NewTable[['min_depth','family','order', 'start_year', 'qualifier', 'catalog_number', \n",
    "                  'genus', 'species', 'type']].copy()\n",
    "\n",
    "# grouping by type, year and order\n",
    "temp = teste.groupby(['type','start_year', 'order']).count()['family'].reset_index().rename(columns={\n",
    "    'family':'counts'\n",
    "})\n",
    "\n",
    "# p.s.: Cótipo and Topótipo are not types\n",
    "temp = temp[(temp['type'] != 'Cótipo') & (temp['type'] != 'Topótipo')]"
   ]
  },
  {
   "cell_type": "markdown",
   "metadata": {},
   "source": [
    "243 info. de tipos"
   ]
  },
  {
   "cell_type": "markdown",
   "metadata": {},
   "source": [
    "### Gráf. de Tipos"
   ]
  },
  {
   "cell_type": "code",
   "execution_count": 8,
   "metadata": {
    "ExecuteTime": {
     "end_time": "2020-08-29T14:43:31.917955Z",
     "start_time": "2020-08-29T14:43:31.827309Z"
    }
   },
   "outputs": [
    {
     "data": {
      "text/html": [
       "\n",
       "<div id=\"altair-viz-7ae51aabd9eb4a42a8dac0e4e5c79544\"></div>\n",
       "<script type=\"text/javascript\">\n",
       "  (function(spec, embedOpt){\n",
       "    let outputDiv = document.currentScript.previousElementSibling;\n",
       "    if (outputDiv.id !== \"altair-viz-7ae51aabd9eb4a42a8dac0e4e5c79544\") {\n",
       "      outputDiv = document.getElementById(\"altair-viz-7ae51aabd9eb4a42a8dac0e4e5c79544\");\n",
       "    }\n",
       "    const paths = {\n",
       "      \"vega\": \"https://cdn.jsdelivr.net/npm//vega@5?noext\",\n",
       "      \"vega-lib\": \"https://cdn.jsdelivr.net/npm//vega-lib?noext\",\n",
       "      \"vega-lite\": \"https://cdn.jsdelivr.net/npm//vega-lite@4.8.1?noext\",\n",
       "      \"vega-embed\": \"https://cdn.jsdelivr.net/npm//vega-embed@6?noext\",\n",
       "    };\n",
       "\n",
       "    function loadScript(lib) {\n",
       "      return new Promise(function(resolve, reject) {\n",
       "        var s = document.createElement('script');\n",
       "        s.src = paths[lib];\n",
       "        s.async = true;\n",
       "        s.onload = () => resolve(paths[lib]);\n",
       "        s.onerror = () => reject(`Error loading script: ${paths[lib]}`);\n",
       "        document.getElementsByTagName(\"head\")[0].appendChild(s);\n",
       "      });\n",
       "    }\n",
       "\n",
       "    function showError(err) {\n",
       "      outputDiv.innerHTML = `<div class=\"error\" style=\"color:red;\">${err}</div>`;\n",
       "      throw err;\n",
       "    }\n",
       "\n",
       "    function displayChart(vegaEmbed) {\n",
       "      vegaEmbed(outputDiv, spec, embedOpt)\n",
       "        .catch(err => showError(`Javascript Error: ${err.message}<br>This usually means there's a typo in your chart specification. See the javascript console for the full traceback.`));\n",
       "    }\n",
       "\n",
       "    if(typeof define === \"function\" && define.amd) {\n",
       "      requirejs.config({paths});\n",
       "      require([\"vega-embed\"], displayChart, err => showError(`Error loading script: ${err.message}`));\n",
       "    } else if (typeof vegaEmbed === \"function\") {\n",
       "      displayChart(vegaEmbed);\n",
       "    } else {\n",
       "      loadScript(\"vega\")\n",
       "        .then(() => loadScript(\"vega-lite\"))\n",
       "        .then(() => loadScript(\"vega-embed\"))\n",
       "        .catch(showError)\n",
       "        .then(() => displayChart(vegaEmbed));\n",
       "    }\n",
       "  })({\"config\": {\"view\": {\"continuousWidth\": 400, \"continuousHeight\": 300}}, \"data\": {\"name\": \"data-2a48cd9929c52fcadb9497dfc8d061f6\"}, \"mark\": \"circle\", \"encoding\": {\"color\": {\"type\": \"nominal\", \"field\": \"order\", \"scale\": {\"domain\": [\"Spionida\", \"Sabellida\", \"Canalipalpata\", \"Amphinomida\", \"Eunicida\", \"Phyllodocida\", \"Terebellida\", \"Scolecida\", NaN, \"Sipuncula\", \"Crassiclitellata\", \"Aspidosiphonida\"], \"range\": [\"#41A681\", \"#7ACAAB\", \"#78a1a1\", \"#8ABFB0\", \"#A66C4B\", \"#732C02\", \"#ed845e\", \"#D94B18\", \"#0D0D0D\", \"#D9C2AD\", \"#FFB27C\", \"#F29877\"]}, \"title\": \"order\"}, \"size\": {\"type\": \"quantitative\", \"field\": \"counts\"}, \"tooltip\": [{\"type\": \"nominal\", \"field\": \"type\", \"title\": \"type\"}, {\"type\": \"quantitative\", \"field\": \"start_year\", \"title\": \"start year\"}, {\"type\": \"quantitative\", \"field\": \"counts\", \"title\": \"counts\"}], \"x\": {\"type\": \"ordinal\", \"field\": \"start_year\", \"title\": \"Sampling Year\"}, \"y\": {\"type\": \"nominal\", \"field\": \"type\", \"sort\": {\"field\": \"counts\", \"op\": \"sum\", \"order\": \"descending\"}, \"title\": \"Type\"}}, \"height\": 150, \"title\": \"Types per year\", \"$schema\": \"https://vega.github.io/schema/vega-lite/v4.8.1.json\", \"datasets\": {\"data-2a48cd9929c52fcadb9497dfc8d061f6\": [{\"type\": \"Holotype\", \"start_year\": 1900.0, \"order\": \"Amphinomida\", \"counts\": 1}, {\"type\": \"Holotype\", \"start_year\": 1997.0, \"order\": \"Eunicida\", \"counts\": 1}, {\"type\": \"Holotype\", \"start_year\": 1999.0, \"order\": \"Phyllodocida\", \"counts\": 2}, {\"type\": \"Holotype\", \"start_year\": 2000.0, \"order\": \"Sabellida\", \"counts\": 1}, {\"type\": \"Holotype\", \"start_year\": 2000.0, \"order\": \"Terebellida\", \"counts\": 2}, {\"type\": \"Holotype\", \"start_year\": 2003.0, \"order\": \"Amphinomida\", \"counts\": 2}, {\"type\": \"Holotype\", \"start_year\": 2005.0, \"order\": \"Phyllodocida\", \"counts\": 1}, {\"type\": \"Holotype\", \"start_year\": 2008.0, \"order\": \"Phyllodocida\", \"counts\": 2}, {\"type\": \"Holotype\", \"start_year\": 2009.0, \"order\": \"Phyllodocida\", \"counts\": 2}, {\"type\": \"Holotype\", \"start_year\": 2009.0, \"order\": \"Scolecida\", \"counts\": 3}, {\"type\": \"Holotype\", \"start_year\": 2010.0, \"order\": \"Eunicida\", \"counts\": 1}, {\"type\": \"Holotype\", \"start_year\": 2011.0, \"order\": \"Amphinomida\", \"counts\": 1}, {\"type\": \"Holotype\", \"start_year\": 2011.0, \"order\": \"Spionida\", \"counts\": 1}, {\"type\": \"Holotype\", \"start_year\": 2011.0, \"order\": \"Terebellida\", \"counts\": 1}, {\"type\": \"Holotype\", \"start_year\": 2012.0, \"order\": \"Phyllodocida\", \"counts\": 1}, {\"type\": \"Holotype\", \"start_year\": 2012.0, \"order\": \"Scolecida\", \"counts\": 2}, {\"type\": \"Holotype\", \"start_year\": 2012.0, \"order\": \"Terebellida\", \"counts\": 1}, {\"type\": \"Holotype\", \"start_year\": 2013.0, \"order\": \"Terebellida\", \"counts\": 1}, {\"type\": \"Holotype\", \"start_year\": 2014.0, \"order\": \"Phyllodocida\", \"counts\": 1}, {\"type\": \"Holotype\", \"start_year\": 2015.0, \"order\": \"Phyllodocida\", \"counts\": 2}, {\"type\": \"Holotype\", \"start_year\": 2016.0, \"order\": \"Phyllodocida\", \"counts\": 4}, {\"type\": \"Neotype\", \"start_year\": 2018.0, \"order\": \"Scolecida\", \"counts\": 1}, {\"type\": \"Paratype\", \"start_year\": 1996.0, \"order\": \"Eunicida\", \"counts\": 3}, {\"type\": \"Paratype\", \"start_year\": 1997.0, \"order\": \"Eunicida\", \"counts\": 14}, {\"type\": \"Paratype\", \"start_year\": 2000.0, \"order\": \"Phyllodocida\", \"counts\": 1}, {\"type\": \"Paratype\", \"start_year\": 2000.0, \"order\": \"Sabellida\", \"counts\": 3}, {\"type\": \"Paratype\", \"start_year\": 2000.0, \"order\": \"Terebellida\", \"counts\": 5}, {\"type\": \"Paratype\", \"start_year\": 2002.0, \"order\": \"Phyllodocida\", \"counts\": 1}, {\"type\": \"Paratype\", \"start_year\": 2003.0, \"order\": \"Amphinomida\", \"counts\": 3}, {\"type\": \"Paratype\", \"start_year\": 2003.0, \"order\": \"Phyllodocida\", \"counts\": 5}, {\"type\": \"Paratype\", \"start_year\": 2005.0, \"order\": \"Phyllodocida\", \"counts\": 2}, {\"type\": \"Paratype\", \"start_year\": 2006.0, \"order\": \"Phyllodocida\", \"counts\": 1}, {\"type\": \"Paratype\", \"start_year\": 2008.0, \"order\": \"Phyllodocida\", \"counts\": 10}, {\"type\": \"Paratype\", \"start_year\": 2009.0, \"order\": \"Phyllodocida\", \"counts\": 5}, {\"type\": \"Paratype\", \"start_year\": 2009.0, \"order\": \"Scolecida\", \"counts\": 7}, {\"type\": \"Paratype\", \"start_year\": 2010.0, \"order\": \"Eunicida\", \"counts\": 2}, {\"type\": \"Paratype\", \"start_year\": 2010.0, \"order\": \"Scolecida\", \"counts\": 1}, {\"type\": \"Paratype\", \"start_year\": 2011.0, \"order\": \"Amphinomida\", \"counts\": 1}, {\"type\": \"Paratype\", \"start_year\": 2011.0, \"order\": \"Eunicida\", \"counts\": 1}, {\"type\": \"Paratype\", \"start_year\": 2011.0, \"order\": \"Phyllodocida\", \"counts\": 1}, {\"type\": \"Paratype\", \"start_year\": 2011.0, \"order\": \"Scolecida\", \"counts\": 4}, {\"type\": \"Paratype\", \"start_year\": 2011.0, \"order\": \"Spionida\", \"counts\": 7}, {\"type\": \"Paratype\", \"start_year\": 2011.0, \"order\": \"Terebellida\", \"counts\": 1}, {\"type\": \"Paratype\", \"start_year\": 2012.0, \"order\": \"Amphinomida\", \"counts\": 2}, {\"type\": \"Paratype\", \"start_year\": 2012.0, \"order\": \"Eunicida\", \"counts\": 3}, {\"type\": \"Paratype\", \"start_year\": 2012.0, \"order\": \"Scolecida\", \"counts\": 6}, {\"type\": \"Paratype\", \"start_year\": 2012.0, \"order\": \"Terebellida\", \"counts\": 1}, {\"type\": \"Paratype\", \"start_year\": 2013.0, \"order\": \"Amphinomida\", \"counts\": 5}, {\"type\": \"Paratype\", \"start_year\": 2013.0, \"order\": \"Scolecida\", \"counts\": 1}, {\"type\": \"Paratype\", \"start_year\": 2013.0, \"order\": \"Terebellida\", \"counts\": 1}, {\"type\": \"Paratype\", \"start_year\": 2014.0, \"order\": \"Phyllodocida\", \"counts\": 1}, {\"type\": \"Paratype\", \"start_year\": 2014.0, \"order\": \"Scolecida\", \"counts\": 2}, {\"type\": \"Paratype\", \"start_year\": 2015.0, \"order\": \"Phyllodocida\", \"counts\": 5}, {\"type\": \"Paratype\", \"start_year\": 2015.0, \"order\": \"Scolecida\", \"counts\": 1}, {\"type\": \"Paratype\", \"start_year\": 2016.0, \"order\": \"Phyllodocida\", \"counts\": 5}]}}, {\"mode\": \"vega-lite\"});\n",
       "</script>"
      ],
      "text/plain": [
       "alt.Chart(...)"
      ]
     },
     "execution_count": 8,
     "metadata": {},
     "output_type": "execute_result"
    }
   ],
   "source": [
    "tipo = alt.Chart(temp, height=150, title='Types per year').mark_circle().encode(\n",
    "    x = alt.X('start_year:O', title='Sampling Year'),\n",
    "    y = alt.Y('type:N', title= 'Type',\n",
    "              sort=alt.EncodingSortField('counts', op='sum', order='descending')),\n",
    "    color= alt.Color('order', title='order',\n",
    "                     scale=alt.Scale(domain=list(cores_ordem.keys()), range=list(cores_ordem.values()))), \n",
    "    size= alt.Size('counts'),\n",
    "    tooltip= [alt.Tooltip('type', title='type'),\n",
    "              alt.Tooltip('start_year', title='start year'),\n",
    "              alt.Tooltip('counts', title='counts')]\n",
    ")\n",
    "\n",
    "tipo.save('./graphs/tipo/tipos_por_ano.html')\n",
    "\n",
    "tipo"
   ]
  },
  {
   "cell_type": "markdown",
   "metadata": {},
   "source": [
    "## Types per Genus \n",
    "\n",
    "same graph as above, with gender on Y axis and colored by type"
   ]
  },
  {
   "cell_type": "code",
   "execution_count": 9,
   "metadata": {
    "ExecuteTime": {
     "end_time": "2020-08-29T14:45:15.836501Z",
     "start_time": "2020-08-29T14:45:15.798991Z"
    }
   },
   "outputs": [],
   "source": [
    "# subsetting\n",
    "teste = NewTable[['min_depth','family','order', 'start_year', 'qualifier', 'catalog_number', \n",
    "                  'genus', 'species', 'type']].copy()\n",
    "\n",
    "# grouping by type, year and order\n",
    "temp = teste.groupby(['type','start_year', 'genus']).count()['family'].reset_index().rename(columns={\n",
    "    'family':'counts'\n",
    "})\n",
    "\n",
    "# p.s.: Cótipo and Topótipo are not types\n",
    "temp = temp[(temp['type'] != 'Cótipo') & (temp['type'] != 'Topótipo')]"
   ]
  },
  {
   "cell_type": "code",
   "execution_count": 10,
   "metadata": {
    "ExecuteTime": {
     "end_time": "2020-08-29T14:45:16.246436Z",
     "start_time": "2020-08-29T14:45:16.242007Z"
    }
   },
   "outputs": [],
   "source": [
    "cores_padrao = ['#e45756', '#4c78a8', '#f58518']\n",
    "tipos = ['Holotype', 'Paratype', 'Neotype']"
   ]
  },
  {
   "cell_type": "code",
   "execution_count": 11,
   "metadata": {
    "ExecuteTime": {
     "end_time": "2020-08-29T14:45:17.085845Z",
     "start_time": "2020-08-29T14:45:17.030574Z"
    }
   },
   "outputs": [
    {
     "data": {
      "text/html": [
       "\n",
       "<div id=\"altair-viz-48111ab8dc07454889f98c67413f46d3\"></div>\n",
       "<script type=\"text/javascript\">\n",
       "  (function(spec, embedOpt){\n",
       "    let outputDiv = document.currentScript.previousElementSibling;\n",
       "    if (outputDiv.id !== \"altair-viz-48111ab8dc07454889f98c67413f46d3\") {\n",
       "      outputDiv = document.getElementById(\"altair-viz-48111ab8dc07454889f98c67413f46d3\");\n",
       "    }\n",
       "    const paths = {\n",
       "      \"vega\": \"https://cdn.jsdelivr.net/npm//vega@5?noext\",\n",
       "      \"vega-lib\": \"https://cdn.jsdelivr.net/npm//vega-lib?noext\",\n",
       "      \"vega-lite\": \"https://cdn.jsdelivr.net/npm//vega-lite@4.8.1?noext\",\n",
       "      \"vega-embed\": \"https://cdn.jsdelivr.net/npm//vega-embed@6?noext\",\n",
       "    };\n",
       "\n",
       "    function loadScript(lib) {\n",
       "      return new Promise(function(resolve, reject) {\n",
       "        var s = document.createElement('script');\n",
       "        s.src = paths[lib];\n",
       "        s.async = true;\n",
       "        s.onload = () => resolve(paths[lib]);\n",
       "        s.onerror = () => reject(`Error loading script: ${paths[lib]}`);\n",
       "        document.getElementsByTagName(\"head\")[0].appendChild(s);\n",
       "      });\n",
       "    }\n",
       "\n",
       "    function showError(err) {\n",
       "      outputDiv.innerHTML = `<div class=\"error\" style=\"color:red;\">${err}</div>`;\n",
       "      throw err;\n",
       "    }\n",
       "\n",
       "    function displayChart(vegaEmbed) {\n",
       "      vegaEmbed(outputDiv, spec, embedOpt)\n",
       "        .catch(err => showError(`Javascript Error: ${err.message}<br>This usually means there's a typo in your chart specification. See the javascript console for the full traceback.`));\n",
       "    }\n",
       "\n",
       "    if(typeof define === \"function\" && define.amd) {\n",
       "      requirejs.config({paths});\n",
       "      require([\"vega-embed\"], displayChart, err => showError(`Error loading script: ${err.message}`));\n",
       "    } else if (typeof vegaEmbed === \"function\") {\n",
       "      displayChart(vegaEmbed);\n",
       "    } else {\n",
       "      loadScript(\"vega\")\n",
       "        .then(() => loadScript(\"vega-lite\"))\n",
       "        .then(() => loadScript(\"vega-embed\"))\n",
       "        .catch(showError)\n",
       "        .then(() => displayChart(vegaEmbed));\n",
       "    }\n",
       "  })({\"config\": {\"view\": {\"continuousWidth\": 400, \"continuousHeight\": 300}}, \"data\": {\"name\": \"data-07fbbc72c91cc3fff5cc07ecf8777e8f\"}, \"mark\": {\"type\": \"circle\", \"opacity\": 0.8}, \"encoding\": {\"color\": {\"type\": \"nominal\", \"field\": \"type\", \"scale\": {\"domain\": [\"Holotype\", \"Paratype\", \"Neotype\"], \"range\": [\"#e45756\", \"#4c78a8\", \"#f58518\"]}, \"title\": \"type\"}, \"size\": {\"type\": \"quantitative\", \"field\": \"counts\", \"scale\": {}}, \"tooltip\": [{\"type\": \"nominal\", \"field\": \"type\", \"title\": \"type\"}, {\"type\": \"quantitative\", \"field\": \"start_year\", \"title\": \"start year\"}, {\"type\": \"quantitative\", \"field\": \"counts\", \"title\": \"counts\"}], \"x\": {\"type\": \"ordinal\", \"field\": \"start_year\", \"title\": \"Sampling Year\"}, \"y\": {\"type\": \"nominal\", \"field\": \"genus\", \"sort\": {\"field\": \"counts\", \"op\": \"sum\", \"order\": \"descending\"}, \"title\": \"Genus\"}}, \"height\": 300, \"title\": \"Types per Genus\", \"$schema\": \"https://vega.github.io/schema/vega-lite/v4.8.1.json\", \"datasets\": {\"data-07fbbc72c91cc3fff5cc07ecf8777e8f\": [{\"type\": \"Holotype\", \"start_year\": 1900.0, \"genus\": \"Branchamphinome\", \"counts\": 1}, {\"type\": \"Holotype\", \"start_year\": 1997.0, \"genus\": \"Palola\", \"counts\": 1}, {\"type\": \"Holotype\", \"start_year\": 1999.0, \"genus\": \"Anguillosyllis\", \"counts\": 1}, {\"type\": \"Holotype\", \"start_year\": 1999.0, \"genus\": \"Sphaerosyllis\", \"counts\": 1}, {\"type\": \"Holotype\", \"start_year\": 2000.0, \"genus\": \"Bispira\", \"counts\": 1}, {\"type\": \"Holotype\", \"start_year\": 2000.0, \"genus\": \"Polycirrus\", \"counts\": 2}, {\"type\": \"Holotype\", \"start_year\": 2003.0, \"genus\": \"Chloeia\", \"counts\": 1}, {\"type\": \"Holotype\", \"start_year\": 2003.0, \"genus\": \"Paramphinome\", \"counts\": 1}, {\"type\": \"Holotype\", \"start_year\": 2005.0, \"genus\": \"Namalycastis\", \"counts\": 1}, {\"type\": \"Holotype\", \"start_year\": 2008.0, \"genus\": \"Harmothoe\", \"counts\": 1}, {\"type\": \"Holotype\", \"start_year\": 2008.0, \"genus\": \"Lacydonia\", \"counts\": 1}, {\"type\": \"Holotype\", \"start_year\": 2009.0, \"genus\": \"Lacydonia\", \"counts\": 2}, {\"type\": \"Holotype\", \"start_year\": 2009.0, \"genus\": \"Orbinia\", \"counts\": 2}, {\"type\": \"Holotype\", \"start_year\": 2009.0, \"genus\": \"Schroederella\", \"counts\": 1}, {\"type\": \"Holotype\", \"start_year\": 2010.0, \"genus\": \"Ophryotrocha\", \"counts\": 1}, {\"type\": \"Holotype\", \"start_year\": 2011.0, \"genus\": \"Bathychloeia\", \"counts\": 1}, {\"type\": \"Holotype\", \"start_year\": 2011.0, \"genus\": \"Cirriformia\", \"counts\": 1}, {\"type\": \"Holotype\", \"start_year\": 2011.0, \"genus\": \"Spiogalea\", \"counts\": 1}, {\"type\": \"Holotype\", \"start_year\": 2012.0, \"genus\": \"Aricidea\", \"counts\": 1}, {\"type\": \"Holotype\", \"start_year\": 2012.0, \"genus\": \"Pholoides\", \"counts\": 1}, {\"type\": \"Holotype\", \"start_year\": 2012.0, \"genus\": \"Sabidus\", \"counts\": 1}, {\"type\": \"Holotype\", \"start_year\": 2012.0, \"genus\": \"Timarete\", \"counts\": 1}, {\"type\": \"Holotype\", \"start_year\": 2013.0, \"genus\": \"Cirriformia\", \"counts\": 1}, {\"type\": \"Holotype\", \"start_year\": 2014.0, \"genus\": \"Pisionidens\", \"counts\": 1}, {\"type\": \"Holotype\", \"start_year\": 2015.0, \"genus\": \"Branchiosyllis\", \"counts\": 1}, {\"type\": \"Holotype\", \"start_year\": 2015.0, \"genus\": \"Neanthes\", \"counts\": 1}, {\"type\": \"Holotype\", \"start_year\": 2016.0, \"genus\": \"Branchiosyllis\", \"counts\": 1}, {\"type\": \"Holotype\", \"start_year\": 2016.0, \"genus\": \"Megasyllis\", \"counts\": 1}, {\"type\": \"Holotype\", \"start_year\": 2016.0, \"genus\": \"Salvatoria\", \"counts\": 2}, {\"type\": \"Neotype\", \"start_year\": 2018.0, \"genus\": \"Naineris\", \"counts\": 1}, {\"type\": \"Paratype\", \"start_year\": 1996.0, \"genus\": \"Palola\", \"counts\": 3}, {\"type\": \"Paratype\", \"start_year\": 1997.0, \"genus\": \"Palola\", \"counts\": 14}, {\"type\": \"Paratype\", \"start_year\": 2000.0, \"genus\": \"Bispira\", \"counts\": 1}, {\"type\": \"Paratype\", \"start_year\": 2000.0, \"genus\": \"Branchiosyllis\", \"counts\": 1}, {\"type\": \"Paratype\", \"start_year\": 2000.0, \"genus\": \"Chone\", \"counts\": 2}, {\"type\": \"Paratype\", \"start_year\": 2000.0, \"genus\": \"Polycirrus\", \"counts\": 5}, {\"type\": \"Paratype\", \"start_year\": 2002.0, \"genus\": \"Sphaerosyllis\", \"counts\": 1}, {\"type\": \"Paratype\", \"start_year\": 2003.0, \"genus\": \"Chloeia\", \"counts\": 1}, {\"type\": \"Paratype\", \"start_year\": 2003.0, \"genus\": \"Paramphinome\", \"counts\": 2}, {\"type\": \"Paratype\", \"start_year\": 2003.0, \"genus\": \"Sphaerosyllis\", \"counts\": 5}, {\"type\": \"Paratype\", \"start_year\": 2005.0, \"genus\": \"Namalycastis\", \"counts\": 2}, {\"type\": \"Paratype\", \"start_year\": 2006.0, \"genus\": \"Harmothoe\", \"counts\": 1}, {\"type\": \"Paratype\", \"start_year\": 2008.0, \"genus\": \"Harmothoe\", \"counts\": 9}, {\"type\": \"Paratype\", \"start_year\": 2008.0, \"genus\": \"Pholoides\", \"counts\": 1}, {\"type\": \"Paratype\", \"start_year\": 2009.0, \"genus\": \"Harmothoe\", \"counts\": 5}, {\"type\": \"Paratype\", \"start_year\": 2009.0, \"genus\": \"Orbinia\", \"counts\": 4}, {\"type\": \"Paratype\", \"start_year\": 2009.0, \"genus\": \"Schroederella\", \"counts\": 3}, {\"type\": \"Paratype\", \"start_year\": 2010.0, \"genus\": \"Ophryotrocha\", \"counts\": 2}, {\"type\": \"Paratype\", \"start_year\": 2010.0, \"genus\": \"Sabidus\", \"counts\": 1}, {\"type\": \"Paratype\", \"start_year\": 2011.0, \"genus\": \"Aricidea\", \"counts\": 2}, {\"type\": \"Paratype\", \"start_year\": 2011.0, \"genus\": \"Branchamphinome\", \"counts\": 1}, {\"type\": \"Paratype\", \"start_year\": 2011.0, \"genus\": \"Cirriformia\", \"counts\": 1}, {\"type\": \"Paratype\", \"start_year\": 2011.0, \"genus\": \"Harmothoe\", \"counts\": 1}, {\"type\": \"Paratype\", \"start_year\": 2011.0, \"genus\": \"Laubieriellus\", \"counts\": 3}, {\"type\": \"Paratype\", \"start_year\": 2011.0, \"genus\": \"Leodice\", \"counts\": 1}, {\"type\": \"Paratype\", \"start_year\": 2011.0, \"genus\": \"Prionospio\", \"counts\": 4}, {\"type\": \"Paratype\", \"start_year\": 2011.0, \"genus\": \"Sabidus\", \"counts\": 1}, {\"type\": \"Paratype\", \"start_year\": 2011.0, \"genus\": \"Spiogalea\", \"counts\": 1}, {\"type\": \"Paratype\", \"start_year\": 2012.0, \"genus\": \"Aricidea\", \"counts\": 2}, {\"type\": \"Paratype\", \"start_year\": 2012.0, \"genus\": \"Branchamphinome\", \"counts\": 2}, {\"type\": \"Paratype\", \"start_year\": 2012.0, \"genus\": \"Capitella\", \"counts\": 1}, {\"type\": \"Paratype\", \"start_year\": 2012.0, \"genus\": \"Leodice\", \"counts\": 3}, {\"type\": \"Paratype\", \"start_year\": 2012.0, \"genus\": \"Sabidus\", \"counts\": 3}, {\"type\": \"Paratype\", \"start_year\": 2012.0, \"genus\": \"Timarete\", \"counts\": 1}, {\"type\": \"Paratype\", \"start_year\": 2013.0, \"genus\": \"Bathychloeia\", \"counts\": 3}, {\"type\": \"Paratype\", \"start_year\": 2013.0, \"genus\": \"Branchamphinome\", \"counts\": 2}, {\"type\": \"Paratype\", \"start_year\": 2013.0, \"genus\": \"Capitella\", \"counts\": 1}, {\"type\": \"Paratype\", \"start_year\": 2013.0, \"genus\": \"Cirriformia\", \"counts\": 1}, {\"type\": \"Paratype\", \"start_year\": 2014.0, \"genus\": \"Capitella\", \"counts\": 2}, {\"type\": \"Paratype\", \"start_year\": 2014.0, \"genus\": \"Pisionidens\", \"counts\": 1}, {\"type\": \"Paratype\", \"start_year\": 2015.0, \"genus\": \"Branchiosyllis\", \"counts\": 4}, {\"type\": \"Paratype\", \"start_year\": 2015.0, \"genus\": \"Capitella\", \"counts\": 1}, {\"type\": \"Paratype\", \"start_year\": 2015.0, \"genus\": \"Neanthes\", \"counts\": 1}, {\"type\": \"Paratype\", \"start_year\": 2016.0, \"genus\": \"Megasyllis\", \"counts\": 1}, {\"type\": \"Paratype\", \"start_year\": 2016.0, \"genus\": \"Salvatoria\", \"counts\": 4}]}}, {\"mode\": \"vega-lite\"});\n",
       "</script>"
      ],
      "text/plain": [
       "alt.Chart(...)"
      ]
     },
     "execution_count": 11,
     "metadata": {},
     "output_type": "execute_result"
    }
   ],
   "source": [
    "tipo = alt.Chart(temp, height=300, title='Types per Genus').mark_circle(opacity=0.8).encode(\n",
    "    x = alt.X('start_year:O', title='Sampling Year'),\n",
    "    y = alt.Y('genus:N', title= 'Genus',\n",
    "              sort=alt.EncodingSortField('counts', op='sum', order='descending')),\n",
    "    color= alt.Color('type:N', title='type', scale= alt.Scale(range=cores_padrao, domain=tipos)), \n",
    "    size= alt.Size('counts', scale=alt.Scale()),\n",
    "    tooltip= [alt.Tooltip('type', title='type'),\n",
    "              alt.Tooltip('start_year', title='start year'),\n",
    "              alt.Tooltip('counts', title='counts')]\n",
    ")\n",
    "\n",
    "tipo.save('./graphs/tipo/tipos_por_genero.html')\n",
    "\n",
    "tipo"
   ]
  },
  {
   "cell_type": "markdown",
   "metadata": {},
   "source": [
    "## Types per family"
   ]
  },
  {
   "cell_type": "code",
   "execution_count": 12,
   "metadata": {
    "ExecuteTime": {
     "end_time": "2020-08-29T14:46:08.588741Z",
     "start_time": "2020-08-29T14:46:08.557549Z"
    }
   },
   "outputs": [],
   "source": [
    "# subsetting\n",
    "teste = NewTable[['min_depth','family','order', 'start_year', 'qualifier', 'catalog_number', \n",
    "                  'genus', 'species', 'type']].copy()\n",
    "\n",
    "# grouping by type, year and order\n",
    "temp = teste.groupby(['type','start_year', 'family']).count()['genus'].reset_index().rename(columns={\n",
    "    'genus':'counts'\n",
    "})\n",
    "\n",
    "# p.s.: Cótipo and Topótipo are not types\n",
    "temp = temp[(temp['type'] != 'Cótipo') & (temp['type'] != 'Topótipo')]"
   ]
  },
  {
   "cell_type": "code",
   "execution_count": 13,
   "metadata": {
    "ExecuteTime": {
     "end_time": "2020-08-29T14:46:10.482548Z",
     "start_time": "2020-08-29T14:46:10.474386Z"
    }
   },
   "outputs": [],
   "source": [
    "cores_padrao = ['#e45756', '#4c78a8', '#f58518']\n",
    "tipos = ['Holotype', 'Paratype', 'Neotype']"
   ]
  },
  {
   "cell_type": "code",
   "execution_count": 14,
   "metadata": {
    "ExecuteTime": {
     "end_time": "2020-08-29T14:46:11.719479Z",
     "start_time": "2020-08-29T14:46:11.671831Z"
    }
   },
   "outputs": [
    {
     "data": {
      "text/html": [
       "\n",
       "<div id=\"altair-viz-49d2d1e578b6431ca6b462b6bdf1c1a0\"></div>\n",
       "<script type=\"text/javascript\">\n",
       "  (function(spec, embedOpt){\n",
       "    let outputDiv = document.currentScript.previousElementSibling;\n",
       "    if (outputDiv.id !== \"altair-viz-49d2d1e578b6431ca6b462b6bdf1c1a0\") {\n",
       "      outputDiv = document.getElementById(\"altair-viz-49d2d1e578b6431ca6b462b6bdf1c1a0\");\n",
       "    }\n",
       "    const paths = {\n",
       "      \"vega\": \"https://cdn.jsdelivr.net/npm//vega@5?noext\",\n",
       "      \"vega-lib\": \"https://cdn.jsdelivr.net/npm//vega-lib?noext\",\n",
       "      \"vega-lite\": \"https://cdn.jsdelivr.net/npm//vega-lite@4.8.1?noext\",\n",
       "      \"vega-embed\": \"https://cdn.jsdelivr.net/npm//vega-embed@6?noext\",\n",
       "    };\n",
       "\n",
       "    function loadScript(lib) {\n",
       "      return new Promise(function(resolve, reject) {\n",
       "        var s = document.createElement('script');\n",
       "        s.src = paths[lib];\n",
       "        s.async = true;\n",
       "        s.onload = () => resolve(paths[lib]);\n",
       "        s.onerror = () => reject(`Error loading script: ${paths[lib]}`);\n",
       "        document.getElementsByTagName(\"head\")[0].appendChild(s);\n",
       "      });\n",
       "    }\n",
       "\n",
       "    function showError(err) {\n",
       "      outputDiv.innerHTML = `<div class=\"error\" style=\"color:red;\">${err}</div>`;\n",
       "      throw err;\n",
       "    }\n",
       "\n",
       "    function displayChart(vegaEmbed) {\n",
       "      vegaEmbed(outputDiv, spec, embedOpt)\n",
       "        .catch(err => showError(`Javascript Error: ${err.message}<br>This usually means there's a typo in your chart specification. See the javascript console for the full traceback.`));\n",
       "    }\n",
       "\n",
       "    if(typeof define === \"function\" && define.amd) {\n",
       "      requirejs.config({paths});\n",
       "      require([\"vega-embed\"], displayChart, err => showError(`Error loading script: ${err.message}`));\n",
       "    } else if (typeof vegaEmbed === \"function\") {\n",
       "      displayChart(vegaEmbed);\n",
       "    } else {\n",
       "      loadScript(\"vega\")\n",
       "        .then(() => loadScript(\"vega-lite\"))\n",
       "        .then(() => loadScript(\"vega-embed\"))\n",
       "        .catch(showError)\n",
       "        .then(() => displayChart(vegaEmbed));\n",
       "    }\n",
       "  })({\"config\": {\"view\": {\"continuousWidth\": 400, \"continuousHeight\": 300}}, \"data\": {\"name\": \"data-362509d75ab292431a3acda6b02298bb\"}, \"mark\": {\"type\": \"circle\", \"opacity\": 0.8}, \"encoding\": {\"color\": {\"type\": \"nominal\", \"field\": \"type\", \"scale\": {\"domain\": [\"Holotype\", \"Paratype\", \"Neotype\"], \"range\": [\"#e45756\", \"#4c78a8\", \"#f58518\"]}, \"title\": \"type\"}, \"size\": {\"type\": \"quantitative\", \"field\": \"counts\", \"scale\": {}}, \"tooltip\": [{\"type\": \"nominal\", \"field\": \"type\", \"title\": \"type\"}, {\"type\": \"quantitative\", \"field\": \"start_year\", \"title\": \"start year\"}, {\"type\": \"quantitative\", \"field\": \"counts\", \"title\": \"counts\"}], \"x\": {\"type\": \"ordinal\", \"field\": \"start_year\", \"title\": \"Sampling Year\"}, \"y\": {\"type\": \"nominal\", \"field\": \"family\", \"sort\": {\"field\": \"counts\", \"op\": \"sum\", \"order\": \"descending\"}, \"title\": \"Family\"}}, \"height\": 300, \"title\": \"Types per Family\", \"$schema\": \"https://vega.github.io/schema/vega-lite/v4.8.1.json\", \"datasets\": {\"data-362509d75ab292431a3acda6b02298bb\": [{\"type\": \"Holotype\", \"start_year\": 1900.0, \"family\": \"Amphinomidae\", \"counts\": 1}, {\"type\": \"Holotype\", \"start_year\": 1997.0, \"family\": \"Eunicidae\", \"counts\": 1}, {\"type\": \"Holotype\", \"start_year\": 1999.0, \"family\": \"Syllidae\", \"counts\": 2}, {\"type\": \"Holotype\", \"start_year\": 2000.0, \"family\": \"Sabellidae\", \"counts\": 1}, {\"type\": \"Holotype\", \"start_year\": 2000.0, \"family\": \"Terebellidae\", \"counts\": 2}, {\"type\": \"Holotype\", \"start_year\": 2003.0, \"family\": \"Amphinomidae\", \"counts\": 2}, {\"type\": \"Holotype\", \"start_year\": 2005.0, \"family\": \"Nereididae\", \"counts\": 1}, {\"type\": \"Holotype\", \"start_year\": 2008.0, \"family\": \"Lacydoniidae\", \"counts\": 1}, {\"type\": \"Holotype\", \"start_year\": 2008.0, \"family\": \"Polynoidae\", \"counts\": 1}, {\"type\": \"Holotype\", \"start_year\": 2009.0, \"family\": \"Lacydoniidae\", \"counts\": 2}, {\"type\": \"Holotype\", \"start_year\": 2009.0, \"family\": \"Orbiniidae\", \"counts\": 3}, {\"type\": \"Holotype\", \"start_year\": 2010.0, \"family\": \"Dorvilleidae\", \"counts\": 1}, {\"type\": \"Holotype\", \"start_year\": 2011.0, \"family\": \"Amphinomidae\", \"counts\": 1}, {\"type\": \"Holotype\", \"start_year\": 2011.0, \"family\": \"Cirratulidae\", \"counts\": 1}, {\"type\": \"Holotype\", \"start_year\": 2011.0, \"family\": \"Spionidae\", \"counts\": 1}, {\"type\": \"Holotype\", \"start_year\": 2012.0, \"family\": \"Cirratulidae\", \"counts\": 1}, {\"type\": \"Holotype\", \"start_year\": 2012.0, \"family\": \"Paraonidae\", \"counts\": 2}, {\"type\": \"Holotype\", \"start_year\": 2012.0, \"family\": \"Sigalionidae\", \"counts\": 1}, {\"type\": \"Holotype\", \"start_year\": 2013.0, \"family\": \"Cirratulidae\", \"counts\": 1}, {\"type\": \"Holotype\", \"start_year\": 2014.0, \"family\": \"Sigalionidae\", \"counts\": 1}, {\"type\": \"Holotype\", \"start_year\": 2015.0, \"family\": \"Nereididae\", \"counts\": 1}, {\"type\": \"Holotype\", \"start_year\": 2015.0, \"family\": \"Syllidae\", \"counts\": 1}, {\"type\": \"Holotype\", \"start_year\": 2016.0, \"family\": \"Syllidae\", \"counts\": 4}, {\"type\": \"Neotype\", \"start_year\": 2018.0, \"family\": \"Orbiniidae\", \"counts\": 1}, {\"type\": \"Paratype\", \"start_year\": 1996.0, \"family\": \"Eunicidae\", \"counts\": 3}, {\"type\": \"Paratype\", \"start_year\": 1997.0, \"family\": \"Eunicidae\", \"counts\": 14}, {\"type\": \"Paratype\", \"start_year\": 2000.0, \"family\": \"Sabellidae\", \"counts\": 3}, {\"type\": \"Paratype\", \"start_year\": 2000.0, \"family\": \"Syllidae\", \"counts\": 1}, {\"type\": \"Paratype\", \"start_year\": 2000.0, \"family\": \"Terebellidae\", \"counts\": 5}, {\"type\": \"Paratype\", \"start_year\": 2002.0, \"family\": \"Syllidae\", \"counts\": 1}, {\"type\": \"Paratype\", \"start_year\": 2003.0, \"family\": \"Amphinomidae\", \"counts\": 3}, {\"type\": \"Paratype\", \"start_year\": 2003.0, \"family\": \"Syllidae\", \"counts\": 5}, {\"type\": \"Paratype\", \"start_year\": 2005.0, \"family\": \"Nereididae\", \"counts\": 2}, {\"type\": \"Paratype\", \"start_year\": 2006.0, \"family\": \"Polynoidae\", \"counts\": 1}, {\"type\": \"Paratype\", \"start_year\": 2008.0, \"family\": \"Polynoidae\", \"counts\": 9}, {\"type\": \"Paratype\", \"start_year\": 2008.0, \"family\": \"Sigalionidae\", \"counts\": 1}, {\"type\": \"Paratype\", \"start_year\": 2009.0, \"family\": \"Orbiniidae\", \"counts\": 7}, {\"type\": \"Paratype\", \"start_year\": 2009.0, \"family\": \"Polynoidae\", \"counts\": 5}, {\"type\": \"Paratype\", \"start_year\": 2010.0, \"family\": \"Dorvilleidae\", \"counts\": 2}, {\"type\": \"Paratype\", \"start_year\": 2010.0, \"family\": \"Paraonidae\", \"counts\": 1}, {\"type\": \"Paratype\", \"start_year\": 2011.0, \"family\": \"Amphinomidae\", \"counts\": 1}, {\"type\": \"Paratype\", \"start_year\": 2011.0, \"family\": \"Cirratulidae\", \"counts\": 1}, {\"type\": \"Paratype\", \"start_year\": 2011.0, \"family\": \"Eunicidae\", \"counts\": 1}, {\"type\": \"Paratype\", \"start_year\": 2011.0, \"family\": \"Paraonidae\", \"counts\": 3}, {\"type\": \"Paratype\", \"start_year\": 2011.0, \"family\": \"Polynoidae\", \"counts\": 1}, {\"type\": \"Paratype\", \"start_year\": 2011.0, \"family\": \"Spionidae\", \"counts\": 8}, {\"type\": \"Paratype\", \"start_year\": 2012.0, \"family\": \"Amphinomidae\", \"counts\": 2}, {\"type\": \"Paratype\", \"start_year\": 2012.0, \"family\": \"Capitellidae\", \"counts\": 1}, {\"type\": \"Paratype\", \"start_year\": 2012.0, \"family\": \"Cirratulidae\", \"counts\": 1}, {\"type\": \"Paratype\", \"start_year\": 2012.0, \"family\": \"Eunicidae\", \"counts\": 3}, {\"type\": \"Paratype\", \"start_year\": 2012.0, \"family\": \"Paraonidae\", \"counts\": 5}, {\"type\": \"Paratype\", \"start_year\": 2013.0, \"family\": \"Amphinomidae\", \"counts\": 5}, {\"type\": \"Paratype\", \"start_year\": 2013.0, \"family\": \"Capitellidae\", \"counts\": 1}, {\"type\": \"Paratype\", \"start_year\": 2013.0, \"family\": \"Cirratulidae\", \"counts\": 1}, {\"type\": \"Paratype\", \"start_year\": 2014.0, \"family\": \"Capitellidae\", \"counts\": 2}, {\"type\": \"Paratype\", \"start_year\": 2014.0, \"family\": \"Sigalionidae\", \"counts\": 1}, {\"type\": \"Paratype\", \"start_year\": 2015.0, \"family\": \"Capitellidae\", \"counts\": 1}, {\"type\": \"Paratype\", \"start_year\": 2015.0, \"family\": \"Nereididae\", \"counts\": 1}, {\"type\": \"Paratype\", \"start_year\": 2015.0, \"family\": \"Syllidae\", \"counts\": 4}, {\"type\": \"Paratype\", \"start_year\": 2016.0, \"family\": \"Syllidae\", \"counts\": 5}]}}, {\"mode\": \"vega-lite\"});\n",
       "</script>"
      ],
      "text/plain": [
       "alt.Chart(...)"
      ]
     },
     "execution_count": 14,
     "metadata": {},
     "output_type": "execute_result"
    }
   ],
   "source": [
    "tipo = alt.Chart(temp, height=300, title='Types per Family').mark_circle(opacity=0.8).encode(\n",
    "    x = alt.X('start_year:O', title='Sampling Year'),\n",
    "    y = alt.Y('family:N', title= 'Family',\n",
    "              sort=alt.EncodingSortField('counts', op='sum', order='descending')),\n",
    "    color= alt.Color('type:N', title='type', scale= alt.Scale(range=cores_padrao, domain=tipos)), \n",
    "    size= alt.Size('counts', scale=alt.Scale()),\n",
    "    tooltip= [alt.Tooltip('type', title='type'),\n",
    "              alt.Tooltip('start_year', title='start year'),\n",
    "              alt.Tooltip('counts', title='counts')]\n",
    ")\n",
    "\n",
    "tipo.save('./graphs/tipo/tipos_por_familia.html')\n",
    "\n",
    "tipo"
   ]
  },
  {
   "cell_type": "markdown",
   "metadata": {},
   "source": [
    "<br>\n",
    "\n",
    "<font size='6'>Para a base de poliquetas acaba aqui, por enquanto </font>"
   ]
  },
  {
   "cell_type": "markdown",
   "metadata": {},
   "source": [
    "<br>\n",
    "\n",
    "#### defining some parameters"
   ]
  },
  {
   "cell_type": "markdown",
   "metadata": {
    "ExecuteTime": {
     "end_time": "2020-03-12T00:04:15.647165Z",
     "start_time": "2020-03-12T00:04:15.542566Z"
    }
   },
   "source": [
    "colors = ['#d62728', '#f58518', '#d95f02',\n",
    "          '#d62729', '#f58519', '#d95f03',\n",
    "          '#4daf4a', '#8c6d31',\n",
    "          '#79706e', '#bab0ac', '#d8b5a5'\n",
    "         ]\n",
    "\n",
    "types = ['Holotipo', 'Alotipo', 'Neotipo',\n",
    "          'Sintipo', 'Lectotipo', 'Paralectotipo',\n",
    "          'Paratipo', 'Topotipo', \n",
    "          'Tipo', 'Co-tipo', 'Material tipo'\n",
    "        ]\n",
    "\n",
    "opacities= [1, 1, 1,\n",
    "           0.4,0.4,0.4,\n",
    "           1,1,1,\n",
    "           1,1,1]\n",
    "\n",
    "# creating dictionary with type:color\n",
    "type_color = defaultdict()\n",
    "for t in range(len(types)):\n",
    "    type_color[types[t]] = colors[t] "
   ]
  },
  {
   "cell_type": "markdown",
   "metadata": {},
   "source": [
    "<br>\n",
    "\n",
    "### ordering per holotype year (year in which the holotype was discovered)"
   ]
  },
  {
   "cell_type": "markdown",
   "metadata": {
    "ExecuteTime": {
     "end_time": "2020-03-12T00:04:15.902175Z",
     "start_time": "2020-03-12T00:04:15.649445Z"
    }
   },
   "source": [
    "counts = teste1.groupby(['determiner_first_and_last_name', 'type_status','holotipo_year']).count()['class'].reset_index()\n",
    "counts.rename(columns={'class':'counts'}, inplace=True)"
   ]
  },
  {
   "cell_type": "markdown",
   "metadata": {
    "ExecuteTime": {
     "end_time": "2020-03-12T00:04:15.977595Z",
     "start_time": "2020-03-12T00:04:15.903980Z"
    }
   },
   "source": [
    "teste1 = pd.merge(teste1, counts, on=['determiner_first_and_last_name', 'type_status','holotipo_year'])"
   ]
  },
  {
   "cell_type": "markdown",
   "metadata": {
    "ExecuteTime": {
     "end_time": "2020-03-12T00:04:16.092594Z",
     "start_time": "2020-03-12T00:04:15.982992Z"
    }
   },
   "source": [
    "# sorting in subsample (again)\n",
    "temp = teste1[(~teste1['determiner_first_and_last_name'].isna()) & (~teste1['type_status'].isna())\n",
    "                      & (~teste1['start_year'].isna())].copy()\n",
    "\n",
    "teste1.sort_values(['holotipo_year','determiner_first_and_last_name', 'counts'], inplace=True)\n",
    "\n",
    "# names ordering for y axis\n",
    "names_ordering = list(\n",
    "    temp[~temp['determiner_first_and_last_name'].isna()]['determiner_first_and_last_name'].unique()\n",
    ")"
   ]
  },
  {
   "cell_type": "markdown",
   "metadata": {
    "ExecuteTime": {
     "end_time": "2020-03-12T00:04:16.216770Z",
     "start_time": "2020-03-12T00:04:16.099085Z"
    }
   },
   "source": [
    "holotipo = teste1[(teste1['type_status'] == 'Holotipo')].copy()  # filtering only holotype\n",
    "holotipo = holotipo[~holotipo['determiner_first_and_last_name'].isna()].copy()  # making sure names are \n",
    "#                                                                                nonempty...\n",
    "# sorting\n",
    "holotipo.sort_values('holotipo_year', inplace=True)\n",
    "\n",
    "# sorting per holotipo year\n",
    "names_ordering = list(holotipo['determiner_first_and_last_name'].values)\n",
    "\n",
    "temp = holotipo.groupby(['order','start_year']).count()['count'].reset_index()"
   ]
  },
  {
   "cell_type": "markdown",
   "metadata": {
    "ExecuteTime": {
     "end_time": "2020-03-12T00:05:20.079181Z",
     "start_time": "2020-03-12T00:05:17.048876Z"
    }
   },
   "source": [
    "g1 = alt.Chart(temp[temp['order'] != 'Nan'],\n",
    "               width=800, height=400, title='Number of holotypes of each order per year').mark_circle(size=60,\n",
    "                                                                                color='red').encode(\n",
    "    x= alt.X('start_year', type='ordinal', title='Year'),\n",
    "    y= alt.Y('order', type='nominal', title='Order',\n",
    "            sort= alt.EncodingSortField(field='count', op='max', order='descending')),\n",
    "    size = alt.Size('count'),\n",
    ")\n",
    "\n",
    "# saving graph\n",
    "# g1.save(f'./types/counts_per_year/holotypes_per_order.svg')\n",
    "# g1.save(f'./types/counts_per_year/holotypes_per_order.png')\n",
    "# g1.save(f'./types/counts_per_year/holotypes_per_order.html')\n",
    "\n",
    "g1"
   ]
  },
  {
   "cell_type": "markdown",
   "metadata": {},
   "source": [
    "### separating and grouping types"
   ]
  },
  {
   "cell_type": "markdown",
   "metadata": {
    "ExecuteTime": {
     "end_time": "2020-03-02T16:11:36.106250Z",
     "start_time": "2020-03-02T16:11:35.972614Z"
    }
   },
   "source": [
    "types = teste1['type_status'].unique()\n",
    "\n",
    "group_types = []\n",
    "for t in types:\n",
    "    if t not in ['Holotipo', 'Alotipo', 'Paratipo']:\n",
    "        group_types.append(t)"
   ]
  },
  {
   "cell_type": "markdown",
   "metadata": {
    "ExecuteTime": {
     "end_time": "2020-03-02T16:11:36.296420Z",
     "start_time": "2020-03-02T16:11:36.108144Z"
    }
   },
   "source": [
    "# replicating for ALL types\n",
    "for t in ['Holotipo', 'Alotipo', 'Paratipo']:\n",
    "    # preparing data\n",
    "    temp1 = teste1[(teste1['type_status'] == t)].copy()                   # filtering only holotype\n",
    "    temp = temp1[~temp1['determiner_first_and_last_name'].isna()].copy()  # making sure names are \n",
    "                                                                          # nonempty...\n",
    "    # sorting\n",
    "    temp.sort_values('holotipo_year', inplace=True)\n",
    "\n",
    "    # sorting per holotipo year\n",
    "    names_ordering = list(temp['determiner_first_and_last_name'].values)\n",
    "    \n",
    "    # grouping and counting per order and year\n",
    "    temp = temp.groupby(['order','start_year']).count()['count'].reset_index()\n",
    "\n",
    "    ### Chart\n",
    "    g1 = alt.Chart(temp[temp['order'] != 'Nan'],\n",
    "                   width=800, height=400, title=f'Number of {t} of each order per year').mark_circle(size=60,\n",
    "                                                                     color=f'{type_color[t]}').encode(\n",
    "        x= alt.X('start_year', type='ordinal', title='Year'),\n",
    "        y= alt.Y('order', type='nominal', title='Order',\n",
    "                sort= alt.EncodingSortField(field='count', op='max', order='descending')),\n",
    "        size = alt.Size('count'),\n",
    "    #     color= alt.Color('holotipo_year', type='quantitative', scale= alt.Scale(scheme='reds')), \n",
    "    #     opacity= alt.Opacity(scale= alt.Scale(domain=types,range=opacities), type='quantitative')\n",
    "    #     size=alt.Size('depth')\n",
    "    )\n",
    "\n",
    "    # saving graph\n",
    "#     g1.save(f'./types/counts_per_year/{t}_per_order.svg')\n",
    "#     g1.save(f'./types/counts_per_year/{t}_per_order.png')\n",
    "#     g1.save(f'./types/counts_per_year/{t}_per_order.html')\n",
    "\n",
    "# g1"
   ]
  },
  {
   "cell_type": "markdown",
   "metadata": {},
   "source": [
    "<br>\n",
    "\n",
    "#### graph of other types"
   ]
  },
  {
   "cell_type": "markdown",
   "metadata": {
    "ExecuteTime": {
     "end_time": "2020-03-02T16:11:36.375639Z",
     "start_time": "2020-03-02T16:11:36.298455Z"
    }
   },
   "source": [
    "t = teste1['order'].unique()"
   ]
  },
  {
   "cell_type": "markdown",
   "metadata": {
    "ExecuteTime": {
     "end_time": "2020-03-02T16:11:36.485024Z",
     "start_time": "2020-03-02T16:11:36.377682Z"
    }
   },
   "source": [
    "temp = teste1[(teste1['order'] != 'Nan') & (teste1['type_status'].isin(group_types))]\n",
    "temp = temp.groupby(['order','start_year','type_status']).count()['count'].reset_index()"
   ]
  },
  {
   "cell_type": "markdown",
   "metadata": {
    "ExecuteTime": {
     "end_time": "2020-03-02T16:12:23.770407Z",
     "start_time": "2020-03-02T16:12:23.767218Z"
    }
   },
   "source": [
    "colors = ['']"
   ]
  },
  {
   "cell_type": "markdown",
   "metadata": {},
   "source": [
    "<font color='red' size='5'>**p.s.:** temporary adjustment!!!! </font>\n",
    "\n",
    "I'm grouping (replacing) `Material tipo` and `co-tipo` in (for) `tipo`."
   ]
  },
  {
   "cell_type": "markdown",
   "metadata": {
    "ExecuteTime": {
     "end_time": "2020-03-02T16:19:47.635814Z",
     "start_time": "2020-03-02T16:19:47.623351Z"
    }
   },
   "source": [
    "temp['type_status'] = temp['type_status'].str.replace('Material tipo', 'Tipo')\n",
    "temp['type_status'] = temp['type_status'].str.replace('Topotipo', 'Tipo')\n",
    "temp['type_status'] = temp['type_status'].str.replace('Co-tipo', 'Tipo')"
   ]
  },
  {
   "cell_type": "markdown",
   "metadata": {},
   "source": [
    "**graph**"
   ]
  },
  {
   "cell_type": "markdown",
   "metadata": {
    "ExecuteTime": {
     "end_time": "2020-03-02T16:21:07.191895Z",
     "start_time": "2020-03-02T16:20:53.513090Z"
    }
   },
   "source": [
    "# making graph for other types (group_types)\n",
    "g1 = alt.Chart(temp,\n",
    "               width=800, height=400, title='Number of types of each order per year').mark_circle(\n",
    "                                                                                size=60).encode(\n",
    "    x= alt.X('start_year', type='ordinal', title='Year'),\n",
    "    y= alt.Y('order', type='nominal', title='Order',\n",
    "            sort= alt.EncodingSortField(field='count', op='max', order='descending')),\n",
    "    color= alt.Color('type_status', title='type',\n",
    "                     scale= alt.Scale(domain= list(temp['type_status'].unique()),\n",
    "                                      range=[type_color[t] for t in list(temp['type_status'].unique())])),\n",
    "    size = alt.Size('count', type='quantitative', scale = alt.Scale(type='bin-ordinal')),\n",
    ")\n",
    "\n",
    "# saving graph\n",
    "# g1.save(f'./types/counts_per_year/other-types_per_order.svg')\n",
    "# g1.save(f'./types/counts_per_year/other-types_per_order.png')\n",
    "# g1.save(f'./types/counts_per_year/other-types_per_order.html')\n",
    "\n",
    "g1"
   ]
  },
  {
   "cell_type": "markdown",
   "metadata": {},
   "source": [
    "<br>\n",
    "\n",
    "## New proposal\n",
    "\n",
    "compare: Year in which the holotype was discovered v.s. Year in which it was firstly cataloged in the Museum"
   ]
  },
  {
   "cell_type": "markdown",
   "metadata": {
    "ExecuteTime": {
     "end_time": "2020-02-18T21:00:10.754935Z",
     "start_time": "2020-02-18T21:00:06.771791Z"
    }
   },
   "source": [
    "# p.s.: there are overlapping points (it's affecting opacity)\n",
    "g1 = alt.Chart(holotipo, title='Holotypes discovered and determined years',\n",
    "               width=600, height=500).mark_circle(size=60).encode(\n",
    "    x= alt.X('start_year', type='ordinal', title='Discovered Year'),\n",
    "    y= alt.Y('holotipo_year', type='ordinal', title='Start Year',\n",
    "            sort= alt.EncodingSortField(field='holotipo_year', order='descending')),\n",
    "    tooltip= alt.Tooltip(['holotipo_year', 'start_year']),\n",
    "    color= alt.Color('order', type='nominal', scale= alt.Scale(scheme='reds')), \n",
    "#     opacity= alt.Opacity(scale= alt.Scale(domain=types,range=opacities), type='quantitative')\n",
    "#     size=alt.Size('depth')\n",
    ")\n",
    "\n",
    "# saving graph\n",
    "# g1.save(f'./types/holotipo_discoreved_vs_start_year.svg')\n",
    "# g1.save(f'./types/holotipo_discoreved_vs_start_year.png')\n",
    "# g1.save(f'./types/holotipo_discoreved_vs_start_year.html')\n",
    "\n",
    "g1"
   ]
  },
  {
   "cell_type": "markdown",
   "metadata": {},
   "source": [
    "<br>\n",
    "\n",
    "**The end!**\n",
    "\n",
    "-----"
   ]
  }
 ],
 "metadata": {
  "kernelspec": {
   "display_name": "Python 3",
   "language": "python",
   "name": "python3"
  },
  "language_info": {
   "codemirror_mode": {
    "name": "ipython",
    "version": 3
   },
   "file_extension": ".py",
   "mimetype": "text/x-python",
   "name": "python",
   "nbconvert_exporter": "python",
   "pygments_lexer": "ipython3",
   "version": "3.8.3"
  },
  "latex_envs": {
   "LaTeX_envs_menu_present": true,
   "autoclose": false,
   "autocomplete": true,
   "bibliofile": "biblio.bib",
   "cite_by": "apalike",
   "current_citInitial": 1,
   "eqLabelWithNumbers": true,
   "eqNumInitial": 1,
   "hotkeys": {
    "equation": "Ctrl-E",
    "itemize": "Ctrl-I"
   },
   "labels_anchors": false,
   "latex_user_defs": false,
   "report_style_numbering": false,
   "user_envs_cfg": false
  },
  "toc": {
   "base_numbering": 1,
   "nav_menu": {},
   "number_sections": false,
   "sideBar": true,
   "skip_h1_title": false,
   "title_cell": "Table of Contents",
   "title_sidebar": "Contents",
   "toc_cell": false,
   "toc_position": {},
   "toc_section_display": true,
   "toc_window_display": false
  },
  "varInspector": {
   "cols": {
    "lenName": 16,
    "lenType": 16,
    "lenVar": 40
   },
   "kernels_config": {
    "python": {
     "delete_cmd_postfix": "",
     "delete_cmd_prefix": "del ",
     "library": "var_list.py",
     "varRefreshCmd": "print(var_dic_list())"
    },
    "r": {
     "delete_cmd_postfix": ") ",
     "delete_cmd_prefix": "rm(",
     "library": "var_list.r",
     "varRefreshCmd": "cat(var_dic_list()) "
    }
   },
   "position": {
    "height": "391.35px",
    "left": "900.5px",
    "right": "20px",
    "top": "96px",
    "width": "536.5px"
   },
   "types_to_exclude": [
    "module",
    "function",
    "builtin_function_or_method",
    "instance",
    "_Feature"
   ],
   "window_display": false
  }
 },
 "nbformat": 4,
 "nbformat_minor": 2
}
