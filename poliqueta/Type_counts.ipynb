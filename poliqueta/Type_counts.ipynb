{
 "cells": [
  {
   "cell_type": "markdown",
   "metadata": {},
   "source": [
    "# Type charts\n",
    "\n",
    "By **Franklin Oliveira**\n",
    "\n",
    "-----\n",
    "This notebook contains all code necessary to make the \"type\" charts from `poliqueta` database. Here you'll find some basic data treatment and charts' code. \n",
    "\n",
    "Database: <font color='blue'>'IBUFRJ27.07.2020 - visualização.xlsx'</font> and <font color='blue'>'MNRJP27.07.2020 - visualização.xls'</font>."
   ]
  },
  {
   "cell_type": "code",
   "execution_count": 2,
   "metadata": {
    "ExecuteTime": {
     "end_time": "2020-08-29T14:43:31.441858Z",
     "start_time": "2020-08-29T14:43:30.351082Z"
    }
   },
   "outputs": [
    {
     "data": {
      "text/plain": [
       "DataTransformerRegistry.enable('default')"
      ]
     },
     "execution_count": 2,
     "metadata": {},
     "output_type": "execute_result"
    }
   ],
   "source": [
    "import datetime\n",
    "import numpy as np\n",
    "import pandas as pd\n",
    "\n",
    "from collections import defaultdict\n",
    "\n",
    "# pacotes para visualização rápida\n",
    "import seaborn as sns\n",
    "import matplotlib.pyplot as plt\n",
    "\n",
    "# pacote para visualização principal\n",
    "import altair as alt\n",
    "\n",
    "# habilitando renderizador para notebook\n",
    "# alt.renderers.enable('notebook')\n",
    "alt.renderers.enable('default')\n",
    "\n",
    "\n",
    "# desabilitando limite de linhas\n",
    "alt.data_transformers.disable_max_rows()"
   ]
  },
  {
   "cell_type": "markdown",
   "metadata": {},
   "source": [
    "## Importing data..."
   ]
  },
  {
   "cell_type": "code",
   "execution_count": 3,
   "metadata": {
    "ExecuteTime": {
     "end_time": "2020-08-29T14:43:31.560572Z",
     "start_time": "2020-08-29T14:43:31.444783Z"
    }
   },
   "outputs": [],
   "source": [
    "NewTable = pd.read_csv('./data/merged_db.csv', sep=';', encoding='utf-8-sig')"
   ]
  },
  {
   "cell_type": "code",
   "execution_count": 4,
   "metadata": {},
   "outputs": [],
   "source": [
    "# formatando a string NaN\n",
    "NewTable['family'] = NewTable['family'].apply(lambda x: 'NaN' if x=='Nan' else x)"
   ]
  },
  {
   "cell_type": "markdown",
   "metadata": {},
   "source": [
    "<br>\n",
    "\n",
    "<font size=5>**Color Palette per Order**</font>\n",
    "\n",
    "These images were used as inspiration (https://color.adobe.com/create/image)\n",
    "\n",
    "\n",
    "<div class='row' style='padding-top:20px;'>\n",
    "    <div class='col-md-6'>\n",
    "        <img src=\"./src/img1.jpg\" width='400px'>\n",
    "    </div>\n",
    "    <div class='col-md-6'>\n",
    "        <img src=\"./src/img2.jpg\" width='400px'>\n",
    "    </div>\n",
    "</div>\n",
    "\n",
    "<br>\n",
    "\n",
    "A partir das imagens acima, selecionamos cores (centróides) para criar a paleta de cores. Foram elas: \n",
    "<ul>\n",
    "    <li style='color:#3CA67F'><b> #3CA67F </b># verde</li>\n",
    "    <li style='color:#7A9FBF'><b> #7A9FBF </b># azul</li>\n",
    "    <li style='color:#D94814'><b> #D94814 </b># laranja</li>\n",
    "    <li style='color:#D96236'><b> #D96236 </b># laranja 2</li>\n",
    "    <li style='color:#F2B999'><b> #F2B999 </b># 'cor de pele'</li>\n",
    "    <li style='color:#A66C4B'><b> #A66C4B </b># marrom 1</li>\n",
    "    <li style='color:#732C02'><b> #732C02 </b># marrom 2</li>\n",
    "</ul>\n",
    "\n",
    "A partir das cores \"centróides\", utilizamos a ferramenta Color Crafter para selecionar diferentes \"shades\" e auxiliar para categorização em diferentes grupos sugeridos pela equipe de Poliquetas do Museu Nacional. \n",
    "\n",
    "<ul>\n",
    "    <li style='color:#3CA67F'><b> Verde: </b> ['#daffef', '#bbebd3', '#9adabc', '#77c8a5', '#57b791', '#3ca67f', '#2a9670', '#238762', '#257a56']</li>\n",
    "    <li style='color:#7A9FBF'><b> Azul: </b> ['#e7e5df', '#ccd2d8', '#b2c0d0', '#96afc8', '#7a9fbf', '#5d90b6', '#3c81ae', '#0673a4', '#00669a']</li>\n",
    "    <li style='color:#D94814'><b> laranja: </b> ['#ffbd84', '#ffaa74', '#ff9760', '#ff814b', '#fc6b36', '#eb5824', '#d94814', '#c83b03', '#b73000']</li>\n",
    "    <li style='color:#D96236'><b> laranja 2: ['#ffeba9', '#ffd391', '#ffbb7b', '#fda468', '#f18e56', '#e57846', '#d96236', '#cc4d28', '#bf381b']</b> </li>\n",
    "    <li style='color:#F2B999'><b> cor de pele: ['#ffe9c3', '#fbd0ad', '#f2b999', '#e8a287', '#dd8c76', '#d27666', '#c76158', '#bb4d4b', '#ae393e']</b> </li>\n",
    "    <li style='color:#A66C4B'><b> marrom 1: ['#d9c6af', '#ccad96', '#c1977c', '#b48061', '#a66c4b', '#975b39', '#874c2c', '#774124', '#683720']</b> </li>\n",
    "    <li style='color:#732C02'><b> marrom 2: ['#eebd93', '#dfa47a', '#d28d60', '#c37746', '#b4622f', '#a3501d', '#92420e', '#823606', '#732c02']</b> </li>\n",
    "</ul>\n",
    "\n",
    "\n",
    "\n",
    "**Colors  (antigas):** \n",
    "\n",
    "<ul>\n",
    "    <li style='color:#41A681'><b> #41A681 </b># verde1</li>\n",
    "    <li style='color:#3CA67F'><b> #3CA67F </b># verde2</li>\n",
    "    <li style='color:#7ACAAB'><b> #7ACAAB </b># verde claro</li>\n",
    "    <li style='color:#78a1a1'><b> #78a1a1 </b># azul</li>\n",
    "    <li style='color:#8ABFB0'><b> #8ABFB0 </b># azul claro</li>\n",
    "    <li style='color:#FFB27C'><b> #FFB27C </b># cor de pele clara</li>\n",
    "    <li style='color:#F29877'><b> #F29877 </b># cor de pele</li>\n",
    "    <li style='color:#ed845e'><b> #ed845e </b># laranja claro1</li>\n",
    "    <li style='color:#D96236'><b> #D96236 </b># laranja claro2</li>\n",
    "    <li style='color:#D95323'><b> #D95323 </b># laranja 1</li>\n",
    "    <li style='color:#D94B18'><b> #D94B18 </b># laranja 2</li>\n",
    "    <li style='color:#D9C2AD'><b> #D9C2AD </b># bege</li>\n",
    "    <li style='color:#A66C4B'><b> #A66C4B </b># marrom claro</li>\n",
    "    <li style='color:#86471B'><b> #86471B </b># marrom1</li>\n",
    "    <li style='color:#732C02'><b> #732C02 </b># marrom2</li>\n",
    "    <li style='color:#592202'><b> #592202 </b># marrom escuro1</li>\n",
    "    <li style='color:#3D1806'><b> #3D1806 </b># marrom escuro2</li>\n",
    "    <li style='color:#0D0D0D'><b> #0D0D0D </b># preto</li>\n",
    "</ul>\n",
    "\n"
   ]
  },
  {
   "cell_type": "code",
   "execution_count": 5,
   "metadata": {},
   "outputs": [],
   "source": [
    "# determinando cores de acordo com a planilha (2020.10.01 - IB e MN - Cores visualização.xlsx)\n",
    "ordens = NewTable['order'].unique()\n",
    "familias = NewTable['family'].unique()\n",
    "\n",
    "# # o agrupamento é feito por famílias (ordem daquelas famílias deve assumir certa cor)\n",
    "cores_ordem = {\n",
    "    'Spionida':'#41A681',   # verde\n",
    "    'Sabellida':'#7ACAAB',  # verde claro\n",
    "    'Canalipalpata':'#78a1a1',  # azul\n",
    "    'Amphinomida':'#8ABFB0',  # azul claro\n",
    "    'Eunicida':'#A66C4B', # marrom claro\n",
    "    'Phyllodocida':'#732C02', # marrom2\n",
    "    'Terebellida':'#ed845e', # laranja claro1\n",
    "    'Scolecida':'#D94B18', # laranja 2\n",
    "    np.NAN:'#0D0D0D',  # preto\n",
    "    \n",
    "    # ordens não citadas na planilha:\n",
    "    'Sipuncula':'#D9C2AD', # bege\n",
    "    'Crassiclitellata':'#FFB27C', # cor de pele clara\n",
    "    'Aspidosiphonida':'#F29877',  # cor de pele\n",
    "    \n",
    "}\n",
    "\n",
    "# paleta de cores por família\n",
    "cores_familia = {\n",
    "    'Magelonidae':'#238762',    # verde escuro \n",
    "    'Oweniidae':'#3CA67F',      # verde (centroide)  \n",
    "    'Chaetopteridae':'#77c8a5', # verde\n",
    "    'Amphinomidae':'#bbebd3',   # verde claro\n",
    "    'Lumbrineridae':'#e7e5df',  # azul claro 1\n",
    "    'Dorvilleidae':'#b2c0d0',   # azul claro2\n",
    "    'Oenonidae':'#7A9FBF',      # azul (centroide)\n",
    "    'Eunicidae':'#3c81ae',      # azul\n",
    "    'Onuphidae':'#00669a',      # azul escuro\n",
    "    'Syllidae':'#ffbd84', \n",
    "    'Typhloscolecidae':'#ffaa74', \n",
    "    'Aphroditidae':'#ff9760', \n",
    "    'Acoetidae':'#ff814b', \n",
    "    'Chrysopetalidae':'#fc6b36', \n",
    "    'Eulepethidae':'#eb5824',\n",
    "    'Lopadorrhynchidae':'#d94814',  # laranja (centroide)\n",
    "    'Polynoidae':'#c83b03',\n",
    "    'Nereididae':'#b73000',\n",
    "    'Nephtyidae':'#f18e56',\n",
    "    'Glyceridae':'#D96236',         # laranja 2 (centroide)\n",
    "    'Tomopteridae':'#bf381b',\n",
    "    'Serpulidae':'#fbd0ad',\n",
    "    'Sabellidae':'#f2b999', # cor de pele (centroide)\n",
    "    'Sabellariidae':'#e8a287',\n",
    "    'Spionidae':'#d27666',\n",
    "    'Ampharetidae':'#b48061',\n",
    "    'Pectinariidae':'#a66c4b',  # marrom 1 (centroide),\n",
    "    'Trichobranchidae':'#975b39',\n",
    "    'Terebellidae':'#874c2c',\n",
    "    'Cirratulidae':'#774124',\n",
    "    'Flabelligeridae':'#683720',\n",
    "    'Sternaspidae':'#eebd93',\n",
    "    'Orbiniidae':'#dfa47a',\n",
    "    'Opheliidae':'#d28d60',\n",
    "    'Capitellidae':'#c37746',\n",
    "    'Arenicolidae':'#b4622f',\n",
    "    'Cossuridae':'#a3501d',\n",
    "    'Scalibregmatidae':'#92420e',\n",
    "    'Paraonidae':'#823606',\n",
    "    'Maldanidae':'#732c02', # marrom 2 (centroide)\n",
    "    'NaN':'#0D0D0D',  # preto\n",
    "}"
   ]
  },
  {
   "cell_type": "code",
   "execution_count": 6,
   "metadata": {
    "ExecuteTime": {
     "end_time": "2020-08-29T14:43:31.583386Z",
     "start_time": "2020-08-29T14:43:31.566275Z"
    }
   },
   "outputs": [],
   "source": [
    "# paleta de cores ANTIGA\n",
    "\n",
    "# ordens = NewTable['order'].unique()\n",
    "# cores = [\n",
    "#     '#8ABFB0',  # azul claro\n",
    "#     '#41A681',  # verde\n",
    "#     '#7ACAAB',  # verde claro\n",
    "#     '#D9C2AD',  # bege\n",
    "#     '#0D0D0D',  # preto\n",
    "#     '#D96236',  # laranja\n",
    "#     '#D94B18',  # laranja escuro\n",
    "#     '#FFB27C',  # cor de pele clara\n",
    "#     '#732C02',  # marrom\n",
    "#     '#86471B',  # mostarda\n",
    "    \n",
    "#     # cores novas para Canalipalpata e Aspidosiphonida (a ordem é aleatória. Fixar depois)\n",
    "#     '#592202',\n",
    "#     '#D96236'\n",
    "# ]\n",
    "\n",
    "# cores_ordem = defaultdict()\n",
    "# for j in range(len(ordens)):\n",
    "#     ordem = ordens[j]\n",
    "#     cores_ordem[ordem] = cores[j]\n",
    "    \n",
    "# cores_ordem = dict(cores_ordem)"
   ]
  },
  {
   "cell_type": "markdown",
   "metadata": {},
   "source": [
    "<br>\n",
    "\n",
    "\n",
    "## Graphs\n",
    "\n",
    "---\n",
    "\n",
    "### Types (*per year*) per genus\n",
    "\n",
    "x: Species1, cor: Type Status1, size: counts"
   ]
  },
  {
   "cell_type": "code",
   "execution_count": 7,
   "metadata": {
    "ExecuteTime": {
     "end_time": "2020-08-29T14:43:31.665942Z",
     "start_time": "2020-08-29T14:43:31.588066Z"
    }
   },
   "outputs": [
    {
     "data": {
      "text/plain": [
       "Paratype    119\n",
       "Holotype     35\n",
       "Neotype       1\n",
       "Name: type, dtype: int64"
      ]
     },
     "execution_count": 7,
     "metadata": {},
     "output_type": "execute_result"
    }
   ],
   "source": [
    "# p.s.: the large majority is non-type\n",
    "NewTable['type'].value_counts()"
   ]
  },
  {
   "cell_type": "code",
   "execution_count": 8,
   "metadata": {
    "ExecuteTime": {
     "end_time": "2020-08-29T14:43:31.825641Z",
     "start_time": "2020-08-29T14:43:31.738468Z"
    }
   },
   "outputs": [],
   "source": [
    "# subsetting\n",
    "teste = NewTable[['min_depth','family','order', 'start_year', 'qualifier', 'catalog_number', \n",
    "                  'genus', 'species', 'type']].copy()\n",
    "\n",
    "# grouping by type, year and order\n",
    "temp = teste.groupby(['type','start_year', 'family']).count()['species'].reset_index().rename(columns={\n",
    "    'species':'counts'\n",
    "})\n",
    "\n",
    "# p.s.: Cótipo and Topótipo are not types\n",
    "temp = temp[(temp['type'] != 'Cótipo') & (temp['type'] != 'Topótipo')]"
   ]
  },
  {
   "cell_type": "markdown",
   "metadata": {},
   "source": [
    "243 info. de tipos"
   ]
  },
  {
   "cell_type": "markdown",
   "metadata": {},
   "source": [
    "### Gráf. de Tipos"
   ]
  },
  {
   "cell_type": "code",
   "execution_count": 11,
   "metadata": {
    "ExecuteTime": {
     "end_time": "2020-08-29T14:43:31.917955Z",
     "start_time": "2020-08-29T14:43:31.827309Z"
    }
   },
   "outputs": [
    {
     "data": {
      "text/html": [
       "\n",
       "<div id=\"altair-viz-69fbf3fbe5f141fa9c54835d433baa39\"></div>\n",
       "<script type=\"text/javascript\">\n",
       "  (function(spec, embedOpt){\n",
       "    let outputDiv = document.currentScript.previousElementSibling;\n",
       "    if (outputDiv.id !== \"altair-viz-69fbf3fbe5f141fa9c54835d433baa39\") {\n",
       "      outputDiv = document.getElementById(\"altair-viz-69fbf3fbe5f141fa9c54835d433baa39\");\n",
       "    }\n",
       "    const paths = {\n",
       "      \"vega\": \"https://cdn.jsdelivr.net/npm//vega@5?noext\",\n",
       "      \"vega-lib\": \"https://cdn.jsdelivr.net/npm//vega-lib?noext\",\n",
       "      \"vega-lite\": \"https://cdn.jsdelivr.net/npm//vega-lite@4.8.1?noext\",\n",
       "      \"vega-embed\": \"https://cdn.jsdelivr.net/npm//vega-embed@6?noext\",\n",
       "    };\n",
       "\n",
       "    function loadScript(lib) {\n",
       "      return new Promise(function(resolve, reject) {\n",
       "        var s = document.createElement('script');\n",
       "        s.src = paths[lib];\n",
       "        s.async = true;\n",
       "        s.onload = () => resolve(paths[lib]);\n",
       "        s.onerror = () => reject(`Error loading script: ${paths[lib]}`);\n",
       "        document.getElementsByTagName(\"head\")[0].appendChild(s);\n",
       "      });\n",
       "    }\n",
       "\n",
       "    function showError(err) {\n",
       "      outputDiv.innerHTML = `<div class=\"error\" style=\"color:red;\">${err}</div>`;\n",
       "      throw err;\n",
       "    }\n",
       "\n",
       "    function displayChart(vegaEmbed) {\n",
       "      vegaEmbed(outputDiv, spec, embedOpt)\n",
       "        .catch(err => showError(`Javascript Error: ${err.message}<br>This usually means there's a typo in your chart specification. See the javascript console for the full traceback.`));\n",
       "    }\n",
       "\n",
       "    if(typeof define === \"function\" && define.amd) {\n",
       "      requirejs.config({paths});\n",
       "      require([\"vega-embed\"], displayChart, err => showError(`Error loading script: ${err.message}`));\n",
       "    } else if (typeof vegaEmbed === \"function\") {\n",
       "      displayChart(vegaEmbed);\n",
       "    } else {\n",
       "      loadScript(\"vega\")\n",
       "        .then(() => loadScript(\"vega-lite\"))\n",
       "        .then(() => loadScript(\"vega-embed\"))\n",
       "        .catch(showError)\n",
       "        .then(() => displayChart(vegaEmbed));\n",
       "    }\n",
       "  })({\"config\": {\"view\": {\"continuousWidth\": 400, \"continuousHeight\": 300}}, \"data\": {\"name\": \"data-362509d75ab292431a3acda6b02298bb\"}, \"mark\": \"circle\", \"encoding\": {\"color\": {\"type\": \"nominal\", \"field\": \"family\", \"legend\": {\"columns\": 2, \"symbolLimit\": 42}, \"scale\": {\"domain\": [\"Magelonidae\", \"Oweniidae\", \"Chaetopteridae\", \"Amphinomidae\", \"Lumbrineridae\", \"Dorvilleidae\", \"Oenonidae\", \"Eunicidae\", \"Onuphidae\", \"Syllidae\", \"Typhloscolecidae\", \"Aphroditidae\", \"Acoetidae\", \"Chrysopetalidae\", \"Eulepethidae\", \"Lopadorrhynchidae\", \"Polynoidae\", \"Nereididae\", \"Nephtyidae\", \"Glyceridae\", \"Tomopteridae\", \"Serpulidae\", \"Sabellidae\", \"Sabellariidae\", \"Spionidae\", \"Ampharetidae\", \"Pectinariidae\", \"Trichobranchidae\", \"Terebellidae\", \"Cirratulidae\", \"Flabelligeridae\", \"Sternaspidae\", \"Orbiniidae\", \"Opheliidae\", \"Capitellidae\", \"Arenicolidae\", \"Cossuridae\", \"Scalibregmatidae\", \"Paraonidae\", \"Maldanidae\", \"NaN\"], \"range\": [\"#238762\", \"#3CA67F\", \"#77c8a5\", \"#bbebd3\", \"#e7e5df\", \"#b2c0d0\", \"#7A9FBF\", \"#3c81ae\", \"#00669a\", \"#ffbd84\", \"#ffaa74\", \"#ff9760\", \"#ff814b\", \"#fc6b36\", \"#eb5824\", \"#d94814\", \"#c83b03\", \"#b73000\", \"#f18e56\", \"#D96236\", \"#bf381b\", \"#fbd0ad\", \"#f2b999\", \"#e8a287\", \"#d27666\", \"#b48061\", \"#a66c4b\", \"#975b39\", \"#874c2c\", \"#774124\", \"#683720\", \"#eebd93\", \"#dfa47a\", \"#d28d60\", \"#c37746\", \"#b4622f\", \"#a3501d\", \"#92420e\", \"#823606\", \"#732c02\", \"#0D0D0D\"]}, \"title\": \"Family\"}, \"size\": {\"type\": \"quantitative\", \"field\": \"counts\"}, \"tooltip\": [{\"type\": \"nominal\", \"field\": \"type\", \"title\": \"type\"}, {\"type\": \"quantitative\", \"field\": \"start_year\", \"title\": \"start year\"}, {\"type\": \"quantitative\", \"field\": \"counts\", \"title\": \"counts\"}], \"x\": {\"type\": \"ordinal\", \"field\": \"start_year\", \"title\": \"Sampling Year\"}, \"y\": {\"type\": \"nominal\", \"field\": \"type\", \"sort\": {\"field\": \"counts\", \"op\": \"sum\", \"order\": \"descending\"}, \"title\": \"Type\"}}, \"height\": 150, \"title\": \"Types per year\", \"$schema\": \"https://vega.github.io/schema/vega-lite/v4.8.1.json\", \"datasets\": {\"data-362509d75ab292431a3acda6b02298bb\": [{\"type\": \"Holotype\", \"start_year\": 1900.0, \"family\": \"Amphinomidae\", \"counts\": 1}, {\"type\": \"Holotype\", \"start_year\": 1997.0, \"family\": \"Eunicidae\", \"counts\": 1}, {\"type\": \"Holotype\", \"start_year\": 1999.0, \"family\": \"Syllidae\", \"counts\": 2}, {\"type\": \"Holotype\", \"start_year\": 2000.0, \"family\": \"Sabellidae\", \"counts\": 1}, {\"type\": \"Holotype\", \"start_year\": 2000.0, \"family\": \"Terebellidae\", \"counts\": 2}, {\"type\": \"Holotype\", \"start_year\": 2003.0, \"family\": \"Amphinomidae\", \"counts\": 2}, {\"type\": \"Holotype\", \"start_year\": 2005.0, \"family\": \"Nereididae\", \"counts\": 1}, {\"type\": \"Holotype\", \"start_year\": 2008.0, \"family\": \"Lacydoniidae\", \"counts\": 1}, {\"type\": \"Holotype\", \"start_year\": 2008.0, \"family\": \"Polynoidae\", \"counts\": 1}, {\"type\": \"Holotype\", \"start_year\": 2009.0, \"family\": \"Lacydoniidae\", \"counts\": 2}, {\"type\": \"Holotype\", \"start_year\": 2009.0, \"family\": \"Orbiniidae\", \"counts\": 3}, {\"type\": \"Holotype\", \"start_year\": 2010.0, \"family\": \"Dorvilleidae\", \"counts\": 1}, {\"type\": \"Holotype\", \"start_year\": 2011.0, \"family\": \"Amphinomidae\", \"counts\": 1}, {\"type\": \"Holotype\", \"start_year\": 2011.0, \"family\": \"Cirratulidae\", \"counts\": 1}, {\"type\": \"Holotype\", \"start_year\": 2011.0, \"family\": \"Spionidae\", \"counts\": 1}, {\"type\": \"Holotype\", \"start_year\": 2012.0, \"family\": \"Cirratulidae\", \"counts\": 1}, {\"type\": \"Holotype\", \"start_year\": 2012.0, \"family\": \"Paraonidae\", \"counts\": 2}, {\"type\": \"Holotype\", \"start_year\": 2012.0, \"family\": \"Sigalionidae\", \"counts\": 1}, {\"type\": \"Holotype\", \"start_year\": 2013.0, \"family\": \"Cirratulidae\", \"counts\": 1}, {\"type\": \"Holotype\", \"start_year\": 2014.0, \"family\": \"Sigalionidae\", \"counts\": 1}, {\"type\": \"Holotype\", \"start_year\": 2015.0, \"family\": \"Nereididae\", \"counts\": 1}, {\"type\": \"Holotype\", \"start_year\": 2015.0, \"family\": \"Syllidae\", \"counts\": 1}, {\"type\": \"Holotype\", \"start_year\": 2016.0, \"family\": \"Syllidae\", \"counts\": 4}, {\"type\": \"Neotype\", \"start_year\": 2018.0, \"family\": \"Orbiniidae\", \"counts\": 1}, {\"type\": \"Paratype\", \"start_year\": 1996.0, \"family\": \"Eunicidae\", \"counts\": 3}, {\"type\": \"Paratype\", \"start_year\": 1997.0, \"family\": \"Eunicidae\", \"counts\": 14}, {\"type\": \"Paratype\", \"start_year\": 2000.0, \"family\": \"Sabellidae\", \"counts\": 3}, {\"type\": \"Paratype\", \"start_year\": 2000.0, \"family\": \"Syllidae\", \"counts\": 1}, {\"type\": \"Paratype\", \"start_year\": 2000.0, \"family\": \"Terebellidae\", \"counts\": 5}, {\"type\": \"Paratype\", \"start_year\": 2002.0, \"family\": \"Syllidae\", \"counts\": 1}, {\"type\": \"Paratype\", \"start_year\": 2003.0, \"family\": \"Amphinomidae\", \"counts\": 3}, {\"type\": \"Paratype\", \"start_year\": 2003.0, \"family\": \"Syllidae\", \"counts\": 5}, {\"type\": \"Paratype\", \"start_year\": 2005.0, \"family\": \"Nereididae\", \"counts\": 2}, {\"type\": \"Paratype\", \"start_year\": 2006.0, \"family\": \"Polynoidae\", \"counts\": 1}, {\"type\": \"Paratype\", \"start_year\": 2008.0, \"family\": \"Polynoidae\", \"counts\": 9}, {\"type\": \"Paratype\", \"start_year\": 2008.0, \"family\": \"Sigalionidae\", \"counts\": 1}, {\"type\": \"Paratype\", \"start_year\": 2009.0, \"family\": \"Orbiniidae\", \"counts\": 7}, {\"type\": \"Paratype\", \"start_year\": 2009.0, \"family\": \"Polynoidae\", \"counts\": 5}, {\"type\": \"Paratype\", \"start_year\": 2010.0, \"family\": \"Dorvilleidae\", \"counts\": 2}, {\"type\": \"Paratype\", \"start_year\": 2010.0, \"family\": \"Paraonidae\", \"counts\": 1}, {\"type\": \"Paratype\", \"start_year\": 2011.0, \"family\": \"Amphinomidae\", \"counts\": 1}, {\"type\": \"Paratype\", \"start_year\": 2011.0, \"family\": \"Cirratulidae\", \"counts\": 1}, {\"type\": \"Paratype\", \"start_year\": 2011.0, \"family\": \"Eunicidae\", \"counts\": 1}, {\"type\": \"Paratype\", \"start_year\": 2011.0, \"family\": \"Paraonidae\", \"counts\": 3}, {\"type\": \"Paratype\", \"start_year\": 2011.0, \"family\": \"Polynoidae\", \"counts\": 1}, {\"type\": \"Paratype\", \"start_year\": 2011.0, \"family\": \"Spionidae\", \"counts\": 8}, {\"type\": \"Paratype\", \"start_year\": 2012.0, \"family\": \"Amphinomidae\", \"counts\": 2}, {\"type\": \"Paratype\", \"start_year\": 2012.0, \"family\": \"Capitellidae\", \"counts\": 1}, {\"type\": \"Paratype\", \"start_year\": 2012.0, \"family\": \"Cirratulidae\", \"counts\": 1}, {\"type\": \"Paratype\", \"start_year\": 2012.0, \"family\": \"Eunicidae\", \"counts\": 3}, {\"type\": \"Paratype\", \"start_year\": 2012.0, \"family\": \"Paraonidae\", \"counts\": 5}, {\"type\": \"Paratype\", \"start_year\": 2013.0, \"family\": \"Amphinomidae\", \"counts\": 5}, {\"type\": \"Paratype\", \"start_year\": 2013.0, \"family\": \"Capitellidae\", \"counts\": 1}, {\"type\": \"Paratype\", \"start_year\": 2013.0, \"family\": \"Cirratulidae\", \"counts\": 1}, {\"type\": \"Paratype\", \"start_year\": 2014.0, \"family\": \"Capitellidae\", \"counts\": 2}, {\"type\": \"Paratype\", \"start_year\": 2014.0, \"family\": \"Sigalionidae\", \"counts\": 1}, {\"type\": \"Paratype\", \"start_year\": 2015.0, \"family\": \"Capitellidae\", \"counts\": 1}, {\"type\": \"Paratype\", \"start_year\": 2015.0, \"family\": \"Nereididae\", \"counts\": 1}, {\"type\": \"Paratype\", \"start_year\": 2015.0, \"family\": \"Syllidae\", \"counts\": 4}, {\"type\": \"Paratype\", \"start_year\": 2016.0, \"family\": \"Syllidae\", \"counts\": 5}]}}, {\"mode\": \"vega-lite\"});\n",
       "</script>"
      ],
      "text/plain": [
       "alt.Chart(...)"
      ]
     },
     "execution_count": 11,
     "metadata": {},
     "output_type": "execute_result"
    }
   ],
   "source": [
    "tipo = alt.Chart(temp, height=150, title='Types per year').mark_circle().encode(\n",
    "    x = alt.X('start_year:O', title='Sampling Year'),\n",
    "    y = alt.Y('type:N', title= 'Type',\n",
    "              sort=alt.EncodingSortField('counts', op='sum', order='descending')),\n",
    "    color= alt.Color('family:N', title='Family',\n",
    "                     scale=alt.Scale(domain=list(cores_familia.keys()), range=list(cores_familia.values())),\n",
    "                     legend= alt.Legend(columns=2, symbolLimit=42)), \n",
    "    size= alt.Size('counts'),\n",
    "    tooltip= [alt.Tooltip('type', title='type'),\n",
    "              alt.Tooltip('start_year', title='start year'),\n",
    "              alt.Tooltip('counts', title='counts')]\n",
    ")\n",
    "\n",
    "# tipo.save('./graphs/tipo/tipos_por_ano-colors_per_family.html')\n",
    "\n",
    "tipo"
   ]
  },
  {
   "cell_type": "markdown",
   "metadata": {},
   "source": [
    "## Types per Genus \n",
    "\n",
    "same graph as above, with gender on Y axis and colored by type"
   ]
  },
  {
   "cell_type": "code",
   "execution_count": 22,
   "metadata": {
    "ExecuteTime": {
     "end_time": "2020-08-29T14:45:15.836501Z",
     "start_time": "2020-08-29T14:45:15.798991Z"
    }
   },
   "outputs": [],
   "source": [
    "# subsetting\n",
    "teste = NewTable[['min_depth','family','order', 'start_year', 'qualifier', 'catalog_number', \n",
    "                  'genus', 'species', 'type']].copy()\n",
    "\n",
    "# grouping by type, year and order\n",
    "temp = teste.groupby(['type','start_year', 'genus', 'family']).count()['order'].reset_index().rename(columns={\n",
    "    'order':'counts'\n",
    "})\n",
    "\n",
    "# p.s.: Cótipo and Topótipo are not types\n",
    "temp = temp[(temp['type'] != 'Cótipo') & (temp['type'] != 'Topótipo')]"
   ]
  },
  {
   "cell_type": "code",
   "execution_count": 23,
   "metadata": {
    "ExecuteTime": {
     "end_time": "2020-08-29T14:45:16.246436Z",
     "start_time": "2020-08-29T14:45:16.242007Z"
    }
   },
   "outputs": [],
   "source": [
    "cores_padrao = ['#e45756', '#4c78a8', '#f58518']\n",
    "tipos = ['Holotype', 'Paratype', 'Neotype']"
   ]
  },
  {
   "cell_type": "code",
   "execution_count": 26,
   "metadata": {
    "ExecuteTime": {
     "end_time": "2020-08-29T14:45:17.085845Z",
     "start_time": "2020-08-29T14:45:17.030574Z"
    }
   },
   "outputs": [
    {
     "data": {
      "text/html": [
       "\n",
       "<div id=\"altair-viz-4f546a1af9834fd1b96ef601fed4219a\"></div>\n",
       "<script type=\"text/javascript\">\n",
       "  (function(spec, embedOpt){\n",
       "    let outputDiv = document.currentScript.previousElementSibling;\n",
       "    if (outputDiv.id !== \"altair-viz-4f546a1af9834fd1b96ef601fed4219a\") {\n",
       "      outputDiv = document.getElementById(\"altair-viz-4f546a1af9834fd1b96ef601fed4219a\");\n",
       "    }\n",
       "    const paths = {\n",
       "      \"vega\": \"https://cdn.jsdelivr.net/npm//vega@5?noext\",\n",
       "      \"vega-lib\": \"https://cdn.jsdelivr.net/npm//vega-lib?noext\",\n",
       "      \"vega-lite\": \"https://cdn.jsdelivr.net/npm//vega-lite@4.8.1?noext\",\n",
       "      \"vega-embed\": \"https://cdn.jsdelivr.net/npm//vega-embed@6?noext\",\n",
       "    };\n",
       "\n",
       "    function loadScript(lib) {\n",
       "      return new Promise(function(resolve, reject) {\n",
       "        var s = document.createElement('script');\n",
       "        s.src = paths[lib];\n",
       "        s.async = true;\n",
       "        s.onload = () => resolve(paths[lib]);\n",
       "        s.onerror = () => reject(`Error loading script: ${paths[lib]}`);\n",
       "        document.getElementsByTagName(\"head\")[0].appendChild(s);\n",
       "      });\n",
       "    }\n",
       "\n",
       "    function showError(err) {\n",
       "      outputDiv.innerHTML = `<div class=\"error\" style=\"color:red;\">${err}</div>`;\n",
       "      throw err;\n",
       "    }\n",
       "\n",
       "    function displayChart(vegaEmbed) {\n",
       "      vegaEmbed(outputDiv, spec, embedOpt)\n",
       "        .catch(err => showError(`Javascript Error: ${err.message}<br>This usually means there's a typo in your chart specification. See the javascript console for the full traceback.`));\n",
       "    }\n",
       "\n",
       "    if(typeof define === \"function\" && define.amd) {\n",
       "      requirejs.config({paths});\n",
       "      require([\"vega-embed\"], displayChart, err => showError(`Error loading script: ${err.message}`));\n",
       "    } else if (typeof vegaEmbed === \"function\") {\n",
       "      displayChart(vegaEmbed);\n",
       "    } else {\n",
       "      loadScript(\"vega\")\n",
       "        .then(() => loadScript(\"vega-lite\"))\n",
       "        .then(() => loadScript(\"vega-embed\"))\n",
       "        .catch(showError)\n",
       "        .then(() => displayChart(vegaEmbed));\n",
       "    }\n",
       "  })({\"config\": {\"view\": {\"continuousWidth\": 400, \"continuousHeight\": 300}}, \"data\": {\"name\": \"data-a469ee2deb81c530b99081ccd381f87a\"}, \"mark\": {\"type\": \"point\", \"filled\": false}, \"encoding\": {\"color\": {\"type\": \"nominal\", \"field\": \"family\", \"legend\": {\"columns\": 2, \"symbolLimit\": 42, \"symbolType\": \"circle\"}, \"scale\": {\"domain\": [\"Magelonidae\", \"Oweniidae\", \"Chaetopteridae\", \"Amphinomidae\", \"Lumbrineridae\", \"Dorvilleidae\", \"Oenonidae\", \"Eunicidae\", \"Onuphidae\", \"Syllidae\", \"Typhloscolecidae\", \"Aphroditidae\", \"Acoetidae\", \"Chrysopetalidae\", \"Eulepethidae\", \"Lopadorrhynchidae\", \"Polynoidae\", \"Nereididae\", \"Nephtyidae\", \"Glyceridae\", \"Tomopteridae\", \"Serpulidae\", \"Sabellidae\", \"Sabellariidae\", \"Spionidae\", \"Ampharetidae\", \"Pectinariidae\", \"Trichobranchidae\", \"Terebellidae\", \"Cirratulidae\", \"Flabelligeridae\", \"Sternaspidae\", \"Orbiniidae\", \"Opheliidae\", \"Capitellidae\", \"Arenicolidae\", \"Cossuridae\", \"Scalibregmatidae\", \"Paraonidae\", \"Maldanidae\", \"NaN\"], \"range\": [\"#238762\", \"#3CA67F\", \"#77c8a5\", \"#bbebd3\", \"#e7e5df\", \"#b2c0d0\", \"#7A9FBF\", \"#3c81ae\", \"#00669a\", \"#ffbd84\", \"#ffaa74\", \"#ff9760\", \"#ff814b\", \"#fc6b36\", \"#eb5824\", \"#d94814\", \"#c83b03\", \"#b73000\", \"#f18e56\", \"#D96236\", \"#bf381b\", \"#fbd0ad\", \"#f2b999\", \"#e8a287\", \"#d27666\", \"#b48061\", \"#a66c4b\", \"#975b39\", \"#874c2c\", \"#774124\", \"#683720\", \"#eebd93\", \"#dfa47a\", \"#d28d60\", \"#c37746\", \"#b4622f\", \"#a3501d\", \"#92420e\", \"#823606\", \"#732c02\", \"#0D0D0D\"]}, \"title\": \"Family\"}, \"opacity\": {\"type\": \"nominal\", \"field\": \"type\", \"scale\": {\"domain\": [\"Holotype\", \"Neotype\", \"Paratype\"], \"range\": [1, 0.5, 1]}}, \"order\": {\"type\": \"quantitative\", \"field\": \"counts\", \"sort\": \"descending\"}, \"shape\": {\"type\": \"nominal\", \"field\": \"type\", \"scale\": {\"domain\": [\"Holotype\", \"Neotype\", \"Paratype\"], \"range\": [\"triangle\", \"square\", \"circle\"]}, \"title\": \"Type\"}, \"size\": {\"type\": \"quantitative\", \"field\": \"counts\", \"scale\": {\"range\": [10, 500]}}, \"tooltip\": [{\"type\": \"nominal\", \"field\": \"type\", \"title\": \"type\"}, {\"type\": \"quantitative\", \"field\": \"start_year\", \"title\": \"start year\"}, {\"type\": \"quantitative\", \"field\": \"counts\", \"title\": \"counts\"}], \"x\": {\"type\": \"ordinal\", \"field\": \"start_year\", \"title\": \"Sampling Year\"}, \"y\": {\"type\": \"nominal\", \"field\": \"genus\", \"sort\": {\"field\": \"counts\", \"op\": \"count\", \"order\": \"descending\"}, \"title\": \"Genus\"}}, \"height\": 400, \"title\": \"Types per Genus\", \"width\": 400, \"$schema\": \"https://vega.github.io/schema/vega-lite/v4.8.1.json\", \"datasets\": {\"data-a469ee2deb81c530b99081ccd381f87a\": [{\"type\": \"Holotype\", \"start_year\": 1900.0, \"genus\": \"Branchamphinome\", \"family\": \"Amphinomidae\", \"counts\": 1}, {\"type\": \"Holotype\", \"start_year\": 1997.0, \"genus\": \"Palola\", \"family\": \"Eunicidae\", \"counts\": 1}, {\"type\": \"Holotype\", \"start_year\": 1999.0, \"genus\": \"Anguillosyllis\", \"family\": \"Syllidae\", \"counts\": 1}, {\"type\": \"Holotype\", \"start_year\": 1999.0, \"genus\": \"Sphaerosyllis\", \"family\": \"Syllidae\", \"counts\": 1}, {\"type\": \"Holotype\", \"start_year\": 2000.0, \"genus\": \"Bispira\", \"family\": \"Sabellidae\", \"counts\": 1}, {\"type\": \"Holotype\", \"start_year\": 2000.0, \"genus\": \"Polycirrus\", \"family\": \"Terebellidae\", \"counts\": 2}, {\"type\": \"Holotype\", \"start_year\": 2003.0, \"genus\": \"Chloeia\", \"family\": \"Amphinomidae\", \"counts\": 1}, {\"type\": \"Holotype\", \"start_year\": 2003.0, \"genus\": \"Paramphinome\", \"family\": \"Amphinomidae\", \"counts\": 1}, {\"type\": \"Holotype\", \"start_year\": 2005.0, \"genus\": \"Namalycastis\", \"family\": \"Nereididae\", \"counts\": 1}, {\"type\": \"Holotype\", \"start_year\": 2008.0, \"genus\": \"Harmothoe\", \"family\": \"Polynoidae\", \"counts\": 1}, {\"type\": \"Holotype\", \"start_year\": 2008.0, \"genus\": \"Lacydonia\", \"family\": \"Lacydoniidae\", \"counts\": 1}, {\"type\": \"Holotype\", \"start_year\": 2009.0, \"genus\": \"Lacydonia\", \"family\": \"Lacydoniidae\", \"counts\": 2}, {\"type\": \"Holotype\", \"start_year\": 2009.0, \"genus\": \"Orbinia\", \"family\": \"Orbiniidae\", \"counts\": 2}, {\"type\": \"Holotype\", \"start_year\": 2009.0, \"genus\": \"Schroederella\", \"family\": \"Orbiniidae\", \"counts\": 1}, {\"type\": \"Holotype\", \"start_year\": 2010.0, \"genus\": \"Ophryotrocha\", \"family\": \"Dorvilleidae\", \"counts\": 1}, {\"type\": \"Holotype\", \"start_year\": 2011.0, \"genus\": \"Bathychloeia\", \"family\": \"Amphinomidae\", \"counts\": 1}, {\"type\": \"Holotype\", \"start_year\": 2011.0, \"genus\": \"Cirriformia\", \"family\": \"Cirratulidae\", \"counts\": 1}, {\"type\": \"Holotype\", \"start_year\": 2011.0, \"genus\": \"Spiogalea\", \"family\": \"Spionidae\", \"counts\": 1}, {\"type\": \"Holotype\", \"start_year\": 2012.0, \"genus\": \"Aricidea\", \"family\": \"Paraonidae\", \"counts\": 1}, {\"type\": \"Holotype\", \"start_year\": 2012.0, \"genus\": \"Pholoides\", \"family\": \"Sigalionidae\", \"counts\": 1}, {\"type\": \"Holotype\", \"start_year\": 2012.0, \"genus\": \"Sabidus\", \"family\": \"Paraonidae\", \"counts\": 1}, {\"type\": \"Holotype\", \"start_year\": 2012.0, \"genus\": \"Timarete\", \"family\": \"Cirratulidae\", \"counts\": 1}, {\"type\": \"Holotype\", \"start_year\": 2013.0, \"genus\": \"Cirriformia\", \"family\": \"Cirratulidae\", \"counts\": 1}, {\"type\": \"Holotype\", \"start_year\": 2014.0, \"genus\": \"Pisionidens\", \"family\": \"Sigalionidae\", \"counts\": 1}, {\"type\": \"Holotype\", \"start_year\": 2015.0, \"genus\": \"Branchiosyllis\", \"family\": \"Syllidae\", \"counts\": 1}, {\"type\": \"Holotype\", \"start_year\": 2015.0, \"genus\": \"Neanthes\", \"family\": \"Nereididae\", \"counts\": 1}, {\"type\": \"Holotype\", \"start_year\": 2016.0, \"genus\": \"Branchiosyllis\", \"family\": \"Syllidae\", \"counts\": 1}, {\"type\": \"Holotype\", \"start_year\": 2016.0, \"genus\": \"Megasyllis\", \"family\": \"Syllidae\", \"counts\": 1}, {\"type\": \"Holotype\", \"start_year\": 2016.0, \"genus\": \"Salvatoria\", \"family\": \"Syllidae\", \"counts\": 2}, {\"type\": \"Neotype\", \"start_year\": 2018.0, \"genus\": \"Naineris\", \"family\": \"Orbiniidae\", \"counts\": 1}, {\"type\": \"Paratype\", \"start_year\": 1996.0, \"genus\": \"Palola\", \"family\": \"Eunicidae\", \"counts\": 3}, {\"type\": \"Paratype\", \"start_year\": 1997.0, \"genus\": \"Palola\", \"family\": \"Eunicidae\", \"counts\": 14}, {\"type\": \"Paratype\", \"start_year\": 2000.0, \"genus\": \"Bispira\", \"family\": \"Sabellidae\", \"counts\": 1}, {\"type\": \"Paratype\", \"start_year\": 2000.0, \"genus\": \"Branchiosyllis\", \"family\": \"Syllidae\", \"counts\": 1}, {\"type\": \"Paratype\", \"start_year\": 2000.0, \"genus\": \"Chone\", \"family\": \"Sabellidae\", \"counts\": 2}, {\"type\": \"Paratype\", \"start_year\": 2000.0, \"genus\": \"Polycirrus\", \"family\": \"Terebellidae\", \"counts\": 5}, {\"type\": \"Paratype\", \"start_year\": 2002.0, \"genus\": \"Sphaerosyllis\", \"family\": \"Syllidae\", \"counts\": 1}, {\"type\": \"Paratype\", \"start_year\": 2003.0, \"genus\": \"Chloeia\", \"family\": \"Amphinomidae\", \"counts\": 1}, {\"type\": \"Paratype\", \"start_year\": 2003.0, \"genus\": \"Paramphinome\", \"family\": \"Amphinomidae\", \"counts\": 2}, {\"type\": \"Paratype\", \"start_year\": 2003.0, \"genus\": \"Sphaerosyllis\", \"family\": \"Syllidae\", \"counts\": 5}, {\"type\": \"Paratype\", \"start_year\": 2005.0, \"genus\": \"Namalycastis\", \"family\": \"Nereididae\", \"counts\": 2}, {\"type\": \"Paratype\", \"start_year\": 2006.0, \"genus\": \"Harmothoe\", \"family\": \"Polynoidae\", \"counts\": 1}, {\"type\": \"Paratype\", \"start_year\": 2008.0, \"genus\": \"Harmothoe\", \"family\": \"Polynoidae\", \"counts\": 9}, {\"type\": \"Paratype\", \"start_year\": 2008.0, \"genus\": \"Pholoides\", \"family\": \"Sigalionidae\", \"counts\": 1}, {\"type\": \"Paratype\", \"start_year\": 2009.0, \"genus\": \"Harmothoe\", \"family\": \"Polynoidae\", \"counts\": 5}, {\"type\": \"Paratype\", \"start_year\": 2009.0, \"genus\": \"Orbinia\", \"family\": \"Orbiniidae\", \"counts\": 4}, {\"type\": \"Paratype\", \"start_year\": 2009.0, \"genus\": \"Schroederella\", \"family\": \"Orbiniidae\", \"counts\": 3}, {\"type\": \"Paratype\", \"start_year\": 2010.0, \"genus\": \"Ophryotrocha\", \"family\": \"Dorvilleidae\", \"counts\": 2}, {\"type\": \"Paratype\", \"start_year\": 2010.0, \"genus\": \"Sabidus\", \"family\": \"Paraonidae\", \"counts\": 1}, {\"type\": \"Paratype\", \"start_year\": 2011.0, \"genus\": \"Aricidea\", \"family\": \"Paraonidae\", \"counts\": 2}, {\"type\": \"Paratype\", \"start_year\": 2011.0, \"genus\": \"Branchamphinome\", \"family\": \"Amphinomidae\", \"counts\": 1}, {\"type\": \"Paratype\", \"start_year\": 2011.0, \"genus\": \"Cirriformia\", \"family\": \"Cirratulidae\", \"counts\": 1}, {\"type\": \"Paratype\", \"start_year\": 2011.0, \"genus\": \"Harmothoe\", \"family\": \"Polynoidae\", \"counts\": 1}, {\"type\": \"Paratype\", \"start_year\": 2011.0, \"genus\": \"Laubieriellus\", \"family\": \"Spionidae\", \"counts\": 3}, {\"type\": \"Paratype\", \"start_year\": 2011.0, \"genus\": \"Leodice\", \"family\": \"Eunicidae\", \"counts\": 1}, {\"type\": \"Paratype\", \"start_year\": 2011.0, \"genus\": \"Prionospio\", \"family\": \"Spionidae\", \"counts\": 4}, {\"type\": \"Paratype\", \"start_year\": 2011.0, \"genus\": \"Sabidus\", \"family\": \"Paraonidae\", \"counts\": 1}, {\"type\": \"Paratype\", \"start_year\": 2011.0, \"genus\": \"Spiogalea\", \"family\": \"Spionidae\", \"counts\": 1}, {\"type\": \"Paratype\", \"start_year\": 2012.0, \"genus\": \"Aricidea\", \"family\": \"Paraonidae\", \"counts\": 2}, {\"type\": \"Paratype\", \"start_year\": 2012.0, \"genus\": \"Branchamphinome\", \"family\": \"Amphinomidae\", \"counts\": 2}, {\"type\": \"Paratype\", \"start_year\": 2012.0, \"genus\": \"Capitella\", \"family\": \"Capitellidae\", \"counts\": 1}, {\"type\": \"Paratype\", \"start_year\": 2012.0, \"genus\": \"Leodice\", \"family\": \"Eunicidae\", \"counts\": 3}, {\"type\": \"Paratype\", \"start_year\": 2012.0, \"genus\": \"Sabidus\", \"family\": \"Paraonidae\", \"counts\": 3}, {\"type\": \"Paratype\", \"start_year\": 2012.0, \"genus\": \"Timarete\", \"family\": \"Cirratulidae\", \"counts\": 1}, {\"type\": \"Paratype\", \"start_year\": 2013.0, \"genus\": \"Bathychloeia\", \"family\": \"Amphinomidae\", \"counts\": 3}, {\"type\": \"Paratype\", \"start_year\": 2013.0, \"genus\": \"Branchamphinome\", \"family\": \"Amphinomidae\", \"counts\": 2}, {\"type\": \"Paratype\", \"start_year\": 2013.0, \"genus\": \"Capitella\", \"family\": \"Capitellidae\", \"counts\": 1}, {\"type\": \"Paratype\", \"start_year\": 2013.0, \"genus\": \"Cirriformia\", \"family\": \"Cirratulidae\", \"counts\": 1}, {\"type\": \"Paratype\", \"start_year\": 2014.0, \"genus\": \"Capitella\", \"family\": \"Capitellidae\", \"counts\": 2}, {\"type\": \"Paratype\", \"start_year\": 2014.0, \"genus\": \"Pisionidens\", \"family\": \"Sigalionidae\", \"counts\": 1}, {\"type\": \"Paratype\", \"start_year\": 2015.0, \"genus\": \"Branchiosyllis\", \"family\": \"Syllidae\", \"counts\": 4}, {\"type\": \"Paratype\", \"start_year\": 2015.0, \"genus\": \"Capitella\", \"family\": \"Capitellidae\", \"counts\": 1}, {\"type\": \"Paratype\", \"start_year\": 2015.0, \"genus\": \"Neanthes\", \"family\": \"Nereididae\", \"counts\": 1}, {\"type\": \"Paratype\", \"start_year\": 2016.0, \"genus\": \"Megasyllis\", \"family\": \"Syllidae\", \"counts\": 1}, {\"type\": \"Paratype\", \"start_year\": 2016.0, \"genus\": \"Salvatoria\", \"family\": \"Syllidae\", \"counts\": 4}]}}, {\"mode\": \"vega-lite\"});\n",
       "</script>"
      ],
      "text/plain": [
       "alt.Chart(...)"
      ]
     },
     "execution_count": 26,
     "metadata": {},
     "output_type": "execute_result"
    }
   ],
   "source": [
    "tipo = alt.Chart(temp, height=400, width= 400, title='Types per Genus').mark_point(filled=False).encode(\n",
    "    x = alt.X('start_year:O', title='Sampling Year'),\n",
    "    y = alt.Y('genus:N', title= 'Genus',\n",
    "              sort=alt.EncodingSortField('counts', op='count', order='descending')),\n",
    "    color= alt.Color('family:N', title='Family',\n",
    "                    scale= alt.Scale(domain=list(cores_familia.keys()), range=list(cores_familia.values())),\n",
    "                    legend= alt.Legend(columns=2, symbolLimit=42, symbolType= 'circle')), \n",
    "    size= alt.Size('counts', scale= alt.Scale(range=[10,500])),\n",
    "    order= alt.Order('counts', sort='descending'),  # smaller points in front\n",
    "    shape= alt.Shape('type:N', title='Type', \n",
    "                    scale= alt.Scale(domain=['Holotype', 'Neotype','Paratype'],\n",
    "                                     range=['triangle', 'square', 'circle'])),\n",
    "    opacity= alt.Opacity('type:N', scale= alt.Scale(domain=['Holotype', 'Neotype','Paratype'],\n",
    "                                                     range=[1, 0.5, 1])),\n",
    "    tooltip= [alt.Tooltip('type', title='type'),\n",
    "              alt.Tooltip('start_year', title='start year'),\n",
    "              alt.Tooltip('counts', title='counts')]\n",
    ")\n",
    "\n",
    "# tipo.save('./graphs/tipo/tipos_por_genero.html')\n",
    "\n",
    "tipo"
   ]
  },
  {
   "cell_type": "code",
   "execution_count": 27,
   "metadata": {},
   "outputs": [],
   "source": [
    "genus_order = list(temp.groupby(['genus']).min()['start_year'].reset_index().sort_values('start_year')['genus'])"
   ]
  },
  {
   "cell_type": "code",
   "execution_count": 30,
   "metadata": {},
   "outputs": [
    {
     "data": {
      "text/html": [
       "\n",
       "<div id=\"altair-viz-5af6bd8a0c6b4f6883b6e9d83d80d071\"></div>\n",
       "<script type=\"text/javascript\">\n",
       "  (function(spec, embedOpt){\n",
       "    let outputDiv = document.currentScript.previousElementSibling;\n",
       "    if (outputDiv.id !== \"altair-viz-5af6bd8a0c6b4f6883b6e9d83d80d071\") {\n",
       "      outputDiv = document.getElementById(\"altair-viz-5af6bd8a0c6b4f6883b6e9d83d80d071\");\n",
       "    }\n",
       "    const paths = {\n",
       "      \"vega\": \"https://cdn.jsdelivr.net/npm//vega@5?noext\",\n",
       "      \"vega-lib\": \"https://cdn.jsdelivr.net/npm//vega-lib?noext\",\n",
       "      \"vega-lite\": \"https://cdn.jsdelivr.net/npm//vega-lite@4.8.1?noext\",\n",
       "      \"vega-embed\": \"https://cdn.jsdelivr.net/npm//vega-embed@6?noext\",\n",
       "    };\n",
       "\n",
       "    function loadScript(lib) {\n",
       "      return new Promise(function(resolve, reject) {\n",
       "        var s = document.createElement('script');\n",
       "        s.src = paths[lib];\n",
       "        s.async = true;\n",
       "        s.onload = () => resolve(paths[lib]);\n",
       "        s.onerror = () => reject(`Error loading script: ${paths[lib]}`);\n",
       "        document.getElementsByTagName(\"head\")[0].appendChild(s);\n",
       "      });\n",
       "    }\n",
       "\n",
       "    function showError(err) {\n",
       "      outputDiv.innerHTML = `<div class=\"error\" style=\"color:red;\">${err}</div>`;\n",
       "      throw err;\n",
       "    }\n",
       "\n",
       "    function displayChart(vegaEmbed) {\n",
       "      vegaEmbed(outputDiv, spec, embedOpt)\n",
       "        .catch(err => showError(`Javascript Error: ${err.message}<br>This usually means there's a typo in your chart specification. See the javascript console for the full traceback.`));\n",
       "    }\n",
       "\n",
       "    if(typeof define === \"function\" && define.amd) {\n",
       "      requirejs.config({paths});\n",
       "      require([\"vega-embed\"], displayChart, err => showError(`Error loading script: ${err.message}`));\n",
       "    } else if (typeof vegaEmbed === \"function\") {\n",
       "      displayChart(vegaEmbed);\n",
       "    } else {\n",
       "      loadScript(\"vega\")\n",
       "        .then(() => loadScript(\"vega-lite\"))\n",
       "        .then(() => loadScript(\"vega-embed\"))\n",
       "        .catch(showError)\n",
       "        .then(() => displayChart(vegaEmbed));\n",
       "    }\n",
       "  })({\"config\": {\"view\": {\"continuousWidth\": 400, \"continuousHeight\": 300}}, \"data\": {\"name\": \"data-a469ee2deb81c530b99081ccd381f87a\"}, \"mark\": {\"type\": \"point\", \"filled\": false}, \"encoding\": {\"color\": {\"type\": \"nominal\", \"field\": \"family\", \"legend\": {\"columns\": 2, \"symbolLimit\": 42}, \"scale\": {\"domain\": [\"Magelonidae\", \"Oweniidae\", \"Chaetopteridae\", \"Amphinomidae\", \"Lumbrineridae\", \"Dorvilleidae\", \"Oenonidae\", \"Eunicidae\", \"Onuphidae\", \"Syllidae\", \"Typhloscolecidae\", \"Aphroditidae\", \"Acoetidae\", \"Chrysopetalidae\", \"Eulepethidae\", \"Lopadorrhynchidae\", \"Polynoidae\", \"Nereididae\", \"Nephtyidae\", \"Glyceridae\", \"Tomopteridae\", \"Serpulidae\", \"Sabellidae\", \"Sabellariidae\", \"Spionidae\", \"Ampharetidae\", \"Pectinariidae\", \"Trichobranchidae\", \"Terebellidae\", \"Cirratulidae\", \"Flabelligeridae\", \"Sternaspidae\", \"Orbiniidae\", \"Opheliidae\", \"Capitellidae\", \"Arenicolidae\", \"Cossuridae\", \"Scalibregmatidae\", \"Paraonidae\", \"Maldanidae\", \"NaN\"], \"range\": [\"#238762\", \"#3CA67F\", \"#77c8a5\", \"#bbebd3\", \"#e7e5df\", \"#b2c0d0\", \"#7A9FBF\", \"#3c81ae\", \"#00669a\", \"#ffbd84\", \"#ffaa74\", \"#ff9760\", \"#ff814b\", \"#fc6b36\", \"#eb5824\", \"#d94814\", \"#c83b03\", \"#b73000\", \"#f18e56\", \"#D96236\", \"#bf381b\", \"#fbd0ad\", \"#f2b999\", \"#e8a287\", \"#d27666\", \"#b48061\", \"#a66c4b\", \"#975b39\", \"#874c2c\", \"#774124\", \"#683720\", \"#eebd93\", \"#dfa47a\", \"#d28d60\", \"#c37746\", \"#b4622f\", \"#a3501d\", \"#92420e\", \"#823606\", \"#732c02\", \"#0D0D0D\"]}, \"title\": \"Family\"}, \"opacity\": {\"type\": \"nominal\", \"field\": \"type\", \"scale\": {\"domain\": [\"Holotype\", \"Neotype\", \"Paratype\"], \"range\": [1, 0.5, 1]}}, \"order\": {\"type\": \"quantitative\", \"field\": \"counts\", \"sort\": \"descending\"}, \"shape\": {\"type\": \"nominal\", \"field\": \"type\", \"scale\": {\"domain\": [\"Holotype\", \"Neotype\", \"Paratype\"], \"range\": [\"triangle\", \"square\", \"circle\"]}, \"title\": \"Type\"}, \"size\": {\"type\": \"quantitative\", \"field\": \"counts\", \"scale\": {\"range\": [10, 500]}}, \"tooltip\": [{\"type\": \"nominal\", \"field\": \"type\", \"title\": \"type\"}, {\"type\": \"quantitative\", \"field\": \"start_year\", \"title\": \"start year\"}, {\"type\": \"quantitative\", \"field\": \"counts\", \"title\": \"counts\"}], \"x\": {\"type\": \"ordinal\", \"field\": \"start_year\", \"title\": \"Sampling Year\"}, \"y\": {\"type\": \"nominal\", \"field\": \"genus\", \"sort\": [\"Branchamphinome\", \"Palola\", \"Anguillosyllis\", \"Sphaerosyllis\", \"Chone\", \"Polycirrus\", \"Bispira\", \"Branchiosyllis\", \"Chloeia\", \"Paramphinome\", \"Namalycastis\", \"Harmothoe\", \"Pholoides\", \"Lacydonia\", \"Orbinia\", \"Schroederella\", \"Sabidus\", \"Ophryotrocha\", \"Aricidea\", \"Spiogalea\", \"Prionospio\", \"Cirriformia\", \"Bathychloeia\", \"Leodice\", \"Laubieriellus\", \"Timarete\", \"Capitella\", \"Pisionidens\", \"Neanthes\", \"Salvatoria\", \"Megasyllis\", \"Naineris\"], \"title\": \"Genus\"}}, \"height\": 400, \"title\": \"Types per Genus\", \"width\": 400, \"$schema\": \"https://vega.github.io/schema/vega-lite/v4.8.1.json\", \"datasets\": {\"data-a469ee2deb81c530b99081ccd381f87a\": [{\"type\": \"Holotype\", \"start_year\": 1900.0, \"genus\": \"Branchamphinome\", \"family\": \"Amphinomidae\", \"counts\": 1}, {\"type\": \"Holotype\", \"start_year\": 1997.0, \"genus\": \"Palola\", \"family\": \"Eunicidae\", \"counts\": 1}, {\"type\": \"Holotype\", \"start_year\": 1999.0, \"genus\": \"Anguillosyllis\", \"family\": \"Syllidae\", \"counts\": 1}, {\"type\": \"Holotype\", \"start_year\": 1999.0, \"genus\": \"Sphaerosyllis\", \"family\": \"Syllidae\", \"counts\": 1}, {\"type\": \"Holotype\", \"start_year\": 2000.0, \"genus\": \"Bispira\", \"family\": \"Sabellidae\", \"counts\": 1}, {\"type\": \"Holotype\", \"start_year\": 2000.0, \"genus\": \"Polycirrus\", \"family\": \"Terebellidae\", \"counts\": 2}, {\"type\": \"Holotype\", \"start_year\": 2003.0, \"genus\": \"Chloeia\", \"family\": \"Amphinomidae\", \"counts\": 1}, {\"type\": \"Holotype\", \"start_year\": 2003.0, \"genus\": \"Paramphinome\", \"family\": \"Amphinomidae\", \"counts\": 1}, {\"type\": \"Holotype\", \"start_year\": 2005.0, \"genus\": \"Namalycastis\", \"family\": \"Nereididae\", \"counts\": 1}, {\"type\": \"Holotype\", \"start_year\": 2008.0, \"genus\": \"Harmothoe\", \"family\": \"Polynoidae\", \"counts\": 1}, {\"type\": \"Holotype\", \"start_year\": 2008.0, \"genus\": \"Lacydonia\", \"family\": \"Lacydoniidae\", \"counts\": 1}, {\"type\": \"Holotype\", \"start_year\": 2009.0, \"genus\": \"Lacydonia\", \"family\": \"Lacydoniidae\", \"counts\": 2}, {\"type\": \"Holotype\", \"start_year\": 2009.0, \"genus\": \"Orbinia\", \"family\": \"Orbiniidae\", \"counts\": 2}, {\"type\": \"Holotype\", \"start_year\": 2009.0, \"genus\": \"Schroederella\", \"family\": \"Orbiniidae\", \"counts\": 1}, {\"type\": \"Holotype\", \"start_year\": 2010.0, \"genus\": \"Ophryotrocha\", \"family\": \"Dorvilleidae\", \"counts\": 1}, {\"type\": \"Holotype\", \"start_year\": 2011.0, \"genus\": \"Bathychloeia\", \"family\": \"Amphinomidae\", \"counts\": 1}, {\"type\": \"Holotype\", \"start_year\": 2011.0, \"genus\": \"Cirriformia\", \"family\": \"Cirratulidae\", \"counts\": 1}, {\"type\": \"Holotype\", \"start_year\": 2011.0, \"genus\": \"Spiogalea\", \"family\": \"Spionidae\", \"counts\": 1}, {\"type\": \"Holotype\", \"start_year\": 2012.0, \"genus\": \"Aricidea\", \"family\": \"Paraonidae\", \"counts\": 1}, {\"type\": \"Holotype\", \"start_year\": 2012.0, \"genus\": \"Pholoides\", \"family\": \"Sigalionidae\", \"counts\": 1}, {\"type\": \"Holotype\", \"start_year\": 2012.0, \"genus\": \"Sabidus\", \"family\": \"Paraonidae\", \"counts\": 1}, {\"type\": \"Holotype\", \"start_year\": 2012.0, \"genus\": \"Timarete\", \"family\": \"Cirratulidae\", \"counts\": 1}, {\"type\": \"Holotype\", \"start_year\": 2013.0, \"genus\": \"Cirriformia\", \"family\": \"Cirratulidae\", \"counts\": 1}, {\"type\": \"Holotype\", \"start_year\": 2014.0, \"genus\": \"Pisionidens\", \"family\": \"Sigalionidae\", \"counts\": 1}, {\"type\": \"Holotype\", \"start_year\": 2015.0, \"genus\": \"Branchiosyllis\", \"family\": \"Syllidae\", \"counts\": 1}, {\"type\": \"Holotype\", \"start_year\": 2015.0, \"genus\": \"Neanthes\", \"family\": \"Nereididae\", \"counts\": 1}, {\"type\": \"Holotype\", \"start_year\": 2016.0, \"genus\": \"Branchiosyllis\", \"family\": \"Syllidae\", \"counts\": 1}, {\"type\": \"Holotype\", \"start_year\": 2016.0, \"genus\": \"Megasyllis\", \"family\": \"Syllidae\", \"counts\": 1}, {\"type\": \"Holotype\", \"start_year\": 2016.0, \"genus\": \"Salvatoria\", \"family\": \"Syllidae\", \"counts\": 2}, {\"type\": \"Neotype\", \"start_year\": 2018.0, \"genus\": \"Naineris\", \"family\": \"Orbiniidae\", \"counts\": 1}, {\"type\": \"Paratype\", \"start_year\": 1996.0, \"genus\": \"Palola\", \"family\": \"Eunicidae\", \"counts\": 3}, {\"type\": \"Paratype\", \"start_year\": 1997.0, \"genus\": \"Palola\", \"family\": \"Eunicidae\", \"counts\": 14}, {\"type\": \"Paratype\", \"start_year\": 2000.0, \"genus\": \"Bispira\", \"family\": \"Sabellidae\", \"counts\": 1}, {\"type\": \"Paratype\", \"start_year\": 2000.0, \"genus\": \"Branchiosyllis\", \"family\": \"Syllidae\", \"counts\": 1}, {\"type\": \"Paratype\", \"start_year\": 2000.0, \"genus\": \"Chone\", \"family\": \"Sabellidae\", \"counts\": 2}, {\"type\": \"Paratype\", \"start_year\": 2000.0, \"genus\": \"Polycirrus\", \"family\": \"Terebellidae\", \"counts\": 5}, {\"type\": \"Paratype\", \"start_year\": 2002.0, \"genus\": \"Sphaerosyllis\", \"family\": \"Syllidae\", \"counts\": 1}, {\"type\": \"Paratype\", \"start_year\": 2003.0, \"genus\": \"Chloeia\", \"family\": \"Amphinomidae\", \"counts\": 1}, {\"type\": \"Paratype\", \"start_year\": 2003.0, \"genus\": \"Paramphinome\", \"family\": \"Amphinomidae\", \"counts\": 2}, {\"type\": \"Paratype\", \"start_year\": 2003.0, \"genus\": \"Sphaerosyllis\", \"family\": \"Syllidae\", \"counts\": 5}, {\"type\": \"Paratype\", \"start_year\": 2005.0, \"genus\": \"Namalycastis\", \"family\": \"Nereididae\", \"counts\": 2}, {\"type\": \"Paratype\", \"start_year\": 2006.0, \"genus\": \"Harmothoe\", \"family\": \"Polynoidae\", \"counts\": 1}, {\"type\": \"Paratype\", \"start_year\": 2008.0, \"genus\": \"Harmothoe\", \"family\": \"Polynoidae\", \"counts\": 9}, {\"type\": \"Paratype\", \"start_year\": 2008.0, \"genus\": \"Pholoides\", \"family\": \"Sigalionidae\", \"counts\": 1}, {\"type\": \"Paratype\", \"start_year\": 2009.0, \"genus\": \"Harmothoe\", \"family\": \"Polynoidae\", \"counts\": 5}, {\"type\": \"Paratype\", \"start_year\": 2009.0, \"genus\": \"Orbinia\", \"family\": \"Orbiniidae\", \"counts\": 4}, {\"type\": \"Paratype\", \"start_year\": 2009.0, \"genus\": \"Schroederella\", \"family\": \"Orbiniidae\", \"counts\": 3}, {\"type\": \"Paratype\", \"start_year\": 2010.0, \"genus\": \"Ophryotrocha\", \"family\": \"Dorvilleidae\", \"counts\": 2}, {\"type\": \"Paratype\", \"start_year\": 2010.0, \"genus\": \"Sabidus\", \"family\": \"Paraonidae\", \"counts\": 1}, {\"type\": \"Paratype\", \"start_year\": 2011.0, \"genus\": \"Aricidea\", \"family\": \"Paraonidae\", \"counts\": 2}, {\"type\": \"Paratype\", \"start_year\": 2011.0, \"genus\": \"Branchamphinome\", \"family\": \"Amphinomidae\", \"counts\": 1}, {\"type\": \"Paratype\", \"start_year\": 2011.0, \"genus\": \"Cirriformia\", \"family\": \"Cirratulidae\", \"counts\": 1}, {\"type\": \"Paratype\", \"start_year\": 2011.0, \"genus\": \"Harmothoe\", \"family\": \"Polynoidae\", \"counts\": 1}, {\"type\": \"Paratype\", \"start_year\": 2011.0, \"genus\": \"Laubieriellus\", \"family\": \"Spionidae\", \"counts\": 3}, {\"type\": \"Paratype\", \"start_year\": 2011.0, \"genus\": \"Leodice\", \"family\": \"Eunicidae\", \"counts\": 1}, {\"type\": \"Paratype\", \"start_year\": 2011.0, \"genus\": \"Prionospio\", \"family\": \"Spionidae\", \"counts\": 4}, {\"type\": \"Paratype\", \"start_year\": 2011.0, \"genus\": \"Sabidus\", \"family\": \"Paraonidae\", \"counts\": 1}, {\"type\": \"Paratype\", \"start_year\": 2011.0, \"genus\": \"Spiogalea\", \"family\": \"Spionidae\", \"counts\": 1}, {\"type\": \"Paratype\", \"start_year\": 2012.0, \"genus\": \"Aricidea\", \"family\": \"Paraonidae\", \"counts\": 2}, {\"type\": \"Paratype\", \"start_year\": 2012.0, \"genus\": \"Branchamphinome\", \"family\": \"Amphinomidae\", \"counts\": 2}, {\"type\": \"Paratype\", \"start_year\": 2012.0, \"genus\": \"Capitella\", \"family\": \"Capitellidae\", \"counts\": 1}, {\"type\": \"Paratype\", \"start_year\": 2012.0, \"genus\": \"Leodice\", \"family\": \"Eunicidae\", \"counts\": 3}, {\"type\": \"Paratype\", \"start_year\": 2012.0, \"genus\": \"Sabidus\", \"family\": \"Paraonidae\", \"counts\": 3}, {\"type\": \"Paratype\", \"start_year\": 2012.0, \"genus\": \"Timarete\", \"family\": \"Cirratulidae\", \"counts\": 1}, {\"type\": \"Paratype\", \"start_year\": 2013.0, \"genus\": \"Bathychloeia\", \"family\": \"Amphinomidae\", \"counts\": 3}, {\"type\": \"Paratype\", \"start_year\": 2013.0, \"genus\": \"Branchamphinome\", \"family\": \"Amphinomidae\", \"counts\": 2}, {\"type\": \"Paratype\", \"start_year\": 2013.0, \"genus\": \"Capitella\", \"family\": \"Capitellidae\", \"counts\": 1}, {\"type\": \"Paratype\", \"start_year\": 2013.0, \"genus\": \"Cirriformia\", \"family\": \"Cirratulidae\", \"counts\": 1}, {\"type\": \"Paratype\", \"start_year\": 2014.0, \"genus\": \"Capitella\", \"family\": \"Capitellidae\", \"counts\": 2}, {\"type\": \"Paratype\", \"start_year\": 2014.0, \"genus\": \"Pisionidens\", \"family\": \"Sigalionidae\", \"counts\": 1}, {\"type\": \"Paratype\", \"start_year\": 2015.0, \"genus\": \"Branchiosyllis\", \"family\": \"Syllidae\", \"counts\": 4}, {\"type\": \"Paratype\", \"start_year\": 2015.0, \"genus\": \"Capitella\", \"family\": \"Capitellidae\", \"counts\": 1}, {\"type\": \"Paratype\", \"start_year\": 2015.0, \"genus\": \"Neanthes\", \"family\": \"Nereididae\", \"counts\": 1}, {\"type\": \"Paratype\", \"start_year\": 2016.0, \"genus\": \"Megasyllis\", \"family\": \"Syllidae\", \"counts\": 1}, {\"type\": \"Paratype\", \"start_year\": 2016.0, \"genus\": \"Salvatoria\", \"family\": \"Syllidae\", \"counts\": 4}]}}, {\"mode\": \"vega-lite\"});\n",
       "</script>"
      ],
      "text/plain": [
       "alt.Chart(...)"
      ]
     },
     "execution_count": 30,
     "metadata": {},
     "output_type": "execute_result"
    }
   ],
   "source": [
    "tipo = alt.Chart(temp, height=400, width= 400, title='Types per Genus').mark_point(filled=False).encode(\n",
    "    x = alt.X('start_year:O', title='Sampling Year'),\n",
    "    y = alt.Y('genus:N', title= 'Genus',\n",
    "              sort=genus_order),\n",
    "    color= alt.Color('family:N', title='Family',\n",
    "                    scale= alt.Scale(domain=list(cores_familia.keys()), range=list(cores_familia.values())),\n",
    "                    legend= alt.Legend(columns=2, symbolLimit=42)), \n",
    "    size= alt.Size('counts', scale=alt.Scale(range=[10,500])),\n",
    "    order= alt.Order('counts', sort='descending'),  # smaller points in front\n",
    "    shape= alt.Shape('type:N', title='Type', \n",
    "                    scale= alt.Scale(domain=['Holotype', 'Neotype','Paratype'],\n",
    "                                     range=['triangle', 'square', 'circle'])),\n",
    "    opacity= alt.Opacity('type:N', scale= alt.Scale(domain=['Holotype', 'Neotype','Paratype'],\n",
    "                                                     range=[1, 0.5, 1])),\n",
    "    tooltip= [alt.Tooltip('type', title='type'),\n",
    "              alt.Tooltip('start_year', title='start year'),\n",
    "              alt.Tooltip('counts', title='counts')]\n",
    ")\n",
    "\n",
    "# tipo.save('./graphs/tipo/tipos_por_genero-primeiro_ano.html')\n",
    "\n",
    "tipo"
   ]
  },
  {
   "cell_type": "markdown",
   "metadata": {},
   "source": [
    "## Types per family"
   ]
  },
  {
   "cell_type": "code",
   "execution_count": 17,
   "metadata": {
    "ExecuteTime": {
     "end_time": "2020-08-29T14:46:08.588741Z",
     "start_time": "2020-08-29T14:46:08.557549Z"
    }
   },
   "outputs": [],
   "source": [
    "# subsetting\n",
    "teste = NewTable[['min_depth','family','order', 'start_year', 'qualifier', 'catalog_number', \n",
    "                  'genus', 'species', 'type']].copy()\n",
    "\n",
    "# grouping by type, year and order\n",
    "temp = teste.groupby(['type','start_year', 'family', 'order']).count()['genus'].reset_index().rename(columns={\n",
    "    'genus':'counts'\n",
    "})\n",
    "\n",
    "# p.s.: Cótipo and Topótipo are not types\n",
    "temp = temp[(temp['type'] != 'Cótipo') & (temp['type'] != 'Topótipo')]"
   ]
  },
  {
   "cell_type": "code",
   "execution_count": 18,
   "metadata": {
    "ExecuteTime": {
     "end_time": "2020-08-29T14:46:10.482548Z",
     "start_time": "2020-08-29T14:46:10.474386Z"
    }
   },
   "outputs": [],
   "source": [
    "cores_padrao = ['#e45756', '#4c78a8', '#f58518']\n",
    "tipos = ['Holotype', 'Paratype', 'Neotype']"
   ]
  },
  {
   "cell_type": "code",
   "execution_count": 21,
   "metadata": {
    "ExecuteTime": {
     "end_time": "2020-08-29T14:46:11.719479Z",
     "start_time": "2020-08-29T14:46:11.671831Z"
    }
   },
   "outputs": [
    {
     "data": {
      "text/html": [
       "\n",
       "<div id=\"altair-viz-24961976a46142a0a96f6c38b6b82224\"></div>\n",
       "<script type=\"text/javascript\">\n",
       "  (function(spec, embedOpt){\n",
       "    let outputDiv = document.currentScript.previousElementSibling;\n",
       "    if (outputDiv.id !== \"altair-viz-24961976a46142a0a96f6c38b6b82224\") {\n",
       "      outputDiv = document.getElementById(\"altair-viz-24961976a46142a0a96f6c38b6b82224\");\n",
       "    }\n",
       "    const paths = {\n",
       "      \"vega\": \"https://cdn.jsdelivr.net/npm//vega@5?noext\",\n",
       "      \"vega-lib\": \"https://cdn.jsdelivr.net/npm//vega-lib?noext\",\n",
       "      \"vega-lite\": \"https://cdn.jsdelivr.net/npm//vega-lite@4.8.1?noext\",\n",
       "      \"vega-embed\": \"https://cdn.jsdelivr.net/npm//vega-embed@6?noext\",\n",
       "    };\n",
       "\n",
       "    function loadScript(lib) {\n",
       "      return new Promise(function(resolve, reject) {\n",
       "        var s = document.createElement('script');\n",
       "        s.src = paths[lib];\n",
       "        s.async = true;\n",
       "        s.onload = () => resolve(paths[lib]);\n",
       "        s.onerror = () => reject(`Error loading script: ${paths[lib]}`);\n",
       "        document.getElementsByTagName(\"head\")[0].appendChild(s);\n",
       "      });\n",
       "    }\n",
       "\n",
       "    function showError(err) {\n",
       "      outputDiv.innerHTML = `<div class=\"error\" style=\"color:red;\">${err}</div>`;\n",
       "      throw err;\n",
       "    }\n",
       "\n",
       "    function displayChart(vegaEmbed) {\n",
       "      vegaEmbed(outputDiv, spec, embedOpt)\n",
       "        .catch(err => showError(`Javascript Error: ${err.message}<br>This usually means there's a typo in your chart specification. See the javascript console for the full traceback.`));\n",
       "    }\n",
       "\n",
       "    if(typeof define === \"function\" && define.amd) {\n",
       "      requirejs.config({paths});\n",
       "      require([\"vega-embed\"], displayChart, err => showError(`Error loading script: ${err.message}`));\n",
       "    } else if (typeof vegaEmbed === \"function\") {\n",
       "      displayChart(vegaEmbed);\n",
       "    } else {\n",
       "      loadScript(\"vega\")\n",
       "        .then(() => loadScript(\"vega-lite\"))\n",
       "        .then(() => loadScript(\"vega-embed\"))\n",
       "        .catch(showError)\n",
       "        .then(() => displayChart(vegaEmbed));\n",
       "    }\n",
       "  })({\"config\": {\"view\": {\"continuousWidth\": 400, \"continuousHeight\": 300}}, \"data\": {\"name\": \"data-bd884cf217e30b6f50843b8fdeefe6ee\"}, \"mark\": {\"type\": \"point\", \"filled\": false}, \"encoding\": {\"color\": {\"type\": \"nominal\", \"field\": \"family\", \"legend\": {\"columns\": 2, \"symbolLimit\": 42}, \"scale\": {\"domain\": [\"Magelonidae\", \"Oweniidae\", \"Chaetopteridae\", \"Amphinomidae\", \"Lumbrineridae\", \"Dorvilleidae\", \"Oenonidae\", \"Eunicidae\", \"Onuphidae\", \"Syllidae\", \"Typhloscolecidae\", \"Aphroditidae\", \"Acoetidae\", \"Chrysopetalidae\", \"Eulepethidae\", \"Lopadorrhynchidae\", \"Polynoidae\", \"Nereididae\", \"Nephtyidae\", \"Glyceridae\", \"Tomopteridae\", \"Serpulidae\", \"Sabellidae\", \"Sabellariidae\", \"Spionidae\", \"Ampharetidae\", \"Pectinariidae\", \"Trichobranchidae\", \"Terebellidae\", \"Cirratulidae\", \"Flabelligeridae\", \"Sternaspidae\", \"Orbiniidae\", \"Opheliidae\", \"Capitellidae\", \"Arenicolidae\", \"Cossuridae\", \"Scalibregmatidae\", \"Paraonidae\", \"Maldanidae\", \"NaN\"], \"range\": [\"#238762\", \"#3CA67F\", \"#77c8a5\", \"#bbebd3\", \"#e7e5df\", \"#b2c0d0\", \"#7A9FBF\", \"#3c81ae\", \"#00669a\", \"#ffbd84\", \"#ffaa74\", \"#ff9760\", \"#ff814b\", \"#fc6b36\", \"#eb5824\", \"#d94814\", \"#c83b03\", \"#b73000\", \"#f18e56\", \"#D96236\", \"#bf381b\", \"#fbd0ad\", \"#f2b999\", \"#e8a287\", \"#d27666\", \"#b48061\", \"#a66c4b\", \"#975b39\", \"#874c2c\", \"#774124\", \"#683720\", \"#eebd93\", \"#dfa47a\", \"#d28d60\", \"#c37746\", \"#b4622f\", \"#a3501d\", \"#92420e\", \"#823606\", \"#732c02\", \"#0D0D0D\"]}, \"title\": \"Family\"}, \"opacity\": {\"type\": \"nominal\", \"field\": \"type\", \"scale\": {\"domain\": [\"Holotype\", \"Neotype\", \"Paratype\"], \"range\": [1, 0.5, 1]}}, \"order\": {\"type\": \"quantitative\", \"field\": \"counts\", \"sort\": \"descending\"}, \"shape\": {\"type\": \"nominal\", \"field\": \"type\", \"scale\": {\"domain\": [\"Holotype\", \"Neotype\", \"Paratype\"], \"range\": [\"triangle\", \"square\", \"circle\"]}, \"title\": \"Type\"}, \"size\": {\"type\": \"quantitative\", \"field\": \"counts\", \"scale\": {\"range\": [10, 500]}}, \"tooltip\": [{\"type\": \"nominal\", \"field\": \"type\", \"title\": \"type\"}, {\"type\": \"quantitative\", \"field\": \"start_year\", \"title\": \"start year\"}, {\"type\": \"quantitative\", \"field\": \"counts\", \"title\": \"counts\"}], \"x\": {\"type\": \"ordinal\", \"field\": \"start_year\", \"title\": \"Sampling Year\"}, \"y\": {\"type\": \"nominal\", \"field\": \"family\", \"sort\": {\"field\": \"counts\", \"op\": \"sum\", \"order\": \"descending\"}, \"title\": \"Family\"}}, \"height\": 400, \"title\": \"Types per Family\", \"width\": 400, \"$schema\": \"https://vega.github.io/schema/vega-lite/v4.8.1.json\", \"datasets\": {\"data-bd884cf217e30b6f50843b8fdeefe6ee\": [{\"type\": \"Holotype\", \"start_year\": 1900.0, \"family\": \"Amphinomidae\", \"order\": \"Amphinomida\", \"counts\": 1}, {\"type\": \"Holotype\", \"start_year\": 1997.0, \"family\": \"Eunicidae\", \"order\": \"Eunicida\", \"counts\": 1}, {\"type\": \"Holotype\", \"start_year\": 1999.0, \"family\": \"Syllidae\", \"order\": \"Phyllodocida\", \"counts\": 2}, {\"type\": \"Holotype\", \"start_year\": 2000.0, \"family\": \"Sabellidae\", \"order\": \"Sabellida\", \"counts\": 1}, {\"type\": \"Holotype\", \"start_year\": 2000.0, \"family\": \"Terebellidae\", \"order\": \"Terebellida\", \"counts\": 2}, {\"type\": \"Holotype\", \"start_year\": 2003.0, \"family\": \"Amphinomidae\", \"order\": \"Amphinomida\", \"counts\": 2}, {\"type\": \"Holotype\", \"start_year\": 2005.0, \"family\": \"Nereididae\", \"order\": \"Phyllodocida\", \"counts\": 1}, {\"type\": \"Holotype\", \"start_year\": 2008.0, \"family\": \"Lacydoniidae\", \"order\": \"Phyllodocida\", \"counts\": 1}, {\"type\": \"Holotype\", \"start_year\": 2008.0, \"family\": \"Polynoidae\", \"order\": \"Phyllodocida\", \"counts\": 1}, {\"type\": \"Holotype\", \"start_year\": 2009.0, \"family\": \"Lacydoniidae\", \"order\": \"Phyllodocida\", \"counts\": 2}, {\"type\": \"Holotype\", \"start_year\": 2009.0, \"family\": \"Orbiniidae\", \"order\": \"Scolecida\", \"counts\": 3}, {\"type\": \"Holotype\", \"start_year\": 2010.0, \"family\": \"Dorvilleidae\", \"order\": \"Eunicida\", \"counts\": 1}, {\"type\": \"Holotype\", \"start_year\": 2011.0, \"family\": \"Amphinomidae\", \"order\": \"Amphinomida\", \"counts\": 1}, {\"type\": \"Holotype\", \"start_year\": 2011.0, \"family\": \"Cirratulidae\", \"order\": \"Terebellida\", \"counts\": 1}, {\"type\": \"Holotype\", \"start_year\": 2011.0, \"family\": \"Spionidae\", \"order\": \"Spionida\", \"counts\": 1}, {\"type\": \"Holotype\", \"start_year\": 2012.0, \"family\": \"Cirratulidae\", \"order\": \"Terebellida\", \"counts\": 1}, {\"type\": \"Holotype\", \"start_year\": 2012.0, \"family\": \"Paraonidae\", \"order\": \"Scolecida\", \"counts\": 2}, {\"type\": \"Holotype\", \"start_year\": 2012.0, \"family\": \"Sigalionidae\", \"order\": \"Phyllodocida\", \"counts\": 1}, {\"type\": \"Holotype\", \"start_year\": 2013.0, \"family\": \"Cirratulidae\", \"order\": \"Terebellida\", \"counts\": 1}, {\"type\": \"Holotype\", \"start_year\": 2014.0, \"family\": \"Sigalionidae\", \"order\": \"Phyllodocida\", \"counts\": 1}, {\"type\": \"Holotype\", \"start_year\": 2015.0, \"family\": \"Nereididae\", \"order\": \"Phyllodocida\", \"counts\": 1}, {\"type\": \"Holotype\", \"start_year\": 2015.0, \"family\": \"Syllidae\", \"order\": \"Phyllodocida\", \"counts\": 1}, {\"type\": \"Holotype\", \"start_year\": 2016.0, \"family\": \"Syllidae\", \"order\": \"Phyllodocida\", \"counts\": 4}, {\"type\": \"Neotype\", \"start_year\": 2018.0, \"family\": \"Orbiniidae\", \"order\": \"Scolecida\", \"counts\": 1}, {\"type\": \"Paratype\", \"start_year\": 1996.0, \"family\": \"Eunicidae\", \"order\": \"Eunicida\", \"counts\": 3}, {\"type\": \"Paratype\", \"start_year\": 1997.0, \"family\": \"Eunicidae\", \"order\": \"Eunicida\", \"counts\": 14}, {\"type\": \"Paratype\", \"start_year\": 2000.0, \"family\": \"Sabellidae\", \"order\": \"Sabellida\", \"counts\": 3}, {\"type\": \"Paratype\", \"start_year\": 2000.0, \"family\": \"Syllidae\", \"order\": \"Phyllodocida\", \"counts\": 1}, {\"type\": \"Paratype\", \"start_year\": 2000.0, \"family\": \"Terebellidae\", \"order\": \"Terebellida\", \"counts\": 5}, {\"type\": \"Paratype\", \"start_year\": 2002.0, \"family\": \"Syllidae\", \"order\": \"Phyllodocida\", \"counts\": 1}, {\"type\": \"Paratype\", \"start_year\": 2003.0, \"family\": \"Amphinomidae\", \"order\": \"Amphinomida\", \"counts\": 3}, {\"type\": \"Paratype\", \"start_year\": 2003.0, \"family\": \"Syllidae\", \"order\": \"Phyllodocida\", \"counts\": 5}, {\"type\": \"Paratype\", \"start_year\": 2005.0, \"family\": \"Nereididae\", \"order\": \"Phyllodocida\", \"counts\": 2}, {\"type\": \"Paratype\", \"start_year\": 2006.0, \"family\": \"Polynoidae\", \"order\": \"Phyllodocida\", \"counts\": 1}, {\"type\": \"Paratype\", \"start_year\": 2008.0, \"family\": \"Polynoidae\", \"order\": \"Phyllodocida\", \"counts\": 9}, {\"type\": \"Paratype\", \"start_year\": 2008.0, \"family\": \"Sigalionidae\", \"order\": \"Phyllodocida\", \"counts\": 1}, {\"type\": \"Paratype\", \"start_year\": 2009.0, \"family\": \"Orbiniidae\", \"order\": \"Scolecida\", \"counts\": 7}, {\"type\": \"Paratype\", \"start_year\": 2009.0, \"family\": \"Polynoidae\", \"order\": \"Phyllodocida\", \"counts\": 5}, {\"type\": \"Paratype\", \"start_year\": 2010.0, \"family\": \"Dorvilleidae\", \"order\": \"Eunicida\", \"counts\": 2}, {\"type\": \"Paratype\", \"start_year\": 2010.0, \"family\": \"Paraonidae\", \"order\": \"Scolecida\", \"counts\": 1}, {\"type\": \"Paratype\", \"start_year\": 2011.0, \"family\": \"Amphinomidae\", \"order\": \"Amphinomida\", \"counts\": 1}, {\"type\": \"Paratype\", \"start_year\": 2011.0, \"family\": \"Cirratulidae\", \"order\": \"Terebellida\", \"counts\": 1}, {\"type\": \"Paratype\", \"start_year\": 2011.0, \"family\": \"Eunicidae\", \"order\": \"Eunicida\", \"counts\": 1}, {\"type\": \"Paratype\", \"start_year\": 2011.0, \"family\": \"Paraonidae\", \"order\": \"Scolecida\", \"counts\": 3}, {\"type\": \"Paratype\", \"start_year\": 2011.0, \"family\": \"Polynoidae\", \"order\": \"Phyllodocida\", \"counts\": 1}, {\"type\": \"Paratype\", \"start_year\": 2011.0, \"family\": \"Spionidae\", \"order\": \"Scolecida\", \"counts\": 1}, {\"type\": \"Paratype\", \"start_year\": 2011.0, \"family\": \"Spionidae\", \"order\": \"Spionida\", \"counts\": 7}, {\"type\": \"Paratype\", \"start_year\": 2012.0, \"family\": \"Amphinomidae\", \"order\": \"Amphinomida\", \"counts\": 2}, {\"type\": \"Paratype\", \"start_year\": 2012.0, \"family\": \"Capitellidae\", \"order\": \"Scolecida\", \"counts\": 1}, {\"type\": \"Paratype\", \"start_year\": 2012.0, \"family\": \"Cirratulidae\", \"order\": \"Terebellida\", \"counts\": 1}, {\"type\": \"Paratype\", \"start_year\": 2012.0, \"family\": \"Eunicidae\", \"order\": \"Eunicida\", \"counts\": 3}, {\"type\": \"Paratype\", \"start_year\": 2012.0, \"family\": \"Paraonidae\", \"order\": \"Scolecida\", \"counts\": 5}, {\"type\": \"Paratype\", \"start_year\": 2013.0, \"family\": \"Amphinomidae\", \"order\": \"Amphinomida\", \"counts\": 5}, {\"type\": \"Paratype\", \"start_year\": 2013.0, \"family\": \"Capitellidae\", \"order\": \"Scolecida\", \"counts\": 1}, {\"type\": \"Paratype\", \"start_year\": 2013.0, \"family\": \"Cirratulidae\", \"order\": \"Terebellida\", \"counts\": 1}, {\"type\": \"Paratype\", \"start_year\": 2014.0, \"family\": \"Capitellidae\", \"order\": \"Scolecida\", \"counts\": 2}, {\"type\": \"Paratype\", \"start_year\": 2014.0, \"family\": \"Sigalionidae\", \"order\": \"Phyllodocida\", \"counts\": 1}, {\"type\": \"Paratype\", \"start_year\": 2015.0, \"family\": \"Capitellidae\", \"order\": \"Scolecida\", \"counts\": 1}, {\"type\": \"Paratype\", \"start_year\": 2015.0, \"family\": \"Nereididae\", \"order\": \"Phyllodocida\", \"counts\": 1}, {\"type\": \"Paratype\", \"start_year\": 2015.0, \"family\": \"Syllidae\", \"order\": \"Phyllodocida\", \"counts\": 4}, {\"type\": \"Paratype\", \"start_year\": 2016.0, \"family\": \"Syllidae\", \"order\": \"Phyllodocida\", \"counts\": 5}]}}, {\"mode\": \"vega-lite\"});\n",
       "</script>"
      ],
      "text/plain": [
       "alt.Chart(...)"
      ]
     },
     "execution_count": 21,
     "metadata": {},
     "output_type": "execute_result"
    }
   ],
   "source": [
    "tipo = alt.Chart(temp, height=400, width=400, title='Types per Family').mark_point(filled=False).encode(\n",
    "    x = alt.X('start_year:O', title='Sampling Year'),\n",
    "    y = alt.Y('family:N', title= 'Family',\n",
    "              sort=alt.EncodingSortField('counts', op='sum', order='descending')),\n",
    "    color= alt.Color('family:N', title='Family',\n",
    "                    scale= alt.Scale(domain=list(cores_familia.keys()), range=list(cores_familia.values())),\n",
    "                    legend= alt.Legend(columns=2, symbolLimit=42)), \n",
    "    size= alt.Size('counts', scale=alt.Scale(range=[10,500])),\n",
    "    order= alt.Order('counts', sort='descending'),  # smaller points in front\n",
    "    shape= alt.Shape('type:N', title='Type', \n",
    "                    scale= alt.Scale(domain=['Holotype', 'Neotype','Paratype'],\n",
    "                                     range=['triangle', 'square', 'circle'])),\n",
    "    opacity= alt.Opacity('type:N', scale= alt.Scale(domain=['Holotype', 'Neotype','Paratype'],\n",
    "                                                     range=[1, 0.5, 1])),\n",
    "    tooltip= [alt.Tooltip('type', title='type'),\n",
    "              alt.Tooltip('start_year', title='start year'),\n",
    "              alt.Tooltip('counts', title='counts')]\n",
    ")\n",
    "\n",
    "# tipo.save('./graphs/tipo/tipos_por_familia.html')\n",
    "\n",
    "tipo"
   ]
  },
  {
   "cell_type": "markdown",
   "metadata": {},
   "source": [
    "<br>\n",
    "\n",
    "**The end!**\n",
    "\n",
    "-----"
   ]
  }
 ],
 "metadata": {
  "kernelspec": {
   "display_name": "Python 3",
   "language": "python",
   "name": "python3"
  },
  "language_info": {
   "codemirror_mode": {
    "name": "ipython",
    "version": 3
   },
   "file_extension": ".py",
   "mimetype": "text/x-python",
   "name": "python",
   "nbconvert_exporter": "python",
   "pygments_lexer": "ipython3",
   "version": "3.8.3"
  },
  "latex_envs": {
   "LaTeX_envs_menu_present": true,
   "autoclose": false,
   "autocomplete": true,
   "bibliofile": "biblio.bib",
   "cite_by": "apalike",
   "current_citInitial": 1,
   "eqLabelWithNumbers": true,
   "eqNumInitial": 1,
   "hotkeys": {
    "equation": "Ctrl-E",
    "itemize": "Ctrl-I"
   },
   "labels_anchors": false,
   "latex_user_defs": false,
   "report_style_numbering": false,
   "user_envs_cfg": false
  },
  "toc": {
   "base_numbering": 1,
   "nav_menu": {},
   "number_sections": false,
   "sideBar": true,
   "skip_h1_title": false,
   "title_cell": "Table of Contents",
   "title_sidebar": "Contents",
   "toc_cell": false,
   "toc_position": {},
   "toc_section_display": true,
   "toc_window_display": false
  },
  "varInspector": {
   "cols": {
    "lenName": 16,
    "lenType": 16,
    "lenVar": 40
   },
   "kernels_config": {
    "python": {
     "delete_cmd_postfix": "",
     "delete_cmd_prefix": "del ",
     "library": "var_list.py",
     "varRefreshCmd": "print(var_dic_list())"
    },
    "r": {
     "delete_cmd_postfix": ") ",
     "delete_cmd_prefix": "rm(",
     "library": "var_list.r",
     "varRefreshCmd": "cat(var_dic_list()) "
    }
   },
   "position": {
    "height": "391.35px",
    "left": "900.5px",
    "right": "20px",
    "top": "96px",
    "width": "536.5px"
   },
   "types_to_exclude": [
    "module",
    "function",
    "builtin_function_or_method",
    "instance",
    "_Feature"
   ],
   "window_display": false
  }
 },
 "nbformat": 4,
 "nbformat_minor": 2
}
