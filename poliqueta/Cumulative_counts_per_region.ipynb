{
 "cells": [
  {
   "cell_type": "markdown",
   "metadata": {},
   "source": [
    "# Cumulative counts per geographical region\n",
    "\n",
    "By **Franklin Oliveira**\n",
    "\n",
    "-----\n",
    "This notebook contains all code necessary to make charts from `poliqueta` database with focus on collection's cumulative spacial increments. Here you'll find some basic data treatment and charts' code. \n",
    "\n",
    "Database: <font color='blue'>'IBUFRJ27.07.2020 - visualização.xlsx'</font> and <font color='blue'>'MNRJP27.07.2020 - visualização.xls'</font>.\n",
    "    "
   ]
  },
  {
   "cell_type": "code",
   "execution_count": 1,
   "metadata": {
    "ExecuteTime": {
     "end_time": "2021-01-25T23:26:48.114721Z",
     "start_time": "2021-01-25T23:26:47.110357Z"
    }
   },
   "outputs": [
    {
     "data": {
      "text/plain": [
       "DataTransformerRegistry.enable('default')"
      ]
     },
     "execution_count": 1,
     "metadata": {},
     "output_type": "execute_result"
    }
   ],
   "source": [
    "import datetime\n",
    "import numpy as np\n",
    "import pandas as pd\n",
    "\n",
    "from collections import defaultdict\n",
    "\n",
    "# quick visualization\n",
    "import matplotlib.pyplot as plt\n",
    "import seaborn as sns\n",
    "\n",
    "# Waffle Charts\n",
    "# from pywaffle import Waffle \n",
    "# docs: https://pywaffle.readthedocs.io/en/latest/examples/block_shape_distance_location_and_direction.html\n",
    "\n",
    "# visualization\n",
    "import altair as alt\n",
    "\n",
    "# enabling notebook renderer\n",
    "# alt.renderers.enable('notebook')\n",
    "# alt.renderers.enable('default')\n",
    "\n",
    "# disabling rows limit\n",
    "alt.data_transformers.disable_max_rows()"
   ]
  },
  {
   "cell_type": "markdown",
   "metadata": {},
   "source": [
    "## Importing data..."
   ]
  },
  {
   "cell_type": "code",
   "execution_count": 2,
   "metadata": {
    "ExecuteTime": {
     "end_time": "2021-01-25T23:26:48.189835Z",
     "start_time": "2021-01-25T23:26:48.117460Z"
    }
   },
   "outputs": [],
   "source": [
    "NewTable = pd.read_csv('./data/merged_db.csv', sep=';', encoding='utf-8-sig')"
   ]
  },
  {
   "cell_type": "code",
   "execution_count": 3,
   "metadata": {
    "ExecuteTime": {
     "end_time": "2021-01-25T23:26:48.209953Z",
     "start_time": "2021-01-25T23:26:48.191952Z"
    }
   },
   "outputs": [],
   "source": [
    "# formatando a string NaN\n",
    "NewTable['family'] = NewTable['family'].apply(lambda x: 'NaN' if x=='Nan' else x)\n",
    "NewTable['continent'] = NewTable['continent'].apply(lambda x: 'NaN' if str(x) == 'nan' else str(x).strip())\n",
    "NewTable['country'] = NewTable['country'].apply(lambda x: 'NaN' if str(x) == 'nan' else str(x).strip())\n",
    "NewTable['state'] = NewTable['state'].apply(lambda x: 'NaN' if str(x) == 'nan' else str(x).strip())"
   ]
  },
  {
   "cell_type": "markdown",
   "metadata": {
    "ExecuteTime": {
     "end_time": "2021-01-25T21:52:31.916508Z",
     "start_time": "2021-01-25T21:52:31.905075Z"
    }
   },
   "source": [
    "<br>\n",
    "\n",
    "<font size=5>**Color Palette per Order**</font>\n",
    "\n",
    "These images were used as inspiration (https://color.adobe.com/create/image)\n",
    "\n",
    "\n",
    "<div class='row' style='padding-top:20px;'>\n",
    "    <div class='col-md-6'>\n",
    "        <img src=\"./src/img1.jpg\" width='400px'>\n",
    "    </div>\n",
    "    <div class='col-md-6'>\n",
    "        <img src=\"./src/img2.jpg\" width='400px'>\n",
    "    </div>\n",
    "</div>\n",
    "\n",
    "<br>\n",
    "\n",
    "A partir das imagens acima, selecionamos cores (centróides) para criar a paleta de cores. Foram elas: \n",
    "<ul>\n",
    "    <li style='color:#3CA67F'><b> #3CA67F </b># verde</li>\n",
    "    <li style='color:#7A9FBF'><b> #7A9FBF </b># azul</li>\n",
    "    <li style='color:#D94814'><b> #D94814 </b># laranja</li>\n",
    "    <li style='color:#D96236'><b> #D96236 </b># laranja 2</li>\n",
    "    <li style='color:#F2B999'><b> #F2B999 </b># 'cor de pele'</li>\n",
    "    <li style='color:#A66C4B'><b> #A66C4B </b># marrom 1</li>\n",
    "    <li style='color:#732C02'><b> #732C02 </b># marrom 2</li>\n",
    "</ul>\n",
    "\n",
    "A partir das cores \"centróides\", utilizamos a ferramenta Color Crafter para selecionar diferentes \"shades\" e auxiliar para categorização em diferentes grupos sugeridos pela equipe de Poliquetas do Museu Nacional. \n",
    "\n",
    "<ul>\n",
    "    <li style='color:#3CA67F'><b> Verde: </b> ['#daffef', '#bbebd3', '#9adabc', '#77c8a5', '#57b791', '#3ca67f', '#2a9670', '#238762', '#257a56']</li>\n",
    "    <li style='color:#7A9FBF'><b> Azul: </b> ['#e7e5df', '#ccd2d8', '#b2c0d0', '#96afc8', '#7a9fbf', '#5d90b6', '#3c81ae', '#0673a4', '#00669a']</li>\n",
    "    <li style='color:#D94814'><b> laranja: </b> ['#ffbd84', '#ffaa74', '#ff9760', '#ff814b', '#fc6b36', '#eb5824', '#d94814', '#c83b03', '#b73000']</li>\n",
    "    <li style='color:#D96236'><b> laranja 2: ['#ffeba9', '#ffd391', '#ffbb7b', '#fda468', '#f18e56', '#e57846', '#d96236', '#cc4d28', '#bf381b']</b> </li>\n",
    "    <li style='color:#F2B999'><b> cor de pele: ['#ffe9c3', '#fbd0ad', '#f2b999', '#e8a287', '#dd8c76', '#d27666', '#c76158', '#bb4d4b', '#ae393e']</b> </li>\n",
    "    <li style='color:#A66C4B'><b> marrom 1: ['#d9c6af', '#ccad96', '#c1977c', '#b48061', '#a66c4b', '#975b39', '#874c2c', '#774124', '#683720']</b> </li>\n",
    "    <li style='color:#732C02'><b> marrom 2: ['#eebd93', '#dfa47a', '#d28d60', '#c37746', '#b4622f', '#a3501d', '#92420e', '#823606', '#732c02']</b> </li>\n",
    "</ul>\n",
    "\n",
    "\n",
    "\n",
    "**Colors  (antigas):** \n",
    "\n",
    "<ul>\n",
    "    <li style='color:#41A681'><b> #41A681 </b># verde1</li>\n",
    "    <li style='color:#3CA67F'><b> #3CA67F </b># verde2</li>\n",
    "    <li style='color:#7ACAAB'><b> #7ACAAB </b># verde claro</li>\n",
    "    <li style='color:#78a1a1'><b> #78a1a1 </b># azul</li>\n",
    "    <li style='color:#8ABFB0'><b> #8ABFB0 </b># azul claro</li>\n",
    "    <li style='color:#FFB27C'><b> #FFB27C </b># cor de pele clara</li>\n",
    "    <li style='color:#F29877'><b> #F29877 </b># cor de pele</li>\n",
    "    <li style='color:#ed845e'><b> #ed845e </b># laranja claro1</li>\n",
    "    <li style='color:#D96236'><b> #D96236 </b># laranja claro2</li>\n",
    "    <li style='color:#D95323'><b> #D95323 </b># laranja 1</li>\n",
    "    <li style='color:#D94B18'><b> #D94B18 </b># laranja 2</li>\n",
    "    <li style='color:#D9C2AD'><b> #D9C2AD </b># bege</li>\n",
    "    <li style='color:#A66C4B'><b> #A66C4B </b># marrom claro</li>\n",
    "    <li style='color:#86471B'><b> #86471B </b># marrom1</li>\n",
    "    <li style='color:#732C02'><b> #732C02 </b># marrom2</li>\n",
    "    <li style='color:#592202'><b> #592202 </b># marrom escuro1</li>\n",
    "    <li style='color:#3D1806'><b> #3D1806 </b># marrom escuro2</li>\n",
    "    <li style='color:#0D0D0D'><b> #0D0D0D </b># preto</li>\n",
    "</ul>"
   ]
  },
  {
   "cell_type": "code",
   "execution_count": 4,
   "metadata": {
    "ExecuteTime": {
     "end_time": "2021-01-25T23:26:48.272024Z",
     "start_time": "2021-01-25T23:26:48.211914Z"
    }
   },
   "outputs": [],
   "source": [
    "# importing customized color palettes\n",
    "from src.MNViz_colors import *"
   ]
  },
  {
   "cell_type": "code",
   "execution_count": 5,
   "metadata": {
    "ExecuteTime": {
     "end_time": "2021-01-25T23:26:48.438655Z",
     "start_time": "2021-01-25T23:26:48.274221Z"
    }
   },
   "outputs": [],
   "source": [
    "# # paleta de cores por família\n",
    "# cores_familia = {\n",
    "#     'Magelonidae':'#238762',    # verde escuro \n",
    "#     'Oweniidae':'#3CA67F',      # verde (centroide)  \n",
    "#     'Chaetopteridae':'#77c8a5', # verde\n",
    "#     'Amphinomidae':'#bbebd3',   # verde claro\n",
    "#     'Lumbrineridae':'#e7e5df',  # azul claro 1\n",
    "#     'Dorvilleidae':'#b2c0d0',   # azul claro2\n",
    "#     'Oenonidae':'#7A9FBF',      # azul (centroide)\n",
    "#     'Eunicidae':'#3c81ae',      # azul\n",
    "#     'Onuphidae':'#00669a',      # azul escuro\n",
    "#     'Syllidae':'#ffbd84', \n",
    "#     'Typhloscolecidae':'#ffaa74', \n",
    "#     'Aphroditidae':'#ff9760', \n",
    "#     'Acoetidae':'#ff814b', \n",
    "#     'Chrysopetalidae':'#fc6b36', \n",
    "#     'Eulepethidae':'#eb5824',\n",
    "#     'Lopadorrhynchidae':'#d94814',  # laranja (centroide)\n",
    "#     'Polynoidae':'#c83b03',\n",
    "#     'Nereididae':'#b73000',\n",
    "#     'Nephtyidae':'#f18e56',\n",
    "#     'Glyceridae':'#D96236',         # laranja 2 (centroide)\n",
    "#     'Tomopteridae':'#bf381b',\n",
    "#     'Serpulidae':'#fbd0ad',\n",
    "#     'Sabellidae':'#f2b999', # cor de pele (centroide)\n",
    "#     'Sabellariidae':'#e8a287',\n",
    "#     'Spionidae':'#d27666',\n",
    "#     'Ampharetidae':'#b48061',\n",
    "#     'Pectinariidae':'#a66c4b',  # marrom 1 (centroide),\n",
    "#     'Trichobranchidae':'#975b39',\n",
    "#     'Terebellidae':'#874c2c',\n",
    "#     'Cirratulidae':'#774124',\n",
    "#     'Flabelligeridae':'#683720',\n",
    "#     'Sternaspidae':'#eebd93',\n",
    "#     'Orbiniidae':'#dfa47a',\n",
    "#     'Opheliidae':'#d28d60',\n",
    "#     'Capitellidae':'#c37746',\n",
    "#     'Arenicolidae':'#b4622f',\n",
    "#     'Cossuridae':'#a3501d',\n",
    "#     'Scalibregmatidae':'#92420e',\n",
    "#     'Paraonidae':'#823606',\n",
    "#     'Maldanidae':'#732c02', # marrom 2 (centroide)\n",
    "#     'NaN':'#0D0D0D',  # preto\n",
    "# }"
   ]
  },
  {
   "cell_type": "code",
   "execution_count": 6,
   "metadata": {
    "ExecuteTime": {
     "end_time": "2021-01-25T23:26:48.500472Z",
     "start_time": "2021-01-25T23:26:48.440310Z"
    }
   },
   "outputs": [],
   "source": [
    "ordens = NewTable['order'].unique()\n",
    "familias = NewTable['family'].unique()"
   ]
  },
  {
   "cell_type": "markdown",
   "metadata": {},
   "source": [
    "<br>\n",
    "\n",
    "## Counting per continent"
   ]
  },
  {
   "cell_type": "code",
   "execution_count": 7,
   "metadata": {
    "ExecuteTime": {
     "end_time": "2021-01-25T23:26:48.548769Z",
     "start_time": "2021-01-25T23:26:48.504914Z"
    }
   },
   "outputs": [],
   "source": [
    "# forces Country column to be in string format\n",
    "NewTable['country'] = NewTable['country'].apply(lambda x:str(x))"
   ]
  },
  {
   "cell_type": "code",
   "execution_count": 8,
   "metadata": {
    "ExecuteTime": {
     "end_time": "2021-01-25T23:26:48.593881Z",
     "start_time": "2021-01-25T23:26:48.553541Z"
    }
   },
   "outputs": [
    {
     "data": {
      "text/plain": [
       "South America      3637\n",
       "NaN                3141\n",
       "Antarctica           74\n",
       "Central America      52\n",
       "Europe               11\n",
       "Asia                  3\n",
       "North America         2\n",
       "Oceania               2\n",
       "Africa                1\n",
       "Name: continent, dtype: int64"
      ]
     },
     "execution_count": 8,
     "metadata": {},
     "output_type": "execute_result"
    }
   ],
   "source": [
    "# looking good...\n",
    "NewTable['continent'].value_counts()"
   ]
  },
  {
   "cell_type": "code",
   "execution_count": 9,
   "metadata": {
    "ExecuteTime": {
     "end_time": "2021-01-25T23:26:48.635153Z",
     "start_time": "2021-01-25T23:26:48.596957Z"
    }
   },
   "outputs": [
    {
     "name": "stdout",
     "output_type": "stream",
     "text": [
      "start_year\n",
      "determined_year\n",
      "cataloged_year\n",
      "author_year\n"
     ]
    }
   ],
   "source": [
    "for col in NewTable.columns:\n",
    "    if 'year' in col:\n",
    "        print(col)"
   ]
  },
  {
   "cell_type": "code",
   "execution_count": 10,
   "metadata": {
    "ExecuteTime": {
     "end_time": "2021-01-25T23:26:48.711531Z",
     "start_time": "2021-01-25T23:26:48.637534Z"
    }
   },
   "outputs": [],
   "source": [
    "# grouping per Year and Continent\n",
    "teste = NewTable.groupby(['start_year','continent']).count()['class'].reset_index().rename(columns={\n",
    "    'class':'counts'\n",
    "})\n",
    "\n",
    "# sorting...\n",
    "teste = teste.sort_values(['continent', 'start_year'])"
   ]
  },
  {
   "cell_type": "code",
   "execution_count": 11,
   "metadata": {
    "ExecuteTime": {
     "end_time": "2021-01-25T23:26:48.747357Z",
     "start_time": "2021-01-25T23:26:48.713283Z"
    }
   },
   "outputs": [],
   "source": [
    "# cumulatively counting\n",
    "cumSum = []\n",
    "for continente in teste['continent'].unique():\n",
    "    cumSum.extend(list(teste[teste['continent'] == continente]['counts'].cumsum()))\n",
    "    \n",
    "teste['cumulative_sum'] = cumSum"
   ]
  },
  {
   "cell_type": "markdown",
   "metadata": {},
   "source": [
    "### Chart: all continents"
   ]
  },
  {
   "cell_type": "code",
   "execution_count": 12,
   "metadata": {
    "ExecuteTime": {
     "end_time": "2021-01-25T23:26:48.833799Z",
     "start_time": "2021-01-25T23:26:48.749260Z"
    }
   },
   "outputs": [
    {
     "data": {
      "text/html": [
       "\n",
       "<div id=\"altair-viz-8e5a3a6f20d04cf9832f68025e6a3cd1\"></div>\n",
       "<script type=\"text/javascript\">\n",
       "  (function(spec, embedOpt){\n",
       "    let outputDiv = document.currentScript.previousElementSibling;\n",
       "    if (outputDiv.id !== \"altair-viz-8e5a3a6f20d04cf9832f68025e6a3cd1\") {\n",
       "      outputDiv = document.getElementById(\"altair-viz-8e5a3a6f20d04cf9832f68025e6a3cd1\");\n",
       "    }\n",
       "    const paths = {\n",
       "      \"vega\": \"https://cdn.jsdelivr.net/npm//vega@5?noext\",\n",
       "      \"vega-lib\": \"https://cdn.jsdelivr.net/npm//vega-lib?noext\",\n",
       "      \"vega-lite\": \"https://cdn.jsdelivr.net/npm//vega-lite@4.8.1?noext\",\n",
       "      \"vega-embed\": \"https://cdn.jsdelivr.net/npm//vega-embed@6?noext\",\n",
       "    };\n",
       "\n",
       "    function loadScript(lib) {\n",
       "      return new Promise(function(resolve, reject) {\n",
       "        var s = document.createElement('script');\n",
       "        s.src = paths[lib];\n",
       "        s.async = true;\n",
       "        s.onload = () => resolve(paths[lib]);\n",
       "        s.onerror = () => reject(`Error loading script: ${paths[lib]}`);\n",
       "        document.getElementsByTagName(\"head\")[0].appendChild(s);\n",
       "      });\n",
       "    }\n",
       "\n",
       "    function showError(err) {\n",
       "      outputDiv.innerHTML = `<div class=\"error\" style=\"color:red;\">${err}</div>`;\n",
       "      throw err;\n",
       "    }\n",
       "\n",
       "    function displayChart(vegaEmbed) {\n",
       "      vegaEmbed(outputDiv, spec, embedOpt)\n",
       "        .catch(err => showError(`Javascript Error: ${err.message}<br>This usually means there's a typo in your chart specification. See the javascript console for the full traceback.`));\n",
       "    }\n",
       "\n",
       "    if(typeof define === \"function\" && define.amd) {\n",
       "      requirejs.config({paths});\n",
       "      require([\"vega-embed\"], displayChart, err => showError(`Error loading script: ${err.message}`));\n",
       "    } else if (typeof vegaEmbed === \"function\") {\n",
       "      displayChart(vegaEmbed);\n",
       "    } else {\n",
       "      loadScript(\"vega\")\n",
       "        .then(() => loadScript(\"vega-lite\"))\n",
       "        .then(() => loadScript(\"vega-embed\"))\n",
       "        .catch(showError)\n",
       "        .then(() => displayChart(vegaEmbed));\n",
       "    }\n",
       "  })({\"config\": {\"view\": {\"continuousWidth\": 400, \"continuousHeight\": 300}, \"axis\": {\"labelFontSize\": 12, \"titleFontSize\": 12}, \"legend\": {\"labelFontSize\": 12, \"titleFontSize\": 12}, \"title\": {\"fontSize\": 16}}, \"data\": {\"name\": \"data-50b28b0431c1de59bfe5d2084674c463\"}, \"mark\": {\"type\": \"line\", \"point\": true}, \"encoding\": {\"color\": {\"type\": \"nominal\", \"field\": \"continent\", \"scale\": {\"domain\": [\"#N/D\", \"NaN\", \"South America\", \"Central America\", \"North America\", \"Asia\", \"Africa\", \"Europe\", \"Antarctica\", \"Oceania\"], \"range\": [\"#000000\", \"#000000\", \"#40a43b\", \"#bbe272\", \"#255026\", \"#db11ac\", \"#a96370\", \"#208eb7\", \"#b4ddd4\", \"#dbaea7\"]}, \"title\": \"Continent\"}, \"opacity\": {\"condition\": {\"value\": 1, \"selection\": \"selector001\"}, \"value\": 0}, \"tooltip\": [{\"type\": \"nominal\", \"field\": \"continent\"}, {\"type\": \"quantitative\", \"field\": \"start_year\"}, {\"type\": \"quantitative\", \"field\": \"counts\"}, {\"type\": \"quantitative\", \"field\": \"cumulative_sum\"}], \"x\": {\"type\": \"ordinal\", \"field\": \"start_year\", \"title\": \"Sampling Year\"}, \"y\": {\"type\": \"quantitative\", \"field\": \"cumulative_sum\", \"sort\": {\"field\": \"counts\", \"op\": \"count\", \"order\": \"descending\"}, \"title\": \"\"}}, \"selection\": {\"selector001\": {\"type\": \"multi\", \"fields\": [\"continent\"], \"bind\": \"legend\"}}, \"title\": \"Collection's temporal evolution per continent\", \"width\": 600, \"$schema\": \"https://vega.github.io/schema/vega-lite/v4.8.1.json\", \"datasets\": {\"data-50b28b0431c1de59bfe5d2084674c463\": [{\"start_year\": 2007.0, \"continent\": \"Africa\", \"counts\": 1, \"cumulative_sum\": 1}, {\"start_year\": 2003.0, \"continent\": \"Antarctica\", \"counts\": 71, \"cumulative_sum\": 71}, {\"start_year\": 2012.0, \"continent\": \"Antarctica\", \"counts\": 1, \"cumulative_sum\": 72}, {\"start_year\": 1986.0, \"continent\": \"Asia\", \"counts\": 1, \"cumulative_sum\": 1}, {\"start_year\": 2001.0, \"continent\": \"Asia\", \"counts\": 2, \"cumulative_sum\": 3}, {\"start_year\": 1905.0, \"continent\": \"Central America\", \"counts\": 1, \"cumulative_sum\": 1}, {\"start_year\": 2001.0, \"continent\": \"Central America\", \"counts\": 11, \"cumulative_sum\": 12}, {\"start_year\": 2003.0, \"continent\": \"Central America\", \"counts\": 3, \"cumulative_sum\": 15}, {\"start_year\": 2004.0, \"continent\": \"Central America\", \"counts\": 3, \"cumulative_sum\": 18}, {\"start_year\": 1993.0, \"continent\": \"Europe\", \"counts\": 1, \"cumulative_sum\": 1}, {\"start_year\": 1900.0, \"continent\": \"NaN\", \"counts\": 1, \"cumulative_sum\": 1}, {\"start_year\": 1962.0, \"continent\": \"NaN\", \"counts\": 1, \"cumulative_sum\": 2}, {\"start_year\": 1974.0, \"continent\": \"NaN\", \"counts\": 1, \"cumulative_sum\": 3}, {\"start_year\": 1976.0, \"continent\": \"NaN\", \"counts\": 1, \"cumulative_sum\": 4}, {\"start_year\": 1979.0, \"continent\": \"NaN\", \"counts\": 1, \"cumulative_sum\": 5}, {\"start_year\": 1980.0, \"continent\": \"NaN\", \"counts\": 1, \"cumulative_sum\": 6}, {\"start_year\": 1982.0, \"continent\": \"NaN\", \"counts\": 1, \"cumulative_sum\": 7}, {\"start_year\": 1983.0, \"continent\": \"NaN\", \"counts\": 2, \"cumulative_sum\": 9}, {\"start_year\": 1986.0, \"continent\": \"NaN\", \"counts\": 1, \"cumulative_sum\": 10}, {\"start_year\": 1989.0, \"continent\": \"NaN\", \"counts\": 3, \"cumulative_sum\": 13}, {\"start_year\": 1990.0, \"continent\": \"NaN\", \"counts\": 1, \"cumulative_sum\": 14}, {\"start_year\": 1992.0, \"continent\": \"NaN\", \"counts\": 18, \"cumulative_sum\": 32}, {\"start_year\": 1993.0, \"continent\": \"NaN\", \"counts\": 2, \"cumulative_sum\": 34}, {\"start_year\": 1994.0, \"continent\": \"NaN\", \"counts\": 1, \"cumulative_sum\": 35}, {\"start_year\": 1995.0, \"continent\": \"NaN\", \"counts\": 27, \"cumulative_sum\": 62}, {\"start_year\": 1996.0, \"continent\": \"NaN\", \"counts\": 39, \"cumulative_sum\": 101}, {\"start_year\": 1997.0, \"continent\": \"NaN\", \"counts\": 115, \"cumulative_sum\": 216}, {\"start_year\": 1998.0, \"continent\": \"NaN\", \"counts\": 17, \"cumulative_sum\": 233}, {\"start_year\": 1999.0, \"continent\": \"NaN\", \"counts\": 230, \"cumulative_sum\": 463}, {\"start_year\": 2000.0, \"continent\": \"NaN\", \"counts\": 205, \"cumulative_sum\": 668}, {\"start_year\": 2001.0, \"continent\": \"NaN\", \"counts\": 13, \"cumulative_sum\": 681}, {\"start_year\": 2002.0, \"continent\": \"NaN\", \"counts\": 39, \"cumulative_sum\": 720}, {\"start_year\": 2003.0, \"continent\": \"NaN\", \"counts\": 27, \"cumulative_sum\": 747}, {\"start_year\": 2004.0, \"continent\": \"NaN\", \"counts\": 180, \"cumulative_sum\": 927}, {\"start_year\": 2005.0, \"continent\": \"NaN\", \"counts\": 5, \"cumulative_sum\": 932}, {\"start_year\": 2006.0, \"continent\": \"NaN\", \"counts\": 7, \"cumulative_sum\": 939}, {\"start_year\": 2008.0, \"continent\": \"NaN\", \"counts\": 243, \"cumulative_sum\": 1182}, {\"start_year\": 2009.0, \"continent\": \"NaN\", \"counts\": 56, \"cumulative_sum\": 1238}, {\"start_year\": 2010.0, \"continent\": \"NaN\", \"counts\": 62, \"cumulative_sum\": 1300}, {\"start_year\": 2011.0, \"continent\": \"NaN\", \"counts\": 237, \"cumulative_sum\": 1537}, {\"start_year\": 2012.0, \"continent\": \"NaN\", \"counts\": 499, \"cumulative_sum\": 2036}, {\"start_year\": 2013.0, \"continent\": \"NaN\", \"counts\": 234, \"cumulative_sum\": 2270}, {\"start_year\": 2014.0, \"continent\": \"NaN\", \"counts\": 80, \"cumulative_sum\": 2350}, {\"start_year\": 2015.0, \"continent\": \"NaN\", \"counts\": 63, \"cumulative_sum\": 2413}, {\"start_year\": 2016.0, \"continent\": \"NaN\", \"counts\": 51, \"cumulative_sum\": 2464}, {\"start_year\": 2017.0, \"continent\": \"NaN\", \"counts\": 91, \"cumulative_sum\": 2555}, {\"start_year\": 2018.0, \"continent\": \"NaN\", \"counts\": 49, \"cumulative_sum\": 2604}, {\"start_year\": 2019.0, \"continent\": \"NaN\", \"counts\": 1, \"cumulative_sum\": 2605}, {\"start_year\": 2011.0, \"continent\": \"North America\", \"counts\": 2, \"cumulative_sum\": 2}, {\"start_year\": 1994.0, \"continent\": \"Oceania\", \"counts\": 1, \"cumulative_sum\": 1}, {\"start_year\": 2013.0, \"continent\": \"Oceania\", \"counts\": 1, \"cumulative_sum\": 2}, {\"start_year\": 1905.0, \"continent\": \"South America\", \"counts\": 4, \"cumulative_sum\": 4}, {\"start_year\": 1961.0, \"continent\": \"South America\", \"counts\": 1, \"cumulative_sum\": 5}, {\"start_year\": 1966.0, \"continent\": \"South America\", \"counts\": 2, \"cumulative_sum\": 7}, {\"start_year\": 1967.0, \"continent\": \"South America\", \"counts\": 4, \"cumulative_sum\": 11}, {\"start_year\": 1971.0, \"continent\": \"South America\", \"counts\": 2, \"cumulative_sum\": 13}, {\"start_year\": 1977.0, \"continent\": \"South America\", \"counts\": 1, \"cumulative_sum\": 14}, {\"start_year\": 1979.0, \"continent\": \"South America\", \"counts\": 2, \"cumulative_sum\": 16}, {\"start_year\": 1980.0, \"continent\": \"South America\", \"counts\": 3, \"cumulative_sum\": 19}, {\"start_year\": 1982.0, \"continent\": \"South America\", \"counts\": 1, \"cumulative_sum\": 20}, {\"start_year\": 1983.0, \"continent\": \"South America\", \"counts\": 1, \"cumulative_sum\": 21}, {\"start_year\": 1984.0, \"continent\": \"South America\", \"counts\": 5, \"cumulative_sum\": 26}, {\"start_year\": 1986.0, \"continent\": \"South America\", \"counts\": 3, \"cumulative_sum\": 29}, {\"start_year\": 1991.0, \"continent\": \"South America\", \"counts\": 1, \"cumulative_sum\": 30}, {\"start_year\": 1992.0, \"continent\": \"South America\", \"counts\": 3, \"cumulative_sum\": 33}, {\"start_year\": 1993.0, \"continent\": \"South America\", \"counts\": 17, \"cumulative_sum\": 50}, {\"start_year\": 1994.0, \"continent\": \"South America\", \"counts\": 10, \"cumulative_sum\": 60}, {\"start_year\": 1996.0, \"continent\": \"South America\", \"counts\": 15, \"cumulative_sum\": 75}, {\"start_year\": 1997.0, \"continent\": \"South America\", \"counts\": 40, \"cumulative_sum\": 115}, {\"start_year\": 1998.0, \"continent\": \"South America\", \"counts\": 486, \"cumulative_sum\": 601}, {\"start_year\": 1999.0, \"continent\": \"South America\", \"counts\": 1, \"cumulative_sum\": 602}, {\"start_year\": 2000.0, \"continent\": \"South America\", \"counts\": 939, \"cumulative_sum\": 1541}, {\"start_year\": 2001.0, \"continent\": \"South America\", \"counts\": 282, \"cumulative_sum\": 1823}, {\"start_year\": 2002.0, \"continent\": \"South America\", \"counts\": 178, \"cumulative_sum\": 2001}, {\"start_year\": 2003.0, \"continent\": \"South America\", \"counts\": 126, \"cumulative_sum\": 2127}, {\"start_year\": 2004.0, \"continent\": \"South America\", \"counts\": 7, \"cumulative_sum\": 2134}, {\"start_year\": 2005.0, \"continent\": \"South America\", \"counts\": 132, \"cumulative_sum\": 2266}, {\"start_year\": 2006.0, \"continent\": \"South America\", \"counts\": 16, \"cumulative_sum\": 2282}, {\"start_year\": 2007.0, \"continent\": \"South America\", \"counts\": 20, \"cumulative_sum\": 2302}, {\"start_year\": 2008.0, \"continent\": \"South America\", \"counts\": 157, \"cumulative_sum\": 2459}, {\"start_year\": 2009.0, \"continent\": \"South America\", \"counts\": 121, \"cumulative_sum\": 2580}, {\"start_year\": 2010.0, \"continent\": \"South America\", \"counts\": 2, \"cumulative_sum\": 2582}, {\"start_year\": 2011.0, \"continent\": \"South America\", \"counts\": 171, \"cumulative_sum\": 2753}, {\"start_year\": 2012.0, \"continent\": \"South America\", \"counts\": 100, \"cumulative_sum\": 2853}, {\"start_year\": 2013.0, \"continent\": \"South America\", \"counts\": 122, \"cumulative_sum\": 2975}, {\"start_year\": 2014.0, \"continent\": \"South America\", \"counts\": 237, \"cumulative_sum\": 3212}, {\"start_year\": 2015.0, \"continent\": \"South America\", \"counts\": 24, \"cumulative_sum\": 3236}]}}, {\"mode\": \"vega-lite\"});\n",
       "</script>"
      ],
      "text/plain": [
       "alt.Chart(...)"
      ]
     },
     "execution_count": 12,
     "metadata": {},
     "output_type": "execute_result"
    }
   ],
   "source": [
    "select_continent = alt.selection_multi(fields=['continent'], bind='legend')\n",
    "\n",
    "g1 = alt.Chart(teste, title=\"Collection's temporal evolution per continent\", width=600).mark_line(point=True).encode(\n",
    "    x= alt.X('start_year', type=\"ordinal\", title='Sampling Year'),\n",
    "    y= alt.Y('cumulative_sum', title='', \n",
    "             sort=alt.EncodingSortField('counts', op=\"count\", order='descending')),\n",
    "    color= alt.Color('continent:N', title='Continent',\n",
    "                     scale=alt.Scale(domain=list(cores_continente.keys()), range=list(cores_continente.values()))),\n",
    "    tooltip= alt.Tooltip(['continent','start_year','counts', 'cumulative_sum']),\n",
    "    opacity= alt.condition(select_continent, alt.value(1), alt.value(0))\n",
    ").add_selection(select_continent)\n",
    "\n",
    "g1 = g1.configure_title(fontSize=16).configure_axis(\n",
    "    labelFontSize=12,\n",
    "    titleFontSize=12\n",
    ").configure_legend(\n",
    "    labelFontSize=12,\n",
    "    titleFontSize=12\n",
    ")\n",
    "\n",
    "# g1.save('./graphs/cumCounts/time-spacial/evolucao_por_continente.html')\n",
    "\n",
    "g1"
   ]
  },
  {
   "cell_type": "markdown",
   "metadata": {},
   "source": [
    "### Chart: all continents (ex. South America)"
   ]
  },
  {
   "cell_type": "code",
   "execution_count": 13,
   "metadata": {
    "ExecuteTime": {
     "end_time": "2021-01-25T23:26:48.880139Z",
     "start_time": "2021-01-25T23:26:48.835762Z"
    }
   },
   "outputs": [
    {
     "data": {
      "text/html": [
       "\n",
       "<div id=\"altair-viz-31314acccd7a4945a94bf52acf5d88fb\"></div>\n",
       "<script type=\"text/javascript\">\n",
       "  (function(spec, embedOpt){\n",
       "    let outputDiv = document.currentScript.previousElementSibling;\n",
       "    if (outputDiv.id !== \"altair-viz-31314acccd7a4945a94bf52acf5d88fb\") {\n",
       "      outputDiv = document.getElementById(\"altair-viz-31314acccd7a4945a94bf52acf5d88fb\");\n",
       "    }\n",
       "    const paths = {\n",
       "      \"vega\": \"https://cdn.jsdelivr.net/npm//vega@5?noext\",\n",
       "      \"vega-lib\": \"https://cdn.jsdelivr.net/npm//vega-lib?noext\",\n",
       "      \"vega-lite\": \"https://cdn.jsdelivr.net/npm//vega-lite@4.8.1?noext\",\n",
       "      \"vega-embed\": \"https://cdn.jsdelivr.net/npm//vega-embed@6?noext\",\n",
       "    };\n",
       "\n",
       "    function loadScript(lib) {\n",
       "      return new Promise(function(resolve, reject) {\n",
       "        var s = document.createElement('script');\n",
       "        s.src = paths[lib];\n",
       "        s.async = true;\n",
       "        s.onload = () => resolve(paths[lib]);\n",
       "        s.onerror = () => reject(`Error loading script: ${paths[lib]}`);\n",
       "        document.getElementsByTagName(\"head\")[0].appendChild(s);\n",
       "      });\n",
       "    }\n",
       "\n",
       "    function showError(err) {\n",
       "      outputDiv.innerHTML = `<div class=\"error\" style=\"color:red;\">${err}</div>`;\n",
       "      throw err;\n",
       "    }\n",
       "\n",
       "    function displayChart(vegaEmbed) {\n",
       "      vegaEmbed(outputDiv, spec, embedOpt)\n",
       "        .catch(err => showError(`Javascript Error: ${err.message}<br>This usually means there's a typo in your chart specification. See the javascript console for the full traceback.`));\n",
       "    }\n",
       "\n",
       "    if(typeof define === \"function\" && define.amd) {\n",
       "      requirejs.config({paths});\n",
       "      require([\"vega-embed\"], displayChart, err => showError(`Error loading script: ${err.message}`));\n",
       "    } else if (typeof vegaEmbed === \"function\") {\n",
       "      displayChart(vegaEmbed);\n",
       "    } else {\n",
       "      loadScript(\"vega\")\n",
       "        .then(() => loadScript(\"vega-lite\"))\n",
       "        .then(() => loadScript(\"vega-embed\"))\n",
       "        .catch(showError)\n",
       "        .then(() => displayChart(vegaEmbed));\n",
       "    }\n",
       "  })({\"config\": {\"view\": {\"continuousWidth\": 400, \"continuousHeight\": 300}, \"axis\": {\"labelFontSize\": 12, \"titleFontSize\": 12}, \"legend\": {\"labelFontSize\": 12, \"titleFontSize\": 12}, \"point\": {\"size\": 50}, \"title\": {\"fontSize\": 16}}, \"data\": {\"name\": \"data-05d5f2b2b7d20a120dc525290df6e915\"}, \"mark\": {\"type\": \"line\", \"point\": true}, \"encoding\": {\"color\": {\"type\": \"nominal\", \"field\": \"continent\", \"scale\": {\"domain\": [\"Africa\", \"Antarctica\", \"Asia\", \"Central America\", \"Europe\", \"North America\", \"Oceania\"], \"range\": [\"#a96370\", \"#b4ddd4\", \"#db11ac\", \"#bbe272\", \"#208eb7\", \"#255026\", \"#dbaea7\"]}, \"title\": \"Continent\"}, \"opacity\": {\"condition\": {\"value\": 1, \"selection\": \"selector002\"}, \"value\": 0}, \"tooltip\": [{\"type\": \"nominal\", \"field\": \"continent\"}, {\"type\": \"quantitative\", \"field\": \"start_year\"}, {\"type\": \"quantitative\", \"field\": \"counts\"}, {\"type\": \"quantitative\", \"field\": \"cumulative_sum\"}], \"x\": {\"type\": \"ordinal\", \"field\": \"start_year\", \"title\": \"Sampling Year\"}, \"y\": {\"type\": \"quantitative\", \"field\": \"cumulative_sum\", \"scale\": {\"domain\": [0, 80]}, \"sort\": {\"field\": \"counts\", \"op\": \"count\", \"order\": \"descending\"}, \"title\": \"\"}}, \"selection\": {\"selector002\": {\"type\": \"multi\", \"fields\": [\"continent\"], \"bind\": \"legend\"}}, \"title\": \"Collection's temporal evolution per continent (ex. South America and missing values)\", \"width\": 600, \"$schema\": \"https://vega.github.io/schema/vega-lite/v4.8.1.json\", \"datasets\": {\"data-05d5f2b2b7d20a120dc525290df6e915\": [{\"start_year\": 2007.0, \"continent\": \"Africa\", \"counts\": 1, \"cumulative_sum\": 1}, {\"start_year\": 2003.0, \"continent\": \"Antarctica\", \"counts\": 71, \"cumulative_sum\": 71}, {\"start_year\": 2012.0, \"continent\": \"Antarctica\", \"counts\": 1, \"cumulative_sum\": 72}, {\"start_year\": 1986.0, \"continent\": \"Asia\", \"counts\": 1, \"cumulative_sum\": 1}, {\"start_year\": 2001.0, \"continent\": \"Asia\", \"counts\": 2, \"cumulative_sum\": 3}, {\"start_year\": 1905.0, \"continent\": \"Central America\", \"counts\": 1, \"cumulative_sum\": 1}, {\"start_year\": 2001.0, \"continent\": \"Central America\", \"counts\": 11, \"cumulative_sum\": 12}, {\"start_year\": 2003.0, \"continent\": \"Central America\", \"counts\": 3, \"cumulative_sum\": 15}, {\"start_year\": 2004.0, \"continent\": \"Central America\", \"counts\": 3, \"cumulative_sum\": 18}, {\"start_year\": 1993.0, \"continent\": \"Europe\", \"counts\": 1, \"cumulative_sum\": 1}, {\"start_year\": 2011.0, \"continent\": \"North America\", \"counts\": 2, \"cumulative_sum\": 2}, {\"start_year\": 1994.0, \"continent\": \"Oceania\", \"counts\": 1, \"cumulative_sum\": 1}, {\"start_year\": 2013.0, \"continent\": \"Oceania\", \"counts\": 1, \"cumulative_sum\": 2}]}}, {\"mode\": \"vega-lite\"});\n",
       "</script>"
      ],
      "text/plain": [
       "alt.Chart(...)"
      ]
     },
     "execution_count": 13,
     "metadata": {},
     "output_type": "execute_result"
    }
   ],
   "source": [
    "select_continent = alt.selection_multi(fields=['continent'], bind='legend')\n",
    "\n",
    "# removing South America from domain and range colors\n",
    "continents_exSA = [c for c in teste['continent'].unique() if c != 'South America' and c != \"NaN\"]\n",
    "colors_exSA = [cores_continente[c] for c in continents_exSA]\n",
    "\n",
    "g1 = alt.Chart(teste[(teste['continent']!='South America') & (teste['continent']!='NaN')],\n",
    "               title=\"Collection's temporal evolution per continent (ex. South America and missing values)\", \n",
    "width=600).mark_line(point=True).encode(\n",
    "    x= alt.X('start_year', type=\"ordinal\", title='Sampling Year'),\n",
    "    y= alt.Y('cumulative_sum', title='', \n",
    "             sort=alt.EncodingSortField('counts', op=\"count\", order='descending'),\n",
    "             scale= alt.Scale(domain=[0,80])),\n",
    "    color= alt.Color('continent:N', title='Continent',\n",
    "                     scale=alt.Scale(domain= continents_exSA, range= colors_exSA)),\n",
    "    tooltip= alt.Tooltip(['continent','start_year','counts', 'cumulative_sum']),\n",
    "    opacity= alt.condition(select_continent, alt.value(1), alt.value(0))\n",
    ").add_selection(select_continent).configure_point(\n",
    "    size=50\n",
    ")\n",
    "\n",
    "g1 = g1.configure_title(fontSize=16).configure_axis(\n",
    "    labelFontSize=12,\n",
    "    titleFontSize=12\n",
    ").configure_legend(\n",
    "    labelFontSize=12,\n",
    "    titleFontSize=12\n",
    ")\n",
    "\n",
    "# g1.save('./graphs/cumCounts/time-spacial/evolucao_por_OUTROS_continentes.html')\n",
    "\n",
    "g1"
   ]
  },
  {
   "cell_type": "markdown",
   "metadata": {},
   "source": [
    "<br>\n",
    "\n",
    "## Counting per Country"
   ]
  },
  {
   "cell_type": "code",
   "execution_count": 14,
   "metadata": {
    "ExecuteTime": {
     "end_time": "2021-01-25T23:26:48.947328Z",
     "start_time": "2021-01-25T23:26:48.881752Z"
    }
   },
   "outputs": [],
   "source": [
    "# OBS: conserto temporário (tem valores NaN na coluna continente para o país Brasil)\n",
    "temp = NewTable.copy()\n",
    "idx = temp[temp['country'] == 'Brazil'].index\n",
    "\n",
    "temp.loc[idx, 'continent'] = 'South America'"
   ]
  },
  {
   "cell_type": "code",
   "execution_count": 15,
   "metadata": {
    "ExecuteTime": {
     "end_time": "2021-01-25T23:26:49.027173Z",
     "start_time": "2021-01-25T23:26:48.948845Z"
    }
   },
   "outputs": [],
   "source": [
    "# grouping per year, continent and country\n",
    "teste = temp.groupby(['start_year','continent','country']).count()['class'].reset_index().rename(columns={\n",
    "    'class':'counts'\n",
    "})\n",
    "\n",
    "teste = teste.sort_values(['country', 'start_year'])"
   ]
  },
  {
   "cell_type": "code",
   "execution_count": 16,
   "metadata": {
    "ExecuteTime": {
     "end_time": "2021-01-25T23:26:49.058815Z",
     "start_time": "2021-01-25T23:26:49.029416Z"
    }
   },
   "outputs": [],
   "source": [
    "# cumulatively counting\n",
    "cumSum = []\n",
    "for pais in teste['country'].unique():\n",
    "    cumSum.extend(list(teste[teste['country'] == pais]['counts'].cumsum()))\n",
    "    \n",
    "teste['cumulative_sum'] = cumSum"
   ]
  },
  {
   "cell_type": "markdown",
   "metadata": {},
   "source": [
    "### Chart: all countries"
   ]
  },
  {
   "cell_type": "code",
   "execution_count": 17,
   "metadata": {
    "ExecuteTime": {
     "end_time": "2021-01-25T23:26:49.133459Z",
     "start_time": "2021-01-25T23:26:49.061232Z"
    }
   },
   "outputs": [
    {
     "data": {
      "text/html": [
       "\n",
       "<div id=\"altair-viz-3191e04367d24c8a93c51d7a2252616f\"></div>\n",
       "<script type=\"text/javascript\">\n",
       "  (function(spec, embedOpt){\n",
       "    let outputDiv = document.currentScript.previousElementSibling;\n",
       "    if (outputDiv.id !== \"altair-viz-3191e04367d24c8a93c51d7a2252616f\") {\n",
       "      outputDiv = document.getElementById(\"altair-viz-3191e04367d24c8a93c51d7a2252616f\");\n",
       "    }\n",
       "    const paths = {\n",
       "      \"vega\": \"https://cdn.jsdelivr.net/npm//vega@5?noext\",\n",
       "      \"vega-lib\": \"https://cdn.jsdelivr.net/npm//vega-lib?noext\",\n",
       "      \"vega-lite\": \"https://cdn.jsdelivr.net/npm//vega-lite@4.8.1?noext\",\n",
       "      \"vega-embed\": \"https://cdn.jsdelivr.net/npm//vega-embed@6?noext\",\n",
       "    };\n",
       "\n",
       "    function loadScript(lib) {\n",
       "      return new Promise(function(resolve, reject) {\n",
       "        var s = document.createElement('script');\n",
       "        s.src = paths[lib];\n",
       "        s.async = true;\n",
       "        s.onload = () => resolve(paths[lib]);\n",
       "        s.onerror = () => reject(`Error loading script: ${paths[lib]}`);\n",
       "        document.getElementsByTagName(\"head\")[0].appendChild(s);\n",
       "      });\n",
       "    }\n",
       "\n",
       "    function showError(err) {\n",
       "      outputDiv.innerHTML = `<div class=\"error\" style=\"color:red;\">${err}</div>`;\n",
       "      throw err;\n",
       "    }\n",
       "\n",
       "    function displayChart(vegaEmbed) {\n",
       "      vegaEmbed(outputDiv, spec, embedOpt)\n",
       "        .catch(err => showError(`Javascript Error: ${err.message}<br>This usually means there's a typo in your chart specification. See the javascript console for the full traceback.`));\n",
       "    }\n",
       "\n",
       "    if(typeof define === \"function\" && define.amd) {\n",
       "      requirejs.config({paths});\n",
       "      require([\"vega-embed\"], displayChart, err => showError(`Error loading script: ${err.message}`));\n",
       "    } else if (typeof vegaEmbed === \"function\") {\n",
       "      displayChart(vegaEmbed);\n",
       "    } else {\n",
       "      loadScript(\"vega\")\n",
       "        .then(() => loadScript(\"vega-lite\"))\n",
       "        .then(() => loadScript(\"vega-embed\"))\n",
       "        .catch(showError)\n",
       "        .then(() => displayChart(vegaEmbed));\n",
       "    }\n",
       "  })({\"config\": {\"view\": {\"continuousWidth\": 400, \"continuousHeight\": 300}, \"axis\": {\"labelFontSize\": 12, \"titleFontSize\": 12}, \"legend\": {\"labelFontSize\": 12, \"titleFontSize\": 12}, \"title\": {\"fontSize\": 16}}, \"data\": {\"name\": \"data-7b4b8c8028d51256655628ab8564ca66\"}, \"mark\": {\"type\": \"line\", \"point\": true}, \"encoding\": {\"color\": {\"type\": \"nominal\", \"field\": \"country\", \"legend\": {\"columns\": 2, \"symbolLimit\": 42}, \"scale\": {\"domain\": [\"NaN\", \"Brazil\", \"Uruguay\", \"Venezuela\", \"Panama\", \"Belize\", \"United States\", \"Japan\", \"Israel\", \"Sao Tome and Principe\", \"England\", \"Norway\", \"France\", \"Croatia\", \"Italy\", \"Antarctica\", \"Australia\", \"Papua New Guinea\"], \"range\": [\"#000000\", \"#40a43b\", \"#40a43b\", \"#40a43b\", \"#bbe272\", \"#bbe272\", \"#255026\", \"#db11ac\", \"#db11ac\", \"#a96370\", \"#208eb7\", \"#208eb7\", \"#208eb7\", \"#208eb7\", \"#208eb7\", \"#b4ddd4\", \"#dbaea7\", \"#dbaea7\"]}, \"title\": \"Country\"}, \"tooltip\": [{\"type\": \"nominal\", \"field\": \"country\"}, {\"type\": \"quantitative\", \"field\": \"start_year\"}, {\"type\": \"quantitative\", \"field\": \"counts\"}, {\"type\": \"quantitative\", \"field\": \"cumulative_sum\"}], \"x\": {\"type\": \"ordinal\", \"field\": \"start_year\", \"scale\": {\"domain\": [1900.0, 1905.0, 1961.0, 1962.0, 1966.0, 1967.0, 1971.0, 1974.0, 1976.0, 1977.0, 1979.0, 1980.0, 1982.0, 1983.0, 1984.0, 1986.0, 1989.0, 1990.0, 1991.0, 1992.0, 1993.0, 1994.0, 1995.0, 1996.0, 1997.0, 1998.0, 1999.0, 2000.0, 2001.0, 2002.0, 2003.0, 2004.0, 2005.0, 2006.0, 2007.0, 2008.0, 2009.0, 2010.0, 2011.0, 2012.0, 2013.0, 2014.0, 2015.0, 2016.0, 2017.0, 2018.0, 2019.0]}, \"title\": \"Sampling Year\"}, \"y\": {\"type\": \"quantitative\", \"field\": \"cumulative_sum\", \"scale\": {\"domain\": [0, 6000]}, \"sort\": {\"field\": \"counts\", \"op\": \"count\", \"order\": \"descending\"}, \"title\": \"\"}}, \"selection\": {\"selector003\": {\"type\": \"multi\", \"fields\": [\"country\"], \"bind\": \"legend\"}}, \"title\": \"Collection's temporal evolution per country\", \"transform\": [{\"filter\": {\"selection\": \"selector003\"}}], \"width\": 600, \"$schema\": \"https://vega.github.io/schema/vega-lite/v4.8.1.json\", \"datasets\": {\"data-7b4b8c8028d51256655628ab8564ca66\": [{\"start_year\": 2003.0, \"continent\": \"Antarctica\", \"country\": \"Antarctica\", \"counts\": 71, \"cumulative_sum\": 71}, {\"start_year\": 2012.0, \"continent\": \"Antarctica\", \"country\": \"Antarctica\", \"counts\": 1, \"cumulative_sum\": 72}, {\"start_year\": 2013.0, \"continent\": \"Oceania\", \"country\": \"Australia\", \"counts\": 1, \"cumulative_sum\": 1}, {\"start_year\": 2003.0, \"continent\": \"Central America\", \"country\": \"Belize\", \"counts\": 3, \"cumulative_sum\": 3}, {\"start_year\": 1900.0, \"continent\": \"South America\", \"country\": \"Brazil\", \"counts\": 1, \"cumulative_sum\": 1}, {\"start_year\": 1905.0, \"continent\": \"South America\", \"country\": \"Brazil\", \"counts\": 4, \"cumulative_sum\": 5}, {\"start_year\": 1961.0, \"continent\": \"South America\", \"country\": \"Brazil\", \"counts\": 1, \"cumulative_sum\": 6}, {\"start_year\": 1962.0, \"continent\": \"South America\", \"country\": \"Brazil\", \"counts\": 1, \"cumulative_sum\": 7}, {\"start_year\": 1966.0, \"continent\": \"South America\", \"country\": \"Brazil\", \"counts\": 2, \"cumulative_sum\": 9}, {\"start_year\": 1967.0, \"continent\": \"South America\", \"country\": \"Brazil\", \"counts\": 4, \"cumulative_sum\": 13}, {\"start_year\": 1971.0, \"continent\": \"South America\", \"country\": \"Brazil\", \"counts\": 2, \"cumulative_sum\": 15}, {\"start_year\": 1974.0, \"continent\": \"South America\", \"country\": \"Brazil\", \"counts\": 1, \"cumulative_sum\": 16}, {\"start_year\": 1977.0, \"continent\": \"South America\", \"country\": \"Brazil\", \"counts\": 1, \"cumulative_sum\": 17}, {\"start_year\": 1979.0, \"continent\": \"South America\", \"country\": \"Brazil\", \"counts\": 3, \"cumulative_sum\": 20}, {\"start_year\": 1980.0, \"continent\": \"South America\", \"country\": \"Brazil\", \"counts\": 4, \"cumulative_sum\": 24}, {\"start_year\": 1982.0, \"continent\": \"South America\", \"country\": \"Brazil\", \"counts\": 2, \"cumulative_sum\": 26}, {\"start_year\": 1983.0, \"continent\": \"South America\", \"country\": \"Brazil\", \"counts\": 3, \"cumulative_sum\": 29}, {\"start_year\": 1984.0, \"continent\": \"South America\", \"country\": \"Brazil\", \"counts\": 5, \"cumulative_sum\": 34}, {\"start_year\": 1986.0, \"continent\": \"South America\", \"country\": \"Brazil\", \"counts\": 4, \"cumulative_sum\": 38}, {\"start_year\": 1989.0, \"continent\": \"South America\", \"country\": \"Brazil\", \"counts\": 3, \"cumulative_sum\": 41}, {\"start_year\": 1990.0, \"continent\": \"South America\", \"country\": \"Brazil\", \"counts\": 1, \"cumulative_sum\": 42}, {\"start_year\": 1991.0, \"continent\": \"South America\", \"country\": \"Brazil\", \"counts\": 1, \"cumulative_sum\": 43}, {\"start_year\": 1992.0, \"continent\": \"South America\", \"country\": \"Brazil\", \"counts\": 21, \"cumulative_sum\": 64}, {\"start_year\": 1993.0, \"continent\": \"South America\", \"country\": \"Brazil\", \"counts\": 19, \"cumulative_sum\": 83}, {\"start_year\": 1994.0, \"continent\": \"South America\", \"country\": \"Brazil\", \"counts\": 11, \"cumulative_sum\": 94}, {\"start_year\": 1995.0, \"continent\": \"South America\", \"country\": \"Brazil\", \"counts\": 26, \"cumulative_sum\": 120}, {\"start_year\": 1996.0, \"continent\": \"South America\", \"country\": \"Brazil\", \"counts\": 51, \"cumulative_sum\": 171}, {\"start_year\": 1997.0, \"continent\": \"South America\", \"country\": \"Brazil\", \"counts\": 147, \"cumulative_sum\": 318}, {\"start_year\": 1998.0, \"continent\": \"South America\", \"country\": \"Brazil\", \"counts\": 503, \"cumulative_sum\": 821}, {\"start_year\": 1999.0, \"continent\": \"South America\", \"country\": \"Brazil\", \"counts\": 229, \"cumulative_sum\": 1050}, {\"start_year\": 2000.0, \"continent\": \"South America\", \"country\": \"Brazil\", \"counts\": 1141, \"cumulative_sum\": 2191}, {\"start_year\": 2001.0, \"continent\": \"South America\", \"country\": \"Brazil\", \"counts\": 292, \"cumulative_sum\": 2483}, {\"start_year\": 2002.0, \"continent\": \"South America\", \"country\": \"Brazil\", \"counts\": 190, \"cumulative_sum\": 2673}, {\"start_year\": 2003.0, \"continent\": \"South America\", \"country\": \"Brazil\", \"counts\": 153, \"cumulative_sum\": 2826}, {\"start_year\": 2004.0, \"continent\": \"South America\", \"country\": \"Brazil\", \"counts\": 56, \"cumulative_sum\": 2882}, {\"start_year\": 2005.0, \"continent\": \"South America\", \"country\": \"Brazil\", \"counts\": 137, \"cumulative_sum\": 3019}, {\"start_year\": 2006.0, \"continent\": \"South America\", \"country\": \"Brazil\", \"counts\": 23, \"cumulative_sum\": 3042}, {\"start_year\": 2007.0, \"continent\": \"South America\", \"country\": \"Brazil\", \"counts\": 20, \"cumulative_sum\": 3062}, {\"start_year\": 2008.0, \"continent\": \"South America\", \"country\": \"Brazil\", \"counts\": 400, \"cumulative_sum\": 3462}, {\"start_year\": 2009.0, \"continent\": \"South America\", \"country\": \"Brazil\", \"counts\": 177, \"cumulative_sum\": 3639}, {\"start_year\": 2010.0, \"continent\": \"South America\", \"country\": \"Brazil\", \"counts\": 60, \"cumulative_sum\": 3699}, {\"start_year\": 2011.0, \"continent\": \"South America\", \"country\": \"Brazil\", \"counts\": 406, \"cumulative_sum\": 4105}, {\"start_year\": 2012.0, \"continent\": \"South America\", \"country\": \"Brazil\", \"counts\": 597, \"cumulative_sum\": 4702}, {\"start_year\": 2013.0, \"continent\": \"South America\", \"country\": \"Brazil\", \"counts\": 352, \"cumulative_sum\": 5054}, {\"start_year\": 2014.0, \"continent\": \"South America\", \"country\": \"Brazil\", \"counts\": 276, \"cumulative_sum\": 5330}, {\"start_year\": 2015.0, \"continent\": \"South America\", \"country\": \"Brazil\", \"counts\": 84, \"cumulative_sum\": 5414}, {\"start_year\": 2016.0, \"continent\": \"South America\", \"country\": \"Brazil\", \"counts\": 42, \"cumulative_sum\": 5456}, {\"start_year\": 2017.0, \"continent\": \"South America\", \"country\": \"Brazil\", \"counts\": 88, \"cumulative_sum\": 5544}, {\"start_year\": 2018.0, \"continent\": \"South America\", \"country\": \"Brazil\", \"counts\": 49, \"cumulative_sum\": 5593}, {\"start_year\": 2019.0, \"continent\": \"South America\", \"country\": \"Brazil\", \"counts\": 1, \"cumulative_sum\": 5594}, {\"start_year\": 2013.0, \"continent\": \"NaN\", \"country\": \"Chile\", \"counts\": 3, \"cumulative_sum\": 3}, {\"start_year\": 2015.0, \"continent\": \"NaN\", \"country\": \"China\", \"counts\": 1, \"cumulative_sum\": 1}, {\"start_year\": 2016.0, \"continent\": \"NaN\", \"country\": \"China\", \"counts\": 6, \"cumulative_sum\": 7}, {\"start_year\": 2017.0, \"continent\": \"NaN\", \"country\": \"Costa Rica\", \"counts\": 2, \"cumulative_sum\": 2}, {\"start_year\": 1993.0, \"continent\": \"Europe\", \"country\": \"France\", \"counts\": 1, \"cumulative_sum\": 1}, {\"start_year\": 2014.0, \"continent\": \"NaN\", \"country\": \"France\", \"counts\": 1, \"cumulative_sum\": 2}, {\"start_year\": 2016.0, \"continent\": \"NaN\", \"country\": \"France\", \"counts\": 2, \"cumulative_sum\": 4}, {\"start_year\": 1986.0, \"continent\": \"Asia\", \"country\": \"Israel\", \"counts\": 1, \"cumulative_sum\": 1}, {\"start_year\": 2001.0, \"continent\": \"Asia\", \"country\": \"Japan\", \"counts\": 2, \"cumulative_sum\": 2}, {\"start_year\": 2014.0, \"continent\": \"NaN\", \"country\": \"Japan\", \"counts\": 9, \"cumulative_sum\": 11}, {\"start_year\": 1996.0, \"continent\": \"NaN\", \"country\": \"NaN\", \"counts\": 2, \"cumulative_sum\": 2}, {\"start_year\": 1996.0, \"continent\": \"South America\", \"country\": \"NaN\", \"counts\": 1, \"cumulative_sum\": 3}, {\"start_year\": 1997.0, \"continent\": \"NaN\", \"country\": \"NaN\", \"counts\": 7, \"cumulative_sum\": 10}, {\"start_year\": 1997.0, \"continent\": \"South America\", \"country\": \"NaN\", \"counts\": 1, \"cumulative_sum\": 11}, {\"start_year\": 1999.0, \"continent\": \"NaN\", \"country\": \"NaN\", \"counts\": 2, \"cumulative_sum\": 13}, {\"start_year\": 2000.0, \"continent\": \"NaN\", \"country\": \"NaN\", \"counts\": 3, \"cumulative_sum\": 16}, {\"start_year\": 2001.0, \"continent\": \"NaN\", \"country\": \"NaN\", \"counts\": 1, \"cumulative_sum\": 17}, {\"start_year\": 2002.0, \"continent\": \"NaN\", \"country\": \"NaN\", \"counts\": 26, \"cumulative_sum\": 43}, {\"start_year\": 2002.0, \"continent\": \"South America\", \"country\": \"NaN\", \"counts\": 1, \"cumulative_sum\": 44}, {\"start_year\": 2004.0, \"continent\": \"NaN\", \"country\": \"NaN\", \"counts\": 131, \"cumulative_sum\": 175}, {\"start_year\": 2012.0, \"continent\": \"NaN\", \"country\": \"NaN\", \"counts\": 2, \"cumulative_sum\": 177}, {\"start_year\": 2014.0, \"continent\": \"NaN\", \"country\": \"NaN\", \"counts\": 1, \"cumulative_sum\": 178}, {\"start_year\": 1905.0, \"continent\": \"Central America\", \"country\": \"Panama\", \"counts\": 1, \"cumulative_sum\": 1}, {\"start_year\": 2001.0, \"continent\": \"Central America\", \"country\": \"Panama\", \"counts\": 11, \"cumulative_sum\": 12}, {\"start_year\": 2001.0, \"continent\": \"NaN\", \"country\": \"Panama\", \"counts\": 2, \"cumulative_sum\": 14}, {\"start_year\": 2004.0, \"continent\": \"Central America\", \"country\": \"Panama\", \"counts\": 3, \"cumulative_sum\": 17}, {\"start_year\": 2013.0, \"continent\": \"NaN\", \"country\": \"Panama\", \"counts\": 1, \"cumulative_sum\": 18}, {\"start_year\": 1994.0, \"continent\": \"Oceania\", \"country\": \"Papua New Guinea\", \"counts\": 1, \"cumulative_sum\": 1}, {\"start_year\": 2015.0, \"continent\": \"NaN\", \"country\": \"Puerto Rico\", \"counts\": 1, \"cumulative_sum\": 1}, {\"start_year\": 1995.0, \"continent\": \"NaN\", \"country\": \"Quenia\", \"counts\": 1, \"cumulative_sum\": 1}, {\"start_year\": 2014.0, \"continent\": \"NaN\", \"country\": \"Republic of Palau\", \"counts\": 9, \"cumulative_sum\": 9}, {\"start_year\": 2007.0, \"continent\": \"Africa\", \"country\": \"Sao Tome and Principe\", \"counts\": 1, \"cumulative_sum\": 1}, {\"start_year\": 1976.0, \"continent\": \"NaN\", \"country\": \"Somalia\", \"counts\": 1, \"cumulative_sum\": 1}, {\"start_year\": 2017.0, \"continent\": \"NaN\", \"country\": \"United Kingdom\", \"counts\": 1, \"cumulative_sum\": 1}, {\"start_year\": 2010.0, \"continent\": \"NaN\", \"country\": \"United States\", \"counts\": 4, \"cumulative_sum\": 4}, {\"start_year\": 2011.0, \"continent\": \"NaN\", \"country\": \"United States\", \"counts\": 2, \"cumulative_sum\": 6}, {\"start_year\": 2011.0, \"continent\": \"North America\", \"country\": \"United States\", \"counts\": 2, \"cumulative_sum\": 8}, {\"start_year\": 2015.0, \"continent\": \"NaN\", \"country\": \"United States\", \"counts\": 1, \"cumulative_sum\": 9}, {\"start_year\": 2014.0, \"continent\": \"South America\", \"country\": \"Uruguay\", \"counts\": 1, \"cumulative_sum\": 1}, {\"start_year\": 2014.0, \"continent\": \"South America\", \"country\": \"Venezuela\", \"counts\": 20, \"cumulative_sum\": 20}, {\"start_year\": 2016.0, \"continent\": \"NaN\", \"country\": \"Wales\", \"counts\": 1, \"cumulative_sum\": 1}]}}, {\"mode\": \"vega-lite\"});\n",
       "</script>"
      ],
      "text/plain": [
       "alt.Chart(...)"
      ]
     },
     "execution_count": 17,
     "metadata": {},
     "output_type": "execute_result"
    }
   ],
   "source": [
    "select_country = alt.selection_multi(fields=['country'], bind='legend')\n",
    "\n",
    "g1 = alt.Chart(teste, title=\"Collection's temporal evolution per country\", \n",
    "width=600).mark_line(point=True).encode(\n",
    "    x= alt.X('start_year', type=\"ordinal\", title='Sampling Year',\n",
    "            scale= alt.Scale(domain=list(sorted(teste['start_year'].unique())))), # fixed x-axis\n",
    "    y= alt.Y('cumulative_sum', title='', \n",
    "             sort=alt.EncodingSortField('counts', op=\"count\", order='descending'),\n",
    "             scale= alt.Scale(domain=[0,6000])),\n",
    "    color= alt.Color('country:N', title='Country',\n",
    "                     legend= alt.Legend(columns=2, symbolLimit=42),\n",
    "                     scale= alt.Scale(domain=list(cores_pais.keys()), range=list(cores_pais.values()))),\n",
    "    tooltip= alt.Tooltip(['country','start_year','counts', 'cumulative_sum']),\n",
    "#     opacity= alt.condition(select_country, alt.value(1), alt.value(0))\n",
    ").add_selection(select_country).transform_filter(select_country)\n",
    "\n",
    "g1 = g1.configure_title(fontSize=16).configure_axis(\n",
    "    labelFontSize=12,\n",
    "    titleFontSize=12\n",
    ").configure_legend(\n",
    "    labelFontSize=12,\n",
    "    titleFontSize=12\n",
    ")\n",
    "\n",
    "# g1.save('./graphs/cumCounts/time-spacial/evolucao_por_país.html')\n",
    "\n",
    "g1"
   ]
  },
  {
   "cell_type": "markdown",
   "metadata": {},
   "source": [
    "### Chart: all countries (ex. Brasil)"
   ]
  },
  {
   "cell_type": "code",
   "execution_count": 18,
   "metadata": {
    "ExecuteTime": {
     "end_time": "2021-01-25T23:26:49.204716Z",
     "start_time": "2021-01-25T23:26:49.136862Z"
    }
   },
   "outputs": [
    {
     "data": {
      "text/html": [
       "\n",
       "<div id=\"altair-viz-e64bdee8e00e41d898109c30f6580c48\"></div>\n",
       "<script type=\"text/javascript\">\n",
       "  (function(spec, embedOpt){\n",
       "    let outputDiv = document.currentScript.previousElementSibling;\n",
       "    if (outputDiv.id !== \"altair-viz-e64bdee8e00e41d898109c30f6580c48\") {\n",
       "      outputDiv = document.getElementById(\"altair-viz-e64bdee8e00e41d898109c30f6580c48\");\n",
       "    }\n",
       "    const paths = {\n",
       "      \"vega\": \"https://cdn.jsdelivr.net/npm//vega@5?noext\",\n",
       "      \"vega-lib\": \"https://cdn.jsdelivr.net/npm//vega-lib?noext\",\n",
       "      \"vega-lite\": \"https://cdn.jsdelivr.net/npm//vega-lite@4.8.1?noext\",\n",
       "      \"vega-embed\": \"https://cdn.jsdelivr.net/npm//vega-embed@6?noext\",\n",
       "    };\n",
       "\n",
       "    function loadScript(lib) {\n",
       "      return new Promise(function(resolve, reject) {\n",
       "        var s = document.createElement('script');\n",
       "        s.src = paths[lib];\n",
       "        s.async = true;\n",
       "        s.onload = () => resolve(paths[lib]);\n",
       "        s.onerror = () => reject(`Error loading script: ${paths[lib]}`);\n",
       "        document.getElementsByTagName(\"head\")[0].appendChild(s);\n",
       "      });\n",
       "    }\n",
       "\n",
       "    function showError(err) {\n",
       "      outputDiv.innerHTML = `<div class=\"error\" style=\"color:red;\">${err}</div>`;\n",
       "      throw err;\n",
       "    }\n",
       "\n",
       "    function displayChart(vegaEmbed) {\n",
       "      vegaEmbed(outputDiv, spec, embedOpt)\n",
       "        .catch(err => showError(`Javascript Error: ${err.message}<br>This usually means there's a typo in your chart specification. See the javascript console for the full traceback.`));\n",
       "    }\n",
       "\n",
       "    if(typeof define === \"function\" && define.amd) {\n",
       "      requirejs.config({paths});\n",
       "      require([\"vega-embed\"], displayChart, err => showError(`Error loading script: ${err.message}`));\n",
       "    } else if (typeof vegaEmbed === \"function\") {\n",
       "      displayChart(vegaEmbed);\n",
       "    } else {\n",
       "      loadScript(\"vega\")\n",
       "        .then(() => loadScript(\"vega-lite\"))\n",
       "        .then(() => loadScript(\"vega-embed\"))\n",
       "        .catch(showError)\n",
       "        .then(() => displayChart(vegaEmbed));\n",
       "    }\n",
       "  })({\"config\": {\"view\": {\"continuousWidth\": 400, \"continuousHeight\": 300}, \"axis\": {\"labelFontSize\": 12, \"titleFontSize\": 12}, \"legend\": {\"labelFontSize\": 12, \"titleFontSize\": 12}, \"title\": {\"fontSize\": 16}}, \"data\": {\"name\": \"data-73c7514129b05c3d34c83186931e7dbf\"}, \"mark\": {\"type\": \"line\", \"point\": true}, \"encoding\": {\"color\": {\"type\": \"nominal\", \"field\": \"country\", \"legend\": {\"columns\": 2, \"symbolLimit\": 42}, \"scale\": {\"domain\": [\"NaN\", \"Brazil\", \"Uruguay\", \"Venezuela\", \"Panama\", \"Belize\", \"United States\", \"Japan\", \"Israel\", \"Sao Tome and Principe\", \"England\", \"Norway\", \"France\", \"Croatia\", \"Italy\", \"Antarctica\", \"Australia\", \"Papua New Guinea\"], \"range\": [\"#000000\", \"#40a43b\", \"#40a43b\", \"#40a43b\", \"#bbe272\", \"#bbe272\", \"#255026\", \"#db11ac\", \"#db11ac\", \"#a96370\", \"#208eb7\", \"#208eb7\", \"#208eb7\", \"#208eb7\", \"#208eb7\", \"#b4ddd4\", \"#dbaea7\", \"#dbaea7\"]}, \"title\": \"Country\"}, \"tooltip\": [{\"type\": \"nominal\", \"field\": \"country\"}, {\"type\": \"quantitative\", \"field\": \"start_year\"}, {\"type\": \"quantitative\", \"field\": \"counts\"}, {\"type\": \"quantitative\", \"field\": \"cumulative_sum\"}], \"x\": {\"type\": \"ordinal\", \"field\": \"start_year\", \"scale\": {\"domain\": [1900.0, 1905.0, 1961.0, 1962.0, 1966.0, 1967.0, 1971.0, 1974.0, 1976.0, 1977.0, 1979.0, 1980.0, 1982.0, 1983.0, 1984.0, 1986.0, 1989.0, 1990.0, 1991.0, 1992.0, 1993.0, 1994.0, 1995.0, 1996.0, 1997.0, 1998.0, 1999.0, 2000.0, 2001.0, 2002.0, 2003.0, 2004.0, 2005.0, 2006.0, 2007.0, 2008.0, 2009.0, 2010.0, 2011.0, 2012.0, 2013.0, 2014.0, 2015.0, 2016.0, 2017.0, 2018.0, 2019.0]}, \"title\": \"Sampling Year\"}, \"y\": {\"type\": \"quantitative\", \"field\": \"cumulative_sum\", \"scale\": {\"domain\": [0, 200]}, \"sort\": {\"field\": \"counts\", \"op\": \"count\", \"order\": \"descending\"}, \"title\": \"\"}}, \"selection\": {\"selector004\": {\"type\": \"multi\", \"fields\": [\"country\"], \"bind\": \"legend\"}}, \"title\": \"Collection's temporal evolution per country (ex. Brazil)\", \"transform\": [{\"filter\": {\"selection\": \"selector004\"}}], \"width\": 600, \"$schema\": \"https://vega.github.io/schema/vega-lite/v4.8.1.json\", \"datasets\": {\"data-73c7514129b05c3d34c83186931e7dbf\": [{\"start_year\": 2003.0, \"continent\": \"Antarctica\", \"country\": \"Antarctica\", \"counts\": 71, \"cumulative_sum\": 71}, {\"start_year\": 2012.0, \"continent\": \"Antarctica\", \"country\": \"Antarctica\", \"counts\": 1, \"cumulative_sum\": 72}, {\"start_year\": 2013.0, \"continent\": \"Oceania\", \"country\": \"Australia\", \"counts\": 1, \"cumulative_sum\": 1}, {\"start_year\": 2003.0, \"continent\": \"Central America\", \"country\": \"Belize\", \"counts\": 3, \"cumulative_sum\": 3}, {\"start_year\": 2013.0, \"continent\": \"NaN\", \"country\": \"Chile\", \"counts\": 3, \"cumulative_sum\": 3}, {\"start_year\": 2015.0, \"continent\": \"NaN\", \"country\": \"China\", \"counts\": 1, \"cumulative_sum\": 1}, {\"start_year\": 2016.0, \"continent\": \"NaN\", \"country\": \"China\", \"counts\": 6, \"cumulative_sum\": 7}, {\"start_year\": 2017.0, \"continent\": \"NaN\", \"country\": \"Costa Rica\", \"counts\": 2, \"cumulative_sum\": 2}, {\"start_year\": 1993.0, \"continent\": \"Europe\", \"country\": \"France\", \"counts\": 1, \"cumulative_sum\": 1}, {\"start_year\": 2014.0, \"continent\": \"NaN\", \"country\": \"France\", \"counts\": 1, \"cumulative_sum\": 2}, {\"start_year\": 2016.0, \"continent\": \"NaN\", \"country\": \"France\", \"counts\": 2, \"cumulative_sum\": 4}, {\"start_year\": 1986.0, \"continent\": \"Asia\", \"country\": \"Israel\", \"counts\": 1, \"cumulative_sum\": 1}, {\"start_year\": 2001.0, \"continent\": \"Asia\", \"country\": \"Japan\", \"counts\": 2, \"cumulative_sum\": 2}, {\"start_year\": 2014.0, \"continent\": \"NaN\", \"country\": \"Japan\", \"counts\": 9, \"cumulative_sum\": 11}, {\"start_year\": 1996.0, \"continent\": \"NaN\", \"country\": \"NaN\", \"counts\": 2, \"cumulative_sum\": 2}, {\"start_year\": 1996.0, \"continent\": \"South America\", \"country\": \"NaN\", \"counts\": 1, \"cumulative_sum\": 3}, {\"start_year\": 1997.0, \"continent\": \"NaN\", \"country\": \"NaN\", \"counts\": 7, \"cumulative_sum\": 10}, {\"start_year\": 1997.0, \"continent\": \"South America\", \"country\": \"NaN\", \"counts\": 1, \"cumulative_sum\": 11}, {\"start_year\": 1999.0, \"continent\": \"NaN\", \"country\": \"NaN\", \"counts\": 2, \"cumulative_sum\": 13}, {\"start_year\": 2000.0, \"continent\": \"NaN\", \"country\": \"NaN\", \"counts\": 3, \"cumulative_sum\": 16}, {\"start_year\": 2001.0, \"continent\": \"NaN\", \"country\": \"NaN\", \"counts\": 1, \"cumulative_sum\": 17}, {\"start_year\": 2002.0, \"continent\": \"NaN\", \"country\": \"NaN\", \"counts\": 26, \"cumulative_sum\": 43}, {\"start_year\": 2002.0, \"continent\": \"South America\", \"country\": \"NaN\", \"counts\": 1, \"cumulative_sum\": 44}, {\"start_year\": 2004.0, \"continent\": \"NaN\", \"country\": \"NaN\", \"counts\": 131, \"cumulative_sum\": 175}, {\"start_year\": 2012.0, \"continent\": \"NaN\", \"country\": \"NaN\", \"counts\": 2, \"cumulative_sum\": 177}, {\"start_year\": 2014.0, \"continent\": \"NaN\", \"country\": \"NaN\", \"counts\": 1, \"cumulative_sum\": 178}, {\"start_year\": 1905.0, \"continent\": \"Central America\", \"country\": \"Panama\", \"counts\": 1, \"cumulative_sum\": 1}, {\"start_year\": 2001.0, \"continent\": \"Central America\", \"country\": \"Panama\", \"counts\": 11, \"cumulative_sum\": 12}, {\"start_year\": 2001.0, \"continent\": \"NaN\", \"country\": \"Panama\", \"counts\": 2, \"cumulative_sum\": 14}, {\"start_year\": 2004.0, \"continent\": \"Central America\", \"country\": \"Panama\", \"counts\": 3, \"cumulative_sum\": 17}, {\"start_year\": 2013.0, \"continent\": \"NaN\", \"country\": \"Panama\", \"counts\": 1, \"cumulative_sum\": 18}, {\"start_year\": 1994.0, \"continent\": \"Oceania\", \"country\": \"Papua New Guinea\", \"counts\": 1, \"cumulative_sum\": 1}, {\"start_year\": 2015.0, \"continent\": \"NaN\", \"country\": \"Puerto Rico\", \"counts\": 1, \"cumulative_sum\": 1}, {\"start_year\": 1995.0, \"continent\": \"NaN\", \"country\": \"Quenia\", \"counts\": 1, \"cumulative_sum\": 1}, {\"start_year\": 2014.0, \"continent\": \"NaN\", \"country\": \"Republic of Palau\", \"counts\": 9, \"cumulative_sum\": 9}, {\"start_year\": 2007.0, \"continent\": \"Africa\", \"country\": \"Sao Tome and Principe\", \"counts\": 1, \"cumulative_sum\": 1}, {\"start_year\": 1976.0, \"continent\": \"NaN\", \"country\": \"Somalia\", \"counts\": 1, \"cumulative_sum\": 1}, {\"start_year\": 2017.0, \"continent\": \"NaN\", \"country\": \"United Kingdom\", \"counts\": 1, \"cumulative_sum\": 1}, {\"start_year\": 2010.0, \"continent\": \"NaN\", \"country\": \"United States\", \"counts\": 4, \"cumulative_sum\": 4}, {\"start_year\": 2011.0, \"continent\": \"NaN\", \"country\": \"United States\", \"counts\": 2, \"cumulative_sum\": 6}, {\"start_year\": 2011.0, \"continent\": \"North America\", \"country\": \"United States\", \"counts\": 2, \"cumulative_sum\": 8}, {\"start_year\": 2015.0, \"continent\": \"NaN\", \"country\": \"United States\", \"counts\": 1, \"cumulative_sum\": 9}, {\"start_year\": 2014.0, \"continent\": \"South America\", \"country\": \"Uruguay\", \"counts\": 1, \"cumulative_sum\": 1}, {\"start_year\": 2014.0, \"continent\": \"South America\", \"country\": \"Venezuela\", \"counts\": 20, \"cumulative_sum\": 20}, {\"start_year\": 2016.0, \"continent\": \"NaN\", \"country\": \"Wales\", \"counts\": 1, \"cumulative_sum\": 1}]}}, {\"mode\": \"vega-lite\"});\n",
       "</script>"
      ],
      "text/plain": [
       "alt.Chart(...)"
      ]
     },
     "execution_count": 18,
     "metadata": {},
     "output_type": "execute_result"
    }
   ],
   "source": [
    "select_country = alt.selection_multi(fields=['country'], bind='legend')\n",
    "\n",
    "g1 = alt.Chart(teste[teste['country'] != 'Brazil'], title=\"Collection's temporal evolution per country (ex. Brazil)\", \n",
    "width=600).mark_line(point=True).encode(\n",
    "    x= alt.X('start_year', type=\"ordinal\", title='Sampling Year',\n",
    "            scale= alt.Scale(domain=list(sorted(teste['start_year'].unique())))),\n",
    "    y= alt.Y('cumulative_sum', title='', \n",
    "             sort=alt.EncodingSortField('counts', op=\"count\", order='descending'),\n",
    "            scale= alt.Scale(domain=[0,200])),\n",
    "    color= alt.Color('country:N', title='Country',\n",
    "                     legend= alt.Legend(columns=2, symbolLimit=42),\n",
    "                     scale= alt.Scale(domain=list(cores_pais.keys()), range=list(cores_pais.values()))),\n",
    "    tooltip= alt.Tooltip(['country','start_year','counts', 'cumulative_sum']),\n",
    "#     opacity= alt.condition(select_country, alt.value(1), alt.value(0))\n",
    ").add_selection(select_country).transform_filter(select_country)\n",
    "\n",
    "g1 = g1.configure_title(fontSize=16).configure_axis(\n",
    "    labelFontSize=12,\n",
    "    titleFontSize=12\n",
    ").configure_legend(\n",
    "    labelFontSize=12,\n",
    "    titleFontSize=12\n",
    ")\n",
    "\n",
    "# g1.save('./graphs/cumCounts/time-spacial/evolucao_por_país-exBrasil.html')\n",
    "\n",
    "g1"
   ]
  },
  {
   "cell_type": "markdown",
   "metadata": {},
   "source": [
    "<br>\n",
    "\n",
    "## Counting per Brazilian State"
   ]
  },
  {
   "cell_type": "code",
   "execution_count": 19,
   "metadata": {
    "ExecuteTime": {
     "end_time": "2021-01-25T23:26:49.278119Z",
     "start_time": "2021-01-25T23:26:49.206382Z"
    }
   },
   "outputs": [],
   "source": [
    "# filtering for Brazil, only\n",
    "teste2 = NewTable[NewTable['country'] == 'Brazil']\n",
    "teste2 = teste2.groupby(['start_year','state', 'order']).count()['class'].reset_index().rename(columns={\n",
    "    'class':'counts'\n",
    "})"
   ]
  },
  {
   "cell_type": "markdown",
   "metadata": {},
   "source": [
    "### creating column with brazilian regions"
   ]
  },
  {
   "cell_type": "code",
   "execution_count": 20,
   "metadata": {
    "ExecuteTime": {
     "end_time": "2021-01-25T23:26:49.320165Z",
     "start_time": "2021-01-25T23:26:49.280833Z"
    }
   },
   "outputs": [],
   "source": [
    "regioes = {\n",
    "    'NaN':'NaN',\n",
    "    'Rio de Janeiro':'SE',\n",
    "    'São Paulo':'SE',\n",
    "    'Espírito Santo': 'SE',\n",
    "    'Pernambuco':'NE',\n",
    "    'Santa Catarina':'S',\n",
    "    'Amazonas':'N',\n",
    "    'Goiás':'CO',\n",
    "    'Roraima':'N',\n",
    "    'Pará':'N',\n",
    "    'Mato Grosso':'CO',\n",
    "    'Acre': 'N',\n",
    "    'Bahia': 'NE',\n",
    "    'Minas Gerais': 'SE',\n",
    "    'Mato Grosso do Sul': 'CO',\n",
    "    'Paraná': 'S',\n",
    "    'Rondônia': 'N',\n",
    "    'Ceará': 'NE',\n",
    "    'Maranhão': 'N',\n",
    "    'Rio Grande do Sul': 'S',\n",
    "    'Paraíba': 'NE',\n",
    "    'Distrito Federal': 'CO',\n",
    "    'Alagoas': 'NE',\n",
    "    'Amapá':'N',\n",
    "    'Piauí': 'NE',\n",
    "    'Brasília': 'CO',\n",
    "    'Tocantins': 'N',\n",
    "    'Rio Grande do Norte': 'NE',\n",
    "    'Sergipe': 'NE',\n",
    "    'Minas Gerais/Goiás/Distrito Federal': 'CO',\n",
    "    'Santa Catarina-Rio Grande do Sul': 'S'\n",
    "}\n",
    "\n",
    "# criando coluna com as regiões\n",
    "teste2['region'] = teste2['state'].apply(lambda x: regioes[str(x)])\n",
    "\n",
    "# coluna com estado, regiao\n",
    "teste2['regiao_e_estado'] = teste2['state'] + ', ' + teste2['region']\n",
    "\n",
    "# ordenando por região e soma das contagens\n",
    "sorting = teste2.groupby(['regiao_e_estado', 'region']).sum()['counts'].reset_index(\n",
    "                                                                ).rename(columns={'counts':'soma'})\n",
    "sorting = sorting.sort_values(['region','soma'], ascending=False)['regiao_e_estado'].unique()"
   ]
  },
  {
   "cell_type": "code",
   "execution_count": 21,
   "metadata": {
    "ExecuteTime": {
     "end_time": "2021-01-25T23:26:49.381650Z",
     "start_time": "2021-01-25T23:26:49.325878Z"
    }
   },
   "outputs": [],
   "source": [
    "# OBS: variável teste2 tem as informações que precisamos (vide gráfico de contagem por região - time_spacial)\n",
    "teste = teste2.groupby(['start_year','regiao_e_estado']).count()['order'].reset_index().rename(columns={\n",
    "    'order':'counts'\n",
    "})\n",
    "\n",
    "teste = teste.sort_values(['regiao_e_estado', 'start_year'])"
   ]
  },
  {
   "cell_type": "code",
   "execution_count": 22,
   "metadata": {
    "ExecuteTime": {
     "end_time": "2021-01-25T23:26:49.431815Z",
     "start_time": "2021-01-25T23:26:49.383705Z"
    }
   },
   "outputs": [],
   "source": [
    "# cumulatively counting\n",
    "cumSum = []\n",
    "for reg_est in teste['regiao_e_estado'].unique():\n",
    "    cumSum.extend(list(teste[teste['regiao_e_estado'] == reg_est]['counts'].cumsum()))\n",
    "    \n",
    "teste['cumulative_sum'] = cumSum"
   ]
  },
  {
   "cell_type": "code",
   "execution_count": 23,
   "metadata": {
    "ExecuteTime": {
     "end_time": "2021-01-25T23:26:49.475531Z",
     "start_time": "2021-01-25T23:26:49.437858Z"
    }
   },
   "outputs": [],
   "source": [
    "teste['state'] = teste['regiao_e_estado'].apply(lambda x:x.split(',')[0])\n",
    "teste['region'] = teste['regiao_e_estado'].apply(lambda x:x.split(',')[1].strip())"
   ]
  },
  {
   "cell_type": "markdown",
   "metadata": {},
   "source": [
    "### Chart: cumulative counts per Brazilian State"
   ]
  },
  {
   "cell_type": "code",
   "execution_count": 27,
   "metadata": {
    "ExecuteTime": {
     "end_time": "2021-01-25T23:27:49.149335Z",
     "start_time": "2021-01-25T23:27:49.101321Z"
    },
    "scrolled": false
   },
   "outputs": [
    {
     "data": {
      "text/html": [
       "\n",
       "<div id=\"altair-viz-27dffdc451c3473d8f955243c2475d2b\"></div>\n",
       "<script type=\"text/javascript\">\n",
       "  (function(spec, embedOpt){\n",
       "    let outputDiv = document.currentScript.previousElementSibling;\n",
       "    if (outputDiv.id !== \"altair-viz-27dffdc451c3473d8f955243c2475d2b\") {\n",
       "      outputDiv = document.getElementById(\"altair-viz-27dffdc451c3473d8f955243c2475d2b\");\n",
       "    }\n",
       "    const paths = {\n",
       "      \"vega\": \"https://cdn.jsdelivr.net/npm//vega@5?noext\",\n",
       "      \"vega-lib\": \"https://cdn.jsdelivr.net/npm//vega-lib?noext\",\n",
       "      \"vega-lite\": \"https://cdn.jsdelivr.net/npm//vega-lite@4.8.1?noext\",\n",
       "      \"vega-embed\": \"https://cdn.jsdelivr.net/npm//vega-embed@6?noext\",\n",
       "    };\n",
       "\n",
       "    function loadScript(lib) {\n",
       "      return new Promise(function(resolve, reject) {\n",
       "        var s = document.createElement('script');\n",
       "        s.src = paths[lib];\n",
       "        s.async = true;\n",
       "        s.onload = () => resolve(paths[lib]);\n",
       "        s.onerror = () => reject(`Error loading script: ${paths[lib]}`);\n",
       "        document.getElementsByTagName(\"head\")[0].appendChild(s);\n",
       "      });\n",
       "    }\n",
       "\n",
       "    function showError(err) {\n",
       "      outputDiv.innerHTML = `<div class=\"error\" style=\"color:red;\">${err}</div>`;\n",
       "      throw err;\n",
       "    }\n",
       "\n",
       "    function displayChart(vegaEmbed) {\n",
       "      vegaEmbed(outputDiv, spec, embedOpt)\n",
       "        .catch(err => showError(`Javascript Error: ${err.message}<br>This usually means there's a typo in your chart specification. See the javascript console for the full traceback.`));\n",
       "    }\n",
       "\n",
       "    if(typeof define === \"function\" && define.amd) {\n",
       "      requirejs.config({paths});\n",
       "      require([\"vega-embed\"], displayChart, err => showError(`Error loading script: ${err.message}`));\n",
       "    } else if (typeof vegaEmbed === \"function\") {\n",
       "      displayChart(vegaEmbed);\n",
       "    } else {\n",
       "      loadScript(\"vega\")\n",
       "        .then(() => loadScript(\"vega-lite\"))\n",
       "        .then(() => loadScript(\"vega-embed\"))\n",
       "        .catch(showError)\n",
       "        .then(() => displayChart(vegaEmbed));\n",
       "    }\n",
       "  })({\"config\": {\"view\": {\"continuousWidth\": 400, \"continuousHeight\": 300, \"strokeWidth\": 0}, \"axis\": {\"labelFontSize\": 12, \"titleFontSize\": 12}, \"legend\": {\"labelFontSize\": 12, \"titleFontSize\": 12}, \"title\": {\"fontSize\": 16}}, \"data\": {\"name\": \"data-364c701f46a7f6bcf3e26480d01cc714\"}, \"mark\": {\"type\": \"line\", \"point\": true}, \"encoding\": {\"color\": {\"type\": \"nominal\", \"field\": \"state\", \"legend\": {\"columns\": 2, \"symbolLimit\": 42}, \"scale\": {\"domain\": [\"NaN\", \"Maranh\\u00e3o\", \"Alagoas\", \"Bahia\", \"Cear\\u00e1\", \"Para\\u00edba\", \"Pernambuco\", \"Piau\\u00ed\", \"Rio Grande do Norte\", \"Sergipe\", \"Esp\\u00edrito Santo\", \"Minas Gerais\", \"Rio de Janeiro\", \"S\\u00e3o Paulo\", \"Paran\\u00e1\", \"Santa Catarina\"], \"range\": [\"#000000\", \"#22695e\", \"#ea1349\", \"#ea1349\", \"#ea1349\", \"#ea1349\", \"#ea1349\", \"#ea1349\", \"#ea1349\", \"#ea1349\", \"#992a1c\", \"#992a1c\", \"#992a1c\", \"#992a1c\", \"#7ee7d3\", \"#7ee7d3\"]}, \"title\": \"State\"}, \"tooltip\": [{\"type\": \"nominal\", \"field\": \"region\"}, {\"type\": \"nominal\", \"field\": \"state\"}, {\"type\": \"quantitative\", \"field\": \"start_year\"}, {\"type\": \"quantitative\", \"field\": \"counts\"}, {\"type\": \"quantitative\", \"field\": \"cumulative_sum\"}], \"x\": {\"type\": \"ordinal\", \"field\": \"start_year\", \"scale\": {\"domain\": [1900.0, 1905.0, 1961.0, 1962.0, 1966.0, 1967.0, 1971.0, 1974.0, 1977.0, 1979.0, 1980.0, 1982.0, 1983.0, 1984.0, 1986.0, 1989.0, 1990.0, 1991.0, 1992.0, 1993.0, 1994.0, 1995.0, 1996.0, 1997.0, 1998.0, 1999.0, 2000.0, 2001.0, 2002.0, 2003.0, 2004.0, 2005.0, 2006.0, 2007.0, 2008.0, 2009.0, 2010.0, 2011.0, 2012.0, 2013.0, 2014.0, 2015.0, 2016.0, 2017.0, 2018.0, 2019.0]}, \"title\": \"Sampling Year\"}, \"y\": {\"type\": \"quantitative\", \"field\": \"cumulative_sum\", \"scale\": {\"domain\": [0, 140]}, \"sort\": {\"field\": \"counts\", \"op\": \"count\", \"order\": \"descending\"}, \"title\": \"\"}}, \"selection\": {\"selector007\": {\"type\": \"multi\", \"fields\": [\"state\"], \"bind\": \"legend\"}}, \"title\": \"Collection's temporal evolution per Brazilian State\", \"transform\": [{\"filter\": {\"selection\": \"selector007\"}}], \"width\": 600, \"$schema\": \"https://vega.github.io/schema/vega-lite/v4.8.1.json\", \"datasets\": {\"data-364c701f46a7f6bcf3e26480d01cc714\": [{\"start_year\": 2014.0, \"regiao_e_estado\": \"Alagoas, NE\", \"counts\": 7, \"cumulative_sum\": 7, \"state\": \"Alagoas\", \"region\": \"NE\"}, {\"start_year\": 1905.0, \"regiao_e_estado\": \"Bahia, NE\", \"counts\": 1, \"cumulative_sum\": 1, \"state\": \"Bahia\", \"region\": \"NE\"}, {\"start_year\": 1984.0, \"regiao_e_estado\": \"Bahia, NE\", \"counts\": 1, \"cumulative_sum\": 2, \"state\": \"Bahia\", \"region\": \"NE\"}, {\"start_year\": 1997.0, \"regiao_e_estado\": \"Bahia, NE\", \"counts\": 1, \"cumulative_sum\": 3, \"state\": \"Bahia\", \"region\": \"NE\"}, {\"start_year\": 2000.0, \"regiao_e_estado\": \"Bahia, NE\", \"counts\": 7, \"cumulative_sum\": 10, \"state\": \"Bahia\", \"region\": \"NE\"}, {\"start_year\": 2001.0, \"regiao_e_estado\": \"Bahia, NE\", \"counts\": 6, \"cumulative_sum\": 16, \"state\": \"Bahia\", \"region\": \"NE\"}, {\"start_year\": 2002.0, \"regiao_e_estado\": \"Bahia, NE\", \"counts\": 5, \"cumulative_sum\": 21, \"state\": \"Bahia\", \"region\": \"NE\"}, {\"start_year\": 2003.0, \"regiao_e_estado\": \"Bahia, NE\", \"counts\": 2, \"cumulative_sum\": 23, \"state\": \"Bahia\", \"region\": \"NE\"}, {\"start_year\": 2010.0, \"regiao_e_estado\": \"Bahia, NE\", \"counts\": 1, \"cumulative_sum\": 24, \"state\": \"Bahia\", \"region\": \"NE\"}, {\"start_year\": 2011.0, \"regiao_e_estado\": \"Bahia, NE\", \"counts\": 1, \"cumulative_sum\": 25, \"state\": \"Bahia\", \"region\": \"NE\"}, {\"start_year\": 2012.0, \"regiao_e_estado\": \"Bahia, NE\", \"counts\": 1, \"cumulative_sum\": 26, \"state\": \"Bahia\", \"region\": \"NE\"}, {\"start_year\": 2013.0, \"regiao_e_estado\": \"Bahia, NE\", \"counts\": 2, \"cumulative_sum\": 28, \"state\": \"Bahia\", \"region\": \"NE\"}, {\"start_year\": 2014.0, \"regiao_e_estado\": \"Bahia, NE\", \"counts\": 1, \"cumulative_sum\": 29, \"state\": \"Bahia\", \"region\": \"NE\"}, {\"start_year\": 1998.0, \"regiao_e_estado\": \"Cear\\u00e1, NE\", \"counts\": 2, \"cumulative_sum\": 2, \"state\": \"Cear\\u00e1\", \"region\": \"NE\"}, {\"start_year\": 2000.0, \"regiao_e_estado\": \"Cear\\u00e1, NE\", \"counts\": 2, \"cumulative_sum\": 4, \"state\": \"Cear\\u00e1\", \"region\": \"NE\"}, {\"start_year\": 2005.0, \"regiao_e_estado\": \"Cear\\u00e1, NE\", \"counts\": 3, \"cumulative_sum\": 7, \"state\": \"Cear\\u00e1\", \"region\": \"NE\"}, {\"start_year\": 2014.0, \"regiao_e_estado\": \"Cear\\u00e1, NE\", \"counts\": 1, \"cumulative_sum\": 8, \"state\": \"Cear\\u00e1\", \"region\": \"NE\"}, {\"start_year\": 1905.0, \"regiao_e_estado\": \"Esp\\u00edrito Santo, SE\", \"counts\": 1, \"cumulative_sum\": 1, \"state\": \"Esp\\u00edrito Santo\", \"region\": \"SE\"}, {\"start_year\": 1971.0, \"regiao_e_estado\": \"Esp\\u00edrito Santo, SE\", \"counts\": 1, \"cumulative_sum\": 2, \"state\": \"Esp\\u00edrito Santo\", \"region\": \"SE\"}, {\"start_year\": 1986.0, \"regiao_e_estado\": \"Esp\\u00edrito Santo, SE\", \"counts\": 1, \"cumulative_sum\": 3, \"state\": \"Esp\\u00edrito Santo\", \"region\": \"SE\"}, {\"start_year\": 1991.0, \"regiao_e_estado\": \"Esp\\u00edrito Santo, SE\", \"counts\": 1, \"cumulative_sum\": 4, \"state\": \"Esp\\u00edrito Santo\", \"region\": \"SE\"}, {\"start_year\": 1993.0, \"regiao_e_estado\": \"Esp\\u00edrito Santo, SE\", \"counts\": 1, \"cumulative_sum\": 5, \"state\": \"Esp\\u00edrito Santo\", \"region\": \"SE\"}, {\"start_year\": 1996.0, \"regiao_e_estado\": \"Esp\\u00edrito Santo, SE\", \"counts\": 1, \"cumulative_sum\": 6, \"state\": \"Esp\\u00edrito Santo\", \"region\": \"SE\"}, {\"start_year\": 1997.0, \"regiao_e_estado\": \"Esp\\u00edrito Santo, SE\", \"counts\": 1, \"cumulative_sum\": 7, \"state\": \"Esp\\u00edrito Santo\", \"region\": \"SE\"}, {\"start_year\": 2000.0, \"regiao_e_estado\": \"Esp\\u00edrito Santo, SE\", \"counts\": 3, \"cumulative_sum\": 10, \"state\": \"Esp\\u00edrito Santo\", \"region\": \"SE\"}, {\"start_year\": 2001.0, \"regiao_e_estado\": \"Esp\\u00edrito Santo, SE\", \"counts\": 6, \"cumulative_sum\": 16, \"state\": \"Esp\\u00edrito Santo\", \"region\": \"SE\"}, {\"start_year\": 2002.0, \"regiao_e_estado\": \"Esp\\u00edrito Santo, SE\", \"counts\": 7, \"cumulative_sum\": 23, \"state\": \"Esp\\u00edrito Santo\", \"region\": \"SE\"}, {\"start_year\": 2004.0, \"regiao_e_estado\": \"Esp\\u00edrito Santo, SE\", \"counts\": 1, \"cumulative_sum\": 24, \"state\": \"Esp\\u00edrito Santo\", \"region\": \"SE\"}, {\"start_year\": 2005.0, \"regiao_e_estado\": \"Esp\\u00edrito Santo, SE\", \"counts\": 2, \"cumulative_sum\": 26, \"state\": \"Esp\\u00edrito Santo\", \"region\": \"SE\"}, {\"start_year\": 2012.0, \"regiao_e_estado\": \"Esp\\u00edrito Santo, SE\", \"counts\": 2, \"cumulative_sum\": 28, \"state\": \"Esp\\u00edrito Santo\", \"region\": \"SE\"}, {\"start_year\": 2013.0, \"regiao_e_estado\": \"Esp\\u00edrito Santo, SE\", \"counts\": 5, \"cumulative_sum\": 33, \"state\": \"Esp\\u00edrito Santo\", \"region\": \"SE\"}, {\"start_year\": 2014.0, \"regiao_e_estado\": \"Esp\\u00edrito Santo, SE\", \"counts\": 2, \"cumulative_sum\": 35, \"state\": \"Esp\\u00edrito Santo\", \"region\": \"SE\"}, {\"start_year\": 2005.0, \"regiao_e_estado\": \"Maranh\\u00e3o, N\", \"counts\": 7, \"cumulative_sum\": 7, \"state\": \"Maranh\\u00e3o\", \"region\": \"N\"}, {\"start_year\": 1900.0, \"regiao_e_estado\": \"NaN, NaN\", \"counts\": 1, \"cumulative_sum\": 1, \"state\": \"NaN\", \"region\": \"NaN\"}, {\"start_year\": 1905.0, \"regiao_e_estado\": \"NaN, NaN\", \"counts\": 1, \"cumulative_sum\": 2, \"state\": \"NaN\", \"region\": \"NaN\"}, {\"start_year\": 1962.0, \"regiao_e_estado\": \"NaN, NaN\", \"counts\": 1, \"cumulative_sum\": 3, \"state\": \"NaN\", \"region\": \"NaN\"}, {\"start_year\": 1974.0, \"regiao_e_estado\": \"NaN, NaN\", \"counts\": 1, \"cumulative_sum\": 4, \"state\": \"NaN\", \"region\": \"NaN\"}, {\"start_year\": 1979.0, \"regiao_e_estado\": \"NaN, NaN\", \"counts\": 1, \"cumulative_sum\": 5, \"state\": \"NaN\", \"region\": \"NaN\"}, {\"start_year\": 1980.0, \"regiao_e_estado\": \"NaN, NaN\", \"counts\": 1, \"cumulative_sum\": 6, \"state\": \"NaN\", \"region\": \"NaN\"}, {\"start_year\": 1982.0, \"regiao_e_estado\": \"NaN, NaN\", \"counts\": 1, \"cumulative_sum\": 7, \"state\": \"NaN\", \"region\": \"NaN\"}, {\"start_year\": 1983.0, \"regiao_e_estado\": \"NaN, NaN\", \"counts\": 1, \"cumulative_sum\": 8, \"state\": \"NaN\", \"region\": \"NaN\"}, {\"start_year\": 1986.0, \"regiao_e_estado\": \"NaN, NaN\", \"counts\": 1, \"cumulative_sum\": 9, \"state\": \"NaN\", \"region\": \"NaN\"}, {\"start_year\": 1989.0, \"regiao_e_estado\": \"NaN, NaN\", \"counts\": 1, \"cumulative_sum\": 10, \"state\": \"NaN\", \"region\": \"NaN\"}, {\"start_year\": 1990.0, \"regiao_e_estado\": \"NaN, NaN\", \"counts\": 1, \"cumulative_sum\": 11, \"state\": \"NaN\", \"region\": \"NaN\"}, {\"start_year\": 1992.0, \"regiao_e_estado\": \"NaN, NaN\", \"counts\": 3, \"cumulative_sum\": 14, \"state\": \"NaN\", \"region\": \"NaN\"}, {\"start_year\": 1993.0, \"regiao_e_estado\": \"NaN, NaN\", \"counts\": 1, \"cumulative_sum\": 15, \"state\": \"NaN\", \"region\": \"NaN\"}, {\"start_year\": 1994.0, \"regiao_e_estado\": \"NaN, NaN\", \"counts\": 1, \"cumulative_sum\": 16, \"state\": \"NaN\", \"region\": \"NaN\"}, {\"start_year\": 1995.0, \"regiao_e_estado\": \"NaN, NaN\", \"counts\": 6, \"cumulative_sum\": 22, \"state\": \"NaN\", \"region\": \"NaN\"}, {\"start_year\": 1996.0, \"regiao_e_estado\": \"NaN, NaN\", \"counts\": 6, \"cumulative_sum\": 28, \"state\": \"NaN\", \"region\": \"NaN\"}, {\"start_year\": 1997.0, \"regiao_e_estado\": \"NaN, NaN\", \"counts\": 6, \"cumulative_sum\": 34, \"state\": \"NaN\", \"region\": \"NaN\"}, {\"start_year\": 1998.0, \"regiao_e_estado\": \"NaN, NaN\", \"counts\": 5, \"cumulative_sum\": 39, \"state\": \"NaN\", \"region\": \"NaN\"}, {\"start_year\": 1999.0, \"regiao_e_estado\": \"NaN, NaN\", \"counts\": 8, \"cumulative_sum\": 47, \"state\": \"NaN\", \"region\": \"NaN\"}, {\"start_year\": 2000.0, \"regiao_e_estado\": \"NaN, NaN\", \"counts\": 7, \"cumulative_sum\": 54, \"state\": \"NaN\", \"region\": \"NaN\"}, {\"start_year\": 2001.0, \"regiao_e_estado\": \"NaN, NaN\", \"counts\": 5, \"cumulative_sum\": 59, \"state\": \"NaN\", \"region\": \"NaN\"}, {\"start_year\": 2002.0, \"regiao_e_estado\": \"NaN, NaN\", \"counts\": 3, \"cumulative_sum\": 62, \"state\": \"NaN\", \"region\": \"NaN\"}, {\"start_year\": 2003.0, \"regiao_e_estado\": \"NaN, NaN\", \"counts\": 1, \"cumulative_sum\": 63, \"state\": \"NaN\", \"region\": \"NaN\"}, {\"start_year\": 2004.0, \"regiao_e_estado\": \"NaN, NaN\", \"counts\": 2, \"cumulative_sum\": 65, \"state\": \"NaN\", \"region\": \"NaN\"}, {\"start_year\": 2005.0, \"regiao_e_estado\": \"NaN, NaN\", \"counts\": 1, \"cumulative_sum\": 66, \"state\": \"NaN\", \"region\": \"NaN\"}, {\"start_year\": 2006.0, \"regiao_e_estado\": \"NaN, NaN\", \"counts\": 3, \"cumulative_sum\": 69, \"state\": \"NaN\", \"region\": \"NaN\"}, {\"start_year\": 2008.0, \"regiao_e_estado\": \"NaN, NaN\", \"counts\": 5, \"cumulative_sum\": 74, \"state\": \"NaN\", \"region\": \"NaN\"}, {\"start_year\": 2009.0, \"regiao_e_estado\": \"NaN, NaN\", \"counts\": 4, \"cumulative_sum\": 78, \"state\": \"NaN\", \"region\": \"NaN\"}, {\"start_year\": 2010.0, \"regiao_e_estado\": \"NaN, NaN\", \"counts\": 7, \"cumulative_sum\": 85, \"state\": \"NaN\", \"region\": \"NaN\"}, {\"start_year\": 2011.0, \"regiao_e_estado\": \"NaN, NaN\", \"counts\": 7, \"cumulative_sum\": 92, \"state\": \"NaN\", \"region\": \"NaN\"}, {\"start_year\": 2012.0, \"regiao_e_estado\": \"NaN, NaN\", \"counts\": 8, \"cumulative_sum\": 100, \"state\": \"NaN\", \"region\": \"NaN\"}, {\"start_year\": 2013.0, \"regiao_e_estado\": \"NaN, NaN\", \"counts\": 7, \"cumulative_sum\": 107, \"state\": \"NaN\", \"region\": \"NaN\"}, {\"start_year\": 2014.0, \"regiao_e_estado\": \"NaN, NaN\", \"counts\": 5, \"cumulative_sum\": 112, \"state\": \"NaN\", \"region\": \"NaN\"}, {\"start_year\": 2015.0, \"regiao_e_estado\": \"NaN, NaN\", \"counts\": 4, \"cumulative_sum\": 116, \"state\": \"NaN\", \"region\": \"NaN\"}, {\"start_year\": 2016.0, \"regiao_e_estado\": \"NaN, NaN\", \"counts\": 4, \"cumulative_sum\": 120, \"state\": \"NaN\", \"region\": \"NaN\"}, {\"start_year\": 2017.0, \"regiao_e_estado\": \"NaN, NaN\", \"counts\": 5, \"cumulative_sum\": 125, \"state\": \"NaN\", \"region\": \"NaN\"}, {\"start_year\": 2018.0, \"regiao_e_estado\": \"NaN, NaN\", \"counts\": 4, \"cumulative_sum\": 129, \"state\": \"NaN\", \"region\": \"NaN\"}, {\"start_year\": 2019.0, \"regiao_e_estado\": \"NaN, NaN\", \"counts\": 1, \"cumulative_sum\": 130, \"state\": \"NaN\", \"region\": \"NaN\"}, {\"start_year\": 1983.0, \"regiao_e_estado\": \"Paran\\u00e1, S\", \"counts\": 1, \"cumulative_sum\": 1, \"state\": \"Paran\\u00e1\", \"region\": \"S\"}, {\"start_year\": 1984.0, \"regiao_e_estado\": \"Paran\\u00e1, S\", \"counts\": 1, \"cumulative_sum\": 2, \"state\": \"Paran\\u00e1\", \"region\": \"S\"}, {\"start_year\": 2005.0, \"regiao_e_estado\": \"Para\\u00edba, NE\", \"counts\": 1, \"cumulative_sum\": 1, \"state\": \"Para\\u00edba\", \"region\": \"NE\"}, {\"start_year\": 2011.0, \"regiao_e_estado\": \"Para\\u00edba, NE\", \"counts\": 4, \"cumulative_sum\": 5, \"state\": \"Para\\u00edba\", \"region\": \"NE\"}, {\"start_year\": 2001.0, \"regiao_e_estado\": \"Pernambuco, NE\", \"counts\": 1, \"cumulative_sum\": 1, \"state\": \"Pernambuco\", \"region\": \"NE\"}, {\"start_year\": 2005.0, \"regiao_e_estado\": \"Pernambuco, NE\", \"counts\": 1, \"cumulative_sum\": 2, \"state\": \"Pernambuco\", \"region\": \"NE\"}, {\"start_year\": 2010.0, \"regiao_e_estado\": \"Pernambuco, NE\", \"counts\": 1, \"cumulative_sum\": 3, \"state\": \"Pernambuco\", \"region\": \"NE\"}, {\"start_year\": 2011.0, \"regiao_e_estado\": \"Pernambuco, NE\", \"counts\": 7, \"cumulative_sum\": 10, \"state\": \"Pernambuco\", \"region\": \"NE\"}, {\"start_year\": 2012.0, \"regiao_e_estado\": \"Pernambuco, NE\", \"counts\": 1, \"cumulative_sum\": 11, \"state\": \"Pernambuco\", \"region\": \"NE\"}, {\"start_year\": 2013.0, \"regiao_e_estado\": \"Pernambuco, NE\", \"counts\": 2, \"cumulative_sum\": 13, \"state\": \"Pernambuco\", \"region\": \"NE\"}, {\"start_year\": 2014.0, \"regiao_e_estado\": \"Pernambuco, NE\", \"counts\": 1, \"cumulative_sum\": 14, \"state\": \"Pernambuco\", \"region\": \"NE\"}, {\"start_year\": 2013.0, \"regiao_e_estado\": \"Piau\\u00ed, NE\", \"counts\": 1, \"cumulative_sum\": 1, \"state\": \"Piau\\u00ed\", \"region\": \"NE\"}, {\"start_year\": 2014.0, \"regiao_e_estado\": \"Piau\\u00ed, NE\", \"counts\": 1, \"cumulative_sum\": 2, \"state\": \"Piau\\u00ed\", \"region\": \"NE\"}, {\"start_year\": 2000.0, \"regiao_e_estado\": \"Rio Grande do Norte, NE\", \"counts\": 4, \"cumulative_sum\": 4, \"state\": \"Rio Grande do Norte\", \"region\": \"NE\"}, {\"start_year\": 2009.0, \"regiao_e_estado\": \"Rio Grande do Norte, NE\", \"counts\": 2, \"cumulative_sum\": 6, \"state\": \"Rio Grande do Norte\", \"region\": \"NE\"}, {\"start_year\": 2011.0, \"regiao_e_estado\": \"Rio Grande do Norte, NE\", \"counts\": 6, \"cumulative_sum\": 12, \"state\": \"Rio Grande do Norte\", \"region\": \"NE\"}, {\"start_year\": 2012.0, \"regiao_e_estado\": \"Rio Grande do Norte, NE\", \"counts\": 7, \"cumulative_sum\": 19, \"state\": \"Rio Grande do Norte\", \"region\": \"NE\"}, {\"start_year\": 1961.0, \"regiao_e_estado\": \"Rio de Janeiro, SE\", \"counts\": 1, \"cumulative_sum\": 1, \"state\": \"Rio de Janeiro\", \"region\": \"SE\"}, {\"start_year\": 1971.0, \"regiao_e_estado\": \"Rio de Janeiro, SE\", \"counts\": 1, \"cumulative_sum\": 2, \"state\": \"Rio de Janeiro\", \"region\": \"SE\"}, {\"start_year\": 1977.0, \"regiao_e_estado\": \"Rio de Janeiro, SE\", \"counts\": 1, \"cumulative_sum\": 3, \"state\": \"Rio de Janeiro\", \"region\": \"SE\"}, {\"start_year\": 1980.0, \"regiao_e_estado\": \"Rio de Janeiro, SE\", \"counts\": 1, \"cumulative_sum\": 4, \"state\": \"Rio de Janeiro\", \"region\": \"SE\"}, {\"start_year\": 1982.0, \"regiao_e_estado\": \"Rio de Janeiro, SE\", \"counts\": 1, \"cumulative_sum\": 5, \"state\": \"Rio de Janeiro\", \"region\": \"SE\"}, {\"start_year\": 1986.0, \"regiao_e_estado\": \"Rio de Janeiro, SE\", \"counts\": 2, \"cumulative_sum\": 7, \"state\": \"Rio de Janeiro\", \"region\": \"SE\"}, {\"start_year\": 1992.0, \"regiao_e_estado\": \"Rio de Janeiro, SE\", \"counts\": 2, \"cumulative_sum\": 9, \"state\": \"Rio de Janeiro\", \"region\": \"SE\"}, {\"start_year\": 1997.0, \"regiao_e_estado\": \"Rio de Janeiro, SE\", \"counts\": 2, \"cumulative_sum\": 11, \"state\": \"Rio de Janeiro\", \"region\": \"SE\"}, {\"start_year\": 1998.0, \"regiao_e_estado\": \"Rio de Janeiro, SE\", \"counts\": 6, \"cumulative_sum\": 17, \"state\": \"Rio de Janeiro\", \"region\": \"SE\"}, {\"start_year\": 1999.0, \"regiao_e_estado\": \"Rio de Janeiro, SE\", \"counts\": 1, \"cumulative_sum\": 18, \"state\": \"Rio de Janeiro\", \"region\": \"SE\"}, {\"start_year\": 2000.0, \"regiao_e_estado\": \"Rio de Janeiro, SE\", \"counts\": 3, \"cumulative_sum\": 21, \"state\": \"Rio de Janeiro\", \"region\": \"SE\"}, {\"start_year\": 2001.0, \"regiao_e_estado\": \"Rio de Janeiro, SE\", \"counts\": 6, \"cumulative_sum\": 27, \"state\": \"Rio de Janeiro\", \"region\": \"SE\"}, {\"start_year\": 2002.0, \"regiao_e_estado\": \"Rio de Janeiro, SE\", \"counts\": 7, \"cumulative_sum\": 34, \"state\": \"Rio de Janeiro\", \"region\": \"SE\"}, {\"start_year\": 2003.0, \"regiao_e_estado\": \"Rio de Janeiro, SE\", \"counts\": 7, \"cumulative_sum\": 41, \"state\": \"Rio de Janeiro\", \"region\": \"SE\"}, {\"start_year\": 2004.0, \"regiao_e_estado\": \"Rio de Janeiro, SE\", \"counts\": 3, \"cumulative_sum\": 44, \"state\": \"Rio de Janeiro\", \"region\": \"SE\"}, {\"start_year\": 2005.0, \"regiao_e_estado\": \"Rio de Janeiro, SE\", \"counts\": 3, \"cumulative_sum\": 47, \"state\": \"Rio de Janeiro\", \"region\": \"SE\"}, {\"start_year\": 2006.0, \"regiao_e_estado\": \"Rio de Janeiro, SE\", \"counts\": 3, \"cumulative_sum\": 50, \"state\": \"Rio de Janeiro\", \"region\": \"SE\"}, {\"start_year\": 2007.0, \"regiao_e_estado\": \"Rio de Janeiro, SE\", \"counts\": 1, \"cumulative_sum\": 51, \"state\": \"Rio de Janeiro\", \"region\": \"SE\"}, {\"start_year\": 2008.0, \"regiao_e_estado\": \"Rio de Janeiro, SE\", \"counts\": 3, \"cumulative_sum\": 54, \"state\": \"Rio de Janeiro\", \"region\": \"SE\"}, {\"start_year\": 2009.0, \"regiao_e_estado\": \"Rio de Janeiro, SE\", \"counts\": 3, \"cumulative_sum\": 57, \"state\": \"Rio de Janeiro\", \"region\": \"SE\"}, {\"start_year\": 2011.0, \"regiao_e_estado\": \"Rio de Janeiro, SE\", \"counts\": 5, \"cumulative_sum\": 62, \"state\": \"Rio de Janeiro\", \"region\": \"SE\"}, {\"start_year\": 2012.0, \"regiao_e_estado\": \"Rio de Janeiro, SE\", \"counts\": 6, \"cumulative_sum\": 68, \"state\": \"Rio de Janeiro\", \"region\": \"SE\"}, {\"start_year\": 2013.0, \"regiao_e_estado\": \"Rio de Janeiro, SE\", \"counts\": 7, \"cumulative_sum\": 75, \"state\": \"Rio de Janeiro\", \"region\": \"SE\"}, {\"start_year\": 2014.0, \"regiao_e_estado\": \"Rio de Janeiro, SE\", \"counts\": 6, \"cumulative_sum\": 81, \"state\": \"Rio de Janeiro\", \"region\": \"SE\"}, {\"start_year\": 2015.0, \"regiao_e_estado\": \"Rio de Janeiro, SE\", \"counts\": 3, \"cumulative_sum\": 84, \"state\": \"Rio de Janeiro\", \"region\": \"SE\"}, {\"start_year\": 2001.0, \"regiao_e_estado\": \"Santa Catarina, S\", \"counts\": 1, \"cumulative_sum\": 1, \"state\": \"Santa Catarina\", \"region\": \"S\"}, {\"start_year\": 2002.0, \"regiao_e_estado\": \"Santa Catarina, S\", \"counts\": 3, \"cumulative_sum\": 4, \"state\": \"Santa Catarina\", \"region\": \"S\"}, {\"start_year\": 2003.0, \"regiao_e_estado\": \"Santa Catarina, S\", \"counts\": 4, \"cumulative_sum\": 8, \"state\": \"Santa Catarina\", \"region\": \"S\"}, {\"start_year\": 2004.0, \"regiao_e_estado\": \"Santa Catarina, S\", \"counts\": 1, \"cumulative_sum\": 9, \"state\": \"Santa Catarina\", \"region\": \"S\"}, {\"start_year\": 2005.0, \"regiao_e_estado\": \"Santa Catarina, S\", \"counts\": 3, \"cumulative_sum\": 12, \"state\": \"Santa Catarina\", \"region\": \"S\"}, {\"start_year\": 2007.0, \"regiao_e_estado\": \"Santa Catarina, S\", \"counts\": 2, \"cumulative_sum\": 14, \"state\": \"Santa Catarina\", \"region\": \"S\"}, {\"start_year\": 2008.0, \"regiao_e_estado\": \"Santa Catarina, S\", \"counts\": 5, \"cumulative_sum\": 19, \"state\": \"Santa Catarina\", \"region\": \"S\"}, {\"start_year\": 2014.0, \"regiao_e_estado\": \"Santa Catarina, S\", \"counts\": 6, \"cumulative_sum\": 25, \"state\": \"Santa Catarina\", \"region\": \"S\"}, {\"start_year\": 2015.0, \"regiao_e_estado\": \"Sergipe, NE\", \"counts\": 5, \"cumulative_sum\": 5, \"state\": \"Sergipe\", \"region\": \"NE\"}, {\"start_year\": 1966.0, \"regiao_e_estado\": \"S\\u00e3o Paulo, SE\", \"counts\": 1, \"cumulative_sum\": 1, \"state\": \"S\\u00e3o Paulo\", \"region\": \"SE\"}, {\"start_year\": 1967.0, \"regiao_e_estado\": \"S\\u00e3o Paulo, SE\", \"counts\": 2, \"cumulative_sum\": 3, \"state\": \"S\\u00e3o Paulo\", \"region\": \"SE\"}, {\"start_year\": 1979.0, \"regiao_e_estado\": \"S\\u00e3o Paulo, SE\", \"counts\": 1, \"cumulative_sum\": 4, \"state\": \"S\\u00e3o Paulo\", \"region\": \"SE\"}, {\"start_year\": 1993.0, \"regiao_e_estado\": \"S\\u00e3o Paulo, SE\", \"counts\": 3, \"cumulative_sum\": 7, \"state\": \"S\\u00e3o Paulo\", \"region\": \"SE\"}, {\"start_year\": 1994.0, \"regiao_e_estado\": \"S\\u00e3o Paulo, SE\", \"counts\": 3, \"cumulative_sum\": 10, \"state\": \"S\\u00e3o Paulo\", \"region\": \"SE\"}, {\"start_year\": 1998.0, \"regiao_e_estado\": \"S\\u00e3o Paulo, SE\", \"counts\": 1, \"cumulative_sum\": 11, \"state\": \"S\\u00e3o Paulo\", \"region\": \"SE\"}, {\"start_year\": 2001.0, \"regiao_e_estado\": \"S\\u00e3o Paulo, SE\", \"counts\": 1, \"cumulative_sum\": 12, \"state\": \"S\\u00e3o Paulo\", \"region\": \"SE\"}, {\"start_year\": 2002.0, \"regiao_e_estado\": \"S\\u00e3o Paulo, SE\", \"counts\": 2, \"cumulative_sum\": 14, \"state\": \"S\\u00e3o Paulo\", \"region\": \"SE\"}, {\"start_year\": 2007.0, \"regiao_e_estado\": \"S\\u00e3o Paulo, SE\", \"counts\": 3, \"cumulative_sum\": 17, \"state\": \"S\\u00e3o Paulo\", \"region\": \"SE\"}, {\"start_year\": 2012.0, \"regiao_e_estado\": \"S\\u00e3o Paulo, SE\", \"counts\": 1, \"cumulative_sum\": 18, \"state\": \"S\\u00e3o Paulo\", \"region\": \"SE\"}, {\"start_year\": 2013.0, \"regiao_e_estado\": \"S\\u00e3o Paulo, SE\", \"counts\": 1, \"cumulative_sum\": 19, \"state\": \"S\\u00e3o Paulo\", \"region\": \"SE\"}, {\"start_year\": 2014.0, \"regiao_e_estado\": \"S\\u00e3o Paulo, SE\", \"counts\": 5, \"cumulative_sum\": 24, \"state\": \"S\\u00e3o Paulo\", \"region\": \"SE\"}]}}, {\"mode\": \"vega-lite\"});\n",
       "</script>"
      ],
      "text/plain": [
       "alt.Chart(...)"
      ]
     },
     "execution_count": 27,
     "metadata": {},
     "output_type": "execute_result"
    }
   ],
   "source": [
    "select_state = alt.selection_multi(fields=['state'], bind='legend')\n",
    "\n",
    "g1 = alt.Chart(teste, title=\"Collection's temporal evolution per Brazilian State\", \n",
    "        width=600).mark_line(point=True).encode(\n",
    "    x= alt.X('start_year', type=\"ordinal\", title='Sampling Year',\n",
    "             scale= alt.Scale(domain=sorted(list(teste['start_year'].unique())))),\n",
    "    y= alt.Y('cumulative_sum', title='', \n",
    "             sort=alt.EncodingSortField('counts', op=\"count\", order='descending'),\n",
    "             scale= alt.Scale(domain=[0,140])),\n",
    "    color= alt.Color('state:N', title='State', \n",
    "                legend= alt.Legend(columns=2, symbolLimit=42),\n",
    "                scale= alt.Scale(domain=list(cores_estados.keys()), range=list(cores_estados.values()))),\n",
    "    tooltip= alt.Tooltip(['region', 'state','start_year','counts', 'cumulative_sum']),\n",
    "#     opacity= alt.condition(select_region, alt.value(1), alt.value(0.2))\n",
    ").add_selection(select_state).transform_filter(select_state)\n",
    "\n",
    "g1 = g1.configure_title(fontSize=16).configure_axis(\n",
    "    labelFontSize=12,\n",
    "    titleFontSize=12\n",
    ").configure_legend(\n",
    "    labelFontSize=12,\n",
    "    titleFontSize=12\n",
    ").configure_view(strokeWidth=0)\n",
    "\n",
    "# g1.save('./graphs/cumCounts/time-spacial/evolucao_por_estado.html')\n",
    "\n",
    "g1"
   ]
  },
  {
   "cell_type": "markdown",
   "metadata": {},
   "source": [
    "<br>\n",
    "\n",
    "<font color='red' size='5'>TESTE</font>\n",
    "\n",
    "gráfico com múltiplos seletores "
   ]
  },
  {
   "cell_type": "code",
   "execution_count": 31,
   "metadata": {
    "ExecuteTime": {
     "end_time": "2021-01-25T23:31:34.545326Z",
     "start_time": "2021-01-25T23:31:34.473427Z"
    },
    "scrolled": false
   },
   "outputs": [],
   "source": [
    "# selectors\n",
    "select_region = alt.selection_multi(fields=['region'], bind='legend')\n",
    "select_state = alt.selection_multi(fields=['state'], bind='legend')\n",
    "\n",
    "\n",
    "# charts\n",
    "g1 = alt.Chart(teste, title=\"Collection's temporal evolution per Brazilian State\", width=600).mark_line(point=True).encode(\n",
    "    x= alt.X('start_year', type=\"ordinal\", title='Sampling Year',\n",
    "             scale= alt.Scale(domain=sorted(list(teste['start_year'].unique())))),\n",
    "    y= alt.Y('cumulative_sum', title='', \n",
    "             sort=alt.EncodingSortField('counts', op=\"count\", order='descending'),\n",
    "             scale= alt.Scale(domain=[0,140])),\n",
    "    color= alt.Color('state:N', title='State', \n",
    "                legend= alt.Legend(columns=2, symbolLimit=42),\n",
    "                scale= alt.Scale(domain=list(cores_estados.keys()), range=list(cores_estados.values()))),\n",
    "    tooltip= alt.Tooltip(['region', 'state','start_year','counts', 'cumulative_sum']),\n",
    "    detail= alt.Detail('state:N'),\n",
    "    opacity= alt.condition(select_state, alt.value(1), alt.value(0.05))\n",
    ").add_selection(select_state).transform_filter(select_state).transform_filter(select_region)\n",
    "\n",
    "g2 = alt.Chart(teste, title=\"Collection's temporal evolution per Brazilian State\", width=600).mark_line(point=True).encode(\n",
    "    x= alt.X('start_year', type=\"ordinal\", title='Sampling Year',\n",
    "             scale= alt.Scale(domain=sorted(list(teste['start_year'].unique())))),\n",
    "    y= alt.Y('cumulative_sum', title='', \n",
    "             sort=alt.EncodingSortField('counts', op=\"count\", order='descending'),\n",
    "             scale= alt.Scale(domain=[0,140])),\n",
    "    color= alt.Color('region:N', title='Region', \n",
    "                legend= alt.Legend(columns=5, symbolLimit=42),\n",
    "                scale= alt.Scale(domain=list(cores_regioes.keys()), range=list(cores_regioes.values()))),\n",
    "    tooltip= alt.Tooltip(['region', 'state','start_year','counts', 'cumulative_sum']),\n",
    "    detail= alt.Detail('state:N'),\n",
    "    opacity= alt.condition(select_state, alt.value(1), alt.value(0.05))\n",
    ").add_selection(select_region).transform_filter(select_region)\n",
    "\n",
    "\n",
    "# creating layers (to make different selectors work together)\n",
    "chart = alt.layer(g2, g1).resolve_scale('independent').configure_title(fontSize=16).configure_axis(\n",
    "    labelFontSize=12,\n",
    "    titleFontSize=12\n",
    ").configure_legend(\n",
    "    labelFontSize=12,\n",
    "    titleFontSize=12\n",
    ")\n",
    "\n",
    "# chart.save('./graphs/cumCounts/time-spacial/evolucao_por_estado-TESTE.html')\n",
    "\n",
    "# chart"
   ]
  },
  {
   "cell_type": "markdown",
   "metadata": {},
   "source": [
    "<br>\n",
    "\n",
    "### Chart: cumulative counts per Brazilian Region"
   ]
  },
  {
   "cell_type": "code",
   "execution_count": 32,
   "metadata": {
    "ExecuteTime": {
     "end_time": "2021-01-25T23:32:10.263555Z",
     "start_time": "2021-01-25T23:32:10.241075Z"
    }
   },
   "outputs": [],
   "source": [
    "temp = teste2.groupby(['start_year','region']).count()['order'].reset_index().rename(columns={\n",
    "    'order':'counts'\n",
    "})\n",
    "\n",
    "temp = temp.sort_values(['region', 'start_year'])"
   ]
  },
  {
   "cell_type": "code",
   "execution_count": 33,
   "metadata": {
    "ExecuteTime": {
     "end_time": "2021-01-25T23:32:10.674673Z",
     "start_time": "2021-01-25T23:32:10.665363Z"
    }
   },
   "outputs": [],
   "source": [
    "# cumulatively counting\n",
    "cumSum = []\n",
    "for reg in temp['region'].unique():\n",
    "    cumSum.extend(list(temp[temp['region'] == reg]['counts'].cumsum()))\n",
    "    \n",
    "temp['cumulative_sum'] = cumSum"
   ]
  },
  {
   "cell_type": "code",
   "execution_count": 36,
   "metadata": {
    "ExecuteTime": {
     "end_time": "2021-01-25T23:33:34.335535Z",
     "start_time": "2021-01-25T23:33:34.269323Z"
    },
    "scrolled": false
   },
   "outputs": [
    {
     "data": {
      "text/html": [
       "\n",
       "<div id=\"altair-viz-4bca7f0716fa4c9aa4158eb7f021516e\"></div>\n",
       "<script type=\"text/javascript\">\n",
       "  (function(spec, embedOpt){\n",
       "    let outputDiv = document.currentScript.previousElementSibling;\n",
       "    if (outputDiv.id !== \"altair-viz-4bca7f0716fa4c9aa4158eb7f021516e\") {\n",
       "      outputDiv = document.getElementById(\"altair-viz-4bca7f0716fa4c9aa4158eb7f021516e\");\n",
       "    }\n",
       "    const paths = {\n",
       "      \"vega\": \"https://cdn.jsdelivr.net/npm//vega@5?noext\",\n",
       "      \"vega-lib\": \"https://cdn.jsdelivr.net/npm//vega-lib?noext\",\n",
       "      \"vega-lite\": \"https://cdn.jsdelivr.net/npm//vega-lite@4.8.1?noext\",\n",
       "      \"vega-embed\": \"https://cdn.jsdelivr.net/npm//vega-embed@6?noext\",\n",
       "    };\n",
       "\n",
       "    function loadScript(lib) {\n",
       "      return new Promise(function(resolve, reject) {\n",
       "        var s = document.createElement('script');\n",
       "        s.src = paths[lib];\n",
       "        s.async = true;\n",
       "        s.onload = () => resolve(paths[lib]);\n",
       "        s.onerror = () => reject(`Error loading script: ${paths[lib]}`);\n",
       "        document.getElementsByTagName(\"head\")[0].appendChild(s);\n",
       "      });\n",
       "    }\n",
       "\n",
       "    function showError(err) {\n",
       "      outputDiv.innerHTML = `<div class=\"error\" style=\"color:red;\">${err}</div>`;\n",
       "      throw err;\n",
       "    }\n",
       "\n",
       "    function displayChart(vegaEmbed) {\n",
       "      vegaEmbed(outputDiv, spec, embedOpt)\n",
       "        .catch(err => showError(`Javascript Error: ${err.message}<br>This usually means there's a typo in your chart specification. See the javascript console for the full traceback.`));\n",
       "    }\n",
       "\n",
       "    if(typeof define === \"function\" && define.amd) {\n",
       "      requirejs.config({paths});\n",
       "      require([\"vega-embed\"], displayChart, err => showError(`Error loading script: ${err.message}`));\n",
       "    } else if (typeof vegaEmbed === \"function\") {\n",
       "      displayChart(vegaEmbed);\n",
       "    } else {\n",
       "      loadScript(\"vega\")\n",
       "        .then(() => loadScript(\"vega-lite\"))\n",
       "        .then(() => loadScript(\"vega-embed\"))\n",
       "        .catch(showError)\n",
       "        .then(() => displayChart(vegaEmbed));\n",
       "    }\n",
       "  })({\"config\": {\"view\": {\"continuousWidth\": 400, \"continuousHeight\": 300}, \"axis\": {\"labelFontSize\": 12, \"titleFontSize\": 12}, \"legend\": {\"labelFontSize\": 12, \"titleFontSize\": 12}, \"title\": {\"fontSize\": 16}}, \"data\": {\"name\": \"data-de68fe5a2de7852f146bb6b93d6d2428\"}, \"mark\": {\"type\": \"line\", \"point\": true}, \"encoding\": {\"color\": {\"type\": \"nominal\", \"field\": \"region\", \"legend\": {\"columns\": 1, \"symbolLimit\": 42}, \"scale\": {\"domain\": [\"N\", \"NE\", \"CO\", \"SE\", \"S\"], \"range\": [\"#22695e\", \"#ea1349\", \"#69ef7b\", \"#992a1c\", \"#7ee7d3\"]}, \"title\": \"Region\"}, \"tooltip\": [{\"type\": \"nominal\", \"field\": \"region\"}, {\"type\": \"quantitative\", \"field\": \"start_year\"}, {\"type\": \"quantitative\", \"field\": \"counts\"}, {\"type\": \"quantitative\", \"field\": \"cumulative_sum\"}], \"x\": {\"type\": \"ordinal\", \"field\": \"start_year\", \"scale\": {\"domain\": [1900.0, 1905.0, 1961.0, 1962.0, 1966.0, 1967.0, 1971.0, 1974.0, 1977.0, 1979.0, 1980.0, 1982.0, 1983.0, 1984.0, 1986.0, 1989.0, 1990.0, 1991.0, 1992.0, 1993.0, 1994.0, 1995.0, 1996.0, 1997.0, 1998.0, 1999.0, 2000.0, 2001.0, 2002.0, 2003.0, 2004.0, 2005.0, 2006.0, 2007.0, 2008.0, 2009.0, 2010.0, 2011.0, 2012.0, 2013.0, 2014.0, 2015.0, 2016.0, 2017.0, 2018.0, 2019.0]}, \"title\": \"Sampling Year\"}, \"y\": {\"type\": \"quantitative\", \"field\": \"cumulative_sum\", \"scale\": {\"domain\": [0, 150]}, \"sort\": {\"field\": \"counts\", \"op\": \"count\", \"order\": \"descending\"}, \"title\": \"\"}}, \"selection\": {\"selector018\": {\"type\": \"multi\", \"fields\": [\"region\"], \"bind\": \"legend\"}}, \"title\": \"Collection's temporal evolution per Brazilian Region\", \"transform\": [{\"filter\": {\"selection\": \"selector018\"}}], \"width\": 600, \"$schema\": \"https://vega.github.io/schema/vega-lite/v4.8.1.json\", \"datasets\": {\"data-de68fe5a2de7852f146bb6b93d6d2428\": [{\"start_year\": 2005.0, \"region\": \"N\", \"counts\": 7, \"cumulative_sum\": 7}, {\"start_year\": 1905.0, \"region\": \"NE\", \"counts\": 1, \"cumulative_sum\": 1}, {\"start_year\": 1984.0, \"region\": \"NE\", \"counts\": 1, \"cumulative_sum\": 2}, {\"start_year\": 1997.0, \"region\": \"NE\", \"counts\": 1, \"cumulative_sum\": 3}, {\"start_year\": 1998.0, \"region\": \"NE\", \"counts\": 2, \"cumulative_sum\": 5}, {\"start_year\": 2000.0, \"region\": \"NE\", \"counts\": 13, \"cumulative_sum\": 18}, {\"start_year\": 2001.0, \"region\": \"NE\", \"counts\": 7, \"cumulative_sum\": 25}, {\"start_year\": 2002.0, \"region\": \"NE\", \"counts\": 5, \"cumulative_sum\": 30}, {\"start_year\": 2003.0, \"region\": \"NE\", \"counts\": 2, \"cumulative_sum\": 32}, {\"start_year\": 2005.0, \"region\": \"NE\", \"counts\": 5, \"cumulative_sum\": 37}, {\"start_year\": 2009.0, \"region\": \"NE\", \"counts\": 2, \"cumulative_sum\": 39}, {\"start_year\": 2010.0, \"region\": \"NE\", \"counts\": 2, \"cumulative_sum\": 41}, {\"start_year\": 2011.0, \"region\": \"NE\", \"counts\": 18, \"cumulative_sum\": 59}, {\"start_year\": 2012.0, \"region\": \"NE\", \"counts\": 9, \"cumulative_sum\": 68}, {\"start_year\": 2013.0, \"region\": \"NE\", \"counts\": 5, \"cumulative_sum\": 73}, {\"start_year\": 2014.0, \"region\": \"NE\", \"counts\": 11, \"cumulative_sum\": 84}, {\"start_year\": 2015.0, \"region\": \"NE\", \"counts\": 5, \"cumulative_sum\": 89}, {\"start_year\": 1900.0, \"region\": \"NaN\", \"counts\": 1, \"cumulative_sum\": 1}, {\"start_year\": 1905.0, \"region\": \"NaN\", \"counts\": 1, \"cumulative_sum\": 2}, {\"start_year\": 1962.0, \"region\": \"NaN\", \"counts\": 1, \"cumulative_sum\": 3}, {\"start_year\": 1974.0, \"region\": \"NaN\", \"counts\": 1, \"cumulative_sum\": 4}, {\"start_year\": 1979.0, \"region\": \"NaN\", \"counts\": 1, \"cumulative_sum\": 5}, {\"start_year\": 1980.0, \"region\": \"NaN\", \"counts\": 1, \"cumulative_sum\": 6}, {\"start_year\": 1982.0, \"region\": \"NaN\", \"counts\": 1, \"cumulative_sum\": 7}, {\"start_year\": 1983.0, \"region\": \"NaN\", \"counts\": 1, \"cumulative_sum\": 8}, {\"start_year\": 1986.0, \"region\": \"NaN\", \"counts\": 1, \"cumulative_sum\": 9}, {\"start_year\": 1989.0, \"region\": \"NaN\", \"counts\": 1, \"cumulative_sum\": 10}, {\"start_year\": 1990.0, \"region\": \"NaN\", \"counts\": 1, \"cumulative_sum\": 11}, {\"start_year\": 1992.0, \"region\": \"NaN\", \"counts\": 3, \"cumulative_sum\": 14}, {\"start_year\": 1993.0, \"region\": \"NaN\", \"counts\": 1, \"cumulative_sum\": 15}, {\"start_year\": 1994.0, \"region\": \"NaN\", \"counts\": 1, \"cumulative_sum\": 16}, {\"start_year\": 1995.0, \"region\": \"NaN\", \"counts\": 6, \"cumulative_sum\": 22}, {\"start_year\": 1996.0, \"region\": \"NaN\", \"counts\": 6, \"cumulative_sum\": 28}, {\"start_year\": 1997.0, \"region\": \"NaN\", \"counts\": 6, \"cumulative_sum\": 34}, {\"start_year\": 1998.0, \"region\": \"NaN\", \"counts\": 5, \"cumulative_sum\": 39}, {\"start_year\": 1999.0, \"region\": \"NaN\", \"counts\": 8, \"cumulative_sum\": 47}, {\"start_year\": 2000.0, \"region\": \"NaN\", \"counts\": 7, \"cumulative_sum\": 54}, {\"start_year\": 2001.0, \"region\": \"NaN\", \"counts\": 5, \"cumulative_sum\": 59}, {\"start_year\": 2002.0, \"region\": \"NaN\", \"counts\": 3, \"cumulative_sum\": 62}, {\"start_year\": 2003.0, \"region\": \"NaN\", \"counts\": 1, \"cumulative_sum\": 63}, {\"start_year\": 2004.0, \"region\": \"NaN\", \"counts\": 2, \"cumulative_sum\": 65}, {\"start_year\": 2005.0, \"region\": \"NaN\", \"counts\": 1, \"cumulative_sum\": 66}, {\"start_year\": 2006.0, \"region\": \"NaN\", \"counts\": 3, \"cumulative_sum\": 69}, {\"start_year\": 2008.0, \"region\": \"NaN\", \"counts\": 5, \"cumulative_sum\": 74}, {\"start_year\": 2009.0, \"region\": \"NaN\", \"counts\": 4, \"cumulative_sum\": 78}, {\"start_year\": 2010.0, \"region\": \"NaN\", \"counts\": 7, \"cumulative_sum\": 85}, {\"start_year\": 2011.0, \"region\": \"NaN\", \"counts\": 7, \"cumulative_sum\": 92}, {\"start_year\": 2012.0, \"region\": \"NaN\", \"counts\": 8, \"cumulative_sum\": 100}, {\"start_year\": 2013.0, \"region\": \"NaN\", \"counts\": 7, \"cumulative_sum\": 107}, {\"start_year\": 2014.0, \"region\": \"NaN\", \"counts\": 5, \"cumulative_sum\": 112}, {\"start_year\": 2015.0, \"region\": \"NaN\", \"counts\": 4, \"cumulative_sum\": 116}, {\"start_year\": 2016.0, \"region\": \"NaN\", \"counts\": 4, \"cumulative_sum\": 120}, {\"start_year\": 2017.0, \"region\": \"NaN\", \"counts\": 5, \"cumulative_sum\": 125}, {\"start_year\": 2018.0, \"region\": \"NaN\", \"counts\": 4, \"cumulative_sum\": 129}, {\"start_year\": 2019.0, \"region\": \"NaN\", \"counts\": 1, \"cumulative_sum\": 130}, {\"start_year\": 1983.0, \"region\": \"S\", \"counts\": 1, \"cumulative_sum\": 1}, {\"start_year\": 1984.0, \"region\": \"S\", \"counts\": 1, \"cumulative_sum\": 2}, {\"start_year\": 2001.0, \"region\": \"S\", \"counts\": 1, \"cumulative_sum\": 3}, {\"start_year\": 2002.0, \"region\": \"S\", \"counts\": 3, \"cumulative_sum\": 6}, {\"start_year\": 2003.0, \"region\": \"S\", \"counts\": 4, \"cumulative_sum\": 10}, {\"start_year\": 2004.0, \"region\": \"S\", \"counts\": 1, \"cumulative_sum\": 11}, {\"start_year\": 2005.0, \"region\": \"S\", \"counts\": 3, \"cumulative_sum\": 14}, {\"start_year\": 2007.0, \"region\": \"S\", \"counts\": 2, \"cumulative_sum\": 16}, {\"start_year\": 2008.0, \"region\": \"S\", \"counts\": 5, \"cumulative_sum\": 21}, {\"start_year\": 2014.0, \"region\": \"S\", \"counts\": 6, \"cumulative_sum\": 27}, {\"start_year\": 1905.0, \"region\": \"SE\", \"counts\": 1, \"cumulative_sum\": 1}, {\"start_year\": 1961.0, \"region\": \"SE\", \"counts\": 1, \"cumulative_sum\": 2}, {\"start_year\": 1966.0, \"region\": \"SE\", \"counts\": 1, \"cumulative_sum\": 3}, {\"start_year\": 1967.0, \"region\": \"SE\", \"counts\": 2, \"cumulative_sum\": 5}, {\"start_year\": 1971.0, \"region\": \"SE\", \"counts\": 2, \"cumulative_sum\": 7}, {\"start_year\": 1977.0, \"region\": \"SE\", \"counts\": 1, \"cumulative_sum\": 8}, {\"start_year\": 1979.0, \"region\": \"SE\", \"counts\": 1, \"cumulative_sum\": 9}, {\"start_year\": 1980.0, \"region\": \"SE\", \"counts\": 1, \"cumulative_sum\": 10}, {\"start_year\": 1982.0, \"region\": \"SE\", \"counts\": 1, \"cumulative_sum\": 11}, {\"start_year\": 1986.0, \"region\": \"SE\", \"counts\": 3, \"cumulative_sum\": 14}, {\"start_year\": 1991.0, \"region\": \"SE\", \"counts\": 1, \"cumulative_sum\": 15}, {\"start_year\": 1992.0, \"region\": \"SE\", \"counts\": 2, \"cumulative_sum\": 17}, {\"start_year\": 1993.0, \"region\": \"SE\", \"counts\": 4, \"cumulative_sum\": 21}, {\"start_year\": 1994.0, \"region\": \"SE\", \"counts\": 3, \"cumulative_sum\": 24}, {\"start_year\": 1996.0, \"region\": \"SE\", \"counts\": 1, \"cumulative_sum\": 25}, {\"start_year\": 1997.0, \"region\": \"SE\", \"counts\": 3, \"cumulative_sum\": 28}, {\"start_year\": 1998.0, \"region\": \"SE\", \"counts\": 7, \"cumulative_sum\": 35}, {\"start_year\": 1999.0, \"region\": \"SE\", \"counts\": 1, \"cumulative_sum\": 36}, {\"start_year\": 2000.0, \"region\": \"SE\", \"counts\": 6, \"cumulative_sum\": 42}, {\"start_year\": 2001.0, \"region\": \"SE\", \"counts\": 13, \"cumulative_sum\": 55}, {\"start_year\": 2002.0, \"region\": \"SE\", \"counts\": 16, \"cumulative_sum\": 71}, {\"start_year\": 2003.0, \"region\": \"SE\", \"counts\": 7, \"cumulative_sum\": 78}, {\"start_year\": 2004.0, \"region\": \"SE\", \"counts\": 4, \"cumulative_sum\": 82}, {\"start_year\": 2005.0, \"region\": \"SE\", \"counts\": 5, \"cumulative_sum\": 87}, {\"start_year\": 2006.0, \"region\": \"SE\", \"counts\": 3, \"cumulative_sum\": 90}, {\"start_year\": 2007.0, \"region\": \"SE\", \"counts\": 4, \"cumulative_sum\": 94}, {\"start_year\": 2008.0, \"region\": \"SE\", \"counts\": 3, \"cumulative_sum\": 97}, {\"start_year\": 2009.0, \"region\": \"SE\", \"counts\": 3, \"cumulative_sum\": 100}, {\"start_year\": 2011.0, \"region\": \"SE\", \"counts\": 5, \"cumulative_sum\": 105}, {\"start_year\": 2012.0, \"region\": \"SE\", \"counts\": 9, \"cumulative_sum\": 114}, {\"start_year\": 2013.0, \"region\": \"SE\", \"counts\": 13, \"cumulative_sum\": 127}, {\"start_year\": 2014.0, \"region\": \"SE\", \"counts\": 13, \"cumulative_sum\": 140}, {\"start_year\": 2015.0, \"region\": \"SE\", \"counts\": 3, \"cumulative_sum\": 143}]}}, {\"mode\": \"vega-lite\"});\n",
       "</script>"
      ],
      "text/plain": [
       "alt.Chart(...)"
      ]
     },
     "execution_count": 36,
     "metadata": {},
     "output_type": "execute_result"
    }
   ],
   "source": [
    "select_region = alt.selection_multi(fields=['region'], bind='legend')\n",
    "\n",
    "g1 = alt.Chart(temp, title=\"Collection's temporal evolution per Brazilian Region\", \n",
    "               width=600).mark_line(point=True).encode(\n",
    "    x= alt.X('start_year', type=\"ordinal\", title='Sampling Year',\n",
    "             scale= alt.Scale(domain=sorted(list(teste['start_year'].unique())))),\n",
    "    y= alt.Y('cumulative_sum', title='', \n",
    "             sort=alt.EncodingSortField('counts', op=\"count\", order='descending'),\n",
    "             scale= alt.Scale(domain=[0,150])),\n",
    "    color= alt.Color('region:N', title='Region', \n",
    "                        legend= alt.Legend(columns=1, symbolLimit=42),\n",
    "                     scale= alt.Scale(domain=list(cores_regioes.keys()), range=list(cores_regioes.values()))),\n",
    "    tooltip= alt.Tooltip(['region','start_year','counts', 'cumulative_sum']),\n",
    "#     opacity= alt.condition(select_country, alt.value(1), alt.value(0))\n",
    ").add_selection(select_region).transform_filter(select_region)\n",
    "\n",
    "g1 = g1.configure_title(fontSize=16).configure_axis(\n",
    "    labelFontSize=12,\n",
    "    titleFontSize=12\n",
    ").configure_legend(\n",
    "    labelFontSize=12,\n",
    "    titleFontSize=12\n",
    ")\n",
    "\n",
    "# g1.save('./graphs/cumCounts/time-spacial/evolucao_por_regiao.html')\n",
    "\n",
    "g1"
   ]
  },
  {
   "cell_type": "markdown",
   "metadata": {},
   "source": [
    "<br>\n",
    "\n",
    "**That's it!**"
   ]
  }
 ],
 "metadata": {
  "kernelspec": {
   "display_name": "Python 3",
   "language": "python",
   "name": "python3"
  },
  "language_info": {
   "codemirror_mode": {
    "name": "ipython",
    "version": 3
   },
   "file_extension": ".py",
   "mimetype": "text/x-python",
   "name": "python",
   "nbconvert_exporter": "python",
   "pygments_lexer": "ipython3",
   "version": "3.9.1"
  },
  "toc": {
   "base_numbering": 1,
   "nav_menu": {},
   "number_sections": true,
   "sideBar": true,
   "skip_h1_title": false,
   "title_cell": "Table of Contents",
   "title_sidebar": "Contents",
   "toc_cell": false,
   "toc_position": {},
   "toc_section_display": true,
   "toc_window_display": false
  },
  "varInspector": {
   "cols": {
    "lenName": 16,
    "lenType": 16,
    "lenVar": 40
   },
   "kernels_config": {
    "python": {
     "delete_cmd_postfix": "",
     "delete_cmd_prefix": "del ",
     "library": "var_list.py",
     "varRefreshCmd": "print(var_dic_list())"
    },
    "r": {
     "delete_cmd_postfix": ") ",
     "delete_cmd_prefix": "rm(",
     "library": "var_list.r",
     "varRefreshCmd": "cat(var_dic_list()) "
    }
   },
   "position": {
    "height": "374px",
    "left": "1266px",
    "right": "20px",
    "top": "230px",
    "width": "350px"
   },
   "types_to_exclude": [
    "module",
    "function",
    "builtin_function_or_method",
    "instance",
    "_Feature"
   ],
   "window_display": false
  }
 },
 "nbformat": 4,
 "nbformat_minor": 4
}
