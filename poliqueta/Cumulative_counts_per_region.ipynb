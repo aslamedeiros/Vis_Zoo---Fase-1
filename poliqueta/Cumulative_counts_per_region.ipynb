{
 "cells": [
  {
   "cell_type": "markdown",
   "metadata": {},
   "source": [
    "# Cumulative counts per geographical region\n",
    "\n",
    "By **Franklin Oliveira**\n",
    "\n",
    "-----\n",
    "This notebook contains all code necessary to make charts from `poliqueta` database with focus on collection's cumulative spacial increments. Here you'll find some basic data treatment and charts' code. \n",
    "\n",
    "Database: <font color='blue'>'IBUFRJ27.07.2020 - visualização.xlsx'</font> and <font color='blue'>'MNRJP27.07.2020 - visualização.xls'</font>.\n",
    "    "
   ]
  },
  {
   "cell_type": "code",
   "execution_count": 1,
   "metadata": {
    "ExecuteTime": {
     "end_time": "2021-10-26T23:50:00.623241Z",
     "start_time": "2021-10-26T23:49:59.647322Z"
    }
   },
   "outputs": [
    {
     "data": {
      "text/plain": [
       "DataTransformerRegistry.enable('default')"
      ]
     },
     "execution_count": 1,
     "metadata": {},
     "output_type": "execute_result"
    }
   ],
   "source": [
    "import datetime\n",
    "import numpy as np\n",
    "import pandas as pd\n",
    "\n",
    "from collections import defaultdict\n",
    "\n",
    "# quick visualization\n",
    "import matplotlib.pyplot as plt\n",
    "import seaborn as sns\n",
    "\n",
    "# Waffle Charts\n",
    "# from pywaffle import Waffle \n",
    "# docs: https://pywaffle.readthedocs.io/en/latest/examples/block_shape_distance_location_and_direction.html\n",
    "\n",
    "# visualization\n",
    "import altair as alt\n",
    "\n",
    "# enabling notebook renderer\n",
    "# alt.renderers.enable('notebook')\n",
    "# alt.renderers.enable('default')\n",
    "\n",
    "# disabling rows limit\n",
    "alt.data_transformers.disable_max_rows()"
   ]
  },
  {
   "cell_type": "markdown",
   "metadata": {},
   "source": [
    "## Importing data..."
   ]
  },
  {
   "cell_type": "code",
   "execution_count": 2,
   "metadata": {
    "ExecuteTime": {
     "end_time": "2021-10-26T23:50:00.704469Z",
     "start_time": "2021-10-26T23:50:00.636815Z"
    }
   },
   "outputs": [],
   "source": [
    "NewTable = pd.read_csv('./data/merged_db.csv', sep=';', encoding='utf-8-sig')"
   ]
  },
  {
   "cell_type": "code",
   "execution_count": 3,
   "metadata": {
    "ExecuteTime": {
     "end_time": "2021-10-26T23:50:01.868008Z",
     "start_time": "2021-10-26T23:50:01.845319Z"
    }
   },
   "outputs": [],
   "source": [
    "# formatando a string NaN\n",
    "NewTable['family'] = NewTable['family'].apply(lambda x: 'NaN' if x=='Nan' else x)\n",
    "NewTable['continent'] = NewTable['continent'].apply(lambda x: 'NaN' if str(x) == 'nan' else str(x).strip())\n",
    "NewTable['country'] = NewTable['country'].apply(lambda x: 'NaN' if str(x) == 'nan' else str(x).strip())\n",
    "NewTable['state'] = NewTable['state'].apply(lambda x: 'NaN' if str(x) == 'nan' else str(x).strip())"
   ]
  },
  {
   "cell_type": "markdown",
   "metadata": {
    "ExecuteTime": {
     "end_time": "2021-01-25T21:52:31.916508Z",
     "start_time": "2021-01-25T21:52:31.905075Z"
    }
   },
   "source": [
    "<br>\n",
    "\n",
    "<font size=5>**Color Palette**</font>\n",
    "\n",
    "\n",
    "<!-- <div class='row' style='padding-top:20px;'>\n",
    "    <div class='col-md-6'>\n",
    "        <img src=\"./src/img1.jpg\" width='400px'>\n",
    "    </div>\n",
    "    <div class='col-md-6'>\n",
    "        <img src=\"./src/img2.jpg\" width='400px'>\n",
    "    </div>\n",
    "</div>\n",
    "\n",
    "<br>\n",
    "\n",
    "A partir das imagens acima, selecionamos cores (centróides) para criar a paleta de cores. Foram elas: \n",
    "<ul>\n",
    "    <li style='color:#3CA67F'><b> #3CA67F </b># verde</li>\n",
    "    <li style='color:#7A9FBF'><b> #7A9FBF </b># azul</li>\n",
    "    <li style='color:#D94814'><b> #D94814 </b># laranja</li>\n",
    "    <li style='color:#D96236'><b> #D96236 </b># laranja 2</li>\n",
    "    <li style='color:#F2B999'><b> #F2B999 </b># 'cor de pele'</li>\n",
    "    <li style='color:#A66C4B'><b> #A66C4B </b># marrom 1</li>\n",
    "    <li style='color:#732C02'><b> #732C02 </b># marrom 2</li>\n",
    "</ul>\n",
    "\n",
    "A partir das cores \"centróides\", utilizamos a ferramenta Color Crafter para selecionar diferentes \"shades\" e auxiliar para categorização em diferentes grupos sugeridos pela equipe de Poliquetas do Museu Nacional. \n",
    "\n",
    "<ul>\n",
    "    <li style='color:#3CA67F'><b> Verde: </b> ['#daffef', '#bbebd3', '#9adabc', '#77c8a5', '#57b791', '#3ca67f', '#2a9670', '#238762', '#257a56']</li>\n",
    "    <li style='color:#7A9FBF'><b> Azul: </b> ['#e7e5df', '#ccd2d8', '#b2c0d0', '#96afc8', '#7a9fbf', '#5d90b6', '#3c81ae', '#0673a4', '#00669a']</li>\n",
    "    <li style='color:#D94814'><b> laranja: </b> ['#ffbd84', '#ffaa74', '#ff9760', '#ff814b', '#fc6b36', '#eb5824', '#d94814', '#c83b03', '#b73000']</li>\n",
    "    <li style='color:#D96236'><b> laranja 2: ['#ffeba9', '#ffd391', '#ffbb7b', '#fda468', '#f18e56', '#e57846', '#d96236', '#cc4d28', '#bf381b']</b> </li>\n",
    "    <li style='color:#F2B999'><b> cor de pele: ['#ffe9c3', '#fbd0ad', '#f2b999', '#e8a287', '#dd8c76', '#d27666', '#c76158', '#bb4d4b', '#ae393e']</b> </li>\n",
    "    <li style='color:#A66C4B'><b> marrom 1: ['#d9c6af', '#ccad96', '#c1977c', '#b48061', '#a66c4b', '#975b39', '#874c2c', '#774124', '#683720']</b> </li>\n",
    "    <li style='color:#732C02'><b> marrom 2: ['#eebd93', '#dfa47a', '#d28d60', '#c37746', '#b4622f', '#a3501d', '#92420e', '#823606', '#732c02']</b> </li>\n",
    "</ul>\n",
    "\n",
    "\n",
    "\n",
    "**Colors  (antigas):** \n",
    "\n",
    "<ul>\n",
    "    <li style='color:#41A681'><b> #41A681 </b># verde1</li>\n",
    "    <li style='color:#3CA67F'><b> #3CA67F </b># verde2</li>\n",
    "    <li style='color:#7ACAAB'><b> #7ACAAB </b># verde claro</li>\n",
    "    <li style='color:#78a1a1'><b> #78a1a1 </b># azul</li>\n",
    "    <li style='color:#8ABFB0'><b> #8ABFB0 </b># azul claro</li>\n",
    "    <li style='color:#FFB27C'><b> #FFB27C </b># cor de pele clara</li>\n",
    "    <li style='color:#F29877'><b> #F29877 </b># cor de pele</li>\n",
    "    <li style='color:#ed845e'><b> #ed845e </b># laranja claro1</li>\n",
    "    <li style='color:#D96236'><b> #D96236 </b># laranja claro2</li>\n",
    "    <li style='color:#D95323'><b> #D95323 </b># laranja 1</li>\n",
    "    <li style='color:#D94B18'><b> #D94B18 </b># laranja 2</li>\n",
    "    <li style='color:#D9C2AD'><b> #D9C2AD </b># bege</li>\n",
    "    <li style='color:#A66C4B'><b> #A66C4B </b># marrom claro</li>\n",
    "    <li style='color:#86471B'><b> #86471B </b># marrom1</li>\n",
    "    <li style='color:#732C02'><b> #732C02 </b># marrom2</li>\n",
    "    <li style='color:#592202'><b> #592202 </b># marrom escuro1</li>\n",
    "    <li style='color:#3D1806'><b> #3D1806 </b># marrom escuro2</li>\n",
    "    <li style='color:#0D0D0D'><b> #0D0D0D </b># preto</li>\n",
    "</ul> -->"
   ]
  },
  {
   "cell_type": "code",
   "execution_count": 4,
   "metadata": {
    "ExecuteTime": {
     "end_time": "2021-10-26T23:50:02.407767Z",
     "start_time": "2021-10-26T23:50:02.400670Z"
    }
   },
   "outputs": [],
   "source": [
    "# importing customized color palettes\n",
    "from src.MNViz_colors import *"
   ]
  },
  {
   "cell_type": "code",
   "execution_count": 5,
   "metadata": {
    "ExecuteTime": {
     "end_time": "2021-10-26T23:50:02.844525Z",
     "start_time": "2021-10-26T23:50:02.839143Z"
    }
   },
   "outputs": [],
   "source": [
    "ordens = NewTable['order'].unique()\n",
    "familias = NewTable['family'].unique()"
   ]
  },
  {
   "cell_type": "markdown",
   "metadata": {},
   "source": [
    "<br>\n",
    "\n",
    "## Counting per continent"
   ]
  },
  {
   "cell_type": "code",
   "execution_count": 6,
   "metadata": {
    "ExecuteTime": {
     "end_time": "2021-10-26T23:50:04.293604Z",
     "start_time": "2021-10-26T23:50:04.286322Z"
    }
   },
   "outputs": [],
   "source": [
    "# forces Country column to be in string format\n",
    "NewTable['country'] = NewTable['country'].apply(lambda x:str(x))"
   ]
  },
  {
   "cell_type": "code",
   "execution_count": 7,
   "metadata": {
    "ExecuteTime": {
     "end_time": "2021-10-26T23:50:04.878881Z",
     "start_time": "2021-10-26T23:50:04.874486Z"
    }
   },
   "outputs": [],
   "source": [
    "# looking good...\n",
    "# NewTable['continent'].value_counts()"
   ]
  },
  {
   "cell_type": "code",
   "execution_count": 8,
   "metadata": {
    "ExecuteTime": {
     "end_time": "2021-10-26T23:50:05.277613Z",
     "start_time": "2021-10-26T23:50:05.243014Z"
    }
   },
   "outputs": [],
   "source": [
    "# grouping per Year and Continent\n",
    "teste = NewTable.groupby(['start_year','continent']).count()['class'].reset_index().rename(columns={\n",
    "    'class':'counts'\n",
    "})\n",
    "\n",
    "# sorting...\n",
    "teste = teste.sort_values(['continent', 'start_year'])"
   ]
  },
  {
   "cell_type": "code",
   "execution_count": 9,
   "metadata": {
    "ExecuteTime": {
     "end_time": "2021-10-26T23:50:05.741519Z",
     "start_time": "2021-10-26T23:50:05.719231Z"
    }
   },
   "outputs": [],
   "source": [
    "# cumulatively counting\n",
    "cumSum = []\n",
    "for continente in teste['continent'].unique():\n",
    "    cumSum.extend(list(teste[teste['continent'] == continente]['counts'].cumsum()))\n",
    "    \n",
    "teste['cumulative_sum'] = cumSum"
   ]
  },
  {
   "cell_type": "markdown",
   "metadata": {},
   "source": [
    "### Chart: all continents"
   ]
  },
  {
   "cell_type": "code",
   "execution_count": 11,
   "metadata": {
    "ExecuteTime": {
     "end_time": "2021-10-26T23:50:14.666259Z",
     "start_time": "2021-10-26T23:50:14.634847Z"
    }
   },
   "outputs": [],
   "source": [
    "select_continent = alt.selection_multi(fields=['continent'], bind='legend')\n",
    "\n",
    "g1 = alt.Chart(teste, title=\"Collection's temporal evolution per continent\", width=600).mark_line(point=True).encode(\n",
    "    x= alt.X('start_year', type=\"ordinal\", title='Sampling Year'),\n",
    "    y= alt.Y('cumulative_sum', title='', \n",
    "             sort=alt.EncodingSortField('counts', op=\"count\", order='descending')),\n",
    "    color= alt.Color('continent:N', title='Continent',\n",
    "                     scale=alt.Scale(domain=list(cores_continente.keys()), range=list(cores_continente.values()))),\n",
    "    tooltip= alt.Tooltip(['continent','start_year','counts', 'cumulative_sum']),\n",
    "    opacity= alt.condition(select_continent, alt.value(1), alt.value(0))\n",
    ").add_selection(select_continent)\n",
    "\n",
    "g1 = g1.configure_title(fontSize=16).configure_axis(\n",
    "    labelFontSize=12,\n",
    "    titleFontSize=12\n",
    ").configure_legend(\n",
    "    labelFontSize=12,\n",
    "    titleFontSize=12\n",
    ")\n",
    "\n",
    "# g1.save('./graphs/cumCounts/time-spacial/evolution_per_continent.html')\n",
    "# g1"
   ]
  },
  {
   "cell_type": "markdown",
   "metadata": {},
   "source": [
    "### Chart: all continents (ex. South America)"
   ]
  },
  {
   "cell_type": "code",
   "execution_count": 13,
   "metadata": {
    "ExecuteTime": {
     "end_time": "2021-10-26T23:50:21.431296Z",
     "start_time": "2021-10-26T23:50:21.410150Z"
    }
   },
   "outputs": [],
   "source": [
    "select_continent = alt.selection_multi(fields=['continent'], bind='legend')\n",
    "\n",
    "# removing South America from domain and range colors\n",
    "continents_exSA = [c for c in teste['continent'].unique() if c != 'South America' and c != \"NaN\"]\n",
    "colors_exSA = [cores_continente[c] for c in continents_exSA]\n",
    "\n",
    "g1 = alt.Chart(teste[(teste['continent']!='South America') & (teste['continent']!='NaN')],\n",
    "               title=\"Collection's temporal evolution per continent (ex. South America and missing values)\", \n",
    "width=600).mark_line(point=True).encode(\n",
    "    x= alt.X('start_year', type=\"ordinal\", title='Sampling Year'),\n",
    "    y= alt.Y('cumulative_sum', title='', \n",
    "             sort=alt.EncodingSortField('counts', op=\"count\", order='descending'),\n",
    "             scale= alt.Scale(domain=[0,80])),\n",
    "    color= alt.Color('continent:N', title='Continent',\n",
    "                     scale=alt.Scale(domain= continents_exSA, range= colors_exSA)),\n",
    "    tooltip= alt.Tooltip(['continent','start_year','counts', 'cumulative_sum']),\n",
    "    opacity= alt.condition(select_continent, alt.value(1), alt.value(0))\n",
    ").add_selection(select_continent).configure_point(\n",
    "    size=50\n",
    ")\n",
    "\n",
    "g1 = g1.configure_title(fontSize=16).configure_axis(\n",
    "    labelFontSize=12,\n",
    "    titleFontSize=12\n",
    ").configure_legend(\n",
    "    labelFontSize=12,\n",
    "    titleFontSize=12\n",
    ")\n",
    "\n",
    "# g1.save('./graphs/cumCounts/time-spacial/temporal_evolution_per_OTHER_continents.html')\n",
    "# g1"
   ]
  },
  {
   "cell_type": "markdown",
   "metadata": {},
   "source": [
    "<br>\n",
    "\n",
    "## Counting per Country"
   ]
  },
  {
   "cell_type": "code",
   "execution_count": 14,
   "metadata": {
    "ExecuteTime": {
     "end_time": "2021-10-26T23:50:22.531658Z",
     "start_time": "2021-10-26T23:50:22.511070Z"
    }
   },
   "outputs": [],
   "source": [
    "# OBS: conserto temporário (tem valores NaN na coluna continente para o país Brasil)\n",
    "temp = NewTable.copy()\n",
    "idx = temp[temp['country'] == 'Brazil'].index\n",
    "\n",
    "temp.loc[idx, 'continent'] = 'South America'"
   ]
  },
  {
   "cell_type": "code",
   "execution_count": 15,
   "metadata": {
    "ExecuteTime": {
     "end_time": "2021-10-26T23:50:24.315383Z",
     "start_time": "2021-10-26T23:50:24.291921Z"
    }
   },
   "outputs": [],
   "source": [
    "# grouping per year, continent and country\n",
    "teste = temp.groupby(['start_year','continent','country']).count()['class'].reset_index().rename(columns={\n",
    "    'class':'counts'\n",
    "})\n",
    "\n",
    "teste = teste.sort_values(['country', 'start_year'])"
   ]
  },
  {
   "cell_type": "code",
   "execution_count": 16,
   "metadata": {
    "ExecuteTime": {
     "end_time": "2021-10-26T23:50:24.620172Z",
     "start_time": "2021-10-26T23:50:24.586017Z"
    }
   },
   "outputs": [],
   "source": [
    "# cumulatively counting\n",
    "cumSum = []\n",
    "for pais in teste['country'].unique():\n",
    "    cumSum.extend(list(teste[teste['country'] == pais]['counts'].cumsum()))\n",
    "    \n",
    "teste['cumulative_sum'] = cumSum"
   ]
  },
  {
   "cell_type": "markdown",
   "metadata": {},
   "source": [
    "### Chart: all countries"
   ]
  },
  {
   "cell_type": "code",
   "execution_count": 18,
   "metadata": {
    "ExecuteTime": {
     "end_time": "2021-10-26T23:50:30.558412Z",
     "start_time": "2021-10-26T23:50:30.540575Z"
    }
   },
   "outputs": [],
   "source": [
    "select_country = alt.selection_multi(fields=['country'], bind='legend')\n",
    "\n",
    "g1 = alt.Chart(teste, title=\"Collection's temporal evolution per country\", \n",
    "width=600).mark_line(point=True).encode(\n",
    "    x= alt.X('start_year', type=\"ordinal\", title='Sampling Year',\n",
    "            scale= alt.Scale(domain=list(sorted(teste['start_year'].unique())))), # fixed x-axis\n",
    "    y= alt.Y('cumulative_sum', title='', \n",
    "             sort=alt.EncodingSortField('counts', op=\"count\", order='descending'),\n",
    "             scale= alt.Scale(domain=[0,6000])),\n",
    "    color= alt.Color('country:N', title='Country',\n",
    "                     legend= alt.Legend(columns=2, symbolLimit=42),\n",
    "                     scale= alt.Scale(domain=list(cores_pais.keys()), range=list(cores_pais.values()))),\n",
    "    tooltip= alt.Tooltip(['country','start_year','counts', 'cumulative_sum']),\n",
    "#     opacity= alt.condition(select_country, alt.value(1), alt.value(0))\n",
    ").add_selection(select_country).transform_filter(select_country)\n",
    "\n",
    "g1 = g1.configure_title(fontSize=16).configure_axis(\n",
    "    labelFontSize=12,\n",
    "    titleFontSize=12\n",
    ").configure_legend(\n",
    "    labelFontSize=12,\n",
    "    titleFontSize=12\n",
    ")\n",
    "\n",
    "# g1.save('./graphs/cumCounts/time-spacial/temporal_evolution_per_country.html')\n",
    "# g1"
   ]
  },
  {
   "cell_type": "markdown",
   "metadata": {},
   "source": [
    "<font color='red' size=4>TEST: multiple selectors (for country and continent)</font>"
   ]
  },
  {
   "cell_type": "code",
   "execution_count": 20,
   "metadata": {
    "ExecuteTime": {
     "end_time": "2021-10-26T23:50:36.481023Z",
     "start_time": "2021-10-26T23:50:36.424429Z"
    }
   },
   "outputs": [],
   "source": [
    "# selectors\n",
    "select_continent = alt.selection_multi(fields=['continent'], bind='legend')\n",
    "select_country = alt.selection_multi(fields=['country'], bind='legend')\n",
    "\n",
    "db = teste[teste['country'] != 'Brazil']\n",
    "\n",
    "# charts\n",
    "g1 = alt.Chart(db, title=\"Collection's temporal evolution per country (ex. Brazil)\", width=600).mark_line(point=True).encode(\n",
    "    x= alt.X('start_year', type=\"ordinal\", title='Sampling Year',\n",
    "             scale= alt.Scale(domain=sorted(list(teste['start_year'].unique())))),\n",
    "    y= alt.Y('cumulative_sum', title='', \n",
    "             sort=alt.EncodingSortField('counts', op=\"count\", order='descending'),\n",
    "             scale= alt.Scale(domain=[0,180])\n",
    "            ),\n",
    "    color= alt.Color('country:N', title='Country', \n",
    "                legend= alt.Legend(columns=2, symbolLimit=42),\n",
    "                scale= alt.Scale(domain=list(cores_pais.keys()), range=list(cores_pais.values()))),\n",
    "    tooltip= alt.Tooltip(['continent', 'country','start_year','counts', 'cumulative_sum']),\n",
    "    detail= alt.Detail('country:N'),\n",
    "    opacity= alt.condition(select_country, alt.value(1), alt.value(0.05))\n",
    ").add_selection(select_country).transform_filter(select_country).transform_filter(select_continent)\n",
    "\n",
    "g2 = alt.Chart(db, title=\"Collection's temporal evolution per country (ex. Brazil)\", width=600).mark_line(point=True).encode(\n",
    "    x= alt.X('start_year', type=\"ordinal\", title='Sampling Year',\n",
    "             scale= alt.Scale(domain=sorted(list(teste['start_year'].unique())))),\n",
    "    y= alt.Y('cumulative_sum', title='', \n",
    "             sort=alt.EncodingSortField('counts', op=\"count\", order='descending'),\n",
    "             scale= alt.Scale(domain=[0,180])\n",
    "            ),\n",
    "    color= alt.Color('continent:N', title='Continent', \n",
    "                legend= alt.Legend(columns=2, symbolLimit=42),\n",
    "                scale= alt.Scale(domain=list(cores_continente.keys()), range=list(cores_continente.values()))),\n",
    "    tooltip= alt.Tooltip(['continent', 'country','start_year','counts', 'cumulative_sum']),\n",
    "    detail= alt.Detail('country:N'),\n",
    "    opacity= alt.condition(select_country, alt.value(1), alt.value(0.05))\n",
    ").add_selection(select_continent).transform_filter(select_continent)\n",
    "\n",
    "\n",
    "# creating layers (to make different selectors work together)\n",
    "chart = alt.layer(g2, g1).resolve_scale('independent').configure_title(fontSize=16).configure_axis(\n",
    "    labelFontSize=12,\n",
    "    titleFontSize=12\n",
    ").configure_legend(\n",
    "    labelFontSize=12,\n",
    "    titleFontSize=12\n",
    ")\n",
    "\n",
    "# chart.save('./graphs/cumCounts/time-spacial/evolution_per_country-TEST.html')\n",
    "# chart"
   ]
  },
  {
   "cell_type": "markdown",
   "metadata": {},
   "source": [
    "### Chart: all countries (ex. Brasil)"
   ]
  },
  {
   "cell_type": "code",
   "execution_count": 22,
   "metadata": {
    "ExecuteTime": {
     "end_time": "2021-10-26T23:50:41.910779Z",
     "start_time": "2021-10-26T23:50:41.878812Z"
    }
   },
   "outputs": [],
   "source": [
    "select_country = alt.selection_multi(fields=['country'], bind='legend')\n",
    "\n",
    "g1 = alt.Chart(teste[teste['country'] != 'Brazil'], title=\"Collection's temporal evolution per country (ex. Brazil)\", \n",
    "width=600).mark_line(point=True).encode(\n",
    "    x= alt.X('start_year', type=\"ordinal\", title='Sampling Year',\n",
    "            scale= alt.Scale(domain=list(sorted(teste['start_year'].unique())))),\n",
    "    y= alt.Y('cumulative_sum', title='', \n",
    "             sort=alt.EncodingSortField('counts', op=\"count\", order='descending'),\n",
    "            scale= alt.Scale(domain=[0,200])),\n",
    "    color= alt.Color('country:N', title='Country',\n",
    "                     legend= alt.Legend(columns=2, symbolLimit=42),\n",
    "                     scale= alt.Scale(domain=list(cores_pais.keys()), range=list(cores_pais.values()))),\n",
    "    tooltip= alt.Tooltip(['country','start_year','counts', 'cumulative_sum']),\n",
    "#     opacity= alt.condition(select_country, alt.value(1), alt.value(0))\n",
    ").add_selection(select_country).transform_filter(select_country)\n",
    "\n",
    "g1 = g1.configure_title(fontSize=16).configure_axis(\n",
    "    labelFontSize=12,\n",
    "    titleFontSize=12\n",
    ").configure_legend(\n",
    "    labelFontSize=12,\n",
    "    titleFontSize=12\n",
    ")\n",
    "\n",
    "# g1.save('./graphs/cumCounts/time-spacial/temporal_evolution_per_country-exBrasil.html')\n",
    "# g1"
   ]
  },
  {
   "cell_type": "markdown",
   "metadata": {},
   "source": [
    "<br>\n",
    "\n",
    "## Counting per Brazilian State"
   ]
  },
  {
   "cell_type": "code",
   "execution_count": 23,
   "metadata": {
    "ExecuteTime": {
     "end_time": "2021-10-26T23:50:42.976798Z",
     "start_time": "2021-10-26T23:50:42.939368Z"
    }
   },
   "outputs": [],
   "source": [
    "# filtering for Brazil, only\n",
    "teste2 = NewTable[NewTable['country'] == 'Brazil']\n",
    "teste2 = teste2.groupby(['start_year','state', 'order']).count()['class'].reset_index().rename(columns={\n",
    "    'class':'counts'\n",
    "})"
   ]
  },
  {
   "cell_type": "markdown",
   "metadata": {},
   "source": [
    "### creating column with brazilian regions"
   ]
  },
  {
   "cell_type": "code",
   "execution_count": 24,
   "metadata": {
    "ExecuteTime": {
     "end_time": "2021-10-26T23:50:45.764086Z",
     "start_time": "2021-10-26T23:50:45.743060Z"
    }
   },
   "outputs": [],
   "source": [
    "regioes = {\n",
    "    'NaN':'NaN',\n",
    "    'Rio de Janeiro':'SE',\n",
    "    'São Paulo':'SE',\n",
    "    'Espírito Santo': 'SE',\n",
    "    'Pernambuco':'NE',\n",
    "    'Santa Catarina':'S',\n",
    "    'Amazonas':'N',\n",
    "    'Goiás':'CO',\n",
    "    'Roraima':'N',\n",
    "    'Pará':'N',\n",
    "    'Mato Grosso':'CO',\n",
    "    'Acre': 'N',\n",
    "    'Bahia': 'NE',\n",
    "    'Minas Gerais': 'SE',\n",
    "    'Mato Grosso do Sul': 'CO',\n",
    "    'Paraná': 'S',\n",
    "    'Rondônia': 'N',\n",
    "    'Ceará': 'NE',\n",
    "    'Maranhão': 'N',\n",
    "    'Rio Grande do Sul': 'S',\n",
    "    'Paraíba': 'NE',\n",
    "    'Distrito Federal': 'CO',\n",
    "    'Alagoas': 'NE',\n",
    "    'Amapá':'N',\n",
    "    'Piauí': 'NE',\n",
    "    'Brasília': 'CO',\n",
    "    'Tocantins': 'N',\n",
    "    'Rio Grande do Norte': 'NE',\n",
    "    'Sergipe': 'NE',\n",
    "    'Minas Gerais/Goiás/Distrito Federal': 'CO',\n",
    "    'Santa Catarina-Rio Grande do Sul': 'S'\n",
    "}\n",
    "\n",
    "# criando coluna com as regiões\n",
    "teste2['region'] = teste2['state'].apply(lambda x: regioes[str(x)])\n",
    "\n",
    "# coluna com estado, regiao\n",
    "teste2['regiao_e_estado'] = teste2['state'] + ', ' + teste2['region']\n",
    "\n",
    "# ordenando por região e soma das contagens\n",
    "sorting = teste2.groupby(['regiao_e_estado', 'region']).sum()['counts'].reset_index(\n",
    "                                                                ).rename(columns={'counts':'soma'})\n",
    "sorting = sorting.sort_values(['region','soma'], ascending=False)['regiao_e_estado'].unique()"
   ]
  },
  {
   "cell_type": "code",
   "execution_count": 25,
   "metadata": {
    "ExecuteTime": {
     "end_time": "2021-10-26T23:50:46.542428Z",
     "start_time": "2021-10-26T23:50:46.518833Z"
    }
   },
   "outputs": [],
   "source": [
    "# OBS: variável teste2 tem as informações que precisamos (vide gráfico de contagem por região - time_spacial)\n",
    "teste = teste2.groupby(['start_year','regiao_e_estado']).count()['order'].reset_index().rename(columns={\n",
    "    'order':'counts'\n",
    "})\n",
    "\n",
    "teste = teste.sort_values(['regiao_e_estado', 'start_year'])"
   ]
  },
  {
   "cell_type": "code",
   "execution_count": 26,
   "metadata": {
    "ExecuteTime": {
     "end_time": "2021-10-26T23:50:46.880601Z",
     "start_time": "2021-10-26T23:50:46.848839Z"
    }
   },
   "outputs": [],
   "source": [
    "# cumulatively counting\n",
    "cumSum = []\n",
    "for reg_est in teste['regiao_e_estado'].unique():\n",
    "    cumSum.extend(list(teste[teste['regiao_e_estado'] == reg_est]['counts'].cumsum()))\n",
    "    \n",
    "teste['cumulative_sum'] = cumSum"
   ]
  },
  {
   "cell_type": "code",
   "execution_count": 27,
   "metadata": {
    "ExecuteTime": {
     "end_time": "2021-10-26T23:50:47.184634Z",
     "start_time": "2021-10-26T23:50:47.176921Z"
    }
   },
   "outputs": [],
   "source": [
    "teste['state'] = teste['regiao_e_estado'].apply(lambda x:x.split(',')[0])\n",
    "teste['region'] = teste['regiao_e_estado'].apply(lambda x:x.split(',')[1].strip())"
   ]
  },
  {
   "cell_type": "markdown",
   "metadata": {},
   "source": [
    "### Chart: cumulative counts per Brazilian State"
   ]
  },
  {
   "cell_type": "code",
   "execution_count": 29,
   "metadata": {
    "ExecuteTime": {
     "end_time": "2021-10-26T23:50:54.559297Z",
     "start_time": "2021-10-26T23:50:54.536227Z"
    },
    "scrolled": false
   },
   "outputs": [],
   "source": [
    "select_state = alt.selection_multi(fields=['state'], bind='legend')\n",
    "\n",
    "g1 = alt.Chart(teste, title=\"Collection's temporal evolution per Brazilian State\", \n",
    "        width=600).mark_line(point=True).encode(\n",
    "    x= alt.X('start_year', type=\"ordinal\", title='Sampling Year',\n",
    "             scale= alt.Scale(domain=sorted(list(teste['start_year'].unique())))),\n",
    "    y= alt.Y('cumulative_sum', title='', \n",
    "             sort=alt.EncodingSortField('counts', op=\"count\", order='descending'),\n",
    "             scale= alt.Scale(domain=[0,140])),\n",
    "    color= alt.Color('state:N', title='State', \n",
    "                legend= alt.Legend(columns=2, symbolLimit=42),\n",
    "                scale= alt.Scale(domain=list(cores_estados.keys()), range=list(cores_estados.values()))),\n",
    "    tooltip= alt.Tooltip(['region', 'state','start_year','counts', 'cumulative_sum']),\n",
    "#     opacity= alt.condition(select_region, alt.value(1), alt.value(0.2))\n",
    ").add_selection(select_state).transform_filter(select_state)\n",
    "\n",
    "g1 = g1.configure_title(fontSize=16).configure_axis(\n",
    "    labelFontSize=12,\n",
    "    titleFontSize=12\n",
    ").configure_legend(\n",
    "    labelFontSize=12,\n",
    "    titleFontSize=12\n",
    ").configure_view(strokeWidth=0)\n",
    "\n",
    "# g1.save('./graphs/cumCounts/time-spacial/temporal_evolution_per_brazilian_state.html')\n",
    "# g1"
   ]
  },
  {
   "cell_type": "markdown",
   "metadata": {},
   "source": [
    "<br>\n",
    "\n",
    "<font color='red' size='5'>TEST</font>\n",
    "\n",
    "chart with multiple selectors"
   ]
  },
  {
   "cell_type": "code",
   "execution_count": 31,
   "metadata": {
    "ExecuteTime": {
     "end_time": "2021-10-26T23:51:00.341218Z",
     "start_time": "2021-10-26T23:51:00.267613Z"
    },
    "scrolled": false
   },
   "outputs": [],
   "source": [
    "# selectors\n",
    "select_region = alt.selection_multi(fields=['region'], bind='legend')\n",
    "select_state = alt.selection_multi(fields=['state'], bind='legend')\n",
    "\n",
    "\n",
    "# charts\n",
    "g1 = alt.Chart(teste, title=\"Collection's temporal evolution per Brazilian State\", width=600).mark_line(point=True).encode(\n",
    "    x= alt.X('start_year', type=\"ordinal\", title='Sampling Year',\n",
    "             scale= alt.Scale(domain=sorted(list(teste['start_year'].unique())))),\n",
    "    y= alt.Y('cumulative_sum', title='', \n",
    "             sort=alt.EncodingSortField('counts', op=\"count\", order='descending'),\n",
    "             scale= alt.Scale(domain=[0,140])),\n",
    "    color= alt.Color('state:N', title='State', \n",
    "                legend= alt.Legend(columns=2, symbolLimit=42),\n",
    "                scale= alt.Scale(domain=list(cores_estados.keys()), range=list(cores_estados.values()))),\n",
    "    tooltip= alt.Tooltip(['region', 'state','start_year','counts', 'cumulative_sum']),\n",
    "    detail= alt.Detail('state:N'),\n",
    "    opacity= alt.condition(select_state, alt.value(1), alt.value(0.05))\n",
    ").add_selection(select_state).transform_filter(select_state).transform_filter(select_region)\n",
    "\n",
    "g2 = alt.Chart(teste, title=\"Collection's temporal evolution per Brazilian State\", width=600).mark_line(point=True).encode(\n",
    "    x= alt.X('start_year', type=\"ordinal\", title='Sampling Year',\n",
    "             scale= alt.Scale(domain=sorted(list(teste['start_year'].unique())))),\n",
    "    y= alt.Y('cumulative_sum', title='', \n",
    "             sort=alt.EncodingSortField('counts', op=\"count\", order='descending'),\n",
    "             scale= alt.Scale(domain=[0,140])),\n",
    "    color= alt.Color('region:N', title='Region', \n",
    "                legend= alt.Legend(columns=5, symbolLimit=42),\n",
    "                scale= alt.Scale(domain=list(cores_regioes.keys()), range=list(cores_regioes.values()))),\n",
    "    tooltip= alt.Tooltip(['region', 'state','start_year','counts', 'cumulative_sum']),\n",
    "    detail= alt.Detail('state:N'),\n",
    "    opacity= alt.condition(select_state, alt.value(1), alt.value(0.05))\n",
    ").add_selection(select_region).transform_filter(select_region)\n",
    "\n",
    "\n",
    "# creating layers (to make different selectors work together)\n",
    "chart = alt.layer(g2, g1).resolve_scale('independent').configure_title(fontSize=16).configure_axis(\n",
    "    labelFontSize=12,\n",
    "    titleFontSize=12\n",
    ").configure_legend(\n",
    "    labelFontSize=12,\n",
    "    titleFontSize=12\n",
    ")\n",
    "\n",
    "# chart.save('./graphs/cumCounts/time-spacial/temporal_evolution_per_state-TEST.html')\n",
    "# chart"
   ]
  },
  {
   "cell_type": "markdown",
   "metadata": {},
   "source": [
    "<br>\n",
    "\n",
    "### Chart: cumulative counts per Brazilian Region"
   ]
  },
  {
   "cell_type": "code",
   "execution_count": 32,
   "metadata": {
    "ExecuteTime": {
     "end_time": "2021-10-26T23:51:01.840125Z",
     "start_time": "2021-10-26T23:51:01.815701Z"
    }
   },
   "outputs": [],
   "source": [
    "temp = teste2.groupby(['start_year','region']).count()['order'].reset_index().rename(columns={\n",
    "    'order':'counts'\n",
    "})\n",
    "\n",
    "temp = temp.sort_values(['region', 'start_year'])"
   ]
  },
  {
   "cell_type": "code",
   "execution_count": 33,
   "metadata": {
    "ExecuteTime": {
     "end_time": "2021-10-26T23:51:02.652128Z",
     "start_time": "2021-10-26T23:51:02.627286Z"
    }
   },
   "outputs": [],
   "source": [
    "# cumulatively counting\n",
    "cumSum = []\n",
    "for reg in temp['region'].unique():\n",
    "    cumSum.extend(list(temp[temp['region'] == reg]['counts'].cumsum()))\n",
    "    \n",
    "temp['cumulative_sum'] = cumSum"
   ]
  },
  {
   "cell_type": "code",
   "execution_count": 35,
   "metadata": {
    "ExecuteTime": {
     "end_time": "2021-10-26T23:51:07.230351Z",
     "start_time": "2021-10-26T23:51:07.201299Z"
    },
    "scrolled": false
   },
   "outputs": [],
   "source": [
    "select_region = alt.selection_multi(fields=['region'], bind='legend')\n",
    "\n",
    "g1 = alt.Chart(temp, title=\"Collection's temporal evolution per Brazilian Region\", \n",
    "               width=600).mark_line(point=True).encode(\n",
    "    x= alt.X('start_year', type=\"ordinal\", title='Sampling Year',\n",
    "             scale= alt.Scale(domain=sorted(list(teste['start_year'].unique())))),\n",
    "    y= alt.Y('cumulative_sum', title='', \n",
    "             sort=alt.EncodingSortField('counts', op=\"count\", order='descending'),\n",
    "             scale= alt.Scale(domain=[0,150])),\n",
    "    color= alt.Color('region:N', title='Region', \n",
    "                        legend= alt.Legend(columns=1, symbolLimit=42),\n",
    "                     scale= alt.Scale(domain=list(cores_regioes.keys()), range=list(cores_regioes.values()))),\n",
    "    tooltip= alt.Tooltip(['region','start_year','counts', 'cumulative_sum']),\n",
    "#     opacity= alt.condition(select_country, alt.value(1), alt.value(0))\n",
    ").add_selection(select_region).transform_filter(select_region)\n",
    "\n",
    "g1 = g1.configure_title(fontSize=16).configure_axis(\n",
    "    labelFontSize=12,\n",
    "    titleFontSize=12\n",
    ").configure_legend(\n",
    "    labelFontSize=12,\n",
    "    titleFontSize=12\n",
    ")\n",
    "\n",
    "# g1.save('./graphs/cumCounts/time-spacial/temporal_evolution_per_region.html')\n",
    "# g1"
   ]
  },
  {
   "cell_type": "markdown",
   "metadata": {},
   "source": [
    "<br>\n",
    "\n",
    "**That's it!**"
   ]
  }
 ],
 "metadata": {
  "kernelspec": {
   "display_name": "Python 3",
   "language": "python",
   "name": "python3"
  },
  "language_info": {
   "codemirror_mode": {
    "name": "ipython",
    "version": 3
   },
   "file_extension": ".py",
   "mimetype": "text/x-python",
   "name": "python",
   "nbconvert_exporter": "python",
   "pygments_lexer": "ipython3",
   "version": "3.9.1"
  },
  "toc": {
   "base_numbering": 1,
   "nav_menu": {},
   "number_sections": true,
   "sideBar": true,
   "skip_h1_title": false,
   "title_cell": "Table of Contents",
   "title_sidebar": "Contents",
   "toc_cell": false,
   "toc_position": {},
   "toc_section_display": true,
   "toc_window_display": false
  },
  "varInspector": {
   "cols": {
    "lenName": 16,
    "lenType": 16,
    "lenVar": 40
   },
   "kernels_config": {
    "python": {
     "delete_cmd_postfix": "",
     "delete_cmd_prefix": "del ",
     "library": "var_list.py",
     "varRefreshCmd": "print(var_dic_list())"
    },
    "r": {
     "delete_cmd_postfix": ") ",
     "delete_cmd_prefix": "rm(",
     "library": "var_list.r",
     "varRefreshCmd": "cat(var_dic_list()) "
    }
   },
   "position": {
    "height": "374px",
    "left": "1266px",
    "right": "20px",
    "top": "230px",
    "width": "350px"
   },
   "types_to_exclude": [
    "module",
    "function",
    "builtin_function_or_method",
    "instance",
    "_Feature"
   ],
   "window_display": false
  }
 },
 "nbformat": 4,
 "nbformat_minor": 4
}
