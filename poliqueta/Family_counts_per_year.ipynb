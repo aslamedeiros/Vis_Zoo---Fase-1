{
 "cells": [
  {
   "cell_type": "markdown",
   "metadata": {},
   "source": [
    "# Family counts per year\n",
    "\n",
    "By **Franklin Oliveira**\n",
    "\n",
    "-----\n",
    "This notebook contains all code necessary to make the \"type\" charts from `poliqueta` database. Here you'll find some basic data treatment and charts' code. \n",
    "\n",
    "Database: <font color='blue'>'IBUFRJ27.07.2020 - visualização.xlsx'</font>."
   ]
  },
  {
   "cell_type": "code",
   "execution_count": 1,
   "metadata": {
    "ExecuteTime": {
     "end_time": "2020-08-11T21:17:01.949453Z",
     "start_time": "2020-08-11T21:17:00.817945Z"
    }
   },
   "outputs": [
    {
     "data": {
      "text/plain": [
       "DataTransformerRegistry.enable('default')"
      ]
     },
     "execution_count": 1,
     "metadata": {},
     "output_type": "execute_result"
    }
   ],
   "source": [
    "import datetime\n",
    "import numpy as np\n",
    "import pandas as pd\n",
    "\n",
    "from collections import defaultdict\n",
    "\n",
    "# quick visualization\n",
    "import matplotlib.pyplot as plt\n",
    "import seaborn as sns\n",
    "\n",
    "# Waffle Charts\n",
    "# from pywaffle import Waffle \n",
    "# docs: https://pywaffle.readthedocs.io/en/latest/examples/block_shape_distance_location_and_direction.html\n",
    "\n",
    "# visualization\n",
    "import altair as alt\n",
    "\n",
    "# enabling notebook renderer\n",
    "# alt.renderers.enable('notebook')\n",
    "alt.renderers.enable('default')\n",
    "\n",
    "# disabling rows limit\n",
    "alt.data_transformers.disable_max_rows()"
   ]
  },
  {
   "cell_type": "markdown",
   "metadata": {},
   "source": [
    "## Importing data..."
   ]
  },
  {
   "cell_type": "code",
   "execution_count": 2,
   "metadata": {
    "ExecuteTime": {
     "end_time": "2020-08-11T21:17:02.044505Z",
     "start_time": "2020-08-11T21:17:01.951597Z"
    }
   },
   "outputs": [],
   "source": [
    "NewTable = pd.read_csv('./data/treated_db.csv', sep=';', encoding='utf-8-sig')"
   ]
  },
  {
   "cell_type": "markdown",
   "metadata": {},
   "source": [
    "<br>\n",
    "\n",
    "<font size=5>**Color Palette per Order**</font>\n",
    "\n",
    "These images were used as inspiration (https://color.adobe.com/create/image)\n",
    "\n",
    "<img src=\"./src/img1.jpg\" width='500px'>\n",
    "\n",
    "<img src=\"./src/img2.jpg\" width='500px'>\n",
    "\n",
    "Cores: \n",
    "\n",
    "    '#8ABFB0',  # azul claro\n",
    "    '#41A681',  # verde\n",
    "    '#7ACAAB',  # verde claro\n",
    "    '#D9C2AD',  # bege\n",
    "    '#0D0D0D',  # preto\n",
    "    '#D96236',  # laranja\n",
    "    '#D94B18',  # laranja escuro\n",
    "    '#FFB27C',  # cor de pele clara\n",
    "    '#732C02',  # marrom\n",
    "    '#86471B',  # mostarda"
   ]
  },
  {
   "cell_type": "code",
   "execution_count": 3,
   "metadata": {
    "ExecuteTime": {
     "end_time": "2020-08-11T21:17:02.066424Z",
     "start_time": "2020-08-11T21:17:02.049325Z"
    }
   },
   "outputs": [
    {
     "data": {
      "text/plain": [
       "Phyllodocida        1691\n",
       "Eunicida             937\n",
       "Sabellida            561\n",
       "Terebellida          269\n",
       "Spionida             226\n",
       "NaN                  220\n",
       "Scolecida            183\n",
       "Amphinomida          134\n",
       "Sipuncula              9\n",
       "Crassiclitellata       1\n",
       "Name: order, dtype: int64"
      ]
     },
     "execution_count": 3,
     "metadata": {},
     "output_type": "execute_result"
    }
   ],
   "source": [
    "# 220 NaNs\n",
    "NewTable['order'].value_counts(dropna=False)"
   ]
  },
  {
   "cell_type": "code",
   "execution_count": 4,
   "metadata": {
    "ExecuteTime": {
     "end_time": "2020-08-11T21:17:02.141308Z",
     "start_time": "2020-08-11T21:17:02.077363Z"
    }
   },
   "outputs": [],
   "source": [
    "ordens = NewTable['order'].unique()\n",
    "cores = [\n",
    "    '#8ABFB0',  # azul claro\n",
    "    '#41A681',  # verde\n",
    "    '#7ACAAB',  # verde claro\n",
    "    '#D9C2AD',  # bege\n",
    "    '#0D0D0D',  # preto\n",
    "    '#D96236',  # laranja\n",
    "    '#D94B18',  # laranja escuro\n",
    "    '#FFB27C',  # cor de pele clara\n",
    "    '#732C02',  # marrom\n",
    "    '#86471B',  # mostarda\n",
    "]\n",
    "\n",
    "cores_ordem = defaultdict()\n",
    "for j in range(len(ordens)):\n",
    "    ordem = ordens[j]\n",
    "    cores_ordem[ordem] = cores[j]\n",
    "    \n",
    "cores_ordem = dict(cores_ordem)"
   ]
  },
  {
   "cell_type": "markdown",
   "metadata": {},
   "source": [
    "<br>\n",
    "\n",
    "\n",
    "## Graphs\n",
    "\n",
    "---\n",
    "### Creating chart: counts per order per year"
   ]
  },
  {
   "cell_type": "code",
   "execution_count": 5,
   "metadata": {
    "ExecuteTime": {
     "end_time": "2020-08-11T21:17:02.238268Z",
     "start_time": "2020-08-11T21:17:02.146728Z"
    }
   },
   "outputs": [],
   "source": [
    "orders = NewTable.groupby(['start_year','order']).count()['class'].reset_index().rename(columns={'class':'counts'})\n",
    "\n",
    "orders.sort_values(['start_year','order'], inplace=True)  # ordering"
   ]
  },
  {
   "cell_type": "code",
   "execution_count": 6,
   "metadata": {
    "ExecuteTime": {
     "end_time": "2020-08-11T21:17:02.332566Z",
     "start_time": "2020-08-11T21:17:02.240309Z"
    }
   },
   "outputs": [],
   "source": [
    "# dropping remaining NaN's\n",
    "orders = orders.dropna(subset=['order'])"
   ]
  },
  {
   "cell_type": "code",
   "execution_count": 7,
   "metadata": {
    "ExecuteTime": {
     "end_time": "2020-08-11T21:17:02.451801Z",
     "start_time": "2020-08-11T21:17:02.335866Z"
    }
   },
   "outputs": [
    {
     "data": {
      "text/html": [
       "\n",
       "<div id=\"altair-viz-160179e468b74646ad4e1058e48986fb\"></div>\n",
       "<script type=\"text/javascript\">\n",
       "  (function(spec, embedOpt){\n",
       "    let outputDiv = document.currentScript.previousElementSibling;\n",
       "    if (outputDiv.id !== \"altair-viz-160179e468b74646ad4e1058e48986fb\") {\n",
       "      outputDiv = document.getElementById(\"altair-viz-160179e468b74646ad4e1058e48986fb\");\n",
       "    }\n",
       "    const paths = {\n",
       "      \"vega\": \"https://cdn.jsdelivr.net/npm//vega@5?noext\",\n",
       "      \"vega-lib\": \"https://cdn.jsdelivr.net/npm//vega-lib?noext\",\n",
       "      \"vega-lite\": \"https://cdn.jsdelivr.net/npm//vega-lite@4.8.1?noext\",\n",
       "      \"vega-embed\": \"https://cdn.jsdelivr.net/npm//vega-embed@6?noext\",\n",
       "    };\n",
       "\n",
       "    function loadScript(lib) {\n",
       "      return new Promise(function(resolve, reject) {\n",
       "        var s = document.createElement('script');\n",
       "        s.src = paths[lib];\n",
       "        s.async = true;\n",
       "        s.onload = () => resolve(paths[lib]);\n",
       "        s.onerror = () => reject(`Error loading script: ${paths[lib]}`);\n",
       "        document.getElementsByTagName(\"head\")[0].appendChild(s);\n",
       "      });\n",
       "    }\n",
       "\n",
       "    function showError(err) {\n",
       "      outputDiv.innerHTML = `<div class=\"error\" style=\"color:red;\">${err}</div>`;\n",
       "      throw err;\n",
       "    }\n",
       "\n",
       "    function displayChart(vegaEmbed) {\n",
       "      vegaEmbed(outputDiv, spec, embedOpt)\n",
       "        .catch(err => showError(`Javascript Error: ${err.message}<br>This usually means there's a typo in your chart specification. See the javascript console for the full traceback.`));\n",
       "    }\n",
       "\n",
       "    if(typeof define === \"function\" && define.amd) {\n",
       "      requirejs.config({paths});\n",
       "      require([\"vega-embed\"], displayChart, err => showError(`Error loading script: ${err.message}`));\n",
       "    } else if (typeof vegaEmbed === \"function\") {\n",
       "      displayChart(vegaEmbed);\n",
       "    } else {\n",
       "      loadScript(\"vega\")\n",
       "        .then(() => loadScript(\"vega-lite\"))\n",
       "        .then(() => loadScript(\"vega-embed\"))\n",
       "        .catch(showError)\n",
       "        .then(() => displayChart(vegaEmbed));\n",
       "    }\n",
       "  })({\"config\": {\"view\": {\"continuousWidth\": 400, \"continuousHeight\": 300}}, \"data\": {\"name\": \"data-2474feb449fb127ce5e8da0b4af98ebc\"}, \"mark\": \"circle\", \"encoding\": {\"color\": {\"type\": \"nominal\", \"field\": \"order\", \"scale\": {\"domain\": [\"Eunicida\", \"Phyllodocida\", \"Sabellida\", \"Scolecida\", \"Spionida\", \"Terebellida\", \"Amphinomida\", NaN, \"Sipuncula\", \"Crassiclitellata\"], \"range\": [\"#8ABFB0\", \"#41A681\", \"#7ACAAB\", \"#D9C2AD\", \"#0D0D0D\", \"#D96236\", \"#D94B18\", \"#FFB27C\", \"#732C02\", \"#86471B\"]}}, \"size\": {\"type\": \"quantitative\", \"field\": \"counts\", \"scale\": {\"range\": [10, 600]}}, \"tooltip\": [{\"type\": \"quantitative\", \"field\": \"start_year\"}, {\"type\": \"quantitative\", \"field\": \"counts\"}], \"x\": {\"type\": \"ordinal\", \"field\": \"start_year\", \"title\": \"Start Year\"}, \"y\": {\"type\": \"nominal\", \"field\": \"order\", \"sort\": {\"field\": \"counts\", \"op\": \"sum\", \"order\": \"descending\"}, \"title\": \"Order\"}}, \"height\": 300, \"title\": \"Number of collected polychaetas per order each year\", \"width\": 800, \"$schema\": \"https://vega.github.io/schema/vega-lite/v4.8.1.json\", \"datasets\": {\"data-2474feb449fb127ce5e8da0b4af98ebc\": [{\"start_year\": 1905.0, \"order\": \"Amphinomida\", \"counts\": 1}, {\"start_year\": 1905.0, \"order\": \"Eunicida\", \"counts\": 1}, {\"start_year\": 1905.0, \"order\": \"Phyllodocida\", \"counts\": 3}, {\"start_year\": 1961.0, \"order\": \"Amphinomida\", \"counts\": 1}, {\"start_year\": 1966.0, \"order\": \"Sabellida\", \"counts\": 2}, {\"start_year\": 1967.0, \"order\": \"Amphinomida\", \"counts\": 1}, {\"start_year\": 1967.0, \"order\": \"Eunicida\", \"counts\": 3}, {\"start_year\": 1971.0, \"order\": \"Sabellida\", \"counts\": 2}, {\"start_year\": 1977.0, \"order\": \"Amphinomida\", \"counts\": 1}, {\"start_year\": 1979.0, \"order\": \"Sabellida\", \"counts\": 2}, {\"start_year\": 1980.0, \"order\": \"Eunicida\", \"counts\": 3}, {\"start_year\": 1982.0, \"order\": \"Eunicida\", \"counts\": 1}, {\"start_year\": 1983.0, \"order\": \"Eunicida\", \"counts\": 1}, {\"start_year\": 1984.0, \"order\": \"Eunicida\", \"counts\": 5}, {\"start_year\": 1986.0, \"order\": \"Eunicida\", \"counts\": 1}, {\"start_year\": 1986.0, \"order\": \"Sabellida\", \"counts\": 2}, {\"start_year\": 1986.0, \"order\": \"Terebellida\", \"counts\": 1}, {\"start_year\": 1991.0, \"order\": \"Sabellida\", \"counts\": 1}, {\"start_year\": 1992.0, \"order\": \"Eunicida\", \"counts\": 2}, {\"start_year\": 1992.0, \"order\": \"Phyllodocida\", \"counts\": 1}, {\"start_year\": 1993.0, \"order\": \"Eunicida\", \"counts\": 5}, {\"start_year\": 1993.0, \"order\": \"Phyllodocida\", \"counts\": 9}, {\"start_year\": 1993.0, \"order\": \"Terebellida\", \"counts\": 4}, {\"start_year\": 1994.0, \"order\": \"Eunicida\", \"counts\": 4}, {\"start_year\": 1994.0, \"order\": \"Phyllodocida\", \"counts\": 5}, {\"start_year\": 1994.0, \"order\": \"Terebellida\", \"counts\": 2}, {\"start_year\": 1996.0, \"order\": \"Eunicida\", \"counts\": 17}, {\"start_year\": 1997.0, \"order\": \"Eunicida\", \"counts\": 44}, {\"start_year\": 1997.0, \"order\": \"Spionida\", \"counts\": 1}, {\"start_year\": 1997.0, \"order\": \"Terebellida\", \"counts\": 2}, {\"start_year\": 1998.0, \"order\": \"Eunicida\", \"counts\": 3}, {\"start_year\": 1998.0, \"order\": \"Phyllodocida\", \"counts\": 468}, {\"start_year\": 1998.0, \"order\": \"Sabellida\", \"counts\": 1}, {\"start_year\": 1998.0, \"order\": \"Scolecida\", \"counts\": 5}, {\"start_year\": 1998.0, \"order\": \"Spionida\", \"counts\": 6}, {\"start_year\": 1998.0, \"order\": \"Terebellida\", \"counts\": 3}, {\"start_year\": 1999.0, \"order\": \"Eunicida\", \"counts\": 2}, {\"start_year\": 1999.0, \"order\": \"Phyllodocida\", \"counts\": 1}, {\"start_year\": 2000.0, \"order\": \"Amphinomida\", \"counts\": 17}, {\"start_year\": 2000.0, \"order\": \"Eunicida\", \"counts\": 216}, {\"start_year\": 2000.0, \"order\": \"Phyllodocida\", \"counts\": 566}, {\"start_year\": 2000.0, \"order\": \"Sabellida\", \"counts\": 23}, {\"start_year\": 2000.0, \"order\": \"Scolecida\", \"counts\": 35}, {\"start_year\": 2000.0, \"order\": \"Spionida\", \"counts\": 29}, {\"start_year\": 2000.0, \"order\": \"Terebellida\", \"counts\": 55}, {\"start_year\": 2001.0, \"order\": \"Amphinomida\", \"counts\": 28}, {\"start_year\": 2001.0, \"order\": \"Crassiclitellata\", \"counts\": 1}, {\"start_year\": 2001.0, \"order\": \"Eunicida\", \"counts\": 102}, {\"start_year\": 2001.0, \"order\": \"Phyllodocida\", \"counts\": 129}, {\"start_year\": 2001.0, \"order\": \"Sabellida\", \"counts\": 14}, {\"start_year\": 2001.0, \"order\": \"Scolecida\", \"counts\": 8}, {\"start_year\": 2001.0, \"order\": \"Spionida\", \"counts\": 4}, {\"start_year\": 2001.0, \"order\": \"Terebellida\", \"counts\": 10}, {\"start_year\": 2002.0, \"order\": \"Amphinomida\", \"counts\": 4}, {\"start_year\": 2002.0, \"order\": \"Eunicida\", \"counts\": 39}, {\"start_year\": 2002.0, \"order\": \"Phyllodocida\", \"counts\": 66}, {\"start_year\": 2002.0, \"order\": \"Sabellida\", \"counts\": 7}, {\"start_year\": 2002.0, \"order\": \"Scolecida\", \"counts\": 18}, {\"start_year\": 2002.0, \"order\": \"Spionida\", \"counts\": 27}, {\"start_year\": 2002.0, \"order\": \"Terebellida\", \"counts\": 17}, {\"start_year\": 2003.0, \"order\": \"Amphinomida\", \"counts\": 7}, {\"start_year\": 2003.0, \"order\": \"Eunicida\", \"counts\": 26}, {\"start_year\": 2003.0, \"order\": \"Phyllodocida\", \"counts\": 56}, {\"start_year\": 2003.0, \"order\": \"Sabellida\", \"counts\": 8}, {\"start_year\": 2003.0, \"order\": \"Scolecida\", \"counts\": 43}, {\"start_year\": 2003.0, \"order\": \"Spionida\", \"counts\": 8}, {\"start_year\": 2003.0, \"order\": \"Terebellida\", \"counts\": 43}, {\"start_year\": 2004.0, \"order\": \"Eunicida\", \"counts\": 1}, {\"start_year\": 2004.0, \"order\": \"Phyllodocida\", \"counts\": 2}, {\"start_year\": 2004.0, \"order\": \"Sabellida\", \"counts\": 6}, {\"start_year\": 2004.0, \"order\": \"Spionida\", \"counts\": 1}, {\"start_year\": 2005.0, \"order\": \"Amphinomida\", \"counts\": 4}, {\"start_year\": 2005.0, \"order\": \"Eunicida\", \"counts\": 99}, {\"start_year\": 2005.0, \"order\": \"Phyllodocida\", \"counts\": 16}, {\"start_year\": 2005.0, \"order\": \"Sabellida\", \"counts\": 3}, {\"start_year\": 2005.0, \"order\": \"Sipuncula\", \"counts\": 1}, {\"start_year\": 2005.0, \"order\": \"Spionida\", \"counts\": 8}, {\"start_year\": 2005.0, \"order\": \"Terebellida\", \"counts\": 1}, {\"start_year\": 2006.0, \"order\": \"Phyllodocida\", \"counts\": 6}, {\"start_year\": 2006.0, \"order\": \"Scolecida\", \"counts\": 4}, {\"start_year\": 2006.0, \"order\": \"Spionida\", \"counts\": 6}, {\"start_year\": 2007.0, \"order\": \"Amphinomida\", \"counts\": 1}, {\"start_year\": 2007.0, \"order\": \"Eunicida\", \"counts\": 8}, {\"start_year\": 2007.0, \"order\": \"Phyllodocida\", \"counts\": 5}, {\"start_year\": 2007.0, \"order\": \"Sabellida\", \"counts\": 2}, {\"start_year\": 2007.0, \"order\": \"Scolecida\", \"counts\": 2}, {\"start_year\": 2007.0, \"order\": \"Spionida\", \"counts\": 2}, {\"start_year\": 2008.0, \"order\": \"Eunicida\", \"counts\": 2}, {\"start_year\": 2008.0, \"order\": \"Phyllodocida\", \"counts\": 32}, {\"start_year\": 2008.0, \"order\": \"Sabellida\", \"counts\": 85}, {\"start_year\": 2008.0, \"order\": \"Scolecida\", \"counts\": 3}, {\"start_year\": 2008.0, \"order\": \"Spionida\", \"counts\": 5}, {\"start_year\": 2008.0, \"order\": \"Terebellida\", \"counts\": 30}, {\"start_year\": 2009.0, \"order\": \"Eunicida\", \"counts\": 9}, {\"start_year\": 2009.0, \"order\": \"Phyllodocida\", \"counts\": 10}, {\"start_year\": 2009.0, \"order\": \"Sabellida\", \"counts\": 98}, {\"start_year\": 2009.0, \"order\": \"Spionida\", \"counts\": 2}, {\"start_year\": 2009.0, \"order\": \"Terebellida\", \"counts\": 2}, {\"start_year\": 2010.0, \"order\": \"Eunicida\", \"counts\": 2}, {\"start_year\": 2011.0, \"order\": \"Amphinomida\", \"counts\": 7}, {\"start_year\": 2011.0, \"order\": \"Eunicida\", \"counts\": 69}, {\"start_year\": 2011.0, \"order\": \"Phyllodocida\", \"counts\": 54}, {\"start_year\": 2011.0, \"order\": \"Sabellida\", \"counts\": 11}, {\"start_year\": 2011.0, \"order\": \"Scolecida\", \"counts\": 3}, {\"start_year\": 2011.0, \"order\": \"Sipuncula\", \"counts\": 2}, {\"start_year\": 2011.0, \"order\": \"Spionida\", \"counts\": 3}, {\"start_year\": 2011.0, \"order\": \"Terebellida\", \"counts\": 17}, {\"start_year\": 2012.0, \"order\": \"Amphinomida\", \"counts\": 2}, {\"start_year\": 2012.0, \"order\": \"Eunicida\", \"counts\": 11}, {\"start_year\": 2012.0, \"order\": \"Phyllodocida\", \"counts\": 15}, {\"start_year\": 2012.0, \"order\": \"Sabellida\", \"counts\": 53}, {\"start_year\": 2012.0, \"order\": \"Scolecida\", \"counts\": 2}, {\"start_year\": 2012.0, \"order\": \"Spionida\", \"counts\": 4}, {\"start_year\": 2012.0, \"order\": \"Terebellida\", \"counts\": 14}, {\"start_year\": 2013.0, \"order\": \"Amphinomida\", \"counts\": 3}, {\"start_year\": 2013.0, \"order\": \"Eunicida\", \"counts\": 36}, {\"start_year\": 2013.0, \"order\": \"Phyllodocida\", \"counts\": 27}, {\"start_year\": 2013.0, \"order\": \"Sabellida\", \"counts\": 37}, {\"start_year\": 2013.0, \"order\": \"Scolecida\", \"counts\": 1}, {\"start_year\": 2013.0, \"order\": \"Spionida\", \"counts\": 2}, {\"start_year\": 2013.0, \"order\": \"Terebellida\", \"counts\": 17}, {\"start_year\": 2014.0, \"order\": \"Amphinomida\", \"counts\": 5}, {\"start_year\": 2014.0, \"order\": \"Eunicida\", \"counts\": 34}, {\"start_year\": 2014.0, \"order\": \"Phyllodocida\", \"counts\": 45}, {\"start_year\": 2014.0, \"order\": \"Sabellida\", \"counts\": 127}, {\"start_year\": 2014.0, \"order\": \"Scolecida\", \"counts\": 7}, {\"start_year\": 2014.0, \"order\": \"Sipuncula\", \"counts\": 2}, {\"start_year\": 2014.0, \"order\": \"Spionida\", \"counts\": 5}, {\"start_year\": 2014.0, \"order\": \"Terebellida\", \"counts\": 12}, {\"start_year\": 2015.0, \"order\": \"Eunicida\", \"counts\": 8}, {\"start_year\": 2015.0, \"order\": \"Phyllodocida\", \"counts\": 4}, {\"start_year\": 2015.0, \"order\": \"Sabellida\", \"counts\": 2}, {\"start_year\": 2015.0, \"order\": \"Sipuncula\", \"counts\": 2}, {\"start_year\": 2015.0, \"order\": \"Spionida\", \"counts\": 6}, {\"start_year\": 2015.0, \"order\": \"Terebellida\", \"counts\": 2}]}}, {\"mode\": \"vega-lite\"});\n",
       "</script>"
      ],
      "text/plain": [
       "alt.Chart(...)"
      ]
     },
     "execution_count": 7,
     "metadata": {},
     "output_type": "execute_result"
    }
   ],
   "source": [
    "g1 = alt.Chart(orders, width=800, height=300, \n",
    "               title='Number of collected polychaetas per order each year').mark_circle().encode(\n",
    "    x= alt.X('start_year', type='ordinal', title='Start Year'),\n",
    "    y= alt.Y('order', type='nominal', title='Order',\n",
    "            sort= alt.EncodingSortField(field='counts', op='sum', order='descending')),\n",
    "    size = alt.Size('counts', scale=alt.Scale(range=[10,600])),\n",
    "    color = alt.Color('order', scale= alt.Scale(domain=ordens, range=cores)),\n",
    "    tooltip= alt.Tooltip(['start_year', 'counts'])\n",
    ")\n",
    "\n",
    "# saving graph\n",
    "g1.save('./graphs/orders_per_year.html')\n",
    "\n",
    "g1"
   ]
  },
  {
   "cell_type": "markdown",
   "metadata": {},
   "source": [
    "### number of polychaetas per family per year"
   ]
  },
  {
   "cell_type": "code",
   "execution_count": 8,
   "metadata": {
    "ExecuteTime": {
     "end_time": "2020-08-11T21:17:02.511035Z",
     "start_time": "2020-08-11T21:17:02.459224Z"
    }
   },
   "outputs": [],
   "source": [
    "teste = NewTable.groupby(['family','start_year']).count()['class'].reset_index().rename(\n",
    "                                                                                    columns={'class':'counts'})\n",
    "\n",
    "teste['start_year'] = teste['start_year'].astype(int)"
   ]
  },
  {
   "cell_type": "markdown",
   "metadata": {},
   "source": [
    "<br>\n",
    "\n",
    "**graph:** family per year"
   ]
  },
  {
   "cell_type": "code",
   "execution_count": 9,
   "metadata": {
    "ExecuteTime": {
     "end_time": "2020-08-11T21:17:02.618188Z",
     "start_time": "2020-08-11T21:17:02.516246Z"
    }
   },
   "outputs": [
    {
     "data": {
      "text/html": [
       "\n",
       "<div id=\"altair-viz-3c0d3f72e5ab4430a1b1fe48a41a7999\"></div>\n",
       "<script type=\"text/javascript\">\n",
       "  (function(spec, embedOpt){\n",
       "    let outputDiv = document.currentScript.previousElementSibling;\n",
       "    if (outputDiv.id !== \"altair-viz-3c0d3f72e5ab4430a1b1fe48a41a7999\") {\n",
       "      outputDiv = document.getElementById(\"altair-viz-3c0d3f72e5ab4430a1b1fe48a41a7999\");\n",
       "    }\n",
       "    const paths = {\n",
       "      \"vega\": \"https://cdn.jsdelivr.net/npm//vega@5?noext\",\n",
       "      \"vega-lib\": \"https://cdn.jsdelivr.net/npm//vega-lib?noext\",\n",
       "      \"vega-lite\": \"https://cdn.jsdelivr.net/npm//vega-lite@4.8.1?noext\",\n",
       "      \"vega-embed\": \"https://cdn.jsdelivr.net/npm//vega-embed@6?noext\",\n",
       "    };\n",
       "\n",
       "    function loadScript(lib) {\n",
       "      return new Promise(function(resolve, reject) {\n",
       "        var s = document.createElement('script');\n",
       "        s.src = paths[lib];\n",
       "        s.async = true;\n",
       "        s.onload = () => resolve(paths[lib]);\n",
       "        s.onerror = () => reject(`Error loading script: ${paths[lib]}`);\n",
       "        document.getElementsByTagName(\"head\")[0].appendChild(s);\n",
       "      });\n",
       "    }\n",
       "\n",
       "    function showError(err) {\n",
       "      outputDiv.innerHTML = `<div class=\"error\" style=\"color:red;\">${err}</div>`;\n",
       "      throw err;\n",
       "    }\n",
       "\n",
       "    function displayChart(vegaEmbed) {\n",
       "      vegaEmbed(outputDiv, spec, embedOpt)\n",
       "        .catch(err => showError(`Javascript Error: ${err.message}<br>This usually means there's a typo in your chart specification. See the javascript console for the full traceback.`));\n",
       "    }\n",
       "\n",
       "    if(typeof define === \"function\" && define.amd) {\n",
       "      requirejs.config({paths});\n",
       "      require([\"vega-embed\"], displayChart, err => showError(`Error loading script: ${err.message}`));\n",
       "    } else if (typeof vegaEmbed === \"function\") {\n",
       "      displayChart(vegaEmbed);\n",
       "    } else {\n",
       "      loadScript(\"vega\")\n",
       "        .then(() => loadScript(\"vega-lite\"))\n",
       "        .then(() => loadScript(\"vega-embed\"))\n",
       "        .catch(showError)\n",
       "        .then(() => displayChart(vegaEmbed));\n",
       "    }\n",
       "  })({\"config\": {\"view\": {\"continuousWidth\": 400, \"continuousHeight\": 300}}, \"data\": {\"name\": \"data-b309a776b9f5a52de529041e44e2cc32\"}, \"mark\": {\"type\": \"circle\", \"size\": 60}, \"encoding\": {\"size\": {\"type\": \"quantitative\", \"field\": \"counts\", \"scale\": {\"range\": [6, 400]}, \"title\": \"Count\"}, \"tooltip\": [{\"type\": \"nominal\", \"field\": \"family\"}, {\"type\": \"quantitative\", \"field\": \"start_year\"}, {\"type\": \"quantitative\", \"field\": \"counts\"}], \"x\": {\"type\": \"ordinal\", \"field\": \"start_year\", \"title\": \"Start Year\"}, \"y\": {\"type\": \"nominal\", \"field\": \"family\", \"sort\": {\"field\": \"counts\", \"op\": \"count\", \"order\": \"descending\"}, \"title\": \"Family\"}}, \"height\": 500, \"title\": \"Number of collected polychaeta of each family per year\", \"width\": 500, \"$schema\": \"https://vega.github.io/schema/vega-lite/v4.8.1.json\", \"datasets\": {\"data-b309a776b9f5a52de529041e44e2cc32\": [{\"family\": \"Acoetidae\", \"start_year\": 2001, \"counts\": 3}, {\"family\": \"Acoetidae\", \"start_year\": 2002, \"counts\": 2}, {\"family\": \"Acoetidae\", \"start_year\": 2012, \"counts\": 2}, {\"family\": \"Alciopidae\", \"start_year\": 1998, \"counts\": 139}, {\"family\": \"Alciopidae\", \"start_year\": 2000, \"counts\": 170}, {\"family\": \"Ampharetidae\", \"start_year\": 1993, \"counts\": 1}, {\"family\": \"Ampharetidae\", \"start_year\": 1994, \"counts\": 1}, {\"family\": \"Ampharetidae\", \"start_year\": 1998, \"counts\": 1}, {\"family\": \"Ampharetidae\", \"start_year\": 2000, \"counts\": 5}, {\"family\": \"Ampharetidae\", \"start_year\": 2001, \"counts\": 2}, {\"family\": \"Ampharetidae\", \"start_year\": 2002, \"counts\": 4}, {\"family\": \"Ampharetidae\", \"start_year\": 2003, \"counts\": 8}, {\"family\": \"Ampharetidae\", \"start_year\": 2008, \"counts\": 1}, {\"family\": \"Ampharetidae\", \"start_year\": 2013, \"counts\": 1}, {\"family\": \"Amphinomidae\", \"start_year\": 1905, \"counts\": 1}, {\"family\": \"Amphinomidae\", \"start_year\": 1961, \"counts\": 1}, {\"family\": \"Amphinomidae\", \"start_year\": 1967, \"counts\": 1}, {\"family\": \"Amphinomidae\", \"start_year\": 1977, \"counts\": 1}, {\"family\": \"Amphinomidae\", \"start_year\": 2000, \"counts\": 17}, {\"family\": \"Amphinomidae\", \"start_year\": 2001, \"counts\": 28}, {\"family\": \"Amphinomidae\", \"start_year\": 2002, \"counts\": 3}, {\"family\": \"Amphinomidae\", \"start_year\": 2003, \"counts\": 7}, {\"family\": \"Amphinomidae\", \"start_year\": 2005, \"counts\": 4}, {\"family\": \"Amphinomidae\", \"start_year\": 2007, \"counts\": 1}, {\"family\": \"Amphinomidae\", \"start_year\": 2011, \"counts\": 7}, {\"family\": \"Amphinomidae\", \"start_year\": 2012, \"counts\": 2}, {\"family\": \"Amphinomidae\", \"start_year\": 2013, \"counts\": 2}, {\"family\": \"Amphinomidae\", \"start_year\": 2014, \"counts\": 5}, {\"family\": \"Aphroditidae\", \"start_year\": 1905, \"counts\": 1}, {\"family\": \"Aphroditidae\", \"start_year\": 2000, \"counts\": 1}, {\"family\": \"Aphroditidae\", \"start_year\": 2001, \"counts\": 15}, {\"family\": \"Aphroditidae\", \"start_year\": 2002, \"counts\": 2}, {\"family\": \"Aphroditidae\", \"start_year\": 2005, \"counts\": 1}, {\"family\": \"Aphroditidae\", \"start_year\": 2013, \"counts\": 1}, {\"family\": \"Apistobranchidae\", \"start_year\": 2003, \"counts\": 2}, {\"family\": \"Apistobranchidae\", \"start_year\": 2012, \"counts\": 1}, {\"family\": \"Capitellidae\", \"start_year\": 1998, \"counts\": 1}, {\"family\": \"Capitellidae\", \"start_year\": 2000, \"counts\": 7}, {\"family\": \"Capitellidae\", \"start_year\": 2001, \"counts\": 1}, {\"family\": \"Capitellidae\", \"start_year\": 2002, \"counts\": 4}, {\"family\": \"Capitellidae\", \"start_year\": 2003, \"counts\": 3}, {\"family\": \"Capitellidae\", \"start_year\": 2006, \"counts\": 1}, {\"family\": \"Capitellidae\", \"start_year\": 2007, \"counts\": 2}, {\"family\": \"Capitellidae\", \"start_year\": 2008, \"counts\": 1}, {\"family\": \"Capitellidae\", \"start_year\": 2012, \"counts\": 2}, {\"family\": \"Capitellidae\", \"start_year\": 2013, \"counts\": 1}, {\"family\": \"Capitellidae\", \"start_year\": 2014, \"counts\": 4}, {\"family\": \"Chaetopteridae\", \"start_year\": 2001, \"counts\": 1}, {\"family\": \"Chaetopteridae\", \"start_year\": 2002, \"counts\": 2}, {\"family\": \"Chaetopteridae\", \"start_year\": 2005, \"counts\": 1}, {\"family\": \"Chaetopteridae\", \"start_year\": 2011, \"counts\": 2}, {\"family\": \"Chaetopteridae\", \"start_year\": 2012, \"counts\": 1}, {\"family\": \"Chrysopetalidae\", \"start_year\": 2000, \"counts\": 1}, {\"family\": \"Chrysopetalidae\", \"start_year\": 2005, \"counts\": 2}, {\"family\": \"Chrysopetalidae\", \"start_year\": 2013, \"counts\": 1}, {\"family\": \"Chrysopetalidae\", \"start_year\": 2014, \"counts\": 2}, {\"family\": \"Cirratulidae\", \"start_year\": 2000, \"counts\": 5}, {\"family\": \"Cirratulidae\", \"start_year\": 2001, \"counts\": 2}, {\"family\": \"Cirratulidae\", \"start_year\": 2002, \"counts\": 1}, {\"family\": \"Cirratulidae\", \"start_year\": 2003, \"counts\": 6}, {\"family\": \"Cirratulidae\", \"start_year\": 2005, \"counts\": 1}, {\"family\": \"Cirratulidae\", \"start_year\": 2009, \"counts\": 2}, {\"family\": \"Cirratulidae\", \"start_year\": 2011, \"counts\": 11}, {\"family\": \"Cirratulidae\", \"start_year\": 2012, \"counts\": 13}, {\"family\": \"Cirratulidae\", \"start_year\": 2013, \"counts\": 11}, {\"family\": \"Cirratulidae\", \"start_year\": 2014, \"counts\": 8}, {\"family\": \"Cirratulidae\", \"start_year\": 2015, \"counts\": 1}, {\"family\": \"Cossuridae\", \"start_year\": 2000, \"counts\": 1}, {\"family\": \"Cossuridae\", \"start_year\": 2001, \"counts\": 1}, {\"family\": \"Dorvilleidae\", \"start_year\": 1998, \"counts\": 1}, {\"family\": \"Dorvilleidae\", \"start_year\": 2000, \"counts\": 3}, {\"family\": \"Dorvilleidae\", \"start_year\": 2003, \"counts\": 2}, {\"family\": \"Dorvilleidae\", \"start_year\": 2005, \"counts\": 2}, {\"family\": \"Dorvilleidae\", \"start_year\": 2011, \"counts\": 1}, {\"family\": \"Dorvilleidae\", \"start_year\": 2013, \"counts\": 2}, {\"family\": \"Dorvilleidae\", \"start_year\": 2014, \"counts\": 2}, {\"family\": \"Eulepethidae\", \"start_year\": 2000, \"counts\": 2}, {\"family\": \"Eulepethidae\", \"start_year\": 2002, \"counts\": 1}, {\"family\": \"Eunicidae\", \"start_year\": 1905, \"counts\": 1}, {\"family\": \"Eunicidae\", \"start_year\": 1967, \"counts\": 3}, {\"family\": \"Eunicidae\", \"start_year\": 1980, \"counts\": 3}, {\"family\": \"Eunicidae\", \"start_year\": 1982, \"counts\": 1}, {\"family\": \"Eunicidae\", \"start_year\": 1983, \"counts\": 1}, {\"family\": \"Eunicidae\", \"start_year\": 1984, \"counts\": 5}, {\"family\": \"Eunicidae\", \"start_year\": 1986, \"counts\": 1}, {\"family\": \"Eunicidae\", \"start_year\": 1992, \"counts\": 2}, {\"family\": \"Eunicidae\", \"start_year\": 1993, \"counts\": 2}, {\"family\": \"Eunicidae\", \"start_year\": 1994, \"counts\": 1}, {\"family\": \"Eunicidae\", \"start_year\": 1996, \"counts\": 17}, {\"family\": \"Eunicidae\", \"start_year\": 1997, \"counts\": 44}, {\"family\": \"Eunicidae\", \"start_year\": 1999, \"counts\": 2}, {\"family\": \"Eunicidae\", \"start_year\": 2000, \"counts\": 185}, {\"family\": \"Eunicidae\", \"start_year\": 2001, \"counts\": 85}, {\"family\": \"Eunicidae\", \"start_year\": 2002, \"counts\": 16}, {\"family\": \"Eunicidae\", \"start_year\": 2003, \"counts\": 3}, {\"family\": \"Eunicidae\", \"start_year\": 2004, \"counts\": 1}, {\"family\": \"Eunicidae\", \"start_year\": 2005, \"counts\": 93}, {\"family\": \"Eunicidae\", \"start_year\": 2007, \"counts\": 6}, {\"family\": \"Eunicidae\", \"start_year\": 2009, \"counts\": 9}, {\"family\": \"Eunicidae\", \"start_year\": 2010, \"counts\": 1}, {\"family\": \"Eunicidae\", \"start_year\": 2011, \"counts\": 52}, {\"family\": \"Eunicidae\", \"start_year\": 2012, \"counts\": 8}, {\"family\": \"Eunicidae\", \"start_year\": 2013, \"counts\": 22}, {\"family\": \"Eunicidae\", \"start_year\": 2014, \"counts\": 19}, {\"family\": \"Eunicidae\", \"start_year\": 2015, \"counts\": 4}, {\"family\": \"Euphrosinidae\", \"start_year\": 2002, \"counts\": 1}, {\"family\": \"Euphrosinidae\", \"start_year\": 2013, \"counts\": 1}, {\"family\": \"Flabelligeridae\", \"start_year\": 2000, \"counts\": 12}, {\"family\": \"Flabelligeridae\", \"start_year\": 2001, \"counts\": 4}, {\"family\": \"Flabelligeridae\", \"start_year\": 2002, \"counts\": 3}, {\"family\": \"Flabelligeridae\", \"start_year\": 2003, \"counts\": 18}, {\"family\": \"Flabelligeridae\", \"start_year\": 2011, \"counts\": 4}, {\"family\": \"Glyceridae\", \"start_year\": 2000, \"counts\": 9}, {\"family\": \"Glyceridae\", \"start_year\": 2001, \"counts\": 16}, {\"family\": \"Glyceridae\", \"start_year\": 2002, \"counts\": 6}, {\"family\": \"Glyceridae\", \"start_year\": 2003, \"counts\": 21}, {\"family\": \"Glyceridae\", \"start_year\": 2006, \"counts\": 2}, {\"family\": \"Glyceridae\", \"start_year\": 2011, \"counts\": 1}, {\"family\": \"Glyceridae\", \"start_year\": 2012, \"counts\": 1}, {\"family\": \"Glyceridae\", \"start_year\": 2013, \"counts\": 1}, {\"family\": \"Glyceridae\", \"start_year\": 2014, \"counts\": 3}, {\"family\": \"Goniadidae\", \"start_year\": 1993, \"counts\": 4}, {\"family\": \"Goniadidae\", \"start_year\": 1994, \"counts\": 1}, {\"family\": \"Goniadidae\", \"start_year\": 1998, \"counts\": 1}, {\"family\": \"Goniadidae\", \"start_year\": 2002, \"counts\": 1}, {\"family\": \"Goniadidae\", \"start_year\": 2003, \"counts\": 4}, {\"family\": \"Goniadidae\", \"start_year\": 2006, \"counts\": 1}, {\"family\": \"Goniadidae\", \"start_year\": 2008, \"counts\": 1}, {\"family\": \"Hesionidae\", \"start_year\": 2000, \"counts\": 1}, {\"family\": \"Hesionidae\", \"start_year\": 2001, \"counts\": 2}, {\"family\": \"Hesionidae\", \"start_year\": 2002, \"counts\": 2}, {\"family\": \"Hesionidae\", \"start_year\": 2011, \"counts\": 3}, {\"family\": \"Hesionidae\", \"start_year\": 2012, \"counts\": 1}, {\"family\": \"Hesionidae\", \"start_year\": 2013, \"counts\": 3}, {\"family\": \"Hesionidae\", \"start_year\": 2014, \"counts\": 5}, {\"family\": \"Iospilidae\", \"start_year\": 1998, \"counts\": 53}, {\"family\": \"Iospilidae\", \"start_year\": 2000, \"counts\": 62}, {\"family\": \"Longosomatidae\", \"start_year\": 2000, \"counts\": 1}, {\"family\": \"Lopadorrhynchidae\", \"start_year\": 1998, \"counts\": 49}, {\"family\": \"Lopadorrhynchidae\", \"start_year\": 2000, \"counts\": 24}, {\"family\": \"Lopadorrhynchidae\", \"start_year\": 2003, \"counts\": 1}, {\"family\": \"Lopadorrhynchidae\", \"start_year\": 2008, \"counts\": 1}, {\"family\": \"Lumbrineridae\", \"start_year\": 1993, \"counts\": 3}, {\"family\": \"Lumbrineridae\", \"start_year\": 1994, \"counts\": 3}, {\"family\": \"Lumbrineridae\", \"start_year\": 1998, \"counts\": 1}, {\"family\": \"Lumbrineridae\", \"start_year\": 2000, \"counts\": 18}, {\"family\": \"Lumbrineridae\", \"start_year\": 2001, \"counts\": 4}, {\"family\": \"Lumbrineridae\", \"start_year\": 2002, \"counts\": 7}, {\"family\": \"Lumbrineridae\", \"start_year\": 2003, \"counts\": 19}, {\"family\": \"Lumbrineridae\", \"start_year\": 2005, \"counts\": 1}, {\"family\": \"Lumbrineridae\", \"start_year\": 2008, \"counts\": 2}, {\"family\": \"Lumbrineridae\", \"start_year\": 2011, \"counts\": 4}, {\"family\": \"Lumbrineridae\", \"start_year\": 2012, \"counts\": 1}, {\"family\": \"Lumbrineridae\", \"start_year\": 2013, \"counts\": 5}, {\"family\": \"Lumbrineridae\", \"start_year\": 2014, \"counts\": 6}, {\"family\": \"Magelonidae\", \"start_year\": 1998, \"counts\": 1}, {\"family\": \"Magelonidae\", \"start_year\": 2000, \"counts\": 4}, {\"family\": \"Magelonidae\", \"start_year\": 2002, \"counts\": 1}, {\"family\": \"Magelonidae\", \"start_year\": 2003, \"counts\": 1}, {\"family\": \"Magelonidae\", \"start_year\": 2005, \"counts\": 2}, {\"family\": \"Magelonidae\", \"start_year\": 2006, \"counts\": 1}, {\"family\": \"Magelonidae\", \"start_year\": 2007, \"counts\": 1}, {\"family\": \"Magelonidae\", \"start_year\": 2008, \"counts\": 1}, {\"family\": \"Magelonidae\", \"start_year\": 2011, \"counts\": 1}, {\"family\": \"Maldanidae\", \"start_year\": 2000, \"counts\": 5}, {\"family\": \"Maldanidae\", \"start_year\": 2001, \"counts\": 2}, {\"family\": \"Maldanidae\", \"start_year\": 2002, \"counts\": 5}, {\"family\": \"Maldanidae\", \"start_year\": 2003, \"counts\": 16}, {\"family\": \"Maldanidae\", \"start_year\": 2011, \"counts\": 1}, {\"family\": \"Megascolecidae\", \"start_year\": 2001, \"counts\": 1}, {\"family\": \"Nan\", \"start_year\": 2002, \"counts\": 1}, {\"family\": \"Nan\", \"start_year\": 2003, \"counts\": 9}, {\"family\": \"Nan\", \"start_year\": 2005, \"counts\": 1}, {\"family\": \"Nan\", \"start_year\": 2007, \"counts\": 1}, {\"family\": \"Nan\", \"start_year\": 2011, \"counts\": 9}, {\"family\": \"Nan\", \"start_year\": 2014, \"counts\": 2}, {\"family\": \"Nan\", \"start_year\": 2015, \"counts\": 2}, {\"family\": \"Nephtyidae\", \"start_year\": 1992, \"counts\": 1}, {\"family\": \"Nephtyidae\", \"start_year\": 2000, \"counts\": 5}, {\"family\": \"Nephtyidae\", \"start_year\": 2001, \"counts\": 4}, {\"family\": \"Nephtyidae\", \"start_year\": 2002, \"counts\": 2}, {\"family\": \"Nephtyidae\", \"start_year\": 2003, \"counts\": 4}, {\"family\": \"Nephtyidae\", \"start_year\": 2008, \"counts\": 1}, {\"family\": \"Nephtyidae\", \"start_year\": 2014, \"counts\": 1}, {\"family\": \"Nereididae\", \"start_year\": 1998, \"counts\": 2}, {\"family\": \"Nereididae\", \"start_year\": 2000, \"counts\": 22}, {\"family\": \"Nereididae\", \"start_year\": 2001, \"counts\": 27}, {\"family\": \"Nereididae\", \"start_year\": 2002, \"counts\": 17}, {\"family\": \"Nereididae\", \"start_year\": 2003, \"counts\": 2}, {\"family\": \"Nereididae\", \"start_year\": 2005, \"counts\": 2}, {\"family\": \"Nereididae\", \"start_year\": 2007, \"counts\": 3}, {\"family\": \"Nereididae\", \"start_year\": 2008, \"counts\": 1}, {\"family\": \"Nereididae\", \"start_year\": 2011, \"counts\": 1}, {\"family\": \"Nereididae\", \"start_year\": 2012, \"counts\": 7}, {\"family\": \"Nereididae\", \"start_year\": 2013, \"counts\": 6}, {\"family\": \"Nereididae\", \"start_year\": 2014, \"counts\": 15}, {\"family\": \"Nereididae\", \"start_year\": 2015, \"counts\": 3}, {\"family\": \"Oenonidae\", \"start_year\": 2000, \"counts\": 3}, {\"family\": \"Oenonidae\", \"start_year\": 2001, \"counts\": 9}, {\"family\": \"Oenonidae\", \"start_year\": 2002, \"counts\": 6}, {\"family\": \"Oenonidae\", \"start_year\": 2005, \"counts\": 2}, {\"family\": \"Oenonidae\", \"start_year\": 2007, \"counts\": 2}, {\"family\": \"Oenonidae\", \"start_year\": 2011, \"counts\": 3}, {\"family\": \"Oenonidae\", \"start_year\": 2012, \"counts\": 1}, {\"family\": \"Oenonidae\", \"start_year\": 2013, \"counts\": 5}, {\"family\": \"Oenonidae\", \"start_year\": 2014, \"counts\": 4}, {\"family\": \"Onuphidae\", \"start_year\": 1998, \"counts\": 1}, {\"family\": \"Onuphidae\", \"start_year\": 2000, \"counts\": 7}, {\"family\": \"Onuphidae\", \"start_year\": 2001, \"counts\": 4}, {\"family\": \"Onuphidae\", \"start_year\": 2002, \"counts\": 7}, {\"family\": \"Onuphidae\", \"start_year\": 2003, \"counts\": 2}, {\"family\": \"Onuphidae\", \"start_year\": 2005, \"counts\": 1}, {\"family\": \"Onuphidae\", \"start_year\": 2010, \"counts\": 1}, {\"family\": \"Onuphidae\", \"start_year\": 2011, \"counts\": 9}, {\"family\": \"Onuphidae\", \"start_year\": 2012, \"counts\": 1}, {\"family\": \"Onuphidae\", \"start_year\": 2013, \"counts\": 2}, {\"family\": \"Onuphidae\", \"start_year\": 2015, \"counts\": 4}, {\"family\": \"Opheliidae\", \"start_year\": 1998, \"counts\": 2}, {\"family\": \"Opheliidae\", \"start_year\": 2000, \"counts\": 3}, {\"family\": \"Opheliidae\", \"start_year\": 2001, \"counts\": 3}, {\"family\": \"Opheliidae\", \"start_year\": 2002, \"counts\": 4}, {\"family\": \"Opheliidae\", \"start_year\": 2003, \"counts\": 6}, {\"family\": \"Opheliidae\", \"start_year\": 2008, \"counts\": 1}, {\"family\": \"Opheliidae\", \"start_year\": 2014, \"counts\": 2}, {\"family\": \"Orbiniidae\", \"start_year\": 1998, \"counts\": 2}, {\"family\": \"Orbiniidae\", \"start_year\": 2000, \"counts\": 15}, {\"family\": \"Orbiniidae\", \"start_year\": 2001, \"counts\": 1}, {\"family\": \"Orbiniidae\", \"start_year\": 2002, \"counts\": 3}, {\"family\": \"Orbiniidae\", \"start_year\": 2003, \"counts\": 7}, {\"family\": \"Orbiniidae\", \"start_year\": 2006, \"counts\": 1}, {\"family\": \"Orbiniidae\", \"start_year\": 2008, \"counts\": 1}, {\"family\": \"Orbiniidae\", \"start_year\": 2011, \"counts\": 2}, {\"family\": \"Oweniidae\", \"start_year\": 1998, \"counts\": 1}, {\"family\": \"Oweniidae\", \"start_year\": 2000, \"counts\": 5}, {\"family\": \"Oweniidae\", \"start_year\": 2002, \"counts\": 1}, {\"family\": \"Oweniidae\", \"start_year\": 2012, \"counts\": 1}, {\"family\": \"Paraonidae\", \"start_year\": 2000, \"counts\": 4}, {\"family\": \"Paraonidae\", \"start_year\": 2002, \"counts\": 1}, {\"family\": \"Paraonidae\", \"start_year\": 2003, \"counts\": 7}, {\"family\": \"Paraonidae\", \"start_year\": 2006, \"counts\": 2}, {\"family\": \"Paraonidae\", \"start_year\": 2014, \"counts\": 1}, {\"family\": \"Pectinariidae\", \"start_year\": 1986, \"counts\": 1}, {\"family\": \"Pectinariidae\", \"start_year\": 1993, \"counts\": 3}, {\"family\": \"Pectinariidae\", \"start_year\": 1994, \"counts\": 1}, {\"family\": \"Pectinariidae\", \"start_year\": 1998, \"counts\": 1}, {\"family\": \"Pectinariidae\", \"start_year\": 2000, \"counts\": 4}, {\"family\": \"Pholoidae\", \"start_year\": 1993, \"counts\": 2}, {\"family\": \"Pholoidae\", \"start_year\": 1994, \"counts\": 2}, {\"family\": \"Pholoidae\", \"start_year\": 2003, \"counts\": 7}, {\"family\": \"Pholoidae\", \"start_year\": 2007, \"counts\": 1}, {\"family\": \"Phyllodocidae\", \"start_year\": 1905, \"counts\": 1}, {\"family\": \"Phyllodocidae\", \"start_year\": 1998, \"counts\": 3}, {\"family\": \"Phyllodocidae\", \"start_year\": 2000, \"counts\": 7}, {\"family\": \"Phyllodocidae\", \"start_year\": 2001, \"counts\": 28}, {\"family\": \"Phyllodocidae\", \"start_year\": 2002, \"counts\": 8}, {\"family\": \"Phyllodocidae\", \"start_year\": 2003, \"counts\": 1}, {\"family\": \"Phyllodocidae\", \"start_year\": 2005, \"counts\": 1}, {\"family\": \"Phyllodocidae\", \"start_year\": 2011, \"counts\": 1}, {\"family\": \"Phyllodocidae\", \"start_year\": 2013, \"counts\": 3}, {\"family\": \"Phyllodocidae\", \"start_year\": 2014, \"counts\": 2}, {\"family\": \"Phyllodocidae\", \"start_year\": 2015, \"counts\": 1}, {\"family\": \"Pilargidae\", \"start_year\": 1993, \"counts\": 3}, {\"family\": \"Pilargidae\", \"start_year\": 1994, \"counts\": 2}, {\"family\": \"Pilargidae\", \"start_year\": 1998, \"counts\": 1}, {\"family\": \"Pilargidae\", \"start_year\": 1999, \"counts\": 1}, {\"family\": \"Pilargidae\", \"start_year\": 2000, \"counts\": 3}, {\"family\": \"Pilargidae\", \"start_year\": 2002, \"counts\": 4}, {\"family\": \"Pilargidae\", \"start_year\": 2003, \"counts\": 1}, {\"family\": \"Pilargidae\", \"start_year\": 2004, \"counts\": 1}, {\"family\": \"Pilargidae\", \"start_year\": 2008, \"counts\": 3}, {\"family\": \"Poecilochaetidae\", \"start_year\": 2000, \"counts\": 3}, {\"family\": \"Poecilochaetidae\", \"start_year\": 2002, \"counts\": 1}, {\"family\": \"Poecilochaetidae\", \"start_year\": 2003, \"counts\": 3}, {\"family\": \"Poecilochaetidae\", \"start_year\": 2005, \"counts\": 1}, {\"family\": \"Poecilochaetidae\", \"start_year\": 2008, \"counts\": 1}, {\"family\": \"Polynoidae\", \"start_year\": 1905, \"counts\": 1}, {\"family\": \"Polynoidae\", \"start_year\": 1998, \"counts\": 17}, {\"family\": \"Polynoidae\", \"start_year\": 2000, \"counts\": 20}, {\"family\": \"Polynoidae\", \"start_year\": 2001, \"counts\": 18}, {\"family\": \"Polynoidae\", \"start_year\": 2002, \"counts\": 8}, {\"family\": \"Polynoidae\", \"start_year\": 2003, \"counts\": 6}, {\"family\": \"Polynoidae\", \"start_year\": 2004, \"counts\": 1}, {\"family\": \"Polynoidae\", \"start_year\": 2005, \"counts\": 9}, {\"family\": \"Polynoidae\", \"start_year\": 2006, \"counts\": 2}, {\"family\": \"Polynoidae\", \"start_year\": 2008, \"counts\": 22}, {\"family\": \"Polynoidae\", \"start_year\": 2009, \"counts\": 10}, {\"family\": \"Polynoidae\", \"start_year\": 2011, \"counts\": 4}, {\"family\": \"Polynoidae\", \"start_year\": 2013, \"counts\": 4}, {\"family\": \"Polynoidae\", \"start_year\": 2014, \"counts\": 5}, {\"family\": \"Pontodoridae\", \"start_year\": 2000, \"counts\": 1}, {\"family\": \"Sabellariidae\", \"start_year\": 1991, \"counts\": 1}, {\"family\": \"Sabellariidae\", \"start_year\": 2002, \"counts\": 1}, {\"family\": \"Sabellariidae\", \"start_year\": 2007, \"counts\": 2}, {\"family\": \"Sabellariidae\", \"start_year\": 2012, \"counts\": 52}, {\"family\": \"Sabellariidae\", \"start_year\": 2013, \"counts\": 30}, {\"family\": \"Sabellariidae\", \"start_year\": 2014, \"counts\": 121}, {\"family\": \"Sabellidae\", \"start_year\": 1966, \"counts\": 2}, {\"family\": \"Sabellidae\", \"start_year\": 1971, \"counts\": 2}, {\"family\": \"Sabellidae\", \"start_year\": 1979, \"counts\": 2}, {\"family\": \"Sabellidae\", \"start_year\": 1986, \"counts\": 1}, {\"family\": \"Sabellidae\", \"start_year\": 2000, \"counts\": 17}, {\"family\": \"Sabellidae\", \"start_year\": 2001, \"counts\": 7}, {\"family\": \"Sabellidae\", \"start_year\": 2002, \"counts\": 4}, {\"family\": \"Sabellidae\", \"start_year\": 2003, \"counts\": 7}, {\"family\": \"Sabellidae\", \"start_year\": 2004, \"counts\": 3}, {\"family\": \"Sabellidae\", \"start_year\": 2005, \"counts\": 2}, {\"family\": \"Sabellidae\", \"start_year\": 2008, \"counts\": 85}, {\"family\": \"Sabellidae\", \"start_year\": 2009, \"counts\": 98}, {\"family\": \"Sabellidae\", \"start_year\": 2011, \"counts\": 3}, {\"family\": \"Sabellidae\", \"start_year\": 2013, \"counts\": 6}, {\"family\": \"Sabellidae\", \"start_year\": 2014, \"counts\": 6}, {\"family\": \"Scalibregmatidae\", \"start_year\": 2002, \"counts\": 1}, {\"family\": \"Scalibregmatidae\", \"start_year\": 2003, \"counts\": 4}, {\"family\": \"Serpulidae\", \"start_year\": 1986, \"counts\": 1}, {\"family\": \"Serpulidae\", \"start_year\": 2000, \"counts\": 1}, {\"family\": \"Serpulidae\", \"start_year\": 2001, \"counts\": 7}, {\"family\": \"Serpulidae\", \"start_year\": 2002, \"counts\": 1}, {\"family\": \"Serpulidae\", \"start_year\": 2004, \"counts\": 3}, {\"family\": \"Serpulidae\", \"start_year\": 2005, \"counts\": 1}, {\"family\": \"Serpulidae\", \"start_year\": 2008, \"counts\": 1}, {\"family\": \"Serpulidae\", \"start_year\": 2011, \"counts\": 8}, {\"family\": \"Serpulidae\", \"start_year\": 2013, \"counts\": 1}, {\"family\": \"Serpulidae\", \"start_year\": 2015, \"counts\": 2}, {\"family\": \"Sigalionidae\", \"start_year\": 1998, \"counts\": 3}, {\"family\": \"Sigalionidae\", \"start_year\": 2000, \"counts\": 11}, {\"family\": \"Sigalionidae\", \"start_year\": 2002, \"counts\": 4}, {\"family\": \"Sigalionidae\", \"start_year\": 2003, \"counts\": 3}, {\"family\": \"Sigalionidae\", \"start_year\": 2006, \"counts\": 1}, {\"family\": \"Sigalionidae\", \"start_year\": 2008, \"counts\": 2}, {\"family\": \"Sigalionidae\", \"start_year\": 2011, \"counts\": 1}, {\"family\": \"Sigalionidae\", \"start_year\": 2012, \"counts\": 1}, {\"family\": \"Sphaerodoridae\", \"start_year\": 2003, \"counts\": 1}, {\"family\": \"Spionidae\", \"start_year\": 1997, \"counts\": 1}, {\"family\": \"Spionidae\", \"start_year\": 1998, \"counts\": 5}, {\"family\": \"Spionidae\", \"start_year\": 2000, \"counts\": 21}, {\"family\": \"Spionidae\", \"start_year\": 2001, \"counts\": 3}, {\"family\": \"Spionidae\", \"start_year\": 2002, \"counts\": 23}, {\"family\": \"Spionidae\", \"start_year\": 2003, \"counts\": 2}, {\"family\": \"Spionidae\", \"start_year\": 2004, \"counts\": 1}, {\"family\": \"Spionidae\", \"start_year\": 2005, \"counts\": 4}, {\"family\": \"Spionidae\", \"start_year\": 2006, \"counts\": 5}, {\"family\": \"Spionidae\", \"start_year\": 2007, \"counts\": 1}, {\"family\": \"Spionidae\", \"start_year\": 2008, \"counts\": 3}, {\"family\": \"Spionidae\", \"start_year\": 2009, \"counts\": 2}, {\"family\": \"Spionidae\", \"start_year\": 2012, \"counts\": 2}, {\"family\": \"Spionidae\", \"start_year\": 2013, \"counts\": 2}, {\"family\": \"Spionidae\", \"start_year\": 2014, \"counts\": 5}, {\"family\": \"Spionidae\", \"start_year\": 2015, \"counts\": 6}, {\"family\": \"Sternaspidae\", \"start_year\": 1998, \"counts\": 1}, {\"family\": \"Sternaspidae\", \"start_year\": 2000, \"counts\": 1}, {\"family\": \"Sternaspidae\", \"start_year\": 2001, \"counts\": 1}, {\"family\": \"Sternaspidae\", \"start_year\": 2002, \"counts\": 1}, {\"family\": \"Sternaspidae\", \"start_year\": 2003, \"counts\": 7}, {\"family\": \"Sternaspidae\", \"start_year\": 2008, \"counts\": 29}, {\"family\": \"Syllidae\", \"start_year\": 1998, \"counts\": 5}, {\"family\": \"Syllidae\", \"start_year\": 2000, \"counts\": 12}, {\"family\": \"Syllidae\", \"start_year\": 2001, \"counts\": 16}, {\"family\": \"Syllidae\", \"start_year\": 2002, \"counts\": 11}, {\"family\": \"Syllidae\", \"start_year\": 2003, \"counts\": 6}, {\"family\": \"Syllidae\", \"start_year\": 2005, \"counts\": 1}, {\"family\": \"Syllidae\", \"start_year\": 2007, \"counts\": 1}, {\"family\": \"Syllidae\", \"start_year\": 2011, \"counts\": 43}, {\"family\": \"Syllidae\", \"start_year\": 2012, \"counts\": 3}, {\"family\": \"Syllidae\", \"start_year\": 2013, \"counts\": 8}, {\"family\": \"Syllidae\", \"start_year\": 2014, \"counts\": 15}, {\"family\": \"Terebellidae\", \"start_year\": 2000, \"counts\": 8}, {\"family\": \"Terebellidae\", \"start_year\": 2001, \"counts\": 1}, {\"family\": \"Terebellidae\", \"start_year\": 2002, \"counts\": 8}, {\"family\": \"Terebellidae\", \"start_year\": 2003, \"counts\": 3}, {\"family\": \"Terebellidae\", \"start_year\": 2011, \"counts\": 2}, {\"family\": \"Terebellidae\", \"start_year\": 2012, \"counts\": 1}, {\"family\": \"Terebellidae\", \"start_year\": 2013, \"counts\": 5}, {\"family\": \"Terebellidae\", \"start_year\": 2014, \"counts\": 4}, {\"family\": \"Terebellidae\", \"start_year\": 2015, \"counts\": 1}, {\"family\": \"Tomopteridae\", \"start_year\": 1998, \"counts\": 80}, {\"family\": \"Tomopteridae\", \"start_year\": 2000, \"counts\": 91}, {\"family\": \"Trichobranchidae\", \"start_year\": 1997, \"counts\": 2}, {\"family\": \"Trichobranchidae\", \"start_year\": 2000, \"counts\": 20}, {\"family\": \"Trichobranchidae\", \"start_year\": 2003, \"counts\": 1}, {\"family\": \"Typhloscolecidae\", \"start_year\": 1998, \"counts\": 115}, {\"family\": \"Typhloscolecidae\", \"start_year\": 2000, \"counts\": 124}]}}, {\"mode\": \"vega-lite\"});\n",
       "</script>"
      ],
      "text/plain": [
       "alt.Chart(...)"
      ]
     },
     "execution_count": 9,
     "metadata": {},
     "output_type": "execute_result"
    }
   ],
   "source": [
    "g1 = alt.Chart(teste,\n",
    "               width=500, height=500, title='Number of collected polychaeta of each family per year').mark_circle(\n",
    "                                                                                size=60).encode(\n",
    "    x= alt.X('start_year', type='ordinal', title='Start Year'),\n",
    "    y= alt.Y('family', type='nominal', title='Family',\n",
    "            sort= alt.EncodingSortField(field='counts', op='count', order='descending')),\n",
    "    size= alt.Size('counts', title='Count', scale=alt.Scale(range=[6,400])),\n",
    "    tooltip = alt.Tooltip(['family', 'start_year', 'counts'])\n",
    ")\n",
    "\n",
    "g1.save('./graphs/familias_por_ano.html')\n",
    "\n",
    "g1"
   ]
  },
  {
   "cell_type": "code",
   "execution_count": 10,
   "metadata": {
    "ExecuteTime": {
     "end_time": "2020-08-11T21:17:02.717577Z",
     "start_time": "2020-08-11T21:17:02.622047Z"
    }
   },
   "outputs": [],
   "source": [
    "teste = NewTable.groupby(['family','order','start_year']).count()['class'].reset_index().rename(\n",
    "                                                                                    columns={'class':'counts'})\n",
    "\n",
    "teste['start_year'] = teste['start_year'].astype(int)"
   ]
  },
  {
   "cell_type": "code",
   "execution_count": 11,
   "metadata": {
    "ExecuteTime": {
     "end_time": "2020-08-11T21:17:02.812686Z",
     "start_time": "2020-08-11T21:17:02.729154Z"
    }
   },
   "outputs": [
    {
     "data": {
      "text/html": [
       "\n",
       "<div id=\"altair-viz-be6163782ceb43fb946598d1e60c2e7d\"></div>\n",
       "<script type=\"text/javascript\">\n",
       "  (function(spec, embedOpt){\n",
       "    let outputDiv = document.currentScript.previousElementSibling;\n",
       "    if (outputDiv.id !== \"altair-viz-be6163782ceb43fb946598d1e60c2e7d\") {\n",
       "      outputDiv = document.getElementById(\"altair-viz-be6163782ceb43fb946598d1e60c2e7d\");\n",
       "    }\n",
       "    const paths = {\n",
       "      \"vega\": \"https://cdn.jsdelivr.net/npm//vega@5?noext\",\n",
       "      \"vega-lib\": \"https://cdn.jsdelivr.net/npm//vega-lib?noext\",\n",
       "      \"vega-lite\": \"https://cdn.jsdelivr.net/npm//vega-lite@4.8.1?noext\",\n",
       "      \"vega-embed\": \"https://cdn.jsdelivr.net/npm//vega-embed@6?noext\",\n",
       "    };\n",
       "\n",
       "    function loadScript(lib) {\n",
       "      return new Promise(function(resolve, reject) {\n",
       "        var s = document.createElement('script');\n",
       "        s.src = paths[lib];\n",
       "        s.async = true;\n",
       "        s.onload = () => resolve(paths[lib]);\n",
       "        s.onerror = () => reject(`Error loading script: ${paths[lib]}`);\n",
       "        document.getElementsByTagName(\"head\")[0].appendChild(s);\n",
       "      });\n",
       "    }\n",
       "\n",
       "    function showError(err) {\n",
       "      outputDiv.innerHTML = `<div class=\"error\" style=\"color:red;\">${err}</div>`;\n",
       "      throw err;\n",
       "    }\n",
       "\n",
       "    function displayChart(vegaEmbed) {\n",
       "      vegaEmbed(outputDiv, spec, embedOpt)\n",
       "        .catch(err => showError(`Javascript Error: ${err.message}<br>This usually means there's a typo in your chart specification. See the javascript console for the full traceback.`));\n",
       "    }\n",
       "\n",
       "    if(typeof define === \"function\" && define.amd) {\n",
       "      requirejs.config({paths});\n",
       "      require([\"vega-embed\"], displayChart, err => showError(`Error loading script: ${err.message}`));\n",
       "    } else if (typeof vegaEmbed === \"function\") {\n",
       "      displayChart(vegaEmbed);\n",
       "    } else {\n",
       "      loadScript(\"vega\")\n",
       "        .then(() => loadScript(\"vega-lite\"))\n",
       "        .then(() => loadScript(\"vega-embed\"))\n",
       "        .catch(showError)\n",
       "        .then(() => displayChart(vegaEmbed));\n",
       "    }\n",
       "  })({\"config\": {\"view\": {\"continuousWidth\": 400, \"continuousHeight\": 300}}, \"data\": {\"name\": \"data-772e924cd04d1b9f57325a8f368367bd\"}, \"mark\": {\"type\": \"circle\", \"size\": 60}, \"encoding\": {\"color\": {\"type\": \"nominal\", \"field\": \"order\", \"scale\": {\"domain\": [\"Eunicida\", \"Phyllodocida\", \"Sabellida\", \"Scolecida\", \"Spionida\", \"Terebellida\", \"Amphinomida\", NaN, \"Sipuncula\", \"Crassiclitellata\"], \"range\": [\"#8ABFB0\", \"#41A681\", \"#7ACAAB\", \"#D9C2AD\", \"#0D0D0D\", \"#D96236\", \"#D94B18\", \"#FFB27C\", \"#732C02\", \"#86471B\"]}}, \"size\": {\"type\": \"quantitative\", \"field\": \"counts\", \"scale\": {\"range\": [6, 400]}, \"title\": \"Count\"}, \"tooltip\": [{\"type\": \"nominal\", \"field\": \"family\"}, {\"type\": \"quantitative\", \"field\": \"start_year\"}, {\"type\": \"quantitative\", \"field\": \"counts\"}], \"x\": {\"type\": \"ordinal\", \"field\": \"start_year\", \"title\": \"Start Year\"}, \"y\": {\"type\": \"nominal\", \"field\": \"family\", \"sort\": {\"field\": \"counts\", \"op\": \"sum\", \"order\": \"descending\"}, \"title\": \"Family\"}}, \"height\": 500, \"title\": \"Number of collected animals of each family per year\", \"width\": 500, \"$schema\": \"https://vega.github.io/schema/vega-lite/v4.8.1.json\", \"datasets\": {\"data-772e924cd04d1b9f57325a8f368367bd\": [{\"family\": \"Acoetidae\", \"order\": \"Phyllodocida\", \"start_year\": 2001, \"counts\": 3}, {\"family\": \"Acoetidae\", \"order\": \"Phyllodocida\", \"start_year\": 2002, \"counts\": 2}, {\"family\": \"Acoetidae\", \"order\": \"Phyllodocida\", \"start_year\": 2012, \"counts\": 2}, {\"family\": \"Alciopidae\", \"order\": \"Phyllodocida\", \"start_year\": 1998, \"counts\": 139}, {\"family\": \"Alciopidae\", \"order\": \"Phyllodocida\", \"start_year\": 2000, \"counts\": 170}, {\"family\": \"Ampharetidae\", \"order\": \"Terebellida\", \"start_year\": 1993, \"counts\": 1}, {\"family\": \"Ampharetidae\", \"order\": \"Terebellida\", \"start_year\": 1994, \"counts\": 1}, {\"family\": \"Ampharetidae\", \"order\": \"Terebellida\", \"start_year\": 1998, \"counts\": 1}, {\"family\": \"Ampharetidae\", \"order\": \"Terebellida\", \"start_year\": 2000, \"counts\": 5}, {\"family\": \"Ampharetidae\", \"order\": \"Terebellida\", \"start_year\": 2001, \"counts\": 2}, {\"family\": \"Ampharetidae\", \"order\": \"Terebellida\", \"start_year\": 2002, \"counts\": 4}, {\"family\": \"Ampharetidae\", \"order\": \"Terebellida\", \"start_year\": 2003, \"counts\": 8}, {\"family\": \"Ampharetidae\", \"order\": \"Terebellida\", \"start_year\": 2008, \"counts\": 1}, {\"family\": \"Ampharetidae\", \"order\": \"Terebellida\", \"start_year\": 2013, \"counts\": 1}, {\"family\": \"Amphinomidae\", \"order\": \"Amphinomida\", \"start_year\": 1905, \"counts\": 1}, {\"family\": \"Amphinomidae\", \"order\": \"Amphinomida\", \"start_year\": 1961, \"counts\": 1}, {\"family\": \"Amphinomidae\", \"order\": \"Amphinomida\", \"start_year\": 1967, \"counts\": 1}, {\"family\": \"Amphinomidae\", \"order\": \"Amphinomida\", \"start_year\": 1977, \"counts\": 1}, {\"family\": \"Amphinomidae\", \"order\": \"Amphinomida\", \"start_year\": 2000, \"counts\": 17}, {\"family\": \"Amphinomidae\", \"order\": \"Amphinomida\", \"start_year\": 2001, \"counts\": 28}, {\"family\": \"Amphinomidae\", \"order\": \"Amphinomida\", \"start_year\": 2002, \"counts\": 3}, {\"family\": \"Amphinomidae\", \"order\": \"Amphinomida\", \"start_year\": 2003, \"counts\": 7}, {\"family\": \"Amphinomidae\", \"order\": \"Amphinomida\", \"start_year\": 2005, \"counts\": 4}, {\"family\": \"Amphinomidae\", \"order\": \"Amphinomida\", \"start_year\": 2007, \"counts\": 1}, {\"family\": \"Amphinomidae\", \"order\": \"Amphinomida\", \"start_year\": 2011, \"counts\": 7}, {\"family\": \"Amphinomidae\", \"order\": \"Amphinomida\", \"start_year\": 2012, \"counts\": 2}, {\"family\": \"Amphinomidae\", \"order\": \"Amphinomida\", \"start_year\": 2013, \"counts\": 2}, {\"family\": \"Amphinomidae\", \"order\": \"Amphinomida\", \"start_year\": 2014, \"counts\": 5}, {\"family\": \"Aphroditidae\", \"order\": \"Phyllodocida\", \"start_year\": 1905, \"counts\": 1}, {\"family\": \"Aphroditidae\", \"order\": \"Phyllodocida\", \"start_year\": 2000, \"counts\": 1}, {\"family\": \"Aphroditidae\", \"order\": \"Phyllodocida\", \"start_year\": 2001, \"counts\": 15}, {\"family\": \"Aphroditidae\", \"order\": \"Phyllodocida\", \"start_year\": 2002, \"counts\": 2}, {\"family\": \"Aphroditidae\", \"order\": \"Phyllodocida\", \"start_year\": 2005, \"counts\": 1}, {\"family\": \"Aphroditidae\", \"order\": \"Phyllodocida\", \"start_year\": 2013, \"counts\": 1}, {\"family\": \"Apistobranchidae\", \"order\": \"Spionida\", \"start_year\": 2003, \"counts\": 2}, {\"family\": \"Apistobranchidae\", \"order\": \"Spionida\", \"start_year\": 2012, \"counts\": 1}, {\"family\": \"Capitellidae\", \"order\": \"Scolecida\", \"start_year\": 1998, \"counts\": 1}, {\"family\": \"Capitellidae\", \"order\": \"Scolecida\", \"start_year\": 2000, \"counts\": 7}, {\"family\": \"Capitellidae\", \"order\": \"Scolecida\", \"start_year\": 2001, \"counts\": 1}, {\"family\": \"Capitellidae\", \"order\": \"Scolecida\", \"start_year\": 2002, \"counts\": 4}, {\"family\": \"Capitellidae\", \"order\": \"Scolecida\", \"start_year\": 2003, \"counts\": 3}, {\"family\": \"Capitellidae\", \"order\": \"Scolecida\", \"start_year\": 2006, \"counts\": 1}, {\"family\": \"Capitellidae\", \"order\": \"Scolecida\", \"start_year\": 2007, \"counts\": 2}, {\"family\": \"Capitellidae\", \"order\": \"Scolecida\", \"start_year\": 2008, \"counts\": 1}, {\"family\": \"Capitellidae\", \"order\": \"Scolecida\", \"start_year\": 2012, \"counts\": 2}, {\"family\": \"Capitellidae\", \"order\": \"Scolecida\", \"start_year\": 2013, \"counts\": 1}, {\"family\": \"Capitellidae\", \"order\": \"Scolecida\", \"start_year\": 2014, \"counts\": 4}, {\"family\": \"Chaetopteridae\", \"order\": \"Spionida\", \"start_year\": 2001, \"counts\": 1}, {\"family\": \"Chaetopteridae\", \"order\": \"Spionida\", \"start_year\": 2002, \"counts\": 2}, {\"family\": \"Chaetopteridae\", \"order\": \"Spionida\", \"start_year\": 2005, \"counts\": 1}, {\"family\": \"Chaetopteridae\", \"order\": \"Spionida\", \"start_year\": 2011, \"counts\": 2}, {\"family\": \"Chaetopteridae\", \"order\": \"Spionida\", \"start_year\": 2012, \"counts\": 1}, {\"family\": \"Chrysopetalidae\", \"order\": \"Phyllodocida\", \"start_year\": 2000, \"counts\": 1}, {\"family\": \"Chrysopetalidae\", \"order\": \"Phyllodocida\", \"start_year\": 2005, \"counts\": 2}, {\"family\": \"Chrysopetalidae\", \"order\": \"Phyllodocida\", \"start_year\": 2013, \"counts\": 1}, {\"family\": \"Chrysopetalidae\", \"order\": \"Phyllodocida\", \"start_year\": 2014, \"counts\": 2}, {\"family\": \"Cirratulidae\", \"order\": \"Terebellida\", \"start_year\": 2000, \"counts\": 5}, {\"family\": \"Cirratulidae\", \"order\": \"Terebellida\", \"start_year\": 2001, \"counts\": 2}, {\"family\": \"Cirratulidae\", \"order\": \"Terebellida\", \"start_year\": 2002, \"counts\": 1}, {\"family\": \"Cirratulidae\", \"order\": \"Terebellida\", \"start_year\": 2003, \"counts\": 6}, {\"family\": \"Cirratulidae\", \"order\": \"Terebellida\", \"start_year\": 2005, \"counts\": 1}, {\"family\": \"Cirratulidae\", \"order\": \"Terebellida\", \"start_year\": 2009, \"counts\": 2}, {\"family\": \"Cirratulidae\", \"order\": \"Terebellida\", \"start_year\": 2011, \"counts\": 11}, {\"family\": \"Cirratulidae\", \"order\": \"Terebellida\", \"start_year\": 2012, \"counts\": 13}, {\"family\": \"Cirratulidae\", \"order\": \"Terebellida\", \"start_year\": 2013, \"counts\": 11}, {\"family\": \"Cirratulidae\", \"order\": \"Terebellida\", \"start_year\": 2014, \"counts\": 8}, {\"family\": \"Cirratulidae\", \"order\": \"Terebellida\", \"start_year\": 2015, \"counts\": 1}, {\"family\": \"Cossuridae\", \"order\": \"Scolecida\", \"start_year\": 2000, \"counts\": 1}, {\"family\": \"Cossuridae\", \"order\": \"Scolecida\", \"start_year\": 2001, \"counts\": 1}, {\"family\": \"Dorvilleidae\", \"order\": \"Eunicida\", \"start_year\": 1998, \"counts\": 1}, {\"family\": \"Dorvilleidae\", \"order\": \"Eunicida\", \"start_year\": 2000, \"counts\": 3}, {\"family\": \"Dorvilleidae\", \"order\": \"Eunicida\", \"start_year\": 2003, \"counts\": 2}, {\"family\": \"Dorvilleidae\", \"order\": \"Eunicida\", \"start_year\": 2005, \"counts\": 2}, {\"family\": \"Dorvilleidae\", \"order\": \"Eunicida\", \"start_year\": 2011, \"counts\": 1}, {\"family\": \"Dorvilleidae\", \"order\": \"Eunicida\", \"start_year\": 2013, \"counts\": 2}, {\"family\": \"Dorvilleidae\", \"order\": \"Eunicida\", \"start_year\": 2014, \"counts\": 2}, {\"family\": \"Eulepethidae\", \"order\": \"Phyllodocida\", \"start_year\": 2000, \"counts\": 2}, {\"family\": \"Eulepethidae\", \"order\": \"Phyllodocida\", \"start_year\": 2002, \"counts\": 1}, {\"family\": \"Eunicidae\", \"order\": \"Eunicida\", \"start_year\": 1905, \"counts\": 1}, {\"family\": \"Eunicidae\", \"order\": \"Eunicida\", \"start_year\": 1967, \"counts\": 3}, {\"family\": \"Eunicidae\", \"order\": \"Eunicida\", \"start_year\": 1980, \"counts\": 3}, {\"family\": \"Eunicidae\", \"order\": \"Eunicida\", \"start_year\": 1982, \"counts\": 1}, {\"family\": \"Eunicidae\", \"order\": \"Eunicida\", \"start_year\": 1983, \"counts\": 1}, {\"family\": \"Eunicidae\", \"order\": \"Eunicida\", \"start_year\": 1984, \"counts\": 5}, {\"family\": \"Eunicidae\", \"order\": \"Eunicida\", \"start_year\": 1986, \"counts\": 1}, {\"family\": \"Eunicidae\", \"order\": \"Eunicida\", \"start_year\": 1992, \"counts\": 2}, {\"family\": \"Eunicidae\", \"order\": \"Eunicida\", \"start_year\": 1993, \"counts\": 2}, {\"family\": \"Eunicidae\", \"order\": \"Eunicida\", \"start_year\": 1994, \"counts\": 1}, {\"family\": \"Eunicidae\", \"order\": \"Eunicida\", \"start_year\": 1996, \"counts\": 17}, {\"family\": \"Eunicidae\", \"order\": \"Eunicida\", \"start_year\": 1997, \"counts\": 44}, {\"family\": \"Eunicidae\", \"order\": \"Eunicida\", \"start_year\": 1999, \"counts\": 2}, {\"family\": \"Eunicidae\", \"order\": \"Eunicida\", \"start_year\": 2000, \"counts\": 185}, {\"family\": \"Eunicidae\", \"order\": \"Eunicida\", \"start_year\": 2001, \"counts\": 85}, {\"family\": \"Eunicidae\", \"order\": \"Eunicida\", \"start_year\": 2002, \"counts\": 16}, {\"family\": \"Eunicidae\", \"order\": \"Eunicida\", \"start_year\": 2003, \"counts\": 3}, {\"family\": \"Eunicidae\", \"order\": \"Eunicida\", \"start_year\": 2004, \"counts\": 1}, {\"family\": \"Eunicidae\", \"order\": \"Eunicida\", \"start_year\": 2005, \"counts\": 93}, {\"family\": \"Eunicidae\", \"order\": \"Eunicida\", \"start_year\": 2007, \"counts\": 6}, {\"family\": \"Eunicidae\", \"order\": \"Eunicida\", \"start_year\": 2009, \"counts\": 9}, {\"family\": \"Eunicidae\", \"order\": \"Eunicida\", \"start_year\": 2010, \"counts\": 1}, {\"family\": \"Eunicidae\", \"order\": \"Eunicida\", \"start_year\": 2011, \"counts\": 52}, {\"family\": \"Eunicidae\", \"order\": \"Eunicida\", \"start_year\": 2012, \"counts\": 8}, {\"family\": \"Eunicidae\", \"order\": \"Eunicida\", \"start_year\": 2013, \"counts\": 22}, {\"family\": \"Eunicidae\", \"order\": \"Eunicida\", \"start_year\": 2014, \"counts\": 19}, {\"family\": \"Eunicidae\", \"order\": \"Eunicida\", \"start_year\": 2015, \"counts\": 4}, {\"family\": \"Euphrosinidae\", \"order\": \"Amphinomida\", \"start_year\": 2002, \"counts\": 1}, {\"family\": \"Euphrosinidae\", \"order\": \"Amphinomida\", \"start_year\": 2013, \"counts\": 1}, {\"family\": \"Flabelligeridae\", \"order\": \"Terebellida\", \"start_year\": 2000, \"counts\": 12}, {\"family\": \"Flabelligeridae\", \"order\": \"Terebellida\", \"start_year\": 2001, \"counts\": 4}, {\"family\": \"Flabelligeridae\", \"order\": \"Terebellida\", \"start_year\": 2002, \"counts\": 3}, {\"family\": \"Flabelligeridae\", \"order\": \"Terebellida\", \"start_year\": 2003, \"counts\": 18}, {\"family\": \"Flabelligeridae\", \"order\": \"Terebellida\", \"start_year\": 2011, \"counts\": 4}, {\"family\": \"Glyceridae\", \"order\": \"Phyllodocida\", \"start_year\": 2000, \"counts\": 9}, {\"family\": \"Glyceridae\", \"order\": \"Phyllodocida\", \"start_year\": 2001, \"counts\": 16}, {\"family\": \"Glyceridae\", \"order\": \"Phyllodocida\", \"start_year\": 2002, \"counts\": 6}, {\"family\": \"Glyceridae\", \"order\": \"Phyllodocida\", \"start_year\": 2003, \"counts\": 21}, {\"family\": \"Glyceridae\", \"order\": \"Phyllodocida\", \"start_year\": 2006, \"counts\": 2}, {\"family\": \"Glyceridae\", \"order\": \"Phyllodocida\", \"start_year\": 2011, \"counts\": 1}, {\"family\": \"Glyceridae\", \"order\": \"Phyllodocida\", \"start_year\": 2012, \"counts\": 1}, {\"family\": \"Glyceridae\", \"order\": \"Phyllodocida\", \"start_year\": 2013, \"counts\": 1}, {\"family\": \"Glyceridae\", \"order\": \"Phyllodocida\", \"start_year\": 2014, \"counts\": 3}, {\"family\": \"Goniadidae\", \"order\": \"Phyllodocida\", \"start_year\": 1993, \"counts\": 4}, {\"family\": \"Goniadidae\", \"order\": \"Phyllodocida\", \"start_year\": 1994, \"counts\": 1}, {\"family\": \"Goniadidae\", \"order\": \"Phyllodocida\", \"start_year\": 1998, \"counts\": 1}, {\"family\": \"Goniadidae\", \"order\": \"Phyllodocida\", \"start_year\": 2002, \"counts\": 1}, {\"family\": \"Goniadidae\", \"order\": \"Phyllodocida\", \"start_year\": 2003, \"counts\": 4}, {\"family\": \"Goniadidae\", \"order\": \"Phyllodocida\", \"start_year\": 2006, \"counts\": 1}, {\"family\": \"Goniadidae\", \"order\": \"Phyllodocida\", \"start_year\": 2008, \"counts\": 1}, {\"family\": \"Hesionidae\", \"order\": \"Phyllodocida\", \"start_year\": 2000, \"counts\": 1}, {\"family\": \"Hesionidae\", \"order\": \"Phyllodocida\", \"start_year\": 2001, \"counts\": 2}, {\"family\": \"Hesionidae\", \"order\": \"Phyllodocida\", \"start_year\": 2002, \"counts\": 2}, {\"family\": \"Hesionidae\", \"order\": \"Phyllodocida\", \"start_year\": 2011, \"counts\": 3}, {\"family\": \"Hesionidae\", \"order\": \"Phyllodocida\", \"start_year\": 2012, \"counts\": 1}, {\"family\": \"Hesionidae\", \"order\": \"Phyllodocida\", \"start_year\": 2013, \"counts\": 3}, {\"family\": \"Hesionidae\", \"order\": \"Phyllodocida\", \"start_year\": 2014, \"counts\": 5}, {\"family\": \"Iospilidae\", \"order\": \"Phyllodocida\", \"start_year\": 1998, \"counts\": 53}, {\"family\": \"Iospilidae\", \"order\": \"Phyllodocida\", \"start_year\": 2000, \"counts\": 62}, {\"family\": \"Longosomatidae\", \"order\": \"Spionida\", \"start_year\": 2000, \"counts\": 1}, {\"family\": \"Lopadorrhynchidae\", \"order\": \"Phyllodocida\", \"start_year\": 1998, \"counts\": 49}, {\"family\": \"Lopadorrhynchidae\", \"order\": \"Phyllodocida\", \"start_year\": 2000, \"counts\": 24}, {\"family\": \"Lopadorrhynchidae\", \"order\": \"Phyllodocida\", \"start_year\": 2003, \"counts\": 1}, {\"family\": \"Lopadorrhynchidae\", \"order\": \"Phyllodocida\", \"start_year\": 2008, \"counts\": 1}, {\"family\": \"Lumbrineridae\", \"order\": \"Eunicida\", \"start_year\": 1993, \"counts\": 3}, {\"family\": \"Lumbrineridae\", \"order\": \"Eunicida\", \"start_year\": 1994, \"counts\": 3}, {\"family\": \"Lumbrineridae\", \"order\": \"Eunicida\", \"start_year\": 1998, \"counts\": 1}, {\"family\": \"Lumbrineridae\", \"order\": \"Eunicida\", \"start_year\": 2000, \"counts\": 18}, {\"family\": \"Lumbrineridae\", \"order\": \"Eunicida\", \"start_year\": 2001, \"counts\": 4}, {\"family\": \"Lumbrineridae\", \"order\": \"Eunicida\", \"start_year\": 2002, \"counts\": 7}, {\"family\": \"Lumbrineridae\", \"order\": \"Eunicida\", \"start_year\": 2003, \"counts\": 19}, {\"family\": \"Lumbrineridae\", \"order\": \"Eunicida\", \"start_year\": 2005, \"counts\": 1}, {\"family\": \"Lumbrineridae\", \"order\": \"Eunicida\", \"start_year\": 2008, \"counts\": 2}, {\"family\": \"Lumbrineridae\", \"order\": \"Eunicida\", \"start_year\": 2011, \"counts\": 4}, {\"family\": \"Lumbrineridae\", \"order\": \"Eunicida\", \"start_year\": 2012, \"counts\": 1}, {\"family\": \"Lumbrineridae\", \"order\": \"Eunicida\", \"start_year\": 2013, \"counts\": 5}, {\"family\": \"Lumbrineridae\", \"order\": \"Eunicida\", \"start_year\": 2014, \"counts\": 6}, {\"family\": \"Magelonidae\", \"order\": \"Spionida\", \"start_year\": 1998, \"counts\": 1}, {\"family\": \"Magelonidae\", \"order\": \"Spionida\", \"start_year\": 2000, \"counts\": 4}, {\"family\": \"Magelonidae\", \"order\": \"Spionida\", \"start_year\": 2002, \"counts\": 1}, {\"family\": \"Magelonidae\", \"order\": \"Spionida\", \"start_year\": 2003, \"counts\": 1}, {\"family\": \"Magelonidae\", \"order\": \"Spionida\", \"start_year\": 2005, \"counts\": 2}, {\"family\": \"Magelonidae\", \"order\": \"Spionida\", \"start_year\": 2006, \"counts\": 1}, {\"family\": \"Magelonidae\", \"order\": \"Spionida\", \"start_year\": 2007, \"counts\": 1}, {\"family\": \"Magelonidae\", \"order\": \"Spionida\", \"start_year\": 2008, \"counts\": 1}, {\"family\": \"Magelonidae\", \"order\": \"Spionida\", \"start_year\": 2011, \"counts\": 1}, {\"family\": \"Maldanidae\", \"order\": \"Scolecida\", \"start_year\": 2000, \"counts\": 5}, {\"family\": \"Maldanidae\", \"order\": \"Scolecida\", \"start_year\": 2001, \"counts\": 2}, {\"family\": \"Maldanidae\", \"order\": \"Scolecida\", \"start_year\": 2002, \"counts\": 5}, {\"family\": \"Maldanidae\", \"order\": \"Scolecida\", \"start_year\": 2003, \"counts\": 16}, {\"family\": \"Maldanidae\", \"order\": \"Scolecida\", \"start_year\": 2011, \"counts\": 1}, {\"family\": \"Megascolecidae\", \"order\": \"Crassiclitellata\", \"start_year\": 2001, \"counts\": 1}, {\"family\": \"Nan\", \"order\": \"Phyllodocida\", \"start_year\": 2002, \"counts\": 1}, {\"family\": \"Nan\", \"order\": \"Sipuncula\", \"start_year\": 2005, \"counts\": 1}, {\"family\": \"Nan\", \"order\": \"Sipuncula\", \"start_year\": 2011, \"counts\": 2}, {\"family\": \"Nan\", \"order\": \"Sipuncula\", \"start_year\": 2014, \"counts\": 2}, {\"family\": \"Nan\", \"order\": \"Sipuncula\", \"start_year\": 2015, \"counts\": 2}, {\"family\": \"Nephtyidae\", \"order\": \"Phyllodocida\", \"start_year\": 1992, \"counts\": 1}, {\"family\": \"Nephtyidae\", \"order\": \"Phyllodocida\", \"start_year\": 2000, \"counts\": 5}, {\"family\": \"Nephtyidae\", \"order\": \"Phyllodocida\", \"start_year\": 2001, \"counts\": 4}, {\"family\": \"Nephtyidae\", \"order\": \"Phyllodocida\", \"start_year\": 2002, \"counts\": 2}, {\"family\": \"Nephtyidae\", \"order\": \"Phyllodocida\", \"start_year\": 2003, \"counts\": 4}, {\"family\": \"Nephtyidae\", \"order\": \"Phyllodocida\", \"start_year\": 2008, \"counts\": 1}, {\"family\": \"Nephtyidae\", \"order\": \"Phyllodocida\", \"start_year\": 2014, \"counts\": 1}, {\"family\": \"Nereididae\", \"order\": \"Phyllodocida\", \"start_year\": 1998, \"counts\": 2}, {\"family\": \"Nereididae\", \"order\": \"Phyllodocida\", \"start_year\": 2000, \"counts\": 22}, {\"family\": \"Nereididae\", \"order\": \"Phyllodocida\", \"start_year\": 2001, \"counts\": 27}, {\"family\": \"Nereididae\", \"order\": \"Phyllodocida\", \"start_year\": 2002, \"counts\": 17}, {\"family\": \"Nereididae\", \"order\": \"Phyllodocida\", \"start_year\": 2003, \"counts\": 2}, {\"family\": \"Nereididae\", \"order\": \"Phyllodocida\", \"start_year\": 2005, \"counts\": 2}, {\"family\": \"Nereididae\", \"order\": \"Phyllodocida\", \"start_year\": 2007, \"counts\": 3}, {\"family\": \"Nereididae\", \"order\": \"Phyllodocida\", \"start_year\": 2008, \"counts\": 1}, {\"family\": \"Nereididae\", \"order\": \"Phyllodocida\", \"start_year\": 2011, \"counts\": 1}, {\"family\": \"Nereididae\", \"order\": \"Phyllodocida\", \"start_year\": 2012, \"counts\": 7}, {\"family\": \"Nereididae\", \"order\": \"Phyllodocida\", \"start_year\": 2013, \"counts\": 6}, {\"family\": \"Nereididae\", \"order\": \"Phyllodocida\", \"start_year\": 2014, \"counts\": 15}, {\"family\": \"Nereididae\", \"order\": \"Phyllodocida\", \"start_year\": 2015, \"counts\": 3}, {\"family\": \"Oenonidae\", \"order\": \"Eunicida\", \"start_year\": 2000, \"counts\": 3}, {\"family\": \"Oenonidae\", \"order\": \"Eunicida\", \"start_year\": 2001, \"counts\": 9}, {\"family\": \"Oenonidae\", \"order\": \"Eunicida\", \"start_year\": 2002, \"counts\": 6}, {\"family\": \"Oenonidae\", \"order\": \"Eunicida\", \"start_year\": 2005, \"counts\": 2}, {\"family\": \"Oenonidae\", \"order\": \"Eunicida\", \"start_year\": 2007, \"counts\": 2}, {\"family\": \"Oenonidae\", \"order\": \"Eunicida\", \"start_year\": 2011, \"counts\": 3}, {\"family\": \"Oenonidae\", \"order\": \"Eunicida\", \"start_year\": 2012, \"counts\": 1}, {\"family\": \"Oenonidae\", \"order\": \"Eunicida\", \"start_year\": 2013, \"counts\": 5}, {\"family\": \"Oenonidae\", \"order\": \"Eunicida\", \"start_year\": 2014, \"counts\": 4}, {\"family\": \"Onuphidae\", \"order\": \"Eunicida\", \"start_year\": 1998, \"counts\": 1}, {\"family\": \"Onuphidae\", \"order\": \"Eunicida\", \"start_year\": 2000, \"counts\": 7}, {\"family\": \"Onuphidae\", \"order\": \"Eunicida\", \"start_year\": 2001, \"counts\": 4}, {\"family\": \"Onuphidae\", \"order\": \"Eunicida\", \"start_year\": 2002, \"counts\": 7}, {\"family\": \"Onuphidae\", \"order\": \"Eunicida\", \"start_year\": 2003, \"counts\": 2}, {\"family\": \"Onuphidae\", \"order\": \"Eunicida\", \"start_year\": 2005, \"counts\": 1}, {\"family\": \"Onuphidae\", \"order\": \"Eunicida\", \"start_year\": 2010, \"counts\": 1}, {\"family\": \"Onuphidae\", \"order\": \"Eunicida\", \"start_year\": 2011, \"counts\": 9}, {\"family\": \"Onuphidae\", \"order\": \"Eunicida\", \"start_year\": 2012, \"counts\": 1}, {\"family\": \"Onuphidae\", \"order\": \"Eunicida\", \"start_year\": 2013, \"counts\": 2}, {\"family\": \"Onuphidae\", \"order\": \"Eunicida\", \"start_year\": 2015, \"counts\": 4}, {\"family\": \"Opheliidae\", \"order\": \"Scolecida\", \"start_year\": 1998, \"counts\": 2}, {\"family\": \"Opheliidae\", \"order\": \"Scolecida\", \"start_year\": 2000, \"counts\": 3}, {\"family\": \"Opheliidae\", \"order\": \"Scolecida\", \"start_year\": 2001, \"counts\": 3}, {\"family\": \"Opheliidae\", \"order\": \"Scolecida\", \"start_year\": 2002, \"counts\": 4}, {\"family\": \"Opheliidae\", \"order\": \"Scolecida\", \"start_year\": 2003, \"counts\": 6}, {\"family\": \"Opheliidae\", \"order\": \"Scolecida\", \"start_year\": 2008, \"counts\": 1}, {\"family\": \"Opheliidae\", \"order\": \"Scolecida\", \"start_year\": 2014, \"counts\": 2}, {\"family\": \"Orbiniidae\", \"order\": \"Scolecida\", \"start_year\": 1998, \"counts\": 2}, {\"family\": \"Orbiniidae\", \"order\": \"Scolecida\", \"start_year\": 2000, \"counts\": 15}, {\"family\": \"Orbiniidae\", \"order\": \"Scolecida\", \"start_year\": 2001, \"counts\": 1}, {\"family\": \"Orbiniidae\", \"order\": \"Scolecida\", \"start_year\": 2002, \"counts\": 3}, {\"family\": \"Orbiniidae\", \"order\": \"Scolecida\", \"start_year\": 2003, \"counts\": 7}, {\"family\": \"Orbiniidae\", \"order\": \"Scolecida\", \"start_year\": 2006, \"counts\": 1}, {\"family\": \"Orbiniidae\", \"order\": \"Scolecida\", \"start_year\": 2008, \"counts\": 1}, {\"family\": \"Orbiniidae\", \"order\": \"Scolecida\", \"start_year\": 2011, \"counts\": 2}, {\"family\": \"Oweniidae\", \"order\": \"Sabellida\", \"start_year\": 1998, \"counts\": 1}, {\"family\": \"Oweniidae\", \"order\": \"Sabellida\", \"start_year\": 2000, \"counts\": 5}, {\"family\": \"Oweniidae\", \"order\": \"Sabellida\", \"start_year\": 2002, \"counts\": 1}, {\"family\": \"Oweniidae\", \"order\": \"Sabellida\", \"start_year\": 2012, \"counts\": 1}, {\"family\": \"Paraonidae\", \"order\": \"Scolecida\", \"start_year\": 2000, \"counts\": 4}, {\"family\": \"Paraonidae\", \"order\": \"Scolecida\", \"start_year\": 2002, \"counts\": 1}, {\"family\": \"Paraonidae\", \"order\": \"Scolecida\", \"start_year\": 2003, \"counts\": 7}, {\"family\": \"Paraonidae\", \"order\": \"Scolecida\", \"start_year\": 2006, \"counts\": 2}, {\"family\": \"Paraonidae\", \"order\": \"Scolecida\", \"start_year\": 2014, \"counts\": 1}, {\"family\": \"Pectinariidae\", \"order\": \"Terebellida\", \"start_year\": 1986, \"counts\": 1}, {\"family\": \"Pectinariidae\", \"order\": \"Terebellida\", \"start_year\": 1993, \"counts\": 3}, {\"family\": \"Pectinariidae\", \"order\": \"Terebellida\", \"start_year\": 1994, \"counts\": 1}, {\"family\": \"Pectinariidae\", \"order\": \"Terebellida\", \"start_year\": 1998, \"counts\": 1}, {\"family\": \"Pectinariidae\", \"order\": \"Terebellida\", \"start_year\": 2000, \"counts\": 4}, {\"family\": \"Pholoidae\", \"order\": \"Phyllodocida\", \"start_year\": 1993, \"counts\": 2}, {\"family\": \"Pholoidae\", \"order\": \"Phyllodocida\", \"start_year\": 1994, \"counts\": 2}, {\"family\": \"Pholoidae\", \"order\": \"Phyllodocida\", \"start_year\": 2003, \"counts\": 7}, {\"family\": \"Pholoidae\", \"order\": \"Phyllodocida\", \"start_year\": 2007, \"counts\": 1}, {\"family\": \"Phyllodocidae\", \"order\": \"Phyllodocida\", \"start_year\": 1905, \"counts\": 1}, {\"family\": \"Phyllodocidae\", \"order\": \"Phyllodocida\", \"start_year\": 1998, \"counts\": 3}, {\"family\": \"Phyllodocidae\", \"order\": \"Phyllodocida\", \"start_year\": 2000, \"counts\": 7}, {\"family\": \"Phyllodocidae\", \"order\": \"Phyllodocida\", \"start_year\": 2001, \"counts\": 28}, {\"family\": \"Phyllodocidae\", \"order\": \"Phyllodocida\", \"start_year\": 2002, \"counts\": 8}, {\"family\": \"Phyllodocidae\", \"order\": \"Phyllodocida\", \"start_year\": 2003, \"counts\": 1}, {\"family\": \"Phyllodocidae\", \"order\": \"Phyllodocida\", \"start_year\": 2005, \"counts\": 1}, {\"family\": \"Phyllodocidae\", \"order\": \"Phyllodocida\", \"start_year\": 2011, \"counts\": 1}, {\"family\": \"Phyllodocidae\", \"order\": \"Phyllodocida\", \"start_year\": 2013, \"counts\": 3}, {\"family\": \"Phyllodocidae\", \"order\": \"Phyllodocida\", \"start_year\": 2014, \"counts\": 2}, {\"family\": \"Phyllodocidae\", \"order\": \"Phyllodocida\", \"start_year\": 2015, \"counts\": 1}, {\"family\": \"Pilargidae\", \"order\": \"Phyllodocida\", \"start_year\": 1993, \"counts\": 3}, {\"family\": \"Pilargidae\", \"order\": \"Phyllodocida\", \"start_year\": 1994, \"counts\": 2}, {\"family\": \"Pilargidae\", \"order\": \"Phyllodocida\", \"start_year\": 1998, \"counts\": 1}, {\"family\": \"Pilargidae\", \"order\": \"Phyllodocida\", \"start_year\": 1999, \"counts\": 1}, {\"family\": \"Pilargidae\", \"order\": \"Phyllodocida\", \"start_year\": 2000, \"counts\": 3}, {\"family\": \"Pilargidae\", \"order\": \"Phyllodocida\", \"start_year\": 2002, \"counts\": 4}, {\"family\": \"Pilargidae\", \"order\": \"Phyllodocida\", \"start_year\": 2003, \"counts\": 1}, {\"family\": \"Pilargidae\", \"order\": \"Phyllodocida\", \"start_year\": 2004, \"counts\": 1}, {\"family\": \"Pilargidae\", \"order\": \"Phyllodocida\", \"start_year\": 2008, \"counts\": 3}, {\"family\": \"Poecilochaetidae\", \"order\": \"Sabellida\", \"start_year\": 2003, \"counts\": 1}, {\"family\": \"Poecilochaetidae\", \"order\": \"Spionida\", \"start_year\": 2000, \"counts\": 3}, {\"family\": \"Poecilochaetidae\", \"order\": \"Spionida\", \"start_year\": 2002, \"counts\": 1}, {\"family\": \"Poecilochaetidae\", \"order\": \"Spionida\", \"start_year\": 2003, \"counts\": 2}, {\"family\": \"Poecilochaetidae\", \"order\": \"Spionida\", \"start_year\": 2005, \"counts\": 1}, {\"family\": \"Poecilochaetidae\", \"order\": \"Spionida\", \"start_year\": 2008, \"counts\": 1}, {\"family\": \"Polynoidae\", \"order\": \"Phyllodocida\", \"start_year\": 1905, \"counts\": 1}, {\"family\": \"Polynoidae\", \"order\": \"Phyllodocida\", \"start_year\": 1998, \"counts\": 17}, {\"family\": \"Polynoidae\", \"order\": \"Phyllodocida\", \"start_year\": 2000, \"counts\": 20}, {\"family\": \"Polynoidae\", \"order\": \"Phyllodocida\", \"start_year\": 2001, \"counts\": 18}, {\"family\": \"Polynoidae\", \"order\": \"Phyllodocida\", \"start_year\": 2002, \"counts\": 8}, {\"family\": \"Polynoidae\", \"order\": \"Phyllodocida\", \"start_year\": 2003, \"counts\": 5}, {\"family\": \"Polynoidae\", \"order\": \"Phyllodocida\", \"start_year\": 2004, \"counts\": 1}, {\"family\": \"Polynoidae\", \"order\": \"Phyllodocida\", \"start_year\": 2005, \"counts\": 9}, {\"family\": \"Polynoidae\", \"order\": \"Phyllodocida\", \"start_year\": 2006, \"counts\": 2}, {\"family\": \"Polynoidae\", \"order\": \"Phyllodocida\", \"start_year\": 2008, \"counts\": 22}, {\"family\": \"Polynoidae\", \"order\": \"Phyllodocida\", \"start_year\": 2009, \"counts\": 10}, {\"family\": \"Polynoidae\", \"order\": \"Phyllodocida\", \"start_year\": 2011, \"counts\": 4}, {\"family\": \"Polynoidae\", \"order\": \"Phyllodocida\", \"start_year\": 2013, \"counts\": 4}, {\"family\": \"Polynoidae\", \"order\": \"Phyllodocida\", \"start_year\": 2014, \"counts\": 5}, {\"family\": \"Polynoidae\", \"order\": \"Spionida\", \"start_year\": 2003, \"counts\": 1}, {\"family\": \"Pontodoridae\", \"order\": \"Phyllodocida\", \"start_year\": 2000, \"counts\": 1}, {\"family\": \"Sabellariidae\", \"order\": \"Sabellida\", \"start_year\": 1991, \"counts\": 1}, {\"family\": \"Sabellariidae\", \"order\": \"Sabellida\", \"start_year\": 2002, \"counts\": 1}, {\"family\": \"Sabellariidae\", \"order\": \"Sabellida\", \"start_year\": 2007, \"counts\": 2}, {\"family\": \"Sabellariidae\", \"order\": \"Sabellida\", \"start_year\": 2012, \"counts\": 52}, {\"family\": \"Sabellariidae\", \"order\": \"Sabellida\", \"start_year\": 2013, \"counts\": 30}, {\"family\": \"Sabellariidae\", \"order\": \"Sabellida\", \"start_year\": 2014, \"counts\": 121}, {\"family\": \"Sabellidae\", \"order\": \"Sabellida\", \"start_year\": 1966, \"counts\": 2}, {\"family\": \"Sabellidae\", \"order\": \"Sabellida\", \"start_year\": 1971, \"counts\": 2}, {\"family\": \"Sabellidae\", \"order\": \"Sabellida\", \"start_year\": 1979, \"counts\": 2}, {\"family\": \"Sabellidae\", \"order\": \"Sabellida\", \"start_year\": 1986, \"counts\": 1}, {\"family\": \"Sabellidae\", \"order\": \"Sabellida\", \"start_year\": 2000, \"counts\": 17}, {\"family\": \"Sabellidae\", \"order\": \"Sabellida\", \"start_year\": 2001, \"counts\": 7}, {\"family\": \"Sabellidae\", \"order\": \"Sabellida\", \"start_year\": 2002, \"counts\": 4}, {\"family\": \"Sabellidae\", \"order\": \"Sabellida\", \"start_year\": 2003, \"counts\": 7}, {\"family\": \"Sabellidae\", \"order\": \"Sabellida\", \"start_year\": 2004, \"counts\": 3}, {\"family\": \"Sabellidae\", \"order\": \"Sabellida\", \"start_year\": 2005, \"counts\": 2}, {\"family\": \"Sabellidae\", \"order\": \"Sabellida\", \"start_year\": 2008, \"counts\": 85}, {\"family\": \"Sabellidae\", \"order\": \"Sabellida\", \"start_year\": 2009, \"counts\": 98}, {\"family\": \"Sabellidae\", \"order\": \"Sabellida\", \"start_year\": 2011, \"counts\": 3}, {\"family\": \"Sabellidae\", \"order\": \"Sabellida\", \"start_year\": 2013, \"counts\": 6}, {\"family\": \"Sabellidae\", \"order\": \"Sabellida\", \"start_year\": 2014, \"counts\": 6}, {\"family\": \"Scalibregmatidae\", \"order\": \"Scolecida\", \"start_year\": 2002, \"counts\": 1}, {\"family\": \"Scalibregmatidae\", \"order\": \"Scolecida\", \"start_year\": 2003, \"counts\": 4}, {\"family\": \"Serpulidae\", \"order\": \"Phyllodocida\", \"start_year\": 2008, \"counts\": 1}, {\"family\": \"Serpulidae\", \"order\": \"Sabellida\", \"start_year\": 1986, \"counts\": 1}, {\"family\": \"Serpulidae\", \"order\": \"Sabellida\", \"start_year\": 2000, \"counts\": 1}, {\"family\": \"Serpulidae\", \"order\": \"Sabellida\", \"start_year\": 2001, \"counts\": 7}, {\"family\": \"Serpulidae\", \"order\": \"Sabellida\", \"start_year\": 2002, \"counts\": 1}, {\"family\": \"Serpulidae\", \"order\": \"Sabellida\", \"start_year\": 2004, \"counts\": 3}, {\"family\": \"Serpulidae\", \"order\": \"Sabellida\", \"start_year\": 2005, \"counts\": 1}, {\"family\": \"Serpulidae\", \"order\": \"Sabellida\", \"start_year\": 2011, \"counts\": 8}, {\"family\": \"Serpulidae\", \"order\": \"Sabellida\", \"start_year\": 2013, \"counts\": 1}, {\"family\": \"Serpulidae\", \"order\": \"Sabellida\", \"start_year\": 2015, \"counts\": 2}, {\"family\": \"Sigalionidae\", \"order\": \"Eunicida\", \"start_year\": 2002, \"counts\": 1}, {\"family\": \"Sigalionidae\", \"order\": \"Phyllodocida\", \"start_year\": 1998, \"counts\": 3}, {\"family\": \"Sigalionidae\", \"order\": \"Phyllodocida\", \"start_year\": 2000, \"counts\": 11}, {\"family\": \"Sigalionidae\", \"order\": \"Phyllodocida\", \"start_year\": 2002, \"counts\": 3}, {\"family\": \"Sigalionidae\", \"order\": \"Phyllodocida\", \"start_year\": 2003, \"counts\": 3}, {\"family\": \"Sigalionidae\", \"order\": \"Phyllodocida\", \"start_year\": 2006, \"counts\": 1}, {\"family\": \"Sigalionidae\", \"order\": \"Phyllodocida\", \"start_year\": 2008, \"counts\": 2}, {\"family\": \"Sigalionidae\", \"order\": \"Phyllodocida\", \"start_year\": 2011, \"counts\": 1}, {\"family\": \"Sigalionidae\", \"order\": \"Phyllodocida\", \"start_year\": 2012, \"counts\": 1}, {\"family\": \"Sphaerodoridae\", \"order\": \"Phyllodocida\", \"start_year\": 2003, \"counts\": 1}, {\"family\": \"Spionidae\", \"order\": \"Spionida\", \"start_year\": 1997, \"counts\": 1}, {\"family\": \"Spionidae\", \"order\": \"Spionida\", \"start_year\": 1998, \"counts\": 5}, {\"family\": \"Spionidae\", \"order\": \"Spionida\", \"start_year\": 2000, \"counts\": 21}, {\"family\": \"Spionidae\", \"order\": \"Spionida\", \"start_year\": 2001, \"counts\": 3}, {\"family\": \"Spionidae\", \"order\": \"Spionida\", \"start_year\": 2002, \"counts\": 23}, {\"family\": \"Spionidae\", \"order\": \"Spionida\", \"start_year\": 2003, \"counts\": 2}, {\"family\": \"Spionidae\", \"order\": \"Spionida\", \"start_year\": 2004, \"counts\": 1}, {\"family\": \"Spionidae\", \"order\": \"Spionida\", \"start_year\": 2005, \"counts\": 4}, {\"family\": \"Spionidae\", \"order\": \"Spionida\", \"start_year\": 2006, \"counts\": 5}, {\"family\": \"Spionidae\", \"order\": \"Spionida\", \"start_year\": 2007, \"counts\": 1}, {\"family\": \"Spionidae\", \"order\": \"Spionida\", \"start_year\": 2008, \"counts\": 3}, {\"family\": \"Spionidae\", \"order\": \"Spionida\", \"start_year\": 2009, \"counts\": 2}, {\"family\": \"Spionidae\", \"order\": \"Spionida\", \"start_year\": 2012, \"counts\": 2}, {\"family\": \"Spionidae\", \"order\": \"Spionida\", \"start_year\": 2013, \"counts\": 2}, {\"family\": \"Spionidae\", \"order\": \"Spionida\", \"start_year\": 2014, \"counts\": 5}, {\"family\": \"Spionidae\", \"order\": \"Spionida\", \"start_year\": 2015, \"counts\": 6}, {\"family\": \"Sternaspidae\", \"order\": \"Terebellida\", \"start_year\": 1998, \"counts\": 1}, {\"family\": \"Sternaspidae\", \"order\": \"Terebellida\", \"start_year\": 2000, \"counts\": 1}, {\"family\": \"Sternaspidae\", \"order\": \"Terebellida\", \"start_year\": 2001, \"counts\": 1}, {\"family\": \"Sternaspidae\", \"order\": \"Terebellida\", \"start_year\": 2002, \"counts\": 1}, {\"family\": \"Sternaspidae\", \"order\": \"Terebellida\", \"start_year\": 2003, \"counts\": 7}, {\"family\": \"Sternaspidae\", \"order\": \"Terebellida\", \"start_year\": 2008, \"counts\": 29}, {\"family\": \"Syllidae\", \"order\": \"Eunicida\", \"start_year\": 2002, \"counts\": 2}, {\"family\": \"Syllidae\", \"order\": \"Eunicida\", \"start_year\": 2014, \"counts\": 3}, {\"family\": \"Syllidae\", \"order\": \"Phyllodocida\", \"start_year\": 1998, \"counts\": 5}, {\"family\": \"Syllidae\", \"order\": \"Phyllodocida\", \"start_year\": 2000, \"counts\": 12}, {\"family\": \"Syllidae\", \"order\": \"Phyllodocida\", \"start_year\": 2001, \"counts\": 16}, {\"family\": \"Syllidae\", \"order\": \"Phyllodocida\", \"start_year\": 2002, \"counts\": 9}, {\"family\": \"Syllidae\", \"order\": \"Phyllodocida\", \"start_year\": 2003, \"counts\": 6}, {\"family\": \"Syllidae\", \"order\": \"Phyllodocida\", \"start_year\": 2005, \"counts\": 1}, {\"family\": \"Syllidae\", \"order\": \"Phyllodocida\", \"start_year\": 2007, \"counts\": 1}, {\"family\": \"Syllidae\", \"order\": \"Phyllodocida\", \"start_year\": 2011, \"counts\": 43}, {\"family\": \"Syllidae\", \"order\": \"Phyllodocida\", \"start_year\": 2012, \"counts\": 3}, {\"family\": \"Syllidae\", \"order\": \"Phyllodocida\", \"start_year\": 2013, \"counts\": 8}, {\"family\": \"Syllidae\", \"order\": \"Phyllodocida\", \"start_year\": 2014, \"counts\": 12}, {\"family\": \"Terebellidae\", \"order\": \"Terebellida\", \"start_year\": 2000, \"counts\": 8}, {\"family\": \"Terebellidae\", \"order\": \"Terebellida\", \"start_year\": 2001, \"counts\": 1}, {\"family\": \"Terebellidae\", \"order\": \"Terebellida\", \"start_year\": 2002, \"counts\": 8}, {\"family\": \"Terebellidae\", \"order\": \"Terebellida\", \"start_year\": 2003, \"counts\": 3}, {\"family\": \"Terebellidae\", \"order\": \"Terebellida\", \"start_year\": 2011, \"counts\": 2}, {\"family\": \"Terebellidae\", \"order\": \"Terebellida\", \"start_year\": 2012, \"counts\": 1}, {\"family\": \"Terebellidae\", \"order\": \"Terebellida\", \"start_year\": 2013, \"counts\": 5}, {\"family\": \"Terebellidae\", \"order\": \"Terebellida\", \"start_year\": 2014, \"counts\": 4}, {\"family\": \"Terebellidae\", \"order\": \"Terebellida\", \"start_year\": 2015, \"counts\": 1}, {\"family\": \"Tomopteridae\", \"order\": \"Phyllodocida\", \"start_year\": 1998, \"counts\": 80}, {\"family\": \"Tomopteridae\", \"order\": \"Phyllodocida\", \"start_year\": 2000, \"counts\": 91}, {\"family\": \"Trichobranchidae\", \"order\": \"Terebellida\", \"start_year\": 1997, \"counts\": 2}, {\"family\": \"Trichobranchidae\", \"order\": \"Terebellida\", \"start_year\": 2000, \"counts\": 20}, {\"family\": \"Trichobranchidae\", \"order\": \"Terebellida\", \"start_year\": 2003, \"counts\": 1}, {\"family\": \"Typhloscolecidae\", \"order\": \"Phyllodocida\", \"start_year\": 1998, \"counts\": 115}, {\"family\": \"Typhloscolecidae\", \"order\": \"Phyllodocida\", \"start_year\": 2000, \"counts\": 124}]}}, {\"mode\": \"vega-lite\"});\n",
       "</script>"
      ],
      "text/plain": [
       "alt.Chart(...)"
      ]
     },
     "execution_count": 11,
     "metadata": {},
     "output_type": "execute_result"
    }
   ],
   "source": [
    "g1 = alt.Chart(teste,\n",
    "               width=500, height=500, title='Number of collected animals of each family per year').mark_circle(\n",
    "                                                                                size=60).encode(\n",
    "    x= alt.X('start_year', type='ordinal', title='Start Year'),\n",
    "    y= alt.Y('family', type='nominal', title='Family',\n",
    "            sort= alt.EncodingSortField(field='counts', op='sum', order='descending')),\n",
    "    size= alt.Size('counts', title='Count', scale=alt.Scale(range=[6,400])),\n",
    "    color = alt.Color('order', scale= alt.Scale(domain=ordens, range=cores)),\n",
    "    tooltip = alt.Tooltip(['family', 'start_year', 'counts'])\n",
    ")\n",
    "\n",
    "g1.save('./graphs/familias_por_ano_c_ordem.html')\n",
    "\n",
    "g1"
   ]
  },
  {
   "cell_type": "markdown",
   "metadata": {},
   "source": [
    "<br>\n",
    "\n",
    "### Dynamic version\n",
    "\n",
    "<font color='red' size='4'>**p.s.:** Still needs more adjustments </font>"
   ]
  },
  {
   "cell_type": "code",
   "execution_count": 12,
   "metadata": {
    "ExecuteTime": {
     "end_time": "2020-08-11T21:17:02.956087Z",
     "start_time": "2020-08-11T21:17:02.815030Z"
    }
   },
   "outputs": [],
   "source": [
    "# # dynamic version\n",
    "# slider = alt.binding_range(min=1900, max=2016, step=1)\n",
    "# select_year = alt.selection_single(name=\"ano_coleta\", fields=['ano_coleta'],\n",
    "#                                    bind=slider, init={'ano_coleta': 2000})\n",
    "\n",
    "# # gráfico transparente no background (para fixar eixos)\n",
    "# g0 = alt.Chart(teste,\n",
    "#                width=800, height=400).mark_circle(\n",
    "#                                                                                 size=60, opacity=0).encode(\n",
    "#     x= alt.X('familia', type='nominal', title='Familia'),\n",
    "#     y= alt.Y('ordem', type='nominal', title='Ordem',\n",
    "#             sort= alt.EncodingSortField(field='counts', op='count', order='descending')),\n",
    "# )\n",
    "\n",
    "\n",
    "# g1 = alt.Chart(teste,\n",
    "#                width=800, height=400, title='Qtde. de animais por família e ordem').mark_circle(\n",
    "#                                                                                 size=60).encode(\n",
    "#     x= alt.X('familia', type='nominal', title='Familia'),\n",
    "#     y= alt.Y('ordem', type='nominal', title='Ordem',\n",
    "#             sort= alt.EncodingSortField(field='counts', op='count', order='descending')),\n",
    "#     size= alt.Size('counts', title='Contagem'),\n",
    "#     color = alt.Color('ordem', scale= alt.Scale(domain=ordens, range=cores)),\n",
    "#     tooltip=alt.Tooltip(['familia','ordem','ano_coleta','counts','ordem'])\n",
    "# ).add_selection(\n",
    "#     select_year\n",
    "# ).transform_filter(\n",
    "#     select_year\n",
    "# )\n",
    "\n",
    "# g1 = alt.layer(g0, g1)\n",
    "\n",
    "# # saving graph\n",
    "# # g1.save('./graphs/familias_por_ano_c_ordem-dinamico.html')\n",
    "\n",
    "# # g1"
   ]
  },
  {
   "cell_type": "markdown",
   "metadata": {},
   "source": [
    "<br>\n",
    "\n",
    "**The end!**\n",
    "\n",
    "-----"
   ]
  }
 ],
 "metadata": {
  "kernelspec": {
   "display_name": "Python 3",
   "language": "python",
   "name": "python3"
  },
  "language_info": {
   "codemirror_mode": {
    "name": "ipython",
    "version": 3
   },
   "file_extension": ".py",
   "mimetype": "text/x-python",
   "name": "python",
   "nbconvert_exporter": "python",
   "pygments_lexer": "ipython3",
   "version": "3.8.2"
  },
  "latex_envs": {
   "LaTeX_envs_menu_present": true,
   "autoclose": false,
   "autocomplete": true,
   "bibliofile": "biblio.bib",
   "cite_by": "apalike",
   "current_citInitial": 1,
   "eqLabelWithNumbers": true,
   "eqNumInitial": 1,
   "hotkeys": {
    "equation": "Ctrl-E",
    "itemize": "Ctrl-I"
   },
   "labels_anchors": false,
   "latex_user_defs": false,
   "report_style_numbering": false,
   "user_envs_cfg": false
  },
  "toc": {
   "base_numbering": 1,
   "nav_menu": {},
   "number_sections": false,
   "sideBar": true,
   "skip_h1_title": false,
   "title_cell": "Table of Contents",
   "title_sidebar": "Contents",
   "toc_cell": false,
   "toc_position": {},
   "toc_section_display": true,
   "toc_window_display": false
  },
  "varInspector": {
   "cols": {
    "lenName": 16,
    "lenType": 16,
    "lenVar": 40
   },
   "kernels_config": {
    "python": {
     "delete_cmd_postfix": "",
     "delete_cmd_prefix": "del ",
     "library": "var_list.py",
     "varRefreshCmd": "print(var_dic_list())"
    },
    "r": {
     "delete_cmd_postfix": ") ",
     "delete_cmd_prefix": "rm(",
     "library": "var_list.r",
     "varRefreshCmd": "cat(var_dic_list()) "
    }
   },
   "position": {
    "height": "391.35px",
    "left": "900.5px",
    "right": "20px",
    "top": "96px",
    "width": "536.5px"
   },
   "types_to_exclude": [
    "module",
    "function",
    "builtin_function_or_method",
    "instance",
    "_Feature"
   ],
   "window_display": false
  }
 },
 "nbformat": 4,
 "nbformat_minor": 2
}
