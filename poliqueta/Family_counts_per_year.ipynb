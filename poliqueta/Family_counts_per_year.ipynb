{
 "cells": [
  {
   "cell_type": "markdown",
   "metadata": {},
   "source": [
    "# Family counts per year\n",
    "\n",
    "By **Franklin Oliveira**\n",
    "\n",
    "-----\n",
    "This notebook contains all code necessary to make the \"type\" charts from `poliqueta` database. Here you'll find some basic data treatment and charts' code. \n",
    "\n",
    "Database: <font color='blue'>'IBUFRJ27.07.2020 - visualização.xlsx'</font>."
   ]
  },
  {
   "cell_type": "code",
   "execution_count": 1,
   "metadata": {
    "ExecuteTime": {
     "end_time": "2020-08-29T14:40:11.196143Z",
     "start_time": "2020-08-29T14:40:09.911284Z"
    }
   },
   "outputs": [
    {
     "data": {
      "text/plain": [
       "DataTransformerRegistry.enable('default')"
      ]
     },
     "execution_count": 1,
     "metadata": {},
     "output_type": "execute_result"
    }
   ],
   "source": [
    "import datetime\n",
    "import numpy as np\n",
    "import pandas as pd\n",
    "\n",
    "from collections import defaultdict\n",
    "\n",
    "# quick visualization\n",
    "import matplotlib.pyplot as plt\n",
    "import seaborn as sns\n",
    "\n",
    "# Waffle Charts\n",
    "# from pywaffle import Waffle \n",
    "# docs: https://pywaffle.readthedocs.io/en/latest/examples/block_shape_distance_location_and_direction.html\n",
    "\n",
    "# visualization\n",
    "import altair as alt\n",
    "\n",
    "# enabling notebook renderer\n",
    "# alt.renderers.enable('notebook')\n",
    "alt.renderers.enable('default')\n",
    "\n",
    "# disabling rows limit\n",
    "alt.data_transformers.disable_max_rows()"
   ]
  },
  {
   "cell_type": "markdown",
   "metadata": {},
   "source": [
    "## Importing data..."
   ]
  },
  {
   "cell_type": "code",
   "execution_count": 2,
   "metadata": {
    "ExecuteTime": {
     "end_time": "2020-08-29T14:40:11.982902Z",
     "start_time": "2020-08-29T14:40:11.872610Z"
    }
   },
   "outputs": [],
   "source": [
    "NewTable = pd.read_csv('./data/merged_db.csv', sep=';', encoding='utf-8-sig')"
   ]
  },
  {
   "cell_type": "code",
   "execution_count": 3,
   "metadata": {},
   "outputs": [],
   "source": [
    "# formatando a string NaN\n",
    "NewTable['family'] = NewTable['family'].apply(lambda x: 'NaN' if x=='Nan' else x)"
   ]
  },
  {
   "cell_type": "markdown",
   "metadata": {},
   "source": [
    "<br>\n",
    "\n",
    "<font size=5>**Color Palette per Order**</font>\n",
    "\n",
    "These images were used as inspiration (https://color.adobe.com/create/image)\n",
    "\n",
    "\n",
    "<div class='row' style='padding-top:20px;'>\n",
    "    <div class='col-md-6'>\n",
    "        <img src=\"./src/img1.jpg\" width='400px'>\n",
    "    </div>\n",
    "    <div class='col-md-6'>\n",
    "        <img src=\"./src/img2.jpg\" width='400px'>\n",
    "    </div>\n",
    "</div>\n",
    "\n",
    "<br>\n",
    "\n",
    "A partir das imagens acima, selecionamos cores (centróides) para criar a paleta de cores. Foram elas: \n",
    "<ul>\n",
    "    <li style='color:#3CA67F'><b> #3CA67F </b># verde</li>\n",
    "    <li style='color:#7A9FBF'><b> #7A9FBF </b># azul</li>\n",
    "    <li style='color:#D94814'><b> #D94814 </b># laranja</li>\n",
    "    <li style='color:#D96236'><b> #D96236 </b># laranja 2</li>\n",
    "    <li style='color:#F2B999'><b> #F2B999 </b># 'cor de pele'</li>\n",
    "    <li style='color:#A66C4B'><b> #A66C4B </b># marrom 1</li>\n",
    "    <li style='color:#732C02'><b> #732C02 </b># marrom 2</li>\n",
    "</ul>\n",
    "\n",
    "A partir das cores \"centróides\", utilizamos a ferramenta Color Crafter para selecionar diferentes \"shades\" e auxiliar para categorização em diferentes grupos sugeridos pela equipe de Poliquetas do Museu Nacional. \n",
    "\n",
    "<ul>\n",
    "    <li style='color:#3CA67F'><b> Verde: </b> ['#daffef', '#bbebd3', '#9adabc', '#77c8a5', '#57b791', '#3ca67f', '#2a9670', '#238762', '#257a56']</li>\n",
    "    <li style='color:#7A9FBF'><b> Azul: </b> ['#e7e5df', '#ccd2d8', '#b2c0d0', '#96afc8', '#7a9fbf', '#5d90b6', '#3c81ae', '#0673a4', '#00669a']</li>\n",
    "    <li style='color:#D94814'><b> laranja: </b> ['#ffbd84', '#ffaa74', '#ff9760', '#ff814b', '#fc6b36', '#eb5824', '#d94814', '#c83b03', '#b73000']</li>\n",
    "    <li style='color:#D96236'><b> laranja 2: ['#ffeba9', '#ffd391', '#ffbb7b', '#fda468', '#f18e56', '#e57846', '#d96236', '#cc4d28', '#bf381b']</b> </li>\n",
    "    <li style='color:#F2B999'><b> cor de pele: ['#ffe9c3', '#fbd0ad', '#f2b999', '#e8a287', '#dd8c76', '#d27666', '#c76158', '#bb4d4b', '#ae393e']</b> </li>\n",
    "    <li style='color:#A66C4B'><b> marrom 1: ['#d9c6af', '#ccad96', '#c1977c', '#b48061', '#a66c4b', '#975b39', '#874c2c', '#774124', '#683720']</b> </li>\n",
    "    <li style='color:#732C02'><b> marrom 2: ['#eebd93', '#dfa47a', '#d28d60', '#c37746', '#b4622f', '#a3501d', '#92420e', '#823606', '#732c02']</b> </li>\n",
    "</ul>\n",
    "\n",
    "\n",
    "\n",
    "**Colors  (antigas):** \n",
    "\n",
    "<ul>\n",
    "    <li style='color:#41A681'><b> #41A681 </b># verde1</li>\n",
    "    <li style='color:#3CA67F'><b> #3CA67F </b># verde2</li>\n",
    "    <li style='color:#7ACAAB'><b> #7ACAAB </b># verde claro</li>\n",
    "    <li style='color:#78a1a1'><b> #78a1a1 </b># azul</li>\n",
    "    <li style='color:#8ABFB0'><b> #8ABFB0 </b># azul claro</li>\n",
    "    <li style='color:#FFB27C'><b> #FFB27C </b># cor de pele clara</li>\n",
    "    <li style='color:#F29877'><b> #F29877 </b># cor de pele</li>\n",
    "    <li style='color:#ed845e'><b> #ed845e </b># laranja claro1</li>\n",
    "    <li style='color:#D96236'><b> #D96236 </b># laranja claro2</li>\n",
    "    <li style='color:#D95323'><b> #D95323 </b># laranja 1</li>\n",
    "    <li style='color:#D94B18'><b> #D94B18 </b># laranja 2</li>\n",
    "    <li style='color:#D9C2AD'><b> #D9C2AD </b># bege</li>\n",
    "    <li style='color:#A66C4B'><b> #A66C4B </b># marrom claro</li>\n",
    "    <li style='color:#86471B'><b> #86471B </b># marrom1</li>\n",
    "    <li style='color:#732C02'><b> #732C02 </b># marrom2</li>\n",
    "    <li style='color:#592202'><b> #592202 </b># marrom escuro1</li>\n",
    "    <li style='color:#3D1806'><b> #3D1806 </b># marrom escuro2</li>\n",
    "    <li style='color:#0D0D0D'><b> #0D0D0D </b># preto</li>\n",
    "</ul>\n",
    "\n"
   ]
  },
  {
   "cell_type": "code",
   "execution_count": 4,
   "metadata": {
    "ExecuteTime": {
     "end_time": "2020-08-29T14:40:14.715836Z",
     "start_time": "2020-08-29T14:40:14.701632Z"
    }
   },
   "outputs": [
    {
     "data": {
      "text/plain": [
       "Phyllodocida        2430\n",
       "Eunicida            1496\n",
       "Sabellida            753\n",
       "Scolecida            698\n",
       "Amphinomida          464\n",
       "Spionida             436\n",
       "Terebellida          387\n",
       "NaN                  242\n",
       "Sipuncula              9\n",
       "Canalipalpata          6\n",
       "Crassiclitellata       1\n",
       "Aspidosiphonida        1\n",
       "Name: order, dtype: int64"
      ]
     },
     "execution_count": 4,
     "metadata": {},
     "output_type": "execute_result"
    }
   ],
   "source": [
    "# 220 NaNs\n",
    "NewTable['order'].value_counts(dropna=False)"
   ]
  },
  {
   "cell_type": "code",
   "execution_count": 5,
   "metadata": {},
   "outputs": [],
   "source": [
    "# determinando cores de acordo com a planilha (2020.10.01 - IB e MN - Cores visualização.xlsx)\n",
    "ordens = NewTable['order'].unique()\n",
    "familias = NewTable['family'].unique()\n",
    "\n",
    "# # o agrupamento é feito por famílias (ordem daquelas famílias deve assumir certa cor)\n",
    "cores_ordem = {\n",
    "    'Spionida':'#41A681',   # verde\n",
    "    'Sabellida':'#7ACAAB',  # verde claro\n",
    "    'Canalipalpata':'#78a1a1',  # azul\n",
    "    'Amphinomida':'#8ABFB0',  # azul claro\n",
    "    'Eunicida':'#A66C4B', # marrom claro\n",
    "    'Phyllodocida':'#732C02', # marrom2\n",
    "    'Terebellida':'#ed845e', # laranja claro1\n",
    "    'Scolecida':'#D94B18', # laranja 2\n",
    "    np.NAN:'#0D0D0D',  # preto\n",
    "    \n",
    "    # ordens não citadas na planilha:\n",
    "    'Sipuncula':'#D9C2AD', # bege\n",
    "    'Crassiclitellata':'#FFB27C', # cor de pele clara\n",
    "    'Aspidosiphonida':'#F29877',  # cor de pele\n",
    "    \n",
    "}\n",
    "\n",
    "# paleta de cores por família\n",
    "cores_familia = {\n",
    "    'Magelonidae':'#238762',    # verde escuro \n",
    "    'Oweniidae':'#3CA67F',      # verde (centroide)  \n",
    "    'Chaetopteridae':'#77c8a5', # verde\n",
    "    'Amphinomidae':'#bbebd3',   # verde claro\n",
    "    'Lumbrineridae':'#e7e5df',  # azul claro 1\n",
    "    'Dorvilleidae':'#b2c0d0',   # azul claro2\n",
    "    'Oenonidae':'#7A9FBF',      # azul (centroide)\n",
    "    'Eunicidae':'#3c81ae',      # azul\n",
    "    'Onuphidae':'#00669a',      # azul escuro\n",
    "    'Syllidae':'#ffbd84', \n",
    "    'Typhloscolecidae':'#ffaa74', \n",
    "    'Aphroditidae':'#ff9760', \n",
    "    'Acoetidae':'#ff814b', \n",
    "    'Chrysopetalidae':'#fc6b36', \n",
    "    'Eulepethidae':'#eb5824',\n",
    "    'Lopadorrhynchidae':'#d94814',  # laranja (centroide)\n",
    "    'Polynoidae':'#c83b03',\n",
    "    'Nereididae':'#b73000',\n",
    "    'Nephtyidae':'#f18e56',\n",
    "    'Glyceridae':'#D96236',         # laranja 2 (centroide)\n",
    "    'Tomopteridae':'#bf381b',\n",
    "    'Serpulidae':'#fbd0ad',\n",
    "    'Sabellidae':'#f2b999', # cor de pele (centroide)\n",
    "    'Sabellariidae':'#e8a287',\n",
    "    'Spionidae':'#d27666',\n",
    "    'Ampharetidae':'#b48061',\n",
    "    'Pectinariidae':'#a66c4b',  # marrom 1 (centroide),\n",
    "    'Trichobranchidae':'#975b39',\n",
    "    'Terebellidae':'#874c2c',\n",
    "    'Cirratulidae':'#774124',\n",
    "    'Flabelligeridae':'#683720',\n",
    "    'Sternaspidae':'#eebd93',\n",
    "    'Orbiniidae':'#dfa47a',\n",
    "    'Opheliidae':'#d28d60',\n",
    "    'Capitellidae':'#c37746',\n",
    "    'Arenicolidae':'#b4622f',\n",
    "    'Cossuridae':'#a3501d',\n",
    "    'Scalibregmatidae':'#92420e',\n",
    "    'Paraonidae':'#823606',\n",
    "    'Maldanidae':'#732c02', # marrom 2 (centroide)\n",
    "    'NaN':'#0D0D0D',  # preto\n",
    "}"
   ]
  },
  {
   "cell_type": "markdown",
   "metadata": {},
   "source": [
    "<br>\n",
    "\n",
    "\n",
    "## Graphs\n",
    "\n",
    "---\n",
    "### Creating chart: counts per order per year"
   ]
  },
  {
   "cell_type": "code",
   "execution_count": 6,
   "metadata": {
    "ExecuteTime": {
     "end_time": "2020-08-29T14:40:18.454074Z",
     "start_time": "2020-08-29T14:40:18.412070Z"
    }
   },
   "outputs": [],
   "source": [
    "orders = NewTable.groupby(['start_year','order', 'family']).count()['class'].reset_index().rename(columns={'class':'counts'})\n",
    "\n",
    "orders.sort_values(['start_year','order'], inplace=True)  # ordering"
   ]
  },
  {
   "cell_type": "code",
   "execution_count": 7,
   "metadata": {
    "ExecuteTime": {
     "end_time": "2020-08-29T14:40:19.078108Z",
     "start_time": "2020-08-29T14:40:19.063975Z"
    }
   },
   "outputs": [],
   "source": [
    "# dropping remaining NaN's\n",
    "orders = orders.dropna(subset=['order'])"
   ]
  },
  {
   "cell_type": "code",
   "execution_count": 10,
   "metadata": {
    "ExecuteTime": {
     "end_time": "2020-08-29T14:40:23.544940Z",
     "start_time": "2020-08-29T14:40:23.458903Z"
    }
   },
   "outputs": [],
   "source": [
    "g1 = alt.Chart(orders, width=800, height=300, \n",
    "               title='Number of collected polychaetas per order each year').mark_circle().encode(\n",
    "    x= alt.X('start_year', type='ordinal', title='Sampling Year'),\n",
    "    y= alt.Y('order', type='nominal', title='Order',\n",
    "            sort= alt.EncodingSortField(field='counts', op='sum', order='descending')),\n",
    "    size = alt.Size('counts', scale=alt.Scale(range=[10,600])),\n",
    "    order= alt.Order('counts', sort='descending'),  # smaller points in front\n",
    "    color = alt.Color('family:N', title='Family', \n",
    "                      scale= alt.Scale(domain=list(cores_familia.keys()), range=list(cores_familia.values())),\n",
    "                      legend= alt.Legend(columns=2, symbolLimit=42)),\n",
    "    tooltip= alt.Tooltip(['start_year', 'counts'])\n",
    ")\n",
    "\n",
    "g1 = g1.configure_title(fontSize=16).configure_axis(\n",
    "    labelFontSize=12,\n",
    "    titleFontSize=12\n",
    ").configure_legend(\n",
    "    labelFontSize=12,\n",
    "    titleFontSize=12\n",
    ")\n",
    "\n",
    "# saving graph\n",
    "# g1.save('./graphs/orders_per_year.html')\n",
    "# g1"
   ]
  },
  {
   "cell_type": "markdown",
   "metadata": {},
   "source": [
    "### number of polychaetas per family per year"
   ]
  },
  {
   "cell_type": "code",
   "execution_count": 11,
   "metadata": {
    "ExecuteTime": {
     "end_time": "2020-08-29T14:40:33.729677Z",
     "start_time": "2020-08-29T14:40:33.674682Z"
    }
   },
   "outputs": [],
   "source": [
    "teste = NewTable.groupby(['family','start_year']).count()['class'].reset_index().rename(\n",
    "                                                                                    columns={'class':'counts'})\n",
    "\n",
    "teste['start_year'] = teste['start_year'].astype(int)"
   ]
  },
  {
   "cell_type": "markdown",
   "metadata": {},
   "source": [
    "<br>\n",
    "\n",
    "**graph:** family per year"
   ]
  },
  {
   "cell_type": "code",
   "execution_count": 12,
   "metadata": {
    "ExecuteTime": {
     "end_time": "2020-08-29T14:40:39.873347Z",
     "start_time": "2020-08-29T14:40:39.789897Z"
    }
   },
   "outputs": [
    {
     "data": {
      "text/html": [
       "\n",
       "<div id=\"altair-viz-b930c60f37ef4fb4b5c7e7c646aa94e2\"></div>\n",
       "<script type=\"text/javascript\">\n",
       "  (function(spec, embedOpt){\n",
       "    let outputDiv = document.currentScript.previousElementSibling;\n",
       "    if (outputDiv.id !== \"altair-viz-b930c60f37ef4fb4b5c7e7c646aa94e2\") {\n",
       "      outputDiv = document.getElementById(\"altair-viz-b930c60f37ef4fb4b5c7e7c646aa94e2\");\n",
       "    }\n",
       "    const paths = {\n",
       "      \"vega\": \"https://cdn.jsdelivr.net/npm//vega@5?noext\",\n",
       "      \"vega-lib\": \"https://cdn.jsdelivr.net/npm//vega-lib?noext\",\n",
       "      \"vega-lite\": \"https://cdn.jsdelivr.net/npm//vega-lite@4.8.1?noext\",\n",
       "      \"vega-embed\": \"https://cdn.jsdelivr.net/npm//vega-embed@6?noext\",\n",
       "    };\n",
       "\n",
       "    function loadScript(lib) {\n",
       "      return new Promise(function(resolve, reject) {\n",
       "        var s = document.createElement('script');\n",
       "        s.src = paths[lib];\n",
       "        s.async = true;\n",
       "        s.onload = () => resolve(paths[lib]);\n",
       "        s.onerror = () => reject(`Error loading script: ${paths[lib]}`);\n",
       "        document.getElementsByTagName(\"head\")[0].appendChild(s);\n",
       "      });\n",
       "    }\n",
       "\n",
       "    function showError(err) {\n",
       "      outputDiv.innerHTML = `<div class=\"error\" style=\"color:red;\">${err}</div>`;\n",
       "      throw err;\n",
       "    }\n",
       "\n",
       "    function displayChart(vegaEmbed) {\n",
       "      vegaEmbed(outputDiv, spec, embedOpt)\n",
       "        .catch(err => showError(`Javascript Error: ${err.message}<br>This usually means there's a typo in your chart specification. See the javascript console for the full traceback.`));\n",
       "    }\n",
       "\n",
       "    if(typeof define === \"function\" && define.amd) {\n",
       "      requirejs.config({paths});\n",
       "      require([\"vega-embed\"], displayChart, err => showError(`Error loading script: ${err.message}`));\n",
       "    } else if (typeof vegaEmbed === \"function\") {\n",
       "      displayChart(vegaEmbed);\n",
       "    } else {\n",
       "      loadScript(\"vega\")\n",
       "        .then(() => loadScript(\"vega-lite\"))\n",
       "        .then(() => loadScript(\"vega-embed\"))\n",
       "        .catch(showError)\n",
       "        .then(() => displayChart(vegaEmbed));\n",
       "    }\n",
       "  })({\"config\": {\"view\": {\"continuousWidth\": 400, \"continuousHeight\": 300}, \"axis\": {\"labelFontSize\": 12, \"titleFontSize\": 12}, \"legend\": {\"labelFontSize\": 12, \"titleFontSize\": 12}, \"title\": {\"fontSize\": 16}}, \"data\": {\"name\": \"data-653ce412cc59a845e7b469d5eed10df3\"}, \"mark\": {\"type\": \"circle\", \"size\": 60}, \"encoding\": {\"size\": {\"type\": \"quantitative\", \"field\": \"counts\", \"scale\": {\"range\": [6, 400]}, \"title\": \"Count\"}, \"tooltip\": [{\"type\": \"nominal\", \"field\": \"family\"}, {\"type\": \"quantitative\", \"field\": \"start_year\"}, {\"type\": \"quantitative\", \"field\": \"counts\"}], \"x\": {\"type\": \"ordinal\", \"field\": \"start_year\", \"title\": \"Sampling Year\"}, \"y\": {\"type\": \"nominal\", \"field\": \"family\", \"sort\": {\"field\": \"counts\", \"op\": \"count\", \"order\": \"descending\"}, \"title\": \"Family\"}}, \"height\": 500, \"title\": \"Number of collected polychaeta of each family per year\", \"width\": 500, \"$schema\": \"https://vega.github.io/schema/vega-lite/v4.8.1.json\", \"datasets\": {\"data-653ce412cc59a845e7b469d5eed10df3\": [{\"family\": \"Acoetidae\", \"start_year\": 2001, \"counts\": 3}, {\"family\": \"Acoetidae\", \"start_year\": 2002, \"counts\": 2}, {\"family\": \"Acoetidae\", \"start_year\": 2012, \"counts\": 2}, {\"family\": \"Alciopidae\", \"start_year\": 1998, \"counts\": 139}, {\"family\": \"Alciopidae\", \"start_year\": 2000, \"counts\": 170}, {\"family\": \"Ampharetidae\", \"start_year\": 1993, \"counts\": 1}, {\"family\": \"Ampharetidae\", \"start_year\": 1994, \"counts\": 1}, {\"family\": \"Ampharetidae\", \"start_year\": 1996, \"counts\": 2}, {\"family\": \"Ampharetidae\", \"start_year\": 1998, \"counts\": 1}, {\"family\": \"Ampharetidae\", \"start_year\": 2000, \"counts\": 8}, {\"family\": \"Ampharetidae\", \"start_year\": 2001, \"counts\": 2}, {\"family\": \"Ampharetidae\", \"start_year\": 2002, \"counts\": 4}, {\"family\": \"Ampharetidae\", \"start_year\": 2003, \"counts\": 8}, {\"family\": \"Ampharetidae\", \"start_year\": 2008, \"counts\": 1}, {\"family\": \"Ampharetidae\", \"start_year\": 2013, \"counts\": 1}, {\"family\": \"Amphinomidae\", \"start_year\": 1900, \"counts\": 1}, {\"family\": \"Amphinomidae\", \"start_year\": 1905, \"counts\": 1}, {\"family\": \"Amphinomidae\", \"start_year\": 1961, \"counts\": 1}, {\"family\": \"Amphinomidae\", \"start_year\": 1967, \"counts\": 1}, {\"family\": \"Amphinomidae\", \"start_year\": 1977, \"counts\": 1}, {\"family\": \"Amphinomidae\", \"start_year\": 1999, \"counts\": 4}, {\"family\": \"Amphinomidae\", \"start_year\": 2000, \"counts\": 20}, {\"family\": \"Amphinomidae\", \"start_year\": 2001, \"counts\": 35}, {\"family\": \"Amphinomidae\", \"start_year\": 2002, \"counts\": 4}, {\"family\": \"Amphinomidae\", \"start_year\": 2003, \"counts\": 7}, {\"family\": \"Amphinomidae\", \"start_year\": 2005, \"counts\": 4}, {\"family\": \"Amphinomidae\", \"start_year\": 2007, \"counts\": 1}, {\"family\": \"Amphinomidae\", \"start_year\": 2008, \"counts\": 90}, {\"family\": \"Amphinomidae\", \"start_year\": 2009, \"counts\": 2}, {\"family\": \"Amphinomidae\", \"start_year\": 2010, \"counts\": 5}, {\"family\": \"Amphinomidae\", \"start_year\": 2011, \"counts\": 43}, {\"family\": \"Amphinomidae\", \"start_year\": 2012, \"counts\": 78}, {\"family\": \"Amphinomidae\", \"start_year\": 2013, \"counts\": 87}, {\"family\": \"Amphinomidae\", \"start_year\": 2014, \"counts\": 6}, {\"family\": \"Amphinomidae\", \"start_year\": 2016, \"counts\": 1}, {\"family\": \"Amphinomidae\", \"start_year\": 2017, \"counts\": 2}, {\"family\": \"Aphroditidae\", \"start_year\": 1905, \"counts\": 1}, {\"family\": \"Aphroditidae\", \"start_year\": 1974, \"counts\": 1}, {\"family\": \"Aphroditidae\", \"start_year\": 2000, \"counts\": 1}, {\"family\": \"Aphroditidae\", \"start_year\": 2001, \"counts\": 15}, {\"family\": \"Aphroditidae\", \"start_year\": 2002, \"counts\": 2}, {\"family\": \"Aphroditidae\", \"start_year\": 2005, \"counts\": 1}, {\"family\": \"Aphroditidae\", \"start_year\": 2013, \"counts\": 1}, {\"family\": \"Aphroditidae\", \"start_year\": 2017, \"counts\": 1}, {\"family\": \"Aphroditidae\", \"start_year\": 2018, \"counts\": 7}, {\"family\": \"Apistobranchidae\", \"start_year\": 2003, \"counts\": 2}, {\"family\": \"Apistobranchidae\", \"start_year\": 2008, \"counts\": 18}, {\"family\": \"Apistobranchidae\", \"start_year\": 2009, \"counts\": 30}, {\"family\": \"Apistobranchidae\", \"start_year\": 2010, \"counts\": 12}, {\"family\": \"Apistobranchidae\", \"start_year\": 2011, \"counts\": 43}, {\"family\": \"Apistobranchidae\", \"start_year\": 2012, \"counts\": 1}, {\"family\": \"Apistobranchidae\", \"start_year\": 2013, \"counts\": 44}, {\"family\": \"Arenicolidae\", \"start_year\": 2017, \"counts\": 1}, {\"family\": \"Aspidosiphonidae\", \"start_year\": 2012, \"counts\": 1}, {\"family\": \"Capitellidae\", \"start_year\": 1995, \"counts\": 6}, {\"family\": \"Capitellidae\", \"start_year\": 1997, \"counts\": 1}, {\"family\": \"Capitellidae\", \"start_year\": 1998, \"counts\": 13}, {\"family\": \"Capitellidae\", \"start_year\": 1999, \"counts\": 15}, {\"family\": \"Capitellidae\", \"start_year\": 2000, \"counts\": 14}, {\"family\": \"Capitellidae\", \"start_year\": 2001, \"counts\": 2}, {\"family\": \"Capitellidae\", \"start_year\": 2002, \"counts\": 7}, {\"family\": \"Capitellidae\", \"start_year\": 2003, \"counts\": 3}, {\"family\": \"Capitellidae\", \"start_year\": 2004, \"counts\": 3}, {\"family\": \"Capitellidae\", \"start_year\": 2006, \"counts\": 1}, {\"family\": \"Capitellidae\", \"start_year\": 2007, \"counts\": 2}, {\"family\": \"Capitellidae\", \"start_year\": 2008, \"counts\": 2}, {\"family\": \"Capitellidae\", \"start_year\": 2012, \"counts\": 3}, {\"family\": \"Capitellidae\", \"start_year\": 2013, \"counts\": 31}, {\"family\": \"Capitellidae\", \"start_year\": 2014, \"counts\": 20}, {\"family\": \"Capitellidae\", \"start_year\": 2015, \"counts\": 4}, {\"family\": \"Capitellidae\", \"start_year\": 2018, \"counts\": 2}, {\"family\": \"Chaetopteridae\", \"start_year\": 1999, \"counts\": 2}, {\"family\": \"Chaetopteridae\", \"start_year\": 2001, \"counts\": 1}, {\"family\": \"Chaetopteridae\", \"start_year\": 2002, \"counts\": 2}, {\"family\": \"Chaetopteridae\", \"start_year\": 2005, \"counts\": 1}, {\"family\": \"Chaetopteridae\", \"start_year\": 2011, \"counts\": 2}, {\"family\": \"Chaetopteridae\", \"start_year\": 2012, \"counts\": 1}, {\"family\": \"Chaetopteridae\", \"start_year\": 2018, \"counts\": 1}, {\"family\": \"Chrysopetalidae\", \"start_year\": 2000, \"counts\": 1}, {\"family\": \"Chrysopetalidae\", \"start_year\": 2005, \"counts\": 2}, {\"family\": \"Chrysopetalidae\", \"start_year\": 2012, \"counts\": 29}, {\"family\": \"Chrysopetalidae\", \"start_year\": 2013, \"counts\": 1}, {\"family\": \"Chrysopetalidae\", \"start_year\": 2014, \"counts\": 2}, {\"family\": \"Chrysopetalidae\", \"start_year\": 2017, \"counts\": 3}, {\"family\": \"Cirratulidae\", \"start_year\": 1996, \"counts\": 1}, {\"family\": \"Cirratulidae\", \"start_year\": 1997, \"counts\": 1}, {\"family\": \"Cirratulidae\", \"start_year\": 1999, \"counts\": 11}, {\"family\": \"Cirratulidae\", \"start_year\": 2000, \"counts\": 14}, {\"family\": \"Cirratulidae\", \"start_year\": 2001, \"counts\": 2}, {\"family\": \"Cirratulidae\", \"start_year\": 2002, \"counts\": 3}, {\"family\": \"Cirratulidae\", \"start_year\": 2003, \"counts\": 6}, {\"family\": \"Cirratulidae\", \"start_year\": 2004, \"counts\": 2}, {\"family\": \"Cirratulidae\", \"start_year\": 2005, \"counts\": 1}, {\"family\": \"Cirratulidae\", \"start_year\": 2009, \"counts\": 2}, {\"family\": \"Cirratulidae\", \"start_year\": 2011, \"counts\": 11}, {\"family\": \"Cirratulidae\", \"start_year\": 2012, \"counts\": 21}, {\"family\": \"Cirratulidae\", \"start_year\": 2013, \"counts\": 14}, {\"family\": \"Cirratulidae\", \"start_year\": 2014, \"counts\": 8}, {\"family\": \"Cirratulidae\", \"start_year\": 2015, \"counts\": 1}, {\"family\": \"Cossuridae\", \"start_year\": 2000, \"counts\": 1}, {\"family\": \"Cossuridae\", \"start_year\": 2001, \"counts\": 1}, {\"family\": \"Dorvilleidae\", \"start_year\": 1998, \"counts\": 1}, {\"family\": \"Dorvilleidae\", \"start_year\": 2000, \"counts\": 5}, {\"family\": \"Dorvilleidae\", \"start_year\": 2002, \"counts\": 2}, {\"family\": \"Dorvilleidae\", \"start_year\": 2003, \"counts\": 2}, {\"family\": \"Dorvilleidae\", \"start_year\": 2005, \"counts\": 2}, {\"family\": \"Dorvilleidae\", \"start_year\": 2010, \"counts\": 4}, {\"family\": \"Dorvilleidae\", \"start_year\": 2011, \"counts\": 1}, {\"family\": \"Dorvilleidae\", \"start_year\": 2012, \"counts\": 5}, {\"family\": \"Dorvilleidae\", \"start_year\": 2013, \"counts\": 3}, {\"family\": \"Dorvilleidae\", \"start_year\": 2014, \"counts\": 2}, {\"family\": \"Dorvilleidae\", \"start_year\": 2017, \"counts\": 2}, {\"family\": \"Eulepethidae\", \"start_year\": 1999, \"counts\": 1}, {\"family\": \"Eulepethidae\", \"start_year\": 2000, \"counts\": 2}, {\"family\": \"Eulepethidae\", \"start_year\": 2002, \"counts\": 1}, {\"family\": \"Eunicidae\", \"start_year\": 1905, \"counts\": 1}, {\"family\": \"Eunicidae\", \"start_year\": 1962, \"counts\": 1}, {\"family\": \"Eunicidae\", \"start_year\": 1967, \"counts\": 3}, {\"family\": \"Eunicidae\", \"start_year\": 1979, \"counts\": 1}, {\"family\": \"Eunicidae\", \"start_year\": 1980, \"counts\": 4}, {\"family\": \"Eunicidae\", \"start_year\": 1982, \"counts\": 2}, {\"family\": \"Eunicidae\", \"start_year\": 1983, \"counts\": 3}, {\"family\": \"Eunicidae\", \"start_year\": 1984, \"counts\": 5}, {\"family\": \"Eunicidae\", \"start_year\": 1986, \"counts\": 2}, {\"family\": \"Eunicidae\", \"start_year\": 1989, \"counts\": 3}, {\"family\": \"Eunicidae\", \"start_year\": 1990, \"counts\": 1}, {\"family\": \"Eunicidae\", \"start_year\": 1992, \"counts\": 15}, {\"family\": \"Eunicidae\", \"start_year\": 1993, \"counts\": 4}, {\"family\": \"Eunicidae\", \"start_year\": 1994, \"counts\": 1}, {\"family\": \"Eunicidae\", \"start_year\": 1995, \"counts\": 3}, {\"family\": \"Eunicidae\", \"start_year\": 1996, \"counts\": 42}, {\"family\": \"Eunicidae\", \"start_year\": 1997, \"counts\": 135}, {\"family\": \"Eunicidae\", \"start_year\": 1998, \"counts\": 4}, {\"family\": \"Eunicidae\", \"start_year\": 1999, \"counts\": 28}, {\"family\": \"Eunicidae\", \"start_year\": 2000, \"counts\": 257}, {\"family\": \"Eunicidae\", \"start_year\": 2001, \"counts\": 86}, {\"family\": \"Eunicidae\", \"start_year\": 2002, \"counts\": 16}, {\"family\": \"Eunicidae\", \"start_year\": 2003, \"counts\": 3}, {\"family\": \"Eunicidae\", \"start_year\": 2004, \"counts\": 48}, {\"family\": \"Eunicidae\", \"start_year\": 2005, \"counts\": 93}, {\"family\": \"Eunicidae\", \"start_year\": 2006, \"counts\": 1}, {\"family\": \"Eunicidae\", \"start_year\": 2007, \"counts\": 6}, {\"family\": \"Eunicidae\", \"start_year\": 2008, \"counts\": 1}, {\"family\": \"Eunicidae\", \"start_year\": 2009, \"counts\": 9}, {\"family\": \"Eunicidae\", \"start_year\": 2010, \"counts\": 5}, {\"family\": \"Eunicidae\", \"start_year\": 2011, \"counts\": 53}, {\"family\": \"Eunicidae\", \"start_year\": 2012, \"counts\": 56}, {\"family\": \"Eunicidae\", \"start_year\": 2013, \"counts\": 35}, {\"family\": \"Eunicidae\", \"start_year\": 2014, \"counts\": 47}, {\"family\": \"Eunicidae\", \"start_year\": 2015, \"counts\": 9}, {\"family\": \"Eunicidae\", \"start_year\": 2016, \"counts\": 19}, {\"family\": \"Eunicidae\", \"start_year\": 2017, \"counts\": 4}, {\"family\": \"Eunicidae\", \"start_year\": 2018, \"counts\": 1}, {\"family\": \"Euphrosinidae\", \"start_year\": 2002, \"counts\": 1}, {\"family\": \"Euphrosinidae\", \"start_year\": 2010, \"counts\": 2}, {\"family\": \"Euphrosinidae\", \"start_year\": 2011, \"counts\": 3}, {\"family\": \"Euphrosinidae\", \"start_year\": 2012, \"counts\": 5}, {\"family\": \"Euphrosinidae\", \"start_year\": 2013, \"counts\": 7}, {\"family\": \"Flabelligeridae\", \"start_year\": 2000, \"counts\": 12}, {\"family\": \"Flabelligeridae\", \"start_year\": 2001, \"counts\": 4}, {\"family\": \"Flabelligeridae\", \"start_year\": 2002, \"counts\": 4}, {\"family\": \"Flabelligeridae\", \"start_year\": 2003, \"counts\": 18}, {\"family\": \"Flabelligeridae\", \"start_year\": 2011, \"counts\": 4}, {\"family\": \"Flabelligeridae\", \"start_year\": 2012, \"counts\": 1}, {\"family\": \"Glyceridae\", \"start_year\": 1995, \"counts\": 1}, {\"family\": \"Glyceridae\", \"start_year\": 1999, \"counts\": 1}, {\"family\": \"Glyceridae\", \"start_year\": 2000, \"counts\": 15}, {\"family\": \"Glyceridae\", \"start_year\": 2001, \"counts\": 17}, {\"family\": \"Glyceridae\", \"start_year\": 2002, \"counts\": 6}, {\"family\": \"Glyceridae\", \"start_year\": 2003, \"counts\": 21}, {\"family\": \"Glyceridae\", \"start_year\": 2006, \"counts\": 2}, {\"family\": \"Glyceridae\", \"start_year\": 2011, \"counts\": 1}, {\"family\": \"Glyceridae\", \"start_year\": 2012, \"counts\": 6}, {\"family\": \"Glyceridae\", \"start_year\": 2013, \"counts\": 1}, {\"family\": \"Glyceridae\", \"start_year\": 2014, \"counts\": 3}, {\"family\": \"Glyceridae\", \"start_year\": 2015, \"counts\": 1}, {\"family\": \"Glyceridae\", \"start_year\": 2017, \"counts\": 2}, {\"family\": \"Goniadidae\", \"start_year\": 1992, \"counts\": 1}, {\"family\": \"Goniadidae\", \"start_year\": 1993, \"counts\": 4}, {\"family\": \"Goniadidae\", \"start_year\": 1994, \"counts\": 1}, {\"family\": \"Goniadidae\", \"start_year\": 1995, \"counts\": 1}, {\"family\": \"Goniadidae\", \"start_year\": 1996, \"counts\": 1}, {\"family\": \"Goniadidae\", \"start_year\": 1997, \"counts\": 1}, {\"family\": \"Goniadidae\", \"start_year\": 1998, \"counts\": 1}, {\"family\": \"Goniadidae\", \"start_year\": 1999, \"counts\": 8}, {\"family\": \"Goniadidae\", \"start_year\": 2000, \"counts\": 4}, {\"family\": \"Goniadidae\", \"start_year\": 2002, \"counts\": 1}, {\"family\": \"Goniadidae\", \"start_year\": 2003, \"counts\": 4}, {\"family\": \"Goniadidae\", \"start_year\": 2006, \"counts\": 1}, {\"family\": \"Goniadidae\", \"start_year\": 2008, \"counts\": 1}, {\"family\": \"Hesionidae\", \"start_year\": 2000, \"counts\": 1}, {\"family\": \"Hesionidae\", \"start_year\": 2001, \"counts\": 2}, {\"family\": \"Hesionidae\", \"start_year\": 2002, \"counts\": 2}, {\"family\": \"Hesionidae\", \"start_year\": 2011, \"counts\": 3}, {\"family\": \"Hesionidae\", \"start_year\": 2012, \"counts\": 2}, {\"family\": \"Hesionidae\", \"start_year\": 2013, \"counts\": 3}, {\"family\": \"Hesionidae\", \"start_year\": 2014, \"counts\": 5}, {\"family\": \"Hesionidae\", \"start_year\": 2016, \"counts\": 1}, {\"family\": \"Hesionidae\", \"start_year\": 2018, \"counts\": 2}, {\"family\": \"Iospilidae\", \"start_year\": 1998, \"counts\": 53}, {\"family\": \"Iospilidae\", \"start_year\": 2000, \"counts\": 62}, {\"family\": \"Lacydoniidae\", \"start_year\": 2008, \"counts\": 1}, {\"family\": \"Lacydoniidae\", \"start_year\": 2009, \"counts\": 2}, {\"family\": \"Lacydoniidae\", \"start_year\": 2018, \"counts\": 2}, {\"family\": \"Longosomatidae\", \"start_year\": 2000, \"counts\": 1}, {\"family\": \"Lopadorrhynchidae\", \"start_year\": 1998, \"counts\": 49}, {\"family\": \"Lopadorrhynchidae\", \"start_year\": 2000, \"counts\": 24}, {\"family\": \"Lopadorrhynchidae\", \"start_year\": 2003, \"counts\": 1}, {\"family\": \"Lopadorrhynchidae\", \"start_year\": 2008, \"counts\": 1}, {\"family\": \"Lumbrineridae\", \"start_year\": 1992, \"counts\": 1}, {\"family\": \"Lumbrineridae\", \"start_year\": 1993, \"counts\": 3}, {\"family\": \"Lumbrineridae\", \"start_year\": 1994, \"counts\": 3}, {\"family\": \"Lumbrineridae\", \"start_year\": 1996, \"counts\": 1}, {\"family\": \"Lumbrineridae\", \"start_year\": 1998, \"counts\": 1}, {\"family\": \"Lumbrineridae\", \"start_year\": 1999, \"counts\": 4}, {\"family\": \"Lumbrineridae\", \"start_year\": 2000, \"counts\": 36}, {\"family\": \"Lumbrineridae\", \"start_year\": 2001, \"counts\": 5}, {\"family\": \"Lumbrineridae\", \"start_year\": 2002, \"counts\": 7}, {\"family\": \"Lumbrineridae\", \"start_year\": 2003, \"counts\": 19}, {\"family\": \"Lumbrineridae\", \"start_year\": 2005, \"counts\": 1}, {\"family\": \"Lumbrineridae\", \"start_year\": 2008, \"counts\": 2}, {\"family\": \"Lumbrineridae\", \"start_year\": 2011, \"counts\": 4}, {\"family\": \"Lumbrineridae\", \"start_year\": 2012, \"counts\": 4}, {\"family\": \"Lumbrineridae\", \"start_year\": 2013, \"counts\": 12}, {\"family\": \"Lumbrineridae\", \"start_year\": 2014, \"counts\": 14}, {\"family\": \"Lumbrineridae\", \"start_year\": 2017, \"counts\": 1}, {\"family\": \"Magelonidae\", \"start_year\": 1997, \"counts\": 1}, {\"family\": \"Magelonidae\", \"start_year\": 1998, \"counts\": 1}, {\"family\": \"Magelonidae\", \"start_year\": 1999, \"counts\": 6}, {\"family\": \"Magelonidae\", \"start_year\": 2000, \"counts\": 8}, {\"family\": \"Magelonidae\", \"start_year\": 2002, \"counts\": 1}, {\"family\": \"Magelonidae\", \"start_year\": 2003, \"counts\": 1}, {\"family\": \"Magelonidae\", \"start_year\": 2005, \"counts\": 2}, {\"family\": \"Magelonidae\", \"start_year\": 2006, \"counts\": 1}, {\"family\": \"Magelonidae\", \"start_year\": 2007, \"counts\": 1}, {\"family\": \"Magelonidae\", \"start_year\": 2008, \"counts\": 1}, {\"family\": \"Magelonidae\", \"start_year\": 2011, \"counts\": 1}, {\"family\": \"Maldanidae\", \"start_year\": 1992, \"counts\": 1}, {\"family\": \"Maldanidae\", \"start_year\": 1999, \"counts\": 2}, {\"family\": \"Maldanidae\", \"start_year\": 2000, \"counts\": 7}, {\"family\": \"Maldanidae\", \"start_year\": 2001, \"counts\": 2}, {\"family\": \"Maldanidae\", \"start_year\": 2002, \"counts\": 6}, {\"family\": \"Maldanidae\", \"start_year\": 2003, \"counts\": 16}, {\"family\": \"Maldanidae\", \"start_year\": 2004, \"counts\": 1}, {\"family\": \"Maldanidae\", \"start_year\": 2011, \"counts\": 1}, {\"family\": \"Maldanidae\", \"start_year\": 2018, \"counts\": 3}, {\"family\": \"Megascolecidae\", \"start_year\": 2001, \"counts\": 1}, {\"family\": \"NaN\", \"start_year\": 1992, \"counts\": 1}, {\"family\": \"NaN\", \"start_year\": 2000, \"counts\": 1}, {\"family\": \"NaN\", \"start_year\": 2001, \"counts\": 1}, {\"family\": \"NaN\", \"start_year\": 2002, \"counts\": 9}, {\"family\": \"NaN\", \"start_year\": 2003, \"counts\": 9}, {\"family\": \"NaN\", \"start_year\": 2004, \"counts\": 1}, {\"family\": \"NaN\", \"start_year\": 2005, \"counts\": 2}, {\"family\": \"NaN\", \"start_year\": 2007, \"counts\": 1}, {\"family\": \"NaN\", \"start_year\": 2008, \"counts\": 2}, {\"family\": \"NaN\", \"start_year\": 2011, \"counts\": 9}, {\"family\": \"NaN\", \"start_year\": 2013, \"counts\": 1}, {\"family\": \"NaN\", \"start_year\": 2014, \"counts\": 6}, {\"family\": \"NaN\", \"start_year\": 2015, \"counts\": 3}, {\"family\": \"Nephtyidae\", \"start_year\": 1992, \"counts\": 1}, {\"family\": \"Nephtyidae\", \"start_year\": 2000, \"counts\": 8}, {\"family\": \"Nephtyidae\", \"start_year\": 2001, \"counts\": 4}, {\"family\": \"Nephtyidae\", \"start_year\": 2002, \"counts\": 2}, {\"family\": \"Nephtyidae\", \"start_year\": 2003, \"counts\": 4}, {\"family\": \"Nephtyidae\", \"start_year\": 2008, \"counts\": 1}, {\"family\": \"Nephtyidae\", \"start_year\": 2014, \"counts\": 4}, {\"family\": \"Nereididae\", \"start_year\": 1995, \"counts\": 5}, {\"family\": \"Nereididae\", \"start_year\": 1997, \"counts\": 1}, {\"family\": \"Nereididae\", \"start_year\": 1998, \"counts\": 2}, {\"family\": \"Nereididae\", \"start_year\": 1999, \"counts\": 11}, {\"family\": \"Nereididae\", \"start_year\": 2000, \"counts\": 25}, {\"family\": \"Nereididae\", \"start_year\": 2001, \"counts\": 27}, {\"family\": \"Nereididae\", \"start_year\": 2002, \"counts\": 17}, {\"family\": \"Nereididae\", \"start_year\": 2003, \"counts\": 2}, {\"family\": \"Nereididae\", \"start_year\": 2005, \"counts\": 6}, {\"family\": \"Nereididae\", \"start_year\": 2007, \"counts\": 3}, {\"family\": \"Nereididae\", \"start_year\": 2008, \"counts\": 4}, {\"family\": \"Nereididae\", \"start_year\": 2010, \"counts\": 1}, {\"family\": \"Nereididae\", \"start_year\": 2011, \"counts\": 4}, {\"family\": \"Nereididae\", \"start_year\": 2012, \"counts\": 74}, {\"family\": \"Nereididae\", \"start_year\": 2013, \"counts\": 39}, {\"family\": \"Nereididae\", \"start_year\": 2014, \"counts\": 28}, {\"family\": \"Nereididae\", \"start_year\": 2015, \"counts\": 13}, {\"family\": \"Nereididae\", \"start_year\": 2016, \"counts\": 3}, {\"family\": \"Oenonidae\", \"start_year\": 2000, \"counts\": 3}, {\"family\": \"Oenonidae\", \"start_year\": 2001, \"counts\": 9}, {\"family\": \"Oenonidae\", \"start_year\": 2002, \"counts\": 6}, {\"family\": \"Oenonidae\", \"start_year\": 2005, \"counts\": 2}, {\"family\": \"Oenonidae\", \"start_year\": 2007, \"counts\": 2}, {\"family\": \"Oenonidae\", \"start_year\": 2011, \"counts\": 3}, {\"family\": \"Oenonidae\", \"start_year\": 2012, \"counts\": 3}, {\"family\": \"Oenonidae\", \"start_year\": 2013, \"counts\": 5}, {\"family\": \"Oenonidae\", \"start_year\": 2014, \"counts\": 4}, {\"family\": \"Onuphidae\", \"start_year\": 1998, \"counts\": 1}, {\"family\": \"Onuphidae\", \"start_year\": 1999, \"counts\": 5}, {\"family\": \"Onuphidae\", \"start_year\": 2000, \"counts\": 11}, {\"family\": \"Onuphidae\", \"start_year\": 2001, \"counts\": 4}, {\"family\": \"Onuphidae\", \"start_year\": 2002, \"counts\": 7}, {\"family\": \"Onuphidae\", \"start_year\": 2003, \"counts\": 2}, {\"family\": \"Onuphidae\", \"start_year\": 2005, \"counts\": 1}, {\"family\": \"Onuphidae\", \"start_year\": 2010, \"counts\": 1}, {\"family\": \"Onuphidae\", \"start_year\": 2011, \"counts\": 9}, {\"family\": \"Onuphidae\", \"start_year\": 2012, \"counts\": 2}, {\"family\": \"Onuphidae\", \"start_year\": 2013, \"counts\": 2}, {\"family\": \"Onuphidae\", \"start_year\": 2015, \"counts\": 4}, {\"family\": \"Onuphidae\", \"start_year\": 2016, \"counts\": 2}, {\"family\": \"Onuphidae\", \"start_year\": 2017, \"counts\": 1}, {\"family\": \"Opheliidae\", \"start_year\": 1997, \"counts\": 1}, {\"family\": \"Opheliidae\", \"start_year\": 1998, \"counts\": 2}, {\"family\": \"Opheliidae\", \"start_year\": 1999, \"counts\": 4}, {\"family\": \"Opheliidae\", \"start_year\": 2000, \"counts\": 7}, {\"family\": \"Opheliidae\", \"start_year\": 2001, \"counts\": 3}, {\"family\": \"Opheliidae\", \"start_year\": 2002, \"counts\": 4}, {\"family\": \"Opheliidae\", \"start_year\": 2003, \"counts\": 6}, {\"family\": \"Opheliidae\", \"start_year\": 2008, \"counts\": 1}, {\"family\": \"Opheliidae\", \"start_year\": 2014, \"counts\": 2}, {\"family\": \"Opheliidae\", \"start_year\": 2015, \"counts\": 2}, {\"family\": \"Opheliidae\", \"start_year\": 2016, \"counts\": 1}, {\"family\": \"Opheliidae\", \"start_year\": 2017, \"counts\": 4}, {\"family\": \"Opheliidae\", \"start_year\": 2018, \"counts\": 3}, {\"family\": \"Orbiniidae\", \"start_year\": 1995, \"counts\": 2}, {\"family\": \"Orbiniidae\", \"start_year\": 1996, \"counts\": 2}, {\"family\": \"Orbiniidae\", \"start_year\": 1997, \"counts\": 3}, {\"family\": \"Orbiniidae\", \"start_year\": 1998, \"counts\": 2}, {\"family\": \"Orbiniidae\", \"start_year\": 1999, \"counts\": 8}, {\"family\": \"Orbiniidae\", \"start_year\": 2000, \"counts\": 20}, {\"family\": \"Orbiniidae\", \"start_year\": 2001, \"counts\": 1}, {\"family\": \"Orbiniidae\", \"start_year\": 2002, \"counts\": 7}, {\"family\": \"Orbiniidae\", \"start_year\": 2003, \"counts\": 7}, {\"family\": \"Orbiniidae\", \"start_year\": 2004, \"counts\": 4}, {\"family\": \"Orbiniidae\", \"start_year\": 2006, \"counts\": 1}, {\"family\": \"Orbiniidae\", \"start_year\": 2008, \"counts\": 1}, {\"family\": \"Orbiniidae\", \"start_year\": 2009, \"counts\": 18}, {\"family\": \"Orbiniidae\", \"start_year\": 2011, \"counts\": 2}, {\"family\": \"Orbiniidae\", \"start_year\": 2012, \"counts\": 2}, {\"family\": \"Orbiniidae\", \"start_year\": 2015, \"counts\": 5}, {\"family\": \"Orbiniidae\", \"start_year\": 2016, \"counts\": 8}, {\"family\": \"Orbiniidae\", \"start_year\": 2017, \"counts\": 6}, {\"family\": \"Orbiniidae\", \"start_year\": 2018, \"counts\": 4}, {\"family\": \"Oweniidae\", \"start_year\": 1995, \"counts\": 1}, {\"family\": \"Oweniidae\", \"start_year\": 1996, \"counts\": 1}, {\"family\": \"Oweniidae\", \"start_year\": 1998, \"counts\": 1}, {\"family\": \"Oweniidae\", \"start_year\": 1999, \"counts\": 2}, {\"family\": \"Oweniidae\", \"start_year\": 2000, \"counts\": 5}, {\"family\": \"Oweniidae\", \"start_year\": 2002, \"counts\": 1}, {\"family\": \"Oweniidae\", \"start_year\": 2012, \"counts\": 1}, {\"family\": \"Paraonidae\", \"start_year\": 1999, \"counts\": 1}, {\"family\": \"Paraonidae\", \"start_year\": 2000, \"counts\": 7}, {\"family\": \"Paraonidae\", \"start_year\": 2002, \"counts\": 9}, {\"family\": \"Paraonidae\", \"start_year\": 2003, \"counts\": 7}, {\"family\": \"Paraonidae\", \"start_year\": 2004, \"counts\": 118}, {\"family\": \"Paraonidae\", \"start_year\": 2006, \"counts\": 2}, {\"family\": \"Paraonidae\", \"start_year\": 2008, \"counts\": 127}, {\"family\": \"Paraonidae\", \"start_year\": 2009, \"counts\": 2}, {\"family\": \"Paraonidae\", \"start_year\": 2010, \"counts\": 8}, {\"family\": \"Paraonidae\", \"start_year\": 2011, \"counts\": 6}, {\"family\": \"Paraonidae\", \"start_year\": 2012, \"counts\": 20}, {\"family\": \"Paraonidae\", \"start_year\": 2014, \"counts\": 1}, {\"family\": \"Paraonidae\", \"start_year\": 2015, \"counts\": 1}, {\"family\": \"Paraonidae\", \"start_year\": 2018, \"counts\": 4}, {\"family\": \"Pectinariidae\", \"start_year\": 1986, \"counts\": 1}, {\"family\": \"Pectinariidae\", \"start_year\": 1993, \"counts\": 3}, {\"family\": \"Pectinariidae\", \"start_year\": 1994, \"counts\": 1}, {\"family\": \"Pectinariidae\", \"start_year\": 1998, \"counts\": 1}, {\"family\": \"Pectinariidae\", \"start_year\": 1999, \"counts\": 2}, {\"family\": \"Pectinariidae\", \"start_year\": 2000, \"counts\": 8}, {\"family\": \"Pholoidae\", \"start_year\": 1993, \"counts\": 2}, {\"family\": \"Pholoidae\", \"start_year\": 1994, \"counts\": 2}, {\"family\": \"Pholoidae\", \"start_year\": 2003, \"counts\": 7}, {\"family\": \"Pholoidae\", \"start_year\": 2007, \"counts\": 1}, {\"family\": \"Phyllodocidae\", \"start_year\": 1905, \"counts\": 1}, {\"family\": \"Phyllodocidae\", \"start_year\": 1976, \"counts\": 1}, {\"family\": \"Phyllodocidae\", \"start_year\": 1995, \"counts\": 1}, {\"family\": \"Phyllodocidae\", \"start_year\": 1998, \"counts\": 3}, {\"family\": \"Phyllodocidae\", \"start_year\": 2000, \"counts\": 20}, {\"family\": \"Phyllodocidae\", \"start_year\": 2001, \"counts\": 28}, {\"family\": \"Phyllodocidae\", \"start_year\": 2002, \"counts\": 8}, {\"family\": \"Phyllodocidae\", \"start_year\": 2003, \"counts\": 1}, {\"family\": \"Phyllodocidae\", \"start_year\": 2005, \"counts\": 1}, {\"family\": \"Phyllodocidae\", \"start_year\": 2011, \"counts\": 1}, {\"family\": \"Phyllodocidae\", \"start_year\": 2012, \"counts\": 4}, {\"family\": \"Phyllodocidae\", \"start_year\": 2013, \"counts\": 3}, {\"family\": \"Phyllodocidae\", \"start_year\": 2014, \"counts\": 2}, {\"family\": \"Phyllodocidae\", \"start_year\": 2015, \"counts\": 1}, {\"family\": \"Phyllodocidae\", \"start_year\": 2017, \"counts\": 23}, {\"family\": \"Phyllodocidae\", \"start_year\": 2018, \"counts\": 10}, {\"family\": \"Pilargidae\", \"start_year\": 1993, \"counts\": 3}, {\"family\": \"Pilargidae\", \"start_year\": 1994, \"counts\": 2}, {\"family\": \"Pilargidae\", \"start_year\": 1995, \"counts\": 4}, {\"family\": \"Pilargidae\", \"start_year\": 1996, \"counts\": 1}, {\"family\": \"Pilargidae\", \"start_year\": 1997, \"counts\": 5}, {\"family\": \"Pilargidae\", \"start_year\": 1998, \"counts\": 1}, {\"family\": \"Pilargidae\", \"start_year\": 1999, \"counts\": 6}, {\"family\": \"Pilargidae\", \"start_year\": 2000, \"counts\": 6}, {\"family\": \"Pilargidae\", \"start_year\": 2002, \"counts\": 4}, {\"family\": \"Pilargidae\", \"start_year\": 2003, \"counts\": 1}, {\"family\": \"Pilargidae\", \"start_year\": 2004, \"counts\": 1}, {\"family\": \"Pilargidae\", \"start_year\": 2008, \"counts\": 3}, {\"family\": \"Pilargidae\", \"start_year\": 2015, \"counts\": 2}, {\"family\": \"Poecilochaetidae\", \"start_year\": 1999, \"counts\": 3}, {\"family\": \"Poecilochaetidae\", \"start_year\": 2000, \"counts\": 3}, {\"family\": \"Poecilochaetidae\", \"start_year\": 2002, \"counts\": 1}, {\"family\": \"Poecilochaetidae\", \"start_year\": 2003, \"counts\": 3}, {\"family\": \"Poecilochaetidae\", \"start_year\": 2005, \"counts\": 1}, {\"family\": \"Poecilochaetidae\", \"start_year\": 2008, \"counts\": 1}, {\"family\": \"Polynoidae\", \"start_year\": 1905, \"counts\": 1}, {\"family\": \"Polynoidae\", \"start_year\": 1992, \"counts\": 1}, {\"family\": \"Polynoidae\", \"start_year\": 1998, \"counts\": 17}, {\"family\": \"Polynoidae\", \"start_year\": 1999, \"counts\": 2}, {\"family\": \"Polynoidae\", \"start_year\": 2000, \"counts\": 24}, {\"family\": \"Polynoidae\", \"start_year\": 2001, \"counts\": 18}, {\"family\": \"Polynoidae\", \"start_year\": 2002, \"counts\": 8}, {\"family\": \"Polynoidae\", \"start_year\": 2003, \"counts\": 6}, {\"family\": \"Polynoidae\", \"start_year\": 2004, \"counts\": 1}, {\"family\": \"Polynoidae\", \"start_year\": 2005, \"counts\": 9}, {\"family\": \"Polynoidae\", \"start_year\": 2006, \"counts\": 2}, {\"family\": \"Polynoidae\", \"start_year\": 2008, \"counts\": 22}, {\"family\": \"Polynoidae\", \"start_year\": 2009, \"counts\": 10}, {\"family\": \"Polynoidae\", \"start_year\": 2011, \"counts\": 4}, {\"family\": \"Polynoidae\", \"start_year\": 2012, \"counts\": 2}, {\"family\": \"Polynoidae\", \"start_year\": 2013, \"counts\": 5}, {\"family\": \"Polynoidae\", \"start_year\": 2014, \"counts\": 5}, {\"family\": \"Polynoidae\", \"start_year\": 2017, \"counts\": 23}, {\"family\": \"Polynoidae\", \"start_year\": 2018, \"counts\": 2}, {\"family\": \"Pontodoridae\", \"start_year\": 2000, \"counts\": 1}, {\"family\": \"Sabellariidae\", \"start_year\": 1991, \"counts\": 1}, {\"family\": \"Sabellariidae\", \"start_year\": 1998, \"counts\": 1}, {\"family\": \"Sabellariidae\", \"start_year\": 1999, \"counts\": 1}, {\"family\": \"Sabellariidae\", \"start_year\": 2002, \"counts\": 1}, {\"family\": \"Sabellariidae\", \"start_year\": 2007, \"counts\": 2}, {\"family\": \"Sabellariidae\", \"start_year\": 2012, \"counts\": 53}, {\"family\": \"Sabellariidae\", \"start_year\": 2013, \"counts\": 30}, {\"family\": \"Sabellariidae\", \"start_year\": 2014, \"counts\": 121}, {\"family\": \"Sabellariidae\", \"start_year\": 2015, \"counts\": 2}, {\"family\": \"Sabellidae\", \"start_year\": 1966, \"counts\": 2}, {\"family\": \"Sabellidae\", \"start_year\": 1971, \"counts\": 2}, {\"family\": \"Sabellidae\", \"start_year\": 1979, \"counts\": 2}, {\"family\": \"Sabellidae\", \"start_year\": 1986, \"counts\": 1}, {\"family\": \"Sabellidae\", \"start_year\": 1996, \"counts\": 1}, {\"family\": \"Sabellidae\", \"start_year\": 1997, \"counts\": 1}, {\"family\": \"Sabellidae\", \"start_year\": 1999, \"counts\": 9}, {\"family\": \"Sabellidae\", \"start_year\": 2000, \"counts\": 21}, {\"family\": \"Sabellidae\", \"start_year\": 2001, \"counts\": 7}, {\"family\": \"Sabellidae\", \"start_year\": 2002, \"counts\": 4}, {\"family\": \"Sabellidae\", \"start_year\": 2003, \"counts\": 7}, {\"family\": \"Sabellidae\", \"start_year\": 2004, \"counts\": 3}, {\"family\": \"Sabellidae\", \"start_year\": 2005, \"counts\": 2}, {\"family\": \"Sabellidae\", \"start_year\": 2008, \"counts\": 85}, {\"family\": \"Sabellidae\", \"start_year\": 2009, \"counts\": 98}, {\"family\": \"Sabellidae\", \"start_year\": 2010, \"counts\": 25}, {\"family\": \"Sabellidae\", \"start_year\": 2011, \"counts\": 89}, {\"family\": \"Sabellidae\", \"start_year\": 2012, \"counts\": 20}, {\"family\": \"Sabellidae\", \"start_year\": 2013, \"counts\": 7}, {\"family\": \"Sabellidae\", \"start_year\": 2014, \"counts\": 6}, {\"family\": \"Sabellidae\", \"start_year\": 2017, \"counts\": 2}, {\"family\": \"Sabellidae\", \"start_year\": 2019, \"counts\": 1}, {\"family\": \"Scalibregmatidae\", \"start_year\": 2000, \"counts\": 2}, {\"family\": \"Scalibregmatidae\", \"start_year\": 2002, \"counts\": 1}, {\"family\": \"Scalibregmatidae\", \"start_year\": 2003, \"counts\": 4}, {\"family\": \"Scalibregmatidae\", \"start_year\": 2018, \"counts\": 5}, {\"family\": \"Serpulidae\", \"start_year\": 1986, \"counts\": 1}, {\"family\": \"Serpulidae\", \"start_year\": 1999, \"counts\": 6}, {\"family\": \"Serpulidae\", \"start_year\": 2000, \"counts\": 4}, {\"family\": \"Serpulidae\", \"start_year\": 2001, \"counts\": 7}, {\"family\": \"Serpulidae\", \"start_year\": 2002, \"counts\": 1}, {\"family\": \"Serpulidae\", \"start_year\": 2004, \"counts\": 3}, {\"family\": \"Serpulidae\", \"start_year\": 2005, \"counts\": 1}, {\"family\": \"Serpulidae\", \"start_year\": 2008, \"counts\": 1}, {\"family\": \"Serpulidae\", \"start_year\": 2011, \"counts\": 20}, {\"family\": \"Serpulidae\", \"start_year\": 2012, \"counts\": 6}, {\"family\": \"Serpulidae\", \"start_year\": 2013, \"counts\": 1}, {\"family\": \"Serpulidae\", \"start_year\": 2015, \"counts\": 2}, {\"family\": \"Serpulidae\", \"start_year\": 2017, \"counts\": 3}, {\"family\": \"Sigalionidae\", \"start_year\": 1998, \"counts\": 3}, {\"family\": \"Sigalionidae\", \"start_year\": 1999, \"counts\": 1}, {\"family\": \"Sigalionidae\", \"start_year\": 2000, \"counts\": 11}, {\"family\": \"Sigalionidae\", \"start_year\": 2002, \"counts\": 4}, {\"family\": \"Sigalionidae\", \"start_year\": 2003, \"counts\": 3}, {\"family\": \"Sigalionidae\", \"start_year\": 2006, \"counts\": 1}, {\"family\": \"Sigalionidae\", \"start_year\": 2008, \"counts\": 2}, {\"family\": \"Sigalionidae\", \"start_year\": 2011, \"counts\": 1}, {\"family\": \"Sigalionidae\", \"start_year\": 2012, \"counts\": 2}, {\"family\": \"Sigalionidae\", \"start_year\": 2014, \"counts\": 3}, {\"family\": \"Sphaerodoridae\", \"start_year\": 2003, \"counts\": 1}, {\"family\": \"Sphaerodoridae\", \"start_year\": 2004, \"counts\": 4}, {\"family\": \"Sphaerodoridae\", \"start_year\": 2017, \"counts\": 1}, {\"family\": \"Spionidae\", \"start_year\": 1995, \"counts\": 2}, {\"family\": \"Spionidae\", \"start_year\": 1996, \"counts\": 2}, {\"family\": \"Spionidae\", \"start_year\": 1997, \"counts\": 2}, {\"family\": \"Spionidae\", \"start_year\": 1998, \"counts\": 5}, {\"family\": \"Spionidae\", \"start_year\": 1999, \"counts\": 20}, {\"family\": \"Spionidae\", \"start_year\": 2000, \"counts\": 25}, {\"family\": \"Spionidae\", \"start_year\": 2001, \"counts\": 3}, {\"family\": \"Spionidae\", \"start_year\": 2002, \"counts\": 23}, {\"family\": \"Spionidae\", \"start_year\": 2003, \"counts\": 2}, {\"family\": \"Spionidae\", \"start_year\": 2004, \"counts\": 1}, {\"family\": \"Spionidae\", \"start_year\": 2005, \"counts\": 4}, {\"family\": \"Spionidae\", \"start_year\": 2006, \"counts\": 5}, {\"family\": \"Spionidae\", \"start_year\": 2007, \"counts\": 1}, {\"family\": \"Spionidae\", \"start_year\": 2008, \"counts\": 3}, {\"family\": \"Spionidae\", \"start_year\": 2009, \"counts\": 2}, {\"family\": \"Spionidae\", \"start_year\": 2011, \"counts\": 9}, {\"family\": \"Spionidae\", \"start_year\": 2012, \"counts\": 3}, {\"family\": \"Spionidae\", \"start_year\": 2013, \"counts\": 2}, {\"family\": \"Spionidae\", \"start_year\": 2014, \"counts\": 7}, {\"family\": \"Spionidae\", \"start_year\": 2015, \"counts\": 7}, {\"family\": \"Spionidae\", \"start_year\": 2017, \"counts\": 1}, {\"family\": \"Sternaspidae\", \"start_year\": 1995, \"counts\": 1}, {\"family\": \"Sternaspidae\", \"start_year\": 1998, \"counts\": 1}, {\"family\": \"Sternaspidae\", \"start_year\": 2000, \"counts\": 1}, {\"family\": \"Sternaspidae\", \"start_year\": 2001, \"counts\": 1}, {\"family\": \"Sternaspidae\", \"start_year\": 2002, \"counts\": 1}, {\"family\": \"Sternaspidae\", \"start_year\": 2003, \"counts\": 7}, {\"family\": \"Sternaspidae\", \"start_year\": 2008, \"counts\": 29}, {\"family\": \"Sternaspidae\", \"start_year\": 2010, \"counts\": 1}, {\"family\": \"Sternaspidae\", \"start_year\": 2011, \"counts\": 36}, {\"family\": \"Syllidae\", \"start_year\": 1997, \"counts\": 1}, {\"family\": \"Syllidae\", \"start_year\": 1998, \"counts\": 5}, {\"family\": \"Syllidae\", \"start_year\": 1999, \"counts\": 63}, {\"family\": \"Syllidae\", \"start_year\": 2000, \"counts\": 21}, {\"family\": \"Syllidae\", \"start_year\": 2001, \"counts\": 16}, {\"family\": \"Syllidae\", \"start_year\": 2002, \"counts\": 19}, {\"family\": \"Syllidae\", \"start_year\": 2003, \"counts\": 33}, {\"family\": \"Syllidae\", \"start_year\": 2005, \"counts\": 1}, {\"family\": \"Syllidae\", \"start_year\": 2006, \"counts\": 1}, {\"family\": \"Syllidae\", \"start_year\": 2007, \"counts\": 1}, {\"family\": \"Syllidae\", \"start_year\": 2009, \"counts\": 2}, {\"family\": \"Syllidae\", \"start_year\": 2011, \"counts\": 45}, {\"family\": \"Syllidae\", \"start_year\": 2012, \"counts\": 182}, {\"family\": \"Syllidae\", \"start_year\": 2013, \"counts\": 13}, {\"family\": \"Syllidae\", \"start_year\": 2014, \"counts\": 17}, {\"family\": \"Syllidae\", \"start_year\": 2015, \"counts\": 28}, {\"family\": \"Syllidae\", \"start_year\": 2016, \"counts\": 16}, {\"family\": \"Syllidae\", \"start_year\": 2017, \"counts\": 11}, {\"family\": \"Syllidae\", \"start_year\": 2018, \"counts\": 3}, {\"family\": \"Terebellidae\", \"start_year\": 1999, \"counts\": 4}, {\"family\": \"Terebellidae\", \"start_year\": 2000, \"counts\": 11}, {\"family\": \"Terebellidae\", \"start_year\": 2001, \"counts\": 1}, {\"family\": \"Terebellidae\", \"start_year\": 2002, \"counts\": 9}, {\"family\": \"Terebellidae\", \"start_year\": 2003, \"counts\": 3}, {\"family\": \"Terebellidae\", \"start_year\": 2011, \"counts\": 2}, {\"family\": \"Terebellidae\", \"start_year\": 2012, \"counts\": 11}, {\"family\": \"Terebellidae\", \"start_year\": 2013, \"counts\": 9}, {\"family\": \"Terebellidae\", \"start_year\": 2014, \"counts\": 4}, {\"family\": \"Terebellidae\", \"start_year\": 2015, \"counts\": 1}, {\"family\": \"Tomopteridae\", \"start_year\": 1998, \"counts\": 80}, {\"family\": \"Tomopteridae\", \"start_year\": 2000, \"counts\": 91}, {\"family\": \"Trichobranchidae\", \"start_year\": 1994, \"counts\": 1}, {\"family\": \"Trichobranchidae\", \"start_year\": 1997, \"counts\": 2}, {\"family\": \"Trichobranchidae\", \"start_year\": 1999, \"counts\": 1}, {\"family\": \"Trichobranchidae\", \"start_year\": 2000, \"counts\": 21}, {\"family\": \"Trichobranchidae\", \"start_year\": 2003, \"counts\": 1}, {\"family\": \"Trochochaetidae\", \"start_year\": 2006, \"counts\": 5}, {\"family\": \"Trochochaetidae\", \"start_year\": 2015, \"counts\": 1}, {\"family\": \"Typhloscolecidae\", \"start_year\": 1998, \"counts\": 115}, {\"family\": \"Typhloscolecidae\", \"start_year\": 2000, \"counts\": 124}]}}, {\"mode\": \"vega-lite\"});\n",
       "</script>"
      ],
      "text/plain": [
       "alt.Chart(...)"
      ]
     },
     "execution_count": 12,
     "metadata": {},
     "output_type": "execute_result"
    }
   ],
   "source": [
    "g1 = alt.Chart(teste,\n",
    "               width=500, height=500, title='Number of collected polychaeta of each family per year').mark_circle(\n",
    "                                                                                size=60).encode(\n",
    "    x= alt.X('start_year', type='ordinal', title='Sampling Year'),\n",
    "    y= alt.Y('family', type='nominal', title='Family',\n",
    "            sort= alt.EncodingSortField(field='counts', op='count', order='descending')),\n",
    "    size= alt.Size('counts', title='Count', scale=alt.Scale(range=[6,400])),\n",
    "    tooltip = alt.Tooltip(['family', 'start_year', 'counts'])\n",
    ")\n",
    "\n",
    "g1 = g1.configure_title(fontSize=16).configure_axis(\n",
    "    labelFontSize=12,\n",
    "    titleFontSize=12\n",
    ").configure_legend(\n",
    "    labelFontSize=12,\n",
    "    titleFontSize=12\n",
    ")\n",
    "\n",
    "# g1.save('./graphs/families_per_year.html')\n",
    "# g1"
   ]
  },
  {
   "cell_type": "code",
   "execution_count": 13,
   "metadata": {
    "ExecuteTime": {
     "end_time": "2020-08-29T14:40:57.033802Z",
     "start_time": "2020-08-29T14:40:56.965441Z"
    }
   },
   "outputs": [],
   "source": [
    "teste = NewTable.groupby(['family','order','start_year']).count()['class'].reset_index().rename(\n",
    "                                                                                    columns={'class':'counts'})\n",
    "\n",
    "teste['start_year'] = teste['start_year'].astype(int)"
   ]
  },
  {
   "cell_type": "code",
   "execution_count": 15,
   "metadata": {
    "ExecuteTime": {
     "end_time": "2020-08-29T14:40:58.012895Z",
     "start_time": "2020-08-29T14:40:57.908927Z"
    }
   },
   "outputs": [],
   "source": [
    "g1 = alt.Chart(teste,\n",
    "               width=500, height=700, title='Number of collected animals of each family per year').mark_circle(\n",
    "                                                                                size=60).encode(\n",
    "    x= alt.X('start_year', type='ordinal', title='Sampling Year'),\n",
    "    y= alt.Y('family', type='nominal', title='Family',\n",
    "            sort= alt.EncodingSortField(field='counts', op='sum', order='descending')),\n",
    "    size= alt.Size('counts', title='Count', scale=alt.Scale(range=[6,400])),\n",
    "    order= alt.Order('counts', sort='descending'),  # smaller points in front\n",
    "    color = alt.Color('family:N', title='Family', \n",
    "                      scale= alt.Scale(domain=list(cores_familia.keys()), range=list(cores_familia.values())),\n",
    "                      legend= alt.Legend(columns=2, symbolLimit=42)),\n",
    "    tooltip = alt.Tooltip(['family', 'start_year', 'counts'])\n",
    ")\n",
    "\n",
    "g1 = g1.configure_title(fontSize=16).configure_axis(\n",
    "    labelFontSize=12,\n",
    "    titleFontSize=12\n",
    ").configure_legend(\n",
    "    labelFontSize=12,\n",
    "    titleFontSize=12\n",
    ")\n",
    "\n",
    "# g1.save('./graphs/families_per_year-colorful.html')\n",
    "# g1"
   ]
  },
  {
   "cell_type": "markdown",
   "metadata": {},
   "source": [
    "<br>\n",
    "\n",
    "### Dynamic version\n",
    "\n",
    "<font color='red' size='4'>**p.s.:** Still needs more adjustments </font>"
   ]
  },
  {
   "cell_type": "code",
   "execution_count": 13,
   "metadata": {
    "ExecuteTime": {
     "end_time": "2020-08-29T14:41:13.064324Z",
     "start_time": "2020-08-29T14:41:13.059791Z"
    }
   },
   "outputs": [],
   "source": [
    "# # dynamic version\n",
    "# slider = alt.binding_range(min=1900, max=2016, step=1)\n",
    "# select_year = alt.selection_single(name=\"ano_coleta\", fields=['ano_coleta'],\n",
    "#                                    bind=slider, init={'ano_coleta': 2000})\n",
    "\n",
    "# # gráfico transparente no background (para fixar eixos)\n",
    "# g0 = alt.Chart(teste,\n",
    "#                width=800, height=400).mark_circle(\n",
    "#                                                                                 size=60, opacity=0).encode(\n",
    "#     x= alt.X('familia', type='nominal', title='Familia'),\n",
    "#     y= alt.Y('ordem', type='nominal', title='Ordem',\n",
    "#             sort= alt.EncodingSortField(field='counts', op='count', order='descending')),\n",
    "# )\n",
    "\n",
    "\n",
    "# g1 = alt.Chart(teste,\n",
    "#                width=800, height=400, title='Qtde. de animais por família e ordem').mark_circle(\n",
    "#                                                                                 size=60).encode(\n",
    "#     x= alt.X('familia', type='nominal', title='Familia'),\n",
    "#     y= alt.Y('ordem', type='nominal', title='Ordem',\n",
    "#             sort= alt.EncodingSortField(field='counts', op='count', order='descending')),\n",
    "#     size= alt.Size('counts', title='Contagem'),\n",
    "#     color = alt.Color('ordem', scale= alt.Scale(domain=ordens, range=cores)),\n",
    "#     tooltip=alt.Tooltip(['familia','ordem','ano_coleta','counts','ordem'])\n",
    "# ).add_selection(\n",
    "#     select_year\n",
    "# ).transform_filter(\n",
    "#     select_year\n",
    "# )\n",
    "\n",
    "# g1 = alt.layer(g0, g1)\n",
    "\n",
    "# # saving graph\n",
    "# # g1.save('./graphs/familias_por_ano_c_ordem-dinamico.html')\n",
    "\n",
    "# # g1"
   ]
  },
  {
   "cell_type": "markdown",
   "metadata": {},
   "source": [
    "<br>\n",
    "\n",
    "**The end!**\n",
    "\n",
    "-----"
   ]
  }
 ],
 "metadata": {
  "kernelspec": {
   "display_name": "Python 3",
   "language": "python",
   "name": "python3"
  },
  "language_info": {
   "codemirror_mode": {
    "name": "ipython",
    "version": 3
   },
   "file_extension": ".py",
   "mimetype": "text/x-python",
   "name": "python",
   "nbconvert_exporter": "python",
   "pygments_lexer": "ipython3",
   "version": "3.9.1"
  },
  "latex_envs": {
   "LaTeX_envs_menu_present": true,
   "autoclose": false,
   "autocomplete": true,
   "bibliofile": "biblio.bib",
   "cite_by": "apalike",
   "current_citInitial": 1,
   "eqLabelWithNumbers": true,
   "eqNumInitial": 1,
   "hotkeys": {
    "equation": "Ctrl-E",
    "itemize": "Ctrl-I"
   },
   "labels_anchors": false,
   "latex_user_defs": false,
   "report_style_numbering": false,
   "user_envs_cfg": false
  },
  "toc": {
   "base_numbering": 1,
   "nav_menu": {},
   "number_sections": false,
   "sideBar": true,
   "skip_h1_title": false,
   "title_cell": "Table of Contents",
   "title_sidebar": "Contents",
   "toc_cell": false,
   "toc_position": {},
   "toc_section_display": true,
   "toc_window_display": false
  },
  "varInspector": {
   "cols": {
    "lenName": 16,
    "lenType": 16,
    "lenVar": 40
   },
   "kernels_config": {
    "python": {
     "delete_cmd_postfix": "",
     "delete_cmd_prefix": "del ",
     "library": "var_list.py",
     "varRefreshCmd": "print(var_dic_list())"
    },
    "r": {
     "delete_cmd_postfix": ") ",
     "delete_cmd_prefix": "rm(",
     "library": "var_list.r",
     "varRefreshCmd": "cat(var_dic_list()) "
    }
   },
   "position": {
    "height": "391.35px",
    "left": "900.5px",
    "right": "20px",
    "top": "96px",
    "width": "536.5px"
   },
   "types_to_exclude": [
    "module",
    "function",
    "builtin_function_or_method",
    "instance",
    "_Feature"
   ],
   "window_display": false
  }
 },
 "nbformat": 4,
 "nbformat_minor": 2
}
