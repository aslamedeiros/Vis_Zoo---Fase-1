{
 "cells": [
  {
   "cell_type": "markdown",
   "metadata": {},
   "source": [
    "# Family counts per year\n",
    "\n",
    "By **Franklin Oliveira**\n",
    "\n",
    "-----\n",
    "This notebook contains all code necessary to make the \"type\" charts from `poliqueta` database. Here you'll find some basic data treatment and charts' code. \n",
    "\n",
    "Database: <font color='blue'>'IBUFRJ27.07.2020 - visualização.xlsx'</font>."
   ]
  },
  {
   "cell_type": "code",
   "execution_count": 3,
   "metadata": {
    "ExecuteTime": {
     "end_time": "2020-08-03T11:53:24.847123Z",
     "start_time": "2020-08-03T11:53:24.836908Z"
    }
   },
   "outputs": [
    {
     "data": {
      "text/plain": [
       "DataTransformerRegistry.enable('default')"
      ]
     },
     "execution_count": 3,
     "metadata": {},
     "output_type": "execute_result"
    }
   ],
   "source": [
    "import datetime\n",
    "import numpy as np\n",
    "import pandas as pd\n",
    "\n",
    "from collections import defaultdict\n",
    "\n",
    "# quick visualization\n",
    "import matplotlib.pyplot as plt\n",
    "import seaborn as sns\n",
    "\n",
    "# Waffle Charts\n",
    "# from pywaffle import Waffle \n",
    "# docs: https://pywaffle.readthedocs.io/en/latest/examples/block_shape_distance_location_and_direction.html\n",
    "\n",
    "# visualization\n",
    "import altair as alt\n",
    "\n",
    "# enabling notebook renderer\n",
    "# alt.renderers.enable('notebook')\n",
    "alt.renderers.enable('default')\n",
    "\n",
    "# disabling rows limit\n",
    "alt.data_transformers.disable_max_rows()"
   ]
  },
  {
   "cell_type": "markdown",
   "metadata": {},
   "source": [
    "## Importing data..."
   ]
  },
  {
   "cell_type": "code",
   "execution_count": 4,
   "metadata": {
    "ExecuteTime": {
     "end_time": "2020-08-03T11:53:26.135048Z",
     "start_time": "2020-08-03T11:53:26.069929Z"
    }
   },
   "outputs": [],
   "source": [
    "NewTable = pd.read_csv('./data/treated_db.csv', sep=';', encoding='utf-8-sig')"
   ]
  },
  {
   "cell_type": "markdown",
   "metadata": {},
   "source": [
    "<br>\n",
    "\n",
    "<font size=5>**Color Palette per Order**</font>\n",
    "\n",
    "These images were used as inspiration (https://color.adobe.com/create/image)\n",
    "\n",
    "<img src=\"./src/img1.jpg\" width='500px'>\n",
    "\n",
    "<img src=\"./src/img2.jpg\" width='500px'>\n",
    "\n",
    "Cores: \n",
    "\n",
    "    '#8ABFB0',  # azul claro\n",
    "    '#41A681',  # verde\n",
    "    '#7ACAAB',  # verde claro\n",
    "    '#D9C2AD',  # bege\n",
    "    '#0D0D0D',  # preto\n",
    "    '#D96236',  # laranja\n",
    "    '#D94B18',  # laranja escuro\n",
    "    '#FFB27C',  # cor de pele clara\n",
    "    '#732C02',  # marrom\n",
    "    '#86471B',  # mostarda"
   ]
  },
  {
   "cell_type": "code",
   "execution_count": 5,
   "metadata": {
    "ExecuteTime": {
     "end_time": "2020-08-03T11:54:54.708444Z",
     "start_time": "2020-08-03T11:54:54.699663Z"
    }
   },
   "outputs": [
    {
     "data": {
      "text/plain": [
       "Phyllodocida        1691\n",
       "Eunicida             937\n",
       "Sabellida            561\n",
       "Terebellida          269\n",
       "Spionida             226\n",
       "NaN                  220\n",
       "Scolecida            183\n",
       "Amphinomida          134\n",
       "Sipuncula              9\n",
       "Crassiclitellata       1\n",
       "Name: order, dtype: int64"
      ]
     },
     "execution_count": 5,
     "metadata": {},
     "output_type": "execute_result"
    }
   ],
   "source": [
    "# 220 NaNs\n",
    "NewTable['order'].value_counts(dropna=False)"
   ]
  },
  {
   "cell_type": "code",
   "execution_count": 6,
   "metadata": {
    "ExecuteTime": {
     "end_time": "2020-08-03T11:55:02.906355Z",
     "start_time": "2020-08-03T11:55:02.896360Z"
    }
   },
   "outputs": [],
   "source": [
    "ordens = NewTable['order'].unique()\n",
    "cores = [\n",
    "    '#8ABFB0',  # azul claro\n",
    "    '#41A681',  # verde\n",
    "    '#7ACAAB',  # verde claro\n",
    "    '#D9C2AD',  # bege\n",
    "    '#0D0D0D',  # preto\n",
    "    '#D96236',  # laranja\n",
    "    '#D94B18',  # laranja escuro\n",
    "    '#FFB27C',  # cor de pele clara\n",
    "    '#732C02',  # marrom\n",
    "    '#86471B',  # mostarda\n",
    "]\n",
    "\n",
    "cores_ordem = defaultdict()\n",
    "for j in range(len(ordens)):\n",
    "    ordem = ordens[j]\n",
    "    cores_ordem[ordem] = cores[j]\n",
    "    \n",
    "cores_ordem = dict(cores_ordem)"
   ]
  },
  {
   "cell_type": "markdown",
   "metadata": {},
   "source": [
    "<br>\n",
    "\n",
    "\n",
    "## Graphs\n",
    "\n",
    "---\n",
    "### Creating chart: counts per order per year"
   ]
  },
  {
   "cell_type": "code",
   "execution_count": 9,
   "metadata": {
    "ExecuteTime": {
     "end_time": "2020-08-03T11:58:27.189934Z",
     "start_time": "2020-08-03T11:58:27.143373Z"
    }
   },
   "outputs": [],
   "source": [
    "orders = NewTable.groupby(['determined_year','order']).count()['class'].reset_index().rename(columns={'class':'counts'})\n",
    "\n",
    "orders.sort_values(['determined_year','order'], inplace=True)  # ordering"
   ]
  },
  {
   "cell_type": "code",
   "execution_count": 10,
   "metadata": {
    "ExecuteTime": {
     "end_time": "2020-08-03T11:58:32.476380Z",
     "start_time": "2020-08-03T11:58:32.459273Z"
    }
   },
   "outputs": [],
   "source": [
    "# dropping remaining NaN's\n",
    "orders = orders.dropna(subset=['order'])"
   ]
  },
  {
   "cell_type": "code",
   "execution_count": 14,
   "metadata": {
    "ExecuteTime": {
     "end_time": "2020-08-03T12:00:41.152708Z",
     "start_time": "2020-08-03T12:00:41.068826Z"
    }
   },
   "outputs": [
    {
     "data": {
      "text/html": [
       "\n",
       "<div id=\"altair-viz-859e681d2de54c919d64584365037e3f\"></div>\n",
       "<script type=\"text/javascript\">\n",
       "  (function(spec, embedOpt){\n",
       "    let outputDiv = document.currentScript.previousElementSibling;\n",
       "    if (outputDiv.id !== \"altair-viz-859e681d2de54c919d64584365037e3f\") {\n",
       "      outputDiv = document.getElementById(\"altair-viz-859e681d2de54c919d64584365037e3f\");\n",
       "    }\n",
       "    const paths = {\n",
       "      \"vega\": \"https://cdn.jsdelivr.net/npm//vega@5?noext\",\n",
       "      \"vega-lib\": \"https://cdn.jsdelivr.net/npm//vega-lib?noext\",\n",
       "      \"vega-lite\": \"https://cdn.jsdelivr.net/npm//vega-lite@4.8.1?noext\",\n",
       "      \"vega-embed\": \"https://cdn.jsdelivr.net/npm//vega-embed@6?noext\",\n",
       "    };\n",
       "\n",
       "    function loadScript(lib) {\n",
       "      return new Promise(function(resolve, reject) {\n",
       "        var s = document.createElement('script');\n",
       "        s.src = paths[lib];\n",
       "        s.async = true;\n",
       "        s.onload = () => resolve(paths[lib]);\n",
       "        s.onerror = () => reject(`Error loading script: ${paths[lib]}`);\n",
       "        document.getElementsByTagName(\"head\")[0].appendChild(s);\n",
       "      });\n",
       "    }\n",
       "\n",
       "    function showError(err) {\n",
       "      outputDiv.innerHTML = `<div class=\"error\" style=\"color:red;\">${err}</div>`;\n",
       "      throw err;\n",
       "    }\n",
       "\n",
       "    function displayChart(vegaEmbed) {\n",
       "      vegaEmbed(outputDiv, spec, embedOpt)\n",
       "        .catch(err => showError(`Javascript Error: ${err.message}<br>This usually means there's a typo in your chart specification. See the javascript console for the full traceback.`));\n",
       "    }\n",
       "\n",
       "    if(typeof define === \"function\" && define.amd) {\n",
       "      requirejs.config({paths});\n",
       "      require([\"vega-embed\"], displayChart, err => showError(`Error loading script: ${err.message}`));\n",
       "    } else if (typeof vegaEmbed === \"function\") {\n",
       "      displayChart(vegaEmbed);\n",
       "    } else {\n",
       "      loadScript(\"vega\")\n",
       "        .then(() => loadScript(\"vega-lite\"))\n",
       "        .then(() => loadScript(\"vega-embed\"))\n",
       "        .catch(showError)\n",
       "        .then(() => displayChart(vegaEmbed));\n",
       "    }\n",
       "  })({\"config\": {\"view\": {\"continuousWidth\": 400, \"continuousHeight\": 300}}, \"data\": {\"name\": \"data-2b773495b4da002e865b45cb87e6e1e7\"}, \"mark\": \"circle\", \"encoding\": {\"color\": {\"type\": \"nominal\", \"field\": \"order\", \"scale\": {\"domain\": [\"Eunicida\", \"Phyllodocida\", \"Sabellida\", \"Scolecida\", \"Spionida\", \"Terebellida\", \"Amphinomida\", NaN, \"Sipuncula\", \"Crassiclitellata\"], \"range\": [\"#8ABFB0\", \"#41A681\", \"#7ACAAB\", \"#D9C2AD\", \"#0D0D0D\", \"#D96236\", \"#D94B18\", \"#FFB27C\", \"#732C02\", \"#86471B\"]}}, \"size\": {\"type\": \"quantitative\", \"field\": \"counts\", \"scale\": {\"range\": [10, 600]}}, \"tooltip\": [{\"type\": \"quantitative\", \"field\": \"determined_year\"}, {\"type\": \"quantitative\", \"field\": \"counts\"}], \"x\": {\"type\": \"ordinal\", \"field\": \"determined_year\", \"title\": \"Determined Year\"}, \"y\": {\"type\": \"nominal\", \"field\": \"order\", \"sort\": {\"field\": \"count\", \"op\": \"max\", \"order\": \"descending\"}, \"title\": \"Order\"}}, \"height\": 300, \"title\": \"Number of collected polychaetas per order each year\", \"width\": 800, \"$schema\": \"https://vega.github.io/schema/vega-lite/v4.8.1.json\", \"datasets\": {\"data-2b773495b4da002e865b45cb87e6e1e7\": [{\"determined_year\": 1986.0, \"order\": \"Eunicida\", \"counts\": 1}, {\"determined_year\": 1991.0, \"order\": \"Eunicida\", \"counts\": 4}, {\"determined_year\": 1993.0, \"order\": \"Eunicida\", \"counts\": 1}, {\"determined_year\": 1993.0, \"order\": \"Phyllodocida\", \"counts\": 1}, {\"determined_year\": 1994.0, \"order\": \"Eunicida\", \"counts\": 7}, {\"determined_year\": 1994.0, \"order\": \"Phyllodocida\", \"counts\": 14}, {\"determined_year\": 1994.0, \"order\": \"Terebellida\", \"counts\": 6}, {\"determined_year\": 1997.0, \"order\": \"Phyllodocida\", \"counts\": 1}, {\"determined_year\": 1997.0, \"order\": \"Scolecida\", \"counts\": 1}, {\"determined_year\": 1998.0, \"order\": \"Eunicida\", \"counts\": 62}, {\"determined_year\": 1998.0, \"order\": \"Sabellida\", \"counts\": 1}, {\"determined_year\": 1998.0, \"order\": \"Terebellida\", \"counts\": 1}, {\"determined_year\": 1999.0, \"order\": \"Eunicida\", \"counts\": 5}, {\"determined_year\": 1999.0, \"order\": \"Phyllodocida\", \"counts\": 2}, {\"determined_year\": 1999.0, \"order\": \"Sabellida\", \"counts\": 1}, {\"determined_year\": 2000.0, \"order\": \"Amphinomida\", \"counts\": 4}, {\"determined_year\": 2000.0, \"order\": \"Eunicida\", \"counts\": 11}, {\"determined_year\": 2000.0, \"order\": \"Phyllodocida\", \"counts\": 19}, {\"determined_year\": 2000.0, \"order\": \"Sabellida\", \"counts\": 7}, {\"determined_year\": 2000.0, \"order\": \"Scolecida\", \"counts\": 8}, {\"determined_year\": 2000.0, \"order\": \"Spionida\", \"counts\": 2}, {\"determined_year\": 2000.0, \"order\": \"Terebellida\", \"counts\": 9}, {\"determined_year\": 2001.0, \"order\": \"Amphinomida\", \"counts\": 9}, {\"determined_year\": 2001.0, \"order\": \"Crassiclitellata\", \"counts\": 1}, {\"determined_year\": 2001.0, \"order\": \"Eunicida\", \"counts\": 51}, {\"determined_year\": 2001.0, \"order\": \"Phyllodocida\", \"counts\": 69}, {\"determined_year\": 2001.0, \"order\": \"Sabellida\", \"counts\": 9}, {\"determined_year\": 2001.0, \"order\": \"Scolecida\", \"counts\": 34}, {\"determined_year\": 2001.0, \"order\": \"Spionida\", \"counts\": 10}, {\"determined_year\": 2001.0, \"order\": \"Terebellida\", \"counts\": 49}, {\"determined_year\": 2002.0, \"order\": \"Amphinomida\", \"counts\": 26}, {\"determined_year\": 2002.0, \"order\": \"Eunicida\", \"counts\": 111}, {\"determined_year\": 2002.0, \"order\": \"Phyllodocida\", \"counts\": 169}, {\"determined_year\": 2002.0, \"order\": \"Sabellida\", \"counts\": 9}, {\"determined_year\": 2002.0, \"order\": \"Scolecida\", \"counts\": 17}, {\"determined_year\": 2002.0, \"order\": \"Spionida\", \"counts\": 6}, {\"determined_year\": 2002.0, \"order\": \"Terebellida\", \"counts\": 13}, {\"determined_year\": 2003.0, \"order\": \"Amphinomida\", \"counts\": 8}, {\"determined_year\": 2003.0, \"order\": \"Eunicida\", \"counts\": 23}, {\"determined_year\": 2003.0, \"order\": \"Phyllodocida\", \"counts\": 41}, {\"determined_year\": 2003.0, \"order\": \"Sabellida\", \"counts\": 20}, {\"determined_year\": 2003.0, \"order\": \"Scolecida\", \"counts\": 20}, {\"determined_year\": 2003.0, \"order\": \"Spionida\", \"counts\": 57}, {\"determined_year\": 2003.0, \"order\": \"Terebellida\", \"counts\": 42}, {\"determined_year\": 2004.0, \"order\": \"Eunicida\", \"counts\": 3}, {\"determined_year\": 2004.0, \"order\": \"Phyllodocida\", \"counts\": 11}, {\"determined_year\": 2004.0, \"order\": \"Sabellida\", \"counts\": 3}, {\"determined_year\": 2004.0, \"order\": \"Scolecida\", \"counts\": 1}, {\"determined_year\": 2004.0, \"order\": \"Spionida\", \"counts\": 3}, {\"determined_year\": 2004.0, \"order\": \"Terebellida\", \"counts\": 2}, {\"determined_year\": 2005.0, \"order\": \"Eunicida\", \"counts\": 93}, {\"determined_year\": 2005.0, \"order\": \"Phyllodocida\", \"counts\": 3}, {\"determined_year\": 2005.0, \"order\": \"Sabellida\", \"counts\": 2}, {\"determined_year\": 2005.0, \"order\": \"Spionida\", \"counts\": 1}, {\"determined_year\": 2007.0, \"order\": \"Amphinomida\", \"counts\": 5}, {\"determined_year\": 2007.0, \"order\": \"Eunicida\", \"counts\": 4}, {\"determined_year\": 2007.0, \"order\": \"Phyllodocida\", \"counts\": 13}, {\"determined_year\": 2007.0, \"order\": \"Sabellida\", \"counts\": 2}, {\"determined_year\": 2007.0, \"order\": \"Scolecida\", \"counts\": 26}, {\"determined_year\": 2007.0, \"order\": \"Spionida\", \"counts\": 1}, {\"determined_year\": 2007.0, \"order\": \"Terebellida\", \"counts\": 13}, {\"determined_year\": 2008.0, \"order\": \"Eunicida\", \"counts\": 16}, {\"determined_year\": 2008.0, \"order\": \"Phyllodocida\", \"counts\": 5}, {\"determined_year\": 2008.0, \"order\": \"Sabellida\", \"counts\": 135}, {\"determined_year\": 2008.0, \"order\": \"Scolecida\", \"counts\": 1}, {\"determined_year\": 2008.0, \"order\": \"Spionida\", \"counts\": 4}, {\"determined_year\": 2008.0, \"order\": \"Terebellida\", \"counts\": 29}, {\"determined_year\": 2009.0, \"order\": \"Amphinomida\", \"counts\": 2}, {\"determined_year\": 2009.0, \"order\": \"Eunicida\", \"counts\": 4}, {\"determined_year\": 2009.0, \"order\": \"Phyllodocida\", \"counts\": 11}, {\"determined_year\": 2009.0, \"order\": \"Sabellida\", \"counts\": 3}, {\"determined_year\": 2009.0, \"order\": \"Spionida\", \"counts\": 8}, {\"determined_year\": 2009.0, \"order\": \"Terebellida\", \"counts\": 2}, {\"determined_year\": 2010.0, \"order\": \"Amphinomida\", \"counts\": 1}, {\"determined_year\": 2010.0, \"order\": \"Eunicida\", \"counts\": 11}, {\"determined_year\": 2010.0, \"order\": \"Phyllodocida\", \"counts\": 42}, {\"determined_year\": 2010.0, \"order\": \"Sabellida\", \"counts\": 55}, {\"determined_year\": 2010.0, \"order\": \"Scolecida\", \"counts\": 21}, {\"determined_year\": 2010.0, \"order\": \"Sipuncula\", \"counts\": 2}, {\"determined_year\": 2010.0, \"order\": \"Spionida\", \"counts\": 17}, {\"determined_year\": 2010.0, \"order\": \"Terebellida\", \"counts\": 4}, {\"determined_year\": 2011.0, \"order\": \"Amphinomida\", \"counts\": 3}, {\"determined_year\": 2011.0, \"order\": \"Eunicida\", \"counts\": 22}, {\"determined_year\": 2011.0, \"order\": \"Phyllodocida\", \"counts\": 973}, {\"determined_year\": 2011.0, \"order\": \"Sabellida\", \"counts\": 5}, {\"determined_year\": 2011.0, \"order\": \"Scolecida\", \"counts\": 3}, {\"determined_year\": 2011.0, \"order\": \"Spionida\", \"counts\": 3}, {\"determined_year\": 2011.0, \"order\": \"Terebellida\", \"counts\": 4}, {\"determined_year\": 2012.0, \"order\": \"Amphinomida\", \"counts\": 1}, {\"determined_year\": 2012.0, \"order\": \"Eunicida\", \"counts\": 4}, {\"determined_year\": 2012.0, \"order\": \"Phyllodocida\", \"counts\": 48}, {\"determined_year\": 2012.0, \"order\": \"Sabellida\", \"counts\": 8}, {\"determined_year\": 2012.0, \"order\": \"Terebellida\", \"counts\": 1}, {\"determined_year\": 2013.0, \"order\": \"Amphinomida\", \"counts\": 3}, {\"determined_year\": 2013.0, \"order\": \"Eunicida\", \"counts\": 47}, {\"determined_year\": 2013.0, \"order\": \"Phyllodocida\", \"counts\": 33}, {\"determined_year\": 2013.0, \"order\": \"Sabellida\", \"counts\": 78}, {\"determined_year\": 2013.0, \"order\": \"Scolecida\", \"counts\": 6}, {\"determined_year\": 2013.0, \"order\": \"Spionida\", \"counts\": 4}, {\"determined_year\": 2013.0, \"order\": \"Terebellida\", \"counts\": 10}, {\"determined_year\": 2014.0, \"order\": \"Amphinomida\", \"counts\": 2}, {\"determined_year\": 2014.0, \"order\": \"Eunicida\", \"counts\": 12}, {\"determined_year\": 2014.0, \"order\": \"Phyllodocida\", \"counts\": 8}, {\"determined_year\": 2014.0, \"order\": \"Sabellida\", \"counts\": 128}, {\"determined_year\": 2014.0, \"order\": \"Scolecida\", \"counts\": 1}, {\"determined_year\": 2014.0, \"order\": \"Terebellida\", \"counts\": 8}, {\"determined_year\": 2015.0, \"order\": \"Eunicida\", \"counts\": 2}, {\"determined_year\": 2015.0, \"order\": \"Phyllodocida\", \"counts\": 2}, {\"determined_year\": 2015.0, \"order\": \"Spionida\", \"counts\": 2}, {\"determined_year\": 2015.0, \"order\": \"Terebellida\", \"counts\": 1}]}}, {\"mode\": \"vega-lite\"});\n",
       "</script>"
      ],
      "text/plain": [
       "alt.Chart(...)"
      ]
     },
     "execution_count": 14,
     "metadata": {},
     "output_type": "execute_result"
    }
   ],
   "source": [
    "g1 = alt.Chart(orders, width=800, height=300, \n",
    "               title='Number of collected polychaetas per order each year').mark_circle().encode(\n",
    "    x= alt.X('determined_year', type='ordinal', title='Determined Year'),\n",
    "    y= alt.Y('order', type='nominal', title='Order',\n",
    "            sort= alt.EncodingSortField(field='count', op='max', order='descending')),\n",
    "    size = alt.Size('counts', scale=alt.Scale(range=[10,600])),\n",
    "    color = alt.Color('order', scale= alt.Scale(domain=ordens, range=cores)),\n",
    "    tooltip= alt.Tooltip(['determined_year', 'counts'])\n",
    ")\n",
    "\n",
    "# saving graph\n",
    "# g1.save('./graphs/orders_per_year.html')\n",
    "\n",
    "g1"
   ]
  },
  {
   "cell_type": "markdown",
   "metadata": {},
   "source": [
    "### number of polychaetas per family per year"
   ]
  },
  {
   "cell_type": "code",
   "execution_count": 15,
   "metadata": {
    "ExecuteTime": {
     "end_time": "2020-08-03T12:01:12.216892Z",
     "start_time": "2020-08-03T12:01:12.158648Z"
    }
   },
   "outputs": [],
   "source": [
    "teste = NewTable.groupby(['family','determined_year']).count()['class'].reset_index().rename(\n",
    "                                                                                    columns={'class':'counts'})\n",
    "\n",
    "teste['determined_year'] = teste['determined_year'].astype(int)"
   ]
  },
  {
   "cell_type": "markdown",
   "metadata": {},
   "source": [
    "<br>\n",
    "\n",
    "**graph:** family per year"
   ]
  },
  {
   "cell_type": "code",
   "execution_count": 27,
   "metadata": {
    "ExecuteTime": {
     "end_time": "2020-08-03T12:04:44.554803Z",
     "start_time": "2020-08-03T12:04:44.494783Z"
    }
   },
   "outputs": [
    {
     "data": {
      "text/html": [
       "\n",
       "<div id=\"altair-viz-91be1d18b9364b7fbe9e7714ac0cc449\"></div>\n",
       "<script type=\"text/javascript\">\n",
       "  (function(spec, embedOpt){\n",
       "    let outputDiv = document.currentScript.previousElementSibling;\n",
       "    if (outputDiv.id !== \"altair-viz-91be1d18b9364b7fbe9e7714ac0cc449\") {\n",
       "      outputDiv = document.getElementById(\"altair-viz-91be1d18b9364b7fbe9e7714ac0cc449\");\n",
       "    }\n",
       "    const paths = {\n",
       "      \"vega\": \"https://cdn.jsdelivr.net/npm//vega@5?noext\",\n",
       "      \"vega-lib\": \"https://cdn.jsdelivr.net/npm//vega-lib?noext\",\n",
       "      \"vega-lite\": \"https://cdn.jsdelivr.net/npm//vega-lite@4.8.1?noext\",\n",
       "      \"vega-embed\": \"https://cdn.jsdelivr.net/npm//vega-embed@6?noext\",\n",
       "    };\n",
       "\n",
       "    function loadScript(lib) {\n",
       "      return new Promise(function(resolve, reject) {\n",
       "        var s = document.createElement('script');\n",
       "        s.src = paths[lib];\n",
       "        s.async = true;\n",
       "        s.onload = () => resolve(paths[lib]);\n",
       "        s.onerror = () => reject(`Error loading script: ${paths[lib]}`);\n",
       "        document.getElementsByTagName(\"head\")[0].appendChild(s);\n",
       "      });\n",
       "    }\n",
       "\n",
       "    function showError(err) {\n",
       "      outputDiv.innerHTML = `<div class=\"error\" style=\"color:red;\">${err}</div>`;\n",
       "      throw err;\n",
       "    }\n",
       "\n",
       "    function displayChart(vegaEmbed) {\n",
       "      vegaEmbed(outputDiv, spec, embedOpt)\n",
       "        .catch(err => showError(`Javascript Error: ${err.message}<br>This usually means there's a typo in your chart specification. See the javascript console for the full traceback.`));\n",
       "    }\n",
       "\n",
       "    if(typeof define === \"function\" && define.amd) {\n",
       "      requirejs.config({paths});\n",
       "      require([\"vega-embed\"], displayChart, err => showError(`Error loading script: ${err.message}`));\n",
       "    } else if (typeof vegaEmbed === \"function\") {\n",
       "      displayChart(vegaEmbed);\n",
       "    } else {\n",
       "      loadScript(\"vega\")\n",
       "        .then(() => loadScript(\"vega-lite\"))\n",
       "        .then(() => loadScript(\"vega-embed\"))\n",
       "        .catch(showError)\n",
       "        .then(() => displayChart(vegaEmbed));\n",
       "    }\n",
       "  })({\"config\": {\"view\": {\"continuousWidth\": 400, \"continuousHeight\": 300}}, \"data\": {\"name\": \"data-02f2b6a56d2cb280ea666313094efdce\"}, \"mark\": {\"type\": \"circle\", \"size\": 60}, \"encoding\": {\"size\": {\"type\": \"quantitative\", \"field\": \"counts\", \"scale\": {\"range\": [6, 400]}, \"title\": \"Count\"}, \"tooltip\": [{\"type\": \"nominal\", \"field\": \"family\"}, {\"type\": \"quantitative\", \"field\": \"determined_year\"}, {\"type\": \"quantitative\", \"field\": \"counts\"}], \"x\": {\"type\": \"ordinal\", \"field\": \"determined_year\", \"title\": \"Determined Year\"}, \"y\": {\"type\": \"nominal\", \"field\": \"family\", \"sort\": {\"field\": \"counts\", \"op\": \"count\", \"order\": \"descending\"}, \"title\": \"Family\"}}, \"height\": 500, \"title\": \"Number of collected polychaeta of each family per year\", \"width\": 500, \"$schema\": \"https://vega.github.io/schema/vega-lite/v4.8.1.json\", \"datasets\": {\"data-02f2b6a56d2cb280ea666313094efdce\": [{\"family\": \"Acoetidae\", \"determined_year\": 2002, \"counts\": 5}, {\"family\": \"Alciopidae\", \"determined_year\": 2011, \"counts\": 309}, {\"family\": \"Ampharetidae\", \"determined_year\": 1994, \"counts\": 2}, {\"family\": \"Ampharetidae\", \"determined_year\": 2000, \"counts\": 1}, {\"family\": \"Ampharetidae\", \"determined_year\": 2001, \"counts\": 5}, {\"family\": \"Ampharetidae\", \"determined_year\": 2002, \"counts\": 3}, {\"family\": \"Ampharetidae\", \"determined_year\": 2003, \"counts\": 6}, {\"family\": \"Ampharetidae\", \"determined_year\": 2007, \"counts\": 4}, {\"family\": \"Ampharetidae\", \"determined_year\": 2013, \"counts\": 1}, {\"family\": \"Amphinomidae\", \"determined_year\": 2000, \"counts\": 4}, {\"family\": \"Amphinomidae\", \"determined_year\": 2001, \"counts\": 9}, {\"family\": \"Amphinomidae\", \"determined_year\": 2002, \"counts\": 25}, {\"family\": \"Amphinomidae\", \"determined_year\": 2003, \"counts\": 8}, {\"family\": \"Amphinomidae\", \"determined_year\": 2007, \"counts\": 5}, {\"family\": \"Amphinomidae\", \"determined_year\": 2009, \"counts\": 2}, {\"family\": \"Amphinomidae\", \"determined_year\": 2010, \"counts\": 1}, {\"family\": \"Amphinomidae\", \"determined_year\": 2011, \"counts\": 3}, {\"family\": \"Amphinomidae\", \"determined_year\": 2012, \"counts\": 1}, {\"family\": \"Amphinomidae\", \"determined_year\": 2013, \"counts\": 2}, {\"family\": \"Amphinomidae\", \"determined_year\": 2014, \"counts\": 2}, {\"family\": \"Aphroditidae\", \"determined_year\": 2001, \"counts\": 2}, {\"family\": \"Aphroditidae\", \"determined_year\": 2002, \"counts\": 17}, {\"family\": \"Aphroditidae\", \"determined_year\": 2010, \"counts\": 1}, {\"family\": \"Aphroditidae\", \"determined_year\": 2013, \"counts\": 2}, {\"family\": \"Apistobranchidae\", \"determined_year\": 2007, \"counts\": 1}, {\"family\": \"Apistobranchidae\", \"determined_year\": 2011, \"counts\": 1}, {\"family\": \"Capitellidae\", \"determined_year\": 1997, \"counts\": 1}, {\"family\": \"Capitellidae\", \"determined_year\": 2001, \"counts\": 6}, {\"family\": \"Capitellidae\", \"determined_year\": 2002, \"counts\": 1}, {\"family\": \"Capitellidae\", \"determined_year\": 2003, \"counts\": 5}, {\"family\": \"Capitellidae\", \"determined_year\": 2007, \"counts\": 1}, {\"family\": \"Capitellidae\", \"determined_year\": 2010, \"counts\": 4}, {\"family\": \"Capitellidae\", \"determined_year\": 2011, \"counts\": 2}, {\"family\": \"Capitellidae\", \"determined_year\": 2013, \"counts\": 3}, {\"family\": \"Capitellidae\", \"determined_year\": 2014, \"counts\": 1}, {\"family\": \"Chaetopteridae\", \"determined_year\": 2001, \"counts\": 1}, {\"family\": \"Chaetopteridae\", \"determined_year\": 2002, \"counts\": 2}, {\"family\": \"Chaetopteridae\", \"determined_year\": 2003, \"counts\": 2}, {\"family\": \"Chaetopteridae\", \"determined_year\": 2004, \"counts\": 2}, {\"family\": \"Chaetopteridae\", \"determined_year\": 2010, \"counts\": 1}, {\"family\": \"Chrysopetalidae\", \"determined_year\": 2001, \"counts\": 1}, {\"family\": \"Chrysopetalidae\", \"determined_year\": 2009, \"counts\": 2}, {\"family\": \"Chrysopetalidae\", \"determined_year\": 2013, \"counts\": 1}, {\"family\": \"Cirratulidae\", \"determined_year\": 2000, \"counts\": 2}, {\"family\": \"Cirratulidae\", \"determined_year\": 2001, \"counts\": 5}, {\"family\": \"Cirratulidae\", \"determined_year\": 2002, \"counts\": 2}, {\"family\": \"Cirratulidae\", \"determined_year\": 2003, \"counts\": 4}, {\"family\": \"Cirratulidae\", \"determined_year\": 2007, \"counts\": 2}, {\"family\": \"Cirratulidae\", \"determined_year\": 2010, \"counts\": 2}, {\"family\": \"Cirratulidae\", \"determined_year\": 2012, \"counts\": 1}, {\"family\": \"Cirratulidae\", \"determined_year\": 2013, \"counts\": 2}, {\"family\": \"Cirratulidae\", \"determined_year\": 2014, \"counts\": 7}, {\"family\": \"Cossuridae\", \"determined_year\": 2000, \"counts\": 1}, {\"family\": \"Cossuridae\", \"determined_year\": 2001, \"counts\": 1}, {\"family\": \"Cossuridae\", \"determined_year\": 2002, \"counts\": 1}, {\"family\": \"Dorvilleidae\", \"determined_year\": 1991, \"counts\": 4}, {\"family\": \"Dorvilleidae\", \"determined_year\": 2000, \"counts\": 1}, {\"family\": \"Dorvilleidae\", \"determined_year\": 2003, \"counts\": 1}, {\"family\": \"Dorvilleidae\", \"determined_year\": 2007, \"counts\": 1}, {\"family\": \"Dorvilleidae\", \"determined_year\": 2008, \"counts\": 2}, {\"family\": \"Dorvilleidae\", \"determined_year\": 2009, \"counts\": 1}, {\"family\": \"Dorvilleidae\", \"determined_year\": 2010, \"counts\": 1}, {\"family\": \"Dorvilleidae\", \"determined_year\": 2011, \"counts\": 1}, {\"family\": \"Dorvilleidae\", \"determined_year\": 2013, \"counts\": 2}, {\"family\": \"Eulepethidae\", \"determined_year\": 2001, \"counts\": 2}, {\"family\": \"Eulepethidae\", \"determined_year\": 2002, \"counts\": 1}, {\"family\": \"Eunicidae\", \"determined_year\": 1986, \"counts\": 1}, {\"family\": \"Eunicidae\", \"determined_year\": 1993, \"counts\": 1}, {\"family\": \"Eunicidae\", \"determined_year\": 1994, \"counts\": 1}, {\"family\": \"Eunicidae\", \"determined_year\": 1998, \"counts\": 62}, {\"family\": \"Eunicidae\", \"determined_year\": 1999, \"counts\": 4}, {\"family\": \"Eunicidae\", \"determined_year\": 2000, \"counts\": 4}, {\"family\": \"Eunicidae\", \"determined_year\": 2001, \"counts\": 27}, {\"family\": \"Eunicidae\", \"determined_year\": 2002, \"counts\": 82}, {\"family\": \"Eunicidae\", \"determined_year\": 2004, \"counts\": 1}, {\"family\": \"Eunicidae\", \"determined_year\": 2005, \"counts\": 92}, {\"family\": \"Eunicidae\", \"determined_year\": 2008, \"counts\": 7}, {\"family\": \"Eunicidae\", \"determined_year\": 2009, \"counts\": 2}, {\"family\": \"Eunicidae\", \"determined_year\": 2010, \"counts\": 5}, {\"family\": \"Eunicidae\", \"determined_year\": 2011, \"counts\": 12}, {\"family\": \"Eunicidae\", \"determined_year\": 2012, \"counts\": 2}, {\"family\": \"Eunicidae\", \"determined_year\": 2013, \"counts\": 27}, {\"family\": \"Eunicidae\", \"determined_year\": 2014, \"counts\": 6}, {\"family\": \"Eunicidae\", \"determined_year\": 2015, \"counts\": 2}, {\"family\": \"Euphrosinidae\", \"determined_year\": 2002, \"counts\": 1}, {\"family\": \"Euphrosinidae\", \"determined_year\": 2013, \"counts\": 1}, {\"family\": \"Flabelligeridae\", \"determined_year\": 2000, \"counts\": 1}, {\"family\": \"Flabelligeridae\", \"determined_year\": 2001, \"counts\": 12}, {\"family\": \"Flabelligeridae\", \"determined_year\": 2002, \"counts\": 4}, {\"family\": \"Flabelligeridae\", \"determined_year\": 2003, \"counts\": 18}, {\"family\": \"Flabelligeridae\", \"determined_year\": 2007, \"counts\": 3}, {\"family\": \"Flabelligeridae\", \"determined_year\": 2010, \"counts\": 1}, {\"family\": \"Flabelligeridae\", \"determined_year\": 2011, \"counts\": 4}, {\"family\": \"Glyceridae\", \"determined_year\": 1999, \"counts\": 1}, {\"family\": \"Glyceridae\", \"determined_year\": 2000, \"counts\": 1}, {\"family\": \"Glyceridae\", \"determined_year\": 2001, \"counts\": 2}, {\"family\": \"Glyceridae\", \"determined_year\": 2002, \"counts\": 18}, {\"family\": \"Glyceridae\", \"determined_year\": 2003, \"counts\": 22}, {\"family\": \"Glyceridae\", \"determined_year\": 2004, \"counts\": 8}, {\"family\": \"Glyceridae\", \"determined_year\": 2010, \"counts\": 10}, {\"family\": \"Glyceridae\", \"determined_year\": 2012, \"counts\": 1}, {\"family\": \"Glyceridae\", \"determined_year\": 2013, \"counts\": 3}, {\"family\": \"Glyceridae\", \"determined_year\": 2014, \"counts\": 2}, {\"family\": \"Glyceridae\", \"determined_year\": 2015, \"counts\": 1}, {\"family\": \"Goniadidae\", \"determined_year\": 1994, \"counts\": 5}, {\"family\": \"Goniadidae\", \"determined_year\": 2000, \"counts\": 2}, {\"family\": \"Goniadidae\", \"determined_year\": 2002, \"counts\": 1}, {\"family\": \"Goniadidae\", \"determined_year\": 2003, \"counts\": 3}, {\"family\": \"Goniadidae\", \"determined_year\": 2010, \"counts\": 2}, {\"family\": \"Hesionidae\", \"determined_year\": 2000, \"counts\": 1}, {\"family\": \"Hesionidae\", \"determined_year\": 2001, \"counts\": 2}, {\"family\": \"Hesionidae\", \"determined_year\": 2002, \"counts\": 1}, {\"family\": \"Hesionidae\", \"determined_year\": 2003, \"counts\": 1}, {\"family\": \"Hesionidae\", \"determined_year\": 2013, \"counts\": 4}, {\"family\": \"Iospilidae\", \"determined_year\": 2011, \"counts\": 115}, {\"family\": \"Longosomatidae\", \"determined_year\": 2001, \"counts\": 1}, {\"family\": \"Lopadorrhynchidae\", \"determined_year\": 2003, \"counts\": 1}, {\"family\": \"Lopadorrhynchidae\", \"determined_year\": 2011, \"counts\": 74}, {\"family\": \"Lumbrineridae\", \"determined_year\": 1994, \"counts\": 6}, {\"family\": \"Lumbrineridae\", \"determined_year\": 1999, \"counts\": 1}, {\"family\": \"Lumbrineridae\", \"determined_year\": 2000, \"counts\": 3}, {\"family\": \"Lumbrineridae\", \"determined_year\": 2001, \"counts\": 18}, {\"family\": \"Lumbrineridae\", \"determined_year\": 2002, \"counts\": 7}, {\"family\": \"Lumbrineridae\", \"determined_year\": 2003, \"counts\": 19}, {\"family\": \"Lumbrineridae\", \"determined_year\": 2005, \"counts\": 1}, {\"family\": \"Lumbrineridae\", \"determined_year\": 2007, \"counts\": 3}, {\"family\": \"Lumbrineridae\", \"determined_year\": 2009, \"counts\": 1}, {\"family\": \"Lumbrineridae\", \"determined_year\": 2010, \"counts\": 2}, {\"family\": \"Lumbrineridae\", \"determined_year\": 2012, \"counts\": 1}, {\"family\": \"Lumbrineridae\", \"determined_year\": 2013, \"counts\": 8}, {\"family\": \"Lumbrineridae\", \"determined_year\": 2014, \"counts\": 3}, {\"family\": \"Magelonidae\", \"determined_year\": 2000, \"counts\": 2}, {\"family\": \"Magelonidae\", \"determined_year\": 2001, \"counts\": 4}, {\"family\": \"Magelonidae\", \"determined_year\": 2002, \"counts\": 1}, {\"family\": \"Magelonidae\", \"determined_year\": 2010, \"counts\": 6}, {\"family\": \"Maldanidae\", \"determined_year\": 2000, \"counts\": 1}, {\"family\": \"Maldanidae\", \"determined_year\": 2001, \"counts\": 5}, {\"family\": \"Maldanidae\", \"determined_year\": 2002, \"counts\": 5}, {\"family\": \"Maldanidae\", \"determined_year\": 2003, \"counts\": 12}, {\"family\": \"Maldanidae\", \"determined_year\": 2004, \"counts\": 1}, {\"family\": \"Maldanidae\", \"determined_year\": 2007, \"counts\": 6}, {\"family\": \"Maldanidae\", \"determined_year\": 2010, \"counts\": 1}, {\"family\": \"Maldanidae\", \"determined_year\": 2013, \"counts\": 2}, {\"family\": \"Megascolecidae\", \"determined_year\": 2001, \"counts\": 1}, {\"family\": \"Nan\", \"determined_year\": 2008, \"counts\": 1}, {\"family\": \"Nan\", \"determined_year\": 2010, \"counts\": 1}, {\"family\": \"Nan\", \"determined_year\": 2011, \"counts\": 6}, {\"family\": \"Nan\", \"determined_year\": 2013, \"counts\": 2}, {\"family\": \"Nephtyidae\", \"determined_year\": 1993, \"counts\": 1}, {\"family\": \"Nephtyidae\", \"determined_year\": 2000, \"counts\": 1}, {\"family\": \"Nephtyidae\", \"determined_year\": 2001, \"counts\": 5}, {\"family\": \"Nephtyidae\", \"determined_year\": 2002, \"counts\": 6}, {\"family\": \"Nephtyidae\", \"determined_year\": 2007, \"counts\": 2}, {\"family\": \"Nephtyidae\", \"determined_year\": 2010, \"counts\": 1}, {\"family\": \"Nephtyidae\", \"determined_year\": 2014, \"counts\": 1}, {\"family\": \"Nereididae\", \"determined_year\": 1997, \"counts\": 1}, {\"family\": \"Nereididae\", \"determined_year\": 1999, \"counts\": 1}, {\"family\": \"Nereididae\", \"determined_year\": 2000, \"counts\": 2}, {\"family\": \"Nereididae\", \"determined_year\": 2001, \"counts\": 22}, {\"family\": \"Nereididae\", \"determined_year\": 2002, \"counts\": 38}, {\"family\": \"Nereididae\", \"determined_year\": 2003, \"counts\": 1}, {\"family\": \"Nereididae\", \"determined_year\": 2005, \"counts\": 1}, {\"family\": \"Nereididae\", \"determined_year\": 2008, \"counts\": 3}, {\"family\": \"Nereididae\", \"determined_year\": 2009, \"counts\": 2}, {\"family\": \"Nereididae\", \"determined_year\": 2010, \"counts\": 7}, {\"family\": \"Nereididae\", \"determined_year\": 2011, \"counts\": 4}, {\"family\": \"Nereididae\", \"determined_year\": 2012, \"counts\": 3}, {\"family\": \"Nereididae\", \"determined_year\": 2013, \"counts\": 10}, {\"family\": \"Nereididae\", \"determined_year\": 2014, \"counts\": 3}, {\"family\": \"Oenonidae\", \"determined_year\": 2002, \"counts\": 15}, {\"family\": \"Oenonidae\", \"determined_year\": 2008, \"counts\": 7}, {\"family\": \"Oenonidae\", \"determined_year\": 2010, \"counts\": 1}, {\"family\": \"Oenonidae\", \"determined_year\": 2011, \"counts\": 2}, {\"family\": \"Oenonidae\", \"determined_year\": 2012, \"counts\": 1}, {\"family\": \"Oenonidae\", \"determined_year\": 2013, \"counts\": 4}, {\"family\": \"Onuphidae\", \"determined_year\": 2000, \"counts\": 3}, {\"family\": \"Onuphidae\", \"determined_year\": 2001, \"counts\": 6}, {\"family\": \"Onuphidae\", \"determined_year\": 2002, \"counts\": 7}, {\"family\": \"Onuphidae\", \"determined_year\": 2003, \"counts\": 2}, {\"family\": \"Onuphidae\", \"determined_year\": 2004, \"counts\": 2}, {\"family\": \"Onuphidae\", \"determined_year\": 2010, \"counts\": 2}, {\"family\": \"Onuphidae\", \"determined_year\": 2011, \"counts\": 7}, {\"family\": \"Onuphidae\", \"determined_year\": 2013, \"counts\": 4}, {\"family\": \"Opheliidae\", \"determined_year\": 2000, \"counts\": 2}, {\"family\": \"Opheliidae\", \"determined_year\": 2001, \"counts\": 3}, {\"family\": \"Opheliidae\", \"determined_year\": 2002, \"counts\": 5}, {\"family\": \"Opheliidae\", \"determined_year\": 2007, \"counts\": 7}, {\"family\": \"Opheliidae\", \"determined_year\": 2008, \"counts\": 1}, {\"family\": \"Opheliidae\", \"determined_year\": 2010, \"counts\": 3}, {\"family\": \"Opheliidae\", \"determined_year\": 2011, \"counts\": 1}, {\"family\": \"Orbiniidae\", \"determined_year\": 2000, \"counts\": 4}, {\"family\": \"Orbiniidae\", \"determined_year\": 2001, \"counts\": 15}, {\"family\": \"Orbiniidae\", \"determined_year\": 2002, \"counts\": 4}, {\"family\": \"Orbiniidae\", \"determined_year\": 2007, \"counts\": 4}, {\"family\": \"Orbiniidae\", \"determined_year\": 2010, \"counts\": 1}, {\"family\": \"Orbiniidae\", \"determined_year\": 2013, \"counts\": 1}, {\"family\": \"Oweniidae\", \"determined_year\": 2000, \"counts\": 1}, {\"family\": \"Oweniidae\", \"determined_year\": 2001, \"counts\": 5}, {\"family\": \"Oweniidae\", \"determined_year\": 2002, \"counts\": 1}, {\"family\": \"Paraonidae\", \"determined_year\": 2001, \"counts\": 4}, {\"family\": \"Paraonidae\", \"determined_year\": 2002, \"counts\": 1}, {\"family\": \"Paraonidae\", \"determined_year\": 2007, \"counts\": 6}, {\"family\": \"Paraonidae\", \"determined_year\": 2010, \"counts\": 12}, {\"family\": \"Pectinariidae\", \"determined_year\": 1994, \"counts\": 4}, {\"family\": \"Pectinariidae\", \"determined_year\": 1998, \"counts\": 1}, {\"family\": \"Pectinariidae\", \"determined_year\": 2000, \"counts\": 2}, {\"family\": \"Pectinariidae\", \"determined_year\": 2001, \"counts\": 4}, {\"family\": \"Pectinariidae\", \"determined_year\": 2013, \"counts\": 1}, {\"family\": \"Pholoidae\", \"determined_year\": 1994, \"counts\": 4}, {\"family\": \"Pholoidae\", \"determined_year\": 2003, \"counts\": 7}, {\"family\": \"Pholoidae\", \"determined_year\": 2008, \"counts\": 1}, {\"family\": \"Phyllodocidae\", \"determined_year\": 2000, \"counts\": 3}, {\"family\": \"Phyllodocidae\", \"determined_year\": 2001, \"counts\": 5}, {\"family\": \"Phyllodocidae\", \"determined_year\": 2002, \"counts\": 35}, {\"family\": \"Phyllodocidae\", \"determined_year\": 2004, \"counts\": 1}, {\"family\": \"Phyllodocidae\", \"determined_year\": 2007, \"counts\": 1}, {\"family\": \"Phyllodocidae\", \"determined_year\": 2010, \"counts\": 3}, {\"family\": \"Phyllodocidae\", \"determined_year\": 2011, \"counts\": 2}, {\"family\": \"Phyllodocidae\", \"determined_year\": 2012, \"counts\": 1}, {\"family\": \"Phyllodocidae\", \"determined_year\": 2013, \"counts\": 4}, {\"family\": \"Pilargidae\", \"determined_year\": 1994, \"counts\": 5}, {\"family\": \"Pilargidae\", \"determined_year\": 2000, \"counts\": 3}, {\"family\": \"Pilargidae\", \"determined_year\": 2001, \"counts\": 3}, {\"family\": \"Pilargidae\", \"determined_year\": 2002, \"counts\": 4}, {\"family\": \"Poecilochaetidae\", \"determined_year\": 2001, \"counts\": 3}, {\"family\": \"Poecilochaetidae\", \"determined_year\": 2002, \"counts\": 1}, {\"family\": \"Poecilochaetidae\", \"determined_year\": 2003, \"counts\": 2}, {\"family\": \"Poecilochaetidae\", \"determined_year\": 2010, \"counts\": 1}, {\"family\": \"Poecilochaetidae\", \"determined_year\": 2013, \"counts\": 1}, {\"family\": \"Polynoidae\", \"determined_year\": 2000, \"counts\": 2}, {\"family\": \"Polynoidae\", \"determined_year\": 2001, \"counts\": 8}, {\"family\": \"Polynoidae\", \"determined_year\": 2002, \"counts\": 24}, {\"family\": \"Polynoidae\", \"determined_year\": 2003, \"counts\": 1}, {\"family\": \"Polynoidae\", \"determined_year\": 2004, \"counts\": 1}, {\"family\": \"Polynoidae\", \"determined_year\": 2005, \"counts\": 1}, {\"family\": \"Polynoidae\", \"determined_year\": 2007, \"counts\": 4}, {\"family\": \"Polynoidae\", \"determined_year\": 2009, \"counts\": 5}, {\"family\": \"Polynoidae\", \"determined_year\": 2010, \"counts\": 1}, {\"family\": \"Polynoidae\", \"determined_year\": 2011, \"counts\": 31}, {\"family\": \"Polynoidae\", \"determined_year\": 2012, \"counts\": 39}, {\"family\": \"Polynoidae\", \"determined_year\": 2013, \"counts\": 2}, {\"family\": \"Polynoidae\", \"determined_year\": 2014, \"counts\": 1}, {\"family\": \"Pontodoridae\", \"determined_year\": 2011, \"counts\": 1}, {\"family\": \"Sabellariidae\", \"determined_year\": 2008, \"counts\": 2}, {\"family\": \"Sabellariidae\", \"determined_year\": 2012, \"counts\": 6}, {\"family\": \"Sabellariidae\", \"determined_year\": 2013, \"counts\": 74}, {\"family\": \"Sabellariidae\", \"determined_year\": 2014, \"counts\": 127}, {\"family\": \"Sabellidae\", \"determined_year\": 2000, \"counts\": 5}, {\"family\": \"Sabellidae\", \"determined_year\": 2001, \"counts\": 2}, {\"family\": \"Sabellidae\", \"determined_year\": 2003, \"counts\": 19}, {\"family\": \"Sabellidae\", \"determined_year\": 2004, \"counts\": 3}, {\"family\": \"Sabellidae\", \"determined_year\": 2005, \"counts\": 1}, {\"family\": \"Sabellidae\", \"determined_year\": 2007, \"counts\": 2}, {\"family\": \"Sabellidae\", \"determined_year\": 2008, \"counts\": 133}, {\"family\": \"Sabellidae\", \"determined_year\": 2009, \"counts\": 1}, {\"family\": \"Sabellidae\", \"determined_year\": 2010, \"counts\": 54}, {\"family\": \"Sabellidae\", \"determined_year\": 2011, \"counts\": 1}, {\"family\": \"Sabellidae\", \"determined_year\": 2012, \"counts\": 1}, {\"family\": \"Sabellidae\", \"determined_year\": 2013, \"counts\": 2}, {\"family\": \"Sabellidae\", \"determined_year\": 2014, \"counts\": 1}, {\"family\": \"Scalibregmatidae\", \"determined_year\": 2003, \"counts\": 3}, {\"family\": \"Scalibregmatidae\", \"determined_year\": 2007, \"counts\": 2}, {\"family\": \"Serpulidae\", \"determined_year\": 1998, \"counts\": 1}, {\"family\": \"Serpulidae\", \"determined_year\": 1999, \"counts\": 1}, {\"family\": \"Serpulidae\", \"determined_year\": 2000, \"counts\": 1}, {\"family\": \"Serpulidae\", \"determined_year\": 2001, \"counts\": 2}, {\"family\": \"Serpulidae\", \"determined_year\": 2002, \"counts\": 8}, {\"family\": \"Serpulidae\", \"determined_year\": 2005, \"counts\": 1}, {\"family\": \"Serpulidae\", \"determined_year\": 2009, \"counts\": 2}, {\"family\": \"Serpulidae\", \"determined_year\": 2010, \"counts\": 1}, {\"family\": \"Serpulidae\", \"determined_year\": 2011, \"counts\": 4}, {\"family\": \"Serpulidae\", \"determined_year\": 2012, \"counts\": 2}, {\"family\": \"Serpulidae\", \"determined_year\": 2013, \"counts\": 2}, {\"family\": \"Sigalionidae\", \"determined_year\": 2000, \"counts\": 1}, {\"family\": \"Sigalionidae\", \"determined_year\": 2001, \"counts\": 9}, {\"family\": \"Sigalionidae\", \"determined_year\": 2002, \"counts\": 1}, {\"family\": \"Sigalionidae\", \"determined_year\": 2003, \"counts\": 5}, {\"family\": \"Sigalionidae\", \"determined_year\": 2004, \"counts\": 1}, {\"family\": \"Sigalionidae\", \"determined_year\": 2010, \"counts\": 1}, {\"family\": \"Sigalionidae\", \"determined_year\": 2011, \"counts\": 5}, {\"family\": \"Sigalionidae\", \"determined_year\": 2012, \"counts\": 2}, {\"family\": \"Sigalionidae\", \"determined_year\": 2015, \"counts\": 1}, {\"family\": \"Sipunculidae\", \"determined_year\": 2010, \"counts\": 2}, {\"family\": \"Sphaerodoridae\", \"determined_year\": 2007, \"counts\": 2}, {\"family\": \"Spionidae\", \"determined_year\": 2001, \"counts\": 1}, {\"family\": \"Spionidae\", \"determined_year\": 2002, \"counts\": 2}, {\"family\": \"Spionidae\", \"determined_year\": 2003, \"counts\": 54}, {\"family\": \"Spionidae\", \"determined_year\": 2004, \"counts\": 1}, {\"family\": \"Spionidae\", \"determined_year\": 2005, \"counts\": 1}, {\"family\": \"Spionidae\", \"determined_year\": 2008, \"counts\": 4}, {\"family\": \"Spionidae\", \"determined_year\": 2009, \"counts\": 8}, {\"family\": \"Spionidae\", \"determined_year\": 2010, \"counts\": 9}, {\"family\": \"Spionidae\", \"determined_year\": 2011, \"counts\": 2}, {\"family\": \"Spionidae\", \"determined_year\": 2013, \"counts\": 3}, {\"family\": \"Spionidae\", \"determined_year\": 2015, \"counts\": 2}, {\"family\": \"Sternaspidae\", \"determined_year\": 2000, \"counts\": 1}, {\"family\": \"Sternaspidae\", \"determined_year\": 2001, \"counts\": 1}, {\"family\": \"Sternaspidae\", \"determined_year\": 2002, \"counts\": 2}, {\"family\": \"Sternaspidae\", \"determined_year\": 2003, \"counts\": 7}, {\"family\": \"Sternaspidae\", \"determined_year\": 2007, \"counts\": 1}, {\"family\": \"Sternaspidae\", \"determined_year\": 2008, \"counts\": 29}, {\"family\": \"Syllidae\", \"determined_year\": 2000, \"counts\": 3}, {\"family\": \"Syllidae\", \"determined_year\": 2001, \"counts\": 8}, {\"family\": \"Syllidae\", \"determined_year\": 2002, \"counts\": 18}, {\"family\": \"Syllidae\", \"determined_year\": 2003, \"counts\": 1}, {\"family\": \"Syllidae\", \"determined_year\": 2005, \"counts\": 1}, {\"family\": \"Syllidae\", \"determined_year\": 2007, \"counts\": 4}, {\"family\": \"Syllidae\", \"determined_year\": 2008, \"counts\": 1}, {\"family\": \"Syllidae\", \"determined_year\": 2009, \"counts\": 2}, {\"family\": \"Syllidae\", \"determined_year\": 2010, \"counts\": 16}, {\"family\": \"Syllidae\", \"determined_year\": 2011, \"counts\": 22}, {\"family\": \"Syllidae\", \"determined_year\": 2012, \"counts\": 1}, {\"family\": \"Syllidae\", \"determined_year\": 2013, \"counts\": 8}, {\"family\": \"Syllidae\", \"determined_year\": 2014, \"counts\": 4}, {\"family\": \"Terebellidae\", \"determined_year\": 2000, \"counts\": 1}, {\"family\": \"Terebellidae\", \"determined_year\": 2001, \"counts\": 2}, {\"family\": \"Terebellidae\", \"determined_year\": 2002, \"counts\": 2}, {\"family\": \"Terebellidae\", \"determined_year\": 2003, \"counts\": 7}, {\"family\": \"Terebellidae\", \"determined_year\": 2004, \"counts\": 2}, {\"family\": \"Terebellidae\", \"determined_year\": 2007, \"counts\": 2}, {\"family\": \"Terebellidae\", \"determined_year\": 2009, \"counts\": 2}, {\"family\": \"Terebellidae\", \"determined_year\": 2010, \"counts\": 1}, {\"family\": \"Terebellidae\", \"determined_year\": 2013, \"counts\": 5}, {\"family\": \"Terebellidae\", \"determined_year\": 2014, \"counts\": 1}, {\"family\": \"Terebellidae\", \"determined_year\": 2015, \"counts\": 1}, {\"family\": \"Tomopteridae\", \"determined_year\": 2011, \"counts\": 171}, {\"family\": \"Trichobranchidae\", \"determined_year\": 2000, \"counts\": 1}, {\"family\": \"Trichobranchidae\", \"determined_year\": 2001, \"counts\": 20}, {\"family\": \"Trichobranchidae\", \"determined_year\": 2007, \"counts\": 1}, {\"family\": \"Trichobranchidae\", \"determined_year\": 2013, \"counts\": 1}, {\"family\": \"Typhloscolecidae\", \"determined_year\": 2011, \"counts\": 239}]}}, {\"mode\": \"vega-lite\"});\n",
       "</script>"
      ],
      "text/plain": [
       "alt.Chart(...)"
      ]
     },
     "execution_count": 27,
     "metadata": {},
     "output_type": "execute_result"
    }
   ],
   "source": [
    "g1 = alt.Chart(teste,\n",
    "               width=500, height=500, title='Number of collected polychaeta of each family per year').mark_circle(\n",
    "                                                                                size=60).encode(\n",
    "    x= alt.X('determined_year', type='ordinal', title='Determined Year'),\n",
    "    y= alt.Y('family', type='nominal', title='Family',\n",
    "            sort= alt.EncodingSortField(field='counts', op='count', order='descending')),\n",
    "    size= alt.Size('counts', title='Count', scale=alt.Scale(range=[6,400])),\n",
    "    tooltip = alt.Tooltip(['family', 'determined_year', 'counts'])\n",
    ")\n",
    "\n",
    "g1.save('./graphs/familias_por_ano.html')\n",
    "\n",
    "g1"
   ]
  },
  {
   "cell_type": "code",
   "execution_count": 28,
   "metadata": {
    "ExecuteTime": {
     "end_time": "2020-08-03T12:05:13.455874Z",
     "start_time": "2020-08-03T12:05:13.419796Z"
    }
   },
   "outputs": [],
   "source": [
    "teste = NewTable.groupby(['family','order','determined_year']).count()['class'].reset_index().rename(\n",
    "                                                                                    columns={'class':'counts'})\n",
    "\n",
    "teste['determined_year'] = teste['determined_year'].astype(int)"
   ]
  },
  {
   "cell_type": "code",
   "execution_count": 31,
   "metadata": {
    "ExecuteTime": {
     "end_time": "2020-08-03T12:08:00.911656Z",
     "start_time": "2020-08-03T12:08:00.810356Z"
    }
   },
   "outputs": [
    {
     "data": {
      "text/html": [
       "\n",
       "<div id=\"altair-viz-8a1ff26c0b364cbcab32e6803c411f80\"></div>\n",
       "<script type=\"text/javascript\">\n",
       "  (function(spec, embedOpt){\n",
       "    let outputDiv = document.currentScript.previousElementSibling;\n",
       "    if (outputDiv.id !== \"altair-viz-8a1ff26c0b364cbcab32e6803c411f80\") {\n",
       "      outputDiv = document.getElementById(\"altair-viz-8a1ff26c0b364cbcab32e6803c411f80\");\n",
       "    }\n",
       "    const paths = {\n",
       "      \"vega\": \"https://cdn.jsdelivr.net/npm//vega@5?noext\",\n",
       "      \"vega-lib\": \"https://cdn.jsdelivr.net/npm//vega-lib?noext\",\n",
       "      \"vega-lite\": \"https://cdn.jsdelivr.net/npm//vega-lite@4.8.1?noext\",\n",
       "      \"vega-embed\": \"https://cdn.jsdelivr.net/npm//vega-embed@6?noext\",\n",
       "    };\n",
       "\n",
       "    function loadScript(lib) {\n",
       "      return new Promise(function(resolve, reject) {\n",
       "        var s = document.createElement('script');\n",
       "        s.src = paths[lib];\n",
       "        s.async = true;\n",
       "        s.onload = () => resolve(paths[lib]);\n",
       "        s.onerror = () => reject(`Error loading script: ${paths[lib]}`);\n",
       "        document.getElementsByTagName(\"head\")[0].appendChild(s);\n",
       "      });\n",
       "    }\n",
       "\n",
       "    function showError(err) {\n",
       "      outputDiv.innerHTML = `<div class=\"error\" style=\"color:red;\">${err}</div>`;\n",
       "      throw err;\n",
       "    }\n",
       "\n",
       "    function displayChart(vegaEmbed) {\n",
       "      vegaEmbed(outputDiv, spec, embedOpt)\n",
       "        .catch(err => showError(`Javascript Error: ${err.message}<br>This usually means there's a typo in your chart specification. See the javascript console for the full traceback.`));\n",
       "    }\n",
       "\n",
       "    if(typeof define === \"function\" && define.amd) {\n",
       "      requirejs.config({paths});\n",
       "      require([\"vega-embed\"], displayChart, err => showError(`Error loading script: ${err.message}`));\n",
       "    } else if (typeof vegaEmbed === \"function\") {\n",
       "      displayChart(vegaEmbed);\n",
       "    } else {\n",
       "      loadScript(\"vega\")\n",
       "        .then(() => loadScript(\"vega-lite\"))\n",
       "        .then(() => loadScript(\"vega-embed\"))\n",
       "        .catch(showError)\n",
       "        .then(() => displayChart(vegaEmbed));\n",
       "    }\n",
       "  })({\"config\": {\"view\": {\"continuousWidth\": 400, \"continuousHeight\": 300}}, \"data\": {\"name\": \"data-d73fb9f6a720b4f16fc3bb5185d8e7e2\"}, \"mark\": {\"type\": \"circle\", \"size\": 60}, \"encoding\": {\"color\": {\"type\": \"nominal\", \"field\": \"order\", \"scale\": {\"domain\": [\"Eunicida\", \"Phyllodocida\", \"Sabellida\", \"Scolecida\", \"Spionida\", \"Terebellida\", \"Amphinomida\", NaN, \"Sipuncula\", \"Crassiclitellata\"], \"range\": [\"#8ABFB0\", \"#41A681\", \"#7ACAAB\", \"#D9C2AD\", \"#0D0D0D\", \"#D96236\", \"#D94B18\", \"#FFB27C\", \"#732C02\", \"#86471B\"]}}, \"size\": {\"type\": \"quantitative\", \"field\": \"counts\", \"title\": \"Count\"}, \"tooltip\": [{\"type\": \"nominal\", \"field\": \"family\"}, {\"type\": \"quantitative\", \"field\": \"determined_year\"}, {\"type\": \"quantitative\", \"field\": \"counts\"}], \"x\": {\"type\": \"ordinal\", \"field\": \"determined_year\", \"title\": \"Determined Year\"}, \"y\": {\"type\": \"nominal\", \"field\": \"family\", \"sort\": {\"field\": \"counts\", \"op\": \"sum\", \"order\": \"descending\"}, \"title\": \"Family\"}}, \"height\": 500, \"title\": \"Number of collected animals of each family per year\", \"width\": 500, \"$schema\": \"https://vega.github.io/schema/vega-lite/v4.8.1.json\", \"datasets\": {\"data-d73fb9f6a720b4f16fc3bb5185d8e7e2\": [{\"family\": \"Acoetidae\", \"order\": \"Phyllodocida\", \"determined_year\": 2002, \"counts\": 5}, {\"family\": \"Alciopidae\", \"order\": \"Phyllodocida\", \"determined_year\": 2011, \"counts\": 309}, {\"family\": \"Ampharetidae\", \"order\": \"Terebellida\", \"determined_year\": 1994, \"counts\": 2}, {\"family\": \"Ampharetidae\", \"order\": \"Terebellida\", \"determined_year\": 2000, \"counts\": 1}, {\"family\": \"Ampharetidae\", \"order\": \"Terebellida\", \"determined_year\": 2001, \"counts\": 5}, {\"family\": \"Ampharetidae\", \"order\": \"Terebellida\", \"determined_year\": 2002, \"counts\": 3}, {\"family\": \"Ampharetidae\", \"order\": \"Terebellida\", \"determined_year\": 2003, \"counts\": 6}, {\"family\": \"Ampharetidae\", \"order\": \"Terebellida\", \"determined_year\": 2007, \"counts\": 4}, {\"family\": \"Ampharetidae\", \"order\": \"Terebellida\", \"determined_year\": 2013, \"counts\": 1}, {\"family\": \"Amphinomidae\", \"order\": \"Amphinomida\", \"determined_year\": 2000, \"counts\": 4}, {\"family\": \"Amphinomidae\", \"order\": \"Amphinomida\", \"determined_year\": 2001, \"counts\": 9}, {\"family\": \"Amphinomidae\", \"order\": \"Amphinomida\", \"determined_year\": 2002, \"counts\": 25}, {\"family\": \"Amphinomidae\", \"order\": \"Amphinomida\", \"determined_year\": 2003, \"counts\": 8}, {\"family\": \"Amphinomidae\", \"order\": \"Amphinomida\", \"determined_year\": 2007, \"counts\": 5}, {\"family\": \"Amphinomidae\", \"order\": \"Amphinomida\", \"determined_year\": 2009, \"counts\": 2}, {\"family\": \"Amphinomidae\", \"order\": \"Amphinomida\", \"determined_year\": 2010, \"counts\": 1}, {\"family\": \"Amphinomidae\", \"order\": \"Amphinomida\", \"determined_year\": 2011, \"counts\": 3}, {\"family\": \"Amphinomidae\", \"order\": \"Amphinomida\", \"determined_year\": 2012, \"counts\": 1}, {\"family\": \"Amphinomidae\", \"order\": \"Amphinomida\", \"determined_year\": 2013, \"counts\": 2}, {\"family\": \"Amphinomidae\", \"order\": \"Amphinomida\", \"determined_year\": 2014, \"counts\": 2}, {\"family\": \"Aphroditidae\", \"order\": \"Phyllodocida\", \"determined_year\": 2001, \"counts\": 2}, {\"family\": \"Aphroditidae\", \"order\": \"Phyllodocida\", \"determined_year\": 2002, \"counts\": 17}, {\"family\": \"Aphroditidae\", \"order\": \"Phyllodocida\", \"determined_year\": 2010, \"counts\": 1}, {\"family\": \"Aphroditidae\", \"order\": \"Phyllodocida\", \"determined_year\": 2013, \"counts\": 2}, {\"family\": \"Apistobranchidae\", \"order\": \"Spionida\", \"determined_year\": 2007, \"counts\": 1}, {\"family\": \"Apistobranchidae\", \"order\": \"Spionida\", \"determined_year\": 2011, \"counts\": 1}, {\"family\": \"Capitellidae\", \"order\": \"Scolecida\", \"determined_year\": 1997, \"counts\": 1}, {\"family\": \"Capitellidae\", \"order\": \"Scolecida\", \"determined_year\": 2001, \"counts\": 6}, {\"family\": \"Capitellidae\", \"order\": \"Scolecida\", \"determined_year\": 2002, \"counts\": 1}, {\"family\": \"Capitellidae\", \"order\": \"Scolecida\", \"determined_year\": 2003, \"counts\": 5}, {\"family\": \"Capitellidae\", \"order\": \"Scolecida\", \"determined_year\": 2007, \"counts\": 1}, {\"family\": \"Capitellidae\", \"order\": \"Scolecida\", \"determined_year\": 2010, \"counts\": 4}, {\"family\": \"Capitellidae\", \"order\": \"Scolecida\", \"determined_year\": 2011, \"counts\": 2}, {\"family\": \"Capitellidae\", \"order\": \"Scolecida\", \"determined_year\": 2013, \"counts\": 3}, {\"family\": \"Capitellidae\", \"order\": \"Scolecida\", \"determined_year\": 2014, \"counts\": 1}, {\"family\": \"Chaetopteridae\", \"order\": \"Spionida\", \"determined_year\": 2001, \"counts\": 1}, {\"family\": \"Chaetopteridae\", \"order\": \"Spionida\", \"determined_year\": 2002, \"counts\": 2}, {\"family\": \"Chaetopteridae\", \"order\": \"Spionida\", \"determined_year\": 2003, \"counts\": 2}, {\"family\": \"Chaetopteridae\", \"order\": \"Spionida\", \"determined_year\": 2004, \"counts\": 2}, {\"family\": \"Chaetopteridae\", \"order\": \"Spionida\", \"determined_year\": 2010, \"counts\": 1}, {\"family\": \"Chrysopetalidae\", \"order\": \"Phyllodocida\", \"determined_year\": 2001, \"counts\": 1}, {\"family\": \"Chrysopetalidae\", \"order\": \"Phyllodocida\", \"determined_year\": 2009, \"counts\": 2}, {\"family\": \"Chrysopetalidae\", \"order\": \"Phyllodocida\", \"determined_year\": 2013, \"counts\": 1}, {\"family\": \"Cirratulidae\", \"order\": \"Terebellida\", \"determined_year\": 2000, \"counts\": 2}, {\"family\": \"Cirratulidae\", \"order\": \"Terebellida\", \"determined_year\": 2001, \"counts\": 5}, {\"family\": \"Cirratulidae\", \"order\": \"Terebellida\", \"determined_year\": 2002, \"counts\": 2}, {\"family\": \"Cirratulidae\", \"order\": \"Terebellida\", \"determined_year\": 2003, \"counts\": 4}, {\"family\": \"Cirratulidae\", \"order\": \"Terebellida\", \"determined_year\": 2007, \"counts\": 2}, {\"family\": \"Cirratulidae\", \"order\": \"Terebellida\", \"determined_year\": 2010, \"counts\": 2}, {\"family\": \"Cirratulidae\", \"order\": \"Terebellida\", \"determined_year\": 2012, \"counts\": 1}, {\"family\": \"Cirratulidae\", \"order\": \"Terebellida\", \"determined_year\": 2013, \"counts\": 2}, {\"family\": \"Cirratulidae\", \"order\": \"Terebellida\", \"determined_year\": 2014, \"counts\": 7}, {\"family\": \"Cossuridae\", \"order\": \"Scolecida\", \"determined_year\": 2000, \"counts\": 1}, {\"family\": \"Cossuridae\", \"order\": \"Scolecida\", \"determined_year\": 2001, \"counts\": 1}, {\"family\": \"Cossuridae\", \"order\": \"Scolecida\", \"determined_year\": 2002, \"counts\": 1}, {\"family\": \"Dorvilleidae\", \"order\": \"Eunicida\", \"determined_year\": 1991, \"counts\": 4}, {\"family\": \"Dorvilleidae\", \"order\": \"Eunicida\", \"determined_year\": 2000, \"counts\": 1}, {\"family\": \"Dorvilleidae\", \"order\": \"Eunicida\", \"determined_year\": 2003, \"counts\": 1}, {\"family\": \"Dorvilleidae\", \"order\": \"Eunicida\", \"determined_year\": 2007, \"counts\": 1}, {\"family\": \"Dorvilleidae\", \"order\": \"Eunicida\", \"determined_year\": 2008, \"counts\": 2}, {\"family\": \"Dorvilleidae\", \"order\": \"Eunicida\", \"determined_year\": 2009, \"counts\": 1}, {\"family\": \"Dorvilleidae\", \"order\": \"Eunicida\", \"determined_year\": 2010, \"counts\": 1}, {\"family\": \"Dorvilleidae\", \"order\": \"Eunicida\", \"determined_year\": 2011, \"counts\": 1}, {\"family\": \"Dorvilleidae\", \"order\": \"Eunicida\", \"determined_year\": 2013, \"counts\": 2}, {\"family\": \"Eulepethidae\", \"order\": \"Phyllodocida\", \"determined_year\": 2001, \"counts\": 2}, {\"family\": \"Eulepethidae\", \"order\": \"Phyllodocida\", \"determined_year\": 2002, \"counts\": 1}, {\"family\": \"Eunicidae\", \"order\": \"Eunicida\", \"determined_year\": 1986, \"counts\": 1}, {\"family\": \"Eunicidae\", \"order\": \"Eunicida\", \"determined_year\": 1993, \"counts\": 1}, {\"family\": \"Eunicidae\", \"order\": \"Eunicida\", \"determined_year\": 1994, \"counts\": 1}, {\"family\": \"Eunicidae\", \"order\": \"Eunicida\", \"determined_year\": 1998, \"counts\": 62}, {\"family\": \"Eunicidae\", \"order\": \"Eunicida\", \"determined_year\": 1999, \"counts\": 4}, {\"family\": \"Eunicidae\", \"order\": \"Eunicida\", \"determined_year\": 2000, \"counts\": 4}, {\"family\": \"Eunicidae\", \"order\": \"Eunicida\", \"determined_year\": 2001, \"counts\": 27}, {\"family\": \"Eunicidae\", \"order\": \"Eunicida\", \"determined_year\": 2002, \"counts\": 82}, {\"family\": \"Eunicidae\", \"order\": \"Eunicida\", \"determined_year\": 2004, \"counts\": 1}, {\"family\": \"Eunicidae\", \"order\": \"Eunicida\", \"determined_year\": 2005, \"counts\": 92}, {\"family\": \"Eunicidae\", \"order\": \"Eunicida\", \"determined_year\": 2008, \"counts\": 7}, {\"family\": \"Eunicidae\", \"order\": \"Eunicida\", \"determined_year\": 2009, \"counts\": 2}, {\"family\": \"Eunicidae\", \"order\": \"Eunicida\", \"determined_year\": 2010, \"counts\": 5}, {\"family\": \"Eunicidae\", \"order\": \"Eunicida\", \"determined_year\": 2011, \"counts\": 12}, {\"family\": \"Eunicidae\", \"order\": \"Eunicida\", \"determined_year\": 2012, \"counts\": 2}, {\"family\": \"Eunicidae\", \"order\": \"Eunicida\", \"determined_year\": 2013, \"counts\": 27}, {\"family\": \"Eunicidae\", \"order\": \"Eunicida\", \"determined_year\": 2014, \"counts\": 6}, {\"family\": \"Eunicidae\", \"order\": \"Eunicida\", \"determined_year\": 2015, \"counts\": 2}, {\"family\": \"Euphrosinidae\", \"order\": \"Amphinomida\", \"determined_year\": 2002, \"counts\": 1}, {\"family\": \"Euphrosinidae\", \"order\": \"Amphinomida\", \"determined_year\": 2013, \"counts\": 1}, {\"family\": \"Flabelligeridae\", \"order\": \"Terebellida\", \"determined_year\": 2000, \"counts\": 1}, {\"family\": \"Flabelligeridae\", \"order\": \"Terebellida\", \"determined_year\": 2001, \"counts\": 12}, {\"family\": \"Flabelligeridae\", \"order\": \"Terebellida\", \"determined_year\": 2002, \"counts\": 4}, {\"family\": \"Flabelligeridae\", \"order\": \"Terebellida\", \"determined_year\": 2003, \"counts\": 18}, {\"family\": \"Flabelligeridae\", \"order\": \"Terebellida\", \"determined_year\": 2007, \"counts\": 3}, {\"family\": \"Flabelligeridae\", \"order\": \"Terebellida\", \"determined_year\": 2010, \"counts\": 1}, {\"family\": \"Flabelligeridae\", \"order\": \"Terebellida\", \"determined_year\": 2011, \"counts\": 4}, {\"family\": \"Glyceridae\", \"order\": \"Phyllodocida\", \"determined_year\": 1999, \"counts\": 1}, {\"family\": \"Glyceridae\", \"order\": \"Phyllodocida\", \"determined_year\": 2000, \"counts\": 1}, {\"family\": \"Glyceridae\", \"order\": \"Phyllodocida\", \"determined_year\": 2001, \"counts\": 2}, {\"family\": \"Glyceridae\", \"order\": \"Phyllodocida\", \"determined_year\": 2002, \"counts\": 18}, {\"family\": \"Glyceridae\", \"order\": \"Phyllodocida\", \"determined_year\": 2003, \"counts\": 22}, {\"family\": \"Glyceridae\", \"order\": \"Phyllodocida\", \"determined_year\": 2004, \"counts\": 8}, {\"family\": \"Glyceridae\", \"order\": \"Phyllodocida\", \"determined_year\": 2010, \"counts\": 10}, {\"family\": \"Glyceridae\", \"order\": \"Phyllodocida\", \"determined_year\": 2012, \"counts\": 1}, {\"family\": \"Glyceridae\", \"order\": \"Phyllodocida\", \"determined_year\": 2013, \"counts\": 3}, {\"family\": \"Glyceridae\", \"order\": \"Phyllodocida\", \"determined_year\": 2014, \"counts\": 2}, {\"family\": \"Glyceridae\", \"order\": \"Phyllodocida\", \"determined_year\": 2015, \"counts\": 1}, {\"family\": \"Goniadidae\", \"order\": \"Phyllodocida\", \"determined_year\": 1994, \"counts\": 5}, {\"family\": \"Goniadidae\", \"order\": \"Phyllodocida\", \"determined_year\": 2000, \"counts\": 2}, {\"family\": \"Goniadidae\", \"order\": \"Phyllodocida\", \"determined_year\": 2002, \"counts\": 1}, {\"family\": \"Goniadidae\", \"order\": \"Phyllodocida\", \"determined_year\": 2003, \"counts\": 3}, {\"family\": \"Goniadidae\", \"order\": \"Phyllodocida\", \"determined_year\": 2010, \"counts\": 2}, {\"family\": \"Hesionidae\", \"order\": \"Phyllodocida\", \"determined_year\": 2000, \"counts\": 1}, {\"family\": \"Hesionidae\", \"order\": \"Phyllodocida\", \"determined_year\": 2001, \"counts\": 2}, {\"family\": \"Hesionidae\", \"order\": \"Phyllodocida\", \"determined_year\": 2002, \"counts\": 1}, {\"family\": \"Hesionidae\", \"order\": \"Phyllodocida\", \"determined_year\": 2003, \"counts\": 1}, {\"family\": \"Hesionidae\", \"order\": \"Phyllodocida\", \"determined_year\": 2013, \"counts\": 4}, {\"family\": \"Iospilidae\", \"order\": \"Phyllodocida\", \"determined_year\": 2011, \"counts\": 115}, {\"family\": \"Longosomatidae\", \"order\": \"Spionida\", \"determined_year\": 2001, \"counts\": 1}, {\"family\": \"Lopadorrhynchidae\", \"order\": \"Phyllodocida\", \"determined_year\": 2003, \"counts\": 1}, {\"family\": \"Lopadorrhynchidae\", \"order\": \"Phyllodocida\", \"determined_year\": 2011, \"counts\": 74}, {\"family\": \"Lumbrineridae\", \"order\": \"Eunicida\", \"determined_year\": 1994, \"counts\": 6}, {\"family\": \"Lumbrineridae\", \"order\": \"Eunicida\", \"determined_year\": 1999, \"counts\": 1}, {\"family\": \"Lumbrineridae\", \"order\": \"Eunicida\", \"determined_year\": 2000, \"counts\": 3}, {\"family\": \"Lumbrineridae\", \"order\": \"Eunicida\", \"determined_year\": 2001, \"counts\": 18}, {\"family\": \"Lumbrineridae\", \"order\": \"Eunicida\", \"determined_year\": 2002, \"counts\": 7}, {\"family\": \"Lumbrineridae\", \"order\": \"Eunicida\", \"determined_year\": 2003, \"counts\": 19}, {\"family\": \"Lumbrineridae\", \"order\": \"Eunicida\", \"determined_year\": 2005, \"counts\": 1}, {\"family\": \"Lumbrineridae\", \"order\": \"Eunicida\", \"determined_year\": 2007, \"counts\": 3}, {\"family\": \"Lumbrineridae\", \"order\": \"Eunicida\", \"determined_year\": 2009, \"counts\": 1}, {\"family\": \"Lumbrineridae\", \"order\": \"Eunicida\", \"determined_year\": 2010, \"counts\": 2}, {\"family\": \"Lumbrineridae\", \"order\": \"Eunicida\", \"determined_year\": 2012, \"counts\": 1}, {\"family\": \"Lumbrineridae\", \"order\": \"Eunicida\", \"determined_year\": 2013, \"counts\": 8}, {\"family\": \"Lumbrineridae\", \"order\": \"Eunicida\", \"determined_year\": 2014, \"counts\": 3}, {\"family\": \"Magelonidae\", \"order\": \"Spionida\", \"determined_year\": 2000, \"counts\": 2}, {\"family\": \"Magelonidae\", \"order\": \"Spionida\", \"determined_year\": 2001, \"counts\": 4}, {\"family\": \"Magelonidae\", \"order\": \"Spionida\", \"determined_year\": 2002, \"counts\": 1}, {\"family\": \"Magelonidae\", \"order\": \"Spionida\", \"determined_year\": 2010, \"counts\": 6}, {\"family\": \"Maldanidae\", \"order\": \"Scolecida\", \"determined_year\": 2000, \"counts\": 1}, {\"family\": \"Maldanidae\", \"order\": \"Scolecida\", \"determined_year\": 2001, \"counts\": 5}, {\"family\": \"Maldanidae\", \"order\": \"Scolecida\", \"determined_year\": 2002, \"counts\": 5}, {\"family\": \"Maldanidae\", \"order\": \"Scolecida\", \"determined_year\": 2003, \"counts\": 12}, {\"family\": \"Maldanidae\", \"order\": \"Scolecida\", \"determined_year\": 2004, \"counts\": 1}, {\"family\": \"Maldanidae\", \"order\": \"Scolecida\", \"determined_year\": 2007, \"counts\": 6}, {\"family\": \"Maldanidae\", \"order\": \"Scolecida\", \"determined_year\": 2010, \"counts\": 1}, {\"family\": \"Maldanidae\", \"order\": \"Scolecida\", \"determined_year\": 2013, \"counts\": 2}, {\"family\": \"Megascolecidae\", \"order\": \"Crassiclitellata\", \"determined_year\": 2001, \"counts\": 1}, {\"family\": \"Nan\", \"order\": \"Phyllodocida\", \"determined_year\": 2013, \"counts\": 1}, {\"family\": \"Nephtyidae\", \"order\": \"Phyllodocida\", \"determined_year\": 1993, \"counts\": 1}, {\"family\": \"Nephtyidae\", \"order\": \"Phyllodocida\", \"determined_year\": 2000, \"counts\": 1}, {\"family\": \"Nephtyidae\", \"order\": \"Phyllodocida\", \"determined_year\": 2001, \"counts\": 5}, {\"family\": \"Nephtyidae\", \"order\": \"Phyllodocida\", \"determined_year\": 2002, \"counts\": 6}, {\"family\": \"Nephtyidae\", \"order\": \"Phyllodocida\", \"determined_year\": 2007, \"counts\": 2}, {\"family\": \"Nephtyidae\", \"order\": \"Phyllodocida\", \"determined_year\": 2010, \"counts\": 1}, {\"family\": \"Nephtyidae\", \"order\": \"Phyllodocida\", \"determined_year\": 2014, \"counts\": 1}, {\"family\": \"Nereididae\", \"order\": \"Phyllodocida\", \"determined_year\": 1997, \"counts\": 1}, {\"family\": \"Nereididae\", \"order\": \"Phyllodocida\", \"determined_year\": 1999, \"counts\": 1}, {\"family\": \"Nereididae\", \"order\": \"Phyllodocida\", \"determined_year\": 2000, \"counts\": 2}, {\"family\": \"Nereididae\", \"order\": \"Phyllodocida\", \"determined_year\": 2001, \"counts\": 22}, {\"family\": \"Nereididae\", \"order\": \"Phyllodocida\", \"determined_year\": 2002, \"counts\": 38}, {\"family\": \"Nereididae\", \"order\": \"Phyllodocida\", \"determined_year\": 2003, \"counts\": 1}, {\"family\": \"Nereididae\", \"order\": \"Phyllodocida\", \"determined_year\": 2005, \"counts\": 1}, {\"family\": \"Nereididae\", \"order\": \"Phyllodocida\", \"determined_year\": 2008, \"counts\": 3}, {\"family\": \"Nereididae\", \"order\": \"Phyllodocida\", \"determined_year\": 2009, \"counts\": 2}, {\"family\": \"Nereididae\", \"order\": \"Phyllodocida\", \"determined_year\": 2010, \"counts\": 7}, {\"family\": \"Nereididae\", \"order\": \"Phyllodocida\", \"determined_year\": 2011, \"counts\": 4}, {\"family\": \"Nereididae\", \"order\": \"Phyllodocida\", \"determined_year\": 2012, \"counts\": 3}, {\"family\": \"Nereididae\", \"order\": \"Phyllodocida\", \"determined_year\": 2013, \"counts\": 10}, {\"family\": \"Nereididae\", \"order\": \"Phyllodocida\", \"determined_year\": 2014, \"counts\": 3}, {\"family\": \"Oenonidae\", \"order\": \"Eunicida\", \"determined_year\": 2002, \"counts\": 15}, {\"family\": \"Oenonidae\", \"order\": \"Eunicida\", \"determined_year\": 2008, \"counts\": 7}, {\"family\": \"Oenonidae\", \"order\": \"Eunicida\", \"determined_year\": 2010, \"counts\": 1}, {\"family\": \"Oenonidae\", \"order\": \"Eunicida\", \"determined_year\": 2011, \"counts\": 2}, {\"family\": \"Oenonidae\", \"order\": \"Eunicida\", \"determined_year\": 2012, \"counts\": 1}, {\"family\": \"Oenonidae\", \"order\": \"Eunicida\", \"determined_year\": 2013, \"counts\": 4}, {\"family\": \"Onuphidae\", \"order\": \"Eunicida\", \"determined_year\": 2000, \"counts\": 3}, {\"family\": \"Onuphidae\", \"order\": \"Eunicida\", \"determined_year\": 2001, \"counts\": 6}, {\"family\": \"Onuphidae\", \"order\": \"Eunicida\", \"determined_year\": 2002, \"counts\": 7}, {\"family\": \"Onuphidae\", \"order\": \"Eunicida\", \"determined_year\": 2003, \"counts\": 2}, {\"family\": \"Onuphidae\", \"order\": \"Eunicida\", \"determined_year\": 2004, \"counts\": 2}, {\"family\": \"Onuphidae\", \"order\": \"Eunicida\", \"determined_year\": 2010, \"counts\": 2}, {\"family\": \"Onuphidae\", \"order\": \"Eunicida\", \"determined_year\": 2011, \"counts\": 7}, {\"family\": \"Onuphidae\", \"order\": \"Eunicida\", \"determined_year\": 2013, \"counts\": 4}, {\"family\": \"Opheliidae\", \"order\": \"Scolecida\", \"determined_year\": 2000, \"counts\": 2}, {\"family\": \"Opheliidae\", \"order\": \"Scolecida\", \"determined_year\": 2001, \"counts\": 3}, {\"family\": \"Opheliidae\", \"order\": \"Scolecida\", \"determined_year\": 2002, \"counts\": 5}, {\"family\": \"Opheliidae\", \"order\": \"Scolecida\", \"determined_year\": 2007, \"counts\": 7}, {\"family\": \"Opheliidae\", \"order\": \"Scolecida\", \"determined_year\": 2008, \"counts\": 1}, {\"family\": \"Opheliidae\", \"order\": \"Scolecida\", \"determined_year\": 2010, \"counts\": 3}, {\"family\": \"Opheliidae\", \"order\": \"Scolecida\", \"determined_year\": 2011, \"counts\": 1}, {\"family\": \"Orbiniidae\", \"order\": \"Scolecida\", \"determined_year\": 2000, \"counts\": 4}, {\"family\": \"Orbiniidae\", \"order\": \"Scolecida\", \"determined_year\": 2001, \"counts\": 15}, {\"family\": \"Orbiniidae\", \"order\": \"Scolecida\", \"determined_year\": 2002, \"counts\": 4}, {\"family\": \"Orbiniidae\", \"order\": \"Scolecida\", \"determined_year\": 2007, \"counts\": 4}, {\"family\": \"Orbiniidae\", \"order\": \"Scolecida\", \"determined_year\": 2010, \"counts\": 1}, {\"family\": \"Orbiniidae\", \"order\": \"Scolecida\", \"determined_year\": 2013, \"counts\": 1}, {\"family\": \"Oweniidae\", \"order\": \"Sabellida\", \"determined_year\": 2000, \"counts\": 1}, {\"family\": \"Oweniidae\", \"order\": \"Sabellida\", \"determined_year\": 2001, \"counts\": 5}, {\"family\": \"Oweniidae\", \"order\": \"Sabellida\", \"determined_year\": 2002, \"counts\": 1}, {\"family\": \"Paraonidae\", \"order\": \"Scolecida\", \"determined_year\": 2001, \"counts\": 4}, {\"family\": \"Paraonidae\", \"order\": \"Scolecida\", \"determined_year\": 2002, \"counts\": 1}, {\"family\": \"Paraonidae\", \"order\": \"Scolecida\", \"determined_year\": 2007, \"counts\": 6}, {\"family\": \"Paraonidae\", \"order\": \"Scolecida\", \"determined_year\": 2010, \"counts\": 12}, {\"family\": \"Pectinariidae\", \"order\": \"Terebellida\", \"determined_year\": 1994, \"counts\": 4}, {\"family\": \"Pectinariidae\", \"order\": \"Terebellida\", \"determined_year\": 1998, \"counts\": 1}, {\"family\": \"Pectinariidae\", \"order\": \"Terebellida\", \"determined_year\": 2000, \"counts\": 2}, {\"family\": \"Pectinariidae\", \"order\": \"Terebellida\", \"determined_year\": 2001, \"counts\": 4}, {\"family\": \"Pectinariidae\", \"order\": \"Terebellida\", \"determined_year\": 2013, \"counts\": 1}, {\"family\": \"Pholoidae\", \"order\": \"Phyllodocida\", \"determined_year\": 1994, \"counts\": 4}, {\"family\": \"Pholoidae\", \"order\": \"Phyllodocida\", \"determined_year\": 2003, \"counts\": 7}, {\"family\": \"Pholoidae\", \"order\": \"Phyllodocida\", \"determined_year\": 2008, \"counts\": 1}, {\"family\": \"Phyllodocidae\", \"order\": \"Phyllodocida\", \"determined_year\": 2000, \"counts\": 3}, {\"family\": \"Phyllodocidae\", \"order\": \"Phyllodocida\", \"determined_year\": 2001, \"counts\": 5}, {\"family\": \"Phyllodocidae\", \"order\": \"Phyllodocida\", \"determined_year\": 2002, \"counts\": 35}, {\"family\": \"Phyllodocidae\", \"order\": \"Phyllodocida\", \"determined_year\": 2004, \"counts\": 1}, {\"family\": \"Phyllodocidae\", \"order\": \"Phyllodocida\", \"determined_year\": 2007, \"counts\": 1}, {\"family\": \"Phyllodocidae\", \"order\": \"Phyllodocida\", \"determined_year\": 2010, \"counts\": 3}, {\"family\": \"Phyllodocidae\", \"order\": \"Phyllodocida\", \"determined_year\": 2011, \"counts\": 2}, {\"family\": \"Phyllodocidae\", \"order\": \"Phyllodocida\", \"determined_year\": 2012, \"counts\": 1}, {\"family\": \"Phyllodocidae\", \"order\": \"Phyllodocida\", \"determined_year\": 2013, \"counts\": 4}, {\"family\": \"Pilargidae\", \"order\": \"Phyllodocida\", \"determined_year\": 1994, \"counts\": 5}, {\"family\": \"Pilargidae\", \"order\": \"Phyllodocida\", \"determined_year\": 2000, \"counts\": 3}, {\"family\": \"Pilargidae\", \"order\": \"Phyllodocida\", \"determined_year\": 2001, \"counts\": 3}, {\"family\": \"Pilargidae\", \"order\": \"Phyllodocida\", \"determined_year\": 2002, \"counts\": 4}, {\"family\": \"Poecilochaetidae\", \"order\": \"Sabellida\", \"determined_year\": 2003, \"counts\": 1}, {\"family\": \"Poecilochaetidae\", \"order\": \"Spionida\", \"determined_year\": 2001, \"counts\": 3}, {\"family\": \"Poecilochaetidae\", \"order\": \"Spionida\", \"determined_year\": 2002, \"counts\": 1}, {\"family\": \"Poecilochaetidae\", \"order\": \"Spionida\", \"determined_year\": 2003, \"counts\": 1}, {\"family\": \"Poecilochaetidae\", \"order\": \"Spionida\", \"determined_year\": 2010, \"counts\": 1}, {\"family\": \"Poecilochaetidae\", \"order\": \"Spionida\", \"determined_year\": 2013, \"counts\": 1}, {\"family\": \"Polynoidae\", \"order\": \"Phyllodocida\", \"determined_year\": 2000, \"counts\": 2}, {\"family\": \"Polynoidae\", \"order\": \"Phyllodocida\", \"determined_year\": 2001, \"counts\": 8}, {\"family\": \"Polynoidae\", \"order\": \"Phyllodocida\", \"determined_year\": 2002, \"counts\": 24}, {\"family\": \"Polynoidae\", \"order\": \"Phyllodocida\", \"determined_year\": 2003, \"counts\": 1}, {\"family\": \"Polynoidae\", \"order\": \"Phyllodocida\", \"determined_year\": 2004, \"counts\": 1}, {\"family\": \"Polynoidae\", \"order\": \"Phyllodocida\", \"determined_year\": 2005, \"counts\": 1}, {\"family\": \"Polynoidae\", \"order\": \"Phyllodocida\", \"determined_year\": 2007, \"counts\": 4}, {\"family\": \"Polynoidae\", \"order\": \"Phyllodocida\", \"determined_year\": 2009, \"counts\": 5}, {\"family\": \"Polynoidae\", \"order\": \"Phyllodocida\", \"determined_year\": 2010, \"counts\": 1}, {\"family\": \"Polynoidae\", \"order\": \"Phyllodocida\", \"determined_year\": 2011, \"counts\": 31}, {\"family\": \"Polynoidae\", \"order\": \"Phyllodocida\", \"determined_year\": 2012, \"counts\": 39}, {\"family\": \"Polynoidae\", \"order\": \"Phyllodocida\", \"determined_year\": 2013, \"counts\": 2}, {\"family\": \"Polynoidae\", \"order\": \"Phyllodocida\", \"determined_year\": 2014, \"counts\": 1}, {\"family\": \"Pontodoridae\", \"order\": \"Phyllodocida\", \"determined_year\": 2011, \"counts\": 1}, {\"family\": \"Sabellariidae\", \"order\": \"Sabellida\", \"determined_year\": 2008, \"counts\": 2}, {\"family\": \"Sabellariidae\", \"order\": \"Sabellida\", \"determined_year\": 2012, \"counts\": 6}, {\"family\": \"Sabellariidae\", \"order\": \"Sabellida\", \"determined_year\": 2013, \"counts\": 74}, {\"family\": \"Sabellariidae\", \"order\": \"Sabellida\", \"determined_year\": 2014, \"counts\": 127}, {\"family\": \"Sabellidae\", \"order\": \"Sabellida\", \"determined_year\": 2000, \"counts\": 5}, {\"family\": \"Sabellidae\", \"order\": \"Sabellida\", \"determined_year\": 2001, \"counts\": 2}, {\"family\": \"Sabellidae\", \"order\": \"Sabellida\", \"determined_year\": 2003, \"counts\": 19}, {\"family\": \"Sabellidae\", \"order\": \"Sabellida\", \"determined_year\": 2004, \"counts\": 3}, {\"family\": \"Sabellidae\", \"order\": \"Sabellida\", \"determined_year\": 2005, \"counts\": 1}, {\"family\": \"Sabellidae\", \"order\": \"Sabellida\", \"determined_year\": 2007, \"counts\": 2}, {\"family\": \"Sabellidae\", \"order\": \"Sabellida\", \"determined_year\": 2008, \"counts\": 133}, {\"family\": \"Sabellidae\", \"order\": \"Sabellida\", \"determined_year\": 2009, \"counts\": 1}, {\"family\": \"Sabellidae\", \"order\": \"Sabellida\", \"determined_year\": 2010, \"counts\": 54}, {\"family\": \"Sabellidae\", \"order\": \"Sabellida\", \"determined_year\": 2011, \"counts\": 1}, {\"family\": \"Sabellidae\", \"order\": \"Sabellida\", \"determined_year\": 2012, \"counts\": 1}, {\"family\": \"Sabellidae\", \"order\": \"Sabellida\", \"determined_year\": 2013, \"counts\": 2}, {\"family\": \"Sabellidae\", \"order\": \"Sabellida\", \"determined_year\": 2014, \"counts\": 1}, {\"family\": \"Scalibregmatidae\", \"order\": \"Scolecida\", \"determined_year\": 2003, \"counts\": 3}, {\"family\": \"Scalibregmatidae\", \"order\": \"Scolecida\", \"determined_year\": 2007, \"counts\": 2}, {\"family\": \"Serpulidae\", \"order\": \"Phyllodocida\", \"determined_year\": 2012, \"counts\": 1}, {\"family\": \"Serpulidae\", \"order\": \"Sabellida\", \"determined_year\": 1998, \"counts\": 1}, {\"family\": \"Serpulidae\", \"order\": \"Sabellida\", \"determined_year\": 1999, \"counts\": 1}, {\"family\": \"Serpulidae\", \"order\": \"Sabellida\", \"determined_year\": 2000, \"counts\": 1}, {\"family\": \"Serpulidae\", \"order\": \"Sabellida\", \"determined_year\": 2001, \"counts\": 2}, {\"family\": \"Serpulidae\", \"order\": \"Sabellida\", \"determined_year\": 2002, \"counts\": 8}, {\"family\": \"Serpulidae\", \"order\": \"Sabellida\", \"determined_year\": 2005, \"counts\": 1}, {\"family\": \"Serpulidae\", \"order\": \"Sabellida\", \"determined_year\": 2009, \"counts\": 2}, {\"family\": \"Serpulidae\", \"order\": \"Sabellida\", \"determined_year\": 2010, \"counts\": 1}, {\"family\": \"Serpulidae\", \"order\": \"Sabellida\", \"determined_year\": 2011, \"counts\": 4}, {\"family\": \"Serpulidae\", \"order\": \"Sabellida\", \"determined_year\": 2012, \"counts\": 1}, {\"family\": \"Serpulidae\", \"order\": \"Sabellida\", \"determined_year\": 2013, \"counts\": 2}, {\"family\": \"Sigalionidae\", \"order\": \"Eunicida\", \"determined_year\": 2003, \"counts\": 1}, {\"family\": \"Sigalionidae\", \"order\": \"Phyllodocida\", \"determined_year\": 2000, \"counts\": 1}, {\"family\": \"Sigalionidae\", \"order\": \"Phyllodocida\", \"determined_year\": 2001, \"counts\": 9}, {\"family\": \"Sigalionidae\", \"order\": \"Phyllodocida\", \"determined_year\": 2002, \"counts\": 1}, {\"family\": \"Sigalionidae\", \"order\": \"Phyllodocida\", \"determined_year\": 2003, \"counts\": 4}, {\"family\": \"Sigalionidae\", \"order\": \"Phyllodocida\", \"determined_year\": 2004, \"counts\": 1}, {\"family\": \"Sigalionidae\", \"order\": \"Phyllodocida\", \"determined_year\": 2010, \"counts\": 1}, {\"family\": \"Sigalionidae\", \"order\": \"Phyllodocida\", \"determined_year\": 2011, \"counts\": 5}, {\"family\": \"Sigalionidae\", \"order\": \"Phyllodocida\", \"determined_year\": 2012, \"counts\": 2}, {\"family\": \"Sigalionidae\", \"order\": \"Phyllodocida\", \"determined_year\": 2015, \"counts\": 1}, {\"family\": \"Sipunculidae\", \"order\": \"Sipuncula\", \"determined_year\": 2010, \"counts\": 2}, {\"family\": \"Sphaerodoridae\", \"order\": \"Phyllodocida\", \"determined_year\": 2007, \"counts\": 2}, {\"family\": \"Spionidae\", \"order\": \"Spionida\", \"determined_year\": 2001, \"counts\": 1}, {\"family\": \"Spionidae\", \"order\": \"Spionida\", \"determined_year\": 2002, \"counts\": 2}, {\"family\": \"Spionidae\", \"order\": \"Spionida\", \"determined_year\": 2003, \"counts\": 54}, {\"family\": \"Spionidae\", \"order\": \"Spionida\", \"determined_year\": 2004, \"counts\": 1}, {\"family\": \"Spionidae\", \"order\": \"Spionida\", \"determined_year\": 2005, \"counts\": 1}, {\"family\": \"Spionidae\", \"order\": \"Spionida\", \"determined_year\": 2008, \"counts\": 4}, {\"family\": \"Spionidae\", \"order\": \"Spionida\", \"determined_year\": 2009, \"counts\": 8}, {\"family\": \"Spionidae\", \"order\": \"Spionida\", \"determined_year\": 2010, \"counts\": 9}, {\"family\": \"Spionidae\", \"order\": \"Spionida\", \"determined_year\": 2011, \"counts\": 2}, {\"family\": \"Spionidae\", \"order\": \"Spionida\", \"determined_year\": 2013, \"counts\": 3}, {\"family\": \"Spionidae\", \"order\": \"Spionida\", \"determined_year\": 2015, \"counts\": 2}, {\"family\": \"Sternaspidae\", \"order\": \"Terebellida\", \"determined_year\": 2000, \"counts\": 1}, {\"family\": \"Sternaspidae\", \"order\": \"Terebellida\", \"determined_year\": 2001, \"counts\": 1}, {\"family\": \"Sternaspidae\", \"order\": \"Terebellida\", \"determined_year\": 2002, \"counts\": 2}, {\"family\": \"Sternaspidae\", \"order\": \"Terebellida\", \"determined_year\": 2003, \"counts\": 7}, {\"family\": \"Sternaspidae\", \"order\": \"Terebellida\", \"determined_year\": 2007, \"counts\": 1}, {\"family\": \"Sternaspidae\", \"order\": \"Terebellida\", \"determined_year\": 2008, \"counts\": 29}, {\"family\": \"Syllidae\", \"order\": \"Eunicida\", \"determined_year\": 2013, \"counts\": 2}, {\"family\": \"Syllidae\", \"order\": \"Eunicida\", \"determined_year\": 2014, \"counts\": 3}, {\"family\": \"Syllidae\", \"order\": \"Phyllodocida\", \"determined_year\": 2000, \"counts\": 3}, {\"family\": \"Syllidae\", \"order\": \"Phyllodocida\", \"determined_year\": 2001, \"counts\": 8}, {\"family\": \"Syllidae\", \"order\": \"Phyllodocida\", \"determined_year\": 2002, \"counts\": 18}, {\"family\": \"Syllidae\", \"order\": \"Phyllodocida\", \"determined_year\": 2003, \"counts\": 1}, {\"family\": \"Syllidae\", \"order\": \"Phyllodocida\", \"determined_year\": 2005, \"counts\": 1}, {\"family\": \"Syllidae\", \"order\": \"Phyllodocida\", \"determined_year\": 2007, \"counts\": 4}, {\"family\": \"Syllidae\", \"order\": \"Phyllodocida\", \"determined_year\": 2008, \"counts\": 1}, {\"family\": \"Syllidae\", \"order\": \"Phyllodocida\", \"determined_year\": 2009, \"counts\": 2}, {\"family\": \"Syllidae\", \"order\": \"Phyllodocida\", \"determined_year\": 2010, \"counts\": 16}, {\"family\": \"Syllidae\", \"order\": \"Phyllodocida\", \"determined_year\": 2011, \"counts\": 22}, {\"family\": \"Syllidae\", \"order\": \"Phyllodocida\", \"determined_year\": 2012, \"counts\": 1}, {\"family\": \"Syllidae\", \"order\": \"Phyllodocida\", \"determined_year\": 2013, \"counts\": 6}, {\"family\": \"Syllidae\", \"order\": \"Phyllodocida\", \"determined_year\": 2014, \"counts\": 1}, {\"family\": \"Terebellidae\", \"order\": \"Terebellida\", \"determined_year\": 2000, \"counts\": 1}, {\"family\": \"Terebellidae\", \"order\": \"Terebellida\", \"determined_year\": 2001, \"counts\": 2}, {\"family\": \"Terebellidae\", \"order\": \"Terebellida\", \"determined_year\": 2002, \"counts\": 2}, {\"family\": \"Terebellidae\", \"order\": \"Terebellida\", \"determined_year\": 2003, \"counts\": 7}, {\"family\": \"Terebellidae\", \"order\": \"Terebellida\", \"determined_year\": 2004, \"counts\": 2}, {\"family\": \"Terebellidae\", \"order\": \"Terebellida\", \"determined_year\": 2007, \"counts\": 2}, {\"family\": \"Terebellidae\", \"order\": \"Terebellida\", \"determined_year\": 2009, \"counts\": 2}, {\"family\": \"Terebellidae\", \"order\": \"Terebellida\", \"determined_year\": 2010, \"counts\": 1}, {\"family\": \"Terebellidae\", \"order\": \"Terebellida\", \"determined_year\": 2013, \"counts\": 5}, {\"family\": \"Terebellidae\", \"order\": \"Terebellida\", \"determined_year\": 2014, \"counts\": 1}, {\"family\": \"Terebellidae\", \"order\": \"Terebellida\", \"determined_year\": 2015, \"counts\": 1}, {\"family\": \"Tomopteridae\", \"order\": \"Phyllodocida\", \"determined_year\": 2011, \"counts\": 171}, {\"family\": \"Trichobranchidae\", \"order\": \"Terebellida\", \"determined_year\": 2000, \"counts\": 1}, {\"family\": \"Trichobranchidae\", \"order\": \"Terebellida\", \"determined_year\": 2001, \"counts\": 20}, {\"family\": \"Trichobranchidae\", \"order\": \"Terebellida\", \"determined_year\": 2007, \"counts\": 1}, {\"family\": \"Trichobranchidae\", \"order\": \"Terebellida\", \"determined_year\": 2013, \"counts\": 1}, {\"family\": \"Typhloscolecidae\", \"order\": \"Phyllodocida\", \"determined_year\": 2011, \"counts\": 239}]}}, {\"mode\": \"vega-lite\"});\n",
       "</script>"
      ],
      "text/plain": [
       "alt.Chart(...)"
      ]
     },
     "execution_count": 31,
     "metadata": {},
     "output_type": "execute_result"
    }
   ],
   "source": [
    "g1 = alt.Chart(teste,\n",
    "               width=500, height=500, title='Number of collected animals of each family per year').mark_circle(\n",
    "                                                                                size=60).encode(\n",
    "    x= alt.X('determined_year', type='ordinal', title='Determined Year'),\n",
    "    y= alt.Y('family', type='nominal', title='Family',\n",
    "            sort= alt.EncodingSortField(field='counts', op='sum', order='descending')),\n",
    "    size= alt.Size('counts', title='Count'),\n",
    "    color = alt.Color('order', scale= alt.Scale(domain=ordens, range=cores)),\n",
    "    tooltip = alt.Tooltip(['family', 'determined_year', 'counts'])\n",
    ")\n",
    "\n",
    "g1.save('./graphs/familias_por_ano_c_ordem.html')\n",
    "\n",
    "g1"
   ]
  },
  {
   "cell_type": "markdown",
   "metadata": {},
   "source": [
    "<br>\n",
    "\n",
    "### Dynamic version\n",
    "\n",
    "<font color='red' size='4'>**p.s.:** Still needs more adjustments </font>"
   ]
  },
  {
   "cell_type": "code",
   "execution_count": 20,
   "metadata": {
    "ExecuteTime": {
     "end_time": "2020-08-01T20:46:08.333819Z",
     "start_time": "2020-08-01T20:46:08.324097Z"
    }
   },
   "outputs": [],
   "source": [
    "# # dynamic version\n",
    "# slider = alt.binding_range(min=1900, max=2016, step=1)\n",
    "# select_year = alt.selection_single(name=\"ano_coleta\", fields=['ano_coleta'],\n",
    "#                                    bind=slider, init={'ano_coleta': 2000})\n",
    "\n",
    "# # gráfico transparente no background (para fixar eixos)\n",
    "# g0 = alt.Chart(teste,\n",
    "#                width=800, height=400).mark_circle(\n",
    "#                                                                                 size=60, opacity=0).encode(\n",
    "#     x= alt.X('familia', type='nominal', title='Familia'),\n",
    "#     y= alt.Y('ordem', type='nominal', title='Ordem',\n",
    "#             sort= alt.EncodingSortField(field='counts', op='count', order='descending')),\n",
    "# )\n",
    "\n",
    "\n",
    "# g1 = alt.Chart(teste,\n",
    "#                width=800, height=400, title='Qtde. de animais por família e ordem').mark_circle(\n",
    "#                                                                                 size=60).encode(\n",
    "#     x= alt.X('familia', type='nominal', title='Familia'),\n",
    "#     y= alt.Y('ordem', type='nominal', title='Ordem',\n",
    "#             sort= alt.EncodingSortField(field='counts', op='count', order='descending')),\n",
    "#     size= alt.Size('counts', title='Contagem'),\n",
    "#     color = alt.Color('ordem', scale= alt.Scale(domain=ordens, range=cores)),\n",
    "#     tooltip=alt.Tooltip(['familia','ordem','ano_coleta','counts','ordem'])\n",
    "# ).add_selection(\n",
    "#     select_year\n",
    "# ).transform_filter(\n",
    "#     select_year\n",
    "# )\n",
    "\n",
    "# g1 = alt.layer(g0, g1)\n",
    "\n",
    "# # saving graph\n",
    "# # g1.save('./graphs/familias_por_ano_c_ordem-dinamico.html')\n",
    "\n",
    "# # g1"
   ]
  },
  {
   "cell_type": "markdown",
   "metadata": {},
   "source": [
    "<br>\n",
    "\n",
    "**The end!**\n",
    "\n",
    "-----"
   ]
  }
 ],
 "metadata": {
  "kernelspec": {
   "display_name": "Python 3",
   "language": "python",
   "name": "python3"
  },
  "language_info": {
   "codemirror_mode": {
    "name": "ipython",
    "version": 3
   },
   "file_extension": ".py",
   "mimetype": "text/x-python",
   "name": "python",
   "nbconvert_exporter": "python",
   "pygments_lexer": "ipython3",
   "version": "3.8.2"
  },
  "latex_envs": {
   "LaTeX_envs_menu_present": true,
   "autoclose": false,
   "autocomplete": true,
   "bibliofile": "biblio.bib",
   "cite_by": "apalike",
   "current_citInitial": 1,
   "eqLabelWithNumbers": true,
   "eqNumInitial": 1,
   "hotkeys": {
    "equation": "Ctrl-E",
    "itemize": "Ctrl-I"
   },
   "labels_anchors": false,
   "latex_user_defs": false,
   "report_style_numbering": false,
   "user_envs_cfg": false
  },
  "toc": {
   "base_numbering": 1,
   "nav_menu": {},
   "number_sections": false,
   "sideBar": true,
   "skip_h1_title": false,
   "title_cell": "Table of Contents",
   "title_sidebar": "Contents",
   "toc_cell": false,
   "toc_position": {},
   "toc_section_display": true,
   "toc_window_display": false
  },
  "varInspector": {
   "cols": {
    "lenName": 16,
    "lenType": 16,
    "lenVar": 40
   },
   "kernels_config": {
    "python": {
     "delete_cmd_postfix": "",
     "delete_cmd_prefix": "del ",
     "library": "var_list.py",
     "varRefreshCmd": "print(var_dic_list())"
    },
    "r": {
     "delete_cmd_postfix": ") ",
     "delete_cmd_prefix": "rm(",
     "library": "var_list.r",
     "varRefreshCmd": "cat(var_dic_list()) "
    }
   },
   "position": {
    "height": "391.35px",
    "left": "900.5px",
    "right": "20px",
    "top": "96px",
    "width": "536.5px"
   },
   "types_to_exclude": [
    "module",
    "function",
    "builtin_function_or_method",
    "instance",
    "_Feature"
   ],
   "window_display": false
  }
 },
 "nbformat": 4,
 "nbformat_minor": 2
}
