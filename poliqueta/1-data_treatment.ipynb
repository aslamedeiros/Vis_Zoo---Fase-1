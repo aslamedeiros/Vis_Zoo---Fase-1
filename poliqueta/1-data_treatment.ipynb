{
 "cells": [
  {
   "cell_type": "markdown",
   "metadata": {},
   "source": [
    "# Data Treatment (Poliqueta Database)\n",
    "\n",
    "In this notebook I'm doing all the data treatments and adjustments necessary to produce high quality visualizations. \n",
    "\n",
    "This notebook has an output <font color='blue'>treated_db.csv</font> with a subset of the original database properly treated.\n",
    "\n",
    "-----\n",
    "\n",
    "Specifically, for the `poliqueta` database, the files we'll read are <font color='blue'>IBUFRJ27.07.2020 - visualização.xlsx</font> and <font color='blue'>MNRJP27.07.2020 - visualização.xls</font>.\n",
    "\n",
    "\n",
    "-----\n",
    "\n",
    "<br>\n",
    "\n",
    "# IBUFRJ27.07.2020 - visualização.xlsx"
   ]
  },
  {
   "cell_type": "markdown",
   "metadata": {},
   "source": [
    "## Imports"
   ]
  },
  {
   "cell_type": "code",
   "execution_count": 71,
   "metadata": {
    "ExecuteTime": {
     "end_time": "2021-10-27T00:15:34.357835Z",
     "start_time": "2021-10-27T00:15:34.354441Z"
    }
   },
   "outputs": [],
   "source": [
    "import datetime\n",
    "import unidecode\n",
    "import numpy as np\n",
    "import pandas as pd\n",
    "\n",
    "from collections import defaultdict\n",
    "\n",
    "# quick visualizations for data analytics\n",
    "import seaborn as sns\n",
    "import matplotlib.pyplot as plt\n",
    "\n",
    "# proprietary functions in ./src/MNViz.py\n",
    "from src.MNViz import *"
   ]
  },
  {
   "cell_type": "markdown",
   "metadata": {},
   "source": [
    "## Importing data"
   ]
  },
  {
   "cell_type": "code",
   "execution_count": 72,
   "metadata": {
    "ExecuteTime": {
     "end_time": "2021-10-27T00:15:34.650863Z",
     "start_time": "2021-10-27T00:15:34.362056Z"
    }
   },
   "outputs": [
    {
     "name": "stdout",
     "output_type": "stream",
     "text": [
      "The excel file contains the following sheets: ['Planilha1']\n",
      "\n",
      "Database is in sheet: Planilha1\n"
     ]
    }
   ],
   "source": [
    "excel = pd.ExcelFile('./data/IBUFRJ2021.10.11 - visualização.xlsx')\n",
    "sheet_name = excel.sheet_names\n",
    "\n",
    "print('The excel file contains the following sheets:', sheet_name)\n",
    "print('\\nDatabase is in sheet:', sheet_name[0])"
   ]
  },
  {
   "cell_type": "code",
   "execution_count": 73,
   "metadata": {
    "ExecuteTime": {
     "end_time": "2021-10-27T00:15:39.786240Z",
     "start_time": "2021-10-27T00:15:34.652698Z"
    }
   },
   "outputs": [
    {
     "name": "stdout",
     "output_type": "stream",
     "text": [
      "The database has 4220 rows and 92 columns.\n"
     ]
    }
   ],
   "source": [
    "db = excel.parse(sheet_name[0], sep=';', encoding='utf-8-sig')\n",
    "poliqueta = db.copy()\n",
    "\n",
    "print(f'The database has {db.shape[0]} rows and {db.shape[1]} columns.')"
   ]
  },
  {
   "cell_type": "markdown",
   "metadata": {},
   "source": [
    "## Adjusting column names\n",
    "\n",
    "### removing '\\n', '\\t', and other special characters"
   ]
  },
  {
   "cell_type": "code",
   "execution_count": 74,
   "metadata": {
    "ExecuteTime": {
     "end_time": "2021-10-27T00:15:39.791741Z",
     "start_time": "2021-10-27T00:15:39.788628Z"
    }
   },
   "outputs": [],
   "source": [
    "poliqueta.columns = [str(col).replace(r'\\n','') for col in poliqueta.columns]"
   ]
  },
  {
   "cell_type": "markdown",
   "metadata": {
    "ExecuteTime": {
     "end_time": "2020-07-29T18:51:12.632272Z",
     "start_time": "2020-07-29T18:51:12.627636Z"
    }
   },
   "source": [
    "## Adjusting Determiners and Collectors Names"
   ]
  },
  {
   "cell_type": "markdown",
   "metadata": {},
   "source": [
    "<font color='red' size='5'>**p.s.:** Determiner Last Name 1 contains the FULL name of the Researcher </font>\n",
    "\n",
    "Determiner Last Name 2 is all empty."
   ]
  },
  {
   "cell_type": "code",
   "execution_count": 75,
   "metadata": {
    "ExecuteTime": {
     "end_time": "2021-10-27T00:15:39.938247Z",
     "start_time": "2021-10-27T00:15:39.793561Z"
    }
   },
   "outputs": [],
   "source": [
    "names_col = ['Collector Last Name 1', 'Collector First Name 1', \n",
    "             'Collector Last Name 2', 'Collector First Name 2', 'Collector Last Name 3', \n",
    "             'Collector First Name 3', 'Collector Last Name 4', 'Collector First Name 4']"
   ]
  },
  {
   "cell_type": "code",
   "execution_count": 76,
   "metadata": {
    "ExecuteTime": {
     "end_time": "2021-10-27T00:15:40.066118Z",
     "start_time": "2021-10-27T00:15:39.939834Z"
    }
   },
   "outputs": [],
   "source": [
    "# for name_col in names_col:\n",
    "#     if 'last' in name_col.lower():\n",
    "#         poliqueta[name_col] = poliqueta[name_col].apply(lambda x: treat_names(x, pos='full'))\n",
    "#     else:\n",
    "#         poliqueta[name_col] = poliqueta[name_col].apply(treat_names)\n",
    "\n",
    "for name_col in names_col:\n",
    "    poliqueta[name_col] = poliqueta[name_col].fillna('')\n",
    "    poliqueta[name_col] = poliqueta[name_col].apply(lambda x: treat_names(x, pos='full'))"
   ]
  },
  {
   "cell_type": "code",
   "execution_count": 77,
   "metadata": {
    "ExecuteTime": {
     "end_time": "2021-10-27T00:15:40.073280Z",
     "start_time": "2021-10-27T00:15:40.067962Z"
    }
   },
   "outputs": [],
   "source": [
    "def getFirstName(name, sep=';'):\n",
    "    name = str(name).split(sep)\n",
    "    if len(name) > 1:\n",
    "        return name[0].strip()\n",
    "    elif name[0] == 'nan':\n",
    "        return np.NAN\n",
    "    else:\n",
    "        return name[0].strip()\n",
    "    \n",
    "def getName(name, pos=0, sep=';'):\n",
    "    list_names = str(name).split(sep)\n",
    "    size = len(list_names)\n",
    "    if pos == 0:\n",
    "        return getFirstName(name, sep=sep)\n",
    "    elif pos == -1:\n",
    "        return list_names[pos]\n",
    "    elif size <= pos:\n",
    "        return np.NAN\n",
    "    else:\n",
    "        return list_names[pos].strip()"
   ]
  },
  {
   "cell_type": "code",
   "execution_count": 78,
   "metadata": {
    "ExecuteTime": {
     "end_time": "2021-10-27T00:15:40.242547Z",
     "start_time": "2021-10-27T00:15:40.075271Z"
    }
   },
   "outputs": [],
   "source": [
    "# there's more than one determiner in thar column, so I'm getting only the first one\n",
    "poliqueta['determiner_full_name'] = poliqueta['Determiner Last Name 1'].apply(getFirstName)\n",
    "poliqueta['determiner_full_name1'] = poliqueta['Determiner Last Name 1'].apply(lambda x: getName(x,pos=1))\n",
    "poliqueta['determiner_full_name2'] = poliqueta['Determiner Last Name 1'].apply(lambda x: getName(x,pos=2))"
   ]
  },
  {
   "cell_type": "markdown",
   "metadata": {},
   "source": [
    "### creating column joining First and Last names\n",
    "\n",
    "I'm doing this only for the first collectors and determiners"
   ]
  },
  {
   "cell_type": "code",
   "execution_count": 79,
   "metadata": {
    "ExecuteTime": {
     "end_time": "2021-10-27T00:15:40.305140Z",
     "start_time": "2021-10-27T00:15:40.245434Z"
    }
   },
   "outputs": [],
   "source": [
    "# repteis['DeterminatorFirst_and_LastName'] = repteis['DeterminatorFirstName1'] + ' ' + repteis['DeterminatorLastName1']\n",
    "\n",
    "poliqueta['CollectorFirst_and_LastName'] = poliqueta['Collector First Name 1'] + ' ' + poliqueta['Collector Last Name 1']\n",
    "poliqueta['CollectorFirst_and_LastName2'] = poliqueta['Collector First Name 2'] + ' ' + poliqueta['Collector Last Name 2']\n",
    "poliqueta['CollectorFirst_and_LastName3'] = poliqueta['Collector First Name 3'] + ' ' + poliqueta['Collector Last Name 3']\n",
    "poliqueta['CollectorFirst_and_LastName4'] = poliqueta['Collector First Name 4'] + ' ' + poliqueta['Collector Last Name 4']"
   ]
  },
  {
   "cell_type": "code",
   "execution_count": 80,
   "metadata": {
    "ExecuteTime": {
     "end_time": "2021-10-27T00:15:40.352912Z",
     "start_time": "2021-10-27T00:15:40.307122Z"
    }
   },
   "outputs": [],
   "source": [
    "for col in ['CollectorFirst_and_LastName', 'CollectorFirst_and_LastName2', \n",
    "            'CollectorFirst_and_LastName3', 'CollectorFirst_and_LastName4']:\n",
    "    poliqueta[col] = poliqueta[col].apply(lambda x: x if str(x) != ' ' else 'Non-identified')"
   ]
  },
  {
   "cell_type": "markdown",
   "metadata": {},
   "source": [
    "## Treating taxon columns"
   ]
  },
  {
   "cell_type": "code",
   "execution_count": 81,
   "metadata": {
    "ExecuteTime": {
     "end_time": "2021-10-27T00:15:40.460561Z",
     "start_time": "2021-10-27T00:15:40.355098Z"
    }
   },
   "outputs": [
    {
     "name": "stdout",
     "output_type": "stream",
     "text": [
      "Adjusting column Kingdom\n",
      "Adjusting column Phylum 1\n",
      "Adjusting column Class 1\n",
      "Adjusting column Order 1\n",
      "Adjusting column Family 1\n",
      "Adjusting column Genus 1\n",
      "Adjusting column Species 1\n"
     ]
    }
   ],
   "source": [
    "taxon_columns = ['Kingdom', 'Phylum 1', 'Class 1', 'Order 1', 'Family 1', 'Genus 1',\n",
    "                 'Species 1']  # selecting taxonomy columns\n",
    "\n",
    "treat_taxon_columns(poliqueta, taxon_columns)"
   ]
  },
  {
   "cell_type": "code",
   "execution_count": 82,
   "metadata": {
    "ExecuteTime": {
     "end_time": "2021-10-27T00:15:40.516243Z",
     "start_time": "2021-10-27T00:15:40.462827Z"
    }
   },
   "outputs": [],
   "source": [
    "for col in taxon_columns:\n",
    "    poliqueta[col] = poliqueta[col].fillna('Non-identified')\n",
    "    poliqueta[col] = poliqueta[col].astype(str)\n",
    "    poliqueta[col] = poliqueta[col].apply(lambda x: x if str(x).lower() != 'nan' else 'Non-identified')"
   ]
  },
  {
   "cell_type": "markdown",
   "metadata": {},
   "source": [
    "## Adjusting Genus and Species"
   ]
  },
  {
   "cell_type": "code",
   "execution_count": 83,
   "metadata": {
    "ExecuteTime": {
     "end_time": "2021-10-27T00:15:40.573231Z",
     "start_time": "2021-10-27T00:15:40.518559Z"
    }
   },
   "outputs": [],
   "source": [
    "# dica da Manoela: epiteto especifico deve ser todo minusculo (especie e subespecie, nesse caso)\n",
    "poliqueta['Species 1'] = poliqueta['Species 1'].str.lower()\n",
    "\n",
    "# genero é escrito com primeira letra maiúscula\n",
    "poliqueta['Genus 1'] = poliqueta['Genus 1'].str.lower().str.capitalize()"
   ]
  },
  {
   "cell_type": "markdown",
   "metadata": {
    "ExecuteTime": {
     "end_time": "2020-08-01T16:38:50.984971Z",
     "start_time": "2020-08-01T16:38:50.966700Z"
    }
   },
   "source": [
    "<br>\n",
    "\n",
    "## adding `Genero` and `Especie`together (they completely identify each animal's species)"
   ]
  },
  {
   "cell_type": "code",
   "execution_count": 84,
   "metadata": {
    "ExecuteTime": {
     "end_time": "2021-10-27T00:15:40.651964Z",
     "start_time": "2021-10-27T00:15:40.575302Z"
    }
   },
   "outputs": [],
   "source": [
    "poliqueta['genus_and_species'] = poliqueta['Genus 1'] + ' ' + poliqueta['Species 1']\n",
    "\n",
    "poliqueta['genus_and_species'] = poliqueta['genus_and_species'].str.lower().str.capitalize()"
   ]
  },
  {
   "cell_type": "markdown",
   "metadata": {},
   "source": [
    "## Catching Month and Year"
   ]
  },
  {
   "cell_type": "markdown",
   "metadata": {},
   "source": [
    "date_columns= ['Cataloged Date','Return Date','Determined date 1', 'Start Date]\n",
    "\n",
    "format: YYYY-mm-dd\n",
    "\n",
    "<font color='red'>Return Date is empty<font>"
   ]
  },
  {
   "cell_type": "code",
   "execution_count": 85,
   "metadata": {
    "ExecuteTime": {
     "end_time": "2021-10-27T00:15:40.708548Z",
     "start_time": "2021-10-27T00:15:40.655541Z"
    }
   },
   "outputs": [],
   "source": [
    "def fetchDate(string):\n",
    "    '''\n",
    "    This function tries to fetch a date (day, month and year) from a string via datetime library. \n",
    "    \n",
    "    If it fails, it'll try to identify these elements from a string in the format YYYY-mm-dd.\n",
    "    '''\n",
    "    string = str(string)\n",
    "    if string.lower() == 'nan':\n",
    "        return (np.NAN, np.NAN)\n",
    "    \n",
    "    try:\n",
    "        date = datetime.datetime.strptime(string, '%Y-%m-%d')\n",
    "        return (date.month, date.year)\n",
    "    \n",
    "    except:\n",
    "        str_list = string.split('-')\n",
    "        year = str_list[0]\n",
    "        month = str_list[1]\n",
    "        \n",
    "        return (month, year)\n",
    "        "
   ]
  },
  {
   "cell_type": "code",
   "execution_count": 86,
   "metadata": {
    "ExecuteTime": {
     "end_time": "2021-10-27T00:15:40.959144Z",
     "start_time": "2021-10-27T00:15:40.711774Z"
    }
   },
   "outputs": [],
   "source": [
    "poliqueta['determined_month'] = poliqueta['Determined date 1'].apply(lambda x: fetchDate(x)[0])\n",
    "poliqueta['start_month'] = poliqueta['Start Date'].apply(lambda x: fetchDate(x)[0])\n",
    "poliqueta['cataloged_month'] = poliqueta['Cataloged Date'].apply(lambda x: fetchDate(x)[0])\n",
    "\n",
    "poliqueta['determined_year'] = poliqueta['Determined date 1'].apply(lambda x: fetchDate(x)[1])\n",
    "poliqueta['start_year'] = poliqueta['Start Date'].apply(lambda x: fetchDate(x)[1])\n",
    "poliqueta['cataloged_year'] = poliqueta['Cataloged Date'].apply(lambda x: fetchDate(x)[1])"
   ]
  },
  {
   "cell_type": "markdown",
   "metadata": {},
   "source": [
    "converting to int"
   ]
  },
  {
   "cell_type": "code",
   "execution_count": 87,
   "metadata": {
    "ExecuteTime": {
     "end_time": "2021-10-27T00:15:40.964234Z",
     "start_time": "2021-10-27T00:15:40.960786Z"
    }
   },
   "outputs": [],
   "source": [
    "def str_with_nan2int(string):\n",
    "    try:\n",
    "        if not np.isnan(string):\n",
    "            return int(string)\n",
    "        else:\n",
    "            return np.NAN\n",
    "    except:\n",
    "        if str(string).lower() == 'nan':\n",
    "            return np.NaN\n",
    "        else:\n",
    "            return int(str(string))"
   ]
  },
  {
   "cell_type": "code",
   "execution_count": 88,
   "metadata": {
    "ExecuteTime": {
     "end_time": "2021-10-27T00:15:41.069390Z",
     "start_time": "2021-10-27T00:15:40.965959Z"
    }
   },
   "outputs": [],
   "source": [
    "poliqueta['determined_month'] = poliqueta['determined_month'].apply(str_with_nan2int) #has NaN\n",
    "poliqueta['start_month'] = poliqueta['start_month'].apply(str_with_nan2int) #has NaN\n",
    "poliqueta['cataloged_month'] = poliqueta['cataloged_month'].apply(str_with_nan2int) #has NaN\n",
    "\n",
    "poliqueta['determined_year'] = poliqueta['determined_year'].apply(str_with_nan2int) #has NaN\n",
    "poliqueta['start_year'] = poliqueta['start_year'].apply(str_with_nan2int) #has NaN\n",
    "poliqueta['cataloged_year'] = poliqueta['cataloged_year'].apply(str_with_nan2int) #has NaN"
   ]
  },
  {
   "cell_type": "markdown",
   "metadata": {},
   "source": [
    "<br>\n",
    "\n",
    "## Adjusting `Depth` columns\n",
    "\n",
    "<font color='red'>**p.s.:** I'm assuming it's all on the same measure unit (in meters) </font>"
   ]
  },
  {
   "cell_type": "code",
   "execution_count": 89,
   "metadata": {
    "ExecuteTime": {
     "end_time": "2021-10-27T00:15:41.079921Z",
     "start_time": "2021-10-27T00:15:41.070993Z"
    }
   },
   "outputs": [],
   "source": [
    "poliqueta['min_depth'] = poliqueta['Min Depth'].astype(float)\n",
    "poliqueta['max_depth'] = poliqueta['Max Depth'].astype(float)"
   ]
  },
  {
   "cell_type": "markdown",
   "metadata": {},
   "source": [
    "<br>\n",
    "\n",
    "## Adjusting Latitude and Longitude"
   ]
  },
  {
   "cell_type": "code",
   "execution_count": 93,
   "metadata": {
    "ExecuteTime": {
     "end_time": "2021-10-27T00:16:08.041999Z",
     "start_time": "2021-10-27T00:16:08.015383Z"
    }
   },
   "outputs": [
    {
     "data": {
      "text/plain": [
       "array([-40.3461111 , -40.5833611 , -41.1541667 , -40.595     ,\n",
       "       -40.15      , -38.7127778 , -37.9125    , -40.1666667 ,\n",
       "       -37.7727778 , -36.6372222 , -38.4225    , -38.0819444 ,\n",
       "       -40.5461111 , -41.7225    , -41.0855556 , -40.8483333 ,\n",
       "       -40.8138889 , -38.6666667 , -41.2541667 , -38.0666667 ,\n",
       "       -35.8805556 , -38.9666667 , -39.2311111 , -38.7611111 ,\n",
       "       -45.2333333 , -44.75      , -45.1666667 , -40.5       ,\n",
       "       -37.485     , -36.8077778 , -36.7502222 , -39.5833333 ,\n",
       "       -37.5919444 , -40.9819444 , -43.8719444 , -40.6777778 ,\n",
       "       -43.2777778 , -42.1833333 , -38.4666667 , -40.0744444 ,\n",
       "       -37.31675   , -37.2069444 , -40.3166667 , -39.0130667 ,\n",
       "       -39.2726    , -39.04955   , -39.0516667 , -39.0598667 ,\n",
       "       -38.6794833 , -38.9786667 , -39.2140167 , -39.2186333 ,\n",
       "       -39.0785833 , -38.6001389 , -38.8738    , -38.63945   ,\n",
       "       -39.1274667 , -39.0850667 , -33.7727778 , -38.7668333 ,\n",
       "       -39.5902778 , -38.3744444 , -35.8911111 , -40.0216667 ,\n",
       "       -34.0055556 , -34.5894444 , -37.9425    , -34.8941667 ,\n",
       "       -39.0275167 , -39.2394333 , -38.5839333 , -38.67915   ,\n",
       "       -38.9785667 , -39.0194667 , -39.03195   , -38.91915   ,\n",
       "       -38.9664    , -38.0001167 , -39.0000222 , -39.0001    ,\n",
       "       -39.2198    , -39.0652    , -39.0124667 , -39.2169444 ,\n",
       "       -39.2765556 , -39.2199444 , -39.0441833 , -38.9873667 ,\n",
       "       -38.75745   , -38.9662333 , -38.5834333 , -38.6876    ,\n",
       "       139.0881667 , -43.3358333 , -40.0833333 , -40.3333333 ,\n",
       "                nan, -29.2700833 ,  -4.1452778 ,  10.0001111 ,\n",
       "       -40.8       , -50.3       , -38.7077778 , 145.8333333 ,\n",
       "       -82.25      , -48.3666667 , -45.5455556 , -40.4986111 ,\n",
       "       -45.9333333 , -38.5336111 , -40.0997222 , -41.2208333 ,\n",
       "       -39.5266667 , -35.8569444 , -45.7138889 ,  -4.127222  ,\n",
       "       -48.3333333 , -43.164375  , -40.0583333 , -37.71      ,\n",
       "       -35.8813333 ,  -2.0536111 , -38.7133333 , -38.5833333 ,\n",
       "       -43.1636111 , -40.0486111 , -40.0561111 , -46.3319444 ,\n",
       "       -39.1833333 , -33.8247222 , -39.05      , -43.86675   ,\n",
       "       -39.085     , -43.1525    , -38.7113889 , -45.4055556 ,\n",
       "       -39.6666667 , -39.6833333 , -39.6916667 , -39.7166667 ,\n",
       "       -39.7333333 , -38.6072222 , -39.65      , -44.2777778 ,\n",
       "       -43.1515    , -78.885     , -78.78833   , -38.6991667 ,\n",
       "       -38.7019444 , -42.01583333, -40.498055  , -38.3597222 ,\n",
       "       -44.1887333 , -45.1225    , -40.285     , -43.164     ,\n",
       "       -29.3458333 , -79.56      ,   6.493333  , -32.4238889 ,\n",
       "       -40.0038889 , -33.8125    , -40.0097222 , -40.275     ,\n",
       "       -58.3333333 , -58.4833333 , -58.4666667 , -43.1666667 ,\n",
       "       -41.9166667 , -44.1833333 , -43.9822222 , -40.75      ,\n",
       "       -38.7116667 , -38.7       , -38.7052778 , -41.3302528 ,\n",
       "       -41.0240528 , -39.9926972 , -40.0387583 , -40.0359806 ,\n",
       "       -39.8813694 , -41.3101694 , -39.9231028 , -39.9921667 ,\n",
       "       -41.2705717 , -41.1996517 , -41.078935  , -39.7425633 ,\n",
       "       -39.7486611 , -39.9699533 , -39.9720333 , -39.9013283 ,\n",
       "       -39.9188806 , -39.5974683 , -40.9079194 , -40.3971111 ,\n",
       "       -39.9638683 , -39.9102183 , -39.8445567 , -39.818125  ,\n",
       "       -39.8181111 , -39.8175333 , -39.1405067 , -40.8839717 ,\n",
       "       -40.8982083 , -40.79411   , -40.7181    , -40.61369   ,\n",
       "       -40.29574   , -40.14062   , -40.1454778 , -39.601915  ,\n",
       "       -40.1528583 , -40.0027611 , -39.8496528 , -39.1452889 ,\n",
       "       -40.1535583 , -40.3765667 , -40.9618944 , -40.0541611 ,\n",
       "       -40.8086    , -40.2069444 , -40.9769528 , -40.0348417 ,\n",
       "       -40.0966361 , -40.4459722 , -40.6009611 , -40.0020556 ,\n",
       "       -40.4161583 , -39.8793517 , -40.087985  , -39.6031917 ,\n",
       "       -39.9297083 , -39.9132333 , -39.9013233 , -39.3370194 ,\n",
       "       -39.0881333 , -40.525675  , -40.4271986 , -40.2373817 ,\n",
       "       -40.9251742 , -40.8155931 , -40.8218422 , -40.8114806 ,\n",
       "       -40.8074108 , -40.7129922 , -40.7063439 , -40.7291275 ,\n",
       "       -40.7209764 , -40.3394811 , -40.4235867 , -40.4308483 ,\n",
       "       -40.5182133 , -40.2460553 , -40.5371689 , -40.5294675 ,\n",
       "       -40.5332975 , -40.4345358 , -40.5166667 , -40.2934278 ,\n",
       "       -40.1935467 , -40.1523167 , -40.1770389 , -40.6512167 ,\n",
       "       -40.3467322 , -40.0678833 , -41.3600367 , -42.0976111 ,\n",
       "       -40.451625  , -41.8991683 , -40.7621444 , -40.9343972 ,\n",
       "       -40.2957333 , -40.1547639 , -40.0022056 , -39.8813611 ,\n",
       "       -39.9022139 , -40.1559306 , -40.6140233 , -40.7975389 ,\n",
       "       -40.2161583 , -40.105525  , -40.155425  , -39.9924167 ,\n",
       "       -40.2070333 , -40.1060278 , -39.7290889 , -39.8680472 ,\n",
       "       -39.8733611 , -39.8189694 , -39.8270639 , -39.7955    ,\n",
       "       -39.8618333 , -39.8032444 , -39.6793333 , -40.1480944 ,\n",
       "       -40.0706111 , -40.0509722 , -40.0028722 , -39.9579167 ,\n",
       "       -39.9810139 , -39.9127889 , -39.87175   , -40.2907083 ,\n",
       "       -39.7754722 , -39.9256111 , -39.8612222 , -39.8267694 ,\n",
       "       -39.8720644 , -39.8166667 , -39.7846222 , -39.9016389 ,\n",
       "       -39.9336333 , -39.6760558 , -40.2530778 , -40.1564417 ,\n",
       "       -40.0097528 , -39.9577917 , -39.9140222 , -39.8900917 ,\n",
       "       -39.9208333 , -39.7290556 , -39.8680833 , -39.9228889 ,\n",
       "       -39.8270833 , -39.7949167 , -39.6761111 , -39.8034722 ,\n",
       "       -39.7713889 , -39.6782222 , -40.1303611 , -40.0389722 ,\n",
       "       -40.0636944 , -39.8624722 , -39.9814722 , -39.9206944 ,\n",
       "       -39.8720639 , -39.9127878 , -39.8634361 , -39.7754306 ,\n",
       "       -40.1688    , -39.8402444 , -39.9127861 , -39.925175  ,\n",
       "       -39.6995833 , -39.8728889 , -39.9031667 , -40.1805528 ,\n",
       "       -39.7654028 , -39.7715333 , -40.148     , -39.9579444 ,\n",
       "       -39.9023056 , -39.94825   , -39.8910833 , -40.2753056 ,\n",
       "       -40.2533611 , -40.1479167 , -40.0711944 , -39.9730278 ,\n",
       "       -39.8856389 , -39.9059722 , -40.1531972 , -48.5166667 ,\n",
       "       -48.0833333 , -48.61      , -48.62      , -48.54      ,\n",
       "       -48.5       , -48.59      , -40.1683003 , -40.4211997 ,\n",
       "       -40.1181625 , -40.91396   , -40.6512339 , -40.52743   ,\n",
       "       -40.6236775 , -40.62743   , -40.47595   , -40.2543467 ,\n",
       "       -40.1966733 , -40.4041867 , -40.2698664 , -41.3660583 ,\n",
       "       -41.3538825 , -41.0535142 , -41.0149844 , -41.366135  ,\n",
       "       -41.5277028 , -40.8435294 , -40.9597383 , -44.8886111 ,\n",
       "       -44.8383333 , -44.7855556 , -40.532875  , -40.7679153 ,\n",
       "       -40.4345433 , -40.7170881 , -40.8122639 , -40.7297622 ,\n",
       "       -40.4241169 , -40.4309306 , -40.7204594 , -40.5254072 ,\n",
       "       -40.3391864 , -40.4274681 , -40.9038472 , -40.5333097 ,\n",
       "       -40.2373222 , -40.54706   , -40.7093603 , -40.2750972 ,\n",
       "       -40.1565278 , -34.8       , -39.        , -44.1716667 ,\n",
       "       -38.6166667 , -38.6       , -44.05      ,  10.0011111 ,\n",
       "       -40.1983333 , -44.3180556 , -43.0333333 ,  13.6       ,\n",
       "       -39.9       , -39.2311667 , -38.5830556 , -38.6008333 ,\n",
       "       -38.7094444 , -44.0833333 , -28.8466667 , -40.3       ,\n",
       "       -38.3666667 , -39.5333333 , -40.1333333 , -40.0166667 ,\n",
       "       -34.2297222 , -47.1730556 ,  15.1613889 , -45.1188    ,\n",
       "       -43.15      , -38.6280556 , -48.3541667 , -38.7013889 ,\n",
       "         3.1275    ,  34.9480556 , -38.935     , -38.9133611 ,\n",
       "       -38.9084722 , -38.5327778 , -38.5333333 , -38.9075    ,\n",
       "       -48.5238889 , -46.3716667 , -46.2936111 , -48.5208333 ,\n",
       "       -38.9731333 , -35.1711111 , -35.1222222 , -82.2583528 ,\n",
       "       -79.0910028 , -79.5746972 , -79.5964917 , -38.8333333 ,\n",
       "       -38.9652667 , -43.1664833 , -79.5333    , -79.6673583 ,\n",
       "       -82.2455722 , -79.8692778 , -41.2883333 , -41.2369667 ,\n",
       "       -41.24      , -41.2808333 , -41.2570833 , -41.2533333 ,\n",
       "       -41.26875   , -41.2333333 , -41.2957167 , -41.2759333 ,\n",
       "       -41.2525    , -41.3180556 , -36.872     , -35.917     ,\n",
       "       -38.205     , -29.083     , -36.955     , -39.422     ,\n",
       "       -28.819     , -34.75      , -29.358     , -31.833     ,\n",
       "       -38.617     , -37.75      , -34.333     , -39.933     ,\n",
       "       -16.883     , -38.667     , -34.        , -37.271     ,\n",
       "       -37.833     , -37.583     , -39.468     , -37.917     ,\n",
       "       -30.55      , -38.409     , -37.817     , -39.333     ,\n",
       "       -32.833     , -37.76      , -38.867     , -36.067     ,\n",
       "       -38.25      , -38.467     , -39.967     , -38.267     ,\n",
       "       -36.833     , -37.856     , -38.        , -29.357     ,\n",
       "       -37.383     , -40.234     , -37.538     , -28.833     ,\n",
       "       -37.7       , -37.4       , -38.367     , -36.45      ,\n",
       "       -39.487     , -38.3       , -37.774     , -36.305     ,\n",
       "       -35.5       , -37.117     , -52.3866667 , -39.837     ,\n",
       "       -40.09585   , -37.667     , -38.833     , -38.517     ,\n",
       "       -38.583     , -38.288     , -37.77      , -38.938     ,\n",
       "       -37.6       , -40.1031722 , -40.0950583 , -40.105225  ,\n",
       "       -40.1131444 , -40.1049639 , -40.1032083 , -39.96735   ,\n",
       "       -40.1264833 , -40.1030667 , -40.1224139 , -40.175925  ,\n",
       "       -40.101425  , -40.122725  , -40.1048556 , -39.9917583 ,\n",
       "       -40.1758333 , -40.1127417 , -40.8304083 , -39.9881444 ,\n",
       "       -43.1061111 , -40.0942333 , -40.1028778 , -40.1136889 ,\n",
       "       -40.2473778 , -40.1031806 , -40.0963556 , -40.1045167 ,\n",
       "       -40.1118222 , -40.1296639 , -38.0889972 , -40.1029833 ,\n",
       "       -40.094225  , -40.1044889 , -40.1032139 , -40.1053611 ,\n",
       "       -36.683     , -13.367     , -37.933     , -38.217     ,\n",
       "       -38.188     , -39.66      , -14.372     , -36.        ,\n",
       "       -40.071     , -38.9       , -35.455     , -38.787     ,\n",
       "       -40.083     ,  34.        , -34.771     , -39.9667    ,\n",
       "       -38.387     , -37.6667    , -38.3667    , -38.7687    ,\n",
       "       -40.503     , -38.041     , -18.886     , -38.408     ,\n",
       "       -16.867     ,  34.75      , -39.863     , -40.536     ,\n",
       "       -39.455     ,  34.771     , -29.367     , -40.74      ,\n",
       "       -39.483     , -41.024     , -31.883     , -39.855     ,\n",
       "       -38.783     , -40.54      , -38.803     , -39.5       ,\n",
       "       -40.088     , -36.455     , -36.626     , -38.183     ,\n",
       "       -44.8666667 , -36.642     , -34.584     , -38.344     ,\n",
       "       -36.7409972 , -40.5666667 , -40.7551667 , -37.8699972 ,\n",
       "       -40.0249972 , -38.7659972 , -36.103     , -37.6869972 ,\n",
       "       -38.0589972 , -37.939     , -37.6078583 , -33.636     ,\n",
       "       -40.329     , -29.3509972 , -35.704     , -37.6079972 ,\n",
       "       -37.3149972 , -40.167     , -38.0189972 , -38.582     ,\n",
       "       -39.527     , -40.2999972 , -38.7673333 , -38.901     ,\n",
       "       -37.588     , -40.826     , -39.923     , -38.17      ,\n",
       "       -36.7409722 , -38.917     , -37.7839972 , -28.855     ,\n",
       "       -38.7419972 , -37.6859972 , -40.151     , -31.8279972 ,\n",
       "       -38.365     , -38.8299972 , -42.0047222 , -44.2756389 ,\n",
       "       -41.9327806 , -35.8909972 , -39.2329972 , -29.2699972 ,\n",
       "       -40.0829972 , -37.7016667 , -36.7411083 , -38.768     ,\n",
       "       -40.1799972 , -38.8299722 , -39.518     , -38.5989972 ,\n",
       "       -35.875     , -37.329     , -37.4799972 , -38.4219972 ,\n",
       "       -38.5469972 , -40.7663306 , -38.578     , -39.219     ,\n",
       "       -40.0035    , -39.9389167 , -39.7833333 , -39.6760556 ,\n",
       "       -39.8168333 , -39.7172778 , -39.9125    , -40.3621389 ,\n",
       "       -39.3509972 , -40.0235278 , -39.8270556 , -39.9251667 ,\n",
       "       -40.1685    , -29.3066667 , -29.3247222 , -39.8632806 ,\n",
       "       -40.2034278 , -40.0045278 , -39.8808333 , -39.9345    ,\n",
       "       -40.1107222 , -40.2500917 , -40.1       , -40.7545278 ,\n",
       "       -40.0013056 , -39.81925   , -40.5245278 , -39.9127778 ,\n",
       "       -39.8422889 , -39.8337639 , -39.8435472 , -43.9863889 ,\n",
       "       -34.7940444 , -34.8245278 , -40.2902222 , -40.4308639 ,\n",
       "       -44.2409667 , -42.1781917 , -41.1833333 , -40.1395194 ,\n",
       "       -39.7652778 , -45.0641667 , -45.4105944 , -43.1644889 ,\n",
       "       -41.875     , 151.2141667 , -38.07375   , -95.1656194 ,\n",
       "       -34.9021819 , -34.9649722 , -34.8261111 , -35.0801389 ,\n",
       "       -34.9784167 , -57.8525    , -35.9833417 , -35.2045    ,\n",
       "       -35.8809297 , -38.706778  , -29.345833  , -38.497     ,\n",
       "       -44.0269444 , -40.2780556 , -48.5011111 , -35.975     ,\n",
       "       -38.165     , -34.8086389 , -42.0053333 , -38.5266666 ,\n",
       "       -38.3664722 , -40.2842944 , -40.4970278 , -33.8161667 ,\n",
       "       -32.4247222 , -38.7067778 , -45.4312778 , -41.73      ,\n",
       "       -66.4597778 , -38.0616389 , -41.97225   , -43.0463056 ,\n",
       "       -38.5180556 , -43.13      , -38.3593889 , -35.2208333 ,\n",
       "       -45.4361111 , -33.8083333 , -33.81      , -33.805     ,\n",
       "       -33.8097222 , -43.1708333 , -29.3166667 , -44.2416667 ,\n",
       "       -88.0819444 , -42.0083333 , -41.9916667 , -35.1730556 ,\n",
       "       -33.8177778 , -33.8183333 , -35.1641667 , -44.2408333 ,\n",
       "       -48.6558333 , -48.3694444 , -34.8019444 , -34.7958333 ,\n",
       "       -34.8319444 , -46.3305556 , -40.2904222 , -29.3461111 ,\n",
       "       -29.3455556 , -32.4030556 , -43.8779167 , -32.4416667 ,\n",
       "       -32.4397222 , -32.4183333 , -35.0480556 , -44.0272222 ,\n",
       "       -43.1194444 , -43.1621944 , -43.1245944 , -43.2033333 ,\n",
       "       -43.1416667 , -37.3420667 , -37.0477778 , -37.1676667 ,\n",
       "       -33.8047222 , -33.8061111 , -33.8176667 , -33.82495   ,\n",
       "       -33.8041667 , -33.8180556 , -33.8177667 , -33.8163167 ,\n",
       "       -33.8267333 ])"
      ]
     },
     "execution_count": 93,
     "metadata": {},
     "output_type": "execute_result"
    }
   ],
   "source": [
    "poliqueta['Longitude'].unique()"
   ]
  },
  {
   "cell_type": "code",
   "execution_count": 20,
   "metadata": {
    "ExecuteTime": {
     "end_time": "2021-10-26T23:45:45.285455Z",
     "start_time": "2021-10-26T23:45:45.244665Z"
    }
   },
   "outputs": [],
   "source": [
    "poliqueta['Latitude'] = poliqueta['Latitude'].apply(convert2float)\n",
    "poliqueta['Longitude'] = poliqueta['Longitude'].apply(convert2float)"
   ]
  },
  {
   "cell_type": "markdown",
   "metadata": {},
   "source": [
    "<br>\n",
    "\n",
    "## Adjusting locality columns"
   ]
  },
  {
   "cell_type": "markdown",
   "metadata": {},
   "source": [
    "Continent\n",
    "WaterBody\n",
    "Country\n",
    "State\n",
    "County\n",
    "Locality Name"
   ]
  },
  {
   "cell_type": "code",
   "execution_count": 21,
   "metadata": {
    "ExecuteTime": {
     "end_time": "2021-10-26T23:45:45.354814Z",
     "start_time": "2021-10-26T23:45:45.287242Z"
    }
   },
   "outputs": [],
   "source": [
    "# removing unnecessary spaces\n",
    "poliqueta['Country'] = poliqueta['Country'].apply(lambda x:str(x).strip())"
   ]
  },
  {
   "cell_type": "markdown",
   "metadata": {},
   "source": [
    "<br>\n",
    "\n",
    "## Adjusting Types"
   ]
  },
  {
   "cell_type": "code",
   "execution_count": 22,
   "metadata": {
    "ExecuteTime": {
     "end_time": "2021-10-26T23:45:45.394841Z",
     "start_time": "2021-10-26T23:45:45.357228Z"
    }
   },
   "outputs": [],
   "source": [
    "# inserir depois (Ainda não foi necessário)\n",
    "# poliqueta['Type Status 1'].str.strip().str.lower().str.capitalize()"
   ]
  },
  {
   "cell_type": "markdown",
   "metadata": {},
   "source": [
    "<br>\n",
    "\n",
    "## Adjusting `Order` column"
   ]
  },
  {
   "cell_type": "code",
   "execution_count": 23,
   "metadata": {
    "ExecuteTime": {
     "end_time": "2021-10-26T23:45:45.440368Z",
     "start_time": "2021-10-26T23:45:45.399586Z"
    }
   },
   "outputs": [],
   "source": [
    "def correct_order(order):\n",
    "    order = str(order)\n",
    "    \n",
    "    if order.lower() == 'nan':\n",
    "        return np.NAN\n",
    "    else:\n",
    "        return order.strip().capitalize()"
   ]
  },
  {
   "cell_type": "code",
   "execution_count": 24,
   "metadata": {
    "ExecuteTime": {
     "end_time": "2021-10-26T23:45:45.500963Z",
     "start_time": "2021-10-26T23:45:45.443358Z"
    }
   },
   "outputs": [],
   "source": [
    "poliqueta['Order 1'] = poliqueta['Order 1'].apply(correct_order)"
   ]
  },
  {
   "cell_type": "markdown",
   "metadata": {},
   "source": [
    "<br>\n",
    "\n",
    "## Selecting Subset of Main DB"
   ]
  },
  {
   "cell_type": "code",
   "execution_count": 25,
   "metadata": {
    "ExecuteTime": {
     "end_time": "2021-10-26T23:45:45.547944Z",
     "start_time": "2021-10-26T23:45:45.502724Z"
    }
   },
   "outputs": [],
   "source": [
    "poliqueta['Species Author Year 1'] = poliqueta['Species Author 1'].apply(\n",
    "            lambda x: str(x).split(',')[-1].split(')')[0].split(' ')[-1].strip()\n",
    ")"
   ]
  },
  {
   "cell_type": "code",
   "execution_count": 26,
   "metadata": {
    "ExecuteTime": {
     "end_time": "2021-10-26T23:45:45.588282Z",
     "start_time": "2021-10-26T23:45:45.549837Z"
    }
   },
   "outputs": [],
   "source": [
    "# 'genero_e_especie_ent', 'genero_e_especie_atual'\n",
    "selected_columns = ['Catalog Number','Cataloged Date','Determined date 1','Start Date',\n",
    "                    'start_year', 'start_month', 'determined_year', 'determined_month',\n",
    "                    'cataloged_month', 'cataloged_year',\n",
    "                    'Class 1','Kingdom', \n",
    "                    'Genus 1', 'Species 1', 'Family 1', 'Phylum 1','Order 1','Type Status 1',\n",
    "                    'Species Author 1', 'Species Author Year 1','determiner_full_name',\n",
    "                    'determiner_full_name1','determiner_full_name2',\n",
    "                    'CollectorFirst_and_LastName', 'CollectorFirst_and_LastName2',\n",
    "                    'CollectorFirst_and_LastName3','CollectorFirst_and_LastName4',\n",
    "                    'Collector First Name 1', 'Collector Last Name 1',\n",
    "                    'Qualifier 1', 'min_depth', 'max_depth',\n",
    "                    'Latitude', 'Longitude', 'Continent',\n",
    "                    'WaterBody', 'Country', 'State', 'County', 'Locality Name']"
   ]
  },
  {
   "cell_type": "code",
   "execution_count": 27,
   "metadata": {
    "ExecuteTime": {
     "end_time": "2021-10-26T23:45:45.646771Z",
     "start_time": "2021-10-26T23:45:45.590001Z"
    }
   },
   "outputs": [],
   "source": [
    "NewTable = poliqueta[selected_columns].copy()"
   ]
  },
  {
   "cell_type": "markdown",
   "metadata": {},
   "source": [
    "## Renaming columns\n",
    "\n",
    "Setting new standardized column names to facilitate future steps."
   ]
  },
  {
   "cell_type": "code",
   "execution_count": 28,
   "metadata": {
    "ExecuteTime": {
     "end_time": "2021-10-26T23:45:45.680775Z",
     "start_time": "2021-10-26T23:45:45.648464Z"
    }
   },
   "outputs": [],
   "source": [
    "renames = {\n",
    "    'Catalog Number':'catalog_number',\n",
    "    'Cataloged Date':'cataloged_date',\n",
    "    'Determined Date 1':'determined_date',\n",
    "    'Class 1':'class',\n",
    "    'Kingdom':'kingdom',\n",
    "    'Genus 1':'genus',\n",
    "    'Species 1':'species',\n",
    "    'Family 1':'family',\n",
    "    'Phylum 1':'phylum',\n",
    "    'Subespecie_atual':'subespecie_atual',\n",
    "    'Type Status 1':'type',\n",
    "    'Order 1':'order',\n",
    "    'Species Author 1':'author',\n",
    "    'Species Author Year 1':'author_year',\n",
    "#     'Determiner Last Name 1':'determiner_full_name',\n",
    "    'Collector First Name 1':'collector_first_name',\n",
    "    'Collector Last Name 1':'collector_last_name',\n",
    "    'Qualifier 1':'qualifier',\n",
    "    'Latitude':'lat',\n",
    "    'Longitude':'long', \n",
    "    'Continent':'continent',\n",
    "    'WaterBody':'water_body',\n",
    "    'Country':'country',\n",
    "    'State':'state',\n",
    "    'County':'county',\n",
    "    'Locality Name':'locality',\n",
    "    'CollectorFirst_and_LastName':'collector_full_name',\n",
    "    'CollectorFirst_and_LastName2':'collector_full_name2',\n",
    "    'CollectorFirst_and_LastName3':'collector_full_name3',\n",
    "    'CollectorFirst_and_LastName4':'collector_full_name4'\n",
    "}"
   ]
  },
  {
   "cell_type": "code",
   "execution_count": 29,
   "metadata": {
    "ExecuteTime": {
     "end_time": "2021-10-26T23:45:45.739266Z",
     "start_time": "2021-10-26T23:45:45.682329Z"
    }
   },
   "outputs": [],
   "source": [
    "NewTable = NewTable.rename(columns=renames)"
   ]
  },
  {
   "cell_type": "markdown",
   "metadata": {},
   "source": [
    "<br>\n",
    "\n",
    "## Exporting to `CSV`\n",
    "\n",
    "name: <font color='blue'>./src/treated_db.csv</font>\n",
    "sep: ';'\n",
    "encoding: 'utf-8-sig'"
   ]
  },
  {
   "cell_type": "code",
   "execution_count": 30,
   "metadata": {
    "ExecuteTime": {
     "end_time": "2021-10-26T23:45:45.859764Z",
     "start_time": "2021-10-26T23:45:45.740821Z"
    }
   },
   "outputs": [],
   "source": [
    "NewTable.to_csv('./data/treated_db.csv', sep=';', encoding='utf-8')"
   ]
  },
  {
   "cell_type": "markdown",
   "metadata": {},
   "source": [
    "-----\n",
    "\n",
    "<br>\n",
    "\n",
    "# MNRJP27.07.2020 - visualização.xls"
   ]
  },
  {
   "cell_type": "markdown",
   "metadata": {},
   "source": [
    "## Importing data"
   ]
  },
  {
   "cell_type": "code",
   "execution_count": 31,
   "metadata": {
    "ExecuteTime": {
     "end_time": "2021-10-26T23:45:46.069795Z",
     "start_time": "2021-10-26T23:45:45.861461Z"
    }
   },
   "outputs": [
    {
     "name": "stdout",
     "output_type": "stream",
     "text": [
      "The excel file contains the following sheets: ['Specify']\n",
      "\n",
      "Database is in sheet: Specify\n"
     ]
    }
   ],
   "source": [
    "excel = pd.ExcelFile('./data/MNRJP2021.10.11 - visualização.xlsx')\n",
    "sheet_name = excel.sheet_names\n",
    "\n",
    "print('The excel file contains the following sheets:', sheet_name)\n",
    "print('\\nDatabase is in sheet:', sheet_name[0])"
   ]
  },
  {
   "cell_type": "code",
   "execution_count": 32,
   "metadata": {
    "ExecuteTime": {
     "end_time": "2021-10-26T23:45:49.461396Z",
     "start_time": "2021-10-26T23:45:46.071410Z"
    }
   },
   "outputs": [
    {
     "name": "stdout",
     "output_type": "stream",
     "text": [
      "The database has 2785 rows and 92 columns.\n"
     ]
    }
   ],
   "source": [
    "db = excel.parse(sheet_name[0], sep=';', encoding='utf-8-sig')\n",
    "poliqueta2 = db.copy()\n",
    "\n",
    "print(f'The database has {db.shape[0]} rows and {db.shape[1]} columns.')"
   ]
  },
  {
   "cell_type": "markdown",
   "metadata": {},
   "source": [
    "## Adjusting column names\n",
    "\n",
    "### removing '\\n', '\\t', and other special characters"
   ]
  },
  {
   "cell_type": "code",
   "execution_count": 33,
   "metadata": {
    "ExecuteTime": {
     "end_time": "2021-10-26T23:45:49.466329Z",
     "start_time": "2021-10-26T23:45:49.463092Z"
    }
   },
   "outputs": [],
   "source": [
    "poliqueta2.columns = [str(col).replace(r'\\n','') for col in poliqueta2.columns]"
   ]
  },
  {
   "cell_type": "markdown",
   "metadata": {
    "ExecuteTime": {
     "end_time": "2020-07-29T18:51:12.632272Z",
     "start_time": "2020-07-29T18:51:12.627636Z"
    }
   },
   "source": [
    "## Adjusting Determiners and Collectors Names"
   ]
  },
  {
   "cell_type": "markdown",
   "metadata": {},
   "source": [
    "<font color='red' size='5'>**p.s.:** Determiner Last Name 1 contains the FULL name of the Researcher </font>\n",
    "\n",
    "Determiner Last Name 2 is all empty."
   ]
  },
  {
   "cell_type": "code",
   "execution_count": 34,
   "metadata": {
    "ExecuteTime": {
     "end_time": "2021-10-26T23:45:49.565105Z",
     "start_time": "2021-10-26T23:45:49.467999Z"
    }
   },
   "outputs": [],
   "source": [
    "names_col = ['Collector Last Name 1', 'Collector First Name 1', \n",
    "             'Collector Last Name 2', 'Collector First Name 2', 'Collector Last Name 3', \n",
    "             'Collector First Name 3', 'Collector Last Name 4', 'Collector First Name 4']"
   ]
  },
  {
   "cell_type": "code",
   "execution_count": 35,
   "metadata": {
    "ExecuteTime": {
     "end_time": "2021-10-26T23:45:49.681709Z",
     "start_time": "2021-10-26T23:45:49.567138Z"
    }
   },
   "outputs": [],
   "source": [
    "# for name_col in names_col:\n",
    "#     if 'last' in name_col.lower():\n",
    "#         poliqueta2[name_col] = poliqueta2[name_col].apply(lambda x: treat_names(x, pos='full'))\n",
    "#     else:\n",
    "#         poliqueta2[name_col] = poliqueta2[name_col].apply(treat_names)\n",
    "\n",
    "for name_col in names_col:\n",
    "    poliqueta2[name_col] = poliqueta2[name_col].fillna('')\n",
    "    poliqueta2[name_col] = poliqueta2[name_col].apply(lambda x: treat_names(x, pos='full'))"
   ]
  },
  {
   "cell_type": "code",
   "execution_count": 36,
   "metadata": {
    "ExecuteTime": {
     "end_time": "2021-10-26T23:45:49.697319Z",
     "start_time": "2021-10-26T23:45:49.683410Z"
    }
   },
   "outputs": [],
   "source": [
    "poliqueta2['Determiner First Name1'] = poliqueta2['Determiner First Name1'].str.strip().str.lower().str.capitalize()\n",
    "poliqueta2['Determiner Last Name1'] = poliqueta2['Determiner Last Name1'].str.strip().str.lower().str.capitalize()\n",
    "\n",
    "#poliqueta2['Determiner First Name 2'] = poliqueta2['Determiner First Name 2'].str.strip().str.lower().str.capitalize()\n",
    "#poliqueta2['Determiner Last Name 2'] = poliqueta2['Determiner Last Name 2'].str.strip().str.lower().str.capitalize()"
   ]
  },
  {
   "cell_type": "markdown",
   "metadata": {},
   "source": [
    "### creating column joining First and Last names\n",
    "\n",
    "I'm doing this only for the first collectors and determiners"
   ]
  },
  {
   "cell_type": "code",
   "execution_count": 37,
   "metadata": {
    "ExecuteTime": {
     "end_time": "2021-10-26T23:45:49.755729Z",
     "start_time": "2021-10-26T23:45:49.699225Z"
    }
   },
   "outputs": [],
   "source": [
    "poliqueta2['DeterminerFirst_and_LastName'] = poliqueta2['Determiner First Name1'] + ' ' + poliqueta2['Determiner Last Name1']\n",
    "#poliqueta2['DeterminerFirst_and_LastName2'] = poliqueta2['Determiner First Name 2'] + ' ' + poliqueta2['Determiner Last Name 2']\n",
    "\n",
    "# collector columns\n",
    "poliqueta2['CollectorFirst_and_LastName'] = poliqueta2['Collector First Name 1'] + ' ' + poliqueta2['Collector Last Name 1']\n",
    "poliqueta2['CollectorFirst_and_LastName2'] = poliqueta2['Collector First Name 2'] + ' ' + poliqueta2['Collector Last Name 2']\n",
    "poliqueta2['CollectorFirst_and_LastName3'] = poliqueta2['Collector First Name 3'] + ' ' + poliqueta2['Collector Last Name 3']\n",
    "poliqueta2['CollectorFirst_and_LastName4'] = poliqueta2['Collector First Name 4'] + ' ' + poliqueta2['Collector Last Name 4']"
   ]
  },
  {
   "cell_type": "code",
   "execution_count": 38,
   "metadata": {
    "ExecuteTime": {
     "end_time": "2021-10-26T23:45:49.808229Z",
     "start_time": "2021-10-26T23:45:49.758044Z"
    }
   },
   "outputs": [],
   "source": [
    "for col in ['CollectorFirst_and_LastName', 'CollectorFirst_and_LastName2', 'CollectorFirst_and_LastName3', \n",
    "           'CollectorFirst_and_LastName4'] :\n",
    "    poliqueta2[col] = poliqueta2[col].apply(lambda x: x if str(x) != ' ' else 'Non-identified')"
   ]
  },
  {
   "cell_type": "markdown",
   "metadata": {},
   "source": [
    "### joining first, middle and last names"
   ]
  },
  {
   "cell_type": "code",
   "execution_count": 39,
   "metadata": {
    "ExecuteTime": {
     "end_time": "2021-10-26T23:45:49.868143Z",
     "start_time": "2021-10-26T23:45:49.810118Z"
    }
   },
   "outputs": [],
   "source": [
    "poliqueta2['DeterminerFullName'] = poliqueta2['Determiner First Name1'] + ' ' + poliqueta2['Determiner Middle Name1'] + ' ' + poliqueta2['Determiner Last Name1']\n",
    "#poliqueta2['DeterminerFullName2'] = poliqueta2['Determiner First Name 2'] + ' ' + poliqueta2['DeterminerMiddle Name 2'] + ' ' + poliqueta2['Determiner Last Name 2']\n",
    "\n",
    "# collector columns\n",
    "poliqueta2['CollectorFullName'] = poliqueta2['Collector First Name 1'] + ' ' + poliqueta2['CollectorMiddle Name 1'] + ' ' + poliqueta2['Collector Last Name 1']\n",
    "poliqueta2['CollectorFullName2'] = poliqueta2['Collector First Name 2'] + ' ' + poliqueta2['CollectorMiddle Name 2'] + ' ' + poliqueta2['Collector Last Name 2']\n",
    "poliqueta2['CollectorFullName3'] = poliqueta2['Collector First Name 3'] + ' ' + poliqueta2['CollectorMiddle Name 3'] + ' ' + poliqueta2['Collector Last Name 3']\n",
    "poliqueta2['CollectorFullName4'] = poliqueta2['Collector First Name 4'] + ' ' + poliqueta2['CollectorMiddle Name 4'] + ' ' + poliqueta2['Collector Last Name 4']"
   ]
  },
  {
   "cell_type": "code",
   "execution_count": 40,
   "metadata": {
    "ExecuteTime": {
     "end_time": "2021-10-26T23:45:49.925379Z",
     "start_time": "2021-10-26T23:45:49.870056Z"
    }
   },
   "outputs": [],
   "source": [
    "for col in ['CollectorFullName', 'CollectorFullName2', 'CollectorFullName3', 'CollectorFullName4']:\n",
    "    poliqueta2[col] = poliqueta2[col].apply(lambda x: x if str(x) != ' ' else 'Non-identified')"
   ]
  },
  {
   "cell_type": "markdown",
   "metadata": {},
   "source": [
    "## Treating taxon columns"
   ]
  },
  {
   "cell_type": "code",
   "execution_count": 41,
   "metadata": {
    "ExecuteTime": {
     "end_time": "2021-10-26T23:45:50.029906Z",
     "start_time": "2021-10-26T23:45:49.927206Z"
    }
   },
   "outputs": [
    {
     "name": "stdout",
     "output_type": "stream",
     "text": [
      "Adjusting column Kingdom\n",
      "Adjusting column Phylum 1\n",
      "Adjusting column Class 1\n",
      "Adjusting column Order 1\n",
      "Adjusting column Family 1\n",
      "Adjusting column Genus 1\n",
      "Adjusting column Species 1\n"
     ]
    }
   ],
   "source": [
    "taxon_columns = ['Kingdom', 'Phylum 1', 'Class 1', 'Order 1', 'Family 1', 'Genus 1',\n",
    "                 'Species 1']  # selecting taxonomy columns\n",
    "\n",
    "treat_taxon_columns(poliqueta2, taxon_columns)"
   ]
  },
  {
   "cell_type": "code",
   "execution_count": 42,
   "metadata": {
    "ExecuteTime": {
     "end_time": "2021-10-26T23:45:50.060637Z",
     "start_time": "2021-10-26T23:45:50.031622Z"
    }
   },
   "outputs": [],
   "source": [
    "for col in taxon_columns:\n",
    "    poliqueta2[col] = poliqueta2[col].fillna('Non-identified')\n",
    "    poliqueta2[col] = poliqueta2[col].astype(str)\n",
    "    poliqueta2[col] = poliqueta2[col].apply(lambda x: x if str(x).lower() != 'nan' else 'Non-identified')"
   ]
  },
  {
   "cell_type": "markdown",
   "metadata": {},
   "source": [
    "## Adjusting Genus and Species"
   ]
  },
  {
   "cell_type": "code",
   "execution_count": 43,
   "metadata": {
    "ExecuteTime": {
     "end_time": "2021-10-26T23:45:50.162821Z",
     "start_time": "2021-10-26T23:45:50.062257Z"
    }
   },
   "outputs": [],
   "source": [
    "# dica da Manoela: epiteto especifico deve ser todo minusculo (especie e subespecie, nesse caso)\n",
    "poliqueta2['Species 1'] = poliqueta2['Species 1'].str.lower()\n",
    "\n",
    "# gênero é escrito com primeira letra maiúscula\n",
    "poliqueta2['Genus 1'] = poliqueta2['Genus 1'].str.lower().str.capitalize()"
   ]
  },
  {
   "cell_type": "markdown",
   "metadata": {
    "ExecuteTime": {
     "end_time": "2020-08-01T16:38:50.984971Z",
     "start_time": "2020-08-01T16:38:50.966700Z"
    }
   },
   "source": [
    "<br>\n",
    "\n",
    "## adding `Genero` and `Especie`together (they completely identify each animal's species)"
   ]
  },
  {
   "cell_type": "code",
   "execution_count": 44,
   "metadata": {
    "ExecuteTime": {
     "end_time": "2021-10-26T23:45:50.335103Z",
     "start_time": "2021-10-26T23:45:50.164555Z"
    }
   },
   "outputs": [],
   "source": [
    "poliqueta2['genus_and_species'] = poliqueta2['Genus 1'] + ' ' + poliqueta2['Species 1']\n",
    "\n",
    "poliqueta2['genus_and_species'] = poliqueta2['genus_and_species'].str.lower().str.capitalize()"
   ]
  },
  {
   "cell_type": "markdown",
   "metadata": {},
   "source": [
    "## Catching Month and Year"
   ]
  },
  {
   "cell_type": "markdown",
   "metadata": {},
   "source": [
    "date_columns= ['Cataloged Date','Return Date','Determined date 1', 'Start Date]\n",
    "\n",
    "format: YYYY-mm-dd\n",
    "\n",
    "<font color='red'>Return Date is empty<font>"
   ]
  },
  {
   "cell_type": "code",
   "execution_count": 45,
   "metadata": {
    "ExecuteTime": {
     "end_time": "2021-10-26T23:45:50.388497Z",
     "start_time": "2021-10-26T23:45:50.336812Z"
    }
   },
   "outputs": [],
   "source": [
    "def fetchDate(string):\n",
    "    '''\n",
    "    This function tries to fetch a date (day, month and year) from a string via datetime library. \n",
    "    \n",
    "    If it fails, it'll try to identify these elements from a string in the format YYYY-mm-dd.\n",
    "    '''\n",
    "    string = str(string)\n",
    "    if string.lower() == 'nan':\n",
    "        return (np.NAN, np.NAN)\n",
    "    \n",
    "    try:\n",
    "        date = datetime.datetime.strptime(string, '%Y-%m-%d')\n",
    "        return (date.month, date.year)\n",
    "    \n",
    "    except:\n",
    "        str_list = string.split('-')\n",
    "        year = str_list[0]\n",
    "        month = str_list[1]\n",
    "        \n",
    "        return (month, year)\n",
    "        "
   ]
  },
  {
   "cell_type": "code",
   "execution_count": 46,
   "metadata": {
    "ExecuteTime": {
     "end_time": "2021-10-26T23:45:50.556348Z",
     "start_time": "2021-10-26T23:45:50.392034Z"
    }
   },
   "outputs": [],
   "source": [
    "# poliqueta2['determined_month'] = poliqueta2['Determined date 1'].apply(lambda x: fetchDate(x)[0])\n",
    "poliqueta2['start_month'] = poliqueta2['Start Date'].apply(lambda x: fetchDate(x)[0])\n",
    "poliqueta2['cataloged_month'] = poliqueta2['Cataloged Date'].apply(lambda x: fetchDate(x)[0])\n",
    "\n",
    "# poliqueta['determined_year'] = poliqueta['Determined date 1'].apply(lambda x: fetchDate(x)[1])\n",
    "poliqueta2['start_year'] = poliqueta2['Start Date'].apply(lambda x: fetchDate(x)[1])\n",
    "poliqueta2['cataloged_year'] = poliqueta2['Cataloged Date'].apply(lambda x: fetchDate(x)[1])"
   ]
  },
  {
   "cell_type": "markdown",
   "metadata": {},
   "source": [
    "converting to int"
   ]
  },
  {
   "cell_type": "code",
   "execution_count": 47,
   "metadata": {
    "ExecuteTime": {
     "end_time": "2021-10-26T23:45:50.561836Z",
     "start_time": "2021-10-26T23:45:50.558156Z"
    }
   },
   "outputs": [],
   "source": [
    "def str_with_nan2int(string):\n",
    "    try:\n",
    "        if not np.isnan(string):\n",
    "            return int(string)\n",
    "        else:\n",
    "            return np.NAN\n",
    "    except:\n",
    "        if str(string).lower() == 'nan':\n",
    "            return np.NaN\n",
    "        else:\n",
    "            return int(str(string))"
   ]
  },
  {
   "cell_type": "code",
   "execution_count": 48,
   "metadata": {
    "ExecuteTime": {
     "end_time": "2021-10-26T23:45:50.652365Z",
     "start_time": "2021-10-26T23:45:50.563757Z"
    }
   },
   "outputs": [],
   "source": [
    "# poliqueta2['determined_month'] = poliqueta2['determined_month'].apply(str_with_nan2int) #has NaN\n",
    "poliqueta2['start_month'] = poliqueta2['start_month'].apply(str_with_nan2int) #has NaN\n",
    "poliqueta2['cataloged_month'] = poliqueta2['cataloged_month'].apply(str_with_nan2int) #has NaN\n",
    "\n",
    "# poliqueta2['determined_year'] = poliqueta2['determined_year'].apply(str_with_nan2int) #has NaN\n",
    "poliqueta2['start_year'] = poliqueta2['start_year'].apply(str_with_nan2int) #has NaN\n",
    "poliqueta2['cataloged_year'] = poliqueta2['cataloged_year'].apply(str_with_nan2int) #has NaN"
   ]
  },
  {
   "cell_type": "markdown",
   "metadata": {},
   "source": [
    "<br>\n",
    "\n",
    "## Adjusting `Depth` columns\n",
    "\n",
    "<font color='red'>**p.s.:** I'm assuming it's all on the same measure unit (in meters) </font>"
   ]
  },
  {
   "cell_type": "code",
   "execution_count": 49,
   "metadata": {
    "ExecuteTime": {
     "end_time": "2021-10-26T23:45:50.704204Z",
     "start_time": "2021-10-26T23:45:50.654000Z"
    }
   },
   "outputs": [],
   "source": [
    "poliqueta2['min_depth'] = poliqueta2['Min Depth'].astype(float)\n",
    "poliqueta2['max_depth'] = poliqueta2['Max Depth'].astype(float)"
   ]
  },
  {
   "cell_type": "markdown",
   "metadata": {},
   "source": [
    "<br>\n",
    "\n",
    "## Adjusting Latitude and Longitude"
   ]
  },
  {
   "cell_type": "code",
   "execution_count": 50,
   "metadata": {
    "ExecuteTime": {
     "end_time": "2021-10-26T23:45:50.752115Z",
     "start_time": "2021-10-26T23:45:50.706189Z"
    }
   },
   "outputs": [],
   "source": [
    "poliqueta2['Latitude'] = poliqueta2['Latitude1'].apply(convert2float)\n",
    "poliqueta2['Longitude'] = poliqueta2['Longitude1'].apply(convert2float)"
   ]
  },
  {
   "cell_type": "markdown",
   "metadata": {},
   "source": [
    "<br>\n",
    "\n",
    "## Adjusting locality columns"
   ]
  },
  {
   "cell_type": "markdown",
   "metadata": {},
   "source": [
    "Continent\n",
    "WaterBody\n",
    "Country\n",
    "State\n",
    "County\n",
    "Locality Name"
   ]
  },
  {
   "cell_type": "code",
   "execution_count": 51,
   "metadata": {
    "ExecuteTime": {
     "end_time": "2021-10-26T23:45:50.817948Z",
     "start_time": "2021-10-26T23:45:50.753837Z"
    }
   },
   "outputs": [],
   "source": [
    "# removing unnecessary spaces from Country column\n",
    "poliqueta2['Country'] = poliqueta2['Country'].apply(lambda x:str(x).strip())"
   ]
  },
  {
   "cell_type": "markdown",
   "metadata": {},
   "source": [
    "### treating continent"
   ]
  },
  {
   "cell_type": "code",
   "execution_count": 52,
   "metadata": {
    "ExecuteTime": {
     "end_time": "2021-10-26T23:45:50.864050Z",
     "start_time": "2021-10-26T23:45:50.819690Z"
    }
   },
   "outputs": [],
   "source": [
    "def correct_continent(string):\n",
    "    string = str(string)\n",
    "\n",
    "    continent_correction = {\n",
    "        'America Central':'Central America',\n",
    "        'Asia Oriental':'Asia',  # there's just one register of Asia Oriental\n",
    "        'European':'Europe',\n",
    "    }\n",
    "    \n",
    "    if string in continent_correction.keys():\n",
    "        return continent_correction[string]  # returns corrected continent\n",
    "    else:\n",
    "        return string"
   ]
  },
  {
   "cell_type": "code",
   "execution_count": 53,
   "metadata": {
    "ExecuteTime": {
     "end_time": "2021-10-26T23:45:50.915255Z",
     "start_time": "2021-10-26T23:45:50.868363Z"
    }
   },
   "outputs": [],
   "source": [
    "poliqueta2['Continent'] = poliqueta2['Continent'].str.strip().apply(correct_continent).value_counts()"
   ]
  },
  {
   "cell_type": "markdown",
   "metadata": {},
   "source": [
    "### treating State column"
   ]
  },
  {
   "cell_type": "code",
   "execution_count": 54,
   "metadata": {
    "ExecuteTime": {
     "end_time": "2021-10-26T23:45:50.977041Z",
     "start_time": "2021-10-26T23:45:50.917060Z"
    }
   },
   "outputs": [],
   "source": [
    "def remove_accents(string):\n",
    "    string = str(string).strip()\n",
    "    \n",
    "    return unidecode.unidecode(string)"
   ]
  },
  {
   "cell_type": "code",
   "execution_count": 55,
   "metadata": {
    "ExecuteTime": {
     "end_time": "2021-10-26T23:45:51.029972Z",
     "start_time": "2021-10-26T23:45:50.978703Z"
    }
   },
   "outputs": [],
   "source": [
    "poliqueta2['State'] = poliqueta2['State'].str.strip().apply(remove_accents).value_counts()"
   ]
  },
  {
   "cell_type": "code",
   "execution_count": 56,
   "metadata": {
    "ExecuteTime": {
     "end_time": "2021-10-26T23:45:51.067578Z",
     "start_time": "2021-10-26T23:45:51.032017Z"
    }
   },
   "outputs": [],
   "source": [
    "# other columns will remain the same, while further treatment doesn't seem necessary"
   ]
  },
  {
   "cell_type": "markdown",
   "metadata": {},
   "source": [
    "<br>\n",
    "\n",
    "## Adjusting Types"
   ]
  },
  {
   "cell_type": "code",
   "execution_count": 57,
   "metadata": {
    "ExecuteTime": {
     "end_time": "2021-10-26T23:45:51.135423Z",
     "start_time": "2021-10-26T23:45:51.069185Z"
    }
   },
   "outputs": [],
   "source": [
    "# inserir depois (Ainda não foi necessário)\n",
    "# poliqueta['Type Status 1'].str.strip().str.lower().str.capitalize()"
   ]
  },
  {
   "cell_type": "markdown",
   "metadata": {},
   "source": [
    "<br>\n",
    "\n",
    "## Adjusting `Order` column"
   ]
  },
  {
   "cell_type": "code",
   "execution_count": 58,
   "metadata": {
    "ExecuteTime": {
     "end_time": "2021-10-26T23:45:51.181133Z",
     "start_time": "2021-10-26T23:45:51.137114Z"
    }
   },
   "outputs": [],
   "source": [
    "def correct_order(order):\n",
    "    order = str(order)\n",
    "    \n",
    "    if order.lower() == 'nan':\n",
    "        return np.NAN\n",
    "    else:\n",
    "        return order.strip().capitalize()"
   ]
  },
  {
   "cell_type": "code",
   "execution_count": 59,
   "metadata": {
    "ExecuteTime": {
     "end_time": "2021-10-26T23:45:51.243826Z",
     "start_time": "2021-10-26T23:45:51.182908Z"
    }
   },
   "outputs": [],
   "source": [
    "poliqueta2['Order 1'] = poliqueta2['Order 1'].apply(correct_order)"
   ]
  },
  {
   "cell_type": "markdown",
   "metadata": {},
   "source": [
    "<br>\n",
    "\n",
    "## Selecting Subset of Main DB"
   ]
  },
  {
   "cell_type": "code",
   "execution_count": 60,
   "metadata": {
    "ExecuteTime": {
     "end_time": "2021-10-26T23:45:51.306806Z",
     "start_time": "2021-10-26T23:45:51.246137Z"
    }
   },
   "outputs": [],
   "source": [
    "# Não tem Determined Date\n",
    "selected_columns = ['Catalog Number','Cataloged Date','Start Date',\n",
    "                    'start_year', 'start_month',\n",
    "                    'cataloged_month', 'cataloged_year',\n",
    "                    'Class 1','Kingdom', \n",
    "                    'Genus 1', 'Species 1', 'Family 1', 'Phylum 1','Order 1','Type Status 1',\n",
    "                    'Species Author 1','Determiner Last Name1','Determiner First Name1',\n",
    "                    'DeterminerFirst_and_LastName', #'DeterminerFirst_and_LastName2', 'Species Author Year 1',\n",
    "                    'CollectorFirst_and_LastName','CollectorFirst_and_LastName2',\n",
    "                    'CollectorFirst_and_LastName3', 'CollectorFirst_and_LastName4',\n",
    "                    'Collector First Name 1', 'Collector Last Name 1',\n",
    "                    'Qualifier 1', 'min_depth', 'max_depth',\n",
    "                    'Latitude', 'Longitude', 'Continent',\n",
    "                    'WaterBody', 'Country', 'State', 'County', 'Locality Name']"
   ]
  },
  {
   "cell_type": "code",
   "execution_count": 61,
   "metadata": {
    "ExecuteTime": {
     "end_time": "2021-10-26T23:45:51.357626Z",
     "start_time": "2021-10-26T23:45:51.308414Z"
    }
   },
   "outputs": [],
   "source": [
    "NewTable2 = poliqueta2[selected_columns].copy()"
   ]
  },
  {
   "cell_type": "markdown",
   "metadata": {},
   "source": [
    "## Renaming columns\n",
    "\n",
    "Setting new standardized column names to facilitate future steps."
   ]
  },
  {
   "cell_type": "code",
   "execution_count": 62,
   "metadata": {
    "ExecuteTime": {
     "end_time": "2021-10-26T23:45:51.419571Z",
     "start_time": "2021-10-26T23:45:51.359267Z"
    }
   },
   "outputs": [],
   "source": [
    "renames = {\n",
    "    'Catalog Number':'catalog_number',\n",
    "    'Cataloged Date':'cataloged_date',\n",
    "    'Determined Date 1':'determined_date',\n",
    "    'Class 1':'class',\n",
    "    'Kingdom':'kingdom',\n",
    "    'Genus 1':'genus',\n",
    "    'Species 1':'species',\n",
    "    'Family 1':'family',\n",
    "    'Phylum 1':'phylum',\n",
    "    'Subespecie_atual':'subespecie_atual',\n",
    "    'Type Status 1':'type',\n",
    "    'Order 1':'order',\n",
    "    'Species Author 1':'author',\n",
    "    'Species Author Year 1':'author_year',\n",
    "    'Determiner Last Name1':'determiner_last_name',\n",
    "    'Determiner First Name1':'determiner_first_name',\n",
    "    'Collector First Name 1':'collector_first_name',\n",
    "    'Collector Last Name 1':'collector_last_name',\n",
    "    'Qualifier 1':'qualifier',\n",
    "    'Latitude':'lat',\n",
    "    'Longitude':'long', \n",
    "    'Continent':'continent',\n",
    "    'WaterBody':'water_body',\n",
    "    'Country':'country',\n",
    "    'State':'state',\n",
    "    'County':'county',\n",
    "    'Locality Name':'locality',\n",
    "    'CollectorFirst_and_LastName':'collector_full_name',  # first database only has first and last names...\n",
    "    'CollectorFirst_and_LastName2':'collector_full_name2',  \n",
    "    'CollectorFirst_and_LastName3':'collector_full_name3',\n",
    "    'CollectorFirst_and_LastName4':'collector_full_name4',\n",
    "    'DeterminerFirst_and_LastName':'determiner_full_name',  # first database only has first and last names...\n",
    "    'DeterminerFirst_and_LastName2':'determiner_full_name2'  # first database only has first and last names...\n",
    "}"
   ]
  },
  {
   "cell_type": "code",
   "execution_count": 63,
   "metadata": {
    "ExecuteTime": {
     "end_time": "2021-10-26T23:45:51.479096Z",
     "start_time": "2021-10-26T23:45:51.421422Z"
    }
   },
   "outputs": [],
   "source": [
    "NewTable2 = NewTable2.rename(columns=renames)"
   ]
  },
  {
   "cell_type": "markdown",
   "metadata": {},
   "source": [
    "<br>\n",
    "\n",
    "## Exporting to `CSV`\n",
    "\n",
    "name: <font color='blue'>./src/treated_db.csv</font>\n",
    "sep: ';'\n",
    "encoding: 'utf-8-sig'"
   ]
  },
  {
   "cell_type": "code",
   "execution_count": 64,
   "metadata": {
    "ExecuteTime": {
     "end_time": "2021-10-26T23:45:51.608122Z",
     "start_time": "2021-10-26T23:45:51.480681Z"
    }
   },
   "outputs": [],
   "source": [
    "NewTable2.to_csv('./data/treated_db2.csv', sep=';', encoding='utf-8')"
   ]
  },
  {
   "cell_type": "markdown",
   "metadata": {},
   "source": [
    "-----\n",
    "\n",
    "<br>\n",
    "\n",
    "# Merging both databases\n",
    "\n",
    "p.s.: this will represent the whole 'poliqueta' collection "
   ]
  },
  {
   "cell_type": "code",
   "execution_count": 65,
   "metadata": {
    "ExecuteTime": {
     "end_time": "2021-10-26T23:45:51.616774Z",
     "start_time": "2021-10-26T23:45:51.609717Z"
    }
   },
   "outputs": [
    {
     "data": {
      "text/plain": [
       "{'Determined date 1',\n",
       " 'author_year',\n",
       " 'determined_month',\n",
       " 'determined_year',\n",
       " 'determiner_full_name1',\n",
       " 'determiner_full_name2'}"
      ]
     },
     "execution_count": 65,
     "metadata": {},
     "output_type": "execute_result"
    }
   ],
   "source": [
    "# merge NewTable and NewTable2\n",
    "set(NewTable.columns).difference(set(NewTable2.columns))"
   ]
  },
  {
   "cell_type": "code",
   "execution_count": 66,
   "metadata": {
    "ExecuteTime": {
     "end_time": "2021-10-26T23:45:51.681462Z",
     "start_time": "2021-10-26T23:45:51.618481Z"
    }
   },
   "outputs": [],
   "source": [
    "merged_table = pd.concat([NewTable, NewTable2], join='outer')"
   ]
  },
  {
   "cell_type": "code",
   "execution_count": 67,
   "metadata": {
    "ExecuteTime": {
     "end_time": "2021-10-26T23:45:51.711714Z",
     "start_time": "2021-10-26T23:45:51.683353Z"
    }
   },
   "outputs": [],
   "source": [
    "def create_prefix(catalog):\n",
    "    catalog = str(catalog)\n",
    "    \n",
    "    if 'IBUFRJ' in catalog.upper():\n",
    "        return 'IBUFRJ'\n",
    "    elif 'MNRJP' in catalog.upper():\n",
    "        return 'MNRJP'\n",
    "    else:\n",
    "        return None"
   ]
  },
  {
   "cell_type": "code",
   "execution_count": 68,
   "metadata": {
    "ExecuteTime": {
     "end_time": "2021-10-26T23:45:51.761373Z",
     "start_time": "2021-10-26T23:45:51.724066Z"
    }
   },
   "outputs": [],
   "source": [
    "# creating column collection_prefix IBUFRJ and MNRJP (to identify origin of that info.)\n",
    "merged_table['collection_prefix'] = merged_table['catalog_number'].apply(create_prefix)"
   ]
  },
  {
   "cell_type": "code",
   "execution_count": 69,
   "metadata": {
    "ExecuteTime": {
     "end_time": "2021-10-26T23:45:51.814816Z",
     "start_time": "2021-10-26T23:45:51.767472Z"
    }
   },
   "outputs": [],
   "source": [
    "# ajustando coluna de famílias\n",
    "#merged_table['family'] = merged_table['family'].apply(lambda x: x if str(x).lower() != 'nan' else 'Non-identified')"
   ]
  },
  {
   "cell_type": "code",
   "execution_count": 70,
   "metadata": {
    "ExecuteTime": {
     "end_time": "2021-10-26T23:45:52.136034Z",
     "start_time": "2021-10-26T23:45:51.818631Z"
    }
   },
   "outputs": [],
   "source": [
    "merged_table.to_csv('./data/merged_db.csv', sep=';', encoding='utf-8')"
   ]
  }
 ],
 "metadata": {
  "kernelspec": {
   "display_name": "Python 3",
   "language": "python",
   "name": "python3"
  },
  "language_info": {
   "codemirror_mode": {
    "name": "ipython",
    "version": 3
   },
   "file_extension": ".py",
   "mimetype": "text/x-python",
   "name": "python",
   "nbconvert_exporter": "python",
   "pygments_lexer": "ipython3",
   "version": "3.9.1"
  },
  "latex_envs": {
   "LaTeX_envs_menu_present": true,
   "autoclose": false,
   "autocomplete": true,
   "bibliofile": "biblio.bib",
   "cite_by": "apalike",
   "current_citInitial": 1,
   "eqLabelWithNumbers": true,
   "eqNumInitial": 1,
   "hotkeys": {
    "equation": "Ctrl-E",
    "itemize": "Ctrl-I"
   },
   "labels_anchors": false,
   "latex_user_defs": false,
   "report_style_numbering": false,
   "user_envs_cfg": false
  },
  "toc": {
   "base_numbering": 1,
   "nav_menu": {},
   "number_sections": true,
   "sideBar": true,
   "skip_h1_title": false,
   "title_cell": "Table of Contents",
   "title_sidebar": "Contents",
   "toc_cell": false,
   "toc_position": {},
   "toc_section_display": true,
   "toc_window_display": false
  },
  "varInspector": {
   "cols": {
    "lenName": 16,
    "lenType": 16,
    "lenVar": 40
   },
   "kernels_config": {
    "python": {
     "delete_cmd_postfix": "",
     "delete_cmd_prefix": "del ",
     "library": "var_list.py",
     "varRefreshCmd": "print(var_dic_list())"
    },
    "r": {
     "delete_cmd_postfix": ") ",
     "delete_cmd_prefix": "rm(",
     "library": "var_list.r",
     "varRefreshCmd": "cat(var_dic_list()) "
    }
   },
   "types_to_exclude": [
    "module",
    "function",
    "builtin_function_or_method",
    "instance",
    "_Feature"
   ],
   "window_display": false
  }
 },
 "nbformat": 4,
 "nbformat_minor": 4
}
