{
 "cells": [
  {
   "cell_type": "markdown",
   "metadata": {},
   "source": [
    "# Data Treatment (Poliqueta Database)\n",
    "\n",
    "In this notebook I'm doing all the data treatments and adjustments necessary to produce high quality visualizations. \n",
    "\n",
    "This notebook has an output <font color='blue'>treated_db.csv</font> with a subset of the original database properly treated.\n",
    "\n",
    "-----\n",
    "\n",
    "Specifically, for the `poliqueta` database, the files we'll read are <font color='blue'>IBUFRJ27.07.2020 - visualização.xlsx</font> and <font color='blue'>MNRJP27.07.2020 - visualização.xls</font>.\n",
    "\n",
    "\n",
    "-----\n",
    "\n",
    "<br>\n",
    "\n",
    "# IBUFRJ27.07.2020 - visualização.xlsx"
   ]
  },
  {
   "cell_type": "markdown",
   "metadata": {},
   "source": [
    "## Imports"
   ]
  },
  {
   "cell_type": "code",
   "execution_count": 1,
   "metadata": {
    "ExecuteTime": {
     "end_time": "2021-02-14T21:28:08.316898Z",
     "start_time": "2021-02-14T21:28:07.793244Z"
    }
   },
   "outputs": [],
   "source": [
    "import datetime\n",
    "import unidecode\n",
    "import numpy as np\n",
    "import pandas as pd\n",
    "\n",
    "from collections import defaultdict\n",
    "\n",
    "# quick visualizations for data analytics\n",
    "import seaborn as sns\n",
    "import matplotlib.pyplot as plt\n",
    "\n",
    "# proprietary functions in ./src/MNViz.py\n",
    "from src.MNViz import *"
   ]
  },
  {
   "cell_type": "markdown",
   "metadata": {},
   "source": [
    "## Importing data"
   ]
  },
  {
   "cell_type": "code",
   "execution_count": 2,
   "metadata": {
    "ExecuteTime": {
     "end_time": "2021-02-14T21:28:08.519254Z",
     "start_time": "2021-02-14T21:28:08.317981Z"
    }
   },
   "outputs": [
    {
     "name": "stdout",
     "output_type": "stream",
     "text": [
      "The excel file contains the following sheets: ['Planilha1', 'Planilha2']\n",
      "\n",
      "Database is in sheet: Planilha1\n"
     ]
    }
   ],
   "source": [
    "excel = pd.ExcelFile('./data/IBUFRJ27.07.2020 - visualização.xlsx')\n",
    "sheet_name = excel.sheet_names\n",
    "\n",
    "print('The excel file contains the following sheets:', sheet_name)\n",
    "print('\\nDatabase is in sheet:', sheet_name[0])"
   ]
  },
  {
   "cell_type": "code",
   "execution_count": 3,
   "metadata": {
    "ExecuteTime": {
     "end_time": "2021-02-14T21:28:11.919696Z",
     "start_time": "2021-02-14T21:28:08.520498Z"
    }
   },
   "outputs": [
    {
     "name": "stdout",
     "output_type": "stream",
     "text": [
      "The database has 4231 rows and 91 columns.\n"
     ]
    }
   ],
   "source": [
    "db = excel.parse(sheet_name[0], sep=';', encoding='utf-8-sig')\n",
    "poliqueta = db.copy()\n",
    "\n",
    "print(f'The database has {db.shape[0]} rows and {db.shape[1]} columns.')"
   ]
  },
  {
   "cell_type": "markdown",
   "metadata": {},
   "source": [
    "## Adjusting column names\n",
    "\n",
    "### removing '\\n', '\\t', and other special characters"
   ]
  },
  {
   "cell_type": "code",
   "execution_count": 4,
   "metadata": {
    "ExecuteTime": {
     "end_time": "2021-02-14T21:28:11.923328Z",
     "start_time": "2021-02-14T21:28:11.921074Z"
    }
   },
   "outputs": [],
   "source": [
    "poliqueta.columns = [str(col).replace(r'\\n','') for col in poliqueta.columns]"
   ]
  },
  {
   "cell_type": "markdown",
   "metadata": {
    "ExecuteTime": {
     "end_time": "2020-07-29T18:51:12.632272Z",
     "start_time": "2020-07-29T18:51:12.627636Z"
    }
   },
   "source": [
    "## Adjusting Determiners and Collectors Names"
   ]
  },
  {
   "cell_type": "markdown",
   "metadata": {},
   "source": [
    "<font color='red' size='5'>**p.s.:** Determiner Last Name 1 contains the FULL name of the Researcher </font>\n",
    "\n",
    "Determiner Last Name 2 is all empty."
   ]
  },
  {
   "cell_type": "code",
   "execution_count": 5,
   "metadata": {
    "ExecuteTime": {
     "end_time": "2021-02-14T21:28:11.971394Z",
     "start_time": "2021-02-14T21:28:11.924447Z"
    }
   },
   "outputs": [],
   "source": [
    "names_col = ['Collector Last Name 1', 'Collector First Name 1', \n",
    "             'Collector Last Name 2', 'Collector First Name 2', 'Collector Last Name 3', \n",
    "             'Collector First Name 3', 'Collector Last Name 4', 'Collector First Name 4']"
   ]
  },
  {
   "cell_type": "code",
   "execution_count": 6,
   "metadata": {
    "ExecuteTime": {
     "end_time": "2021-02-14T21:28:12.035871Z",
     "start_time": "2021-02-14T21:28:11.972551Z"
    }
   },
   "outputs": [],
   "source": [
    "for name_col in names_col:\n",
    "    if 'last' in name_col.lower():\n",
    "        poliqueta[name_col] = poliqueta[name_col].apply(lambda x: treat_names(x, pos='full'))\n",
    "    else:\n",
    "        poliqueta[name_col] = poliqueta[name_col].apply(treat_names)"
   ]
  },
  {
   "cell_type": "code",
   "execution_count": 7,
   "metadata": {
    "ExecuteTime": {
     "end_time": "2021-02-14T21:28:12.555864Z",
     "start_time": "2021-02-14T21:28:12.551995Z"
    }
   },
   "outputs": [],
   "source": [
    "def getFirstName(name, sep=';'):\n",
    "    name = str(name).split(sep)\n",
    "    if len(name) > 1:\n",
    "        return name[0].strip()\n",
    "    elif name[0] == 'nan':\n",
    "        return np.NAN\n",
    "    else:\n",
    "        return name[0].strip()\n",
    "    \n",
    "def getName(name, pos=0, sep=';'):\n",
    "    list_names = str(name).split(sep)\n",
    "    size = len(list_names)\n",
    "    if pos == 0:\n",
    "        return getFirstName(name, sep=sep)\n",
    "    elif pos == -1:\n",
    "        return list_names[pos]\n",
    "    elif size <= pos:\n",
    "        return np.NAN\n",
    "    else:\n",
    "        return list_names[pos].strip()"
   ]
  },
  {
   "cell_type": "code",
   "execution_count": 32,
   "metadata": {
    "ExecuteTime": {
     "end_time": "2021-02-14T21:34:40.842182Z",
     "start_time": "2021-02-14T21:34:40.823344Z"
    }
   },
   "outputs": [],
   "source": [
    "# there's more than one determiner in thar column, so I'm getting only the first one\n",
    "poliqueta['determiner_full_name'] = poliqueta['Determiner Last Name 1'].apply(getFirstName)\n",
    "poliqueta['determiner_full_name1'] = poliqueta['Determiner Last Name 1'].apply(lambda x: getName(x,pos=1))\n",
    "poliqueta['determiner_full_name2'] = poliqueta['Determiner Last Name 1'].apply(lambda x: getName(x,pos=1))"
   ]
  },
  {
   "cell_type": "markdown",
   "metadata": {},
   "source": [
    "### creating column joining First and Last names\n",
    "\n",
    "I'm doing this only for the first collectors and determiners"
   ]
  },
  {
   "cell_type": "code",
   "execution_count": 15,
   "metadata": {
    "ExecuteTime": {
     "end_time": "2021-02-14T21:32:24.671873Z",
     "start_time": "2021-02-14T21:32:24.662628Z"
    }
   },
   "outputs": [],
   "source": [
    "# repteis['DeterminatorFirst_and_LastName'] = repteis['DeterminatorFirstName1'] + ' ' + repteis['DeterminatorLastName1']\n",
    "\n",
    "poliqueta['CollectorFirst_and_LastName'] = poliqueta['Collector First Name 1'] + ' ' + poliqueta['Collector Last Name 1']\n",
    "poliqueta['CollectorFirst_and_LastName2'] = poliqueta['Collector First Name 2'] + ' ' + poliqueta['Collector Last Name 2']\n",
    "poliqueta['CollectorFirst_and_LastName3'] = poliqueta['Collector First Name 3'] + ' ' + poliqueta['Collector Last Name 3']\n",
    "poliqueta['CollectorFirst_and_LastName4'] = poliqueta['Collector First Name 4'] + ' ' + poliqueta['Collector Last Name 4']"
   ]
  },
  {
   "cell_type": "markdown",
   "metadata": {},
   "source": [
    "## Treating taxon columns"
   ]
  },
  {
   "cell_type": "code",
   "execution_count": 16,
   "metadata": {
    "ExecuteTime": {
     "end_time": "2021-02-14T21:32:27.366947Z",
     "start_time": "2021-02-14T21:32:27.324365Z"
    }
   },
   "outputs": [
    {
     "name": "stdout",
     "output_type": "stream",
     "text": [
      "Adjusting column Kingdom\n",
      "Adjusting column Phylum 1\n",
      "Adjusting column Class 1\n",
      "Adjusting column Order 1\n",
      "Adjusting column Family 1\n",
      "Adjusting column Genus 1\n",
      "Adjusting column Species 1\n"
     ]
    }
   ],
   "source": [
    "taxon_columns = ['Kingdom', 'Phylum 1', 'Class 1', 'Order 1', 'Family 1', 'Genus 1',\n",
    "                 'Species 1']  # selecting taxonomy columns\n",
    "\n",
    "treat_taxon_columns(poliqueta, taxon_columns)"
   ]
  },
  {
   "cell_type": "markdown",
   "metadata": {},
   "source": [
    "## Adjusting Genus and Species"
   ]
  },
  {
   "cell_type": "code",
   "execution_count": 17,
   "metadata": {
    "ExecuteTime": {
     "end_time": "2021-02-14T21:32:28.768513Z",
     "start_time": "2021-02-14T21:32:28.759276Z"
    }
   },
   "outputs": [],
   "source": [
    "# dica da Manoela: epiteto especifico deve ser todo minusculo (especie e subespecie, nesse caso)\n",
    "poliqueta['Species 1'] = poliqueta['Species 1'].str.lower()\n",
    "\n",
    "# genero é escrito com primeira letra maiúscula\n",
    "poliqueta['Genus 1'] = poliqueta['Genus 1'].str.lower().str.capitalize()"
   ]
  },
  {
   "cell_type": "markdown",
   "metadata": {
    "ExecuteTime": {
     "end_time": "2020-08-01T16:38:50.984971Z",
     "start_time": "2020-08-01T16:38:50.966700Z"
    }
   },
   "source": [
    "<br>\n",
    "\n",
    "## adding `Genero` and `Especie`together (they completely identify each animal's species)"
   ]
  },
  {
   "cell_type": "code",
   "execution_count": 18,
   "metadata": {
    "ExecuteTime": {
     "end_time": "2021-02-14T21:32:29.530857Z",
     "start_time": "2021-02-14T21:32:29.524413Z"
    }
   },
   "outputs": [],
   "source": [
    "poliqueta['genus_and_species'] = poliqueta['Genus 1'] + ' ' + poliqueta['Species 1']\n",
    "\n",
    "poliqueta['genus_and_species'] = poliqueta['genus_and_species'].str.lower().str.capitalize()"
   ]
  },
  {
   "cell_type": "markdown",
   "metadata": {},
   "source": [
    "## Catching Month and Year"
   ]
  },
  {
   "cell_type": "markdown",
   "metadata": {},
   "source": [
    "date_columns= ['Cataloged Date','Return Date','Determined date 1', 'Start Date]\n",
    "\n",
    "format: YYYY-mm-dd\n",
    "\n",
    "<font color='red'>Return Date is empty<font>"
   ]
  },
  {
   "cell_type": "code",
   "execution_count": 19,
   "metadata": {
    "ExecuteTime": {
     "end_time": "2021-02-14T21:32:34.365360Z",
     "start_time": "2021-02-14T21:32:34.362332Z"
    }
   },
   "outputs": [],
   "source": [
    "def fetchDate(string):\n",
    "    '''\n",
    "    This function tries to fetch a date (day, month and year) from a string via datetime library. \n",
    "    \n",
    "    If it fails, it'll try to identify these elements from a string in the format YYYY-mm-dd.\n",
    "    '''\n",
    "    string = str(string)\n",
    "    if string.lower() == 'nan':\n",
    "        return (np.NAN, np.NAN)\n",
    "    \n",
    "    try:\n",
    "        date = datetime.datetime.strptime(string, '%Y-%m-%d')\n",
    "        return (date.month, date.year)\n",
    "    \n",
    "    except:\n",
    "        str_list = string.split('-')\n",
    "        year = str_list[0]\n",
    "        month = str_list[1]\n",
    "        \n",
    "        return (month, year)\n",
    "        "
   ]
  },
  {
   "cell_type": "code",
   "execution_count": 23,
   "metadata": {
    "ExecuteTime": {
     "end_time": "2021-02-14T21:33:25.138540Z",
     "start_time": "2021-02-14T21:33:25.020535Z"
    }
   },
   "outputs": [],
   "source": [
    "poliqueta['determined_month'] = poliqueta['Determined date 1'].apply(lambda x: fetchDate(x)[0])\n",
    "poliqueta['start_month'] = poliqueta['Start Date'].apply(lambda x: fetchDate(x)[0])\n",
    "poliqueta['cataloged_month'] = poliqueta['Cataloged Date'].apply(lambda x: fetchDate(x)[0])\n",
    "\n",
    "poliqueta['determined_year'] = poliqueta['Determined date 1'].apply(lambda x: fetchDate(x)[1])\n",
    "poliqueta['start_year'] = poliqueta['Start Date'].apply(lambda x: fetchDate(x)[1])\n",
    "poliqueta['cataloged_year'] = poliqueta['Cataloged Date'].apply(lambda x: fetchDate(x)[1])"
   ]
  },
  {
   "cell_type": "markdown",
   "metadata": {},
   "source": [
    "converting to int"
   ]
  },
  {
   "cell_type": "code",
   "execution_count": 24,
   "metadata": {
    "ExecuteTime": {
     "end_time": "2021-02-14T21:33:27.102459Z",
     "start_time": "2021-02-14T21:33:27.097082Z"
    }
   },
   "outputs": [],
   "source": [
    "def str_with_nan2int(string):\n",
    "    try:\n",
    "        if not np.isnan(string):\n",
    "            return int(string)\n",
    "        else:\n",
    "            return np.NAN\n",
    "    except:\n",
    "        if str(string).lower() == 'nan':\n",
    "            return np.NaN\n",
    "        else:\n",
    "            return int(str(string))"
   ]
  },
  {
   "cell_type": "code",
   "execution_count": 25,
   "metadata": {
    "ExecuteTime": {
     "end_time": "2021-02-14T21:33:27.487403Z",
     "start_time": "2021-02-14T21:33:27.423985Z"
    }
   },
   "outputs": [],
   "source": [
    "poliqueta['determined_month'] = poliqueta['determined_month'].apply(str_with_nan2int) #has NaN\n",
    "poliqueta['start_month'] = poliqueta['start_month'].apply(str_with_nan2int) #has NaN\n",
    "poliqueta['cataloged_month'] = poliqueta['cataloged_month'].apply(str_with_nan2int) #has NaN\n",
    "\n",
    "poliqueta['determined_year'] = poliqueta['determined_year'].apply(str_with_nan2int) #has NaN\n",
    "poliqueta['start_year'] = poliqueta['start_year'].apply(str_with_nan2int) #has NaN\n",
    "poliqueta['cataloged_year'] = poliqueta['cataloged_year'].apply(str_with_nan2int) #has NaN"
   ]
  },
  {
   "cell_type": "markdown",
   "metadata": {},
   "source": [
    "<br>\n",
    "\n",
    "## Adjusting `Depth` columns\n",
    "\n",
    "<font color='red'>**p.s.:** I'm assuming it's all on the same measure unit (in meters) </font>"
   ]
  },
  {
   "cell_type": "code",
   "execution_count": 26,
   "metadata": {
    "ExecuteTime": {
     "end_time": "2021-02-14T21:33:31.213719Z",
     "start_time": "2021-02-14T21:33:31.207660Z"
    }
   },
   "outputs": [],
   "source": [
    "poliqueta['min_depth'] = poliqueta['Min Depth'].astype(float)\n",
    "poliqueta['max_depth'] = poliqueta['Max Depth'].astype(float)"
   ]
  },
  {
   "cell_type": "markdown",
   "metadata": {},
   "source": [
    "<br>\n",
    "\n",
    "## Adjusting Latitude and Longitude"
   ]
  },
  {
   "cell_type": "code",
   "execution_count": 27,
   "metadata": {
    "ExecuteTime": {
     "end_time": "2021-02-14T21:33:32.172292Z",
     "start_time": "2021-02-14T21:33:32.164409Z"
    }
   },
   "outputs": [],
   "source": [
    "poliqueta['Latitude'] = poliqueta['Latitude'].apply(convert2float)\n",
    "poliqueta['Longitude'] = poliqueta['Longitude'].apply(convert2float)"
   ]
  },
  {
   "cell_type": "markdown",
   "metadata": {},
   "source": [
    "<br>\n",
    "\n",
    "## Adjusting locality columns"
   ]
  },
  {
   "cell_type": "markdown",
   "metadata": {},
   "source": [
    "Continent\n",
    "WaterBody\n",
    "Country\n",
    "State\n",
    "County\n",
    "Locality Name"
   ]
  },
  {
   "cell_type": "code",
   "execution_count": 28,
   "metadata": {
    "ExecuteTime": {
     "end_time": "2021-02-14T21:33:33.382092Z",
     "start_time": "2021-02-14T21:33:33.377863Z"
    }
   },
   "outputs": [],
   "source": [
    "# colunas estão boas. Inserir tratamento depois, se necessário"
   ]
  },
  {
   "cell_type": "markdown",
   "metadata": {},
   "source": [
    "<br>\n",
    "\n",
    "## Adjusting Types"
   ]
  },
  {
   "cell_type": "code",
   "execution_count": 29,
   "metadata": {
    "ExecuteTime": {
     "end_time": "2021-02-14T21:33:35.326648Z",
     "start_time": "2021-02-14T21:33:35.321766Z"
    }
   },
   "outputs": [],
   "source": [
    "# inserir depois (Ainda não foi necessário)\n",
    "# poliqueta['Type Status 1'].str.strip().str.lower().str.capitalize()"
   ]
  },
  {
   "cell_type": "markdown",
   "metadata": {},
   "source": [
    "<br>\n",
    "\n",
    "## Adjusting `Order` column"
   ]
  },
  {
   "cell_type": "code",
   "execution_count": 30,
   "metadata": {
    "ExecuteTime": {
     "end_time": "2021-02-14T21:33:36.206093Z",
     "start_time": "2021-02-14T21:33:36.200064Z"
    }
   },
   "outputs": [],
   "source": [
    "def correct_order(order):\n",
    "    order = str(order)\n",
    "    \n",
    "    if order.lower() == 'nan':\n",
    "        return np.NAN\n",
    "    else:\n",
    "        return order.strip().capitalize()"
   ]
  },
  {
   "cell_type": "code",
   "execution_count": 31,
   "metadata": {
    "ExecuteTime": {
     "end_time": "2021-02-14T21:33:37.713352Z",
     "start_time": "2021-02-14T21:33:37.709096Z"
    }
   },
   "outputs": [],
   "source": [
    "poliqueta['Order 1'] = poliqueta['Order 1'].apply(correct_order)"
   ]
  },
  {
   "cell_type": "markdown",
   "metadata": {},
   "source": [
    "<br>\n",
    "\n",
    "## Selecting Subset of Main DB"
   ]
  },
  {
   "cell_type": "code",
   "execution_count": 35,
   "metadata": {
    "ExecuteTime": {
     "end_time": "2021-02-14T21:35:57.392127Z",
     "start_time": "2021-02-14T21:35:57.389533Z"
    }
   },
   "outputs": [],
   "source": [
    "# 'genero_e_especie_ent', 'genero_e_especie_atual'\n",
    "selected_columns = ['Catalog Number','Cataloged Date','Determined date 1','Start Date',\n",
    "                    'start_year', 'start_month', 'determined_year', 'determined_month',\n",
    "                    'cataloged_month', 'cataloged_year',\n",
    "                    'Class 1','Kingdom', \n",
    "                    'Genus 1', 'Species 1', 'Family 1', 'Phylum 1','Order 1','Type Status 1',\n",
    "                    'Species Author 1', 'Species Author Year 1','determiner_full_name',\n",
    "                    'determiner_full_name1','determiner_full_name2',\n",
    "                    'CollectorFirst_and_LastName', 'CollectorFirst_and_LastName2',\n",
    "                    'CollectorFirst_and_LastName3','CollectorFirst_and_LastName4',\n",
    "                    'Collector First Name 1', 'Collector Last Name 1',\n",
    "                    'Qualifier 1', 'min_depth', 'max_depth',\n",
    "                    'Latitude', 'Longitude', 'Continent',\n",
    "                    'WaterBody', 'Country', 'State', 'County', 'Locality Name']"
   ]
  },
  {
   "cell_type": "code",
   "execution_count": 36,
   "metadata": {
    "ExecuteTime": {
     "end_time": "2021-02-14T21:35:57.804559Z",
     "start_time": "2021-02-14T21:35:57.794840Z"
    }
   },
   "outputs": [],
   "source": [
    "NewTable = poliqueta[selected_columns].copy()"
   ]
  },
  {
   "cell_type": "markdown",
   "metadata": {},
   "source": [
    "## Renaming columns\n",
    "\n",
    "Setting new standardized column names to facilitate future steps."
   ]
  },
  {
   "cell_type": "code",
   "execution_count": 38,
   "metadata": {
    "ExecuteTime": {
     "end_time": "2021-02-14T21:36:05.100805Z",
     "start_time": "2021-02-14T21:36:05.090836Z"
    }
   },
   "outputs": [],
   "source": [
    "renames = {\n",
    "    'Catalog Number':'catalog_number',\n",
    "    'Cataloged Date':'cataloged_date',\n",
    "    'Determined Date 1':'determined_date',\n",
    "    'Class 1':'class',\n",
    "    'Kingdom':'kingdom',\n",
    "    'Genus 1':'genus',\n",
    "    'Species 1':'species',\n",
    "    'Family 1':'family',\n",
    "    'Phylum 1':'phylum',\n",
    "    'Subespecie_atual':'subespecie_atual',\n",
    "    'Type Status 1':'type',\n",
    "    'Order 1':'order',\n",
    "    'Species Author 1':'author',\n",
    "    'Species Author Year 1':'author_year',\n",
    "#     'Determiner Last Name 1':'determiner_full_name',\n",
    "    'Collector First Name 1':'collector_first_name',\n",
    "    'Collector Last Name 1':'collector_last_name',\n",
    "    'Qualifier 1':'qualifier',\n",
    "    'Latitude':'lat',\n",
    "    'Longitude':'long', \n",
    "    'Continent':'continent',\n",
    "    'WaterBody':'water_body',\n",
    "    'Country':'country',\n",
    "    'State':'state',\n",
    "    'County':'county',\n",
    "    'Locality Name':'locality',\n",
    "    'CollectorFirst_and_LastName':'collector_full_name',\n",
    "    'CollectorFirst_and_LastName2':'collector_full_name2',\n",
    "    'CollectorFirst_and_LastName3':'collector_full_name3',\n",
    "    'CollectorFirst_and_LastName4':'collector_full_name4'\n",
    "}"
   ]
  },
  {
   "cell_type": "code",
   "execution_count": 39,
   "metadata": {
    "ExecuteTime": {
     "end_time": "2021-02-14T21:36:05.686171Z",
     "start_time": "2021-02-14T21:36:05.677040Z"
    }
   },
   "outputs": [],
   "source": [
    "NewTable = NewTable.rename(columns=renames)"
   ]
  },
  {
   "cell_type": "markdown",
   "metadata": {},
   "source": [
    "<br>\n",
    "\n",
    "## Exporting to `CSV`\n",
    "\n",
    "name: <font color='blue'>./src/treated_db.csv</font>\n",
    "sep: ';'\n",
    "encoding: 'utf-8-sig'"
   ]
  },
  {
   "cell_type": "code",
   "execution_count": 40,
   "metadata": {
    "ExecuteTime": {
     "end_time": "2021-02-14T21:36:07.448410Z",
     "start_time": "2021-02-14T21:36:07.321104Z"
    }
   },
   "outputs": [],
   "source": [
    "NewTable.to_csv('./data/treated_db.csv', sep=';', encoding='utf-8')"
   ]
  },
  {
   "cell_type": "markdown",
   "metadata": {},
   "source": [
    "-----\n",
    "\n",
    "<br>\n",
    "\n",
    "# MNRJP27.07.2020 - visualização.xls"
   ]
  },
  {
   "cell_type": "markdown",
   "metadata": {},
   "source": [
    "## Importing data"
   ]
  },
  {
   "cell_type": "code",
   "execution_count": 48,
   "metadata": {
    "ExecuteTime": {
     "end_time": "2021-02-14T21:36:56.633657Z",
     "start_time": "2021-02-14T21:36:56.330004Z"
    }
   },
   "outputs": [
    {
     "name": "stdout",
     "output_type": "stream",
     "text": [
      "The excel file contains the following sheets: ['Sheet0', 'Planilha1', 'Conferir coordenadas']\n",
      "\n",
      "Database is in sheet: Sheet0\n"
     ]
    }
   ],
   "source": [
    "excel = pd.ExcelFile('./data/MNRJP27.07.2020 - visualização.xls')\n",
    "sheet_name = excel.sheet_names\n",
    "\n",
    "print('The excel file contains the following sheets:', sheet_name)\n",
    "print('\\nDatabase is in sheet:', sheet_name[0])"
   ]
  },
  {
   "cell_type": "code",
   "execution_count": 49,
   "metadata": {
    "ExecuteTime": {
     "end_time": "2021-02-14T21:36:56.930618Z",
     "start_time": "2021-02-14T21:36:56.789112Z"
    }
   },
   "outputs": [
    {
     "name": "stdout",
     "output_type": "stream",
     "text": [
      "The database has 2692 rows and 93 columns.\n"
     ]
    }
   ],
   "source": [
    "db = excel.parse(sheet_name[0], sep=';', encoding='utf-8-sig')\n",
    "poliqueta2 = db.copy()\n",
    "\n",
    "print(f'The database has {db.shape[0]} rows and {db.shape[1]} columns.')"
   ]
  },
  {
   "cell_type": "markdown",
   "metadata": {},
   "source": [
    "## Adjusting column names\n",
    "\n",
    "### removing '\\n', '\\t', and other special characters"
   ]
  },
  {
   "cell_type": "code",
   "execution_count": 50,
   "metadata": {
    "ExecuteTime": {
     "end_time": "2021-02-14T21:36:58.158986Z",
     "start_time": "2021-02-14T21:36:58.153646Z"
    }
   },
   "outputs": [],
   "source": [
    "poliqueta2.columns = [str(col).replace(r'\\n','') for col in poliqueta2.columns]"
   ]
  },
  {
   "cell_type": "markdown",
   "metadata": {
    "ExecuteTime": {
     "end_time": "2020-07-29T18:51:12.632272Z",
     "start_time": "2020-07-29T18:51:12.627636Z"
    }
   },
   "source": [
    "## Adjusting Determiners and Collectors Names"
   ]
  },
  {
   "cell_type": "markdown",
   "metadata": {},
   "source": [
    "<font color='red' size='5'>**p.s.:** Determiner Last Name 1 contains the FULL name of the Researcher </font>\n",
    "\n",
    "Determiner Last Name 2 is all empty."
   ]
  },
  {
   "cell_type": "code",
   "execution_count": 51,
   "metadata": {
    "ExecuteTime": {
     "end_time": "2021-02-14T21:36:59.118861Z",
     "start_time": "2021-02-14T21:36:59.113455Z"
    }
   },
   "outputs": [],
   "source": [
    "names_col = ['Collector Last Name 1', 'Collector First Name 1', \n",
    "             'Collector Last Name 2', 'Collector First Name 2', 'Collector Last Name 3', \n",
    "             'Collector First Name 3', 'Collector Last Name 4', 'Collector First Name 4']"
   ]
  },
  {
   "cell_type": "code",
   "execution_count": 52,
   "metadata": {
    "ExecuteTime": {
     "end_time": "2021-02-14T21:36:59.648268Z",
     "start_time": "2021-02-14T21:36:59.623699Z"
    }
   },
   "outputs": [],
   "source": [
    "for name_col in names_col:\n",
    "    if 'last' in name_col.lower():\n",
    "        poliqueta2[name_col] = poliqueta2[name_col].apply(lambda x: treat_names(x, pos='full'))\n",
    "    else:\n",
    "        poliqueta2[name_col] = poliqueta2[name_col].apply(treat_names)"
   ]
  },
  {
   "cell_type": "code",
   "execution_count": 62,
   "metadata": {
    "ExecuteTime": {
     "end_time": "2021-02-14T21:40:08.762939Z",
     "start_time": "2021-02-14T21:40:08.750577Z"
    }
   },
   "outputs": [],
   "source": [
    "poliqueta2['Determiner First Name1'] = poliqueta2['Determiner First Name1'].str.strip().str.lower().str.capitalize()\n",
    "poliqueta2['Determiner Last Name1'] = poliqueta2['Determiner Last Name1'].str.strip().str.lower().str.capitalize()\n",
    "\n",
    "poliqueta2['Determiner First Name 2'] = poliqueta2['Determiner First Name 2'].str.strip().str.lower().str.capitalize()\n",
    "poliqueta2['Determiner Last Name 2'] = poliqueta2['Determiner Last Name 2'].str.strip().str.lower().str.capitalize()"
   ]
  },
  {
   "cell_type": "markdown",
   "metadata": {},
   "source": [
    "### creating column joining First and Last names\n",
    "\n",
    "I'm doing this only for the first collectors and determiners"
   ]
  },
  {
   "cell_type": "code",
   "execution_count": 66,
   "metadata": {
    "ExecuteTime": {
     "end_time": "2021-02-14T21:42:20.038267Z",
     "start_time": "2021-02-14T21:42:20.028376Z"
    }
   },
   "outputs": [],
   "source": [
    "poliqueta2['DeterminerFirst_and_LastName'] = poliqueta2['Determiner First Name1'] + ' ' + poliqueta2['Determiner Last Name1']\n",
    "poliqueta2['DeterminerFirst_and_LastName2'] = poliqueta2['Determiner First Name 2'] + ' ' + poliqueta2['Determiner Last Name 2']\n",
    "\n",
    "# collector columns\n",
    "poliqueta2['CollectorFirst_and_LastName'] = poliqueta2['Collector First Name 1'] + ' ' + poliqueta2['Collector Last Name 1']\n",
    "poliqueta2['CollectorFirst_and_LastName2'] = poliqueta2['Collector First Name 2'] + ' ' + poliqueta2['Collector Last Name 2']\n",
    "poliqueta2['CollectorFirst_and_LastName3'] = poliqueta2['Collector First Name 3'] + ' ' + poliqueta2['Collector Last Name 3']\n",
    "poliqueta2['CollectorFirst_and_LastName4'] = poliqueta2['Collector First Name 4'] + ' ' + poliqueta2['Collector Last Name 4']"
   ]
  },
  {
   "cell_type": "markdown",
   "metadata": {},
   "source": [
    "### joining first, middle and last names"
   ]
  },
  {
   "cell_type": "code",
   "execution_count": 71,
   "metadata": {
    "ExecuteTime": {
     "end_time": "2021-02-14T21:45:36.762480Z",
     "start_time": "2021-02-14T21:45:36.734244Z"
    }
   },
   "outputs": [],
   "source": [
    "poliqueta2['DeterminerFullName'] = poliqueta2['Determiner First Name1'] + ' ' + poliqueta2['DeterminerMiddle Name1'] + ' ' + poliqueta2['Determiner Last Name1']\n",
    "poliqueta2['DeterminerFullName2'] = poliqueta2['Determiner First Name 2'] + ' ' + poliqueta2['DeterminerMiddle Name 2'] + ' ' + poliqueta2['Determiner Last Name 2']\n",
    "\n",
    "# collector columns\n",
    "poliqueta2['CollectorFullName'] = poliqueta2['Collector First Name 1'] + ' ' + poliqueta2['CollectorMiddle Name 1'] + ' ' + poliqueta2['Collector Last Name 1']\n",
    "poliqueta2['CollectorFullName2'] = poliqueta2['Collector First Name 2'] + ' ' + poliqueta2['CollectorMiddle Name 2'] + ' ' + poliqueta2['Collector Last Name 2']\n",
    "poliqueta2['CollectorFullName3'] = poliqueta2['Collector First Name 3'] + ' ' + poliqueta2['CollectorMiddle Name 3'] + ' ' + poliqueta2['Collector Last Name 3']\n",
    "poliqueta2['CollectorFullName4'] = poliqueta2['Collector First Name 4'] + ' ' + poliqueta2['CollectorMiddle Name 4'] + ' ' + poliqueta2['Collector Last Name 4']"
   ]
  },
  {
   "cell_type": "markdown",
   "metadata": {},
   "source": [
    "## Treating taxon columns"
   ]
  },
  {
   "cell_type": "code",
   "execution_count": 72,
   "metadata": {
    "ExecuteTime": {
     "end_time": "2021-02-14T21:45:50.708247Z",
     "start_time": "2021-02-14T21:45:50.689128Z"
    }
   },
   "outputs": [
    {
     "name": "stdout",
     "output_type": "stream",
     "text": [
      "Adjusting column Kingdom\n",
      "Adjusting column Phylum 1\n",
      "Adjusting column Class 1\n",
      "Adjusting column Order 1\n",
      "Adjusting column Family 1\n",
      "Adjusting column Genus 1\n",
      "Adjusting column Species 1\n"
     ]
    }
   ],
   "source": [
    "taxon_columns = ['Kingdom', 'Phylum 1', 'Class 1', 'Order 1', 'Family 1', 'Genus 1',\n",
    "                 'Species 1']  # selecting taxonomy columns\n",
    "\n",
    "treat_taxon_columns(poliqueta2, taxon_columns)"
   ]
  },
  {
   "cell_type": "markdown",
   "metadata": {},
   "source": [
    "## Adjusting Genus and Species"
   ]
  },
  {
   "cell_type": "code",
   "execution_count": 73,
   "metadata": {
    "ExecuteTime": {
     "end_time": "2021-02-14T21:45:51.647818Z",
     "start_time": "2021-02-14T21:45:51.639492Z"
    }
   },
   "outputs": [],
   "source": [
    "# dica da Manoela: epiteto especifico deve ser todo minusculo (especie e subespecie, nesse caso)\n",
    "poliqueta2['Species 1'] = poliqueta2['Species 1'].str.lower()\n",
    "\n",
    "# gênero é escrito com primeira letra maiúscula\n",
    "poliqueta2['Genus 1'] = poliqueta2['Genus 1'].str.lower().str.capitalize()"
   ]
  },
  {
   "cell_type": "markdown",
   "metadata": {
    "ExecuteTime": {
     "end_time": "2020-08-01T16:38:50.984971Z",
     "start_time": "2020-08-01T16:38:50.966700Z"
    }
   },
   "source": [
    "<br>\n",
    "\n",
    "## adding `Genero` and `Especie`together (they completely identify each animal's species)"
   ]
  },
  {
   "cell_type": "code",
   "execution_count": 74,
   "metadata": {
    "ExecuteTime": {
     "end_time": "2021-02-14T21:45:53.354395Z",
     "start_time": "2021-02-14T21:45:53.345923Z"
    }
   },
   "outputs": [],
   "source": [
    "poliqueta2['genus_and_species'] = poliqueta2['Genus 1'] + ' ' + poliqueta2['Species 1']\n",
    "\n",
    "poliqueta2['genus_and_species'] = poliqueta2['genus_and_species'].str.lower().str.capitalize()"
   ]
  },
  {
   "cell_type": "markdown",
   "metadata": {},
   "source": [
    "## Catching Month and Year"
   ]
  },
  {
   "cell_type": "markdown",
   "metadata": {},
   "source": [
    "date_columns= ['Cataloged Date','Return Date','Determined date 1', 'Start Date]\n",
    "\n",
    "format: YYYY-mm-dd\n",
    "\n",
    "<font color='red'>Return Date is empty<font>"
   ]
  },
  {
   "cell_type": "code",
   "execution_count": 75,
   "metadata": {
    "ExecuteTime": {
     "end_time": "2021-02-14T21:45:55.404268Z",
     "start_time": "2021-02-14T21:45:55.398631Z"
    }
   },
   "outputs": [],
   "source": [
    "def fetchDate(string):\n",
    "    '''\n",
    "    This function tries to fetch a date (day, month and year) from a string via datetime library. \n",
    "    \n",
    "    If it fails, it'll try to identify these elements from a string in the format YYYY-mm-dd.\n",
    "    '''\n",
    "    string = str(string)\n",
    "    if string.lower() == 'nan':\n",
    "        return (np.NAN, np.NAN)\n",
    "    \n",
    "    try:\n",
    "        date = datetime.datetime.strptime(string, '%Y-%m-%d')\n",
    "        return (date.month, date.year)\n",
    "    \n",
    "    except:\n",
    "        str_list = string.split('-')\n",
    "        year = str_list[0]\n",
    "        month = str_list[1]\n",
    "        \n",
    "        return (month, year)\n",
    "        "
   ]
  },
  {
   "cell_type": "code",
   "execution_count": 81,
   "metadata": {
    "ExecuteTime": {
     "end_time": "2021-02-14T21:46:43.300579Z",
     "start_time": "2021-02-14T21:46:43.231968Z"
    }
   },
   "outputs": [],
   "source": [
    "# poliqueta2['determined_month'] = poliqueta2['Determined date 1'].apply(lambda x: fetchDate(x)[0])\n",
    "poliqueta2['start_month'] = poliqueta2['Start Date'].apply(lambda x: fetchDate(x)[0])\n",
    "poliqueta2['cataloged_month'] = poliqueta2['Cataloged Date'].apply(lambda x: fetchDate(x)[0])\n",
    "\n",
    "# poliqueta['determined_year'] = poliqueta['Determined date 1'].apply(lambda x: fetchDate(x)[1])\n",
    "poliqueta2['start_year'] = poliqueta2['Start Date'].apply(lambda x: fetchDate(x)[1])\n",
    "poliqueta2['cataloged_year'] = poliqueta2['Cataloged Date'].apply(lambda x: fetchDate(x)[1])"
   ]
  },
  {
   "cell_type": "markdown",
   "metadata": {},
   "source": [
    "converting to int"
   ]
  },
  {
   "cell_type": "code",
   "execution_count": 82,
   "metadata": {
    "ExecuteTime": {
     "end_time": "2021-02-14T21:46:43.642279Z",
     "start_time": "2021-02-14T21:46:43.638019Z"
    }
   },
   "outputs": [],
   "source": [
    "def str_with_nan2int(string):\n",
    "    try:\n",
    "        if not np.isnan(string):\n",
    "            return int(string)\n",
    "        else:\n",
    "            return np.NAN\n",
    "    except:\n",
    "        if str(string).lower() == 'nan':\n",
    "            return np.NaN\n",
    "        else:\n",
    "            return int(str(string))"
   ]
  },
  {
   "cell_type": "code",
   "execution_count": 83,
   "metadata": {
    "ExecuteTime": {
     "end_time": "2021-02-14T21:46:44.255529Z",
     "start_time": "2021-02-14T21:46:44.221229Z"
    }
   },
   "outputs": [],
   "source": [
    "# poliqueta2['determined_month'] = poliqueta2['determined_month'].apply(str_with_nan2int) #has NaN\n",
    "poliqueta2['start_month'] = poliqueta2['start_month'].apply(str_with_nan2int) #has NaN\n",
    "poliqueta2['cataloged_month'] = poliqueta2['cataloged_month'].apply(str_with_nan2int) #has NaN\n",
    "\n",
    "# poliqueta2['determined_year'] = poliqueta2['determined_year'].apply(str_with_nan2int) #has NaN\n",
    "poliqueta2['start_year'] = poliqueta2['start_year'].apply(str_with_nan2int) #has NaN\n",
    "poliqueta2['cataloged_year'] = poliqueta2['cataloged_year'].apply(str_with_nan2int) #has NaN"
   ]
  },
  {
   "cell_type": "markdown",
   "metadata": {},
   "source": [
    "<br>\n",
    "\n",
    "## Adjusting `Depth` columns\n",
    "\n",
    "<font color='red'>**p.s.:** I'm assuming it's all on the same measure unit (in meters) </font>"
   ]
  },
  {
   "cell_type": "code",
   "execution_count": 84,
   "metadata": {
    "ExecuteTime": {
     "end_time": "2021-02-14T21:46:45.804805Z",
     "start_time": "2021-02-14T21:46:45.798894Z"
    }
   },
   "outputs": [],
   "source": [
    "poliqueta2['min_depth'] = poliqueta2['Min Depth'].astype(float)\n",
    "poliqueta2['max_depth'] = poliqueta2['Max Depth'].astype(float)"
   ]
  },
  {
   "cell_type": "markdown",
   "metadata": {},
   "source": [
    "<br>\n",
    "\n",
    "## Adjusting Latitude and Longitude"
   ]
  },
  {
   "cell_type": "code",
   "execution_count": 85,
   "metadata": {
    "ExecuteTime": {
     "end_time": "2021-02-14T21:46:46.400353Z",
     "start_time": "2021-02-14T21:46:46.387185Z"
    }
   },
   "outputs": [],
   "source": [
    "poliqueta2['Latitude'] = poliqueta2['Latitude1'].apply(convert2float)\n",
    "poliqueta2['Longitude'] = poliqueta2['Longitude1'].apply(convert2float)"
   ]
  },
  {
   "cell_type": "markdown",
   "metadata": {},
   "source": [
    "<br>\n",
    "\n",
    "## Adjusting locality columns"
   ]
  },
  {
   "cell_type": "markdown",
   "metadata": {},
   "source": [
    "Continent\n",
    "WaterBody\n",
    "Country\n",
    "State\n",
    "County\n",
    "Locality Name"
   ]
  },
  {
   "cell_type": "code",
   "execution_count": 86,
   "metadata": {
    "ExecuteTime": {
     "end_time": "2021-02-14T21:46:48.446682Z",
     "start_time": "2021-02-14T21:46:48.444059Z"
    }
   },
   "outputs": [
    {
     "name": "stdout",
     "output_type": "stream",
     "text": [
      "Min Depth\n",
      "Max Depth\n",
      "min_depth\n",
      "max_depth\n"
     ]
    }
   ],
   "source": [
    "for col in poliqueta2.columns:\n",
    "    if 'depth' in col.lower():\n",
    "        print(col)"
   ]
  },
  {
   "cell_type": "markdown",
   "metadata": {},
   "source": [
    "### treating continent"
   ]
  },
  {
   "cell_type": "code",
   "execution_count": 87,
   "metadata": {
    "ExecuteTime": {
     "end_time": "2021-02-14T21:46:49.049261Z",
     "start_time": "2021-02-14T21:46:49.042568Z"
    }
   },
   "outputs": [],
   "source": [
    "def correct_continent(string):\n",
    "    string = str(string)\n",
    "\n",
    "    continent_correction = {\n",
    "        'America Central':'Central America',\n",
    "        'Asia Oriental':'Asia',  # there's just one register of Asia Oriental\n",
    "        'European':'Europe',\n",
    "    }\n",
    "    \n",
    "    if string in continent_correction.keys():\n",
    "        return continent_correction[string]  # returns corrected continent\n",
    "    else:\n",
    "        return string"
   ]
  },
  {
   "cell_type": "code",
   "execution_count": 88,
   "metadata": {
    "ExecuteTime": {
     "end_time": "2021-02-14T21:46:50.312819Z",
     "start_time": "2021-02-14T21:46:50.306030Z"
    }
   },
   "outputs": [],
   "source": [
    "poliqueta2['Continent'] = poliqueta2['Continent'].str.strip().apply(correct_continent).value_counts()"
   ]
  },
  {
   "cell_type": "markdown",
   "metadata": {},
   "source": [
    "### treating State column"
   ]
  },
  {
   "cell_type": "code",
   "execution_count": 89,
   "metadata": {
    "ExecuteTime": {
     "end_time": "2021-02-14T21:46:50.836326Z",
     "start_time": "2021-02-14T21:46:50.830976Z"
    }
   },
   "outputs": [],
   "source": [
    "def remove_accents(string):\n",
    "    string = str(string).strip()\n",
    "    \n",
    "    return unidecode.unidecode(string)"
   ]
  },
  {
   "cell_type": "code",
   "execution_count": 90,
   "metadata": {
    "ExecuteTime": {
     "end_time": "2021-02-14T21:46:51.227303Z",
     "start_time": "2021-02-14T21:46:51.116009Z"
    }
   },
   "outputs": [],
   "source": [
    "poliqueta2['State'] = poliqueta2['State'].str.strip().apply(remove_accents).value_counts()"
   ]
  },
  {
   "cell_type": "code",
   "execution_count": 91,
   "metadata": {
    "ExecuteTime": {
     "end_time": "2021-02-14T21:46:51.528272Z",
     "start_time": "2021-02-14T21:46:51.523593Z"
    }
   },
   "outputs": [],
   "source": [
    "# other columns will remain the same, while further treatment doesn't seem necessary"
   ]
  },
  {
   "cell_type": "markdown",
   "metadata": {},
   "source": [
    "<br>\n",
    "\n",
    "## Adjusting Types"
   ]
  },
  {
   "cell_type": "code",
   "execution_count": 92,
   "metadata": {
    "ExecuteTime": {
     "end_time": "2021-02-14T21:46:52.515751Z",
     "start_time": "2021-02-14T21:46:52.513986Z"
    }
   },
   "outputs": [],
   "source": [
    "# inserir depois (Ainda não foi necessário)\n",
    "# poliqueta['Type Status 1'].str.strip().str.lower().str.capitalize()"
   ]
  },
  {
   "cell_type": "markdown",
   "metadata": {},
   "source": [
    "<br>\n",
    "\n",
    "## Adjusting `Order` column"
   ]
  },
  {
   "cell_type": "code",
   "execution_count": 93,
   "metadata": {
    "ExecuteTime": {
     "end_time": "2021-02-14T21:46:53.801795Z",
     "start_time": "2021-02-14T21:46:53.796762Z"
    }
   },
   "outputs": [],
   "source": [
    "def correct_order(order):\n",
    "    order = str(order)\n",
    "    \n",
    "    if order.lower() == 'nan':\n",
    "        return np.NAN\n",
    "    else:\n",
    "        return order.strip().capitalize()"
   ]
  },
  {
   "cell_type": "code",
   "execution_count": 94,
   "metadata": {
    "ExecuteTime": {
     "end_time": "2021-02-14T21:46:54.054347Z",
     "start_time": "2021-02-14T21:46:54.048534Z"
    }
   },
   "outputs": [],
   "source": [
    "poliqueta2['Order 1'] = poliqueta2['Order 1'].apply(correct_order)"
   ]
  },
  {
   "cell_type": "markdown",
   "metadata": {},
   "source": [
    "<br>\n",
    "\n",
    "## Selecting Subset of Main DB"
   ]
  },
  {
   "cell_type": "code",
   "execution_count": 100,
   "metadata": {
    "ExecuteTime": {
     "end_time": "2021-02-14T21:51:02.235074Z",
     "start_time": "2021-02-14T21:51:02.232472Z"
    }
   },
   "outputs": [],
   "source": [
    "# Não tem Determined Date\n",
    "selected_columns = ['Catalog Number','Cataloged Date','Start Date',\n",
    "                    'start_year', 'start_month',\n",
    "                    'cataloged_month', 'cataloged_year',\n",
    "                    'Class 1','Kingdom', \n",
    "                    'Genus 1', 'Species 1', 'Family 1', 'Phylum 1','Order 1','Type Status 1',\n",
    "                    'Species Author 1', 'Species Author Year 1','Determiner Last Name1','Determiner First Name1',\n",
    "                    'DeterminerFirst_and_LastName', 'DeterminerFirst_and_LastName2',\n",
    "                    'CollectorFirst_and_LastName','CollectorFirst_and_LastName2',\n",
    "                    'CollectorFirst_and_LastName3', 'CollectorFirst_and_LastName4',\n",
    "                    'Collector First Name 1', 'Collector Last Name 1',\n",
    "                    'Qualifier 1', 'min_depth', 'max_depth',\n",
    "                    'Latitude', 'Longitude', 'Continent',\n",
    "                    'WaterBody', 'Country', 'State', 'County', 'Locality Name']"
   ]
  },
  {
   "cell_type": "code",
   "execution_count": 101,
   "metadata": {
    "ExecuteTime": {
     "end_time": "2021-02-14T21:51:03.702115Z",
     "start_time": "2021-02-14T21:51:03.691946Z"
    }
   },
   "outputs": [],
   "source": [
    "NewTable2 = poliqueta2[selected_columns].copy()"
   ]
  },
  {
   "cell_type": "markdown",
   "metadata": {},
   "source": [
    "## Renaming columns\n",
    "\n",
    "Setting new standardized column names to facilitate future steps."
   ]
  },
  {
   "cell_type": "code",
   "execution_count": 102,
   "metadata": {
    "ExecuteTime": {
     "end_time": "2021-02-14T21:51:04.565672Z",
     "start_time": "2021-02-14T21:51:04.560238Z"
    }
   },
   "outputs": [],
   "source": [
    "renames = {\n",
    "    'Catalog Number':'catalog_number',\n",
    "    'Cataloged Date':'cataloged_date',\n",
    "    'Determined Date 1':'determined_date',\n",
    "    'Class 1':'class',\n",
    "    'Kingdom':'kingdom',\n",
    "    'Genus 1':'genus',\n",
    "    'Species 1':'species',\n",
    "    'Family 1':'family',\n",
    "    'Phylum 1':'phylum',\n",
    "    'Subespecie_atual':'subespecie_atual',\n",
    "    'Type Status 1':'type',\n",
    "    'Order 1':'order',\n",
    "    'Species Author 1':'author',\n",
    "    'Species Author Year 1':'author_year',\n",
    "    'Determiner Last Name1':'determiner_last_name',\n",
    "    'Determiner First Name1':'determiner_first_name',\n",
    "    'Collector First Name 1':'collector_first_name',\n",
    "    'Collector Last Name 1':'collector_last_name',\n",
    "    'Qualifier 1':'qualifier',\n",
    "    'Latitude':'lat',\n",
    "    'Longitude':'long', \n",
    "    'Continent':'continent',\n",
    "    'WaterBody':'water_body',\n",
    "    'Country':'country',\n",
    "    'State':'state',\n",
    "    'County':'county',\n",
    "    'Locality Name':'locality',\n",
    "    'CollectorFirst_and_LastName':'collector_full_name',  # first database only has first and last names...\n",
    "    'CollectorFirst_and_LastName2':'collector_full_name2',  \n",
    "    'CollectorFirst_and_LastName3':'collector_full_name3',\n",
    "    'CollectorFirst_and_LastName4':'collector_full_name4',\n",
    "    'DeterminerFirst_and_LastName':'determiner_full_name',  # first database only has first and last names...\n",
    "    'DeterminerFirst_and_LastName2':'determiner_full_name2'  # first database only has first and last names...\n",
    "}"
   ]
  },
  {
   "cell_type": "code",
   "execution_count": 103,
   "metadata": {
    "ExecuteTime": {
     "end_time": "2021-02-14T21:51:06.246874Z",
     "start_time": "2021-02-14T21:51:06.238366Z"
    }
   },
   "outputs": [],
   "source": [
    "NewTable2 = NewTable2.rename(columns=renames)"
   ]
  },
  {
   "cell_type": "markdown",
   "metadata": {},
   "source": [
    "<br>\n",
    "\n",
    "## Exporting to `CSV`\n",
    "\n",
    "name: <font color='blue'>./src/treated_db.csv</font>\n",
    "sep: ';'\n",
    "encoding: 'utf-8-sig'"
   ]
  },
  {
   "cell_type": "code",
   "execution_count": 104,
   "metadata": {
    "ExecuteTime": {
     "end_time": "2021-02-14T21:51:06.990890Z",
     "start_time": "2021-02-14T21:51:06.937899Z"
    }
   },
   "outputs": [],
   "source": [
    "NewTable2.to_csv('./data/treated_db2.csv', sep=';', encoding='utf-8')"
   ]
  },
  {
   "cell_type": "markdown",
   "metadata": {},
   "source": [
    "-----\n",
    "\n",
    "<br>\n",
    "\n",
    "# Merging both databases\n",
    "\n",
    "p.s.: this will represent the whole 'poliqueta' collection "
   ]
  },
  {
   "cell_type": "code",
   "execution_count": 105,
   "metadata": {
    "ExecuteTime": {
     "end_time": "2021-02-14T21:51:09.029707Z",
     "start_time": "2021-02-14T21:51:09.024482Z"
    }
   },
   "outputs": [
    {
     "data": {
      "text/plain": [
       "{'Determined date 1',\n",
       " 'determined_month',\n",
       " 'determined_year',\n",
       " 'determiner_full_name1'}"
      ]
     },
     "execution_count": 105,
     "metadata": {},
     "output_type": "execute_result"
    }
   ],
   "source": [
    "# merge NewTable and NewTable2\n",
    "set(NewTable.columns).difference(set(NewTable2.columns))"
   ]
  },
  {
   "cell_type": "code",
   "execution_count": 106,
   "metadata": {
    "ExecuteTime": {
     "end_time": "2021-02-14T21:51:14.610713Z",
     "start_time": "2021-02-14T21:51:14.599233Z"
    }
   },
   "outputs": [],
   "source": [
    "merged_table = pd.concat([NewTable, NewTable2], join='outer')"
   ]
  },
  {
   "cell_type": "code",
   "execution_count": 107,
   "metadata": {
    "ExecuteTime": {
     "end_time": "2021-02-14T21:51:15.354690Z",
     "start_time": "2021-02-14T21:51:15.344291Z"
    }
   },
   "outputs": [],
   "source": [
    "def create_prefix(catalog):\n",
    "    catalog = str(catalog)\n",
    "    \n",
    "    if 'IBUFRJ' in catalog.upper():\n",
    "        return 'IBUFRJ'\n",
    "    elif 'MNRJP' in catalog.upper():\n",
    "        return 'MNRJP'\n",
    "    else:\n",
    "        return None"
   ]
  },
  {
   "cell_type": "code",
   "execution_count": 108,
   "metadata": {
    "ExecuteTime": {
     "end_time": "2021-02-14T21:51:15.980300Z",
     "start_time": "2021-02-14T21:51:15.965562Z"
    }
   },
   "outputs": [],
   "source": [
    "# creating column collection_prefix IBUFRJ and MNRJP (to identify origin of that info.)\n",
    "merged_table['collection_prefix'] = merged_table['catalog_number'].apply(create_prefix)"
   ]
  },
  {
   "cell_type": "code",
   "execution_count": 109,
   "metadata": {
    "ExecuteTime": {
     "end_time": "2021-02-14T21:51:17.013177Z",
     "start_time": "2021-02-14T21:51:16.936833Z"
    }
   },
   "outputs": [],
   "source": [
    "merged_table.to_csv('./data/merged_db.csv', sep=';', encoding='utf-8')"
   ]
  }
 ],
 "metadata": {
  "kernelspec": {
   "display_name": "Python 3",
   "language": "python",
   "name": "python3"
  },
  "language_info": {
   "codemirror_mode": {
    "name": "ipython",
    "version": 3
   },
   "file_extension": ".py",
   "mimetype": "text/x-python",
   "name": "python",
   "nbconvert_exporter": "python",
   "pygments_lexer": "ipython3",
   "version": "3.9.1"
  },
  "latex_envs": {
   "LaTeX_envs_menu_present": true,
   "autoclose": false,
   "autocomplete": true,
   "bibliofile": "biblio.bib",
   "cite_by": "apalike",
   "current_citInitial": 1,
   "eqLabelWithNumbers": true,
   "eqNumInitial": 1,
   "hotkeys": {
    "equation": "Ctrl-E",
    "itemize": "Ctrl-I"
   },
   "labels_anchors": false,
   "latex_user_defs": false,
   "report_style_numbering": false,
   "user_envs_cfg": false
  },
  "toc": {
   "base_numbering": 1,
   "nav_menu": {},
   "number_sections": true,
   "sideBar": true,
   "skip_h1_title": false,
   "title_cell": "Table of Contents",
   "title_sidebar": "Contents",
   "toc_cell": false,
   "toc_position": {},
   "toc_section_display": true,
   "toc_window_display": false
  },
  "varInspector": {
   "cols": {
    "lenName": 16,
    "lenType": 16,
    "lenVar": 40
   },
   "kernels_config": {
    "python": {
     "delete_cmd_postfix": "",
     "delete_cmd_prefix": "del ",
     "library": "var_list.py",
     "varRefreshCmd": "print(var_dic_list())"
    },
    "r": {
     "delete_cmd_postfix": ") ",
     "delete_cmd_prefix": "rm(",
     "library": "var_list.r",
     "varRefreshCmd": "cat(var_dic_list()) "
    }
   },
   "types_to_exclude": [
    "module",
    "function",
    "builtin_function_or_method",
    "instance",
    "_Feature"
   ],
   "window_display": false
  }
 },
 "nbformat": 4,
 "nbformat_minor": 4
}
