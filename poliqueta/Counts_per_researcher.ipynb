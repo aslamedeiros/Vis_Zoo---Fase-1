{
 "cells": [
  {
   "cell_type": "markdown",
   "metadata": {},
   "source": [
    "# Counts per researcher\n",
    "\n",
    "By **Franklin Oliveira**\n",
    "\n",
    "-----\n",
    "This notebook contains all code necessary to make the \"type\" charts from `poliqueta` database. Here you'll find some basic data treatment and charts' code. \n",
    "\n",
    "Database: <font color='blue'>'IBUFRJ27.07.2020 - visualização.xlsx'</font>."
   ]
  },
  {
   "cell_type": "code",
   "execution_count": 2,
   "metadata": {
    "ExecuteTime": {
     "end_time": "2020-08-03T11:02:25.293823Z",
     "start_time": "2020-08-03T11:02:24.403994Z"
    }
   },
   "outputs": [
    {
     "data": {
      "text/plain": [
       "DataTransformerRegistry.enable('default')"
      ]
     },
     "execution_count": 2,
     "metadata": {},
     "output_type": "execute_result"
    }
   ],
   "source": [
    "import datetime\n",
    "import numpy as np\n",
    "import pandas as pd\n",
    "\n",
    "from collections import defaultdict\n",
    "\n",
    "# quick visualization\n",
    "import matplotlib.pyplot as plt\n",
    "import seaborn as sns\n",
    "\n",
    "# Waffle Charts\n",
    "# from pywaffle import Waffle \n",
    "# docs: https://pywaffle.readthedocs.io/en/latest/examples/block_shape_distance_location_and_direction.html\n",
    "\n",
    "# visualization\n",
    "import altair as alt\n",
    "\n",
    "# enabling notebook renderer\n",
    "# alt.renderers.enable('notebook')\n",
    "alt.renderers.enable('default')\n",
    "\n",
    "# disabling rows limit\n",
    "alt.data_transformers.disable_max_rows()"
   ]
  },
  {
   "cell_type": "markdown",
   "metadata": {},
   "source": [
    "## Importing data..."
   ]
  },
  {
   "cell_type": "code",
   "execution_count": 8,
   "metadata": {
    "ExecuteTime": {
     "end_time": "2020-08-03T11:06:14.107053Z",
     "start_time": "2020-08-03T11:06:14.036453Z"
    }
   },
   "outputs": [],
   "source": [
    "NewTable = pd.read_csv('./data/treated_db.csv', sep=';', encoding='utf-8', low_memory=False)"
   ]
  },
  {
   "cell_type": "markdown",
   "metadata": {},
   "source": [
    "<br>\n",
    "\n",
    "<font size=5>**Color Palette per Order**</font>\n",
    "\n",
    "These images were used as inspiration (https://color.adobe.com/create/image)\n",
    "\n",
    "<img src=\"./src/img1.jpg\" width='500px'>\n",
    "\n",
    "<img src=\"./src/img2.jpg\" width='500px'>\n",
    "\n",
    "Cores: \n",
    "\n",
    "    '#8ABFB0',  # azul claro\n",
    "    '#41A681',  # verde\n",
    "    '#7ACAAB',  # verde claro\n",
    "    '#D9C2AD',  # bege\n",
    "    '#0D0D0D',  # preto\n",
    "    '#D96236',  # laranja\n",
    "    '#D94B18',  # laranja escuro\n",
    "    '#FFB27C',  # cor de pele clara\n",
    "    '#732C02',  # marrom\n",
    "    '#86471B',  # mostarda"
   ]
  },
  {
   "cell_type": "code",
   "execution_count": 1,
   "metadata": {
    "ExecuteTime": {
     "end_time": "2020-08-03T21:15:15.090513Z",
     "start_time": "2020-08-03T21:15:14.984028Z"
    }
   },
   "outputs": [
    {
     "ename": "NameError",
     "evalue": "name 'NewTable' is not defined",
     "output_type": "error",
     "traceback": [
      "\u001b[0;31m---------------------------------------------------------------------------\u001b[0m",
      "\u001b[0;31mNameError\u001b[0m                                 Traceback (most recent call last)",
      "\u001b[0;32m<ipython-input-1-cacc89e4631c>\u001b[0m in \u001b[0;36m<module>\u001b[0;34m\u001b[0m\n\u001b[1;32m      1\u001b[0m \u001b[0;31m# 220 NaNs\u001b[0m\u001b[0;34m\u001b[0m\u001b[0;34m\u001b[0m\u001b[0;34m\u001b[0m\u001b[0m\n\u001b[0;32m----> 2\u001b[0;31m \u001b[0mNewTable\u001b[0m\u001b[0;34m[\u001b[0m\u001b[0;34m'order'\u001b[0m\u001b[0;34m]\u001b[0m\u001b[0;34m.\u001b[0m\u001b[0mvalue_counts\u001b[0m\u001b[0;34m(\u001b[0m\u001b[0mdropna\u001b[0m\u001b[0;34m=\u001b[0m\u001b[0;32mFalse\u001b[0m\u001b[0;34m)\u001b[0m\u001b[0;34m\u001b[0m\u001b[0;34m\u001b[0m\u001b[0m\n\u001b[0m",
      "\u001b[0;31mNameError\u001b[0m: name 'NewTable' is not defined"
     ]
    }
   ],
   "source": [
    "# 220 NaNs\n",
    "NewTable['order'].value_counts(dropna=False)"
   ]
  },
  {
   "cell_type": "code",
   "execution_count": 11,
   "metadata": {
    "ExecuteTime": {
     "end_time": "2020-08-03T11:06:21.804975Z",
     "start_time": "2020-08-03T11:06:21.799998Z"
    }
   },
   "outputs": [],
   "source": [
    "ordens = NewTable['order'].unique()\n",
    "cores = [\n",
    "    '#8ABFB0',  # azul claro\n",
    "    '#41A681',  # verde\n",
    "    '#7ACAAB',  # verde claro\n",
    "    '#D9C2AD',  # bege\n",
    "    '#0D0D0D',  # preto\n",
    "    '#D96236',  # laranja\n",
    "    '#D94B18',  # laranja escuro\n",
    "    '#FFB27C',  # cor de pele clara\n",
    "    '#732C02',  # marrom\n",
    "    '#86471B',  # mostarda\n",
    "]\n",
    "\n",
    "cores_ordem = defaultdict()\n",
    "for j in range(len(ordens)):\n",
    "    ordem = ordens[j]\n",
    "    cores_ordem[ordem] = cores[j]\n",
    "    \n",
    "cores_ordem = dict(cores_ordem)"
   ]
  },
  {
   "cell_type": "markdown",
   "metadata": {},
   "source": [
    "<br>\n",
    "\n",
    "\n",
    "## Graphs\n",
    "\n",
    "---"
   ]
  },
  {
   "cell_type": "markdown",
   "metadata": {},
   "source": [
    "<br>\n",
    "\n",
    "### Creating chart: counts per determiner per year"
   ]
  },
  {
   "cell_type": "code",
   "execution_count": 12,
   "metadata": {
    "ExecuteTime": {
     "end_time": "2020-08-03T11:06:23.955973Z",
     "start_time": "2020-08-03T11:06:23.937538Z"
    }
   },
   "outputs": [],
   "source": [
    "teste = NewTable.groupby(['determiner_full_name','determined_year']).count()['class'].reset_index().rename(columns=\n",
    "                                                                                            {'class':'counts'})"
   ]
  },
  {
   "cell_type": "code",
   "execution_count": 25,
   "metadata": {
    "ExecuteTime": {
     "end_time": "2020-08-03T11:11:30.187267Z",
     "start_time": "2020-08-03T11:11:30.179021Z"
    }
   },
   "outputs": [
    {
     "data": {
      "text/plain": [
       "1455"
      ]
     },
     "execution_count": 25,
     "metadata": {},
     "output_type": "execute_result"
    }
   ],
   "source": [
    "# OBS: 1455 nomes faltando\n",
    "NewTable['determiner_full_name'].isna().sum()"
   ]
  },
  {
   "cell_type": "code",
   "execution_count": 31,
   "metadata": {
    "ExecuteTime": {
     "end_time": "2020-08-03T11:17:49.047637Z",
     "start_time": "2020-08-03T11:17:48.992519Z"
    }
   },
   "outputs": [
    {
     "data": {
      "text/html": [
       "\n",
       "<div id=\"altair-viz-f343e0dc25ca4e0db9b0e4d8aea3a711\"></div>\n",
       "<script type=\"text/javascript\">\n",
       "  (function(spec, embedOpt){\n",
       "    let outputDiv = document.currentScript.previousElementSibling;\n",
       "    if (outputDiv.id !== \"altair-viz-f343e0dc25ca4e0db9b0e4d8aea3a711\") {\n",
       "      outputDiv = document.getElementById(\"altair-viz-f343e0dc25ca4e0db9b0e4d8aea3a711\");\n",
       "    }\n",
       "    const paths = {\n",
       "      \"vega\": \"https://cdn.jsdelivr.net/npm//vega@5?noext\",\n",
       "      \"vega-lib\": \"https://cdn.jsdelivr.net/npm//vega-lib?noext\",\n",
       "      \"vega-lite\": \"https://cdn.jsdelivr.net/npm//vega-lite@4.8.1?noext\",\n",
       "      \"vega-embed\": \"https://cdn.jsdelivr.net/npm//vega-embed@6?noext\",\n",
       "    };\n",
       "\n",
       "    function loadScript(lib) {\n",
       "      return new Promise(function(resolve, reject) {\n",
       "        var s = document.createElement('script');\n",
       "        s.src = paths[lib];\n",
       "        s.async = true;\n",
       "        s.onload = () => resolve(paths[lib]);\n",
       "        s.onerror = () => reject(`Error loading script: ${paths[lib]}`);\n",
       "        document.getElementsByTagName(\"head\")[0].appendChild(s);\n",
       "      });\n",
       "    }\n",
       "\n",
       "    function showError(err) {\n",
       "      outputDiv.innerHTML = `<div class=\"error\" style=\"color:red;\">${err}</div>`;\n",
       "      throw err;\n",
       "    }\n",
       "\n",
       "    function displayChart(vegaEmbed) {\n",
       "      vegaEmbed(outputDiv, spec, embedOpt)\n",
       "        .catch(err => showError(`Javascript Error: ${err.message}<br>This usually means there's a typo in your chart specification. See the javascript console for the full traceback.`));\n",
       "    }\n",
       "\n",
       "    if(typeof define === \"function\" && define.amd) {\n",
       "      requirejs.config({paths});\n",
       "      require([\"vega-embed\"], displayChart, err => showError(`Error loading script: ${err.message}`));\n",
       "    } else if (typeof vegaEmbed === \"function\") {\n",
       "      displayChart(vegaEmbed);\n",
       "    } else {\n",
       "      loadScript(\"vega\")\n",
       "        .then(() => loadScript(\"vega-lite\"))\n",
       "        .then(() => loadScript(\"vega-embed\"))\n",
       "        .catch(showError)\n",
       "        .then(() => displayChart(vegaEmbed));\n",
       "    }\n",
       "  })({\"config\": {\"view\": {\"continuousWidth\": 400, \"continuousHeight\": 300}}, \"data\": {\"name\": \"data-d57af5b435a0faa18fc09810ecd7efe6\"}, \"mark\": \"circle\", \"encoding\": {\"size\": {\"type\": \"quantitative\", \"field\": \"counts\", \"scale\": {\"range\": [15, 500]}}, \"tooltip\": [{\"type\": \"nominal\", \"field\": \"determiner_full_name\"}, {\"type\": \"quantitative\", \"field\": \"determined_year\"}, {\"type\": \"quantitative\", \"field\": \"counts\"}], \"x\": {\"type\": \"ordinal\", \"field\": \"determined_year\", \"title\": \"Determined Year\"}, \"y\": {\"type\": \"nominal\", \"field\": \"determiner_full_name\", \"sort\": {\"field\": \"counts\", \"op\": \"count\", \"order\": \"descending\"}, \"title\": \"Determiner Name\"}}, \"height\": 500, \"width\": 600, \"$schema\": \"https://vega.github.io/schema/vega-lite/v4.8.1.json\", \"datasets\": {\"data-d57af5b435a0faa18fc09810ecd7efe6\": [{\"determiner_full_name\": \"Andre M. Lanna\", \"determined_year\": 2013.0, \"counts\": 1}, {\"determiner_full_name\": \"Andre R. Garraffoni\", \"determined_year\": 2003.0, \"counts\": 7}, {\"determiner_full_name\": \"Anja Schulze\", \"determined_year\": 2011.0, \"counts\": 2}, {\"determiner_full_name\": \"Anja Schulze\", \"determined_year\": 2012.0, \"counts\": 4}, {\"determiner_full_name\": \"Antonia C. Amaral\", \"determined_year\": 2013.0, \"counts\": 1}, {\"determiner_full_name\": \"Beatriz Bomfim\", \"determined_year\": 2001.0, \"counts\": 1}, {\"determiner_full_name\": \"Beatriz Bomfim\", \"determined_year\": 2002.0, \"counts\": 2}, {\"determiner_full_name\": \"Brener\", \"determined_year\": 2011.0, \"counts\": 3}, {\"determiner_full_name\": \"Bruna T. Faro\", \"determined_year\": 2008.0, \"counts\": 1}, {\"determiner_full_name\": \"Bruna T. Faro\", \"determined_year\": 2011.0, \"counts\": 956}, {\"determiner_full_name\": \"Christine Ruta\", \"determined_year\": 1998.0, \"counts\": 2}, {\"determiner_full_name\": \"Daniel\", \"determined_year\": 2009.0, \"counts\": 1}, {\"determiner_full_name\": \"Elinia M. Lopes\", \"determined_year\": 2014.0, \"counts\": 1}, {\"determiner_full_name\": \"Elisa M. Paiva\", \"determined_year\": 2002.0, \"counts\": 1}, {\"determiner_full_name\": \"Elisa M. Paiva\", \"determined_year\": 2003.0, \"counts\": 14}, {\"determiner_full_name\": \"Fabiano d. Attolini\", \"determined_year\": 1998.0, \"counts\": 3}, {\"determiner_full_name\": \"Fabiano d. Attolini\", \"determined_year\": 1999.0, \"counts\": 3}, {\"determiner_full_name\": \"Fredrik J. Pleijel\", \"determined_year\": 1986.0, \"counts\": 1}, {\"determiner_full_name\": \"Fredrik J. Pleijel\", \"determined_year\": 1993.0, \"counts\": 1}, {\"determiner_full_name\": \"Gisele E. Occhioni\", \"determined_year\": 2012.0, \"counts\": 6}, {\"determiner_full_name\": \"Gisele E. Occhioni\", \"determined_year\": 2013.0, \"counts\": 74}, {\"determiner_full_name\": \"Gisele E. Occhioni\", \"determined_year\": 2014.0, \"counts\": 126}, {\"determiner_full_name\": \"Gustavo M. Souza\", \"determined_year\": 2014.0, \"counts\": 1}, {\"determiner_full_name\": \"Joana Zanol\", \"determined_year\": 1999.0, \"counts\": 1}, {\"determiner_full_name\": \"Joana Zanol\", \"determined_year\": 2000.0, \"counts\": 3}, {\"determiner_full_name\": \"Joana Zanol\", \"determined_year\": 2001.0, \"counts\": 16}, {\"determiner_full_name\": \"Joana Zanol\", \"determined_year\": 2005.0, \"counts\": 94}, {\"determiner_full_name\": \"Joana Zanol\", \"determined_year\": 2012.0, \"counts\": 2}, {\"determiner_full_name\": \"Joana Zanol\", \"determined_year\": 2013.0, \"counts\": 4}, {\"determiner_full_name\": \"Joana Zanol\", \"determined_year\": 2014.0, \"counts\": 1}, {\"determiner_full_name\": \"Joana Zanol\", \"determined_year\": 2015.0, \"counts\": 4}, {\"determiner_full_name\": \"Joao M. Nogueira\", \"determined_year\": 2010.0, \"counts\": 1}, {\"determiner_full_name\": \"Joao M. Nogueira\", \"determined_year\": 2012.0, \"counts\": 1}, {\"determiner_full_name\": \"Joao M. Nogueira\", \"determined_year\": 2013.0, \"counts\": 1}, {\"determiner_full_name\": \"Joao M. Nogueira\", \"determined_year\": 2014.0, \"counts\": 4}, {\"determiner_full_name\": \"Joziel\", \"determined_year\": 2011.0, \"counts\": 1}, {\"determiner_full_name\": \"Leonardo F. Silva\", \"determined_year\": 2013.0, \"counts\": 1}, {\"determiner_full_name\": \"Leonardo F. Silva\", \"determined_year\": 2014.0, \"counts\": 17}, {\"determiner_full_name\": \"Leticia Barbosa\", \"determined_year\": 2004.0, \"counts\": 7}, {\"determiner_full_name\": \"Leticia Barbosa\", \"determined_year\": 2007.0, \"counts\": 54}, {\"determiner_full_name\": \"Marcelo B. Rocha\", \"determined_year\": 2009.0, \"counts\": 8}, {\"determiner_full_name\": \"Mariana V. Gon\\u00e7alves\", \"determined_year\": 2012.0, \"counts\": 2}, {\"determiner_full_name\": \"Natalia M. Souto\", \"determined_year\": 2013.0, \"counts\": 2}, {\"determiner_full_name\": \"Nury E. Riascos\", \"determined_year\": 2005.0, \"counts\": 5}, {\"determiner_full_name\": \"Nury E. Riascos\", \"determined_year\": 2010.0, \"counts\": 3}, {\"determiner_full_name\": \"Nury E. Riascos\", \"determined_year\": 2011.0, \"counts\": 35}, {\"determiner_full_name\": \"Nury E. Riascos\", \"determined_year\": 2013.0, \"counts\": 46}, {\"determiner_full_name\": \"Pat Hutchings\", \"determined_year\": 2013.0, \"counts\": 1}, {\"determiner_full_name\": \"Paulo C. Lana\", \"determined_year\": 2000.0, \"counts\": 1}, {\"determiner_full_name\": \"Paulo C. Paiva\", \"determined_year\": 1991.0, \"counts\": 4}, {\"determiner_full_name\": \"Paulo C. Paiva\", \"determined_year\": 1993.0, \"counts\": 1}, {\"determiner_full_name\": \"Paulo C. Paiva\", \"determined_year\": 1994.0, \"counts\": 26}, {\"determiner_full_name\": \"Paulo C. Paiva\", \"determined_year\": 1997.0, \"counts\": 2}, {\"determiner_full_name\": \"Paulo C. Paiva\", \"determined_year\": 1998.0, \"counts\": 59}, {\"determiner_full_name\": \"Paulo C. Paiva\", \"determined_year\": 1999.0, \"counts\": 3}, {\"determiner_full_name\": \"Paulo C. Paiva\", \"determined_year\": 2000.0, \"counts\": 35}, {\"determiner_full_name\": \"Paulo C. Paiva\", \"determined_year\": 2001.0, \"counts\": 209}, {\"determiner_full_name\": \"Paulo C. Paiva\", \"determined_year\": 2002.0, \"counts\": 36}, {\"determiner_full_name\": \"Paulo C. Paiva\", \"determined_year\": 2003.0, \"counts\": 4}, {\"determiner_full_name\": \"Paulo C. Paiva\", \"determined_year\": 2004.0, \"counts\": 16}, {\"determiner_full_name\": \"Paulo C. Paiva\", \"determined_year\": 2007.0, \"counts\": 1}, {\"determiner_full_name\": \"Paulo C. Paiva\", \"determined_year\": 2008.0, \"counts\": 162}, {\"determiner_full_name\": \"Paulo C. Paiva\", \"determined_year\": 2010.0, \"counts\": 50}, {\"determiner_full_name\": \"Paulo C. Paiva\", \"determined_year\": 2011.0, \"counts\": 1}, {\"determiner_full_name\": \"Paulo C. Paiva\", \"determined_year\": 2013.0, \"counts\": 2}, {\"determiner_full_name\": \"Paulo C. Paiva\", \"determined_year\": 2015.0, \"counts\": 3}, {\"determiner_full_name\": \"Pedro H. Lima\", \"determined_year\": 2008.0, \"counts\": 16}, {\"determiner_full_name\": \"Raquel M. Berlandi\", \"determined_year\": 2008.0, \"counts\": 12}, {\"determiner_full_name\": \"Raquel M. Berlandi\", \"determined_year\": 2009.0, \"counts\": 7}, {\"determiner_full_name\": \"Raquel M. Berlandi\", \"determined_year\": 2010.0, \"counts\": 9}, {\"determiner_full_name\": \"Raquel M. Berlandi\", \"determined_year\": 2011.0, \"counts\": 7}, {\"determiner_full_name\": \"Raquel M. Berlandi\", \"determined_year\": 2013.0, \"counts\": 45}, {\"determiner_full_name\": \"Romulo B. Baptista\", \"determined_year\": 2000.0, \"counts\": 20}, {\"determiner_full_name\": \"Romulo B. Baptista\", \"determined_year\": 2002.0, \"counts\": 4}, {\"determiner_full_name\": \"Romulo B. Baptista\", \"determined_year\": 2003.0, \"counts\": 6}, {\"determiner_full_name\": \"Romulo B. Baptista\", \"determined_year\": 2007.0, \"counts\": 9}, {\"determiner_full_name\": \"Romulo B. Baptista\", \"determined_year\": 2009.0, \"counts\": 2}, {\"determiner_full_name\": \"Romulo B. Baptista\", \"determined_year\": 2010.0, \"counts\": 24}, {\"determiner_full_name\": \"Susie Subrinho\", \"determined_year\": 1999.0, \"counts\": 1}, {\"determiner_full_name\": \"Thauane Silva\", \"determined_year\": 2014.0, \"counts\": 3}, {\"determiner_full_name\": \"Vasily I. Radashevsky\", \"determined_year\": 2002.0, \"counts\": 1}, {\"determiner_full_name\": \"Vasily I. Radashevsky\", \"determined_year\": 2003.0, \"counts\": 37}, {\"determiner_full_name\": \"Victor C. Seixas\", \"determined_year\": 2011.0, \"counts\": 10}, {\"determiner_full_name\": \"Victor C. Seixas\", \"determined_year\": 2012.0, \"counts\": 5}, {\"determiner_full_name\": \"Vinicius D. Miranda\", \"determined_year\": 2012.0, \"counts\": 42}, {\"determiner_full_name\": \"Wagner F. Magalhaes\", \"determined_year\": 2014.0, \"counts\": 6}, {\"determiner_full_name\": \"Werner F. Brandao\", \"determined_year\": 2001.0, \"counts\": 1}, {\"determiner_full_name\": \"Werner F. Brandao\", \"determined_year\": 2010.0, \"counts\": 3}, {\"determiner_full_name\": \"Werner F. Brandao\", \"determined_year\": 2011.0, \"counts\": 4}, {\"determiner_full_name\": \"Werner F. Brandao\", \"determined_year\": 2013.0, \"counts\": 3}]}}, {\"mode\": \"vega-lite\"});\n",
       "</script>"
      ],
      "text/plain": [
       "alt.Chart(...)"
      ]
     },
     "execution_count": 31,
     "metadata": {},
     "output_type": "execute_result"
    }
   ],
   "source": [
    "# gráfico não tem todas as contagens por causa de nomes faltando\n",
    "g1 = alt.Chart(teste, width=600, height=500).mark_circle().encode(\n",
    "    x= alt.X('determined_year', type='ordinal', title='Determined Year'),\n",
    "    y= alt.Y('determiner_full_name', type='nominal', title='Determiner Name', \n",
    "            sort=alt.EncodingSortField('counts', op=\"count\", order='descending')),\n",
    "    size= alt.Size('counts', scale=alt.Scale(range=[15, 500])),  # range ajusta tamanho do circulo\n",
    "    tooltip= alt.Tooltip(['determiner_full_name', 'determined_year', 'counts'])\n",
    ")\n",
    "\n",
    "# g1.save('./graphs/determiner/counts_per_determiner.html')\n",
    "\n",
    "g1"
   ]
  },
  {
   "cell_type": "markdown",
   "metadata": {},
   "source": [
    "<font color='red' size='5'>mesmo gráfico, ordenando também pela ordem</font>\n",
    "\n",
    "**OBS:** Note que\n",
    "\n",
    "- as contagens mudam (porque estamos ordenando por um fator a mais)\n",
    "- há pontos sobrepostos (semelhante ao que tinhamos para a base crustaceas - para um mesmo ano, um mesmo pesquisador descobriu animais de ordens/familias diferentes)"
   ]
  },
  {
   "cell_type": "code",
   "execution_count": 34,
   "metadata": {
    "ExecuteTime": {
     "end_time": "2020-08-03T11:18:11.733328Z",
     "start_time": "2020-08-03T11:18:11.709357Z"
    }
   },
   "outputs": [],
   "source": [
    "teste1 = NewTable.groupby(['determiner_full_name','determined_year', 'order']).count()['class'].reset_index().rename(columns=\n",
    "                                                                                            {'class':'counts'})"
   ]
  },
  {
   "cell_type": "code",
   "execution_count": 39,
   "metadata": {
    "ExecuteTime": {
     "end_time": "2020-08-03T11:19:38.547507Z",
     "start_time": "2020-08-03T11:19:38.520631Z"
    },
    "scrolled": true
   },
   "outputs": [
    {
     "data": {
      "text/html": [
       "\n",
       "<div id=\"altair-viz-d8e761880f0d40f2b7aaa86b8ab81bb2\"></div>\n",
       "<script type=\"text/javascript\">\n",
       "  (function(spec, embedOpt){\n",
       "    let outputDiv = document.currentScript.previousElementSibling;\n",
       "    if (outputDiv.id !== \"altair-viz-d8e761880f0d40f2b7aaa86b8ab81bb2\") {\n",
       "      outputDiv = document.getElementById(\"altair-viz-d8e761880f0d40f2b7aaa86b8ab81bb2\");\n",
       "    }\n",
       "    const paths = {\n",
       "      \"vega\": \"https://cdn.jsdelivr.net/npm//vega@5?noext\",\n",
       "      \"vega-lib\": \"https://cdn.jsdelivr.net/npm//vega-lib?noext\",\n",
       "      \"vega-lite\": \"https://cdn.jsdelivr.net/npm//vega-lite@4.8.1?noext\",\n",
       "      \"vega-embed\": \"https://cdn.jsdelivr.net/npm//vega-embed@6?noext\",\n",
       "    };\n",
       "\n",
       "    function loadScript(lib) {\n",
       "      return new Promise(function(resolve, reject) {\n",
       "        var s = document.createElement('script');\n",
       "        s.src = paths[lib];\n",
       "        s.async = true;\n",
       "        s.onload = () => resolve(paths[lib]);\n",
       "        s.onerror = () => reject(`Error loading script: ${paths[lib]}`);\n",
       "        document.getElementsByTagName(\"head\")[0].appendChild(s);\n",
       "      });\n",
       "    }\n",
       "\n",
       "    function showError(err) {\n",
       "      outputDiv.innerHTML = `<div class=\"error\" style=\"color:red;\">${err}</div>`;\n",
       "      throw err;\n",
       "    }\n",
       "\n",
       "    function displayChart(vegaEmbed) {\n",
       "      vegaEmbed(outputDiv, spec, embedOpt)\n",
       "        .catch(err => showError(`Javascript Error: ${err.message}<br>This usually means there's a typo in your chart specification. See the javascript console for the full traceback.`));\n",
       "    }\n",
       "\n",
       "    if(typeof define === \"function\" && define.amd) {\n",
       "      requirejs.config({paths});\n",
       "      require([\"vega-embed\"], displayChart, err => showError(`Error loading script: ${err.message}`));\n",
       "    } else if (typeof vegaEmbed === \"function\") {\n",
       "      displayChart(vegaEmbed);\n",
       "    } else {\n",
       "      loadScript(\"vega\")\n",
       "        .then(() => loadScript(\"vega-lite\"))\n",
       "        .then(() => loadScript(\"vega-embed\"))\n",
       "        .catch(showError)\n",
       "        .then(() => displayChart(vegaEmbed));\n",
       "    }\n",
       "  })({\"config\": {\"view\": {\"continuousWidth\": 400, \"continuousHeight\": 300}}, \"data\": {\"name\": \"data-37cb1a0c2a163b0c324acf4899373e8b\"}, \"mark\": \"circle\", \"encoding\": {\"color\": {\"type\": \"nominal\", \"field\": \"order\", \"scale\": {\"domain\": [\"Eunicida\", \"Phyllodocida\", \"Sabellida\", \"Scolecida\", \"Spionida\", \"Terebellida\", \"Amphinomida\", NaN, \"Sipuncula\", \"Crassiclitellata\"], \"range\": [\"#8ABFB0\", \"#41A681\", \"#7ACAAB\", \"#D9C2AD\", \"#0D0D0D\", \"#D96236\", \"#D94B18\", \"#FFB27C\", \"#732C02\", \"#86471B\"]}, \"title\": \"Order\"}, \"size\": {\"type\": \"quantitative\", \"field\": \"counts\", \"scale\": {\"range\": [15, 500]}}, \"tooltip\": [{\"type\": \"nominal\", \"field\": \"determiner_full_name\"}, {\"type\": \"quantitative\", \"field\": \"determined_year\"}, {\"type\": \"quantitative\", \"field\": \"counts\"}, {\"type\": \"nominal\", \"field\": \"order\"}], \"x\": {\"type\": \"ordinal\", \"field\": \"determined_year\", \"title\": \"Determined Year\"}, \"y\": {\"type\": \"nominal\", \"field\": \"determiner_full_name\", \"sort\": {\"field\": \"counts\", \"op\": \"count\", \"order\": \"descending\"}, \"title\": \"Determiner Name\"}}, \"height\": 500, \"width\": 600, \"$schema\": \"https://vega.github.io/schema/vega-lite/v4.8.1.json\", \"datasets\": {\"data-37cb1a0c2a163b0c324acf4899373e8b\": [{\"determiner_full_name\": \"Andre M. Lanna\", \"determined_year\": 2013.0, \"order\": \"Phyllodocida\", \"counts\": 1}, {\"determiner_full_name\": \"Andre R. Garraffoni\", \"determined_year\": 2003.0, \"order\": \"Terebellida\", \"counts\": 7}, {\"determiner_full_name\": \"Anja Schulze\", \"determined_year\": 2011.0, \"order\": \"Eunicida\", \"counts\": 2}, {\"determiner_full_name\": \"Anja Schulze\", \"determined_year\": 2012.0, \"order\": \"Eunicida\", \"counts\": 1}, {\"determiner_full_name\": \"Anja Schulze\", \"determined_year\": 2012.0, \"order\": \"Phyllodocida\", \"counts\": 3}, {\"determiner_full_name\": \"Antonia C. Amaral\", \"determined_year\": 2013.0, \"order\": \"Eunicida\", \"counts\": 1}, {\"determiner_full_name\": \"Beatriz Bomfim\", \"determined_year\": 2001.0, \"order\": \"Phyllodocida\", \"counts\": 1}, {\"determiner_full_name\": \"Beatriz Bomfim\", \"determined_year\": 2002.0, \"order\": \"Phyllodocida\", \"counts\": 2}, {\"determiner_full_name\": \"Brener\", \"determined_year\": 2011.0, \"order\": \"Eunicida\", \"counts\": 3}, {\"determiner_full_name\": \"Bruna T. Faro\", \"determined_year\": 2008.0, \"order\": \"Scolecida\", \"counts\": 1}, {\"determiner_full_name\": \"Bruna T. Faro\", \"determined_year\": 2011.0, \"order\": \"Eunicida\", \"counts\": 1}, {\"determiner_full_name\": \"Bruna T. Faro\", \"determined_year\": 2011.0, \"order\": \"Phyllodocida\", \"counts\": 953}, {\"determiner_full_name\": \"Bruna T. Faro\", \"determined_year\": 2011.0, \"order\": \"Scolecida\", \"counts\": 1}, {\"determiner_full_name\": \"Bruna T. Faro\", \"determined_year\": 2011.0, \"order\": \"Spionida\", \"counts\": 1}, {\"determiner_full_name\": \"Christine Ruta\", \"determined_year\": 1998.0, \"order\": \"Sabellida\", \"counts\": 1}, {\"determiner_full_name\": \"Christine Ruta\", \"determined_year\": 1998.0, \"order\": \"Terebellida\", \"counts\": 1}, {\"determiner_full_name\": \"Daniel\", \"determined_year\": 2009.0, \"order\": \"Phyllodocida\", \"counts\": 1}, {\"determiner_full_name\": \"Elinia M. Lopes\", \"determined_year\": 2014.0, \"order\": \"Phyllodocida\", \"counts\": 1}, {\"determiner_full_name\": \"Elisa M. Paiva\", \"determined_year\": 2002.0, \"order\": \"Phyllodocida\", \"counts\": 1}, {\"determiner_full_name\": \"Elisa M. Paiva\", \"determined_year\": 2003.0, \"order\": \"Sabellida\", \"counts\": 14}, {\"determiner_full_name\": \"Fabiano d. Attolini\", \"determined_year\": 1998.0, \"order\": \"Eunicida\", \"counts\": 3}, {\"determiner_full_name\": \"Fabiano d. Attolini\", \"determined_year\": 1999.0, \"order\": \"Eunicida\", \"counts\": 3}, {\"determiner_full_name\": \"Fredrik J. Pleijel\", \"determined_year\": 1986.0, \"order\": \"Eunicida\", \"counts\": 1}, {\"determiner_full_name\": \"Fredrik J. Pleijel\", \"determined_year\": 1993.0, \"order\": \"Eunicida\", \"counts\": 1}, {\"determiner_full_name\": \"Gisele E. Occhioni\", \"determined_year\": 2012.0, \"order\": \"Sabellida\", \"counts\": 6}, {\"determiner_full_name\": \"Gisele E. Occhioni\", \"determined_year\": 2013.0, \"order\": \"Sabellida\", \"counts\": 74}, {\"determiner_full_name\": \"Gisele E. Occhioni\", \"determined_year\": 2014.0, \"order\": \"Sabellida\", \"counts\": 126}, {\"determiner_full_name\": \"Gustavo M. Souza\", \"determined_year\": 2014.0, \"order\": \"Scolecida\", \"counts\": 1}, {\"determiner_full_name\": \"Joana Zanol\", \"determined_year\": 1999.0, \"order\": \"Eunicida\", \"counts\": 1}, {\"determiner_full_name\": \"Joana Zanol\", \"determined_year\": 2000.0, \"order\": \"Eunicida\", \"counts\": 3}, {\"determiner_full_name\": \"Joana Zanol\", \"determined_year\": 2001.0, \"order\": \"Eunicida\", \"counts\": 14}, {\"determiner_full_name\": \"Joana Zanol\", \"determined_year\": 2001.0, \"order\": \"Phyllodocida\", \"counts\": 2}, {\"determiner_full_name\": \"Joana Zanol\", \"determined_year\": 2005.0, \"order\": \"Eunicida\", \"counts\": 93}, {\"determiner_full_name\": \"Joana Zanol\", \"determined_year\": 2005.0, \"order\": \"Phyllodocida\", \"counts\": 1}, {\"determiner_full_name\": \"Joana Zanol\", \"determined_year\": 2012.0, \"order\": \"Phyllodocida\", \"counts\": 2}, {\"determiner_full_name\": \"Joana Zanol\", \"determined_year\": 2013.0, \"order\": \"Eunicida\", \"counts\": 4}, {\"determiner_full_name\": \"Joana Zanol\", \"determined_year\": 2014.0, \"order\": \"Phyllodocida\", \"counts\": 1}, {\"determiner_full_name\": \"Joana Zanol\", \"determined_year\": 2015.0, \"order\": \"Eunicida\", \"counts\": 1}, {\"determiner_full_name\": \"Joana Zanol\", \"determined_year\": 2015.0, \"order\": \"Phyllodocida\", \"counts\": 2}, {\"determiner_full_name\": \"Joana Zanol\", \"determined_year\": 2015.0, \"order\": \"Terebellida\", \"counts\": 1}, {\"determiner_full_name\": \"Joao M. Nogueira\", \"determined_year\": 2010.0, \"order\": \"Eunicida\", \"counts\": 1}, {\"determiner_full_name\": \"Joao M. Nogueira\", \"determined_year\": 2012.0, \"order\": \"Eunicida\", \"counts\": 1}, {\"determiner_full_name\": \"Joao M. Nogueira\", \"determined_year\": 2013.0, \"order\": \"Eunicida\", \"counts\": 1}, {\"determiner_full_name\": \"Joao M. Nogueira\", \"determined_year\": 2014.0, \"order\": \"Eunicida\", \"counts\": 4}, {\"determiner_full_name\": \"Joziel\", \"determined_year\": 2011.0, \"order\": \"Amphinomida\", \"counts\": 1}, {\"determiner_full_name\": \"Leonardo F. Silva\", \"determined_year\": 2013.0, \"order\": \"Eunicida\", \"counts\": 1}, {\"determiner_full_name\": \"Leonardo F. Silva\", \"determined_year\": 2014.0, \"order\": \"Amphinomida\", \"counts\": 2}, {\"determiner_full_name\": \"Leonardo F. Silva\", \"determined_year\": 2014.0, \"order\": \"Eunicida\", \"counts\": 7}, {\"determiner_full_name\": \"Leonardo F. Silva\", \"determined_year\": 2014.0, \"order\": \"Phyllodocida\", \"counts\": 4}, {\"determiner_full_name\": \"Leonardo F. Silva\", \"determined_year\": 2014.0, \"order\": \"Sabellida\", \"counts\": 2}, {\"determiner_full_name\": \"Leonardo F. Silva\", \"determined_year\": 2014.0, \"order\": \"Terebellida\", \"counts\": 2}, {\"determiner_full_name\": \"Leticia Barbosa\", \"determined_year\": 2004.0, \"order\": \"Phyllodocida\", \"counts\": 7}, {\"determiner_full_name\": \"Leticia Barbosa\", \"determined_year\": 2007.0, \"order\": \"Eunicida\", \"counts\": 4}, {\"determiner_full_name\": \"Leticia Barbosa\", \"determined_year\": 2007.0, \"order\": \"Phyllodocida\", \"counts\": 13}, {\"determiner_full_name\": \"Leticia Barbosa\", \"determined_year\": 2007.0, \"order\": \"Sabellida\", \"counts\": 2}, {\"determiner_full_name\": \"Leticia Barbosa\", \"determined_year\": 2007.0, \"order\": \"Scolecida\", \"counts\": 22}, {\"determiner_full_name\": \"Leticia Barbosa\", \"determined_year\": 2007.0, \"order\": \"Spionida\", \"counts\": 1}, {\"determiner_full_name\": \"Leticia Barbosa\", \"determined_year\": 2007.0, \"order\": \"Terebellida\", \"counts\": 12}, {\"determiner_full_name\": \"Marcelo B. Rocha\", \"determined_year\": 2009.0, \"order\": \"Spionida\", \"counts\": 8}, {\"determiner_full_name\": \"Mariana V. Gon\\u00e7alves\", \"determined_year\": 2012.0, \"order\": \"Eunicida\", \"counts\": 2}, {\"determiner_full_name\": \"Natalia M. Souto\", \"determined_year\": 2013.0, \"order\": \"Eunicida\", \"counts\": 2}, {\"determiner_full_name\": \"Nury E. Riascos\", \"determined_year\": 2005.0, \"order\": \"Phyllodocida\", \"counts\": 2}, {\"determiner_full_name\": \"Nury E. Riascos\", \"determined_year\": 2005.0, \"order\": \"Sabellida\", \"counts\": 2}, {\"determiner_full_name\": \"Nury E. Riascos\", \"determined_year\": 2005.0, \"order\": \"Spionida\", \"counts\": 1}, {\"determiner_full_name\": \"Nury E. Riascos\", \"determined_year\": 2010.0, \"order\": \"Phyllodocida\", \"counts\": 3}, {\"determiner_full_name\": \"Nury E. Riascos\", \"determined_year\": 2011.0, \"order\": \"Eunicida\", \"counts\": 11}, {\"determiner_full_name\": \"Nury E. Riascos\", \"determined_year\": 2011.0, \"order\": \"Phyllodocida\", \"counts\": 12}, {\"determiner_full_name\": \"Nury E. Riascos\", \"determined_year\": 2011.0, \"order\": \"Sabellida\", \"counts\": 2}, {\"determiner_full_name\": \"Nury E. Riascos\", \"determined_year\": 2011.0, \"order\": \"Terebellida\", \"counts\": 4}, {\"determiner_full_name\": \"Nury E. Riascos\", \"determined_year\": 2013.0, \"order\": \"Amphinomida\", \"counts\": 1}, {\"determiner_full_name\": \"Nury E. Riascos\", \"determined_year\": 2013.0, \"order\": \"Eunicida\", \"counts\": 14}, {\"determiner_full_name\": \"Nury E. Riascos\", \"determined_year\": 2013.0, \"order\": \"Phyllodocida\", \"counts\": 15}, {\"determiner_full_name\": \"Nury E. Riascos\", \"determined_year\": 2013.0, \"order\": \"Sabellida\", \"counts\": 1}, {\"determiner_full_name\": \"Nury E. Riascos\", \"determined_year\": 2013.0, \"order\": \"Scolecida\", \"counts\": 5}, {\"determiner_full_name\": \"Nury E. Riascos\", \"determined_year\": 2013.0, \"order\": \"Spionida\", \"counts\": 4}, {\"determiner_full_name\": \"Nury E. Riascos\", \"determined_year\": 2013.0, \"order\": \"Terebellida\", \"counts\": 5}, {\"determiner_full_name\": \"Pat Hutchings\", \"determined_year\": 2013.0, \"order\": \"Eunicida\", \"counts\": 1}, {\"determiner_full_name\": \"Paulo C. Lana\", \"determined_year\": 2000.0, \"order\": \"Eunicida\", \"counts\": 1}, {\"determiner_full_name\": \"Paulo C. Paiva\", \"determined_year\": 1991.0, \"order\": \"Eunicida\", \"counts\": 4}, {\"determiner_full_name\": \"Paulo C. Paiva\", \"determined_year\": 1993.0, \"order\": \"Phyllodocida\", \"counts\": 1}, {\"determiner_full_name\": \"Paulo C. Paiva\", \"determined_year\": 1994.0, \"order\": \"Eunicida\", \"counts\": 6}, {\"determiner_full_name\": \"Paulo C. Paiva\", \"determined_year\": 1994.0, \"order\": \"Phyllodocida\", \"counts\": 14}, {\"determiner_full_name\": \"Paulo C. Paiva\", \"determined_year\": 1994.0, \"order\": \"Terebellida\", \"counts\": 6}, {\"determiner_full_name\": \"Paulo C. Paiva\", \"determined_year\": 1997.0, \"order\": \"Phyllodocida\", \"counts\": 1}, {\"determiner_full_name\": \"Paulo C. Paiva\", \"determined_year\": 1997.0, \"order\": \"Scolecida\", \"counts\": 1}, {\"determiner_full_name\": \"Paulo C. Paiva\", \"determined_year\": 1998.0, \"order\": \"Eunicida\", \"counts\": 59}, {\"determiner_full_name\": \"Paulo C. Paiva\", \"determined_year\": 1999.0, \"order\": \"Eunicida\", \"counts\": 1}, {\"determiner_full_name\": \"Paulo C. Paiva\", \"determined_year\": 1999.0, \"order\": \"Phyllodocida\", \"counts\": 1}, {\"determiner_full_name\": \"Paulo C. Paiva\", \"determined_year\": 1999.0, \"order\": \"Sabellida\", \"counts\": 1}, {\"determiner_full_name\": \"Paulo C. Paiva\", \"determined_year\": 2000.0, \"order\": \"Amphinomida\", \"counts\": 3}, {\"determiner_full_name\": \"Paulo C. Paiva\", \"determined_year\": 2000.0, \"order\": \"Eunicida\", \"counts\": 5}, {\"determiner_full_name\": \"Paulo C. Paiva\", \"determined_year\": 2000.0, \"order\": \"Phyllodocida\", \"counts\": 12}, {\"determiner_full_name\": \"Paulo C. Paiva\", \"determined_year\": 2000.0, \"order\": \"Sabellida\", \"counts\": 5}, {\"determiner_full_name\": \"Paulo C. Paiva\", \"determined_year\": 2000.0, \"order\": \"Scolecida\", \"counts\": 4}, {\"determiner_full_name\": \"Paulo C. Paiva\", \"determined_year\": 2000.0, \"order\": \"Spionida\", \"counts\": 1}, {\"determiner_full_name\": \"Paulo C. Paiva\", \"determined_year\": 2000.0, \"order\": \"Terebellida\", \"counts\": 5}, {\"determiner_full_name\": \"Paulo C. Paiva\", \"determined_year\": 2001.0, \"order\": \"Amphinomida\", \"counts\": 9}, {\"determiner_full_name\": \"Paulo C. Paiva\", \"determined_year\": 2001.0, \"order\": \"Crassiclitellata\", \"counts\": 1}, {\"determiner_full_name\": \"Paulo C. Paiva\", \"determined_year\": 2001.0, \"order\": \"Eunicida\", \"counts\": 33}, {\"determiner_full_name\": \"Paulo C. Paiva\", \"determined_year\": 2001.0, \"order\": \"Phyllodocida\", \"counts\": 65}, {\"determiner_full_name\": \"Paulo C. Paiva\", \"determined_year\": 2001.0, \"order\": \"Sabellida\", \"counts\": 9}, {\"determiner_full_name\": \"Paulo C. Paiva\", \"determined_year\": 2001.0, \"order\": \"Scolecida\", \"counts\": 34}, {\"determiner_full_name\": \"Paulo C. Paiva\", \"determined_year\": 2001.0, \"order\": \"Spionida\", \"counts\": 10}, {\"determiner_full_name\": \"Paulo C. Paiva\", \"determined_year\": 2001.0, \"order\": \"Terebellida\", \"counts\": 48}, {\"determiner_full_name\": \"Paulo C. Paiva\", \"determined_year\": 2002.0, \"order\": \"Eunicida\", \"counts\": 4}, {\"determiner_full_name\": \"Paulo C. Paiva\", \"determined_year\": 2002.0, \"order\": \"Phyllodocida\", \"counts\": 17}, {\"determiner_full_name\": \"Paulo C. Paiva\", \"determined_year\": 2002.0, \"order\": \"Sabellida\", \"counts\": 1}, {\"determiner_full_name\": \"Paulo C. Paiva\", \"determined_year\": 2002.0, \"order\": \"Scolecida\", \"counts\": 6}, {\"determiner_full_name\": \"Paulo C. Paiva\", \"determined_year\": 2002.0, \"order\": \"Spionida\", \"counts\": 5}, {\"determiner_full_name\": \"Paulo C. Paiva\", \"determined_year\": 2002.0, \"order\": \"Terebellida\", \"counts\": 3}, {\"determiner_full_name\": \"Paulo C. Paiva\", \"determined_year\": 2003.0, \"order\": \"Eunicida\", \"counts\": 1}, {\"determiner_full_name\": \"Paulo C. Paiva\", \"determined_year\": 2003.0, \"order\": \"Phyllodocida\", \"counts\": 1}, {\"determiner_full_name\": \"Paulo C. Paiva\", \"determined_year\": 2003.0, \"order\": \"Sabellida\", \"counts\": 1}, {\"determiner_full_name\": \"Paulo C. Paiva\", \"determined_year\": 2003.0, \"order\": \"Spionida\", \"counts\": 1}, {\"determiner_full_name\": \"Paulo C. Paiva\", \"determined_year\": 2004.0, \"order\": \"Eunicida\", \"counts\": 3}, {\"determiner_full_name\": \"Paulo C. Paiva\", \"determined_year\": 2004.0, \"order\": \"Phyllodocida\", \"counts\": 4}, {\"determiner_full_name\": \"Paulo C. Paiva\", \"determined_year\": 2004.0, \"order\": \"Sabellida\", \"counts\": 3}, {\"determiner_full_name\": \"Paulo C. Paiva\", \"determined_year\": 2004.0, \"order\": \"Scolecida\", \"counts\": 1}, {\"determiner_full_name\": \"Paulo C. Paiva\", \"determined_year\": 2004.0, \"order\": \"Spionida\", \"counts\": 3}, {\"determiner_full_name\": \"Paulo C. Paiva\", \"determined_year\": 2004.0, \"order\": \"Terebellida\", \"counts\": 2}, {\"determiner_full_name\": \"Paulo C. Paiva\", \"determined_year\": 2007.0, \"order\": \"Terebellida\", \"counts\": 1}, {\"determiner_full_name\": \"Paulo C. Paiva\", \"determined_year\": 2008.0, \"order\": \"Sabellida\", \"counts\": 133}, {\"determiner_full_name\": \"Paulo C. Paiva\", \"determined_year\": 2008.0, \"order\": \"Terebellida\", \"counts\": 29}, {\"determiner_full_name\": \"Paulo C. Paiva\", \"determined_year\": 2010.0, \"order\": \"Sabellida\", \"counts\": 50}, {\"determiner_full_name\": \"Paulo C. Paiva\", \"determined_year\": 2011.0, \"order\": \"Spionida\", \"counts\": 1}, {\"determiner_full_name\": \"Paulo C. Paiva\", \"determined_year\": 2013.0, \"order\": \"Eunicida\", \"counts\": 1}, {\"determiner_full_name\": \"Paulo C. Paiva\", \"determined_year\": 2013.0, \"order\": \"Phyllodocida\", \"counts\": 1}, {\"determiner_full_name\": \"Paulo C. Paiva\", \"determined_year\": 2015.0, \"order\": \"Eunicida\", \"counts\": 1}, {\"determiner_full_name\": \"Paulo C. Paiva\", \"determined_year\": 2015.0, \"order\": \"Spionida\", \"counts\": 2}, {\"determiner_full_name\": \"Pedro H. Lima\", \"determined_year\": 2008.0, \"order\": \"Eunicida\", \"counts\": 8}, {\"determiner_full_name\": \"Pedro H. Lima\", \"determined_year\": 2008.0, \"order\": \"Phyllodocida\", \"counts\": 5}, {\"determiner_full_name\": \"Pedro H. Lima\", \"determined_year\": 2008.0, \"order\": \"Sabellida\", \"counts\": 2}, {\"determiner_full_name\": \"Raquel M. Berlandi\", \"determined_year\": 2008.0, \"order\": \"Eunicida\", \"counts\": 8}, {\"determiner_full_name\": \"Raquel M. Berlandi\", \"determined_year\": 2008.0, \"order\": \"Spionida\", \"counts\": 4}, {\"determiner_full_name\": \"Raquel M. Berlandi\", \"determined_year\": 2009.0, \"order\": \"Eunicida\", \"counts\": 1}, {\"determiner_full_name\": \"Raquel M. Berlandi\", \"determined_year\": 2009.0, \"order\": \"Phyllodocida\", \"counts\": 6}, {\"determiner_full_name\": \"Raquel M. Berlandi\", \"determined_year\": 2010.0, \"order\": \"Eunicida\", \"counts\": 2}, {\"determiner_full_name\": \"Raquel M. Berlandi\", \"determined_year\": 2010.0, \"order\": \"Phyllodocida\", \"counts\": 5}, {\"determiner_full_name\": \"Raquel M. Berlandi\", \"determined_year\": 2010.0, \"order\": \"Sabellida\", \"counts\": 1}, {\"determiner_full_name\": \"Raquel M. Berlandi\", \"determined_year\": 2010.0, \"order\": \"Terebellida\", \"counts\": 1}, {\"determiner_full_name\": \"Raquel M. Berlandi\", \"determined_year\": 2011.0, \"order\": \"Amphinomida\", \"counts\": 1}, {\"determiner_full_name\": \"Raquel M. Berlandi\", \"determined_year\": 2011.0, \"order\": \"Eunicida\", \"counts\": 1}, {\"determiner_full_name\": \"Raquel M. Berlandi\", \"determined_year\": 2011.0, \"order\": \"Phyllodocida\", \"counts\": 4}, {\"determiner_full_name\": \"Raquel M. Berlandi\", \"determined_year\": 2011.0, \"order\": \"Sabellida\", \"counts\": 1}, {\"determiner_full_name\": \"Raquel M. Berlandi\", \"determined_year\": 2013.0, \"order\": \"Amphinomida\", \"counts\": 2}, {\"determiner_full_name\": \"Raquel M. Berlandi\", \"determined_year\": 2013.0, \"order\": \"Eunicida\", \"counts\": 19}, {\"determiner_full_name\": \"Raquel M. Berlandi\", \"determined_year\": 2013.0, \"order\": \"Phyllodocida\", \"counts\": 15}, {\"determiner_full_name\": \"Raquel M. Berlandi\", \"determined_year\": 2013.0, \"order\": \"Sabellida\", \"counts\": 3}, {\"determiner_full_name\": \"Raquel M. Berlandi\", \"determined_year\": 2013.0, \"order\": \"Scolecida\", \"counts\": 1}, {\"determiner_full_name\": \"Raquel M. Berlandi\", \"determined_year\": 2013.0, \"order\": \"Terebellida\", \"counts\": 5}, {\"determiner_full_name\": \"Romulo B. Baptista\", \"determined_year\": 2000.0, \"order\": \"Amphinomida\", \"counts\": 1}, {\"determiner_full_name\": \"Romulo B. Baptista\", \"determined_year\": 2000.0, \"order\": \"Eunicida\", \"counts\": 2}, {\"determiner_full_name\": \"Romulo B. Baptista\", \"determined_year\": 2000.0, \"order\": \"Phyllodocida\", \"counts\": 7}, {\"determiner_full_name\": \"Romulo B. Baptista\", \"determined_year\": 2000.0, \"order\": \"Sabellida\", \"counts\": 1}, {\"determiner_full_name\": \"Romulo B. Baptista\", \"determined_year\": 2000.0, \"order\": \"Scolecida\", \"counts\": 4}, {\"determiner_full_name\": \"Romulo B. Baptista\", \"determined_year\": 2000.0, \"order\": \"Spionida\", \"counts\": 1}, {\"determiner_full_name\": \"Romulo B. Baptista\", \"determined_year\": 2000.0, \"order\": \"Terebellida\", \"counts\": 4}, {\"determiner_full_name\": \"Romulo B. Baptista\", \"determined_year\": 2002.0, \"order\": \"Amphinomida\", \"counts\": 1}, {\"determiner_full_name\": \"Romulo B. Baptista\", \"determined_year\": 2002.0, \"order\": \"Phyllodocida\", \"counts\": 1}, {\"determiner_full_name\": \"Romulo B. Baptista\", \"determined_year\": 2002.0, \"order\": \"Sabellida\", \"counts\": 1}, {\"determiner_full_name\": \"Romulo B. Baptista\", \"determined_year\": 2002.0, \"order\": \"Terebellida\", \"counts\": 1}, {\"determiner_full_name\": \"Romulo B. Baptista\", \"determined_year\": 2003.0, \"order\": \"Amphinomida\", \"counts\": 6}, {\"determiner_full_name\": \"Romulo B. Baptista\", \"determined_year\": 2007.0, \"order\": \"Amphinomida\", \"counts\": 5}, {\"determiner_full_name\": \"Romulo B. Baptista\", \"determined_year\": 2007.0, \"order\": \"Scolecida\", \"counts\": 4}, {\"determiner_full_name\": \"Romulo B. Baptista\", \"determined_year\": 2009.0, \"order\": \"Amphinomida\", \"counts\": 2}, {\"determiner_full_name\": \"Romulo B. Baptista\", \"determined_year\": 2010.0, \"order\": \"Amphinomida\", \"counts\": 1}, {\"determiner_full_name\": \"Romulo B. Baptista\", \"determined_year\": 2010.0, \"order\": \"Phyllodocida\", \"counts\": 9}, {\"determiner_full_name\": \"Romulo B. Baptista\", \"determined_year\": 2010.0, \"order\": \"Scolecida\", \"counts\": 13}, {\"determiner_full_name\": \"Susie Subrinho\", \"determined_year\": 1999.0, \"order\": \"Phyllodocida\", \"counts\": 1}, {\"determiner_full_name\": \"Thauane Silva\", \"determined_year\": 2014.0, \"order\": \"Eunicida\", \"counts\": 1}, {\"determiner_full_name\": \"Thauane Silva\", \"determined_year\": 2014.0, \"order\": \"Phyllodocida\", \"counts\": 2}, {\"determiner_full_name\": \"Vasily I. Radashevsky\", \"determined_year\": 2002.0, \"order\": \"Spionida\", \"counts\": 1}, {\"determiner_full_name\": \"Vasily I. Radashevsky\", \"determined_year\": 2003.0, \"order\": \"Spionida\", \"counts\": 37}, {\"determiner_full_name\": \"Victor C. Seixas\", \"determined_year\": 2011.0, \"order\": \"Amphinomida\", \"counts\": 1}, {\"determiner_full_name\": \"Victor C. Seixas\", \"determined_year\": 2011.0, \"order\": \"Phyllodocida\", \"counts\": 4}, {\"determiner_full_name\": \"Victor C. Seixas\", \"determined_year\": 2011.0, \"order\": \"Sabellida\", \"counts\": 2}, {\"determiner_full_name\": \"Victor C. Seixas\", \"determined_year\": 2011.0, \"order\": \"Scolecida\", \"counts\": 2}, {\"determiner_full_name\": \"Victor C. Seixas\", \"determined_year\": 2011.0, \"order\": \"Spionida\", \"counts\": 1}, {\"determiner_full_name\": \"Victor C. Seixas\", \"determined_year\": 2012.0, \"order\": \"Amphinomida\", \"counts\": 1}, {\"determiner_full_name\": \"Victor C. Seixas\", \"determined_year\": 2012.0, \"order\": \"Phyllodocida\", \"counts\": 1}, {\"determiner_full_name\": \"Victor C. Seixas\", \"determined_year\": 2012.0, \"order\": \"Sabellida\", \"counts\": 2}, {\"determiner_full_name\": \"Victor C. Seixas\", \"determined_year\": 2012.0, \"order\": \"Terebellida\", \"counts\": 1}, {\"determiner_full_name\": \"Vinicius D. Miranda\", \"determined_year\": 2012.0, \"order\": \"Phyllodocida\", \"counts\": 42}, {\"determiner_full_name\": \"Wagner F. Magalhaes\", \"determined_year\": 2014.0, \"order\": \"Terebellida\", \"counts\": 6}, {\"determiner_full_name\": \"Werner F. Brandao\", \"determined_year\": 2001.0, \"order\": \"Eunicida\", \"counts\": 1}, {\"determiner_full_name\": \"Werner F. Brandao\", \"determined_year\": 2010.0, \"order\": \"Eunicida\", \"counts\": 2}, {\"determiner_full_name\": \"Werner F. Brandao\", \"determined_year\": 2010.0, \"order\": \"Phyllodocida\", \"counts\": 1}, {\"determiner_full_name\": \"Werner F. Brandao\", \"determined_year\": 2011.0, \"order\": \"Eunicida\", \"counts\": 4}, {\"determiner_full_name\": \"Werner F. Brandao\", \"determined_year\": 2013.0, \"order\": \"Eunicida\", \"counts\": 3}]}}, {\"mode\": \"vega-lite\"});\n",
       "</script>"
      ],
      "text/plain": [
       "alt.Chart(...)"
      ]
     },
     "execution_count": 39,
     "metadata": {},
     "output_type": "execute_result"
    }
   ],
   "source": [
    "g2 = alt.Chart(teste1, width=600, height=500).mark_circle().encode(\n",
    "    x= alt.X('determined_year', type='ordinal', title='Determined Year'),\n",
    "    y= alt.Y('determiner_full_name', type='nominal', title='Determiner Name', \n",
    "            sort=alt.EncodingSortField('counts', op=\"count\", order='descending')),\n",
    "    size= alt.Size('counts', type=\"quantitative\",scale=alt.Scale(range=[15, 500])),  # range ajusta tamanho do circulo\n",
    "    color= alt.Color('order', type=\"nominal\", title=\"Order\", scale=alt.Scale(domain=ordens, range=cores)),\n",
    "    tooltip= alt.Tooltip(['determiner_full_name', 'determined_year', 'counts', 'order'])\n",
    ")\n",
    "\n",
    "# saving chart\n",
    "# g2.save('./graphs/determiner/counts_per_determiner-w-order.html')\n",
    "\n",
    "g2"
   ]
  },
  {
   "cell_type": "markdown",
   "metadata": {},
   "source": [
    "<br>\n",
    "\n",
    "<font color='red'>**mesmo gráfico, agora ordenando pelo primeiro ano que o pesquisador aparece na base**</font>"
   ]
  },
  {
   "cell_type": "code",
   "execution_count": 41,
   "metadata": {
    "ExecuteTime": {
     "end_time": "2020-08-03T11:20:01.103602Z",
     "start_time": "2020-08-03T11:20:01.093982Z"
    }
   },
   "outputs": [],
   "source": [
    "# ordenando\n",
    "teste1.sort_values(['determined_year', 'determiner_full_name'], inplace=True)\n",
    "\n",
    "# salvando ordem das entradas\n",
    "sorting = list(teste1['determiner_full_name'].unique())"
   ]
  },
  {
   "cell_type": "code",
   "execution_count": 45,
   "metadata": {
    "ExecuteTime": {
     "end_time": "2020-08-03T11:21:17.895958Z",
     "start_time": "2020-08-03T11:21:17.814710Z"
    },
    "scrolled": true
   },
   "outputs": [
    {
     "data": {
      "text/html": [
       "\n",
       "<div id=\"altair-viz-6f9678b790ad4b839b1f39142b632a5e\"></div>\n",
       "<script type=\"text/javascript\">\n",
       "  (function(spec, embedOpt){\n",
       "    let outputDiv = document.currentScript.previousElementSibling;\n",
       "    if (outputDiv.id !== \"altair-viz-6f9678b790ad4b839b1f39142b632a5e\") {\n",
       "      outputDiv = document.getElementById(\"altair-viz-6f9678b790ad4b839b1f39142b632a5e\");\n",
       "    }\n",
       "    const paths = {\n",
       "      \"vega\": \"https://cdn.jsdelivr.net/npm//vega@5?noext\",\n",
       "      \"vega-lib\": \"https://cdn.jsdelivr.net/npm//vega-lib?noext\",\n",
       "      \"vega-lite\": \"https://cdn.jsdelivr.net/npm//vega-lite@4.8.1?noext\",\n",
       "      \"vega-embed\": \"https://cdn.jsdelivr.net/npm//vega-embed@6?noext\",\n",
       "    };\n",
       "\n",
       "    function loadScript(lib) {\n",
       "      return new Promise(function(resolve, reject) {\n",
       "        var s = document.createElement('script');\n",
       "        s.src = paths[lib];\n",
       "        s.async = true;\n",
       "        s.onload = () => resolve(paths[lib]);\n",
       "        s.onerror = () => reject(`Error loading script: ${paths[lib]}`);\n",
       "        document.getElementsByTagName(\"head\")[0].appendChild(s);\n",
       "      });\n",
       "    }\n",
       "\n",
       "    function showError(err) {\n",
       "      outputDiv.innerHTML = `<div class=\"error\" style=\"color:red;\">${err}</div>`;\n",
       "      throw err;\n",
       "    }\n",
       "\n",
       "    function displayChart(vegaEmbed) {\n",
       "      vegaEmbed(outputDiv, spec, embedOpt)\n",
       "        .catch(err => showError(`Javascript Error: ${err.message}<br>This usually means there's a typo in your chart specification. See the javascript console for the full traceback.`));\n",
       "    }\n",
       "\n",
       "    if(typeof define === \"function\" && define.amd) {\n",
       "      requirejs.config({paths});\n",
       "      require([\"vega-embed\"], displayChart, err => showError(`Error loading script: ${err.message}`));\n",
       "    } else if (typeof vegaEmbed === \"function\") {\n",
       "      displayChart(vegaEmbed);\n",
       "    } else {\n",
       "      loadScript(\"vega\")\n",
       "        .then(() => loadScript(\"vega-lite\"))\n",
       "        .then(() => loadScript(\"vega-embed\"))\n",
       "        .catch(showError)\n",
       "        .then(() => displayChart(vegaEmbed));\n",
       "    }\n",
       "  })({\"config\": {\"view\": {\"continuousWidth\": 400, \"continuousHeight\": 300}}, \"data\": {\"name\": \"data-be589947549c38b394a38fd57e828300\"}, \"mark\": \"circle\", \"encoding\": {\"color\": {\"type\": \"nominal\", \"field\": \"order\", \"scale\": {\"domain\": [\"Eunicida\", \"Phyllodocida\", \"Sabellida\", \"Scolecida\", \"Spionida\", \"Terebellida\", \"Amphinomida\", NaN, \"Sipuncula\", \"Crassiclitellata\"], \"range\": [\"#8ABFB0\", \"#41A681\", \"#7ACAAB\", \"#D9C2AD\", \"#0D0D0D\", \"#D96236\", \"#D94B18\", \"#FFB27C\", \"#732C02\", \"#86471B\"]}, \"title\": \"Order\"}, \"size\": {\"type\": \"quantitative\", \"field\": \"counts\", \"scale\": {\"range\": [15, 500]}}, \"tooltip\": [{\"type\": \"nominal\", \"field\": \"determiner_full_name\"}, {\"type\": \"quantitative\", \"field\": \"determined_year\"}, {\"type\": \"quantitative\", \"field\": \"counts\"}, {\"type\": \"nominal\", \"field\": \"order\"}], \"x\": {\"type\": \"ordinal\", \"field\": \"determined_year\", \"title\": \"Determined Year\"}, \"y\": {\"type\": \"nominal\", \"field\": \"determiner_full_name\", \"sort\": [\"Fredrik J. Pleijel\", \"Paulo C. Paiva\", \"Christine Ruta\", \"Fabiano d. Attolini\", \"Joana Zanol\", \"Susie Subrinho\", \"Paulo C. Lana\", \"Romulo B. Baptista\", \"Beatriz Bomfim\", \"Werner F. Brandao\", \"Elisa M. Paiva\", \"Vasily I. Radashevsky\", \"Andre R. Garraffoni\", \"Leticia Barbosa\", \"Nury E. Riascos\", \"Bruna T. Faro\", \"Pedro H. Lima\", \"Raquel M. Berlandi\", \"Daniel\", \"Marcelo B. Rocha\", \"Joao M. Nogueira\", \"Anja Schulze\", \"Brener\", \"Joziel\", \"Victor C. Seixas\", \"Gisele E. Occhioni\", \"Mariana V. Gon\\u00e7alves\", \"Vinicius D. Miranda\", \"Andre M. Lanna\", \"Antonia C. Amaral\", \"Leonardo F. Silva\", \"Natalia M. Souto\", \"Pat Hutchings\", \"Elinia M. Lopes\", \"Gustavo M. Souza\", \"Thauane Silva\", \"Wagner F. Magalhaes\"], \"title\": \"Determiner Name\"}}, \"height\": 500, \"width\": 600, \"$schema\": \"https://vega.github.io/schema/vega-lite/v4.8.1.json\", \"datasets\": {\"data-be589947549c38b394a38fd57e828300\": [{\"determiner_full_name\": \"Fredrik J. Pleijel\", \"determined_year\": 1986.0, \"order\": \"Eunicida\", \"counts\": 1}, {\"determiner_full_name\": \"Paulo C. Paiva\", \"determined_year\": 1991.0, \"order\": \"Eunicida\", \"counts\": 4}, {\"determiner_full_name\": \"Fredrik J. Pleijel\", \"determined_year\": 1993.0, \"order\": \"Eunicida\", \"counts\": 1}, {\"determiner_full_name\": \"Paulo C. Paiva\", \"determined_year\": 1993.0, \"order\": \"Phyllodocida\", \"counts\": 1}, {\"determiner_full_name\": \"Paulo C. Paiva\", \"determined_year\": 1994.0, \"order\": \"Eunicida\", \"counts\": 6}, {\"determiner_full_name\": \"Paulo C. Paiva\", \"determined_year\": 1994.0, \"order\": \"Phyllodocida\", \"counts\": 14}, {\"determiner_full_name\": \"Paulo C. Paiva\", \"determined_year\": 1994.0, \"order\": \"Terebellida\", \"counts\": 6}, {\"determiner_full_name\": \"Paulo C. Paiva\", \"determined_year\": 1997.0, \"order\": \"Phyllodocida\", \"counts\": 1}, {\"determiner_full_name\": \"Paulo C. Paiva\", \"determined_year\": 1997.0, \"order\": \"Scolecida\", \"counts\": 1}, {\"determiner_full_name\": \"Christine Ruta\", \"determined_year\": 1998.0, \"order\": \"Sabellida\", \"counts\": 1}, {\"determiner_full_name\": \"Christine Ruta\", \"determined_year\": 1998.0, \"order\": \"Terebellida\", \"counts\": 1}, {\"determiner_full_name\": \"Fabiano d. Attolini\", \"determined_year\": 1998.0, \"order\": \"Eunicida\", \"counts\": 3}, {\"determiner_full_name\": \"Paulo C. Paiva\", \"determined_year\": 1998.0, \"order\": \"Eunicida\", \"counts\": 59}, {\"determiner_full_name\": \"Fabiano d. Attolini\", \"determined_year\": 1999.0, \"order\": \"Eunicida\", \"counts\": 3}, {\"determiner_full_name\": \"Joana Zanol\", \"determined_year\": 1999.0, \"order\": \"Eunicida\", \"counts\": 1}, {\"determiner_full_name\": \"Paulo C. Paiva\", \"determined_year\": 1999.0, \"order\": \"Eunicida\", \"counts\": 1}, {\"determiner_full_name\": \"Paulo C. Paiva\", \"determined_year\": 1999.0, \"order\": \"Phyllodocida\", \"counts\": 1}, {\"determiner_full_name\": \"Paulo C. Paiva\", \"determined_year\": 1999.0, \"order\": \"Sabellida\", \"counts\": 1}, {\"determiner_full_name\": \"Susie Subrinho\", \"determined_year\": 1999.0, \"order\": \"Phyllodocida\", \"counts\": 1}, {\"determiner_full_name\": \"Joana Zanol\", \"determined_year\": 2000.0, \"order\": \"Eunicida\", \"counts\": 3}, {\"determiner_full_name\": \"Paulo C. Lana\", \"determined_year\": 2000.0, \"order\": \"Eunicida\", \"counts\": 1}, {\"determiner_full_name\": \"Paulo C. Paiva\", \"determined_year\": 2000.0, \"order\": \"Amphinomida\", \"counts\": 3}, {\"determiner_full_name\": \"Paulo C. Paiva\", \"determined_year\": 2000.0, \"order\": \"Eunicida\", \"counts\": 5}, {\"determiner_full_name\": \"Paulo C. Paiva\", \"determined_year\": 2000.0, \"order\": \"Phyllodocida\", \"counts\": 12}, {\"determiner_full_name\": \"Paulo C. Paiva\", \"determined_year\": 2000.0, \"order\": \"Sabellida\", \"counts\": 5}, {\"determiner_full_name\": \"Paulo C. Paiva\", \"determined_year\": 2000.0, \"order\": \"Scolecida\", \"counts\": 4}, {\"determiner_full_name\": \"Paulo C. Paiva\", \"determined_year\": 2000.0, \"order\": \"Spionida\", \"counts\": 1}, {\"determiner_full_name\": \"Paulo C. Paiva\", \"determined_year\": 2000.0, \"order\": \"Terebellida\", \"counts\": 5}, {\"determiner_full_name\": \"Romulo B. Baptista\", \"determined_year\": 2000.0, \"order\": \"Amphinomida\", \"counts\": 1}, {\"determiner_full_name\": \"Romulo B. Baptista\", \"determined_year\": 2000.0, \"order\": \"Eunicida\", \"counts\": 2}, {\"determiner_full_name\": \"Romulo B. Baptista\", \"determined_year\": 2000.0, \"order\": \"Phyllodocida\", \"counts\": 7}, {\"determiner_full_name\": \"Romulo B. Baptista\", \"determined_year\": 2000.0, \"order\": \"Sabellida\", \"counts\": 1}, {\"determiner_full_name\": \"Romulo B. Baptista\", \"determined_year\": 2000.0, \"order\": \"Scolecida\", \"counts\": 4}, {\"determiner_full_name\": \"Romulo B. Baptista\", \"determined_year\": 2000.0, \"order\": \"Spionida\", \"counts\": 1}, {\"determiner_full_name\": \"Romulo B. Baptista\", \"determined_year\": 2000.0, \"order\": \"Terebellida\", \"counts\": 4}, {\"determiner_full_name\": \"Beatriz Bomfim\", \"determined_year\": 2001.0, \"order\": \"Phyllodocida\", \"counts\": 1}, {\"determiner_full_name\": \"Joana Zanol\", \"determined_year\": 2001.0, \"order\": \"Eunicida\", \"counts\": 14}, {\"determiner_full_name\": \"Joana Zanol\", \"determined_year\": 2001.0, \"order\": \"Phyllodocida\", \"counts\": 2}, {\"determiner_full_name\": \"Paulo C. Paiva\", \"determined_year\": 2001.0, \"order\": \"Amphinomida\", \"counts\": 9}, {\"determiner_full_name\": \"Paulo C. Paiva\", \"determined_year\": 2001.0, \"order\": \"Crassiclitellata\", \"counts\": 1}, {\"determiner_full_name\": \"Paulo C. Paiva\", \"determined_year\": 2001.0, \"order\": \"Eunicida\", \"counts\": 33}, {\"determiner_full_name\": \"Paulo C. Paiva\", \"determined_year\": 2001.0, \"order\": \"Phyllodocida\", \"counts\": 65}, {\"determiner_full_name\": \"Paulo C. Paiva\", \"determined_year\": 2001.0, \"order\": \"Sabellida\", \"counts\": 9}, {\"determiner_full_name\": \"Paulo C. Paiva\", \"determined_year\": 2001.0, \"order\": \"Scolecida\", \"counts\": 34}, {\"determiner_full_name\": \"Paulo C. Paiva\", \"determined_year\": 2001.0, \"order\": \"Spionida\", \"counts\": 10}, {\"determiner_full_name\": \"Paulo C. Paiva\", \"determined_year\": 2001.0, \"order\": \"Terebellida\", \"counts\": 48}, {\"determiner_full_name\": \"Werner F. Brandao\", \"determined_year\": 2001.0, \"order\": \"Eunicida\", \"counts\": 1}, {\"determiner_full_name\": \"Beatriz Bomfim\", \"determined_year\": 2002.0, \"order\": \"Phyllodocida\", \"counts\": 2}, {\"determiner_full_name\": \"Elisa M. Paiva\", \"determined_year\": 2002.0, \"order\": \"Phyllodocida\", \"counts\": 1}, {\"determiner_full_name\": \"Paulo C. Paiva\", \"determined_year\": 2002.0, \"order\": \"Eunicida\", \"counts\": 4}, {\"determiner_full_name\": \"Paulo C. Paiva\", \"determined_year\": 2002.0, \"order\": \"Phyllodocida\", \"counts\": 17}, {\"determiner_full_name\": \"Paulo C. Paiva\", \"determined_year\": 2002.0, \"order\": \"Sabellida\", \"counts\": 1}, {\"determiner_full_name\": \"Paulo C. Paiva\", \"determined_year\": 2002.0, \"order\": \"Scolecida\", \"counts\": 6}, {\"determiner_full_name\": \"Paulo C. Paiva\", \"determined_year\": 2002.0, \"order\": \"Spionida\", \"counts\": 5}, {\"determiner_full_name\": \"Paulo C. Paiva\", \"determined_year\": 2002.0, \"order\": \"Terebellida\", \"counts\": 3}, {\"determiner_full_name\": \"Romulo B. Baptista\", \"determined_year\": 2002.0, \"order\": \"Amphinomida\", \"counts\": 1}, {\"determiner_full_name\": \"Romulo B. Baptista\", \"determined_year\": 2002.0, \"order\": \"Phyllodocida\", \"counts\": 1}, {\"determiner_full_name\": \"Romulo B. Baptista\", \"determined_year\": 2002.0, \"order\": \"Sabellida\", \"counts\": 1}, {\"determiner_full_name\": \"Romulo B. Baptista\", \"determined_year\": 2002.0, \"order\": \"Terebellida\", \"counts\": 1}, {\"determiner_full_name\": \"Vasily I. Radashevsky\", \"determined_year\": 2002.0, \"order\": \"Spionida\", \"counts\": 1}, {\"determiner_full_name\": \"Andre R. Garraffoni\", \"determined_year\": 2003.0, \"order\": \"Terebellida\", \"counts\": 7}, {\"determiner_full_name\": \"Elisa M. Paiva\", \"determined_year\": 2003.0, \"order\": \"Sabellida\", \"counts\": 14}, {\"determiner_full_name\": \"Paulo C. Paiva\", \"determined_year\": 2003.0, \"order\": \"Eunicida\", \"counts\": 1}, {\"determiner_full_name\": \"Paulo C. Paiva\", \"determined_year\": 2003.0, \"order\": \"Phyllodocida\", \"counts\": 1}, {\"determiner_full_name\": \"Paulo C. Paiva\", \"determined_year\": 2003.0, \"order\": \"Sabellida\", \"counts\": 1}, {\"determiner_full_name\": \"Paulo C. Paiva\", \"determined_year\": 2003.0, \"order\": \"Spionida\", \"counts\": 1}, {\"determiner_full_name\": \"Romulo B. Baptista\", \"determined_year\": 2003.0, \"order\": \"Amphinomida\", \"counts\": 6}, {\"determiner_full_name\": \"Vasily I. Radashevsky\", \"determined_year\": 2003.0, \"order\": \"Spionida\", \"counts\": 37}, {\"determiner_full_name\": \"Leticia Barbosa\", \"determined_year\": 2004.0, \"order\": \"Phyllodocida\", \"counts\": 7}, {\"determiner_full_name\": \"Paulo C. Paiva\", \"determined_year\": 2004.0, \"order\": \"Eunicida\", \"counts\": 3}, {\"determiner_full_name\": \"Paulo C. Paiva\", \"determined_year\": 2004.0, \"order\": \"Phyllodocida\", \"counts\": 4}, {\"determiner_full_name\": \"Paulo C. Paiva\", \"determined_year\": 2004.0, \"order\": \"Sabellida\", \"counts\": 3}, {\"determiner_full_name\": \"Paulo C. Paiva\", \"determined_year\": 2004.0, \"order\": \"Scolecida\", \"counts\": 1}, {\"determiner_full_name\": \"Paulo C. Paiva\", \"determined_year\": 2004.0, \"order\": \"Spionida\", \"counts\": 3}, {\"determiner_full_name\": \"Paulo C. Paiva\", \"determined_year\": 2004.0, \"order\": \"Terebellida\", \"counts\": 2}, {\"determiner_full_name\": \"Joana Zanol\", \"determined_year\": 2005.0, \"order\": \"Eunicida\", \"counts\": 93}, {\"determiner_full_name\": \"Joana Zanol\", \"determined_year\": 2005.0, \"order\": \"Phyllodocida\", \"counts\": 1}, {\"determiner_full_name\": \"Nury E. Riascos\", \"determined_year\": 2005.0, \"order\": \"Phyllodocida\", \"counts\": 2}, {\"determiner_full_name\": \"Nury E. Riascos\", \"determined_year\": 2005.0, \"order\": \"Sabellida\", \"counts\": 2}, {\"determiner_full_name\": \"Nury E. Riascos\", \"determined_year\": 2005.0, \"order\": \"Spionida\", \"counts\": 1}, {\"determiner_full_name\": \"Leticia Barbosa\", \"determined_year\": 2007.0, \"order\": \"Eunicida\", \"counts\": 4}, {\"determiner_full_name\": \"Leticia Barbosa\", \"determined_year\": 2007.0, \"order\": \"Phyllodocida\", \"counts\": 13}, {\"determiner_full_name\": \"Leticia Barbosa\", \"determined_year\": 2007.0, \"order\": \"Sabellida\", \"counts\": 2}, {\"determiner_full_name\": \"Leticia Barbosa\", \"determined_year\": 2007.0, \"order\": \"Scolecida\", \"counts\": 22}, {\"determiner_full_name\": \"Leticia Barbosa\", \"determined_year\": 2007.0, \"order\": \"Spionida\", \"counts\": 1}, {\"determiner_full_name\": \"Leticia Barbosa\", \"determined_year\": 2007.0, \"order\": \"Terebellida\", \"counts\": 12}, {\"determiner_full_name\": \"Paulo C. Paiva\", \"determined_year\": 2007.0, \"order\": \"Terebellida\", \"counts\": 1}, {\"determiner_full_name\": \"Romulo B. Baptista\", \"determined_year\": 2007.0, \"order\": \"Amphinomida\", \"counts\": 5}, {\"determiner_full_name\": \"Romulo B. Baptista\", \"determined_year\": 2007.0, \"order\": \"Scolecida\", \"counts\": 4}, {\"determiner_full_name\": \"Bruna T. Faro\", \"determined_year\": 2008.0, \"order\": \"Scolecida\", \"counts\": 1}, {\"determiner_full_name\": \"Paulo C. Paiva\", \"determined_year\": 2008.0, \"order\": \"Sabellida\", \"counts\": 133}, {\"determiner_full_name\": \"Paulo C. Paiva\", \"determined_year\": 2008.0, \"order\": \"Terebellida\", \"counts\": 29}, {\"determiner_full_name\": \"Pedro H. Lima\", \"determined_year\": 2008.0, \"order\": \"Eunicida\", \"counts\": 8}, {\"determiner_full_name\": \"Pedro H. Lima\", \"determined_year\": 2008.0, \"order\": \"Phyllodocida\", \"counts\": 5}, {\"determiner_full_name\": \"Pedro H. Lima\", \"determined_year\": 2008.0, \"order\": \"Sabellida\", \"counts\": 2}, {\"determiner_full_name\": \"Raquel M. Berlandi\", \"determined_year\": 2008.0, \"order\": \"Eunicida\", \"counts\": 8}, {\"determiner_full_name\": \"Raquel M. Berlandi\", \"determined_year\": 2008.0, \"order\": \"Spionida\", \"counts\": 4}, {\"determiner_full_name\": \"Daniel\", \"determined_year\": 2009.0, \"order\": \"Phyllodocida\", \"counts\": 1}, {\"determiner_full_name\": \"Marcelo B. Rocha\", \"determined_year\": 2009.0, \"order\": \"Spionida\", \"counts\": 8}, {\"determiner_full_name\": \"Raquel M. Berlandi\", \"determined_year\": 2009.0, \"order\": \"Eunicida\", \"counts\": 1}, {\"determiner_full_name\": \"Raquel M. Berlandi\", \"determined_year\": 2009.0, \"order\": \"Phyllodocida\", \"counts\": 6}, {\"determiner_full_name\": \"Romulo B. Baptista\", \"determined_year\": 2009.0, \"order\": \"Amphinomida\", \"counts\": 2}, {\"determiner_full_name\": \"Joao M. Nogueira\", \"determined_year\": 2010.0, \"order\": \"Eunicida\", \"counts\": 1}, {\"determiner_full_name\": \"Nury E. Riascos\", \"determined_year\": 2010.0, \"order\": \"Phyllodocida\", \"counts\": 3}, {\"determiner_full_name\": \"Paulo C. Paiva\", \"determined_year\": 2010.0, \"order\": \"Sabellida\", \"counts\": 50}, {\"determiner_full_name\": \"Raquel M. Berlandi\", \"determined_year\": 2010.0, \"order\": \"Eunicida\", \"counts\": 2}, {\"determiner_full_name\": \"Raquel M. Berlandi\", \"determined_year\": 2010.0, \"order\": \"Phyllodocida\", \"counts\": 5}, {\"determiner_full_name\": \"Raquel M. Berlandi\", \"determined_year\": 2010.0, \"order\": \"Sabellida\", \"counts\": 1}, {\"determiner_full_name\": \"Raquel M. Berlandi\", \"determined_year\": 2010.0, \"order\": \"Terebellida\", \"counts\": 1}, {\"determiner_full_name\": \"Romulo B. Baptista\", \"determined_year\": 2010.0, \"order\": \"Amphinomida\", \"counts\": 1}, {\"determiner_full_name\": \"Romulo B. Baptista\", \"determined_year\": 2010.0, \"order\": \"Phyllodocida\", \"counts\": 9}, {\"determiner_full_name\": \"Romulo B. Baptista\", \"determined_year\": 2010.0, \"order\": \"Scolecida\", \"counts\": 13}, {\"determiner_full_name\": \"Werner F. Brandao\", \"determined_year\": 2010.0, \"order\": \"Eunicida\", \"counts\": 2}, {\"determiner_full_name\": \"Werner F. Brandao\", \"determined_year\": 2010.0, \"order\": \"Phyllodocida\", \"counts\": 1}, {\"determiner_full_name\": \"Anja Schulze\", \"determined_year\": 2011.0, \"order\": \"Eunicida\", \"counts\": 2}, {\"determiner_full_name\": \"Brener\", \"determined_year\": 2011.0, \"order\": \"Eunicida\", \"counts\": 3}, {\"determiner_full_name\": \"Bruna T. Faro\", \"determined_year\": 2011.0, \"order\": \"Eunicida\", \"counts\": 1}, {\"determiner_full_name\": \"Bruna T. Faro\", \"determined_year\": 2011.0, \"order\": \"Phyllodocida\", \"counts\": 953}, {\"determiner_full_name\": \"Bruna T. Faro\", \"determined_year\": 2011.0, \"order\": \"Scolecida\", \"counts\": 1}, {\"determiner_full_name\": \"Bruna T. Faro\", \"determined_year\": 2011.0, \"order\": \"Spionida\", \"counts\": 1}, {\"determiner_full_name\": \"Joziel\", \"determined_year\": 2011.0, \"order\": \"Amphinomida\", \"counts\": 1}, {\"determiner_full_name\": \"Nury E. Riascos\", \"determined_year\": 2011.0, \"order\": \"Eunicida\", \"counts\": 11}, {\"determiner_full_name\": \"Nury E. Riascos\", \"determined_year\": 2011.0, \"order\": \"Phyllodocida\", \"counts\": 12}, {\"determiner_full_name\": \"Nury E. Riascos\", \"determined_year\": 2011.0, \"order\": \"Sabellida\", \"counts\": 2}, {\"determiner_full_name\": \"Nury E. Riascos\", \"determined_year\": 2011.0, \"order\": \"Terebellida\", \"counts\": 4}, {\"determiner_full_name\": \"Paulo C. Paiva\", \"determined_year\": 2011.0, \"order\": \"Spionida\", \"counts\": 1}, {\"determiner_full_name\": \"Raquel M. Berlandi\", \"determined_year\": 2011.0, \"order\": \"Amphinomida\", \"counts\": 1}, {\"determiner_full_name\": \"Raquel M. Berlandi\", \"determined_year\": 2011.0, \"order\": \"Eunicida\", \"counts\": 1}, {\"determiner_full_name\": \"Raquel M. Berlandi\", \"determined_year\": 2011.0, \"order\": \"Phyllodocida\", \"counts\": 4}, {\"determiner_full_name\": \"Raquel M. Berlandi\", \"determined_year\": 2011.0, \"order\": \"Sabellida\", \"counts\": 1}, {\"determiner_full_name\": \"Victor C. Seixas\", \"determined_year\": 2011.0, \"order\": \"Amphinomida\", \"counts\": 1}, {\"determiner_full_name\": \"Victor C. Seixas\", \"determined_year\": 2011.0, \"order\": \"Phyllodocida\", \"counts\": 4}, {\"determiner_full_name\": \"Victor C. Seixas\", \"determined_year\": 2011.0, \"order\": \"Sabellida\", \"counts\": 2}, {\"determiner_full_name\": \"Victor C. Seixas\", \"determined_year\": 2011.0, \"order\": \"Scolecida\", \"counts\": 2}, {\"determiner_full_name\": \"Victor C. Seixas\", \"determined_year\": 2011.0, \"order\": \"Spionida\", \"counts\": 1}, {\"determiner_full_name\": \"Werner F. Brandao\", \"determined_year\": 2011.0, \"order\": \"Eunicida\", \"counts\": 4}, {\"determiner_full_name\": \"Anja Schulze\", \"determined_year\": 2012.0, \"order\": \"Eunicida\", \"counts\": 1}, {\"determiner_full_name\": \"Anja Schulze\", \"determined_year\": 2012.0, \"order\": \"Phyllodocida\", \"counts\": 3}, {\"determiner_full_name\": \"Gisele E. Occhioni\", \"determined_year\": 2012.0, \"order\": \"Sabellida\", \"counts\": 6}, {\"determiner_full_name\": \"Joana Zanol\", \"determined_year\": 2012.0, \"order\": \"Phyllodocida\", \"counts\": 2}, {\"determiner_full_name\": \"Joao M. Nogueira\", \"determined_year\": 2012.0, \"order\": \"Eunicida\", \"counts\": 1}, {\"determiner_full_name\": \"Mariana V. Gon\\u00e7alves\", \"determined_year\": 2012.0, \"order\": \"Eunicida\", \"counts\": 2}, {\"determiner_full_name\": \"Victor C. Seixas\", \"determined_year\": 2012.0, \"order\": \"Amphinomida\", \"counts\": 1}, {\"determiner_full_name\": \"Victor C. Seixas\", \"determined_year\": 2012.0, \"order\": \"Phyllodocida\", \"counts\": 1}, {\"determiner_full_name\": \"Victor C. Seixas\", \"determined_year\": 2012.0, \"order\": \"Sabellida\", \"counts\": 2}, {\"determiner_full_name\": \"Victor C. Seixas\", \"determined_year\": 2012.0, \"order\": \"Terebellida\", \"counts\": 1}, {\"determiner_full_name\": \"Vinicius D. Miranda\", \"determined_year\": 2012.0, \"order\": \"Phyllodocida\", \"counts\": 42}, {\"determiner_full_name\": \"Andre M. Lanna\", \"determined_year\": 2013.0, \"order\": \"Phyllodocida\", \"counts\": 1}, {\"determiner_full_name\": \"Antonia C. Amaral\", \"determined_year\": 2013.0, \"order\": \"Eunicida\", \"counts\": 1}, {\"determiner_full_name\": \"Gisele E. Occhioni\", \"determined_year\": 2013.0, \"order\": \"Sabellida\", \"counts\": 74}, {\"determiner_full_name\": \"Joana Zanol\", \"determined_year\": 2013.0, \"order\": \"Eunicida\", \"counts\": 4}, {\"determiner_full_name\": \"Joao M. Nogueira\", \"determined_year\": 2013.0, \"order\": \"Eunicida\", \"counts\": 1}, {\"determiner_full_name\": \"Leonardo F. Silva\", \"determined_year\": 2013.0, \"order\": \"Eunicida\", \"counts\": 1}, {\"determiner_full_name\": \"Natalia M. Souto\", \"determined_year\": 2013.0, \"order\": \"Eunicida\", \"counts\": 2}, {\"determiner_full_name\": \"Nury E. Riascos\", \"determined_year\": 2013.0, \"order\": \"Amphinomida\", \"counts\": 1}, {\"determiner_full_name\": \"Nury E. Riascos\", \"determined_year\": 2013.0, \"order\": \"Eunicida\", \"counts\": 14}, {\"determiner_full_name\": \"Nury E. Riascos\", \"determined_year\": 2013.0, \"order\": \"Phyllodocida\", \"counts\": 15}, {\"determiner_full_name\": \"Nury E. Riascos\", \"determined_year\": 2013.0, \"order\": \"Sabellida\", \"counts\": 1}, {\"determiner_full_name\": \"Nury E. Riascos\", \"determined_year\": 2013.0, \"order\": \"Scolecida\", \"counts\": 5}, {\"determiner_full_name\": \"Nury E. Riascos\", \"determined_year\": 2013.0, \"order\": \"Spionida\", \"counts\": 4}, {\"determiner_full_name\": \"Nury E. Riascos\", \"determined_year\": 2013.0, \"order\": \"Terebellida\", \"counts\": 5}, {\"determiner_full_name\": \"Pat Hutchings\", \"determined_year\": 2013.0, \"order\": \"Eunicida\", \"counts\": 1}, {\"determiner_full_name\": \"Paulo C. Paiva\", \"determined_year\": 2013.0, \"order\": \"Eunicida\", \"counts\": 1}, {\"determiner_full_name\": \"Paulo C. Paiva\", \"determined_year\": 2013.0, \"order\": \"Phyllodocida\", \"counts\": 1}, {\"determiner_full_name\": \"Raquel M. Berlandi\", \"determined_year\": 2013.0, \"order\": \"Amphinomida\", \"counts\": 2}, {\"determiner_full_name\": \"Raquel M. Berlandi\", \"determined_year\": 2013.0, \"order\": \"Eunicida\", \"counts\": 19}, {\"determiner_full_name\": \"Raquel M. Berlandi\", \"determined_year\": 2013.0, \"order\": \"Phyllodocida\", \"counts\": 15}, {\"determiner_full_name\": \"Raquel M. Berlandi\", \"determined_year\": 2013.0, \"order\": \"Sabellida\", \"counts\": 3}, {\"determiner_full_name\": \"Raquel M. Berlandi\", \"determined_year\": 2013.0, \"order\": \"Scolecida\", \"counts\": 1}, {\"determiner_full_name\": \"Raquel M. Berlandi\", \"determined_year\": 2013.0, \"order\": \"Terebellida\", \"counts\": 5}, {\"determiner_full_name\": \"Werner F. Brandao\", \"determined_year\": 2013.0, \"order\": \"Eunicida\", \"counts\": 3}, {\"determiner_full_name\": \"Elinia M. Lopes\", \"determined_year\": 2014.0, \"order\": \"Phyllodocida\", \"counts\": 1}, {\"determiner_full_name\": \"Gisele E. Occhioni\", \"determined_year\": 2014.0, \"order\": \"Sabellida\", \"counts\": 126}, {\"determiner_full_name\": \"Gustavo M. Souza\", \"determined_year\": 2014.0, \"order\": \"Scolecida\", \"counts\": 1}, {\"determiner_full_name\": \"Joana Zanol\", \"determined_year\": 2014.0, \"order\": \"Phyllodocida\", \"counts\": 1}, {\"determiner_full_name\": \"Joao M. Nogueira\", \"determined_year\": 2014.0, \"order\": \"Eunicida\", \"counts\": 4}, {\"determiner_full_name\": \"Leonardo F. Silva\", \"determined_year\": 2014.0, \"order\": \"Amphinomida\", \"counts\": 2}, {\"determiner_full_name\": \"Leonardo F. Silva\", \"determined_year\": 2014.0, \"order\": \"Eunicida\", \"counts\": 7}, {\"determiner_full_name\": \"Leonardo F. Silva\", \"determined_year\": 2014.0, \"order\": \"Phyllodocida\", \"counts\": 4}, {\"determiner_full_name\": \"Leonardo F. Silva\", \"determined_year\": 2014.0, \"order\": \"Sabellida\", \"counts\": 2}, {\"determiner_full_name\": \"Leonardo F. Silva\", \"determined_year\": 2014.0, \"order\": \"Terebellida\", \"counts\": 2}, {\"determiner_full_name\": \"Thauane Silva\", \"determined_year\": 2014.0, \"order\": \"Eunicida\", \"counts\": 1}, {\"determiner_full_name\": \"Thauane Silva\", \"determined_year\": 2014.0, \"order\": \"Phyllodocida\", \"counts\": 2}, {\"determiner_full_name\": \"Wagner F. Magalhaes\", \"determined_year\": 2014.0, \"order\": \"Terebellida\", \"counts\": 6}, {\"determiner_full_name\": \"Joana Zanol\", \"determined_year\": 2015.0, \"order\": \"Eunicida\", \"counts\": 1}, {\"determiner_full_name\": \"Joana Zanol\", \"determined_year\": 2015.0, \"order\": \"Phyllodocida\", \"counts\": 2}, {\"determiner_full_name\": \"Joana Zanol\", \"determined_year\": 2015.0, \"order\": \"Terebellida\", \"counts\": 1}, {\"determiner_full_name\": \"Paulo C. Paiva\", \"determined_year\": 2015.0, \"order\": \"Eunicida\", \"counts\": 1}, {\"determiner_full_name\": \"Paulo C. Paiva\", \"determined_year\": 2015.0, \"order\": \"Spionida\", \"counts\": 2}]}}, {\"mode\": \"vega-lite\"});\n",
       "</script>"
      ],
      "text/plain": [
       "alt.Chart(...)"
      ]
     },
     "execution_count": 45,
     "metadata": {},
     "output_type": "execute_result"
    }
   ],
   "source": [
    "g2 = alt.Chart(teste1, width=600, height=500).mark_circle().encode(\n",
    "    x= alt.X('determined_year', type='ordinal', title='Determined Year'),\n",
    "    y= alt.Y('determiner_full_name', type='nominal', title='Determiner Name', \n",
    "            sort=sorting),\n",
    "    size= alt.Size('counts', type=\"quantitative\",scale=alt.Scale(range=[15, 500])),  # range ajusta tamanho do circulo\n",
    "    color= alt.Color('order', type=\"nominal\", title=\"Order\", scale=alt.Scale(domain=ordens, range=cores)),\n",
    "    tooltip= alt.Tooltip(['determiner_full_name', 'determined_year', 'counts', 'order'])\n",
    ")\n",
    "\n",
    "# saving chart\n",
    "# g2.save('./graphs/determiner/counts_per_determiner-c-ordem_reordenado.html')\n",
    "\n",
    "g2"
   ]
  },
  {
   "cell_type": "markdown",
   "metadata": {},
   "source": [
    "<br>\n",
    "\n",
    "### Gráfico dos determinadores mais expressivos \n",
    "\n",
    "<font color='red' size='5'>mesmo gráfico, ordenado pela soma das contagens </font>"
   ]
  },
  {
   "cell_type": "code",
   "execution_count": 54,
   "metadata": {
    "ExecuteTime": {
     "end_time": "2020-08-03T11:40:20.002436Z",
     "start_time": "2020-08-03T11:40:19.987932Z"
    }
   },
   "outputs": [],
   "source": [
    "# somando contagens de cada pesquisador\n",
    "sorting = teste1.groupby('determiner_full_name').sum()['counts'].reset_index().rename(\n",
    "    columns={'counts':'sum'})\n",
    "\n",
    "sorting = sorting.sort_values('sum', ascending=False)\n",
    "\n",
    "# Nomes dos pesquisadores ordenados\n",
    "sort_list = sorting['determiner_full_name'].unique()\n",
    "\n",
    "# sorting.head()"
   ]
  },
  {
   "cell_type": "code",
   "execution_count": 55,
   "metadata": {
    "ExecuteTime": {
     "end_time": "2020-08-03T11:40:23.385006Z",
     "start_time": "2020-08-03T11:40:23.324904Z"
    }
   },
   "outputs": [
    {
     "data": {
      "text/html": [
       "\n",
       "<div id=\"altair-viz-fbf9e27915d14a15bcae3170a2b87ece\"></div>\n",
       "<script type=\"text/javascript\">\n",
       "  (function(spec, embedOpt){\n",
       "    let outputDiv = document.currentScript.previousElementSibling;\n",
       "    if (outputDiv.id !== \"altair-viz-fbf9e27915d14a15bcae3170a2b87ece\") {\n",
       "      outputDiv = document.getElementById(\"altair-viz-fbf9e27915d14a15bcae3170a2b87ece\");\n",
       "    }\n",
       "    const paths = {\n",
       "      \"vega\": \"https://cdn.jsdelivr.net/npm//vega@5?noext\",\n",
       "      \"vega-lib\": \"https://cdn.jsdelivr.net/npm//vega-lib?noext\",\n",
       "      \"vega-lite\": \"https://cdn.jsdelivr.net/npm//vega-lite@4.8.1?noext\",\n",
       "      \"vega-embed\": \"https://cdn.jsdelivr.net/npm//vega-embed@6?noext\",\n",
       "    };\n",
       "\n",
       "    function loadScript(lib) {\n",
       "      return new Promise(function(resolve, reject) {\n",
       "        var s = document.createElement('script');\n",
       "        s.src = paths[lib];\n",
       "        s.async = true;\n",
       "        s.onload = () => resolve(paths[lib]);\n",
       "        s.onerror = () => reject(`Error loading script: ${paths[lib]}`);\n",
       "        document.getElementsByTagName(\"head\")[0].appendChild(s);\n",
       "      });\n",
       "    }\n",
       "\n",
       "    function showError(err) {\n",
       "      outputDiv.innerHTML = `<div class=\"error\" style=\"color:red;\">${err}</div>`;\n",
       "      throw err;\n",
       "    }\n",
       "\n",
       "    function displayChart(vegaEmbed) {\n",
       "      vegaEmbed(outputDiv, spec, embedOpt)\n",
       "        .catch(err => showError(`Javascript Error: ${err.message}<br>This usually means there's a typo in your chart specification. See the javascript console for the full traceback.`));\n",
       "    }\n",
       "\n",
       "    if(typeof define === \"function\" && define.amd) {\n",
       "      requirejs.config({paths});\n",
       "      require([\"vega-embed\"], displayChart, err => showError(`Error loading script: ${err.message}`));\n",
       "    } else if (typeof vegaEmbed === \"function\") {\n",
       "      displayChart(vegaEmbed);\n",
       "    } else {\n",
       "      loadScript(\"vega\")\n",
       "        .then(() => loadScript(\"vega-lite\"))\n",
       "        .then(() => loadScript(\"vega-embed\"))\n",
       "        .catch(showError)\n",
       "        .then(() => displayChart(vegaEmbed));\n",
       "    }\n",
       "  })({\"config\": {\"view\": {\"continuousWidth\": 400, \"continuousHeight\": 300}}, \"data\": {\"name\": \"data-be589947549c38b394a38fd57e828300\"}, \"mark\": \"circle\", \"encoding\": {\"color\": {\"type\": \"nominal\", \"field\": \"order\", \"scale\": {\"domain\": [\"Eunicida\", \"Phyllodocida\", \"Sabellida\", \"Scolecida\", \"Spionida\", \"Terebellida\", \"Amphinomida\", NaN, \"Sipuncula\", \"Crassiclitellata\"], \"range\": [\"#8ABFB0\", \"#41A681\", \"#7ACAAB\", \"#D9C2AD\", \"#0D0D0D\", \"#D96236\", \"#D94B18\", \"#FFB27C\", \"#732C02\", \"#86471B\"]}, \"title\": \"Order\"}, \"size\": {\"type\": \"quantitative\", \"field\": \"counts\", \"scale\": {\"range\": [15, 500]}}, \"tooltip\": [{\"type\": \"nominal\", \"field\": \"determiner_full_name\"}, {\"type\": \"quantitative\", \"field\": \"determined_year\"}, {\"type\": \"quantitative\", \"field\": \"counts\"}, {\"type\": \"nominal\", \"field\": \"order\"}], \"x\": {\"type\": \"ordinal\", \"field\": \"determined_year\", \"title\": \"Determined Year\"}, \"y\": {\"type\": \"nominal\", \"field\": \"determiner_full_name\", \"sort\": [\"Bruna T. Faro\", \"Paulo C. Paiva\", \"Gisele E. Occhioni\", \"Joana Zanol\", \"Nury E. Riascos\", \"Raquel M. Berlandi\", \"Romulo B. Baptista\", \"Leticia Barbosa\", \"Vinicius D. Miranda\", \"Vasily I. Radashevsky\", \"Leonardo F. Silva\", \"Victor C. Seixas\", \"Pedro H. Lima\", \"Elisa M. Paiva\", \"Werner F. Brandao\", \"Marcelo B. Rocha\", \"Andre R. Garraffoni\", \"Joao M. Nogueira\", \"Wagner F. Magalhaes\", \"Fabiano d. Attolini\", \"Anja Schulze\", \"Thauane Silva\", \"Beatriz Bomfim\", \"Brener\", \"Fredrik J. Pleijel\", \"Mariana V. Gon\\u00e7alves\", \"Natalia M. Souto\", \"Christine Ruta\", \"Gustavo M. Souza\", \"Antonia C. Amaral\", \"Elinia M. Lopes\", \"Susie Subrinho\", \"Daniel\", \"Paulo C. Lana\", \"Pat Hutchings\", \"Joziel\", \"Andre M. Lanna\"], \"title\": \"Determiner Name\"}}, \"height\": 600, \"width\": 800, \"$schema\": \"https://vega.github.io/schema/vega-lite/v4.8.1.json\", \"datasets\": {\"data-be589947549c38b394a38fd57e828300\": [{\"determiner_full_name\": \"Fredrik J. Pleijel\", \"determined_year\": 1986.0, \"order\": \"Eunicida\", \"counts\": 1}, {\"determiner_full_name\": \"Paulo C. Paiva\", \"determined_year\": 1991.0, \"order\": \"Eunicida\", \"counts\": 4}, {\"determiner_full_name\": \"Fredrik J. Pleijel\", \"determined_year\": 1993.0, \"order\": \"Eunicida\", \"counts\": 1}, {\"determiner_full_name\": \"Paulo C. Paiva\", \"determined_year\": 1993.0, \"order\": \"Phyllodocida\", \"counts\": 1}, {\"determiner_full_name\": \"Paulo C. Paiva\", \"determined_year\": 1994.0, \"order\": \"Eunicida\", \"counts\": 6}, {\"determiner_full_name\": \"Paulo C. Paiva\", \"determined_year\": 1994.0, \"order\": \"Phyllodocida\", \"counts\": 14}, {\"determiner_full_name\": \"Paulo C. Paiva\", \"determined_year\": 1994.0, \"order\": \"Terebellida\", \"counts\": 6}, {\"determiner_full_name\": \"Paulo C. Paiva\", \"determined_year\": 1997.0, \"order\": \"Phyllodocida\", \"counts\": 1}, {\"determiner_full_name\": \"Paulo C. Paiva\", \"determined_year\": 1997.0, \"order\": \"Scolecida\", \"counts\": 1}, {\"determiner_full_name\": \"Christine Ruta\", \"determined_year\": 1998.0, \"order\": \"Sabellida\", \"counts\": 1}, {\"determiner_full_name\": \"Christine Ruta\", \"determined_year\": 1998.0, \"order\": \"Terebellida\", \"counts\": 1}, {\"determiner_full_name\": \"Fabiano d. Attolini\", \"determined_year\": 1998.0, \"order\": \"Eunicida\", \"counts\": 3}, {\"determiner_full_name\": \"Paulo C. Paiva\", \"determined_year\": 1998.0, \"order\": \"Eunicida\", \"counts\": 59}, {\"determiner_full_name\": \"Fabiano d. Attolini\", \"determined_year\": 1999.0, \"order\": \"Eunicida\", \"counts\": 3}, {\"determiner_full_name\": \"Joana Zanol\", \"determined_year\": 1999.0, \"order\": \"Eunicida\", \"counts\": 1}, {\"determiner_full_name\": \"Paulo C. Paiva\", \"determined_year\": 1999.0, \"order\": \"Eunicida\", \"counts\": 1}, {\"determiner_full_name\": \"Paulo C. Paiva\", \"determined_year\": 1999.0, \"order\": \"Phyllodocida\", \"counts\": 1}, {\"determiner_full_name\": \"Paulo C. Paiva\", \"determined_year\": 1999.0, \"order\": \"Sabellida\", \"counts\": 1}, {\"determiner_full_name\": \"Susie Subrinho\", \"determined_year\": 1999.0, \"order\": \"Phyllodocida\", \"counts\": 1}, {\"determiner_full_name\": \"Joana Zanol\", \"determined_year\": 2000.0, \"order\": \"Eunicida\", \"counts\": 3}, {\"determiner_full_name\": \"Paulo C. Lana\", \"determined_year\": 2000.0, \"order\": \"Eunicida\", \"counts\": 1}, {\"determiner_full_name\": \"Paulo C. Paiva\", \"determined_year\": 2000.0, \"order\": \"Amphinomida\", \"counts\": 3}, {\"determiner_full_name\": \"Paulo C. Paiva\", \"determined_year\": 2000.0, \"order\": \"Eunicida\", \"counts\": 5}, {\"determiner_full_name\": \"Paulo C. Paiva\", \"determined_year\": 2000.0, \"order\": \"Phyllodocida\", \"counts\": 12}, {\"determiner_full_name\": \"Paulo C. Paiva\", \"determined_year\": 2000.0, \"order\": \"Sabellida\", \"counts\": 5}, {\"determiner_full_name\": \"Paulo C. Paiva\", \"determined_year\": 2000.0, \"order\": \"Scolecida\", \"counts\": 4}, {\"determiner_full_name\": \"Paulo C. Paiva\", \"determined_year\": 2000.0, \"order\": \"Spionida\", \"counts\": 1}, {\"determiner_full_name\": \"Paulo C. Paiva\", \"determined_year\": 2000.0, \"order\": \"Terebellida\", \"counts\": 5}, {\"determiner_full_name\": \"Romulo B. Baptista\", \"determined_year\": 2000.0, \"order\": \"Amphinomida\", \"counts\": 1}, {\"determiner_full_name\": \"Romulo B. Baptista\", \"determined_year\": 2000.0, \"order\": \"Eunicida\", \"counts\": 2}, {\"determiner_full_name\": \"Romulo B. Baptista\", \"determined_year\": 2000.0, \"order\": \"Phyllodocida\", \"counts\": 7}, {\"determiner_full_name\": \"Romulo B. Baptista\", \"determined_year\": 2000.0, \"order\": \"Sabellida\", \"counts\": 1}, {\"determiner_full_name\": \"Romulo B. Baptista\", \"determined_year\": 2000.0, \"order\": \"Scolecida\", \"counts\": 4}, {\"determiner_full_name\": \"Romulo B. Baptista\", \"determined_year\": 2000.0, \"order\": \"Spionida\", \"counts\": 1}, {\"determiner_full_name\": \"Romulo B. Baptista\", \"determined_year\": 2000.0, \"order\": \"Terebellida\", \"counts\": 4}, {\"determiner_full_name\": \"Beatriz Bomfim\", \"determined_year\": 2001.0, \"order\": \"Phyllodocida\", \"counts\": 1}, {\"determiner_full_name\": \"Joana Zanol\", \"determined_year\": 2001.0, \"order\": \"Eunicida\", \"counts\": 14}, {\"determiner_full_name\": \"Joana Zanol\", \"determined_year\": 2001.0, \"order\": \"Phyllodocida\", \"counts\": 2}, {\"determiner_full_name\": \"Paulo C. Paiva\", \"determined_year\": 2001.0, \"order\": \"Amphinomida\", \"counts\": 9}, {\"determiner_full_name\": \"Paulo C. Paiva\", \"determined_year\": 2001.0, \"order\": \"Crassiclitellata\", \"counts\": 1}, {\"determiner_full_name\": \"Paulo C. Paiva\", \"determined_year\": 2001.0, \"order\": \"Eunicida\", \"counts\": 33}, {\"determiner_full_name\": \"Paulo C. Paiva\", \"determined_year\": 2001.0, \"order\": \"Phyllodocida\", \"counts\": 65}, {\"determiner_full_name\": \"Paulo C. Paiva\", \"determined_year\": 2001.0, \"order\": \"Sabellida\", \"counts\": 9}, {\"determiner_full_name\": \"Paulo C. Paiva\", \"determined_year\": 2001.0, \"order\": \"Scolecida\", \"counts\": 34}, {\"determiner_full_name\": \"Paulo C. Paiva\", \"determined_year\": 2001.0, \"order\": \"Spionida\", \"counts\": 10}, {\"determiner_full_name\": \"Paulo C. Paiva\", \"determined_year\": 2001.0, \"order\": \"Terebellida\", \"counts\": 48}, {\"determiner_full_name\": \"Werner F. Brandao\", \"determined_year\": 2001.0, \"order\": \"Eunicida\", \"counts\": 1}, {\"determiner_full_name\": \"Beatriz Bomfim\", \"determined_year\": 2002.0, \"order\": \"Phyllodocida\", \"counts\": 2}, {\"determiner_full_name\": \"Elisa M. Paiva\", \"determined_year\": 2002.0, \"order\": \"Phyllodocida\", \"counts\": 1}, {\"determiner_full_name\": \"Paulo C. Paiva\", \"determined_year\": 2002.0, \"order\": \"Eunicida\", \"counts\": 4}, {\"determiner_full_name\": \"Paulo C. Paiva\", \"determined_year\": 2002.0, \"order\": \"Phyllodocida\", \"counts\": 17}, {\"determiner_full_name\": \"Paulo C. Paiva\", \"determined_year\": 2002.0, \"order\": \"Sabellida\", \"counts\": 1}, {\"determiner_full_name\": \"Paulo C. Paiva\", \"determined_year\": 2002.0, \"order\": \"Scolecida\", \"counts\": 6}, {\"determiner_full_name\": \"Paulo C. Paiva\", \"determined_year\": 2002.0, \"order\": \"Spionida\", \"counts\": 5}, {\"determiner_full_name\": \"Paulo C. Paiva\", \"determined_year\": 2002.0, \"order\": \"Terebellida\", \"counts\": 3}, {\"determiner_full_name\": \"Romulo B. Baptista\", \"determined_year\": 2002.0, \"order\": \"Amphinomida\", \"counts\": 1}, {\"determiner_full_name\": \"Romulo B. Baptista\", \"determined_year\": 2002.0, \"order\": \"Phyllodocida\", \"counts\": 1}, {\"determiner_full_name\": \"Romulo B. Baptista\", \"determined_year\": 2002.0, \"order\": \"Sabellida\", \"counts\": 1}, {\"determiner_full_name\": \"Romulo B. Baptista\", \"determined_year\": 2002.0, \"order\": \"Terebellida\", \"counts\": 1}, {\"determiner_full_name\": \"Vasily I. Radashevsky\", \"determined_year\": 2002.0, \"order\": \"Spionida\", \"counts\": 1}, {\"determiner_full_name\": \"Andre R. Garraffoni\", \"determined_year\": 2003.0, \"order\": \"Terebellida\", \"counts\": 7}, {\"determiner_full_name\": \"Elisa M. Paiva\", \"determined_year\": 2003.0, \"order\": \"Sabellida\", \"counts\": 14}, {\"determiner_full_name\": \"Paulo C. Paiva\", \"determined_year\": 2003.0, \"order\": \"Eunicida\", \"counts\": 1}, {\"determiner_full_name\": \"Paulo C. Paiva\", \"determined_year\": 2003.0, \"order\": \"Phyllodocida\", \"counts\": 1}, {\"determiner_full_name\": \"Paulo C. Paiva\", \"determined_year\": 2003.0, \"order\": \"Sabellida\", \"counts\": 1}, {\"determiner_full_name\": \"Paulo C. Paiva\", \"determined_year\": 2003.0, \"order\": \"Spionida\", \"counts\": 1}, {\"determiner_full_name\": \"Romulo B. Baptista\", \"determined_year\": 2003.0, \"order\": \"Amphinomida\", \"counts\": 6}, {\"determiner_full_name\": \"Vasily I. Radashevsky\", \"determined_year\": 2003.0, \"order\": \"Spionida\", \"counts\": 37}, {\"determiner_full_name\": \"Leticia Barbosa\", \"determined_year\": 2004.0, \"order\": \"Phyllodocida\", \"counts\": 7}, {\"determiner_full_name\": \"Paulo C. Paiva\", \"determined_year\": 2004.0, \"order\": \"Eunicida\", \"counts\": 3}, {\"determiner_full_name\": \"Paulo C. Paiva\", \"determined_year\": 2004.0, \"order\": \"Phyllodocida\", \"counts\": 4}, {\"determiner_full_name\": \"Paulo C. Paiva\", \"determined_year\": 2004.0, \"order\": \"Sabellida\", \"counts\": 3}, {\"determiner_full_name\": \"Paulo C. Paiva\", \"determined_year\": 2004.0, \"order\": \"Scolecida\", \"counts\": 1}, {\"determiner_full_name\": \"Paulo C. Paiva\", \"determined_year\": 2004.0, \"order\": \"Spionida\", \"counts\": 3}, {\"determiner_full_name\": \"Paulo C. Paiva\", \"determined_year\": 2004.0, \"order\": \"Terebellida\", \"counts\": 2}, {\"determiner_full_name\": \"Joana Zanol\", \"determined_year\": 2005.0, \"order\": \"Eunicida\", \"counts\": 93}, {\"determiner_full_name\": \"Joana Zanol\", \"determined_year\": 2005.0, \"order\": \"Phyllodocida\", \"counts\": 1}, {\"determiner_full_name\": \"Nury E. Riascos\", \"determined_year\": 2005.0, \"order\": \"Phyllodocida\", \"counts\": 2}, {\"determiner_full_name\": \"Nury E. Riascos\", \"determined_year\": 2005.0, \"order\": \"Sabellida\", \"counts\": 2}, {\"determiner_full_name\": \"Nury E. Riascos\", \"determined_year\": 2005.0, \"order\": \"Spionida\", \"counts\": 1}, {\"determiner_full_name\": \"Leticia Barbosa\", \"determined_year\": 2007.0, \"order\": \"Eunicida\", \"counts\": 4}, {\"determiner_full_name\": \"Leticia Barbosa\", \"determined_year\": 2007.0, \"order\": \"Phyllodocida\", \"counts\": 13}, {\"determiner_full_name\": \"Leticia Barbosa\", \"determined_year\": 2007.0, \"order\": \"Sabellida\", \"counts\": 2}, {\"determiner_full_name\": \"Leticia Barbosa\", \"determined_year\": 2007.0, \"order\": \"Scolecida\", \"counts\": 22}, {\"determiner_full_name\": \"Leticia Barbosa\", \"determined_year\": 2007.0, \"order\": \"Spionida\", \"counts\": 1}, {\"determiner_full_name\": \"Leticia Barbosa\", \"determined_year\": 2007.0, \"order\": \"Terebellida\", \"counts\": 12}, {\"determiner_full_name\": \"Paulo C. Paiva\", \"determined_year\": 2007.0, \"order\": \"Terebellida\", \"counts\": 1}, {\"determiner_full_name\": \"Romulo B. Baptista\", \"determined_year\": 2007.0, \"order\": \"Amphinomida\", \"counts\": 5}, {\"determiner_full_name\": \"Romulo B. Baptista\", \"determined_year\": 2007.0, \"order\": \"Scolecida\", \"counts\": 4}, {\"determiner_full_name\": \"Bruna T. Faro\", \"determined_year\": 2008.0, \"order\": \"Scolecida\", \"counts\": 1}, {\"determiner_full_name\": \"Paulo C. Paiva\", \"determined_year\": 2008.0, \"order\": \"Sabellida\", \"counts\": 133}, {\"determiner_full_name\": \"Paulo C. Paiva\", \"determined_year\": 2008.0, \"order\": \"Terebellida\", \"counts\": 29}, {\"determiner_full_name\": \"Pedro H. Lima\", \"determined_year\": 2008.0, \"order\": \"Eunicida\", \"counts\": 8}, {\"determiner_full_name\": \"Pedro H. Lima\", \"determined_year\": 2008.0, \"order\": \"Phyllodocida\", \"counts\": 5}, {\"determiner_full_name\": \"Pedro H. Lima\", \"determined_year\": 2008.0, \"order\": \"Sabellida\", \"counts\": 2}, {\"determiner_full_name\": \"Raquel M. Berlandi\", \"determined_year\": 2008.0, \"order\": \"Eunicida\", \"counts\": 8}, {\"determiner_full_name\": \"Raquel M. Berlandi\", \"determined_year\": 2008.0, \"order\": \"Spionida\", \"counts\": 4}, {\"determiner_full_name\": \"Daniel\", \"determined_year\": 2009.0, \"order\": \"Phyllodocida\", \"counts\": 1}, {\"determiner_full_name\": \"Marcelo B. Rocha\", \"determined_year\": 2009.0, \"order\": \"Spionida\", \"counts\": 8}, {\"determiner_full_name\": \"Raquel M. Berlandi\", \"determined_year\": 2009.0, \"order\": \"Eunicida\", \"counts\": 1}, {\"determiner_full_name\": \"Raquel M. Berlandi\", \"determined_year\": 2009.0, \"order\": \"Phyllodocida\", \"counts\": 6}, {\"determiner_full_name\": \"Romulo B. Baptista\", \"determined_year\": 2009.0, \"order\": \"Amphinomida\", \"counts\": 2}, {\"determiner_full_name\": \"Joao M. Nogueira\", \"determined_year\": 2010.0, \"order\": \"Eunicida\", \"counts\": 1}, {\"determiner_full_name\": \"Nury E. Riascos\", \"determined_year\": 2010.0, \"order\": \"Phyllodocida\", \"counts\": 3}, {\"determiner_full_name\": \"Paulo C. Paiva\", \"determined_year\": 2010.0, \"order\": \"Sabellida\", \"counts\": 50}, {\"determiner_full_name\": \"Raquel M. Berlandi\", \"determined_year\": 2010.0, \"order\": \"Eunicida\", \"counts\": 2}, {\"determiner_full_name\": \"Raquel M. Berlandi\", \"determined_year\": 2010.0, \"order\": \"Phyllodocida\", \"counts\": 5}, {\"determiner_full_name\": \"Raquel M. Berlandi\", \"determined_year\": 2010.0, \"order\": \"Sabellida\", \"counts\": 1}, {\"determiner_full_name\": \"Raquel M. Berlandi\", \"determined_year\": 2010.0, \"order\": \"Terebellida\", \"counts\": 1}, {\"determiner_full_name\": \"Romulo B. Baptista\", \"determined_year\": 2010.0, \"order\": \"Amphinomida\", \"counts\": 1}, {\"determiner_full_name\": \"Romulo B. Baptista\", \"determined_year\": 2010.0, \"order\": \"Phyllodocida\", \"counts\": 9}, {\"determiner_full_name\": \"Romulo B. Baptista\", \"determined_year\": 2010.0, \"order\": \"Scolecida\", \"counts\": 13}, {\"determiner_full_name\": \"Werner F. Brandao\", \"determined_year\": 2010.0, \"order\": \"Eunicida\", \"counts\": 2}, {\"determiner_full_name\": \"Werner F. Brandao\", \"determined_year\": 2010.0, \"order\": \"Phyllodocida\", \"counts\": 1}, {\"determiner_full_name\": \"Anja Schulze\", \"determined_year\": 2011.0, \"order\": \"Eunicida\", \"counts\": 2}, {\"determiner_full_name\": \"Brener\", \"determined_year\": 2011.0, \"order\": \"Eunicida\", \"counts\": 3}, {\"determiner_full_name\": \"Bruna T. Faro\", \"determined_year\": 2011.0, \"order\": \"Eunicida\", \"counts\": 1}, {\"determiner_full_name\": \"Bruna T. Faro\", \"determined_year\": 2011.0, \"order\": \"Phyllodocida\", \"counts\": 953}, {\"determiner_full_name\": \"Bruna T. Faro\", \"determined_year\": 2011.0, \"order\": \"Scolecida\", \"counts\": 1}, {\"determiner_full_name\": \"Bruna T. Faro\", \"determined_year\": 2011.0, \"order\": \"Spionida\", \"counts\": 1}, {\"determiner_full_name\": \"Joziel\", \"determined_year\": 2011.0, \"order\": \"Amphinomida\", \"counts\": 1}, {\"determiner_full_name\": \"Nury E. Riascos\", \"determined_year\": 2011.0, \"order\": \"Eunicida\", \"counts\": 11}, {\"determiner_full_name\": \"Nury E. Riascos\", \"determined_year\": 2011.0, \"order\": \"Phyllodocida\", \"counts\": 12}, {\"determiner_full_name\": \"Nury E. Riascos\", \"determined_year\": 2011.0, \"order\": \"Sabellida\", \"counts\": 2}, {\"determiner_full_name\": \"Nury E. Riascos\", \"determined_year\": 2011.0, \"order\": \"Terebellida\", \"counts\": 4}, {\"determiner_full_name\": \"Paulo C. Paiva\", \"determined_year\": 2011.0, \"order\": \"Spionida\", \"counts\": 1}, {\"determiner_full_name\": \"Raquel M. Berlandi\", \"determined_year\": 2011.0, \"order\": \"Amphinomida\", \"counts\": 1}, {\"determiner_full_name\": \"Raquel M. Berlandi\", \"determined_year\": 2011.0, \"order\": \"Eunicida\", \"counts\": 1}, {\"determiner_full_name\": \"Raquel M. Berlandi\", \"determined_year\": 2011.0, \"order\": \"Phyllodocida\", \"counts\": 4}, {\"determiner_full_name\": \"Raquel M. Berlandi\", \"determined_year\": 2011.0, \"order\": \"Sabellida\", \"counts\": 1}, {\"determiner_full_name\": \"Victor C. Seixas\", \"determined_year\": 2011.0, \"order\": \"Amphinomida\", \"counts\": 1}, {\"determiner_full_name\": \"Victor C. Seixas\", \"determined_year\": 2011.0, \"order\": \"Phyllodocida\", \"counts\": 4}, {\"determiner_full_name\": \"Victor C. Seixas\", \"determined_year\": 2011.0, \"order\": \"Sabellida\", \"counts\": 2}, {\"determiner_full_name\": \"Victor C. Seixas\", \"determined_year\": 2011.0, \"order\": \"Scolecida\", \"counts\": 2}, {\"determiner_full_name\": \"Victor C. Seixas\", \"determined_year\": 2011.0, \"order\": \"Spionida\", \"counts\": 1}, {\"determiner_full_name\": \"Werner F. Brandao\", \"determined_year\": 2011.0, \"order\": \"Eunicida\", \"counts\": 4}, {\"determiner_full_name\": \"Anja Schulze\", \"determined_year\": 2012.0, \"order\": \"Eunicida\", \"counts\": 1}, {\"determiner_full_name\": \"Anja Schulze\", \"determined_year\": 2012.0, \"order\": \"Phyllodocida\", \"counts\": 3}, {\"determiner_full_name\": \"Gisele E. Occhioni\", \"determined_year\": 2012.0, \"order\": \"Sabellida\", \"counts\": 6}, {\"determiner_full_name\": \"Joana Zanol\", \"determined_year\": 2012.0, \"order\": \"Phyllodocida\", \"counts\": 2}, {\"determiner_full_name\": \"Joao M. Nogueira\", \"determined_year\": 2012.0, \"order\": \"Eunicida\", \"counts\": 1}, {\"determiner_full_name\": \"Mariana V. Gon\\u00e7alves\", \"determined_year\": 2012.0, \"order\": \"Eunicida\", \"counts\": 2}, {\"determiner_full_name\": \"Victor C. Seixas\", \"determined_year\": 2012.0, \"order\": \"Amphinomida\", \"counts\": 1}, {\"determiner_full_name\": \"Victor C. Seixas\", \"determined_year\": 2012.0, \"order\": \"Phyllodocida\", \"counts\": 1}, {\"determiner_full_name\": \"Victor C. Seixas\", \"determined_year\": 2012.0, \"order\": \"Sabellida\", \"counts\": 2}, {\"determiner_full_name\": \"Victor C. Seixas\", \"determined_year\": 2012.0, \"order\": \"Terebellida\", \"counts\": 1}, {\"determiner_full_name\": \"Vinicius D. Miranda\", \"determined_year\": 2012.0, \"order\": \"Phyllodocida\", \"counts\": 42}, {\"determiner_full_name\": \"Andre M. Lanna\", \"determined_year\": 2013.0, \"order\": \"Phyllodocida\", \"counts\": 1}, {\"determiner_full_name\": \"Antonia C. Amaral\", \"determined_year\": 2013.0, \"order\": \"Eunicida\", \"counts\": 1}, {\"determiner_full_name\": \"Gisele E. Occhioni\", \"determined_year\": 2013.0, \"order\": \"Sabellida\", \"counts\": 74}, {\"determiner_full_name\": \"Joana Zanol\", \"determined_year\": 2013.0, \"order\": \"Eunicida\", \"counts\": 4}, {\"determiner_full_name\": \"Joao M. Nogueira\", \"determined_year\": 2013.0, \"order\": \"Eunicida\", \"counts\": 1}, {\"determiner_full_name\": \"Leonardo F. Silva\", \"determined_year\": 2013.0, \"order\": \"Eunicida\", \"counts\": 1}, {\"determiner_full_name\": \"Natalia M. Souto\", \"determined_year\": 2013.0, \"order\": \"Eunicida\", \"counts\": 2}, {\"determiner_full_name\": \"Nury E. Riascos\", \"determined_year\": 2013.0, \"order\": \"Amphinomida\", \"counts\": 1}, {\"determiner_full_name\": \"Nury E. Riascos\", \"determined_year\": 2013.0, \"order\": \"Eunicida\", \"counts\": 14}, {\"determiner_full_name\": \"Nury E. Riascos\", \"determined_year\": 2013.0, \"order\": \"Phyllodocida\", \"counts\": 15}, {\"determiner_full_name\": \"Nury E. Riascos\", \"determined_year\": 2013.0, \"order\": \"Sabellida\", \"counts\": 1}, {\"determiner_full_name\": \"Nury E. Riascos\", \"determined_year\": 2013.0, \"order\": \"Scolecida\", \"counts\": 5}, {\"determiner_full_name\": \"Nury E. Riascos\", \"determined_year\": 2013.0, \"order\": \"Spionida\", \"counts\": 4}, {\"determiner_full_name\": \"Nury E. Riascos\", \"determined_year\": 2013.0, \"order\": \"Terebellida\", \"counts\": 5}, {\"determiner_full_name\": \"Pat Hutchings\", \"determined_year\": 2013.0, \"order\": \"Eunicida\", \"counts\": 1}, {\"determiner_full_name\": \"Paulo C. Paiva\", \"determined_year\": 2013.0, \"order\": \"Eunicida\", \"counts\": 1}, {\"determiner_full_name\": \"Paulo C. Paiva\", \"determined_year\": 2013.0, \"order\": \"Phyllodocida\", \"counts\": 1}, {\"determiner_full_name\": \"Raquel M. Berlandi\", \"determined_year\": 2013.0, \"order\": \"Amphinomida\", \"counts\": 2}, {\"determiner_full_name\": \"Raquel M. Berlandi\", \"determined_year\": 2013.0, \"order\": \"Eunicida\", \"counts\": 19}, {\"determiner_full_name\": \"Raquel M. Berlandi\", \"determined_year\": 2013.0, \"order\": \"Phyllodocida\", \"counts\": 15}, {\"determiner_full_name\": \"Raquel M. Berlandi\", \"determined_year\": 2013.0, \"order\": \"Sabellida\", \"counts\": 3}, {\"determiner_full_name\": \"Raquel M. Berlandi\", \"determined_year\": 2013.0, \"order\": \"Scolecida\", \"counts\": 1}, {\"determiner_full_name\": \"Raquel M. Berlandi\", \"determined_year\": 2013.0, \"order\": \"Terebellida\", \"counts\": 5}, {\"determiner_full_name\": \"Werner F. Brandao\", \"determined_year\": 2013.0, \"order\": \"Eunicida\", \"counts\": 3}, {\"determiner_full_name\": \"Elinia M. Lopes\", \"determined_year\": 2014.0, \"order\": \"Phyllodocida\", \"counts\": 1}, {\"determiner_full_name\": \"Gisele E. Occhioni\", \"determined_year\": 2014.0, \"order\": \"Sabellida\", \"counts\": 126}, {\"determiner_full_name\": \"Gustavo M. Souza\", \"determined_year\": 2014.0, \"order\": \"Scolecida\", \"counts\": 1}, {\"determiner_full_name\": \"Joana Zanol\", \"determined_year\": 2014.0, \"order\": \"Phyllodocida\", \"counts\": 1}, {\"determiner_full_name\": \"Joao M. Nogueira\", \"determined_year\": 2014.0, \"order\": \"Eunicida\", \"counts\": 4}, {\"determiner_full_name\": \"Leonardo F. Silva\", \"determined_year\": 2014.0, \"order\": \"Amphinomida\", \"counts\": 2}, {\"determiner_full_name\": \"Leonardo F. Silva\", \"determined_year\": 2014.0, \"order\": \"Eunicida\", \"counts\": 7}, {\"determiner_full_name\": \"Leonardo F. Silva\", \"determined_year\": 2014.0, \"order\": \"Phyllodocida\", \"counts\": 4}, {\"determiner_full_name\": \"Leonardo F. Silva\", \"determined_year\": 2014.0, \"order\": \"Sabellida\", \"counts\": 2}, {\"determiner_full_name\": \"Leonardo F. Silva\", \"determined_year\": 2014.0, \"order\": \"Terebellida\", \"counts\": 2}, {\"determiner_full_name\": \"Thauane Silva\", \"determined_year\": 2014.0, \"order\": \"Eunicida\", \"counts\": 1}, {\"determiner_full_name\": \"Thauane Silva\", \"determined_year\": 2014.0, \"order\": \"Phyllodocida\", \"counts\": 2}, {\"determiner_full_name\": \"Wagner F. Magalhaes\", \"determined_year\": 2014.0, \"order\": \"Terebellida\", \"counts\": 6}, {\"determiner_full_name\": \"Joana Zanol\", \"determined_year\": 2015.0, \"order\": \"Eunicida\", \"counts\": 1}, {\"determiner_full_name\": \"Joana Zanol\", \"determined_year\": 2015.0, \"order\": \"Phyllodocida\", \"counts\": 2}, {\"determiner_full_name\": \"Joana Zanol\", \"determined_year\": 2015.0, \"order\": \"Terebellida\", \"counts\": 1}, {\"determiner_full_name\": \"Paulo C. Paiva\", \"determined_year\": 2015.0, \"order\": \"Eunicida\", \"counts\": 1}, {\"determiner_full_name\": \"Paulo C. Paiva\", \"determined_year\": 2015.0, \"order\": \"Spionida\", \"counts\": 2}]}}, {\"mode\": \"vega-lite\"});\n",
       "</script>"
      ],
      "text/plain": [
       "alt.Chart(...)"
      ]
     },
     "execution_count": 55,
     "metadata": {},
     "output_type": "execute_result"
    }
   ],
   "source": [
    "g2 = alt.Chart(teste1[teste1['determiner_full_name'].isin(sort_list)], width=800, height=600).mark_circle().encode(\n",
    "    x= alt.X('determined_year', type='ordinal', title='Determined Year'),\n",
    "    y= alt.Y('determiner_full_name', type='nominal', title='Determiner Name', \n",
    "            sort=sort_list),\n",
    "    size= alt.Size('counts', type=\"quantitative\",scale=alt.Scale(range=[15, 500])),  # range ajusta tamanho do circulo\n",
    "    color= alt.Color('order', type=\"nominal\", title=\"Order\", scale=alt.Scale(domain=ordens, range=cores)),\n",
    "    tooltip= alt.Tooltip(['determiner_full_name', 'determined_year', 'counts', 'order'])\n",
    ")\n",
    "\n",
    "# saving chart\n",
    "# g2.save('./graphs/determiner/counts_per_determiner-ordenado_pela_soma.html')\n",
    "\n",
    "g2"
   ]
  },
  {
   "cell_type": "markdown",
   "metadata": {},
   "source": [
    "<br>\n",
    "\n",
    "### Creating chart: counts per collector per year\n",
    "\n",
    "<font color='red' size='5'> Collectors name is sensitive data. Do not publish it without curator's permission </font>"
   ]
  },
  {
   "cell_type": "code",
   "execution_count": 65,
   "metadata": {
    "ExecuteTime": {
     "end_time": "2020-08-03T11:43:07.954078Z",
     "start_time": "2020-08-03T11:43:07.947805Z"
    }
   },
   "outputs": [
    {
     "data": {
      "text/plain": [
       "1059"
      ]
     },
     "execution_count": 65,
     "metadata": {},
     "output_type": "execute_result"
    }
   ],
   "source": [
    "# OBS: 1059 NANs\n",
    "NewTable['collector_full_name'].isna().sum()"
   ]
  },
  {
   "cell_type": "code",
   "execution_count": 57,
   "metadata": {
    "ExecuteTime": {
     "end_time": "2020-08-03T11:41:21.913378Z",
     "start_time": "2020-08-03T11:41:21.878495Z"
    }
   },
   "outputs": [],
   "source": [
    "teste = NewTable.groupby(['collector_full_name','start_year']).count()['class'].reset_index().rename(columns=\n",
    "                                                                                            {'class':'counts'})"
   ]
  },
  {
   "cell_type": "code",
   "execution_count": 66,
   "metadata": {
    "ExecuteTime": {
     "end_time": "2020-08-03T11:44:32.981752Z",
     "start_time": "2020-08-03T11:44:32.967386Z"
    }
   },
   "outputs": [],
   "source": [
    "g1 = alt.Chart(teste, width=600, height=600).mark_circle().encode(\n",
    "    x= alt.X('start_year', type='ordinal', title='Start Year'),\n",
    "    y= alt.Y('collector_full_name', type='nominal', title='Collector Name', \n",
    "            sort=alt.EncodingSortField('counts', op=\"count\", order='descending')),\n",
    "    size= alt.Size('counts', scale=alt.Scale(range=[15, 500])),  # range ajusta tamanho do circulo\n",
    "    tooltip= alt.Tooltip(['collector_full_name', 'start_year', 'counts'])\n",
    ")\n",
    "\n",
    "# g1.save('./graphs/collector/counts_per_collector.html')\n",
    "\n",
    "# g1"
   ]
  },
  {
   "cell_type": "markdown",
   "metadata": {},
   "source": [
    "<font color='red' size='5'>mesmo gráfico, ordenando também pela ordem</font>\n",
    "\n",
    "**OBS:** Note que\n",
    "\n",
    "- as contagens mudam (porque estamos ordenando por um fator a mais)\n",
    "- há pontos sobrepostos (semelhante ao que tinhamos para a base crustaceas - para um mesmo ano, um mesmo pesquisador descobriu animais de ordens/familias diferentes)"
   ]
  },
  {
   "cell_type": "code",
   "execution_count": 79,
   "metadata": {
    "ExecuteTime": {
     "end_time": "2020-08-03T11:48:08.075826Z",
     "start_time": "2020-08-03T11:48:08.037408Z"
    }
   },
   "outputs": [],
   "source": [
    "teste1 = NewTable.groupby(['collector_full_name','start_year', 'order']).count()['class'].reset_index().rename(columns=\n",
    "                                                                                            {'class':'counts'})"
   ]
  },
  {
   "cell_type": "code",
   "execution_count": 81,
   "metadata": {
    "ExecuteTime": {
     "end_time": "2020-08-03T11:48:12.285136Z",
     "start_time": "2020-08-03T11:48:12.265316Z"
    }
   },
   "outputs": [],
   "source": [
    "g2 = alt.Chart(teste1, width=600, height=600).mark_circle().encode(\n",
    "    x= alt.X('start_year', type='ordinal', title='Start Year'),\n",
    "    y= alt.Y('collector_full_name', type='nominal', title='Collector Name', \n",
    "            sort=alt.EncodingSortField('counts', op=\"count\", order='descending')),\n",
    "    size= alt.Size('counts', type=\"quantitative\",scale=alt.Scale(range=[15, 500])),  # range ajusta tamanho do circulo\n",
    "    color= alt.Color('order', type=\"nominal\", title=\"Order\", scale=alt.Scale(domain=ordens, range=cores)),\n",
    "    tooltip= alt.Tooltip(['collector_full_name', 'start_year', 'counts', 'order'])\n",
    ")\n",
    "\n",
    "# saving chart\n",
    "# g2.save('./graphs/collector/counts_per_collector-w-order.html')\n",
    "\n",
    "# g2"
   ]
  },
  {
   "cell_type": "markdown",
   "metadata": {},
   "source": [
    "<br>\n",
    "\n",
    "<font color='red'>**mesmo gráfico, agora ordenando pelo primeiro ano que o pesquisador aparece na base**</font>"
   ]
  },
  {
   "cell_type": "code",
   "execution_count": 82,
   "metadata": {
    "ExecuteTime": {
     "end_time": "2020-08-03T11:48:13.986529Z",
     "start_time": "2020-08-03T11:48:13.978011Z"
    }
   },
   "outputs": [],
   "source": [
    "# ordenando\n",
    "teste1.sort_values(['start_year', 'collector_full_name'], inplace=True)\n",
    "\n",
    "# salvando ordem das entradas\n",
    "sorting = list(teste1['collector_full_name'].unique())"
   ]
  },
  {
   "cell_type": "code",
   "execution_count": 86,
   "metadata": {
    "ExecuteTime": {
     "end_time": "2020-08-03T11:48:39.282428Z",
     "start_time": "2020-08-03T11:48:39.265671Z"
    }
   },
   "outputs": [],
   "source": [
    "g2 = alt.Chart(teste1, width=600, height=600).mark_circle().encode(\n",
    "    x= alt.X('start_year', type='ordinal', title='Start Year'),\n",
    "    y= alt.Y('collector_full_name', type='nominal', title='Collector Name', \n",
    "            sort=alt.EncodingSortField('start_year', op=\"min\", order='ascending')),\n",
    "    size= alt.Size('counts', type=\"quantitative\",scale=alt.Scale(range=[15, 500])),  # range ajusta tamanho do circulo\n",
    "    color= alt.Color('order', type=\"nominal\", title=\"Order\", scale=alt.Scale(domain=ordens, range=cores)),\n",
    "    tooltip= alt.Tooltip(['collector_full_name', 'start_year', 'counts', 'order'])\n",
    ")\n",
    "\n",
    "# saving chart\n",
    "# g2.save('./graphs/collector/counts_per_researcher-c-ordem_reordenado.html')\n",
    "\n",
    "# g2"
   ]
  },
  {
   "cell_type": "markdown",
   "metadata": {},
   "source": [
    "<br>\n",
    "\n",
    "### Gráfico dos coletores mais expressivos"
   ]
  },
  {
   "cell_type": "code",
   "execution_count": 87,
   "metadata": {
    "ExecuteTime": {
     "end_time": "2020-08-03T11:48:52.164522Z",
     "start_time": "2020-08-03T11:48:52.145110Z"
    }
   },
   "outputs": [
    {
     "data": {
      "text/html": [
       "<div>\n",
       "<style scoped>\n",
       "    .dataframe tbody tr th:only-of-type {\n",
       "        vertical-align: middle;\n",
       "    }\n",
       "\n",
       "    .dataframe tbody tr th {\n",
       "        vertical-align: top;\n",
       "    }\n",
       "\n",
       "    .dataframe thead th {\n",
       "        text-align: right;\n",
       "    }\n",
       "</style>\n",
       "<table border=\"1\" class=\"dataframe\">\n",
       "  <thead>\n",
       "    <tr style=\"text-align: right;\">\n",
       "      <th></th>\n",
       "      <th>collector_full_name</th>\n",
       "      <th>sum</th>\n",
       "    </tr>\n",
       "  </thead>\n",
       "  <tbody>\n",
       "    <tr>\n",
       "      <th>54</th>\n",
       "      <td>Ricardo Guimaraes</td>\n",
       "      <td>956</td>\n",
       "    </tr>\n",
       "    <tr>\n",
       "      <th>48</th>\n",
       "      <td>Paulo Paiva</td>\n",
       "      <td>516</td>\n",
       "    </tr>\n",
       "    <tr>\n",
       "      <th>52</th>\n",
       "      <td>Projeto Revizee/score-central</td>\n",
       "      <td>308</td>\n",
       "    </tr>\n",
       "    <tr>\n",
       "      <th>33</th>\n",
       "      <td>Joana Silva</td>\n",
       "      <td>194</td>\n",
       "    </tr>\n",
       "    <tr>\n",
       "      <th>51</th>\n",
       "      <td>Projeto Oceanproof</td>\n",
       "      <td>144</td>\n",
       "    </tr>\n",
       "  </tbody>\n",
       "</table>\n",
       "</div>"
      ],
      "text/plain": [
       "              collector_full_name  sum\n",
       "54              Ricardo Guimaraes  956\n",
       "48                    Paulo Paiva  516\n",
       "52  Projeto Revizee/score-central  308\n",
       "33                    Joana Silva  194\n",
       "51             Projeto Oceanproof  144"
      ]
     },
     "execution_count": 87,
     "metadata": {},
     "output_type": "execute_result"
    }
   ],
   "source": [
    "# somando contagens de cada pesquisador\n",
    "sorting = teste1.groupby('collector_full_name').sum()['counts'].reset_index().rename(\n",
    "    columns={'counts':'sum'})\n",
    "\n",
    "sorting = sorting.sort_values('sum', ascending=False)\n",
    "\n",
    "# Nomes dos pesquisadores ordenados\n",
    "sort_list = sorting['collector_full_name'].unique()\n",
    "\n",
    "sorting.head()"
   ]
  },
  {
   "cell_type": "code",
   "execution_count": 93,
   "metadata": {
    "ExecuteTime": {
     "end_time": "2020-08-03T11:50:51.587641Z",
     "start_time": "2020-08-03T11:50:51.560175Z"
    }
   },
   "outputs": [],
   "source": [
    "g2 = alt.Chart(teste1[teste1['collector_full_name'].isin(sort_list)], \n",
    "               width=600, height=600).mark_circle().encode(\n",
    "    x= alt.X('start_year', type='ordinal', title='Start Year'),\n",
    "    y= alt.Y('collector_full_name', type='nominal', title='Collector Name', sort= sort_list[:50]),\n",
    "    size= alt.Size('counts', type=\"quantitative\",scale=alt.Scale(range=[15, 500])),  # range ajusta tamanho do circulo\n",
    "    color= alt.Color('order', type=\"nominal\", title=\"Order\", scale=alt.Scale(domain=ordens, range=cores)),\n",
    "    tooltip= alt.Tooltip(['collector_full_name', 'start_year', 'counts', 'order'])\n",
    ")\n",
    "\n",
    "# saving chart\n",
    "# g2.save('./graphs/collector/counts_per_collector-ordenado_pela_soma.html')\n",
    "\n",
    "# g2"
   ]
  },
  {
   "cell_type": "markdown",
   "metadata": {},
   "source": [
    "<br>\n",
    "\n",
    "**The end!**\n",
    "\n",
    "-----"
   ]
  }
 ],
 "metadata": {
  "kernelspec": {
   "display_name": "Python 3",
   "language": "python",
   "name": "python3"
  },
  "language_info": {
   "codemirror_mode": {
    "name": "ipython",
    "version": 3
   },
   "file_extension": ".py",
   "mimetype": "text/x-python",
   "name": "python",
   "nbconvert_exporter": "python",
   "pygments_lexer": "ipython3",
   "version": "3.8.2"
  },
  "latex_envs": {
   "LaTeX_envs_menu_present": true,
   "autoclose": false,
   "autocomplete": true,
   "bibliofile": "biblio.bib",
   "cite_by": "apalike",
   "current_citInitial": 1,
   "eqLabelWithNumbers": true,
   "eqNumInitial": 1,
   "hotkeys": {
    "equation": "Ctrl-E",
    "itemize": "Ctrl-I"
   },
   "labels_anchors": false,
   "latex_user_defs": false,
   "report_style_numbering": false,
   "user_envs_cfg": false
  },
  "toc": {
   "base_numbering": 1,
   "nav_menu": {},
   "number_sections": false,
   "sideBar": true,
   "skip_h1_title": false,
   "title_cell": "Table of Contents",
   "title_sidebar": "Contents",
   "toc_cell": false,
   "toc_position": {},
   "toc_section_display": true,
   "toc_window_display": false
  },
  "varInspector": {
   "cols": {
    "lenName": 16,
    "lenType": 16,
    "lenVar": 40
   },
   "kernels_config": {
    "python": {
     "delete_cmd_postfix": "",
     "delete_cmd_prefix": "del ",
     "library": "var_list.py",
     "varRefreshCmd": "print(var_dic_list())"
    },
    "r": {
     "delete_cmd_postfix": ") ",
     "delete_cmd_prefix": "rm(",
     "library": "var_list.r",
     "varRefreshCmd": "cat(var_dic_list()) "
    }
   },
   "position": {
    "height": "391.35px",
    "left": "900.5px",
    "right": "20px",
    "top": "96px",
    "width": "536.5px"
   },
   "types_to_exclude": [
    "module",
    "function",
    "builtin_function_or_method",
    "instance",
    "_Feature"
   ],
   "window_display": false
  }
 },
 "nbformat": 4,
 "nbformat_minor": 2
}
