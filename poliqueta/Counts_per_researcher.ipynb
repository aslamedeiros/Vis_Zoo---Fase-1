{
 "cells": [
  {
   "cell_type": "markdown",
   "metadata": {},
   "source": [
    "# Counts per researcher\n",
    "\n",
    "By **Franklin Oliveira**\n",
    "\n",
    "-----\n",
    "This notebook contains all code necessary to make the \"type\" charts from `poliqueta` database. Here you'll find some basic data treatment and charts' code. \n",
    "\n",
    "Database: <font color='blue'>'IBUFRJ27.07.2020 - visualização.xlsx'</font>."
   ]
  },
  {
   "cell_type": "code",
   "execution_count": 1,
   "metadata": {
    "ExecuteTime": {
     "end_time": "2021-08-02T20:21:18.048095Z",
     "start_time": "2021-08-02T20:21:17.080661Z"
    }
   },
   "outputs": [
    {
     "data": {
      "text/plain": [
       "DataTransformerRegistry.enable('default')"
      ]
     },
     "execution_count": 1,
     "metadata": {},
     "output_type": "execute_result"
    }
   ],
   "source": [
    "import datetime\n",
    "import numpy as np\n",
    "import pandas as pd\n",
    "\n",
    "from collections import defaultdict\n",
    "\n",
    "# quick visualization\n",
    "import matplotlib.pyplot as plt\n",
    "import seaborn as sns\n",
    "\n",
    "# Waffle Charts\n",
    "# from pywaffle import Waffle \n",
    "# docs: https://pywaffle.readthedocs.io/en/latest/examples/block_shape_distance_location_and_direction.html\n",
    "\n",
    "# visualization\n",
    "import altair as alt\n",
    "\n",
    "# enabling notebook renderer\n",
    "# alt.renderers.enable('notebook')\n",
    "alt.renderers.enable('default')\n",
    "\n",
    "# disabling rows limit\n",
    "alt.data_transformers.disable_max_rows()"
   ]
  },
  {
   "cell_type": "markdown",
   "metadata": {},
   "source": [
    "## Importing data..."
   ]
  },
  {
   "cell_type": "code",
   "execution_count": 2,
   "metadata": {
    "ExecuteTime": {
     "end_time": "2021-08-02T20:21:19.158022Z",
     "start_time": "2021-08-02T20:21:19.070164Z"
    }
   },
   "outputs": [],
   "source": [
    "NewTable = pd.read_csv('./data/merged_db.csv', sep=';', encoding='utf-8', low_memory=False)"
   ]
  },
  {
   "cell_type": "code",
   "execution_count": 3,
   "metadata": {
    "ExecuteTime": {
     "end_time": "2021-08-02T20:21:20.431261Z",
     "start_time": "2021-08-02T20:21:20.416369Z"
    }
   },
   "outputs": [],
   "source": [
    "# parsing some columns into strings so the chart's selectors work properly\n",
    "NewTable['family'] = NewTable['family'].astype(str)\n",
    "\n",
    "# formatting string nan as NaN to match palette dictionary key\n",
    "NewTable['family'] = NewTable['family'].apply(lambda x: 'NaN' if str(x).lower() == 'nan' else x)"
   ]
  },
  {
   "cell_type": "markdown",
   "metadata": {},
   "source": [
    "<br>\n",
    "\n",
    "<font size=5>**Color Palette**</font>\n",
    "\n",
    "\n",
    "<!-- <div class='row' style='padding-top:20px;'>\n",
    "    <div class='col-md-6'>\n",
    "        <img src=\"./src/img1.jpg\" width='400px'>\n",
    "    </div>\n",
    "    <div class='col-md-6'>\n",
    "        <img src=\"./src/img2.jpg\" width='400px'>\n",
    "    </div>\n",
    "</div>\n",
    "\n",
    "<br>\n",
    "\n",
    "A partir das imagens acima, selecionamos cores (centróides) para criar a paleta de cores. Foram elas: \n",
    "<ul>\n",
    "    <li style='color:#3CA67F'><b> #3CA67F </b># verde</li>\n",
    "    <li style='color:#7A9FBF'><b> #7A9FBF </b># azul</li>\n",
    "    <li style='color:#D94814'><b> #D94814 </b># laranja</li>\n",
    "    <li style='color:#D96236'><b> #D96236 </b># laranja 2</li>\n",
    "    <li style='color:#F2B999'><b> #F2B999 </b># 'cor de pele'</li>\n",
    "    <li style='color:#A66C4B'><b> #A66C4B </b># marrom 1</li>\n",
    "    <li style='color:#732C02'><b> #732C02 </b># marrom 2</li>\n",
    "</ul>\n",
    "\n",
    "A partir das cores \"centróides\", utilizamos a ferramenta Color Crafter para selecionar diferentes \"shades\" e auxiliar para categorização em diferentes grupos sugeridos pela equipe de Poliquetas do Museu Nacional. \n",
    "\n",
    "<ul>\n",
    "    <li style='color:#3CA67F'><b> Verde: </b> ['#daffef', '#bbebd3', '#9adabc', '#77c8a5', '#57b791', '#3ca67f', '#2a9670', '#238762', '#257a56']</li>\n",
    "    <li style='color:#7A9FBF'><b> Azul: </b> ['#e7e5df', '#ccd2d8', '#b2c0d0', '#96afc8', '#7a9fbf', '#5d90b6', '#3c81ae', '#0673a4', '#00669a']</li>\n",
    "    <li style='color:#D94814'><b> laranja: </b> ['#ffbd84', '#ffaa74', '#ff9760', '#ff814b', '#fc6b36', '#eb5824', '#d94814', '#c83b03', '#b73000']</li>\n",
    "    <li style='color:#D96236'><b> laranja 2: ['#ffeba9', '#ffd391', '#ffbb7b', '#fda468', '#f18e56', '#e57846', '#d96236', '#cc4d28', '#bf381b']</b> </li>\n",
    "    <li style='color:#F2B999'><b> cor de pele: ['#ffe9c3', '#fbd0ad', '#f2b999', '#e8a287', '#dd8c76', '#d27666', '#c76158', '#bb4d4b', '#ae393e']</b> </li>\n",
    "    <li style='color:#A66C4B'><b> marrom 1: ['#d9c6af', '#ccad96', '#c1977c', '#b48061', '#a66c4b', '#975b39', '#874c2c', '#774124', '#683720']</b> </li>\n",
    "    <li style='color:#732C02'><b> marrom 2: ['#eebd93', '#dfa47a', '#d28d60', '#c37746', '#b4622f', '#a3501d', '#92420e', '#823606', '#732c02']</b> </li>\n",
    "</ul>\n",
    "\n",
    "\n",
    "\n",
    "**Colors  (antigas):** \n",
    "\n",
    "<ul>\n",
    "    <li style='color:#41A681'><b> #41A681 </b># verde1</li>\n",
    "    <li style='color:#3CA67F'><b> #3CA67F </b># verde2</li>\n",
    "    <li style='color:#7ACAAB'><b> #7ACAAB </b># verde claro</li>\n",
    "    <li style='color:#78a1a1'><b> #78a1a1 </b># azul</li>\n",
    "    <li style='color:#8ABFB0'><b> #8ABFB0 </b># azul claro</li>\n",
    "    <li style='color:#FFB27C'><b> #FFB27C </b># cor de pele clara</li>\n",
    "    <li style='color:#F29877'><b> #F29877 </b># cor de pele</li>\n",
    "    <li style='color:#ed845e'><b> #ed845e </b># laranja claro1</li>\n",
    "    <li style='color:#D96236'><b> #D96236 </b># laranja claro2</li>\n",
    "    <li style='color:#D95323'><b> #D95323 </b># laranja 1</li>\n",
    "    <li style='color:#D94B18'><b> #D94B18 </b># laranja 2</li>\n",
    "    <li style='color:#D9C2AD'><b> #D9C2AD </b># bege</li>\n",
    "    <li style='color:#A66C4B'><b> #A66C4B </b># marrom claro</li>\n",
    "    <li style='color:#86471B'><b> #86471B </b># marrom1</li>\n",
    "    <li style='color:#732C02'><b> #732C02 </b># marrom2</li>\n",
    "    <li style='color:#592202'><b> #592202 </b># marrom escuro1</li>\n",
    "    <li style='color:#3D1806'><b> #3D1806 </b># marrom escuro2</li>\n",
    "    <li style='color:#0D0D0D'><b> #0D0D0D </b># preto</li>\n",
    "</ul>\n",
    "\n",
    " -->"
   ]
  },
  {
   "cell_type": "code",
   "execution_count": 4,
   "metadata": {
    "ExecuteTime": {
     "end_time": "2021-08-02T20:21:21.270650Z",
     "start_time": "2021-08-02T20:21:21.219931Z"
    }
   },
   "outputs": [],
   "source": [
    "# importing customized color palettes\n",
    "from src.MNViz_colors import *"
   ]
  },
  {
   "cell_type": "code",
   "execution_count": 5,
   "metadata": {
    "ExecuteTime": {
     "end_time": "2021-08-02T20:21:21.740130Z",
     "start_time": "2021-08-02T20:21:21.733479Z"
    }
   },
   "outputs": [],
   "source": [
    "# # determinando cores de acordo com a planilha (2020.10.01 - IB e MN - Cores visualização.xlsx)\n",
    "# ordens = NewTable['order'].unique()\n",
    "# familias = NewTable['family'].unique()\n",
    "\n",
    "# # # o agrupamento é feito por famílias (ordem daquelas famílias deve assumir certa cor)\n",
    "# # cores_ordem = {\n",
    "# #     'Spionida':'#41A681',   # verde\n",
    "# #     'Sabellida':'#7ACAAB',  # verde claro\n",
    "# #     'Canalipalpata':'#78a1a1',  # azul\n",
    "# #     'Amphinomida':'#8ABFB0',  # azul claro\n",
    "# #     'Eunicida':'#A66C4B', # marrom claro\n",
    "# #     'Phyllodocida':'#732C02', # marrom2\n",
    "# #     'Terebellida':'#ed845e', # laranja claro1\n",
    "# #     'Scolecida':'#D94B18', # laranja 2\n",
    "# #     np.NAN:'#0D0D0D',  # preto\n",
    "    \n",
    "# #     # ordens não citadas na planilha:\n",
    "# #     'Sipuncula':'#D9C2AD', # bege\n",
    "# #     'Crassiclitellata':'#FFB27C', # cor de pele clara\n",
    "# #     'Aspidosiphonida':'#F29877',  # cor de pele\n",
    "    \n",
    "# # }\n",
    "\n",
    "# # paleta de cores por família\n",
    "# cores_familia = {\n",
    "#     'Magelonidae':'#238762',    # verde escuro \n",
    "#     'Oweniidae':'#3CA67F',      # verde (centroide)  \n",
    "#     'Chaetopteridae':'#77c8a5', # verde\n",
    "#     'Amphinomidae':'#bbebd3',   # verde claro\n",
    "#     'Lumbrineridae':'#e7e5df',  # azul claro 1\n",
    "#     'Dorvilleidae':'#b2c0d0',   # azul claro2\n",
    "#     'Oenonidae':'#7A9FBF',      # azul (centroide)\n",
    "#     'Eunicidae':'#3c81ae',      # azul\n",
    "#     'Onuphidae':'#00669a',      # azul escuro\n",
    "#     'Syllidae':'#ffbd84', \n",
    "#     'Typhloscolecidae':'#ffaa74', \n",
    "#     'Aphroditidae':'#ff9760', \n",
    "#     'Acoetidae':'#ff814b', \n",
    "#     'Chrysopetalidae':'#fc6b36', \n",
    "#     'Eulepethidae':'#eb5824',\n",
    "#     'Lopadorrhynchidae':'#d94814',  # laranja (centroide)\n",
    "#     'Polynoidae':'#c83b03',\n",
    "#     'Nereididae':'#b73000',\n",
    "#     'Nephtyidae':'#f18e56',\n",
    "#     'Glyceridae':'#D96236',         # laranja 2 (centroide)\n",
    "#     'Tomopteridae':'#bf381b',\n",
    "#     'Serpulidae':'#fbd0ad',\n",
    "#     'Sabellidae':'#f2b999', # cor de pele (centroide)\n",
    "#     'Sabellariidae':'#e8a287',\n",
    "#     'Spionidae':'#d27666',\n",
    "#     'Ampharetidae':'#b48061',\n",
    "#     'Pectinariidae':'#a66c4b',  # marrom 1 (centroide),\n",
    "#     'Trichobranchidae':'#975b39',\n",
    "#     'Terebellidae':'#874c2c',\n",
    "#     'Cirratulidae':'#774124',\n",
    "#     'Flabelligeridae':'#683720',\n",
    "#     'Sternaspidae':'#eebd93',\n",
    "#     'Orbiniidae':'#dfa47a',\n",
    "#     'Opheliidae':'#d28d60',\n",
    "#     'Capitellidae':'#c37746',\n",
    "#     'Arenicolidae':'#b4622f',\n",
    "#     'Cossuridae':'#a3501d',\n",
    "#     'Scalibregmatidae':'#92420e',\n",
    "#     'Paraonidae':'#823606',\n",
    "#     'Maldanidae':'#732c02', # marrom 2 (centroide)\n",
    "#     'NaN':'#0D0D0D',  # preto\n",
    "# }"
   ]
  },
  {
   "cell_type": "markdown",
   "metadata": {},
   "source": [
    "<br>\n",
    "\n",
    "\n",
    "## Graphs\n",
    "\n",
    "---\n",
    "\n",
    "### Creating chart: counts per determiner per year"
   ]
  },
  {
   "cell_type": "code",
   "execution_count": 6,
   "metadata": {
    "ExecuteTime": {
     "end_time": "2021-08-02T20:21:23.267465Z",
     "start_time": "2021-08-02T20:21:23.157302Z"
    }
   },
   "outputs": [],
   "source": [
    "teste = NewTable.groupby(['determiner_full_name','cataloged_year']).count()['class'].reset_index().rename(columns=\n",
    "                                                                                            {'class':'counts'})"
   ]
  },
  {
   "cell_type": "code",
   "execution_count": 7,
   "metadata": {
    "ExecuteTime": {
     "end_time": "2021-08-02T20:21:23.677909Z",
     "start_time": "2021-08-02T20:21:23.673600Z"
    }
   },
   "outputs": [],
   "source": [
    "# p.s.: 2255 missing names\n",
    "# NewTable['determiner_full_name'].isna().sum()"
   ]
  },
  {
   "cell_type": "code",
   "execution_count": 15,
   "metadata": {
    "ExecuteTime": {
     "end_time": "2021-08-02T20:22:07.435343Z",
     "start_time": "2021-08-02T20:22:07.428977Z"
    }
   },
   "outputs": [],
   "source": [
    "# gráfico não tem todas as contagens por causa de nomes faltando\n",
    "g1 = alt.Chart(teste, width=600, height=500).mark_circle().encode(\n",
    "    x= alt.X('cataloged_year', type='ordinal', title='Cataloged Year'),\n",
    "    y= alt.Y('determiner_full_name', type='nominal', title='Determiner Name', \n",
    "            sort=alt.EncodingSortField('counts', op=\"count\", order='descending')),\n",
    "    size= alt.Size('counts', scale=alt.Scale(range=[15, 500])),  # range ajusta tamanho do circulo\n",
    "    tooltip= alt.Tooltip(['determiner_full_name', 'cataloged_year', 'counts'])\n",
    ")\n",
    "\n",
    "# g1.save('./graphs/determiner/counts_per_determiner.html')\n",
    "# g1"
   ]
  },
  {
   "cell_type": "markdown",
   "metadata": {},
   "source": [
    "### Faceted chart version (needed some more flexibility, so I went for the hconcat version)"
   ]
  },
  {
   "cell_type": "code",
   "execution_count": 16,
   "metadata": {
    "ExecuteTime": {
     "end_time": "2021-08-02T20:22:48.849138Z",
     "start_time": "2021-08-02T20:22:48.844098Z"
    },
    "scrolled": true
   },
   "outputs": [],
   "source": [
    "# g2 = alt.Chart(teste1, width=400, height=500).mark_circle().encode(\n",
    "#     x= alt.X('cataloged_year', type='ordinal', title='Cataloged Year'),\n",
    "#     y= alt.Y('determiner_full_name', type='nominal', title='Determiner Name', \n",
    "#             sort=alt.EncodingSortField('counts', op=\"count\", order='descending')),\n",
    "#     size= alt.Size('counts', type=\"quantitative\",scale=alt.Scale(range=[15, 500])),  # range ajusta tamanho do circulo\n",
    "#     color= alt.Color('order', type=\"nominal\", title=\"Order\", \n",
    "#                      scale=alt.Scale(domain=list(cores_ordem.keys()), range=list(cores_ordem.values()))),\n",
    "#     tooltip= alt.Tooltip(['determiner_full_name', 'cataloged_year', 'counts', 'order'])\n",
    "# )\n",
    "\n",
    "# # saving chart\n",
    "# # g2.facet(column='collection_prefix').resolve_scale(y='independent'\n",
    "# #                                     ).save('./graphs/determiner/counts_per_determiner-w-order.html')\n",
    "\n",
    "# g2.facet(column='collection_prefix').resolve_scale(y='independent', x='independent')"
   ]
  },
  {
   "cell_type": "markdown",
   "metadata": {},
   "source": [
    "### hconcat: making each chart separately and concatenating them horizontally"
   ]
  },
  {
   "cell_type": "code",
   "execution_count": 17,
   "metadata": {
    "ExecuteTime": {
     "end_time": "2021-08-02T20:22:49.895460Z",
     "start_time": "2021-08-02T20:22:49.878457Z"
    }
   },
   "outputs": [],
   "source": [
    "teste1 = NewTable.groupby(['determiner_full_name','cataloged_year', 'collection_prefix','family']).count()['class'].reset_index().rename(columns=\n",
    "                                                                                            {'class':'counts'})"
   ]
  },
  {
   "cell_type": "code",
   "execution_count": 19,
   "metadata": {
    "ExecuteTime": {
     "end_time": "2021-08-02T20:22:57.798745Z",
     "start_time": "2021-08-02T20:22:57.768531Z"
    }
   },
   "outputs": [],
   "source": [
    "# database\n",
    "db1 = teste1[teste1['collection_prefix']=='IBUFRJ']  # first spreadsheet\n",
    "db2 = teste1[teste1['collection_prefix']=='MNRJP']   # second spreadsheet\n",
    "\n",
    "# aux. variables\n",
    "## first database\n",
    "x_labels1 = db1.sort_values('cataloged_year')['cataloged_year'].unique()\n",
    "temp = db1.groupby('determiner_full_name').sum().reset_index().sort_values('counts')\n",
    "y_labels1 = temp['determiner_full_name'].unique()[::-1]\n",
    "\n",
    "## second database\n",
    "x_labels2 = db2.sort_values('cataloged_year')['cataloged_year'].unique()\n",
    "temp = db2.groupby('determiner_full_name').sum().reset_index().sort_values('counts')\n",
    "y_labels2 = temp['determiner_full_name'].unique()[::-1]\n",
    "\n",
    "# both databases\n",
    "temp = set(db1['counts'].unique()).union(db2['counts'].unique())\n",
    "counts = list(range(min(temp), max(temp), 50))\n",
    "\n",
    "\n",
    "# selector\n",
    "select_family = alt.selection_multi(fields= ['family'], bind= 'legend')\n",
    "\n",
    "g2 = alt.Chart(db1, width=500, height=580,\n",
    "              title='IBUFRJ').mark_circle().encode(\n",
    "    x= alt.X('cataloged_year', type='ordinal', title='Cataloged Year', \n",
    "             scale= alt.Scale(domain= x_labels1)),\n",
    "    y= alt.Y('determiner_full_name', type='nominal', title='Determiner Name', \n",
    "             scale= alt.Scale(domain= y_labels1),\n",
    "             sort=alt.EncodingSortField('counts', op=\"count\", order='descending')),\n",
    "    size= alt.Size('counts', type=\"quantitative\",\n",
    "                   legend= alt.Legend(orient='right', direction='horizontal'),\n",
    "                   scale=alt.Scale(domain= counts,range=[20, 120])),  # range ajusta tamanho do circulo\n",
    "    order= alt.Order('counts', sort='descending'),  # smaller points in front\n",
    "    color= alt.Color('family:N', title=\"Family\", \n",
    "                     scale=alt.Scale(domain=list(cores_familia.keys()), range=list(cores_familia.values())),\n",
    "                     legend= alt.Legend(columns=2, symbolLimit= 42)),\n",
    "    tooltip= alt.Tooltip(['determiner_full_name', 'cataloged_year', 'counts', 'family'])\n",
    ").add_selection(select_family).transform_filter(select_family)\n",
    "\n",
    "g3 = alt.Chart(db2, width=100, height=580, \n",
    "              title='MNRJP').mark_circle().encode(\n",
    "    x= alt.X('cataloged_year', type='ordinal', title='Cataloged Year',\n",
    "            scale= alt.Scale(domain= x_labels2)),\n",
    "    y= alt.Y('determiner_full_name', type='nominal', title='Determiner Name', \n",
    "             scale= alt.Scale(domain= y_labels2),\n",
    "             sort=alt.EncodingSortField('counts', op=\"count\", order='descending')),\n",
    "    size= alt.Size('counts:Q', title='Counts',\n",
    "                   legend= alt.Legend(orient='right', direction='horizontal'),\n",
    "                   scale=alt.Scale(domain= counts, range=[20, 120])),  # range ajusta tamanho do circulo\n",
    "    order= alt.Order('counts', sort='descending'),  # smaller points in front\n",
    "    color= alt.Color('family:N', title=\"Family\", \n",
    "                     scale=alt.Scale(domain=list(cores_familia.keys()), range=list(cores_familia.values())),\n",
    "                     legend= alt.Legend(columns=2, symbolLimit= 42)),\n",
    "    tooltip= alt.Tooltip(['determiner_full_name', 'cataloged_year', 'counts', 'family'])\n",
    ").add_selection(select_family).transform_filter(select_family)\n",
    "\n",
    "graph = alt.hconcat(g2, g3)\n",
    "\n",
    "# configuring graphic elements (font, fontSize, etc)\n",
    "graph = graph.configure_title(fontSize=16).configure_axis(\n",
    "    labelFontSize=12,\n",
    "    titleFontSize=12\n",
    ").configure_legend(\n",
    "    labelFontSize=12,\n",
    "    titleFontSize=12\n",
    ")\n",
    "\n",
    "# graph.save('./graphs/determiner/counts_per_determiner-wFamilies.html')\n",
    "# graph"
   ]
  },
  {
   "cell_type": "markdown",
   "metadata": {},
   "source": [
    "<br>\n",
    "\n",
    "<font color='red'>**same chart, now sorting by the first year the determiner shows up in the database**</font>"
   ]
  },
  {
   "cell_type": "code",
   "execution_count": 20,
   "metadata": {
    "ExecuteTime": {
     "end_time": "2021-08-02T20:23:01.117963Z",
     "start_time": "2021-08-02T20:23:01.094334Z"
    }
   },
   "outputs": [],
   "source": [
    "# sorting\n",
    "temp2 = teste1[teste1['collection_prefix']=='IBUFRJ'].copy()\n",
    "temp3 = teste1[teste1['collection_prefix']=='MNRJP'].copy()\n",
    "\n",
    "temp2.sort_values(['cataloged_year', 'determiner_full_name'], inplace=True)\n",
    "temp3.sort_values(['cataloged_year', 'determiner_full_name'], inplace=True)\n",
    "\n",
    "# saving entries\n",
    "sorting2 = list(temp2['determiner_full_name'].unique())\n",
    "sorting3 = list(temp3['determiner_full_name'].unique())"
   ]
  },
  {
   "cell_type": "code",
   "execution_count": 22,
   "metadata": {
    "ExecuteTime": {
     "end_time": "2021-08-02T20:23:07.290056Z",
     "start_time": "2021-08-02T20:23:07.245490Z"
    },
    "scrolled": false
   },
   "outputs": [],
   "source": [
    "# database\n",
    "db1 = teste1[teste1['collection_prefix']=='IBUFRJ']  # first spreadsheet\n",
    "db2 = teste1[teste1['collection_prefix']=='MNRJP']   # second spreadsheet\n",
    "\n",
    "# aux. variables\n",
    "## first database\n",
    "x_labels1 = db1.sort_values('cataloged_year')['cataloged_year'].unique()\n",
    "y_labels1 = sorting2\n",
    "\n",
    "## second database\n",
    "x_labels2 = db2.sort_values('cataloged_year')['cataloged_year'].unique()\n",
    "y_labels2 = sorting3\n",
    "\n",
    "# both databases\n",
    "temp = set(db1['counts'].unique()).union(db2['counts'].unique())\n",
    "counts = list(range(min(temp), max(temp), 50))\n",
    "\n",
    "# selector\n",
    "select_family = alt.selection_multi(fields= ['family'], bind= 'legend')\n",
    "\n",
    "g2 = alt.Chart(db1, width=500, height=580,\n",
    "              title='IBUFRJ').mark_circle().encode(\n",
    "    x= alt.X('cataloged_year', type='ordinal', title='Cataloged Year',\n",
    "             scale= alt.Scale(domain= x_labels1)),\n",
    "    y= alt.Y('determiner_full_name', type='nominal', title='Determiner Name', \n",
    "             scale= alt.Scale(domain= sorting2),\n",
    "             sort=sorting2),\n",
    "    size= alt.Size('counts', type=\"quantitative\",\n",
    "                   legend= alt.Legend(orient= 'right', direction= 'horizontal'),\n",
    "                   scale=alt.Scale(domain= counts, range=[20, 120])),  # range ajusta tamanho do circulo\n",
    "    order= alt.Order('counts', sort='descending'),  # smaller points in front\n",
    "    color= alt.Color('family:N', title=\"Family\", \n",
    "                     scale=alt.Scale(domain=list(cores_familia.keys()), \n",
    "                                     range=list(cores_familia.values())),\n",
    "                     legend= alt.Legend(columns=2, symbolLimit= 42)),\n",
    "    tooltip= alt.Tooltip(['determiner_full_name', 'cataloged_year', 'counts', 'family'])\n",
    ").add_selection(select_family).transform_filter(select_family)\n",
    "\n",
    "g3 = alt.Chart(db2, width=100, height=580, \n",
    "              title='MNRJP').mark_circle().encode(\n",
    "    x= alt.X('cataloged_year', type='ordinal', title='Cataloged Year', \n",
    "             scale= alt.Scale(domain= x_labels2)),\n",
    "    y= alt.Y('determiner_full_name', type='nominal', title='Determiner Name', \n",
    "             scale= alt.Scale(domain= sorting3),\n",
    "             sort=sorting3),\n",
    "    size= alt.Size('counts:Q', title='Counts', \n",
    "                   legend= alt.Legend(orient= 'right', direction= 'horizontal'),\n",
    "                   scale=alt.Scale(domain= counts, range=[20, 120])),  # range ajusta tamanho do circulo\n",
    "    order= alt.Order('counts', sort='descending'),  # smaller points in front\n",
    "    color= alt.Color('family:N', title=\"Family\", \n",
    "                     scale=alt.Scale(domain=list(cores_familia.keys()), \n",
    "                                     range=list(cores_familia.values())),\n",
    "                     legend= alt.Legend(columns=2, symbolLimit= 42)),\n",
    "    tooltip= alt.Tooltip(['determiner_full_name', 'cataloged_year', 'counts', 'family'])\n",
    ").add_selection(select_family).transform_filter(select_family)\n",
    "\n",
    "graph = alt.hconcat(g2, g3)\n",
    "\n",
    "# configuring graphic elements (font, fontSize, etc)\n",
    "graph = graph.configure_title(fontSize=16).configure_axis(\n",
    "    labelFontSize=12,\n",
    "    titleFontSize=12\n",
    ").configure_legend(\n",
    "    labelFontSize=12,\n",
    "    titleFontSize=12\n",
    ")\n",
    "\n",
    "# graph.save('./graphs/determiner/counts_per_determiner-w-family-rearranged.html')\n",
    "# graph"
   ]
  },
  {
   "cell_type": "markdown",
   "metadata": {},
   "source": [
    "<br>\n",
    "\n",
    "### Creating chart: counts per collector per year"
   ]
  },
  {
   "cell_type": "code",
   "execution_count": 23,
   "metadata": {
    "ExecuteTime": {
     "end_time": "2021-08-02T20:23:09.829222Z",
     "start_time": "2021-08-02T20:23:09.827535Z"
    }
   },
   "outputs": [],
   "source": [
    "# p.s.: 1059 missing names\n",
    "# NewTable['collector_full_name'].isna().sum()"
   ]
  },
  {
   "cell_type": "code",
   "execution_count": 24,
   "metadata": {
    "ExecuteTime": {
     "end_time": "2021-08-02T20:23:10.297426Z",
     "start_time": "2021-08-02T20:23:10.273257Z"
    }
   },
   "outputs": [],
   "source": [
    "teste = NewTable.groupby(['collector_full_name','start_year']).count()['class'].reset_index().rename(columns=\n",
    "                                                                                            {'class':'counts'})"
   ]
  },
  {
   "cell_type": "code",
   "execution_count": 26,
   "metadata": {
    "ExecuteTime": {
     "end_time": "2021-08-02T20:23:15.357055Z",
     "start_time": "2021-08-02T20:23:15.349308Z"
    }
   },
   "outputs": [],
   "source": [
    "g1 = alt.Chart(teste, width=500, height=800).mark_circle().encode(\n",
    "    x= alt.X('start_year', type='ordinal', title='Sampling Year'),\n",
    "    y= alt.Y('collector_full_name', type='nominal', title='Collector Name', \n",
    "            sort=alt.EncodingSortField('counts', op=\"count\", order='descending')),\n",
    "    size= alt.Size('counts', scale=alt.Scale(range=[15, 500])),  # range ajusta tamanho do circulo\n",
    "    tooltip= alt.Tooltip(['collector_full_name', 'start_year', 'counts'])\n",
    ")\n",
    "\n",
    "\n",
    "# configuring graphic elements (font, fontSize, etc)\n",
    "g1 = g1.configure_title(fontSize=16).configure_axis(\n",
    "    labelFontSize=12,\n",
    "    titleFontSize=12\n",
    ").configure_legend(\n",
    "    labelFontSize=12,\n",
    "    titleFontSize=12\n",
    ")\n",
    "\n",
    "# g1.save('./graphs/collector/counts_per_collector.html')\n",
    "# g1"
   ]
  },
  {
   "cell_type": "markdown",
   "metadata": {},
   "source": [
    "<br>\n",
    "\n",
    "### Chart: counts per collector with families"
   ]
  },
  {
   "cell_type": "code",
   "execution_count": 27,
   "metadata": {
    "ExecuteTime": {
     "end_time": "2021-08-02T20:23:16.712458Z",
     "start_time": "2021-08-02T20:23:16.697708Z"
    }
   },
   "outputs": [],
   "source": [
    "teste1 = NewTable.groupby(['collector_full_name','start_year', 'family', 'collection_prefix']).count()['class'].reset_index().rename(columns=\n",
    "                                                                                            {'class':'counts'})"
   ]
  },
  {
   "cell_type": "code",
   "execution_count": 29,
   "metadata": {
    "ExecuteTime": {
     "end_time": "2021-08-02T20:23:22.211725Z",
     "start_time": "2021-08-02T20:23:22.154923Z"
    }
   },
   "outputs": [],
   "source": [
    "# database\n",
    "db1 = teste1[teste1['collection_prefix']=='IBUFRJ']  # first spreadsheet\n",
    "db2 = teste1[teste1['collection_prefix']=='MNRJP']   # second spreadsheet\n",
    "\n",
    "# aux. variables\n",
    "## first database\n",
    "x_labels1 = db1.sort_values('start_year')['start_year'].unique()\n",
    "temp = db1.groupby('collector_full_name').sum().reset_index().sort_values('counts')\n",
    "y_labels1 = temp['collector_full_name'].unique()[::-1]\n",
    "\n",
    "## second database\n",
    "x_labels2 = db2.sort_values('start_year')['start_year'].unique()\n",
    "temp = db2.groupby('collector_full_name').sum().reset_index().sort_values('counts')\n",
    "y_labels2 = temp['collector_full_name'].unique()[::-1]\n",
    "\n",
    "# both databases\n",
    "temp = set(db1['counts'].unique()).union(db2['counts'].unique())\n",
    "counts = list(range(min(temp), max(temp), 50))\n",
    "\n",
    "g2 = alt.Chart(db1, width=500, height=800,\n",
    "              title='IBUFRJ').mark_circle().encode(\n",
    "    x= alt.X('start_year', type='ordinal', title='Sampling Year',\n",
    "            scale= alt.Scale(domain= x_labels1)),\n",
    "    y= alt.Y('collector_full_name', type='nominal', title='Collector Name', \n",
    "            scale= alt.Scale(domain= y_labels1),\n",
    "            sort=alt.EncodingSortField('counts', op=\"count\", order='descending')),\n",
    "    size= alt.Size('counts', type=\"quantitative\", title='Counts',\n",
    "                   legend= alt.Legend(orient= 'right', direction='horizontal'),\n",
    "                   scale=alt.Scale(domain= counts, range=[20, 150])),  # range ajusta tamanho do circulo\n",
    "    order= alt.Order('counts', sort='descending'),  # smaller points in front\n",
    "    color= alt.Color('family:N', title=\"Family\", \n",
    "                     scale=alt.Scale(domain=list(cores_familia.keys()), range=list(cores_familia.values())),\n",
    "                     legend= alt.Legend(columns=2, symbolLimit= 42)),\n",
    "    tooltip= alt.Tooltip(['collector_full_name', 'start_year', 'counts', 'family'])\n",
    ").add_selection(select_family).transform_filter(select_family)\n",
    "\n",
    "g3 = alt.Chart(db2, width=500, height=800,\n",
    "              title='MNRJP').mark_circle().encode(\n",
    "    x= alt.X('start_year', type='ordinal', title='Sampling Year',\n",
    "            scale= alt.Scale(domain= x_labels2)),\n",
    "    y= alt.Y('collector_full_name', type='nominal', title='Collector Name', \n",
    "            scale= alt.Scale(domain= y_labels2),\n",
    "            sort=alt.EncodingSortField('counts', op=\"count\", order='descending')),\n",
    "    size= alt.Size('counts', type=\"quantitative\",\n",
    "                   legend= alt.Legend(orient= 'right', direction='horizontal'),\n",
    "                   scale=alt.Scale(domain= counts, range=[20, 150])),  # range ajusta tamanho do circulo\n",
    "    order= alt.Order('counts', sort='descending'),  # smaller points in front\n",
    "    color= alt.Color('family:N', title=\"Family\", \n",
    "                     scale=alt.Scale(domain=list(cores_familia.keys()), range=list(cores_familia.values())),\n",
    "                     legend= alt.Legend(columns=2, symbolLimit= 42)),\n",
    "    tooltip= alt.Tooltip(['collector_full_name', 'start_year', 'counts', 'family'])\n",
    ").add_selection(select_family).transform_filter(select_family)\n",
    "\n",
    "graph = alt.hconcat(g2, g3)\n",
    "\n",
    "# configuring graphic elements (font, fontSize, etc)\n",
    "graph = graph.configure_title(fontSize=16).configure_axis(\n",
    "    labelFontSize=12,\n",
    "    titleFontSize=12\n",
    ").configure_legend(\n",
    "    labelFontSize=12,\n",
    "    titleFontSize=12\n",
    ")\n",
    "\n",
    "# graph.save('./graphs/collector/counts_per_collector-w-family.html')\n",
    "# graph"
   ]
  },
  {
   "cell_type": "markdown",
   "metadata": {},
   "source": [
    "<br>\n",
    "\n",
    "<font color='red'>**same chart, now rearranging by the first year the collector shows up on the database**</font>"
   ]
  },
  {
   "cell_type": "code",
   "execution_count": 30,
   "metadata": {
    "ExecuteTime": {
     "end_time": "2021-08-02T20:23:24.341296Z",
     "start_time": "2021-08-02T20:23:24.317102Z"
    }
   },
   "outputs": [],
   "source": [
    "# sorting\n",
    "temp2 = teste1[teste1['collection_prefix']=='IBUFRJ'].copy()\n",
    "temp3 = teste1[teste1['collection_prefix']=='MNRJP'].copy()\n",
    "\n",
    "temp2.sort_values(['start_year', 'collector_full_name'], inplace=True)\n",
    "temp3.sort_values(['start_year', 'collector_full_name'], inplace=True)\n",
    "\n",
    "# saving entries\n",
    "sorting2 = list(temp2['collector_full_name'].unique())\n",
    "sorting3 = list(temp3['collector_full_name'].unique())"
   ]
  },
  {
   "cell_type": "code",
   "execution_count": 32,
   "metadata": {
    "ExecuteTime": {
     "end_time": "2021-08-02T20:23:30.289588Z",
     "start_time": "2021-08-02T20:23:30.244274Z"
    }
   },
   "outputs": [],
   "source": [
    "# database\n",
    "db1 = teste1[teste1['collection_prefix']=='IBUFRJ']  # first spreadsheet\n",
    "db2 = teste1[teste1['collection_prefix']=='MNRJP']   # second spreadsheet\n",
    "\n",
    "# aux. variables\n",
    "## first database\n",
    "x_labels1 = db1.sort_values('start_year')['start_year'].unique()\n",
    "y_labels1 = sorting2\n",
    "\n",
    "## second database\n",
    "x_labels2 = db2.sort_values('start_year')['start_year'].unique()\n",
    "y_labels2 = sorting3\n",
    "\n",
    "# both databases\n",
    "temp = set(db1['counts'].unique()).union(db2['counts'].unique())\n",
    "counts = list(range(min(temp), max(temp), 50))\n",
    "\n",
    "g2 = alt.Chart(db1, width=500, height=800,\n",
    "              title='IBUFRJ').mark_circle().encode(\n",
    "    x= alt.X('start_year', type='ordinal', title='Sampling Year',\n",
    "             scale= alt.Scale(domain= x_labels1)),\n",
    "    y= alt.Y('collector_full_name', type='nominal', title='Collector Name', \n",
    "             scale= alt.Scale(domain= y_labels1),\n",
    "            sort=sorting2),\n",
    "    size= alt.Size('counts', type=\"quantitative\",  title= 'Counts',\n",
    "                   legend= alt.Legend(orient= 'right', direction='horizontal', tickCount= 4),\n",
    "                   scale=alt.Scale(domain= counts,range=[20, 150], zero=True)),  # range ajusta tamanho do circulo\n",
    "    order= alt.Order('counts', sort='descending'),  # smaller points in front    \n",
    "    color= alt.Color('family:N', title=\"Family\", \n",
    "                     scale=alt.Scale(domain=list(cores_familia.keys()), range=list(cores_familia.values())),\n",
    "                     legend= alt.Legend(columns=2, symbolLimit= 42)),\n",
    "    tooltip= alt.Tooltip(['collector_full_name', 'start_year', 'counts', 'family'])\n",
    ").add_selection(select_family).transform_filter(select_family)\n",
    "\n",
    "g3 = alt.Chart(db2, width=500, height=800,\n",
    "              title='MNRJP').mark_circle().encode(\n",
    "    x= alt.X('start_year', type='ordinal', title='Sampling Year',\n",
    "             scale= alt.Scale(domain= x_labels2)),\n",
    "    y= alt.Y('collector_full_name', type='nominal', title='Collector Name', \n",
    "             scale= alt.Scale(domain= y_labels2),\n",
    "             sort=sorting3),\n",
    "    size= alt.Size('counts', type=\"quantitative\", title= 'Counts',\n",
    "                   legend= alt.Legend(orient= 'right', direction='horizontal', tickCount= 4),\n",
    "                   scale=alt.Scale(domain= counts, range=[20, 150], zero=True)),  # range ajusta tamanho do circulo\n",
    "    order= alt.Order('counts', sort='descending'),  # smaller points in front\n",
    "    color= alt.Color('family:N', title=\"Family\", \n",
    "                     scale=alt.Scale(domain=list(cores_familia.keys()), range=list(cores_familia.values())),\n",
    "                     legend= alt.Legend(columns=2, symbolLimit= 42)),\n",
    "    tooltip= alt.Tooltip(['collector_full_name', 'start_year', 'counts', 'family'])\n",
    ").add_selection(select_family).transform_filter(select_family)\n",
    "\n",
    "graph = alt.hconcat(g2, g3)\n",
    "\n",
    "# configuring graphic elements (font, fontSize, etc)\n",
    "graph = graph.configure_title(fontSize=16).configure_axis(\n",
    "    labelFontSize=12,\n",
    "    titleFontSize=12\n",
    ").configure_legend(\n",
    "    labelFontSize=12,\n",
    "    titleFontSize=12\n",
    ")\n",
    "\n",
    "# graph.save('./graphs/collector/counts_per_collector-rearranged.html')\n",
    "# graph"
   ]
  },
  {
   "cell_type": "markdown",
   "metadata": {},
   "source": [
    "<br>\n",
    "\n",
    "**The end!**\n",
    "\n",
    "-----"
   ]
  },
  {
   "cell_type": "markdown",
   "metadata": {},
   "source": [
    "<font color='red' size='5'>**Experimental:** trying to add first and second collectors </font>"
   ]
  },
  {
   "cell_type": "code",
   "execution_count": 33,
   "metadata": {
    "ExecuteTime": {
     "end_time": "2021-08-02T20:23:56.937860Z",
     "start_time": "2021-08-02T20:23:56.932080Z"
    }
   },
   "outputs": [],
   "source": [
    "# juntando coletor 1 e coletor 2\n",
    "NewTable['collectors'] = NewTable['collector_full_name'].astype(str) + ', ' + NewTable['collector_full_name2'].astype(str)"
   ]
  },
  {
   "cell_type": "code",
   "execution_count": 34,
   "metadata": {
    "ExecuteTime": {
     "end_time": "2021-08-02T20:23:57.534721Z",
     "start_time": "2021-08-02T20:23:57.335147Z"
    }
   },
   "outputs": [],
   "source": [
    "teste1 = NewTable.groupby(['collectors','start_year', 'family', 'collection_prefix']).count()['class'].reset_index().rename(columns=\n",
    "                                                                                            {'class':'counts'})"
   ]
  },
  {
   "cell_type": "code",
   "execution_count": 36,
   "metadata": {
    "ExecuteTime": {
     "end_time": "2021-08-02T20:24:02.109849Z",
     "start_time": "2021-08-02T20:24:02.096142Z"
    }
   },
   "outputs": [],
   "source": [
    "g2 = alt.Chart(teste1, width=600, height=900).mark_circle().encode(\n",
    "    x= alt.X('start_year', type='ordinal', title='Sampling Year'),\n",
    "    y= alt.Y('collectors', type='nominal', title='Collector 1, Collector 2', \n",
    "            sort=alt.EncodingSortField('counts', op=\"sum\", order='descending')),\n",
    "    size= alt.Size('counts', type=\"quantitative\",scale=alt.Scale(range=[15, 500])),  # range ajusta tamanho do circulo\n",
    "    order= alt.Order('counts', sort='descending'),  # smaller points in front\n",
    "    color= alt.Color('family:N', title=\"Family\", \n",
    "                     scale=alt.Scale(domain=list(cores_familia.keys()), range=list(cores_familia.values())),\n",
    "                     legend= alt.Legend(columns=2, symbolLimit=42)),\n",
    "    tooltip= alt.Tooltip(['collectors', 'start_year', 'counts', 'family'])\n",
    ")\n",
    "\n",
    "# faceting\n",
    "g2 = g2.facet(column='collection_prefix').resolve_scale(y='independent')\n",
    "\n",
    "# saving chart\n",
    "# g2.save('./graphs/collector/counts_per_collector-1e2.html')\n",
    "# g2"
   ]
  },
  {
   "cell_type": "markdown",
   "metadata": {},
   "source": [
    "<br>\n",
    "\n",
    "<font color='red'>**mesmo gráfico, agora ordenando pelo primeiro ano que o pesquisador aparece na base**</font>"
   ]
  },
  {
   "cell_type": "code",
   "execution_count": 37,
   "metadata": {
    "ExecuteTime": {
     "end_time": "2021-08-02T20:24:03.957622Z",
     "start_time": "2021-08-02T20:24:03.943693Z"
    }
   },
   "outputs": [],
   "source": [
    "# ordenando\n",
    "teste1.sort_values(['start_year', 'collectors'], inplace=True)\n",
    "\n",
    "# salvando ordem das entradas\n",
    "sorting = list(teste1['collectors'].unique())"
   ]
  },
  {
   "cell_type": "code",
   "execution_count": 39,
   "metadata": {
    "ExecuteTime": {
     "end_time": "2021-08-02T20:24:09.579674Z",
     "start_time": "2021-08-02T20:24:09.554133Z"
    }
   },
   "outputs": [],
   "source": [
    "g2 = alt.Chart(teste1, width=600, height=900).mark_circle().encode(\n",
    "    x= alt.X('start_year', type='ordinal', title='Sampling Year'),\n",
    "    y= alt.Y('collectors', type='nominal', title='Collector 1, Collector 2', \n",
    "            sort=alt.EncodingSortField('start_year', op=\"min\", order='ascending')),\n",
    "    size= alt.Size('counts', type=\"quantitative\",scale=alt.Scale(range=[15, 500])),  # range ajusta tamanho do circulo\n",
    "    order= alt.Order('counts', sort='descending'),  # smaller points in front\n",
    "    color= alt.Color('family:N', title=\"Family\", \n",
    "                     scale=alt.Scale(domain=list(cores_familia.keys()), range=list(cores_familia.values())),\n",
    "                     legend= alt.Legend(columns=2, symbolLimit=42)),\n",
    "    tooltip= alt.Tooltip(['collectors', 'start_year', 'counts', 'family'])\n",
    ")\n",
    "\n",
    "g2 = g2.facet(column='collection_prefix').resolve_scale(y='independent')\n",
    "\n",
    "# saving chart\n",
    "# g2.save('./graphs/collector/counts_per_collector-1e2-wFamilies.html')\n",
    "# g2"
   ]
  },
  {
   "cell_type": "markdown",
   "metadata": {},
   "source": [
    "<br>\n",
    "\n",
    "**That's it!**"
   ]
  }
 ],
 "metadata": {
  "kernelspec": {
   "display_name": "Python 3",
   "language": "python",
   "name": "python3"
  },
  "language_info": {
   "codemirror_mode": {
    "name": "ipython",
    "version": 3
   },
   "file_extension": ".py",
   "mimetype": "text/x-python",
   "name": "python",
   "nbconvert_exporter": "python",
   "pygments_lexer": "ipython3",
   "version": "3.9.1"
  },
  "latex_envs": {
   "LaTeX_envs_menu_present": true,
   "autoclose": false,
   "autocomplete": true,
   "bibliofile": "biblio.bib",
   "cite_by": "apalike",
   "current_citInitial": 1,
   "eqLabelWithNumbers": true,
   "eqNumInitial": 1,
   "hotkeys": {
    "equation": "Ctrl-E",
    "itemize": "Ctrl-I"
   },
   "labels_anchors": false,
   "latex_user_defs": false,
   "report_style_numbering": false,
   "user_envs_cfg": false
  },
  "toc": {
   "base_numbering": 1,
   "nav_menu": {},
   "number_sections": false,
   "sideBar": true,
   "skip_h1_title": false,
   "title_cell": "Table of Contents",
   "title_sidebar": "Contents",
   "toc_cell": false,
   "toc_position": {},
   "toc_section_display": true,
   "toc_window_display": false
  },
  "varInspector": {
   "cols": {
    "lenName": 16,
    "lenType": 16,
    "lenVar": 40
   },
   "kernels_config": {
    "python": {
     "delete_cmd_postfix": "",
     "delete_cmd_prefix": "del ",
     "library": "var_list.py",
     "varRefreshCmd": "print(var_dic_list())"
    },
    "r": {
     "delete_cmd_postfix": ") ",
     "delete_cmd_prefix": "rm(",
     "library": "var_list.r",
     "varRefreshCmd": "cat(var_dic_list()) "
    }
   },
   "position": {
    "height": "391.35px",
    "left": "900.5px",
    "right": "20px",
    "top": "96px",
    "width": "536.5px"
   },
   "types_to_exclude": [
    "module",
    "function",
    "builtin_function_or_method",
    "instance",
    "_Feature"
   ],
   "window_display": false
  }
 },
 "nbformat": 4,
 "nbformat_minor": 2
}
