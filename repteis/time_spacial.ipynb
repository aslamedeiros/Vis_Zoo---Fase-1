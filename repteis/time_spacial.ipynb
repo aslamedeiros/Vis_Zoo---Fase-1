{
 "cells": [
  {
   "cell_type": "markdown",
   "metadata": {},
   "source": [
    "# Time-Spacial Exploration\n",
    "\n",
    "By **Franklin Oliveira**\n",
    "\n",
    "-----\n",
    "This notebook contains all code necessary to make charts from `repteis` database with focus on time and space exploration. Here you'll find some basic data treatment and charts' code. \n",
    "\n",
    "Database: <font color='blue'>'Compilacao Livros Repteis - 2 a 10 - 2020_04_28.xls'</font>.m\n",
    "    "
   ]
  },
  {
   "cell_type": "code",
   "execution_count": 1,
   "metadata": {
    "ExecuteTime": {
     "end_time": "2021-01-04T15:00:48.585035Z",
     "start_time": "2021-01-04T15:00:47.976601Z"
    }
   },
   "outputs": [
    {
     "data": {
      "text/plain": [
       "DataTransformerRegistry.enable('default')"
      ]
     },
     "execution_count": 1,
     "metadata": {},
     "output_type": "execute_result"
    }
   ],
   "source": [
    "import datetime\n",
    "import numpy as np\n",
    "import pandas as pd\n",
    "\n",
    "from collections import defaultdict\n",
    "\n",
    "# quick visualization\n",
    "import matplotlib.pyplot as plt\n",
    "import seaborn as sns\n",
    "\n",
    "# Waffle Charts\n",
    "# from pywaffle import Waffle \n",
    "# docs: https://pywaffle.readthedocs.io/en/latest/examples/block_shape_distance_location_and_direction.html\n",
    "\n",
    "# visualization\n",
    "import altair as alt\n",
    "\n",
    "# enabling notebook renderer\n",
    "# alt.renderers.enable('notebook')\n",
    "# alt.renderers.enable('default')\n",
    "\n",
    "# disabling rows limit\n",
    "alt.data_transformers.disable_max_rows()"
   ]
  },
  {
   "cell_type": "markdown",
   "metadata": {},
   "source": [
    "## Importing data..."
   ]
  },
  {
   "cell_type": "code",
   "execution_count": 2,
   "metadata": {
    "ExecuteTime": {
     "end_time": "2021-01-04T15:00:51.458733Z",
     "start_time": "2021-01-04T15:00:51.321842Z"
    }
   },
   "outputs": [],
   "source": [
    "NewTable = pd.read_csv('./data/treated_db.csv', sep=';', encoding='utf-8-sig', low_memory=False)"
   ]
  },
  {
   "cell_type": "markdown",
   "metadata": {},
   "source": [
    "<br>\n",
    "\n",
    "<font size=5>**Paleta de cores por Ordem**</font>\n",
    "\n",
    "Abaixo está a imagem usada como inspiração (https://color.adobe.com/create/image)\n",
    "\n",
    "<img src=\"./src/paleta_cores.jpeg\" width='500px'>\n",
    "\n",
    "Cores: \n",
    "\n",
    "- verde_escuro: #284021\n",
    "- verde_claro: #88BF11\n",
    "- amarelo: #D9CB0B\n",
    "- laranja: #D99311\n",
    "- laranja_escuro: #BF4417\n",
    "- marrom-_laro: #BF8D7A"
   ]
  },
  {
   "cell_type": "code",
   "execution_count": 3,
   "metadata": {
    "ExecuteTime": {
     "end_time": "2021-01-04T15:00:53.496780Z",
     "start_time": "2021-01-04T15:00:53.489854Z"
    }
   },
   "outputs": [],
   "source": [
    "# p.s.: Caudata is an error and should be removed\n",
    "cores_ordem = {\n",
    "    'Squamata': '#BF4417',\n",
    "    'Testudines': '#D9CB0B', \n",
    "    'Crocodylia': '#284021'\n",
    "}\n",
    "\n",
    "ordens = list(cores_ordem.keys())\n",
    "cores = list(cores_ordem.values())"
   ]
  },
  {
   "cell_type": "markdown",
   "metadata": {},
   "source": [
    "Cores por continente: <br>\n",
    "**Paleta 1:**\n",
    "[\"#d963cf\", \"#10b651\", \"#21638f\", \"#bce091\", \"#8d102b\", \"#52e9e6\", \"#5e4028\"]\n",
    "\n",
    "<ul>\n",
    "    <li style=\"color:#d963cf\"><b>cor 1</b></li>\n",
    "    <li style=\"color:#10b651\"><b>cor 2</b></li>\n",
    "    <li style=\"color:#21638f\"><b>cor 3</b></li>\n",
    "    <li style=\"color:#bce091\"><b>cor 4</b></li>\n",
    "    <li style=\"color:#8d102b\"><b>cor 5</b></li>\n",
    "    <li style=\"color:#52e9e6\"><b>cor 6</b></li>\n",
    "    <li style=\"color:#5e4028\"><b>cor 7</b></li>\n",
    "</ul>\n",
    "\n",
    "**Paleta 2:**\n",
    "[\"#208eb7\", \"#c5df72\", \"#382010\", \"#6fd8c5\", \"#1a6587\", \"#fdb5ac\", \"#7b0905\"]\n",
    "\n",
    "<ul>\n",
    "    <li style=\"color:#208eb7\"><b>cor 1</b></li>\n",
    "    <li style=\"color:#c5df72\"><b>cor 2</b></li>\n",
    "    <li style=\"color:#382010\"><b>cor 3</b></li>\n",
    "    <li style=\"color:#6fd8c5\"><b>cor 4</b></li>\n",
    "    <li style=\"color:#1a6587\"><b>cor 5</b></li>\n",
    "    <li style=\"color:#fdb5ac\"><b>cor 6</b></li>\n",
    "    <li style=\"color:#7b0905\"><b>cor 7</b></li>\n",
    "</ul>\n",
    "\n",
    "**Paleta 3:**\n",
    "[\"#d963cf\", \"#80c6b8\", \"#bf3e15\", \"#b7d165\", \"#3a6566\", \"#efaa79\", \"#803e4c\"]\n",
    "\n",
    "<ul>\n",
    "    <li style=\"color:#d963cf\"><b>cor 1</b></li>\n",
    "    <li style=\"color:#80c6b8\"><b>cor 2</b></li>\n",
    "    <li style=\"color:#bf3e15\"><b>cor 3</b></li>\n",
    "    <li style=\"color:#b7d165\"><b>cor 4</b></li>\n",
    "    <li style=\"color:#3a6566\"><b>cor 5</b></li>\n",
    "    <li style=\"color:#efaa79\"><b>cor 6</b></li>\n",
    "    <li style=\"color:#803e4c\"><b>cor 7</b></li>\n",
    "</ul>"
   ]
  },
  {
   "cell_type": "code",
   "execution_count": 42,
   "metadata": {
    "ExecuteTime": {
     "end_time": "2021-01-04T15:41:15.375396Z",
     "start_time": "2021-01-04T15:41:15.367684Z"
    }
   },
   "outputs": [],
   "source": [
    "# dicionarios de cores por continente\n",
    "cores_continente = {\n",
    "    \"#N/D\":\"#5e4028\",\n",
    "    \"América do Sul\":\"#10b651\",\n",
    "    \"América Central\":\"#bce091\",\n",
    "    \"América do Norte\":\"#21638f\",\n",
    "    \"Ásia\":\"#d963cf\",\n",
    "    \"África\":\"#52e9e6\",\n",
    "    \"Europa\":\"#8d102b\"\n",
    "}\n",
    "\n",
    "cores_continente3 = {\n",
    "    \"#N/D\":\"#d963cf\",\n",
    "    \"América do Sul\":\"#3a6566\",\n",
    "    \"América Central\":\"#b7d165\",\n",
    "    \"América do Norte\":\"#80c6b8\",\n",
    "    \"Ásia\":\"#803e4c\",\n",
    "    \"África\":\"#efaa79\",\n",
    "    \"Europa\":\"#bf3e15\"\n",
    "}"
   ]
  },
  {
   "cell_type": "code",
   "execution_count": 92,
   "metadata": {
    "ExecuteTime": {
     "end_time": "2021-01-04T18:13:35.094853Z",
     "start_time": "2021-01-04T18:13:35.090082Z"
    }
   },
   "outputs": [
    {
     "data": {
      "text/plain": [
       "array(['Bósnia e Herzegovina', 'Romênia', 'Alemanha', 'Kingdom', nan],\n",
       "      dtype=object)"
      ]
     },
     "execution_count": 92,
     "metadata": {},
     "output_type": "execute_result"
    }
   ],
   "source": [
    "NewTable[NewTable['continente'] == \"Europa\"]['pais'].unique()"
   ]
  },
  {
   "cell_type": "code",
   "execution_count": 109,
   "metadata": {
    "ExecuteTime": {
     "end_time": "2021-01-04T18:25:18.854010Z",
     "start_time": "2021-01-04T18:25:18.846821Z"
    }
   },
   "outputs": [],
   "source": [
    "# dicionario de cores por país (degrade da cor escolhida para o continente)\n",
    "# América do Sul\n",
    "# ['#bbffd4', '#94efc6', '#57d5c9', '#00b8cc', '#0096c9', '#0071ba', '#004da4', '#002e8b', '#00237a']\n",
    "# '#a6d2eb', '#9ebdcb'\n",
    "# América Central\n",
    "# ['#e3ff63', '#caf94f', '#b2e439', '#9acf1c', '#81ba00', '#69a600', '#519200', '#3a7e00', '#256b00']\n",
    "# Ásia\n",
    "# ['#f0c0d7', '#e5aec6', '#d89bb2', '#cb879c', '#bc7386', '#ad6274', '#9e5466', '#8f485a', '#803e4c']\n",
    "# África\n",
    "# ['#ffceb2', '#ffba94', '#efaa79', '#d39a5f', '#ba8a47', '#a57b34', '#956c25', '#895d1a', '#815010']\n",
    "# Europa\n",
    "# ['#ffcea9', '#ffb996', '#ffa583', '#ff916f', '#ff7d5c', '#eb6949', '#d25638', '#ba4327', '#a52e17']\n",
    "\n",
    "cores_pais = {\n",
    "    '#N/D':'#5e4028',\n",
    "    'nan':'#000000',  # preto\n",
    "    # América do Sul\n",
    "    'Brasil':'#00237a',\n",
    "    'Uruguai':'#002e8b',\n",
    "    'Colômbia':'#004da4',\n",
    "    'Peru':'#0071ba',\n",
    "    'Paraguai':'#0096c9',\n",
    "    'Argentina':'#00b8cc',\n",
    "    'Guiana Francesa':'#57d5c9',\n",
    "    'Venezuela':'#94efc6',\n",
    "    'Guiana':'#9ebdcb',\n",
    "    'Chile':'#bbffd4',\n",
    "    'Equador':'#a6d2eb',\n",
    "    # América Central\n",
    "    'Guatemala':'#e3ff63',\n",
    "    'Panamá':'#caf94f',\n",
    "    'Porto Rico':'#b2e439',\n",
    "    'Costa Rica':'#9acf1c',\n",
    "    'México':'#256b00',\n",
    "    'Nicarágua':'#81ba00',\n",
    "    'Honduras':'#69a600',\n",
    "    'Cuba':'#519200',\n",
    "    'República Dominicana':'#3a7e00',\n",
    "    # América do Norte\n",
    "    'Estados Unidos':'#80c6b8',\n",
    "    # Ásia\n",
    "    'Israel':'#803e4c',\n",
    "    'Indonésia':'#9e5466',\n",
    "    'Índia':'#bc7386',\n",
    "    'Filipinas':'#d89bb2',\n",
    "    # África\n",
    "    'África do Sul':'#ba8a47',\n",
    "    'Egito':'#efaa79',\n",
    "    # Europa\n",
    "    'Bósnia e Herzegovina':'#ffb996',\n",
    "    'Romênia':'#ff916f',\n",
    "    'Alemanha':'#eb6949',\n",
    "    'Kingdom':'#ba4327'\n",
    "}\n",
    "\n",
    "# apenas países da América do Sul\n",
    "cores_AS = {\n",
    "    'Brasil':'#00237a',\n",
    "    'Uruguai':'#002e8b',\n",
    "    'Colômbia':'#004da4',\n",
    "    'Peru':'#0071ba',\n",
    "    'Paraguai':'#0096c9',\n",
    "    'Argentina':'#00b8cc',\n",
    "    'Guiana Francesa':'#57d5c9',\n",
    "    'Venezuela':'#94efc6',\n",
    "    'Guiana':'#9ebdcb',\n",
    "    'Chile':'#bbffd4',\n",
    "    'Equador':'#a6d2eb',\n",
    "}"
   ]
  },
  {
   "cell_type": "markdown",
   "metadata": {},
   "source": [
    "<br>\n",
    "\n",
    "Cores por Região do Brasil:\n",
    "\n",
    "**Paleta 1:**\n",
    "[\"#52ef99\", \"#944557\", \"#75d5e1\", \"#ee4454\", \"#b1bf81\"]\n",
    "\n",
    "<ul>\n",
    "    <li style='color:#52ef99'><b>cor 1</b></li>\n",
    "    <li style='color:#944557'><b>cor 2</b></li>\n",
    "    <li style='color:#75d5e1'><b>cor 3</b></li>\n",
    "    <li style='color:#ee4454'><b>cor 4</b></li>\n",
    "    <li style='color:#b1bf81'><b>cor 5</b></li>\n",
    "</ul>\n",
    "\n",
    "**Paleta 2:**\n",
    "[\"#48bf8e\", \"#cc4c3e\", \"#7fa69d\", \"#bb8377\", \"#2a6866\"]\n",
    "\n",
    "<ul>\n",
    "    <li style='color:#48bf8e'><b>cor 1</b></li>\n",
    "    <li style='color:#cc4c3e'><b>cor 2</b></li>\n",
    "    <li style='color:#7fa69d'><b>cor 3</b></li>\n",
    "    <li style='color:#bb8377'><b>cor 4</b></li>\n",
    "    <li style='color:#2a6866'><b>cor 5</b></li>\n",
    "</ul>"
   ]
  },
  {
   "cell_type": "code",
   "execution_count": 126,
   "metadata": {
    "ExecuteTime": {
     "end_time": "2021-01-04T18:42:59.614505Z",
     "start_time": "2021-01-04T18:42:59.610162Z"
    }
   },
   "outputs": [
    {
     "data": {
      "text/plain": [
       "array(['Goiás', 'Mato Grosso', 'Mato Grosso do Sul', 'Distrito Federal',\n",
       "       'Brasília', 'Minas Gerais/Goiás/Distrito Federal'], dtype=object)"
      ]
     },
     "execution_count": 126,
     "metadata": {},
     "output_type": "execute_result"
    }
   ],
   "source": [
    "teste2[teste2['regiao'] == 'CO']['estado_ou_provincia'].unique()"
   ]
  },
  {
   "cell_type": "code",
   "execution_count": 127,
   "metadata": {
    "ExecuteTime": {
     "end_time": "2021-01-04T19:04:21.198871Z",
     "start_time": "2021-01-04T19:04:21.193670Z"
    }
   },
   "outputs": [],
   "source": [
    "# Paleta 2\n",
    "cores_regioes = {\n",
    "    'SE':'#bb8377',\n",
    "    'NE':'#cc4c3e',  # calor\n",
    "    'S':'#48bf8e',   # frio\n",
    "    'N':'#2a6866',   # floresta\n",
    "    'CO':'#7fa69d'\n",
    "}\n",
    "\n",
    "# SE: ['#f6ccd0', '#eababc', '#dba9a6', '#cb968e', '#bb8377', '#ab7364', '#9c6556', '#8d594b', '#7d4f3f']\n",
    "# NE: ['#ffc7aa', '#ffb499', '#ffa389', '#ff917a', '#ff7f68', '#f36e5a', '#df5d4b', '#cc4c3e', '#b83b2f']\n",
    "# S: ['#9bffff', '#72f7fd', '#3be5f4', '#00d3ea', '#00c2e0', '#00b2d6', '#00a2cc', '#0093c1', '#0084b5']\n",
    "# N: ['#c5e1cf', '#afd2c1', '#97c2b3', '#7db2a6', '#63a098', '#4c908a', '#3d827d', '#337570', '#2a6866']\n",
    "# CO: ['#fffdfd', '#efeef0', '#d8dee3', '#c1ccd7', '#a8bac9', '#94aabb', '#869bad', '#7b8d9f', '#738093']\n",
    "\n",
    "cores_estados = {\n",
    "    # SE\n",
    "    'Rio de Janeiro':'#8d594b',\n",
    "    'São Paulo':'#ab7364',\n",
    "    'Espírito Santo':'#cb968e',\n",
    "    'Minas Gerais':'#eababc',\n",
    "    # NE\n",
    "    'Pernambuco':'#b83b2f',\n",
    "    'Bahia':'#cc4c3e',\n",
    "    'Ceará':'#df5d4b',\n",
    "    'Paraíba':'#f36e5a',\n",
    "    'Alagoas':'#ff7f68',\n",
    "    'Piauí':'#ff917a',\n",
    "    'Rio Grande do Norte':'#ffa389',\n",
    "    'Sergipe':'#ffb499',\n",
    "    # S\n",
    "    'Paraná':'#0084b5',\n",
    "    'Santa Catarina':'#00a2cc',\n",
    "    'Rio Grande do Sul':'#00c2e0',\n",
    "    'Santa Catarina-Rio Grande do Sul':'#3be5f4',        # ERRO NA BASE\n",
    "    # N\n",
    "    'Amazonas':'#2a6866',\n",
    "    'Roraima':'#337570',\n",
    "    'Pará':'#3d827d',\n",
    "    'Acre':'#4c908a',\n",
    "    'Rondônia':'#63a098',\n",
    "    'Maranhão':'#7db2a6',\n",
    "    'Amapá':'#97c2b3',\n",
    "    'Tocantins':'#afd2c1',\n",
    "    # CO\n",
    "    'Goiás':'#7b8d9f',\n",
    "    'Mato Grosso':'#869bad',\n",
    "    'Mato Grosso do Sul':'#94aabb',\n",
    "    'Distrito Federal':'#a8bac9',\n",
    "    'Brasília':'#c1ccd7',\n",
    "    'Minas Gerais/Goiás/Distrito Federal':'#d8dee3',    # ERRO NA BASE\n",
    "}"
   ]
  },
  {
   "cell_type": "markdown",
   "metadata": {},
   "source": [
    "<br>\n",
    "\n",
    "## Graph: Exploring time-spacial evolution of the database"
   ]
  },
  {
   "cell_type": "code",
   "execution_count": 5,
   "metadata": {
    "ExecuteTime": {
     "end_time": "2021-01-04T15:00:56.506409Z",
     "start_time": "2021-01-04T15:00:56.489683Z"
    }
   },
   "outputs": [],
   "source": [
    "# corrects a typo (Améica do Sul)\n",
    "NewTable['continente'] = NewTable['continente'].apply(lambda x: 'América do Sul' if x=='Améica do Sul' else x)"
   ]
  },
  {
   "cell_type": "code",
   "execution_count": 6,
   "metadata": {
    "ExecuteTime": {
     "end_time": "2021-01-04T15:00:57.592977Z",
     "start_time": "2021-01-04T15:00:57.576250Z"
    }
   },
   "outputs": [
    {
     "data": {
      "text/plain": [
       "América do Sul      21927\n",
       "América Central       135\n",
       "América do Norte      103\n",
       "Ásia                   54\n",
       "#N/D                   25\n",
       "África                 13\n",
       "Europa                  9\n",
       "Name: continente, dtype: int64"
      ]
     },
     "execution_count": 6,
     "metadata": {},
     "output_type": "execute_result"
    }
   ],
   "source": [
    "NewTable['continente'].value_counts()"
   ]
  },
  {
   "cell_type": "markdown",
   "metadata": {},
   "source": [
    "### Chart 1: Evolution per time and continent"
   ]
  },
  {
   "cell_type": "code",
   "execution_count": 7,
   "metadata": {
    "ExecuteTime": {
     "end_time": "2021-01-04T15:01:00.693651Z",
     "start_time": "2021-01-04T15:01:00.637553Z"
    }
   },
   "outputs": [],
   "source": [
    "# agrupando por Ano e Continente\n",
    "teste = NewTable.groupby(['ano_coleta','continente', 'ordem']).count()['class'].reset_index().rename(columns={\n",
    "    'class':'counts'\n",
    "})"
   ]
  },
  {
   "cell_type": "code",
   "execution_count": 8,
   "metadata": {
    "ExecuteTime": {
     "end_time": "2021-01-04T15:01:01.017367Z",
     "start_time": "2021-01-04T15:01:01.011298Z"
    }
   },
   "outputs": [],
   "source": [
    "g1 = alt.Chart(teste, title='Evolução temporal da coleção por continente').mark_circle().encode(\n",
    "    x= alt.X('ano_coleta', type=\"ordinal\", title='Ano de Coleta'),\n",
    "    y= alt.Y('continente', title='Continente', \n",
    "             sort=alt.EncodingSortField('counts', op=\"count\", order='descending')), \n",
    "    size=alt.Size('counts', scale= alt.Scale(range=[30,1200])), \n",
    "    order= alt.Order('counts', sort='descending'),  # smaller points in front\n",
    "    color= alt.Color('ordem', scale=alt.Scale(domain=ordens, range=cores)),\n",
    "    tooltip= alt.Tooltip(['continente','ano_coleta','ordem','counts'])\n",
    ")\n",
    "\n",
    "g1 = g1.configure_title(fontSize=16).configure_axis(\n",
    "    labelFontSize=12,\n",
    "    titleFontSize=12\n",
    ").configure_legend(\n",
    "    labelFontSize=12,\n",
    "    titleFontSize=12\n",
    ")\n",
    "\n",
    "# g1.save('./graphs/time-spacial/evolucao_por_continente.html')\n",
    "\n",
    "# g1"
   ]
  },
  {
   "cell_type": "markdown",
   "metadata": {},
   "source": [
    "<br>\n",
    "\n",
    "#### Cumulative count:"
   ]
  },
  {
   "cell_type": "code",
   "execution_count": 9,
   "metadata": {
    "ExecuteTime": {
     "end_time": "2021-01-04T15:01:02.469753Z",
     "start_time": "2021-01-04T15:01:02.411063Z"
    }
   },
   "outputs": [],
   "source": [
    "# agrupando por Ano e Continente\n",
    "teste = NewTable.groupby(['ano_coleta','continente']).count()['class'].reset_index().rename(columns={\n",
    "    'class':'counts'\n",
    "})\n",
    "\n",
    "teste = teste.sort_values(['continente', 'ano_coleta'])"
   ]
  },
  {
   "cell_type": "code",
   "execution_count": 10,
   "metadata": {
    "ExecuteTime": {
     "end_time": "2021-01-04T15:01:03.120144Z",
     "start_time": "2021-01-04T15:01:03.097355Z"
    }
   },
   "outputs": [],
   "source": [
    "cumSum = []\n",
    "for continente in teste['continente'].unique():\n",
    "    cumSum.extend(list(teste[teste['continente'] == continente]['counts'].cumsum()))\n",
    "    \n",
    "teste['cumulative_sum'] = cumSum"
   ]
  },
  {
   "cell_type": "code",
   "execution_count": 51,
   "metadata": {
    "ExecuteTime": {
     "end_time": "2021-01-04T15:43:56.547730Z",
     "start_time": "2021-01-04T15:43:56.528848Z"
    }
   },
   "outputs": [],
   "source": [
    "g1 = alt.Chart(teste, title='Evolução temporal da coleção por continente', width=600).mark_line(point=True).encode(\n",
    "    x= alt.X('ano_coleta', type=\"ordinal\", title='Ano de Coleta'),\n",
    "    y= alt.Y('cumulative_sum', title='', \n",
    "             sort=alt.EncodingSortField('counts', op=\"count\", order='descending')),\n",
    "    color= alt.Color('continente:N', title='Continente',\n",
    "                     scale=alt.Scale(domain=list(cores_continente.keys()), range=list(cores_continente.values()))),\n",
    "    tooltip= alt.Tooltip(['continente','ano_coleta','counts', 'cumulative_sum'])\n",
    ")\n",
    "\n",
    "g1 = g1.configure_title(fontSize=16).configure_axis(\n",
    "    labelFontSize=12,\n",
    "    titleFontSize=12\n",
    ").configure_legend(\n",
    "    labelFontSize=12,\n",
    "    titleFontSize=12\n",
    ")\n",
    "\n",
    "# g1.save('./graphs/cumCounts/time-spacial/evolucao_por_continente.html')\n",
    "\n",
    "# g1"
   ]
  },
  {
   "cell_type": "code",
   "execution_count": 53,
   "metadata": {
    "ExecuteTime": {
     "end_time": "2021-01-04T15:44:04.226580Z",
     "start_time": "2021-01-04T15:44:04.192671Z"
    }
   },
   "outputs": [
    {
     "data": {
      "text/html": [
       "\n",
       "<div id=\"altair-viz-28c851f929e749a6b7c1e55bec344650\"></div>\n",
       "<script type=\"text/javascript\">\n",
       "  (function(spec, embedOpt){\n",
       "    let outputDiv = document.currentScript.previousElementSibling;\n",
       "    if (outputDiv.id !== \"altair-viz-28c851f929e749a6b7c1e55bec344650\") {\n",
       "      outputDiv = document.getElementById(\"altair-viz-28c851f929e749a6b7c1e55bec344650\");\n",
       "    }\n",
       "    const paths = {\n",
       "      \"vega\": \"https://cdn.jsdelivr.net/npm//vega@5?noext\",\n",
       "      \"vega-lib\": \"https://cdn.jsdelivr.net/npm//vega-lib?noext\",\n",
       "      \"vega-lite\": \"https://cdn.jsdelivr.net/npm//vega-lite@4.8.1?noext\",\n",
       "      \"vega-embed\": \"https://cdn.jsdelivr.net/npm//vega-embed@6?noext\",\n",
       "    };\n",
       "\n",
       "    function loadScript(lib) {\n",
       "      return new Promise(function(resolve, reject) {\n",
       "        var s = document.createElement('script');\n",
       "        s.src = paths[lib];\n",
       "        s.async = true;\n",
       "        s.onload = () => resolve(paths[lib]);\n",
       "        s.onerror = () => reject(`Error loading script: ${paths[lib]}`);\n",
       "        document.getElementsByTagName(\"head\")[0].appendChild(s);\n",
       "      });\n",
       "    }\n",
       "\n",
       "    function showError(err) {\n",
       "      outputDiv.innerHTML = `<div class=\"error\" style=\"color:red;\">${err}</div>`;\n",
       "      throw err;\n",
       "    }\n",
       "\n",
       "    function displayChart(vegaEmbed) {\n",
       "      vegaEmbed(outputDiv, spec, embedOpt)\n",
       "        .catch(err => showError(`Javascript Error: ${err.message}<br>This usually means there's a typo in your chart specification. See the javascript console for the full traceback.`));\n",
       "    }\n",
       "\n",
       "    if(typeof define === \"function\" && define.amd) {\n",
       "      requirejs.config({paths});\n",
       "      require([\"vega-embed\"], displayChart, err => showError(`Error loading script: ${err.message}`));\n",
       "    } else if (typeof vegaEmbed === \"function\") {\n",
       "      displayChart(vegaEmbed);\n",
       "    } else {\n",
       "      loadScript(\"vega\")\n",
       "        .then(() => loadScript(\"vega-lite\"))\n",
       "        .then(() => loadScript(\"vega-embed\"))\n",
       "        .catch(showError)\n",
       "        .then(() => displayChart(vegaEmbed));\n",
       "    }\n",
       "  })({\"config\": {\"view\": {\"continuousWidth\": 400, \"continuousHeight\": 300}, \"axis\": {\"labelFontSize\": 12, \"titleFontSize\": 12}, \"legend\": {\"labelFontSize\": 12, \"titleFontSize\": 12}, \"title\": {\"fontSize\": 16}}, \"data\": {\"name\": \"data-57dd4844d7b7e150ed3ab8be52430822\"}, \"mark\": {\"type\": \"line\", \"point\": true}, \"encoding\": {\"color\": {\"type\": \"nominal\", \"field\": \"continente\", \"scale\": {\"domain\": [\"#N/D\", \"Am\\u00e9rica do Sul\", \"Am\\u00e9rica Central\", \"Am\\u00e9rica do Norte\", \"\\u00c1sia\", \"\\u00c1frica\", \"Europa\"], \"range\": [\"#5e4028\", \"#10b651\", \"#bce091\", \"#21638f\", \"#d963cf\", \"#52e9e6\", \"#8d102b\"]}, \"title\": \"Continente\"}, \"tooltip\": [{\"type\": \"nominal\", \"field\": \"continente\"}, {\"type\": \"quantitative\", \"field\": \"ano_coleta\"}, {\"type\": \"quantitative\", \"field\": \"counts\"}, {\"type\": \"quantitative\", \"field\": \"cumulative_sum\"}], \"x\": {\"type\": \"ordinal\", \"field\": \"ano_coleta\", \"title\": \"Ano de Coleta\"}, \"y\": {\"type\": \"quantitative\", \"field\": \"cumulative_sum\", \"sort\": {\"field\": \"counts\", \"op\": \"count\", \"order\": \"descending\"}, \"title\": \"\"}}, \"title\": \"Evolu\\u00e7\\u00e3o temporal da cole\\u00e7\\u00e3o por continente (ex. Am\\u00e9rica do Sul)\", \"width\": 600, \"$schema\": \"https://vega.github.io/schema/vega-lite/v4.8.1.json\", \"datasets\": {\"data-57dd4844d7b7e150ed3ab8be52430822\": [{\"ano_coleta\": 1955.0, \"continente\": \"#N/D\", \"counts\": 2, \"cumulative_sum\": 2}, {\"ano_coleta\": 1979.0, \"continente\": \"#N/D\", \"counts\": 1, \"cumulative_sum\": 3}, {\"ano_coleta\": 1982.0, \"continente\": \"#N/D\", \"counts\": 1, \"cumulative_sum\": 4}, {\"ano_coleta\": 1991.0, \"continente\": \"#N/D\", \"counts\": 1, \"cumulative_sum\": 5}, {\"ano_coleta\": 2004.0, \"continente\": \"#N/D\", \"counts\": 1, \"cumulative_sum\": 6}, {\"ano_coleta\": 2006.0, \"continente\": \"#N/D\", \"counts\": 1, \"cumulative_sum\": 7}, {\"ano_coleta\": 2009.0, \"continente\": \"#N/D\", \"counts\": 1, \"cumulative_sum\": 8}, {\"ano_coleta\": 2010.0, \"continente\": \"#N/D\", \"counts\": 3, \"cumulative_sum\": 11}, {\"ano_coleta\": 2011.0, \"continente\": \"#N/D\", \"counts\": 2, \"cumulative_sum\": 13}, {\"ano_coleta\": 2012.0, \"continente\": \"#N/D\", \"counts\": 1, \"cumulative_sum\": 14}, {\"ano_coleta\": 2013.0, \"continente\": \"#N/D\", \"counts\": 1, \"cumulative_sum\": 15}, {\"ano_coleta\": 2014.0, \"continente\": \"#N/D\", \"counts\": 2, \"cumulative_sum\": 17}, {\"ano_coleta\": 2015.0, \"continente\": \"#N/D\", \"counts\": 3, \"cumulative_sum\": 20}, {\"ano_coleta\": 1931.0, \"continente\": \"Am\\u00e9rica Central\", \"counts\": 2, \"cumulative_sum\": 2}, {\"ano_coleta\": 1935.0, \"continente\": \"Am\\u00e9rica Central\", \"counts\": 1, \"cumulative_sum\": 3}, {\"ano_coleta\": 1950.0, \"continente\": \"Am\\u00e9rica Central\", \"counts\": 1, \"cumulative_sum\": 4}, {\"ano_coleta\": 1964.0, \"continente\": \"Am\\u00e9rica Central\", \"counts\": 5, \"cumulative_sum\": 9}, {\"ano_coleta\": 1967.0, \"continente\": \"Am\\u00e9rica Central\", \"counts\": 2, \"cumulative_sum\": 11}, {\"ano_coleta\": 2001.0, \"continente\": \"Am\\u00e9rica Central\", \"counts\": 1, \"cumulative_sum\": 12}, {\"ano_coleta\": 2004.0, \"continente\": \"Am\\u00e9rica Central\", \"counts\": 1, \"cumulative_sum\": 13}, {\"ano_coleta\": 1901.0, \"continente\": \"Am\\u00e9rica do Norte\", \"counts\": 3, \"cumulative_sum\": 3}, {\"ano_coleta\": 1902.0, \"continente\": \"Am\\u00e9rica do Norte\", \"counts\": 2, \"cumulative_sum\": 5}, {\"ano_coleta\": 1903.0, \"continente\": \"Am\\u00e9rica do Norte\", \"counts\": 1, \"cumulative_sum\": 6}, {\"ano_coleta\": 1905.0, \"continente\": \"Am\\u00e9rica do Norte\", \"counts\": 1, \"cumulative_sum\": 7}, {\"ano_coleta\": 1906.0, \"continente\": \"Am\\u00e9rica do Norte\", \"counts\": 1, \"cumulative_sum\": 8}, {\"ano_coleta\": 1907.0, \"continente\": \"Am\\u00e9rica do Norte\", \"counts\": 2, \"cumulative_sum\": 10}, {\"ano_coleta\": 1912.0, \"continente\": \"Am\\u00e9rica do Norte\", \"counts\": 3, \"cumulative_sum\": 13}, {\"ano_coleta\": 1913.0, \"continente\": \"Am\\u00e9rica do Norte\", \"counts\": 1, \"cumulative_sum\": 14}, {\"ano_coleta\": 1914.0, \"continente\": \"Am\\u00e9rica do Norte\", \"counts\": 1, \"cumulative_sum\": 15}, {\"ano_coleta\": 1915.0, \"continente\": \"Am\\u00e9rica do Norte\", \"counts\": 1, \"cumulative_sum\": 16}, {\"ano_coleta\": 1916.0, \"continente\": \"Am\\u00e9rica do Norte\", \"counts\": 1, \"cumulative_sum\": 17}, {\"ano_coleta\": 1917.0, \"continente\": \"Am\\u00e9rica do Norte\", \"counts\": 1, \"cumulative_sum\": 18}, {\"ano_coleta\": 1919.0, \"continente\": \"Am\\u00e9rica do Norte\", \"counts\": 3, \"cumulative_sum\": 21}, {\"ano_coleta\": 1935.0, \"continente\": \"Am\\u00e9rica do Norte\", \"counts\": 1, \"cumulative_sum\": 22}, {\"ano_coleta\": 1936.0, \"continente\": \"Am\\u00e9rica do Norte\", \"counts\": 1, \"cumulative_sum\": 23}, {\"ano_coleta\": 1937.0, \"continente\": \"Am\\u00e9rica do Norte\", \"counts\": 1, \"cumulative_sum\": 24}, {\"ano_coleta\": 1940.0, \"continente\": \"Am\\u00e9rica do Norte\", \"counts\": 1, \"cumulative_sum\": 25}, {\"ano_coleta\": 1946.0, \"continente\": \"Am\\u00e9rica do Norte\", \"counts\": 17, \"cumulative_sum\": 42}, {\"ano_coleta\": 1947.0, \"continente\": \"Am\\u00e9rica do Norte\", \"counts\": 11, \"cumulative_sum\": 53}, {\"ano_coleta\": 1949.0, \"continente\": \"Am\\u00e9rica do Norte\", \"counts\": 3, \"cumulative_sum\": 56}, {\"ano_coleta\": 1963.0, \"continente\": \"Am\\u00e9rica do Norte\", \"counts\": 6, \"cumulative_sum\": 62}, {\"ano_coleta\": 1994.0, \"continente\": \"Am\\u00e9rica do Norte\", \"counts\": 2, \"cumulative_sum\": 64}, {\"ano_coleta\": 1998.0, \"continente\": \"Am\\u00e9rica do Norte\", \"counts\": 1, \"cumulative_sum\": 65}, {\"ano_coleta\": 1913.0, \"continente\": \"Europa\", \"counts\": 1, \"cumulative_sum\": 1}, {\"ano_coleta\": 1962.0, \"continente\": \"Europa\", \"counts\": 1, \"cumulative_sum\": 2}, {\"ano_coleta\": 1972.0, \"continente\": \"Europa\", \"counts\": 1, \"cumulative_sum\": 3}, {\"ano_coleta\": 2002.0, \"continente\": \"\\u00c1frica\", \"counts\": 1, \"cumulative_sum\": 1}, {\"ano_coleta\": 1907.0, \"continente\": \"\\u00c1sia\", \"counts\": 2, \"cumulative_sum\": 2}, {\"ano_coleta\": 1957.0, \"continente\": \"\\u00c1sia\", \"counts\": 3, \"cumulative_sum\": 5}, {\"ano_coleta\": 1961.0, \"continente\": \"\\u00c1sia\", \"counts\": 2, \"cumulative_sum\": 7}, {\"ano_coleta\": 1962.0, \"continente\": \"\\u00c1sia\", \"counts\": 4, \"cumulative_sum\": 11}, {\"ano_coleta\": 1963.0, \"continente\": \"\\u00c1sia\", \"counts\": 6, \"cumulative_sum\": 17}]}}, {\"mode\": \"vega-lite\"});\n",
       "</script>"
      ],
      "text/plain": [
       "alt.Chart(...)"
      ]
     },
     "execution_count": 53,
     "metadata": {},
     "output_type": "execute_result"
    }
   ],
   "source": [
    "g1 = alt.Chart(teste[teste['continente']!='América do Sul'],\n",
    "               title='Evolução temporal da coleção por continente (ex. América do Sul)', \n",
    "width=600).mark_line(point=True).encode(\n",
    "    x= alt.X('ano_coleta', type=\"ordinal\", title='Ano de Coleta'),\n",
    "    y= alt.Y('cumulative_sum', title='', \n",
    "             sort=alt.EncodingSortField('counts', op=\"count\", order='descending')),\n",
    "    color= alt.Color('continente:N', title='Continente',\n",
    "                     scale=alt.Scale(domain=list(cores_continente.keys()), range=list(cores_continente.values()))),\n",
    "    tooltip= alt.Tooltip(['continente','ano_coleta','counts', 'cumulative_sum'])\n",
    ")\n",
    "\n",
    "g1 = g1.configure_title(fontSize=16).configure_axis(\n",
    "    labelFontSize=12,\n",
    "    titleFontSize=12\n",
    ").configure_legend(\n",
    "    labelFontSize=12,\n",
    "    titleFontSize=12\n",
    ")\n",
    "\n",
    "# g1.save('./graphs/cumCounts/time-spacial/evolucao_por_OUTROS_continentes.html')\n",
    "\n",
    "g1"
   ]
  },
  {
   "cell_type": "markdown",
   "metadata": {},
   "source": [
    "<br>\n",
    "\n",
    "### Chart 2: Evolution per time and country"
   ]
  },
  {
   "cell_type": "code",
   "execution_count": 54,
   "metadata": {
    "ExecuteTime": {
     "end_time": "2021-01-04T16:26:38.946607Z",
     "start_time": "2021-01-04T16:26:38.909202Z"
    }
   },
   "outputs": [],
   "source": [
    "# agrupando por Ano e Continente\n",
    "teste1 = NewTable.groupby(['ano_coleta','pais', 'ordem']).count()['class'].reset_index().rename(columns={\n",
    "    'class':'counts'\n",
    "})"
   ]
  },
  {
   "cell_type": "code",
   "execution_count": 55,
   "metadata": {
    "ExecuteTime": {
     "end_time": "2021-01-04T16:26:39.297352Z",
     "start_time": "2021-01-04T16:26:39.281972Z"
    }
   },
   "outputs": [],
   "source": [
    "# retirei Brasil (será detalhado por Estados depois)\n",
    "g1 = alt.Chart(teste1[teste1['pais'] != 'Brasil'], title='Animais coletados por ano em outros países',\n",
    "              width=800).mark_circle().encode(\n",
    "    x= alt.X('ano_coleta', type=\"ordinal\", title='Ano de Coleta'),\n",
    "    y= alt.Y('pais', title='País', \n",
    "             sort=alt.EncodingSortField('counts', op=\"sum\", order='descending')), \n",
    "    size=alt.Size('counts', scale= alt.Scale(range=[20,250])), \n",
    "    order= alt.Order('counts', sort='descending'),  # smaller points in front\n",
    "    color= alt.Color('ordem', scale=alt.Scale(domain=ordens, range=cores)),\n",
    "    tooltip= alt.Tooltip(['pais','ano_coleta','ordem','counts'])\n",
    ")\n",
    "\n",
    "g1 = g1.configure_title(fontSize=16).configure_axis(\n",
    "    labelFontSize=12,\n",
    "    titleFontSize=12\n",
    ").configure_legend(\n",
    "    labelFontSize=12,\n",
    "    titleFontSize=12\n",
    ")\n",
    "\n",
    "# g1.save('./graphs/time-spacial/evolucao_por_pais.html')\n",
    "\n",
    "# g1"
   ]
  },
  {
   "cell_type": "markdown",
   "metadata": {},
   "source": [
    "<br>\n",
    "\n",
    "#### Cumulative count:"
   ]
  },
  {
   "cell_type": "code",
   "execution_count": 148,
   "metadata": {
    "ExecuteTime": {
     "end_time": "2021-01-04T19:13:43.088563Z",
     "start_time": "2021-01-04T19:13:43.053820Z"
    }
   },
   "outputs": [],
   "source": [
    "# agrupando por Ano e Continente\n",
    "teste = NewTable.groupby(['ano_coleta','continente','pais']).count()['class'].reset_index().rename(columns={\n",
    "    'class':'counts'\n",
    "})\n",
    "\n",
    "teste = teste.sort_values(['pais', 'ano_coleta'])"
   ]
  },
  {
   "cell_type": "code",
   "execution_count": 149,
   "metadata": {
    "ExecuteTime": {
     "end_time": "2021-01-04T19:13:43.625115Z",
     "start_time": "2021-01-04T19:13:43.589880Z"
    }
   },
   "outputs": [],
   "source": [
    "cumSum = []\n",
    "for pais in teste['pais'].unique():\n",
    "    cumSum.extend(list(teste[teste['pais'] == pais]['counts'].cumsum()))\n",
    "    \n",
    "teste['cumulative_sum'] = cumSum"
   ]
  },
  {
   "cell_type": "code",
   "execution_count": 166,
   "metadata": {
    "ExecuteTime": {
     "end_time": "2021-01-04T19:17:54.597712Z",
     "start_time": "2021-01-04T19:17:54.588530Z"
    }
   },
   "outputs": [],
   "source": [
    "g1 = alt.Chart(teste, title='Evolução temporal da coleção por país', \n",
    "width=600).mark_line(point=True).encode(\n",
    "    x= alt.X('ano_coleta', type=\"ordinal\", title='Ano de Coleta'),\n",
    "    y= alt.Y('cumulative_sum', title='', \n",
    "             sort=alt.EncodingSortField('counts', op=\"count\", order='descending')),\n",
    "    color= alt.Color('pais:N', title='País',\n",
    "                     legend= alt.Legend(columns=2, symbolLimit=42),\n",
    "                     scale= alt.Scale(domain=list(cores_pais.keys()), range=list(cores_pais.values()))),\n",
    "    tooltip= alt.Tooltip(['pais','ano_coleta','counts', 'cumulative_sum'])\n",
    ")\n",
    "\n",
    "g1 = g1.configure_title(fontSize=16).configure_axis(\n",
    "    labelFontSize=12,\n",
    "    titleFontSize=12\n",
    ").configure_legend(\n",
    "    labelFontSize=12,\n",
    "    titleFontSize=12\n",
    ")\n",
    "\n",
    "# g1.save('./graphs/cumCounts/time-spacial/evolucao_por_país.html')\n",
    "\n",
    "# g1"
   ]
  },
  {
   "cell_type": "code",
   "execution_count": 161,
   "metadata": {
    "ExecuteTime": {
     "end_time": "2021-01-04T19:17:09.609059Z",
     "start_time": "2021-01-04T19:17:09.579690Z"
    }
   },
   "outputs": [
    {
     "data": {
      "text/html": [
       "\n",
       "<div id=\"altair-viz-05551f0a8c6646e9a011a737e9064670\"></div>\n",
       "<script type=\"text/javascript\">\n",
       "  (function(spec, embedOpt){\n",
       "    let outputDiv = document.currentScript.previousElementSibling;\n",
       "    if (outputDiv.id !== \"altair-viz-05551f0a8c6646e9a011a737e9064670\") {\n",
       "      outputDiv = document.getElementById(\"altair-viz-05551f0a8c6646e9a011a737e9064670\");\n",
       "    }\n",
       "    const paths = {\n",
       "      \"vega\": \"https://cdn.jsdelivr.net/npm//vega@5?noext\",\n",
       "      \"vega-lib\": \"https://cdn.jsdelivr.net/npm//vega-lib?noext\",\n",
       "      \"vega-lite\": \"https://cdn.jsdelivr.net/npm//vega-lite@4.8.1?noext\",\n",
       "      \"vega-embed\": \"https://cdn.jsdelivr.net/npm//vega-embed@6?noext\",\n",
       "    };\n",
       "\n",
       "    function loadScript(lib) {\n",
       "      return new Promise(function(resolve, reject) {\n",
       "        var s = document.createElement('script');\n",
       "        s.src = paths[lib];\n",
       "        s.async = true;\n",
       "        s.onload = () => resolve(paths[lib]);\n",
       "        s.onerror = () => reject(`Error loading script: ${paths[lib]}`);\n",
       "        document.getElementsByTagName(\"head\")[0].appendChild(s);\n",
       "      });\n",
       "    }\n",
       "\n",
       "    function showError(err) {\n",
       "      outputDiv.innerHTML = `<div class=\"error\" style=\"color:red;\">${err}</div>`;\n",
       "      throw err;\n",
       "    }\n",
       "\n",
       "    function displayChart(vegaEmbed) {\n",
       "      vegaEmbed(outputDiv, spec, embedOpt)\n",
       "        .catch(err => showError(`Javascript Error: ${err.message}<br>This usually means there's a typo in your chart specification. See the javascript console for the full traceback.`));\n",
       "    }\n",
       "\n",
       "    if(typeof define === \"function\" && define.amd) {\n",
       "      requirejs.config({paths});\n",
       "      require([\"vega-embed\"], displayChart, err => showError(`Error loading script: ${err.message}`));\n",
       "    } else if (typeof vegaEmbed === \"function\") {\n",
       "      displayChart(vegaEmbed);\n",
       "    } else {\n",
       "      loadScript(\"vega\")\n",
       "        .then(() => loadScript(\"vega-lite\"))\n",
       "        .then(() => loadScript(\"vega-embed\"))\n",
       "        .catch(showError)\n",
       "        .then(() => displayChart(vegaEmbed));\n",
       "    }\n",
       "  })({\"config\": {\"view\": {\"continuousWidth\": 400, \"continuousHeight\": 300}, \"axis\": {\"labelFontSize\": 12, \"titleFontSize\": 12}, \"legend\": {\"labelFontSize\": 12, \"titleFontSize\": 12}, \"title\": {\"fontSize\": 16}}, \"data\": {\"name\": \"data-3eb880085df7dd6b37d8d8a986c17375\"}, \"mark\": {\"type\": \"line\", \"point\": true}, \"encoding\": {\"color\": {\"type\": \"nominal\", \"field\": \"pais\", \"legend\": {\"columns\": 2, \"symbolLimit\": 42}, \"scale\": {\"domain\": [\"#N/D\", \"nan\", \"Brasil\", \"Uruguai\", \"Col\\u00f4mbia\", \"Peru\", \"Paraguai\", \"Argentina\", \"Guiana Francesa\", \"Venezuela\", \"Guiana\", \"Chile\", \"Equador\", \"Guatemala\", \"Panam\\u00e1\", \"Porto Rico\", \"Costa Rica\", \"M\\u00e9xico\", \"Nicar\\u00e1gua\", \"Honduras\", \"Cuba\", \"Rep\\u00fablica Dominicana\", \"Estados Unidos\", \"Israel\", \"Indon\\u00e9sia\", \"\\u00cdndia\", \"Filipinas\", \"\\u00c1frica do Sul\", \"Egito\", \"B\\u00f3snia e Herzegovina\", \"Rom\\u00eania\", \"Alemanha\", \"Kingdom\"], \"range\": [\"#5e4028\", \"#000000\", \"#00237a\", \"#002e8b\", \"#004da4\", \"#0071ba\", \"#0096c9\", \"#00b8cc\", \"#57d5c9\", \"#94efc6\", \"#9ebdcb\", \"#bbffd4\", \"#a6d2eb\", \"#e3ff63\", \"#caf94f\", \"#b2e439\", \"#9acf1c\", \"#256b00\", \"#81ba00\", \"#69a600\", \"#519200\", \"#3a7e00\", \"#80c6b8\", \"#803e4c\", \"#9e5466\", \"#bc7386\", \"#d89bb2\", \"#ba8a47\", \"#efaa79\", \"#ffb996\", \"#ff916f\", \"#eb6949\", \"#ba4327\"]}, \"title\": \"Pa\\u00eds\"}, \"tooltip\": [{\"type\": \"nominal\", \"field\": \"pais\"}, {\"type\": \"quantitative\", \"field\": \"ano_coleta\"}, {\"type\": \"quantitative\", \"field\": \"counts\"}, {\"type\": \"quantitative\", \"field\": \"cumulative_sum\"}], \"x\": {\"type\": \"ordinal\", \"field\": \"ano_coleta\", \"title\": \"Ano de Coleta\"}, \"y\": {\"type\": \"quantitative\", \"field\": \"cumulative_sum\", \"sort\": {\"field\": \"counts\", \"op\": \"count\", \"order\": \"descending\"}, \"title\": \"\"}}, \"title\": \"Evolu\\u00e7\\u00e3o temporal da cole\\u00e7\\u00e3o por pa\\u00eds (ex. Brasil)\", \"width\": 600, \"$schema\": \"https://vega.github.io/schema/vega-lite/v4.8.1.json\", \"datasets\": {\"data-3eb880085df7dd6b37d8d8a986c17375\": [{\"ano_coleta\": 1955.0, \"continente\": \"#N/D\", \"pais\": \"#N/D\", \"counts\": 2, \"cumulative_sum\": 2}, {\"ano_coleta\": 1979.0, \"continente\": \"#N/D\", \"pais\": \"#N/D\", \"counts\": 1, \"cumulative_sum\": 3}, {\"ano_coleta\": 1982.0, \"continente\": \"#N/D\", \"pais\": \"#N/D\", \"counts\": 1, \"cumulative_sum\": 4}, {\"ano_coleta\": 1991.0, \"continente\": \"#N/D\", \"pais\": \"#N/D\", \"counts\": 1, \"cumulative_sum\": 5}, {\"ano_coleta\": 2004.0, \"continente\": \"#N/D\", \"pais\": \"#N/D\", \"counts\": 1, \"cumulative_sum\": 6}, {\"ano_coleta\": 2006.0, \"continente\": \"#N/D\", \"pais\": \"#N/D\", \"counts\": 1, \"cumulative_sum\": 7}, {\"ano_coleta\": 2009.0, \"continente\": \"#N/D\", \"pais\": \"#N/D\", \"counts\": 1, \"cumulative_sum\": 8}, {\"ano_coleta\": 2010.0, \"continente\": \"#N/D\", \"pais\": \"#N/D\", \"counts\": 3, \"cumulative_sum\": 11}, {\"ano_coleta\": 2011.0, \"continente\": \"#N/D\", \"pais\": \"#N/D\", \"counts\": 2, \"cumulative_sum\": 13}, {\"ano_coleta\": 2012.0, \"continente\": \"#N/D\", \"pais\": \"#N/D\", \"counts\": 1, \"cumulative_sum\": 14}, {\"ano_coleta\": 2013.0, \"continente\": \"#N/D\", \"pais\": \"#N/D\", \"counts\": 1, \"cumulative_sum\": 15}, {\"ano_coleta\": 2014.0, \"continente\": \"#N/D\", \"pais\": \"#N/D\", \"counts\": 2, \"cumulative_sum\": 17}, {\"ano_coleta\": 2015.0, \"continente\": \"#N/D\", \"pais\": \"#N/D\", \"counts\": 3, \"cumulative_sum\": 20}, {\"ano_coleta\": 1913.0, \"continente\": \"Europa\", \"pais\": \"Alemanha\", \"counts\": 1, \"cumulative_sum\": 1}, {\"ano_coleta\": 1943.0, \"continente\": \"Am\\u00e9rica do Sul\", \"pais\": \"Argentina\", \"counts\": 1, \"cumulative_sum\": 1}, {\"ano_coleta\": 1954.0, \"continente\": \"Am\\u00e9rica do Sul\", \"pais\": \"Argentina\", \"counts\": 6, \"cumulative_sum\": 7}, {\"ano_coleta\": 1966.0, \"continente\": \"Am\\u00e9rica do Sul\", \"pais\": \"Argentina\", \"counts\": 3, \"cumulative_sum\": 10}, {\"ano_coleta\": 1976.0, \"continente\": \"Am\\u00e9rica do Sul\", \"pais\": \"Argentina\", \"counts\": 1, \"cumulative_sum\": 11}, {\"ano_coleta\": 1978.0, \"continente\": \"Am\\u00e9rica do Sul\", \"pais\": \"Argentina\", \"counts\": 1, \"cumulative_sum\": 12}, {\"ano_coleta\": 1980.0, \"continente\": \"Am\\u00e9rica do Sul\", \"pais\": \"Argentina\", \"counts\": 1, \"cumulative_sum\": 13}, {\"ano_coleta\": 1982.0, \"continente\": \"Am\\u00e9rica do Sul\", \"pais\": \"Argentina\", \"counts\": 4, \"cumulative_sum\": 17}, {\"ano_coleta\": 1983.0, \"continente\": \"Am\\u00e9rica do Sul\", \"pais\": \"Argentina\", \"counts\": 1, \"cumulative_sum\": 18}, {\"ano_coleta\": 1984.0, \"continente\": \"Am\\u00e9rica do Sul\", \"pais\": \"Argentina\", \"counts\": 2, \"cumulative_sum\": 20}, {\"ano_coleta\": 1987.0, \"continente\": \"Am\\u00e9rica do Sul\", \"pais\": \"Argentina\", \"counts\": 12, \"cumulative_sum\": 32}, {\"ano_coleta\": 1988.0, \"continente\": \"Am\\u00e9rica do Sul\", \"pais\": \"Argentina\", \"counts\": 4, \"cumulative_sum\": 36}, {\"ano_coleta\": 1989.0, \"continente\": \"Am\\u00e9rica do Sul\", \"pais\": \"Argentina\", \"counts\": 5, \"cumulative_sum\": 41}, {\"ano_coleta\": 1990.0, \"continente\": \"Am\\u00e9rica do Sul\", \"pais\": \"Argentina\", \"counts\": 3, \"cumulative_sum\": 44}, {\"ano_coleta\": 1991.0, \"continente\": \"Am\\u00e9rica do Sul\", \"pais\": \"Argentina\", \"counts\": 5, \"cumulative_sum\": 49}, {\"ano_coleta\": 1992.0, \"continente\": \"Am\\u00e9rica do Sul\", \"pais\": \"Argentina\", \"counts\": 8, \"cumulative_sum\": 57}, {\"ano_coleta\": 1993.0, \"continente\": \"Am\\u00e9rica do Sul\", \"pais\": \"Argentina\", \"counts\": 5, \"cumulative_sum\": 62}, {\"ano_coleta\": 1994.0, \"continente\": \"Am\\u00e9rica do Sul\", \"pais\": \"Argentina\", \"counts\": 2, \"cumulative_sum\": 64}, {\"ano_coleta\": 1995.0, \"continente\": \"Am\\u00e9rica do Sul\", \"pais\": \"Argentina\", \"counts\": 18, \"cumulative_sum\": 82}, {\"ano_coleta\": 1996.0, \"continente\": \"Am\\u00e9rica do Sul\", \"pais\": \"Argentina\", \"counts\": 4, \"cumulative_sum\": 86}, {\"ano_coleta\": 1997.0, \"continente\": \"Am\\u00e9rica do Sul\", \"pais\": \"Argentina\", \"counts\": 7, \"cumulative_sum\": 93}, {\"ano_coleta\": 1998.0, \"continente\": \"Am\\u00e9rica do Sul\", \"pais\": \"Argentina\", \"counts\": 2, \"cumulative_sum\": 95}, {\"ano_coleta\": 1999.0, \"continente\": \"Am\\u00e9rica do Sul\", \"pais\": \"Argentina\", \"counts\": 2, \"cumulative_sum\": 97}, {\"ano_coleta\": 2001.0, \"continente\": \"Am\\u00e9rica do Sul\", \"pais\": \"Argentina\", \"counts\": 9, \"cumulative_sum\": 106}, {\"ano_coleta\": 2002.0, \"continente\": \"Am\\u00e9rica do Sul\", \"pais\": \"Argentina\", \"counts\": 2, \"cumulative_sum\": 108}, {\"ano_coleta\": 2003.0, \"continente\": \"Am\\u00e9rica do Sul\", \"pais\": \"Argentina\", \"counts\": 3, \"cumulative_sum\": 111}, {\"ano_coleta\": 2005.0, \"continente\": \"Am\\u00e9rica do Sul\", \"pais\": \"Argentina\", \"counts\": 1, \"cumulative_sum\": 112}, {\"ano_coleta\": 1962.0, \"continente\": \"Am\\u00e9rica do Sul\", \"pais\": \"Chile\", \"counts\": 1, \"cumulative_sum\": 1}, {\"ano_coleta\": 1964.0, \"continente\": \"Am\\u00e9rica do Sul\", \"pais\": \"Chile\", \"counts\": 1, \"cumulative_sum\": 2}, {\"ano_coleta\": 1937.0, \"continente\": \"Am\\u00e9rica do Sul\", \"pais\": \"Col\\u00f4mbia\", \"counts\": 1, \"cumulative_sum\": 1}, {\"ano_coleta\": 1964.0, \"continente\": \"Am\\u00e9rica do Sul\", \"pais\": \"Col\\u00f4mbia\", \"counts\": 2, \"cumulative_sum\": 3}, {\"ano_coleta\": 2008.0, \"continente\": \"Am\\u00e9rica do Sul\", \"pais\": \"Col\\u00f4mbia\", \"counts\": 1, \"cumulative_sum\": 4}, {\"ano_coleta\": 2010.0, \"continente\": \"Am\\u00e9rica do Sul\", \"pais\": \"Col\\u00f4mbia\", \"counts\": 3, \"cumulative_sum\": 7}, {\"ano_coleta\": 2011.0, \"continente\": \"Am\\u00e9rica do Sul\", \"pais\": \"Col\\u00f4mbia\", \"counts\": 1, \"cumulative_sum\": 8}, {\"ano_coleta\": 2001.0, \"continente\": \"Am\\u00e9rica Central\", \"pais\": \"Costa Rica\", \"counts\": 1, \"cumulative_sum\": 1}, {\"ano_coleta\": 2004.0, \"continente\": \"Am\\u00e9rica Central\", \"pais\": \"Cuba\", \"counts\": 1, \"cumulative_sum\": 1}, {\"ano_coleta\": 1957.0, \"continente\": \"\\u00c1sia\", \"pais\": \"Egito\", \"counts\": 3, \"cumulative_sum\": 3}, {\"ano_coleta\": 1984.0, \"continente\": \"Am\\u00e9rica do Sul\", \"pais\": \"Equador\", \"counts\": 1, \"cumulative_sum\": 1}, {\"ano_coleta\": 1986.0, \"continente\": \"Am\\u00e9rica do Sul\", \"pais\": \"Equador\", \"counts\": 1, \"cumulative_sum\": 2}, {\"ano_coleta\": 1988.0, \"continente\": \"Am\\u00e9rica do Sul\", \"pais\": \"Equador\", \"counts\": 1, \"cumulative_sum\": 3}, {\"ano_coleta\": 1989.0, \"continente\": \"Am\\u00e9rica do Sul\", \"pais\": \"Equador\", \"counts\": 2, \"cumulative_sum\": 5}, {\"ano_coleta\": 1992.0, \"continente\": \"Am\\u00e9rica do Sul\", \"pais\": \"Equador\", \"counts\": 1, \"cumulative_sum\": 6}, {\"ano_coleta\": 1994.0, \"continente\": \"Am\\u00e9rica do Sul\", \"pais\": \"Equador\", \"counts\": 1, \"cumulative_sum\": 7}, {\"ano_coleta\": 1996.0, \"continente\": \"Am\\u00e9rica do Sul\", \"pais\": \"Equador\", \"counts\": 2, \"cumulative_sum\": 9}, {\"ano_coleta\": 2000.0, \"continente\": \"Am\\u00e9rica do Sul\", \"pais\": \"Equador\", \"counts\": 1, \"cumulative_sum\": 10}, {\"ano_coleta\": 2002.0, \"continente\": \"Am\\u00e9rica do Sul\", \"pais\": \"Equador\", \"counts\": 1, \"cumulative_sum\": 11}, {\"ano_coleta\": 2006.0, \"continente\": \"Am\\u00e9rica do Sul\", \"pais\": \"Equador\", \"counts\": 1, \"cumulative_sum\": 12}, {\"ano_coleta\": 2008.0, \"continente\": \"Am\\u00e9rica do Sul\", \"pais\": \"Equador\", \"counts\": 1, \"cumulative_sum\": 13}, {\"ano_coleta\": 2009.0, \"continente\": \"Am\\u00e9rica do Sul\", \"pais\": \"Equador\", \"counts\": 2, \"cumulative_sum\": 15}, {\"ano_coleta\": 2011.0, \"continente\": \"Am\\u00e9rica do Sul\", \"pais\": \"Equador\", \"counts\": 6, \"cumulative_sum\": 21}, {\"ano_coleta\": 1901.0, \"continente\": \"Am\\u00e9rica do Norte\", \"pais\": \"Estados Unidos\", \"counts\": 3, \"cumulative_sum\": 3}, {\"ano_coleta\": 1902.0, \"continente\": \"Am\\u00e9rica do Norte\", \"pais\": \"Estados Unidos\", \"counts\": 2, \"cumulative_sum\": 5}, {\"ano_coleta\": 1903.0, \"continente\": \"Am\\u00e9rica do Norte\", \"pais\": \"Estados Unidos\", \"counts\": 1, \"cumulative_sum\": 6}, {\"ano_coleta\": 1905.0, \"continente\": \"Am\\u00e9rica do Norte\", \"pais\": \"Estados Unidos\", \"counts\": 1, \"cumulative_sum\": 7}, {\"ano_coleta\": 1906.0, \"continente\": \"Am\\u00e9rica do Norte\", \"pais\": \"Estados Unidos\", \"counts\": 1, \"cumulative_sum\": 8}, {\"ano_coleta\": 1907.0, \"continente\": \"Am\\u00e9rica do Norte\", \"pais\": \"Estados Unidos\", \"counts\": 2, \"cumulative_sum\": 10}, {\"ano_coleta\": 1912.0, \"continente\": \"Am\\u00e9rica do Norte\", \"pais\": \"Estados Unidos\", \"counts\": 3, \"cumulative_sum\": 13}, {\"ano_coleta\": 1913.0, \"continente\": \"Am\\u00e9rica do Norte\", \"pais\": \"Estados Unidos\", \"counts\": 1, \"cumulative_sum\": 14}, {\"ano_coleta\": 1914.0, \"continente\": \"Am\\u00e9rica do Norte\", \"pais\": \"Estados Unidos\", \"counts\": 1, \"cumulative_sum\": 15}, {\"ano_coleta\": 1915.0, \"continente\": \"Am\\u00e9rica do Norte\", \"pais\": \"Estados Unidos\", \"counts\": 1, \"cumulative_sum\": 16}, {\"ano_coleta\": 1916.0, \"continente\": \"Am\\u00e9rica do Norte\", \"pais\": \"Estados Unidos\", \"counts\": 1, \"cumulative_sum\": 17}, {\"ano_coleta\": 1917.0, \"continente\": \"Am\\u00e9rica do Norte\", \"pais\": \"Estados Unidos\", \"counts\": 1, \"cumulative_sum\": 18}, {\"ano_coleta\": 1919.0, \"continente\": \"Am\\u00e9rica do Norte\", \"pais\": \"Estados Unidos\", \"counts\": 3, \"cumulative_sum\": 21}, {\"ano_coleta\": 1935.0, \"continente\": \"Am\\u00e9rica do Norte\", \"pais\": \"Estados Unidos\", \"counts\": 1, \"cumulative_sum\": 22}, {\"ano_coleta\": 1946.0, \"continente\": \"Am\\u00e9rica do Norte\", \"pais\": \"Estados Unidos\", \"counts\": 17, \"cumulative_sum\": 39}, {\"ano_coleta\": 1947.0, \"continente\": \"Am\\u00e9rica do Norte\", \"pais\": \"Estados Unidos\", \"counts\": 11, \"cumulative_sum\": 50}, {\"ano_coleta\": 1949.0, \"continente\": \"Am\\u00e9rica do Norte\", \"pais\": \"Estados Unidos\", \"counts\": 3, \"cumulative_sum\": 53}, {\"ano_coleta\": 1963.0, \"continente\": \"Am\\u00e9rica do Norte\", \"pais\": \"Estados Unidos\", \"counts\": 6, \"cumulative_sum\": 59}, {\"ano_coleta\": 1994.0, \"continente\": \"Am\\u00e9rica do Norte\", \"pais\": \"Estados Unidos\", \"counts\": 2, \"cumulative_sum\": 61}, {\"ano_coleta\": 1998.0, \"continente\": \"Am\\u00e9rica do Norte\", \"pais\": \"Estados Unidos\", \"counts\": 1, \"cumulative_sum\": 62}, {\"ano_coleta\": 1907.0, \"continente\": \"\\u00c1sia\", \"pais\": \"Filipinas\", \"counts\": 2, \"cumulative_sum\": 2}, {\"ano_coleta\": 1931.0, \"continente\": \"Am\\u00e9rica Central\", \"pais\": \"Honduras\", \"counts\": 2, \"cumulative_sum\": 2}, {\"ano_coleta\": 1961.0, \"continente\": \"\\u00c1sia\", \"pais\": \"Israel\", \"counts\": 2, \"cumulative_sum\": 2}, {\"ano_coleta\": 1962.0, \"continente\": \"\\u00c1sia\", \"pais\": \"Israel\", \"counts\": 4, \"cumulative_sum\": 6}, {\"ano_coleta\": 1963.0, \"continente\": \"\\u00c1sia\", \"pais\": \"Israel\", \"counts\": 6, \"cumulative_sum\": 12}, {\"ano_coleta\": 1936.0, \"continente\": \"Am\\u00e9rica do Norte\", \"pais\": \"M\\u00e9xico\", \"counts\": 1, \"cumulative_sum\": 1}, {\"ano_coleta\": 1937.0, \"continente\": \"Am\\u00e9rica do Norte\", \"pais\": \"M\\u00e9xico\", \"counts\": 1, \"cumulative_sum\": 2}, {\"ano_coleta\": 1940.0, \"continente\": \"Am\\u00e9rica do Norte\", \"pais\": \"M\\u00e9xico\", \"counts\": 1, \"cumulative_sum\": 3}, {\"ano_coleta\": 1935.0, \"continente\": \"Am\\u00e9rica Central\", \"pais\": \"Nicar\\u00e1gua\", \"counts\": 1, \"cumulative_sum\": 1}, {\"ano_coleta\": 1937.0, \"continente\": \"Am\\u00e9rica do Sul\", \"pais\": \"Paraguai\", \"counts\": 1, \"cumulative_sum\": 1}, {\"ano_coleta\": 1944.0, \"continente\": \"Am\\u00e9rica do Sul\", \"pais\": \"Paraguai\", \"counts\": 9, \"cumulative_sum\": 10}, {\"ano_coleta\": 1945.0, \"continente\": \"Am\\u00e9rica do Sul\", \"pais\": \"Paraguai\", \"counts\": 2, \"cumulative_sum\": 12}, {\"ano_coleta\": 1976.0, \"continente\": \"Am\\u00e9rica do Sul\", \"pais\": \"Paraguai\", \"counts\": 2, \"cumulative_sum\": 14}, {\"ano_coleta\": 1989.0, \"continente\": \"Am\\u00e9rica do Sul\", \"pais\": \"Paraguai\", \"counts\": 4, \"cumulative_sum\": 18}, {\"ano_coleta\": 1994.0, \"continente\": \"Am\\u00e9rica do Sul\", \"pais\": \"Paraguai\", \"counts\": 6, \"cumulative_sum\": 24}, {\"ano_coleta\": 1939.0, \"continente\": \"Am\\u00e9rica do Sul\", \"pais\": \"Peru\", \"counts\": 2, \"cumulative_sum\": 2}, {\"ano_coleta\": 1943.0, \"continente\": \"Am\\u00e9rica do Sul\", \"pais\": \"Peru\", \"counts\": 2, \"cumulative_sum\": 4}, {\"ano_coleta\": 1966.0, \"continente\": \"Am\\u00e9rica do Sul\", \"pais\": \"Peru\", \"counts\": 5, \"cumulative_sum\": 9}, {\"ano_coleta\": 1986.0, \"continente\": \"Am\\u00e9rica do Sul\", \"pais\": \"Peru\", \"counts\": 1, \"cumulative_sum\": 10}, {\"ano_coleta\": 2007.0, \"continente\": \"Am\\u00e9rica do Sul\", \"pais\": \"Peru\", \"counts\": 1, \"cumulative_sum\": 11}, {\"ano_coleta\": 2008.0, \"continente\": \"Am\\u00e9rica do Sul\", \"pais\": \"Peru\", \"counts\": 2, \"cumulative_sum\": 13}, {\"ano_coleta\": 2009.0, \"continente\": \"Am\\u00e9rica do Sul\", \"pais\": \"Peru\", \"counts\": 1, \"cumulative_sum\": 14}, {\"ano_coleta\": 1950.0, \"continente\": \"Am\\u00e9rica Central\", \"pais\": \"Porto Rico\", \"counts\": 1, \"cumulative_sum\": 1}, {\"ano_coleta\": 1964.0, \"continente\": \"Am\\u00e9rica Central\", \"pais\": \"Porto Rico\", \"counts\": 5, \"cumulative_sum\": 6}, {\"ano_coleta\": 1967.0, \"continente\": \"Am\\u00e9rica Central\", \"pais\": \"Rep\\u00fablica Dominicana\", \"counts\": 2, \"cumulative_sum\": 2}, {\"ano_coleta\": 1962.0, \"continente\": \"Europa\", \"pais\": \"Rom\\u00eania\", \"counts\": 1, \"cumulative_sum\": 1}, {\"ano_coleta\": 1972.0, \"continente\": \"Europa\", \"pais\": \"Rom\\u00eania\", \"counts\": 1, \"cumulative_sum\": 2}, {\"ano_coleta\": 1956.0, \"continente\": \"Am\\u00e9rica do Sul\", \"pais\": \"Uruguai\", \"counts\": 2, \"cumulative_sum\": 2}, {\"ano_coleta\": 1957.0, \"continente\": \"Am\\u00e9rica do Sul\", \"pais\": \"Uruguai\", \"counts\": 2, \"cumulative_sum\": 4}, {\"ano_coleta\": 1984.0, \"continente\": \"Am\\u00e9rica do Sul\", \"pais\": \"Uruguai\", \"counts\": 1, \"cumulative_sum\": 5}, {\"ano_coleta\": 1987.0, \"continente\": \"Am\\u00e9rica do Sul\", \"pais\": \"Uruguai\", \"counts\": 1, \"cumulative_sum\": 6}, {\"ano_coleta\": 1989.0, \"continente\": \"Am\\u00e9rica do Sul\", \"pais\": \"Uruguai\", \"counts\": 3, \"cumulative_sum\": 9}, {\"ano_coleta\": 1922.0, \"continente\": \"Am\\u00e9rica do Sul\", \"pais\": \"Venezuela\", \"counts\": 2, \"cumulative_sum\": 2}, {\"ano_coleta\": 1999.0, \"continente\": \"Am\\u00e9rica do Sul\", \"pais\": \"Venezuela\", \"counts\": 5, \"cumulative_sum\": 7}, {\"ano_coleta\": 2015.0, \"continente\": \"Am\\u00e9rica do Sul\", \"pais\": \"Venezuela\", \"counts\": 1, \"cumulative_sum\": 8}, {\"ano_coleta\": 2002.0, \"continente\": \"\\u00c1frica\", \"pais\": \"\\u00c1frica do Sul\", \"counts\": 1, \"cumulative_sum\": 1}]}}, {\"mode\": \"vega-lite\"});\n",
       "</script>"
      ],
      "text/plain": [
       "alt.Chart(...)"
      ]
     },
     "execution_count": 161,
     "metadata": {},
     "output_type": "execute_result"
    }
   ],
   "source": [
    "g1 = alt.Chart(teste[teste['pais'] != 'Brasil'], title='Evolução temporal da coleção por país (ex. Brasil)', \n",
    "width=600).mark_line(point=True).encode(\n",
    "    x= alt.X('ano_coleta', type=\"ordinal\", title='Ano de Coleta'),\n",
    "    y= alt.Y('cumulative_sum', title='', \n",
    "             sort=alt.EncodingSortField('counts', op=\"count\", order='descending')),\n",
    "    color= alt.Color('pais:N', title='País',\n",
    "                     legend= alt.Legend(columns=2, symbolLimit=42),\n",
    "                     scale= alt.Scale(domain=list(cores_pais.keys()), range=list(cores_pais.values()))),\n",
    "    tooltip= alt.Tooltip(['pais','ano_coleta','counts', 'cumulative_sum'])\n",
    ")\n",
    "\n",
    "g1 = g1.configure_title(fontSize=16).configure_axis(\n",
    "    labelFontSize=12,\n",
    "    titleFontSize=12\n",
    ").configure_legend(\n",
    "    labelFontSize=12,\n",
    "    titleFontSize=12\n",
    ")\n",
    "\n",
    "# g1.save('./graphs/cumCounts/time-spacial/evolucao_por_país-exBrasil.html')\n",
    "\n",
    "g1"
   ]
  },
  {
   "cell_type": "code",
   "execution_count": 165,
   "metadata": {
    "ExecuteTime": {
     "end_time": "2021-01-04T19:17:43.987845Z",
     "start_time": "2021-01-04T19:17:43.977821Z"
    }
   },
   "outputs": [],
   "source": [
    "g1 = alt.Chart(teste[teste['continente'] == 'América do Sul'], \n",
    "               title='Evolução temporal da coleção por país da América do Sul',\n",
    "width=600).mark_line(point=True).encode(\n",
    "    x= alt.X('ano_coleta', type=\"ordinal\", title='Ano de Coleta'),\n",
    "    y= alt.Y('cumulative_sum', title='', \n",
    "             sort=alt.EncodingSortField('counts', op=\"count\", order='descending')),\n",
    "    color= alt.Color('pais:N', title='País',\n",
    "                     legend= alt.Legend(columns=2),\n",
    "                     scale= alt.Scale(domain=list(cores_AS.keys()), range=list(cores_AS.values()))),\n",
    "    tooltip= alt.Tooltip(['pais','ano_coleta','counts'])\n",
    ")\n",
    "\n",
    "g1 = g1.configure_title(fontSize=16).configure_axis(\n",
    "    labelFontSize=12,\n",
    "    titleFontSize=12\n",
    ").configure_legend(\n",
    "    labelFontSize=12,\n",
    "    titleFontSize=12\n",
    ")\n",
    "\n",
    "# g1.save('./graphs/cumCounts/time-spacial/evolucao_por_país-AmericaDoSul.html')\n",
    "\n",
    "# g1"
   ]
  },
  {
   "cell_type": "code",
   "execution_count": 160,
   "metadata": {
    "ExecuteTime": {
     "end_time": "2021-01-04T19:16:30.339795Z",
     "start_time": "2021-01-04T19:16:30.319531Z"
    }
   },
   "outputs": [
    {
     "data": {
      "text/html": [
       "\n",
       "<div id=\"altair-viz-785fc894d3084e16b70997212fe96dda\"></div>\n",
       "<script type=\"text/javascript\">\n",
       "  (function(spec, embedOpt){\n",
       "    let outputDiv = document.currentScript.previousElementSibling;\n",
       "    if (outputDiv.id !== \"altair-viz-785fc894d3084e16b70997212fe96dda\") {\n",
       "      outputDiv = document.getElementById(\"altair-viz-785fc894d3084e16b70997212fe96dda\");\n",
       "    }\n",
       "    const paths = {\n",
       "      \"vega\": \"https://cdn.jsdelivr.net/npm//vega@5?noext\",\n",
       "      \"vega-lib\": \"https://cdn.jsdelivr.net/npm//vega-lib?noext\",\n",
       "      \"vega-lite\": \"https://cdn.jsdelivr.net/npm//vega-lite@4.8.1?noext\",\n",
       "      \"vega-embed\": \"https://cdn.jsdelivr.net/npm//vega-embed@6?noext\",\n",
       "    };\n",
       "\n",
       "    function loadScript(lib) {\n",
       "      return new Promise(function(resolve, reject) {\n",
       "        var s = document.createElement('script');\n",
       "        s.src = paths[lib];\n",
       "        s.async = true;\n",
       "        s.onload = () => resolve(paths[lib]);\n",
       "        s.onerror = () => reject(`Error loading script: ${paths[lib]}`);\n",
       "        document.getElementsByTagName(\"head\")[0].appendChild(s);\n",
       "      });\n",
       "    }\n",
       "\n",
       "    function showError(err) {\n",
       "      outputDiv.innerHTML = `<div class=\"error\" style=\"color:red;\">${err}</div>`;\n",
       "      throw err;\n",
       "    }\n",
       "\n",
       "    function displayChart(vegaEmbed) {\n",
       "      vegaEmbed(outputDiv, spec, embedOpt)\n",
       "        .catch(err => showError(`Javascript Error: ${err.message}<br>This usually means there's a typo in your chart specification. See the javascript console for the full traceback.`));\n",
       "    }\n",
       "\n",
       "    if(typeof define === \"function\" && define.amd) {\n",
       "      requirejs.config({paths});\n",
       "      require([\"vega-embed\"], displayChart, err => showError(`Error loading script: ${err.message}`));\n",
       "    } else if (typeof vegaEmbed === \"function\") {\n",
       "      displayChart(vegaEmbed);\n",
       "    } else {\n",
       "      loadScript(\"vega\")\n",
       "        .then(() => loadScript(\"vega-lite\"))\n",
       "        .then(() => loadScript(\"vega-embed\"))\n",
       "        .catch(showError)\n",
       "        .then(() => displayChart(vegaEmbed));\n",
       "    }\n",
       "  })({\"config\": {\"view\": {\"continuousWidth\": 400, \"continuousHeight\": 300}, \"axis\": {\"labelFontSize\": 12, \"titleFontSize\": 12}, \"legend\": {\"labelFontSize\": 12, \"titleFontSize\": 12}, \"title\": {\"fontSize\": 16}}, \"data\": {\"name\": \"data-1938e1dca4bad5b763b26aee3a84f695\"}, \"mark\": {\"type\": \"line\", \"point\": true}, \"encoding\": {\"color\": {\"type\": \"nominal\", \"field\": \"pais\", \"legend\": {\"columns\": 2}, \"scale\": {\"domain\": [\"Brasil\", \"Uruguai\", \"Col\\u00f4mbia\", \"Peru\", \"Paraguai\", \"Argentina\", \"Guiana Francesa\", \"Venezuela\", \"Guiana\", \"Chile\", \"Equador\"], \"range\": [\"#00237a\", \"#002e8b\", \"#004da4\", \"#0071ba\", \"#0096c9\", \"#00b8cc\", \"#57d5c9\", \"#94efc6\", \"#9ebdcb\", \"#bbffd4\", \"#a6d2eb\"]}, \"title\": \"Pa\\u00eds\"}, \"tooltip\": [{\"type\": \"nominal\", \"field\": \"pais\"}, {\"type\": \"quantitative\", \"field\": \"ano_coleta\"}, {\"type\": \"quantitative\", \"field\": \"counts\"}], \"x\": {\"type\": \"ordinal\", \"field\": \"ano_coleta\", \"title\": \"Ano de Coleta\"}, \"y\": {\"type\": \"quantitative\", \"field\": \"cumulative_sum\", \"sort\": {\"field\": \"counts\", \"op\": \"count\", \"order\": \"descending\"}, \"title\": \"\"}}, \"title\": \"Evolu\\u00e7\\u00e3o temporal da cole\\u00e7\\u00e3o por pa\\u00eds da Am\\u00e9rica do Sul (ex. Brasil)\", \"width\": 600, \"$schema\": \"https://vega.github.io/schema/vega-lite/v4.8.1.json\", \"datasets\": {\"data-1938e1dca4bad5b763b26aee3a84f695\": [{\"ano_coleta\": 1943.0, \"continente\": \"Am\\u00e9rica do Sul\", \"pais\": \"Argentina\", \"counts\": 1, \"cumulative_sum\": 1}, {\"ano_coleta\": 1954.0, \"continente\": \"Am\\u00e9rica do Sul\", \"pais\": \"Argentina\", \"counts\": 6, \"cumulative_sum\": 7}, {\"ano_coleta\": 1966.0, \"continente\": \"Am\\u00e9rica do Sul\", \"pais\": \"Argentina\", \"counts\": 3, \"cumulative_sum\": 10}, {\"ano_coleta\": 1976.0, \"continente\": \"Am\\u00e9rica do Sul\", \"pais\": \"Argentina\", \"counts\": 1, \"cumulative_sum\": 11}, {\"ano_coleta\": 1978.0, \"continente\": \"Am\\u00e9rica do Sul\", \"pais\": \"Argentina\", \"counts\": 1, \"cumulative_sum\": 12}, {\"ano_coleta\": 1980.0, \"continente\": \"Am\\u00e9rica do Sul\", \"pais\": \"Argentina\", \"counts\": 1, \"cumulative_sum\": 13}, {\"ano_coleta\": 1982.0, \"continente\": \"Am\\u00e9rica do Sul\", \"pais\": \"Argentina\", \"counts\": 4, \"cumulative_sum\": 17}, {\"ano_coleta\": 1983.0, \"continente\": \"Am\\u00e9rica do Sul\", \"pais\": \"Argentina\", \"counts\": 1, \"cumulative_sum\": 18}, {\"ano_coleta\": 1984.0, \"continente\": \"Am\\u00e9rica do Sul\", \"pais\": \"Argentina\", \"counts\": 2, \"cumulative_sum\": 20}, {\"ano_coleta\": 1987.0, \"continente\": \"Am\\u00e9rica do Sul\", \"pais\": \"Argentina\", \"counts\": 12, \"cumulative_sum\": 32}, {\"ano_coleta\": 1988.0, \"continente\": \"Am\\u00e9rica do Sul\", \"pais\": \"Argentina\", \"counts\": 4, \"cumulative_sum\": 36}, {\"ano_coleta\": 1989.0, \"continente\": \"Am\\u00e9rica do Sul\", \"pais\": \"Argentina\", \"counts\": 5, \"cumulative_sum\": 41}, {\"ano_coleta\": 1990.0, \"continente\": \"Am\\u00e9rica do Sul\", \"pais\": \"Argentina\", \"counts\": 3, \"cumulative_sum\": 44}, {\"ano_coleta\": 1991.0, \"continente\": \"Am\\u00e9rica do Sul\", \"pais\": \"Argentina\", \"counts\": 5, \"cumulative_sum\": 49}, {\"ano_coleta\": 1992.0, \"continente\": \"Am\\u00e9rica do Sul\", \"pais\": \"Argentina\", \"counts\": 8, \"cumulative_sum\": 57}, {\"ano_coleta\": 1993.0, \"continente\": \"Am\\u00e9rica do Sul\", \"pais\": \"Argentina\", \"counts\": 5, \"cumulative_sum\": 62}, {\"ano_coleta\": 1994.0, \"continente\": \"Am\\u00e9rica do Sul\", \"pais\": \"Argentina\", \"counts\": 2, \"cumulative_sum\": 64}, {\"ano_coleta\": 1995.0, \"continente\": \"Am\\u00e9rica do Sul\", \"pais\": \"Argentina\", \"counts\": 18, \"cumulative_sum\": 82}, {\"ano_coleta\": 1996.0, \"continente\": \"Am\\u00e9rica do Sul\", \"pais\": \"Argentina\", \"counts\": 4, \"cumulative_sum\": 86}, {\"ano_coleta\": 1997.0, \"continente\": \"Am\\u00e9rica do Sul\", \"pais\": \"Argentina\", \"counts\": 7, \"cumulative_sum\": 93}, {\"ano_coleta\": 1998.0, \"continente\": \"Am\\u00e9rica do Sul\", \"pais\": \"Argentina\", \"counts\": 2, \"cumulative_sum\": 95}, {\"ano_coleta\": 1999.0, \"continente\": \"Am\\u00e9rica do Sul\", \"pais\": \"Argentina\", \"counts\": 2, \"cumulative_sum\": 97}, {\"ano_coleta\": 2001.0, \"continente\": \"Am\\u00e9rica do Sul\", \"pais\": \"Argentina\", \"counts\": 9, \"cumulative_sum\": 106}, {\"ano_coleta\": 2002.0, \"continente\": \"Am\\u00e9rica do Sul\", \"pais\": \"Argentina\", \"counts\": 2, \"cumulative_sum\": 108}, {\"ano_coleta\": 2003.0, \"continente\": \"Am\\u00e9rica do Sul\", \"pais\": \"Argentina\", \"counts\": 3, \"cumulative_sum\": 111}, {\"ano_coleta\": 2005.0, \"continente\": \"Am\\u00e9rica do Sul\", \"pais\": \"Argentina\", \"counts\": 1, \"cumulative_sum\": 112}, {\"ano_coleta\": 1962.0, \"continente\": \"Am\\u00e9rica do Sul\", \"pais\": \"Chile\", \"counts\": 1, \"cumulative_sum\": 1}, {\"ano_coleta\": 1964.0, \"continente\": \"Am\\u00e9rica do Sul\", \"pais\": \"Chile\", \"counts\": 1, \"cumulative_sum\": 2}, {\"ano_coleta\": 1937.0, \"continente\": \"Am\\u00e9rica do Sul\", \"pais\": \"Col\\u00f4mbia\", \"counts\": 1, \"cumulative_sum\": 1}, {\"ano_coleta\": 1964.0, \"continente\": \"Am\\u00e9rica do Sul\", \"pais\": \"Col\\u00f4mbia\", \"counts\": 2, \"cumulative_sum\": 3}, {\"ano_coleta\": 2008.0, \"continente\": \"Am\\u00e9rica do Sul\", \"pais\": \"Col\\u00f4mbia\", \"counts\": 1, \"cumulative_sum\": 4}, {\"ano_coleta\": 2010.0, \"continente\": \"Am\\u00e9rica do Sul\", \"pais\": \"Col\\u00f4mbia\", \"counts\": 3, \"cumulative_sum\": 7}, {\"ano_coleta\": 2011.0, \"continente\": \"Am\\u00e9rica do Sul\", \"pais\": \"Col\\u00f4mbia\", \"counts\": 1, \"cumulative_sum\": 8}, {\"ano_coleta\": 1984.0, \"continente\": \"Am\\u00e9rica do Sul\", \"pais\": \"Equador\", \"counts\": 1, \"cumulative_sum\": 1}, {\"ano_coleta\": 1986.0, \"continente\": \"Am\\u00e9rica do Sul\", \"pais\": \"Equador\", \"counts\": 1, \"cumulative_sum\": 2}, {\"ano_coleta\": 1988.0, \"continente\": \"Am\\u00e9rica do Sul\", \"pais\": \"Equador\", \"counts\": 1, \"cumulative_sum\": 3}, {\"ano_coleta\": 1989.0, \"continente\": \"Am\\u00e9rica do Sul\", \"pais\": \"Equador\", \"counts\": 2, \"cumulative_sum\": 5}, {\"ano_coleta\": 1992.0, \"continente\": \"Am\\u00e9rica do Sul\", \"pais\": \"Equador\", \"counts\": 1, \"cumulative_sum\": 6}, {\"ano_coleta\": 1994.0, \"continente\": \"Am\\u00e9rica do Sul\", \"pais\": \"Equador\", \"counts\": 1, \"cumulative_sum\": 7}, {\"ano_coleta\": 1996.0, \"continente\": \"Am\\u00e9rica do Sul\", \"pais\": \"Equador\", \"counts\": 2, \"cumulative_sum\": 9}, {\"ano_coleta\": 2000.0, \"continente\": \"Am\\u00e9rica do Sul\", \"pais\": \"Equador\", \"counts\": 1, \"cumulative_sum\": 10}, {\"ano_coleta\": 2002.0, \"continente\": \"Am\\u00e9rica do Sul\", \"pais\": \"Equador\", \"counts\": 1, \"cumulative_sum\": 11}, {\"ano_coleta\": 2006.0, \"continente\": \"Am\\u00e9rica do Sul\", \"pais\": \"Equador\", \"counts\": 1, \"cumulative_sum\": 12}, {\"ano_coleta\": 2008.0, \"continente\": \"Am\\u00e9rica do Sul\", \"pais\": \"Equador\", \"counts\": 1, \"cumulative_sum\": 13}, {\"ano_coleta\": 2009.0, \"continente\": \"Am\\u00e9rica do Sul\", \"pais\": \"Equador\", \"counts\": 2, \"cumulative_sum\": 15}, {\"ano_coleta\": 2011.0, \"continente\": \"Am\\u00e9rica do Sul\", \"pais\": \"Equador\", \"counts\": 6, \"cumulative_sum\": 21}, {\"ano_coleta\": 1937.0, \"continente\": \"Am\\u00e9rica do Sul\", \"pais\": \"Paraguai\", \"counts\": 1, \"cumulative_sum\": 1}, {\"ano_coleta\": 1944.0, \"continente\": \"Am\\u00e9rica do Sul\", \"pais\": \"Paraguai\", \"counts\": 9, \"cumulative_sum\": 10}, {\"ano_coleta\": 1945.0, \"continente\": \"Am\\u00e9rica do Sul\", \"pais\": \"Paraguai\", \"counts\": 2, \"cumulative_sum\": 12}, {\"ano_coleta\": 1976.0, \"continente\": \"Am\\u00e9rica do Sul\", \"pais\": \"Paraguai\", \"counts\": 2, \"cumulative_sum\": 14}, {\"ano_coleta\": 1989.0, \"continente\": \"Am\\u00e9rica do Sul\", \"pais\": \"Paraguai\", \"counts\": 4, \"cumulative_sum\": 18}, {\"ano_coleta\": 1994.0, \"continente\": \"Am\\u00e9rica do Sul\", \"pais\": \"Paraguai\", \"counts\": 6, \"cumulative_sum\": 24}, {\"ano_coleta\": 1939.0, \"continente\": \"Am\\u00e9rica do Sul\", \"pais\": \"Peru\", \"counts\": 2, \"cumulative_sum\": 2}, {\"ano_coleta\": 1943.0, \"continente\": \"Am\\u00e9rica do Sul\", \"pais\": \"Peru\", \"counts\": 2, \"cumulative_sum\": 4}, {\"ano_coleta\": 1966.0, \"continente\": \"Am\\u00e9rica do Sul\", \"pais\": \"Peru\", \"counts\": 5, \"cumulative_sum\": 9}, {\"ano_coleta\": 1986.0, \"continente\": \"Am\\u00e9rica do Sul\", \"pais\": \"Peru\", \"counts\": 1, \"cumulative_sum\": 10}, {\"ano_coleta\": 2007.0, \"continente\": \"Am\\u00e9rica do Sul\", \"pais\": \"Peru\", \"counts\": 1, \"cumulative_sum\": 11}, {\"ano_coleta\": 2008.0, \"continente\": \"Am\\u00e9rica do Sul\", \"pais\": \"Peru\", \"counts\": 2, \"cumulative_sum\": 13}, {\"ano_coleta\": 2009.0, \"continente\": \"Am\\u00e9rica do Sul\", \"pais\": \"Peru\", \"counts\": 1, \"cumulative_sum\": 14}, {\"ano_coleta\": 1956.0, \"continente\": \"Am\\u00e9rica do Sul\", \"pais\": \"Uruguai\", \"counts\": 2, \"cumulative_sum\": 2}, {\"ano_coleta\": 1957.0, \"continente\": \"Am\\u00e9rica do Sul\", \"pais\": \"Uruguai\", \"counts\": 2, \"cumulative_sum\": 4}, {\"ano_coleta\": 1984.0, \"continente\": \"Am\\u00e9rica do Sul\", \"pais\": \"Uruguai\", \"counts\": 1, \"cumulative_sum\": 5}, {\"ano_coleta\": 1987.0, \"continente\": \"Am\\u00e9rica do Sul\", \"pais\": \"Uruguai\", \"counts\": 1, \"cumulative_sum\": 6}, {\"ano_coleta\": 1989.0, \"continente\": \"Am\\u00e9rica do Sul\", \"pais\": \"Uruguai\", \"counts\": 3, \"cumulative_sum\": 9}, {\"ano_coleta\": 1922.0, \"continente\": \"Am\\u00e9rica do Sul\", \"pais\": \"Venezuela\", \"counts\": 2, \"cumulative_sum\": 2}, {\"ano_coleta\": 1999.0, \"continente\": \"Am\\u00e9rica do Sul\", \"pais\": \"Venezuela\", \"counts\": 5, \"cumulative_sum\": 7}, {\"ano_coleta\": 2015.0, \"continente\": \"Am\\u00e9rica do Sul\", \"pais\": \"Venezuela\", \"counts\": 1, \"cumulative_sum\": 8}]}}, {\"mode\": \"vega-lite\"});\n",
       "</script>"
      ],
      "text/plain": [
       "alt.Chart(...)"
      ]
     },
     "execution_count": 160,
     "metadata": {},
     "output_type": "execute_result"
    }
   ],
   "source": [
    "g1 = alt.Chart(teste[(teste['continente'] == 'América do Sul') & (teste['pais'] != 'Brasil')], \n",
    "               title='Evolução temporal da coleção por país da América do Sul (ex. Brasil)',\n",
    "width=600).mark_line(point=True).encode(\n",
    "    x= alt.X('ano_coleta', type=\"ordinal\", title='Ano de Coleta'),\n",
    "    y= alt.Y('cumulative_sum', title='', \n",
    "             sort=alt.EncodingSortField('counts', op=\"count\", order='descending')),\n",
    "    color= alt.Color('pais:N', title='País',\n",
    "                     legend= alt.Legend(columns=2),\n",
    "                     scale= alt.Scale(domain=list(cores_AS.keys()), range=list(cores_AS.values()))),\n",
    "    tooltip= alt.Tooltip(['pais','ano_coleta','counts'])\n",
    ")\n",
    "\n",
    "g1 = g1.configure_title(fontSize=16).configure_axis(\n",
    "    labelFontSize=12,\n",
    "    titleFontSize=12\n",
    ").configure_legend(\n",
    "    labelFontSize=12,\n",
    "    titleFontSize=12\n",
    ")\n",
    "\n",
    "# g1.save('./graphs/cumCounts/time-spacial/evolucao_por_país-AmericaDoSul-exBrasil.html')\n",
    "\n",
    "g1"
   ]
  },
  {
   "cell_type": "markdown",
   "metadata": {},
   "source": [
    "<br>\n",
    "\n",
    "### Chart 3: Evolution per time and brazilian states"
   ]
  },
  {
   "cell_type": "code",
   "execution_count": 128,
   "metadata": {
    "ExecuteTime": {
     "end_time": "2021-01-04T19:04:36.676565Z",
     "start_time": "2021-01-04T19:04:36.634200Z"
    }
   },
   "outputs": [],
   "source": [
    "# agrupando por Ano e Continente\n",
    "teste2 = NewTable[NewTable['pais'] == 'Brasil']\n",
    "teste2 = teste2.groupby(['ano_coleta','estado_ou_provincia', 'ordem']).count()['class'].reset_index().rename(columns={\n",
    "    'class':'counts'\n",
    "})"
   ]
  },
  {
   "cell_type": "markdown",
   "metadata": {},
   "source": [
    "#### creating column with brazilian regions"
   ]
  },
  {
   "cell_type": "code",
   "execution_count": 129,
   "metadata": {
    "ExecuteTime": {
     "end_time": "2021-01-04T19:04:37.406201Z",
     "start_time": "2021-01-04T19:04:37.391664Z"
    }
   },
   "outputs": [],
   "source": [
    "regioes = {\n",
    "    'Rio de Janeiro':'SE',\n",
    "    'São Paulo':'SE',\n",
    "    'Espírito Santo': 'SE',\n",
    "    'Pernambuco':'NE',\n",
    "    'Santa Catarina':'S',\n",
    "    'Amazonas':'N',\n",
    "    'Goiás':'CO',\n",
    "    'Roraima':'N',\n",
    "    'Pará':'N',\n",
    "    'Mato Grosso':'CO',\n",
    "    'Acre': 'N',\n",
    "    'Bahia': 'NE',\n",
    "    'Minas Gerais': 'SE',\n",
    "    'Mato Grosso do Sul': 'CO',\n",
    "    'Paraná': 'S',\n",
    "    'Rondônia': 'N',\n",
    "    'Ceará': 'NE',\n",
    "    'Maranhão': 'N',\n",
    "    'Rio Grande do Sul': 'S',\n",
    "    'Paraíba': 'NE',\n",
    "    'Distrito Federal': 'CO',\n",
    "    'Alagoas': 'NE',\n",
    "    'Amapá':'N',\n",
    "    'Piauí': 'NE',\n",
    "    'Brasília': 'CO',\n",
    "    'Tocantins': 'N',\n",
    "    'Rio Grande do Norte': 'NE',\n",
    "    'Sergipe': 'NE',\n",
    "    'Minas Gerais/Goiás/Distrito Federal': 'CO',\n",
    "    'Santa Catarina-Rio Grande do Sul': 'S'\n",
    "}\n",
    "\n",
    "# criando coluna com as regiões\n",
    "teste2['regiao'] = teste2['estado_ou_provincia'].apply(lambda x: regioes[str(x)])\n",
    "\n",
    "# coluna com estado, regiao\n",
    "teste2['regiao_e_estado'] = teste2['estado_ou_provincia'] + ', ' + teste2['regiao']\n",
    "\n",
    "# ordenando por região e soma das contagens\n",
    "sorting = teste2.groupby(['regiao_e_estado', 'regiao']).sum()['counts'].reset_index(\n",
    "                                                                ).rename(columns={'counts':'soma'})\n",
    "sorting = sorting.sort_values(['regiao','soma'], ascending=False)['regiao_e_estado'].unique()"
   ]
  },
  {
   "cell_type": "code",
   "execution_count": 130,
   "metadata": {
    "ExecuteTime": {
     "end_time": "2021-01-04T19:04:43.472362Z",
     "start_time": "2021-01-04T19:04:43.466470Z"
    }
   },
   "outputs": [],
   "source": [
    "g1 = alt.Chart(teste2, title='Animais coletados por ano nos Estados Brasileiros').mark_circle(opacity=0.8).encode(\n",
    "    x= alt.X('ano_coleta', type=\"ordinal\", title='Ano de Coleta'),\n",
    "    y= alt.Y('regiao_e_estado', type=\"nominal\",title='Estado, Região',\n",
    "            sort= sorting, axis=alt.Axis(labels=True)), \n",
    "    y2 = alt.Y2('regiao', title='Região'),\n",
    "    size=alt.Size('counts', scale= alt.Scale(range=[30,1200], zero=False)), \n",
    "    order= alt.Order('counts', sort='descending'),  # smaller points in front\n",
    "    color= alt.Color('ordem', scale=alt.Scale(domain=ordens, range=cores)),\n",
    "    tooltip= alt.Tooltip(['regiao','estado_ou_provincia','ano_coleta','ordem','counts'])\n",
    ")\n",
    "\n",
    "# OBS: marca o background da região que eu quiser, mas distorce as cores\n",
    "# rule = alt.Chart(teste2[teste2['regiao'].isin(['SE','NE','CO'])], \n",
    "#                  title='Animais coletados por ano nos Estados Brasileiros').mark_rule(\n",
    "#                     opacity=0.1, size=19, color='#dedede', filled=False, fill='green').encode(\n",
    "#     y= alt.Y('regiao_e_estado', type=\"nominal\",title='Estado, Região',\n",
    "#             sort= sorting, axis=alt.Axis(labels=True))\n",
    "# )\n",
    "\n",
    "g1 = g1.configure_title(fontSize=16).configure_axis(\n",
    "    labelFontSize=12,\n",
    "    titleFontSize=12\n",
    ").configure_legend(\n",
    "    labelFontSize=12,\n",
    "    titleFontSize=12\n",
    ")\n",
    "\n",
    "# g1.save('./graphs/time-spacial/evolucao_por_estados_brasileiros.html')\n",
    "\n",
    "# g1"
   ]
  },
  {
   "cell_type": "markdown",
   "metadata": {},
   "source": [
    "<br>\n",
    "<br>\n",
    "\n",
    "<font color='red' size='5'> Separando por períodos </font>"
   ]
  },
  {
   "cell_type": "code",
   "execution_count": 131,
   "metadata": {
    "ExecuteTime": {
     "end_time": "2021-01-04T19:04:44.199022Z",
     "start_time": "2021-01-04T19:04:44.193905Z"
    }
   },
   "outputs": [],
   "source": [
    "# periodos: <1938, >=1938 e <= 1985, > 1985 \n",
    "ano_corte1 = 1938\n",
    "ano_corte2 = 1985\n",
    "\n",
    "periodo1 = teste2[teste2['ano_coleta'] < 1938].copy()\n",
    "periodo2 = teste2[(teste2['ano_coleta'] >= 1938) & (teste2['ano_coleta'] <= 1985)].copy()\n",
    "periodo3 = teste2[teste2['ano_coleta'] > 1985].copy()"
   ]
  },
  {
   "cell_type": "markdown",
   "metadata": {},
   "source": [
    "### periodo 1: até 1937"
   ]
  },
  {
   "cell_type": "code",
   "execution_count": 132,
   "metadata": {
    "ExecuteTime": {
     "end_time": "2021-01-04T19:04:45.542795Z",
     "start_time": "2021-01-04T19:04:45.532114Z"
    }
   },
   "outputs": [],
   "source": [
    "g1 = alt.Chart(periodo1, title='Animais coletados por ano nos Estados Brasileiros (até 1937)',\n",
    "              width=800, height=600).mark_circle(opacity=0.8).encode(\n",
    "    x= alt.X('ano_coleta', type=\"ordinal\", title='Ano de Coleta'),\n",
    "    y= alt.Y('regiao_e_estado', type=\"nominal\",title='Estado, Região',\n",
    "            sort= sorting, axis=alt.Axis(labels=True)), \n",
    "    y2 = alt.Y2('regiao', title='Região'),\n",
    "    size=alt.Size('counts', scale= alt.Scale(range=[30,1200], zero=False)), \n",
    "    order= alt.Order('counts', sort='descending'),  # smaller points in front\n",
    "    color= alt.Color('ordem', scale=alt.Scale(domain=ordens, range=cores)),\n",
    "    tooltip= alt.Tooltip(['regiao','estado_ou_provincia','ano_coleta','ordem','counts'])\n",
    ")\n",
    "\n",
    "g1 = g1.configure_title(fontSize=16).configure_axis(\n",
    "    labelFontSize=12,\n",
    "    titleFontSize=12\n",
    ").configure_legend(\n",
    "    labelFontSize=12,\n",
    "    titleFontSize=12\n",
    ")\n",
    "\n",
    "# g1.save('./graphs/time-spacial/evolucao_por_estados_brasileiros-ate1937.html')\n",
    "\n",
    "# g1"
   ]
  },
  {
   "cell_type": "markdown",
   "metadata": {},
   "source": [
    "### periodo 2: de 1938 a 1985"
   ]
  },
  {
   "cell_type": "code",
   "execution_count": 133,
   "metadata": {
    "ExecuteTime": {
     "end_time": "2021-01-04T19:04:46.385446Z",
     "start_time": "2021-01-04T19:04:46.379301Z"
    }
   },
   "outputs": [],
   "source": [
    "g1 = alt.Chart(periodo2, title='Animais coletados por ano nos Estados Brasileiros (de 1938 a 1985)',\n",
    "              width=800, height=600).mark_circle(opacity=0.8).encode(\n",
    "    x= alt.X('ano_coleta', type=\"ordinal\", title='Ano de Coleta'),\n",
    "    y= alt.Y('regiao_e_estado', type=\"nominal\",title='Estado, Região',\n",
    "            sort= sorting, axis=alt.Axis(labels=True)), \n",
    "    y2 = alt.Y2('regiao', title='Região'),\n",
    "    size=alt.Size('counts', scale= alt.Scale(range=[30,1200], zero=False)), \n",
    "    order= alt.Order('counts', sort='descending'),  # smaller points in front\n",
    "    color= alt.Color('ordem', scale=alt.Scale(domain=ordens, range=cores)),\n",
    "    tooltip= alt.Tooltip(['regiao','estado_ou_provincia','ano_coleta','ordem','counts'])\n",
    ")\n",
    "\n",
    "g1 = g1.configure_title(fontSize=16).configure_axis(\n",
    "    labelFontSize=12,\n",
    "    titleFontSize=12\n",
    ").configure_legend(\n",
    "    labelFontSize=12,\n",
    "    titleFontSize=12\n",
    ")\n",
    "\n",
    "# g1.save('./graphs/time-spacial/evolucao_por_estados_brasileiros-de1938a1985.html')\n",
    "\n",
    "# g1"
   ]
  },
  {
   "cell_type": "markdown",
   "metadata": {},
   "source": [
    "### periodo 3: após 1985"
   ]
  },
  {
   "cell_type": "code",
   "execution_count": 134,
   "metadata": {
    "ExecuteTime": {
     "end_time": "2021-01-04T19:04:47.361921Z",
     "start_time": "2021-01-04T19:04:47.356287Z"
    }
   },
   "outputs": [],
   "source": [
    "g1 = alt.Chart(periodo3, title='Animais coletados por ano nos Estados Brasileiros (após 1985)',\n",
    "              width=800, height=600).mark_circle(opacity=0.8).encode(\n",
    "    x= alt.X('ano_coleta', type=\"ordinal\", title='Ano de Coleta'),\n",
    "    y= alt.Y('regiao_e_estado', type=\"nominal\",title='Estado, Região',\n",
    "            sort= sorting, axis=alt.Axis(labels=True)), \n",
    "    y2 = alt.Y2('regiao', title='Região'),\n",
    "    size=alt.Size('counts', scale= alt.Scale(range=[30,1200], zero=False)), \n",
    "    order= alt.Order('counts', sort='descending'),  # smaller points in front\n",
    "    color= alt.Color('ordem', scale=alt.Scale(domain=ordens, range=cores)),\n",
    "    tooltip= alt.Tooltip(['regiao','estado_ou_provincia','ano_coleta','ordem','counts'])\n",
    ")\n",
    "\n",
    "g1 = g1.configure_title(fontSize=16).configure_axis(\n",
    "    labelFontSize=12,\n",
    "    titleFontSize=12\n",
    ").configure_legend(\n",
    "    labelFontSize=12,\n",
    "    titleFontSize=12\n",
    ")\n",
    "\n",
    "# g1.save('./graphs/time-spacial/evolucao_por_estados_brasileiros-apos1985.html')\n",
    "\n",
    "# g1"
   ]
  },
  {
   "cell_type": "markdown",
   "metadata": {},
   "source": [
    "<br>\n",
    "\n",
    "#### Cumulative count:"
   ]
  },
  {
   "cell_type": "code",
   "execution_count": 135,
   "metadata": {
    "ExecuteTime": {
     "end_time": "2021-01-04T19:04:59.092949Z",
     "start_time": "2021-01-04T19:04:59.084913Z"
    }
   },
   "outputs": [],
   "source": [
    "# agrupando por Ano e Continente\n",
    "# OBS: variável teste2 já tem as informações que precisamos (vide a criação do gráfico anterior)\n",
    "teste = teste2.groupby(['ano_coleta','regiao_e_estado']).count()['ordem'].reset_index().rename(columns={\n",
    "    'ordem':'counts'\n",
    "})\n",
    "\n",
    "teste = teste.sort_values(['regiao_e_estado', 'ano_coleta'])"
   ]
  },
  {
   "cell_type": "code",
   "execution_count": 136,
   "metadata": {
    "ExecuteTime": {
     "end_time": "2021-01-04T19:05:02.274490Z",
     "start_time": "2021-01-04T19:05:02.254788Z"
    }
   },
   "outputs": [],
   "source": [
    "cumSum = []\n",
    "for reg_est in teste['regiao_e_estado'].unique():\n",
    "    cumSum.extend(list(teste[teste['regiao_e_estado'] == reg_est]['counts'].cumsum()))\n",
    "    \n",
    "teste['cumulative_sum'] = cumSum"
   ]
  },
  {
   "cell_type": "code",
   "execution_count": 140,
   "metadata": {
    "ExecuteTime": {
     "end_time": "2021-01-04T19:06:25.713293Z",
     "start_time": "2021-01-04T19:06:25.693719Z"
    }
   },
   "outputs": [],
   "source": [
    "teste['estado'] = teste['regiao_e_estado'].apply(lambda x:x.split(',')[0])\n",
    "teste['regiao'] = teste['regiao_e_estado'].apply(lambda x:x.split(',')[1])"
   ]
  },
  {
   "cell_type": "code",
   "execution_count": 145,
   "metadata": {
    "ExecuteTime": {
     "end_time": "2021-01-04T19:09:50.164096Z",
     "start_time": "2021-01-04T19:09:50.092663Z"
    }
   },
   "outputs": [
    {
     "data": {
      "text/html": [
       "\n",
       "<div id=\"altair-viz-8b3b2f54d11c40a6a3e993cc158ec8fb\"></div>\n",
       "<script type=\"text/javascript\">\n",
       "  (function(spec, embedOpt){\n",
       "    let outputDiv = document.currentScript.previousElementSibling;\n",
       "    if (outputDiv.id !== \"altair-viz-8b3b2f54d11c40a6a3e993cc158ec8fb\") {\n",
       "      outputDiv = document.getElementById(\"altair-viz-8b3b2f54d11c40a6a3e993cc158ec8fb\");\n",
       "    }\n",
       "    const paths = {\n",
       "      \"vega\": \"https://cdn.jsdelivr.net/npm//vega@5?noext\",\n",
       "      \"vega-lib\": \"https://cdn.jsdelivr.net/npm//vega-lib?noext\",\n",
       "      \"vega-lite\": \"https://cdn.jsdelivr.net/npm//vega-lite@4.8.1?noext\",\n",
       "      \"vega-embed\": \"https://cdn.jsdelivr.net/npm//vega-embed@6?noext\",\n",
       "    };\n",
       "\n",
       "    function loadScript(lib) {\n",
       "      return new Promise(function(resolve, reject) {\n",
       "        var s = document.createElement('script');\n",
       "        s.src = paths[lib];\n",
       "        s.async = true;\n",
       "        s.onload = () => resolve(paths[lib]);\n",
       "        s.onerror = () => reject(`Error loading script: ${paths[lib]}`);\n",
       "        document.getElementsByTagName(\"head\")[0].appendChild(s);\n",
       "      });\n",
       "    }\n",
       "\n",
       "    function showError(err) {\n",
       "      outputDiv.innerHTML = `<div class=\"error\" style=\"color:red;\">${err}</div>`;\n",
       "      throw err;\n",
       "    }\n",
       "\n",
       "    function displayChart(vegaEmbed) {\n",
       "      vegaEmbed(outputDiv, spec, embedOpt)\n",
       "        .catch(err => showError(`Javascript Error: ${err.message}<br>This usually means there's a typo in your chart specification. See the javascript console for the full traceback.`));\n",
       "    }\n",
       "\n",
       "    if(typeof define === \"function\" && define.amd) {\n",
       "      requirejs.config({paths});\n",
       "      require([\"vega-embed\"], displayChart, err => showError(`Error loading script: ${err.message}`));\n",
       "    } else if (typeof vegaEmbed === \"function\") {\n",
       "      displayChart(vegaEmbed);\n",
       "    } else {\n",
       "      loadScript(\"vega\")\n",
       "        .then(() => loadScript(\"vega-lite\"))\n",
       "        .then(() => loadScript(\"vega-embed\"))\n",
       "        .catch(showError)\n",
       "        .then(() => displayChart(vegaEmbed));\n",
       "    }\n",
       "  })({\"config\": {\"view\": {\"continuousWidth\": 400, \"continuousHeight\": 300}, \"axis\": {\"labelFontSize\": 12, \"titleFontSize\": 12}, \"legend\": {\"labelFontSize\": 12, \"titleFontSize\": 12}, \"title\": {\"fontSize\": 16}}, \"data\": {\"name\": \"data-e49b5e2f579ce44c32534e715c726b74\"}, \"mark\": {\"type\": \"line\", \"point\": true}, \"encoding\": {\"color\": {\"type\": \"nominal\", \"field\": \"estado\", \"legend\": {\"columns\": 2, \"symbolLimit\": 42}, \"scale\": {\"domain\": [\"Rio de Janeiro\", \"S\\u00e3o Paulo\", \"Esp\\u00edrito Santo\", \"Minas Gerais\", \"Pernambuco\", \"Bahia\", \"Cear\\u00e1\", \"Para\\u00edba\", \"Alagoas\", \"Piau\\u00ed\", \"Rio Grande do Norte\", \"Sergipe\", \"Paran\\u00e1\", \"Santa Catarina\", \"Rio Grande do Sul\", \"Santa Catarina-Rio Grande do Sul\", \"Amazonas\", \"Roraima\", \"Par\\u00e1\", \"Acre\", \"Rond\\u00f4nia\", \"Maranh\\u00e3o\", \"Amap\\u00e1\", \"Tocantins\", \"Goi\\u00e1s\", \"Mato Grosso\", \"Mato Grosso do Sul\", \"Distrito Federal\", \"Bras\\u00edlia\", \"Minas Gerais/Goi\\u00e1s/Distrito Federal\"], \"range\": [\"#8d594b\", \"#ab7364\", \"#cb968e\", \"#eababc\", \"#b83b2f\", \"#cc4c3e\", \"#df5d4b\", \"#f36e5a\", \"#ff7f68\", \"#ff917a\", \"#ffa389\", \"#ffb499\", \"#0084b5\", \"#00a2cc\", \"#00c2e0\", \"#3be5f4\", \"#2a6866\", \"#337570\", \"#3d827d\", \"#4c908a\", \"#63a098\", \"#7db2a6\", \"#97c2b3\", \"#afd2c1\", \"#7b8d9f\", \"#869bad\", \"#94aabb\", \"#a8bac9\", \"#c1ccd7\", \"#d8dee3\"]}, \"title\": \"Estado\"}, \"tooltip\": [{\"type\": \"nominal\", \"field\": \"regiao_e_estado\"}, {\"type\": \"quantitative\", \"field\": \"ano_coleta\"}, {\"type\": \"quantitative\", \"field\": \"counts\"}, {\"type\": \"quantitative\", \"field\": \"cumulative_sum\"}], \"x\": {\"type\": \"ordinal\", \"field\": \"ano_coleta\", \"title\": \"Ano de Coleta\"}, \"y\": {\"type\": \"quantitative\", \"field\": \"cumulative_sum\", \"sort\": {\"field\": \"counts\", \"op\": \"count\", \"order\": \"descending\"}, \"title\": \"\"}}, \"title\": \"Evolu\\u00e7\\u00e3o temporal da cole\\u00e7\\u00e3o por Estado\", \"width\": 600, \"$schema\": \"https://vega.github.io/schema/vega-lite/v4.8.1.json\", \"datasets\": {\"data-e49b5e2f579ce44c32534e715c726b74\": [{\"ano_coleta\": 1940.0, \"regiao_e_estado\": \"Acre, N\", \"counts\": 1, \"cumulative_sum\": 1, \"estado\": \"Acre\", \"regiao\": \" N\"}, {\"ano_coleta\": 1948.0, \"regiao_e_estado\": \"Acre, N\", \"counts\": 1, \"cumulative_sum\": 2, \"estado\": \"Acre\", \"regiao\": \" N\"}, {\"ano_coleta\": 1959.0, \"regiao_e_estado\": \"Acre, N\", \"counts\": 1, \"cumulative_sum\": 3, \"estado\": \"Acre\", \"regiao\": \" N\"}, {\"ano_coleta\": 1987.0, \"regiao_e_estado\": \"Acre, N\", \"counts\": 1, \"cumulative_sum\": 4, \"estado\": \"Acre\", \"regiao\": \" N\"}, {\"ano_coleta\": 2015.0, \"regiao_e_estado\": \"Acre, N\", \"counts\": 2, \"cumulative_sum\": 6, \"estado\": \"Acre\", \"regiao\": \" N\"}, {\"ano_coleta\": 2016.0, \"regiao_e_estado\": \"Acre, N\", \"counts\": 1, \"cumulative_sum\": 7, \"estado\": \"Acre\", \"regiao\": \" N\"}, {\"ano_coleta\": 1958.0, \"regiao_e_estado\": \"Alagoas, NE\", \"counts\": 1, \"cumulative_sum\": 1, \"estado\": \"Alagoas\", \"regiao\": \" NE\"}, {\"ano_coleta\": 1984.0, \"regiao_e_estado\": \"Alagoas, NE\", \"counts\": 1, \"cumulative_sum\": 2, \"estado\": \"Alagoas\", \"regiao\": \" NE\"}, {\"ano_coleta\": 1985.0, \"regiao_e_estado\": \"Alagoas, NE\", \"counts\": 1, \"cumulative_sum\": 3, \"estado\": \"Alagoas\", \"regiao\": \" NE\"}, {\"ano_coleta\": 1986.0, \"regiao_e_estado\": \"Alagoas, NE\", \"counts\": 3, \"cumulative_sum\": 6, \"estado\": \"Alagoas\", \"regiao\": \" NE\"}, {\"ano_coleta\": 1987.0, \"regiao_e_estado\": \"Alagoas, NE\", \"counts\": 1, \"cumulative_sum\": 7, \"estado\": \"Alagoas\", \"regiao\": \" NE\"}, {\"ano_coleta\": 1988.0, \"regiao_e_estado\": \"Alagoas, NE\", \"counts\": 2, \"cumulative_sum\": 9, \"estado\": \"Alagoas\", \"regiao\": \" NE\"}, {\"ano_coleta\": 1989.0, \"regiao_e_estado\": \"Alagoas, NE\", \"counts\": 1, \"cumulative_sum\": 10, \"estado\": \"Alagoas\", \"regiao\": \" NE\"}, {\"ano_coleta\": 1990.0, \"regiao_e_estado\": \"Alagoas, NE\", \"counts\": 1, \"cumulative_sum\": 11, \"estado\": \"Alagoas\", \"regiao\": \" NE\"}, {\"ano_coleta\": 1991.0, \"regiao_e_estado\": \"Alagoas, NE\", \"counts\": 1, \"cumulative_sum\": 12, \"estado\": \"Alagoas\", \"regiao\": \" NE\"}, {\"ano_coleta\": 1993.0, \"regiao_e_estado\": \"Alagoas, NE\", \"counts\": 1, \"cumulative_sum\": 13, \"estado\": \"Alagoas\", \"regiao\": \" NE\"}, {\"ano_coleta\": 1994.0, \"regiao_e_estado\": \"Alagoas, NE\", \"counts\": 1, \"cumulative_sum\": 14, \"estado\": \"Alagoas\", \"regiao\": \" NE\"}, {\"ano_coleta\": 1995.0, \"regiao_e_estado\": \"Alagoas, NE\", \"counts\": 1, \"cumulative_sum\": 15, \"estado\": \"Alagoas\", \"regiao\": \" NE\"}, {\"ano_coleta\": 1996.0, \"regiao_e_estado\": \"Alagoas, NE\", \"counts\": 1, \"cumulative_sum\": 16, \"estado\": \"Alagoas\", \"regiao\": \" NE\"}, {\"ano_coleta\": 1997.0, \"regiao_e_estado\": \"Alagoas, NE\", \"counts\": 1, \"cumulative_sum\": 17, \"estado\": \"Alagoas\", \"regiao\": \" NE\"}, {\"ano_coleta\": 2001.0, \"regiao_e_estado\": \"Alagoas, NE\", \"counts\": 1, \"cumulative_sum\": 18, \"estado\": \"Alagoas\", \"regiao\": \" NE\"}, {\"ano_coleta\": 2002.0, \"regiao_e_estado\": \"Alagoas, NE\", \"counts\": 1, \"cumulative_sum\": 19, \"estado\": \"Alagoas\", \"regiao\": \" NE\"}, {\"ano_coleta\": 2003.0, \"regiao_e_estado\": \"Alagoas, NE\", \"counts\": 1, \"cumulative_sum\": 20, \"estado\": \"Alagoas\", \"regiao\": \" NE\"}, {\"ano_coleta\": 2004.0, \"regiao_e_estado\": \"Alagoas, NE\", \"counts\": 1, \"cumulative_sum\": 21, \"estado\": \"Alagoas\", \"regiao\": \" NE\"}, {\"ano_coleta\": 2006.0, \"regiao_e_estado\": \"Alagoas, NE\", \"counts\": 1, \"cumulative_sum\": 22, \"estado\": \"Alagoas\", \"regiao\": \" NE\"}, {\"ano_coleta\": 2008.0, \"regiao_e_estado\": \"Alagoas, NE\", \"counts\": 1, \"cumulative_sum\": 23, \"estado\": \"Alagoas\", \"regiao\": \" NE\"}, {\"ano_coleta\": 2009.0, \"regiao_e_estado\": \"Alagoas, NE\", \"counts\": 1, \"cumulative_sum\": 24, \"estado\": \"Alagoas\", \"regiao\": \" NE\"}, {\"ano_coleta\": 1963.0, \"regiao_e_estado\": \"Amap\\u00e1, N\", \"counts\": 1, \"cumulative_sum\": 1, \"estado\": \"Amap\\u00e1\", \"regiao\": \" N\"}, {\"ano_coleta\": 1964.0, \"regiao_e_estado\": \"Amap\\u00e1, N\", \"counts\": 1, \"cumulative_sum\": 2, \"estado\": \"Amap\\u00e1\", \"regiao\": \" N\"}, {\"ano_coleta\": 1981.0, \"regiao_e_estado\": \"Amap\\u00e1, N\", \"counts\": 1, \"cumulative_sum\": 3, \"estado\": \"Amap\\u00e1\", \"regiao\": \" N\"}, {\"ano_coleta\": 1986.0, \"regiao_e_estado\": \"Amap\\u00e1, N\", \"counts\": 1, \"cumulative_sum\": 4, \"estado\": \"Amap\\u00e1\", \"regiao\": \" N\"}, {\"ano_coleta\": 1995.0, \"regiao_e_estado\": \"Amap\\u00e1, N\", \"counts\": 1, \"cumulative_sum\": 5, \"estado\": \"Amap\\u00e1\", \"regiao\": \" N\"}, {\"ano_coleta\": 1996.0, \"regiao_e_estado\": \"Amap\\u00e1, N\", \"counts\": 1, \"cumulative_sum\": 6, \"estado\": \"Amap\\u00e1\", \"regiao\": \" N\"}, {\"ano_coleta\": 1997.0, \"regiao_e_estado\": \"Amap\\u00e1, N\", \"counts\": 1, \"cumulative_sum\": 7, \"estado\": \"Amap\\u00e1\", \"regiao\": \" N\"}, {\"ano_coleta\": 2004.0, \"regiao_e_estado\": \"Amap\\u00e1, N\", \"counts\": 1, \"cumulative_sum\": 8, \"estado\": \"Amap\\u00e1\", \"regiao\": \" N\"}, {\"ano_coleta\": 1924.0, \"regiao_e_estado\": \"Amazonas, N\", \"counts\": 1, \"cumulative_sum\": 1, \"estado\": \"Amazonas\", \"regiao\": \" N\"}, {\"ano_coleta\": 1933.0, \"regiao_e_estado\": \"Amazonas, N\", \"counts\": 1, \"cumulative_sum\": 2, \"estado\": \"Amazonas\", \"regiao\": \" N\"}, {\"ano_coleta\": 1941.0, \"regiao_e_estado\": \"Amazonas, N\", \"counts\": 1, \"cumulative_sum\": 3, \"estado\": \"Amazonas\", \"regiao\": \" N\"}, {\"ano_coleta\": 1942.0, \"regiao_e_estado\": \"Amazonas, N\", \"counts\": 2, \"cumulative_sum\": 5, \"estado\": \"Amazonas\", \"regiao\": \" N\"}, {\"ano_coleta\": 1943.0, \"regiao_e_estado\": \"Amazonas, N\", \"counts\": 1, \"cumulative_sum\": 6, \"estado\": \"Amazonas\", \"regiao\": \" N\"}, {\"ano_coleta\": 1945.0, \"regiao_e_estado\": \"Amazonas, N\", \"counts\": 1, \"cumulative_sum\": 7, \"estado\": \"Amazonas\", \"regiao\": \" N\"}, {\"ano_coleta\": 1947.0, \"regiao_e_estado\": \"Amazonas, N\", \"counts\": 1, \"cumulative_sum\": 8, \"estado\": \"Amazonas\", \"regiao\": \" N\"}, {\"ano_coleta\": 1949.0, \"regiao_e_estado\": \"Amazonas, N\", \"counts\": 1, \"cumulative_sum\": 9, \"estado\": \"Amazonas\", \"regiao\": \" N\"}, {\"ano_coleta\": 1950.0, \"regiao_e_estado\": \"Amazonas, N\", \"counts\": 1, \"cumulative_sum\": 10, \"estado\": \"Amazonas\", \"regiao\": \" N\"}, {\"ano_coleta\": 1952.0, \"regiao_e_estado\": \"Amazonas, N\", \"counts\": 1, \"cumulative_sum\": 11, \"estado\": \"Amazonas\", \"regiao\": \" N\"}, {\"ano_coleta\": 1954.0, \"regiao_e_estado\": \"Amazonas, N\", \"counts\": 2, \"cumulative_sum\": 13, \"estado\": \"Amazonas\", \"regiao\": \" N\"}, {\"ano_coleta\": 1955.0, \"regiao_e_estado\": \"Amazonas, N\", \"counts\": 1, \"cumulative_sum\": 14, \"estado\": \"Amazonas\", \"regiao\": \" N\"}, {\"ano_coleta\": 1956.0, \"regiao_e_estado\": \"Amazonas, N\", \"counts\": 1, \"cumulative_sum\": 15, \"estado\": \"Amazonas\", \"regiao\": \" N\"}, {\"ano_coleta\": 1963.0, \"regiao_e_estado\": \"Amazonas, N\", \"counts\": 1, \"cumulative_sum\": 16, \"estado\": \"Amazonas\", \"regiao\": \" N\"}, {\"ano_coleta\": 1965.0, \"regiao_e_estado\": \"Amazonas, N\", \"counts\": 1, \"cumulative_sum\": 17, \"estado\": \"Amazonas\", \"regiao\": \" N\"}, {\"ano_coleta\": 1972.0, \"regiao_e_estado\": \"Amazonas, N\", \"counts\": 1, \"cumulative_sum\": 18, \"estado\": \"Amazonas\", \"regiao\": \" N\"}, {\"ano_coleta\": 1974.0, \"regiao_e_estado\": \"Amazonas, N\", \"counts\": 2, \"cumulative_sum\": 20, \"estado\": \"Amazonas\", \"regiao\": \" N\"}, {\"ano_coleta\": 1975.0, \"regiao_e_estado\": \"Amazonas, N\", \"counts\": 1, \"cumulative_sum\": 21, \"estado\": \"Amazonas\", \"regiao\": \" N\"}, {\"ano_coleta\": 1976.0, \"regiao_e_estado\": \"Amazonas, N\", \"counts\": 1, \"cumulative_sum\": 22, \"estado\": \"Amazonas\", \"regiao\": \" N\"}, {\"ano_coleta\": 1977.0, \"regiao_e_estado\": \"Amazonas, N\", \"counts\": 1, \"cumulative_sum\": 23, \"estado\": \"Amazonas\", \"regiao\": \" N\"}, {\"ano_coleta\": 1979.0, \"regiao_e_estado\": \"Amazonas, N\", \"counts\": 3, \"cumulative_sum\": 26, \"estado\": \"Amazonas\", \"regiao\": \" N\"}, {\"ano_coleta\": 1982.0, \"regiao_e_estado\": \"Amazonas, N\", \"counts\": 1, \"cumulative_sum\": 27, \"estado\": \"Amazonas\", \"regiao\": \" N\"}, {\"ano_coleta\": 1983.0, \"regiao_e_estado\": \"Amazonas, N\", \"counts\": 1, \"cumulative_sum\": 28, \"estado\": \"Amazonas\", \"regiao\": \" N\"}, {\"ano_coleta\": 1984.0, \"regiao_e_estado\": \"Amazonas, N\", \"counts\": 1, \"cumulative_sum\": 29, \"estado\": \"Amazonas\", \"regiao\": \" N\"}, {\"ano_coleta\": 1985.0, \"regiao_e_estado\": \"Amazonas, N\", \"counts\": 2, \"cumulative_sum\": 31, \"estado\": \"Amazonas\", \"regiao\": \" N\"}, {\"ano_coleta\": 1986.0, \"regiao_e_estado\": \"Amazonas, N\", \"counts\": 1, \"cumulative_sum\": 32, \"estado\": \"Amazonas\", \"regiao\": \" N\"}, {\"ano_coleta\": 1987.0, \"regiao_e_estado\": \"Amazonas, N\", \"counts\": 2, \"cumulative_sum\": 34, \"estado\": \"Amazonas\", \"regiao\": \" N\"}, {\"ano_coleta\": 1988.0, \"regiao_e_estado\": \"Amazonas, N\", \"counts\": 2, \"cumulative_sum\": 36, \"estado\": \"Amazonas\", \"regiao\": \" N\"}, {\"ano_coleta\": 1990.0, \"regiao_e_estado\": \"Amazonas, N\", \"counts\": 1, \"cumulative_sum\": 37, \"estado\": \"Amazonas\", \"regiao\": \" N\"}, {\"ano_coleta\": 1994.0, \"regiao_e_estado\": \"Amazonas, N\", \"counts\": 1, \"cumulative_sum\": 38, \"estado\": \"Amazonas\", \"regiao\": \" N\"}, {\"ano_coleta\": 1995.0, \"regiao_e_estado\": \"Amazonas, N\", \"counts\": 1, \"cumulative_sum\": 39, \"estado\": \"Amazonas\", \"regiao\": \" N\"}, {\"ano_coleta\": 1998.0, \"regiao_e_estado\": \"Amazonas, N\", \"counts\": 1, \"cumulative_sum\": 40, \"estado\": \"Amazonas\", \"regiao\": \" N\"}, {\"ano_coleta\": 2001.0, \"regiao_e_estado\": \"Amazonas, N\", \"counts\": 2, \"cumulative_sum\": 42, \"estado\": \"Amazonas\", \"regiao\": \" N\"}, {\"ano_coleta\": 2003.0, \"regiao_e_estado\": \"Amazonas, N\", \"counts\": 1, \"cumulative_sum\": 43, \"estado\": \"Amazonas\", \"regiao\": \" N\"}, {\"ano_coleta\": 2004.0, \"regiao_e_estado\": \"Amazonas, N\", \"counts\": 1, \"cumulative_sum\": 44, \"estado\": \"Amazonas\", \"regiao\": \" N\"}, {\"ano_coleta\": 2005.0, \"regiao_e_estado\": \"Amazonas, N\", \"counts\": 1, \"cumulative_sum\": 45, \"estado\": \"Amazonas\", \"regiao\": \" N\"}, {\"ano_coleta\": 2006.0, \"regiao_e_estado\": \"Amazonas, N\", \"counts\": 1, \"cumulative_sum\": 46, \"estado\": \"Amazonas\", \"regiao\": \" N\"}, {\"ano_coleta\": 2008.0, \"regiao_e_estado\": \"Amazonas, N\", \"counts\": 1, \"cumulative_sum\": 47, \"estado\": \"Amazonas\", \"regiao\": \" N\"}, {\"ano_coleta\": 2009.0, \"regiao_e_estado\": \"Amazonas, N\", \"counts\": 2, \"cumulative_sum\": 49, \"estado\": \"Amazonas\", \"regiao\": \" N\"}, {\"ano_coleta\": 2011.0, \"regiao_e_estado\": \"Amazonas, N\", \"counts\": 1, \"cumulative_sum\": 50, \"estado\": \"Amazonas\", \"regiao\": \" N\"}, {\"ano_coleta\": 2015.0, \"regiao_e_estado\": \"Amazonas, N\", \"counts\": 1, \"cumulative_sum\": 51, \"estado\": \"Amazonas\", \"regiao\": \" N\"}, {\"ano_coleta\": 2016.0, \"regiao_e_estado\": \"Amazonas, N\", \"counts\": 1, \"cumulative_sum\": 52, \"estado\": \"Amazonas\", \"regiao\": \" N\"}, {\"ano_coleta\": 1941.0, \"regiao_e_estado\": \"Bahia, NE\", \"counts\": 1, \"cumulative_sum\": 1, \"estado\": \"Bahia\", \"regiao\": \" NE\"}, {\"ano_coleta\": 1942.0, \"regiao_e_estado\": \"Bahia, NE\", \"counts\": 1, \"cumulative_sum\": 2, \"estado\": \"Bahia\", \"regiao\": \" NE\"}, {\"ano_coleta\": 1944.0, \"regiao_e_estado\": \"Bahia, NE\", \"counts\": 1, \"cumulative_sum\": 3, \"estado\": \"Bahia\", \"regiao\": \" NE\"}, {\"ano_coleta\": 1945.0, \"regiao_e_estado\": \"Bahia, NE\", \"counts\": 1, \"cumulative_sum\": 4, \"estado\": \"Bahia\", \"regiao\": \" NE\"}, {\"ano_coleta\": 1949.0, \"regiao_e_estado\": \"Bahia, NE\", \"counts\": 1, \"cumulative_sum\": 5, \"estado\": \"Bahia\", \"regiao\": \" NE\"}, {\"ano_coleta\": 1951.0, \"regiao_e_estado\": \"Bahia, NE\", \"counts\": 1, \"cumulative_sum\": 6, \"estado\": \"Bahia\", \"regiao\": \" NE\"}, {\"ano_coleta\": 1955.0, \"regiao_e_estado\": \"Bahia, NE\", \"counts\": 1, \"cumulative_sum\": 7, \"estado\": \"Bahia\", \"regiao\": \" NE\"}, {\"ano_coleta\": 1959.0, \"regiao_e_estado\": \"Bahia, NE\", \"counts\": 1, \"cumulative_sum\": 8, \"estado\": \"Bahia\", \"regiao\": \" NE\"}, {\"ano_coleta\": 1964.0, \"regiao_e_estado\": \"Bahia, NE\", \"counts\": 1, \"cumulative_sum\": 9, \"estado\": \"Bahia\", \"regiao\": \" NE\"}, {\"ano_coleta\": 1969.0, \"regiao_e_estado\": \"Bahia, NE\", \"counts\": 1, \"cumulative_sum\": 10, \"estado\": \"Bahia\", \"regiao\": \" NE\"}, {\"ano_coleta\": 1970.0, \"regiao_e_estado\": \"Bahia, NE\", \"counts\": 1, \"cumulative_sum\": 11, \"estado\": \"Bahia\", \"regiao\": \" NE\"}, {\"ano_coleta\": 1971.0, \"regiao_e_estado\": \"Bahia, NE\", \"counts\": 1, \"cumulative_sum\": 12, \"estado\": \"Bahia\", \"regiao\": \" NE\"}, {\"ano_coleta\": 1974.0, \"regiao_e_estado\": \"Bahia, NE\", \"counts\": 1, \"cumulative_sum\": 13, \"estado\": \"Bahia\", \"regiao\": \" NE\"}, {\"ano_coleta\": 1975.0, \"regiao_e_estado\": \"Bahia, NE\", \"counts\": 1, \"cumulative_sum\": 14, \"estado\": \"Bahia\", \"regiao\": \" NE\"}, {\"ano_coleta\": 1977.0, \"regiao_e_estado\": \"Bahia, NE\", \"counts\": 1, \"cumulative_sum\": 15, \"estado\": \"Bahia\", \"regiao\": \" NE\"}, {\"ano_coleta\": 1979.0, \"regiao_e_estado\": \"Bahia, NE\", \"counts\": 1, \"cumulative_sum\": 16, \"estado\": \"Bahia\", \"regiao\": \" NE\"}, {\"ano_coleta\": 1980.0, \"regiao_e_estado\": \"Bahia, NE\", \"counts\": 1, \"cumulative_sum\": 17, \"estado\": \"Bahia\", \"regiao\": \" NE\"}, {\"ano_coleta\": 1982.0, \"regiao_e_estado\": \"Bahia, NE\", \"counts\": 1, \"cumulative_sum\": 18, \"estado\": \"Bahia\", \"regiao\": \" NE\"}, {\"ano_coleta\": 1983.0, \"regiao_e_estado\": \"Bahia, NE\", \"counts\": 1, \"cumulative_sum\": 19, \"estado\": \"Bahia\", \"regiao\": \" NE\"}, {\"ano_coleta\": 1985.0, \"regiao_e_estado\": \"Bahia, NE\", \"counts\": 2, \"cumulative_sum\": 21, \"estado\": \"Bahia\", \"regiao\": \" NE\"}, {\"ano_coleta\": 1986.0, \"regiao_e_estado\": \"Bahia, NE\", \"counts\": 1, \"cumulative_sum\": 22, \"estado\": \"Bahia\", \"regiao\": \" NE\"}, {\"ano_coleta\": 1987.0, \"regiao_e_estado\": \"Bahia, NE\", \"counts\": 2, \"cumulative_sum\": 24, \"estado\": \"Bahia\", \"regiao\": \" NE\"}, {\"ano_coleta\": 1988.0, \"regiao_e_estado\": \"Bahia, NE\", \"counts\": 1, \"cumulative_sum\": 25, \"estado\": \"Bahia\", \"regiao\": \" NE\"}, {\"ano_coleta\": 1989.0, \"regiao_e_estado\": \"Bahia, NE\", \"counts\": 1, \"cumulative_sum\": 26, \"estado\": \"Bahia\", \"regiao\": \" NE\"}, {\"ano_coleta\": 1990.0, \"regiao_e_estado\": \"Bahia, NE\", \"counts\": 1, \"cumulative_sum\": 27, \"estado\": \"Bahia\", \"regiao\": \" NE\"}, {\"ano_coleta\": 1991.0, \"regiao_e_estado\": \"Bahia, NE\", \"counts\": 1, \"cumulative_sum\": 28, \"estado\": \"Bahia\", \"regiao\": \" NE\"}, {\"ano_coleta\": 1993.0, \"regiao_e_estado\": \"Bahia, NE\", \"counts\": 1, \"cumulative_sum\": 29, \"estado\": \"Bahia\", \"regiao\": \" NE\"}, {\"ano_coleta\": 1994.0, \"regiao_e_estado\": \"Bahia, NE\", \"counts\": 1, \"cumulative_sum\": 30, \"estado\": \"Bahia\", \"regiao\": \" NE\"}, {\"ano_coleta\": 1995.0, \"regiao_e_estado\": \"Bahia, NE\", \"counts\": 1, \"cumulative_sum\": 31, \"estado\": \"Bahia\", \"regiao\": \" NE\"}, {\"ano_coleta\": 1996.0, \"regiao_e_estado\": \"Bahia, NE\", \"counts\": 1, \"cumulative_sum\": 32, \"estado\": \"Bahia\", \"regiao\": \" NE\"}, {\"ano_coleta\": 1997.0, \"regiao_e_estado\": \"Bahia, NE\", \"counts\": 1, \"cumulative_sum\": 33, \"estado\": \"Bahia\", \"regiao\": \" NE\"}, {\"ano_coleta\": 1998.0, \"regiao_e_estado\": \"Bahia, NE\", \"counts\": 1, \"cumulative_sum\": 34, \"estado\": \"Bahia\", \"regiao\": \" NE\"}, {\"ano_coleta\": 1999.0, \"regiao_e_estado\": \"Bahia, NE\", \"counts\": 1, \"cumulative_sum\": 35, \"estado\": \"Bahia\", \"regiao\": \" NE\"}, {\"ano_coleta\": 2000.0, \"regiao_e_estado\": \"Bahia, NE\", \"counts\": 2, \"cumulative_sum\": 37, \"estado\": \"Bahia\", \"regiao\": \" NE\"}, {\"ano_coleta\": 2001.0, \"regiao_e_estado\": \"Bahia, NE\", \"counts\": 1, \"cumulative_sum\": 38, \"estado\": \"Bahia\", \"regiao\": \" NE\"}, {\"ano_coleta\": 2002.0, \"regiao_e_estado\": \"Bahia, NE\", \"counts\": 1, \"cumulative_sum\": 39, \"estado\": \"Bahia\", \"regiao\": \" NE\"}, {\"ano_coleta\": 2003.0, \"regiao_e_estado\": \"Bahia, NE\", \"counts\": 1, \"cumulative_sum\": 40, \"estado\": \"Bahia\", \"regiao\": \" NE\"}, {\"ano_coleta\": 2004.0, \"regiao_e_estado\": \"Bahia, NE\", \"counts\": 1, \"cumulative_sum\": 41, \"estado\": \"Bahia\", \"regiao\": \" NE\"}, {\"ano_coleta\": 2005.0, \"regiao_e_estado\": \"Bahia, NE\", \"counts\": 1, \"cumulative_sum\": 42, \"estado\": \"Bahia\", \"regiao\": \" NE\"}, {\"ano_coleta\": 2006.0, \"regiao_e_estado\": \"Bahia, NE\", \"counts\": 2, \"cumulative_sum\": 44, \"estado\": \"Bahia\", \"regiao\": \" NE\"}, {\"ano_coleta\": 2007.0, \"regiao_e_estado\": \"Bahia, NE\", \"counts\": 1, \"cumulative_sum\": 45, \"estado\": \"Bahia\", \"regiao\": \" NE\"}, {\"ano_coleta\": 2008.0, \"regiao_e_estado\": \"Bahia, NE\", \"counts\": 2, \"cumulative_sum\": 47, \"estado\": \"Bahia\", \"regiao\": \" NE\"}, {\"ano_coleta\": 2009.0, \"regiao_e_estado\": \"Bahia, NE\", \"counts\": 1, \"cumulative_sum\": 48, \"estado\": \"Bahia\", \"regiao\": \" NE\"}, {\"ano_coleta\": 2010.0, \"regiao_e_estado\": \"Bahia, NE\", \"counts\": 2, \"cumulative_sum\": 50, \"estado\": \"Bahia\", \"regiao\": \" NE\"}, {\"ano_coleta\": 2011.0, \"regiao_e_estado\": \"Bahia, NE\", \"counts\": 1, \"cumulative_sum\": 51, \"estado\": \"Bahia\", \"regiao\": \" NE\"}, {\"ano_coleta\": 2012.0, \"regiao_e_estado\": \"Bahia, NE\", \"counts\": 1, \"cumulative_sum\": 52, \"estado\": \"Bahia\", \"regiao\": \" NE\"}, {\"ano_coleta\": 2013.0, \"regiao_e_estado\": \"Bahia, NE\", \"counts\": 1, \"cumulative_sum\": 53, \"estado\": \"Bahia\", \"regiao\": \" NE\"}, {\"ano_coleta\": 2014.0, \"regiao_e_estado\": \"Bahia, NE\", \"counts\": 1, \"cumulative_sum\": 54, \"estado\": \"Bahia\", \"regiao\": \" NE\"}, {\"ano_coleta\": 2015.0, \"regiao_e_estado\": \"Bahia, NE\", \"counts\": 1, \"cumulative_sum\": 55, \"estado\": \"Bahia\", \"regiao\": \" NE\"}, {\"ano_coleta\": 1975.0, \"regiao_e_estado\": \"Bras\\u00edlia, CO\", \"counts\": 1, \"cumulative_sum\": 1, \"estado\": \"Bras\\u00edlia\", \"regiao\": \" CO\"}, {\"ano_coleta\": 1945.0, \"regiao_e_estado\": \"Cear\\u00e1, NE\", \"counts\": 1, \"cumulative_sum\": 1, \"estado\": \"Cear\\u00e1\", \"regiao\": \" NE\"}, {\"ano_coleta\": 1974.0, \"regiao_e_estado\": \"Cear\\u00e1, NE\", \"counts\": 1, \"cumulative_sum\": 2, \"estado\": \"Cear\\u00e1\", \"regiao\": \" NE\"}, {\"ano_coleta\": 1976.0, \"regiao_e_estado\": \"Cear\\u00e1, NE\", \"counts\": 1, \"cumulative_sum\": 3, \"estado\": \"Cear\\u00e1\", \"regiao\": \" NE\"}, {\"ano_coleta\": 1986.0, \"regiao_e_estado\": \"Cear\\u00e1, NE\", \"counts\": 2, \"cumulative_sum\": 5, \"estado\": \"Cear\\u00e1\", \"regiao\": \" NE\"}, {\"ano_coleta\": 1988.0, \"regiao_e_estado\": \"Cear\\u00e1, NE\", \"counts\": 1, \"cumulative_sum\": 6, \"estado\": \"Cear\\u00e1\", \"regiao\": \" NE\"}, {\"ano_coleta\": 1989.0, \"regiao_e_estado\": \"Cear\\u00e1, NE\", \"counts\": 1, \"cumulative_sum\": 7, \"estado\": \"Cear\\u00e1\", \"regiao\": \" NE\"}, {\"ano_coleta\": 1993.0, \"regiao_e_estado\": \"Cear\\u00e1, NE\", \"counts\": 1, \"cumulative_sum\": 8, \"estado\": \"Cear\\u00e1\", \"regiao\": \" NE\"}, {\"ano_coleta\": 1994.0, \"regiao_e_estado\": \"Cear\\u00e1, NE\", \"counts\": 1, \"cumulative_sum\": 9, \"estado\": \"Cear\\u00e1\", \"regiao\": \" NE\"}, {\"ano_coleta\": 1996.0, \"regiao_e_estado\": \"Cear\\u00e1, NE\", \"counts\": 1, \"cumulative_sum\": 10, \"estado\": \"Cear\\u00e1\", \"regiao\": \" NE\"}, {\"ano_coleta\": 1997.0, \"regiao_e_estado\": \"Cear\\u00e1, NE\", \"counts\": 1, \"cumulative_sum\": 11, \"estado\": \"Cear\\u00e1\", \"regiao\": \" NE\"}, {\"ano_coleta\": 1998.0, \"regiao_e_estado\": \"Cear\\u00e1, NE\", \"counts\": 2, \"cumulative_sum\": 13, \"estado\": \"Cear\\u00e1\", \"regiao\": \" NE\"}, {\"ano_coleta\": 1999.0, \"regiao_e_estado\": \"Cear\\u00e1, NE\", \"counts\": 1, \"cumulative_sum\": 14, \"estado\": \"Cear\\u00e1\", \"regiao\": \" NE\"}, {\"ano_coleta\": 2000.0, \"regiao_e_estado\": \"Cear\\u00e1, NE\", \"counts\": 1, \"cumulative_sum\": 15, \"estado\": \"Cear\\u00e1\", \"regiao\": \" NE\"}, {\"ano_coleta\": 2001.0, \"regiao_e_estado\": \"Cear\\u00e1, NE\", \"counts\": 1, \"cumulative_sum\": 16, \"estado\": \"Cear\\u00e1\", \"regiao\": \" NE\"}, {\"ano_coleta\": 2004.0, \"regiao_e_estado\": \"Cear\\u00e1, NE\", \"counts\": 1, \"cumulative_sum\": 17, \"estado\": \"Cear\\u00e1\", \"regiao\": \" NE\"}, {\"ano_coleta\": 2007.0, \"regiao_e_estado\": \"Cear\\u00e1, NE\", \"counts\": 1, \"cumulative_sum\": 18, \"estado\": \"Cear\\u00e1\", \"regiao\": \" NE\"}, {\"ano_coleta\": 2008.0, \"regiao_e_estado\": \"Cear\\u00e1, NE\", \"counts\": 1, \"cumulative_sum\": 19, \"estado\": \"Cear\\u00e1\", \"regiao\": \" NE\"}, {\"ano_coleta\": 2009.0, \"regiao_e_estado\": \"Cear\\u00e1, NE\", \"counts\": 1, \"cumulative_sum\": 20, \"estado\": \"Cear\\u00e1\", \"regiao\": \" NE\"}, {\"ano_coleta\": 2010.0, \"regiao_e_estado\": \"Cear\\u00e1, NE\", \"counts\": 1, \"cumulative_sum\": 21, \"estado\": \"Cear\\u00e1\", \"regiao\": \" NE\"}, {\"ano_coleta\": 2014.0, \"regiao_e_estado\": \"Cear\\u00e1, NE\", \"counts\": 1, \"cumulative_sum\": 22, \"estado\": \"Cear\\u00e1\", \"regiao\": \" NE\"}, {\"ano_coleta\": 1957.0, \"regiao_e_estado\": \"Distrito Federal, CO\", \"counts\": 2, \"cumulative_sum\": 2, \"estado\": \"Distrito Federal\", \"regiao\": \" CO\"}, {\"ano_coleta\": 1958.0, \"regiao_e_estado\": \"Distrito Federal, CO\", \"counts\": 1, \"cumulative_sum\": 3, \"estado\": \"Distrito Federal\", \"regiao\": \" CO\"}, {\"ano_coleta\": 1961.0, \"regiao_e_estado\": \"Distrito Federal, CO\", \"counts\": 1, \"cumulative_sum\": 4, \"estado\": \"Distrito Federal\", \"regiao\": \" CO\"}, {\"ano_coleta\": 1964.0, \"regiao_e_estado\": \"Distrito Federal, CO\", \"counts\": 1, \"cumulative_sum\": 5, \"estado\": \"Distrito Federal\", \"regiao\": \" CO\"}, {\"ano_coleta\": 1986.0, \"regiao_e_estado\": \"Distrito Federal, CO\", \"counts\": 1, \"cumulative_sum\": 6, \"estado\": \"Distrito Federal\", \"regiao\": \" CO\"}, {\"ano_coleta\": 1987.0, \"regiao_e_estado\": \"Distrito Federal, CO\", \"counts\": 1, \"cumulative_sum\": 7, \"estado\": \"Distrito Federal\", \"regiao\": \" CO\"}, {\"ano_coleta\": 2014.0, \"regiao_e_estado\": \"Distrito Federal, CO\", \"counts\": 1, \"cumulative_sum\": 8, \"estado\": \"Distrito Federal\", \"regiao\": \" CO\"}, {\"ano_coleta\": 1939.0, \"regiao_e_estado\": \"Esp\\u00edrito Santo, SE\", \"counts\": 1, \"cumulative_sum\": 1, \"estado\": \"Esp\\u00edrito Santo\", \"regiao\": \" SE\"}, {\"ano_coleta\": 1940.0, \"regiao_e_estado\": \"Esp\\u00edrito Santo, SE\", \"counts\": 1, \"cumulative_sum\": 2, \"estado\": \"Esp\\u00edrito Santo\", \"regiao\": \" SE\"}, {\"ano_coleta\": 1942.0, \"regiao_e_estado\": \"Esp\\u00edrito Santo, SE\", \"counts\": 2, \"cumulative_sum\": 4, \"estado\": \"Esp\\u00edrito Santo\", \"regiao\": \" SE\"}, {\"ano_coleta\": 1943.0, \"regiao_e_estado\": \"Esp\\u00edrito Santo, SE\", \"counts\": 1, \"cumulative_sum\": 5, \"estado\": \"Esp\\u00edrito Santo\", \"regiao\": \" SE\"}, {\"ano_coleta\": 1944.0, \"regiao_e_estado\": \"Esp\\u00edrito Santo, SE\", \"counts\": 1, \"cumulative_sum\": 6, \"estado\": \"Esp\\u00edrito Santo\", \"regiao\": \" SE\"}, {\"ano_coleta\": 1953.0, \"regiao_e_estado\": \"Esp\\u00edrito Santo, SE\", \"counts\": 1, \"cumulative_sum\": 7, \"estado\": \"Esp\\u00edrito Santo\", \"regiao\": \" SE\"}, {\"ano_coleta\": 1957.0, \"regiao_e_estado\": \"Esp\\u00edrito Santo, SE\", \"counts\": 1, \"cumulative_sum\": 8, \"estado\": \"Esp\\u00edrito Santo\", \"regiao\": \" SE\"}, {\"ano_coleta\": 1964.0, \"regiao_e_estado\": \"Esp\\u00edrito Santo, SE\", \"counts\": 2, \"cumulative_sum\": 10, \"estado\": \"Esp\\u00edrito Santo\", \"regiao\": \" SE\"}, {\"ano_coleta\": 1972.0, \"regiao_e_estado\": \"Esp\\u00edrito Santo, SE\", \"counts\": 1, \"cumulative_sum\": 11, \"estado\": \"Esp\\u00edrito Santo\", \"regiao\": \" SE\"}, {\"ano_coleta\": 1973.0, \"regiao_e_estado\": \"Esp\\u00edrito Santo, SE\", \"counts\": 1, \"cumulative_sum\": 12, \"estado\": \"Esp\\u00edrito Santo\", \"regiao\": \" SE\"}, {\"ano_coleta\": 1975.0, \"regiao_e_estado\": \"Esp\\u00edrito Santo, SE\", \"counts\": 1, \"cumulative_sum\": 13, \"estado\": \"Esp\\u00edrito Santo\", \"regiao\": \" SE\"}, {\"ano_coleta\": 1976.0, \"regiao_e_estado\": \"Esp\\u00edrito Santo, SE\", \"counts\": 2, \"cumulative_sum\": 15, \"estado\": \"Esp\\u00edrito Santo\", \"regiao\": \" SE\"}, {\"ano_coleta\": 1977.0, \"regiao_e_estado\": \"Esp\\u00edrito Santo, SE\", \"counts\": 1, \"cumulative_sum\": 16, \"estado\": \"Esp\\u00edrito Santo\", \"regiao\": \" SE\"}, {\"ano_coleta\": 1978.0, \"regiao_e_estado\": \"Esp\\u00edrito Santo, SE\", \"counts\": 1, \"cumulative_sum\": 17, \"estado\": \"Esp\\u00edrito Santo\", \"regiao\": \" SE\"}, {\"ano_coleta\": 1981.0, \"regiao_e_estado\": \"Esp\\u00edrito Santo, SE\", \"counts\": 1, \"cumulative_sum\": 18, \"estado\": \"Esp\\u00edrito Santo\", \"regiao\": \" SE\"}, {\"ano_coleta\": 1982.0, \"regiao_e_estado\": \"Esp\\u00edrito Santo, SE\", \"counts\": 1, \"cumulative_sum\": 19, \"estado\": \"Esp\\u00edrito Santo\", \"regiao\": \" SE\"}, {\"ano_coleta\": 1983.0, \"regiao_e_estado\": \"Esp\\u00edrito Santo, SE\", \"counts\": 1, \"cumulative_sum\": 20, \"estado\": \"Esp\\u00edrito Santo\", \"regiao\": \" SE\"}, {\"ano_coleta\": 1984.0, \"regiao_e_estado\": \"Esp\\u00edrito Santo, SE\", \"counts\": 1, \"cumulative_sum\": 21, \"estado\": \"Esp\\u00edrito Santo\", \"regiao\": \" SE\"}, {\"ano_coleta\": 1985.0, \"regiao_e_estado\": \"Esp\\u00edrito Santo, SE\", \"counts\": 1, \"cumulative_sum\": 22, \"estado\": \"Esp\\u00edrito Santo\", \"regiao\": \" SE\"}, {\"ano_coleta\": 1986.0, \"regiao_e_estado\": \"Esp\\u00edrito Santo, SE\", \"counts\": 1, \"cumulative_sum\": 23, \"estado\": \"Esp\\u00edrito Santo\", \"regiao\": \" SE\"}, {\"ano_coleta\": 1987.0, \"regiao_e_estado\": \"Esp\\u00edrito Santo, SE\", \"counts\": 1, \"cumulative_sum\": 24, \"estado\": \"Esp\\u00edrito Santo\", \"regiao\": \" SE\"}, {\"ano_coleta\": 1988.0, \"regiao_e_estado\": \"Esp\\u00edrito Santo, SE\", \"counts\": 1, \"cumulative_sum\": 25, \"estado\": \"Esp\\u00edrito Santo\", \"regiao\": \" SE\"}, {\"ano_coleta\": 1989.0, \"regiao_e_estado\": \"Esp\\u00edrito Santo, SE\", \"counts\": 1, \"cumulative_sum\": 26, \"estado\": \"Esp\\u00edrito Santo\", \"regiao\": \" SE\"}, {\"ano_coleta\": 1990.0, \"regiao_e_estado\": \"Esp\\u00edrito Santo, SE\", \"counts\": 2, \"cumulative_sum\": 28, \"estado\": \"Esp\\u00edrito Santo\", \"regiao\": \" SE\"}, {\"ano_coleta\": 1991.0, \"regiao_e_estado\": \"Esp\\u00edrito Santo, SE\", \"counts\": 1, \"cumulative_sum\": 29, \"estado\": \"Esp\\u00edrito Santo\", \"regiao\": \" SE\"}, {\"ano_coleta\": 1992.0, \"regiao_e_estado\": \"Esp\\u00edrito Santo, SE\", \"counts\": 2, \"cumulative_sum\": 31, \"estado\": \"Esp\\u00edrito Santo\", \"regiao\": \" SE\"}, {\"ano_coleta\": 1993.0, \"regiao_e_estado\": \"Esp\\u00edrito Santo, SE\", \"counts\": 1, \"cumulative_sum\": 32, \"estado\": \"Esp\\u00edrito Santo\", \"regiao\": \" SE\"}, {\"ano_coleta\": 1994.0, \"regiao_e_estado\": \"Esp\\u00edrito Santo, SE\", \"counts\": 1, \"cumulative_sum\": 33, \"estado\": \"Esp\\u00edrito Santo\", \"regiao\": \" SE\"}, {\"ano_coleta\": 1995.0, \"regiao_e_estado\": \"Esp\\u00edrito Santo, SE\", \"counts\": 1, \"cumulative_sum\": 34, \"estado\": \"Esp\\u00edrito Santo\", \"regiao\": \" SE\"}, {\"ano_coleta\": 1996.0, \"regiao_e_estado\": \"Esp\\u00edrito Santo, SE\", \"counts\": 1, \"cumulative_sum\": 35, \"estado\": \"Esp\\u00edrito Santo\", \"regiao\": \" SE\"}, {\"ano_coleta\": 1997.0, \"regiao_e_estado\": \"Esp\\u00edrito Santo, SE\", \"counts\": 2, \"cumulative_sum\": 37, \"estado\": \"Esp\\u00edrito Santo\", \"regiao\": \" SE\"}, {\"ano_coleta\": 1998.0, \"regiao_e_estado\": \"Esp\\u00edrito Santo, SE\", \"counts\": 1, \"cumulative_sum\": 38, \"estado\": \"Esp\\u00edrito Santo\", \"regiao\": \" SE\"}, {\"ano_coleta\": 1999.0, \"regiao_e_estado\": \"Esp\\u00edrito Santo, SE\", \"counts\": 1, \"cumulative_sum\": 39, \"estado\": \"Esp\\u00edrito Santo\", \"regiao\": \" SE\"}, {\"ano_coleta\": 2000.0, \"regiao_e_estado\": \"Esp\\u00edrito Santo, SE\", \"counts\": 2, \"cumulative_sum\": 41, \"estado\": \"Esp\\u00edrito Santo\", \"regiao\": \" SE\"}, {\"ano_coleta\": 2001.0, \"regiao_e_estado\": \"Esp\\u00edrito Santo, SE\", \"counts\": 1, \"cumulative_sum\": 42, \"estado\": \"Esp\\u00edrito Santo\", \"regiao\": \" SE\"}, {\"ano_coleta\": 2002.0, \"regiao_e_estado\": \"Esp\\u00edrito Santo, SE\", \"counts\": 2, \"cumulative_sum\": 44, \"estado\": \"Esp\\u00edrito Santo\", \"regiao\": \" SE\"}, {\"ano_coleta\": 2003.0, \"regiao_e_estado\": \"Esp\\u00edrito Santo, SE\", \"counts\": 1, \"cumulative_sum\": 45, \"estado\": \"Esp\\u00edrito Santo\", \"regiao\": \" SE\"}, {\"ano_coleta\": 2004.0, \"regiao_e_estado\": \"Esp\\u00edrito Santo, SE\", \"counts\": 2, \"cumulative_sum\": 47, \"estado\": \"Esp\\u00edrito Santo\", \"regiao\": \" SE\"}, {\"ano_coleta\": 2005.0, \"regiao_e_estado\": \"Esp\\u00edrito Santo, SE\", \"counts\": 2, \"cumulative_sum\": 49, \"estado\": \"Esp\\u00edrito Santo\", \"regiao\": \" SE\"}, {\"ano_coleta\": 2006.0, \"regiao_e_estado\": \"Esp\\u00edrito Santo, SE\", \"counts\": 1, \"cumulative_sum\": 50, \"estado\": \"Esp\\u00edrito Santo\", \"regiao\": \" SE\"}, {\"ano_coleta\": 2007.0, \"regiao_e_estado\": \"Esp\\u00edrito Santo, SE\", \"counts\": 2, \"cumulative_sum\": 52, \"estado\": \"Esp\\u00edrito Santo\", \"regiao\": \" SE\"}, {\"ano_coleta\": 2008.0, \"regiao_e_estado\": \"Esp\\u00edrito Santo, SE\", \"counts\": 2, \"cumulative_sum\": 54, \"estado\": \"Esp\\u00edrito Santo\", \"regiao\": \" SE\"}, {\"ano_coleta\": 2009.0, \"regiao_e_estado\": \"Esp\\u00edrito Santo, SE\", \"counts\": 2, \"cumulative_sum\": 56, \"estado\": \"Esp\\u00edrito Santo\", \"regiao\": \" SE\"}, {\"ano_coleta\": 2010.0, \"regiao_e_estado\": \"Esp\\u00edrito Santo, SE\", \"counts\": 2, \"cumulative_sum\": 58, \"estado\": \"Esp\\u00edrito Santo\", \"regiao\": \" SE\"}, {\"ano_coleta\": 2011.0, \"regiao_e_estado\": \"Esp\\u00edrito Santo, SE\", \"counts\": 2, \"cumulative_sum\": 60, \"estado\": \"Esp\\u00edrito Santo\", \"regiao\": \" SE\"}, {\"ano_coleta\": 2012.0, \"regiao_e_estado\": \"Esp\\u00edrito Santo, SE\", \"counts\": 1, \"cumulative_sum\": 61, \"estado\": \"Esp\\u00edrito Santo\", \"regiao\": \" SE\"}, {\"ano_coleta\": 2013.0, \"regiao_e_estado\": \"Esp\\u00edrito Santo, SE\", \"counts\": 1, \"cumulative_sum\": 62, \"estado\": \"Esp\\u00edrito Santo\", \"regiao\": \" SE\"}, {\"ano_coleta\": 2015.0, \"regiao_e_estado\": \"Esp\\u00edrito Santo, SE\", \"counts\": 1, \"cumulative_sum\": 63, \"estado\": \"Esp\\u00edrito Santo\", \"regiao\": \" SE\"}, {\"ano_coleta\": 2016.0, \"regiao_e_estado\": \"Esp\\u00edrito Santo, SE\", \"counts\": 1, \"cumulative_sum\": 64, \"estado\": \"Esp\\u00edrito Santo\", \"regiao\": \" SE\"}, {\"ano_coleta\": 1926.0, \"regiao_e_estado\": \"Goi\\u00e1s, CO\", \"counts\": 1, \"cumulative_sum\": 1, \"estado\": \"Goi\\u00e1s\", \"regiao\": \" CO\"}, {\"ano_coleta\": 1941.0, \"regiao_e_estado\": \"Goi\\u00e1s, CO\", \"counts\": 1, \"cumulative_sum\": 2, \"estado\": \"Goi\\u00e1s\", \"regiao\": \" CO\"}, {\"ano_coleta\": 1952.0, \"regiao_e_estado\": \"Goi\\u00e1s, CO\", \"counts\": 1, \"cumulative_sum\": 3, \"estado\": \"Goi\\u00e1s\", \"regiao\": \" CO\"}, {\"ano_coleta\": 1953.0, \"regiao_e_estado\": \"Goi\\u00e1s, CO\", \"counts\": 1, \"cumulative_sum\": 4, \"estado\": \"Goi\\u00e1s\", \"regiao\": \" CO\"}, {\"ano_coleta\": 1956.0, \"regiao_e_estado\": \"Goi\\u00e1s, CO\", \"counts\": 1, \"cumulative_sum\": 5, \"estado\": \"Goi\\u00e1s\", \"regiao\": \" CO\"}, {\"ano_coleta\": 1960.0, \"regiao_e_estado\": \"Goi\\u00e1s, CO\", \"counts\": 1, \"cumulative_sum\": 6, \"estado\": \"Goi\\u00e1s\", \"regiao\": \" CO\"}, {\"ano_coleta\": 1974.0, \"regiao_e_estado\": \"Goi\\u00e1s, CO\", \"counts\": 1, \"cumulative_sum\": 7, \"estado\": \"Goi\\u00e1s\", \"regiao\": \" CO\"}, {\"ano_coleta\": 1984.0, \"regiao_e_estado\": \"Goi\\u00e1s, CO\", \"counts\": 2, \"cumulative_sum\": 9, \"estado\": \"Goi\\u00e1s\", \"regiao\": \" CO\"}, {\"ano_coleta\": 1985.0, \"regiao_e_estado\": \"Goi\\u00e1s, CO\", \"counts\": 1, \"cumulative_sum\": 10, \"estado\": \"Goi\\u00e1s\", \"regiao\": \" CO\"}, {\"ano_coleta\": 1987.0, \"regiao_e_estado\": \"Goi\\u00e1s, CO\", \"counts\": 3, \"cumulative_sum\": 13, \"estado\": \"Goi\\u00e1s\", \"regiao\": \" CO\"}, {\"ano_coleta\": 1988.0, \"regiao_e_estado\": \"Goi\\u00e1s, CO\", \"counts\": 1, \"cumulative_sum\": 14, \"estado\": \"Goi\\u00e1s\", \"regiao\": \" CO\"}, {\"ano_coleta\": 1989.0, \"regiao_e_estado\": \"Goi\\u00e1s, CO\", \"counts\": 1, \"cumulative_sum\": 15, \"estado\": \"Goi\\u00e1s\", \"regiao\": \" CO\"}, {\"ano_coleta\": 1991.0, \"regiao_e_estado\": \"Goi\\u00e1s, CO\", \"counts\": 2, \"cumulative_sum\": 17, \"estado\": \"Goi\\u00e1s\", \"regiao\": \" CO\"}, {\"ano_coleta\": 1992.0, \"regiao_e_estado\": \"Goi\\u00e1s, CO\", \"counts\": 1, \"cumulative_sum\": 18, \"estado\": \"Goi\\u00e1s\", \"regiao\": \" CO\"}, {\"ano_coleta\": 1995.0, \"regiao_e_estado\": \"Goi\\u00e1s, CO\", \"counts\": 2, \"cumulative_sum\": 20, \"estado\": \"Goi\\u00e1s\", \"regiao\": \" CO\"}, {\"ano_coleta\": 1996.0, \"regiao_e_estado\": \"Goi\\u00e1s, CO\", \"counts\": 3, \"cumulative_sum\": 23, \"estado\": \"Goi\\u00e1s\", \"regiao\": \" CO\"}, {\"ano_coleta\": 1997.0, \"regiao_e_estado\": \"Goi\\u00e1s, CO\", \"counts\": 2, \"cumulative_sum\": 25, \"estado\": \"Goi\\u00e1s\", \"regiao\": \" CO\"}, {\"ano_coleta\": 1998.0, \"regiao_e_estado\": \"Goi\\u00e1s, CO\", \"counts\": 1, \"cumulative_sum\": 26, \"estado\": \"Goi\\u00e1s\", \"regiao\": \" CO\"}, {\"ano_coleta\": 1999.0, \"regiao_e_estado\": \"Goi\\u00e1s, CO\", \"counts\": 2, \"cumulative_sum\": 28, \"estado\": \"Goi\\u00e1s\", \"regiao\": \" CO\"}, {\"ano_coleta\": 2000.0, \"regiao_e_estado\": \"Goi\\u00e1s, CO\", \"counts\": 1, \"cumulative_sum\": 29, \"estado\": \"Goi\\u00e1s\", \"regiao\": \" CO\"}, {\"ano_coleta\": 2001.0, \"regiao_e_estado\": \"Goi\\u00e1s, CO\", \"counts\": 1, \"cumulative_sum\": 30, \"estado\": \"Goi\\u00e1s\", \"regiao\": \" CO\"}, {\"ano_coleta\": 2002.0, \"regiao_e_estado\": \"Goi\\u00e1s, CO\", \"counts\": 1, \"cumulative_sum\": 31, \"estado\": \"Goi\\u00e1s\", \"regiao\": \" CO\"}, {\"ano_coleta\": 2003.0, \"regiao_e_estado\": \"Goi\\u00e1s, CO\", \"counts\": 1, \"cumulative_sum\": 32, \"estado\": \"Goi\\u00e1s\", \"regiao\": \" CO\"}, {\"ano_coleta\": 2004.0, \"regiao_e_estado\": \"Goi\\u00e1s, CO\", \"counts\": 1, \"cumulative_sum\": 33, \"estado\": \"Goi\\u00e1s\", \"regiao\": \" CO\"}, {\"ano_coleta\": 2005.0, \"regiao_e_estado\": \"Goi\\u00e1s, CO\", \"counts\": 1, \"cumulative_sum\": 34, \"estado\": \"Goi\\u00e1s\", \"regiao\": \" CO\"}, {\"ano_coleta\": 2006.0, \"regiao_e_estado\": \"Goi\\u00e1s, CO\", \"counts\": 1, \"cumulative_sum\": 35, \"estado\": \"Goi\\u00e1s\", \"regiao\": \" CO\"}, {\"ano_coleta\": 2007.0, \"regiao_e_estado\": \"Goi\\u00e1s, CO\", \"counts\": 1, \"cumulative_sum\": 36, \"estado\": \"Goi\\u00e1s\", \"regiao\": \" CO\"}, {\"ano_coleta\": 2008.0, \"regiao_e_estado\": \"Goi\\u00e1s, CO\", \"counts\": 1, \"cumulative_sum\": 37, \"estado\": \"Goi\\u00e1s\", \"regiao\": \" CO\"}, {\"ano_coleta\": 2009.0, \"regiao_e_estado\": \"Goi\\u00e1s, CO\", \"counts\": 2, \"cumulative_sum\": 39, \"estado\": \"Goi\\u00e1s\", \"regiao\": \" CO\"}, {\"ano_coleta\": 2010.0, \"regiao_e_estado\": \"Goi\\u00e1s, CO\", \"counts\": 2, \"cumulative_sum\": 41, \"estado\": \"Goi\\u00e1s\", \"regiao\": \" CO\"}, {\"ano_coleta\": 2011.0, \"regiao_e_estado\": \"Goi\\u00e1s, CO\", \"counts\": 1, \"cumulative_sum\": 42, \"estado\": \"Goi\\u00e1s\", \"regiao\": \" CO\"}, {\"ano_coleta\": 2012.0, \"regiao_e_estado\": \"Goi\\u00e1s, CO\", \"counts\": 1, \"cumulative_sum\": 43, \"estado\": \"Goi\\u00e1s\", \"regiao\": \" CO\"}, {\"ano_coleta\": 2013.0, \"regiao_e_estado\": \"Goi\\u00e1s, CO\", \"counts\": 1, \"cumulative_sum\": 44, \"estado\": \"Goi\\u00e1s\", \"regiao\": \" CO\"}, {\"ano_coleta\": 2014.0, \"regiao_e_estado\": \"Goi\\u00e1s, CO\", \"counts\": 1, \"cumulative_sum\": 45, \"estado\": \"Goi\\u00e1s\", \"regiao\": \" CO\"}, {\"ano_coleta\": 1945.0, \"regiao_e_estado\": \"Maranh\\u00e3o, N\", \"counts\": 1, \"cumulative_sum\": 1, \"estado\": \"Maranh\\u00e3o\", \"regiao\": \" N\"}, {\"ano_coleta\": 1972.0, \"regiao_e_estado\": \"Maranh\\u00e3o, N\", \"counts\": 1, \"cumulative_sum\": 2, \"estado\": \"Maranh\\u00e3o\", \"regiao\": \" N\"}, {\"ano_coleta\": 1973.0, \"regiao_e_estado\": \"Maranh\\u00e3o, N\", \"counts\": 1, \"cumulative_sum\": 3, \"estado\": \"Maranh\\u00e3o\", \"regiao\": \" N\"}, {\"ano_coleta\": 1985.0, \"regiao_e_estado\": \"Maranh\\u00e3o, N\", \"counts\": 1, \"cumulative_sum\": 4, \"estado\": \"Maranh\\u00e3o\", \"regiao\": \" N\"}, {\"ano_coleta\": 1999.0, \"regiao_e_estado\": \"Maranh\\u00e3o, N\", \"counts\": 1, \"cumulative_sum\": 5, \"estado\": \"Maranh\\u00e3o\", \"regiao\": \" N\"}, {\"ano_coleta\": 2004.0, \"regiao_e_estado\": \"Maranh\\u00e3o, N\", \"counts\": 1, \"cumulative_sum\": 6, \"estado\": \"Maranh\\u00e3o\", \"regiao\": \" N\"}, {\"ano_coleta\": 2006.0, \"regiao_e_estado\": \"Maranh\\u00e3o, N\", \"counts\": 1, \"cumulative_sum\": 7, \"estado\": \"Maranh\\u00e3o\", \"regiao\": \" N\"}, {\"ano_coleta\": 2008.0, \"regiao_e_estado\": \"Maranh\\u00e3o, N\", \"counts\": 1, \"cumulative_sum\": 8, \"estado\": \"Maranh\\u00e3o\", \"regiao\": \" N\"}, {\"ano_coleta\": 2009.0, \"regiao_e_estado\": \"Maranh\\u00e3o, N\", \"counts\": 1, \"cumulative_sum\": 9, \"estado\": \"Maranh\\u00e3o\", \"regiao\": \" N\"}, {\"ano_coleta\": 2010.0, \"regiao_e_estado\": \"Maranh\\u00e3o, N\", \"counts\": 1, \"cumulative_sum\": 10, \"estado\": \"Maranh\\u00e3o\", \"regiao\": \" N\"}, {\"ano_coleta\": 2011.0, \"regiao_e_estado\": \"Maranh\\u00e3o, N\", \"counts\": 1, \"cumulative_sum\": 11, \"estado\": \"Maranh\\u00e3o\", \"regiao\": \" N\"}, {\"ano_coleta\": 2012.0, \"regiao_e_estado\": \"Maranh\\u00e3o, N\", \"counts\": 1, \"cumulative_sum\": 12, \"estado\": \"Maranh\\u00e3o\", \"regiao\": \" N\"}, {\"ano_coleta\": 1943.0, \"regiao_e_estado\": \"Mato Grosso do Sul, CO\", \"counts\": 1, \"cumulative_sum\": 1, \"estado\": \"Mato Grosso do Sul\", \"regiao\": \" CO\"}, {\"ano_coleta\": 1978.0, \"regiao_e_estado\": \"Mato Grosso do Sul, CO\", \"counts\": 1, \"cumulative_sum\": 2, \"estado\": \"Mato Grosso do Sul\", \"regiao\": \" CO\"}, {\"ano_coleta\": 1980.0, \"regiao_e_estado\": \"Mato Grosso do Sul, CO\", \"counts\": 1, \"cumulative_sum\": 3, \"estado\": \"Mato Grosso do Sul\", \"regiao\": \" CO\"}, {\"ano_coleta\": 1983.0, \"regiao_e_estado\": \"Mato Grosso do Sul, CO\", \"counts\": 1, \"cumulative_sum\": 4, \"estado\": \"Mato Grosso do Sul\", \"regiao\": \" CO\"}, {\"ano_coleta\": 1987.0, \"regiao_e_estado\": \"Mato Grosso do Sul, CO\", \"counts\": 1, \"cumulative_sum\": 5, \"estado\": \"Mato Grosso do Sul\", \"regiao\": \" CO\"}, {\"ano_coleta\": 1990.0, \"regiao_e_estado\": \"Mato Grosso do Sul, CO\", \"counts\": 1, \"cumulative_sum\": 6, \"estado\": \"Mato Grosso do Sul\", \"regiao\": \" CO\"}, {\"ano_coleta\": 1996.0, \"regiao_e_estado\": \"Mato Grosso do Sul, CO\", \"counts\": 1, \"cumulative_sum\": 7, \"estado\": \"Mato Grosso do Sul\", \"regiao\": \" CO\"}, {\"ano_coleta\": 1998.0, \"regiao_e_estado\": \"Mato Grosso do Sul, CO\", \"counts\": 1, \"cumulative_sum\": 8, \"estado\": \"Mato Grosso do Sul\", \"regiao\": \" CO\"}, {\"ano_coleta\": 2000.0, \"regiao_e_estado\": \"Mato Grosso do Sul, CO\", \"counts\": 1, \"cumulative_sum\": 9, \"estado\": \"Mato Grosso do Sul\", \"regiao\": \" CO\"}, {\"ano_coleta\": 2003.0, \"regiao_e_estado\": \"Mato Grosso do Sul, CO\", \"counts\": 1, \"cumulative_sum\": 10, \"estado\": \"Mato Grosso do Sul\", \"regiao\": \" CO\"}, {\"ano_coleta\": 2008.0, \"regiao_e_estado\": \"Mato Grosso do Sul, CO\", \"counts\": 1, \"cumulative_sum\": 11, \"estado\": \"Mato Grosso do Sul\", \"regiao\": \" CO\"}, {\"ano_coleta\": 2011.0, \"regiao_e_estado\": \"Mato Grosso do Sul, CO\", \"counts\": 1, \"cumulative_sum\": 12, \"estado\": \"Mato Grosso do Sul\", \"regiao\": \" CO\"}, {\"ano_coleta\": 1939.0, \"regiao_e_estado\": \"Mato Grosso, CO\", \"counts\": 1, \"cumulative_sum\": 1, \"estado\": \"Mato Grosso\", \"regiao\": \" CO\"}, {\"ano_coleta\": 1940.0, \"regiao_e_estado\": \"Mato Grosso, CO\", \"counts\": 1, \"cumulative_sum\": 2, \"estado\": \"Mato Grosso\", \"regiao\": \" CO\"}, {\"ano_coleta\": 1946.0, \"regiao_e_estado\": \"Mato Grosso, CO\", \"counts\": 1, \"cumulative_sum\": 3, \"estado\": \"Mato Grosso\", \"regiao\": \" CO\"}, {\"ano_coleta\": 1947.0, \"regiao_e_estado\": \"Mato Grosso, CO\", \"counts\": 1, \"cumulative_sum\": 4, \"estado\": \"Mato Grosso\", \"regiao\": \" CO\"}, {\"ano_coleta\": 1948.0, \"regiao_e_estado\": \"Mato Grosso, CO\", \"counts\": 1, \"cumulative_sum\": 5, \"estado\": \"Mato Grosso\", \"regiao\": \" CO\"}, {\"ano_coleta\": 1949.0, \"regiao_e_estado\": \"Mato Grosso, CO\", \"counts\": 1, \"cumulative_sum\": 6, \"estado\": \"Mato Grosso\", \"regiao\": \" CO\"}, {\"ano_coleta\": 1950.0, \"regiao_e_estado\": \"Mato Grosso, CO\", \"counts\": 1, \"cumulative_sum\": 7, \"estado\": \"Mato Grosso\", \"regiao\": \" CO\"}, {\"ano_coleta\": 1951.0, \"regiao_e_estado\": \"Mato Grosso, CO\", \"counts\": 1, \"cumulative_sum\": 8, \"estado\": \"Mato Grosso\", \"regiao\": \" CO\"}, {\"ano_coleta\": 1952.0, \"regiao_e_estado\": \"Mato Grosso, CO\", \"counts\": 1, \"cumulative_sum\": 9, \"estado\": \"Mato Grosso\", \"regiao\": \" CO\"}, {\"ano_coleta\": 1956.0, \"regiao_e_estado\": \"Mato Grosso, CO\", \"counts\": 1, \"cumulative_sum\": 10, \"estado\": \"Mato Grosso\", \"regiao\": \" CO\"}, {\"ano_coleta\": 1957.0, \"regiao_e_estado\": \"Mato Grosso, CO\", \"counts\": 1, \"cumulative_sum\": 11, \"estado\": \"Mato Grosso\", \"regiao\": \" CO\"}, {\"ano_coleta\": 1958.0, \"regiao_e_estado\": \"Mato Grosso, CO\", \"counts\": 1, \"cumulative_sum\": 12, \"estado\": \"Mato Grosso\", \"regiao\": \" CO\"}, {\"ano_coleta\": 1959.0, \"regiao_e_estado\": \"Mato Grosso, CO\", \"counts\": 1, \"cumulative_sum\": 13, \"estado\": \"Mato Grosso\", \"regiao\": \" CO\"}, {\"ano_coleta\": 1960.0, \"regiao_e_estado\": \"Mato Grosso, CO\", \"counts\": 1, \"cumulative_sum\": 14, \"estado\": \"Mato Grosso\", \"regiao\": \" CO\"}, {\"ano_coleta\": 1963.0, \"regiao_e_estado\": \"Mato Grosso, CO\", \"counts\": 1, \"cumulative_sum\": 15, \"estado\": \"Mato Grosso\", \"regiao\": \" CO\"}, {\"ano_coleta\": 1968.0, \"regiao_e_estado\": \"Mato Grosso, CO\", \"counts\": 1, \"cumulative_sum\": 16, \"estado\": \"Mato Grosso\", \"regiao\": \" CO\"}, {\"ano_coleta\": 1971.0, \"regiao_e_estado\": \"Mato Grosso, CO\", \"counts\": 1, \"cumulative_sum\": 17, \"estado\": \"Mato Grosso\", \"regiao\": \" CO\"}, {\"ano_coleta\": 1972.0, \"regiao_e_estado\": \"Mato Grosso, CO\", \"counts\": 1, \"cumulative_sum\": 18, \"estado\": \"Mato Grosso\", \"regiao\": \" CO\"}, {\"ano_coleta\": 1974.0, \"regiao_e_estado\": \"Mato Grosso, CO\", \"counts\": 1, \"cumulative_sum\": 19, \"estado\": \"Mato Grosso\", \"regiao\": \" CO\"}, {\"ano_coleta\": 1975.0, \"regiao_e_estado\": \"Mato Grosso, CO\", \"counts\": 2, \"cumulative_sum\": 21, \"estado\": \"Mato Grosso\", \"regiao\": \" CO\"}, {\"ano_coleta\": 1976.0, \"regiao_e_estado\": \"Mato Grosso, CO\", \"counts\": 1, \"cumulative_sum\": 22, \"estado\": \"Mato Grosso\", \"regiao\": \" CO\"}, {\"ano_coleta\": 1981.0, \"regiao_e_estado\": \"Mato Grosso, CO\", \"counts\": 1, \"cumulative_sum\": 23, \"estado\": \"Mato Grosso\", \"regiao\": \" CO\"}, {\"ano_coleta\": 1983.0, \"regiao_e_estado\": \"Mato Grosso, CO\", \"counts\": 1, \"cumulative_sum\": 24, \"estado\": \"Mato Grosso\", \"regiao\": \" CO\"}, {\"ano_coleta\": 1984.0, \"regiao_e_estado\": \"Mato Grosso, CO\", \"counts\": 1, \"cumulative_sum\": 25, \"estado\": \"Mato Grosso\", \"regiao\": \" CO\"}, {\"ano_coleta\": 1985.0, \"regiao_e_estado\": \"Mato Grosso, CO\", \"counts\": 1, \"cumulative_sum\": 26, \"estado\": \"Mato Grosso\", \"regiao\": \" CO\"}, {\"ano_coleta\": 1987.0, \"regiao_e_estado\": \"Mato Grosso, CO\", \"counts\": 2, \"cumulative_sum\": 28, \"estado\": \"Mato Grosso\", \"regiao\": \" CO\"}, {\"ano_coleta\": 1988.0, \"regiao_e_estado\": \"Mato Grosso, CO\", \"counts\": 1, \"cumulative_sum\": 29, \"estado\": \"Mato Grosso\", \"regiao\": \" CO\"}, {\"ano_coleta\": 1989.0, \"regiao_e_estado\": \"Mato Grosso, CO\", \"counts\": 1, \"cumulative_sum\": 30, \"estado\": \"Mato Grosso\", \"regiao\": \" CO\"}, {\"ano_coleta\": 1990.0, \"regiao_e_estado\": \"Mato Grosso, CO\", \"counts\": 1, \"cumulative_sum\": 31, \"estado\": \"Mato Grosso\", \"regiao\": \" CO\"}, {\"ano_coleta\": 1992.0, \"regiao_e_estado\": \"Mato Grosso, CO\", \"counts\": 1, \"cumulative_sum\": 32, \"estado\": \"Mato Grosso\", \"regiao\": \" CO\"}, {\"ano_coleta\": 1995.0, \"regiao_e_estado\": \"Mato Grosso, CO\", \"counts\": 1, \"cumulative_sum\": 33, \"estado\": \"Mato Grosso\", \"regiao\": \" CO\"}, {\"ano_coleta\": 1996.0, \"regiao_e_estado\": \"Mato Grosso, CO\", \"counts\": 1, \"cumulative_sum\": 34, \"estado\": \"Mato Grosso\", \"regiao\": \" CO\"}, {\"ano_coleta\": 1998.0, \"regiao_e_estado\": \"Mato Grosso, CO\", \"counts\": 1, \"cumulative_sum\": 35, \"estado\": \"Mato Grosso\", \"regiao\": \" CO\"}, {\"ano_coleta\": 1999.0, \"regiao_e_estado\": \"Mato Grosso, CO\", \"counts\": 2, \"cumulative_sum\": 37, \"estado\": \"Mato Grosso\", \"regiao\": \" CO\"}, {\"ano_coleta\": 2000.0, \"regiao_e_estado\": \"Mato Grosso, CO\", \"counts\": 2, \"cumulative_sum\": 39, \"estado\": \"Mato Grosso\", \"regiao\": \" CO\"}, {\"ano_coleta\": 2001.0, \"regiao_e_estado\": \"Mato Grosso, CO\", \"counts\": 1, \"cumulative_sum\": 40, \"estado\": \"Mato Grosso\", \"regiao\": \" CO\"}, {\"ano_coleta\": 2002.0, \"regiao_e_estado\": \"Mato Grosso, CO\", \"counts\": 1, \"cumulative_sum\": 41, \"estado\": \"Mato Grosso\", \"regiao\": \" CO\"}, {\"ano_coleta\": 2003.0, \"regiao_e_estado\": \"Mato Grosso, CO\", \"counts\": 1, \"cumulative_sum\": 42, \"estado\": \"Mato Grosso\", \"regiao\": \" CO\"}, {\"ano_coleta\": 2005.0, \"regiao_e_estado\": \"Mato Grosso, CO\", \"counts\": 1, \"cumulative_sum\": 43, \"estado\": \"Mato Grosso\", \"regiao\": \" CO\"}, {\"ano_coleta\": 2006.0, \"regiao_e_estado\": \"Mato Grosso, CO\", \"counts\": 2, \"cumulative_sum\": 45, \"estado\": \"Mato Grosso\", \"regiao\": \" CO\"}, {\"ano_coleta\": 2007.0, \"regiao_e_estado\": \"Mato Grosso, CO\", \"counts\": 1, \"cumulative_sum\": 46, \"estado\": \"Mato Grosso\", \"regiao\": \" CO\"}, {\"ano_coleta\": 2008.0, \"regiao_e_estado\": \"Mato Grosso, CO\", \"counts\": 1, \"cumulative_sum\": 47, \"estado\": \"Mato Grosso\", \"regiao\": \" CO\"}, {\"ano_coleta\": 2012.0, \"regiao_e_estado\": \"Mato Grosso, CO\", \"counts\": 1, \"cumulative_sum\": 48, \"estado\": \"Mato Grosso\", \"regiao\": \" CO\"}, {\"ano_coleta\": 2013.0, \"regiao_e_estado\": \"Mato Grosso, CO\", \"counts\": 3, \"cumulative_sum\": 51, \"estado\": \"Mato Grosso\", \"regiao\": \" CO\"}, {\"ano_coleta\": 1942.0, \"regiao_e_estado\": \"Minas Gerais, SE\", \"counts\": 1, \"cumulative_sum\": 1, \"estado\": \"Minas Gerais\", \"regiao\": \" SE\"}, {\"ano_coleta\": 1944.0, \"regiao_e_estado\": \"Minas Gerais, SE\", \"counts\": 1, \"cumulative_sum\": 2, \"estado\": \"Minas Gerais\", \"regiao\": \" SE\"}, {\"ano_coleta\": 1945.0, \"regiao_e_estado\": \"Minas Gerais, SE\", \"counts\": 1, \"cumulative_sum\": 3, \"estado\": \"Minas Gerais\", \"regiao\": \" SE\"}, {\"ano_coleta\": 1947.0, \"regiao_e_estado\": \"Minas Gerais, SE\", \"counts\": 1, \"cumulative_sum\": 4, \"estado\": \"Minas Gerais\", \"regiao\": \" SE\"}, {\"ano_coleta\": 1955.0, \"regiao_e_estado\": \"Minas Gerais, SE\", \"counts\": 1, \"cumulative_sum\": 5, \"estado\": \"Minas Gerais\", \"regiao\": \" SE\"}, {\"ano_coleta\": 1956.0, \"regiao_e_estado\": \"Minas Gerais, SE\", \"counts\": 1, \"cumulative_sum\": 6, \"estado\": \"Minas Gerais\", \"regiao\": \" SE\"}, {\"ano_coleta\": 1957.0, \"regiao_e_estado\": \"Minas Gerais, SE\", \"counts\": 1, \"cumulative_sum\": 7, \"estado\": \"Minas Gerais\", \"regiao\": \" SE\"}, {\"ano_coleta\": 1958.0, \"regiao_e_estado\": \"Minas Gerais, SE\", \"counts\": 1, \"cumulative_sum\": 8, \"estado\": \"Minas Gerais\", \"regiao\": \" SE\"}, {\"ano_coleta\": 1959.0, \"regiao_e_estado\": \"Minas Gerais, SE\", \"counts\": 1, \"cumulative_sum\": 9, \"estado\": \"Minas Gerais\", \"regiao\": \" SE\"}, {\"ano_coleta\": 1960.0, \"regiao_e_estado\": \"Minas Gerais, SE\", \"counts\": 1, \"cumulative_sum\": 10, \"estado\": \"Minas Gerais\", \"regiao\": \" SE\"}, {\"ano_coleta\": 1963.0, \"regiao_e_estado\": \"Minas Gerais, SE\", \"counts\": 1, \"cumulative_sum\": 11, \"estado\": \"Minas Gerais\", \"regiao\": \" SE\"}, {\"ano_coleta\": 1964.0, \"regiao_e_estado\": \"Minas Gerais, SE\", \"counts\": 1, \"cumulative_sum\": 12, \"estado\": \"Minas Gerais\", \"regiao\": \" SE\"}, {\"ano_coleta\": 1965.0, \"regiao_e_estado\": \"Minas Gerais, SE\", \"counts\": 1, \"cumulative_sum\": 13, \"estado\": \"Minas Gerais\", \"regiao\": \" SE\"}, {\"ano_coleta\": 1966.0, \"regiao_e_estado\": \"Minas Gerais, SE\", \"counts\": 1, \"cumulative_sum\": 14, \"estado\": \"Minas Gerais\", \"regiao\": \" SE\"}, {\"ano_coleta\": 1967.0, \"regiao_e_estado\": \"Minas Gerais, SE\", \"counts\": 1, \"cumulative_sum\": 15, \"estado\": \"Minas Gerais\", \"regiao\": \" SE\"}, {\"ano_coleta\": 1971.0, \"regiao_e_estado\": \"Minas Gerais, SE\", \"counts\": 1, \"cumulative_sum\": 16, \"estado\": \"Minas Gerais\", \"regiao\": \" SE\"}, {\"ano_coleta\": 1973.0, \"regiao_e_estado\": \"Minas Gerais, SE\", \"counts\": 1, \"cumulative_sum\": 17, \"estado\": \"Minas Gerais\", \"regiao\": \" SE\"}, {\"ano_coleta\": 1975.0, \"regiao_e_estado\": \"Minas Gerais, SE\", \"counts\": 1, \"cumulative_sum\": 18, \"estado\": \"Minas Gerais\", \"regiao\": \" SE\"}, {\"ano_coleta\": 1979.0, \"regiao_e_estado\": \"Minas Gerais, SE\", \"counts\": 1, \"cumulative_sum\": 19, \"estado\": \"Minas Gerais\", \"regiao\": \" SE\"}, {\"ano_coleta\": 1980.0, \"regiao_e_estado\": \"Minas Gerais, SE\", \"counts\": 1, \"cumulative_sum\": 20, \"estado\": \"Minas Gerais\", \"regiao\": \" SE\"}, {\"ano_coleta\": 1984.0, \"regiao_e_estado\": \"Minas Gerais, SE\", \"counts\": 1, \"cumulative_sum\": 21, \"estado\": \"Minas Gerais\", \"regiao\": \" SE\"}, {\"ano_coleta\": 1985.0, \"regiao_e_estado\": \"Minas Gerais, SE\", \"counts\": 1, \"cumulative_sum\": 22, \"estado\": \"Minas Gerais\", \"regiao\": \" SE\"}, {\"ano_coleta\": 1986.0, \"regiao_e_estado\": \"Minas Gerais, SE\", \"counts\": 3, \"cumulative_sum\": 25, \"estado\": \"Minas Gerais\", \"regiao\": \" SE\"}, {\"ano_coleta\": 1987.0, \"regiao_e_estado\": \"Minas Gerais, SE\", \"counts\": 2, \"cumulative_sum\": 27, \"estado\": \"Minas Gerais\", \"regiao\": \" SE\"}, {\"ano_coleta\": 1988.0, \"regiao_e_estado\": \"Minas Gerais, SE\", \"counts\": 1, \"cumulative_sum\": 28, \"estado\": \"Minas Gerais\", \"regiao\": \" SE\"}, {\"ano_coleta\": 1989.0, \"regiao_e_estado\": \"Minas Gerais, SE\", \"counts\": 3, \"cumulative_sum\": 31, \"estado\": \"Minas Gerais\", \"regiao\": \" SE\"}, {\"ano_coleta\": 1990.0, \"regiao_e_estado\": \"Minas Gerais, SE\", \"counts\": 2, \"cumulative_sum\": 33, \"estado\": \"Minas Gerais\", \"regiao\": \" SE\"}, {\"ano_coleta\": 1991.0, \"regiao_e_estado\": \"Minas Gerais, SE\", \"counts\": 1, \"cumulative_sum\": 34, \"estado\": \"Minas Gerais\", \"regiao\": \" SE\"}, {\"ano_coleta\": 1992.0, \"regiao_e_estado\": \"Minas Gerais, SE\", \"counts\": 1, \"cumulative_sum\": 35, \"estado\": \"Minas Gerais\", \"regiao\": \" SE\"}, {\"ano_coleta\": 1993.0, \"regiao_e_estado\": \"Minas Gerais, SE\", \"counts\": 1, \"cumulative_sum\": 36, \"estado\": \"Minas Gerais\", \"regiao\": \" SE\"}, {\"ano_coleta\": 1994.0, \"regiao_e_estado\": \"Minas Gerais, SE\", \"counts\": 1, \"cumulative_sum\": 37, \"estado\": \"Minas Gerais\", \"regiao\": \" SE\"}, {\"ano_coleta\": 1995.0, \"regiao_e_estado\": \"Minas Gerais, SE\", \"counts\": 1, \"cumulative_sum\": 38, \"estado\": \"Minas Gerais\", \"regiao\": \" SE\"}, {\"ano_coleta\": 1996.0, \"regiao_e_estado\": \"Minas Gerais, SE\", \"counts\": 1, \"cumulative_sum\": 39, \"estado\": \"Minas Gerais\", \"regiao\": \" SE\"}, {\"ano_coleta\": 1997.0, \"regiao_e_estado\": \"Minas Gerais, SE\", \"counts\": 1, \"cumulative_sum\": 40, \"estado\": \"Minas Gerais\", \"regiao\": \" SE\"}, {\"ano_coleta\": 1998.0, \"regiao_e_estado\": \"Minas Gerais, SE\", \"counts\": 1, \"cumulative_sum\": 41, \"estado\": \"Minas Gerais\", \"regiao\": \" SE\"}, {\"ano_coleta\": 1999.0, \"regiao_e_estado\": \"Minas Gerais, SE\", \"counts\": 1, \"cumulative_sum\": 42, \"estado\": \"Minas Gerais\", \"regiao\": \" SE\"}, {\"ano_coleta\": 2000.0, \"regiao_e_estado\": \"Minas Gerais, SE\", \"counts\": 1, \"cumulative_sum\": 43, \"estado\": \"Minas Gerais\", \"regiao\": \" SE\"}, {\"ano_coleta\": 2001.0, \"regiao_e_estado\": \"Minas Gerais, SE\", \"counts\": 1, \"cumulative_sum\": 44, \"estado\": \"Minas Gerais\", \"regiao\": \" SE\"}, {\"ano_coleta\": 2002.0, \"regiao_e_estado\": \"Minas Gerais, SE\", \"counts\": 1, \"cumulative_sum\": 45, \"estado\": \"Minas Gerais\", \"regiao\": \" SE\"}, {\"ano_coleta\": 2003.0, \"regiao_e_estado\": \"Minas Gerais, SE\", \"counts\": 1, \"cumulative_sum\": 46, \"estado\": \"Minas Gerais\", \"regiao\": \" SE\"}, {\"ano_coleta\": 2004.0, \"regiao_e_estado\": \"Minas Gerais, SE\", \"counts\": 2, \"cumulative_sum\": 48, \"estado\": \"Minas Gerais\", \"regiao\": \" SE\"}, {\"ano_coleta\": 2005.0, \"regiao_e_estado\": \"Minas Gerais, SE\", \"counts\": 1, \"cumulative_sum\": 49, \"estado\": \"Minas Gerais\", \"regiao\": \" SE\"}, {\"ano_coleta\": 2006.0, \"regiao_e_estado\": \"Minas Gerais, SE\", \"counts\": 2, \"cumulative_sum\": 51, \"estado\": \"Minas Gerais\", \"regiao\": \" SE\"}, {\"ano_coleta\": 2007.0, \"regiao_e_estado\": \"Minas Gerais, SE\", \"counts\": 3, \"cumulative_sum\": 54, \"estado\": \"Minas Gerais\", \"regiao\": \" SE\"}, {\"ano_coleta\": 2008.0, \"regiao_e_estado\": \"Minas Gerais, SE\", \"counts\": 1, \"cumulative_sum\": 55, \"estado\": \"Minas Gerais\", \"regiao\": \" SE\"}, {\"ano_coleta\": 2009.0, \"regiao_e_estado\": \"Minas Gerais, SE\", \"counts\": 2, \"cumulative_sum\": 57, \"estado\": \"Minas Gerais\", \"regiao\": \" SE\"}, {\"ano_coleta\": 2010.0, \"regiao_e_estado\": \"Minas Gerais, SE\", \"counts\": 1, \"cumulative_sum\": 58, \"estado\": \"Minas Gerais\", \"regiao\": \" SE\"}, {\"ano_coleta\": 2011.0, \"regiao_e_estado\": \"Minas Gerais, SE\", \"counts\": 1, \"cumulative_sum\": 59, \"estado\": \"Minas Gerais\", \"regiao\": \" SE\"}, {\"ano_coleta\": 2012.0, \"regiao_e_estado\": \"Minas Gerais, SE\", \"counts\": 1, \"cumulative_sum\": 60, \"estado\": \"Minas Gerais\", \"regiao\": \" SE\"}, {\"ano_coleta\": 2013.0, \"regiao_e_estado\": \"Minas Gerais, SE\", \"counts\": 1, \"cumulative_sum\": 61, \"estado\": \"Minas Gerais\", \"regiao\": \" SE\"}, {\"ano_coleta\": 2014.0, \"regiao_e_estado\": \"Minas Gerais, SE\", \"counts\": 2, \"cumulative_sum\": 63, \"estado\": \"Minas Gerais\", \"regiao\": \" SE\"}, {\"ano_coleta\": 2015.0, \"regiao_e_estado\": \"Minas Gerais, SE\", \"counts\": 1, \"cumulative_sum\": 64, \"estado\": \"Minas Gerais\", \"regiao\": \" SE\"}, {\"ano_coleta\": 2016.0, \"regiao_e_estado\": \"Minas Gerais, SE\", \"counts\": 1, \"cumulative_sum\": 65, \"estado\": \"Minas Gerais\", \"regiao\": \" SE\"}, {\"ano_coleta\": 2003.0, \"regiao_e_estado\": \"Minas Gerais/Goi\\u00e1s/Distrito Federal, CO\", \"counts\": 1, \"cumulative_sum\": 1, \"estado\": \"Minas Gerais/Goi\\u00e1s/Distrito Federal\", \"regiao\": \" CO\"}, {\"ano_coleta\": 2004.0, \"regiao_e_estado\": \"Minas Gerais/Goi\\u00e1s/Distrito Federal, CO\", \"counts\": 1, \"cumulative_sum\": 2, \"estado\": \"Minas Gerais/Goi\\u00e1s/Distrito Federal\", \"regiao\": \" CO\"}, {\"ano_coleta\": 1944.0, \"regiao_e_estado\": \"Paran\\u00e1, S\", \"counts\": 1, \"cumulative_sum\": 1, \"estado\": \"Paran\\u00e1\", \"regiao\": \" S\"}, {\"ano_coleta\": 1949.0, \"regiao_e_estado\": \"Paran\\u00e1, S\", \"counts\": 1, \"cumulative_sum\": 2, \"estado\": \"Paran\\u00e1\", \"regiao\": \" S\"}, {\"ano_coleta\": 1953.0, \"regiao_e_estado\": \"Paran\\u00e1, S\", \"counts\": 1, \"cumulative_sum\": 3, \"estado\": \"Paran\\u00e1\", \"regiao\": \" S\"}, {\"ano_coleta\": 1964.0, \"regiao_e_estado\": \"Paran\\u00e1, S\", \"counts\": 1, \"cumulative_sum\": 4, \"estado\": \"Paran\\u00e1\", \"regiao\": \" S\"}, {\"ano_coleta\": 1985.0, \"regiao_e_estado\": \"Paran\\u00e1, S\", \"counts\": 1, \"cumulative_sum\": 5, \"estado\": \"Paran\\u00e1\", \"regiao\": \" S\"}, {\"ano_coleta\": 1986.0, \"regiao_e_estado\": \"Paran\\u00e1, S\", \"counts\": 1, \"cumulative_sum\": 6, \"estado\": \"Paran\\u00e1\", \"regiao\": \" S\"}, {\"ano_coleta\": 1987.0, \"regiao_e_estado\": \"Paran\\u00e1, S\", \"counts\": 1, \"cumulative_sum\": 7, \"estado\": \"Paran\\u00e1\", \"regiao\": \" S\"}, {\"ano_coleta\": 1988.0, \"regiao_e_estado\": \"Paran\\u00e1, S\", \"counts\": 1, \"cumulative_sum\": 8, \"estado\": \"Paran\\u00e1\", \"regiao\": \" S\"}, {\"ano_coleta\": 1989.0, \"regiao_e_estado\": \"Paran\\u00e1, S\", \"counts\": 1, \"cumulative_sum\": 9, \"estado\": \"Paran\\u00e1\", \"regiao\": \" S\"}, {\"ano_coleta\": 1990.0, \"regiao_e_estado\": \"Paran\\u00e1, S\", \"counts\": 1, \"cumulative_sum\": 10, \"estado\": \"Paran\\u00e1\", \"regiao\": \" S\"}, {\"ano_coleta\": 1991.0, \"regiao_e_estado\": \"Paran\\u00e1, S\", \"counts\": 1, \"cumulative_sum\": 11, \"estado\": \"Paran\\u00e1\", \"regiao\": \" S\"}, {\"ano_coleta\": 2004.0, \"regiao_e_estado\": \"Paran\\u00e1, S\", \"counts\": 1, \"cumulative_sum\": 12, \"estado\": \"Paran\\u00e1\", \"regiao\": \" S\"}, {\"ano_coleta\": 2006.0, \"regiao_e_estado\": \"Paran\\u00e1, S\", \"counts\": 1, \"cumulative_sum\": 13, \"estado\": \"Paran\\u00e1\", \"regiao\": \" S\"}, {\"ano_coleta\": 2011.0, \"regiao_e_estado\": \"Paran\\u00e1, S\", \"counts\": 1, \"cumulative_sum\": 14, \"estado\": \"Paran\\u00e1\", \"regiao\": \" S\"}, {\"ano_coleta\": 2014.0, \"regiao_e_estado\": \"Paran\\u00e1, S\", \"counts\": 1, \"cumulative_sum\": 15, \"estado\": \"Paran\\u00e1\", \"regiao\": \" S\"}, {\"ano_coleta\": 2015.0, \"regiao_e_estado\": \"Paran\\u00e1, S\", \"counts\": 1, \"cumulative_sum\": 16, \"estado\": \"Paran\\u00e1\", \"regiao\": \" S\"}, {\"ano_coleta\": 1956.0, \"regiao_e_estado\": \"Para\\u00edba, NE\", \"counts\": 1, \"cumulative_sum\": 1, \"estado\": \"Para\\u00edba\", \"regiao\": \" NE\"}, {\"ano_coleta\": 1962.0, \"regiao_e_estado\": \"Para\\u00edba, NE\", \"counts\": 1, \"cumulative_sum\": 2, \"estado\": \"Para\\u00edba\", \"regiao\": \" NE\"}, {\"ano_coleta\": 1989.0, \"regiao_e_estado\": \"Para\\u00edba, NE\", \"counts\": 1, \"cumulative_sum\": 3, \"estado\": \"Para\\u00edba\", \"regiao\": \" NE\"}, {\"ano_coleta\": 1990.0, \"regiao_e_estado\": \"Para\\u00edba, NE\", \"counts\": 1, \"cumulative_sum\": 4, \"estado\": \"Para\\u00edba\", \"regiao\": \" NE\"}, {\"ano_coleta\": 1993.0, \"regiao_e_estado\": \"Para\\u00edba, NE\", \"counts\": 1, \"cumulative_sum\": 5, \"estado\": \"Para\\u00edba\", \"regiao\": \" NE\"}, {\"ano_coleta\": 1996.0, \"regiao_e_estado\": \"Para\\u00edba, NE\", \"counts\": 1, \"cumulative_sum\": 6, \"estado\": \"Para\\u00edba\", \"regiao\": \" NE\"}, {\"ano_coleta\": 1998.0, \"regiao_e_estado\": \"Para\\u00edba, NE\", \"counts\": 2, \"cumulative_sum\": 8, \"estado\": \"Para\\u00edba\", \"regiao\": \" NE\"}, {\"ano_coleta\": 1999.0, \"regiao_e_estado\": \"Para\\u00edba, NE\", \"counts\": 1, \"cumulative_sum\": 9, \"estado\": \"Para\\u00edba\", \"regiao\": \" NE\"}, {\"ano_coleta\": 2003.0, \"regiao_e_estado\": \"Para\\u00edba, NE\", \"counts\": 1, \"cumulative_sum\": 10, \"estado\": \"Para\\u00edba\", \"regiao\": \" NE\"}, {\"ano_coleta\": 2008.0, \"regiao_e_estado\": \"Para\\u00edba, NE\", \"counts\": 1, \"cumulative_sum\": 11, \"estado\": \"Para\\u00edba\", \"regiao\": \" NE\"}, {\"ano_coleta\": 2009.0, \"regiao_e_estado\": \"Para\\u00edba, NE\", \"counts\": 2, \"cumulative_sum\": 13, \"estado\": \"Para\\u00edba\", \"regiao\": \" NE\"}, {\"ano_coleta\": 2011.0, \"regiao_e_estado\": \"Para\\u00edba, NE\", \"counts\": 1, \"cumulative_sum\": 14, \"estado\": \"Para\\u00edba\", \"regiao\": \" NE\"}, {\"ano_coleta\": 1937.0, \"regiao_e_estado\": \"Par\\u00e1, N\", \"counts\": 1, \"cumulative_sum\": 1, \"estado\": \"Par\\u00e1\", \"regiao\": \" N\"}, {\"ano_coleta\": 1940.0, \"regiao_e_estado\": \"Par\\u00e1, N\", \"counts\": 1, \"cumulative_sum\": 2, \"estado\": \"Par\\u00e1\", \"regiao\": \" N\"}, {\"ano_coleta\": 1944.0, \"regiao_e_estado\": \"Par\\u00e1, N\", \"counts\": 1, \"cumulative_sum\": 3, \"estado\": \"Par\\u00e1\", \"regiao\": \" N\"}, {\"ano_coleta\": 1948.0, \"regiao_e_estado\": \"Par\\u00e1, N\", \"counts\": 1, \"cumulative_sum\": 4, \"estado\": \"Par\\u00e1\", \"regiao\": \" N\"}, {\"ano_coleta\": 1950.0, \"regiao_e_estado\": \"Par\\u00e1, N\", \"counts\": 1, \"cumulative_sum\": 5, \"estado\": \"Par\\u00e1\", \"regiao\": \" N\"}, {\"ano_coleta\": 1951.0, \"regiao_e_estado\": \"Par\\u00e1, N\", \"counts\": 1, \"cumulative_sum\": 6, \"estado\": \"Par\\u00e1\", \"regiao\": \" N\"}, {\"ano_coleta\": 1952.0, \"regiao_e_estado\": \"Par\\u00e1, N\", \"counts\": 1, \"cumulative_sum\": 7, \"estado\": \"Par\\u00e1\", \"regiao\": \" N\"}, {\"ano_coleta\": 1954.0, \"regiao_e_estado\": \"Par\\u00e1, N\", \"counts\": 1, \"cumulative_sum\": 8, \"estado\": \"Par\\u00e1\", \"regiao\": \" N\"}, {\"ano_coleta\": 1957.0, \"regiao_e_estado\": \"Par\\u00e1, N\", \"counts\": 1, \"cumulative_sum\": 9, \"estado\": \"Par\\u00e1\", \"regiao\": \" N\"}, {\"ano_coleta\": 1958.0, \"regiao_e_estado\": \"Par\\u00e1, N\", \"counts\": 1, \"cumulative_sum\": 10, \"estado\": \"Par\\u00e1\", \"regiao\": \" N\"}, {\"ano_coleta\": 1959.0, \"regiao_e_estado\": \"Par\\u00e1, N\", \"counts\": 1, \"cumulative_sum\": 11, \"estado\": \"Par\\u00e1\", \"regiao\": \" N\"}, {\"ano_coleta\": 1961.0, \"regiao_e_estado\": \"Par\\u00e1, N\", \"counts\": 1, \"cumulative_sum\": 12, \"estado\": \"Par\\u00e1\", \"regiao\": \" N\"}, {\"ano_coleta\": 1963.0, \"regiao_e_estado\": \"Par\\u00e1, N\", \"counts\": 1, \"cumulative_sum\": 13, \"estado\": \"Par\\u00e1\", \"regiao\": \" N\"}, {\"ano_coleta\": 1965.0, \"regiao_e_estado\": \"Par\\u00e1, N\", \"counts\": 1, \"cumulative_sum\": 14, \"estado\": \"Par\\u00e1\", \"regiao\": \" N\"}, {\"ano_coleta\": 1967.0, \"regiao_e_estado\": \"Par\\u00e1, N\", \"counts\": 2, \"cumulative_sum\": 16, \"estado\": \"Par\\u00e1\", \"regiao\": \" N\"}, {\"ano_coleta\": 1968.0, \"regiao_e_estado\": \"Par\\u00e1, N\", \"counts\": 1, \"cumulative_sum\": 17, \"estado\": \"Par\\u00e1\", \"regiao\": \" N\"}, {\"ano_coleta\": 1971.0, \"regiao_e_estado\": \"Par\\u00e1, N\", \"counts\": 1, \"cumulative_sum\": 18, \"estado\": \"Par\\u00e1\", \"regiao\": \" N\"}, {\"ano_coleta\": 1973.0, \"regiao_e_estado\": \"Par\\u00e1, N\", \"counts\": 1, \"cumulative_sum\": 19, \"estado\": \"Par\\u00e1\", \"regiao\": \" N\"}, {\"ano_coleta\": 1976.0, \"regiao_e_estado\": \"Par\\u00e1, N\", \"counts\": 1, \"cumulative_sum\": 20, \"estado\": \"Par\\u00e1\", \"regiao\": \" N\"}, {\"ano_coleta\": 1978.0, \"regiao_e_estado\": \"Par\\u00e1, N\", \"counts\": 1, \"cumulative_sum\": 21, \"estado\": \"Par\\u00e1\", \"regiao\": \" N\"}, {\"ano_coleta\": 1979.0, \"regiao_e_estado\": \"Par\\u00e1, N\", \"counts\": 1, \"cumulative_sum\": 22, \"estado\": \"Par\\u00e1\", \"regiao\": \" N\"}, {\"ano_coleta\": 1984.0, \"regiao_e_estado\": \"Par\\u00e1, N\", \"counts\": 1, \"cumulative_sum\": 23, \"estado\": \"Par\\u00e1\", \"regiao\": \" N\"}, {\"ano_coleta\": 1985.0, \"regiao_e_estado\": \"Par\\u00e1, N\", \"counts\": 1, \"cumulative_sum\": 24, \"estado\": \"Par\\u00e1\", \"regiao\": \" N\"}, {\"ano_coleta\": 1986.0, \"regiao_e_estado\": \"Par\\u00e1, N\", \"counts\": 1, \"cumulative_sum\": 25, \"estado\": \"Par\\u00e1\", \"regiao\": \" N\"}, {\"ano_coleta\": 1987.0, \"regiao_e_estado\": \"Par\\u00e1, N\", \"counts\": 1, \"cumulative_sum\": 26, \"estado\": \"Par\\u00e1\", \"regiao\": \" N\"}, {\"ano_coleta\": 1988.0, \"regiao_e_estado\": \"Par\\u00e1, N\", \"counts\": 2, \"cumulative_sum\": 28, \"estado\": \"Par\\u00e1\", \"regiao\": \" N\"}, {\"ano_coleta\": 1991.0, \"regiao_e_estado\": \"Par\\u00e1, N\", \"counts\": 2, \"cumulative_sum\": 30, \"estado\": \"Par\\u00e1\", \"regiao\": \" N\"}, {\"ano_coleta\": 1994.0, \"regiao_e_estado\": \"Par\\u00e1, N\", \"counts\": 1, \"cumulative_sum\": 31, \"estado\": \"Par\\u00e1\", \"regiao\": \" N\"}, {\"ano_coleta\": 1996.0, \"regiao_e_estado\": \"Par\\u00e1, N\", \"counts\": 1, \"cumulative_sum\": 32, \"estado\": \"Par\\u00e1\", \"regiao\": \" N\"}, {\"ano_coleta\": 1997.0, \"regiao_e_estado\": \"Par\\u00e1, N\", \"counts\": 1, \"cumulative_sum\": 33, \"estado\": \"Par\\u00e1\", \"regiao\": \" N\"}, {\"ano_coleta\": 2001.0, \"regiao_e_estado\": \"Par\\u00e1, N\", \"counts\": 1, \"cumulative_sum\": 34, \"estado\": \"Par\\u00e1\", \"regiao\": \" N\"}, {\"ano_coleta\": 2003.0, \"regiao_e_estado\": \"Par\\u00e1, N\", \"counts\": 1, \"cumulative_sum\": 35, \"estado\": \"Par\\u00e1\", \"regiao\": \" N\"}, {\"ano_coleta\": 2005.0, \"regiao_e_estado\": \"Par\\u00e1, N\", \"counts\": 2, \"cumulative_sum\": 37, \"estado\": \"Par\\u00e1\", \"regiao\": \" N\"}, {\"ano_coleta\": 2006.0, \"regiao_e_estado\": \"Par\\u00e1, N\", \"counts\": 3, \"cumulative_sum\": 40, \"estado\": \"Par\\u00e1\", \"regiao\": \" N\"}, {\"ano_coleta\": 2007.0, \"regiao_e_estado\": \"Par\\u00e1, N\", \"counts\": 1, \"cumulative_sum\": 41, \"estado\": \"Par\\u00e1\", \"regiao\": \" N\"}, {\"ano_coleta\": 2008.0, \"regiao_e_estado\": \"Par\\u00e1, N\", \"counts\": 3, \"cumulative_sum\": 44, \"estado\": \"Par\\u00e1\", \"regiao\": \" N\"}, {\"ano_coleta\": 2009.0, \"regiao_e_estado\": \"Par\\u00e1, N\", \"counts\": 1, \"cumulative_sum\": 45, \"estado\": \"Par\\u00e1\", \"regiao\": \" N\"}, {\"ano_coleta\": 2010.0, \"regiao_e_estado\": \"Par\\u00e1, N\", \"counts\": 1, \"cumulative_sum\": 46, \"estado\": \"Par\\u00e1\", \"regiao\": \" N\"}, {\"ano_coleta\": 2011.0, \"regiao_e_estado\": \"Par\\u00e1, N\", \"counts\": 1, \"cumulative_sum\": 47, \"estado\": \"Par\\u00e1\", \"regiao\": \" N\"}, {\"ano_coleta\": 2012.0, \"regiao_e_estado\": \"Par\\u00e1, N\", \"counts\": 1, \"cumulative_sum\": 48, \"estado\": \"Par\\u00e1\", \"regiao\": \" N\"}, {\"ano_coleta\": 2013.0, \"regiao_e_estado\": \"Par\\u00e1, N\", \"counts\": 1, \"cumulative_sum\": 49, \"estado\": \"Par\\u00e1\", \"regiao\": \" N\"}, {\"ano_coleta\": 2014.0, \"regiao_e_estado\": \"Par\\u00e1, N\", \"counts\": 1, \"cumulative_sum\": 50, \"estado\": \"Par\\u00e1\", \"regiao\": \" N\"}, {\"ano_coleta\": 2015.0, \"regiao_e_estado\": \"Par\\u00e1, N\", \"counts\": 1, \"cumulative_sum\": 51, \"estado\": \"Par\\u00e1\", \"regiao\": \" N\"}, {\"ano_coleta\": 2016.0, \"regiao_e_estado\": \"Par\\u00e1, N\", \"counts\": 1, \"cumulative_sum\": 52, \"estado\": \"Par\\u00e1\", \"regiao\": \" N\"}, {\"ano_coleta\": 1876.0, \"regiao_e_estado\": \"Pernambuco, NE\", \"counts\": 1, \"cumulative_sum\": 1, \"estado\": \"Pernambuco\", \"regiao\": \" NE\"}, {\"ano_coleta\": 1936.0, \"regiao_e_estado\": \"Pernambuco, NE\", \"counts\": 1, \"cumulative_sum\": 2, \"estado\": \"Pernambuco\", \"regiao\": \" NE\"}, {\"ano_coleta\": 1961.0, \"regiao_e_estado\": \"Pernambuco, NE\", \"counts\": 1, \"cumulative_sum\": 3, \"estado\": \"Pernambuco\", \"regiao\": \" NE\"}, {\"ano_coleta\": 1963.0, \"regiao_e_estado\": \"Pernambuco, NE\", \"counts\": 1, \"cumulative_sum\": 4, \"estado\": \"Pernambuco\", \"regiao\": \" NE\"}, {\"ano_coleta\": 1964.0, \"regiao_e_estado\": \"Pernambuco, NE\", \"counts\": 1, \"cumulative_sum\": 5, \"estado\": \"Pernambuco\", \"regiao\": \" NE\"}, {\"ano_coleta\": 1980.0, \"regiao_e_estado\": \"Pernambuco, NE\", \"counts\": 1, \"cumulative_sum\": 6, \"estado\": \"Pernambuco\", \"regiao\": \" NE\"}, {\"ano_coleta\": 1985.0, \"regiao_e_estado\": \"Pernambuco, NE\", \"counts\": 1, \"cumulative_sum\": 7, \"estado\": \"Pernambuco\", \"regiao\": \" NE\"}, {\"ano_coleta\": 1986.0, \"regiao_e_estado\": \"Pernambuco, NE\", \"counts\": 1, \"cumulative_sum\": 8, \"estado\": \"Pernambuco\", \"regiao\": \" NE\"}, {\"ano_coleta\": 1988.0, \"regiao_e_estado\": \"Pernambuco, NE\", \"counts\": 1, \"cumulative_sum\": 9, \"estado\": \"Pernambuco\", \"regiao\": \" NE\"}, {\"ano_coleta\": 1989.0, \"regiao_e_estado\": \"Pernambuco, NE\", \"counts\": 2, \"cumulative_sum\": 11, \"estado\": \"Pernambuco\", \"regiao\": \" NE\"}, {\"ano_coleta\": 1990.0, \"regiao_e_estado\": \"Pernambuco, NE\", \"counts\": 1, \"cumulative_sum\": 12, \"estado\": \"Pernambuco\", \"regiao\": \" NE\"}, {\"ano_coleta\": 1991.0, \"regiao_e_estado\": \"Pernambuco, NE\", \"counts\": 1, \"cumulative_sum\": 13, \"estado\": \"Pernambuco\", \"regiao\": \" NE\"}, {\"ano_coleta\": 1996.0, \"regiao_e_estado\": \"Pernambuco, NE\", \"counts\": 1, \"cumulative_sum\": 14, \"estado\": \"Pernambuco\", \"regiao\": \" NE\"}, {\"ano_coleta\": 1998.0, \"regiao_e_estado\": \"Pernambuco, NE\", \"counts\": 2, \"cumulative_sum\": 16, \"estado\": \"Pernambuco\", \"regiao\": \" NE\"}, {\"ano_coleta\": 2000.0, \"regiao_e_estado\": \"Pernambuco, NE\", \"counts\": 1, \"cumulative_sum\": 17, \"estado\": \"Pernambuco\", \"regiao\": \" NE\"}, {\"ano_coleta\": 2001.0, \"regiao_e_estado\": \"Pernambuco, NE\", \"counts\": 1, \"cumulative_sum\": 18, \"estado\": \"Pernambuco\", \"regiao\": \" NE\"}, {\"ano_coleta\": 2002.0, \"regiao_e_estado\": \"Pernambuco, NE\", \"counts\": 1, \"cumulative_sum\": 19, \"estado\": \"Pernambuco\", \"regiao\": \" NE\"}, {\"ano_coleta\": 2003.0, \"regiao_e_estado\": \"Pernambuco, NE\", \"counts\": 1, \"cumulative_sum\": 20, \"estado\": \"Pernambuco\", \"regiao\": \" NE\"}, {\"ano_coleta\": 2005.0, \"regiao_e_estado\": \"Pernambuco, NE\", \"counts\": 1, \"cumulative_sum\": 21, \"estado\": \"Pernambuco\", \"regiao\": \" NE\"}, {\"ano_coleta\": 2006.0, \"regiao_e_estado\": \"Pernambuco, NE\", \"counts\": 1, \"cumulative_sum\": 22, \"estado\": \"Pernambuco\", \"regiao\": \" NE\"}, {\"ano_coleta\": 2008.0, \"regiao_e_estado\": \"Pernambuco, NE\", \"counts\": 1, \"cumulative_sum\": 23, \"estado\": \"Pernambuco\", \"regiao\": \" NE\"}, {\"ano_coleta\": 2009.0, \"regiao_e_estado\": \"Pernambuco, NE\", \"counts\": 1, \"cumulative_sum\": 24, \"estado\": \"Pernambuco\", \"regiao\": \" NE\"}, {\"ano_coleta\": 1973.0, \"regiao_e_estado\": \"Piau\\u00ed, NE\", \"counts\": 1, \"cumulative_sum\": 1, \"estado\": \"Piau\\u00ed\", \"regiao\": \" NE\"}, {\"ano_coleta\": 1979.0, \"regiao_e_estado\": \"Piau\\u00ed, NE\", \"counts\": 1, \"cumulative_sum\": 2, \"estado\": \"Piau\\u00ed\", \"regiao\": \" NE\"}, {\"ano_coleta\": 1985.0, \"regiao_e_estado\": \"Piau\\u00ed, NE\", \"counts\": 1, \"cumulative_sum\": 3, \"estado\": \"Piau\\u00ed\", \"regiao\": \" NE\"}, {\"ano_coleta\": 1986.0, \"regiao_e_estado\": \"Piau\\u00ed, NE\", \"counts\": 1, \"cumulative_sum\": 4, \"estado\": \"Piau\\u00ed\", \"regiao\": \" NE\"}, {\"ano_coleta\": 1988.0, \"regiao_e_estado\": \"Piau\\u00ed, NE\", \"counts\": 1, \"cumulative_sum\": 5, \"estado\": \"Piau\\u00ed\", \"regiao\": \" NE\"}, {\"ano_coleta\": 1996.0, \"regiao_e_estado\": \"Piau\\u00ed, NE\", \"counts\": 1, \"cumulative_sum\": 6, \"estado\": \"Piau\\u00ed\", \"regiao\": \" NE\"}, {\"ano_coleta\": 2000.0, \"regiao_e_estado\": \"Piau\\u00ed, NE\", \"counts\": 1, \"cumulative_sum\": 7, \"estado\": \"Piau\\u00ed\", \"regiao\": \" NE\"}, {\"ano_coleta\": 2004.0, \"regiao_e_estado\": \"Piau\\u00ed, NE\", \"counts\": 1, \"cumulative_sum\": 8, \"estado\": \"Piau\\u00ed\", \"regiao\": \" NE\"}, {\"ano_coleta\": 2005.0, \"regiao_e_estado\": \"Piau\\u00ed, NE\", \"counts\": 1, \"cumulative_sum\": 9, \"estado\": \"Piau\\u00ed\", \"regiao\": \" NE\"}, {\"ano_coleta\": 2008.0, \"regiao_e_estado\": \"Piau\\u00ed, NE\", \"counts\": 1, \"cumulative_sum\": 10, \"estado\": \"Piau\\u00ed\", \"regiao\": \" NE\"}, {\"ano_coleta\": 2010.0, \"regiao_e_estado\": \"Piau\\u00ed, NE\", \"counts\": 1, \"cumulative_sum\": 11, \"estado\": \"Piau\\u00ed\", \"regiao\": \" NE\"}, {\"ano_coleta\": 2013.0, \"regiao_e_estado\": \"Piau\\u00ed, NE\", \"counts\": 1, \"cumulative_sum\": 12, \"estado\": \"Piau\\u00ed\", \"regiao\": \" NE\"}, {\"ano_coleta\": 1986.0, \"regiao_e_estado\": \"Rio Grande do Norte, NE\", \"counts\": 1, \"cumulative_sum\": 1, \"estado\": \"Rio Grande do Norte\", \"regiao\": \" NE\"}, {\"ano_coleta\": 1987.0, \"regiao_e_estado\": \"Rio Grande do Norte, NE\", \"counts\": 2, \"cumulative_sum\": 3, \"estado\": \"Rio Grande do Norte\", \"regiao\": \" NE\"}, {\"ano_coleta\": 1989.0, \"regiao_e_estado\": \"Rio Grande do Norte, NE\", \"counts\": 1, \"cumulative_sum\": 4, \"estado\": \"Rio Grande do Norte\", \"regiao\": \" NE\"}, {\"ano_coleta\": 1990.0, \"regiao_e_estado\": \"Rio Grande do Norte, NE\", \"counts\": 1, \"cumulative_sum\": 5, \"estado\": \"Rio Grande do Norte\", \"regiao\": \" NE\"}, {\"ano_coleta\": 2001.0, \"regiao_e_estado\": \"Rio Grande do Norte, NE\", \"counts\": 1, \"cumulative_sum\": 6, \"estado\": \"Rio Grande do Norte\", \"regiao\": \" NE\"}, {\"ano_coleta\": 2005.0, \"regiao_e_estado\": \"Rio Grande do Norte, NE\", \"counts\": 1, \"cumulative_sum\": 7, \"estado\": \"Rio Grande do Norte\", \"regiao\": \" NE\"}, {\"ano_coleta\": 2014.0, \"regiao_e_estado\": \"Rio Grande do Norte, NE\", \"counts\": 1, \"cumulative_sum\": 8, \"estado\": \"Rio Grande do Norte\", \"regiao\": \" NE\"}, {\"ano_coleta\": 2015.0, \"regiao_e_estado\": \"Rio Grande do Norte, NE\", \"counts\": 1, \"cumulative_sum\": 9, \"estado\": \"Rio Grande do Norte\", \"regiao\": \" NE\"}, {\"ano_coleta\": 1945.0, \"regiao_e_estado\": \"Rio Grande do Sul, S\", \"counts\": 1, \"cumulative_sum\": 1, \"estado\": \"Rio Grande do Sul\", \"regiao\": \" S\"}, {\"ano_coleta\": 1953.0, \"regiao_e_estado\": \"Rio Grande do Sul, S\", \"counts\": 1, \"cumulative_sum\": 2, \"estado\": \"Rio Grande do Sul\", \"regiao\": \" S\"}, {\"ano_coleta\": 1954.0, \"regiao_e_estado\": \"Rio Grande do Sul, S\", \"counts\": 1, \"cumulative_sum\": 3, \"estado\": \"Rio Grande do Sul\", \"regiao\": \" S\"}, {\"ano_coleta\": 1955.0, \"regiao_e_estado\": \"Rio Grande do Sul, S\", \"counts\": 1, \"cumulative_sum\": 4, \"estado\": \"Rio Grande do Sul\", \"regiao\": \" S\"}, {\"ano_coleta\": 1964.0, \"regiao_e_estado\": \"Rio Grande do Sul, S\", \"counts\": 1, \"cumulative_sum\": 5, \"estado\": \"Rio Grande do Sul\", \"regiao\": \" S\"}, {\"ano_coleta\": 1966.0, \"regiao_e_estado\": \"Rio Grande do Sul, S\", \"counts\": 1, \"cumulative_sum\": 6, \"estado\": \"Rio Grande do Sul\", \"regiao\": \" S\"}, {\"ano_coleta\": 1980.0, \"regiao_e_estado\": \"Rio Grande do Sul, S\", \"counts\": 1, \"cumulative_sum\": 7, \"estado\": \"Rio Grande do Sul\", \"regiao\": \" S\"}, {\"ano_coleta\": 1984.0, \"regiao_e_estado\": \"Rio Grande do Sul, S\", \"counts\": 1, \"cumulative_sum\": 8, \"estado\": \"Rio Grande do Sul\", \"regiao\": \" S\"}, {\"ano_coleta\": 1985.0, \"regiao_e_estado\": \"Rio Grande do Sul, S\", \"counts\": 1, \"cumulative_sum\": 9, \"estado\": \"Rio Grande do Sul\", \"regiao\": \" S\"}, {\"ano_coleta\": 1986.0, \"regiao_e_estado\": \"Rio Grande do Sul, S\", \"counts\": 1, \"cumulative_sum\": 10, \"estado\": \"Rio Grande do Sul\", \"regiao\": \" S\"}, {\"ano_coleta\": 1987.0, \"regiao_e_estado\": \"Rio Grande do Sul, S\", \"counts\": 1, \"cumulative_sum\": 11, \"estado\": \"Rio Grande do Sul\", \"regiao\": \" S\"}, {\"ano_coleta\": 1988.0, \"regiao_e_estado\": \"Rio Grande do Sul, S\", \"counts\": 1, \"cumulative_sum\": 12, \"estado\": \"Rio Grande do Sul\", \"regiao\": \" S\"}, {\"ano_coleta\": 1989.0, \"regiao_e_estado\": \"Rio Grande do Sul, S\", \"counts\": 1, \"cumulative_sum\": 13, \"estado\": \"Rio Grande do Sul\", \"regiao\": \" S\"}, {\"ano_coleta\": 1993.0, \"regiao_e_estado\": \"Rio Grande do Sul, S\", \"counts\": 1, \"cumulative_sum\": 14, \"estado\": \"Rio Grande do Sul\", \"regiao\": \" S\"}, {\"ano_coleta\": 1994.0, \"regiao_e_estado\": \"Rio Grande do Sul, S\", \"counts\": 1, \"cumulative_sum\": 15, \"estado\": \"Rio Grande do Sul\", \"regiao\": \" S\"}, {\"ano_coleta\": 1995.0, \"regiao_e_estado\": \"Rio Grande do Sul, S\", \"counts\": 1, \"cumulative_sum\": 16, \"estado\": \"Rio Grande do Sul\", \"regiao\": \" S\"}, {\"ano_coleta\": 1996.0, \"regiao_e_estado\": \"Rio Grande do Sul, S\", \"counts\": 1, \"cumulative_sum\": 17, \"estado\": \"Rio Grande do Sul\", \"regiao\": \" S\"}, {\"ano_coleta\": 1997.0, \"regiao_e_estado\": \"Rio Grande do Sul, S\", \"counts\": 1, \"cumulative_sum\": 18, \"estado\": \"Rio Grande do Sul\", \"regiao\": \" S\"}, {\"ano_coleta\": 1998.0, \"regiao_e_estado\": \"Rio Grande do Sul, S\", \"counts\": 1, \"cumulative_sum\": 19, \"estado\": \"Rio Grande do Sul\", \"regiao\": \" S\"}, {\"ano_coleta\": 1999.0, \"regiao_e_estado\": \"Rio Grande do Sul, S\", \"counts\": 1, \"cumulative_sum\": 20, \"estado\": \"Rio Grande do Sul\", \"regiao\": \" S\"}, {\"ano_coleta\": 2001.0, \"regiao_e_estado\": \"Rio Grande do Sul, S\", \"counts\": 1, \"cumulative_sum\": 21, \"estado\": \"Rio Grande do Sul\", \"regiao\": \" S\"}, {\"ano_coleta\": 2002.0, \"regiao_e_estado\": \"Rio Grande do Sul, S\", \"counts\": 1, \"cumulative_sum\": 22, \"estado\": \"Rio Grande do Sul\", \"regiao\": \" S\"}, {\"ano_coleta\": 2003.0, \"regiao_e_estado\": \"Rio Grande do Sul, S\", \"counts\": 1, \"cumulative_sum\": 23, \"estado\": \"Rio Grande do Sul\", \"regiao\": \" S\"}, {\"ano_coleta\": 2009.0, \"regiao_e_estado\": \"Rio Grande do Sul, S\", \"counts\": 1, \"cumulative_sum\": 24, \"estado\": \"Rio Grande do Sul\", \"regiao\": \" S\"}, {\"ano_coleta\": 2010.0, \"regiao_e_estado\": \"Rio Grande do Sul, S\", \"counts\": 1, \"cumulative_sum\": 25, \"estado\": \"Rio Grande do Sul\", \"regiao\": \" S\"}, {\"ano_coleta\": 2011.0, \"regiao_e_estado\": \"Rio Grande do Sul, S\", \"counts\": 1, \"cumulative_sum\": 26, \"estado\": \"Rio Grande do Sul\", \"regiao\": \" S\"}, {\"ano_coleta\": 2012.0, \"regiao_e_estado\": \"Rio Grande do Sul, S\", \"counts\": 1, \"cumulative_sum\": 27, \"estado\": \"Rio Grande do Sul\", \"regiao\": \" S\"}, {\"ano_coleta\": 2013.0, \"regiao_e_estado\": \"Rio Grande do Sul, S\", \"counts\": 1, \"cumulative_sum\": 28, \"estado\": \"Rio Grande do Sul\", \"regiao\": \" S\"}, {\"ano_coleta\": 2014.0, \"regiao_e_estado\": \"Rio Grande do Sul, S\", \"counts\": 1, \"cumulative_sum\": 29, \"estado\": \"Rio Grande do Sul\", \"regiao\": \" S\"}, {\"ano_coleta\": 2015.0, \"regiao_e_estado\": \"Rio Grande do Sul, S\", \"counts\": 1, \"cumulative_sum\": 30, \"estado\": \"Rio Grande do Sul\", \"regiao\": \" S\"}, {\"ano_coleta\": 2016.0, \"regiao_e_estado\": \"Rio Grande do Sul, S\", \"counts\": 1, \"cumulative_sum\": 31, \"estado\": \"Rio Grande do Sul\", \"regiao\": \" S\"}, {\"ano_coleta\": 0.0, \"regiao_e_estado\": \"Rio de Janeiro, SE\", \"counts\": 1, \"cumulative_sum\": 1, \"estado\": \"Rio de Janeiro\", \"regiao\": \" SE\"}, {\"ano_coleta\": 1824.0, \"regiao_e_estado\": \"Rio de Janeiro, SE\", \"counts\": 1, \"cumulative_sum\": 2, \"estado\": \"Rio de Janeiro\", \"regiao\": \" SE\"}, {\"ano_coleta\": 1915.0, \"regiao_e_estado\": \"Rio de Janeiro, SE\", \"counts\": 1, \"cumulative_sum\": 3, \"estado\": \"Rio de Janeiro\", \"regiao\": \" SE\"}, {\"ano_coleta\": 1923.0, \"regiao_e_estado\": \"Rio de Janeiro, SE\", \"counts\": 2, \"cumulative_sum\": 5, \"estado\": \"Rio de Janeiro\", \"regiao\": \" SE\"}, {\"ano_coleta\": 1937.0, \"regiao_e_estado\": \"Rio de Janeiro, SE\", \"counts\": 1, \"cumulative_sum\": 6, \"estado\": \"Rio de Janeiro\", \"regiao\": \" SE\"}, {\"ano_coleta\": 1938.0, \"regiao_e_estado\": \"Rio de Janeiro, SE\", \"counts\": 1, \"cumulative_sum\": 7, \"estado\": \"Rio de Janeiro\", \"regiao\": \" SE\"}, {\"ano_coleta\": 1941.0, \"regiao_e_estado\": \"Rio de Janeiro, SE\", \"counts\": 1, \"cumulative_sum\": 8, \"estado\": \"Rio de Janeiro\", \"regiao\": \" SE\"}, {\"ano_coleta\": 1942.0, \"regiao_e_estado\": \"Rio de Janeiro, SE\", \"counts\": 1, \"cumulative_sum\": 9, \"estado\": \"Rio de Janeiro\", \"regiao\": \" SE\"}, {\"ano_coleta\": 1943.0, \"regiao_e_estado\": \"Rio de Janeiro, SE\", \"counts\": 1, \"cumulative_sum\": 10, \"estado\": \"Rio de Janeiro\", \"regiao\": \" SE\"}, {\"ano_coleta\": 1944.0, \"regiao_e_estado\": \"Rio de Janeiro, SE\", \"counts\": 1, \"cumulative_sum\": 11, \"estado\": \"Rio de Janeiro\", \"regiao\": \" SE\"}, {\"ano_coleta\": 1945.0, \"regiao_e_estado\": \"Rio de Janeiro, SE\", \"counts\": 1, \"cumulative_sum\": 12, \"estado\": \"Rio de Janeiro\", \"regiao\": \" SE\"}, {\"ano_coleta\": 1946.0, \"regiao_e_estado\": \"Rio de Janeiro, SE\", \"counts\": 1, \"cumulative_sum\": 13, \"estado\": \"Rio de Janeiro\", \"regiao\": \" SE\"}, {\"ano_coleta\": 1947.0, \"regiao_e_estado\": \"Rio de Janeiro, SE\", \"counts\": 1, \"cumulative_sum\": 14, \"estado\": \"Rio de Janeiro\", \"regiao\": \" SE\"}, {\"ano_coleta\": 1948.0, \"regiao_e_estado\": \"Rio de Janeiro, SE\", \"counts\": 2, \"cumulative_sum\": 16, \"estado\": \"Rio de Janeiro\", \"regiao\": \" SE\"}, {\"ano_coleta\": 1949.0, \"regiao_e_estado\": \"Rio de Janeiro, SE\", \"counts\": 2, \"cumulative_sum\": 18, \"estado\": \"Rio de Janeiro\", \"regiao\": \" SE\"}, {\"ano_coleta\": 1950.0, \"regiao_e_estado\": \"Rio de Janeiro, SE\", \"counts\": 1, \"cumulative_sum\": 19, \"estado\": \"Rio de Janeiro\", \"regiao\": \" SE\"}, {\"ano_coleta\": 1951.0, \"regiao_e_estado\": \"Rio de Janeiro, SE\", \"counts\": 1, \"cumulative_sum\": 20, \"estado\": \"Rio de Janeiro\", \"regiao\": \" SE\"}, {\"ano_coleta\": 1952.0, \"regiao_e_estado\": \"Rio de Janeiro, SE\", \"counts\": 1, \"cumulative_sum\": 21, \"estado\": \"Rio de Janeiro\", \"regiao\": \" SE\"}, {\"ano_coleta\": 1953.0, \"regiao_e_estado\": \"Rio de Janeiro, SE\", \"counts\": 2, \"cumulative_sum\": 23, \"estado\": \"Rio de Janeiro\", \"regiao\": \" SE\"}, {\"ano_coleta\": 1954.0, \"regiao_e_estado\": \"Rio de Janeiro, SE\", \"counts\": 2, \"cumulative_sum\": 25, \"estado\": \"Rio de Janeiro\", \"regiao\": \" SE\"}, {\"ano_coleta\": 1955.0, \"regiao_e_estado\": \"Rio de Janeiro, SE\", \"counts\": 2, \"cumulative_sum\": 27, \"estado\": \"Rio de Janeiro\", \"regiao\": \" SE\"}, {\"ano_coleta\": 1956.0, \"regiao_e_estado\": \"Rio de Janeiro, SE\", \"counts\": 1, \"cumulative_sum\": 28, \"estado\": \"Rio de Janeiro\", \"regiao\": \" SE\"}, {\"ano_coleta\": 1957.0, \"regiao_e_estado\": \"Rio de Janeiro, SE\", \"counts\": 1, \"cumulative_sum\": 29, \"estado\": \"Rio de Janeiro\", \"regiao\": \" SE\"}, {\"ano_coleta\": 1958.0, \"regiao_e_estado\": \"Rio de Janeiro, SE\", \"counts\": 1, \"cumulative_sum\": 30, \"estado\": \"Rio de Janeiro\", \"regiao\": \" SE\"}, {\"ano_coleta\": 1959.0, \"regiao_e_estado\": \"Rio de Janeiro, SE\", \"counts\": 1, \"cumulative_sum\": 31, \"estado\": \"Rio de Janeiro\", \"regiao\": \" SE\"}, {\"ano_coleta\": 1960.0, \"regiao_e_estado\": \"Rio de Janeiro, SE\", \"counts\": 1, \"cumulative_sum\": 32, \"estado\": \"Rio de Janeiro\", \"regiao\": \" SE\"}, {\"ano_coleta\": 1961.0, \"regiao_e_estado\": \"Rio de Janeiro, SE\", \"counts\": 1, \"cumulative_sum\": 33, \"estado\": \"Rio de Janeiro\", \"regiao\": \" SE\"}, {\"ano_coleta\": 1963.0, \"regiao_e_estado\": \"Rio de Janeiro, SE\", \"counts\": 1, \"cumulative_sum\": 34, \"estado\": \"Rio de Janeiro\", \"regiao\": \" SE\"}, {\"ano_coleta\": 1964.0, \"regiao_e_estado\": \"Rio de Janeiro, SE\", \"counts\": 2, \"cumulative_sum\": 36, \"estado\": \"Rio de Janeiro\", \"regiao\": \" SE\"}, {\"ano_coleta\": 1965.0, \"regiao_e_estado\": \"Rio de Janeiro, SE\", \"counts\": 1, \"cumulative_sum\": 37, \"estado\": \"Rio de Janeiro\", \"regiao\": \" SE\"}, {\"ano_coleta\": 1966.0, \"regiao_e_estado\": \"Rio de Janeiro, SE\", \"counts\": 1, \"cumulative_sum\": 38, \"estado\": \"Rio de Janeiro\", \"regiao\": \" SE\"}, {\"ano_coleta\": 1967.0, \"regiao_e_estado\": \"Rio de Janeiro, SE\", \"counts\": 1, \"cumulative_sum\": 39, \"estado\": \"Rio de Janeiro\", \"regiao\": \" SE\"}, {\"ano_coleta\": 1968.0, \"regiao_e_estado\": \"Rio de Janeiro, SE\", \"counts\": 1, \"cumulative_sum\": 40, \"estado\": \"Rio de Janeiro\", \"regiao\": \" SE\"}, {\"ano_coleta\": 1969.0, \"regiao_e_estado\": \"Rio de Janeiro, SE\", \"counts\": 1, \"cumulative_sum\": 41, \"estado\": \"Rio de Janeiro\", \"regiao\": \" SE\"}, {\"ano_coleta\": 1970.0, \"regiao_e_estado\": \"Rio de Janeiro, SE\", \"counts\": 1, \"cumulative_sum\": 42, \"estado\": \"Rio de Janeiro\", \"regiao\": \" SE\"}, {\"ano_coleta\": 1971.0, \"regiao_e_estado\": \"Rio de Janeiro, SE\", \"counts\": 1, \"cumulative_sum\": 43, \"estado\": \"Rio de Janeiro\", \"regiao\": \" SE\"}, {\"ano_coleta\": 1972.0, \"regiao_e_estado\": \"Rio de Janeiro, SE\", \"counts\": 1, \"cumulative_sum\": 44, \"estado\": \"Rio de Janeiro\", \"regiao\": \" SE\"}, {\"ano_coleta\": 1973.0, \"regiao_e_estado\": \"Rio de Janeiro, SE\", \"counts\": 1, \"cumulative_sum\": 45, \"estado\": \"Rio de Janeiro\", \"regiao\": \" SE\"}, {\"ano_coleta\": 1974.0, \"regiao_e_estado\": \"Rio de Janeiro, SE\", \"counts\": 2, \"cumulative_sum\": 47, \"estado\": \"Rio de Janeiro\", \"regiao\": \" SE\"}, {\"ano_coleta\": 1975.0, \"regiao_e_estado\": \"Rio de Janeiro, SE\", \"counts\": 1, \"cumulative_sum\": 48, \"estado\": \"Rio de Janeiro\", \"regiao\": \" SE\"}, {\"ano_coleta\": 1976.0, \"regiao_e_estado\": \"Rio de Janeiro, SE\", \"counts\": 1, \"cumulative_sum\": 49, \"estado\": \"Rio de Janeiro\", \"regiao\": \" SE\"}, {\"ano_coleta\": 1977.0, \"regiao_e_estado\": \"Rio de Janeiro, SE\", \"counts\": 1, \"cumulative_sum\": 50, \"estado\": \"Rio de Janeiro\", \"regiao\": \" SE\"}, {\"ano_coleta\": 1978.0, \"regiao_e_estado\": \"Rio de Janeiro, SE\", \"counts\": 1, \"cumulative_sum\": 51, \"estado\": \"Rio de Janeiro\", \"regiao\": \" SE\"}, {\"ano_coleta\": 1979.0, \"regiao_e_estado\": \"Rio de Janeiro, SE\", \"counts\": 1, \"cumulative_sum\": 52, \"estado\": \"Rio de Janeiro\", \"regiao\": \" SE\"}, {\"ano_coleta\": 1980.0, \"regiao_e_estado\": \"Rio de Janeiro, SE\", \"counts\": 1, \"cumulative_sum\": 53, \"estado\": \"Rio de Janeiro\", \"regiao\": \" SE\"}, {\"ano_coleta\": 1981.0, \"regiao_e_estado\": \"Rio de Janeiro, SE\", \"counts\": 1, \"cumulative_sum\": 54, \"estado\": \"Rio de Janeiro\", \"regiao\": \" SE\"}, {\"ano_coleta\": 1982.0, \"regiao_e_estado\": \"Rio de Janeiro, SE\", \"counts\": 1, \"cumulative_sum\": 55, \"estado\": \"Rio de Janeiro\", \"regiao\": \" SE\"}, {\"ano_coleta\": 1983.0, \"regiao_e_estado\": \"Rio de Janeiro, SE\", \"counts\": 1, \"cumulative_sum\": 56, \"estado\": \"Rio de Janeiro\", \"regiao\": \" SE\"}, {\"ano_coleta\": 1984.0, \"regiao_e_estado\": \"Rio de Janeiro, SE\", \"counts\": 2, \"cumulative_sum\": 58, \"estado\": \"Rio de Janeiro\", \"regiao\": \" SE\"}, {\"ano_coleta\": 1985.0, \"regiao_e_estado\": \"Rio de Janeiro, SE\", \"counts\": 1, \"cumulative_sum\": 59, \"estado\": \"Rio de Janeiro\", \"regiao\": \" SE\"}, {\"ano_coleta\": 1986.0, \"regiao_e_estado\": \"Rio de Janeiro, SE\", \"counts\": 2, \"cumulative_sum\": 61, \"estado\": \"Rio de Janeiro\", \"regiao\": \" SE\"}, {\"ano_coleta\": 1987.0, \"regiao_e_estado\": \"Rio de Janeiro, SE\", \"counts\": 2, \"cumulative_sum\": 63, \"estado\": \"Rio de Janeiro\", \"regiao\": \" SE\"}, {\"ano_coleta\": 1988.0, \"regiao_e_estado\": \"Rio de Janeiro, SE\", \"counts\": 1, \"cumulative_sum\": 64, \"estado\": \"Rio de Janeiro\", \"regiao\": \" SE\"}, {\"ano_coleta\": 1989.0, \"regiao_e_estado\": \"Rio de Janeiro, SE\", \"counts\": 2, \"cumulative_sum\": 66, \"estado\": \"Rio de Janeiro\", \"regiao\": \" SE\"}, {\"ano_coleta\": 1990.0, \"regiao_e_estado\": \"Rio de Janeiro, SE\", \"counts\": 2, \"cumulative_sum\": 68, \"estado\": \"Rio de Janeiro\", \"regiao\": \" SE\"}, {\"ano_coleta\": 1991.0, \"regiao_e_estado\": \"Rio de Janeiro, SE\", \"counts\": 2, \"cumulative_sum\": 70, \"estado\": \"Rio de Janeiro\", \"regiao\": \" SE\"}, {\"ano_coleta\": 1992.0, \"regiao_e_estado\": \"Rio de Janeiro, SE\", \"counts\": 2, \"cumulative_sum\": 72, \"estado\": \"Rio de Janeiro\", \"regiao\": \" SE\"}, {\"ano_coleta\": 1993.0, \"regiao_e_estado\": \"Rio de Janeiro, SE\", \"counts\": 2, \"cumulative_sum\": 74, \"estado\": \"Rio de Janeiro\", \"regiao\": \" SE\"}, {\"ano_coleta\": 1994.0, \"regiao_e_estado\": \"Rio de Janeiro, SE\", \"counts\": 2, \"cumulative_sum\": 76, \"estado\": \"Rio de Janeiro\", \"regiao\": \" SE\"}, {\"ano_coleta\": 1995.0, \"regiao_e_estado\": \"Rio de Janeiro, SE\", \"counts\": 2, \"cumulative_sum\": 78, \"estado\": \"Rio de Janeiro\", \"regiao\": \" SE\"}, {\"ano_coleta\": 1996.0, \"regiao_e_estado\": \"Rio de Janeiro, SE\", \"counts\": 3, \"cumulative_sum\": 81, \"estado\": \"Rio de Janeiro\", \"regiao\": \" SE\"}, {\"ano_coleta\": 1997.0, \"regiao_e_estado\": \"Rio de Janeiro, SE\", \"counts\": 2, \"cumulative_sum\": 83, \"estado\": \"Rio de Janeiro\", \"regiao\": \" SE\"}, {\"ano_coleta\": 1998.0, \"regiao_e_estado\": \"Rio de Janeiro, SE\", \"counts\": 2, \"cumulative_sum\": 85, \"estado\": \"Rio de Janeiro\", \"regiao\": \" SE\"}, {\"ano_coleta\": 1999.0, \"regiao_e_estado\": \"Rio de Janeiro, SE\", \"counts\": 2, \"cumulative_sum\": 87, \"estado\": \"Rio de Janeiro\", \"regiao\": \" SE\"}, {\"ano_coleta\": 2000.0, \"regiao_e_estado\": \"Rio de Janeiro, SE\", \"counts\": 2, \"cumulative_sum\": 89, \"estado\": \"Rio de Janeiro\", \"regiao\": \" SE\"}, {\"ano_coleta\": 2001.0, \"regiao_e_estado\": \"Rio de Janeiro, SE\", \"counts\": 2, \"cumulative_sum\": 91, \"estado\": \"Rio de Janeiro\", \"regiao\": \" SE\"}, {\"ano_coleta\": 2002.0, \"regiao_e_estado\": \"Rio de Janeiro, SE\", \"counts\": 1, \"cumulative_sum\": 92, \"estado\": \"Rio de Janeiro\", \"regiao\": \" SE\"}, {\"ano_coleta\": 2003.0, \"regiao_e_estado\": \"Rio de Janeiro, SE\", \"counts\": 1, \"cumulative_sum\": 93, \"estado\": \"Rio de Janeiro\", \"regiao\": \" SE\"}, {\"ano_coleta\": 2004.0, \"regiao_e_estado\": \"Rio de Janeiro, SE\", \"counts\": 1, \"cumulative_sum\": 94, \"estado\": \"Rio de Janeiro\", \"regiao\": \" SE\"}, {\"ano_coleta\": 2005.0, \"regiao_e_estado\": \"Rio de Janeiro, SE\", \"counts\": 1, \"cumulative_sum\": 95, \"estado\": \"Rio de Janeiro\", \"regiao\": \" SE\"}, {\"ano_coleta\": 2006.0, \"regiao_e_estado\": \"Rio de Janeiro, SE\", \"counts\": 3, \"cumulative_sum\": 98, \"estado\": \"Rio de Janeiro\", \"regiao\": \" SE\"}, {\"ano_coleta\": 2007.0, \"regiao_e_estado\": \"Rio de Janeiro, SE\", \"counts\": 2, \"cumulative_sum\": 100, \"estado\": \"Rio de Janeiro\", \"regiao\": \" SE\"}, {\"ano_coleta\": 2008.0, \"regiao_e_estado\": \"Rio de Janeiro, SE\", \"counts\": 2, \"cumulative_sum\": 102, \"estado\": \"Rio de Janeiro\", \"regiao\": \" SE\"}, {\"ano_coleta\": 2009.0, \"regiao_e_estado\": \"Rio de Janeiro, SE\", \"counts\": 3, \"cumulative_sum\": 105, \"estado\": \"Rio de Janeiro\", \"regiao\": \" SE\"}, {\"ano_coleta\": 2010.0, \"regiao_e_estado\": \"Rio de Janeiro, SE\", \"counts\": 3, \"cumulative_sum\": 108, \"estado\": \"Rio de Janeiro\", \"regiao\": \" SE\"}, {\"ano_coleta\": 2011.0, \"regiao_e_estado\": \"Rio de Janeiro, SE\", \"counts\": 2, \"cumulative_sum\": 110, \"estado\": \"Rio de Janeiro\", \"regiao\": \" SE\"}, {\"ano_coleta\": 2012.0, \"regiao_e_estado\": \"Rio de Janeiro, SE\", \"counts\": 3, \"cumulative_sum\": 113, \"estado\": \"Rio de Janeiro\", \"regiao\": \" SE\"}, {\"ano_coleta\": 2013.0, \"regiao_e_estado\": \"Rio de Janeiro, SE\", \"counts\": 3, \"cumulative_sum\": 116, \"estado\": \"Rio de Janeiro\", \"regiao\": \" SE\"}, {\"ano_coleta\": 2014.0, \"regiao_e_estado\": \"Rio de Janeiro, SE\", \"counts\": 3, \"cumulative_sum\": 119, \"estado\": \"Rio de Janeiro\", \"regiao\": \" SE\"}, {\"ano_coleta\": 2015.0, \"regiao_e_estado\": \"Rio de Janeiro, SE\", \"counts\": 1, \"cumulative_sum\": 120, \"estado\": \"Rio de Janeiro\", \"regiao\": \" SE\"}, {\"ano_coleta\": 2016.0, \"regiao_e_estado\": \"Rio de Janeiro, SE\", \"counts\": 2, \"cumulative_sum\": 122, \"estado\": \"Rio de Janeiro\", \"regiao\": \" SE\"}, {\"ano_coleta\": 1944.0, \"regiao_e_estado\": \"Rond\\u00f4nia, N\", \"counts\": 1, \"cumulative_sum\": 1, \"estado\": \"Rond\\u00f4nia\", \"regiao\": \" N\"}, {\"ano_coleta\": 1955.0, \"regiao_e_estado\": \"Rond\\u00f4nia, N\", \"counts\": 1, \"cumulative_sum\": 2, \"estado\": \"Rond\\u00f4nia\", \"regiao\": \" N\"}, {\"ano_coleta\": 1971.0, \"regiao_e_estado\": \"Rond\\u00f4nia, N\", \"counts\": 1, \"cumulative_sum\": 3, \"estado\": \"Rond\\u00f4nia\", \"regiao\": \" N\"}, {\"ano_coleta\": 1979.0, \"regiao_e_estado\": \"Rond\\u00f4nia, N\", \"counts\": 1, \"cumulative_sum\": 4, \"estado\": \"Rond\\u00f4nia\", \"regiao\": \" N\"}, {\"ano_coleta\": 1983.0, \"regiao_e_estado\": \"Rond\\u00f4nia, N\", \"counts\": 1, \"cumulative_sum\": 5, \"estado\": \"Rond\\u00f4nia\", \"regiao\": \" N\"}, {\"ano_coleta\": 1984.0, \"regiao_e_estado\": \"Rond\\u00f4nia, N\", \"counts\": 1, \"cumulative_sum\": 6, \"estado\": \"Rond\\u00f4nia\", \"regiao\": \" N\"}, {\"ano_coleta\": 1985.0, \"regiao_e_estado\": \"Rond\\u00f4nia, N\", \"counts\": 1, \"cumulative_sum\": 7, \"estado\": \"Rond\\u00f4nia\", \"regiao\": \" N\"}, {\"ano_coleta\": 1986.0, \"regiao_e_estado\": \"Rond\\u00f4nia, N\", \"counts\": 1, \"cumulative_sum\": 8, \"estado\": \"Rond\\u00f4nia\", \"regiao\": \" N\"}, {\"ano_coleta\": 1987.0, \"regiao_e_estado\": \"Rond\\u00f4nia, N\", \"counts\": 2, \"cumulative_sum\": 10, \"estado\": \"Rond\\u00f4nia\", \"regiao\": \" N\"}, {\"ano_coleta\": 1998.0, \"regiao_e_estado\": \"Rond\\u00f4nia, N\", \"counts\": 1, \"cumulative_sum\": 11, \"estado\": \"Rond\\u00f4nia\", \"regiao\": \" N\"}, {\"ano_coleta\": 2010.0, \"regiao_e_estado\": \"Rond\\u00f4nia, N\", \"counts\": 2, \"cumulative_sum\": 13, \"estado\": \"Rond\\u00f4nia\", \"regiao\": \" N\"}, {\"ano_coleta\": 2012.0, \"regiao_e_estado\": \"Rond\\u00f4nia, N\", \"counts\": 1, \"cumulative_sum\": 14, \"estado\": \"Rond\\u00f4nia\", \"regiao\": \" N\"}, {\"ano_coleta\": 2013.0, \"regiao_e_estado\": \"Rond\\u00f4nia, N\", \"counts\": 1, \"cumulative_sum\": 15, \"estado\": \"Rond\\u00f4nia\", \"regiao\": \" N\"}, {\"ano_coleta\": 1928.0, \"regiao_e_estado\": \"Roraima, N\", \"counts\": 1, \"cumulative_sum\": 1, \"estado\": \"Roraima\", \"regiao\": \" N\"}, {\"ano_coleta\": 1932.0, \"regiao_e_estado\": \"Roraima, N\", \"counts\": 1, \"cumulative_sum\": 2, \"estado\": \"Roraima\", \"regiao\": \" N\"}, {\"ano_coleta\": 1995.0, \"regiao_e_estado\": \"Roraima, N\", \"counts\": 1, \"cumulative_sum\": 3, \"estado\": \"Roraima\", \"regiao\": \" N\"}, {\"ano_coleta\": 1998.0, \"regiao_e_estado\": \"Roraima, N\", \"counts\": 3, \"cumulative_sum\": 6, \"estado\": \"Roraima\", \"regiao\": \" N\"}, {\"ano_coleta\": 2011.0, \"regiao_e_estado\": \"Roraima, N\", \"counts\": 1, \"cumulative_sum\": 7, \"estado\": \"Roraima\", \"regiao\": \" N\"}, {\"ano_coleta\": 2012.0, \"regiao_e_estado\": \"Roraima, N\", \"counts\": 1, \"cumulative_sum\": 8, \"estado\": \"Roraima\", \"regiao\": \" N\"}, {\"ano_coleta\": 1915.0, \"regiao_e_estado\": \"Santa Catarina, S\", \"counts\": 1, \"cumulative_sum\": 1, \"estado\": \"Santa Catarina\", \"regiao\": \" S\"}, {\"ano_coleta\": 1916.0, \"regiao_e_estado\": \"Santa Catarina, S\", \"counts\": 1, \"cumulative_sum\": 2, \"estado\": \"Santa Catarina\", \"regiao\": \" S\"}, {\"ano_coleta\": 1937.0, \"regiao_e_estado\": \"Santa Catarina, S\", \"counts\": 1, \"cumulative_sum\": 3, \"estado\": \"Santa Catarina\", \"regiao\": \" S\"}, {\"ano_coleta\": 1949.0, \"regiao_e_estado\": \"Santa Catarina, S\", \"counts\": 1, \"cumulative_sum\": 4, \"estado\": \"Santa Catarina\", \"regiao\": \" S\"}, {\"ano_coleta\": 1950.0, \"regiao_e_estado\": \"Santa Catarina, S\", \"counts\": 1, \"cumulative_sum\": 5, \"estado\": \"Santa Catarina\", \"regiao\": \" S\"}, {\"ano_coleta\": 1955.0, \"regiao_e_estado\": \"Santa Catarina, S\", \"counts\": 1, \"cumulative_sum\": 6, \"estado\": \"Santa Catarina\", \"regiao\": \" S\"}, {\"ano_coleta\": 1963.0, \"regiao_e_estado\": \"Santa Catarina, S\", \"counts\": 1, \"cumulative_sum\": 7, \"estado\": \"Santa Catarina\", \"regiao\": \" S\"}, {\"ano_coleta\": 1969.0, \"regiao_e_estado\": \"Santa Catarina, S\", \"counts\": 1, \"cumulative_sum\": 8, \"estado\": \"Santa Catarina\", \"regiao\": \" S\"}, {\"ano_coleta\": 1986.0, \"regiao_e_estado\": \"Santa Catarina, S\", \"counts\": 1, \"cumulative_sum\": 9, \"estado\": \"Santa Catarina\", \"regiao\": \" S\"}, {\"ano_coleta\": 1993.0, \"regiao_e_estado\": \"Santa Catarina, S\", \"counts\": 1, \"cumulative_sum\": 10, \"estado\": \"Santa Catarina\", \"regiao\": \" S\"}, {\"ano_coleta\": 1995.0, \"regiao_e_estado\": \"Santa Catarina, S\", \"counts\": 1, \"cumulative_sum\": 11, \"estado\": \"Santa Catarina\", \"regiao\": \" S\"}, {\"ano_coleta\": 1999.0, \"regiao_e_estado\": \"Santa Catarina, S\", \"counts\": 1, \"cumulative_sum\": 12, \"estado\": \"Santa Catarina\", \"regiao\": \" S\"}, {\"ano_coleta\": 2003.0, \"regiao_e_estado\": \"Santa Catarina, S\", \"counts\": 1, \"cumulative_sum\": 13, \"estado\": \"Santa Catarina\", \"regiao\": \" S\"}, {\"ano_coleta\": 2004.0, \"regiao_e_estado\": \"Santa Catarina, S\", \"counts\": 1, \"cumulative_sum\": 14, \"estado\": \"Santa Catarina\", \"regiao\": \" S\"}, {\"ano_coleta\": 2007.0, \"regiao_e_estado\": \"Santa Catarina, S\", \"counts\": 1, \"cumulative_sum\": 15, \"estado\": \"Santa Catarina\", \"regiao\": \" S\"}, {\"ano_coleta\": 2008.0, \"regiao_e_estado\": \"Santa Catarina, S\", \"counts\": 1, \"cumulative_sum\": 16, \"estado\": \"Santa Catarina\", \"regiao\": \" S\"}, {\"ano_coleta\": 2009.0, \"regiao_e_estado\": \"Santa Catarina, S\", \"counts\": 1, \"cumulative_sum\": 17, \"estado\": \"Santa Catarina\", \"regiao\": \" S\"}, {\"ano_coleta\": 2010.0, \"regiao_e_estado\": \"Santa Catarina, S\", \"counts\": 1, \"cumulative_sum\": 18, \"estado\": \"Santa Catarina\", \"regiao\": \" S\"}, {\"ano_coleta\": 2011.0, \"regiao_e_estado\": \"Santa Catarina, S\", \"counts\": 1, \"cumulative_sum\": 19, \"estado\": \"Santa Catarina\", \"regiao\": \" S\"}, {\"ano_coleta\": 2012.0, \"regiao_e_estado\": \"Santa Catarina, S\", \"counts\": 1, \"cumulative_sum\": 20, \"estado\": \"Santa Catarina\", \"regiao\": \" S\"}, {\"ano_coleta\": 2013.0, \"regiao_e_estado\": \"Santa Catarina, S\", \"counts\": 1, \"cumulative_sum\": 21, \"estado\": \"Santa Catarina\", \"regiao\": \" S\"}, {\"ano_coleta\": 2014.0, \"regiao_e_estado\": \"Santa Catarina, S\", \"counts\": 1, \"cumulative_sum\": 22, \"estado\": \"Santa Catarina\", \"regiao\": \" S\"}, {\"ano_coleta\": 2010.0, \"regiao_e_estado\": \"Santa Catarina-Rio Grande do Sul, S\", \"counts\": 1, \"cumulative_sum\": 1, \"estado\": \"Santa Catarina-Rio Grande do Sul\", \"regiao\": \" S\"}, {\"ano_coleta\": 1989.0, \"regiao_e_estado\": \"Sergipe, NE\", \"counts\": 1, \"cumulative_sum\": 1, \"estado\": \"Sergipe\", \"regiao\": \" NE\"}, {\"ano_coleta\": 1991.0, \"regiao_e_estado\": \"Sergipe, NE\", \"counts\": 3, \"cumulative_sum\": 4, \"estado\": \"Sergipe\", \"regiao\": \" NE\"}, {\"ano_coleta\": 1992.0, \"regiao_e_estado\": \"Sergipe, NE\", \"counts\": 1, \"cumulative_sum\": 5, \"estado\": \"Sergipe\", \"regiao\": \" NE\"}, {\"ano_coleta\": 1997.0, \"regiao_e_estado\": \"Sergipe, NE\", \"counts\": 1, \"cumulative_sum\": 6, \"estado\": \"Sergipe\", \"regiao\": \" NE\"}, {\"ano_coleta\": 1998.0, \"regiao_e_estado\": \"Sergipe, NE\", \"counts\": 1, \"cumulative_sum\": 7, \"estado\": \"Sergipe\", \"regiao\": \" NE\"}, {\"ano_coleta\": 2003.0, \"regiao_e_estado\": \"Sergipe, NE\", \"counts\": 1, \"cumulative_sum\": 8, \"estado\": \"Sergipe\", \"regiao\": \" NE\"}, {\"ano_coleta\": 2004.0, \"regiao_e_estado\": \"Sergipe, NE\", \"counts\": 1, \"cumulative_sum\": 9, \"estado\": \"Sergipe\", \"regiao\": \" NE\"}, {\"ano_coleta\": 2006.0, \"regiao_e_estado\": \"Sergipe, NE\", \"counts\": 1, \"cumulative_sum\": 10, \"estado\": \"Sergipe\", \"regiao\": \" NE\"}, {\"ano_coleta\": 2007.0, \"regiao_e_estado\": \"Sergipe, NE\", \"counts\": 1, \"cumulative_sum\": 11, \"estado\": \"Sergipe\", \"regiao\": \" NE\"}, {\"ano_coleta\": 2009.0, \"regiao_e_estado\": \"Sergipe, NE\", \"counts\": 1, \"cumulative_sum\": 12, \"estado\": \"Sergipe\", \"regiao\": \" NE\"}, {\"ano_coleta\": 0.0, \"regiao_e_estado\": \"S\\u00e3o Paulo, SE\", \"counts\": 1, \"cumulative_sum\": 1, \"estado\": \"S\\u00e3o Paulo\", \"regiao\": \" SE\"}, {\"ano_coleta\": 1925.0, \"regiao_e_estado\": \"S\\u00e3o Paulo, SE\", \"counts\": 1, \"cumulative_sum\": 2, \"estado\": \"S\\u00e3o Paulo\", \"regiao\": \" SE\"}, {\"ano_coleta\": 1936.0, \"regiao_e_estado\": \"S\\u00e3o Paulo, SE\", \"counts\": 1, \"cumulative_sum\": 3, \"estado\": \"S\\u00e3o Paulo\", \"regiao\": \" SE\"}, {\"ano_coleta\": 1942.0, \"regiao_e_estado\": \"S\\u00e3o Paulo, SE\", \"counts\": 1, \"cumulative_sum\": 4, \"estado\": \"S\\u00e3o Paulo\", \"regiao\": \" SE\"}, {\"ano_coleta\": 1944.0, \"regiao_e_estado\": \"S\\u00e3o Paulo, SE\", \"counts\": 1, \"cumulative_sum\": 5, \"estado\": \"S\\u00e3o Paulo\", \"regiao\": \" SE\"}, {\"ano_coleta\": 1949.0, \"regiao_e_estado\": \"S\\u00e3o Paulo, SE\", \"counts\": 1, \"cumulative_sum\": 6, \"estado\": \"S\\u00e3o Paulo\", \"regiao\": \" SE\"}, {\"ano_coleta\": 1956.0, \"regiao_e_estado\": \"S\\u00e3o Paulo, SE\", \"counts\": 1, \"cumulative_sum\": 7, \"estado\": \"S\\u00e3o Paulo\", \"regiao\": \" SE\"}, {\"ano_coleta\": 1958.0, \"regiao_e_estado\": \"S\\u00e3o Paulo, SE\", \"counts\": 1, \"cumulative_sum\": 8, \"estado\": \"S\\u00e3o Paulo\", \"regiao\": \" SE\"}, {\"ano_coleta\": 1961.0, \"regiao_e_estado\": \"S\\u00e3o Paulo, SE\", \"counts\": 1, \"cumulative_sum\": 9, \"estado\": \"S\\u00e3o Paulo\", \"regiao\": \" SE\"}, {\"ano_coleta\": 1963.0, \"regiao_e_estado\": \"S\\u00e3o Paulo, SE\", \"counts\": 1, \"cumulative_sum\": 10, \"estado\": \"S\\u00e3o Paulo\", \"regiao\": \" SE\"}, {\"ano_coleta\": 1968.0, \"regiao_e_estado\": \"S\\u00e3o Paulo, SE\", \"counts\": 1, \"cumulative_sum\": 11, \"estado\": \"S\\u00e3o Paulo\", \"regiao\": \" SE\"}, {\"ano_coleta\": 1969.0, \"regiao_e_estado\": \"S\\u00e3o Paulo, SE\", \"counts\": 1, \"cumulative_sum\": 12, \"estado\": \"S\\u00e3o Paulo\", \"regiao\": \" SE\"}, {\"ano_coleta\": 1970.0, \"regiao_e_estado\": \"S\\u00e3o Paulo, SE\", \"counts\": 1, \"cumulative_sum\": 13, \"estado\": \"S\\u00e3o Paulo\", \"regiao\": \" SE\"}, {\"ano_coleta\": 1971.0, \"regiao_e_estado\": \"S\\u00e3o Paulo, SE\", \"counts\": 1, \"cumulative_sum\": 14, \"estado\": \"S\\u00e3o Paulo\", \"regiao\": \" SE\"}, {\"ano_coleta\": 1972.0, \"regiao_e_estado\": \"S\\u00e3o Paulo, SE\", \"counts\": 1, \"cumulative_sum\": 15, \"estado\": \"S\\u00e3o Paulo\", \"regiao\": \" SE\"}, {\"ano_coleta\": 1973.0, \"regiao_e_estado\": \"S\\u00e3o Paulo, SE\", \"counts\": 1, \"cumulative_sum\": 16, \"estado\": \"S\\u00e3o Paulo\", \"regiao\": \" SE\"}, {\"ano_coleta\": 1974.0, \"regiao_e_estado\": \"S\\u00e3o Paulo, SE\", \"counts\": 1, \"cumulative_sum\": 17, \"estado\": \"S\\u00e3o Paulo\", \"regiao\": \" SE\"}, {\"ano_coleta\": 1975.0, \"regiao_e_estado\": \"S\\u00e3o Paulo, SE\", \"counts\": 2, \"cumulative_sum\": 19, \"estado\": \"S\\u00e3o Paulo\", \"regiao\": \" SE\"}, {\"ano_coleta\": 1976.0, \"regiao_e_estado\": \"S\\u00e3o Paulo, SE\", \"counts\": 2, \"cumulative_sum\": 21, \"estado\": \"S\\u00e3o Paulo\", \"regiao\": \" SE\"}, {\"ano_coleta\": 1977.0, \"regiao_e_estado\": \"S\\u00e3o Paulo, SE\", \"counts\": 1, \"cumulative_sum\": 22, \"estado\": \"S\\u00e3o Paulo\", \"regiao\": \" SE\"}, {\"ano_coleta\": 1978.0, \"regiao_e_estado\": \"S\\u00e3o Paulo, SE\", \"counts\": 1, \"cumulative_sum\": 23, \"estado\": \"S\\u00e3o Paulo\", \"regiao\": \" SE\"}, {\"ano_coleta\": 1979.0, \"regiao_e_estado\": \"S\\u00e3o Paulo, SE\", \"counts\": 1, \"cumulative_sum\": 24, \"estado\": \"S\\u00e3o Paulo\", \"regiao\": \" SE\"}, {\"ano_coleta\": 1980.0, \"regiao_e_estado\": \"S\\u00e3o Paulo, SE\", \"counts\": 1, \"cumulative_sum\": 25, \"estado\": \"S\\u00e3o Paulo\", \"regiao\": \" SE\"}, {\"ano_coleta\": 1981.0, \"regiao_e_estado\": \"S\\u00e3o Paulo, SE\", \"counts\": 1, \"cumulative_sum\": 26, \"estado\": \"S\\u00e3o Paulo\", \"regiao\": \" SE\"}, {\"ano_coleta\": 1982.0, \"regiao_e_estado\": \"S\\u00e3o Paulo, SE\", \"counts\": 1, \"cumulative_sum\": 27, \"estado\": \"S\\u00e3o Paulo\", \"regiao\": \" SE\"}, {\"ano_coleta\": 1983.0, \"regiao_e_estado\": \"S\\u00e3o Paulo, SE\", \"counts\": 1, \"cumulative_sum\": 28, \"estado\": \"S\\u00e3o Paulo\", \"regiao\": \" SE\"}, {\"ano_coleta\": 1984.0, \"regiao_e_estado\": \"S\\u00e3o Paulo, SE\", \"counts\": 1, \"cumulative_sum\": 29, \"estado\": \"S\\u00e3o Paulo\", \"regiao\": \" SE\"}, {\"ano_coleta\": 1985.0, \"regiao_e_estado\": \"S\\u00e3o Paulo, SE\", \"counts\": 1, \"cumulative_sum\": 30, \"estado\": \"S\\u00e3o Paulo\", \"regiao\": \" SE\"}, {\"ano_coleta\": 1986.0, \"regiao_e_estado\": \"S\\u00e3o Paulo, SE\", \"counts\": 1, \"cumulative_sum\": 31, \"estado\": \"S\\u00e3o Paulo\", \"regiao\": \" SE\"}, {\"ano_coleta\": 1987.0, \"regiao_e_estado\": \"S\\u00e3o Paulo, SE\", \"counts\": 2, \"cumulative_sum\": 33, \"estado\": \"S\\u00e3o Paulo\", \"regiao\": \" SE\"}, {\"ano_coleta\": 1988.0, \"regiao_e_estado\": \"S\\u00e3o Paulo, SE\", \"counts\": 1, \"cumulative_sum\": 34, \"estado\": \"S\\u00e3o Paulo\", \"regiao\": \" SE\"}, {\"ano_coleta\": 1989.0, \"regiao_e_estado\": \"S\\u00e3o Paulo, SE\", \"counts\": 1, \"cumulative_sum\": 35, \"estado\": \"S\\u00e3o Paulo\", \"regiao\": \" SE\"}, {\"ano_coleta\": 1990.0, \"regiao_e_estado\": \"S\\u00e3o Paulo, SE\", \"counts\": 1, \"cumulative_sum\": 36, \"estado\": \"S\\u00e3o Paulo\", \"regiao\": \" SE\"}, {\"ano_coleta\": 1991.0, \"regiao_e_estado\": \"S\\u00e3o Paulo, SE\", \"counts\": 1, \"cumulative_sum\": 37, \"estado\": \"S\\u00e3o Paulo\", \"regiao\": \" SE\"}, {\"ano_coleta\": 1992.0, \"regiao_e_estado\": \"S\\u00e3o Paulo, SE\", \"counts\": 1, \"cumulative_sum\": 38, \"estado\": \"S\\u00e3o Paulo\", \"regiao\": \" SE\"}, {\"ano_coleta\": 1993.0, \"regiao_e_estado\": \"S\\u00e3o Paulo, SE\", \"counts\": 1, \"cumulative_sum\": 39, \"estado\": \"S\\u00e3o Paulo\", \"regiao\": \" SE\"}, {\"ano_coleta\": 1994.0, \"regiao_e_estado\": \"S\\u00e3o Paulo, SE\", \"counts\": 1, \"cumulative_sum\": 40, \"estado\": \"S\\u00e3o Paulo\", \"regiao\": \" SE\"}, {\"ano_coleta\": 1995.0, \"regiao_e_estado\": \"S\\u00e3o Paulo, SE\", \"counts\": 1, \"cumulative_sum\": 41, \"estado\": \"S\\u00e3o Paulo\", \"regiao\": \" SE\"}, {\"ano_coleta\": 1996.0, \"regiao_e_estado\": \"S\\u00e3o Paulo, SE\", \"counts\": 1, \"cumulative_sum\": 42, \"estado\": \"S\\u00e3o Paulo\", \"regiao\": \" SE\"}, {\"ano_coleta\": 1997.0, \"regiao_e_estado\": \"S\\u00e3o Paulo, SE\", \"counts\": 1, \"cumulative_sum\": 43, \"estado\": \"S\\u00e3o Paulo\", \"regiao\": \" SE\"}, {\"ano_coleta\": 1998.0, \"regiao_e_estado\": \"S\\u00e3o Paulo, SE\", \"counts\": 1, \"cumulative_sum\": 44, \"estado\": \"S\\u00e3o Paulo\", \"regiao\": \" SE\"}, {\"ano_coleta\": 1999.0, \"regiao_e_estado\": \"S\\u00e3o Paulo, SE\", \"counts\": 1, \"cumulative_sum\": 45, \"estado\": \"S\\u00e3o Paulo\", \"regiao\": \" SE\"}, {\"ano_coleta\": 2000.0, \"regiao_e_estado\": \"S\\u00e3o Paulo, SE\", \"counts\": 1, \"cumulative_sum\": 46, \"estado\": \"S\\u00e3o Paulo\", \"regiao\": \" SE\"}, {\"ano_coleta\": 2001.0, \"regiao_e_estado\": \"S\\u00e3o Paulo, SE\", \"counts\": 1, \"cumulative_sum\": 47, \"estado\": \"S\\u00e3o Paulo\", \"regiao\": \" SE\"}, {\"ano_coleta\": 2002.0, \"regiao_e_estado\": \"S\\u00e3o Paulo, SE\", \"counts\": 1, \"cumulative_sum\": 48, \"estado\": \"S\\u00e3o Paulo\", \"regiao\": \" SE\"}, {\"ano_coleta\": 2003.0, \"regiao_e_estado\": \"S\\u00e3o Paulo, SE\", \"counts\": 1, \"cumulative_sum\": 49, \"estado\": \"S\\u00e3o Paulo\", \"regiao\": \" SE\"}, {\"ano_coleta\": 2004.0, \"regiao_e_estado\": \"S\\u00e3o Paulo, SE\", \"counts\": 1, \"cumulative_sum\": 50, \"estado\": \"S\\u00e3o Paulo\", \"regiao\": \" SE\"}, {\"ano_coleta\": 2005.0, \"regiao_e_estado\": \"S\\u00e3o Paulo, SE\", \"counts\": 1, \"cumulative_sum\": 51, \"estado\": \"S\\u00e3o Paulo\", \"regiao\": \" SE\"}, {\"ano_coleta\": 2006.0, \"regiao_e_estado\": \"S\\u00e3o Paulo, SE\", \"counts\": 1, \"cumulative_sum\": 52, \"estado\": \"S\\u00e3o Paulo\", \"regiao\": \" SE\"}, {\"ano_coleta\": 2007.0, \"regiao_e_estado\": \"S\\u00e3o Paulo, SE\", \"counts\": 1, \"cumulative_sum\": 53, \"estado\": \"S\\u00e3o Paulo\", \"regiao\": \" SE\"}, {\"ano_coleta\": 2008.0, \"regiao_e_estado\": \"S\\u00e3o Paulo, SE\", \"counts\": 1, \"cumulative_sum\": 54, \"estado\": \"S\\u00e3o Paulo\", \"regiao\": \" SE\"}, {\"ano_coleta\": 2009.0, \"regiao_e_estado\": \"S\\u00e3o Paulo, SE\", \"counts\": 1, \"cumulative_sum\": 55, \"estado\": \"S\\u00e3o Paulo\", \"regiao\": \" SE\"}, {\"ano_coleta\": 2010.0, \"regiao_e_estado\": \"S\\u00e3o Paulo, SE\", \"counts\": 1, \"cumulative_sum\": 56, \"estado\": \"S\\u00e3o Paulo\", \"regiao\": \" SE\"}, {\"ano_coleta\": 2011.0, \"regiao_e_estado\": \"S\\u00e3o Paulo, SE\", \"counts\": 1, \"cumulative_sum\": 57, \"estado\": \"S\\u00e3o Paulo\", \"regiao\": \" SE\"}, {\"ano_coleta\": 2012.0, \"regiao_e_estado\": \"S\\u00e3o Paulo, SE\", \"counts\": 1, \"cumulative_sum\": 58, \"estado\": \"S\\u00e3o Paulo\", \"regiao\": \" SE\"}, {\"ano_coleta\": 2013.0, \"regiao_e_estado\": \"S\\u00e3o Paulo, SE\", \"counts\": 1, \"cumulative_sum\": 59, \"estado\": \"S\\u00e3o Paulo\", \"regiao\": \" SE\"}, {\"ano_coleta\": 2014.0, \"regiao_e_estado\": \"S\\u00e3o Paulo, SE\", \"counts\": 1, \"cumulative_sum\": 60, \"estado\": \"S\\u00e3o Paulo\", \"regiao\": \" SE\"}, {\"ano_coleta\": 2015.0, \"regiao_e_estado\": \"S\\u00e3o Paulo, SE\", \"counts\": 1, \"cumulative_sum\": 61, \"estado\": \"S\\u00e3o Paulo\", \"regiao\": \" SE\"}, {\"ano_coleta\": 2016.0, \"regiao_e_estado\": \"S\\u00e3o Paulo, SE\", \"counts\": 1, \"cumulative_sum\": 62, \"estado\": \"S\\u00e3o Paulo\", \"regiao\": \" SE\"}, {\"ano_coleta\": 1981.0, \"regiao_e_estado\": \"Tocantins, N\", \"counts\": 1, \"cumulative_sum\": 1, \"estado\": \"Tocantins\", \"regiao\": \" N\"}, {\"ano_coleta\": 1987.0, \"regiao_e_estado\": \"Tocantins, N\", \"counts\": 1, \"cumulative_sum\": 2, \"estado\": \"Tocantins\", \"regiao\": \" N\"}, {\"ano_coleta\": 1989.0, \"regiao_e_estado\": \"Tocantins, N\", \"counts\": 1, \"cumulative_sum\": 3, \"estado\": \"Tocantins\", \"regiao\": \" N\"}, {\"ano_coleta\": 2002.0, \"regiao_e_estado\": \"Tocantins, N\", \"counts\": 1, \"cumulative_sum\": 4, \"estado\": \"Tocantins\", \"regiao\": \" N\"}, {\"ano_coleta\": 2005.0, \"regiao_e_estado\": \"Tocantins, N\", \"counts\": 1, \"cumulative_sum\": 5, \"estado\": \"Tocantins\", \"regiao\": \" N\"}, {\"ano_coleta\": 2006.0, \"regiao_e_estado\": \"Tocantins, N\", \"counts\": 1, \"cumulative_sum\": 6, \"estado\": \"Tocantins\", \"regiao\": \" N\"}, {\"ano_coleta\": 2007.0, \"regiao_e_estado\": \"Tocantins, N\", \"counts\": 1, \"cumulative_sum\": 7, \"estado\": \"Tocantins\", \"regiao\": \" N\"}, {\"ano_coleta\": 2008.0, \"regiao_e_estado\": \"Tocantins, N\", \"counts\": 2, \"cumulative_sum\": 9, \"estado\": \"Tocantins\", \"regiao\": \" N\"}, {\"ano_coleta\": 2009.0, \"regiao_e_estado\": \"Tocantins, N\", \"counts\": 1, \"cumulative_sum\": 10, \"estado\": \"Tocantins\", \"regiao\": \" N\"}, {\"ano_coleta\": 2010.0, \"regiao_e_estado\": \"Tocantins, N\", \"counts\": 1, \"cumulative_sum\": 11, \"estado\": \"Tocantins\", \"regiao\": \" N\"}, {\"ano_coleta\": 2011.0, \"regiao_e_estado\": \"Tocantins, N\", \"counts\": 1, \"cumulative_sum\": 12, \"estado\": \"Tocantins\", \"regiao\": \" N\"}, {\"ano_coleta\": 2013.0, \"regiao_e_estado\": \"Tocantins, N\", \"counts\": 1, \"cumulative_sum\": 13, \"estado\": \"Tocantins\", \"regiao\": \" N\"}, {\"ano_coleta\": 2014.0, \"regiao_e_estado\": \"Tocantins, N\", \"counts\": 1, \"cumulative_sum\": 14, \"estado\": \"Tocantins\", \"regiao\": \" N\"}]}}, {\"mode\": \"vega-lite\"});\n",
       "</script>"
      ],
      "text/plain": [
       "alt.Chart(...)"
      ]
     },
     "execution_count": 145,
     "metadata": {},
     "output_type": "execute_result"
    }
   ],
   "source": [
    "g1 = alt.Chart(teste, title='Evolução temporal da coleção por Estado', width=600).mark_line(point=True).encode(\n",
    "    x= alt.X('ano_coleta', type=\"ordinal\", title='Ano de Coleta'),\n",
    "    y= alt.Y('cumulative_sum', title='', \n",
    "             sort=alt.EncodingSortField('counts', op=\"count\", order='descending')),\n",
    "    color= alt.Color('estado:N', title='Estado', \n",
    "                        legend= alt.Legend(columns=2, symbolLimit=42),\n",
    "                     scale= alt.Scale(domain=list(cores_estados.keys()), range=list(cores_estados.values()))),\n",
    "    tooltip= alt.Tooltip(['regiao_e_estado','ano_coleta','counts', 'cumulative_sum'])\n",
    ")\n",
    "\n",
    "g1 = g1.configure_title(fontSize=16).configure_axis(\n",
    "    labelFontSize=12,\n",
    "    titleFontSize=12\n",
    ").configure_legend(\n",
    "    labelFontSize=12,\n",
    "    titleFontSize=12\n",
    ")\n",
    "\n",
    "# g1.save('./graphs/cumCounts/time-spacial/evolucao_por_estado.html')\n",
    "\n",
    "g1"
   ]
  },
  {
   "cell_type": "markdown",
   "metadata": {},
   "source": [
    "<br>\n",
    "\n",
    "## Lat Long"
   ]
  },
  {
   "cell_type": "code",
   "execution_count": 16,
   "metadata": {
    "ExecuteTime": {
     "end_time": "2020-08-29T16:05:42.726874Z",
     "start_time": "2020-08-29T16:05:42.701216Z"
    }
   },
   "outputs": [],
   "source": [
    "def regiao(est):\n",
    "    if est not in regioes.keys():\n",
    "        return np.NAN\n",
    "    else:\n",
    "        return regioes[est]\n",
    "    \n",
    "NewTable['regiao'] = NewTable['estado_ou_provincia'].apply(regiao)"
   ]
  },
  {
   "cell_type": "code",
   "execution_count": 17,
   "metadata": {
    "ExecuteTime": {
     "end_time": "2020-08-29T16:05:43.152058Z",
     "start_time": "2020-08-29T16:05:43.129332Z"
    }
   },
   "outputs": [],
   "source": [
    "from vega_datasets import data\n",
    "\n",
    "source = alt.topo_feature(data.world_110m.url, 'countries')\n",
    "\n",
    "world = alt.Chart(source).mark_geoshape(\n",
    "    fill='white',\n",
    "    stroke='gray'\n",
    ").project('naturalEarth1')\n",
    "\n",
    "# world"
   ]
  },
  {
   "cell_type": "code",
   "execution_count": 18,
   "metadata": {
    "ExecuteTime": {
     "end_time": "2020-08-29T16:05:51.431313Z",
     "start_time": "2020-08-29T16:05:44.024771Z"
    }
   },
   "outputs": [],
   "source": [
    "# dynamic version\n",
    "slider = alt.binding_range(min=1900, max=2016, step=1)\n",
    "select_year = alt.selection_single(name=' ', fields=['ano_coleta'],\n",
    "                                   bind=slider, init={'ano_coleta': 1935})\n",
    "\n",
    "# data = NewTable[(NewTable['long'] < 10) & (NewTable['long'] >-150)].copy()\n",
    "data = NewTable.copy()\n",
    "\n",
    "back = alt.Chart(data).mark_circle(opacity=0.7, color='lightgray').encode(\n",
    "    longitude = alt.X('long', type='quantitative', title='Longitude'),\n",
    "    latitude = alt.Y('lat', type='quantitative', title='Latitude'),\n",
    "    tooltip = alt.Tooltip(['lat','long','pais','regiao','estado_ou_provincia',\n",
    "                           'ano_coleta','mes_coleta', 'ordem'])\n",
    ")\n",
    "\n",
    "front = alt.Chart(data).mark_circle().encode(\n",
    "    longitude = alt.X('long', type='quantitative', title='Longitude'),\n",
    "    latitude = alt.Y('lat', type='quantitative', title='Latitude'),\n",
    "    color = alt.Color('ordem:N', title='Ordem', scale=\n",
    "                     alt.Scale(range=cores, domain=ordens)),\n",
    "    tooltip = alt.Tooltip(['lat','long','pais','regiao','estado_ou_provincia',\n",
    "                           'ano_coleta','mes_coleta', 'ordem'])\n",
    ").add_selection(\n",
    "    select_year\n",
    ").transform_filter(\n",
    "    select_year\n",
    ")\n",
    "\n",
    "equador = alt.Chart(data[data['lat'] == 0], width=800, height= 400).mark_rule(color='black').encode(\n",
    "    y = alt.Y('lat:Q', axis=alt.Axis(grid=False))\n",
    ")\n",
    "\n",
    "\n",
    "g = alt.layer(world, back, front).properties(\n",
    "    width= 800,\n",
    "    height= 500\n",
    ")  # tirei o equador\n",
    "\n",
    "# ajustando tamanho de fonte\n",
    "g = g.configure_title(fontSize=16).configure_axis(\n",
    "    labelFontSize=12,\n",
    "    titleFontSize=12\n",
    ").configure_legend(\n",
    "    labelFontSize=12,\n",
    "    titleFontSize=12\n",
    ")\n",
    "\n",
    "# g.save('./graphs/time-spacial/lat_long-worldwide.html')\n",
    "\n",
    "# g"
   ]
  },
  {
   "cell_type": "markdown",
   "metadata": {},
   "source": [
    "<br>\n",
    "\n",
    "<font color='red' size='5'>Lat long (layout 2 estático)</font>"
   ]
  },
  {
   "cell_type": "code",
   "execution_count": 49,
   "metadata": {},
   "outputs": [],
   "source": [
    "# https://nextjournal.com/sdanisch/cartographic-visualization\n",
    "\n",
    "# seletores\n",
    "select_order = alt.selection_multi(fields=['ordem'], bind='legend')\n",
    "select_type = alt.selection_multi(fields=['type_status'], bind='legend')\n",
    "\n",
    "tipos = NewTable['type_status'].unique()  # lista temporária! ajustar depois!\n",
    "\n",
    "# AJUSTAR CORES\n",
    "\n",
    "from vega_datasets import data\n",
    "\n",
    "front = alt.Chart(NewTable).mark_point(filled=True).encode(\n",
    "    longitude = alt.X('long', type='quantitative', title='Longitude'),\n",
    "    latitude = alt.Y('lat', type='quantitative', title='Latitude'),\n",
    "    color = alt.Color('ordem:N', title='Ordem', scale=\n",
    "                     alt.Scale(range=cores, domain=ordens)),\n",
    "    shape = alt.Shape('type_status:N', title='Type', scale= alt.Scale(domain=tipos)),\n",
    "    tooltip = alt.Tooltip(['lat','long','pais','regiao','estado_ou_provincia',\n",
    "                           'ano_coleta','mes_coleta', 'genero_atual','familia','ordem', 'type_status'])\n",
    ").add_selection(select_order, select_type).transform_filter(select_order).transform_filter(select_type)\n",
    "\n",
    "mapa = alt.layer(\n",
    "     # use the sphere of the Earth as the base layer\n",
    "    alt.Chart({'sphere': True}).mark_geoshape(\n",
    "        fill='#f2f2f2'\n",
    "    ),\n",
    "    # add a graticule for geographic reference lines\n",
    "    alt.Chart({'graticule': True}).mark_geoshape(\n",
    "        stroke='#ffffff', strokeWidth=1\n",
    "    ),\n",
    "    # and then the countries of the world\n",
    "    alt.Chart(alt.topo_feature(data.world_110m.url, 'countries')).mark_geoshape(\n",
    "        fill='#white', stroke='black', strokeWidth=0.5\n",
    "    ),\n",
    "    front\n",
    ").properties(\n",
    "    width=800,\n",
    "    height=500\n",
    ")\n",
    "\n",
    "mapa = mapa.project(\n",
    "    type='naturalEarth1', scale=140\n",
    ").configure_view(stroke=None)\n",
    "\n",
    "mapa = mapa.configure_title(fontSize=16).configure_axis(\n",
    "    labelFontSize=12,\n",
    "    titleFontSize=12\n",
    ").configure_legend(\n",
    "    labelFontSize=12,\n",
    "    titleFontSize=12\n",
    ")\n",
    "\n",
    "# mapa.save('./graphs/time-spacial/lat_long-worldwide-static-grid.html')\n",
    "\n",
    "# mapa"
   ]
  },
  {
   "cell_type": "code",
   "execution_count": 52,
   "metadata": {},
   "outputs": [],
   "source": [
    "teste = alt.Chart(NewTable).mark_point(filled=True).encode(\n",
    "    longitude = alt.X('long:Q', title='Longitude'),\n",
    "    latitude = alt.Y('lat:Q', title='Latitude'),\n",
    "    color = alt.Color('ordem:N', title='Ordem', scale = alt.Scale(range=cores, domain=ordens)),\n",
    "    shape = alt.Shape('type_status:N', title='Type', scale= alt.Scale(domain=tipos)),\n",
    "    tooltip = alt.Tooltip(['lat','long','pais','regiao','estado_ou_provincia',\n",
    "                           'ano_coleta','mes_coleta', 'genero_atual','familia','ordem', 'type_status'])\n",
    ").project(type='naturalEarth1').add_selection(select_order, \n",
    "                            select_type).transform_filter(select_order).transform_filter(select_type)\n",
    "\n",
    "temp = (world + teste).properties(width=800, height=500).configure_title(fontSize=16).configure_axis(\n",
    "    labelFontSize=12,\n",
    "    titleFontSize=12\n",
    ").configure_legend(\n",
    "    labelFontSize=12,\n",
    "    titleFontSize=12\n",
    ")\n",
    "\n",
    "# temp.save('./graphs/time-spacial/lat_long-worldwide-static.html')\n",
    "# temp"
   ]
  },
  {
   "cell_type": "markdown",
   "metadata": {},
   "source": [
    "<br>\n",
    "\n",
    "### Latin America"
   ]
  },
  {
   "cell_type": "code",
   "execution_count": 53,
   "metadata": {},
   "outputs": [],
   "source": [
    "# seletores\n",
    "select_order = alt.selection_multi(fields=['ordem'], bind='legend')\n",
    "select_type = alt.selection_multi(fields=['type_status'], bind='legend')\n",
    "\n",
    "tipos = NewTable['type_status'].unique()  # lista temporária! ajustar depois!\n",
    "\n",
    "# mapa\n",
    "from vega_datasets import data\n",
    "\n",
    "source = alt.topo_feature(data.world_110m.url, 'countries')\n",
    "\n",
    "latinAmerica = alt.Chart(source).mark_geoshape(\n",
    "    fill='white',\n",
    "    stroke='gray'\n",
    ").project('naturalEarth1', translate=[680, 150], scale=450)\n",
    "\n",
    "# pontos\n",
    "teste = alt.Chart(NewTable).mark_point(filled=True).encode(\n",
    "    longitude = alt.X('long:Q', title='Longitude'),\n",
    "    latitude = alt.Y('lat:Q', title='Latitude'),\n",
    "    color = alt.Color('ordem:N', title='Order', scale = alt.Scale(range=cores, domain=ordens)),\n",
    "    shape = alt.Shape('type_status:N', title='Type', scale= alt.Scale(domain=tipos)),\n",
    "    tooltip = alt.Tooltip(['lat','long','pais','regiao','estado_ou_provincia',\n",
    "                           'ano_coleta','mes_coleta', 'genero_atual','familia','ordem', 'type_status'])\n",
    ").project(type='naturalEarth1', translate=[680, 150], scale=450).add_selection(select_order,\n",
    "                                select_type).transform_filter(select_order).transform_filter(select_type)\n",
    "\n",
    "\n",
    "# configurando grafico\n",
    "temp = (latinAmerica + teste).properties(width=600, height=600).configure_title(fontSize=16).configure_axis(\n",
    "    labelFontSize=12,\n",
    "    titleFontSize=12\n",
    ").configure_legend(\n",
    "    labelFontSize=12,\n",
    "    titleFontSize=12\n",
    ")\n",
    "\n",
    "# temp.save('./graphs/time-spacial/lat_long-latinAmerica-static.html')\n",
    "# temp"
   ]
  },
  {
   "cell_type": "markdown",
   "metadata": {},
   "source": [
    "**Fim!**"
   ]
  }
 ],
 "metadata": {
  "kernelspec": {
   "display_name": "Python 3",
   "language": "python",
   "name": "python3"
  },
  "language_info": {
   "codemirror_mode": {
    "name": "ipython",
    "version": 3
   },
   "file_extension": ".py",
   "mimetype": "text/x-python",
   "name": "python",
   "nbconvert_exporter": "python",
   "pygments_lexer": "ipython3",
   "version": "3.9.1"
  },
  "latex_envs": {
   "LaTeX_envs_menu_present": true,
   "autoclose": false,
   "autocomplete": true,
   "bibliofile": "biblio.bib",
   "cite_by": "apalike",
   "current_citInitial": 1,
   "eqLabelWithNumbers": true,
   "eqNumInitial": 1,
   "hotkeys": {
    "equation": "Ctrl-E",
    "itemize": "Ctrl-I"
   },
   "labels_anchors": false,
   "latex_user_defs": false,
   "report_style_numbering": false,
   "user_envs_cfg": false
  },
  "toc": {
   "base_numbering": 1,
   "nav_menu": {},
   "number_sections": true,
   "sideBar": true,
   "skip_h1_title": false,
   "title_cell": "Table of Contents",
   "title_sidebar": "Contents",
   "toc_cell": false,
   "toc_position": {},
   "toc_section_display": true,
   "toc_window_display": false
  },
  "varInspector": {
   "cols": {
    "lenName": 16,
    "lenType": 16,
    "lenVar": 40
   },
   "kernels_config": {
    "python": {
     "delete_cmd_postfix": "",
     "delete_cmd_prefix": "del ",
     "library": "var_list.py",
     "varRefreshCmd": "print(var_dic_list())"
    },
    "r": {
     "delete_cmd_postfix": ") ",
     "delete_cmd_prefix": "rm(",
     "library": "var_list.r",
     "varRefreshCmd": "cat(var_dic_list()) "
    }
   },
   "types_to_exclude": [
    "module",
    "function",
    "builtin_function_or_method",
    "instance",
    "_Feature"
   ],
   "window_display": false
  }
 },
 "nbformat": 4,
 "nbformat_minor": 4
}
