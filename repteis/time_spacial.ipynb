{
 "cells": [
  {
   "cell_type": "markdown",
   "metadata": {},
   "source": [
    "# Time-Spacial Exploration\n",
    "\n",
    "By **Franklin Oliveira**\n",
    "\n",
    "-----\n",
    "This notebook contains all code necessary to make charts from `repteis` database with focus on time and space exploration. Here you'll find some basic data treatment and charts' code. \n",
    "\n",
    "Database: <font color='blue'>'Compilacao Livros Repteis - 2 a 10 - 2020_04_28.xls'</font>.m\n",
    "    "
   ]
  },
  {
   "cell_type": "code",
   "execution_count": 1,
   "metadata": {
    "ExecuteTime": {
     "end_time": "2021-01-05T13:52:52.393811Z",
     "start_time": "2021-01-05T13:52:51.471166Z"
    }
   },
   "outputs": [
    {
     "data": {
      "text/plain": [
       "DataTransformerRegistry.enable('default')"
      ]
     },
     "execution_count": 1,
     "metadata": {},
     "output_type": "execute_result"
    }
   ],
   "source": [
    "import datetime\n",
    "import numpy as np\n",
    "import pandas as pd\n",
    "\n",
    "from collections import defaultdict\n",
    "\n",
    "# quick visualization\n",
    "import matplotlib.pyplot as plt\n",
    "import seaborn as sns\n",
    "\n",
    "# Waffle Charts\n",
    "# from pywaffle import Waffle \n",
    "# docs: https://pywaffle.readthedocs.io/en/latest/examples/block_shape_distance_location_and_direction.html\n",
    "\n",
    "# visualization\n",
    "import altair as alt\n",
    "\n",
    "# enabling notebook renderer\n",
    "# alt.renderers.enable('notebook')\n",
    "# alt.renderers.enable('default')\n",
    "\n",
    "# disabling rows limit\n",
    "alt.data_transformers.disable_max_rows()"
   ]
  },
  {
   "cell_type": "markdown",
   "metadata": {},
   "source": [
    "## Importing data..."
   ]
  },
  {
   "cell_type": "code",
   "execution_count": 2,
   "metadata": {
    "ExecuteTime": {
     "end_time": "2021-01-05T13:52:52.573500Z",
     "start_time": "2021-01-05T13:52:52.395585Z"
    }
   },
   "outputs": [],
   "source": [
    "NewTable = pd.read_csv('./data/treated_db.csv', sep=';', encoding='utf-8-sig', low_memory=False)"
   ]
  },
  {
   "cell_type": "markdown",
   "metadata": {},
   "source": [
    "<br>\n",
    "\n",
    "<font size=5>**Color palette per Order**</font>\n",
    "\n",
    "The image below served as inspiration (https://color.adobe.com/create/image)\n",
    "\n",
    "<img src=\"./src/paleta_cores.jpeg\" width='500px'>\n",
    "\n",
    "Cores: \n",
    "\n",
    "- verde_escuro: #284021\n",
    "- verde_claro: #88BF11\n",
    "- amarelo: #D9CB0B\n",
    "- laranja: #D99311\n",
    "- laranja_escuro: #BF4417\n",
    "- marrom-_laro: #BF8D7A"
   ]
  },
  {
   "cell_type": "code",
   "execution_count": 3,
   "metadata": {
    "ExecuteTime": {
     "end_time": "2021-01-05T13:52:52.578730Z",
     "start_time": "2021-01-05T13:52:52.575713Z"
    }
   },
   "outputs": [],
   "source": [
    "# p.s.: Caudata is an error and should be removed\n",
    "cores_ordem = {\n",
    "    'Squamata': '#BF4417',\n",
    "    'Testudines': '#D9CB0B', \n",
    "    'Crocodylia': '#284021'\n",
    "}\n",
    "\n",
    "ordens = list(cores_ordem.keys())\n",
    "cores = list(cores_ordem.values())"
   ]
  },
  {
   "cell_type": "markdown",
   "metadata": {},
   "source": [
    "<br>\n",
    "\n",
    "## Graph: Exploring time-spacial evolution of the database"
   ]
  },
  {
   "cell_type": "code",
   "execution_count": 8,
   "metadata": {
    "ExecuteTime": {
     "end_time": "2021-01-05T13:52:52.831781Z",
     "start_time": "2021-01-05T13:52:52.773735Z"
    }
   },
   "outputs": [],
   "source": [
    "# corrects a typo (Améica do Sul)\n",
    "NewTable['continente'] = NewTable['continente'].apply(lambda x: 'América do Sul' if x=='Améica do Sul' else x)"
   ]
  },
  {
   "cell_type": "code",
   "execution_count": 9,
   "metadata": {
    "ExecuteTime": {
     "end_time": "2021-01-05T13:52:52.877867Z",
     "start_time": "2021-01-05T13:52:52.833980Z"
    }
   },
   "outputs": [
    {
     "data": {
      "text/plain": [
       "América do Sul      21927\n",
       "América Central       135\n",
       "América do Norte      103\n",
       "Ásia                   54\n",
       "#N/D                   25\n",
       "África                 13\n",
       "Europa                  9\n",
       "Name: continente, dtype: int64"
      ]
     },
     "execution_count": 9,
     "metadata": {},
     "output_type": "execute_result"
    }
   ],
   "source": [
    "# looking good...\n",
    "NewTable['continente'].value_counts()"
   ]
  },
  {
   "cell_type": "markdown",
   "metadata": {},
   "source": [
    "### Chart 1: Evolution per time and continent"
   ]
  },
  {
   "cell_type": "code",
   "execution_count": 10,
   "metadata": {
    "ExecuteTime": {
     "end_time": "2021-01-05T13:52:52.970564Z",
     "start_time": "2021-01-05T13:52:52.879467Z"
    }
   },
   "outputs": [],
   "source": [
    "# agrupando por Ano e Continente\n",
    "teste = NewTable.groupby(['ano_coleta','continente', 'ordem']).count()['class'].reset_index().rename(columns={\n",
    "    'class':'counts'\n",
    "})"
   ]
  },
  {
   "cell_type": "code",
   "execution_count": 11,
   "metadata": {
    "ExecuteTime": {
     "end_time": "2021-01-05T13:52:52.989550Z",
     "start_time": "2021-01-05T13:52:52.972634Z"
    }
   },
   "outputs": [],
   "source": [
    "g1 = alt.Chart(teste, title='Evolução temporal da coleção por continente').mark_circle().encode(\n",
    "    x= alt.X('ano_coleta', type=\"ordinal\", title='Ano de Coleta'),\n",
    "    y= alt.Y('continente', title='Continente', \n",
    "             sort=alt.EncodingSortField('counts', op=\"count\", order='descending')), \n",
    "    size=alt.Size('counts', scale= alt.Scale(range=[30,1200])), \n",
    "    order= alt.Order('counts', sort='descending'),  # smaller points in front\n",
    "    color= alt.Color('ordem', scale=alt.Scale(domain=ordens, range=cores)),\n",
    "    tooltip= alt.Tooltip(['continente','ano_coleta','ordem','counts'])\n",
    ")\n",
    "\n",
    "g1 = g1.configure_title(fontSize=16).configure_axis(\n",
    "    labelFontSize=12,\n",
    "    titleFontSize=12\n",
    ").configure_legend(\n",
    "    labelFontSize=12,\n",
    "    titleFontSize=12\n",
    ")\n",
    "\n",
    "# g1.save('./graphs/time-spacial/evolucao_por_continente.html')\n",
    "\n",
    "# g1"
   ]
  },
  {
   "cell_type": "markdown",
   "metadata": {},
   "source": [
    "<br>\n",
    "\n",
    "### Chart 2: Evolution per time and country"
   ]
  },
  {
   "cell_type": "code",
   "execution_count": 54,
   "metadata": {
    "ExecuteTime": {
     "end_time": "2021-01-04T16:26:38.946607Z",
     "start_time": "2021-01-04T16:26:38.909202Z"
    }
   },
   "outputs": [],
   "source": [
    "# agrupando por Ano e Continente\n",
    "teste1 = NewTable.groupby(['ano_coleta','pais', 'ordem']).count()['class'].reset_index().rename(columns={\n",
    "    'class':'counts'\n",
    "})"
   ]
  },
  {
   "cell_type": "code",
   "execution_count": 55,
   "metadata": {
    "ExecuteTime": {
     "end_time": "2021-01-04T16:26:39.297352Z",
     "start_time": "2021-01-04T16:26:39.281972Z"
    }
   },
   "outputs": [],
   "source": [
    "# retirei Brasil (será detalhado por Estados depois)\n",
    "g1 = alt.Chart(teste1[teste1['pais'] != 'Brasil'], title='Animais coletados por ano em outros países',\n",
    "              width=800).mark_circle().encode(\n",
    "    x= alt.X('ano_coleta', type=\"ordinal\", title='Ano de Coleta'),\n",
    "    y= alt.Y('pais', title='País', \n",
    "             sort=alt.EncodingSortField('counts', op=\"sum\", order='descending')), \n",
    "    size=alt.Size('counts', scale= alt.Scale(range=[20,250])), \n",
    "    order= alt.Order('counts', sort='descending'),  # smaller points in front\n",
    "    color= alt.Color('ordem', scale=alt.Scale(domain=ordens, range=cores)),\n",
    "    tooltip= alt.Tooltip(['pais','ano_coleta','ordem','counts'])\n",
    ")\n",
    "\n",
    "g1 = g1.configure_title(fontSize=16).configure_axis(\n",
    "    labelFontSize=12,\n",
    "    titleFontSize=12\n",
    ").configure_legend(\n",
    "    labelFontSize=12,\n",
    "    titleFontSize=12\n",
    ")\n",
    "\n",
    "# g1.save('./graphs/time-spacial/evolucao_por_pais.html')\n",
    "\n",
    "# g1"
   ]
  },
  {
   "cell_type": "markdown",
   "metadata": {},
   "source": [
    "<br>\n",
    "\n",
    "### Chart 3: Evolution per time and brazilian states"
   ]
  },
  {
   "cell_type": "code",
   "execution_count": 128,
   "metadata": {
    "ExecuteTime": {
     "end_time": "2021-01-04T19:04:36.676565Z",
     "start_time": "2021-01-04T19:04:36.634200Z"
    }
   },
   "outputs": [],
   "source": [
    "# agrupando por Ano e Continente\n",
    "teste2 = NewTable[NewTable['pais'] == 'Brasil']\n",
    "teste2 = teste2.groupby(['ano_coleta','estado_ou_provincia', 'ordem']).count()['class'].reset_index().rename(columns={\n",
    "    'class':'counts'\n",
    "})"
   ]
  },
  {
   "cell_type": "markdown",
   "metadata": {},
   "source": [
    "#### creating column with brazilian regions"
   ]
  },
  {
   "cell_type": "code",
   "execution_count": 129,
   "metadata": {
    "ExecuteTime": {
     "end_time": "2021-01-04T19:04:37.406201Z",
     "start_time": "2021-01-04T19:04:37.391664Z"
    }
   },
   "outputs": [],
   "source": [
    "regioes = {\n",
    "    'Rio de Janeiro':'SE',\n",
    "    'São Paulo':'SE',\n",
    "    'Espírito Santo': 'SE',\n",
    "    'Pernambuco':'NE',\n",
    "    'Santa Catarina':'S',\n",
    "    'Amazonas':'N',\n",
    "    'Goiás':'CO',\n",
    "    'Roraima':'N',\n",
    "    'Pará':'N',\n",
    "    'Mato Grosso':'CO',\n",
    "    'Acre': 'N',\n",
    "    'Bahia': 'NE',\n",
    "    'Minas Gerais': 'SE',\n",
    "    'Mato Grosso do Sul': 'CO',\n",
    "    'Paraná': 'S',\n",
    "    'Rondônia': 'N',\n",
    "    'Ceará': 'NE',\n",
    "    'Maranhão': 'N',\n",
    "    'Rio Grande do Sul': 'S',\n",
    "    'Paraíba': 'NE',\n",
    "    'Distrito Federal': 'CO',\n",
    "    'Alagoas': 'NE',\n",
    "    'Amapá':'N',\n",
    "    'Piauí': 'NE',\n",
    "    'Brasília': 'CO',\n",
    "    'Tocantins': 'N',\n",
    "    'Rio Grande do Norte': 'NE',\n",
    "    'Sergipe': 'NE',\n",
    "    'Minas Gerais/Goiás/Distrito Federal': 'CO',\n",
    "    'Santa Catarina-Rio Grande do Sul': 'S'\n",
    "}\n",
    "\n",
    "# criando coluna com as regiões\n",
    "teste2['regiao'] = teste2['estado_ou_provincia'].apply(lambda x: regioes[str(x)])\n",
    "\n",
    "# coluna com estado, regiao\n",
    "teste2['regiao_e_estado'] = teste2['estado_ou_provincia'] + ', ' + teste2['regiao']\n",
    "\n",
    "# ordenando por região e soma das contagens\n",
    "sorting = teste2.groupby(['regiao_e_estado', 'regiao']).sum()['counts'].reset_index(\n",
    "                                                                ).rename(columns={'counts':'soma'})\n",
    "sorting = sorting.sort_values(['regiao','soma'], ascending=False)['regiao_e_estado'].unique()"
   ]
  },
  {
   "cell_type": "code",
   "execution_count": 130,
   "metadata": {
    "ExecuteTime": {
     "end_time": "2021-01-04T19:04:43.472362Z",
     "start_time": "2021-01-04T19:04:43.466470Z"
    }
   },
   "outputs": [],
   "source": [
    "g1 = alt.Chart(teste2, title='Animais coletados por ano nos Estados Brasileiros').mark_circle(opacity=0.8).encode(\n",
    "    x= alt.X('ano_coleta', type=\"ordinal\", title='Ano de Coleta'),\n",
    "    y= alt.Y('regiao_e_estado', type=\"nominal\",title='Estado, Região',\n",
    "            sort= sorting, axis=alt.Axis(labels=True)), \n",
    "    y2 = alt.Y2('regiao', title='Região'),\n",
    "    size=alt.Size('counts', scale= alt.Scale(range=[30,1200], zero=False)), \n",
    "    order= alt.Order('counts', sort='descending'),  # smaller points in front\n",
    "    color= alt.Color('ordem', scale=alt.Scale(domain=ordens, range=cores)),\n",
    "    tooltip= alt.Tooltip(['regiao','estado_ou_provincia','ano_coleta','ordem','counts'])\n",
    ")\n",
    "\n",
    "# OBS: marca o background da região que eu quiser, mas distorce as cores\n",
    "# rule = alt.Chart(teste2[teste2['regiao'].isin(['SE','NE','CO'])], \n",
    "#                  title='Animais coletados por ano nos Estados Brasileiros').mark_rule(\n",
    "#                     opacity=0.1, size=19, color='#dedede', filled=False, fill='green').encode(\n",
    "#     y= alt.Y('regiao_e_estado', type=\"nominal\",title='Estado, Região',\n",
    "#             sort= sorting, axis=alt.Axis(labels=True))\n",
    "# )\n",
    "\n",
    "g1 = g1.configure_title(fontSize=16).configure_axis(\n",
    "    labelFontSize=12,\n",
    "    titleFontSize=12\n",
    ").configure_legend(\n",
    "    labelFontSize=12,\n",
    "    titleFontSize=12\n",
    ")\n",
    "\n",
    "# g1.save('./graphs/time-spacial/evolucao_por_estados_brasileiros.html')\n",
    "\n",
    "# g1"
   ]
  },
  {
   "cell_type": "markdown",
   "metadata": {},
   "source": [
    "<br>\n",
    "<br>\n",
    "\n",
    "<font color='red' size='5'> Separando por períodos </font>"
   ]
  },
  {
   "cell_type": "code",
   "execution_count": 131,
   "metadata": {
    "ExecuteTime": {
     "end_time": "2021-01-04T19:04:44.199022Z",
     "start_time": "2021-01-04T19:04:44.193905Z"
    }
   },
   "outputs": [],
   "source": [
    "# periodos: <1938, >=1938 e <= 1985, > 1985 \n",
    "ano_corte1 = 1938\n",
    "ano_corte2 = 1985\n",
    "\n",
    "periodo1 = teste2[teste2['ano_coleta'] < 1938].copy()\n",
    "periodo2 = teste2[(teste2['ano_coleta'] >= 1938) & (teste2['ano_coleta'] <= 1985)].copy()\n",
    "periodo3 = teste2[teste2['ano_coleta'] > 1985].copy()"
   ]
  },
  {
   "cell_type": "markdown",
   "metadata": {},
   "source": [
    "### periodo 1: até 1937"
   ]
  },
  {
   "cell_type": "code",
   "execution_count": 132,
   "metadata": {
    "ExecuteTime": {
     "end_time": "2021-01-04T19:04:45.542795Z",
     "start_time": "2021-01-04T19:04:45.532114Z"
    }
   },
   "outputs": [],
   "source": [
    "g1 = alt.Chart(periodo1, title='Animais coletados por ano nos Estados Brasileiros (até 1937)',\n",
    "              width=800, height=600).mark_circle(opacity=0.8).encode(\n",
    "    x= alt.X('ano_coleta', type=\"ordinal\", title='Ano de Coleta'),\n",
    "    y= alt.Y('regiao_e_estado', type=\"nominal\",title='Estado, Região',\n",
    "            sort= sorting, axis=alt.Axis(labels=True)), \n",
    "    y2 = alt.Y2('regiao', title='Região'),\n",
    "    size=alt.Size('counts', scale= alt.Scale(range=[30,1200], zero=False)), \n",
    "    order= alt.Order('counts', sort='descending'),  # smaller points in front\n",
    "    color= alt.Color('ordem', scale=alt.Scale(domain=ordens, range=cores)),\n",
    "    tooltip= alt.Tooltip(['regiao','estado_ou_provincia','ano_coleta','ordem','counts'])\n",
    ")\n",
    "\n",
    "g1 = g1.configure_title(fontSize=16).configure_axis(\n",
    "    labelFontSize=12,\n",
    "    titleFontSize=12\n",
    ").configure_legend(\n",
    "    labelFontSize=12,\n",
    "    titleFontSize=12\n",
    ")\n",
    "\n",
    "# g1.save('./graphs/time-spacial/evolucao_por_estados_brasileiros-ate1937.html')\n",
    "\n",
    "# g1"
   ]
  },
  {
   "cell_type": "markdown",
   "metadata": {},
   "source": [
    "### periodo 2: de 1938 a 1985"
   ]
  },
  {
   "cell_type": "code",
   "execution_count": 133,
   "metadata": {
    "ExecuteTime": {
     "end_time": "2021-01-04T19:04:46.385446Z",
     "start_time": "2021-01-04T19:04:46.379301Z"
    }
   },
   "outputs": [],
   "source": [
    "g1 = alt.Chart(periodo2, title='Animais coletados por ano nos Estados Brasileiros (de 1938 a 1985)',\n",
    "              width=800, height=600).mark_circle(opacity=0.8).encode(\n",
    "    x= alt.X('ano_coleta', type=\"ordinal\", title='Ano de Coleta'),\n",
    "    y= alt.Y('regiao_e_estado', type=\"nominal\",title='Estado, Região',\n",
    "            sort= sorting, axis=alt.Axis(labels=True)), \n",
    "    y2 = alt.Y2('regiao', title='Região'),\n",
    "    size=alt.Size('counts', scale= alt.Scale(range=[30,1200], zero=False)), \n",
    "    order= alt.Order('counts', sort='descending'),  # smaller points in front\n",
    "    color= alt.Color('ordem', scale=alt.Scale(domain=ordens, range=cores)),\n",
    "    tooltip= alt.Tooltip(['regiao','estado_ou_provincia','ano_coleta','ordem','counts'])\n",
    ")\n",
    "\n",
    "g1 = g1.configure_title(fontSize=16).configure_axis(\n",
    "    labelFontSize=12,\n",
    "    titleFontSize=12\n",
    ").configure_legend(\n",
    "    labelFontSize=12,\n",
    "    titleFontSize=12\n",
    ")\n",
    "\n",
    "# g1.save('./graphs/time-spacial/evolucao_por_estados_brasileiros-de1938a1985.html')\n",
    "\n",
    "# g1"
   ]
  },
  {
   "cell_type": "markdown",
   "metadata": {},
   "source": [
    "### periodo 3: após 1985"
   ]
  },
  {
   "cell_type": "code",
   "execution_count": 134,
   "metadata": {
    "ExecuteTime": {
     "end_time": "2021-01-04T19:04:47.361921Z",
     "start_time": "2021-01-04T19:04:47.356287Z"
    }
   },
   "outputs": [],
   "source": [
    "g1 = alt.Chart(periodo3, title='Animais coletados por ano nos Estados Brasileiros (após 1985)',\n",
    "              width=800, height=600).mark_circle(opacity=0.8).encode(\n",
    "    x= alt.X('ano_coleta', type=\"ordinal\", title='Ano de Coleta'),\n",
    "    y= alt.Y('regiao_e_estado', type=\"nominal\",title='Estado, Região',\n",
    "            sort= sorting, axis=alt.Axis(labels=True)), \n",
    "    y2 = alt.Y2('regiao', title='Região'),\n",
    "    size=alt.Size('counts', scale= alt.Scale(range=[30,1200], zero=False)), \n",
    "    order= alt.Order('counts', sort='descending'),  # smaller points in front\n",
    "    color= alt.Color('ordem', scale=alt.Scale(domain=ordens, range=cores)),\n",
    "    tooltip= alt.Tooltip(['regiao','estado_ou_provincia','ano_coleta','ordem','counts'])\n",
    ")\n",
    "\n",
    "g1 = g1.configure_title(fontSize=16).configure_axis(\n",
    "    labelFontSize=12,\n",
    "    titleFontSize=12\n",
    ").configure_legend(\n",
    "    labelFontSize=12,\n",
    "    titleFontSize=12\n",
    ")\n",
    "\n",
    "# g1.save('./graphs/time-spacial/evolucao_por_estados_brasileiros-apos1985.html')\n",
    "\n",
    "# g1"
   ]
  },
  {
   "cell_type": "markdown",
   "metadata": {},
   "source": [
    "<br>\n",
    "\n",
    "## Lat Long"
   ]
  },
  {
   "cell_type": "code",
   "execution_count": 16,
   "metadata": {
    "ExecuteTime": {
     "end_time": "2020-08-29T16:05:42.726874Z",
     "start_time": "2020-08-29T16:05:42.701216Z"
    }
   },
   "outputs": [],
   "source": [
    "def regiao(est):\n",
    "    if est not in regioes.keys():\n",
    "        return np.NAN\n",
    "    else:\n",
    "        return regioes[est]\n",
    "    \n",
    "NewTable['regiao'] = NewTable['estado_ou_provincia'].apply(regiao)"
   ]
  },
  {
   "cell_type": "code",
   "execution_count": 17,
   "metadata": {
    "ExecuteTime": {
     "end_time": "2020-08-29T16:05:43.152058Z",
     "start_time": "2020-08-29T16:05:43.129332Z"
    }
   },
   "outputs": [],
   "source": [
    "from vega_datasets import data\n",
    "\n",
    "source = alt.topo_feature(data.world_110m.url, 'countries')\n",
    "\n",
    "world = alt.Chart(source).mark_geoshape(\n",
    "    fill='white',\n",
    "    stroke='gray'\n",
    ").project('naturalEarth1')\n",
    "\n",
    "# world"
   ]
  },
  {
   "cell_type": "code",
   "execution_count": 18,
   "metadata": {
    "ExecuteTime": {
     "end_time": "2020-08-29T16:05:51.431313Z",
     "start_time": "2020-08-29T16:05:44.024771Z"
    }
   },
   "outputs": [],
   "source": [
    "# dynamic version\n",
    "slider = alt.binding_range(min=1900, max=2016, step=1)\n",
    "select_year = alt.selection_single(name=' ', fields=['ano_coleta'],\n",
    "                                   bind=slider, init={'ano_coleta': 1935})\n",
    "\n",
    "# data = NewTable[(NewTable['long'] < 10) & (NewTable['long'] >-150)].copy()\n",
    "data = NewTable.copy()\n",
    "\n",
    "back = alt.Chart(data).mark_circle(opacity=0.7, color='lightgray').encode(\n",
    "    longitude = alt.X('long', type='quantitative', title='Longitude'),\n",
    "    latitude = alt.Y('lat', type='quantitative', title='Latitude'),\n",
    "    tooltip = alt.Tooltip(['lat','long','pais','regiao','estado_ou_provincia',\n",
    "                           'ano_coleta','mes_coleta', 'ordem'])\n",
    ")\n",
    "\n",
    "front = alt.Chart(data).mark_circle().encode(\n",
    "    longitude = alt.X('long', type='quantitative', title='Longitude'),\n",
    "    latitude = alt.Y('lat', type='quantitative', title='Latitude'),\n",
    "    color = alt.Color('ordem:N', title='Ordem', scale=\n",
    "                     alt.Scale(range=cores, domain=ordens)),\n",
    "    tooltip = alt.Tooltip(['lat','long','pais','regiao','estado_ou_provincia',\n",
    "                           'ano_coleta','mes_coleta', 'ordem'])\n",
    ").add_selection(\n",
    "    select_year\n",
    ").transform_filter(\n",
    "    select_year\n",
    ")\n",
    "\n",
    "equador = alt.Chart(data[data['lat'] == 0], width=800, height= 400).mark_rule(color='black').encode(\n",
    "    y = alt.Y('lat:Q', axis=alt.Axis(grid=False))\n",
    ")\n",
    "\n",
    "\n",
    "g = alt.layer(world, back, front).properties(\n",
    "    width= 800,\n",
    "    height= 500\n",
    ")  # tirei o equador\n",
    "\n",
    "# ajustando tamanho de fonte\n",
    "g = g.configure_title(fontSize=16).configure_axis(\n",
    "    labelFontSize=12,\n",
    "    titleFontSize=12\n",
    ").configure_legend(\n",
    "    labelFontSize=12,\n",
    "    titleFontSize=12\n",
    ")\n",
    "\n",
    "# g.save('./graphs/time-spacial/lat_long-worldwide.html')\n",
    "\n",
    "# g"
   ]
  },
  {
   "cell_type": "markdown",
   "metadata": {},
   "source": [
    "<br>\n",
    "\n",
    "<font color='red' size='5'>Lat long (layout 2 estático)</font>"
   ]
  },
  {
   "cell_type": "code",
   "execution_count": 49,
   "metadata": {},
   "outputs": [],
   "source": [
    "# https://nextjournal.com/sdanisch/cartographic-visualization\n",
    "\n",
    "# seletores\n",
    "select_order = alt.selection_multi(fields=['ordem'], bind='legend')\n",
    "select_type = alt.selection_multi(fields=['type_status'], bind='legend')\n",
    "\n",
    "tipos = NewTable['type_status'].unique()  # lista temporária! ajustar depois!\n",
    "\n",
    "# AJUSTAR CORES\n",
    "\n",
    "from vega_datasets import data\n",
    "\n",
    "front = alt.Chart(NewTable).mark_point(filled=True).encode(\n",
    "    longitude = alt.X('long', type='quantitative', title='Longitude'),\n",
    "    latitude = alt.Y('lat', type='quantitative', title='Latitude'),\n",
    "    color = alt.Color('ordem:N', title='Ordem', scale=\n",
    "                     alt.Scale(range=cores, domain=ordens)),\n",
    "    shape = alt.Shape('type_status:N', title='Type', scale= alt.Scale(domain=tipos)),\n",
    "    tooltip = alt.Tooltip(['lat','long','pais','regiao','estado_ou_provincia',\n",
    "                           'ano_coleta','mes_coleta', 'genero_atual','familia','ordem', 'type_status'])\n",
    ").add_selection(select_order, select_type).transform_filter(select_order).transform_filter(select_type)\n",
    "\n",
    "mapa = alt.layer(\n",
    "     # use the sphere of the Earth as the base layer\n",
    "    alt.Chart({'sphere': True}).mark_geoshape(\n",
    "        fill='#f2f2f2'\n",
    "    ),\n",
    "    # add a graticule for geographic reference lines\n",
    "    alt.Chart({'graticule': True}).mark_geoshape(\n",
    "        stroke='#ffffff', strokeWidth=1\n",
    "    ),\n",
    "    # and then the countries of the world\n",
    "    alt.Chart(alt.topo_feature(data.world_110m.url, 'countries')).mark_geoshape(\n",
    "        fill='#white', stroke='black', strokeWidth=0.5\n",
    "    ),\n",
    "    front\n",
    ").properties(\n",
    "    width=800,\n",
    "    height=500\n",
    ")\n",
    "\n",
    "mapa = mapa.project(\n",
    "    type='naturalEarth1', scale=140\n",
    ").configure_view(stroke=None)\n",
    "\n",
    "mapa = mapa.configure_title(fontSize=16).configure_axis(\n",
    "    labelFontSize=12,\n",
    "    titleFontSize=12\n",
    ").configure_legend(\n",
    "    labelFontSize=12,\n",
    "    titleFontSize=12\n",
    ")\n",
    "\n",
    "# mapa.save('./graphs/time-spacial/lat_long-worldwide-static-grid.html')\n",
    "\n",
    "# mapa"
   ]
  },
  {
   "cell_type": "code",
   "execution_count": 52,
   "metadata": {},
   "outputs": [],
   "source": [
    "teste = alt.Chart(NewTable).mark_point(filled=True).encode(\n",
    "    longitude = alt.X('long:Q', title='Longitude'),\n",
    "    latitude = alt.Y('lat:Q', title='Latitude'),\n",
    "    color = alt.Color('ordem:N', title='Ordem', scale = alt.Scale(range=cores, domain=ordens)),\n",
    "    shape = alt.Shape('type_status:N', title='Type', scale= alt.Scale(domain=tipos)),\n",
    "    tooltip = alt.Tooltip(['lat','long','pais','regiao','estado_ou_provincia',\n",
    "                           'ano_coleta','mes_coleta', 'genero_atual','familia','ordem', 'type_status'])\n",
    ").project(type='naturalEarth1').add_selection(select_order, \n",
    "                            select_type).transform_filter(select_order).transform_filter(select_type)\n",
    "\n",
    "temp = (world + teste).properties(width=800, height=500).configure_title(fontSize=16).configure_axis(\n",
    "    labelFontSize=12,\n",
    "    titleFontSize=12\n",
    ").configure_legend(\n",
    "    labelFontSize=12,\n",
    "    titleFontSize=12\n",
    ")\n",
    "\n",
    "# temp.save('./graphs/time-spacial/lat_long-worldwide-static.html')\n",
    "# temp"
   ]
  },
  {
   "cell_type": "markdown",
   "metadata": {},
   "source": [
    "<br>\n",
    "\n",
    "### Latin America"
   ]
  },
  {
   "cell_type": "code",
   "execution_count": 53,
   "metadata": {},
   "outputs": [],
   "source": [
    "# seletores\n",
    "select_order = alt.selection_multi(fields=['ordem'], bind='legend')\n",
    "select_type = alt.selection_multi(fields=['type_status'], bind='legend')\n",
    "\n",
    "tipos = NewTable['type_status'].unique()  # lista temporária! ajustar depois!\n",
    "\n",
    "# mapa\n",
    "from vega_datasets import data\n",
    "\n",
    "source = alt.topo_feature(data.world_110m.url, 'countries')\n",
    "\n",
    "latinAmerica = alt.Chart(source).mark_geoshape(\n",
    "    fill='white',\n",
    "    stroke='gray'\n",
    ").project('naturalEarth1', translate=[680, 150], scale=450)\n",
    "\n",
    "# pontos\n",
    "teste = alt.Chart(NewTable).mark_point(filled=True).encode(\n",
    "    longitude = alt.X('long:Q', title='Longitude'),\n",
    "    latitude = alt.Y('lat:Q', title='Latitude'),\n",
    "    color = alt.Color('ordem:N', title='Order', scale = alt.Scale(range=cores, domain=ordens)),\n",
    "    shape = alt.Shape('type_status:N', title='Type', scale= alt.Scale(domain=tipos)),\n",
    "    tooltip = alt.Tooltip(['lat','long','pais','regiao','estado_ou_provincia',\n",
    "                           'ano_coleta','mes_coleta', 'genero_atual','familia','ordem', 'type_status'])\n",
    ").project(type='naturalEarth1', translate=[680, 150], scale=450).add_selection(select_order,\n",
    "                                select_type).transform_filter(select_order).transform_filter(select_type)\n",
    "\n",
    "\n",
    "# configurando grafico\n",
    "temp = (latinAmerica + teste).properties(width=600, height=600).configure_title(fontSize=16).configure_axis(\n",
    "    labelFontSize=12,\n",
    "    titleFontSize=12\n",
    ").configure_legend(\n",
    "    labelFontSize=12,\n",
    "    titleFontSize=12\n",
    ")\n",
    "\n",
    "# temp.save('./graphs/time-spacial/lat_long-latinAmerica-static.html')\n",
    "# temp"
   ]
  },
  {
   "cell_type": "markdown",
   "metadata": {},
   "source": [
    "**Fim!**"
   ]
  }
 ],
 "metadata": {
  "kernelspec": {
   "display_name": "Python 3",
   "language": "python",
   "name": "python3"
  },
  "language_info": {
   "codemirror_mode": {
    "name": "ipython",
    "version": 3
   },
   "file_extension": ".py",
   "mimetype": "text/x-python",
   "name": "python",
   "nbconvert_exporter": "python",
   "pygments_lexer": "ipython3",
   "version": "3.9.1"
  },
  "latex_envs": {
   "LaTeX_envs_menu_present": true,
   "autoclose": false,
   "autocomplete": true,
   "bibliofile": "biblio.bib",
   "cite_by": "apalike",
   "current_citInitial": 1,
   "eqLabelWithNumbers": true,
   "eqNumInitial": 1,
   "hotkeys": {
    "equation": "Ctrl-E",
    "itemize": "Ctrl-I"
   },
   "labels_anchors": false,
   "latex_user_defs": false,
   "report_style_numbering": false,
   "user_envs_cfg": false
  },
  "toc": {
   "base_numbering": 1,
   "nav_menu": {},
   "number_sections": true,
   "sideBar": true,
   "skip_h1_title": false,
   "title_cell": "Table of Contents",
   "title_sidebar": "Contents",
   "toc_cell": false,
   "toc_position": {},
   "toc_section_display": true,
   "toc_window_display": false
  },
  "varInspector": {
   "cols": {
    "lenName": 16,
    "lenType": 16,
    "lenVar": 40
   },
   "kernels_config": {
    "python": {
     "delete_cmd_postfix": "",
     "delete_cmd_prefix": "del ",
     "library": "var_list.py",
     "varRefreshCmd": "print(var_dic_list())"
    },
    "r": {
     "delete_cmd_postfix": ") ",
     "delete_cmd_prefix": "rm(",
     "library": "var_list.r",
     "varRefreshCmd": "cat(var_dic_list()) "
    }
   },
   "types_to_exclude": [
    "module",
    "function",
    "builtin_function_or_method",
    "instance",
    "_Feature"
   ],
   "window_display": false
  }
 },
 "nbformat": 4,
 "nbformat_minor": 4
}
