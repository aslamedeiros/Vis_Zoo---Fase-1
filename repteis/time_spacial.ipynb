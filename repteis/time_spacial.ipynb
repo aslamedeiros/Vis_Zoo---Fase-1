{
 "cells": [
  {
   "cell_type": "markdown",
   "metadata": {},
   "source": [
    "# Time-Spacial Exploration\n",
    "\n",
    "By **Franklin Oliveira**\n",
    "\n",
    "-----\n",
    "This notebook contains all code necessary to make charts from `repteis` database with focus on time and space exploration. Here you'll find some basic data treatment and charts' code. \n",
    "\n",
    "Database: <font color='blue'>'Compilacao Livros Repteis - 2 a 10 - 2020_04_28.xls'</font>.m\n",
    "    "
   ]
  },
  {
   "cell_type": "code",
   "execution_count": 1,
   "metadata": {
    "ExecuteTime": {
     "end_time": "2021-02-24T21:50:20.634855Z",
     "start_time": "2021-02-24T21:50:19.606483Z"
    }
   },
   "outputs": [
    {
     "data": {
      "text/plain": [
       "DataTransformerRegistry.enable('default')"
      ]
     },
     "execution_count": 1,
     "metadata": {},
     "output_type": "execute_result"
    }
   ],
   "source": [
    "import datetime\n",
    "import numpy as np\n",
    "import pandas as pd\n",
    "\n",
    "from collections import defaultdict\n",
    "\n",
    "# quick visualization\n",
    "import matplotlib.pyplot as plt\n",
    "import seaborn as sns\n",
    "\n",
    "# Waffle Charts\n",
    "# from pywaffle import Waffle \n",
    "# docs: https://pywaffle.readthedocs.io/en/latest/examples/block_shape_distance_location_and_direction.html\n",
    "\n",
    "# visualization\n",
    "import altair as alt\n",
    "\n",
    "# enabling notebook renderer\n",
    "# alt.renderers.enable('notebook')\n",
    "# alt.renderers.enable('default')\n",
    "\n",
    "# disabling rows limit\n",
    "alt.data_transformers.disable_max_rows()"
   ]
  },
  {
   "cell_type": "markdown",
   "metadata": {},
   "source": [
    "## Importing data..."
   ]
  },
  {
   "cell_type": "code",
   "execution_count": 2,
   "metadata": {
    "ExecuteTime": {
     "end_time": "2021-02-24T21:50:20.825383Z",
     "start_time": "2021-02-24T21:50:20.636605Z"
    }
   },
   "outputs": [],
   "source": [
    "NewTable = pd.read_csv('./data/treated_db.csv', sep=';', encoding='utf-8-sig', low_memory=False)"
   ]
  },
  {
   "cell_type": "markdown",
   "metadata": {},
   "source": [
    "<br>\n",
    "\n",
    "<font size=5>**Color palette per Order**</font>\n",
    "\n",
    "<!-- <img src=\"./src/paleta_cores.jpeg\" width='500px'> -->\n",
    "\n",
    "<!-- Cores: \n",
    "\n",
    "- verde_escuro: #284021\n",
    "- verde_claro: #88BF11\n",
    "- amarelo: #D9CB0B\n",
    "- laranja: #D99311\n",
    "- laranja_escuro: #BF4417\n",
    "- marrom-_laro: #BF8D7A -->"
   ]
  },
  {
   "cell_type": "code",
   "execution_count": 3,
   "metadata": {
    "ExecuteTime": {
     "end_time": "2021-02-24T21:50:20.830852Z",
     "start_time": "2021-02-24T21:50:20.827404Z"
    }
   },
   "outputs": [],
   "source": [
    "# importing customized color palettes\n",
    "from src.MNViz_colors import *"
   ]
  },
  {
   "cell_type": "code",
   "execution_count": 4,
   "metadata": {
    "ExecuteTime": {
     "end_time": "2021-02-24T21:50:20.880687Z",
     "start_time": "2021-02-24T21:50:20.833488Z"
    }
   },
   "outputs": [],
   "source": [
    "# p.s.: Caudata is an error and should be removed\n",
    "# cores_ordem = {\n",
    "#     'Squamata': '#BF4417',\n",
    "#     'Testudines': '#D9CB0B', \n",
    "#     'Crocodylia': '#284021'\n",
    "# }\n",
    "\n",
    "ordens = list(cores_ordem.keys())\n",
    "cores = list(cores_ordem.values())"
   ]
  },
  {
   "cell_type": "markdown",
   "metadata": {},
   "source": [
    "<br>\n",
    "\n",
    "## Graph: Exploring time-spacial evolution of the database"
   ]
  },
  {
   "cell_type": "code",
   "execution_count": 5,
   "metadata": {
    "ExecuteTime": {
     "end_time": "2021-02-24T21:50:20.959528Z",
     "start_time": "2021-02-24T21:50:20.884835Z"
    }
   },
   "outputs": [],
   "source": [
    "# corrects a typo (Améica do Sul)\n",
    "NewTable['continente'] = NewTable['continente'].apply(lambda x: 'América do Sul' if x=='Améica do Sul' else x)"
   ]
  },
  {
   "cell_type": "code",
   "execution_count": 6,
   "metadata": {
    "ExecuteTime": {
     "end_time": "2021-02-24T21:50:21.012084Z",
     "start_time": "2021-02-24T21:50:20.961250Z"
    }
   },
   "outputs": [
    {
     "data": {
      "text/plain": [
       "América do Sul      21927\n",
       "América Central       135\n",
       "América do Norte      103\n",
       "Ásia                   54\n",
       "#N/D                   25\n",
       "África                 13\n",
       "Europa                  9\n",
       "Name: continente, dtype: int64"
      ]
     },
     "execution_count": 6,
     "metadata": {},
     "output_type": "execute_result"
    }
   ],
   "source": [
    "# looking good...\n",
    "NewTable['continente'].value_counts()"
   ]
  },
  {
   "cell_type": "markdown",
   "metadata": {},
   "source": [
    "### Chart 1: Evolution per time and continent"
   ]
  },
  {
   "cell_type": "code",
   "execution_count": 7,
   "metadata": {
    "ExecuteTime": {
     "end_time": "2021-02-24T21:50:21.105944Z",
     "start_time": "2021-02-24T21:50:21.013874Z"
    }
   },
   "outputs": [],
   "source": [
    "# agrupando por Ano e Continente\n",
    "teste = NewTable.groupby(['ano_coleta','continente', 'familia']).count()['class'].reset_index().rename(columns={\n",
    "    'class':'counts'\n",
    "})"
   ]
  },
  {
   "cell_type": "code",
   "execution_count": 8,
   "metadata": {
    "ExecuteTime": {
     "end_time": "2021-02-24T21:50:21.137961Z",
     "start_time": "2021-02-24T21:50:21.108787Z"
    }
   },
   "outputs": [],
   "source": [
    "# selector\n",
    "select_family = alt.selection_multi(fields=['familia'], bind='legend')\n",
    "\n",
    "# database\n",
    "db = teste\n",
    "\n",
    "# auxiliar variables for encoding fields\n",
    "x_labels = db.sort_values('ano_coleta')['ano_coleta'].unique()\n",
    "y_labels = db['continente'].unique()\n",
    "counts = db['counts'].unique()\n",
    "counts = list(range(min(counts), max(counts), 100))\n",
    "\n",
    "g1 = alt.Chart(db, title='Temporal evolution per continent', height=200, width=1400).mark_circle().encode(\n",
    "    x= alt.X('ano_coleta', type=\"ordinal\", title='Sampling Year', \n",
    "             scale= alt.Scale(domain= x_labels)),\n",
    "    y= alt.Y('continente', title='Continent', \n",
    "             scale= alt.Scale(domain= y_labels),\n",
    "             sort=alt.EncodingSortField('counts', op=\"count\", order='descending')), \n",
    "    size=alt.Size('counts', title='Counts',\n",
    "                  legend= alt.Legend(orient= 'bottom', direction='horizontal'),\n",
    "                  scale= alt.Scale(domain= counts, range=[20,120])), \n",
    "    order= alt.Order('counts', sort='descending'),  # smaller points in front\n",
    "#     color= alt.Color('ordem', scale=alt.Scale(domain=ordens, range=cores)),  # old palette per order\n",
    "    color= alt.Color('familia',title= 'Family', \n",
    "                    legend= alt.Legend(columns=8, symbolLimit= 50, orient= 'bottom', direction='horizontal'),\n",
    "                    scale= alt.Scale(domain= list(cores_familia.keys()), range= list(cores_familia.values()))),\n",
    "    tooltip= alt.Tooltip(['continente','ano_coleta','familia','counts'])\n",
    ").add_selection(select_family).transform_filter(select_family)\n",
    "\n",
    "g1 = g1.configure_title(fontSize=16).configure_axis(\n",
    "    labelFontSize=12,\n",
    "    titleFontSize=12\n",
    ").configure_legend(\n",
    "    labelFontSize=12,\n",
    "    titleFontSize=12\n",
    ")\n",
    "\n",
    "# g1.save('./graphs/time-spacial/temporal_evolution_per_continent-wFamilies.html')\n",
    "# g1"
   ]
  },
  {
   "cell_type": "markdown",
   "metadata": {},
   "source": [
    "<br>\n",
    "\n",
    "### Chart 2: Evolution per time and country"
   ]
  },
  {
   "cell_type": "code",
   "execution_count": 9,
   "metadata": {
    "ExecuteTime": {
     "end_time": "2021-02-24T21:50:21.227246Z",
     "start_time": "2021-02-24T21:50:21.140084Z"
    }
   },
   "outputs": [],
   "source": [
    "# agrupando por Ano e Continente\n",
    "teste1 = NewTable.groupby(['ano_coleta','pais', 'familia']).count()['class'].reset_index().rename(columns={\n",
    "    'class':'counts'\n",
    "})"
   ]
  },
  {
   "cell_type": "code",
   "execution_count": 10,
   "metadata": {
    "ExecuteTime": {
     "end_time": "2021-02-24T21:50:21.293354Z",
     "start_time": "2021-02-24T21:50:21.229022Z"
    }
   },
   "outputs": [],
   "source": [
    "# selector\n",
    "select_family = alt.selection_multi(fields=['familia'], bind='legend')\n",
    "\n",
    "# filtering database (removing Brazil)\n",
    "db = teste1[teste1['pais'] != 'Brasil']\n",
    "\n",
    "# auxiliar variables for encoding fields\n",
    "x_labels = db.sort_values('ano_coleta')['ano_coleta'].unique()\n",
    "y_labels = db.groupby('pais').sum().reset_index().sort_values('counts')['pais'][::-1].unique()\n",
    "temp = db['counts'].unique()\n",
    "counts = list(range(temp.min(), temp.max()))\n",
    "\n",
    "g1 = alt.Chart(db, title='Collected specimens per year in other countries',\n",
    "              width=800).mark_circle().encode(\n",
    "    x= alt.X('ano_coleta', type=\"ordinal\", title='Sampling Year', \n",
    "             scale= alt.Scale(domain= x_labels)),\n",
    "    y= alt.Y('pais', title='Country', \n",
    "             scale= alt.Scale(domain= y_labels),\n",
    "             sort=alt.EncodingSortField('counts', op=\"sum\", order='descending')), \n",
    "    size=alt.Size('counts', title= 'Counts',\n",
    "                  legend= alt.Legend(orient= 'right', direction='horizontal', tickCount=4),\n",
    "                  scale= alt.Scale(domain= counts, range=[10,50])), \n",
    "    order= alt.Order('counts', sort='descending'),  # smaller points in front\n",
    "#     color= alt.Color('ordem', scale=alt.Scale(domain=ordens, range=cores)),  # old palette per order\n",
    "    color= alt.Color('familia:N', title='Family', \n",
    "                    legend= alt.Legend(columns=2, symbolLimit=50), \n",
    "                    scale= alt.Scale(domain= list(cores_familia.keys()), range= list(cores_familia.values()))),\n",
    "    tooltip= alt.Tooltip(['pais','ano_coleta','familia','counts'])\n",
    ").add_selection(select_family).transform_filter(select_family)\n",
    "\n",
    "g1 = g1.configure_title(fontSize=16).configure_axis(\n",
    "    labelFontSize=12,\n",
    "    titleFontSize=12\n",
    ").configure_legend(\n",
    "    labelFontSize=12,\n",
    "    titleFontSize=12\n",
    ")\n",
    "\n",
    "# g1.save('./graphs/time-spacial/temporal_evolution_per_country.html')\n",
    "# g1"
   ]
  },
  {
   "cell_type": "markdown",
   "metadata": {},
   "source": [
    "<br>\n",
    "\n",
    "### Chart 3: Evolution per time and brazilian states"
   ]
  },
  {
   "cell_type": "code",
   "execution_count": 11,
   "metadata": {
    "ExecuteTime": {
     "end_time": "2021-02-24T21:50:21.464379Z",
     "start_time": "2021-02-24T21:50:21.294865Z"
    }
   },
   "outputs": [],
   "source": [
    "# agrupando por Ano e Continente\n",
    "teste2 = NewTable[NewTable['pais'] == 'Brasil']\n",
    "teste2 = teste2.groupby(['ano_coleta','estado_ou_provincia', 'familia']).count()['class'].reset_index().rename(columns={\n",
    "    'class':'counts'\n",
    "})"
   ]
  },
  {
   "cell_type": "markdown",
   "metadata": {},
   "source": [
    "#### creating column with brazilian regions"
   ]
  },
  {
   "cell_type": "code",
   "execution_count": 13,
   "metadata": {
    "ExecuteTime": {
     "end_time": "2021-02-24T21:51:15.447830Z",
     "start_time": "2021-02-24T21:51:15.413012Z"
    }
   },
   "outputs": [],
   "source": [
    "regioes = {\n",
    "    'Rio de Janeiro':'SE',\n",
    "    'São Paulo':'SE',\n",
    "    'Espírito Santo': 'SE',\n",
    "    'Pernambuco':'NE',\n",
    "    'Santa Catarina':'S',\n",
    "    'Amazonas':'N',\n",
    "    'Goiás':'CO',\n",
    "    'Roraima':'N',\n",
    "    'Pará':'N',\n",
    "    'Mato Grosso':'CO',\n",
    "    'Acre': 'N',\n",
    "    'Bahia': 'NE',\n",
    "    'Minas Gerais': 'SE',\n",
    "    'Mato Grosso do Sul': 'CO',\n",
    "    'Paraná': 'S',\n",
    "    'Rondônia': 'N',\n",
    "    'Ceará': 'NE',\n",
    "    'Maranhão': 'NE',\n",
    "    'Rio Grande do Sul': 'S',\n",
    "    'Paraíba': 'NE',\n",
    "    'Distrito Federal': 'CO',\n",
    "    'Alagoas': 'NE',\n",
    "    'Amapá':'N',\n",
    "    'Piauí': 'NE',\n",
    "    'Brasília': 'CO',\n",
    "    'Tocantins': 'N',\n",
    "    'Rio Grande do Norte': 'NE',\n",
    "    'Sergipe': 'NE',\n",
    "    'Minas Gerais/Goiás/Distrito Federal': 'CO',\n",
    "    'Santa Catarina-Rio Grande do Sul': 'S'\n",
    "}\n",
    "\n",
    "# criando coluna com as regiões\n",
    "teste2['regiao'] = teste2['estado_ou_provincia'].apply(lambda x: regioes[str(x)])\n",
    "\n",
    "# coluna com estado, regiao\n",
    "teste2['regiao_e_estado'] = teste2['estado_ou_provincia'] + ', ' + teste2['regiao']\n",
    "\n",
    "# summing over regions to sort\n",
    "sorting = teste2.groupby(['regiao_e_estado', 'regiao']).sum()['counts'].reset_index(\n",
    "                                                                ).rename(columns={'counts':'soma'})\n",
    "\n",
    "# sorting per most representative region and, then, by most representative state\n",
    "regioes = sorting.sort_values('soma', ascending=False)['regiao'].unique()\n",
    "df = pd.DataFrame()\n",
    "for reg in regioes:\n",
    "    temp = sorting[sorting['regiao'] == reg].sort_values('soma', ascending=False)\n",
    "    df = pd.concat([df, temp])\n",
    "    \n",
    "sorting = df['regiao_e_estado'].unique()\n",
    "\n",
    "# p.s.: this approach was not producing the desired outcome\n",
    "# sorting = sorting.sort_values(['regiao','soma'], ascending=False)['regiao_e_estado'].unique()"
   ]
  },
  {
   "cell_type": "code",
   "execution_count": 16,
   "metadata": {
    "ExecuteTime": {
     "end_time": "2021-02-24T21:51:43.175646Z",
     "start_time": "2021-02-24T21:51:43.139427Z"
    }
   },
   "outputs": [],
   "source": [
    "# selector\n",
    "select_family = alt.selection_multi(fields=['familia'], bind='legend')\n",
    "\n",
    "# filtering database (removing Brazil)\n",
    "db = teste2\n",
    "\n",
    "# auxiliar variables for encoding fields\n",
    "x_labels = db.sort_values('ano_coleta')['ano_coleta'].unique()\n",
    "y_labels = sorting\n",
    "counts = db['counts'].unique()\n",
    "counts = list(range(min(counts), max(counts), 50))\n",
    "\n",
    "g1 = alt.Chart(db, title='Total of collected specimens in Brazilian States').mark_circle(opacity=0.8).encode(\n",
    "    x= alt.X('ano_coleta', type=\"ordinal\", title='Sampling Year', \n",
    "             scale= alt.Scale(domain= x_labels)),\n",
    "    y= alt.Y('regiao_e_estado', type=\"nominal\",title='State, Region',\n",
    "             scale= alt.Scale(domain= y_labels),\n",
    "            sort= sorting, axis=alt.Axis(labels=True)), \n",
    "    y2 = alt.Y2('regiao', title='Região'),\n",
    "    size=alt.Size('counts', title= 'Counts',\n",
    "                  legend= alt.Legend(orient= 'bottom', direction= 'horizontal', tickCount= 5),\n",
    "                  scale= alt.Scale(domain= counts, range=[30,130], zero=False)), \n",
    "    order= alt.Order('counts', sort='descending'),  # smaller points in front\n",
    "    color= alt.Color('familia:N', title='Familia', \n",
    "                    legend= alt.Legend(columns=8, symbolLimit=50, orient='bottom', direction='horizontal'), \n",
    "                    scale= alt.Scale(domain= list(cores_familia.keys()), range= list(cores_familia.values()))),\n",
    "    tooltip= alt.Tooltip(['regiao','estado_ou_provincia','ano_coleta','familia','counts'])\n",
    ").add_selection(select_family).transform_filter(select_family)\n",
    "\n",
    "g1 = g1.configure_title(fontSize=16).configure_axis(\n",
    "    labelFontSize=12,\n",
    "    titleFontSize=12\n",
    ").configure_legend(\n",
    "    labelFontSize=12,\n",
    "    titleFontSize=12\n",
    ")\n",
    "\n",
    "# g1.save('./graphs/time-spacial/temporal_evolution_per_brazilian_states.html')\n",
    "# g1"
   ]
  },
  {
   "cell_type": "markdown",
   "metadata": {},
   "source": [
    "<br>\n",
    "<br>\n",
    "\n",
    "<font color='red' size='5'> Separating this last chart per time periods </font>"
   ]
  },
  {
   "cell_type": "code",
   "execution_count": 24,
   "metadata": {
    "ExecuteTime": {
     "end_time": "2021-02-24T21:52:44.460479Z",
     "start_time": "2021-02-24T21:52:44.445045Z"
    }
   },
   "outputs": [],
   "source": [
    "# periods: <1938, >=1938 e <= 1985, > 1985 \n",
    "ano_corte1 = 1938\n",
    "ano_corte2 = 1985\n",
    "\n",
    "periodo1 = teste2[teste2['ano_coleta'] < 1938].copy()\n",
    "periodo2 = teste2[(teste2['ano_coleta'] >= 1938) & (teste2['ano_coleta'] <= 1985)].copy()\n",
    "periodo3 = teste2[teste2['ano_coleta'] > 1985].copy()"
   ]
  },
  {
   "cell_type": "markdown",
   "metadata": {},
   "source": [
    "### 1st period: before 1938"
   ]
  },
  {
   "cell_type": "code",
   "execution_count": 27,
   "metadata": {
    "ExecuteTime": {
     "end_time": "2021-02-24T21:53:17.612775Z",
     "start_time": "2021-02-24T21:53:17.582408Z"
    }
   },
   "outputs": [],
   "source": [
    "# selector\n",
    "select_family = alt.selection_multi(fields=['familia'], bind='legend')\n",
    "\n",
    "# filtering database (removing Brazil)\n",
    "db = periodo1\n",
    "\n",
    "# auxiliar variables for encoding fields\n",
    "# families = [f for f in cores_familia.keys() if f in db['familia'].unique()]\n",
    "# cores_temp = [cores_familia[f] for f in families]\n",
    "x_labels = db.sort_values('ano_coleta')['ano_coleta'].unique()\n",
    "# y_labels = [l for l in sorting if l in db['regiao_e_estado'].unique()]\n",
    "y_labels = sorting\n",
    "counts = db['counts'].unique()\n",
    "counts = list(range(min(counts), max(counts), 20))\n",
    "\n",
    "g1 = alt.Chart(db, title='Total of collected specimens in Brazilian States (before 1938)',\n",
    "              width=500, height=600).mark_circle(opacity=0.8).encode(\n",
    "    x= alt.X('ano_coleta', type=\"ordinal\", title='Sampling Year',\n",
    "            scale= alt.Scale(domain= x_labels)),\n",
    "    y= alt.Y('regiao_e_estado', type=\"nominal\",title='State, Region',\n",
    "            scale= alt.Scale(domain= y_labels),\n",
    "            sort= sorting, axis=alt.Axis(labels=True)), \n",
    "    y2 = alt.Y2('regiao', title='Região'),\n",
    "    size=alt.Size('counts', title= 'Counts',\n",
    "                  legend= alt.Legend(orient= 'right', direction='horizontal', tickCount=4),\n",
    "                  scale= alt.Scale(domain=counts, range=[30,130], zero=True)), \n",
    "    order= alt.Order('counts', sort='descending'),  # smaller points in front\n",
    "    color= alt.Color('familia:N', title='Family', \n",
    "                    legend= alt.Legend(columns=2, symbolLimit=50), \n",
    "                    scale= alt.Scale(domain= list(cores_familia.keys()), \n",
    "                                     range= list(cores_familia.values()))),\n",
    "    tooltip= alt.Tooltip(['regiao','estado_ou_provincia','ano_coleta','familia','counts'])\n",
    ").add_selection(select_family).transform_filter(select_family)\n",
    "\n",
    "g1 = g1.configure_title(fontSize=16).configure_axis(\n",
    "    labelFontSize=12,\n",
    "    titleFontSize=12\n",
    ").configure_legend(\n",
    "    labelFontSize=12,\n",
    "    titleFontSize=12\n",
    ")\n",
    "\n",
    "# g1.save('./graphs/time-spacial/temporal_evolution_per_brazilian_states-before1938.html')\n",
    "# g1"
   ]
  },
  {
   "cell_type": "markdown",
   "metadata": {},
   "source": [
    "### 2nd period: from 1938 to 1985"
   ]
  },
  {
   "cell_type": "code",
   "execution_count": 21,
   "metadata": {
    "ExecuteTime": {
     "end_time": "2021-02-24T21:52:28.215986Z",
     "start_time": "2021-02-24T21:52:28.180268Z"
    }
   },
   "outputs": [],
   "source": [
    "# selector\n",
    "select_family = alt.selection_multi(fields=['familia'], bind='legend')\n",
    "\n",
    "# filtering database (removing Brazil)\n",
    "db = periodo2\n",
    "\n",
    "# auxiliar variables for encoding fields\n",
    "# families = [f for f in cores_familia.keys() if f in db['familia'].unique()]\n",
    "# cores_temp = [cores_familia[f] for f in families]\n",
    "x_labels = db.sort_values('ano_coleta')['ano_coleta'].unique()\n",
    "y_labels = [l for l in sorting if l in db['regiao_e_estado'].unique()]\n",
    "counts = db['counts'].unique()\n",
    "counts = list(range(min(counts), max(counts), 50))\n",
    "\n",
    "\n",
    "g1 = alt.Chart(db, title='Total of collected specimens in Brazilian States (from 1938 to 1985)',\n",
    "              width=800, height=600).mark_circle(opacity=0.8).encode(\n",
    "    x= alt.X('ano_coleta', type=\"ordinal\", title='Sampling Year',\n",
    "            scale= alt.Scale(domain= x_labels)),\n",
    "    y= alt.Y('regiao_e_estado', type=\"nominal\",title='State, Region',\n",
    "             scale= alt.Scale(domain= y_labels),\n",
    "            sort= sorting, axis=alt.Axis(labels=True)), \n",
    "    y2 = alt.Y2('regiao', title='Region'),\n",
    "    size=alt.Size('counts', title= 'Counts',\n",
    "                  legend= alt.Legend(orient= 'right', direction='horizontal', tickCount=4),\n",
    "                  scale= alt.Scale(domain=counts, range=[30,130], zero=True)), \n",
    "    order= alt.Order('counts', sort='descending'),  # smaller points in front\n",
    "    color= alt.Color('familia:N', title='Family', \n",
    "                    legend= alt.Legend(columns=2, symbolLimit=50), \n",
    "                    scale= alt.Scale(domain= list(cores_familia.keys()), \n",
    "                                     range= list(cores_familia.values()))),\n",
    "    tooltip= alt.Tooltip(['regiao','estado_ou_provincia','ano_coleta','familia','counts'])\n",
    ").add_selection(select_family).transform_filter(select_family)\n",
    "\n",
    "g1 = g1.configure_title(fontSize=16).configure_axis(\n",
    "    labelFontSize=12,\n",
    "    titleFontSize=12\n",
    ").configure_legend(\n",
    "    labelFontSize=12,\n",
    "    titleFontSize=12\n",
    ")\n",
    "\n",
    "# g1.save('./graphs/time-spacial/temporal_evolution_per_brazilian_states-from1938to1985.html')\n",
    "# g1"
   ]
  },
  {
   "cell_type": "markdown",
   "metadata": {},
   "source": [
    "### 3rd period: after 1985"
   ]
  },
  {
   "cell_type": "code",
   "execution_count": 23,
   "metadata": {
    "ExecuteTime": {
     "end_time": "2021-02-24T21:52:34.892207Z",
     "start_time": "2021-02-24T21:52:34.850418Z"
    }
   },
   "outputs": [],
   "source": [
    "# selector\n",
    "select_family = alt.selection_multi(fields=['familia'], bind='legend')\n",
    "\n",
    "# filtering database (removing Brazil)\n",
    "db = periodo3\n",
    "\n",
    "# auxiliar variables for encoding fields\n",
    "# families = [f for f in cores_familia.keys() if f in db['familia'].unique()]\n",
    "# cores_temp = [cores_familia[f] for f in families]\n",
    "x_labels = db.sort_values('ano_coleta')['ano_coleta'].unique()\n",
    "y_labels = [l for l in sorting if l in db['regiao_e_estado'].unique()]\n",
    "counts = db['counts'].unique()\n",
    "counts = list(range(min(counts), max(counts), 50))\n",
    "\n",
    "g1 = alt.Chart(periodo3, title='Total of collected specimens in Brazilian States (after 1985)',\n",
    "              width=800, height=600).mark_circle(opacity=0.8).encode(\n",
    "    x= alt.X('ano_coleta', type=\"ordinal\", title='Sampling Year',\n",
    "            scale= alt.Scale(domain= x_labels)),\n",
    "    y= alt.Y('regiao_e_estado', type=\"nominal\",title='State, Region',\n",
    "            sort= sorting, axis=alt.Axis(labels=True)), \n",
    "    y2 = alt.Y2('regiao', title='Region'),\n",
    "    size=alt.Size('counts', title= 'Counts',\n",
    "                  legend= alt.Legend(orient= 'right', direction='horizontal', tickCount=4),\n",
    "                  scale= alt.Scale(domain=counts, range=[30,130], zero=True)), \n",
    "    order= alt.Order('counts', sort='descending'),  # smaller points in front\n",
    "    color= alt.Color('familia:N', title='Family', \n",
    "                    legend= alt.Legend(columns=2, symbolLimit=50), \n",
    "                    scale= alt.Scale(domain= list(cores_familia.keys()), range= list(cores_familia.values()))),\n",
    "    tooltip= alt.Tooltip(['regiao','estado_ou_provincia','ano_coleta','familia','counts'])\n",
    ").add_selection(select_family).transform_filter(select_family)\n",
    "\n",
    "g1 = g1.configure_title(fontSize=16).configure_axis(\n",
    "    labelFontSize=12,\n",
    "    titleFontSize=12\n",
    ").configure_legend(\n",
    "    labelFontSize=12,\n",
    "    titleFontSize=12\n",
    ")\n",
    "\n",
    "# g1.save('./graphs/time-spacial/temporal_evolution_per_brazilian_states-after1985.html')\n",
    "# g1"
   ]
  },
  {
   "cell_type": "markdown",
   "metadata": {},
   "source": [
    "<br>\n",
    "\n",
    "## Lat Long"
   ]
  },
  {
   "cell_type": "code",
   "execution_count": 18,
   "metadata": {
    "ExecuteTime": {
     "end_time": "2021-02-23T02:01:32.655179Z",
     "start_time": "2021-02-23T02:01:32.639028Z"
    }
   },
   "outputs": [],
   "source": [
    "def regiao(est):\n",
    "    if est not in regioes.keys():\n",
    "        return np.NAN\n",
    "    else:\n",
    "        return regioes[est]\n",
    "    \n",
    "NewTable['regiao'] = NewTable['estado_ou_provincia'].apply(regiao)"
   ]
  },
  {
   "cell_type": "code",
   "execution_count": 19,
   "metadata": {
    "ExecuteTime": {
     "end_time": "2021-02-23T02:01:32.713990Z",
     "start_time": "2021-02-23T02:01:32.656893Z"
    }
   },
   "outputs": [],
   "source": [
    "from vega_datasets import data\n",
    "\n",
    "source = alt.topo_feature(data.world_110m.url, 'countries')\n",
    "\n",
    "world = alt.Chart(source).mark_geoshape(\n",
    "    fill='white',\n",
    "    stroke='gray'\n",
    ").project('naturalEarth1')\n",
    "\n",
    "# world"
   ]
  },
  {
   "cell_type": "code",
   "execution_count": 20,
   "metadata": {
    "ExecuteTime": {
     "end_time": "2021-02-23T02:01:32.780468Z",
     "start_time": "2021-02-23T02:01:32.715649Z"
    }
   },
   "outputs": [],
   "source": [
    "# dynamic version\n",
    "slider = alt.binding_range(min=1900, max=2016, step=1)\n",
    "select_year = alt.selection_single(name=' ', fields=['ano_coleta'],\n",
    "                                   bind=slider, init={'ano_coleta': 1935})\n",
    "\n",
    "# data = NewTable[(NewTable['long'] < 10) & (NewTable['long'] >-150)].copy()\n",
    "data = NewTable.copy()\n",
    "\n",
    "back = alt.Chart(data).mark_circle(opacity=0.7, color='lightgray').encode(\n",
    "    longitude = alt.X('long', type='quantitative', title='Longitude'),\n",
    "    latitude = alt.Y('lat', type='quantitative', title='Latitude'),\n",
    "    tooltip = alt.Tooltip(['lat','long','pais','regiao','estado_ou_provincia',\n",
    "                           'ano_coleta','mes_coleta', 'ordem'])\n",
    ")\n",
    "\n",
    "front = alt.Chart(data).mark_circle().encode(\n",
    "    longitude = alt.X('long', type='quantitative', title='Longitude'),\n",
    "    latitude = alt.Y('lat', type='quantitative', title='Latitude'),\n",
    "    color= alt.Color('familia:N', title='Family', \n",
    "                    legend= alt.Legend(columns=2, symbolLimit=50), \n",
    "                    scale= alt.Scale(domain= list(cores_familia.keys()), range= list(cores_familia.values()))),\n",
    "    tooltip = alt.Tooltip(['lat','long','pais','regiao','estado_ou_provincia',\n",
    "                           'ano_coleta','mes_coleta', 'ordem', 'familia'])\n",
    ").add_selection(\n",
    "    select_year\n",
    ").transform_filter(\n",
    "    select_year\n",
    ")\n",
    "\n",
    "equador = alt.Chart(data[data['lat'] == 0], width=800, height= 400).mark_rule(color='black').encode(\n",
    "    y = alt.Y('lat:Q', axis=alt.Axis(grid=False))\n",
    ")\n",
    "\n",
    "\n",
    "g = alt.layer(world, back, front).properties(\n",
    "    width= 800,\n",
    "    height= 500\n",
    ")  # tirei o equador\n",
    "\n",
    "# ajustando tamanho de fonte\n",
    "g = g.configure_title(fontSize=16).configure_axis(\n",
    "    labelFontSize=12,\n",
    "    titleFontSize=12\n",
    ").configure_legend(\n",
    "    labelFontSize=12,\n",
    "    titleFontSize=12\n",
    ")\n",
    "\n",
    "# g.save('./graphs/time-spacial/lat_long-worldwide_animated-year.html')\n",
    "# g"
   ]
  },
  {
   "cell_type": "markdown",
   "metadata": {},
   "source": [
    "<br>\n",
    "\n",
    "<font color='red' size='5'>Lat long (layout 2 estático)</font>"
   ]
  },
  {
   "cell_type": "code",
   "execution_count": 21,
   "metadata": {
    "ExecuteTime": {
     "end_time": "2021-02-23T02:01:32.874223Z",
     "start_time": "2021-02-23T02:01:32.782171Z"
    }
   },
   "outputs": [],
   "source": [
    "# https://nextjournal.com/sdanisch/cartographic-visualization\n",
    "\n",
    "# seletores\n",
    "select_order = alt.selection_multi(fields=['familia'], bind='legend')\n",
    "select_type = alt.selection_multi(fields=['type_status'], bind='legend')\n",
    "\n",
    "# database\n",
    "db = NewTable.copy()\n",
    "db['type_status'] = db['type_status'].astype(str)  # parsing into string to make selector work\n",
    "\n",
    "tipos = db['type_status'].unique()  # lista temporária! ajustar depois!\n",
    "\n",
    "# AJUSTAR CORES\n",
    "\n",
    "from vega_datasets import data\n",
    "\n",
    "front = alt.Chart(db).mark_point(filled=True).encode(\n",
    "    longitude = alt.X('long', type='quantitative', title='Longitude'),\n",
    "    latitude = alt.Y('lat', type='quantitative', title='Latitude'),\n",
    "    color= alt.Color('familia:N', title='Family', \n",
    "                    legend= alt.Legend(columns=2, symbolLimit=50), \n",
    "                    scale= alt.Scale(domain= list(cores_familia.keys()), range= list(cores_familia.values()))),\n",
    "    shape = alt.Shape('type_status:N', title='Type', scale= alt.Scale(domain=tipos),\n",
    "                      legend= alt.Legend(columns=3)),\n",
    "    tooltip = alt.Tooltip(['lat','long','pais','regiao','estado_ou_provincia',\n",
    "                           'ano_coleta','mes_coleta', 'genero_atual','ordem','familia', 'type_status'])\n",
    ").add_selection(select_order, select_type).transform_filter(select_order).transform_filter(select_type)\n",
    "\n",
    "mapa = alt.layer(\n",
    "     # use the sphere of the Earth as the base layer\n",
    "    alt.Chart({'sphere': True}).mark_geoshape(\n",
    "        fill='#f2f2f2'\n",
    "    ),\n",
    "    # add a graticule for geographic reference lines\n",
    "    alt.Chart({'graticule': True}).mark_geoshape(\n",
    "        stroke='#ffffff', strokeWidth=1\n",
    "    ),\n",
    "    # and then the countries of the world\n",
    "    alt.Chart(alt.topo_feature(data.world_110m.url, 'countries')).mark_geoshape(\n",
    "        fill='#white', stroke='black', strokeWidth=0.5\n",
    "    ),\n",
    "    front\n",
    ").properties(\n",
    "    width=800,\n",
    "    height=500\n",
    ")\n",
    "\n",
    "mapa = mapa.project(\n",
    "    type='naturalEarth1', scale=140\n",
    ").configure_view(stroke=None)\n",
    "\n",
    "mapa = mapa.configure_title(fontSize=16).configure_axis(\n",
    "    labelFontSize=12,\n",
    "    titleFontSize=12\n",
    ").configure_legend(\n",
    "    labelFontSize=12,\n",
    "    titleFontSize=12\n",
    ")\n",
    "\n",
    "# mapa.save('./graphs/time-spacial/lat_long-worldwide-static-grid.html')\n",
    "# mapa"
   ]
  },
  {
   "cell_type": "code",
   "execution_count": 22,
   "metadata": {
    "ExecuteTime": {
     "end_time": "2021-02-23T02:01:32.919977Z",
     "start_time": "2021-02-23T02:01:32.876454Z"
    }
   },
   "outputs": [],
   "source": [
    "# database\n",
    "db = NewTable.copy()\n",
    "db['type_status'] = db['type_status'].astype(str)  # parsing into string to make selector work\n",
    "\n",
    "# seletores\n",
    "select_order = alt.selection_multi(fields=['familia'], bind='legend')\n",
    "select_type = alt.selection_multi(fields=['type_status'], bind='legend')\n",
    "\n",
    "teste = alt.Chart(db).mark_point(filled=True).encode(\n",
    "    longitude = alt.X('long:Q', title='Longitude'),\n",
    "    latitude = alt.Y('lat:Q', title='Latitude'),\n",
    "    color= alt.Color('familia:N', title='Family', \n",
    "                    legend= alt.Legend(columns=2, symbolLimit=50), \n",
    "                    scale= alt.Scale(domain= list(cores_familia.keys()), range= list(cores_familia.values()))),\n",
    "    shape = alt.Shape('type_status:N', title='Type', scale= alt.Scale(domain=tipos), \n",
    "                     legend= alt.Legend(columns=3)),\n",
    "    tooltip = alt.Tooltip(['lat','long','pais','regiao','estado_ou_provincia',\n",
    "                           'ano_coleta','mes_coleta', 'genero_atual','ordem', 'familia', 'type_status'])\n",
    ").project(type='naturalEarth1').add_selection(select_order, \n",
    "                            select_type).transform_filter(select_order).transform_filter(select_type)\n",
    "\n",
    "temp = (world + teste).properties(width=800, height=500).configure_title(fontSize=16).configure_axis(\n",
    "    labelFontSize=12,\n",
    "    titleFontSize=12\n",
    ").configure_legend(\n",
    "    labelFontSize=12,\n",
    "    titleFontSize=12\n",
    ")\n",
    "\n",
    "# temp.save('./graphs/time-spacial/lat_long-worldwide-static.html')\n",
    "# temp"
   ]
  },
  {
   "cell_type": "markdown",
   "metadata": {},
   "source": [
    "<br>\n",
    "\n",
    "### Latin America"
   ]
  },
  {
   "cell_type": "code",
   "execution_count": 23,
   "metadata": {
    "ExecuteTime": {
     "end_time": "2021-02-23T02:01:32.974760Z",
     "start_time": "2021-02-23T02:01:32.925780Z"
    }
   },
   "outputs": [],
   "source": [
    "# seletores\n",
    "select_order = alt.selection_multi(fields=['familia'], bind='legend')\n",
    "select_type = alt.selection_multi(fields=['type_status'], bind='legend')\n",
    "\n",
    "# database\n",
    "db = NewTable.copy()\n",
    "db['type_status'] = db['type_status'].astype(str)  # parsing into string to make selector work\n",
    "\n",
    "tipos = db['type_status'].unique()  # lista temporária! ajustar depois!\n",
    "\n",
    "# mapa\n",
    "from vega_datasets import data\n",
    "\n",
    "source = alt.topo_feature(data.world_110m.url, 'countries')\n",
    "\n",
    "latinAmerica = alt.Chart(source).mark_geoshape(\n",
    "    fill='white',\n",
    "    stroke='gray'\n",
    ").project('naturalEarth1', translate=[680, 150], scale=450)\n",
    "\n",
    "# pontos\n",
    "teste = alt.Chart(db).mark_point(filled=True).encode(\n",
    "    longitude = alt.X('long:Q', title='Longitude'),\n",
    "    latitude = alt.Y('lat:Q', title='Latitude'),\n",
    "    color= alt.Color('familia:N', title='Family', \n",
    "                    legend= alt.Legend(columns=2, symbolLimit=50), \n",
    "                    scale= alt.Scale(domain= list(cores_familia.keys()), \n",
    "                                     range= list(cores_familia.values()))),\n",
    "    shape = alt.Shape('type_status:N', title='Type', scale= alt.Scale(domain=tipos), \n",
    "                     legend= alt.Legend(columns=3)),\n",
    "    tooltip = alt.Tooltip(['lat','long','pais','regiao','estado_ou_provincia',\n",
    "                           'ano_coleta','mes_coleta', 'genero_atual','ordem', 'familia', 'type_status'])\n",
    ").project(type='naturalEarth1', translate=[680, 150], scale=450).add_selection(select_order,\n",
    "                                select_type).transform_filter(select_order).transform_filter(select_type)\n",
    "\n",
    "\n",
    "# configurando grafico\n",
    "temp = (latinAmerica + teste).properties(width=600, height=600).configure_title(fontSize=16).configure_axis(\n",
    "    labelFontSize=12,\n",
    "    titleFontSize=12\n",
    ").configure_legend(\n",
    "    labelFontSize=12,\n",
    "    titleFontSize=12\n",
    ")\n",
    "\n",
    "# temp.save('./graphs/time-spacial/lat_long-latinAmerica-static.html')\n",
    "# temp"
   ]
  },
  {
   "cell_type": "markdown",
   "metadata": {},
   "source": [
    "**That's it!**"
   ]
  }
 ],
 "metadata": {
  "kernelspec": {
   "display_name": "Python 3",
   "language": "python",
   "name": "python3"
  },
  "language_info": {
   "codemirror_mode": {
    "name": "ipython",
    "version": 3
   },
   "file_extension": ".py",
   "mimetype": "text/x-python",
   "name": "python",
   "nbconvert_exporter": "python",
   "pygments_lexer": "ipython3",
   "version": "3.9.1"
  },
  "latex_envs": {
   "LaTeX_envs_menu_present": true,
   "autoclose": false,
   "autocomplete": true,
   "bibliofile": "biblio.bib",
   "cite_by": "apalike",
   "current_citInitial": 1,
   "eqLabelWithNumbers": true,
   "eqNumInitial": 1,
   "hotkeys": {
    "equation": "Ctrl-E",
    "itemize": "Ctrl-I"
   },
   "labels_anchors": false,
   "latex_user_defs": false,
   "report_style_numbering": false,
   "user_envs_cfg": false
  },
  "toc": {
   "base_numbering": 1,
   "nav_menu": {},
   "number_sections": true,
   "sideBar": true,
   "skip_h1_title": false,
   "title_cell": "Table of Contents",
   "title_sidebar": "Contents",
   "toc_cell": false,
   "toc_position": {},
   "toc_section_display": true,
   "toc_window_display": false
  },
  "varInspector": {
   "cols": {
    "lenName": 16,
    "lenType": 16,
    "lenVar": 40
   },
   "kernels_config": {
    "python": {
     "delete_cmd_postfix": "",
     "delete_cmd_prefix": "del ",
     "library": "var_list.py",
     "varRefreshCmd": "print(var_dic_list())"
    },
    "r": {
     "delete_cmd_postfix": ") ",
     "delete_cmd_prefix": "rm(",
     "library": "var_list.r",
     "varRefreshCmd": "cat(var_dic_list()) "
    }
   },
   "types_to_exclude": [
    "module",
    "function",
    "builtin_function_or_method",
    "instance",
    "_Feature"
   ],
   "window_display": false
  }
 },
 "nbformat": 4,
 "nbformat_minor": 4
}
