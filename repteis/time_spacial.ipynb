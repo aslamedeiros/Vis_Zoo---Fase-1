{
 "cells": [
  {
   "cell_type": "markdown",
   "metadata": {},
   "source": [
    "# Time-Spacial Exploration\n",
    "\n",
    "By **Franklin Oliveira**\n",
    "\n",
    "-----\n",
    "This notebook contains all code necessary to make charts from `repteis` database with focus on time and space exploration. Here you'll find some basic data treatment and charts' code. \n",
    "\n",
    "Database: <font color='blue'>'Compilacao Livros Repteis - 2 a 10 - 2020_04_28.xls'</font>.m\n",
    "    "
   ]
  },
  {
   "cell_type": "code",
   "execution_count": 1,
   "metadata": {
    "ExecuteTime": {
     "end_time": "2020-08-29T16:04:25.266886Z",
     "start_time": "2020-08-29T16:04:23.979602Z"
    }
   },
   "outputs": [
    {
     "data": {
      "text/plain": [
       "DataTransformerRegistry.enable('default')"
      ]
     },
     "execution_count": 1,
     "metadata": {},
     "output_type": "execute_result"
    }
   ],
   "source": [
    "import datetime\n",
    "import numpy as np\n",
    "import pandas as pd\n",
    "\n",
    "from collections import defaultdict\n",
    "\n",
    "# quick visualization\n",
    "import matplotlib.pyplot as plt\n",
    "import seaborn as sns\n",
    "\n",
    "# Waffle Charts\n",
    "# from pywaffle import Waffle \n",
    "# docs: https://pywaffle.readthedocs.io/en/latest/examples/block_shape_distance_location_and_direction.html\n",
    "\n",
    "# visualization\n",
    "import altair as alt\n",
    "\n",
    "# enabling notebook renderer\n",
    "# alt.renderers.enable('notebook')\n",
    "alt.renderers.enable('default')\n",
    "\n",
    "# disabling rows limit\n",
    "alt.data_transformers.disable_max_rows()"
   ]
  },
  {
   "cell_type": "markdown",
   "metadata": {},
   "source": [
    "## Importing data..."
   ]
  },
  {
   "cell_type": "code",
   "execution_count": 2,
   "metadata": {
    "ExecuteTime": {
     "end_time": "2020-08-29T16:04:25.774748Z",
     "start_time": "2020-08-29T16:04:25.583737Z"
    }
   },
   "outputs": [],
   "source": [
    "NewTable = pd.read_csv('./data/treated_db.csv', sep=';', encoding='utf-8-sig', low_memory=False)"
   ]
  },
  {
   "cell_type": "markdown",
   "metadata": {},
   "source": [
    "<br>\n",
    "\n",
    "<font size=5>**Paleta de cores por Ordem**</font>\n",
    "\n",
    "Abaixo está a imagem usada como inspiração (https://color.adobe.com/create/image)\n",
    "\n",
    "<img src=\"./src/paleta_cores.jpeg\" width='500px'>\n",
    "\n",
    "Cores: \n",
    "\n",
    "- verde_escuro: #284021\n",
    "- verde_claro: #88BF11\n",
    "- amarelo: #D9CB0B\n",
    "- laranja: #D99311\n",
    "- laranja_escuro: #BF4417\n",
    "- marrom-_laro: #BF8D7A"
   ]
  },
  {
   "cell_type": "code",
   "execution_count": 3,
   "metadata": {
    "ExecuteTime": {
     "end_time": "2020-08-29T16:04:27.587615Z",
     "start_time": "2020-08-29T16:04:27.583935Z"
    }
   },
   "outputs": [],
   "source": [
    "# p.s.: Caudata is an error and should be removed\n",
    "cores_ordem = {\n",
    "    'Squamata': '#BF4417',\n",
    "    'Testudines': '#D9CB0B', \n",
    "    'Crocodylia': '#284021'\n",
    "}\n",
    "\n",
    "ordens = list(cores_ordem.keys())\n",
    "cores = list(cores_ordem.values())"
   ]
  },
  {
   "cell_type": "markdown",
   "metadata": {},
   "source": [
    "<br>\n",
    "\n",
    "## Graph: Exploring time-spacial evolution of the database"
   ]
  },
  {
   "cell_type": "code",
   "execution_count": 4,
   "metadata": {
    "ExecuteTime": {
     "end_time": "2020-08-29T16:04:28.614908Z",
     "start_time": "2020-08-29T16:04:28.584097Z"
    }
   },
   "outputs": [
    {
     "data": {
      "text/plain": [
       "América do Sul      21926\n",
       "América Central       135\n",
       "América do Norte      103\n",
       "Ásia                   54\n",
       "#N/D                   25\n",
       "África                 13\n",
       "Europa                  9\n",
       "Améica do Sul           1\n",
       "Name: continente, dtype: int64"
      ]
     },
     "execution_count": 4,
     "metadata": {},
     "output_type": "execute_result"
    }
   ],
   "source": [
    "NewTable['continente'].value_counts()"
   ]
  },
  {
   "cell_type": "markdown",
   "metadata": {},
   "source": [
    "### Chart 1: Evolution per time and continent"
   ]
  },
  {
   "cell_type": "code",
   "execution_count": 5,
   "metadata": {
    "ExecuteTime": {
     "end_time": "2020-08-29T16:04:30.336599Z",
     "start_time": "2020-08-29T16:04:30.249024Z"
    }
   },
   "outputs": [],
   "source": [
    "# agrupando por Ano e Continente\n",
    "teste = NewTable.groupby(['ano_coleta','continente', 'ordem']).count()['class'].reset_index().rename(columns={\n",
    "    'class':'counts'\n",
    "})"
   ]
  },
  {
   "cell_type": "code",
   "execution_count": 6,
   "metadata": {
    "ExecuteTime": {
     "end_time": "2020-08-29T16:04:30.758576Z",
     "start_time": "2020-08-29T16:04:30.680713Z"
    }
   },
   "outputs": [
    {
     "data": {
      "text/html": [
       "\n",
       "<div id=\"altair-viz-d0dfe832f5474d909ee19d7e8c5bdfd2\"></div>\n",
       "<script type=\"text/javascript\">\n",
       "  (function(spec, embedOpt){\n",
       "    let outputDiv = document.currentScript.previousElementSibling;\n",
       "    if (outputDiv.id !== \"altair-viz-d0dfe832f5474d909ee19d7e8c5bdfd2\") {\n",
       "      outputDiv = document.getElementById(\"altair-viz-d0dfe832f5474d909ee19d7e8c5bdfd2\");\n",
       "    }\n",
       "    const paths = {\n",
       "      \"vega\": \"https://cdn.jsdelivr.net/npm//vega@5?noext\",\n",
       "      \"vega-lib\": \"https://cdn.jsdelivr.net/npm//vega-lib?noext\",\n",
       "      \"vega-lite\": \"https://cdn.jsdelivr.net/npm//vega-lite@4.8.1?noext\",\n",
       "      \"vega-embed\": \"https://cdn.jsdelivr.net/npm//vega-embed@6?noext\",\n",
       "    };\n",
       "\n",
       "    function loadScript(lib) {\n",
       "      return new Promise(function(resolve, reject) {\n",
       "        var s = document.createElement('script');\n",
       "        s.src = paths[lib];\n",
       "        s.async = true;\n",
       "        s.onload = () => resolve(paths[lib]);\n",
       "        s.onerror = () => reject(`Error loading script: ${paths[lib]}`);\n",
       "        document.getElementsByTagName(\"head\")[0].appendChild(s);\n",
       "      });\n",
       "    }\n",
       "\n",
       "    function showError(err) {\n",
       "      outputDiv.innerHTML = `<div class=\"error\" style=\"color:red;\">${err}</div>`;\n",
       "      throw err;\n",
       "    }\n",
       "\n",
       "    function displayChart(vegaEmbed) {\n",
       "      vegaEmbed(outputDiv, spec, embedOpt)\n",
       "        .catch(err => showError(`Javascript Error: ${err.message}<br>This usually means there's a typo in your chart specification. See the javascript console for the full traceback.`));\n",
       "    }\n",
       "\n",
       "    if(typeof define === \"function\" && define.amd) {\n",
       "      requirejs.config({paths});\n",
       "      require([\"vega-embed\"], displayChart, err => showError(`Error loading script: ${err.message}`));\n",
       "    } else if (typeof vegaEmbed === \"function\") {\n",
       "      displayChart(vegaEmbed);\n",
       "    } else {\n",
       "      loadScript(\"vega\")\n",
       "        .then(() => loadScript(\"vega-lite\"))\n",
       "        .then(() => loadScript(\"vega-embed\"))\n",
       "        .catch(showError)\n",
       "        .then(() => displayChart(vegaEmbed));\n",
       "    }\n",
       "  })({\"config\": {\"view\": {\"continuousWidth\": 400, \"continuousHeight\": 300}, \"axis\": {\"labelFontSize\": 12, \"titleFontSize\": 12}, \"legend\": {\"labelFontSize\": 12, \"titleFontSize\": 12}, \"title\": {\"fontSize\": 16}}, \"data\": {\"name\": \"data-a486f2cccaf20d646d39cf416179da70\"}, \"mark\": \"circle\", \"encoding\": {\"color\": {\"type\": \"nominal\", \"field\": \"ordem\", \"scale\": {\"domain\": [\"Squamata\", \"Testudines\", \"Crocodylia\"], \"range\": [\"#BF4417\", \"#D9CB0B\", \"#284021\"]}}, \"order\": {\"type\": \"quantitative\", \"field\": \"counts\", \"sort\": \"descending\"}, \"size\": {\"type\": \"quantitative\", \"field\": \"counts\", \"scale\": {\"range\": [30, 1200]}}, \"tooltip\": [{\"type\": \"nominal\", \"field\": \"continente\"}, {\"type\": \"quantitative\", \"field\": \"ano_coleta\"}, {\"type\": \"nominal\", \"field\": \"ordem\"}, {\"type\": \"quantitative\", \"field\": \"counts\"}], \"x\": {\"type\": \"ordinal\", \"field\": \"ano_coleta\", \"title\": \"Ano de Coleta\"}, \"y\": {\"type\": \"nominal\", \"field\": \"continente\", \"sort\": {\"field\": \"counts\", \"op\": \"count\", \"order\": \"descending\"}, \"title\": \"Continente\"}}, \"title\": \"Evolu\\u00e7\\u00e3o temporal da cole\\u00e7\\u00e3o por continente\", \"$schema\": \"https://vega.github.io/schema/vega-lite/v4.8.1.json\", \"datasets\": {\"data-a486f2cccaf20d646d39cf416179da70\": [{\"ano_coleta\": 0.0, \"continente\": \"Am\\u00e9rica do Sul\", \"ordem\": \"Squamata\", \"counts\": 5}, {\"ano_coleta\": 1824.0, \"continente\": \"Am\\u00e9rica do Sul\", \"ordem\": \"Squamata\", \"counts\": 1}, {\"ano_coleta\": 1876.0, \"continente\": \"Am\\u00e9rica do Sul\", \"ordem\": \"Squamata\", \"counts\": 74}, {\"ano_coleta\": 1901.0, \"continente\": \"Am\\u00e9rica do Norte\", \"ordem\": \"Squamata\", \"counts\": 3}, {\"ano_coleta\": 1902.0, \"continente\": \"Am\\u00e9rica do Norte\", \"ordem\": \"Squamata\", \"counts\": 2}, {\"ano_coleta\": 1903.0, \"continente\": \"Am\\u00e9rica do Norte\", \"ordem\": \"Squamata\", \"counts\": 1}, {\"ano_coleta\": 1905.0, \"continente\": \"Am\\u00e9rica do Norte\", \"ordem\": \"Squamata\", \"counts\": 1}, {\"ano_coleta\": 1906.0, \"continente\": \"Am\\u00e9rica do Norte\", \"ordem\": \"Squamata\", \"counts\": 1}, {\"ano_coleta\": 1907.0, \"continente\": \"Am\\u00e9rica do Norte\", \"ordem\": \"Squamata\", \"counts\": 1}, {\"ano_coleta\": 1907.0, \"continente\": \"Am\\u00e9rica do Norte\", \"ordem\": \"Testudines\", \"counts\": 1}, {\"ano_coleta\": 1907.0, \"continente\": \"\\u00c1sia\", \"ordem\": \"Squamata\", \"counts\": 2}, {\"ano_coleta\": 1912.0, \"continente\": \"Am\\u00e9rica do Norte\", \"ordem\": \"Caudata\", \"counts\": 1}, {\"ano_coleta\": 1912.0, \"continente\": \"Am\\u00e9rica do Norte\", \"ordem\": \"Crocodylia\", \"counts\": 1}, {\"ano_coleta\": 1912.0, \"continente\": \"Am\\u00e9rica do Norte\", \"ordem\": \"Squamata\", \"counts\": 1}, {\"ano_coleta\": 1913.0, \"continente\": \"Am\\u00e9rica do Norte\", \"ordem\": \"Squamata\", \"counts\": 1}, {\"ano_coleta\": 1913.0, \"continente\": \"Europa\", \"ordem\": \"Squamata\", \"counts\": 1}, {\"ano_coleta\": 1914.0, \"continente\": \"Am\\u00e9rica do Norte\", \"ordem\": \"Squamata\", \"counts\": 1}, {\"ano_coleta\": 1915.0, \"continente\": \"Am\\u00e9rica do Norte\", \"ordem\": \"Testudines\", \"counts\": 1}, {\"ano_coleta\": 1915.0, \"continente\": \"Am\\u00e9rica do Sul\", \"ordem\": \"Squamata\", \"counts\": 5}, {\"ano_coleta\": 1916.0, \"continente\": \"Am\\u00e9rica do Norte\", \"ordem\": \"Testudines\", \"counts\": 1}, {\"ano_coleta\": 1916.0, \"continente\": \"Am\\u00e9rica do Sul\", \"ordem\": \"Squamata\", \"counts\": 2}, {\"ano_coleta\": 1917.0, \"continente\": \"Am\\u00e9rica do Norte\", \"ordem\": \"Squamata\", \"counts\": 1}, {\"ano_coleta\": 1919.0, \"continente\": \"Am\\u00e9rica do Norte\", \"ordem\": \"Squamata\", \"counts\": 3}, {\"ano_coleta\": 1922.0, \"continente\": \"Am\\u00e9rica do Sul\", \"ordem\": \"Squamata\", \"counts\": 2}, {\"ano_coleta\": 1923.0, \"continente\": \"Am\\u00e9rica do Sul\", \"ordem\": \"Squamata\", \"counts\": 2}, {\"ano_coleta\": 1923.0, \"continente\": \"Am\\u00e9rica do Sul\", \"ordem\": \"Testudines\", \"counts\": 1}, {\"ano_coleta\": 1924.0, \"continente\": \"Am\\u00e9rica do Sul\", \"ordem\": \"Squamata\", \"counts\": 1}, {\"ano_coleta\": 1925.0, \"continente\": \"Am\\u00e9rica do Sul\", \"ordem\": \"Squamata\", \"counts\": 1}, {\"ano_coleta\": 1926.0, \"continente\": \"Am\\u00e9rica do Sul\", \"ordem\": \"Squamata\", \"counts\": 1}, {\"ano_coleta\": 1928.0, \"continente\": \"Am\\u00e9rica do Sul\", \"ordem\": \"Squamata\", \"counts\": 1}, {\"ano_coleta\": 1931.0, \"continente\": \"Am\\u00e9rica Central\", \"ordem\": \"Squamata\", \"counts\": 2}, {\"ano_coleta\": 1932.0, \"continente\": \"Am\\u00e9rica do Sul\", \"ordem\": \"Squamata\", \"counts\": 1}, {\"ano_coleta\": 1933.0, \"continente\": \"Am\\u00e9rica do Sul\", \"ordem\": \"Squamata\", \"counts\": 3}, {\"ano_coleta\": 1935.0, \"continente\": \"Am\\u00e9rica Central\", \"ordem\": \"Squamata\", \"counts\": 1}, {\"ano_coleta\": 1935.0, \"continente\": \"Am\\u00e9rica do Norte\", \"ordem\": \"Squamata\", \"counts\": 1}, {\"ano_coleta\": 1936.0, \"continente\": \"Am\\u00e9rica do Norte\", \"ordem\": \"Squamata\", \"counts\": 1}, {\"ano_coleta\": 1936.0, \"continente\": \"Am\\u00e9rica do Sul\", \"ordem\": \"Squamata\", \"counts\": 2}, {\"ano_coleta\": 1937.0, \"continente\": \"Am\\u00e9rica do Norte\", \"ordem\": \"Squamata\", \"counts\": 1}, {\"ano_coleta\": 1937.0, \"continente\": \"Am\\u00e9rica do Sul\", \"ordem\": \"Squamata\", \"counts\": 28}, {\"ano_coleta\": 1938.0, \"continente\": \"Am\\u00e9rica do Sul\", \"ordem\": \"Squamata\", \"counts\": 1}, {\"ano_coleta\": 1939.0, \"continente\": \"Am\\u00e9rica do Sul\", \"ordem\": \"Squamata\", \"counts\": 187}, {\"ano_coleta\": 1940.0, \"continente\": \"Am\\u00e9rica do Norte\", \"ordem\": \"Squamata\", \"counts\": 1}, {\"ano_coleta\": 1940.0, \"continente\": \"Am\\u00e9rica do Sul\", \"ordem\": \"Squamata\", \"counts\": 53}, {\"ano_coleta\": 1941.0, \"continente\": \"Am\\u00e9rica do Sul\", \"ordem\": \"Squamata\", \"counts\": 17}, {\"ano_coleta\": 1942.0, \"continente\": \"Am\\u00e9rica do Sul\", \"ordem\": \"Squamata\", \"counts\": 254}, {\"ano_coleta\": 1942.0, \"continente\": \"Am\\u00e9rica do Sul\", \"ordem\": \"Testudines\", \"counts\": 4}, {\"ano_coleta\": 1943.0, \"continente\": \"Am\\u00e9rica do Sul\", \"ordem\": \"Squamata\", \"counts\": 112}, {\"ano_coleta\": 1944.0, \"continente\": \"Am\\u00e9rica do Sul\", \"ordem\": \"Squamata\", \"counts\": 159}, {\"ano_coleta\": 1944.0, \"continente\": \"Am\\u00e9rica do Sul\", \"ordem\": \"Testudines\", \"counts\": 2}, {\"ano_coleta\": 1945.0, \"continente\": \"Am\\u00e9rica do Sul\", \"ordem\": \"Squamata\", \"counts\": 391}, {\"ano_coleta\": 1946.0, \"continente\": \"Am\\u00e9rica do Norte\", \"ordem\": \"Squamata\", \"counts\": 17}, {\"ano_coleta\": 1946.0, \"continente\": \"Am\\u00e9rica do Sul\", \"ordem\": \"Squamata\", \"counts\": 34}, {\"ano_coleta\": 1947.0, \"continente\": \"Am\\u00e9rica do Norte\", \"ordem\": \"Squamata\", \"counts\": 11}, {\"ano_coleta\": 1947.0, \"continente\": \"Am\\u00e9rica do Sul\", \"ordem\": \"Squamata\", \"counts\": 88}, {\"ano_coleta\": 1948.0, \"continente\": \"Am\\u00e9rica do Sul\", \"ordem\": \"Crocodylia\", \"counts\": 1}, {\"ano_coleta\": 1948.0, \"continente\": \"Am\\u00e9rica do Sul\", \"ordem\": \"Squamata\", \"counts\": 105}, {\"ano_coleta\": 1949.0, \"continente\": \"Am\\u00e9rica do Norte\", \"ordem\": \"Squamata\", \"counts\": 3}, {\"ano_coleta\": 1949.0, \"continente\": \"Am\\u00e9rica do Sul\", \"ordem\": \"Squamata\", \"counts\": 23}, {\"ano_coleta\": 1949.0, \"continente\": \"Am\\u00e9rica do Sul\", \"ordem\": \"Testudines\", \"counts\": 1}, {\"ano_coleta\": 1950.0, \"continente\": \"Am\\u00e9rica Central\", \"ordem\": \"Squamata\", \"counts\": 1}, {\"ano_coleta\": 1950.0, \"continente\": \"Am\\u00e9rica do Sul\", \"ordem\": \"Squamata\", \"counts\": 50}, {\"ano_coleta\": 1951.0, \"continente\": \"Am\\u00e9rica do Sul\", \"ordem\": \"Squamata\", \"counts\": 33}, {\"ano_coleta\": 1952.0, \"continente\": \"Am\\u00e9rica do Sul\", \"ordem\": \"Squamata\", \"counts\": 57}, {\"ano_coleta\": 1953.0, \"continente\": \"Am\\u00e9rica do Sul\", \"ordem\": \"Squamata\", \"counts\": 44}, {\"ano_coleta\": 1953.0, \"continente\": \"Am\\u00e9rica do Sul\", \"ordem\": \"Testudines\", \"counts\": 2}, {\"ano_coleta\": 1954.0, \"continente\": \"Am\\u00e9rica do Sul\", \"ordem\": \"Squamata\", \"counts\": 28}, {\"ano_coleta\": 1954.0, \"continente\": \"Am\\u00e9rica do Sul\", \"ordem\": \"Testudines\", \"counts\": 2}, {\"ano_coleta\": 1955.0, \"continente\": \"#N/D\", \"ordem\": \"Squamata\", \"counts\": 2}, {\"ano_coleta\": 1955.0, \"continente\": \"Am\\u00e9rica do Sul\", \"ordem\": \"Squamata\", \"counts\": 27}, {\"ano_coleta\": 1955.0, \"continente\": \"Am\\u00e9rica do Sul\", \"ordem\": \"Testudines\", \"counts\": 2}, {\"ano_coleta\": 1956.0, \"continente\": \"Am\\u00e9rica do Sul\", \"ordem\": \"Squamata\", \"counts\": 52}, {\"ano_coleta\": 1957.0, \"continente\": \"Am\\u00e9rica do Sul\", \"ordem\": \"Squamata\", \"counts\": 60}, {\"ano_coleta\": 1957.0, \"continente\": \"Am\\u00e9rica do Sul\", \"ordem\": \"Testudines\", \"counts\": 2}, {\"ano_coleta\": 1957.0, \"continente\": \"\\u00c1sia\", \"ordem\": \"Squamata\", \"counts\": 3}, {\"ano_coleta\": 1958.0, \"continente\": \"Am\\u00e9rica do Sul\", \"ordem\": \"Squamata\", \"counts\": 32}, {\"ano_coleta\": 1959.0, \"continente\": \"Am\\u00e9rica do Sul\", \"ordem\": \"Squamata\", \"counts\": 20}, {\"ano_coleta\": 1960.0, \"continente\": \"Am\\u00e9rica do Sul\", \"ordem\": \"Squamata\", \"counts\": 14}, {\"ano_coleta\": 1961.0, \"continente\": \"Am\\u00e9rica do Sul\", \"ordem\": \"Squamata\", \"counts\": 17}, {\"ano_coleta\": 1961.0, \"continente\": \"Am\\u00e9rica do Sul\", \"ordem\": \"Testudines\", \"counts\": 1}, {\"ano_coleta\": 1961.0, \"continente\": \"\\u00c1sia\", \"ordem\": \"Squamata\", \"counts\": 2}, {\"ano_coleta\": 1962.0, \"continente\": \"Am\\u00e9rica do Sul\", \"ordem\": \"Squamata\", \"counts\": 4}, {\"ano_coleta\": 1962.0, \"continente\": \"Europa\", \"ordem\": \"Testudines\", \"counts\": 1}, {\"ano_coleta\": 1962.0, \"continente\": \"\\u00c1sia\", \"ordem\": \"Squamata\", \"counts\": 4}, {\"ano_coleta\": 1963.0, \"continente\": \"Am\\u00e9rica do Norte\", \"ordem\": \"Squamata\", \"counts\": 1}, {\"ano_coleta\": 1963.0, \"continente\": \"Am\\u00e9rica do Norte\", \"ordem\": \"Testudines\", \"counts\": 5}, {\"ano_coleta\": 1963.0, \"continente\": \"Am\\u00e9rica do Sul\", \"ordem\": \"Squamata\", \"counts\": 28}, {\"ano_coleta\": 1963.0, \"continente\": \"Am\\u00e9rica do Sul\", \"ordem\": \"Testudines\", \"counts\": 6}, {\"ano_coleta\": 1963.0, \"continente\": \"\\u00c1sia\", \"ordem\": \"Squamata\", \"counts\": 6}, {\"ano_coleta\": 1964.0, \"continente\": \"Am\\u00e9rica Central\", \"ordem\": \"Squamata\", \"counts\": 5}, {\"ano_coleta\": 1964.0, \"continente\": \"Am\\u00e9rica do Sul\", \"ordem\": \"Squamata\", \"counts\": 33}, {\"ano_coleta\": 1964.0, \"continente\": \"Am\\u00e9rica do Sul\", \"ordem\": \"Testudines\", \"counts\": 18}, {\"ano_coleta\": 1965.0, \"continente\": \"Am\\u00e9rica do Sul\", \"ordem\": \"Squamata\", \"counts\": 35}, {\"ano_coleta\": 1966.0, \"continente\": \"Am\\u00e9rica do Sul\", \"ordem\": \"Squamata\", \"counts\": 24}, {\"ano_coleta\": 1967.0, \"continente\": \"Am\\u00e9rica Central\", \"ordem\": \"Squamata\", \"counts\": 2}, {\"ano_coleta\": 1967.0, \"continente\": \"Am\\u00e9rica do Sul\", \"ordem\": \"Squamata\", \"counts\": 7}, {\"ano_coleta\": 1967.0, \"continente\": \"Am\\u00e9rica do Sul\", \"ordem\": \"Testudines\", \"counts\": 1}, {\"ano_coleta\": 1968.0, \"continente\": \"Am\\u00e9rica do Sul\", \"ordem\": \"Squamata\", \"counts\": 10}, {\"ano_coleta\": 1968.0, \"continente\": \"Am\\u00e9rica do Sul\", \"ordem\": \"Testudines\", \"counts\": 13}, {\"ano_coleta\": 1969.0, \"continente\": \"Am\\u00e9rica do Sul\", \"ordem\": \"Squamata\", \"counts\": 51}, {\"ano_coleta\": 1970.0, \"continente\": \"Am\\u00e9rica do Sul\", \"ordem\": \"Squamata\", \"counts\": 33}, {\"ano_coleta\": 1971.0, \"continente\": \"Am\\u00e9rica do Sul\", \"ordem\": \"Squamata\", \"counts\": 43}, {\"ano_coleta\": 1971.0, \"continente\": \"Am\\u00e9rica do Sul\", \"ordem\": \"Testudines\", \"counts\": 1}, {\"ano_coleta\": 1972.0, \"continente\": \"Am\\u00e9rica do Sul\", \"ordem\": \"Squamata\", \"counts\": 33}, {\"ano_coleta\": 1972.0, \"continente\": \"Europa\", \"ordem\": \"Squamata\", \"counts\": 1}, {\"ano_coleta\": 1973.0, \"continente\": \"Am\\u00e9rica do Sul\", \"ordem\": \"Squamata\", \"counts\": 56}, {\"ano_coleta\": 1974.0, \"continente\": \"Am\\u00e9rica do Sul\", \"ordem\": \"Squamata\", \"counts\": 27}, {\"ano_coleta\": 1974.0, \"continente\": \"Am\\u00e9rica do Sul\", \"ordem\": \"Testudines\", \"counts\": 2}, {\"ano_coleta\": 1975.0, \"continente\": \"Am\\u00e9rica do Sul\", \"ordem\": \"Squamata\", \"counts\": 129}, {\"ano_coleta\": 1975.0, \"continente\": \"Am\\u00e9rica do Sul\", \"ordem\": \"Testudines\", \"counts\": 2}, {\"ano_coleta\": 1976.0, \"continente\": \"Am\\u00e9rica do Sul\", \"ordem\": \"Squamata\", \"counts\": 44}, {\"ano_coleta\": 1976.0, \"continente\": \"Am\\u00e9rica do Sul\", \"ordem\": \"Testudines\", \"counts\": 73}, {\"ano_coleta\": 1977.0, \"continente\": \"Am\\u00e9rica do Sul\", \"ordem\": \"Squamata\", \"counts\": 28}, {\"ano_coleta\": 1978.0, \"continente\": \"Am\\u00e9rica do Sul\", \"ordem\": \"Squamata\", \"counts\": 40}, {\"ano_coleta\": 1979.0, \"continente\": \"#N/D\", \"ordem\": \"Squamata\", \"counts\": 1}, {\"ano_coleta\": 1979.0, \"continente\": \"Am\\u00e9rica do Sul\", \"ordem\": \"Crocodylia\", \"counts\": 1}, {\"ano_coleta\": 1979.0, \"continente\": \"Am\\u00e9rica do Sul\", \"ordem\": \"Squamata\", \"counts\": 52}, {\"ano_coleta\": 1979.0, \"continente\": \"Am\\u00e9rica do Sul\", \"ordem\": \"Testudines\", \"counts\": 1}, {\"ano_coleta\": 1980.0, \"continente\": \"Am\\u00e9rica do Sul\", \"ordem\": \"Squamata\", \"counts\": 43}, {\"ano_coleta\": 1981.0, \"continente\": \"Am\\u00e9rica do Sul\", \"ordem\": \"Squamata\", \"counts\": 49}, {\"ano_coleta\": 1981.0, \"continente\": \"Am\\u00e9rica do Sul\", \"ordem\": \"Testudines\", \"counts\": 3}, {\"ano_coleta\": 1982.0, \"continente\": \"#N/D\", \"ordem\": \"Squamata\", \"counts\": 1}, {\"ano_coleta\": 1982.0, \"continente\": \"Am\\u00e9rica do Sul\", \"ordem\": \"Squamata\", \"counts\": 67}, {\"ano_coleta\": 1982.0, \"continente\": \"Am\\u00e9rica do Sul\", \"ordem\": \"Testudines\", \"counts\": 7}, {\"ano_coleta\": 1983.0, \"continente\": \"Am\\u00e9rica do Sul\", \"ordem\": \"Squamata\", \"counts\": 48}, {\"ano_coleta\": 1983.0, \"continente\": \"Am\\u00e9rica do Sul\", \"ordem\": \"Testudines\", \"counts\": 1}, {\"ano_coleta\": 1984.0, \"continente\": \"Am\\u00e9rica do Sul\", \"ordem\": \"Squamata\", \"counts\": 88}, {\"ano_coleta\": 1984.0, \"continente\": \"Am\\u00e9rica do Sul\", \"ordem\": \"Testudines\", \"counts\": 3}, {\"ano_coleta\": 1985.0, \"continente\": \"Am\\u00e9rica do Sul\", \"ordem\": \"Squamata\", \"counts\": 153}, {\"ano_coleta\": 1985.0, \"continente\": \"Am\\u00e9rica do Sul\", \"ordem\": \"Testudines\", \"counts\": 3}, {\"ano_coleta\": 1986.0, \"continente\": \"Am\\u00e9rica do Sul\", \"ordem\": \"Crocodylia\", \"counts\": 2}, {\"ano_coleta\": 1986.0, \"continente\": \"Am\\u00e9rica do Sul\", \"ordem\": \"Squamata\", \"counts\": 459}, {\"ano_coleta\": 1986.0, \"continente\": \"Am\\u00e9rica do Sul\", \"ordem\": \"Testudines\", \"counts\": 10}, {\"ano_coleta\": 1987.0, \"continente\": \"Am\\u00e9rica do Sul\", \"ordem\": \"Crocodylia\", \"counts\": 187}, {\"ano_coleta\": 1987.0, \"continente\": \"Am\\u00e9rica do Sul\", \"ordem\": \"Squamata\", \"counts\": 434}, {\"ano_coleta\": 1987.0, \"continente\": \"Am\\u00e9rica do Sul\", \"ordem\": \"Testudines\", \"counts\": 6}, {\"ano_coleta\": 1988.0, \"continente\": \"Am\\u00e9rica do Sul\", \"ordem\": \"Squamata\", \"counts\": 331}, {\"ano_coleta\": 1988.0, \"continente\": \"Am\\u00e9rica do Sul\", \"ordem\": \"Testudines\", \"counts\": 177}, {\"ano_coleta\": 1989.0, \"continente\": \"Am\\u00e9rica do Sul\", \"ordem\": \"Crocodylia\", \"counts\": 2}, {\"ano_coleta\": 1989.0, \"continente\": \"Am\\u00e9rica do Sul\", \"ordem\": \"Squamata\", \"counts\": 383}, {\"ano_coleta\": 1989.0, \"continente\": \"Am\\u00e9rica do Sul\", \"ordem\": \"Testudines\", \"counts\": 6}, {\"ano_coleta\": 1990.0, \"continente\": \"Am\\u00e9rica do Sul\", \"ordem\": \"Squamata\", \"counts\": 275}, {\"ano_coleta\": 1990.0, \"continente\": \"Am\\u00e9rica do Sul\", \"ordem\": \"Testudines\", \"counts\": 6}, {\"ano_coleta\": 1991.0, \"continente\": \"#N/D\", \"ordem\": \"Squamata\", \"counts\": 1}, {\"ano_coleta\": 1991.0, \"continente\": \"Am\\u00e9rica do Sul\", \"ordem\": \"Crocodylia\", \"counts\": 2}, {\"ano_coleta\": 1991.0, \"continente\": \"Am\\u00e9rica do Sul\", \"ordem\": \"Squamata\", \"counts\": 427}, {\"ano_coleta\": 1991.0, \"continente\": \"Am\\u00e9rica do Sul\", \"ordem\": \"Testudines\", \"counts\": 5}, {\"ano_coleta\": 1992.0, \"continente\": \"Am\\u00e9rica do Sul\", \"ordem\": \"Squamata\", \"counts\": 232}, {\"ano_coleta\": 1992.0, \"continente\": \"Am\\u00e9rica do Sul\", \"ordem\": \"Testudines\", \"counts\": 15}, {\"ano_coleta\": 1993.0, \"continente\": \"Am\\u00e9rica do Sul\", \"ordem\": \"Squamata\", \"counts\": 276}, {\"ano_coleta\": 1993.0, \"continente\": \"Am\\u00e9rica do Sul\", \"ordem\": \"Testudines\", \"counts\": 2}, {\"ano_coleta\": 1994.0, \"continente\": \"Am\\u00e9rica do Norte\", \"ordem\": \"Squamata\", \"counts\": 2}, {\"ano_coleta\": 1994.0, \"continente\": \"Am\\u00e9rica do Sul\", \"ordem\": \"Squamata\", \"counts\": 443}, {\"ano_coleta\": 1994.0, \"continente\": \"Am\\u00e9rica do Sul\", \"ordem\": \"Testudines\", \"counts\": 11}, {\"ano_coleta\": 1995.0, \"continente\": \"Am\\u00e9rica do Sul\", \"ordem\": \"Squamata\", \"counts\": 301}, {\"ano_coleta\": 1995.0, \"continente\": \"Am\\u00e9rica do Sul\", \"ordem\": \"Testudines\", \"counts\": 7}, {\"ano_coleta\": 1996.0, \"continente\": \"Am\\u00e9rica do Sul\", \"ordem\": \"Crocodylia\", \"counts\": 3}, {\"ano_coleta\": 1996.0, \"continente\": \"Am\\u00e9rica do Sul\", \"ordem\": \"Squamata\", \"counts\": 346}, {\"ano_coleta\": 1996.0, \"continente\": \"Am\\u00e9rica do Sul\", \"ordem\": \"Testudines\", \"counts\": 15}, {\"ano_coleta\": 1997.0, \"continente\": \"Am\\u00e9rica do Sul\", \"ordem\": \"Squamata\", \"counts\": 509}, {\"ano_coleta\": 1997.0, \"continente\": \"Am\\u00e9rica do Sul\", \"ordem\": \"Testudines\", \"counts\": 6}, {\"ano_coleta\": 1998.0, \"continente\": \"Am\\u00e9rica do Norte\", \"ordem\": \"Squamata\", \"counts\": 1}, {\"ano_coleta\": 1998.0, \"continente\": \"Am\\u00e9rica do Sul\", \"ordem\": \"Crocodylia\", \"counts\": 3}, {\"ano_coleta\": 1998.0, \"continente\": \"Am\\u00e9rica do Sul\", \"ordem\": \"Squamata\", \"counts\": 459}, {\"ano_coleta\": 1998.0, \"continente\": \"Am\\u00e9rica do Sul\", \"ordem\": \"Testudines\", \"counts\": 24}, {\"ano_coleta\": 1999.0, \"continente\": \"Am\\u00e9rica do Sul\", \"ordem\": \"Crocodylia\", \"counts\": 2}, {\"ano_coleta\": 1999.0, \"continente\": \"Am\\u00e9rica do Sul\", \"ordem\": \"Squamata\", \"counts\": 554}, {\"ano_coleta\": 1999.0, \"continente\": \"Am\\u00e9rica do Sul\", \"ordem\": \"Testudines\", \"counts\": 2}, {\"ano_coleta\": 2000.0, \"continente\": \"Am\\u00e9rica do Sul\", \"ordem\": \"Crocodylia\", \"counts\": 3}, {\"ano_coleta\": 2000.0, \"continente\": \"Am\\u00e9rica do Sul\", \"ordem\": \"Squamata\", \"counts\": 462}, {\"ano_coleta\": 2000.0, \"continente\": \"Am\\u00e9rica do Sul\", \"ordem\": \"Testudines\", \"counts\": 8}, {\"ano_coleta\": 2001.0, \"continente\": \"Am\\u00e9rica Central\", \"ordem\": \"Squamata\", \"counts\": 1}, {\"ano_coleta\": 2001.0, \"continente\": \"Am\\u00e9rica do Sul\", \"ordem\": \"Crocodylia\", \"counts\": 1}, {\"ano_coleta\": 2001.0, \"continente\": \"Am\\u00e9rica do Sul\", \"ordem\": \"Squamata\", \"counts\": 299}, {\"ano_coleta\": 2001.0, \"continente\": \"Am\\u00e9rica do Sul\", \"ordem\": \"Testudines\", \"counts\": 7}, {\"ano_coleta\": 2002.0, \"continente\": \"Am\\u00e9rica do Sul\", \"ordem\": \"Squamata\", \"counts\": 461}, {\"ano_coleta\": 2002.0, \"continente\": \"Am\\u00e9rica do Sul\", \"ordem\": \"Testudines\", \"counts\": 2}, {\"ano_coleta\": 2002.0, \"continente\": \"\\u00c1frica\", \"ordem\": \"Squamata\", \"counts\": 1}, {\"ano_coleta\": 2003.0, \"continente\": \"Am\\u00e9rica do Sul\", \"ordem\": \"Squamata\", \"counts\": 340}, {\"ano_coleta\": 2004.0, \"continente\": \"#N/D\", \"ordem\": \"Squamata\", \"counts\": 1}, {\"ano_coleta\": 2004.0, \"continente\": \"Am\\u00e9rica Central\", \"ordem\": \"Squamata\", \"counts\": 1}, {\"ano_coleta\": 2004.0, \"continente\": \"Am\\u00e9rica do Sul\", \"ordem\": \"Squamata\", \"counts\": 353}, {\"ano_coleta\": 2004.0, \"continente\": \"Am\\u00e9rica do Sul\", \"ordem\": \"Testudines\", \"counts\": 5}, {\"ano_coleta\": 2005.0, \"continente\": \"Am\\u00e9rica do Sul\", \"ordem\": \"Crocodylia\", \"counts\": 2}, {\"ano_coleta\": 2005.0, \"continente\": \"Am\\u00e9rica do Sul\", \"ordem\": \"Squamata\", \"counts\": 451}, {\"ano_coleta\": 2005.0, \"continente\": \"Am\\u00e9rica do Sul\", \"ordem\": \"Testudines\", \"counts\": 1}, {\"ano_coleta\": 2006.0, \"continente\": \"#N/D\", \"ordem\": \"Squamata\", \"counts\": 1}, {\"ano_coleta\": 2006.0, \"continente\": \"Am\\u00e9rica do Sul\", \"ordem\": \"Crocodylia\", \"counts\": 2}, {\"ano_coleta\": 2006.0, \"continente\": \"Am\\u00e9rica do Sul\", \"ordem\": \"Squamata\", \"counts\": 463}, {\"ano_coleta\": 2006.0, \"continente\": \"Am\\u00e9rica do Sul\", \"ordem\": \"Testudines\", \"counts\": 12}, {\"ano_coleta\": 2007.0, \"continente\": \"Am\\u00e9rica do Sul\", \"ordem\": \"Crocodylia\", \"counts\": 4}, {\"ano_coleta\": 2007.0, \"continente\": \"Am\\u00e9rica do Sul\", \"ordem\": \"Squamata\", \"counts\": 632}, {\"ano_coleta\": 2007.0, \"continente\": \"Am\\u00e9rica do Sul\", \"ordem\": \"Testudines\", \"counts\": 13}, {\"ano_coleta\": 2008.0, \"continente\": \"Am\\u00e9rica do Sul\", \"ordem\": \"Crocodylia\", \"counts\": 2}, {\"ano_coleta\": 2008.0, \"continente\": \"Am\\u00e9rica do Sul\", \"ordem\": \"Squamata\", \"counts\": 1208}, {\"ano_coleta\": 2008.0, \"continente\": \"Am\\u00e9rica do Sul\", \"ordem\": \"Testudines\", \"counts\": 25}, {\"ano_coleta\": 2009.0, \"continente\": \"#N/D\", \"ordem\": \"Squamata\", \"counts\": 1}, {\"ano_coleta\": 2009.0, \"continente\": \"Am\\u00e9rica do Sul\", \"ordem\": \"Crocodylia\", \"counts\": 5}, {\"ano_coleta\": 2009.0, \"continente\": \"Am\\u00e9rica do Sul\", \"ordem\": \"Squamata\", \"counts\": 924}, {\"ano_coleta\": 2009.0, \"continente\": \"Am\\u00e9rica do Sul\", \"ordem\": \"Testudines\", \"counts\": 11}, {\"ano_coleta\": 2010.0, \"continente\": \"#N/D\", \"ordem\": \"Squamata\", \"counts\": 3}, {\"ano_coleta\": 2010.0, \"continente\": \"Am\\u00e9rica do Sul\", \"ordem\": \"Crocodylia\", \"counts\": 1}, {\"ano_coleta\": 2010.0, \"continente\": \"Am\\u00e9rica do Sul\", \"ordem\": \"Squamata\", \"counts\": 756}, {\"ano_coleta\": 2010.0, \"continente\": \"Am\\u00e9rica do Sul\", \"ordem\": \"Testudines\", \"counts\": 11}, {\"ano_coleta\": 2011.0, \"continente\": \"#N/D\", \"ordem\": \"Squamata\", \"counts\": 2}, {\"ano_coleta\": 2011.0, \"continente\": \"Am\\u00e9rica do Sul\", \"ordem\": \"Squamata\", \"counts\": 596}, {\"ano_coleta\": 2011.0, \"continente\": \"Am\\u00e9rica do Sul\", \"ordem\": \"Testudines\", \"counts\": 3}, {\"ano_coleta\": 2012.0, \"continente\": \"#N/D\", \"ordem\": \"Crocodylia\", \"counts\": 1}, {\"ano_coleta\": 2012.0, \"continente\": \"Am\\u00e9rica do Sul\", \"ordem\": \"Crocodylia\", \"counts\": 1}, {\"ano_coleta\": 2012.0, \"continente\": \"Am\\u00e9rica do Sul\", \"ordem\": \"Squamata\", \"counts\": 556}, {\"ano_coleta\": 2012.0, \"continente\": \"Am\\u00e9rica do Sul\", \"ordem\": \"Testudines\", \"counts\": 6}, {\"ano_coleta\": 2013.0, \"continente\": \"#N/D\", \"ordem\": \"Testudines\", \"counts\": 1}, {\"ano_coleta\": 2013.0, \"continente\": \"Am\\u00e9rica do Sul\", \"ordem\": \"Crocodylia\", \"counts\": 2}, {\"ano_coleta\": 2013.0, \"continente\": \"Am\\u00e9rica do Sul\", \"ordem\": \"Squamata\", \"counts\": 567}, {\"ano_coleta\": 2013.0, \"continente\": \"Am\\u00e9rica do Sul\", \"ordem\": \"Testudines\", \"counts\": 4}, {\"ano_coleta\": 2014.0, \"continente\": \"#N/D\", \"ordem\": \"Squamata\", \"counts\": 2}, {\"ano_coleta\": 2014.0, \"continente\": \"Am\\u00e9rica do Sul\", \"ordem\": \"Crocodylia\", \"counts\": 1}, {\"ano_coleta\": 2014.0, \"continente\": \"Am\\u00e9rica do Sul\", \"ordem\": \"Squamata\", \"counts\": 405}, {\"ano_coleta\": 2014.0, \"continente\": \"Am\\u00e9rica do Sul\", \"ordem\": \"Testudines\", \"counts\": 3}, {\"ano_coleta\": 2015.0, \"continente\": \"#N/D\", \"ordem\": \"Squamata\", \"counts\": 3}, {\"ano_coleta\": 2015.0, \"continente\": \"Am\\u00e9rica do Sul\", \"ordem\": \"Serpentes\", \"counts\": 1}, {\"ano_coleta\": 2015.0, \"continente\": \"Am\\u00e9rica do Sul\", \"ordem\": \"Squamata\", \"counts\": 586}, {\"ano_coleta\": 2016.0, \"continente\": \"Am\\u00e9rica do Sul\", \"ordem\": \"Squamata\", \"counts\": 123}, {\"ano_coleta\": 2016.0, \"continente\": \"Am\\u00e9rica do Sul\", \"ordem\": \"Testudines\", \"counts\": 2}]}}, {\"mode\": \"vega-lite\"});\n",
       "</script>"
      ],
      "text/plain": [
       "alt.Chart(...)"
      ]
     },
     "execution_count": 6,
     "metadata": {},
     "output_type": "execute_result"
    }
   ],
   "source": [
    "g1 = alt.Chart(teste, title='Evolução temporal da coleção por continente').mark_circle().encode(\n",
    "    x= alt.X('ano_coleta', type=\"ordinal\", title='Ano de Coleta'),\n",
    "    y= alt.Y('continente', title='Continente', \n",
    "             sort=alt.EncodingSortField('counts', op=\"count\", order='descending')), \n",
    "    size=alt.Size('counts', scale= alt.Scale(range=[30,1200])), \n",
    "    order= alt.Order('counts', sort='descending'),  # smaller points in front\n",
    "    color= alt.Color('ordem', scale=alt.Scale(domain=ordens, range=cores)),\n",
    "    tooltip= alt.Tooltip(['continente','ano_coleta','ordem','counts'])\n",
    ")\n",
    "\n",
    "g1 = g1.configure_title(fontSize=16).configure_axis(\n",
    "    labelFontSize=12,\n",
    "    titleFontSize=12\n",
    ").configure_legend(\n",
    "    labelFontSize=12,\n",
    "    titleFontSize=12\n",
    ")\n",
    "\n",
    "# g1.save('./graphs/time-spacial/evolucao_por_continente.html')\n",
    "\n",
    "g1"
   ]
  },
  {
   "cell_type": "markdown",
   "metadata": {},
   "source": [
    "<br>\n",
    "\n",
    "<font color='red' size=5>Temporário?</font>\n",
    "\n",
    "**Cumulative count:** "
   ]
  },
  {
   "cell_type": "code",
   "execution_count": 7,
   "metadata": {},
   "outputs": [],
   "source": [
    "# agrupando por Ano e Continente\n",
    "teste = NewTable.groupby(['ano_coleta','continente']).count()['class'].reset_index().rename(columns={\n",
    "    'class':'counts'\n",
    "})\n",
    "\n",
    "teste = teste.sort_values(['continente', 'ano_coleta'])"
   ]
  },
  {
   "cell_type": "code",
   "execution_count": 8,
   "metadata": {},
   "outputs": [],
   "source": [
    "cumSum = []\n",
    "for continente in teste['continente'].unique():\n",
    "    cumSum.extend(list(teste[teste['continente'] == continente]['counts'].cumsum()))\n",
    "    \n",
    "teste['cumulative_sum'] = cumSum"
   ]
  },
  {
   "cell_type": "code",
   "execution_count": 10,
   "metadata": {},
   "outputs": [
    {
     "data": {
      "text/html": [
       "\n",
       "<div id=\"altair-viz-b71c15f7b5ed426b8eddb9ce50020129\"></div>\n",
       "<script type=\"text/javascript\">\n",
       "  (function(spec, embedOpt){\n",
       "    let outputDiv = document.currentScript.previousElementSibling;\n",
       "    if (outputDiv.id !== \"altair-viz-b71c15f7b5ed426b8eddb9ce50020129\") {\n",
       "      outputDiv = document.getElementById(\"altair-viz-b71c15f7b5ed426b8eddb9ce50020129\");\n",
       "    }\n",
       "    const paths = {\n",
       "      \"vega\": \"https://cdn.jsdelivr.net/npm//vega@5?noext\",\n",
       "      \"vega-lib\": \"https://cdn.jsdelivr.net/npm//vega-lib?noext\",\n",
       "      \"vega-lite\": \"https://cdn.jsdelivr.net/npm//vega-lite@4.8.1?noext\",\n",
       "      \"vega-embed\": \"https://cdn.jsdelivr.net/npm//vega-embed@6?noext\",\n",
       "    };\n",
       "\n",
       "    function loadScript(lib) {\n",
       "      return new Promise(function(resolve, reject) {\n",
       "        var s = document.createElement('script');\n",
       "        s.src = paths[lib];\n",
       "        s.async = true;\n",
       "        s.onload = () => resolve(paths[lib]);\n",
       "        s.onerror = () => reject(`Error loading script: ${paths[lib]}`);\n",
       "        document.getElementsByTagName(\"head\")[0].appendChild(s);\n",
       "      });\n",
       "    }\n",
       "\n",
       "    function showError(err) {\n",
       "      outputDiv.innerHTML = `<div class=\"error\" style=\"color:red;\">${err}</div>`;\n",
       "      throw err;\n",
       "    }\n",
       "\n",
       "    function displayChart(vegaEmbed) {\n",
       "      vegaEmbed(outputDiv, spec, embedOpt)\n",
       "        .catch(err => showError(`Javascript Error: ${err.message}<br>This usually means there's a typo in your chart specification. See the javascript console for the full traceback.`));\n",
       "    }\n",
       "\n",
       "    if(typeof define === \"function\" && define.amd) {\n",
       "      requirejs.config({paths});\n",
       "      require([\"vega-embed\"], displayChart, err => showError(`Error loading script: ${err.message}`));\n",
       "    } else if (typeof vegaEmbed === \"function\") {\n",
       "      displayChart(vegaEmbed);\n",
       "    } else {\n",
       "      loadScript(\"vega\")\n",
       "        .then(() => loadScript(\"vega-lite\"))\n",
       "        .then(() => loadScript(\"vega-embed\"))\n",
       "        .catch(showError)\n",
       "        .then(() => displayChart(vegaEmbed));\n",
       "    }\n",
       "  })({\"config\": {\"view\": {\"continuousWidth\": 400, \"continuousHeight\": 300}, \"axis\": {\"labelFontSize\": 12, \"titleFontSize\": 12}, \"legend\": {\"labelFontSize\": 12, \"titleFontSize\": 12}, \"title\": {\"fontSize\": 16}}, \"data\": {\"name\": \"data-e27dc88a0ef00a68b38d48c2979b70f8\"}, \"mark\": {\"type\": \"line\", \"point\": true}, \"encoding\": {\"color\": {\"type\": \"nominal\", \"field\": \"continente\"}, \"tooltip\": [{\"type\": \"nominal\", \"field\": \"continente\"}, {\"type\": \"quantitative\", \"field\": \"ano_coleta\"}, {\"type\": \"quantitative\", \"field\": \"counts\"}], \"x\": {\"type\": \"ordinal\", \"field\": \"ano_coleta\", \"title\": \"Ano de Coleta\"}, \"y\": {\"type\": \"quantitative\", \"field\": \"cumulative_sum\", \"sort\": {\"field\": \"counts\", \"op\": \"count\", \"order\": \"descending\"}, \"title\": \"\"}}, \"title\": \"Evolu\\u00e7\\u00e3o temporal da cole\\u00e7\\u00e3o por continente\", \"width\": 600, \"$schema\": \"https://vega.github.io/schema/vega-lite/v4.8.1.json\", \"datasets\": {\"data-e27dc88a0ef00a68b38d48c2979b70f8\": [{\"ano_coleta\": 1955.0, \"continente\": \"#N/D\", \"counts\": 2, \"cumulative_sum\": 2}, {\"ano_coleta\": 1979.0, \"continente\": \"#N/D\", \"counts\": 1, \"cumulative_sum\": 3}, {\"ano_coleta\": 1982.0, \"continente\": \"#N/D\", \"counts\": 1, \"cumulative_sum\": 4}, {\"ano_coleta\": 1991.0, \"continente\": \"#N/D\", \"counts\": 1, \"cumulative_sum\": 5}, {\"ano_coleta\": 2004.0, \"continente\": \"#N/D\", \"counts\": 1, \"cumulative_sum\": 6}, {\"ano_coleta\": 2006.0, \"continente\": \"#N/D\", \"counts\": 1, \"cumulative_sum\": 7}, {\"ano_coleta\": 2009.0, \"continente\": \"#N/D\", \"counts\": 1, \"cumulative_sum\": 8}, {\"ano_coleta\": 2010.0, \"continente\": \"#N/D\", \"counts\": 3, \"cumulative_sum\": 11}, {\"ano_coleta\": 2011.0, \"continente\": \"#N/D\", \"counts\": 2, \"cumulative_sum\": 13}, {\"ano_coleta\": 2012.0, \"continente\": \"#N/D\", \"counts\": 1, \"cumulative_sum\": 14}, {\"ano_coleta\": 2013.0, \"continente\": \"#N/D\", \"counts\": 1, \"cumulative_sum\": 15}, {\"ano_coleta\": 2014.0, \"continente\": \"#N/D\", \"counts\": 2, \"cumulative_sum\": 17}, {\"ano_coleta\": 2015.0, \"continente\": \"#N/D\", \"counts\": 3, \"cumulative_sum\": 20}, {\"ano_coleta\": 1931.0, \"continente\": \"Am\\u00e9rica Central\", \"counts\": 2, \"cumulative_sum\": 2}, {\"ano_coleta\": 1935.0, \"continente\": \"Am\\u00e9rica Central\", \"counts\": 1, \"cumulative_sum\": 3}, {\"ano_coleta\": 1950.0, \"continente\": \"Am\\u00e9rica Central\", \"counts\": 1, \"cumulative_sum\": 4}, {\"ano_coleta\": 1964.0, \"continente\": \"Am\\u00e9rica Central\", \"counts\": 5, \"cumulative_sum\": 9}, {\"ano_coleta\": 1967.0, \"continente\": \"Am\\u00e9rica Central\", \"counts\": 2, \"cumulative_sum\": 11}, {\"ano_coleta\": 2001.0, \"continente\": \"Am\\u00e9rica Central\", \"counts\": 1, \"cumulative_sum\": 12}, {\"ano_coleta\": 2004.0, \"continente\": \"Am\\u00e9rica Central\", \"counts\": 1, \"cumulative_sum\": 13}, {\"ano_coleta\": 1901.0, \"continente\": \"Am\\u00e9rica do Norte\", \"counts\": 3, \"cumulative_sum\": 3}, {\"ano_coleta\": 1902.0, \"continente\": \"Am\\u00e9rica do Norte\", \"counts\": 2, \"cumulative_sum\": 5}, {\"ano_coleta\": 1903.0, \"continente\": \"Am\\u00e9rica do Norte\", \"counts\": 1, \"cumulative_sum\": 6}, {\"ano_coleta\": 1905.0, \"continente\": \"Am\\u00e9rica do Norte\", \"counts\": 1, \"cumulative_sum\": 7}, {\"ano_coleta\": 1906.0, \"continente\": \"Am\\u00e9rica do Norte\", \"counts\": 1, \"cumulative_sum\": 8}, {\"ano_coleta\": 1907.0, \"continente\": \"Am\\u00e9rica do Norte\", \"counts\": 2, \"cumulative_sum\": 10}, {\"ano_coleta\": 1912.0, \"continente\": \"Am\\u00e9rica do Norte\", \"counts\": 3, \"cumulative_sum\": 13}, {\"ano_coleta\": 1913.0, \"continente\": \"Am\\u00e9rica do Norte\", \"counts\": 1, \"cumulative_sum\": 14}, {\"ano_coleta\": 1914.0, \"continente\": \"Am\\u00e9rica do Norte\", \"counts\": 1, \"cumulative_sum\": 15}, {\"ano_coleta\": 1915.0, \"continente\": \"Am\\u00e9rica do Norte\", \"counts\": 1, \"cumulative_sum\": 16}, {\"ano_coleta\": 1916.0, \"continente\": \"Am\\u00e9rica do Norte\", \"counts\": 1, \"cumulative_sum\": 17}, {\"ano_coleta\": 1917.0, \"continente\": \"Am\\u00e9rica do Norte\", \"counts\": 1, \"cumulative_sum\": 18}, {\"ano_coleta\": 1919.0, \"continente\": \"Am\\u00e9rica do Norte\", \"counts\": 3, \"cumulative_sum\": 21}, {\"ano_coleta\": 1935.0, \"continente\": \"Am\\u00e9rica do Norte\", \"counts\": 1, \"cumulative_sum\": 22}, {\"ano_coleta\": 1936.0, \"continente\": \"Am\\u00e9rica do Norte\", \"counts\": 1, \"cumulative_sum\": 23}, {\"ano_coleta\": 1937.0, \"continente\": \"Am\\u00e9rica do Norte\", \"counts\": 1, \"cumulative_sum\": 24}, {\"ano_coleta\": 1940.0, \"continente\": \"Am\\u00e9rica do Norte\", \"counts\": 1, \"cumulative_sum\": 25}, {\"ano_coleta\": 1946.0, \"continente\": \"Am\\u00e9rica do Norte\", \"counts\": 17, \"cumulative_sum\": 42}, {\"ano_coleta\": 1947.0, \"continente\": \"Am\\u00e9rica do Norte\", \"counts\": 11, \"cumulative_sum\": 53}, {\"ano_coleta\": 1949.0, \"continente\": \"Am\\u00e9rica do Norte\", \"counts\": 3, \"cumulative_sum\": 56}, {\"ano_coleta\": 1963.0, \"continente\": \"Am\\u00e9rica do Norte\", \"counts\": 6, \"cumulative_sum\": 62}, {\"ano_coleta\": 1994.0, \"continente\": \"Am\\u00e9rica do Norte\", \"counts\": 2, \"cumulative_sum\": 64}, {\"ano_coleta\": 1998.0, \"continente\": \"Am\\u00e9rica do Norte\", \"counts\": 1, \"cumulative_sum\": 65}, {\"ano_coleta\": 0.0, \"continente\": \"Am\\u00e9rica do Sul\", \"counts\": 5, \"cumulative_sum\": 5}, {\"ano_coleta\": 1824.0, \"continente\": \"Am\\u00e9rica do Sul\", \"counts\": 1, \"cumulative_sum\": 6}, {\"ano_coleta\": 1876.0, \"continente\": \"Am\\u00e9rica do Sul\", \"counts\": 74, \"cumulative_sum\": 80}, {\"ano_coleta\": 1915.0, \"continente\": \"Am\\u00e9rica do Sul\", \"counts\": 5, \"cumulative_sum\": 85}, {\"ano_coleta\": 1916.0, \"continente\": \"Am\\u00e9rica do Sul\", \"counts\": 2, \"cumulative_sum\": 87}, {\"ano_coleta\": 1922.0, \"continente\": \"Am\\u00e9rica do Sul\", \"counts\": 2, \"cumulative_sum\": 89}, {\"ano_coleta\": 1923.0, \"continente\": \"Am\\u00e9rica do Sul\", \"counts\": 3, \"cumulative_sum\": 92}, {\"ano_coleta\": 1924.0, \"continente\": \"Am\\u00e9rica do Sul\", \"counts\": 1, \"cumulative_sum\": 93}, {\"ano_coleta\": 1925.0, \"continente\": \"Am\\u00e9rica do Sul\", \"counts\": 1, \"cumulative_sum\": 94}, {\"ano_coleta\": 1926.0, \"continente\": \"Am\\u00e9rica do Sul\", \"counts\": 1, \"cumulative_sum\": 95}, {\"ano_coleta\": 1928.0, \"continente\": \"Am\\u00e9rica do Sul\", \"counts\": 1, \"cumulative_sum\": 96}, {\"ano_coleta\": 1932.0, \"continente\": \"Am\\u00e9rica do Sul\", \"counts\": 1, \"cumulative_sum\": 97}, {\"ano_coleta\": 1933.0, \"continente\": \"Am\\u00e9rica do Sul\", \"counts\": 3, \"cumulative_sum\": 100}, {\"ano_coleta\": 1936.0, \"continente\": \"Am\\u00e9rica do Sul\", \"counts\": 2, \"cumulative_sum\": 102}, {\"ano_coleta\": 1937.0, \"continente\": \"Am\\u00e9rica do Sul\", \"counts\": 28, \"cumulative_sum\": 130}, {\"ano_coleta\": 1938.0, \"continente\": \"Am\\u00e9rica do Sul\", \"counts\": 1, \"cumulative_sum\": 131}, {\"ano_coleta\": 1939.0, \"continente\": \"Am\\u00e9rica do Sul\", \"counts\": 187, \"cumulative_sum\": 318}, {\"ano_coleta\": 1940.0, \"continente\": \"Am\\u00e9rica do Sul\", \"counts\": 53, \"cumulative_sum\": 371}, {\"ano_coleta\": 1941.0, \"continente\": \"Am\\u00e9rica do Sul\", \"counts\": 17, \"cumulative_sum\": 388}, {\"ano_coleta\": 1942.0, \"continente\": \"Am\\u00e9rica do Sul\", \"counts\": 258, \"cumulative_sum\": 646}, {\"ano_coleta\": 1943.0, \"continente\": \"Am\\u00e9rica do Sul\", \"counts\": 112, \"cumulative_sum\": 758}, {\"ano_coleta\": 1944.0, \"continente\": \"Am\\u00e9rica do Sul\", \"counts\": 161, \"cumulative_sum\": 919}, {\"ano_coleta\": 1945.0, \"continente\": \"Am\\u00e9rica do Sul\", \"counts\": 391, \"cumulative_sum\": 1310}, {\"ano_coleta\": 1946.0, \"continente\": \"Am\\u00e9rica do Sul\", \"counts\": 34, \"cumulative_sum\": 1344}, {\"ano_coleta\": 1947.0, \"continente\": \"Am\\u00e9rica do Sul\", \"counts\": 88, \"cumulative_sum\": 1432}, {\"ano_coleta\": 1948.0, \"continente\": \"Am\\u00e9rica do Sul\", \"counts\": 106, \"cumulative_sum\": 1538}, {\"ano_coleta\": 1949.0, \"continente\": \"Am\\u00e9rica do Sul\", \"counts\": 24, \"cumulative_sum\": 1562}, {\"ano_coleta\": 1950.0, \"continente\": \"Am\\u00e9rica do Sul\", \"counts\": 50, \"cumulative_sum\": 1612}, {\"ano_coleta\": 1951.0, \"continente\": \"Am\\u00e9rica do Sul\", \"counts\": 33, \"cumulative_sum\": 1645}, {\"ano_coleta\": 1952.0, \"continente\": \"Am\\u00e9rica do Sul\", \"counts\": 57, \"cumulative_sum\": 1702}, {\"ano_coleta\": 1953.0, \"continente\": \"Am\\u00e9rica do Sul\", \"counts\": 46, \"cumulative_sum\": 1748}, {\"ano_coleta\": 1954.0, \"continente\": \"Am\\u00e9rica do Sul\", \"counts\": 30, \"cumulative_sum\": 1778}, {\"ano_coleta\": 1955.0, \"continente\": \"Am\\u00e9rica do Sul\", \"counts\": 29, \"cumulative_sum\": 1807}, {\"ano_coleta\": 1956.0, \"continente\": \"Am\\u00e9rica do Sul\", \"counts\": 52, \"cumulative_sum\": 1859}, {\"ano_coleta\": 1957.0, \"continente\": \"Am\\u00e9rica do Sul\", \"counts\": 62, \"cumulative_sum\": 1921}, {\"ano_coleta\": 1958.0, \"continente\": \"Am\\u00e9rica do Sul\", \"counts\": 32, \"cumulative_sum\": 1953}, {\"ano_coleta\": 1959.0, \"continente\": \"Am\\u00e9rica do Sul\", \"counts\": 20, \"cumulative_sum\": 1973}, {\"ano_coleta\": 1960.0, \"continente\": \"Am\\u00e9rica do Sul\", \"counts\": 14, \"cumulative_sum\": 1987}, {\"ano_coleta\": 1961.0, \"continente\": \"Am\\u00e9rica do Sul\", \"counts\": 18, \"cumulative_sum\": 2005}, {\"ano_coleta\": 1962.0, \"continente\": \"Am\\u00e9rica do Sul\", \"counts\": 5, \"cumulative_sum\": 2010}, {\"ano_coleta\": 1963.0, \"continente\": \"Am\\u00e9rica do Sul\", \"counts\": 35, \"cumulative_sum\": 2045}, {\"ano_coleta\": 1964.0, \"continente\": \"Am\\u00e9rica do Sul\", \"counts\": 51, \"cumulative_sum\": 2096}, {\"ano_coleta\": 1965.0, \"continente\": \"Am\\u00e9rica do Sul\", \"counts\": 35, \"cumulative_sum\": 2131}, {\"ano_coleta\": 1966.0, \"continente\": \"Am\\u00e9rica do Sul\", \"counts\": 24, \"cumulative_sum\": 2155}, {\"ano_coleta\": 1967.0, \"continente\": \"Am\\u00e9rica do Sul\", \"counts\": 8, \"cumulative_sum\": 2163}, {\"ano_coleta\": 1968.0, \"continente\": \"Am\\u00e9rica do Sul\", \"counts\": 23, \"cumulative_sum\": 2186}, {\"ano_coleta\": 1969.0, \"continente\": \"Am\\u00e9rica do Sul\", \"counts\": 51, \"cumulative_sum\": 2237}, {\"ano_coleta\": 1970.0, \"continente\": \"Am\\u00e9rica do Sul\", \"counts\": 33, \"cumulative_sum\": 2270}, {\"ano_coleta\": 1971.0, \"continente\": \"Am\\u00e9rica do Sul\", \"counts\": 44, \"cumulative_sum\": 2314}, {\"ano_coleta\": 1972.0, \"continente\": \"Am\\u00e9rica do Sul\", \"counts\": 33, \"cumulative_sum\": 2347}, {\"ano_coleta\": 1973.0, \"continente\": \"Am\\u00e9rica do Sul\", \"counts\": 56, \"cumulative_sum\": 2403}, {\"ano_coleta\": 1974.0, \"continente\": \"Am\\u00e9rica do Sul\", \"counts\": 29, \"cumulative_sum\": 2432}, {\"ano_coleta\": 1975.0, \"continente\": \"Am\\u00e9rica do Sul\", \"counts\": 131, \"cumulative_sum\": 2563}, {\"ano_coleta\": 1976.0, \"continente\": \"Am\\u00e9rica do Sul\", \"counts\": 117, \"cumulative_sum\": 2680}, {\"ano_coleta\": 1977.0, \"continente\": \"Am\\u00e9rica do Sul\", \"counts\": 28, \"cumulative_sum\": 2708}, {\"ano_coleta\": 1978.0, \"continente\": \"Am\\u00e9rica do Sul\", \"counts\": 40, \"cumulative_sum\": 2748}, {\"ano_coleta\": 1979.0, \"continente\": \"Am\\u00e9rica do Sul\", \"counts\": 54, \"cumulative_sum\": 2802}, {\"ano_coleta\": 1980.0, \"continente\": \"Am\\u00e9rica do Sul\", \"counts\": 43, \"cumulative_sum\": 2845}, {\"ano_coleta\": 1981.0, \"continente\": \"Am\\u00e9rica do Sul\", \"counts\": 52, \"cumulative_sum\": 2897}, {\"ano_coleta\": 1982.0, \"continente\": \"Am\\u00e9rica do Sul\", \"counts\": 74, \"cumulative_sum\": 2971}, {\"ano_coleta\": 1983.0, \"continente\": \"Am\\u00e9rica do Sul\", \"counts\": 49, \"cumulative_sum\": 3020}, {\"ano_coleta\": 1984.0, \"continente\": \"Am\\u00e9rica do Sul\", \"counts\": 91, \"cumulative_sum\": 3111}, {\"ano_coleta\": 1985.0, \"continente\": \"Am\\u00e9rica do Sul\", \"counts\": 156, \"cumulative_sum\": 3267}, {\"ano_coleta\": 1986.0, \"continente\": \"Am\\u00e9rica do Sul\", \"counts\": 471, \"cumulative_sum\": 3738}, {\"ano_coleta\": 1987.0, \"continente\": \"Am\\u00e9rica do Sul\", \"counts\": 627, \"cumulative_sum\": 4365}, {\"ano_coleta\": 1988.0, \"continente\": \"Am\\u00e9rica do Sul\", \"counts\": 508, \"cumulative_sum\": 4873}, {\"ano_coleta\": 1989.0, \"continente\": \"Am\\u00e9rica do Sul\", \"counts\": 391, \"cumulative_sum\": 5264}, {\"ano_coleta\": 1990.0, \"continente\": \"Am\\u00e9rica do Sul\", \"counts\": 282, \"cumulative_sum\": 5546}, {\"ano_coleta\": 1991.0, \"continente\": \"Am\\u00e9rica do Sul\", \"counts\": 434, \"cumulative_sum\": 5980}, {\"ano_coleta\": 1992.0, \"continente\": \"Am\\u00e9rica do Sul\", \"counts\": 247, \"cumulative_sum\": 6227}, {\"ano_coleta\": 1993.0, \"continente\": \"Am\\u00e9rica do Sul\", \"counts\": 278, \"cumulative_sum\": 6505}, {\"ano_coleta\": 1994.0, \"continente\": \"Am\\u00e9rica do Sul\", \"counts\": 454, \"cumulative_sum\": 6959}, {\"ano_coleta\": 1995.0, \"continente\": \"Am\\u00e9rica do Sul\", \"counts\": 308, \"cumulative_sum\": 7267}, {\"ano_coleta\": 1996.0, \"continente\": \"Am\\u00e9rica do Sul\", \"counts\": 364, \"cumulative_sum\": 7631}, {\"ano_coleta\": 1997.0, \"continente\": \"Am\\u00e9rica do Sul\", \"counts\": 515, \"cumulative_sum\": 8146}, {\"ano_coleta\": 1998.0, \"continente\": \"Am\\u00e9rica do Sul\", \"counts\": 486, \"cumulative_sum\": 8632}, {\"ano_coleta\": 1999.0, \"continente\": \"Am\\u00e9rica do Sul\", \"counts\": 558, \"cumulative_sum\": 9190}, {\"ano_coleta\": 2000.0, \"continente\": \"Am\\u00e9rica do Sul\", \"counts\": 473, \"cumulative_sum\": 9663}, {\"ano_coleta\": 2001.0, \"continente\": \"Am\\u00e9rica do Sul\", \"counts\": 307, \"cumulative_sum\": 9970}, {\"ano_coleta\": 2002.0, \"continente\": \"Am\\u00e9rica do Sul\", \"counts\": 463, \"cumulative_sum\": 10433}, {\"ano_coleta\": 2003.0, \"continente\": \"Am\\u00e9rica do Sul\", \"counts\": 340, \"cumulative_sum\": 10773}, {\"ano_coleta\": 2004.0, \"continente\": \"Am\\u00e9rica do Sul\", \"counts\": 358, \"cumulative_sum\": 11131}, {\"ano_coleta\": 2005.0, \"continente\": \"Am\\u00e9rica do Sul\", \"counts\": 454, \"cumulative_sum\": 11585}, {\"ano_coleta\": 2006.0, \"continente\": \"Am\\u00e9rica do Sul\", \"counts\": 477, \"cumulative_sum\": 12062}, {\"ano_coleta\": 2007.0, \"continente\": \"Am\\u00e9rica do Sul\", \"counts\": 650, \"cumulative_sum\": 12712}, {\"ano_coleta\": 2008.0, \"continente\": \"Am\\u00e9rica do Sul\", \"counts\": 1236, \"cumulative_sum\": 13948}, {\"ano_coleta\": 2009.0, \"continente\": \"Am\\u00e9rica do Sul\", \"counts\": 940, \"cumulative_sum\": 14888}, {\"ano_coleta\": 2010.0, \"continente\": \"Am\\u00e9rica do Sul\", \"counts\": 768, \"cumulative_sum\": 15656}, {\"ano_coleta\": 2011.0, \"continente\": \"Am\\u00e9rica do Sul\", \"counts\": 599, \"cumulative_sum\": 16255}, {\"ano_coleta\": 2012.0, \"continente\": \"Am\\u00e9rica do Sul\", \"counts\": 563, \"cumulative_sum\": 16818}, {\"ano_coleta\": 2013.0, \"continente\": \"Am\\u00e9rica do Sul\", \"counts\": 573, \"cumulative_sum\": 17391}, {\"ano_coleta\": 2014.0, \"continente\": \"Am\\u00e9rica do Sul\", \"counts\": 409, \"cumulative_sum\": 17800}, {\"ano_coleta\": 2015.0, \"continente\": \"Am\\u00e9rica do Sul\", \"counts\": 587, \"cumulative_sum\": 18387}, {\"ano_coleta\": 2016.0, \"continente\": \"Am\\u00e9rica do Sul\", \"counts\": 125, \"cumulative_sum\": 18512}, {\"ano_coleta\": 1913.0, \"continente\": \"Europa\", \"counts\": 1, \"cumulative_sum\": 1}, {\"ano_coleta\": 1962.0, \"continente\": \"Europa\", \"counts\": 1, \"cumulative_sum\": 2}, {\"ano_coleta\": 1972.0, \"continente\": \"Europa\", \"counts\": 1, \"cumulative_sum\": 3}, {\"ano_coleta\": 2002.0, \"continente\": \"\\u00c1frica\", \"counts\": 1, \"cumulative_sum\": 1}, {\"ano_coleta\": 1907.0, \"continente\": \"\\u00c1sia\", \"counts\": 2, \"cumulative_sum\": 2}, {\"ano_coleta\": 1957.0, \"continente\": \"\\u00c1sia\", \"counts\": 3, \"cumulative_sum\": 5}, {\"ano_coleta\": 1961.0, \"continente\": \"\\u00c1sia\", \"counts\": 2, \"cumulative_sum\": 7}, {\"ano_coleta\": 1962.0, \"continente\": \"\\u00c1sia\", \"counts\": 4, \"cumulative_sum\": 11}, {\"ano_coleta\": 1963.0, \"continente\": \"\\u00c1sia\", \"counts\": 6, \"cumulative_sum\": 17}]}}, {\"mode\": \"vega-lite\"});\n",
       "</script>"
      ],
      "text/plain": [
       "alt.Chart(...)"
      ]
     },
     "execution_count": 10,
     "metadata": {},
     "output_type": "execute_result"
    }
   ],
   "source": [
    "g1 = alt.Chart(teste, title='Evolução temporal da coleção por continente', width=600).mark_line(point=True).encode(\n",
    "    x= alt.X('ano_coleta', type=\"ordinal\", title='Ano de Coleta'),\n",
    "    y= alt.Y('cumulative_sum', title='', \n",
    "             sort=alt.EncodingSortField('counts', op=\"count\", order='descending')),\n",
    "    color= alt.Color('continente:N'),\n",
    "    tooltip= alt.Tooltip(['continente','ano_coleta','counts'])\n",
    ")\n",
    "\n",
    "g1 = g1.configure_title(fontSize=16).configure_axis(\n",
    "    labelFontSize=12,\n",
    "    titleFontSize=12\n",
    ").configure_legend(\n",
    "    labelFontSize=12,\n",
    "    titleFontSize=12\n",
    ")\n",
    "\n",
    "# g1.save('./graphs/cumCounts/time-spacial/evolucao_por_continente.html')\n",
    "\n",
    "g1"
   ]
  },
  {
   "cell_type": "markdown",
   "metadata": {},
   "source": [
    "<br>\n",
    "\n",
    "### Chart 2: Evolution per time and country"
   ]
  },
  {
   "cell_type": "code",
   "execution_count": 11,
   "metadata": {
    "ExecuteTime": {
     "end_time": "2020-08-29T16:04:32.619942Z",
     "start_time": "2020-08-29T16:04:32.565375Z"
    }
   },
   "outputs": [],
   "source": [
    "# agrupando por Ano e Continente\n",
    "teste1 = NewTable.groupby(['ano_coleta','pais', 'ordem']).count()['class'].reset_index().rename(columns={\n",
    "    'class':'counts'\n",
    "})"
   ]
  },
  {
   "cell_type": "code",
   "execution_count": 13,
   "metadata": {
    "ExecuteTime": {
     "end_time": "2020-08-29T16:04:33.028600Z",
     "start_time": "2020-08-29T16:04:32.984803Z"
    }
   },
   "outputs": [],
   "source": [
    "# retirei Brasil (será detalhado por Estados depois)\n",
    "g1 = alt.Chart(teste1[teste1['pais'] != 'Brasil'], title='Animais coletados por ano em outros países',\n",
    "              width=800).mark_circle().encode(\n",
    "    x= alt.X('ano_coleta', type=\"ordinal\", title='Ano de Coleta'),\n",
    "    y= alt.Y('pais', title='País', \n",
    "             sort=alt.EncodingSortField('counts', op=\"sum\", order='descending')), \n",
    "    size=alt.Size('counts', scale= alt.Scale(range=[20,250])), \n",
    "    order= alt.Order('counts', sort='descending'),  # smaller points in front\n",
    "    color= alt.Color('ordem', scale=alt.Scale(domain=ordens, range=cores)),\n",
    "    tooltip= alt.Tooltip(['pais','ano_coleta','ordem','counts'])\n",
    ")\n",
    "\n",
    "g1 = g1.configure_title(fontSize=16).configure_axis(\n",
    "    labelFontSize=12,\n",
    "    titleFontSize=12\n",
    ").configure_legend(\n",
    "    labelFontSize=12,\n",
    "    titleFontSize=12\n",
    ")\n",
    "\n",
    "# g1.save('./graphs/time-spacial/evolucao_por_pais.html')\n",
    "\n",
    "# g1"
   ]
  },
  {
   "cell_type": "markdown",
   "metadata": {},
   "source": [
    "<br>\n",
    "\n",
    "<font color='red' size=5>Temporário?</font>\n",
    "\n",
    "**Cumulative count:** "
   ]
  },
  {
   "cell_type": "code",
   "execution_count": 14,
   "metadata": {},
   "outputs": [],
   "source": [
    "# agrupando por Ano e Continente\n",
    "teste = NewTable.groupby(['ano_coleta','pais']).count()['class'].reset_index().rename(columns={\n",
    "    'class':'counts'\n",
    "})\n",
    "\n",
    "teste = teste.sort_values(['pais', 'ano_coleta'])"
   ]
  },
  {
   "cell_type": "code",
   "execution_count": 15,
   "metadata": {},
   "outputs": [],
   "source": [
    "cumSum = []\n",
    "for pais in teste['pais'].unique():\n",
    "    cumSum.extend(list(teste[teste['pais'] == pais]['counts'].cumsum()))\n",
    "    \n",
    "teste['cumulative_sum'] = cumSum"
   ]
  },
  {
   "cell_type": "code",
   "execution_count": 23,
   "metadata": {},
   "outputs": [
    {
     "data": {
      "text/html": [
       "\n",
       "<div id=\"altair-viz-d6292ff12a9648abb6df37d654c16fcf\"></div>\n",
       "<script type=\"text/javascript\">\n",
       "  (function(spec, embedOpt){\n",
       "    let outputDiv = document.currentScript.previousElementSibling;\n",
       "    if (outputDiv.id !== \"altair-viz-d6292ff12a9648abb6df37d654c16fcf\") {\n",
       "      outputDiv = document.getElementById(\"altair-viz-d6292ff12a9648abb6df37d654c16fcf\");\n",
       "    }\n",
       "    const paths = {\n",
       "      \"vega\": \"https://cdn.jsdelivr.net/npm//vega@5?noext\",\n",
       "      \"vega-lib\": \"https://cdn.jsdelivr.net/npm//vega-lib?noext\",\n",
       "      \"vega-lite\": \"https://cdn.jsdelivr.net/npm//vega-lite@4.8.1?noext\",\n",
       "      \"vega-embed\": \"https://cdn.jsdelivr.net/npm//vega-embed@6?noext\",\n",
       "    };\n",
       "\n",
       "    function loadScript(lib) {\n",
       "      return new Promise(function(resolve, reject) {\n",
       "        var s = document.createElement('script');\n",
       "        s.src = paths[lib];\n",
       "        s.async = true;\n",
       "        s.onload = () => resolve(paths[lib]);\n",
       "        s.onerror = () => reject(`Error loading script: ${paths[lib]}`);\n",
       "        document.getElementsByTagName(\"head\")[0].appendChild(s);\n",
       "      });\n",
       "    }\n",
       "\n",
       "    function showError(err) {\n",
       "      outputDiv.innerHTML = `<div class=\"error\" style=\"color:red;\">${err}</div>`;\n",
       "      throw err;\n",
       "    }\n",
       "\n",
       "    function displayChart(vegaEmbed) {\n",
       "      vegaEmbed(outputDiv, spec, embedOpt)\n",
       "        .catch(err => showError(`Javascript Error: ${err.message}<br>This usually means there's a typo in your chart specification. See the javascript console for the full traceback.`));\n",
       "    }\n",
       "\n",
       "    if(typeof define === \"function\" && define.amd) {\n",
       "      requirejs.config({paths});\n",
       "      require([\"vega-embed\"], displayChart, err => showError(`Error loading script: ${err.message}`));\n",
       "    } else if (typeof vegaEmbed === \"function\") {\n",
       "      displayChart(vegaEmbed);\n",
       "    } else {\n",
       "      loadScript(\"vega\")\n",
       "        .then(() => loadScript(\"vega-lite\"))\n",
       "        .then(() => loadScript(\"vega-embed\"))\n",
       "        .catch(showError)\n",
       "        .then(() => displayChart(vegaEmbed));\n",
       "    }\n",
       "  })({\"config\": {\"view\": {\"continuousWidth\": 400, \"continuousHeight\": 300}, \"axis\": {\"labelFontSize\": 12, \"titleFontSize\": 12}, \"legend\": {\"labelFontSize\": 12, \"titleFontSize\": 12}, \"title\": {\"fontSize\": 16}}, \"data\": {\"name\": \"data-b66edc6b395e6399fd265a34ab5c61ca\"}, \"mark\": {\"type\": \"line\", \"point\": true}, \"encoding\": {\"color\": {\"type\": \"nominal\", \"field\": \"pais\", \"legend\": {\"columns\": 2}, \"title\": \"Pa\\u00eds\"}, \"tooltip\": [{\"type\": \"nominal\", \"field\": \"pais\"}, {\"type\": \"quantitative\", \"field\": \"ano_coleta\"}, {\"type\": \"quantitative\", \"field\": \"counts\"}], \"x\": {\"type\": \"ordinal\", \"field\": \"ano_coleta\", \"title\": \"Ano de Coleta\"}, \"y\": {\"type\": \"quantitative\", \"field\": \"cumulative_sum\", \"sort\": {\"field\": \"counts\", \"op\": \"count\", \"order\": \"descending\"}, \"title\": \"\"}}, \"title\": \"Evolu\\u00e7\\u00e3o temporal da cole\\u00e7\\u00e3o por pa\\u00eds\", \"width\": 600, \"$schema\": \"https://vega.github.io/schema/vega-lite/v4.8.1.json\", \"datasets\": {\"data-b66edc6b395e6399fd265a34ab5c61ca\": [{\"ano_coleta\": 1955.0, \"pais\": \"#N/D\", \"counts\": 2, \"cumulative_sum\": 2}, {\"ano_coleta\": 1979.0, \"pais\": \"#N/D\", \"counts\": 1, \"cumulative_sum\": 3}, {\"ano_coleta\": 1982.0, \"pais\": \"#N/D\", \"counts\": 1, \"cumulative_sum\": 4}, {\"ano_coleta\": 1991.0, \"pais\": \"#N/D\", \"counts\": 1, \"cumulative_sum\": 5}, {\"ano_coleta\": 2004.0, \"pais\": \"#N/D\", \"counts\": 1, \"cumulative_sum\": 6}, {\"ano_coleta\": 2006.0, \"pais\": \"#N/D\", \"counts\": 1, \"cumulative_sum\": 7}, {\"ano_coleta\": 2009.0, \"pais\": \"#N/D\", \"counts\": 1, \"cumulative_sum\": 8}, {\"ano_coleta\": 2010.0, \"pais\": \"#N/D\", \"counts\": 3, \"cumulative_sum\": 11}, {\"ano_coleta\": 2011.0, \"pais\": \"#N/D\", \"counts\": 2, \"cumulative_sum\": 13}, {\"ano_coleta\": 2012.0, \"pais\": \"#N/D\", \"counts\": 1, \"cumulative_sum\": 14}, {\"ano_coleta\": 2013.0, \"pais\": \"#N/D\", \"counts\": 1, \"cumulative_sum\": 15}, {\"ano_coleta\": 2014.0, \"pais\": \"#N/D\", \"counts\": 2, \"cumulative_sum\": 17}, {\"ano_coleta\": 2015.0, \"pais\": \"#N/D\", \"counts\": 3, \"cumulative_sum\": 20}, {\"ano_coleta\": 1913.0, \"pais\": \"Alemanha\", \"counts\": 1, \"cumulative_sum\": 1}, {\"ano_coleta\": 1943.0, \"pais\": \"Argentina\", \"counts\": 1, \"cumulative_sum\": 1}, {\"ano_coleta\": 1954.0, \"pais\": \"Argentina\", \"counts\": 6, \"cumulative_sum\": 7}, {\"ano_coleta\": 1966.0, \"pais\": \"Argentina\", \"counts\": 3, \"cumulative_sum\": 10}, {\"ano_coleta\": 1976.0, \"pais\": \"Argentina\", \"counts\": 1, \"cumulative_sum\": 11}, {\"ano_coleta\": 1978.0, \"pais\": \"Argentina\", \"counts\": 1, \"cumulative_sum\": 12}, {\"ano_coleta\": 1980.0, \"pais\": \"Argentina\", \"counts\": 1, \"cumulative_sum\": 13}, {\"ano_coleta\": 1982.0, \"pais\": \"Argentina\", \"counts\": 4, \"cumulative_sum\": 17}, {\"ano_coleta\": 1983.0, \"pais\": \"Argentina\", \"counts\": 1, \"cumulative_sum\": 18}, {\"ano_coleta\": 1984.0, \"pais\": \"Argentina\", \"counts\": 2, \"cumulative_sum\": 20}, {\"ano_coleta\": 1987.0, \"pais\": \"Argentina\", \"counts\": 12, \"cumulative_sum\": 32}, {\"ano_coleta\": 1988.0, \"pais\": \"Argentina\", \"counts\": 4, \"cumulative_sum\": 36}, {\"ano_coleta\": 1989.0, \"pais\": \"Argentina\", \"counts\": 5, \"cumulative_sum\": 41}, {\"ano_coleta\": 1990.0, \"pais\": \"Argentina\", \"counts\": 3, \"cumulative_sum\": 44}, {\"ano_coleta\": 1991.0, \"pais\": \"Argentina\", \"counts\": 5, \"cumulative_sum\": 49}, {\"ano_coleta\": 1992.0, \"pais\": \"Argentina\", \"counts\": 8, \"cumulative_sum\": 57}, {\"ano_coleta\": 1993.0, \"pais\": \"Argentina\", \"counts\": 5, \"cumulative_sum\": 62}, {\"ano_coleta\": 1994.0, \"pais\": \"Argentina\", \"counts\": 2, \"cumulative_sum\": 64}, {\"ano_coleta\": 1995.0, \"pais\": \"Argentina\", \"counts\": 18, \"cumulative_sum\": 82}, {\"ano_coleta\": 1996.0, \"pais\": \"Argentina\", \"counts\": 4, \"cumulative_sum\": 86}, {\"ano_coleta\": 1997.0, \"pais\": \"Argentina\", \"counts\": 7, \"cumulative_sum\": 93}, {\"ano_coleta\": 1998.0, \"pais\": \"Argentina\", \"counts\": 2, \"cumulative_sum\": 95}, {\"ano_coleta\": 1999.0, \"pais\": \"Argentina\", \"counts\": 2, \"cumulative_sum\": 97}, {\"ano_coleta\": 2001.0, \"pais\": \"Argentina\", \"counts\": 9, \"cumulative_sum\": 106}, {\"ano_coleta\": 2002.0, \"pais\": \"Argentina\", \"counts\": 2, \"cumulative_sum\": 108}, {\"ano_coleta\": 2003.0, \"pais\": \"Argentina\", \"counts\": 3, \"cumulative_sum\": 111}, {\"ano_coleta\": 2005.0, \"pais\": \"Argentina\", \"counts\": 1, \"cumulative_sum\": 112}, {\"ano_coleta\": 1962.0, \"pais\": \"Chile\", \"counts\": 1, \"cumulative_sum\": 1}, {\"ano_coleta\": 1964.0, \"pais\": \"Chile\", \"counts\": 1, \"cumulative_sum\": 2}, {\"ano_coleta\": 1937.0, \"pais\": \"Col\\u00f4mbia\", \"counts\": 1, \"cumulative_sum\": 1}, {\"ano_coleta\": 1964.0, \"pais\": \"Col\\u00f4mbia\", \"counts\": 2, \"cumulative_sum\": 3}, {\"ano_coleta\": 2008.0, \"pais\": \"Col\\u00f4mbia\", \"counts\": 1, \"cumulative_sum\": 4}, {\"ano_coleta\": 2010.0, \"pais\": \"Col\\u00f4mbia\", \"counts\": 3, \"cumulative_sum\": 7}, {\"ano_coleta\": 2011.0, \"pais\": \"Col\\u00f4mbia\", \"counts\": 1, \"cumulative_sum\": 8}, {\"ano_coleta\": 2001.0, \"pais\": \"Costa Rica\", \"counts\": 1, \"cumulative_sum\": 1}, {\"ano_coleta\": 2004.0, \"pais\": \"Cuba\", \"counts\": 1, \"cumulative_sum\": 1}, {\"ano_coleta\": 1957.0, \"pais\": \"Egito\", \"counts\": 3, \"cumulative_sum\": 3}, {\"ano_coleta\": 1984.0, \"pais\": \"Equador\", \"counts\": 1, \"cumulative_sum\": 1}, {\"ano_coleta\": 1986.0, \"pais\": \"Equador\", \"counts\": 1, \"cumulative_sum\": 2}, {\"ano_coleta\": 1988.0, \"pais\": \"Equador\", \"counts\": 1, \"cumulative_sum\": 3}, {\"ano_coleta\": 1989.0, \"pais\": \"Equador\", \"counts\": 2, \"cumulative_sum\": 5}, {\"ano_coleta\": 1992.0, \"pais\": \"Equador\", \"counts\": 1, \"cumulative_sum\": 6}, {\"ano_coleta\": 1994.0, \"pais\": \"Equador\", \"counts\": 1, \"cumulative_sum\": 7}, {\"ano_coleta\": 1996.0, \"pais\": \"Equador\", \"counts\": 2, \"cumulative_sum\": 9}, {\"ano_coleta\": 2000.0, \"pais\": \"Equador\", \"counts\": 1, \"cumulative_sum\": 10}, {\"ano_coleta\": 2002.0, \"pais\": \"Equador\", \"counts\": 1, \"cumulative_sum\": 11}, {\"ano_coleta\": 2006.0, \"pais\": \"Equador\", \"counts\": 1, \"cumulative_sum\": 12}, {\"ano_coleta\": 2008.0, \"pais\": \"Equador\", \"counts\": 1, \"cumulative_sum\": 13}, {\"ano_coleta\": 2009.0, \"pais\": \"Equador\", \"counts\": 2, \"cumulative_sum\": 15}, {\"ano_coleta\": 2011.0, \"pais\": \"Equador\", \"counts\": 6, \"cumulative_sum\": 21}, {\"ano_coleta\": 1901.0, \"pais\": \"Estados Unidos\", \"counts\": 3, \"cumulative_sum\": 3}, {\"ano_coleta\": 1902.0, \"pais\": \"Estados Unidos\", \"counts\": 2, \"cumulative_sum\": 5}, {\"ano_coleta\": 1903.0, \"pais\": \"Estados Unidos\", \"counts\": 1, \"cumulative_sum\": 6}, {\"ano_coleta\": 1905.0, \"pais\": \"Estados Unidos\", \"counts\": 1, \"cumulative_sum\": 7}, {\"ano_coleta\": 1906.0, \"pais\": \"Estados Unidos\", \"counts\": 1, \"cumulative_sum\": 8}, {\"ano_coleta\": 1907.0, \"pais\": \"Estados Unidos\", \"counts\": 2, \"cumulative_sum\": 10}, {\"ano_coleta\": 1912.0, \"pais\": \"Estados Unidos\", \"counts\": 3, \"cumulative_sum\": 13}, {\"ano_coleta\": 1913.0, \"pais\": \"Estados Unidos\", \"counts\": 1, \"cumulative_sum\": 14}, {\"ano_coleta\": 1914.0, \"pais\": \"Estados Unidos\", \"counts\": 1, \"cumulative_sum\": 15}, {\"ano_coleta\": 1915.0, \"pais\": \"Estados Unidos\", \"counts\": 1, \"cumulative_sum\": 16}, {\"ano_coleta\": 1916.0, \"pais\": \"Estados Unidos\", \"counts\": 1, \"cumulative_sum\": 17}, {\"ano_coleta\": 1917.0, \"pais\": \"Estados Unidos\", \"counts\": 1, \"cumulative_sum\": 18}, {\"ano_coleta\": 1919.0, \"pais\": \"Estados Unidos\", \"counts\": 3, \"cumulative_sum\": 21}, {\"ano_coleta\": 1935.0, \"pais\": \"Estados Unidos\", \"counts\": 1, \"cumulative_sum\": 22}, {\"ano_coleta\": 1946.0, \"pais\": \"Estados Unidos\", \"counts\": 17, \"cumulative_sum\": 39}, {\"ano_coleta\": 1947.0, \"pais\": \"Estados Unidos\", \"counts\": 11, \"cumulative_sum\": 50}, {\"ano_coleta\": 1949.0, \"pais\": \"Estados Unidos\", \"counts\": 3, \"cumulative_sum\": 53}, {\"ano_coleta\": 1963.0, \"pais\": \"Estados Unidos\", \"counts\": 6, \"cumulative_sum\": 59}, {\"ano_coleta\": 1994.0, \"pais\": \"Estados Unidos\", \"counts\": 2, \"cumulative_sum\": 61}, {\"ano_coleta\": 1998.0, \"pais\": \"Estados Unidos\", \"counts\": 1, \"cumulative_sum\": 62}, {\"ano_coleta\": 1907.0, \"pais\": \"Filipinas\", \"counts\": 2, \"cumulative_sum\": 2}, {\"ano_coleta\": 1931.0, \"pais\": \"Honduras\", \"counts\": 2, \"cumulative_sum\": 2}, {\"ano_coleta\": 1961.0, \"pais\": \"Israel\", \"counts\": 2, \"cumulative_sum\": 2}, {\"ano_coleta\": 1962.0, \"pais\": \"Israel\", \"counts\": 4, \"cumulative_sum\": 6}, {\"ano_coleta\": 1963.0, \"pais\": \"Israel\", \"counts\": 6, \"cumulative_sum\": 12}, {\"ano_coleta\": 1936.0, \"pais\": \"M\\u00e9xico\", \"counts\": 1, \"cumulative_sum\": 1}, {\"ano_coleta\": 1937.0, \"pais\": \"M\\u00e9xico\", \"counts\": 1, \"cumulative_sum\": 2}, {\"ano_coleta\": 1940.0, \"pais\": \"M\\u00e9xico\", \"counts\": 1, \"cumulative_sum\": 3}, {\"ano_coleta\": 1935.0, \"pais\": \"Nicar\\u00e1gua\", \"counts\": 1, \"cumulative_sum\": 1}, {\"ano_coleta\": 1937.0, \"pais\": \"Paraguai\", \"counts\": 1, \"cumulative_sum\": 1}, {\"ano_coleta\": 1944.0, \"pais\": \"Paraguai\", \"counts\": 9, \"cumulative_sum\": 10}, {\"ano_coleta\": 1945.0, \"pais\": \"Paraguai\", \"counts\": 2, \"cumulative_sum\": 12}, {\"ano_coleta\": 1976.0, \"pais\": \"Paraguai\", \"counts\": 2, \"cumulative_sum\": 14}, {\"ano_coleta\": 1989.0, \"pais\": \"Paraguai\", \"counts\": 4, \"cumulative_sum\": 18}, {\"ano_coleta\": 1994.0, \"pais\": \"Paraguai\", \"counts\": 6, \"cumulative_sum\": 24}, {\"ano_coleta\": 1939.0, \"pais\": \"Peru\", \"counts\": 2, \"cumulative_sum\": 2}, {\"ano_coleta\": 1943.0, \"pais\": \"Peru\", \"counts\": 2, \"cumulative_sum\": 4}, {\"ano_coleta\": 1966.0, \"pais\": \"Peru\", \"counts\": 5, \"cumulative_sum\": 9}, {\"ano_coleta\": 1986.0, \"pais\": \"Peru\", \"counts\": 1, \"cumulative_sum\": 10}, {\"ano_coleta\": 2007.0, \"pais\": \"Peru\", \"counts\": 1, \"cumulative_sum\": 11}, {\"ano_coleta\": 2008.0, \"pais\": \"Peru\", \"counts\": 2, \"cumulative_sum\": 13}, {\"ano_coleta\": 2009.0, \"pais\": \"Peru\", \"counts\": 1, \"cumulative_sum\": 14}, {\"ano_coleta\": 1950.0, \"pais\": \"Porto Rico\", \"counts\": 1, \"cumulative_sum\": 1}, {\"ano_coleta\": 1964.0, \"pais\": \"Porto Rico\", \"counts\": 5, \"cumulative_sum\": 6}, {\"ano_coleta\": 1967.0, \"pais\": \"Rep\\u00fablica Dominicana\", \"counts\": 2, \"cumulative_sum\": 2}, {\"ano_coleta\": 1962.0, \"pais\": \"Rom\\u00eania\", \"counts\": 1, \"cumulative_sum\": 1}, {\"ano_coleta\": 1972.0, \"pais\": \"Rom\\u00eania\", \"counts\": 1, \"cumulative_sum\": 2}, {\"ano_coleta\": 1956.0, \"pais\": \"Uruguai\", \"counts\": 2, \"cumulative_sum\": 2}, {\"ano_coleta\": 1957.0, \"pais\": \"Uruguai\", \"counts\": 2, \"cumulative_sum\": 4}, {\"ano_coleta\": 1984.0, \"pais\": \"Uruguai\", \"counts\": 1, \"cumulative_sum\": 5}, {\"ano_coleta\": 1987.0, \"pais\": \"Uruguai\", \"counts\": 1, \"cumulative_sum\": 6}, {\"ano_coleta\": 1989.0, \"pais\": \"Uruguai\", \"counts\": 3, \"cumulative_sum\": 9}, {\"ano_coleta\": 1922.0, \"pais\": \"Venezuela\", \"counts\": 2, \"cumulative_sum\": 2}, {\"ano_coleta\": 1999.0, \"pais\": \"Venezuela\", \"counts\": 5, \"cumulative_sum\": 7}, {\"ano_coleta\": 2015.0, \"pais\": \"Venezuela\", \"counts\": 1, \"cumulative_sum\": 8}, {\"ano_coleta\": 2002.0, \"pais\": \"\\u00c1frica do Sul\", \"counts\": 1, \"cumulative_sum\": 1}]}}, {\"mode\": \"vega-lite\"});\n",
       "</script>"
      ],
      "text/plain": [
       "alt.Chart(...)"
      ]
     },
     "execution_count": 23,
     "metadata": {},
     "output_type": "execute_result"
    }
   ],
   "source": [
    "g1 = alt.Chart(teste[teste['pais'] != 'Brasil'], title='Evolução temporal da coleção por país', width=600).mark_line(point=True).encode(\n",
    "    x= alt.X('ano_coleta', type=\"ordinal\", title='Ano de Coleta'),\n",
    "    y= alt.Y('cumulative_sum', title='', \n",
    "             sort=alt.EncodingSortField('counts', op=\"count\", order='descending')),\n",
    "    color= alt.Color('pais:N', title='País',\n",
    "                     legend= alt.Legend(columns=2)),\n",
    "    tooltip= alt.Tooltip(['pais','ano_coleta','counts'])\n",
    ")\n",
    "\n",
    "g1 = g1.configure_title(fontSize=16).configure_axis(\n",
    "    labelFontSize=12,\n",
    "    titleFontSize=12\n",
    ").configure_legend(\n",
    "    labelFontSize=12,\n",
    "    titleFontSize=12\n",
    ")\n",
    "\n",
    "# g1.save('./graphs/cumCounts/time-spacial/evolucao_por_país.html')\n",
    "\n",
    "g1"
   ]
  },
  {
   "cell_type": "markdown",
   "metadata": {},
   "source": [
    "<br>\n",
    "\n",
    "### Chart 3: Evolution per time and brazilian states"
   ]
  },
  {
   "cell_type": "code",
   "execution_count": 24,
   "metadata": {
    "ExecuteTime": {
     "end_time": "2020-08-29T16:04:46.835657Z",
     "start_time": "2020-08-29T16:04:46.765491Z"
    }
   },
   "outputs": [],
   "source": [
    "# agrupando por Ano e Continente\n",
    "teste2 = NewTable[NewTable['pais'] == 'Brasil']\n",
    "teste2 = teste2.groupby(['ano_coleta','estado_ou_provincia', 'ordem']).count()['class'].reset_index().rename(columns={\n",
    "    'class':'counts'\n",
    "})"
   ]
  },
  {
   "cell_type": "markdown",
   "metadata": {},
   "source": [
    "#### creating column with brazilian regions"
   ]
  },
  {
   "cell_type": "code",
   "execution_count": 25,
   "metadata": {
    "ExecuteTime": {
     "end_time": "2020-08-29T16:04:47.894391Z",
     "start_time": "2020-08-29T16:04:47.830928Z"
    }
   },
   "outputs": [],
   "source": [
    "regioes = {\n",
    "    'Rio de Janeiro':'SE',\n",
    "    'São Paulo':'SE',\n",
    "    'Espírito Santo': 'SE',\n",
    "    'Pernambuco':'NE',\n",
    "    'Santa Catarina':'S',\n",
    "    'Amazonas':'N',\n",
    "    'Goiás':'CO',\n",
    "    'Roraima':'N',\n",
    "    'Pará':'N',\n",
    "    'Mato Grosso':'CO',\n",
    "    'Acre': 'N',\n",
    "    'Bahia': 'NE',\n",
    "    'Minas Gerais': 'SE',\n",
    "    'Mato Grosso do Sul': 'CO',\n",
    "    'Paraná': 'S',\n",
    "    'Rondônia': 'N',\n",
    "    'Ceará': 'NE',\n",
    "    'Maranhão': 'N',\n",
    "    'Rio Grande do Sul': 'S',\n",
    "    'Paraíba': 'NE',\n",
    "    'Distrito Federal': 'CO',\n",
    "    'Alagoas': 'NE',\n",
    "    'Amapá':'N',\n",
    "    'Piauí': 'NE',\n",
    "    'Brasília': 'CO',\n",
    "    'Tocantins': 'N',\n",
    "    'Rio Grande do Norte': 'NE',\n",
    "    'Sergipe': 'NE',\n",
    "    'Minas Gerais/Goiás/Distrito Federal': 'CO',\n",
    "    'Santa Catarina-Rio Grande do Sul': 'S'\n",
    "}\n",
    "\n",
    "# criando coluna com as regiões\n",
    "teste2['regiao'] = teste2['estado_ou_provincia'].apply(lambda x: regioes[str(x)])\n",
    "\n",
    "# coluna com estado, regiao\n",
    "teste2['regiao_e_estado'] = teste2['estado_ou_provincia'] + ', ' + teste2['regiao']\n",
    "\n",
    "# ordenando por região e soma das contagens\n",
    "sorting = teste2.groupby(['regiao_e_estado', 'regiao']).sum()['counts'].reset_index(\n",
    "                                                                ).rename(columns={'counts':'soma'})\n",
    "sorting = sorting.sort_values(['regiao','soma'], ascending=False)['regiao_e_estado'].unique()"
   ]
  },
  {
   "cell_type": "code",
   "execution_count": 27,
   "metadata": {
    "ExecuteTime": {
     "end_time": "2020-08-29T16:04:49.560645Z",
     "start_time": "2020-08-29T16:04:49.501546Z"
    }
   },
   "outputs": [],
   "source": [
    "g1 = alt.Chart(teste2, title='Animais coletados por ano nos Estados Brasileiros').mark_circle(opacity=0.8).encode(\n",
    "    x= alt.X('ano_coleta', type=\"ordinal\", title='Ano de Coleta'),\n",
    "    y= alt.Y('regiao_e_estado', type=\"nominal\",title='Estado, Região',\n",
    "            sort= sorting, axis=alt.Axis(labels=True)), \n",
    "    y2 = alt.Y2('regiao', title='Região'),\n",
    "    size=alt.Size('counts', scale= alt.Scale(range=[30,1200], zero=False)), \n",
    "    order= alt.Order('counts', sort='descending'),  # smaller points in front\n",
    "    color= alt.Color('ordem', scale=alt.Scale(domain=ordens, range=cores)),\n",
    "    tooltip= alt.Tooltip(['regiao','estado_ou_provincia','ano_coleta','ordem','counts'])\n",
    ")\n",
    "\n",
    "# OBS: marca o background da região que eu quiser, mas distorce as cores\n",
    "# rule = alt.Chart(teste2[teste2['regiao'].isin(['SE','NE','CO'])], \n",
    "#                  title='Animais coletados por ano nos Estados Brasileiros').mark_rule(\n",
    "#                     opacity=0.1, size=19, color='#dedede', filled=False, fill='green').encode(\n",
    "#     y= alt.Y('regiao_e_estado', type=\"nominal\",title='Estado, Região',\n",
    "#             sort= sorting, axis=alt.Axis(labels=True))\n",
    "# )\n",
    "\n",
    "g1 = g1.configure_title(fontSize=16).configure_axis(\n",
    "    labelFontSize=12,\n",
    "    titleFontSize=12\n",
    ").configure_legend(\n",
    "    labelFontSize=12,\n",
    "    titleFontSize=12\n",
    ")\n",
    "\n",
    "# g1.save('./graphs/time-spacial/evolucao_por_estados_brasileiros.html')\n",
    "\n",
    "# g1"
   ]
  },
  {
   "cell_type": "markdown",
   "metadata": {},
   "source": [
    "<br>\n",
    "<br>\n",
    "\n",
    "<font color='red' size='5'> Separando por períodos </font>"
   ]
  },
  {
   "cell_type": "code",
   "execution_count": 28,
   "metadata": {
    "ExecuteTime": {
     "end_time": "2020-08-29T16:05:37.115787Z",
     "start_time": "2020-08-29T16:05:37.102322Z"
    }
   },
   "outputs": [],
   "source": [
    "# periodos: <1938, >=1938 e <= 1985, > 1985 \n",
    "ano_corte1 = 1938\n",
    "ano_corte2 = 1985\n",
    "\n",
    "periodo1 = teste2[teste2['ano_coleta'] < 1938].copy()\n",
    "periodo2 = teste2[(teste2['ano_coleta'] >= 1938) & (teste2['ano_coleta'] <= 1985)].copy()\n",
    "periodo3 = teste2[teste2['ano_coleta'] > 1985].copy()"
   ]
  },
  {
   "cell_type": "markdown",
   "metadata": {},
   "source": [
    "### periodo 1: até 1937"
   ]
  },
  {
   "cell_type": "code",
   "execution_count": 29,
   "metadata": {
    "ExecuteTime": {
     "end_time": "2020-08-29T16:05:38.060642Z",
     "start_time": "2020-08-29T16:05:38.029384Z"
    }
   },
   "outputs": [],
   "source": [
    "g1 = alt.Chart(periodo1, title='Animais coletados por ano nos Estados Brasileiros (até 1937)',\n",
    "              width=800, height=600).mark_circle(opacity=0.8).encode(\n",
    "    x= alt.X('ano_coleta', type=\"ordinal\", title='Ano de Coleta'),\n",
    "    y= alt.Y('regiao_e_estado', type=\"nominal\",title='Estado, Região',\n",
    "            sort= sorting, axis=alt.Axis(labels=True)), \n",
    "    y2 = alt.Y2('regiao', title='Região'),\n",
    "    size=alt.Size('counts', scale= alt.Scale(range=[30,1200], zero=False)), \n",
    "    order= alt.Order('counts', sort='descending'),  # smaller points in front\n",
    "    color= alt.Color('ordem', scale=alt.Scale(domain=ordens, range=cores)),\n",
    "    tooltip= alt.Tooltip(['regiao','estado_ou_provincia','ano_coleta','ordem','counts'])\n",
    ")\n",
    "\n",
    "g1 = g1.configure_title(fontSize=16).configure_axis(\n",
    "    labelFontSize=12,\n",
    "    titleFontSize=12\n",
    ").configure_legend(\n",
    "    labelFontSize=12,\n",
    "    titleFontSize=12\n",
    ")\n",
    "\n",
    "# g1.save('./graphs/time-spacial/evolucao_por_estados_brasileiros-ate1937.html')\n",
    "\n",
    "# g1"
   ]
  },
  {
   "cell_type": "markdown",
   "metadata": {},
   "source": [
    "### periodo 2: de 1938 a 1985"
   ]
  },
  {
   "cell_type": "code",
   "execution_count": 30,
   "metadata": {
    "ExecuteTime": {
     "end_time": "2020-08-29T16:05:40.102713Z",
     "start_time": "2020-08-29T16:05:40.055242Z"
    }
   },
   "outputs": [],
   "source": [
    "g1 = alt.Chart(periodo2, title='Animais coletados por ano nos Estados Brasileiros (de 1938 a 1985)',\n",
    "              width=800, height=600).mark_circle(opacity=0.8).encode(\n",
    "    x= alt.X('ano_coleta', type=\"ordinal\", title='Ano de Coleta'),\n",
    "    y= alt.Y('regiao_e_estado', type=\"nominal\",title='Estado, Região',\n",
    "            sort= sorting, axis=alt.Axis(labels=True)), \n",
    "    y2 = alt.Y2('regiao', title='Região'),\n",
    "    size=alt.Size('counts', scale= alt.Scale(range=[30,1200], zero=False)), \n",
    "    order= alt.Order('counts', sort='descending'),  # smaller points in front\n",
    "    color= alt.Color('ordem', scale=alt.Scale(domain=ordens, range=cores)),\n",
    "    tooltip= alt.Tooltip(['regiao','estado_ou_provincia','ano_coleta','ordem','counts'])\n",
    ")\n",
    "\n",
    "g1 = g1.configure_title(fontSize=16).configure_axis(\n",
    "    labelFontSize=12,\n",
    "    titleFontSize=12\n",
    ").configure_legend(\n",
    "    labelFontSize=12,\n",
    "    titleFontSize=12\n",
    ")\n",
    "\n",
    "# g1.save('./graphs/time-spacial/evolucao_por_estados_brasileiros-de1938a1985.html')\n",
    "\n",
    "# g1"
   ]
  },
  {
   "cell_type": "markdown",
   "metadata": {},
   "source": [
    "### periodo 3: após 1985"
   ]
  },
  {
   "cell_type": "code",
   "execution_count": 31,
   "metadata": {
    "ExecuteTime": {
     "end_time": "2020-08-29T16:05:41.197563Z",
     "start_time": "2020-08-29T16:05:41.137644Z"
    }
   },
   "outputs": [],
   "source": [
    "g1 = alt.Chart(periodo3, title='Animais coletados por ano nos Estados Brasileiros (após 1985)',\n",
    "              width=800, height=600).mark_circle(opacity=0.8).encode(\n",
    "    x= alt.X('ano_coleta', type=\"ordinal\", title='Ano de Coleta'),\n",
    "    y= alt.Y('regiao_e_estado', type=\"nominal\",title='Estado, Região',\n",
    "            sort= sorting, axis=alt.Axis(labels=True)), \n",
    "    y2 = alt.Y2('regiao', title='Região'),\n",
    "    size=alt.Size('counts', scale= alt.Scale(range=[30,1200], zero=False)), \n",
    "    order= alt.Order('counts', sort='descending'),  # smaller points in front\n",
    "    color= alt.Color('ordem', scale=alt.Scale(domain=ordens, range=cores)),\n",
    "    tooltip= alt.Tooltip(['regiao','estado_ou_provincia','ano_coleta','ordem','counts'])\n",
    ")\n",
    "\n",
    "g1 = g1.configure_title(fontSize=16).configure_axis(\n",
    "    labelFontSize=12,\n",
    "    titleFontSize=12\n",
    ").configure_legend(\n",
    "    labelFontSize=12,\n",
    "    titleFontSize=12\n",
    ")\n",
    "\n",
    "# g1.save('./graphs/time-spacial/evolucao_por_estados_brasileiros-apos1985.html')\n",
    "\n",
    "# g1"
   ]
  },
  {
   "cell_type": "markdown",
   "metadata": {},
   "source": [
    "<br>\n",
    "\n",
    "<font color='red' size=5>Temporário?</font>\n",
    "\n",
    "**Cumulative count:** "
   ]
  },
  {
   "cell_type": "code",
   "execution_count": 39,
   "metadata": {},
   "outputs": [],
   "source": [
    "# agrupando por Ano e Continente\n",
    "# OBS: variável teste2 já tem as informações que precisamos (vide a criação do gráfico anterior)\n",
    "teste = teste2.groupby(['ano_coleta','regiao_e_estado']).count()['ordem'].reset_index().rename(columns={\n",
    "    'ordem':'counts'\n",
    "})\n",
    "\n",
    "teste = teste.sort_values(['regiao_e_estado', 'ano_coleta'])"
   ]
  },
  {
   "cell_type": "code",
   "execution_count": 40,
   "metadata": {},
   "outputs": [],
   "source": [
    "cumSum = []\n",
    "for reg_est in teste['regiao_e_estado'].unique():\n",
    "    cumSum.extend(list(teste[teste['regiao_e_estado'] == reg_est]['counts'].cumsum()))\n",
    "    \n",
    "teste['cumulative_sum'] = cumSum"
   ]
  },
  {
   "cell_type": "code",
   "execution_count": 48,
   "metadata": {},
   "outputs": [
    {
     "data": {
      "text/html": [
       "\n",
       "<div id=\"altair-viz-680593cb6b6b4bae9360456be36d4666\"></div>\n",
       "<script type=\"text/javascript\">\n",
       "  (function(spec, embedOpt){\n",
       "    let outputDiv = document.currentScript.previousElementSibling;\n",
       "    if (outputDiv.id !== \"altair-viz-680593cb6b6b4bae9360456be36d4666\") {\n",
       "      outputDiv = document.getElementById(\"altair-viz-680593cb6b6b4bae9360456be36d4666\");\n",
       "    }\n",
       "    const paths = {\n",
       "      \"vega\": \"https://cdn.jsdelivr.net/npm//vega@5?noext\",\n",
       "      \"vega-lib\": \"https://cdn.jsdelivr.net/npm//vega-lib?noext\",\n",
       "      \"vega-lite\": \"https://cdn.jsdelivr.net/npm//vega-lite@4.8.1?noext\",\n",
       "      \"vega-embed\": \"https://cdn.jsdelivr.net/npm//vega-embed@6?noext\",\n",
       "    };\n",
       "\n",
       "    function loadScript(lib) {\n",
       "      return new Promise(function(resolve, reject) {\n",
       "        var s = document.createElement('script');\n",
       "        s.src = paths[lib];\n",
       "        s.async = true;\n",
       "        s.onload = () => resolve(paths[lib]);\n",
       "        s.onerror = () => reject(`Error loading script: ${paths[lib]}`);\n",
       "        document.getElementsByTagName(\"head\")[0].appendChild(s);\n",
       "      });\n",
       "    }\n",
       "\n",
       "    function showError(err) {\n",
       "      outputDiv.innerHTML = `<div class=\"error\" style=\"color:red;\">${err}</div>`;\n",
       "      throw err;\n",
       "    }\n",
       "\n",
       "    function displayChart(vegaEmbed) {\n",
       "      vegaEmbed(outputDiv, spec, embedOpt)\n",
       "        .catch(err => showError(`Javascript Error: ${err.message}<br>This usually means there's a typo in your chart specification. See the javascript console for the full traceback.`));\n",
       "    }\n",
       "\n",
       "    if(typeof define === \"function\" && define.amd) {\n",
       "      requirejs.config({paths});\n",
       "      require([\"vega-embed\"], displayChart, err => showError(`Error loading script: ${err.message}`));\n",
       "    } else if (typeof vegaEmbed === \"function\") {\n",
       "      displayChart(vegaEmbed);\n",
       "    } else {\n",
       "      loadScript(\"vega\")\n",
       "        .then(() => loadScript(\"vega-lite\"))\n",
       "        .then(() => loadScript(\"vega-embed\"))\n",
       "        .catch(showError)\n",
       "        .then(() => displayChart(vegaEmbed));\n",
       "    }\n",
       "  })({\"config\": {\"view\": {\"continuousWidth\": 400, \"continuousHeight\": 300}, \"axis\": {\"labelFontSize\": 12, \"titleFontSize\": 12}, \"legend\": {\"labelFontSize\": 12, \"titleFontSize\": 12}, \"title\": {\"fontSize\": 16}}, \"data\": {\"name\": \"data-87a473f17d0919f0a5533538c171a2b7\"}, \"mark\": {\"type\": \"line\", \"point\": true}, \"encoding\": {\"color\": {\"type\": \"nominal\", \"field\": \"regiao_e_estado\", \"legend\": {\"columns\": 2}, \"sort\": [\"Rio de Janeiro, SE\", \"Minas Gerais, SE\", \"S\\u00e3o Paulo, SE\", \"Esp\\u00edrito Santo, SE\", \"Santa Catarina, S\", \"Rio Grande do Sul, S\", \"Paran\\u00e1, S\", \"Santa Catarina-Rio Grande do Sul, S\", \"Bahia, NE\", \"Cear\\u00e1, NE\", \"Pernambuco, NE\", \"Para\\u00edba, NE\", \"Alagoas, NE\", \"Sergipe, NE\", \"Piau\\u00ed, NE\", \"Rio Grande do Norte, NE\", \"Par\\u00e1, N\", \"Amazonas, N\", \"Maranh\\u00e3o, N\", \"Tocantins, N\", \"Roraima, N\", \"Rond\\u00f4nia, N\", \"Acre, N\", \"Amap\\u00e1, N\", \"Mato Grosso, CO\", \"Goi\\u00e1s, CO\", \"Mato Grosso do Sul, CO\", \"Distrito Federal, CO\", \"Minas Gerais/Goi\\u00e1s/Distrito Federal, CO\", \"Bras\\u00edlia, CO\"], \"title\": \"Estado, Regi\\u00e3o\"}, \"tooltip\": [{\"type\": \"nominal\", \"field\": \"regiao_e_estado\"}, {\"type\": \"quantitative\", \"field\": \"ano_coleta\"}, {\"type\": \"quantitative\", \"field\": \"counts\"}, {\"type\": \"quantitative\", \"field\": \"cumulative_sum\"}], \"x\": {\"type\": \"ordinal\", \"field\": \"ano_coleta\", \"title\": \"Ano de Coleta\"}, \"y\": {\"type\": \"quantitative\", \"field\": \"cumulative_sum\", \"sort\": {\"field\": \"counts\", \"op\": \"count\", \"order\": \"descending\"}, \"title\": \"\"}}, \"title\": \"Evolu\\u00e7\\u00e3o temporal da cole\\u00e7\\u00e3o por Estado\", \"width\": 600, \"$schema\": \"https://vega.github.io/schema/vega-lite/v4.8.1.json\", \"datasets\": {\"data-87a473f17d0919f0a5533538c171a2b7\": [{\"ano_coleta\": 1940.0, \"regiao_e_estado\": \"Acre, N\", \"counts\": 1, \"cumulative_sum\": 1}, {\"ano_coleta\": 1948.0, \"regiao_e_estado\": \"Acre, N\", \"counts\": 1, \"cumulative_sum\": 2}, {\"ano_coleta\": 1959.0, \"regiao_e_estado\": \"Acre, N\", \"counts\": 1, \"cumulative_sum\": 3}, {\"ano_coleta\": 1987.0, \"regiao_e_estado\": \"Acre, N\", \"counts\": 1, \"cumulative_sum\": 4}, {\"ano_coleta\": 2015.0, \"regiao_e_estado\": \"Acre, N\", \"counts\": 2, \"cumulative_sum\": 6}, {\"ano_coleta\": 2016.0, \"regiao_e_estado\": \"Acre, N\", \"counts\": 1, \"cumulative_sum\": 7}, {\"ano_coleta\": 1958.0, \"regiao_e_estado\": \"Alagoas, NE\", \"counts\": 1, \"cumulative_sum\": 1}, {\"ano_coleta\": 1984.0, \"regiao_e_estado\": \"Alagoas, NE\", \"counts\": 1, \"cumulative_sum\": 2}, {\"ano_coleta\": 1985.0, \"regiao_e_estado\": \"Alagoas, NE\", \"counts\": 1, \"cumulative_sum\": 3}, {\"ano_coleta\": 1986.0, \"regiao_e_estado\": \"Alagoas, NE\", \"counts\": 3, \"cumulative_sum\": 6}, {\"ano_coleta\": 1987.0, \"regiao_e_estado\": \"Alagoas, NE\", \"counts\": 1, \"cumulative_sum\": 7}, {\"ano_coleta\": 1988.0, \"regiao_e_estado\": \"Alagoas, NE\", \"counts\": 2, \"cumulative_sum\": 9}, {\"ano_coleta\": 1989.0, \"regiao_e_estado\": \"Alagoas, NE\", \"counts\": 1, \"cumulative_sum\": 10}, {\"ano_coleta\": 1990.0, \"regiao_e_estado\": \"Alagoas, NE\", \"counts\": 1, \"cumulative_sum\": 11}, {\"ano_coleta\": 1991.0, \"regiao_e_estado\": \"Alagoas, NE\", \"counts\": 1, \"cumulative_sum\": 12}, {\"ano_coleta\": 1993.0, \"regiao_e_estado\": \"Alagoas, NE\", \"counts\": 1, \"cumulative_sum\": 13}, {\"ano_coleta\": 1994.0, \"regiao_e_estado\": \"Alagoas, NE\", \"counts\": 1, \"cumulative_sum\": 14}, {\"ano_coleta\": 1995.0, \"regiao_e_estado\": \"Alagoas, NE\", \"counts\": 1, \"cumulative_sum\": 15}, {\"ano_coleta\": 1996.0, \"regiao_e_estado\": \"Alagoas, NE\", \"counts\": 1, \"cumulative_sum\": 16}, {\"ano_coleta\": 1997.0, \"regiao_e_estado\": \"Alagoas, NE\", \"counts\": 1, \"cumulative_sum\": 17}, {\"ano_coleta\": 2001.0, \"regiao_e_estado\": \"Alagoas, NE\", \"counts\": 1, \"cumulative_sum\": 18}, {\"ano_coleta\": 2002.0, \"regiao_e_estado\": \"Alagoas, NE\", \"counts\": 1, \"cumulative_sum\": 19}, {\"ano_coleta\": 2003.0, \"regiao_e_estado\": \"Alagoas, NE\", \"counts\": 1, \"cumulative_sum\": 20}, {\"ano_coleta\": 2004.0, \"regiao_e_estado\": \"Alagoas, NE\", \"counts\": 1, \"cumulative_sum\": 21}, {\"ano_coleta\": 2006.0, \"regiao_e_estado\": \"Alagoas, NE\", \"counts\": 1, \"cumulative_sum\": 22}, {\"ano_coleta\": 2008.0, \"regiao_e_estado\": \"Alagoas, NE\", \"counts\": 1, \"cumulative_sum\": 23}, {\"ano_coleta\": 2009.0, \"regiao_e_estado\": \"Alagoas, NE\", \"counts\": 1, \"cumulative_sum\": 24}, {\"ano_coleta\": 1963.0, \"regiao_e_estado\": \"Amap\\u00e1, N\", \"counts\": 1, \"cumulative_sum\": 1}, {\"ano_coleta\": 1964.0, \"regiao_e_estado\": \"Amap\\u00e1, N\", \"counts\": 1, \"cumulative_sum\": 2}, {\"ano_coleta\": 1981.0, \"regiao_e_estado\": \"Amap\\u00e1, N\", \"counts\": 1, \"cumulative_sum\": 3}, {\"ano_coleta\": 1986.0, \"regiao_e_estado\": \"Amap\\u00e1, N\", \"counts\": 1, \"cumulative_sum\": 4}, {\"ano_coleta\": 1995.0, \"regiao_e_estado\": \"Amap\\u00e1, N\", \"counts\": 1, \"cumulative_sum\": 5}, {\"ano_coleta\": 1996.0, \"regiao_e_estado\": \"Amap\\u00e1, N\", \"counts\": 1, \"cumulative_sum\": 6}, {\"ano_coleta\": 1997.0, \"regiao_e_estado\": \"Amap\\u00e1, N\", \"counts\": 1, \"cumulative_sum\": 7}, {\"ano_coleta\": 2004.0, \"regiao_e_estado\": \"Amap\\u00e1, N\", \"counts\": 1, \"cumulative_sum\": 8}, {\"ano_coleta\": 1924.0, \"regiao_e_estado\": \"Amazonas, N\", \"counts\": 1, \"cumulative_sum\": 1}, {\"ano_coleta\": 1933.0, \"regiao_e_estado\": \"Amazonas, N\", \"counts\": 1, \"cumulative_sum\": 2}, {\"ano_coleta\": 1941.0, \"regiao_e_estado\": \"Amazonas, N\", \"counts\": 1, \"cumulative_sum\": 3}, {\"ano_coleta\": 1942.0, \"regiao_e_estado\": \"Amazonas, N\", \"counts\": 2, \"cumulative_sum\": 5}, {\"ano_coleta\": 1943.0, \"regiao_e_estado\": \"Amazonas, N\", \"counts\": 1, \"cumulative_sum\": 6}, {\"ano_coleta\": 1945.0, \"regiao_e_estado\": \"Amazonas, N\", \"counts\": 1, \"cumulative_sum\": 7}, {\"ano_coleta\": 1947.0, \"regiao_e_estado\": \"Amazonas, N\", \"counts\": 1, \"cumulative_sum\": 8}, {\"ano_coleta\": 1949.0, \"regiao_e_estado\": \"Amazonas, N\", \"counts\": 1, \"cumulative_sum\": 9}, {\"ano_coleta\": 1950.0, \"regiao_e_estado\": \"Amazonas, N\", \"counts\": 1, \"cumulative_sum\": 10}, {\"ano_coleta\": 1952.0, \"regiao_e_estado\": \"Amazonas, N\", \"counts\": 1, \"cumulative_sum\": 11}, {\"ano_coleta\": 1954.0, \"regiao_e_estado\": \"Amazonas, N\", \"counts\": 2, \"cumulative_sum\": 13}, {\"ano_coleta\": 1955.0, \"regiao_e_estado\": \"Amazonas, N\", \"counts\": 1, \"cumulative_sum\": 14}, {\"ano_coleta\": 1956.0, \"regiao_e_estado\": \"Amazonas, N\", \"counts\": 1, \"cumulative_sum\": 15}, {\"ano_coleta\": 1963.0, \"regiao_e_estado\": \"Amazonas, N\", \"counts\": 1, \"cumulative_sum\": 16}, {\"ano_coleta\": 1965.0, \"regiao_e_estado\": \"Amazonas, N\", \"counts\": 1, \"cumulative_sum\": 17}, {\"ano_coleta\": 1972.0, \"regiao_e_estado\": \"Amazonas, N\", \"counts\": 1, \"cumulative_sum\": 18}, {\"ano_coleta\": 1974.0, \"regiao_e_estado\": \"Amazonas, N\", \"counts\": 2, \"cumulative_sum\": 20}, {\"ano_coleta\": 1975.0, \"regiao_e_estado\": \"Amazonas, N\", \"counts\": 1, \"cumulative_sum\": 21}, {\"ano_coleta\": 1976.0, \"regiao_e_estado\": \"Amazonas, N\", \"counts\": 1, \"cumulative_sum\": 22}, {\"ano_coleta\": 1977.0, \"regiao_e_estado\": \"Amazonas, N\", \"counts\": 1, \"cumulative_sum\": 23}, {\"ano_coleta\": 1979.0, \"regiao_e_estado\": \"Amazonas, N\", \"counts\": 3, \"cumulative_sum\": 26}, {\"ano_coleta\": 1982.0, \"regiao_e_estado\": \"Amazonas, N\", \"counts\": 1, \"cumulative_sum\": 27}, {\"ano_coleta\": 1983.0, \"regiao_e_estado\": \"Amazonas, N\", \"counts\": 1, \"cumulative_sum\": 28}, {\"ano_coleta\": 1984.0, \"regiao_e_estado\": \"Amazonas, N\", \"counts\": 1, \"cumulative_sum\": 29}, {\"ano_coleta\": 1985.0, \"regiao_e_estado\": \"Amazonas, N\", \"counts\": 2, \"cumulative_sum\": 31}, {\"ano_coleta\": 1986.0, \"regiao_e_estado\": \"Amazonas, N\", \"counts\": 1, \"cumulative_sum\": 32}, {\"ano_coleta\": 1987.0, \"regiao_e_estado\": \"Amazonas, N\", \"counts\": 2, \"cumulative_sum\": 34}, {\"ano_coleta\": 1988.0, \"regiao_e_estado\": \"Amazonas, N\", \"counts\": 2, \"cumulative_sum\": 36}, {\"ano_coleta\": 1990.0, \"regiao_e_estado\": \"Amazonas, N\", \"counts\": 1, \"cumulative_sum\": 37}, {\"ano_coleta\": 1994.0, \"regiao_e_estado\": \"Amazonas, N\", \"counts\": 1, \"cumulative_sum\": 38}, {\"ano_coleta\": 1995.0, \"regiao_e_estado\": \"Amazonas, N\", \"counts\": 1, \"cumulative_sum\": 39}, {\"ano_coleta\": 1998.0, \"regiao_e_estado\": \"Amazonas, N\", \"counts\": 1, \"cumulative_sum\": 40}, {\"ano_coleta\": 2001.0, \"regiao_e_estado\": \"Amazonas, N\", \"counts\": 2, \"cumulative_sum\": 42}, {\"ano_coleta\": 2003.0, \"regiao_e_estado\": \"Amazonas, N\", \"counts\": 1, \"cumulative_sum\": 43}, {\"ano_coleta\": 2004.0, \"regiao_e_estado\": \"Amazonas, N\", \"counts\": 1, \"cumulative_sum\": 44}, {\"ano_coleta\": 2005.0, \"regiao_e_estado\": \"Amazonas, N\", \"counts\": 1, \"cumulative_sum\": 45}, {\"ano_coleta\": 2006.0, \"regiao_e_estado\": \"Amazonas, N\", \"counts\": 1, \"cumulative_sum\": 46}, {\"ano_coleta\": 2008.0, \"regiao_e_estado\": \"Amazonas, N\", \"counts\": 1, \"cumulative_sum\": 47}, {\"ano_coleta\": 2009.0, \"regiao_e_estado\": \"Amazonas, N\", \"counts\": 2, \"cumulative_sum\": 49}, {\"ano_coleta\": 2011.0, \"regiao_e_estado\": \"Amazonas, N\", \"counts\": 1, \"cumulative_sum\": 50}, {\"ano_coleta\": 2015.0, \"regiao_e_estado\": \"Amazonas, N\", \"counts\": 1, \"cumulative_sum\": 51}, {\"ano_coleta\": 2016.0, \"regiao_e_estado\": \"Amazonas, N\", \"counts\": 1, \"cumulative_sum\": 52}, {\"ano_coleta\": 1941.0, \"regiao_e_estado\": \"Bahia, NE\", \"counts\": 1, \"cumulative_sum\": 1}, {\"ano_coleta\": 1942.0, \"regiao_e_estado\": \"Bahia, NE\", \"counts\": 1, \"cumulative_sum\": 2}, {\"ano_coleta\": 1944.0, \"regiao_e_estado\": \"Bahia, NE\", \"counts\": 1, \"cumulative_sum\": 3}, {\"ano_coleta\": 1945.0, \"regiao_e_estado\": \"Bahia, NE\", \"counts\": 1, \"cumulative_sum\": 4}, {\"ano_coleta\": 1949.0, \"regiao_e_estado\": \"Bahia, NE\", \"counts\": 1, \"cumulative_sum\": 5}, {\"ano_coleta\": 1951.0, \"regiao_e_estado\": \"Bahia, NE\", \"counts\": 1, \"cumulative_sum\": 6}, {\"ano_coleta\": 1955.0, \"regiao_e_estado\": \"Bahia, NE\", \"counts\": 1, \"cumulative_sum\": 7}, {\"ano_coleta\": 1959.0, \"regiao_e_estado\": \"Bahia, NE\", \"counts\": 1, \"cumulative_sum\": 8}, {\"ano_coleta\": 1964.0, \"regiao_e_estado\": \"Bahia, NE\", \"counts\": 1, \"cumulative_sum\": 9}, {\"ano_coleta\": 1969.0, \"regiao_e_estado\": \"Bahia, NE\", \"counts\": 1, \"cumulative_sum\": 10}, {\"ano_coleta\": 1970.0, \"regiao_e_estado\": \"Bahia, NE\", \"counts\": 1, \"cumulative_sum\": 11}, {\"ano_coleta\": 1971.0, \"regiao_e_estado\": \"Bahia, NE\", \"counts\": 1, \"cumulative_sum\": 12}, {\"ano_coleta\": 1974.0, \"regiao_e_estado\": \"Bahia, NE\", \"counts\": 1, \"cumulative_sum\": 13}, {\"ano_coleta\": 1975.0, \"regiao_e_estado\": \"Bahia, NE\", \"counts\": 1, \"cumulative_sum\": 14}, {\"ano_coleta\": 1977.0, \"regiao_e_estado\": \"Bahia, NE\", \"counts\": 1, \"cumulative_sum\": 15}, {\"ano_coleta\": 1979.0, \"regiao_e_estado\": \"Bahia, NE\", \"counts\": 1, \"cumulative_sum\": 16}, {\"ano_coleta\": 1980.0, \"regiao_e_estado\": \"Bahia, NE\", \"counts\": 1, \"cumulative_sum\": 17}, {\"ano_coleta\": 1982.0, \"regiao_e_estado\": \"Bahia, NE\", \"counts\": 1, \"cumulative_sum\": 18}, {\"ano_coleta\": 1983.0, \"regiao_e_estado\": \"Bahia, NE\", \"counts\": 1, \"cumulative_sum\": 19}, {\"ano_coleta\": 1985.0, \"regiao_e_estado\": \"Bahia, NE\", \"counts\": 2, \"cumulative_sum\": 21}, {\"ano_coleta\": 1986.0, \"regiao_e_estado\": \"Bahia, NE\", \"counts\": 1, \"cumulative_sum\": 22}, {\"ano_coleta\": 1987.0, \"regiao_e_estado\": \"Bahia, NE\", \"counts\": 2, \"cumulative_sum\": 24}, {\"ano_coleta\": 1988.0, \"regiao_e_estado\": \"Bahia, NE\", \"counts\": 1, \"cumulative_sum\": 25}, {\"ano_coleta\": 1989.0, \"regiao_e_estado\": \"Bahia, NE\", \"counts\": 1, \"cumulative_sum\": 26}, {\"ano_coleta\": 1990.0, \"regiao_e_estado\": \"Bahia, NE\", \"counts\": 1, \"cumulative_sum\": 27}, {\"ano_coleta\": 1991.0, \"regiao_e_estado\": \"Bahia, NE\", \"counts\": 1, \"cumulative_sum\": 28}, {\"ano_coleta\": 1993.0, \"regiao_e_estado\": \"Bahia, NE\", \"counts\": 1, \"cumulative_sum\": 29}, {\"ano_coleta\": 1994.0, \"regiao_e_estado\": \"Bahia, NE\", \"counts\": 1, \"cumulative_sum\": 30}, {\"ano_coleta\": 1995.0, \"regiao_e_estado\": \"Bahia, NE\", \"counts\": 1, \"cumulative_sum\": 31}, {\"ano_coleta\": 1996.0, \"regiao_e_estado\": \"Bahia, NE\", \"counts\": 1, \"cumulative_sum\": 32}, {\"ano_coleta\": 1997.0, \"regiao_e_estado\": \"Bahia, NE\", \"counts\": 1, \"cumulative_sum\": 33}, {\"ano_coleta\": 1998.0, \"regiao_e_estado\": \"Bahia, NE\", \"counts\": 1, \"cumulative_sum\": 34}, {\"ano_coleta\": 1999.0, \"regiao_e_estado\": \"Bahia, NE\", \"counts\": 1, \"cumulative_sum\": 35}, {\"ano_coleta\": 2000.0, \"regiao_e_estado\": \"Bahia, NE\", \"counts\": 2, \"cumulative_sum\": 37}, {\"ano_coleta\": 2001.0, \"regiao_e_estado\": \"Bahia, NE\", \"counts\": 1, \"cumulative_sum\": 38}, {\"ano_coleta\": 2002.0, \"regiao_e_estado\": \"Bahia, NE\", \"counts\": 1, \"cumulative_sum\": 39}, {\"ano_coleta\": 2003.0, \"regiao_e_estado\": \"Bahia, NE\", \"counts\": 1, \"cumulative_sum\": 40}, {\"ano_coleta\": 2004.0, \"regiao_e_estado\": \"Bahia, NE\", \"counts\": 1, \"cumulative_sum\": 41}, {\"ano_coleta\": 2005.0, \"regiao_e_estado\": \"Bahia, NE\", \"counts\": 1, \"cumulative_sum\": 42}, {\"ano_coleta\": 2006.0, \"regiao_e_estado\": \"Bahia, NE\", \"counts\": 2, \"cumulative_sum\": 44}, {\"ano_coleta\": 2007.0, \"regiao_e_estado\": \"Bahia, NE\", \"counts\": 1, \"cumulative_sum\": 45}, {\"ano_coleta\": 2008.0, \"regiao_e_estado\": \"Bahia, NE\", \"counts\": 2, \"cumulative_sum\": 47}, {\"ano_coleta\": 2009.0, \"regiao_e_estado\": \"Bahia, NE\", \"counts\": 1, \"cumulative_sum\": 48}, {\"ano_coleta\": 2010.0, \"regiao_e_estado\": \"Bahia, NE\", \"counts\": 2, \"cumulative_sum\": 50}, {\"ano_coleta\": 2011.0, \"regiao_e_estado\": \"Bahia, NE\", \"counts\": 1, \"cumulative_sum\": 51}, {\"ano_coleta\": 2012.0, \"regiao_e_estado\": \"Bahia, NE\", \"counts\": 1, \"cumulative_sum\": 52}, {\"ano_coleta\": 2013.0, \"regiao_e_estado\": \"Bahia, NE\", \"counts\": 1, \"cumulative_sum\": 53}, {\"ano_coleta\": 2014.0, \"regiao_e_estado\": \"Bahia, NE\", \"counts\": 1, \"cumulative_sum\": 54}, {\"ano_coleta\": 2015.0, \"regiao_e_estado\": \"Bahia, NE\", \"counts\": 1, \"cumulative_sum\": 55}, {\"ano_coleta\": 1975.0, \"regiao_e_estado\": \"Bras\\u00edlia, CO\", \"counts\": 1, \"cumulative_sum\": 1}, {\"ano_coleta\": 1945.0, \"regiao_e_estado\": \"Cear\\u00e1, NE\", \"counts\": 1, \"cumulative_sum\": 1}, {\"ano_coleta\": 1974.0, \"regiao_e_estado\": \"Cear\\u00e1, NE\", \"counts\": 1, \"cumulative_sum\": 2}, {\"ano_coleta\": 1976.0, \"regiao_e_estado\": \"Cear\\u00e1, NE\", \"counts\": 1, \"cumulative_sum\": 3}, {\"ano_coleta\": 1986.0, \"regiao_e_estado\": \"Cear\\u00e1, NE\", \"counts\": 2, \"cumulative_sum\": 5}, {\"ano_coleta\": 1988.0, \"regiao_e_estado\": \"Cear\\u00e1, NE\", \"counts\": 1, \"cumulative_sum\": 6}, {\"ano_coleta\": 1989.0, \"regiao_e_estado\": \"Cear\\u00e1, NE\", \"counts\": 1, \"cumulative_sum\": 7}, {\"ano_coleta\": 1993.0, \"regiao_e_estado\": \"Cear\\u00e1, NE\", \"counts\": 1, \"cumulative_sum\": 8}, {\"ano_coleta\": 1994.0, \"regiao_e_estado\": \"Cear\\u00e1, NE\", \"counts\": 1, \"cumulative_sum\": 9}, {\"ano_coleta\": 1996.0, \"regiao_e_estado\": \"Cear\\u00e1, NE\", \"counts\": 1, \"cumulative_sum\": 10}, {\"ano_coleta\": 1997.0, \"regiao_e_estado\": \"Cear\\u00e1, NE\", \"counts\": 1, \"cumulative_sum\": 11}, {\"ano_coleta\": 1998.0, \"regiao_e_estado\": \"Cear\\u00e1, NE\", \"counts\": 2, \"cumulative_sum\": 13}, {\"ano_coleta\": 1999.0, \"regiao_e_estado\": \"Cear\\u00e1, NE\", \"counts\": 1, \"cumulative_sum\": 14}, {\"ano_coleta\": 2000.0, \"regiao_e_estado\": \"Cear\\u00e1, NE\", \"counts\": 1, \"cumulative_sum\": 15}, {\"ano_coleta\": 2001.0, \"regiao_e_estado\": \"Cear\\u00e1, NE\", \"counts\": 1, \"cumulative_sum\": 16}, {\"ano_coleta\": 2004.0, \"regiao_e_estado\": \"Cear\\u00e1, NE\", \"counts\": 1, \"cumulative_sum\": 17}, {\"ano_coleta\": 2007.0, \"regiao_e_estado\": \"Cear\\u00e1, NE\", \"counts\": 1, \"cumulative_sum\": 18}, {\"ano_coleta\": 2008.0, \"regiao_e_estado\": \"Cear\\u00e1, NE\", \"counts\": 1, \"cumulative_sum\": 19}, {\"ano_coleta\": 2009.0, \"regiao_e_estado\": \"Cear\\u00e1, NE\", \"counts\": 1, \"cumulative_sum\": 20}, {\"ano_coleta\": 2010.0, \"regiao_e_estado\": \"Cear\\u00e1, NE\", \"counts\": 1, \"cumulative_sum\": 21}, {\"ano_coleta\": 2014.0, \"regiao_e_estado\": \"Cear\\u00e1, NE\", \"counts\": 1, \"cumulative_sum\": 22}, {\"ano_coleta\": 1957.0, \"regiao_e_estado\": \"Distrito Federal, CO\", \"counts\": 2, \"cumulative_sum\": 2}, {\"ano_coleta\": 1958.0, \"regiao_e_estado\": \"Distrito Federal, CO\", \"counts\": 1, \"cumulative_sum\": 3}, {\"ano_coleta\": 1961.0, \"regiao_e_estado\": \"Distrito Federal, CO\", \"counts\": 1, \"cumulative_sum\": 4}, {\"ano_coleta\": 1964.0, \"regiao_e_estado\": \"Distrito Federal, CO\", \"counts\": 1, \"cumulative_sum\": 5}, {\"ano_coleta\": 1986.0, \"regiao_e_estado\": \"Distrito Federal, CO\", \"counts\": 1, \"cumulative_sum\": 6}, {\"ano_coleta\": 1987.0, \"regiao_e_estado\": \"Distrito Federal, CO\", \"counts\": 1, \"cumulative_sum\": 7}, {\"ano_coleta\": 2014.0, \"regiao_e_estado\": \"Distrito Federal, CO\", \"counts\": 1, \"cumulative_sum\": 8}, {\"ano_coleta\": 1939.0, \"regiao_e_estado\": \"Esp\\u00edrito Santo, SE\", \"counts\": 1, \"cumulative_sum\": 1}, {\"ano_coleta\": 1940.0, \"regiao_e_estado\": \"Esp\\u00edrito Santo, SE\", \"counts\": 1, \"cumulative_sum\": 2}, {\"ano_coleta\": 1942.0, \"regiao_e_estado\": \"Esp\\u00edrito Santo, SE\", \"counts\": 2, \"cumulative_sum\": 4}, {\"ano_coleta\": 1943.0, \"regiao_e_estado\": \"Esp\\u00edrito Santo, SE\", \"counts\": 1, \"cumulative_sum\": 5}, {\"ano_coleta\": 1944.0, \"regiao_e_estado\": \"Esp\\u00edrito Santo, SE\", \"counts\": 1, \"cumulative_sum\": 6}, {\"ano_coleta\": 1953.0, \"regiao_e_estado\": \"Esp\\u00edrito Santo, SE\", \"counts\": 1, \"cumulative_sum\": 7}, {\"ano_coleta\": 1957.0, \"regiao_e_estado\": \"Esp\\u00edrito Santo, SE\", \"counts\": 1, \"cumulative_sum\": 8}, {\"ano_coleta\": 1964.0, \"regiao_e_estado\": \"Esp\\u00edrito Santo, SE\", \"counts\": 2, \"cumulative_sum\": 10}, {\"ano_coleta\": 1972.0, \"regiao_e_estado\": \"Esp\\u00edrito Santo, SE\", \"counts\": 1, \"cumulative_sum\": 11}, {\"ano_coleta\": 1973.0, \"regiao_e_estado\": \"Esp\\u00edrito Santo, SE\", \"counts\": 1, \"cumulative_sum\": 12}, {\"ano_coleta\": 1975.0, \"regiao_e_estado\": \"Esp\\u00edrito Santo, SE\", \"counts\": 1, \"cumulative_sum\": 13}, {\"ano_coleta\": 1976.0, \"regiao_e_estado\": \"Esp\\u00edrito Santo, SE\", \"counts\": 2, \"cumulative_sum\": 15}, {\"ano_coleta\": 1977.0, \"regiao_e_estado\": \"Esp\\u00edrito Santo, SE\", \"counts\": 1, \"cumulative_sum\": 16}, {\"ano_coleta\": 1978.0, \"regiao_e_estado\": \"Esp\\u00edrito Santo, SE\", \"counts\": 1, \"cumulative_sum\": 17}, {\"ano_coleta\": 1981.0, \"regiao_e_estado\": \"Esp\\u00edrito Santo, SE\", \"counts\": 1, \"cumulative_sum\": 18}, {\"ano_coleta\": 1982.0, \"regiao_e_estado\": \"Esp\\u00edrito Santo, SE\", \"counts\": 1, \"cumulative_sum\": 19}, {\"ano_coleta\": 1983.0, \"regiao_e_estado\": \"Esp\\u00edrito Santo, SE\", \"counts\": 1, \"cumulative_sum\": 20}, {\"ano_coleta\": 1984.0, \"regiao_e_estado\": \"Esp\\u00edrito Santo, SE\", \"counts\": 1, \"cumulative_sum\": 21}, {\"ano_coleta\": 1985.0, \"regiao_e_estado\": \"Esp\\u00edrito Santo, SE\", \"counts\": 1, \"cumulative_sum\": 22}, {\"ano_coleta\": 1986.0, \"regiao_e_estado\": \"Esp\\u00edrito Santo, SE\", \"counts\": 1, \"cumulative_sum\": 23}, {\"ano_coleta\": 1987.0, \"regiao_e_estado\": \"Esp\\u00edrito Santo, SE\", \"counts\": 1, \"cumulative_sum\": 24}, {\"ano_coleta\": 1988.0, \"regiao_e_estado\": \"Esp\\u00edrito Santo, SE\", \"counts\": 1, \"cumulative_sum\": 25}, {\"ano_coleta\": 1989.0, \"regiao_e_estado\": \"Esp\\u00edrito Santo, SE\", \"counts\": 1, \"cumulative_sum\": 26}, {\"ano_coleta\": 1990.0, \"regiao_e_estado\": \"Esp\\u00edrito Santo, SE\", \"counts\": 2, \"cumulative_sum\": 28}, {\"ano_coleta\": 1991.0, \"regiao_e_estado\": \"Esp\\u00edrito Santo, SE\", \"counts\": 1, \"cumulative_sum\": 29}, {\"ano_coleta\": 1992.0, \"regiao_e_estado\": \"Esp\\u00edrito Santo, SE\", \"counts\": 2, \"cumulative_sum\": 31}, {\"ano_coleta\": 1993.0, \"regiao_e_estado\": \"Esp\\u00edrito Santo, SE\", \"counts\": 1, \"cumulative_sum\": 32}, {\"ano_coleta\": 1994.0, \"regiao_e_estado\": \"Esp\\u00edrito Santo, SE\", \"counts\": 1, \"cumulative_sum\": 33}, {\"ano_coleta\": 1995.0, \"regiao_e_estado\": \"Esp\\u00edrito Santo, SE\", \"counts\": 1, \"cumulative_sum\": 34}, {\"ano_coleta\": 1996.0, \"regiao_e_estado\": \"Esp\\u00edrito Santo, SE\", \"counts\": 1, \"cumulative_sum\": 35}, {\"ano_coleta\": 1997.0, \"regiao_e_estado\": \"Esp\\u00edrito Santo, SE\", \"counts\": 2, \"cumulative_sum\": 37}, {\"ano_coleta\": 1998.0, \"regiao_e_estado\": \"Esp\\u00edrito Santo, SE\", \"counts\": 1, \"cumulative_sum\": 38}, {\"ano_coleta\": 1999.0, \"regiao_e_estado\": \"Esp\\u00edrito Santo, SE\", \"counts\": 1, \"cumulative_sum\": 39}, {\"ano_coleta\": 2000.0, \"regiao_e_estado\": \"Esp\\u00edrito Santo, SE\", \"counts\": 2, \"cumulative_sum\": 41}, {\"ano_coleta\": 2001.0, \"regiao_e_estado\": \"Esp\\u00edrito Santo, SE\", \"counts\": 1, \"cumulative_sum\": 42}, {\"ano_coleta\": 2002.0, \"regiao_e_estado\": \"Esp\\u00edrito Santo, SE\", \"counts\": 2, \"cumulative_sum\": 44}, {\"ano_coleta\": 2003.0, \"regiao_e_estado\": \"Esp\\u00edrito Santo, SE\", \"counts\": 1, \"cumulative_sum\": 45}, {\"ano_coleta\": 2004.0, \"regiao_e_estado\": \"Esp\\u00edrito Santo, SE\", \"counts\": 2, \"cumulative_sum\": 47}, {\"ano_coleta\": 2005.0, \"regiao_e_estado\": \"Esp\\u00edrito Santo, SE\", \"counts\": 2, \"cumulative_sum\": 49}, {\"ano_coleta\": 2006.0, \"regiao_e_estado\": \"Esp\\u00edrito Santo, SE\", \"counts\": 1, \"cumulative_sum\": 50}, {\"ano_coleta\": 2007.0, \"regiao_e_estado\": \"Esp\\u00edrito Santo, SE\", \"counts\": 2, \"cumulative_sum\": 52}, {\"ano_coleta\": 2008.0, \"regiao_e_estado\": \"Esp\\u00edrito Santo, SE\", \"counts\": 2, \"cumulative_sum\": 54}, {\"ano_coleta\": 2009.0, \"regiao_e_estado\": \"Esp\\u00edrito Santo, SE\", \"counts\": 2, \"cumulative_sum\": 56}, {\"ano_coleta\": 2010.0, \"regiao_e_estado\": \"Esp\\u00edrito Santo, SE\", \"counts\": 2, \"cumulative_sum\": 58}, {\"ano_coleta\": 2011.0, \"regiao_e_estado\": \"Esp\\u00edrito Santo, SE\", \"counts\": 2, \"cumulative_sum\": 60}, {\"ano_coleta\": 2012.0, \"regiao_e_estado\": \"Esp\\u00edrito Santo, SE\", \"counts\": 1, \"cumulative_sum\": 61}, {\"ano_coleta\": 2013.0, \"regiao_e_estado\": \"Esp\\u00edrito Santo, SE\", \"counts\": 1, \"cumulative_sum\": 62}, {\"ano_coleta\": 2015.0, \"regiao_e_estado\": \"Esp\\u00edrito Santo, SE\", \"counts\": 1, \"cumulative_sum\": 63}, {\"ano_coleta\": 2016.0, \"regiao_e_estado\": \"Esp\\u00edrito Santo, SE\", \"counts\": 1, \"cumulative_sum\": 64}, {\"ano_coleta\": 1926.0, \"regiao_e_estado\": \"Goi\\u00e1s, CO\", \"counts\": 1, \"cumulative_sum\": 1}, {\"ano_coleta\": 1941.0, \"regiao_e_estado\": \"Goi\\u00e1s, CO\", \"counts\": 1, \"cumulative_sum\": 2}, {\"ano_coleta\": 1952.0, \"regiao_e_estado\": \"Goi\\u00e1s, CO\", \"counts\": 1, \"cumulative_sum\": 3}, {\"ano_coleta\": 1953.0, \"regiao_e_estado\": \"Goi\\u00e1s, CO\", \"counts\": 1, \"cumulative_sum\": 4}, {\"ano_coleta\": 1956.0, \"regiao_e_estado\": \"Goi\\u00e1s, CO\", \"counts\": 1, \"cumulative_sum\": 5}, {\"ano_coleta\": 1960.0, \"regiao_e_estado\": \"Goi\\u00e1s, CO\", \"counts\": 1, \"cumulative_sum\": 6}, {\"ano_coleta\": 1974.0, \"regiao_e_estado\": \"Goi\\u00e1s, CO\", \"counts\": 1, \"cumulative_sum\": 7}, {\"ano_coleta\": 1984.0, \"regiao_e_estado\": \"Goi\\u00e1s, CO\", \"counts\": 2, \"cumulative_sum\": 9}, {\"ano_coleta\": 1985.0, \"regiao_e_estado\": \"Goi\\u00e1s, CO\", \"counts\": 1, \"cumulative_sum\": 10}, {\"ano_coleta\": 1987.0, \"regiao_e_estado\": \"Goi\\u00e1s, CO\", \"counts\": 3, \"cumulative_sum\": 13}, {\"ano_coleta\": 1988.0, \"regiao_e_estado\": \"Goi\\u00e1s, CO\", \"counts\": 1, \"cumulative_sum\": 14}, {\"ano_coleta\": 1989.0, \"regiao_e_estado\": \"Goi\\u00e1s, CO\", \"counts\": 1, \"cumulative_sum\": 15}, {\"ano_coleta\": 1991.0, \"regiao_e_estado\": \"Goi\\u00e1s, CO\", \"counts\": 2, \"cumulative_sum\": 17}, {\"ano_coleta\": 1992.0, \"regiao_e_estado\": \"Goi\\u00e1s, CO\", \"counts\": 1, \"cumulative_sum\": 18}, {\"ano_coleta\": 1995.0, \"regiao_e_estado\": \"Goi\\u00e1s, CO\", \"counts\": 2, \"cumulative_sum\": 20}, {\"ano_coleta\": 1996.0, \"regiao_e_estado\": \"Goi\\u00e1s, CO\", \"counts\": 3, \"cumulative_sum\": 23}, {\"ano_coleta\": 1997.0, \"regiao_e_estado\": \"Goi\\u00e1s, CO\", \"counts\": 2, \"cumulative_sum\": 25}, {\"ano_coleta\": 1998.0, \"regiao_e_estado\": \"Goi\\u00e1s, CO\", \"counts\": 1, \"cumulative_sum\": 26}, {\"ano_coleta\": 1999.0, \"regiao_e_estado\": \"Goi\\u00e1s, CO\", \"counts\": 2, \"cumulative_sum\": 28}, {\"ano_coleta\": 2000.0, \"regiao_e_estado\": \"Goi\\u00e1s, CO\", \"counts\": 1, \"cumulative_sum\": 29}, {\"ano_coleta\": 2001.0, \"regiao_e_estado\": \"Goi\\u00e1s, CO\", \"counts\": 1, \"cumulative_sum\": 30}, {\"ano_coleta\": 2002.0, \"regiao_e_estado\": \"Goi\\u00e1s, CO\", \"counts\": 1, \"cumulative_sum\": 31}, {\"ano_coleta\": 2003.0, \"regiao_e_estado\": \"Goi\\u00e1s, CO\", \"counts\": 1, \"cumulative_sum\": 32}, {\"ano_coleta\": 2004.0, \"regiao_e_estado\": \"Goi\\u00e1s, CO\", \"counts\": 1, \"cumulative_sum\": 33}, {\"ano_coleta\": 2005.0, \"regiao_e_estado\": \"Goi\\u00e1s, CO\", \"counts\": 1, \"cumulative_sum\": 34}, {\"ano_coleta\": 2006.0, \"regiao_e_estado\": \"Goi\\u00e1s, CO\", \"counts\": 1, \"cumulative_sum\": 35}, {\"ano_coleta\": 2007.0, \"regiao_e_estado\": \"Goi\\u00e1s, CO\", \"counts\": 1, \"cumulative_sum\": 36}, {\"ano_coleta\": 2008.0, \"regiao_e_estado\": \"Goi\\u00e1s, CO\", \"counts\": 1, \"cumulative_sum\": 37}, {\"ano_coleta\": 2009.0, \"regiao_e_estado\": \"Goi\\u00e1s, CO\", \"counts\": 2, \"cumulative_sum\": 39}, {\"ano_coleta\": 2010.0, \"regiao_e_estado\": \"Goi\\u00e1s, CO\", \"counts\": 2, \"cumulative_sum\": 41}, {\"ano_coleta\": 2011.0, \"regiao_e_estado\": \"Goi\\u00e1s, CO\", \"counts\": 1, \"cumulative_sum\": 42}, {\"ano_coleta\": 2012.0, \"regiao_e_estado\": \"Goi\\u00e1s, CO\", \"counts\": 1, \"cumulative_sum\": 43}, {\"ano_coleta\": 2013.0, \"regiao_e_estado\": \"Goi\\u00e1s, CO\", \"counts\": 1, \"cumulative_sum\": 44}, {\"ano_coleta\": 2014.0, \"regiao_e_estado\": \"Goi\\u00e1s, CO\", \"counts\": 1, \"cumulative_sum\": 45}, {\"ano_coleta\": 1945.0, \"regiao_e_estado\": \"Maranh\\u00e3o, N\", \"counts\": 1, \"cumulative_sum\": 1}, {\"ano_coleta\": 1972.0, \"regiao_e_estado\": \"Maranh\\u00e3o, N\", \"counts\": 1, \"cumulative_sum\": 2}, {\"ano_coleta\": 1973.0, \"regiao_e_estado\": \"Maranh\\u00e3o, N\", \"counts\": 1, \"cumulative_sum\": 3}, {\"ano_coleta\": 1985.0, \"regiao_e_estado\": \"Maranh\\u00e3o, N\", \"counts\": 1, \"cumulative_sum\": 4}, {\"ano_coleta\": 1999.0, \"regiao_e_estado\": \"Maranh\\u00e3o, N\", \"counts\": 1, \"cumulative_sum\": 5}, {\"ano_coleta\": 2004.0, \"regiao_e_estado\": \"Maranh\\u00e3o, N\", \"counts\": 1, \"cumulative_sum\": 6}, {\"ano_coleta\": 2006.0, \"regiao_e_estado\": \"Maranh\\u00e3o, N\", \"counts\": 1, \"cumulative_sum\": 7}, {\"ano_coleta\": 2008.0, \"regiao_e_estado\": \"Maranh\\u00e3o, N\", \"counts\": 1, \"cumulative_sum\": 8}, {\"ano_coleta\": 2009.0, \"regiao_e_estado\": \"Maranh\\u00e3o, N\", \"counts\": 1, \"cumulative_sum\": 9}, {\"ano_coleta\": 2010.0, \"regiao_e_estado\": \"Maranh\\u00e3o, N\", \"counts\": 1, \"cumulative_sum\": 10}, {\"ano_coleta\": 2011.0, \"regiao_e_estado\": \"Maranh\\u00e3o, N\", \"counts\": 1, \"cumulative_sum\": 11}, {\"ano_coleta\": 2012.0, \"regiao_e_estado\": \"Maranh\\u00e3o, N\", \"counts\": 1, \"cumulative_sum\": 12}, {\"ano_coleta\": 1943.0, \"regiao_e_estado\": \"Mato Grosso do Sul, CO\", \"counts\": 1, \"cumulative_sum\": 1}, {\"ano_coleta\": 1978.0, \"regiao_e_estado\": \"Mato Grosso do Sul, CO\", \"counts\": 1, \"cumulative_sum\": 2}, {\"ano_coleta\": 1980.0, \"regiao_e_estado\": \"Mato Grosso do Sul, CO\", \"counts\": 1, \"cumulative_sum\": 3}, {\"ano_coleta\": 1983.0, \"regiao_e_estado\": \"Mato Grosso do Sul, CO\", \"counts\": 1, \"cumulative_sum\": 4}, {\"ano_coleta\": 1987.0, \"regiao_e_estado\": \"Mato Grosso do Sul, CO\", \"counts\": 1, \"cumulative_sum\": 5}, {\"ano_coleta\": 1990.0, \"regiao_e_estado\": \"Mato Grosso do Sul, CO\", \"counts\": 1, \"cumulative_sum\": 6}, {\"ano_coleta\": 1996.0, \"regiao_e_estado\": \"Mato Grosso do Sul, CO\", \"counts\": 1, \"cumulative_sum\": 7}, {\"ano_coleta\": 1998.0, \"regiao_e_estado\": \"Mato Grosso do Sul, CO\", \"counts\": 1, \"cumulative_sum\": 8}, {\"ano_coleta\": 2000.0, \"regiao_e_estado\": \"Mato Grosso do Sul, CO\", \"counts\": 1, \"cumulative_sum\": 9}, {\"ano_coleta\": 2003.0, \"regiao_e_estado\": \"Mato Grosso do Sul, CO\", \"counts\": 1, \"cumulative_sum\": 10}, {\"ano_coleta\": 2008.0, \"regiao_e_estado\": \"Mato Grosso do Sul, CO\", \"counts\": 1, \"cumulative_sum\": 11}, {\"ano_coleta\": 2011.0, \"regiao_e_estado\": \"Mato Grosso do Sul, CO\", \"counts\": 1, \"cumulative_sum\": 12}, {\"ano_coleta\": 1939.0, \"regiao_e_estado\": \"Mato Grosso, CO\", \"counts\": 1, \"cumulative_sum\": 1}, {\"ano_coleta\": 1940.0, \"regiao_e_estado\": \"Mato Grosso, CO\", \"counts\": 1, \"cumulative_sum\": 2}, {\"ano_coleta\": 1946.0, \"regiao_e_estado\": \"Mato Grosso, CO\", \"counts\": 1, \"cumulative_sum\": 3}, {\"ano_coleta\": 1947.0, \"regiao_e_estado\": \"Mato Grosso, CO\", \"counts\": 1, \"cumulative_sum\": 4}, {\"ano_coleta\": 1948.0, \"regiao_e_estado\": \"Mato Grosso, CO\", \"counts\": 1, \"cumulative_sum\": 5}, {\"ano_coleta\": 1949.0, \"regiao_e_estado\": \"Mato Grosso, CO\", \"counts\": 1, \"cumulative_sum\": 6}, {\"ano_coleta\": 1950.0, \"regiao_e_estado\": \"Mato Grosso, CO\", \"counts\": 1, \"cumulative_sum\": 7}, {\"ano_coleta\": 1951.0, \"regiao_e_estado\": \"Mato Grosso, CO\", \"counts\": 1, \"cumulative_sum\": 8}, {\"ano_coleta\": 1952.0, \"regiao_e_estado\": \"Mato Grosso, CO\", \"counts\": 1, \"cumulative_sum\": 9}, {\"ano_coleta\": 1956.0, \"regiao_e_estado\": \"Mato Grosso, CO\", \"counts\": 1, \"cumulative_sum\": 10}, {\"ano_coleta\": 1957.0, \"regiao_e_estado\": \"Mato Grosso, CO\", \"counts\": 1, \"cumulative_sum\": 11}, {\"ano_coleta\": 1958.0, \"regiao_e_estado\": \"Mato Grosso, CO\", \"counts\": 1, \"cumulative_sum\": 12}, {\"ano_coleta\": 1959.0, \"regiao_e_estado\": \"Mato Grosso, CO\", \"counts\": 1, \"cumulative_sum\": 13}, {\"ano_coleta\": 1960.0, \"regiao_e_estado\": \"Mato Grosso, CO\", \"counts\": 1, \"cumulative_sum\": 14}, {\"ano_coleta\": 1963.0, \"regiao_e_estado\": \"Mato Grosso, CO\", \"counts\": 1, \"cumulative_sum\": 15}, {\"ano_coleta\": 1968.0, \"regiao_e_estado\": \"Mato Grosso, CO\", \"counts\": 1, \"cumulative_sum\": 16}, {\"ano_coleta\": 1971.0, \"regiao_e_estado\": \"Mato Grosso, CO\", \"counts\": 1, \"cumulative_sum\": 17}, {\"ano_coleta\": 1972.0, \"regiao_e_estado\": \"Mato Grosso, CO\", \"counts\": 1, \"cumulative_sum\": 18}, {\"ano_coleta\": 1974.0, \"regiao_e_estado\": \"Mato Grosso, CO\", \"counts\": 1, \"cumulative_sum\": 19}, {\"ano_coleta\": 1975.0, \"regiao_e_estado\": \"Mato Grosso, CO\", \"counts\": 2, \"cumulative_sum\": 21}, {\"ano_coleta\": 1976.0, \"regiao_e_estado\": \"Mato Grosso, CO\", \"counts\": 1, \"cumulative_sum\": 22}, {\"ano_coleta\": 1981.0, \"regiao_e_estado\": \"Mato Grosso, CO\", \"counts\": 1, \"cumulative_sum\": 23}, {\"ano_coleta\": 1983.0, \"regiao_e_estado\": \"Mato Grosso, CO\", \"counts\": 1, \"cumulative_sum\": 24}, {\"ano_coleta\": 1984.0, \"regiao_e_estado\": \"Mato Grosso, CO\", \"counts\": 1, \"cumulative_sum\": 25}, {\"ano_coleta\": 1985.0, \"regiao_e_estado\": \"Mato Grosso, CO\", \"counts\": 1, \"cumulative_sum\": 26}, {\"ano_coleta\": 1987.0, \"regiao_e_estado\": \"Mato Grosso, CO\", \"counts\": 2, \"cumulative_sum\": 28}, {\"ano_coleta\": 1988.0, \"regiao_e_estado\": \"Mato Grosso, CO\", \"counts\": 1, \"cumulative_sum\": 29}, {\"ano_coleta\": 1989.0, \"regiao_e_estado\": \"Mato Grosso, CO\", \"counts\": 1, \"cumulative_sum\": 30}, {\"ano_coleta\": 1990.0, \"regiao_e_estado\": \"Mato Grosso, CO\", \"counts\": 1, \"cumulative_sum\": 31}, {\"ano_coleta\": 1992.0, \"regiao_e_estado\": \"Mato Grosso, CO\", \"counts\": 1, \"cumulative_sum\": 32}, {\"ano_coleta\": 1995.0, \"regiao_e_estado\": \"Mato Grosso, CO\", \"counts\": 1, \"cumulative_sum\": 33}, {\"ano_coleta\": 1996.0, \"regiao_e_estado\": \"Mato Grosso, CO\", \"counts\": 1, \"cumulative_sum\": 34}, {\"ano_coleta\": 1998.0, \"regiao_e_estado\": \"Mato Grosso, CO\", \"counts\": 1, \"cumulative_sum\": 35}, {\"ano_coleta\": 1999.0, \"regiao_e_estado\": \"Mato Grosso, CO\", \"counts\": 2, \"cumulative_sum\": 37}, {\"ano_coleta\": 2000.0, \"regiao_e_estado\": \"Mato Grosso, CO\", \"counts\": 2, \"cumulative_sum\": 39}, {\"ano_coleta\": 2001.0, \"regiao_e_estado\": \"Mato Grosso, CO\", \"counts\": 1, \"cumulative_sum\": 40}, {\"ano_coleta\": 2002.0, \"regiao_e_estado\": \"Mato Grosso, CO\", \"counts\": 1, \"cumulative_sum\": 41}, {\"ano_coleta\": 2003.0, \"regiao_e_estado\": \"Mato Grosso, CO\", \"counts\": 1, \"cumulative_sum\": 42}, {\"ano_coleta\": 2005.0, \"regiao_e_estado\": \"Mato Grosso, CO\", \"counts\": 1, \"cumulative_sum\": 43}, {\"ano_coleta\": 2006.0, \"regiao_e_estado\": \"Mato Grosso, CO\", \"counts\": 2, \"cumulative_sum\": 45}, {\"ano_coleta\": 2007.0, \"regiao_e_estado\": \"Mato Grosso, CO\", \"counts\": 1, \"cumulative_sum\": 46}, {\"ano_coleta\": 2008.0, \"regiao_e_estado\": \"Mato Grosso, CO\", \"counts\": 1, \"cumulative_sum\": 47}, {\"ano_coleta\": 2012.0, \"regiao_e_estado\": \"Mato Grosso, CO\", \"counts\": 1, \"cumulative_sum\": 48}, {\"ano_coleta\": 2013.0, \"regiao_e_estado\": \"Mato Grosso, CO\", \"counts\": 3, \"cumulative_sum\": 51}, {\"ano_coleta\": 1942.0, \"regiao_e_estado\": \"Minas Gerais, SE\", \"counts\": 1, \"cumulative_sum\": 1}, {\"ano_coleta\": 1944.0, \"regiao_e_estado\": \"Minas Gerais, SE\", \"counts\": 1, \"cumulative_sum\": 2}, {\"ano_coleta\": 1945.0, \"regiao_e_estado\": \"Minas Gerais, SE\", \"counts\": 1, \"cumulative_sum\": 3}, {\"ano_coleta\": 1947.0, \"regiao_e_estado\": \"Minas Gerais, SE\", \"counts\": 1, \"cumulative_sum\": 4}, {\"ano_coleta\": 1955.0, \"regiao_e_estado\": \"Minas Gerais, SE\", \"counts\": 1, \"cumulative_sum\": 5}, {\"ano_coleta\": 1956.0, \"regiao_e_estado\": \"Minas Gerais, SE\", \"counts\": 1, \"cumulative_sum\": 6}, {\"ano_coleta\": 1957.0, \"regiao_e_estado\": \"Minas Gerais, SE\", \"counts\": 1, \"cumulative_sum\": 7}, {\"ano_coleta\": 1958.0, \"regiao_e_estado\": \"Minas Gerais, SE\", \"counts\": 1, \"cumulative_sum\": 8}, {\"ano_coleta\": 1959.0, \"regiao_e_estado\": \"Minas Gerais, SE\", \"counts\": 1, \"cumulative_sum\": 9}, {\"ano_coleta\": 1960.0, \"regiao_e_estado\": \"Minas Gerais, SE\", \"counts\": 1, \"cumulative_sum\": 10}, {\"ano_coleta\": 1963.0, \"regiao_e_estado\": \"Minas Gerais, SE\", \"counts\": 1, \"cumulative_sum\": 11}, {\"ano_coleta\": 1964.0, \"regiao_e_estado\": \"Minas Gerais, SE\", \"counts\": 1, \"cumulative_sum\": 12}, {\"ano_coleta\": 1965.0, \"regiao_e_estado\": \"Minas Gerais, SE\", \"counts\": 1, \"cumulative_sum\": 13}, {\"ano_coleta\": 1966.0, \"regiao_e_estado\": \"Minas Gerais, SE\", \"counts\": 1, \"cumulative_sum\": 14}, {\"ano_coleta\": 1967.0, \"regiao_e_estado\": \"Minas Gerais, SE\", \"counts\": 1, \"cumulative_sum\": 15}, {\"ano_coleta\": 1971.0, \"regiao_e_estado\": \"Minas Gerais, SE\", \"counts\": 1, \"cumulative_sum\": 16}, {\"ano_coleta\": 1973.0, \"regiao_e_estado\": \"Minas Gerais, SE\", \"counts\": 1, \"cumulative_sum\": 17}, {\"ano_coleta\": 1975.0, \"regiao_e_estado\": \"Minas Gerais, SE\", \"counts\": 1, \"cumulative_sum\": 18}, {\"ano_coleta\": 1979.0, \"regiao_e_estado\": \"Minas Gerais, SE\", \"counts\": 1, \"cumulative_sum\": 19}, {\"ano_coleta\": 1980.0, \"regiao_e_estado\": \"Minas Gerais, SE\", \"counts\": 1, \"cumulative_sum\": 20}, {\"ano_coleta\": 1984.0, \"regiao_e_estado\": \"Minas Gerais, SE\", \"counts\": 1, \"cumulative_sum\": 21}, {\"ano_coleta\": 1985.0, \"regiao_e_estado\": \"Minas Gerais, SE\", \"counts\": 1, \"cumulative_sum\": 22}, {\"ano_coleta\": 1986.0, \"regiao_e_estado\": \"Minas Gerais, SE\", \"counts\": 3, \"cumulative_sum\": 25}, {\"ano_coleta\": 1987.0, \"regiao_e_estado\": \"Minas Gerais, SE\", \"counts\": 2, \"cumulative_sum\": 27}, {\"ano_coleta\": 1988.0, \"regiao_e_estado\": \"Minas Gerais, SE\", \"counts\": 1, \"cumulative_sum\": 28}, {\"ano_coleta\": 1989.0, \"regiao_e_estado\": \"Minas Gerais, SE\", \"counts\": 3, \"cumulative_sum\": 31}, {\"ano_coleta\": 1990.0, \"regiao_e_estado\": \"Minas Gerais, SE\", \"counts\": 2, \"cumulative_sum\": 33}, {\"ano_coleta\": 1991.0, \"regiao_e_estado\": \"Minas Gerais, SE\", \"counts\": 1, \"cumulative_sum\": 34}, {\"ano_coleta\": 1992.0, \"regiao_e_estado\": \"Minas Gerais, SE\", \"counts\": 1, \"cumulative_sum\": 35}, {\"ano_coleta\": 1993.0, \"regiao_e_estado\": \"Minas Gerais, SE\", \"counts\": 1, \"cumulative_sum\": 36}, {\"ano_coleta\": 1994.0, \"regiao_e_estado\": \"Minas Gerais, SE\", \"counts\": 1, \"cumulative_sum\": 37}, {\"ano_coleta\": 1995.0, \"regiao_e_estado\": \"Minas Gerais, SE\", \"counts\": 1, \"cumulative_sum\": 38}, {\"ano_coleta\": 1996.0, \"regiao_e_estado\": \"Minas Gerais, SE\", \"counts\": 1, \"cumulative_sum\": 39}, {\"ano_coleta\": 1997.0, \"regiao_e_estado\": \"Minas Gerais, SE\", \"counts\": 1, \"cumulative_sum\": 40}, {\"ano_coleta\": 1998.0, \"regiao_e_estado\": \"Minas Gerais, SE\", \"counts\": 1, \"cumulative_sum\": 41}, {\"ano_coleta\": 1999.0, \"regiao_e_estado\": \"Minas Gerais, SE\", \"counts\": 1, \"cumulative_sum\": 42}, {\"ano_coleta\": 2000.0, \"regiao_e_estado\": \"Minas Gerais, SE\", \"counts\": 1, \"cumulative_sum\": 43}, {\"ano_coleta\": 2001.0, \"regiao_e_estado\": \"Minas Gerais, SE\", \"counts\": 1, \"cumulative_sum\": 44}, {\"ano_coleta\": 2002.0, \"regiao_e_estado\": \"Minas Gerais, SE\", \"counts\": 1, \"cumulative_sum\": 45}, {\"ano_coleta\": 2003.0, \"regiao_e_estado\": \"Minas Gerais, SE\", \"counts\": 1, \"cumulative_sum\": 46}, {\"ano_coleta\": 2004.0, \"regiao_e_estado\": \"Minas Gerais, SE\", \"counts\": 2, \"cumulative_sum\": 48}, {\"ano_coleta\": 2005.0, \"regiao_e_estado\": \"Minas Gerais, SE\", \"counts\": 1, \"cumulative_sum\": 49}, {\"ano_coleta\": 2006.0, \"regiao_e_estado\": \"Minas Gerais, SE\", \"counts\": 2, \"cumulative_sum\": 51}, {\"ano_coleta\": 2007.0, \"regiao_e_estado\": \"Minas Gerais, SE\", \"counts\": 3, \"cumulative_sum\": 54}, {\"ano_coleta\": 2008.0, \"regiao_e_estado\": \"Minas Gerais, SE\", \"counts\": 1, \"cumulative_sum\": 55}, {\"ano_coleta\": 2009.0, \"regiao_e_estado\": \"Minas Gerais, SE\", \"counts\": 2, \"cumulative_sum\": 57}, {\"ano_coleta\": 2010.0, \"regiao_e_estado\": \"Minas Gerais, SE\", \"counts\": 1, \"cumulative_sum\": 58}, {\"ano_coleta\": 2011.0, \"regiao_e_estado\": \"Minas Gerais, SE\", \"counts\": 1, \"cumulative_sum\": 59}, {\"ano_coleta\": 2012.0, \"regiao_e_estado\": \"Minas Gerais, SE\", \"counts\": 1, \"cumulative_sum\": 60}, {\"ano_coleta\": 2013.0, \"regiao_e_estado\": \"Minas Gerais, SE\", \"counts\": 1, \"cumulative_sum\": 61}, {\"ano_coleta\": 2014.0, \"regiao_e_estado\": \"Minas Gerais, SE\", \"counts\": 2, \"cumulative_sum\": 63}, {\"ano_coleta\": 2015.0, \"regiao_e_estado\": \"Minas Gerais, SE\", \"counts\": 1, \"cumulative_sum\": 64}, {\"ano_coleta\": 2016.0, \"regiao_e_estado\": \"Minas Gerais, SE\", \"counts\": 1, \"cumulative_sum\": 65}, {\"ano_coleta\": 2003.0, \"regiao_e_estado\": \"Minas Gerais/Goi\\u00e1s/Distrito Federal, CO\", \"counts\": 1, \"cumulative_sum\": 1}, {\"ano_coleta\": 2004.0, \"regiao_e_estado\": \"Minas Gerais/Goi\\u00e1s/Distrito Federal, CO\", \"counts\": 1, \"cumulative_sum\": 2}, {\"ano_coleta\": 1944.0, \"regiao_e_estado\": \"Paran\\u00e1, S\", \"counts\": 1, \"cumulative_sum\": 1}, {\"ano_coleta\": 1949.0, \"regiao_e_estado\": \"Paran\\u00e1, S\", \"counts\": 1, \"cumulative_sum\": 2}, {\"ano_coleta\": 1953.0, \"regiao_e_estado\": \"Paran\\u00e1, S\", \"counts\": 1, \"cumulative_sum\": 3}, {\"ano_coleta\": 1964.0, \"regiao_e_estado\": \"Paran\\u00e1, S\", \"counts\": 1, \"cumulative_sum\": 4}, {\"ano_coleta\": 1985.0, \"regiao_e_estado\": \"Paran\\u00e1, S\", \"counts\": 1, \"cumulative_sum\": 5}, {\"ano_coleta\": 1986.0, \"regiao_e_estado\": \"Paran\\u00e1, S\", \"counts\": 1, \"cumulative_sum\": 6}, {\"ano_coleta\": 1987.0, \"regiao_e_estado\": \"Paran\\u00e1, S\", \"counts\": 1, \"cumulative_sum\": 7}, {\"ano_coleta\": 1988.0, \"regiao_e_estado\": \"Paran\\u00e1, S\", \"counts\": 1, \"cumulative_sum\": 8}, {\"ano_coleta\": 1989.0, \"regiao_e_estado\": \"Paran\\u00e1, S\", \"counts\": 1, \"cumulative_sum\": 9}, {\"ano_coleta\": 1990.0, \"regiao_e_estado\": \"Paran\\u00e1, S\", \"counts\": 1, \"cumulative_sum\": 10}, {\"ano_coleta\": 1991.0, \"regiao_e_estado\": \"Paran\\u00e1, S\", \"counts\": 1, \"cumulative_sum\": 11}, {\"ano_coleta\": 2004.0, \"regiao_e_estado\": \"Paran\\u00e1, S\", \"counts\": 1, \"cumulative_sum\": 12}, {\"ano_coleta\": 2006.0, \"regiao_e_estado\": \"Paran\\u00e1, S\", \"counts\": 1, \"cumulative_sum\": 13}, {\"ano_coleta\": 2011.0, \"regiao_e_estado\": \"Paran\\u00e1, S\", \"counts\": 1, \"cumulative_sum\": 14}, {\"ano_coleta\": 2014.0, \"regiao_e_estado\": \"Paran\\u00e1, S\", \"counts\": 1, \"cumulative_sum\": 15}, {\"ano_coleta\": 2015.0, \"regiao_e_estado\": \"Paran\\u00e1, S\", \"counts\": 1, \"cumulative_sum\": 16}, {\"ano_coleta\": 1956.0, \"regiao_e_estado\": \"Para\\u00edba, NE\", \"counts\": 1, \"cumulative_sum\": 1}, {\"ano_coleta\": 1962.0, \"regiao_e_estado\": \"Para\\u00edba, NE\", \"counts\": 1, \"cumulative_sum\": 2}, {\"ano_coleta\": 1989.0, \"regiao_e_estado\": \"Para\\u00edba, NE\", \"counts\": 1, \"cumulative_sum\": 3}, {\"ano_coleta\": 1990.0, \"regiao_e_estado\": \"Para\\u00edba, NE\", \"counts\": 1, \"cumulative_sum\": 4}, {\"ano_coleta\": 1993.0, \"regiao_e_estado\": \"Para\\u00edba, NE\", \"counts\": 1, \"cumulative_sum\": 5}, {\"ano_coleta\": 1996.0, \"regiao_e_estado\": \"Para\\u00edba, NE\", \"counts\": 1, \"cumulative_sum\": 6}, {\"ano_coleta\": 1998.0, \"regiao_e_estado\": \"Para\\u00edba, NE\", \"counts\": 2, \"cumulative_sum\": 8}, {\"ano_coleta\": 1999.0, \"regiao_e_estado\": \"Para\\u00edba, NE\", \"counts\": 1, \"cumulative_sum\": 9}, {\"ano_coleta\": 2003.0, \"regiao_e_estado\": \"Para\\u00edba, NE\", \"counts\": 1, \"cumulative_sum\": 10}, {\"ano_coleta\": 2008.0, \"regiao_e_estado\": \"Para\\u00edba, NE\", \"counts\": 1, \"cumulative_sum\": 11}, {\"ano_coleta\": 2009.0, \"regiao_e_estado\": \"Para\\u00edba, NE\", \"counts\": 2, \"cumulative_sum\": 13}, {\"ano_coleta\": 2011.0, \"regiao_e_estado\": \"Para\\u00edba, NE\", \"counts\": 1, \"cumulative_sum\": 14}, {\"ano_coleta\": 1937.0, \"regiao_e_estado\": \"Par\\u00e1, N\", \"counts\": 1, \"cumulative_sum\": 1}, {\"ano_coleta\": 1940.0, \"regiao_e_estado\": \"Par\\u00e1, N\", \"counts\": 1, \"cumulative_sum\": 2}, {\"ano_coleta\": 1944.0, \"regiao_e_estado\": \"Par\\u00e1, N\", \"counts\": 1, \"cumulative_sum\": 3}, {\"ano_coleta\": 1948.0, \"regiao_e_estado\": \"Par\\u00e1, N\", \"counts\": 1, \"cumulative_sum\": 4}, {\"ano_coleta\": 1950.0, \"regiao_e_estado\": \"Par\\u00e1, N\", \"counts\": 1, \"cumulative_sum\": 5}, {\"ano_coleta\": 1951.0, \"regiao_e_estado\": \"Par\\u00e1, N\", \"counts\": 1, \"cumulative_sum\": 6}, {\"ano_coleta\": 1952.0, \"regiao_e_estado\": \"Par\\u00e1, N\", \"counts\": 1, \"cumulative_sum\": 7}, {\"ano_coleta\": 1954.0, \"regiao_e_estado\": \"Par\\u00e1, N\", \"counts\": 1, \"cumulative_sum\": 8}, {\"ano_coleta\": 1957.0, \"regiao_e_estado\": \"Par\\u00e1, N\", \"counts\": 1, \"cumulative_sum\": 9}, {\"ano_coleta\": 1958.0, \"regiao_e_estado\": \"Par\\u00e1, N\", \"counts\": 1, \"cumulative_sum\": 10}, {\"ano_coleta\": 1959.0, \"regiao_e_estado\": \"Par\\u00e1, N\", \"counts\": 1, \"cumulative_sum\": 11}, {\"ano_coleta\": 1961.0, \"regiao_e_estado\": \"Par\\u00e1, N\", \"counts\": 1, \"cumulative_sum\": 12}, {\"ano_coleta\": 1963.0, \"regiao_e_estado\": \"Par\\u00e1, N\", \"counts\": 1, \"cumulative_sum\": 13}, {\"ano_coleta\": 1965.0, \"regiao_e_estado\": \"Par\\u00e1, N\", \"counts\": 1, \"cumulative_sum\": 14}, {\"ano_coleta\": 1967.0, \"regiao_e_estado\": \"Par\\u00e1, N\", \"counts\": 2, \"cumulative_sum\": 16}, {\"ano_coleta\": 1968.0, \"regiao_e_estado\": \"Par\\u00e1, N\", \"counts\": 1, \"cumulative_sum\": 17}, {\"ano_coleta\": 1971.0, \"regiao_e_estado\": \"Par\\u00e1, N\", \"counts\": 1, \"cumulative_sum\": 18}, {\"ano_coleta\": 1973.0, \"regiao_e_estado\": \"Par\\u00e1, N\", \"counts\": 1, \"cumulative_sum\": 19}, {\"ano_coleta\": 1976.0, \"regiao_e_estado\": \"Par\\u00e1, N\", \"counts\": 1, \"cumulative_sum\": 20}, {\"ano_coleta\": 1978.0, \"regiao_e_estado\": \"Par\\u00e1, N\", \"counts\": 1, \"cumulative_sum\": 21}, {\"ano_coleta\": 1979.0, \"regiao_e_estado\": \"Par\\u00e1, N\", \"counts\": 1, \"cumulative_sum\": 22}, {\"ano_coleta\": 1984.0, \"regiao_e_estado\": \"Par\\u00e1, N\", \"counts\": 1, \"cumulative_sum\": 23}, {\"ano_coleta\": 1985.0, \"regiao_e_estado\": \"Par\\u00e1, N\", \"counts\": 1, \"cumulative_sum\": 24}, {\"ano_coleta\": 1986.0, \"regiao_e_estado\": \"Par\\u00e1, N\", \"counts\": 1, \"cumulative_sum\": 25}, {\"ano_coleta\": 1987.0, \"regiao_e_estado\": \"Par\\u00e1, N\", \"counts\": 1, \"cumulative_sum\": 26}, {\"ano_coleta\": 1988.0, \"regiao_e_estado\": \"Par\\u00e1, N\", \"counts\": 2, \"cumulative_sum\": 28}, {\"ano_coleta\": 1991.0, \"regiao_e_estado\": \"Par\\u00e1, N\", \"counts\": 2, \"cumulative_sum\": 30}, {\"ano_coleta\": 1994.0, \"regiao_e_estado\": \"Par\\u00e1, N\", \"counts\": 1, \"cumulative_sum\": 31}, {\"ano_coleta\": 1996.0, \"regiao_e_estado\": \"Par\\u00e1, N\", \"counts\": 1, \"cumulative_sum\": 32}, {\"ano_coleta\": 1997.0, \"regiao_e_estado\": \"Par\\u00e1, N\", \"counts\": 1, \"cumulative_sum\": 33}, {\"ano_coleta\": 2001.0, \"regiao_e_estado\": \"Par\\u00e1, N\", \"counts\": 1, \"cumulative_sum\": 34}, {\"ano_coleta\": 2003.0, \"regiao_e_estado\": \"Par\\u00e1, N\", \"counts\": 1, \"cumulative_sum\": 35}, {\"ano_coleta\": 2005.0, \"regiao_e_estado\": \"Par\\u00e1, N\", \"counts\": 2, \"cumulative_sum\": 37}, {\"ano_coleta\": 2006.0, \"regiao_e_estado\": \"Par\\u00e1, N\", \"counts\": 3, \"cumulative_sum\": 40}, {\"ano_coleta\": 2007.0, \"regiao_e_estado\": \"Par\\u00e1, N\", \"counts\": 1, \"cumulative_sum\": 41}, {\"ano_coleta\": 2008.0, \"regiao_e_estado\": \"Par\\u00e1, N\", \"counts\": 3, \"cumulative_sum\": 44}, {\"ano_coleta\": 2009.0, \"regiao_e_estado\": \"Par\\u00e1, N\", \"counts\": 1, \"cumulative_sum\": 45}, {\"ano_coleta\": 2010.0, \"regiao_e_estado\": \"Par\\u00e1, N\", \"counts\": 1, \"cumulative_sum\": 46}, {\"ano_coleta\": 2011.0, \"regiao_e_estado\": \"Par\\u00e1, N\", \"counts\": 1, \"cumulative_sum\": 47}, {\"ano_coleta\": 2012.0, \"regiao_e_estado\": \"Par\\u00e1, N\", \"counts\": 1, \"cumulative_sum\": 48}, {\"ano_coleta\": 2013.0, \"regiao_e_estado\": \"Par\\u00e1, N\", \"counts\": 1, \"cumulative_sum\": 49}, {\"ano_coleta\": 2014.0, \"regiao_e_estado\": \"Par\\u00e1, N\", \"counts\": 1, \"cumulative_sum\": 50}, {\"ano_coleta\": 2015.0, \"regiao_e_estado\": \"Par\\u00e1, N\", \"counts\": 1, \"cumulative_sum\": 51}, {\"ano_coleta\": 2016.0, \"regiao_e_estado\": \"Par\\u00e1, N\", \"counts\": 1, \"cumulative_sum\": 52}, {\"ano_coleta\": 1876.0, \"regiao_e_estado\": \"Pernambuco, NE\", \"counts\": 1, \"cumulative_sum\": 1}, {\"ano_coleta\": 1936.0, \"regiao_e_estado\": \"Pernambuco, NE\", \"counts\": 1, \"cumulative_sum\": 2}, {\"ano_coleta\": 1961.0, \"regiao_e_estado\": \"Pernambuco, NE\", \"counts\": 1, \"cumulative_sum\": 3}, {\"ano_coleta\": 1963.0, \"regiao_e_estado\": \"Pernambuco, NE\", \"counts\": 1, \"cumulative_sum\": 4}, {\"ano_coleta\": 1964.0, \"regiao_e_estado\": \"Pernambuco, NE\", \"counts\": 1, \"cumulative_sum\": 5}, {\"ano_coleta\": 1980.0, \"regiao_e_estado\": \"Pernambuco, NE\", \"counts\": 1, \"cumulative_sum\": 6}, {\"ano_coleta\": 1985.0, \"regiao_e_estado\": \"Pernambuco, NE\", \"counts\": 1, \"cumulative_sum\": 7}, {\"ano_coleta\": 1986.0, \"regiao_e_estado\": \"Pernambuco, NE\", \"counts\": 1, \"cumulative_sum\": 8}, {\"ano_coleta\": 1988.0, \"regiao_e_estado\": \"Pernambuco, NE\", \"counts\": 1, \"cumulative_sum\": 9}, {\"ano_coleta\": 1989.0, \"regiao_e_estado\": \"Pernambuco, NE\", \"counts\": 2, \"cumulative_sum\": 11}, {\"ano_coleta\": 1990.0, \"regiao_e_estado\": \"Pernambuco, NE\", \"counts\": 1, \"cumulative_sum\": 12}, {\"ano_coleta\": 1991.0, \"regiao_e_estado\": \"Pernambuco, NE\", \"counts\": 1, \"cumulative_sum\": 13}, {\"ano_coleta\": 1996.0, \"regiao_e_estado\": \"Pernambuco, NE\", \"counts\": 1, \"cumulative_sum\": 14}, {\"ano_coleta\": 1998.0, \"regiao_e_estado\": \"Pernambuco, NE\", \"counts\": 2, \"cumulative_sum\": 16}, {\"ano_coleta\": 2000.0, \"regiao_e_estado\": \"Pernambuco, NE\", \"counts\": 1, \"cumulative_sum\": 17}, {\"ano_coleta\": 2001.0, \"regiao_e_estado\": \"Pernambuco, NE\", \"counts\": 1, \"cumulative_sum\": 18}, {\"ano_coleta\": 2002.0, \"regiao_e_estado\": \"Pernambuco, NE\", \"counts\": 1, \"cumulative_sum\": 19}, {\"ano_coleta\": 2003.0, \"regiao_e_estado\": \"Pernambuco, NE\", \"counts\": 1, \"cumulative_sum\": 20}, {\"ano_coleta\": 2005.0, \"regiao_e_estado\": \"Pernambuco, NE\", \"counts\": 1, \"cumulative_sum\": 21}, {\"ano_coleta\": 2006.0, \"regiao_e_estado\": \"Pernambuco, NE\", \"counts\": 1, \"cumulative_sum\": 22}, {\"ano_coleta\": 2008.0, \"regiao_e_estado\": \"Pernambuco, NE\", \"counts\": 1, \"cumulative_sum\": 23}, {\"ano_coleta\": 2009.0, \"regiao_e_estado\": \"Pernambuco, NE\", \"counts\": 1, \"cumulative_sum\": 24}, {\"ano_coleta\": 1973.0, \"regiao_e_estado\": \"Piau\\u00ed, NE\", \"counts\": 1, \"cumulative_sum\": 1}, {\"ano_coleta\": 1979.0, \"regiao_e_estado\": \"Piau\\u00ed, NE\", \"counts\": 1, \"cumulative_sum\": 2}, {\"ano_coleta\": 1985.0, \"regiao_e_estado\": \"Piau\\u00ed, NE\", \"counts\": 1, \"cumulative_sum\": 3}, {\"ano_coleta\": 1986.0, \"regiao_e_estado\": \"Piau\\u00ed, NE\", \"counts\": 1, \"cumulative_sum\": 4}, {\"ano_coleta\": 1988.0, \"regiao_e_estado\": \"Piau\\u00ed, NE\", \"counts\": 1, \"cumulative_sum\": 5}, {\"ano_coleta\": 1996.0, \"regiao_e_estado\": \"Piau\\u00ed, NE\", \"counts\": 1, \"cumulative_sum\": 6}, {\"ano_coleta\": 2000.0, \"regiao_e_estado\": \"Piau\\u00ed, NE\", \"counts\": 1, \"cumulative_sum\": 7}, {\"ano_coleta\": 2004.0, \"regiao_e_estado\": \"Piau\\u00ed, NE\", \"counts\": 1, \"cumulative_sum\": 8}, {\"ano_coleta\": 2005.0, \"regiao_e_estado\": \"Piau\\u00ed, NE\", \"counts\": 1, \"cumulative_sum\": 9}, {\"ano_coleta\": 2008.0, \"regiao_e_estado\": \"Piau\\u00ed, NE\", \"counts\": 1, \"cumulative_sum\": 10}, {\"ano_coleta\": 2010.0, \"regiao_e_estado\": \"Piau\\u00ed, NE\", \"counts\": 1, \"cumulative_sum\": 11}, {\"ano_coleta\": 2013.0, \"regiao_e_estado\": \"Piau\\u00ed, NE\", \"counts\": 1, \"cumulative_sum\": 12}, {\"ano_coleta\": 1986.0, \"regiao_e_estado\": \"Rio Grande do Norte, NE\", \"counts\": 1, \"cumulative_sum\": 1}, {\"ano_coleta\": 1987.0, \"regiao_e_estado\": \"Rio Grande do Norte, NE\", \"counts\": 2, \"cumulative_sum\": 3}, {\"ano_coleta\": 1989.0, \"regiao_e_estado\": \"Rio Grande do Norte, NE\", \"counts\": 1, \"cumulative_sum\": 4}, {\"ano_coleta\": 1990.0, \"regiao_e_estado\": \"Rio Grande do Norte, NE\", \"counts\": 1, \"cumulative_sum\": 5}, {\"ano_coleta\": 2001.0, \"regiao_e_estado\": \"Rio Grande do Norte, NE\", \"counts\": 1, \"cumulative_sum\": 6}, {\"ano_coleta\": 2005.0, \"regiao_e_estado\": \"Rio Grande do Norte, NE\", \"counts\": 1, \"cumulative_sum\": 7}, {\"ano_coleta\": 2014.0, \"regiao_e_estado\": \"Rio Grande do Norte, NE\", \"counts\": 1, \"cumulative_sum\": 8}, {\"ano_coleta\": 2015.0, \"regiao_e_estado\": \"Rio Grande do Norte, NE\", \"counts\": 1, \"cumulative_sum\": 9}, {\"ano_coleta\": 1945.0, \"regiao_e_estado\": \"Rio Grande do Sul, S\", \"counts\": 1, \"cumulative_sum\": 1}, {\"ano_coleta\": 1953.0, \"regiao_e_estado\": \"Rio Grande do Sul, S\", \"counts\": 1, \"cumulative_sum\": 2}, {\"ano_coleta\": 1954.0, \"regiao_e_estado\": \"Rio Grande do Sul, S\", \"counts\": 1, \"cumulative_sum\": 3}, {\"ano_coleta\": 1955.0, \"regiao_e_estado\": \"Rio Grande do Sul, S\", \"counts\": 1, \"cumulative_sum\": 4}, {\"ano_coleta\": 1964.0, \"regiao_e_estado\": \"Rio Grande do Sul, S\", \"counts\": 1, \"cumulative_sum\": 5}, {\"ano_coleta\": 1966.0, \"regiao_e_estado\": \"Rio Grande do Sul, S\", \"counts\": 1, \"cumulative_sum\": 6}, {\"ano_coleta\": 1980.0, \"regiao_e_estado\": \"Rio Grande do Sul, S\", \"counts\": 1, \"cumulative_sum\": 7}, {\"ano_coleta\": 1984.0, \"regiao_e_estado\": \"Rio Grande do Sul, S\", \"counts\": 1, \"cumulative_sum\": 8}, {\"ano_coleta\": 1985.0, \"regiao_e_estado\": \"Rio Grande do Sul, S\", \"counts\": 1, \"cumulative_sum\": 9}, {\"ano_coleta\": 1986.0, \"regiao_e_estado\": \"Rio Grande do Sul, S\", \"counts\": 1, \"cumulative_sum\": 10}, {\"ano_coleta\": 1987.0, \"regiao_e_estado\": \"Rio Grande do Sul, S\", \"counts\": 1, \"cumulative_sum\": 11}, {\"ano_coleta\": 1988.0, \"regiao_e_estado\": \"Rio Grande do Sul, S\", \"counts\": 1, \"cumulative_sum\": 12}, {\"ano_coleta\": 1989.0, \"regiao_e_estado\": \"Rio Grande do Sul, S\", \"counts\": 1, \"cumulative_sum\": 13}, {\"ano_coleta\": 1993.0, \"regiao_e_estado\": \"Rio Grande do Sul, S\", \"counts\": 1, \"cumulative_sum\": 14}, {\"ano_coleta\": 1994.0, \"regiao_e_estado\": \"Rio Grande do Sul, S\", \"counts\": 1, \"cumulative_sum\": 15}, {\"ano_coleta\": 1995.0, \"regiao_e_estado\": \"Rio Grande do Sul, S\", \"counts\": 1, \"cumulative_sum\": 16}, {\"ano_coleta\": 1996.0, \"regiao_e_estado\": \"Rio Grande do Sul, S\", \"counts\": 1, \"cumulative_sum\": 17}, {\"ano_coleta\": 1997.0, \"regiao_e_estado\": \"Rio Grande do Sul, S\", \"counts\": 1, \"cumulative_sum\": 18}, {\"ano_coleta\": 1998.0, \"regiao_e_estado\": \"Rio Grande do Sul, S\", \"counts\": 1, \"cumulative_sum\": 19}, {\"ano_coleta\": 1999.0, \"regiao_e_estado\": \"Rio Grande do Sul, S\", \"counts\": 1, \"cumulative_sum\": 20}, {\"ano_coleta\": 2001.0, \"regiao_e_estado\": \"Rio Grande do Sul, S\", \"counts\": 1, \"cumulative_sum\": 21}, {\"ano_coleta\": 2002.0, \"regiao_e_estado\": \"Rio Grande do Sul, S\", \"counts\": 1, \"cumulative_sum\": 22}, {\"ano_coleta\": 2003.0, \"regiao_e_estado\": \"Rio Grande do Sul, S\", \"counts\": 1, \"cumulative_sum\": 23}, {\"ano_coleta\": 2009.0, \"regiao_e_estado\": \"Rio Grande do Sul, S\", \"counts\": 1, \"cumulative_sum\": 24}, {\"ano_coleta\": 2010.0, \"regiao_e_estado\": \"Rio Grande do Sul, S\", \"counts\": 1, \"cumulative_sum\": 25}, {\"ano_coleta\": 2011.0, \"regiao_e_estado\": \"Rio Grande do Sul, S\", \"counts\": 1, \"cumulative_sum\": 26}, {\"ano_coleta\": 2012.0, \"regiao_e_estado\": \"Rio Grande do Sul, S\", \"counts\": 1, \"cumulative_sum\": 27}, {\"ano_coleta\": 2013.0, \"regiao_e_estado\": \"Rio Grande do Sul, S\", \"counts\": 1, \"cumulative_sum\": 28}, {\"ano_coleta\": 2014.0, \"regiao_e_estado\": \"Rio Grande do Sul, S\", \"counts\": 1, \"cumulative_sum\": 29}, {\"ano_coleta\": 2015.0, \"regiao_e_estado\": \"Rio Grande do Sul, S\", \"counts\": 1, \"cumulative_sum\": 30}, {\"ano_coleta\": 2016.0, \"regiao_e_estado\": \"Rio Grande do Sul, S\", \"counts\": 1, \"cumulative_sum\": 31}, {\"ano_coleta\": 0.0, \"regiao_e_estado\": \"Rio de Janeiro, SE\", \"counts\": 1, \"cumulative_sum\": 1}, {\"ano_coleta\": 1824.0, \"regiao_e_estado\": \"Rio de Janeiro, SE\", \"counts\": 1, \"cumulative_sum\": 2}, {\"ano_coleta\": 1915.0, \"regiao_e_estado\": \"Rio de Janeiro, SE\", \"counts\": 1, \"cumulative_sum\": 3}, {\"ano_coleta\": 1923.0, \"regiao_e_estado\": \"Rio de Janeiro, SE\", \"counts\": 2, \"cumulative_sum\": 5}, {\"ano_coleta\": 1937.0, \"regiao_e_estado\": \"Rio de Janeiro, SE\", \"counts\": 1, \"cumulative_sum\": 6}, {\"ano_coleta\": 1938.0, \"regiao_e_estado\": \"Rio de Janeiro, SE\", \"counts\": 1, \"cumulative_sum\": 7}, {\"ano_coleta\": 1941.0, \"regiao_e_estado\": \"Rio de Janeiro, SE\", \"counts\": 1, \"cumulative_sum\": 8}, {\"ano_coleta\": 1942.0, \"regiao_e_estado\": \"Rio de Janeiro, SE\", \"counts\": 1, \"cumulative_sum\": 9}, {\"ano_coleta\": 1943.0, \"regiao_e_estado\": \"Rio de Janeiro, SE\", \"counts\": 1, \"cumulative_sum\": 10}, {\"ano_coleta\": 1944.0, \"regiao_e_estado\": \"Rio de Janeiro, SE\", \"counts\": 1, \"cumulative_sum\": 11}, {\"ano_coleta\": 1945.0, \"regiao_e_estado\": \"Rio de Janeiro, SE\", \"counts\": 1, \"cumulative_sum\": 12}, {\"ano_coleta\": 1946.0, \"regiao_e_estado\": \"Rio de Janeiro, SE\", \"counts\": 1, \"cumulative_sum\": 13}, {\"ano_coleta\": 1947.0, \"regiao_e_estado\": \"Rio de Janeiro, SE\", \"counts\": 1, \"cumulative_sum\": 14}, {\"ano_coleta\": 1948.0, \"regiao_e_estado\": \"Rio de Janeiro, SE\", \"counts\": 2, \"cumulative_sum\": 16}, {\"ano_coleta\": 1949.0, \"regiao_e_estado\": \"Rio de Janeiro, SE\", \"counts\": 2, \"cumulative_sum\": 18}, {\"ano_coleta\": 1950.0, \"regiao_e_estado\": \"Rio de Janeiro, SE\", \"counts\": 1, \"cumulative_sum\": 19}, {\"ano_coleta\": 1951.0, \"regiao_e_estado\": \"Rio de Janeiro, SE\", \"counts\": 1, \"cumulative_sum\": 20}, {\"ano_coleta\": 1952.0, \"regiao_e_estado\": \"Rio de Janeiro, SE\", \"counts\": 1, \"cumulative_sum\": 21}, {\"ano_coleta\": 1953.0, \"regiao_e_estado\": \"Rio de Janeiro, SE\", \"counts\": 2, \"cumulative_sum\": 23}, {\"ano_coleta\": 1954.0, \"regiao_e_estado\": \"Rio de Janeiro, SE\", \"counts\": 2, \"cumulative_sum\": 25}, {\"ano_coleta\": 1955.0, \"regiao_e_estado\": \"Rio de Janeiro, SE\", \"counts\": 2, \"cumulative_sum\": 27}, {\"ano_coleta\": 1956.0, \"regiao_e_estado\": \"Rio de Janeiro, SE\", \"counts\": 1, \"cumulative_sum\": 28}, {\"ano_coleta\": 1957.0, \"regiao_e_estado\": \"Rio de Janeiro, SE\", \"counts\": 1, \"cumulative_sum\": 29}, {\"ano_coleta\": 1958.0, \"regiao_e_estado\": \"Rio de Janeiro, SE\", \"counts\": 1, \"cumulative_sum\": 30}, {\"ano_coleta\": 1959.0, \"regiao_e_estado\": \"Rio de Janeiro, SE\", \"counts\": 1, \"cumulative_sum\": 31}, {\"ano_coleta\": 1960.0, \"regiao_e_estado\": \"Rio de Janeiro, SE\", \"counts\": 1, \"cumulative_sum\": 32}, {\"ano_coleta\": 1961.0, \"regiao_e_estado\": \"Rio de Janeiro, SE\", \"counts\": 1, \"cumulative_sum\": 33}, {\"ano_coleta\": 1963.0, \"regiao_e_estado\": \"Rio de Janeiro, SE\", \"counts\": 1, \"cumulative_sum\": 34}, {\"ano_coleta\": 1964.0, \"regiao_e_estado\": \"Rio de Janeiro, SE\", \"counts\": 2, \"cumulative_sum\": 36}, {\"ano_coleta\": 1965.0, \"regiao_e_estado\": \"Rio de Janeiro, SE\", \"counts\": 1, \"cumulative_sum\": 37}, {\"ano_coleta\": 1966.0, \"regiao_e_estado\": \"Rio de Janeiro, SE\", \"counts\": 1, \"cumulative_sum\": 38}, {\"ano_coleta\": 1967.0, \"regiao_e_estado\": \"Rio de Janeiro, SE\", \"counts\": 1, \"cumulative_sum\": 39}, {\"ano_coleta\": 1968.0, \"regiao_e_estado\": \"Rio de Janeiro, SE\", \"counts\": 1, \"cumulative_sum\": 40}, {\"ano_coleta\": 1969.0, \"regiao_e_estado\": \"Rio de Janeiro, SE\", \"counts\": 1, \"cumulative_sum\": 41}, {\"ano_coleta\": 1970.0, \"regiao_e_estado\": \"Rio de Janeiro, SE\", \"counts\": 1, \"cumulative_sum\": 42}, {\"ano_coleta\": 1971.0, \"regiao_e_estado\": \"Rio de Janeiro, SE\", \"counts\": 1, \"cumulative_sum\": 43}, {\"ano_coleta\": 1972.0, \"regiao_e_estado\": \"Rio de Janeiro, SE\", \"counts\": 1, \"cumulative_sum\": 44}, {\"ano_coleta\": 1973.0, \"regiao_e_estado\": \"Rio de Janeiro, SE\", \"counts\": 1, \"cumulative_sum\": 45}, {\"ano_coleta\": 1974.0, \"regiao_e_estado\": \"Rio de Janeiro, SE\", \"counts\": 2, \"cumulative_sum\": 47}, {\"ano_coleta\": 1975.0, \"regiao_e_estado\": \"Rio de Janeiro, SE\", \"counts\": 1, \"cumulative_sum\": 48}, {\"ano_coleta\": 1976.0, \"regiao_e_estado\": \"Rio de Janeiro, SE\", \"counts\": 1, \"cumulative_sum\": 49}, {\"ano_coleta\": 1977.0, \"regiao_e_estado\": \"Rio de Janeiro, SE\", \"counts\": 1, \"cumulative_sum\": 50}, {\"ano_coleta\": 1978.0, \"regiao_e_estado\": \"Rio de Janeiro, SE\", \"counts\": 1, \"cumulative_sum\": 51}, {\"ano_coleta\": 1979.0, \"regiao_e_estado\": \"Rio de Janeiro, SE\", \"counts\": 1, \"cumulative_sum\": 52}, {\"ano_coleta\": 1980.0, \"regiao_e_estado\": \"Rio de Janeiro, SE\", \"counts\": 1, \"cumulative_sum\": 53}, {\"ano_coleta\": 1981.0, \"regiao_e_estado\": \"Rio de Janeiro, SE\", \"counts\": 1, \"cumulative_sum\": 54}, {\"ano_coleta\": 1982.0, \"regiao_e_estado\": \"Rio de Janeiro, SE\", \"counts\": 1, \"cumulative_sum\": 55}, {\"ano_coleta\": 1983.0, \"regiao_e_estado\": \"Rio de Janeiro, SE\", \"counts\": 1, \"cumulative_sum\": 56}, {\"ano_coleta\": 1984.0, \"regiao_e_estado\": \"Rio de Janeiro, SE\", \"counts\": 2, \"cumulative_sum\": 58}, {\"ano_coleta\": 1985.0, \"regiao_e_estado\": \"Rio de Janeiro, SE\", \"counts\": 1, \"cumulative_sum\": 59}, {\"ano_coleta\": 1986.0, \"regiao_e_estado\": \"Rio de Janeiro, SE\", \"counts\": 2, \"cumulative_sum\": 61}, {\"ano_coleta\": 1987.0, \"regiao_e_estado\": \"Rio de Janeiro, SE\", \"counts\": 2, \"cumulative_sum\": 63}, {\"ano_coleta\": 1988.0, \"regiao_e_estado\": \"Rio de Janeiro, SE\", \"counts\": 1, \"cumulative_sum\": 64}, {\"ano_coleta\": 1989.0, \"regiao_e_estado\": \"Rio de Janeiro, SE\", \"counts\": 2, \"cumulative_sum\": 66}, {\"ano_coleta\": 1990.0, \"regiao_e_estado\": \"Rio de Janeiro, SE\", \"counts\": 2, \"cumulative_sum\": 68}, {\"ano_coleta\": 1991.0, \"regiao_e_estado\": \"Rio de Janeiro, SE\", \"counts\": 2, \"cumulative_sum\": 70}, {\"ano_coleta\": 1992.0, \"regiao_e_estado\": \"Rio de Janeiro, SE\", \"counts\": 2, \"cumulative_sum\": 72}, {\"ano_coleta\": 1993.0, \"regiao_e_estado\": \"Rio de Janeiro, SE\", \"counts\": 2, \"cumulative_sum\": 74}, {\"ano_coleta\": 1994.0, \"regiao_e_estado\": \"Rio de Janeiro, SE\", \"counts\": 2, \"cumulative_sum\": 76}, {\"ano_coleta\": 1995.0, \"regiao_e_estado\": \"Rio de Janeiro, SE\", \"counts\": 2, \"cumulative_sum\": 78}, {\"ano_coleta\": 1996.0, \"regiao_e_estado\": \"Rio de Janeiro, SE\", \"counts\": 3, \"cumulative_sum\": 81}, {\"ano_coleta\": 1997.0, \"regiao_e_estado\": \"Rio de Janeiro, SE\", \"counts\": 2, \"cumulative_sum\": 83}, {\"ano_coleta\": 1998.0, \"regiao_e_estado\": \"Rio de Janeiro, SE\", \"counts\": 2, \"cumulative_sum\": 85}, {\"ano_coleta\": 1999.0, \"regiao_e_estado\": \"Rio de Janeiro, SE\", \"counts\": 2, \"cumulative_sum\": 87}, {\"ano_coleta\": 2000.0, \"regiao_e_estado\": \"Rio de Janeiro, SE\", \"counts\": 2, \"cumulative_sum\": 89}, {\"ano_coleta\": 2001.0, \"regiao_e_estado\": \"Rio de Janeiro, SE\", \"counts\": 2, \"cumulative_sum\": 91}, {\"ano_coleta\": 2002.0, \"regiao_e_estado\": \"Rio de Janeiro, SE\", \"counts\": 1, \"cumulative_sum\": 92}, {\"ano_coleta\": 2003.0, \"regiao_e_estado\": \"Rio de Janeiro, SE\", \"counts\": 1, \"cumulative_sum\": 93}, {\"ano_coleta\": 2004.0, \"regiao_e_estado\": \"Rio de Janeiro, SE\", \"counts\": 1, \"cumulative_sum\": 94}, {\"ano_coleta\": 2005.0, \"regiao_e_estado\": \"Rio de Janeiro, SE\", \"counts\": 1, \"cumulative_sum\": 95}, {\"ano_coleta\": 2006.0, \"regiao_e_estado\": \"Rio de Janeiro, SE\", \"counts\": 3, \"cumulative_sum\": 98}, {\"ano_coleta\": 2007.0, \"regiao_e_estado\": \"Rio de Janeiro, SE\", \"counts\": 2, \"cumulative_sum\": 100}, {\"ano_coleta\": 2008.0, \"regiao_e_estado\": \"Rio de Janeiro, SE\", \"counts\": 2, \"cumulative_sum\": 102}, {\"ano_coleta\": 2009.0, \"regiao_e_estado\": \"Rio de Janeiro, SE\", \"counts\": 3, \"cumulative_sum\": 105}, {\"ano_coleta\": 2010.0, \"regiao_e_estado\": \"Rio de Janeiro, SE\", \"counts\": 3, \"cumulative_sum\": 108}, {\"ano_coleta\": 2011.0, \"regiao_e_estado\": \"Rio de Janeiro, SE\", \"counts\": 2, \"cumulative_sum\": 110}, {\"ano_coleta\": 2012.0, \"regiao_e_estado\": \"Rio de Janeiro, SE\", \"counts\": 3, \"cumulative_sum\": 113}, {\"ano_coleta\": 2013.0, \"regiao_e_estado\": \"Rio de Janeiro, SE\", \"counts\": 3, \"cumulative_sum\": 116}, {\"ano_coleta\": 2014.0, \"regiao_e_estado\": \"Rio de Janeiro, SE\", \"counts\": 3, \"cumulative_sum\": 119}, {\"ano_coleta\": 2015.0, \"regiao_e_estado\": \"Rio de Janeiro, SE\", \"counts\": 1, \"cumulative_sum\": 120}, {\"ano_coleta\": 2016.0, \"regiao_e_estado\": \"Rio de Janeiro, SE\", \"counts\": 2, \"cumulative_sum\": 122}, {\"ano_coleta\": 1944.0, \"regiao_e_estado\": \"Rond\\u00f4nia, N\", \"counts\": 1, \"cumulative_sum\": 1}, {\"ano_coleta\": 1955.0, \"regiao_e_estado\": \"Rond\\u00f4nia, N\", \"counts\": 1, \"cumulative_sum\": 2}, {\"ano_coleta\": 1971.0, \"regiao_e_estado\": \"Rond\\u00f4nia, N\", \"counts\": 1, \"cumulative_sum\": 3}, {\"ano_coleta\": 1979.0, \"regiao_e_estado\": \"Rond\\u00f4nia, N\", \"counts\": 1, \"cumulative_sum\": 4}, {\"ano_coleta\": 1983.0, \"regiao_e_estado\": \"Rond\\u00f4nia, N\", \"counts\": 1, \"cumulative_sum\": 5}, {\"ano_coleta\": 1984.0, \"regiao_e_estado\": \"Rond\\u00f4nia, N\", \"counts\": 1, \"cumulative_sum\": 6}, {\"ano_coleta\": 1985.0, \"regiao_e_estado\": \"Rond\\u00f4nia, N\", \"counts\": 1, \"cumulative_sum\": 7}, {\"ano_coleta\": 1986.0, \"regiao_e_estado\": \"Rond\\u00f4nia, N\", \"counts\": 1, \"cumulative_sum\": 8}, {\"ano_coleta\": 1987.0, \"regiao_e_estado\": \"Rond\\u00f4nia, N\", \"counts\": 2, \"cumulative_sum\": 10}, {\"ano_coleta\": 1998.0, \"regiao_e_estado\": \"Rond\\u00f4nia, N\", \"counts\": 1, \"cumulative_sum\": 11}, {\"ano_coleta\": 2010.0, \"regiao_e_estado\": \"Rond\\u00f4nia, N\", \"counts\": 2, \"cumulative_sum\": 13}, {\"ano_coleta\": 2012.0, \"regiao_e_estado\": \"Rond\\u00f4nia, N\", \"counts\": 1, \"cumulative_sum\": 14}, {\"ano_coleta\": 2013.0, \"regiao_e_estado\": \"Rond\\u00f4nia, N\", \"counts\": 1, \"cumulative_sum\": 15}, {\"ano_coleta\": 1928.0, \"regiao_e_estado\": \"Roraima, N\", \"counts\": 1, \"cumulative_sum\": 1}, {\"ano_coleta\": 1932.0, \"regiao_e_estado\": \"Roraima, N\", \"counts\": 1, \"cumulative_sum\": 2}, {\"ano_coleta\": 1995.0, \"regiao_e_estado\": \"Roraima, N\", \"counts\": 1, \"cumulative_sum\": 3}, {\"ano_coleta\": 1998.0, \"regiao_e_estado\": \"Roraima, N\", \"counts\": 3, \"cumulative_sum\": 6}, {\"ano_coleta\": 2011.0, \"regiao_e_estado\": \"Roraima, N\", \"counts\": 1, \"cumulative_sum\": 7}, {\"ano_coleta\": 2012.0, \"regiao_e_estado\": \"Roraima, N\", \"counts\": 1, \"cumulative_sum\": 8}, {\"ano_coleta\": 1915.0, \"regiao_e_estado\": \"Santa Catarina, S\", \"counts\": 1, \"cumulative_sum\": 1}, {\"ano_coleta\": 1916.0, \"regiao_e_estado\": \"Santa Catarina, S\", \"counts\": 1, \"cumulative_sum\": 2}, {\"ano_coleta\": 1937.0, \"regiao_e_estado\": \"Santa Catarina, S\", \"counts\": 1, \"cumulative_sum\": 3}, {\"ano_coleta\": 1949.0, \"regiao_e_estado\": \"Santa Catarina, S\", \"counts\": 1, \"cumulative_sum\": 4}, {\"ano_coleta\": 1950.0, \"regiao_e_estado\": \"Santa Catarina, S\", \"counts\": 1, \"cumulative_sum\": 5}, {\"ano_coleta\": 1955.0, \"regiao_e_estado\": \"Santa Catarina, S\", \"counts\": 1, \"cumulative_sum\": 6}, {\"ano_coleta\": 1963.0, \"regiao_e_estado\": \"Santa Catarina, S\", \"counts\": 1, \"cumulative_sum\": 7}, {\"ano_coleta\": 1969.0, \"regiao_e_estado\": \"Santa Catarina, S\", \"counts\": 1, \"cumulative_sum\": 8}, {\"ano_coleta\": 1986.0, \"regiao_e_estado\": \"Santa Catarina, S\", \"counts\": 1, \"cumulative_sum\": 9}, {\"ano_coleta\": 1993.0, \"regiao_e_estado\": \"Santa Catarina, S\", \"counts\": 1, \"cumulative_sum\": 10}, {\"ano_coleta\": 1995.0, \"regiao_e_estado\": \"Santa Catarina, S\", \"counts\": 1, \"cumulative_sum\": 11}, {\"ano_coleta\": 1999.0, \"regiao_e_estado\": \"Santa Catarina, S\", \"counts\": 1, \"cumulative_sum\": 12}, {\"ano_coleta\": 2003.0, \"regiao_e_estado\": \"Santa Catarina, S\", \"counts\": 1, \"cumulative_sum\": 13}, {\"ano_coleta\": 2004.0, \"regiao_e_estado\": \"Santa Catarina, S\", \"counts\": 1, \"cumulative_sum\": 14}, {\"ano_coleta\": 2007.0, \"regiao_e_estado\": \"Santa Catarina, S\", \"counts\": 1, \"cumulative_sum\": 15}, {\"ano_coleta\": 2008.0, \"regiao_e_estado\": \"Santa Catarina, S\", \"counts\": 1, \"cumulative_sum\": 16}, {\"ano_coleta\": 2009.0, \"regiao_e_estado\": \"Santa Catarina, S\", \"counts\": 1, \"cumulative_sum\": 17}, {\"ano_coleta\": 2010.0, \"regiao_e_estado\": \"Santa Catarina, S\", \"counts\": 1, \"cumulative_sum\": 18}, {\"ano_coleta\": 2011.0, \"regiao_e_estado\": \"Santa Catarina, S\", \"counts\": 1, \"cumulative_sum\": 19}, {\"ano_coleta\": 2012.0, \"regiao_e_estado\": \"Santa Catarina, S\", \"counts\": 1, \"cumulative_sum\": 20}, {\"ano_coleta\": 2013.0, \"regiao_e_estado\": \"Santa Catarina, S\", \"counts\": 1, \"cumulative_sum\": 21}, {\"ano_coleta\": 2014.0, \"regiao_e_estado\": \"Santa Catarina, S\", \"counts\": 1, \"cumulative_sum\": 22}, {\"ano_coleta\": 2010.0, \"regiao_e_estado\": \"Santa Catarina-Rio Grande do Sul, S\", \"counts\": 1, \"cumulative_sum\": 1}, {\"ano_coleta\": 1989.0, \"regiao_e_estado\": \"Sergipe, NE\", \"counts\": 1, \"cumulative_sum\": 1}, {\"ano_coleta\": 1991.0, \"regiao_e_estado\": \"Sergipe, NE\", \"counts\": 3, \"cumulative_sum\": 4}, {\"ano_coleta\": 1992.0, \"regiao_e_estado\": \"Sergipe, NE\", \"counts\": 1, \"cumulative_sum\": 5}, {\"ano_coleta\": 1997.0, \"regiao_e_estado\": \"Sergipe, NE\", \"counts\": 1, \"cumulative_sum\": 6}, {\"ano_coleta\": 1998.0, \"regiao_e_estado\": \"Sergipe, NE\", \"counts\": 1, \"cumulative_sum\": 7}, {\"ano_coleta\": 2003.0, \"regiao_e_estado\": \"Sergipe, NE\", \"counts\": 1, \"cumulative_sum\": 8}, {\"ano_coleta\": 2004.0, \"regiao_e_estado\": \"Sergipe, NE\", \"counts\": 1, \"cumulative_sum\": 9}, {\"ano_coleta\": 2006.0, \"regiao_e_estado\": \"Sergipe, NE\", \"counts\": 1, \"cumulative_sum\": 10}, {\"ano_coleta\": 2007.0, \"regiao_e_estado\": \"Sergipe, NE\", \"counts\": 1, \"cumulative_sum\": 11}, {\"ano_coleta\": 2009.0, \"regiao_e_estado\": \"Sergipe, NE\", \"counts\": 1, \"cumulative_sum\": 12}, {\"ano_coleta\": 0.0, \"regiao_e_estado\": \"S\\u00e3o Paulo, SE\", \"counts\": 1, \"cumulative_sum\": 1}, {\"ano_coleta\": 1925.0, \"regiao_e_estado\": \"S\\u00e3o Paulo, SE\", \"counts\": 1, \"cumulative_sum\": 2}, {\"ano_coleta\": 1936.0, \"regiao_e_estado\": \"S\\u00e3o Paulo, SE\", \"counts\": 1, \"cumulative_sum\": 3}, {\"ano_coleta\": 1942.0, \"regiao_e_estado\": \"S\\u00e3o Paulo, SE\", \"counts\": 1, \"cumulative_sum\": 4}, {\"ano_coleta\": 1944.0, \"regiao_e_estado\": \"S\\u00e3o Paulo, SE\", \"counts\": 1, \"cumulative_sum\": 5}, {\"ano_coleta\": 1949.0, \"regiao_e_estado\": \"S\\u00e3o Paulo, SE\", \"counts\": 1, \"cumulative_sum\": 6}, {\"ano_coleta\": 1956.0, \"regiao_e_estado\": \"S\\u00e3o Paulo, SE\", \"counts\": 1, \"cumulative_sum\": 7}, {\"ano_coleta\": 1958.0, \"regiao_e_estado\": \"S\\u00e3o Paulo, SE\", \"counts\": 1, \"cumulative_sum\": 8}, {\"ano_coleta\": 1961.0, \"regiao_e_estado\": \"S\\u00e3o Paulo, SE\", \"counts\": 1, \"cumulative_sum\": 9}, {\"ano_coleta\": 1963.0, \"regiao_e_estado\": \"S\\u00e3o Paulo, SE\", \"counts\": 1, \"cumulative_sum\": 10}, {\"ano_coleta\": 1968.0, \"regiao_e_estado\": \"S\\u00e3o Paulo, SE\", \"counts\": 1, \"cumulative_sum\": 11}, {\"ano_coleta\": 1969.0, \"regiao_e_estado\": \"S\\u00e3o Paulo, SE\", \"counts\": 1, \"cumulative_sum\": 12}, {\"ano_coleta\": 1970.0, \"regiao_e_estado\": \"S\\u00e3o Paulo, SE\", \"counts\": 1, \"cumulative_sum\": 13}, {\"ano_coleta\": 1971.0, \"regiao_e_estado\": \"S\\u00e3o Paulo, SE\", \"counts\": 1, \"cumulative_sum\": 14}, {\"ano_coleta\": 1972.0, \"regiao_e_estado\": \"S\\u00e3o Paulo, SE\", \"counts\": 1, \"cumulative_sum\": 15}, {\"ano_coleta\": 1973.0, \"regiao_e_estado\": \"S\\u00e3o Paulo, SE\", \"counts\": 1, \"cumulative_sum\": 16}, {\"ano_coleta\": 1974.0, \"regiao_e_estado\": \"S\\u00e3o Paulo, SE\", \"counts\": 1, \"cumulative_sum\": 17}, {\"ano_coleta\": 1975.0, \"regiao_e_estado\": \"S\\u00e3o Paulo, SE\", \"counts\": 2, \"cumulative_sum\": 19}, {\"ano_coleta\": 1976.0, \"regiao_e_estado\": \"S\\u00e3o Paulo, SE\", \"counts\": 2, \"cumulative_sum\": 21}, {\"ano_coleta\": 1977.0, \"regiao_e_estado\": \"S\\u00e3o Paulo, SE\", \"counts\": 1, \"cumulative_sum\": 22}, {\"ano_coleta\": 1978.0, \"regiao_e_estado\": \"S\\u00e3o Paulo, SE\", \"counts\": 1, \"cumulative_sum\": 23}, {\"ano_coleta\": 1979.0, \"regiao_e_estado\": \"S\\u00e3o Paulo, SE\", \"counts\": 1, \"cumulative_sum\": 24}, {\"ano_coleta\": 1980.0, \"regiao_e_estado\": \"S\\u00e3o Paulo, SE\", \"counts\": 1, \"cumulative_sum\": 25}, {\"ano_coleta\": 1981.0, \"regiao_e_estado\": \"S\\u00e3o Paulo, SE\", \"counts\": 1, \"cumulative_sum\": 26}, {\"ano_coleta\": 1982.0, \"regiao_e_estado\": \"S\\u00e3o Paulo, SE\", \"counts\": 1, \"cumulative_sum\": 27}, {\"ano_coleta\": 1983.0, \"regiao_e_estado\": \"S\\u00e3o Paulo, SE\", \"counts\": 1, \"cumulative_sum\": 28}, {\"ano_coleta\": 1984.0, \"regiao_e_estado\": \"S\\u00e3o Paulo, SE\", \"counts\": 1, \"cumulative_sum\": 29}, {\"ano_coleta\": 1985.0, \"regiao_e_estado\": \"S\\u00e3o Paulo, SE\", \"counts\": 1, \"cumulative_sum\": 30}, {\"ano_coleta\": 1986.0, \"regiao_e_estado\": \"S\\u00e3o Paulo, SE\", \"counts\": 1, \"cumulative_sum\": 31}, {\"ano_coleta\": 1987.0, \"regiao_e_estado\": \"S\\u00e3o Paulo, SE\", \"counts\": 2, \"cumulative_sum\": 33}, {\"ano_coleta\": 1988.0, \"regiao_e_estado\": \"S\\u00e3o Paulo, SE\", \"counts\": 1, \"cumulative_sum\": 34}, {\"ano_coleta\": 1989.0, \"regiao_e_estado\": \"S\\u00e3o Paulo, SE\", \"counts\": 1, \"cumulative_sum\": 35}, {\"ano_coleta\": 1990.0, \"regiao_e_estado\": \"S\\u00e3o Paulo, SE\", \"counts\": 1, \"cumulative_sum\": 36}, {\"ano_coleta\": 1991.0, \"regiao_e_estado\": \"S\\u00e3o Paulo, SE\", \"counts\": 1, \"cumulative_sum\": 37}, {\"ano_coleta\": 1992.0, \"regiao_e_estado\": \"S\\u00e3o Paulo, SE\", \"counts\": 1, \"cumulative_sum\": 38}, {\"ano_coleta\": 1993.0, \"regiao_e_estado\": \"S\\u00e3o Paulo, SE\", \"counts\": 1, \"cumulative_sum\": 39}, {\"ano_coleta\": 1994.0, \"regiao_e_estado\": \"S\\u00e3o Paulo, SE\", \"counts\": 1, \"cumulative_sum\": 40}, {\"ano_coleta\": 1995.0, \"regiao_e_estado\": \"S\\u00e3o Paulo, SE\", \"counts\": 1, \"cumulative_sum\": 41}, {\"ano_coleta\": 1996.0, \"regiao_e_estado\": \"S\\u00e3o Paulo, SE\", \"counts\": 1, \"cumulative_sum\": 42}, {\"ano_coleta\": 1997.0, \"regiao_e_estado\": \"S\\u00e3o Paulo, SE\", \"counts\": 1, \"cumulative_sum\": 43}, {\"ano_coleta\": 1998.0, \"regiao_e_estado\": \"S\\u00e3o Paulo, SE\", \"counts\": 1, \"cumulative_sum\": 44}, {\"ano_coleta\": 1999.0, \"regiao_e_estado\": \"S\\u00e3o Paulo, SE\", \"counts\": 1, \"cumulative_sum\": 45}, {\"ano_coleta\": 2000.0, \"regiao_e_estado\": \"S\\u00e3o Paulo, SE\", \"counts\": 1, \"cumulative_sum\": 46}, {\"ano_coleta\": 2001.0, \"regiao_e_estado\": \"S\\u00e3o Paulo, SE\", \"counts\": 1, \"cumulative_sum\": 47}, {\"ano_coleta\": 2002.0, \"regiao_e_estado\": \"S\\u00e3o Paulo, SE\", \"counts\": 1, \"cumulative_sum\": 48}, {\"ano_coleta\": 2003.0, \"regiao_e_estado\": \"S\\u00e3o Paulo, SE\", \"counts\": 1, \"cumulative_sum\": 49}, {\"ano_coleta\": 2004.0, \"regiao_e_estado\": \"S\\u00e3o Paulo, SE\", \"counts\": 1, \"cumulative_sum\": 50}, {\"ano_coleta\": 2005.0, \"regiao_e_estado\": \"S\\u00e3o Paulo, SE\", \"counts\": 1, \"cumulative_sum\": 51}, {\"ano_coleta\": 2006.0, \"regiao_e_estado\": \"S\\u00e3o Paulo, SE\", \"counts\": 1, \"cumulative_sum\": 52}, {\"ano_coleta\": 2007.0, \"regiao_e_estado\": \"S\\u00e3o Paulo, SE\", \"counts\": 1, \"cumulative_sum\": 53}, {\"ano_coleta\": 2008.0, \"regiao_e_estado\": \"S\\u00e3o Paulo, SE\", \"counts\": 1, \"cumulative_sum\": 54}, {\"ano_coleta\": 2009.0, \"regiao_e_estado\": \"S\\u00e3o Paulo, SE\", \"counts\": 1, \"cumulative_sum\": 55}, {\"ano_coleta\": 2010.0, \"regiao_e_estado\": \"S\\u00e3o Paulo, SE\", \"counts\": 1, \"cumulative_sum\": 56}, {\"ano_coleta\": 2011.0, \"regiao_e_estado\": \"S\\u00e3o Paulo, SE\", \"counts\": 1, \"cumulative_sum\": 57}, {\"ano_coleta\": 2012.0, \"regiao_e_estado\": \"S\\u00e3o Paulo, SE\", \"counts\": 1, \"cumulative_sum\": 58}, {\"ano_coleta\": 2013.0, \"regiao_e_estado\": \"S\\u00e3o Paulo, SE\", \"counts\": 1, \"cumulative_sum\": 59}, {\"ano_coleta\": 2014.0, \"regiao_e_estado\": \"S\\u00e3o Paulo, SE\", \"counts\": 1, \"cumulative_sum\": 60}, {\"ano_coleta\": 2015.0, \"regiao_e_estado\": \"S\\u00e3o Paulo, SE\", \"counts\": 1, \"cumulative_sum\": 61}, {\"ano_coleta\": 2016.0, \"regiao_e_estado\": \"S\\u00e3o Paulo, SE\", \"counts\": 1, \"cumulative_sum\": 62}, {\"ano_coleta\": 1981.0, \"regiao_e_estado\": \"Tocantins, N\", \"counts\": 1, \"cumulative_sum\": 1}, {\"ano_coleta\": 1987.0, \"regiao_e_estado\": \"Tocantins, N\", \"counts\": 1, \"cumulative_sum\": 2}, {\"ano_coleta\": 1989.0, \"regiao_e_estado\": \"Tocantins, N\", \"counts\": 1, \"cumulative_sum\": 3}, {\"ano_coleta\": 2002.0, \"regiao_e_estado\": \"Tocantins, N\", \"counts\": 1, \"cumulative_sum\": 4}, {\"ano_coleta\": 2005.0, \"regiao_e_estado\": \"Tocantins, N\", \"counts\": 1, \"cumulative_sum\": 5}, {\"ano_coleta\": 2006.0, \"regiao_e_estado\": \"Tocantins, N\", \"counts\": 1, \"cumulative_sum\": 6}, {\"ano_coleta\": 2007.0, \"regiao_e_estado\": \"Tocantins, N\", \"counts\": 1, \"cumulative_sum\": 7}, {\"ano_coleta\": 2008.0, \"regiao_e_estado\": \"Tocantins, N\", \"counts\": 2, \"cumulative_sum\": 9}, {\"ano_coleta\": 2009.0, \"regiao_e_estado\": \"Tocantins, N\", \"counts\": 1, \"cumulative_sum\": 10}, {\"ano_coleta\": 2010.0, \"regiao_e_estado\": \"Tocantins, N\", \"counts\": 1, \"cumulative_sum\": 11}, {\"ano_coleta\": 2011.0, \"regiao_e_estado\": \"Tocantins, N\", \"counts\": 1, \"cumulative_sum\": 12}, {\"ano_coleta\": 2013.0, \"regiao_e_estado\": \"Tocantins, N\", \"counts\": 1, \"cumulative_sum\": 13}, {\"ano_coleta\": 2014.0, \"regiao_e_estado\": \"Tocantins, N\", \"counts\": 1, \"cumulative_sum\": 14}]}}, {\"mode\": \"vega-lite\"});\n",
       "</script>"
      ],
      "text/plain": [
       "alt.Chart(...)"
      ]
     },
     "execution_count": 48,
     "metadata": {},
     "output_type": "execute_result"
    }
   ],
   "source": [
    "g1 = alt.Chart(teste, title='Evolução temporal da coleção por Estado', width=600).mark_line(point=True).encode(\n",
    "    x= alt.X('ano_coleta', type=\"ordinal\", title='Ano de Coleta'),\n",
    "    y= alt.Y('cumulative_sum', title='', \n",
    "             sort=alt.EncodingSortField('counts', op=\"count\", order='descending')),\n",
    "    color= alt.Color('regiao_e_estado:N', title='Estado, Região', \n",
    "                        legend= alt.Legend(columns=2), \n",
    "                     sort= sorting),\n",
    "    tooltip= alt.Tooltip(['regiao_e_estado','ano_coleta','counts', 'cumulative_sum'])\n",
    ")\n",
    "\n",
    "g1 = g1.configure_title(fontSize=16).configure_axis(\n",
    "    labelFontSize=12,\n",
    "    titleFontSize=12\n",
    ").configure_legend(\n",
    "    labelFontSize=12,\n",
    "    titleFontSize=12\n",
    ")\n",
    "\n",
    "# g1.save('./graphs/cumCounts/time-spacial/evolucao_por_estado.html')\n",
    "\n",
    "g1"
   ]
  },
  {
   "cell_type": "markdown",
   "metadata": {},
   "source": [
    "<br>\n",
    "\n",
    "## Lat Long"
   ]
  },
  {
   "cell_type": "code",
   "execution_count": 16,
   "metadata": {
    "ExecuteTime": {
     "end_time": "2020-08-29T16:05:42.726874Z",
     "start_time": "2020-08-29T16:05:42.701216Z"
    }
   },
   "outputs": [],
   "source": [
    "def regiao(est):\n",
    "    if est not in regioes.keys():\n",
    "        return np.NAN\n",
    "    else:\n",
    "        return regioes[est]\n",
    "    \n",
    "NewTable['regiao'] = NewTable['estado_ou_provincia'].apply(regiao)"
   ]
  },
  {
   "cell_type": "code",
   "execution_count": 17,
   "metadata": {
    "ExecuteTime": {
     "end_time": "2020-08-29T16:05:43.152058Z",
     "start_time": "2020-08-29T16:05:43.129332Z"
    }
   },
   "outputs": [],
   "source": [
    "from vega_datasets import data\n",
    "\n",
    "source = alt.topo_feature(data.world_110m.url, 'countries')\n",
    "\n",
    "world = alt.Chart(source).mark_geoshape(\n",
    "    fill='white',\n",
    "    stroke='gray'\n",
    ").project('naturalEarth1')\n",
    "\n",
    "# world"
   ]
  },
  {
   "cell_type": "code",
   "execution_count": 18,
   "metadata": {
    "ExecuteTime": {
     "end_time": "2020-08-29T16:05:51.431313Z",
     "start_time": "2020-08-29T16:05:44.024771Z"
    }
   },
   "outputs": [],
   "source": [
    "# dynamic version\n",
    "slider = alt.binding_range(min=1900, max=2016, step=1)\n",
    "select_year = alt.selection_single(name=' ', fields=['ano_coleta'],\n",
    "                                   bind=slider, init={'ano_coleta': 1935})\n",
    "\n",
    "# data = NewTable[(NewTable['long'] < 10) & (NewTable['long'] >-150)].copy()\n",
    "data = NewTable.copy()\n",
    "\n",
    "back = alt.Chart(data).mark_circle(opacity=0.7, color='lightgray').encode(\n",
    "    longitude = alt.X('long', type='quantitative', title='Longitude'),\n",
    "    latitude = alt.Y('lat', type='quantitative', title='Latitude'),\n",
    "    tooltip = alt.Tooltip(['lat','long','pais','regiao','estado_ou_provincia',\n",
    "                           'ano_coleta','mes_coleta', 'ordem'])\n",
    ")\n",
    "\n",
    "front = alt.Chart(data).mark_circle().encode(\n",
    "    longitude = alt.X('long', type='quantitative', title='Longitude'),\n",
    "    latitude = alt.Y('lat', type='quantitative', title='Latitude'),\n",
    "    color = alt.Color('ordem:N', title='Ordem', scale=\n",
    "                     alt.Scale(range=cores, domain=ordens)),\n",
    "    tooltip = alt.Tooltip(['lat','long','pais','regiao','estado_ou_provincia',\n",
    "                           'ano_coleta','mes_coleta', 'ordem'])\n",
    ").add_selection(\n",
    "    select_year\n",
    ").transform_filter(\n",
    "    select_year\n",
    ")\n",
    "\n",
    "equador = alt.Chart(data[data['lat'] == 0], width=800, height= 400).mark_rule(color='black').encode(\n",
    "    y = alt.Y('lat:Q', axis=alt.Axis(grid=False))\n",
    ")\n",
    "\n",
    "\n",
    "g = alt.layer(world, back, front).properties(\n",
    "    width= 800,\n",
    "    height= 500\n",
    ")  # tirei o equador\n",
    "\n",
    "# ajustando tamanho de fonte\n",
    "g = g.configure_title(fontSize=16).configure_axis(\n",
    "    labelFontSize=12,\n",
    "    titleFontSize=12\n",
    ").configure_legend(\n",
    "    labelFontSize=12,\n",
    "    titleFontSize=12\n",
    ")\n",
    "\n",
    "# g.save('./graphs/time-spacial/lat_long-worldwide.html')\n",
    "\n",
    "# g"
   ]
  },
  {
   "cell_type": "markdown",
   "metadata": {},
   "source": [
    "<br>\n",
    "\n",
    "<font color='red' size='5'>Lat long (layout 2 estático)</font>"
   ]
  },
  {
   "cell_type": "code",
   "execution_count": 49,
   "metadata": {},
   "outputs": [],
   "source": [
    "# https://nextjournal.com/sdanisch/cartographic-visualization\n",
    "\n",
    "# seletores\n",
    "select_order = alt.selection_multi(fields=['ordem'], bind='legend')\n",
    "select_type = alt.selection_multi(fields=['type_status'], bind='legend')\n",
    "\n",
    "tipos = NewTable['type_status'].unique()  # lista temporária! ajustar depois!\n",
    "\n",
    "# AJUSTAR CORES\n",
    "\n",
    "from vega_datasets import data\n",
    "\n",
    "front = alt.Chart(NewTable).mark_point(filled=True).encode(\n",
    "    longitude = alt.X('long', type='quantitative', title='Longitude'),\n",
    "    latitude = alt.Y('lat', type='quantitative', title='Latitude'),\n",
    "    color = alt.Color('ordem:N', title='Ordem', scale=\n",
    "                     alt.Scale(range=cores, domain=ordens)),\n",
    "    shape = alt.Shape('type_status:N', title='Type', scale= alt.Scale(domain=tipos)),\n",
    "    tooltip = alt.Tooltip(['lat','long','pais','regiao','estado_ou_provincia',\n",
    "                           'ano_coleta','mes_coleta', 'genero_atual','familia','ordem', 'type_status'])\n",
    ").add_selection(select_order, select_type).transform_filter(select_order).transform_filter(select_type)\n",
    "\n",
    "mapa = alt.layer(\n",
    "     # use the sphere of the Earth as the base layer\n",
    "    alt.Chart({'sphere': True}).mark_geoshape(\n",
    "        fill='#f2f2f2'\n",
    "    ),\n",
    "    # add a graticule for geographic reference lines\n",
    "    alt.Chart({'graticule': True}).mark_geoshape(\n",
    "        stroke='#ffffff', strokeWidth=1\n",
    "    ),\n",
    "    # and then the countries of the world\n",
    "    alt.Chart(alt.topo_feature(data.world_110m.url, 'countries')).mark_geoshape(\n",
    "        fill='#white', stroke='black', strokeWidth=0.5\n",
    "    ),\n",
    "    front\n",
    ").properties(\n",
    "    width=800,\n",
    "    height=500\n",
    ")\n",
    "\n",
    "mapa = mapa.project(\n",
    "    type='naturalEarth1', scale=140\n",
    ").configure_view(stroke=None)\n",
    "\n",
    "mapa = mapa.configure_title(fontSize=16).configure_axis(\n",
    "    labelFontSize=12,\n",
    "    titleFontSize=12\n",
    ").configure_legend(\n",
    "    labelFontSize=12,\n",
    "    titleFontSize=12\n",
    ")\n",
    "\n",
    "# mapa.save('./graphs/time-spacial/lat_long-worldwide-static-grid.html')\n",
    "\n",
    "# mapa"
   ]
  },
  {
   "cell_type": "code",
   "execution_count": 52,
   "metadata": {},
   "outputs": [],
   "source": [
    "teste = alt.Chart(NewTable).mark_point(filled=True).encode(\n",
    "    longitude = alt.X('long:Q', title='Longitude'),\n",
    "    latitude = alt.Y('lat:Q', title='Latitude'),\n",
    "    color = alt.Color('ordem:N', title='Ordem', scale = alt.Scale(range=cores, domain=ordens)),\n",
    "    shape = alt.Shape('type_status:N', title='Type', scale= alt.Scale(domain=tipos)),\n",
    "    tooltip = alt.Tooltip(['lat','long','pais','regiao','estado_ou_provincia',\n",
    "                           'ano_coleta','mes_coleta', 'genero_atual','familia','ordem', 'type_status'])\n",
    ").project(type='naturalEarth1').add_selection(select_order, \n",
    "                            select_type).transform_filter(select_order).transform_filter(select_type)\n",
    "\n",
    "temp = (world + teste).properties(width=800, height=500).configure_title(fontSize=16).configure_axis(\n",
    "    labelFontSize=12,\n",
    "    titleFontSize=12\n",
    ").configure_legend(\n",
    "    labelFontSize=12,\n",
    "    titleFontSize=12\n",
    ")\n",
    "\n",
    "# temp.save('./graphs/time-spacial/lat_long-worldwide-static.html')\n",
    "# temp"
   ]
  },
  {
   "cell_type": "markdown",
   "metadata": {},
   "source": [
    "<br>\n",
    "\n",
    "### Latin America"
   ]
  },
  {
   "cell_type": "code",
   "execution_count": 53,
   "metadata": {},
   "outputs": [],
   "source": [
    "# seletores\n",
    "select_order = alt.selection_multi(fields=['ordem'], bind='legend')\n",
    "select_type = alt.selection_multi(fields=['type_status'], bind='legend')\n",
    "\n",
    "tipos = NewTable['type_status'].unique()  # lista temporária! ajustar depois!\n",
    "\n",
    "# mapa\n",
    "from vega_datasets import data\n",
    "\n",
    "source = alt.topo_feature(data.world_110m.url, 'countries')\n",
    "\n",
    "latinAmerica = alt.Chart(source).mark_geoshape(\n",
    "    fill='white',\n",
    "    stroke='gray'\n",
    ").project('naturalEarth1', translate=[680, 150], scale=450)\n",
    "\n",
    "# pontos\n",
    "teste = alt.Chart(NewTable).mark_point(filled=True).encode(\n",
    "    longitude = alt.X('long:Q', title='Longitude'),\n",
    "    latitude = alt.Y('lat:Q', title='Latitude'),\n",
    "    color = alt.Color('ordem:N', title='Order', scale = alt.Scale(range=cores, domain=ordens)),\n",
    "    shape = alt.Shape('type_status:N', title='Type', scale= alt.Scale(domain=tipos)),\n",
    "    tooltip = alt.Tooltip(['lat','long','pais','regiao','estado_ou_provincia',\n",
    "                           'ano_coleta','mes_coleta', 'genero_atual','familia','ordem', 'type_status'])\n",
    ").project(type='naturalEarth1', translate=[680, 150], scale=450).add_selection(select_order,\n",
    "                                select_type).transform_filter(select_order).transform_filter(select_type)\n",
    "\n",
    "\n",
    "# configurando grafico\n",
    "temp = (latinAmerica + teste).properties(width=600, height=600).configure_title(fontSize=16).configure_axis(\n",
    "    labelFontSize=12,\n",
    "    titleFontSize=12\n",
    ").configure_legend(\n",
    "    labelFontSize=12,\n",
    "    titleFontSize=12\n",
    ")\n",
    "\n",
    "# temp.save('./graphs/time-spacial/lat_long-latinAmerica-static.html')\n",
    "# temp"
   ]
  },
  {
   "cell_type": "markdown",
   "metadata": {},
   "source": [
    "**Fim!**"
   ]
  }
 ],
 "metadata": {
  "kernelspec": {
   "display_name": "Python 3",
   "language": "python",
   "name": "python3"
  },
  "language_info": {
   "codemirror_mode": {
    "name": "ipython",
    "version": 3
   },
   "file_extension": ".py",
   "mimetype": "text/x-python",
   "name": "python",
   "nbconvert_exporter": "python",
   "pygments_lexer": "ipython3",
   "version": "3.8.3"
  },
  "latex_envs": {
   "LaTeX_envs_menu_present": true,
   "autoclose": false,
   "autocomplete": true,
   "bibliofile": "biblio.bib",
   "cite_by": "apalike",
   "current_citInitial": 1,
   "eqLabelWithNumbers": true,
   "eqNumInitial": 1,
   "hotkeys": {
    "equation": "Ctrl-E",
    "itemize": "Ctrl-I"
   },
   "labels_anchors": false,
   "latex_user_defs": false,
   "report_style_numbering": false,
   "user_envs_cfg": false
  },
  "varInspector": {
   "cols": {
    "lenName": 16,
    "lenType": 16,
    "lenVar": 40
   },
   "kernels_config": {
    "python": {
     "delete_cmd_postfix": "",
     "delete_cmd_prefix": "del ",
     "library": "var_list.py",
     "varRefreshCmd": "print(var_dic_list())"
    },
    "r": {
     "delete_cmd_postfix": ") ",
     "delete_cmd_prefix": "rm(",
     "library": "var_list.r",
     "varRefreshCmd": "cat(var_dic_list()) "
    }
   },
   "types_to_exclude": [
    "module",
    "function",
    "builtin_function_or_method",
    "instance",
    "_Feature"
   ],
   "window_display": false
  }
 },
 "nbformat": 4,
 "nbformat_minor": 4
}
