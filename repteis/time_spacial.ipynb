{
 "cells": [
  {
   "cell_type": "markdown",
   "metadata": {},
   "source": [
    "# Time-Spacial Exploration\n",
    "\n",
    "By **Franklin Oliveira**\n",
    "\n",
    "-----\n",
    "This notebook contains all code necessary to make charts from `repteis` database with focus on time and space exploration. Here you'll find some basic data treatment and charts' code. \n",
    "\n",
    "Database: <font color='blue'>'Compilacao Livros Repteis - 2 a 10 - 2020_04_28.xls'</font>.m\n",
    "    "
   ]
  },
  {
   "cell_type": "code",
   "execution_count": 1,
   "metadata": {
    "ExecuteTime": {
     "end_time": "2021-02-08T14:22:10.034413Z",
     "start_time": "2021-02-08T14:22:09.113376Z"
    }
   },
   "outputs": [
    {
     "data": {
      "text/plain": [
       "DataTransformerRegistry.enable('default')"
      ]
     },
     "execution_count": 1,
     "metadata": {},
     "output_type": "execute_result"
    }
   ],
   "source": [
    "import datetime\n",
    "import numpy as np\n",
    "import pandas as pd\n",
    "\n",
    "from collections import defaultdict\n",
    "\n",
    "# quick visualization\n",
    "import matplotlib.pyplot as plt\n",
    "import seaborn as sns\n",
    "\n",
    "# Waffle Charts\n",
    "# from pywaffle import Waffle \n",
    "# docs: https://pywaffle.readthedocs.io/en/latest/examples/block_shape_distance_location_and_direction.html\n",
    "\n",
    "# visualization\n",
    "import altair as alt\n",
    "\n",
    "# enabling notebook renderer\n",
    "# alt.renderers.enable('notebook')\n",
    "# alt.renderers.enable('default')\n",
    "\n",
    "# disabling rows limit\n",
    "alt.data_transformers.disable_max_rows()"
   ]
  },
  {
   "cell_type": "markdown",
   "metadata": {},
   "source": [
    "## Importing data..."
   ]
  },
  {
   "cell_type": "code",
   "execution_count": 2,
   "metadata": {
    "ExecuteTime": {
     "end_time": "2021-02-08T14:22:11.437624Z",
     "start_time": "2021-02-08T14:22:11.201231Z"
    }
   },
   "outputs": [],
   "source": [
    "NewTable = pd.read_csv('./data/treated_db.csv', sep=';', encoding='utf-8-sig', low_memory=False)"
   ]
  },
  {
   "cell_type": "markdown",
   "metadata": {},
   "source": [
    "<br>\n",
    "\n",
    "<font size=5>**Color palette per Order**</font>\n",
    "\n",
    "The image below served as inspiration (https://color.adobe.com/create/image)\n",
    "\n",
    "<img src=\"./src/paleta_cores.jpeg\" width='500px'>\n",
    "\n",
    "Cores: \n",
    "\n",
    "- verde_escuro: #284021\n",
    "- verde_claro: #88BF11\n",
    "- amarelo: #D9CB0B\n",
    "- laranja: #D99311\n",
    "- laranja_escuro: #BF4417\n",
    "- marrom-_laro: #BF8D7A"
   ]
  },
  {
   "cell_type": "code",
   "execution_count": 3,
   "metadata": {
    "ExecuteTime": {
     "end_time": "2021-02-08T14:22:26.428338Z",
     "start_time": "2021-02-08T14:22:26.421126Z"
    }
   },
   "outputs": [],
   "source": [
    "# importing customized color palettes\n",
    "from src.MNViz_colors import *"
   ]
  },
  {
   "cell_type": "code",
   "execution_count": 4,
   "metadata": {
    "ExecuteTime": {
     "end_time": "2021-02-08T14:22:27.194637Z",
     "start_time": "2021-02-08T14:22:27.188845Z"
    }
   },
   "outputs": [],
   "source": [
    "# p.s.: Caudata is an error and should be removed\n",
    "# cores_ordem = {\n",
    "#     'Squamata': '#BF4417',\n",
    "#     'Testudines': '#D9CB0B', \n",
    "#     'Crocodylia': '#284021'\n",
    "# }\n",
    "\n",
    "ordens = list(cores_ordem.keys())\n",
    "cores = list(cores_ordem.values())"
   ]
  },
  {
   "cell_type": "markdown",
   "metadata": {},
   "source": [
    "**Paleta de Cores - Família:**\n",
    "\n",
    "- grupo 1: 1 cor  (verde escuro)\n",
    "<ul>\n",
    "    <li style=\"color:#142611\"><b>centroide 1</b></li>\n",
    "</ul>\n",
    "- grupo 2: 8 cores\n",
    "<ul>\n",
    "    <li style=\"color:#85D907\"><b>centroide 2</b></li>\n",
    "</ul>\n",
    "\n",
    "['#d7ff81', '#bafd62', '#9feb3f', '#85d907', '#6cc700', '#52b700', '#35a600', '#0b9700', '#008800']\n",
    "\n",
    "<font color=\"#d7ff81\"><b>cor 1</b> (ficou fora)</font>\n",
    "<font color=\"#bafd62\"><b>cor 2</b></font>\n",
    "<font color=\"#9feb3f\"><b>cor 3</b></font>\n",
    "<font color=\"#85d907\"><b>cor 4</b></font>\n",
    "<font color=\"#6cc700\"><b>cor 5</b></font>\n",
    "<font color=\"#52b700\"><b>cor 6</b></font>\n",
    "<font color=\"#35a600\"><b>cor 7</b></font>\n",
    "<font color=\"#0b9700\"><b>cor 8</b></font>\n",
    "<font color=\"#008800\"><b>cor 9</b></font>\n",
    "\n",
    "\n",
    "- grupo 3: 2 cores\n",
    "#888C03\n",
    "<ul>\n",
    "    <li style=\"color:#22401E\"><b>centroide 3 (puxando para tons frios mais claros)</b></li>\n",
    "</ul>\n",
    "\n",
    "<font color=\"#99b6b2\"><b>cor 1</b></font>\n",
    "<font color=\"#81a58b\"><b>cor 2</b></font>\n",
    "\n",
    "\n",
    "- grupo 4: 1 cor  (amarelo)\n",
    "<ul>\n",
    "    <li style=\"color:#F2CB07\"><b>centroide 4</b></li>\n",
    "</ul>\n",
    "\n",
    "- grupo 5: 10 cores\n",
    "<ul>\n",
    "    <li style=\"color:#cb97d4\"><b>centroide 5 (puxando para o roxo)</b></li>\n",
    "</ul>\n",
    "\n",
    "['#f8dcf9', '#ebc5ed', '#ddafe2', '#ce9ad6', '#bf86cc', '#af73c2', '#a160b8', '#924fae', '#833fa4'] #803da1\n",
    "\n",
    "<font color=\"#f8dcf9\"><b>cor 1</b></font>\n",
    "<font color=\"#ebc5ed\"><b>cor 2</b></font>\n",
    "<font color=\"#ddafe2\"><b>cor 3</b></font>\n",
    "<font color=\"#ce9ad6\"><b>cor 4</b></font>\n",
    "<font color=\"#bf86cc\"><b>cor 5</b></font>\n",
    "<font color=\"#af73c2\"><b>cor 6</b></font>\n",
    "<font color=\"#a160b8\"><b>cor 7</b></font>\n",
    "<font color=\"#924fae\"><b>cor 8</b></font>\n",
    "<font color=\"#833fa4\"><b>cor 9</b></font>\n",
    "<font color=\"#803da1\"><b>cor 10</b></font>\n",
    "\n",
    "\n",
    "- grupo 6: 12 cores\n",
    "<ul>\n",
    "    <li style=\"color:#91F2E9\"><b>centroide 6</b></li>\n",
    "</ul>\n",
    "\n",
    "['#c9fff9', '#b3eff2', '#9cdcea', '#83c9e2', '#68b7da', '#4aa6d2', '#2096ca', '#0087c1', '#0079b7']\n",
    "\n",
    "['#cee5d8', '#b3d2d1', '#9bbfc9', '#83adc2', '#6d9bba', '#568ab2', '#3e7baa', '#226ca2', '#005e98']\n",
    "\n",
    "\n",
    "<font color=\"#c9fff9\"><b>cor 1</b></font>\n",
    "<font color=\"#b3eff2\"><b>cor 2</b></font>\n",
    "<font color=\"#9cdcea\"><b>cor 3</b></font>\n",
    "<font color=\"#83c9e2\"><b>cor 4</b></font>\n",
    "<font color=\"#68b7da\"><b>cor 5</b></font>\n",
    "<font color=\"#4aa6d2\"><b>cor 6</b></font>\n",
    "<font color=\"#2096ca\"><b>cor 7</b></font>\n",
    "<font color=\"#0087c1\"><b>cor 8</b></font>\n",
    "<font color=\"#0079b7\"><b>cor 9</b></font>\n",
    "<font color=\"#3e7baa\"><b>cor 10</b></font>\n",
    "<font color=\"#226ca2\"><b>cor 11</b></font>\n",
    "<font color=\"#005e98\"><b>cor 12</b></font>\n",
    "\n",
    "\n",
    "- grupo 7: 3 cores\n",
    "<ul>\n",
    "    <li style=\"color:#8C1A0F\"><b>centroide 7 (puxando para o marrom)</b></li>\n",
    "</ul>\n",
    "\n",
    "['#fde5bf', '#efd09f', '#e1bb82', '#d3a767', '#c6934d', '#b98033', '#ac6f18', '#9e5e00', '#914e00']\n",
    "\n",
    "<font color=\"#ac6f18\"><b>cor 1</b></font>\n",
    "<font color=\"#9e5e00\"><b>cor 2</b></font>\n",
    "<font color=\"#914e00\"><b>cor 3</b></font>\n",
    "\n",
    "\n",
    "- grupo 8: 13 cores\n",
    "<ul>\n",
    "    <li style=\"color:#D9430D\"><b>centroide 8</b></li>\n",
    "</ul>\n",
    "\n",
    "['#ffce9f', '#ffb683', '#ff9f69', '#ff8851', '#f5723b', '#e75b25', '#d9430d', '#cb2800', '#bc0000']\n",
    "\n",
    "['#ff8f68', '#ff7e56', '#ff6b40', '#ee5829', '#d9430d', '#c62f00', '#b41b00', '#a40300', '#930000']\n",
    "\n",
    "<font color=\"#ffce9f\"><b>cor 1</b></font>\n",
    "<font color=\"#ffb683\"><b>cor 2</b></font>\n",
    "<font color=\"#ff9f69\"><b>cor 3</b></font>\n",
    "<font color=\"#ff8851\"><b>cor 4</b></font>\n",
    "<font color=\"#f5723b\"><b>cor 5</b></font>\n",
    "<font color=\"#e75b25\"><b>cor 6</b></font>\n",
    "<font color=\"#d9430d\"><b>cor 7</b></font>\n",
    "<font color=\"#cb2800\"><b>cor 8</b></font>\n",
    "<font color=\"#bc0000\"><b>cor 9</b></font>\n",
    "<font color=\"#c62f00\"><b>cor 10</b></font>\n",
    "<font color=\"#b41b00\"><b>cor 11</b></font>\n",
    "<font color=\"#a40300\"><b>cor 12</b></font>\n",
    "<font color=\"#930000\"><b>cor 13</b></font>\n",
    "\n",
    "<br>\n",
    "\n",
    "**TOTAL: 50 cores**"
   ]
  },
  {
   "cell_type": "code",
   "execution_count": 5,
   "metadata": {
    "ExecuteTime": {
     "end_time": "2021-02-08T14:22:31.182704Z",
     "start_time": "2021-02-08T14:22:31.175602Z"
    }
   },
   "outputs": [],
   "source": [
    "# cores_familia = {\n",
    "#     # known errors treatment\n",
    "# #     '#n/d':'#000000',\n",
    "# #     'nan':'#000000',\n",
    "#     # grupo 1: Crocodylia\n",
    "#     'Alligatoridae':'#142611',\n",
    "#     # grupo 2: Testudines - Cryptodira\n",
    "#     'Cheloniidae':'#bafd62',\n",
    "#     'Chelydridae':'#9feb3f',\n",
    "#     'Dermochelyidae':'#85d907',\n",
    "#     'Emydidae':'#6cc700',\n",
    "#     'Geoemydidae':'#52b700',\n",
    "#     'Kinosternidae':'#35a600',\n",
    "#     'Testudinidae':'#0b9700',\n",
    "#     'Trionychidae':'#008800',\n",
    "#     # grupo 3: Testudines - Pleurodira\n",
    "#     'Chelidae':'#99b6b2' ,\n",
    "#     'Podocnemididae':'#81a58b',\n",
    "#     # grupo 4: Amphisbaenia - Amphisbaenia\n",
    "#     'Amphisbaenidae':'#F2CB07',\n",
    "#     # grupo 5: Sauria - Iguania\n",
    "#     'Agamidae':'#f8dcf9',\n",
    "#     'Chamaeleonidae':'#ebc5ed',\n",
    "#     'Dactyloidae':'#ddafe2',\n",
    "#     'Iguanidae':'#ce9ad6',\n",
    "#     'Hoplocercidae':'#bf86cc',\n",
    "#     'Leiosauridae':'#af73c2',\n",
    "#     'Liolaemidae':'#a160b8', \n",
    "#     'Phrynosomatidae':'#924fae',\n",
    "#     'Polychrotidae':'#833fa4',\n",
    "#     'Tropiduridae':'#803da1',\n",
    "#     # grupo 6: Sauria - Scleroglossa\n",
    "#     'Anguidae':'#c9fff9',\n",
    "#     'Gekkonidae':'#b3eff2',\n",
    "#     'Gymnophthalmidae':'#9cdcea',\n",
    "#     'Helodermatidae':'#83c9e2',\n",
    "#     'Lacertidae':'#68b7da',\n",
    "#     'Mabuyinae':'#4aa6d2',\n",
    "#     'Phyllodactylidae':'#2096ca',\n",
    "#     'Scincidae':'#0087c1',\n",
    "#     'Sphaerodactylidae':'#0079b7',\n",
    "#     'Teiidae':'#3e7baa',\n",
    "#     'Varanidae':'#226ca2',\n",
    "#     'Xantusiidae':'#005e98',\n",
    "#     # grupo 7: Serpentes - Scolecophidia\n",
    "#     'Anomalepididae':'#ac6f18',\n",
    "#     'Leptotyphlopidae':'#9e5e00',\n",
    "#     'Typhlopidae':'#914e00', \n",
    "#     # grupo 8: Alethinophidia\n",
    "#     'Aniliidae':'#ffce9f',\n",
    "#     'Boidae':'#ffb683',\n",
    "#     'Colubridae':'#ff9f69',\n",
    "#     'Dipsadidae':'#ff8851',\n",
    "#     'Elapidae':'#f5723b',\n",
    "#     'Homalopsidae':'#e75b25',\n",
    "#     'Lamprophiidae':'#d9430d', \n",
    "#     'Loxocemidae':'#cb2800',\n",
    "#     'Natricidae':'#bc0000',\n",
    "#     'Pythonidae':'#c62f00',\n",
    "#     'Tropidophiidae':'#b41b00',\n",
    "#     'Viperidae':'#a40300',\n",
    "#     'Xenopeltidae':'#930000'\n",
    "# }"
   ]
  },
  {
   "cell_type": "markdown",
   "metadata": {},
   "source": [
    "<br>\n",
    "\n",
    "## Graph: Exploring time-spacial evolution of the database"
   ]
  },
  {
   "cell_type": "code",
   "execution_count": 6,
   "metadata": {
    "ExecuteTime": {
     "end_time": "2021-02-08T14:22:32.720507Z",
     "start_time": "2021-02-08T14:22:32.710886Z"
    }
   },
   "outputs": [],
   "source": [
    "# corrects a typo (Améica do Sul)\n",
    "NewTable['continente'] = NewTable['continente'].apply(lambda x: 'América do Sul' if x=='Améica do Sul' else x)"
   ]
  },
  {
   "cell_type": "code",
   "execution_count": 7,
   "metadata": {
    "ExecuteTime": {
     "end_time": "2021-02-08T14:22:33.109270Z",
     "start_time": "2021-02-08T14:22:33.100533Z"
    }
   },
   "outputs": [
    {
     "data": {
      "text/plain": [
       "América do Sul      21927\n",
       "América Central       135\n",
       "América do Norte      103\n",
       "Ásia                   54\n",
       "#N/D                   25\n",
       "África                 13\n",
       "Europa                  9\n",
       "Name: continente, dtype: int64"
      ]
     },
     "execution_count": 7,
     "metadata": {},
     "output_type": "execute_result"
    }
   ],
   "source": [
    "# looking good...\n",
    "NewTable['continente'].value_counts()"
   ]
  },
  {
   "cell_type": "markdown",
   "metadata": {},
   "source": [
    "### Chart 1: Evolution per time and continent"
   ]
  },
  {
   "cell_type": "code",
   "execution_count": 8,
   "metadata": {
    "ExecuteTime": {
     "end_time": "2021-02-08T14:22:34.516129Z",
     "start_time": "2021-02-08T14:22:34.353878Z"
    }
   },
   "outputs": [],
   "source": [
    "# agrupando por Ano e Continente\n",
    "teste = NewTable.groupby(['ano_coleta','continente', 'familia']).count()['class'].reset_index().rename(columns={\n",
    "    'class':'counts'\n",
    "})"
   ]
  },
  {
   "cell_type": "code",
   "execution_count": 11,
   "metadata": {
    "ExecuteTime": {
     "end_time": "2021-02-08T14:22:50.422588Z",
     "start_time": "2021-02-08T14:22:50.397807Z"
    }
   },
   "outputs": [],
   "source": [
    "g1 = alt.Chart(teste, title='Evolução temporal da coleção por continente', height=300).mark_circle().encode(\n",
    "    x= alt.X('ano_coleta', type=\"ordinal\", title='Ano de Coleta'),\n",
    "    y= alt.Y('continente', title='Continente', \n",
    "             sort=alt.EncodingSortField('counts', op=\"count\", order='descending')), \n",
    "    size=alt.Size('counts', scale= alt.Scale(range=[30,1200])), \n",
    "    order= alt.Order('counts', sort='descending'),  # smaller points in front\n",
    "#     color= alt.Color('ordem', scale=alt.Scale(domain=ordens, range=cores)),  # old palette per order\n",
    "    color= alt.Color('familia',title= 'Família', \n",
    "                    legend= alt.Legend(columns=4, symbolLimit= 50),\n",
    "                    scale= alt.Scale(domain= list(cores_familia.keys()), range= list(cores_familia.values()))),\n",
    "    tooltip= alt.Tooltip(['continente','ano_coleta','familia','counts'])\n",
    ")\n",
    "\n",
    "g1 = g1.configure_title(fontSize=16).configure_axis(\n",
    "    labelFontSize=12,\n",
    "    titleFontSize=12\n",
    ").configure_legend(\n",
    "    labelFontSize=12,\n",
    "    titleFontSize=12\n",
    ")\n",
    "\n",
    "# g1.save('./graphs/time-spacial/evolucao_por_continente-FAMILIA.html')\n",
    "\n",
    "# g1"
   ]
  },
  {
   "cell_type": "markdown",
   "metadata": {},
   "source": [
    "<br>\n",
    "\n",
    "### Chart 2: Evolution per time and country"
   ]
  },
  {
   "cell_type": "code",
   "execution_count": 12,
   "metadata": {
    "ExecuteTime": {
     "end_time": "2021-02-08T14:22:52.556792Z",
     "start_time": "2021-02-08T14:22:52.505640Z"
    }
   },
   "outputs": [],
   "source": [
    "# agrupando por Ano e Continente\n",
    "teste1 = NewTable.groupby(['ano_coleta','pais', 'familia']).count()['class'].reset_index().rename(columns={\n",
    "    'class':'counts'\n",
    "})"
   ]
  },
  {
   "cell_type": "code",
   "execution_count": 14,
   "metadata": {
    "ExecuteTime": {
     "end_time": "2021-02-08T14:23:25.805176Z",
     "start_time": "2021-02-08T14:23:25.780606Z"
    }
   },
   "outputs": [],
   "source": [
    "# retirei Brasil (será detalhado por Estados depois)\n",
    "g1 = alt.Chart(teste1[teste1['pais'] != 'Brasil'], title='Animais coletados por ano em outros países',\n",
    "              width=800).mark_circle().encode(\n",
    "    x= alt.X('ano_coleta', type=\"ordinal\", title='Ano de Coleta'),\n",
    "    y= alt.Y('pais', title='País', \n",
    "             sort=alt.EncodingSortField('counts', op=\"sum\", order='descending')), \n",
    "    size=alt.Size('counts', scale= alt.Scale(range=[20,250])), \n",
    "    order= alt.Order('counts', sort='descending'),  # smaller points in front\n",
    "#     color= alt.Color('ordem', scale=alt.Scale(domain=ordens, range=cores)),  # old palette per order\n",
    "    color= alt.Color('familia:N', title='Familia', \n",
    "                    legend= alt.Legend(columns=2, symbolLimit=50), \n",
    "                    scale= alt.Scale(domain= list(cores_familia.keys()), range= list(cores_familia.values()))),\n",
    "    tooltip= alt.Tooltip(['pais','ano_coleta','familia','counts'])\n",
    ")\n",
    "\n",
    "g1 = g1.configure_title(fontSize=16).configure_axis(\n",
    "    labelFontSize=12,\n",
    "    titleFontSize=12\n",
    ").configure_legend(\n",
    "    labelFontSize=12,\n",
    "    titleFontSize=12\n",
    ")\n",
    "\n",
    "# g1.save('./graphs/time-spacial/evolucao_por_pais.html')\n",
    "\n",
    "# g1"
   ]
  },
  {
   "cell_type": "markdown",
   "metadata": {},
   "source": [
    "<br>\n",
    "\n",
    "### Chart 3: Evolution per time and brazilian states"
   ]
  },
  {
   "cell_type": "code",
   "execution_count": 15,
   "metadata": {
    "ExecuteTime": {
     "end_time": "2021-02-08T14:23:27.214861Z",
     "start_time": "2021-02-08T14:23:27.121713Z"
    }
   },
   "outputs": [],
   "source": [
    "# agrupando por Ano e Continente\n",
    "teste2 = NewTable[NewTable['pais'] == 'Brasil']\n",
    "teste2 = teste2.groupby(['ano_coleta','estado_ou_provincia', 'familia']).count()['class'].reset_index().rename(columns={\n",
    "    'class':'counts'\n",
    "})"
   ]
  },
  {
   "cell_type": "markdown",
   "metadata": {},
   "source": [
    "#### creating column with brazilian regions"
   ]
  },
  {
   "cell_type": "code",
   "execution_count": 16,
   "metadata": {
    "ExecuteTime": {
     "end_time": "2021-02-08T14:23:29.362300Z",
     "start_time": "2021-02-08T14:23:29.341218Z"
    }
   },
   "outputs": [],
   "source": [
    "regioes = {\n",
    "    'Rio de Janeiro':'SE',\n",
    "    'São Paulo':'SE',\n",
    "    'Espírito Santo': 'SE',\n",
    "    'Pernambuco':'NE',\n",
    "    'Santa Catarina':'S',\n",
    "    'Amazonas':'N',\n",
    "    'Goiás':'CO',\n",
    "    'Roraima':'N',\n",
    "    'Pará':'N',\n",
    "    'Mato Grosso':'CO',\n",
    "    'Acre': 'N',\n",
    "    'Bahia': 'NE',\n",
    "    'Minas Gerais': 'SE',\n",
    "    'Mato Grosso do Sul': 'CO',\n",
    "    'Paraná': 'S',\n",
    "    'Rondônia': 'N',\n",
    "    'Ceará': 'NE',\n",
    "    'Maranhão': 'N',\n",
    "    'Rio Grande do Sul': 'S',\n",
    "    'Paraíba': 'NE',\n",
    "    'Distrito Federal': 'CO',\n",
    "    'Alagoas': 'NE',\n",
    "    'Amapá':'N',\n",
    "    'Piauí': 'NE',\n",
    "    'Brasília': 'CO',\n",
    "    'Tocantins': 'N',\n",
    "    'Rio Grande do Norte': 'NE',\n",
    "    'Sergipe': 'NE',\n",
    "    'Minas Gerais/Goiás/Distrito Federal': 'CO',\n",
    "    'Santa Catarina-Rio Grande do Sul': 'S'\n",
    "}\n",
    "\n",
    "# criando coluna com as regiões\n",
    "teste2['regiao'] = teste2['estado_ou_provincia'].apply(lambda x: regioes[str(x)])\n",
    "\n",
    "# coluna com estado, regiao\n",
    "teste2['regiao_e_estado'] = teste2['estado_ou_provincia'] + ', ' + teste2['regiao']\n",
    "\n",
    "# ordenando por região e soma das contagens\n",
    "sorting = teste2.groupby(['regiao_e_estado', 'regiao']).sum()['counts'].reset_index(\n",
    "                                                                ).rename(columns={'counts':'soma'})\n",
    "sorting = sorting.sort_values(['regiao','soma'], ascending=False)['regiao_e_estado'].unique()"
   ]
  },
  {
   "cell_type": "code",
   "execution_count": 19,
   "metadata": {
    "ExecuteTime": {
     "end_time": "2021-02-08T14:23:39.094401Z",
     "start_time": "2021-02-08T14:23:39.082043Z"
    }
   },
   "outputs": [],
   "source": [
    "g1 = alt.Chart(teste2, title='Animais coletados por ano nos Estados Brasileiros').mark_circle(opacity=0.8).encode(\n",
    "    x= alt.X('ano_coleta', type=\"ordinal\", title='Ano de Coleta'),\n",
    "    y= alt.Y('regiao_e_estado', type=\"nominal\",title='Estado, Região',\n",
    "            sort= sorting, axis=alt.Axis(labels=True)), \n",
    "    y2 = alt.Y2('regiao', title='Região'),\n",
    "    size=alt.Size('counts', scale= alt.Scale(range=[30,1200], zero=False)), \n",
    "    order= alt.Order('counts', sort='descending'),  # smaller points in front\n",
    "    color= alt.Color('familia:N', title='Familia', \n",
    "                    legend= alt.Legend(columns=2, symbolLimit=50), \n",
    "                    scale= alt.Scale(domain= list(cores_familia.keys()), range= list(cores_familia.values()))),\n",
    "    tooltip= alt.Tooltip(['regiao','estado_ou_provincia','ano_coleta','familia','counts'])\n",
    ")\n",
    "\n",
    "# OBS: marca o background da região que eu quiser, mas distorce as cores\n",
    "# rule = alt.Chart(teste2[teste2['regiao'].isin(['SE','NE','CO'])], \n",
    "#                  title='Animais coletados por ano nos Estados Brasileiros').mark_rule(\n",
    "#                     opacity=0.1, size=19, color='#dedede', filled=False, fill='green').encode(\n",
    "#     y= alt.Y('regiao_e_estado', type=\"nominal\",title='Estado, Região',\n",
    "#             sort= sorting, axis=alt.Axis(labels=True))\n",
    "# )\n",
    "\n",
    "g1 = g1.configure_title(fontSize=16).configure_axis(\n",
    "    labelFontSize=12,\n",
    "    titleFontSize=12\n",
    ").configure_legend(\n",
    "    labelFontSize=12,\n",
    "    titleFontSize=12\n",
    ")\n",
    "\n",
    "# g1.save('./graphs/time-spacial/evolucao_por_estados_brasileiros.html')\n",
    "\n",
    "# g1"
   ]
  },
  {
   "cell_type": "markdown",
   "metadata": {},
   "source": [
    "<br>\n",
    "<br>\n",
    "\n",
    "<font color='red' size='5'> Separando por períodos </font>"
   ]
  },
  {
   "cell_type": "code",
   "execution_count": 20,
   "metadata": {
    "ExecuteTime": {
     "end_time": "2021-02-08T14:23:41.024444Z",
     "start_time": "2021-02-08T14:23:41.005897Z"
    }
   },
   "outputs": [],
   "source": [
    "# periodos: <1938, >=1938 e <= 1985, > 1985 \n",
    "ano_corte1 = 1938\n",
    "ano_corte2 = 1985\n",
    "\n",
    "periodo1 = teste2[teste2['ano_coleta'] < 1938].copy()\n",
    "periodo2 = teste2[(teste2['ano_coleta'] >= 1938) & (teste2['ano_coleta'] <= 1985)].copy()\n",
    "periodo3 = teste2[teste2['ano_coleta'] > 1985].copy()"
   ]
  },
  {
   "cell_type": "markdown",
   "metadata": {},
   "source": [
    "### periodo 1: até 1937"
   ]
  },
  {
   "cell_type": "code",
   "execution_count": 22,
   "metadata": {
    "ExecuteTime": {
     "end_time": "2021-02-08T14:23:52.566509Z",
     "start_time": "2021-02-08T14:23:52.552059Z"
    }
   },
   "outputs": [],
   "source": [
    "g1 = alt.Chart(periodo1, title='Animais coletados por ano nos Estados Brasileiros (até 1937)',\n",
    "              width=800, height=600).mark_circle(opacity=0.8).encode(\n",
    "    x= alt.X('ano_coleta', type=\"ordinal\", title='Ano de Coleta'),\n",
    "    y= alt.Y('regiao_e_estado', type=\"nominal\",title='Estado, Região',\n",
    "            sort= sorting, axis=alt.Axis(labels=True)), \n",
    "    y2 = alt.Y2('regiao', title='Região'),\n",
    "    size=alt.Size('counts', scale= alt.Scale(range=[30,1200], zero=False)), \n",
    "    order= alt.Order('counts', sort='descending'),  # smaller points in front\n",
    "    color= alt.Color('familia:N', title='Familia', \n",
    "                    legend= alt.Legend(columns=2, symbolLimit=50), \n",
    "                    scale= alt.Scale(domain= list(cores_familia.keys()), range= list(cores_familia.values()))),\n",
    "    tooltip= alt.Tooltip(['regiao','estado_ou_provincia','ano_coleta','familia','counts'])\n",
    ")\n",
    "\n",
    "g1 = g1.configure_title(fontSize=16).configure_axis(\n",
    "    labelFontSize=12,\n",
    "    titleFontSize=12\n",
    ").configure_legend(\n",
    "    labelFontSize=12,\n",
    "    titleFontSize=12\n",
    ")\n",
    "\n",
    "# g1.save('./graphs/time-spacial/evolucao_por_estados_brasileiros-ate1937.html')\n",
    "\n",
    "# g1"
   ]
  },
  {
   "cell_type": "markdown",
   "metadata": {},
   "source": [
    "### periodo 2: de 1938 a 1985"
   ]
  },
  {
   "cell_type": "code",
   "execution_count": 24,
   "metadata": {
    "ExecuteTime": {
     "end_time": "2021-02-08T14:24:09.050689Z",
     "start_time": "2021-02-08T14:24:09.026325Z"
    }
   },
   "outputs": [],
   "source": [
    "g1 = alt.Chart(periodo2, title='Animais coletados por ano nos Estados Brasileiros (de 1938 a 1985)',\n",
    "              width=800, height=600).mark_circle(opacity=0.8).encode(\n",
    "    x= alt.X('ano_coleta', type=\"ordinal\", title='Ano de Coleta'),\n",
    "    y= alt.Y('regiao_e_estado', type=\"nominal\",title='Estado, Região',\n",
    "            sort= sorting, axis=alt.Axis(labels=True)), \n",
    "    y2 = alt.Y2('regiao', title='Região'),\n",
    "    size=alt.Size('counts', scale= alt.Scale(range=[30,1200], zero=False)), \n",
    "    order= alt.Order('counts', sort='descending'),  # smaller points in front\n",
    "    color= alt.Color('familia:N', title='Familia', \n",
    "                    legend= alt.Legend(columns=2, symbolLimit=50), \n",
    "                    scale= alt.Scale(domain= list(cores_familia.keys()), range= list(cores_familia.values()))),\n",
    "    tooltip= alt.Tooltip(['regiao','estado_ou_provincia','ano_coleta','familia','counts'])\n",
    ")\n",
    "\n",
    "g1 = g1.configure_title(fontSize=16).configure_axis(\n",
    "    labelFontSize=12,\n",
    "    titleFontSize=12\n",
    ").configure_legend(\n",
    "    labelFontSize=12,\n",
    "    titleFontSize=12\n",
    ")\n",
    "\n",
    "# g1.save('./graphs/time-spacial/evolucao_por_estados_brasileiros-de1938a1985.html')\n",
    "\n",
    "# g1"
   ]
  },
  {
   "cell_type": "markdown",
   "metadata": {},
   "source": [
    "### periodo 3: após 1985"
   ]
  },
  {
   "cell_type": "code",
   "execution_count": 26,
   "metadata": {
    "ExecuteTime": {
     "end_time": "2021-02-08T14:24:23.716361Z",
     "start_time": "2021-02-08T14:24:23.692613Z"
    }
   },
   "outputs": [],
   "source": [
    "g1 = alt.Chart(periodo3, title='Animais coletados por ano nos Estados Brasileiros (após 1985)',\n",
    "              width=800, height=600).mark_circle(opacity=0.8).encode(\n",
    "    x= alt.X('ano_coleta', type=\"ordinal\", title='Ano de Coleta'),\n",
    "    y= alt.Y('regiao_e_estado', type=\"nominal\",title='Estado, Região',\n",
    "            sort= sorting, axis=alt.Axis(labels=True)), \n",
    "    y2 = alt.Y2('regiao', title='Região'),\n",
    "    size=alt.Size('counts', scale= alt.Scale(range=[30,1200], zero=False)), \n",
    "    order= alt.Order('counts', sort='descending'),  # smaller points in front\n",
    "    color= alt.Color('familia:N', title='Familia', \n",
    "                    legend= alt.Legend(columns=2, symbolLimit=50), \n",
    "                    scale= alt.Scale(domain= list(cores_familia.keys()), range= list(cores_familia.values()))),\n",
    "    tooltip= alt.Tooltip(['regiao','estado_ou_provincia','ano_coleta','familia','counts'])\n",
    ")\n",
    "\n",
    "g1 = g1.configure_title(fontSize=16).configure_axis(\n",
    "    labelFontSize=12,\n",
    "    titleFontSize=12\n",
    ").configure_legend(\n",
    "    labelFontSize=12,\n",
    "    titleFontSize=12\n",
    ")\n",
    "\n",
    "# g1.save('./graphs/time-spacial/evolucao_por_estados_brasileiros-apos1985.html')\n",
    "\n",
    "# g1"
   ]
  },
  {
   "cell_type": "markdown",
   "metadata": {},
   "source": [
    "<br>\n",
    "\n",
    "## Lat Long"
   ]
  },
  {
   "cell_type": "code",
   "execution_count": 27,
   "metadata": {
    "ExecuteTime": {
     "end_time": "2021-02-08T14:24:24.896993Z",
     "start_time": "2021-02-08T14:24:24.870778Z"
    }
   },
   "outputs": [],
   "source": [
    "def regiao(est):\n",
    "    if est not in regioes.keys():\n",
    "        return np.NAN\n",
    "    else:\n",
    "        return regioes[est]\n",
    "    \n",
    "NewTable['regiao'] = NewTable['estado_ou_provincia'].apply(regiao)"
   ]
  },
  {
   "cell_type": "code",
   "execution_count": 28,
   "metadata": {
    "ExecuteTime": {
     "end_time": "2021-02-08T14:24:26.487622Z",
     "start_time": "2021-02-08T14:24:26.232796Z"
    }
   },
   "outputs": [],
   "source": [
    "from vega_datasets import data\n",
    "\n",
    "source = alt.topo_feature(data.world_110m.url, 'countries')\n",
    "\n",
    "world = alt.Chart(source).mark_geoshape(\n",
    "    fill='white',\n",
    "    stroke='gray'\n",
    ").project('naturalEarth1')\n",
    "\n",
    "# world"
   ]
  },
  {
   "cell_type": "code",
   "execution_count": 31,
   "metadata": {
    "ExecuteTime": {
     "end_time": "2021-02-08T14:25:21.665140Z",
     "start_time": "2021-02-08T14:25:21.628851Z"
    }
   },
   "outputs": [],
   "source": [
    "# dynamic version\n",
    "slider = alt.binding_range(min=1900, max=2016, step=1)\n",
    "select_year = alt.selection_single(name=' ', fields=['ano_coleta'],\n",
    "                                   bind=slider, init={'ano_coleta': 1935})\n",
    "\n",
    "# data = NewTable[(NewTable['long'] < 10) & (NewTable['long'] >-150)].copy()\n",
    "data = NewTable.copy()\n",
    "\n",
    "back = alt.Chart(data).mark_circle(opacity=0.7, color='lightgray').encode(\n",
    "    longitude = alt.X('long', type='quantitative', title='Longitude'),\n",
    "    latitude = alt.Y('lat', type='quantitative', title='Latitude'),\n",
    "    tooltip = alt.Tooltip(['lat','long','pais','regiao','estado_ou_provincia',\n",
    "                           'ano_coleta','mes_coleta', 'ordem'])\n",
    ")\n",
    "\n",
    "front = alt.Chart(data).mark_circle().encode(\n",
    "    longitude = alt.X('long', type='quantitative', title='Longitude'),\n",
    "    latitude = alt.Y('lat', type='quantitative', title='Latitude'),\n",
    "    color= alt.Color('familia:N', title='Familia', \n",
    "                    legend= alt.Legend(columns=2, symbolLimit=50), \n",
    "                    scale= alt.Scale(domain= list(cores_familia.keys()), range= list(cores_familia.values()))),\n",
    "    tooltip = alt.Tooltip(['lat','long','pais','regiao','estado_ou_provincia',\n",
    "                           'ano_coleta','mes_coleta', 'ordem', 'familia'])\n",
    ").add_selection(\n",
    "    select_year\n",
    ").transform_filter(\n",
    "    select_year\n",
    ")\n",
    "\n",
    "equador = alt.Chart(data[data['lat'] == 0], width=800, height= 400).mark_rule(color='black').encode(\n",
    "    y = alt.Y('lat:Q', axis=alt.Axis(grid=False))\n",
    ")\n",
    "\n",
    "\n",
    "g = alt.layer(world, back, front).properties(\n",
    "    width= 800,\n",
    "    height= 500\n",
    ")  # tirei o equador\n",
    "\n",
    "# ajustando tamanho de fonte\n",
    "g = g.configure_title(fontSize=16).configure_axis(\n",
    "    labelFontSize=12,\n",
    "    titleFontSize=12\n",
    ").configure_legend(\n",
    "    labelFontSize=12,\n",
    "    titleFontSize=12\n",
    ")\n",
    "\n",
    "# g.save('./graphs/time-spacial/lat_long-worldwide.html')\n",
    "\n",
    "# g"
   ]
  },
  {
   "cell_type": "markdown",
   "metadata": {},
   "source": [
    "<br>\n",
    "\n",
    "<font color='red' size='5'>Lat long (layout 2 estático)</font>"
   ]
  },
  {
   "cell_type": "code",
   "execution_count": 33,
   "metadata": {
    "ExecuteTime": {
     "end_time": "2021-02-08T14:25:44.706753Z",
     "start_time": "2021-02-08T14:25:44.665951Z"
    }
   },
   "outputs": [],
   "source": [
    "# https://nextjournal.com/sdanisch/cartographic-visualization\n",
    "\n",
    "# seletores\n",
    "select_order = alt.selection_multi(fields=['familia'], bind='legend')\n",
    "select_type = alt.selection_multi(fields=['type_status'], bind='legend')\n",
    "\n",
    "tipos = NewTable['type_status'].unique()  # lista temporária! ajustar depois!\n",
    "\n",
    "# AJUSTAR CORES\n",
    "\n",
    "from vega_datasets import data\n",
    "\n",
    "front = alt.Chart(NewTable).mark_point(filled=True).encode(\n",
    "    longitude = alt.X('long', type='quantitative', title='Longitude'),\n",
    "    latitude = alt.Y('lat', type='quantitative', title='Latitude'),\n",
    "    color= alt.Color('familia:N', title='Familia', \n",
    "                    legend= alt.Legend(columns=2, symbolLimit=50), \n",
    "                    scale= alt.Scale(domain= list(cores_familia.keys()), range= list(cores_familia.values()))),\n",
    "    shape = alt.Shape('type_status:N', title='Type', scale= alt.Scale(domain=tipos),\n",
    "                      legend= alt.Legend(columns=2)),\n",
    "    tooltip = alt.Tooltip(['lat','long','pais','regiao','estado_ou_provincia',\n",
    "                           'ano_coleta','mes_coleta', 'genero_atual','ordem','familia', 'type_status'])\n",
    ").add_selection(select_order, select_type).transform_filter(select_order).transform_filter(select_type)\n",
    "\n",
    "mapa = alt.layer(\n",
    "     # use the sphere of the Earth as the base layer\n",
    "    alt.Chart({'sphere': True}).mark_geoshape(\n",
    "        fill='#f2f2f2'\n",
    "    ),\n",
    "    # add a graticule for geographic reference lines\n",
    "    alt.Chart({'graticule': True}).mark_geoshape(\n",
    "        stroke='#ffffff', strokeWidth=1\n",
    "    ),\n",
    "    # and then the countries of the world\n",
    "    alt.Chart(alt.topo_feature(data.world_110m.url, 'countries')).mark_geoshape(\n",
    "        fill='#white', stroke='black', strokeWidth=0.5\n",
    "    ),\n",
    "    front\n",
    ").properties(\n",
    "    width=800,\n",
    "    height=500\n",
    ")\n",
    "\n",
    "mapa = mapa.project(\n",
    "    type='naturalEarth1', scale=140\n",
    ").configure_view(stroke=None)\n",
    "\n",
    "mapa = mapa.configure_title(fontSize=16).configure_axis(\n",
    "    labelFontSize=12,\n",
    "    titleFontSize=12\n",
    ").configure_legend(\n",
    "    labelFontSize=12,\n",
    "    titleFontSize=12\n",
    ")\n",
    "\n",
    "# mapa.save('./graphs/time-spacial/lat_long-worldwide-static-grid.html')\n",
    "\n",
    "# mapa"
   ]
  },
  {
   "cell_type": "code",
   "execution_count": 35,
   "metadata": {
    "ExecuteTime": {
     "end_time": "2021-02-08T14:26:04.909894Z",
     "start_time": "2021-02-08T14:26:04.875391Z"
    }
   },
   "outputs": [],
   "source": [
    "# seletores\n",
    "select_order = alt.selection_multi(fields=['familia'], bind='legend')\n",
    "select_type = alt.selection_multi(fields=['type_status'], bind='legend')\n",
    "\n",
    "teste = alt.Chart(NewTable).mark_point(filled=True).encode(\n",
    "    longitude = alt.X('long:Q', title='Longitude'),\n",
    "    latitude = alt.Y('lat:Q', title='Latitude'),\n",
    "    color= alt.Color('familia:N', title='Familia', \n",
    "                    legend= alt.Legend(columns=2, symbolLimit=50), \n",
    "                    scale= alt.Scale(domain= list(cores_familia.keys()), range= list(cores_familia.values()))),\n",
    "    shape = alt.Shape('type_status:N', title='Type', scale= alt.Scale(domain=tipos), \n",
    "                     legend= alt.Legend(columns=2)),\n",
    "    tooltip = alt.Tooltip(['lat','long','pais','regiao','estado_ou_provincia',\n",
    "                           'ano_coleta','mes_coleta', 'genero_atual','ordem', 'familia', 'type_status'])\n",
    ").project(type='naturalEarth1').add_selection(select_order, \n",
    "                            select_type).transform_filter(select_order).transform_filter(select_type)\n",
    "\n",
    "temp = (world + teste).properties(width=800, height=500).configure_title(fontSize=16).configure_axis(\n",
    "    labelFontSize=12,\n",
    "    titleFontSize=12\n",
    ").configure_legend(\n",
    "    labelFontSize=12,\n",
    "    titleFontSize=12\n",
    ")\n",
    "\n",
    "# temp.save('./graphs/time-spacial/lat_long-worldwide-static.html')\n",
    "# temp"
   ]
  },
  {
   "cell_type": "markdown",
   "metadata": {},
   "source": [
    "<br>\n",
    "\n",
    "### Latin America"
   ]
  },
  {
   "cell_type": "code",
   "execution_count": 37,
   "metadata": {
    "ExecuteTime": {
     "end_time": "2021-02-08T14:27:07.480494Z",
     "start_time": "2021-02-08T14:27:07.446617Z"
    }
   },
   "outputs": [],
   "source": [
    "# seletores\n",
    "select_order = alt.selection_multi(fields=['familia'], bind='legend')\n",
    "select_type = alt.selection_multi(fields=['type_status'], bind='legend')\n",
    "\n",
    "tipos = NewTable['type_status'].unique()  # lista temporária! ajustar depois!\n",
    "\n",
    "# mapa\n",
    "from vega_datasets import data\n",
    "\n",
    "source = alt.topo_feature(data.world_110m.url, 'countries')\n",
    "\n",
    "latinAmerica = alt.Chart(source).mark_geoshape(\n",
    "    fill='white',\n",
    "    stroke='gray'\n",
    ").project('naturalEarth1', translate=[680, 150], scale=450)\n",
    "\n",
    "# pontos\n",
    "teste = alt.Chart(NewTable).mark_point(filled=True).encode(\n",
    "    longitude = alt.X('long:Q', title='Longitude'),\n",
    "    latitude = alt.Y('lat:Q', title='Latitude'),\n",
    "    color= alt.Color('familia:N', title='Familia', \n",
    "                    legend= alt.Legend(columns=2, symbolLimit=50), \n",
    "                    scale= alt.Scale(domain= list(cores_familia.keys()), range= list(cores_familia.values()))),\n",
    "    shape = alt.Shape('type_status:N', title='Type', scale= alt.Scale(domain=tipos), \n",
    "                     legend= alt.Legend(columns=2)),\n",
    "    tooltip = alt.Tooltip(['lat','long','pais','regiao','estado_ou_provincia',\n",
    "                           'ano_coleta','mes_coleta', 'genero_atual','ordem', 'familia', 'type_status'])\n",
    ").project(type='naturalEarth1', translate=[680, 150], scale=450).add_selection(select_order,\n",
    "                                select_type).transform_filter(select_order).transform_filter(select_type)\n",
    "\n",
    "\n",
    "# configurando grafico\n",
    "temp = (latinAmerica + teste).properties(width=600, height=600).configure_title(fontSize=16).configure_axis(\n",
    "    labelFontSize=12,\n",
    "    titleFontSize=12\n",
    ").configure_legend(\n",
    "    labelFontSize=12,\n",
    "    titleFontSize=12\n",
    ")\n",
    "\n",
    "# temp.save('./graphs/time-spacial/lat_long-latinAmerica-static.html')\n",
    "# temp"
   ]
  },
  {
   "cell_type": "markdown",
   "metadata": {},
   "source": [
    "**Fim!**"
   ]
  }
 ],
 "metadata": {
  "kernelspec": {
   "display_name": "Python 3",
   "language": "python",
   "name": "python3"
  },
  "language_info": {
   "codemirror_mode": {
    "name": "ipython",
    "version": 3
   },
   "file_extension": ".py",
   "mimetype": "text/x-python",
   "name": "python",
   "nbconvert_exporter": "python",
   "pygments_lexer": "ipython3",
   "version": "3.9.1"
  },
  "latex_envs": {
   "LaTeX_envs_menu_present": true,
   "autoclose": false,
   "autocomplete": true,
   "bibliofile": "biblio.bib",
   "cite_by": "apalike",
   "current_citInitial": 1,
   "eqLabelWithNumbers": true,
   "eqNumInitial": 1,
   "hotkeys": {
    "equation": "Ctrl-E",
    "itemize": "Ctrl-I"
   },
   "labels_anchors": false,
   "latex_user_defs": false,
   "report_style_numbering": false,
   "user_envs_cfg": false
  },
  "toc": {
   "base_numbering": 1,
   "nav_menu": {},
   "number_sections": true,
   "sideBar": true,
   "skip_h1_title": false,
   "title_cell": "Table of Contents",
   "title_sidebar": "Contents",
   "toc_cell": false,
   "toc_position": {},
   "toc_section_display": true,
   "toc_window_display": false
  },
  "varInspector": {
   "cols": {
    "lenName": 16,
    "lenType": 16,
    "lenVar": 40
   },
   "kernels_config": {
    "python": {
     "delete_cmd_postfix": "",
     "delete_cmd_prefix": "del ",
     "library": "var_list.py",
     "varRefreshCmd": "print(var_dic_list())"
    },
    "r": {
     "delete_cmd_postfix": ") ",
     "delete_cmd_prefix": "rm(",
     "library": "var_list.r",
     "varRefreshCmd": "cat(var_dic_list()) "
    }
   },
   "types_to_exclude": [
    "module",
    "function",
    "builtin_function_or_method",
    "instance",
    "_Feature"
   ],
   "window_display": false
  }
 },
 "nbformat": 4,
 "nbformat_minor": 4
}
