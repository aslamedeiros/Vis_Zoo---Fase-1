{
 "cells": [
  {
   "cell_type": "markdown",
   "metadata": {},
   "source": [
    "# Database Exploration\n",
    "\n",
    "By **Franklin Oliveira**\n",
    "\n",
    "-----\n",
    "\n",
    "This notebook contains some code written to I (Franklin) get accquainted with the `repteis` database. Here you'll find some basic data treatment and adjustments that presented necessary as I started to understand the nature of the information in file <font color='blue'>'Compilacao Livros Repteis - 2 a 10 - 2020_04_28.xls'</font>."
   ]
  },
  {
   "cell_type": "code",
   "execution_count": 1,
   "metadata": {
    "ExecuteTime": {
     "end_time": "2020-07-14T19:42:34.322004Z",
     "start_time": "2020-07-14T19:42:25.949405Z"
    }
   },
   "outputs": [
    {
     "data": {
      "text/plain": [
       "DataTransformerRegistry.enable('default')"
      ]
     },
     "execution_count": 1,
     "metadata": {},
     "output_type": "execute_result"
    }
   ],
   "source": [
    "import datetime\n",
    "import numpy as np\n",
    "import pandas as pd\n",
    "\n",
    "from collections import defaultdict\n",
    "\n",
    "# pacotes para visualização rápida\n",
    "import seaborn as sns\n",
    "import matplotlib.pyplot as plt\n",
    "\n",
    "# pacote para visualização principal\n",
    "import altair as alt\n",
    "\n",
    "# habilitando renderizador para notebook\n",
    "# alt.renderers.enable('notebook')\n",
    "alt.renderers.enable('default')\n",
    "\n",
    "\n",
    "# desabilitando limite de linhas\n",
    "alt.data_transformers.disable_max_rows()"
   ]
  },
  {
   "cell_type": "markdown",
   "metadata": {},
   "source": [
    "## Importing data..."
   ]
  },
  {
   "cell_type": "code",
   "execution_count": 2,
   "metadata": {
    "ExecuteTime": {
     "end_time": "2020-07-14T19:42:36.241827Z",
     "start_time": "2020-07-14T19:42:34.331649Z"
    }
   },
   "outputs": [
    {
     "name": "stdout",
     "output_type": "stream",
     "text": [
      "The excel file contains the following sheets: ['Repteis-2020-02-11-csv']\n",
      "\n",
      "Database is in sheet: Repteis-2020-02-11-csv\n"
     ]
    }
   ],
   "source": [
    "excel = pd.ExcelFile('Compilacao Livros Repteis - 2 a 10 - 2020_04_28.xls')\n",
    "sheet_name = excel.sheet_names\n",
    "\n",
    "print('The excel file contains the following sheets:', sheet_name)\n",
    "print('\\nDatabase is in sheet:', sheet_name[0])"
   ]
  },
  {
   "cell_type": "code",
   "execution_count": 3,
   "metadata": {
    "ExecuteTime": {
     "end_time": "2020-07-14T19:42:37.994763Z",
     "start_time": "2020-07-14T19:42:36.253365Z"
    }
   },
   "outputs": [
    {
     "name": "stdout",
     "output_type": "stream",
     "text": [
      "The database has 23119 rows and 114 columns.\n"
     ]
    }
   ],
   "source": [
    "db = excel.parse(sheet_name[0], sep=';', encoding='utf-8-sig')\n",
    "\n",
    "# p.s.: I'm parsing a pre-treated file provided by Asla\n",
    "#db = pd.read_excel('db.csv', sep=',', encoding='utf-8-sig', low_memory=False)\n",
    "print(f'The database has {db.shape[0]} rows and {db.shape[1]} columns.')"
   ]
  },
  {
   "cell_type": "code",
   "execution_count": 4,
   "metadata": {
    "ExecuteTime": {
     "end_time": "2020-07-14T19:42:38.168643Z",
     "start_time": "2020-07-14T19:42:38.109487Z"
    }
   },
   "outputs": [],
   "source": [
    "# copying database to another variable to make a few changes keeping the original intact\n",
    "repteis = db.copy()"
   ]
  },
  {
   "cell_type": "markdown",
   "metadata": {},
   "source": [
    "<br>\n",
    "\n",
    "<font color='red' size='5'>**p.s.:** We were told by the Curator that some names in this database may remain confidential. So, I'm gonna skip this step for now until we know how to treat this data appropriately </font>\n",
    "\n",
    "### Name columns\n",
    "\n",
    "`DeterminatorFirstName1` e `DeterminatorLastName1`\n",
    "\n",
    "#### treating determiner's name \n",
    "\n",
    "In this step, we're going to put together 'determinator's' first and last name. \n",
    "\n",
    "`DeterminatorFirstName1` + `DeterminatorLastName1`\n",
    "\n",
    "Just concatenating those two columns is not satisfactory because there's some dirt in these data columns. So, let's begin by treating them..."
   ]
  },
  {
   "cell_type": "code",
   "execution_count": 5,
   "metadata": {
    "ExecuteTime": {
     "end_time": "2020-07-14T19:42:38.309752Z",
     "start_time": "2020-07-14T19:42:38.298142Z"
    }
   },
   "outputs": [],
   "source": [
    "# repteis['DeterminatorFirstName1'].value_counts()\n",
    "# repteis['DeterminatorLastName1'].value_counts()"
   ]
  },
  {
   "cell_type": "code",
   "execution_count": 6,
   "metadata": {
    "ExecuteTime": {
     "end_time": "2020-07-14T19:42:38.462912Z",
     "start_time": "2020-07-14T19:42:38.444544Z"
    }
   },
   "outputs": [],
   "source": [
    "def treat_names(name, pos='first'):\n",
    "    '''\n",
    "    Treat names keeping NaN as such.\n",
    "    \n",
    "    Arguments: \n",
    "        - name: name to be treated. \n",
    "        - pos (str): name position. One of ['first', 'last']\n",
    "    '''\n",
    "    if type(name) == str and pos == 'first':     # first name\n",
    "        \n",
    "        if len(name.split(' ')) > 1:             # treats composite names (+ 1 name)\n",
    "            return str(name).strip().split(' ')[0].capitalize()\n",
    "        else:\n",
    "            return str(name).strip().capitalize()\n",
    "    \n",
    "    elif type(name) == str and pos == 'last':    # last name\n",
    "        \n",
    "        if len(name.split(' ')) > 1:             # treats composite last name (+ 1 surname)\n",
    "            return str(name).strip().split(' ')[-1].capitalize()\n",
    "        else:\n",
    "            return str(name).strip().capitalize()   \n",
    "    else:\n",
    "        return name"
   ]
  },
  {
   "cell_type": "markdown",
   "metadata": {},
   "source": [
    "applying function to the two column names"
   ]
  },
  {
   "cell_type": "code",
   "execution_count": 7,
   "metadata": {
    "ExecuteTime": {
     "end_time": "2020-07-14T19:42:38.568505Z",
     "start_time": "2020-07-14T19:42:38.565972Z"
    }
   },
   "outputs": [],
   "source": [
    "#crustaceas['Determiner First Name1'] = crustaceas['Determiner First Name1'].apply(treat_names)\n",
    "# crustaceas['Determiner First Name1'].value_counts()"
   ]
  },
  {
   "cell_type": "code",
   "execution_count": 8,
   "metadata": {
    "ExecuteTime": {
     "end_time": "2020-07-14T19:42:38.642815Z",
     "start_time": "2020-07-14T19:42:38.634466Z"
    }
   },
   "outputs": [],
   "source": [
    "#crustaceas['Determiner Last Name1'] = crustaceas['Determiner Last Name1'].apply(lambda x:\n",
    "#                                                                treat_names(x, pos='last'))\n",
    "# crustaceas['Determiner Last Name1'].value_counts()"
   ]
  },
  {
   "cell_type": "code",
   "execution_count": 9,
   "metadata": {
    "ExecuteTime": {
     "end_time": "2020-07-14T19:42:38.728640Z",
     "start_time": "2020-07-14T19:42:38.726143Z"
    }
   },
   "outputs": [],
   "source": [
    "# creating column with First and Last name for identification\n",
    "#crustaceas['Determiner First_and_Last Name'] = crustaceas['Determiner First Name1'] + ' ' + crustaceas['Determiner Last Name1']"
   ]
  },
  {
   "cell_type": "markdown",
   "metadata": {},
   "source": [
    "<br>\n",
    "\n",
    "## Adjusting columns names\n",
    "\n",
    "### removing '\\n'"
   ]
  },
  {
   "cell_type": "code",
   "execution_count": 10,
   "metadata": {
    "ExecuteTime": {
     "end_time": "2020-07-14T19:42:38.810274Z",
     "start_time": "2020-07-14T19:42:38.793454Z"
    }
   },
   "outputs": [],
   "source": [
    "repteis.columns = [str(col).replace(r'\\n','') for col in repteis.columns]"
   ]
  },
  {
   "cell_type": "markdown",
   "metadata": {},
   "source": [
    "#### closer look on some columns..."
   ]
  },
  {
   "cell_type": "code",
   "execution_count": 11,
   "metadata": {
    "ExecuteTime": {
     "end_time": "2020-07-14T19:42:38.917022Z",
     "start_time": "2020-07-14T19:42:38.887714Z"
    }
   },
   "outputs": [
    {
     "name": "stdout",
     "output_type": "stream",
     "text": [
      "- NumeroDeCatalogo\n",
      "- NumeroDeCampo\n",
      "- DataDeEntrada\n",
      "- DataDaDeterminacao\n",
      "- Kingdom\n",
      "- Phylum\n",
      "- Class\n",
      "- Ordem\n",
      "- Familia\n",
      "- Genero_ent\n",
      "- Qualificador_ent\n",
      "- Especie_ent\n",
      "- Subespecie_ent\n",
      "- Type Status 1\n",
      "- Current 1\n",
      "- Determined Date 2\n",
      "- Class2\n",
      "- Order2\n",
      "- Family2\n",
      "- Genero_atual\n",
      "- Qualificador_atual\n",
      "- Especie_atual\n",
      "- Subespecie_atual\n",
      "- NotasTaxonomicas\n",
      "- Current 2\n",
      "- DeterminatorLastName1\n",
      "- DeterminatorFirstName1\n",
      "- DeterminatorMiddleInitial1\n",
      "- DeterminatorLastName2\n",
      "- DeterminatorFirstName2\n",
      "- DeterminatorMiddleInitial2\n",
      "- DeterminationRemark\n",
      "- AssociatedTaxa\n",
      "- TypeOf\n",
      "- ColecaoEspecial\n",
      "- DataColetaInicial\n",
      "- DataColetaFinal\n",
      "- Complemento\n",
      "- NomeDaLocalidade\n",
      "- Municipio\n",
      "- EstadoOuProvincia\n",
      "- Pais\n",
      "- Continente\n",
      "- LocalityRemark\n",
      "- UtmDatum\n",
      "- UtmZone\n",
      "- UtmEasting\n",
      "- UtmNorthing\n",
      "- VerbatimLatitude\n",
      "- VerbatimLongitude\n",
      "- Lat\n",
      "- Long\n",
      "- PrecisaoDaCoordenada\n",
      "- GrupoDeColeta\n",
      "- MinAltitude\n",
      "- MaxAltitude\n",
      "- CollectingInformationRemark\n",
      "- CollectorLastName1\n",
      "- CollectorFirstName1\n",
      "- CollectorMiddleName1\n",
      "- CollectorLastName2\n",
      "- CollectorFirstName2\n",
      "- CollectorMiddleName2\n",
      "- CollectorLastName3\n",
      "- CollectorFirstName3\n",
      "- CollectorMiddleName3\n",
      "- CollectorLastName4\n",
      "- CollectorFirstName4\n",
      "- CollectorMiddleName4\n",
      "- CollectorLastName5\n",
      "- CollectorFirstName5\n",
      "- CollectorMiddleName5\n",
      "- CollectorLastName6\n",
      "- CollectorFirstName6\n",
      "- CollectorMiddleName6\n",
      "- CollectorLastName7\n",
      "- CollectorFirstName7\n",
      "- CollectorMiddleName7\n",
      "- CollectorLastName8\n",
      "- CollectorFirstName8\n",
      "- CollectorMiddleName8\n",
      "- CollectorRemark\n",
      "- Observacões\n",
      "- AltCatNumber\n",
      "- DoadosPor\n",
      "- DoadosPara\n",
      "- PermutaSaida\n",
      "- PermutaEntrada\n",
      "- Massa\n",
      "- CRC\n",
      "- Sexo\n",
      "- EstagioDeVida\n",
      "- CollectionObjectAttributeRemarks\n",
      "- Medidas\n",
      "- PrepType1\n",
      "- PrepType2\n",
      "- PrepType3\n",
      "- Preparation\n",
      "- Preparação 2\n",
      "- Preparação 3\n",
      "- PreparacaoRemark\n",
      "- Remarks 2\n",
      "- Remarks 3\n",
      "- PreparationCount\n",
      "- Count 2\n",
      "- Count 3\n",
      "- DataDaMorte\n",
      "- DataDeObtencao\n",
      "- CollectionObjectAttribute_Count\n",
      "- Desdobramento\n",
      "- CollectionObjectRemarks\n",
      "- DataVerbatim\n",
      "- DataUltimaAtualizacao\n",
      "- Yes No1\n"
     ]
    }
   ],
   "source": [
    "for col in repteis.columns:\n",
    "    print('-', col)"
   ]
  },
  {
   "cell_type": "code",
   "execution_count": 12,
   "metadata": {
    "ExecuteTime": {
     "end_time": "2020-07-14T19:42:39.022493Z",
     "start_time": "2020-07-14T19:42:39.000514Z"
    }
   },
   "outputs": [
    {
     "data": {
      "text/plain": [
       "torquatus     1403\n",
       "ocellifera     779\n",
       "jararaca       635\n",
       "hispidus       607\n",
       "ameiva         558\n",
       "              ... \n",
       "leucurus         1\n",
       "berus            1\n",
       "notaeus          1\n",
       "aesculpii        1\n",
       "texanus          1\n",
       "Name: Especie_atual, Length: 803, dtype: int64"
      ]
     },
     "execution_count": 12,
     "metadata": {},
     "output_type": "execute_result"
    }
   ],
   "source": [
    "repteis['Especie_atual'].value_counts()"
   ]
  },
  {
   "cell_type": "markdown",
   "metadata": {},
   "source": [
    "<font size='5'>**Equivalência de colunas:** </font>\n",
    "\n",
    "**Nome diferente:** <br>\n",
    "- Species1: Especie_ent ou Especie_atual\n",
    "- Species Author1: ?\n",
    "- Type Status1: Type Status 1\n",
    "- Qualifier1: Qualificador_ent Qualificador_atual\n",
    "- Determiner First Name1: DeterminatorFirstName1\n",
    "- Determiner Middle1: DeterminatorMiddleInitial1\n",
    "- Determiner Last Name1: DeterminatorLastName1\n",
    "- Determined Date1: DataDaDeterminacao"
   ]
  },
  {
   "cell_type": "code",
   "execution_count": 13,
   "metadata": {
    "ExecuteTime": {
     "end_time": "2020-07-14T19:42:39.169692Z",
     "start_time": "2020-07-14T19:42:39.095328Z"
    }
   },
   "outputs": [
    {
     "data": {
      "text/html": [
       "<div>\n",
       "<style scoped>\n",
       "    .dataframe tbody tr th:only-of-type {\n",
       "        vertical-align: middle;\n",
       "    }\n",
       "\n",
       "    .dataframe tbody tr th {\n",
       "        vertical-align: top;\n",
       "    }\n",
       "\n",
       "    .dataframe thead th {\n",
       "        text-align: right;\n",
       "    }\n",
       "</style>\n",
       "<table border=\"1\" class=\"dataframe\">\n",
       "  <thead>\n",
       "    <tr style=\"text-align: right;\">\n",
       "      <th></th>\n",
       "      <th>Especie_atual</th>\n",
       "      <th>Type Status 1</th>\n",
       "      <th>Qualificador_atual</th>\n",
       "      <th>DeterminatorFirstName1</th>\n",
       "      <th>DeterminatorMiddleInitial1</th>\n",
       "      <th>DeterminatorLastName1</th>\n",
       "      <th>DataDaDeterminacao</th>\n",
       "    </tr>\n",
       "  </thead>\n",
       "  <tbody>\n",
       "    <tr>\n",
       "      <th>0</th>\n",
       "      <td>geoffroanus</td>\n",
       "      <td>NaN</td>\n",
       "      <td>-</td>\n",
       "      <td>L.</td>\n",
       "      <td>M.F.</td>\n",
       "      <td>Cunha</td>\n",
       "      <td>00/11/2018</td>\n",
       "    </tr>\n",
       "    <tr>\n",
       "      <th>1</th>\n",
       "      <td>suspectum</td>\n",
       "      <td>NaN</td>\n",
       "      <td>NaN</td>\n",
       "      <td>NaN</td>\n",
       "      <td>NaN</td>\n",
       "      <td>NaN</td>\n",
       "      <td>NaN</td>\n",
       "    </tr>\n",
       "    <tr>\n",
       "      <th>2</th>\n",
       "      <td>alba</td>\n",
       "      <td>NaN</td>\n",
       "      <td>NaN</td>\n",
       "      <td>NaN</td>\n",
       "      <td>NaN</td>\n",
       "      <td>NaN</td>\n",
       "      <td>NaN</td>\n",
       "    </tr>\n",
       "    <tr>\n",
       "      <th>3</th>\n",
       "      <td>corais</td>\n",
       "      <td>NaN</td>\n",
       "      <td>NaN</td>\n",
       "      <td>NaN</td>\n",
       "      <td>NaN</td>\n",
       "      <td>NaN</td>\n",
       "      <td>NaN</td>\n",
       "    </tr>\n",
       "    <tr>\n",
       "      <th>4</th>\n",
       "      <td>bottae</td>\n",
       "      <td>NaN</td>\n",
       "      <td>NaN</td>\n",
       "      <td>NaN</td>\n",
       "      <td>NaN</td>\n",
       "      <td>NaN</td>\n",
       "      <td>NaN</td>\n",
       "    </tr>\n",
       "    <tr>\n",
       "      <th>...</th>\n",
       "      <td>...</td>\n",
       "      <td>...</td>\n",
       "      <td>...</td>\n",
       "      <td>...</td>\n",
       "      <td>...</td>\n",
       "      <td>...</td>\n",
       "      <td>...</td>\n",
       "    </tr>\n",
       "    <tr>\n",
       "      <th>23114</th>\n",
       "      <td>ibiboboca</td>\n",
       "      <td>NaN</td>\n",
       "      <td>NaN</td>\n",
       "      <td>P.</td>\n",
       "      <td>NaN</td>\n",
       "      <td>Passos</td>\n",
       "      <td>00/10/2016</td>\n",
       "    </tr>\n",
       "    <tr>\n",
       "      <th>23115</th>\n",
       "      <td>ibiboboca</td>\n",
       "      <td>NaN</td>\n",
       "      <td>NaN</td>\n",
       "      <td>P.</td>\n",
       "      <td>NaN</td>\n",
       "      <td>Passos</td>\n",
       "      <td>00/10/2016</td>\n",
       "    </tr>\n",
       "    <tr>\n",
       "      <th>23116</th>\n",
       "      <td>quadricarinatus</td>\n",
       "      <td>NaN</td>\n",
       "      <td>NaN</td>\n",
       "      <td>P.</td>\n",
       "      <td>NaN</td>\n",
       "      <td>Passos</td>\n",
       "      <td>00/10/2016</td>\n",
       "    </tr>\n",
       "    <tr>\n",
       "      <th>23117</th>\n",
       "      <td>bicarinatus</td>\n",
       "      <td>NaN</td>\n",
       "      <td>NaN</td>\n",
       "      <td>P.</td>\n",
       "      <td>NaN</td>\n",
       "      <td>Pinna</td>\n",
       "      <td>00/10/2016</td>\n",
       "    </tr>\n",
       "    <tr>\n",
       "      <th>23118</th>\n",
       "      <td>bicarinatus</td>\n",
       "      <td>NaN</td>\n",
       "      <td>NaN</td>\n",
       "      <td>P.</td>\n",
       "      <td>NaN</td>\n",
       "      <td>Pinna</td>\n",
       "      <td>00/10/2016</td>\n",
       "    </tr>\n",
       "  </tbody>\n",
       "</table>\n",
       "<p>23119 rows × 7 columns</p>\n",
       "</div>"
      ],
      "text/plain": [
       "         Especie_atual  Type Status 1 Qualificador_atual  \\\n",
       "0          geoffroanus            NaN                  -   \n",
       "1            suspectum            NaN                NaN   \n",
       "2                 alba            NaN                NaN   \n",
       "3               corais            NaN                NaN   \n",
       "4               bottae            NaN                NaN   \n",
       "...                ...            ...                ...   \n",
       "23114        ibiboboca            NaN                NaN   \n",
       "23115        ibiboboca            NaN                NaN   \n",
       "23116  quadricarinatus            NaN                NaN   \n",
       "23117      bicarinatus            NaN                NaN   \n",
       "23118      bicarinatus            NaN                NaN   \n",
       "\n",
       "      DeterminatorFirstName1 DeterminatorMiddleInitial1 DeterminatorLastName1  \\\n",
       "0                         L.                       M.F.                 Cunha   \n",
       "1                        NaN                        NaN                   NaN   \n",
       "2                        NaN                        NaN                   NaN   \n",
       "3                        NaN                        NaN                   NaN   \n",
       "4                        NaN                        NaN                   NaN   \n",
       "...                      ...                        ...                   ...   \n",
       "23114                     P.                        NaN                Passos   \n",
       "23115                     P.                        NaN                Passos   \n",
       "23116                     P.                        NaN                Passos   \n",
       "23117                     P.                        NaN                 Pinna   \n",
       "23118                     P.                        NaN                 Pinna   \n",
       "\n",
       "      DataDaDeterminacao  \n",
       "0             00/11/2018  \n",
       "1                    NaN  \n",
       "2                    NaN  \n",
       "3                    NaN  \n",
       "4                    NaN  \n",
       "...                  ...  \n",
       "23114         00/10/2016  \n",
       "23115         00/10/2016  \n",
       "23116         00/10/2016  \n",
       "23117         00/10/2016  \n",
       "23118         00/10/2016  \n",
       "\n",
       "[23119 rows x 7 columns]"
      ]
     },
     "execution_count": 13,
     "metadata": {},
     "output_type": "execute_result"
    }
   ],
   "source": [
    "repteis[['Especie_atual', 'Type Status 1', 'Qualificador_atual', 'DeterminatorFirstName1',\n",
    "       'DeterminatorMiddleInitial1', 'DeterminatorLastName1', 'DataDaDeterminacao']]"
   ]
  },
  {
   "cell_type": "markdown",
   "metadata": {},
   "source": [
    "<br>\n",
    "\n",
    "## preparing data for charts..."
   ]
  },
  {
   "cell_type": "markdown",
   "metadata": {},
   "source": [
    "### Column: `Type Status1`\n",
    "\n",
    "contains info on species type"
   ]
  },
  {
   "cell_type": "code",
   "execution_count": 14,
   "metadata": {
    "ExecuteTime": {
     "end_time": "2020-07-14T19:42:43.499435Z",
     "start_time": "2020-07-14T19:42:43.488635Z"
    }
   },
   "outputs": [
    {
     "data": {
      "text/plain": [
       "Series([], Name: Type Status 1, dtype: int64)"
      ]
     },
     "execution_count": 14,
     "metadata": {},
     "output_type": "execute_result"
    }
   ],
   "source": [
    "repteis['Type Status 1'].value_counts().head()  # essa coluna está vazia!?"
   ]
  },
  {
   "cell_type": "markdown",
   "metadata": {},
   "source": [
    "#### Let's begin cleaning this data and lowering all cases."
   ]
  },
  {
   "cell_type": "code",
   "execution_count": 15,
   "metadata": {
    "ExecuteTime": {
     "end_time": "2020-07-14T19:42:45.082444Z",
     "start_time": "2020-07-14T19:42:45.079456Z"
    }
   },
   "outputs": [],
   "source": [
    "#repteis['Type Status 1'] = repteis['Type Status 1'].str.strip().str.lower().str.capitalize()"
   ]
  },
  {
   "cell_type": "code",
   "execution_count": 16,
   "metadata": {
    "ExecuteTime": {
     "end_time": "2020-07-14T19:42:45.484240Z",
     "start_time": "2020-07-14T19:42:45.472655Z"
    }
   },
   "outputs": [
    {
     "data": {
      "text/plain": [
       "Series([], Name: Type Status 1, dtype: int64)"
      ]
     },
     "execution_count": 16,
     "metadata": {},
     "output_type": "execute_result"
    }
   ],
   "source": [
    "repteis['Type Status 1'].value_counts().head()"
   ]
  },
  {
   "cell_type": "markdown",
   "metadata": {},
   "source": [
    "### preparing taxonomy columns\n",
    "\n",
    "`Kingdom` - `Phylum` - `Class` - `Ordem` - `Familia` - `Genero_ent`- `Genero_atual` - `Especie_ent` - `Especie_atual`\n",
    "\n",
    "**Colunas faltando:**\n",
    "- `Subphylum1`\n",
    "- `Subclass1`\n",
    "- `Infraclass1`\n",
    "- `Superorder1`\n",
    "- `Suborder1` \n",
    "- `Infraorder1` \n",
    "- `Superfamily1`\n",
    "- `Subfamily1` \n",
    "- `Tribe1`"
   ]
  },
  {
   "cell_type": "code",
   "execution_count": 17,
   "metadata": {
    "ExecuteTime": {
     "end_time": "2020-07-14T19:42:46.523629Z",
     "start_time": "2020-07-14T19:42:46.335782Z"
    }
   },
   "outputs": [
    {
     "name": "stdout",
     "output_type": "stream",
     "text": [
      "Adjusting column Kingdom\n",
      "Adjusting column Phylum\n",
      "Adjusting column Class\n",
      "Adjusting column Ordem\n",
      "Adjusting column Familia\n",
      "Adjusting column Genero_ent\n",
      "Adjusting column Genero_atual\n",
      "Adjusting column Especie_ent\n",
      "Adjusting column Especie_atual\n",
      "Adjusting column Subespecie_ent\n",
      "Adjusting column Subespecie_atual\n"
     ]
    }
   ],
   "source": [
    "taxon_columns = ['Kingdom', 'Phylum', 'Class', 'Ordem', 'Familia', 'Genero_ent',\n",
    "                 'Genero_atual', 'Especie_ent', 'Especie_atual', 'Subespecie_ent',\n",
    "                 'Subespecie_atual']  # selecting taxonomy columns\n",
    "\n",
    "# defining function\n",
    "def treat_str(x):\n",
    "    return str(x).lower().capitalize().strip()\n",
    "\n",
    "# applying treatment\n",
    "for col in taxon_columns:\n",
    "    print(f'Adjusting column {col}')\n",
    "    repteis[col] = repteis[col].apply(treat_str)"
   ]
  },
  {
   "cell_type": "markdown",
   "metadata": {},
   "source": [
    "### adding `Genero` and `Especie`together (they completely identify each animal's species)"
   ]
  },
  {
   "cell_type": "code",
   "execution_count": 18,
   "metadata": {
    "ExecuteTime": {
     "end_time": "2020-07-14T19:42:49.468544Z",
     "start_time": "2020-07-14T19:42:49.349004Z"
    }
   },
   "outputs": [],
   "source": [
    "repteis['genero_e_especie_ent'] = repteis['Genero_ent'] + ' ' + repteis['Especie_ent']\n",
    "repteis['genero_e_especie_atual'] = repteis['Genero_atual'] + ' ' + repteis['Especie_atual']\n",
    "\n",
    "repteis['genero_e_especie_ent'] = repteis['genero_e_especie_ent'].str.lower().str.capitalize()\n",
    "repteis['genero_e_especie_atual'] = repteis['genero_e_especie_atual'].str.lower().str.capitalize()"
   ]
  },
  {
   "cell_type": "markdown",
   "metadata": {},
   "source": [
    "<br>\n",
    "\n",
    "### Collecting date (year) and sclicing main DB to a smaller dataset \n",
    "\n",
    "Columns: `Determined Date1` - `Class1` - `Kingdom` and more..."
   ]
  },
  {
   "cell_type": "code",
   "execution_count": 82,
   "metadata": {
    "ExecuteTime": {
     "end_time": "2020-07-14T20:05:49.370115Z",
     "start_time": "2020-07-14T20:05:24.306869Z"
    }
   },
   "outputs": [
    {
     "data": {
      "text/html": [
       "<div>\n",
       "<style scoped>\n",
       "    .dataframe tbody tr th:only-of-type {\n",
       "        vertical-align: middle;\n",
       "    }\n",
       "\n",
       "    .dataframe tbody tr th {\n",
       "        vertical-align: top;\n",
       "    }\n",
       "\n",
       "    .dataframe thead th {\n",
       "        text-align: right;\n",
       "    }\n",
       "</style>\n",
       "<table border=\"1\" class=\"dataframe\">\n",
       "  <thead>\n",
       "    <tr style=\"text-align: right;\">\n",
       "      <th></th>\n",
       "      <th>ano_coleta</th>\n",
       "      <th>mes_coleta</th>\n",
       "      <th>class</th>\n",
       "      <th>kingdom</th>\n",
       "      <th>genero_ent</th>\n",
       "      <th>genero_atual</th>\n",
       "      <th>especie_ent</th>\n",
       "      <th>especie_atual</th>\n",
       "      <th>genero_e_especie_ent</th>\n",
       "      <th>genero_e_especie_atual</th>\n",
       "      <th>...</th>\n",
       "      <th>determinator_first_name</th>\n",
       "      <th>determinator_last_name</th>\n",
       "      <th>altitude</th>\n",
       "      <th>ordem</th>\n",
       "      <th>familia</th>\n",
       "      <th>phylum</th>\n",
       "      <th>tipo</th>\n",
       "      <th>qualificador_atual</th>\n",
       "      <th>ano_determinacao</th>\n",
       "      <th>ano_entrada</th>\n",
       "    </tr>\n",
       "  </thead>\n",
       "  <tbody>\n",
       "    <tr>\n",
       "      <th>0</th>\n",
       "      <td>NaN</td>\n",
       "      <td>NaN</td>\n",
       "      <td>Reptilia</td>\n",
       "      <td>Animalia</td>\n",
       "      <td>Nan</td>\n",
       "      <td>Phrynops</td>\n",
       "      <td>Nan</td>\n",
       "      <td>Geoffroanus</td>\n",
       "      <td>Nan nan</td>\n",
       "      <td>Phrynops geoffroanus</td>\n",
       "      <td>...</td>\n",
       "      <td>L.</td>\n",
       "      <td>Cunha</td>\n",
       "      <td>NaN</td>\n",
       "      <td>Testudines</td>\n",
       "      <td>Chelidae</td>\n",
       "      <td>Chordata</td>\n",
       "      <td>NaN</td>\n",
       "      <td>-</td>\n",
       "      <td>2018.0</td>\n",
       "      <td>NaN</td>\n",
       "    </tr>\n",
       "    <tr>\n",
       "      <th>1</th>\n",
       "      <td>NaN</td>\n",
       "      <td>NaN</td>\n",
       "      <td>Reptilia</td>\n",
       "      <td>Animalia</td>\n",
       "      <td>Heloderma</td>\n",
       "      <td>Heloderma</td>\n",
       "      <td>Suspectum</td>\n",
       "      <td>Suspectum</td>\n",
       "      <td>Heloderma suspectum</td>\n",
       "      <td>Heloderma suspectum</td>\n",
       "      <td>...</td>\n",
       "      <td>NaN</td>\n",
       "      <td>NaN</td>\n",
       "      <td>NaN</td>\n",
       "      <td>Squamata</td>\n",
       "      <td>Helodermatidae</td>\n",
       "      <td>Chordata</td>\n",
       "      <td>NaN</td>\n",
       "      <td>NaN</td>\n",
       "      <td>NaN</td>\n",
       "      <td>NaN</td>\n",
       "    </tr>\n",
       "  </tbody>\n",
       "</table>\n",
       "<p>2 rows × 21 columns</p>\n",
       "</div>"
      ],
      "text/plain": [
       "   ano_coleta  mes_coleta     class   kingdom genero_ent genero_atual  \\\n",
       "0         NaN         NaN  Reptilia  Animalia        Nan     Phrynops   \n",
       "1         NaN         NaN  Reptilia  Animalia  Heloderma    Heloderma   \n",
       "\n",
       "  especie_ent especie_atual genero_e_especie_ent genero_e_especie_atual  ...  \\\n",
       "0         Nan   Geoffroanus              Nan nan   Phrynops geoffroanus  ...   \n",
       "1   Suspectum     Suspectum  Heloderma suspectum    Heloderma suspectum  ...   \n",
       "\n",
       "   determinator_first_name determinator_last_name altitude       ordem  \\\n",
       "0                       L.                  Cunha      NaN  Testudines   \n",
       "1                      NaN                    NaN      NaN    Squamata   \n",
       "\n",
       "          familia    phylum tipo qualificador_atual ano_determinacao  \\\n",
       "0        Chelidae  Chordata  NaN                  -           2018.0   \n",
       "1  Helodermatidae  Chordata  NaN                NaN              NaN   \n",
       "\n",
       "   ano_entrada  \n",
       "0          NaN  \n",
       "1          NaN  \n",
       "\n",
       "[2 rows x 21 columns]"
      ]
     },
     "execution_count": 82,
     "metadata": {},
     "output_type": "execute_result"
    }
   ],
   "source": [
    "# slicing main database (repteis)\n",
    "Table = repteis[['DataDeEntrada','DataDaDeterminacao','DataColetaInicial','Class','Kingdom', \n",
    "                    'Genero_ent', 'Genero_atual', 'Especie_ent', 'Especie_atual', 'Type Status 1',\n",
    "                    'DeterminatorFirstName1', 'DeterminatorLastName1', 'genero_e_especie_ent',\n",
    "                    'genero_e_especie_atual','MinAltitude',\n",
    "                    'Ordem', 'Familia', 'Phylum', 'Qualificador_atual', 'NotasTaxonomicas']].copy()\n",
    "\n",
    "# OBS: Determined Date1 has many missing values... CHECK THAT\n",
    "d = []\n",
    "counter=0\n",
    "for row in Table['DataColetaInicial']:\n",
    "    if not str(row).find('/')==-1:\n",
    "        dates_values = str(row).split(\"/\")\n",
    "        year = int(dates_values[-1])\n",
    "        month = int(dates_values[1])\n",
    "#        if (month>1) and (month<12):\n",
    "            #store the year and month in a datetime datatype for later sorting\n",
    "#            dateRecord = datetime.datetime(year,month,1) \n",
    "    else:\n",
    "        year = Table.loc[counter, 'DataColetaInicial']\n",
    "        month = Table.loc[counter, 'DataColetaInicial']\n",
    "    \n",
    "    # mais um condicional para tratar anos vazios ' '\n",
    "    if year == ' ':\n",
    "        year = np.NAN\n",
    "        month = np.NAN\n",
    "        \n",
    "    d.append({'ano_coleta':year,\n",
    "              'mes_coleta':month,\n",
    "              'class':Table.loc[counter,'Class'],\n",
    "              'kingdom':Table.loc[counter,'Kingdom'], 'genero_ent':Table.loc[counter,'Genero_ent'],\n",
    "              'genero_atual':Table.loc[counter,'Genero_atual'],\n",
    "              'especie_ent':Table.loc[counter,'Especie_ent'],\n",
    "              'especie_atual':Table.loc[counter,'Especie_atual'],\n",
    "              'genero_e_especie_ent': Table.loc[counter,'genero_e_especie_ent'],\n",
    "              'genero_e_especie_atual': Table.loc[counter,'genero_e_especie_atual'],\n",
    "              'type_status':Table.loc[counter,'Type Status 1'], \n",
    "              'determinator_first_name':Table.loc[counter,'DeterminatorFirstName1'],\n",
    "              'determinator_last_name':Table.loc[counter,'DeterminatorLastName1'],\n",
    "              'altitude':Table.loc[counter,'MinAltitude'],\n",
    "              'ordem':Table.loc[counter,'Ordem'],\n",
    "              'familia':Table.loc[counter,'Familia'],\n",
    "              'phylum': Table.loc[counter,'Phylum'],\n",
    "              'tipo': Table.loc[counter,'NotasTaxonomicas'],\n",
    "              'qualificador_atual': Table.loc[counter,'Qualificador_atual']\n",
    "              })\n",
    "    counter = counter+1\n",
    "\n",
    "    \n",
    "NewTable = pd.DataFrame(d)\n",
    "\n",
    "\n",
    "### collecting determined year (p.s.: being careful to keep NaNs as they show up)\n",
    "NewTable['ano_determinacao'] = np.nan\n",
    "\n",
    "d1 = []\n",
    "counter=0\n",
    "for row in Table['DataDaDeterminacao']:\n",
    "    try:  # if Determined Date1 is empty, keep it so \n",
    "        if np.isnan(row):\n",
    "            year= np.NAN\n",
    "    \n",
    "    except:\n",
    "        if not str(row).find('/')==-1:\n",
    "            dates_values = str(row).split(\"/\")\n",
    "            year = int(dates_values[-1])\n",
    "            month = int(dates_values[1])\n",
    "#            if (month>1) and (month<12):\n",
    "                #store the year and month in a datetime datatype for later sorting\n",
    "#                dateRecord = datetime.datetime(year,month,1)    \n",
    "    \n",
    "    NewTable.loc[counter, 'ano_determinacao'] = year\n",
    "    counter = counter+1\n",
    "\n",
    "    \n",
    "### collecting start year (p.s.: being careful to keep NaNs as they show up)  \n",
    "NewTable['ano_entrada'] = np.nan\n",
    "d1 = []\n",
    "counter=0\n",
    "for row in Table['DataDeEntrada']:\n",
    "    try:  # if Start Date is empty, keep it so \n",
    "        if np.isnan(row):\n",
    "            year= np.NAN\n",
    "    \n",
    "    except:\n",
    "        if not str(row).find('/')==-1:\n",
    "            dates_values = str(row).split(\"/\")\n",
    "            year = int(dates_values[-1])\n",
    "            month = int(dates_values[1])\n",
    "#            if (month>1) and (month<12):\n",
    "                #store the year and month in a datetime datatype for later sorting\n",
    "#                dateRecord = datetime.datetime(year,month,1)    \n",
    "\n",
    "    NewTable.loc[counter, 'ano_entrada'] = year\n",
    "    counter = counter+1\n",
    "\n",
    "# NewTable['determined_year'] = pd.Series(year, index=NewTable.index)\n",
    "NewTable.head(2)"
   ]
  },
  {
   "cell_type": "code",
   "execution_count": 83,
   "metadata": {
    "ExecuteTime": {
     "end_time": "2020-07-14T20:05:49.735392Z",
     "start_time": "2020-07-14T20:05:49.726265Z"
    }
   },
   "outputs": [
    {
     "name": "stdout",
     "output_type": "stream",
     "text": [
      "ano_entrada info is valid.\n"
     ]
    }
   ],
   "source": [
    "# checks if NaNs are in the same position \n",
    "result = (NewTable['ano_entrada'].isna() == repteis['DataDeEntrada'].isna()).sum() == NewTable.shape[0]\n",
    "\n",
    "if result:\n",
    "    print('ano_entrada info is valid.')\n",
    "else:\n",
    "    print(\"There's something wrong with NewTable. Check how you're collecting Start Year info.\")"
   ]
  },
  {
   "cell_type": "code",
   "execution_count": 84,
   "metadata": {
    "ExecuteTime": {
     "end_time": "2020-07-14T20:05:53.474831Z",
     "start_time": "2020-07-14T20:05:53.470974Z"
    }
   },
   "outputs": [],
   "source": [
    "# year in which the holotipo was \"firstly\" found \n",
    "#NewTable['holotipo_year'] = NewTable['species_author'].str.extract('(\\d+)')"
   ]
  },
  {
   "cell_type": "markdown",
   "metadata": {},
   "source": [
    "<br>\n",
    "\n",
    "### creating `years` columns in repteis"
   ]
  },
  {
   "cell_type": "code",
   "execution_count": 85,
   "metadata": {
    "ExecuteTime": {
     "end_time": "2020-07-14T20:05:54.949397Z",
     "start_time": "2020-07-14T20:05:54.943637Z"
    }
   },
   "outputs": [],
   "source": [
    "def catch_year(row):\n",
    "    if not str(row).find('/')==-1:\n",
    "        dates_values = str(row).split(\"/\")\n",
    "        year = int(dates_values[-1])\n",
    "        month = int(dates_values[1])\n",
    "        return year\n",
    "    else:\n",
    "        return np.NaN"
   ]
  },
  {
   "cell_type": "code",
   "execution_count": 86,
   "metadata": {
    "ExecuteTime": {
     "end_time": "2020-07-14T20:05:55.522680Z",
     "start_time": "2020-07-14T20:05:55.442315Z"
    }
   },
   "outputs": [],
   "source": [
    "repteis['ano_determinacao'] = repteis['DataDaDeterminacao'].apply(catch_year)\n",
    "repteis['ano_coleta'] = repteis['DataColetaInicial'].apply(catch_year)\n",
    "repteis['ano_entrada'] = repteis['DataDeEntrada'].apply(catch_year)"
   ]
  },
  {
   "cell_type": "markdown",
   "metadata": {},
   "source": [
    "<br>\n",
    "\n",
    "<font size=5>**Paleta de cores por Ordem**</font>\n",
    "\n",
    "Abaixo está a imagem usada como inspiração (https://color.adobe.com/create/image)\n",
    "\n",
    "<img src=\"./paleta_cores.jpeg\" width='500px'>\n",
    "\n",
    "Cores: \n",
    "\n",
    "- verde_escuro: #284021\n",
    "- verde_claro: #88BF11\n",
    "- amarelo: #D9CB0B\n",
    "- laranja: #D99311\n",
    "- laranja_escuro: #BF4417\n",
    "- marrom-_laro: #BF8D7A"
   ]
  },
  {
   "cell_type": "code",
   "execution_count": 87,
   "metadata": {
    "ExecuteTime": {
     "end_time": "2020-07-14T20:05:57.072430Z",
     "start_time": "2020-07-14T20:05:57.066553Z"
    }
   },
   "outputs": [],
   "source": [
    "# OBS: caudata é erro na base. Deve ser retirada. \n",
    "cores_ordem = {\n",
    "    'Squamata': '#BF4417',\n",
    "    'Testudines': '#D9CB0B', \n",
    "    'Crocodylia': '#284021'\n",
    "}"
   ]
  },
  {
   "cell_type": "code",
   "execution_count": 88,
   "metadata": {
    "ExecuteTime": {
     "end_time": "2020-07-14T20:05:57.606811Z",
     "start_time": "2020-07-14T20:05:57.599837Z"
    }
   },
   "outputs": [],
   "source": [
    "ordens = list(cores_ordem.keys())\n",
    "cores = list(cores_ordem.values())"
   ]
  },
  {
   "cell_type": "markdown",
   "metadata": {},
   "source": [
    "<br>\n",
    "\n",
    "---\n",
    "\n",
    "## Graphs\n",
    "\n",
    "<font color='red'>**p.s.:** All the main charts were moved to individual notebooks. I've kept these two below only in case we need them.</font>\n",
    "\n",
    "### Total amount of catalogations per year\n",
    "\n",
    "x: Start Year (from Start Date)\n",
    "y: number of catalogations per year"
   ]
  },
  {
   "cell_type": "code",
   "execution_count": 89,
   "metadata": {
    "ExecuteTime": {
     "end_time": "2020-07-14T20:05:59.108914Z",
     "start_time": "2020-07-14T20:05:59.100404Z"
    }
   },
   "outputs": [],
   "source": [
    "# counting catalog. per year\n",
    "teste = repteis['ano_coleta'].value_counts()\n",
    "teste = teste.reset_index().rename(columns={'index':'year', 'ano_coleta':'counts'})"
   ]
  },
  {
   "cell_type": "code",
   "execution_count": 90,
   "metadata": {
    "ExecuteTime": {
     "end_time": "2020-07-14T20:05:59.617906Z",
     "start_time": "2020-07-14T20:05:59.604915Z"
    }
   },
   "outputs": [],
   "source": [
    "# adjusting columns for graphs\n",
    "teste['year'] = teste['year'].apply(lambda x:str(x).split('/')[0].split('.')[0]).astype(int)\n",
    "teste = teste.groupby('year').sum().reset_index() # soma do total de bichos coletados por ano"
   ]
  },
  {
   "cell_type": "code",
   "execution_count": 91,
   "metadata": {
    "ExecuteTime": {
     "end_time": "2020-07-14T20:06:00.092510Z",
     "start_time": "2020-07-14T20:06:00.089012Z"
    }
   },
   "outputs": [],
   "source": [
    "# min e max para eixo X (year)\n",
    "min_x = teste['year'].min()\n",
    "max_x = teste['year'].max()"
   ]
  },
  {
   "cell_type": "code",
   "execution_count": 92,
   "metadata": {
    "ExecuteTime": {
     "end_time": "2020-07-14T20:06:00.726085Z",
     "start_time": "2020-07-14T20:06:00.713085Z"
    }
   },
   "outputs": [
    {
     "data": {
      "text/html": [
       "\n",
       "<div id=\"altair-viz-6e4619da78f148608493e48ccdc4eba9\"></div>\n",
       "<script type=\"text/javascript\">\n",
       "  (function(spec, embedOpt){\n",
       "    let outputDiv = document.currentScript.previousElementSibling;\n",
       "    if (outputDiv.id !== \"altair-viz-6e4619da78f148608493e48ccdc4eba9\") {\n",
       "      outputDiv = document.getElementById(\"altair-viz-6e4619da78f148608493e48ccdc4eba9\");\n",
       "    }\n",
       "    const paths = {\n",
       "      \"vega\": \"https://cdn.jsdelivr.net/npm//vega@5?noext\",\n",
       "      \"vega-lib\": \"https://cdn.jsdelivr.net/npm//vega-lib?noext\",\n",
       "      \"vega-lite\": \"https://cdn.jsdelivr.net/npm//vega-lite@4.8.1?noext\",\n",
       "      \"vega-embed\": \"https://cdn.jsdelivr.net/npm//vega-embed@6?noext\",\n",
       "    };\n",
       "\n",
       "    function loadScript(lib) {\n",
       "      return new Promise(function(resolve, reject) {\n",
       "        var s = document.createElement('script');\n",
       "        s.src = paths[lib];\n",
       "        s.async = true;\n",
       "        s.onload = () => resolve(paths[lib]);\n",
       "        s.onerror = () => reject(`Error loading script: ${paths[lib]}`);\n",
       "        document.getElementsByTagName(\"head\")[0].appendChild(s);\n",
       "      });\n",
       "    }\n",
       "\n",
       "    function showError(err) {\n",
       "      outputDiv.innerHTML = `<div class=\"error\" style=\"color:red;\">${err}</div>`;\n",
       "      throw err;\n",
       "    }\n",
       "\n",
       "    function displayChart(vegaEmbed) {\n",
       "      vegaEmbed(outputDiv, spec, embedOpt)\n",
       "        .catch(err => showError(`Javascript Error: ${err.message}<br>This usually means there's a typo in your chart specification. See the javascript console for the full traceback.`));\n",
       "    }\n",
       "\n",
       "    if(typeof define === \"function\" && define.amd) {\n",
       "      requirejs.config({paths});\n",
       "      require([\"vega-embed\"], displayChart, err => showError(`Error loading script: ${err.message}`));\n",
       "    } else if (typeof vegaEmbed === \"function\") {\n",
       "      displayChart(vegaEmbed);\n",
       "    } else {\n",
       "      loadScript(\"vega\")\n",
       "        .then(() => loadScript(\"vega-lite\"))\n",
       "        .then(() => loadScript(\"vega-embed\"))\n",
       "        .catch(showError)\n",
       "        .then(() => displayChart(vegaEmbed));\n",
       "    }\n",
       "  })({\"config\": {\"view\": {\"continuousWidth\": 400, \"continuousHeight\": 300}}, \"data\": {\"name\": \"data-53e0b568502cd62fcfab8b69c7133c73\"}, \"mark\": \"bar\", \"encoding\": {\"x\": {\"type\": \"ordinal\", \"field\": \"year\", \"title\": \"Ano de Coleta\"}, \"y\": {\"type\": \"quantitative\", \"field\": \"counts\", \"title\": \"Contagem\"}}, \"title\": \"Number of collected animals per year\", \"width\": 800, \"$schema\": \"https://vega.github.io/schema/vega-lite/v4.8.1.json\", \"datasets\": {\"data-53e0b568502cd62fcfab8b69c7133c73\": [{\"year\": 0, \"counts\": 5}, {\"year\": 1824, \"counts\": 1}, {\"year\": 1876, \"counts\": 74}, {\"year\": 1901, \"counts\": 3}, {\"year\": 1902, \"counts\": 2}, {\"year\": 1903, \"counts\": 1}, {\"year\": 1905, \"counts\": 1}, {\"year\": 1906, \"counts\": 1}, {\"year\": 1907, \"counts\": 4}, {\"year\": 1912, \"counts\": 4}, {\"year\": 1913, \"counts\": 2}, {\"year\": 1914, \"counts\": 1}, {\"year\": 1915, \"counts\": 6}, {\"year\": 1916, \"counts\": 3}, {\"year\": 1917, \"counts\": 1}, {\"year\": 1919, \"counts\": 3}, {\"year\": 1922, \"counts\": 2}, {\"year\": 1923, \"counts\": 3}, {\"year\": 1924, \"counts\": 1}, {\"year\": 1925, \"counts\": 1}, {\"year\": 1926, \"counts\": 1}, {\"year\": 1928, \"counts\": 1}, {\"year\": 1931, \"counts\": 2}, {\"year\": 1932, \"counts\": 1}, {\"year\": 1933, \"counts\": 3}, {\"year\": 1935, \"counts\": 2}, {\"year\": 1936, \"counts\": 3}, {\"year\": 1937, \"counts\": 29}, {\"year\": 1938, \"counts\": 1}, {\"year\": 1939, \"counts\": 205}, {\"year\": 1940, \"counts\": 55}, {\"year\": 1941, \"counts\": 17}, {\"year\": 1942, \"counts\": 262}, {\"year\": 1943, \"counts\": 112}, {\"year\": 1944, \"counts\": 161}, {\"year\": 1945, \"counts\": 391}, {\"year\": 1946, \"counts\": 51}, {\"year\": 1947, \"counts\": 102}, {\"year\": 1948, \"counts\": 106}, {\"year\": 1949, \"counts\": 27}, {\"year\": 1950, \"counts\": 54}, {\"year\": 1951, \"counts\": 33}, {\"year\": 1952, \"counts\": 57}, {\"year\": 1953, \"counts\": 46}, {\"year\": 1954, \"counts\": 30}, {\"year\": 1955, \"counts\": 31}, {\"year\": 1956, \"counts\": 52}, {\"year\": 1957, \"counts\": 65}, {\"year\": 1958, \"counts\": 33}, {\"year\": 1959, \"counts\": 21}, {\"year\": 1960, \"counts\": 14}, {\"year\": 1961, \"counts\": 20}, {\"year\": 1962, \"counts\": 10}, {\"year\": 1963, \"counts\": 47}, {\"year\": 1964, \"counts\": 56}, {\"year\": 1965, \"counts\": 35}, {\"year\": 1966, \"counts\": 24}, {\"year\": 1967, \"counts\": 10}, {\"year\": 1968, \"counts\": 26}, {\"year\": 1969, \"counts\": 51}, {\"year\": 1970, \"counts\": 33}, {\"year\": 1971, \"counts\": 44}, {\"year\": 1972, \"counts\": 34}, {\"year\": 1973, \"counts\": 56}, {\"year\": 1974, \"counts\": 29}, {\"year\": 1975, \"counts\": 134}, {\"year\": 1976, \"counts\": 117}, {\"year\": 1977, \"counts\": 28}, {\"year\": 1978, \"counts\": 41}, {\"year\": 1979, \"counts\": 55}, {\"year\": 1980, \"counts\": 44}, {\"year\": 1981, \"counts\": 53}, {\"year\": 1982, \"counts\": 76}, {\"year\": 1983, \"counts\": 51}, {\"year\": 1984, \"counts\": 91}, {\"year\": 1985, \"counts\": 159}, {\"year\": 1986, \"counts\": 483}, {\"year\": 1987, \"counts\": 627}, {\"year\": 1988, \"counts\": 508}, {\"year\": 1989, \"counts\": 396}, {\"year\": 1990, \"counts\": 293}, {\"year\": 1991, \"counts\": 443}, {\"year\": 1992, \"counts\": 270}, {\"year\": 1993, \"counts\": 289}, {\"year\": 1994, \"counts\": 469}, {\"year\": 1995, \"counts\": 309}, {\"year\": 1996, \"counts\": 365}, {\"year\": 1997, \"counts\": 515}, {\"year\": 1998, \"counts\": 488}, {\"year\": 1999, \"counts\": 558}, {\"year\": 2000, \"counts\": 473}, {\"year\": 2001, \"counts\": 309}, {\"year\": 2002, \"counts\": 464}, {\"year\": 2003, \"counts\": 340}, {\"year\": 2004, \"counts\": 361}, {\"year\": 2005, \"counts\": 454}, {\"year\": 2006, \"counts\": 478}, {\"year\": 2007, \"counts\": 650}, {\"year\": 2008, \"counts\": 1239}, {\"year\": 2009, \"counts\": 942}, {\"year\": 2010, \"counts\": 774}, {\"year\": 2011, \"counts\": 602}, {\"year\": 2012, \"counts\": 564}, {\"year\": 2013, \"counts\": 574}, {\"year\": 2014, \"counts\": 411}, {\"year\": 2015, \"counts\": 590}, {\"year\": 2016, \"counts\": 125}]}}, {\"mode\": \"vega-lite\"});\n",
       "</script>"
      ],
      "text/plain": [
       "alt.Chart(...)"
      ]
     },
     "execution_count": 92,
     "metadata": {},
     "output_type": "execute_result"
    }
   ],
   "source": [
    "temp = alt.Chart(data= teste, width=800, title= 'Number of collected animals per year').mark_bar().encode(\n",
    "    x= alt.X('year', type='ordinal', title='Ano de Coleta'),\n",
    "    y= alt.Y('counts', type='quantitative', title='Contagem')\n",
    ")\n",
    "\n",
    "# temp.save('./graphs/coletas_por_ano.html')\n",
    "temp"
   ]
  },
  {
   "cell_type": "markdown",
   "metadata": {},
   "source": [
    "<br>\n",
    "\n",
    "---\n",
    "\n",
    "### Types (*per year*) <font color='red'>Coluna Tipos n tá preenchida. Trocando por Espécie...</font>\n",
    "\n",
    "#### adjusting columns `determined_year` e `cataloged_year` to ```*int*``` format "
   ]
  },
  {
   "cell_type": "code",
   "execution_count": 93,
   "metadata": {
    "ExecuteTime": {
     "end_time": "2020-07-14T20:06:05.542769Z",
     "start_time": "2020-07-14T20:06:05.538948Z"
    }
   },
   "outputs": [],
   "source": [
    "def str_with_nan2int(string):\n",
    "    if not np.isnan(string):\n",
    "        return int(string)\n",
    "    else:\n",
    "        return np.NAN"
   ]
  },
  {
   "cell_type": "code",
   "execution_count": 94,
   "metadata": {
    "ExecuteTime": {
     "end_time": "2020-07-14T20:06:06.225314Z",
     "start_time": "2020-07-14T20:06:06.075437Z"
    }
   },
   "outputs": [],
   "source": [
    "NewTable['ano_determinacao'] = NewTable['ano_determinacao'].apply(str_with_nan2int) #has NaN\n",
    "NewTable['ano_coleta'] = NewTable['ano_coleta'].apply(str_with_nan2int) #has NaN\n",
    "NewTable['ano_entrada'] = NewTable['ano_entrada'].apply(str_with_nan2int) #has NaN"
   ]
  },
  {
   "cell_type": "markdown",
   "metadata": {},
   "source": [
    "#### removing duplicated rows as we took a subset of the main database"
   ]
  },
  {
   "cell_type": "code",
   "execution_count": 95,
   "metadata": {
    "ExecuteTime": {
     "end_time": "2020-07-14T20:06:07.951669Z",
     "start_time": "2020-07-14T20:06:07.845097Z"
    }
   },
   "outputs": [
    {
     "name": "stdout",
     "output_type": "stream",
     "text": [
      "Duplicated registers: 11991\n"
     ]
    }
   ],
   "source": [
    "teste1 = NewTable.drop_duplicates().copy()  # removes duplicated rows (with same values in ALL columns)\n",
    "print('Duplicated registers:',NewTable.shape[0] - NewTable.drop_duplicates().shape[0])\n",
    "# teste1.head(2)"
   ]
  },
  {
   "cell_type": "markdown",
   "metadata": {},
   "source": [
    "### Altitude per family"
   ]
  },
  {
   "cell_type": "code",
   "execution_count": 111,
   "metadata": {
    "ExecuteTime": {
     "end_time": "2020-07-14T20:12:14.368929Z",
     "start_time": "2020-07-14T20:12:14.282533Z"
    }
   },
   "outputs": [],
   "source": [
    "teste = NewTable[['altitude','familia','ordem', 'ano_coleta', 'qualificador_atual']].copy()\n",
    "\n",
    "teste['altitude'] = teste['altitude'].str.extract('(\\d+)')\n",
    "\n",
    "# sorting\n",
    "teste = teste.sort_values(['altitude','familia'])\n",
    "\n",
    "# dropping na\n",
    "teste.dropna(subset=['altitude'], inplace=True)\n",
    "\n",
    "teste['altitude'] = teste['altitude'].astype(float)\n",
    "\n",
    "# removing outlier\n",
    "teste = teste[teste['altitude'] < 7000].copy()"
   ]
  },
  {
   "cell_type": "code",
   "execution_count": 100,
   "metadata": {
    "ExecuteTime": {
     "end_time": "2020-07-14T20:06:20.866863Z",
     "start_time": "2020-07-14T20:06:20.729374Z"
    }
   },
   "outputs": [
    {
     "data": {
      "text/html": [
       "\n",
       "<div id=\"altair-viz-f33dce33f3904b83b1e667d96702ea65\"></div>\n",
       "<script type=\"text/javascript\">\n",
       "  (function(spec, embedOpt){\n",
       "    let outputDiv = document.currentScript.previousElementSibling;\n",
       "    if (outputDiv.id !== \"altair-viz-f33dce33f3904b83b1e667d96702ea65\") {\n",
       "      outputDiv = document.getElementById(\"altair-viz-f33dce33f3904b83b1e667d96702ea65\");\n",
       "    }\n",
       "    const paths = {\n",
       "      \"vega\": \"https://cdn.jsdelivr.net/npm//vega@5?noext\",\n",
       "      \"vega-lib\": \"https://cdn.jsdelivr.net/npm//vega-lib?noext\",\n",
       "      \"vega-lite\": \"https://cdn.jsdelivr.net/npm//vega-lite@4.8.1?noext\",\n",
       "      \"vega-embed\": \"https://cdn.jsdelivr.net/npm//vega-embed@6?noext\",\n",
       "    };\n",
       "\n",
       "    function loadScript(lib) {\n",
       "      return new Promise(function(resolve, reject) {\n",
       "        var s = document.createElement('script');\n",
       "        s.src = paths[lib];\n",
       "        s.async = true;\n",
       "        s.onload = () => resolve(paths[lib]);\n",
       "        s.onerror = () => reject(`Error loading script: ${paths[lib]}`);\n",
       "        document.getElementsByTagName(\"head\")[0].appendChild(s);\n",
       "      });\n",
       "    }\n",
       "\n",
       "    function showError(err) {\n",
       "      outputDiv.innerHTML = `<div class=\"error\" style=\"color:red;\">${err}</div>`;\n",
       "      throw err;\n",
       "    }\n",
       "\n",
       "    function displayChart(vegaEmbed) {\n",
       "      vegaEmbed(outputDiv, spec, embedOpt)\n",
       "        .catch(err => showError(`Javascript Error: ${err.message}<br>This usually means there's a typo in your chart specification. See the javascript console for the full traceback.`));\n",
       "    }\n",
       "\n",
       "    if(typeof define === \"function\" && define.amd) {\n",
       "      requirejs.config({paths});\n",
       "      require([\"vega-embed\"], displayChart, err => showError(`Error loading script: ${err.message}`));\n",
       "    } else if (typeof vegaEmbed === \"function\") {\n",
       "      displayChart(vegaEmbed);\n",
       "    } else {\n",
       "      loadScript(\"vega\")\n",
       "        .then(() => loadScript(\"vega-lite\"))\n",
       "        .then(() => loadScript(\"vega-embed\"))\n",
       "        .catch(showError)\n",
       "        .then(() => displayChart(vegaEmbed));\n",
       "    }\n",
       "  })({\"config\": {\"view\": {\"continuousWidth\": 400, \"continuousHeight\": 300}}, \"data\": {\"name\": \"data-30f32fc5afa508af59182401a46ab550\"}, \"mark\": {\"type\": \"circle\", \"color\": \"#BF4417\"}, \"encoding\": {\"tooltip\": [{\"type\": \"nominal\", \"field\": \"ordem\"}, {\"type\": \"nominal\", \"field\": \"familia\"}, {\"type\": \"quantitative\", \"field\": \"altitude\"}, {\"type\": \"quantitative\", \"field\": \"ano_coleta\"}, {\"type\": \"nominal\", \"field\": \"qualificador_atual\"}], \"x\": {\"type\": \"nominal\", \"field\": \"familia\", \"sort\": {\"field\": \"altitude\", \"op\": \"max\", \"order\": \"ascending\"}, \"title\": \"Family\"}, \"y\": {\"type\": \"quantitative\", \"field\": \"altitude\", \"title\": \"Altitude (in meters)\"}}, \"title\": \"Altitude per family (Squamata)\", \"$schema\": \"https://vega.github.io/schema/vega-lite/v4.8.1.json\", \"datasets\": {\"data-30f32fc5afa508af59182401a46ab550\": [{\"altitude\": 0.0, \"familia\": \"Dipsadidae\", \"ordem\": \"Squamata\", \"ano_coleta\": 2008.0, \"qualificador_atual\": null}, {\"altitude\": 0.0, \"familia\": \"Gekkonidae\", \"ordem\": \"Squamata\", \"ano_coleta\": 2008.0, \"qualificador_atual\": null}, {\"altitude\": 1.0, \"familia\": \"Gekkonidae\", \"ordem\": \"Squamata\", \"ano_coleta\": 2008.0, \"qualificador_atual\": null}, {\"altitude\": 1.0, \"familia\": \"Tropiduridae\", \"ordem\": \"Squamata\", \"ano_coleta\": null, \"qualificador_atual\": null}, {\"altitude\": 10.0, \"familia\": \"Dipsadidae\", \"ordem\": \"Squamata\", \"ano_coleta\": 2015.0, \"qualificador_atual\": null}, {\"altitude\": 10.0, \"familia\": \"Gymnophthalmidae\", \"ordem\": \"Squamata\", \"ano_coleta\": 2015.0, \"qualificador_atual\": null}, {\"altitude\": 100.0, \"familia\": \"Iguanidae\", \"ordem\": \"Squamata\", \"ano_coleta\": 2011.0, \"qualificador_atual\": null}, {\"altitude\": 100.0, \"familia\": \"Phyllodactylidae\", \"ordem\": \"Squamata\", \"ano_coleta\": 2011.0, \"qualificador_atual\": null}, {\"altitude\": 100.0, \"familia\": \"Tropiduridae\", \"ordem\": \"Squamata\", \"ano_coleta\": 2011.0, \"qualificador_atual\": null}, {\"altitude\": 105.0, \"familia\": \"Dipsadidae\", \"ordem\": \"Squamata\", \"ano_coleta\": 2011.0, \"qualificador_atual\": null}, {\"altitude\": 105.0, \"familia\": \"Elapidae\", \"ordem\": \"Squamata\", \"ano_coleta\": 2011.0, \"qualificador_atual\": null}, {\"altitude\": 1050.0, \"familia\": \"Colubridae\", \"ordem\": \"Squamata\", \"ano_coleta\": 1990.0, \"qualificador_atual\": null}, {\"altitude\": 1050.0, \"familia\": \"Dipsadidae\", \"ordem\": \"Squamata\", \"ano_coleta\": 2010.0, \"qualificador_atual\": null}, {\"altitude\": 1078.0, \"familia\": \"Tropiduridae\", \"ordem\": \"Squamata\", \"ano_coleta\": 2010.0, \"qualificador_atual\": null}, {\"altitude\": 108.0, \"familia\": \"Dipsadidae\", \"ordem\": \"Squamata\", \"ano_coleta\": 2011.0, \"qualificador_atual\": null}, {\"altitude\": 1086.0, \"familia\": \"Leiosauridae\", \"ordem\": \"Squamata\", \"ano_coleta\": 2007.0, \"qualificador_atual\": null}, {\"altitude\": 109.0, \"familia\": \"Dipsadidae\", \"ordem\": \"Squamata\", \"ano_coleta\": 2011.0, \"qualificador_atual\": null}, {\"altitude\": 109.0, \"familia\": \"Dipsadidae\", \"ordem\": \"Squamata\", \"ano_coleta\": 2011.0, \"qualificador_atual\": null}, {\"altitude\": 1100.0, \"familia\": \"Gymnophthalmidae\", \"ordem\": \"Squamata\", \"ano_coleta\": null, \"qualificador_atual\": \"c.\"}, {\"altitude\": 1130.0, \"familia\": \"Leiosauridae\", \"ordem\": \"Squamata\", \"ano_coleta\": 2014.0, \"qualificador_atual\": null}, {\"altitude\": 1138.0, \"familia\": \"Elapidae\", \"ordem\": \"Squamata\", \"ano_coleta\": 2013.0, \"qualificador_atual\": null}, {\"altitude\": 115.0, \"familia\": \"Boidae\", \"ordem\": \"Squamata\", \"ano_coleta\": 2008.0, \"qualificador_atual\": null}, {\"altitude\": 1150.0, \"familia\": \"Dipsadidae\", \"ordem\": \"Squamata\", \"ano_coleta\": null, \"qualificador_atual\": \"cf.\"}, {\"altitude\": 1179.0, \"familia\": \"Dipsadidae\", \"ordem\": \"Squamata\", \"ano_coleta\": 2014.0, \"qualificador_atual\": null}, {\"altitude\": 119.0, \"familia\": \"Dipsadidae\", \"ordem\": \"Squamata\", \"ano_coleta\": 2011.0, \"qualificador_atual\": null}, {\"altitude\": 1198.0, \"familia\": \"Dipsadidae\", \"ordem\": \"Squamata\", \"ano_coleta\": 2014.0, \"qualificador_atual\": null}, {\"altitude\": 1200.0, \"familia\": \"Dipsadidae\", \"ordem\": \"Squamata\", \"ano_coleta\": null, \"qualificador_atual\": null}, {\"altitude\": 1200.0, \"familia\": \"Viperidae\", \"ordem\": \"Squamata\", \"ano_coleta\": 1994.0, \"qualificador_atual\": null}, {\"altitude\": 1200.0, \"familia\": \"Viperidae\", \"ordem\": \"Squamata\", \"ano_coleta\": 1994.0, \"qualificador_atual\": null}, {\"altitude\": 1200.0, \"familia\": \"Viperidae\", \"ordem\": \"Squamata\", \"ano_coleta\": 1968.0, \"qualificador_atual\": null}, {\"altitude\": 1200.0, \"familia\": \"Viperidae\", \"ordem\": \"Squamata\", \"ano_coleta\": 1968.0, \"qualificador_atual\": null}, {\"altitude\": 1210.0, \"familia\": \"Dipsadidae\", \"ordem\": \"Squamata\", \"ano_coleta\": 2014.0, \"qualificador_atual\": null}, {\"altitude\": 1233.0, \"familia\": \"Dipsadidae\", \"ordem\": \"Squamata\", \"ano_coleta\": 2015.0, \"qualificador_atual\": null}, {\"altitude\": 1249.0, \"familia\": \"Dipsadidae\", \"ordem\": \"Squamata\", \"ano_coleta\": 2014.0, \"qualificador_atual\": null}, {\"altitude\": 126.0, \"familia\": \"Viperidae\", \"ordem\": \"Squamata\", \"ano_coleta\": 2012.0, \"qualificador_atual\": null}, {\"altitude\": 1260.0, \"familia\": \"Dipsadidae\", \"ordem\": \"Squamata\", \"ano_coleta\": 2014.0, \"qualificador_atual\": null}, {\"altitude\": 1274.0, \"familia\": \"Dipsadidae\", \"ordem\": \"Squamata\", \"ano_coleta\": 2013.0, \"qualificador_atual\": null}, {\"altitude\": 128.0, \"familia\": \"Gymnophthalmidae\", \"ordem\": \"Squamata\", \"ano_coleta\": 2011.0, \"qualificador_atual\": null}, {\"altitude\": 128.0, \"familia\": \"Gymnophthalmidae\", \"ordem\": \"Squamata\", \"ano_coleta\": 2011.0, \"qualificador_atual\": null}, {\"altitude\": 128.0, \"familia\": \"Gymnophthalmidae\", \"ordem\": \"Squamata\", \"ano_coleta\": 2011.0, \"qualificador_atual\": null}, {\"altitude\": 128.0, \"familia\": \"Phyllodactylidae\", \"ordem\": \"Squamata\", \"ano_coleta\": 2011.0, \"qualificador_atual\": null}, {\"altitude\": 128.0, \"familia\": \"Phyllodactylidae\", \"ordem\": \"Squamata\", \"ano_coleta\": 2011.0, \"qualificador_atual\": null}, {\"altitude\": 128.0, \"familia\": \"Scincidae\", \"ordem\": \"Squamata\", \"ano_coleta\": 2011.0, \"qualificador_atual\": null}, {\"altitude\": 128.0, \"familia\": \"Scincidae\", \"ordem\": \"Squamata\", \"ano_coleta\": 2011.0, \"qualificador_atual\": null}, {\"altitude\": 128.0, \"familia\": \"Sphaerodactylidae\", \"ordem\": \"Squamata\", \"ano_coleta\": 2011.0, \"qualificador_atual\": null}, {\"altitude\": 128.0, \"familia\": \"Sphaerodactylidae\", \"ordem\": \"Squamata\", \"ano_coleta\": 2011.0, \"qualificador_atual\": null}, {\"altitude\": 128.0, \"familia\": \"Teiidae\", \"ordem\": \"Squamata\", \"ano_coleta\": 2011.0, \"qualificador_atual\": null}, {\"altitude\": 128.0, \"familia\": \"Tropiduridae\", \"ordem\": \"Squamata\", \"ano_coleta\": 2011.0, \"qualificador_atual\": null}, {\"altitude\": 1280.0, \"familia\": \"Leiosauridae\", \"ordem\": \"Squamata\", \"ano_coleta\": 1996.0, \"qualificador_atual\": null}, {\"altitude\": 1280.0, \"familia\": \"Leiosauridae\", \"ordem\": \"Squamata\", \"ano_coleta\": 1996.0, \"qualificador_atual\": null}, {\"altitude\": 1284.0, \"familia\": \"Elapidae\", \"ordem\": \"Squamata\", \"ano_coleta\": 2013.0, \"qualificador_atual\": null}, {\"altitude\": 1298.0, \"familia\": \"Viperidae\", \"ordem\": \"Squamata\", \"ano_coleta\": 2013.0, \"qualificador_atual\": null}, {\"altitude\": 13.0, \"familia\": \"Anguidae\", \"ordem\": \"Squamata\", \"ano_coleta\": 2013.0, \"qualificador_atual\": null}, {\"altitude\": 13.0, \"familia\": \"Dipsadidae\", \"ordem\": \"Squamata\", \"ano_coleta\": 2015.0, \"qualificador_atual\": null}, {\"altitude\": 13.0, \"familia\": \"Gekkonidae\", \"ordem\": \"Squamata\", \"ano_coleta\": 2015.0, \"qualificador_atual\": null}, {\"altitude\": 1300.0, \"familia\": \"Dipsadidae\", \"ordem\": \"Squamata\", \"ano_coleta\": null, \"qualificador_atual\": null}, {\"altitude\": 1300.0, \"familia\": \"Dipsadidae\", \"ordem\": \"Squamata\", \"ano_coleta\": 1993.0, \"qualificador_atual\": null}, {\"altitude\": 1300.0, \"familia\": \"Viperidae\", \"ordem\": \"Squamata\", \"ano_coleta\": null, \"qualificador_atual\": null}, {\"altitude\": 1301.0, \"familia\": \"Amphisbaenidae\", \"ordem\": \"Squamata\", \"ano_coleta\": 2014.0, \"qualificador_atual\": null}, {\"altitude\": 1301.0, \"familia\": \"Anguidae\", \"ordem\": \"Squamata\", \"ano_coleta\": 2004.0, \"qualificador_atual\": \"sp.\"}, {\"altitude\": 1302.0, \"familia\": \"Dipsadidae\", \"ordem\": \"Squamata\", \"ano_coleta\": 2013.0, \"qualificador_atual\": null}, {\"altitude\": 1318.0, \"familia\": \"Dipsadidae\", \"ordem\": \"Squamata\", \"ano_coleta\": 2014.0, \"qualificador_atual\": null}, {\"altitude\": 1328.0, \"familia\": \"Dipsadidae\", \"ordem\": \"Squamata\", \"ano_coleta\": 2013.0, \"qualificador_atual\": null}, {\"altitude\": 1344.0, \"familia\": \"Elapidae\", \"ordem\": \"Squamata\", \"ano_coleta\": 2013.0, \"qualificador_atual\": null}, {\"altitude\": 135.0, \"familia\": \"Teiidae\", \"ordem\": \"Squamata\", \"ano_coleta\": 2006.0, \"qualificador_atual\": null}, {\"altitude\": 1355.0, \"familia\": \"Dipsadidae\", \"ordem\": \"Squamata\", \"ano_coleta\": 2013.0, \"qualificador_atual\": null}, {\"altitude\": 1367.0, \"familia\": \"Dipsadidae\", \"ordem\": \"Squamata\", \"ano_coleta\": 2015.0, \"qualificador_atual\": null}, {\"altitude\": 14.0, \"familia\": \"Dipsadidae\", \"ordem\": \"Squamata\", \"ano_coleta\": 2014.0, \"qualificador_atual\": null}, {\"altitude\": 14.0, \"familia\": \"Gekkonidae\", \"ordem\": \"Squamata\", \"ano_coleta\": 2015.0, \"qualificador_atual\": null}, {\"altitude\": 14.0, \"familia\": \"Gekkonidae\", \"ordem\": \"Squamata\", \"ano_coleta\": 2015.0, \"qualificador_atual\": null}, {\"altitude\": 14.0, \"familia\": \"Scincidae\", \"ordem\": \"Squamata\", \"ano_coleta\": 2014.0, \"qualificador_atual\": null}, {\"altitude\": 14.0, \"familia\": \"Typhlopidae\", \"ordem\": \"Squamata\", \"ano_coleta\": 2014.0, \"qualificador_atual\": null}, {\"altitude\": 14.0, \"familia\": \"Typhlopidae\", \"ordem\": \"Squamata\", \"ano_coleta\": 2014.0, \"qualificador_atual\": null}, {\"altitude\": 14.0, \"familia\": \"Typhlopidae\", \"ordem\": \"Squamata\", \"ano_coleta\": 2015.0, \"qualificador_atual\": null}, {\"altitude\": 1400.0, \"familia\": \"Viperidae\", \"ordem\": \"Squamata\", \"ano_coleta\": 1989.0, \"qualificador_atual\": null}, {\"altitude\": 1412.0, \"familia\": \"Dipsadidae\", \"ordem\": \"Squamata\", \"ano_coleta\": 2013.0, \"qualificador_atual\": null}, {\"altitude\": 142.0, \"familia\": \"Dipsadidae\", \"ordem\": \"Squamata\", \"ano_coleta\": 2011.0, \"qualificador_atual\": null}, {\"altitude\": 1420.0, \"familia\": \"Dipsadidae\", \"ordem\": \"Squamata\", \"ano_coleta\": 2010.0, \"qualificador_atual\": null}, {\"altitude\": 1420.0, \"familia\": \"Viperidae\", \"ordem\": \"Squamata\", \"ano_coleta\": 2015.0, \"qualificador_atual\": null}, {\"altitude\": 1421.0, \"familia\": \"Viperidae\", \"ordem\": \"Squamata\", \"ano_coleta\": 2014.0, \"qualificador_atual\": null}, {\"altitude\": 1430.0, \"familia\": \"Dipsadidae\", \"ordem\": \"Squamata\", \"ano_coleta\": 2013.0, \"qualificador_atual\": null}, {\"altitude\": 144.0, \"familia\": \"Viperidae\", \"ordem\": \"Squamata\", \"ano_coleta\": 2011.0, \"qualificador_atual\": null}, {\"altitude\": 1440.0, \"familia\": \"Viperidae\", \"ordem\": \"Squamata\", \"ano_coleta\": 2014.0, \"qualificador_atual\": null}, {\"altitude\": 1469.0, \"familia\": \"Dipsadidae\", \"ordem\": \"Squamata\", \"ano_coleta\": 2013.0, \"qualificador_atual\": null}, {\"altitude\": 1480.0, \"familia\": \"Viperidae\", \"ordem\": \"Squamata\", \"ano_coleta\": 2014.0, \"qualificador_atual\": null}, {\"altitude\": 149.0, \"familia\": \"Colubridae\", \"ordem\": \"Squamata\", \"ano_coleta\": 2011.0, \"qualificador_atual\": null}, {\"altitude\": 149.0, \"familia\": \"Sphaerodactylidae\", \"ordem\": \"Squamata\", \"ano_coleta\": 2011.0, \"qualificador_atual\": null}, {\"altitude\": 1490.0, \"familia\": \"Dipsadidae\", \"ordem\": \"Squamata\", \"ano_coleta\": 2010.0, \"qualificador_atual\": null}, {\"altitude\": 1498.0, \"familia\": \"Anguidae\", \"ordem\": \"Squamata\", \"ano_coleta\": 2014.0, \"qualificador_atual\": null}, {\"altitude\": 1498.0, \"familia\": \"Teiidae\", \"ordem\": \"Squamata\", \"ano_coleta\": 2014.0, \"qualificador_atual\": null}, {\"altitude\": 1498.0, \"familia\": \"Viperidae\", \"ordem\": \"Squamata\", \"ano_coleta\": 2014.0, \"qualificador_atual\": null}, {\"altitude\": 15.0, \"familia\": \"Teiidae\", \"ordem\": \"Squamata\", \"ano_coleta\": 2014.0, \"qualificador_atual\": null}, {\"altitude\": 15.0, \"familia\": \"Teiidae\", \"ordem\": \"Squamata\", \"ano_coleta\": 2014.0, \"qualificador_atual\": null}, {\"altitude\": 15.0, \"familia\": \"Tropiduridae\", \"ordem\": \"Squamata\", \"ano_coleta\": 2014.0, \"qualificador_atual\": null}, {\"altitude\": 15.0, \"familia\": \"Tropiduridae\", \"ordem\": \"Squamata\", \"ano_coleta\": 2014.0, \"qualificador_atual\": null}, {\"altitude\": 15.0, \"familia\": \"Tropiduridae\", \"ordem\": \"Squamata\", \"ano_coleta\": 2014.0, \"qualificador_atual\": null}, {\"altitude\": 15.0, \"familia\": \"Tropiduridae\", \"ordem\": \"Squamata\", \"ano_coleta\": 2014.0, \"qualificador_atual\": null}, {\"altitude\": 15.0, \"familia\": \"Tropiduridae\", \"ordem\": \"Squamata\", \"ano_coleta\": 2014.0, \"qualificador_atual\": null}, {\"altitude\": 15.0, \"familia\": \"Tropiduridae\", \"ordem\": \"Squamata\", \"ano_coleta\": 2015.0, \"qualificador_atual\": null}, {\"altitude\": 15.0, \"familia\": \"Typhlopidae\", \"ordem\": \"Squamata\", \"ano_coleta\": 2014.0, \"qualificador_atual\": null}, {\"altitude\": 15.0, \"familia\": \"Typhlopidae\", \"ordem\": \"Squamata\", \"ano_coleta\": 2014.0, \"qualificador_atual\": null}, {\"altitude\": 15.0, \"familia\": \"Typhlopidae\", \"ordem\": \"Squamata\", \"ano_coleta\": 2015.0, \"qualificador_atual\": null}, {\"altitude\": 15.0, \"familia\": \"Typhlopidae\", \"ordem\": \"Squamata\", \"ano_coleta\": 2015.0, \"qualificador_atual\": null}, {\"altitude\": 15.0, \"familia\": \"Typhlopidae\", \"ordem\": \"Squamata\", \"ano_coleta\": 2015.0, \"qualificador_atual\": null}, {\"altitude\": 150.0, \"familia\": \"Amphisbaenidae\", \"ordem\": \"Squamata\", \"ano_coleta\": 1989.0, \"qualificador_atual\": null}, {\"altitude\": 150.0, \"familia\": \"Phyllodactylidae\", \"ordem\": \"Squamata\", \"ano_coleta\": 2004.0, \"qualificador_atual\": null}, {\"altitude\": 150.0, \"familia\": \"Viperidae\", \"ordem\": \"Squamata\", \"ano_coleta\": 2007.0, \"qualificador_atual\": null}, {\"altitude\": 1500.0, \"familia\": \"Colubridae\", \"ordem\": \"Squamata\", \"ano_coleta\": 2014.0, \"qualificador_atual\": null}, {\"altitude\": 1500.0, \"familia\": \"Dipsadidae\", \"ordem\": \"Squamata\", \"ano_coleta\": 1992.0, \"qualificador_atual\": \"aff.\"}, {\"altitude\": 1500.0, \"familia\": \"Scincidae\", \"ordem\": \"Squamata\", \"ano_coleta\": 1998.0, \"qualificador_atual\": \"cf.\"}, {\"altitude\": 1511.0, \"familia\": \"Dipsadidae\", \"ordem\": \"Squamata\", \"ano_coleta\": 2014.0, \"qualificador_atual\": null}, {\"altitude\": 1527.0, \"familia\": \"Dipsadidae\", \"ordem\": \"Squamata\", \"ano_coleta\": 2014.0, \"qualificador_atual\": null}, {\"altitude\": 159.0, \"familia\": \"Gekkonidae\", \"ordem\": \"Squamata\", \"ano_coleta\": 2007.0, \"qualificador_atual\": null}, {\"altitude\": 16.0, \"familia\": \"Gekkonidae\", \"ordem\": \"Squamata\", \"ano_coleta\": 2014.0, \"qualificador_atual\": null}, {\"altitude\": 16.0, \"familia\": \"Gekkonidae\", \"ordem\": \"Squamata\", \"ano_coleta\": 2015.0, \"qualificador_atual\": null}, {\"altitude\": 16.0, \"familia\": \"Gymnophthalmidae\", \"ordem\": \"Squamata\", \"ano_coleta\": 2015.0, \"qualificador_atual\": null}, {\"altitude\": 16.0, \"familia\": \"Phyllodactylidae\", \"ordem\": \"Squamata\", \"ano_coleta\": 2014.0, \"qualificador_atual\": null}, {\"altitude\": 16.0, \"familia\": \"Phyllodactylidae\", \"ordem\": \"Squamata\", \"ano_coleta\": 2014.0, \"qualificador_atual\": null}, {\"altitude\": 16.0, \"familia\": \"Phyllodactylidae\", \"ordem\": \"Squamata\", \"ano_coleta\": 2014.0, \"qualificador_atual\": null}, {\"altitude\": 16.0, \"familia\": \"Phyllodactylidae\", \"ordem\": \"Squamata\", \"ano_coleta\": 2014.0, \"qualificador_atual\": null}, {\"altitude\": 16.0, \"familia\": \"Scincidae\", \"ordem\": \"Squamata\", \"ano_coleta\": 2014.0, \"qualificador_atual\": null}, {\"altitude\": 16.0, \"familia\": \"Teiidae\", \"ordem\": \"Squamata\", \"ano_coleta\": 2014.0, \"qualificador_atual\": null}, {\"altitude\": 16.0, \"familia\": \"Tropiduridae\", \"ordem\": \"Squamata\", \"ano_coleta\": 2014.0, \"qualificador_atual\": null}, {\"altitude\": 16.0, \"familia\": \"Tropiduridae\", \"ordem\": \"Squamata\", \"ano_coleta\": 2014.0, \"qualificador_atual\": null}, {\"altitude\": 16.0, \"familia\": \"Tropiduridae\", \"ordem\": \"Squamata\", \"ano_coleta\": 2014.0, \"qualificador_atual\": null}, {\"altitude\": 16.0, \"familia\": \"Tropiduridae\", \"ordem\": \"Squamata\", \"ano_coleta\": 2014.0, \"qualificador_atual\": null}, {\"altitude\": 16.0, \"familia\": \"Typhlopidae\", \"ordem\": \"Squamata\", \"ano_coleta\": 2015.0, \"qualificador_atual\": null}, {\"altitude\": 16.0, \"familia\": \"Typhlopidae\", \"ordem\": \"Squamata\", \"ano_coleta\": 2015.0, \"qualificador_atual\": null}, {\"altitude\": 16.0, \"familia\": \"Typhlopidae\", \"ordem\": \"Squamata\", \"ano_coleta\": 2016.0, \"qualificador_atual\": null}, {\"altitude\": 169.0, \"familia\": \"Boidae\", \"ordem\": \"Squamata\", \"ano_coleta\": 1952.0, \"qualificador_atual\": null}, {\"altitude\": 169.0, \"familia\": \"Boidae\", \"ordem\": \"Squamata\", \"ano_coleta\": 1995.0, \"qualificador_atual\": null}, {\"altitude\": 17.0, \"familia\": \"Anguidae\", \"ordem\": \"Squamata\", \"ano_coleta\": 2013.0, \"qualificador_atual\": null}, {\"altitude\": 17.0, \"familia\": \"Viperidae\", \"ordem\": \"Squamata\", \"ano_coleta\": 2014.0, \"qualificador_atual\": null}, {\"altitude\": 170.0, \"familia\": \"Dipsadidae\", \"ordem\": \"Squamata\", \"ano_coleta\": 2008.0, \"qualificador_atual\": null}, {\"altitude\": 1700.0, \"familia\": \"Leiosauridae\", \"ordem\": \"Squamata\", \"ano_coleta\": 1948.0, \"qualificador_atual\": null}, {\"altitude\": 1740.0, \"familia\": \"Leiosauridae\", \"ordem\": \"Squamata\", \"ano_coleta\": 2004.0, \"qualificador_atual\": null}, {\"altitude\": 175.0, \"familia\": \"Dipsadidae\", \"ordem\": \"Squamata\", \"ano_coleta\": 2011.0, \"qualificador_atual\": null}, {\"altitude\": 175.0, \"familia\": \"Dipsadidae\", \"ordem\": \"Squamata\", \"ano_coleta\": 2011.0, \"qualificador_atual\": null}, {\"altitude\": 175.0, \"familia\": \"Dipsadidae\", \"ordem\": \"Squamata\", \"ano_coleta\": 2011.0, \"qualificador_atual\": null}, {\"altitude\": 175.0, \"familia\": \"Dipsadidae\", \"ordem\": \"Squamata\", \"ano_coleta\": 2011.0, \"qualificador_atual\": null}, {\"altitude\": 175.0, \"familia\": \"Phyllodactylidae\", \"ordem\": \"Squamata\", \"ano_coleta\": 2011.0, \"qualificador_atual\": null}, {\"altitude\": 175.0, \"familia\": \"Phyllodactylidae\", \"ordem\": \"Squamata\", \"ano_coleta\": 2011.0, \"qualificador_atual\": null}, {\"altitude\": 175.0, \"familia\": \"Phyllodactylidae\", \"ordem\": \"Squamata\", \"ano_coleta\": 2011.0, \"qualificador_atual\": null}, {\"altitude\": 175.0, \"familia\": \"Scincidae\", \"ordem\": \"Squamata\", \"ano_coleta\": 2011.0, \"qualificador_atual\": null}, {\"altitude\": 175.0, \"familia\": \"Tropiduridae\", \"ordem\": \"Squamata\", \"ano_coleta\": 2011.0, \"qualificador_atual\": null}, {\"altitude\": 178.0, \"familia\": \"Gekkonidae\", \"ordem\": \"Squamata\", \"ano_coleta\": 2008.0, \"qualificador_atual\": null}, {\"altitude\": 178.0, \"familia\": \"Gekkonidae\", \"ordem\": \"Squamata\", \"ano_coleta\": 2008.0, \"qualificador_atual\": null}, {\"altitude\": 178.0, \"familia\": \"Gekkonidae\", \"ordem\": \"Squamata\", \"ano_coleta\": 2008.0, \"qualificador_atual\": null}, {\"altitude\": 178.0, \"familia\": \"Tropiduridae\", \"ordem\": \"Squamata\", \"ano_coleta\": 2008.0, \"qualificador_atual\": null}, {\"altitude\": 18.0, \"familia\": \"Colubridae\", \"ordem\": \"Squamata\", \"ano_coleta\": 2010.0, \"qualificador_atual\": null}, {\"altitude\": 18.0, \"familia\": \"Dipsadidae\", \"ordem\": \"Squamata\", \"ano_coleta\": 2003.0, \"qualificador_atual\": null}, {\"altitude\": 18.0, \"familia\": \"Dipsadidae\", \"ordem\": \"Squamata\", \"ano_coleta\": 2010.0, \"qualificador_atual\": null}, {\"altitude\": 18.0, \"familia\": \"Dipsadidae\", \"ordem\": \"Squamata\", \"ano_coleta\": 2010.0, \"qualificador_atual\": null}, {\"altitude\": 18.0, \"familia\": \"Dipsadidae\", \"ordem\": \"Squamata\", \"ano_coleta\": 2010.0, \"qualificador_atual\": null}, {\"altitude\": 18.0, \"familia\": \"Gymnophthalmidae\", \"ordem\": \"Squamata\", \"ano_coleta\": 2010.0, \"qualificador_atual\": null}, {\"altitude\": 18.0, \"familia\": \"Gymnophthalmidae\", \"ordem\": \"Squamata\", \"ano_coleta\": 2010.0, \"qualificador_atual\": null}, {\"altitude\": 18.0, \"familia\": \"Gymnophthalmidae\", \"ordem\": \"Squamata\", \"ano_coleta\": 2010.0, \"qualificador_atual\": null}, {\"altitude\": 18.0, \"familia\": \"Gymnophthalmidae\", \"ordem\": \"Squamata\", \"ano_coleta\": 2010.0, \"qualificador_atual\": null}, {\"altitude\": 18.0, \"familia\": \"Gymnophthalmidae\", \"ordem\": \"Squamata\", \"ano_coleta\": 2010.0, \"qualificador_atual\": null}, {\"altitude\": 18.0, \"familia\": \"Gymnophthalmidae\", \"ordem\": \"Squamata\", \"ano_coleta\": 2010.0, \"qualificador_atual\": null}, {\"altitude\": 18.0, \"familia\": \"Phyllodactylidae\", \"ordem\": \"Squamata\", \"ano_coleta\": 2010.0, \"qualificador_atual\": null}, {\"altitude\": 18.0, \"familia\": \"Phyllodactylidae\", \"ordem\": \"Squamata\", \"ano_coleta\": 2010.0, \"qualificador_atual\": null}, {\"altitude\": 18.0, \"familia\": \"Phyllodactylidae\", \"ordem\": \"Squamata\", \"ano_coleta\": 2010.0, \"qualificador_atual\": null}, {\"altitude\": 180.0, \"familia\": \"Amphisbaenidae\", \"ordem\": \"Squamata\", \"ano_coleta\": 2003.0, \"qualificador_atual\": null}, {\"altitude\": 180.0, \"familia\": \"Dipsadidae\", \"ordem\": \"Squamata\", \"ano_coleta\": 2008.0, \"qualificador_atual\": null}, {\"altitude\": 180.0, \"familia\": \"Dipsadidae\", \"ordem\": \"Squamata\", \"ano_coleta\": 2008.0, \"qualificador_atual\": null}, {\"altitude\": 180.0, \"familia\": \"Gekkonidae\", \"ordem\": \"Squamata\", \"ano_coleta\": 2003.0, \"qualificador_atual\": null}, {\"altitude\": 1802.0, \"familia\": \"Dipsadidae\", \"ordem\": \"Squamata\", \"ano_coleta\": 2007.0, \"qualificador_atual\": null}, {\"altitude\": 1850.0, \"familia\": \"Scincidae\", \"ordem\": \"Squamata\", \"ano_coleta\": 2009.0, \"qualificador_atual\": null}, {\"altitude\": 19.0, \"familia\": \"Amphisbaenidae\", \"ordem\": \"Squamata\", \"ano_coleta\": 2015.0, \"qualificador_atual\": \"sp.\"}, {\"altitude\": 19.0, \"familia\": \"Phyllodactylidae\", \"ordem\": \"Squamata\", \"ano_coleta\": 2014.0, \"qualificador_atual\": null}, {\"altitude\": 19.0, \"familia\": \"Phyllodactylidae\", \"ordem\": \"Squamata\", \"ano_coleta\": 2014.0, \"qualificador_atual\": null}, {\"altitude\": 19.0, \"familia\": \"Phyllodactylidae\", \"ordem\": \"Squamata\", \"ano_coleta\": 2015.0, \"qualificador_atual\": null}, {\"altitude\": 19.0, \"familia\": \"Phyllodactylidae\", \"ordem\": \"Squamata\", \"ano_coleta\": 2015.0, \"qualificador_atual\": null}, {\"altitude\": 19.0, \"familia\": \"Scincidae\", \"ordem\": \"Squamata\", \"ano_coleta\": 2014.0, \"qualificador_atual\": null}, {\"altitude\": 19.0, \"familia\": \"Scincidae\", \"ordem\": \"Squamata\", \"ano_coleta\": 2014.0, \"qualificador_atual\": null}, {\"altitude\": 19.0, \"familia\": \"Scincidae\", \"ordem\": \"Squamata\", \"ano_coleta\": 2014.0, \"qualificador_atual\": null}, {\"altitude\": 19.0, \"familia\": \"Scincidae\", \"ordem\": \"Squamata\", \"ano_coleta\": 2014.0, \"qualificador_atual\": null}, {\"altitude\": 19.0, \"familia\": \"Scincidae\", \"ordem\": \"Squamata\", \"ano_coleta\": 2014.0, \"qualificador_atual\": null}, {\"altitude\": 19.0, \"familia\": \"Scincidae\", \"ordem\": \"Squamata\", \"ano_coleta\": 2014.0, \"qualificador_atual\": null}, {\"altitude\": 19.0, \"familia\": \"Scincidae\", \"ordem\": \"Squamata\", \"ano_coleta\": 2014.0, \"qualificador_atual\": null}, {\"altitude\": 19.0, \"familia\": \"Scincidae\", \"ordem\": \"Squamata\", \"ano_coleta\": 2014.0, \"qualificador_atual\": null}, {\"altitude\": 19.0, \"familia\": \"Scincidae\", \"ordem\": \"Squamata\", \"ano_coleta\": 2014.0, \"qualificador_atual\": null}, {\"altitude\": 19.0, \"familia\": \"Teiidae\", \"ordem\": \"Squamata\", \"ano_coleta\": 2014.0, \"qualificador_atual\": null}, {\"altitude\": 19.0, \"familia\": \"Teiidae\", \"ordem\": \"Squamata\", \"ano_coleta\": 2014.0, \"qualificador_atual\": null}, {\"altitude\": 19.0, \"familia\": \"Teiidae\", \"ordem\": \"Squamata\", \"ano_coleta\": 2014.0, \"qualificador_atual\": null}, {\"altitude\": 19.0, \"familia\": \"Typhlopidae\", \"ordem\": \"Squamata\", \"ano_coleta\": 2014.0, \"qualificador_atual\": null}, {\"altitude\": 19.0, \"familia\": \"Typhlopidae\", \"ordem\": \"Squamata\", \"ano_coleta\": 2014.0, \"qualificador_atual\": null}, {\"altitude\": 19.0, \"familia\": \"Typhlopidae\", \"ordem\": \"Squamata\", \"ano_coleta\": 2015.0, \"qualificador_atual\": null}, {\"altitude\": 19.0, \"familia\": \"Typhlopidae\", \"ordem\": \"Squamata\", \"ano_coleta\": 2015.0, \"qualificador_atual\": null}, {\"altitude\": 19.0, \"familia\": \"Typhlopidae\", \"ordem\": \"Squamata\", \"ano_coleta\": 2015.0, \"qualificador_atual\": null}, {\"altitude\": 19.0, \"familia\": \"Viperidae\", \"ordem\": \"Squamata\", \"ano_coleta\": 2016.0, \"qualificador_atual\": null}, {\"altitude\": 195.0, \"familia\": \"Dipsadidae\", \"ordem\": \"Squamata\", \"ano_coleta\": 2011.0, \"qualificador_atual\": null}, {\"altitude\": 195.0, \"familia\": \"Dipsadidae\", \"ordem\": \"Squamata\", \"ano_coleta\": 2011.0, \"qualificador_atual\": null}, {\"altitude\": 20.0, \"familia\": \"Dipsadidae\", \"ordem\": \"Squamata\", \"ano_coleta\": 2003.0, \"qualificador_atual\": null}, {\"altitude\": 200.0, \"familia\": \"Colubridae\", \"ordem\": \"Squamata\", \"ano_coleta\": 2009.0, \"qualificador_atual\": null}, {\"altitude\": 200.0, \"familia\": \"Colubridae\", \"ordem\": \"Squamata\", \"ano_coleta\": 2011.0, \"qualificador_atual\": null}, {\"altitude\": 200.0, \"familia\": \"Dipsadidae\", \"ordem\": \"Squamata\", \"ano_coleta\": 2008.0, \"qualificador_atual\": null}, {\"altitude\": 200.0, \"familia\": \"Dipsadidae\", \"ordem\": \"Squamata\", \"ano_coleta\": 2009.0, \"qualificador_atual\": null}, {\"altitude\": 200.0, \"familia\": \"Phyllodactylidae\", \"ordem\": \"Squamata\", \"ano_coleta\": 1997.0, \"qualificador_atual\": null}, {\"altitude\": 2070.0, \"familia\": \"Dipsadidae\", \"ordem\": \"Squamata\", \"ano_coleta\": 1989.0, \"qualificador_atual\": null}, {\"altitude\": 2100.0, \"familia\": \"Dipsadidae\", \"ordem\": \"Squamata\", \"ano_coleta\": 1999.0, \"qualificador_atual\": \"sp.\"}, {\"altitude\": 2100.0, \"familia\": \"Dipsadidae\", \"ordem\": \"Squamata\", \"ano_coleta\": null, \"qualificador_atual\": null}, {\"altitude\": 2100.0, \"familia\": \"Dipsadidae\", \"ordem\": \"Squamata\", \"ano_coleta\": 1996.0, \"qualificador_atual\": null}, {\"altitude\": 2100.0, \"familia\": \"Scincidae\", \"ordem\": \"Squamata\", \"ano_coleta\": 1999.0, \"qualificador_atual\": null}, {\"altitude\": 2130.0, \"familia\": \"Dipsadidae\", \"ordem\": \"Squamata\", \"ano_coleta\": 1999.0, \"qualificador_atual\": null}, {\"altitude\": 2134.0, \"familia\": \"Dipsadidae\", \"ordem\": \"Squamata\", \"ano_coleta\": 2011.0, \"qualificador_atual\": null}, {\"altitude\": 218.0, \"familia\": \"Leptotyphlopidae\", \"ordem\": \"Squamata\", \"ano_coleta\": 2011.0, \"qualificador_atual\": null}, {\"altitude\": 219.0, \"familia\": \"Dipsadidae\", \"ordem\": \"Squamata\", \"ano_coleta\": 2008.0, \"qualificador_atual\": null}, {\"altitude\": 22.0, \"familia\": \"Dipsadidae\", \"ordem\": \"Squamata\", \"ano_coleta\": 2009.0, \"qualificador_atual\": null}, {\"altitude\": 22.0, \"familia\": \"Dipsadidae\", \"ordem\": \"Squamata\", \"ano_coleta\": 2013.0, \"qualificador_atual\": null}, {\"altitude\": 22.0, \"familia\": \"Dipsadidae\", \"ordem\": \"Squamata\", \"ano_coleta\": 2013.0, \"qualificador_atual\": null}, {\"altitude\": 22.0, \"familia\": \"Gekkonidae\", \"ordem\": \"Squamata\", \"ano_coleta\": 2013.0, \"qualificador_atual\": null}, {\"altitude\": 22.0, \"familia\": \"Scincidae\", \"ordem\": \"Squamata\", \"ano_coleta\": 2013.0, \"qualificador_atual\": null}, {\"altitude\": 22.0, \"familia\": \"Tropiduridae\", \"ordem\": \"Squamata\", \"ano_coleta\": 2013.0, \"qualificador_atual\": null}, {\"altitude\": 2200.0, \"familia\": \"Dipsadidae\", \"ordem\": \"Squamata\", \"ano_coleta\": 1996.0, \"qualificador_atual\": null}, {\"altitude\": 222.0, \"familia\": \"Polychrotidae\", \"ordem\": \"Squamata\", \"ano_coleta\": 2011.0, \"qualificador_atual\": null}, {\"altitude\": 2237.0, \"familia\": \"Dipsadidae\", \"ordem\": \"Squamata\", \"ano_coleta\": 2009.0, \"qualificador_atual\": null}, {\"altitude\": 227.0, \"familia\": \"Tropiduridae\", \"ordem\": \"Squamata\", \"ano_coleta\": 2008.0, \"qualificador_atual\": null}, {\"altitude\": 227.0, \"familia\": \"Tropiduridae\", \"ordem\": \"Squamata\", \"ano_coleta\": 2008.0, \"qualificador_atual\": null}, {\"altitude\": 227.0, \"familia\": \"Tropiduridae\", \"ordem\": \"Squamata\", \"ano_coleta\": 2008.0, \"qualificador_atual\": null}, {\"altitude\": 227.0, \"familia\": \"Tropiduridae\", \"ordem\": \"Squamata\", \"ano_coleta\": 2008.0, \"qualificador_atual\": null}, {\"altitude\": 230.0, \"familia\": \"Dipsadidae\", \"ordem\": \"Squamata\", \"ano_coleta\": 2006.0, \"qualificador_atual\": null}, {\"altitude\": 235.0, \"familia\": \"Boidae\", \"ordem\": \"Squamata\", \"ano_coleta\": 2008.0, \"qualificador_atual\": null}, {\"altitude\": 2387.0, \"familia\": \"Gymnophthalmidae\", \"ordem\": \"Squamata\", \"ano_coleta\": 2006.0, \"qualificador_atual\": null}, {\"altitude\": 2396.0, \"familia\": \"Gymnophthalmidae\", \"ordem\": \"Squamata\", \"ano_coleta\": 2006.0, \"qualificador_atual\": null}, {\"altitude\": 24.0, \"familia\": \"Dipsadidae\", \"ordem\": \"Squamata\", \"ano_coleta\": 2015.0, \"qualificador_atual\": null}, {\"altitude\": 24.0, \"familia\": \"Dipsadidae\", \"ordem\": \"Squamata\", \"ano_coleta\": 2016.0, \"qualificador_atual\": null}, {\"altitude\": 24.0, \"familia\": \"Gekkonidae\", \"ordem\": \"Squamata\", \"ano_coleta\": 2015.0, \"qualificador_atual\": null}, {\"altitude\": 24.0, \"familia\": \"Phyllodactylidae\", \"ordem\": \"Squamata\", \"ano_coleta\": 2014.0, \"qualificador_atual\": null}, {\"altitude\": 24.0, \"familia\": \"Phyllodactylidae\", \"ordem\": \"Squamata\", \"ano_coleta\": 2014.0, \"qualificador_atual\": null}, {\"altitude\": 24.0, \"familia\": \"Phyllodactylidae\", \"ordem\": \"Squamata\", \"ano_coleta\": 2014.0, \"qualificador_atual\": null}, {\"altitude\": 24.0, \"familia\": \"Phyllodactylidae\", \"ordem\": \"Squamata\", \"ano_coleta\": 2015.0, \"qualificador_atual\": null}, {\"altitude\": 24.0, \"familia\": \"Teiidae\", \"ordem\": \"Squamata\", \"ano_coleta\": 2014.0, \"qualificador_atual\": null}, {\"altitude\": 24.0, \"familia\": \"Teiidae\", \"ordem\": \"Squamata\", \"ano_coleta\": 2014.0, \"qualificador_atual\": null}, {\"altitude\": 24.0, \"familia\": \"Teiidae\", \"ordem\": \"Squamata\", \"ano_coleta\": 2014.0, \"qualificador_atual\": null}, {\"altitude\": 24.0, \"familia\": \"Teiidae\", \"ordem\": \"Squamata\", \"ano_coleta\": 2014.0, \"qualificador_atual\": null}, {\"altitude\": 24.0, \"familia\": \"Tropiduridae\", \"ordem\": \"Squamata\", \"ano_coleta\": 2014.0, \"qualificador_atual\": null}, {\"altitude\": 24.0, \"familia\": \"Typhlopidae\", \"ordem\": \"Squamata\", \"ano_coleta\": 2015.0, \"qualificador_atual\": null}, {\"altitude\": 24.0, \"familia\": \"Viperidae\", \"ordem\": \"Squamata\", \"ano_coleta\": 2015.0, \"qualificador_atual\": null}, {\"altitude\": 2400.0, \"familia\": \"Dipsadidae\", \"ordem\": \"Squamata\", \"ano_coleta\": 2006.0, \"qualificador_atual\": null}, {\"altitude\": 2400.0, \"familia\": \"Gymnophthalmidae\", \"ordem\": \"Squamata\", \"ano_coleta\": 2005.0, \"qualificador_atual\": null}, {\"altitude\": 2400.0, \"familia\": \"Gymnophthalmidae\", \"ordem\": \"Squamata\", \"ano_coleta\": 2008.0, \"qualificador_atual\": null}, {\"altitude\": 2400.0, \"familia\": \"Gymnophthalmidae\", \"ordem\": \"Squamata\", \"ano_coleta\": 2008.0, \"qualificador_atual\": null}, {\"altitude\": 2400.0, \"familia\": \"Gymnophthalmidae\", \"ordem\": \"Squamata\", \"ano_coleta\": 2008.0, \"qualificador_atual\": null}, {\"altitude\": 2400.0, \"familia\": \"Gymnophthalmidae\", \"ordem\": \"Squamata\", \"ano_coleta\": 2008.0, \"qualificador_atual\": null}, {\"altitude\": 2400.0, \"familia\": \"Gymnophthalmidae\", \"ordem\": \"Squamata\", \"ano_coleta\": 2008.0, \"qualificador_atual\": null}, {\"altitude\": 2400.0, \"familia\": \"Gymnophthalmidae\", \"ordem\": \"Squamata\", \"ano_coleta\": 2008.0, \"qualificador_atual\": null}, {\"altitude\": 2400.0, \"familia\": \"Gymnophthalmidae\", \"ordem\": \"Squamata\", \"ano_coleta\": 2008.0, \"qualificador_atual\": null}, {\"altitude\": 2400.0, \"familia\": \"Scincidae\", \"ordem\": \"Squamata\", \"ano_coleta\": 2008.0, \"qualificador_atual\": null}, {\"altitude\": 242.0, \"familia\": \"Dipsadidae\", \"ordem\": \"Squamata\", \"ano_coleta\": 2008.0, \"qualificador_atual\": null}, {\"altitude\": 242.0, \"familia\": \"Tropiduridae\", \"ordem\": \"Squamata\", \"ano_coleta\": 2008.0, \"qualificador_atual\": null}, {\"altitude\": 245.0, \"familia\": \"Amphisbaenidae\", \"ordem\": \"Squamata\", \"ano_coleta\": 2011.0, \"qualificador_atual\": null}, {\"altitude\": 245.0, \"familia\": \"Scincidae\", \"ordem\": \"Squamata\", \"ano_coleta\": 2011.0, \"qualificador_atual\": null}, {\"altitude\": 245.0, \"familia\": \"Sphaerodactylidae\", \"ordem\": \"Squamata\", \"ano_coleta\": 2011.0, \"qualificador_atual\": null}, {\"altitude\": 245.0, \"familia\": \"Tropiduridae\", \"ordem\": \"Squamata\", \"ano_coleta\": 2011.0, \"qualificador_atual\": null}, {\"altitude\": 25.0, \"familia\": \"Dipsadidae\", \"ordem\": \"Squamata\", \"ano_coleta\": null, \"qualificador_atual\": null}, {\"altitude\": 25.0, \"familia\": \"Gymnophthalmidae\", \"ordem\": \"Squamata\", \"ano_coleta\": 2008.0, \"qualificador_atual\": null}, {\"altitude\": 25.0, \"familia\": \"Gymnophthalmidae\", \"ordem\": \"Squamata\", \"ano_coleta\": 2008.0, \"qualificador_atual\": null}, {\"altitude\": 25.0, \"familia\": \"Gymnophthalmidae\", \"ordem\": \"Squamata\", \"ano_coleta\": 1971.0, \"qualificador_atual\": null}, {\"altitude\": 25.0, \"familia\": \"Phyllodactylidae\", \"ordem\": \"Squamata\", \"ano_coleta\": 2008.0, \"qualificador_atual\": null}, {\"altitude\": 25.0, \"familia\": \"Phyllodactylidae\", \"ordem\": \"Squamata\", \"ano_coleta\": 2008.0, \"qualificador_atual\": null}, {\"altitude\": 25.0, \"familia\": \"Phyllodactylidae\", \"ordem\": \"Squamata\", \"ano_coleta\": 2008.0, \"qualificador_atual\": null}, {\"altitude\": 25.0, \"familia\": \"Phyllodactylidae\", \"ordem\": \"Squamata\", \"ano_coleta\": 2008.0, \"qualificador_atual\": null}, {\"altitude\": 25.0, \"familia\": \"Phyllodactylidae\", \"ordem\": \"Squamata\", \"ano_coleta\": 2008.0, \"qualificador_atual\": null}, {\"altitude\": 25.0, \"familia\": \"Phyllodactylidae\", \"ordem\": \"Squamata\", \"ano_coleta\": 2008.0, \"qualificador_atual\": null}, {\"altitude\": 25.0, \"familia\": \"Phyllodactylidae\", \"ordem\": \"Squamata\", \"ano_coleta\": 2008.0, \"qualificador_atual\": null}, {\"altitude\": 25.0, \"familia\": \"Typhlopidae\", \"ordem\": \"Squamata\", \"ano_coleta\": 2015.0, \"qualificador_atual\": null}, {\"altitude\": 250.0, \"familia\": \"Colubridae\", \"ordem\": \"Squamata\", \"ano_coleta\": 2008.0, \"qualificador_atual\": null}, {\"altitude\": 2500.0, \"familia\": \"Gymnophthalmidae\", \"ordem\": \"Squamata\", \"ano_coleta\": 1983.0, \"qualificador_atual\": null}, {\"altitude\": 26.0, \"familia\": \"Dipsadidae\", \"ordem\": \"Squamata\", \"ano_coleta\": 2004.0, \"qualificador_atual\": null}, {\"altitude\": 26.0, \"familia\": \"Dipsadidae\", \"ordem\": \"Squamata\", \"ano_coleta\": 2006.0, \"qualificador_atual\": null}, {\"altitude\": 26.0, \"familia\": \"Dipsadidae\", \"ordem\": \"Squamata\", \"ano_coleta\": 2006.0, \"qualificador_atual\": null}, {\"altitude\": 2638.0, \"familia\": \"Dipsadidae\", \"ordem\": \"Squamata\", \"ano_coleta\": 2006.0, \"qualificador_atual\": null}, {\"altitude\": 265.0, \"familia\": \"Dipsadidae\", \"ordem\": \"Squamata\", \"ano_coleta\": null, \"qualificador_atual\": null}, {\"altitude\": 27.0, \"familia\": \"Phyllodactylidae\", \"ordem\": \"Squamata\", \"ano_coleta\": 2014.0, \"qualificador_atual\": null}, {\"altitude\": 27.0, \"familia\": \"Typhlopidae\", \"ordem\": \"Squamata\", \"ano_coleta\": 2015.0, \"qualificador_atual\": null}, {\"altitude\": 2777.0, \"familia\": \"Tropidophiidae\", \"ordem\": \"Squamata\", \"ano_coleta\": 2000.0, \"qualificador_atual\": null}, {\"altitude\": 28.0, \"familia\": \"Gekkonidae\", \"ordem\": \"Squamata\", \"ano_coleta\": 2015.0, \"qualificador_atual\": null}, {\"altitude\": 28.0, \"familia\": \"Gymnophthalmidae\", \"ordem\": \"Squamata\", \"ano_coleta\": 2014.0, \"qualificador_atual\": null}, {\"altitude\": 28.0, \"familia\": \"Gymnophthalmidae\", \"ordem\": \"Squamata\", \"ano_coleta\": 2014.0, \"qualificador_atual\": null}, {\"altitude\": 28.0, \"familia\": \"Typhlopidae\", \"ordem\": \"Squamata\", \"ano_coleta\": 2015.0, \"qualificador_atual\": null}, {\"altitude\": 280.0, \"familia\": \"Teiidae\", \"ordem\": \"Squamata\", \"ano_coleta\": null, \"qualificador_atual\": null}, {\"altitude\": 280.0, \"familia\": \"Teiidae\", \"ordem\": \"Squamata\", \"ano_coleta\": null, \"qualificador_atual\": null}, {\"altitude\": 2800.0, \"familia\": \"Anguidae\", \"ordem\": \"Squamata\", \"ano_coleta\": 1989.0, \"qualificador_atual\": null}, {\"altitude\": 3.0, \"familia\": \"Gekkonidae\", \"ordem\": \"Squamata\", \"ano_coleta\": 2016.0, \"qualificador_atual\": null}, {\"altitude\": 3.0, \"familia\": \"Gymnophthalmidae\", \"ordem\": \"Squamata\", \"ano_coleta\": 2015.0, \"qualificador_atual\": null}, {\"altitude\": 3.0, \"familia\": \"Phyllodactylidae\", \"ordem\": \"Squamata\", \"ano_coleta\": 2014.0, \"qualificador_atual\": null}, {\"altitude\": 3.0, \"familia\": \"Scincidae\", \"ordem\": \"Squamata\", \"ano_coleta\": 2014.0, \"qualificador_atual\": null}, {\"altitude\": 3.0, \"familia\": \"Teiidae\", \"ordem\": \"Squamata\", \"ano_coleta\": 2015.0, \"qualificador_atual\": null}, {\"altitude\": 3.0, \"familia\": \"Teiidae\", \"ordem\": \"Squamata\", \"ano_coleta\": 2015.0, \"qualificador_atual\": null}, {\"altitude\": 30.0, \"familia\": \"Dipsadidae\", \"ordem\": \"Squamata\", \"ano_coleta\": 2004.0, \"qualificador_atual\": null}, {\"altitude\": 30.0, \"familia\": \"Dipsadidae\", \"ordem\": \"Squamata\", \"ano_coleta\": 2008.0, \"qualificador_atual\": null}, {\"altitude\": 30.0, \"familia\": \"Tropiduridae\", \"ordem\": \"Squamata\", \"ano_coleta\": 2013.0, \"qualificador_atual\": null}, {\"altitude\": 300.0, \"familia\": \"Amphisbaenidae\", \"ordem\": \"Squamata\", \"ano_coleta\": 1988.0, \"qualificador_atual\": null}, {\"altitude\": 300.0, \"familia\": \"Dactyloidae\", \"ordem\": \"Squamata\", \"ano_coleta\": 2007.0, \"qualificador_atual\": null}, {\"altitude\": 300.0, \"familia\": \"Dipsadidae\", \"ordem\": \"Squamata\", \"ano_coleta\": 2008.0, \"qualificador_atual\": null}, {\"altitude\": 316.0, \"familia\": \"Dipsadidae\", \"ordem\": \"Squamata\", \"ano_coleta\": 2007.0, \"qualificador_atual\": null}, {\"altitude\": 32.0, \"familia\": \"Phyllodactylidae\", \"ordem\": \"Squamata\", \"ano_coleta\": 2013.0, \"qualificador_atual\": null}, {\"altitude\": 32.0, \"familia\": \"Teiidae\", \"ordem\": \"Squamata\", \"ano_coleta\": 2013.0, \"qualificador_atual\": null}, {\"altitude\": 320.0, \"familia\": \"Colubridae\", \"ordem\": \"Squamata\", \"ano_coleta\": 2008.0, \"qualificador_atual\": null}, {\"altitude\": 320.0, \"familia\": \"Viperidae\", \"ordem\": \"Squamata\", \"ano_coleta\": 2006.0, \"qualificador_atual\": null}, {\"altitude\": 33.0, \"familia\": \"Dipsadidae\", \"ordem\": \"Squamata\", \"ano_coleta\": 2010.0, \"qualificador_atual\": null}, {\"altitude\": 33.0, \"familia\": \"Dipsadidae\", \"ordem\": \"Squamata\", \"ano_coleta\": 2011.0, \"qualificador_atual\": null}, {\"altitude\": 33.0, \"familia\": \"Gekkonidae\", \"ordem\": \"Squamata\", \"ano_coleta\": 2010.0, \"qualificador_atual\": null}, {\"altitude\": 33.0, \"familia\": \"Gymnophthalmidae\", \"ordem\": \"Squamata\", \"ano_coleta\": 2010.0, \"qualificador_atual\": null}, {\"altitude\": 33.0, \"familia\": \"Gymnophthalmidae\", \"ordem\": \"Squamata\", \"ano_coleta\": 2010.0, \"qualificador_atual\": null}, {\"altitude\": 33.0, \"familia\": \"Gymnophthalmidae\", \"ordem\": \"Squamata\", \"ano_coleta\": 2010.0, \"qualificador_atual\": null}, {\"altitude\": 33.0, \"familia\": \"Gymnophthalmidae\", \"ordem\": \"Squamata\", \"ano_coleta\": 2010.0, \"qualificador_atual\": null}, {\"altitude\": 33.0, \"familia\": \"Gymnophthalmidae\", \"ordem\": \"Squamata\", \"ano_coleta\": 2010.0, \"qualificador_atual\": null}, {\"altitude\": 33.0, \"familia\": \"Gymnophthalmidae\", \"ordem\": \"Squamata\", \"ano_coleta\": 2010.0, \"qualificador_atual\": null}, {\"altitude\": 33.0, \"familia\": \"Phyllodactylidae\", \"ordem\": \"Squamata\", \"ano_coleta\": 2010.0, \"qualificador_atual\": null}, {\"altitude\": 33.0, \"familia\": \"Phyllodactylidae\", \"ordem\": \"Squamata\", \"ano_coleta\": 2010.0, \"qualificador_atual\": null}, {\"altitude\": 33.0, \"familia\": \"Scincidae\", \"ordem\": \"Squamata\", \"ano_coleta\": 2010.0, \"qualificador_atual\": null}, {\"altitude\": 330.0, \"familia\": \"Dipsadidae\", \"ordem\": \"Squamata\", \"ano_coleta\": 2007.0, \"qualificador_atual\": null}, {\"altitude\": 336.0, \"familia\": \"Tropiduridae\", \"ordem\": \"Squamata\", \"ano_coleta\": 2007.0, \"qualificador_atual\": null}, {\"altitude\": 337.0, \"familia\": \"Gekkonidae\", \"ordem\": \"Squamata\", \"ano_coleta\": 2007.0, \"qualificador_atual\": null}, {\"altitude\": 337.0, \"familia\": \"Tropiduridae\", \"ordem\": \"Squamata\", \"ano_coleta\": 2007.0, \"qualificador_atual\": null}, {\"altitude\": 337.0, \"familia\": \"Tropiduridae\", \"ordem\": \"Squamata\", \"ano_coleta\": 2007.0, \"qualificador_atual\": null}, {\"altitude\": 345.0, \"familia\": \"Colubridae\", \"ordem\": \"Squamata\", \"ano_coleta\": 2007.0, \"qualificador_atual\": null}, {\"altitude\": 347.0, \"familia\": \"Dipsadidae\", \"ordem\": \"Squamata\", \"ano_coleta\": 2007.0, \"qualificador_atual\": null}, {\"altitude\": 347.0, \"familia\": \"Dipsadidae\", \"ordem\": \"Squamata\", \"ano_coleta\": 2007.0, \"qualificador_atual\": null}, {\"altitude\": 35.0, \"familia\": \"Colubridae\", \"ordem\": \"Squamata\", \"ano_coleta\": 2007.0, \"qualificador_atual\": null}, {\"altitude\": 35.0, \"familia\": \"Leiosauridae\", \"ordem\": \"Squamata\", \"ano_coleta\": 2013.0, \"qualificador_atual\": null}, {\"altitude\": 35.0, \"familia\": \"Leiosauridae\", \"ordem\": \"Squamata\", \"ano_coleta\": 2013.0, \"qualificador_atual\": null}, {\"altitude\": 35.0, \"familia\": \"Phyllodactylidae\", \"ordem\": \"Squamata\", \"ano_coleta\": 2013.0, \"qualificador_atual\": null}, {\"altitude\": 350.0, \"familia\": \"Dipsadidae\", \"ordem\": \"Squamata\", \"ano_coleta\": 1946.0, \"qualificador_atual\": null}, {\"altitude\": 357.0, \"familia\": \"Teiidae\", \"ordem\": \"Squamata\", \"ano_coleta\": 2008.0, \"qualificador_atual\": null}, {\"altitude\": 359.0, \"familia\": \"Anguidae\", \"ordem\": \"Squamata\", \"ano_coleta\": 2007.0, \"qualificador_atual\": \"aff.\"}, {\"altitude\": 36.0, \"familia\": \"Colubridae\", \"ordem\": \"Squamata\", \"ano_coleta\": 2003.0, \"qualificador_atual\": null}, {\"altitude\": 36.0, \"familia\": \"Colubridae\", \"ordem\": \"Squamata\", \"ano_coleta\": 2003.0, \"qualificador_atual\": null}, {\"altitude\": 36.0, \"familia\": \"Dipsadidae\", \"ordem\": \"Squamata\", \"ano_coleta\": 2003.0, \"qualificador_atual\": null}, {\"altitude\": 36.0, \"familia\": \"Dipsadidae\", \"ordem\": \"Squamata\", \"ano_coleta\": 2003.0, \"qualificador_atual\": null}, {\"altitude\": 36.0, \"familia\": \"Dipsadidae\", \"ordem\": \"Squamata\", \"ano_coleta\": 2003.0, \"qualificador_atual\": null}, {\"altitude\": 36.0, \"familia\": \"Dipsadidae\", \"ordem\": \"Squamata\", \"ano_coleta\": 2003.0, \"qualificador_atual\": null}, {\"altitude\": 36.0, \"familia\": \"Dipsadidae\", \"ordem\": \"Squamata\", \"ano_coleta\": 2005.0, \"qualificador_atual\": null}, {\"altitude\": 36.0, \"familia\": \"Elapidae\", \"ordem\": \"Squamata\", \"ano_coleta\": 2003.0, \"qualificador_atual\": null}, {\"altitude\": 36.0, \"familia\": \"Viperidae\", \"ordem\": \"Squamata\", \"ano_coleta\": 2003.0, \"qualificador_atual\": null}, {\"altitude\": 360.0, \"familia\": \"Dipsadidae\", \"ordem\": \"Squamata\", \"ano_coleta\": 2007.0, \"qualificador_atual\": null}, {\"altitude\": 363.0, \"familia\": \"Dipsadidae\", \"ordem\": \"Squamata\", \"ano_coleta\": 2007.0, \"qualificador_atual\": null}, {\"altitude\": 370.0, \"familia\": \"Dipsadidae\", \"ordem\": \"Squamata\", \"ano_coleta\": null, \"qualificador_atual\": null}, {\"altitude\": 371.0, \"familia\": \"Viperidae\", \"ordem\": \"Squamata\", \"ano_coleta\": 2007.0, \"qualificador_atual\": null}, {\"altitude\": 378.0, \"familia\": \"Anguidae\", \"ordem\": \"Squamata\", \"ano_coleta\": 2007.0, \"qualificador_atual\": \"cf.\"}, {\"altitude\": 378.0, \"familia\": \"Viperidae\", \"ordem\": \"Squamata\", \"ano_coleta\": 2007.0, \"qualificador_atual\": null}, {\"altitude\": 38.0, \"familia\": \"Phyllodactylidae\", \"ordem\": \"Squamata\", \"ano_coleta\": 2013.0, \"qualificador_atual\": null}, {\"altitude\": 386.0, \"familia\": \"Dipsadidae\", \"ordem\": \"Squamata\", \"ano_coleta\": 2007.0, \"qualificador_atual\": null}, {\"altitude\": 386.0, \"familia\": \"Dipsadidae\", \"ordem\": \"Squamata\", \"ano_coleta\": 2007.0, \"qualificador_atual\": null}, {\"altitude\": 4.0, \"familia\": \"Scincidae\", \"ordem\": \"Squamata\", \"ano_coleta\": 2014.0, \"qualificador_atual\": null}, {\"altitude\": 400.0, \"familia\": \"Boidae\", \"ordem\": \"Squamata\", \"ano_coleta\": 2009.0, \"qualificador_atual\": null}, {\"altitude\": 400.0, \"familia\": \"Leiosauridae\", \"ordem\": \"Squamata\", \"ano_coleta\": 2007.0, \"qualificador_atual\": null}, {\"altitude\": 403.0, \"familia\": \"Dipsadidae\", \"ordem\": \"Squamata\", \"ano_coleta\": 2007.0, \"qualificador_atual\": null}, {\"altitude\": 409.0, \"familia\": \"Dipsadidae\", \"ordem\": \"Squamata\", \"ano_coleta\": 2007.0, \"qualificador_atual\": null}, {\"altitude\": 412.0, \"familia\": \"Dipsadidae\", \"ordem\": \"Squamata\", \"ano_coleta\": 2006.0, \"qualificador_atual\": null}, {\"altitude\": 426.0, \"familia\": \"Dipsadidae\", \"ordem\": \"Squamata\", \"ano_coleta\": 2007.0, \"qualificador_atual\": null}, {\"altitude\": 428.0, \"familia\": \"Colubridae\", \"ordem\": \"Squamata\", \"ano_coleta\": 2008.0, \"qualificador_atual\": null}, {\"altitude\": 428.0, \"familia\": \"Gekkonidae\", \"ordem\": \"Squamata\", \"ano_coleta\": 2008.0, \"qualificador_atual\": null}, {\"altitude\": 428.0, \"familia\": \"Gekkonidae\", \"ordem\": \"Squamata\", \"ano_coleta\": 2008.0, \"qualificador_atual\": null}, {\"altitude\": 428.0, \"familia\": \"Gekkonidae\", \"ordem\": \"Squamata\", \"ano_coleta\": 2008.0, \"qualificador_atual\": null}, {\"altitude\": 428.0, \"familia\": \"Gekkonidae\", \"ordem\": \"Squamata\", \"ano_coleta\": 2008.0, \"qualificador_atual\": null}, {\"altitude\": 440.0, \"familia\": \"Colubridae\", \"ordem\": \"Squamata\", \"ano_coleta\": 2013.0, \"qualificador_atual\": null}, {\"altitude\": 442.0, \"familia\": \"Leiosauridae\", \"ordem\": \"Squamata\", \"ano_coleta\": 2007.0, \"qualificador_atual\": null}, {\"altitude\": 442.0, \"familia\": \"Phyllodactylidae\", \"ordem\": \"Squamata\", \"ano_coleta\": 2007.0, \"qualificador_atual\": null}, {\"altitude\": 448.0, \"familia\": \"Dipsadidae\", \"ordem\": \"Squamata\", \"ano_coleta\": 2002.0, \"qualificador_atual\": null}, {\"altitude\": 450.0, \"familia\": \"Tropiduridae\", \"ordem\": \"Squamata\", \"ano_coleta\": 2013.0, \"qualificador_atual\": null}, {\"altitude\": 450.0, \"familia\": \"Tropiduridae\", \"ordem\": \"Squamata\", \"ano_coleta\": 2013.0, \"qualificador_atual\": null}, {\"altitude\": 450.0, \"familia\": \"Viperidae\", \"ordem\": \"Squamata\", \"ano_coleta\": null, \"qualificador_atual\": null}, {\"altitude\": 454.0, \"familia\": \"Anguidae\", \"ordem\": \"Squamata\", \"ano_coleta\": 2007.0, \"qualificador_atual\": \"aff.\"}, {\"altitude\": 457.0, \"familia\": \"Tropiduridae\", \"ordem\": \"Squamata\", \"ano_coleta\": 2007.0, \"qualificador_atual\": null}, {\"altitude\": 457.0, \"familia\": \"Tropiduridae\", \"ordem\": \"Squamata\", \"ano_coleta\": 2007.0, \"qualificador_atual\": null}, {\"altitude\": 5.0, \"familia\": \"Dipsadidae\", \"ordem\": \"Squamata\", \"ano_coleta\": 2015.0, \"qualificador_atual\": null}, {\"altitude\": 5.0, \"familia\": \"Dipsadidae\", \"ordem\": \"Squamata\", \"ano_coleta\": 2016.0, \"qualificador_atual\": null}, {\"altitude\": 5.0, \"familia\": \"Gekkonidae\", \"ordem\": \"Squamata\", \"ano_coleta\": 2014.0, \"qualificador_atual\": null}, {\"altitude\": 5.0, \"familia\": \"Gekkonidae\", \"ordem\": \"Squamata\", \"ano_coleta\": 2014.0, \"qualificador_atual\": null}, {\"altitude\": 5.0, \"familia\": \"Tropiduridae\", \"ordem\": \"Squamata\", \"ano_coleta\": 2014.0, \"qualificador_atual\": null}, {\"altitude\": 519.0, \"familia\": \"Colubridae\", \"ordem\": \"Squamata\", \"ano_coleta\": 2008.0, \"qualificador_atual\": null}, {\"altitude\": 519.0, \"familia\": \"Colubridae\", \"ordem\": \"Squamata\", \"ano_coleta\": 2008.0, \"qualificador_atual\": null}, {\"altitude\": 522.0, \"familia\": \"Gekkonidae\", \"ordem\": \"Squamata\", \"ano_coleta\": 2008.0, \"qualificador_atual\": null}, {\"altitude\": 525.0, \"familia\": \"Anguidae\", \"ordem\": \"Squamata\", \"ano_coleta\": 2007.0, \"qualificador_atual\": \"aff.\"}, {\"altitude\": 529.0, \"familia\": \"Anguidae\", \"ordem\": \"Squamata\", \"ano_coleta\": 2007.0, \"qualificador_atual\": \"aff.\"}, {\"altitude\": 53.0, \"familia\": \"Elapidae\", \"ordem\": \"Squamata\", \"ano_coleta\": 2015.0, \"qualificador_atual\": null}, {\"altitude\": 530.0, \"familia\": \"Dipsadidae\", \"ordem\": \"Squamata\", \"ano_coleta\": 2007.0, \"qualificador_atual\": null}, {\"altitude\": 540.0, \"familia\": \"Dipsadidae\", \"ordem\": \"Squamata\", \"ano_coleta\": 2007.0, \"qualificador_atual\": null}, {\"altitude\": 544.0, \"familia\": \"Viperidae\", \"ordem\": \"Squamata\", \"ano_coleta\": 2013.0, \"qualificador_atual\": null}, {\"altitude\": 544.0, \"familia\": \"Viperidae\", \"ordem\": \"Squamata\", \"ano_coleta\": 2013.0, \"qualificador_atual\": null}, {\"altitude\": 547.0, \"familia\": \"Viperidae\", \"ordem\": \"Squamata\", \"ano_coleta\": 2013.0, \"qualificador_atual\": null}, {\"altitude\": 558.0, \"familia\": \"Dipsadidae\", \"ordem\": \"Squamata\", \"ano_coleta\": 2006.0, \"qualificador_atual\": null}, {\"altitude\": 558.0, \"familia\": \"Dipsadidae\", \"ordem\": \"Squamata\", \"ano_coleta\": 2006.0, \"qualificador_atual\": null}, {\"altitude\": 558.0, \"familia\": \"Dipsadidae\", \"ordem\": \"Squamata\", \"ano_coleta\": 2006.0, \"qualificador_atual\": null}, {\"altitude\": 558.0, \"familia\": \"Dipsadidae\", \"ordem\": \"Squamata\", \"ano_coleta\": 2006.0, \"qualificador_atual\": null}, {\"altitude\": 558.0, \"familia\": \"Dipsadidae\", \"ordem\": \"Squamata\", \"ano_coleta\": 2006.0, \"qualificador_atual\": null}, {\"altitude\": 558.0, \"familia\": \"Dipsadidae\", \"ordem\": \"Squamata\", \"ano_coleta\": 2006.0, \"qualificador_atual\": null}, {\"altitude\": 558.0, \"familia\": \"Dipsadidae\", \"ordem\": \"Squamata\", \"ano_coleta\": 2006.0, \"qualificador_atual\": null}, {\"altitude\": 558.0, \"familia\": \"Polychrotidae\", \"ordem\": \"Squamata\", \"ano_coleta\": 2006.0, \"qualificador_atual\": null}, {\"altitude\": 568.0, \"familia\": \"Polychrotidae\", \"ordem\": \"Squamata\", \"ano_coleta\": 2008.0, \"qualificador_atual\": null}, {\"altitude\": 568.0, \"familia\": \"Polychrotidae\", \"ordem\": \"Squamata\", \"ano_coleta\": 2008.0, \"qualificador_atual\": null}, {\"altitude\": 585.0, \"familia\": \"Anguidae\", \"ordem\": \"Squamata\", \"ano_coleta\": 2007.0, \"qualificador_atual\": null}, {\"altitude\": 585.0, \"familia\": \"Boidae\", \"ordem\": \"Squamata\", \"ano_coleta\": 2006.0, \"qualificador_atual\": null}, {\"altitude\": 585.0, \"familia\": \"Dipsadidae\", \"ordem\": \"Squamata\", \"ano_coleta\": 2006.0, \"qualificador_atual\": null}, {\"altitude\": 585.0, \"familia\": \"Dipsadidae\", \"ordem\": \"Squamata\", \"ano_coleta\": 2007.0, \"qualificador_atual\": null}, {\"altitude\": 585.0, \"familia\": \"Dipsadidae\", \"ordem\": \"Squamata\", \"ano_coleta\": 2007.0, \"qualificador_atual\": null}, {\"altitude\": 585.0, \"familia\": \"Dipsadidae\", \"ordem\": \"Squamata\", \"ano_coleta\": 2007.0, \"qualificador_atual\": null}, {\"altitude\": 585.0, \"familia\": \"Dipsadidae\", \"ordem\": \"Squamata\", \"ano_coleta\": 2006.0, \"qualificador_atual\": null}, {\"altitude\": 585.0, \"familia\": \"Dipsadidae\", \"ordem\": \"Squamata\", \"ano_coleta\": 2006.0, \"qualificador_atual\": null}, {\"altitude\": 585.0, \"familia\": \"Dipsadidae\", \"ordem\": \"Squamata\", \"ano_coleta\": 2006.0, \"qualificador_atual\": null}, {\"altitude\": 585.0, \"familia\": \"Dipsadidae\", \"ordem\": \"Squamata\", \"ano_coleta\": 2006.0, \"qualificador_atual\": null}, {\"altitude\": 585.0, \"familia\": \"Elapidae\", \"ordem\": \"Squamata\", \"ano_coleta\": 2006.0, \"qualificador_atual\": null}, {\"altitude\": 585.0, \"familia\": \"Viperidae\", \"ordem\": \"Squamata\", \"ano_coleta\": 2006.0, \"qualificador_atual\": null}, {\"altitude\": 598.0, \"familia\": \"Gekkonidae\", \"ordem\": \"Squamata\", \"ano_coleta\": 2008.0, \"qualificador_atual\": null}, {\"altitude\": 598.0, \"familia\": \"Gekkonidae\", \"ordem\": \"Squamata\", \"ano_coleta\": 2008.0, \"qualificador_atual\": null}, {\"altitude\": 598.0, \"familia\": \"Gekkonidae\", \"ordem\": \"Squamata\", \"ano_coleta\": 2008.0, \"qualificador_atual\": null}, {\"altitude\": 598.0, \"familia\": \"Gekkonidae\", \"ordem\": \"Squamata\", \"ano_coleta\": 2008.0, \"qualificador_atual\": null}, {\"altitude\": 598.0, \"familia\": \"Gekkonidae\", \"ordem\": \"Squamata\", \"ano_coleta\": 2008.0, \"qualificador_atual\": null}, {\"altitude\": 60.0, \"familia\": \"Colubridae\", \"ordem\": \"Squamata\", \"ano_coleta\": 2013.0, \"qualificador_atual\": null}, {\"altitude\": 60.0, \"familia\": \"Elapidae\", \"ordem\": \"Squamata\", \"ano_coleta\": 2003.0, \"qualificador_atual\": null}, {\"altitude\": 61.0, \"familia\": \"Colubridae\", \"ordem\": \"Squamata\", \"ano_coleta\": 2004.0, \"qualificador_atual\": null}, {\"altitude\": 62.0, \"familia\": \"Amphisbaenidae\", \"ordem\": \"Squamata\", \"ano_coleta\": 2003.0, \"qualificador_atual\": null}, {\"altitude\": 62.0, \"familia\": \"Colubridae\", \"ordem\": \"Squamata\", \"ano_coleta\": 2002.0, \"qualificador_atual\": null}, {\"altitude\": 629.0, \"familia\": \"Dipsadidae\", \"ordem\": \"Squamata\", \"ano_coleta\": 2014.0, \"qualificador_atual\": null}, {\"altitude\": 63.0, \"familia\": \"Colubridae\", \"ordem\": \"Squamata\", \"ano_coleta\": 2004.0, \"qualificador_atual\": null}, {\"altitude\": 63.0, \"familia\": \"Viperidae\", \"ordem\": \"Squamata\", \"ano_coleta\": 2003.0, \"qualificador_atual\": null}, {\"altitude\": 630.0, \"familia\": \"Dipsadidae\", \"ordem\": \"Squamata\", \"ano_coleta\": 2004.0, \"qualificador_atual\": null}, {\"altitude\": 64.0, \"familia\": \"Dipsadidae\", \"ordem\": \"Squamata\", \"ano_coleta\": 2008.0, \"qualificador_atual\": null}, {\"altitude\": 649.0, \"familia\": \"Dipsadidae\", \"ordem\": \"Squamata\", \"ano_coleta\": 2014.0, \"qualificador_atual\": null}, {\"altitude\": 65.0, \"familia\": \"Dipsadidae\", \"ordem\": \"Squamata\", \"ano_coleta\": 2011.0, \"qualificador_atual\": null}, {\"altitude\": 65.0, \"familia\": \"Polychrotidae\", \"ordem\": \"Squamata\", \"ano_coleta\": 2006.0, \"qualificador_atual\": null}, {\"altitude\": 664.0, \"familia\": \"Dipsadidae\", \"ordem\": \"Squamata\", \"ano_coleta\": 2014.0, \"qualificador_atual\": null}, {\"altitude\": 67.0, \"familia\": \"Dipsadidae\", \"ordem\": \"Squamata\", \"ano_coleta\": 2014.0, \"qualificador_atual\": null}, {\"altitude\": 67.0, \"familia\": \"Gekkonidae\", \"ordem\": \"Squamata\", \"ano_coleta\": 2008.0, \"qualificador_atual\": null}, {\"altitude\": 68.0, \"familia\": \"Colubridae\", \"ordem\": \"Squamata\", \"ano_coleta\": 2003.0, \"qualificador_atual\": null}, {\"altitude\": 68.0, \"familia\": \"Dipsadidae\", \"ordem\": \"Squamata\", \"ano_coleta\": 2003.0, \"qualificador_atual\": null}, {\"altitude\": 682.0, \"familia\": \"Dactyloidae\", \"ordem\": \"Squamata\", \"ano_coleta\": 2011.0, \"qualificador_atual\": null}, {\"altitude\": 682.0, \"familia\": \"Tropiduridae\", \"ordem\": \"Squamata\", \"ano_coleta\": 2011.0, \"qualificador_atual\": null}, {\"altitude\": 684.0, \"familia\": \"Dipsadidae\", \"ordem\": \"Squamata\", \"ano_coleta\": 2011.0, \"qualificador_atual\": null}, {\"altitude\": 684.0, \"familia\": \"Tropiduridae\", \"ordem\": \"Squamata\", \"ano_coleta\": 2011.0, \"qualificador_atual\": null}, {\"altitude\": 684.0, \"familia\": \"Tropiduridae\", \"ordem\": \"Squamata\", \"ano_coleta\": 2011.0, \"qualificador_atual\": null}, {\"altitude\": 684.0, \"familia\": \"Tropiduridae\", \"ordem\": \"Squamata\", \"ano_coleta\": 2011.0, \"qualificador_atual\": null}, {\"altitude\": 687.0, \"familia\": \"Tropiduridae\", \"ordem\": \"Squamata\", \"ano_coleta\": 2011.0, \"qualificador_atual\": null}, {\"altitude\": 687.0, \"familia\": \"Tropiduridae\", \"ordem\": \"Squamata\", \"ano_coleta\": 2011.0, \"qualificador_atual\": null}, {\"altitude\": 687.0, \"familia\": \"Tropiduridae\", \"ordem\": \"Squamata\", \"ano_coleta\": 2011.0, \"qualificador_atual\": null}, {\"altitude\": 699.0, \"familia\": \"Dipsadidae\", \"ordem\": \"Squamata\", \"ano_coleta\": 2010.0, \"qualificador_atual\": null}, {\"altitude\": 699.0, \"familia\": \"Dipsadidae\", \"ordem\": \"Squamata\", \"ano_coleta\": 2010.0, \"qualificador_atual\": null}, {\"altitude\": 7.0, \"familia\": \"Dipsadidae\", \"ordem\": \"Squamata\", \"ano_coleta\": 2014.0, \"qualificador_atual\": null}, {\"altitude\": 7.0, \"familia\": \"Dipsadidae\", \"ordem\": \"Squamata\", \"ano_coleta\": 2015.0, \"qualificador_atual\": null}, {\"altitude\": 7.0, \"familia\": \"Gekkonidae\", \"ordem\": \"Squamata\", \"ano_coleta\": 2015.0, \"qualificador_atual\": null}, {\"altitude\": 7.0, \"familia\": \"Phyllodactylidae\", \"ordem\": \"Squamata\", \"ano_coleta\": 2014.0, \"qualificador_atual\": null}, {\"altitude\": 7.0, \"familia\": \"Phyllodactylidae\", \"ordem\": \"Squamata\", \"ano_coleta\": 2014.0, \"qualificador_atual\": null}, {\"altitude\": 7.0, \"familia\": \"Phyllodactylidae\", \"ordem\": \"Squamata\", \"ano_coleta\": 2014.0, \"qualificador_atual\": null}, {\"altitude\": 7.0, \"familia\": \"Phyllodactylidae\", \"ordem\": \"Squamata\", \"ano_coleta\": 2014.0, \"qualificador_atual\": null}, {\"altitude\": 7.0, \"familia\": \"Scincidae\", \"ordem\": \"Squamata\", \"ano_coleta\": 2014.0, \"qualificador_atual\": null}, {\"altitude\": 7.0, \"familia\": \"Scincidae\", \"ordem\": \"Squamata\", \"ano_coleta\": 2014.0, \"qualificador_atual\": null}, {\"altitude\": 7.0, \"familia\": \"Scincidae\", \"ordem\": \"Squamata\", \"ano_coleta\": 2014.0, \"qualificador_atual\": null}, {\"altitude\": 7.0, \"familia\": \"Teiidae\", \"ordem\": \"Squamata\", \"ano_coleta\": 2014.0, \"qualificador_atual\": null}, {\"altitude\": 7.0, \"familia\": \"Tropiduridae\", \"ordem\": \"Squamata\", \"ano_coleta\": 2014.0, \"qualificador_atual\": null}, {\"altitude\": 7.0, \"familia\": \"Typhlopidae\", \"ordem\": \"Squamata\", \"ano_coleta\": 2015.0, \"qualificador_atual\": null}, {\"altitude\": 7.0, \"familia\": \"Typhlopidae\", \"ordem\": \"Squamata\", \"ano_coleta\": 2015.0, \"qualificador_atual\": null}, {\"altitude\": 7.0, \"familia\": \"Viperidae\", \"ordem\": \"Squamata\", \"ano_coleta\": 2015.0, \"qualificador_atual\": null}, {\"altitude\": 70.0, \"familia\": \"Amphisbaenidae\", \"ordem\": \"Squamata\", \"ano_coleta\": 2003.0, \"qualificador_atual\": null}, {\"altitude\": 70.0, \"familia\": \"Anguidae\", \"ordem\": \"Squamata\", \"ano_coleta\": 2004.0, \"qualificador_atual\": null}, {\"altitude\": 70.0, \"familia\": \"Dipsadidae\", \"ordem\": \"Squamata\", \"ano_coleta\": 2002.0, \"qualificador_atual\": null}, {\"altitude\": 70.0, \"familia\": \"Dipsadidae\", \"ordem\": \"Squamata\", \"ano_coleta\": 2003.0, \"qualificador_atual\": \"cf.\"}, {\"altitude\": 70.0, \"familia\": \"Dipsadidae\", \"ordem\": \"Squamata\", \"ano_coleta\": 2002.0, \"qualificador_atual\": null}, {\"altitude\": 70.0, \"familia\": \"Elapidae\", \"ordem\": \"Squamata\", \"ano_coleta\": 2003.0, \"qualificador_atual\": null}, {\"altitude\": 70.0, \"familia\": \"Elapidae\", \"ordem\": \"Squamata\", \"ano_coleta\": 2003.0, \"qualificador_atual\": null}, {\"altitude\": 700.0, \"familia\": \"Anguidae\", \"ordem\": \"Squamata\", \"ano_coleta\": 1944.0, \"qualificador_atual\": null}, {\"altitude\": 700.0, \"familia\": \"Dipsadidae\", \"ordem\": \"Squamata\", \"ano_coleta\": 2008.0, \"qualificador_atual\": null}, {\"altitude\": 700.0, \"familia\": \"Leiosauridae\", \"ordem\": \"Squamata\", \"ano_coleta\": 2013.0, \"qualificador_atual\": null}, {\"altitude\": 700.0, \"familia\": \"Scincidae\", \"ordem\": \"Squamata\", \"ano_coleta\": 2011.0, \"qualificador_atual\": null}, {\"altitude\": 702.0, \"familia\": \"Teiidae\", \"ordem\": \"Squamata\", \"ano_coleta\": 2013.0, \"qualificador_atual\": null}, {\"altitude\": 706.0, \"familia\": \"Viperidae\", \"ordem\": \"Squamata\", \"ano_coleta\": 2011.0, \"qualificador_atual\": null}, {\"altitude\": 71.0, \"familia\": \"Dipsadidae\", \"ordem\": \"Squamata\", \"ano_coleta\": 2005.0, \"qualificador_atual\": null}, {\"altitude\": 71.0, \"familia\": \"Leptotyphlopidae\", \"ordem\": \"Squamata\", \"ano_coleta\": 2005.0, \"qualificador_atual\": null}, {\"altitude\": 71.0, \"familia\": \"Leptotyphlopidae\", \"ordem\": \"Squamata\", \"ano_coleta\": 2005.0, \"qualificador_atual\": null}, {\"altitude\": 714.0, \"familia\": \"Scincidae\", \"ordem\": \"Squamata\", \"ano_coleta\": 2010.0, \"qualificador_atual\": null}, {\"altitude\": 715.0, \"familia\": \"Polychrotidae\", \"ordem\": \"Squamata\", \"ano_coleta\": 2009.0, \"qualificador_atual\": null}, {\"altitude\": 718.0, \"familia\": \"Colubridae\", \"ordem\": \"Squamata\", \"ano_coleta\": 2001.0, \"qualificador_atual\": null}, {\"altitude\": 718.0, \"familia\": \"Colubridae\", \"ordem\": \"Squamata\", \"ano_coleta\": 2007.0, \"qualificador_atual\": null}, {\"altitude\": 718.0, \"familia\": \"Dipsadidae\", \"ordem\": \"Squamata\", \"ano_coleta\": 1996.0, \"qualificador_atual\": null}, {\"altitude\": 718.0, \"familia\": \"Dipsadidae\", \"ordem\": \"Squamata\", \"ano_coleta\": 1996.0, \"qualificador_atual\": null}, {\"altitude\": 718.0, \"familia\": \"Dipsadidae\", \"ordem\": \"Squamata\", \"ano_coleta\": 2001.0, \"qualificador_atual\": null}, {\"altitude\": 718.0, \"familia\": \"Dipsadidae\", \"ordem\": \"Squamata\", \"ano_coleta\": 1993.0, \"qualificador_atual\": null}, {\"altitude\": 718.0, \"familia\": \"Dipsadidae\", \"ordem\": \"Squamata\", \"ano_coleta\": 1996.0, \"qualificador_atual\": null}, {\"altitude\": 718.0, \"familia\": \"Dipsadidae\", \"ordem\": \"Squamata\", \"ano_coleta\": 2002.0, \"qualificador_atual\": null}, {\"altitude\": 718.0, \"familia\": \"Dipsadidae\", \"ordem\": \"Squamata\", \"ano_coleta\": 2006.0, \"qualificador_atual\": null}, {\"altitude\": 718.0, \"familia\": \"Dipsadidae\", \"ordem\": \"Squamata\", \"ano_coleta\": 2001.0, \"qualificador_atual\": null}, {\"altitude\": 718.0, \"familia\": \"Dipsadidae\", \"ordem\": \"Squamata\", \"ano_coleta\": 2005.0, \"qualificador_atual\": null}, {\"altitude\": 718.0, \"familia\": \"Dipsadidae\", \"ordem\": \"Squamata\", \"ano_coleta\": 2005.0, \"qualificador_atual\": null}, {\"altitude\": 718.0, \"familia\": \"Dipsadidae\", \"ordem\": \"Squamata\", \"ano_coleta\": 2004.0, \"qualificador_atual\": null}, {\"altitude\": 718.0, \"familia\": \"Gekkonidae\", \"ordem\": \"Squamata\", \"ano_coleta\": 2004.0, \"qualificador_atual\": null}, {\"altitude\": 718.0, \"familia\": \"Gekkonidae\", \"ordem\": \"Squamata\", \"ano_coleta\": 2004.0, \"qualificador_atual\": null}, {\"altitude\": 718.0, \"familia\": \"Gymnophthalmidae\", \"ordem\": \"Squamata\", \"ano_coleta\": 2006.0, \"qualificador_atual\": null}, {\"altitude\": 718.0, \"familia\": \"Scincidae\", \"ordem\": \"Squamata\", \"ano_coleta\": 2007.0, \"qualificador_atual\": null}, {\"altitude\": 718.0, \"familia\": \"Viperidae\", \"ordem\": \"Squamata\", \"ano_coleta\": 2002.0, \"qualificador_atual\": null}, {\"altitude\": 718.0, \"familia\": \"Viperidae\", \"ordem\": \"Squamata\", \"ano_coleta\": 2006.0, \"qualificador_atual\": null}, {\"altitude\": 72.0, \"familia\": \"Colubridae\", \"ordem\": \"Squamata\", \"ano_coleta\": 2004.0, \"qualificador_atual\": null}, {\"altitude\": 72.0, \"familia\": \"Dipsadidae\", \"ordem\": \"Squamata\", \"ano_coleta\": 2003.0, \"qualificador_atual\": null}, {\"altitude\": 727.0, \"familia\": \"Amphisbaenidae\", \"ordem\": \"Squamata\", \"ano_coleta\": 2006.0, \"qualificador_atual\": null}, {\"altitude\": 727.0, \"familia\": \"Amphisbaenidae\", \"ordem\": \"Squamata\", \"ano_coleta\": 2006.0, \"qualificador_atual\": null}, {\"altitude\": 727.0, \"familia\": \"Anguidae\", \"ordem\": \"Squamata\", \"ano_coleta\": 2006.0, \"qualificador_atual\": null}, {\"altitude\": 74.0, \"familia\": \"Dipsadidae\", \"ordem\": \"Squamata\", \"ano_coleta\": 2014.0, \"qualificador_atual\": null}, {\"altitude\": 75.0, \"familia\": \"Amphisbaenidae\", \"ordem\": \"Squamata\", \"ano_coleta\": 2004.0, \"qualificador_atual\": null}, {\"altitude\": 75.0, \"familia\": \"Colubridae\", \"ordem\": \"Squamata\", \"ano_coleta\": 2002.0, \"qualificador_atual\": null}, {\"altitude\": 75.0, \"familia\": \"Colubridae\", \"ordem\": \"Squamata\", \"ano_coleta\": 2002.0, \"qualificador_atual\": null}, {\"altitude\": 75.0, \"familia\": \"Dipsadidae\", \"ordem\": \"Squamata\", \"ano_coleta\": 2011.0, \"qualificador_atual\": null}, {\"altitude\": 75.0, \"familia\": \"Viperidae\", \"ordem\": \"Squamata\", \"ano_coleta\": 2011.0, \"qualificador_atual\": null}, {\"altitude\": 75.0, \"familia\": \"Viperidae\", \"ordem\": \"Squamata\", \"ano_coleta\": 2011.0, \"qualificador_atual\": null}, {\"altitude\": 750.0, \"familia\": \"Dipsadidae\", \"ordem\": \"Squamata\", \"ano_coleta\": 2013.0, \"qualificador_atual\": null}, {\"altitude\": 76.0, \"familia\": \"Dipsadidae\", \"ordem\": \"Squamata\", \"ano_coleta\": 2002.0, \"qualificador_atual\": null}, {\"altitude\": 764.0, \"familia\": \"Elapidae\", \"ordem\": \"Squamata\", \"ano_coleta\": 2013.0, \"qualificador_atual\": null}, {\"altitude\": 769.0, \"familia\": \"Viperidae\", \"ordem\": \"Squamata\", \"ano_coleta\": 2006.0, \"qualificador_atual\": null}, {\"altitude\": 769.0, \"familia\": \"Viperidae\", \"ordem\": \"Squamata\", \"ano_coleta\": 2006.0, \"qualificador_atual\": null}, {\"altitude\": 78.0, \"familia\": \"Colubridae\", \"ordem\": \"Squamata\", \"ano_coleta\": 2002.0, \"qualificador_atual\": null}, {\"altitude\": 786.0, \"familia\": \"Tropiduridae\", \"ordem\": \"Squamata\", \"ano_coleta\": 2011.0, \"qualificador_atual\": null}, {\"altitude\": 8.0, \"familia\": \"Colubridae\", \"ordem\": \"Squamata\", \"ano_coleta\": 2015.0, \"qualificador_atual\": null}, {\"altitude\": 8.0, \"familia\": \"Typhlopidae\", \"ordem\": \"Squamata\", \"ano_coleta\": 2014.0, \"qualificador_atual\": null}, {\"altitude\": 8.0, \"familia\": \"Typhlopidae\", \"ordem\": \"Squamata\", \"ano_coleta\": 2014.0, \"qualificador_atual\": null}, {\"altitude\": 8.0, \"familia\": \"Typhlopidae\", \"ordem\": \"Squamata\", \"ano_coleta\": 2014.0, \"qualificador_atual\": null}, {\"altitude\": 8.0, \"familia\": \"Typhlopidae\", \"ordem\": \"Squamata\", \"ano_coleta\": 2014.0, \"qualificador_atual\": null}, {\"altitude\": 8.0, \"familia\": \"Typhlopidae\", \"ordem\": \"Squamata\", \"ano_coleta\": 2014.0, \"qualificador_atual\": null}, {\"altitude\": 8.0, \"familia\": \"Typhlopidae\", \"ordem\": \"Squamata\", \"ano_coleta\": 2014.0, \"qualificador_atual\": null}, {\"altitude\": 8.0, \"familia\": \"Typhlopidae\", \"ordem\": \"Squamata\", \"ano_coleta\": 2014.0, \"qualificador_atual\": null}, {\"altitude\": 8.0, \"familia\": \"Typhlopidae\", \"ordem\": \"Squamata\", \"ano_coleta\": 2015.0, \"qualificador_atual\": null}, {\"altitude\": 8.0, \"familia\": \"Typhlopidae\", \"ordem\": \"Squamata\", \"ano_coleta\": 2015.0, \"qualificador_atual\": null}, {\"altitude\": 8.0, \"familia\": \"Typhlopidae\", \"ordem\": \"Squamata\", \"ano_coleta\": 2015.0, \"qualificador_atual\": null}, {\"altitude\": 8.0, \"familia\": \"Typhlopidae\", \"ordem\": \"Squamata\", \"ano_coleta\": 2015.0, \"qualificador_atual\": null}, {\"altitude\": 80.0, \"familia\": \"Amphisbaenidae\", \"ordem\": \"Squamata\", \"ano_coleta\": 2003.0, \"qualificador_atual\": null}, {\"altitude\": 80.0, \"familia\": \"Colubridae\", \"ordem\": \"Squamata\", \"ano_coleta\": 2003.0, \"qualificador_atual\": null}, {\"altitude\": 80.0, \"familia\": \"Tropiduridae\", \"ordem\": \"Squamata\", \"ano_coleta\": 2003.0, \"qualificador_atual\": null}, {\"altitude\": 800.0, \"familia\": \"Dipsadidae\", \"ordem\": \"Squamata\", \"ano_coleta\": 2014.0, \"qualificador_atual\": null}, {\"altitude\": 800.0, \"familia\": \"Viperidae\", \"ordem\": \"Squamata\", \"ano_coleta\": 1947.0, \"qualificador_atual\": null}, {\"altitude\": 800.0, \"familia\": \"Viperidae\", \"ordem\": \"Squamata\", \"ano_coleta\": 2014.0, \"qualificador_atual\": null}, {\"altitude\": 802.0, \"familia\": \"Dipsadidae\", \"ordem\": \"Squamata\", \"ano_coleta\": 2014.0, \"qualificador_atual\": null}, {\"altitude\": 809.0, \"familia\": \"Dipsadidae\", \"ordem\": \"Squamata\", \"ano_coleta\": 2011.0, \"qualificador_atual\": null}, {\"altitude\": 809.0, \"familia\": \"Gymnophthalmidae\", \"ordem\": \"Squamata\", \"ano_coleta\": 2011.0, \"qualificador_atual\": null}, {\"altitude\": 809.0, \"familia\": \"Tropiduridae\", \"ordem\": \"Squamata\", \"ano_coleta\": 2011.0, \"qualificador_atual\": null}, {\"altitude\": 815.0, \"familia\": \"Elapidae\", \"ordem\": \"Squamata\", \"ano_coleta\": 1956.0, \"qualificador_atual\": null}, {\"altitude\": 815.0, \"familia\": \"Leiosauridae\", \"ordem\": \"Squamata\", \"ano_coleta\": 1956.0, \"qualificador_atual\": null}, {\"altitude\": 83.0, \"familia\": \"Amphisbaenidae\", \"ordem\": \"Squamata\", \"ano_coleta\": 2006.0, \"qualificador_atual\": null}, {\"altitude\": 83.0, \"familia\": \"Amphisbaenidae\", \"ordem\": \"Squamata\", \"ano_coleta\": 2006.0, \"qualificador_atual\": null}, {\"altitude\": 830.0, \"familia\": \"Elapidae\", \"ordem\": \"Squamata\", \"ano_coleta\": 1957.0, \"qualificador_atual\": null}, {\"altitude\": 834.0, \"familia\": \"Viperidae\", \"ordem\": \"Squamata\", \"ano_coleta\": 2015.0, \"qualificador_atual\": null}, {\"altitude\": 84.0, \"familia\": \"Boidae\", \"ordem\": \"Squamata\", \"ano_coleta\": 2011.0, \"qualificador_atual\": null}, {\"altitude\": 84.0, \"familia\": \"Dipsadidae\", \"ordem\": \"Squamata\", \"ano_coleta\": 2011.0, \"qualificador_atual\": null}, {\"altitude\": 84.0, \"familia\": \"Dipsadidae\", \"ordem\": \"Squamata\", \"ano_coleta\": 2011.0, \"qualificador_atual\": null}, {\"altitude\": 840.0, \"familia\": \"Colubridae\", \"ordem\": \"Squamata\", \"ano_coleta\": 2008.0, \"qualificador_atual\": null}, {\"altitude\": 842.0, \"familia\": \"Typhlopidae\", \"ordem\": \"Squamata\", \"ano_coleta\": 2014.0, \"qualificador_atual\": null}, {\"altitude\": 844.0, \"familia\": \"Viperidae\", \"ordem\": \"Squamata\", \"ano_coleta\": 2014.0, \"qualificador_atual\": null}, {\"altitude\": 848.0, \"familia\": \"Leptotyphlopidae\", \"ordem\": \"Squamata\", \"ano_coleta\": 2011.0, \"qualificador_atual\": null}, {\"altitude\": 848.0, \"familia\": \"Polychrotidae\", \"ordem\": \"Squamata\", \"ano_coleta\": 2011.0, \"qualificador_atual\": null}, {\"altitude\": 848.0, \"familia\": \"Teiidae\", \"ordem\": \"Squamata\", \"ano_coleta\": 2011.0, \"qualificador_atual\": null}, {\"altitude\": 848.0, \"familia\": \"Tropiduridae\", \"ordem\": \"Squamata\", \"ano_coleta\": 2011.0, \"qualificador_atual\": null}, {\"altitude\": 851.0, \"familia\": \"Colubridae\", \"ordem\": \"Squamata\", \"ano_coleta\": 2008.0, \"qualificador_atual\": null}, {\"altitude\": 863.0, \"familia\": \"Amphisbaenidae\", \"ordem\": \"Squamata\", \"ano_coleta\": 2007.0, \"qualificador_atual\": \"sp.\"}, {\"altitude\": 864.0, \"familia\": \"Colubridae\", \"ordem\": \"Squamata\", \"ano_coleta\": 2009.0, \"qualificador_atual\": null}, {\"altitude\": 87.0, \"familia\": \"Dipsadidae\", \"ordem\": \"Squamata\", \"ano_coleta\": 2011.0, \"qualificador_atual\": null}, {\"altitude\": 87.0, \"familia\": \"Teiidae\", \"ordem\": \"Squamata\", \"ano_coleta\": 2011.0, \"qualificador_atual\": null}, {\"altitude\": 87.0, \"familia\": \"Teiidae\", \"ordem\": \"Squamata\", \"ano_coleta\": 2011.0, \"qualificador_atual\": null}, {\"altitude\": 870.0, \"familia\": \"Colubridae\", \"ordem\": \"Squamata\", \"ano_coleta\": 2008.0, \"qualificador_atual\": null}, {\"altitude\": 871.0, \"familia\": \"Dipsadidae\", \"ordem\": \"Squamata\", \"ano_coleta\": 2005.0, \"qualificador_atual\": null}, {\"altitude\": 871.0, \"familia\": \"Viperidae\", \"ordem\": \"Squamata\", \"ano_coleta\": 2004.0, \"qualificador_atual\": null}, {\"altitude\": 875.0, \"familia\": \"Colubridae\", \"ordem\": \"Squamata\", \"ano_coleta\": 2009.0, \"qualificador_atual\": null}, {\"altitude\": 876.0, \"familia\": \"Dipsadidae\", \"ordem\": \"Squamata\", \"ano_coleta\": 2013.0, \"qualificador_atual\": null}, {\"altitude\": 876.0, \"familia\": \"Dipsadidae\", \"ordem\": \"Squamata\", \"ano_coleta\": 2013.0, \"qualificador_atual\": null}, {\"altitude\": 876.0, \"familia\": \"Viperidae\", \"ordem\": \"Squamata\", \"ano_coleta\": 2013.0, \"qualificador_atual\": null}, {\"altitude\": 878.0, \"familia\": \"Teiidae\", \"ordem\": \"Squamata\", \"ano_coleta\": 2006.0, \"qualificador_atual\": null}, {\"altitude\": 88.0, \"familia\": \"Dipsadidae\", \"ordem\": \"Squamata\", \"ano_coleta\": 2011.0, \"qualificador_atual\": null}, {\"altitude\": 88.0, \"familia\": \"Dipsadidae\", \"ordem\": \"Squamata\", \"ano_coleta\": 2011.0, \"qualificador_atual\": null}, {\"altitude\": 880.0, \"familia\": \"Colubridae\", \"ordem\": \"Squamata\", \"ano_coleta\": 2008.0, \"qualificador_atual\": null}, {\"altitude\": 889.0, \"familia\": \"Amphisbaenidae\", \"ordem\": \"Squamata\", \"ano_coleta\": 2014.0, \"qualificador_atual\": null}, {\"altitude\": 889.0, \"familia\": \"Tropiduridae\", \"ordem\": \"Squamata\", \"ano_coleta\": 2006.0, \"qualificador_atual\": null}, {\"altitude\": 894.0, \"familia\": \"Dipsadidae\", \"ordem\": \"Squamata\", \"ano_coleta\": 2014.0, \"qualificador_atual\": null}, {\"altitude\": 896.0, \"familia\": \"Colubridae\", \"ordem\": \"Squamata\", \"ano_coleta\": 2008.0, \"qualificador_atual\": null}, {\"altitude\": 896.0, \"familia\": \"Colubridae\", \"ordem\": \"Squamata\", \"ano_coleta\": 2008.0, \"qualificador_atual\": null}, {\"altitude\": 896.0, \"familia\": \"Colubridae\", \"ordem\": \"Squamata\", \"ano_coleta\": 2009.0, \"qualificador_atual\": null}, {\"altitude\": 9.0, \"familia\": \"Colubridae\", \"ordem\": \"Squamata\", \"ano_coleta\": 2010.0, \"qualificador_atual\": null}, {\"altitude\": 9.0, \"familia\": \"Colubridae\", \"ordem\": \"Squamata\", \"ano_coleta\": 2010.0, \"qualificador_atual\": null}, {\"altitude\": 9.0, \"familia\": \"Dipsadidae\", \"ordem\": \"Squamata\", \"ano_coleta\": 2008.0, \"qualificador_atual\": null}, {\"altitude\": 9.0, \"familia\": \"Dipsadidae\", \"ordem\": \"Squamata\", \"ano_coleta\": 2014.0, \"qualificador_atual\": null}, {\"altitude\": 9.0, \"familia\": \"Dipsadidae\", \"ordem\": \"Squamata\", \"ano_coleta\": 2010.0, \"qualificador_atual\": null}, {\"altitude\": 9.0, \"familia\": \"Dipsadidae\", \"ordem\": \"Squamata\", \"ano_coleta\": 2011.0, \"qualificador_atual\": null}, {\"altitude\": 9.0, \"familia\": \"Elapidae\", \"ordem\": \"Squamata\", \"ano_coleta\": 2011.0, \"qualificador_atual\": null}, {\"altitude\": 9.0, \"familia\": \"Gekkonidae\", \"ordem\": \"Squamata\", \"ano_coleta\": 2008.0, \"qualificador_atual\": null}, {\"altitude\": 9.0, \"familia\": \"Gekkonidae\", \"ordem\": \"Squamata\", \"ano_coleta\": 2011.0, \"qualificador_atual\": null}, {\"altitude\": 9.0, \"familia\": \"Phyllodactylidae\", \"ordem\": \"Squamata\", \"ano_coleta\": 2010.0, \"qualificador_atual\": null}, {\"altitude\": 9.0, \"familia\": \"Teiidae\", \"ordem\": \"Squamata\", \"ano_coleta\": 2011.0, \"qualificador_atual\": null}, {\"altitude\": 9.0, \"familia\": \"Teiidae\", \"ordem\": \"Squamata\", \"ano_coleta\": 2011.0, \"qualificador_atual\": null}, {\"altitude\": 9.0, \"familia\": \"Teiidae\", \"ordem\": \"Squamata\", \"ano_coleta\": 2011.0, \"qualificador_atual\": null}, {\"altitude\": 9.0, \"familia\": \"Teiidae\", \"ordem\": \"Squamata\", \"ano_coleta\": 2011.0, \"qualificador_atual\": null}, {\"altitude\": 9.0, \"familia\": \"Teiidae\", \"ordem\": \"Squamata\", \"ano_coleta\": 2011.0, \"qualificador_atual\": null}, {\"altitude\": 9.0, \"familia\": \"Teiidae\", \"ordem\": \"Squamata\", \"ano_coleta\": 2011.0, \"qualificador_atual\": null}, {\"altitude\": 9.0, \"familia\": \"Teiidae\", \"ordem\": \"Squamata\", \"ano_coleta\": 2011.0, \"qualificador_atual\": null}, {\"altitude\": 9.0, \"familia\": \"Teiidae\", \"ordem\": \"Squamata\", \"ano_coleta\": 2011.0, \"qualificador_atual\": null}, {\"altitude\": 9.0, \"familia\": \"Teiidae\", \"ordem\": \"Squamata\", \"ano_coleta\": 2010.0, \"qualificador_atual\": null}, {\"altitude\": 9.0, \"familia\": \"Teiidae\", \"ordem\": \"Squamata\", \"ano_coleta\": 2010.0, \"qualificador_atual\": null}, {\"altitude\": 9.0, \"familia\": \"Teiidae\", \"ordem\": \"Squamata\", \"ano_coleta\": 2010.0, \"qualificador_atual\": null}, {\"altitude\": 9.0, \"familia\": \"Teiidae\", \"ordem\": \"Squamata\", \"ano_coleta\": 2010.0, \"qualificador_atual\": null}, {\"altitude\": 9.0, \"familia\": \"Teiidae\", \"ordem\": \"Squamata\", \"ano_coleta\": 2010.0, \"qualificador_atual\": null}, {\"altitude\": 9.0, \"familia\": \"Tropiduridae\", \"ordem\": \"Squamata\", \"ano_coleta\": 2011.0, \"qualificador_atual\": null}, {\"altitude\": 9.0, \"familia\": \"Typhlopidae\", \"ordem\": \"Squamata\", \"ano_coleta\": 2014.0, \"qualificador_atual\": null}, {\"altitude\": 9.0, \"familia\": \"Typhlopidae\", \"ordem\": \"Squamata\", \"ano_coleta\": 2014.0, \"qualificador_atual\": null}, {\"altitude\": 9.0, \"familia\": \"Typhlopidae\", \"ordem\": \"Squamata\", \"ano_coleta\": 2014.0, \"qualificador_atual\": null}, {\"altitude\": 9.0, \"familia\": \"Typhlopidae\", \"ordem\": \"Squamata\", \"ano_coleta\": 2014.0, \"qualificador_atual\": null}, {\"altitude\": 9.0, \"familia\": \"Typhlopidae\", \"ordem\": \"Squamata\", \"ano_coleta\": 2015.0, \"qualificador_atual\": null}, {\"altitude\": 9.0, \"familia\": \"Typhlopidae\", \"ordem\": \"Squamata\", \"ano_coleta\": 2015.0, \"qualificador_atual\": null}, {\"altitude\": 9.0, \"familia\": \"Typhlopidae\", \"ordem\": \"Squamata\", \"ano_coleta\": 2015.0, \"qualificador_atual\": null}, {\"altitude\": 9.0, \"familia\": \"Typhlopidae\", \"ordem\": \"Squamata\", \"ano_coleta\": 2015.0, \"qualificador_atual\": null}, {\"altitude\": 9.0, \"familia\": \"Viperidae\", \"ordem\": \"Squamata\", \"ano_coleta\": 2015.0, \"qualificador_atual\": null}, {\"altitude\": 90.0, \"familia\": \"Colubridae\", \"ordem\": \"Squamata\", \"ano_coleta\": 2011.0, \"qualificador_atual\": null}, {\"altitude\": 900.0, \"familia\": \"Dactyloidae\", \"ordem\": \"Squamata\", \"ano_coleta\": 2011.0, \"qualificador_atual\": null}, {\"altitude\": 900.0, \"familia\": \"Dactyloidae\", \"ordem\": \"Squamata\", \"ano_coleta\": 2011.0, \"qualificador_atual\": null}, {\"altitude\": 900.0, \"familia\": \"Dipsadidae\", \"ordem\": \"Squamata\", \"ano_coleta\": 2008.0, \"qualificador_atual\": null}, {\"altitude\": 900.0, \"familia\": \"Elapidae\", \"ordem\": \"Squamata\", \"ano_coleta\": 1944.0, \"qualificador_atual\": null}, {\"altitude\": 900.0, \"familia\": \"Polychrotidae\", \"ordem\": \"Squamata\", \"ano_coleta\": 2011.0, \"qualificador_atual\": null}, {\"altitude\": 900.0, \"familia\": \"Teiidae\", \"ordem\": \"Squamata\", \"ano_coleta\": 2011.0, \"qualificador_atual\": null}, {\"altitude\": 900.0, \"familia\": \"Viperidae\", \"ordem\": \"Squamata\", \"ano_coleta\": 2010.0, \"qualificador_atual\": null}, {\"altitude\": 905.0, \"familia\": \"Elapidae\", \"ordem\": \"Squamata\", \"ano_coleta\": 2006.0, \"qualificador_atual\": null}, {\"altitude\": 918.0, \"familia\": \"Dipsadidae\", \"ordem\": \"Squamata\", \"ano_coleta\": 2013.0, \"qualificador_atual\": null}, {\"altitude\": 923.0, \"familia\": \"Polychrotidae\", \"ordem\": \"Squamata\", \"ano_coleta\": 2011.0, \"qualificador_atual\": null}, {\"altitude\": 928.0, \"familia\": \"Dipsadidae\", \"ordem\": \"Squamata\", \"ano_coleta\": 2014.0, \"qualificador_atual\": null}, {\"altitude\": 944.0, \"familia\": \"Dipsadidae\", \"ordem\": \"Squamata\", \"ano_coleta\": 2011.0, \"qualificador_atual\": null}, {\"altitude\": 95.0, \"familia\": \"Dipsadidae\", \"ordem\": \"Squamata\", \"ano_coleta\": 2011.0, \"qualificador_atual\": null}, {\"altitude\": 95.0, \"familia\": \"Dipsadidae\", \"ordem\": \"Squamata\", \"ano_coleta\": 2011.0, \"qualificador_atual\": null}, {\"altitude\": 95.0, \"familia\": \"Dipsadidae\", \"ordem\": \"Squamata\", \"ano_coleta\": 2011.0, \"qualificador_atual\": null}, {\"altitude\": 95.0, \"familia\": \"Sphaerodactylidae\", \"ordem\": \"Squamata\", \"ano_coleta\": 2011.0, \"qualificador_atual\": null}, {\"altitude\": 95.0, \"familia\": \"Sphaerodactylidae\", \"ordem\": \"Squamata\", \"ano_coleta\": 2011.0, \"qualificador_atual\": null}, {\"altitude\": 97.0, \"familia\": \"Dipsadidae\", \"ordem\": \"Squamata\", \"ano_coleta\": 2007.0, \"qualificador_atual\": null}, {\"altitude\": 974.0, \"familia\": \"Dactyloidae\", \"ordem\": \"Squamata\", \"ano_coleta\": 2011.0, \"qualificador_atual\": null}, {\"altitude\": 974.0, \"familia\": \"Dactyloidae\", \"ordem\": \"Squamata\", \"ano_coleta\": 2011.0, \"qualificador_atual\": null}, {\"altitude\": 974.0, \"familia\": \"Polychrotidae\", \"ordem\": \"Squamata\", \"ano_coleta\": 2011.0, \"qualificador_atual\": null}, {\"altitude\": 974.0, \"familia\": \"Polychrotidae\", \"ordem\": \"Squamata\", \"ano_coleta\": 2011.0, \"qualificador_atual\": null}, {\"altitude\": 974.0, \"familia\": \"Scincidae\", \"ordem\": \"Squamata\", \"ano_coleta\": 2011.0, \"qualificador_atual\": null}, {\"altitude\": 976.0, \"familia\": \"Dipsadidae\", \"ordem\": \"Squamata\", \"ano_coleta\": 2013.0, \"qualificador_atual\": \"cf.\"}, {\"altitude\": 980.0, \"familia\": \"Leiosauridae\", \"ordem\": \"Squamata\", \"ano_coleta\": 2013.0, \"qualificador_atual\": null}, {\"altitude\": 990.0, \"familia\": \"Dipsadidae\", \"ordem\": \"Squamata\", \"ano_coleta\": 2011.0, \"qualificador_atual\": null}, {\"altitude\": 996.0, \"familia\": \"Polychrotidae\", \"ordem\": \"Squamata\", \"ano_coleta\": 2015.0, \"qualificador_atual\": \"sp.\"}, {\"altitude\": 996.0, \"familia\": \"Polychrotidae\", \"ordem\": \"Squamata\", \"ano_coleta\": 2015.0, \"qualificador_atual\": \"sp.\"}, {\"altitude\": 996.0, \"familia\": \"Polychrotidae\", \"ordem\": \"Squamata\", \"ano_coleta\": 2015.0, \"qualificador_atual\": \"sp.\"}, {\"altitude\": 996.0, \"familia\": \"Polychrotidae\", \"ordem\": \"Squamata\", \"ano_coleta\": 2015.0, \"qualificador_atual\": \"sp.\"}, {\"altitude\": 996.0, \"familia\": \"Polychrotidae\", \"ordem\": \"Squamata\", \"ano_coleta\": 2015.0, \"qualificador_atual\": \"sp.\"}]}}, {\"mode\": \"vega-lite\"});\n",
       "</script>"
      ],
      "text/plain": [
       "alt.Chart(...)"
      ]
     },
     "execution_count": 100,
     "metadata": {},
     "output_type": "execute_result"
    }
   ],
   "source": [
    "temp = alt.Chart(teste[teste['familia'] != \"#n/d\"], title='Altitude per family').mark_circle().encode(\n",
    "    x = alt.X('familia', type='nominal', title='Family', \n",
    "              sort= alt.EncodingSortField('altitude', op='max', order='ascending')),\n",
    "    y = alt.Y('altitude', type='quantitative', title='Altitude (in meters)'),\n",
    "    color= alt.Color('ordem', scale=alt.Scale(domain=ordens, range=cores)),\n",
    "    tooltip = alt.Tooltip(['ordem', 'familia', 'altitude', 'ano_coleta', 'qualificador_atual'])\n",
    ")\n",
    "\n",
    "temp.save('./graphs/altitude/altitude_per_family.html')\n",
    "temp.facet(column='ordem').save('./graphs/altitude/altitude_per_family-facetado.html')\n",
    "\n",
    "\n",
    "alt_squam = alt.Chart(teste[(teste['ordem'] == 'Squamata') & (teste['familia'] != \"#n/d\")],\n",
    "                      title='Altitude per family (Squamata)').mark_circle(color= cores[0]).encode(\n",
    "    x = alt.X('familia', type='nominal', title='Family', \n",
    "              sort= alt.EncodingSortField('altitude', op='max', order='ascending')),\n",
    "    y = alt.Y('altitude', type='quantitative', title='Altitude (in meters)'),\n",
    "    tooltip = alt.Tooltip(['ordem', 'familia', 'altitude', 'ano_coleta', 'qualificador_atual'])\n",
    ")\n",
    "\n",
    "alt_squam.save('./graphs/altitude/altitude_per_family-squamata.html')\n",
    "alt_squam"
   ]
  },
  {
   "cell_type": "markdown",
   "metadata": {},
   "source": [
    "<br>\n",
    "\n",
    "## Altitude per genus"
   ]
  },
  {
   "cell_type": "code",
   "execution_count": 123,
   "metadata": {
    "ExecuteTime": {
     "end_time": "2020-07-14T20:18:53.857504Z",
     "start_time": "2020-07-14T20:18:53.815067Z"
    }
   },
   "outputs": [],
   "source": [
    "teste = NewTable[['altitude','especie_atual','genero_atual','ordem', \n",
    "                 'familia', 'ano_coleta', 'qualificador_atual']].copy()\n",
    "\n",
    "teste['altitude'] = teste['altitude'].str.extract('(\\d+)')\n",
    "\n",
    "# sorting\n",
    "teste = teste.sort_values(['altitude','genero_atual'])"
   ]
  },
  {
   "cell_type": "markdown",
   "metadata": {},
   "source": [
    "<font color='red' size='5'>Ajustes na coluna ordem </font>"
   ]
  },
  {
   "cell_type": "code",
   "execution_count": 124,
   "metadata": {
    "ExecuteTime": {
     "end_time": "2020-07-14T20:18:56.207405Z",
     "start_time": "2020-07-14T20:18:56.189265Z"
    }
   },
   "outputs": [
    {
     "data": {
      "text/plain": [
       "Squamata      21992\n",
       "Testudines      844\n",
       "Crocodylia      257\n",
       "Nan              21\n",
       "#n/d              2\n",
       "Squama            1\n",
       "Squamta           1\n",
       "Caudata           1\n",
       "Name: ordem, dtype: int64"
      ]
     },
     "execution_count": 124,
     "metadata": {},
     "output_type": "execute_result"
    }
   ],
   "source": [
    "teste['ordem'].value_counts()"
   ]
  },
  {
   "cell_type": "code",
   "execution_count": 125,
   "metadata": {
    "ExecuteTime": {
     "end_time": "2020-07-14T20:18:57.424512Z",
     "start_time": "2020-07-14T20:18:57.417983Z"
    }
   },
   "outputs": [],
   "source": [
    "# corrige Squama e Squamta\n",
    "def corrige_squamata(string):\n",
    "    if str(string).lower() == 'squama' or str(string).lower() == 'squamta':\n",
    "        return 'Squamata'\n",
    "    else:\n",
    "        return str(string)\n",
    "    \n",
    "# corrige de #n/d para 'Nan'\n",
    "def corrige_nd(string):\n",
    "    if str(string) == \"#n/d\":\n",
    "        return np.NAN\n",
    "    elif str(string).lower() == 'nan':\n",
    "        return np.NAN\n",
    "    else:\n",
    "        return string"
   ]
  },
  {
   "cell_type": "code",
   "execution_count": 126,
   "metadata": {
    "ExecuteTime": {
     "end_time": "2020-07-14T20:18:58.496070Z",
     "start_time": "2020-07-14T20:18:58.453072Z"
    }
   },
   "outputs": [],
   "source": [
    "teste['ordem'] = teste['ordem'].apply(corrige_squamata)\n",
    "teste['ordem'] = teste['ordem'].apply(corrige_nd)"
   ]
  },
  {
   "cell_type": "code",
   "execution_count": 127,
   "metadata": {
    "ExecuteTime": {
     "end_time": "2020-07-14T20:18:58.987015Z",
     "start_time": "2020-07-14T20:18:58.969764Z"
    }
   },
   "outputs": [
    {
     "data": {
      "text/plain": [
       "Squamata      21994\n",
       "Testudines      844\n",
       "Crocodylia      257\n",
       "NaN              23\n",
       "Caudata           1\n",
       "Name: ordem, dtype: int64"
      ]
     },
     "execution_count": 127,
     "metadata": {},
     "output_type": "execute_result"
    }
   ],
   "source": [
    "# restaram 4 ordens (exatamente o que queríamos!)\n",
    "teste['ordem'].value_counts(dropna=False)"
   ]
  },
  {
   "cell_type": "markdown",
   "metadata": {},
   "source": [
    "Fazendo gráfico da altitude facetado por ordem"
   ]
  },
  {
   "cell_type": "markdown",
   "metadata": {},
   "source": [
    "<font color='red' size='4'>**OBS:** Estou removendo NaN's - i.e., generos e espécies que não têm altitude registrada </font>"
   ]
  },
  {
   "cell_type": "code",
   "execution_count": 128,
   "metadata": {
    "ExecuteTime": {
     "end_time": "2020-07-14T20:19:01.068924Z",
     "start_time": "2020-07-14T20:19:01.053048Z"
    }
   },
   "outputs": [],
   "source": [
    "# dropping na\n",
    "teste = teste.dropna(subset=['altitude'])\n",
    "\n",
    "teste['altitude'] = teste['altitude'].astype(float)\n",
    "\n",
    "# removing outlier\n",
    "teste = teste[teste['altitude'] < 7000].copy()"
   ]
  },
  {
   "cell_type": "code",
   "execution_count": 167,
   "metadata": {
    "ExecuteTime": {
     "end_time": "2020-07-14T20:36:39.354284Z",
     "start_time": "2020-07-14T20:36:39.300450Z"
    }
   },
   "outputs": [
    {
     "data": {
      "text/html": [
       "\n",
       "<div id=\"altair-viz-36e1cab5061d4834b2053949e1120af8\"></div>\n",
       "<script type=\"text/javascript\">\n",
       "  (function(spec, embedOpt){\n",
       "    let outputDiv = document.currentScript.previousElementSibling;\n",
       "    if (outputDiv.id !== \"altair-viz-36e1cab5061d4834b2053949e1120af8\") {\n",
       "      outputDiv = document.getElementById(\"altair-viz-36e1cab5061d4834b2053949e1120af8\");\n",
       "    }\n",
       "    const paths = {\n",
       "      \"vega\": \"https://cdn.jsdelivr.net/npm//vega@5?noext\",\n",
       "      \"vega-lib\": \"https://cdn.jsdelivr.net/npm//vega-lib?noext\",\n",
       "      \"vega-lite\": \"https://cdn.jsdelivr.net/npm//vega-lite@4.8.1?noext\",\n",
       "      \"vega-embed\": \"https://cdn.jsdelivr.net/npm//vega-embed@6?noext\",\n",
       "    };\n",
       "\n",
       "    function loadScript(lib) {\n",
       "      return new Promise(function(resolve, reject) {\n",
       "        var s = document.createElement('script');\n",
       "        s.src = paths[lib];\n",
       "        s.async = true;\n",
       "        s.onload = () => resolve(paths[lib]);\n",
       "        s.onerror = () => reject(`Error loading script: ${paths[lib]}`);\n",
       "        document.getElementsByTagName(\"head\")[0].appendChild(s);\n",
       "      });\n",
       "    }\n",
       "\n",
       "    function showError(err) {\n",
       "      outputDiv.innerHTML = `<div class=\"error\" style=\"color:red;\">${err}</div>`;\n",
       "      throw err;\n",
       "    }\n",
       "\n",
       "    function displayChart(vegaEmbed) {\n",
       "      vegaEmbed(outputDiv, spec, embedOpt)\n",
       "        .catch(err => showError(`Javascript Error: ${err.message}<br>This usually means there's a typo in your chart specification. See the javascript console for the full traceback.`));\n",
       "    }\n",
       "\n",
       "    if(typeof define === \"function\" && define.amd) {\n",
       "      requirejs.config({paths});\n",
       "      require([\"vega-embed\"], displayChart, err => showError(`Error loading script: ${err.message}`));\n",
       "    } else if (typeof vegaEmbed === \"function\") {\n",
       "      displayChart(vegaEmbed);\n",
       "    } else {\n",
       "      loadScript(\"vega\")\n",
       "        .then(() => loadScript(\"vega-lite\"))\n",
       "        .then(() => loadScript(\"vega-embed\"))\n",
       "        .catch(showError)\n",
       "        .then(() => displayChart(vegaEmbed));\n",
       "    }\n",
       "  })({\"config\": {\"view\": {\"continuousWidth\": 400, \"continuousHeight\": 300}}, \"data\": {\"name\": \"data-04884df66867cc81a5cd93fa6a0c8886\"}, \"mark\": \"circle\", \"encoding\": {\"color\": {\"type\": \"nominal\", \"field\": \"ordem\", \"scale\": {\"domain\": [\"Squamata\", \"Testudines\", \"Crocodylia\"], \"range\": [\"#BF4417\", \"#D9CB0B\", \"#284021\"]}}, \"tooltip\": [{\"type\": \"nominal\", \"field\": \"ordem\"}, {\"type\": \"nominal\", \"field\": \"genero_atual\"}, {\"type\": \"quantitative\", \"field\": \"altitude\"}], \"x\": {\"type\": \"nominal\", \"field\": \"genero_atual\", \"sort\": {\"field\": \"altitude\", \"op\": \"max\", \"order\": \"ascending\"}, \"title\": \"Genus and species (actual)\"}, \"y\": {\"type\": \"quantitative\", \"field\": \"altitude\", \"title\": \"Altitude (in meters)\"}}, \"title\": \"Altitude per genus\", \"width\": 800, \"$schema\": \"https://vega.github.io/schema/vega-lite/v4.8.1.json\", \"datasets\": {\"data-04884df66867cc81a5cd93fa6a0c8886\": [{\"altitude\": 0.0, \"especie_atual\": \"Mabouia\", \"genero_atual\": \"Hemidactylus\", \"ordem\": \"Squamata\", \"familia\": \"Gekkonidae\", \"ano_coleta\": 2008.0, \"qualificador_atual\": null}, {\"altitude\": 0.0, \"especie_atual\": \"Patagoniensis\", \"genero_atual\": \"Philodryas\", \"ordem\": \"Squamata\", \"familia\": \"Dipsadidae\", \"ano_coleta\": 2008.0, \"qualificador_atual\": null}, {\"altitude\": 1.0, \"especie_atual\": \"Mabouia\", \"genero_atual\": \"Hemidactylus\", \"ordem\": \"Squamata\", \"familia\": \"Gekkonidae\", \"ano_coleta\": 2008.0, \"qualificador_atual\": null}, {\"altitude\": 1.0, \"especie_atual\": \"Torquatus\", \"genero_atual\": \"Tropidurus\", \"ordem\": \"Squamata\", \"familia\": \"Tropiduridae\", \"ano_coleta\": null, \"qualificador_atual\": null}, {\"altitude\": 10.0, \"especie_atual\": \"Gaudichaudii\", \"genero_atual\": \"Ecpleopus\", \"ordem\": \"Squamata\", \"familia\": \"Gymnophthalmidae\", \"ano_coleta\": 2015.0, \"qualificador_atual\": null}, {\"altitude\": 10.0, \"especie_atual\": \"Petolarius\", \"genero_atual\": \"Oxyrhopus\", \"ordem\": \"Squamata\", \"familia\": \"Dipsadidae\", \"ano_coleta\": 2015.0, \"qualificador_atual\": null}, {\"altitude\": 100.0, \"especie_atual\": \"Iguana\", \"genero_atual\": \"Iguana\", \"ordem\": \"Squamata\", \"familia\": \"Iguanidae\", \"ano_coleta\": 2011.0, \"qualificador_atual\": null}, {\"altitude\": 100.0, \"especie_atual\": \"Umbra\", \"genero_atual\": \"Plica\", \"ordem\": \"Squamata\", \"familia\": \"Tropiduridae\", \"ano_coleta\": 2011.0, \"qualificador_atual\": null}, {\"altitude\": 100.0, \"especie_atual\": \"Rapicauda\", \"genero_atual\": \"Thecadactylus\", \"ordem\": \"Squamata\", \"familia\": \"Phyllodactylidae\", \"ano_coleta\": 2011.0, \"qualificador_atual\": null}, {\"altitude\": 105.0, \"especie_atual\": \"Typhlus\", \"genero_atual\": \"Liophis\", \"ordem\": \"Squamata\", \"familia\": \"Dipsadidae\", \"ano_coleta\": 2011.0, \"qualificador_atual\": null}, {\"altitude\": 105.0, \"especie_atual\": \"Pyrrhocryptus\", \"genero_atual\": \"Micrurus\", \"ordem\": \"Squamata\", \"familia\": \"Elapidae\", \"ano_coleta\": 2011.0, \"qualificador_atual\": null}, {\"altitude\": 1050.0, \"especie_atual\": \"Alternans\", \"genero_atual\": \"Dipsas\", \"ordem\": \"Squamata\", \"familia\": \"Dipsadidae\", \"ano_coleta\": 2010.0, \"qualificador_atual\": null}, {\"altitude\": 1050.0, \"especie_atual\": \"Marcovani\", \"genero_atual\": \"Tantilla\", \"ordem\": \"Squamata\", \"familia\": \"Colubridae\", \"ano_coleta\": 1990.0, \"qualificador_atual\": null}, {\"altitude\": 1078.0, \"especie_atual\": \"Torquatus\", \"genero_atual\": \"Tropidurus\", \"ordem\": \"Squamata\", \"familia\": \"Tropiduridae\", \"ano_coleta\": 2010.0, \"qualificador_atual\": null}, {\"altitude\": 108.0, \"especie_atual\": \"Poecilogyrus\", \"genero_atual\": \"Liophis\", \"ordem\": \"Squamata\", \"familia\": \"Dipsadidae\", \"ano_coleta\": 2011.0, \"qualificador_atual\": null}, {\"altitude\": 1086.0, \"especie_atual\": \"Bilineatus\", \"genero_atual\": \"Enyalius\", \"ordem\": \"Squamata\", \"familia\": \"Leiosauridae\", \"ano_coleta\": 2007.0, \"qualificador_atual\": null}, {\"altitude\": 109.0, \"especie_atual\": \"Patagoniensis\", \"genero_atual\": \"Philodryas\", \"ordem\": \"Squamata\", \"familia\": \"Dipsadidae\", \"ano_coleta\": 2011.0, \"qualificador_atual\": null}, {\"altitude\": 109.0, \"especie_atual\": \"Merremi\", \"genero_atual\": \"Xenodon\", \"ordem\": \"Squamata\", \"familia\": \"Dipsadidae\", \"ano_coleta\": 2011.0, \"qualificador_atual\": null}, {\"altitude\": 1100.0, \"especie_atual\": \"Cordylinum\", \"genero_atual\": \"Placosoma\", \"ordem\": \"Squamata\", \"familia\": \"Gymnophthalmidae\", \"ano_coleta\": null, \"qualificador_atual\": \"c.\"}, {\"altitude\": 1130.0, \"especie_atual\": \"Perditus\", \"genero_atual\": \"Enyalius\", \"ordem\": \"Squamata\", \"familia\": \"Leiosauridae\", \"ano_coleta\": 2014.0, \"qualificador_atual\": null}, {\"altitude\": 1138.0, \"especie_atual\": \"Decoratus\", \"genero_atual\": \"Micrurus\", \"ordem\": \"Squamata\", \"familia\": \"Elapidae\", \"ano_coleta\": 2013.0, \"qualificador_atual\": null}, {\"altitude\": 115.0, \"especie_atual\": \"Crassus\", \"genero_atual\": \"Epicrates\", \"ordem\": \"Squamata\", \"familia\": \"Boidae\", \"ano_coleta\": 2008.0, \"qualificador_atual\": null}, {\"altitude\": 1150.0, \"especie_atual\": \"Nattereri\", \"genero_atual\": \"Thamnodynastes\", \"ordem\": \"Squamata\", \"familia\": \"Dipsadidae\", \"ano_coleta\": null, \"qualificador_atual\": \"cf.\"}, {\"altitude\": 1179.0, \"especie_atual\": \"Francoi\", \"genero_atual\": \"Atractus\", \"ordem\": \"Squamata\", \"familia\": \"Dipsadidae\", \"ano_coleta\": 2014.0, \"qualificador_atual\": null}, {\"altitude\": 119.0, \"especie_atual\": \"Olfersii\", \"genero_atual\": \"Philodryas\", \"ordem\": \"Squamata\", \"familia\": \"Dipsadidae\", \"ano_coleta\": 2011.0, \"qualificador_atual\": null}, {\"altitude\": 1198.0, \"especie_atual\": \"Neuwiedii\", \"genero_atual\": \"Xenodon\", \"ordem\": \"Squamata\", \"familia\": \"Dipsadidae\", \"ano_coleta\": 2014.0, \"qualificador_atual\": null}, {\"altitude\": 1200.0, \"especie_atual\": \"Jararaca\", \"genero_atual\": \"Bothrops\", \"ordem\": \"Squamata\", \"familia\": \"Viperidae\", \"ano_coleta\": 1994.0, \"qualificador_atual\": null}, {\"altitude\": 1200.0, \"especie_atual\": \"Jararaca\", \"genero_atual\": \"Bothrops\", \"ordem\": \"Squamata\", \"familia\": \"Viperidae\", \"ano_coleta\": 1994.0, \"qualificador_atual\": null}, {\"altitude\": 1200.0, \"especie_atual\": \"Jararaca\", \"genero_atual\": \"Bothrops\", \"ordem\": \"Squamata\", \"familia\": \"Viperidae\", \"ano_coleta\": 1968.0, \"qualificador_atual\": null}, {\"altitude\": 1200.0, \"especie_atual\": \"Jararaca\", \"genero_atual\": \"Bothrops\", \"ordem\": \"Squamata\", \"familia\": \"Viperidae\", \"ano_coleta\": 1968.0, \"qualificador_atual\": null}, {\"altitude\": 1200.0, \"especie_atual\": \"Meridionalis\", \"genero_atual\": \"Lygophis\", \"ordem\": \"Squamata\", \"familia\": \"Dipsadidae\", \"ano_coleta\": null, \"qualificador_atual\": null}, {\"altitude\": 1210.0, \"especie_atual\": \"Cephalostriata\", \"genero_atual\": \"Echinanthera\", \"ordem\": \"Squamata\", \"familia\": \"Dipsadidae\", \"ano_coleta\": 2014.0, \"qualificador_atual\": null}, {\"altitude\": 1233.0, \"especie_atual\": \"Dorsatus\", \"genero_atual\": \"Tomodon\", \"ordem\": \"Squamata\", \"familia\": \"Dipsadidae\", \"ano_coleta\": 2015.0, \"qualificador_atual\": null}, {\"altitude\": 1249.0, \"especie_atual\": \"Francoi\", \"genero_atual\": \"Atractus\", \"ordem\": \"Squamata\", \"familia\": \"Dipsadidae\", \"ano_coleta\": 2014.0, \"qualificador_atual\": null}, {\"altitude\": 126.0, \"especie_atual\": \"Jararaca\", \"genero_atual\": \"Bothrops\", \"ordem\": \"Squamata\", \"familia\": \"Viperidae\", \"ano_coleta\": 2012.0, \"qualificador_atual\": null}, {\"altitude\": 1260.0, \"especie_atual\": \"Affinis\", \"genero_atual\": \"Taeniophallus\", \"ordem\": \"Squamata\", \"familia\": \"Dipsadidae\", \"ano_coleta\": 2014.0, \"qualificador_atual\": null}, {\"altitude\": 1274.0, \"especie_atual\": \"Neuwiedii\", \"genero_atual\": \"Xenodon\", \"ordem\": \"Squamata\", \"familia\": \"Dipsadidae\", \"ano_coleta\": 2013.0, \"qualificador_atual\": null}, {\"altitude\": 128.0, \"especie_atual\": \"Humeralis\", \"genero_atual\": \"Gonatodes\", \"ordem\": \"Squamata\", \"familia\": \"Sphaerodactylidae\", \"ano_coleta\": 2011.0, \"qualificador_atual\": null}, {\"altitude\": 128.0, \"especie_atual\": \"Humeralis\", \"genero_atual\": \"Gonatodes\", \"ordem\": \"Squamata\", \"familia\": \"Sphaerodactylidae\", \"ano_coleta\": 2011.0, \"qualificador_atual\": null}, {\"altitude\": 128.0, \"especie_atual\": \"Frenata\", \"genero_atual\": \"Mabuya\", \"ordem\": \"Squamata\", \"familia\": \"Scincidae\", \"ano_coleta\": 2011.0, \"qualificador_atual\": null}, {\"altitude\": 128.0, \"especie_atual\": \"Maximiliani\", \"genero_atual\": \"Micrablepharus\", \"ordem\": \"Squamata\", \"familia\": \"Gymnophthalmidae\", \"ano_coleta\": 2011.0, \"qualificador_atual\": null}, {\"altitude\": 128.0, \"especie_atual\": \"Maximiliani\", \"genero_atual\": \"Micrablepharus\", \"ordem\": \"Squamata\", \"familia\": \"Gymnophthalmidae\", \"ano_coleta\": 2011.0, \"qualificador_atual\": null}, {\"altitude\": 128.0, \"especie_atual\": \"Maximiliani\", \"genero_atual\": \"Micrablepharus\", \"ordem\": \"Squamata\", \"familia\": \"Gymnophthalmidae\", \"ano_coleta\": 2011.0, \"qualificador_atual\": null}, {\"altitude\": 128.0, \"especie_atual\": \"Frenata\", \"genero_atual\": \"Notomabuya\", \"ordem\": \"Squamata\", \"familia\": \"Scincidae\", \"ano_coleta\": 2011.0, \"qualificador_atual\": null}, {\"altitude\": 128.0, \"especie_atual\": \"Pollicaris\", \"genero_atual\": \"Phyllopezus\", \"ordem\": \"Squamata\", \"familia\": \"Phyllodactylidae\", \"ano_coleta\": 2011.0, \"qualificador_atual\": null}, {\"altitude\": 128.0, \"especie_atual\": \"Pollicaris\", \"genero_atual\": \"Phyllopezus\", \"ordem\": \"Squamata\", \"familia\": \"Phyllodactylidae\", \"ano_coleta\": 2011.0, \"qualificador_atual\": null}, {\"altitude\": 128.0, \"especie_atual\": \"Merianae\", \"genero_atual\": \"Salvator\", \"ordem\": \"Squamata\", \"familia\": \"Teiidae\", \"ano_coleta\": 2011.0, \"qualificador_atual\": null}, {\"altitude\": 128.0, \"especie_atual\": \"Spinulosus\", \"genero_atual\": \"Tropidurus\", \"ordem\": \"Squamata\", \"familia\": \"Tropiduridae\", \"ano_coleta\": 2011.0, \"qualificador_atual\": null}, {\"altitude\": 1280.0, \"especie_atual\": \"Perditus\", \"genero_atual\": \"Enyalius\", \"ordem\": \"Squamata\", \"familia\": \"Leiosauridae\", \"ano_coleta\": 1996.0, \"qualificador_atual\": null}, {\"altitude\": 1280.0, \"especie_atual\": \"Perditus\", \"genero_atual\": \"Enyalius\", \"ordem\": \"Squamata\", \"familia\": \"Leiosauridae\", \"ano_coleta\": 1996.0, \"qualificador_atual\": null}, {\"altitude\": 1284.0, \"especie_atual\": \"Decoratus\", \"genero_atual\": \"Micrurus\", \"ordem\": \"Squamata\", \"familia\": \"Elapidae\", \"ano_coleta\": 2013.0, \"qualificador_atual\": null}, {\"altitude\": 1298.0, \"especie_atual\": \"Fonsecai\", \"genero_atual\": \"Bothrops\", \"ordem\": \"Squamata\", \"familia\": \"Viperidae\", \"ano_coleta\": 2013.0, \"qualificador_atual\": null}, {\"altitude\": 13.0, \"especie_atual\": \"Mabouia\", \"genero_atual\": \"Hemidactylus\", \"ordem\": \"Squamata\", \"familia\": \"Gekkonidae\", \"ano_coleta\": 2015.0, \"qualificador_atual\": null}, {\"altitude\": 13.0, \"especie_atual\": \"Fragilis\", \"genero_atual\": \"Ophiodes\", \"ordem\": \"Squamata\", \"familia\": \"Anguidae\", \"ano_coleta\": 2013.0, \"qualificador_atual\": null}, {\"altitude\": 13.0, \"especie_atual\": \"Trigeminus\", \"genero_atual\": \"Oxyrhopus\", \"ordem\": \"Squamata\", \"familia\": \"Dipsadidae\", \"ano_coleta\": 2015.0, \"qualificador_atual\": null}, {\"altitude\": 1300.0, \"especie_atual\": \"Maculatus\", \"genero_atual\": \"Atractus\", \"ordem\": \"Squamata\", \"familia\": \"Dipsadidae\", \"ano_coleta\": null, \"qualificador_atual\": null}, {\"altitude\": 1300.0, \"especie_atual\": \"Jararaca\", \"genero_atual\": \"Bothrops\", \"ordem\": \"Squamata\", \"familia\": \"Viperidae\", \"ano_coleta\": null, \"qualificador_atual\": null}, {\"altitude\": 1300.0, \"especie_atual\": \"Jaegeri\", \"genero_atual\": \"Liophis\", \"ordem\": \"Squamata\", \"familia\": \"Dipsadidae\", \"ano_coleta\": 1993.0, \"qualificador_atual\": null}, {\"altitude\": 1301.0, \"especie_atual\": \"Microcephalum\", \"genero_atual\": \"Amphisbaena\", \"ordem\": \"Squamata\", \"familia\": \"Amphisbaenidae\", \"ano_coleta\": 2014.0, \"qualificador_atual\": null}, {\"altitude\": 1301.0, \"especie_atual\": \"Nan\", \"genero_atual\": \"Ophiodes\", \"ordem\": \"Squamata\", \"familia\": \"Anguidae\", \"ano_coleta\": 2004.0, \"qualificador_atual\": \"sp.\"}, {\"altitude\": 1302.0, \"especie_atual\": \"Striaticeps\", \"genero_atual\": \"Tropidodryas\", \"ordem\": \"Squamata\", \"familia\": \"Dipsadidae\", \"ano_coleta\": 2013.0, \"qualificador_atual\": null}, {\"altitude\": 1318.0, \"especie_atual\": \"Clathratus\", \"genero_atual\": \"Oxyrhopus\", \"ordem\": \"Squamata\", \"familia\": \"Dipsadidae\", \"ano_coleta\": 2014.0, \"qualificador_atual\": null}, {\"altitude\": 1328.0, \"especie_atual\": \"Neuwiedii\", \"genero_atual\": \"Xenodon\", \"ordem\": \"Squamata\", \"familia\": \"Dipsadidae\", \"ano_coleta\": 2013.0, \"qualificador_atual\": null}, {\"altitude\": 1344.0, \"especie_atual\": \"Corallinus\", \"genero_atual\": \"Micrurus\", \"ordem\": \"Squamata\", \"familia\": \"Elapidae\", \"ano_coleta\": 2013.0, \"qualificador_atual\": null}, {\"altitude\": 135.0, \"especie_atual\": \"Merianae\", \"genero_atual\": \"Salvator\", \"ordem\": \"Squamata\", \"familia\": \"Teiidae\", \"ano_coleta\": 2006.0, \"qualificador_atual\": null}, {\"altitude\": 1355.0, \"especie_atual\": \"Undulata\", \"genero_atual\": \"Echinanthera\", \"ordem\": \"Squamata\", \"familia\": \"Dipsadidae\", \"ano_coleta\": 2013.0, \"qualificador_atual\": null}, {\"altitude\": 1367.0, \"especie_atual\": \"Affinis\", \"genero_atual\": \"Taeniophallus\", \"ordem\": \"Squamata\", \"familia\": \"Dipsadidae\", \"ano_coleta\": 2015.0, \"qualificador_atual\": null}, {\"altitude\": 14.0, \"especie_atual\": \"Brongersmianus\", \"genero_atual\": \"Amerotyphlops\", \"ordem\": \"Squamata\", \"familia\": \"Typhlopidae\", \"ano_coleta\": 2014.0, \"qualificador_atual\": null}, {\"altitude\": 14.0, \"especie_atual\": \"Brongersmianus\", \"genero_atual\": \"Amerotyphlops\", \"ordem\": \"Squamata\", \"familia\": \"Typhlopidae\", \"ano_coleta\": 2014.0, \"qualificador_atual\": null}, {\"altitude\": 14.0, \"especie_atual\": \"Brongersmianus\", \"genero_atual\": \"Amerotyphlops\", \"ordem\": \"Squamata\", \"familia\": \"Typhlopidae\", \"ano_coleta\": 2015.0, \"qualificador_atual\": null}, {\"altitude\": 14.0, \"especie_atual\": \"Mabouia\", \"genero_atual\": \"Hemidactylus\", \"ordem\": \"Squamata\", \"familia\": \"Gekkonidae\", \"ano_coleta\": 2015.0, \"qualificador_atual\": null}, {\"altitude\": 14.0, \"especie_atual\": \"Mabouia\", \"genero_atual\": \"Hemidactylus\", \"ordem\": \"Squamata\", \"familia\": \"Gekkonidae\", \"ano_coleta\": 2015.0, \"qualificador_atual\": null}, {\"altitude\": 14.0, \"especie_atual\": \"Miliaris\", \"genero_atual\": \"Liophis\", \"ordem\": \"Squamata\", \"familia\": \"Dipsadidae\", \"ano_coleta\": 2014.0, \"qualificador_atual\": null}, {\"altitude\": 14.0, \"especie_atual\": \"Macrorhyncha\", \"genero_atual\": \"Psychosaura\", \"ordem\": \"Squamata\", \"familia\": \"Scincidae\", \"ano_coleta\": 2014.0, \"qualificador_atual\": null}, {\"altitude\": 1400.0, \"especie_atual\": \"Bilineata\", \"genero_atual\": \"Bothrops\", \"ordem\": \"Squamata\", \"familia\": \"Viperidae\", \"ano_coleta\": 1989.0, \"qualificador_atual\": null}, {\"altitude\": 1412.0, \"especie_atual\": \"Undulata\", \"genero_atual\": \"Echinanthera\", \"ordem\": \"Squamata\", \"familia\": \"Dipsadidae\", \"ano_coleta\": 2013.0, \"qualificador_atual\": null}, {\"altitude\": 142.0, \"especie_atual\": \"Nigra\", \"genero_atual\": \"Pseudoboa\", \"ordem\": \"Squamata\", \"familia\": \"Dipsadidae\", \"ano_coleta\": 2011.0, \"qualificador_atual\": null}, {\"altitude\": 1420.0, \"especie_atual\": \"Francoi\", \"genero_atual\": \"Atractus\", \"ordem\": \"Squamata\", \"familia\": \"Dipsadidae\", \"ano_coleta\": 2010.0, \"qualificador_atual\": null}, {\"altitude\": 1420.0, \"especie_atual\": \"Jararaca\", \"genero_atual\": \"Bothrops\", \"ordem\": \"Squamata\", \"familia\": \"Viperidae\", \"ano_coleta\": 2015.0, \"qualificador_atual\": null}, {\"altitude\": 1421.0, \"especie_atual\": \"Fonsecai\", \"genero_atual\": \"Bothrops\", \"ordem\": \"Squamata\", \"familia\": \"Viperidae\", \"ano_coleta\": 2014.0, \"qualificador_atual\": null}, {\"altitude\": 1430.0, \"especie_atual\": \"Spinalis\", \"genero_atual\": \"Atractus\", \"ordem\": \"Squamata\", \"familia\": \"Dipsadidae\", \"ano_coleta\": 2013.0, \"qualificador_atual\": null}, {\"altitude\": 144.0, \"especie_atual\": \"Durissus\", \"genero_atual\": \"Crotalus\", \"ordem\": \"Squamata\", \"familia\": \"Viperidae\", \"ano_coleta\": 2011.0, \"qualificador_atual\": null}, {\"altitude\": 1440.0, \"especie_atual\": \"Fonsecai\", \"genero_atual\": \"Bothrops\", \"ordem\": \"Squamata\", \"familia\": \"Viperidae\", \"ano_coleta\": 2014.0, \"qualificador_atual\": null}, {\"altitude\": 1469.0, \"especie_atual\": \"Affinis\", \"genero_atual\": \"Taeniophallus\", \"ordem\": \"Squamata\", \"familia\": \"Dipsadidae\", \"ano_coleta\": 2013.0, \"qualificador_atual\": null}, {\"altitude\": 1480.0, \"especie_atual\": \"Fonsecai\", \"genero_atual\": \"Bothrops\", \"ordem\": \"Squamata\", \"familia\": \"Viperidae\", \"ano_coleta\": 2014.0, \"qualificador_atual\": null}, {\"altitude\": 149.0, \"especie_atual\": \"Humeralis\", \"genero_atual\": \"Gonatodes\", \"ordem\": \"Squamata\", \"familia\": \"Sphaerodactylidae\", \"ano_coleta\": 2011.0, \"qualificador_atual\": null}, {\"altitude\": 149.0, \"especie_atual\": \"Lentiginosum\", \"genero_atual\": \"Rhinobothryum\", \"ordem\": \"Squamata\", \"familia\": \"Colubridae\", \"ano_coleta\": 2011.0, \"qualificador_atual\": null}, {\"altitude\": 1490.0, \"especie_atual\": \"Biseriatus\", \"genero_atual\": \"Atractus\", \"ordem\": \"Squamata\", \"familia\": \"Dipsadidae\", \"ano_coleta\": 2010.0, \"qualificador_atual\": null}, {\"altitude\": 1498.0, \"especie_atual\": \"Jararaca\", \"genero_atual\": \"Bothrops\", \"ordem\": \"Squamata\", \"familia\": \"Viperidae\", \"ano_coleta\": 2014.0, \"qualificador_atual\": null}, {\"altitude\": 1498.0, \"especie_atual\": \"Fragilis\", \"genero_atual\": \"Ophiodes\", \"ordem\": \"Squamata\", \"familia\": \"Anguidae\", \"ano_coleta\": 2014.0, \"qualificador_atual\": null}, {\"altitude\": 1498.0, \"especie_atual\": \"Merianae\", \"genero_atual\": \"Salvator\", \"ordem\": \"Squamata\", \"familia\": \"Teiidae\", \"ano_coleta\": 2014.0, \"qualificador_atual\": null}, {\"altitude\": 15.0, \"especie_atual\": \"Brongersmianus\", \"genero_atual\": \"Amerotyphlops\", \"ordem\": \"Squamata\", \"familia\": \"Typhlopidae\", \"ano_coleta\": 2014.0, \"qualificador_atual\": null}, {\"altitude\": 15.0, \"especie_atual\": \"Brongersmianus\", \"genero_atual\": \"Amerotyphlops\", \"ordem\": \"Squamata\", \"familia\": \"Typhlopidae\", \"ano_coleta\": 2014.0, \"qualificador_atual\": null}, {\"altitude\": 15.0, \"especie_atual\": \"Brongersmianus\", \"genero_atual\": \"Amerotyphlops\", \"ordem\": \"Squamata\", \"familia\": \"Typhlopidae\", \"ano_coleta\": 2015.0, \"qualificador_atual\": null}, {\"altitude\": 15.0, \"especie_atual\": \"Brongersmianus\", \"genero_atual\": \"Amerotyphlops\", \"ordem\": \"Squamata\", \"familia\": \"Typhlopidae\", \"ano_coleta\": 2015.0, \"qualificador_atual\": null}, {\"altitude\": 15.0, \"especie_atual\": \"Brongersmianus\", \"genero_atual\": \"Amerotyphlops\", \"ordem\": \"Squamata\", \"familia\": \"Typhlopidae\", \"ano_coleta\": 2015.0, \"qualificador_atual\": null}, {\"altitude\": 15.0, \"especie_atual\": \"Littoralis\", \"genero_atual\": \"Glaucomastix\", \"ordem\": \"Squamata\", \"familia\": \"Teiidae\", \"ano_coleta\": 2014.0, \"qualificador_atual\": null}, {\"altitude\": 15.0, \"especie_atual\": \"Littoralis\", \"genero_atual\": \"Glaucomastix\", \"ordem\": \"Squamata\", \"familia\": \"Teiidae\", \"ano_coleta\": 2014.0, \"qualificador_atual\": null}, {\"altitude\": 15.0, \"especie_atual\": \"Torquatus\", \"genero_atual\": \"Tropidurus\", \"ordem\": \"Squamata\", \"familia\": \"Tropiduridae\", \"ano_coleta\": 2014.0, \"qualificador_atual\": null}, {\"altitude\": 15.0, \"especie_atual\": \"Torquatus\", \"genero_atual\": \"Tropidurus\", \"ordem\": \"Squamata\", \"familia\": \"Tropiduridae\", \"ano_coleta\": 2014.0, \"qualificador_atual\": null}, {\"altitude\": 15.0, \"especie_atual\": \"Torquatus\", \"genero_atual\": \"Tropidurus\", \"ordem\": \"Squamata\", \"familia\": \"Tropiduridae\", \"ano_coleta\": 2014.0, \"qualificador_atual\": null}, {\"altitude\": 15.0, \"especie_atual\": \"Torquatus\", \"genero_atual\": \"Tropidurus\", \"ordem\": \"Squamata\", \"familia\": \"Tropiduridae\", \"ano_coleta\": 2014.0, \"qualificador_atual\": null}, {\"altitude\": 15.0, \"especie_atual\": \"Torquatus\", \"genero_atual\": \"Tropidurus\", \"ordem\": \"Squamata\", \"familia\": \"Tropiduridae\", \"ano_coleta\": 2014.0, \"qualificador_atual\": null}, {\"altitude\": 15.0, \"especie_atual\": \"Torquatus\", \"genero_atual\": \"Tropidurus\", \"ordem\": \"Squamata\", \"familia\": \"Tropiduridae\", \"ano_coleta\": 2015.0, \"qualificador_atual\": null}, {\"altitude\": 150.0, \"especie_atual\": \"Alba\", \"genero_atual\": \"Amphisbaena\", \"ordem\": \"Squamata\", \"familia\": \"Amphisbaenidae\", \"ano_coleta\": 1989.0, \"qualificador_atual\": null}, {\"altitude\": 150.0, \"especie_atual\": \"Jararacussu\", \"genero_atual\": \"Bothrops\", \"ordem\": \"Squamata\", \"familia\": \"Viperidae\", \"ano_coleta\": 2007.0, \"qualificador_atual\": null}, {\"altitude\": 150.0, \"especie_atual\": \"Geckoides\", \"genero_atual\": \"Gymnodactylus\", \"ordem\": \"Squamata\", \"familia\": \"Phyllodactylidae\", \"ano_coleta\": 2004.0, \"qualificador_atual\": null}, {\"altitude\": 1500.0, \"especie_atual\": \"Senthlageae\", \"genero_atual\": \"Atractus\", \"ordem\": \"Squamata\", \"familia\": \"Dipsadidae\", \"ano_coleta\": 1992.0, \"qualificador_atual\": \"aff.\"}, {\"altitude\": 1500.0, \"especie_atual\": \"Bicarinatus\", \"genero_atual\": \"Chironius\", \"ordem\": \"Squamata\", \"familia\": \"Colubridae\", \"ano_coleta\": 2014.0, \"qualificador_atual\": null}, {\"altitude\": 1500.0, \"especie_atual\": \"Dorsivittata\", \"genero_atual\": \"Mabuya\", \"ordem\": \"Squamata\", \"familia\": \"Scincidae\", \"ano_coleta\": 1998.0, \"qualificador_atual\": \"cf.\"}, {\"altitude\": 1511.0, \"especie_atual\": \"Clathratus\", \"genero_atual\": \"Oxyrhopus\", \"ordem\": \"Squamata\", \"familia\": \"Dipsadidae\", \"ano_coleta\": 2014.0, \"qualificador_atual\": null}, {\"altitude\": 1527.0, \"especie_atual\": \"Neuwiedii\", \"genero_atual\": \"Xenodon\", \"ordem\": \"Squamata\", \"familia\": \"Dipsadidae\", \"ano_coleta\": 2014.0, \"qualificador_atual\": null}, {\"altitude\": 159.0, \"especie_atual\": \"Mabouia\", \"genero_atual\": \"Hemidactylus\", \"ordem\": \"Squamata\", \"familia\": \"Gekkonidae\", \"ano_coleta\": 2007.0, \"qualificador_atual\": null}, {\"altitude\": 16.0, \"especie_atual\": \"Brongersmianus\", \"genero_atual\": \"Amerotyphlops\", \"ordem\": \"Squamata\", \"familia\": \"Typhlopidae\", \"ano_coleta\": 2015.0, \"qualificador_atual\": null}, {\"altitude\": 16.0, \"especie_atual\": \"Brongersmianus\", \"genero_atual\": \"Amerotyphlops\", \"ordem\": \"Squamata\", \"familia\": \"Typhlopidae\", \"ano_coleta\": 2015.0, \"qualificador_atual\": null}, {\"altitude\": 16.0, \"especie_atual\": \"Brongersmianus\", \"genero_atual\": \"Amerotyphlops\", \"ordem\": \"Squamata\", \"familia\": \"Typhlopidae\", \"ano_coleta\": 2016.0, \"qualificador_atual\": null}, {\"altitude\": 16.0, \"especie_atual\": \"Gaudichaudii\", \"genero_atual\": \"Ecpleopus\", \"ordem\": \"Squamata\", \"familia\": \"Gymnophthalmidae\", \"ano_coleta\": 2015.0, \"qualificador_atual\": null}, {\"altitude\": 16.0, \"especie_atual\": \"Littoralis\", \"genero_atual\": \"Glaucomastix\", \"ordem\": \"Squamata\", \"familia\": \"Teiidae\", \"ano_coleta\": 2014.0, \"qualificador_atual\": null}, {\"altitude\": 16.0, \"especie_atual\": \"Darwinii\", \"genero_atual\": \"Gymnodactylus\", \"ordem\": \"Squamata\", \"familia\": \"Phyllodactylidae\", \"ano_coleta\": 2014.0, \"qualificador_atual\": null}, {\"altitude\": 16.0, \"especie_atual\": \"Darwinii\", \"genero_atual\": \"Gymnodactylus\", \"ordem\": \"Squamata\", \"familia\": \"Phyllodactylidae\", \"ano_coleta\": 2014.0, \"qualificador_atual\": null}, {\"altitude\": 16.0, \"especie_atual\": \"Darwinii\", \"genero_atual\": \"Gymnodactylus\", \"ordem\": \"Squamata\", \"familia\": \"Phyllodactylidae\", \"ano_coleta\": 2014.0, \"qualificador_atual\": null}, {\"altitude\": 16.0, \"especie_atual\": \"Darwinii\", \"genero_atual\": \"Gymnodactylus\", \"ordem\": \"Squamata\", \"familia\": \"Phyllodactylidae\", \"ano_coleta\": 2014.0, \"qualificador_atual\": null}, {\"altitude\": 16.0, \"especie_atual\": \"Mabouia\", \"genero_atual\": \"Hemidactylus\", \"ordem\": \"Squamata\", \"familia\": \"Gekkonidae\", \"ano_coleta\": 2014.0, \"qualificador_atual\": null}, {\"altitude\": 16.0, \"especie_atual\": \"Mabouia\", \"genero_atual\": \"Hemidactylus\", \"ordem\": \"Squamata\", \"familia\": \"Gekkonidae\", \"ano_coleta\": 2015.0, \"qualificador_atual\": null}, {\"altitude\": 16.0, \"especie_atual\": \"Macrorhyncha\", \"genero_atual\": \"Psychosaura\", \"ordem\": \"Squamata\", \"familia\": \"Scincidae\", \"ano_coleta\": 2014.0, \"qualificador_atual\": null}, {\"altitude\": 16.0, \"especie_atual\": \"Torquatus\", \"genero_atual\": \"Tropidurus\", \"ordem\": \"Squamata\", \"familia\": \"Tropiduridae\", \"ano_coleta\": 2014.0, \"qualificador_atual\": null}, {\"altitude\": 16.0, \"especie_atual\": \"Torquatus\", \"genero_atual\": \"Tropidurus\", \"ordem\": \"Squamata\", \"familia\": \"Tropiduridae\", \"ano_coleta\": 2014.0, \"qualificador_atual\": null}, {\"altitude\": 16.0, \"especie_atual\": \"Torquatus\", \"genero_atual\": \"Tropidurus\", \"ordem\": \"Squamata\", \"familia\": \"Tropiduridae\", \"ano_coleta\": 2014.0, \"qualificador_atual\": null}, {\"altitude\": 16.0, \"especie_atual\": \"Torquatus\", \"genero_atual\": \"Tropidurus\", \"ordem\": \"Squamata\", \"familia\": \"Tropiduridae\", \"ano_coleta\": 2014.0, \"qualificador_atual\": null}, {\"altitude\": 169.0, \"especie_atual\": \"Constrictor\", \"genero_atual\": \"Boa\", \"ordem\": \"Squamata\", \"familia\": \"Boidae\", \"ano_coleta\": 1995.0, \"qualificador_atual\": null}, {\"altitude\": 169.0, \"especie_atual\": \"Hortulanus\", \"genero_atual\": \"Corallus\", \"ordem\": \"Squamata\", \"familia\": \"Boidae\", \"ano_coleta\": 1952.0, \"qualificador_atual\": null}, {\"altitude\": 17.0, \"especie_atual\": \"Jararaca\", \"genero_atual\": \"Bothrops\", \"ordem\": \"Squamata\", \"familia\": \"Viperidae\", \"ano_coleta\": 2014.0, \"qualificador_atual\": null}, {\"altitude\": 17.0, \"especie_atual\": \"Striatus\", \"genero_atual\": \"Ophiodes\", \"ordem\": \"Squamata\", \"familia\": \"Anguidae\", \"ano_coleta\": 2013.0, \"qualificador_atual\": null}, {\"altitude\": 170.0, \"especie_atual\": \"Tartarus\", \"genero_atual\": \"Atractus\", \"ordem\": \"Squamata\", \"familia\": \"Dipsadidae\", \"ano_coleta\": 2008.0, \"qualificador_atual\": null}, {\"altitude\": 1700.0, \"especie_atual\": \"Vautieri\", \"genero_atual\": \"Urostrophus\", \"ordem\": \"Squamata\", \"familia\": \"Leiosauridae\", \"ano_coleta\": 1948.0, \"qualificador_atual\": null}, {\"altitude\": 1740.0, \"especie_atual\": \"Grilli\", \"genero_atual\": \"Anisolepis\", \"ordem\": \"Squamata\", \"familia\": \"Leiosauridae\", \"ano_coleta\": 2004.0, \"qualificador_atual\": null}, {\"altitude\": 175.0, \"especie_atual\": \"Typhlus\", \"genero_atual\": \"Liophis\", \"ordem\": \"Squamata\", \"familia\": \"Dipsadidae\", \"ano_coleta\": 2011.0, \"qualificador_atual\": null}, {\"altitude\": 175.0, \"especie_atual\": \"Poecilogyrus\", \"genero_atual\": \"Liophis\", \"ordem\": \"Squamata\", \"familia\": \"Dipsadidae\", \"ano_coleta\": 2011.0, \"qualificador_atual\": null}, {\"altitude\": 175.0, \"especie_atual\": \"Frenata\", \"genero_atual\": \"Mabuya\", \"ordem\": \"Squamata\", \"familia\": \"Scincidae\", \"ano_coleta\": 2011.0, \"qualificador_atual\": null}, {\"altitude\": 175.0, \"especie_atual\": \"Olfersii\", \"genero_atual\": \"Philodryas\", \"ordem\": \"Squamata\", \"familia\": \"Dipsadidae\", \"ano_coleta\": 2011.0, \"qualificador_atual\": null}, {\"altitude\": 175.0, \"especie_atual\": \"Pollicaris\", \"genero_atual\": \"Phyllopezus\", \"ordem\": \"Squamata\", \"familia\": \"Phyllodactylidae\", \"ano_coleta\": 2011.0, \"qualificador_atual\": null}, {\"altitude\": 175.0, \"especie_atual\": \"Pollicaris\", \"genero_atual\": \"Phyllopezus\", \"ordem\": \"Squamata\", \"familia\": \"Phyllodactylidae\", \"ano_coleta\": 2011.0, \"qualificador_atual\": null}, {\"altitude\": 175.0, \"especie_atual\": \"Pollicaris\", \"genero_atual\": \"Phyllopezus\", \"ordem\": \"Squamata\", \"familia\": \"Phyllodactylidae\", \"ano_coleta\": 2011.0, \"qualificador_atual\": null}, {\"altitude\": 175.0, \"especie_atual\": \"Occipitalis\", \"genero_atual\": \"Taeniophallus\", \"ordem\": \"Squamata\", \"familia\": \"Dipsadidae\", \"ano_coleta\": 2011.0, \"qualificador_atual\": null}, {\"altitude\": 175.0, \"especie_atual\": \"Spinulosus\", \"genero_atual\": \"Tropidurus\", \"ordem\": \"Squamata\", \"familia\": \"Tropiduridae\", \"ano_coleta\": 2011.0, \"qualificador_atual\": null}, {\"altitude\": 178.0, \"especie_atual\": \"Mabouia\", \"genero_atual\": \"Hemidactylus\", \"ordem\": \"Squamata\", \"familia\": \"Gekkonidae\", \"ano_coleta\": 2008.0, \"qualificador_atual\": null}, {\"altitude\": 178.0, \"especie_atual\": \"Mabouia\", \"genero_atual\": \"Hemidactylus\", \"ordem\": \"Squamata\", \"familia\": \"Gekkonidae\", \"ano_coleta\": 2008.0, \"qualificador_atual\": null}, {\"altitude\": 178.0, \"especie_atual\": \"Mabouia\", \"genero_atual\": \"Hemidactylus\", \"ordem\": \"Squamata\", \"familia\": \"Gekkonidae\", \"ano_coleta\": 2008.0, \"qualificador_atual\": null}, {\"altitude\": 178.0, \"especie_atual\": \"Torquatus\", \"genero_atual\": \"Tropidurus\", \"ordem\": \"Squamata\", \"familia\": \"Tropiduridae\", \"ano_coleta\": 2008.0, \"qualificador_atual\": null}, {\"altitude\": 18.0, \"especie_atual\": \"Gaudichaudii\", \"genero_atual\": \"Ecpleopus\", \"ordem\": \"Squamata\", \"familia\": \"Gymnophthalmidae\", \"ano_coleta\": 2010.0, \"qualificador_atual\": null}, {\"altitude\": 18.0, \"especie_atual\": \"Gaudichaudii\", \"genero_atual\": \"Ecpleopus\", \"ordem\": \"Squamata\", \"familia\": \"Gymnophthalmidae\", \"ano_coleta\": 2010.0, \"qualificador_atual\": null}, {\"altitude\": 18.0, \"especie_atual\": \"Gaudichaudii\", \"genero_atual\": \"Ecpleopus\", \"ordem\": \"Squamata\", \"familia\": \"Gymnophthalmidae\", \"ano_coleta\": 2010.0, \"qualificador_atual\": null}, {\"altitude\": 18.0, \"especie_atual\": \"Gaudichaudii\", \"genero_atual\": \"Ecpleopus\", \"ordem\": \"Squamata\", \"familia\": \"Gymnophthalmidae\", \"ano_coleta\": 2010.0, \"qualificador_atual\": null}, {\"altitude\": 18.0, \"especie_atual\": \"Gaudichaudii\", \"genero_atual\": \"Ecpleopus\", \"ordem\": \"Squamata\", \"familia\": \"Gymnophthalmidae\", \"ano_coleta\": 2010.0, \"qualificador_atual\": null}, {\"altitude\": 18.0, \"especie_atual\": \"Gaudichaudii\", \"genero_atual\": \"Ecpleopus\", \"ordem\": \"Squamata\", \"familia\": \"Gymnophthalmidae\", \"ano_coleta\": 2010.0, \"qualificador_atual\": null}, {\"altitude\": 18.0, \"especie_atual\": \"Darwinii\", \"genero_atual\": \"Gymnodactylus\", \"ordem\": \"Squamata\", \"familia\": \"Phyllodactylidae\", \"ano_coleta\": 2010.0, \"qualificador_atual\": null}, {\"altitude\": 18.0, \"especie_atual\": \"Darwinii\", \"genero_atual\": \"Gymnodactylus\", \"ordem\": \"Squamata\", \"familia\": \"Phyllodactylidae\", \"ano_coleta\": 2010.0, \"qualificador_atual\": null}, {\"altitude\": 18.0, \"especie_atual\": \"Darwinii\", \"genero_atual\": \"Gymnodactylus\", \"ordem\": \"Squamata\", \"familia\": \"Phyllodactylidae\", \"ano_coleta\": 2010.0, \"qualificador_atual\": null}, {\"altitude\": 18.0, \"especie_atual\": \"Ahaetulla\", \"genero_atual\": \"Leptophis\", \"ordem\": \"Squamata\", \"familia\": \"Colubridae\", \"ano_coleta\": 2010.0, \"qualificador_atual\": null}, {\"altitude\": 18.0, \"especie_atual\": \"Miliaris\", \"genero_atual\": \"Liophis\", \"ordem\": \"Squamata\", \"familia\": \"Dipsadidae\", \"ano_coleta\": 2003.0, \"qualificador_atual\": null}, {\"altitude\": 18.0, \"especie_atual\": \"Trigeminus\", \"genero_atual\": \"Oxyrhopus\", \"ordem\": \"Squamata\", \"familia\": \"Dipsadidae\", \"ano_coleta\": 2010.0, \"qualificador_atual\": null}, {\"altitude\": 18.0, \"especie_atual\": \"Trigeminus\", \"genero_atual\": \"Oxyrhopus\", \"ordem\": \"Squamata\", \"familia\": \"Dipsadidae\", \"ano_coleta\": 2010.0, \"qualificador_atual\": null}, {\"altitude\": 18.0, \"especie_atual\": \"Trigeminus\", \"genero_atual\": \"Oxyrhopus\", \"ordem\": \"Squamata\", \"familia\": \"Dipsadidae\", \"ano_coleta\": 2010.0, \"qualificador_atual\": null}, {\"altitude\": 180.0, \"especie_atual\": \"Mabouia\", \"genero_atual\": \"Hemidactylus\", \"ordem\": \"Squamata\", \"familia\": \"Gekkonidae\", \"ano_coleta\": 2003.0, \"qualificador_atual\": null}, {\"altitude\": 180.0, \"especie_atual\": \"Microcephalum\", \"genero_atual\": \"Leposternon\", \"ordem\": \"Squamata\", \"familia\": \"Amphisbaenidae\", \"ano_coleta\": 2003.0, \"qualificador_atual\": null}, {\"altitude\": 180.0, \"especie_atual\": \"Clathratus\", \"genero_atual\": \"Oxyrhopus\", \"ordem\": \"Squamata\", \"familia\": \"Dipsadidae\", \"ano_coleta\": 2008.0, \"qualificador_atual\": null}, {\"altitude\": 180.0, \"especie_atual\": \"Nigra\", \"genero_atual\": \"Pseudoboa\", \"ordem\": \"Squamata\", \"familia\": \"Dipsadidae\", \"ano_coleta\": 2008.0, \"qualificador_atual\": null}, {\"altitude\": 1802.0, \"especie_atual\": \"Nigricaudus\", \"genero_atual\": \"Atractus\", \"ordem\": \"Squamata\", \"familia\": \"Dipsadidae\", \"ano_coleta\": 2007.0, \"qualificador_atual\": null}, {\"altitude\": 1850.0, \"especie_atual\": \"Dorsivittata\", \"genero_atual\": \"Mabuya\", \"ordem\": \"Squamata\", \"familia\": \"Scincidae\", \"ano_coleta\": 2009.0, \"qualificador_atual\": null}, {\"altitude\": 19.0, \"especie_atual\": \"Brongersmianus\", \"genero_atual\": \"Amerotyphlops\", \"ordem\": \"Squamata\", \"familia\": \"Typhlopidae\", \"ano_coleta\": 2014.0, \"qualificador_atual\": null}, {\"altitude\": 19.0, \"especie_atual\": \"Brongersmianus\", \"genero_atual\": \"Amerotyphlops\", \"ordem\": \"Squamata\", \"familia\": \"Typhlopidae\", \"ano_coleta\": 2014.0, \"qualificador_atual\": null}, {\"altitude\": 19.0, \"especie_atual\": \"Brongersmianus\", \"genero_atual\": \"Amerotyphlops\", \"ordem\": \"Squamata\", \"familia\": \"Typhlopidae\", \"ano_coleta\": 2015.0, \"qualificador_atual\": null}, {\"altitude\": 19.0, \"especie_atual\": \"Brongersmianus\", \"genero_atual\": \"Amerotyphlops\", \"ordem\": \"Squamata\", \"familia\": \"Typhlopidae\", \"ano_coleta\": 2015.0, \"qualificador_atual\": null}, {\"altitude\": 19.0, \"especie_atual\": \"Brongersmianus\", \"genero_atual\": \"Amerotyphlops\", \"ordem\": \"Squamata\", \"familia\": \"Typhlopidae\", \"ano_coleta\": 2015.0, \"qualificador_atual\": null}, {\"altitude\": 19.0, \"especie_atual\": \"Nan\", \"genero_atual\": \"Amphisbaena\", \"ordem\": \"Squamata\", \"familia\": \"Amphisbaenidae\", \"ano_coleta\": 2015.0, \"qualificador_atual\": \"sp.\"}, {\"altitude\": 19.0, \"especie_atual\": \"Jararaca\", \"genero_atual\": \"Bothrops\", \"ordem\": \"Squamata\", \"familia\": \"Viperidae\", \"ano_coleta\": 2016.0, \"qualificador_atual\": null}, {\"altitude\": 19.0, \"especie_atual\": \"Agilis\", \"genero_atual\": \"Brasiliscincus\", \"ordem\": \"Squamata\", \"familia\": \"Scincidae\", \"ano_coleta\": 2014.0, \"qualificador_atual\": null}, {\"altitude\": 19.0, \"especie_atual\": \"Agilis\", \"genero_atual\": \"Brasiliscincus\", \"ordem\": \"Squamata\", \"familia\": \"Scincidae\", \"ano_coleta\": 2014.0, \"qualificador_atual\": null}, {\"altitude\": 19.0, \"especie_atual\": \"Agilis\", \"genero_atual\": \"Brasiliscincus\", \"ordem\": \"Squamata\", \"familia\": \"Scincidae\", \"ano_coleta\": 2014.0, \"qualificador_atual\": null}, {\"altitude\": 19.0, \"especie_atual\": \"Littoralis\", \"genero_atual\": \"Glaucomastix\", \"ordem\": \"Squamata\", \"familia\": \"Teiidae\", \"ano_coleta\": 2014.0, \"qualificador_atual\": null}, {\"altitude\": 19.0, \"especie_atual\": \"Littoralis\", \"genero_atual\": \"Glaucomastix\", \"ordem\": \"Squamata\", \"familia\": \"Teiidae\", \"ano_coleta\": 2014.0, \"qualificador_atual\": null}, {\"altitude\": 19.0, \"especie_atual\": \"Darwinii\", \"genero_atual\": \"Gymnodactylus\", \"ordem\": \"Squamata\", \"familia\": \"Phyllodactylidae\", \"ano_coleta\": 2014.0, \"qualificador_atual\": null}, {\"altitude\": 19.0, \"especie_atual\": \"Darwinii\", \"genero_atual\": \"Gymnodactylus\", \"ordem\": \"Squamata\", \"familia\": \"Phyllodactylidae\", \"ano_coleta\": 2014.0, \"qualificador_atual\": null}, {\"altitude\": 19.0, \"especie_atual\": \"Darwinii\", \"genero_atual\": \"Gymnodactylus\", \"ordem\": \"Squamata\", \"familia\": \"Phyllodactylidae\", \"ano_coleta\": 2015.0, \"qualificador_atual\": null}, {\"altitude\": 19.0, \"especie_atual\": \"Darwinii\", \"genero_atual\": \"Gymnodactylus\", \"ordem\": \"Squamata\", \"familia\": \"Phyllodactylidae\", \"ano_coleta\": 2015.0, \"qualificador_atual\": null}, {\"altitude\": 19.0, \"especie_atual\": \"Macrorhyncha\", \"genero_atual\": \"Psychosaura\", \"ordem\": \"Squamata\", \"familia\": \"Scincidae\", \"ano_coleta\": 2014.0, \"qualificador_atual\": null}, {\"altitude\": 19.0, \"especie_atual\": \"Macrorhyncha\", \"genero_atual\": \"Psychosaura\", \"ordem\": \"Squamata\", \"familia\": \"Scincidae\", \"ano_coleta\": 2014.0, \"qualificador_atual\": null}, {\"altitude\": 19.0, \"especie_atual\": \"Macrorhyncha\", \"genero_atual\": \"Psychosaura\", \"ordem\": \"Squamata\", \"familia\": \"Scincidae\", \"ano_coleta\": 2014.0, \"qualificador_atual\": null}, {\"altitude\": 19.0, \"especie_atual\": \"Macrorhyncha\", \"genero_atual\": \"Psychosaura\", \"ordem\": \"Squamata\", \"familia\": \"Scincidae\", \"ano_coleta\": 2014.0, \"qualificador_atual\": null}, {\"altitude\": 19.0, \"especie_atual\": \"Macrorhyncha\", \"genero_atual\": \"Psychosaura\", \"ordem\": \"Squamata\", \"familia\": \"Scincidae\", \"ano_coleta\": 2014.0, \"qualificador_atual\": null}, {\"altitude\": 19.0, \"especie_atual\": \"Macrorhyncha\", \"genero_atual\": \"Psychosaura\", \"ordem\": \"Squamata\", \"familia\": \"Scincidae\", \"ano_coleta\": 2014.0, \"qualificador_atual\": null}, {\"altitude\": 19.0, \"especie_atual\": \"Merianae\", \"genero_atual\": \"Salvator\", \"ordem\": \"Squamata\", \"familia\": \"Teiidae\", \"ano_coleta\": 2014.0, \"qualificador_atual\": null}, {\"altitude\": 195.0, \"especie_atual\": \"Rhombifer\", \"genero_atual\": \"Oxyrhopus\", \"ordem\": \"Squamata\", \"familia\": \"Dipsadidae\", \"ano_coleta\": 2011.0, \"qualificador_atual\": null}, {\"altitude\": 195.0, \"especie_atual\": \"Nigra\", \"genero_atual\": \"Pseudoboa\", \"ordem\": \"Squamata\", \"familia\": \"Dipsadidae\", \"ano_coleta\": 2011.0, \"qualificador_atual\": null}, {\"altitude\": 20.0, \"especie_atual\": \"Carinicaudus\", \"genero_atual\": \"Helicops\", \"ordem\": \"Squamata\", \"familia\": \"Dipsadidae\", \"ano_coleta\": 2003.0, \"qualificador_atual\": null}, {\"altitude\": 200.0, \"especie_atual\": \"Tartarus\", \"genero_atual\": \"Atractus\", \"ordem\": \"Squamata\", \"familia\": \"Dipsadidae\", \"ano_coleta\": 2008.0, \"qualificador_atual\": null}, {\"altitude\": 200.0, \"especie_atual\": \"Foveatus\", \"genero_atual\": \"Chironius\", \"ordem\": \"Squamata\", \"familia\": \"Colubridae\", \"ano_coleta\": 2009.0, \"qualificador_atual\": null}, {\"altitude\": 200.0, \"especie_atual\": \"Corais\", \"genero_atual\": \"Drymarchon\", \"ordem\": \"Squamata\", \"familia\": \"Colubridae\", \"ano_coleta\": 2011.0, \"qualificador_atual\": null}, {\"altitude\": 200.0, \"especie_atual\": \"Darwinii\", \"genero_atual\": \"Gymnodactylus\", \"ordem\": \"Squamata\", \"familia\": \"Phyllodactylidae\", \"ano_coleta\": 1997.0, \"qualificador_atual\": null}, {\"altitude\": 200.0, \"especie_atual\": \"Reginae\", \"genero_atual\": \"Liophis\", \"ordem\": \"Squamata\", \"familia\": \"Dipsadidae\", \"ano_coleta\": 2009.0, \"qualificador_atual\": null}, {\"altitude\": 2070.0, \"especie_atual\": \"Carrioni\", \"genero_atual\": \"Atractus\", \"ordem\": \"Squamata\", \"familia\": \"Dipsadidae\", \"ano_coleta\": 1989.0, \"qualificador_atual\": null}, {\"altitude\": 2100.0, \"especie_atual\": \"Gigas\", \"genero_atual\": \"Atractus\", \"ordem\": \"Squamata\", \"familia\": \"Dipsadidae\", \"ano_coleta\": 1996.0, \"qualificador_atual\": null}, {\"altitude\": 2100.0, \"especie_atual\": \"Croizati\", \"genero_atual\": \"Panopa\", \"ordem\": \"Squamata\", \"familia\": \"Scincidae\", \"ano_coleta\": 1999.0, \"qualificador_atual\": null}, {\"altitude\": 2100.0, \"especie_atual\": \"Nebulatus\", \"genero_atual\": \"Sibon\", \"ordem\": \"Squamata\", \"familia\": \"Dipsadidae\", \"ano_coleta\": null, \"qualificador_atual\": null}, {\"altitude\": 2100.0, \"especie_atual\": \"Ramonriveroi\", \"genero_atual\": \"Thamnodynastes\", \"ordem\": \"Squamata\", \"familia\": \"Dipsadidae\", \"ano_coleta\": 1999.0, \"qualificador_atual\": \"sp.\"}, {\"altitude\": 2130.0, \"especie_atual\": \"Matthewi\", \"genero_atual\": \"Atractus\", \"ordem\": \"Squamata\", \"familia\": \"Dipsadidae\", \"ano_coleta\": 1999.0, \"qualificador_atual\": null}, {\"altitude\": 2134.0, \"especie_atual\": \"Titanicus\", \"genero_atual\": \"Atractus\", \"ordem\": \"Squamata\", \"familia\": \"Dipsadidae\", \"ano_coleta\": 2011.0, \"qualificador_atual\": null}, {\"altitude\": 218.0, \"especie_atual\": \"Munoai\", \"genero_atual\": \"Epictia\", \"ordem\": \"Squamata\", \"familia\": \"Leptotyphlopidae\", \"ano_coleta\": 2011.0, \"qualificador_atual\": null}, {\"altitude\": 219.0, \"especie_atual\": \"Quinquelineatus\", \"genero_atual\": \"Elapomorphus\", \"ordem\": \"Squamata\", \"familia\": \"Dipsadidae\", \"ano_coleta\": 2008.0, \"qualificador_atual\": null}, {\"altitude\": 22.0, \"especie_atual\": \"Carinicaudus\", \"genero_atual\": \"Helicops\", \"ordem\": \"Squamata\", \"familia\": \"Dipsadidae\", \"ano_coleta\": 2009.0, \"qualificador_atual\": null}, {\"altitude\": 22.0, \"especie_atual\": \"Carinicaudus\", \"genero_atual\": \"Helicops\", \"ordem\": \"Squamata\", \"familia\": \"Dipsadidae\", \"ano_coleta\": 2013.0, \"qualificador_atual\": null}, {\"altitude\": 22.0, \"especie_atual\": \"Mabouia\", \"genero_atual\": \"Hemidactylus\", \"ordem\": \"Squamata\", \"familia\": \"Gekkonidae\", \"ano_coleta\": 2013.0, \"qualificador_atual\": null}, {\"altitude\": 22.0, \"especie_atual\": \"Macrorhyncha\", \"genero_atual\": \"Mabuya\", \"ordem\": \"Squamata\", \"familia\": \"Scincidae\", \"ano_coleta\": 2013.0, \"qualificador_atual\": null}, {\"altitude\": 22.0, \"especie_atual\": \"Neuwiedi\", \"genero_atual\": \"Sibynomorphus\", \"ordem\": \"Squamata\", \"familia\": \"Dipsadidae\", \"ano_coleta\": 2013.0, \"qualificador_atual\": null}, {\"altitude\": 22.0, \"especie_atual\": \"Torquatus\", \"genero_atual\": \"Tropidurus\", \"ordem\": \"Squamata\", \"familia\": \"Tropiduridae\", \"ano_coleta\": 2013.0, \"qualificador_atual\": null}, {\"altitude\": 2200.0, \"especie_atual\": \"Duboisi\", \"genero_atual\": \"Atractus\", \"ordem\": \"Squamata\", \"familia\": \"Dipsadidae\", \"ano_coleta\": 1996.0, \"qualificador_atual\": null}, {\"altitude\": 222.0, \"especie_atual\": \"Acutirostris\", \"genero_atual\": \"Polychrus\", \"ordem\": \"Squamata\", \"familia\": \"Polychrotidae\", \"ano_coleta\": 2011.0, \"qualificador_atual\": null}, {\"altitude\": 2237.0, \"especie_atual\": \"Vitti\", \"genero_atual\": \"Liophis\", \"ordem\": \"Squamata\", \"familia\": \"Dipsadidae\", \"ano_coleta\": 2009.0, \"qualificador_atual\": null}, {\"altitude\": 227.0, \"especie_atual\": \"Torquatus\", \"genero_atual\": \"Tropidurus\", \"ordem\": \"Squamata\", \"familia\": \"Tropiduridae\", \"ano_coleta\": 2008.0, \"qualificador_atual\": null}, {\"altitude\": 227.0, \"especie_atual\": \"Torquatus\", \"genero_atual\": \"Tropidurus\", \"ordem\": \"Squamata\", \"familia\": \"Tropiduridae\", \"ano_coleta\": 2008.0, \"qualificador_atual\": null}, {\"altitude\": 227.0, \"especie_atual\": \"Torquatus\", \"genero_atual\": \"Tropidurus\", \"ordem\": \"Squamata\", \"familia\": \"Tropiduridae\", \"ano_coleta\": 2008.0, \"qualificador_atual\": null}, {\"altitude\": 227.0, \"especie_atual\": \"Torquatus\", \"genero_atual\": \"Tropidurus\", \"ordem\": \"Squamata\", \"familia\": \"Tropiduridae\", \"ano_coleta\": 2008.0, \"qualificador_atual\": null}, {\"altitude\": 230.0, \"especie_atual\": \"Cephalostriata\", \"genero_atual\": \"Echinanthera\", \"ordem\": \"Squamata\", \"familia\": \"Dipsadidae\", \"ano_coleta\": 2006.0, \"qualificador_atual\": null}, {\"altitude\": 235.0, \"especie_atual\": \"Hortulanus\", \"genero_atual\": \"Corallus\", \"ordem\": \"Squamata\", \"familia\": \"Boidae\", \"ano_coleta\": 2008.0, \"qualificador_atual\": null}, {\"altitude\": 2387.0, \"especie_atual\": \"Lundii\", \"genero_atual\": \"Heterodactylus\", \"ordem\": \"Squamata\", \"familia\": \"Gymnophthalmidae\", \"ano_coleta\": 2006.0, \"qualificador_atual\": null}, {\"altitude\": 2396.0, \"especie_atual\": \"Lundii\", \"genero_atual\": \"Heterodactylus\", \"ordem\": \"Squamata\", \"familia\": \"Gymnophthalmidae\", \"ano_coleta\": 2006.0, \"qualificador_atual\": null}, {\"altitude\": 24.0, \"especie_atual\": \"Brongersmianus\", \"genero_atual\": \"Amerotyphlops\", \"ordem\": \"Squamata\", \"familia\": \"Typhlopidae\", \"ano_coleta\": 2015.0, \"qualificador_atual\": null}, {\"altitude\": 24.0, \"especie_atual\": \"Jararaca\", \"genero_atual\": \"Bothrops\", \"ordem\": \"Squamata\", \"familia\": \"Viperidae\", \"ano_coleta\": 2015.0, \"qualificador_atual\": null}, {\"altitude\": 24.0, \"especie_atual\": \"Littoralis\", \"genero_atual\": \"Glaucomastix\", \"ordem\": \"Squamata\", \"familia\": \"Teiidae\", \"ano_coleta\": 2014.0, \"qualificador_atual\": null}, {\"altitude\": 24.0, \"especie_atual\": \"Littoralis\", \"genero_atual\": \"Glaucomastix\", \"ordem\": \"Squamata\", \"familia\": \"Teiidae\", \"ano_coleta\": 2014.0, \"qualificador_atual\": null}, {\"altitude\": 24.0, \"especie_atual\": \"Littoralis\", \"genero_atual\": \"Glaucomastix\", \"ordem\": \"Squamata\", \"familia\": \"Teiidae\", \"ano_coleta\": 2014.0, \"qualificador_atual\": null}, {\"altitude\": 24.0, \"especie_atual\": \"Littoralis\", \"genero_atual\": \"Glaucomastix\", \"ordem\": \"Squamata\", \"familia\": \"Teiidae\", \"ano_coleta\": 2014.0, \"qualificador_atual\": null}, {\"altitude\": 24.0, \"especie_atual\": \"Darwinii\", \"genero_atual\": \"Gymnodactylus\", \"ordem\": \"Squamata\", \"familia\": \"Phyllodactylidae\", \"ano_coleta\": 2014.0, \"qualificador_atual\": null}, {\"altitude\": 24.0, \"especie_atual\": \"Darwinii\", \"genero_atual\": \"Gymnodactylus\", \"ordem\": \"Squamata\", \"familia\": \"Phyllodactylidae\", \"ano_coleta\": 2014.0, \"qualificador_atual\": null}, {\"altitude\": 24.0, \"especie_atual\": \"Darwinii\", \"genero_atual\": \"Gymnodactylus\", \"ordem\": \"Squamata\", \"familia\": \"Phyllodactylidae\", \"ano_coleta\": 2014.0, \"qualificador_atual\": null}, {\"altitude\": 24.0, \"especie_atual\": \"Darwinii\", \"genero_atual\": \"Gymnodactylus\", \"ordem\": \"Squamata\", \"familia\": \"Phyllodactylidae\", \"ano_coleta\": 2015.0, \"qualificador_atual\": null}, {\"altitude\": 24.0, \"especie_atual\": \"Mabouia\", \"genero_atual\": \"Hemidactylus\", \"ordem\": \"Squamata\", \"familia\": \"Gekkonidae\", \"ano_coleta\": 2015.0, \"qualificador_atual\": null}, {\"altitude\": 24.0, \"especie_atual\": \"Miliaris\", \"genero_atual\": \"Liophis\", \"ordem\": \"Squamata\", \"familia\": \"Dipsadidae\", \"ano_coleta\": 2016.0, \"qualificador_atual\": null}, {\"altitude\": 24.0, \"especie_atual\": \"Trigeminus\", \"genero_atual\": \"Oxyrhopus\", \"ordem\": \"Squamata\", \"familia\": \"Dipsadidae\", \"ano_coleta\": 2015.0, \"qualificador_atual\": null}, {\"altitude\": 24.0, \"especie_atual\": \"Torquatus\", \"genero_atual\": \"Tropidurus\", \"ordem\": \"Squamata\", \"familia\": \"Tropiduridae\", \"ano_coleta\": 2014.0, \"qualificador_atual\": null}, {\"altitude\": 2400.0, \"especie_atual\": \"Dalcyanus\", \"genero_atual\": \"Colobodactylus\", \"ordem\": \"Squamata\", \"familia\": \"Gymnophthalmidae\", \"ano_coleta\": 2008.0, \"qualificador_atual\": null}, {\"altitude\": 2400.0, \"especie_atual\": \"Dalcyanus\", \"genero_atual\": \"Colobodactylus\", \"ordem\": \"Squamata\", \"familia\": \"Gymnophthalmidae\", \"ano_coleta\": 2008.0, \"qualificador_atual\": null}, {\"altitude\": 2400.0, \"especie_atual\": \"Dalcyanus\", \"genero_atual\": \"Colobodactylus\", \"ordem\": \"Squamata\", \"familia\": \"Gymnophthalmidae\", \"ano_coleta\": 2008.0, \"qualificador_atual\": null}, {\"altitude\": 2400.0, \"especie_atual\": \"Dalcyanus\", \"genero_atual\": \"Colobodactylus\", \"ordem\": \"Squamata\", \"familia\": \"Gymnophthalmidae\", \"ano_coleta\": 2008.0, \"qualificador_atual\": null}, {\"altitude\": 2400.0, \"especie_atual\": \"Dalcyanus\", \"genero_atual\": \"Colobodactylus\", \"ordem\": \"Squamata\", \"familia\": \"Gymnophthalmidae\", \"ano_coleta\": 2008.0, \"qualificador_atual\": null}, {\"altitude\": 2400.0, \"especie_atual\": \"Dalcyanus\", \"genero_atual\": \"Colobodactylus\", \"ordem\": \"Squamata\", \"familia\": \"Gymnophthalmidae\", \"ano_coleta\": 2008.0, \"qualificador_atual\": null}, {\"altitude\": 2400.0, \"especie_atual\": \"Dalcyanus\", \"genero_atual\": \"Colobodactylus\", \"ordem\": \"Squamata\", \"familia\": \"Gymnophthalmidae\", \"ano_coleta\": 2008.0, \"qualificador_atual\": null}, {\"altitude\": 2400.0, \"especie_atual\": \"Lundii\", \"genero_atual\": \"Heterodactylus\", \"ordem\": \"Squamata\", \"familia\": \"Gymnophthalmidae\", \"ano_coleta\": 2005.0, \"qualificador_atual\": null}, {\"altitude\": 2400.0, \"especie_atual\": \"Dorsivittata\", \"genero_atual\": \"Mabuya\", \"ordem\": \"Squamata\", \"familia\": \"Scincidae\", \"ano_coleta\": 2008.0, \"qualificador_atual\": null}, {\"altitude\": 2400.0, \"especie_atual\": \"Strigatus\", \"genero_atual\": \"Thamnodynastes\", \"ordem\": \"Squamata\", \"familia\": \"Dipsadidae\", \"ano_coleta\": 2006.0, \"qualificador_atual\": null}, {\"altitude\": 242.0, \"especie_atual\": \"Patagoniensis\", \"genero_atual\": \"Philodryas\", \"ordem\": \"Squamata\", \"familia\": \"Dipsadidae\", \"ano_coleta\": 2008.0, \"qualificador_atual\": null}, {\"altitude\": 242.0, \"especie_atual\": \"Torquatus\", \"genero_atual\": \"Tropidurus\", \"ordem\": \"Squamata\", \"familia\": \"Tropiduridae\", \"ano_coleta\": 2008.0, \"qualificador_atual\": null}, {\"altitude\": 245.0, \"especie_atual\": \"Alba\", \"genero_atual\": \"Amphisbaena\", \"ordem\": \"Squamata\", \"familia\": \"Amphisbaenidae\", \"ano_coleta\": 2011.0, \"qualificador_atual\": null}, {\"altitude\": 245.0, \"especie_atual\": \"Humeralis\", \"genero_atual\": \"Gonatodes\", \"ordem\": \"Squamata\", \"familia\": \"Sphaerodactylidae\", \"ano_coleta\": 2011.0, \"qualificador_atual\": null}, {\"altitude\": 245.0, \"especie_atual\": \"Frenata\", \"genero_atual\": \"Mabuya\", \"ordem\": \"Squamata\", \"familia\": \"Scincidae\", \"ano_coleta\": 2011.0, \"qualificador_atual\": null}, {\"altitude\": 245.0, \"especie_atual\": \"Caducus\", \"genero_atual\": \"Stenocercus\", \"ordem\": \"Squamata\", \"familia\": \"Tropiduridae\", \"ano_coleta\": 2011.0, \"qualificador_atual\": null}, {\"altitude\": 25.0, \"especie_atual\": \"Brongersmianus\", \"genero_atual\": \"Amerotyphlops\", \"ordem\": \"Squamata\", \"familia\": \"Typhlopidae\", \"ano_coleta\": 2015.0, \"qualificador_atual\": null}, {\"altitude\": 25.0, \"especie_atual\": \"Gaudichaudii\", \"genero_atual\": \"Ecpleopus\", \"ordem\": \"Squamata\", \"familia\": \"Gymnophthalmidae\", \"ano_coleta\": 2008.0, \"qualificador_atual\": null}, {\"altitude\": 25.0, \"especie_atual\": \"Gaudichaudii\", \"genero_atual\": \"Ecpleopus\", \"ordem\": \"Squamata\", \"familia\": \"Gymnophthalmidae\", \"ano_coleta\": 2008.0, \"qualificador_atual\": null}, {\"altitude\": 25.0, \"especie_atual\": \"Gaudichaudii\", \"genero_atual\": \"Ecpleopus\", \"ordem\": \"Squamata\", \"familia\": \"Gymnophthalmidae\", \"ano_coleta\": 1971.0, \"qualificador_atual\": null}, {\"altitude\": 25.0, \"especie_atual\": \"Darwinii\", \"genero_atual\": \"Gymnodactylus\", \"ordem\": \"Squamata\", \"familia\": \"Phyllodactylidae\", \"ano_coleta\": 2008.0, \"qualificador_atual\": null}, {\"altitude\": 25.0, \"especie_atual\": \"Darwinii\", \"genero_atual\": \"Gymnodactylus\", \"ordem\": \"Squamata\", \"familia\": \"Phyllodactylidae\", \"ano_coleta\": 2008.0, \"qualificador_atual\": null}, {\"altitude\": 25.0, \"especie_atual\": \"Darwinii\", \"genero_atual\": \"Gymnodactylus\", \"ordem\": \"Squamata\", \"familia\": \"Phyllodactylidae\", \"ano_coleta\": 2008.0, \"qualificador_atual\": null}, {\"altitude\": 25.0, \"especie_atual\": \"Darwinii\", \"genero_atual\": \"Gymnodactylus\", \"ordem\": \"Squamata\", \"familia\": \"Phyllodactylidae\", \"ano_coleta\": 2008.0, \"qualificador_atual\": null}, {\"altitude\": 25.0, \"especie_atual\": \"Darwinii\", \"genero_atual\": \"Gymnodactylus\", \"ordem\": \"Squamata\", \"familia\": \"Phyllodactylidae\", \"ano_coleta\": 2008.0, \"qualificador_atual\": null}, {\"altitude\": 25.0, \"especie_atual\": \"Darwinii\", \"genero_atual\": \"Gymnodactylus\", \"ordem\": \"Squamata\", \"familia\": \"Phyllodactylidae\", \"ano_coleta\": 2008.0, \"qualificador_atual\": null}, {\"altitude\": 25.0, \"especie_atual\": \"Darwinii\", \"genero_atual\": \"Gymnodactylus\", \"ordem\": \"Squamata\", \"familia\": \"Phyllodactylidae\", \"ano_coleta\": 2008.0, \"qualificador_atual\": null}, {\"altitude\": 25.0, \"especie_atual\": \"Petolarius\", \"genero_atual\": \"Oxyrhopus\", \"ordem\": \"Squamata\", \"familia\": \"Dipsadidae\", \"ano_coleta\": null, \"qualificador_atual\": null}, {\"altitude\": 250.0, \"especie_atual\": \"Melanocephala\", \"genero_atual\": \"Tantilla\", \"ordem\": \"Squamata\", \"familia\": \"Colubridae\", \"ano_coleta\": 2008.0, \"qualificador_atual\": null}, {\"altitude\": 2500.0, \"especie_atual\": \"Schreibersii\", \"genero_atual\": \"Cercosaura\", \"ordem\": \"Squamata\", \"familia\": \"Gymnophthalmidae\", \"ano_coleta\": 1983.0, \"qualificador_atual\": null}, {\"altitude\": 26.0, \"especie_atual\": \"Miliaris\", \"genero_atual\": \"Liophis\", \"ordem\": \"Squamata\", \"familia\": \"Dipsadidae\", \"ano_coleta\": 2004.0, \"qualificador_atual\": null}, {\"altitude\": 26.0, \"especie_atual\": \"Poecilogyrus\", \"genero_atual\": \"Liophis\", \"ordem\": \"Squamata\", \"familia\": \"Dipsadidae\", \"ano_coleta\": 2006.0, \"qualificador_atual\": null}, {\"altitude\": 26.0, \"especie_atual\": \"Poecilogyrus\", \"genero_atual\": \"Liophis\", \"ordem\": \"Squamata\", \"familia\": \"Dipsadidae\", \"ano_coleta\": 2006.0, \"qualificador_atual\": null}, {\"altitude\": 2638.0, \"especie_atual\": \"Roulei\", \"genero_atual\": \"Atractus\", \"ordem\": \"Squamata\", \"familia\": \"Dipsadidae\", \"ano_coleta\": 2006.0, \"qualificador_atual\": null}, {\"altitude\": 265.0, \"especie_atual\": \"Collaris\", \"genero_atual\": \"Atractus\", \"ordem\": \"Squamata\", \"familia\": \"Dipsadidae\", \"ano_coleta\": null, \"qualificador_atual\": null}, {\"altitude\": 27.0, \"especie_atual\": \"Brongersmianus\", \"genero_atual\": \"Amerotyphlops\", \"ordem\": \"Squamata\", \"familia\": \"Typhlopidae\", \"ano_coleta\": 2015.0, \"qualificador_atual\": null}, {\"altitude\": 27.0, \"especie_atual\": \"Darwinii\", \"genero_atual\": \"Gymnodactylus\", \"ordem\": \"Squamata\", \"familia\": \"Phyllodactylidae\", \"ano_coleta\": 2014.0, \"qualificador_atual\": null}, {\"altitude\": 2777.0, \"especie_atual\": \"Taczanowskyi\", \"genero_atual\": \"Tropidophis\", \"ordem\": \"Squamata\", \"familia\": \"Tropidophiidae\", \"ano_coleta\": 2000.0, \"qualificador_atual\": null}, {\"altitude\": 28.0, \"especie_atual\": \"Brongersmianus\", \"genero_atual\": \"Amerotyphlops\", \"ordem\": \"Squamata\", \"familia\": \"Typhlopidae\", \"ano_coleta\": 2015.0, \"qualificador_atual\": null}, {\"altitude\": 28.0, \"especie_atual\": \"Gaudichaudii\", \"genero_atual\": \"Ecpleopus\", \"ordem\": \"Squamata\", \"familia\": \"Gymnophthalmidae\", \"ano_coleta\": 2014.0, \"qualificador_atual\": null}, {\"altitude\": 28.0, \"especie_atual\": \"Gaudichaudii\", \"genero_atual\": \"Ecpleopus\", \"ordem\": \"Squamata\", \"familia\": \"Gymnophthalmidae\", \"ano_coleta\": 2014.0, \"qualificador_atual\": null}, {\"altitude\": 28.0, \"especie_atual\": \"Mabouia\", \"genero_atual\": \"Hemidactylus\", \"ordem\": \"Squamata\", \"familia\": \"Gekkonidae\", \"ano_coleta\": 2015.0, \"qualificador_atual\": null}, {\"altitude\": 280.0, \"especie_atual\": \"Duseni\", \"genero_atual\": \"Salvator\", \"ordem\": \"Squamata\", \"familia\": \"Teiidae\", \"ano_coleta\": null, \"qualificador_atual\": null}, {\"altitude\": 280.0, \"especie_atual\": \"Duseni\", \"genero_atual\": \"Salvator\", \"ordem\": \"Squamata\", \"familia\": \"Teiidae\", \"ano_coleta\": null, \"qualificador_atual\": null}, {\"altitude\": 2800.0, \"especie_atual\": \"Lessonae\", \"genero_atual\": \"Diploglossus\", \"ordem\": \"Squamata\", \"familia\": \"Anguidae\", \"ano_coleta\": 1989.0, \"qualificador_atual\": null}, {\"altitude\": 3.0, \"especie_atual\": \"Ameiva\", \"genero_atual\": \"Ameiva\", \"ordem\": \"Squamata\", \"familia\": \"Teiidae\", \"ano_coleta\": 2015.0, \"qualificador_atual\": null}, {\"altitude\": 3.0, \"especie_atual\": \"Gaudichaudii\", \"genero_atual\": \"Ecpleopus\", \"ordem\": \"Squamata\", \"familia\": \"Gymnophthalmidae\", \"ano_coleta\": 2015.0, \"qualificador_atual\": null}, {\"altitude\": 3.0, \"especie_atual\": \"Darwinii\", \"genero_atual\": \"Gymnodactylus\", \"ordem\": \"Squamata\", \"familia\": \"Phyllodactylidae\", \"ano_coleta\": 2014.0, \"qualificador_atual\": null}, {\"altitude\": 3.0, \"especie_atual\": \"Mabouia\", \"genero_atual\": \"Hemidactylus\", \"ordem\": \"Squamata\", \"familia\": \"Gekkonidae\", \"ano_coleta\": 2016.0, \"qualificador_atual\": null}, {\"altitude\": 3.0, \"especie_atual\": \"Macrorhyncha\", \"genero_atual\": \"Psychosaura\", \"ordem\": \"Squamata\", \"familia\": \"Scincidae\", \"ano_coleta\": 2014.0, \"qualificador_atual\": null}, {\"altitude\": 3.0, \"especie_atual\": \"Merianae\", \"genero_atual\": \"Salvator\", \"ordem\": \"Squamata\", \"familia\": \"Teiidae\", \"ano_coleta\": 2015.0, \"qualificador_atual\": null}, {\"altitude\": 30.0, \"especie_atual\": \"Boimirim\", \"genero_atual\": \"Atractus\", \"ordem\": \"Squamata\", \"familia\": \"Dipsadidae\", \"ano_coleta\": 2008.0, \"qualificador_atual\": null}, {\"altitude\": 30.0, \"especie_atual\": \"Olfersii\", \"genero_atual\": \"Philodryas\", \"ordem\": \"Squamata\", \"familia\": \"Dipsadidae\", \"ano_coleta\": 2004.0, \"qualificador_atual\": null}, {\"altitude\": 30.0, \"especie_atual\": \"Torquatus\", \"genero_atual\": \"Tropidurus\", \"ordem\": \"Squamata\", \"familia\": \"Tropiduridae\", \"ano_coleta\": 2013.0, \"qualificador_atual\": null}, {\"altitude\": 300.0, \"especie_atual\": \"Vermicularis\", \"genero_atual\": \"Amphisbaena\", \"ordem\": \"Squamata\", \"familia\": \"Amphisbaenidae\", \"ano_coleta\": 1988.0, \"qualificador_atual\": null}, {\"altitude\": 300.0, \"especie_atual\": \"Punctatus\", \"genero_atual\": \"Anolis\", \"ordem\": \"Squamata\", \"familia\": \"Dactyloidae\", \"ano_coleta\": 2007.0, \"qualificador_atual\": null}, {\"altitude\": 300.0, \"especie_atual\": \"Mimus\", \"genero_atual\": \"Erythrolamprus\", \"ordem\": \"Squamata\", \"familia\": \"Dipsadidae\", \"ano_coleta\": 2008.0, \"qualificador_atual\": null}, {\"altitude\": 316.0, \"especie_atual\": \"Neuwiedi\", \"genero_atual\": \"Sibynomorphus\", \"ordem\": \"Squamata\", \"familia\": \"Dipsadidae\", \"ano_coleta\": 2007.0, \"qualificador_atual\": null}, {\"altitude\": 32.0, \"especie_atual\": \"Darwinii\", \"genero_atual\": \"Gymnodactylus\", \"ordem\": \"Squamata\", \"familia\": \"Phyllodactylidae\", \"ano_coleta\": 2013.0, \"qualificador_atual\": null}, {\"altitude\": 32.0, \"especie_atual\": \"Merianae\", \"genero_atual\": \"Salvator\", \"ordem\": \"Squamata\", \"familia\": \"Teiidae\", \"ano_coleta\": 2013.0, \"qualificador_atual\": null}, {\"altitude\": 320.0, \"especie_atual\": \"Jararaca\", \"genero_atual\": \"Bothrops\", \"ordem\": \"Squamata\", \"familia\": \"Viperidae\", \"ano_coleta\": 2006.0, \"qualificador_atual\": null}, {\"altitude\": 320.0, \"especie_atual\": \"Melanocephala\", \"genero_atual\": \"Tantilla\", \"ordem\": \"Squamata\", \"familia\": \"Colubridae\", \"ano_coleta\": 2008.0, \"qualificador_atual\": null}, {\"altitude\": 33.0, \"especie_atual\": \"Gaudichaudii\", \"genero_atual\": \"Ecpleopus\", \"ordem\": \"Squamata\", \"familia\": \"Gymnophthalmidae\", \"ano_coleta\": 2010.0, \"qualificador_atual\": null}, {\"altitude\": 33.0, \"especie_atual\": \"Gaudichaudii\", \"genero_atual\": \"Ecpleopus\", \"ordem\": \"Squamata\", \"familia\": \"Gymnophthalmidae\", \"ano_coleta\": 2010.0, \"qualificador_atual\": null}, {\"altitude\": 33.0, \"especie_atual\": \"Gaudichaudii\", \"genero_atual\": \"Ecpleopus\", \"ordem\": \"Squamata\", \"familia\": \"Gymnophthalmidae\", \"ano_coleta\": 2010.0, \"qualificador_atual\": null}, {\"altitude\": 33.0, \"especie_atual\": \"Gaudichaudii\", \"genero_atual\": \"Ecpleopus\", \"ordem\": \"Squamata\", \"familia\": \"Gymnophthalmidae\", \"ano_coleta\": 2010.0, \"qualificador_atual\": null}, {\"altitude\": 33.0, \"especie_atual\": \"Gaudichaudii\", \"genero_atual\": \"Ecpleopus\", \"ordem\": \"Squamata\", \"familia\": \"Gymnophthalmidae\", \"ano_coleta\": 2010.0, \"qualificador_atual\": null}, {\"altitude\": 33.0, \"especie_atual\": \"Gaudichaudii\", \"genero_atual\": \"Ecpleopus\", \"ordem\": \"Squamata\", \"familia\": \"Gymnophthalmidae\", \"ano_coleta\": 2010.0, \"qualificador_atual\": null}, {\"altitude\": 33.0, \"especie_atual\": \"Darwinii\", \"genero_atual\": \"Gymnodactylus\", \"ordem\": \"Squamata\", \"familia\": \"Phyllodactylidae\", \"ano_coleta\": 2010.0, \"qualificador_atual\": null}, {\"altitude\": 33.0, \"especie_atual\": \"Darwinii\", \"genero_atual\": \"Gymnodactylus\", \"ordem\": \"Squamata\", \"familia\": \"Phyllodactylidae\", \"ano_coleta\": 2010.0, \"qualificador_atual\": null}, {\"altitude\": 33.0, \"especie_atual\": \"Mabouia\", \"genero_atual\": \"Hemidactylus\", \"ordem\": \"Squamata\", \"familia\": \"Gekkonidae\", \"ano_coleta\": 2010.0, \"qualificador_atual\": null}, {\"altitude\": 33.0, \"especie_atual\": \"Miliaris\", \"genero_atual\": \"Liophis\", \"ordem\": \"Squamata\", \"familia\": \"Dipsadidae\", \"ano_coleta\": 2010.0, \"qualificador_atual\": null}, {\"altitude\": 33.0, \"especie_atual\": \"Macrorhyncha\", \"genero_atual\": \"Mabuya\", \"ordem\": \"Squamata\", \"familia\": \"Scincidae\", \"ano_coleta\": 2010.0, \"qualificador_atual\": null}, {\"altitude\": 33.0, \"especie_atual\": \"Petolarius\", \"genero_atual\": \"Oxyrhopus\", \"ordem\": \"Squamata\", \"familia\": \"Dipsadidae\", \"ano_coleta\": 2011.0, \"qualificador_atual\": null}, {\"altitude\": 330.0, \"especie_atual\": \"Guibei\", \"genero_atual\": \"Oxyrhopus\", \"ordem\": \"Squamata\", \"familia\": \"Dipsadidae\", \"ano_coleta\": 2007.0, \"qualificador_atual\": null}, {\"altitude\": 336.0, \"especie_atual\": \"Torquatus\", \"genero_atual\": \"Tropidurus\", \"ordem\": \"Squamata\", \"familia\": \"Tropiduridae\", \"ano_coleta\": 2007.0, \"qualificador_atual\": null}, {\"altitude\": 337.0, \"especie_atual\": \"Mabouia\", \"genero_atual\": \"Hemidactylus\", \"ordem\": \"Squamata\", \"familia\": \"Gekkonidae\", \"ano_coleta\": 2007.0, \"qualificador_atual\": null}, {\"altitude\": 337.0, \"especie_atual\": \"Torquatus\", \"genero_atual\": \"Tropidurus\", \"ordem\": \"Squamata\", \"familia\": \"Tropiduridae\", \"ano_coleta\": 2007.0, \"qualificador_atual\": null}, {\"altitude\": 337.0, \"especie_atual\": \"Torquatus\", \"genero_atual\": \"Tropidurus\", \"ordem\": \"Squamata\", \"familia\": \"Tropiduridae\", \"ano_coleta\": 2007.0, \"qualificador_atual\": null}, {\"altitude\": 345.0, \"especie_atual\": \"Quadricarinatus\", \"genero_atual\": \"Chironius\", \"ordem\": \"Squamata\", \"familia\": \"Colubridae\", \"ano_coleta\": 2007.0, \"qualificador_atual\": null}, {\"altitude\": 347.0, \"especie_atual\": \"Typhlus\", \"genero_atual\": \"Liophis\", \"ordem\": \"Squamata\", \"familia\": \"Dipsadidae\", \"ano_coleta\": 2007.0, \"qualificador_atual\": null}, {\"altitude\": 347.0, \"especie_atual\": \"Merremi\", \"genero_atual\": \"Xenodon\", \"ordem\": \"Squamata\", \"familia\": \"Dipsadidae\", \"ano_coleta\": 2007.0, \"qualificador_atual\": null}, {\"altitude\": 35.0, \"especie_atual\": \"Bicarinatus\", \"genero_atual\": \"Chironius\", \"ordem\": \"Squamata\", \"familia\": \"Colubridae\", \"ano_coleta\": 2007.0, \"qualificador_atual\": null}, {\"altitude\": 35.0, \"especie_atual\": \"Brasiliensis\", \"genero_atual\": \"Enyalius\", \"ordem\": \"Squamata\", \"familia\": \"Leiosauridae\", \"ano_coleta\": 2013.0, \"qualificador_atual\": null}, {\"altitude\": 35.0, \"especie_atual\": \"Brasiliensis\", \"genero_atual\": \"Enyalius\", \"ordem\": \"Squamata\", \"familia\": \"Leiosauridae\", \"ano_coleta\": 2013.0, \"qualificador_atual\": null}, {\"altitude\": 35.0, \"especie_atual\": \"Darwinii\", \"genero_atual\": \"Gymnodactylus\", \"ordem\": \"Squamata\", \"familia\": \"Phyllodactylidae\", \"ano_coleta\": 2013.0, \"qualificador_atual\": null}, {\"altitude\": 350.0, \"especie_atual\": \"Merremi\", \"genero_atual\": \"Xenodon\", \"ordem\": \"Squamata\", \"familia\": \"Dipsadidae\", \"ano_coleta\": 1946.0, \"qualificador_atual\": null}, {\"altitude\": 357.0, \"especie_atual\": \"Merianae\", \"genero_atual\": \"Salvator\", \"ordem\": \"Squamata\", \"familia\": \"Teiidae\", \"ano_coleta\": 2008.0, \"qualificador_atual\": null}, {\"altitude\": 359.0, \"especie_atual\": \"Striatus\", \"genero_atual\": \"Ophiodes\", \"ordem\": \"Squamata\", \"familia\": \"Anguidae\", \"ano_coleta\": 2007.0, \"qualificador_atual\": \"aff.\"}, {\"altitude\": 36.0, \"especie_atual\": \"Jararaca\", \"genero_atual\": \"Bothrops\", \"ordem\": \"Squamata\", \"familia\": \"Viperidae\", \"ano_coleta\": 2003.0, \"qualificador_atual\": null}, {\"altitude\": 36.0, \"especie_atual\": \"Exoletus\", \"genero_atual\": \"Chironius\", \"ordem\": \"Squamata\", \"familia\": \"Colubridae\", \"ano_coleta\": 2003.0, \"qualificador_atual\": null}, {\"altitude\": 36.0, \"especie_atual\": \"Exoletus\", \"genero_atual\": \"Chironius\", \"ordem\": \"Squamata\", \"familia\": \"Colubridae\", \"ano_coleta\": 2003.0, \"qualificador_atual\": null}, {\"altitude\": 36.0, \"especie_atual\": \"Poecilogyrus\", \"genero_atual\": \"Liophis\", \"ordem\": \"Squamata\", \"familia\": \"Dipsadidae\", \"ano_coleta\": 2003.0, \"qualificador_atual\": null}, {\"altitude\": 36.0, \"especie_atual\": \"Miliaris\", \"genero_atual\": \"Liophis\", \"ordem\": \"Squamata\", \"familia\": \"Dipsadidae\", \"ano_coleta\": 2003.0, \"qualificador_atual\": null}, {\"altitude\": 36.0, \"especie_atual\": \"Miliaris\", \"genero_atual\": \"Liophis\", \"ordem\": \"Squamata\", \"familia\": \"Dipsadidae\", \"ano_coleta\": 2005.0, \"qualificador_atual\": null}, {\"altitude\": 36.0, \"especie_atual\": \"Corallinus\", \"genero_atual\": \"Micrurus\", \"ordem\": \"Squamata\", \"familia\": \"Elapidae\", \"ano_coleta\": 2003.0, \"qualificador_atual\": null}, {\"altitude\": 36.0, \"especie_atual\": \"Petolarius\", \"genero_atual\": \"Oxyrhopus\", \"ordem\": \"Squamata\", \"familia\": \"Dipsadidae\", \"ano_coleta\": 2003.0, \"qualificador_atual\": null}, {\"altitude\": 36.0, \"especie_atual\": \"Neuwiedii\", \"genero_atual\": \"Xenodon\", \"ordem\": \"Squamata\", \"familia\": \"Dipsadidae\", \"ano_coleta\": 2003.0, \"qualificador_atual\": null}, {\"altitude\": 360.0, \"especie_atual\": \"Clathratus\", \"genero_atual\": \"Oxyrhopus\", \"ordem\": \"Squamata\", \"familia\": \"Dipsadidae\", \"ano_coleta\": 2007.0, \"qualificador_atual\": null}, {\"altitude\": 363.0, \"especie_atual\": \"Neuwiedi\", \"genero_atual\": \"Sibynomorphus\", \"ordem\": \"Squamata\", \"familia\": \"Dipsadidae\", \"ano_coleta\": 2007.0, \"qualificador_atual\": null}, {\"altitude\": 370.0, \"especie_atual\": \"Neuwiedi\", \"genero_atual\": \"Sibynomorphus\", \"ordem\": \"Squamata\", \"familia\": \"Dipsadidae\", \"ano_coleta\": null, \"qualificador_atual\": null}, {\"altitude\": 371.0, \"especie_atual\": \"Jararaca\", \"genero_atual\": \"Bothrops\", \"ordem\": \"Squamata\", \"familia\": \"Viperidae\", \"ano_coleta\": 2007.0, \"qualificador_atual\": null}, {\"altitude\": 378.0, \"especie_atual\": \"Jararaca\", \"genero_atual\": \"Bothrops\", \"ordem\": \"Squamata\", \"familia\": \"Viperidae\", \"ano_coleta\": 2007.0, \"qualificador_atual\": null}, {\"altitude\": 378.0, \"especie_atual\": \"Striatus\", \"genero_atual\": \"Ophiodes\", \"ordem\": \"Squamata\", \"familia\": \"Anguidae\", \"ano_coleta\": 2007.0, \"qualificador_atual\": \"cf.\"}, {\"altitude\": 38.0, \"especie_atual\": \"Darwinii\", \"genero_atual\": \"Gymnodactylus\", \"ordem\": \"Squamata\", \"familia\": \"Phyllodactylidae\", \"ano_coleta\": 2013.0, \"qualificador_atual\": null}, {\"altitude\": 386.0, \"especie_atual\": \"Miliaris\", \"genero_atual\": \"Liophis\", \"ordem\": \"Squamata\", \"familia\": \"Dipsadidae\", \"ano_coleta\": 2007.0, \"qualificador_atual\": null}, {\"altitude\": 386.0, \"especie_atual\": \"Neuwiedi\", \"genero_atual\": \"Sibynomorphus\", \"ordem\": \"Squamata\", \"familia\": \"Dipsadidae\", \"ano_coleta\": 2007.0, \"qualificador_atual\": null}, {\"altitude\": 4.0, \"especie_atual\": \"Macrorhyncha\", \"genero_atual\": \"Psychosaura\", \"ordem\": \"Squamata\", \"familia\": \"Scincidae\", \"ano_coleta\": 2014.0, \"qualificador_atual\": null}, {\"altitude\": 400.0, \"especie_atual\": \"Hortulanus\", \"genero_atual\": \"Corallus\", \"ordem\": \"Squamata\", \"familia\": \"Boidae\", \"ano_coleta\": 2009.0, \"qualificador_atual\": null}, {\"altitude\": 400.0, \"especie_atual\": \"Brasiliensis\", \"genero_atual\": \"Enyalius\", \"ordem\": \"Squamata\", \"familia\": \"Leiosauridae\", \"ano_coleta\": 2007.0, \"qualificador_atual\": null}, {\"altitude\": 403.0, \"especie_atual\": \"Miliaris\", \"genero_atual\": \"Liophis\", \"ordem\": \"Squamata\", \"familia\": \"Dipsadidae\", \"ano_coleta\": 2007.0, \"qualificador_atual\": null}, {\"altitude\": 409.0, \"especie_atual\": \"Clathratus\", \"genero_atual\": \"Oxyrhopus\", \"ordem\": \"Squamata\", \"familia\": \"Dipsadidae\", \"ano_coleta\": 2007.0, \"qualificador_atual\": null}, {\"altitude\": 412.0, \"especie_atual\": \"Clathratus\", \"genero_atual\": \"Oxyrhopus\", \"ordem\": \"Squamata\", \"familia\": \"Dipsadidae\", \"ano_coleta\": 2006.0, \"qualificador_atual\": null}, {\"altitude\": 426.0, \"especie_atual\": \"Quinquelineatus\", \"genero_atual\": \"Elapomorphus\", \"ordem\": \"Squamata\", \"familia\": \"Dipsadidae\", \"ano_coleta\": 2007.0, \"qualificador_atual\": null}, {\"altitude\": 428.0, \"especie_atual\": \"Fuscus\", \"genero_atual\": \"Chironius\", \"ordem\": \"Squamata\", \"familia\": \"Colubridae\", \"ano_coleta\": 2008.0, \"qualificador_atual\": null}, {\"altitude\": 428.0, \"especie_atual\": \"Mabouia\", \"genero_atual\": \"Hemidactylus\", \"ordem\": \"Squamata\", \"familia\": \"Gekkonidae\", \"ano_coleta\": 2008.0, \"qualificador_atual\": null}, {\"altitude\": 428.0, \"especie_atual\": \"Mabouia\", \"genero_atual\": \"Hemidactylus\", \"ordem\": \"Squamata\", \"familia\": \"Gekkonidae\", \"ano_coleta\": 2008.0, \"qualificador_atual\": null}, {\"altitude\": 428.0, \"especie_atual\": \"Mabouia\", \"genero_atual\": \"Hemidactylus\", \"ordem\": \"Squamata\", \"familia\": \"Gekkonidae\", \"ano_coleta\": 2008.0, \"qualificador_atual\": null}, {\"altitude\": 428.0, \"especie_atual\": \"Mabouia\", \"genero_atual\": \"Hemidactylus\", \"ordem\": \"Squamata\", \"familia\": \"Gekkonidae\", \"ano_coleta\": 2008.0, \"qualificador_atual\": null}, {\"altitude\": 440.0, \"especie_atual\": \"Fuscus\", \"genero_atual\": \"Chironius\", \"ordem\": \"Squamata\", \"familia\": \"Colubridae\", \"ano_coleta\": 2013.0, \"qualificador_atual\": null}, {\"altitude\": 442.0, \"especie_atual\": \"Bilineatus\", \"genero_atual\": \"Enyalius\", \"ordem\": \"Squamata\", \"familia\": \"Leiosauridae\", \"ano_coleta\": 2007.0, \"qualificador_atual\": null}, {\"altitude\": 442.0, \"especie_atual\": \"Darwinii\", \"genero_atual\": \"Gymnodactylus\", \"ordem\": \"Squamata\", \"familia\": \"Phyllodactylidae\", \"ano_coleta\": 2007.0, \"qualificador_atual\": null}, {\"altitude\": 448.0, \"especie_atual\": \"Cephalostriata\", \"genero_atual\": \"Echinanthera\", \"ordem\": \"Squamata\", \"familia\": \"Dipsadidae\", \"ano_coleta\": 2002.0, \"qualificador_atual\": null}, {\"altitude\": 450.0, \"especie_atual\": \"Jararacussu\", \"genero_atual\": \"Bothrops\", \"ordem\": \"Squamata\", \"familia\": \"Viperidae\", \"ano_coleta\": null, \"qualificador_atual\": null}, {\"altitude\": 450.0, \"especie_atual\": \"Torquatus\", \"genero_atual\": \"Tropidurus\", \"ordem\": \"Squamata\", \"familia\": \"Tropiduridae\", \"ano_coleta\": 2013.0, \"qualificador_atual\": null}, {\"altitude\": 450.0, \"especie_atual\": \"Torquatus\", \"genero_atual\": \"Tropidurus\", \"ordem\": \"Squamata\", \"familia\": \"Tropiduridae\", \"ano_coleta\": 2013.0, \"qualificador_atual\": null}, {\"altitude\": 454.0, \"especie_atual\": \"Striatus\", \"genero_atual\": \"Ophiodes\", \"ordem\": \"Squamata\", \"familia\": \"Anguidae\", \"ano_coleta\": 2007.0, \"qualificador_atual\": \"aff.\"}, {\"altitude\": 457.0, \"especie_atual\": \"Hispidus\", \"genero_atual\": \"Tropidurus\", \"ordem\": \"Squamata\", \"familia\": \"Tropiduridae\", \"ano_coleta\": 2007.0, \"qualificador_atual\": null}, {\"altitude\": 457.0, \"especie_atual\": \"Hispidus\", \"genero_atual\": \"Tropidurus\", \"ordem\": \"Squamata\", \"familia\": \"Tropiduridae\", \"ano_coleta\": 2007.0, \"qualificador_atual\": null}, {\"altitude\": 5.0, \"especie_atual\": \"Mabouia\", \"genero_atual\": \"Hemidactylus\", \"ordem\": \"Squamata\", \"familia\": \"Gekkonidae\", \"ano_coleta\": 2014.0, \"qualificador_atual\": null}, {\"altitude\": 5.0, \"especie_atual\": \"Mabouia\", \"genero_atual\": \"Hemidactylus\", \"ordem\": \"Squamata\", \"familia\": \"Gekkonidae\", \"ano_coleta\": 2014.0, \"qualificador_atual\": null}, {\"altitude\": 5.0, \"especie_atual\": \"Miliaris\", \"genero_atual\": \"Liophis\", \"ordem\": \"Squamata\", \"familia\": \"Dipsadidae\", \"ano_coleta\": 2015.0, \"qualificador_atual\": null}, {\"altitude\": 5.0, \"especie_atual\": \"Nigra\", \"genero_atual\": \"Pseudoboa\", \"ordem\": \"Squamata\", \"familia\": \"Dipsadidae\", \"ano_coleta\": 2016.0, \"qualificador_atual\": null}, {\"altitude\": 5.0, \"especie_atual\": \"Torquatus\", \"genero_atual\": \"Tropidurus\", \"ordem\": \"Squamata\", \"familia\": \"Tropiduridae\", \"ano_coleta\": 2014.0, \"qualificador_atual\": null}, {\"altitude\": 519.0, \"especie_atual\": \"Melanocephala\", \"genero_atual\": \"Tantilla\", \"ordem\": \"Squamata\", \"familia\": \"Colubridae\", \"ano_coleta\": 2008.0, \"qualificador_atual\": null}, {\"altitude\": 519.0, \"especie_atual\": \"Melanocephala\", \"genero_atual\": \"Tantilla\", \"ordem\": \"Squamata\", \"familia\": \"Colubridae\", \"ano_coleta\": 2008.0, \"qualificador_atual\": null}, {\"altitude\": 522.0, \"especie_atual\": \"Mabouia\", \"genero_atual\": \"Hemidactylus\", \"ordem\": \"Squamata\", \"familia\": \"Gekkonidae\", \"ano_coleta\": 2008.0, \"qualificador_atual\": null}, {\"altitude\": 525.0, \"especie_atual\": \"Striatus\", \"genero_atual\": \"Ophiodes\", \"ordem\": \"Squamata\", \"familia\": \"Anguidae\", \"ano_coleta\": 2007.0, \"qualificador_atual\": \"aff.\"}, {\"altitude\": 529.0, \"especie_atual\": \"Striatus\", \"genero_atual\": \"Ophiodes\", \"ordem\": \"Squamata\", \"familia\": \"Anguidae\", \"ano_coleta\": 2007.0, \"qualificador_atual\": \"aff.\"}, {\"altitude\": 53.0, \"especie_atual\": \"Corallinus\", \"genero_atual\": \"Micrurus\", \"ordem\": \"Squamata\", \"familia\": \"Elapidae\", \"ano_coleta\": 2015.0, \"qualificador_atual\": null}, {\"altitude\": 530.0, \"especie_atual\": \"Affinis\", \"genero_atual\": \"Taeniophallus\", \"ordem\": \"Squamata\", \"familia\": \"Dipsadidae\", \"ano_coleta\": 2007.0, \"qualificador_atual\": null}, {\"altitude\": 540.0, \"especie_atual\": \"Neuwiedii\", \"genero_atual\": \"Xenodon\", \"ordem\": \"Squamata\", \"familia\": \"Dipsadidae\", \"ano_coleta\": 2007.0, \"qualificador_atual\": null}, {\"altitude\": 544.0, \"especie_atual\": \"Jararaca\", \"genero_atual\": \"Bothrops\", \"ordem\": \"Squamata\", \"familia\": \"Viperidae\", \"ano_coleta\": 2013.0, \"qualificador_atual\": null}, {\"altitude\": 544.0, \"especie_atual\": \"Jararaca\", \"genero_atual\": \"Bothrops\", \"ordem\": \"Squamata\", \"familia\": \"Viperidae\", \"ano_coleta\": 2013.0, \"qualificador_atual\": null}, {\"altitude\": 547.0, \"especie_atual\": \"Jararacussu\", \"genero_atual\": \"Bothrops\", \"ordem\": \"Squamata\", \"familia\": \"Viperidae\", \"ano_coleta\": 2013.0, \"qualificador_atual\": null}, {\"altitude\": 558.0, \"especie_atual\": \"Leopardinus\", \"genero_atual\": \"Helicops\", \"ordem\": \"Squamata\", \"familia\": \"Dipsadidae\", \"ano_coleta\": 2006.0, \"qualificador_atual\": null}, {\"altitude\": 558.0, \"especie_atual\": \"Leopardinus\", \"genero_atual\": \"Helicops\", \"ordem\": \"Squamata\", \"familia\": \"Dipsadidae\", \"ano_coleta\": 2006.0, \"qualificador_atual\": null}, {\"altitude\": 558.0, \"especie_atual\": \"Leopardinus\", \"genero_atual\": \"Helicops\", \"ordem\": \"Squamata\", \"familia\": \"Dipsadidae\", \"ano_coleta\": 2006.0, \"qualificador_atual\": null}, {\"altitude\": 558.0, \"especie_atual\": \"Leopardinus\", \"genero_atual\": \"Helicops\", \"ordem\": \"Squamata\", \"familia\": \"Dipsadidae\", \"ano_coleta\": 2006.0, \"qualificador_atual\": null}, {\"altitude\": 558.0, \"especie_atual\": \"Leopardinus\", \"genero_atual\": \"Helicops\", \"ordem\": \"Squamata\", \"familia\": \"Dipsadidae\", \"ano_coleta\": 2006.0, \"qualificador_atual\": null}, {\"altitude\": 558.0, \"especie_atual\": \"Leopardinus\", \"genero_atual\": \"Helicops\", \"ordem\": \"Squamata\", \"familia\": \"Dipsadidae\", \"ano_coleta\": 2006.0, \"qualificador_atual\": null}, {\"altitude\": 558.0, \"especie_atual\": \"Acutirostris\", \"genero_atual\": \"Polychrus\", \"ordem\": \"Squamata\", \"familia\": \"Polychrotidae\", \"ano_coleta\": 2006.0, \"qualificador_atual\": null}, {\"altitude\": 558.0, \"especie_atual\": \"Mikanii\", \"genero_atual\": \"Sibynomorphus\", \"ordem\": \"Squamata\", \"familia\": \"Dipsadidae\", \"ano_coleta\": 2006.0, \"qualificador_atual\": null}, {\"altitude\": 568.0, \"especie_atual\": \"Peruvianus\", \"genero_atual\": \"Polychrus\", \"ordem\": \"Squamata\", \"familia\": \"Polychrotidae\", \"ano_coleta\": 2008.0, \"qualificador_atual\": null}, {\"altitude\": 568.0, \"especie_atual\": \"Peruvianus\", \"genero_atual\": \"Polychrus\", \"ordem\": \"Squamata\", \"familia\": \"Polychrotidae\", \"ano_coleta\": 2008.0, \"qualificador_atual\": null}, {\"altitude\": 585.0, \"especie_atual\": \"Constrictor\", \"genero_atual\": \"Boa\", \"ordem\": \"Squamata\", \"familia\": \"Boidae\", \"ano_coleta\": 2006.0, \"qualificador_atual\": null}, {\"altitude\": 585.0, \"especie_atual\": \"Durissus\", \"genero_atual\": \"Crotalus\", \"ordem\": \"Squamata\", \"familia\": \"Viperidae\", \"ano_coleta\": 2006.0, \"qualificador_atual\": null}, {\"altitude\": 585.0, \"especie_atual\": \"Poecilogyrus\", \"genero_atual\": \"Liophis\", \"ordem\": \"Squamata\", \"familia\": \"Dipsadidae\", \"ano_coleta\": 2007.0, \"qualificador_atual\": null}, {\"altitude\": 585.0, \"especie_atual\": \"Poecilogyrus\", \"genero_atual\": \"Liophis\", \"ordem\": \"Squamata\", \"familia\": \"Dipsadidae\", \"ano_coleta\": 2007.0, \"qualificador_atual\": null}, {\"altitude\": 585.0, \"especie_atual\": \"Poecilogyrus\", \"genero_atual\": \"Liophis\", \"ordem\": \"Squamata\", \"familia\": \"Dipsadidae\", \"ano_coleta\": 2006.0, \"qualificador_atual\": null}, {\"altitude\": 585.0, \"especie_atual\": \"Poecilogyrus\", \"genero_atual\": \"Liophis\", \"ordem\": \"Squamata\", \"familia\": \"Dipsadidae\", \"ano_coleta\": 2006.0, \"qualificador_atual\": null}, {\"altitude\": 585.0, \"especie_atual\": \"Lemniscatus\", \"genero_atual\": \"Micrurus\", \"ordem\": \"Squamata\", \"familia\": \"Elapidae\", \"ano_coleta\": 2006.0, \"qualificador_atual\": null}, {\"altitude\": 585.0, \"especie_atual\": \"Striatus\", \"genero_atual\": \"Ophiodes\", \"ordem\": \"Squamata\", \"familia\": \"Anguidae\", \"ano_coleta\": 2007.0, \"qualificador_atual\": null}, {\"altitude\": 585.0, \"especie_atual\": \"Guibei\", \"genero_atual\": \"Oxyrhopus\", \"ordem\": \"Squamata\", \"familia\": \"Dipsadidae\", \"ano_coleta\": 2006.0, \"qualificador_atual\": null}, {\"altitude\": 585.0, \"especie_atual\": \"Joberti\", \"genero_atual\": \"Psomophis\", \"ordem\": \"Squamata\", \"familia\": \"Dipsadidae\", \"ano_coleta\": 2006.0, \"qualificador_atual\": null}, {\"altitude\": 585.0, \"especie_atual\": \"Mikanii\", \"genero_atual\": \"Sibynomorphus\", \"ordem\": \"Squamata\", \"familia\": \"Dipsadidae\", \"ano_coleta\": 2006.0, \"qualificador_atual\": null}, {\"altitude\": 585.0, \"especie_atual\": \"Merremi\", \"genero_atual\": \"Xenodon\", \"ordem\": \"Squamata\", \"familia\": \"Dipsadidae\", \"ano_coleta\": 2007.0, \"qualificador_atual\": null}, {\"altitude\": 598.0, \"especie_atual\": \"Mabouia\", \"genero_atual\": \"Hemidactylus\", \"ordem\": \"Squamata\", \"familia\": \"Gekkonidae\", \"ano_coleta\": 2008.0, \"qualificador_atual\": null}, {\"altitude\": 598.0, \"especie_atual\": \"Mabouia\", \"genero_atual\": \"Hemidactylus\", \"ordem\": \"Squamata\", \"familia\": \"Gekkonidae\", \"ano_coleta\": 2008.0, \"qualificador_atual\": null}, {\"altitude\": 598.0, \"especie_atual\": \"Mabouia\", \"genero_atual\": \"Hemidactylus\", \"ordem\": \"Squamata\", \"familia\": \"Gekkonidae\", \"ano_coleta\": 2008.0, \"qualificador_atual\": null}, {\"altitude\": 598.0, \"especie_atual\": \"Mabouia\", \"genero_atual\": \"Hemidactylus\", \"ordem\": \"Squamata\", \"familia\": \"Gekkonidae\", \"ano_coleta\": 2008.0, \"qualificador_atual\": null}, {\"altitude\": 598.0, \"especie_atual\": \"Mabouia\", \"genero_atual\": \"Hemidactylus\", \"ordem\": \"Squamata\", \"familia\": \"Gekkonidae\", \"ano_coleta\": 2008.0, \"qualificador_atual\": null}, {\"altitude\": 60.0, \"especie_atual\": \"Bicarinatus\", \"genero_atual\": \"Chironius\", \"ordem\": \"Squamata\", \"familia\": \"Colubridae\", \"ano_coleta\": 2013.0, \"qualificador_atual\": null}, {\"altitude\": 60.0, \"especie_atual\": \"Corallinus\", \"genero_atual\": \"Micrurus\", \"ordem\": \"Squamata\", \"familia\": \"Elapidae\", \"ano_coleta\": 2003.0, \"qualificador_atual\": null}, {\"altitude\": 61.0, \"especie_atual\": \"Ahaetulla\", \"genero_atual\": \"Leptophis\", \"ordem\": \"Squamata\", \"familia\": \"Colubridae\", \"ano_coleta\": 2004.0, \"qualificador_atual\": null}, {\"altitude\": 62.0, \"especie_atual\": \"Microcephalum\", \"genero_atual\": \"Leposternon\", \"ordem\": \"Squamata\", \"familia\": \"Amphisbaenidae\", \"ano_coleta\": 2003.0, \"qualificador_atual\": null}, {\"altitude\": 62.0, \"especie_atual\": \"Pullatus\", \"genero_atual\": \"Spilotes\", \"ordem\": \"Squamata\", \"familia\": \"Colubridae\", \"ano_coleta\": 2002.0, \"qualificador_atual\": null}, {\"altitude\": 629.0, \"especie_atual\": \"Mikanii\", \"genero_atual\": \"Sibynomorphus\", \"ordem\": \"Squamata\", \"familia\": \"Dipsadidae\", \"ano_coleta\": 2014.0, \"qualificador_atual\": null}, {\"altitude\": 63.0, \"especie_atual\": \"Jararaca\", \"genero_atual\": \"Bothrops\", \"ordem\": \"Squamata\", \"familia\": \"Viperidae\", \"ano_coleta\": 2003.0, \"qualificador_atual\": null}, {\"altitude\": 63.0, \"especie_atual\": \"Laevicollis\", \"genero_atual\": \"Chironius\", \"ordem\": \"Squamata\", \"familia\": \"Colubridae\", \"ano_coleta\": 2004.0, \"qualificador_atual\": null}, {\"altitude\": 630.0, \"especie_atual\": \"Joberti\", \"genero_atual\": \"Psomophis\", \"ordem\": \"Squamata\", \"familia\": \"Dipsadidae\", \"ano_coleta\": 2004.0, \"qualificador_atual\": null}, {\"altitude\": 64.0, \"especie_atual\": \"Carinicaudus\", \"genero_atual\": \"Helicops\", \"ordem\": \"Squamata\", \"familia\": \"Dipsadidae\", \"ano_coleta\": 2008.0, \"qualificador_atual\": null}, {\"altitude\": 649.0, \"especie_atual\": \"Hypoconia\", \"genero_atual\": \"Thamnodynastes\", \"ordem\": \"Squamata\", \"familia\": \"Dipsadidae\", \"ano_coleta\": 2014.0, \"qualificador_atual\": null}, {\"altitude\": 65.0, \"especie_atual\": \"Marmoratus\", \"genero_atual\": \"Polychrus\", \"ordem\": \"Squamata\", \"familia\": \"Polychrotidae\", \"ano_coleta\": 2006.0, \"qualificador_atual\": null}, {\"altitude\": 65.0, \"especie_atual\": \"Cervinus\", \"genero_atual\": \"Siphlophis\", \"ordem\": \"Squamata\", \"familia\": \"Dipsadidae\", \"ano_coleta\": 2011.0, \"qualificador_atual\": null}, {\"altitude\": 664.0, \"especie_atual\": \"Miliaris\", \"genero_atual\": \"Liophis\", \"ordem\": \"Squamata\", \"familia\": \"Dipsadidae\", \"ano_coleta\": 2014.0, \"qualificador_atual\": null}, {\"altitude\": 67.0, \"especie_atual\": \"Mabouia\", \"genero_atual\": \"Hemidactylus\", \"ordem\": \"Squamata\", \"familia\": \"Gekkonidae\", \"ano_coleta\": 2008.0, \"qualificador_atual\": null}, {\"altitude\": 67.0, \"especie_atual\": \"Olfersii\", \"genero_atual\": \"Philodryas\", \"ordem\": \"Squamata\", \"familia\": \"Dipsadidae\", \"ano_coleta\": 2014.0, \"qualificador_atual\": null}, {\"altitude\": 68.0, \"especie_atual\": \"Ahaetulla\", \"genero_atual\": \"Leptophis\", \"ordem\": \"Squamata\", \"familia\": \"Colubridae\", \"ano_coleta\": 2003.0, \"qualificador_atual\": null}, {\"altitude\": 68.0, \"especie_atual\": \"Neuwiedii\", \"genero_atual\": \"Xenodon\", \"ordem\": \"Squamata\", \"familia\": \"Dipsadidae\", \"ano_coleta\": 2003.0, \"qualificador_atual\": null}, {\"altitude\": 682.0, \"especie_atual\": \"Fuscoauratus\", \"genero_atual\": \"Anolis\", \"ordem\": \"Squamata\", \"familia\": \"Dactyloidae\", \"ano_coleta\": 2011.0, \"qualificador_atual\": null}, {\"altitude\": 682.0, \"especie_atual\": \"Hispidus\", \"genero_atual\": \"Tropidurus\", \"ordem\": \"Squamata\", \"familia\": \"Tropiduridae\", \"ano_coleta\": 2011.0, \"qualificador_atual\": null}, {\"altitude\": 684.0, \"especie_atual\": \"Caducus\", \"genero_atual\": \"Stenocercus\", \"ordem\": \"Squamata\", \"familia\": \"Tropiduridae\", \"ano_coleta\": 2011.0, \"qualificador_atual\": null}, {\"altitude\": 684.0, \"especie_atual\": \"Caducus\", \"genero_atual\": \"Stenocercus\", \"ordem\": \"Squamata\", \"familia\": \"Tropiduridae\", \"ano_coleta\": 2011.0, \"qualificador_atual\": null}, {\"altitude\": 684.0, \"especie_atual\": \"Caducus\", \"genero_atual\": \"Stenocercus\", \"ordem\": \"Squamata\", \"familia\": \"Tropiduridae\", \"ano_coleta\": 2011.0, \"qualificador_atual\": null}, {\"altitude\": 684.0, \"especie_atual\": \"Occipitalis\", \"genero_atual\": \"Taeniophallus\", \"ordem\": \"Squamata\", \"familia\": \"Dipsadidae\", \"ano_coleta\": 2011.0, \"qualificador_atual\": null}, {\"altitude\": 687.0, \"especie_atual\": \"Caducus\", \"genero_atual\": \"Stenocercus\", \"ordem\": \"Squamata\", \"familia\": \"Tropiduridae\", \"ano_coleta\": 2011.0, \"qualificador_atual\": null}, {\"altitude\": 687.0, \"especie_atual\": \"Caducus\", \"genero_atual\": \"Stenocercus\", \"ordem\": \"Squamata\", \"familia\": \"Tropiduridae\", \"ano_coleta\": 2011.0, \"qualificador_atual\": null}, {\"altitude\": 687.0, \"especie_atual\": \"Caducus\", \"genero_atual\": \"Stenocercus\", \"ordem\": \"Squamata\", \"familia\": \"Tropiduridae\", \"ano_coleta\": 2011.0, \"qualificador_atual\": null}, {\"altitude\": 699.0, \"especie_atual\": \"Neuwiedi\", \"genero_atual\": \"Sibynomorphus\", \"ordem\": \"Squamata\", \"familia\": \"Dipsadidae\", \"ano_coleta\": 2010.0, \"qualificador_atual\": null}, {\"altitude\": 699.0, \"especie_atual\": \"Neuwiedi\", \"genero_atual\": \"Sibynomorphus\", \"ordem\": \"Squamata\", \"familia\": \"Dipsadidae\", \"ano_coleta\": 2010.0, \"qualificador_atual\": null}, {\"altitude\": 7.0, \"especie_atual\": \"Brongersmianus\", \"genero_atual\": \"Amerotyphlops\", \"ordem\": \"Squamata\", \"familia\": \"Typhlopidae\", \"ano_coleta\": 2015.0, \"qualificador_atual\": null}, {\"altitude\": 7.0, \"especie_atual\": \"Brongersmianus\", \"genero_atual\": \"Amerotyphlops\", \"ordem\": \"Squamata\", \"familia\": \"Typhlopidae\", \"ano_coleta\": 2015.0, \"qualificador_atual\": null}, {\"altitude\": 7.0, \"especie_atual\": \"Jararaca\", \"genero_atual\": \"Bothrops\", \"ordem\": \"Squamata\", \"familia\": \"Viperidae\", \"ano_coleta\": 2015.0, \"qualificador_atual\": null}, {\"altitude\": 7.0, \"especie_atual\": \"Littoralis\", \"genero_atual\": \"Glaucomastix\", \"ordem\": \"Squamata\", \"familia\": \"Teiidae\", \"ano_coleta\": 2014.0, \"qualificador_atual\": null}, {\"altitude\": 7.0, \"especie_atual\": \"Darwinii\", \"genero_atual\": \"Gymnodactylus\", \"ordem\": \"Squamata\", \"familia\": \"Phyllodactylidae\", \"ano_coleta\": 2014.0, \"qualificador_atual\": null}, {\"altitude\": 7.0, \"especie_atual\": \"Darwinii\", \"genero_atual\": \"Gymnodactylus\", \"ordem\": \"Squamata\", \"familia\": \"Phyllodactylidae\", \"ano_coleta\": 2014.0, \"qualificador_atual\": null}, {\"altitude\": 7.0, \"especie_atual\": \"Darwinii\", \"genero_atual\": \"Gymnodactylus\", \"ordem\": \"Squamata\", \"familia\": \"Phyllodactylidae\", \"ano_coleta\": 2014.0, \"qualificador_atual\": null}, {\"altitude\": 7.0, \"especie_atual\": \"Darwinii\", \"genero_atual\": \"Gymnodactylus\", \"ordem\": \"Squamata\", \"familia\": \"Phyllodactylidae\", \"ano_coleta\": 2014.0, \"qualificador_atual\": null}, {\"altitude\": 7.0, \"especie_atual\": \"Mabouia\", \"genero_atual\": \"Hemidactylus\", \"ordem\": \"Squamata\", \"familia\": \"Gekkonidae\", \"ano_coleta\": 2015.0, \"qualificador_atual\": null}, {\"altitude\": 7.0, \"especie_atual\": \"Miliaris\", \"genero_atual\": \"Liophis\", \"ordem\": \"Squamata\", \"familia\": \"Dipsadidae\", \"ano_coleta\": 2014.0, \"qualificador_atual\": null}, {\"altitude\": 7.0, \"especie_atual\": \"Miliaris\", \"genero_atual\": \"Liophis\", \"ordem\": \"Squamata\", \"familia\": \"Dipsadidae\", \"ano_coleta\": 2015.0, \"qualificador_atual\": null}, {\"altitude\": 7.0, \"especie_atual\": \"Macrorhyncha\", \"genero_atual\": \"Psychosaura\", \"ordem\": \"Squamata\", \"familia\": \"Scincidae\", \"ano_coleta\": 2014.0, \"qualificador_atual\": null}, {\"altitude\": 7.0, \"especie_atual\": \"Macrorhyncha\", \"genero_atual\": \"Psychosaura\", \"ordem\": \"Squamata\", \"familia\": \"Scincidae\", \"ano_coleta\": 2014.0, \"qualificador_atual\": null}, {\"altitude\": 7.0, \"especie_atual\": \"Macrorhyncha\", \"genero_atual\": \"Psychosaura\", \"ordem\": \"Squamata\", \"familia\": \"Scincidae\", \"ano_coleta\": 2014.0, \"qualificador_atual\": null}, {\"altitude\": 7.0, \"especie_atual\": \"Torquatus\", \"genero_atual\": \"Tropidurus\", \"ordem\": \"Squamata\", \"familia\": \"Tropiduridae\", \"ano_coleta\": 2014.0, \"qualificador_atual\": null}, {\"altitude\": 70.0, \"especie_atual\": \"Aurata\", \"genero_atual\": \"Cercophis\", \"ordem\": \"Squamata\", \"familia\": \"Dipsadidae\", \"ano_coleta\": 2002.0, \"qualificador_atual\": null}, {\"altitude\": 70.0, \"especie_atual\": \"Microcephalum\", \"genero_atual\": \"Leposternon\", \"ordem\": \"Squamata\", \"familia\": \"Amphisbaenidae\", \"ano_coleta\": 2003.0, \"qualificador_atual\": null}, {\"altitude\": 70.0, \"especie_atual\": \"Corallinus\", \"genero_atual\": \"Micrurus\", \"ordem\": \"Squamata\", \"familia\": \"Elapidae\", \"ano_coleta\": 2003.0, \"qualificador_atual\": null}, {\"altitude\": 70.0, \"especie_atual\": \"Corallinus\", \"genero_atual\": \"Micrurus\", \"ordem\": \"Squamata\", \"familia\": \"Elapidae\", \"ano_coleta\": 2003.0, \"qualificador_atual\": null}, {\"altitude\": 70.0, \"especie_atual\": \"Fragilis\", \"genero_atual\": \"Ophiodes\", \"ordem\": \"Squamata\", \"familia\": \"Anguidae\", \"ano_coleta\": 2004.0, \"qualificador_atual\": null}, {\"altitude\": 70.0, \"especie_atual\": \"Nattereri\", \"genero_atual\": \"Thamnodynastes\", \"ordem\": \"Squamata\", \"familia\": \"Dipsadidae\", \"ano_coleta\": 2003.0, \"qualificador_atual\": \"cf.\"}, {\"altitude\": 70.0, \"especie_atual\": \"Neuwiedii\", \"genero_atual\": \"Xenodon\", \"ordem\": \"Squamata\", \"familia\": \"Dipsadidae\", \"ano_coleta\": 2002.0, \"qualificador_atual\": null}, {\"altitude\": 700.0, \"especie_atual\": \"Fasciatus\", \"genero_atual\": \"Diploglossus\", \"ordem\": \"Squamata\", \"familia\": \"Anguidae\", \"ano_coleta\": 1944.0, \"qualificador_atual\": null}, {\"altitude\": 700.0, \"especie_atual\": \"Brasiliensis\", \"genero_atual\": \"Enyalius\", \"ordem\": \"Squamata\", \"familia\": \"Leiosauridae\", \"ano_coleta\": 2013.0, \"qualificador_atual\": null}, {\"altitude\": 700.0, \"especie_atual\": \"Nigropunctata\", \"genero_atual\": \"Mabuya\", \"ordem\": \"Squamata\", \"familia\": \"Scincidae\", \"ano_coleta\": 2011.0, \"qualificador_atual\": null}, {\"altitude\": 700.0, \"especie_atual\": \"Persimilis\", \"genero_atual\": \"Taeniophallus\", \"ordem\": \"Squamata\", \"familia\": \"Dipsadidae\", \"ano_coleta\": 2008.0, \"qualificador_atual\": null}, {\"altitude\": 702.0, \"especie_atual\": \"Merianae\", \"genero_atual\": \"Salvator\", \"ordem\": \"Squamata\", \"familia\": \"Teiidae\", \"ano_coleta\": 2013.0, \"qualificador_atual\": null}, {\"altitude\": 706.0, \"especie_atual\": \"Durissus\", \"genero_atual\": \"Crotalus\", \"ordem\": \"Squamata\", \"familia\": \"Viperidae\", \"ano_coleta\": 2011.0, \"qualificador_atual\": null}, {\"altitude\": 71.0, \"especie_atual\": \"Petolarius\", \"genero_atual\": \"Oxyrhopus\", \"ordem\": \"Squamata\", \"familia\": \"Dipsadidae\", \"ano_coleta\": 2005.0, \"qualificador_atual\": null}, {\"altitude\": 71.0, \"especie_atual\": \"Salgueiroi\", \"genero_atual\": \"Trilepida\", \"ordem\": \"Squamata\", \"familia\": \"Leptotyphlopidae\", \"ano_coleta\": 2005.0, \"qualificador_atual\": null}, {\"altitude\": 71.0, \"especie_atual\": \"Salgueiroi\", \"genero_atual\": \"Trilepida\", \"ordem\": \"Squamata\", \"familia\": \"Leptotyphlopidae\", \"ano_coleta\": 2005.0, \"qualificador_atual\": null}, {\"altitude\": 714.0, \"especie_atual\": \"Agilis\", \"genero_atual\": \"Mabuya\", \"ordem\": \"Squamata\", \"familia\": \"Scincidae\", \"ano_coleta\": 2010.0, \"qualificador_atual\": null}, {\"altitude\": 715.0, \"especie_atual\": \"Femoralis\", \"genero_atual\": \"Polychrus\", \"ordem\": \"Squamata\", \"familia\": \"Polychrotidae\", \"ano_coleta\": 2009.0, \"qualificador_atual\": null}, {\"altitude\": 718.0, \"especie_atual\": \"Modesta\", \"genero_atual\": \"Colobosaura\", \"ordem\": \"Squamata\", \"familia\": \"Gymnophthalmidae\", \"ano_coleta\": 2006.0, \"qualificador_atual\": null}, {\"altitude\": 718.0, \"especie_atual\": \"Durissus\", \"genero_atual\": \"Crotalus\", \"ordem\": \"Squamata\", \"familia\": \"Viperidae\", \"ano_coleta\": 2002.0, \"qualificador_atual\": null}, {\"altitude\": 718.0, \"especie_atual\": \"Durissus\", \"genero_atual\": \"Crotalus\", \"ordem\": \"Squamata\", \"familia\": \"Viperidae\", \"ano_coleta\": 2006.0, \"qualificador_atual\": null}, {\"altitude\": 718.0, \"especie_atual\": \"Mabouia\", \"genero_atual\": \"Hemidactylus\", \"ordem\": \"Squamata\", \"familia\": \"Gekkonidae\", \"ano_coleta\": 2004.0, \"qualificador_atual\": null}, {\"altitude\": 718.0, \"especie_atual\": \"Mabouia\", \"genero_atual\": \"Hemidactylus\", \"ordem\": \"Squamata\", \"familia\": \"Gekkonidae\", \"ano_coleta\": 2004.0, \"qualificador_atual\": null}, {\"altitude\": 718.0, \"especie_atual\": \"Frenata\", \"genero_atual\": \"Mabuya\", \"ordem\": \"Squamata\", \"familia\": \"Scincidae\", \"ano_coleta\": 2007.0, \"qualificador_atual\": null}, {\"altitude\": 718.0, \"especie_atual\": \"Trigeminus\", \"genero_atual\": \"Oxyrhopus\", \"ordem\": \"Squamata\", \"familia\": \"Dipsadidae\", \"ano_coleta\": 1993.0, \"qualificador_atual\": null}, {\"altitude\": 718.0, \"especie_atual\": \"Trigeminus\", \"genero_atual\": \"Oxyrhopus\", \"ordem\": \"Squamata\", \"familia\": \"Dipsadidae\", \"ano_coleta\": 2005.0, \"qualificador_atual\": null}, {\"altitude\": 718.0, \"especie_atual\": \"Trigeminus\", \"genero_atual\": \"Oxyrhopus\", \"ordem\": \"Squamata\", \"familia\": \"Dipsadidae\", \"ano_coleta\": 2004.0, \"qualificador_atual\": null}, {\"altitude\": 718.0, \"especie_atual\": \"Olfersii\", \"genero_atual\": \"Philodryas\", \"ordem\": \"Squamata\", \"familia\": \"Dipsadidae\", \"ano_coleta\": 1996.0, \"qualificador_atual\": null}, {\"altitude\": 718.0, \"especie_atual\": \"Olfersii\", \"genero_atual\": \"Philodryas\", \"ordem\": \"Squamata\", \"familia\": \"Dipsadidae\", \"ano_coleta\": 1996.0, \"qualificador_atual\": null}, {\"altitude\": 718.0, \"especie_atual\": \"Olfersii\", \"genero_atual\": \"Philodryas\", \"ordem\": \"Squamata\", \"familia\": \"Dipsadidae\", \"ano_coleta\": 2001.0, \"qualificador_atual\": null}, {\"altitude\": 718.0, \"especie_atual\": \"Agassizii\", \"genero_atual\": \"Philodryas\", \"ordem\": \"Squamata\", \"familia\": \"Dipsadidae\", \"ano_coleta\": 2005.0, \"qualificador_atual\": null}, {\"altitude\": 718.0, \"especie_atual\": \"Nigra\", \"genero_atual\": \"Pseudoboa\", \"ordem\": \"Squamata\", \"familia\": \"Dipsadidae\", \"ano_coleta\": 2006.0, \"qualificador_atual\": null}, {\"altitude\": 718.0, \"especie_atual\": \"Mikanii\", \"genero_atual\": \"Sibynomorphus\", \"ordem\": \"Squamata\", \"familia\": \"Dipsadidae\", \"ano_coleta\": 2001.0, \"qualificador_atual\": null}, {\"altitude\": 718.0, \"especie_atual\": \"Pullatus\", \"genero_atual\": \"Spilotes\", \"ordem\": \"Squamata\", \"familia\": \"Colubridae\", \"ano_coleta\": 2001.0, \"qualificador_atual\": null}, {\"altitude\": 718.0, \"especie_atual\": \"Pullatus\", \"genero_atual\": \"Spilotes\", \"ordem\": \"Squamata\", \"familia\": \"Colubridae\", \"ano_coleta\": 2007.0, \"qualificador_atual\": null}, {\"altitude\": 718.0, \"especie_atual\": \"Merremi\", \"genero_atual\": \"Xenodon\", \"ordem\": \"Squamata\", \"familia\": \"Dipsadidae\", \"ano_coleta\": 1996.0, \"qualificador_atual\": null}, {\"altitude\": 718.0, \"especie_atual\": \"Merremi\", \"genero_atual\": \"Xenodon\", \"ordem\": \"Squamata\", \"familia\": \"Dipsadidae\", \"ano_coleta\": 2002.0, \"qualificador_atual\": null}, {\"altitude\": 72.0, \"especie_atual\": \"Laevicollis\", \"genero_atual\": \"Chironius\", \"ordem\": \"Squamata\", \"familia\": \"Colubridae\", \"ano_coleta\": 2004.0, \"qualificador_atual\": null}, {\"altitude\": 72.0, \"especie_atual\": \"Cephalostriata\", \"genero_atual\": \"Echinanthera\", \"ordem\": \"Squamata\", \"familia\": \"Dipsadidae\", \"ano_coleta\": 2003.0, \"qualificador_atual\": null}, {\"altitude\": 727.0, \"especie_atual\": \"Wiedi\", \"genero_atual\": \"Amphisbaena\", \"ordem\": \"Squamata\", \"familia\": \"Amphisbaenidae\", \"ano_coleta\": 2006.0, \"qualificador_atual\": null}, {\"altitude\": 727.0, \"especie_atual\": \"Wiedi\", \"genero_atual\": \"Amphisbaena\", \"ordem\": \"Squamata\", \"familia\": \"Amphisbaenidae\", \"ano_coleta\": 2006.0, \"qualificador_atual\": null}, {\"altitude\": 727.0, \"especie_atual\": \"Striatus\", \"genero_atual\": \"Ophiodes\", \"ordem\": \"Squamata\", \"familia\": \"Anguidae\", \"ano_coleta\": 2006.0, \"qualificador_atual\": null}, {\"altitude\": 74.0, \"especie_atual\": \"Cephalostriata\", \"genero_atual\": \"Echinanthera\", \"ordem\": \"Squamata\", \"familia\": \"Dipsadidae\", \"ano_coleta\": 2014.0, \"qualificador_atual\": null}, {\"altitude\": 75.0, \"especie_atual\": \"Moojeni\", \"genero_atual\": \"Bothrops\", \"ordem\": \"Squamata\", \"familia\": \"Viperidae\", \"ano_coleta\": 2011.0, \"qualificador_atual\": null}, {\"altitude\": 75.0, \"especie_atual\": \"Moojeni\", \"genero_atual\": \"Bothrops\", \"ordem\": \"Squamata\", \"familia\": \"Viperidae\", \"ano_coleta\": 2011.0, \"qualificador_atual\": null}, {\"altitude\": 75.0, \"especie_atual\": \"Fuscus\", \"genero_atual\": \"Chironius\", \"ordem\": \"Squamata\", \"familia\": \"Colubridae\", \"ano_coleta\": 2002.0, \"qualificador_atual\": null}, {\"altitude\": 75.0, \"especie_atual\": \"Fuscus\", \"genero_atual\": \"Chironius\", \"ordem\": \"Squamata\", \"familia\": \"Colubridae\", \"ano_coleta\": 2002.0, \"qualificador_atual\": null}, {\"altitude\": 75.0, \"especie_atual\": \"Microcephalum\", \"genero_atual\": \"Leposternon\", \"ordem\": \"Squamata\", \"familia\": \"Amphisbaenidae\", \"ano_coleta\": 2004.0, \"qualificador_atual\": null}, {\"altitude\": 75.0, \"especie_atual\": \"Chaquensis\", \"genero_atual\": \"Thamnodynastes\", \"ordem\": \"Squamata\", \"familia\": \"Dipsadidae\", \"ano_coleta\": 2011.0, \"qualificador_atual\": null}, {\"altitude\": 750.0, \"especie_atual\": \"Hypoconia\", \"genero_atual\": \"Thamnodynastes\", \"ordem\": \"Squamata\", \"familia\": \"Dipsadidae\", \"ano_coleta\": 2013.0, \"qualificador_atual\": null}, {\"altitude\": 76.0, \"especie_atual\": \"Miliaris\", \"genero_atual\": \"Liophis\", \"ordem\": \"Squamata\", \"familia\": \"Dipsadidae\", \"ano_coleta\": 2002.0, \"qualificador_atual\": null}, {\"altitude\": 764.0, \"especie_atual\": \"Corallinus\", \"genero_atual\": \"Micrurus\", \"ordem\": \"Squamata\", \"familia\": \"Elapidae\", \"ano_coleta\": 2013.0, \"qualificador_atual\": null}, {\"altitude\": 769.0, \"especie_atual\": \"Moojeni\", \"genero_atual\": \"Bothrops\", \"ordem\": \"Squamata\", \"familia\": \"Viperidae\", \"ano_coleta\": 2006.0, \"qualificador_atual\": null}, {\"altitude\": 769.0, \"especie_atual\": \"Moojeni\", \"genero_atual\": \"Bothrops\", \"ordem\": \"Squamata\", \"familia\": \"Viperidae\", \"ano_coleta\": 2006.0, \"qualificador_atual\": null}, {\"altitude\": 78.0, \"especie_atual\": \"Fuscus\", \"genero_atual\": \"Chironius\", \"ordem\": \"Squamata\", \"familia\": \"Colubridae\", \"ano_coleta\": 2002.0, \"qualificador_atual\": null}, {\"altitude\": 786.0, \"especie_atual\": \"Caducus\", \"genero_atual\": \"Stenocercus\", \"ordem\": \"Squamata\", \"familia\": \"Tropiduridae\", \"ano_coleta\": 2011.0, \"qualificador_atual\": null}, {\"altitude\": 8.0, \"especie_atual\": \"Brongersmianus\", \"genero_atual\": \"Amerotyphlops\", \"ordem\": \"Squamata\", \"familia\": \"Typhlopidae\", \"ano_coleta\": 2014.0, \"qualificador_atual\": null}, {\"altitude\": 8.0, \"especie_atual\": \"Brongersmianus\", \"genero_atual\": \"Amerotyphlops\", \"ordem\": \"Squamata\", \"familia\": \"Typhlopidae\", \"ano_coleta\": 2014.0, \"qualificador_atual\": null}, {\"altitude\": 8.0, \"especie_atual\": \"Brongersmianus\", \"genero_atual\": \"Amerotyphlops\", \"ordem\": \"Squamata\", \"familia\": \"Typhlopidae\", \"ano_coleta\": 2014.0, \"qualificador_atual\": null}, {\"altitude\": 8.0, \"especie_atual\": \"Brongersmianus\", \"genero_atual\": \"Amerotyphlops\", \"ordem\": \"Squamata\", \"familia\": \"Typhlopidae\", \"ano_coleta\": 2014.0, \"qualificador_atual\": null}, {\"altitude\": 8.0, \"especie_atual\": \"Brongersmianus\", \"genero_atual\": \"Amerotyphlops\", \"ordem\": \"Squamata\", \"familia\": \"Typhlopidae\", \"ano_coleta\": 2014.0, \"qualificador_atual\": null}, {\"altitude\": 8.0, \"especie_atual\": \"Brongersmianus\", \"genero_atual\": \"Amerotyphlops\", \"ordem\": \"Squamata\", \"familia\": \"Typhlopidae\", \"ano_coleta\": 2014.0, \"qualificador_atual\": null}, {\"altitude\": 8.0, \"especie_atual\": \"Brongersmianus\", \"genero_atual\": \"Amerotyphlops\", \"ordem\": \"Squamata\", \"familia\": \"Typhlopidae\", \"ano_coleta\": 2014.0, \"qualificador_atual\": null}, {\"altitude\": 8.0, \"especie_atual\": \"Brongersmianus\", \"genero_atual\": \"Amerotyphlops\", \"ordem\": \"Squamata\", \"familia\": \"Typhlopidae\", \"ano_coleta\": 2015.0, \"qualificador_atual\": null}, {\"altitude\": 8.0, \"especie_atual\": \"Brongersmianus\", \"genero_atual\": \"Amerotyphlops\", \"ordem\": \"Squamata\", \"familia\": \"Typhlopidae\", \"ano_coleta\": 2015.0, \"qualificador_atual\": null}, {\"altitude\": 8.0, \"especie_atual\": \"Brongersmianus\", \"genero_atual\": \"Amerotyphlops\", \"ordem\": \"Squamata\", \"familia\": \"Typhlopidae\", \"ano_coleta\": 2015.0, \"qualificador_atual\": null}, {\"altitude\": 8.0, \"especie_atual\": \"Brongersmianus\", \"genero_atual\": \"Amerotyphlops\", \"ordem\": \"Squamata\", \"familia\": \"Typhlopidae\", \"ano_coleta\": 2015.0, \"qualificador_atual\": null}, {\"altitude\": 8.0, \"especie_atual\": \"Melanocephala\", \"genero_atual\": \"Tantilla\", \"ordem\": \"Squamata\", \"familia\": \"Colubridae\", \"ano_coleta\": 2015.0, \"qualificador_atual\": null}, {\"altitude\": 80.0, \"especie_atual\": \"Fuscus\", \"genero_atual\": \"Chironius\", \"ordem\": \"Squamata\", \"familia\": \"Colubridae\", \"ano_coleta\": 2003.0, \"qualificador_atual\": null}, {\"altitude\": 80.0, \"especie_atual\": \"Microcephalum\", \"genero_atual\": \"Leposternon\", \"ordem\": \"Squamata\", \"familia\": \"Amphisbaenidae\", \"ano_coleta\": 2003.0, \"qualificador_atual\": null}, {\"altitude\": 80.0, \"especie_atual\": \"Torquatus\", \"genero_atual\": \"Tropidurus\", \"ordem\": \"Squamata\", \"familia\": \"Tropiduridae\", \"ano_coleta\": 2003.0, \"qualificador_atual\": null}, {\"altitude\": 800.0, \"especie_atual\": \"Jararaca\", \"genero_atual\": \"Bothrops\", \"ordem\": \"Squamata\", \"familia\": \"Viperidae\", \"ano_coleta\": 1947.0, \"qualificador_atual\": null}, {\"altitude\": 800.0, \"especie_atual\": \"Moojeni\", \"genero_atual\": \"Bothrops\", \"ordem\": \"Squamata\", \"familia\": \"Viperidae\", \"ano_coleta\": 2014.0, \"qualificador_atual\": null}, {\"altitude\": 800.0, \"especie_atual\": \"Angulatus\", \"genero_atual\": \"Helicops\", \"ordem\": \"Squamata\", \"familia\": \"Dipsadidae\", \"ano_coleta\": 2014.0, \"qualificador_atual\": null}, {\"altitude\": 802.0, \"especie_atual\": \"Neuwiedii\", \"genero_atual\": \"Sibynomorphus\", \"ordem\": \"Squamata\", \"familia\": \"Dipsadidae\", \"ano_coleta\": 2014.0, \"qualificador_atual\": null}, {\"altitude\": 809.0, \"especie_atual\": \"Quadrilineata\", \"genero_atual\": \"Cercosaura\", \"ordem\": \"Squamata\", \"familia\": \"Gymnophthalmidae\", \"ano_coleta\": 2011.0, \"qualificador_atual\": null}, {\"altitude\": 809.0, \"especie_atual\": \"Lavillai\", \"genero_atual\": \"Sibynomorphus\", \"ordem\": \"Squamata\", \"familia\": \"Dipsadidae\", \"ano_coleta\": 2011.0, \"qualificador_atual\": null}, {\"altitude\": 809.0, \"especie_atual\": \"Caducus\", \"genero_atual\": \"Stenocercus\", \"ordem\": \"Squamata\", \"familia\": \"Tropiduridae\", \"ano_coleta\": 2011.0, \"qualificador_atual\": null}, {\"altitude\": 815.0, \"especie_atual\": \"Perditus\", \"genero_atual\": \"Enyalius\", \"ordem\": \"Squamata\", \"familia\": \"Leiosauridae\", \"ano_coleta\": 1956.0, \"qualificador_atual\": null}, {\"altitude\": 815.0, \"especie_atual\": \"Decoratus\", \"genero_atual\": \"Micrurus\", \"ordem\": \"Squamata\", \"familia\": \"Elapidae\", \"ano_coleta\": 1956.0, \"qualificador_atual\": null}, {\"altitude\": 83.0, \"especie_atual\": \"Rhachicephala\", \"genero_atual\": \"Mesobaena\", \"ordem\": \"Squamata\", \"familia\": \"Amphisbaenidae\", \"ano_coleta\": 2006.0, \"qualificador_atual\": null}, {\"altitude\": 83.0, \"especie_atual\": \"Rhachicephala\", \"genero_atual\": \"Mesobaena\", \"ordem\": \"Squamata\", \"familia\": \"Amphisbaenidae\", \"ano_coleta\": 2006.0, \"qualificador_atual\": null}, {\"altitude\": 830.0, \"especie_atual\": \"Decoratus\", \"genero_atual\": \"Micrurus\", \"ordem\": \"Squamata\", \"familia\": \"Elapidae\", \"ano_coleta\": 1957.0, \"qualificador_atual\": null}, {\"altitude\": 834.0, \"especie_atual\": \"Durissus\", \"genero_atual\": \"Crotalus\", \"ordem\": \"Squamata\", \"familia\": \"Viperidae\", \"ano_coleta\": 2015.0, \"qualificador_atual\": null}, {\"altitude\": 84.0, \"especie_atual\": \"Notaeus\", \"genero_atual\": \"Eunectes\", \"ordem\": \"Squamata\", \"familia\": \"Boidae\", \"ano_coleta\": 2011.0, \"qualificador_atual\": null}, {\"altitude\": 84.0, \"especie_atual\": \"Petolarius\", \"genero_atual\": \"Oxyrhopus\", \"ordem\": \"Squamata\", \"familia\": \"Dipsadidae\", \"ano_coleta\": 2011.0, \"qualificador_atual\": null}, {\"altitude\": 84.0, \"especie_atual\": \"Turgidus\", \"genero_atual\": \"Sibynomorphus\", \"ordem\": \"Squamata\", \"familia\": \"Dipsadidae\", \"ano_coleta\": 2011.0, \"qualificador_atual\": null}, {\"altitude\": 840.0, \"especie_atual\": \"Melanocephala\", \"genero_atual\": \"Tantilla\", \"ordem\": \"Squamata\", \"familia\": \"Colubridae\", \"ano_coleta\": 2008.0, \"qualificador_atual\": null}, {\"altitude\": 842.0, \"especie_atual\": \"Brongersmianus\", \"genero_atual\": \"Amerotyphlops\", \"ordem\": \"Squamata\", \"familia\": \"Typhlopidae\", \"ano_coleta\": 2014.0, \"qualificador_atual\": null}, {\"altitude\": 844.0, \"especie_atual\": \"Jararaca\", \"genero_atual\": \"Bothrops\", \"ordem\": \"Squamata\", \"familia\": \"Viperidae\", \"ano_coleta\": 2014.0, \"qualificador_atual\": null}, {\"altitude\": 848.0, \"especie_atual\": \"Meridionalis\", \"genero_atual\": \"Anolis\", \"ordem\": \"Squamata\", \"familia\": \"Polychrotidae\", \"ano_coleta\": 2011.0, \"qualificador_atual\": null}, {\"altitude\": 848.0, \"especie_atual\": \"Vellardi\", \"genero_atual\": \"Epictia\", \"ordem\": \"Squamata\", \"familia\": \"Leptotyphlopidae\", \"ano_coleta\": 2011.0, \"qualificador_atual\": null}, {\"altitude\": 848.0, \"especie_atual\": \"Viridistriga\", \"genero_atual\": \"Kentropyx\", \"ordem\": \"Squamata\", \"familia\": \"Teiidae\", \"ano_coleta\": 2011.0, \"qualificador_atual\": null}, {\"altitude\": 848.0, \"especie_atual\": \"Caducus\", \"genero_atual\": \"Stenocercus\", \"ordem\": \"Squamata\", \"familia\": \"Tropiduridae\", \"ano_coleta\": 2011.0, \"qualificador_atual\": null}, {\"altitude\": 851.0, \"especie_atual\": \"Melanocephala\", \"genero_atual\": \"Tantilla\", \"ordem\": \"Squamata\", \"familia\": \"Colubridae\", \"ano_coleta\": 2008.0, \"qualificador_atual\": null}, {\"altitude\": 863.0, \"especie_atual\": \"Nan\", \"genero_atual\": \"Amphisbaena\", \"ordem\": \"Squamata\", \"familia\": \"Amphisbaenidae\", \"ano_coleta\": 2007.0, \"qualificador_atual\": \"sp.\"}, {\"altitude\": 864.0, \"especie_atual\": \"Melanocephala\", \"genero_atual\": \"Tantilla\", \"ordem\": \"Squamata\", \"familia\": \"Colubridae\", \"ano_coleta\": 2009.0, \"qualificador_atual\": null}, {\"altitude\": 87.0, \"especie_atual\": \"Ameiva\", \"genero_atual\": \"Ameiva\", \"ordem\": \"Squamata\", \"familia\": \"Teiidae\", \"ano_coleta\": 2011.0, \"qualificador_atual\": null}, {\"altitude\": 87.0, \"especie_atual\": \"Ameiva\", \"genero_atual\": \"Ameiva\", \"ordem\": \"Squamata\", \"familia\": \"Teiidae\", \"ano_coleta\": 2011.0, \"qualificador_atual\": null}, {\"altitude\": 87.0, \"especie_atual\": \"Chaquensis\", \"genero_atual\": \"Thamnodynastes\", \"ordem\": \"Squamata\", \"familia\": \"Dipsadidae\", \"ano_coleta\": 2011.0, \"qualificador_atual\": null}, {\"altitude\": 870.0, \"especie_atual\": \"Melanocephala\", \"genero_atual\": \"Tantilla\", \"ordem\": \"Squamata\", \"familia\": \"Colubridae\", \"ano_coleta\": 2008.0, \"qualificador_atual\": null}, {\"altitude\": 871.0, \"especie_atual\": \"Durissus\", \"genero_atual\": \"Crotalus\", \"ordem\": \"Squamata\", \"familia\": \"Viperidae\", \"ano_coleta\": 2004.0, \"qualificador_atual\": null}, {\"altitude\": 871.0, \"especie_atual\": \"Guerini\", \"genero_atual\": \"Phimophis\", \"ordem\": \"Squamata\", \"familia\": \"Dipsadidae\", \"ano_coleta\": 2005.0, \"qualificador_atual\": null}, {\"altitude\": 875.0, \"especie_atual\": \"Melanocephala\", \"genero_atual\": \"Tantilla\", \"ordem\": \"Squamata\", \"familia\": \"Colubridae\", \"ano_coleta\": 2009.0, \"qualificador_atual\": null}, {\"altitude\": 876.0, \"especie_atual\": \"Moojeni\", \"genero_atual\": \"Bothrops\", \"ordem\": \"Squamata\", \"familia\": \"Viperidae\", \"ano_coleta\": 2013.0, \"qualificador_atual\": null}, {\"altitude\": 876.0, \"especie_atual\": \"Annulata\", \"genero_atual\": \"Leptodeira\", \"ordem\": \"Squamata\", \"familia\": \"Dipsadidae\", \"ano_coleta\": 2013.0, \"qualificador_atual\": null}, {\"altitude\": 876.0, \"especie_atual\": \"Lanei\", \"genero_atual\": \"Thamnodynastes\", \"ordem\": \"Squamata\", \"familia\": \"Dipsadidae\", \"ano_coleta\": 2013.0, \"qualificador_atual\": null}, {\"altitude\": 878.0, \"especie_atual\": \"Quadrilineatus\", \"genero_atual\": \"Tupinambis\", \"ordem\": \"Squamata\", \"familia\": \"Teiidae\", \"ano_coleta\": 2006.0, \"qualificador_atual\": null}, {\"altitude\": 88.0, \"especie_atual\": \"Chaquensis\", \"genero_atual\": \"Thamnodynastes\", \"ordem\": \"Squamata\", \"familia\": \"Dipsadidae\", \"ano_coleta\": 2011.0, \"qualificador_atual\": null}, {\"altitude\": 88.0, \"especie_atual\": \"Merremi\", \"genero_atual\": \"Xenodon\", \"ordem\": \"Squamata\", \"familia\": \"Dipsadidae\", \"ano_coleta\": 2011.0, \"qualificador_atual\": null}, {\"altitude\": 880.0, \"especie_atual\": \"Melanocephala\", \"genero_atual\": \"Tantilla\", \"ordem\": \"Squamata\", \"familia\": \"Colubridae\", \"ano_coleta\": 2008.0, \"qualificador_atual\": null}, {\"altitude\": 889.0, \"especie_atual\": \"Pretrei\", \"genero_atual\": \"Amphisbaena\", \"ordem\": \"Squamata\", \"familia\": \"Amphisbaenidae\", \"ano_coleta\": 2014.0, \"qualificador_atual\": null}, {\"altitude\": 889.0, \"especie_atual\": \"Torquatus\", \"genero_atual\": \"Tropidurus\", \"ordem\": \"Squamata\", \"familia\": \"Tropiduridae\", \"ano_coleta\": 2006.0, \"qualificador_atual\": null}, {\"altitude\": 894.0, \"especie_atual\": \"Francoi\", \"genero_atual\": \"Atractus\", \"ordem\": \"Squamata\", \"familia\": \"Dipsadidae\", \"ano_coleta\": 2014.0, \"qualificador_atual\": null}, {\"altitude\": 896.0, \"especie_atual\": \"Melanocephala\", \"genero_atual\": \"Tantilla\", \"ordem\": \"Squamata\", \"familia\": \"Colubridae\", \"ano_coleta\": 2008.0, \"qualificador_atual\": null}, {\"altitude\": 896.0, \"especie_atual\": \"Melanocephala\", \"genero_atual\": \"Tantilla\", \"ordem\": \"Squamata\", \"familia\": \"Colubridae\", \"ano_coleta\": 2008.0, \"qualificador_atual\": null}, {\"altitude\": 896.0, \"especie_atual\": \"Melanocephala\", \"genero_atual\": \"Tantilla\", \"ordem\": \"Squamata\", \"familia\": \"Colubridae\", \"ano_coleta\": 2009.0, \"qualificador_atual\": null}, {\"altitude\": 9.0, \"especie_atual\": \"Littoralis\", \"genero_atual\": \"Ameivula\", \"ordem\": \"Squamata\", \"familia\": \"Teiidae\", \"ano_coleta\": 2011.0, \"qualificador_atual\": null}, {\"altitude\": 9.0, \"especie_atual\": \"Littoralis\", \"genero_atual\": \"Ameivula\", \"ordem\": \"Squamata\", \"familia\": \"Teiidae\", \"ano_coleta\": 2011.0, \"qualificador_atual\": null}, {\"altitude\": 9.0, \"especie_atual\": \"Littoralis\", \"genero_atual\": \"Ameivula\", \"ordem\": \"Squamata\", \"familia\": \"Teiidae\", \"ano_coleta\": 2011.0, \"qualificador_atual\": null}, {\"altitude\": 9.0, \"especie_atual\": \"Littoralis\", \"genero_atual\": \"Ameivula\", \"ordem\": \"Squamata\", \"familia\": \"Teiidae\", \"ano_coleta\": 2011.0, \"qualificador_atual\": null}, {\"altitude\": 9.0, \"especie_atual\": \"Littoralis\", \"genero_atual\": \"Ameivula\", \"ordem\": \"Squamata\", \"familia\": \"Teiidae\", \"ano_coleta\": 2011.0, \"qualificador_atual\": null}, {\"altitude\": 9.0, \"especie_atual\": \"Littoralis\", \"genero_atual\": \"Ameivula\", \"ordem\": \"Squamata\", \"familia\": \"Teiidae\", \"ano_coleta\": 2011.0, \"qualificador_atual\": null}, {\"altitude\": 9.0, \"especie_atual\": \"Littoralis\", \"genero_atual\": \"Ameivula\", \"ordem\": \"Squamata\", \"familia\": \"Teiidae\", \"ano_coleta\": 2011.0, \"qualificador_atual\": null}, {\"altitude\": 9.0, \"especie_atual\": \"Littoralis\", \"genero_atual\": \"Ameivula\", \"ordem\": \"Squamata\", \"familia\": \"Teiidae\", \"ano_coleta\": 2011.0, \"qualificador_atual\": null}, {\"altitude\": 9.0, \"especie_atual\": \"Littoralis\", \"genero_atual\": \"Ameivula\", \"ordem\": \"Squamata\", \"familia\": \"Teiidae\", \"ano_coleta\": 2010.0, \"qualificador_atual\": null}, {\"altitude\": 9.0, \"especie_atual\": \"Littoralis\", \"genero_atual\": \"Ameivula\", \"ordem\": \"Squamata\", \"familia\": \"Teiidae\", \"ano_coleta\": 2010.0, \"qualificador_atual\": null}, {\"altitude\": 9.0, \"especie_atual\": \"Littoralis\", \"genero_atual\": \"Ameivula\", \"ordem\": \"Squamata\", \"familia\": \"Teiidae\", \"ano_coleta\": 2010.0, \"qualificador_atual\": null}, {\"altitude\": 9.0, \"especie_atual\": \"Littoralis\", \"genero_atual\": \"Ameivula\", \"ordem\": \"Squamata\", \"familia\": \"Teiidae\", \"ano_coleta\": 2010.0, \"qualificador_atual\": null}, {\"altitude\": 9.0, \"especie_atual\": \"Littoralis\", \"genero_atual\": \"Ameivula\", \"ordem\": \"Squamata\", \"familia\": \"Teiidae\", \"ano_coleta\": 2010.0, \"qualificador_atual\": null}, {\"altitude\": 9.0, \"especie_atual\": \"Brongersmianus\", \"genero_atual\": \"Amerotyphlops\", \"ordem\": \"Squamata\", \"familia\": \"Typhlopidae\", \"ano_coleta\": 2014.0, \"qualificador_atual\": null}, {\"altitude\": 9.0, \"especie_atual\": \"Brongersmianus\", \"genero_atual\": \"Amerotyphlops\", \"ordem\": \"Squamata\", \"familia\": \"Typhlopidae\", \"ano_coleta\": 2014.0, \"qualificador_atual\": null}, {\"altitude\": 9.0, \"especie_atual\": \"Brongersmianus\", \"genero_atual\": \"Amerotyphlops\", \"ordem\": \"Squamata\", \"familia\": \"Typhlopidae\", \"ano_coleta\": 2014.0, \"qualificador_atual\": null}, {\"altitude\": 9.0, \"especie_atual\": \"Brongersmianus\", \"genero_atual\": \"Amerotyphlops\", \"ordem\": \"Squamata\", \"familia\": \"Typhlopidae\", \"ano_coleta\": 2014.0, \"qualificador_atual\": null}, {\"altitude\": 9.0, \"especie_atual\": \"Brongersmianus\", \"genero_atual\": \"Amerotyphlops\", \"ordem\": \"Squamata\", \"familia\": \"Typhlopidae\", \"ano_coleta\": 2015.0, \"qualificador_atual\": null}, {\"altitude\": 9.0, \"especie_atual\": \"Brongersmianus\", \"genero_atual\": \"Amerotyphlops\", \"ordem\": \"Squamata\", \"familia\": \"Typhlopidae\", \"ano_coleta\": 2015.0, \"qualificador_atual\": null}, {\"altitude\": 9.0, \"especie_atual\": \"Brongersmianus\", \"genero_atual\": \"Amerotyphlops\", \"ordem\": \"Squamata\", \"familia\": \"Typhlopidae\", \"ano_coleta\": 2015.0, \"qualificador_atual\": null}, {\"altitude\": 9.0, \"especie_atual\": \"Brongersmianus\", \"genero_atual\": \"Amerotyphlops\", \"ordem\": \"Squamata\", \"familia\": \"Typhlopidae\", \"ano_coleta\": 2015.0, \"qualificador_atual\": null}, {\"altitude\": 9.0, \"especie_atual\": \"Jararaca\", \"genero_atual\": \"Bothrops\", \"ordem\": \"Squamata\", \"familia\": \"Viperidae\", \"ano_coleta\": 2015.0, \"qualificador_atual\": null}, {\"altitude\": 9.0, \"especie_atual\": \"Darwinii\", \"genero_atual\": \"Gymnodactylus\", \"ordem\": \"Squamata\", \"familia\": \"Phyllodactylidae\", \"ano_coleta\": 2010.0, \"qualificador_atual\": null}, {\"altitude\": 9.0, \"especie_atual\": \"Mabouia\", \"genero_atual\": \"Hemidactylus\", \"ordem\": \"Squamata\", \"familia\": \"Gekkonidae\", \"ano_coleta\": 2008.0, \"qualificador_atual\": null}, {\"altitude\": 9.0, \"especie_atual\": \"Mabouia\", \"genero_atual\": \"Hemidactylus\", \"ordem\": \"Squamata\", \"familia\": \"Gekkonidae\", \"ano_coleta\": 2011.0, \"qualificador_atual\": null}, {\"altitude\": 9.0, \"especie_atual\": \"Miliaris\", \"genero_atual\": \"Liophis\", \"ordem\": \"Squamata\", \"familia\": \"Dipsadidae\", \"ano_coleta\": 2008.0, \"qualificador_atual\": null}, {\"altitude\": 9.0, \"especie_atual\": \"Miliaris\", \"genero_atual\": \"Liophis\", \"ordem\": \"Squamata\", \"familia\": \"Dipsadidae\", \"ano_coleta\": 2010.0, \"qualificador_atual\": null}, {\"altitude\": 9.0, \"especie_atual\": \"Miliaris\", \"genero_atual\": \"Liophis\", \"ordem\": \"Squamata\", \"familia\": \"Dipsadidae\", \"ano_coleta\": 2011.0, \"qualificador_atual\": null}, {\"altitude\": 9.0, \"especie_atual\": \"Corallinus\", \"genero_atual\": \"Micrurus\", \"ordem\": \"Squamata\", \"familia\": \"Elapidae\", \"ano_coleta\": 2011.0, \"qualificador_atual\": null}, {\"altitude\": 9.0, \"especie_atual\": \"Olfersii\", \"genero_atual\": \"Philodryas\", \"ordem\": \"Squamata\", \"familia\": \"Dipsadidae\", \"ano_coleta\": 2014.0, \"qualificador_atual\": null}, {\"altitude\": 9.0, \"especie_atual\": \"Melanocephala\", \"genero_atual\": \"Tantilla\", \"ordem\": \"Squamata\", \"familia\": \"Colubridae\", \"ano_coleta\": 2010.0, \"qualificador_atual\": null}, {\"altitude\": 9.0, \"especie_atual\": \"Melanocephala\", \"genero_atual\": \"Tantilla\", \"ordem\": \"Squamata\", \"familia\": \"Colubridae\", \"ano_coleta\": 2010.0, \"qualificador_atual\": null}, {\"altitude\": 9.0, \"especie_atual\": \"Torquatus\", \"genero_atual\": \"Tropidurus\", \"ordem\": \"Squamata\", \"familia\": \"Tropiduridae\", \"ano_coleta\": 2011.0, \"qualificador_atual\": null}, {\"altitude\": 90.0, \"especie_atual\": \"Ahaetulla\", \"genero_atual\": \"Leptophis\", \"ordem\": \"Squamata\", \"familia\": \"Colubridae\", \"ano_coleta\": 2011.0, \"qualificador_atual\": null}, {\"altitude\": 900.0, \"especie_atual\": \"Meridionalis\", \"genero_atual\": \"Anolis\", \"ordem\": \"Squamata\", \"familia\": \"Dactyloidae\", \"ano_coleta\": 2011.0, \"qualificador_atual\": null}, {\"altitude\": 900.0, \"especie_atual\": \"Meridionalis\", \"genero_atual\": \"Anolis\", \"ordem\": \"Squamata\", \"familia\": \"Dactyloidae\", \"ano_coleta\": 2011.0, \"qualificador_atual\": null}, {\"altitude\": 900.0, \"especie_atual\": \"Meridionalis\", \"genero_atual\": \"Anolis\", \"ordem\": \"Squamata\", \"familia\": \"Polychrotidae\", \"ano_coleta\": 2011.0, \"qualificador_atual\": null}, {\"altitude\": 900.0, \"especie_atual\": \"Jararaca\", \"genero_atual\": \"Bothrops\", \"ordem\": \"Squamata\", \"familia\": \"Viperidae\", \"ano_coleta\": 2010.0, \"qualificador_atual\": null}, {\"altitude\": 900.0, \"especie_atual\": \"Viridistriga\", \"genero_atual\": \"Kentropyx\", \"ordem\": \"Squamata\", \"familia\": \"Teiidae\", \"ano_coleta\": 2011.0, \"qualificador_atual\": null}, {\"altitude\": 900.0, \"especie_atual\": \"Decoratus\", \"genero_atual\": \"Micrurus\", \"ordem\": \"Squamata\", \"familia\": \"Elapidae\", \"ano_coleta\": 1944.0, \"qualificador_atual\": null}, {\"altitude\": 900.0, \"especie_atual\": \"Longicaudatus\", \"genero_atual\": \"Siphlophis\", \"ordem\": \"Squamata\", \"familia\": \"Dipsadidae\", \"ano_coleta\": 2008.0, \"qualificador_atual\": null}, {\"altitude\": 905.0, \"especie_atual\": \"Frontalis\", \"genero_atual\": \"Micrurus\", \"ordem\": \"Squamata\", \"familia\": \"Elapidae\", \"ano_coleta\": 2006.0, \"qualificador_atual\": null}, {\"altitude\": 918.0, \"especie_atual\": \"Clathratus\", \"genero_atual\": \"Oxyrhopus\", \"ordem\": \"Squamata\", \"familia\": \"Dipsadidae\", \"ano_coleta\": 2013.0, \"qualificador_atual\": null}, {\"altitude\": 923.0, \"especie_atual\": \"Acutirostris\", \"genero_atual\": \"Polychrus\", \"ordem\": \"Squamata\", \"familia\": \"Polychrotidae\", \"ano_coleta\": 2011.0, \"qualificador_atual\": null}, {\"altitude\": 928.0, \"especie_atual\": \"Francoi\", \"genero_atual\": \"Atractus\", \"ordem\": \"Squamata\", \"familia\": \"Dipsadidae\", \"ano_coleta\": 2014.0, \"qualificador_atual\": null}, {\"altitude\": 944.0, \"especie_atual\": \"Riveroi\", \"genero_atual\": \"Atractus\", \"ordem\": \"Squamata\", \"familia\": \"Dipsadidae\", \"ano_coleta\": 2011.0, \"qualificador_atual\": null}, {\"altitude\": 95.0, \"especie_atual\": \"Humeralis\", \"genero_atual\": \"Gonatodes\", \"ordem\": \"Squamata\", \"familia\": \"Sphaerodactylidae\", \"ano_coleta\": 2011.0, \"qualificador_atual\": null}, {\"altitude\": 95.0, \"especie_atual\": \"Humeralis\", \"genero_atual\": \"Gonatodes\", \"ordem\": \"Squamata\", \"familia\": \"Sphaerodactylidae\", \"ano_coleta\": 2011.0, \"qualificador_atual\": null}, {\"altitude\": 95.0, \"especie_atual\": \"Caesurus\", \"genero_atual\": \"Hydrops\", \"ordem\": \"Squamata\", \"familia\": \"Dipsadidae\", \"ano_coleta\": 2011.0, \"qualificador_atual\": null}, {\"altitude\": 95.0, \"especie_atual\": \"Turgidus\", \"genero_atual\": \"Sibynomorphus\", \"ordem\": \"Squamata\", \"familia\": \"Dipsadidae\", \"ano_coleta\": 2011.0, \"qualificador_atual\": null}, {\"altitude\": 95.0, \"especie_atual\": \"Chaquensis\", \"genero_atual\": \"Thamnodynastes\", \"ordem\": \"Squamata\", \"familia\": \"Dipsadidae\", \"ano_coleta\": 2011.0, \"qualificador_atual\": null}, {\"altitude\": 97.0, \"especie_atual\": \"Dapsilis\", \"genero_atual\": \"Atractus\", \"ordem\": \"Squamata\", \"familia\": \"Dipsadidae\", \"ano_coleta\": 2007.0, \"qualificador_atual\": null}, {\"altitude\": 974.0, \"especie_atual\": \"Meridionalis\", \"genero_atual\": \"Anolis\", \"ordem\": \"Squamata\", \"familia\": \"Dactyloidae\", \"ano_coleta\": 2011.0, \"qualificador_atual\": null}, {\"altitude\": 974.0, \"especie_atual\": \"Meridionalis\", \"genero_atual\": \"Anolis\", \"ordem\": \"Squamata\", \"familia\": \"Dactyloidae\", \"ano_coleta\": 2011.0, \"qualificador_atual\": null}, {\"altitude\": 974.0, \"especie_atual\": \"Meridionalis\", \"genero_atual\": \"Anolis\", \"ordem\": \"Squamata\", \"familia\": \"Polychrotidae\", \"ano_coleta\": 2011.0, \"qualificador_atual\": null}, {\"altitude\": 974.0, \"especie_atual\": \"Meridionalis\", \"genero_atual\": \"Anolis\", \"ordem\": \"Squamata\", \"familia\": \"Polychrotidae\", \"ano_coleta\": 2011.0, \"qualificador_atual\": null}, {\"altitude\": 974.0, \"especie_atual\": \"Guaporicola\", \"genero_atual\": \"Mabuya\", \"ordem\": \"Squamata\", \"familia\": \"Scincidae\", \"ano_coleta\": 2011.0, \"qualificador_atual\": null}, {\"altitude\": 976.0, \"especie_atual\": \"Lanei\", \"genero_atual\": \"Thamnodynastes\", \"ordem\": \"Squamata\", \"familia\": \"Dipsadidae\", \"ano_coleta\": 2013.0, \"qualificador_atual\": \"cf.\"}, {\"altitude\": 980.0, \"especie_atual\": \"Perditus\", \"genero_atual\": \"Enyalius\", \"ordem\": \"Squamata\", \"familia\": \"Leiosauridae\", \"ano_coleta\": 2013.0, \"qualificador_atual\": null}, {\"altitude\": 990.0, \"especie_atual\": \"Riveroi\", \"genero_atual\": \"Atractus\", \"ordem\": \"Squamata\", \"familia\": \"Dipsadidae\", \"ano_coleta\": 2011.0, \"qualificador_atual\": null}, {\"altitude\": 996.0, \"especie_atual\": \"Nan\", \"genero_atual\": \"Anolis\", \"ordem\": \"Squamata\", \"familia\": \"Polychrotidae\", \"ano_coleta\": 2015.0, \"qualificador_atual\": \"sp.\"}, {\"altitude\": 996.0, \"especie_atual\": \"Nan\", \"genero_atual\": \"Anolis\", \"ordem\": \"Squamata\", \"familia\": \"Polychrotidae\", \"ano_coleta\": 2015.0, \"qualificador_atual\": \"sp.\"}, {\"altitude\": 996.0, \"especie_atual\": \"Nan\", \"genero_atual\": \"Anolis\", \"ordem\": \"Squamata\", \"familia\": \"Polychrotidae\", \"ano_coleta\": 2015.0, \"qualificador_atual\": \"sp.\"}, {\"altitude\": 996.0, \"especie_atual\": \"Nan\", \"genero_atual\": \"Anolis\", \"ordem\": \"Squamata\", \"familia\": \"Polychrotidae\", \"ano_coleta\": 2015.0, \"qualificador_atual\": \"sp.\"}, {\"altitude\": 996.0, \"especie_atual\": \"Nan\", \"genero_atual\": \"Anolis\", \"ordem\": \"Squamata\", \"familia\": \"Polychrotidae\", \"ano_coleta\": 2015.0, \"qualificador_atual\": \"sp.\"}]}}, {\"mode\": \"vega-lite\"});\n",
       "</script>"
      ],
      "text/plain": [
       "alt.Chart(...)"
      ]
     },
     "execution_count": 167,
     "metadata": {},
     "output_type": "execute_result"
    }
   ],
   "source": [
    "# ordering x-axis per mean altitude - OUTLIER: ordem nula\n",
    "temp = alt.Chart(teste[~teste['ordem'].isna()], title='Altitude per genus',\n",
    "                width= 800).mark_circle().encode(\n",
    "    x = alt.X('genero_atual', type='nominal', title='Genus and species (actual)',\n",
    "             sort=alt.EncodingSortField('altitude', op=\"max\", order=\"ascending\")),\n",
    "    y = alt.Y('altitude', type='quantitative', title='Altitude (in meters)'),\n",
    "    color = alt.Color('ordem', scale= alt.Scale(domain=ordens, range=cores)),\n",
    "    tooltip = alt.Tooltip(['ordem', 'genero_atual', 'altitude'])\n",
    ")\n",
    "\n",
    "temp"
   ]
  },
  {
   "cell_type": "code",
   "execution_count": 139,
   "metadata": {
    "ExecuteTime": {
     "end_time": "2020-07-14T20:24:28.838187Z",
     "start_time": "2020-07-14T20:24:28.729503Z"
    }
   },
   "outputs": [
    {
     "data": {
      "text/html": [
       "\n",
       "<div id=\"altair-viz-73f1eea8b06b4269b0ced3b1adeb99a6\"></div>\n",
       "<script type=\"text/javascript\">\n",
       "  (function(spec, embedOpt){\n",
       "    let outputDiv = document.currentScript.previousElementSibling;\n",
       "    if (outputDiv.id !== \"altair-viz-73f1eea8b06b4269b0ced3b1adeb99a6\") {\n",
       "      outputDiv = document.getElementById(\"altair-viz-73f1eea8b06b4269b0ced3b1adeb99a6\");\n",
       "    }\n",
       "    const paths = {\n",
       "      \"vega\": \"https://cdn.jsdelivr.net/npm//vega@5?noext\",\n",
       "      \"vega-lib\": \"https://cdn.jsdelivr.net/npm//vega-lib?noext\",\n",
       "      \"vega-lite\": \"https://cdn.jsdelivr.net/npm//vega-lite@4.8.1?noext\",\n",
       "      \"vega-embed\": \"https://cdn.jsdelivr.net/npm//vega-embed@6?noext\",\n",
       "    };\n",
       "\n",
       "    function loadScript(lib) {\n",
       "      return new Promise(function(resolve, reject) {\n",
       "        var s = document.createElement('script');\n",
       "        s.src = paths[lib];\n",
       "        s.async = true;\n",
       "        s.onload = () => resolve(paths[lib]);\n",
       "        s.onerror = () => reject(`Error loading script: ${paths[lib]}`);\n",
       "        document.getElementsByTagName(\"head\")[0].appendChild(s);\n",
       "      });\n",
       "    }\n",
       "\n",
       "    function showError(err) {\n",
       "      outputDiv.innerHTML = `<div class=\"error\" style=\"color:red;\">${err}</div>`;\n",
       "      throw err;\n",
       "    }\n",
       "\n",
       "    function displayChart(vegaEmbed) {\n",
       "      vegaEmbed(outputDiv, spec, embedOpt)\n",
       "        .catch(err => showError(`Javascript Error: ${err.message}<br>This usually means there's a typo in your chart specification. See the javascript console for the full traceback.`));\n",
       "    }\n",
       "\n",
       "    if(typeof define === \"function\" && define.amd) {\n",
       "      requirejs.config({paths});\n",
       "      require([\"vega-embed\"], displayChart, err => showError(`Error loading script: ${err.message}`));\n",
       "    } else if (typeof vegaEmbed === \"function\") {\n",
       "      displayChart(vegaEmbed);\n",
       "    } else {\n",
       "      loadScript(\"vega\")\n",
       "        .then(() => loadScript(\"vega-lite\"))\n",
       "        .then(() => loadScript(\"vega-embed\"))\n",
       "        .catch(showError)\n",
       "        .then(() => displayChart(vegaEmbed));\n",
       "    }\n",
       "  })({\"config\": {\"view\": {\"continuousWidth\": 400, \"continuousHeight\": 300}}, \"data\": {\"name\": \"data-37ba0005adb33c951b88a02c6b50b6c4\"}, \"mark\": {\"type\": \"circle\", \"color\": \"#D9CB0B\"}, \"encoding\": {\"tooltip\": [{\"type\": \"quantitative\", \"field\": \"altitude\"}, {\"type\": \"nominal\", \"field\": \"genero_atual\"}, {\"type\": \"nominal\", \"field\": \"especie_atual\"}, {\"type\": \"nominal\", \"field\": \"familia\"}, {\"type\": \"quantitative\", \"field\": \"ano_coleta\"}, {\"type\": \"nominal\", \"field\": \"qualificador_atual\"}], \"x\": {\"type\": \"nominal\", \"field\": \"genero_atual\", \"sort\": {\"field\": \"altitude\", \"op\": \"max\", \"order\": \"ascending\"}, \"title\": \"Genus\"}, \"y\": {\"type\": \"quantitative\", \"field\": \"altitude\", \"title\": \"Altitude (in meters)\"}}, \"title\": \"Altitude per genus (Testudines)\", \"width\": 800, \"$schema\": \"https://vega.github.io/schema/vega-lite/v4.8.1.json\", \"datasets\": {\"data-37ba0005adb33c951b88a02c6b50b6c4\": [{\"altitude\": 1063.0, \"especie_atual\": \"Tectifera\", \"genero_atual\": \"Hydromedusa\", \"ordem\": \"Testudines\", \"familia\": \"Chelidae\", \"ano_coleta\": 2007.0, \"qualificador_atual\": null}, {\"altitude\": 1069.0, \"especie_atual\": \"Maximiliani\", \"genero_atual\": \"Hydromedusa\", \"ordem\": \"Testudines\", \"familia\": \"Chelidae\", \"ano_coleta\": 2010.0, \"qualificador_atual\": null}, {\"altitude\": 22.0, \"especie_atual\": \"Gibba\", \"genero_atual\": \"Mesoclemmys\", \"ordem\": \"Testudines\", \"familia\": \"Chelidae\", \"ano_coleta\": 2006.0, \"qualificador_atual\": null}, {\"altitude\": 22.0, \"especie_atual\": \"Gibba\", \"genero_atual\": \"Mesoclemmys\", \"ordem\": \"Testudines\", \"familia\": \"Chelidae\", \"ano_coleta\": 2006.0, \"qualificador_atual\": null}, {\"altitude\": 22.0, \"especie_atual\": \"Gibba\", \"genero_atual\": \"Mesoclemmys\", \"ordem\": \"Testudines\", \"familia\": \"Chelidae\", \"ano_coleta\": 2006.0, \"qualificador_atual\": null}, {\"altitude\": 22.0, \"especie_atual\": \"Gibba\", \"genero_atual\": \"Mesoclemmys\", \"ordem\": \"Testudines\", \"familia\": \"Chelidae\", \"ano_coleta\": 2006.0, \"qualificador_atual\": null}, {\"altitude\": 271.0, \"especie_atual\": \"Nan\", \"genero_atual\": \"Phrynops\", \"ordem\": \"Testudines\", \"familia\": \"Chelidae\", \"ano_coleta\": 2008.0, \"qualificador_atual\": \"sp.\"}]}}, {\"mode\": \"vega-lite\"});\n",
       "</script>"
      ],
      "text/plain": [
       "alt.Chart(...)"
      ]
     },
     "execution_count": 139,
     "metadata": {},
     "output_type": "execute_result"
    }
   ],
   "source": [
    "# input do especialista: altitude não faz sentido para crocodilianos\n",
    "for j in range(2):\n",
    "    temp = alt.Chart(teste[(~teste['ordem'].isna()) & (teste['ordem'] == ordens[j])], width=800,\n",
    "                     title=f'Altitude per genus ({ordens[j]})').mark_circle(color= cores[j]).encode(\n",
    "        x = alt.X('genero_atual', type='nominal', title='Genus',\n",
    "                 sort=alt.EncodingSortField('altitude', op=\"max\", order=\"ascending\")),\n",
    "        y = alt.Y('altitude', type='quantitative', title='Altitude (in meters)'),\n",
    "        tooltip = alt.Tooltip(['altitude', 'genero_atual', 'especie_atual','familia', \n",
    "                               'ano_coleta', 'qualificador_atual'])\n",
    "    )\n",
    "\n",
    "    temp.save(f'./graphs/altitude/genus/altitude_per_genus-{ordens[j]}.html')\n",
    "\n",
    "temp"
   ]
  },
  {
   "cell_type": "markdown",
   "metadata": {},
   "source": [
    "<br>\n",
    "\n",
    "<font color='red' size=4>Separando grupos de \"maior variância\" - mais variabilidade ou contagem de pontos para um mesmo gênero/espécie </font>\n",
    "\n",
    "OBS: acabei separando pela contagem de pontos (generos mais e menos representados)"
   ]
  },
  {
   "cell_type": "code",
   "execution_count": 141,
   "metadata": {
    "ExecuteTime": {
     "end_time": "2020-07-14T20:27:24.812317Z",
     "start_time": "2020-07-14T20:27:24.805228Z"
    }
   },
   "outputs": [],
   "source": [
    "# input do especialista: altitude faz mais sentido apenas para a ordem Squamata\n",
    "teste = teste[teste['ordem'] == 'Squamata'].copy()"
   ]
  },
  {
   "cell_type": "code",
   "execution_count": 142,
   "metadata": {
    "ExecuteTime": {
     "end_time": "2020-07-14T20:27:45.614584Z",
     "start_time": "2020-07-14T20:27:45.595793Z"
    }
   },
   "outputs": [],
   "source": [
    "sort = teste.groupby('genero_atual').count()['ordem'].reset_index().rename(columns={'ordem':'counts'})"
   ]
  },
  {
   "cell_type": "code",
   "execution_count": 154,
   "metadata": {
    "ExecuteTime": {
     "end_time": "2020-07-14T20:30:40.968180Z",
     "start_time": "2020-07-14T20:30:40.953407Z"
    }
   },
   "outputs": [],
   "source": [
    "threshold = 2\n",
    "\n",
    "# mais variabilidade (threshold: counts >=5)\n",
    "grupo1 = sort[sort['counts'] > threshold]['genero_atual']\n",
    "\n",
    "# menos variabilidade\n",
    "grupo2 = sort[sort['counts'] <= threshold]['genero_atual']"
   ]
  },
  {
   "cell_type": "code",
   "execution_count": 155,
   "metadata": {
    "ExecuteTime": {
     "end_time": "2020-07-14T20:30:41.509059Z",
     "start_time": "2020-07-14T20:30:41.503909Z"
    }
   },
   "outputs": [],
   "source": [
    "teste['altitude'] = teste['altitude'].astype(float)"
   ]
  },
  {
   "cell_type": "code",
   "execution_count": 163,
   "metadata": {
    "ExecuteTime": {
     "end_time": "2020-07-14T20:34:48.902751Z",
     "start_time": "2020-07-14T20:34:48.897819Z"
    }
   },
   "outputs": [
    {
     "data": {
      "text/plain": [
       "Index(['altitude', 'especie_atual', 'genero_atual', 'ordem', 'familia',\n",
       "       'ano_coleta', 'qualificador_atual'],\n",
       "      dtype='object')"
      ]
     },
     "execution_count": 163,
     "metadata": {},
     "output_type": "execute_result"
    }
   ],
   "source": [
    "teste.columns"
   ]
  },
  {
   "cell_type": "markdown",
   "metadata": {},
   "source": [
    "#### grupo de maior dispersão\n",
    "\n",
    "coincide com grupo com mais de 2 pontos"
   ]
  },
  {
   "cell_type": "code",
   "execution_count": 180,
   "metadata": {
    "ExecuteTime": {
     "end_time": "2020-07-14T20:50:39.527343Z",
     "start_time": "2020-07-14T20:50:39.482435Z"
    }
   },
   "outputs": [
    {
     "data": {
      "text/html": [
       "\n",
       "<div id=\"altair-viz-71cbb2786f814c46ae50b489a4fa3de9\"></div>\n",
       "<script type=\"text/javascript\">\n",
       "  (function(spec, embedOpt){\n",
       "    let outputDiv = document.currentScript.previousElementSibling;\n",
       "    if (outputDiv.id !== \"altair-viz-71cbb2786f814c46ae50b489a4fa3de9\") {\n",
       "      outputDiv = document.getElementById(\"altair-viz-71cbb2786f814c46ae50b489a4fa3de9\");\n",
       "    }\n",
       "    const paths = {\n",
       "      \"vega\": \"https://cdn.jsdelivr.net/npm//vega@5?noext\",\n",
       "      \"vega-lib\": \"https://cdn.jsdelivr.net/npm//vega-lib?noext\",\n",
       "      \"vega-lite\": \"https://cdn.jsdelivr.net/npm//vega-lite@4.8.1?noext\",\n",
       "      \"vega-embed\": \"https://cdn.jsdelivr.net/npm//vega-embed@6?noext\",\n",
       "    };\n",
       "\n",
       "    function loadScript(lib) {\n",
       "      return new Promise(function(resolve, reject) {\n",
       "        var s = document.createElement('script');\n",
       "        s.src = paths[lib];\n",
       "        s.async = true;\n",
       "        s.onload = () => resolve(paths[lib]);\n",
       "        s.onerror = () => reject(`Error loading script: ${paths[lib]}`);\n",
       "        document.getElementsByTagName(\"head\")[0].appendChild(s);\n",
       "      });\n",
       "    }\n",
       "\n",
       "    function showError(err) {\n",
       "      outputDiv.innerHTML = `<div class=\"error\" style=\"color:red;\">${err}</div>`;\n",
       "      throw err;\n",
       "    }\n",
       "\n",
       "    function displayChart(vegaEmbed) {\n",
       "      vegaEmbed(outputDiv, spec, embedOpt)\n",
       "        .catch(err => showError(`Javascript Error: ${err.message}<br>This usually means there's a typo in your chart specification. See the javascript console for the full traceback.`));\n",
       "    }\n",
       "\n",
       "    if(typeof define === \"function\" && define.amd) {\n",
       "      requirejs.config({paths});\n",
       "      require([\"vega-embed\"], displayChart, err => showError(`Error loading script: ${err.message}`));\n",
       "    } else if (typeof vegaEmbed === \"function\") {\n",
       "      displayChart(vegaEmbed);\n",
       "    } else {\n",
       "      loadScript(\"vega\")\n",
       "        .then(() => loadScript(\"vega-lite\"))\n",
       "        .then(() => loadScript(\"vega-embed\"))\n",
       "        .catch(showError)\n",
       "        .then(() => displayChart(vegaEmbed));\n",
       "    }\n",
       "  })({\"config\": {\"view\": {\"continuousWidth\": 400, \"continuousHeight\": 300}}, \"data\": {\"name\": \"data-4cb616bc8a0535f8c057642f65560fe4\"}, \"mark\": {\"type\": \"circle\", \"color\": \"#BF4417\"}, \"encoding\": {\"tooltip\": [{\"type\": \"quantitative\", \"field\": \"altitude\"}, {\"type\": \"nominal\", \"field\": \"genero_atual\"}, {\"type\": \"nominal\", \"field\": \"especie_atual\"}, {\"type\": \"nominal\", \"field\": \"familia\"}, {\"type\": \"quantitative\", \"field\": \"ano_coleta\"}, {\"type\": \"nominal\", \"field\": \"qualificador_atual\"}], \"x\": {\"type\": \"nominal\", \"field\": \"genero_atual\", \"sort\": {\"field\": \"altitude\", \"op\": \"max\", \"order\": \"ascending\"}, \"title\": \"Genus\"}, \"y\": {\"type\": \"quantitative\", \"field\": \"altitude\", \"title\": \"Altitude (in meters)\"}}, \"title\": \"Altitude per genus (Squamata)\", \"width\": 800, \"$schema\": \"https://vega.github.io/schema/vega-lite/v4.8.1.json\", \"datasets\": {\"data-4cb616bc8a0535f8c057642f65560fe4\": [{\"altitude\": 0.0, \"especie_atual\": \"Mabouia\", \"genero_atual\": \"Hemidactylus\", \"ordem\": \"Squamata\", \"familia\": \"Gekkonidae\", \"ano_coleta\": 2008.0, \"qualificador_atual\": null}, {\"altitude\": 0.0, \"especie_atual\": \"Patagoniensis\", \"genero_atual\": \"Philodryas\", \"ordem\": \"Squamata\", \"familia\": \"Dipsadidae\", \"ano_coleta\": 2008.0, \"qualificador_atual\": null}, {\"altitude\": 1.0, \"especie_atual\": \"Mabouia\", \"genero_atual\": \"Hemidactylus\", \"ordem\": \"Squamata\", \"familia\": \"Gekkonidae\", \"ano_coleta\": 2008.0, \"qualificador_atual\": null}, {\"altitude\": 1.0, \"especie_atual\": \"Torquatus\", \"genero_atual\": \"Tropidurus\", \"ordem\": \"Squamata\", \"familia\": \"Tropiduridae\", \"ano_coleta\": null, \"qualificador_atual\": null}, {\"altitude\": 10.0, \"especie_atual\": \"Gaudichaudii\", \"genero_atual\": \"Ecpleopus\", \"ordem\": \"Squamata\", \"familia\": \"Gymnophthalmidae\", \"ano_coleta\": 2015.0, \"qualificador_atual\": null}, {\"altitude\": 10.0, \"especie_atual\": \"Petolarius\", \"genero_atual\": \"Oxyrhopus\", \"ordem\": \"Squamata\", \"familia\": \"Dipsadidae\", \"ano_coleta\": 2015.0, \"qualificador_atual\": null}, {\"altitude\": 105.0, \"especie_atual\": \"Typhlus\", \"genero_atual\": \"Liophis\", \"ordem\": \"Squamata\", \"familia\": \"Dipsadidae\", \"ano_coleta\": 2011.0, \"qualificador_atual\": null}, {\"altitude\": 105.0, \"especie_atual\": \"Pyrrhocryptus\", \"genero_atual\": \"Micrurus\", \"ordem\": \"Squamata\", \"familia\": \"Elapidae\", \"ano_coleta\": 2011.0, \"qualificador_atual\": null}, {\"altitude\": 1050.0, \"especie_atual\": \"Marcovani\", \"genero_atual\": \"Tantilla\", \"ordem\": \"Squamata\", \"familia\": \"Colubridae\", \"ano_coleta\": 1990.0, \"qualificador_atual\": null}, {\"altitude\": 1078.0, \"especie_atual\": \"Torquatus\", \"genero_atual\": \"Tropidurus\", \"ordem\": \"Squamata\", \"familia\": \"Tropiduridae\", \"ano_coleta\": 2010.0, \"qualificador_atual\": null}, {\"altitude\": 108.0, \"especie_atual\": \"Poecilogyrus\", \"genero_atual\": \"Liophis\", \"ordem\": \"Squamata\", \"familia\": \"Dipsadidae\", \"ano_coleta\": 2011.0, \"qualificador_atual\": null}, {\"altitude\": 1086.0, \"especie_atual\": \"Bilineatus\", \"genero_atual\": \"Enyalius\", \"ordem\": \"Squamata\", \"familia\": \"Leiosauridae\", \"ano_coleta\": 2007.0, \"qualificador_atual\": null}, {\"altitude\": 109.0, \"especie_atual\": \"Patagoniensis\", \"genero_atual\": \"Philodryas\", \"ordem\": \"Squamata\", \"familia\": \"Dipsadidae\", \"ano_coleta\": 2011.0, \"qualificador_atual\": null}, {\"altitude\": 109.0, \"especie_atual\": \"Merremi\", \"genero_atual\": \"Xenodon\", \"ordem\": \"Squamata\", \"familia\": \"Dipsadidae\", \"ano_coleta\": 2011.0, \"qualificador_atual\": null}, {\"altitude\": 1130.0, \"especie_atual\": \"Perditus\", \"genero_atual\": \"Enyalius\", \"ordem\": \"Squamata\", \"familia\": \"Leiosauridae\", \"ano_coleta\": 2014.0, \"qualificador_atual\": null}, {\"altitude\": 1138.0, \"especie_atual\": \"Decoratus\", \"genero_atual\": \"Micrurus\", \"ordem\": \"Squamata\", \"familia\": \"Elapidae\", \"ano_coleta\": 2013.0, \"qualificador_atual\": null}, {\"altitude\": 1150.0, \"especie_atual\": \"Nattereri\", \"genero_atual\": \"Thamnodynastes\", \"ordem\": \"Squamata\", \"familia\": \"Dipsadidae\", \"ano_coleta\": null, \"qualificador_atual\": \"cf.\"}, {\"altitude\": 1179.0, \"especie_atual\": \"Francoi\", \"genero_atual\": \"Atractus\", \"ordem\": \"Squamata\", \"familia\": \"Dipsadidae\", \"ano_coleta\": 2014.0, \"qualificador_atual\": null}, {\"altitude\": 119.0, \"especie_atual\": \"Olfersii\", \"genero_atual\": \"Philodryas\", \"ordem\": \"Squamata\", \"familia\": \"Dipsadidae\", \"ano_coleta\": 2011.0, \"qualificador_atual\": null}, {\"altitude\": 1198.0, \"especie_atual\": \"Neuwiedii\", \"genero_atual\": \"Xenodon\", \"ordem\": \"Squamata\", \"familia\": \"Dipsadidae\", \"ano_coleta\": 2014.0, \"qualificador_atual\": null}, {\"altitude\": 1200.0, \"especie_atual\": \"Jararaca\", \"genero_atual\": \"Bothrops\", \"ordem\": \"Squamata\", \"familia\": \"Viperidae\", \"ano_coleta\": 1994.0, \"qualificador_atual\": null}, {\"altitude\": 1200.0, \"especie_atual\": \"Jararaca\", \"genero_atual\": \"Bothrops\", \"ordem\": \"Squamata\", \"familia\": \"Viperidae\", \"ano_coleta\": 1994.0, \"qualificador_atual\": null}, {\"altitude\": 1200.0, \"especie_atual\": \"Jararaca\", \"genero_atual\": \"Bothrops\", \"ordem\": \"Squamata\", \"familia\": \"Viperidae\", \"ano_coleta\": 1968.0, \"qualificador_atual\": null}, {\"altitude\": 1200.0, \"especie_atual\": \"Jararaca\", \"genero_atual\": \"Bothrops\", \"ordem\": \"Squamata\", \"familia\": \"Viperidae\", \"ano_coleta\": 1968.0, \"qualificador_atual\": null}, {\"altitude\": 1210.0, \"especie_atual\": \"Cephalostriata\", \"genero_atual\": \"Echinanthera\", \"ordem\": \"Squamata\", \"familia\": \"Dipsadidae\", \"ano_coleta\": 2014.0, \"qualificador_atual\": null}, {\"altitude\": 1249.0, \"especie_atual\": \"Francoi\", \"genero_atual\": \"Atractus\", \"ordem\": \"Squamata\", \"familia\": \"Dipsadidae\", \"ano_coleta\": 2014.0, \"qualificador_atual\": null}, {\"altitude\": 126.0, \"especie_atual\": \"Jararaca\", \"genero_atual\": \"Bothrops\", \"ordem\": \"Squamata\", \"familia\": \"Viperidae\", \"ano_coleta\": 2012.0, \"qualificador_atual\": null}, {\"altitude\": 1260.0, \"especie_atual\": \"Affinis\", \"genero_atual\": \"Taeniophallus\", \"ordem\": \"Squamata\", \"familia\": \"Dipsadidae\", \"ano_coleta\": 2014.0, \"qualificador_atual\": null}, {\"altitude\": 1274.0, \"especie_atual\": \"Neuwiedii\", \"genero_atual\": \"Xenodon\", \"ordem\": \"Squamata\", \"familia\": \"Dipsadidae\", \"ano_coleta\": 2013.0, \"qualificador_atual\": null}, {\"altitude\": 128.0, \"especie_atual\": \"Humeralis\", \"genero_atual\": \"Gonatodes\", \"ordem\": \"Squamata\", \"familia\": \"Sphaerodactylidae\", \"ano_coleta\": 2011.0, \"qualificador_atual\": null}, {\"altitude\": 128.0, \"especie_atual\": \"Humeralis\", \"genero_atual\": \"Gonatodes\", \"ordem\": \"Squamata\", \"familia\": \"Sphaerodactylidae\", \"ano_coleta\": 2011.0, \"qualificador_atual\": null}, {\"altitude\": 128.0, \"especie_atual\": \"Frenata\", \"genero_atual\": \"Mabuya\", \"ordem\": \"Squamata\", \"familia\": \"Scincidae\", \"ano_coleta\": 2011.0, \"qualificador_atual\": null}, {\"altitude\": 128.0, \"especie_atual\": \"Maximiliani\", \"genero_atual\": \"Micrablepharus\", \"ordem\": \"Squamata\", \"familia\": \"Gymnophthalmidae\", \"ano_coleta\": 2011.0, \"qualificador_atual\": null}, {\"altitude\": 128.0, \"especie_atual\": \"Maximiliani\", \"genero_atual\": \"Micrablepharus\", \"ordem\": \"Squamata\", \"familia\": \"Gymnophthalmidae\", \"ano_coleta\": 2011.0, \"qualificador_atual\": null}, {\"altitude\": 128.0, \"especie_atual\": \"Maximiliani\", \"genero_atual\": \"Micrablepharus\", \"ordem\": \"Squamata\", \"familia\": \"Gymnophthalmidae\", \"ano_coleta\": 2011.0, \"qualificador_atual\": null}, {\"altitude\": 128.0, \"especie_atual\": \"Pollicaris\", \"genero_atual\": \"Phyllopezus\", \"ordem\": \"Squamata\", \"familia\": \"Phyllodactylidae\", \"ano_coleta\": 2011.0, \"qualificador_atual\": null}, {\"altitude\": 128.0, \"especie_atual\": \"Pollicaris\", \"genero_atual\": \"Phyllopezus\", \"ordem\": \"Squamata\", \"familia\": \"Phyllodactylidae\", \"ano_coleta\": 2011.0, \"qualificador_atual\": null}, {\"altitude\": 128.0, \"especie_atual\": \"Merianae\", \"genero_atual\": \"Salvator\", \"ordem\": \"Squamata\", \"familia\": \"Teiidae\", \"ano_coleta\": 2011.0, \"qualificador_atual\": null}, {\"altitude\": 128.0, \"especie_atual\": \"Spinulosus\", \"genero_atual\": \"Tropidurus\", \"ordem\": \"Squamata\", \"familia\": \"Tropiduridae\", \"ano_coleta\": 2011.0, \"qualificador_atual\": null}, {\"altitude\": 1280.0, \"especie_atual\": \"Perditus\", \"genero_atual\": \"Enyalius\", \"ordem\": \"Squamata\", \"familia\": \"Leiosauridae\", \"ano_coleta\": 1996.0, \"qualificador_atual\": null}, {\"altitude\": 1280.0, \"especie_atual\": \"Perditus\", \"genero_atual\": \"Enyalius\", \"ordem\": \"Squamata\", \"familia\": \"Leiosauridae\", \"ano_coleta\": 1996.0, \"qualificador_atual\": null}, {\"altitude\": 1284.0, \"especie_atual\": \"Decoratus\", \"genero_atual\": \"Micrurus\", \"ordem\": \"Squamata\", \"familia\": \"Elapidae\", \"ano_coleta\": 2013.0, \"qualificador_atual\": null}, {\"altitude\": 1298.0, \"especie_atual\": \"Fonsecai\", \"genero_atual\": \"Bothrops\", \"ordem\": \"Squamata\", \"familia\": \"Viperidae\", \"ano_coleta\": 2013.0, \"qualificador_atual\": null}, {\"altitude\": 13.0, \"especie_atual\": \"Mabouia\", \"genero_atual\": \"Hemidactylus\", \"ordem\": \"Squamata\", \"familia\": \"Gekkonidae\", \"ano_coleta\": 2015.0, \"qualificador_atual\": null}, {\"altitude\": 13.0, \"especie_atual\": \"Fragilis\", \"genero_atual\": \"Ophiodes\", \"ordem\": \"Squamata\", \"familia\": \"Anguidae\", \"ano_coleta\": 2013.0, \"qualificador_atual\": null}, {\"altitude\": 13.0, \"especie_atual\": \"Trigeminus\", \"genero_atual\": \"Oxyrhopus\", \"ordem\": \"Squamata\", \"familia\": \"Dipsadidae\", \"ano_coleta\": 2015.0, \"qualificador_atual\": null}, {\"altitude\": 1300.0, \"especie_atual\": \"Maculatus\", \"genero_atual\": \"Atractus\", \"ordem\": \"Squamata\", \"familia\": \"Dipsadidae\", \"ano_coleta\": null, \"qualificador_atual\": null}, {\"altitude\": 1300.0, \"especie_atual\": \"Jararaca\", \"genero_atual\": \"Bothrops\", \"ordem\": \"Squamata\", \"familia\": \"Viperidae\", \"ano_coleta\": null, \"qualificador_atual\": null}, {\"altitude\": 1300.0, \"especie_atual\": \"Jaegeri\", \"genero_atual\": \"Liophis\", \"ordem\": \"Squamata\", \"familia\": \"Dipsadidae\", \"ano_coleta\": 1993.0, \"qualificador_atual\": null}, {\"altitude\": 1301.0, \"especie_atual\": \"Microcephalum\", \"genero_atual\": \"Amphisbaena\", \"ordem\": \"Squamata\", \"familia\": \"Amphisbaenidae\", \"ano_coleta\": 2014.0, \"qualificador_atual\": null}, {\"altitude\": 1301.0, \"especie_atual\": \"Nan\", \"genero_atual\": \"Ophiodes\", \"ordem\": \"Squamata\", \"familia\": \"Anguidae\", \"ano_coleta\": 2004.0, \"qualificador_atual\": \"sp.\"}, {\"altitude\": 1318.0, \"especie_atual\": \"Clathratus\", \"genero_atual\": \"Oxyrhopus\", \"ordem\": \"Squamata\", \"familia\": \"Dipsadidae\", \"ano_coleta\": 2014.0, \"qualificador_atual\": null}, {\"altitude\": 1328.0, \"especie_atual\": \"Neuwiedii\", \"genero_atual\": \"Xenodon\", \"ordem\": \"Squamata\", \"familia\": \"Dipsadidae\", \"ano_coleta\": 2013.0, \"qualificador_atual\": null}, {\"altitude\": 1344.0, \"especie_atual\": \"Corallinus\", \"genero_atual\": \"Micrurus\", \"ordem\": \"Squamata\", \"familia\": \"Elapidae\", \"ano_coleta\": 2013.0, \"qualificador_atual\": null}, {\"altitude\": 135.0, \"especie_atual\": \"Merianae\", \"genero_atual\": \"Salvator\", \"ordem\": \"Squamata\", \"familia\": \"Teiidae\", \"ano_coleta\": 2006.0, \"qualificador_atual\": null}, {\"altitude\": 1355.0, \"especie_atual\": \"Undulata\", \"genero_atual\": \"Echinanthera\", \"ordem\": \"Squamata\", \"familia\": \"Dipsadidae\", \"ano_coleta\": 2013.0, \"qualificador_atual\": null}, {\"altitude\": 1367.0, \"especie_atual\": \"Affinis\", \"genero_atual\": \"Taeniophallus\", \"ordem\": \"Squamata\", \"familia\": \"Dipsadidae\", \"ano_coleta\": 2015.0, \"qualificador_atual\": null}, {\"altitude\": 14.0, \"especie_atual\": \"Brongersmianus\", \"genero_atual\": \"Amerotyphlops\", \"ordem\": \"Squamata\", \"familia\": \"Typhlopidae\", \"ano_coleta\": 2014.0, \"qualificador_atual\": null}, {\"altitude\": 14.0, \"especie_atual\": \"Brongersmianus\", \"genero_atual\": \"Amerotyphlops\", \"ordem\": \"Squamata\", \"familia\": \"Typhlopidae\", \"ano_coleta\": 2014.0, \"qualificador_atual\": null}, {\"altitude\": 14.0, \"especie_atual\": \"Brongersmianus\", \"genero_atual\": \"Amerotyphlops\", \"ordem\": \"Squamata\", \"familia\": \"Typhlopidae\", \"ano_coleta\": 2015.0, \"qualificador_atual\": null}, {\"altitude\": 14.0, \"especie_atual\": \"Mabouia\", \"genero_atual\": \"Hemidactylus\", \"ordem\": \"Squamata\", \"familia\": \"Gekkonidae\", \"ano_coleta\": 2015.0, \"qualificador_atual\": null}, {\"altitude\": 14.0, \"especie_atual\": \"Mabouia\", \"genero_atual\": \"Hemidactylus\", \"ordem\": \"Squamata\", \"familia\": \"Gekkonidae\", \"ano_coleta\": 2015.0, \"qualificador_atual\": null}, {\"altitude\": 14.0, \"especie_atual\": \"Miliaris\", \"genero_atual\": \"Liophis\", \"ordem\": \"Squamata\", \"familia\": \"Dipsadidae\", \"ano_coleta\": 2014.0, \"qualificador_atual\": null}, {\"altitude\": 14.0, \"especie_atual\": \"Macrorhyncha\", \"genero_atual\": \"Psychosaura\", \"ordem\": \"Squamata\", \"familia\": \"Scincidae\", \"ano_coleta\": 2014.0, \"qualificador_atual\": null}, {\"altitude\": 1400.0, \"especie_atual\": \"Bilineata\", \"genero_atual\": \"Bothrops\", \"ordem\": \"Squamata\", \"familia\": \"Viperidae\", \"ano_coleta\": 1989.0, \"qualificador_atual\": null}, {\"altitude\": 1412.0, \"especie_atual\": \"Undulata\", \"genero_atual\": \"Echinanthera\", \"ordem\": \"Squamata\", \"familia\": \"Dipsadidae\", \"ano_coleta\": 2013.0, \"qualificador_atual\": null}, {\"altitude\": 142.0, \"especie_atual\": \"Nigra\", \"genero_atual\": \"Pseudoboa\", \"ordem\": \"Squamata\", \"familia\": \"Dipsadidae\", \"ano_coleta\": 2011.0, \"qualificador_atual\": null}, {\"altitude\": 1420.0, \"especie_atual\": \"Francoi\", \"genero_atual\": \"Atractus\", \"ordem\": \"Squamata\", \"familia\": \"Dipsadidae\", \"ano_coleta\": 2010.0, \"qualificador_atual\": null}, {\"altitude\": 1420.0, \"especie_atual\": \"Jararaca\", \"genero_atual\": \"Bothrops\", \"ordem\": \"Squamata\", \"familia\": \"Viperidae\", \"ano_coleta\": 2015.0, \"qualificador_atual\": null}, {\"altitude\": 1421.0, \"especie_atual\": \"Fonsecai\", \"genero_atual\": \"Bothrops\", \"ordem\": \"Squamata\", \"familia\": \"Viperidae\", \"ano_coleta\": 2014.0, \"qualificador_atual\": null}, {\"altitude\": 1430.0, \"especie_atual\": \"Spinalis\", \"genero_atual\": \"Atractus\", \"ordem\": \"Squamata\", \"familia\": \"Dipsadidae\", \"ano_coleta\": 2013.0, \"qualificador_atual\": null}, {\"altitude\": 144.0, \"especie_atual\": \"Durissus\", \"genero_atual\": \"Crotalus\", \"ordem\": \"Squamata\", \"familia\": \"Viperidae\", \"ano_coleta\": 2011.0, \"qualificador_atual\": null}, {\"altitude\": 1440.0, \"especie_atual\": \"Fonsecai\", \"genero_atual\": \"Bothrops\", \"ordem\": \"Squamata\", \"familia\": \"Viperidae\", \"ano_coleta\": 2014.0, \"qualificador_atual\": null}, {\"altitude\": 1469.0, \"especie_atual\": \"Affinis\", \"genero_atual\": \"Taeniophallus\", \"ordem\": \"Squamata\", \"familia\": \"Dipsadidae\", \"ano_coleta\": 2013.0, \"qualificador_atual\": null}, {\"altitude\": 1480.0, \"especie_atual\": \"Fonsecai\", \"genero_atual\": \"Bothrops\", \"ordem\": \"Squamata\", \"familia\": \"Viperidae\", \"ano_coleta\": 2014.0, \"qualificador_atual\": null}, {\"altitude\": 149.0, \"especie_atual\": \"Humeralis\", \"genero_atual\": \"Gonatodes\", \"ordem\": \"Squamata\", \"familia\": \"Sphaerodactylidae\", \"ano_coleta\": 2011.0, \"qualificador_atual\": null}, {\"altitude\": 1490.0, \"especie_atual\": \"Biseriatus\", \"genero_atual\": \"Atractus\", \"ordem\": \"Squamata\", \"familia\": \"Dipsadidae\", \"ano_coleta\": 2010.0, \"qualificador_atual\": null}, {\"altitude\": 1498.0, \"especie_atual\": \"Jararaca\", \"genero_atual\": \"Bothrops\", \"ordem\": \"Squamata\", \"familia\": \"Viperidae\", \"ano_coleta\": 2014.0, \"qualificador_atual\": null}, {\"altitude\": 1498.0, \"especie_atual\": \"Fragilis\", \"genero_atual\": \"Ophiodes\", \"ordem\": \"Squamata\", \"familia\": \"Anguidae\", \"ano_coleta\": 2014.0, \"qualificador_atual\": null}, {\"altitude\": 1498.0, \"especie_atual\": \"Merianae\", \"genero_atual\": \"Salvator\", \"ordem\": \"Squamata\", \"familia\": \"Teiidae\", \"ano_coleta\": 2014.0, \"qualificador_atual\": null}, {\"altitude\": 15.0, \"especie_atual\": \"Brongersmianus\", \"genero_atual\": \"Amerotyphlops\", \"ordem\": \"Squamata\", \"familia\": \"Typhlopidae\", \"ano_coleta\": 2014.0, \"qualificador_atual\": null}, {\"altitude\": 15.0, \"especie_atual\": \"Brongersmianus\", \"genero_atual\": \"Amerotyphlops\", \"ordem\": \"Squamata\", \"familia\": \"Typhlopidae\", \"ano_coleta\": 2014.0, \"qualificador_atual\": null}, {\"altitude\": 15.0, \"especie_atual\": \"Brongersmianus\", \"genero_atual\": \"Amerotyphlops\", \"ordem\": \"Squamata\", \"familia\": \"Typhlopidae\", \"ano_coleta\": 2015.0, \"qualificador_atual\": null}, {\"altitude\": 15.0, \"especie_atual\": \"Brongersmianus\", \"genero_atual\": \"Amerotyphlops\", \"ordem\": \"Squamata\", \"familia\": \"Typhlopidae\", \"ano_coleta\": 2015.0, \"qualificador_atual\": null}, {\"altitude\": 15.0, \"especie_atual\": \"Brongersmianus\", \"genero_atual\": \"Amerotyphlops\", \"ordem\": \"Squamata\", \"familia\": \"Typhlopidae\", \"ano_coleta\": 2015.0, \"qualificador_atual\": null}, {\"altitude\": 15.0, \"especie_atual\": \"Littoralis\", \"genero_atual\": \"Glaucomastix\", \"ordem\": \"Squamata\", \"familia\": \"Teiidae\", \"ano_coleta\": 2014.0, \"qualificador_atual\": null}, {\"altitude\": 15.0, \"especie_atual\": \"Littoralis\", \"genero_atual\": \"Glaucomastix\", \"ordem\": \"Squamata\", \"familia\": \"Teiidae\", \"ano_coleta\": 2014.0, \"qualificador_atual\": null}, {\"altitude\": 15.0, \"especie_atual\": \"Torquatus\", \"genero_atual\": \"Tropidurus\", \"ordem\": \"Squamata\", \"familia\": \"Tropiduridae\", \"ano_coleta\": 2014.0, \"qualificador_atual\": null}, {\"altitude\": 15.0, \"especie_atual\": \"Torquatus\", \"genero_atual\": \"Tropidurus\", \"ordem\": \"Squamata\", \"familia\": \"Tropiduridae\", \"ano_coleta\": 2014.0, \"qualificador_atual\": null}, {\"altitude\": 15.0, \"especie_atual\": \"Torquatus\", \"genero_atual\": \"Tropidurus\", \"ordem\": \"Squamata\", \"familia\": \"Tropiduridae\", \"ano_coleta\": 2014.0, \"qualificador_atual\": null}, {\"altitude\": 15.0, \"especie_atual\": \"Torquatus\", \"genero_atual\": \"Tropidurus\", \"ordem\": \"Squamata\", \"familia\": \"Tropiduridae\", \"ano_coleta\": 2014.0, \"qualificador_atual\": null}, {\"altitude\": 15.0, \"especie_atual\": \"Torquatus\", \"genero_atual\": \"Tropidurus\", \"ordem\": \"Squamata\", \"familia\": \"Tropiduridae\", \"ano_coleta\": 2014.0, \"qualificador_atual\": null}, {\"altitude\": 15.0, \"especie_atual\": \"Torquatus\", \"genero_atual\": \"Tropidurus\", \"ordem\": \"Squamata\", \"familia\": \"Tropiduridae\", \"ano_coleta\": 2015.0, \"qualificador_atual\": null}, {\"altitude\": 150.0, \"especie_atual\": \"Alba\", \"genero_atual\": \"Amphisbaena\", \"ordem\": \"Squamata\", \"familia\": \"Amphisbaenidae\", \"ano_coleta\": 1989.0, \"qualificador_atual\": null}, {\"altitude\": 150.0, \"especie_atual\": \"Jararacussu\", \"genero_atual\": \"Bothrops\", \"ordem\": \"Squamata\", \"familia\": \"Viperidae\", \"ano_coleta\": 2007.0, \"qualificador_atual\": null}, {\"altitude\": 150.0, \"especie_atual\": \"Geckoides\", \"genero_atual\": \"Gymnodactylus\", \"ordem\": \"Squamata\", \"familia\": \"Phyllodactylidae\", \"ano_coleta\": 2004.0, \"qualificador_atual\": null}, {\"altitude\": 1500.0, \"especie_atual\": \"Senthlageae\", \"genero_atual\": \"Atractus\", \"ordem\": \"Squamata\", \"familia\": \"Dipsadidae\", \"ano_coleta\": 1992.0, \"qualificador_atual\": \"aff.\"}, {\"altitude\": 1500.0, \"especie_atual\": \"Bicarinatus\", \"genero_atual\": \"Chironius\", \"ordem\": \"Squamata\", \"familia\": \"Colubridae\", \"ano_coleta\": 2014.0, \"qualificador_atual\": null}, {\"altitude\": 1500.0, \"especie_atual\": \"Dorsivittata\", \"genero_atual\": \"Mabuya\", \"ordem\": \"Squamata\", \"familia\": \"Scincidae\", \"ano_coleta\": 1998.0, \"qualificador_atual\": \"cf.\"}, {\"altitude\": 1511.0, \"especie_atual\": \"Clathratus\", \"genero_atual\": \"Oxyrhopus\", \"ordem\": \"Squamata\", \"familia\": \"Dipsadidae\", \"ano_coleta\": 2014.0, \"qualificador_atual\": null}, {\"altitude\": 1527.0, \"especie_atual\": \"Neuwiedii\", \"genero_atual\": \"Xenodon\", \"ordem\": \"Squamata\", \"familia\": \"Dipsadidae\", \"ano_coleta\": 2014.0, \"qualificador_atual\": null}, {\"altitude\": 159.0, \"especie_atual\": \"Mabouia\", \"genero_atual\": \"Hemidactylus\", \"ordem\": \"Squamata\", \"familia\": \"Gekkonidae\", \"ano_coleta\": 2007.0, \"qualificador_atual\": null}, {\"altitude\": 16.0, \"especie_atual\": \"Brongersmianus\", \"genero_atual\": \"Amerotyphlops\", \"ordem\": \"Squamata\", \"familia\": \"Typhlopidae\", \"ano_coleta\": 2015.0, \"qualificador_atual\": null}, {\"altitude\": 16.0, \"especie_atual\": \"Brongersmianus\", \"genero_atual\": \"Amerotyphlops\", \"ordem\": \"Squamata\", \"familia\": \"Typhlopidae\", \"ano_coleta\": 2015.0, \"qualificador_atual\": null}, {\"altitude\": 16.0, \"especie_atual\": \"Brongersmianus\", \"genero_atual\": \"Amerotyphlops\", \"ordem\": \"Squamata\", \"familia\": \"Typhlopidae\", \"ano_coleta\": 2016.0, \"qualificador_atual\": null}, {\"altitude\": 16.0, \"especie_atual\": \"Gaudichaudii\", \"genero_atual\": \"Ecpleopus\", \"ordem\": \"Squamata\", \"familia\": \"Gymnophthalmidae\", \"ano_coleta\": 2015.0, \"qualificador_atual\": null}, {\"altitude\": 16.0, \"especie_atual\": \"Littoralis\", \"genero_atual\": \"Glaucomastix\", \"ordem\": \"Squamata\", \"familia\": \"Teiidae\", \"ano_coleta\": 2014.0, \"qualificador_atual\": null}, {\"altitude\": 16.0, \"especie_atual\": \"Darwinii\", \"genero_atual\": \"Gymnodactylus\", \"ordem\": \"Squamata\", \"familia\": \"Phyllodactylidae\", \"ano_coleta\": 2014.0, \"qualificador_atual\": null}, {\"altitude\": 16.0, \"especie_atual\": \"Darwinii\", \"genero_atual\": \"Gymnodactylus\", \"ordem\": \"Squamata\", \"familia\": \"Phyllodactylidae\", \"ano_coleta\": 2014.0, \"qualificador_atual\": null}, {\"altitude\": 16.0, \"especie_atual\": \"Darwinii\", \"genero_atual\": \"Gymnodactylus\", \"ordem\": \"Squamata\", \"familia\": \"Phyllodactylidae\", \"ano_coleta\": 2014.0, \"qualificador_atual\": null}, {\"altitude\": 16.0, \"especie_atual\": \"Darwinii\", \"genero_atual\": \"Gymnodactylus\", \"ordem\": \"Squamata\", \"familia\": \"Phyllodactylidae\", \"ano_coleta\": 2014.0, \"qualificador_atual\": null}, {\"altitude\": 16.0, \"especie_atual\": \"Mabouia\", \"genero_atual\": \"Hemidactylus\", \"ordem\": \"Squamata\", \"familia\": \"Gekkonidae\", \"ano_coleta\": 2014.0, \"qualificador_atual\": null}, {\"altitude\": 16.0, \"especie_atual\": \"Mabouia\", \"genero_atual\": \"Hemidactylus\", \"ordem\": \"Squamata\", \"familia\": \"Gekkonidae\", \"ano_coleta\": 2015.0, \"qualificador_atual\": null}, {\"altitude\": 16.0, \"especie_atual\": \"Macrorhyncha\", \"genero_atual\": \"Psychosaura\", \"ordem\": \"Squamata\", \"familia\": \"Scincidae\", \"ano_coleta\": 2014.0, \"qualificador_atual\": null}, {\"altitude\": 16.0, \"especie_atual\": \"Torquatus\", \"genero_atual\": \"Tropidurus\", \"ordem\": \"Squamata\", \"familia\": \"Tropiduridae\", \"ano_coleta\": 2014.0, \"qualificador_atual\": null}, {\"altitude\": 16.0, \"especie_atual\": \"Torquatus\", \"genero_atual\": \"Tropidurus\", \"ordem\": \"Squamata\", \"familia\": \"Tropiduridae\", \"ano_coleta\": 2014.0, \"qualificador_atual\": null}, {\"altitude\": 16.0, \"especie_atual\": \"Torquatus\", \"genero_atual\": \"Tropidurus\", \"ordem\": \"Squamata\", \"familia\": \"Tropiduridae\", \"ano_coleta\": 2014.0, \"qualificador_atual\": null}, {\"altitude\": 16.0, \"especie_atual\": \"Torquatus\", \"genero_atual\": \"Tropidurus\", \"ordem\": \"Squamata\", \"familia\": \"Tropiduridae\", \"ano_coleta\": 2014.0, \"qualificador_atual\": null}, {\"altitude\": 169.0, \"especie_atual\": \"Hortulanus\", \"genero_atual\": \"Corallus\", \"ordem\": \"Squamata\", \"familia\": \"Boidae\", \"ano_coleta\": 1952.0, \"qualificador_atual\": null}, {\"altitude\": 17.0, \"especie_atual\": \"Jararaca\", \"genero_atual\": \"Bothrops\", \"ordem\": \"Squamata\", \"familia\": \"Viperidae\", \"ano_coleta\": 2014.0, \"qualificador_atual\": null}, {\"altitude\": 17.0, \"especie_atual\": \"Striatus\", \"genero_atual\": \"Ophiodes\", \"ordem\": \"Squamata\", \"familia\": \"Anguidae\", \"ano_coleta\": 2013.0, \"qualificador_atual\": null}, {\"altitude\": 170.0, \"especie_atual\": \"Tartarus\", \"genero_atual\": \"Atractus\", \"ordem\": \"Squamata\", \"familia\": \"Dipsadidae\", \"ano_coleta\": 2008.0, \"qualificador_atual\": null}, {\"altitude\": 175.0, \"especie_atual\": \"Typhlus\", \"genero_atual\": \"Liophis\", \"ordem\": \"Squamata\", \"familia\": \"Dipsadidae\", \"ano_coleta\": 2011.0, \"qualificador_atual\": null}, {\"altitude\": 175.0, \"especie_atual\": \"Poecilogyrus\", \"genero_atual\": \"Liophis\", \"ordem\": \"Squamata\", \"familia\": \"Dipsadidae\", \"ano_coleta\": 2011.0, \"qualificador_atual\": null}, {\"altitude\": 175.0, \"especie_atual\": \"Frenata\", \"genero_atual\": \"Mabuya\", \"ordem\": \"Squamata\", \"familia\": \"Scincidae\", \"ano_coleta\": 2011.0, \"qualificador_atual\": null}, {\"altitude\": 175.0, \"especie_atual\": \"Olfersii\", \"genero_atual\": \"Philodryas\", \"ordem\": \"Squamata\", \"familia\": \"Dipsadidae\", \"ano_coleta\": 2011.0, \"qualificador_atual\": null}, {\"altitude\": 175.0, \"especie_atual\": \"Pollicaris\", \"genero_atual\": \"Phyllopezus\", \"ordem\": \"Squamata\", \"familia\": \"Phyllodactylidae\", \"ano_coleta\": 2011.0, \"qualificador_atual\": null}, {\"altitude\": 175.0, \"especie_atual\": \"Pollicaris\", \"genero_atual\": \"Phyllopezus\", \"ordem\": \"Squamata\", \"familia\": \"Phyllodactylidae\", \"ano_coleta\": 2011.0, \"qualificador_atual\": null}, {\"altitude\": 175.0, \"especie_atual\": \"Pollicaris\", \"genero_atual\": \"Phyllopezus\", \"ordem\": \"Squamata\", \"familia\": \"Phyllodactylidae\", \"ano_coleta\": 2011.0, \"qualificador_atual\": null}, {\"altitude\": 175.0, \"especie_atual\": \"Occipitalis\", \"genero_atual\": \"Taeniophallus\", \"ordem\": \"Squamata\", \"familia\": \"Dipsadidae\", \"ano_coleta\": 2011.0, \"qualificador_atual\": null}, {\"altitude\": 175.0, \"especie_atual\": \"Spinulosus\", \"genero_atual\": \"Tropidurus\", \"ordem\": \"Squamata\", \"familia\": \"Tropiduridae\", \"ano_coleta\": 2011.0, \"qualificador_atual\": null}, {\"altitude\": 178.0, \"especie_atual\": \"Mabouia\", \"genero_atual\": \"Hemidactylus\", \"ordem\": \"Squamata\", \"familia\": \"Gekkonidae\", \"ano_coleta\": 2008.0, \"qualificador_atual\": null}, {\"altitude\": 178.0, \"especie_atual\": \"Mabouia\", \"genero_atual\": \"Hemidactylus\", \"ordem\": \"Squamata\", \"familia\": \"Gekkonidae\", \"ano_coleta\": 2008.0, \"qualificador_atual\": null}, {\"altitude\": 178.0, \"especie_atual\": \"Mabouia\", \"genero_atual\": \"Hemidactylus\", \"ordem\": \"Squamata\", \"familia\": \"Gekkonidae\", \"ano_coleta\": 2008.0, \"qualificador_atual\": null}, {\"altitude\": 178.0, \"especie_atual\": \"Torquatus\", \"genero_atual\": \"Tropidurus\", \"ordem\": \"Squamata\", \"familia\": \"Tropiduridae\", \"ano_coleta\": 2008.0, \"qualificador_atual\": null}, {\"altitude\": 18.0, \"especie_atual\": \"Gaudichaudii\", \"genero_atual\": \"Ecpleopus\", \"ordem\": \"Squamata\", \"familia\": \"Gymnophthalmidae\", \"ano_coleta\": 2010.0, \"qualificador_atual\": null}, {\"altitude\": 18.0, \"especie_atual\": \"Gaudichaudii\", \"genero_atual\": \"Ecpleopus\", \"ordem\": \"Squamata\", \"familia\": \"Gymnophthalmidae\", \"ano_coleta\": 2010.0, \"qualificador_atual\": null}, {\"altitude\": 18.0, \"especie_atual\": \"Gaudichaudii\", \"genero_atual\": \"Ecpleopus\", \"ordem\": \"Squamata\", \"familia\": \"Gymnophthalmidae\", \"ano_coleta\": 2010.0, \"qualificador_atual\": null}, {\"altitude\": 18.0, \"especie_atual\": \"Gaudichaudii\", \"genero_atual\": \"Ecpleopus\", \"ordem\": \"Squamata\", \"familia\": \"Gymnophthalmidae\", \"ano_coleta\": 2010.0, \"qualificador_atual\": null}, {\"altitude\": 18.0, \"especie_atual\": \"Gaudichaudii\", \"genero_atual\": \"Ecpleopus\", \"ordem\": \"Squamata\", \"familia\": \"Gymnophthalmidae\", \"ano_coleta\": 2010.0, \"qualificador_atual\": null}, {\"altitude\": 18.0, \"especie_atual\": \"Gaudichaudii\", \"genero_atual\": \"Ecpleopus\", \"ordem\": \"Squamata\", \"familia\": \"Gymnophthalmidae\", \"ano_coleta\": 2010.0, \"qualificador_atual\": null}, {\"altitude\": 18.0, \"especie_atual\": \"Darwinii\", \"genero_atual\": \"Gymnodactylus\", \"ordem\": \"Squamata\", \"familia\": \"Phyllodactylidae\", \"ano_coleta\": 2010.0, \"qualificador_atual\": null}, {\"altitude\": 18.0, \"especie_atual\": \"Darwinii\", \"genero_atual\": \"Gymnodactylus\", \"ordem\": \"Squamata\", \"familia\": \"Phyllodactylidae\", \"ano_coleta\": 2010.0, \"qualificador_atual\": null}, {\"altitude\": 18.0, \"especie_atual\": \"Darwinii\", \"genero_atual\": \"Gymnodactylus\", \"ordem\": \"Squamata\", \"familia\": \"Phyllodactylidae\", \"ano_coleta\": 2010.0, \"qualificador_atual\": null}, {\"altitude\": 18.0, \"especie_atual\": \"Ahaetulla\", \"genero_atual\": \"Leptophis\", \"ordem\": \"Squamata\", \"familia\": \"Colubridae\", \"ano_coleta\": 2010.0, \"qualificador_atual\": null}, {\"altitude\": 18.0, \"especie_atual\": \"Miliaris\", \"genero_atual\": \"Liophis\", \"ordem\": \"Squamata\", \"familia\": \"Dipsadidae\", \"ano_coleta\": 2003.0, \"qualificador_atual\": null}, {\"altitude\": 18.0, \"especie_atual\": \"Trigeminus\", \"genero_atual\": \"Oxyrhopus\", \"ordem\": \"Squamata\", \"familia\": \"Dipsadidae\", \"ano_coleta\": 2010.0, \"qualificador_atual\": null}, {\"altitude\": 18.0, \"especie_atual\": \"Trigeminus\", \"genero_atual\": \"Oxyrhopus\", \"ordem\": \"Squamata\", \"familia\": \"Dipsadidae\", \"ano_coleta\": 2010.0, \"qualificador_atual\": null}, {\"altitude\": 18.0, \"especie_atual\": \"Trigeminus\", \"genero_atual\": \"Oxyrhopus\", \"ordem\": \"Squamata\", \"familia\": \"Dipsadidae\", \"ano_coleta\": 2010.0, \"qualificador_atual\": null}, {\"altitude\": 180.0, \"especie_atual\": \"Mabouia\", \"genero_atual\": \"Hemidactylus\", \"ordem\": \"Squamata\", \"familia\": \"Gekkonidae\", \"ano_coleta\": 2003.0, \"qualificador_atual\": null}, {\"altitude\": 180.0, \"especie_atual\": \"Microcephalum\", \"genero_atual\": \"Leposternon\", \"ordem\": \"Squamata\", \"familia\": \"Amphisbaenidae\", \"ano_coleta\": 2003.0, \"qualificador_atual\": null}, {\"altitude\": 180.0, \"especie_atual\": \"Clathratus\", \"genero_atual\": \"Oxyrhopus\", \"ordem\": \"Squamata\", \"familia\": \"Dipsadidae\", \"ano_coleta\": 2008.0, \"qualificador_atual\": null}, {\"altitude\": 180.0, \"especie_atual\": \"Nigra\", \"genero_atual\": \"Pseudoboa\", \"ordem\": \"Squamata\", \"familia\": \"Dipsadidae\", \"ano_coleta\": 2008.0, \"qualificador_atual\": null}, {\"altitude\": 1802.0, \"especie_atual\": \"Nigricaudus\", \"genero_atual\": \"Atractus\", \"ordem\": \"Squamata\", \"familia\": \"Dipsadidae\", \"ano_coleta\": 2007.0, \"qualificador_atual\": null}, {\"altitude\": 1850.0, \"especie_atual\": \"Dorsivittata\", \"genero_atual\": \"Mabuya\", \"ordem\": \"Squamata\", \"familia\": \"Scincidae\", \"ano_coleta\": 2009.0, \"qualificador_atual\": null}, {\"altitude\": 19.0, \"especie_atual\": \"Brongersmianus\", \"genero_atual\": \"Amerotyphlops\", \"ordem\": \"Squamata\", \"familia\": \"Typhlopidae\", \"ano_coleta\": 2014.0, \"qualificador_atual\": null}, {\"altitude\": 19.0, \"especie_atual\": \"Brongersmianus\", \"genero_atual\": \"Amerotyphlops\", \"ordem\": \"Squamata\", \"familia\": \"Typhlopidae\", \"ano_coleta\": 2014.0, \"qualificador_atual\": null}, {\"altitude\": 19.0, \"especie_atual\": \"Brongersmianus\", \"genero_atual\": \"Amerotyphlops\", \"ordem\": \"Squamata\", \"familia\": \"Typhlopidae\", \"ano_coleta\": 2015.0, \"qualificador_atual\": null}, {\"altitude\": 19.0, \"especie_atual\": \"Brongersmianus\", \"genero_atual\": \"Amerotyphlops\", \"ordem\": \"Squamata\", \"familia\": \"Typhlopidae\", \"ano_coleta\": 2015.0, \"qualificador_atual\": null}, {\"altitude\": 19.0, \"especie_atual\": \"Brongersmianus\", \"genero_atual\": \"Amerotyphlops\", \"ordem\": \"Squamata\", \"familia\": \"Typhlopidae\", \"ano_coleta\": 2015.0, \"qualificador_atual\": null}, {\"altitude\": 19.0, \"especie_atual\": \"Nan\", \"genero_atual\": \"Amphisbaena\", \"ordem\": \"Squamata\", \"familia\": \"Amphisbaenidae\", \"ano_coleta\": 2015.0, \"qualificador_atual\": \"sp.\"}, {\"altitude\": 19.0, \"especie_atual\": \"Jararaca\", \"genero_atual\": \"Bothrops\", \"ordem\": \"Squamata\", \"familia\": \"Viperidae\", \"ano_coleta\": 2016.0, \"qualificador_atual\": null}, {\"altitude\": 19.0, \"especie_atual\": \"Agilis\", \"genero_atual\": \"Brasiliscincus\", \"ordem\": \"Squamata\", \"familia\": \"Scincidae\", \"ano_coleta\": 2014.0, \"qualificador_atual\": null}, {\"altitude\": 19.0, \"especie_atual\": \"Agilis\", \"genero_atual\": \"Brasiliscincus\", \"ordem\": \"Squamata\", \"familia\": \"Scincidae\", \"ano_coleta\": 2014.0, \"qualificador_atual\": null}, {\"altitude\": 19.0, \"especie_atual\": \"Agilis\", \"genero_atual\": \"Brasiliscincus\", \"ordem\": \"Squamata\", \"familia\": \"Scincidae\", \"ano_coleta\": 2014.0, \"qualificador_atual\": null}, {\"altitude\": 19.0, \"especie_atual\": \"Littoralis\", \"genero_atual\": \"Glaucomastix\", \"ordem\": \"Squamata\", \"familia\": \"Teiidae\", \"ano_coleta\": 2014.0, \"qualificador_atual\": null}, {\"altitude\": 19.0, \"especie_atual\": \"Littoralis\", \"genero_atual\": \"Glaucomastix\", \"ordem\": \"Squamata\", \"familia\": \"Teiidae\", \"ano_coleta\": 2014.0, \"qualificador_atual\": null}, {\"altitude\": 19.0, \"especie_atual\": \"Darwinii\", \"genero_atual\": \"Gymnodactylus\", \"ordem\": \"Squamata\", \"familia\": \"Phyllodactylidae\", \"ano_coleta\": 2014.0, \"qualificador_atual\": null}, {\"altitude\": 19.0, \"especie_atual\": \"Darwinii\", \"genero_atual\": \"Gymnodactylus\", \"ordem\": \"Squamata\", \"familia\": \"Phyllodactylidae\", \"ano_coleta\": 2014.0, \"qualificador_atual\": null}, {\"altitude\": 19.0, \"especie_atual\": \"Darwinii\", \"genero_atual\": \"Gymnodactylus\", \"ordem\": \"Squamata\", \"familia\": \"Phyllodactylidae\", \"ano_coleta\": 2015.0, \"qualificador_atual\": null}, {\"altitude\": 19.0, \"especie_atual\": \"Darwinii\", \"genero_atual\": \"Gymnodactylus\", \"ordem\": \"Squamata\", \"familia\": \"Phyllodactylidae\", \"ano_coleta\": 2015.0, \"qualificador_atual\": null}, {\"altitude\": 19.0, \"especie_atual\": \"Macrorhyncha\", \"genero_atual\": \"Psychosaura\", \"ordem\": \"Squamata\", \"familia\": \"Scincidae\", \"ano_coleta\": 2014.0, \"qualificador_atual\": null}, {\"altitude\": 19.0, \"especie_atual\": \"Macrorhyncha\", \"genero_atual\": \"Psychosaura\", \"ordem\": \"Squamata\", \"familia\": \"Scincidae\", \"ano_coleta\": 2014.0, \"qualificador_atual\": null}, {\"altitude\": 19.0, \"especie_atual\": \"Macrorhyncha\", \"genero_atual\": \"Psychosaura\", \"ordem\": \"Squamata\", \"familia\": \"Scincidae\", \"ano_coleta\": 2014.0, \"qualificador_atual\": null}, {\"altitude\": 19.0, \"especie_atual\": \"Macrorhyncha\", \"genero_atual\": \"Psychosaura\", \"ordem\": \"Squamata\", \"familia\": \"Scincidae\", \"ano_coleta\": 2014.0, \"qualificador_atual\": null}, {\"altitude\": 19.0, \"especie_atual\": \"Macrorhyncha\", \"genero_atual\": \"Psychosaura\", \"ordem\": \"Squamata\", \"familia\": \"Scincidae\", \"ano_coleta\": 2014.0, \"qualificador_atual\": null}, {\"altitude\": 19.0, \"especie_atual\": \"Macrorhyncha\", \"genero_atual\": \"Psychosaura\", \"ordem\": \"Squamata\", \"familia\": \"Scincidae\", \"ano_coleta\": 2014.0, \"qualificador_atual\": null}, {\"altitude\": 19.0, \"especie_atual\": \"Merianae\", \"genero_atual\": \"Salvator\", \"ordem\": \"Squamata\", \"familia\": \"Teiidae\", \"ano_coleta\": 2014.0, \"qualificador_atual\": null}, {\"altitude\": 195.0, \"especie_atual\": \"Rhombifer\", \"genero_atual\": \"Oxyrhopus\", \"ordem\": \"Squamata\", \"familia\": \"Dipsadidae\", \"ano_coleta\": 2011.0, \"qualificador_atual\": null}, {\"altitude\": 195.0, \"especie_atual\": \"Nigra\", \"genero_atual\": \"Pseudoboa\", \"ordem\": \"Squamata\", \"familia\": \"Dipsadidae\", \"ano_coleta\": 2011.0, \"qualificador_atual\": null}, {\"altitude\": 20.0, \"especie_atual\": \"Carinicaudus\", \"genero_atual\": \"Helicops\", \"ordem\": \"Squamata\", \"familia\": \"Dipsadidae\", \"ano_coleta\": 2003.0, \"qualificador_atual\": null}, {\"altitude\": 200.0, \"especie_atual\": \"Tartarus\", \"genero_atual\": \"Atractus\", \"ordem\": \"Squamata\", \"familia\": \"Dipsadidae\", \"ano_coleta\": 2008.0, \"qualificador_atual\": null}, {\"altitude\": 200.0, \"especie_atual\": \"Foveatus\", \"genero_atual\": \"Chironius\", \"ordem\": \"Squamata\", \"familia\": \"Colubridae\", \"ano_coleta\": 2009.0, \"qualificador_atual\": null}, {\"altitude\": 200.0, \"especie_atual\": \"Darwinii\", \"genero_atual\": \"Gymnodactylus\", \"ordem\": \"Squamata\", \"familia\": \"Phyllodactylidae\", \"ano_coleta\": 1997.0, \"qualificador_atual\": null}, {\"altitude\": 200.0, \"especie_atual\": \"Reginae\", \"genero_atual\": \"Liophis\", \"ordem\": \"Squamata\", \"familia\": \"Dipsadidae\", \"ano_coleta\": 2009.0, \"qualificador_atual\": null}, {\"altitude\": 2070.0, \"especie_atual\": \"Carrioni\", \"genero_atual\": \"Atractus\", \"ordem\": \"Squamata\", \"familia\": \"Dipsadidae\", \"ano_coleta\": 1989.0, \"qualificador_atual\": null}, {\"altitude\": 2100.0, \"especie_atual\": \"Gigas\", \"genero_atual\": \"Atractus\", \"ordem\": \"Squamata\", \"familia\": \"Dipsadidae\", \"ano_coleta\": 1996.0, \"qualificador_atual\": null}, {\"altitude\": 2100.0, \"especie_atual\": \"Ramonriveroi\", \"genero_atual\": \"Thamnodynastes\", \"ordem\": \"Squamata\", \"familia\": \"Dipsadidae\", \"ano_coleta\": 1999.0, \"qualificador_atual\": \"sp.\"}, {\"altitude\": 2130.0, \"especie_atual\": \"Matthewi\", \"genero_atual\": \"Atractus\", \"ordem\": \"Squamata\", \"familia\": \"Dipsadidae\", \"ano_coleta\": 1999.0, \"qualificador_atual\": null}, {\"altitude\": 2134.0, \"especie_atual\": \"Titanicus\", \"genero_atual\": \"Atractus\", \"ordem\": \"Squamata\", \"familia\": \"Dipsadidae\", \"ano_coleta\": 2011.0, \"qualificador_atual\": null}, {\"altitude\": 22.0, \"especie_atual\": \"Carinicaudus\", \"genero_atual\": \"Helicops\", \"ordem\": \"Squamata\", \"familia\": \"Dipsadidae\", \"ano_coleta\": 2009.0, \"qualificador_atual\": null}, {\"altitude\": 22.0, \"especie_atual\": \"Carinicaudus\", \"genero_atual\": \"Helicops\", \"ordem\": \"Squamata\", \"familia\": \"Dipsadidae\", \"ano_coleta\": 2013.0, \"qualificador_atual\": null}, {\"altitude\": 22.0, \"especie_atual\": \"Mabouia\", \"genero_atual\": \"Hemidactylus\", \"ordem\": \"Squamata\", \"familia\": \"Gekkonidae\", \"ano_coleta\": 2013.0, \"qualificador_atual\": null}, {\"altitude\": 22.0, \"especie_atual\": \"Macrorhyncha\", \"genero_atual\": \"Mabuya\", \"ordem\": \"Squamata\", \"familia\": \"Scincidae\", \"ano_coleta\": 2013.0, \"qualificador_atual\": null}, {\"altitude\": 22.0, \"especie_atual\": \"Neuwiedi\", \"genero_atual\": \"Sibynomorphus\", \"ordem\": \"Squamata\", \"familia\": \"Dipsadidae\", \"ano_coleta\": 2013.0, \"qualificador_atual\": null}, {\"altitude\": 22.0, \"especie_atual\": \"Torquatus\", \"genero_atual\": \"Tropidurus\", \"ordem\": \"Squamata\", \"familia\": \"Tropiduridae\", \"ano_coleta\": 2013.0, \"qualificador_atual\": null}, {\"altitude\": 2200.0, \"especie_atual\": \"Duboisi\", \"genero_atual\": \"Atractus\", \"ordem\": \"Squamata\", \"familia\": \"Dipsadidae\", \"ano_coleta\": 1996.0, \"qualificador_atual\": null}, {\"altitude\": 222.0, \"especie_atual\": \"Acutirostris\", \"genero_atual\": \"Polychrus\", \"ordem\": \"Squamata\", \"familia\": \"Polychrotidae\", \"ano_coleta\": 2011.0, \"qualificador_atual\": null}, {\"altitude\": 2237.0, \"especie_atual\": \"Vitti\", \"genero_atual\": \"Liophis\", \"ordem\": \"Squamata\", \"familia\": \"Dipsadidae\", \"ano_coleta\": 2009.0, \"qualificador_atual\": null}, {\"altitude\": 227.0, \"especie_atual\": \"Torquatus\", \"genero_atual\": \"Tropidurus\", \"ordem\": \"Squamata\", \"familia\": \"Tropiduridae\", \"ano_coleta\": 2008.0, \"qualificador_atual\": null}, {\"altitude\": 227.0, \"especie_atual\": \"Torquatus\", \"genero_atual\": \"Tropidurus\", \"ordem\": \"Squamata\", \"familia\": \"Tropiduridae\", \"ano_coleta\": 2008.0, \"qualificador_atual\": null}, {\"altitude\": 227.0, \"especie_atual\": \"Torquatus\", \"genero_atual\": \"Tropidurus\", \"ordem\": \"Squamata\", \"familia\": \"Tropiduridae\", \"ano_coleta\": 2008.0, \"qualificador_atual\": null}, {\"altitude\": 227.0, \"especie_atual\": \"Torquatus\", \"genero_atual\": \"Tropidurus\", \"ordem\": \"Squamata\", \"familia\": \"Tropiduridae\", \"ano_coleta\": 2008.0, \"qualificador_atual\": null}, {\"altitude\": 230.0, \"especie_atual\": \"Cephalostriata\", \"genero_atual\": \"Echinanthera\", \"ordem\": \"Squamata\", \"familia\": \"Dipsadidae\", \"ano_coleta\": 2006.0, \"qualificador_atual\": null}, {\"altitude\": 235.0, \"especie_atual\": \"Hortulanus\", \"genero_atual\": \"Corallus\", \"ordem\": \"Squamata\", \"familia\": \"Boidae\", \"ano_coleta\": 2008.0, \"qualificador_atual\": null}, {\"altitude\": 2387.0, \"especie_atual\": \"Lundii\", \"genero_atual\": \"Heterodactylus\", \"ordem\": \"Squamata\", \"familia\": \"Gymnophthalmidae\", \"ano_coleta\": 2006.0, \"qualificador_atual\": null}, {\"altitude\": 2396.0, \"especie_atual\": \"Lundii\", \"genero_atual\": \"Heterodactylus\", \"ordem\": \"Squamata\", \"familia\": \"Gymnophthalmidae\", \"ano_coleta\": 2006.0, \"qualificador_atual\": null}, {\"altitude\": 24.0, \"especie_atual\": \"Brongersmianus\", \"genero_atual\": \"Amerotyphlops\", \"ordem\": \"Squamata\", \"familia\": \"Typhlopidae\", \"ano_coleta\": 2015.0, \"qualificador_atual\": null}, {\"altitude\": 24.0, \"especie_atual\": \"Jararaca\", \"genero_atual\": \"Bothrops\", \"ordem\": \"Squamata\", \"familia\": \"Viperidae\", \"ano_coleta\": 2015.0, \"qualificador_atual\": null}, {\"altitude\": 24.0, \"especie_atual\": \"Littoralis\", \"genero_atual\": \"Glaucomastix\", \"ordem\": \"Squamata\", \"familia\": \"Teiidae\", \"ano_coleta\": 2014.0, \"qualificador_atual\": null}, {\"altitude\": 24.0, \"especie_atual\": \"Littoralis\", \"genero_atual\": \"Glaucomastix\", \"ordem\": \"Squamata\", \"familia\": \"Teiidae\", \"ano_coleta\": 2014.0, \"qualificador_atual\": null}, {\"altitude\": 24.0, \"especie_atual\": \"Littoralis\", \"genero_atual\": \"Glaucomastix\", \"ordem\": \"Squamata\", \"familia\": \"Teiidae\", \"ano_coleta\": 2014.0, \"qualificador_atual\": null}, {\"altitude\": 24.0, \"especie_atual\": \"Littoralis\", \"genero_atual\": \"Glaucomastix\", \"ordem\": \"Squamata\", \"familia\": \"Teiidae\", \"ano_coleta\": 2014.0, \"qualificador_atual\": null}, {\"altitude\": 24.0, \"especie_atual\": \"Darwinii\", \"genero_atual\": \"Gymnodactylus\", \"ordem\": \"Squamata\", \"familia\": \"Phyllodactylidae\", \"ano_coleta\": 2014.0, \"qualificador_atual\": null}, {\"altitude\": 24.0, \"especie_atual\": \"Darwinii\", \"genero_atual\": \"Gymnodactylus\", \"ordem\": \"Squamata\", \"familia\": \"Phyllodactylidae\", \"ano_coleta\": 2014.0, \"qualificador_atual\": null}, {\"altitude\": 24.0, \"especie_atual\": \"Darwinii\", \"genero_atual\": \"Gymnodactylus\", \"ordem\": \"Squamata\", \"familia\": \"Phyllodactylidae\", \"ano_coleta\": 2014.0, \"qualificador_atual\": null}, {\"altitude\": 24.0, \"especie_atual\": \"Darwinii\", \"genero_atual\": \"Gymnodactylus\", \"ordem\": \"Squamata\", \"familia\": \"Phyllodactylidae\", \"ano_coleta\": 2015.0, \"qualificador_atual\": null}, {\"altitude\": 24.0, \"especie_atual\": \"Mabouia\", \"genero_atual\": \"Hemidactylus\", \"ordem\": \"Squamata\", \"familia\": \"Gekkonidae\", \"ano_coleta\": 2015.0, \"qualificador_atual\": null}, {\"altitude\": 24.0, \"especie_atual\": \"Miliaris\", \"genero_atual\": \"Liophis\", \"ordem\": \"Squamata\", \"familia\": \"Dipsadidae\", \"ano_coleta\": 2016.0, \"qualificador_atual\": null}, {\"altitude\": 24.0, \"especie_atual\": \"Trigeminus\", \"genero_atual\": \"Oxyrhopus\", \"ordem\": \"Squamata\", \"familia\": \"Dipsadidae\", \"ano_coleta\": 2015.0, \"qualificador_atual\": null}, {\"altitude\": 24.0, \"especie_atual\": \"Torquatus\", \"genero_atual\": \"Tropidurus\", \"ordem\": \"Squamata\", \"familia\": \"Tropiduridae\", \"ano_coleta\": 2014.0, \"qualificador_atual\": null}, {\"altitude\": 2400.0, \"especie_atual\": \"Dalcyanus\", \"genero_atual\": \"Colobodactylus\", \"ordem\": \"Squamata\", \"familia\": \"Gymnophthalmidae\", \"ano_coleta\": 2008.0, \"qualificador_atual\": null}, {\"altitude\": 2400.0, \"especie_atual\": \"Dalcyanus\", \"genero_atual\": \"Colobodactylus\", \"ordem\": \"Squamata\", \"familia\": \"Gymnophthalmidae\", \"ano_coleta\": 2008.0, \"qualificador_atual\": null}, {\"altitude\": 2400.0, \"especie_atual\": \"Dalcyanus\", \"genero_atual\": \"Colobodactylus\", \"ordem\": \"Squamata\", \"familia\": \"Gymnophthalmidae\", \"ano_coleta\": 2008.0, \"qualificador_atual\": null}, {\"altitude\": 2400.0, \"especie_atual\": \"Dalcyanus\", \"genero_atual\": \"Colobodactylus\", \"ordem\": \"Squamata\", \"familia\": \"Gymnophthalmidae\", \"ano_coleta\": 2008.0, \"qualificador_atual\": null}, {\"altitude\": 2400.0, \"especie_atual\": \"Dalcyanus\", \"genero_atual\": \"Colobodactylus\", \"ordem\": \"Squamata\", \"familia\": \"Gymnophthalmidae\", \"ano_coleta\": 2008.0, \"qualificador_atual\": null}, {\"altitude\": 2400.0, \"especie_atual\": \"Dalcyanus\", \"genero_atual\": \"Colobodactylus\", \"ordem\": \"Squamata\", \"familia\": \"Gymnophthalmidae\", \"ano_coleta\": 2008.0, \"qualificador_atual\": null}, {\"altitude\": 2400.0, \"especie_atual\": \"Dalcyanus\", \"genero_atual\": \"Colobodactylus\", \"ordem\": \"Squamata\", \"familia\": \"Gymnophthalmidae\", \"ano_coleta\": 2008.0, \"qualificador_atual\": null}, {\"altitude\": 2400.0, \"especie_atual\": \"Lundii\", \"genero_atual\": \"Heterodactylus\", \"ordem\": \"Squamata\", \"familia\": \"Gymnophthalmidae\", \"ano_coleta\": 2005.0, \"qualificador_atual\": null}, {\"altitude\": 2400.0, \"especie_atual\": \"Dorsivittata\", \"genero_atual\": \"Mabuya\", \"ordem\": \"Squamata\", \"familia\": \"Scincidae\", \"ano_coleta\": 2008.0, \"qualificador_atual\": null}, {\"altitude\": 2400.0, \"especie_atual\": \"Strigatus\", \"genero_atual\": \"Thamnodynastes\", \"ordem\": \"Squamata\", \"familia\": \"Dipsadidae\", \"ano_coleta\": 2006.0, \"qualificador_atual\": null}, {\"altitude\": 242.0, \"especie_atual\": \"Patagoniensis\", \"genero_atual\": \"Philodryas\", \"ordem\": \"Squamata\", \"familia\": \"Dipsadidae\", \"ano_coleta\": 2008.0, \"qualificador_atual\": null}, {\"altitude\": 242.0, \"especie_atual\": \"Torquatus\", \"genero_atual\": \"Tropidurus\", \"ordem\": \"Squamata\", \"familia\": \"Tropiduridae\", \"ano_coleta\": 2008.0, \"qualificador_atual\": null}, {\"altitude\": 245.0, \"especie_atual\": \"Alba\", \"genero_atual\": \"Amphisbaena\", \"ordem\": \"Squamata\", \"familia\": \"Amphisbaenidae\", \"ano_coleta\": 2011.0, \"qualificador_atual\": null}, {\"altitude\": 245.0, \"especie_atual\": \"Humeralis\", \"genero_atual\": \"Gonatodes\", \"ordem\": \"Squamata\", \"familia\": \"Sphaerodactylidae\", \"ano_coleta\": 2011.0, \"qualificador_atual\": null}, {\"altitude\": 245.0, \"especie_atual\": \"Frenata\", \"genero_atual\": \"Mabuya\", \"ordem\": \"Squamata\", \"familia\": \"Scincidae\", \"ano_coleta\": 2011.0, \"qualificador_atual\": null}, {\"altitude\": 245.0, \"especie_atual\": \"Caducus\", \"genero_atual\": \"Stenocercus\", \"ordem\": \"Squamata\", \"familia\": \"Tropiduridae\", \"ano_coleta\": 2011.0, \"qualificador_atual\": null}, {\"altitude\": 25.0, \"especie_atual\": \"Brongersmianus\", \"genero_atual\": \"Amerotyphlops\", \"ordem\": \"Squamata\", \"familia\": \"Typhlopidae\", \"ano_coleta\": 2015.0, \"qualificador_atual\": null}, {\"altitude\": 25.0, \"especie_atual\": \"Gaudichaudii\", \"genero_atual\": \"Ecpleopus\", \"ordem\": \"Squamata\", \"familia\": \"Gymnophthalmidae\", \"ano_coleta\": 2008.0, \"qualificador_atual\": null}, {\"altitude\": 25.0, \"especie_atual\": \"Gaudichaudii\", \"genero_atual\": \"Ecpleopus\", \"ordem\": \"Squamata\", \"familia\": \"Gymnophthalmidae\", \"ano_coleta\": 2008.0, \"qualificador_atual\": null}, {\"altitude\": 25.0, \"especie_atual\": \"Gaudichaudii\", \"genero_atual\": \"Ecpleopus\", \"ordem\": \"Squamata\", \"familia\": \"Gymnophthalmidae\", \"ano_coleta\": 1971.0, \"qualificador_atual\": null}, {\"altitude\": 25.0, \"especie_atual\": \"Darwinii\", \"genero_atual\": \"Gymnodactylus\", \"ordem\": \"Squamata\", \"familia\": \"Phyllodactylidae\", \"ano_coleta\": 2008.0, \"qualificador_atual\": null}, {\"altitude\": 25.0, \"especie_atual\": \"Darwinii\", \"genero_atual\": \"Gymnodactylus\", \"ordem\": \"Squamata\", \"familia\": \"Phyllodactylidae\", \"ano_coleta\": 2008.0, \"qualificador_atual\": null}, {\"altitude\": 25.0, \"especie_atual\": \"Darwinii\", \"genero_atual\": \"Gymnodactylus\", \"ordem\": \"Squamata\", \"familia\": \"Phyllodactylidae\", \"ano_coleta\": 2008.0, \"qualificador_atual\": null}, {\"altitude\": 25.0, \"especie_atual\": \"Darwinii\", \"genero_atual\": \"Gymnodactylus\", \"ordem\": \"Squamata\", \"familia\": \"Phyllodactylidae\", \"ano_coleta\": 2008.0, \"qualificador_atual\": null}, {\"altitude\": 25.0, \"especie_atual\": \"Darwinii\", \"genero_atual\": \"Gymnodactylus\", \"ordem\": \"Squamata\", \"familia\": \"Phyllodactylidae\", \"ano_coleta\": 2008.0, \"qualificador_atual\": null}, {\"altitude\": 25.0, \"especie_atual\": \"Darwinii\", \"genero_atual\": \"Gymnodactylus\", \"ordem\": \"Squamata\", \"familia\": \"Phyllodactylidae\", \"ano_coleta\": 2008.0, \"qualificador_atual\": null}, {\"altitude\": 25.0, \"especie_atual\": \"Darwinii\", \"genero_atual\": \"Gymnodactylus\", \"ordem\": \"Squamata\", \"familia\": \"Phyllodactylidae\", \"ano_coleta\": 2008.0, \"qualificador_atual\": null}, {\"altitude\": 25.0, \"especie_atual\": \"Petolarius\", \"genero_atual\": \"Oxyrhopus\", \"ordem\": \"Squamata\", \"familia\": \"Dipsadidae\", \"ano_coleta\": null, \"qualificador_atual\": null}, {\"altitude\": 250.0, \"especie_atual\": \"Melanocephala\", \"genero_atual\": \"Tantilla\", \"ordem\": \"Squamata\", \"familia\": \"Colubridae\", \"ano_coleta\": 2008.0, \"qualificador_atual\": null}, {\"altitude\": 26.0, \"especie_atual\": \"Miliaris\", \"genero_atual\": \"Liophis\", \"ordem\": \"Squamata\", \"familia\": \"Dipsadidae\", \"ano_coleta\": 2004.0, \"qualificador_atual\": null}, {\"altitude\": 26.0, \"especie_atual\": \"Poecilogyrus\", \"genero_atual\": \"Liophis\", \"ordem\": \"Squamata\", \"familia\": \"Dipsadidae\", \"ano_coleta\": 2006.0, \"qualificador_atual\": null}, {\"altitude\": 26.0, \"especie_atual\": \"Poecilogyrus\", \"genero_atual\": \"Liophis\", \"ordem\": \"Squamata\", \"familia\": \"Dipsadidae\", \"ano_coleta\": 2006.0, \"qualificador_atual\": null}, {\"altitude\": 2638.0, \"especie_atual\": \"Roulei\", \"genero_atual\": \"Atractus\", \"ordem\": \"Squamata\", \"familia\": \"Dipsadidae\", \"ano_coleta\": 2006.0, \"qualificador_atual\": null}, {\"altitude\": 265.0, \"especie_atual\": \"Collaris\", \"genero_atual\": \"Atractus\", \"ordem\": \"Squamata\", \"familia\": \"Dipsadidae\", \"ano_coleta\": null, \"qualificador_atual\": null}, {\"altitude\": 27.0, \"especie_atual\": \"Brongersmianus\", \"genero_atual\": \"Amerotyphlops\", \"ordem\": \"Squamata\", \"familia\": \"Typhlopidae\", \"ano_coleta\": 2015.0, \"qualificador_atual\": null}, {\"altitude\": 27.0, \"especie_atual\": \"Darwinii\", \"genero_atual\": \"Gymnodactylus\", \"ordem\": \"Squamata\", \"familia\": \"Phyllodactylidae\", \"ano_coleta\": 2014.0, \"qualificador_atual\": null}, {\"altitude\": 28.0, \"especie_atual\": \"Brongersmianus\", \"genero_atual\": \"Amerotyphlops\", \"ordem\": \"Squamata\", \"familia\": \"Typhlopidae\", \"ano_coleta\": 2015.0, \"qualificador_atual\": null}, {\"altitude\": 28.0, \"especie_atual\": \"Gaudichaudii\", \"genero_atual\": \"Ecpleopus\", \"ordem\": \"Squamata\", \"familia\": \"Gymnophthalmidae\", \"ano_coleta\": 2014.0, \"qualificador_atual\": null}, {\"altitude\": 28.0, \"especie_atual\": \"Gaudichaudii\", \"genero_atual\": \"Ecpleopus\", \"ordem\": \"Squamata\", \"familia\": \"Gymnophthalmidae\", \"ano_coleta\": 2014.0, \"qualificador_atual\": null}, {\"altitude\": 28.0, \"especie_atual\": \"Mabouia\", \"genero_atual\": \"Hemidactylus\", \"ordem\": \"Squamata\", \"familia\": \"Gekkonidae\", \"ano_coleta\": 2015.0, \"qualificador_atual\": null}, {\"altitude\": 280.0, \"especie_atual\": \"Duseni\", \"genero_atual\": \"Salvator\", \"ordem\": \"Squamata\", \"familia\": \"Teiidae\", \"ano_coleta\": null, \"qualificador_atual\": null}, {\"altitude\": 280.0, \"especie_atual\": \"Duseni\", \"genero_atual\": \"Salvator\", \"ordem\": \"Squamata\", \"familia\": \"Teiidae\", \"ano_coleta\": null, \"qualificador_atual\": null}, {\"altitude\": 3.0, \"especie_atual\": \"Ameiva\", \"genero_atual\": \"Ameiva\", \"ordem\": \"Squamata\", \"familia\": \"Teiidae\", \"ano_coleta\": 2015.0, \"qualificador_atual\": null}, {\"altitude\": 3.0, \"especie_atual\": \"Gaudichaudii\", \"genero_atual\": \"Ecpleopus\", \"ordem\": \"Squamata\", \"familia\": \"Gymnophthalmidae\", \"ano_coleta\": 2015.0, \"qualificador_atual\": null}, {\"altitude\": 3.0, \"especie_atual\": \"Darwinii\", \"genero_atual\": \"Gymnodactylus\", \"ordem\": \"Squamata\", \"familia\": \"Phyllodactylidae\", \"ano_coleta\": 2014.0, \"qualificador_atual\": null}, {\"altitude\": 3.0, \"especie_atual\": \"Mabouia\", \"genero_atual\": \"Hemidactylus\", \"ordem\": \"Squamata\", \"familia\": \"Gekkonidae\", \"ano_coleta\": 2016.0, \"qualificador_atual\": null}, {\"altitude\": 3.0, \"especie_atual\": \"Macrorhyncha\", \"genero_atual\": \"Psychosaura\", \"ordem\": \"Squamata\", \"familia\": \"Scincidae\", \"ano_coleta\": 2014.0, \"qualificador_atual\": null}, {\"altitude\": 3.0, \"especie_atual\": \"Merianae\", \"genero_atual\": \"Salvator\", \"ordem\": \"Squamata\", \"familia\": \"Teiidae\", \"ano_coleta\": 2015.0, \"qualificador_atual\": null}, {\"altitude\": 30.0, \"especie_atual\": \"Boimirim\", \"genero_atual\": \"Atractus\", \"ordem\": \"Squamata\", \"familia\": \"Dipsadidae\", \"ano_coleta\": 2008.0, \"qualificador_atual\": null}, {\"altitude\": 30.0, \"especie_atual\": \"Olfersii\", \"genero_atual\": \"Philodryas\", \"ordem\": \"Squamata\", \"familia\": \"Dipsadidae\", \"ano_coleta\": 2004.0, \"qualificador_atual\": null}, {\"altitude\": 30.0, \"especie_atual\": \"Torquatus\", \"genero_atual\": \"Tropidurus\", \"ordem\": \"Squamata\", \"familia\": \"Tropiduridae\", \"ano_coleta\": 2013.0, \"qualificador_atual\": null}, {\"altitude\": 300.0, \"especie_atual\": \"Vermicularis\", \"genero_atual\": \"Amphisbaena\", \"ordem\": \"Squamata\", \"familia\": \"Amphisbaenidae\", \"ano_coleta\": 1988.0, \"qualificador_atual\": null}, {\"altitude\": 300.0, \"especie_atual\": \"Punctatus\", \"genero_atual\": \"Anolis\", \"ordem\": \"Squamata\", \"familia\": \"Dactyloidae\", \"ano_coleta\": 2007.0, \"qualificador_atual\": null}, {\"altitude\": 316.0, \"especie_atual\": \"Neuwiedi\", \"genero_atual\": \"Sibynomorphus\", \"ordem\": \"Squamata\", \"familia\": \"Dipsadidae\", \"ano_coleta\": 2007.0, \"qualificador_atual\": null}, {\"altitude\": 32.0, \"especie_atual\": \"Darwinii\", \"genero_atual\": \"Gymnodactylus\", \"ordem\": \"Squamata\", \"familia\": \"Phyllodactylidae\", \"ano_coleta\": 2013.0, \"qualificador_atual\": null}, {\"altitude\": 32.0, \"especie_atual\": \"Merianae\", \"genero_atual\": \"Salvator\", \"ordem\": \"Squamata\", \"familia\": \"Teiidae\", \"ano_coleta\": 2013.0, \"qualificador_atual\": null}, {\"altitude\": 320.0, \"especie_atual\": \"Jararaca\", \"genero_atual\": \"Bothrops\", \"ordem\": \"Squamata\", \"familia\": \"Viperidae\", \"ano_coleta\": 2006.0, \"qualificador_atual\": null}, {\"altitude\": 320.0, \"especie_atual\": \"Melanocephala\", \"genero_atual\": \"Tantilla\", \"ordem\": \"Squamata\", \"familia\": \"Colubridae\", \"ano_coleta\": 2008.0, \"qualificador_atual\": null}, {\"altitude\": 33.0, \"especie_atual\": \"Gaudichaudii\", \"genero_atual\": \"Ecpleopus\", \"ordem\": \"Squamata\", \"familia\": \"Gymnophthalmidae\", \"ano_coleta\": 2010.0, \"qualificador_atual\": null}, {\"altitude\": 33.0, \"especie_atual\": \"Gaudichaudii\", \"genero_atual\": \"Ecpleopus\", \"ordem\": \"Squamata\", \"familia\": \"Gymnophthalmidae\", \"ano_coleta\": 2010.0, \"qualificador_atual\": null}, {\"altitude\": 33.0, \"especie_atual\": \"Gaudichaudii\", \"genero_atual\": \"Ecpleopus\", \"ordem\": \"Squamata\", \"familia\": \"Gymnophthalmidae\", \"ano_coleta\": 2010.0, \"qualificador_atual\": null}, {\"altitude\": 33.0, \"especie_atual\": \"Gaudichaudii\", \"genero_atual\": \"Ecpleopus\", \"ordem\": \"Squamata\", \"familia\": \"Gymnophthalmidae\", \"ano_coleta\": 2010.0, \"qualificador_atual\": null}, {\"altitude\": 33.0, \"especie_atual\": \"Gaudichaudii\", \"genero_atual\": \"Ecpleopus\", \"ordem\": \"Squamata\", \"familia\": \"Gymnophthalmidae\", \"ano_coleta\": 2010.0, \"qualificador_atual\": null}, {\"altitude\": 33.0, \"especie_atual\": \"Gaudichaudii\", \"genero_atual\": \"Ecpleopus\", \"ordem\": \"Squamata\", \"familia\": \"Gymnophthalmidae\", \"ano_coleta\": 2010.0, \"qualificador_atual\": null}, {\"altitude\": 33.0, \"especie_atual\": \"Darwinii\", \"genero_atual\": \"Gymnodactylus\", \"ordem\": \"Squamata\", \"familia\": \"Phyllodactylidae\", \"ano_coleta\": 2010.0, \"qualificador_atual\": null}, {\"altitude\": 33.0, \"especie_atual\": \"Darwinii\", \"genero_atual\": \"Gymnodactylus\", \"ordem\": \"Squamata\", \"familia\": \"Phyllodactylidae\", \"ano_coleta\": 2010.0, \"qualificador_atual\": null}, {\"altitude\": 33.0, \"especie_atual\": \"Mabouia\", \"genero_atual\": \"Hemidactylus\", \"ordem\": \"Squamata\", \"familia\": \"Gekkonidae\", \"ano_coleta\": 2010.0, \"qualificador_atual\": null}, {\"altitude\": 33.0, \"especie_atual\": \"Miliaris\", \"genero_atual\": \"Liophis\", \"ordem\": \"Squamata\", \"familia\": \"Dipsadidae\", \"ano_coleta\": 2010.0, \"qualificador_atual\": null}, {\"altitude\": 33.0, \"especie_atual\": \"Macrorhyncha\", \"genero_atual\": \"Mabuya\", \"ordem\": \"Squamata\", \"familia\": \"Scincidae\", \"ano_coleta\": 2010.0, \"qualificador_atual\": null}, {\"altitude\": 33.0, \"especie_atual\": \"Petolarius\", \"genero_atual\": \"Oxyrhopus\", \"ordem\": \"Squamata\", \"familia\": \"Dipsadidae\", \"ano_coleta\": 2011.0, \"qualificador_atual\": null}, {\"altitude\": 330.0, \"especie_atual\": \"Guibei\", \"genero_atual\": \"Oxyrhopus\", \"ordem\": \"Squamata\", \"familia\": \"Dipsadidae\", \"ano_coleta\": 2007.0, \"qualificador_atual\": null}, {\"altitude\": 336.0, \"especie_atual\": \"Torquatus\", \"genero_atual\": \"Tropidurus\", \"ordem\": \"Squamata\", \"familia\": \"Tropiduridae\", \"ano_coleta\": 2007.0, \"qualificador_atual\": null}, {\"altitude\": 337.0, \"especie_atual\": \"Mabouia\", \"genero_atual\": \"Hemidactylus\", \"ordem\": \"Squamata\", \"familia\": \"Gekkonidae\", \"ano_coleta\": 2007.0, \"qualificador_atual\": null}, {\"altitude\": 337.0, \"especie_atual\": \"Torquatus\", \"genero_atual\": \"Tropidurus\", \"ordem\": \"Squamata\", \"familia\": \"Tropiduridae\", \"ano_coleta\": 2007.0, \"qualificador_atual\": null}, {\"altitude\": 337.0, \"especie_atual\": \"Torquatus\", \"genero_atual\": \"Tropidurus\", \"ordem\": \"Squamata\", \"familia\": \"Tropiduridae\", \"ano_coleta\": 2007.0, \"qualificador_atual\": null}, {\"altitude\": 345.0, \"especie_atual\": \"Quadricarinatus\", \"genero_atual\": \"Chironius\", \"ordem\": \"Squamata\", \"familia\": \"Colubridae\", \"ano_coleta\": 2007.0, \"qualificador_atual\": null}, {\"altitude\": 347.0, \"especie_atual\": \"Typhlus\", \"genero_atual\": \"Liophis\", \"ordem\": \"Squamata\", \"familia\": \"Dipsadidae\", \"ano_coleta\": 2007.0, \"qualificador_atual\": null}, {\"altitude\": 347.0, \"especie_atual\": \"Merremi\", \"genero_atual\": \"Xenodon\", \"ordem\": \"Squamata\", \"familia\": \"Dipsadidae\", \"ano_coleta\": 2007.0, \"qualificador_atual\": null}, {\"altitude\": 35.0, \"especie_atual\": \"Bicarinatus\", \"genero_atual\": \"Chironius\", \"ordem\": \"Squamata\", \"familia\": \"Colubridae\", \"ano_coleta\": 2007.0, \"qualificador_atual\": null}, {\"altitude\": 35.0, \"especie_atual\": \"Brasiliensis\", \"genero_atual\": \"Enyalius\", \"ordem\": \"Squamata\", \"familia\": \"Leiosauridae\", \"ano_coleta\": 2013.0, \"qualificador_atual\": null}, {\"altitude\": 35.0, \"especie_atual\": \"Brasiliensis\", \"genero_atual\": \"Enyalius\", \"ordem\": \"Squamata\", \"familia\": \"Leiosauridae\", \"ano_coleta\": 2013.0, \"qualificador_atual\": null}, {\"altitude\": 35.0, \"especie_atual\": \"Darwinii\", \"genero_atual\": \"Gymnodactylus\", \"ordem\": \"Squamata\", \"familia\": \"Phyllodactylidae\", \"ano_coleta\": 2013.0, \"qualificador_atual\": null}, {\"altitude\": 350.0, \"especie_atual\": \"Merremi\", \"genero_atual\": \"Xenodon\", \"ordem\": \"Squamata\", \"familia\": \"Dipsadidae\", \"ano_coleta\": 1946.0, \"qualificador_atual\": null}, {\"altitude\": 357.0, \"especie_atual\": \"Merianae\", \"genero_atual\": \"Salvator\", \"ordem\": \"Squamata\", \"familia\": \"Teiidae\", \"ano_coleta\": 2008.0, \"qualificador_atual\": null}, {\"altitude\": 359.0, \"especie_atual\": \"Striatus\", \"genero_atual\": \"Ophiodes\", \"ordem\": \"Squamata\", \"familia\": \"Anguidae\", \"ano_coleta\": 2007.0, \"qualificador_atual\": \"aff.\"}, {\"altitude\": 36.0, \"especie_atual\": \"Jararaca\", \"genero_atual\": \"Bothrops\", \"ordem\": \"Squamata\", \"familia\": \"Viperidae\", \"ano_coleta\": 2003.0, \"qualificador_atual\": null}, {\"altitude\": 36.0, \"especie_atual\": \"Exoletus\", \"genero_atual\": \"Chironius\", \"ordem\": \"Squamata\", \"familia\": \"Colubridae\", \"ano_coleta\": 2003.0, \"qualificador_atual\": null}, {\"altitude\": 36.0, \"especie_atual\": \"Exoletus\", \"genero_atual\": \"Chironius\", \"ordem\": \"Squamata\", \"familia\": \"Colubridae\", \"ano_coleta\": 2003.0, \"qualificador_atual\": null}, {\"altitude\": 36.0, \"especie_atual\": \"Poecilogyrus\", \"genero_atual\": \"Liophis\", \"ordem\": \"Squamata\", \"familia\": \"Dipsadidae\", \"ano_coleta\": 2003.0, \"qualificador_atual\": null}, {\"altitude\": 36.0, \"especie_atual\": \"Miliaris\", \"genero_atual\": \"Liophis\", \"ordem\": \"Squamata\", \"familia\": \"Dipsadidae\", \"ano_coleta\": 2003.0, \"qualificador_atual\": null}, {\"altitude\": 36.0, \"especie_atual\": \"Miliaris\", \"genero_atual\": \"Liophis\", \"ordem\": \"Squamata\", \"familia\": \"Dipsadidae\", \"ano_coleta\": 2005.0, \"qualificador_atual\": null}, {\"altitude\": 36.0, \"especie_atual\": \"Corallinus\", \"genero_atual\": \"Micrurus\", \"ordem\": \"Squamata\", \"familia\": \"Elapidae\", \"ano_coleta\": 2003.0, \"qualificador_atual\": null}, {\"altitude\": 36.0, \"especie_atual\": \"Petolarius\", \"genero_atual\": \"Oxyrhopus\", \"ordem\": \"Squamata\", \"familia\": \"Dipsadidae\", \"ano_coleta\": 2003.0, \"qualificador_atual\": null}, {\"altitude\": 36.0, \"especie_atual\": \"Neuwiedii\", \"genero_atual\": \"Xenodon\", \"ordem\": \"Squamata\", \"familia\": \"Dipsadidae\", \"ano_coleta\": 2003.0, \"qualificador_atual\": null}, {\"altitude\": 360.0, \"especie_atual\": \"Clathratus\", \"genero_atual\": \"Oxyrhopus\", \"ordem\": \"Squamata\", \"familia\": \"Dipsadidae\", \"ano_coleta\": 2007.0, \"qualificador_atual\": null}, {\"altitude\": 363.0, \"especie_atual\": \"Neuwiedi\", \"genero_atual\": \"Sibynomorphus\", \"ordem\": \"Squamata\", \"familia\": \"Dipsadidae\", \"ano_coleta\": 2007.0, \"qualificador_atual\": null}, {\"altitude\": 370.0, \"especie_atual\": \"Neuwiedi\", \"genero_atual\": \"Sibynomorphus\", \"ordem\": \"Squamata\", \"familia\": \"Dipsadidae\", \"ano_coleta\": null, \"qualificador_atual\": null}, {\"altitude\": 371.0, \"especie_atual\": \"Jararaca\", \"genero_atual\": \"Bothrops\", \"ordem\": \"Squamata\", \"familia\": \"Viperidae\", \"ano_coleta\": 2007.0, \"qualificador_atual\": null}, {\"altitude\": 378.0, \"especie_atual\": \"Jararaca\", \"genero_atual\": \"Bothrops\", \"ordem\": \"Squamata\", \"familia\": \"Viperidae\", \"ano_coleta\": 2007.0, \"qualificador_atual\": null}, {\"altitude\": 378.0, \"especie_atual\": \"Striatus\", \"genero_atual\": \"Ophiodes\", \"ordem\": \"Squamata\", \"familia\": \"Anguidae\", \"ano_coleta\": 2007.0, \"qualificador_atual\": \"cf.\"}, {\"altitude\": 38.0, \"especie_atual\": \"Darwinii\", \"genero_atual\": \"Gymnodactylus\", \"ordem\": \"Squamata\", \"familia\": \"Phyllodactylidae\", \"ano_coleta\": 2013.0, \"qualificador_atual\": null}, {\"altitude\": 386.0, \"especie_atual\": \"Miliaris\", \"genero_atual\": \"Liophis\", \"ordem\": \"Squamata\", \"familia\": \"Dipsadidae\", \"ano_coleta\": 2007.0, \"qualificador_atual\": null}, {\"altitude\": 386.0, \"especie_atual\": \"Neuwiedi\", \"genero_atual\": \"Sibynomorphus\", \"ordem\": \"Squamata\", \"familia\": \"Dipsadidae\", \"ano_coleta\": 2007.0, \"qualificador_atual\": null}, {\"altitude\": 4.0, \"especie_atual\": \"Macrorhyncha\", \"genero_atual\": \"Psychosaura\", \"ordem\": \"Squamata\", \"familia\": \"Scincidae\", \"ano_coleta\": 2014.0, \"qualificador_atual\": null}, {\"altitude\": 400.0, \"especie_atual\": \"Hortulanus\", \"genero_atual\": \"Corallus\", \"ordem\": \"Squamata\", \"familia\": \"Boidae\", \"ano_coleta\": 2009.0, \"qualificador_atual\": null}, {\"altitude\": 400.0, \"especie_atual\": \"Brasiliensis\", \"genero_atual\": \"Enyalius\", \"ordem\": \"Squamata\", \"familia\": \"Leiosauridae\", \"ano_coleta\": 2007.0, \"qualificador_atual\": null}, {\"altitude\": 403.0, \"especie_atual\": \"Miliaris\", \"genero_atual\": \"Liophis\", \"ordem\": \"Squamata\", \"familia\": \"Dipsadidae\", \"ano_coleta\": 2007.0, \"qualificador_atual\": null}, {\"altitude\": 409.0, \"especie_atual\": \"Clathratus\", \"genero_atual\": \"Oxyrhopus\", \"ordem\": \"Squamata\", \"familia\": \"Dipsadidae\", \"ano_coleta\": 2007.0, \"qualificador_atual\": null}, {\"altitude\": 412.0, \"especie_atual\": \"Clathratus\", \"genero_atual\": \"Oxyrhopus\", \"ordem\": \"Squamata\", \"familia\": \"Dipsadidae\", \"ano_coleta\": 2006.0, \"qualificador_atual\": null}, {\"altitude\": 428.0, \"especie_atual\": \"Fuscus\", \"genero_atual\": \"Chironius\", \"ordem\": \"Squamata\", \"familia\": \"Colubridae\", \"ano_coleta\": 2008.0, \"qualificador_atual\": null}, {\"altitude\": 428.0, \"especie_atual\": \"Mabouia\", \"genero_atual\": \"Hemidactylus\", \"ordem\": \"Squamata\", \"familia\": \"Gekkonidae\", \"ano_coleta\": 2008.0, \"qualificador_atual\": null}, {\"altitude\": 428.0, \"especie_atual\": \"Mabouia\", \"genero_atual\": \"Hemidactylus\", \"ordem\": \"Squamata\", \"familia\": \"Gekkonidae\", \"ano_coleta\": 2008.0, \"qualificador_atual\": null}, {\"altitude\": 428.0, \"especie_atual\": \"Mabouia\", \"genero_atual\": \"Hemidactylus\", \"ordem\": \"Squamata\", \"familia\": \"Gekkonidae\", \"ano_coleta\": 2008.0, \"qualificador_atual\": null}, {\"altitude\": 428.0, \"especie_atual\": \"Mabouia\", \"genero_atual\": \"Hemidactylus\", \"ordem\": \"Squamata\", \"familia\": \"Gekkonidae\", \"ano_coleta\": 2008.0, \"qualificador_atual\": null}, {\"altitude\": 440.0, \"especie_atual\": \"Fuscus\", \"genero_atual\": \"Chironius\", \"ordem\": \"Squamata\", \"familia\": \"Colubridae\", \"ano_coleta\": 2013.0, \"qualificador_atual\": null}, {\"altitude\": 442.0, \"especie_atual\": \"Bilineatus\", \"genero_atual\": \"Enyalius\", \"ordem\": \"Squamata\", \"familia\": \"Leiosauridae\", \"ano_coleta\": 2007.0, \"qualificador_atual\": null}, {\"altitude\": 442.0, \"especie_atual\": \"Darwinii\", \"genero_atual\": \"Gymnodactylus\", \"ordem\": \"Squamata\", \"familia\": \"Phyllodactylidae\", \"ano_coleta\": 2007.0, \"qualificador_atual\": null}, {\"altitude\": 448.0, \"especie_atual\": \"Cephalostriata\", \"genero_atual\": \"Echinanthera\", \"ordem\": \"Squamata\", \"familia\": \"Dipsadidae\", \"ano_coleta\": 2002.0, \"qualificador_atual\": null}, {\"altitude\": 450.0, \"especie_atual\": \"Jararacussu\", \"genero_atual\": \"Bothrops\", \"ordem\": \"Squamata\", \"familia\": \"Viperidae\", \"ano_coleta\": null, \"qualificador_atual\": null}, {\"altitude\": 450.0, \"especie_atual\": \"Torquatus\", \"genero_atual\": \"Tropidurus\", \"ordem\": \"Squamata\", \"familia\": \"Tropiduridae\", \"ano_coleta\": 2013.0, \"qualificador_atual\": null}, {\"altitude\": 450.0, \"especie_atual\": \"Torquatus\", \"genero_atual\": \"Tropidurus\", \"ordem\": \"Squamata\", \"familia\": \"Tropiduridae\", \"ano_coleta\": 2013.0, \"qualificador_atual\": null}, {\"altitude\": 454.0, \"especie_atual\": \"Striatus\", \"genero_atual\": \"Ophiodes\", \"ordem\": \"Squamata\", \"familia\": \"Anguidae\", \"ano_coleta\": 2007.0, \"qualificador_atual\": \"aff.\"}, {\"altitude\": 457.0, \"especie_atual\": \"Hispidus\", \"genero_atual\": \"Tropidurus\", \"ordem\": \"Squamata\", \"familia\": \"Tropiduridae\", \"ano_coleta\": 2007.0, \"qualificador_atual\": null}, {\"altitude\": 457.0, \"especie_atual\": \"Hispidus\", \"genero_atual\": \"Tropidurus\", \"ordem\": \"Squamata\", \"familia\": \"Tropiduridae\", \"ano_coleta\": 2007.0, \"qualificador_atual\": null}, {\"altitude\": 5.0, \"especie_atual\": \"Mabouia\", \"genero_atual\": \"Hemidactylus\", \"ordem\": \"Squamata\", \"familia\": \"Gekkonidae\", \"ano_coleta\": 2014.0, \"qualificador_atual\": null}, {\"altitude\": 5.0, \"especie_atual\": \"Mabouia\", \"genero_atual\": \"Hemidactylus\", \"ordem\": \"Squamata\", \"familia\": \"Gekkonidae\", \"ano_coleta\": 2014.0, \"qualificador_atual\": null}, {\"altitude\": 5.0, \"especie_atual\": \"Miliaris\", \"genero_atual\": \"Liophis\", \"ordem\": \"Squamata\", \"familia\": \"Dipsadidae\", \"ano_coleta\": 2015.0, \"qualificador_atual\": null}, {\"altitude\": 5.0, \"especie_atual\": \"Nigra\", \"genero_atual\": \"Pseudoboa\", \"ordem\": \"Squamata\", \"familia\": \"Dipsadidae\", \"ano_coleta\": 2016.0, \"qualificador_atual\": null}, {\"altitude\": 5.0, \"especie_atual\": \"Torquatus\", \"genero_atual\": \"Tropidurus\", \"ordem\": \"Squamata\", \"familia\": \"Tropiduridae\", \"ano_coleta\": 2014.0, \"qualificador_atual\": null}, {\"altitude\": 519.0, \"especie_atual\": \"Melanocephala\", \"genero_atual\": \"Tantilla\", \"ordem\": \"Squamata\", \"familia\": \"Colubridae\", \"ano_coleta\": 2008.0, \"qualificador_atual\": null}, {\"altitude\": 519.0, \"especie_atual\": \"Melanocephala\", \"genero_atual\": \"Tantilla\", \"ordem\": \"Squamata\", \"familia\": \"Colubridae\", \"ano_coleta\": 2008.0, \"qualificador_atual\": null}, {\"altitude\": 522.0, \"especie_atual\": \"Mabouia\", \"genero_atual\": \"Hemidactylus\", \"ordem\": \"Squamata\", \"familia\": \"Gekkonidae\", \"ano_coleta\": 2008.0, \"qualificador_atual\": null}, {\"altitude\": 525.0, \"especie_atual\": \"Striatus\", \"genero_atual\": \"Ophiodes\", \"ordem\": \"Squamata\", \"familia\": \"Anguidae\", \"ano_coleta\": 2007.0, \"qualificador_atual\": \"aff.\"}, {\"altitude\": 529.0, \"especie_atual\": \"Striatus\", \"genero_atual\": \"Ophiodes\", \"ordem\": \"Squamata\", \"familia\": \"Anguidae\", \"ano_coleta\": 2007.0, \"qualificador_atual\": \"aff.\"}, {\"altitude\": 53.0, \"especie_atual\": \"Corallinus\", \"genero_atual\": \"Micrurus\", \"ordem\": \"Squamata\", \"familia\": \"Elapidae\", \"ano_coleta\": 2015.0, \"qualificador_atual\": null}, {\"altitude\": 530.0, \"especie_atual\": \"Affinis\", \"genero_atual\": \"Taeniophallus\", \"ordem\": \"Squamata\", \"familia\": \"Dipsadidae\", \"ano_coleta\": 2007.0, \"qualificador_atual\": null}, {\"altitude\": 540.0, \"especie_atual\": \"Neuwiedii\", \"genero_atual\": \"Xenodon\", \"ordem\": \"Squamata\", \"familia\": \"Dipsadidae\", \"ano_coleta\": 2007.0, \"qualificador_atual\": null}, {\"altitude\": 544.0, \"especie_atual\": \"Jararaca\", \"genero_atual\": \"Bothrops\", \"ordem\": \"Squamata\", \"familia\": \"Viperidae\", \"ano_coleta\": 2013.0, \"qualificador_atual\": null}, {\"altitude\": 544.0, \"especie_atual\": \"Jararaca\", \"genero_atual\": \"Bothrops\", \"ordem\": \"Squamata\", \"familia\": \"Viperidae\", \"ano_coleta\": 2013.0, \"qualificador_atual\": null}, {\"altitude\": 547.0, \"especie_atual\": \"Jararacussu\", \"genero_atual\": \"Bothrops\", \"ordem\": \"Squamata\", \"familia\": \"Viperidae\", \"ano_coleta\": 2013.0, \"qualificador_atual\": null}, {\"altitude\": 558.0, \"especie_atual\": \"Leopardinus\", \"genero_atual\": \"Helicops\", \"ordem\": \"Squamata\", \"familia\": \"Dipsadidae\", \"ano_coleta\": 2006.0, \"qualificador_atual\": null}, {\"altitude\": 558.0, \"especie_atual\": \"Leopardinus\", \"genero_atual\": \"Helicops\", \"ordem\": \"Squamata\", \"familia\": \"Dipsadidae\", \"ano_coleta\": 2006.0, \"qualificador_atual\": null}, {\"altitude\": 558.0, \"especie_atual\": \"Leopardinus\", \"genero_atual\": \"Helicops\", \"ordem\": \"Squamata\", \"familia\": \"Dipsadidae\", \"ano_coleta\": 2006.0, \"qualificador_atual\": null}, {\"altitude\": 558.0, \"especie_atual\": \"Leopardinus\", \"genero_atual\": \"Helicops\", \"ordem\": \"Squamata\", \"familia\": \"Dipsadidae\", \"ano_coleta\": 2006.0, \"qualificador_atual\": null}, {\"altitude\": 558.0, \"especie_atual\": \"Leopardinus\", \"genero_atual\": \"Helicops\", \"ordem\": \"Squamata\", \"familia\": \"Dipsadidae\", \"ano_coleta\": 2006.0, \"qualificador_atual\": null}, {\"altitude\": 558.0, \"especie_atual\": \"Leopardinus\", \"genero_atual\": \"Helicops\", \"ordem\": \"Squamata\", \"familia\": \"Dipsadidae\", \"ano_coleta\": 2006.0, \"qualificador_atual\": null}, {\"altitude\": 558.0, \"especie_atual\": \"Acutirostris\", \"genero_atual\": \"Polychrus\", \"ordem\": \"Squamata\", \"familia\": \"Polychrotidae\", \"ano_coleta\": 2006.0, \"qualificador_atual\": null}, {\"altitude\": 558.0, \"especie_atual\": \"Mikanii\", \"genero_atual\": \"Sibynomorphus\", \"ordem\": \"Squamata\", \"familia\": \"Dipsadidae\", \"ano_coleta\": 2006.0, \"qualificador_atual\": null}, {\"altitude\": 568.0, \"especie_atual\": \"Peruvianus\", \"genero_atual\": \"Polychrus\", \"ordem\": \"Squamata\", \"familia\": \"Polychrotidae\", \"ano_coleta\": 2008.0, \"qualificador_atual\": null}, {\"altitude\": 568.0, \"especie_atual\": \"Peruvianus\", \"genero_atual\": \"Polychrus\", \"ordem\": \"Squamata\", \"familia\": \"Polychrotidae\", \"ano_coleta\": 2008.0, \"qualificador_atual\": null}, {\"altitude\": 585.0, \"especie_atual\": \"Durissus\", \"genero_atual\": \"Crotalus\", \"ordem\": \"Squamata\", \"familia\": \"Viperidae\", \"ano_coleta\": 2006.0, \"qualificador_atual\": null}, {\"altitude\": 585.0, \"especie_atual\": \"Poecilogyrus\", \"genero_atual\": \"Liophis\", \"ordem\": \"Squamata\", \"familia\": \"Dipsadidae\", \"ano_coleta\": 2007.0, \"qualificador_atual\": null}, {\"altitude\": 585.0, \"especie_atual\": \"Poecilogyrus\", \"genero_atual\": \"Liophis\", \"ordem\": \"Squamata\", \"familia\": \"Dipsadidae\", \"ano_coleta\": 2007.0, \"qualificador_atual\": null}, {\"altitude\": 585.0, \"especie_atual\": \"Poecilogyrus\", \"genero_atual\": \"Liophis\", \"ordem\": \"Squamata\", \"familia\": \"Dipsadidae\", \"ano_coleta\": 2006.0, \"qualificador_atual\": null}, {\"altitude\": 585.0, \"especie_atual\": \"Poecilogyrus\", \"genero_atual\": \"Liophis\", \"ordem\": \"Squamata\", \"familia\": \"Dipsadidae\", \"ano_coleta\": 2006.0, \"qualificador_atual\": null}, {\"altitude\": 585.0, \"especie_atual\": \"Lemniscatus\", \"genero_atual\": \"Micrurus\", \"ordem\": \"Squamata\", \"familia\": \"Elapidae\", \"ano_coleta\": 2006.0, \"qualificador_atual\": null}, {\"altitude\": 585.0, \"especie_atual\": \"Striatus\", \"genero_atual\": \"Ophiodes\", \"ordem\": \"Squamata\", \"familia\": \"Anguidae\", \"ano_coleta\": 2007.0, \"qualificador_atual\": null}, {\"altitude\": 585.0, \"especie_atual\": \"Guibei\", \"genero_atual\": \"Oxyrhopus\", \"ordem\": \"Squamata\", \"familia\": \"Dipsadidae\", \"ano_coleta\": 2006.0, \"qualificador_atual\": null}, {\"altitude\": 585.0, \"especie_atual\": \"Mikanii\", \"genero_atual\": \"Sibynomorphus\", \"ordem\": \"Squamata\", \"familia\": \"Dipsadidae\", \"ano_coleta\": 2006.0, \"qualificador_atual\": null}, {\"altitude\": 585.0, \"especie_atual\": \"Merremi\", \"genero_atual\": \"Xenodon\", \"ordem\": \"Squamata\", \"familia\": \"Dipsadidae\", \"ano_coleta\": 2007.0, \"qualificador_atual\": null}, {\"altitude\": 598.0, \"especie_atual\": \"Mabouia\", \"genero_atual\": \"Hemidactylus\", \"ordem\": \"Squamata\", \"familia\": \"Gekkonidae\", \"ano_coleta\": 2008.0, \"qualificador_atual\": null}, {\"altitude\": 598.0, \"especie_atual\": \"Mabouia\", \"genero_atual\": \"Hemidactylus\", \"ordem\": \"Squamata\", \"familia\": \"Gekkonidae\", \"ano_coleta\": 2008.0, \"qualificador_atual\": null}, {\"altitude\": 598.0, \"especie_atual\": \"Mabouia\", \"genero_atual\": \"Hemidactylus\", \"ordem\": \"Squamata\", \"familia\": \"Gekkonidae\", \"ano_coleta\": 2008.0, \"qualificador_atual\": null}, {\"altitude\": 598.0, \"especie_atual\": \"Mabouia\", \"genero_atual\": \"Hemidactylus\", \"ordem\": \"Squamata\", \"familia\": \"Gekkonidae\", \"ano_coleta\": 2008.0, \"qualificador_atual\": null}, {\"altitude\": 598.0, \"especie_atual\": \"Mabouia\", \"genero_atual\": \"Hemidactylus\", \"ordem\": \"Squamata\", \"familia\": \"Gekkonidae\", \"ano_coleta\": 2008.0, \"qualificador_atual\": null}, {\"altitude\": 60.0, \"especie_atual\": \"Bicarinatus\", \"genero_atual\": \"Chironius\", \"ordem\": \"Squamata\", \"familia\": \"Colubridae\", \"ano_coleta\": 2013.0, \"qualificador_atual\": null}, {\"altitude\": 60.0, \"especie_atual\": \"Corallinus\", \"genero_atual\": \"Micrurus\", \"ordem\": \"Squamata\", \"familia\": \"Elapidae\", \"ano_coleta\": 2003.0, \"qualificador_atual\": null}, {\"altitude\": 61.0, \"especie_atual\": \"Ahaetulla\", \"genero_atual\": \"Leptophis\", \"ordem\": \"Squamata\", \"familia\": \"Colubridae\", \"ano_coleta\": 2004.0, \"qualificador_atual\": null}, {\"altitude\": 62.0, \"especie_atual\": \"Microcephalum\", \"genero_atual\": \"Leposternon\", \"ordem\": \"Squamata\", \"familia\": \"Amphisbaenidae\", \"ano_coleta\": 2003.0, \"qualificador_atual\": null}, {\"altitude\": 62.0, \"especie_atual\": \"Pullatus\", \"genero_atual\": \"Spilotes\", \"ordem\": \"Squamata\", \"familia\": \"Colubridae\", \"ano_coleta\": 2002.0, \"qualificador_atual\": null}, {\"altitude\": 629.0, \"especie_atual\": \"Mikanii\", \"genero_atual\": \"Sibynomorphus\", \"ordem\": \"Squamata\", \"familia\": \"Dipsadidae\", \"ano_coleta\": 2014.0, \"qualificador_atual\": null}, {\"altitude\": 63.0, \"especie_atual\": \"Jararaca\", \"genero_atual\": \"Bothrops\", \"ordem\": \"Squamata\", \"familia\": \"Viperidae\", \"ano_coleta\": 2003.0, \"qualificador_atual\": null}, {\"altitude\": 63.0, \"especie_atual\": \"Laevicollis\", \"genero_atual\": \"Chironius\", \"ordem\": \"Squamata\", \"familia\": \"Colubridae\", \"ano_coleta\": 2004.0, \"qualificador_atual\": null}, {\"altitude\": 64.0, \"especie_atual\": \"Carinicaudus\", \"genero_atual\": \"Helicops\", \"ordem\": \"Squamata\", \"familia\": \"Dipsadidae\", \"ano_coleta\": 2008.0, \"qualificador_atual\": null}, {\"altitude\": 649.0, \"especie_atual\": \"Hypoconia\", \"genero_atual\": \"Thamnodynastes\", \"ordem\": \"Squamata\", \"familia\": \"Dipsadidae\", \"ano_coleta\": 2014.0, \"qualificador_atual\": null}, {\"altitude\": 65.0, \"especie_atual\": \"Marmoratus\", \"genero_atual\": \"Polychrus\", \"ordem\": \"Squamata\", \"familia\": \"Polychrotidae\", \"ano_coleta\": 2006.0, \"qualificador_atual\": null}, {\"altitude\": 664.0, \"especie_atual\": \"Miliaris\", \"genero_atual\": \"Liophis\", \"ordem\": \"Squamata\", \"familia\": \"Dipsadidae\", \"ano_coleta\": 2014.0, \"qualificador_atual\": null}, {\"altitude\": 67.0, \"especie_atual\": \"Mabouia\", \"genero_atual\": \"Hemidactylus\", \"ordem\": \"Squamata\", \"familia\": \"Gekkonidae\", \"ano_coleta\": 2008.0, \"qualificador_atual\": null}, {\"altitude\": 67.0, \"especie_atual\": \"Olfersii\", \"genero_atual\": \"Philodryas\", \"ordem\": \"Squamata\", \"familia\": \"Dipsadidae\", \"ano_coleta\": 2014.0, \"qualificador_atual\": null}, {\"altitude\": 68.0, \"especie_atual\": \"Ahaetulla\", \"genero_atual\": \"Leptophis\", \"ordem\": \"Squamata\", \"familia\": \"Colubridae\", \"ano_coleta\": 2003.0, \"qualificador_atual\": null}, {\"altitude\": 68.0, \"especie_atual\": \"Neuwiedii\", \"genero_atual\": \"Xenodon\", \"ordem\": \"Squamata\", \"familia\": \"Dipsadidae\", \"ano_coleta\": 2003.0, \"qualificador_atual\": null}, {\"altitude\": 682.0, \"especie_atual\": \"Fuscoauratus\", \"genero_atual\": \"Anolis\", \"ordem\": \"Squamata\", \"familia\": \"Dactyloidae\", \"ano_coleta\": 2011.0, \"qualificador_atual\": null}, {\"altitude\": 682.0, \"especie_atual\": \"Hispidus\", \"genero_atual\": \"Tropidurus\", \"ordem\": \"Squamata\", \"familia\": \"Tropiduridae\", \"ano_coleta\": 2011.0, \"qualificador_atual\": null}, {\"altitude\": 684.0, \"especie_atual\": \"Caducus\", \"genero_atual\": \"Stenocercus\", \"ordem\": \"Squamata\", \"familia\": \"Tropiduridae\", \"ano_coleta\": 2011.0, \"qualificador_atual\": null}, {\"altitude\": 684.0, \"especie_atual\": \"Caducus\", \"genero_atual\": \"Stenocercus\", \"ordem\": \"Squamata\", \"familia\": \"Tropiduridae\", \"ano_coleta\": 2011.0, \"qualificador_atual\": null}, {\"altitude\": 684.0, \"especie_atual\": \"Caducus\", \"genero_atual\": \"Stenocercus\", \"ordem\": \"Squamata\", \"familia\": \"Tropiduridae\", \"ano_coleta\": 2011.0, \"qualificador_atual\": null}, {\"altitude\": 684.0, \"especie_atual\": \"Occipitalis\", \"genero_atual\": \"Taeniophallus\", \"ordem\": \"Squamata\", \"familia\": \"Dipsadidae\", \"ano_coleta\": 2011.0, \"qualificador_atual\": null}, {\"altitude\": 687.0, \"especie_atual\": \"Caducus\", \"genero_atual\": \"Stenocercus\", \"ordem\": \"Squamata\", \"familia\": \"Tropiduridae\", \"ano_coleta\": 2011.0, \"qualificador_atual\": null}, {\"altitude\": 687.0, \"especie_atual\": \"Caducus\", \"genero_atual\": \"Stenocercus\", \"ordem\": \"Squamata\", \"familia\": \"Tropiduridae\", \"ano_coleta\": 2011.0, \"qualificador_atual\": null}, {\"altitude\": 687.0, \"especie_atual\": \"Caducus\", \"genero_atual\": \"Stenocercus\", \"ordem\": \"Squamata\", \"familia\": \"Tropiduridae\", \"ano_coleta\": 2011.0, \"qualificador_atual\": null}, {\"altitude\": 699.0, \"especie_atual\": \"Neuwiedi\", \"genero_atual\": \"Sibynomorphus\", \"ordem\": \"Squamata\", \"familia\": \"Dipsadidae\", \"ano_coleta\": 2010.0, \"qualificador_atual\": null}, {\"altitude\": 699.0, \"especie_atual\": \"Neuwiedi\", \"genero_atual\": \"Sibynomorphus\", \"ordem\": \"Squamata\", \"familia\": \"Dipsadidae\", \"ano_coleta\": 2010.0, \"qualificador_atual\": null}, {\"altitude\": 7.0, \"especie_atual\": \"Brongersmianus\", \"genero_atual\": \"Amerotyphlops\", \"ordem\": \"Squamata\", \"familia\": \"Typhlopidae\", \"ano_coleta\": 2015.0, \"qualificador_atual\": null}, {\"altitude\": 7.0, \"especie_atual\": \"Brongersmianus\", \"genero_atual\": \"Amerotyphlops\", \"ordem\": \"Squamata\", \"familia\": \"Typhlopidae\", \"ano_coleta\": 2015.0, \"qualificador_atual\": null}, {\"altitude\": 7.0, \"especie_atual\": \"Jararaca\", \"genero_atual\": \"Bothrops\", \"ordem\": \"Squamata\", \"familia\": \"Viperidae\", \"ano_coleta\": 2015.0, \"qualificador_atual\": null}, {\"altitude\": 7.0, \"especie_atual\": \"Littoralis\", \"genero_atual\": \"Glaucomastix\", \"ordem\": \"Squamata\", \"familia\": \"Teiidae\", \"ano_coleta\": 2014.0, \"qualificador_atual\": null}, {\"altitude\": 7.0, \"especie_atual\": \"Darwinii\", \"genero_atual\": \"Gymnodactylus\", \"ordem\": \"Squamata\", \"familia\": \"Phyllodactylidae\", \"ano_coleta\": 2014.0, \"qualificador_atual\": null}, {\"altitude\": 7.0, \"especie_atual\": \"Darwinii\", \"genero_atual\": \"Gymnodactylus\", \"ordem\": \"Squamata\", \"familia\": \"Phyllodactylidae\", \"ano_coleta\": 2014.0, \"qualificador_atual\": null}, {\"altitude\": 7.0, \"especie_atual\": \"Darwinii\", \"genero_atual\": \"Gymnodactylus\", \"ordem\": \"Squamata\", \"familia\": \"Phyllodactylidae\", \"ano_coleta\": 2014.0, \"qualificador_atual\": null}, {\"altitude\": 7.0, \"especie_atual\": \"Darwinii\", \"genero_atual\": \"Gymnodactylus\", \"ordem\": \"Squamata\", \"familia\": \"Phyllodactylidae\", \"ano_coleta\": 2014.0, \"qualificador_atual\": null}, {\"altitude\": 7.0, \"especie_atual\": \"Mabouia\", \"genero_atual\": \"Hemidactylus\", \"ordem\": \"Squamata\", \"familia\": \"Gekkonidae\", \"ano_coleta\": 2015.0, \"qualificador_atual\": null}, {\"altitude\": 7.0, \"especie_atual\": \"Miliaris\", \"genero_atual\": \"Liophis\", \"ordem\": \"Squamata\", \"familia\": \"Dipsadidae\", \"ano_coleta\": 2014.0, \"qualificador_atual\": null}, {\"altitude\": 7.0, \"especie_atual\": \"Miliaris\", \"genero_atual\": \"Liophis\", \"ordem\": \"Squamata\", \"familia\": \"Dipsadidae\", \"ano_coleta\": 2015.0, \"qualificador_atual\": null}, {\"altitude\": 7.0, \"especie_atual\": \"Macrorhyncha\", \"genero_atual\": \"Psychosaura\", \"ordem\": \"Squamata\", \"familia\": \"Scincidae\", \"ano_coleta\": 2014.0, \"qualificador_atual\": null}, {\"altitude\": 7.0, \"especie_atual\": \"Macrorhyncha\", \"genero_atual\": \"Psychosaura\", \"ordem\": \"Squamata\", \"familia\": \"Scincidae\", \"ano_coleta\": 2014.0, \"qualificador_atual\": null}, {\"altitude\": 7.0, \"especie_atual\": \"Macrorhyncha\", \"genero_atual\": \"Psychosaura\", \"ordem\": \"Squamata\", \"familia\": \"Scincidae\", \"ano_coleta\": 2014.0, \"qualificador_atual\": null}, {\"altitude\": 7.0, \"especie_atual\": \"Torquatus\", \"genero_atual\": \"Tropidurus\", \"ordem\": \"Squamata\", \"familia\": \"Tropiduridae\", \"ano_coleta\": 2014.0, \"qualificador_atual\": null}, {\"altitude\": 70.0, \"especie_atual\": \"Microcephalum\", \"genero_atual\": \"Leposternon\", \"ordem\": \"Squamata\", \"familia\": \"Amphisbaenidae\", \"ano_coleta\": 2003.0, \"qualificador_atual\": null}, {\"altitude\": 70.0, \"especie_atual\": \"Corallinus\", \"genero_atual\": \"Micrurus\", \"ordem\": \"Squamata\", \"familia\": \"Elapidae\", \"ano_coleta\": 2003.0, \"qualificador_atual\": null}, {\"altitude\": 70.0, \"especie_atual\": \"Corallinus\", \"genero_atual\": \"Micrurus\", \"ordem\": \"Squamata\", \"familia\": \"Elapidae\", \"ano_coleta\": 2003.0, \"qualificador_atual\": null}, {\"altitude\": 70.0, \"especie_atual\": \"Fragilis\", \"genero_atual\": \"Ophiodes\", \"ordem\": \"Squamata\", \"familia\": \"Anguidae\", \"ano_coleta\": 2004.0, \"qualificador_atual\": null}, {\"altitude\": 70.0, \"especie_atual\": \"Nattereri\", \"genero_atual\": \"Thamnodynastes\", \"ordem\": \"Squamata\", \"familia\": \"Dipsadidae\", \"ano_coleta\": 2003.0, \"qualificador_atual\": \"cf.\"}, {\"altitude\": 70.0, \"especie_atual\": \"Neuwiedii\", \"genero_atual\": \"Xenodon\", \"ordem\": \"Squamata\", \"familia\": \"Dipsadidae\", \"ano_coleta\": 2002.0, \"qualificador_atual\": null}, {\"altitude\": 700.0, \"especie_atual\": \"Brasiliensis\", \"genero_atual\": \"Enyalius\", \"ordem\": \"Squamata\", \"familia\": \"Leiosauridae\", \"ano_coleta\": 2013.0, \"qualificador_atual\": null}, {\"altitude\": 700.0, \"especie_atual\": \"Nigropunctata\", \"genero_atual\": \"Mabuya\", \"ordem\": \"Squamata\", \"familia\": \"Scincidae\", \"ano_coleta\": 2011.0, \"qualificador_atual\": null}, {\"altitude\": 700.0, \"especie_atual\": \"Persimilis\", \"genero_atual\": \"Taeniophallus\", \"ordem\": \"Squamata\", \"familia\": \"Dipsadidae\", \"ano_coleta\": 2008.0, \"qualificador_atual\": null}, {\"altitude\": 702.0, \"especie_atual\": \"Merianae\", \"genero_atual\": \"Salvator\", \"ordem\": \"Squamata\", \"familia\": \"Teiidae\", \"ano_coleta\": 2013.0, \"qualificador_atual\": null}, {\"altitude\": 706.0, \"especie_atual\": \"Durissus\", \"genero_atual\": \"Crotalus\", \"ordem\": \"Squamata\", \"familia\": \"Viperidae\", \"ano_coleta\": 2011.0, \"qualificador_atual\": null}, {\"altitude\": 71.0, \"especie_atual\": \"Petolarius\", \"genero_atual\": \"Oxyrhopus\", \"ordem\": \"Squamata\", \"familia\": \"Dipsadidae\", \"ano_coleta\": 2005.0, \"qualificador_atual\": null}, {\"altitude\": 714.0, \"especie_atual\": \"Agilis\", \"genero_atual\": \"Mabuya\", \"ordem\": \"Squamata\", \"familia\": \"Scincidae\", \"ano_coleta\": 2010.0, \"qualificador_atual\": null}, {\"altitude\": 715.0, \"especie_atual\": \"Femoralis\", \"genero_atual\": \"Polychrus\", \"ordem\": \"Squamata\", \"familia\": \"Polychrotidae\", \"ano_coleta\": 2009.0, \"qualificador_atual\": null}, {\"altitude\": 718.0, \"especie_atual\": \"Durissus\", \"genero_atual\": \"Crotalus\", \"ordem\": \"Squamata\", \"familia\": \"Viperidae\", \"ano_coleta\": 2002.0, \"qualificador_atual\": null}, {\"altitude\": 718.0, \"especie_atual\": \"Durissus\", \"genero_atual\": \"Crotalus\", \"ordem\": \"Squamata\", \"familia\": \"Viperidae\", \"ano_coleta\": 2006.0, \"qualificador_atual\": null}, {\"altitude\": 718.0, \"especie_atual\": \"Mabouia\", \"genero_atual\": \"Hemidactylus\", \"ordem\": \"Squamata\", \"familia\": \"Gekkonidae\", \"ano_coleta\": 2004.0, \"qualificador_atual\": null}, {\"altitude\": 718.0, \"especie_atual\": \"Mabouia\", \"genero_atual\": \"Hemidactylus\", \"ordem\": \"Squamata\", \"familia\": \"Gekkonidae\", \"ano_coleta\": 2004.0, \"qualificador_atual\": null}, {\"altitude\": 718.0, \"especie_atual\": \"Frenata\", \"genero_atual\": \"Mabuya\", \"ordem\": \"Squamata\", \"familia\": \"Scincidae\", \"ano_coleta\": 2007.0, \"qualificador_atual\": null}, {\"altitude\": 718.0, \"especie_atual\": \"Trigeminus\", \"genero_atual\": \"Oxyrhopus\", \"ordem\": \"Squamata\", \"familia\": \"Dipsadidae\", \"ano_coleta\": 1993.0, \"qualificador_atual\": null}, {\"altitude\": 718.0, \"especie_atual\": \"Trigeminus\", \"genero_atual\": \"Oxyrhopus\", \"ordem\": \"Squamata\", \"familia\": \"Dipsadidae\", \"ano_coleta\": 2005.0, \"qualificador_atual\": null}, {\"altitude\": 718.0, \"especie_atual\": \"Trigeminus\", \"genero_atual\": \"Oxyrhopus\", \"ordem\": \"Squamata\", \"familia\": \"Dipsadidae\", \"ano_coleta\": 2004.0, \"qualificador_atual\": null}, {\"altitude\": 718.0, \"especie_atual\": \"Olfersii\", \"genero_atual\": \"Philodryas\", \"ordem\": \"Squamata\", \"familia\": \"Dipsadidae\", \"ano_coleta\": 1996.0, \"qualificador_atual\": null}, {\"altitude\": 718.0, \"especie_atual\": \"Olfersii\", \"genero_atual\": \"Philodryas\", \"ordem\": \"Squamata\", \"familia\": \"Dipsadidae\", \"ano_coleta\": 1996.0, \"qualificador_atual\": null}, {\"altitude\": 718.0, \"especie_atual\": \"Olfersii\", \"genero_atual\": \"Philodryas\", \"ordem\": \"Squamata\", \"familia\": \"Dipsadidae\", \"ano_coleta\": 2001.0, \"qualificador_atual\": null}, {\"altitude\": 718.0, \"especie_atual\": \"Agassizii\", \"genero_atual\": \"Philodryas\", \"ordem\": \"Squamata\", \"familia\": \"Dipsadidae\", \"ano_coleta\": 2005.0, \"qualificador_atual\": null}, {\"altitude\": 718.0, \"especie_atual\": \"Nigra\", \"genero_atual\": \"Pseudoboa\", \"ordem\": \"Squamata\", \"familia\": \"Dipsadidae\", \"ano_coleta\": 2006.0, \"qualificador_atual\": null}, {\"altitude\": 718.0, \"especie_atual\": \"Mikanii\", \"genero_atual\": \"Sibynomorphus\", \"ordem\": \"Squamata\", \"familia\": \"Dipsadidae\", \"ano_coleta\": 2001.0, \"qualificador_atual\": null}, {\"altitude\": 718.0, \"especie_atual\": \"Pullatus\", \"genero_atual\": \"Spilotes\", \"ordem\": \"Squamata\", \"familia\": \"Colubridae\", \"ano_coleta\": 2001.0, \"qualificador_atual\": null}, {\"altitude\": 718.0, \"especie_atual\": \"Pullatus\", \"genero_atual\": \"Spilotes\", \"ordem\": \"Squamata\", \"familia\": \"Colubridae\", \"ano_coleta\": 2007.0, \"qualificador_atual\": null}, {\"altitude\": 718.0, \"especie_atual\": \"Merremi\", \"genero_atual\": \"Xenodon\", \"ordem\": \"Squamata\", \"familia\": \"Dipsadidae\", \"ano_coleta\": 1996.0, \"qualificador_atual\": null}, {\"altitude\": 718.0, \"especie_atual\": \"Merremi\", \"genero_atual\": \"Xenodon\", \"ordem\": \"Squamata\", \"familia\": \"Dipsadidae\", \"ano_coleta\": 2002.0, \"qualificador_atual\": null}, {\"altitude\": 72.0, \"especie_atual\": \"Laevicollis\", \"genero_atual\": \"Chironius\", \"ordem\": \"Squamata\", \"familia\": \"Colubridae\", \"ano_coleta\": 2004.0, \"qualificador_atual\": null}, {\"altitude\": 72.0, \"especie_atual\": \"Cephalostriata\", \"genero_atual\": \"Echinanthera\", \"ordem\": \"Squamata\", \"familia\": \"Dipsadidae\", \"ano_coleta\": 2003.0, \"qualificador_atual\": null}, {\"altitude\": 727.0, \"especie_atual\": \"Wiedi\", \"genero_atual\": \"Amphisbaena\", \"ordem\": \"Squamata\", \"familia\": \"Amphisbaenidae\", \"ano_coleta\": 2006.0, \"qualificador_atual\": null}, {\"altitude\": 727.0, \"especie_atual\": \"Wiedi\", \"genero_atual\": \"Amphisbaena\", \"ordem\": \"Squamata\", \"familia\": \"Amphisbaenidae\", \"ano_coleta\": 2006.0, \"qualificador_atual\": null}, {\"altitude\": 727.0, \"especie_atual\": \"Striatus\", \"genero_atual\": \"Ophiodes\", \"ordem\": \"Squamata\", \"familia\": \"Anguidae\", \"ano_coleta\": 2006.0, \"qualificador_atual\": null}, {\"altitude\": 74.0, \"especie_atual\": \"Cephalostriata\", \"genero_atual\": \"Echinanthera\", \"ordem\": \"Squamata\", \"familia\": \"Dipsadidae\", \"ano_coleta\": 2014.0, \"qualificador_atual\": null}, {\"altitude\": 75.0, \"especie_atual\": \"Moojeni\", \"genero_atual\": \"Bothrops\", \"ordem\": \"Squamata\", \"familia\": \"Viperidae\", \"ano_coleta\": 2011.0, \"qualificador_atual\": null}, {\"altitude\": 75.0, \"especie_atual\": \"Moojeni\", \"genero_atual\": \"Bothrops\", \"ordem\": \"Squamata\", \"familia\": \"Viperidae\", \"ano_coleta\": 2011.0, \"qualificador_atual\": null}, {\"altitude\": 75.0, \"especie_atual\": \"Fuscus\", \"genero_atual\": \"Chironius\", \"ordem\": \"Squamata\", \"familia\": \"Colubridae\", \"ano_coleta\": 2002.0, \"qualificador_atual\": null}, {\"altitude\": 75.0, \"especie_atual\": \"Fuscus\", \"genero_atual\": \"Chironius\", \"ordem\": \"Squamata\", \"familia\": \"Colubridae\", \"ano_coleta\": 2002.0, \"qualificador_atual\": null}, {\"altitude\": 75.0, \"especie_atual\": \"Microcephalum\", \"genero_atual\": \"Leposternon\", \"ordem\": \"Squamata\", \"familia\": \"Amphisbaenidae\", \"ano_coleta\": 2004.0, \"qualificador_atual\": null}, {\"altitude\": 75.0, \"especie_atual\": \"Chaquensis\", \"genero_atual\": \"Thamnodynastes\", \"ordem\": \"Squamata\", \"familia\": \"Dipsadidae\", \"ano_coleta\": 2011.0, \"qualificador_atual\": null}, {\"altitude\": 750.0, \"especie_atual\": \"Hypoconia\", \"genero_atual\": \"Thamnodynastes\", \"ordem\": \"Squamata\", \"familia\": \"Dipsadidae\", \"ano_coleta\": 2013.0, \"qualificador_atual\": null}, {\"altitude\": 76.0, \"especie_atual\": \"Miliaris\", \"genero_atual\": \"Liophis\", \"ordem\": \"Squamata\", \"familia\": \"Dipsadidae\", \"ano_coleta\": 2002.0, \"qualificador_atual\": null}, {\"altitude\": 764.0, \"especie_atual\": \"Corallinus\", \"genero_atual\": \"Micrurus\", \"ordem\": \"Squamata\", \"familia\": \"Elapidae\", \"ano_coleta\": 2013.0, \"qualificador_atual\": null}, {\"altitude\": 769.0, \"especie_atual\": \"Moojeni\", \"genero_atual\": \"Bothrops\", \"ordem\": \"Squamata\", \"familia\": \"Viperidae\", \"ano_coleta\": 2006.0, \"qualificador_atual\": null}, {\"altitude\": 769.0, \"especie_atual\": \"Moojeni\", \"genero_atual\": \"Bothrops\", \"ordem\": \"Squamata\", \"familia\": \"Viperidae\", \"ano_coleta\": 2006.0, \"qualificador_atual\": null}, {\"altitude\": 78.0, \"especie_atual\": \"Fuscus\", \"genero_atual\": \"Chironius\", \"ordem\": \"Squamata\", \"familia\": \"Colubridae\", \"ano_coleta\": 2002.0, \"qualificador_atual\": null}, {\"altitude\": 786.0, \"especie_atual\": \"Caducus\", \"genero_atual\": \"Stenocercus\", \"ordem\": \"Squamata\", \"familia\": \"Tropiduridae\", \"ano_coleta\": 2011.0, \"qualificador_atual\": null}, {\"altitude\": 8.0, \"especie_atual\": \"Brongersmianus\", \"genero_atual\": \"Amerotyphlops\", \"ordem\": \"Squamata\", \"familia\": \"Typhlopidae\", \"ano_coleta\": 2014.0, \"qualificador_atual\": null}, {\"altitude\": 8.0, \"especie_atual\": \"Brongersmianus\", \"genero_atual\": \"Amerotyphlops\", \"ordem\": \"Squamata\", \"familia\": \"Typhlopidae\", \"ano_coleta\": 2014.0, \"qualificador_atual\": null}, {\"altitude\": 8.0, \"especie_atual\": \"Brongersmianus\", \"genero_atual\": \"Amerotyphlops\", \"ordem\": \"Squamata\", \"familia\": \"Typhlopidae\", \"ano_coleta\": 2014.0, \"qualificador_atual\": null}, {\"altitude\": 8.0, \"especie_atual\": \"Brongersmianus\", \"genero_atual\": \"Amerotyphlops\", \"ordem\": \"Squamata\", \"familia\": \"Typhlopidae\", \"ano_coleta\": 2014.0, \"qualificador_atual\": null}, {\"altitude\": 8.0, \"especie_atual\": \"Brongersmianus\", \"genero_atual\": \"Amerotyphlops\", \"ordem\": \"Squamata\", \"familia\": \"Typhlopidae\", \"ano_coleta\": 2014.0, \"qualificador_atual\": null}, {\"altitude\": 8.0, \"especie_atual\": \"Brongersmianus\", \"genero_atual\": \"Amerotyphlops\", \"ordem\": \"Squamata\", \"familia\": \"Typhlopidae\", \"ano_coleta\": 2014.0, \"qualificador_atual\": null}, {\"altitude\": 8.0, \"especie_atual\": \"Brongersmianus\", \"genero_atual\": \"Amerotyphlops\", \"ordem\": \"Squamata\", \"familia\": \"Typhlopidae\", \"ano_coleta\": 2014.0, \"qualificador_atual\": null}, {\"altitude\": 8.0, \"especie_atual\": \"Brongersmianus\", \"genero_atual\": \"Amerotyphlops\", \"ordem\": \"Squamata\", \"familia\": \"Typhlopidae\", \"ano_coleta\": 2015.0, \"qualificador_atual\": null}, {\"altitude\": 8.0, \"especie_atual\": \"Brongersmianus\", \"genero_atual\": \"Amerotyphlops\", \"ordem\": \"Squamata\", \"familia\": \"Typhlopidae\", \"ano_coleta\": 2015.0, \"qualificador_atual\": null}, {\"altitude\": 8.0, \"especie_atual\": \"Brongersmianus\", \"genero_atual\": \"Amerotyphlops\", \"ordem\": \"Squamata\", \"familia\": \"Typhlopidae\", \"ano_coleta\": 2015.0, \"qualificador_atual\": null}, {\"altitude\": 8.0, \"especie_atual\": \"Brongersmianus\", \"genero_atual\": \"Amerotyphlops\", \"ordem\": \"Squamata\", \"familia\": \"Typhlopidae\", \"ano_coleta\": 2015.0, \"qualificador_atual\": null}, {\"altitude\": 8.0, \"especie_atual\": \"Melanocephala\", \"genero_atual\": \"Tantilla\", \"ordem\": \"Squamata\", \"familia\": \"Colubridae\", \"ano_coleta\": 2015.0, \"qualificador_atual\": null}, {\"altitude\": 80.0, \"especie_atual\": \"Fuscus\", \"genero_atual\": \"Chironius\", \"ordem\": \"Squamata\", \"familia\": \"Colubridae\", \"ano_coleta\": 2003.0, \"qualificador_atual\": null}, {\"altitude\": 80.0, \"especie_atual\": \"Microcephalum\", \"genero_atual\": \"Leposternon\", \"ordem\": \"Squamata\", \"familia\": \"Amphisbaenidae\", \"ano_coleta\": 2003.0, \"qualificador_atual\": null}, {\"altitude\": 80.0, \"especie_atual\": \"Torquatus\", \"genero_atual\": \"Tropidurus\", \"ordem\": \"Squamata\", \"familia\": \"Tropiduridae\", \"ano_coleta\": 2003.0, \"qualificador_atual\": null}, {\"altitude\": 800.0, \"especie_atual\": \"Jararaca\", \"genero_atual\": \"Bothrops\", \"ordem\": \"Squamata\", \"familia\": \"Viperidae\", \"ano_coleta\": 1947.0, \"qualificador_atual\": null}, {\"altitude\": 800.0, \"especie_atual\": \"Moojeni\", \"genero_atual\": \"Bothrops\", \"ordem\": \"Squamata\", \"familia\": \"Viperidae\", \"ano_coleta\": 2014.0, \"qualificador_atual\": null}, {\"altitude\": 800.0, \"especie_atual\": \"Angulatus\", \"genero_atual\": \"Helicops\", \"ordem\": \"Squamata\", \"familia\": \"Dipsadidae\", \"ano_coleta\": 2014.0, \"qualificador_atual\": null}, {\"altitude\": 802.0, \"especie_atual\": \"Neuwiedii\", \"genero_atual\": \"Sibynomorphus\", \"ordem\": \"Squamata\", \"familia\": \"Dipsadidae\", \"ano_coleta\": 2014.0, \"qualificador_atual\": null}, {\"altitude\": 809.0, \"especie_atual\": \"Lavillai\", \"genero_atual\": \"Sibynomorphus\", \"ordem\": \"Squamata\", \"familia\": \"Dipsadidae\", \"ano_coleta\": 2011.0, \"qualificador_atual\": null}, {\"altitude\": 809.0, \"especie_atual\": \"Caducus\", \"genero_atual\": \"Stenocercus\", \"ordem\": \"Squamata\", \"familia\": \"Tropiduridae\", \"ano_coleta\": 2011.0, \"qualificador_atual\": null}, {\"altitude\": 815.0, \"especie_atual\": \"Perditus\", \"genero_atual\": \"Enyalius\", \"ordem\": \"Squamata\", \"familia\": \"Leiosauridae\", \"ano_coleta\": 1956.0, \"qualificador_atual\": null}, {\"altitude\": 815.0, \"especie_atual\": \"Decoratus\", \"genero_atual\": \"Micrurus\", \"ordem\": \"Squamata\", \"familia\": \"Elapidae\", \"ano_coleta\": 1956.0, \"qualificador_atual\": null}, {\"altitude\": 830.0, \"especie_atual\": \"Decoratus\", \"genero_atual\": \"Micrurus\", \"ordem\": \"Squamata\", \"familia\": \"Elapidae\", \"ano_coleta\": 1957.0, \"qualificador_atual\": null}, {\"altitude\": 834.0, \"especie_atual\": \"Durissus\", \"genero_atual\": \"Crotalus\", \"ordem\": \"Squamata\", \"familia\": \"Viperidae\", \"ano_coleta\": 2015.0, \"qualificador_atual\": null}, {\"altitude\": 84.0, \"especie_atual\": \"Petolarius\", \"genero_atual\": \"Oxyrhopus\", \"ordem\": \"Squamata\", \"familia\": \"Dipsadidae\", \"ano_coleta\": 2011.0, \"qualificador_atual\": null}, {\"altitude\": 84.0, \"especie_atual\": \"Turgidus\", \"genero_atual\": \"Sibynomorphus\", \"ordem\": \"Squamata\", \"familia\": \"Dipsadidae\", \"ano_coleta\": 2011.0, \"qualificador_atual\": null}, {\"altitude\": 840.0, \"especie_atual\": \"Melanocephala\", \"genero_atual\": \"Tantilla\", \"ordem\": \"Squamata\", \"familia\": \"Colubridae\", \"ano_coleta\": 2008.0, \"qualificador_atual\": null}, {\"altitude\": 842.0, \"especie_atual\": \"Brongersmianus\", \"genero_atual\": \"Amerotyphlops\", \"ordem\": \"Squamata\", \"familia\": \"Typhlopidae\", \"ano_coleta\": 2014.0, \"qualificador_atual\": null}, {\"altitude\": 844.0, \"especie_atual\": \"Jararaca\", \"genero_atual\": \"Bothrops\", \"ordem\": \"Squamata\", \"familia\": \"Viperidae\", \"ano_coleta\": 2014.0, \"qualificador_atual\": null}, {\"altitude\": 848.0, \"especie_atual\": \"Meridionalis\", \"genero_atual\": \"Anolis\", \"ordem\": \"Squamata\", \"familia\": \"Polychrotidae\", \"ano_coleta\": 2011.0, \"qualificador_atual\": null}, {\"altitude\": 848.0, \"especie_atual\": \"Caducus\", \"genero_atual\": \"Stenocercus\", \"ordem\": \"Squamata\", \"familia\": \"Tropiduridae\", \"ano_coleta\": 2011.0, \"qualificador_atual\": null}, {\"altitude\": 851.0, \"especie_atual\": \"Melanocephala\", \"genero_atual\": \"Tantilla\", \"ordem\": \"Squamata\", \"familia\": \"Colubridae\", \"ano_coleta\": 2008.0, \"qualificador_atual\": null}, {\"altitude\": 863.0, \"especie_atual\": \"Nan\", \"genero_atual\": \"Amphisbaena\", \"ordem\": \"Squamata\", \"familia\": \"Amphisbaenidae\", \"ano_coleta\": 2007.0, \"qualificador_atual\": \"sp.\"}, {\"altitude\": 864.0, \"especie_atual\": \"Melanocephala\", \"genero_atual\": \"Tantilla\", \"ordem\": \"Squamata\", \"familia\": \"Colubridae\", \"ano_coleta\": 2009.0, \"qualificador_atual\": null}, {\"altitude\": 87.0, \"especie_atual\": \"Ameiva\", \"genero_atual\": \"Ameiva\", \"ordem\": \"Squamata\", \"familia\": \"Teiidae\", \"ano_coleta\": 2011.0, \"qualificador_atual\": null}, {\"altitude\": 87.0, \"especie_atual\": \"Ameiva\", \"genero_atual\": \"Ameiva\", \"ordem\": \"Squamata\", \"familia\": \"Teiidae\", \"ano_coleta\": 2011.0, \"qualificador_atual\": null}, {\"altitude\": 87.0, \"especie_atual\": \"Chaquensis\", \"genero_atual\": \"Thamnodynastes\", \"ordem\": \"Squamata\", \"familia\": \"Dipsadidae\", \"ano_coleta\": 2011.0, \"qualificador_atual\": null}, {\"altitude\": 870.0, \"especie_atual\": \"Melanocephala\", \"genero_atual\": \"Tantilla\", \"ordem\": \"Squamata\", \"familia\": \"Colubridae\", \"ano_coleta\": 2008.0, \"qualificador_atual\": null}, {\"altitude\": 871.0, \"especie_atual\": \"Durissus\", \"genero_atual\": \"Crotalus\", \"ordem\": \"Squamata\", \"familia\": \"Viperidae\", \"ano_coleta\": 2004.0, \"qualificador_atual\": null}, {\"altitude\": 875.0, \"especie_atual\": \"Melanocephala\", \"genero_atual\": \"Tantilla\", \"ordem\": \"Squamata\", \"familia\": \"Colubridae\", \"ano_coleta\": 2009.0, \"qualificador_atual\": null}, {\"altitude\": 876.0, \"especie_atual\": \"Moojeni\", \"genero_atual\": \"Bothrops\", \"ordem\": \"Squamata\", \"familia\": \"Viperidae\", \"ano_coleta\": 2013.0, \"qualificador_atual\": null}, {\"altitude\": 876.0, \"especie_atual\": \"Lanei\", \"genero_atual\": \"Thamnodynastes\", \"ordem\": \"Squamata\", \"familia\": \"Dipsadidae\", \"ano_coleta\": 2013.0, \"qualificador_atual\": null}, {\"altitude\": 88.0, \"especie_atual\": \"Chaquensis\", \"genero_atual\": \"Thamnodynastes\", \"ordem\": \"Squamata\", \"familia\": \"Dipsadidae\", \"ano_coleta\": 2011.0, \"qualificador_atual\": null}, {\"altitude\": 88.0, \"especie_atual\": \"Merremi\", \"genero_atual\": \"Xenodon\", \"ordem\": \"Squamata\", \"familia\": \"Dipsadidae\", \"ano_coleta\": 2011.0, \"qualificador_atual\": null}, {\"altitude\": 880.0, \"especie_atual\": \"Melanocephala\", \"genero_atual\": \"Tantilla\", \"ordem\": \"Squamata\", \"familia\": \"Colubridae\", \"ano_coleta\": 2008.0, \"qualificador_atual\": null}, {\"altitude\": 889.0, \"especie_atual\": \"Pretrei\", \"genero_atual\": \"Amphisbaena\", \"ordem\": \"Squamata\", \"familia\": \"Amphisbaenidae\", \"ano_coleta\": 2014.0, \"qualificador_atual\": null}, {\"altitude\": 889.0, \"especie_atual\": \"Torquatus\", \"genero_atual\": \"Tropidurus\", \"ordem\": \"Squamata\", \"familia\": \"Tropiduridae\", \"ano_coleta\": 2006.0, \"qualificador_atual\": null}, {\"altitude\": 894.0, \"especie_atual\": \"Francoi\", \"genero_atual\": \"Atractus\", \"ordem\": \"Squamata\", \"familia\": \"Dipsadidae\", \"ano_coleta\": 2014.0, \"qualificador_atual\": null}, {\"altitude\": 896.0, \"especie_atual\": \"Melanocephala\", \"genero_atual\": \"Tantilla\", \"ordem\": \"Squamata\", \"familia\": \"Colubridae\", \"ano_coleta\": 2008.0, \"qualificador_atual\": null}, {\"altitude\": 896.0, \"especie_atual\": \"Melanocephala\", \"genero_atual\": \"Tantilla\", \"ordem\": \"Squamata\", \"familia\": \"Colubridae\", \"ano_coleta\": 2008.0, \"qualificador_atual\": null}, {\"altitude\": 896.0, \"especie_atual\": \"Melanocephala\", \"genero_atual\": \"Tantilla\", \"ordem\": \"Squamata\", \"familia\": \"Colubridae\", \"ano_coleta\": 2009.0, \"qualificador_atual\": null}, {\"altitude\": 9.0, \"especie_atual\": \"Littoralis\", \"genero_atual\": \"Ameivula\", \"ordem\": \"Squamata\", \"familia\": \"Teiidae\", \"ano_coleta\": 2011.0, \"qualificador_atual\": null}, {\"altitude\": 9.0, \"especie_atual\": \"Littoralis\", \"genero_atual\": \"Ameivula\", \"ordem\": \"Squamata\", \"familia\": \"Teiidae\", \"ano_coleta\": 2011.0, \"qualificador_atual\": null}, {\"altitude\": 9.0, \"especie_atual\": \"Littoralis\", \"genero_atual\": \"Ameivula\", \"ordem\": \"Squamata\", \"familia\": \"Teiidae\", \"ano_coleta\": 2011.0, \"qualificador_atual\": null}, {\"altitude\": 9.0, \"especie_atual\": \"Littoralis\", \"genero_atual\": \"Ameivula\", \"ordem\": \"Squamata\", \"familia\": \"Teiidae\", \"ano_coleta\": 2011.0, \"qualificador_atual\": null}, {\"altitude\": 9.0, \"especie_atual\": \"Littoralis\", \"genero_atual\": \"Ameivula\", \"ordem\": \"Squamata\", \"familia\": \"Teiidae\", \"ano_coleta\": 2011.0, \"qualificador_atual\": null}, {\"altitude\": 9.0, \"especie_atual\": \"Littoralis\", \"genero_atual\": \"Ameivula\", \"ordem\": \"Squamata\", \"familia\": \"Teiidae\", \"ano_coleta\": 2011.0, \"qualificador_atual\": null}, {\"altitude\": 9.0, \"especie_atual\": \"Littoralis\", \"genero_atual\": \"Ameivula\", \"ordem\": \"Squamata\", \"familia\": \"Teiidae\", \"ano_coleta\": 2011.0, \"qualificador_atual\": null}, {\"altitude\": 9.0, \"especie_atual\": \"Littoralis\", \"genero_atual\": \"Ameivula\", \"ordem\": \"Squamata\", \"familia\": \"Teiidae\", \"ano_coleta\": 2011.0, \"qualificador_atual\": null}, {\"altitude\": 9.0, \"especie_atual\": \"Littoralis\", \"genero_atual\": \"Ameivula\", \"ordem\": \"Squamata\", \"familia\": \"Teiidae\", \"ano_coleta\": 2010.0, \"qualificador_atual\": null}, {\"altitude\": 9.0, \"especie_atual\": \"Littoralis\", \"genero_atual\": \"Ameivula\", \"ordem\": \"Squamata\", \"familia\": \"Teiidae\", \"ano_coleta\": 2010.0, \"qualificador_atual\": null}, {\"altitude\": 9.0, \"especie_atual\": \"Littoralis\", \"genero_atual\": \"Ameivula\", \"ordem\": \"Squamata\", \"familia\": \"Teiidae\", \"ano_coleta\": 2010.0, \"qualificador_atual\": null}, {\"altitude\": 9.0, \"especie_atual\": \"Littoralis\", \"genero_atual\": \"Ameivula\", \"ordem\": \"Squamata\", \"familia\": \"Teiidae\", \"ano_coleta\": 2010.0, \"qualificador_atual\": null}, {\"altitude\": 9.0, \"especie_atual\": \"Littoralis\", \"genero_atual\": \"Ameivula\", \"ordem\": \"Squamata\", \"familia\": \"Teiidae\", \"ano_coleta\": 2010.0, \"qualificador_atual\": null}, {\"altitude\": 9.0, \"especie_atual\": \"Brongersmianus\", \"genero_atual\": \"Amerotyphlops\", \"ordem\": \"Squamata\", \"familia\": \"Typhlopidae\", \"ano_coleta\": 2014.0, \"qualificador_atual\": null}, {\"altitude\": 9.0, \"especie_atual\": \"Brongersmianus\", \"genero_atual\": \"Amerotyphlops\", \"ordem\": \"Squamata\", \"familia\": \"Typhlopidae\", \"ano_coleta\": 2014.0, \"qualificador_atual\": null}, {\"altitude\": 9.0, \"especie_atual\": \"Brongersmianus\", \"genero_atual\": \"Amerotyphlops\", \"ordem\": \"Squamata\", \"familia\": \"Typhlopidae\", \"ano_coleta\": 2014.0, \"qualificador_atual\": null}, {\"altitude\": 9.0, \"especie_atual\": \"Brongersmianus\", \"genero_atual\": \"Amerotyphlops\", \"ordem\": \"Squamata\", \"familia\": \"Typhlopidae\", \"ano_coleta\": 2014.0, \"qualificador_atual\": null}, {\"altitude\": 9.0, \"especie_atual\": \"Brongersmianus\", \"genero_atual\": \"Amerotyphlops\", \"ordem\": \"Squamata\", \"familia\": \"Typhlopidae\", \"ano_coleta\": 2015.0, \"qualificador_atual\": null}, {\"altitude\": 9.0, \"especie_atual\": \"Brongersmianus\", \"genero_atual\": \"Amerotyphlops\", \"ordem\": \"Squamata\", \"familia\": \"Typhlopidae\", \"ano_coleta\": 2015.0, \"qualificador_atual\": null}, {\"altitude\": 9.0, \"especie_atual\": \"Brongersmianus\", \"genero_atual\": \"Amerotyphlops\", \"ordem\": \"Squamata\", \"familia\": \"Typhlopidae\", \"ano_coleta\": 2015.0, \"qualificador_atual\": null}, {\"altitude\": 9.0, \"especie_atual\": \"Brongersmianus\", \"genero_atual\": \"Amerotyphlops\", \"ordem\": \"Squamata\", \"familia\": \"Typhlopidae\", \"ano_coleta\": 2015.0, \"qualificador_atual\": null}, {\"altitude\": 9.0, \"especie_atual\": \"Jararaca\", \"genero_atual\": \"Bothrops\", \"ordem\": \"Squamata\", \"familia\": \"Viperidae\", \"ano_coleta\": 2015.0, \"qualificador_atual\": null}, {\"altitude\": 9.0, \"especie_atual\": \"Darwinii\", \"genero_atual\": \"Gymnodactylus\", \"ordem\": \"Squamata\", \"familia\": \"Phyllodactylidae\", \"ano_coleta\": 2010.0, \"qualificador_atual\": null}, {\"altitude\": 9.0, \"especie_atual\": \"Mabouia\", \"genero_atual\": \"Hemidactylus\", \"ordem\": \"Squamata\", \"familia\": \"Gekkonidae\", \"ano_coleta\": 2008.0, \"qualificador_atual\": null}, {\"altitude\": 9.0, \"especie_atual\": \"Mabouia\", \"genero_atual\": \"Hemidactylus\", \"ordem\": \"Squamata\", \"familia\": \"Gekkonidae\", \"ano_coleta\": 2011.0, \"qualificador_atual\": null}, {\"altitude\": 9.0, \"especie_atual\": \"Miliaris\", \"genero_atual\": \"Liophis\", \"ordem\": \"Squamata\", \"familia\": \"Dipsadidae\", \"ano_coleta\": 2008.0, \"qualificador_atual\": null}, {\"altitude\": 9.0, \"especie_atual\": \"Miliaris\", \"genero_atual\": \"Liophis\", \"ordem\": \"Squamata\", \"familia\": \"Dipsadidae\", \"ano_coleta\": 2010.0, \"qualificador_atual\": null}, {\"altitude\": 9.0, \"especie_atual\": \"Miliaris\", \"genero_atual\": \"Liophis\", \"ordem\": \"Squamata\", \"familia\": \"Dipsadidae\", \"ano_coleta\": 2011.0, \"qualificador_atual\": null}, {\"altitude\": 9.0, \"especie_atual\": \"Corallinus\", \"genero_atual\": \"Micrurus\", \"ordem\": \"Squamata\", \"familia\": \"Elapidae\", \"ano_coleta\": 2011.0, \"qualificador_atual\": null}, {\"altitude\": 9.0, \"especie_atual\": \"Olfersii\", \"genero_atual\": \"Philodryas\", \"ordem\": \"Squamata\", \"familia\": \"Dipsadidae\", \"ano_coleta\": 2014.0, \"qualificador_atual\": null}, {\"altitude\": 9.0, \"especie_atual\": \"Melanocephala\", \"genero_atual\": \"Tantilla\", \"ordem\": \"Squamata\", \"familia\": \"Colubridae\", \"ano_coleta\": 2010.0, \"qualificador_atual\": null}, {\"altitude\": 9.0, \"especie_atual\": \"Melanocephala\", \"genero_atual\": \"Tantilla\", \"ordem\": \"Squamata\", \"familia\": \"Colubridae\", \"ano_coleta\": 2010.0, \"qualificador_atual\": null}, {\"altitude\": 9.0, \"especie_atual\": \"Torquatus\", \"genero_atual\": \"Tropidurus\", \"ordem\": \"Squamata\", \"familia\": \"Tropiduridae\", \"ano_coleta\": 2011.0, \"qualificador_atual\": null}, {\"altitude\": 90.0, \"especie_atual\": \"Ahaetulla\", \"genero_atual\": \"Leptophis\", \"ordem\": \"Squamata\", \"familia\": \"Colubridae\", \"ano_coleta\": 2011.0, \"qualificador_atual\": null}, {\"altitude\": 900.0, \"especie_atual\": \"Meridionalis\", \"genero_atual\": \"Anolis\", \"ordem\": \"Squamata\", \"familia\": \"Dactyloidae\", \"ano_coleta\": 2011.0, \"qualificador_atual\": null}, {\"altitude\": 900.0, \"especie_atual\": \"Meridionalis\", \"genero_atual\": \"Anolis\", \"ordem\": \"Squamata\", \"familia\": \"Dactyloidae\", \"ano_coleta\": 2011.0, \"qualificador_atual\": null}, {\"altitude\": 900.0, \"especie_atual\": \"Meridionalis\", \"genero_atual\": \"Anolis\", \"ordem\": \"Squamata\", \"familia\": \"Polychrotidae\", \"ano_coleta\": 2011.0, \"qualificador_atual\": null}, {\"altitude\": 900.0, \"especie_atual\": \"Jararaca\", \"genero_atual\": \"Bothrops\", \"ordem\": \"Squamata\", \"familia\": \"Viperidae\", \"ano_coleta\": 2010.0, \"qualificador_atual\": null}, {\"altitude\": 900.0, \"especie_atual\": \"Decoratus\", \"genero_atual\": \"Micrurus\", \"ordem\": \"Squamata\", \"familia\": \"Elapidae\", \"ano_coleta\": 1944.0, \"qualificador_atual\": null}, {\"altitude\": 905.0, \"especie_atual\": \"Frontalis\", \"genero_atual\": \"Micrurus\", \"ordem\": \"Squamata\", \"familia\": \"Elapidae\", \"ano_coleta\": 2006.0, \"qualificador_atual\": null}, {\"altitude\": 918.0, \"especie_atual\": \"Clathratus\", \"genero_atual\": \"Oxyrhopus\", \"ordem\": \"Squamata\", \"familia\": \"Dipsadidae\", \"ano_coleta\": 2013.0, \"qualificador_atual\": null}, {\"altitude\": 923.0, \"especie_atual\": \"Acutirostris\", \"genero_atual\": \"Polychrus\", \"ordem\": \"Squamata\", \"familia\": \"Polychrotidae\", \"ano_coleta\": 2011.0, \"qualificador_atual\": null}, {\"altitude\": 928.0, \"especie_atual\": \"Francoi\", \"genero_atual\": \"Atractus\", \"ordem\": \"Squamata\", \"familia\": \"Dipsadidae\", \"ano_coleta\": 2014.0, \"qualificador_atual\": null}, {\"altitude\": 944.0, \"especie_atual\": \"Riveroi\", \"genero_atual\": \"Atractus\", \"ordem\": \"Squamata\", \"familia\": \"Dipsadidae\", \"ano_coleta\": 2011.0, \"qualificador_atual\": null}, {\"altitude\": 95.0, \"especie_atual\": \"Humeralis\", \"genero_atual\": \"Gonatodes\", \"ordem\": \"Squamata\", \"familia\": \"Sphaerodactylidae\", \"ano_coleta\": 2011.0, \"qualificador_atual\": null}, {\"altitude\": 95.0, \"especie_atual\": \"Humeralis\", \"genero_atual\": \"Gonatodes\", \"ordem\": \"Squamata\", \"familia\": \"Sphaerodactylidae\", \"ano_coleta\": 2011.0, \"qualificador_atual\": null}, {\"altitude\": 95.0, \"especie_atual\": \"Turgidus\", \"genero_atual\": \"Sibynomorphus\", \"ordem\": \"Squamata\", \"familia\": \"Dipsadidae\", \"ano_coleta\": 2011.0, \"qualificador_atual\": null}, {\"altitude\": 95.0, \"especie_atual\": \"Chaquensis\", \"genero_atual\": \"Thamnodynastes\", \"ordem\": \"Squamata\", \"familia\": \"Dipsadidae\", \"ano_coleta\": 2011.0, \"qualificador_atual\": null}, {\"altitude\": 97.0, \"especie_atual\": \"Dapsilis\", \"genero_atual\": \"Atractus\", \"ordem\": \"Squamata\", \"familia\": \"Dipsadidae\", \"ano_coleta\": 2007.0, \"qualificador_atual\": null}, {\"altitude\": 974.0, \"especie_atual\": \"Meridionalis\", \"genero_atual\": \"Anolis\", \"ordem\": \"Squamata\", \"familia\": \"Dactyloidae\", \"ano_coleta\": 2011.0, \"qualificador_atual\": null}, {\"altitude\": 974.0, \"especie_atual\": \"Meridionalis\", \"genero_atual\": \"Anolis\", \"ordem\": \"Squamata\", \"familia\": \"Dactyloidae\", \"ano_coleta\": 2011.0, \"qualificador_atual\": null}, {\"altitude\": 974.0, \"especie_atual\": \"Meridionalis\", \"genero_atual\": \"Anolis\", \"ordem\": \"Squamata\", \"familia\": \"Polychrotidae\", \"ano_coleta\": 2011.0, \"qualificador_atual\": null}, {\"altitude\": 974.0, \"especie_atual\": \"Meridionalis\", \"genero_atual\": \"Anolis\", \"ordem\": \"Squamata\", \"familia\": \"Polychrotidae\", \"ano_coleta\": 2011.0, \"qualificador_atual\": null}, {\"altitude\": 974.0, \"especie_atual\": \"Guaporicola\", \"genero_atual\": \"Mabuya\", \"ordem\": \"Squamata\", \"familia\": \"Scincidae\", \"ano_coleta\": 2011.0, \"qualificador_atual\": null}, {\"altitude\": 976.0, \"especie_atual\": \"Lanei\", \"genero_atual\": \"Thamnodynastes\", \"ordem\": \"Squamata\", \"familia\": \"Dipsadidae\", \"ano_coleta\": 2013.0, \"qualificador_atual\": \"cf.\"}, {\"altitude\": 980.0, \"especie_atual\": \"Perditus\", \"genero_atual\": \"Enyalius\", \"ordem\": \"Squamata\", \"familia\": \"Leiosauridae\", \"ano_coleta\": 2013.0, \"qualificador_atual\": null}, {\"altitude\": 990.0, \"especie_atual\": \"Riveroi\", \"genero_atual\": \"Atractus\", \"ordem\": \"Squamata\", \"familia\": \"Dipsadidae\", \"ano_coleta\": 2011.0, \"qualificador_atual\": null}, {\"altitude\": 996.0, \"especie_atual\": \"Nan\", \"genero_atual\": \"Anolis\", \"ordem\": \"Squamata\", \"familia\": \"Polychrotidae\", \"ano_coleta\": 2015.0, \"qualificador_atual\": \"sp.\"}, {\"altitude\": 996.0, \"especie_atual\": \"Nan\", \"genero_atual\": \"Anolis\", \"ordem\": \"Squamata\", \"familia\": \"Polychrotidae\", \"ano_coleta\": 2015.0, \"qualificador_atual\": \"sp.\"}, {\"altitude\": 996.0, \"especie_atual\": \"Nan\", \"genero_atual\": \"Anolis\", \"ordem\": \"Squamata\", \"familia\": \"Polychrotidae\", \"ano_coleta\": 2015.0, \"qualificador_atual\": \"sp.\"}, {\"altitude\": 996.0, \"especie_atual\": \"Nan\", \"genero_atual\": \"Anolis\", \"ordem\": \"Squamata\", \"familia\": \"Polychrotidae\", \"ano_coleta\": 2015.0, \"qualificador_atual\": \"sp.\"}, {\"altitude\": 996.0, \"especie_atual\": \"Nan\", \"genero_atual\": \"Anolis\", \"ordem\": \"Squamata\", \"familia\": \"Polychrotidae\", \"ano_coleta\": 2015.0, \"qualificador_atual\": \"sp.\"}]}}, {\"mode\": \"vega-lite\"});\n",
       "</script>"
      ],
      "text/plain": [
       "alt.Chart(...)"
      ]
     },
     "execution_count": 180,
     "metadata": {},
     "output_type": "execute_result"
    }
   ],
   "source": [
    "# ordering x-axis per mean altitude\n",
    "temp = alt.Chart(teste[(teste['genero_atual'].isin(grupo1))], width= 800,\n",
    "                 title='Altitude per genus (Squamata)').mark_circle(color= cores[0]).encode(\n",
    "    x = alt.X('genero_atual', type='nominal', title='Genus',\n",
    "             sort=alt.EncodingSortField('altitude', op='max', order=\"ascending\")),\n",
    "    y = alt.Y('altitude', type='quantitative', title='Altitude (in meters)'),\n",
    "    tooltip = alt.Tooltip(['altitude', 'genero_atual', 'especie_atual','familia', \n",
    "                               'ano_coleta', 'qualificador_atual'])\n",
    ")\n",
    "\n",
    "# temp.save('./graphs/altitude/genus/altitude_per_genus-maior-var.html')\n",
    "temp"
   ]
  },
  {
   "cell_type": "markdown",
   "metadata": {},
   "source": [
    "#### grupo de menor dispersão\n",
    "\n",
    "menos pontos (generos menos representados)"
   ]
  },
  {
   "cell_type": "code",
   "execution_count": 169,
   "metadata": {
    "ExecuteTime": {
     "end_time": "2020-07-14T20:45:33.410676Z",
     "start_time": "2020-07-14T20:45:33.401283Z"
    }
   },
   "outputs": [
    {
     "data": {
      "text/plain": [
       "NaN     618\n",
       "sp.       9\n",
       "cf.       5\n",
       "aff.      5\n",
       "c.        1\n",
       "Name: qualificador_atual, dtype: int64"
      ]
     },
     "execution_count": 169,
     "metadata": {},
     "output_type": "execute_result"
    }
   ],
   "source": [
    "# não dá para usar como marca gráfica (muitos valores faltando)\n",
    "teste['qualificador_atual'].value_counts(dropna=False)"
   ]
  },
  {
   "cell_type": "code",
   "execution_count": 181,
   "metadata": {
    "ExecuteTime": {
     "end_time": "2020-07-14T20:50:52.929833Z",
     "start_time": "2020-07-14T20:50:52.886044Z"
    },
    "scrolled": false
   },
   "outputs": [
    {
     "data": {
      "text/html": [
       "\n",
       "<div id=\"altair-viz-382d42a74dbd4357bcffc2518a41b40b\"></div>\n",
       "<script type=\"text/javascript\">\n",
       "  (function(spec, embedOpt){\n",
       "    let outputDiv = document.currentScript.previousElementSibling;\n",
       "    if (outputDiv.id !== \"altair-viz-382d42a74dbd4357bcffc2518a41b40b\") {\n",
       "      outputDiv = document.getElementById(\"altair-viz-382d42a74dbd4357bcffc2518a41b40b\");\n",
       "    }\n",
       "    const paths = {\n",
       "      \"vega\": \"https://cdn.jsdelivr.net/npm//vega@5?noext\",\n",
       "      \"vega-lib\": \"https://cdn.jsdelivr.net/npm//vega-lib?noext\",\n",
       "      \"vega-lite\": \"https://cdn.jsdelivr.net/npm//vega-lite@4.8.1?noext\",\n",
       "      \"vega-embed\": \"https://cdn.jsdelivr.net/npm//vega-embed@6?noext\",\n",
       "    };\n",
       "\n",
       "    function loadScript(lib) {\n",
       "      return new Promise(function(resolve, reject) {\n",
       "        var s = document.createElement('script');\n",
       "        s.src = paths[lib];\n",
       "        s.async = true;\n",
       "        s.onload = () => resolve(paths[lib]);\n",
       "        s.onerror = () => reject(`Error loading script: ${paths[lib]}`);\n",
       "        document.getElementsByTagName(\"head\")[0].appendChild(s);\n",
       "      });\n",
       "    }\n",
       "\n",
       "    function showError(err) {\n",
       "      outputDiv.innerHTML = `<div class=\"error\" style=\"color:red;\">${err}</div>`;\n",
       "      throw err;\n",
       "    }\n",
       "\n",
       "    function displayChart(vegaEmbed) {\n",
       "      vegaEmbed(outputDiv, spec, embedOpt)\n",
       "        .catch(err => showError(`Javascript Error: ${err.message}<br>This usually means there's a typo in your chart specification. See the javascript console for the full traceback.`));\n",
       "    }\n",
       "\n",
       "    if(typeof define === \"function\" && define.amd) {\n",
       "      requirejs.config({paths});\n",
       "      require([\"vega-embed\"], displayChart, err => showError(`Error loading script: ${err.message}`));\n",
       "    } else if (typeof vegaEmbed === \"function\") {\n",
       "      displayChart(vegaEmbed);\n",
       "    } else {\n",
       "      loadScript(\"vega\")\n",
       "        .then(() => loadScript(\"vega-lite\"))\n",
       "        .then(() => loadScript(\"vega-embed\"))\n",
       "        .catch(showError)\n",
       "        .then(() => displayChart(vegaEmbed));\n",
       "    }\n",
       "  })({\"config\": {\"view\": {\"continuousWidth\": 400, \"continuousHeight\": 300}}, \"data\": {\"name\": \"data-0a1d1320c272a12fafdefe54f041c487\"}, \"mark\": {\"type\": \"circle\", \"color\": \"#BF4417\"}, \"encoding\": {\"tooltip\": [{\"type\": \"quantitative\", \"field\": \"altitude\"}, {\"type\": \"nominal\", \"field\": \"genero_atual\"}, {\"type\": \"nominal\", \"field\": \"especie_atual\"}, {\"type\": \"nominal\", \"field\": \"familia\"}, {\"type\": \"quantitative\", \"field\": \"ano_coleta\"}, {\"type\": \"nominal\", \"field\": \"qualificador_atual\"}], \"x\": {\"type\": \"nominal\", \"field\": \"genero_atual\", \"sort\": {\"field\": \"altitude\", \"op\": \"max\", \"order\": \"ascending\"}, \"title\": \"Genus\"}, \"y\": {\"type\": \"quantitative\", \"field\": \"altitude\", \"title\": \"Altitude (in meters)\"}}, \"title\": \"Altitude per genus (Squamata)\", \"width\": 800, \"$schema\": \"https://vega.github.io/schema/vega-lite/v4.8.1.json\", \"datasets\": {\"data-0a1d1320c272a12fafdefe54f041c487\": [{\"altitude\": 100.0, \"especie_atual\": \"Iguana\", \"genero_atual\": \"Iguana\", \"ordem\": \"Squamata\", \"familia\": \"Iguanidae\", \"ano_coleta\": 2011.0, \"qualificador_atual\": null}, {\"altitude\": 100.0, \"especie_atual\": \"Umbra\", \"genero_atual\": \"Plica\", \"ordem\": \"Squamata\", \"familia\": \"Tropiduridae\", \"ano_coleta\": 2011.0, \"qualificador_atual\": null}, {\"altitude\": 100.0, \"especie_atual\": \"Rapicauda\", \"genero_atual\": \"Thecadactylus\", \"ordem\": \"Squamata\", \"familia\": \"Phyllodactylidae\", \"ano_coleta\": 2011.0, \"qualificador_atual\": null}, {\"altitude\": 1050.0, \"especie_atual\": \"Alternans\", \"genero_atual\": \"Dipsas\", \"ordem\": \"Squamata\", \"familia\": \"Dipsadidae\", \"ano_coleta\": 2010.0, \"qualificador_atual\": null}, {\"altitude\": 1100.0, \"especie_atual\": \"Cordylinum\", \"genero_atual\": \"Placosoma\", \"ordem\": \"Squamata\", \"familia\": \"Gymnophthalmidae\", \"ano_coleta\": null, \"qualificador_atual\": \"c.\"}, {\"altitude\": 115.0, \"especie_atual\": \"Crassus\", \"genero_atual\": \"Epicrates\", \"ordem\": \"Squamata\", \"familia\": \"Boidae\", \"ano_coleta\": 2008.0, \"qualificador_atual\": null}, {\"altitude\": 1200.0, \"especie_atual\": \"Meridionalis\", \"genero_atual\": \"Lygophis\", \"ordem\": \"Squamata\", \"familia\": \"Dipsadidae\", \"ano_coleta\": null, \"qualificador_atual\": null}, {\"altitude\": 1233.0, \"especie_atual\": \"Dorsatus\", \"genero_atual\": \"Tomodon\", \"ordem\": \"Squamata\", \"familia\": \"Dipsadidae\", \"ano_coleta\": 2015.0, \"qualificador_atual\": null}, {\"altitude\": 128.0, \"especie_atual\": \"Frenata\", \"genero_atual\": \"Notomabuya\", \"ordem\": \"Squamata\", \"familia\": \"Scincidae\", \"ano_coleta\": 2011.0, \"qualificador_atual\": null}, {\"altitude\": 1302.0, \"especie_atual\": \"Striaticeps\", \"genero_atual\": \"Tropidodryas\", \"ordem\": \"Squamata\", \"familia\": \"Dipsadidae\", \"ano_coleta\": 2013.0, \"qualificador_atual\": null}, {\"altitude\": 149.0, \"especie_atual\": \"Lentiginosum\", \"genero_atual\": \"Rhinobothryum\", \"ordem\": \"Squamata\", \"familia\": \"Colubridae\", \"ano_coleta\": 2011.0, \"qualificador_atual\": null}, {\"altitude\": 169.0, \"especie_atual\": \"Constrictor\", \"genero_atual\": \"Boa\", \"ordem\": \"Squamata\", \"familia\": \"Boidae\", \"ano_coleta\": 1995.0, \"qualificador_atual\": null}, {\"altitude\": 1700.0, \"especie_atual\": \"Vautieri\", \"genero_atual\": \"Urostrophus\", \"ordem\": \"Squamata\", \"familia\": \"Leiosauridae\", \"ano_coleta\": 1948.0, \"qualificador_atual\": null}, {\"altitude\": 1740.0, \"especie_atual\": \"Grilli\", \"genero_atual\": \"Anisolepis\", \"ordem\": \"Squamata\", \"familia\": \"Leiosauridae\", \"ano_coleta\": 2004.0, \"qualificador_atual\": null}, {\"altitude\": 200.0, \"especie_atual\": \"Corais\", \"genero_atual\": \"Drymarchon\", \"ordem\": \"Squamata\", \"familia\": \"Colubridae\", \"ano_coleta\": 2011.0, \"qualificador_atual\": null}, {\"altitude\": 2100.0, \"especie_atual\": \"Croizati\", \"genero_atual\": \"Panopa\", \"ordem\": \"Squamata\", \"familia\": \"Scincidae\", \"ano_coleta\": 1999.0, \"qualificador_atual\": null}, {\"altitude\": 2100.0, \"especie_atual\": \"Nebulatus\", \"genero_atual\": \"Sibon\", \"ordem\": \"Squamata\", \"familia\": \"Dipsadidae\", \"ano_coleta\": null, \"qualificador_atual\": null}, {\"altitude\": 218.0, \"especie_atual\": \"Munoai\", \"genero_atual\": \"Epictia\", \"ordem\": \"Squamata\", \"familia\": \"Leptotyphlopidae\", \"ano_coleta\": 2011.0, \"qualificador_atual\": null}, {\"altitude\": 219.0, \"especie_atual\": \"Quinquelineatus\", \"genero_atual\": \"Elapomorphus\", \"ordem\": \"Squamata\", \"familia\": \"Dipsadidae\", \"ano_coleta\": 2008.0, \"qualificador_atual\": null}, {\"altitude\": 2500.0, \"especie_atual\": \"Schreibersii\", \"genero_atual\": \"Cercosaura\", \"ordem\": \"Squamata\", \"familia\": \"Gymnophthalmidae\", \"ano_coleta\": 1983.0, \"qualificador_atual\": null}, {\"altitude\": 2777.0, \"especie_atual\": \"Taczanowskyi\", \"genero_atual\": \"Tropidophis\", \"ordem\": \"Squamata\", \"familia\": \"Tropidophiidae\", \"ano_coleta\": 2000.0, \"qualificador_atual\": null}, {\"altitude\": 2800.0, \"especie_atual\": \"Lessonae\", \"genero_atual\": \"Diploglossus\", \"ordem\": \"Squamata\", \"familia\": \"Anguidae\", \"ano_coleta\": 1989.0, \"qualificador_atual\": null}, {\"altitude\": 300.0, \"especie_atual\": \"Mimus\", \"genero_atual\": \"Erythrolamprus\", \"ordem\": \"Squamata\", \"familia\": \"Dipsadidae\", \"ano_coleta\": 2008.0, \"qualificador_atual\": null}, {\"altitude\": 426.0, \"especie_atual\": \"Quinquelineatus\", \"genero_atual\": \"Elapomorphus\", \"ordem\": \"Squamata\", \"familia\": \"Dipsadidae\", \"ano_coleta\": 2007.0, \"qualificador_atual\": null}, {\"altitude\": 585.0, \"especie_atual\": \"Constrictor\", \"genero_atual\": \"Boa\", \"ordem\": \"Squamata\", \"familia\": \"Boidae\", \"ano_coleta\": 2006.0, \"qualificador_atual\": null}, {\"altitude\": 585.0, \"especie_atual\": \"Joberti\", \"genero_atual\": \"Psomophis\", \"ordem\": \"Squamata\", \"familia\": \"Dipsadidae\", \"ano_coleta\": 2006.0, \"qualificador_atual\": null}, {\"altitude\": 630.0, \"especie_atual\": \"Joberti\", \"genero_atual\": \"Psomophis\", \"ordem\": \"Squamata\", \"familia\": \"Dipsadidae\", \"ano_coleta\": 2004.0, \"qualificador_atual\": null}, {\"altitude\": 65.0, \"especie_atual\": \"Cervinus\", \"genero_atual\": \"Siphlophis\", \"ordem\": \"Squamata\", \"familia\": \"Dipsadidae\", \"ano_coleta\": 2011.0, \"qualificador_atual\": null}, {\"altitude\": 70.0, \"especie_atual\": \"Aurata\", \"genero_atual\": \"Cercophis\", \"ordem\": \"Squamata\", \"familia\": \"Dipsadidae\", \"ano_coleta\": 2002.0, \"qualificador_atual\": null}, {\"altitude\": 700.0, \"especie_atual\": \"Fasciatus\", \"genero_atual\": \"Diploglossus\", \"ordem\": \"Squamata\", \"familia\": \"Anguidae\", \"ano_coleta\": 1944.0, \"qualificador_atual\": null}, {\"altitude\": 71.0, \"especie_atual\": \"Salgueiroi\", \"genero_atual\": \"Trilepida\", \"ordem\": \"Squamata\", \"familia\": \"Leptotyphlopidae\", \"ano_coleta\": 2005.0, \"qualificador_atual\": null}, {\"altitude\": 71.0, \"especie_atual\": \"Salgueiroi\", \"genero_atual\": \"Trilepida\", \"ordem\": \"Squamata\", \"familia\": \"Leptotyphlopidae\", \"ano_coleta\": 2005.0, \"qualificador_atual\": null}, {\"altitude\": 718.0, \"especie_atual\": \"Modesta\", \"genero_atual\": \"Colobosaura\", \"ordem\": \"Squamata\", \"familia\": \"Gymnophthalmidae\", \"ano_coleta\": 2006.0, \"qualificador_atual\": null}, {\"altitude\": 809.0, \"especie_atual\": \"Quadrilineata\", \"genero_atual\": \"Cercosaura\", \"ordem\": \"Squamata\", \"familia\": \"Gymnophthalmidae\", \"ano_coleta\": 2011.0, \"qualificador_atual\": null}, {\"altitude\": 83.0, \"especie_atual\": \"Rhachicephala\", \"genero_atual\": \"Mesobaena\", \"ordem\": \"Squamata\", \"familia\": \"Amphisbaenidae\", \"ano_coleta\": 2006.0, \"qualificador_atual\": null}, {\"altitude\": 83.0, \"especie_atual\": \"Rhachicephala\", \"genero_atual\": \"Mesobaena\", \"ordem\": \"Squamata\", \"familia\": \"Amphisbaenidae\", \"ano_coleta\": 2006.0, \"qualificador_atual\": null}, {\"altitude\": 84.0, \"especie_atual\": \"Notaeus\", \"genero_atual\": \"Eunectes\", \"ordem\": \"Squamata\", \"familia\": \"Boidae\", \"ano_coleta\": 2011.0, \"qualificador_atual\": null}, {\"altitude\": 848.0, \"especie_atual\": \"Vellardi\", \"genero_atual\": \"Epictia\", \"ordem\": \"Squamata\", \"familia\": \"Leptotyphlopidae\", \"ano_coleta\": 2011.0, \"qualificador_atual\": null}, {\"altitude\": 848.0, \"especie_atual\": \"Viridistriga\", \"genero_atual\": \"Kentropyx\", \"ordem\": \"Squamata\", \"familia\": \"Teiidae\", \"ano_coleta\": 2011.0, \"qualificador_atual\": null}, {\"altitude\": 871.0, \"especie_atual\": \"Guerini\", \"genero_atual\": \"Phimophis\", \"ordem\": \"Squamata\", \"familia\": \"Dipsadidae\", \"ano_coleta\": 2005.0, \"qualificador_atual\": null}, {\"altitude\": 876.0, \"especie_atual\": \"Annulata\", \"genero_atual\": \"Leptodeira\", \"ordem\": \"Squamata\", \"familia\": \"Dipsadidae\", \"ano_coleta\": 2013.0, \"qualificador_atual\": null}, {\"altitude\": 878.0, \"especie_atual\": \"Quadrilineatus\", \"genero_atual\": \"Tupinambis\", \"ordem\": \"Squamata\", \"familia\": \"Teiidae\", \"ano_coleta\": 2006.0, \"qualificador_atual\": null}, {\"altitude\": 900.0, \"especie_atual\": \"Viridistriga\", \"genero_atual\": \"Kentropyx\", \"ordem\": \"Squamata\", \"familia\": \"Teiidae\", \"ano_coleta\": 2011.0, \"qualificador_atual\": null}, {\"altitude\": 900.0, \"especie_atual\": \"Longicaudatus\", \"genero_atual\": \"Siphlophis\", \"ordem\": \"Squamata\", \"familia\": \"Dipsadidae\", \"ano_coleta\": 2008.0, \"qualificador_atual\": null}, {\"altitude\": 95.0, \"especie_atual\": \"Caesurus\", \"genero_atual\": \"Hydrops\", \"ordem\": \"Squamata\", \"familia\": \"Dipsadidae\", \"ano_coleta\": 2011.0, \"qualificador_atual\": null}]}}, {\"mode\": \"vega-lite\"});\n",
       "</script>"
      ],
      "text/plain": [
       "alt.Chart(...)"
      ]
     },
     "execution_count": 181,
     "metadata": {},
     "output_type": "execute_result"
    }
   ],
   "source": [
    "# ordering x-axis per mean altitude\n",
    "temp = alt.Chart(teste[(teste['genero_atual'].isin(grupo2))], title='Altitude per genus (Squamata)',\n",
    "                width=800).mark_circle(color= cores[0]).encode(\n",
    "    x = alt.X('genero_atual', type='nominal', title='Genus',\n",
    "             sort=alt.EncodingSortField('altitude', op=\"max\", order=\"ascending\")),\n",
    "    y = alt.Y('altitude', type='quantitative', title='Altitude (in meters)'),\n",
    "    tooltip = alt.Tooltip(['altitude', 'genero_atual', 'especie_atual','familia', \n",
    "                               'ano_coleta', 'qualificador_atual'])\n",
    ")\n",
    "\n",
    "# temp.save('./graphs/altitude/genus/altitude_per_genus-menor-var.html')\n",
    "temp"
   ]
  },
  {
   "cell_type": "markdown",
   "metadata": {},
   "source": [
    "<br>\n",
    "\n",
    "## Altitude per genus and species\n",
    "\n",
    "<font color='red' size='5'>**OBS:** Fazer código se necessário (replicar os gráficos acima trocando o eixo x)</font>"
   ]
  },
  {
   "cell_type": "code",
   "execution_count": 184,
   "metadata": {
    "ExecuteTime": {
     "end_time": "2020-07-12T16:31:14.898722Z",
     "start_time": "2020-07-12T16:31:14.863118Z"
    }
   },
   "outputs": [],
   "source": [
    "teste = NewTable[['altitude','genero_e_especie_atual','ordem']].copy()\n",
    "\n",
    "teste['altitude'] = teste['altitude'].str.extract('(\\d+)')\n",
    "\n",
    "# sorting\n",
    "teste = teste.sort_values(['altitude','genero_e_especie_atual'])"
   ]
  },
  {
   "cell_type": "code",
   "execution_count": 191,
   "metadata": {
    "ExecuteTime": {
     "end_time": "2020-07-12T16:39:14.323468Z",
     "start_time": "2020-07-12T16:39:14.303016Z"
    }
   },
   "outputs": [
    {
     "name": "stderr",
     "output_type": "stream",
     "text": [
      "<ipython-input-191-a9df679c8e38>:2: SettingWithCopyWarning: \n",
      "A value is trying to be set on a copy of a slice from a DataFrame.\n",
      "Try using .loc[row_indexer,col_indexer] = value instead\n",
      "\n",
      "See the caveats in the documentation: https://pandas.pydata.org/pandas-docs/stable/user_guide/indexing.html#returning-a-view-versus-a-copy\n",
      "  teste['altitude'] = teste['altitude'].astype(int)\n"
     ]
    }
   ],
   "source": [
    "teste = teste.dropna(subset=['altitude'])\n",
    "teste['altitude'] = teste['altitude'].astype(int)"
   ]
  },
  {
   "cell_type": "code",
   "execution_count": 194,
   "metadata": {
    "ExecuteTime": {
     "end_time": "2020-07-12T16:39:54.792747Z",
     "start_time": "2020-07-12T16:39:54.764625Z"
    },
    "scrolled": true
   },
   "outputs": [
    {
     "data": {
      "text/html": [
       "\n",
       "<div id=\"altair-viz-ff9ebcdab30246f59769a74665339409\"></div>\n",
       "<script type=\"text/javascript\">\n",
       "  (function(spec, embedOpt){\n",
       "    let outputDiv = document.currentScript.previousElementSibling;\n",
       "    if (outputDiv.id !== \"altair-viz-ff9ebcdab30246f59769a74665339409\") {\n",
       "      outputDiv = document.getElementById(\"altair-viz-ff9ebcdab30246f59769a74665339409\");\n",
       "    }\n",
       "    const paths = {\n",
       "      \"vega\": \"https://cdn.jsdelivr.net/npm//vega@5?noext\",\n",
       "      \"vega-lib\": \"https://cdn.jsdelivr.net/npm//vega-lib?noext\",\n",
       "      \"vega-lite\": \"https://cdn.jsdelivr.net/npm//vega-lite@4.8.1?noext\",\n",
       "      \"vega-embed\": \"https://cdn.jsdelivr.net/npm//vega-embed@6?noext\",\n",
       "    };\n",
       "\n",
       "    function loadScript(lib) {\n",
       "      return new Promise(function(resolve, reject) {\n",
       "        var s = document.createElement('script');\n",
       "        s.src = paths[lib];\n",
       "        s.async = true;\n",
       "        s.onload = () => resolve(paths[lib]);\n",
       "        s.onerror = () => reject(`Error loading script: ${paths[lib]}`);\n",
       "        document.getElementsByTagName(\"head\")[0].appendChild(s);\n",
       "      });\n",
       "    }\n",
       "\n",
       "    function showError(err) {\n",
       "      outputDiv.innerHTML = `<div class=\"error\" style=\"color:red;\">${err}</div>`;\n",
       "      throw err;\n",
       "    }\n",
       "\n",
       "    function displayChart(vegaEmbed) {\n",
       "      vegaEmbed(outputDiv, spec, embedOpt)\n",
       "        .catch(err => showError(`Javascript Error: ${err.message}<br>This usually means there's a typo in your chart specification. See the javascript console for the full traceback.`));\n",
       "    }\n",
       "\n",
       "    if(typeof define === \"function\" && define.amd) {\n",
       "      requirejs.config({paths});\n",
       "      require([\"vega-embed\"], displayChart, err => showError(`Error loading script: ${err.message}`));\n",
       "    } else if (typeof vegaEmbed === \"function\") {\n",
       "      displayChart(vegaEmbed);\n",
       "    } else {\n",
       "      loadScript(\"vega\")\n",
       "        .then(() => loadScript(\"vega-lite\"))\n",
       "        .then(() => loadScript(\"vega-embed\"))\n",
       "        .catch(showError)\n",
       "        .then(() => displayChart(vegaEmbed));\n",
       "    }\n",
       "  })({\"config\": {\"view\": {\"continuousWidth\": 400, \"continuousHeight\": 300}}, \"data\": {\"name\": \"data-a32bacdc1cfe10c4f264604b532397e7\"}, \"mark\": \"circle\", \"encoding\": {\"color\": {\"type\": \"nominal\", \"field\": \"ordem\", \"scale\": {\"domain\": [\"Squamata\", \"Testudines\", \"Crocodylia\", \"Caudata\"], \"range\": [\"#BF4417\", \"#D9CB0B\", \"#284021\", \"#BF8D7A\"]}}, \"tooltip\": [{\"type\": \"nominal\", \"field\": \"ordem\"}, {\"type\": \"nominal\", \"field\": \"genero_atual\"}, {\"type\": \"quantitative\", \"field\": \"altitude\"}], \"x\": {\"type\": \"nominal\", \"field\": \"genero_atual\", \"sort\": {\"field\": \"altitude\", \"op\": \"max\", \"order\": \"ascending\"}, \"title\": \"Genus (actual)\"}, \"y\": {\"type\": \"quantitative\", \"field\": \"altitude\", \"title\": \"Altitude (in meters)\"}}, \"title\": \"Altitude per genus\", \"width\": 900, \"$schema\": \"https://vega.github.io/schema/vega-lite/v4.8.1.json\", \"datasets\": {\"data-a32bacdc1cfe10c4f264604b532397e7\": [{\"altitude\": 0, \"genero_atual\": \"Hemidactylus\", \"ordem\": \"Squamata\"}, {\"altitude\": 0, \"genero_atual\": \"Philodryas\", \"ordem\": \"Squamata\"}, {\"altitude\": 1, \"genero_atual\": \"Hemidactylus\", \"ordem\": \"Squamata\"}, {\"altitude\": 1, \"genero_atual\": \"Tropidurus\", \"ordem\": \"Squamata\"}, {\"altitude\": 10, \"genero_atual\": \"Ecpleopus\", \"ordem\": \"Squamata\"}, {\"altitude\": 10, \"genero_atual\": \"Oxyrhopus\", \"ordem\": \"Squamata\"}, {\"altitude\": 100, \"genero_atual\": \"Iguana\", \"ordem\": \"Squamata\"}, {\"altitude\": 100, \"genero_atual\": \"Plica\", \"ordem\": \"Squamata\"}, {\"altitude\": 100, \"genero_atual\": \"Thecadactylus\", \"ordem\": \"Squamata\"}, {\"altitude\": 105, \"genero_atual\": \"Liophis\", \"ordem\": \"Squamata\"}, {\"altitude\": 105, \"genero_atual\": \"Micrurus\", \"ordem\": \"Squamata\"}, {\"altitude\": 1050, \"genero_atual\": \"Dipsas\", \"ordem\": \"Squamata\"}, {\"altitude\": 1050, \"genero_atual\": \"Tantilla\", \"ordem\": \"Squamata\"}, {\"altitude\": 1063, \"genero_atual\": \"Hydromedusa\", \"ordem\": \"Testudines\"}, {\"altitude\": 1069, \"genero_atual\": \"Hydromedusa\", \"ordem\": \"Testudines\"}, {\"altitude\": 1078, \"genero_atual\": \"Tropidurus\", \"ordem\": \"Squamata\"}, {\"altitude\": 108, \"genero_atual\": \"Liophis\", \"ordem\": \"Squamata\"}, {\"altitude\": 1086, \"genero_atual\": \"Enyalius\", \"ordem\": \"Squamata\"}, {\"altitude\": 109, \"genero_atual\": \"Philodryas\", \"ordem\": \"Squamata\"}, {\"altitude\": 109, \"genero_atual\": \"Xenodon\", \"ordem\": \"Squamata\"}, {\"altitude\": 1100, \"genero_atual\": \"Placosoma\", \"ordem\": \"Squamata\"}, {\"altitude\": 1130, \"genero_atual\": \"Enyalius\", \"ordem\": \"Squamata\"}, {\"altitude\": 1138, \"genero_atual\": \"Micrurus\", \"ordem\": \"Squamata\"}, {\"altitude\": 115, \"genero_atual\": \"Epicrates\", \"ordem\": \"Squamata\"}, {\"altitude\": 1150, \"genero_atual\": \"Thamnodynastes\", \"ordem\": \"Squamata\"}, {\"altitude\": 1179, \"genero_atual\": \"Atractus\", \"ordem\": \"Squamata\"}, {\"altitude\": 119, \"genero_atual\": \"Philodryas\", \"ordem\": \"Squamata\"}, {\"altitude\": 1198, \"genero_atual\": \"Xenodon\", \"ordem\": \"Squamata\"}, {\"altitude\": 1200, \"genero_atual\": \"Bothrops\", \"ordem\": \"Squamata\"}, {\"altitude\": 1200, \"genero_atual\": \"Bothrops\", \"ordem\": \"Squamata\"}, {\"altitude\": 1200, \"genero_atual\": \"Bothrops\", \"ordem\": \"Squamata\"}, {\"altitude\": 1200, \"genero_atual\": \"Bothrops\", \"ordem\": \"Squamata\"}, {\"altitude\": 1200, \"genero_atual\": \"Lygophis\", \"ordem\": \"Squamata\"}, {\"altitude\": 1210, \"genero_atual\": \"Echinanthera\", \"ordem\": \"Squamata\"}, {\"altitude\": 1233, \"genero_atual\": \"Tomodon\", \"ordem\": \"Squamata\"}, {\"altitude\": 1249, \"genero_atual\": \"Atractus\", \"ordem\": \"Squamata\"}, {\"altitude\": 126, \"genero_atual\": \"Bothrops\", \"ordem\": \"Squamata\"}, {\"altitude\": 1260, \"genero_atual\": \"Taeniophallus\", \"ordem\": \"Squamata\"}, {\"altitude\": 1274, \"genero_atual\": \"Xenodon\", \"ordem\": \"Squamata\"}, {\"altitude\": 128, \"genero_atual\": \"Gonatodes\", \"ordem\": \"Squamata\"}, {\"altitude\": 128, \"genero_atual\": \"Gonatodes\", \"ordem\": \"Squamata\"}, {\"altitude\": 128, \"genero_atual\": \"Mabuya\", \"ordem\": \"Squamata\"}, {\"altitude\": 128, \"genero_atual\": \"Micrablepharus\", \"ordem\": \"Squamata\"}, {\"altitude\": 128, \"genero_atual\": \"Micrablepharus\", \"ordem\": \"Squamata\"}, {\"altitude\": 128, \"genero_atual\": \"Micrablepharus\", \"ordem\": \"Squamata\"}, {\"altitude\": 128, \"genero_atual\": \"Notomabuya\", \"ordem\": \"Squamata\"}, {\"altitude\": 128, \"genero_atual\": \"Phyllopezus\", \"ordem\": \"Squamata\"}, {\"altitude\": 128, \"genero_atual\": \"Phyllopezus\", \"ordem\": \"Squamata\"}, {\"altitude\": 128, \"genero_atual\": \"Salvator\", \"ordem\": \"Squamata\"}, {\"altitude\": 128, \"genero_atual\": \"Tropidurus\", \"ordem\": \"Squamata\"}, {\"altitude\": 1280, \"genero_atual\": \"Enyalius\", \"ordem\": \"Squamata\"}, {\"altitude\": 1280, \"genero_atual\": \"Enyalius\", \"ordem\": \"Squamata\"}, {\"altitude\": 1284, \"genero_atual\": \"Micrurus\", \"ordem\": \"Squamata\"}, {\"altitude\": 1298, \"genero_atual\": \"Bothrops\", \"ordem\": \"Squamata\"}, {\"altitude\": 13, \"genero_atual\": \"Hemidactylus\", \"ordem\": \"Squamata\"}, {\"altitude\": 13, \"genero_atual\": \"Ophiodes\", \"ordem\": \"Squamata\"}, {\"altitude\": 13, \"genero_atual\": \"Oxyrhopus\", \"ordem\": \"Squamata\"}, {\"altitude\": 1300, \"genero_atual\": \"Atractus\", \"ordem\": \"Squamata\"}, {\"altitude\": 1300, \"genero_atual\": \"Bothrops\", \"ordem\": \"Squamata\"}, {\"altitude\": 1300, \"genero_atual\": \"Liophis\", \"ordem\": \"Squamata\"}, {\"altitude\": 1301, \"genero_atual\": \"Amphisbaena\", \"ordem\": \"Squamata\"}, {\"altitude\": 1301, \"genero_atual\": \"Ophiodes\", \"ordem\": \"Squamata\"}, {\"altitude\": 1302, \"genero_atual\": \"Tropidodryas\", \"ordem\": \"Squamata\"}, {\"altitude\": 1318, \"genero_atual\": \"Oxyrhopus\", \"ordem\": \"Squamata\"}, {\"altitude\": 1328, \"genero_atual\": \"Xenodon\", \"ordem\": \"Squamata\"}, {\"altitude\": 1344, \"genero_atual\": \"Micrurus\", \"ordem\": \"Squamata\"}, {\"altitude\": 135, \"genero_atual\": \"Salvator\", \"ordem\": \"Squamata\"}, {\"altitude\": 1355, \"genero_atual\": \"Echinanthera\", \"ordem\": \"Squamata\"}, {\"altitude\": 1367, \"genero_atual\": \"Taeniophallus\", \"ordem\": \"Squamata\"}, {\"altitude\": 14, \"genero_atual\": \"Amerotyphlops\", \"ordem\": \"Squamata\"}, {\"altitude\": 14, \"genero_atual\": \"Amerotyphlops\", \"ordem\": \"Squamata\"}, {\"altitude\": 14, \"genero_atual\": \"Amerotyphlops\", \"ordem\": \"Squamata\"}, {\"altitude\": 14, \"genero_atual\": \"Hemidactylus\", \"ordem\": \"Squamata\"}, {\"altitude\": 14, \"genero_atual\": \"Hemidactylus\", \"ordem\": \"Squamata\"}, {\"altitude\": 14, \"genero_atual\": \"Liophis\", \"ordem\": \"Squamata\"}, {\"altitude\": 14, \"genero_atual\": \"Psychosaura\", \"ordem\": \"Squamata\"}, {\"altitude\": 1400, \"genero_atual\": \"Bothrops\", \"ordem\": \"Squamata\"}, {\"altitude\": 1412, \"genero_atual\": \"Echinanthera\", \"ordem\": \"Squamata\"}, {\"altitude\": 142, \"genero_atual\": \"Pseudoboa\", \"ordem\": \"Squamata\"}, {\"altitude\": 1420, \"genero_atual\": \"Atractus\", \"ordem\": \"Squamata\"}, {\"altitude\": 1420, \"genero_atual\": \"Bothrops\", \"ordem\": \"Squamata\"}, {\"altitude\": 1421, \"genero_atual\": \"Bothrops\", \"ordem\": \"Squamata\"}, {\"altitude\": 1430, \"genero_atual\": \"Atractus\", \"ordem\": \"Squamata\"}, {\"altitude\": 144, \"genero_atual\": \"Crotalus\", \"ordem\": \"Squamata\"}, {\"altitude\": 1440, \"genero_atual\": \"Bothrops\", \"ordem\": \"Squamata\"}, {\"altitude\": 1469, \"genero_atual\": \"Taeniophallus\", \"ordem\": \"Squamata\"}, {\"altitude\": 1480, \"genero_atual\": \"Bothrops\", \"ordem\": \"Squamata\"}, {\"altitude\": 149, \"genero_atual\": \"Gonatodes\", \"ordem\": \"Squamata\"}, {\"altitude\": 149, \"genero_atual\": \"Rhinobothryum\", \"ordem\": \"Squamata\"}, {\"altitude\": 1490, \"genero_atual\": \"Atractus\", \"ordem\": \"Squamata\"}, {\"altitude\": 1498, \"genero_atual\": \"Bothrops\", \"ordem\": \"Squamata\"}, {\"altitude\": 1498, \"genero_atual\": \"Ophiodes\", \"ordem\": \"Squamata\"}, {\"altitude\": 1498, \"genero_atual\": \"Salvator\", \"ordem\": \"Squamata\"}, {\"altitude\": 15, \"genero_atual\": \"Amerotyphlops\", \"ordem\": \"Squamata\"}, {\"altitude\": 15, \"genero_atual\": \"Amerotyphlops\", \"ordem\": \"Squamata\"}, {\"altitude\": 15, \"genero_atual\": \"Amerotyphlops\", \"ordem\": \"Squamata\"}, {\"altitude\": 15, \"genero_atual\": \"Amerotyphlops\", \"ordem\": \"Squamata\"}, {\"altitude\": 15, \"genero_atual\": \"Amerotyphlops\", \"ordem\": \"Squamata\"}, {\"altitude\": 15, \"genero_atual\": \"Glaucomastix\", \"ordem\": \"Squamata\"}, {\"altitude\": 15, \"genero_atual\": \"Glaucomastix\", \"ordem\": \"Squamata\"}, {\"altitude\": 15, \"genero_atual\": \"Tropidurus\", \"ordem\": \"Squamata\"}, {\"altitude\": 15, \"genero_atual\": \"Tropidurus\", \"ordem\": \"Squamata\"}, {\"altitude\": 15, \"genero_atual\": \"Tropidurus\", \"ordem\": \"Squamata\"}, {\"altitude\": 15, \"genero_atual\": \"Tropidurus\", \"ordem\": \"Squamata\"}, {\"altitude\": 15, \"genero_atual\": \"Tropidurus\", \"ordem\": \"Squamata\"}, {\"altitude\": 15, \"genero_atual\": \"Tropidurus\", \"ordem\": \"Squamata\"}, {\"altitude\": 150, \"genero_atual\": \"Amphisbaena\", \"ordem\": \"Squamata\"}, {\"altitude\": 150, \"genero_atual\": \"Bothrops\", \"ordem\": \"Squamata\"}, {\"altitude\": 150, \"genero_atual\": \"Gymnodactylus\", \"ordem\": \"Squamata\"}, {\"altitude\": 1500, \"genero_atual\": \"Atractus\", \"ordem\": \"Squamata\"}, {\"altitude\": 1500, \"genero_atual\": \"Chironius\", \"ordem\": \"Squamata\"}, {\"altitude\": 1500, \"genero_atual\": \"Mabuya\", \"ordem\": \"Squamata\"}, {\"altitude\": 1511, \"genero_atual\": \"Oxyrhopus\", \"ordem\": \"Squamata\"}, {\"altitude\": 1527, \"genero_atual\": \"Xenodon\", \"ordem\": \"Squamata\"}, {\"altitude\": 159, \"genero_atual\": \"Hemidactylus\", \"ordem\": \"Squamata\"}, {\"altitude\": 16, \"genero_atual\": \"Amerotyphlops\", \"ordem\": \"Squamata\"}, {\"altitude\": 16, \"genero_atual\": \"Amerotyphlops\", \"ordem\": \"Squamata\"}, {\"altitude\": 16, \"genero_atual\": \"Amerotyphlops\", \"ordem\": \"Squamata\"}, {\"altitude\": 16, \"genero_atual\": \"Ecpleopus\", \"ordem\": \"Squamata\"}, {\"altitude\": 16, \"genero_atual\": \"Glaucomastix\", \"ordem\": \"Squamata\"}, {\"altitude\": 16, \"genero_atual\": \"Gymnodactylus\", \"ordem\": \"Squamata\"}, {\"altitude\": 16, \"genero_atual\": \"Gymnodactylus\", \"ordem\": \"Squamata\"}, {\"altitude\": 16, \"genero_atual\": \"Gymnodactylus\", \"ordem\": \"Squamata\"}, {\"altitude\": 16, \"genero_atual\": \"Gymnodactylus\", \"ordem\": \"Squamata\"}, {\"altitude\": 16, \"genero_atual\": \"Hemidactylus\", \"ordem\": \"Squamata\"}, {\"altitude\": 16, \"genero_atual\": \"Hemidactylus\", \"ordem\": \"Squamata\"}, {\"altitude\": 16, \"genero_atual\": \"Psychosaura\", \"ordem\": \"Squamata\"}, {\"altitude\": 16, \"genero_atual\": \"Tropidurus\", \"ordem\": \"Squamata\"}, {\"altitude\": 16, \"genero_atual\": \"Tropidurus\", \"ordem\": \"Squamata\"}, {\"altitude\": 16, \"genero_atual\": \"Tropidurus\", \"ordem\": \"Squamata\"}, {\"altitude\": 16, \"genero_atual\": \"Tropidurus\", \"ordem\": \"Squamata\"}, {\"altitude\": 169, \"genero_atual\": \"Boa\", \"ordem\": \"Squamata\"}, {\"altitude\": 169, \"genero_atual\": \"Corallus\", \"ordem\": \"Squamata\"}, {\"altitude\": 17, \"genero_atual\": \"Bothrops\", \"ordem\": \"Squamata\"}, {\"altitude\": 17, \"genero_atual\": \"Ophiodes\", \"ordem\": \"Squamata\"}, {\"altitude\": 170, \"genero_atual\": \"Atractus\", \"ordem\": \"Squamata\"}, {\"altitude\": 1700, \"genero_atual\": \"Urostrophus\", \"ordem\": \"Squamata\"}, {\"altitude\": 1740, \"genero_atual\": \"Anisolepis\", \"ordem\": \"Squamata\"}, {\"altitude\": 175, \"genero_atual\": \"Liophis\", \"ordem\": \"Squamata\"}, {\"altitude\": 175, \"genero_atual\": \"Liophis\", \"ordem\": \"Squamata\"}, {\"altitude\": 175, \"genero_atual\": \"Mabuya\", \"ordem\": \"Squamata\"}, {\"altitude\": 175, \"genero_atual\": \"Philodryas\", \"ordem\": \"Squamata\"}, {\"altitude\": 175, \"genero_atual\": \"Phyllopezus\", \"ordem\": \"Squamata\"}, {\"altitude\": 175, \"genero_atual\": \"Phyllopezus\", \"ordem\": \"Squamata\"}, {\"altitude\": 175, \"genero_atual\": \"Phyllopezus\", \"ordem\": \"Squamata\"}, {\"altitude\": 175, \"genero_atual\": \"Taeniophallus\", \"ordem\": \"Squamata\"}, {\"altitude\": 175, \"genero_atual\": \"Tropidurus\", \"ordem\": \"Squamata\"}, {\"altitude\": 178, \"genero_atual\": \"Hemidactylus\", \"ordem\": \"Squamata\"}, {\"altitude\": 178, \"genero_atual\": \"Hemidactylus\", \"ordem\": \"Squamata\"}, {\"altitude\": 178, \"genero_atual\": \"Hemidactylus\", \"ordem\": \"Squamata\"}, {\"altitude\": 178, \"genero_atual\": \"Tropidurus\", \"ordem\": \"Squamata\"}, {\"altitude\": 18, \"genero_atual\": \"Ecpleopus\", \"ordem\": \"Squamata\"}, {\"altitude\": 18, \"genero_atual\": \"Ecpleopus\", \"ordem\": \"Squamata\"}, {\"altitude\": 18, \"genero_atual\": \"Ecpleopus\", \"ordem\": \"Squamata\"}, {\"altitude\": 18, \"genero_atual\": \"Ecpleopus\", \"ordem\": \"Squamata\"}, {\"altitude\": 18, \"genero_atual\": \"Ecpleopus\", \"ordem\": \"Squamata\"}, {\"altitude\": 18, \"genero_atual\": \"Ecpleopus\", \"ordem\": \"Squamata\"}, {\"altitude\": 18, \"genero_atual\": \"Gymnodactylus\", \"ordem\": \"Squamata\"}, {\"altitude\": 18, \"genero_atual\": \"Gymnodactylus\", \"ordem\": \"Squamata\"}, {\"altitude\": 18, \"genero_atual\": \"Gymnodactylus\", \"ordem\": \"Squamata\"}, {\"altitude\": 18, \"genero_atual\": \"Leptophis\", \"ordem\": \"Squamata\"}, {\"altitude\": 18, \"genero_atual\": \"Liophis\", \"ordem\": \"Squamata\"}, {\"altitude\": 18, \"genero_atual\": \"Oxyrhopus\", \"ordem\": \"Squamata\"}, {\"altitude\": 18, \"genero_atual\": \"Oxyrhopus\", \"ordem\": \"Squamata\"}, {\"altitude\": 18, \"genero_atual\": \"Oxyrhopus\", \"ordem\": \"Squamata\"}, {\"altitude\": 180, \"genero_atual\": \"Hemidactylus\", \"ordem\": \"Squamata\"}, {\"altitude\": 180, \"genero_atual\": \"Leposternon\", \"ordem\": \"Squamata\"}, {\"altitude\": 180, \"genero_atual\": \"Oxyrhopus\", \"ordem\": \"Squamata\"}, {\"altitude\": 180, \"genero_atual\": \"Pseudoboa\", \"ordem\": \"Squamata\"}, {\"altitude\": 1802, \"genero_atual\": \"Atractus\", \"ordem\": \"Squamata\"}, {\"altitude\": 1850, \"genero_atual\": \"Mabuya\", \"ordem\": \"Squamata\"}, {\"altitude\": 19, \"genero_atual\": \"Amerotyphlops\", \"ordem\": \"Squamata\"}, {\"altitude\": 19, \"genero_atual\": \"Amerotyphlops\", \"ordem\": \"Squamata\"}, {\"altitude\": 19, \"genero_atual\": \"Amerotyphlops\", \"ordem\": \"Squamata\"}, {\"altitude\": 19, \"genero_atual\": \"Amerotyphlops\", \"ordem\": \"Squamata\"}, {\"altitude\": 19, \"genero_atual\": \"Amerotyphlops\", \"ordem\": \"Squamata\"}, {\"altitude\": 19, \"genero_atual\": \"Amphisbaena\", \"ordem\": \"Squamata\"}, {\"altitude\": 19, \"genero_atual\": \"Bothrops\", \"ordem\": \"Squamata\"}, {\"altitude\": 19, \"genero_atual\": \"Brasiliscincus\", \"ordem\": \"Squamata\"}, {\"altitude\": 19, \"genero_atual\": \"Brasiliscincus\", \"ordem\": \"Squamata\"}, {\"altitude\": 19, \"genero_atual\": \"Brasiliscincus\", \"ordem\": \"Squamata\"}, {\"altitude\": 19, \"genero_atual\": \"Glaucomastix\", \"ordem\": \"Squamata\"}, {\"altitude\": 19, \"genero_atual\": \"Glaucomastix\", \"ordem\": \"Squamata\"}, {\"altitude\": 19, \"genero_atual\": \"Gymnodactylus\", \"ordem\": \"Squamata\"}, {\"altitude\": 19, \"genero_atual\": \"Gymnodactylus\", \"ordem\": \"Squamata\"}, {\"altitude\": 19, \"genero_atual\": \"Gymnodactylus\", \"ordem\": \"Squamata\"}, {\"altitude\": 19, \"genero_atual\": \"Gymnodactylus\", \"ordem\": \"Squamata\"}, {\"altitude\": 19, \"genero_atual\": \"Psychosaura\", \"ordem\": \"Squamata\"}, {\"altitude\": 19, \"genero_atual\": \"Psychosaura\", \"ordem\": \"Squamata\"}, {\"altitude\": 19, \"genero_atual\": \"Psychosaura\", \"ordem\": \"Squamata\"}, {\"altitude\": 19, \"genero_atual\": \"Psychosaura\", \"ordem\": \"Squamata\"}, {\"altitude\": 19, \"genero_atual\": \"Psychosaura\", \"ordem\": \"Squamata\"}, {\"altitude\": 19, \"genero_atual\": \"Psychosaura\", \"ordem\": \"Squamata\"}, {\"altitude\": 19, \"genero_atual\": \"Salvator\", \"ordem\": \"Squamata\"}, {\"altitude\": 195, \"genero_atual\": \"Oxyrhopus\", \"ordem\": \"Squamata\"}, {\"altitude\": 195, \"genero_atual\": \"Pseudoboa\", \"ordem\": \"Squamata\"}, {\"altitude\": 20, \"genero_atual\": \"Helicops\", \"ordem\": \"Squamata\"}, {\"altitude\": 200, \"genero_atual\": \"Atractus\", \"ordem\": \"Squamata\"}, {\"altitude\": 200, \"genero_atual\": \"Chironius\", \"ordem\": \"Squamata\"}, {\"altitude\": 200, \"genero_atual\": \"Drymarchon\", \"ordem\": \"Squamata\"}, {\"altitude\": 200, \"genero_atual\": \"Gymnodactylus\", \"ordem\": \"Squamata\"}, {\"altitude\": 200, \"genero_atual\": \"Liophis\", \"ordem\": \"Squamata\"}, {\"altitude\": 2070, \"genero_atual\": \"Atractus\", \"ordem\": \"Squamata\"}, {\"altitude\": 2100, \"genero_atual\": \"Atractus\", \"ordem\": \"Squamata\"}, {\"altitude\": 2100, \"genero_atual\": \"Panopa\", \"ordem\": \"Squamata\"}, {\"altitude\": 2100, \"genero_atual\": \"Sibon\", \"ordem\": \"Squamata\"}, {\"altitude\": 2100, \"genero_atual\": \"Thamnodynastes\", \"ordem\": \"Squamata\"}, {\"altitude\": 2130, \"genero_atual\": \"Atractus\", \"ordem\": \"Squamata\"}, {\"altitude\": 2134, \"genero_atual\": \"Atractus\", \"ordem\": \"Squamata\"}, {\"altitude\": 218, \"genero_atual\": \"Epictia\", \"ordem\": \"Squamata\"}, {\"altitude\": 219, \"genero_atual\": \"Elapomorphus\", \"ordem\": \"Squamata\"}, {\"altitude\": 22, \"genero_atual\": \"Helicops\", \"ordem\": \"Squamata\"}, {\"altitude\": 22, \"genero_atual\": \"Helicops\", \"ordem\": \"Squamata\"}, {\"altitude\": 22, \"genero_atual\": \"Hemidactylus\", \"ordem\": \"Squamata\"}, {\"altitude\": 22, \"genero_atual\": \"Mabuya\", \"ordem\": \"Squamata\"}, {\"altitude\": 22, \"genero_atual\": \"Mesoclemmys\", \"ordem\": \"Testudines\"}, {\"altitude\": 22, \"genero_atual\": \"Mesoclemmys\", \"ordem\": \"Testudines\"}, {\"altitude\": 22, \"genero_atual\": \"Mesoclemmys\", \"ordem\": \"Testudines\"}, {\"altitude\": 22, \"genero_atual\": \"Mesoclemmys\", \"ordem\": \"Testudines\"}, {\"altitude\": 22, \"genero_atual\": \"Sibynomorphus\", \"ordem\": \"Squamata\"}, {\"altitude\": 22, \"genero_atual\": \"Tropidurus\", \"ordem\": \"Squamata\"}, {\"altitude\": 2200, \"genero_atual\": \"Atractus\", \"ordem\": \"Squamata\"}, {\"altitude\": 222, \"genero_atual\": \"Polychrus\", \"ordem\": \"Squamata\"}, {\"altitude\": 2237, \"genero_atual\": \"Liophis\", \"ordem\": \"Squamata\"}, {\"altitude\": 227, \"genero_atual\": \"Tropidurus\", \"ordem\": \"Squamata\"}, {\"altitude\": 227, \"genero_atual\": \"Tropidurus\", \"ordem\": \"Squamata\"}, {\"altitude\": 227, \"genero_atual\": \"Tropidurus\", \"ordem\": \"Squamata\"}, {\"altitude\": 227, \"genero_atual\": \"Tropidurus\", \"ordem\": \"Squamata\"}, {\"altitude\": 230, \"genero_atual\": \"Echinanthera\", \"ordem\": \"Squamata\"}, {\"altitude\": 235, \"genero_atual\": \"Corallus\", \"ordem\": \"Squamata\"}, {\"altitude\": 2387, \"genero_atual\": \"Heterodactylus\", \"ordem\": \"Squamata\"}, {\"altitude\": 2396, \"genero_atual\": \"Heterodactylus\", \"ordem\": \"Squamata\"}, {\"altitude\": 24, \"genero_atual\": \"Amerotyphlops\", \"ordem\": \"Squamata\"}, {\"altitude\": 24, \"genero_atual\": \"Bothrops\", \"ordem\": \"Squamata\"}, {\"altitude\": 24, \"genero_atual\": \"Glaucomastix\", \"ordem\": \"Squamata\"}, {\"altitude\": 24, \"genero_atual\": \"Glaucomastix\", \"ordem\": \"Squamata\"}, {\"altitude\": 24, \"genero_atual\": \"Glaucomastix\", \"ordem\": \"Squamata\"}, {\"altitude\": 24, \"genero_atual\": \"Glaucomastix\", \"ordem\": \"Squamata\"}, {\"altitude\": 24, \"genero_atual\": \"Gymnodactylus\", \"ordem\": \"Squamata\"}, {\"altitude\": 24, \"genero_atual\": \"Gymnodactylus\", \"ordem\": \"Squamata\"}, {\"altitude\": 24, \"genero_atual\": \"Gymnodactylus\", \"ordem\": \"Squamata\"}, {\"altitude\": 24, \"genero_atual\": \"Gymnodactylus\", \"ordem\": \"Squamata\"}, {\"altitude\": 24, \"genero_atual\": \"Hemidactylus\", \"ordem\": \"Squamata\"}, {\"altitude\": 24, \"genero_atual\": \"Liophis\", \"ordem\": \"Squamata\"}, {\"altitude\": 24, \"genero_atual\": \"Oxyrhopus\", \"ordem\": \"Squamata\"}, {\"altitude\": 24, \"genero_atual\": \"Tropidurus\", \"ordem\": \"Squamata\"}, {\"altitude\": 2400, \"genero_atual\": \"Colobodactylus\", \"ordem\": \"Squamata\"}, {\"altitude\": 2400, \"genero_atual\": \"Colobodactylus\", \"ordem\": \"Squamata\"}, {\"altitude\": 2400, \"genero_atual\": \"Colobodactylus\", \"ordem\": \"Squamata\"}, {\"altitude\": 2400, \"genero_atual\": \"Colobodactylus\", \"ordem\": \"Squamata\"}, {\"altitude\": 2400, \"genero_atual\": \"Colobodactylus\", \"ordem\": \"Squamata\"}, {\"altitude\": 2400, \"genero_atual\": \"Colobodactylus\", \"ordem\": \"Squamata\"}, {\"altitude\": 2400, \"genero_atual\": \"Colobodactylus\", \"ordem\": \"Squamata\"}, {\"altitude\": 2400, \"genero_atual\": \"Heterodactylus\", \"ordem\": \"Squamata\"}, {\"altitude\": 2400, \"genero_atual\": \"Mabuya\", \"ordem\": \"Squamata\"}, {\"altitude\": 2400, \"genero_atual\": \"Thamnodynastes\", \"ordem\": \"Squamata\"}, {\"altitude\": 242, \"genero_atual\": \"Philodryas\", \"ordem\": \"Squamata\"}, {\"altitude\": 242, \"genero_atual\": \"Tropidurus\", \"ordem\": \"Squamata\"}, {\"altitude\": 245, \"genero_atual\": \"Amphisbaena\", \"ordem\": \"Squamata\"}, {\"altitude\": 245, \"genero_atual\": \"Gonatodes\", \"ordem\": \"Squamata\"}, {\"altitude\": 245, \"genero_atual\": \"Mabuya\", \"ordem\": \"Squamata\"}, {\"altitude\": 245, \"genero_atual\": \"Stenocercus\", \"ordem\": \"Squamata\"}, {\"altitude\": 25, \"genero_atual\": \"Amerotyphlops\", \"ordem\": \"Squamata\"}, {\"altitude\": 25, \"genero_atual\": \"Ecpleopus\", \"ordem\": \"Squamata\"}, {\"altitude\": 25, \"genero_atual\": \"Ecpleopus\", \"ordem\": \"Squamata\"}, {\"altitude\": 25, \"genero_atual\": \"Ecpleopus\", \"ordem\": \"Squamata\"}, {\"altitude\": 25, \"genero_atual\": \"Gymnodactylus\", \"ordem\": \"Squamata\"}, {\"altitude\": 25, \"genero_atual\": \"Gymnodactylus\", \"ordem\": \"Squamata\"}, {\"altitude\": 25, \"genero_atual\": \"Gymnodactylus\", \"ordem\": \"Squamata\"}, {\"altitude\": 25, \"genero_atual\": \"Gymnodactylus\", \"ordem\": \"Squamata\"}, {\"altitude\": 25, \"genero_atual\": \"Gymnodactylus\", \"ordem\": \"Squamata\"}, {\"altitude\": 25, \"genero_atual\": \"Gymnodactylus\", \"ordem\": \"Squamata\"}, {\"altitude\": 25, \"genero_atual\": \"Gymnodactylus\", \"ordem\": \"Squamata\"}, {\"altitude\": 25, \"genero_atual\": \"Oxyrhopus\", \"ordem\": \"Squamata\"}, {\"altitude\": 250, \"genero_atual\": \"Tantilla\", \"ordem\": \"Squamata\"}, {\"altitude\": 2500, \"genero_atual\": \"Cercosaura\", \"ordem\": \"Squamata\"}, {\"altitude\": 26, \"genero_atual\": \"Liophis\", \"ordem\": \"Squamata\"}, {\"altitude\": 26, \"genero_atual\": \"Liophis\", \"ordem\": \"Squamata\"}, {\"altitude\": 26, \"genero_atual\": \"Liophis\", \"ordem\": \"Squamata\"}, {\"altitude\": 2638, \"genero_atual\": \"Atractus\", \"ordem\": \"Squamata\"}, {\"altitude\": 265, \"genero_atual\": \"Atractus\", \"ordem\": \"Squamata\"}, {\"altitude\": 27, \"genero_atual\": \"Amerotyphlops\", \"ordem\": \"Squamata\"}, {\"altitude\": 27, \"genero_atual\": \"Gymnodactylus\", \"ordem\": \"Squamata\"}, {\"altitude\": 271, \"genero_atual\": \"Phrynops\", \"ordem\": \"Testudines\"}, {\"altitude\": 2777, \"genero_atual\": \"Tropidophis\", \"ordem\": \"Squamata\"}, {\"altitude\": 28, \"genero_atual\": \"Amerotyphlops\", \"ordem\": \"Squamata\"}, {\"altitude\": 28, \"genero_atual\": \"Ecpleopus\", \"ordem\": \"Squamata\"}, {\"altitude\": 28, \"genero_atual\": \"Ecpleopus\", \"ordem\": \"Squamata\"}, {\"altitude\": 28, \"genero_atual\": \"Hemidactylus\", \"ordem\": \"Squamata\"}, {\"altitude\": 280, \"genero_atual\": \"Salvator\", \"ordem\": \"Squamata\"}, {\"altitude\": 280, \"genero_atual\": \"Salvator\", \"ordem\": \"Squamata\"}, {\"altitude\": 2800, \"genero_atual\": \"Diploglossus\", \"ordem\": \"Squamata\"}, {\"altitude\": 3, \"genero_atual\": \"Ameiva\", \"ordem\": \"Squamata\"}, {\"altitude\": 3, \"genero_atual\": \"Ecpleopus\", \"ordem\": \"Squamata\"}, {\"altitude\": 3, \"genero_atual\": \"Gymnodactylus\", \"ordem\": \"Squamata\"}, {\"altitude\": 3, \"genero_atual\": \"Hemidactylus\", \"ordem\": \"Squamata\"}, {\"altitude\": 3, \"genero_atual\": \"Psychosaura\", \"ordem\": \"Squamata\"}, {\"altitude\": 3, \"genero_atual\": \"Salvator\", \"ordem\": \"Squamata\"}, {\"altitude\": 30, \"genero_atual\": \"Atractus\", \"ordem\": \"Squamata\"}, {\"altitude\": 30, \"genero_atual\": \"Philodryas\", \"ordem\": \"Squamata\"}, {\"altitude\": 30, \"genero_atual\": \"Tropidurus\", \"ordem\": \"Squamata\"}, {\"altitude\": 300, \"genero_atual\": \"Amphisbaena\", \"ordem\": \"Squamata\"}, {\"altitude\": 300, \"genero_atual\": \"Anolis\", \"ordem\": \"Squamata\"}, {\"altitude\": 300, \"genero_atual\": \"Erythrolamprus\", \"ordem\": \"Squamata\"}, {\"altitude\": 316, \"genero_atual\": \"Sibynomorphus\", \"ordem\": \"Squamata\"}, {\"altitude\": 32, \"genero_atual\": \"Gymnodactylus\", \"ordem\": \"Squamata\"}, {\"altitude\": 32, \"genero_atual\": \"Salvator\", \"ordem\": \"Squamata\"}, {\"altitude\": 320, \"genero_atual\": \"Bothrops\", \"ordem\": \"Squamata\"}, {\"altitude\": 320, \"genero_atual\": \"Tantilla\", \"ordem\": \"Squamata\"}, {\"altitude\": 33, \"genero_atual\": \"Ecpleopus\", \"ordem\": \"Squamata\"}, {\"altitude\": 33, \"genero_atual\": \"Ecpleopus\", \"ordem\": \"Squamata\"}, {\"altitude\": 33, \"genero_atual\": \"Ecpleopus\", \"ordem\": \"Squamata\"}, {\"altitude\": 33, \"genero_atual\": \"Ecpleopus\", \"ordem\": \"Squamata\"}, {\"altitude\": 33, \"genero_atual\": \"Ecpleopus\", \"ordem\": \"Squamata\"}, {\"altitude\": 33, \"genero_atual\": \"Ecpleopus\", \"ordem\": \"Squamata\"}, {\"altitude\": 33, \"genero_atual\": \"Gymnodactylus\", \"ordem\": \"Squamata\"}, {\"altitude\": 33, \"genero_atual\": \"Gymnodactylus\", \"ordem\": \"Squamata\"}, {\"altitude\": 33, \"genero_atual\": \"Hemidactylus\", \"ordem\": \"Squamata\"}, {\"altitude\": 33, \"genero_atual\": \"Liophis\", \"ordem\": \"Squamata\"}, {\"altitude\": 33, \"genero_atual\": \"Mabuya\", \"ordem\": \"Squamata\"}, {\"altitude\": 33, \"genero_atual\": \"Oxyrhopus\", \"ordem\": \"Squamata\"}, {\"altitude\": 330, \"genero_atual\": \"Oxyrhopus\", \"ordem\": \"Squamata\"}, {\"altitude\": 336, \"genero_atual\": \"Tropidurus\", \"ordem\": \"Squamata\"}, {\"altitude\": 337, \"genero_atual\": \"Hemidactylus\", \"ordem\": \"Squamata\"}, {\"altitude\": 337, \"genero_atual\": \"Tropidurus\", \"ordem\": \"Squamata\"}, {\"altitude\": 337, \"genero_atual\": \"Tropidurus\", \"ordem\": \"Squamata\"}, {\"altitude\": 345, \"genero_atual\": \"Chironius\", \"ordem\": \"Squamata\"}, {\"altitude\": 347, \"genero_atual\": \"Liophis\", \"ordem\": \"Squamata\"}, {\"altitude\": 347, \"genero_atual\": \"Xenodon\", \"ordem\": \"Squamata\"}, {\"altitude\": 35, \"genero_atual\": \"Chironius\", \"ordem\": \"Squamata\"}, {\"altitude\": 35, \"genero_atual\": \"Enyalius\", \"ordem\": \"Squamata\"}, {\"altitude\": 35, \"genero_atual\": \"Enyalius\", \"ordem\": \"Squamata\"}, {\"altitude\": 35, \"genero_atual\": \"Gymnodactylus\", \"ordem\": \"Squamata\"}, {\"altitude\": 350, \"genero_atual\": \"Xenodon\", \"ordem\": \"Squamata\"}, {\"altitude\": 357, \"genero_atual\": \"Salvator\", \"ordem\": \"Squamata\"}, {\"altitude\": 359, \"genero_atual\": \"Ophiodes\", \"ordem\": \"Squamata\"}, {\"altitude\": 36, \"genero_atual\": \"Bothrops\", \"ordem\": \"Squamata\"}, {\"altitude\": 36, \"genero_atual\": \"Chironius\", \"ordem\": \"Squamata\"}, {\"altitude\": 36, \"genero_atual\": \"Chironius\", \"ordem\": \"Squamata\"}, {\"altitude\": 36, \"genero_atual\": \"Liophis\", \"ordem\": \"Squamata\"}, {\"altitude\": 36, \"genero_atual\": \"Liophis\", \"ordem\": \"Squamata\"}, {\"altitude\": 36, \"genero_atual\": \"Liophis\", \"ordem\": \"Squamata\"}, {\"altitude\": 36, \"genero_atual\": \"Micrurus\", \"ordem\": \"Squamata\"}, {\"altitude\": 36, \"genero_atual\": \"Oxyrhopus\", \"ordem\": \"Squamata\"}, {\"altitude\": 36, \"genero_atual\": \"Xenodon\", \"ordem\": \"Squamata\"}, {\"altitude\": 360, \"genero_atual\": \"Oxyrhopus\", \"ordem\": \"Squamata\"}, {\"altitude\": 363, \"genero_atual\": \"Sibynomorphus\", \"ordem\": \"Squamata\"}, {\"altitude\": 370, \"genero_atual\": \"Sibynomorphus\", \"ordem\": \"Squamata\"}, {\"altitude\": 371, \"genero_atual\": \"Bothrops\", \"ordem\": \"Squamata\"}, {\"altitude\": 378, \"genero_atual\": \"Bothrops\", \"ordem\": \"Squamata\"}, {\"altitude\": 378, \"genero_atual\": \"Ophiodes\", \"ordem\": \"Squamata\"}, {\"altitude\": 38, \"genero_atual\": \"Gymnodactylus\", \"ordem\": \"Squamata\"}, {\"altitude\": 386, \"genero_atual\": \"Liophis\", \"ordem\": \"Squamata\"}, {\"altitude\": 386, \"genero_atual\": \"Sibynomorphus\", \"ordem\": \"Squamata\"}, {\"altitude\": 4, \"genero_atual\": \"Psychosaura\", \"ordem\": \"Squamata\"}, {\"altitude\": 400, \"genero_atual\": \"Corallus\", \"ordem\": \"Squamata\"}, {\"altitude\": 400, \"genero_atual\": \"Enyalius\", \"ordem\": \"Squamata\"}, {\"altitude\": 403, \"genero_atual\": \"Liophis\", \"ordem\": \"Squamata\"}, {\"altitude\": 409, \"genero_atual\": \"Oxyrhopus\", \"ordem\": \"Squamata\"}, {\"altitude\": 412, \"genero_atual\": \"Oxyrhopus\", \"ordem\": \"Squamata\"}, {\"altitude\": 426, \"genero_atual\": \"Elapomorphus\", \"ordem\": \"Squamata\"}, {\"altitude\": 428, \"genero_atual\": \"Chironius\", \"ordem\": \"Squamata\"}, {\"altitude\": 428, \"genero_atual\": \"Hemidactylus\", \"ordem\": \"Squamata\"}, {\"altitude\": 428, \"genero_atual\": \"Hemidactylus\", \"ordem\": \"Squamata\"}, {\"altitude\": 428, \"genero_atual\": \"Hemidactylus\", \"ordem\": \"Squamata\"}, {\"altitude\": 428, \"genero_atual\": \"Hemidactylus\", \"ordem\": \"Squamata\"}, {\"altitude\": 440, \"genero_atual\": \"Chironius\", \"ordem\": \"Squamata\"}, {\"altitude\": 442, \"genero_atual\": \"Enyalius\", \"ordem\": \"Squamata\"}, {\"altitude\": 442, \"genero_atual\": \"Gymnodactylus\", \"ordem\": \"Squamata\"}, {\"altitude\": 448, \"genero_atual\": \"Echinanthera\", \"ordem\": \"Squamata\"}, {\"altitude\": 450, \"genero_atual\": \"Bothrops\", \"ordem\": \"Squamata\"}, {\"altitude\": 450, \"genero_atual\": \"Tropidurus\", \"ordem\": \"Squamata\"}, {\"altitude\": 450, \"genero_atual\": \"Tropidurus\", \"ordem\": \"Squamata\"}, {\"altitude\": 454, \"genero_atual\": \"Ophiodes\", \"ordem\": \"Squamata\"}, {\"altitude\": 457, \"genero_atual\": \"Tropidurus\", \"ordem\": \"Squamata\"}, {\"altitude\": 457, \"genero_atual\": \"Tropidurus\", \"ordem\": \"Squamata\"}, {\"altitude\": 5, \"genero_atual\": \"Hemidactylus\", \"ordem\": \"Squamata\"}, {\"altitude\": 5, \"genero_atual\": \"Hemidactylus\", \"ordem\": \"Squamata\"}, {\"altitude\": 5, \"genero_atual\": \"Liophis\", \"ordem\": \"Squamata\"}, {\"altitude\": 5, \"genero_atual\": \"Pseudoboa\", \"ordem\": \"Squamata\"}, {\"altitude\": 5, \"genero_atual\": \"Tropidurus\", \"ordem\": \"Squamata\"}, {\"altitude\": 519, \"genero_atual\": \"Tantilla\", \"ordem\": \"Squamata\"}, {\"altitude\": 519, \"genero_atual\": \"Tantilla\", \"ordem\": \"Squamata\"}, {\"altitude\": 522, \"genero_atual\": \"Hemidactylus\", \"ordem\": \"Squamata\"}, {\"altitude\": 525, \"genero_atual\": \"Ophiodes\", \"ordem\": \"Squamata\"}, {\"altitude\": 529, \"genero_atual\": \"Ophiodes\", \"ordem\": \"Squamata\"}, {\"altitude\": 53, \"genero_atual\": \"Micrurus\", \"ordem\": \"Squamata\"}, {\"altitude\": 530, \"genero_atual\": \"Taeniophallus\", \"ordem\": \"Squamata\"}, {\"altitude\": 540, \"genero_atual\": \"Xenodon\", \"ordem\": \"Squamata\"}, {\"altitude\": 544, \"genero_atual\": \"Bothrops\", \"ordem\": \"Squamata\"}, {\"altitude\": 544, \"genero_atual\": \"Bothrops\", \"ordem\": \"Squamata\"}, {\"altitude\": 547, \"genero_atual\": \"Bothrops\", \"ordem\": \"Squamata\"}, {\"altitude\": 558, \"genero_atual\": \"Helicops\", \"ordem\": \"Squamata\"}, {\"altitude\": 558, \"genero_atual\": \"Helicops\", \"ordem\": \"Squamata\"}, {\"altitude\": 558, \"genero_atual\": \"Helicops\", \"ordem\": \"Squamata\"}, {\"altitude\": 558, \"genero_atual\": \"Helicops\", \"ordem\": \"Squamata\"}, {\"altitude\": 558, \"genero_atual\": \"Helicops\", \"ordem\": \"Squamata\"}, {\"altitude\": 558, \"genero_atual\": \"Helicops\", \"ordem\": \"Squamata\"}, {\"altitude\": 558, \"genero_atual\": \"Polychrus\", \"ordem\": \"Squamata\"}, {\"altitude\": 558, \"genero_atual\": \"Sibynomorphus\", \"ordem\": \"Squamata\"}, {\"altitude\": 568, \"genero_atual\": \"Polychrus\", \"ordem\": \"Squamata\"}, {\"altitude\": 568, \"genero_atual\": \"Polychrus\", \"ordem\": \"Squamata\"}, {\"altitude\": 585, \"genero_atual\": \"Boa\", \"ordem\": \"Squamata\"}, {\"altitude\": 585, \"genero_atual\": \"Crotalus\", \"ordem\": \"Squamata\"}, {\"altitude\": 585, \"genero_atual\": \"Liophis\", \"ordem\": \"Squamata\"}, {\"altitude\": 585, \"genero_atual\": \"Liophis\", \"ordem\": \"Squamata\"}, {\"altitude\": 585, \"genero_atual\": \"Liophis\", \"ordem\": \"Squamata\"}, {\"altitude\": 585, \"genero_atual\": \"Liophis\", \"ordem\": \"Squamata\"}, {\"altitude\": 585, \"genero_atual\": \"Micrurus\", \"ordem\": \"Squamata\"}, {\"altitude\": 585, \"genero_atual\": \"Ophiodes\", \"ordem\": \"Squamata\"}, {\"altitude\": 585, \"genero_atual\": \"Oxyrhopus\", \"ordem\": \"Squamata\"}, {\"altitude\": 585, \"genero_atual\": \"Psomophis\", \"ordem\": \"Squamata\"}, {\"altitude\": 585, \"genero_atual\": \"Sibynomorphus\", \"ordem\": \"Squamata\"}, {\"altitude\": 585, \"genero_atual\": \"Xenodon\", \"ordem\": \"Squamata\"}, {\"altitude\": 598, \"genero_atual\": \"Hemidactylus\", \"ordem\": \"Squamata\"}, {\"altitude\": 598, \"genero_atual\": \"Hemidactylus\", \"ordem\": \"Squamata\"}, {\"altitude\": 598, \"genero_atual\": \"Hemidactylus\", \"ordem\": \"Squamata\"}, {\"altitude\": 598, \"genero_atual\": \"Hemidactylus\", \"ordem\": \"Squamata\"}, {\"altitude\": 598, \"genero_atual\": \"Hemidactylus\", \"ordem\": \"Squamata\"}, {\"altitude\": 60, \"genero_atual\": \"Chironius\", \"ordem\": \"Squamata\"}, {\"altitude\": 60, \"genero_atual\": \"Micrurus\", \"ordem\": \"Squamata\"}, {\"altitude\": 60, \"genero_atual\": \"Simplisulcus\", \"ordem\": \"#n/d\"}, {\"altitude\": 61, \"genero_atual\": \"Leptophis\", \"ordem\": \"Squamata\"}, {\"altitude\": 62, \"genero_atual\": \"Leposternon\", \"ordem\": \"Squamata\"}, {\"altitude\": 62, \"genero_atual\": \"Spilotes\", \"ordem\": \"Squamata\"}, {\"altitude\": 629, \"genero_atual\": \"Sibynomorphus\", \"ordem\": \"Squamata\"}, {\"altitude\": 63, \"genero_atual\": \"Bothrops\", \"ordem\": \"Squamata\"}, {\"altitude\": 63, \"genero_atual\": \"Chironius\", \"ordem\": \"Squamata\"}, {\"altitude\": 630, \"genero_atual\": \"Psomophis\", \"ordem\": \"Squamata\"}, {\"altitude\": 64, \"genero_atual\": \"Helicops\", \"ordem\": \"Squamata\"}, {\"altitude\": 649, \"genero_atual\": \"Thamnodynastes\", \"ordem\": \"Squamata\"}, {\"altitude\": 65, \"genero_atual\": \"Polychrus\", \"ordem\": \"Squamata\"}, {\"altitude\": 65, \"genero_atual\": \"Siphlophis\", \"ordem\": \"Squamata\"}, {\"altitude\": 664, \"genero_atual\": \"Liophis\", \"ordem\": \"Squamata\"}, {\"altitude\": 67, \"genero_atual\": \"Hemidactylus\", \"ordem\": \"Squamata\"}, {\"altitude\": 67, \"genero_atual\": \"Philodryas\", \"ordem\": \"Squamata\"}, {\"altitude\": 68, \"genero_atual\": \"Leptophis\", \"ordem\": \"Squamata\"}, {\"altitude\": 68, \"genero_atual\": \"Xenodon\", \"ordem\": \"Squamata\"}, {\"altitude\": 682, \"genero_atual\": \"Anolis\", \"ordem\": \"Squamata\"}, {\"altitude\": 682, \"genero_atual\": \"Tropidurus\", \"ordem\": \"Squamata\"}, {\"altitude\": 684, \"genero_atual\": \"Stenocercus\", \"ordem\": \"Squamata\"}, {\"altitude\": 684, \"genero_atual\": \"Stenocercus\", \"ordem\": \"Squamata\"}, {\"altitude\": 684, \"genero_atual\": \"Stenocercus\", \"ordem\": \"Squamata\"}, {\"altitude\": 684, \"genero_atual\": \"Taeniophallus\", \"ordem\": \"Squamata\"}, {\"altitude\": 687, \"genero_atual\": \"Stenocercus\", \"ordem\": \"Squamata\"}, {\"altitude\": 687, \"genero_atual\": \"Stenocercus\", \"ordem\": \"Squamata\"}, {\"altitude\": 687, \"genero_atual\": \"Stenocercus\", \"ordem\": \"Squamata\"}, {\"altitude\": 699, \"genero_atual\": \"Sibynomorphus\", \"ordem\": \"Squamata\"}, {\"altitude\": 699, \"genero_atual\": \"Sibynomorphus\", \"ordem\": \"Squamata\"}, {\"altitude\": 7, \"genero_atual\": \"Amerotyphlops\", \"ordem\": \"Squamata\"}, {\"altitude\": 7, \"genero_atual\": \"Amerotyphlops\", \"ordem\": \"Squamata\"}, {\"altitude\": 7, \"genero_atual\": \"Bothrops\", \"ordem\": \"Squamata\"}, {\"altitude\": 7, \"genero_atual\": \"Glaucomastix\", \"ordem\": \"Squamata\"}, {\"altitude\": 7, \"genero_atual\": \"Gymnodactylus\", \"ordem\": \"Squamata\"}, {\"altitude\": 7, \"genero_atual\": \"Gymnodactylus\", \"ordem\": \"Squamata\"}, {\"altitude\": 7, \"genero_atual\": \"Gymnodactylus\", \"ordem\": \"Squamata\"}, {\"altitude\": 7, \"genero_atual\": \"Gymnodactylus\", \"ordem\": \"Squamata\"}, {\"altitude\": 7, \"genero_atual\": \"Hemidactylus\", \"ordem\": \"Squamata\"}, {\"altitude\": 7, \"genero_atual\": \"Liophis\", \"ordem\": \"Squamata\"}, {\"altitude\": 7, \"genero_atual\": \"Liophis\", \"ordem\": \"Squamata\"}, {\"altitude\": 7, \"genero_atual\": \"Psychosaura\", \"ordem\": \"Squamata\"}, {\"altitude\": 7, \"genero_atual\": \"Psychosaura\", \"ordem\": \"Squamata\"}, {\"altitude\": 7, \"genero_atual\": \"Psychosaura\", \"ordem\": \"Squamata\"}, {\"altitude\": 7, \"genero_atual\": \"Tropidurus\", \"ordem\": \"Squamata\"}, {\"altitude\": 70, \"genero_atual\": \"Cercophis\", \"ordem\": \"Squamata\"}, {\"altitude\": 70, \"genero_atual\": \"Leposternon\", \"ordem\": \"Squamata\"}, {\"altitude\": 70, \"genero_atual\": \"Micrurus\", \"ordem\": \"Squamata\"}, {\"altitude\": 70, \"genero_atual\": \"Micrurus\", \"ordem\": \"Squamata\"}, {\"altitude\": 70, \"genero_atual\": \"Ophiodes\", \"ordem\": \"Squamata\"}, {\"altitude\": 70, \"genero_atual\": \"Thamnodynastes\", \"ordem\": \"Squamata\"}, {\"altitude\": 70, \"genero_atual\": \"Xenodon\", \"ordem\": \"Squamata\"}, {\"altitude\": 700, \"genero_atual\": \"Diploglossus\", \"ordem\": \"Squamata\"}, {\"altitude\": 700, \"genero_atual\": \"Enyalius\", \"ordem\": \"Squamata\"}, {\"altitude\": 700, \"genero_atual\": \"Mabuya\", \"ordem\": \"Squamata\"}, {\"altitude\": 700, \"genero_atual\": \"Taeniophallus\", \"ordem\": \"Squamata\"}, {\"altitude\": 702, \"genero_atual\": \"Salvator\", \"ordem\": \"Squamata\"}, {\"altitude\": 706, \"genero_atual\": \"Crotalus\", \"ordem\": \"Squamata\"}, {\"altitude\": 71, \"genero_atual\": \"Oxyrhopus\", \"ordem\": \"Squamata\"}, {\"altitude\": 71, \"genero_atual\": \"Trilepida\", \"ordem\": \"Squamata\"}, {\"altitude\": 71, \"genero_atual\": \"Trilepida\", \"ordem\": \"Squamata\"}, {\"altitude\": 714, \"genero_atual\": \"Mabuya\", \"ordem\": \"Squamata\"}, {\"altitude\": 715, \"genero_atual\": \"Polychrus\", \"ordem\": \"Squamata\"}, {\"altitude\": 718, \"genero_atual\": \"Colobosaura\", \"ordem\": \"Squamata\"}, {\"altitude\": 718, \"genero_atual\": \"Crotalus\", \"ordem\": \"Squamata\"}, {\"altitude\": 718, \"genero_atual\": \"Crotalus\", \"ordem\": \"Squamata\"}, {\"altitude\": 718, \"genero_atual\": \"Hemidactylus\", \"ordem\": \"Squamata\"}, {\"altitude\": 718, \"genero_atual\": \"Hemidactylus\", \"ordem\": \"Squamata\"}, {\"altitude\": 718, \"genero_atual\": \"Mabuya\", \"ordem\": \"Squamata\"}, {\"altitude\": 718, \"genero_atual\": \"Oxyrhopus\", \"ordem\": \"Squamata\"}, {\"altitude\": 718, \"genero_atual\": \"Oxyrhopus\", \"ordem\": \"Squamata\"}, {\"altitude\": 718, \"genero_atual\": \"Oxyrhopus\", \"ordem\": \"Squamata\"}, {\"altitude\": 718, \"genero_atual\": \"Philodryas\", \"ordem\": \"Squamata\"}, {\"altitude\": 718, \"genero_atual\": \"Philodryas\", \"ordem\": \"Squamata\"}, {\"altitude\": 718, \"genero_atual\": \"Philodryas\", \"ordem\": \"Squamata\"}, {\"altitude\": 718, \"genero_atual\": \"Philodryas\", \"ordem\": \"Squamata\"}, {\"altitude\": 718, \"genero_atual\": \"Pseudoboa\", \"ordem\": \"Squamata\"}, {\"altitude\": 718, \"genero_atual\": \"Sibynomorphus\", \"ordem\": \"Squamata\"}, {\"altitude\": 718, \"genero_atual\": \"Spilotes\", \"ordem\": \"Squamata\"}, {\"altitude\": 718, \"genero_atual\": \"Spilotes\", \"ordem\": \"Squamata\"}, {\"altitude\": 718, \"genero_atual\": \"Xenodon\", \"ordem\": \"Squamata\"}, {\"altitude\": 718, \"genero_atual\": \"Xenodon\", \"ordem\": \"Squamata\"}, {\"altitude\": 72, \"genero_atual\": \"Chironius\", \"ordem\": \"Squamata\"}, {\"altitude\": 72, \"genero_atual\": \"Echinanthera\", \"ordem\": \"Squamata\"}, {\"altitude\": 727, \"genero_atual\": \"Amphisbaena\", \"ordem\": \"Squamata\"}, {\"altitude\": 727, \"genero_atual\": \"Amphisbaena\", \"ordem\": \"Squamata\"}, {\"altitude\": 727, \"genero_atual\": \"Ophiodes\", \"ordem\": \"Squamata\"}, {\"altitude\": 74, \"genero_atual\": \"Echinanthera\", \"ordem\": \"Squamata\"}, {\"altitude\": 7468, \"genero_atual\": \"Oxyrhopus\", \"ordem\": \"Squamata\"}, {\"altitude\": 75, \"genero_atual\": \"Bothrops\", \"ordem\": \"Squamata\"}, {\"altitude\": 75, \"genero_atual\": \"Bothrops\", \"ordem\": \"Squamata\"}, {\"altitude\": 75, \"genero_atual\": \"Chironius\", \"ordem\": \"Squamata\"}, {\"altitude\": 75, \"genero_atual\": \"Chironius\", \"ordem\": \"Squamata\"}, {\"altitude\": 75, \"genero_atual\": \"Leposternon\", \"ordem\": \"Squamata\"}, {\"altitude\": 75, \"genero_atual\": \"Thamnodynastes\", \"ordem\": \"Squamata\"}, {\"altitude\": 750, \"genero_atual\": \"Thamnodynastes\", \"ordem\": \"Squamata\"}, {\"altitude\": 76, \"genero_atual\": \"Liophis\", \"ordem\": \"Squamata\"}, {\"altitude\": 764, \"genero_atual\": \"Micrurus\", \"ordem\": \"Squamata\"}, {\"altitude\": 769, \"genero_atual\": \"Bothrops\", \"ordem\": \"Squamata\"}, {\"altitude\": 769, \"genero_atual\": \"Bothrops\", \"ordem\": \"Squamata\"}, {\"altitude\": 78, \"genero_atual\": \"Chironius\", \"ordem\": \"Squamata\"}, {\"altitude\": 786, \"genero_atual\": \"Stenocercus\", \"ordem\": \"Squamata\"}, {\"altitude\": 8, \"genero_atual\": \"Amerotyphlops\", \"ordem\": \"Squamata\"}, {\"altitude\": 8, \"genero_atual\": \"Amerotyphlops\", \"ordem\": \"Squamata\"}, {\"altitude\": 8, \"genero_atual\": \"Amerotyphlops\", \"ordem\": \"Squamata\"}, {\"altitude\": 8, \"genero_atual\": \"Amerotyphlops\", \"ordem\": \"Squamata\"}, {\"altitude\": 8, \"genero_atual\": \"Amerotyphlops\", \"ordem\": \"Squamata\"}, {\"altitude\": 8, \"genero_atual\": \"Amerotyphlops\", \"ordem\": \"Squamata\"}, {\"altitude\": 8, \"genero_atual\": \"Amerotyphlops\", \"ordem\": \"Squamata\"}, {\"altitude\": 8, \"genero_atual\": \"Amerotyphlops\", \"ordem\": \"Squamata\"}, {\"altitude\": 8, \"genero_atual\": \"Amerotyphlops\", \"ordem\": \"Squamata\"}, {\"altitude\": 8, \"genero_atual\": \"Amerotyphlops\", \"ordem\": \"Squamata\"}, {\"altitude\": 8, \"genero_atual\": \"Amerotyphlops\", \"ordem\": \"Squamata\"}, {\"altitude\": 8, \"genero_atual\": \"Tantilla\", \"ordem\": \"Squamata\"}, {\"altitude\": 80, \"genero_atual\": \"Chironius\", \"ordem\": \"Squamata\"}, {\"altitude\": 80, \"genero_atual\": \"Leposternon\", \"ordem\": \"Squamata\"}, {\"altitude\": 80, \"genero_atual\": \"Tropidurus\", \"ordem\": \"Squamata\"}, {\"altitude\": 800, \"genero_atual\": \"Bothrops\", \"ordem\": \"Squamata\"}, {\"altitude\": 800, \"genero_atual\": \"Bothrops\", \"ordem\": \"Squamata\"}, {\"altitude\": 800, \"genero_atual\": \"Helicops\", \"ordem\": \"Squamata\"}, {\"altitude\": 802, \"genero_atual\": \"Sibynomorphus\", \"ordem\": \"Squamata\"}, {\"altitude\": 809, \"genero_atual\": \"Cercosaura\", \"ordem\": \"Squamata\"}, {\"altitude\": 809, \"genero_atual\": \"Sibynomorphus\", \"ordem\": \"Squamata\"}, {\"altitude\": 809, \"genero_atual\": \"Stenocercus\", \"ordem\": \"Squamata\"}, {\"altitude\": 815, \"genero_atual\": \"Enyalius\", \"ordem\": \"Squamata\"}, {\"altitude\": 815, \"genero_atual\": \"Micrurus\", \"ordem\": \"Squamata\"}, {\"altitude\": 83, \"genero_atual\": \"Mesobaena\", \"ordem\": \"Squamata\"}, {\"altitude\": 83, \"genero_atual\": \"Mesobaena\", \"ordem\": \"Squamata\"}, {\"altitude\": 830, \"genero_atual\": \"Micrurus\", \"ordem\": \"Squamata\"}, {\"altitude\": 834, \"genero_atual\": \"Crotalus\", \"ordem\": \"Squamata\"}, {\"altitude\": 84, \"genero_atual\": \"Eunectes\", \"ordem\": \"Squamata\"}, {\"altitude\": 84, \"genero_atual\": \"Oxyrhopus\", \"ordem\": \"Squamata\"}, {\"altitude\": 84, \"genero_atual\": \"Sibynomorphus\", \"ordem\": \"Squamata\"}, {\"altitude\": 840, \"genero_atual\": \"Tantilla\", \"ordem\": \"Squamata\"}, {\"altitude\": 842, \"genero_atual\": \"Amerotyphlops\", \"ordem\": \"Squamata\"}, {\"altitude\": 844, \"genero_atual\": \"Bothrops\", \"ordem\": \"Squamata\"}, {\"altitude\": 848, \"genero_atual\": \"Anolis\", \"ordem\": \"Squamata\"}, {\"altitude\": 848, \"genero_atual\": \"Epictia\", \"ordem\": \"Squamata\"}, {\"altitude\": 848, \"genero_atual\": \"Kentropyx\", \"ordem\": \"Squamata\"}, {\"altitude\": 848, \"genero_atual\": \"Stenocercus\", \"ordem\": \"Squamata\"}, {\"altitude\": 851, \"genero_atual\": \"Tantilla\", \"ordem\": \"Squamata\"}, {\"altitude\": 863, \"genero_atual\": \"Amphisbaena\", \"ordem\": \"Squamata\"}, {\"altitude\": 864, \"genero_atual\": \"Tantilla\", \"ordem\": \"Squamata\"}, {\"altitude\": 87, \"genero_atual\": \"Ameiva\", \"ordem\": \"Squamata\"}, {\"altitude\": 87, \"genero_atual\": \"Ameiva\", \"ordem\": \"Squamata\"}, {\"altitude\": 87, \"genero_atual\": \"Thamnodynastes\", \"ordem\": \"Squamata\"}, {\"altitude\": 870, \"genero_atual\": \"Tantilla\", \"ordem\": \"Squamata\"}, {\"altitude\": 871, \"genero_atual\": \"Crotalus\", \"ordem\": \"Squamata\"}, {\"altitude\": 871, \"genero_atual\": \"Phimophis\", \"ordem\": \"Squamata\"}, {\"altitude\": 875, \"genero_atual\": \"Tantilla\", \"ordem\": \"Squamata\"}, {\"altitude\": 876, \"genero_atual\": \"Bothrops\", \"ordem\": \"Squamata\"}, {\"altitude\": 876, \"genero_atual\": \"Leptodeira\", \"ordem\": \"Squamata\"}, {\"altitude\": 876, \"genero_atual\": \"Thamnodynastes\", \"ordem\": \"Squamata\"}, {\"altitude\": 878, \"genero_atual\": \"Tupinambis\", \"ordem\": \"Squamata\"}, {\"altitude\": 88, \"genero_atual\": \"Thamnodynastes\", \"ordem\": \"Squamata\"}, {\"altitude\": 88, \"genero_atual\": \"Xenodon\", \"ordem\": \"Squamata\"}, {\"altitude\": 880, \"genero_atual\": \"Tantilla\", \"ordem\": \"Squamata\"}, {\"altitude\": 889, \"genero_atual\": \"Amphisbaena\", \"ordem\": \"Squamata\"}, {\"altitude\": 889, \"genero_atual\": \"Tropidurus\", \"ordem\": \"Squamata\"}, {\"altitude\": 894, \"genero_atual\": \"Atractus\", \"ordem\": \"Squamata\"}, {\"altitude\": 896, \"genero_atual\": \"Tantilla\", \"ordem\": \"Squamata\"}, {\"altitude\": 896, \"genero_atual\": \"Tantilla\", \"ordem\": \"Squamata\"}, {\"altitude\": 896, \"genero_atual\": \"Tantilla\", \"ordem\": \"Squamata\"}, {\"altitude\": 9, \"genero_atual\": \"Ameivula\", \"ordem\": \"Squamata\"}, {\"altitude\": 9, \"genero_atual\": \"Ameivula\", \"ordem\": \"Squamata\"}, {\"altitude\": 9, \"genero_atual\": \"Ameivula\", \"ordem\": \"Squamata\"}, {\"altitude\": 9, \"genero_atual\": \"Ameivula\", \"ordem\": \"Squamata\"}, {\"altitude\": 9, \"genero_atual\": \"Ameivula\", \"ordem\": \"Squamata\"}, {\"altitude\": 9, \"genero_atual\": \"Ameivula\", \"ordem\": \"Squamata\"}, {\"altitude\": 9, \"genero_atual\": \"Ameivula\", \"ordem\": \"Squamata\"}, {\"altitude\": 9, \"genero_atual\": \"Ameivula\", \"ordem\": \"Squamata\"}, {\"altitude\": 9, \"genero_atual\": \"Ameivula\", \"ordem\": \"Squamata\"}, {\"altitude\": 9, \"genero_atual\": \"Ameivula\", \"ordem\": \"Squamata\"}, {\"altitude\": 9, \"genero_atual\": \"Ameivula\", \"ordem\": \"Squamata\"}, {\"altitude\": 9, \"genero_atual\": \"Ameivula\", \"ordem\": \"Squamata\"}, {\"altitude\": 9, \"genero_atual\": \"Ameivula\", \"ordem\": \"Squamata\"}, {\"altitude\": 9, \"genero_atual\": \"Amerotyphlops\", \"ordem\": \"Squamata\"}, {\"altitude\": 9, \"genero_atual\": \"Amerotyphlops\", \"ordem\": \"Squamata\"}, {\"altitude\": 9, \"genero_atual\": \"Amerotyphlops\", \"ordem\": \"Squamata\"}, {\"altitude\": 9, \"genero_atual\": \"Amerotyphlops\", \"ordem\": \"Squamata\"}, {\"altitude\": 9, \"genero_atual\": \"Amerotyphlops\", \"ordem\": \"Squamata\"}, {\"altitude\": 9, \"genero_atual\": \"Amerotyphlops\", \"ordem\": \"Squamata\"}, {\"altitude\": 9, \"genero_atual\": \"Amerotyphlops\", \"ordem\": \"Squamata\"}, {\"altitude\": 9, \"genero_atual\": \"Amerotyphlops\", \"ordem\": \"Squamata\"}, {\"altitude\": 9, \"genero_atual\": \"Bothrops\", \"ordem\": \"Squamata\"}, {\"altitude\": 9, \"genero_atual\": \"Gymnodactylus\", \"ordem\": \"Squamata\"}, {\"altitude\": 9, \"genero_atual\": \"Hemidactylus\", \"ordem\": \"Squamata\"}, {\"altitude\": 9, \"genero_atual\": \"Hemidactylus\", \"ordem\": \"Squamata\"}, {\"altitude\": 9, \"genero_atual\": \"Liophis\", \"ordem\": \"Squamata\"}, {\"altitude\": 9, \"genero_atual\": \"Liophis\", \"ordem\": \"Squamata\"}, {\"altitude\": 9, \"genero_atual\": \"Liophis\", \"ordem\": \"Squamata\"}, {\"altitude\": 9, \"genero_atual\": \"Micrurus\", \"ordem\": \"Squamata\"}, {\"altitude\": 9, \"genero_atual\": \"Philodryas\", \"ordem\": \"Squamata\"}, {\"altitude\": 9, \"genero_atual\": \"Tantilla\", \"ordem\": \"Squamata\"}, {\"altitude\": 9, \"genero_atual\": \"Tantilla\", \"ordem\": \"Squamata\"}, {\"altitude\": 9, \"genero_atual\": \"Tropidurus\", \"ordem\": \"Squamata\"}, {\"altitude\": 90, \"genero_atual\": \"Leptophis\", \"ordem\": \"Squamata\"}, {\"altitude\": 900, \"genero_atual\": \"Anolis\", \"ordem\": \"Squamata\"}, {\"altitude\": 900, \"genero_atual\": \"Anolis\", \"ordem\": \"Squamata\"}, {\"altitude\": 900, \"genero_atual\": \"Anolis\", \"ordem\": \"Squamata\"}, {\"altitude\": 900, \"genero_atual\": \"Bothrops\", \"ordem\": \"Squamata\"}, {\"altitude\": 900, \"genero_atual\": \"Kentropyx\", \"ordem\": \"Squamata\"}, {\"altitude\": 900, \"genero_atual\": \"Micrurus\", \"ordem\": \"Squamata\"}, {\"altitude\": 900, \"genero_atual\": \"Siphlophis\", \"ordem\": \"Squamata\"}, {\"altitude\": 905, \"genero_atual\": \"Micrurus\", \"ordem\": \"Squamata\"}, {\"altitude\": 918, \"genero_atual\": \"Oxyrhopus\", \"ordem\": \"Squamata\"}, {\"altitude\": 923, \"genero_atual\": \"Polychrus\", \"ordem\": \"Squamata\"}, {\"altitude\": 928, \"genero_atual\": \"Atractus\", \"ordem\": \"Squamata\"}, {\"altitude\": 944, \"genero_atual\": \"Atractus\", \"ordem\": \"Squamata\"}, {\"altitude\": 95, \"genero_atual\": \"Gonatodes\", \"ordem\": \"Squamata\"}, {\"altitude\": 95, \"genero_atual\": \"Gonatodes\", \"ordem\": \"Squamata\"}, {\"altitude\": 95, \"genero_atual\": \"Hydrops\", \"ordem\": \"Squamata\"}, {\"altitude\": 95, \"genero_atual\": \"Sibynomorphus\", \"ordem\": \"Squamata\"}, {\"altitude\": 95, \"genero_atual\": \"Thamnodynastes\", \"ordem\": \"Squamata\"}, {\"altitude\": 97, \"genero_atual\": \"Atractus\", \"ordem\": \"Squamata\"}, {\"altitude\": 974, \"genero_atual\": \"Anolis\", \"ordem\": \"Squamata\"}, {\"altitude\": 974, \"genero_atual\": \"Anolis\", \"ordem\": \"Squamata\"}, {\"altitude\": 974, \"genero_atual\": \"Anolis\", \"ordem\": \"Squamata\"}, {\"altitude\": 974, \"genero_atual\": \"Anolis\", \"ordem\": \"Squamata\"}, {\"altitude\": 974, \"genero_atual\": \"Mabuya\", \"ordem\": \"Squamata\"}, {\"altitude\": 976, \"genero_atual\": \"Thamnodynastes\", \"ordem\": \"Squamata\"}, {\"altitude\": 980, \"genero_atual\": \"Enyalius\", \"ordem\": \"Squamata\"}, {\"altitude\": 990, \"genero_atual\": \"Atractus\", \"ordem\": \"Squamata\"}, {\"altitude\": 996, \"genero_atual\": \"Anolis\", \"ordem\": \"Squamata\"}, {\"altitude\": 996, \"genero_atual\": \"Anolis\", \"ordem\": \"Squamata\"}, {\"altitude\": 996, \"genero_atual\": \"Anolis\", \"ordem\": \"Squamata\"}, {\"altitude\": 996, \"genero_atual\": \"Anolis\", \"ordem\": \"Squamata\"}, {\"altitude\": 996, \"genero_atual\": \"Anolis\", \"ordem\": \"Squamata\"}]}}, {\"mode\": \"vega-lite\"});\n",
       "</script>"
      ],
      "text/plain": [
       "alt.Chart(...)"
      ]
     },
     "execution_count": 194,
     "metadata": {},
     "output_type": "execute_result"
    }
   ],
   "source": [
    "# ordering x-axis per mean altitude\n",
    "temp = alt.Chart(teste, title='Altitude per genus',\n",
    "                width= 900).mark_circle().encode(\n",
    "    x = alt.X('genero_atual', type='nominal', title='Genus (actual)',\n",
    "             sort=alt.EncodingSortField('altitude', op=\"max\", order=\"ascending\")),\n",
    "    y = alt.Y('altitude', type='quantitative', title='Altitude (in meters)'),\n",
    "    color = alt.Color('ordem', scale= alt.Scale(domain=ordens, range=cores)),\n",
    "    tooltip = alt.Tooltip(['ordem', 'genero_atual', 'altitude'])\n",
    ")\n",
    "\n",
    "# temp.save('./graphs/altitude/altitude_per_genus.html')\n",
    "temp"
   ]
  },
  {
   "cell_type": "markdown",
   "metadata": {},
   "source": [
    "<br>\n",
    "\n",
    "**Thats it!**\n",
    "\n",
    "-----"
   ]
  }
 ],
 "metadata": {
  "kernelspec": {
   "display_name": "Python 3",
   "language": "python",
   "name": "python3"
  },
  "language_info": {
   "codemirror_mode": {
    "name": "ipython",
    "version": 3
   },
   "file_extension": ".py",
   "mimetype": "text/x-python",
   "name": "python",
   "nbconvert_exporter": "python",
   "pygments_lexer": "ipython3",
   "version": "3.8.2"
  },
  "latex_envs": {
   "LaTeX_envs_menu_present": true,
   "autoclose": false,
   "autocomplete": true,
   "bibliofile": "biblio.bib",
   "cite_by": "apalike",
   "current_citInitial": 1,
   "eqLabelWithNumbers": true,
   "eqNumInitial": 1,
   "hotkeys": {
    "equation": "Ctrl-E",
    "itemize": "Ctrl-I"
   },
   "labels_anchors": false,
   "latex_user_defs": false,
   "report_style_numbering": false,
   "user_envs_cfg": false
  },
  "toc": {
   "base_numbering": 1,
   "nav_menu": {},
   "number_sections": false,
   "sideBar": true,
   "skip_h1_title": false,
   "title_cell": "Table of Contents",
   "title_sidebar": "Contents",
   "toc_cell": false,
   "toc_position": {},
   "toc_section_display": true,
   "toc_window_display": false
  },
  "varInspector": {
   "cols": {
    "lenName": 16,
    "lenType": 16,
    "lenVar": 40
   },
   "kernels_config": {
    "python": {
     "delete_cmd_postfix": "",
     "delete_cmd_prefix": "del ",
     "library": "var_list.py",
     "varRefreshCmd": "print(var_dic_list())"
    },
    "r": {
     "delete_cmd_postfix": ") ",
     "delete_cmd_prefix": "rm(",
     "library": "var_list.r",
     "varRefreshCmd": "cat(var_dic_list()) "
    }
   },
   "position": {
    "height": "391.35px",
    "left": "900.5px",
    "right": "20px",
    "top": "96px",
    "width": "536.5px"
   },
   "types_to_exclude": [
    "module",
    "function",
    "builtin_function_or_method",
    "instance",
    "_Feature"
   ],
   "window_display": false
  }
 },
 "nbformat": 4,
 "nbformat_minor": 2
}
