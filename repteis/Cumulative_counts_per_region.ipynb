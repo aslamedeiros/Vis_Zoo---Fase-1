{
 "cells": [
  {
   "cell_type": "markdown",
   "metadata": {},
   "source": [
    "# Cumulative counts per geographical region\n",
    "\n",
    "By **Franklin Oliveira**\n",
    "\n",
    "-----\n",
    "This notebook contains all code necessary to make charts from `repteis` database with focus on collection's cumulative spacial increments. Here you'll find some basic data treatment and charts' code. \n",
    "\n",
    "Database: <font color='blue'>'Compilacao Livros Repteis - 2 a 10 - 2020_04_28.xls'</font>.m\n",
    "    "
   ]
  },
  {
   "cell_type": "code",
   "execution_count": 1,
   "metadata": {
    "ExecuteTime": {
     "end_time": "2021-02-26T01:27:35.269270Z",
     "start_time": "2021-02-26T01:27:34.270025Z"
    }
   },
   "outputs": [
    {
     "data": {
      "text/plain": [
       "DataTransformerRegistry.enable('default')"
      ]
     },
     "execution_count": 1,
     "metadata": {},
     "output_type": "execute_result"
    }
   ],
   "source": [
    "import datetime\n",
    "import numpy as np\n",
    "import pandas as pd\n",
    "\n",
    "from collections import defaultdict\n",
    "\n",
    "# quick visualization\n",
    "import matplotlib.pyplot as plt\n",
    "import seaborn as sns\n",
    "\n",
    "# Waffle Charts\n",
    "# from pywaffle import Waffle \n",
    "# docs: https://pywaffle.readthedocs.io/en/latest/examples/block_shape_distance_location_and_direction.html\n",
    "\n",
    "# visualization\n",
    "import altair as alt\n",
    "\n",
    "# enabling notebook renderer\n",
    "# alt.renderers.enable('notebook')\n",
    "# alt.renderers.enable('default')\n",
    "\n",
    "# disabling rows limit\n",
    "alt.data_transformers.disable_max_rows()"
   ]
  },
  {
   "cell_type": "markdown",
   "metadata": {},
   "source": [
    "## Importing data..."
   ]
  },
  {
   "cell_type": "code",
   "execution_count": 2,
   "metadata": {
    "ExecuteTime": {
     "end_time": "2021-02-26T01:27:35.461838Z",
     "start_time": "2021-02-26T01:27:35.271314Z"
    }
   },
   "outputs": [],
   "source": [
    "NewTable = pd.read_csv('./data/treated_db.csv', sep=';', encoding='utf-8-sig', low_memory=False)"
   ]
  },
  {
   "cell_type": "markdown",
   "metadata": {},
   "source": [
    "<br>\n",
    "\n",
    "<font size=5>**Color palette**</font>\n",
    "\n",
    "Importing customized color palettes.\n",
    "\n",
    "\n",
    "<!-- <img src=\"./src/paleta_cores.jpeg\" width='500px'>\n",
    " -->\n",
    "<!-- Cores: \n",
    "\n",
    "- verde_escuro: #284021\n",
    "- verde_claro: #88BF11\n",
    "- amarelo: #D9CB0B\n",
    "- laranja: #D99311\n",
    "- laranja_escuro: #BF4417\n",
    "- marrom-_laro: #BF8D7A -->"
   ]
  },
  {
   "cell_type": "code",
   "execution_count": 20,
   "metadata": {
    "ExecuteTime": {
     "end_time": "2021-02-26T01:29:22.090372Z",
     "start_time": "2021-02-26T01:29:22.085344Z"
    }
   },
   "outputs": [],
   "source": [
    "# importing customized color palettes\n",
    "from src.MNViz_colors import *"
   ]
  },
  {
   "cell_type": "code",
   "execution_count": 21,
   "metadata": {
    "ExecuteTime": {
     "end_time": "2021-02-26T01:29:22.236591Z",
     "start_time": "2021-02-26T01:29:22.233761Z"
    }
   },
   "outputs": [],
   "source": [
    "# p.s.: Caudata is an error and should be removed\n",
    "# cores_ordem = {\n",
    "#     'Squamata': '#BF4417',\n",
    "#     'Testudines': '#D9CB0B', \n",
    "#     'Crocodylia': '#284021'\n",
    "# }\n",
    "\n",
    "ordens = list(cores_ordem.keys())\n",
    "cores = list(cores_ordem.values())"
   ]
  },
  {
   "cell_type": "markdown",
   "metadata": {},
   "source": [
    "<br>\n",
    "\n",
    "## Counting per continent"
   ]
  },
  {
   "cell_type": "code",
   "execution_count": 22,
   "metadata": {
    "ExecuteTime": {
     "end_time": "2021-02-26T01:29:22.838227Z",
     "start_time": "2021-02-26T01:29:22.819715Z"
    }
   },
   "outputs": [],
   "source": [
    "# corrects a typo (Améica do Sul)\n",
    "NewTable['continente'] = NewTable['continente'].apply(lambda x: 'América do Sul' if x=='Améica do Sul' else x)"
   ]
  },
  {
   "cell_type": "code",
   "execution_count": 23,
   "metadata": {
    "ExecuteTime": {
     "end_time": "2021-02-26T01:29:23.093020Z",
     "start_time": "2021-02-26T01:29:23.080489Z"
    }
   },
   "outputs": [],
   "source": [
    "# forces Country column to be in string format\n",
    "NewTable['pais'] = NewTable['pais'].apply(lambda x:str(x))"
   ]
  },
  {
   "cell_type": "code",
   "execution_count": 24,
   "metadata": {
    "ExecuteTime": {
     "end_time": "2021-02-26T01:29:24.126547Z",
     "start_time": "2021-02-26T01:29:24.121625Z"
    }
   },
   "outputs": [],
   "source": [
    "# looking good...\n",
    "# NewTable['continente'].value_counts()"
   ]
  },
  {
   "cell_type": "code",
   "execution_count": 25,
   "metadata": {
    "ExecuteTime": {
     "end_time": "2021-02-26T01:29:24.516577Z",
     "start_time": "2021-02-26T01:29:24.451896Z"
    }
   },
   "outputs": [],
   "source": [
    "# grouping per Year and Continent\n",
    "teste = NewTable.groupby(['ano_coleta','continente']).count()['class'].reset_index().rename(columns={\n",
    "    'class':'counts'\n",
    "})\n",
    "\n",
    "# sorting...\n",
    "teste = teste.sort_values(['continente', 'ano_coleta'])"
   ]
  },
  {
   "cell_type": "code",
   "execution_count": 26,
   "metadata": {
    "ExecuteTime": {
     "end_time": "2021-02-26T01:29:24.710693Z",
     "start_time": "2021-02-26T01:29:24.699298Z"
    }
   },
   "outputs": [],
   "source": [
    "# cumulatively counting\n",
    "cumSum = []\n",
    "for continente in teste['continente'].unique():\n",
    "    cumSum.extend(list(teste[teste['continente'] == continente]['counts'].cumsum()))\n",
    "    \n",
    "teste['cumulative_sum'] = cumSum"
   ]
  },
  {
   "cell_type": "markdown",
   "metadata": {},
   "source": [
    "### Chart: all continents"
   ]
  },
  {
   "cell_type": "code",
   "execution_count": 27,
   "metadata": {
    "ExecuteTime": {
     "end_time": "2021-02-26T01:29:26.151960Z",
     "start_time": "2021-02-26T01:29:26.118125Z"
    }
   },
   "outputs": [],
   "source": [
    "select_continent = alt.selection_multi(fields=['continente'], bind='legend')\n",
    "\n",
    "g1 = alt.Chart(teste, title=\"Collection's temporal evolution per continent\", \n",
    "               width=600).mark_line(point=True).encode(\n",
    "    x= alt.X('ano_coleta', type=\"ordinal\", title='Sampling Year'),\n",
    "    y= alt.Y('cumulative_sum', title='', \n",
    "             sort=alt.EncodingSortField('counts', op=\"count\", order='descending')),\n",
    "    color= alt.Color('continente:N', title='Continent',\n",
    "                     scale=alt.Scale(domain=list(cores_continente.keys()), range=list(cores_continente.values()))),\n",
    "    tooltip= alt.Tooltip(['continente','ano_coleta','counts', 'cumulative_sum']),\n",
    "    opacity= alt.condition(select_continent, alt.value(1), alt.value(0))\n",
    ").add_selection(select_continent)\n",
    "\n",
    "g1 = g1.configure_title(fontSize=16).configure_axis(\n",
    "    labelFontSize=12,\n",
    "    titleFontSize=12\n",
    ").configure_legend(\n",
    "    labelFontSize=12,\n",
    "    titleFontSize=12\n",
    ")\n",
    "\n",
    "# g1.save('./graphs/cumCounts/time-spacial/temporal_evolution_per_continent.html')\n",
    "# g1"
   ]
  },
  {
   "cell_type": "markdown",
   "metadata": {},
   "source": [
    "### Chart: all continents (ex. South America)"
   ]
  },
  {
   "cell_type": "code",
   "execution_count": 35,
   "metadata": {
    "ExecuteTime": {
     "end_time": "2021-02-26T01:30:45.010324Z",
     "start_time": "2021-02-26T01:30:44.976922Z"
    }
   },
   "outputs": [],
   "source": [
    "select_continent = alt.selection_multi(fields=['continente'], bind='legend')\n",
    "\n",
    "# removing South America from domain and range colors\n",
    "continents_exSA = [c for c in teste['continente'].unique() if c != 'América do Sul']\n",
    "colors_exSA = [cores_continente[c] for c in continents_exSA]\n",
    "\n",
    "g1 = alt.Chart(teste[teste['continente']!='América do Sul'],\n",
    "               title=\"Collection's temporal evolution per continent (ex. South America)\", \n",
    "width=600).mark_line(point=True).encode(\n",
    "    x= alt.X('ano_coleta', type=\"ordinal\", title='Sampling Year'),\n",
    "    y= alt.Y('cumulative_sum', title='', \n",
    "             sort=alt.EncodingSortField('counts', op=\"count\", order='descending'),\n",
    "             scale= alt.Scale(domain=[0,150])),\n",
    "    color= alt.Color('continente:N', title='Continent',\n",
    "                     scale=alt.Scale(domain= continents_exSA, range= colors_exSA)),\n",
    "    tooltip= alt.Tooltip(['continente','ano_coleta','counts', 'cumulative_sum']),\n",
    "    opacity= alt.condition(select_continent, alt.value(1), alt.value(0))\n",
    ").add_selection(select_continent).configure_point(\n",
    "    size=50\n",
    ")\n",
    "\n",
    "g1 = g1.configure_title(fontSize=16).configure_axis(\n",
    "    labelFontSize=12,\n",
    "    titleFontSize=12\n",
    ").configure_legend(\n",
    "    labelFontSize=12,\n",
    "    titleFontSize=12\n",
    ")\n",
    "\n",
    "# g1.save('./graphs/cumCounts/time-spacial/temporal_evolution_OTHER_continents.html')\n",
    "# g1"
   ]
  },
  {
   "cell_type": "markdown",
   "metadata": {},
   "source": [
    "<br>\n",
    "\n",
    "## Counting per Country"
   ]
  },
  {
   "cell_type": "code",
   "execution_count": 39,
   "metadata": {
    "ExecuteTime": {
     "end_time": "2021-02-26T01:31:40.126075Z",
     "start_time": "2021-02-26T01:31:40.059772Z"
    }
   },
   "outputs": [],
   "source": [
    "# grouping per year, continent and country\n",
    "teste = NewTable.groupby(['ano_coleta','continente','pais']).count()['class'].reset_index().rename(columns={\n",
    "    'class':'counts'\n",
    "})\n",
    "\n",
    "teste = teste.sort_values(['pais', 'ano_coleta'])"
   ]
  },
  {
   "cell_type": "code",
   "execution_count": 40,
   "metadata": {
    "ExecuteTime": {
     "end_time": "2021-02-26T01:31:40.449870Z",
     "start_time": "2021-02-26T01:31:40.422531Z"
    }
   },
   "outputs": [],
   "source": [
    "# cumulatively counting\n",
    "cumSum = []\n",
    "for pais in teste['pais'].unique():\n",
    "    cumSum.extend(list(teste[teste['pais'] == pais]['counts'].cumsum()))\n",
    "    \n",
    "teste['cumulative_sum'] = cumSum"
   ]
  },
  {
   "cell_type": "markdown",
   "metadata": {},
   "source": [
    "### Chart: all countries"
   ]
  },
  {
   "cell_type": "code",
   "execution_count": 43,
   "metadata": {
    "ExecuteTime": {
     "end_time": "2021-02-26T01:31:49.263754Z",
     "start_time": "2021-02-26T01:31:49.230153Z"
    }
   },
   "outputs": [],
   "source": [
    "select_country = alt.selection_multi(fields=['pais'], bind='legend')\n",
    "\n",
    "g1 = alt.Chart(teste, title=\"Collection's temporal evolution per country\", \n",
    "width=600).mark_line(point=True).encode(\n",
    "    x= alt.X('ano_coleta', type=\"ordinal\", title='Sampling Year',\n",
    "            scale= alt.Scale(domain=list(sorted(teste['ano_coleta'].unique())))), # fixed x-axis\n",
    "    y= alt.Y('cumulative_sum', title='', \n",
    "             sort=alt.EncodingSortField('counts', op=\"count\", order='descending'),\n",
    "             scale= alt.Scale(domain=[0,20000])),\n",
    "    color= alt.Color('pais:N', title='Country',\n",
    "                     legend= alt.Legend(columns=2, symbolLimit=42),\n",
    "                     scale= alt.Scale(domain=list(cores_pais.keys()), range=list(cores_pais.values()))),\n",
    "    tooltip= alt.Tooltip(['pais','ano_coleta','counts', 'cumulative_sum']),\n",
    "#     opacity= alt.condition(select_country, alt.value(1), alt.value(0))\n",
    ").add_selection(select_country).transform_filter(select_country)\n",
    "\n",
    "g1 = g1.configure_title(fontSize=16).configure_axis(\n",
    "    labelFontSize=12,\n",
    "    titleFontSize=12\n",
    ").configure_legend(\n",
    "    labelFontSize=12,\n",
    "    titleFontSize=12\n",
    ")\n",
    "\n",
    "# g1.save('./graphs/cumCounts/time-spacial/temporal_evolution_per_country.html')\n",
    "# g1"
   ]
  },
  {
   "cell_type": "markdown",
   "metadata": {},
   "source": [
    "<font color='red' size=4>TEST: multiple selectors (for country and continent)</font>"
   ]
  },
  {
   "cell_type": "code",
   "execution_count": 54,
   "metadata": {
    "ExecuteTime": {
     "end_time": "2021-02-26T01:39:48.105324Z",
     "start_time": "2021-02-26T01:39:48.049052Z"
    }
   },
   "outputs": [],
   "source": [
    "# selectors\n",
    "select_continent = alt.selection_multi(fields=['continente'], bind='legend')\n",
    "select_country = alt.selection_multi(fields=['pais'], bind='legend')\n",
    "\n",
    "# database\n",
    "db = teste[teste['pais'] != 'Brasil']\n",
    "\n",
    "# aux. variables\n",
    "family_legend = [p for p in cores_pais.keys() if p in db['pais'].unique()]\n",
    "colors_legend = [cores_pais[p] for p in family_legend]\n",
    "\n",
    "# charts\n",
    "g1 = alt.Chart(db, title=\"Collection's temporal evolution per country (ex. Brazil)\", \n",
    "               width=600, height=300).mark_line(point=True).encode(\n",
    "    x= alt.X('ano_coleta', type=\"ordinal\", title='Sampling Year',\n",
    "             scale= alt.Scale(domain=sorted(list(teste['ano_coleta'].unique())))),\n",
    "    y= alt.Y('cumulative_sum', title='', \n",
    "             sort=alt.EncodingSortField('counts', op=\"count\", order='descending'),\n",
    "             scale= alt.Scale(domain=[0,150])\n",
    "            ),\n",
    "    color= alt.Color('pais:N', title='Country', \n",
    "                legend= alt.Legend(columns=2, symbolLimit=42),\n",
    "                scale= alt.Scale(domain=family_legend, \n",
    "                                 range=colors_legend)),\n",
    "    tooltip= alt.Tooltip(['continente', 'pais','ano_coleta','counts', 'cumulative_sum']),\n",
    "    detail= alt.Detail('pais:N'),\n",
    "    opacity= alt.condition(select_country, alt.value(1), alt.value(0.05))\n",
    ").add_selection(select_country).transform_filter(select_country).transform_filter(select_continent)\n",
    "\n",
    "g2 = alt.Chart(db, title=\"Collection's temporal evolution per country (ex. Brazil)\", \n",
    "               width=600, height=300).mark_line(point=True).encode(\n",
    "    x= alt.X('ano_coleta', type=\"ordinal\", title='Sampling Year',\n",
    "             scale= alt.Scale(domain=sorted(list(teste['ano_coleta'].unique())))),\n",
    "    y= alt.Y('cumulative_sum', title='', \n",
    "             sort=alt.EncodingSortField('counts', op=\"count\", order='descending'),\n",
    "             scale= alt.Scale(domain=[0,150])\n",
    "            ),\n",
    "    color= alt.Color('continente:N', title='Continent', \n",
    "                legend= alt.Legend(columns=2, symbolLimit=42),\n",
    "                scale= alt.Scale(domain=list(cores_continente.keys()), \n",
    "                                 range=list(cores_continente.values()))),\n",
    "    tooltip= alt.Tooltip(['continente', 'pais','ano_coleta','counts', 'cumulative_sum']),\n",
    "    detail= alt.Detail('pais:N'),\n",
    "    opacity= alt.condition(select_country, alt.value(1), alt.value(0.05))\n",
    ").add_selection(select_continent).transform_filter(select_continent)\n",
    "\n",
    "\n",
    "# creating layers (to make different selectors work together)\n",
    "chart = alt.layer(g2, g1).resolve_scale('independent').configure_title(fontSize=16).configure_axis(\n",
    "    labelFontSize=12,\n",
    "    titleFontSize=12\n",
    ").configure_legend(\n",
    "    labelFontSize=12,\n",
    "    titleFontSize=12\n",
    ")\n",
    "\n",
    "# chart.save('./graphs/cumCounts/time-spacial/evolution_per_country-TEST.html')\n",
    "# chart"
   ]
  },
  {
   "cell_type": "markdown",
   "metadata": {},
   "source": [
    "### Chart: all countries (ex. Brasil)"
   ]
  },
  {
   "cell_type": "code",
   "execution_count": 30,
   "metadata": {
    "ExecuteTime": {
     "end_time": "2021-02-15T19:16:32.588074Z",
     "start_time": "2021-02-15T19:16:32.566554Z"
    }
   },
   "outputs": [],
   "source": [
    "# database - filtering out Brazil\n",
    "db = teste[teste['pais'] != 'Brasil']\n",
    "\n",
    "# country selector\n",
    "select_country = alt.selection_multi(fields=['pais'], bind='legend')\n",
    "\n",
    "# chart\n",
    "g1 = alt.Chart(db, title=\"Collection's temporal evolution per country (ex. Brazil)\", \n",
    "width=600).mark_line(point=True).encode(\n",
    "    x= alt.X('ano_coleta', type=\"ordinal\", title='Sampling Year',\n",
    "            scale= alt.Scale(domain=list(sorted(teste['ano_coleta'].unique())))),\n",
    "    y= alt.Y('cumulative_sum', title='', \n",
    "             sort=alt.EncodingSortField('counts', op=\"count\", order='descending'),\n",
    "            scale= alt.Scale(domain=[0,120])),\n",
    "    color= alt.Color('pais:N', title='Country',\n",
    "                     legend= alt.Legend(columns=2, symbolLimit=42),\n",
    "                     scale= alt.Scale(domain=list(cores_pais.keys()), range=list(cores_pais.values()))),\n",
    "    tooltip= alt.Tooltip(['pais','ano_coleta','counts', 'cumulative_sum']),\n",
    "#     opacity= alt.condition(select_country, alt.value(1), alt.value(0))\n",
    ").add_selection(select_country).transform_filter(select_country)\n",
    "\n",
    "g1 = g1.configure_title(fontSize=16).configure_axis(\n",
    "    labelFontSize=12,\n",
    "    titleFontSize=12\n",
    ").configure_legend(\n",
    "    labelFontSize=12,\n",
    "    titleFontSize=12\n",
    ")\n",
    "\n",
    "# g1.save('./graphs/cumCounts/time-spacial/temporal_evolution_per_country-exBrazil.html')\n",
    "# g1"
   ]
  },
  {
   "cell_type": "markdown",
   "metadata": {},
   "source": [
    "<br>\n",
    "\n",
    "### Chart: only South America countries"
   ]
  },
  {
   "cell_type": "code",
   "execution_count": 34,
   "metadata": {
    "ExecuteTime": {
     "end_time": "2021-02-15T19:18:22.527310Z",
     "start_time": "2021-02-15T19:18:22.509317Z"
    },
    "scrolled": false
   },
   "outputs": [],
   "source": [
    "# database\n",
    "db = teste[teste['continente'] == 'América do Sul']\n",
    "\n",
    "# country selector\n",
    "select_country = alt.selection_multi(fields=['pais'], bind='legend')\n",
    "\n",
    "\n",
    "g1 = alt.Chart(db, \n",
    "               title=\"Collection's temporal evolution per South America countries\",\n",
    "width=600).mark_line(point=True).encode(\n",
    "    x= alt.X('ano_coleta', type=\"ordinal\", title='Sampling Year',\n",
    "            scale= alt.Scale(domain=list(sorted(teste['ano_coleta'].unique())))),\n",
    "    y= alt.Y('cumulative_sum', title='', \n",
    "             sort=alt.EncodingSortField('counts', op=\"count\", order='descending'),\n",
    "            scale= alt.Scale(domain=[0,20000])),\n",
    "    color= alt.Color('pais:N', title='Country',\n",
    "                     legend= alt.Legend(columns=2),\n",
    "                     scale= alt.Scale(domain=list(cores_AS.keys()), range=list(cores_AS.values()))),\n",
    "    tooltip= alt.Tooltip(['pais','ano_coleta','counts']),\n",
    "#     opacity= alt.condition(select_country, alt.value(1), alt.value(0))\n",
    ").add_selection(select_country).transform_filter(select_country)\n",
    "\n",
    "g1 = g1.configure_title(fontSize=16).configure_axis(\n",
    "    labelFontSize=12,\n",
    "    titleFontSize=12\n",
    ").configure_legend(\n",
    "    labelFontSize=12,\n",
    "    titleFontSize=12\n",
    ")\n",
    "\n",
    "# g1.save('./graphs/cumCounts/time-spacial/temporal_evolution_per_country-SouthAmerica.html')\n",
    "# g1"
   ]
  },
  {
   "cell_type": "markdown",
   "metadata": {},
   "source": [
    "### Chart: South America countries (ex. Brasil)"
   ]
  },
  {
   "cell_type": "code",
   "execution_count": 37,
   "metadata": {
    "ExecuteTime": {
     "end_time": "2021-02-15T19:20:01.065174Z",
     "start_time": "2021-02-15T19:20:01.045874Z"
    }
   },
   "outputs": [],
   "source": [
    "# removing Brasil from country list\n",
    "countries_AS_exBr = [c for c in cores_AS.keys() if c != 'Brasil']\n",
    "cores_AS_exBr = [cores_AS[c] for c in countries_AS_exBr]\n",
    "\n",
    "# country selector\n",
    "select_country = alt.selection_multi(fields=['pais'], bind='legend')\n",
    "\n",
    "g1 = alt.Chart(teste[(teste['continente'] == 'América do Sul') & (teste['pais'] != 'Brasil')], \n",
    "               title=\"Collection's temporal evolution per South America country (ex. Brazil)\",\n",
    "width=600).mark_line(point=True).encode(\n",
    "    x= alt.X('ano_coleta', type=\"ordinal\", title='Sampling Year',\n",
    "            scale= alt.Scale(domain=list(sorted(teste['ano_coleta'].unique())))),\n",
    "    y= alt.Y('cumulative_sum', title='', \n",
    "             sort=alt.EncodingSortField('counts', op=\"count\", order='descending'),\n",
    "            scale= alt.Scale(domain=[0,120])),\n",
    "    color= alt.Color('pais:N', title='Country',\n",
    "                     legend= alt.Legend(columns=2),\n",
    "                     scale= alt.Scale(domain=countries_AS_exBr, range=cores_AS_exBr)),\n",
    "    tooltip= alt.Tooltip(['pais','ano_coleta','counts']),\n",
    "#     opacity= alt.condition(select_country, alt.value(1), alt.value(0))\n",
    ").add_selection(select_country).transform_filter(select_country)\n",
    "\n",
    "g1 = g1.configure_title(fontSize=16).configure_axis(\n",
    "    labelFontSize=12,\n",
    "    titleFontSize=12\n",
    ").configure_legend(\n",
    "    labelFontSize=12,\n",
    "    titleFontSize=12\n",
    ")\n",
    "\n",
    "# g1.save('./graphs/cumCounts/time-spacial/temporal_evolution_per_country-SouthAmerica-exBrazil.html')\n",
    "# g1"
   ]
  },
  {
   "cell_type": "markdown",
   "metadata": {},
   "source": [
    "<br>\n",
    "\n",
    "## Counting per Brazilian State"
   ]
  },
  {
   "cell_type": "code",
   "execution_count": 38,
   "metadata": {
    "ExecuteTime": {
     "end_time": "2021-02-15T19:20:04.577688Z",
     "start_time": "2021-02-15T19:20:04.511254Z"
    }
   },
   "outputs": [],
   "source": [
    "# filtering for Brazil, only\n",
    "teste2 = NewTable[NewTable['pais'] == 'Brasil']\n",
    "teste2 = teste2.groupby(['ano_coleta','estado_ou_provincia', 'ordem']).count()['class'].reset_index().rename(columns={\n",
    "    'class':'counts'\n",
    "})"
   ]
  },
  {
   "cell_type": "markdown",
   "metadata": {},
   "source": [
    "### creating column with brazilian regions"
   ]
  },
  {
   "cell_type": "code",
   "execution_count": 39,
   "metadata": {
    "ExecuteTime": {
     "end_time": "2021-02-15T19:20:05.630175Z",
     "start_time": "2021-02-15T19:20:05.612305Z"
    }
   },
   "outputs": [],
   "source": [
    "regioes = {\n",
    "    'Rio de Janeiro':'SE',\n",
    "    'São Paulo':'SE',\n",
    "    'Espírito Santo': 'SE',\n",
    "    'Pernambuco':'NE',\n",
    "    'Santa Catarina':'S',\n",
    "    'Amazonas':'N',\n",
    "    'Goiás':'CO',\n",
    "    'Roraima':'N',\n",
    "    'Pará':'N',\n",
    "    'Mato Grosso':'CO',\n",
    "    'Acre': 'N',\n",
    "    'Bahia': 'NE',\n",
    "    'Minas Gerais': 'SE',\n",
    "    'Mato Grosso do Sul': 'CO',\n",
    "    'Paraná': 'S',\n",
    "    'Rondônia': 'N',\n",
    "    'Ceará': 'NE',\n",
    "    'Maranhão': 'N',\n",
    "    'Rio Grande do Sul': 'S',\n",
    "    'Paraíba': 'NE',\n",
    "    'Distrito Federal': 'CO',\n",
    "    'Alagoas': 'NE',\n",
    "    'Amapá':'N',\n",
    "    'Piauí': 'NE',\n",
    "    'Brasília': 'CO',\n",
    "    'Tocantins': 'N',\n",
    "    'Rio Grande do Norte': 'NE',\n",
    "    'Sergipe': 'NE',\n",
    "    'Minas Gerais/Goiás/Distrito Federal': 'CO',\n",
    "    'Santa Catarina-Rio Grande do Sul': 'S'\n",
    "}\n",
    "\n",
    "# criando coluna com as regiões\n",
    "teste2['regiao'] = teste2['estado_ou_provincia'].apply(lambda x: regioes[str(x)])\n",
    "\n",
    "# coluna com estado, regiao\n",
    "teste2['regiao_e_estado'] = teste2['estado_ou_provincia'] + ', ' + teste2['regiao']\n",
    "\n",
    "# ordenando por região e soma das contagens\n",
    "sorting = teste2.groupby(['regiao_e_estado', 'regiao']).sum()['counts'].reset_index(\n",
    "                                                                ).rename(columns={'counts':'soma'})\n",
    "sorting = sorting.sort_values(['regiao','soma'], ascending=False)['regiao_e_estado'].unique()"
   ]
  },
  {
   "cell_type": "code",
   "execution_count": 40,
   "metadata": {
    "ExecuteTime": {
     "end_time": "2021-02-15T19:20:07.365666Z",
     "start_time": "2021-02-15T19:20:07.355371Z"
    }
   },
   "outputs": [],
   "source": [
    "# OBS: variável teste2 tem as informações que precisamos (vide gráfico de contagem por região - time_spacial)\n",
    "teste = teste2.groupby(['ano_coleta','regiao_e_estado']).count()['ordem'].reset_index().rename(columns={\n",
    "    'ordem':'counts'\n",
    "})\n",
    "\n",
    "teste = teste.sort_values(['regiao_e_estado', 'ano_coleta'])"
   ]
  },
  {
   "cell_type": "code",
   "execution_count": 41,
   "metadata": {
    "ExecuteTime": {
     "end_time": "2021-02-15T19:20:07.650298Z",
     "start_time": "2021-02-15T19:20:07.613474Z"
    }
   },
   "outputs": [],
   "source": [
    "# cumulatively counting\n",
    "cumSum = []\n",
    "for reg_est in teste['regiao_e_estado'].unique():\n",
    "    cumSum.extend(list(teste[teste['regiao_e_estado'] == reg_est]['counts'].cumsum()))\n",
    "    \n",
    "teste['cumulative_sum'] = cumSum"
   ]
  },
  {
   "cell_type": "code",
   "execution_count": 42,
   "metadata": {
    "ExecuteTime": {
     "end_time": "2021-02-15T19:20:07.956055Z",
     "start_time": "2021-02-15T19:20:07.944104Z"
    }
   },
   "outputs": [],
   "source": [
    "teste['estado'] = teste['regiao_e_estado'].apply(lambda x:x.split(',')[0])\n",
    "teste['regiao'] = teste['regiao_e_estado'].apply(lambda x:x.split(',')[1].strip())"
   ]
  },
  {
   "cell_type": "markdown",
   "metadata": {},
   "source": [
    "### Chart: cumulative counts per Brazilian State"
   ]
  },
  {
   "cell_type": "code",
   "execution_count": 43,
   "metadata": {
    "ExecuteTime": {
     "end_time": "2021-02-15T19:20:15.784673Z",
     "start_time": "2021-02-15T19:20:15.782141Z"
    }
   },
   "outputs": [],
   "source": [
    "# independent legend (use only if needed)\n",
    "# teste['ones'] = 1\n",
    "# \n",
    "# select_region = alt.selection_multi(fields=['regiao'], bind='legend')\n",
    "# \n",
    "# legend_reg = alt.Chart(teste).mark_point(filled=True, size=100).encode(\n",
    "#     x= alt.X('ones:O', title='', axis=None),\n",
    "#     y= alt.Y('regiao:N', title='', sort= ['N', 'NE', 'CO', 'SE', 'S'],\n",
    "#             axis= alt.Axis(orient= 'right', labels=True, grid=False, ticks=False, domain=False)),\n",
    "#     color= alt.condition(select_region, \n",
    "#                          alt.Color('regiao:N',\n",
    "#                            scale= alt.Scale(domain= list(cores_regioes.keys()),\n",
    "#                                range= list(cores_regioes.values()))),\n",
    "#                          alt.value('lightgray'))\n",
    "# #     opacity= alt.condition(select_region, alt.value(1), alt.value(0.5))\n",
    "# ).add_selection(select_region)\n",
    "# \n",
    "# legend_reg"
   ]
  },
  {
   "cell_type": "code",
   "execution_count": 49,
   "metadata": {
    "ExecuteTime": {
     "end_time": "2021-02-15T19:21:26.592753Z",
     "start_time": "2021-02-15T19:21:26.573968Z"
    },
    "scrolled": false
   },
   "outputs": [],
   "source": [
    "select_state = alt.selection_multi(fields=['estado'], bind='legend')\n",
    "\n",
    "g1 = alt.Chart(teste, title=\"Collection's temporal evolution per Brazilian State\", \n",
    "               width=600).mark_line(point=True).encode(\n",
    "    x= alt.X('ano_coleta', type=\"ordinal\", title='Sampling Year',\n",
    "             scale= alt.Scale(domain=sorted(list(teste['ano_coleta'].unique())))),\n",
    "    y= alt.Y('cumulative_sum', title='', \n",
    "             sort=alt.EncodingSortField('counts', op=\"count\", order='descending'),\n",
    "             scale= alt.Scale(domain=[0,140])),\n",
    "    color= alt.Color('estado:N', title='State', \n",
    "                legend= alt.Legend(columns=2, symbolLimit=42),\n",
    "                scale= alt.Scale(domain=list(cores_estados.keys()), range=list(cores_estados.values()))),\n",
    "    tooltip= alt.Tooltip(['regiao', 'estado','ano_coleta','counts', 'cumulative_sum']),\n",
    "#     opacity= alt.condition(select_region, alt.value(1), alt.value(0.2))\n",
    ").add_selection(select_state).transform_filter(select_state)\n",
    "\n",
    "g1 = g1.configure_title(fontSize=16).configure_axis(\n",
    "    labelFontSize=12,\n",
    "    titleFontSize=12\n",
    ").configure_legend(\n",
    "    labelFontSize=12,\n",
    "    titleFontSize=12\n",
    ").configure_view(strokeWidth=0)\n",
    "\n",
    "# g1.save('./graphs/cumCounts/time-spacial/temporal_evolution_per_state.html')\n",
    "# g1"
   ]
  },
  {
   "cell_type": "markdown",
   "metadata": {},
   "source": [
    "<br>\n",
    "\n",
    "<font color='red' size='5'>TEST</font>\n",
    "\n",
    "Chart with multiple selectors"
   ]
  },
  {
   "cell_type": "code",
   "execution_count": 53,
   "metadata": {
    "ExecuteTime": {
     "end_time": "2021-02-15T19:23:19.236079Z",
     "start_time": "2021-02-15T19:23:19.183549Z"
    },
    "scrolled": false
   },
   "outputs": [],
   "source": [
    "# selectors\n",
    "select_region = alt.selection_multi(fields=['regiao'], bind='legend')\n",
    "select_state = alt.selection_multi(fields=['estado'], bind='legend')\n",
    "\n",
    "\n",
    "# charts\n",
    "g1 = alt.Chart(teste, title=\"Collection's temporal evolution per Brazilian State\", width=600).mark_line(point=True).encode(\n",
    "    x= alt.X('ano_coleta', type=\"ordinal\", title='Sampling Year',\n",
    "             scale= alt.Scale(domain=sorted(list(teste['ano_coleta'].unique())))),\n",
    "    y= alt.Y('cumulative_sum', title='', \n",
    "             sort=alt.EncodingSortField('counts', op=\"count\", order='descending'),\n",
    "             scale= alt.Scale(domain=[0,140])),\n",
    "    color= alt.Color('estado:N', title='State', \n",
    "                legend= alt.Legend(columns=2, symbolLimit=42),\n",
    "                scale= alt.Scale(domain=list(cores_estados.keys()), range=list(cores_estados.values()))),\n",
    "    tooltip= alt.Tooltip(['regiao', 'estado','ano_coleta','counts', 'cumulative_sum']),\n",
    "    detail= alt.Detail('estado:N'),\n",
    "    opacity= alt.condition(select_state, alt.value(1), alt.value(0.05))\n",
    ").add_selection(select_state).transform_filter(select_state).transform_filter(select_region)\n",
    "\n",
    "g2 = alt.Chart(teste, title=\"Collection's temporal evolution per Brazilian State\", width=600).mark_line(point=True).encode(\n",
    "    x= alt.X('ano_coleta', type=\"ordinal\", title='Sampling Year',\n",
    "             scale= alt.Scale(domain=sorted(list(teste['ano_coleta'].unique())))),\n",
    "    y= alt.Y('cumulative_sum', title='', \n",
    "             sort=alt.EncodingSortField('counts', op=\"count\", order='descending'),\n",
    "             scale= alt.Scale(domain=[0,140])),\n",
    "    color= alt.Color('regiao:N', title='Region', \n",
    "                legend= alt.Legend(columns=5, symbolLimit=42),\n",
    "                scale= alt.Scale(domain=list(cores_regioes.keys()), range=list(cores_regioes.values()))),\n",
    "    tooltip= alt.Tooltip(['regiao', 'estado','ano_coleta','counts', 'cumulative_sum']),\n",
    "    detail= alt.Detail('estado:N'),\n",
    "    opacity= alt.condition(select_state, alt.value(1), alt.value(0.05))\n",
    ").add_selection(select_region).transform_filter(select_region)\n",
    "\n",
    "\n",
    "# creating layers (to make different selectors work together)\n",
    "chart = alt.layer(g2, g1).resolve_scale('independent').configure_title(fontSize=16).configure_axis(\n",
    "    labelFontSize=12,\n",
    "    titleFontSize=12\n",
    ").configure_legend(\n",
    "    labelFontSize=12,\n",
    "    titleFontSize=12\n",
    ")\n",
    "\n",
    "# chart.save('./graphs/cumCounts/time-spacial/temporal_evolution_per_state_and_region.html')\n",
    "# chart"
   ]
  },
  {
   "cell_type": "markdown",
   "metadata": {},
   "source": [
    "<br>\n",
    "\n",
    "### Chart: cumulative counts per Brazilian Region"
   ]
  },
  {
   "cell_type": "code",
   "execution_count": 54,
   "metadata": {
    "ExecuteTime": {
     "end_time": "2021-02-15T19:23:22.422043Z",
     "start_time": "2021-02-15T19:23:22.409086Z"
    }
   },
   "outputs": [],
   "source": [
    "temp = teste2.groupby(['ano_coleta','regiao']).count()['ordem'].reset_index().rename(columns={\n",
    "    'ordem':'counts'\n",
    "})\n",
    "\n",
    "temp = temp.sort_values(['regiao', 'ano_coleta'])"
   ]
  },
  {
   "cell_type": "code",
   "execution_count": 55,
   "metadata": {
    "ExecuteTime": {
     "end_time": "2021-02-15T19:23:23.016838Z",
     "start_time": "2021-02-15T19:23:22.996961Z"
    }
   },
   "outputs": [],
   "source": [
    "# cumulatively counting\n",
    "cumSum = []\n",
    "for reg in temp['regiao'].unique():\n",
    "    cumSum.extend(list(temp[temp['regiao'] == reg]['counts'].cumsum()))\n",
    "    \n",
    "temp['cumulative_sum'] = cumSum"
   ]
  },
  {
   "cell_type": "code",
   "execution_count": 58,
   "metadata": {
    "ExecuteTime": {
     "end_time": "2021-02-15T19:24:27.266640Z",
     "start_time": "2021-02-15T19:24:27.249830Z"
    },
    "scrolled": false
   },
   "outputs": [],
   "source": [
    "select_region = alt.selection_multi(fields=['regiao'], bind='legend')\n",
    "\n",
    "g1 = alt.Chart(temp, title=\"Collection's temporal evolution per Brazilian Region\", \n",
    "               width=600).mark_line(point=True).encode(\n",
    "    x= alt.X('ano_coleta', type=\"ordinal\", title='Sampling Year',\n",
    "             scale= alt.Scale(domain=sorted(list(teste['ano_coleta'].unique())))),\n",
    "    y= alt.Y('cumulative_sum', title='', \n",
    "             sort=alt.EncodingSortField('counts', op=\"count\", order='descending'),\n",
    "             scale= alt.Scale(domain=[0,350])),\n",
    "    color= alt.Color('regiao:N', title='Region', \n",
    "                        legend= alt.Legend(columns=1, symbolLimit=42),\n",
    "                     scale= alt.Scale(domain=list(cores_regioes.keys()), range=list(cores_regioes.values()))),\n",
    "    tooltip= alt.Tooltip(['regiao','ano_coleta','counts', 'cumulative_sum']),\n",
    "#     opacity= alt.condition(select_country, alt.value(1), alt.value(0))\n",
    ").add_selection(select_region).transform_filter(select_region)\n",
    "\n",
    "g1 = g1.configure_title(fontSize=16).configure_axis(\n",
    "    labelFontSize=12,\n",
    "    titleFontSize=12\n",
    ").configure_legend(\n",
    "    labelFontSize=12,\n",
    "    titleFontSize=12\n",
    ")\n",
    "\n",
    "# g1.save('./graphs/cumCounts/time-spacial/temporal_evolution_per_region.html')\n",
    "# g1"
   ]
  },
  {
   "cell_type": "markdown",
   "metadata": {},
   "source": [
    "<br>\n",
    "\n",
    "**That's it!**"
   ]
  }
 ],
 "metadata": {
  "kernelspec": {
   "display_name": "Python 3",
   "language": "python",
   "name": "python3"
  },
  "language_info": {
   "codemirror_mode": {
    "name": "ipython",
    "version": 3
   },
   "file_extension": ".py",
   "mimetype": "text/x-python",
   "name": "python",
   "nbconvert_exporter": "python",
   "pygments_lexer": "ipython3",
   "version": "3.9.1"
  },
  "toc": {
   "base_numbering": 1,
   "nav_menu": {},
   "number_sections": true,
   "sideBar": true,
   "skip_h1_title": false,
   "title_cell": "Table of Contents",
   "title_sidebar": "Contents",
   "toc_cell": false,
   "toc_position": {},
   "toc_section_display": true,
   "toc_window_display": false
  },
  "varInspector": {
   "cols": {
    "lenName": 16,
    "lenType": 16,
    "lenVar": 40
   },
   "kernels_config": {
    "python": {
     "delete_cmd_postfix": "",
     "delete_cmd_prefix": "del ",
     "library": "var_list.py",
     "varRefreshCmd": "print(var_dic_list())"
    },
    "r": {
     "delete_cmd_postfix": ") ",
     "delete_cmd_prefix": "rm(",
     "library": "var_list.r",
     "varRefreshCmd": "cat(var_dic_list()) "
    }
   },
   "position": {
    "height": "374px",
    "left": "1266px",
    "right": "20px",
    "top": "230px",
    "width": "350px"
   },
   "types_to_exclude": [
    "module",
    "function",
    "builtin_function_or_method",
    "instance",
    "_Feature"
   ],
   "window_display": false
  }
 },
 "nbformat": 4,
 "nbformat_minor": 4
}
