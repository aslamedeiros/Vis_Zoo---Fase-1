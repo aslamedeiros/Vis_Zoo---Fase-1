{
 "cells": [
  {
   "cell_type": "markdown",
   "metadata": {},
   "source": [
    "# 1 - Data Treatment\n",
    "\n",
    "In this notebook I'm doing all the data treatments and adjustments necessary to produce high quality visualizations. \n",
    "\n",
    "This notebook has an output <font color='blue'>treated_db.csv</font> with a subset of the original database properly treated.\n",
    "\n",
    "-----\n",
    "\n",
    "Specifically, for the `repteis` database, the file we'll read is <font color='blue'>Compilacao Livros Repteis - 2 a 10 - 2020_04_28.xls</font>\n",
    "\n",
    "<font color='red'>**p.s.:** the idea is to transform all the code in this notebook into a `.py` file with a CLI interface to parse a file and produce a treated csv file right away. </font>"
   ]
  },
  {
   "cell_type": "markdown",
   "metadata": {},
   "source": [
    "## Imports"
   ]
  },
  {
   "cell_type": "code",
   "execution_count": 1,
   "metadata": {
    "ExecuteTime": {
     "end_time": "2020-07-29T19:35:19.481349Z",
     "start_time": "2020-07-29T19:35:18.814346Z"
    }
   },
   "outputs": [],
   "source": [
    "import datetime\n",
    "import numpy as np\n",
    "import pandas as pd\n",
    "\n",
    "from collections import defaultdict\n",
    "\n",
    "# quick visualizations for data analytics\n",
    "import seaborn as sns\n",
    "import matplotlib.pyplot as plt\n",
    "\n",
    "# proprietary functions in ./src/MNViz.py\n",
    "from src.MNViz import *"
   ]
  },
  {
   "cell_type": "markdown",
   "metadata": {},
   "source": [
    "## Importing data"
   ]
  },
  {
   "cell_type": "code",
   "execution_count": 2,
   "metadata": {
    "ExecuteTime": {
     "end_time": "2020-07-29T19:35:22.605383Z",
     "start_time": "2020-07-29T19:35:21.237426Z"
    }
   },
   "outputs": [
    {
     "name": "stdout",
     "output_type": "stream",
     "text": [
      "The excel file contains the following sheets: ['Repteis-2020-02-11-csv']\n",
      "\n",
      "Database is in sheet: Repteis-2020-02-11-csv\n"
     ]
    }
   ],
   "source": [
    "excel = pd.ExcelFile('./data/Compilacao Livros Repteis - 2 a 10 - 2020_04_28.xls')\n",
    "sheet_name = excel.sheet_names\n",
    "\n",
    "print('The excel file contains the following sheets:', sheet_name)\n",
    "print('\\nDatabase is in sheet:', sheet_name[0])"
   ]
  },
  {
   "cell_type": "code",
   "execution_count": 3,
   "metadata": {
    "ExecuteTime": {
     "end_time": "2020-07-29T19:35:24.803297Z",
     "start_time": "2020-07-29T19:35:23.425040Z"
    }
   },
   "outputs": [
    {
     "name": "stdout",
     "output_type": "stream",
     "text": [
      "The database has 23119 rows and 114 columns.\n"
     ]
    }
   ],
   "source": [
    "db = excel.parse(sheet_name[0], sep=';', encoding='utf-8-sig')\n",
    "repteis = db.copy()\n",
    "\n",
    "print(f'The database has {db.shape[0]} rows and {db.shape[1]} columns.')"
   ]
  },
  {
   "cell_type": "markdown",
   "metadata": {},
   "source": [
    "## Adjusting column names\n",
    "\n",
    "### removing '\\n', '\\t', and other special characters"
   ]
  },
  {
   "cell_type": "code",
   "execution_count": 4,
   "metadata": {
    "ExecuteTime": {
     "end_time": "2020-07-29T19:35:26.043433Z",
     "start_time": "2020-07-29T19:35:26.039033Z"
    }
   },
   "outputs": [],
   "source": [
    "repteis.columns = [str(col).replace(r'\\n','') for col in repteis.columns]"
   ]
  },
  {
   "cell_type": "code",
   "execution_count": 5,
   "metadata": {
    "ExecuteTime": {
     "end_time": "2020-07-29T19:35:26.873738Z",
     "start_time": "2020-07-29T19:35:26.861673Z"
    }
   },
   "outputs": [
    {
     "name": "stdout",
     "output_type": "stream",
     "text": [
      "CollectorLastName1\n",
      "CollectorFirstName1\n",
      "CollectorMiddleName1\n",
      "CollectorLastName2\n",
      "CollectorFirstName2\n",
      "CollectorMiddleName2\n",
      "CollectorLastName3\n",
      "CollectorFirstName3\n",
      "CollectorMiddleName3\n",
      "CollectorLastName4\n",
      "CollectorFirstName4\n",
      "CollectorMiddleName4\n",
      "CollectorLastName5\n",
      "CollectorFirstName5\n",
      "CollectorMiddleName5\n",
      "CollectorLastName6\n",
      "CollectorFirstName6\n",
      "CollectorMiddleName6\n",
      "CollectorLastName7\n",
      "CollectorFirstName7\n",
      "CollectorMiddleName7\n",
      "CollectorLastName8\n",
      "CollectorFirstName8\n",
      "CollectorMiddleName8\n",
      "CollectorRemark\n"
     ]
    }
   ],
   "source": [
    "for col in repteis.columns:\n",
    "    if 'collector' in col.lower():\n",
    "        print(col)"
   ]
  },
  {
   "cell_type": "markdown",
   "metadata": {
    "ExecuteTime": {
     "end_time": "2020-07-29T18:51:12.632272Z",
     "start_time": "2020-07-29T18:51:12.627636Z"
    }
   },
   "source": [
    "## Adjusting Determiners and Collectors Names"
   ]
  },
  {
   "cell_type": "code",
   "execution_count": 6,
   "metadata": {
    "ExecuteTime": {
     "end_time": "2020-07-29T19:35:30.702373Z",
     "start_time": "2020-07-29T19:35:30.697602Z"
    }
   },
   "outputs": [],
   "source": [
    "names_col = ['DeterminatorLastName1', 'DeterminatorFirstName1', 'DeterminatorLastName2',\n",
    "             'DeterminatorFirstName2', 'CollectorLastName1', 'CollectorFirstName1', \n",
    "             'CollectorLastName2', 'CollectorFirstName2', 'CollectorLastName3', 'CollectorFirstName3',\n",
    "             'CollectorLastName4', 'CollectorFirstName4', 'CollectorLastName5', 'CollectorFirstName5',\n",
    "             'CollectorLastName6', 'CollectorFirstName6']"
   ]
  },
  {
   "cell_type": "code",
   "execution_count": 7,
   "metadata": {
    "ExecuteTime": {
     "end_time": "2020-07-29T19:35:31.662341Z",
     "start_time": "2020-07-29T19:35:31.444109Z"
    }
   },
   "outputs": [],
   "source": [
    "for name_col in names_col:\n",
    "    if 'last' in name_col.lower():\n",
    "        repteis[name_col] = repteis[name_col].apply(lambda x: treat_names(x, pos='last'))\n",
    "    else:\n",
    "        repteis[name_col] = repteis[name_col].apply(treat_names)"
   ]
  },
  {
   "cell_type": "markdown",
   "metadata": {},
   "source": [
    "### creating column joining First and Last names"
   ]
  },
  {
   "cell_type": "code",
   "execution_count": 8,
   "metadata": {
    "ExecuteTime": {
     "end_time": "2020-07-29T19:35:34.227366Z",
     "start_time": "2020-07-29T19:35:34.225058Z"
    }
   },
   "outputs": [],
   "source": [
    "# fazer depois (olhar notebook que usa o nome dos pesquisadores e inserir tratamento aqui)"
   ]
  },
  {
   "cell_type": "markdown",
   "metadata": {},
   "source": [
    "## Treating taxon columns"
   ]
  },
  {
   "cell_type": "code",
   "execution_count": 9,
   "metadata": {
    "ExecuteTime": {
     "end_time": "2020-07-29T19:35:36.884848Z",
     "start_time": "2020-07-29T19:35:36.709843Z"
    }
   },
   "outputs": [
    {
     "name": "stdout",
     "output_type": "stream",
     "text": [
      "Adjusting column Kingdom\n",
      "Adjusting column Phylum\n",
      "Adjusting column Class\n",
      "Adjusting column Ordem\n",
      "Adjusting column Familia\n",
      "Adjusting column Genero_ent\n",
      "Adjusting column Genero_atual\n",
      "Adjusting column Especie_ent\n",
      "Adjusting column Especie_atual\n",
      "Adjusting column Subespecie_ent\n",
      "Adjusting column Subespecie_atual\n"
     ]
    }
   ],
   "source": [
    "taxon_columns = ['Kingdom', 'Phylum', 'Class', 'Ordem', 'Familia', 'Genero_ent',\n",
    "                 'Genero_atual', 'Especie_ent', 'Especie_atual', 'Subespecie_ent',\n",
    "                 'Subespecie_atual']  # selecting taxonomy columns\n",
    "\n",
    "treat_taxon_columns(repteis, taxon_columns)"
   ]
  },
  {
   "cell_type": "code",
   "execution_count": 10,
   "metadata": {
    "ExecuteTime": {
     "end_time": "2020-07-29T19:35:38.952550Z",
     "start_time": "2020-07-29T19:35:38.941320Z"
    }
   },
   "outputs": [
    {
     "data": {
      "text/plain": [
       "Animalia    23119\n",
       "Name: Kingdom, dtype: int64"
      ]
     },
     "execution_count": 10,
     "metadata": {},
     "output_type": "execute_result"
    }
   ],
   "source": [
    "repteis['Kingdom'].value_counts()"
   ]
  },
  {
   "cell_type": "markdown",
   "metadata": {},
   "source": [
    "## Catching Year"
   ]
  },
  {
   "cell_type": "code",
   "execution_count": 11,
   "metadata": {
    "ExecuteTime": {
     "end_time": "2020-07-29T19:35:40.746023Z",
     "start_time": "2020-07-29T19:35:40.639509Z"
    }
   },
   "outputs": [],
   "source": [
    "repteis['ano_determinacao'] = repteis['DataDaDeterminacao'].apply(catch_year)\n",
    "repteis['ano_coleta'] = repteis['DataColetaInicial'].apply(catch_year)\n",
    "repteis['ano_entrada'] = repteis['DataDeEntrada'].apply(catch_year)"
   ]
  },
  {
   "cell_type": "code",
   "execution_count": 12,
   "metadata": {
    "ExecuteTime": {
     "end_time": "2020-07-29T19:35:42.399477Z",
     "start_time": "2020-07-29T19:35:42.202073Z"
    }
   },
   "outputs": [],
   "source": [
    "repteis['ano_determinacao'] = repteis['ano_determinacao'].apply(str_with_nan2int) #has NaN\n",
    "repteis['ano_coleta'] = repteis['ano_coleta'].apply(str_with_nan2int) #has NaN\n",
    "repteis['ano_entrada'] = repteis['ano_entrada'].apply(str_with_nan2int) #has NaN"
   ]
  },
  {
   "cell_type": "code",
   "execution_count": null,
   "metadata": {},
   "outputs": [],
   "source": []
  }
 ],
 "metadata": {
  "kernelspec": {
   "display_name": "Python [conda env:viz] *",
   "language": "python",
   "name": "conda-env-viz-py"
  },
  "language_info": {
   "codemirror_mode": {
    "name": "ipython",
    "version": 3
   },
   "file_extension": ".py",
   "mimetype": "text/x-python",
   "name": "python",
   "nbconvert_exporter": "python",
   "pygments_lexer": "ipython3",
   "version": "3.8.2"
  },
  "latex_envs": {
   "LaTeX_envs_menu_present": true,
   "autoclose": false,
   "autocomplete": true,
   "bibliofile": "biblio.bib",
   "cite_by": "apalike",
   "current_citInitial": 1,
   "eqLabelWithNumbers": true,
   "eqNumInitial": 1,
   "hotkeys": {
    "equation": "Ctrl-E",
    "itemize": "Ctrl-I"
   },
   "labels_anchors": false,
   "latex_user_defs": false,
   "report_style_numbering": false,
   "user_envs_cfg": false
  },
  "varInspector": {
   "cols": {
    "lenName": 16,
    "lenType": 16,
    "lenVar": 40
   },
   "kernels_config": {
    "python": {
     "delete_cmd_postfix": "",
     "delete_cmd_prefix": "del ",
     "library": "var_list.py",
     "varRefreshCmd": "print(var_dic_list())"
    },
    "r": {
     "delete_cmd_postfix": ") ",
     "delete_cmd_prefix": "rm(",
     "library": "var_list.r",
     "varRefreshCmd": "cat(var_dic_list()) "
    }
   },
   "types_to_exclude": [
    "module",
    "function",
    "builtin_function_or_method",
    "instance",
    "_Feature"
   ],
   "window_display": false
  }
 },
 "nbformat": 4,
 "nbformat_minor": 4
}
