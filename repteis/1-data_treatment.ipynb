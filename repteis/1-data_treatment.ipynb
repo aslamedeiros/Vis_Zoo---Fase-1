{
 "cells": [
  {
   "cell_type": "markdown",
   "metadata": {},
   "source": [
    "# Data Treatment (Repteis Database)\n",
    "\n",
    "In this notebook I'm doing all the data treatments and adjustments necessary to produce high quality visualizations. \n",
    "\n",
    "This notebook has an output <font color='blue'>treated_db.csv</font> with a subset of the original database properly treated.\n",
    "\n",
    "-----\n",
    "\n",
    "Specifically, for the `repteis` database, the file we'll read is <font color='blue'>Compilacao Livros Repteis - 2 a 10 - 2020_04_28.xls</font>\n",
    "\n",
    "<font color='red'>**p.s.:** the idea is to transform all the code in this notebook into a `.py` file with a CLI interface to parse a file and produce a treated csv file right away. </font>\n",
    "\n",
    "is it feasible? as we're selecting plenty different columns... maybe selecting them from a .txt file might be a good solution"
   ]
  },
  {
   "cell_type": "markdown",
   "metadata": {},
   "source": [
    "<br>\n",
    "\n",
    "<font size='5'>**Equivalência de colunas:** Repteis e Crustaceas</font>\n",
    "\n",
    "**Nome diferente:** <br>\n",
    "- Species1: Especie_ent ou Especie_atual\n",
    "- Species Author1: ?\n",
    "- Type Status1: Type Status 1\n",
    "- Qualifier1: Qualificador_ent Qualificador_atual\n",
    "- Determiner First Name1: DeterminatorFirstName1\n",
    "- Determiner Middle1: DeterminatorMiddleInitial1\n",
    "- Determiner Last Name1: DeterminatorLastName1\n",
    "- Determined Date1: DataDaDeterminacao"
   ]
  },
  {
   "cell_type": "markdown",
   "metadata": {},
   "source": [
    "## Imports"
   ]
  },
  {
   "cell_type": "code",
   "execution_count": 1,
   "metadata": {
    "ExecuteTime": {
     "end_time": "2020-08-01T19:29:48.993830Z",
     "start_time": "2020-08-01T19:29:47.695676Z"
    }
   },
   "outputs": [],
   "source": [
    "import datetime\n",
    "import numpy as np\n",
    "import pandas as pd\n",
    "\n",
    "from collections import defaultdict\n",
    "\n",
    "# quick visualizations for data analytics\n",
    "import seaborn as sns\n",
    "import matplotlib.pyplot as plt\n",
    "\n",
    "# proprietary functions in ./src/MNViz.py\n",
    "from src.MNViz import *"
   ]
  },
  {
   "cell_type": "markdown",
   "metadata": {},
   "source": [
    "## Importing data"
   ]
  },
  {
   "cell_type": "code",
   "execution_count": 2,
   "metadata": {
    "ExecuteTime": {
     "end_time": "2020-08-01T19:29:50.788271Z",
     "start_time": "2020-08-01T19:29:49.000816Z"
    }
   },
   "outputs": [
    {
     "name": "stdout",
     "output_type": "stream",
     "text": [
      "The excel file contains the following sheets: ['Repteis-2020-02-11-csv']\n",
      "\n",
      "Database is in sheet: Repteis-2020-02-11-csv\n"
     ]
    }
   ],
   "source": [
    "excel = pd.ExcelFile('./data/Compilacao Livros Repteis - 2 a 10 - 2020_04_28.xls')\n",
    "sheet_name = excel.sheet_names\n",
    "\n",
    "print('The excel file contains the following sheets:', sheet_name)\n",
    "print('\\nDatabase is in sheet:', sheet_name[0])"
   ]
  },
  {
   "cell_type": "code",
   "execution_count": 3,
   "metadata": {
    "ExecuteTime": {
     "end_time": "2020-08-01T19:29:52.857574Z",
     "start_time": "2020-08-01T19:29:50.791071Z"
    }
   },
   "outputs": [
    {
     "name": "stdout",
     "output_type": "stream",
     "text": [
      "The database has 23119 rows and 114 columns.\n"
     ]
    }
   ],
   "source": [
    "db = excel.parse(sheet_name[0], sep=';', encoding='utf-8-sig')\n",
    "repteis = db.copy()\n",
    "\n",
    "print(f'The database has {db.shape[0]} rows and {db.shape[1]} columns.')"
   ]
  },
  {
   "cell_type": "markdown",
   "metadata": {},
   "source": [
    "## Adjusting column names\n",
    "\n",
    "### removing '\\n', '\\t', and other special characters"
   ]
  },
  {
   "cell_type": "code",
   "execution_count": 4,
   "metadata": {
    "ExecuteTime": {
     "end_time": "2020-08-01T19:29:52.870460Z",
     "start_time": "2020-08-01T19:29:52.860436Z"
    }
   },
   "outputs": [],
   "source": [
    "repteis.columns = [str(col).replace(r'\\n','') for col in repteis.columns]"
   ]
  },
  {
   "cell_type": "code",
   "execution_count": 5,
   "metadata": {
    "ExecuteTime": {
     "end_time": "2020-08-01T19:29:52.978532Z",
     "start_time": "2020-08-01T19:29:52.873749Z"
    }
   },
   "outputs": [],
   "source": [
    "# for col in repteis.columns:\n",
    "#     if 'collector' in col.lower():\n",
    "#         print(col)"
   ]
  },
  {
   "cell_type": "markdown",
   "metadata": {
    "ExecuteTime": {
     "end_time": "2020-07-29T18:51:12.632272Z",
     "start_time": "2020-07-29T18:51:12.627636Z"
    }
   },
   "source": [
    "## Adjusting Determiners and Collectors Names"
   ]
  },
  {
   "cell_type": "code",
   "execution_count": 6,
   "metadata": {
    "ExecuteTime": {
     "end_time": "2020-08-01T19:29:53.075016Z",
     "start_time": "2020-08-01T19:29:52.991295Z"
    }
   },
   "outputs": [],
   "source": [
    "names_col = ['DeterminatorLastName1', 'DeterminatorFirstName1', 'DeterminatorLastName2',\n",
    "             'DeterminatorFirstName2', 'CollectorLastName1', 'CollectorFirstName1', \n",
    "             'CollectorLastName2', 'CollectorFirstName2', 'CollectorLastName3', 'CollectorFirstName3',\n",
    "             'CollectorLastName4', 'CollectorFirstName4', 'CollectorLastName5', 'CollectorFirstName5',\n",
    "             'CollectorLastName6', 'CollectorFirstName6']"
   ]
  },
  {
   "cell_type": "code",
   "execution_count": 7,
   "metadata": {
    "ExecuteTime": {
     "end_time": "2020-08-01T19:29:53.454647Z",
     "start_time": "2020-08-01T19:29:53.083215Z"
    }
   },
   "outputs": [],
   "source": [
    "for name_col in names_col:\n",
    "    if 'last' in name_col.lower():\n",
    "        repteis[name_col] = repteis[name_col].apply(lambda x: treat_names(x, pos='last'))\n",
    "    else:\n",
    "        repteis[name_col] = repteis[name_col].apply(treat_names)"
   ]
  },
  {
   "cell_type": "markdown",
   "metadata": {},
   "source": [
    "### creating column joining First and Last names\n",
    "\n",
    "I'm doing this only for the first collectors and determiners"
   ]
  },
  {
   "cell_type": "code",
   "execution_count": 8,
   "metadata": {
    "ExecuteTime": {
     "end_time": "2020-08-01T19:29:53.521590Z",
     "start_time": "2020-08-01T19:29:53.458442Z"
    }
   },
   "outputs": [],
   "source": [
    "repteis['DeterminatorFirst_and_LastName'] = repteis['DeterminatorFirstName1'] + ' ' + repteis['DeterminatorLastName1']\n",
    "\n",
    "repteis['CollectorFirst_and_LastName'] = repteis['CollectorFirstName1'] + ' ' + repteis['CollectorLastName1']"
   ]
  },
  {
   "cell_type": "markdown",
   "metadata": {},
   "source": [
    "## Treating taxon columns"
   ]
  },
  {
   "cell_type": "code",
   "execution_count": 9,
   "metadata": {
    "ExecuteTime": {
     "end_time": "2020-08-01T19:29:53.856548Z",
     "start_time": "2020-08-01T19:29:53.524035Z"
    }
   },
   "outputs": [
    {
     "name": "stdout",
     "output_type": "stream",
     "text": [
      "Adjusting column Kingdom\n",
      "Adjusting column Phylum\n",
      "Adjusting column Class\n",
      "Adjusting column Ordem\n",
      "Adjusting column Familia\n",
      "Adjusting column Genero_ent\n",
      "Adjusting column Genero_atual\n",
      "Adjusting column Especie_ent\n",
      "Adjusting column Especie_atual\n",
      "Adjusting column Subespecie_ent\n",
      "Adjusting column Subespecie_atual\n"
     ]
    }
   ],
   "source": [
    "taxon_columns = ['Kingdom', 'Phylum', 'Class', 'Ordem', 'Familia', 'Genero_ent',\n",
    "                 'Genero_atual', 'Especie_ent', 'Especie_atual', 'Subespecie_ent',\n",
    "                 'Subespecie_atual']  # selecting taxonomy columns\n",
    "\n",
    "treat_taxon_columns(repteis, taxon_columns)"
   ]
  },
  {
   "cell_type": "markdown",
   "metadata": {},
   "source": [
    "## Adjusting Gender and Species"
   ]
  },
  {
   "cell_type": "code",
   "execution_count": 10,
   "metadata": {
    "ExecuteTime": {
     "end_time": "2020-08-01T19:29:53.908677Z",
     "start_time": "2020-08-01T19:29:53.858458Z"
    }
   },
   "outputs": [],
   "source": [
    "# dica da Manoela: epiteto especifico deve ser todo minusculo (especie e subespecie, nesse caso)\n",
    "repteis['Especie_atual'] = repteis['Especie_atual'].str.lower()\n",
    "repteis['Subespecie_atual'] = repteis['Subespecie_atual'].str.lower()"
   ]
  },
  {
   "cell_type": "markdown",
   "metadata": {
    "ExecuteTime": {
     "end_time": "2020-08-01T16:38:50.984971Z",
     "start_time": "2020-08-01T16:38:50.966700Z"
    }
   },
   "source": [
    "<br>\n",
    "\n",
    "## adding `Genero` and `Especie`together (they completely identify each animal's species)"
   ]
  },
  {
   "cell_type": "code",
   "execution_count": 11,
   "metadata": {
    "ExecuteTime": {
     "end_time": "2020-08-01T19:29:54.087629Z",
     "start_time": "2020-08-01T19:29:53.912292Z"
    }
   },
   "outputs": [],
   "source": [
    "repteis['genero_e_especie_ent'] = repteis['Genero_ent'] + ' ' + repteis['Especie_ent']\n",
    "repteis['genero_e_especie_atual'] = repteis['Genero_atual'] + ' ' + repteis['Especie_atual']\n",
    "\n",
    "repteis['genero_e_especie_ent'] = repteis['genero_e_especie_ent'].str.lower().str.capitalize()\n",
    "repteis['genero_e_especie_atual'] = repteis['genero_e_especie_atual'].str.lower().str.capitalize()"
   ]
  },
  {
   "cell_type": "markdown",
   "metadata": {},
   "source": [
    "## Catching Month and Year"
   ]
  },
  {
   "cell_type": "markdown",
   "metadata": {},
   "source": [
    "date_columns= ['DataDeEntrada','DataDaDeterminacao','DataColetaInicial'] "
   ]
  },
  {
   "cell_type": "code",
   "execution_count": 12,
   "metadata": {
    "ExecuteTime": {
     "end_time": "2020-08-01T19:29:54.375941Z",
     "start_time": "2020-08-01T19:29:54.089420Z"
    }
   },
   "outputs": [],
   "source": [
    "repteis['ano_determinacao'] = repteis['DataDaDeterminacao'].apply(lambda x: getMonthAndYear(x)[-1])\n",
    "repteis['ano_coleta'] = repteis['DataColetaInicial'].apply(lambda x: getMonthAndYear(x)[-1])\n",
    "repteis['ano_entrada'] = repteis['DataDeEntrada'].apply(lambda x: getMonthAndYear(x)[-1])\n",
    "\n",
    "repteis['mes_determinacao'] = repteis['DataDaDeterminacao'].apply(lambda x: getMonthAndYear(x)[0])\n",
    "repteis['mes_coleta'] = repteis['DataColetaInicial'].apply(lambda x: getMonthAndYear(x)[0])\n",
    "repteis['mes_entrada'] = repteis['DataDeEntrada'].apply(lambda x: getMonthAndYear(x)[0])"
   ]
  },
  {
   "cell_type": "markdown",
   "metadata": {},
   "source": [
    "converting to int"
   ]
  },
  {
   "cell_type": "code",
   "execution_count": 13,
   "metadata": {
    "ExecuteTime": {
     "end_time": "2020-08-01T19:29:54.754284Z",
     "start_time": "2020-08-01T19:29:54.386173Z"
    }
   },
   "outputs": [],
   "source": [
    "repteis['ano_determinacao'] = repteis['ano_determinacao'].apply(str_with_nan2int) #has NaN\n",
    "repteis['ano_coleta'] = repteis['ano_coleta'].apply(str_with_nan2int) #has NaN\n",
    "repteis['ano_entrada'] = repteis['ano_entrada'].apply(str_with_nan2int) #has NaN\n",
    "\n",
    "repteis['mes_determinacao'] = repteis['mes_determinacao'].apply(str_with_nan2int) #has NaN\n",
    "repteis['mes_coleta'] = repteis['mes_coleta'].apply(str_with_nan2int) #has NaN\n",
    "repteis['mes_entrada'] = repteis['mes_entrada'].apply(str_with_nan2int) #has NaN"
   ]
  },
  {
   "cell_type": "markdown",
   "metadata": {},
   "source": [
    "<br>\n",
    "\n",
    "## Adjusting `Altitude` column\n",
    "\n",
    "<font color='red'>**p.s.:** I'm assuming it's all on the same measure unit (in meters) </font>"
   ]
  },
  {
   "cell_type": "code",
   "execution_count": 14,
   "metadata": {
    "ExecuteTime": {
     "end_time": "2020-08-01T19:29:54.828377Z",
     "start_time": "2020-08-01T19:29:54.756506Z"
    }
   },
   "outputs": [],
   "source": [
    "repteis['altitude'] = repteis['MinAltitude'].str.extract('(\\d+)')\n",
    "repteis['max_altitude'] = repteis['MaxAltitude'].str.extract('(\\d+)')"
   ]
  },
  {
   "cell_type": "markdown",
   "metadata": {},
   "source": [
    "<br>\n",
    "\n",
    "## Adjusting Latitude and Longitude"
   ]
  },
  {
   "cell_type": "code",
   "execution_count": 15,
   "metadata": {
    "ExecuteTime": {
     "end_time": "2020-08-01T19:29:55.044790Z",
     "start_time": "2020-08-01T19:29:54.836206Z"
    }
   },
   "outputs": [],
   "source": [
    "repteis['Lat'] = repteis['Lat'].apply(convert2float)\n",
    "repteis['Long'] = repteis['Long'].apply(convert2float)"
   ]
  },
  {
   "cell_type": "markdown",
   "metadata": {},
   "source": [
    "<br>\n",
    "\n",
    "## Creating column with brazilian regions"
   ]
  },
  {
   "cell_type": "code",
   "execution_count": null,
   "metadata": {},
   "outputs": [],
   "source": [
    "repteis['regiao'] = repteis['EstadoOuProvincia'].apply(brazilian_region)"
   ]
  },
  {
   "cell_type": "markdown",
   "metadata": {},
   "source": [
    "<br>\n",
    "\n",
    "## Adjusting Types (`NotasTaxonomicas`)"
   ]
  },
  {
   "cell_type": "code",
   "execution_count": 16,
   "metadata": {
    "ExecuteTime": {
     "end_time": "2020-08-01T19:29:55.056593Z",
     "start_time": "2020-08-01T19:29:55.051397Z"
    }
   },
   "outputs": [],
   "source": [
    "# inserir depois\n",
    "# repteis['Type Status 1'].str.strip().str.lower().str.capitalize()"
   ]
  },
  {
   "cell_type": "markdown",
   "metadata": {},
   "source": [
    "<br>\n",
    "\n",
    "## Adjusting `Ordem` column"
   ]
  },
  {
   "cell_type": "code",
   "execution_count": 17,
   "metadata": {
    "ExecuteTime": {
     "end_time": "2020-08-01T19:29:55.175767Z",
     "start_time": "2020-08-01T19:29:55.058654Z"
    }
   },
   "outputs": [],
   "source": [
    "repteis['Ordem'] = repteis['Ordem'].apply(correct_squamata)\n",
    "repteis['Ordem'] = repteis['Ordem'].apply(correct_nd)"
   ]
  },
  {
   "cell_type": "markdown",
   "metadata": {},
   "source": [
    "<br>\n",
    "\n",
    "## Selecting Subset of Main DB"
   ]
  },
  {
   "cell_type": "code",
   "execution_count": 18,
   "metadata": {
    "ExecuteTime": {
     "end_time": "2020-08-01T19:29:55.215402Z",
     "start_time": "2020-08-01T19:29:55.184536Z"
    }
   },
   "outputs": [],
   "source": [
    "# 'genero_e_especie_ent', 'genero_e_especie_atual'\n",
    "selected_columns = ['NumeroDeCatalogo','DataDeEntrada','DataDaDeterminacao','DataColetaInicial',\n",
    "                    'ano_entrada', 'mes_entrada', 'ano_determinacao', 'mes_determinacao',\n",
    "                    'ano_coleta', 'mes_coleta',\n",
    "                    'Class','Kingdom', \n",
    "                    'Genero_ent', 'Genero_atual', 'Especie_ent', 'Especie_atual','Subespecie_atual','Type Status 1',\n",
    "                    'DeterminatorFirstName1', 'DeterminatorLastName1','DeterminatorFirst_and_LastName',\n",
    "                    'CollectorFirst_and_LastName', 'altitude', 'max_altitude',\n",
    "                    'Ordem', 'Familia', 'Phylum', 'Qualificador_atual', 'NotasTaxonomicas',\n",
    "                    'Lat', 'Long', 'Municipio', \n",
    "                    'EstadoOuProvincia', 'Pais', 'Continente', 'regiao']"
   ]
  },
  {
   "cell_type": "code",
   "execution_count": 19,
   "metadata": {
    "ExecuteTime": {
     "end_time": "2020-08-01T19:29:55.470777Z",
     "start_time": "2020-08-01T19:29:55.226383Z"
    }
   },
   "outputs": [],
   "source": [
    "NewTable = repteis[selected_columns].copy()"
   ]
  },
  {
   "cell_type": "markdown",
   "metadata": {},
   "source": [
    "## Renaming columns\n",
    "\n",
    "Setting new standardized column names to facilitate future steps."
   ]
  },
  {
   "cell_type": "code",
   "execution_count": 20,
   "metadata": {
    "ExecuteTime": {
     "end_time": "2020-08-01T19:29:55.485262Z",
     "start_time": "2020-08-01T19:29:55.472941Z"
    }
   },
   "outputs": [],
   "source": [
    "renames = {\n",
    "    'NumeroDeCatalogo':'numero_catalogo',\n",
    "    'DataDeEntrada':'data_entrada',\n",
    "    'DataDaDeterminacao':'data_determinacao',\n",
    "    'DataColetainicial':'data_coleta',\n",
    "    'Class':'class',\n",
    "    'Kingdom':'kingdom',\n",
    "    'Genero_ent':'genero_ent',\n",
    "    'Genero_atual':'genero_atual',\n",
    "    'Especie_ent':'especie_ent',\n",
    "    'Especie_atual':'especie_atual',\n",
    "    'Subespecie_atual':'subespecie_atual',\n",
    "    'Type Status 1':'type',\n",
    "    'Ordem':'ordem',\n",
    "    'Familia':'familia',\n",
    "    'Phylum':'phylum',\n",
    "    'Qualificador_atual':'qualificador_atual',\n",
    "    'NotasTaxonomicas':'notas_taxonomicas',\n",
    "    'Lat':'lat',\n",
    "    'Long':'long', \n",
    "    'Municipio':'municipio', \n",
    "    'EstadoOuProvincia':'estado_ou_provincia',\n",
    "    'Pais':'pais', \n",
    "    'Continente':'continente',\n",
    "    'DeterminatorFirst_and_LastName':'determinator_full_name',\n",
    "    'CollectorFirst_and_LastName':'collector_full_name'\n",
    "}"
   ]
  },
  {
   "cell_type": "code",
   "execution_count": 21,
   "metadata": {
    "ExecuteTime": {
     "end_time": "2020-08-01T19:29:55.682889Z",
     "start_time": "2020-08-01T19:29:55.487443Z"
    }
   },
   "outputs": [],
   "source": [
    "NewTable = NewTable.rename(columns=renames)"
   ]
  },
  {
   "cell_type": "markdown",
   "metadata": {},
   "source": [
    "<br>\n",
    "\n",
    "## Exporting to `CSV`\n",
    "\n",
    "name: <font color='blue'>./src/treated_db.csv</font>\n",
    "sep: ';'\n",
    "encoding: 'utf-8-sig'"
   ]
  },
  {
   "cell_type": "code",
   "execution_count": 22,
   "metadata": {
    "ExecuteTime": {
     "end_time": "2020-08-01T19:29:56.656207Z",
     "start_time": "2020-08-01T19:29:55.698448Z"
    }
   },
   "outputs": [],
   "source": [
    "NewTable.to_csv('./data/treated_db.csv', sep=';', encoding='utf-8-sig')"
   ]
  }
 ],
 "metadata": {
  "kernelspec": {
   "display_name": "Python [conda env:viz] *",
   "language": "python",
   "name": "conda-env-viz-py"
  },
  "language_info": {
   "codemirror_mode": {
    "name": "ipython",
    "version": 3
   },
   "file_extension": ".py",
   "mimetype": "text/x-python",
   "name": "python",
   "nbconvert_exporter": "python",
   "pygments_lexer": "ipython3",
   "version": "3.8.2"
  },
  "latex_envs": {
   "LaTeX_envs_menu_present": true,
   "autoclose": false,
   "autocomplete": true,
   "bibliofile": "biblio.bib",
   "cite_by": "apalike",
   "current_citInitial": 1,
   "eqLabelWithNumbers": true,
   "eqNumInitial": 1,
   "hotkeys": {
    "equation": "Ctrl-E",
    "itemize": "Ctrl-I"
   },
   "labels_anchors": false,
   "latex_user_defs": false,
   "report_style_numbering": false,
   "user_envs_cfg": false
  },
  "varInspector": {
   "cols": {
    "lenName": 16,
    "lenType": 16,
    "lenVar": 40
   },
   "kernels_config": {
    "python": {
     "delete_cmd_postfix": "",
     "delete_cmd_prefix": "del ",
     "library": "var_list.py",
     "varRefreshCmd": "print(var_dic_list())"
    },
    "r": {
     "delete_cmd_postfix": ") ",
     "delete_cmd_prefix": "rm(",
     "library": "var_list.r",
     "varRefreshCmd": "cat(var_dic_list()) "
    }
   },
   "types_to_exclude": [
    "module",
    "function",
    "builtin_function_or_method",
    "instance",
    "_Feature"
   ],
   "window_display": false
  }
 },
 "nbformat": 4,
 "nbformat_minor": 4
}
