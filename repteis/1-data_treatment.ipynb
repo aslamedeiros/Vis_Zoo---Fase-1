{
 "cells": [
  {
   "cell_type": "markdown",
   "metadata": {},
   "source": [
    "# Data Treatment (Repteis Database)\n",
    "\n",
    "In this notebook I'm doing all the data treatments and adjustments necessary to produce high quality visualizations. \n",
    "\n",
    "This notebook has an output <font color='blue'>treated_db.csv</font> with a subset of the original database properly treated.\n",
    "\n",
    "-----\n",
    "\n",
    "Specifically, for the `repteis` database, the file we'll read is <font color='blue'>Compilacao Livros Repteis - 2 a 10 - 2020_04_28.xls</font>\n",
    "\n",
    "<font color='red'>**p.s.:** the idea is to transform all the code in this notebook into a `.py` file with a CLI interface to parse a file and produce a treated csv file right away. </font>\n",
    "\n",
    "is it feasible? as we're selecting plenty different columns... maybe selecting them from a .txt file might be a good solution"
   ]
  },
  {
   "cell_type": "markdown",
   "metadata": {},
   "source": [
    "<br>\n",
    "\n",
    "<font size='5'>**Equivalência de colunas:** Repteis e Crustaceas</font>\n",
    "\n",
    "**Nome diferente:** <br>\n",
    "- Species1: Especie_ent ou Especie_atual\n",
    "- Species Author1: ?\n",
    "- Type Status1: Type Status 1\n",
    "- Qualifier1: Qualificador_ent Qualificador_atual\n",
    "- Determiner First Name1: DeterminatorFirstName1\n",
    "- Determiner Middle1: DeterminatorMiddleInitial1\n",
    "- Determiner Last Name1: DeterminatorLastName1\n",
    "- Determined Date1: DataDaDeterminacao"
   ]
  },
  {
   "cell_type": "markdown",
   "metadata": {},
   "source": [
    "## Imports"
   ]
  },
  {
   "cell_type": "code",
   "execution_count": 1,
   "metadata": {
    "ExecuteTime": {
     "end_time": "2020-08-29T15:27:41.505436Z",
     "start_time": "2020-08-29T15:27:40.539824Z"
    }
   },
   "outputs": [],
   "source": [
    "import datetime\n",
    "import unidecode\n",
    "import numpy as np\n",
    "import pandas as pd\n",
    "\n",
    "from collections import defaultdict\n",
    "\n",
    "# quick visualizations for data analytics\n",
    "import seaborn as sns\n",
    "import matplotlib.pyplot as plt\n",
    "\n",
    "# proprietary functions in ./src/MNViz.py\n",
    "from src.MNViz import *"
   ]
  },
  {
   "cell_type": "markdown",
   "metadata": {},
   "source": [
    "## Importing data"
   ]
  },
  {
   "cell_type": "code",
   "execution_count": 2,
   "metadata": {
    "ExecuteTime": {
     "end_time": "2020-08-29T15:27:43.091303Z",
     "start_time": "2020-08-29T15:27:41.507732Z"
    }
   },
   "outputs": [
    {
     "name": "stdout",
     "output_type": "stream",
     "text": [
      "The excel file contains the following sheets: ['Repteis-2020-02-11-csv']\n",
      "\n",
      "Database is in sheet: Repteis-2020-02-11-csv\n"
     ]
    }
   ],
   "source": [
    "# excel = pd.ExcelFile('./data/Compilacao Livros Repteis - 2 a 10 - 2020_04_28.xls')\n",
    "# excel = pd.ExcelFile('./data/Compilacao Livros Repteis - 2 a 10 - 2020_04_28 _ com subordens e perdidos incendio.xls')\n",
    "excel = pd.ExcelFile(\n",
    "    './data/Compilacao Livros Repteis - 2 a 10 - 2020_09_27 _ com subordens e perdidos incendio e tipos.xlsx')\n",
    "sheet_name = excel.sheet_names\n",
    "\n",
    "print('The excel file contains the following sheets:', sheet_name)\n",
    "print('\\nDatabase is in sheet:', sheet_name[0])"
   ]
  },
  {
   "cell_type": "code",
   "execution_count": 3,
   "metadata": {
    "ExecuteTime": {
     "end_time": "2020-08-29T15:27:44.817126Z",
     "start_time": "2020-08-29T15:27:43.100542Z"
    }
   },
   "outputs": [
    {
     "name": "stdout",
     "output_type": "stream",
     "text": [
      "The database has 23132 rows and 119 columns.\n"
     ]
    }
   ],
   "source": [
    "db = excel.parse(sheet_name[0], sep=';', encoding='utf-8-sig')\n",
    "repteis = db.copy()\n",
    "\n",
    "print(f'The database has {db.shape[0]} rows and {db.shape[1]} columns.')"
   ]
  },
  {
   "cell_type": "markdown",
   "metadata": {},
   "source": [
    "## Adjusting column names\n",
    "\n",
    "### removing '\\n', '\\t', and other special characters"
   ]
  },
  {
   "cell_type": "code",
   "execution_count": 4,
   "metadata": {
    "ExecuteTime": {
     "end_time": "2020-08-29T15:27:44.830930Z",
     "start_time": "2020-08-29T15:27:44.820344Z"
    }
   },
   "outputs": [],
   "source": [
    "repteis.columns = [str(col).replace(r'\\n','') for col in repteis.columns]"
   ]
  },
  {
   "cell_type": "code",
   "execution_count": 5,
   "metadata": {
    "ExecuteTime": {
     "end_time": "2020-08-29T15:27:44.924153Z",
     "start_time": "2020-08-29T15:27:44.833951Z"
    }
   },
   "outputs": [],
   "source": [
    "# for col in repteis.columns:\n",
    "#     if 'collector' in col.lower():\n",
    "#         print(col)"
   ]
  },
  {
   "cell_type": "markdown",
   "metadata": {
    "ExecuteTime": {
     "end_time": "2020-07-29T18:51:12.632272Z",
     "start_time": "2020-07-29T18:51:12.627636Z"
    }
   },
   "source": [
    "## Adjusting Determiners and Collectors Names"
   ]
  },
  {
   "cell_type": "code",
   "execution_count": 6,
   "metadata": {
    "ExecuteTime": {
     "end_time": "2020-08-29T15:27:44.998652Z",
     "start_time": "2020-08-29T15:27:44.928361Z"
    }
   },
   "outputs": [],
   "source": [
    "names_col = ['DeterminatorLastName1', 'DeterminatorFirstName1', 'DeterminatorLastName2',\n",
    "             'DeterminatorFirstName2', 'CollectorLastName1', 'CollectorFirstName1', \n",
    "             'CollectorLastName2', 'CollectorFirstName2', 'CollectorLastName3', 'CollectorFirstName3',\n",
    "             'CollectorLastName4', 'CollectorFirstName4', 'CollectorLastName5', 'CollectorFirstName5',\n",
    "             'CollectorLastName6', 'CollectorFirstName6']"
   ]
  },
  {
   "cell_type": "code",
   "execution_count": 7,
   "metadata": {
    "ExecuteTime": {
     "end_time": "2020-08-29T15:27:45.329370Z",
     "start_time": "2020-08-29T15:27:45.002244Z"
    }
   },
   "outputs": [],
   "source": [
    "for name_col in names_col:\n",
    "    if 'last' in name_col.lower():\n",
    "        repteis[name_col] = repteis[name_col].apply(lambda x: treat_names(x, pos='last'))\n",
    "    else:\n",
    "        repteis[name_col] = repteis[name_col].apply(treat_names)"
   ]
  },
  {
   "cell_type": "markdown",
   "metadata": {},
   "source": [
    "### creating column joining First and Last names\n",
    "\n",
    "I'm doing this only for the first collectors and determiners"
   ]
  },
  {
   "cell_type": "code",
   "execution_count": 8,
   "metadata": {
    "ExecuteTime": {
     "end_time": "2020-08-29T15:27:45.378701Z",
     "start_time": "2020-08-29T15:27:45.334427Z"
    }
   },
   "outputs": [],
   "source": [
    "repteis['DeterminatorFirst_and_LastName'] = repteis['DeterminatorFirstName1'] + ' ' + repteis['DeterminatorLastName1']\n",
    "\n",
    "repteis['CollectorFirst_and_LastName'] = repteis['CollectorFirstName1'] + ' ' + repteis['CollectorLastName1']"
   ]
  },
  {
   "cell_type": "markdown",
   "metadata": {},
   "source": [
    "## Author names..."
   ]
  },
  {
   "cell_type": "code",
   "execution_count": 14,
   "metadata": {},
   "outputs": [],
   "source": [
    "repteis['author_full'] = repteis['Autor']"
   ]
  },
  {
   "cell_type": "code",
   "execution_count": 25,
   "metadata": {},
   "outputs": [],
   "source": [
    "repteis['first_author'] = repteis['Autor'].apply(lambda x: str(x).split(',')[0])"
   ]
  },
  {
   "cell_type": "markdown",
   "metadata": {},
   "source": [
    "## Treating taxon columns"
   ]
  },
  {
   "cell_type": "code",
   "execution_count": 26,
   "metadata": {
    "ExecuteTime": {
     "end_time": "2020-08-29T15:27:45.721258Z",
     "start_time": "2020-08-29T15:27:45.384303Z"
    }
   },
   "outputs": [
    {
     "name": "stdout",
     "output_type": "stream",
     "text": [
      "Adjusting column Kingdom\n",
      "Adjusting column Phylum\n",
      "Adjusting column Class\n",
      "Adjusting column Ordem\n",
      "Adjusting column Subordem\n",
      "Adjusting column Familia\n",
      "Adjusting column Genero_ent\n",
      "Adjusting column Genero_atual\n",
      "Adjusting column Especie_ent\n",
      "Adjusting column Especie_atual\n",
      "Adjusting column Subespecie_ent\n",
      "Adjusting column Subespecie_atual\n"
     ]
    }
   ],
   "source": [
    "# adicionei Subordem para a nova base (remover se for tratar a base antiga)\n",
    "taxon_columns = ['Kingdom', 'Phylum', 'Class', 'Ordem', 'Subordem', 'Familia', 'Genero_ent',\n",
    "                 'Genero_atual', 'Especie_ent', 'Especie_atual', 'Subespecie_ent',\n",
    "                 'Subespecie_atual']  # selecting taxonomy columns\n",
    "\n",
    "treat_taxon_columns(repteis, taxon_columns)"
   ]
  },
  {
   "cell_type": "markdown",
   "metadata": {},
   "source": [
    "## Adjusting Gender and Species"
   ]
  },
  {
   "cell_type": "code",
   "execution_count": 27,
   "metadata": {
    "ExecuteTime": {
     "end_time": "2020-08-29T15:27:45.845711Z",
     "start_time": "2020-08-29T15:27:45.726633Z"
    }
   },
   "outputs": [],
   "source": [
    "# dica da Manoela: epiteto especifico deve ser todo minusculo (especie e subespecie, nesse caso)\n",
    "repteis['Especie_atual'] = repteis['Especie_atual'].str.lower()\n",
    "repteis['Subespecie_atual'] = repteis['Subespecie_atual'].str.lower()"
   ]
  },
  {
   "cell_type": "markdown",
   "metadata": {
    "ExecuteTime": {
     "end_time": "2020-08-01T16:38:50.984971Z",
     "start_time": "2020-08-01T16:38:50.966700Z"
    }
   },
   "source": [
    "<br>\n",
    "\n",
    "## adding `Genero` and `Especie`together (they completely identify each animal's species)"
   ]
  },
  {
   "cell_type": "code",
   "execution_count": 28,
   "metadata": {
    "ExecuteTime": {
     "end_time": "2020-08-29T15:27:45.943085Z",
     "start_time": "2020-08-29T15:27:45.850228Z"
    }
   },
   "outputs": [],
   "source": [
    "repteis['genero_e_especie_ent'] = repteis['Genero_ent'] + ' ' + repteis['Especie_ent']\n",
    "repteis['genero_e_especie_atual'] = repteis['Genero_atual'] + ' ' + repteis['Especie_atual']\n",
    "\n",
    "repteis['genero_e_especie_ent'] = repteis['genero_e_especie_ent'].str.lower().str.capitalize()\n",
    "repteis['genero_e_especie_atual'] = repteis['genero_e_especie_atual'].str.lower().str.capitalize()"
   ]
  },
  {
   "cell_type": "markdown",
   "metadata": {},
   "source": [
    "## Catching Month and Year"
   ]
  },
  {
   "cell_type": "markdown",
   "metadata": {},
   "source": [
    "date_columns= ['DataDeEntrada','DataDaDeterminacao','DataColetaInicial'] "
   ]
  },
  {
   "cell_type": "markdown",
   "metadata": {},
   "source": [
    "<font color='red' size='4'>Falta tratar a coluna `Ano descrição`</font>"
   ]
  },
  {
   "cell_type": "code",
   "execution_count": 29,
   "metadata": {
    "ExecuteTime": {
     "end_time": "2020-08-29T15:27:46.326956Z",
     "start_time": "2020-08-29T15:27:45.945504Z"
    }
   },
   "outputs": [],
   "source": [
    "repteis['ano_determinacao'] = repteis['DataDaDeterminacao'].apply(lambda x: getMonthAndYear(x)[-1])\n",
    "repteis['ano_coleta'] = repteis['DataColetaInicial'].apply(lambda x: getMonthAndYear(x)[-1])\n",
    "repteis['ano_entrada'] = repteis['DataDeEntrada'].apply(lambda x: getMonthAndYear(x)[-1])\n",
    "\n",
    "repteis['mes_determinacao'] = repteis['DataDaDeterminacao'].apply(lambda x: getMonthAndYear(x)[0])\n",
    "repteis['mes_coleta'] = repteis['DataColetaInicial'].apply(lambda x: getMonthAndYear(x)[0])\n",
    "repteis['mes_entrada'] = repteis['DataDeEntrada'].apply(lambda x: getMonthAndYear(x)[0])"
   ]
  },
  {
   "cell_type": "markdown",
   "metadata": {},
   "source": [
    "converting to int"
   ]
  },
  {
   "cell_type": "code",
   "execution_count": 30,
   "metadata": {
    "ExecuteTime": {
     "end_time": "2020-08-29T15:27:46.854058Z",
     "start_time": "2020-08-29T15:27:46.342884Z"
    }
   },
   "outputs": [],
   "source": [
    "repteis['ano_determinacao'] = repteis['ano_determinacao'].apply(str_with_nan2int) #has NaN\n",
    "repteis['ano_coleta'] = repteis['ano_coleta'].apply(str_with_nan2int) #has NaN\n",
    "repteis['ano_entrada'] = repteis['ano_entrada'].apply(str_with_nan2int) #has NaN\n",
    "\n",
    "repteis['mes_determinacao'] = repteis['mes_determinacao'].apply(str_with_nan2int) #has NaN\n",
    "repteis['mes_coleta'] = repteis['mes_coleta'].apply(str_with_nan2int) #has NaN\n",
    "repteis['mes_entrada'] = repteis['mes_entrada'].apply(str_with_nan2int) #has NaN"
   ]
  },
  {
   "cell_type": "markdown",
   "metadata": {},
   "source": [
    "<br>\n",
    "\n",
    "## Adjusting `Altitude` column\n",
    "\n",
    "<font color='red'>**p.s.:** I'm assuming it's all on the same measure unit (in meters) </font>"
   ]
  },
  {
   "cell_type": "code",
   "execution_count": 31,
   "metadata": {
    "ExecuteTime": {
     "end_time": "2020-08-29T15:27:46.923256Z",
     "start_time": "2020-08-29T15:27:46.855772Z"
    }
   },
   "outputs": [],
   "source": [
    "repteis['altitude'] = repteis['MinAltitude'].str.extract('(\\d+)')\n",
    "repteis['max_altitude'] = repteis['MaxAltitude'].str.extract('(\\d+)')"
   ]
  },
  {
   "cell_type": "markdown",
   "metadata": {},
   "source": [
    "<br>\n",
    "\n",
    "## Adjusting Latitude and Longitude"
   ]
  },
  {
   "cell_type": "code",
   "execution_count": 32,
   "metadata": {
    "ExecuteTime": {
     "end_time": "2020-08-29T15:27:47.080515Z",
     "start_time": "2020-08-29T15:27:46.927200Z"
    }
   },
   "outputs": [],
   "source": [
    "repteis['Lat'] = repteis['Lat'].apply(convert2float)\n",
    "repteis['Long'] = repteis['Long'].apply(convert2float)"
   ]
  },
  {
   "cell_type": "markdown",
   "metadata": {},
   "source": [
    "<br>\n",
    "\n",
    "## Creating column with brazilian regions"
   ]
  },
  {
   "cell_type": "code",
   "execution_count": 33,
   "metadata": {
    "ExecuteTime": {
     "end_time": "2020-08-29T15:30:35.936004Z",
     "start_time": "2020-08-29T15:30:35.853892Z"
    }
   },
   "outputs": [],
   "source": [
    "repteis['regiao'] = repteis['EstadoOuProvincia'].apply(brazilian_region)"
   ]
  },
  {
   "cell_type": "markdown",
   "metadata": {},
   "source": [
    "<br>\n",
    "\n",
    "## Adjusting Types (`NotasTaxonomicas`)"
   ]
  },
  {
   "cell_type": "code",
   "execution_count": 34,
   "metadata": {},
   "outputs": [],
   "source": [
    "def define_type(t):\n",
    "    t = str(t).strip().lower().capitalize()\n",
    "    \n",
    "    if t == 'Nan':\n",
    "        return np.NAN\n",
    "    else:\n",
    "        return t"
   ]
  },
  {
   "cell_type": "code",
   "execution_count": 35,
   "metadata": {
    "ExecuteTime": {
     "end_time": "2020-08-29T15:30:38.273242Z",
     "start_time": "2020-08-29T15:30:38.267381Z"
    }
   },
   "outputs": [],
   "source": [
    "repteis['type_status'] = repteis['NotasTaxonomicas'].apply(define_type)"
   ]
  },
  {
   "cell_type": "markdown",
   "metadata": {},
   "source": [
    "<br>\n",
    "\n",
    "## Adjusting `Ordem` column"
   ]
  },
  {
   "cell_type": "code",
   "execution_count": 36,
   "metadata": {
    "ExecuteTime": {
     "end_time": "2020-08-29T15:30:41.194079Z",
     "start_time": "2020-08-29T15:30:41.143072Z"
    }
   },
   "outputs": [],
   "source": [
    "repteis['Ordem'] = repteis['Ordem'].apply(correct_squamata)\n",
    "repteis['Ordem'] = repteis['Ordem'].apply(correct_nd)"
   ]
  },
  {
   "cell_type": "markdown",
   "metadata": {},
   "source": [
    "<br>\n",
    "\n",
    "## Specimens lost in the fire\n",
    "\n",
    "<font color='red'>**works only in the new database** </font>"
   ]
  },
  {
   "cell_type": "code",
   "execution_count": 37,
   "metadata": {
    "ExecuteTime": {
     "end_time": "2020-08-29T15:42:31.197888Z",
     "start_time": "2020-08-29T15:42:31.192109Z"
    }
   },
   "outputs": [],
   "source": [
    "def lost_in_fire(description):\n",
    "    '''\n",
    "    Returns 1 if that specimen was lost in the fire, 0 otherwise.\n",
    "    '''\n",
    "    description = str(description)\n",
    "    \n",
    "    # removing accents\n",
    "    description = unidecode.unidecode(description)\n",
    "    \n",
    "    if 'perdido no incendio' in description:\n",
    "        return 1\n",
    "    else:\n",
    "        return 0"
   ]
  },
  {
   "cell_type": "code",
   "execution_count": 38,
   "metadata": {
    "ExecuteTime": {
     "end_time": "2020-08-29T15:42:31.973792Z",
     "start_time": "2020-08-29T15:42:31.933043Z"
    }
   },
   "outputs": [],
   "source": [
    "repteis['lost_in_fire'] = repteis['CollectionObjectRemarks'].apply(lost_in_fire)"
   ]
  },
  {
   "cell_type": "code",
   "execution_count": 39,
   "metadata": {
    "ExecuteTime": {
     "end_time": "2020-08-29T15:42:36.814149Z",
     "start_time": "2020-08-29T15:42:36.811033Z"
    }
   },
   "outputs": [],
   "source": [
    "# checagem\n",
    "# repteis[repteis['lost_in_fire'] == 1]['CollectionObjectRemarks'].unique()"
   ]
  },
  {
   "cell_type": "markdown",
   "metadata": {},
   "source": [
    "<br>\n",
    "\n",
    "## Selecting Subset of Main DB"
   ]
  },
  {
   "cell_type": "code",
   "execution_count": 40,
   "metadata": {
    "ExecuteTime": {
     "end_time": "2020-08-29T15:42:38.475207Z",
     "start_time": "2020-08-29T15:42:38.466791Z"
    }
   },
   "outputs": [],
   "source": [
    "# 'genero_e_especie_ent', 'genero_e_especie_atual'\n",
    "selected_columns = ['NumeroDeCatalogo','DataDeEntrada','DataDaDeterminacao','DataColetaInicial',\n",
    "                    'ano_entrada', 'mes_entrada', 'ano_determinacao', 'mes_determinacao',\n",
    "                    'ano_coleta', 'mes_coleta',\n",
    "                    'Class','Kingdom', \n",
    "                    'Genero_ent', 'Genero_atual', 'Especie_ent', 'Especie_atual','Subespecie_atual','type_status',\n",
    "                    'DeterminatorFirstName1', 'DeterminatorLastName1','DeterminatorFirst_and_LastName',\n",
    "                    'CollectorFirst_and_LastName', 'altitude', 'max_altitude',\n",
    "                    'Ordem','Subordem',  'Familia', 'Phylum', 'Qualificador_atual', 'NotasTaxonomicas',\n",
    "                    'Lat', 'Long', 'Municipio', \n",
    "                    'EstadoOuProvincia', 'Pais', 'Continente', 'regiao', 'lost_in_fire',\n",
    "                    'Ano descrição', 'author_full', 'first_author']"
   ]
  },
  {
   "cell_type": "code",
   "execution_count": 41,
   "metadata": {
    "ExecuteTime": {
     "end_time": "2020-08-29T15:42:39.169654Z",
     "start_time": "2020-08-29T15:42:39.139412Z"
    }
   },
   "outputs": [],
   "source": [
    "NewTable = repteis[selected_columns].copy()"
   ]
  },
  {
   "cell_type": "markdown",
   "metadata": {},
   "source": [
    "## Renaming columns\n",
    "\n",
    "Setting new standardized column names to facilitate future steps."
   ]
  },
  {
   "cell_type": "code",
   "execution_count": 42,
   "metadata": {
    "ExecuteTime": {
     "end_time": "2020-08-29T15:42:40.229491Z",
     "start_time": "2020-08-29T15:42:40.217791Z"
    }
   },
   "outputs": [],
   "source": [
    "renames = {\n",
    "    'NumeroDeCatalogo':'numero_catalogo',\n",
    "    'DataDeEntrada':'data_entrada',\n",
    "    'DataDaDeterminacao':'data_determinacao',\n",
    "    'DataColetainicial':'data_coleta',\n",
    "    'Class':'class',\n",
    "    'Kingdom':'kingdom',\n",
    "    'Genero_ent':'genero_ent',\n",
    "    'Genero_atual':'genero_atual',\n",
    "    'Especie_ent':'especie_ent',\n",
    "    'Especie_atual':'especie_atual',\n",
    "    'Subespecie_atual':'subespecie_atual',\n",
    "    'Type Status 1':'type',\n",
    "    'Ordem':'ordem',\n",
    "    'Subordem':'subordem',\n",
    "    'Familia':'familia',\n",
    "    'Phylum':'phylum',\n",
    "    'Qualificador_atual':'qualificador_atual',\n",
    "    'NotasTaxonomicas':'notas_taxonomicas',\n",
    "    'Lat':'lat',\n",
    "    'Long':'long', \n",
    "    'Municipio':'municipio', \n",
    "    'EstadoOuProvincia':'estado_ou_provincia',\n",
    "    'Pais':'pais', \n",
    "    'Continente':'continente',\n",
    "    'DeterminatorFirst_and_LastName':'determinator_full_name',\n",
    "    'CollectorFirst_and_LastName':'collector_full_name',\n",
    "    'Ano descrição':'ano_descricao'\n",
    "}"
   ]
  },
  {
   "cell_type": "code",
   "execution_count": 43,
   "metadata": {
    "ExecuteTime": {
     "end_time": "2020-08-29T15:42:41.906561Z",
     "start_time": "2020-08-29T15:42:41.875336Z"
    }
   },
   "outputs": [],
   "source": [
    "NewTable = NewTable.rename(columns=renames)"
   ]
  },
  {
   "cell_type": "markdown",
   "metadata": {},
   "source": [
    "<br>\n",
    "\n",
    "## Exporting to `CSV`\n",
    "\n",
    "name: <font color='blue'>./src/treated_db.csv</font>\n",
    "sep: ';'\n",
    "encoding: 'utf-8-sig'"
   ]
  },
  {
   "cell_type": "code",
   "execution_count": 44,
   "metadata": {
    "ExecuteTime": {
     "end_time": "2020-08-29T15:42:43.734881Z",
     "start_time": "2020-08-29T15:42:43.279042Z"
    }
   },
   "outputs": [],
   "source": [
    "NewTable.to_csv('./data/treated_db.csv', sep=';', encoding='utf-8-sig')"
   ]
  }
 ],
 "metadata": {
  "kernelspec": {
   "display_name": "Python 3",
   "language": "python",
   "name": "python3"
  },
  "language_info": {
   "codemirror_mode": {
    "name": "ipython",
    "version": 3
   },
   "file_extension": ".py",
   "mimetype": "text/x-python",
   "name": "python",
   "nbconvert_exporter": "python",
   "pygments_lexer": "ipython3",
   "version": "3.8.3"
  },
  "latex_envs": {
   "LaTeX_envs_menu_present": true,
   "autoclose": false,
   "autocomplete": true,
   "bibliofile": "biblio.bib",
   "cite_by": "apalike",
   "current_citInitial": 1,
   "eqLabelWithNumbers": true,
   "eqNumInitial": 1,
   "hotkeys": {
    "equation": "Ctrl-E",
    "itemize": "Ctrl-I"
   },
   "labels_anchors": false,
   "latex_user_defs": false,
   "report_style_numbering": false,
   "user_envs_cfg": false
  },
  "varInspector": {
   "cols": {
    "lenName": 16,
    "lenType": 16,
    "lenVar": 40
   },
   "kernels_config": {
    "python": {
     "delete_cmd_postfix": "",
     "delete_cmd_prefix": "del ",
     "library": "var_list.py",
     "varRefreshCmd": "print(var_dic_list())"
    },
    "r": {
     "delete_cmd_postfix": ") ",
     "delete_cmd_prefix": "rm(",
     "library": "var_list.r",
     "varRefreshCmd": "cat(var_dic_list()) "
    }
   },
   "types_to_exclude": [
    "module",
    "function",
    "builtin_function_or_method",
    "instance",
    "_Feature"
   ],
   "window_display": false
  }
 },
 "nbformat": 4,
 "nbformat_minor": 4
}
