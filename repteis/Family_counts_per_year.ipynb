{
 "cells": [
  {
   "cell_type": "markdown",
   "metadata": {},
   "source": [
    "# Family counts per year\n",
    "\n",
    "By **Franklin Oliveira**\n",
    "\n",
    "-----\n",
    "This notebook contains all code necessary to make the \"type\" charts from `repteis` database. Here you'll find some basic data treatment and charts' code. \n",
    "\n",
    "Database: <font color='blue'>'Compilacao Livros Repteis - 2 a 10 - 2020_04_28.xls'</font>."
   ]
  },
  {
   "cell_type": "code",
   "execution_count": 1,
   "metadata": {
    "ExecuteTime": {
     "end_time": "2021-02-15T19:36:51.022646Z",
     "start_time": "2021-02-15T19:36:50.104106Z"
    }
   },
   "outputs": [
    {
     "data": {
      "text/plain": [
       "DataTransformerRegistry.enable('default')"
      ]
     },
     "execution_count": 1,
     "metadata": {},
     "output_type": "execute_result"
    }
   ],
   "source": [
    "import datetime\n",
    "import numpy as np\n",
    "import pandas as pd\n",
    "\n",
    "from collections import defaultdict\n",
    "\n",
    "# quick visualization\n",
    "import matplotlib.pyplot as plt\n",
    "import seaborn as sns\n",
    "\n",
    "# Waffle Charts\n",
    "# from pywaffle import Waffle \n",
    "# docs: https://pywaffle.readthedocs.io/en/latest/examples/block_shape_distance_location_and_direction.html\n",
    "\n",
    "# visualization\n",
    "import altair as alt\n",
    "\n",
    "# enabling notebook renderer\n",
    "# alt.renderers.enable('notebook')\n",
    "# alt.renderers.enable('default')\n",
    "\n",
    "# disabling rows limit\n",
    "alt.data_transformers.disable_max_rows()"
   ]
  },
  {
   "cell_type": "markdown",
   "metadata": {},
   "source": [
    "## Importing data..."
   ]
  },
  {
   "cell_type": "code",
   "execution_count": 2,
   "metadata": {
    "ExecuteTime": {
     "end_time": "2021-02-15T19:36:58.057470Z",
     "start_time": "2021-02-15T19:36:57.881166Z"
    }
   },
   "outputs": [],
   "source": [
    "NewTable = pd.read_csv('./data/treated_db.csv', sep=';', encoding='utf-8-sig', low_memory= False)"
   ]
  },
  {
   "cell_type": "markdown",
   "metadata": {},
   "source": [
    "<br>\n",
    "\n",
    "<font size=5>**Color Pallete**</font>\n",
    "\n",
    "<!-- <img src=\"./src/paleta_cores.jpeg\" width='500px'> -->\n",
    "\n",
    "<!-- Cores: \n",
    "\n",
    "- verde_escuro: #284021\n",
    "- verde_claro: #88BF11\n",
    "- amarelo: #D9CB0B\n",
    "- laranja: #D99311\n",
    "- laranja_escuro: #BF4417\n",
    "- marrom-_laro: #BF8D7A -->"
   ]
  },
  {
   "cell_type": "code",
   "execution_count": 4,
   "metadata": {
    "ExecuteTime": {
     "end_time": "2021-02-15T19:37:37.140303Z",
     "start_time": "2021-02-15T19:37:37.132965Z"
    }
   },
   "outputs": [],
   "source": [
    "# importing customized color palettes\n",
    "from src.MNViz_colors import *"
   ]
  },
  {
   "cell_type": "code",
   "execution_count": 5,
   "metadata": {
    "ExecuteTime": {
     "end_time": "2021-02-15T19:37:38.166814Z",
     "start_time": "2021-02-15T19:37:38.164093Z"
    }
   },
   "outputs": [],
   "source": [
    "# input do especialista: Caudata é um erro da base\n",
    "# cores_ordem = {\n",
    "#     'Squamata': '#BF4417',\n",
    "#     'Testudines': '#D9CB0B', \n",
    "#     'Crocodylia': '#284021',\n",
    "# }\n",
    "\n",
    "ordens = list(cores_ordem.keys())\n",
    "cores = list(cores_ordem.values())"
   ]
  },
  {
   "cell_type": "markdown",
   "metadata": {},
   "source": [
    "<br>\n",
    "\n",
    "\n",
    "## Graphs\n",
    "\n",
    "---\n",
    "### Creating chart: counts per order per year"
   ]
  },
  {
   "cell_type": "code",
   "execution_count": 6,
   "metadata": {
    "ExecuteTime": {
     "end_time": "2021-02-15T19:37:45.388876Z",
     "start_time": "2021-02-15T19:37:45.335084Z"
    }
   },
   "outputs": [],
   "source": [
    "orders = NewTable.groupby(['ano_coleta','ordem']).count()['class'].reset_index().rename(columns={'class':'counts'})\n",
    "\n",
    "orders.sort_values(['ano_coleta','ordem'], inplace=True)  # ordering"
   ]
  },
  {
   "cell_type": "code",
   "execution_count": 7,
   "metadata": {
    "ExecuteTime": {
     "end_time": "2021-02-15T19:37:47.389876Z",
     "start_time": "2021-02-15T19:37:47.383637Z"
    }
   },
   "outputs": [],
   "source": [
    "# dropping remaining NaN's\n",
    "orders = orders.dropna(subset=['ordem'])"
   ]
  },
  {
   "cell_type": "code",
   "execution_count": 12,
   "metadata": {
    "ExecuteTime": {
     "end_time": "2021-02-15T19:38:27.067920Z",
     "start_time": "2021-02-15T19:38:27.050031Z"
    }
   },
   "outputs": [],
   "source": [
    "g1 = alt.Chart(orders[orders['ordem'] != 'Caudata'],\n",
    "               width=800, height=300, title='Number of collected specimens per order each year').mark_circle(\n",
    "                                                                                color='green').encode(\n",
    "    x= alt.X('ano_coleta', type='ordinal', title='Year'),\n",
    "    y= alt.Y('ordem', type='nominal', title='Order',\n",
    "            sort= alt.EncodingSortField(field='count', op='max', order='descending')),\n",
    "    size = alt.Size('counts', scale=alt.Scale(range=[10,600])),\n",
    "    color = alt.Color('ordem', scale= alt.Scale(domain=ordens, range=cores)),\n",
    "    tooltip= alt.Tooltip(['ano_coleta', 'counts'])\n",
    ")\n",
    "\n",
    "g1 = g1.configure_title(fontSize=16).configure_axis(\n",
    "    labelFontSize=12,\n",
    "    titleFontSize=12\n",
    ").configure_legend(\n",
    "    labelFontSize=12,\n",
    "    titleFontSize=12\n",
    ")\n",
    "\n",
    "# saving graph\n",
    "# g1.save('./graphs/orders_per_year.html')\n",
    "# g1"
   ]
  },
  {
   "cell_type": "markdown",
   "metadata": {},
   "source": [
    "### number of reptiles per family per year"
   ]
  },
  {
   "cell_type": "code",
   "execution_count": 13,
   "metadata": {
    "ExecuteTime": {
     "end_time": "2021-02-15T19:38:31.222922Z",
     "start_time": "2021-02-15T19:38:31.170287Z"
    }
   },
   "outputs": [],
   "source": [
    "teste = NewTable.groupby(['familia','ano_coleta']).count()['class'].reset_index().rename(\n",
    "                                                                                    columns={'class':'counts'})\n",
    "\n",
    "teste['ano_coleta'] = teste['ano_coleta'].astype(int)"
   ]
  },
  {
   "cell_type": "markdown",
   "metadata": {},
   "source": [
    "<br>\n",
    "\n",
    "**graph:** family per year\n",
    "\n",
    "<font color='red' size=5>From this point, we're using the family color palette</font>"
   ]
  },
  {
   "cell_type": "code",
   "execution_count": 19,
   "metadata": {
    "ExecuteTime": {
     "end_time": "2021-02-15T19:40:06.774103Z",
     "start_time": "2021-02-15T19:40:06.764628Z"
    }
   },
   "outputs": [],
   "source": [
    "g1 = alt.Chart(teste,\n",
    "               width=800, height=400, title='Number of collected animals of each family per year').mark_circle(\n",
    "                                                                                size=60).encode(\n",
    "    x= alt.X('ano_coleta', type='ordinal', title='Sampling Year'),\n",
    "    y= alt.Y('familia', type='nominal', title='Family',\n",
    "            sort= alt.EncodingSortField(field='counts', op='count', order='descending')),\n",
    "    size= alt.Size('counts', title='Counts'),\n",
    "    tooltip = alt.Tooltip(['familia', 'ano_coleta', 'counts'])\n",
    ")\n",
    "\n",
    "g1 = g1.configure_title(fontSize=16).configure_axis(\n",
    "    labelFontSize=12,\n",
    "    titleFontSize=12\n",
    ").configure_legend(\n",
    "    labelFontSize=12,\n",
    "    titleFontSize=12\n",
    ")\n",
    "\n",
    "# g1.save('./graphs/families_per_year.html')\n",
    "# g1"
   ]
  },
  {
   "cell_type": "markdown",
   "metadata": {},
   "source": [
    "### Families per year (colored by order)"
   ]
  },
  {
   "cell_type": "code",
   "execution_count": 20,
   "metadata": {
    "ExecuteTime": {
     "end_time": "2021-02-15T19:40:10.430483Z",
     "start_time": "2021-02-15T19:40:10.375782Z"
    }
   },
   "outputs": [],
   "source": [
    "teste = NewTable.groupby(['familia','ordem','ano_coleta']).count()['class'].reset_index().rename(\n",
    "                                                                                    columns={'class':'counts'})\n",
    "\n",
    "teste['ano_coleta'] = teste['ano_coleta'].astype(int)"
   ]
  },
  {
   "cell_type": "code",
   "execution_count": 25,
   "metadata": {
    "ExecuteTime": {
     "end_time": "2021-02-15T19:41:43.265407Z",
     "start_time": "2021-02-15T19:41:43.250041Z"
    }
   },
   "outputs": [],
   "source": [
    "g1 = alt.Chart(teste, width=800, height=400, title='Number of collected specimens of each family per year'\n",
    "              ).mark_circle(size=60).encode(\n",
    "    x= alt.X('ano_coleta', type='ordinal', title='Sampling Year'),\n",
    "    y= alt.Y('familia', type='nominal', title='Family',\n",
    "            sort= alt.EncodingSortField(field='counts', op='count', order='descending')),\n",
    "    size= alt.Size('counts', title='Count'),\n",
    "    color = alt.Color('ordem', title= 'Order',scale= alt.Scale(domain=ordens, range=cores)),\n",
    "    tooltip = alt.Tooltip(['familia', 'ano_coleta', 'counts'])\n",
    ")\n",
    "\n",
    "g1 = g1.configure_title(fontSize=16).configure_axis(\n",
    "    labelFontSize=12,\n",
    "    titleFontSize=12\n",
    ").configure_legend(\n",
    "    labelFontSize=12,\n",
    "    titleFontSize=12\n",
    ")\n",
    "\n",
    "# g1.save('./graphs/families_per_year-by_order.html')\n",
    "# g1"
   ]
  },
  {
   "cell_type": "markdown",
   "metadata": {},
   "source": [
    "<br>\n",
    "\n",
    "### Families per year (colored by family)"
   ]
  },
  {
   "cell_type": "code",
   "execution_count": 26,
   "metadata": {
    "ExecuteTime": {
     "end_time": "2021-02-15T19:41:49.224609Z",
     "start_time": "2021-02-15T19:41:49.153974Z"
    }
   },
   "outputs": [],
   "source": [
    "teste = NewTable.groupby(['familia','ano_coleta']).count()['class'].reset_index().rename(\n",
    "                                                                                    columns={'class':'counts'})\n",
    "\n",
    "teste['ano_coleta'] = teste['ano_coleta'].astype(int)"
   ]
  },
  {
   "cell_type": "code",
   "execution_count": 30,
   "metadata": {
    "ExecuteTime": {
     "end_time": "2021-02-15T19:42:59.790956Z",
     "start_time": "2021-02-15T19:42:59.756109Z"
    }
   },
   "outputs": [],
   "source": [
    "g1 = alt.Chart(teste,\n",
    "               width=800, height=500, title='Number of collected specimens of each family per year').mark_circle(\n",
    "                                                                                size=60).encode(\n",
    "    x= alt.X('ano_coleta', type='ordinal', title='Collected Year'),\n",
    "    y= alt.Y('familia', type='nominal', title='Family',\n",
    "            sort= alt.EncodingSortField(field='counts', op='count', order='descending')),\n",
    "    size= alt.Size('counts', title='Counts',\n",
    "                   legend= alt.Legend(orient= 'right', direction= 'horizontal')),\n",
    "    color = alt.Color('familia', title= 'Family',\n",
    "                      legend= alt.Legend(columns=2, symbolLimit=50),\n",
    "                      scale= alt.Scale(domain= list(cores_familia.keys()), range=list(cores_familia.values()))),\n",
    "    tooltip = alt.Tooltip(['familia', 'ano_coleta', 'counts'])\n",
    ")\n",
    "\n",
    "g1 = g1.configure_title(fontSize=16).configure_axis(\n",
    "    labelFontSize=12,\n",
    "    titleFontSize=12\n",
    ").configure_legend(\n",
    "    labelFontSize=12,\n",
    "    titleFontSize=12\n",
    ")\n",
    "\n",
    "# g1.save('./graphs/families_per_year_colorful.html')\n",
    "# g1"
   ]
  },
  {
   "cell_type": "markdown",
   "metadata": {},
   "source": [
    "<br>\n",
    "\n",
    "**The end!**\n",
    "\n",
    "-----"
   ]
  }
 ],
 "metadata": {
  "kernelspec": {
   "display_name": "Python 3",
   "language": "python",
   "name": "python3"
  },
  "language_info": {
   "codemirror_mode": {
    "name": "ipython",
    "version": 3
   },
   "file_extension": ".py",
   "mimetype": "text/x-python",
   "name": "python",
   "nbconvert_exporter": "python",
   "pygments_lexer": "ipython3",
   "version": "3.9.1"
  },
  "latex_envs": {
   "LaTeX_envs_menu_present": true,
   "autoclose": false,
   "autocomplete": true,
   "bibliofile": "biblio.bib",
   "cite_by": "apalike",
   "current_citInitial": 1,
   "eqLabelWithNumbers": true,
   "eqNumInitial": 1,
   "hotkeys": {
    "equation": "Ctrl-E",
    "itemize": "Ctrl-I"
   },
   "labels_anchors": false,
   "latex_user_defs": false,
   "report_style_numbering": false,
   "user_envs_cfg": false
  },
  "toc": {
   "base_numbering": 1,
   "nav_menu": {},
   "number_sections": false,
   "sideBar": true,
   "skip_h1_title": false,
   "title_cell": "Table of Contents",
   "title_sidebar": "Contents",
   "toc_cell": false,
   "toc_position": {},
   "toc_section_display": true,
   "toc_window_display": false
  },
  "varInspector": {
   "cols": {
    "lenName": 16,
    "lenType": 16,
    "lenVar": 40
   },
   "kernels_config": {
    "python": {
     "delete_cmd_postfix": "",
     "delete_cmd_prefix": "del ",
     "library": "var_list.py",
     "varRefreshCmd": "print(var_dic_list())"
    },
    "r": {
     "delete_cmd_postfix": ") ",
     "delete_cmd_prefix": "rm(",
     "library": "var_list.r",
     "varRefreshCmd": "cat(var_dic_list()) "
    }
   },
   "position": {
    "height": "391.35px",
    "left": "900.5px",
    "right": "20px",
    "top": "96px",
    "width": "536.5px"
   },
   "types_to_exclude": [
    "module",
    "function",
    "builtin_function_or_method",
    "instance",
    "_Feature"
   ],
   "window_display": false
  }
 },
 "nbformat": 4,
 "nbformat_minor": 2
}
