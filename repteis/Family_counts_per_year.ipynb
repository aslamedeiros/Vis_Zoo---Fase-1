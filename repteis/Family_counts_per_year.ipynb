{
 "cells": [
  {
   "cell_type": "markdown",
   "metadata": {},
   "source": [
    "# Family counts per year\n",
    "\n",
    "By **Franklin Oliveira**\n",
    "\n",
    "-----\n",
    "This notebook contains all code necessary to make the \"type\" charts from `repteis` database. Here you'll find some basic data treatment and charts' code. \n",
    "\n",
    "Database: <font color='blue'>'Compilacao Livros Repteis - 2 a 10 - 2020_04_28.xls'</font>."
   ]
  },
  {
   "cell_type": "code",
   "execution_count": 2,
   "metadata": {
    "ExecuteTime": {
     "end_time": "2020-08-29T16:01:52.840101Z",
     "start_time": "2020-08-29T16:01:51.855336Z"
    }
   },
   "outputs": [
    {
     "data": {
      "text/plain": [
       "DataTransformerRegistry.enable('default')"
      ]
     },
     "execution_count": 2,
     "metadata": {},
     "output_type": "execute_result"
    }
   ],
   "source": [
    "import datetime\n",
    "import numpy as np\n",
    "import pandas as pd\n",
    "\n",
    "from collections import defaultdict\n",
    "\n",
    "# quick visualization\n",
    "import matplotlib.pyplot as plt\n",
    "import seaborn as sns\n",
    "\n",
    "# Waffle Charts\n",
    "# from pywaffle import Waffle \n",
    "# docs: https://pywaffle.readthedocs.io/en/latest/examples/block_shape_distance_location_and_direction.html\n",
    "\n",
    "# visualization\n",
    "import altair as alt\n",
    "\n",
    "# enabling notebook renderer\n",
    "# alt.renderers.enable('notebook')\n",
    "alt.renderers.enable('default')\n",
    "\n",
    "# disabling rows limit\n",
    "alt.data_transformers.disable_max_rows()"
   ]
  },
  {
   "cell_type": "markdown",
   "metadata": {},
   "source": [
    "## Importing data..."
   ]
  },
  {
   "cell_type": "code",
   "execution_count": 3,
   "metadata": {
    "ExecuteTime": {
     "end_time": "2020-08-29T16:01:53.034419Z",
     "start_time": "2020-08-29T16:01:52.850339Z"
    }
   },
   "outputs": [
    {
     "name": "stderr",
     "output_type": "stream",
     "text": [
      "/home/franklin/anaconda3/envs/viz/lib/python3.8/site-packages/IPython/core/interactiveshell.py:3071: DtypeWarning: Columns (2,39) have mixed types.Specify dtype option on import or set low_memory=False.\n",
      "  has_raised = await self.run_ast_nodes(code_ast.body, cell_name,\n"
     ]
    }
   ],
   "source": [
    "NewTable = pd.read_csv('./data/treated_db.csv', sep=';', encoding='utf-8-sig')"
   ]
  },
  {
   "cell_type": "markdown",
   "metadata": {},
   "source": [
    "<br>\n",
    "\n",
    "<font size=5>**Paleta de cores por Ordem**</font>\n",
    "\n",
    "Abaixo está a imagem usada como inspiração (https://color.adobe.com/create/image)\n",
    "\n",
    "<img src=\"./src/paleta_cores.jpeg\" width='500px'>\n",
    "\n",
    "Cores: \n",
    "\n",
    "- verde_escuro: #284021\n",
    "- verde_claro: #88BF11\n",
    "- amarelo: #D9CB0B\n",
    "- laranja: #D99311\n",
    "- laranja_escuro: #BF4417\n",
    "- marrom-_laro: #BF8D7A"
   ]
  },
  {
   "cell_type": "code",
   "execution_count": 4,
   "metadata": {
    "ExecuteTime": {
     "end_time": "2020-08-29T16:01:53.769625Z",
     "start_time": "2020-08-29T16:01:53.764569Z"
    }
   },
   "outputs": [],
   "source": [
    "# input do especialista: Caudata é um erro da base\n",
    "cores_ordem = {\n",
    "    'Squamata': '#BF4417',\n",
    "    'Testudines': '#D9CB0B', \n",
    "    'Crocodylia': '#284021',\n",
    "}\n",
    "\n",
    "ordens = list(cores_ordem.keys())\n",
    "cores = list(cores_ordem.values())"
   ]
  },
  {
   "cell_type": "markdown",
   "metadata": {},
   "source": [
    "<br>\n",
    "\n",
    "\n",
    "## Graphs\n",
    "\n",
    "---\n",
    "### Creating chart: counts per order per year"
   ]
  },
  {
   "cell_type": "code",
   "execution_count": 5,
   "metadata": {
    "ExecuteTime": {
     "end_time": "2020-08-29T16:01:54.923236Z",
     "start_time": "2020-08-29T16:01:54.866444Z"
    }
   },
   "outputs": [],
   "source": [
    "orders = NewTable.groupby(['ano_coleta','ordem']).count()['class'].reset_index().rename(columns={'class':'counts'})\n",
    "\n",
    "orders.sort_values(['ano_coleta','ordem'], inplace=True)  # ordering"
   ]
  },
  {
   "cell_type": "code",
   "execution_count": 6,
   "metadata": {
    "ExecuteTime": {
     "end_time": "2020-08-29T16:01:55.783611Z",
     "start_time": "2020-08-29T16:01:55.777585Z"
    }
   },
   "outputs": [],
   "source": [
    "# dropping remaining NaN's\n",
    "orders = orders.dropna(subset=['ordem'])"
   ]
  },
  {
   "cell_type": "code",
   "execution_count": 7,
   "metadata": {
    "ExecuteTime": {
     "end_time": "2020-08-29T16:01:56.670169Z",
     "start_time": "2020-08-29T16:01:56.603204Z"
    }
   },
   "outputs": [
    {
     "data": {
      "text/html": [
       "\n",
       "<div id=\"altair-viz-7fca9010f54a41feaeb4c27617e29f62\"></div>\n",
       "<script type=\"text/javascript\">\n",
       "  (function(spec, embedOpt){\n",
       "    let outputDiv = document.currentScript.previousElementSibling;\n",
       "    if (outputDiv.id !== \"altair-viz-7fca9010f54a41feaeb4c27617e29f62\") {\n",
       "      outputDiv = document.getElementById(\"altair-viz-7fca9010f54a41feaeb4c27617e29f62\");\n",
       "    }\n",
       "    const paths = {\n",
       "      \"vega\": \"https://cdn.jsdelivr.net/npm//vega@5?noext\",\n",
       "      \"vega-lib\": \"https://cdn.jsdelivr.net/npm//vega-lib?noext\",\n",
       "      \"vega-lite\": \"https://cdn.jsdelivr.net/npm//vega-lite@4.8.1?noext\",\n",
       "      \"vega-embed\": \"https://cdn.jsdelivr.net/npm//vega-embed@6?noext\",\n",
       "    };\n",
       "\n",
       "    function loadScript(lib) {\n",
       "      return new Promise(function(resolve, reject) {\n",
       "        var s = document.createElement('script');\n",
       "        s.src = paths[lib];\n",
       "        s.async = true;\n",
       "        s.onload = () => resolve(paths[lib]);\n",
       "        s.onerror = () => reject(`Error loading script: ${paths[lib]}`);\n",
       "        document.getElementsByTagName(\"head\")[0].appendChild(s);\n",
       "      });\n",
       "    }\n",
       "\n",
       "    function showError(err) {\n",
       "      outputDiv.innerHTML = `<div class=\"error\" style=\"color:red;\">${err}</div>`;\n",
       "      throw err;\n",
       "    }\n",
       "\n",
       "    function displayChart(vegaEmbed) {\n",
       "      vegaEmbed(outputDiv, spec, embedOpt)\n",
       "        .catch(err => showError(`Javascript Error: ${err.message}<br>This usually means there's a typo in your chart specification. See the javascript console for the full traceback.`));\n",
       "    }\n",
       "\n",
       "    if(typeof define === \"function\" && define.amd) {\n",
       "      requirejs.config({paths});\n",
       "      require([\"vega-embed\"], displayChart, err => showError(`Error loading script: ${err.message}`));\n",
       "    } else if (typeof vegaEmbed === \"function\") {\n",
       "      displayChart(vegaEmbed);\n",
       "    } else {\n",
       "      loadScript(\"vega\")\n",
       "        .then(() => loadScript(\"vega-lite\"))\n",
       "        .then(() => loadScript(\"vega-embed\"))\n",
       "        .catch(showError)\n",
       "        .then(() => displayChart(vegaEmbed));\n",
       "    }\n",
       "  })({\"config\": {\"view\": {\"continuousWidth\": 400, \"continuousHeight\": 300}, \"axis\": {\"labelFontSize\": 12, \"titleFontSize\": 12}, \"legend\": {\"labelFontSize\": 12, \"titleFontSize\": 12}, \"title\": {\"fontSize\": 16}}, \"data\": {\"name\": \"data-26b91e8f25ac47e5e8752e5da65535bc\"}, \"mark\": {\"type\": \"circle\", \"color\": \"green\"}, \"encoding\": {\"color\": {\"type\": \"nominal\", \"field\": \"ordem\", \"scale\": {\"domain\": [\"Squamata\", \"Testudines\", \"Crocodylia\"], \"range\": [\"#BF4417\", \"#D9CB0B\", \"#284021\"]}}, \"size\": {\"type\": \"quantitative\", \"field\": \"counts\", \"scale\": {\"range\": [10, 600]}}, \"tooltip\": [{\"type\": \"quantitative\", \"field\": \"ano_coleta\"}, {\"type\": \"quantitative\", \"field\": \"counts\"}], \"x\": {\"type\": \"ordinal\", \"field\": \"ano_coleta\", \"title\": \"Year\"}, \"y\": {\"type\": \"nominal\", \"field\": \"ordem\", \"sort\": {\"field\": \"count\", \"op\": \"max\", \"order\": \"descending\"}, \"title\": \"Order\"}}, \"height\": 300, \"title\": \"Number of collected repteis per order each year\", \"width\": 800, \"$schema\": \"https://vega.github.io/schema/vega-lite/v4.8.1.json\", \"datasets\": {\"data-26b91e8f25ac47e5e8752e5da65535bc\": [{\"ano_coleta\": 0.0, \"ordem\": \"Squamata\", \"counts\": 5}, {\"ano_coleta\": 1824.0, \"ordem\": \"Squamata\", \"counts\": 1}, {\"ano_coleta\": 1876.0, \"ordem\": \"Squamata\", \"counts\": 74}, {\"ano_coleta\": 1901.0, \"ordem\": \"Squamata\", \"counts\": 3}, {\"ano_coleta\": 1902.0, \"ordem\": \"Squamata\", \"counts\": 2}, {\"ano_coleta\": 1903.0, \"ordem\": \"Squamata\", \"counts\": 1}, {\"ano_coleta\": 1905.0, \"ordem\": \"Squamata\", \"counts\": 1}, {\"ano_coleta\": 1906.0, \"ordem\": \"Squamata\", \"counts\": 1}, {\"ano_coleta\": 1907.0, \"ordem\": \"Squamata\", \"counts\": 3}, {\"ano_coleta\": 1907.0, \"ordem\": \"Testudines\", \"counts\": 1}, {\"ano_coleta\": 1912.0, \"ordem\": \"Crocodylia\", \"counts\": 1}, {\"ano_coleta\": 1912.0, \"ordem\": \"Squamata\", \"counts\": 1}, {\"ano_coleta\": 1912.0, \"ordem\": \"Testudines\", \"counts\": 1}, {\"ano_coleta\": 1913.0, \"ordem\": \"Squamata\", \"counts\": 2}, {\"ano_coleta\": 1914.0, \"ordem\": \"Squamata\", \"counts\": 1}, {\"ano_coleta\": 1915.0, \"ordem\": \"Squamata\", \"counts\": 5}, {\"ano_coleta\": 1915.0, \"ordem\": \"Testudines\", \"counts\": 1}, {\"ano_coleta\": 1916.0, \"ordem\": \"Squamata\", \"counts\": 2}, {\"ano_coleta\": 1916.0, \"ordem\": \"Testudines\", \"counts\": 1}, {\"ano_coleta\": 1917.0, \"ordem\": \"Squamata\", \"counts\": 1}, {\"ano_coleta\": 1919.0, \"ordem\": \"Squamata\", \"counts\": 3}, {\"ano_coleta\": 1922.0, \"ordem\": \"Squamata\", \"counts\": 2}, {\"ano_coleta\": 1923.0, \"ordem\": \"Squamata\", \"counts\": 2}, {\"ano_coleta\": 1923.0, \"ordem\": \"Testudines\", \"counts\": 1}, {\"ano_coleta\": 1924.0, \"ordem\": \"Squamata\", \"counts\": 1}, {\"ano_coleta\": 1925.0, \"ordem\": \"Squamata\", \"counts\": 1}, {\"ano_coleta\": 1926.0, \"ordem\": \"Squamata\", \"counts\": 1}, {\"ano_coleta\": 1928.0, \"ordem\": \"Squamata\", \"counts\": 1}, {\"ano_coleta\": 1931.0, \"ordem\": \"Squamata\", \"counts\": 2}, {\"ano_coleta\": 1932.0, \"ordem\": \"Squamata\", \"counts\": 1}, {\"ano_coleta\": 1933.0, \"ordem\": \"Squamata\", \"counts\": 3}, {\"ano_coleta\": 1935.0, \"ordem\": \"Squamata\", \"counts\": 2}, {\"ano_coleta\": 1936.0, \"ordem\": \"Squamata\", \"counts\": 3}, {\"ano_coleta\": 1937.0, \"ordem\": \"Squamata\", \"counts\": 29}, {\"ano_coleta\": 1938.0, \"ordem\": \"Squamata\", \"counts\": 1}, {\"ano_coleta\": 1939.0, \"ordem\": \"Squamata\", \"counts\": 205}, {\"ano_coleta\": 1940.0, \"ordem\": \"Squamata\", \"counts\": 55}, {\"ano_coleta\": 1941.0, \"ordem\": \"Squamata\", \"counts\": 17}, {\"ano_coleta\": 1942.0, \"ordem\": \"Squamata\", \"counts\": 255}, {\"ano_coleta\": 1942.0, \"ordem\": \"Testudines\", \"counts\": 7}, {\"ano_coleta\": 1943.0, \"ordem\": \"Squamata\", \"counts\": 112}, {\"ano_coleta\": 1944.0, \"ordem\": \"Squamata\", \"counts\": 159}, {\"ano_coleta\": 1944.0, \"ordem\": \"Testudines\", \"counts\": 2}, {\"ano_coleta\": 1945.0, \"ordem\": \"Squamata\", \"counts\": 391}, {\"ano_coleta\": 1946.0, \"ordem\": \"Squamata\", \"counts\": 51}, {\"ano_coleta\": 1947.0, \"ordem\": \"Squamata\", \"counts\": 102}, {\"ano_coleta\": 1948.0, \"ordem\": \"Crocodylia\", \"counts\": 1}, {\"ano_coleta\": 1948.0, \"ordem\": \"Squamata\", \"counts\": 105}, {\"ano_coleta\": 1949.0, \"ordem\": \"Squamata\", \"counts\": 26}, {\"ano_coleta\": 1949.0, \"ordem\": \"Testudines\", \"counts\": 1}, {\"ano_coleta\": 1950.0, \"ordem\": \"Squamata\", \"counts\": 54}, {\"ano_coleta\": 1951.0, \"ordem\": \"Squamata\", \"counts\": 33}, {\"ano_coleta\": 1952.0, \"ordem\": \"Squamata\", \"counts\": 57}, {\"ano_coleta\": 1953.0, \"ordem\": \"Squamata\", \"counts\": 44}, {\"ano_coleta\": 1953.0, \"ordem\": \"Testudines\", \"counts\": 2}, {\"ano_coleta\": 1954.0, \"ordem\": \"Squamata\", \"counts\": 28}, {\"ano_coleta\": 1954.0, \"ordem\": \"Testudines\", \"counts\": 2}, {\"ano_coleta\": 1955.0, \"ordem\": \"Squamata\", \"counts\": 29}, {\"ano_coleta\": 1955.0, \"ordem\": \"Testudines\", \"counts\": 2}, {\"ano_coleta\": 1956.0, \"ordem\": \"Squamata\", \"counts\": 52}, {\"ano_coleta\": 1957.0, \"ordem\": \"Squamata\", \"counts\": 63}, {\"ano_coleta\": 1957.0, \"ordem\": \"Testudines\", \"counts\": 2}, {\"ano_coleta\": 1958.0, \"ordem\": \"Squamata\", \"counts\": 33}, {\"ano_coleta\": 1959.0, \"ordem\": \"Squamata\", \"counts\": 21}, {\"ano_coleta\": 1960.0, \"ordem\": \"Squamata\", \"counts\": 14}, {\"ano_coleta\": 1961.0, \"ordem\": \"Squamata\", \"counts\": 19}, {\"ano_coleta\": 1961.0, \"ordem\": \"Testudines\", \"counts\": 1}, {\"ano_coleta\": 1962.0, \"ordem\": \"Squamata\", \"counts\": 8}, {\"ano_coleta\": 1962.0, \"ordem\": \"Testudines\", \"counts\": 1}, {\"ano_coleta\": 1963.0, \"ordem\": \"Squamata\", \"counts\": 35}, {\"ano_coleta\": 1963.0, \"ordem\": \"Testudines\", \"counts\": 11}, {\"ano_coleta\": 1964.0, \"ordem\": \"Squamata\", \"counts\": 38}, {\"ano_coleta\": 1964.0, \"ordem\": \"Testudines\", \"counts\": 18}, {\"ano_coleta\": 1965.0, \"ordem\": \"Squamata\", \"counts\": 35}, {\"ano_coleta\": 1966.0, \"ordem\": \"Squamata\", \"counts\": 24}, {\"ano_coleta\": 1967.0, \"ordem\": \"Squamata\", \"counts\": 9}, {\"ano_coleta\": 1967.0, \"ordem\": \"Testudines\", \"counts\": 1}, {\"ano_coleta\": 1968.0, \"ordem\": \"Squamata\", \"counts\": 10}, {\"ano_coleta\": 1968.0, \"ordem\": \"Testudines\", \"counts\": 16}, {\"ano_coleta\": 1969.0, \"ordem\": \"Squamata\", \"counts\": 51}, {\"ano_coleta\": 1970.0, \"ordem\": \"Squamata\", \"counts\": 33}, {\"ano_coleta\": 1971.0, \"ordem\": \"Squamata\", \"counts\": 43}, {\"ano_coleta\": 1971.0, \"ordem\": \"Testudines\", \"counts\": 1}, {\"ano_coleta\": 1972.0, \"ordem\": \"Squamata\", \"counts\": 34}, {\"ano_coleta\": 1973.0, \"ordem\": \"Squamata\", \"counts\": 56}, {\"ano_coleta\": 1974.0, \"ordem\": \"Squamata\", \"counts\": 27}, {\"ano_coleta\": 1974.0, \"ordem\": \"Testudines\", \"counts\": 2}, {\"ano_coleta\": 1975.0, \"ordem\": \"Squamata\", \"counts\": 132}, {\"ano_coleta\": 1975.0, \"ordem\": \"Testudines\", \"counts\": 2}, {\"ano_coleta\": 1976.0, \"ordem\": \"Squamata\", \"counts\": 44}, {\"ano_coleta\": 1976.0, \"ordem\": \"Testudines\", \"counts\": 73}, {\"ano_coleta\": 1977.0, \"ordem\": \"Squamata\", \"counts\": 28}, {\"ano_coleta\": 1978.0, \"ordem\": \"Squamata\", \"counts\": 41}, {\"ano_coleta\": 1979.0, \"ordem\": \"Crocodylia\", \"counts\": 1}, {\"ano_coleta\": 1979.0, \"ordem\": \"Squamata\", \"counts\": 53}, {\"ano_coleta\": 1979.0, \"ordem\": \"Testudines\", \"counts\": 1}, {\"ano_coleta\": 1980.0, \"ordem\": \"Squamata\", \"counts\": 43}, {\"ano_coleta\": 1980.0, \"ordem\": \"Testudines\", \"counts\": 1}, {\"ano_coleta\": 1981.0, \"ordem\": \"Squamata\", \"counts\": 50}, {\"ano_coleta\": 1981.0, \"ordem\": \"Testudines\", \"counts\": 3}, {\"ano_coleta\": 1982.0, \"ordem\": \"Squamata\", \"counts\": 69}, {\"ano_coleta\": 1982.0, \"ordem\": \"Testudines\", \"counts\": 7}, {\"ano_coleta\": 1983.0, \"ordem\": \"Squamata\", \"counts\": 50}, {\"ano_coleta\": 1983.0, \"ordem\": \"Testudines\", \"counts\": 1}, {\"ano_coleta\": 1984.0, \"ordem\": \"Squamata\", \"counts\": 88}, {\"ano_coleta\": 1984.0, \"ordem\": \"Testudines\", \"counts\": 3}, {\"ano_coleta\": 1985.0, \"ordem\": \"Squamata\", \"counts\": 156}, {\"ano_coleta\": 1985.0, \"ordem\": \"Testudines\", \"counts\": 3}, {\"ano_coleta\": 1986.0, \"ordem\": \"Crocodylia\", \"counts\": 2}, {\"ano_coleta\": 1986.0, \"ordem\": \"Squamata\", \"counts\": 460}, {\"ano_coleta\": 1986.0, \"ordem\": \"Testudines\", \"counts\": 21}, {\"ano_coleta\": 1987.0, \"ordem\": \"Crocodylia\", \"counts\": 187}, {\"ano_coleta\": 1987.0, \"ordem\": \"Squamata\", \"counts\": 434}, {\"ano_coleta\": 1987.0, \"ordem\": \"Testudines\", \"counts\": 6}, {\"ano_coleta\": 1988.0, \"ordem\": \"Squamata\", \"counts\": 331}, {\"ano_coleta\": 1988.0, \"ordem\": \"Testudines\", \"counts\": 177}, {\"ano_coleta\": 1989.0, \"ordem\": \"Crocodylia\", \"counts\": 2}, {\"ano_coleta\": 1989.0, \"ordem\": \"Squamata\", \"counts\": 384}, {\"ano_coleta\": 1989.0, \"ordem\": \"Testudines\", \"counts\": 10}, {\"ano_coleta\": 1990.0, \"ordem\": \"Squamata\", \"counts\": 285}, {\"ano_coleta\": 1990.0, \"ordem\": \"Testudines\", \"counts\": 7}, {\"ano_coleta\": 1991.0, \"ordem\": \"Crocodylia\", \"counts\": 2}, {\"ano_coleta\": 1991.0, \"ordem\": \"Squamata\", \"counts\": 436}, {\"ano_coleta\": 1991.0, \"ordem\": \"Testudines\", \"counts\": 5}, {\"ano_coleta\": 1992.0, \"ordem\": \"Squamata\", \"counts\": 255}, {\"ano_coleta\": 1992.0, \"ordem\": \"Testudines\", \"counts\": 15}, {\"ano_coleta\": 1993.0, \"ordem\": \"Squamata\", \"counts\": 287}, {\"ano_coleta\": 1993.0, \"ordem\": \"Testudines\", \"counts\": 2}, {\"ano_coleta\": 1994.0, \"ordem\": \"Squamata\", \"counts\": 458}, {\"ano_coleta\": 1994.0, \"ordem\": \"Testudines\", \"counts\": 11}, {\"ano_coleta\": 1995.0, \"ordem\": \"Squamata\", \"counts\": 302}, {\"ano_coleta\": 1995.0, \"ordem\": \"Testudines\", \"counts\": 7}, {\"ano_coleta\": 1996.0, \"ordem\": \"Crocodylia\", \"counts\": 3}, {\"ano_coleta\": 1996.0, \"ordem\": \"Squamata\", \"counts\": 346}, {\"ano_coleta\": 1996.0, \"ordem\": \"Testudines\", \"counts\": 16}, {\"ano_coleta\": 1997.0, \"ordem\": \"Squamata\", \"counts\": 509}, {\"ano_coleta\": 1997.0, \"ordem\": \"Testudines\", \"counts\": 6}, {\"ano_coleta\": 1998.0, \"ordem\": \"Crocodylia\", \"counts\": 3}, {\"ano_coleta\": 1998.0, \"ordem\": \"Squamata\", \"counts\": 461}, {\"ano_coleta\": 1998.0, \"ordem\": \"Testudines\", \"counts\": 24}, {\"ano_coleta\": 1999.0, \"ordem\": \"Crocodylia\", \"counts\": 2}, {\"ano_coleta\": 1999.0, \"ordem\": \"Squamata\", \"counts\": 554}, {\"ano_coleta\": 1999.0, \"ordem\": \"Testudines\", \"counts\": 2}, {\"ano_coleta\": 2000.0, \"ordem\": \"Crocodylia\", \"counts\": 3}, {\"ano_coleta\": 2000.0, \"ordem\": \"Squamata\", \"counts\": 462}, {\"ano_coleta\": 2000.0, \"ordem\": \"Testudines\", \"counts\": 8}, {\"ano_coleta\": 2001.0, \"ordem\": \"Crocodylia\", \"counts\": 1}, {\"ano_coleta\": 2001.0, \"ordem\": \"Squamata\", \"counts\": 301}, {\"ano_coleta\": 2001.0, \"ordem\": \"Testudines\", \"counts\": 7}, {\"ano_coleta\": 2002.0, \"ordem\": \"Squamata\", \"counts\": 462}, {\"ano_coleta\": 2002.0, \"ordem\": \"Testudines\", \"counts\": 2}, {\"ano_coleta\": 2003.0, \"ordem\": \"Squamata\", \"counts\": 340}, {\"ano_coleta\": 2004.0, \"ordem\": \"Squamata\", \"counts\": 356}, {\"ano_coleta\": 2004.0, \"ordem\": \"Testudines\", \"counts\": 5}, {\"ano_coleta\": 2005.0, \"ordem\": \"Crocodylia\", \"counts\": 2}, {\"ano_coleta\": 2005.0, \"ordem\": \"Squamata\", \"counts\": 451}, {\"ano_coleta\": 2005.0, \"ordem\": \"Testudines\", \"counts\": 1}, {\"ano_coleta\": 2006.0, \"ordem\": \"Crocodylia\", \"counts\": 2}, {\"ano_coleta\": 2006.0, \"ordem\": \"Squamata\", \"counts\": 464}, {\"ano_coleta\": 2006.0, \"ordem\": \"Testudines\", \"counts\": 12}, {\"ano_coleta\": 2007.0, \"ordem\": \"Crocodylia\", \"counts\": 4}, {\"ano_coleta\": 2007.0, \"ordem\": \"Squamata\", \"counts\": 632}, {\"ano_coleta\": 2007.0, \"ordem\": \"Testudines\", \"counts\": 13}, {\"ano_coleta\": 2008.0, \"ordem\": \"Crocodylia\", \"counts\": 2}, {\"ano_coleta\": 2008.0, \"ordem\": \"Squamata\", \"counts\": 1211}, {\"ano_coleta\": 2008.0, \"ordem\": \"Testudines\", \"counts\": 25}, {\"ano_coleta\": 2009.0, \"ordem\": \"Crocodylia\", \"counts\": 5}, {\"ano_coleta\": 2009.0, \"ordem\": \"Squamata\", \"counts\": 926}, {\"ano_coleta\": 2009.0, \"ordem\": \"Testudines\", \"counts\": 11}, {\"ano_coleta\": 2010.0, \"ordem\": \"Crocodylia\", \"counts\": 1}, {\"ano_coleta\": 2010.0, \"ordem\": \"Squamata\", \"counts\": 761}, {\"ano_coleta\": 2010.0, \"ordem\": \"Testudines\", \"counts\": 12}, {\"ano_coleta\": 2011.0, \"ordem\": \"Squamata\", \"counts\": 599}, {\"ano_coleta\": 2011.0, \"ordem\": \"Testudines\", \"counts\": 3}, {\"ano_coleta\": 2012.0, \"ordem\": \"Crocodylia\", \"counts\": 2}, {\"ano_coleta\": 2012.0, \"ordem\": \"Squamata\", \"counts\": 556}, {\"ano_coleta\": 2012.0, \"ordem\": \"Testudines\", \"counts\": 6}, {\"ano_coleta\": 2013.0, \"ordem\": \"Crocodylia\", \"counts\": 2}, {\"ano_coleta\": 2013.0, \"ordem\": \"Squamata\", \"counts\": 567}, {\"ano_coleta\": 2013.0, \"ordem\": \"Testudines\", \"counts\": 5}, {\"ano_coleta\": 2014.0, \"ordem\": \"Crocodylia\", \"counts\": 1}, {\"ano_coleta\": 2014.0, \"ordem\": \"Squamata\", \"counts\": 407}, {\"ano_coleta\": 2014.0, \"ordem\": \"Testudines\", \"counts\": 3}, {\"ano_coleta\": 2015.0, \"ordem\": \"Serpentes\", \"counts\": 1}, {\"ano_coleta\": 2015.0, \"ordem\": \"Squamata\", \"counts\": 589}, {\"ano_coleta\": 2016.0, \"ordem\": \"Squamata\", \"counts\": 123}, {\"ano_coleta\": 2016.0, \"ordem\": \"Testudines\", \"counts\": 2}]}}, {\"mode\": \"vega-lite\"});\n",
       "</script>"
      ],
      "text/plain": [
       "alt.Chart(...)"
      ]
     },
     "execution_count": 7,
     "metadata": {},
     "output_type": "execute_result"
    }
   ],
   "source": [
    "g1 = alt.Chart(orders[orders['ordem'] != 'Caudata'],\n",
    "               width=800, height=300, title='Number of collected repteis per order each year').mark_circle(\n",
    "                                                                                color='green').encode(\n",
    "    x= alt.X('ano_coleta', type='ordinal', title='Year'),\n",
    "    y= alt.Y('ordem', type='nominal', title='Order',\n",
    "            sort= alt.EncodingSortField(field='count', op='max', order='descending')),\n",
    "    size = alt.Size('counts', scale=alt.Scale(range=[10,600])),\n",
    "    color = alt.Color('ordem', scale= alt.Scale(domain=ordens, range=cores)),\n",
    "    tooltip= alt.Tooltip(['ano_coleta', 'counts'])\n",
    ")\n",
    "\n",
    "g1 = g1.configure_title(fontSize=16).configure_axis(\n",
    "    labelFontSize=12,\n",
    "    titleFontSize=12\n",
    ").configure_legend(\n",
    "    labelFontSize=12,\n",
    "    titleFontSize=12\n",
    ")\n",
    "\n",
    "# saving graph\n",
    "g1.save('./graphs/orders_per_year.html')\n",
    "\n",
    "g1"
   ]
  },
  {
   "cell_type": "markdown",
   "metadata": {},
   "source": [
    "### number of reptiles per family per year"
   ]
  },
  {
   "cell_type": "code",
   "execution_count": 8,
   "metadata": {
    "ExecuteTime": {
     "end_time": "2020-08-29T16:02:07.225132Z",
     "start_time": "2020-08-29T16:02:07.167191Z"
    }
   },
   "outputs": [],
   "source": [
    "teste = NewTable.groupby(['familia','ano_coleta']).count()['class'].reset_index().rename(\n",
    "                                                                                    columns={'class':'counts'})\n",
    "\n",
    "teste['ano_coleta'] = teste['ano_coleta'].astype(int)"
   ]
  },
  {
   "cell_type": "markdown",
   "metadata": {},
   "source": [
    "<br>\n",
    "\n",
    "**graph:** family per year"
   ]
  },
  {
   "cell_type": "code",
   "execution_count": 10,
   "metadata": {
    "ExecuteTime": {
     "end_time": "2020-08-29T16:02:10.304694Z",
     "start_time": "2020-08-29T16:02:10.244723Z"
    }
   },
   "outputs": [],
   "source": [
    "g1 = alt.Chart(teste,\n",
    "               width=800, height=400, title='Number of collected animals of each family per year').mark_circle(\n",
    "                                                                                size=60).encode(\n",
    "    x= alt.X('ano_coleta', type='ordinal', title='Ano de Coleta'),\n",
    "    y= alt.Y('familia', type='nominal', title='Familia',\n",
    "            sort= alt.EncodingSortField(field='counts', op='count', order='descending')),\n",
    "    size= alt.Size('counts', title='Count'),\n",
    "    tooltip = alt.Tooltip(['familia', 'ano_coleta', 'counts'])\n",
    ")\n",
    "\n",
    "g1 = g1.configure_title(fontSize=16).configure_axis(\n",
    "    labelFontSize=12,\n",
    "    titleFontSize=12\n",
    ").configure_legend(\n",
    "    labelFontSize=12,\n",
    "    titleFontSize=12\n",
    ")\n",
    "\n",
    "g1.save('./graphs/familias_por_ano.html')\n",
    "\n",
    "# g1"
   ]
  },
  {
   "cell_type": "code",
   "execution_count": 11,
   "metadata": {
    "ExecuteTime": {
     "end_time": "2020-08-29T16:02:11.483209Z",
     "start_time": "2020-08-29T16:02:11.436141Z"
    }
   },
   "outputs": [],
   "source": [
    "teste = NewTable.groupby(['familia','ordem','ano_coleta']).count()['class'].reset_index().rename(\n",
    "                                                                                    columns={'class':'counts'})\n",
    "\n",
    "teste['ano_coleta'] = teste['ano_coleta'].astype(int)"
   ]
  },
  {
   "cell_type": "code",
   "execution_count": 13,
   "metadata": {
    "ExecuteTime": {
     "end_time": "2020-08-29T16:02:12.504084Z",
     "start_time": "2020-08-29T16:02:12.422200Z"
    }
   },
   "outputs": [],
   "source": [
    "g1 = alt.Chart(teste,\n",
    "               width=800, height=400, title='Number of collected animals of each family per year').mark_circle(\n",
    "                                                                                size=60).encode(\n",
    "    x= alt.X('ano_coleta', type='ordinal', title='Collected Year'),\n",
    "    y= alt.Y('familia', type='nominal', title='Family',\n",
    "            sort= alt.EncodingSortField(field='counts', op='count', order='descending')),\n",
    "    size= alt.Size('counts', title='Count'),\n",
    "    color = alt.Color('ordem', scale= alt.Scale(domain=ordens, range=cores)),\n",
    "    tooltip = alt.Tooltip(['familia', 'ano_coleta', 'counts'])\n",
    ")\n",
    "\n",
    "g1 = g1.configure_title(fontSize=16).configure_axis(\n",
    "    labelFontSize=12,\n",
    "    titleFontSize=12\n",
    ").configure_legend(\n",
    "    labelFontSize=12,\n",
    "    titleFontSize=12\n",
    ")\n",
    "\n",
    "g1.save('./graphs/familias_por_ano_c_ordem.html')\n",
    "\n",
    "# g1"
   ]
  },
  {
   "cell_type": "markdown",
   "metadata": {},
   "source": [
    "<br>\n",
    "\n",
    "### Dynamic version\n",
    "\n",
    "<font color='red' size='4'>**p.s.:** Still needs more adjustments </font>"
   ]
  },
  {
   "cell_type": "code",
   "execution_count": 14,
   "metadata": {
    "ExecuteTime": {
     "end_time": "2020-08-01T20:46:08.333819Z",
     "start_time": "2020-08-01T20:46:08.324097Z"
    }
   },
   "outputs": [],
   "source": [
    "# # dynamic version\n",
    "# slider = alt.binding_range(min=1900, max=2016, step=1)\n",
    "# select_year = alt.selection_single(name=\"ano_coleta\", fields=['ano_coleta'],\n",
    "#                                    bind=slider, init={'ano_coleta': 2000})\n",
    "\n",
    "# # gráfico transparente no background (para fixar eixos)\n",
    "# g0 = alt.Chart(teste,\n",
    "#                width=800, height=400).mark_circle(\n",
    "#                                                                                 size=60, opacity=0).encode(\n",
    "#     x= alt.X('familia', type='nominal', title='Familia'),\n",
    "#     y= alt.Y('ordem', type='nominal', title='Ordem',\n",
    "#             sort= alt.EncodingSortField(field='counts', op='count', order='descending')),\n",
    "# )\n",
    "\n",
    "\n",
    "# g1 = alt.Chart(teste,\n",
    "#                width=800, height=400, title='Qtde. de animais por família e ordem').mark_circle(\n",
    "#                                                                                 size=60).encode(\n",
    "#     x= alt.X('familia', type='nominal', title='Familia'),\n",
    "#     y= alt.Y('ordem', type='nominal', title='Ordem',\n",
    "#             sort= alt.EncodingSortField(field='counts', op='count', order='descending')),\n",
    "#     size= alt.Size('counts', title='Contagem'),\n",
    "#     color = alt.Color('ordem', scale= alt.Scale(domain=ordens, range=cores)),\n",
    "#     tooltip=alt.Tooltip(['familia','ordem','ano_coleta','counts','ordem'])\n",
    "# ).add_selection(\n",
    "#     select_year\n",
    "# ).transform_filter(\n",
    "#     select_year\n",
    "# )\n",
    "\n",
    "# g1 = alt.layer(g0, g1)\n",
    "\n",
    "# # saving graph\n",
    "# # g1.save('./graphs/familias_por_ano_c_ordem-dinamico.html')\n",
    "\n",
    "# # g1"
   ]
  },
  {
   "cell_type": "markdown",
   "metadata": {},
   "source": [
    "<br>\n",
    "\n",
    "**The end!**\n",
    "\n",
    "-----"
   ]
  }
 ],
 "metadata": {
  "kernelspec": {
   "display_name": "Python 3",
   "language": "python",
   "name": "python3"
  },
  "language_info": {
   "codemirror_mode": {
    "name": "ipython",
    "version": 3
   },
   "file_extension": ".py",
   "mimetype": "text/x-python",
   "name": "python",
   "nbconvert_exporter": "python",
   "pygments_lexer": "ipython3",
   "version": "3.8.3"
  },
  "latex_envs": {
   "LaTeX_envs_menu_present": true,
   "autoclose": false,
   "autocomplete": true,
   "bibliofile": "biblio.bib",
   "cite_by": "apalike",
   "current_citInitial": 1,
   "eqLabelWithNumbers": true,
   "eqNumInitial": 1,
   "hotkeys": {
    "equation": "Ctrl-E",
    "itemize": "Ctrl-I"
   },
   "labels_anchors": false,
   "latex_user_defs": false,
   "report_style_numbering": false,
   "user_envs_cfg": false
  },
  "toc": {
   "base_numbering": 1,
   "nav_menu": {},
   "number_sections": false,
   "sideBar": true,
   "skip_h1_title": false,
   "title_cell": "Table of Contents",
   "title_sidebar": "Contents",
   "toc_cell": false,
   "toc_position": {},
   "toc_section_display": true,
   "toc_window_display": false
  },
  "varInspector": {
   "cols": {
    "lenName": 16,
    "lenType": 16,
    "lenVar": 40
   },
   "kernels_config": {
    "python": {
     "delete_cmd_postfix": "",
     "delete_cmd_prefix": "del ",
     "library": "var_list.py",
     "varRefreshCmd": "print(var_dic_list())"
    },
    "r": {
     "delete_cmd_postfix": ") ",
     "delete_cmd_prefix": "rm(",
     "library": "var_list.r",
     "varRefreshCmd": "cat(var_dic_list()) "
    }
   },
   "position": {
    "height": "391.35px",
    "left": "900.5px",
    "right": "20px",
    "top": "96px",
    "width": "536.5px"
   },
   "types_to_exclude": [
    "module",
    "function",
    "builtin_function_or_method",
    "instance",
    "_Feature"
   ],
   "window_display": false
  }
 },
 "nbformat": 4,
 "nbformat_minor": 2
}
