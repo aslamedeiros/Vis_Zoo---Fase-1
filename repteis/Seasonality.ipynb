{
 "cells": [
  {
   "cell_type": "markdown",
   "metadata": {},
   "source": [
    "# Seasonality\n",
    "\n",
    "By **Franklin Oliveira**\n",
    "\n",
    "-----\n",
    "\n",
    "This notebook contains Python code to generate seasonality visualizations on the `repteis` database. Here you'll find some basic data treatment and adjustments that presented necessary to make adjustments for the graph. <font color='blue'>'Compilacao Livros Repteis - 2 a 10 - 2020_04_28.xls'</font>."
   ]
  },
  {
   "cell_type": "code",
   "execution_count": 1,
   "metadata": {
    "ExecuteTime": {
     "end_time": "2021-02-15T19:43:35.812979Z",
     "start_time": "2021-02-15T19:43:34.899794Z"
    }
   },
   "outputs": [
    {
     "data": {
      "text/plain": [
       "DataTransformerRegistry.enable('default')"
      ]
     },
     "execution_count": 1,
     "metadata": {},
     "output_type": "execute_result"
    }
   ],
   "source": [
    "import datetime\n",
    "import numpy as np\n",
    "import pandas as pd\n",
    "\n",
    "from collections import defaultdict\n",
    "\n",
    "# pacotes para visualização rápida\n",
    "import seaborn as sns\n",
    "import matplotlib.pyplot as plt\n",
    "\n",
    "# pacote para visualização principal\n",
    "import altair as alt\n",
    "\n",
    "# habilitando renderizador para notebook\n",
    "# alt.renderers.enable('notebook')\n",
    "# alt.renderers.enable('default')\n",
    "\n",
    "\n",
    "# desabilitando limite de linhas\n",
    "alt.data_transformers.disable_max_rows()"
   ]
  },
  {
   "cell_type": "markdown",
   "metadata": {},
   "source": [
    "## Importing data..."
   ]
  },
  {
   "cell_type": "code",
   "execution_count": 2,
   "metadata": {
    "ExecuteTime": {
     "end_time": "2021-02-15T19:43:42.731870Z",
     "start_time": "2021-02-15T19:43:42.553780Z"
    }
   },
   "outputs": [],
   "source": [
    "NewTable = pd.read_csv('./data/treated_db.csv', sep=';', encoding='utf-8-sig', low_memory= False)"
   ]
  },
  {
   "cell_type": "markdown",
   "metadata": {},
   "source": [
    "<br>\n",
    "\n",
    "<font size=5>**Color Palette per Order**</font>\n",
    "\n",
    "<!-- <img src=\"./src/paleta_cores.jpeg\" width='500px'> -->\n",
    "\n",
    "<!-- Cores: \n",
    "\n",
    "- verde_escuro: #284021\n",
    "- verde_claro: #88BF11\n",
    "- amarelo: #D9CB0B\n",
    "- laranja: #D99311\n",
    "- laranja_escuro: #BF4417\n",
    "- marrom-_laro: #BF8D7A -->"
   ]
  },
  {
   "cell_type": "code",
   "execution_count": 3,
   "metadata": {
    "ExecuteTime": {
     "end_time": "2021-02-15T19:44:15.645182Z",
     "start_time": "2021-02-15T19:44:15.642025Z"
    }
   },
   "outputs": [],
   "source": [
    "# p.s.: caudata is an error and should be removed. \n",
    "cores_ordem = {\n",
    "    'Squamata': '#BF4417',\n",
    "    'Testudines': '#D9CB0B', \n",
    "    'Crocodylia': '#284021'\n",
    "}\n",
    "\n",
    "ordens = list(cores_ordem.keys())\n",
    "cores = list(cores_ordem.values())"
   ]
  },
  {
   "cell_type": "markdown",
   "metadata": {},
   "source": [
    "<br>\n",
    "\n",
    "## Graphs\n",
    "\n",
    "### Total counts over time\n",
    "\n",
    "<font color='red' size='4'>Idea given by Ronaldo: add marginal histograms </font>"
   ]
  },
  {
   "cell_type": "code",
   "execution_count": 4,
   "metadata": {
    "ExecuteTime": {
     "end_time": "2021-02-15T19:44:20.903243Z",
     "start_time": "2021-02-15T19:44:20.843913Z"
    }
   },
   "outputs": [],
   "source": [
    "# removing NaN\n",
    "counts = NewTable.dropna(subset=['ano_coleta', 'mes_coleta'], how='all')\n",
    "\n",
    "# grouping \n",
    "counts = counts.groupby(['ano_coleta', 'mes_coleta']).count()['class'].reset_index().rename(\n",
    "                                                                            columns={'class':'counts'})\n",
    "\n",
    "# making sure month and year cols are int \n",
    "counts['ano_coleta'] = counts['ano_coleta'].astype(int)\n",
    "counts['mes_coleta'] = counts['mes_coleta'].astype(int)"
   ]
  },
  {
   "cell_type": "code",
   "execution_count": 6,
   "metadata": {
    "ExecuteTime": {
     "end_time": "2021-02-15T19:44:50.180660Z",
     "start_time": "2021-02-15T19:44:50.173423Z"
    }
   },
   "outputs": [],
   "source": [
    "total = alt.Chart(counts, title='Total of collected specimens per month/year', width=1200,\n",
    "         height=200).mark_rect().encode(\n",
    "    y = alt.Y('mes_coleta', type='ordinal', title='Sampling Month',\n",
    "              sort= alt.EncodingSortField('mes_coleta', order='descending')),\n",
    "    x = alt.X('ano_coleta', type='ordinal', title='Sampling Year'),\n",
    "    color= alt.Color('counts', title='Counts', scale= alt.Scale(scheme='yellowgreenblue')),\n",
    "    tooltip = alt.Tooltip(['counts', 'ano_coleta', 'mes_coleta'])\n",
    ")\n",
    "\n",
    "total = total.configure_title(fontSize=16).configure_axis(\n",
    "    labelFontSize=12,\n",
    "    titleFontSize=12\n",
    ").configure_legend(\n",
    "    labelFontSize=12,\n",
    "    titleFontSize=12\n",
    ")\n",
    "\n",
    "# total.save('./graphs/seasonality/season-total.html')\n",
    "# total"
   ]
  },
  {
   "cell_type": "markdown",
   "metadata": {},
   "source": [
    "<br>\n",
    "\n",
    "### counts over time (per order)"
   ]
  },
  {
   "cell_type": "code",
   "execution_count": 7,
   "metadata": {
    "ExecuteTime": {
     "end_time": "2021-02-15T19:44:54.056440Z",
     "start_time": "2021-02-15T19:44:53.993919Z"
    }
   },
   "outputs": [],
   "source": [
    "# droping NAN\n",
    "counts = NewTable.dropna(subset=['ano_coleta', 'mes_coleta'], how='all')\n",
    "\n",
    "# grouping per time and order\n",
    "counts = counts.groupby(['ano_coleta', 'mes_coleta', 'ordem']).count()['class'].reset_index().rename(\n",
    "                                                                            columns={'class':'counts'})\n",
    "\n",
    "# making sure month and year cols are int\n",
    "counts['ano_coleta'] = counts['ano_coleta'].astype(int)\n",
    "counts['mes_coleta'] = counts['mes_coleta'].astype(int)\n",
    "\n",
    "# scale for x axis\n",
    "anos = counts['ano_coleta'].unique()"
   ]
  },
  {
   "cell_type": "code",
   "execution_count": 12,
   "metadata": {
    "ExecuteTime": {
     "end_time": "2021-02-15T19:45:39.630312Z",
     "start_time": "2021-02-15T19:45:39.582879Z"
    },
    "scrolled": true
   },
   "outputs": [],
   "source": [
    "temp = alt.Chart(counts[(~counts['ordem'].isna()) & (counts['ordem'] != 'Caudata')], \n",
    "                 title='Total of collected specimens per month/year',\n",
    "             width=1200, height=200).mark_rect().encode(\n",
    "        y = alt.Y('mes_coleta', type='ordinal', title='Collected Month',\n",
    "                  sort= alt.EncodingSortField('mes_coleta', order='descending')),\n",
    "        x = alt.X('ano_coleta', type='ordinal', title='Collected Year',\n",
    "                 scale= alt.Scale(domain=anos)),\n",
    "        color= alt.Color('counts', title='Counts'),\n",
    "        tooltip = alt.Tooltip(['counts', 'ano_coleta', 'mes_coleta'])\n",
    ")\n",
    "\n",
    "temp.facet(row='ordem').resolve_scale(x='independent').resolve_legend('independent').configure_title(fontSize=16).configure_axis(\n",
    "    labelFontSize=12,\n",
    "    titleFontSize=12\n",
    ").configure_legend(\n",
    "    labelFontSize=12,\n",
    "    titleFontSize=12\n",
    ").save('./graphs/seasonality/order/season-faceted.html')\n",
    "\n",
    "# temp.facet(row='ordem').resolve_scale(x='independent').resolve_legend('independent').configure_title(fontSize=16).configure_axis(\n",
    "#     labelFontSize=12,\n",
    "#     titleFontSize=12\n",
    "# ).configure_legend(\n",
    "#     labelFontSize=12,\n",
    "#     titleFontSize=12\n",
    "# )\n",
    "\n",
    "# temp"
   ]
  },
  {
   "cell_type": "code",
   "execution_count": 13,
   "metadata": {
    "ExecuteTime": {
     "end_time": "2021-02-15T19:45:56.454335Z",
     "start_time": "2021-02-15T19:45:56.449165Z"
    }
   },
   "outputs": [],
   "source": [
    "# unique range for color scale\n",
    "min_ct = counts['counts'].min()\n",
    "max_ct = counts['counts'].max()"
   ]
  },
  {
   "cell_type": "code",
   "execution_count": 14,
   "metadata": {
    "ExecuteTime": {
     "end_time": "2021-02-15T19:45:56.748434Z",
     "start_time": "2021-02-15T19:45:56.743102Z"
    }
   },
   "outputs": [],
   "source": [
    "color_schemes = {\n",
    "    'Squamata':'oranges',\n",
    "    'Testudines':'yelloworangebrown',\n",
    "    'Crocodylia':'greens'\n",
    "}"
   ]
  },
  {
   "cell_type": "code",
   "execution_count": 15,
   "metadata": {
    "ExecuteTime": {
     "end_time": "2021-02-15T19:46:14.092427Z",
     "start_time": "2021-02-15T19:46:13.927527Z"
    }
   },
   "outputs": [],
   "source": [
    "# independent graphs (per order)\n",
    "for ordem in ordens:\n",
    "    temp = alt.Chart(counts[counts['ordem'] == ordem], title=f'Total of collected {ordem} per month/year',\n",
    "             width=1200, height=200).mark_rect().encode(\n",
    "        y = alt.Y('mes_coleta', type='ordinal', title='Sampling Month',\n",
    "                  sort= alt.EncodingSortField('mes_coleta', order='descending')),\n",
    "        x = alt.X('ano_coleta', type='ordinal', title='Sampling Year',\n",
    "                 scale= alt.Scale(domain=anos)),\n",
    "        color= alt.Color('counts', title='Counts', scale=alt.Scale(domain=list(range(min_ct, max_ct)),\n",
    "                                                                  scheme=color_schemes[ordem])),\n",
    "        tooltip = alt.Tooltip(['counts', 'ano_coleta', 'mes_coleta'])\n",
    "    )\n",
    "    \n",
    "    temp = temp.configure_title(fontSize=16).configure_axis(\n",
    "                    labelFontSize=12,\n",
    "                    titleFontSize=12\n",
    "                ).configure_legend(\n",
    "                    labelFontSize=12,\n",
    "                    titleFontSize=12\n",
    "                )\n",
    "    \n",
    "    temp.save(f'./graphs/seasonality/order/season-{ordem}.html')"
   ]
  },
  {
   "cell_type": "markdown",
   "metadata": {},
   "source": [
    "-----\n",
    "\n",
    "**That's it!**"
   ]
  }
 ],
 "metadata": {
  "kernelspec": {
   "display_name": "Python 3",
   "language": "python",
   "name": "python3"
  },
  "language_info": {
   "codemirror_mode": {
    "name": "ipython",
    "version": 3
   },
   "file_extension": ".py",
   "mimetype": "text/x-python",
   "name": "python",
   "nbconvert_exporter": "python",
   "pygments_lexer": "ipython3",
   "version": "3.9.1"
  },
  "latex_envs": {
   "LaTeX_envs_menu_present": true,
   "autoclose": false,
   "autocomplete": true,
   "bibliofile": "biblio.bib",
   "cite_by": "apalike",
   "current_citInitial": 1,
   "eqLabelWithNumbers": true,
   "eqNumInitial": 1,
   "hotkeys": {
    "equation": "Ctrl-E",
    "itemize": "Ctrl-I"
   },
   "labels_anchors": false,
   "latex_user_defs": false,
   "report_style_numbering": false,
   "user_envs_cfg": false
  },
  "toc": {
   "base_numbering": 1,
   "nav_menu": {},
   "number_sections": true,
   "sideBar": true,
   "skip_h1_title": false,
   "title_cell": "Table of Contents",
   "title_sidebar": "Contents",
   "toc_cell": false,
   "toc_position": {},
   "toc_section_display": true,
   "toc_window_display": false
  },
  "varInspector": {
   "cols": {
    "lenName": 16,
    "lenType": 16,
    "lenVar": 40
   },
   "kernels_config": {
    "python": {
     "delete_cmd_postfix": "",
     "delete_cmd_prefix": "del ",
     "library": "var_list.py",
     "varRefreshCmd": "print(var_dic_list())"
    },
    "r": {
     "delete_cmd_postfix": ") ",
     "delete_cmd_prefix": "rm(",
     "library": "var_list.r",
     "varRefreshCmd": "cat(var_dic_list()) "
    }
   },
   "types_to_exclude": [
    "module",
    "function",
    "builtin_function_or_method",
    "instance",
    "_Feature"
   ],
   "window_display": false
  }
 },
 "nbformat": 4,
 "nbformat_minor": 4
}
