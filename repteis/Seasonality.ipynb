{
 "cells": [
  {
   "cell_type": "markdown",
   "metadata": {},
   "source": [
    "# Seasonality\n",
    "\n",
    "By **Franklin Oliveira**\n",
    "\n",
    "-----\n",
    "\n",
    "This notebook contains Python code to generate seasonality visualizations on the `repteis` database. Here you'll find some basic data treatment and adjustments that presented necessary to make adjustments for the graph. <font color='blue'>'Compilacao Livros Repteis - 2 a 10 - 2020_04_28.xls'</font>."
   ]
  },
  {
   "cell_type": "code",
   "execution_count": 1,
   "metadata": {
    "ExecuteTime": {
     "end_time": "2020-07-15T16:00:54.675967Z",
     "start_time": "2020-07-15T16:00:53.670693Z"
    }
   },
   "outputs": [
    {
     "data": {
      "text/plain": [
       "DataTransformerRegistry.enable('default')"
      ]
     },
     "execution_count": 1,
     "metadata": {},
     "output_type": "execute_result"
    }
   ],
   "source": [
    "import datetime\n",
    "import numpy as np\n",
    "import pandas as pd\n",
    "\n",
    "from collections import defaultdict\n",
    "\n",
    "# pacotes para visualização rápida\n",
    "import seaborn as sns\n",
    "import matplotlib.pyplot as plt\n",
    "\n",
    "# pacote para visualização principal\n",
    "import altair as alt\n",
    "\n",
    "# habilitando renderizador para notebook\n",
    "# alt.renderers.enable('notebook')\n",
    "alt.renderers.enable('default')\n",
    "\n",
    "\n",
    "# desabilitando limite de linhas\n",
    "alt.data_transformers.disable_max_rows()"
   ]
  },
  {
   "cell_type": "markdown",
   "metadata": {},
   "source": [
    "## Importing data..."
   ]
  },
  {
   "cell_type": "code",
   "execution_count": 2,
   "metadata": {
    "ExecuteTime": {
     "end_time": "2020-07-15T16:00:56.263223Z",
     "start_time": "2020-07-15T16:00:54.679406Z"
    }
   },
   "outputs": [
    {
     "name": "stdout",
     "output_type": "stream",
     "text": [
      "The excel file contains the following sheets: ['Repteis-2020-02-11-csv']\n",
      "\n",
      "Database is in sheet: Repteis-2020-02-11-csv\n"
     ]
    }
   ],
   "source": [
    "excel = pd.ExcelFile('Compilacao Livros Repteis - 2 a 10 - 2020_04_28.xls')\n",
    "sheet_name = excel.sheet_names\n",
    "\n",
    "print('The excel file contains the following sheets:', sheet_name)\n",
    "print('\\nDatabase is in sheet:', sheet_name[0])"
   ]
  },
  {
   "cell_type": "code",
   "execution_count": 3,
   "metadata": {
    "ExecuteTime": {
     "end_time": "2020-07-15T16:00:57.850543Z",
     "start_time": "2020-07-15T16:00:56.265755Z"
    }
   },
   "outputs": [
    {
     "name": "stdout",
     "output_type": "stream",
     "text": [
      "The database has 23119 rows and 114 columns.\n"
     ]
    }
   ],
   "source": [
    "db = excel.parse(sheet_name[0], sep=';', encoding='utf-8-sig')\n",
    "\n",
    "# p.s.: I'm parsing a pre-treated file provided by Asla\n",
    "#db = pd.read_excel('db.csv', sep=',', encoding='utf-8-sig', low_memory=False)\n",
    "print(f'The database has {db.shape[0]} rows and {db.shape[1]} columns.')"
   ]
  },
  {
   "cell_type": "code",
   "execution_count": 4,
   "metadata": {
    "ExecuteTime": {
     "end_time": "2020-07-15T16:00:57.893400Z",
     "start_time": "2020-07-15T16:00:57.854257Z"
    }
   },
   "outputs": [],
   "source": [
    "# copying database to another variable to make a few changes keeping the original intact\n",
    "repteis = db.copy()"
   ]
  },
  {
   "cell_type": "markdown",
   "metadata": {},
   "source": [
    "<br>\n",
    "\n",
    "<font color='red' size='5'>**p.s.:** We were told by the Curator that some names in this database may remain confidential. So, I'm gonna skip this step for now until we know how to treat this data appropriately </font>\n",
    "\n",
    "### Name columns\n",
    "\n",
    "`DeterminatorFirstName1` e `DeterminatorLastName1`\n",
    "\n",
    "#### treating determiner's name \n",
    "\n",
    "In this step, we're going to put together 'determinator's' first and last name. \n",
    "\n",
    "`DeterminatorFirstName1` + `DeterminatorLastName1`\n",
    "\n",
    "Just concatenating those two columns is not satisfactory because there's some dirt in these data columns. So, let's begin by treating them..."
   ]
  },
  {
   "cell_type": "code",
   "execution_count": 5,
   "metadata": {
    "ExecuteTime": {
     "end_time": "2020-07-15T16:00:57.948991Z",
     "start_time": "2020-07-15T16:00:57.901486Z"
    }
   },
   "outputs": [],
   "source": [
    "# repteis['DeterminatorFirstName1'].value_counts()\n",
    "# repteis['DeterminatorLastName1'].value_counts()"
   ]
  },
  {
   "cell_type": "code",
   "execution_count": 6,
   "metadata": {
    "ExecuteTime": {
     "end_time": "2020-07-15T16:00:58.049689Z",
     "start_time": "2020-07-15T16:00:57.958975Z"
    }
   },
   "outputs": [],
   "source": [
    "def treat_names(name, pos='first'):\n",
    "    '''\n",
    "    Treat names keeping NaN as such.\n",
    "    \n",
    "    Arguments: \n",
    "        - name: name to be treated. \n",
    "        - pos (str): name position. One of ['first', 'last']\n",
    "    '''\n",
    "    if type(name) == str and pos == 'first':     # first name\n",
    "        \n",
    "        if len(name.split(' ')) > 1:             # treats composite names (+ 1 name)\n",
    "            return str(name).strip().split(' ')[0].capitalize()\n",
    "        else:\n",
    "            return str(name).strip().capitalize()\n",
    "    \n",
    "    elif type(name) == str and pos == 'last':    # last name\n",
    "        \n",
    "        if len(name.split(' ')) > 1:             # treats composite last name (+ 1 surname)\n",
    "            return str(name).strip().split(' ')[-1].capitalize()\n",
    "        else:\n",
    "            return str(name).strip().capitalize()   \n",
    "    else:\n",
    "        return name"
   ]
  },
  {
   "cell_type": "markdown",
   "metadata": {},
   "source": [
    "applying function to the two column names"
   ]
  },
  {
   "cell_type": "code",
   "execution_count": 7,
   "metadata": {
    "ExecuteTime": {
     "end_time": "2020-07-15T16:00:58.122212Z",
     "start_time": "2020-07-15T16:00:58.054723Z"
    }
   },
   "outputs": [],
   "source": [
    "#crustaceas['Determiner First Name1'] = crustaceas['Determiner First Name1'].apply(treat_names)\n",
    "# crustaceas['Determiner First Name1'].value_counts()"
   ]
  },
  {
   "cell_type": "code",
   "execution_count": 8,
   "metadata": {
    "ExecuteTime": {
     "end_time": "2020-07-15T16:00:58.256218Z",
     "start_time": "2020-07-15T16:00:58.127330Z"
    }
   },
   "outputs": [],
   "source": [
    "#crustaceas['Determiner Last Name1'] = crustaceas['Determiner Last Name1'].apply(lambda x:\n",
    "#                                                                treat_names(x, pos='last'))\n",
    "# crustaceas['Determiner Last Name1'].value_counts()"
   ]
  },
  {
   "cell_type": "code",
   "execution_count": 9,
   "metadata": {
    "ExecuteTime": {
     "end_time": "2020-07-15T16:00:58.345902Z",
     "start_time": "2020-07-15T16:00:58.260589Z"
    }
   },
   "outputs": [],
   "source": [
    "# creating column with First and Last name for identification\n",
    "#crustaceas['Determiner First_and_Last Name'] = crustaceas['Determiner First Name1'] + ' ' + crustaceas['Determiner Last Name1']"
   ]
  },
  {
   "cell_type": "markdown",
   "metadata": {},
   "source": [
    "<br>\n",
    "\n",
    "## Adjusting columns names\n",
    "\n",
    "### removing '\\n'"
   ]
  },
  {
   "cell_type": "code",
   "execution_count": 10,
   "metadata": {
    "ExecuteTime": {
     "end_time": "2020-07-15T16:00:58.459607Z",
     "start_time": "2020-07-15T16:00:58.348602Z"
    }
   },
   "outputs": [],
   "source": [
    "repteis.columns = [str(col).replace(r'\\n','') for col in repteis.columns]"
   ]
  },
  {
   "cell_type": "markdown",
   "metadata": {},
   "source": [
    "#### closer look on some columns..."
   ]
  },
  {
   "cell_type": "code",
   "execution_count": 11,
   "metadata": {
    "ExecuteTime": {
     "end_time": "2020-07-15T16:00:58.532517Z",
     "start_time": "2020-07-15T16:00:58.462298Z"
    }
   },
   "outputs": [],
   "source": [
    "# for col in repteis.columns:\n",
    "#     print('-', col)"
   ]
  },
  {
   "cell_type": "code",
   "execution_count": 12,
   "metadata": {
    "ExecuteTime": {
     "end_time": "2020-07-15T16:00:58.625680Z",
     "start_time": "2020-07-15T16:00:58.535769Z"
    }
   },
   "outputs": [
    {
     "data": {
      "text/plain": [
       "torquatus       1403\n",
       "ocellifera       779\n",
       "jararaca         635\n",
       "hispidus         607\n",
       "ameiva           558\n",
       "                ... \n",
       "boulengeri         1\n",
       "arenarius          1\n",
       "baturitensis       1\n",
       "percarinatum       1\n",
       "squamosus          1\n",
       "Name: Especie_atual, Length: 803, dtype: int64"
      ]
     },
     "execution_count": 12,
     "metadata": {},
     "output_type": "execute_result"
    }
   ],
   "source": [
    "repteis['Especie_atual'].value_counts()"
   ]
  },
  {
   "cell_type": "markdown",
   "metadata": {},
   "source": [
    "<font size='5'>**Equivalência de colunas:** </font>\n",
    "\n",
    "**Nome diferente:** <br>\n",
    "- Species1: Especie_ent ou Especie_atual\n",
    "- Species Author1: ?\n",
    "- Type Status1: Type Status 1\n",
    "- Qualifier1: Qualificador_ent Qualificador_atual\n",
    "- Determiner First Name1: DeterminatorFirstName1\n",
    "- Determiner Middle1: DeterminatorMiddleInitial1\n",
    "- Determiner Last Name1: DeterminatorLastName1\n",
    "- Determined Date1: DataDaDeterminacao"
   ]
  },
  {
   "cell_type": "code",
   "execution_count": 13,
   "metadata": {
    "ExecuteTime": {
     "end_time": "2020-07-15T16:00:58.710663Z",
     "start_time": "2020-07-15T16:00:58.628741Z"
    }
   },
   "outputs": [
    {
     "data": {
      "text/html": [
       "<div>\n",
       "<style scoped>\n",
       "    .dataframe tbody tr th:only-of-type {\n",
       "        vertical-align: middle;\n",
       "    }\n",
       "\n",
       "    .dataframe tbody tr th {\n",
       "        vertical-align: top;\n",
       "    }\n",
       "\n",
       "    .dataframe thead th {\n",
       "        text-align: right;\n",
       "    }\n",
       "</style>\n",
       "<table border=\"1\" class=\"dataframe\">\n",
       "  <thead>\n",
       "    <tr style=\"text-align: right;\">\n",
       "      <th></th>\n",
       "      <th>Especie_atual</th>\n",
       "      <th>Type Status 1</th>\n",
       "      <th>Qualificador_atual</th>\n",
       "      <th>DeterminatorFirstName1</th>\n",
       "      <th>DeterminatorMiddleInitial1</th>\n",
       "      <th>DeterminatorLastName1</th>\n",
       "      <th>DataDaDeterminacao</th>\n",
       "    </tr>\n",
       "  </thead>\n",
       "  <tbody>\n",
       "    <tr>\n",
       "      <th>0</th>\n",
       "      <td>geoffroanus</td>\n",
       "      <td>NaN</td>\n",
       "      <td>-</td>\n",
       "      <td>L.</td>\n",
       "      <td>M.F.</td>\n",
       "      <td>Cunha</td>\n",
       "      <td>00/11/2018</td>\n",
       "    </tr>\n",
       "    <tr>\n",
       "      <th>1</th>\n",
       "      <td>suspectum</td>\n",
       "      <td>NaN</td>\n",
       "      <td>NaN</td>\n",
       "      <td>NaN</td>\n",
       "      <td>NaN</td>\n",
       "      <td>NaN</td>\n",
       "      <td>NaN</td>\n",
       "    </tr>\n",
       "    <tr>\n",
       "      <th>2</th>\n",
       "      <td>alba</td>\n",
       "      <td>NaN</td>\n",
       "      <td>NaN</td>\n",
       "      <td>NaN</td>\n",
       "      <td>NaN</td>\n",
       "      <td>NaN</td>\n",
       "      <td>NaN</td>\n",
       "    </tr>\n",
       "    <tr>\n",
       "      <th>3</th>\n",
       "      <td>corais</td>\n",
       "      <td>NaN</td>\n",
       "      <td>NaN</td>\n",
       "      <td>NaN</td>\n",
       "      <td>NaN</td>\n",
       "      <td>NaN</td>\n",
       "      <td>NaN</td>\n",
       "    </tr>\n",
       "    <tr>\n",
       "      <th>4</th>\n",
       "      <td>bottae</td>\n",
       "      <td>NaN</td>\n",
       "      <td>NaN</td>\n",
       "      <td>NaN</td>\n",
       "      <td>NaN</td>\n",
       "      <td>NaN</td>\n",
       "      <td>NaN</td>\n",
       "    </tr>\n",
       "    <tr>\n",
       "      <th>...</th>\n",
       "      <td>...</td>\n",
       "      <td>...</td>\n",
       "      <td>...</td>\n",
       "      <td>...</td>\n",
       "      <td>...</td>\n",
       "      <td>...</td>\n",
       "      <td>...</td>\n",
       "    </tr>\n",
       "    <tr>\n",
       "      <th>23114</th>\n",
       "      <td>ibiboboca</td>\n",
       "      <td>NaN</td>\n",
       "      <td>NaN</td>\n",
       "      <td>P.</td>\n",
       "      <td>NaN</td>\n",
       "      <td>Passos</td>\n",
       "      <td>00/10/2016</td>\n",
       "    </tr>\n",
       "    <tr>\n",
       "      <th>23115</th>\n",
       "      <td>ibiboboca</td>\n",
       "      <td>NaN</td>\n",
       "      <td>NaN</td>\n",
       "      <td>P.</td>\n",
       "      <td>NaN</td>\n",
       "      <td>Passos</td>\n",
       "      <td>00/10/2016</td>\n",
       "    </tr>\n",
       "    <tr>\n",
       "      <th>23116</th>\n",
       "      <td>quadricarinatus</td>\n",
       "      <td>NaN</td>\n",
       "      <td>NaN</td>\n",
       "      <td>P.</td>\n",
       "      <td>NaN</td>\n",
       "      <td>Passos</td>\n",
       "      <td>00/10/2016</td>\n",
       "    </tr>\n",
       "    <tr>\n",
       "      <th>23117</th>\n",
       "      <td>bicarinatus</td>\n",
       "      <td>NaN</td>\n",
       "      <td>NaN</td>\n",
       "      <td>P.</td>\n",
       "      <td>NaN</td>\n",
       "      <td>Pinna</td>\n",
       "      <td>00/10/2016</td>\n",
       "    </tr>\n",
       "    <tr>\n",
       "      <th>23118</th>\n",
       "      <td>bicarinatus</td>\n",
       "      <td>NaN</td>\n",
       "      <td>NaN</td>\n",
       "      <td>P.</td>\n",
       "      <td>NaN</td>\n",
       "      <td>Pinna</td>\n",
       "      <td>00/10/2016</td>\n",
       "    </tr>\n",
       "  </tbody>\n",
       "</table>\n",
       "<p>23119 rows × 7 columns</p>\n",
       "</div>"
      ],
      "text/plain": [
       "         Especie_atual  Type Status 1 Qualificador_atual  \\\n",
       "0          geoffroanus            NaN                  -   \n",
       "1            suspectum            NaN                NaN   \n",
       "2                 alba            NaN                NaN   \n",
       "3               corais            NaN                NaN   \n",
       "4               bottae            NaN                NaN   \n",
       "...                ...            ...                ...   \n",
       "23114        ibiboboca            NaN                NaN   \n",
       "23115        ibiboboca            NaN                NaN   \n",
       "23116  quadricarinatus            NaN                NaN   \n",
       "23117      bicarinatus            NaN                NaN   \n",
       "23118      bicarinatus            NaN                NaN   \n",
       "\n",
       "      DeterminatorFirstName1 DeterminatorMiddleInitial1 DeterminatorLastName1  \\\n",
       "0                         L.                       M.F.                 Cunha   \n",
       "1                        NaN                        NaN                   NaN   \n",
       "2                        NaN                        NaN                   NaN   \n",
       "3                        NaN                        NaN                   NaN   \n",
       "4                        NaN                        NaN                   NaN   \n",
       "...                      ...                        ...                   ...   \n",
       "23114                     P.                        NaN                Passos   \n",
       "23115                     P.                        NaN                Passos   \n",
       "23116                     P.                        NaN                Passos   \n",
       "23117                     P.                        NaN                 Pinna   \n",
       "23118                     P.                        NaN                 Pinna   \n",
       "\n",
       "      DataDaDeterminacao  \n",
       "0             00/11/2018  \n",
       "1                    NaN  \n",
       "2                    NaN  \n",
       "3                    NaN  \n",
       "4                    NaN  \n",
       "...                  ...  \n",
       "23114         00/10/2016  \n",
       "23115         00/10/2016  \n",
       "23116         00/10/2016  \n",
       "23117         00/10/2016  \n",
       "23118         00/10/2016  \n",
       "\n",
       "[23119 rows x 7 columns]"
      ]
     },
     "execution_count": 13,
     "metadata": {},
     "output_type": "execute_result"
    }
   ],
   "source": [
    "repteis[['Especie_atual', 'Type Status 1', 'Qualificador_atual', 'DeterminatorFirstName1',\n",
    "       'DeterminatorMiddleInitial1', 'DeterminatorLastName1', 'DataDaDeterminacao']]"
   ]
  },
  {
   "cell_type": "markdown",
   "metadata": {},
   "source": [
    "<br>\n",
    "\n",
    "## preparing data for charts..."
   ]
  },
  {
   "cell_type": "markdown",
   "metadata": {},
   "source": [
    "### Column: `Type Status1`\n",
    "\n",
    "contains info on species type"
   ]
  },
  {
   "cell_type": "code",
   "execution_count": 14,
   "metadata": {
    "ExecuteTime": {
     "end_time": "2020-07-15T16:00:58.795772Z",
     "start_time": "2020-07-15T16:00:58.713408Z"
    }
   },
   "outputs": [
    {
     "data": {
      "text/plain": [
       "Series([], Name: Type Status 1, dtype: int64)"
      ]
     },
     "execution_count": 14,
     "metadata": {},
     "output_type": "execute_result"
    }
   ],
   "source": [
    "repteis['Type Status 1'].value_counts().head()  # essa coluna está vazia!?"
   ]
  },
  {
   "cell_type": "markdown",
   "metadata": {},
   "source": [
    "#### Let's begin cleaning this data and lowering all cases."
   ]
  },
  {
   "cell_type": "code",
   "execution_count": 15,
   "metadata": {
    "ExecuteTime": {
     "end_time": "2020-07-15T16:00:58.861787Z",
     "start_time": "2020-07-15T16:00:58.815312Z"
    }
   },
   "outputs": [],
   "source": [
    "#repteis['Type Status 1'] = repteis['Type Status 1'].str.strip().str.lower().str.capitalize()"
   ]
  },
  {
   "cell_type": "code",
   "execution_count": 16,
   "metadata": {
    "ExecuteTime": {
     "end_time": "2020-07-15T16:00:58.939260Z",
     "start_time": "2020-07-15T16:00:58.867134Z"
    }
   },
   "outputs": [
    {
     "data": {
      "text/plain": [
       "Series([], Name: Type Status 1, dtype: int64)"
      ]
     },
     "execution_count": 16,
     "metadata": {},
     "output_type": "execute_result"
    }
   ],
   "source": [
    "repteis['Type Status 1'].value_counts().head()"
   ]
  },
  {
   "cell_type": "markdown",
   "metadata": {},
   "source": [
    "### preparing taxonomy columns\n",
    "\n",
    "`Kingdom` - `Phylum` - `Class` - `Ordem` - `Familia` - `Genero_ent`- `Genero_atual` - `Especie_ent` - `Especie_atual`\n",
    "\n",
    "**Colunas faltando:**\n",
    "- `Subphylum1`\n",
    "- `Subclass1`\n",
    "- `Infraclass1`\n",
    "- `Superorder1`\n",
    "- `Suborder1` \n",
    "- `Infraorder1` \n",
    "- `Superfamily1`\n",
    "- `Subfamily1` \n",
    "- `Tribe1`"
   ]
  },
  {
   "cell_type": "code",
   "execution_count": 17,
   "metadata": {
    "ExecuteTime": {
     "end_time": "2020-07-15T16:00:59.205959Z",
     "start_time": "2020-07-15T16:00:58.941821Z"
    }
   },
   "outputs": [
    {
     "name": "stdout",
     "output_type": "stream",
     "text": [
      "Adjusting column Kingdom\n",
      "Adjusting column Phylum\n",
      "Adjusting column Class\n",
      "Adjusting column Ordem\n",
      "Adjusting column Familia\n",
      "Adjusting column Genero_ent\n",
      "Adjusting column Genero_atual\n",
      "Adjusting column Especie_ent\n",
      "Adjusting column Especie_atual\n",
      "Adjusting column Subespecie_ent\n",
      "Adjusting column Subespecie_atual\n"
     ]
    }
   ],
   "source": [
    "taxon_columns = ['Kingdom', 'Phylum', 'Class', 'Ordem', 'Familia', 'Genero_ent',\n",
    "                 'Genero_atual', 'Especie_ent', 'Especie_atual', 'Subespecie_ent',\n",
    "                 'Subespecie_atual']  # selecting taxonomy columns\n",
    "\n",
    "# defining function\n",
    "def treat_str(x):\n",
    "    return str(x).lower().capitalize().strip()\n",
    "\n",
    "# applying treatment\n",
    "for col in taxon_columns:\n",
    "    print(f'Adjusting column {col}')\n",
    "    repteis[col] = repteis[col].apply(treat_str)"
   ]
  },
  {
   "cell_type": "markdown",
   "metadata": {},
   "source": [
    "### adding `Genero` and `Especie`together (they completely identify each animal's species)"
   ]
  },
  {
   "cell_type": "code",
   "execution_count": 18,
   "metadata": {
    "ExecuteTime": {
     "end_time": "2020-07-15T16:00:59.287409Z",
     "start_time": "2020-07-15T16:00:59.208557Z"
    }
   },
   "outputs": [],
   "source": [
    "repteis['genero_e_especie_ent'] = repteis['Genero_ent'] + ' ' + repteis['Especie_ent']\n",
    "repteis['genero_e_especie_atual'] = repteis['Genero_atual'] + ' ' + repteis['Especie_atual']\n",
    "\n",
    "repteis['genero_e_especie_ent'] = repteis['genero_e_especie_ent'].str.lower().str.capitalize()\n",
    "repteis['genero_e_especie_atual'] = repteis['genero_e_especie_atual'].str.lower().str.capitalize()"
   ]
  },
  {
   "cell_type": "markdown",
   "metadata": {},
   "source": [
    "<br>\n",
    "\n",
    "### Collecting date (year) and sclicing main DB to a smaller dataset \n",
    "\n",
    "Columns: `Determined Date1` - `Class1` - `Kingdom` and more..."
   ]
  },
  {
   "cell_type": "code",
   "execution_count": 19,
   "metadata": {
    "ExecuteTime": {
     "end_time": "2020-07-15T16:01:22.096898Z",
     "start_time": "2020-07-15T16:00:59.289137Z"
    }
   },
   "outputs": [
    {
     "data": {
      "text/html": [
       "<div>\n",
       "<style scoped>\n",
       "    .dataframe tbody tr th:only-of-type {\n",
       "        vertical-align: middle;\n",
       "    }\n",
       "\n",
       "    .dataframe tbody tr th {\n",
       "        vertical-align: top;\n",
       "    }\n",
       "\n",
       "    .dataframe thead th {\n",
       "        text-align: right;\n",
       "    }\n",
       "</style>\n",
       "<table border=\"1\" class=\"dataframe\">\n",
       "  <thead>\n",
       "    <tr style=\"text-align: right;\">\n",
       "      <th></th>\n",
       "      <th>ano_coleta</th>\n",
       "      <th>mes_coleta</th>\n",
       "      <th>class</th>\n",
       "      <th>kingdom</th>\n",
       "      <th>genero_ent</th>\n",
       "      <th>genero_atual</th>\n",
       "      <th>especie_ent</th>\n",
       "      <th>especie_atual</th>\n",
       "      <th>genero_e_especie_ent</th>\n",
       "      <th>genero_e_especie_atual</th>\n",
       "      <th>...</th>\n",
       "      <th>determinator_first_name</th>\n",
       "      <th>determinator_last_name</th>\n",
       "      <th>altitude</th>\n",
       "      <th>ordem</th>\n",
       "      <th>familia</th>\n",
       "      <th>phylum</th>\n",
       "      <th>tipo</th>\n",
       "      <th>qualificador_atual</th>\n",
       "      <th>ano_determinacao</th>\n",
       "      <th>ano_entrada</th>\n",
       "    </tr>\n",
       "  </thead>\n",
       "  <tbody>\n",
       "    <tr>\n",
       "      <th>0</th>\n",
       "      <td>NaN</td>\n",
       "      <td>NaN</td>\n",
       "      <td>Reptilia</td>\n",
       "      <td>Animalia</td>\n",
       "      <td>Nan</td>\n",
       "      <td>Phrynops</td>\n",
       "      <td>Nan</td>\n",
       "      <td>Geoffroanus</td>\n",
       "      <td>Nan nan</td>\n",
       "      <td>Phrynops geoffroanus</td>\n",
       "      <td>...</td>\n",
       "      <td>L.</td>\n",
       "      <td>Cunha</td>\n",
       "      <td>NaN</td>\n",
       "      <td>Testudines</td>\n",
       "      <td>Chelidae</td>\n",
       "      <td>Chordata</td>\n",
       "      <td>NaN</td>\n",
       "      <td>-</td>\n",
       "      <td>2018.0</td>\n",
       "      <td>NaN</td>\n",
       "    </tr>\n",
       "    <tr>\n",
       "      <th>1</th>\n",
       "      <td>NaN</td>\n",
       "      <td>NaN</td>\n",
       "      <td>Reptilia</td>\n",
       "      <td>Animalia</td>\n",
       "      <td>Heloderma</td>\n",
       "      <td>Heloderma</td>\n",
       "      <td>Suspectum</td>\n",
       "      <td>Suspectum</td>\n",
       "      <td>Heloderma suspectum</td>\n",
       "      <td>Heloderma suspectum</td>\n",
       "      <td>...</td>\n",
       "      <td>NaN</td>\n",
       "      <td>NaN</td>\n",
       "      <td>NaN</td>\n",
       "      <td>Squamata</td>\n",
       "      <td>Helodermatidae</td>\n",
       "      <td>Chordata</td>\n",
       "      <td>NaN</td>\n",
       "      <td>NaN</td>\n",
       "      <td>NaN</td>\n",
       "      <td>NaN</td>\n",
       "    </tr>\n",
       "  </tbody>\n",
       "</table>\n",
       "<p>2 rows × 21 columns</p>\n",
       "</div>"
      ],
      "text/plain": [
       "   ano_coleta  mes_coleta     class   kingdom genero_ent genero_atual  \\\n",
       "0         NaN         NaN  Reptilia  Animalia        Nan     Phrynops   \n",
       "1         NaN         NaN  Reptilia  Animalia  Heloderma    Heloderma   \n",
       "\n",
       "  especie_ent especie_atual genero_e_especie_ent genero_e_especie_atual  ...  \\\n",
       "0         Nan   Geoffroanus              Nan nan   Phrynops geoffroanus  ...   \n",
       "1   Suspectum     Suspectum  Heloderma suspectum    Heloderma suspectum  ...   \n",
       "\n",
       "   determinator_first_name determinator_last_name altitude       ordem  \\\n",
       "0                       L.                  Cunha      NaN  Testudines   \n",
       "1                      NaN                    NaN      NaN    Squamata   \n",
       "\n",
       "          familia    phylum tipo qualificador_atual ano_determinacao  \\\n",
       "0        Chelidae  Chordata  NaN                  -           2018.0   \n",
       "1  Helodermatidae  Chordata  NaN                NaN              NaN   \n",
       "\n",
       "   ano_entrada  \n",
       "0          NaN  \n",
       "1          NaN  \n",
       "\n",
       "[2 rows x 21 columns]"
      ]
     },
     "execution_count": 19,
     "metadata": {},
     "output_type": "execute_result"
    }
   ],
   "source": [
    "# slicing main database (repteis)\n",
    "Table = repteis[['DataDeEntrada','DataDaDeterminacao','DataColetaInicial','Class','Kingdom', \n",
    "                    'Genero_ent', 'Genero_atual', 'Especie_ent', 'Especie_atual', 'Type Status 1',\n",
    "                    'DeterminatorFirstName1', 'DeterminatorLastName1', 'genero_e_especie_ent',\n",
    "                    'genero_e_especie_atual','MinAltitude',\n",
    "                    'Ordem', 'Familia', 'Phylum', 'Qualificador_atual', 'NotasTaxonomicas']].copy()\n",
    "\n",
    "# OBS: Determined Date1 has many missing values... CHECK THAT\n",
    "d = []\n",
    "counter=0\n",
    "for row in Table['DataColetaInicial']:\n",
    "    if not str(row).find('/')==-1:\n",
    "        dates_values = str(row).split(\"/\")\n",
    "        year = int(dates_values[-1])\n",
    "        month = int(dates_values[1])\n",
    "#        if (month>1) and (month<12):\n",
    "            #store the year and month in a datetime datatype for later sorting\n",
    "#            dateRecord = datetime.datetime(year,month,1) \n",
    "    else:\n",
    "        year = Table.loc[counter, 'DataColetaInicial']\n",
    "        month = Table.loc[counter, 'DataColetaInicial']\n",
    "    \n",
    "    # mais um condicional para tratar anos vazios ' '\n",
    "    if year == ' ':\n",
    "        year = np.NAN\n",
    "        month = np.NAN\n",
    "        \n",
    "    d.append({'ano_coleta':year,\n",
    "              'mes_coleta':month,\n",
    "              'class':Table.loc[counter,'Class'],\n",
    "              'kingdom':Table.loc[counter,'Kingdom'], 'genero_ent':Table.loc[counter,'Genero_ent'],\n",
    "              'genero_atual':Table.loc[counter,'Genero_atual'],\n",
    "              'especie_ent':Table.loc[counter,'Especie_ent'],\n",
    "              'especie_atual':Table.loc[counter,'Especie_atual'],\n",
    "              'genero_e_especie_ent': Table.loc[counter,'genero_e_especie_ent'],\n",
    "              'genero_e_especie_atual': Table.loc[counter,'genero_e_especie_atual'],\n",
    "              'type_status':Table.loc[counter,'Type Status 1'], \n",
    "              'determinator_first_name':Table.loc[counter,'DeterminatorFirstName1'],\n",
    "              'determinator_last_name':Table.loc[counter,'DeterminatorLastName1'],\n",
    "              'altitude':Table.loc[counter,'MinAltitude'],\n",
    "              'ordem':Table.loc[counter,'Ordem'],\n",
    "              'familia':Table.loc[counter,'Familia'],\n",
    "              'phylum': Table.loc[counter,'Phylum'],\n",
    "              'tipo': Table.loc[counter,'NotasTaxonomicas'],\n",
    "              'qualificador_atual': Table.loc[counter,'Qualificador_atual']\n",
    "              })\n",
    "    counter = counter+1\n",
    "\n",
    "    \n",
    "NewTable = pd.DataFrame(d)\n",
    "\n",
    "\n",
    "### collecting determined year (p.s.: being careful to keep NaNs as they show up)\n",
    "NewTable['ano_determinacao'] = np.nan\n",
    "\n",
    "d1 = []\n",
    "counter=0\n",
    "for row in Table['DataDaDeterminacao']:\n",
    "    try:  # if Determined Date1 is empty, keep it so \n",
    "        if np.isnan(row):\n",
    "            year= np.NAN\n",
    "    \n",
    "    except:\n",
    "        if not str(row).find('/')==-1:\n",
    "            dates_values = str(row).split(\"/\")\n",
    "            year = int(dates_values[-1])\n",
    "            month = int(dates_values[1])\n",
    "#            if (month>1) and (month<12):\n",
    "                #store the year and month in a datetime datatype for later sorting\n",
    "#                dateRecord = datetime.datetime(year,month,1)    \n",
    "    \n",
    "    NewTable.loc[counter, 'ano_determinacao'] = year\n",
    "    counter = counter+1\n",
    "\n",
    "    \n",
    "### collecting start year (p.s.: being careful to keep NaNs as they show up)  \n",
    "NewTable['ano_entrada'] = np.nan\n",
    "d1 = []\n",
    "counter=0\n",
    "for row in Table['DataDeEntrada']:\n",
    "    try:  # if Start Date is empty, keep it so \n",
    "        if np.isnan(row):\n",
    "            year= np.NAN\n",
    "    \n",
    "    except:\n",
    "        if not str(row).find('/')==-1:\n",
    "            dates_values = str(row).split(\"/\")\n",
    "            year = int(dates_values[-1])\n",
    "            month = int(dates_values[1])\n",
    "#            if (month>1) and (month<12):\n",
    "                #store the year and month in a datetime datatype for later sorting\n",
    "#                dateRecord = datetime.datetime(year,month,1)    \n",
    "\n",
    "    NewTable.loc[counter, 'ano_entrada'] = year\n",
    "    counter = counter+1\n",
    "\n",
    "# NewTable['determined_year'] = pd.Series(year, index=NewTable.index)\n",
    "NewTable.head(2)"
   ]
  },
  {
   "cell_type": "code",
   "execution_count": 20,
   "metadata": {
    "ExecuteTime": {
     "end_time": "2020-07-15T16:01:22.106407Z",
     "start_time": "2020-07-15T16:01:22.099116Z"
    }
   },
   "outputs": [
    {
     "name": "stdout",
     "output_type": "stream",
     "text": [
      "ano_entrada info is valid.\n"
     ]
    }
   ],
   "source": [
    "# checks if NaNs are in the same position \n",
    "result = (NewTable['ano_entrada'].isna() == repteis['DataDeEntrada'].isna()).sum() == NewTable.shape[0]\n",
    "\n",
    "if result:\n",
    "    print('ano_entrada info is valid.')\n",
    "else:\n",
    "    print(\"There's something wrong with NewTable. Check how you're collecting Start Year info.\")"
   ]
  },
  {
   "cell_type": "code",
   "execution_count": 21,
   "metadata": {
    "ExecuteTime": {
     "end_time": "2020-07-15T16:01:22.253418Z",
     "start_time": "2020-07-15T16:01:22.108284Z"
    }
   },
   "outputs": [],
   "source": [
    "# year in which the holotipo was \"firstly\" found \n",
    "#NewTable['holotipo_year'] = NewTable['species_author'].str.extract('(\\d+)')"
   ]
  },
  {
   "cell_type": "markdown",
   "metadata": {},
   "source": [
    "<br>\n",
    "\n",
    "### creating `years` columns in repteis"
   ]
  },
  {
   "cell_type": "code",
   "execution_count": 22,
   "metadata": {
    "ExecuteTime": {
     "end_time": "2020-07-15T16:01:22.321436Z",
     "start_time": "2020-07-15T16:01:22.260210Z"
    }
   },
   "outputs": [],
   "source": [
    "def catch_year(row):\n",
    "    if not str(row).find('/')==-1:\n",
    "        dates_values = str(row).split(\"/\")\n",
    "        year = int(dates_values[-1])\n",
    "        month = int(dates_values[1])\n",
    "        return year\n",
    "    else:\n",
    "        return np.NaN"
   ]
  },
  {
   "cell_type": "code",
   "execution_count": 23,
   "metadata": {
    "ExecuteTime": {
     "end_time": "2020-07-15T16:01:22.474139Z",
     "start_time": "2020-07-15T16:01:22.331879Z"
    }
   },
   "outputs": [],
   "source": [
    "repteis['ano_determinacao'] = repteis['DataDaDeterminacao'].apply(catch_year)\n",
    "repteis['ano_coleta'] = repteis['DataColetaInicial'].apply(catch_year)\n",
    "repteis['ano_entrada'] = repteis['DataDeEntrada'].apply(catch_year)"
   ]
  },
  {
   "cell_type": "markdown",
   "metadata": {},
   "source": [
    "<br>\n",
    "\n",
    "<font size=5>**Paleta de cores por Ordem**</font>\n",
    "\n",
    "Abaixo está a imagem usada como inspiração (https://color.adobe.com/create/image)\n",
    "\n",
    "<img src=\"./paleta_cores.jpeg\" width='500px'>\n",
    "\n",
    "Cores: \n",
    "\n",
    "- verde_escuro: #284021\n",
    "- verde_claro: #88BF11\n",
    "- amarelo: #D9CB0B\n",
    "- laranja: #D99311\n",
    "- laranja_escuro: #BF4417\n",
    "- marrom-_laro: #BF8D7A"
   ]
  },
  {
   "cell_type": "code",
   "execution_count": 24,
   "metadata": {
    "ExecuteTime": {
     "end_time": "2020-07-15T16:01:22.482161Z",
     "start_time": "2020-07-15T16:01:22.477894Z"
    }
   },
   "outputs": [],
   "source": [
    "# OBS: caudata é erro na base. Deve ser retirada. \n",
    "cores_ordem = {\n",
    "    'Squamata': '#BF4417',\n",
    "    'Testudines': '#D9CB0B', \n",
    "    'Crocodylia': '#284021'\n",
    "}"
   ]
  },
  {
   "cell_type": "code",
   "execution_count": 25,
   "metadata": {
    "ExecuteTime": {
     "end_time": "2020-07-15T16:01:22.557326Z",
     "start_time": "2020-07-15T16:01:22.484734Z"
    }
   },
   "outputs": [],
   "source": [
    "ordens = list(cores_ordem.keys())\n",
    "cores = list(cores_ordem.values())"
   ]
  },
  {
   "cell_type": "markdown",
   "metadata": {},
   "source": [
    "## Graphs\n",
    "\n",
    "### Total counts over time"
   ]
  },
  {
   "cell_type": "code",
   "execution_count": 31,
   "metadata": {
    "ExecuteTime": {
     "end_time": "2020-07-15T16:02:39.766874Z",
     "start_time": "2020-07-15T16:02:39.755390Z"
    }
   },
   "outputs": [
    {
     "data": {
      "text/plain": [
       "00/00/1986    109\n",
       "00/00/2009    101\n",
       "00/00/2010     91\n",
       "00/00/1876     74\n",
       "00/00/1996     60\n",
       "             ... \n",
       "00/00/1977      1\n",
       "00/00/2013      1\n",
       "00/00/1913      1\n",
       "00/00/1928      1\n",
       "00/00/1954      1\n",
       "Name: DataColetaInicial, Length: 75, dtype: int64"
      ]
     },
     "execution_count": 31,
     "metadata": {},
     "output_type": "execute_result"
    }
   ],
   "source": [
    "# formato: dd/mm/YYYY\n",
    "repteis.loc[idx, 'DataColetaInicial'].value_counts()"
   ]
  },
  {
   "cell_type": "code",
   "execution_count": 29,
   "metadata": {
    "ExecuteTime": {
     "end_time": "2020-07-15T16:02:18.153339Z",
     "start_time": "2020-07-15T16:02:18.147627Z"
    }
   },
   "outputs": [],
   "source": [
    "idx = NewTable[NewTable['mes_coleta'] == 0].index"
   ]
  },
  {
   "cell_type": "code",
   "execution_count": 104,
   "metadata": {
    "ExecuteTime": {
     "end_time": "2020-07-15T13:01:59.570105Z",
     "start_time": "2020-07-15T13:01:59.556886Z"
    }
   },
   "outputs": [],
   "source": [
    "counts = NewTable.dropna(subset=['ano_coleta', 'mes_coleta'], how='all')"
   ]
  },
  {
   "cell_type": "code",
   "execution_count": 105,
   "metadata": {
    "ExecuteTime": {
     "end_time": "2020-07-15T13:02:00.114958Z",
     "start_time": "2020-07-15T13:02:00.058387Z"
    }
   },
   "outputs": [],
   "source": [
    "counts = counts.groupby(['ano_coleta', 'mes_coleta']).count()['class'].reset_index().rename(\n",
    "                                                                            columns={'class':'counts'})"
   ]
  },
  {
   "cell_type": "code",
   "execution_count": 106,
   "metadata": {
    "ExecuteTime": {
     "end_time": "2020-07-15T13:02:00.507644Z",
     "start_time": "2020-07-15T13:02:00.498809Z"
    }
   },
   "outputs": [],
   "source": [
    "counts['ano_coleta'] = counts['ano_coleta'].astype(int)\n",
    "counts['mes_coleta'] = counts['mes_coleta'].astype(int)"
   ]
  },
  {
   "cell_type": "code",
   "execution_count": 107,
   "metadata": {
    "ExecuteTime": {
     "end_time": "2020-07-15T13:02:03.383105Z",
     "start_time": "2020-07-15T13:02:03.373317Z"
    }
   },
   "outputs": [
    {
     "data": {
      "text/html": [
       "<div>\n",
       "<style scoped>\n",
       "    .dataframe tbody tr th:only-of-type {\n",
       "        vertical-align: middle;\n",
       "    }\n",
       "\n",
       "    .dataframe tbody tr th {\n",
       "        vertical-align: top;\n",
       "    }\n",
       "\n",
       "    .dataframe thead th {\n",
       "        text-align: right;\n",
       "    }\n",
       "</style>\n",
       "<table border=\"1\" class=\"dataframe\">\n",
       "  <thead>\n",
       "    <tr style=\"text-align: right;\">\n",
       "      <th></th>\n",
       "      <th>ano_coleta</th>\n",
       "      <th>mes_coleta</th>\n",
       "      <th>counts</th>\n",
       "    </tr>\n",
       "  </thead>\n",
       "  <tbody>\n",
       "    <tr>\n",
       "      <th>0</th>\n",
       "      <td>0</td>\n",
       "      <td>5</td>\n",
       "      <td>1</td>\n",
       "    </tr>\n",
       "    <tr>\n",
       "      <th>1</th>\n",
       "      <td>0</td>\n",
       "      <td>6</td>\n",
       "      <td>1</td>\n",
       "    </tr>\n",
       "    <tr>\n",
       "      <th>2</th>\n",
       "      <td>0</td>\n",
       "      <td>7</td>\n",
       "      <td>1</td>\n",
       "    </tr>\n",
       "    <tr>\n",
       "      <th>3</th>\n",
       "      <td>0</td>\n",
       "      <td>11</td>\n",
       "      <td>2</td>\n",
       "    </tr>\n",
       "    <tr>\n",
       "      <th>4</th>\n",
       "      <td>1824</td>\n",
       "      <td>0</td>\n",
       "      <td>1</td>\n",
       "    </tr>\n",
       "  </tbody>\n",
       "</table>\n",
       "</div>"
      ],
      "text/plain": [
       "   ano_coleta  mes_coleta  counts\n",
       "0           0           5       1\n",
       "1           0           6       1\n",
       "2           0           7       1\n",
       "3           0          11       2\n",
       "4        1824           0       1"
      ]
     },
     "execution_count": 107,
     "metadata": {},
     "output_type": "execute_result"
    }
   ],
   "source": [
    "counts.head()"
   ]
  },
  {
   "cell_type": "code",
   "execution_count": 108,
   "metadata": {
    "ExecuteTime": {
     "end_time": "2020-07-15T13:02:04.024518Z",
     "start_time": "2020-07-15T13:02:04.017778Z"
    }
   },
   "outputs": [
    {
     "data": {
      "text/plain": [
       "0     75\n",
       "11    72\n",
       "2     71\n",
       "12    70\n",
       "1     70\n",
       "10    69\n",
       "7     68\n",
       "4     67\n",
       "3     67\n",
       "9     66\n",
       "8     66\n",
       "5     66\n",
       "6     61\n",
       "Name: mes_coleta, dtype: int64"
      ]
     },
     "execution_count": 108,
     "metadata": {},
     "output_type": "execute_result"
    }
   ],
   "source": [
    "counts['mes_coleta'].value_counts()"
   ]
  },
  {
   "cell_type": "code",
   "execution_count": 126,
   "metadata": {
    "ExecuteTime": {
     "end_time": "2020-07-15T13:12:29.258841Z",
     "start_time": "2020-07-15T13:12:29.183999Z"
    }
   },
   "outputs": [
    {
     "data": {
      "text/html": [
       "\n",
       "<div id=\"altair-viz-05055c4403c34b9da0c631d98da7546b\"></div>\n",
       "<script type=\"text/javascript\">\n",
       "  (function(spec, embedOpt){\n",
       "    let outputDiv = document.currentScript.previousElementSibling;\n",
       "    if (outputDiv.id !== \"altair-viz-05055c4403c34b9da0c631d98da7546b\") {\n",
       "      outputDiv = document.getElementById(\"altair-viz-05055c4403c34b9da0c631d98da7546b\");\n",
       "    }\n",
       "    const paths = {\n",
       "      \"vega\": \"https://cdn.jsdelivr.net/npm//vega@5?noext\",\n",
       "      \"vega-lib\": \"https://cdn.jsdelivr.net/npm//vega-lib?noext\",\n",
       "      \"vega-lite\": \"https://cdn.jsdelivr.net/npm//vega-lite@4.8.1?noext\",\n",
       "      \"vega-embed\": \"https://cdn.jsdelivr.net/npm//vega-embed@6?noext\",\n",
       "    };\n",
       "\n",
       "    function loadScript(lib) {\n",
       "      return new Promise(function(resolve, reject) {\n",
       "        var s = document.createElement('script');\n",
       "        s.src = paths[lib];\n",
       "        s.async = true;\n",
       "        s.onload = () => resolve(paths[lib]);\n",
       "        s.onerror = () => reject(`Error loading script: ${paths[lib]}`);\n",
       "        document.getElementsByTagName(\"head\")[0].appendChild(s);\n",
       "      });\n",
       "    }\n",
       "\n",
       "    function showError(err) {\n",
       "      outputDiv.innerHTML = `<div class=\"error\" style=\"color:red;\">${err}</div>`;\n",
       "      throw err;\n",
       "    }\n",
       "\n",
       "    function displayChart(vegaEmbed) {\n",
       "      vegaEmbed(outputDiv, spec, embedOpt)\n",
       "        .catch(err => showError(`Javascript Error: ${err.message}<br>This usually means there's a typo in your chart specification. See the javascript console for the full traceback.`));\n",
       "    }\n",
       "\n",
       "    if(typeof define === \"function\" && define.amd) {\n",
       "      requirejs.config({paths});\n",
       "      require([\"vega-embed\"], displayChart, err => showError(`Error loading script: ${err.message}`));\n",
       "    } else if (typeof vegaEmbed === \"function\") {\n",
       "      displayChart(vegaEmbed);\n",
       "    } else {\n",
       "      loadScript(\"vega\")\n",
       "        .then(() => loadScript(\"vega-lite\"))\n",
       "        .then(() => loadScript(\"vega-embed\"))\n",
       "        .catch(showError)\n",
       "        .then(() => displayChart(vegaEmbed));\n",
       "    }\n",
       "  })({\"config\": {\"view\": {\"continuousWidth\": 400, \"continuousHeight\": 300}}, \"data\": {\"name\": \"data-b16ee288b2d8209bab2c82439ad252be\"}, \"mark\": \"rect\", \"encoding\": {\"color\": {\"type\": \"quantitative\", \"field\": \"counts\", \"title\": \"Counts\"}, \"tooltip\": [{\"type\": \"quantitative\", \"field\": \"counts\"}, {\"type\": \"quantitative\", \"field\": \"ano_coleta\"}, {\"type\": \"quantitative\", \"field\": \"mes_coleta\"}], \"x\": {\"type\": \"ordinal\", \"field\": \"ano_coleta\", \"title\": \"Collected Year\"}, \"y\": {\"type\": \"ordinal\", \"field\": \"mes_coleta\", \"sort\": {\"field\": \"mes_coleta\", \"order\": \"descending\"}, \"title\": \"Collected Month\"}}, \"height\": 200, \"title\": \"Total of collected animals per month/year\", \"width\": 1200, \"$schema\": \"https://vega.github.io/schema/vega-lite/v4.8.1.json\", \"datasets\": {\"data-b16ee288b2d8209bab2c82439ad252be\": [{\"ano_coleta\": 0, \"mes_coleta\": 5, \"counts\": 1}, {\"ano_coleta\": 0, \"mes_coleta\": 6, \"counts\": 1}, {\"ano_coleta\": 0, \"mes_coleta\": 7, \"counts\": 1}, {\"ano_coleta\": 0, \"mes_coleta\": 11, \"counts\": 2}, {\"ano_coleta\": 1824, \"mes_coleta\": 0, \"counts\": 1}, {\"ano_coleta\": 1876, \"mes_coleta\": 0, \"counts\": 74}, {\"ano_coleta\": 1901, \"mes_coleta\": 4, \"counts\": 1}, {\"ano_coleta\": 1901, \"mes_coleta\": 9, \"counts\": 1}, {\"ano_coleta\": 1901, \"mes_coleta\": 11, \"counts\": 1}, {\"ano_coleta\": 1902, \"mes_coleta\": 2, \"counts\": 1}, {\"ano_coleta\": 1902, \"mes_coleta\": 11, \"counts\": 1}, {\"ano_coleta\": 1903, \"mes_coleta\": 7, \"counts\": 1}, {\"ano_coleta\": 1905, \"mes_coleta\": 6, \"counts\": 1}, {\"ano_coleta\": 1906, \"mes_coleta\": 11, \"counts\": 1}, {\"ano_coleta\": 1907, \"mes_coleta\": 0, \"counts\": 3}, {\"ano_coleta\": 1907, \"mes_coleta\": 8, \"counts\": 1}, {\"ano_coleta\": 1912, \"mes_coleta\": 4, \"counts\": 1}, {\"ano_coleta\": 1912, \"mes_coleta\": 6, \"counts\": 1}, {\"ano_coleta\": 1912, \"mes_coleta\": 9, \"counts\": 1}, {\"ano_coleta\": 1912, \"mes_coleta\": 11, \"counts\": 1}, {\"ano_coleta\": 1913, \"mes_coleta\": 0, \"counts\": 1}, {\"ano_coleta\": 1913, \"mes_coleta\": 7, \"counts\": 1}, {\"ano_coleta\": 1914, \"mes_coleta\": 4, \"counts\": 1}, {\"ano_coleta\": 1915, \"mes_coleta\": 5, \"counts\": 1}, {\"ano_coleta\": 1915, \"mes_coleta\": 7, \"counts\": 1}, {\"ano_coleta\": 1915, \"mes_coleta\": 12, \"counts\": 4}, {\"ano_coleta\": 1916, \"mes_coleta\": 0, \"counts\": 2}, {\"ano_coleta\": 1916, \"mes_coleta\": 8, \"counts\": 1}, {\"ano_coleta\": 1917, \"mes_coleta\": 6, \"counts\": 1}, {\"ano_coleta\": 1919, \"mes_coleta\": 4, \"counts\": 2}, {\"ano_coleta\": 1919, \"mes_coleta\": 7, \"counts\": 1}, {\"ano_coleta\": 1922, \"mes_coleta\": 8, \"counts\": 2}, {\"ano_coleta\": 1923, \"mes_coleta\": 0, \"counts\": 3}, {\"ano_coleta\": 1924, \"mes_coleta\": 1, \"counts\": 1}, {\"ano_coleta\": 1925, \"mes_coleta\": 1, \"counts\": 1}, {\"ano_coleta\": 1926, \"mes_coleta\": 4, \"counts\": 1}, {\"ano_coleta\": 1928, \"mes_coleta\": 0, \"counts\": 1}, {\"ano_coleta\": 1931, \"mes_coleta\": 2, \"counts\": 2}, {\"ano_coleta\": 1932, \"mes_coleta\": 12, \"counts\": 1}, {\"ano_coleta\": 1933, \"mes_coleta\": 3, \"counts\": 3}, {\"ano_coleta\": 1935, \"mes_coleta\": 9, \"counts\": 1}, {\"ano_coleta\": 1935, \"mes_coleta\": 10, \"counts\": 1}, {\"ano_coleta\": 1936, \"mes_coleta\": 5, \"counts\": 1}, {\"ano_coleta\": 1936, \"mes_coleta\": 6, \"counts\": 1}, {\"ano_coleta\": 1936, \"mes_coleta\": 8, \"counts\": 1}, {\"ano_coleta\": 1937, \"mes_coleta\": 0, \"counts\": 6}, {\"ano_coleta\": 1937, \"mes_coleta\": 1, \"counts\": 1}, {\"ano_coleta\": 1937, \"mes_coleta\": 7, \"counts\": 1}, {\"ano_coleta\": 1937, \"mes_coleta\": 12, \"counts\": 21}, {\"ano_coleta\": 1938, \"mes_coleta\": 0, \"counts\": 1}, {\"ano_coleta\": 1939, \"mes_coleta\": 0, \"counts\": 8}, {\"ano_coleta\": 1939, \"mes_coleta\": 9, \"counts\": 1}, {\"ano_coleta\": 1939, \"mes_coleta\": 10, \"counts\": 28}, {\"ano_coleta\": 1939, \"mes_coleta\": 11, \"counts\": 168}, {\"ano_coleta\": 1940, \"mes_coleta\": 0, \"counts\": 7}, {\"ano_coleta\": 1940, \"mes_coleta\": 1, \"counts\": 2}, {\"ano_coleta\": 1940, \"mes_coleta\": 2, \"counts\": 2}, {\"ano_coleta\": 1940, \"mes_coleta\": 3, \"counts\": 3}, {\"ano_coleta\": 1940, \"mes_coleta\": 5, \"counts\": 1}, {\"ano_coleta\": 1940, \"mes_coleta\": 7, \"counts\": 7}, {\"ano_coleta\": 1940, \"mes_coleta\": 8, \"counts\": 30}, {\"ano_coleta\": 1940, \"mes_coleta\": 11, \"counts\": 2}, {\"ano_coleta\": 1940, \"mes_coleta\": 12, \"counts\": 1}, {\"ano_coleta\": 1941, \"mes_coleta\": 0, \"counts\": 1}, {\"ano_coleta\": 1941, \"mes_coleta\": 2, \"counts\": 4}, {\"ano_coleta\": 1941, \"mes_coleta\": 3, \"counts\": 2}, {\"ano_coleta\": 1941, \"mes_coleta\": 7, \"counts\": 6}, {\"ano_coleta\": 1941, \"mes_coleta\": 9, \"counts\": 2}, {\"ano_coleta\": 1941, \"mes_coleta\": 11, \"counts\": 2}, {\"ano_coleta\": 1942, \"mes_coleta\": 0, \"counts\": 18}, {\"ano_coleta\": 1942, \"mes_coleta\": 2, \"counts\": 104}, {\"ano_coleta\": 1942, \"mes_coleta\": 3, \"counts\": 72}, {\"ano_coleta\": 1942, \"mes_coleta\": 4, \"counts\": 2}, {\"ano_coleta\": 1942, \"mes_coleta\": 5, \"counts\": 11}, {\"ano_coleta\": 1942, \"mes_coleta\": 6, \"counts\": 22}, {\"ano_coleta\": 1942, \"mes_coleta\": 7, \"counts\": 7}, {\"ano_coleta\": 1942, \"mes_coleta\": 9, \"counts\": 6}, {\"ano_coleta\": 1942, \"mes_coleta\": 10, \"counts\": 4}, {\"ano_coleta\": 1942, \"mes_coleta\": 11, \"counts\": 1}, {\"ano_coleta\": 1942, \"mes_coleta\": 12, \"counts\": 15}, {\"ano_coleta\": 1943, \"mes_coleta\": 0, \"counts\": 51}, {\"ano_coleta\": 1943, \"mes_coleta\": 1, \"counts\": 5}, {\"ano_coleta\": 1943, \"mes_coleta\": 2, \"counts\": 1}, {\"ano_coleta\": 1943, \"mes_coleta\": 3, \"counts\": 12}, {\"ano_coleta\": 1943, \"mes_coleta\": 4, \"counts\": 1}, {\"ano_coleta\": 1943, \"mes_coleta\": 5, \"counts\": 4}, {\"ano_coleta\": 1943, \"mes_coleta\": 6, \"counts\": 1}, {\"ano_coleta\": 1943, \"mes_coleta\": 7, \"counts\": 4}, {\"ano_coleta\": 1943, \"mes_coleta\": 8, \"counts\": 17}, {\"ano_coleta\": 1943, \"mes_coleta\": 10, \"counts\": 7}, {\"ano_coleta\": 1943, \"mes_coleta\": 11, \"counts\": 9}, {\"ano_coleta\": 1944, \"mes_coleta\": 0, \"counts\": 22}, {\"ano_coleta\": 1944, \"mes_coleta\": 1, \"counts\": 6}, {\"ano_coleta\": 1944, \"mes_coleta\": 2, \"counts\": 6}, {\"ano_coleta\": 1944, \"mes_coleta\": 3, \"counts\": 24}, {\"ano_coleta\": 1944, \"mes_coleta\": 4, \"counts\": 8}, {\"ano_coleta\": 1944, \"mes_coleta\": 6, \"counts\": 3}, {\"ano_coleta\": 1944, \"mes_coleta\": 8, \"counts\": 4}, {\"ano_coleta\": 1944, \"mes_coleta\": 9, \"counts\": 10}, {\"ano_coleta\": 1944, \"mes_coleta\": 10, \"counts\": 65}, {\"ano_coleta\": 1944, \"mes_coleta\": 11, \"counts\": 11}, {\"ano_coleta\": 1944, \"mes_coleta\": 12, \"counts\": 2}, {\"ano_coleta\": 1945, \"mes_coleta\": 0, \"counts\": 4}, {\"ano_coleta\": 1945, \"mes_coleta\": 1, \"counts\": 349}, {\"ano_coleta\": 1945, \"mes_coleta\": 2, \"counts\": 6}, {\"ano_coleta\": 1945, \"mes_coleta\": 3, \"counts\": 7}, {\"ano_coleta\": 1945, \"mes_coleta\": 4, \"counts\": 3}, {\"ano_coleta\": 1945, \"mes_coleta\": 5, \"counts\": 3}, {\"ano_coleta\": 1945, \"mes_coleta\": 8, \"counts\": 1}, {\"ano_coleta\": 1945, \"mes_coleta\": 10, \"counts\": 13}, {\"ano_coleta\": 1945, \"mes_coleta\": 11, \"counts\": 2}, {\"ano_coleta\": 1945, \"mes_coleta\": 12, \"counts\": 3}, {\"ano_coleta\": 1946, \"mes_coleta\": 0, \"counts\": 3}, {\"ano_coleta\": 1946, \"mes_coleta\": 1, \"counts\": 2}, {\"ano_coleta\": 1946, \"mes_coleta\": 2, \"counts\": 4}, {\"ano_coleta\": 1946, \"mes_coleta\": 3, \"counts\": 4}, {\"ano_coleta\": 1946, \"mes_coleta\": 4, \"counts\": 11}, {\"ano_coleta\": 1946, \"mes_coleta\": 5, \"counts\": 1}, {\"ano_coleta\": 1946, \"mes_coleta\": 8, \"counts\": 1}, {\"ano_coleta\": 1946, \"mes_coleta\": 10, \"counts\": 16}, {\"ano_coleta\": 1946, \"mes_coleta\": 11, \"counts\": 8}, {\"ano_coleta\": 1946, \"mes_coleta\": 12, \"counts\": 1}, {\"ano_coleta\": 1947, \"mes_coleta\": 0, \"counts\": 49}, {\"ano_coleta\": 1947, \"mes_coleta\": 1, \"counts\": 6}, {\"ano_coleta\": 1947, \"mes_coleta\": 2, \"counts\": 2}, {\"ano_coleta\": 1947, \"mes_coleta\": 3, \"counts\": 5}, {\"ano_coleta\": 1947, \"mes_coleta\": 4, \"counts\": 6}, {\"ano_coleta\": 1947, \"mes_coleta\": 5, \"counts\": 6}, {\"ano_coleta\": 1947, \"mes_coleta\": 6, \"counts\": 9}, {\"ano_coleta\": 1947, \"mes_coleta\": 8, \"counts\": 6}, {\"ano_coleta\": 1947, \"mes_coleta\": 9, \"counts\": 1}, {\"ano_coleta\": 1947, \"mes_coleta\": 10, \"counts\": 8}, {\"ano_coleta\": 1947, \"mes_coleta\": 11, \"counts\": 2}, {\"ano_coleta\": 1947, \"mes_coleta\": 12, \"counts\": 2}, {\"ano_coleta\": 1948, \"mes_coleta\": 0, \"counts\": 19}, {\"ano_coleta\": 1948, \"mes_coleta\": 1, \"counts\": 7}, {\"ano_coleta\": 1948, \"mes_coleta\": 2, \"counts\": 2}, {\"ano_coleta\": 1948, \"mes_coleta\": 5, \"counts\": 2}, {\"ano_coleta\": 1948, \"mes_coleta\": 6, \"counts\": 2}, {\"ano_coleta\": 1948, \"mes_coleta\": 7, \"counts\": 13}, {\"ano_coleta\": 1948, \"mes_coleta\": 8, \"counts\": 5}, {\"ano_coleta\": 1948, \"mes_coleta\": 10, \"counts\": 54}, {\"ano_coleta\": 1948, \"mes_coleta\": 12, \"counts\": 2}, {\"ano_coleta\": 1949, \"mes_coleta\": 0, \"counts\": 3}, {\"ano_coleta\": 1949, \"mes_coleta\": 1, \"counts\": 1}, {\"ano_coleta\": 1949, \"mes_coleta\": 3, \"counts\": 3}, {\"ano_coleta\": 1949, \"mes_coleta\": 5, \"counts\": 3}, {\"ano_coleta\": 1949, \"mes_coleta\": 7, \"counts\": 6}, {\"ano_coleta\": 1949, \"mes_coleta\": 8, \"counts\": 7}, {\"ano_coleta\": 1949, \"mes_coleta\": 9, \"counts\": 2}, {\"ano_coleta\": 1949, \"mes_coleta\": 12, \"counts\": 2}, {\"ano_coleta\": 1950, \"mes_coleta\": 0, \"counts\": 9}, {\"ano_coleta\": 1950, \"mes_coleta\": 1, \"counts\": 4}, {\"ano_coleta\": 1950, \"mes_coleta\": 5, \"counts\": 5}, {\"ano_coleta\": 1950, \"mes_coleta\": 6, \"counts\": 20}, {\"ano_coleta\": 1950, \"mes_coleta\": 7, \"counts\": 3}, {\"ano_coleta\": 1950, \"mes_coleta\": 9, \"counts\": 5}, {\"ano_coleta\": 1950, \"mes_coleta\": 11, \"counts\": 8}, {\"ano_coleta\": 1951, \"mes_coleta\": 0, \"counts\": 22}, {\"ano_coleta\": 1951, \"mes_coleta\": 7, \"counts\": 1}, {\"ano_coleta\": 1951, \"mes_coleta\": 9, \"counts\": 7}, {\"ano_coleta\": 1951, \"mes_coleta\": 10, \"counts\": 1}, {\"ano_coleta\": 1951, \"mes_coleta\": 12, \"counts\": 2}, {\"ano_coleta\": 1952, \"mes_coleta\": 1, \"counts\": 7}, {\"ano_coleta\": 1952, \"mes_coleta\": 2, \"counts\": 11}, {\"ano_coleta\": 1952, \"mes_coleta\": 3, \"counts\": 5}, {\"ano_coleta\": 1952, \"mes_coleta\": 4, \"counts\": 12}, {\"ano_coleta\": 1952, \"mes_coleta\": 5, \"counts\": 1}, {\"ano_coleta\": 1952, \"mes_coleta\": 7, \"counts\": 2}, {\"ano_coleta\": 1952, \"mes_coleta\": 8, \"counts\": 3}, {\"ano_coleta\": 1952, \"mes_coleta\": 9, \"counts\": 3}, {\"ano_coleta\": 1952, \"mes_coleta\": 10, \"counts\": 4}, {\"ano_coleta\": 1952, \"mes_coleta\": 11, \"counts\": 2}, {\"ano_coleta\": 1952, \"mes_coleta\": 12, \"counts\": 7}, {\"ano_coleta\": 1953, \"mes_coleta\": 0, \"counts\": 9}, {\"ano_coleta\": 1953, \"mes_coleta\": 1, \"counts\": 1}, {\"ano_coleta\": 1953, \"mes_coleta\": 4, \"counts\": 1}, {\"ano_coleta\": 1953, \"mes_coleta\": 5, \"counts\": 3}, {\"ano_coleta\": 1953, \"mes_coleta\": 6, \"counts\": 1}, {\"ano_coleta\": 1953, \"mes_coleta\": 7, \"counts\": 5}, {\"ano_coleta\": 1953, \"mes_coleta\": 9, \"counts\": 2}, {\"ano_coleta\": 1953, \"mes_coleta\": 10, \"counts\": 12}, {\"ano_coleta\": 1953, \"mes_coleta\": 11, \"counts\": 2}, {\"ano_coleta\": 1953, \"mes_coleta\": 12, \"counts\": 10}, {\"ano_coleta\": 1954, \"mes_coleta\": 0, \"counts\": 1}, {\"ano_coleta\": 1954, \"mes_coleta\": 1, \"counts\": 2}, {\"ano_coleta\": 1954, \"mes_coleta\": 2, \"counts\": 6}, {\"ano_coleta\": 1954, \"mes_coleta\": 3, \"counts\": 4}, {\"ano_coleta\": 1954, \"mes_coleta\": 4, \"counts\": 4}, {\"ano_coleta\": 1954, \"mes_coleta\": 5, \"counts\": 1}, {\"ano_coleta\": 1954, \"mes_coleta\": 6, \"counts\": 3}, {\"ano_coleta\": 1954, \"mes_coleta\": 7, \"counts\": 1}, {\"ano_coleta\": 1954, \"mes_coleta\": 10, \"counts\": 1}, {\"ano_coleta\": 1954, \"mes_coleta\": 11, \"counts\": 4}, {\"ano_coleta\": 1954, \"mes_coleta\": 12, \"counts\": 3}, {\"ano_coleta\": 1955, \"mes_coleta\": 0, \"counts\": 4}, {\"ano_coleta\": 1955, \"mes_coleta\": 1, \"counts\": 10}, {\"ano_coleta\": 1955, \"mes_coleta\": 2, \"counts\": 1}, {\"ano_coleta\": 1955, \"mes_coleta\": 3, \"counts\": 3}, {\"ano_coleta\": 1955, \"mes_coleta\": 4, \"counts\": 1}, {\"ano_coleta\": 1955, \"mes_coleta\": 5, \"counts\": 1}, {\"ano_coleta\": 1955, \"mes_coleta\": 7, \"counts\": 1}, {\"ano_coleta\": 1955, \"mes_coleta\": 10, \"counts\": 6}, {\"ano_coleta\": 1955, \"mes_coleta\": 11, \"counts\": 3}, {\"ano_coleta\": 1955, \"mes_coleta\": 12, \"counts\": 1}, {\"ano_coleta\": 1956, \"mes_coleta\": 1, \"counts\": 1}, {\"ano_coleta\": 1956, \"mes_coleta\": 2, \"counts\": 1}, {\"ano_coleta\": 1956, \"mes_coleta\": 3, \"counts\": 7}, {\"ano_coleta\": 1956, \"mes_coleta\": 4, \"counts\": 1}, {\"ano_coleta\": 1956, \"mes_coleta\": 5, \"counts\": 18}, {\"ano_coleta\": 1956, \"mes_coleta\": 6, \"counts\": 4}, {\"ano_coleta\": 1956, \"mes_coleta\": 7, \"counts\": 1}, {\"ano_coleta\": 1956, \"mes_coleta\": 8, \"counts\": 2}, {\"ano_coleta\": 1956, \"mes_coleta\": 9, \"counts\": 4}, {\"ano_coleta\": 1956, \"mes_coleta\": 10, \"counts\": 8}, {\"ano_coleta\": 1956, \"mes_coleta\": 11, \"counts\": 2}, {\"ano_coleta\": 1956, \"mes_coleta\": 12, \"counts\": 3}, {\"ano_coleta\": 1957, \"mes_coleta\": 0, \"counts\": 8}, {\"ano_coleta\": 1957, \"mes_coleta\": 1, \"counts\": 3}, {\"ano_coleta\": 1957, \"mes_coleta\": 2, \"counts\": 2}, {\"ano_coleta\": 1957, \"mes_coleta\": 3, \"counts\": 2}, {\"ano_coleta\": 1957, \"mes_coleta\": 4, \"counts\": 2}, {\"ano_coleta\": 1957, \"mes_coleta\": 5, \"counts\": 8}, {\"ano_coleta\": 1957, \"mes_coleta\": 6, \"counts\": 5}, {\"ano_coleta\": 1957, \"mes_coleta\": 7, \"counts\": 15}, {\"ano_coleta\": 1957, \"mes_coleta\": 8, \"counts\": 1}, {\"ano_coleta\": 1957, \"mes_coleta\": 9, \"counts\": 12}, {\"ano_coleta\": 1957, \"mes_coleta\": 10, \"counts\": 2}, {\"ano_coleta\": 1957, \"mes_coleta\": 11, \"counts\": 3}, {\"ano_coleta\": 1957, \"mes_coleta\": 12, \"counts\": 2}, {\"ano_coleta\": 1958, \"mes_coleta\": 0, \"counts\": 10}, {\"ano_coleta\": 1958, \"mes_coleta\": 1, \"counts\": 5}, {\"ano_coleta\": 1958, \"mes_coleta\": 2, \"counts\": 1}, {\"ano_coleta\": 1958, \"mes_coleta\": 3, \"counts\": 5}, {\"ano_coleta\": 1958, \"mes_coleta\": 4, \"counts\": 11}, {\"ano_coleta\": 1958, \"mes_coleta\": 5, \"counts\": 1}, {\"ano_coleta\": 1959, \"mes_coleta\": 0, \"counts\": 5}, {\"ano_coleta\": 1959, \"mes_coleta\": 2, \"counts\": 10}, {\"ano_coleta\": 1959, \"mes_coleta\": 3, \"counts\": 2}, {\"ano_coleta\": 1959, \"mes_coleta\": 4, \"counts\": 1}, {\"ano_coleta\": 1959, \"mes_coleta\": 6, \"counts\": 2}, {\"ano_coleta\": 1959, \"mes_coleta\": 7, \"counts\": 1}, {\"ano_coleta\": 1960, \"mes_coleta\": 0, \"counts\": 2}, {\"ano_coleta\": 1960, \"mes_coleta\": 2, \"counts\": 1}, {\"ano_coleta\": 1960, \"mes_coleta\": 6, \"counts\": 7}, {\"ano_coleta\": 1960, \"mes_coleta\": 7, \"counts\": 1}, {\"ano_coleta\": 1960, \"mes_coleta\": 9, \"counts\": 1}, {\"ano_coleta\": 1960, \"mes_coleta\": 10, \"counts\": 2}, {\"ano_coleta\": 1961, \"mes_coleta\": 0, \"counts\": 6}, {\"ano_coleta\": 1961, \"mes_coleta\": 2, \"counts\": 5}, {\"ano_coleta\": 1961, \"mes_coleta\": 5, \"counts\": 2}, {\"ano_coleta\": 1961, \"mes_coleta\": 6, \"counts\": 1}, {\"ano_coleta\": 1961, \"mes_coleta\": 10, \"counts\": 5}, {\"ano_coleta\": 1961, \"mes_coleta\": 11, \"counts\": 1}, {\"ano_coleta\": 1962, \"mes_coleta\": 1, \"counts\": 3}, {\"ano_coleta\": 1962, \"mes_coleta\": 4, \"counts\": 3}, {\"ano_coleta\": 1962, \"mes_coleta\": 5, \"counts\": 1}, {\"ano_coleta\": 1962, \"mes_coleta\": 10, \"counts\": 1}, {\"ano_coleta\": 1962, \"mes_coleta\": 12, \"counts\": 2}, {\"ano_coleta\": 1963, \"mes_coleta\": 0, \"counts\": 6}, {\"ano_coleta\": 1963, \"mes_coleta\": 1, \"counts\": 8}, {\"ano_coleta\": 1963, \"mes_coleta\": 2, \"counts\": 2}, {\"ano_coleta\": 1963, \"mes_coleta\": 3, \"counts\": 4}, {\"ano_coleta\": 1963, \"mes_coleta\": 4, \"counts\": 3}, {\"ano_coleta\": 1963, \"mes_coleta\": 7, \"counts\": 1}, {\"ano_coleta\": 1963, \"mes_coleta\": 8, \"counts\": 2}, {\"ano_coleta\": 1963, \"mes_coleta\": 9, \"counts\": 9}, {\"ano_coleta\": 1963, \"mes_coleta\": 11, \"counts\": 6}, {\"ano_coleta\": 1963, \"mes_coleta\": 12, \"counts\": 6}, {\"ano_coleta\": 1964, \"mes_coleta\": 0, \"counts\": 3}, {\"ano_coleta\": 1964, \"mes_coleta\": 1, \"counts\": 2}, {\"ano_coleta\": 1964, \"mes_coleta\": 2, \"counts\": 23}, {\"ano_coleta\": 1964, \"mes_coleta\": 3, \"counts\": 2}, {\"ano_coleta\": 1964, \"mes_coleta\": 5, \"counts\": 1}, {\"ano_coleta\": 1964, \"mes_coleta\": 6, \"counts\": 11}, {\"ano_coleta\": 1964, \"mes_coleta\": 7, \"counts\": 2}, {\"ano_coleta\": 1964, \"mes_coleta\": 8, \"counts\": 1}, {\"ano_coleta\": 1964, \"mes_coleta\": 10, \"counts\": 6}, {\"ano_coleta\": 1964, \"mes_coleta\": 11, \"counts\": 4}, {\"ano_coleta\": 1964, \"mes_coleta\": 12, \"counts\": 1}, {\"ano_coleta\": 1965, \"mes_coleta\": 0, \"counts\": 2}, {\"ano_coleta\": 1965, \"mes_coleta\": 1, \"counts\": 5}, {\"ano_coleta\": 1965, \"mes_coleta\": 2, \"counts\": 9}, {\"ano_coleta\": 1965, \"mes_coleta\": 5, \"counts\": 3}, {\"ano_coleta\": 1965, \"mes_coleta\": 6, \"counts\": 1}, {\"ano_coleta\": 1965, \"mes_coleta\": 7, \"counts\": 1}, {\"ano_coleta\": 1965, \"mes_coleta\": 8, \"counts\": 1}, {\"ano_coleta\": 1965, \"mes_coleta\": 9, \"counts\": 2}, {\"ano_coleta\": 1965, \"mes_coleta\": 10, \"counts\": 3}, {\"ano_coleta\": 1965, \"mes_coleta\": 11, \"counts\": 6}, {\"ano_coleta\": 1965, \"mes_coleta\": 12, \"counts\": 2}, {\"ano_coleta\": 1966, \"mes_coleta\": 0, \"counts\": 2}, {\"ano_coleta\": 1966, \"mes_coleta\": 1, \"counts\": 1}, {\"ano_coleta\": 1966, \"mes_coleta\": 3, \"counts\": 3}, {\"ano_coleta\": 1966, \"mes_coleta\": 8, \"counts\": 4}, {\"ano_coleta\": 1966, \"mes_coleta\": 9, \"counts\": 8}, {\"ano_coleta\": 1966, \"mes_coleta\": 10, \"counts\": 3}, {\"ano_coleta\": 1966, \"mes_coleta\": 12, \"counts\": 3}, {\"ano_coleta\": 1967, \"mes_coleta\": 2, \"counts\": 4}, {\"ano_coleta\": 1967, \"mes_coleta\": 4, \"counts\": 1}, {\"ano_coleta\": 1967, \"mes_coleta\": 7, \"counts\": 1}, {\"ano_coleta\": 1967, \"mes_coleta\": 10, \"counts\": 1}, {\"ano_coleta\": 1967, \"mes_coleta\": 11, \"counts\": 1}, {\"ano_coleta\": 1967, \"mes_coleta\": 12, \"counts\": 2}, {\"ano_coleta\": 1968, \"mes_coleta\": 0, \"counts\": 14}, {\"ano_coleta\": 1968, \"mes_coleta\": 2, \"counts\": 2}, {\"ano_coleta\": 1968, \"mes_coleta\": 4, \"counts\": 3}, {\"ano_coleta\": 1968, \"mes_coleta\": 8, \"counts\": 1}, {\"ano_coleta\": 1968, \"mes_coleta\": 9, \"counts\": 2}, {\"ano_coleta\": 1968, \"mes_coleta\": 12, \"counts\": 4}, {\"ano_coleta\": 1969, \"mes_coleta\": 2, \"counts\": 1}, {\"ano_coleta\": 1969, \"mes_coleta\": 3, \"counts\": 2}, {\"ano_coleta\": 1969, \"mes_coleta\": 5, \"counts\": 1}, {\"ano_coleta\": 1969, \"mes_coleta\": 10, \"counts\": 2}, {\"ano_coleta\": 1969, \"mes_coleta\": 11, \"counts\": 1}, {\"ano_coleta\": 1969, \"mes_coleta\": 12, \"counts\": 44}, {\"ano_coleta\": 1970, \"mes_coleta\": 7, \"counts\": 2}, {\"ano_coleta\": 1970, \"mes_coleta\": 8, \"counts\": 1}, {\"ano_coleta\": 1970, \"mes_coleta\": 9, \"counts\": 25}, {\"ano_coleta\": 1970, \"mes_coleta\": 11, \"counts\": 1}, {\"ano_coleta\": 1970, \"mes_coleta\": 12, \"counts\": 4}, {\"ano_coleta\": 1971, \"mes_coleta\": 1, \"counts\": 2}, {\"ano_coleta\": 1971, \"mes_coleta\": 2, \"counts\": 1}, {\"ano_coleta\": 1971, \"mes_coleta\": 3, \"counts\": 1}, {\"ano_coleta\": 1971, \"mes_coleta\": 4, \"counts\": 5}, {\"ano_coleta\": 1971, \"mes_coleta\": 5, \"counts\": 19}, {\"ano_coleta\": 1971, \"mes_coleta\": 7, \"counts\": 4}, {\"ano_coleta\": 1971, \"mes_coleta\": 8, \"counts\": 3}, {\"ano_coleta\": 1971, \"mes_coleta\": 9, \"counts\": 3}, {\"ano_coleta\": 1971, \"mes_coleta\": 10, \"counts\": 4}, {\"ano_coleta\": 1971, \"mes_coleta\": 11, \"counts\": 2}, {\"ano_coleta\": 1972, \"mes_coleta\": 0, \"counts\": 10}, {\"ano_coleta\": 1972, \"mes_coleta\": 1, \"counts\": 2}, {\"ano_coleta\": 1972, \"mes_coleta\": 2, \"counts\": 5}, {\"ano_coleta\": 1972, \"mes_coleta\": 3, \"counts\": 2}, {\"ano_coleta\": 1972, \"mes_coleta\": 4, \"counts\": 1}, {\"ano_coleta\": 1972, \"mes_coleta\": 8, \"counts\": 4}, {\"ano_coleta\": 1972, \"mes_coleta\": 9, \"counts\": 6}, {\"ano_coleta\": 1972, \"mes_coleta\": 10, \"counts\": 1}, {\"ano_coleta\": 1972, \"mes_coleta\": 11, \"counts\": 1}, {\"ano_coleta\": 1972, \"mes_coleta\": 12, \"counts\": 2}, {\"ano_coleta\": 1973, \"mes_coleta\": 0, \"counts\": 5}, {\"ano_coleta\": 1973, \"mes_coleta\": 1, \"counts\": 9}, {\"ano_coleta\": 1973, \"mes_coleta\": 3, \"counts\": 1}, {\"ano_coleta\": 1973, \"mes_coleta\": 4, \"counts\": 1}, {\"ano_coleta\": 1973, \"mes_coleta\": 5, \"counts\": 1}, {\"ano_coleta\": 1973, \"mes_coleta\": 8, \"counts\": 7}, {\"ano_coleta\": 1973, \"mes_coleta\": 9, \"counts\": 1}, {\"ano_coleta\": 1973, \"mes_coleta\": 10, \"counts\": 3}, {\"ano_coleta\": 1973, \"mes_coleta\": 11, \"counts\": 5}, {\"ano_coleta\": 1973, \"mes_coleta\": 12, \"counts\": 23}, {\"ano_coleta\": 1974, \"mes_coleta\": 0, \"counts\": 2}, {\"ano_coleta\": 1974, \"mes_coleta\": 1, \"counts\": 2}, {\"ano_coleta\": 1974, \"mes_coleta\": 2, \"counts\": 3}, {\"ano_coleta\": 1974, \"mes_coleta\": 3, \"counts\": 1}, {\"ano_coleta\": 1974, \"mes_coleta\": 4, \"counts\": 1}, {\"ano_coleta\": 1974, \"mes_coleta\": 5, \"counts\": 4}, {\"ano_coleta\": 1974, \"mes_coleta\": 9, \"counts\": 6}, {\"ano_coleta\": 1974, \"mes_coleta\": 10, \"counts\": 5}, {\"ano_coleta\": 1974, \"mes_coleta\": 11, \"counts\": 1}, {\"ano_coleta\": 1974, \"mes_coleta\": 12, \"counts\": 4}, {\"ano_coleta\": 1975, \"mes_coleta\": 0, \"counts\": 15}, {\"ano_coleta\": 1975, \"mes_coleta\": 1, \"counts\": 15}, {\"ano_coleta\": 1975, \"mes_coleta\": 2, \"counts\": 3}, {\"ano_coleta\": 1975, \"mes_coleta\": 3, \"counts\": 17}, {\"ano_coleta\": 1975, \"mes_coleta\": 4, \"counts\": 26}, {\"ano_coleta\": 1975, \"mes_coleta\": 5, \"counts\": 4}, {\"ano_coleta\": 1975, \"mes_coleta\": 6, \"counts\": 3}, {\"ano_coleta\": 1975, \"mes_coleta\": 7, \"counts\": 17}, {\"ano_coleta\": 1975, \"mes_coleta\": 8, \"counts\": 11}, {\"ano_coleta\": 1975, \"mes_coleta\": 9, \"counts\": 3}, {\"ano_coleta\": 1975, \"mes_coleta\": 10, \"counts\": 7}, {\"ano_coleta\": 1975, \"mes_coleta\": 11, \"counts\": 13}, {\"ano_coleta\": 1976, \"mes_coleta\": 0, \"counts\": 14}, {\"ano_coleta\": 1976, \"mes_coleta\": 1, \"counts\": 62}, {\"ano_coleta\": 1976, \"mes_coleta\": 2, \"counts\": 12}, {\"ano_coleta\": 1976, \"mes_coleta\": 3, \"counts\": 2}, {\"ano_coleta\": 1976, \"mes_coleta\": 4, \"counts\": 6}, {\"ano_coleta\": 1976, \"mes_coleta\": 5, \"counts\": 1}, {\"ano_coleta\": 1976, \"mes_coleta\": 6, \"counts\": 2}, {\"ano_coleta\": 1976, \"mes_coleta\": 7, \"counts\": 4}, {\"ano_coleta\": 1976, \"mes_coleta\": 8, \"counts\": 1}, {\"ano_coleta\": 1976, \"mes_coleta\": 9, \"counts\": 3}, {\"ano_coleta\": 1976, \"mes_coleta\": 10, \"counts\": 1}, {\"ano_coleta\": 1976, \"mes_coleta\": 11, \"counts\": 8}, {\"ano_coleta\": 1976, \"mes_coleta\": 12, \"counts\": 1}, {\"ano_coleta\": 1977, \"mes_coleta\": 0, \"counts\": 1}, {\"ano_coleta\": 1977, \"mes_coleta\": 1, \"counts\": 4}, {\"ano_coleta\": 1977, \"mes_coleta\": 2, \"counts\": 4}, {\"ano_coleta\": 1977, \"mes_coleta\": 3, \"counts\": 2}, {\"ano_coleta\": 1977, \"mes_coleta\": 5, \"counts\": 1}, {\"ano_coleta\": 1977, \"mes_coleta\": 6, \"counts\": 1}, {\"ano_coleta\": 1977, \"mes_coleta\": 8, \"counts\": 4}, {\"ano_coleta\": 1977, \"mes_coleta\": 9, \"counts\": 1}, {\"ano_coleta\": 1977, \"mes_coleta\": 10, \"counts\": 3}, {\"ano_coleta\": 1977, \"mes_coleta\": 12, \"counts\": 7}, {\"ano_coleta\": 1978, \"mes_coleta\": 1, \"counts\": 1}, {\"ano_coleta\": 1978, \"mes_coleta\": 2, \"counts\": 3}, {\"ano_coleta\": 1978, \"mes_coleta\": 3, \"counts\": 4}, {\"ano_coleta\": 1978, \"mes_coleta\": 4, \"counts\": 1}, {\"ano_coleta\": 1978, \"mes_coleta\": 6, \"counts\": 4}, {\"ano_coleta\": 1978, \"mes_coleta\": 7, \"counts\": 1}, {\"ano_coleta\": 1978, \"mes_coleta\": 8, \"counts\": 6}, {\"ano_coleta\": 1978, \"mes_coleta\": 9, \"counts\": 3}, {\"ano_coleta\": 1978, \"mes_coleta\": 10, \"counts\": 5}, {\"ano_coleta\": 1978, \"mes_coleta\": 11, \"counts\": 8}, {\"ano_coleta\": 1978, \"mes_coleta\": 12, \"counts\": 5}, {\"ano_coleta\": 1979, \"mes_coleta\": 0, \"counts\": 3}, {\"ano_coleta\": 1979, \"mes_coleta\": 1, \"counts\": 28}, {\"ano_coleta\": 1979, \"mes_coleta\": 2, \"counts\": 3}, {\"ano_coleta\": 1979, \"mes_coleta\": 3, \"counts\": 1}, {\"ano_coleta\": 1979, \"mes_coleta\": 7, \"counts\": 2}, {\"ano_coleta\": 1979, \"mes_coleta\": 8, \"counts\": 1}, {\"ano_coleta\": 1979, \"mes_coleta\": 9, \"counts\": 1}, {\"ano_coleta\": 1979, \"mes_coleta\": 10, \"counts\": 2}, {\"ano_coleta\": 1979, \"mes_coleta\": 11, \"counts\": 3}, {\"ano_coleta\": 1979, \"mes_coleta\": 12, \"counts\": 11}, {\"ano_coleta\": 1980, \"mes_coleta\": 0, \"counts\": 1}, {\"ano_coleta\": 1980, \"mes_coleta\": 1, \"counts\": 5}, {\"ano_coleta\": 1980, \"mes_coleta\": 2, \"counts\": 5}, {\"ano_coleta\": 1980, \"mes_coleta\": 3, \"counts\": 4}, {\"ano_coleta\": 1980, \"mes_coleta\": 4, \"counts\": 1}, {\"ano_coleta\": 1980, \"mes_coleta\": 6, \"counts\": 4}, {\"ano_coleta\": 1980, \"mes_coleta\": 7, \"counts\": 2}, {\"ano_coleta\": 1980, \"mes_coleta\": 8, \"counts\": 5}, {\"ano_coleta\": 1980, \"mes_coleta\": 9, \"counts\": 1}, {\"ano_coleta\": 1980, \"mes_coleta\": 10, \"counts\": 2}, {\"ano_coleta\": 1980, \"mes_coleta\": 11, \"counts\": 11}, {\"ano_coleta\": 1980, \"mes_coleta\": 12, \"counts\": 3}, {\"ano_coleta\": 1981, \"mes_coleta\": 0, \"counts\": 4}, {\"ano_coleta\": 1981, \"mes_coleta\": 1, \"counts\": 3}, {\"ano_coleta\": 1981, \"mes_coleta\": 2, \"counts\": 3}, {\"ano_coleta\": 1981, \"mes_coleta\": 3, \"counts\": 5}, {\"ano_coleta\": 1981, \"mes_coleta\": 4, \"counts\": 4}, {\"ano_coleta\": 1981, \"mes_coleta\": 5, \"counts\": 4}, {\"ano_coleta\": 1981, \"mes_coleta\": 6, \"counts\": 4}, {\"ano_coleta\": 1981, \"mes_coleta\": 7, \"counts\": 1}, {\"ano_coleta\": 1981, \"mes_coleta\": 8, \"counts\": 4}, {\"ano_coleta\": 1981, \"mes_coleta\": 9, \"counts\": 4}, {\"ano_coleta\": 1981, \"mes_coleta\": 10, \"counts\": 6}, {\"ano_coleta\": 1981, \"mes_coleta\": 11, \"counts\": 4}, {\"ano_coleta\": 1981, \"mes_coleta\": 12, \"counts\": 7}, {\"ano_coleta\": 1982, \"mes_coleta\": 1, \"counts\": 6}, {\"ano_coleta\": 1982, \"mes_coleta\": 2, \"counts\": 10}, {\"ano_coleta\": 1982, \"mes_coleta\": 3, \"counts\": 11}, {\"ano_coleta\": 1982, \"mes_coleta\": 4, \"counts\": 2}, {\"ano_coleta\": 1982, \"mes_coleta\": 5, \"counts\": 3}, {\"ano_coleta\": 1982, \"mes_coleta\": 6, \"counts\": 4}, {\"ano_coleta\": 1982, \"mes_coleta\": 7, \"counts\": 1}, {\"ano_coleta\": 1982, \"mes_coleta\": 8, \"counts\": 9}, {\"ano_coleta\": 1982, \"mes_coleta\": 9, \"counts\": 4}, {\"ano_coleta\": 1982, \"mes_coleta\": 10, \"counts\": 8}, {\"ano_coleta\": 1982, \"mes_coleta\": 11, \"counts\": 7}, {\"ano_coleta\": 1982, \"mes_coleta\": 12, \"counts\": 11}, {\"ano_coleta\": 1983, \"mes_coleta\": 1, \"counts\": 5}, {\"ano_coleta\": 1983, \"mes_coleta\": 2, \"counts\": 4}, {\"ano_coleta\": 1983, \"mes_coleta\": 3, \"counts\": 2}, {\"ano_coleta\": 1983, \"mes_coleta\": 4, \"counts\": 2}, {\"ano_coleta\": 1983, \"mes_coleta\": 5, \"counts\": 6}, {\"ano_coleta\": 1983, \"mes_coleta\": 6, \"counts\": 4}, {\"ano_coleta\": 1983, \"mes_coleta\": 7, \"counts\": 3}, {\"ano_coleta\": 1983, \"mes_coleta\": 8, \"counts\": 3}, {\"ano_coleta\": 1983, \"mes_coleta\": 9, \"counts\": 6}, {\"ano_coleta\": 1983, \"mes_coleta\": 10, \"counts\": 9}, {\"ano_coleta\": 1983, \"mes_coleta\": 11, \"counts\": 5}, {\"ano_coleta\": 1983, \"mes_coleta\": 12, \"counts\": 2}, {\"ano_coleta\": 1984, \"mes_coleta\": 0, \"counts\": 15}, {\"ano_coleta\": 1984, \"mes_coleta\": 1, \"counts\": 5}, {\"ano_coleta\": 1984, \"mes_coleta\": 2, \"counts\": 6}, {\"ano_coleta\": 1984, \"mes_coleta\": 3, \"counts\": 8}, {\"ano_coleta\": 1984, \"mes_coleta\": 4, \"counts\": 12}, {\"ano_coleta\": 1984, \"mes_coleta\": 5, \"counts\": 9}, {\"ano_coleta\": 1984, \"mes_coleta\": 6, \"counts\": 7}, {\"ano_coleta\": 1984, \"mes_coleta\": 7, \"counts\": 5}, {\"ano_coleta\": 1984, \"mes_coleta\": 8, \"counts\": 3}, {\"ano_coleta\": 1984, \"mes_coleta\": 9, \"counts\": 5}, {\"ano_coleta\": 1984, \"mes_coleta\": 10, \"counts\": 2}, {\"ano_coleta\": 1984, \"mes_coleta\": 11, \"counts\": 5}, {\"ano_coleta\": 1984, \"mes_coleta\": 12, \"counts\": 9}, {\"ano_coleta\": 1985, \"mes_coleta\": 0, \"counts\": 36}, {\"ano_coleta\": 1985, \"mes_coleta\": 1, \"counts\": 6}, {\"ano_coleta\": 1985, \"mes_coleta\": 2, \"counts\": 17}, {\"ano_coleta\": 1985, \"mes_coleta\": 3, \"counts\": 3}, {\"ano_coleta\": 1985, \"mes_coleta\": 4, \"counts\": 24}, {\"ano_coleta\": 1985, \"mes_coleta\": 5, \"counts\": 11}, {\"ano_coleta\": 1985, \"mes_coleta\": 6, \"counts\": 6}, {\"ano_coleta\": 1985, \"mes_coleta\": 7, \"counts\": 3}, {\"ano_coleta\": 1985, \"mes_coleta\": 8, \"counts\": 6}, {\"ano_coleta\": 1985, \"mes_coleta\": 9, \"counts\": 6}, {\"ano_coleta\": 1985, \"mes_coleta\": 10, \"counts\": 21}, {\"ano_coleta\": 1985, \"mes_coleta\": 11, \"counts\": 13}, {\"ano_coleta\": 1985, \"mes_coleta\": 12, \"counts\": 7}, {\"ano_coleta\": 1986, \"mes_coleta\": 0, \"counts\": 109}, {\"ano_coleta\": 1986, \"mes_coleta\": 1, \"counts\": 15}, {\"ano_coleta\": 1986, \"mes_coleta\": 2, \"counts\": 22}, {\"ano_coleta\": 1986, \"mes_coleta\": 3, \"counts\": 37}, {\"ano_coleta\": 1986, \"mes_coleta\": 4, \"counts\": 32}, {\"ano_coleta\": 1986, \"mes_coleta\": 5, \"counts\": 29}, {\"ano_coleta\": 1986, \"mes_coleta\": 6, \"counts\": 22}, {\"ano_coleta\": 1986, \"mes_coleta\": 7, \"counts\": 23}, {\"ano_coleta\": 1986, \"mes_coleta\": 8, \"counts\": 101}, {\"ano_coleta\": 1986, \"mes_coleta\": 9, \"counts\": 18}, {\"ano_coleta\": 1986, \"mes_coleta\": 10, \"counts\": 25}, {\"ano_coleta\": 1986, \"mes_coleta\": 11, \"counts\": 28}, {\"ano_coleta\": 1986, \"mes_coleta\": 12, \"counts\": 22}, {\"ano_coleta\": 1987, \"mes_coleta\": 0, \"counts\": 35}, {\"ano_coleta\": 1987, \"mes_coleta\": 1, \"counts\": 39}, {\"ano_coleta\": 1987, \"mes_coleta\": 2, \"counts\": 53}, {\"ano_coleta\": 1987, \"mes_coleta\": 3, \"counts\": 6}, {\"ano_coleta\": 1987, \"mes_coleta\": 4, \"counts\": 37}, {\"ano_coleta\": 1987, \"mes_coleta\": 5, \"counts\": 24}, {\"ano_coleta\": 1987, \"mes_coleta\": 6, \"counts\": 42}, {\"ano_coleta\": 1987, \"mes_coleta\": 7, \"counts\": 66}, {\"ano_coleta\": 1987, \"mes_coleta\": 8, \"counts\": 40}, {\"ano_coleta\": 1987, \"mes_coleta\": 9, \"counts\": 63}, {\"ano_coleta\": 1987, \"mes_coleta\": 10, \"counts\": 80}, {\"ano_coleta\": 1987, \"mes_coleta\": 11, \"counts\": 103}, {\"ano_coleta\": 1987, \"mes_coleta\": 12, \"counts\": 39}, {\"ano_coleta\": 1988, \"mes_coleta\": 0, \"counts\": 34}, {\"ano_coleta\": 1988, \"mes_coleta\": 1, \"counts\": 223}, {\"ano_coleta\": 1988, \"mes_coleta\": 2, \"counts\": 26}, {\"ano_coleta\": 1988, \"mes_coleta\": 3, \"counts\": 16}, {\"ano_coleta\": 1988, \"mes_coleta\": 4, \"counts\": 14}, {\"ano_coleta\": 1988, \"mes_coleta\": 5, \"counts\": 9}, {\"ano_coleta\": 1988, \"mes_coleta\": 6, \"counts\": 22}, {\"ano_coleta\": 1988, \"mes_coleta\": 7, \"counts\": 68}, {\"ano_coleta\": 1988, \"mes_coleta\": 8, \"counts\": 19}, {\"ano_coleta\": 1988, \"mes_coleta\": 9, \"counts\": 22}, {\"ano_coleta\": 1988, \"mes_coleta\": 10, \"counts\": 9}, {\"ano_coleta\": 1988, \"mes_coleta\": 11, \"counts\": 13}, {\"ano_coleta\": 1988, \"mes_coleta\": 12, \"counts\": 33}, {\"ano_coleta\": 1989, \"mes_coleta\": 0, \"counts\": 23}, {\"ano_coleta\": 1989, \"mes_coleta\": 1, \"counts\": 44}, {\"ano_coleta\": 1989, \"mes_coleta\": 2, \"counts\": 36}, {\"ano_coleta\": 1989, \"mes_coleta\": 3, \"counts\": 30}, {\"ano_coleta\": 1989, \"mes_coleta\": 4, \"counts\": 26}, {\"ano_coleta\": 1989, \"mes_coleta\": 5, \"counts\": 49}, {\"ano_coleta\": 1989, \"mes_coleta\": 6, \"counts\": 28}, {\"ano_coleta\": 1989, \"mes_coleta\": 7, \"counts\": 10}, {\"ano_coleta\": 1989, \"mes_coleta\": 8, \"counts\": 19}, {\"ano_coleta\": 1989, \"mes_coleta\": 9, \"counts\": 26}, {\"ano_coleta\": 1989, \"mes_coleta\": 10, \"counts\": 45}, {\"ano_coleta\": 1989, \"mes_coleta\": 11, \"counts\": 40}, {\"ano_coleta\": 1989, \"mes_coleta\": 12, \"counts\": 20}, {\"ano_coleta\": 1990, \"mes_coleta\": 0, \"counts\": 33}, {\"ano_coleta\": 1990, \"mes_coleta\": 1, \"counts\": 7}, {\"ano_coleta\": 1990, \"mes_coleta\": 2, \"counts\": 9}, {\"ano_coleta\": 1990, \"mes_coleta\": 3, \"counts\": 37}, {\"ano_coleta\": 1990, \"mes_coleta\": 4, \"counts\": 18}, {\"ano_coleta\": 1990, \"mes_coleta\": 5, \"counts\": 32}, {\"ano_coleta\": 1990, \"mes_coleta\": 6, \"counts\": 9}, {\"ano_coleta\": 1990, \"mes_coleta\": 7, \"counts\": 26}, {\"ano_coleta\": 1990, \"mes_coleta\": 8, \"counts\": 72}, {\"ano_coleta\": 1990, \"mes_coleta\": 9, \"counts\": 16}, {\"ano_coleta\": 1990, \"mes_coleta\": 10, \"counts\": 5}, {\"ano_coleta\": 1990, \"mes_coleta\": 11, \"counts\": 20}, {\"ano_coleta\": 1990, \"mes_coleta\": 12, \"counts\": 9}, {\"ano_coleta\": 1991, \"mes_coleta\": 0, \"counts\": 6}, {\"ano_coleta\": 1991, \"mes_coleta\": 1, \"counts\": 16}, {\"ano_coleta\": 1991, \"mes_coleta\": 2, \"counts\": 15}, {\"ano_coleta\": 1991, \"mes_coleta\": 3, \"counts\": 15}, {\"ano_coleta\": 1991, \"mes_coleta\": 4, \"counts\": 20}, {\"ano_coleta\": 1991, \"mes_coleta\": 5, \"counts\": 61}, {\"ano_coleta\": 1991, \"mes_coleta\": 6, \"counts\": 39}, {\"ano_coleta\": 1991, \"mes_coleta\": 7, \"counts\": 61}, {\"ano_coleta\": 1991, \"mes_coleta\": 8, \"counts\": 44}, {\"ano_coleta\": 1991, \"mes_coleta\": 9, \"counts\": 50}, {\"ano_coleta\": 1991, \"mes_coleta\": 10, \"counts\": 45}, {\"ano_coleta\": 1991, \"mes_coleta\": 11, \"counts\": 26}, {\"ano_coleta\": 1991, \"mes_coleta\": 12, \"counts\": 45}, {\"ano_coleta\": 1992, \"mes_coleta\": 0, \"counts\": 7}, {\"ano_coleta\": 1992, \"mes_coleta\": 1, \"counts\": 45}, {\"ano_coleta\": 1992, \"mes_coleta\": 2, \"counts\": 33}, {\"ano_coleta\": 1992, \"mes_coleta\": 3, \"counts\": 43}, {\"ano_coleta\": 1992, \"mes_coleta\": 4, \"counts\": 25}, {\"ano_coleta\": 1992, \"mes_coleta\": 5, \"counts\": 4}, {\"ano_coleta\": 1992, \"mes_coleta\": 6, \"counts\": 20}, {\"ano_coleta\": 1992, \"mes_coleta\": 7, \"counts\": 9}, {\"ano_coleta\": 1992, \"mes_coleta\": 8, \"counts\": 16}, {\"ano_coleta\": 1992, \"mes_coleta\": 9, \"counts\": 13}, {\"ano_coleta\": 1992, \"mes_coleta\": 10, \"counts\": 11}, {\"ano_coleta\": 1992, \"mes_coleta\": 11, \"counts\": 13}, {\"ano_coleta\": 1992, \"mes_coleta\": 12, \"counts\": 31}, {\"ano_coleta\": 1993, \"mes_coleta\": 0, \"counts\": 11}, {\"ano_coleta\": 1993, \"mes_coleta\": 1, \"counts\": 15}, {\"ano_coleta\": 1993, \"mes_coleta\": 2, \"counts\": 29}, {\"ano_coleta\": 1993, \"mes_coleta\": 3, \"counts\": 20}, {\"ano_coleta\": 1993, \"mes_coleta\": 4, \"counts\": 43}, {\"ano_coleta\": 1993, \"mes_coleta\": 5, \"counts\": 14}, {\"ano_coleta\": 1993, \"mes_coleta\": 6, \"counts\": 25}, {\"ano_coleta\": 1993, \"mes_coleta\": 7, \"counts\": 58}, {\"ano_coleta\": 1993, \"mes_coleta\": 8, \"counts\": 6}, {\"ano_coleta\": 1993, \"mes_coleta\": 9, \"counts\": 16}, {\"ano_coleta\": 1993, \"mes_coleta\": 10, \"counts\": 18}, {\"ano_coleta\": 1993, \"mes_coleta\": 11, \"counts\": 11}, {\"ano_coleta\": 1993, \"mes_coleta\": 12, \"counts\": 23}, {\"ano_coleta\": 1994, \"mes_coleta\": 0, \"counts\": 13}, {\"ano_coleta\": 1994, \"mes_coleta\": 1, \"counts\": 30}, {\"ano_coleta\": 1994, \"mes_coleta\": 2, \"counts\": 81}, {\"ano_coleta\": 1994, \"mes_coleta\": 3, \"counts\": 50}, {\"ano_coleta\": 1994, \"mes_coleta\": 4, \"counts\": 40}, {\"ano_coleta\": 1994, \"mes_coleta\": 5, \"counts\": 21}, {\"ano_coleta\": 1994, \"mes_coleta\": 6, \"counts\": 44}, {\"ano_coleta\": 1994, \"mes_coleta\": 7, \"counts\": 32}, {\"ano_coleta\": 1994, \"mes_coleta\": 8, \"counts\": 43}, {\"ano_coleta\": 1994, \"mes_coleta\": 9, \"counts\": 25}, {\"ano_coleta\": 1994, \"mes_coleta\": 10, \"counts\": 56}, {\"ano_coleta\": 1994, \"mes_coleta\": 11, \"counts\": 11}, {\"ano_coleta\": 1994, \"mes_coleta\": 12, \"counts\": 23}, {\"ano_coleta\": 1995, \"mes_coleta\": 0, \"counts\": 22}, {\"ano_coleta\": 1995, \"mes_coleta\": 1, \"counts\": 24}, {\"ano_coleta\": 1995, \"mes_coleta\": 2, \"counts\": 17}, {\"ano_coleta\": 1995, \"mes_coleta\": 3, \"counts\": 19}, {\"ano_coleta\": 1995, \"mes_coleta\": 4, \"counts\": 18}, {\"ano_coleta\": 1995, \"mes_coleta\": 5, \"counts\": 4}, {\"ano_coleta\": 1995, \"mes_coleta\": 6, \"counts\": 17}, {\"ano_coleta\": 1995, \"mes_coleta\": 7, \"counts\": 140}, {\"ano_coleta\": 1995, \"mes_coleta\": 8, \"counts\": 9}, {\"ano_coleta\": 1995, \"mes_coleta\": 9, \"counts\": 6}, {\"ano_coleta\": 1995, \"mes_coleta\": 10, \"counts\": 12}, {\"ano_coleta\": 1995, \"mes_coleta\": 11, \"counts\": 10}, {\"ano_coleta\": 1995, \"mes_coleta\": 12, \"counts\": 11}, {\"ano_coleta\": 1996, \"mes_coleta\": 0, \"counts\": 60}, {\"ano_coleta\": 1996, \"mes_coleta\": 1, \"counts\": 28}, {\"ano_coleta\": 1996, \"mes_coleta\": 2, \"counts\": 15}, {\"ano_coleta\": 1996, \"mes_coleta\": 3, \"counts\": 10}, {\"ano_coleta\": 1996, \"mes_coleta\": 4, \"counts\": 32}, {\"ano_coleta\": 1996, \"mes_coleta\": 5, \"counts\": 12}, {\"ano_coleta\": 1996, \"mes_coleta\": 6, \"counts\": 16}, {\"ano_coleta\": 1996, \"mes_coleta\": 7, \"counts\": 75}, {\"ano_coleta\": 1996, \"mes_coleta\": 8, \"counts\": 22}, {\"ano_coleta\": 1996, \"mes_coleta\": 9, \"counts\": 32}, {\"ano_coleta\": 1996, \"mes_coleta\": 10, \"counts\": 17}, {\"ano_coleta\": 1996, \"mes_coleta\": 11, \"counts\": 15}, {\"ano_coleta\": 1996, \"mes_coleta\": 12, \"counts\": 31}, {\"ano_coleta\": 1997, \"mes_coleta\": 0, \"counts\": 12}, {\"ano_coleta\": 1997, \"mes_coleta\": 1, \"counts\": 49}, {\"ano_coleta\": 1997, \"mes_coleta\": 2, \"counts\": 82}, {\"ano_coleta\": 1997, \"mes_coleta\": 3, \"counts\": 33}, {\"ano_coleta\": 1997, \"mes_coleta\": 4, \"counts\": 76}, {\"ano_coleta\": 1997, \"mes_coleta\": 5, \"counts\": 11}, {\"ano_coleta\": 1997, \"mes_coleta\": 6, \"counts\": 20}, {\"ano_coleta\": 1997, \"mes_coleta\": 7, \"counts\": 86}, {\"ano_coleta\": 1997, \"mes_coleta\": 8, \"counts\": 37}, {\"ano_coleta\": 1997, \"mes_coleta\": 9, \"counts\": 25}, {\"ano_coleta\": 1997, \"mes_coleta\": 10, \"counts\": 34}, {\"ano_coleta\": 1997, \"mes_coleta\": 11, \"counts\": 26}, {\"ano_coleta\": 1997, \"mes_coleta\": 12, \"counts\": 24}, {\"ano_coleta\": 1998, \"mes_coleta\": 0, \"counts\": 27}, {\"ano_coleta\": 1998, \"mes_coleta\": 1, \"counts\": 31}, {\"ano_coleta\": 1998, \"mes_coleta\": 2, \"counts\": 18}, {\"ano_coleta\": 1998, \"mes_coleta\": 3, \"counts\": 34}, {\"ano_coleta\": 1998, \"mes_coleta\": 4, \"counts\": 23}, {\"ano_coleta\": 1998, \"mes_coleta\": 5, \"counts\": 14}, {\"ano_coleta\": 1998, \"mes_coleta\": 6, \"counts\": 20}, {\"ano_coleta\": 1998, \"mes_coleta\": 7, \"counts\": 15}, {\"ano_coleta\": 1998, \"mes_coleta\": 8, \"counts\": 17}, {\"ano_coleta\": 1998, \"mes_coleta\": 9, \"counts\": 8}, {\"ano_coleta\": 1998, \"mes_coleta\": 10, \"counts\": 202}, {\"ano_coleta\": 1998, \"mes_coleta\": 11, \"counts\": 31}, {\"ano_coleta\": 1998, \"mes_coleta\": 12, \"counts\": 48}, {\"ano_coleta\": 1999, \"mes_coleta\": 0, \"counts\": 51}, {\"ano_coleta\": 1999, \"mes_coleta\": 1, \"counts\": 9}, {\"ano_coleta\": 1999, \"mes_coleta\": 2, \"counts\": 32}, {\"ano_coleta\": 1999, \"mes_coleta\": 3, \"counts\": 113}, {\"ano_coleta\": 1999, \"mes_coleta\": 4, \"counts\": 24}, {\"ano_coleta\": 1999, \"mes_coleta\": 5, \"counts\": 30}, {\"ano_coleta\": 1999, \"mes_coleta\": 6, \"counts\": 11}, {\"ano_coleta\": 1999, \"mes_coleta\": 7, \"counts\": 6}, {\"ano_coleta\": 1999, \"mes_coleta\": 8, \"counts\": 34}, {\"ano_coleta\": 1999, \"mes_coleta\": 9, \"counts\": 47}, {\"ano_coleta\": 1999, \"mes_coleta\": 10, \"counts\": 44}, {\"ano_coleta\": 1999, \"mes_coleta\": 11, \"counts\": 137}, {\"ano_coleta\": 1999, \"mes_coleta\": 12, \"counts\": 20}, {\"ano_coleta\": 2000, \"mes_coleta\": 0, \"counts\": 9}, {\"ano_coleta\": 2000, \"mes_coleta\": 1, \"counts\": 37}, {\"ano_coleta\": 2000, \"mes_coleta\": 2, \"counts\": 67}, {\"ano_coleta\": 2000, \"mes_coleta\": 3, \"counts\": 89}, {\"ano_coleta\": 2000, \"mes_coleta\": 4, \"counts\": 14}, {\"ano_coleta\": 2000, \"mes_coleta\": 5, \"counts\": 29}, {\"ano_coleta\": 2000, \"mes_coleta\": 6, \"counts\": 8}, {\"ano_coleta\": 2000, \"mes_coleta\": 7, \"counts\": 16}, {\"ano_coleta\": 2000, \"mes_coleta\": 8, \"counts\": 40}, {\"ano_coleta\": 2000, \"mes_coleta\": 9, \"counts\": 20}, {\"ano_coleta\": 2000, \"mes_coleta\": 10, \"counts\": 10}, {\"ano_coleta\": 2000, \"mes_coleta\": 11, \"counts\": 83}, {\"ano_coleta\": 2000, \"mes_coleta\": 12, \"counts\": 51}, {\"ano_coleta\": 2001, \"mes_coleta\": 0, \"counts\": 25}, {\"ano_coleta\": 2001, \"mes_coleta\": 1, \"counts\": 18}, {\"ano_coleta\": 2001, \"mes_coleta\": 2, \"counts\": 18}, {\"ano_coleta\": 2001, \"mes_coleta\": 3, \"counts\": 12}, {\"ano_coleta\": 2001, \"mes_coleta\": 4, \"counts\": 11}, {\"ano_coleta\": 2001, \"mes_coleta\": 5, \"counts\": 27}, {\"ano_coleta\": 2001, \"mes_coleta\": 6, \"counts\": 4}, {\"ano_coleta\": 2001, \"mes_coleta\": 7, \"counts\": 4}, {\"ano_coleta\": 2001, \"mes_coleta\": 8, \"counts\": 40}, {\"ano_coleta\": 2001, \"mes_coleta\": 9, \"counts\": 15}, {\"ano_coleta\": 2001, \"mes_coleta\": 10, \"counts\": 39}, {\"ano_coleta\": 2001, \"mes_coleta\": 11, \"counts\": 43}, {\"ano_coleta\": 2001, \"mes_coleta\": 12, \"counts\": 53}, {\"ano_coleta\": 2002, \"mes_coleta\": 0, \"counts\": 8}, {\"ano_coleta\": 2002, \"mes_coleta\": 1, \"counts\": 32}, {\"ano_coleta\": 2002, \"mes_coleta\": 2, \"counts\": 16}, {\"ano_coleta\": 2002, \"mes_coleta\": 3, \"counts\": 49}, {\"ano_coleta\": 2002, \"mes_coleta\": 4, \"counts\": 32}, {\"ano_coleta\": 2002, \"mes_coleta\": 5, \"counts\": 22}, {\"ano_coleta\": 2002, \"mes_coleta\": 6, \"counts\": 27}, {\"ano_coleta\": 2002, \"mes_coleta\": 7, \"counts\": 21}, {\"ano_coleta\": 2002, \"mes_coleta\": 8, \"counts\": 23}, {\"ano_coleta\": 2002, \"mes_coleta\": 9, \"counts\": 23}, {\"ano_coleta\": 2002, \"mes_coleta\": 10, \"counts\": 162}, {\"ano_coleta\": 2002, \"mes_coleta\": 11, \"counts\": 37}, {\"ano_coleta\": 2002, \"mes_coleta\": 12, \"counts\": 12}, {\"ano_coleta\": 2003, \"mes_coleta\": 0, \"counts\": 14}, {\"ano_coleta\": 2003, \"mes_coleta\": 1, \"counts\": 12}, {\"ano_coleta\": 2003, \"mes_coleta\": 2, \"counts\": 15}, {\"ano_coleta\": 2003, \"mes_coleta\": 3, \"counts\": 11}, {\"ano_coleta\": 2003, \"mes_coleta\": 4, \"counts\": 14}, {\"ano_coleta\": 2003, \"mes_coleta\": 5, \"counts\": 9}, {\"ano_coleta\": 2003, \"mes_coleta\": 6, \"counts\": 8}, {\"ano_coleta\": 2003, \"mes_coleta\": 7, \"counts\": 23}, {\"ano_coleta\": 2003, \"mes_coleta\": 8, \"counts\": 13}, {\"ano_coleta\": 2003, \"mes_coleta\": 9, \"counts\": 25}, {\"ano_coleta\": 2003, \"mes_coleta\": 10, \"counts\": 98}, {\"ano_coleta\": 2003, \"mes_coleta\": 11, \"counts\": 44}, {\"ano_coleta\": 2003, \"mes_coleta\": 12, \"counts\": 54}, {\"ano_coleta\": 2004, \"mes_coleta\": 0, \"counts\": 5}, {\"ano_coleta\": 2004, \"mes_coleta\": 1, \"counts\": 34}, {\"ano_coleta\": 2004, \"mes_coleta\": 2, \"counts\": 22}, {\"ano_coleta\": 2004, \"mes_coleta\": 3, \"counts\": 40}, {\"ano_coleta\": 2004, \"mes_coleta\": 4, \"counts\": 45}, {\"ano_coleta\": 2004, \"mes_coleta\": 5, \"counts\": 14}, {\"ano_coleta\": 2004, \"mes_coleta\": 6, \"counts\": 3}, {\"ano_coleta\": 2004, \"mes_coleta\": 7, \"counts\": 10}, {\"ano_coleta\": 2004, \"mes_coleta\": 8, \"counts\": 60}, {\"ano_coleta\": 2004, \"mes_coleta\": 9, \"counts\": 28}, {\"ano_coleta\": 2004, \"mes_coleta\": 10, \"counts\": 38}, {\"ano_coleta\": 2004, \"mes_coleta\": 11, \"counts\": 24}, {\"ano_coleta\": 2004, \"mes_coleta\": 12, \"counts\": 38}, {\"ano_coleta\": 2005, \"mes_coleta\": 0, \"counts\": 20}, {\"ano_coleta\": 2005, \"mes_coleta\": 1, \"counts\": 141}, {\"ano_coleta\": 2005, \"mes_coleta\": 2, \"counts\": 34}, {\"ano_coleta\": 2005, \"mes_coleta\": 3, \"counts\": 15}, {\"ano_coleta\": 2005, \"mes_coleta\": 4, \"counts\": 47}, {\"ano_coleta\": 2005, \"mes_coleta\": 5, \"counts\": 24}, {\"ano_coleta\": 2005, \"mes_coleta\": 6, \"counts\": 25}, {\"ano_coleta\": 2005, \"mes_coleta\": 7, \"counts\": 10}, {\"ano_coleta\": 2005, \"mes_coleta\": 8, \"counts\": 13}, {\"ano_coleta\": 2005, \"mes_coleta\": 9, \"counts\": 20}, {\"ano_coleta\": 2005, \"mes_coleta\": 10, \"counts\": 56}, {\"ano_coleta\": 2005, \"mes_coleta\": 11, \"counts\": 26}, {\"ano_coleta\": 2005, \"mes_coleta\": 12, \"counts\": 23}, {\"ano_coleta\": 2006, \"mes_coleta\": 0, \"counts\": 10}, {\"ano_coleta\": 2006, \"mes_coleta\": 1, \"counts\": 40}, {\"ano_coleta\": 2006, \"mes_coleta\": 2, \"counts\": 29}, {\"ano_coleta\": 2006, \"mes_coleta\": 3, \"counts\": 49}, {\"ano_coleta\": 2006, \"mes_coleta\": 4, \"counts\": 17}, {\"ano_coleta\": 2006, \"mes_coleta\": 5, \"counts\": 19}, {\"ano_coleta\": 2006, \"mes_coleta\": 6, \"counts\": 54}, {\"ano_coleta\": 2006, \"mes_coleta\": 7, \"counts\": 4}, {\"ano_coleta\": 2006, \"mes_coleta\": 8, \"counts\": 18}, {\"ano_coleta\": 2006, \"mes_coleta\": 9, \"counts\": 20}, {\"ano_coleta\": 2006, \"mes_coleta\": 10, \"counts\": 61}, {\"ano_coleta\": 2006, \"mes_coleta\": 11, \"counts\": 48}, {\"ano_coleta\": 2006, \"mes_coleta\": 12, \"counts\": 109}, {\"ano_coleta\": 2007, \"mes_coleta\": 0, \"counts\": 15}, {\"ano_coleta\": 2007, \"mes_coleta\": 1, \"counts\": 88}, {\"ano_coleta\": 2007, \"mes_coleta\": 2, \"counts\": 40}, {\"ano_coleta\": 2007, \"mes_coleta\": 3, \"counts\": 49}, {\"ano_coleta\": 2007, \"mes_coleta\": 4, \"counts\": 29}, {\"ano_coleta\": 2007, \"mes_coleta\": 5, \"counts\": 27}, {\"ano_coleta\": 2007, \"mes_coleta\": 6, \"counts\": 67}, {\"ano_coleta\": 2007, \"mes_coleta\": 7, \"counts\": 47}, {\"ano_coleta\": 2007, \"mes_coleta\": 8, \"counts\": 18}, {\"ano_coleta\": 2007, \"mes_coleta\": 9, \"counts\": 67}, {\"ano_coleta\": 2007, \"mes_coleta\": 10, \"counts\": 77}, {\"ano_coleta\": 2007, \"mes_coleta\": 11, \"counts\": 80}, {\"ano_coleta\": 2007, \"mes_coleta\": 12, \"counts\": 46}, {\"ano_coleta\": 2008, \"mes_coleta\": 0, \"counts\": 18}, {\"ano_coleta\": 2008, \"mes_coleta\": 1, \"counts\": 154}, {\"ano_coleta\": 2008, \"mes_coleta\": 2, \"counts\": 149}, {\"ano_coleta\": 2008, \"mes_coleta\": 3, \"counts\": 148}, {\"ano_coleta\": 2008, \"mes_coleta\": 4, \"counts\": 56}, {\"ano_coleta\": 2008, \"mes_coleta\": 5, \"counts\": 71}, {\"ano_coleta\": 2008, \"mes_coleta\": 6, \"counts\": 91}, {\"ano_coleta\": 2008, \"mes_coleta\": 7, \"counts\": 92}, {\"ano_coleta\": 2008, \"mes_coleta\": 8, \"counts\": 50}, {\"ano_coleta\": 2008, \"mes_coleta\": 9, \"counts\": 193}, {\"ano_coleta\": 2008, \"mes_coleta\": 10, \"counts\": 122}, {\"ano_coleta\": 2008, \"mes_coleta\": 11, \"counts\": 43}, {\"ano_coleta\": 2008, \"mes_coleta\": 12, \"counts\": 52}, {\"ano_coleta\": 2009, \"mes_coleta\": 0, \"counts\": 101}, {\"ano_coleta\": 2009, \"mes_coleta\": 1, \"counts\": 129}, {\"ano_coleta\": 2009, \"mes_coleta\": 2, \"counts\": 111}, {\"ano_coleta\": 2009, \"mes_coleta\": 3, \"counts\": 48}, {\"ano_coleta\": 2009, \"mes_coleta\": 4, \"counts\": 47}, {\"ano_coleta\": 2009, \"mes_coleta\": 5, \"counts\": 52}, {\"ano_coleta\": 2009, \"mes_coleta\": 6, \"counts\": 62}, {\"ano_coleta\": 2009, \"mes_coleta\": 7, \"counts\": 35}, {\"ano_coleta\": 2009, \"mes_coleta\": 8, \"counts\": 35}, {\"ano_coleta\": 2009, \"mes_coleta\": 9, \"counts\": 116}, {\"ano_coleta\": 2009, \"mes_coleta\": 10, \"counts\": 116}, {\"ano_coleta\": 2009, \"mes_coleta\": 11, \"counts\": 53}, {\"ano_coleta\": 2009, \"mes_coleta\": 12, \"counts\": 37}, {\"ano_coleta\": 2010, \"mes_coleta\": 0, \"counts\": 91}, {\"ano_coleta\": 2010, \"mes_coleta\": 1, \"counts\": 85}, {\"ano_coleta\": 2010, \"mes_coleta\": 2, \"counts\": 37}, {\"ano_coleta\": 2010, \"mes_coleta\": 3, \"counts\": 84}, {\"ano_coleta\": 2010, \"mes_coleta\": 4, \"counts\": 59}, {\"ano_coleta\": 2010, \"mes_coleta\": 5, \"counts\": 29}, {\"ano_coleta\": 2010, \"mes_coleta\": 6, \"counts\": 36}, {\"ano_coleta\": 2010, \"mes_coleta\": 7, \"counts\": 30}, {\"ano_coleta\": 2010, \"mes_coleta\": 8, \"counts\": 36}, {\"ano_coleta\": 2010, \"mes_coleta\": 9, \"counts\": 81}, {\"ano_coleta\": 2010, \"mes_coleta\": 10, \"counts\": 29}, {\"ano_coleta\": 2010, \"mes_coleta\": 11, \"counts\": 97}, {\"ano_coleta\": 2010, \"mes_coleta\": 12, \"counts\": 80}, {\"ano_coleta\": 2011, \"mes_coleta\": 0, \"counts\": 8}, {\"ano_coleta\": 2011, \"mes_coleta\": 1, \"counts\": 35}, {\"ano_coleta\": 2011, \"mes_coleta\": 2, \"counts\": 37}, {\"ano_coleta\": 2011, \"mes_coleta\": 3, \"counts\": 49}, {\"ano_coleta\": 2011, \"mes_coleta\": 4, \"counts\": 69}, {\"ano_coleta\": 2011, \"mes_coleta\": 5, \"counts\": 52}, {\"ano_coleta\": 2011, \"mes_coleta\": 6, \"counts\": 56}, {\"ano_coleta\": 2011, \"mes_coleta\": 7, \"counts\": 27}, {\"ano_coleta\": 2011, \"mes_coleta\": 8, \"counts\": 37}, {\"ano_coleta\": 2011, \"mes_coleta\": 9, \"counts\": 62}, {\"ano_coleta\": 2011, \"mes_coleta\": 10, \"counts\": 60}, {\"ano_coleta\": 2011, \"mes_coleta\": 11, \"counts\": 75}, {\"ano_coleta\": 2011, \"mes_coleta\": 12, \"counts\": 35}, {\"ano_coleta\": 2012, \"mes_coleta\": 0, \"counts\": 1}, {\"ano_coleta\": 2012, \"mes_coleta\": 1, \"counts\": 44}, {\"ano_coleta\": 2012, \"mes_coleta\": 2, \"counts\": 20}, {\"ano_coleta\": 2012, \"mes_coleta\": 3, \"counts\": 52}, {\"ano_coleta\": 2012, \"mes_coleta\": 4, \"counts\": 32}, {\"ano_coleta\": 2012, \"mes_coleta\": 5, \"counts\": 41}, {\"ano_coleta\": 2012, \"mes_coleta\": 6, \"counts\": 22}, {\"ano_coleta\": 2012, \"mes_coleta\": 7, \"counts\": 67}, {\"ano_coleta\": 2012, \"mes_coleta\": 8, \"counts\": 107}, {\"ano_coleta\": 2012, \"mes_coleta\": 9, \"counts\": 13}, {\"ano_coleta\": 2012, \"mes_coleta\": 10, \"counts\": 73}, {\"ano_coleta\": 2012, \"mes_coleta\": 11, \"counts\": 48}, {\"ano_coleta\": 2012, \"mes_coleta\": 12, \"counts\": 44}, {\"ano_coleta\": 2013, \"mes_coleta\": 0, \"counts\": 1}, {\"ano_coleta\": 2013, \"mes_coleta\": 1, \"counts\": 56}, {\"ano_coleta\": 2013, \"mes_coleta\": 2, \"counts\": 64}, {\"ano_coleta\": 2013, \"mes_coleta\": 3, \"counts\": 42}, {\"ano_coleta\": 2013, \"mes_coleta\": 4, \"counts\": 28}, {\"ano_coleta\": 2013, \"mes_coleta\": 5, \"counts\": 18}, {\"ano_coleta\": 2013, \"mes_coleta\": 6, \"counts\": 50}, {\"ano_coleta\": 2013, \"mes_coleta\": 7, \"counts\": 29}, {\"ano_coleta\": 2013, \"mes_coleta\": 8, \"counts\": 39}, {\"ano_coleta\": 2013, \"mes_coleta\": 9, \"counts\": 12}, {\"ano_coleta\": 2013, \"mes_coleta\": 10, \"counts\": 41}, {\"ano_coleta\": 2013, \"mes_coleta\": 11, \"counts\": 153}, {\"ano_coleta\": 2013, \"mes_coleta\": 12, \"counts\": 41}, {\"ano_coleta\": 2014, \"mes_coleta\": 0, \"counts\": 3}, {\"ano_coleta\": 2014, \"mes_coleta\": 1, \"counts\": 61}, {\"ano_coleta\": 2014, \"mes_coleta\": 2, \"counts\": 68}, {\"ano_coleta\": 2014, \"mes_coleta\": 3, \"counts\": 33}, {\"ano_coleta\": 2014, \"mes_coleta\": 4, \"counts\": 34}, {\"ano_coleta\": 2014, \"mes_coleta\": 5, \"counts\": 28}, {\"ano_coleta\": 2014, \"mes_coleta\": 6, \"counts\": 16}, {\"ano_coleta\": 2014, \"mes_coleta\": 7, \"counts\": 9}, {\"ano_coleta\": 2014, \"mes_coleta\": 8, \"counts\": 39}, {\"ano_coleta\": 2014, \"mes_coleta\": 9, \"counts\": 15}, {\"ano_coleta\": 2014, \"mes_coleta\": 10, \"counts\": 30}, {\"ano_coleta\": 2014, \"mes_coleta\": 11, \"counts\": 27}, {\"ano_coleta\": 2014, \"mes_coleta\": 12, \"counts\": 48}, {\"ano_coleta\": 2015, \"mes_coleta\": 1, \"counts\": 306}, {\"ano_coleta\": 2015, \"mes_coleta\": 2, \"counts\": 58}, {\"ano_coleta\": 2015, \"mes_coleta\": 3, \"counts\": 35}, {\"ano_coleta\": 2015, \"mes_coleta\": 4, \"counts\": 13}, {\"ano_coleta\": 2015, \"mes_coleta\": 5, \"counts\": 33}, {\"ano_coleta\": 2015, \"mes_coleta\": 6, \"counts\": 8}, {\"ano_coleta\": 2015, \"mes_coleta\": 7, \"counts\": 6}, {\"ano_coleta\": 2015, \"mes_coleta\": 8, \"counts\": 12}, {\"ano_coleta\": 2015, \"mes_coleta\": 9, \"counts\": 48}, {\"ano_coleta\": 2015, \"mes_coleta\": 10, \"counts\": 14}, {\"ano_coleta\": 2015, \"mes_coleta\": 11, \"counts\": 23}, {\"ano_coleta\": 2015, \"mes_coleta\": 12, \"counts\": 34}, {\"ano_coleta\": 2016, \"mes_coleta\": 1, \"counts\": 47}, {\"ano_coleta\": 2016, \"mes_coleta\": 2, \"counts\": 23}, {\"ano_coleta\": 2016, \"mes_coleta\": 3, \"counts\": 20}, {\"ano_coleta\": 2016, \"mes_coleta\": 4, \"counts\": 20}, {\"ano_coleta\": 2016, \"mes_coleta\": 5, \"counts\": 4}, {\"ano_coleta\": 2016, \"mes_coleta\": 6, \"counts\": 10}, {\"ano_coleta\": 2016, \"mes_coleta\": 8, \"counts\": 1}]}}, {\"mode\": \"vega-lite\"});\n",
       "</script>"
      ],
      "text/plain": [
       "alt.Chart(...)"
      ]
     },
     "execution_count": 126,
     "metadata": {},
     "output_type": "execute_result"
    }
   ],
   "source": [
    "total = alt.Chart(counts, title='Total of collected animals per month/year', width=1200,\n",
    "         height=200).mark_rect().encode(\n",
    "    y = alt.Y('mes_coleta', type='ordinal', title='Collected Month',\n",
    "              sort= alt.EncodingSortField('mes_coleta', order='descending')),\n",
    "    x = alt.X('ano_coleta', type='ordinal', title='Collected Year'),\n",
    "    color= alt.Color('counts', title='Counts'),\n",
    "    tooltip = alt.Tooltip(['counts', 'ano_coleta', 'mes_coleta'])\n",
    ")\n",
    "\n",
    "# total.save('./graphs/seasonality/season-total.html')\n",
    "\n",
    "total"
   ]
  },
  {
   "cell_type": "markdown",
   "metadata": {},
   "source": [
    "<br>\n",
    "\n",
    "### counts over time (per order)"
   ]
  },
  {
   "cell_type": "code",
   "execution_count": 155,
   "metadata": {
    "ExecuteTime": {
     "end_time": "2020-07-15T13:44:31.669460Z",
     "start_time": "2020-07-15T13:44:31.607012Z"
    }
   },
   "outputs": [],
   "source": [
    "counts = NewTable.dropna(subset=['ano_coleta', 'mes_coleta'], how='all')\n",
    "\n",
    "counts = counts.groupby(['ano_coleta', 'mes_coleta', 'ordem']).count()['class'].reset_index().rename(\n",
    "                                                                            columns={'class':'counts'})\n",
    "\n",
    "counts['ano_coleta'] = counts['ano_coleta'].astype(int)\n",
    "counts['mes_coleta'] = counts['mes_coleta'].astype(int)"
   ]
  },
  {
   "cell_type": "code",
   "execution_count": 156,
   "metadata": {
    "ExecuteTime": {
     "end_time": "2020-07-15T13:44:32.147436Z",
     "start_time": "2020-07-15T13:44:32.133560Z"
    }
   },
   "outputs": [
    {
     "data": {
      "text/plain": [
       "Squamata      877\n",
       "Testudines    161\n",
       "Crocodylia     40\n",
       "Nan             4\n",
       "#n/d            2\n",
       "Squamta         1\n",
       "Caudata         1\n",
       "Name: ordem, dtype: int64"
      ]
     },
     "execution_count": 156,
     "metadata": {},
     "output_type": "execute_result"
    }
   ],
   "source": [
    "counts['ordem'].value_counts()"
   ]
  },
  {
   "cell_type": "markdown",
   "metadata": {},
   "source": [
    "<font color='red' size='5'>Ajustes na coluna ordem </font>"
   ]
  },
  {
   "cell_type": "code",
   "execution_count": 157,
   "metadata": {
    "ExecuteTime": {
     "end_time": "2020-07-15T13:44:33.328228Z",
     "start_time": "2020-07-15T13:44:33.323560Z"
    }
   },
   "outputs": [],
   "source": [
    "# corrige Squama e Squamta\n",
    "def corrige_squamata(string):\n",
    "    if str(string).lower() == 'squama' or str(string).lower() == 'squamta':\n",
    "        return 'Squamata'\n",
    "    else:\n",
    "        return str(string)\n",
    "    \n",
    "# corrige de #n/d para 'Nan'\n",
    "def corrige_nd(string):\n",
    "    if str(string) == \"#n/d\":\n",
    "        return np.NAN\n",
    "    elif str(string).lower() == 'nan':\n",
    "        return np.NAN\n",
    "    else:\n",
    "        return string"
   ]
  },
  {
   "cell_type": "code",
   "execution_count": 158,
   "metadata": {
    "ExecuteTime": {
     "end_time": "2020-07-15T13:44:33.810015Z",
     "start_time": "2020-07-15T13:44:33.793962Z"
    }
   },
   "outputs": [],
   "source": [
    "counts['ordem'] = counts['ordem'].apply(corrige_squamata)\n",
    "counts['ordem'] = counts['ordem'].apply(corrige_nd)"
   ]
  },
  {
   "cell_type": "code",
   "execution_count": 159,
   "metadata": {
    "ExecuteTime": {
     "end_time": "2020-07-15T13:44:34.808333Z",
     "start_time": "2020-07-15T13:44:34.803373Z"
    }
   },
   "outputs": [],
   "source": [
    "anos = counts['ano_coleta'].unique()"
   ]
  },
  {
   "cell_type": "code",
   "execution_count": 176,
   "metadata": {
    "ExecuteTime": {
     "end_time": "2020-07-15T13:51:48.017947Z",
     "start_time": "2020-07-15T13:51:47.899956Z"
    }
   },
   "outputs": [
    {
     "data": {
      "text/html": [
       "\n",
       "<div id=\"altair-viz-56da4db451c248cf92cb4a170db8717e\"></div>\n",
       "<script type=\"text/javascript\">\n",
       "  (function(spec, embedOpt){\n",
       "    let outputDiv = document.currentScript.previousElementSibling;\n",
       "    if (outputDiv.id !== \"altair-viz-56da4db451c248cf92cb4a170db8717e\") {\n",
       "      outputDiv = document.getElementById(\"altair-viz-56da4db451c248cf92cb4a170db8717e\");\n",
       "    }\n",
       "    const paths = {\n",
       "      \"vega\": \"https://cdn.jsdelivr.net/npm//vega@5?noext\",\n",
       "      \"vega-lib\": \"https://cdn.jsdelivr.net/npm//vega-lib?noext\",\n",
       "      \"vega-lite\": \"https://cdn.jsdelivr.net/npm//vega-lite@4.8.1?noext\",\n",
       "      \"vega-embed\": \"https://cdn.jsdelivr.net/npm//vega-embed@6?noext\",\n",
       "    };\n",
       "\n",
       "    function loadScript(lib) {\n",
       "      return new Promise(function(resolve, reject) {\n",
       "        var s = document.createElement('script');\n",
       "        s.src = paths[lib];\n",
       "        s.async = true;\n",
       "        s.onload = () => resolve(paths[lib]);\n",
       "        s.onerror = () => reject(`Error loading script: ${paths[lib]}`);\n",
       "        document.getElementsByTagName(\"head\")[0].appendChild(s);\n",
       "      });\n",
       "    }\n",
       "\n",
       "    function showError(err) {\n",
       "      outputDiv.innerHTML = `<div class=\"error\" style=\"color:red;\">${err}</div>`;\n",
       "      throw err;\n",
       "    }\n",
       "\n",
       "    function displayChart(vegaEmbed) {\n",
       "      vegaEmbed(outputDiv, spec, embedOpt)\n",
       "        .catch(err => showError(`Javascript Error: ${err.message}<br>This usually means there's a typo in your chart specification. See the javascript console for the full traceback.`));\n",
       "    }\n",
       "\n",
       "    if(typeof define === \"function\" && define.amd) {\n",
       "      requirejs.config({paths});\n",
       "      require([\"vega-embed\"], displayChart, err => showError(`Error loading script: ${err.message}`));\n",
       "    } else if (typeof vegaEmbed === \"function\") {\n",
       "      displayChart(vegaEmbed);\n",
       "    } else {\n",
       "      loadScript(\"vega\")\n",
       "        .then(() => loadScript(\"vega-lite\"))\n",
       "        .then(() => loadScript(\"vega-embed\"))\n",
       "        .catch(showError)\n",
       "        .then(() => displayChart(vegaEmbed));\n",
       "    }\n",
       "  })({\"config\": {\"view\": {\"continuousWidth\": 400, \"continuousHeight\": 300}}, \"data\": {\"name\": \"data-035005317cf2aa8057ea22565b136808\"}, \"facet\": {\"row\": {\"type\": \"nominal\", \"field\": \"ordem\"}}, \"spec\": {\"mark\": \"rect\", \"encoding\": {\"color\": {\"type\": \"quantitative\", \"field\": \"counts\", \"title\": \"Counts\"}, \"tooltip\": [{\"type\": \"quantitative\", \"field\": \"counts\"}, {\"type\": \"quantitative\", \"field\": \"ano_coleta\"}, {\"type\": \"quantitative\", \"field\": \"mes_coleta\"}], \"x\": {\"type\": \"ordinal\", \"field\": \"ano_coleta\", \"scale\": {\"domain\": [0.0, 1824.0, 1876.0, 1901.0, 1902.0, 1903.0, 1905.0, 1906.0, 1907.0, 1912.0, 1913.0, 1914.0, 1915.0, 1916.0, 1917.0, 1919.0, 1922.0, 1923.0, 1924.0, 1925.0, 1926.0, 1928.0, 1931.0, 1932.0, 1933.0, 1935.0, 1936.0, 1937.0, 1938.0, 1939.0, 1940.0, 1941.0, 1942.0, 1943.0, 1944.0, 1945.0, 1946.0, 1947.0, 1948.0, 1949.0, 1950.0, 1951.0, 1952.0, 1953.0, 1954.0, 1955.0, 1956.0, 1957.0, 1958.0, 1959.0, 1960.0, 1961.0, 1962.0, 1963.0, 1964.0, 1965.0, 1966.0, 1967.0, 1968.0, 1969.0, 1970.0, 1971.0, 1972.0, 1973.0, 1974.0, 1975.0, 1976.0, 1977.0, 1978.0, 1979.0, 1980.0, 1981.0, 1982.0, 1983.0, 1984.0, 1985.0, 1986.0, 1987.0, 1988.0, 1989.0, 1990.0, 1991.0, 1992.0, 1993.0, 1994.0, 1995.0, 1996.0, 1997.0, 1998.0, 1999.0, 2000.0, 2001.0, 2002.0, 2003.0, 2004.0, 2005.0, 2006.0, 2007.0, 2008.0, 2009.0, 2010.0, 2011.0, 2012.0, 2013.0, 2014.0, 2015.0, 2016.0]}, \"title\": \"Collected Year\"}, \"y\": {\"type\": \"ordinal\", \"field\": \"mes_coleta\", \"sort\": {\"field\": \"mes_coleta\", \"order\": \"descending\"}, \"title\": \"Collected Month\"}}, \"height\": 200, \"title\": \"Total of collected animals per month/year\", \"width\": 1200}, \"resolve\": {\"legend\": {\"color\": \"independent\"}, \"scale\": {\"x\": \"independent\"}}, \"$schema\": \"https://vega.github.io/schema/vega-lite/v4.8.1.json\", \"datasets\": {\"data-035005317cf2aa8057ea22565b136808\": [{\"ano_coleta\": 0, \"mes_coleta\": 5, \"ordem\": \"Squamata\", \"counts\": 1}, {\"ano_coleta\": 0, \"mes_coleta\": 6, \"ordem\": \"Squamata\", \"counts\": 1}, {\"ano_coleta\": 0, \"mes_coleta\": 7, \"ordem\": \"Squamata\", \"counts\": 1}, {\"ano_coleta\": 0, \"mes_coleta\": 11, \"ordem\": \"Squamata\", \"counts\": 2}, {\"ano_coleta\": 1824, \"mes_coleta\": 0, \"ordem\": \"Squamata\", \"counts\": 1}, {\"ano_coleta\": 1876, \"mes_coleta\": 0, \"ordem\": \"Squamata\", \"counts\": 74}, {\"ano_coleta\": 1901, \"mes_coleta\": 4, \"ordem\": \"Squamata\", \"counts\": 1}, {\"ano_coleta\": 1901, \"mes_coleta\": 9, \"ordem\": \"Squamata\", \"counts\": 1}, {\"ano_coleta\": 1901, \"mes_coleta\": 11, \"ordem\": \"Squamata\", \"counts\": 1}, {\"ano_coleta\": 1902, \"mes_coleta\": 2, \"ordem\": \"Squamata\", \"counts\": 1}, {\"ano_coleta\": 1902, \"mes_coleta\": 11, \"ordem\": \"Squamata\", \"counts\": 1}, {\"ano_coleta\": 1903, \"mes_coleta\": 7, \"ordem\": \"Squamata\", \"counts\": 1}, {\"ano_coleta\": 1905, \"mes_coleta\": 6, \"ordem\": \"Squamata\", \"counts\": 1}, {\"ano_coleta\": 1906, \"mes_coleta\": 11, \"ordem\": \"Squamata\", \"counts\": 1}, {\"ano_coleta\": 1907, \"mes_coleta\": 0, \"ordem\": \"Squamata\", \"counts\": 3}, {\"ano_coleta\": 1907, \"mes_coleta\": 8, \"ordem\": \"Testudines\", \"counts\": 1}, {\"ano_coleta\": 1912, \"mes_coleta\": 6, \"ordem\": \"Testudines\", \"counts\": 1}, {\"ano_coleta\": 1912, \"mes_coleta\": 9, \"ordem\": \"Squamata\", \"counts\": 1}, {\"ano_coleta\": 1912, \"mes_coleta\": 11, \"ordem\": \"Crocodylia\", \"counts\": 1}, {\"ano_coleta\": 1913, \"mes_coleta\": 0, \"ordem\": \"Squamata\", \"counts\": 1}, {\"ano_coleta\": 1913, \"mes_coleta\": 7, \"ordem\": \"Squamata\", \"counts\": 1}, {\"ano_coleta\": 1914, \"mes_coleta\": 4, \"ordem\": \"Squamata\", \"counts\": 1}, {\"ano_coleta\": 1915, \"mes_coleta\": 5, \"ordem\": \"Testudines\", \"counts\": 1}, {\"ano_coleta\": 1915, \"mes_coleta\": 7, \"ordem\": \"Squamata\", \"counts\": 1}, {\"ano_coleta\": 1915, \"mes_coleta\": 12, \"ordem\": \"Squamata\", \"counts\": 4}, {\"ano_coleta\": 1916, \"mes_coleta\": 0, \"ordem\": \"Squamata\", \"counts\": 2}, {\"ano_coleta\": 1916, \"mes_coleta\": 8, \"ordem\": \"Testudines\", \"counts\": 1}, {\"ano_coleta\": 1917, \"mes_coleta\": 6, \"ordem\": \"Squamata\", \"counts\": 1}, {\"ano_coleta\": 1919, \"mes_coleta\": 4, \"ordem\": \"Squamata\", \"counts\": 2}, {\"ano_coleta\": 1919, \"mes_coleta\": 7, \"ordem\": \"Squamata\", \"counts\": 1}, {\"ano_coleta\": 1922, \"mes_coleta\": 8, \"ordem\": \"Squamata\", \"counts\": 2}, {\"ano_coleta\": 1923, \"mes_coleta\": 0, \"ordem\": \"Squamata\", \"counts\": 2}, {\"ano_coleta\": 1923, \"mes_coleta\": 0, \"ordem\": \"Testudines\", \"counts\": 1}, {\"ano_coleta\": 1924, \"mes_coleta\": 1, \"ordem\": \"Squamata\", \"counts\": 1}, {\"ano_coleta\": 1925, \"mes_coleta\": 1, \"ordem\": \"Squamata\", \"counts\": 1}, {\"ano_coleta\": 1926, \"mes_coleta\": 4, \"ordem\": \"Squamata\", \"counts\": 1}, {\"ano_coleta\": 1928, \"mes_coleta\": 0, \"ordem\": \"Squamata\", \"counts\": 1}, {\"ano_coleta\": 1931, \"mes_coleta\": 2, \"ordem\": \"Squamata\", \"counts\": 2}, {\"ano_coleta\": 1932, \"mes_coleta\": 12, \"ordem\": \"Squamata\", \"counts\": 1}, {\"ano_coleta\": 1933, \"mes_coleta\": 3, \"ordem\": \"Squamata\", \"counts\": 3}, {\"ano_coleta\": 1935, \"mes_coleta\": 9, \"ordem\": \"Squamata\", \"counts\": 1}, {\"ano_coleta\": 1935, \"mes_coleta\": 10, \"ordem\": \"Squamata\", \"counts\": 1}, {\"ano_coleta\": 1936, \"mes_coleta\": 5, \"ordem\": \"Squamata\", \"counts\": 1}, {\"ano_coleta\": 1936, \"mes_coleta\": 6, \"ordem\": \"Squamata\", \"counts\": 1}, {\"ano_coleta\": 1936, \"mes_coleta\": 8, \"ordem\": \"Squamata\", \"counts\": 1}, {\"ano_coleta\": 1937, \"mes_coleta\": 0, \"ordem\": \"Squamata\", \"counts\": 6}, {\"ano_coleta\": 1937, \"mes_coleta\": 1, \"ordem\": \"Squamata\", \"counts\": 1}, {\"ano_coleta\": 1937, \"mes_coleta\": 7, \"ordem\": \"Squamata\", \"counts\": 1}, {\"ano_coleta\": 1937, \"mes_coleta\": 12, \"ordem\": \"Squamata\", \"counts\": 21}, {\"ano_coleta\": 1938, \"mes_coleta\": 0, \"ordem\": \"Squamata\", \"counts\": 1}, {\"ano_coleta\": 1939, \"mes_coleta\": 0, \"ordem\": \"Squamata\", \"counts\": 8}, {\"ano_coleta\": 1939, \"mes_coleta\": 9, \"ordem\": \"Squamata\", \"counts\": 1}, {\"ano_coleta\": 1939, \"mes_coleta\": 10, \"ordem\": \"Squamata\", \"counts\": 28}, {\"ano_coleta\": 1939, \"mes_coleta\": 11, \"ordem\": \"Squamata\", \"counts\": 168}, {\"ano_coleta\": 1940, \"mes_coleta\": 0, \"ordem\": \"Squamata\", \"counts\": 7}, {\"ano_coleta\": 1940, \"mes_coleta\": 1, \"ordem\": \"Squamata\", \"counts\": 2}, {\"ano_coleta\": 1940, \"mes_coleta\": 2, \"ordem\": \"Squamata\", \"counts\": 2}, {\"ano_coleta\": 1940, \"mes_coleta\": 3, \"ordem\": \"Squamata\", \"counts\": 3}, {\"ano_coleta\": 1940, \"mes_coleta\": 5, \"ordem\": \"Squamata\", \"counts\": 1}, {\"ano_coleta\": 1940, \"mes_coleta\": 7, \"ordem\": \"Squamata\", \"counts\": 7}, {\"ano_coleta\": 1940, \"mes_coleta\": 8, \"ordem\": \"Squamata\", \"counts\": 30}, {\"ano_coleta\": 1940, \"mes_coleta\": 11, \"ordem\": \"Squamata\", \"counts\": 2}, {\"ano_coleta\": 1940, \"mes_coleta\": 12, \"ordem\": \"Squamata\", \"counts\": 1}, {\"ano_coleta\": 1941, \"mes_coleta\": 0, \"ordem\": \"Squamata\", \"counts\": 1}, {\"ano_coleta\": 1941, \"mes_coleta\": 2, \"ordem\": \"Squamata\", \"counts\": 4}, {\"ano_coleta\": 1941, \"mes_coleta\": 3, \"ordem\": \"Squamata\", \"counts\": 2}, {\"ano_coleta\": 1941, \"mes_coleta\": 7, \"ordem\": \"Squamata\", \"counts\": 6}, {\"ano_coleta\": 1941, \"mes_coleta\": 9, \"ordem\": \"Squamata\", \"counts\": 2}, {\"ano_coleta\": 1941, \"mes_coleta\": 11, \"ordem\": \"Squamata\", \"counts\": 2}, {\"ano_coleta\": 1942, \"mes_coleta\": 0, \"ordem\": \"Squamata\", \"counts\": 17}, {\"ano_coleta\": 1942, \"mes_coleta\": 0, \"ordem\": \"Testudines\", \"counts\": 1}, {\"ano_coleta\": 1942, \"mes_coleta\": 2, \"ordem\": \"Squamata\", \"counts\": 104}, {\"ano_coleta\": 1942, \"mes_coleta\": 3, \"ordem\": \"Squamata\", \"counts\": 72}, {\"ano_coleta\": 1942, \"mes_coleta\": 4, \"ordem\": \"Squamata\", \"counts\": 2}, {\"ano_coleta\": 1942, \"mes_coleta\": 5, \"ordem\": \"Squamata\", \"counts\": 11}, {\"ano_coleta\": 1942, \"mes_coleta\": 6, \"ordem\": \"Squamata\", \"counts\": 21}, {\"ano_coleta\": 1942, \"mes_coleta\": 6, \"ordem\": \"Testudines\", \"counts\": 1}, {\"ano_coleta\": 1942, \"mes_coleta\": 7, \"ordem\": \"Squamata\", \"counts\": 7}, {\"ano_coleta\": 1942, \"mes_coleta\": 9, \"ordem\": \"Squamata\", \"counts\": 6}, {\"ano_coleta\": 1942, \"mes_coleta\": 10, \"ordem\": \"Squamata\", \"counts\": 4}, {\"ano_coleta\": 1942, \"mes_coleta\": 11, \"ordem\": \"Squamata\", \"counts\": 1}, {\"ano_coleta\": 1942, \"mes_coleta\": 12, \"ordem\": \"Squamata\", \"counts\": 10}, {\"ano_coleta\": 1942, \"mes_coleta\": 12, \"ordem\": \"Testudines\", \"counts\": 5}, {\"ano_coleta\": 1943, \"mes_coleta\": 0, \"ordem\": \"Squamata\", \"counts\": 51}, {\"ano_coleta\": 1943, \"mes_coleta\": 1, \"ordem\": \"Squamata\", \"counts\": 5}, {\"ano_coleta\": 1943, \"mes_coleta\": 2, \"ordem\": \"Squamata\", \"counts\": 1}, {\"ano_coleta\": 1943, \"mes_coleta\": 3, \"ordem\": \"Squamata\", \"counts\": 12}, {\"ano_coleta\": 1943, \"mes_coleta\": 4, \"ordem\": \"Squamata\", \"counts\": 1}, {\"ano_coleta\": 1943, \"mes_coleta\": 5, \"ordem\": \"Squamata\", \"counts\": 4}, {\"ano_coleta\": 1943, \"mes_coleta\": 6, \"ordem\": \"Squamata\", \"counts\": 1}, {\"ano_coleta\": 1943, \"mes_coleta\": 7, \"ordem\": \"Squamata\", \"counts\": 4}, {\"ano_coleta\": 1943, \"mes_coleta\": 8, \"ordem\": \"Squamata\", \"counts\": 17}, {\"ano_coleta\": 1943, \"mes_coleta\": 10, \"ordem\": \"Squamata\", \"counts\": 7}, {\"ano_coleta\": 1943, \"mes_coleta\": 11, \"ordem\": \"Squamata\", \"counts\": 9}, {\"ano_coleta\": 1944, \"mes_coleta\": 0, \"ordem\": \"Squamata\", \"counts\": 22}, {\"ano_coleta\": 1944, \"mes_coleta\": 1, \"ordem\": \"Squamata\", \"counts\": 6}, {\"ano_coleta\": 1944, \"mes_coleta\": 2, \"ordem\": \"Squamata\", \"counts\": 6}, {\"ano_coleta\": 1944, \"mes_coleta\": 3, \"ordem\": \"Squamata\", \"counts\": 24}, {\"ano_coleta\": 1944, \"mes_coleta\": 4, \"ordem\": \"Squamata\", \"counts\": 8}, {\"ano_coleta\": 1944, \"mes_coleta\": 6, \"ordem\": \"Squamata\", \"counts\": 3}, {\"ano_coleta\": 1944, \"mes_coleta\": 8, \"ordem\": \"Squamata\", \"counts\": 4}, {\"ano_coleta\": 1944, \"mes_coleta\": 9, \"ordem\": \"Squamata\", \"counts\": 10}, {\"ano_coleta\": 1944, \"mes_coleta\": 10, \"ordem\": \"Squamata\", \"counts\": 63}, {\"ano_coleta\": 1944, \"mes_coleta\": 10, \"ordem\": \"Testudines\", \"counts\": 2}, {\"ano_coleta\": 1944, \"mes_coleta\": 11, \"ordem\": \"Squamata\", \"counts\": 11}, {\"ano_coleta\": 1944, \"mes_coleta\": 12, \"ordem\": \"Squamata\", \"counts\": 2}, {\"ano_coleta\": 1945, \"mes_coleta\": 0, \"ordem\": \"Squamata\", \"counts\": 4}, {\"ano_coleta\": 1945, \"mes_coleta\": 1, \"ordem\": \"Squamata\", \"counts\": 349}, {\"ano_coleta\": 1945, \"mes_coleta\": 2, \"ordem\": \"Squamata\", \"counts\": 6}, {\"ano_coleta\": 1945, \"mes_coleta\": 3, \"ordem\": \"Squamata\", \"counts\": 7}, {\"ano_coleta\": 1945, \"mes_coleta\": 4, \"ordem\": \"Squamata\", \"counts\": 3}, {\"ano_coleta\": 1945, \"mes_coleta\": 5, \"ordem\": \"Squamata\", \"counts\": 3}, {\"ano_coleta\": 1945, \"mes_coleta\": 8, \"ordem\": \"Squamata\", \"counts\": 1}, {\"ano_coleta\": 1945, \"mes_coleta\": 10, \"ordem\": \"Squamata\", \"counts\": 13}, {\"ano_coleta\": 1945, \"mes_coleta\": 11, \"ordem\": \"Squamata\", \"counts\": 2}, {\"ano_coleta\": 1945, \"mes_coleta\": 12, \"ordem\": \"Squamata\", \"counts\": 3}, {\"ano_coleta\": 1946, \"mes_coleta\": 0, \"ordem\": \"Squamata\", \"counts\": 3}, {\"ano_coleta\": 1946, \"mes_coleta\": 1, \"ordem\": \"Squamata\", \"counts\": 2}, {\"ano_coleta\": 1946, \"mes_coleta\": 2, \"ordem\": \"Squamata\", \"counts\": 4}, {\"ano_coleta\": 1946, \"mes_coleta\": 3, \"ordem\": \"Squamata\", \"counts\": 4}, {\"ano_coleta\": 1946, \"mes_coleta\": 4, \"ordem\": \"Squamata\", \"counts\": 11}, {\"ano_coleta\": 1946, \"mes_coleta\": 5, \"ordem\": \"Squamata\", \"counts\": 1}, {\"ano_coleta\": 1946, \"mes_coleta\": 8, \"ordem\": \"Squamata\", \"counts\": 1}, {\"ano_coleta\": 1946, \"mes_coleta\": 10, \"ordem\": \"Squamata\", \"counts\": 16}, {\"ano_coleta\": 1946, \"mes_coleta\": 11, \"ordem\": \"Squamata\", \"counts\": 8}, {\"ano_coleta\": 1946, \"mes_coleta\": 12, \"ordem\": \"Squamata\", \"counts\": 1}, {\"ano_coleta\": 1947, \"mes_coleta\": 0, \"ordem\": \"Squamata\", \"counts\": 49}, {\"ano_coleta\": 1947, \"mes_coleta\": 1, \"ordem\": \"Squamata\", \"counts\": 6}, {\"ano_coleta\": 1947, \"mes_coleta\": 2, \"ordem\": \"Squamata\", \"counts\": 2}, {\"ano_coleta\": 1947, \"mes_coleta\": 3, \"ordem\": \"Squamata\", \"counts\": 5}, {\"ano_coleta\": 1947, \"mes_coleta\": 4, \"ordem\": \"Squamata\", \"counts\": 6}, {\"ano_coleta\": 1947, \"mes_coleta\": 5, \"ordem\": \"Squamata\", \"counts\": 6}, {\"ano_coleta\": 1947, \"mes_coleta\": 6, \"ordem\": \"Squamata\", \"counts\": 9}, {\"ano_coleta\": 1947, \"mes_coleta\": 8, \"ordem\": \"Squamata\", \"counts\": 6}, {\"ano_coleta\": 1947, \"mes_coleta\": 9, \"ordem\": \"Squamata\", \"counts\": 1}, {\"ano_coleta\": 1947, \"mes_coleta\": 10, \"ordem\": \"Squamata\", \"counts\": 8}, {\"ano_coleta\": 1947, \"mes_coleta\": 11, \"ordem\": \"Squamata\", \"counts\": 2}, {\"ano_coleta\": 1947, \"mes_coleta\": 12, \"ordem\": \"Squamata\", \"counts\": 2}, {\"ano_coleta\": 1948, \"mes_coleta\": 0, \"ordem\": \"Crocodylia\", \"counts\": 1}, {\"ano_coleta\": 1948, \"mes_coleta\": 0, \"ordem\": \"Squamata\", \"counts\": 18}, {\"ano_coleta\": 1948, \"mes_coleta\": 1, \"ordem\": \"Squamata\", \"counts\": 7}, {\"ano_coleta\": 1948, \"mes_coleta\": 2, \"ordem\": \"Squamata\", \"counts\": 2}, {\"ano_coleta\": 1948, \"mes_coleta\": 5, \"ordem\": \"Squamata\", \"counts\": 2}, {\"ano_coleta\": 1948, \"mes_coleta\": 6, \"ordem\": \"Squamata\", \"counts\": 2}, {\"ano_coleta\": 1948, \"mes_coleta\": 7, \"ordem\": \"Squamata\", \"counts\": 13}, {\"ano_coleta\": 1948, \"mes_coleta\": 8, \"ordem\": \"Squamata\", \"counts\": 5}, {\"ano_coleta\": 1948, \"mes_coleta\": 10, \"ordem\": \"Squamata\", \"counts\": 54}, {\"ano_coleta\": 1948, \"mes_coleta\": 12, \"ordem\": \"Squamata\", \"counts\": 2}, {\"ano_coleta\": 1949, \"mes_coleta\": 0, \"ordem\": \"Squamata\", \"counts\": 3}, {\"ano_coleta\": 1949, \"mes_coleta\": 1, \"ordem\": \"Squamata\", \"counts\": 1}, {\"ano_coleta\": 1949, \"mes_coleta\": 3, \"ordem\": \"Squamata\", \"counts\": 3}, {\"ano_coleta\": 1949, \"mes_coleta\": 5, \"ordem\": \"Squamata\", \"counts\": 3}, {\"ano_coleta\": 1949, \"mes_coleta\": 7, \"ordem\": \"Squamata\", \"counts\": 6}, {\"ano_coleta\": 1949, \"mes_coleta\": 8, \"ordem\": \"Squamata\", \"counts\": 7}, {\"ano_coleta\": 1949, \"mes_coleta\": 9, \"ordem\": \"Squamata\", \"counts\": 2}, {\"ano_coleta\": 1949, \"mes_coleta\": 12, \"ordem\": \"Squamata\", \"counts\": 1}, {\"ano_coleta\": 1949, \"mes_coleta\": 12, \"ordem\": \"Testudines\", \"counts\": 1}, {\"ano_coleta\": 1950, \"mes_coleta\": 0, \"ordem\": \"Squamata\", \"counts\": 9}, {\"ano_coleta\": 1950, \"mes_coleta\": 1, \"ordem\": \"Squamata\", \"counts\": 4}, {\"ano_coleta\": 1950, \"mes_coleta\": 5, \"ordem\": \"Squamata\", \"counts\": 5}, {\"ano_coleta\": 1950, \"mes_coleta\": 6, \"ordem\": \"Squamata\", \"counts\": 20}, {\"ano_coleta\": 1950, \"mes_coleta\": 7, \"ordem\": \"Squamata\", \"counts\": 3}, {\"ano_coleta\": 1950, \"mes_coleta\": 9, \"ordem\": \"Squamata\", \"counts\": 5}, {\"ano_coleta\": 1950, \"mes_coleta\": 11, \"ordem\": \"Squamata\", \"counts\": 8}, {\"ano_coleta\": 1951, \"mes_coleta\": 0, \"ordem\": \"Squamata\", \"counts\": 22}, {\"ano_coleta\": 1951, \"mes_coleta\": 7, \"ordem\": \"Squamata\", \"counts\": 1}, {\"ano_coleta\": 1951, \"mes_coleta\": 9, \"ordem\": \"Squamata\", \"counts\": 7}, {\"ano_coleta\": 1951, \"mes_coleta\": 10, \"ordem\": \"Squamata\", \"counts\": 1}, {\"ano_coleta\": 1951, \"mes_coleta\": 12, \"ordem\": \"Squamata\", \"counts\": 2}, {\"ano_coleta\": 1952, \"mes_coleta\": 1, \"ordem\": \"Squamata\", \"counts\": 7}, {\"ano_coleta\": 1952, \"mes_coleta\": 2, \"ordem\": \"Squamata\", \"counts\": 11}, {\"ano_coleta\": 1952, \"mes_coleta\": 3, \"ordem\": \"Squamata\", \"counts\": 5}, {\"ano_coleta\": 1952, \"mes_coleta\": 4, \"ordem\": \"Squamata\", \"counts\": 12}, {\"ano_coleta\": 1952, \"mes_coleta\": 5, \"ordem\": \"Squamata\", \"counts\": 1}, {\"ano_coleta\": 1952, \"mes_coleta\": 7, \"ordem\": \"Squamata\", \"counts\": 2}, {\"ano_coleta\": 1952, \"mes_coleta\": 8, \"ordem\": \"Squamata\", \"counts\": 3}, {\"ano_coleta\": 1952, \"mes_coleta\": 9, \"ordem\": \"Squamata\", \"counts\": 3}, {\"ano_coleta\": 1952, \"mes_coleta\": 10, \"ordem\": \"Squamata\", \"counts\": 4}, {\"ano_coleta\": 1952, \"mes_coleta\": 11, \"ordem\": \"Squamata\", \"counts\": 2}, {\"ano_coleta\": 1952, \"mes_coleta\": 12, \"ordem\": \"Squamata\", \"counts\": 7}, {\"ano_coleta\": 1953, \"mes_coleta\": 0, \"ordem\": \"Squamata\", \"counts\": 9}, {\"ano_coleta\": 1953, \"mes_coleta\": 1, \"ordem\": \"Squamata\", \"counts\": 1}, {\"ano_coleta\": 1953, \"mes_coleta\": 4, \"ordem\": \"Squamata\", \"counts\": 1}, {\"ano_coleta\": 1953, \"mes_coleta\": 5, \"ordem\": \"Squamata\", \"counts\": 1}, {\"ano_coleta\": 1953, \"mes_coleta\": 5, \"ordem\": \"Testudines\", \"counts\": 2}, {\"ano_coleta\": 1953, \"mes_coleta\": 6, \"ordem\": \"Squamata\", \"counts\": 1}, {\"ano_coleta\": 1953, \"mes_coleta\": 7, \"ordem\": \"Squamata\", \"counts\": 5}, {\"ano_coleta\": 1953, \"mes_coleta\": 9, \"ordem\": \"Squamata\", \"counts\": 2}, {\"ano_coleta\": 1953, \"mes_coleta\": 10, \"ordem\": \"Squamata\", \"counts\": 12}, {\"ano_coleta\": 1953, \"mes_coleta\": 11, \"ordem\": \"Squamata\", \"counts\": 2}, {\"ano_coleta\": 1953, \"mes_coleta\": 12, \"ordem\": \"Squamata\", \"counts\": 10}, {\"ano_coleta\": 1954, \"mes_coleta\": 0, \"ordem\": \"Squamata\", \"counts\": 1}, {\"ano_coleta\": 1954, \"mes_coleta\": 1, \"ordem\": \"Squamata\", \"counts\": 2}, {\"ano_coleta\": 1954, \"mes_coleta\": 2, \"ordem\": \"Squamata\", \"counts\": 6}, {\"ano_coleta\": 1954, \"mes_coleta\": 3, \"ordem\": \"Squamata\", \"counts\": 4}, {\"ano_coleta\": 1954, \"mes_coleta\": 4, \"ordem\": \"Squamata\", \"counts\": 3}, {\"ano_coleta\": 1954, \"mes_coleta\": 4, \"ordem\": \"Testudines\", \"counts\": 1}, {\"ano_coleta\": 1954, \"mes_coleta\": 5, \"ordem\": \"Squamata\", \"counts\": 1}, {\"ano_coleta\": 1954, \"mes_coleta\": 6, \"ordem\": \"Squamata\", \"counts\": 3}, {\"ano_coleta\": 1954, \"mes_coleta\": 7, \"ordem\": \"Squamata\", \"counts\": 1}, {\"ano_coleta\": 1954, \"mes_coleta\": 10, \"ordem\": \"Squamata\", \"counts\": 1}, {\"ano_coleta\": 1954, \"mes_coleta\": 11, \"ordem\": \"Squamata\", \"counts\": 4}, {\"ano_coleta\": 1954, \"mes_coleta\": 12, \"ordem\": \"Squamata\", \"counts\": 2}, {\"ano_coleta\": 1954, \"mes_coleta\": 12, \"ordem\": \"Testudines\", \"counts\": 1}, {\"ano_coleta\": 1955, \"mes_coleta\": 0, \"ordem\": \"Squamata\", \"counts\": 4}, {\"ano_coleta\": 1955, \"mes_coleta\": 1, \"ordem\": \"Squamata\", \"counts\": 10}, {\"ano_coleta\": 1955, \"mes_coleta\": 2, \"ordem\": \"Squamata\", \"counts\": 1}, {\"ano_coleta\": 1955, \"mes_coleta\": 3, \"ordem\": \"Squamata\", \"counts\": 3}, {\"ano_coleta\": 1955, \"mes_coleta\": 4, \"ordem\": \"Squamata\", \"counts\": 1}, {\"ano_coleta\": 1955, \"mes_coleta\": 5, \"ordem\": \"Squamata\", \"counts\": 1}, {\"ano_coleta\": 1955, \"mes_coleta\": 7, \"ordem\": \"Squamata\", \"counts\": 1}, {\"ano_coleta\": 1955, \"mes_coleta\": 10, \"ordem\": \"Squamata\", \"counts\": 4}, {\"ano_coleta\": 1955, \"mes_coleta\": 10, \"ordem\": \"Testudines\", \"counts\": 2}, {\"ano_coleta\": 1955, \"mes_coleta\": 11, \"ordem\": \"Squamata\", \"counts\": 3}, {\"ano_coleta\": 1955, \"mes_coleta\": 12, \"ordem\": \"Squamata\", \"counts\": 1}, {\"ano_coleta\": 1956, \"mes_coleta\": 1, \"ordem\": \"Squamata\", \"counts\": 1}, {\"ano_coleta\": 1956, \"mes_coleta\": 2, \"ordem\": \"Squamata\", \"counts\": 1}, {\"ano_coleta\": 1956, \"mes_coleta\": 3, \"ordem\": \"Squamata\", \"counts\": 7}, {\"ano_coleta\": 1956, \"mes_coleta\": 4, \"ordem\": \"Squamata\", \"counts\": 1}, {\"ano_coleta\": 1956, \"mes_coleta\": 5, \"ordem\": \"Squamata\", \"counts\": 18}, {\"ano_coleta\": 1956, \"mes_coleta\": 6, \"ordem\": \"Squamata\", \"counts\": 4}, {\"ano_coleta\": 1956, \"mes_coleta\": 7, \"ordem\": \"Squamata\", \"counts\": 1}, {\"ano_coleta\": 1956, \"mes_coleta\": 8, \"ordem\": \"Squamata\", \"counts\": 2}, {\"ano_coleta\": 1956, \"mes_coleta\": 9, \"ordem\": \"Squamata\", \"counts\": 4}, {\"ano_coleta\": 1956, \"mes_coleta\": 10, \"ordem\": \"Squamata\", \"counts\": 8}, {\"ano_coleta\": 1956, \"mes_coleta\": 11, \"ordem\": \"Squamata\", \"counts\": 2}, {\"ano_coleta\": 1956, \"mes_coleta\": 12, \"ordem\": \"Squamata\", \"counts\": 3}, {\"ano_coleta\": 1957, \"mes_coleta\": 0, \"ordem\": \"Squamata\", \"counts\": 8}, {\"ano_coleta\": 1957, \"mes_coleta\": 1, \"ordem\": \"Squamata\", \"counts\": 2}, {\"ano_coleta\": 1957, \"mes_coleta\": 1, \"ordem\": \"Squamata\", \"counts\": 1}, {\"ano_coleta\": 1957, \"mes_coleta\": 2, \"ordem\": \"Squamata\", \"counts\": 2}, {\"ano_coleta\": 1957, \"mes_coleta\": 3, \"ordem\": \"Squamata\", \"counts\": 2}, {\"ano_coleta\": 1957, \"mes_coleta\": 4, \"ordem\": \"Squamata\", \"counts\": 1}, {\"ano_coleta\": 1957, \"mes_coleta\": 4, \"ordem\": \"Testudines\", \"counts\": 1}, {\"ano_coleta\": 1957, \"mes_coleta\": 5, \"ordem\": \"Squamata\", \"counts\": 8}, {\"ano_coleta\": 1957, \"mes_coleta\": 6, \"ordem\": \"Squamata\", \"counts\": 4}, {\"ano_coleta\": 1957, \"mes_coleta\": 6, \"ordem\": \"Testudines\", \"counts\": 1}, {\"ano_coleta\": 1957, \"mes_coleta\": 7, \"ordem\": \"Squamata\", \"counts\": 15}, {\"ano_coleta\": 1957, \"mes_coleta\": 8, \"ordem\": \"Squamata\", \"counts\": 1}, {\"ano_coleta\": 1957, \"mes_coleta\": 9, \"ordem\": \"Squamata\", \"counts\": 12}, {\"ano_coleta\": 1957, \"mes_coleta\": 10, \"ordem\": \"Squamata\", \"counts\": 2}, {\"ano_coleta\": 1957, \"mes_coleta\": 11, \"ordem\": \"Squamata\", \"counts\": 3}, {\"ano_coleta\": 1957, \"mes_coleta\": 12, \"ordem\": \"Squamata\", \"counts\": 2}, {\"ano_coleta\": 1958, \"mes_coleta\": 0, \"ordem\": \"Squamata\", \"counts\": 10}, {\"ano_coleta\": 1958, \"mes_coleta\": 1, \"ordem\": \"Squamata\", \"counts\": 5}, {\"ano_coleta\": 1958, \"mes_coleta\": 2, \"ordem\": \"Squamata\", \"counts\": 1}, {\"ano_coleta\": 1958, \"mes_coleta\": 3, \"ordem\": \"Squamata\", \"counts\": 5}, {\"ano_coleta\": 1958, \"mes_coleta\": 4, \"ordem\": \"Squamata\", \"counts\": 11}, {\"ano_coleta\": 1958, \"mes_coleta\": 5, \"ordem\": \"Squamata\", \"counts\": 1}, {\"ano_coleta\": 1959, \"mes_coleta\": 0, \"ordem\": \"Squamata\", \"counts\": 5}, {\"ano_coleta\": 1959, \"mes_coleta\": 2, \"ordem\": \"Squamata\", \"counts\": 10}, {\"ano_coleta\": 1959, \"mes_coleta\": 3, \"ordem\": \"Squamata\", \"counts\": 2}, {\"ano_coleta\": 1959, \"mes_coleta\": 4, \"ordem\": \"Squamata\", \"counts\": 1}, {\"ano_coleta\": 1959, \"mes_coleta\": 6, \"ordem\": \"Squamata\", \"counts\": 2}, {\"ano_coleta\": 1959, \"mes_coleta\": 7, \"ordem\": \"Squamata\", \"counts\": 1}, {\"ano_coleta\": 1960, \"mes_coleta\": 0, \"ordem\": \"Squamata\", \"counts\": 2}, {\"ano_coleta\": 1960, \"mes_coleta\": 2, \"ordem\": \"Squamata\", \"counts\": 1}, {\"ano_coleta\": 1960, \"mes_coleta\": 6, \"ordem\": \"Squamata\", \"counts\": 7}, {\"ano_coleta\": 1960, \"mes_coleta\": 7, \"ordem\": \"Squamata\", \"counts\": 1}, {\"ano_coleta\": 1960, \"mes_coleta\": 9, \"ordem\": \"Squamata\", \"counts\": 1}, {\"ano_coleta\": 1960, \"mes_coleta\": 10, \"ordem\": \"Squamata\", \"counts\": 2}, {\"ano_coleta\": 1961, \"mes_coleta\": 0, \"ordem\": \"Squamata\", \"counts\": 6}, {\"ano_coleta\": 1961, \"mes_coleta\": 2, \"ordem\": \"Squamata\", \"counts\": 5}, {\"ano_coleta\": 1961, \"mes_coleta\": 5, \"ordem\": \"Squamata\", \"counts\": 2}, {\"ano_coleta\": 1961, \"mes_coleta\": 6, \"ordem\": \"Squamata\", \"counts\": 1}, {\"ano_coleta\": 1961, \"mes_coleta\": 10, \"ordem\": \"Squamata\", \"counts\": 4}, {\"ano_coleta\": 1961, \"mes_coleta\": 10, \"ordem\": \"Testudines\", \"counts\": 1}, {\"ano_coleta\": 1961, \"mes_coleta\": 11, \"ordem\": \"Squamata\", \"counts\": 1}, {\"ano_coleta\": 1962, \"mes_coleta\": 1, \"ordem\": \"Squamata\", \"counts\": 3}, {\"ano_coleta\": 1962, \"mes_coleta\": 4, \"ordem\": \"Squamata\", \"counts\": 2}, {\"ano_coleta\": 1962, \"mes_coleta\": 4, \"ordem\": \"Testudines\", \"counts\": 1}, {\"ano_coleta\": 1962, \"mes_coleta\": 5, \"ordem\": \"Squamata\", \"counts\": 1}, {\"ano_coleta\": 1962, \"mes_coleta\": 10, \"ordem\": \"Squamata\", \"counts\": 1}, {\"ano_coleta\": 1962, \"mes_coleta\": 12, \"ordem\": \"Squamata\", \"counts\": 1}, {\"ano_coleta\": 1963, \"mes_coleta\": 0, \"ordem\": \"Squamata\", \"counts\": 2}, {\"ano_coleta\": 1963, \"mes_coleta\": 0, \"ordem\": \"Testudines\", \"counts\": 4}, {\"ano_coleta\": 1963, \"mes_coleta\": 1, \"ordem\": \"Squamata\", \"counts\": 8}, {\"ano_coleta\": 1963, \"mes_coleta\": 2, \"ordem\": \"Squamata\", \"counts\": 2}, {\"ano_coleta\": 1963, \"mes_coleta\": 3, \"ordem\": \"Squamata\", \"counts\": 4}, {\"ano_coleta\": 1963, \"mes_coleta\": 4, \"ordem\": \"Squamata\", \"counts\": 3}, {\"ano_coleta\": 1963, \"mes_coleta\": 7, \"ordem\": \"Squamata\", \"counts\": 1}, {\"ano_coleta\": 1963, \"mes_coleta\": 8, \"ordem\": \"Squamata\", \"counts\": 2}, {\"ano_coleta\": 1963, \"mes_coleta\": 9, \"ordem\": \"Squamata\", \"counts\": 8}, {\"ano_coleta\": 1963, \"mes_coleta\": 11, \"ordem\": \"Testudines\", \"counts\": 6}, {\"ano_coleta\": 1963, \"mes_coleta\": 12, \"ordem\": \"Squamata\", \"counts\": 6}, {\"ano_coleta\": 1964, \"mes_coleta\": 0, \"ordem\": \"Squamata\", \"counts\": 3}, {\"ano_coleta\": 1964, \"mes_coleta\": 1, \"ordem\": \"Squamata\", \"counts\": 2}, {\"ano_coleta\": 1964, \"mes_coleta\": 2, \"ordem\": \"Squamata\", \"counts\": 5}, {\"ano_coleta\": 1964, \"mes_coleta\": 2, \"ordem\": \"Testudines\", \"counts\": 18}, {\"ano_coleta\": 1964, \"mes_coleta\": 3, \"ordem\": \"Squamata\", \"counts\": 2}, {\"ano_coleta\": 1964, \"mes_coleta\": 5, \"ordem\": \"Squamata\", \"counts\": 1}, {\"ano_coleta\": 1964, \"mes_coleta\": 6, \"ordem\": \"Squamata\", \"counts\": 11}, {\"ano_coleta\": 1964, \"mes_coleta\": 7, \"ordem\": \"Squamata\", \"counts\": 2}, {\"ano_coleta\": 1964, \"mes_coleta\": 8, \"ordem\": \"Squamata\", \"counts\": 1}, {\"ano_coleta\": 1964, \"mes_coleta\": 10, \"ordem\": \"Squamata\", \"counts\": 6}, {\"ano_coleta\": 1964, \"mes_coleta\": 11, \"ordem\": \"Squamata\", \"counts\": 4}, {\"ano_coleta\": 1964, \"mes_coleta\": 12, \"ordem\": \"Squamata\", \"counts\": 1}, {\"ano_coleta\": 1965, \"mes_coleta\": 0, \"ordem\": \"Squamata\", \"counts\": 2}, {\"ano_coleta\": 1965, \"mes_coleta\": 1, \"ordem\": \"Squamata\", \"counts\": 5}, {\"ano_coleta\": 1965, \"mes_coleta\": 2, \"ordem\": \"Squamata\", \"counts\": 9}, {\"ano_coleta\": 1965, \"mes_coleta\": 5, \"ordem\": \"Squamata\", \"counts\": 3}, {\"ano_coleta\": 1965, \"mes_coleta\": 6, \"ordem\": \"Squamata\", \"counts\": 1}, {\"ano_coleta\": 1965, \"mes_coleta\": 7, \"ordem\": \"Squamata\", \"counts\": 1}, {\"ano_coleta\": 1965, \"mes_coleta\": 8, \"ordem\": \"Squamata\", \"counts\": 1}, {\"ano_coleta\": 1965, \"mes_coleta\": 9, \"ordem\": \"Squamata\", \"counts\": 2}, {\"ano_coleta\": 1965, \"mes_coleta\": 10, \"ordem\": \"Squamata\", \"counts\": 3}, {\"ano_coleta\": 1965, \"mes_coleta\": 11, \"ordem\": \"Squamata\", \"counts\": 6}, {\"ano_coleta\": 1965, \"mes_coleta\": 12, \"ordem\": \"Squamata\", \"counts\": 2}, {\"ano_coleta\": 1966, \"mes_coleta\": 0, \"ordem\": \"Squamata\", \"counts\": 2}, {\"ano_coleta\": 1966, \"mes_coleta\": 1, \"ordem\": \"Squamata\", \"counts\": 1}, {\"ano_coleta\": 1966, \"mes_coleta\": 3, \"ordem\": \"Squamata\", \"counts\": 3}, {\"ano_coleta\": 1966, \"mes_coleta\": 8, \"ordem\": \"Squamata\", \"counts\": 4}, {\"ano_coleta\": 1966, \"mes_coleta\": 9, \"ordem\": \"Squamata\", \"counts\": 8}, {\"ano_coleta\": 1966, \"mes_coleta\": 10, \"ordem\": \"Squamata\", \"counts\": 3}, {\"ano_coleta\": 1966, \"mes_coleta\": 12, \"ordem\": \"Squamata\", \"counts\": 3}, {\"ano_coleta\": 1967, \"mes_coleta\": 2, \"ordem\": \"Squamata\", \"counts\": 3}, {\"ano_coleta\": 1967, \"mes_coleta\": 2, \"ordem\": \"Testudines\", \"counts\": 1}, {\"ano_coleta\": 1967, \"mes_coleta\": 4, \"ordem\": \"Squamata\", \"counts\": 1}, {\"ano_coleta\": 1967, \"mes_coleta\": 7, \"ordem\": \"Squamata\", \"counts\": 1}, {\"ano_coleta\": 1967, \"mes_coleta\": 10, \"ordem\": \"Squamata\", \"counts\": 1}, {\"ano_coleta\": 1967, \"mes_coleta\": 11, \"ordem\": \"Squamata\", \"counts\": 1}, {\"ano_coleta\": 1967, \"mes_coleta\": 12, \"ordem\": \"Squamata\", \"counts\": 2}, {\"ano_coleta\": 1968, \"mes_coleta\": 0, \"ordem\": \"Squamata\", \"counts\": 1}, {\"ano_coleta\": 1968, \"mes_coleta\": 0, \"ordem\": \"Testudines\", \"counts\": 13}, {\"ano_coleta\": 1968, \"mes_coleta\": 2, \"ordem\": \"Squamata\", \"counts\": 2}, {\"ano_coleta\": 1968, \"mes_coleta\": 4, \"ordem\": \"Squamata\", \"counts\": 3}, {\"ano_coleta\": 1968, \"mes_coleta\": 8, \"ordem\": \"Squamata\", \"counts\": 1}, {\"ano_coleta\": 1968, \"mes_coleta\": 9, \"ordem\": \"Squamata\", \"counts\": 2}, {\"ano_coleta\": 1968, \"mes_coleta\": 12, \"ordem\": \"Squamata\", \"counts\": 1}, {\"ano_coleta\": 1968, \"mes_coleta\": 12, \"ordem\": \"Testudines\", \"counts\": 3}, {\"ano_coleta\": 1969, \"mes_coleta\": 2, \"ordem\": \"Squamata\", \"counts\": 1}, {\"ano_coleta\": 1969, \"mes_coleta\": 3, \"ordem\": \"Squamata\", \"counts\": 2}, {\"ano_coleta\": 1969, \"mes_coleta\": 5, \"ordem\": \"Squamata\", \"counts\": 1}, {\"ano_coleta\": 1969, \"mes_coleta\": 10, \"ordem\": \"Squamata\", \"counts\": 2}, {\"ano_coleta\": 1969, \"mes_coleta\": 11, \"ordem\": \"Squamata\", \"counts\": 1}, {\"ano_coleta\": 1969, \"mes_coleta\": 12, \"ordem\": \"Squamata\", \"counts\": 44}, {\"ano_coleta\": 1970, \"mes_coleta\": 7, \"ordem\": \"Squamata\", \"counts\": 2}, {\"ano_coleta\": 1970, \"mes_coleta\": 8, \"ordem\": \"Squamata\", \"counts\": 1}, {\"ano_coleta\": 1970, \"mes_coleta\": 9, \"ordem\": \"Squamata\", \"counts\": 25}, {\"ano_coleta\": 1970, \"mes_coleta\": 11, \"ordem\": \"Squamata\", \"counts\": 1}, {\"ano_coleta\": 1970, \"mes_coleta\": 12, \"ordem\": \"Squamata\", \"counts\": 4}, {\"ano_coleta\": 1971, \"mes_coleta\": 1, \"ordem\": \"Squamata\", \"counts\": 2}, {\"ano_coleta\": 1971, \"mes_coleta\": 2, \"ordem\": \"Squamata\", \"counts\": 1}, {\"ano_coleta\": 1971, \"mes_coleta\": 3, \"ordem\": \"Squamata\", \"counts\": 1}, {\"ano_coleta\": 1971, \"mes_coleta\": 4, \"ordem\": \"Squamata\", \"counts\": 5}, {\"ano_coleta\": 1971, \"mes_coleta\": 5, \"ordem\": \"Squamata\", \"counts\": 19}, {\"ano_coleta\": 1971, \"mes_coleta\": 7, \"ordem\": \"Squamata\", \"counts\": 4}, {\"ano_coleta\": 1971, \"mes_coleta\": 8, \"ordem\": \"Squamata\", \"counts\": 2}, {\"ano_coleta\": 1971, \"mes_coleta\": 8, \"ordem\": \"Testudines\", \"counts\": 1}, {\"ano_coleta\": 1971, \"mes_coleta\": 9, \"ordem\": \"Squamata\", \"counts\": 3}, {\"ano_coleta\": 1971, \"mes_coleta\": 10, \"ordem\": \"Squamata\", \"counts\": 4}, {\"ano_coleta\": 1971, \"mes_coleta\": 11, \"ordem\": \"Squamata\", \"counts\": 2}, {\"ano_coleta\": 1972, \"mes_coleta\": 0, \"ordem\": \"Squamata\", \"counts\": 10}, {\"ano_coleta\": 1972, \"mes_coleta\": 1, \"ordem\": \"Squamata\", \"counts\": 2}, {\"ano_coleta\": 1972, \"mes_coleta\": 2, \"ordem\": \"Squamata\", \"counts\": 5}, {\"ano_coleta\": 1972, \"mes_coleta\": 3, \"ordem\": \"Squamata\", \"counts\": 2}, {\"ano_coleta\": 1972, \"mes_coleta\": 4, \"ordem\": \"Squamata\", \"counts\": 1}, {\"ano_coleta\": 1972, \"mes_coleta\": 8, \"ordem\": \"Squamata\", \"counts\": 4}, {\"ano_coleta\": 1972, \"mes_coleta\": 9, \"ordem\": \"Squamata\", \"counts\": 6}, {\"ano_coleta\": 1972, \"mes_coleta\": 10, \"ordem\": \"Squamata\", \"counts\": 1}, {\"ano_coleta\": 1972, \"mes_coleta\": 11, \"ordem\": \"Squamata\", \"counts\": 1}, {\"ano_coleta\": 1972, \"mes_coleta\": 12, \"ordem\": \"Squamata\", \"counts\": 2}, {\"ano_coleta\": 1973, \"mes_coleta\": 0, \"ordem\": \"Squamata\", \"counts\": 5}, {\"ano_coleta\": 1973, \"mes_coleta\": 1, \"ordem\": \"Squamata\", \"counts\": 9}, {\"ano_coleta\": 1973, \"mes_coleta\": 3, \"ordem\": \"Squamata\", \"counts\": 1}, {\"ano_coleta\": 1973, \"mes_coleta\": 4, \"ordem\": \"Squamata\", \"counts\": 1}, {\"ano_coleta\": 1973, \"mes_coleta\": 5, \"ordem\": \"Squamata\", \"counts\": 1}, {\"ano_coleta\": 1973, \"mes_coleta\": 8, \"ordem\": \"Squamata\", \"counts\": 7}, {\"ano_coleta\": 1973, \"mes_coleta\": 9, \"ordem\": \"Squamata\", \"counts\": 1}, {\"ano_coleta\": 1973, \"mes_coleta\": 10, \"ordem\": \"Squamata\", \"counts\": 3}, {\"ano_coleta\": 1973, \"mes_coleta\": 11, \"ordem\": \"Squamata\", \"counts\": 5}, {\"ano_coleta\": 1973, \"mes_coleta\": 12, \"ordem\": \"Squamata\", \"counts\": 23}, {\"ano_coleta\": 1974, \"mes_coleta\": 0, \"ordem\": \"Testudines\", \"counts\": 2}, {\"ano_coleta\": 1974, \"mes_coleta\": 1, \"ordem\": \"Squamata\", \"counts\": 2}, {\"ano_coleta\": 1974, \"mes_coleta\": 2, \"ordem\": \"Squamata\", \"counts\": 3}, {\"ano_coleta\": 1974, \"mes_coleta\": 3, \"ordem\": \"Squamata\", \"counts\": 1}, {\"ano_coleta\": 1974, \"mes_coleta\": 4, \"ordem\": \"Squamata\", \"counts\": 1}, {\"ano_coleta\": 1974, \"mes_coleta\": 5, \"ordem\": \"Squamata\", \"counts\": 4}, {\"ano_coleta\": 1974, \"mes_coleta\": 9, \"ordem\": \"Squamata\", \"counts\": 6}, {\"ano_coleta\": 1974, \"mes_coleta\": 10, \"ordem\": \"Squamata\", \"counts\": 5}, {\"ano_coleta\": 1974, \"mes_coleta\": 11, \"ordem\": \"Squamata\", \"counts\": 1}, {\"ano_coleta\": 1974, \"mes_coleta\": 12, \"ordem\": \"Squamata\", \"counts\": 4}, {\"ano_coleta\": 1975, \"mes_coleta\": 0, \"ordem\": \"Squamata\", \"counts\": 14}, {\"ano_coleta\": 1975, \"mes_coleta\": 0, \"ordem\": \"Testudines\", \"counts\": 1}, {\"ano_coleta\": 1975, \"mes_coleta\": 1, \"ordem\": \"Squamata\", \"counts\": 15}, {\"ano_coleta\": 1975, \"mes_coleta\": 2, \"ordem\": \"Squamata\", \"counts\": 2}, {\"ano_coleta\": 1975, \"mes_coleta\": 2, \"ordem\": \"Testudines\", \"counts\": 1}, {\"ano_coleta\": 1975, \"mes_coleta\": 3, \"ordem\": \"Squamata\", \"counts\": 17}, {\"ano_coleta\": 1975, \"mes_coleta\": 4, \"ordem\": \"Squamata\", \"counts\": 26}, {\"ano_coleta\": 1975, \"mes_coleta\": 5, \"ordem\": \"Squamata\", \"counts\": 4}, {\"ano_coleta\": 1975, \"mes_coleta\": 6, \"ordem\": \"Squamata\", \"counts\": 3}, {\"ano_coleta\": 1975, \"mes_coleta\": 7, \"ordem\": \"Squamata\", \"counts\": 17}, {\"ano_coleta\": 1975, \"mes_coleta\": 8, \"ordem\": \"Squamata\", \"counts\": 11}, {\"ano_coleta\": 1975, \"mes_coleta\": 9, \"ordem\": \"Squamata\", \"counts\": 3}, {\"ano_coleta\": 1975, \"mes_coleta\": 10, \"ordem\": \"Squamata\", \"counts\": 7}, {\"ano_coleta\": 1975, \"mes_coleta\": 11, \"ordem\": \"Squamata\", \"counts\": 13}, {\"ano_coleta\": 1976, \"mes_coleta\": 0, \"ordem\": \"Testudines\", \"counts\": 14}, {\"ano_coleta\": 1976, \"mes_coleta\": 1, \"ordem\": \"Squamata\", \"counts\": 4}, {\"ano_coleta\": 1976, \"mes_coleta\": 1, \"ordem\": \"Testudines\", \"counts\": 58}, {\"ano_coleta\": 1976, \"mes_coleta\": 2, \"ordem\": \"Squamata\", \"counts\": 12}, {\"ano_coleta\": 1976, \"mes_coleta\": 3, \"ordem\": \"Squamata\", \"counts\": 2}, {\"ano_coleta\": 1976, \"mes_coleta\": 4, \"ordem\": \"Squamata\", \"counts\": 5}, {\"ano_coleta\": 1976, \"mes_coleta\": 4, \"ordem\": \"Testudines\", \"counts\": 1}, {\"ano_coleta\": 1976, \"mes_coleta\": 5, \"ordem\": \"Squamata\", \"counts\": 1}, {\"ano_coleta\": 1976, \"mes_coleta\": 6, \"ordem\": \"Squamata\", \"counts\": 2}, {\"ano_coleta\": 1976, \"mes_coleta\": 7, \"ordem\": \"Squamata\", \"counts\": 4}, {\"ano_coleta\": 1976, \"mes_coleta\": 8, \"ordem\": \"Squamata\", \"counts\": 1}, {\"ano_coleta\": 1976, \"mes_coleta\": 9, \"ordem\": \"Squamata\", \"counts\": 3}, {\"ano_coleta\": 1976, \"mes_coleta\": 10, \"ordem\": \"Squamata\", \"counts\": 1}, {\"ano_coleta\": 1976, \"mes_coleta\": 11, \"ordem\": \"Squamata\", \"counts\": 8}, {\"ano_coleta\": 1976, \"mes_coleta\": 12, \"ordem\": \"Squamata\", \"counts\": 1}, {\"ano_coleta\": 1977, \"mes_coleta\": 0, \"ordem\": \"Squamata\", \"counts\": 1}, {\"ano_coleta\": 1977, \"mes_coleta\": 1, \"ordem\": \"Squamata\", \"counts\": 4}, {\"ano_coleta\": 1977, \"mes_coleta\": 2, \"ordem\": \"Squamata\", \"counts\": 4}, {\"ano_coleta\": 1977, \"mes_coleta\": 3, \"ordem\": \"Squamata\", \"counts\": 2}, {\"ano_coleta\": 1977, \"mes_coleta\": 5, \"ordem\": \"Squamata\", \"counts\": 1}, {\"ano_coleta\": 1977, \"mes_coleta\": 6, \"ordem\": \"Squamata\", \"counts\": 1}, {\"ano_coleta\": 1977, \"mes_coleta\": 8, \"ordem\": \"Squamata\", \"counts\": 4}, {\"ano_coleta\": 1977, \"mes_coleta\": 9, \"ordem\": \"Squamata\", \"counts\": 1}, {\"ano_coleta\": 1977, \"mes_coleta\": 10, \"ordem\": \"Squamata\", \"counts\": 3}, {\"ano_coleta\": 1977, \"mes_coleta\": 12, \"ordem\": \"Squamata\", \"counts\": 7}, {\"ano_coleta\": 1978, \"mes_coleta\": 1, \"ordem\": \"Squamata\", \"counts\": 1}, {\"ano_coleta\": 1978, \"mes_coleta\": 2, \"ordem\": \"Squamata\", \"counts\": 3}, {\"ano_coleta\": 1978, \"mes_coleta\": 3, \"ordem\": \"Squamata\", \"counts\": 4}, {\"ano_coleta\": 1978, \"mes_coleta\": 4, \"ordem\": \"Squamata\", \"counts\": 1}, {\"ano_coleta\": 1978, \"mes_coleta\": 6, \"ordem\": \"Squamata\", \"counts\": 4}, {\"ano_coleta\": 1978, \"mes_coleta\": 7, \"ordem\": \"Squamata\", \"counts\": 1}, {\"ano_coleta\": 1978, \"mes_coleta\": 8, \"ordem\": \"Squamata\", \"counts\": 6}, {\"ano_coleta\": 1978, \"mes_coleta\": 9, \"ordem\": \"Squamata\", \"counts\": 3}, {\"ano_coleta\": 1978, \"mes_coleta\": 10, \"ordem\": \"Squamata\", \"counts\": 5}, {\"ano_coleta\": 1978, \"mes_coleta\": 11, \"ordem\": \"Squamata\", \"counts\": 8}, {\"ano_coleta\": 1978, \"mes_coleta\": 12, \"ordem\": \"Squamata\", \"counts\": 5}, {\"ano_coleta\": 1979, \"mes_coleta\": 0, \"ordem\": \"Squamata\", \"counts\": 3}, {\"ano_coleta\": 1979, \"mes_coleta\": 1, \"ordem\": \"Crocodylia\", \"counts\": 1}, {\"ano_coleta\": 1979, \"mes_coleta\": 1, \"ordem\": \"Squamata\", \"counts\": 27}, {\"ano_coleta\": 1979, \"mes_coleta\": 2, \"ordem\": \"Squamata\", \"counts\": 3}, {\"ano_coleta\": 1979, \"mes_coleta\": 3, \"ordem\": \"Squamata\", \"counts\": 1}, {\"ano_coleta\": 1979, \"mes_coleta\": 7, \"ordem\": \"Squamata\", \"counts\": 2}, {\"ano_coleta\": 1979, \"mes_coleta\": 8, \"ordem\": \"Squamata\", \"counts\": 1}, {\"ano_coleta\": 1979, \"mes_coleta\": 9, \"ordem\": \"Squamata\", \"counts\": 1}, {\"ano_coleta\": 1979, \"mes_coleta\": 10, \"ordem\": \"Squamata\", \"counts\": 2}, {\"ano_coleta\": 1979, \"mes_coleta\": 11, \"ordem\": \"Squamata\", \"counts\": 3}, {\"ano_coleta\": 1979, \"mes_coleta\": 12, \"ordem\": \"Squamata\", \"counts\": 10}, {\"ano_coleta\": 1979, \"mes_coleta\": 12, \"ordem\": \"Testudines\", \"counts\": 1}, {\"ano_coleta\": 1980, \"mes_coleta\": 0, \"ordem\": \"Squamata\", \"counts\": 1}, {\"ano_coleta\": 1980, \"mes_coleta\": 1, \"ordem\": \"Squamata\", \"counts\": 5}, {\"ano_coleta\": 1980, \"mes_coleta\": 2, \"ordem\": \"Squamata\", \"counts\": 5}, {\"ano_coleta\": 1980, \"mes_coleta\": 3, \"ordem\": \"Squamata\", \"counts\": 4}, {\"ano_coleta\": 1980, \"mes_coleta\": 4, \"ordem\": \"Squamata\", \"counts\": 1}, {\"ano_coleta\": 1980, \"mes_coleta\": 6, \"ordem\": \"Squamata\", \"counts\": 4}, {\"ano_coleta\": 1980, \"mes_coleta\": 7, \"ordem\": \"Squamata\", \"counts\": 2}, {\"ano_coleta\": 1980, \"mes_coleta\": 8, \"ordem\": \"Squamata\", \"counts\": 5}, {\"ano_coleta\": 1980, \"mes_coleta\": 9, \"ordem\": \"Squamata\", \"counts\": 1}, {\"ano_coleta\": 1980, \"mes_coleta\": 10, \"ordem\": \"Squamata\", \"counts\": 2}, {\"ano_coleta\": 1980, \"mes_coleta\": 11, \"ordem\": \"Squamata\", \"counts\": 10}, {\"ano_coleta\": 1980, \"mes_coleta\": 11, \"ordem\": \"Testudines\", \"counts\": 1}, {\"ano_coleta\": 1980, \"mes_coleta\": 12, \"ordem\": \"Squamata\", \"counts\": 3}, {\"ano_coleta\": 1981, \"mes_coleta\": 0, \"ordem\": \"Squamata\", \"counts\": 1}, {\"ano_coleta\": 1981, \"mes_coleta\": 0, \"ordem\": \"Testudines\", \"counts\": 3}, {\"ano_coleta\": 1981, \"mes_coleta\": 1, \"ordem\": \"Squamata\", \"counts\": 3}, {\"ano_coleta\": 1981, \"mes_coleta\": 2, \"ordem\": \"Squamata\", \"counts\": 3}, {\"ano_coleta\": 1981, \"mes_coleta\": 3, \"ordem\": \"Squamata\", \"counts\": 5}, {\"ano_coleta\": 1981, \"mes_coleta\": 4, \"ordem\": \"Squamata\", \"counts\": 4}, {\"ano_coleta\": 1981, \"mes_coleta\": 5, \"ordem\": \"Squamata\", \"counts\": 4}, {\"ano_coleta\": 1981, \"mes_coleta\": 6, \"ordem\": \"Squamata\", \"counts\": 4}, {\"ano_coleta\": 1981, \"mes_coleta\": 7, \"ordem\": \"Squamata\", \"counts\": 1}, {\"ano_coleta\": 1981, \"mes_coleta\": 8, \"ordem\": \"Squamata\", \"counts\": 4}, {\"ano_coleta\": 1981, \"mes_coleta\": 9, \"ordem\": \"Squamata\", \"counts\": 4}, {\"ano_coleta\": 1981, \"mes_coleta\": 10, \"ordem\": \"Squamata\", \"counts\": 6}, {\"ano_coleta\": 1981, \"mes_coleta\": 11, \"ordem\": \"Squamata\", \"counts\": 4}, {\"ano_coleta\": 1981, \"mes_coleta\": 12, \"ordem\": \"Squamata\", \"counts\": 7}, {\"ano_coleta\": 1982, \"mes_coleta\": 1, \"ordem\": \"Squamata\", \"counts\": 6}, {\"ano_coleta\": 1982, \"mes_coleta\": 2, \"ordem\": \"Squamata\", \"counts\": 10}, {\"ano_coleta\": 1982, \"mes_coleta\": 3, \"ordem\": \"Squamata\", \"counts\": 11}, {\"ano_coleta\": 1982, \"mes_coleta\": 4, \"ordem\": \"Squamata\", \"counts\": 2}, {\"ano_coleta\": 1982, \"mes_coleta\": 5, \"ordem\": \"Squamata\", \"counts\": 3}, {\"ano_coleta\": 1982, \"mes_coleta\": 6, \"ordem\": \"Squamata\", \"counts\": 4}, {\"ano_coleta\": 1982, \"mes_coleta\": 7, \"ordem\": \"Squamata\", \"counts\": 1}, {\"ano_coleta\": 1982, \"mes_coleta\": 8, \"ordem\": \"Squamata\", \"counts\": 9}, {\"ano_coleta\": 1982, \"mes_coleta\": 9, \"ordem\": \"Squamata\", \"counts\": 4}, {\"ano_coleta\": 1982, \"mes_coleta\": 10, \"ordem\": \"Squamata\", \"counts\": 8}, {\"ano_coleta\": 1982, \"mes_coleta\": 11, \"ordem\": \"Squamata\", \"counts\": 7}, {\"ano_coleta\": 1982, \"mes_coleta\": 12, \"ordem\": \"Squamata\", \"counts\": 4}, {\"ano_coleta\": 1982, \"mes_coleta\": 12, \"ordem\": \"Testudines\", \"counts\": 7}, {\"ano_coleta\": 1983, \"mes_coleta\": 1, \"ordem\": \"Squamata\", \"counts\": 5}, {\"ano_coleta\": 1983, \"mes_coleta\": 2, \"ordem\": \"Squamata\", \"counts\": 3}, {\"ano_coleta\": 1983, \"mes_coleta\": 2, \"ordem\": \"Testudines\", \"counts\": 1}, {\"ano_coleta\": 1983, \"mes_coleta\": 3, \"ordem\": \"Squamata\", \"counts\": 2}, {\"ano_coleta\": 1983, \"mes_coleta\": 4, \"ordem\": \"Squamata\", \"counts\": 2}, {\"ano_coleta\": 1983, \"mes_coleta\": 5, \"ordem\": \"Squamata\", \"counts\": 6}, {\"ano_coleta\": 1983, \"mes_coleta\": 6, \"ordem\": \"Squamata\", \"counts\": 4}, {\"ano_coleta\": 1983, \"mes_coleta\": 7, \"ordem\": \"Squamata\", \"counts\": 3}, {\"ano_coleta\": 1983, \"mes_coleta\": 8, \"ordem\": \"Squamata\", \"counts\": 3}, {\"ano_coleta\": 1983, \"mes_coleta\": 9, \"ordem\": \"Squamata\", \"counts\": 6}, {\"ano_coleta\": 1983, \"mes_coleta\": 10, \"ordem\": \"Squamata\", \"counts\": 9}, {\"ano_coleta\": 1983, \"mes_coleta\": 11, \"ordem\": \"Squamata\", \"counts\": 5}, {\"ano_coleta\": 1983, \"mes_coleta\": 12, \"ordem\": \"Squamata\", \"counts\": 2}, {\"ano_coleta\": 1984, \"mes_coleta\": 0, \"ordem\": \"Squamata\", \"counts\": 15}, {\"ano_coleta\": 1984, \"mes_coleta\": 1, \"ordem\": \"Squamata\", \"counts\": 5}, {\"ano_coleta\": 1984, \"mes_coleta\": 2, \"ordem\": \"Squamata\", \"counts\": 6}, {\"ano_coleta\": 1984, \"mes_coleta\": 3, \"ordem\": \"Squamata\", \"counts\": 8}, {\"ano_coleta\": 1984, \"mes_coleta\": 4, \"ordem\": \"Squamata\", \"counts\": 12}, {\"ano_coleta\": 1984, \"mes_coleta\": 5, \"ordem\": \"Squamata\", \"counts\": 8}, {\"ano_coleta\": 1984, \"mes_coleta\": 5, \"ordem\": \"Testudines\", \"counts\": 1}, {\"ano_coleta\": 1984, \"mes_coleta\": 6, \"ordem\": \"Squamata\", \"counts\": 6}, {\"ano_coleta\": 1984, \"mes_coleta\": 6, \"ordem\": \"Testudines\", \"counts\": 1}, {\"ano_coleta\": 1984, \"mes_coleta\": 7, \"ordem\": \"Squamata\", \"counts\": 5}, {\"ano_coleta\": 1984, \"mes_coleta\": 8, \"ordem\": \"Squamata\", \"counts\": 3}, {\"ano_coleta\": 1984, \"mes_coleta\": 9, \"ordem\": \"Squamata\", \"counts\": 4}, {\"ano_coleta\": 1984, \"mes_coleta\": 9, \"ordem\": \"Testudines\", \"counts\": 1}, {\"ano_coleta\": 1984, \"mes_coleta\": 10, \"ordem\": \"Squamata\", \"counts\": 2}, {\"ano_coleta\": 1984, \"mes_coleta\": 11, \"ordem\": \"Squamata\", \"counts\": 5}, {\"ano_coleta\": 1984, \"mes_coleta\": 12, \"ordem\": \"Squamata\", \"counts\": 9}, {\"ano_coleta\": 1985, \"mes_coleta\": 0, \"ordem\": \"Squamata\", \"counts\": 35}, {\"ano_coleta\": 1985, \"mes_coleta\": 0, \"ordem\": \"Testudines\", \"counts\": 1}, {\"ano_coleta\": 1985, \"mes_coleta\": 1, \"ordem\": \"Squamata\", \"counts\": 6}, {\"ano_coleta\": 1985, \"mes_coleta\": 2, \"ordem\": \"Squamata\", \"counts\": 17}, {\"ano_coleta\": 1985, \"mes_coleta\": 3, \"ordem\": \"Squamata\", \"counts\": 3}, {\"ano_coleta\": 1985, \"mes_coleta\": 4, \"ordem\": \"Squamata\", \"counts\": 24}, {\"ano_coleta\": 1985, \"mes_coleta\": 5, \"ordem\": \"Squamata\", \"counts\": 11}, {\"ano_coleta\": 1985, \"mes_coleta\": 6, \"ordem\": \"Squamata\", \"counts\": 6}, {\"ano_coleta\": 1985, \"mes_coleta\": 7, \"ordem\": \"Squamata\", \"counts\": 3}, {\"ano_coleta\": 1985, \"mes_coleta\": 8, \"ordem\": \"Squamata\", \"counts\": 6}, {\"ano_coleta\": 1985, \"mes_coleta\": 9, \"ordem\": \"Squamata\", \"counts\": 6}, {\"ano_coleta\": 1985, \"mes_coleta\": 10, \"ordem\": \"Squamata\", \"counts\": 21}, {\"ano_coleta\": 1985, \"mes_coleta\": 11, \"ordem\": \"Squamata\", \"counts\": 11}, {\"ano_coleta\": 1985, \"mes_coleta\": 11, \"ordem\": \"Testudines\", \"counts\": 2}, {\"ano_coleta\": 1985, \"mes_coleta\": 12, \"ordem\": \"Squamata\", \"counts\": 7}, {\"ano_coleta\": 1986, \"mes_coleta\": 0, \"ordem\": \"Squamata\", \"counts\": 97}, {\"ano_coleta\": 1986, \"mes_coleta\": 0, \"ordem\": \"Testudines\", \"counts\": 12}, {\"ano_coleta\": 1986, \"mes_coleta\": 1, \"ordem\": \"Squamata\", \"counts\": 14}, {\"ano_coleta\": 1986, \"mes_coleta\": 1, \"ordem\": \"Testudines\", \"counts\": 1}, {\"ano_coleta\": 1986, \"mes_coleta\": 2, \"ordem\": \"Crocodylia\", \"counts\": 1}, {\"ano_coleta\": 1986, \"mes_coleta\": 2, \"ordem\": \"Squamata\", \"counts\": 17}, {\"ano_coleta\": 1986, \"mes_coleta\": 2, \"ordem\": \"Testudines\", \"counts\": 4}, {\"ano_coleta\": 1986, \"mes_coleta\": 3, \"ordem\": \"Squamata\", \"counts\": 37}, {\"ano_coleta\": 1986, \"mes_coleta\": 4, \"ordem\": \"Crocodylia\", \"counts\": 1}, {\"ano_coleta\": 1986, \"mes_coleta\": 4, \"ordem\": \"Squamata\", \"counts\": 31}, {\"ano_coleta\": 1986, \"mes_coleta\": 5, \"ordem\": \"Squamata\", \"counts\": 29}, {\"ano_coleta\": 1986, \"mes_coleta\": 6, \"ordem\": \"Squamata\", \"counts\": 22}, {\"ano_coleta\": 1986, \"mes_coleta\": 7, \"ordem\": \"Squamata\", \"counts\": 23}, {\"ano_coleta\": 1986, \"mes_coleta\": 8, \"ordem\": \"Squamata\", \"counts\": 99}, {\"ano_coleta\": 1986, \"mes_coleta\": 8, \"ordem\": \"Testudines\", \"counts\": 2}, {\"ano_coleta\": 1986, \"mes_coleta\": 9, \"ordem\": \"Squamata\", \"counts\": 18}, {\"ano_coleta\": 1986, \"mes_coleta\": 10, \"ordem\": \"Squamata\", \"counts\": 25}, {\"ano_coleta\": 1986, \"mes_coleta\": 11, \"ordem\": \"Squamata\", \"counts\": 26}, {\"ano_coleta\": 1986, \"mes_coleta\": 11, \"ordem\": \"Testudines\", \"counts\": 2}, {\"ano_coleta\": 1986, \"mes_coleta\": 12, \"ordem\": \"Squamata\", \"counts\": 22}, {\"ano_coleta\": 1987, \"mes_coleta\": 0, \"ordem\": \"Squamata\", \"counts\": 35}, {\"ano_coleta\": 1987, \"mes_coleta\": 1, \"ordem\": \"Squamata\", \"counts\": 39}, {\"ano_coleta\": 1987, \"mes_coleta\": 2, \"ordem\": \"Squamata\", \"counts\": 53}, {\"ano_coleta\": 1987, \"mes_coleta\": 3, \"ordem\": \"Squamata\", \"counts\": 6}, {\"ano_coleta\": 1987, \"mes_coleta\": 4, \"ordem\": \"Squamata\", \"counts\": 35}, {\"ano_coleta\": 1987, \"mes_coleta\": 4, \"ordem\": \"Testudines\", \"counts\": 2}, {\"ano_coleta\": 1987, \"mes_coleta\": 5, \"ordem\": \"Squamata\", \"counts\": 23}, {\"ano_coleta\": 1987, \"mes_coleta\": 5, \"ordem\": \"Testudines\", \"counts\": 1}, {\"ano_coleta\": 1987, \"mes_coleta\": 6, \"ordem\": \"Crocodylia\", \"counts\": 20}, {\"ano_coleta\": 1987, \"mes_coleta\": 6, \"ordem\": \"Squamata\", \"counts\": 22}, {\"ano_coleta\": 1987, \"mes_coleta\": 7, \"ordem\": \"Crocodylia\", \"counts\": 50}, {\"ano_coleta\": 1987, \"mes_coleta\": 7, \"ordem\": \"Squamata\", \"counts\": 16}, {\"ano_coleta\": 1987, \"mes_coleta\": 8, \"ordem\": \"Crocodylia\", \"counts\": 19}, {\"ano_coleta\": 1987, \"mes_coleta\": 8, \"ordem\": \"Squamata\", \"counts\": 20}, {\"ano_coleta\": 1987, \"mes_coleta\": 8, \"ordem\": \"Testudines\", \"counts\": 1}, {\"ano_coleta\": 1987, \"mes_coleta\": 9, \"ordem\": \"Crocodylia\", \"counts\": 50}, {\"ano_coleta\": 1987, \"mes_coleta\": 9, \"ordem\": \"Squamata\", \"counts\": 13}, {\"ano_coleta\": 1987, \"mes_coleta\": 10, \"ordem\": \"Crocodylia\", \"counts\": 21}, {\"ano_coleta\": 1987, \"mes_coleta\": 10, \"ordem\": \"Squamata\", \"counts\": 59}, {\"ano_coleta\": 1987, \"mes_coleta\": 11, \"ordem\": \"Crocodylia\", \"counts\": 22}, {\"ano_coleta\": 1987, \"mes_coleta\": 11, \"ordem\": \"Squamata\", \"counts\": 80}, {\"ano_coleta\": 1987, \"mes_coleta\": 11, \"ordem\": \"Testudines\", \"counts\": 1}, {\"ano_coleta\": 1987, \"mes_coleta\": 12, \"ordem\": \"Crocodylia\", \"counts\": 5}, {\"ano_coleta\": 1987, \"mes_coleta\": 12, \"ordem\": \"Squamata\", \"counts\": 33}, {\"ano_coleta\": 1987, \"mes_coleta\": 12, \"ordem\": \"Testudines\", \"counts\": 1}, {\"ano_coleta\": 1988, \"mes_coleta\": 0, \"ordem\": \"Squamata\", \"counts\": 34}, {\"ano_coleta\": 1988, \"mes_coleta\": 1, \"ordem\": \"Squamata\", \"counts\": 49}, {\"ano_coleta\": 1988, \"mes_coleta\": 1, \"ordem\": \"Testudines\", \"counts\": 174}, {\"ano_coleta\": 1988, \"mes_coleta\": 2, \"ordem\": \"Squamata\", \"counts\": 26}, {\"ano_coleta\": 1988, \"mes_coleta\": 3, \"ordem\": \"Squamata\", \"counts\": 16}, {\"ano_coleta\": 1988, \"mes_coleta\": 4, \"ordem\": \"Squamata\", \"counts\": 12}, {\"ano_coleta\": 1988, \"mes_coleta\": 4, \"ordem\": \"Testudines\", \"counts\": 2}, {\"ano_coleta\": 1988, \"mes_coleta\": 5, \"ordem\": \"Squamata\", \"counts\": 9}, {\"ano_coleta\": 1988, \"mes_coleta\": 6, \"ordem\": \"Squamata\", \"counts\": 21}, {\"ano_coleta\": 1988, \"mes_coleta\": 6, \"ordem\": \"Testudines\", \"counts\": 1}, {\"ano_coleta\": 1988, \"mes_coleta\": 7, \"ordem\": \"Squamata\", \"counts\": 68}, {\"ano_coleta\": 1988, \"mes_coleta\": 8, \"ordem\": \"Squamata\", \"counts\": 19}, {\"ano_coleta\": 1988, \"mes_coleta\": 9, \"ordem\": \"Squamata\", \"counts\": 22}, {\"ano_coleta\": 1988, \"mes_coleta\": 10, \"ordem\": \"Squamata\", \"counts\": 9}, {\"ano_coleta\": 1988, \"mes_coleta\": 11, \"ordem\": \"Squamata\", \"counts\": 13}, {\"ano_coleta\": 1988, \"mes_coleta\": 12, \"ordem\": \"Squamata\", \"counts\": 33}, {\"ano_coleta\": 1989, \"mes_coleta\": 0, \"ordem\": \"Crocodylia\", \"counts\": 2}, {\"ano_coleta\": 1989, \"mes_coleta\": 0, \"ordem\": \"Squamata\", \"counts\": 20}, {\"ano_coleta\": 1989, \"mes_coleta\": 0, \"ordem\": \"Testudines\", \"counts\": 1}, {\"ano_coleta\": 1989, \"mes_coleta\": 1, \"ordem\": \"Squamata\", \"counts\": 44}, {\"ano_coleta\": 1989, \"mes_coleta\": 2, \"ordem\": \"Squamata\", \"counts\": 35}, {\"ano_coleta\": 1989, \"mes_coleta\": 2, \"ordem\": \"Testudines\", \"counts\": 1}, {\"ano_coleta\": 1989, \"mes_coleta\": 3, \"ordem\": \"Squamata\", \"counts\": 30}, {\"ano_coleta\": 1989, \"mes_coleta\": 4, \"ordem\": \"Squamata\", \"counts\": 26}, {\"ano_coleta\": 1989, \"mes_coleta\": 5, \"ordem\": \"Squamata\", \"counts\": 42}, {\"ano_coleta\": 1989, \"mes_coleta\": 5, \"ordem\": \"Testudines\", \"counts\": 7}, {\"ano_coleta\": 1989, \"mes_coleta\": 6, \"ordem\": \"Squamata\", \"counts\": 27}, {\"ano_coleta\": 1989, \"mes_coleta\": 6, \"ordem\": \"Testudines\", \"counts\": 1}, {\"ano_coleta\": 1989, \"mes_coleta\": 7, \"ordem\": \"Squamata\", \"counts\": 10}, {\"ano_coleta\": 1989, \"mes_coleta\": 8, \"ordem\": \"Squamata\", \"counts\": 19}, {\"ano_coleta\": 1989, \"mes_coleta\": 9, \"ordem\": \"Squamata\", \"counts\": 26}, {\"ano_coleta\": 1989, \"mes_coleta\": 10, \"ordem\": \"Squamata\", \"counts\": 45}, {\"ano_coleta\": 1989, \"mes_coleta\": 11, \"ordem\": \"Squamata\", \"counts\": 40}, {\"ano_coleta\": 1989, \"mes_coleta\": 12, \"ordem\": \"Squamata\", \"counts\": 20}, {\"ano_coleta\": 1990, \"mes_coleta\": 0, \"ordem\": \"Squamata\", \"counts\": 32}, {\"ano_coleta\": 1990, \"mes_coleta\": 0, \"ordem\": \"Testudines\", \"counts\": 1}, {\"ano_coleta\": 1990, \"mes_coleta\": 1, \"ordem\": \"Squamata\", \"counts\": 6}, {\"ano_coleta\": 1990, \"mes_coleta\": 2, \"ordem\": \"Squamata\", \"counts\": 6}, {\"ano_coleta\": 1990, \"mes_coleta\": 2, \"ordem\": \"Testudines\", \"counts\": 3}, {\"ano_coleta\": 1990, \"mes_coleta\": 3, \"ordem\": \"Squamata\", \"counts\": 37}, {\"ano_coleta\": 1990, \"mes_coleta\": 4, \"ordem\": \"Squamata\", \"counts\": 18}, {\"ano_coleta\": 1990, \"mes_coleta\": 5, \"ordem\": \"Squamata\", \"counts\": 31}, {\"ano_coleta\": 1990, \"mes_coleta\": 5, \"ordem\": \"Testudines\", \"counts\": 1}, {\"ano_coleta\": 1990, \"mes_coleta\": 6, \"ordem\": \"Squamata\", \"counts\": 8}, {\"ano_coleta\": 1990, \"mes_coleta\": 6, \"ordem\": \"Testudines\", \"counts\": 1}, {\"ano_coleta\": 1990, \"mes_coleta\": 7, \"ordem\": \"Squamata\", \"counts\": 26}, {\"ano_coleta\": 1990, \"mes_coleta\": 8, \"ordem\": \"Squamata\", \"counts\": 72}, {\"ano_coleta\": 1990, \"mes_coleta\": 9, \"ordem\": \"Squamata\", \"counts\": 15}, {\"ano_coleta\": 1990, \"mes_coleta\": 9, \"ordem\": \"Testudines\", \"counts\": 1}, {\"ano_coleta\": 1990, \"mes_coleta\": 10, \"ordem\": \"Squamata\", \"counts\": 5}, {\"ano_coleta\": 1990, \"mes_coleta\": 11, \"ordem\": \"Squamata\", \"counts\": 20}, {\"ano_coleta\": 1990, \"mes_coleta\": 12, \"ordem\": \"Squamata\", \"counts\": 9}, {\"ano_coleta\": 1991, \"mes_coleta\": 0, \"ordem\": \"Squamata\", \"counts\": 6}, {\"ano_coleta\": 1991, \"mes_coleta\": 1, \"ordem\": \"Squamata\", \"counts\": 16}, {\"ano_coleta\": 1991, \"mes_coleta\": 2, \"ordem\": \"Squamata\", \"counts\": 15}, {\"ano_coleta\": 1991, \"mes_coleta\": 3, \"ordem\": \"Squamata\", \"counts\": 15}, {\"ano_coleta\": 1991, \"mes_coleta\": 4, \"ordem\": \"Crocodylia\", \"counts\": 1}, {\"ano_coleta\": 1991, \"mes_coleta\": 4, \"ordem\": \"Squamata\", \"counts\": 19}, {\"ano_coleta\": 1991, \"mes_coleta\": 5, \"ordem\": \"Squamata\", \"counts\": 58}, {\"ano_coleta\": 1991, \"mes_coleta\": 5, \"ordem\": \"Testudines\", \"counts\": 3}, {\"ano_coleta\": 1991, \"mes_coleta\": 6, \"ordem\": \"Squamata\", \"counts\": 39}, {\"ano_coleta\": 1991, \"mes_coleta\": 7, \"ordem\": \"Crocodylia\", \"counts\": 1}, {\"ano_coleta\": 1991, \"mes_coleta\": 7, \"ordem\": \"Squamata\", \"counts\": 60}, {\"ano_coleta\": 1991, \"mes_coleta\": 8, \"ordem\": \"Squamata\", \"counts\": 43}, {\"ano_coleta\": 1991, \"mes_coleta\": 8, \"ordem\": \"Testudines\", \"counts\": 1}, {\"ano_coleta\": 1991, \"mes_coleta\": 9, \"ordem\": \"Squamata\", \"counts\": 50}, {\"ano_coleta\": 1991, \"mes_coleta\": 10, \"ordem\": \"Squamata\", \"counts\": 45}, {\"ano_coleta\": 1991, \"mes_coleta\": 11, \"ordem\": \"Squamata\", \"counts\": 25}, {\"ano_coleta\": 1991, \"mes_coleta\": 11, \"ordem\": \"Testudines\", \"counts\": 1}, {\"ano_coleta\": 1991, \"mes_coleta\": 12, \"ordem\": \"Squamata\", \"counts\": 45}, {\"ano_coleta\": 1992, \"mes_coleta\": 0, \"ordem\": \"Squamata\", \"counts\": 7}, {\"ano_coleta\": 1992, \"mes_coleta\": 1, \"ordem\": \"Squamata\", \"counts\": 45}, {\"ano_coleta\": 1992, \"mes_coleta\": 2, \"ordem\": \"Squamata\", \"counts\": 32}, {\"ano_coleta\": 1992, \"mes_coleta\": 2, \"ordem\": \"Testudines\", \"counts\": 1}, {\"ano_coleta\": 1992, \"mes_coleta\": 3, \"ordem\": \"Squamata\", \"counts\": 43}, {\"ano_coleta\": 1992, \"mes_coleta\": 4, \"ordem\": \"Squamata\", \"counts\": 25}, {\"ano_coleta\": 1992, \"mes_coleta\": 5, \"ordem\": \"Squamata\", \"counts\": 4}, {\"ano_coleta\": 1992, \"mes_coleta\": 6, \"ordem\": \"Squamata\", \"counts\": 20}, {\"ano_coleta\": 1992, \"mes_coleta\": 7, \"ordem\": \"Squamata\", \"counts\": 9}, {\"ano_coleta\": 1992, \"mes_coleta\": 8, \"ordem\": \"Squamata\", \"counts\": 16}, {\"ano_coleta\": 1992, \"mes_coleta\": 9, \"ordem\": \"Squamata\", \"counts\": 13}, {\"ano_coleta\": 1992, \"mes_coleta\": 10, \"ordem\": \"Squamata\", \"counts\": 11}, {\"ano_coleta\": 1992, \"mes_coleta\": 11, \"ordem\": \"Squamata\", \"counts\": 13}, {\"ano_coleta\": 1992, \"mes_coleta\": 12, \"ordem\": \"Squamata\", \"counts\": 17}, {\"ano_coleta\": 1992, \"mes_coleta\": 12, \"ordem\": \"Testudines\", \"counts\": 14}, {\"ano_coleta\": 1993, \"mes_coleta\": 0, \"ordem\": \"Squamata\", \"counts\": 10}, {\"ano_coleta\": 1993, \"mes_coleta\": 0, \"ordem\": \"Testudines\", \"counts\": 1}, {\"ano_coleta\": 1993, \"mes_coleta\": 1, \"ordem\": \"Squamata\", \"counts\": 15}, {\"ano_coleta\": 1993, \"mes_coleta\": 2, \"ordem\": \"Squamata\", \"counts\": 29}, {\"ano_coleta\": 1993, \"mes_coleta\": 3, \"ordem\": \"Squamata\", \"counts\": 19}, {\"ano_coleta\": 1993, \"mes_coleta\": 3, \"ordem\": \"Testudines\", \"counts\": 1}, {\"ano_coleta\": 1993, \"mes_coleta\": 4, \"ordem\": \"Squamata\", \"counts\": 43}, {\"ano_coleta\": 1993, \"mes_coleta\": 5, \"ordem\": \"Squamata\", \"counts\": 14}, {\"ano_coleta\": 1993, \"mes_coleta\": 6, \"ordem\": \"Squamata\", \"counts\": 25}, {\"ano_coleta\": 1993, \"mes_coleta\": 7, \"ordem\": \"Squamata\", \"counts\": 58}, {\"ano_coleta\": 1993, \"mes_coleta\": 8, \"ordem\": \"Squamata\", \"counts\": 6}, {\"ano_coleta\": 1993, \"mes_coleta\": 9, \"ordem\": \"Squamata\", \"counts\": 16}, {\"ano_coleta\": 1993, \"mes_coleta\": 10, \"ordem\": \"Squamata\", \"counts\": 18}, {\"ano_coleta\": 1993, \"mes_coleta\": 11, \"ordem\": \"Squamata\", \"counts\": 11}, {\"ano_coleta\": 1993, \"mes_coleta\": 12, \"ordem\": \"Squamata\", \"counts\": 23}, {\"ano_coleta\": 1994, \"mes_coleta\": 0, \"ordem\": \"Squamata\", \"counts\": 13}, {\"ano_coleta\": 1994, \"mes_coleta\": 1, \"ordem\": \"Squamata\", \"counts\": 30}, {\"ano_coleta\": 1994, \"mes_coleta\": 2, \"ordem\": \"Squamata\", \"counts\": 81}, {\"ano_coleta\": 1994, \"mes_coleta\": 3, \"ordem\": \"Squamata\", \"counts\": 49}, {\"ano_coleta\": 1994, \"mes_coleta\": 3, \"ordem\": \"Testudines\", \"counts\": 1}, {\"ano_coleta\": 1994, \"mes_coleta\": 4, \"ordem\": \"Squamata\", \"counts\": 40}, {\"ano_coleta\": 1994, \"mes_coleta\": 5, \"ordem\": \"Squamata\", \"counts\": 20}, {\"ano_coleta\": 1994, \"mes_coleta\": 5, \"ordem\": \"Testudines\", \"counts\": 1}, {\"ano_coleta\": 1994, \"mes_coleta\": 6, \"ordem\": \"Squamata\", \"counts\": 43}, {\"ano_coleta\": 1994, \"mes_coleta\": 6, \"ordem\": \"Testudines\", \"counts\": 1}, {\"ano_coleta\": 1994, \"mes_coleta\": 7, \"ordem\": \"Squamata\", \"counts\": 32}, {\"ano_coleta\": 1994, \"mes_coleta\": 8, \"ordem\": \"Squamata\", \"counts\": 40}, {\"ano_coleta\": 1994, \"mes_coleta\": 8, \"ordem\": \"Testudines\", \"counts\": 3}, {\"ano_coleta\": 1994, \"mes_coleta\": 9, \"ordem\": \"Squamata\", \"counts\": 23}, {\"ano_coleta\": 1994, \"mes_coleta\": 9, \"ordem\": \"Testudines\", \"counts\": 2}, {\"ano_coleta\": 1994, \"mes_coleta\": 10, \"ordem\": \"Squamata\", \"counts\": 54}, {\"ano_coleta\": 1994, \"mes_coleta\": 10, \"ordem\": \"Testudines\", \"counts\": 2}, {\"ano_coleta\": 1994, \"mes_coleta\": 11, \"ordem\": \"Squamata\", \"counts\": 10}, {\"ano_coleta\": 1994, \"mes_coleta\": 11, \"ordem\": \"Testudines\", \"counts\": 1}, {\"ano_coleta\": 1994, \"mes_coleta\": 12, \"ordem\": \"Squamata\", \"counts\": 23}, {\"ano_coleta\": 1995, \"mes_coleta\": 0, \"ordem\": \"Squamata\", \"counts\": 19}, {\"ano_coleta\": 1995, \"mes_coleta\": 0, \"ordem\": \"Testudines\", \"counts\": 3}, {\"ano_coleta\": 1995, \"mes_coleta\": 1, \"ordem\": \"Squamata\", \"counts\": 24}, {\"ano_coleta\": 1995, \"mes_coleta\": 2, \"ordem\": \"Squamata\", \"counts\": 15}, {\"ano_coleta\": 1995, \"mes_coleta\": 2, \"ordem\": \"Testudines\", \"counts\": 2}, {\"ano_coleta\": 1995, \"mes_coleta\": 3, \"ordem\": \"Squamata\", \"counts\": 19}, {\"ano_coleta\": 1995, \"mes_coleta\": 4, \"ordem\": \"Squamata\", \"counts\": 18}, {\"ano_coleta\": 1995, \"mes_coleta\": 5, \"ordem\": \"Squamata\", \"counts\": 4}, {\"ano_coleta\": 1995, \"mes_coleta\": 6, \"ordem\": \"Squamata\", \"counts\": 17}, {\"ano_coleta\": 1995, \"mes_coleta\": 7, \"ordem\": \"Squamata\", \"counts\": 140}, {\"ano_coleta\": 1995, \"mes_coleta\": 8, \"ordem\": \"Squamata\", \"counts\": 8}, {\"ano_coleta\": 1995, \"mes_coleta\": 8, \"ordem\": \"Testudines\", \"counts\": 1}, {\"ano_coleta\": 1995, \"mes_coleta\": 9, \"ordem\": \"Squamata\", \"counts\": 6}, {\"ano_coleta\": 1995, \"mes_coleta\": 10, \"ordem\": \"Squamata\", \"counts\": 12}, {\"ano_coleta\": 1995, \"mes_coleta\": 11, \"ordem\": \"Squamata\", \"counts\": 10}, {\"ano_coleta\": 1995, \"mes_coleta\": 12, \"ordem\": \"Squamata\", \"counts\": 10}, {\"ano_coleta\": 1995, \"mes_coleta\": 12, \"ordem\": \"Testudines\", \"counts\": 1}, {\"ano_coleta\": 1996, \"mes_coleta\": 0, \"ordem\": \"Squamata\", \"counts\": 58}, {\"ano_coleta\": 1996, \"mes_coleta\": 0, \"ordem\": \"Testudines\", \"counts\": 2}, {\"ano_coleta\": 1996, \"mes_coleta\": 1, \"ordem\": \"Crocodylia\", \"counts\": 1}, {\"ano_coleta\": 1996, \"mes_coleta\": 1, \"ordem\": \"Squamata\", \"counts\": 25}, {\"ano_coleta\": 1996, \"mes_coleta\": 1, \"ordem\": \"Testudines\", \"counts\": 2}, {\"ano_coleta\": 1996, \"mes_coleta\": 2, \"ordem\": \"Squamata\", \"counts\": 15}, {\"ano_coleta\": 1996, \"mes_coleta\": 3, \"ordem\": \"Squamata\", \"counts\": 9}, {\"ano_coleta\": 1996, \"mes_coleta\": 3, \"ordem\": \"Testudines\", \"counts\": 1}, {\"ano_coleta\": 1996, \"mes_coleta\": 4, \"ordem\": \"Squamata\", \"counts\": 31}, {\"ano_coleta\": 1996, \"mes_coleta\": 4, \"ordem\": \"Testudines\", \"counts\": 1}, {\"ano_coleta\": 1996, \"mes_coleta\": 5, \"ordem\": \"Squamata\", \"counts\": 11}, {\"ano_coleta\": 1996, \"mes_coleta\": 5, \"ordem\": \"Testudines\", \"counts\": 1}, {\"ano_coleta\": 1996, \"mes_coleta\": 6, \"ordem\": \"Squamata\", \"counts\": 12}, {\"ano_coleta\": 1996, \"mes_coleta\": 6, \"ordem\": \"Testudines\", \"counts\": 4}, {\"ano_coleta\": 1996, \"mes_coleta\": 7, \"ordem\": \"Crocodylia\", \"counts\": 1}, {\"ano_coleta\": 1996, \"mes_coleta\": 7, \"ordem\": \"Squamata\", \"counts\": 74}, {\"ano_coleta\": 1996, \"mes_coleta\": 8, \"ordem\": \"Crocodylia\", \"counts\": 1}, {\"ano_coleta\": 1996, \"mes_coleta\": 8, \"ordem\": \"Squamata\", \"counts\": 18}, {\"ano_coleta\": 1996, \"mes_coleta\": 8, \"ordem\": \"Testudines\", \"counts\": 3}, {\"ano_coleta\": 1996, \"mes_coleta\": 9, \"ordem\": \"Squamata\", \"counts\": 31}, {\"ano_coleta\": 1996, \"mes_coleta\": 9, \"ordem\": \"Testudines\", \"counts\": 1}, {\"ano_coleta\": 1996, \"mes_coleta\": 10, \"ordem\": \"Squamata\", \"counts\": 17}, {\"ano_coleta\": 1996, \"mes_coleta\": 11, \"ordem\": \"Squamata\", \"counts\": 15}, {\"ano_coleta\": 1996, \"mes_coleta\": 12, \"ordem\": \"Squamata\", \"counts\": 30}, {\"ano_coleta\": 1996, \"mes_coleta\": 12, \"ordem\": \"Testudines\", \"counts\": 1}, {\"ano_coleta\": 1997, \"mes_coleta\": 0, \"ordem\": \"Squamata\", \"counts\": 10}, {\"ano_coleta\": 1997, \"mes_coleta\": 0, \"ordem\": \"Testudines\", \"counts\": 2}, {\"ano_coleta\": 1997, \"mes_coleta\": 1, \"ordem\": \"Squamata\", \"counts\": 49}, {\"ano_coleta\": 1997, \"mes_coleta\": 2, \"ordem\": \"Squamata\", \"counts\": 82}, {\"ano_coleta\": 1997, \"mes_coleta\": 3, \"ordem\": \"Squamata\", \"counts\": 33}, {\"ano_coleta\": 1997, \"mes_coleta\": 4, \"ordem\": \"Squamata\", \"counts\": 76}, {\"ano_coleta\": 1997, \"mes_coleta\": 5, \"ordem\": \"Squamata\", \"counts\": 11}, {\"ano_coleta\": 1997, \"mes_coleta\": 6, \"ordem\": \"Squamata\", \"counts\": 20}, {\"ano_coleta\": 1997, \"mes_coleta\": 7, \"ordem\": \"Squamata\", \"counts\": 86}, {\"ano_coleta\": 1997, \"mes_coleta\": 8, \"ordem\": \"Squamata\", \"counts\": 36}, {\"ano_coleta\": 1997, \"mes_coleta\": 8, \"ordem\": \"Testudines\", \"counts\": 1}, {\"ano_coleta\": 1997, \"mes_coleta\": 9, \"ordem\": \"Squamata\", \"counts\": 25}, {\"ano_coleta\": 1997, \"mes_coleta\": 10, \"ordem\": \"Squamata\", \"counts\": 31}, {\"ano_coleta\": 1997, \"mes_coleta\": 10, \"ordem\": \"Testudines\", \"counts\": 3}, {\"ano_coleta\": 1997, \"mes_coleta\": 11, \"ordem\": \"Squamata\", \"counts\": 26}, {\"ano_coleta\": 1997, \"mes_coleta\": 12, \"ordem\": \"Squamata\", \"counts\": 24}, {\"ano_coleta\": 1998, \"mes_coleta\": 0, \"ordem\": \"Squamata\", \"counts\": 26}, {\"ano_coleta\": 1998, \"mes_coleta\": 0, \"ordem\": \"Testudines\", \"counts\": 1}, {\"ano_coleta\": 1998, \"mes_coleta\": 1, \"ordem\": \"Squamata\", \"counts\": 31}, {\"ano_coleta\": 1998, \"mes_coleta\": 2, \"ordem\": \"Squamata\", \"counts\": 18}, {\"ano_coleta\": 1998, \"mes_coleta\": 3, \"ordem\": \"Squamata\", \"counts\": 34}, {\"ano_coleta\": 1998, \"mes_coleta\": 4, \"ordem\": \"Squamata\", \"counts\": 22}, {\"ano_coleta\": 1998, \"mes_coleta\": 4, \"ordem\": \"Testudines\", \"counts\": 1}, {\"ano_coleta\": 1998, \"mes_coleta\": 5, \"ordem\": \"Squamata\", \"counts\": 14}, {\"ano_coleta\": 1998, \"mes_coleta\": 6, \"ordem\": \"Squamata\", \"counts\": 20}, {\"ano_coleta\": 1998, \"mes_coleta\": 7, \"ordem\": \"Squamata\", \"counts\": 15}, {\"ano_coleta\": 1998, \"mes_coleta\": 8, \"ordem\": \"Squamata\", \"counts\": 17}, {\"ano_coleta\": 1998, \"mes_coleta\": 9, \"ordem\": \"Squamata\", \"counts\": 8}, {\"ano_coleta\": 1998, \"mes_coleta\": 10, \"ordem\": \"Crocodylia\", \"counts\": 3}, {\"ano_coleta\": 1998, \"mes_coleta\": 10, \"ordem\": \"Squamata\", \"counts\": 180}, {\"ano_coleta\": 1998, \"mes_coleta\": 10, \"ordem\": \"Testudines\", \"counts\": 19}, {\"ano_coleta\": 1998, \"mes_coleta\": 11, \"ordem\": \"Squamata\", \"counts\": 31}, {\"ano_coleta\": 1998, \"mes_coleta\": 12, \"ordem\": \"Squamata\", \"counts\": 44}, {\"ano_coleta\": 1998, \"mes_coleta\": 12, \"ordem\": \"Testudines\", \"counts\": 4}, {\"ano_coleta\": 1999, \"mes_coleta\": 0, \"ordem\": \"Squamata\", \"counts\": 51}, {\"ano_coleta\": 1999, \"mes_coleta\": 1, \"ordem\": \"Squamata\", \"counts\": 9}, {\"ano_coleta\": 1999, \"mes_coleta\": 2, \"ordem\": \"Squamata\", \"counts\": 32}, {\"ano_coleta\": 1999, \"mes_coleta\": 3, \"ordem\": \"Squamata\", \"counts\": 113}, {\"ano_coleta\": 1999, \"mes_coleta\": 4, \"ordem\": \"Squamata\", \"counts\": 23}, {\"ano_coleta\": 1999, \"mes_coleta\": 4, \"ordem\": \"Testudines\", \"counts\": 1}, {\"ano_coleta\": 1999, \"mes_coleta\": 5, \"ordem\": \"Squamata\", \"counts\": 29}, {\"ano_coleta\": 1999, \"mes_coleta\": 5, \"ordem\": \"Testudines\", \"counts\": 1}, {\"ano_coleta\": 1999, \"mes_coleta\": 6, \"ordem\": \"Squamata\", \"counts\": 11}, {\"ano_coleta\": 1999, \"mes_coleta\": 7, \"ordem\": \"Squamata\", \"counts\": 6}, {\"ano_coleta\": 1999, \"mes_coleta\": 8, \"ordem\": \"Squamata\", \"counts\": 34}, {\"ano_coleta\": 1999, \"mes_coleta\": 9, \"ordem\": \"Crocodylia\", \"counts\": 1}, {\"ano_coleta\": 1999, \"mes_coleta\": 9, \"ordem\": \"Squamata\", \"counts\": 46}, {\"ano_coleta\": 1999, \"mes_coleta\": 10, \"ordem\": \"Crocodylia\", \"counts\": 1}, {\"ano_coleta\": 1999, \"mes_coleta\": 10, \"ordem\": \"Squamata\", \"counts\": 43}, {\"ano_coleta\": 1999, \"mes_coleta\": 11, \"ordem\": \"Squamata\", \"counts\": 137}, {\"ano_coleta\": 1999, \"mes_coleta\": 12, \"ordem\": \"Squamata\", \"counts\": 20}, {\"ano_coleta\": 2000, \"mes_coleta\": 0, \"ordem\": \"Crocodylia\", \"counts\": 3}, {\"ano_coleta\": 2000, \"mes_coleta\": 0, \"ordem\": \"Squamata\", \"counts\": 6}, {\"ano_coleta\": 2000, \"mes_coleta\": 1, \"ordem\": \"Squamata\", \"counts\": 33}, {\"ano_coleta\": 2000, \"mes_coleta\": 1, \"ordem\": \"Testudines\", \"counts\": 4}, {\"ano_coleta\": 2000, \"mes_coleta\": 2, \"ordem\": \"Squamata\", \"counts\": 67}, {\"ano_coleta\": 2000, \"mes_coleta\": 3, \"ordem\": \"Squamata\", \"counts\": 88}, {\"ano_coleta\": 2000, \"mes_coleta\": 3, \"ordem\": \"Testudines\", \"counts\": 1}, {\"ano_coleta\": 2000, \"mes_coleta\": 4, \"ordem\": \"Squamata\", \"counts\": 14}, {\"ano_coleta\": 2000, \"mes_coleta\": 5, \"ordem\": \"Squamata\", \"counts\": 29}, {\"ano_coleta\": 2000, \"mes_coleta\": 6, \"ordem\": \"Squamata\", \"counts\": 8}, {\"ano_coleta\": 2000, \"mes_coleta\": 7, \"ordem\": \"Squamata\", \"counts\": 15}, {\"ano_coleta\": 2000, \"mes_coleta\": 7, \"ordem\": \"Testudines\", \"counts\": 1}, {\"ano_coleta\": 2000, \"mes_coleta\": 8, \"ordem\": \"Squamata\", \"counts\": 39}, {\"ano_coleta\": 2000, \"mes_coleta\": 8, \"ordem\": \"Testudines\", \"counts\": 1}, {\"ano_coleta\": 2000, \"mes_coleta\": 9, \"ordem\": \"Squamata\", \"counts\": 19}, {\"ano_coleta\": 2000, \"mes_coleta\": 9, \"ordem\": \"Testudines\", \"counts\": 1}, {\"ano_coleta\": 2000, \"mes_coleta\": 10, \"ordem\": \"Squamata\", \"counts\": 10}, {\"ano_coleta\": 2000, \"mes_coleta\": 11, \"ordem\": \"Squamata\", \"counts\": 83}, {\"ano_coleta\": 2000, \"mes_coleta\": 12, \"ordem\": \"Squamata\", \"counts\": 51}, {\"ano_coleta\": 2001, \"mes_coleta\": 0, \"ordem\": \"Squamata\", \"counts\": 25}, {\"ano_coleta\": 2001, \"mes_coleta\": 1, \"ordem\": \"Squamata\", \"counts\": 18}, {\"ano_coleta\": 2001, \"mes_coleta\": 2, \"ordem\": \"Crocodylia\", \"counts\": 1}, {\"ano_coleta\": 2001, \"mes_coleta\": 2, \"ordem\": \"Squamata\", \"counts\": 17}, {\"ano_coleta\": 2001, \"mes_coleta\": 3, \"ordem\": \"Squamata\", \"counts\": 9}, {\"ano_coleta\": 2001, \"mes_coleta\": 3, \"ordem\": \"Testudines\", \"counts\": 3}, {\"ano_coleta\": 2001, \"mes_coleta\": 4, \"ordem\": \"Squamata\", \"counts\": 11}, {\"ano_coleta\": 2001, \"mes_coleta\": 5, \"ordem\": \"Squamata\", \"counts\": 26}, {\"ano_coleta\": 2001, \"mes_coleta\": 5, \"ordem\": \"Testudines\", \"counts\": 1}, {\"ano_coleta\": 2001, \"mes_coleta\": 6, \"ordem\": \"Squamata\", \"counts\": 3}, {\"ano_coleta\": 2001, \"mes_coleta\": 6, \"ordem\": \"Testudines\", \"counts\": 1}, {\"ano_coleta\": 2001, \"mes_coleta\": 7, \"ordem\": \"Squamata\", \"counts\": 4}, {\"ano_coleta\": 2001, \"mes_coleta\": 8, \"ordem\": \"Squamata\", \"counts\": 40}, {\"ano_coleta\": 2001, \"mes_coleta\": 9, \"ordem\": \"Squamata\", \"counts\": 15}, {\"ano_coleta\": 2001, \"mes_coleta\": 10, \"ordem\": \"Squamata\", \"counts\": 39}, {\"ano_coleta\": 2001, \"mes_coleta\": 11, \"ordem\": \"Squamata\", \"counts\": 42}, {\"ano_coleta\": 2001, \"mes_coleta\": 11, \"ordem\": \"Testudines\", \"counts\": 1}, {\"ano_coleta\": 2001, \"mes_coleta\": 12, \"ordem\": \"Squamata\", \"counts\": 52}, {\"ano_coleta\": 2001, \"mes_coleta\": 12, \"ordem\": \"Testudines\", \"counts\": 1}, {\"ano_coleta\": 2002, \"mes_coleta\": 0, \"ordem\": \"Squamata\", \"counts\": 8}, {\"ano_coleta\": 2002, \"mes_coleta\": 1, \"ordem\": \"Squamata\", \"counts\": 31}, {\"ano_coleta\": 2002, \"mes_coleta\": 1, \"ordem\": \"Testudines\", \"counts\": 1}, {\"ano_coleta\": 2002, \"mes_coleta\": 2, \"ordem\": \"Squamata\", \"counts\": 16}, {\"ano_coleta\": 2002, \"mes_coleta\": 3, \"ordem\": \"Squamata\", \"counts\": 49}, {\"ano_coleta\": 2002, \"mes_coleta\": 4, \"ordem\": \"Squamata\", \"counts\": 32}, {\"ano_coleta\": 2002, \"mes_coleta\": 5, \"ordem\": \"Squamata\", \"counts\": 22}, {\"ano_coleta\": 2002, \"mes_coleta\": 6, \"ordem\": \"Squamata\", \"counts\": 27}, {\"ano_coleta\": 2002, \"mes_coleta\": 7, \"ordem\": \"Squamata\", \"counts\": 21}, {\"ano_coleta\": 2002, \"mes_coleta\": 8, \"ordem\": \"Squamata\", \"counts\": 23}, {\"ano_coleta\": 2002, \"mes_coleta\": 9, \"ordem\": \"Squamata\", \"counts\": 23}, {\"ano_coleta\": 2002, \"mes_coleta\": 10, \"ordem\": \"Squamata\", \"counts\": 161}, {\"ano_coleta\": 2002, \"mes_coleta\": 10, \"ordem\": \"Testudines\", \"counts\": 1}, {\"ano_coleta\": 2002, \"mes_coleta\": 11, \"ordem\": \"Squamata\", \"counts\": 37}, {\"ano_coleta\": 2002, \"mes_coleta\": 12, \"ordem\": \"Squamata\", \"counts\": 12}, {\"ano_coleta\": 2003, \"mes_coleta\": 0, \"ordem\": \"Squamata\", \"counts\": 14}, {\"ano_coleta\": 2003, \"mes_coleta\": 1, \"ordem\": \"Squamata\", \"counts\": 12}, {\"ano_coleta\": 2003, \"mes_coleta\": 2, \"ordem\": \"Squamata\", \"counts\": 15}, {\"ano_coleta\": 2003, \"mes_coleta\": 3, \"ordem\": \"Squamata\", \"counts\": 11}, {\"ano_coleta\": 2003, \"mes_coleta\": 4, \"ordem\": \"Squamata\", \"counts\": 14}, {\"ano_coleta\": 2003, \"mes_coleta\": 5, \"ordem\": \"Squamata\", \"counts\": 9}, {\"ano_coleta\": 2003, \"mes_coleta\": 6, \"ordem\": \"Squamata\", \"counts\": 8}, {\"ano_coleta\": 2003, \"mes_coleta\": 7, \"ordem\": \"Squamata\", \"counts\": 23}, {\"ano_coleta\": 2003, \"mes_coleta\": 8, \"ordem\": \"Squamata\", \"counts\": 13}, {\"ano_coleta\": 2003, \"mes_coleta\": 9, \"ordem\": \"Squamata\", \"counts\": 25}, {\"ano_coleta\": 2003, \"mes_coleta\": 10, \"ordem\": \"Squamata\", \"counts\": 98}, {\"ano_coleta\": 2003, \"mes_coleta\": 11, \"ordem\": \"Squamata\", \"counts\": 44}, {\"ano_coleta\": 2003, \"mes_coleta\": 12, \"ordem\": \"Squamata\", \"counts\": 54}, {\"ano_coleta\": 2004, \"mes_coleta\": 0, \"ordem\": \"Squamata\", \"counts\": 5}, {\"ano_coleta\": 2004, \"mes_coleta\": 1, \"ordem\": \"Squamata\", \"counts\": 31}, {\"ano_coleta\": 2004, \"mes_coleta\": 1, \"ordem\": \"Testudines\", \"counts\": 3}, {\"ano_coleta\": 2004, \"mes_coleta\": 2, \"ordem\": \"Squamata\", \"counts\": 22}, {\"ano_coleta\": 2004, \"mes_coleta\": 3, \"ordem\": \"Squamata\", \"counts\": 40}, {\"ano_coleta\": 2004, \"mes_coleta\": 4, \"ordem\": \"Squamata\", \"counts\": 45}, {\"ano_coleta\": 2004, \"mes_coleta\": 5, \"ordem\": \"Squamata\", \"counts\": 14}, {\"ano_coleta\": 2004, \"mes_coleta\": 6, \"ordem\": \"Squamata\", \"counts\": 3}, {\"ano_coleta\": 2004, \"mes_coleta\": 7, \"ordem\": \"Squamata\", \"counts\": 10}, {\"ano_coleta\": 2004, \"mes_coleta\": 8, \"ordem\": \"Squamata\", \"counts\": 60}, {\"ano_coleta\": 2004, \"mes_coleta\": 9, \"ordem\": \"Squamata\", \"counts\": 28}, {\"ano_coleta\": 2004, \"mes_coleta\": 10, \"ordem\": \"Squamata\", \"counts\": 37}, {\"ano_coleta\": 2004, \"mes_coleta\": 10, \"ordem\": \"Testudines\", \"counts\": 1}, {\"ano_coleta\": 2004, \"mes_coleta\": 11, \"ordem\": \"Squamata\", \"counts\": 24}, {\"ano_coleta\": 2004, \"mes_coleta\": 12, \"ordem\": \"Squamata\", \"counts\": 37}, {\"ano_coleta\": 2004, \"mes_coleta\": 12, \"ordem\": \"Testudines\", \"counts\": 1}, {\"ano_coleta\": 2005, \"mes_coleta\": 0, \"ordem\": \"Squamata\", \"counts\": 20}, {\"ano_coleta\": 2005, \"mes_coleta\": 1, \"ordem\": \"Squamata\", \"counts\": 140}, {\"ano_coleta\": 2005, \"mes_coleta\": 1, \"ordem\": \"Testudines\", \"counts\": 1}, {\"ano_coleta\": 2005, \"mes_coleta\": 2, \"ordem\": \"Squamata\", \"counts\": 34}, {\"ano_coleta\": 2005, \"mes_coleta\": 3, \"ordem\": \"Squamata\", \"counts\": 15}, {\"ano_coleta\": 2005, \"mes_coleta\": 4, \"ordem\": \"Squamata\", \"counts\": 47}, {\"ano_coleta\": 2005, \"mes_coleta\": 5, \"ordem\": \"Squamata\", \"counts\": 24}, {\"ano_coleta\": 2005, \"mes_coleta\": 6, \"ordem\": \"Squamata\", \"counts\": 25}, {\"ano_coleta\": 2005, \"mes_coleta\": 7, \"ordem\": \"Squamata\", \"counts\": 10}, {\"ano_coleta\": 2005, \"mes_coleta\": 8, \"ordem\": \"Squamata\", \"counts\": 13}, {\"ano_coleta\": 2005, \"mes_coleta\": 9, \"ordem\": \"Crocodylia\", \"counts\": 2}, {\"ano_coleta\": 2005, \"mes_coleta\": 9, \"ordem\": \"Squamata\", \"counts\": 18}, {\"ano_coleta\": 2005, \"mes_coleta\": 10, \"ordem\": \"Squamata\", \"counts\": 56}, {\"ano_coleta\": 2005, \"mes_coleta\": 11, \"ordem\": \"Squamata\", \"counts\": 26}, {\"ano_coleta\": 2005, \"mes_coleta\": 12, \"ordem\": \"Squamata\", \"counts\": 23}, {\"ano_coleta\": 2006, \"mes_coleta\": 0, \"ordem\": \"Squamata\", \"counts\": 10}, {\"ano_coleta\": 2006, \"mes_coleta\": 1, \"ordem\": \"Squamata\", \"counts\": 40}, {\"ano_coleta\": 2006, \"mes_coleta\": 2, \"ordem\": \"Squamata\", \"counts\": 29}, {\"ano_coleta\": 2006, \"mes_coleta\": 3, \"ordem\": \"Crocodylia\", \"counts\": 1}, {\"ano_coleta\": 2006, \"mes_coleta\": 3, \"ordem\": \"Squamata\", \"counts\": 43}, {\"ano_coleta\": 2006, \"mes_coleta\": 3, \"ordem\": \"Testudines\", \"counts\": 5}, {\"ano_coleta\": 2006, \"mes_coleta\": 4, \"ordem\": \"Crocodylia\", \"counts\": 1}, {\"ano_coleta\": 2006, \"mes_coleta\": 4, \"ordem\": \"Squamata\", \"counts\": 16}, {\"ano_coleta\": 2006, \"mes_coleta\": 5, \"ordem\": \"Squamata\", \"counts\": 18}, {\"ano_coleta\": 2006, \"mes_coleta\": 5, \"ordem\": \"Testudines\", \"counts\": 1}, {\"ano_coleta\": 2006, \"mes_coleta\": 6, \"ordem\": \"Squamata\", \"counts\": 54}, {\"ano_coleta\": 2006, \"mes_coleta\": 7, \"ordem\": \"Squamata\", \"counts\": 4}, {\"ano_coleta\": 2006, \"mes_coleta\": 8, \"ordem\": \"Squamata\", \"counts\": 18}, {\"ano_coleta\": 2006, \"mes_coleta\": 9, \"ordem\": \"Squamata\", \"counts\": 20}, {\"ano_coleta\": 2006, \"mes_coleta\": 10, \"ordem\": \"Squamata\", \"counts\": 61}, {\"ano_coleta\": 2006, \"mes_coleta\": 11, \"ordem\": \"Squamata\", \"counts\": 47}, {\"ano_coleta\": 2006, \"mes_coleta\": 11, \"ordem\": \"Testudines\", \"counts\": 1}, {\"ano_coleta\": 2006, \"mes_coleta\": 12, \"ordem\": \"Squamata\", \"counts\": 104}, {\"ano_coleta\": 2006, \"mes_coleta\": 12, \"ordem\": \"Testudines\", \"counts\": 5}, {\"ano_coleta\": 2007, \"mes_coleta\": 0, \"ordem\": \"Squamata\", \"counts\": 12}, {\"ano_coleta\": 2007, \"mes_coleta\": 0, \"ordem\": \"Testudines\", \"counts\": 3}, {\"ano_coleta\": 2007, \"mes_coleta\": 1, \"ordem\": \"Squamata\", \"counts\": 82}, {\"ano_coleta\": 2007, \"mes_coleta\": 1, \"ordem\": \"Testudines\", \"counts\": 6}, {\"ano_coleta\": 2007, \"mes_coleta\": 2, \"ordem\": \"Squamata\", \"counts\": 40}, {\"ano_coleta\": 2007, \"mes_coleta\": 3, \"ordem\": \"Squamata\", \"counts\": 49}, {\"ano_coleta\": 2007, \"mes_coleta\": 4, \"ordem\": \"Squamata\", \"counts\": 29}, {\"ano_coleta\": 2007, \"mes_coleta\": 5, \"ordem\": \"Squamata\", \"counts\": 27}, {\"ano_coleta\": 2007, \"mes_coleta\": 6, \"ordem\": \"Crocodylia\", \"counts\": 1}, {\"ano_coleta\": 2007, \"mes_coleta\": 6, \"ordem\": \"Squamata\", \"counts\": 66}, {\"ano_coleta\": 2007, \"mes_coleta\": 7, \"ordem\": \"Squamata\", \"counts\": 47}, {\"ano_coleta\": 2007, \"mes_coleta\": 8, \"ordem\": \"Squamata\", \"counts\": 18}, {\"ano_coleta\": 2007, \"mes_coleta\": 9, \"ordem\": \"Crocodylia\", \"counts\": 3}, {\"ano_coleta\": 2007, \"mes_coleta\": 9, \"ordem\": \"Squamata\", \"counts\": 63}, {\"ano_coleta\": 2007, \"mes_coleta\": 9, \"ordem\": \"Testudines\", \"counts\": 1}, {\"ano_coleta\": 2007, \"mes_coleta\": 10, \"ordem\": \"Squamata\", \"counts\": 76}, {\"ano_coleta\": 2007, \"mes_coleta\": 10, \"ordem\": \"Testudines\", \"counts\": 1}, {\"ano_coleta\": 2007, \"mes_coleta\": 11, \"ordem\": \"Squamata\", \"counts\": 79}, {\"ano_coleta\": 2007, \"mes_coleta\": 12, \"ordem\": \"Squamata\", \"counts\": 44}, {\"ano_coleta\": 2007, \"mes_coleta\": 12, \"ordem\": \"Testudines\", \"counts\": 2}, {\"ano_coleta\": 2008, \"mes_coleta\": 0, \"ordem\": \"Squamata\", \"counts\": 18}, {\"ano_coleta\": 2008, \"mes_coleta\": 1, \"ordem\": \"Squamata\", \"counts\": 149}, {\"ano_coleta\": 2008, \"mes_coleta\": 1, \"ordem\": \"Testudines\", \"counts\": 5}, {\"ano_coleta\": 2008, \"mes_coleta\": 2, \"ordem\": \"Squamata\", \"counts\": 149}, {\"ano_coleta\": 2008, \"mes_coleta\": 3, \"ordem\": \"Crocodylia\", \"counts\": 1}, {\"ano_coleta\": 2008, \"mes_coleta\": 3, \"ordem\": \"Squamata\", \"counts\": 144}, {\"ano_coleta\": 2008, \"mes_coleta\": 3, \"ordem\": \"Testudines\", \"counts\": 2}, {\"ano_coleta\": 2008, \"mes_coleta\": 4, \"ordem\": \"Squamata\", \"counts\": 56}, {\"ano_coleta\": 2008, \"mes_coleta\": 5, \"ordem\": \"Squamata\", \"counts\": 67}, {\"ano_coleta\": 2008, \"mes_coleta\": 5, \"ordem\": \"Testudines\", \"counts\": 4}, {\"ano_coleta\": 2008, \"mes_coleta\": 6, \"ordem\": \"Crocodylia\", \"counts\": 1}, {\"ano_coleta\": 2008, \"mes_coleta\": 6, \"ordem\": \"Squamata\", \"counts\": 79}, {\"ano_coleta\": 2008, \"mes_coleta\": 6, \"ordem\": \"Testudines\", \"counts\": 11}, {\"ano_coleta\": 2008, \"mes_coleta\": 7, \"ordem\": \"Squamata\", \"counts\": 91}, {\"ano_coleta\": 2008, \"mes_coleta\": 7, \"ordem\": \"Testudines\", \"counts\": 1}, {\"ano_coleta\": 2008, \"mes_coleta\": 8, \"ordem\": \"Squamata\", \"counts\": 49}, {\"ano_coleta\": 2008, \"mes_coleta\": 8, \"ordem\": \"Testudines\", \"counts\": 1}, {\"ano_coleta\": 2008, \"mes_coleta\": 9, \"ordem\": \"Squamata\", \"counts\": 193}, {\"ano_coleta\": 2008, \"mes_coleta\": 10, \"ordem\": \"Squamata\", \"counts\": 122}, {\"ano_coleta\": 2008, \"mes_coleta\": 11, \"ordem\": \"Squamata\", \"counts\": 43}, {\"ano_coleta\": 2008, \"mes_coleta\": 12, \"ordem\": \"Squamata\", \"counts\": 51}, {\"ano_coleta\": 2008, \"mes_coleta\": 12, \"ordem\": \"Testudines\", \"counts\": 1}, {\"ano_coleta\": 2009, \"mes_coleta\": 0, \"ordem\": \"Squamata\", \"counts\": 100}, {\"ano_coleta\": 2009, \"mes_coleta\": 0, \"ordem\": \"Testudines\", \"counts\": 1}, {\"ano_coleta\": 2009, \"mes_coleta\": 1, \"ordem\": \"Crocodylia\", \"counts\": 1}, {\"ano_coleta\": 2009, \"mes_coleta\": 1, \"ordem\": \"Squamata\", \"counts\": 127}, {\"ano_coleta\": 2009, \"mes_coleta\": 1, \"ordem\": \"Testudines\", \"counts\": 1}, {\"ano_coleta\": 2009, \"mes_coleta\": 2, \"ordem\": \"Crocodylia\", \"counts\": 2}, {\"ano_coleta\": 2009, \"mes_coleta\": 2, \"ordem\": \"Squamata\", \"counts\": 108}, {\"ano_coleta\": 2009, \"mes_coleta\": 2, \"ordem\": \"Testudines\", \"counts\": 1}, {\"ano_coleta\": 2009, \"mes_coleta\": 3, \"ordem\": \"Squamata\", \"counts\": 47}, {\"ano_coleta\": 2009, \"mes_coleta\": 3, \"ordem\": \"Testudines\", \"counts\": 1}, {\"ano_coleta\": 2009, \"mes_coleta\": 4, \"ordem\": \"Squamata\", \"counts\": 47}, {\"ano_coleta\": 2009, \"mes_coleta\": 5, \"ordem\": \"Squamata\", \"counts\": 51}, {\"ano_coleta\": 2009, \"mes_coleta\": 5, \"ordem\": \"Testudines\", \"counts\": 1}, {\"ano_coleta\": 2009, \"mes_coleta\": 6, \"ordem\": \"Squamata\", \"counts\": 62}, {\"ano_coleta\": 2009, \"mes_coleta\": 7, \"ordem\": \"Squamata\", \"counts\": 35}, {\"ano_coleta\": 2009, \"mes_coleta\": 8, \"ordem\": \"Squamata\", \"counts\": 33}, {\"ano_coleta\": 2009, \"mes_coleta\": 8, \"ordem\": \"Testudines\", \"counts\": 2}, {\"ano_coleta\": 2009, \"mes_coleta\": 9, \"ordem\": \"Squamata\", \"counts\": 116}, {\"ano_coleta\": 2009, \"mes_coleta\": 10, \"ordem\": \"Squamata\", \"counts\": 116}, {\"ano_coleta\": 2009, \"mes_coleta\": 11, \"ordem\": \"Crocodylia\", \"counts\": 1}, {\"ano_coleta\": 2009, \"mes_coleta\": 11, \"ordem\": \"Squamata\", \"counts\": 48}, {\"ano_coleta\": 2009, \"mes_coleta\": 11, \"ordem\": \"Testudines\", \"counts\": 4}, {\"ano_coleta\": 2009, \"mes_coleta\": 12, \"ordem\": \"Crocodylia\", \"counts\": 1}, {\"ano_coleta\": 2009, \"mes_coleta\": 12, \"ordem\": \"Squamata\", \"counts\": 36}, {\"ano_coleta\": 2010, \"mes_coleta\": 0, \"ordem\": \"Squamata\", \"counts\": 90}, {\"ano_coleta\": 2010, \"mes_coleta\": 0, \"ordem\": \"Testudines\", \"counts\": 1}, {\"ano_coleta\": 2010, \"mes_coleta\": 1, \"ordem\": \"Squamata\", \"counts\": 82}, {\"ano_coleta\": 2010, \"mes_coleta\": 1, \"ordem\": \"Testudines\", \"counts\": 3}, {\"ano_coleta\": 2010, \"mes_coleta\": 2, \"ordem\": \"Squamata\", \"counts\": 36}, {\"ano_coleta\": 2010, \"mes_coleta\": 2, \"ordem\": \"Testudines\", \"counts\": 1}, {\"ano_coleta\": 2010, \"mes_coleta\": 3, \"ordem\": \"Squamata\", \"counts\": 82}, {\"ano_coleta\": 2010, \"mes_coleta\": 3, \"ordem\": \"Testudines\", \"counts\": 2}, {\"ano_coleta\": 2010, \"mes_coleta\": 4, \"ordem\": \"Squamata\", \"counts\": 58}, {\"ano_coleta\": 2010, \"mes_coleta\": 4, \"ordem\": \"Testudines\", \"counts\": 1}, {\"ano_coleta\": 2010, \"mes_coleta\": 5, \"ordem\": \"Squamata\", \"counts\": 29}, {\"ano_coleta\": 2010, \"mes_coleta\": 6, \"ordem\": \"Squamata\", \"counts\": 35}, {\"ano_coleta\": 2010, \"mes_coleta\": 6, \"ordem\": \"Testudines\", \"counts\": 1}, {\"ano_coleta\": 2010, \"mes_coleta\": 7, \"ordem\": \"Squamata\", \"counts\": 30}, {\"ano_coleta\": 2010, \"mes_coleta\": 8, \"ordem\": \"Squamata\", \"counts\": 35}, {\"ano_coleta\": 2010, \"mes_coleta\": 8, \"ordem\": \"Testudines\", \"counts\": 1}, {\"ano_coleta\": 2010, \"mes_coleta\": 9, \"ordem\": \"Crocodylia\", \"counts\": 1}, {\"ano_coleta\": 2010, \"mes_coleta\": 9, \"ordem\": \"Squamata\", \"counts\": 78}, {\"ano_coleta\": 2010, \"mes_coleta\": 9, \"ordem\": \"Testudines\", \"counts\": 2}, {\"ano_coleta\": 2010, \"mes_coleta\": 10, \"ordem\": \"Squamata\", \"counts\": 29}, {\"ano_coleta\": 2010, \"mes_coleta\": 11, \"ordem\": \"Squamata\", \"counts\": 97}, {\"ano_coleta\": 2010, \"mes_coleta\": 12, \"ordem\": \"Squamata\", \"counts\": 80}, {\"ano_coleta\": 2011, \"mes_coleta\": 0, \"ordem\": \"Squamata\", \"counts\": 8}, {\"ano_coleta\": 2011, \"mes_coleta\": 1, \"ordem\": \"Squamata\", \"counts\": 34}, {\"ano_coleta\": 2011, \"mes_coleta\": 1, \"ordem\": \"Testudines\", \"counts\": 1}, {\"ano_coleta\": 2011, \"mes_coleta\": 2, \"ordem\": \"Squamata\", \"counts\": 37}, {\"ano_coleta\": 2011, \"mes_coleta\": 3, \"ordem\": \"Squamata\", \"counts\": 49}, {\"ano_coleta\": 2011, \"mes_coleta\": 4, \"ordem\": \"Squamata\", \"counts\": 67}, {\"ano_coleta\": 2011, \"mes_coleta\": 4, \"ordem\": \"Testudines\", \"counts\": 2}, {\"ano_coleta\": 2011, \"mes_coleta\": 5, \"ordem\": \"Squamata\", \"counts\": 52}, {\"ano_coleta\": 2011, \"mes_coleta\": 6, \"ordem\": \"Squamata\", \"counts\": 56}, {\"ano_coleta\": 2011, \"mes_coleta\": 7, \"ordem\": \"Squamata\", \"counts\": 27}, {\"ano_coleta\": 2011, \"mes_coleta\": 8, \"ordem\": \"Squamata\", \"counts\": 37}, {\"ano_coleta\": 2011, \"mes_coleta\": 9, \"ordem\": \"Squamata\", \"counts\": 62}, {\"ano_coleta\": 2011, \"mes_coleta\": 10, \"ordem\": \"Squamata\", \"counts\": 60}, {\"ano_coleta\": 2011, \"mes_coleta\": 11, \"ordem\": \"Squamata\", \"counts\": 75}, {\"ano_coleta\": 2011, \"mes_coleta\": 12, \"ordem\": \"Squamata\", \"counts\": 35}, {\"ano_coleta\": 2012, \"mes_coleta\": 0, \"ordem\": \"Crocodylia\", \"counts\": 1}, {\"ano_coleta\": 2012, \"mes_coleta\": 1, \"ordem\": \"Squamata\", \"counts\": 43}, {\"ano_coleta\": 2012, \"mes_coleta\": 1, \"ordem\": \"Testudines\", \"counts\": 1}, {\"ano_coleta\": 2012, \"mes_coleta\": 2, \"ordem\": \"Squamata\", \"counts\": 20}, {\"ano_coleta\": 2012, \"mes_coleta\": 3, \"ordem\": \"Squamata\", \"counts\": 52}, {\"ano_coleta\": 2012, \"mes_coleta\": 4, \"ordem\": \"Squamata\", \"counts\": 31}, {\"ano_coleta\": 2012, \"mes_coleta\": 4, \"ordem\": \"Testudines\", \"counts\": 1}, {\"ano_coleta\": 2012, \"mes_coleta\": 5, \"ordem\": \"Squamata\", \"counts\": 41}, {\"ano_coleta\": 2012, \"mes_coleta\": 6, \"ordem\": \"Squamata\", \"counts\": 22}, {\"ano_coleta\": 2012, \"mes_coleta\": 7, \"ordem\": \"Squamata\", \"counts\": 66}, {\"ano_coleta\": 2012, \"mes_coleta\": 7, \"ordem\": \"Testudines\", \"counts\": 1}, {\"ano_coleta\": 2012, \"mes_coleta\": 8, \"ordem\": \"Squamata\", \"counts\": 107}, {\"ano_coleta\": 2012, \"mes_coleta\": 9, \"ordem\": \"Crocodylia\", \"counts\": 1}, {\"ano_coleta\": 2012, \"mes_coleta\": 9, \"ordem\": \"Squamata\", \"counts\": 11}, {\"ano_coleta\": 2012, \"mes_coleta\": 9, \"ordem\": \"Testudines\", \"counts\": 1}, {\"ano_coleta\": 2012, \"mes_coleta\": 10, \"ordem\": \"Squamata\", \"counts\": 72}, {\"ano_coleta\": 2012, \"mes_coleta\": 10, \"ordem\": \"Testudines\", \"counts\": 1}, {\"ano_coleta\": 2012, \"mes_coleta\": 11, \"ordem\": \"Squamata\", \"counts\": 48}, {\"ano_coleta\": 2012, \"mes_coleta\": 12, \"ordem\": \"Squamata\", \"counts\": 43}, {\"ano_coleta\": 2012, \"mes_coleta\": 12, \"ordem\": \"Testudines\", \"counts\": 1}, {\"ano_coleta\": 2013, \"mes_coleta\": 0, \"ordem\": \"Squamata\", \"counts\": 1}, {\"ano_coleta\": 2013, \"mes_coleta\": 1, \"ordem\": \"Squamata\", \"counts\": 55}, {\"ano_coleta\": 2013, \"mes_coleta\": 1, \"ordem\": \"Testudines\", \"counts\": 1}, {\"ano_coleta\": 2013, \"mes_coleta\": 2, \"ordem\": \"Squamata\", \"counts\": 64}, {\"ano_coleta\": 2013, \"mes_coleta\": 3, \"ordem\": \"Squamata\", \"counts\": 42}, {\"ano_coleta\": 2013, \"mes_coleta\": 4, \"ordem\": \"Crocodylia\", \"counts\": 1}, {\"ano_coleta\": 2013, \"mes_coleta\": 4, \"ordem\": \"Squamata\", \"counts\": 27}, {\"ano_coleta\": 2013, \"mes_coleta\": 5, \"ordem\": \"Squamata\", \"counts\": 18}, {\"ano_coleta\": 2013, \"mes_coleta\": 6, \"ordem\": \"Squamata\", \"counts\": 50}, {\"ano_coleta\": 2013, \"mes_coleta\": 7, \"ordem\": \"Squamata\", \"counts\": 29}, {\"ano_coleta\": 2013, \"mes_coleta\": 8, \"ordem\": \"Squamata\", \"counts\": 39}, {\"ano_coleta\": 2013, \"mes_coleta\": 9, \"ordem\": \"Squamata\", \"counts\": 12}, {\"ano_coleta\": 2013, \"mes_coleta\": 10, \"ordem\": \"Squamata\", \"counts\": 41}, {\"ano_coleta\": 2013, \"mes_coleta\": 11, \"ordem\": \"Crocodylia\", \"counts\": 1}, {\"ano_coleta\": 2013, \"mes_coleta\": 11, \"ordem\": \"Squamata\", \"counts\": 148}, {\"ano_coleta\": 2013, \"mes_coleta\": 11, \"ordem\": \"Testudines\", \"counts\": 4}, {\"ano_coleta\": 2013, \"mes_coleta\": 12, \"ordem\": \"Squamata\", \"counts\": 41}, {\"ano_coleta\": 2014, \"mes_coleta\": 0, \"ordem\": \"Squamata\", \"counts\": 3}, {\"ano_coleta\": 2014, \"mes_coleta\": 1, \"ordem\": \"Squamata\", \"counts\": 60}, {\"ano_coleta\": 2014, \"mes_coleta\": 1, \"ordem\": \"Testudines\", \"counts\": 1}, {\"ano_coleta\": 2014, \"mes_coleta\": 2, \"ordem\": \"Squamata\", \"counts\": 68}, {\"ano_coleta\": 2014, \"mes_coleta\": 3, \"ordem\": \"Squamata\", \"counts\": 33}, {\"ano_coleta\": 2014, \"mes_coleta\": 4, \"ordem\": \"Squamata\", \"counts\": 34}, {\"ano_coleta\": 2014, \"mes_coleta\": 5, \"ordem\": \"Crocodylia\", \"counts\": 1}, {\"ano_coleta\": 2014, \"mes_coleta\": 5, \"ordem\": \"Squamata\", \"counts\": 26}, {\"ano_coleta\": 2014, \"mes_coleta\": 5, \"ordem\": \"Testudines\", \"counts\": 1}, {\"ano_coleta\": 2014, \"mes_coleta\": 6, \"ordem\": \"Squamata\", \"counts\": 16}, {\"ano_coleta\": 2014, \"mes_coleta\": 7, \"ordem\": \"Squamata\", \"counts\": 9}, {\"ano_coleta\": 2014, \"mes_coleta\": 8, \"ordem\": \"Squamata\", \"counts\": 39}, {\"ano_coleta\": 2014, \"mes_coleta\": 9, \"ordem\": \"Squamata\", \"counts\": 14}, {\"ano_coleta\": 2014, \"mes_coleta\": 9, \"ordem\": \"Testudines\", \"counts\": 1}, {\"ano_coleta\": 2014, \"mes_coleta\": 10, \"ordem\": \"Squamata\", \"counts\": 30}, {\"ano_coleta\": 2014, \"mes_coleta\": 11, \"ordem\": \"Squamata\", \"counts\": 27}, {\"ano_coleta\": 2014, \"mes_coleta\": 12, \"ordem\": \"Squamata\", \"counts\": 48}, {\"ano_coleta\": 2015, \"mes_coleta\": 1, \"ordem\": \"Squamata\", \"counts\": 306}, {\"ano_coleta\": 2015, \"mes_coleta\": 2, \"ordem\": \"Squamata\", \"counts\": 58}, {\"ano_coleta\": 2015, \"mes_coleta\": 3, \"ordem\": \"Squamata\", \"counts\": 35}, {\"ano_coleta\": 2015, \"mes_coleta\": 4, \"ordem\": \"Squamata\", \"counts\": 13}, {\"ano_coleta\": 2015, \"mes_coleta\": 5, \"ordem\": \"Squamata\", \"counts\": 32}, {\"ano_coleta\": 2015, \"mes_coleta\": 6, \"ordem\": \"Squamata\", \"counts\": 8}, {\"ano_coleta\": 2015, \"mes_coleta\": 7, \"ordem\": \"Squamata\", \"counts\": 6}, {\"ano_coleta\": 2015, \"mes_coleta\": 8, \"ordem\": \"Squamata\", \"counts\": 12}, {\"ano_coleta\": 2015, \"mes_coleta\": 9, \"ordem\": \"Squamata\", \"counts\": 48}, {\"ano_coleta\": 2015, \"mes_coleta\": 10, \"ordem\": \"Squamata\", \"counts\": 14}, {\"ano_coleta\": 2015, \"mes_coleta\": 11, \"ordem\": \"Squamata\", \"counts\": 23}, {\"ano_coleta\": 2015, \"mes_coleta\": 12, \"ordem\": \"Squamata\", \"counts\": 34}, {\"ano_coleta\": 2016, \"mes_coleta\": 1, \"ordem\": \"Squamata\", \"counts\": 47}, {\"ano_coleta\": 2016, \"mes_coleta\": 2, \"ordem\": \"Squamata\", \"counts\": 23}, {\"ano_coleta\": 2016, \"mes_coleta\": 3, \"ordem\": \"Squamata\", \"counts\": 20}, {\"ano_coleta\": 2016, \"mes_coleta\": 4, \"ordem\": \"Squamata\", \"counts\": 20}, {\"ano_coleta\": 2016, \"mes_coleta\": 5, \"ordem\": \"Squamata\", \"counts\": 3}, {\"ano_coleta\": 2016, \"mes_coleta\": 5, \"ordem\": \"Testudines\", \"counts\": 1}, {\"ano_coleta\": 2016, \"mes_coleta\": 6, \"ordem\": \"Squamata\", \"counts\": 10}, {\"ano_coleta\": 2016, \"mes_coleta\": 8, \"ordem\": \"Testudines\", \"counts\": 1}]}}, {\"mode\": \"vega-lite\"});\n",
       "</script>"
      ],
      "text/plain": [
       "alt.FacetChart(...)"
      ]
     },
     "execution_count": 176,
     "metadata": {},
     "output_type": "execute_result"
    }
   ],
   "source": [
    "temp = alt.Chart(counts[(~counts['ordem'].isna()) & (counts['ordem'] != 'Caudata')], title=f'Total of collected animals per month/year',\n",
    "             width=1200, height=200).mark_rect().encode(\n",
    "        y = alt.Y('mes_coleta', type='ordinal', title='Collected Month',\n",
    "                  sort= alt.EncodingSortField('mes_coleta', order='descending')),\n",
    "        x = alt.X('ano_coleta', type='ordinal', title='Collected Year',\n",
    "                 scale= alt.Scale(domain=anos)),\n",
    "        color= alt.Color('counts', title='Counts'),\n",
    "        tooltip = alt.Tooltip(['counts', 'ano_coleta', 'mes_coleta'])\n",
    ")\n",
    "\n",
    "temp.facet(row='ordem').resolve_scale(x='independent').resolve_legend('independent').save('./graphs/seasonality/order/season-facetado.html')\n",
    "\n",
    "temp.facet(row='ordem').resolve_scale(x='independent').resolve_legend('independent')"
   ]
  },
  {
   "cell_type": "code",
   "execution_count": 181,
   "metadata": {
    "ExecuteTime": {
     "end_time": "2020-07-15T13:54:54.054326Z",
     "start_time": "2020-07-15T13:54:54.050690Z"
    }
   },
   "outputs": [],
   "source": [
    "# range para escala de cores\n",
    "min_ct = counts['counts'].min()\n",
    "max_ct = counts['counts'].max()"
   ]
  },
  {
   "cell_type": "code",
   "execution_count": 183,
   "metadata": {
    "ExecuteTime": {
     "end_time": "2020-07-15T13:55:36.164720Z",
     "start_time": "2020-07-15T13:55:35.981837Z"
    }
   },
   "outputs": [],
   "source": [
    "# fazendo gráficos independentes\n",
    "for ordem in ordens:\n",
    "    temp = alt.Chart(counts[counts['ordem'] == ordem], title=f'Total of collected {ordem} per month/year',\n",
    "             width=1200, height=200).mark_rect().encode(\n",
    "        y = alt.Y('mes_coleta', type='ordinal', title='Collected Month',\n",
    "                  sort= alt.EncodingSortField('mes_coleta', order='descending')),\n",
    "        x = alt.X('ano_coleta', type='ordinal', title='Collected Year',\n",
    "                 scale= alt.Scale(domain=anos)),\n",
    "        color= alt.Color('counts', title='Counts', scale=alt.Scale(domain=list(range(min_ct, max_ct)))),\n",
    "        tooltip = alt.Tooltip(['counts', 'ano_coleta', 'mes_coleta'])\n",
    "    )\n",
    "    \n",
    "    temp.save(f'./graphs/seasonality/order/season-{ordem}.html')"
   ]
  },
  {
   "cell_type": "markdown",
   "metadata": {},
   "source": [
    "<br>\n",
    "\n",
    "### counts over time (per family)"
   ]
  },
  {
   "cell_type": "code",
   "execution_count": 195,
   "metadata": {
    "ExecuteTime": {
     "end_time": "2020-07-15T14:05:05.381083Z",
     "start_time": "2020-07-15T14:05:05.289257Z"
    }
   },
   "outputs": [],
   "source": [
    "counts = NewTable.dropna(subset=['ano_coleta', 'mes_coleta'], how='all')\n",
    "\n",
    "counts = counts.groupby(['ano_coleta', 'mes_coleta', 'familia']).count()['class'].reset_index().rename(\n",
    "                                                                            columns={'class':'counts'})\n",
    "\n",
    "counts['ano_coleta'] = counts['ano_coleta'].astype(int)\n",
    "counts['mes_coleta'] = counts['mes_coleta'].astype(int)"
   ]
  },
  {
   "cell_type": "code",
   "execution_count": 197,
   "metadata": {
    "ExecuteTime": {
     "end_time": "2020-07-15T14:05:23.449867Z",
     "start_time": "2020-07-15T14:05:23.439471Z"
    }
   },
   "outputs": [],
   "source": [
    "top_familias = list(counts['familia'].value_counts().index[:15])\n",
    "\n",
    "# range para escala de cores\n",
    "min_ct = counts['counts'].min()\n",
    "max_ct = counts['counts'].max()"
   ]
  },
  {
   "cell_type": "code",
   "execution_count": 186,
   "metadata": {
    "ExecuteTime": {
     "end_time": "2020-07-15T13:59:07.349794Z",
     "start_time": "2020-07-15T13:59:06.731429Z"
    }
   },
   "outputs": [],
   "source": [
    "for familia in top_familias:\n",
    "\n",
    "    temp = alt.Chart(counts[counts['familia'] == familia], \n",
    "                     title=f'Total of collected {familia} per month/year').mark_rect().encode(\n",
    "        y = alt.Y('mes_coleta', type='ordinal', title='Collected Month',\n",
    "                  sort= alt.EncodingSortField('mes_coleta', order='descending')),\n",
    "        x = alt.X('ano_coleta', type='ordinal', title='Collected Year',\n",
    "                 scale= alt.Scale(domain=anos)),\n",
    "        color= alt.Color('counts', title='Counts', scale=alt.Scale(domain=list(range(min_ct, max_ct)))),\n",
    "        tooltip = alt.Tooltip(['counts', 'ano_coleta', 'mes_coleta'])\n",
    "    )\n",
    "    \n",
    "    temp.save(f'./graphs/seasonality/family/season-{familia}.html')\n",
    "\n",
    "# .facet(row='familia').resolve_scale(x='independent')"
   ]
  },
  {
   "cell_type": "markdown",
   "metadata": {},
   "source": [
    "<br>\n",
    "\n",
    "**versão facetada**\n",
    "\n",
    "OBS: está com problema"
   ]
  },
  {
   "cell_type": "code",
   "execution_count": 212,
   "metadata": {
    "ExecuteTime": {
     "end_time": "2020-07-15T14:30:21.691413Z",
     "start_time": "2020-07-15T14:30:21.688672Z"
    }
   },
   "outputs": [],
   "source": [
    "# temp = alt.Chart(counts[counts['familia'].isin(top_familias)], \n",
    "#                  title='Total of collected animals per month/year').mark_rect().encode(\n",
    "#     y = alt.Y('mes_coleta', type='ordinal', title='Collected Month',\n",
    "#               sort= alt.EncodingSortField('mes_coleta', order='descending')),\n",
    "#     x = alt.X('ano_coleta', type='ordinal', title='Collected Year',\n",
    "#              scale= alt.Scale(domain=anos)),\n",
    "#     color= alt.Color('counts', title='Counts', scale=alt.Scale(domain=list(range(min_ct, max_ct)))),\n",
    "#     tooltip = alt.Tooltip(['counts', 'ano_coleta', 'mes_coleta'])\n",
    "# )\n",
    "\n",
    "# temp.facet(row='familia').resolve_legend('independent').resolve_scale(x='independent')"
   ]
  },
  {
   "cell_type": "markdown",
   "metadata": {},
   "source": [
    "-----\n",
    "\n",
    "**That's it!**"
   ]
  }
 ],
 "metadata": {
  "kernelspec": {
   "display_name": "Python [conda env:viz] *",
   "language": "python",
   "name": "conda-env-viz-py"
  },
  "language_info": {
   "codemirror_mode": {
    "name": "ipython",
    "version": 3
   },
   "file_extension": ".py",
   "mimetype": "text/x-python",
   "name": "python",
   "nbconvert_exporter": "python",
   "pygments_lexer": "ipython3",
   "version": "3.8.2"
  },
  "latex_envs": {
   "LaTeX_envs_menu_present": true,
   "autoclose": false,
   "autocomplete": true,
   "bibliofile": "biblio.bib",
   "cite_by": "apalike",
   "current_citInitial": 1,
   "eqLabelWithNumbers": true,
   "eqNumInitial": 1,
   "hotkeys": {
    "equation": "Ctrl-E",
    "itemize": "Ctrl-I"
   },
   "labels_anchors": false,
   "latex_user_defs": false,
   "report_style_numbering": false,
   "user_envs_cfg": false
  },
  "varInspector": {
   "cols": {
    "lenName": 16,
    "lenType": 16,
    "lenVar": 40
   },
   "kernels_config": {
    "python": {
     "delete_cmd_postfix": "",
     "delete_cmd_prefix": "del ",
     "library": "var_list.py",
     "varRefreshCmd": "print(var_dic_list())"
    },
    "r": {
     "delete_cmd_postfix": ") ",
     "delete_cmd_prefix": "rm(",
     "library": "var_list.r",
     "varRefreshCmd": "cat(var_dic_list()) "
    }
   },
   "types_to_exclude": [
    "module",
    "function",
    "builtin_function_or_method",
    "instance",
    "_Feature"
   ],
   "window_display": false
  }
 },
 "nbformat": 4,
 "nbformat_minor": 4
}
