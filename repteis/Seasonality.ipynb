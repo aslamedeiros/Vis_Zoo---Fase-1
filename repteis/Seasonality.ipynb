{
 "cells": [
  {
   "cell_type": "markdown",
   "metadata": {},
   "source": [
    "# Seasonality\n",
    "\n",
    "By **Franklin Oliveira**\n",
    "\n",
    "-----\n",
    "\n",
    "This notebook contains Python code to generate seasonality visualizations on the `repteis` database. Here you'll find some basic data treatment and adjustments that presented necessary to make adjustments for the graph. <font color='blue'>'Compilacao Livros Repteis - 2 a 10 - 2020_04_28.xls'</font>."
   ]
  },
  {
   "cell_type": "code",
   "execution_count": 1,
   "metadata": {
    "ExecuteTime": {
     "end_time": "2021-01-06T21:41:53.867224Z",
     "start_time": "2021-01-06T21:41:52.958469Z"
    }
   },
   "outputs": [
    {
     "data": {
      "text/plain": [
       "DataTransformerRegistry.enable('default')"
      ]
     },
     "execution_count": 1,
     "metadata": {},
     "output_type": "execute_result"
    }
   ],
   "source": [
    "import datetime\n",
    "import numpy as np\n",
    "import pandas as pd\n",
    "\n",
    "from collections import defaultdict\n",
    "\n",
    "# pacotes para visualização rápida\n",
    "import seaborn as sns\n",
    "import matplotlib.pyplot as plt\n",
    "\n",
    "# pacote para visualização principal\n",
    "import altair as alt\n",
    "\n",
    "# habilitando renderizador para notebook\n",
    "# alt.renderers.enable('notebook')\n",
    "# alt.renderers.enable('default')\n",
    "\n",
    "\n",
    "# desabilitando limite de linhas\n",
    "alt.data_transformers.disable_max_rows()"
   ]
  },
  {
   "cell_type": "markdown",
   "metadata": {},
   "source": [
    "## Importing data..."
   ]
  },
  {
   "cell_type": "code",
   "execution_count": 2,
   "metadata": {
    "ExecuteTime": {
     "end_time": "2021-01-06T21:41:55.113880Z",
     "start_time": "2021-01-06T21:41:54.941499Z"
    }
   },
   "outputs": [
    {
     "name": "stderr",
     "output_type": "stream",
     "text": [
      "/home/franklin/anaconda3/envs/viz/lib/python3.9/site-packages/IPython/core/interactiveshell.py:3146: DtypeWarning: Columns (2,45) have mixed types.Specify dtype option on import or set low_memory=False.\n",
      "  has_raised = await self.run_ast_nodes(code_ast.body, cell_name,\n"
     ]
    }
   ],
   "source": [
    "NewTable = pd.read_csv('./data/treated_db.csv', sep=';', encoding='utf-8-sig')"
   ]
  },
  {
   "cell_type": "markdown",
   "metadata": {},
   "source": [
    "<br>\n",
    "\n",
    "<font size=5>**Paleta de cores por Ordem**</font>\n",
    "\n",
    "Abaixo está a imagem usada como inspiração (https://color.adobe.com/create/image)\n",
    "\n",
    "<img src=\"./src/paleta_cores.jpeg\" width='500px'>\n",
    "\n",
    "Cores: \n",
    "\n",
    "- verde_escuro: #284021\n",
    "- verde_claro: #88BF11\n",
    "- amarelo: #D9CB0B\n",
    "- laranja: #D99311\n",
    "- laranja_escuro: #BF4417\n",
    "- marrom-_laro: #BF8D7A"
   ]
  },
  {
   "cell_type": "code",
   "execution_count": 3,
   "metadata": {
    "ExecuteTime": {
     "end_time": "2021-01-06T21:42:03.946270Z",
     "start_time": "2021-01-06T21:42:03.939564Z"
    }
   },
   "outputs": [],
   "source": [
    "# p.s.: caudata is an error and should be removed. \n",
    "cores_ordem = {\n",
    "    'Squamata': '#BF4417',\n",
    "    'Testudines': '#D9CB0B', \n",
    "    'Crocodylia': '#284021'\n",
    "}\n",
    "\n",
    "ordens = list(cores_ordem.keys())\n",
    "cores = list(cores_ordem.values())"
   ]
  },
  {
   "cell_type": "markdown",
   "metadata": {},
   "source": [
    "<br>\n",
    "\n",
    "## Graphs\n",
    "\n",
    "### Total counts over time\n",
    "\n",
    "<font color='red' size='4'>Idea given by Ronaldo: add marginal histograms </font>"
   ]
  },
  {
   "cell_type": "code",
   "execution_count": 4,
   "metadata": {
    "ExecuteTime": {
     "end_time": "2021-01-06T21:42:05.721053Z",
     "start_time": "2021-01-06T21:42:05.593373Z"
    }
   },
   "outputs": [],
   "source": [
    "# removing NaN\n",
    "counts = NewTable.dropna(subset=['ano_coleta', 'mes_coleta'], how='all')\n",
    "\n",
    "# grouping \n",
    "counts = counts.groupby(['ano_coleta', 'mes_coleta']).count()['class'].reset_index().rename(\n",
    "                                                                            columns={'class':'counts'})\n",
    "\n",
    "# making sure month and year cols are int \n",
    "counts['ano_coleta'] = counts['ano_coleta'].astype(int)\n",
    "counts['mes_coleta'] = counts['mes_coleta'].astype(int)"
   ]
  },
  {
   "cell_type": "code",
   "execution_count": 7,
   "metadata": {
    "ExecuteTime": {
     "end_time": "2021-01-06T21:42:23.466620Z",
     "start_time": "2021-01-06T21:42:23.425968Z"
    }
   },
   "outputs": [
    {
     "data": {
      "text/html": [
       "\n",
       "<div id=\"altair-viz-9fe127af87954fc2967cc1d245a63afb\"></div>\n",
       "<script type=\"text/javascript\">\n",
       "  (function(spec, embedOpt){\n",
       "    let outputDiv = document.currentScript.previousElementSibling;\n",
       "    if (outputDiv.id !== \"altair-viz-9fe127af87954fc2967cc1d245a63afb\") {\n",
       "      outputDiv = document.getElementById(\"altair-viz-9fe127af87954fc2967cc1d245a63afb\");\n",
       "    }\n",
       "    const paths = {\n",
       "      \"vega\": \"https://cdn.jsdelivr.net/npm//vega@5?noext\",\n",
       "      \"vega-lib\": \"https://cdn.jsdelivr.net/npm//vega-lib?noext\",\n",
       "      \"vega-lite\": \"https://cdn.jsdelivr.net/npm//vega-lite@4.8.1?noext\",\n",
       "      \"vega-embed\": \"https://cdn.jsdelivr.net/npm//vega-embed@6?noext\",\n",
       "    };\n",
       "\n",
       "    function loadScript(lib) {\n",
       "      return new Promise(function(resolve, reject) {\n",
       "        var s = document.createElement('script');\n",
       "        s.src = paths[lib];\n",
       "        s.async = true;\n",
       "        s.onload = () => resolve(paths[lib]);\n",
       "        s.onerror = () => reject(`Error loading script: ${paths[lib]}`);\n",
       "        document.getElementsByTagName(\"head\")[0].appendChild(s);\n",
       "      });\n",
       "    }\n",
       "\n",
       "    function showError(err) {\n",
       "      outputDiv.innerHTML = `<div class=\"error\" style=\"color:red;\">${err}</div>`;\n",
       "      throw err;\n",
       "    }\n",
       "\n",
       "    function displayChart(vegaEmbed) {\n",
       "      vegaEmbed(outputDiv, spec, embedOpt)\n",
       "        .catch(err => showError(`Javascript Error: ${err.message}<br>This usually means there's a typo in your chart specification. See the javascript console for the full traceback.`));\n",
       "    }\n",
       "\n",
       "    if(typeof define === \"function\" && define.amd) {\n",
       "      requirejs.config({paths});\n",
       "      require([\"vega-embed\"], displayChart, err => showError(`Error loading script: ${err.message}`));\n",
       "    } else if (typeof vegaEmbed === \"function\") {\n",
       "      displayChart(vegaEmbed);\n",
       "    } else {\n",
       "      loadScript(\"vega\")\n",
       "        .then(() => loadScript(\"vega-lite\"))\n",
       "        .then(() => loadScript(\"vega-embed\"))\n",
       "        .catch(showError)\n",
       "        .then(() => displayChart(vegaEmbed));\n",
       "    }\n",
       "  })({\"config\": {\"view\": {\"continuousWidth\": 400, \"continuousHeight\": 300}, \"axis\": {\"labelFontSize\": 12, \"titleFontSize\": 12}, \"legend\": {\"labelFontSize\": 12, \"titleFontSize\": 12}, \"title\": {\"fontSize\": 16}}, \"data\": {\"name\": \"data-b16ee288b2d8209bab2c82439ad252be\"}, \"mark\": \"rect\", \"encoding\": {\"color\": {\"type\": \"quantitative\", \"field\": \"counts\", \"scale\": {\"scheme\": \"yellowgreenblue\"}, \"title\": \"Counts\"}, \"tooltip\": [{\"type\": \"quantitative\", \"field\": \"counts\"}, {\"type\": \"quantitative\", \"field\": \"ano_coleta\"}, {\"type\": \"quantitative\", \"field\": \"mes_coleta\"}], \"x\": {\"type\": \"ordinal\", \"field\": \"ano_coleta\", \"title\": \"Collected Year\"}, \"y\": {\"type\": \"ordinal\", \"field\": \"mes_coleta\", \"sort\": {\"field\": \"mes_coleta\", \"order\": \"descending\"}, \"title\": \"Collected Month\"}}, \"height\": 200, \"title\": \"Total of collected animals per month/year\", \"width\": 1200, \"$schema\": \"https://vega.github.io/schema/vega-lite/v4.8.1.json\", \"datasets\": {\"data-b16ee288b2d8209bab2c82439ad252be\": [{\"ano_coleta\": 0, \"mes_coleta\": 5, \"counts\": 1}, {\"ano_coleta\": 0, \"mes_coleta\": 6, \"counts\": 1}, {\"ano_coleta\": 0, \"mes_coleta\": 7, \"counts\": 1}, {\"ano_coleta\": 0, \"mes_coleta\": 11, \"counts\": 2}, {\"ano_coleta\": 1824, \"mes_coleta\": 0, \"counts\": 1}, {\"ano_coleta\": 1876, \"mes_coleta\": 0, \"counts\": 74}, {\"ano_coleta\": 1901, \"mes_coleta\": 4, \"counts\": 1}, {\"ano_coleta\": 1901, \"mes_coleta\": 9, \"counts\": 1}, {\"ano_coleta\": 1901, \"mes_coleta\": 11, \"counts\": 1}, {\"ano_coleta\": 1902, \"mes_coleta\": 2, \"counts\": 1}, {\"ano_coleta\": 1902, \"mes_coleta\": 11, \"counts\": 1}, {\"ano_coleta\": 1903, \"mes_coleta\": 7, \"counts\": 1}, {\"ano_coleta\": 1905, \"mes_coleta\": 6, \"counts\": 1}, {\"ano_coleta\": 1906, \"mes_coleta\": 11, \"counts\": 1}, {\"ano_coleta\": 1907, \"mes_coleta\": 0, \"counts\": 3}, {\"ano_coleta\": 1907, \"mes_coleta\": 8, \"counts\": 1}, {\"ano_coleta\": 1912, \"mes_coleta\": 4, \"counts\": 1}, {\"ano_coleta\": 1912, \"mes_coleta\": 6, \"counts\": 1}, {\"ano_coleta\": 1912, \"mes_coleta\": 9, \"counts\": 1}, {\"ano_coleta\": 1912, \"mes_coleta\": 11, \"counts\": 1}, {\"ano_coleta\": 1913, \"mes_coleta\": 0, \"counts\": 1}, {\"ano_coleta\": 1913, \"mes_coleta\": 7, \"counts\": 1}, {\"ano_coleta\": 1914, \"mes_coleta\": 4, \"counts\": 1}, {\"ano_coleta\": 1915, \"mes_coleta\": 5, \"counts\": 1}, {\"ano_coleta\": 1915, \"mes_coleta\": 7, \"counts\": 1}, {\"ano_coleta\": 1915, \"mes_coleta\": 12, \"counts\": 4}, {\"ano_coleta\": 1916, \"mes_coleta\": 0, \"counts\": 2}, {\"ano_coleta\": 1916, \"mes_coleta\": 8, \"counts\": 1}, {\"ano_coleta\": 1917, \"mes_coleta\": 6, \"counts\": 1}, {\"ano_coleta\": 1919, \"mes_coleta\": 4, \"counts\": 2}, {\"ano_coleta\": 1919, \"mes_coleta\": 7, \"counts\": 1}, {\"ano_coleta\": 1922, \"mes_coleta\": 8, \"counts\": 2}, {\"ano_coleta\": 1923, \"mes_coleta\": 0, \"counts\": 3}, {\"ano_coleta\": 1924, \"mes_coleta\": 1, \"counts\": 1}, {\"ano_coleta\": 1925, \"mes_coleta\": 1, \"counts\": 1}, {\"ano_coleta\": 1926, \"mes_coleta\": 4, \"counts\": 1}, {\"ano_coleta\": 1928, \"mes_coleta\": 0, \"counts\": 1}, {\"ano_coleta\": 1931, \"mes_coleta\": 2, \"counts\": 2}, {\"ano_coleta\": 1932, \"mes_coleta\": 12, \"counts\": 1}, {\"ano_coleta\": 1933, \"mes_coleta\": 3, \"counts\": 3}, {\"ano_coleta\": 1935, \"mes_coleta\": 9, \"counts\": 1}, {\"ano_coleta\": 1935, \"mes_coleta\": 10, \"counts\": 1}, {\"ano_coleta\": 1936, \"mes_coleta\": 5, \"counts\": 1}, {\"ano_coleta\": 1936, \"mes_coleta\": 6, \"counts\": 1}, {\"ano_coleta\": 1936, \"mes_coleta\": 8, \"counts\": 1}, {\"ano_coleta\": 1937, \"mes_coleta\": 0, \"counts\": 6}, {\"ano_coleta\": 1937, \"mes_coleta\": 1, \"counts\": 1}, {\"ano_coleta\": 1937, \"mes_coleta\": 7, \"counts\": 1}, {\"ano_coleta\": 1937, \"mes_coleta\": 12, \"counts\": 21}, {\"ano_coleta\": 1938, \"mes_coleta\": 0, \"counts\": 1}, {\"ano_coleta\": 1939, \"mes_coleta\": 0, \"counts\": 8}, {\"ano_coleta\": 1939, \"mes_coleta\": 9, \"counts\": 1}, {\"ano_coleta\": 1939, \"mes_coleta\": 10, \"counts\": 28}, {\"ano_coleta\": 1939, \"mes_coleta\": 11, \"counts\": 168}, {\"ano_coleta\": 1940, \"mes_coleta\": 0, \"counts\": 7}, {\"ano_coleta\": 1940, \"mes_coleta\": 1, \"counts\": 2}, {\"ano_coleta\": 1940, \"mes_coleta\": 2, \"counts\": 2}, {\"ano_coleta\": 1940, \"mes_coleta\": 3, \"counts\": 3}, {\"ano_coleta\": 1940, \"mes_coleta\": 5, \"counts\": 1}, {\"ano_coleta\": 1940, \"mes_coleta\": 7, \"counts\": 7}, {\"ano_coleta\": 1940, \"mes_coleta\": 8, \"counts\": 30}, {\"ano_coleta\": 1940, \"mes_coleta\": 11, \"counts\": 2}, {\"ano_coleta\": 1940, \"mes_coleta\": 12, \"counts\": 1}, {\"ano_coleta\": 1941, \"mes_coleta\": 0, \"counts\": 1}, {\"ano_coleta\": 1941, \"mes_coleta\": 2, \"counts\": 4}, {\"ano_coleta\": 1941, \"mes_coleta\": 3, \"counts\": 2}, {\"ano_coleta\": 1941, \"mes_coleta\": 7, \"counts\": 6}, {\"ano_coleta\": 1941, \"mes_coleta\": 9, \"counts\": 2}, {\"ano_coleta\": 1941, \"mes_coleta\": 11, \"counts\": 2}, {\"ano_coleta\": 1942, \"mes_coleta\": 0, \"counts\": 18}, {\"ano_coleta\": 1942, \"mes_coleta\": 2, \"counts\": 104}, {\"ano_coleta\": 1942, \"mes_coleta\": 3, \"counts\": 72}, {\"ano_coleta\": 1942, \"mes_coleta\": 4, \"counts\": 2}, {\"ano_coleta\": 1942, \"mes_coleta\": 5, \"counts\": 11}, {\"ano_coleta\": 1942, \"mes_coleta\": 6, \"counts\": 22}, {\"ano_coleta\": 1942, \"mes_coleta\": 7, \"counts\": 7}, {\"ano_coleta\": 1942, \"mes_coleta\": 9, \"counts\": 6}, {\"ano_coleta\": 1942, \"mes_coleta\": 10, \"counts\": 4}, {\"ano_coleta\": 1942, \"mes_coleta\": 11, \"counts\": 1}, {\"ano_coleta\": 1942, \"mes_coleta\": 12, \"counts\": 15}, {\"ano_coleta\": 1943, \"mes_coleta\": 0, \"counts\": 51}, {\"ano_coleta\": 1943, \"mes_coleta\": 1, \"counts\": 5}, {\"ano_coleta\": 1943, \"mes_coleta\": 2, \"counts\": 1}, {\"ano_coleta\": 1943, \"mes_coleta\": 3, \"counts\": 12}, {\"ano_coleta\": 1943, \"mes_coleta\": 4, \"counts\": 1}, {\"ano_coleta\": 1943, \"mes_coleta\": 5, \"counts\": 4}, {\"ano_coleta\": 1943, \"mes_coleta\": 6, \"counts\": 1}, {\"ano_coleta\": 1943, \"mes_coleta\": 7, \"counts\": 4}, {\"ano_coleta\": 1943, \"mes_coleta\": 8, \"counts\": 17}, {\"ano_coleta\": 1943, \"mes_coleta\": 10, \"counts\": 7}, {\"ano_coleta\": 1943, \"mes_coleta\": 11, \"counts\": 9}, {\"ano_coleta\": 1944, \"mes_coleta\": 0, \"counts\": 22}, {\"ano_coleta\": 1944, \"mes_coleta\": 1, \"counts\": 6}, {\"ano_coleta\": 1944, \"mes_coleta\": 2, \"counts\": 6}, {\"ano_coleta\": 1944, \"mes_coleta\": 3, \"counts\": 24}, {\"ano_coleta\": 1944, \"mes_coleta\": 4, \"counts\": 8}, {\"ano_coleta\": 1944, \"mes_coleta\": 6, \"counts\": 3}, {\"ano_coleta\": 1944, \"mes_coleta\": 8, \"counts\": 4}, {\"ano_coleta\": 1944, \"mes_coleta\": 9, \"counts\": 10}, {\"ano_coleta\": 1944, \"mes_coleta\": 10, \"counts\": 65}, {\"ano_coleta\": 1944, \"mes_coleta\": 11, \"counts\": 11}, {\"ano_coleta\": 1944, \"mes_coleta\": 12, \"counts\": 2}, {\"ano_coleta\": 1945, \"mes_coleta\": 0, \"counts\": 4}, {\"ano_coleta\": 1945, \"mes_coleta\": 1, \"counts\": 349}, {\"ano_coleta\": 1945, \"mes_coleta\": 2, \"counts\": 6}, {\"ano_coleta\": 1945, \"mes_coleta\": 3, \"counts\": 7}, {\"ano_coleta\": 1945, \"mes_coleta\": 4, \"counts\": 3}, {\"ano_coleta\": 1945, \"mes_coleta\": 5, \"counts\": 3}, {\"ano_coleta\": 1945, \"mes_coleta\": 8, \"counts\": 1}, {\"ano_coleta\": 1945, \"mes_coleta\": 10, \"counts\": 13}, {\"ano_coleta\": 1945, \"mes_coleta\": 11, \"counts\": 2}, {\"ano_coleta\": 1945, \"mes_coleta\": 12, \"counts\": 3}, {\"ano_coleta\": 1946, \"mes_coleta\": 0, \"counts\": 3}, {\"ano_coleta\": 1946, \"mes_coleta\": 1, \"counts\": 2}, {\"ano_coleta\": 1946, \"mes_coleta\": 2, \"counts\": 4}, {\"ano_coleta\": 1946, \"mes_coleta\": 3, \"counts\": 4}, {\"ano_coleta\": 1946, \"mes_coleta\": 4, \"counts\": 11}, {\"ano_coleta\": 1946, \"mes_coleta\": 5, \"counts\": 1}, {\"ano_coleta\": 1946, \"mes_coleta\": 8, \"counts\": 1}, {\"ano_coleta\": 1946, \"mes_coleta\": 10, \"counts\": 16}, {\"ano_coleta\": 1946, \"mes_coleta\": 11, \"counts\": 8}, {\"ano_coleta\": 1946, \"mes_coleta\": 12, \"counts\": 1}, {\"ano_coleta\": 1947, \"mes_coleta\": 0, \"counts\": 49}, {\"ano_coleta\": 1947, \"mes_coleta\": 1, \"counts\": 6}, {\"ano_coleta\": 1947, \"mes_coleta\": 2, \"counts\": 2}, {\"ano_coleta\": 1947, \"mes_coleta\": 3, \"counts\": 5}, {\"ano_coleta\": 1947, \"mes_coleta\": 4, \"counts\": 6}, {\"ano_coleta\": 1947, \"mes_coleta\": 5, \"counts\": 6}, {\"ano_coleta\": 1947, \"mes_coleta\": 6, \"counts\": 9}, {\"ano_coleta\": 1947, \"mes_coleta\": 8, \"counts\": 6}, {\"ano_coleta\": 1947, \"mes_coleta\": 9, \"counts\": 1}, {\"ano_coleta\": 1947, \"mes_coleta\": 10, \"counts\": 8}, {\"ano_coleta\": 1947, \"mes_coleta\": 11, \"counts\": 2}, {\"ano_coleta\": 1947, \"mes_coleta\": 12, \"counts\": 2}, {\"ano_coleta\": 1948, \"mes_coleta\": 0, \"counts\": 19}, {\"ano_coleta\": 1948, \"mes_coleta\": 1, \"counts\": 7}, {\"ano_coleta\": 1948, \"mes_coleta\": 2, \"counts\": 2}, {\"ano_coleta\": 1948, \"mes_coleta\": 5, \"counts\": 2}, {\"ano_coleta\": 1948, \"mes_coleta\": 6, \"counts\": 2}, {\"ano_coleta\": 1948, \"mes_coleta\": 7, \"counts\": 13}, {\"ano_coleta\": 1948, \"mes_coleta\": 8, \"counts\": 5}, {\"ano_coleta\": 1948, \"mes_coleta\": 10, \"counts\": 54}, {\"ano_coleta\": 1948, \"mes_coleta\": 12, \"counts\": 2}, {\"ano_coleta\": 1949, \"mes_coleta\": 0, \"counts\": 3}, {\"ano_coleta\": 1949, \"mes_coleta\": 1, \"counts\": 1}, {\"ano_coleta\": 1949, \"mes_coleta\": 3, \"counts\": 3}, {\"ano_coleta\": 1949, \"mes_coleta\": 5, \"counts\": 3}, {\"ano_coleta\": 1949, \"mes_coleta\": 7, \"counts\": 6}, {\"ano_coleta\": 1949, \"mes_coleta\": 8, \"counts\": 7}, {\"ano_coleta\": 1949, \"mes_coleta\": 9, \"counts\": 2}, {\"ano_coleta\": 1949, \"mes_coleta\": 12, \"counts\": 2}, {\"ano_coleta\": 1950, \"mes_coleta\": 0, \"counts\": 9}, {\"ano_coleta\": 1950, \"mes_coleta\": 1, \"counts\": 4}, {\"ano_coleta\": 1950, \"mes_coleta\": 5, \"counts\": 5}, {\"ano_coleta\": 1950, \"mes_coleta\": 6, \"counts\": 20}, {\"ano_coleta\": 1950, \"mes_coleta\": 7, \"counts\": 3}, {\"ano_coleta\": 1950, \"mes_coleta\": 9, \"counts\": 5}, {\"ano_coleta\": 1950, \"mes_coleta\": 11, \"counts\": 8}, {\"ano_coleta\": 1951, \"mes_coleta\": 0, \"counts\": 22}, {\"ano_coleta\": 1951, \"mes_coleta\": 7, \"counts\": 1}, {\"ano_coleta\": 1951, \"mes_coleta\": 9, \"counts\": 7}, {\"ano_coleta\": 1951, \"mes_coleta\": 10, \"counts\": 1}, {\"ano_coleta\": 1951, \"mes_coleta\": 12, \"counts\": 2}, {\"ano_coleta\": 1952, \"mes_coleta\": 1, \"counts\": 7}, {\"ano_coleta\": 1952, \"mes_coleta\": 2, \"counts\": 11}, {\"ano_coleta\": 1952, \"mes_coleta\": 3, \"counts\": 5}, {\"ano_coleta\": 1952, \"mes_coleta\": 4, \"counts\": 12}, {\"ano_coleta\": 1952, \"mes_coleta\": 5, \"counts\": 1}, {\"ano_coleta\": 1952, \"mes_coleta\": 7, \"counts\": 2}, {\"ano_coleta\": 1952, \"mes_coleta\": 8, \"counts\": 3}, {\"ano_coleta\": 1952, \"mes_coleta\": 9, \"counts\": 3}, {\"ano_coleta\": 1952, \"mes_coleta\": 10, \"counts\": 4}, {\"ano_coleta\": 1952, \"mes_coleta\": 11, \"counts\": 2}, {\"ano_coleta\": 1952, \"mes_coleta\": 12, \"counts\": 7}, {\"ano_coleta\": 1953, \"mes_coleta\": 0, \"counts\": 9}, {\"ano_coleta\": 1953, \"mes_coleta\": 1, \"counts\": 1}, {\"ano_coleta\": 1953, \"mes_coleta\": 4, \"counts\": 1}, {\"ano_coleta\": 1953, \"mes_coleta\": 5, \"counts\": 3}, {\"ano_coleta\": 1953, \"mes_coleta\": 6, \"counts\": 1}, {\"ano_coleta\": 1953, \"mes_coleta\": 7, \"counts\": 5}, {\"ano_coleta\": 1953, \"mes_coleta\": 9, \"counts\": 2}, {\"ano_coleta\": 1953, \"mes_coleta\": 10, \"counts\": 12}, {\"ano_coleta\": 1953, \"mes_coleta\": 11, \"counts\": 2}, {\"ano_coleta\": 1953, \"mes_coleta\": 12, \"counts\": 10}, {\"ano_coleta\": 1954, \"mes_coleta\": 0, \"counts\": 1}, {\"ano_coleta\": 1954, \"mes_coleta\": 1, \"counts\": 2}, {\"ano_coleta\": 1954, \"mes_coleta\": 2, \"counts\": 6}, {\"ano_coleta\": 1954, \"mes_coleta\": 3, \"counts\": 4}, {\"ano_coleta\": 1954, \"mes_coleta\": 4, \"counts\": 4}, {\"ano_coleta\": 1954, \"mes_coleta\": 5, \"counts\": 1}, {\"ano_coleta\": 1954, \"mes_coleta\": 6, \"counts\": 3}, {\"ano_coleta\": 1954, \"mes_coleta\": 7, \"counts\": 1}, {\"ano_coleta\": 1954, \"mes_coleta\": 10, \"counts\": 1}, {\"ano_coleta\": 1954, \"mes_coleta\": 11, \"counts\": 4}, {\"ano_coleta\": 1954, \"mes_coleta\": 12, \"counts\": 3}, {\"ano_coleta\": 1955, \"mes_coleta\": 0, \"counts\": 4}, {\"ano_coleta\": 1955, \"mes_coleta\": 1, \"counts\": 10}, {\"ano_coleta\": 1955, \"mes_coleta\": 2, \"counts\": 1}, {\"ano_coleta\": 1955, \"mes_coleta\": 3, \"counts\": 3}, {\"ano_coleta\": 1955, \"mes_coleta\": 4, \"counts\": 1}, {\"ano_coleta\": 1955, \"mes_coleta\": 5, \"counts\": 1}, {\"ano_coleta\": 1955, \"mes_coleta\": 7, \"counts\": 1}, {\"ano_coleta\": 1955, \"mes_coleta\": 10, \"counts\": 6}, {\"ano_coleta\": 1955, \"mes_coleta\": 11, \"counts\": 3}, {\"ano_coleta\": 1955, \"mes_coleta\": 12, \"counts\": 1}, {\"ano_coleta\": 1956, \"mes_coleta\": 1, \"counts\": 1}, {\"ano_coleta\": 1956, \"mes_coleta\": 2, \"counts\": 1}, {\"ano_coleta\": 1956, \"mes_coleta\": 3, \"counts\": 7}, {\"ano_coleta\": 1956, \"mes_coleta\": 4, \"counts\": 1}, {\"ano_coleta\": 1956, \"mes_coleta\": 5, \"counts\": 18}, {\"ano_coleta\": 1956, \"mes_coleta\": 6, \"counts\": 4}, {\"ano_coleta\": 1956, \"mes_coleta\": 7, \"counts\": 1}, {\"ano_coleta\": 1956, \"mes_coleta\": 8, \"counts\": 2}, {\"ano_coleta\": 1956, \"mes_coleta\": 9, \"counts\": 4}, {\"ano_coleta\": 1956, \"mes_coleta\": 10, \"counts\": 8}, {\"ano_coleta\": 1956, \"mes_coleta\": 11, \"counts\": 2}, {\"ano_coleta\": 1956, \"mes_coleta\": 12, \"counts\": 3}, {\"ano_coleta\": 1957, \"mes_coleta\": 0, \"counts\": 8}, {\"ano_coleta\": 1957, \"mes_coleta\": 1, \"counts\": 3}, {\"ano_coleta\": 1957, \"mes_coleta\": 2, \"counts\": 2}, {\"ano_coleta\": 1957, \"mes_coleta\": 3, \"counts\": 2}, {\"ano_coleta\": 1957, \"mes_coleta\": 4, \"counts\": 2}, {\"ano_coleta\": 1957, \"mes_coleta\": 5, \"counts\": 8}, {\"ano_coleta\": 1957, \"mes_coleta\": 6, \"counts\": 5}, {\"ano_coleta\": 1957, \"mes_coleta\": 7, \"counts\": 15}, {\"ano_coleta\": 1957, \"mes_coleta\": 8, \"counts\": 1}, {\"ano_coleta\": 1957, \"mes_coleta\": 9, \"counts\": 12}, {\"ano_coleta\": 1957, \"mes_coleta\": 10, \"counts\": 2}, {\"ano_coleta\": 1957, \"mes_coleta\": 11, \"counts\": 3}, {\"ano_coleta\": 1957, \"mes_coleta\": 12, \"counts\": 2}, {\"ano_coleta\": 1958, \"mes_coleta\": 0, \"counts\": 10}, {\"ano_coleta\": 1958, \"mes_coleta\": 1, \"counts\": 5}, {\"ano_coleta\": 1958, \"mes_coleta\": 2, \"counts\": 1}, {\"ano_coleta\": 1958, \"mes_coleta\": 3, \"counts\": 5}, {\"ano_coleta\": 1958, \"mes_coleta\": 4, \"counts\": 11}, {\"ano_coleta\": 1958, \"mes_coleta\": 5, \"counts\": 1}, {\"ano_coleta\": 1959, \"mes_coleta\": 0, \"counts\": 5}, {\"ano_coleta\": 1959, \"mes_coleta\": 2, \"counts\": 10}, {\"ano_coleta\": 1959, \"mes_coleta\": 3, \"counts\": 2}, {\"ano_coleta\": 1959, \"mes_coleta\": 4, \"counts\": 1}, {\"ano_coleta\": 1959, \"mes_coleta\": 6, \"counts\": 2}, {\"ano_coleta\": 1959, \"mes_coleta\": 7, \"counts\": 1}, {\"ano_coleta\": 1960, \"mes_coleta\": 0, \"counts\": 2}, {\"ano_coleta\": 1960, \"mes_coleta\": 2, \"counts\": 1}, {\"ano_coleta\": 1960, \"mes_coleta\": 6, \"counts\": 7}, {\"ano_coleta\": 1960, \"mes_coleta\": 7, \"counts\": 1}, {\"ano_coleta\": 1960, \"mes_coleta\": 9, \"counts\": 1}, {\"ano_coleta\": 1960, \"mes_coleta\": 10, \"counts\": 2}, {\"ano_coleta\": 1961, \"mes_coleta\": 0, \"counts\": 6}, {\"ano_coleta\": 1961, \"mes_coleta\": 2, \"counts\": 5}, {\"ano_coleta\": 1961, \"mes_coleta\": 5, \"counts\": 2}, {\"ano_coleta\": 1961, \"mes_coleta\": 6, \"counts\": 1}, {\"ano_coleta\": 1961, \"mes_coleta\": 10, \"counts\": 5}, {\"ano_coleta\": 1961, \"mes_coleta\": 11, \"counts\": 1}, {\"ano_coleta\": 1962, \"mes_coleta\": 1, \"counts\": 3}, {\"ano_coleta\": 1962, \"mes_coleta\": 4, \"counts\": 3}, {\"ano_coleta\": 1962, \"mes_coleta\": 5, \"counts\": 1}, {\"ano_coleta\": 1962, \"mes_coleta\": 10, \"counts\": 1}, {\"ano_coleta\": 1962, \"mes_coleta\": 12, \"counts\": 2}, {\"ano_coleta\": 1963, \"mes_coleta\": 0, \"counts\": 6}, {\"ano_coleta\": 1963, \"mes_coleta\": 1, \"counts\": 8}, {\"ano_coleta\": 1963, \"mes_coleta\": 2, \"counts\": 2}, {\"ano_coleta\": 1963, \"mes_coleta\": 3, \"counts\": 4}, {\"ano_coleta\": 1963, \"mes_coleta\": 4, \"counts\": 3}, {\"ano_coleta\": 1963, \"mes_coleta\": 7, \"counts\": 1}, {\"ano_coleta\": 1963, \"mes_coleta\": 8, \"counts\": 2}, {\"ano_coleta\": 1963, \"mes_coleta\": 9, \"counts\": 9}, {\"ano_coleta\": 1963, \"mes_coleta\": 11, \"counts\": 6}, {\"ano_coleta\": 1963, \"mes_coleta\": 12, \"counts\": 6}, {\"ano_coleta\": 1964, \"mes_coleta\": 0, \"counts\": 3}, {\"ano_coleta\": 1964, \"mes_coleta\": 1, \"counts\": 2}, {\"ano_coleta\": 1964, \"mes_coleta\": 2, \"counts\": 23}, {\"ano_coleta\": 1964, \"mes_coleta\": 3, \"counts\": 2}, {\"ano_coleta\": 1964, \"mes_coleta\": 5, \"counts\": 1}, {\"ano_coleta\": 1964, \"mes_coleta\": 6, \"counts\": 11}, {\"ano_coleta\": 1964, \"mes_coleta\": 7, \"counts\": 2}, {\"ano_coleta\": 1964, \"mes_coleta\": 8, \"counts\": 1}, {\"ano_coleta\": 1964, \"mes_coleta\": 10, \"counts\": 6}, {\"ano_coleta\": 1964, \"mes_coleta\": 11, \"counts\": 4}, {\"ano_coleta\": 1964, \"mes_coleta\": 12, \"counts\": 1}, {\"ano_coleta\": 1965, \"mes_coleta\": 0, \"counts\": 2}, {\"ano_coleta\": 1965, \"mes_coleta\": 1, \"counts\": 5}, {\"ano_coleta\": 1965, \"mes_coleta\": 2, \"counts\": 9}, {\"ano_coleta\": 1965, \"mes_coleta\": 5, \"counts\": 3}, {\"ano_coleta\": 1965, \"mes_coleta\": 6, \"counts\": 1}, {\"ano_coleta\": 1965, \"mes_coleta\": 7, \"counts\": 1}, {\"ano_coleta\": 1965, \"mes_coleta\": 8, \"counts\": 1}, {\"ano_coleta\": 1965, \"mes_coleta\": 9, \"counts\": 2}, {\"ano_coleta\": 1965, \"mes_coleta\": 10, \"counts\": 3}, {\"ano_coleta\": 1965, \"mes_coleta\": 11, \"counts\": 6}, {\"ano_coleta\": 1965, \"mes_coleta\": 12, \"counts\": 2}, {\"ano_coleta\": 1966, \"mes_coleta\": 0, \"counts\": 2}, {\"ano_coleta\": 1966, \"mes_coleta\": 1, \"counts\": 1}, {\"ano_coleta\": 1966, \"mes_coleta\": 3, \"counts\": 3}, {\"ano_coleta\": 1966, \"mes_coleta\": 8, \"counts\": 4}, {\"ano_coleta\": 1966, \"mes_coleta\": 9, \"counts\": 8}, {\"ano_coleta\": 1966, \"mes_coleta\": 10, \"counts\": 3}, {\"ano_coleta\": 1966, \"mes_coleta\": 12, \"counts\": 3}, {\"ano_coleta\": 1967, \"mes_coleta\": 2, \"counts\": 4}, {\"ano_coleta\": 1967, \"mes_coleta\": 4, \"counts\": 1}, {\"ano_coleta\": 1967, \"mes_coleta\": 7, \"counts\": 1}, {\"ano_coleta\": 1967, \"mes_coleta\": 10, \"counts\": 1}, {\"ano_coleta\": 1967, \"mes_coleta\": 11, \"counts\": 1}, {\"ano_coleta\": 1967, \"mes_coleta\": 12, \"counts\": 2}, {\"ano_coleta\": 1968, \"mes_coleta\": 0, \"counts\": 14}, {\"ano_coleta\": 1968, \"mes_coleta\": 2, \"counts\": 2}, {\"ano_coleta\": 1968, \"mes_coleta\": 4, \"counts\": 3}, {\"ano_coleta\": 1968, \"mes_coleta\": 8, \"counts\": 1}, {\"ano_coleta\": 1968, \"mes_coleta\": 9, \"counts\": 2}, {\"ano_coleta\": 1968, \"mes_coleta\": 12, \"counts\": 4}, {\"ano_coleta\": 1969, \"mes_coleta\": 2, \"counts\": 1}, {\"ano_coleta\": 1969, \"mes_coleta\": 3, \"counts\": 2}, {\"ano_coleta\": 1969, \"mes_coleta\": 5, \"counts\": 1}, {\"ano_coleta\": 1969, \"mes_coleta\": 10, \"counts\": 2}, {\"ano_coleta\": 1969, \"mes_coleta\": 11, \"counts\": 1}, {\"ano_coleta\": 1969, \"mes_coleta\": 12, \"counts\": 44}, {\"ano_coleta\": 1970, \"mes_coleta\": 7, \"counts\": 2}, {\"ano_coleta\": 1970, \"mes_coleta\": 8, \"counts\": 1}, {\"ano_coleta\": 1970, \"mes_coleta\": 9, \"counts\": 25}, {\"ano_coleta\": 1970, \"mes_coleta\": 11, \"counts\": 1}, {\"ano_coleta\": 1970, \"mes_coleta\": 12, \"counts\": 4}, {\"ano_coleta\": 1971, \"mes_coleta\": 1, \"counts\": 2}, {\"ano_coleta\": 1971, \"mes_coleta\": 2, \"counts\": 1}, {\"ano_coleta\": 1971, \"mes_coleta\": 3, \"counts\": 1}, {\"ano_coleta\": 1971, \"mes_coleta\": 4, \"counts\": 5}, {\"ano_coleta\": 1971, \"mes_coleta\": 5, \"counts\": 19}, {\"ano_coleta\": 1971, \"mes_coleta\": 7, \"counts\": 4}, {\"ano_coleta\": 1971, \"mes_coleta\": 8, \"counts\": 3}, {\"ano_coleta\": 1971, \"mes_coleta\": 9, \"counts\": 3}, {\"ano_coleta\": 1971, \"mes_coleta\": 10, \"counts\": 4}, {\"ano_coleta\": 1971, \"mes_coleta\": 11, \"counts\": 2}, {\"ano_coleta\": 1972, \"mes_coleta\": 0, \"counts\": 10}, {\"ano_coleta\": 1972, \"mes_coleta\": 1, \"counts\": 2}, {\"ano_coleta\": 1972, \"mes_coleta\": 2, \"counts\": 5}, {\"ano_coleta\": 1972, \"mes_coleta\": 3, \"counts\": 2}, {\"ano_coleta\": 1972, \"mes_coleta\": 4, \"counts\": 1}, {\"ano_coleta\": 1972, \"mes_coleta\": 8, \"counts\": 4}, {\"ano_coleta\": 1972, \"mes_coleta\": 9, \"counts\": 6}, {\"ano_coleta\": 1972, \"mes_coleta\": 10, \"counts\": 1}, {\"ano_coleta\": 1972, \"mes_coleta\": 11, \"counts\": 1}, {\"ano_coleta\": 1972, \"mes_coleta\": 12, \"counts\": 2}, {\"ano_coleta\": 1973, \"mes_coleta\": 0, \"counts\": 5}, {\"ano_coleta\": 1973, \"mes_coleta\": 1, \"counts\": 9}, {\"ano_coleta\": 1973, \"mes_coleta\": 3, \"counts\": 1}, {\"ano_coleta\": 1973, \"mes_coleta\": 4, \"counts\": 1}, {\"ano_coleta\": 1973, \"mes_coleta\": 5, \"counts\": 1}, {\"ano_coleta\": 1973, \"mes_coleta\": 8, \"counts\": 7}, {\"ano_coleta\": 1973, \"mes_coleta\": 9, \"counts\": 1}, {\"ano_coleta\": 1973, \"mes_coleta\": 10, \"counts\": 3}, {\"ano_coleta\": 1973, \"mes_coleta\": 11, \"counts\": 5}, {\"ano_coleta\": 1973, \"mes_coleta\": 12, \"counts\": 23}, {\"ano_coleta\": 1974, \"mes_coleta\": 0, \"counts\": 2}, {\"ano_coleta\": 1974, \"mes_coleta\": 1, \"counts\": 2}, {\"ano_coleta\": 1974, \"mes_coleta\": 2, \"counts\": 3}, {\"ano_coleta\": 1974, \"mes_coleta\": 3, \"counts\": 1}, {\"ano_coleta\": 1974, \"mes_coleta\": 4, \"counts\": 1}, {\"ano_coleta\": 1974, \"mes_coleta\": 5, \"counts\": 4}, {\"ano_coleta\": 1974, \"mes_coleta\": 9, \"counts\": 6}, {\"ano_coleta\": 1974, \"mes_coleta\": 10, \"counts\": 5}, {\"ano_coleta\": 1974, \"mes_coleta\": 11, \"counts\": 1}, {\"ano_coleta\": 1974, \"mes_coleta\": 12, \"counts\": 4}, {\"ano_coleta\": 1975, \"mes_coleta\": 0, \"counts\": 15}, {\"ano_coleta\": 1975, \"mes_coleta\": 1, \"counts\": 15}, {\"ano_coleta\": 1975, \"mes_coleta\": 2, \"counts\": 3}, {\"ano_coleta\": 1975, \"mes_coleta\": 3, \"counts\": 17}, {\"ano_coleta\": 1975, \"mes_coleta\": 4, \"counts\": 26}, {\"ano_coleta\": 1975, \"mes_coleta\": 5, \"counts\": 4}, {\"ano_coleta\": 1975, \"mes_coleta\": 6, \"counts\": 3}, {\"ano_coleta\": 1975, \"mes_coleta\": 7, \"counts\": 17}, {\"ano_coleta\": 1975, \"mes_coleta\": 8, \"counts\": 11}, {\"ano_coleta\": 1975, \"mes_coleta\": 9, \"counts\": 3}, {\"ano_coleta\": 1975, \"mes_coleta\": 10, \"counts\": 7}, {\"ano_coleta\": 1975, \"mes_coleta\": 11, \"counts\": 13}, {\"ano_coleta\": 1976, \"mes_coleta\": 0, \"counts\": 14}, {\"ano_coleta\": 1976, \"mes_coleta\": 1, \"counts\": 62}, {\"ano_coleta\": 1976, \"mes_coleta\": 2, \"counts\": 12}, {\"ano_coleta\": 1976, \"mes_coleta\": 3, \"counts\": 2}, {\"ano_coleta\": 1976, \"mes_coleta\": 4, \"counts\": 6}, {\"ano_coleta\": 1976, \"mes_coleta\": 5, \"counts\": 1}, {\"ano_coleta\": 1976, \"mes_coleta\": 6, \"counts\": 2}, {\"ano_coleta\": 1976, \"mes_coleta\": 7, \"counts\": 4}, {\"ano_coleta\": 1976, \"mes_coleta\": 8, \"counts\": 1}, {\"ano_coleta\": 1976, \"mes_coleta\": 9, \"counts\": 3}, {\"ano_coleta\": 1976, \"mes_coleta\": 10, \"counts\": 1}, {\"ano_coleta\": 1976, \"mes_coleta\": 11, \"counts\": 8}, {\"ano_coleta\": 1976, \"mes_coleta\": 12, \"counts\": 1}, {\"ano_coleta\": 1977, \"mes_coleta\": 0, \"counts\": 1}, {\"ano_coleta\": 1977, \"mes_coleta\": 1, \"counts\": 4}, {\"ano_coleta\": 1977, \"mes_coleta\": 2, \"counts\": 4}, {\"ano_coleta\": 1977, \"mes_coleta\": 3, \"counts\": 2}, {\"ano_coleta\": 1977, \"mes_coleta\": 5, \"counts\": 1}, {\"ano_coleta\": 1977, \"mes_coleta\": 6, \"counts\": 1}, {\"ano_coleta\": 1977, \"mes_coleta\": 8, \"counts\": 4}, {\"ano_coleta\": 1977, \"mes_coleta\": 9, \"counts\": 1}, {\"ano_coleta\": 1977, \"mes_coleta\": 10, \"counts\": 3}, {\"ano_coleta\": 1977, \"mes_coleta\": 12, \"counts\": 7}, {\"ano_coleta\": 1978, \"mes_coleta\": 1, \"counts\": 1}, {\"ano_coleta\": 1978, \"mes_coleta\": 2, \"counts\": 3}, {\"ano_coleta\": 1978, \"mes_coleta\": 3, \"counts\": 4}, {\"ano_coleta\": 1978, \"mes_coleta\": 4, \"counts\": 1}, {\"ano_coleta\": 1978, \"mes_coleta\": 6, \"counts\": 4}, {\"ano_coleta\": 1978, \"mes_coleta\": 7, \"counts\": 1}, {\"ano_coleta\": 1978, \"mes_coleta\": 8, \"counts\": 6}, {\"ano_coleta\": 1978, \"mes_coleta\": 9, \"counts\": 3}, {\"ano_coleta\": 1978, \"mes_coleta\": 10, \"counts\": 5}, {\"ano_coleta\": 1978, \"mes_coleta\": 11, \"counts\": 8}, {\"ano_coleta\": 1978, \"mes_coleta\": 12, \"counts\": 5}, {\"ano_coleta\": 1979, \"mes_coleta\": 0, \"counts\": 3}, {\"ano_coleta\": 1979, \"mes_coleta\": 1, \"counts\": 28}, {\"ano_coleta\": 1979, \"mes_coleta\": 2, \"counts\": 3}, {\"ano_coleta\": 1979, \"mes_coleta\": 3, \"counts\": 1}, {\"ano_coleta\": 1979, \"mes_coleta\": 7, \"counts\": 2}, {\"ano_coleta\": 1979, \"mes_coleta\": 8, \"counts\": 1}, {\"ano_coleta\": 1979, \"mes_coleta\": 9, \"counts\": 1}, {\"ano_coleta\": 1979, \"mes_coleta\": 10, \"counts\": 2}, {\"ano_coleta\": 1979, \"mes_coleta\": 11, \"counts\": 3}, {\"ano_coleta\": 1979, \"mes_coleta\": 12, \"counts\": 11}, {\"ano_coleta\": 1980, \"mes_coleta\": 0, \"counts\": 1}, {\"ano_coleta\": 1980, \"mes_coleta\": 1, \"counts\": 5}, {\"ano_coleta\": 1980, \"mes_coleta\": 2, \"counts\": 5}, {\"ano_coleta\": 1980, \"mes_coleta\": 3, \"counts\": 4}, {\"ano_coleta\": 1980, \"mes_coleta\": 4, \"counts\": 1}, {\"ano_coleta\": 1980, \"mes_coleta\": 6, \"counts\": 4}, {\"ano_coleta\": 1980, \"mes_coleta\": 7, \"counts\": 2}, {\"ano_coleta\": 1980, \"mes_coleta\": 8, \"counts\": 5}, {\"ano_coleta\": 1980, \"mes_coleta\": 9, \"counts\": 1}, {\"ano_coleta\": 1980, \"mes_coleta\": 10, \"counts\": 2}, {\"ano_coleta\": 1980, \"mes_coleta\": 11, \"counts\": 11}, {\"ano_coleta\": 1980, \"mes_coleta\": 12, \"counts\": 3}, {\"ano_coleta\": 1981, \"mes_coleta\": 0, \"counts\": 4}, {\"ano_coleta\": 1981, \"mes_coleta\": 1, \"counts\": 3}, {\"ano_coleta\": 1981, \"mes_coleta\": 2, \"counts\": 3}, {\"ano_coleta\": 1981, \"mes_coleta\": 3, \"counts\": 5}, {\"ano_coleta\": 1981, \"mes_coleta\": 4, \"counts\": 4}, {\"ano_coleta\": 1981, \"mes_coleta\": 5, \"counts\": 4}, {\"ano_coleta\": 1981, \"mes_coleta\": 6, \"counts\": 4}, {\"ano_coleta\": 1981, \"mes_coleta\": 7, \"counts\": 1}, {\"ano_coleta\": 1981, \"mes_coleta\": 8, \"counts\": 4}, {\"ano_coleta\": 1981, \"mes_coleta\": 9, \"counts\": 4}, {\"ano_coleta\": 1981, \"mes_coleta\": 10, \"counts\": 6}, {\"ano_coleta\": 1981, \"mes_coleta\": 11, \"counts\": 4}, {\"ano_coleta\": 1981, \"mes_coleta\": 12, \"counts\": 7}, {\"ano_coleta\": 1982, \"mes_coleta\": 1, \"counts\": 6}, {\"ano_coleta\": 1982, \"mes_coleta\": 2, \"counts\": 10}, {\"ano_coleta\": 1982, \"mes_coleta\": 3, \"counts\": 11}, {\"ano_coleta\": 1982, \"mes_coleta\": 4, \"counts\": 2}, {\"ano_coleta\": 1982, \"mes_coleta\": 5, \"counts\": 3}, {\"ano_coleta\": 1982, \"mes_coleta\": 6, \"counts\": 4}, {\"ano_coleta\": 1982, \"mes_coleta\": 7, \"counts\": 1}, {\"ano_coleta\": 1982, \"mes_coleta\": 8, \"counts\": 9}, {\"ano_coleta\": 1982, \"mes_coleta\": 9, \"counts\": 4}, {\"ano_coleta\": 1982, \"mes_coleta\": 10, \"counts\": 8}, {\"ano_coleta\": 1982, \"mes_coleta\": 11, \"counts\": 7}, {\"ano_coleta\": 1982, \"mes_coleta\": 12, \"counts\": 11}, {\"ano_coleta\": 1983, \"mes_coleta\": 1, \"counts\": 5}, {\"ano_coleta\": 1983, \"mes_coleta\": 2, \"counts\": 4}, {\"ano_coleta\": 1983, \"mes_coleta\": 3, \"counts\": 2}, {\"ano_coleta\": 1983, \"mes_coleta\": 4, \"counts\": 2}, {\"ano_coleta\": 1983, \"mes_coleta\": 5, \"counts\": 6}, {\"ano_coleta\": 1983, \"mes_coleta\": 6, \"counts\": 4}, {\"ano_coleta\": 1983, \"mes_coleta\": 7, \"counts\": 3}, {\"ano_coleta\": 1983, \"mes_coleta\": 8, \"counts\": 3}, {\"ano_coleta\": 1983, \"mes_coleta\": 9, \"counts\": 6}, {\"ano_coleta\": 1983, \"mes_coleta\": 10, \"counts\": 9}, {\"ano_coleta\": 1983, \"mes_coleta\": 11, \"counts\": 5}, {\"ano_coleta\": 1983, \"mes_coleta\": 12, \"counts\": 2}, {\"ano_coleta\": 1984, \"mes_coleta\": 0, \"counts\": 15}, {\"ano_coleta\": 1984, \"mes_coleta\": 1, \"counts\": 5}, {\"ano_coleta\": 1984, \"mes_coleta\": 2, \"counts\": 6}, {\"ano_coleta\": 1984, \"mes_coleta\": 3, \"counts\": 8}, {\"ano_coleta\": 1984, \"mes_coleta\": 4, \"counts\": 12}, {\"ano_coleta\": 1984, \"mes_coleta\": 5, \"counts\": 9}, {\"ano_coleta\": 1984, \"mes_coleta\": 6, \"counts\": 7}, {\"ano_coleta\": 1984, \"mes_coleta\": 7, \"counts\": 5}, {\"ano_coleta\": 1984, \"mes_coleta\": 8, \"counts\": 3}, {\"ano_coleta\": 1984, \"mes_coleta\": 9, \"counts\": 5}, {\"ano_coleta\": 1984, \"mes_coleta\": 10, \"counts\": 2}, {\"ano_coleta\": 1984, \"mes_coleta\": 11, \"counts\": 5}, {\"ano_coleta\": 1984, \"mes_coleta\": 12, \"counts\": 9}, {\"ano_coleta\": 1985, \"mes_coleta\": 0, \"counts\": 36}, {\"ano_coleta\": 1985, \"mes_coleta\": 1, \"counts\": 6}, {\"ano_coleta\": 1985, \"mes_coleta\": 2, \"counts\": 17}, {\"ano_coleta\": 1985, \"mes_coleta\": 3, \"counts\": 3}, {\"ano_coleta\": 1985, \"mes_coleta\": 4, \"counts\": 24}, {\"ano_coleta\": 1985, \"mes_coleta\": 5, \"counts\": 11}, {\"ano_coleta\": 1985, \"mes_coleta\": 6, \"counts\": 6}, {\"ano_coleta\": 1985, \"mes_coleta\": 7, \"counts\": 3}, {\"ano_coleta\": 1985, \"mes_coleta\": 8, \"counts\": 6}, {\"ano_coleta\": 1985, \"mes_coleta\": 9, \"counts\": 6}, {\"ano_coleta\": 1985, \"mes_coleta\": 10, \"counts\": 21}, {\"ano_coleta\": 1985, \"mes_coleta\": 11, \"counts\": 13}, {\"ano_coleta\": 1985, \"mes_coleta\": 12, \"counts\": 7}, {\"ano_coleta\": 1986, \"mes_coleta\": 0, \"counts\": 109}, {\"ano_coleta\": 1986, \"mes_coleta\": 1, \"counts\": 15}, {\"ano_coleta\": 1986, \"mes_coleta\": 2, \"counts\": 22}, {\"ano_coleta\": 1986, \"mes_coleta\": 3, \"counts\": 37}, {\"ano_coleta\": 1986, \"mes_coleta\": 4, \"counts\": 32}, {\"ano_coleta\": 1986, \"mes_coleta\": 5, \"counts\": 29}, {\"ano_coleta\": 1986, \"mes_coleta\": 6, \"counts\": 22}, {\"ano_coleta\": 1986, \"mes_coleta\": 7, \"counts\": 23}, {\"ano_coleta\": 1986, \"mes_coleta\": 8, \"counts\": 101}, {\"ano_coleta\": 1986, \"mes_coleta\": 9, \"counts\": 18}, {\"ano_coleta\": 1986, \"mes_coleta\": 10, \"counts\": 25}, {\"ano_coleta\": 1986, \"mes_coleta\": 11, \"counts\": 28}, {\"ano_coleta\": 1986, \"mes_coleta\": 12, \"counts\": 22}, {\"ano_coleta\": 1987, \"mes_coleta\": 0, \"counts\": 35}, {\"ano_coleta\": 1987, \"mes_coleta\": 1, \"counts\": 39}, {\"ano_coleta\": 1987, \"mes_coleta\": 2, \"counts\": 53}, {\"ano_coleta\": 1987, \"mes_coleta\": 3, \"counts\": 6}, {\"ano_coleta\": 1987, \"mes_coleta\": 4, \"counts\": 37}, {\"ano_coleta\": 1987, \"mes_coleta\": 5, \"counts\": 24}, {\"ano_coleta\": 1987, \"mes_coleta\": 6, \"counts\": 42}, {\"ano_coleta\": 1987, \"mes_coleta\": 7, \"counts\": 66}, {\"ano_coleta\": 1987, \"mes_coleta\": 8, \"counts\": 40}, {\"ano_coleta\": 1987, \"mes_coleta\": 9, \"counts\": 63}, {\"ano_coleta\": 1987, \"mes_coleta\": 10, \"counts\": 80}, {\"ano_coleta\": 1987, \"mes_coleta\": 11, \"counts\": 103}, {\"ano_coleta\": 1987, \"mes_coleta\": 12, \"counts\": 39}, {\"ano_coleta\": 1988, \"mes_coleta\": 0, \"counts\": 34}, {\"ano_coleta\": 1988, \"mes_coleta\": 1, \"counts\": 223}, {\"ano_coleta\": 1988, \"mes_coleta\": 2, \"counts\": 26}, {\"ano_coleta\": 1988, \"mes_coleta\": 3, \"counts\": 16}, {\"ano_coleta\": 1988, \"mes_coleta\": 4, \"counts\": 14}, {\"ano_coleta\": 1988, \"mes_coleta\": 5, \"counts\": 9}, {\"ano_coleta\": 1988, \"mes_coleta\": 6, \"counts\": 22}, {\"ano_coleta\": 1988, \"mes_coleta\": 7, \"counts\": 68}, {\"ano_coleta\": 1988, \"mes_coleta\": 8, \"counts\": 19}, {\"ano_coleta\": 1988, \"mes_coleta\": 9, \"counts\": 22}, {\"ano_coleta\": 1988, \"mes_coleta\": 10, \"counts\": 9}, {\"ano_coleta\": 1988, \"mes_coleta\": 11, \"counts\": 13}, {\"ano_coleta\": 1988, \"mes_coleta\": 12, \"counts\": 33}, {\"ano_coleta\": 1989, \"mes_coleta\": 0, \"counts\": 23}, {\"ano_coleta\": 1989, \"mes_coleta\": 1, \"counts\": 44}, {\"ano_coleta\": 1989, \"mes_coleta\": 2, \"counts\": 36}, {\"ano_coleta\": 1989, \"mes_coleta\": 3, \"counts\": 30}, {\"ano_coleta\": 1989, \"mes_coleta\": 4, \"counts\": 26}, {\"ano_coleta\": 1989, \"mes_coleta\": 5, \"counts\": 49}, {\"ano_coleta\": 1989, \"mes_coleta\": 6, \"counts\": 28}, {\"ano_coleta\": 1989, \"mes_coleta\": 7, \"counts\": 10}, {\"ano_coleta\": 1989, \"mes_coleta\": 8, \"counts\": 19}, {\"ano_coleta\": 1989, \"mes_coleta\": 9, \"counts\": 26}, {\"ano_coleta\": 1989, \"mes_coleta\": 10, \"counts\": 45}, {\"ano_coleta\": 1989, \"mes_coleta\": 11, \"counts\": 40}, {\"ano_coleta\": 1989, \"mes_coleta\": 12, \"counts\": 20}, {\"ano_coleta\": 1990, \"mes_coleta\": 0, \"counts\": 33}, {\"ano_coleta\": 1990, \"mes_coleta\": 1, \"counts\": 7}, {\"ano_coleta\": 1990, \"mes_coleta\": 2, \"counts\": 9}, {\"ano_coleta\": 1990, \"mes_coleta\": 3, \"counts\": 37}, {\"ano_coleta\": 1990, \"mes_coleta\": 4, \"counts\": 18}, {\"ano_coleta\": 1990, \"mes_coleta\": 5, \"counts\": 32}, {\"ano_coleta\": 1990, \"mes_coleta\": 6, \"counts\": 9}, {\"ano_coleta\": 1990, \"mes_coleta\": 7, \"counts\": 26}, {\"ano_coleta\": 1990, \"mes_coleta\": 8, \"counts\": 72}, {\"ano_coleta\": 1990, \"mes_coleta\": 9, \"counts\": 16}, {\"ano_coleta\": 1990, \"mes_coleta\": 10, \"counts\": 5}, {\"ano_coleta\": 1990, \"mes_coleta\": 11, \"counts\": 20}, {\"ano_coleta\": 1990, \"mes_coleta\": 12, \"counts\": 9}, {\"ano_coleta\": 1991, \"mes_coleta\": 0, \"counts\": 6}, {\"ano_coleta\": 1991, \"mes_coleta\": 1, \"counts\": 16}, {\"ano_coleta\": 1991, \"mes_coleta\": 2, \"counts\": 15}, {\"ano_coleta\": 1991, \"mes_coleta\": 3, \"counts\": 15}, {\"ano_coleta\": 1991, \"mes_coleta\": 4, \"counts\": 20}, {\"ano_coleta\": 1991, \"mes_coleta\": 5, \"counts\": 61}, {\"ano_coleta\": 1991, \"mes_coleta\": 6, \"counts\": 39}, {\"ano_coleta\": 1991, \"mes_coleta\": 7, \"counts\": 61}, {\"ano_coleta\": 1991, \"mes_coleta\": 8, \"counts\": 44}, {\"ano_coleta\": 1991, \"mes_coleta\": 9, \"counts\": 50}, {\"ano_coleta\": 1991, \"mes_coleta\": 10, \"counts\": 45}, {\"ano_coleta\": 1991, \"mes_coleta\": 11, \"counts\": 26}, {\"ano_coleta\": 1991, \"mes_coleta\": 12, \"counts\": 45}, {\"ano_coleta\": 1992, \"mes_coleta\": 0, \"counts\": 7}, {\"ano_coleta\": 1992, \"mes_coleta\": 1, \"counts\": 45}, {\"ano_coleta\": 1992, \"mes_coleta\": 2, \"counts\": 33}, {\"ano_coleta\": 1992, \"mes_coleta\": 3, \"counts\": 43}, {\"ano_coleta\": 1992, \"mes_coleta\": 4, \"counts\": 25}, {\"ano_coleta\": 1992, \"mes_coleta\": 5, \"counts\": 4}, {\"ano_coleta\": 1992, \"mes_coleta\": 6, \"counts\": 20}, {\"ano_coleta\": 1992, \"mes_coleta\": 7, \"counts\": 9}, {\"ano_coleta\": 1992, \"mes_coleta\": 8, \"counts\": 16}, {\"ano_coleta\": 1992, \"mes_coleta\": 9, \"counts\": 13}, {\"ano_coleta\": 1992, \"mes_coleta\": 10, \"counts\": 11}, {\"ano_coleta\": 1992, \"mes_coleta\": 11, \"counts\": 13}, {\"ano_coleta\": 1992, \"mes_coleta\": 12, \"counts\": 31}, {\"ano_coleta\": 1993, \"mes_coleta\": 0, \"counts\": 11}, {\"ano_coleta\": 1993, \"mes_coleta\": 1, \"counts\": 15}, {\"ano_coleta\": 1993, \"mes_coleta\": 2, \"counts\": 29}, {\"ano_coleta\": 1993, \"mes_coleta\": 3, \"counts\": 20}, {\"ano_coleta\": 1993, \"mes_coleta\": 4, \"counts\": 43}, {\"ano_coleta\": 1993, \"mes_coleta\": 5, \"counts\": 14}, {\"ano_coleta\": 1993, \"mes_coleta\": 6, \"counts\": 25}, {\"ano_coleta\": 1993, \"mes_coleta\": 7, \"counts\": 58}, {\"ano_coleta\": 1993, \"mes_coleta\": 8, \"counts\": 6}, {\"ano_coleta\": 1993, \"mes_coleta\": 9, \"counts\": 16}, {\"ano_coleta\": 1993, \"mes_coleta\": 10, \"counts\": 18}, {\"ano_coleta\": 1993, \"mes_coleta\": 11, \"counts\": 11}, {\"ano_coleta\": 1993, \"mes_coleta\": 12, \"counts\": 23}, {\"ano_coleta\": 1994, \"mes_coleta\": 0, \"counts\": 13}, {\"ano_coleta\": 1994, \"mes_coleta\": 1, \"counts\": 30}, {\"ano_coleta\": 1994, \"mes_coleta\": 2, \"counts\": 81}, {\"ano_coleta\": 1994, \"mes_coleta\": 3, \"counts\": 50}, {\"ano_coleta\": 1994, \"mes_coleta\": 4, \"counts\": 40}, {\"ano_coleta\": 1994, \"mes_coleta\": 5, \"counts\": 21}, {\"ano_coleta\": 1994, \"mes_coleta\": 6, \"counts\": 44}, {\"ano_coleta\": 1994, \"mes_coleta\": 7, \"counts\": 32}, {\"ano_coleta\": 1994, \"mes_coleta\": 8, \"counts\": 43}, {\"ano_coleta\": 1994, \"mes_coleta\": 9, \"counts\": 25}, {\"ano_coleta\": 1994, \"mes_coleta\": 10, \"counts\": 56}, {\"ano_coleta\": 1994, \"mes_coleta\": 11, \"counts\": 11}, {\"ano_coleta\": 1994, \"mes_coleta\": 12, \"counts\": 23}, {\"ano_coleta\": 1995, \"mes_coleta\": 0, \"counts\": 22}, {\"ano_coleta\": 1995, \"mes_coleta\": 1, \"counts\": 24}, {\"ano_coleta\": 1995, \"mes_coleta\": 2, \"counts\": 17}, {\"ano_coleta\": 1995, \"mes_coleta\": 3, \"counts\": 19}, {\"ano_coleta\": 1995, \"mes_coleta\": 4, \"counts\": 18}, {\"ano_coleta\": 1995, \"mes_coleta\": 5, \"counts\": 4}, {\"ano_coleta\": 1995, \"mes_coleta\": 6, \"counts\": 17}, {\"ano_coleta\": 1995, \"mes_coleta\": 7, \"counts\": 140}, {\"ano_coleta\": 1995, \"mes_coleta\": 8, \"counts\": 9}, {\"ano_coleta\": 1995, \"mes_coleta\": 9, \"counts\": 6}, {\"ano_coleta\": 1995, \"mes_coleta\": 10, \"counts\": 12}, {\"ano_coleta\": 1995, \"mes_coleta\": 11, \"counts\": 10}, {\"ano_coleta\": 1995, \"mes_coleta\": 12, \"counts\": 11}, {\"ano_coleta\": 1996, \"mes_coleta\": 0, \"counts\": 60}, {\"ano_coleta\": 1996, \"mes_coleta\": 1, \"counts\": 28}, {\"ano_coleta\": 1996, \"mes_coleta\": 2, \"counts\": 15}, {\"ano_coleta\": 1996, \"mes_coleta\": 3, \"counts\": 10}, {\"ano_coleta\": 1996, \"mes_coleta\": 4, \"counts\": 32}, {\"ano_coleta\": 1996, \"mes_coleta\": 5, \"counts\": 12}, {\"ano_coleta\": 1996, \"mes_coleta\": 6, \"counts\": 16}, {\"ano_coleta\": 1996, \"mes_coleta\": 7, \"counts\": 75}, {\"ano_coleta\": 1996, \"mes_coleta\": 8, \"counts\": 22}, {\"ano_coleta\": 1996, \"mes_coleta\": 9, \"counts\": 32}, {\"ano_coleta\": 1996, \"mes_coleta\": 10, \"counts\": 17}, {\"ano_coleta\": 1996, \"mes_coleta\": 11, \"counts\": 15}, {\"ano_coleta\": 1996, \"mes_coleta\": 12, \"counts\": 31}, {\"ano_coleta\": 1997, \"mes_coleta\": 0, \"counts\": 12}, {\"ano_coleta\": 1997, \"mes_coleta\": 1, \"counts\": 49}, {\"ano_coleta\": 1997, \"mes_coleta\": 2, \"counts\": 82}, {\"ano_coleta\": 1997, \"mes_coleta\": 3, \"counts\": 33}, {\"ano_coleta\": 1997, \"mes_coleta\": 4, \"counts\": 76}, {\"ano_coleta\": 1997, \"mes_coleta\": 5, \"counts\": 11}, {\"ano_coleta\": 1997, \"mes_coleta\": 6, \"counts\": 20}, {\"ano_coleta\": 1997, \"mes_coleta\": 7, \"counts\": 86}, {\"ano_coleta\": 1997, \"mes_coleta\": 8, \"counts\": 37}, {\"ano_coleta\": 1997, \"mes_coleta\": 9, \"counts\": 25}, {\"ano_coleta\": 1997, \"mes_coleta\": 10, \"counts\": 34}, {\"ano_coleta\": 1997, \"mes_coleta\": 11, \"counts\": 26}, {\"ano_coleta\": 1997, \"mes_coleta\": 12, \"counts\": 24}, {\"ano_coleta\": 1998, \"mes_coleta\": 0, \"counts\": 27}, {\"ano_coleta\": 1998, \"mes_coleta\": 1, \"counts\": 31}, {\"ano_coleta\": 1998, \"mes_coleta\": 2, \"counts\": 18}, {\"ano_coleta\": 1998, \"mes_coleta\": 3, \"counts\": 34}, {\"ano_coleta\": 1998, \"mes_coleta\": 4, \"counts\": 23}, {\"ano_coleta\": 1998, \"mes_coleta\": 5, \"counts\": 14}, {\"ano_coleta\": 1998, \"mes_coleta\": 6, \"counts\": 20}, {\"ano_coleta\": 1998, \"mes_coleta\": 7, \"counts\": 15}, {\"ano_coleta\": 1998, \"mes_coleta\": 8, \"counts\": 17}, {\"ano_coleta\": 1998, \"mes_coleta\": 9, \"counts\": 8}, {\"ano_coleta\": 1998, \"mes_coleta\": 10, \"counts\": 202}, {\"ano_coleta\": 1998, \"mes_coleta\": 11, \"counts\": 31}, {\"ano_coleta\": 1998, \"mes_coleta\": 12, \"counts\": 48}, {\"ano_coleta\": 1999, \"mes_coleta\": 0, \"counts\": 51}, {\"ano_coleta\": 1999, \"mes_coleta\": 1, \"counts\": 9}, {\"ano_coleta\": 1999, \"mes_coleta\": 2, \"counts\": 32}, {\"ano_coleta\": 1999, \"mes_coleta\": 3, \"counts\": 113}, {\"ano_coleta\": 1999, \"mes_coleta\": 4, \"counts\": 24}, {\"ano_coleta\": 1999, \"mes_coleta\": 5, \"counts\": 30}, {\"ano_coleta\": 1999, \"mes_coleta\": 6, \"counts\": 11}, {\"ano_coleta\": 1999, \"mes_coleta\": 7, \"counts\": 6}, {\"ano_coleta\": 1999, \"mes_coleta\": 8, \"counts\": 34}, {\"ano_coleta\": 1999, \"mes_coleta\": 9, \"counts\": 47}, {\"ano_coleta\": 1999, \"mes_coleta\": 10, \"counts\": 44}, {\"ano_coleta\": 1999, \"mes_coleta\": 11, \"counts\": 137}, {\"ano_coleta\": 1999, \"mes_coleta\": 12, \"counts\": 20}, {\"ano_coleta\": 2000, \"mes_coleta\": 0, \"counts\": 9}, {\"ano_coleta\": 2000, \"mes_coleta\": 1, \"counts\": 37}, {\"ano_coleta\": 2000, \"mes_coleta\": 2, \"counts\": 67}, {\"ano_coleta\": 2000, \"mes_coleta\": 3, \"counts\": 89}, {\"ano_coleta\": 2000, \"mes_coleta\": 4, \"counts\": 14}, {\"ano_coleta\": 2000, \"mes_coleta\": 5, \"counts\": 29}, {\"ano_coleta\": 2000, \"mes_coleta\": 6, \"counts\": 8}, {\"ano_coleta\": 2000, \"mes_coleta\": 7, \"counts\": 16}, {\"ano_coleta\": 2000, \"mes_coleta\": 8, \"counts\": 40}, {\"ano_coleta\": 2000, \"mes_coleta\": 9, \"counts\": 20}, {\"ano_coleta\": 2000, \"mes_coleta\": 10, \"counts\": 10}, {\"ano_coleta\": 2000, \"mes_coleta\": 11, \"counts\": 83}, {\"ano_coleta\": 2000, \"mes_coleta\": 12, \"counts\": 51}, {\"ano_coleta\": 2001, \"mes_coleta\": 0, \"counts\": 25}, {\"ano_coleta\": 2001, \"mes_coleta\": 1, \"counts\": 18}, {\"ano_coleta\": 2001, \"mes_coleta\": 2, \"counts\": 18}, {\"ano_coleta\": 2001, \"mes_coleta\": 3, \"counts\": 12}, {\"ano_coleta\": 2001, \"mes_coleta\": 4, \"counts\": 11}, {\"ano_coleta\": 2001, \"mes_coleta\": 5, \"counts\": 27}, {\"ano_coleta\": 2001, \"mes_coleta\": 6, \"counts\": 4}, {\"ano_coleta\": 2001, \"mes_coleta\": 7, \"counts\": 4}, {\"ano_coleta\": 2001, \"mes_coleta\": 8, \"counts\": 40}, {\"ano_coleta\": 2001, \"mes_coleta\": 9, \"counts\": 15}, {\"ano_coleta\": 2001, \"mes_coleta\": 10, \"counts\": 39}, {\"ano_coleta\": 2001, \"mes_coleta\": 11, \"counts\": 43}, {\"ano_coleta\": 2001, \"mes_coleta\": 12, \"counts\": 53}, {\"ano_coleta\": 2002, \"mes_coleta\": 0, \"counts\": 8}, {\"ano_coleta\": 2002, \"mes_coleta\": 1, \"counts\": 32}, {\"ano_coleta\": 2002, \"mes_coleta\": 2, \"counts\": 16}, {\"ano_coleta\": 2002, \"mes_coleta\": 3, \"counts\": 49}, {\"ano_coleta\": 2002, \"mes_coleta\": 4, \"counts\": 32}, {\"ano_coleta\": 2002, \"mes_coleta\": 5, \"counts\": 22}, {\"ano_coleta\": 2002, \"mes_coleta\": 6, \"counts\": 27}, {\"ano_coleta\": 2002, \"mes_coleta\": 7, \"counts\": 21}, {\"ano_coleta\": 2002, \"mes_coleta\": 8, \"counts\": 23}, {\"ano_coleta\": 2002, \"mes_coleta\": 9, \"counts\": 23}, {\"ano_coleta\": 2002, \"mes_coleta\": 10, \"counts\": 162}, {\"ano_coleta\": 2002, \"mes_coleta\": 11, \"counts\": 37}, {\"ano_coleta\": 2002, \"mes_coleta\": 12, \"counts\": 12}, {\"ano_coleta\": 2003, \"mes_coleta\": 0, \"counts\": 14}, {\"ano_coleta\": 2003, \"mes_coleta\": 1, \"counts\": 12}, {\"ano_coleta\": 2003, \"mes_coleta\": 2, \"counts\": 15}, {\"ano_coleta\": 2003, \"mes_coleta\": 3, \"counts\": 11}, {\"ano_coleta\": 2003, \"mes_coleta\": 4, \"counts\": 14}, {\"ano_coleta\": 2003, \"mes_coleta\": 5, \"counts\": 9}, {\"ano_coleta\": 2003, \"mes_coleta\": 6, \"counts\": 8}, {\"ano_coleta\": 2003, \"mes_coleta\": 7, \"counts\": 23}, {\"ano_coleta\": 2003, \"mes_coleta\": 8, \"counts\": 13}, {\"ano_coleta\": 2003, \"mes_coleta\": 9, \"counts\": 25}, {\"ano_coleta\": 2003, \"mes_coleta\": 10, \"counts\": 98}, {\"ano_coleta\": 2003, \"mes_coleta\": 11, \"counts\": 44}, {\"ano_coleta\": 2003, \"mes_coleta\": 12, \"counts\": 54}, {\"ano_coleta\": 2004, \"mes_coleta\": 0, \"counts\": 5}, {\"ano_coleta\": 2004, \"mes_coleta\": 1, \"counts\": 34}, {\"ano_coleta\": 2004, \"mes_coleta\": 2, \"counts\": 22}, {\"ano_coleta\": 2004, \"mes_coleta\": 3, \"counts\": 40}, {\"ano_coleta\": 2004, \"mes_coleta\": 4, \"counts\": 45}, {\"ano_coleta\": 2004, \"mes_coleta\": 5, \"counts\": 14}, {\"ano_coleta\": 2004, \"mes_coleta\": 6, \"counts\": 3}, {\"ano_coleta\": 2004, \"mes_coleta\": 7, \"counts\": 10}, {\"ano_coleta\": 2004, \"mes_coleta\": 8, \"counts\": 60}, {\"ano_coleta\": 2004, \"mes_coleta\": 9, \"counts\": 28}, {\"ano_coleta\": 2004, \"mes_coleta\": 10, \"counts\": 38}, {\"ano_coleta\": 2004, \"mes_coleta\": 11, \"counts\": 24}, {\"ano_coleta\": 2004, \"mes_coleta\": 12, \"counts\": 38}, {\"ano_coleta\": 2005, \"mes_coleta\": 0, \"counts\": 20}, {\"ano_coleta\": 2005, \"mes_coleta\": 1, \"counts\": 141}, {\"ano_coleta\": 2005, \"mes_coleta\": 2, \"counts\": 34}, {\"ano_coleta\": 2005, \"mes_coleta\": 3, \"counts\": 15}, {\"ano_coleta\": 2005, \"mes_coleta\": 4, \"counts\": 47}, {\"ano_coleta\": 2005, \"mes_coleta\": 5, \"counts\": 24}, {\"ano_coleta\": 2005, \"mes_coleta\": 6, \"counts\": 25}, {\"ano_coleta\": 2005, \"mes_coleta\": 7, \"counts\": 10}, {\"ano_coleta\": 2005, \"mes_coleta\": 8, \"counts\": 13}, {\"ano_coleta\": 2005, \"mes_coleta\": 9, \"counts\": 20}, {\"ano_coleta\": 2005, \"mes_coleta\": 10, \"counts\": 56}, {\"ano_coleta\": 2005, \"mes_coleta\": 11, \"counts\": 26}, {\"ano_coleta\": 2005, \"mes_coleta\": 12, \"counts\": 23}, {\"ano_coleta\": 2006, \"mes_coleta\": 0, \"counts\": 10}, {\"ano_coleta\": 2006, \"mes_coleta\": 1, \"counts\": 40}, {\"ano_coleta\": 2006, \"mes_coleta\": 2, \"counts\": 29}, {\"ano_coleta\": 2006, \"mes_coleta\": 3, \"counts\": 49}, {\"ano_coleta\": 2006, \"mes_coleta\": 4, \"counts\": 17}, {\"ano_coleta\": 2006, \"mes_coleta\": 5, \"counts\": 19}, {\"ano_coleta\": 2006, \"mes_coleta\": 6, \"counts\": 54}, {\"ano_coleta\": 2006, \"mes_coleta\": 7, \"counts\": 4}, {\"ano_coleta\": 2006, \"mes_coleta\": 8, \"counts\": 18}, {\"ano_coleta\": 2006, \"mes_coleta\": 9, \"counts\": 20}, {\"ano_coleta\": 2006, \"mes_coleta\": 10, \"counts\": 61}, {\"ano_coleta\": 2006, \"mes_coleta\": 11, \"counts\": 48}, {\"ano_coleta\": 2006, \"mes_coleta\": 12, \"counts\": 109}, {\"ano_coleta\": 2007, \"mes_coleta\": 0, \"counts\": 15}, {\"ano_coleta\": 2007, \"mes_coleta\": 1, \"counts\": 88}, {\"ano_coleta\": 2007, \"mes_coleta\": 2, \"counts\": 40}, {\"ano_coleta\": 2007, \"mes_coleta\": 3, \"counts\": 49}, {\"ano_coleta\": 2007, \"mes_coleta\": 4, \"counts\": 29}, {\"ano_coleta\": 2007, \"mes_coleta\": 5, \"counts\": 27}, {\"ano_coleta\": 2007, \"mes_coleta\": 6, \"counts\": 67}, {\"ano_coleta\": 2007, \"mes_coleta\": 7, \"counts\": 47}, {\"ano_coleta\": 2007, \"mes_coleta\": 8, \"counts\": 18}, {\"ano_coleta\": 2007, \"mes_coleta\": 9, \"counts\": 67}, {\"ano_coleta\": 2007, \"mes_coleta\": 10, \"counts\": 77}, {\"ano_coleta\": 2007, \"mes_coleta\": 11, \"counts\": 80}, {\"ano_coleta\": 2007, \"mes_coleta\": 12, \"counts\": 46}, {\"ano_coleta\": 2008, \"mes_coleta\": 0, \"counts\": 18}, {\"ano_coleta\": 2008, \"mes_coleta\": 1, \"counts\": 154}, {\"ano_coleta\": 2008, \"mes_coleta\": 2, \"counts\": 149}, {\"ano_coleta\": 2008, \"mes_coleta\": 3, \"counts\": 148}, {\"ano_coleta\": 2008, \"mes_coleta\": 4, \"counts\": 56}, {\"ano_coleta\": 2008, \"mes_coleta\": 5, \"counts\": 71}, {\"ano_coleta\": 2008, \"mes_coleta\": 6, \"counts\": 91}, {\"ano_coleta\": 2008, \"mes_coleta\": 7, \"counts\": 92}, {\"ano_coleta\": 2008, \"mes_coleta\": 8, \"counts\": 50}, {\"ano_coleta\": 2008, \"mes_coleta\": 9, \"counts\": 193}, {\"ano_coleta\": 2008, \"mes_coleta\": 10, \"counts\": 122}, {\"ano_coleta\": 2008, \"mes_coleta\": 11, \"counts\": 43}, {\"ano_coleta\": 2008, \"mes_coleta\": 12, \"counts\": 52}, {\"ano_coleta\": 2009, \"mes_coleta\": 0, \"counts\": 101}, {\"ano_coleta\": 2009, \"mes_coleta\": 1, \"counts\": 129}, {\"ano_coleta\": 2009, \"mes_coleta\": 2, \"counts\": 111}, {\"ano_coleta\": 2009, \"mes_coleta\": 3, \"counts\": 48}, {\"ano_coleta\": 2009, \"mes_coleta\": 4, \"counts\": 47}, {\"ano_coleta\": 2009, \"mes_coleta\": 5, \"counts\": 52}, {\"ano_coleta\": 2009, \"mes_coleta\": 6, \"counts\": 62}, {\"ano_coleta\": 2009, \"mes_coleta\": 7, \"counts\": 35}, {\"ano_coleta\": 2009, \"mes_coleta\": 8, \"counts\": 35}, {\"ano_coleta\": 2009, \"mes_coleta\": 9, \"counts\": 116}, {\"ano_coleta\": 2009, \"mes_coleta\": 10, \"counts\": 116}, {\"ano_coleta\": 2009, \"mes_coleta\": 11, \"counts\": 53}, {\"ano_coleta\": 2009, \"mes_coleta\": 12, \"counts\": 37}, {\"ano_coleta\": 2010, \"mes_coleta\": 0, \"counts\": 91}, {\"ano_coleta\": 2010, \"mes_coleta\": 1, \"counts\": 85}, {\"ano_coleta\": 2010, \"mes_coleta\": 2, \"counts\": 37}, {\"ano_coleta\": 2010, \"mes_coleta\": 3, \"counts\": 84}, {\"ano_coleta\": 2010, \"mes_coleta\": 4, \"counts\": 59}, {\"ano_coleta\": 2010, \"mes_coleta\": 5, \"counts\": 29}, {\"ano_coleta\": 2010, \"mes_coleta\": 6, \"counts\": 36}, {\"ano_coleta\": 2010, \"mes_coleta\": 7, \"counts\": 30}, {\"ano_coleta\": 2010, \"mes_coleta\": 8, \"counts\": 36}, {\"ano_coleta\": 2010, \"mes_coleta\": 9, \"counts\": 81}, {\"ano_coleta\": 2010, \"mes_coleta\": 10, \"counts\": 29}, {\"ano_coleta\": 2010, \"mes_coleta\": 11, \"counts\": 97}, {\"ano_coleta\": 2010, \"mes_coleta\": 12, \"counts\": 80}, {\"ano_coleta\": 2011, \"mes_coleta\": 0, \"counts\": 8}, {\"ano_coleta\": 2011, \"mes_coleta\": 1, \"counts\": 35}, {\"ano_coleta\": 2011, \"mes_coleta\": 2, \"counts\": 37}, {\"ano_coleta\": 2011, \"mes_coleta\": 3, \"counts\": 49}, {\"ano_coleta\": 2011, \"mes_coleta\": 4, \"counts\": 69}, {\"ano_coleta\": 2011, \"mes_coleta\": 5, \"counts\": 52}, {\"ano_coleta\": 2011, \"mes_coleta\": 6, \"counts\": 56}, {\"ano_coleta\": 2011, \"mes_coleta\": 7, \"counts\": 27}, {\"ano_coleta\": 2011, \"mes_coleta\": 8, \"counts\": 37}, {\"ano_coleta\": 2011, \"mes_coleta\": 9, \"counts\": 62}, {\"ano_coleta\": 2011, \"mes_coleta\": 10, \"counts\": 60}, {\"ano_coleta\": 2011, \"mes_coleta\": 11, \"counts\": 75}, {\"ano_coleta\": 2011, \"mes_coleta\": 12, \"counts\": 35}, {\"ano_coleta\": 2012, \"mes_coleta\": 0, \"counts\": 1}, {\"ano_coleta\": 2012, \"mes_coleta\": 1, \"counts\": 44}, {\"ano_coleta\": 2012, \"mes_coleta\": 2, \"counts\": 20}, {\"ano_coleta\": 2012, \"mes_coleta\": 3, \"counts\": 52}, {\"ano_coleta\": 2012, \"mes_coleta\": 4, \"counts\": 32}, {\"ano_coleta\": 2012, \"mes_coleta\": 5, \"counts\": 41}, {\"ano_coleta\": 2012, \"mes_coleta\": 6, \"counts\": 22}, {\"ano_coleta\": 2012, \"mes_coleta\": 7, \"counts\": 67}, {\"ano_coleta\": 2012, \"mes_coleta\": 8, \"counts\": 107}, {\"ano_coleta\": 2012, \"mes_coleta\": 9, \"counts\": 13}, {\"ano_coleta\": 2012, \"mes_coleta\": 10, \"counts\": 73}, {\"ano_coleta\": 2012, \"mes_coleta\": 11, \"counts\": 48}, {\"ano_coleta\": 2012, \"mes_coleta\": 12, \"counts\": 44}, {\"ano_coleta\": 2013, \"mes_coleta\": 0, \"counts\": 1}, {\"ano_coleta\": 2013, \"mes_coleta\": 1, \"counts\": 56}, {\"ano_coleta\": 2013, \"mes_coleta\": 2, \"counts\": 64}, {\"ano_coleta\": 2013, \"mes_coleta\": 3, \"counts\": 42}, {\"ano_coleta\": 2013, \"mes_coleta\": 4, \"counts\": 28}, {\"ano_coleta\": 2013, \"mes_coleta\": 5, \"counts\": 18}, {\"ano_coleta\": 2013, \"mes_coleta\": 6, \"counts\": 50}, {\"ano_coleta\": 2013, \"mes_coleta\": 7, \"counts\": 29}, {\"ano_coleta\": 2013, \"mes_coleta\": 8, \"counts\": 39}, {\"ano_coleta\": 2013, \"mes_coleta\": 9, \"counts\": 12}, {\"ano_coleta\": 2013, \"mes_coleta\": 10, \"counts\": 41}, {\"ano_coleta\": 2013, \"mes_coleta\": 11, \"counts\": 153}, {\"ano_coleta\": 2013, \"mes_coleta\": 12, \"counts\": 41}, {\"ano_coleta\": 2014, \"mes_coleta\": 0, \"counts\": 3}, {\"ano_coleta\": 2014, \"mes_coleta\": 1, \"counts\": 61}, {\"ano_coleta\": 2014, \"mes_coleta\": 2, \"counts\": 68}, {\"ano_coleta\": 2014, \"mes_coleta\": 3, \"counts\": 33}, {\"ano_coleta\": 2014, \"mes_coleta\": 4, \"counts\": 34}, {\"ano_coleta\": 2014, \"mes_coleta\": 5, \"counts\": 28}, {\"ano_coleta\": 2014, \"mes_coleta\": 6, \"counts\": 16}, {\"ano_coleta\": 2014, \"mes_coleta\": 7, \"counts\": 9}, {\"ano_coleta\": 2014, \"mes_coleta\": 8, \"counts\": 39}, {\"ano_coleta\": 2014, \"mes_coleta\": 9, \"counts\": 15}, {\"ano_coleta\": 2014, \"mes_coleta\": 10, \"counts\": 30}, {\"ano_coleta\": 2014, \"mes_coleta\": 11, \"counts\": 27}, {\"ano_coleta\": 2014, \"mes_coleta\": 12, \"counts\": 48}, {\"ano_coleta\": 2015, \"mes_coleta\": 1, \"counts\": 306}, {\"ano_coleta\": 2015, \"mes_coleta\": 2, \"counts\": 58}, {\"ano_coleta\": 2015, \"mes_coleta\": 3, \"counts\": 35}, {\"ano_coleta\": 2015, \"mes_coleta\": 4, \"counts\": 13}, {\"ano_coleta\": 2015, \"mes_coleta\": 5, \"counts\": 33}, {\"ano_coleta\": 2015, \"mes_coleta\": 6, \"counts\": 8}, {\"ano_coleta\": 2015, \"mes_coleta\": 7, \"counts\": 6}, {\"ano_coleta\": 2015, \"mes_coleta\": 8, \"counts\": 12}, {\"ano_coleta\": 2015, \"mes_coleta\": 9, \"counts\": 48}, {\"ano_coleta\": 2015, \"mes_coleta\": 10, \"counts\": 14}, {\"ano_coleta\": 2015, \"mes_coleta\": 11, \"counts\": 23}, {\"ano_coleta\": 2015, \"mes_coleta\": 12, \"counts\": 34}, {\"ano_coleta\": 2016, \"mes_coleta\": 1, \"counts\": 47}, {\"ano_coleta\": 2016, \"mes_coleta\": 2, \"counts\": 23}, {\"ano_coleta\": 2016, \"mes_coleta\": 3, \"counts\": 20}, {\"ano_coleta\": 2016, \"mes_coleta\": 4, \"counts\": 20}, {\"ano_coleta\": 2016, \"mes_coleta\": 5, \"counts\": 4}, {\"ano_coleta\": 2016, \"mes_coleta\": 6, \"counts\": 10}, {\"ano_coleta\": 2016, \"mes_coleta\": 8, \"counts\": 1}]}}, {\"mode\": \"vega-lite\"});\n",
       "</script>"
      ],
      "text/plain": [
       "alt.Chart(...)"
      ]
     },
     "execution_count": 7,
     "metadata": {},
     "output_type": "execute_result"
    }
   ],
   "source": [
    "total = alt.Chart(counts, title='Total of collected animals per month/year', width=1200,\n",
    "         height=200).mark_rect().encode(\n",
    "    y = alt.Y('mes_coleta', type='ordinal', title='Collected Month',\n",
    "              sort= alt.EncodingSortField('mes_coleta', order='descending')),\n",
    "    x = alt.X('ano_coleta', type='ordinal', title='Collected Year'),\n",
    "    color= alt.Color('counts', title='Counts', scale= alt.Scale(scheme='yellowgreenblue')),\n",
    "    tooltip = alt.Tooltip(['counts', 'ano_coleta', 'mes_coleta'])\n",
    ")\n",
    "\n",
    "total = total.configure_title(fontSize=16).configure_axis(\n",
    "    labelFontSize=12,\n",
    "    titleFontSize=12\n",
    ").configure_legend(\n",
    "    labelFontSize=12,\n",
    "    titleFontSize=12\n",
    ")\n",
    "\n",
    "total.save('./graphs/seasonality/season-total.html')\n",
    "\n",
    "total"
   ]
  },
  {
   "cell_type": "markdown",
   "metadata": {},
   "source": [
    "<br>\n",
    "\n",
    "### counts over time (per order)"
   ]
  },
  {
   "cell_type": "code",
   "execution_count": 8,
   "metadata": {
    "ExecuteTime": {
     "end_time": "2021-01-06T21:42:33.966124Z",
     "start_time": "2021-01-06T21:42:33.894336Z"
    }
   },
   "outputs": [],
   "source": [
    "# droping NAN\n",
    "counts = NewTable.dropna(subset=['ano_coleta', 'mes_coleta'], how='all')\n",
    "\n",
    "# grouping per time and order\n",
    "counts = counts.groupby(['ano_coleta', 'mes_coleta', 'ordem']).count()['class'].reset_index().rename(\n",
    "                                                                            columns={'class':'counts'})\n",
    "\n",
    "# making sure month and year cols are int\n",
    "counts['ano_coleta'] = counts['ano_coleta'].astype(int)\n",
    "counts['mes_coleta'] = counts['mes_coleta'].astype(int)\n",
    "\n",
    "# scale for x axis\n",
    "anos = counts['ano_coleta'].unique()"
   ]
  },
  {
   "cell_type": "code",
   "execution_count": 9,
   "metadata": {
    "ExecuteTime": {
     "end_time": "2021-01-06T21:42:35.385659Z",
     "start_time": "2021-01-06T21:42:35.381919Z"
    }
   },
   "outputs": [
    {
     "data": {
      "text/plain": [
       "{'Squamata': '#BF4417', 'Testudines': '#D9CB0B', 'Crocodylia': '#284021'}"
      ]
     },
     "execution_count": 9,
     "metadata": {},
     "output_type": "execute_result"
    }
   ],
   "source": [
    "cores_ordem"
   ]
  },
  {
   "cell_type": "code",
   "execution_count": 10,
   "metadata": {
    "ExecuteTime": {
     "end_time": "2021-01-06T21:42:44.001639Z",
     "start_time": "2021-01-06T21:42:43.954784Z"
    },
    "scrolled": true
   },
   "outputs": [],
   "source": [
    "temp = alt.Chart(counts[(~counts['ordem'].isna()) & (counts['ordem'] != 'Caudata')], title=f'Total of collected animals per month/year',\n",
    "             width=1200, height=200).mark_rect().encode(\n",
    "        y = alt.Y('mes_coleta', type='ordinal', title='Collected Month',\n",
    "                  sort= alt.EncodingSortField('mes_coleta', order='descending')),\n",
    "        x = alt.X('ano_coleta', type='ordinal', title='Collected Year',\n",
    "                 scale= alt.Scale(domain=anos)),\n",
    "        color= alt.Color('counts', title='Counts'),\n",
    "        tooltip = alt.Tooltip(['counts', 'ano_coleta', 'mes_coleta'])\n",
    ")\n",
    "\n",
    "temp.facet(row='ordem').resolve_scale(x='independent').resolve_legend('independent').configure_title(fontSize=16).configure_axis(\n",
    "    labelFontSize=12,\n",
    "    titleFontSize=12\n",
    ").configure_legend(\n",
    "    labelFontSize=12,\n",
    "    titleFontSize=12\n",
    ").save('./graphs/seasonality/order/season-facetado.html')\n",
    "\n",
    "# temp.facet(row='ordem').resolve_scale(x='independent').resolve_legend('independent').configure_title(fontSize=16).configure_axis(\n",
    "#     labelFontSize=12,\n",
    "#     titleFontSize=12\n",
    "# ).configure_legend(\n",
    "#     labelFontSize=12,\n",
    "#     titleFontSize=12\n",
    "# )\n",
    "\n"
   ]
  },
  {
   "cell_type": "code",
   "execution_count": 11,
   "metadata": {
    "ExecuteTime": {
     "end_time": "2021-01-06T21:42:49.048693Z",
     "start_time": "2021-01-06T21:42:49.045626Z"
    }
   },
   "outputs": [],
   "source": [
    "# unique range for color scale\n",
    "min_ct = counts['counts'].min()\n",
    "max_ct = counts['counts'].max()"
   ]
  },
  {
   "cell_type": "code",
   "execution_count": 12,
   "metadata": {
    "ExecuteTime": {
     "end_time": "2021-01-06T21:42:50.731406Z",
     "start_time": "2021-01-06T21:42:50.728836Z"
    }
   },
   "outputs": [],
   "source": [
    "color_schemes = {\n",
    "    'Squamata':'oranges',\n",
    "    'Testudines':'yelloworangebrown',\n",
    "    'Crocodylia':'greens'\n",
    "}"
   ]
  },
  {
   "cell_type": "code",
   "execution_count": 13,
   "metadata": {
    "ExecuteTime": {
     "end_time": "2021-01-06T21:42:53.966271Z",
     "start_time": "2021-01-06T21:42:53.802897Z"
    }
   },
   "outputs": [],
   "source": [
    "# independent graphs (per order)\n",
    "for ordem in ordens:\n",
    "    temp = alt.Chart(counts[counts['ordem'] == ordem], title=f'Total of collected {ordem} per month/year',\n",
    "             width=1200, height=200).mark_rect().encode(\n",
    "        y = alt.Y('mes_coleta', type='ordinal', title='Collected Month',\n",
    "                  sort= alt.EncodingSortField('mes_coleta', order='descending')),\n",
    "        x = alt.X('ano_coleta', type='ordinal', title='Collected Year',\n",
    "                 scale= alt.Scale(domain=anos)),\n",
    "        color= alt.Color('counts', title='Counts', scale=alt.Scale(domain=list(range(min_ct, max_ct)),\n",
    "                                                                  scheme=color_schemes[ordem])),\n",
    "        tooltip = alt.Tooltip(['counts', 'ano_coleta', 'mes_coleta'])\n",
    "    )\n",
    "    \n",
    "    temp = temp.configure_title(fontSize=16).configure_axis(\n",
    "                    labelFontSize=12,\n",
    "                    titleFontSize=12\n",
    "                ).configure_legend(\n",
    "                    labelFontSize=12,\n",
    "                    titleFontSize=12\n",
    "                )\n",
    "    \n",
    "    temp.save(f'./graphs/seasonality/order/season-{ordem}.html')"
   ]
  },
  {
   "cell_type": "markdown",
   "metadata": {},
   "source": [
    "<br>\n",
    "\n",
    "### counts over time (per family)"
   ]
  },
  {
   "cell_type": "code",
   "execution_count": 10,
   "metadata": {
    "ExecuteTime": {
     "end_time": "2020-08-29T16:05:30.232325Z",
     "start_time": "2020-08-29T16:05:30.229809Z"
    }
   },
   "outputs": [],
   "source": [
    "# counts = NewTable.dropna(subset=['ano_coleta', 'mes_coleta'], how='all')\n",
    "\n",
    "# counts = counts.groupby(['ano_coleta', 'mes_coleta', 'familia']).count()['class'].reset_index().rename(\n",
    "#                                                                             columns={'class':'counts'})\n",
    "\n",
    "# counts['ano_coleta'] = counts['ano_coleta'].astype(int)\n",
    "# counts['mes_coleta'] = counts['mes_coleta'].astype(int)"
   ]
  },
  {
   "cell_type": "code",
   "execution_count": 11,
   "metadata": {
    "ExecuteTime": {
     "end_time": "2020-08-29T16:05:30.567777Z",
     "start_time": "2020-08-29T16:05:30.562940Z"
    }
   },
   "outputs": [],
   "source": [
    "# top_familias = list(counts['familia'].value_counts().index[:15])\n",
    "\n",
    "# # range para escala de cores\n",
    "# min_ct = counts['counts'].min()\n",
    "# max_ct = counts['counts'].max()"
   ]
  },
  {
   "cell_type": "code",
   "execution_count": 12,
   "metadata": {
    "ExecuteTime": {
     "end_time": "2020-08-29T16:05:31.697711Z",
     "start_time": "2020-08-29T16:05:31.694342Z"
    }
   },
   "outputs": [],
   "source": [
    "# for familia in top_familias:\n",
    "\n",
    "#     temp = alt.Chart(counts[counts['familia'] == familia], \n",
    "#                      title=f'Total of collected {familia} per month/year').mark_rect().encode(\n",
    "#         y = alt.Y('mes_coleta', type='ordinal', title='Collected Month',\n",
    "#                   sort= alt.EncodingSortField('mes_coleta', order='descending')),\n",
    "#         x = alt.X('ano_coleta', type='ordinal', title='Collected Year',\n",
    "#                  scale= alt.Scale(domain=anos)),\n",
    "#         color= alt.Color('counts', title='Counts', scale=alt.Scale(domain=list(range(min_ct, max_ct)))),\n",
    "#         tooltip = alt.Tooltip(['counts', 'ano_coleta', 'mes_coleta'])\n",
    "#     )\n",
    "    \n",
    "#     temp.save(f'./graphs/seasonality/family/season-{familia}.html')\n",
    "\n",
    "# # .facet(row='familia').resolve_scale(x='independent')"
   ]
  },
  {
   "cell_type": "markdown",
   "metadata": {},
   "source": [
    "-----\n",
    "\n",
    "**That's it!**"
   ]
  }
 ],
 "metadata": {
  "kernelspec": {
   "display_name": "Python 3",
   "language": "python",
   "name": "python3"
  },
  "language_info": {
   "codemirror_mode": {
    "name": "ipython",
    "version": 3
   },
   "file_extension": ".py",
   "mimetype": "text/x-python",
   "name": "python",
   "nbconvert_exporter": "python",
   "pygments_lexer": "ipython3",
   "version": "3.9.1"
  },
  "latex_envs": {
   "LaTeX_envs_menu_present": true,
   "autoclose": false,
   "autocomplete": true,
   "bibliofile": "biblio.bib",
   "cite_by": "apalike",
   "current_citInitial": 1,
   "eqLabelWithNumbers": true,
   "eqNumInitial": 1,
   "hotkeys": {
    "equation": "Ctrl-E",
    "itemize": "Ctrl-I"
   },
   "labels_anchors": false,
   "latex_user_defs": false,
   "report_style_numbering": false,
   "user_envs_cfg": false
  },
  "toc": {
   "base_numbering": 1,
   "nav_menu": {},
   "number_sections": true,
   "sideBar": true,
   "skip_h1_title": false,
   "title_cell": "Table of Contents",
   "title_sidebar": "Contents",
   "toc_cell": false,
   "toc_position": {},
   "toc_section_display": true,
   "toc_window_display": false
  },
  "varInspector": {
   "cols": {
    "lenName": 16,
    "lenType": 16,
    "lenVar": 40
   },
   "kernels_config": {
    "python": {
     "delete_cmd_postfix": "",
     "delete_cmd_prefix": "del ",
     "library": "var_list.py",
     "varRefreshCmd": "print(var_dic_list())"
    },
    "r": {
     "delete_cmd_postfix": ") ",
     "delete_cmd_prefix": "rm(",
     "library": "var_list.r",
     "varRefreshCmd": "cat(var_dic_list()) "
    }
   },
   "types_to_exclude": [
    "module",
    "function",
    "builtin_function_or_method",
    "instance",
    "_Feature"
   ],
   "window_display": false
  }
 },
 "nbformat": 4,
 "nbformat_minor": 4
}
