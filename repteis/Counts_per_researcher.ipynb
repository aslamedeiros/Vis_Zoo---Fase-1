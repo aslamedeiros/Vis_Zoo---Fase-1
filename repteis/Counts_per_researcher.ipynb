{
 "cells": [
  {
   "cell_type": "markdown",
   "metadata": {},
   "source": [
    "# Counts per researcher\n",
    "\n",
    "By **Franklin Oliveira**\n",
    "\n",
    "-----\n",
    "This notebook contains all code necessary to make the \"type\" charts from `repteis` database. Here you'll find some basic data treatment and charts' code. \n",
    "\n",
    "Database: <font color='blue'>'Compilacao Livros Repteis - 2 a 10 - 2020_04_28.xls'</font>."
   ]
  },
  {
   "cell_type": "code",
   "execution_count": 1,
   "metadata": {
    "ExecuteTime": {
     "end_time": "2020-08-29T16:01:00.708333Z",
     "start_time": "2020-08-29T16:00:59.803537Z"
    }
   },
   "outputs": [
    {
     "data": {
      "text/plain": [
       "DataTransformerRegistry.enable('default')"
      ]
     },
     "execution_count": 1,
     "metadata": {},
     "output_type": "execute_result"
    }
   ],
   "source": [
    "import datetime\n",
    "import numpy as np\n",
    "import pandas as pd\n",
    "\n",
    "from collections import defaultdict\n",
    "\n",
    "# quick visualization\n",
    "import matplotlib.pyplot as plt\n",
    "import seaborn as sns\n",
    "\n",
    "# Waffle Charts\n",
    "# from pywaffle import Waffle \n",
    "# docs: https://pywaffle.readthedocs.io/en/latest/examples/block_shape_distance_location_and_direction.html\n",
    "\n",
    "# visualization\n",
    "import altair as alt\n",
    "\n",
    "# enabling notebook renderer\n",
    "# alt.renderers.enable('notebook')\n",
    "alt.renderers.enable('default')\n",
    "\n",
    "# disabling rows limit\n",
    "alt.data_transformers.disable_max_rows()"
   ]
  },
  {
   "cell_type": "markdown",
   "metadata": {},
   "source": [
    "## Importing data..."
   ]
  },
  {
   "cell_type": "code",
   "execution_count": 2,
   "metadata": {
    "ExecuteTime": {
     "end_time": "2020-08-29T16:01:01.916486Z",
     "start_time": "2020-08-29T16:01:01.716169Z"
    }
   },
   "outputs": [
    {
     "name": "stderr",
     "output_type": "stream",
     "text": [
      "/home/franklin/anaconda3/envs/viz/lib/python3.8/site-packages/IPython/core/interactiveshell.py:3071: DtypeWarning: Columns (2,39) have mixed types.Specify dtype option on import or set low_memory=False.\n",
      "  has_raised = await self.run_ast_nodes(code_ast.body, cell_name,\n"
     ]
    }
   ],
   "source": [
    "NewTable = pd.read_csv('./data/treated_db.csv', sep=';', encoding='utf-8-sig')"
   ]
  },
  {
   "cell_type": "markdown",
   "metadata": {},
   "source": [
    "<br>\n",
    "\n",
    "<font size=5>**Paleta de cores por Ordem**</font>\n",
    "\n",
    "Abaixo está a imagem usada como inspiração (https://color.adobe.com/create/image)\n",
    "\n",
    "<img src=\"./src/paleta_cores.jpeg\" width='500px'>\n",
    "\n",
    "Cores: \n",
    "\n",
    "- verde_escuro: #284021\n",
    "- verde_claro: #88BF11\n",
    "- amarelo: #D9CB0B\n",
    "- laranja: #D99311\n",
    "- laranja_escuro: #BF4417\n",
    "- marrom-_laro: #BF8D7A"
   ]
  },
  {
   "cell_type": "code",
   "execution_count": 3,
   "metadata": {
    "ExecuteTime": {
     "end_time": "2020-08-29T16:01:03.413277Z",
     "start_time": "2020-08-29T16:01:03.408162Z"
    }
   },
   "outputs": [],
   "source": [
    "# p.s.: Caudata is an error and should be removed\n",
    "cores_ordem = {\n",
    "    'Squamata': '#BF4417',\n",
    "    'Testudines': '#D9CB0B', \n",
    "    'Crocodylia': '#284021'\n",
    "}\n",
    "\n",
    "ordens = list(cores_ordem.keys())\n",
    "cores = list(cores_ordem.values())"
   ]
  },
  {
   "cell_type": "markdown",
   "metadata": {},
   "source": [
    "<br>\n",
    "\n",
    "\n",
    "## Graphs\n",
    "\n",
    "---"
   ]
  },
  {
   "cell_type": "markdown",
   "metadata": {},
   "source": [
    "<br>\n",
    "\n",
    "### Creating chart: counts per determiner per year"
   ]
  },
  {
   "cell_type": "code",
   "execution_count": 4,
   "metadata": {
    "ExecuteTime": {
     "end_time": "2020-08-29T16:01:04.725356Z",
     "start_time": "2020-08-29T16:01:04.625738Z"
    }
   },
   "outputs": [],
   "source": [
    "teste = NewTable.groupby(['determinator_full_name','ano_determinacao']).count()['class'].reset_index().rename(columns=\n",
    "                                                                                            {'class':'counts'})"
   ]
  },
  {
   "cell_type": "code",
   "execution_count": 6,
   "metadata": {
    "ExecuteTime": {
     "end_time": "2020-08-29T16:01:07.596567Z",
     "start_time": "2020-08-29T16:01:07.532292Z"
    }
   },
   "outputs": [],
   "source": [
    "g1 = alt.Chart(teste, width=800, height=2200).mark_circle().encode(\n",
    "    x= alt.X('ano_determinacao', type='ordinal', title='Determined Year'),\n",
    "    y= alt.Y('determinator_full_name', type='nominal', title='Determiner Name', \n",
    "            sort=alt.EncodingSortField('counts', op=\"count\", order='descending')),\n",
    "    size= alt.Size('counts', scale=alt.Scale(range=[15, 500])),  # range ajusta tamanho do circulo\n",
    "    tooltip= alt.Tooltip(['determinator_full_name', 'ano_determinacao', 'counts'])\n",
    ")\n",
    "\n",
    "g1 = g1.configure_title(fontSize=16).configure_axis(\n",
    "    labelFontSize=12,\n",
    "    titleFontSize=12\n",
    ").configure_legend(\n",
    "    labelFontSize=12,\n",
    "    titleFontSize=12\n",
    ")\n",
    "\n",
    "g1.save('./graphs/determiner/counts_per_determiner.html')\n",
    "# g1"
   ]
  },
  {
   "cell_type": "markdown",
   "metadata": {},
   "source": [
    "<font color='red' size='5'>mesmo gráfico, ordenando também pela ordem</font>\n",
    "\n",
    "**OBS:** Note que\n",
    "\n",
    "- as contagens mudam (porque estamos ordenando por um fator a mais)\n",
    "- há pontos sobrepostos (semelhante ao que tinhamos para a base crustaceas - para um mesmo ano, um mesmo pesquisador descobriu animais de ordens/familias diferentes)"
   ]
  },
  {
   "cell_type": "code",
   "execution_count": 15,
   "metadata": {
    "ExecuteTime": {
     "end_time": "2020-08-29T16:01:09.188908Z",
     "start_time": "2020-08-29T16:01:09.142039Z"
    }
   },
   "outputs": [],
   "source": [
    "teste1 = NewTable.groupby(['determinator_full_name','ano_determinacao', 'ordem']).count()['class'].reset_index().rename(columns=\n",
    "                                                                                            {'class':'counts'})"
   ]
  },
  {
   "cell_type": "code",
   "execution_count": 16,
   "metadata": {
    "ExecuteTime": {
     "end_time": "2020-08-29T16:01:11.397486Z",
     "start_time": "2020-08-29T16:01:11.342656Z"
    },
    "scrolled": true
   },
   "outputs": [],
   "source": [
    "g2 = alt.Chart(teste1, width=800, height=2200).mark_circle().encode(\n",
    "    x= alt.X('ano_determinacao', type='ordinal', title='Determined Year'),\n",
    "    y= alt.Y('determinator_full_name', type='nominal', title='Determiner Name', \n",
    "            sort=alt.EncodingSortField('counts', op=\"count\", order='descending')),\n",
    "    size= alt.Size('counts', type=\"quantitative\",scale=alt.Scale(range=[15, 500])),  # range ajusta tamanho do circulo\n",
    "    order= alt.Order('counts', sort='descending'),  # smaller points in front\n",
    "    color= alt.Color('ordem', type=\"nominal\", title=\"Order\", scale=alt.Scale(domain=ordens, range=cores)),\n",
    "    tooltip= alt.Tooltip(['determinator_full_name', 'ano_determinacao', 'counts', 'ordem'])\n",
    ")\n",
    "\n",
    "g2 = g2.configure_title(fontSize=16).configure_axis(\n",
    "    labelFontSize=12,\n",
    "    titleFontSize=12\n",
    ").configure_legend(\n",
    "    labelFontSize=12,\n",
    "    titleFontSize=12\n",
    ")\n",
    "\n",
    "# saving chart\n",
    "g2.save('./graphs/determiner/counts_per_determiner-w-order.html')\n",
    "# g2"
   ]
  },
  {
   "cell_type": "markdown",
   "metadata": {},
   "source": [
    "<br>\n",
    "\n",
    "<font color='red'>**mesmo gráfico, agora ordenando pelo primeiro ano que o pesquisador aparece na base**</font>"
   ]
  },
  {
   "cell_type": "code",
   "execution_count": 17,
   "metadata": {
    "ExecuteTime": {
     "end_time": "2020-08-29T16:01:12.940439Z",
     "start_time": "2020-08-29T16:01:12.929405Z"
    }
   },
   "outputs": [],
   "source": [
    "# ordenando\n",
    "teste1.sort_values(['ano_determinacao', 'determinator_full_name'], inplace=True)\n",
    "\n",
    "# salvando ordem das entradas\n",
    "sorting = list(teste1['determinator_full_name'].unique())"
   ]
  },
  {
   "cell_type": "code",
   "execution_count": 18,
   "metadata": {
    "ExecuteTime": {
     "end_time": "2020-08-29T16:01:15.236992Z",
     "start_time": "2020-08-29T16:01:15.164318Z"
    },
    "scrolled": true
   },
   "outputs": [],
   "source": [
    "g2 = alt.Chart(teste1, width=800, height=2200).mark_circle().encode(\n",
    "    x= alt.X('ano_determinacao', type='ordinal', title='Determined Year'),\n",
    "    y= alt.Y('determinator_full_name', type='nominal', title='Determiner Name', \n",
    "            sort=sorting),\n",
    "    size= alt.Size('counts', type=\"quantitative\",scale=alt.Scale(range=[15, 500])),  # range ajusta tamanho do circulo\n",
    "    order= alt.Order('counts', sort='descending'),  # smaller points in front\n",
    "    color= alt.Color('ordem', type=\"nominal\", title=\"Order\", scale=alt.Scale(domain=ordens, range=cores)),\n",
    "    tooltip= alt.Tooltip(['determinator_full_name', 'ano_determinacao', 'counts', 'ordem'])\n",
    ")\n",
    "\n",
    "g2 = g2.configure_title(fontSize=16).configure_axis(\n",
    "    labelFontSize=12,\n",
    "    titleFontSize=12\n",
    ").configure_legend(\n",
    "    labelFontSize=12,\n",
    "    titleFontSize=12\n",
    ")\n",
    "\n",
    "# saving chart\n",
    "g2.save('./graphs/determiner/counts_per_determiner-c-ordem_reordenado.html')\n",
    "# g2"
   ]
  },
  {
   "cell_type": "markdown",
   "metadata": {},
   "source": [
    "<br>\n",
    "\n",
    "### Gráfico dos determinadores mais expressivos (top 50)"
   ]
  },
  {
   "cell_type": "code",
   "execution_count": 19,
   "metadata": {
    "ExecuteTime": {
     "end_time": "2020-08-29T16:01:16.809144Z",
     "start_time": "2020-08-29T16:01:16.787808Z"
    }
   },
   "outputs": [
    {
     "data": {
      "text/html": [
       "<div>\n",
       "<style scoped>\n",
       "    .dataframe tbody tr th:only-of-type {\n",
       "        vertical-align: middle;\n",
       "    }\n",
       "\n",
       "    .dataframe tbody tr th {\n",
       "        vertical-align: top;\n",
       "    }\n",
       "\n",
       "    .dataframe thead th {\n",
       "        text-align: right;\n",
       "    }\n",
       "</style>\n",
       "<table border=\"1\" class=\"dataframe\">\n",
       "  <thead>\n",
       "    <tr style=\"text-align: right;\">\n",
       "      <th></th>\n",
       "      <th>determinator_full_name</th>\n",
       "      <th>sum</th>\n",
       "    </tr>\n",
       "  </thead>\n",
       "  <tbody>\n",
       "    <tr>\n",
       "      <th>98</th>\n",
       "      <td>P. Passos</td>\n",
       "      <td>3183</td>\n",
       "    </tr>\n",
       "    <tr>\n",
       "      <th>99</th>\n",
       "      <td>P. Pinna</td>\n",
       "      <td>1666</td>\n",
       "    </tr>\n",
       "    <tr>\n",
       "      <th>13</th>\n",
       "      <td>A. Silveira</td>\n",
       "      <td>1614</td>\n",
       "    </tr>\n",
       "    <tr>\n",
       "      <th>92</th>\n",
       "      <td>N. Silva</td>\n",
       "      <td>796</td>\n",
       "    </tr>\n",
       "    <tr>\n",
       "      <th>124</th>\n",
       "      <td>T. Freitas</td>\n",
       "      <td>602</td>\n",
       "    </tr>\n",
       "  </tbody>\n",
       "</table>\n",
       "</div>"
      ],
      "text/plain": [
       "    determinator_full_name   sum\n",
       "98               P. Passos  3183\n",
       "99                P. Pinna  1666\n",
       "13             A. Silveira  1614\n",
       "92                N. Silva   796\n",
       "124             T. Freitas   602"
      ]
     },
     "execution_count": 19,
     "metadata": {},
     "output_type": "execute_result"
    }
   ],
   "source": [
    "# somando contagens de cada pesquisador\n",
    "sorting = teste1.groupby('determinator_full_name').sum()['counts'].reset_index().rename(\n",
    "    columns={'counts':'sum'})\n",
    "\n",
    "sorting = sorting.sort_values('sum', ascending=False)\n",
    "\n",
    "# Nomes dos pesquisadores ordenados\n",
    "sort_list = sorting['determinator_full_name'].unique()\n",
    "\n",
    "sorting.head()"
   ]
  },
  {
   "cell_type": "code",
   "execution_count": 21,
   "metadata": {
    "ExecuteTime": {
     "end_time": "2020-08-29T16:01:18.500570Z",
     "start_time": "2020-08-29T16:01:18.452409Z"
    }
   },
   "outputs": [],
   "source": [
    "g2 = alt.Chart(teste1[teste1['determinator_full_name'].isin(sort_list[:50])], width=800, height=600).mark_circle().encode(\n",
    "    x= alt.X('ano_determinacao', type='ordinal', title='Determined Year'),\n",
    "    y= alt.Y('determinator_full_name', type='nominal', title='Determiner Name', \n",
    "            sort=sort_list),\n",
    "    size= alt.Size('counts', type=\"quantitative\",scale=alt.Scale(range=[15, 500])),  # range ajusta tamanho do circulo\n",
    "    order= alt.Order('counts', sort='descending'),  # smaller points in front\n",
    "    color= alt.Color('ordem', type=\"nominal\", title=\"Order\", scale=alt.Scale(domain=ordens, range=cores)),\n",
    "    tooltip= alt.Tooltip(['determinator_full_name', 'ano_determinacao', 'counts', 'ordem'])\n",
    ")\n",
    "\n",
    "g2 = g2.configure_title(fontSize=16).configure_axis(\n",
    "    labelFontSize=12,\n",
    "    titleFontSize=12\n",
    ").configure_legend(\n",
    "    labelFontSize=12,\n",
    "    titleFontSize=12\n",
    ")\n",
    "\n",
    "# saving chart\n",
    "g2.save('./graphs/determiner/counts_per_determiner-top_50.html')\n",
    "\n",
    "# g2"
   ]
  },
  {
   "cell_type": "code",
   "execution_count": 23,
   "metadata": {
    "ExecuteTime": {
     "end_time": "2020-08-29T16:01:21.270119Z",
     "start_time": "2020-08-29T16:01:21.190245Z"
    }
   },
   "outputs": [],
   "source": [
    "g2 = alt.Chart(teste1[teste1['determinator_full_name'].isin(sort_list[50:])], width=800, height=600).mark_circle().encode(\n",
    "    x= alt.X('ano_determinacao', type='ordinal', title='Determined Year'),\n",
    "    y= alt.Y('determinator_full_name', type='nominal', title='Determiner Name', \n",
    "            sort=sort_list),\n",
    "    size= alt.Size('counts', type=\"quantitative\",scale=alt.Scale(range=[15, 60], zero=False)),  # range ajusta tamanho do circulo\n",
    "    order= alt.Order('counts', sort='descending'),  # smaller points in front\n",
    "    color= alt.Color('ordem', type=\"nominal\", title=\"Order\", scale=alt.Scale(domain=ordens, range=cores)),\n",
    "    tooltip= alt.Tooltip(['determinator_full_name', 'ano_determinacao', 'counts', 'ordem'])\n",
    ")\n",
    "\n",
    "g2 = g2.configure_title(fontSize=16).configure_axis(\n",
    "    labelFontSize=12,\n",
    "    titleFontSize=12\n",
    ").configure_legend(\n",
    "    labelFontSize=12,\n",
    "    titleFontSize=12\n",
    ")\n",
    "\n",
    "# saving chart\n",
    "g2.save('./graphs/determiner/counts_per_determiner-menos_freq.html')\n",
    "\n",
    "# g2"
   ]
  },
  {
   "cell_type": "markdown",
   "metadata": {},
   "source": [
    "<br>\n",
    "\n",
    "### Creating chart: counts per collector per year\n",
    "\n",
    "<font color='red' size='5'> Collectors name is sensitive data. Do not publish it without curator's permission </font>"
   ]
  },
  {
   "cell_type": "code",
   "execution_count": 24,
   "metadata": {
    "ExecuteTime": {
     "end_time": "2020-08-29T16:01:23.441848Z",
     "start_time": "2020-08-29T16:01:23.356631Z"
    }
   },
   "outputs": [],
   "source": [
    "teste = NewTable.groupby(['collector_full_name','ano_coleta']).count()['class'].reset_index().rename(columns=\n",
    "                                                                                            {'class':'counts'})"
   ]
  },
  {
   "cell_type": "code",
   "execution_count": 26,
   "metadata": {
    "ExecuteTime": {
     "end_time": "2020-08-29T16:01:25.938484Z",
     "start_time": "2020-08-29T16:01:25.852184Z"
    }
   },
   "outputs": [],
   "source": [
    "g1 = alt.Chart(teste, width=800, height=2200).mark_circle().encode(\n",
    "    x= alt.X('ano_coleta', type='ordinal', title='Collected Year'),\n",
    "    y= alt.Y('collector_full_name', type='nominal', title='Collector Name', \n",
    "            sort=alt.EncodingSortField('counts', op=\"count\", order='descending')),\n",
    "    size= alt.Size('counts', scale=alt.Scale(range=[15, 500])),  # range ajusta tamanho do circulo\n",
    "    order= alt.Order('counts', sort='descending'),  # smaller points in front\n",
    "    tooltip= alt.Tooltip(['collector_full_name', 'ano_coleta', 'counts'])\n",
    ")\n",
    "\n",
    "g1 = g1.configure_title(fontSize=16).configure_axis(\n",
    "    labelFontSize=12,\n",
    "    titleFontSize=12\n",
    ").configure_legend(\n",
    "    labelFontSize=12,\n",
    "    titleFontSize=12\n",
    ")\n",
    "\n",
    "g1.save('./graphs/collector/counts_per_collector.html')\n",
    "\n",
    "# g1"
   ]
  },
  {
   "cell_type": "markdown",
   "metadata": {},
   "source": [
    "<font color='red' size='5'>mesmo gráfico, ordenando também pela ordem</font>\n",
    "\n",
    "**OBS:** Note que\n",
    "\n",
    "- as contagens mudam (porque estamos ordenando por um fator a mais)\n",
    "- há pontos sobrepostos (semelhante ao que tinhamos para a base crustaceas - para um mesmo ano, um mesmo pesquisador descobriu animais de ordens/familias diferentes)"
   ]
  },
  {
   "cell_type": "code",
   "execution_count": 27,
   "metadata": {
    "ExecuteTime": {
     "end_time": "2020-08-29T16:01:27.609232Z",
     "start_time": "2020-08-29T16:01:27.538303Z"
    }
   },
   "outputs": [],
   "source": [
    "teste1 = NewTable.groupby(['collector_full_name','ano_coleta', 'ordem']).count()['class'].reset_index().rename(columns=\n",
    "                                                                                            {'class':'counts'})"
   ]
  },
  {
   "cell_type": "code",
   "execution_count": 28,
   "metadata": {
    "ExecuteTime": {
     "end_time": "2020-08-29T16:01:31.230880Z",
     "start_time": "2020-08-29T16:01:31.148000Z"
    }
   },
   "outputs": [],
   "source": [
    "g2 = alt.Chart(teste1, width=800, height=2200).mark_circle().encode(\n",
    "    x= alt.X('ano_coleta', type='ordinal', title='Collected Year'),\n",
    "    y= alt.Y('collector_full_name', type='nominal', title='Collector Name', \n",
    "            sort=alt.EncodingSortField('counts', op=\"count\", order='descending')),\n",
    "    size= alt.Size('counts', type=\"quantitative\",scale=alt.Scale(range=[15, 500])),  # range ajusta tamanho do circulo\n",
    "    order= alt.Order('counts', sort='descending'),  # smaller points in front\n",
    "    color= alt.Color('ordem', type=\"nominal\", title=\"Order\", scale=alt.Scale(domain=ordens, range=cores)),\n",
    "    tooltip= alt.Tooltip(['collector_full_name', 'ano_coleta', 'counts', 'ordem'])\n",
    ")\n",
    "\n",
    "g2 = g2.configure_title(fontSize=16).configure_axis(\n",
    "    labelFontSize=12,\n",
    "    titleFontSize=12\n",
    ").configure_legend(\n",
    "    labelFontSize=12,\n",
    "    titleFontSize=12\n",
    ")\n",
    "\n",
    "# saving chart\n",
    "g2.save('./graphs/collector/counts_per_collector-w-order.html')\n",
    "\n",
    "# g2"
   ]
  },
  {
   "cell_type": "markdown",
   "metadata": {},
   "source": [
    "<br>\n",
    "\n",
    "<font color='red'>**mesmo gráfico, agora ordenando pelo primeiro ano que o pesquisador aparece na base**</font>"
   ]
  },
  {
   "cell_type": "code",
   "execution_count": 29,
   "metadata": {
    "ExecuteTime": {
     "end_time": "2020-08-29T16:01:32.966413Z",
     "start_time": "2020-08-29T16:01:32.955348Z"
    }
   },
   "outputs": [],
   "source": [
    "# ordenando\n",
    "teste1.sort_values(['ano_coleta', 'collector_full_name'], inplace=True)\n",
    "\n",
    "# salvando ordem das entradas\n",
    "sorting = list(teste1['collector_full_name'].unique())"
   ]
  },
  {
   "cell_type": "code",
   "execution_count": 30,
   "metadata": {
    "ExecuteTime": {
     "end_time": "2020-08-29T16:01:35.053914Z",
     "start_time": "2020-08-29T16:01:34.964085Z"
    }
   },
   "outputs": [],
   "source": [
    "g2 = alt.Chart(teste1, width=800, height=10000).mark_circle().encode(\n",
    "    x= alt.X('ano_coleta', type='ordinal', title='Collected Year'),\n",
    "    y= alt.Y('collector_full_name', type='nominal', title='Collector Name', \n",
    "            sort=alt.EncodingSortField('ano_coleta', op=\"min\", order='ascending')),\n",
    "    size= alt.Size('counts', type=\"quantitative\",scale=alt.Scale(range=[15, 500])),  # range ajusta tamanho do circulo\n",
    "    order= alt.Order('counts', sort='descending'),  # smaller points in front\n",
    "    color= alt.Color('ordem', type=\"nominal\", title=\"Order\", scale=alt.Scale(domain=ordens, range=cores)),\n",
    "    tooltip= alt.Tooltip(['collector_full_name', 'ano_coleta', 'counts', 'ordem'])\n",
    ")\n",
    "\n",
    "g2 = g2.configure_title(fontSize=16).configure_axis(\n",
    "    labelFontSize=12,\n",
    "    titleFontSize=12\n",
    ").configure_legend(\n",
    "    labelFontSize=12,\n",
    "    titleFontSize=12\n",
    ")\n",
    "\n",
    "# saving chart\n",
    "g2.save('./graphs/collector/counts_per_researcher-c-ordem_reordenado.html')\n",
    "\n",
    "# g2"
   ]
  },
  {
   "cell_type": "markdown",
   "metadata": {},
   "source": [
    "<br>\n",
    "\n",
    "### Gráfico dos coletores mais expressivos (top 50)"
   ]
  },
  {
   "cell_type": "code",
   "execution_count": 35,
   "metadata": {
    "ExecuteTime": {
     "end_time": "2020-08-29T16:01:36.761369Z",
     "start_time": "2020-08-29T16:01:36.737808Z"
    }
   },
   "outputs": [
    {
     "data": {
      "text/html": [
       "<div>\n",
       "<style scoped>\n",
       "    .dataframe tbody tr th:only-of-type {\n",
       "        vertical-align: middle;\n",
       "    }\n",
       "\n",
       "    .dataframe tbody tr th {\n",
       "        vertical-align: top;\n",
       "    }\n",
       "\n",
       "    .dataframe thead th {\n",
       "        text-align: right;\n",
       "    }\n",
       "</style>\n",
       "<table border=\"1\" class=\"dataframe\">\n",
       "  <thead>\n",
       "    <tr style=\"text-align: right;\">\n",
       "      <th></th>\n",
       "      <th>collector_full_name</th>\n",
       "      <th>sum</th>\n",
       "    </tr>\n",
       "  </thead>\n",
       "  <tbody>\n",
       "    <tr>\n",
       "      <th>155</th>\n",
       "      <td>A. Silveira</td>\n",
       "      <td>966</td>\n",
       "    </tr>\n",
       "    <tr>\n",
       "      <th>1523</th>\n",
       "      <td>U. Caramaschi</td>\n",
       "      <td>753</td>\n",
       "    </tr>\n",
       "    <tr>\n",
       "      <th>406</th>\n",
       "      <td>D. Vrcibradic</td>\n",
       "      <td>701</td>\n",
       "    </tr>\n",
       "    <tr>\n",
       "      <th>37</th>\n",
       "      <td>A. Carvalho</td>\n",
       "      <td>567</td>\n",
       "    </tr>\n",
       "    <tr>\n",
       "      <th>302</th>\n",
       "      <td>C. Rocha</td>\n",
       "      <td>478</td>\n",
       "    </tr>\n",
       "  </tbody>\n",
       "</table>\n",
       "</div>"
      ],
      "text/plain": [
       "     collector_full_name  sum\n",
       "155          A. Silveira  966\n",
       "1523       U. Caramaschi  753\n",
       "406        D. Vrcibradic  701\n",
       "37           A. Carvalho  567\n",
       "302             C. Rocha  478"
      ]
     },
     "execution_count": 35,
     "metadata": {},
     "output_type": "execute_result"
    }
   ],
   "source": [
    "# somando contagens de cada pesquisador\n",
    "sorting = teste1.groupby('collector_full_name').sum()['counts'].reset_index().rename(\n",
    "    columns={'counts':'sum'})\n",
    "\n",
    "sorting = sorting.sort_values('sum', ascending=False)\n",
    "\n",
    "# Nomes dos pesquisadores ordenados\n",
    "sort_list = sorting['collector_full_name'].unique()\n",
    "\n",
    "sorting.head()"
   ]
  },
  {
   "cell_type": "code",
   "execution_count": 36,
   "metadata": {
    "ExecuteTime": {
     "end_time": "2020-08-29T16:01:38.438976Z",
     "start_time": "2020-08-29T16:01:38.313144Z"
    }
   },
   "outputs": [],
   "source": [
    "g2 = alt.Chart(teste1[teste1['collector_full_name'].isin(sort_list[:50])], \n",
    "               width=800, height=600).mark_circle().encode(\n",
    "    x= alt.X('ano_coleta', type='ordinal', title='Collected Year'),\n",
    "    y= alt.Y('collector_full_name', type='nominal', title='Collector Name', sort= sort_list[:50]),\n",
    "    size= alt.Size('counts', type=\"quantitative\",scale=alt.Scale(range=[15, 500])),  # range ajusta tamanho do circulo\n",
    "    order= alt.Order('counts', sort='descending'),  # smaller points in front\n",
    "    color= alt.Color('ordem', type=\"nominal\", title=\"Order\", scale=alt.Scale(domain=ordens, range=cores)),\n",
    "    tooltip= alt.Tooltip(['collector_full_name', 'ano_coleta', 'counts', 'ordem'])\n",
    ")\n",
    "\n",
    "g2 = g2.configure_title(fontSize=16).configure_axis(\n",
    "    labelFontSize=12,\n",
    "    titleFontSize=12\n",
    ").configure_legend(\n",
    "    labelFontSize=12,\n",
    "    titleFontSize=12\n",
    ")\n",
    "\n",
    "# saving chart\n",
    "g2.save('./graphs/collector/counts_per_collector-top_50.html')\n",
    "\n",
    "# g2"
   ]
  },
  {
   "cell_type": "code",
   "execution_count": 34,
   "metadata": {
    "ExecuteTime": {
     "end_time": "2020-08-29T16:01:40.553877Z",
     "start_time": "2020-08-29T16:01:40.412185Z"
    }
   },
   "outputs": [],
   "source": [
    "g2 = alt.Chart(teste1[teste1['collector_full_name'].isin(sort_list[50:900])], \n",
    "               width=800, height=600).mark_circle().encode(\n",
    "    x= alt.X('ano_coleta', type='ordinal', title='Collected Year'),\n",
    "    y= alt.Y('collector_full_name', type='nominal', title='Collector Name', sort= sort_list[50:900]),\n",
    "    size= alt.Size('counts', type=\"quantitative\",scale=alt.Scale(range=[15, 120])),  # range ajusta tamanho do circulo\n",
    "    order= alt.Order('counts', sort='descending'),  # smaller points in front\n",
    "    color= alt.Color('ordem', type=\"nominal\", title=\"Order\", scale=alt.Scale(domain=ordens, range=cores)),\n",
    "    tooltip= alt.Tooltip(['collector_full_name', 'ano_coleta', 'counts', 'ordem'])\n",
    ")\n",
    "\n",
    "g2 = g2.configure_title(fontSize=16).configure_axis(\n",
    "    labelFontSize=12,\n",
    "    titleFontSize=12\n",
    ").configure_legend(\n",
    "    labelFontSize=12,\n",
    "    titleFontSize=12\n",
    ")\n",
    "\n",
    "# saving chart\n",
    "g2.save('./graphs/collector/counts_per_collector-menos_freq.html')\n",
    "\n",
    "# g2"
   ]
  },
  {
   "cell_type": "markdown",
   "metadata": {},
   "source": [
    "<br>\n",
    "\n",
    "**The end!**\n",
    "\n",
    "-----"
   ]
  }
 ],
 "metadata": {
  "kernelspec": {
   "display_name": "Python 3",
   "language": "python",
   "name": "python3"
  },
  "language_info": {
   "codemirror_mode": {
    "name": "ipython",
    "version": 3
   },
   "file_extension": ".py",
   "mimetype": "text/x-python",
   "name": "python",
   "nbconvert_exporter": "python",
   "pygments_lexer": "ipython3",
   "version": "3.8.3"
  },
  "latex_envs": {
   "LaTeX_envs_menu_present": true,
   "autoclose": false,
   "autocomplete": true,
   "bibliofile": "biblio.bib",
   "cite_by": "apalike",
   "current_citInitial": 1,
   "eqLabelWithNumbers": true,
   "eqNumInitial": 1,
   "hotkeys": {
    "equation": "Ctrl-E",
    "itemize": "Ctrl-I"
   },
   "labels_anchors": false,
   "latex_user_defs": false,
   "report_style_numbering": false,
   "user_envs_cfg": false
  },
  "toc": {
   "base_numbering": 1,
   "nav_menu": {},
   "number_sections": false,
   "sideBar": true,
   "skip_h1_title": false,
   "title_cell": "Table of Contents",
   "title_sidebar": "Contents",
   "toc_cell": false,
   "toc_position": {},
   "toc_section_display": true,
   "toc_window_display": false
  },
  "varInspector": {
   "cols": {
    "lenName": 16,
    "lenType": 16,
    "lenVar": 40
   },
   "kernels_config": {
    "python": {
     "delete_cmd_postfix": "",
     "delete_cmd_prefix": "del ",
     "library": "var_list.py",
     "varRefreshCmd": "print(var_dic_list())"
    },
    "r": {
     "delete_cmd_postfix": ") ",
     "delete_cmd_prefix": "rm(",
     "library": "var_list.r",
     "varRefreshCmd": "cat(var_dic_list()) "
    }
   },
   "position": {
    "height": "391.35px",
    "left": "900.5px",
    "right": "20px",
    "top": "96px",
    "width": "536.5px"
   },
   "types_to_exclude": [
    "module",
    "function",
    "builtin_function_or_method",
    "instance",
    "_Feature"
   ],
   "window_display": false
  }
 },
 "nbformat": 4,
 "nbformat_minor": 2
}
