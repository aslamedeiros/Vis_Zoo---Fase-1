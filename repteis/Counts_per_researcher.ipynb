{
 "cells": [
  {
   "cell_type": "markdown",
   "metadata": {},
   "source": [
    "# Counts per researcher\n",
    "\n",
    "By **Franklin Oliveira**\n",
    "\n",
    "-----\n",
    "This notebook contains all code necessary to make the \"type\" charts from `repteis` database. Here you'll find some basic data treatment and charts' code. \n",
    "\n",
    "Database: <font color='blue'>'Compilacao Livros Repteis - 2 a 10 - 2020_04_28.xls'</font>."
   ]
  },
  {
   "cell_type": "code",
   "execution_count": 1,
   "metadata": {
    "ExecuteTime": {
     "end_time": "2021-02-23T02:35:16.440976Z",
     "start_time": "2021-02-23T02:35:15.460726Z"
    }
   },
   "outputs": [
    {
     "data": {
      "text/plain": [
       "DataTransformerRegistry.enable('default')"
      ]
     },
     "execution_count": 1,
     "metadata": {},
     "output_type": "execute_result"
    }
   ],
   "source": [
    "import datetime\n",
    "import numpy as np\n",
    "import pandas as pd\n",
    "\n",
    "from collections import defaultdict\n",
    "\n",
    "# quick visualization\n",
    "import matplotlib.pyplot as plt\n",
    "import seaborn as sns\n",
    "\n",
    "# Waffle Charts\n",
    "# from pywaffle import Waffle \n",
    "# docs: https://pywaffle.readthedocs.io/en/latest/examples/block_shape_distance_location_and_direction.html\n",
    "\n",
    "# visualization\n",
    "import altair as alt\n",
    "\n",
    "# enabling notebook renderer\n",
    "# alt.renderers.enable('notebook')\n",
    "alt.renderers.enable('default')\n",
    "\n",
    "# disabling rows limit\n",
    "alt.data_transformers.disable_max_rows()"
   ]
  },
  {
   "cell_type": "markdown",
   "metadata": {},
   "source": [
    "## Importing data..."
   ]
  },
  {
   "cell_type": "code",
   "execution_count": 2,
   "metadata": {
    "ExecuteTime": {
     "end_time": "2021-02-23T02:35:16.633896Z",
     "start_time": "2021-02-23T02:35:16.443201Z"
    }
   },
   "outputs": [],
   "source": [
    "NewTable = pd.read_csv('./data/treated_db.csv', sep=';', encoding='utf-8-sig', low_memory= False)"
   ]
  },
  {
   "cell_type": "markdown",
   "metadata": {},
   "source": [
    "<br>\n",
    "\n",
    "<font size=5>**Color Palette**</font>\n",
    "\n",
    "<!-- <img src=\"./src/paleta_cores.jpeg\" width='500px'> -->\n",
    "\n",
    "<!-- Cores: \n",
    "\n",
    "- verde_escuro: #284021\n",
    "- verde_claro: #88BF11\n",
    "- amarelo: #D9CB0B\n",
    "- laranja: #D99311\n",
    "- laranja_escuro: #BF4417\n",
    "- marrom-_laro: #BF8D7A -->"
   ]
  },
  {
   "cell_type": "code",
   "execution_count": 3,
   "metadata": {
    "ExecuteTime": {
     "end_time": "2021-02-23T02:35:16.640034Z",
     "start_time": "2021-02-23T02:35:16.636632Z"
    }
   },
   "outputs": [],
   "source": [
    "# importing customized color palettes\n",
    "from src.MNViz_colors import *"
   ]
  },
  {
   "cell_type": "code",
   "execution_count": 4,
   "metadata": {
    "ExecuteTime": {
     "end_time": "2021-02-23T02:35:16.685721Z",
     "start_time": "2021-02-23T02:35:16.641910Z"
    }
   },
   "outputs": [],
   "source": [
    "# p.s.: Caudata is an error and should be removed\n",
    "# cores_ordem = {\n",
    "#     'Squamata': '#BF4417',\n",
    "#     'Testudines': '#D9CB0B', \n",
    "#     'Crocodylia': '#284021'\n",
    "# }\n",
    "\n",
    "ordens = list(cores_ordem.keys())\n",
    "cores = list(cores_ordem.values())"
   ]
  },
  {
   "cell_type": "markdown",
   "metadata": {},
   "source": [
    "**Paleta de Cores - Família:**\n",
    "\n",
    "- grupo 1: 1 cor  (verde escuro)\n",
    "<ul>\n",
    "    <li style=\"color:#142611\"><b>centroide 1</b></li>\n",
    "</ul>\n",
    "- grupo 2: 8 cores\n",
    "<ul>\n",
    "    <li style=\"color:#85D907\"><b>centroide 2</b></li>\n",
    "</ul>\n",
    "\n",
    "['#d7ff81', '#bafd62', '#9feb3f', '#85d907', '#6cc700', '#52b700', '#35a600', '#0b9700', '#008800']\n",
    "\n",
    "<font color=\"#d7ff81\"><b>cor 1</b> (ficou fora)</font>\n",
    "<font color=\"#bafd62\"><b>cor 2</b></font>\n",
    "<font color=\"#9feb3f\"><b>cor 3</b></font>\n",
    "<font color=\"#85d907\"><b>cor 4</b></font>\n",
    "<font color=\"#6cc700\"><b>cor 5</b></font>\n",
    "<font color=\"#52b700\"><b>cor 6</b></font>\n",
    "<font color=\"#35a600\"><b>cor 7</b></font>\n",
    "<font color=\"#0b9700\"><b>cor 8</b></font>\n",
    "<font color=\"#008800\"><b>cor 9</b></font>\n",
    "\n",
    "\n",
    "- grupo 3: 2 cores\n",
    "#888C03\n",
    "<ul>\n",
    "    <li style=\"color:#22401E\"><b>centroide 3 (puxando para tons frios mais claros)</b></li>\n",
    "</ul>\n",
    "\n",
    "<font color=\"#99b6b2\"><b>cor 1</b></font>\n",
    "<font color=\"#81a58b\"><b>cor 2</b></font>\n",
    "\n",
    "\n",
    "- grupo 4: 1 cor  (amarelo)\n",
    "<ul>\n",
    "    <li style=\"color:#F2CB07\"><b>centroide 4</b></li>\n",
    "</ul>\n",
    "\n",
    "- grupo 5: 10 cores\n",
    "<ul>\n",
    "    <li style=\"color:#cb97d4\"><b>centroide 5 (puxando para o roxo)</b></li>\n",
    "</ul>\n",
    "\n",
    "['#f8dcf9', '#ebc5ed', '#ddafe2', '#ce9ad6', '#bf86cc', '#af73c2', '#a160b8', '#924fae', '#833fa4'] #803da1\n",
    "\n",
    "<font color=\"#f8dcf9\"><b>cor 1</b></font>\n",
    "<font color=\"#ebc5ed\"><b>cor 2</b></font>\n",
    "<font color=\"#ddafe2\"><b>cor 3</b></font>\n",
    "<font color=\"#ce9ad6\"><b>cor 4</b></font>\n",
    "<font color=\"#bf86cc\"><b>cor 5</b></font>\n",
    "<font color=\"#af73c2\"><b>cor 6</b></font>\n",
    "<font color=\"#a160b8\"><b>cor 7</b></font>\n",
    "<font color=\"#924fae\"><b>cor 8</b></font>\n",
    "<font color=\"#833fa4\"><b>cor 9</b></font>\n",
    "<font color=\"#803da1\"><b>cor 10</b></font>\n",
    "\n",
    "\n",
    "- grupo 6: 12 cores\n",
    "<ul>\n",
    "    <li style=\"color:#91F2E9\"><b>centroide 6</b></li>\n",
    "</ul>\n",
    "\n",
    "['#c9fff9', '#b3eff2', '#9cdcea', '#83c9e2', '#68b7da', '#4aa6d2', '#2096ca', '#0087c1', '#0079b7']\n",
    "\n",
    "['#cee5d8', '#b3d2d1', '#9bbfc9', '#83adc2', '#6d9bba', '#568ab2', '#3e7baa', '#226ca2', '#005e98']\n",
    "\n",
    "\n",
    "<font color=\"#c9fff9\"><b>cor 1</b></font>\n",
    "<font color=\"#b3eff2\"><b>cor 2</b></font>\n",
    "<font color=\"#9cdcea\"><b>cor 3</b></font>\n",
    "<font color=\"#83c9e2\"><b>cor 4</b></font>\n",
    "<font color=\"#68b7da\"><b>cor 5</b></font>\n",
    "<font color=\"#4aa6d2\"><b>cor 6</b></font>\n",
    "<font color=\"#2096ca\"><b>cor 7</b></font>\n",
    "<font color=\"#0087c1\"><b>cor 8</b></font>\n",
    "<font color=\"#0079b7\"><b>cor 9</b></font>\n",
    "<font color=\"#3e7baa\"><b>cor 10</b></font>\n",
    "<font color=\"#226ca2\"><b>cor 11</b></font>\n",
    "<font color=\"#005e98\"><b>cor 12</b></font>\n",
    "\n",
    "\n",
    "- grupo 7: 3 cores\n",
    "<ul>\n",
    "    <li style=\"color:#8C1A0F\"><b>centroide 7 (puxando para o marrom)</b></li>\n",
    "</ul>\n",
    "\n",
    "['#fde5bf', '#efd09f', '#e1bb82', '#d3a767', '#c6934d', '#b98033', '#ac6f18', '#9e5e00', '#914e00']\n",
    "\n",
    "<font color=\"#ac6f18\"><b>cor 1</b></font>\n",
    "<font color=\"#9e5e00\"><b>cor 2</b></font>\n",
    "<font color=\"#914e00\"><b>cor 3</b></font>\n",
    "\n",
    "\n",
    "- grupo 8: 13 cores\n",
    "<ul>\n",
    "    <li style=\"color:#D9430D\"><b>centroide 8</b></li>\n",
    "</ul>\n",
    "\n",
    "['#ffce9f', '#ffb683', '#ff9f69', '#ff8851', '#f5723b', '#e75b25', '#d9430d', '#cb2800', '#bc0000']\n",
    "\n",
    "['#ff8f68', '#ff7e56', '#ff6b40', '#ee5829', '#d9430d', '#c62f00', '#b41b00', '#a40300', '#930000']\n",
    "\n",
    "<font color=\"#ffce9f\"><b>cor 1</b></font>\n",
    "<font color=\"#ffb683\"><b>cor 2</b></font>\n",
    "<font color=\"#ff9f69\"><b>cor 3</b></font>\n",
    "<font color=\"#ff8851\"><b>cor 4</b></font>\n",
    "<font color=\"#f5723b\"><b>cor 5</b></font>\n",
    "<font color=\"#e75b25\"><b>cor 6</b></font>\n",
    "<font color=\"#d9430d\"><b>cor 7</b></font>\n",
    "<font color=\"#cb2800\"><b>cor 8</b></font>\n",
    "<font color=\"#bc0000\"><b>cor 9</b></font>\n",
    "<font color=\"#c62f00\"><b>cor 10</b></font>\n",
    "<font color=\"#b41b00\"><b>cor 11</b></font>\n",
    "<font color=\"#a40300\"><b>cor 12</b></font>\n",
    "<font color=\"#930000\"><b>cor 13</b></font>\n",
    "\n",
    "<br>\n",
    "\n",
    "**TOTAL: 50 cores**"
   ]
  },
  {
   "cell_type": "markdown",
   "metadata": {},
   "source": [
    "<br>\n",
    "\n",
    "\n",
    "## Graphs\n",
    "\n",
    "---\n",
    "### Creating chart: counts per determiner per year"
   ]
  },
  {
   "cell_type": "code",
   "execution_count": 5,
   "metadata": {
    "ExecuteTime": {
     "end_time": "2021-02-23T02:35:16.790045Z",
     "start_time": "2021-02-23T02:35:16.688823Z"
    }
   },
   "outputs": [],
   "source": [
    "teste = NewTable.groupby(['determinator_full_name','ano_determinacao']).count()['class'].reset_index().rename(columns=\n",
    "                                                                                            {'class':'counts'})"
   ]
  },
  {
   "cell_type": "code",
   "execution_count": 6,
   "metadata": {
    "ExecuteTime": {
     "end_time": "2021-02-23T02:35:16.807505Z",
     "start_time": "2021-02-23T02:35:16.791790Z"
    }
   },
   "outputs": [],
   "source": [
    "g1 = alt.Chart(teste, title= 'Counts per determiner',width=800, height=2200).mark_circle().encode(\n",
    "    x= alt.X('ano_determinacao', type='ordinal', title='Determined Year'),\n",
    "    y= alt.Y('determinator_full_name', type='nominal', title='Determiner Name', \n",
    "            sort=alt.EncodingSortField('counts', op=\"count\", order='descending')),\n",
    "    size= alt.Size('counts', scale=alt.Scale(range=[15, 500])),  # range ajusta tamanho do circulo\n",
    "    tooltip= alt.Tooltip(['determinator_full_name', 'ano_determinacao', 'counts'])\n",
    ")\n",
    "\n",
    "g1 = g1.configure_title(fontSize=16).configure_axis(\n",
    "    labelFontSize=12,\n",
    "    titleFontSize=12\n",
    ").configure_legend(\n",
    "    labelFontSize=12,\n",
    "    titleFontSize=12\n",
    ")\n",
    "\n",
    "# g1.save('./graphs/determiner/counts_per_determiner.html')\n",
    "# g1"
   ]
  },
  {
   "cell_type": "markdown",
   "metadata": {},
   "source": [
    "<br>\n",
    "\n",
    "<font color='red' size='5'>same chart, including families while grouping</font>\n",
    "\n",
    "**p.s.:** Note that the counts will change as we're rearranging by one more field\n",
    "\n",
    "### counts per year (rearranged by sum)"
   ]
  },
  {
   "cell_type": "code",
   "execution_count": 7,
   "metadata": {
    "ExecuteTime": {
     "end_time": "2021-02-23T02:35:16.917070Z",
     "start_time": "2021-02-23T02:35:16.809244Z"
    }
   },
   "outputs": [],
   "source": [
    "teste1 = NewTable.groupby(['determinator_full_name','ano_determinacao', 'familia']).count()['class'].reset_index().rename(columns=\n",
    "                                                                                            {'class':'counts'})"
   ]
  },
  {
   "cell_type": "code",
   "execution_count": 8,
   "metadata": {
    "ExecuteTime": {
     "end_time": "2021-02-23T02:35:16.952519Z",
     "start_time": "2021-02-23T02:35:16.920264Z"
    },
    "scrolled": false
   },
   "outputs": [],
   "source": [
    "# database\n",
    "db = teste1\n",
    "\n",
    "# aux. variables & filtering out some families (that doesn't have determiner name or year)\n",
    "# familias = [f for f in cores_familia.keys() if f in teste1['familia'].unique()]\n",
    "# cores_temp = [cores_familia[f] for f in familias]\n",
    "x_labels = db.sort_values('ano_determinacao')['ano_determinacao'].unique()\n",
    "temp = db.groupby('determinator_full_name').sum().reset_index().sort_values('counts', ascending=False)\n",
    "y_labels = temp['determinator_full_name'].unique()\n",
    "temp = db['counts'].unique()\n",
    "counts = list(range(temp.min(), temp.max(), 100))\n",
    "\n",
    "# selector\n",
    "select_family = alt.selection_multi(fields= ['familia'], bind='legend')\n",
    "\n",
    "\n",
    "g2 = alt.Chart(db, title= 'Counts per determiner (sorted by sum)', \n",
    "               width=800, height=2200).mark_circle().encode(\n",
    "    x= alt.X('ano_determinacao:O', title='Determination Year',\n",
    "             scale= alt.Scale(domain= x_labels)),\n",
    "    y= alt.Y('determinator_full_name:N', title='Determiner Name', \n",
    "             scale= alt.Scale(domain= y_labels),\n",
    "             sort=alt.EncodingSortField('counts', op=\"sum\", order='descending')),\n",
    "    size= alt.Size('counts:Q', title= 'Counts', \n",
    "                   legend= alt.Legend(orient= 'right', direction= 'horizontal', tickCount=4),\n",
    "                   scale=alt.Scale(domain= counts, range=[20, 120], zero=True)),  # range ajusta tamanho do circulo\n",
    "    order= alt.Order('counts', sort='descending'),  # smaller points in front\n",
    "    color= alt.Color('familia', type=\"nominal\", title=\"Family\", \n",
    "                     legend= alt.Legend(columns=2, symbolLimit=50),\n",
    "                     scale=alt.Scale(domain=list(cores_familia.keys()), \n",
    "                                     range=list(cores_familia.values()))),\n",
    "    tooltip= alt.Tooltip(['determinator_full_name', 'ano_determinacao', 'counts', 'familia'])\n",
    ").add_selection(select_family).transform_filter(select_family)\n",
    "\n",
    "g2 = g2.configure_title(fontSize=16).configure_axis(\n",
    "    labelFontSize=12,\n",
    "    titleFontSize=12\n",
    ").configure_legend(\n",
    "    labelFontSize=12,\n",
    "    titleFontSize=12\n",
    ")\n",
    "\n",
    "# saving chart\n",
    "# g2.save('./graphs/determiner/counts_per_determiner-wFamilies.html')\n",
    "# g2"
   ]
  },
  {
   "cell_type": "markdown",
   "metadata": {},
   "source": [
    "<br>\n",
    "\n",
    "<font color='red'>**same chart, now rearranging by the first year the determiner shows up on the database**</font>"
   ]
  },
  {
   "cell_type": "code",
   "execution_count": 9,
   "metadata": {
    "ExecuteTime": {
     "end_time": "2021-02-23T02:35:16.993397Z",
     "start_time": "2021-02-23T02:35:16.955060Z"
    }
   },
   "outputs": [],
   "source": [
    "# ordenando\n",
    "teste1.sort_values(['ano_determinacao', 'determinator_full_name'], inplace=True)\n",
    "\n",
    "# salvando ordem das entradas\n",
    "sorting = list(teste1['determinator_full_name'].unique())"
   ]
  },
  {
   "cell_type": "code",
   "execution_count": 10,
   "metadata": {
    "ExecuteTime": {
     "end_time": "2021-02-23T02:35:17.054170Z",
     "start_time": "2021-02-23T02:35:16.995060Z"
    },
    "scrolled": false
   },
   "outputs": [],
   "source": [
    "# database\n",
    "db = teste1\n",
    "\n",
    "# aux. variables & filtering out some families (that doesn't have determiner name or year)\n",
    "# familias = [f for f in cores_familia.keys() if f in teste1['familia'].unique()]\n",
    "# cores_temp = [cores_familia[f] for f in familias]\n",
    "x_labels = db.sort_values('ano_determinacao')['ano_determinacao'].unique()\n",
    "y_labels = db.sort_values('ano_determinacao')['determinator_full_name'].unique()\n",
    "temp = db['counts'].unique()\n",
    "counts = list(range(temp.min(), temp.max(), 100))\n",
    "\n",
    "# selector\n",
    "select_family = alt.selection_multi(fields= ['familia'], bind='legend')\n",
    "\n",
    "g2 = alt.Chart(teste1, title= 'Counts per determiner (rearranged by first year of appearance)', \n",
    "               width=800, height=1400).mark_circle().encode(\n",
    "    x= alt.X('ano_determinacao', type='ordinal', title='Determination Year',\n",
    "             scale= alt.Scale(domain= x_labels)),\n",
    "    y= alt.Y('determinator_full_name', type='nominal', title='Determiner Name', \n",
    "             scale= alt.Scale(domain= y_labels),\n",
    "             sort=sorting),\n",
    "    size= alt.Size('counts', type=\"quantitative\", title= 'Counts',\n",
    "                   legend= alt.Legend(orient= 'right', direction= 'horizontal', tickCount= 4),\n",
    "                   scale=alt.Scale(domain= counts, range=[20, 120], zero= True)),  # range ajusta tamanho do circulo\n",
    "    order= alt.Order('counts', sort='descending'),  # smaller points in front\n",
    "    color= alt.Color('familia', type=\"nominal\", title=\"Family\", \n",
    "                     legend= alt.Legend(columns=2, symbolLimit=50),\n",
    "                     scale=alt.Scale(domain= list(cores_familia.keys()), \n",
    "                                     range=list(cores_familia.values()))),\n",
    "    tooltip= alt.Tooltip(['determinator_full_name', 'ano_determinacao', 'counts', 'familia'])\n",
    ").add_selection(select_family).transform_filter(select_family)\n",
    "\n",
    "g2 = g2.configure_title(fontSize=16).configure_axis(\n",
    "    labelFontSize=12,\n",
    "    titleFontSize=12\n",
    ").configure_legend(\n",
    "    labelFontSize=12,\n",
    "    titleFontSize=12\n",
    ")\n",
    "\n",
    "# saving chart\n",
    "# g2.save('./graphs/determiner/counts_per_determiner-rearranged.html')\n",
    "# g2"
   ]
  },
  {
   "cell_type": "markdown",
   "metadata": {},
   "source": [
    "<br>\n",
    "\n",
    "### Chart: most expressive determiners (top 50)"
   ]
  },
  {
   "cell_type": "code",
   "execution_count": 11,
   "metadata": {
    "ExecuteTime": {
     "end_time": "2021-02-23T02:35:17.098497Z",
     "start_time": "2021-02-23T02:35:17.056499Z"
    }
   },
   "outputs": [],
   "source": [
    "# summing contributions of each researcher\n",
    "sorting = teste1.groupby('determinator_full_name').sum()['counts'].reset_index().rename(\n",
    "    columns={'counts':'sum'})\n",
    "\n",
    "sorting = sorting.sort_values('sum', ascending=False)\n",
    "\n",
    "# Sorted names\n",
    "sort_list = sorting['determinator_full_name'].unique()\n",
    "\n",
    "# sorting.head()"
   ]
  },
  {
   "cell_type": "code",
   "execution_count": 12,
   "metadata": {
    "ExecuteTime": {
     "end_time": "2021-02-23T02:35:17.202908Z",
     "start_time": "2021-02-23T02:35:17.100254Z"
    }
   },
   "outputs": [],
   "source": [
    "# database\n",
    "db = teste1[teste1['determinator_full_name'].isin(sort_list[:50])]\n",
    "\n",
    "# aux. variables & filtering out some families (that doesn't have determiner name or year)\n",
    "familias = [f for f in cores_familia.keys() if f in \n",
    "               teste1[teste1['determinator_full_name'].isin(sort_list[:50])]['familia'].unique()]\n",
    "cores_temp = [cores_familia[f] for f in familias]\n",
    "x_labels = db.sort_values('ano_determinacao')['ano_determinacao'].unique()\n",
    "y_labels = sort_list[:50]\n",
    "temp = db['counts'].unique()\n",
    "counts = list(range(temp.min(), temp.max(), 100))\n",
    "\n",
    "# selector\n",
    "select_family = alt.selection_multi(fields= ['familia'], bind='legend')\n",
    "\n",
    "# chart\n",
    "g2 = alt.Chart(db, title= 'Counts per determiner (Top 50)', width=700, height=700).mark_circle().encode(\n",
    "    x= alt.X('ano_determinacao', type='ordinal', title='Determination Year',\n",
    "             scale= alt.Scale(domain= x_labels)),\n",
    "    y= alt.Y('determinator_full_name', type='nominal', title='Determiner Name',\n",
    "             scale= alt.Scale(domain= y_labels),\n",
    "             sort=sort_list),\n",
    "    size= alt.Size('counts', type=\"quantitative\", title= 'Counts',\n",
    "                   legend= alt.Legend(orient= 'right', direction='horizontal', tickCount= 4),\n",
    "                   scale=alt.Scale(domain= counts, range=[20, 120], zero=True)),  # range ajusta tamanho do circulo\n",
    "    order= alt.Order('counts', sort='descending'),  # smaller points in front\n",
    "    color= alt.Color('familia', type=\"nominal\", title=\"Family\", \n",
    "                     legend= alt.Legend(columns=2, symbolLimit=50),\n",
    "                     scale=alt.Scale(domain=familias, range=cores_temp)),\n",
    "    tooltip= alt.Tooltip(['determinator_full_name', 'ano_determinacao', 'counts', 'familia'])\n",
    ").add_selection(select_family).transform_filter(select_family)\n",
    "\n",
    "g2 = g2.configure_title(fontSize=16).configure_axis(\n",
    "    labelFontSize=12,\n",
    "    titleFontSize=12\n",
    ").configure_legend(\n",
    "    labelFontSize=12,\n",
    "    titleFontSize=12\n",
    ")\n",
    "\n",
    "# saving chart\n",
    "# g2.save('./graphs/determiner/counts_per_determiner-top_50.html')\n",
    "# g2"
   ]
  },
  {
   "cell_type": "markdown",
   "metadata": {},
   "source": [
    "<font color='red'>same chart, but rearranging by the first year of appearance on  database</font>"
   ]
  },
  {
   "cell_type": "code",
   "execution_count": 14,
   "metadata": {
    "ExecuteTime": {
     "end_time": "2021-02-23T02:35:22.673829Z",
     "start_time": "2021-02-23T02:35:22.589612Z"
    }
   },
   "outputs": [],
   "source": [
    "# database\n",
    "db = teste1[teste1['determinator_full_name'].isin(sort_list[:50])]\n",
    "\n",
    "# aux. variables & filtering out some families (that doesn't have determiner name or year)\n",
    "familias = [f for f in cores_familia.keys() if f in \n",
    "               teste1[teste1['determinator_full_name'].isin(sort_list[:50])]['familia'].unique()]\n",
    "cores_temp = [cores_familia[f] for f in familias]\n",
    "x_labels = db.sort_values('ano_determinacao')['ano_determinacao'].unique()\n",
    "y_labels = db.sort_values('ano_determinacao')['determinator_full_name'].unique()\n",
    "temp = db['counts'].unique()\n",
    "counts = list(range(temp.min(), temp.max(), 100))\n",
    "\n",
    "# selector\n",
    "select_family = alt.selection_multi(fields= ['familia'], bind='legend')\n",
    "\n",
    "# chart\n",
    "g2 = alt.Chart(db, title= 'Counts per determiner (Top 50 - rearranged by first year of appearance)', width=700, height=700).mark_circle().encode(\n",
    "    x= alt.X('ano_determinacao', type='ordinal', title='Determination Year',\n",
    "             scale= alt.Scale(domain= x_labels)),\n",
    "    y= alt.Y('determinator_full_name', type='nominal', title='Determiner Name',\n",
    "             scale= alt.Scale(domain= y_labels),\n",
    "             sort=sort_list),\n",
    "    size= alt.Size('counts', type=\"quantitative\", title= 'Counts',\n",
    "                   legend= alt.Legend(orient= 'right', direction='horizontal', tickCount= 4),\n",
    "                   scale=alt.Scale(domain= counts, range=[20, 120], zero=True)),  # range ajusta tamanho do circulo\n",
    "    order= alt.Order('counts', sort='descending'),  # smaller points in front\n",
    "    color= alt.Color('familia', type=\"nominal\", title=\"Family\", \n",
    "                     legend= alt.Legend(columns=2, symbolLimit=50),\n",
    "                     scale=alt.Scale(domain=familias, range=cores_temp)),\n",
    "    tooltip= alt.Tooltip(['determinator_full_name', 'ano_determinacao', 'counts', 'familia'])\n",
    ").add_selection(select_family).transform_filter(select_family)\n",
    "\n",
    "g2 = g2.configure_title(fontSize=16).configure_axis(\n",
    "    labelFontSize=12,\n",
    "    titleFontSize=12\n",
    ").configure_legend(\n",
    "    labelFontSize=12,\n",
    "    titleFontSize=12\n",
    ")\n",
    "\n",
    "# saving chart\n",
    "# g2.save('./graphs/determiner/counts_per_determiner-top_50-rearranged.html')\n",
    "# g2"
   ]
  },
  {
   "cell_type": "markdown",
   "metadata": {},
   "source": [
    "**less frequent determiners**"
   ]
  },
  {
   "cell_type": "code",
   "execution_count": 15,
   "metadata": {
    "ExecuteTime": {
     "end_time": "2021-02-23T02:35:23.365080Z",
     "start_time": "2021-02-23T02:35:23.280725Z"
    },
    "scrolled": false
   },
   "outputs": [],
   "source": [
    "# database\n",
    "db = teste1[teste1['determinator_full_name'].isin(sort_list[50:])]\n",
    "\n",
    "# aux. variables & filtering out some families (that doesn't have determiner name or year)\n",
    "familias = [f for f in cores_familia.keys() if f in \n",
    "               teste1[teste1['determinator_full_name'].isin(sort_list[:50])]['familia'].unique()]\n",
    "cores_temp = [cores_familia[f] for f in familias]\n",
    "x_labels = db.sort_values('ano_determinacao')['ano_determinacao'].unique()\n",
    "y_labels = sort_list[50:]\n",
    "temp = db['counts'].unique()\n",
    "counts = list(range(temp.min(), temp.max(), 1))\n",
    "\n",
    "# selector\n",
    "select_family = alt.selection_multi(fields= ['familia'], bind='legend')\n",
    "\n",
    "g2 = alt.Chart(db, title= 'Counts per determiner (below Top 50)', width=800, height=600).mark_circle().encode(\n",
    "    x= alt.X('ano_determinacao', type='ordinal', title='Determined Year',\n",
    "             scale= alt.Scale(domain= x_labels)),\n",
    "    y= alt.Y('determinator_full_name', type='nominal', title='Determiner Name', \n",
    "            sort=sort_list),\n",
    "    size= alt.Size('counts', type=\"quantitative\", title= 'Counts',\n",
    "                   legend= alt.Legend(orient= 'right', direction= 'horizontal', tickCount= 4),\n",
    "                   scale=alt.Scale(domain= counts, range=[20, 40], zero=True)),  # range ajusta tamanho do circulo\n",
    "    order= alt.Order('counts', sort='descending'),  # smaller points in front\n",
    "    color= alt.Color('familia', type=\"nominal\", title=\"Family\", \n",
    "                     legend= alt.Legend(columns=2, symbolLimit=50),\n",
    "                     scale=alt.Scale(domain=familias, range=cores_temp)),\n",
    "    tooltip= alt.Tooltip(['determinator_full_name', 'ano_determinacao', 'counts', 'familia'])\n",
    ").add_selection(select_family).transform_filter(select_family)\n",
    "\n",
    "g2 = g2.configure_title(fontSize=16).configure_axis(\n",
    "    labelFontSize=12,\n",
    "    titleFontSize=12\n",
    ").configure_legend(\n",
    "    labelFontSize=12,\n",
    "    titleFontSize=12\n",
    ")\n",
    "\n",
    "# saving chart\n",
    "# g2.save('./graphs/determiner/counts_per_determiner-less_freq.html')\n",
    "# g2"
   ]
  },
  {
   "cell_type": "markdown",
   "metadata": {},
   "source": [
    "<br>\n",
    "\n",
    "### Creating chart: counts per collector per year\n",
    "\n",
    "<font color='red' size='5'> Collectors name is sensitive data. Do not publish it without curator's permission </font>"
   ]
  },
  {
   "cell_type": "code",
   "execution_count": 16,
   "metadata": {
    "ExecuteTime": {
     "end_time": "2021-02-23T02:35:24.792454Z",
     "start_time": "2021-02-23T02:35:24.726901Z"
    }
   },
   "outputs": [],
   "source": [
    "teste = NewTable.groupby(['collector_full_name','ano_coleta']).count()['class'].reset_index().rename(columns=\n",
    "                                                                                            {'class':'counts'})"
   ]
  },
  {
   "cell_type": "code",
   "execution_count": 17,
   "metadata": {
    "ExecuteTime": {
     "end_time": "2021-02-23T02:35:25.101518Z",
     "start_time": "2021-02-23T02:35:25.091942Z"
    }
   },
   "outputs": [],
   "source": [
    "g1 = alt.Chart(teste, title='Counts per collector', width=800, height=2200).mark_circle().encode(\n",
    "    x= alt.X('ano_coleta', type='ordinal', title='Collected Year'),\n",
    "    y= alt.Y('collector_full_name', type='nominal', title='Collector Name', \n",
    "            sort=alt.EncodingSortField('counts', op=\"count\", order='descending')),\n",
    "    size= alt.Size('counts', scale=alt.Scale(range=[15, 500])),  # range ajusta tamanho do circulo\n",
    "    order= alt.Order('counts', sort='descending'),  # smaller points in front\n",
    "    tooltip= alt.Tooltip(['collector_full_name', 'ano_coleta', 'counts'])\n",
    ")\n",
    "\n",
    "g1 = g1.configure_title(fontSize=16).configure_axis(\n",
    "    labelFontSize=12,\n",
    "    titleFontSize=12\n",
    ").configure_legend(\n",
    "    labelFontSize=12,\n",
    "    titleFontSize=12\n",
    ")\n",
    "\n",
    "# g1.save('./graphs/collector/counts_per_collector.html')\n",
    "# g1"
   ]
  },
  {
   "cell_type": "markdown",
   "metadata": {},
   "source": [
    "<font color='red' size='5'>mesmo gráfico, ordenando também pela ordem</font>\n",
    "\n",
    "**OBS:** Note que\n",
    "\n",
    "- as contagens mudam (porque estamos ordenando por um fator a mais)\n",
    "- há pontos sobrepostos (semelhante ao que tinhamos para a base crustaceas - para um mesmo ano, um mesmo pesquisador descobriu animais de ordens/familias diferentes)"
   ]
  },
  {
   "cell_type": "code",
   "execution_count": 18,
   "metadata": {
    "ExecuteTime": {
     "end_time": "2021-02-23T02:35:26.749221Z",
     "start_time": "2021-02-23T02:35:26.677215Z"
    }
   },
   "outputs": [],
   "source": [
    "teste1 = NewTable.groupby(['collector_full_name','ano_coleta', 'familia']).count()['class'].reset_index().rename(columns=\n",
    "                                                                                            {'class':'counts'})"
   ]
  },
  {
   "cell_type": "code",
   "execution_count": 19,
   "metadata": {
    "ExecuteTime": {
     "end_time": "2021-02-23T02:35:26.925179Z",
     "start_time": "2021-02-23T02:35:26.894645Z"
    },
    "scrolled": false
   },
   "outputs": [],
   "source": [
    "# database\n",
    "db = teste1\n",
    "\n",
    "# aux. variables & filtering out some families (that doesn't have colelctor name or year)\n",
    "# familias = [f for f in cores_familia.keys() if f in teste1['familia'].unique()]\n",
    "# cores_temp = [cores_familia[f] for f in familias]\n",
    "x_labels = db.sort_values('ano_coleta')['ano_coleta'].unique()\n",
    "temp = db.groupby('collector_full_name').sum().reset_index().sort_values('counts', ascending=False)\n",
    "y_labels = temp['collector_full_name'].unique()\n",
    "temp = db['counts'].unique()\n",
    "counts = list(range(temp.min(), temp.max(), 50))\n",
    "\n",
    "# selector\n",
    "select_family = alt.selection_multi(fields= ['familia'], bind='legend')\n",
    "\n",
    "\n",
    "g2 = alt.Chart(teste1, title= 'Counts per collector (sorted by sum)',\n",
    "               width=800, height=1200).mark_circle().encode(\n",
    "    x= alt.X('ano_coleta', type='ordinal', title='Sampling Year',\n",
    "             scale= alt.Scale(domain= x_labels)),\n",
    "    y= alt.Y('collector_full_name', type='nominal', title='Collector Name', \n",
    "#              scale= alt.Scale(domain= y_labels),\n",
    "             sort=alt.EncodingSortField('counts', op=\"sum\", order='descending')),\n",
    "    size= alt.Size('counts', type=\"quantitative\", title= 'Counts',\n",
    "                   legend= alt.Legend(orient= 'right', direction= 'horizontal', tickCount= 4),\n",
    "                   scale=alt.Scale(domain= counts,range=[20, 120])),  # range ajusta tamanho do circulo\n",
    "    order= alt.Order('counts', sort='descending'),  # smaller points in front\n",
    "    color= alt.Color('familia', type=\"nominal\", title=\"Family\", \n",
    "                     legend= alt.Legend(columns=2, symbolLimit=50),\n",
    "                     scale=alt.Scale(domain=list(cores_familia.keys()), \n",
    "                                     range=list(cores_familia.values()))),\n",
    "    tooltip= alt.Tooltip(['collector_full_name', 'ano_coleta', 'counts', 'familia'])\n",
    ").add_selection(select_family).transform_filter(select_family)\n",
    "\n",
    "g2 = g2.configure_title(fontSize=16).configure_axis(\n",
    "    labelFontSize=12,\n",
    "    titleFontSize=12\n",
    ").configure_legend(\n",
    "    labelFontSize=12,\n",
    "    titleFontSize=12\n",
    ")\n",
    "\n",
    "# saving chart\n",
    "# g2.save('./graphs/collector/counts_per_collector-wFamilies.html')\n",
    "# g2"
   ]
  },
  {
   "cell_type": "markdown",
   "metadata": {},
   "source": [
    "<br>\n",
    "\n",
    "<font color='red'>**same chart, rearranging by the first year the collector shows up in the database**</font>"
   ]
  },
  {
   "cell_type": "code",
   "execution_count": 20,
   "metadata": {
    "ExecuteTime": {
     "end_time": "2021-02-23T02:35:29.138034Z",
     "start_time": "2021-02-23T02:35:29.118383Z"
    }
   },
   "outputs": [],
   "source": [
    "# ordenando\n",
    "teste1.sort_values(['ano_coleta', 'collector_full_name'], inplace=True)\n",
    "\n",
    "# salvando ordem das entradas\n",
    "sorting = list(teste1['collector_full_name'].unique())"
   ]
  },
  {
   "cell_type": "code",
   "execution_count": 21,
   "metadata": {
    "ExecuteTime": {
     "end_time": "2021-02-23T02:35:39.805004Z",
     "start_time": "2021-02-23T02:35:39.770268Z"
    }
   },
   "outputs": [],
   "source": [
    "# database\n",
    "db = teste1\n",
    "\n",
    "# aux. variables & filtering out some families (that doesn't have determiner name or year)\n",
    "# familias = [f for f in cores_familia.keys() if f in teste1['familia'].unique()]\n",
    "# cores_temp = [cores_familia[f] for f in familias]\n",
    "x_labels = db.sort_values('ano_coleta')['ano_coleta'].unique()\n",
    "y_labels = db.sort_values('ano_coleta')['collector_full_name'].unique()\n",
    "temp = db['counts'].unique()\n",
    "counts = list(range(temp.min(), temp.max(), 50))\n",
    "\n",
    "# selector\n",
    "select_family = alt.selection_multi(fields= ['familia'], bind='legend')\n",
    "\n",
    "g2 = alt.Chart(teste1, title= 'Counts per collector (rearranged by first year of appearance)',\n",
    "               width=800, height=1200).mark_circle().encode(\n",
    "    x= alt.X('ano_coleta', type='ordinal', title='Sampling Year', \n",
    "             scale= alt.Scale(domain= x_labels)),\n",
    "    y= alt.Y('collector_full_name', type='nominal', title='Collector Name', \n",
    "            sort=alt.EncodingSortField('ano_coleta', op=\"min\", order='ascending')),\n",
    "    size= alt.Size('counts', type=\"quantitative\", title= 'Counts',\n",
    "                   legend= alt.Legend(orient= 'right', direction= 'horizontal'),\n",
    "                   scale=alt.Scale( domain= counts, range=[20, 120], zero= False)),  # range ajusta tamanho do circulo\n",
    "    order= alt.Order('counts', sort='descending'),  # smaller points in front\n",
    "    color= alt.Color('familia', type=\"nominal\", title=\"Family\", \n",
    "                     legend= alt.Legend(columns=2, symbolLimit=50),\n",
    "                     scale=alt.Scale(domain= list(cores_familia.keys()), \n",
    "                                     range= list(cores_familia.values()))),\n",
    "    tooltip= alt.Tooltip(['collector_full_name', 'ano_coleta', 'counts', 'familia'])\n",
    ").add_selection(select_family).transform_filter(select_family)\n",
    "\n",
    "g2 = g2.configure_title(fontSize=16).configure_axis(\n",
    "    labelFontSize=12,\n",
    "    titleFontSize=12\n",
    ").configure_legend(\n",
    "    labelFontSize=12,\n",
    "    titleFontSize=12\n",
    ")\n",
    "\n",
    "# saving chart\n",
    "# g2.save('./graphs/collector/counts_per_collector-rearranged.html')\n",
    "# g2"
   ]
  },
  {
   "cell_type": "markdown",
   "metadata": {},
   "source": [
    "<br>\n",
    "\n",
    "### Chart: most expressive collectors (top 50)"
   ]
  },
  {
   "cell_type": "code",
   "execution_count": 22,
   "metadata": {
    "ExecuteTime": {
     "end_time": "2021-02-23T02:35:41.211194Z",
     "start_time": "2021-02-23T02:35:41.190963Z"
    }
   },
   "outputs": [],
   "source": [
    "# summing contributions of each collector\n",
    "sorting = teste1.groupby('collector_full_name').sum()['counts'].reset_index().rename(\n",
    "    columns={'counts':'sum'})\n",
    "\n",
    "sorting = sorting.sort_values('sum', ascending=False)\n",
    "\n",
    "# sorted names\n",
    "sort_list = sorting['collector_full_name'].unique()\n",
    "\n",
    "# sorting.head()"
   ]
  },
  {
   "cell_type": "code",
   "execution_count": 23,
   "metadata": {
    "ExecuteTime": {
     "end_time": "2021-02-23T02:35:42.316854Z",
     "start_time": "2021-02-23T02:35:42.218296Z"
    }
   },
   "outputs": [],
   "source": [
    "# database\n",
    "db = teste1[teste1['collector_full_name'].isin(sort_list[:50])]\n",
    "\n",
    "# aux. variables & filtering out some families (that doesn't have determiner name or year)\n",
    "familias = [f for f in cores_familia.keys() if f in \n",
    "               teste1[teste1['collector_full_name'].isin(sort_list[:50])]['familia'].unique()]\n",
    "cores_temp = [cores_familia[f] for f in familias]\n",
    "x_labels = db.sort_values('ano_coleta')['ano_coleta'].unique()\n",
    "y_labels = sort_list[:50]\n",
    "temp = db['counts'].unique()\n",
    "counts = list(range(temp.min(), temp.max(), 50))\n",
    "\n",
    "# selector\n",
    "select_family = alt.selection_multi(fields= ['familia'], bind='legend')\n",
    "\n",
    "# filtering out some families (not in TOP 50 determiners)\n",
    "\n",
    "\n",
    "\n",
    "g2 = alt.Chart(db, title= 'Counts per collector (Top 50)',\n",
    "               width=800, height=700).mark_circle().encode(\n",
    "    x= alt.X('ano_coleta', type='ordinal', title='Sampling Year',\n",
    "             scale= alt.Scale(domain= x_labels)),\n",
    "    y= alt.Y('collector_full_name', type='nominal', title='Collector Name', \n",
    "             scale= alt.Scale(domain= y_labels),\n",
    "             sort= sort_list[:50]),\n",
    "    size= alt.Size('counts', type=\"quantitative\", title= 'Counts',\n",
    "                   legend= alt.Legend(orient= 'right', direction= 'horizontal'),\n",
    "                   scale=alt.Scale(domain= counts, range=[20, 120])),  # range ajusta tamanho do circulo\n",
    "    order= alt.Order('counts', sort='descending'),  # smaller points in front\n",
    "    color= alt.Color('familia', type=\"nominal\", title=\"Family\", \n",
    "                     legend= alt.Legend(columns=2, symbolLimit=50),\n",
    "                     scale=alt.Scale(domain=familias, range=cores_temp)),\n",
    "    tooltip= alt.Tooltip(['collector_full_name', 'ano_coleta', 'counts', 'familia'])\n",
    ").add_selection(select_family).transform_filter(select_family)\n",
    "\n",
    "g2 = g2.configure_title(fontSize=16).configure_axis(\n",
    "    labelFontSize=12,\n",
    "    titleFontSize=12\n",
    ").configure_legend(\n",
    "    labelFontSize=12,\n",
    "    titleFontSize=12\n",
    ")\n",
    "\n",
    "# saving chart\n",
    "# g2.save('./graphs/collector/counts_per_collector-top_50.html')\n",
    "# g2"
   ]
  },
  {
   "cell_type": "markdown",
   "metadata": {},
   "source": [
    "<font color='red'> same chart, but rearranging by the first year of appearance on the database </font>"
   ]
  },
  {
   "cell_type": "code",
   "execution_count": 24,
   "metadata": {
    "ExecuteTime": {
     "end_time": "2021-02-23T02:35:43.889792Z",
     "start_time": "2021-02-23T02:35:43.860067Z"
    }
   },
   "outputs": [],
   "source": [
    "# summing contributions of each collector\n",
    "sorting = teste1.groupby('collector_full_name').sum()['counts'].reset_index().rename(\n",
    "    columns={'counts':'sum'})\n",
    "\n",
    "sorting = sorting.sort_values('sum', ascending=False)\n",
    "\n",
    "# sorted names\n",
    "sort_list = sorting['collector_full_name'].unique()\n",
    "\n",
    "# sorting.head()"
   ]
  },
  {
   "cell_type": "code",
   "execution_count": 26,
   "metadata": {
    "ExecuteTime": {
     "end_time": "2021-02-23T02:35:59.397703Z",
     "start_time": "2021-02-23T02:35:59.295499Z"
    }
   },
   "outputs": [],
   "source": [
    "# database\n",
    "db = teste1[teste1['collector_full_name'].isin(sort_list[:50])]\n",
    "\n",
    "# aux. variables & filtering out some families (that doesn't have determiner name or year)\n",
    "familias = [f for f in cores_familia.keys() if f in \n",
    "               teste1[teste1['collector_full_name'].isin(sort_list[:50])]['familia'].unique()]\n",
    "cores_temp = [cores_familia[f] for f in familias]\n",
    "x_labels = db.sort_values('ano_coleta')['ano_coleta'].unique()\n",
    "y_labels = db.sort_values('ano_coleta')['collector_full_name'].unique()\n",
    "temp = db['counts'].unique()\n",
    "counts = list(range(temp.min(), temp.max(), 50))\n",
    "\n",
    "# selector\n",
    "select_family = alt.selection_multi(fields= ['familia'], bind='legend')\n",
    "\n",
    "# filtering out some families (not in TOP 50 determiners)\n",
    "\n",
    "\n",
    "\n",
    "g2 = alt.Chart(db, title= 'Counts per collector (Top 50 - rearranged by first year of appearance)',\n",
    "               width=800, height=700).mark_circle().encode(\n",
    "    x= alt.X('ano_coleta', type='ordinal', title='Sampling Year',\n",
    "             scale= alt.Scale(domain= x_labels)),\n",
    "    y= alt.Y('collector_full_name', type='nominal', title='Collector Name', \n",
    "             scale= alt.Scale(domain= y_labels),\n",
    "             sort= sort_list[:50]),\n",
    "    size= alt.Size('counts', type=\"quantitative\", title= 'Counts',\n",
    "                   legend= alt.Legend(orient= 'right', direction= 'horizontal'),\n",
    "                   scale=alt.Scale(domain= counts, range=[20, 120])),  # range ajusta tamanho do circulo\n",
    "    order= alt.Order('counts', sort='descending'),  # smaller points in front\n",
    "    color= alt.Color('familia', type=\"nominal\", title=\"Family\", \n",
    "                     legend= alt.Legend(columns=2, symbolLimit=50),\n",
    "                     scale=alt.Scale(domain=familias, range=cores_temp)),\n",
    "    tooltip= alt.Tooltip(['collector_full_name', 'ano_coleta', 'counts', 'familia'])\n",
    ").add_selection(select_family).transform_filter(select_family)\n",
    "\n",
    "g2 = g2.configure_title(fontSize=16).configure_axis(\n",
    "    labelFontSize=12,\n",
    "    titleFontSize=12\n",
    ").configure_legend(\n",
    "    labelFontSize=12,\n",
    "    titleFontSize=12\n",
    ")\n",
    "\n",
    "# saving chart\n",
    "# g2.save('./graphs/collector/counts_per_collector-top_50-rearranged.html')\n",
    "# g2"
   ]
  },
  {
   "cell_type": "markdown",
   "metadata": {},
   "source": [
    "less expressive collectors"
   ]
  },
  {
   "cell_type": "code",
   "execution_count": 40,
   "metadata": {
    "ExecuteTime": {
     "end_time": "2021-02-15T16:14:43.194601Z",
     "start_time": "2021-02-15T16:14:43.102579Z"
    }
   },
   "outputs": [],
   "source": [
    "# database\n",
    "db = teste1[teste1['collector_full_name'].isin(sort_list[50:900])]\n",
    "\n",
    "# aux. variables & filtering out some families (that doesn't have determiner name or year)\n",
    "familias = [f for f in cores_familia.keys() if f in \n",
    "               teste1[teste1['collector_full_name'].isin(sort_list[50:900])]['familia'].unique()]\n",
    "cores_temp = [cores_familia[f] for f in familias]\n",
    "x_labels = db.sort_values('ano_coleta')['ano_coleta'].unique()\n",
    "y_labels = sort_list[50:900]\n",
    "temp = db['counts'].unique()\n",
    "counts = list(range(temp.min(), temp.max(), 10))\n",
    "\n",
    "# selector\n",
    "select_family = alt.selection_multi(fields= ['familia'], bind='legend')\n",
    "\n",
    "\n",
    "g2 = alt.Chart(db, title= 'Counts per collector (below Top 50)',\n",
    "               width=800, height=700).mark_circle().encode(\n",
    "    x= alt.X('ano_coleta', type='ordinal', title='Sampling Year',\n",
    "             scale= alt.Scale(domain= x_labels)),\n",
    "    y= alt.Y('collector_full_name', type='nominal', title='Collector Name', \n",
    "#              scale= alt.Scale(domain= y_labels),\n",
    "             sort= sort_list[50:900]),\n",
    "#         sort= alt.EncodingSortField(field= 'counts', op='sum', order='descending')),# sorts again with sel.\n",
    "    size= alt.Size('counts', type=\"quantitative\",\n",
    "                   legend= alt.Legend(orient= 'right', direction= 'horizontal'),\n",
    "                   scale=alt.Scale(domain= counts, range=[20, 120])),  # range ajusta tamanho do circulo\n",
    "    order= alt.Order('counts', sort='descending'),  # smaller points in front\n",
    "    color= alt.Color('familia', type=\"nominal\", title=\"Family\", \n",
    "                     legend= alt.Legend(columns=2, symbolLimit=50),\n",
    "                     scale=alt.Scale(domain=familias, range=cores_temp)),\n",
    "    tooltip= alt.Tooltip(['collector_full_name', 'ano_coleta', 'counts', 'familia'])\n",
    ").add_selection(select_family).transform_filter(select_family)\n",
    "\n",
    "g2 = g2.configure_title(fontSize=16).configure_axis(\n",
    "    labelFontSize=12,\n",
    "    titleFontSize=12\n",
    ").configure_legend(\n",
    "    labelFontSize=12,\n",
    "    titleFontSize=12\n",
    ")\n",
    "\n",
    "# saving chart\n",
    "# g2.save('./graphs/collector/counts_per_collector-less_freq.html')\n",
    "# g2"
   ]
  },
  {
   "cell_type": "markdown",
   "metadata": {},
   "source": [
    "<br>\n",
    "\n",
    "**The end!**\n",
    "\n",
    "-----"
   ]
  }
 ],
 "metadata": {
  "kernelspec": {
   "display_name": "Python 3",
   "language": "python",
   "name": "python3"
  },
  "language_info": {
   "codemirror_mode": {
    "name": "ipython",
    "version": 3
   },
   "file_extension": ".py",
   "mimetype": "text/x-python",
   "name": "python",
   "nbconvert_exporter": "python",
   "pygments_lexer": "ipython3",
   "version": "3.9.1"
  },
  "latex_envs": {
   "LaTeX_envs_menu_present": true,
   "autoclose": false,
   "autocomplete": true,
   "bibliofile": "biblio.bib",
   "cite_by": "apalike",
   "current_citInitial": 1,
   "eqLabelWithNumbers": true,
   "eqNumInitial": 1,
   "hotkeys": {
    "equation": "Ctrl-E",
    "itemize": "Ctrl-I"
   },
   "labels_anchors": false,
   "latex_user_defs": false,
   "report_style_numbering": false,
   "user_envs_cfg": false
  },
  "toc": {
   "base_numbering": 1,
   "nav_menu": {},
   "number_sections": false,
   "sideBar": true,
   "skip_h1_title": false,
   "title_cell": "Table of Contents",
   "title_sidebar": "Contents",
   "toc_cell": false,
   "toc_position": {},
   "toc_section_display": true,
   "toc_window_display": false
  },
  "varInspector": {
   "cols": {
    "lenName": 16,
    "lenType": 16,
    "lenVar": 40
   },
   "kernels_config": {
    "python": {
     "delete_cmd_postfix": "",
     "delete_cmd_prefix": "del ",
     "library": "var_list.py",
     "varRefreshCmd": "print(var_dic_list())"
    },
    "r": {
     "delete_cmd_postfix": ") ",
     "delete_cmd_prefix": "rm(",
     "library": "var_list.r",
     "varRefreshCmd": "cat(var_dic_list()) "
    }
   },
   "position": {
    "height": "391.35px",
    "left": "900.5px",
    "right": "20px",
    "top": "96px",
    "width": "536.5px"
   },
   "types_to_exclude": [
    "module",
    "function",
    "builtin_function_or_method",
    "instance",
    "_Feature"
   ],
   "window_display": false
  }
 },
 "nbformat": 4,
 "nbformat_minor": 2
}
