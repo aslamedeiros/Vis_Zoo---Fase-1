{
 "cells": [
  {
   "cell_type": "markdown",
   "metadata": {},
   "source": [
    "# Counts per researcher\n",
    "\n",
    "By **Franklin Oliveira**\n",
    "\n",
    "-----\n",
    "This notebook contains all code necessary to make the \"type\" charts from `repteis` database. Here you'll find some basic data treatment and charts' code. \n",
    "\n",
    "Database: <font color='blue'>'Compilacao Livros Repteis - 2 a 10 - 2020_04_28.xls'</font>."
   ]
  },
  {
   "cell_type": "code",
   "execution_count": 1,
   "metadata": {
    "ExecuteTime": {
     "end_time": "2021-01-06T21:18:03.364715Z",
     "start_time": "2021-01-06T21:18:02.460112Z"
    }
   },
   "outputs": [
    {
     "data": {
      "text/plain": [
       "DataTransformerRegistry.enable('default')"
      ]
     },
     "execution_count": 1,
     "metadata": {},
     "output_type": "execute_result"
    }
   ],
   "source": [
    "import datetime\n",
    "import numpy as np\n",
    "import pandas as pd\n",
    "\n",
    "from collections import defaultdict\n",
    "\n",
    "# quick visualization\n",
    "import matplotlib.pyplot as plt\n",
    "import seaborn as sns\n",
    "\n",
    "# Waffle Charts\n",
    "# from pywaffle import Waffle \n",
    "# docs: https://pywaffle.readthedocs.io/en/latest/examples/block_shape_distance_location_and_direction.html\n",
    "\n",
    "# visualization\n",
    "import altair as alt\n",
    "\n",
    "# enabling notebook renderer\n",
    "# alt.renderers.enable('notebook')\n",
    "alt.renderers.enable('default')\n",
    "\n",
    "# disabling rows limit\n",
    "alt.data_transformers.disable_max_rows()"
   ]
  },
  {
   "cell_type": "markdown",
   "metadata": {},
   "source": [
    "## Importing data..."
   ]
  },
  {
   "cell_type": "code",
   "execution_count": 2,
   "metadata": {
    "ExecuteTime": {
     "end_time": "2021-01-06T21:18:04.262398Z",
     "start_time": "2021-01-06T21:18:04.096590Z"
    }
   },
   "outputs": [
    {
     "name": "stderr",
     "output_type": "stream",
     "text": [
      "/home/franklin/anaconda3/envs/viz/lib/python3.9/site-packages/IPython/core/interactiveshell.py:3146: DtypeWarning: Columns (2,45) have mixed types.Specify dtype option on import or set low_memory=False.\n",
      "  has_raised = await self.run_ast_nodes(code_ast.body, cell_name,\n"
     ]
    }
   ],
   "source": [
    "NewTable = pd.read_csv('./data/treated_db.csv', sep=';', encoding='utf-8-sig')"
   ]
  },
  {
   "cell_type": "markdown",
   "metadata": {},
   "source": [
    "<br>\n",
    "\n",
    "<font size=5>**Paleta de cores por Ordem**</font>\n",
    "\n",
    "Abaixo está a imagem usada como inspiração (https://color.adobe.com/create/image)\n",
    "\n",
    "<img src=\"./src/paleta_cores.jpeg\" width='500px'>\n",
    "\n",
    "Cores: \n",
    "\n",
    "- verde_escuro: #284021\n",
    "- verde_claro: #88BF11\n",
    "- amarelo: #D9CB0B\n",
    "- laranja: #D99311\n",
    "- laranja_escuro: #BF4417\n",
    "- marrom-_laro: #BF8D7A"
   ]
  },
  {
   "cell_type": "code",
   "execution_count": 3,
   "metadata": {
    "ExecuteTime": {
     "end_time": "2021-01-06T21:18:05.689606Z",
     "start_time": "2021-01-06T21:18:05.686310Z"
    }
   },
   "outputs": [],
   "source": [
    "# p.s.: Caudata is an error and should be removed\n",
    "cores_ordem = {\n",
    "    'Squamata': '#BF4417',\n",
    "    'Testudines': '#D9CB0B', \n",
    "    'Crocodylia': '#284021'\n",
    "}\n",
    "\n",
    "ordens = list(cores_ordem.keys())\n",
    "cores = list(cores_ordem.values())"
   ]
  },
  {
   "cell_type": "markdown",
   "metadata": {},
   "source": [
    "**Paleta de Cores - Família:**\n",
    "\n",
    "- grupo 1: 1 cor  (verde escuro)\n",
    "<ul>\n",
    "    <li style=\"color:#142611\"><b>centroide 1</b></li>\n",
    "</ul>\n",
    "- grupo 2: 8 cores\n",
    "<ul>\n",
    "    <li style=\"color:#85D907\"><b>centroide 2</b></li>\n",
    "</ul>\n",
    "\n",
    "['#d7ff81', '#bafd62', '#9feb3f', '#85d907', '#6cc700', '#52b700', '#35a600', '#0b9700', '#008800']\n",
    "\n",
    "<font color=\"#d7ff81\"><b>cor 1</b> (ficou fora)</font>\n",
    "<font color=\"#bafd62\"><b>cor 2</b></font>\n",
    "<font color=\"#9feb3f\"><b>cor 3</b></font>\n",
    "<font color=\"#85d907\"><b>cor 4</b></font>\n",
    "<font color=\"#6cc700\"><b>cor 5</b></font>\n",
    "<font color=\"#52b700\"><b>cor 6</b></font>\n",
    "<font color=\"#35a600\"><b>cor 7</b></font>\n",
    "<font color=\"#0b9700\"><b>cor 8</b></font>\n",
    "<font color=\"#008800\"><b>cor 9</b></font>\n",
    "\n",
    "\n",
    "- grupo 3: 2 cores\n",
    "#888C03\n",
    "<ul>\n",
    "    <li style=\"color:#22401E\"><b>centroide 3 (puxando para tons frios mais claros)</b></li>\n",
    "</ul>\n",
    "\n",
    "<font color=\"#99b6b2\"><b>cor 1</b></font>\n",
    "<font color=\"#81a58b\"><b>cor 2</b></font>\n",
    "\n",
    "\n",
    "- grupo 4: 1 cor  (amarelo)\n",
    "<ul>\n",
    "    <li style=\"color:#F2CB07\"><b>centroide 4</b></li>\n",
    "</ul>\n",
    "\n",
    "- grupo 5: 10 cores\n",
    "<ul>\n",
    "    <li style=\"color:#cb97d4\"><b>centroide 5 (puxando para o roxo)</b></li>\n",
    "</ul>\n",
    "\n",
    "['#f8dcf9', '#ebc5ed', '#ddafe2', '#ce9ad6', '#bf86cc', '#af73c2', '#a160b8', '#924fae', '#833fa4'] #803da1\n",
    "\n",
    "<font color=\"#f8dcf9\"><b>cor 1</b></font>\n",
    "<font color=\"#ebc5ed\"><b>cor 2</b></font>\n",
    "<font color=\"#ddafe2\"><b>cor 3</b></font>\n",
    "<font color=\"#ce9ad6\"><b>cor 4</b></font>\n",
    "<font color=\"#bf86cc\"><b>cor 5</b></font>\n",
    "<font color=\"#af73c2\"><b>cor 6</b></font>\n",
    "<font color=\"#a160b8\"><b>cor 7</b></font>\n",
    "<font color=\"#924fae\"><b>cor 8</b></font>\n",
    "<font color=\"#833fa4\"><b>cor 9</b></font>\n",
    "<font color=\"#803da1\"><b>cor 10</b></font>\n",
    "\n",
    "\n",
    "- grupo 6: 12 cores\n",
    "<ul>\n",
    "    <li style=\"color:#91F2E9\"><b>centroide 6</b></li>\n",
    "</ul>\n",
    "\n",
    "['#c9fff9', '#b3eff2', '#9cdcea', '#83c9e2', '#68b7da', '#4aa6d2', '#2096ca', '#0087c1', '#0079b7']\n",
    "\n",
    "['#cee5d8', '#b3d2d1', '#9bbfc9', '#83adc2', '#6d9bba', '#568ab2', '#3e7baa', '#226ca2', '#005e98']\n",
    "\n",
    "\n",
    "<font color=\"#c9fff9\"><b>cor 1</b></font>\n",
    "<font color=\"#b3eff2\"><b>cor 2</b></font>\n",
    "<font color=\"#9cdcea\"><b>cor 3</b></font>\n",
    "<font color=\"#83c9e2\"><b>cor 4</b></font>\n",
    "<font color=\"#68b7da\"><b>cor 5</b></font>\n",
    "<font color=\"#4aa6d2\"><b>cor 6</b></font>\n",
    "<font color=\"#2096ca\"><b>cor 7</b></font>\n",
    "<font color=\"#0087c1\"><b>cor 8</b></font>\n",
    "<font color=\"#0079b7\"><b>cor 9</b></font>\n",
    "<font color=\"#3e7baa\"><b>cor 10</b></font>\n",
    "<font color=\"#226ca2\"><b>cor 11</b></font>\n",
    "<font color=\"#005e98\"><b>cor 12</b></font>\n",
    "\n",
    "\n",
    "- grupo 7: 3 cores\n",
    "<ul>\n",
    "    <li style=\"color:#8C1A0F\"><b>centroide 7 (puxando para o marrom)</b></li>\n",
    "</ul>\n",
    "\n",
    "['#fde5bf', '#efd09f', '#e1bb82', '#d3a767', '#c6934d', '#b98033', '#ac6f18', '#9e5e00', '#914e00']\n",
    "\n",
    "<font color=\"#ac6f18\"><b>cor 1</b></font>\n",
    "<font color=\"#9e5e00\"><b>cor 2</b></font>\n",
    "<font color=\"#914e00\"><b>cor 3</b></font>\n",
    "\n",
    "\n",
    "- grupo 8: 13 cores\n",
    "<ul>\n",
    "    <li style=\"color:#D9430D\"><b>centroide 8</b></li>\n",
    "</ul>\n",
    "\n",
    "['#ffce9f', '#ffb683', '#ff9f69', '#ff8851', '#f5723b', '#e75b25', '#d9430d', '#cb2800', '#bc0000']\n",
    "\n",
    "['#ff8f68', '#ff7e56', '#ff6b40', '#ee5829', '#d9430d', '#c62f00', '#b41b00', '#a40300', '#930000']\n",
    "\n",
    "<font color=\"#ffce9f\"><b>cor 1</b></font>\n",
    "<font color=\"#ffb683\"><b>cor 2</b></font>\n",
    "<font color=\"#ff9f69\"><b>cor 3</b></font>\n",
    "<font color=\"#ff8851\"><b>cor 4</b></font>\n",
    "<font color=\"#f5723b\"><b>cor 5</b></font>\n",
    "<font color=\"#e75b25\"><b>cor 6</b></font>\n",
    "<font color=\"#d9430d\"><b>cor 7</b></font>\n",
    "<font color=\"#cb2800\"><b>cor 8</b></font>\n",
    "<font color=\"#bc0000\"><b>cor 9</b></font>\n",
    "<font color=\"#c62f00\"><b>cor 10</b></font>\n",
    "<font color=\"#b41b00\"><b>cor 11</b></font>\n",
    "<font color=\"#a40300\"><b>cor 12</b></font>\n",
    "<font color=\"#930000\"><b>cor 13</b></font>\n",
    "\n",
    "<br>\n",
    "\n",
    "**TOTAL: 50 cores**"
   ]
  },
  {
   "cell_type": "code",
   "execution_count": 4,
   "metadata": {
    "ExecuteTime": {
     "end_time": "2021-01-06T21:18:07.757902Z",
     "start_time": "2021-01-06T21:18:07.752245Z"
    }
   },
   "outputs": [],
   "source": [
    "cores_familia = {\n",
    "    # known errors treatment\n",
    "#     '#n/d':'#000000',\n",
    "#     'nan':'#000000',\n",
    "    # grupo 1: Crocodylia\n",
    "    'Alligatoridae':'#142611',\n",
    "    # grupo 2: Testudines - Cryptodira\n",
    "    'Cheloniidae':'#bafd62',\n",
    "    'Chelydridae':'#9feb3f',\n",
    "    'Dermochelyidae':'#85d907',\n",
    "    'Emydidae':'#6cc700',\n",
    "    'Geoemydidae':'#52b700',\n",
    "    'Kinosternidae':'#35a600',\n",
    "    'Testudinidae':'#0b9700',\n",
    "    'Trionychidae':'#008800',\n",
    "    # grupo 3: Testudines - Pleurodira\n",
    "    'Chelidae':'#99b6b2' ,\n",
    "    'Podocnemididae':'#81a58b',\n",
    "    # grupo 4: Amphisbaenia - Amphisbaenia\n",
    "    'Amphisbaenidae':'#F2CB07',\n",
    "    # grupo 5: Sauria - Iguania\n",
    "    'Agamidae':'#f8dcf9',\n",
    "    'Chamaeleonidae':'#ebc5ed',\n",
    "    'Dactyloidae':'#ddafe2',\n",
    "    'Iguanidae':'#ce9ad6',\n",
    "    'Hoplocercidae':'#bf86cc',\n",
    "    'Leiosauridae':'#af73c2',\n",
    "    'Liolaemidae':'#a160b8', \n",
    "    'Phrynosomatidae':'#924fae',\n",
    "    'Polychrotidae':'#833fa4',\n",
    "    'Tropiduridae':'#803da1',\n",
    "    # grupo 6: Sauria - Scleroglossa\n",
    "    'Anguidae':'#c9fff9',\n",
    "    'Gekkonidae':'#b3eff2',\n",
    "    'Gymnophthalmidae':'#9cdcea',\n",
    "    'Helodermatidae':'#83c9e2',\n",
    "    'Lacertidae':'#68b7da',\n",
    "    'Mabuyinae':'#4aa6d2',\n",
    "    'Phyllodactylidae':'#2096ca',\n",
    "    'Scincidae':'#0087c1',\n",
    "    'Sphaerodactylidae':'#0079b7',\n",
    "    'Teiidae':'#3e7baa',\n",
    "    'Varanidae':'#226ca2',\n",
    "    'Xantusiidae':'#005e98',\n",
    "    # grupo 7: Serpentes - Scolecophidia\n",
    "    'Anomalepididae':'#ac6f18',\n",
    "    'Leptotyphlopidae':'#9e5e00',\n",
    "    'Typhlopidae':'#914e00', \n",
    "    # grupo 8: Alethinophidia\n",
    "    'Aniliidae':'#ffce9f',\n",
    "    'Boidae':'#ffb683',\n",
    "    'Colubridae':'#ff9f69',\n",
    "    'Dipsadidae':'#ff8851',\n",
    "    'Elapidae':'#f5723b',\n",
    "    'Homalopsidae':'#e75b25',\n",
    "    'Lamprophiidae':'#d9430d', \n",
    "    'Loxocemidae':'#cb2800',\n",
    "    'Natricidae':'#bc0000',\n",
    "    'Pythonidae':'#c62f00',\n",
    "    'Tropidophiidae':'#b41b00',\n",
    "    'Viperidae':'#a40300',\n",
    "    'Xenopeltidae':'#930000'\n",
    "}"
   ]
  },
  {
   "cell_type": "markdown",
   "metadata": {},
   "source": [
    "<br>\n",
    "\n",
    "\n",
    "## Graphs\n",
    "\n",
    "---"
   ]
  },
  {
   "cell_type": "markdown",
   "metadata": {},
   "source": [
    "<br>\n",
    "\n",
    "### Creating chart: counts per determiner per year"
   ]
  },
  {
   "cell_type": "code",
   "execution_count": 5,
   "metadata": {
    "ExecuteTime": {
     "end_time": "2021-01-06T21:18:12.971002Z",
     "start_time": "2021-01-06T21:18:12.916673Z"
    }
   },
   "outputs": [],
   "source": [
    "teste = NewTable.groupby(['determinator_full_name','ano_determinacao']).count()['class'].reset_index().rename(columns=\n",
    "                                                                                            {'class':'counts'})"
   ]
  },
  {
   "cell_type": "code",
   "execution_count": 7,
   "metadata": {
    "ExecuteTime": {
     "end_time": "2021-01-06T21:18:20.522928Z",
     "start_time": "2021-01-06T21:18:20.483118Z"
    }
   },
   "outputs": [],
   "source": [
    "g1 = alt.Chart(teste, width=800, height=2200).mark_circle().encode(\n",
    "    x= alt.X('ano_determinacao', type='ordinal', title='Determined Year'),\n",
    "    y= alt.Y('determinator_full_name', type='nominal', title='Determiner Name', \n",
    "            sort=alt.EncodingSortField('counts', op=\"count\", order='descending')),\n",
    "    size= alt.Size('counts', scale=alt.Scale(range=[15, 500])),  # range ajusta tamanho do circulo\n",
    "    tooltip= alt.Tooltip(['determinator_full_name', 'ano_determinacao', 'counts'])\n",
    ")\n",
    "\n",
    "g1 = g1.configure_title(fontSize=16).configure_axis(\n",
    "    labelFontSize=12,\n",
    "    titleFontSize=12\n",
    ").configure_legend(\n",
    "    labelFontSize=12,\n",
    "    titleFontSize=12\n",
    ")\n",
    "\n",
    "g1.save('./graphs/determiner/counts_per_determiner.html')\n",
    "# g1"
   ]
  },
  {
   "cell_type": "markdown",
   "metadata": {},
   "source": [
    "<font color='red' size='5'>mesmo gráfico, ordenando também pela familia</font>\n",
    "\n",
    "**OBS:** Note que\n",
    "\n",
    "- as contagens mudam (porque estamos ordenando por um fator a mais)\n",
    "- há pontos sobrepostos (semelhante ao que tinhamos para a base crustaceas - para um mesmo ano, um mesmo pesquisador descobriu animais de ordens/familias diferentes)"
   ]
  },
  {
   "cell_type": "code",
   "execution_count": 8,
   "metadata": {
    "ExecuteTime": {
     "end_time": "2021-01-06T21:18:39.976512Z",
     "start_time": "2021-01-06T21:18:39.923328Z"
    }
   },
   "outputs": [],
   "source": [
    "teste1 = NewTable.groupby(['determinator_full_name','ano_determinacao', 'familia']).count()['class'].reset_index().rename(columns=\n",
    "                                                                                            {'class':'counts'})"
   ]
  },
  {
   "cell_type": "code",
   "execution_count": 11,
   "metadata": {
    "ExecuteTime": {
     "end_time": "2021-01-06T21:22:14.315900Z",
     "start_time": "2021-01-06T21:22:14.256516Z"
    },
    "scrolled": true
   },
   "outputs": [],
   "source": [
    "# filtering out some families (that doesn't have determiner name or year)\n",
    "familias = [f for f in cores_familia.keys() if f in teste1['familia'].unique()]\n",
    "cores_temp = [cores_familia[f] for f in familias]\n",
    "\n",
    "\n",
    "g2 = alt.Chart(teste1, width=800, height=2200).mark_circle().encode(\n",
    "    x= alt.X('ano_determinacao', type='ordinal', title='Determined Year'),\n",
    "    y= alt.Y('determinator_full_name', type='nominal', title='Determiner Name', \n",
    "            sort=alt.EncodingSortField('counts', op=\"count\", order='descending')),\n",
    "    size= alt.Size('counts', type=\"quantitative\",scale=alt.Scale(range=[15, 500])),  # range ajusta tamanho do circulo\n",
    "    order= alt.Order('counts', sort='descending'),  # smaller points in front\n",
    "    color= alt.Color('familia', type=\"nominal\", title=\"Family\", \n",
    "                     legend= alt.Legend(columns=2, symbolLimit=50),\n",
    "                     scale=alt.Scale(domain=familias, range=cores_temp)),\n",
    "    tooltip= alt.Tooltip(['determinator_full_name', 'ano_determinacao', 'counts', 'familia'])\n",
    ")\n",
    "\n",
    "g2 = g2.configure_title(fontSize=16).configure_axis(\n",
    "    labelFontSize=12,\n",
    "    titleFontSize=12\n",
    ").configure_legend(\n",
    "    labelFontSize=12,\n",
    "    titleFontSize=12\n",
    ")\n",
    "\n",
    "# saving chart\n",
    "g2.save('./graphs/determiner/counts_per_determiner-w-order.html')\n",
    "# g2"
   ]
  },
  {
   "cell_type": "markdown",
   "metadata": {},
   "source": [
    "<br>\n",
    "\n",
    "<font color='red'>**mesmo gráfico, agora ordenando pelo primeiro ano que o pesquisador aparece na base**</font>"
   ]
  },
  {
   "cell_type": "code",
   "execution_count": 12,
   "metadata": {
    "ExecuteTime": {
     "end_time": "2021-01-06T21:22:19.114816Z",
     "start_time": "2021-01-06T21:22:19.108488Z"
    }
   },
   "outputs": [],
   "source": [
    "# ordenando\n",
    "teste1.sort_values(['ano_determinacao', 'determinator_full_name'], inplace=True)\n",
    "\n",
    "# salvando ordem das entradas\n",
    "sorting = list(teste1['determinator_full_name'].unique())"
   ]
  },
  {
   "cell_type": "code",
   "execution_count": 16,
   "metadata": {
    "ExecuteTime": {
     "end_time": "2021-01-06T21:23:08.278696Z",
     "start_time": "2021-01-06T21:23:08.227614Z"
    },
    "scrolled": true
   },
   "outputs": [],
   "source": [
    "# filtering out some families (that doesn't have determiner name or year)\n",
    "familias = [f for f in cores_familia.keys() if f in teste1['familia'].unique()]\n",
    "cores_temp = [cores_familia[f] for f in familias]\n",
    "\n",
    "g2 = alt.Chart(teste1, width=800, height=2200).mark_circle().encode(\n",
    "    x= alt.X('ano_determinacao', type='ordinal', title='Determined Year'),\n",
    "    y= alt.Y('determinator_full_name', type='nominal', title='Determiner Name', \n",
    "            sort=sorting),\n",
    "    size= alt.Size('counts', type=\"quantitative\",scale=alt.Scale(range=[15, 500])),  # range ajusta tamanho do circulo\n",
    "    order= alt.Order('counts', sort='descending'),  # smaller points in front\n",
    "    color= alt.Color('familia', type=\"nominal\", title=\"Family\", \n",
    "                     legend= alt.Legend(columns=2, symbolLimit=50),\n",
    "                     scale=alt.Scale(domain=familias, range=cores_temp)),\n",
    "    tooltip= alt.Tooltip(['determinator_full_name', 'ano_determinacao', 'counts', 'familia'])\n",
    ")\n",
    "\n",
    "g2 = g2.configure_title(fontSize=16).configure_axis(\n",
    "    labelFontSize=12,\n",
    "    titleFontSize=12\n",
    ").configure_legend(\n",
    "    labelFontSize=12,\n",
    "    titleFontSize=12\n",
    ")\n",
    "\n",
    "# saving chart\n",
    "g2.save('./graphs/determiner/counts_per_determiner-c-ordem_reordenado.html')\n",
    "# g2"
   ]
  },
  {
   "cell_type": "markdown",
   "metadata": {},
   "source": [
    "<br>\n",
    "\n",
    "### Gráfico dos determinadores mais expressivos (top 50)"
   ]
  },
  {
   "cell_type": "code",
   "execution_count": 21,
   "metadata": {
    "ExecuteTime": {
     "end_time": "2021-01-06T21:25:00.988433Z",
     "start_time": "2021-01-06T21:25:00.972560Z"
    }
   },
   "outputs": [
    {
     "data": {
      "text/html": [
       "<div>\n",
       "<style scoped>\n",
       "    .dataframe tbody tr th:only-of-type {\n",
       "        vertical-align: middle;\n",
       "    }\n",
       "\n",
       "    .dataframe tbody tr th {\n",
       "        vertical-align: top;\n",
       "    }\n",
       "\n",
       "    .dataframe thead th {\n",
       "        text-align: right;\n",
       "    }\n",
       "</style>\n",
       "<table border=\"1\" class=\"dataframe\">\n",
       "  <thead>\n",
       "    <tr style=\"text-align: right;\">\n",
       "      <th></th>\n",
       "      <th>determinator_full_name</th>\n",
       "      <th>sum</th>\n",
       "    </tr>\n",
       "  </thead>\n",
       "  <tbody>\n",
       "    <tr>\n",
       "      <th>98</th>\n",
       "      <td>P. Passos</td>\n",
       "      <td>3183</td>\n",
       "    </tr>\n",
       "    <tr>\n",
       "      <th>99</th>\n",
       "      <td>P. Pinna</td>\n",
       "      <td>1666</td>\n",
       "    </tr>\n",
       "    <tr>\n",
       "      <th>13</th>\n",
       "      <td>A. Silveira</td>\n",
       "      <td>1614</td>\n",
       "    </tr>\n",
       "    <tr>\n",
       "      <th>92</th>\n",
       "      <td>N. Silva</td>\n",
       "      <td>796</td>\n",
       "    </tr>\n",
       "    <tr>\n",
       "      <th>124</th>\n",
       "      <td>T. Freitas</td>\n",
       "      <td>602</td>\n",
       "    </tr>\n",
       "  </tbody>\n",
       "</table>\n",
       "</div>"
      ],
      "text/plain": [
       "    determinator_full_name   sum\n",
       "98               P. Passos  3183\n",
       "99                P. Pinna  1666\n",
       "13             A. Silveira  1614\n",
       "92                N. Silva   796\n",
       "124             T. Freitas   602"
      ]
     },
     "execution_count": 21,
     "metadata": {},
     "output_type": "execute_result"
    }
   ],
   "source": [
    "# somando contagens de cada pesquisador\n",
    "sorting = teste1.groupby('determinator_full_name').sum()['counts'].reset_index().rename(\n",
    "    columns={'counts':'sum'})\n",
    "\n",
    "sorting = sorting.sort_values('sum', ascending=False)\n",
    "\n",
    "# Nomes dos pesquisadores ordenados\n",
    "sort_list = sorting['determinator_full_name'].unique()\n",
    "\n",
    "sorting.head()"
   ]
  },
  {
   "cell_type": "code",
   "execution_count": 30,
   "metadata": {
    "ExecuteTime": {
     "end_time": "2021-01-06T21:28:10.255910Z",
     "start_time": "2021-01-06T21:28:10.167458Z"
    }
   },
   "outputs": [],
   "source": [
    "# filtering out some families (not in TOP 50 determiners)\n",
    "familias = [f for f in cores_familia.keys() if f in \n",
    "               teste1[teste1['determinator_full_name'].isin(sort_list[:50])]['familia'].unique()]\n",
    "cores_temp = [cores_familia[f] for f in familias]\n",
    "\n",
    "g2 = alt.Chart(teste1[teste1['determinator_full_name'].isin(sort_list[:50])], \n",
    "        width=800, height=600).mark_circle().encode(\n",
    "    x= alt.X('ano_determinacao', type='ordinal', title='Determined Year'),\n",
    "    y= alt.Y('determinator_full_name', type='nominal', title='Determiner Name', \n",
    "            sort=sort_list),\n",
    "    size= alt.Size('counts', type=\"quantitative\",scale=alt.Scale(range=[15, 500])),  # range ajusta tamanho do circulo\n",
    "    order= alt.Order('counts', sort='descending'),  # smaller points in front\n",
    "    color= alt.Color('familia', type=\"nominal\", title=\"Family\", \n",
    "                     legend= alt.Legend(columns=2, symbolLimit=50),\n",
    "                     scale=alt.Scale(domain=familias, range=cores_temp)),\n",
    "    tooltip= alt.Tooltip(['determinator_full_name', 'ano_determinacao', 'counts', 'familia'])\n",
    ")\n",
    "\n",
    "g2 = g2.configure_title(fontSize=16).configure_axis(\n",
    "    labelFontSize=12,\n",
    "    titleFontSize=12\n",
    ").configure_legend(\n",
    "    labelFontSize=12,\n",
    "    titleFontSize=12\n",
    ")\n",
    "\n",
    "# saving chart\n",
    "g2.save('./graphs/determiner/counts_per_determiner-top_50.html')\n",
    "# g2"
   ]
  },
  {
   "cell_type": "code",
   "execution_count": 31,
   "metadata": {
    "ExecuteTime": {
     "end_time": "2021-01-06T21:28:12.264447Z",
     "start_time": "2021-01-06T21:28:12.191243Z"
    }
   },
   "outputs": [],
   "source": [
    "# filtering out some families (not in TOP 50 determiners)\n",
    "familias = [f for f in cores_familia.keys() if f in \n",
    "               teste1[teste1['determinator_full_name'].isin(sort_list[50:])]['familia'].unique()]\n",
    "cores_temp = [cores_familia[f] for f in familias]\n",
    "\n",
    "\n",
    "g2 = alt.Chart(teste1[teste1['determinator_full_name'].isin(sort_list[50:])], width=800, height=600).mark_circle().encode(\n",
    "    x= alt.X('ano_determinacao', type='ordinal', title='Determined Year'),\n",
    "    y= alt.Y('determinator_full_name', type='nominal', title='Determiner Name', \n",
    "            sort=sort_list),\n",
    "    size= alt.Size('counts', type=\"quantitative\",scale=alt.Scale(range=[15, 60], zero=False)),  # range ajusta tamanho do circulo\n",
    "    order= alt.Order('counts', sort='descending'),  # smaller points in front\n",
    "    color= alt.Color('familia', type=\"nominal\", title=\"Family\", \n",
    "                     legend= alt.Legend(columns=2, symbolLimit=50),\n",
    "                     scale=alt.Scale(domain=familias, range=cores_temp)),\n",
    "    tooltip= alt.Tooltip(['determinator_full_name', 'ano_determinacao', 'counts', 'familia'])\n",
    ")\n",
    "\n",
    "g2 = g2.configure_title(fontSize=16).configure_axis(\n",
    "    labelFontSize=12,\n",
    "    titleFontSize=12\n",
    ").configure_legend(\n",
    "    labelFontSize=12,\n",
    "    titleFontSize=12\n",
    ")\n",
    "\n",
    "# saving chart\n",
    "g2.save('./graphs/determiner/counts_per_determiner-menos_freq.html')\n",
    "# g2"
   ]
  },
  {
   "cell_type": "markdown",
   "metadata": {},
   "source": [
    "<br>\n",
    "\n",
    "### Creating chart: counts per collector per year\n",
    "\n",
    "<font color='red' size='5'> Collectors name is sensitive data. Do not publish it without curator's permission </font>"
   ]
  },
  {
   "cell_type": "code",
   "execution_count": 32,
   "metadata": {
    "ExecuteTime": {
     "end_time": "2021-01-06T21:28:19.341159Z",
     "start_time": "2021-01-06T21:28:19.285117Z"
    }
   },
   "outputs": [],
   "source": [
    "teste = NewTable.groupby(['collector_full_name','ano_coleta']).count()['class'].reset_index().rename(columns=\n",
    "                                                                                            {'class':'counts'})"
   ]
  },
  {
   "cell_type": "code",
   "execution_count": 34,
   "metadata": {
    "ExecuteTime": {
     "end_time": "2021-01-06T21:28:25.889692Z",
     "start_time": "2021-01-06T21:28:25.845021Z"
    }
   },
   "outputs": [],
   "source": [
    "g1 = alt.Chart(teste, width=800, height=2200).mark_circle().encode(\n",
    "    x= alt.X('ano_coleta', type='ordinal', title='Collected Year'),\n",
    "    y= alt.Y('collector_full_name', type='nominal', title='Collector Name', \n",
    "            sort=alt.EncodingSortField('counts', op=\"count\", order='descending')),\n",
    "    size= alt.Size('counts', scale=alt.Scale(range=[15, 500])),  # range ajusta tamanho do circulo\n",
    "    order= alt.Order('counts', sort='descending'),  # smaller points in front\n",
    "    tooltip= alt.Tooltip(['collector_full_name', 'ano_coleta', 'counts'])\n",
    ")\n",
    "\n",
    "g1 = g1.configure_title(fontSize=16).configure_axis(\n",
    "    labelFontSize=12,\n",
    "    titleFontSize=12\n",
    ").configure_legend(\n",
    "    labelFontSize=12,\n",
    "    titleFontSize=12\n",
    ")\n",
    "\n",
    "g1.save('./graphs/collector/counts_per_collector.html')\n",
    "\n",
    "# g1"
   ]
  },
  {
   "cell_type": "markdown",
   "metadata": {},
   "source": [
    "<font color='red' size='5'>mesmo gráfico, ordenando também pela ordem</font>\n",
    "\n",
    "**OBS:** Note que\n",
    "\n",
    "- as contagens mudam (porque estamos ordenando por um fator a mais)\n",
    "- há pontos sobrepostos (semelhante ao que tinhamos para a base crustaceas - para um mesmo ano, um mesmo pesquisador descobriu animais de ordens/familias diferentes)"
   ]
  },
  {
   "cell_type": "code",
   "execution_count": 35,
   "metadata": {
    "ExecuteTime": {
     "end_time": "2021-01-06T21:28:44.689984Z",
     "start_time": "2021-01-06T21:28:44.633040Z"
    }
   },
   "outputs": [],
   "source": [
    "teste1 = NewTable.groupby(['collector_full_name','ano_coleta', 'familia']).count()['class'].reset_index().rename(columns=\n",
    "                                                                                            {'class':'counts'})"
   ]
  },
  {
   "cell_type": "code",
   "execution_count": 37,
   "metadata": {
    "ExecuteTime": {
     "end_time": "2021-01-06T21:29:49.853530Z",
     "start_time": "2021-01-06T21:29:49.749353Z"
    }
   },
   "outputs": [],
   "source": [
    "# filtering out some families (not in TOP 50 determiners)\n",
    "familias = [f for f in cores_familia.keys() if f in teste1['familia'].unique()]\n",
    "cores_temp = [cores_familia[f] for f in familias]\n",
    "\n",
    "\n",
    "g2 = alt.Chart(teste1, width=800, height=2200).mark_circle().encode(\n",
    "    x= alt.X('ano_coleta', type='ordinal', title='Collected Year'),\n",
    "    y= alt.Y('collector_full_name', type='nominal', title='Collector Name', \n",
    "            sort=alt.EncodingSortField('counts', op=\"count\", order='descending')),\n",
    "    size= alt.Size('counts', type=\"quantitative\",scale=alt.Scale(range=[15, 500])),  # range ajusta tamanho do circulo\n",
    "    order= alt.Order('counts', sort='descending'),  # smaller points in front\n",
    "    color= alt.Color('familia', type=\"nominal\", title=\"Family\", \n",
    "                     legend= alt.Legend(columns=2, symbolLimit=50),\n",
    "                     scale=alt.Scale(domain=familias, range=cores_temp)),\n",
    "    tooltip= alt.Tooltip(['collector_full_name', 'ano_coleta', 'counts', 'familia'])\n",
    ")\n",
    "\n",
    "g2 = g2.configure_title(fontSize=16).configure_axis(\n",
    "    labelFontSize=12,\n",
    "    titleFontSize=12\n",
    ").configure_legend(\n",
    "    labelFontSize=12,\n",
    "    titleFontSize=12\n",
    ")\n",
    "\n",
    "# saving chart\n",
    "g2.save('./graphs/collector/counts_per_collector-w-order.html')\n",
    "\n",
    "# g2"
   ]
  },
  {
   "cell_type": "markdown",
   "metadata": {},
   "source": [
    "<br>\n",
    "\n",
    "<font color='red'>**mesmo gráfico, agora ordenando pelo primeiro ano que o pesquisador aparece na base**</font>"
   ]
  },
  {
   "cell_type": "code",
   "execution_count": 38,
   "metadata": {
    "ExecuteTime": {
     "end_time": "2021-01-06T21:30:00.680521Z",
     "start_time": "2021-01-06T21:30:00.670445Z"
    }
   },
   "outputs": [],
   "source": [
    "# ordenando\n",
    "teste1.sort_values(['ano_coleta', 'collector_full_name'], inplace=True)\n",
    "\n",
    "# salvando ordem das entradas\n",
    "sorting = list(teste1['collector_full_name'].unique())"
   ]
  },
  {
   "cell_type": "code",
   "execution_count": 40,
   "metadata": {
    "ExecuteTime": {
     "end_time": "2021-01-06T21:30:53.009464Z",
     "start_time": "2021-01-06T21:30:52.908346Z"
    }
   },
   "outputs": [],
   "source": [
    "# filtering out some families (not in TOP 50 determiners)\n",
    "familias = [f for f in cores_familia.keys() if f in teste1['familia'].unique()]\n",
    "cores_temp = [cores_familia[f] for f in familias]\n",
    "\n",
    "g2 = alt.Chart(teste1, width=800, height=10000).mark_circle().encode(\n",
    "    x= alt.X('ano_coleta', type='ordinal', title='Collected Year'),\n",
    "    y= alt.Y('collector_full_name', type='nominal', title='Collector Name', \n",
    "            sort=alt.EncodingSortField('ano_coleta', op=\"min\", order='ascending')),\n",
    "    size= alt.Size('counts', type=\"quantitative\",scale=alt.Scale(range=[15, 500])),  # range ajusta tamanho do circulo\n",
    "    order= alt.Order('counts', sort='descending'),  # smaller points in front\n",
    "    color= alt.Color('familia', type=\"nominal\", title=\"Family\", \n",
    "                     legend= alt.Legend(columns=2, symbolLimit=50),\n",
    "                     scale=alt.Scale(domain=familias, range=cores_temp)),\n",
    "    tooltip= alt.Tooltip(['collector_full_name', 'ano_coleta', 'counts', 'familia'])\n",
    ")\n",
    "\n",
    "g2 = g2.configure_title(fontSize=16).configure_axis(\n",
    "    labelFontSize=12,\n",
    "    titleFontSize=12\n",
    ").configure_legend(\n",
    "    labelFontSize=12,\n",
    "    titleFontSize=12\n",
    ")\n",
    "\n",
    "# saving chart\n",
    "g2.save('./graphs/collector/counts_per_researcher-c-ordem_reordenado.html')\n",
    "# g2"
   ]
  },
  {
   "cell_type": "markdown",
   "metadata": {},
   "source": [
    "<br>\n",
    "\n",
    "### Gráfico dos coletores mais expressivos (top 50)"
   ]
  },
  {
   "cell_type": "code",
   "execution_count": 41,
   "metadata": {
    "ExecuteTime": {
     "end_time": "2021-01-06T21:30:58.651925Z",
     "start_time": "2021-01-06T21:30:58.636328Z"
    }
   },
   "outputs": [
    {
     "data": {
      "text/html": [
       "<div>\n",
       "<style scoped>\n",
       "    .dataframe tbody tr th:only-of-type {\n",
       "        vertical-align: middle;\n",
       "    }\n",
       "\n",
       "    .dataframe tbody tr th {\n",
       "        vertical-align: top;\n",
       "    }\n",
       "\n",
       "    .dataframe thead th {\n",
       "        text-align: right;\n",
       "    }\n",
       "</style>\n",
       "<table border=\"1\" class=\"dataframe\">\n",
       "  <thead>\n",
       "    <tr style=\"text-align: right;\">\n",
       "      <th></th>\n",
       "      <th>collector_full_name</th>\n",
       "      <th>sum</th>\n",
       "    </tr>\n",
       "  </thead>\n",
       "  <tbody>\n",
       "    <tr>\n",
       "      <th>155</th>\n",
       "      <td>A. Silveira</td>\n",
       "      <td>966</td>\n",
       "    </tr>\n",
       "    <tr>\n",
       "      <th>1524</th>\n",
       "      <td>U. Caramaschi</td>\n",
       "      <td>753</td>\n",
       "    </tr>\n",
       "    <tr>\n",
       "      <th>406</th>\n",
       "      <td>D. Vrcibradic</td>\n",
       "      <td>701</td>\n",
       "    </tr>\n",
       "    <tr>\n",
       "      <th>37</th>\n",
       "      <td>A. Carvalho</td>\n",
       "      <td>567</td>\n",
       "    </tr>\n",
       "    <tr>\n",
       "      <th>302</th>\n",
       "      <td>C. Rocha</td>\n",
       "      <td>478</td>\n",
       "    </tr>\n",
       "  </tbody>\n",
       "</table>\n",
       "</div>"
      ],
      "text/plain": [
       "     collector_full_name  sum\n",
       "155          A. Silveira  966\n",
       "1524       U. Caramaschi  753\n",
       "406        D. Vrcibradic  701\n",
       "37           A. Carvalho  567\n",
       "302             C. Rocha  478"
      ]
     },
     "execution_count": 41,
     "metadata": {},
     "output_type": "execute_result"
    }
   ],
   "source": [
    "# somando contagens de cada pesquisador\n",
    "sorting = teste1.groupby('collector_full_name').sum()['counts'].reset_index().rename(\n",
    "    columns={'counts':'sum'})\n",
    "\n",
    "sorting = sorting.sort_values('sum', ascending=False)\n",
    "\n",
    "# Nomes dos pesquisadores ordenados\n",
    "sort_list = sorting['collector_full_name'].unique()\n",
    "\n",
    "sorting.head()"
   ]
  },
  {
   "cell_type": "code",
   "execution_count": 43,
   "metadata": {
    "ExecuteTime": {
     "end_time": "2021-01-06T21:32:09.872048Z",
     "start_time": "2021-01-06T21:32:09.769057Z"
    }
   },
   "outputs": [],
   "source": [
    "# filtering out some families (not in TOP 50 determiners)\n",
    "familias = [f for f in cores_familia.keys() if f in \n",
    "               teste1[teste1['collector_full_name'].isin(sort_list[:50])]['familia'].unique()]\n",
    "cores_temp = [cores_familia[f] for f in familias]\n",
    "\n",
    "\n",
    "g2 = alt.Chart(teste1[teste1['collector_full_name'].isin(sort_list[:50])], \n",
    "               width=800, height=600).mark_circle().encode(\n",
    "    x= alt.X('ano_coleta', type='ordinal', title='Collected Year'),\n",
    "    y= alt.Y('collector_full_name', type='nominal', title='Collector Name', sort= sort_list[:50]),\n",
    "    size= alt.Size('counts', type=\"quantitative\",scale=alt.Scale(range=[15, 500])),  # range ajusta tamanho do circulo\n",
    "    order= alt.Order('counts', sort='descending'),  # smaller points in front\n",
    "    color= alt.Color('familia', type=\"nominal\", title=\"Family\", \n",
    "                     legend= alt.Legend(columns=2, symbolLimit=50),\n",
    "                     scale=alt.Scale(domain=familias, range=cores_temp)),\n",
    "    tooltip= alt.Tooltip(['collector_full_name', 'ano_coleta', 'counts', 'familia'])\n",
    ")\n",
    "\n",
    "g2 = g2.configure_title(fontSize=16).configure_axis(\n",
    "    labelFontSize=12,\n",
    "    titleFontSize=12\n",
    ").configure_legend(\n",
    "    labelFontSize=12,\n",
    "    titleFontSize=12\n",
    ")\n",
    "\n",
    "# saving chart\n",
    "g2.save('./graphs/collector/counts_per_collector-top_50.html')\n",
    "# g2"
   ]
  },
  {
   "cell_type": "code",
   "execution_count": 45,
   "metadata": {
    "ExecuteTime": {
     "end_time": "2021-01-06T21:32:53.377403Z",
     "start_time": "2021-01-06T21:32:53.222351Z"
    }
   },
   "outputs": [],
   "source": [
    "# filtering out some families (not in TOP 50 determiners)\n",
    "familias = [f for f in cores_familia.keys() if f in \n",
    "               teste1[teste1['collector_full_name'].isin(sort_list[:50])]['familia'].unique()]\n",
    "cores_temp = [cores_familia[f] for f in familias]\n",
    "\n",
    "\n",
    "g2 = alt.Chart(teste1[teste1['collector_full_name'].isin(sort_list[50:900])], \n",
    "               width=800, height=600).mark_circle().encode(\n",
    "    x= alt.X('ano_coleta', type='ordinal', title='Collected Year'),\n",
    "    y= alt.Y('collector_full_name', type='nominal', title='Collector Name', sort= sort_list[50:900]),\n",
    "    size= alt.Size('counts', type=\"quantitative\",scale=alt.Scale(range=[15, 120])),  # range ajusta tamanho do circulo\n",
    "    order= alt.Order('counts', sort='descending'),  # smaller points in front\n",
    "    color= alt.Color('familia', type=\"nominal\", title=\"Family\", \n",
    "                     legend= alt.Legend(columns=2, symbolLimit=50),\n",
    "                     scale=alt.Scale(domain=familias, range=cores_temp)),\n",
    "    tooltip= alt.Tooltip(['collector_full_name', 'ano_coleta', 'counts', 'familia'])\n",
    ")\n",
    "\n",
    "g2 = g2.configure_title(fontSize=16).configure_axis(\n",
    "    labelFontSize=12,\n",
    "    titleFontSize=12\n",
    ").configure_legend(\n",
    "    labelFontSize=12,\n",
    "    titleFontSize=12\n",
    ")\n",
    "\n",
    "# saving chart\n",
    "g2.save('./graphs/collector/counts_per_collector-menos_freq.html')\n",
    "# g2"
   ]
  },
  {
   "cell_type": "markdown",
   "metadata": {},
   "source": [
    "<br>\n",
    "\n",
    "**The end!**\n",
    "\n",
    "-----"
   ]
  }
 ],
 "metadata": {
  "kernelspec": {
   "display_name": "Python 3",
   "language": "python",
   "name": "python3"
  },
  "language_info": {
   "codemirror_mode": {
    "name": "ipython",
    "version": 3
   },
   "file_extension": ".py",
   "mimetype": "text/x-python",
   "name": "python",
   "nbconvert_exporter": "python",
   "pygments_lexer": "ipython3",
   "version": "3.9.1"
  },
  "latex_envs": {
   "LaTeX_envs_menu_present": true,
   "autoclose": false,
   "autocomplete": true,
   "bibliofile": "biblio.bib",
   "cite_by": "apalike",
   "current_citInitial": 1,
   "eqLabelWithNumbers": true,
   "eqNumInitial": 1,
   "hotkeys": {
    "equation": "Ctrl-E",
    "itemize": "Ctrl-I"
   },
   "labels_anchors": false,
   "latex_user_defs": false,
   "report_style_numbering": false,
   "user_envs_cfg": false
  },
  "toc": {
   "base_numbering": 1,
   "nav_menu": {},
   "number_sections": false,
   "sideBar": true,
   "skip_h1_title": false,
   "title_cell": "Table of Contents",
   "title_sidebar": "Contents",
   "toc_cell": false,
   "toc_position": {},
   "toc_section_display": true,
   "toc_window_display": false
  },
  "varInspector": {
   "cols": {
    "lenName": 16,
    "lenType": 16,
    "lenVar": 40
   },
   "kernels_config": {
    "python": {
     "delete_cmd_postfix": "",
     "delete_cmd_prefix": "del ",
     "library": "var_list.py",
     "varRefreshCmd": "print(var_dic_list())"
    },
    "r": {
     "delete_cmd_postfix": ") ",
     "delete_cmd_prefix": "rm(",
     "library": "var_list.r",
     "varRefreshCmd": "cat(var_dic_list()) "
    }
   },
   "position": {
    "height": "391.35px",
    "left": "900.5px",
    "right": "20px",
    "top": "96px",
    "width": "536.5px"
   },
   "types_to_exclude": [
    "module",
    "function",
    "builtin_function_or_method",
    "instance",
    "_Feature"
   ],
   "window_display": false
  }
 },
 "nbformat": 4,
 "nbformat_minor": 2
}
