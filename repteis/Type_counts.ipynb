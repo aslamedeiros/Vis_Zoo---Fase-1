{
 "cells": [
  {
   "cell_type": "markdown",
   "metadata": {},
   "source": [
    "# Type charts\n",
    "\n",
    "By **Franklin Oliveira**\n",
    "\n",
    "-----\n",
    "This notebook contains all code necessary to make the \"type\" charts from `repteis` database. Here you'll find some basic data treatment and charts' code. \n",
    "\n",
    "Database: <font color='blue'>'Compilacao Livros Repteis - 2 a 10 - 2020_04_28.xls'</font>."
   ]
  },
  {
   "cell_type": "code",
   "execution_count": 1,
   "metadata": {
    "ExecuteTime": {
     "end_time": "2020-08-29T16:06:29.315786Z",
     "start_time": "2020-08-29T16:06:28.283355Z"
    }
   },
   "outputs": [
    {
     "data": {
      "text/plain": [
       "DataTransformerRegistry.enable('default')"
      ]
     },
     "execution_count": 1,
     "metadata": {},
     "output_type": "execute_result"
    }
   ],
   "source": [
    "import datetime\n",
    "import numpy as np\n",
    "import pandas as pd\n",
    "\n",
    "from collections import defaultdict\n",
    "\n",
    "# pacotes para visualização rápida\n",
    "import seaborn as sns\n",
    "import matplotlib.pyplot as plt\n",
    "\n",
    "# pacote para visualização principal\n",
    "import altair as alt\n",
    "\n",
    "# habilitando renderizador para notebook\n",
    "# alt.renderers.enable('notebook')\n",
    "alt.renderers.enable('default')\n",
    "\n",
    "\n",
    "# desabilitando limite de linhas\n",
    "alt.data_transformers.disable_max_rows()"
   ]
  },
  {
   "cell_type": "markdown",
   "metadata": {},
   "source": [
    "## Importing data..."
   ]
  },
  {
   "cell_type": "code",
   "execution_count": 2,
   "metadata": {
    "ExecuteTime": {
     "end_time": "2020-08-29T16:06:29.975700Z",
     "start_time": "2020-08-29T16:06:29.806385Z"
    }
   },
   "outputs": [
    {
     "name": "stderr",
     "output_type": "stream",
     "text": [
      "/home/franklin/anaconda3/envs/viz/lib/python3.8/site-packages/IPython/core/interactiveshell.py:3071: DtypeWarning: Columns (2) have mixed types.Specify dtype option on import or set low_memory=False.\n",
      "  has_raised = await self.run_ast_nodes(code_ast.body, cell_name,\n"
     ]
    }
   ],
   "source": [
    "NewTable = pd.read_csv('./data/treated_db.csv', sep=';', encoding='utf-8-sig')"
   ]
  },
  {
   "cell_type": "markdown",
   "metadata": {},
   "source": [
    "<br>\n",
    "\n",
    "<font size=5>**Paleta de cores por Ordem**</font>\n",
    "\n",
    "Abaixo está a imagem usada como inspiração (https://color.adobe.com/create/image)\n",
    "\n",
    "<img src=\"./src/paleta_cores.jpeg\" width='500px'>\n",
    "\n",
    "Cores: \n",
    "\n",
    "- verde_escuro: #284021\n",
    "- verde_claro: #88BF11\n",
    "- amarelo: #D9CB0B\n",
    "- laranja: #D99311\n",
    "- laranja_escuro: #BF4417\n",
    "- marrom-_laro: #BF8D7A"
   ]
  },
  {
   "cell_type": "code",
   "execution_count": 3,
   "metadata": {
    "ExecuteTime": {
     "end_time": "2020-08-29T16:06:31.364750Z",
     "start_time": "2020-08-29T16:06:31.361027Z"
    }
   },
   "outputs": [],
   "source": [
    "# p.s.: caudata is an error and should be removed. \n",
    "cores_ordem = {\n",
    "    'Squamata': '#BF4417',\n",
    "    'Testudines': '#D9CB0B', \n",
    "    'Crocodylia': '#284021'\n",
    "}\n",
    "\n",
    "ordens = list(cores_ordem.keys())\n",
    "cores = list(cores_ordem.values())"
   ]
  },
  {
   "cell_type": "markdown",
   "metadata": {},
   "source": [
    "<br>\n",
    "\n",
    "\n",
    "## Graphs\n",
    "\n",
    "---\n",
    "\n",
    "### Types (*per year*) per genus\n",
    "\n",
    "x: Species1, cor: Type Status1, size: counts"
   ]
  },
  {
   "cell_type": "code",
   "execution_count": 4,
   "metadata": {
    "ExecuteTime": {
     "end_time": "2020-08-29T16:06:32.595750Z",
     "start_time": "2020-08-29T16:06:32.583567Z"
    }
   },
   "outputs": [
    {
     "data": {
      "text/plain": [
       "NaN          22731\n",
       "Parátipo       358\n",
       "Holótipo        32\n",
       "2005             5\n",
       "Síntipo          4\n",
       "Topótipo         1\n",
       "Lectótipo        1\n",
       "Name: type_status, dtype: int64"
      ]
     },
     "execution_count": 4,
     "metadata": {},
     "output_type": "execute_result"
    }
   ],
   "source": [
    "# type info is in this column\n",
    "NewTable['type_status'].value_counts(dropna= False)"
   ]
  },
  {
   "cell_type": "code",
   "execution_count": 5,
   "metadata": {
    "ExecuteTime": {
     "end_time": "2020-08-29T16:06:33.854152Z",
     "start_time": "2020-08-29T16:06:33.810004Z"
    }
   },
   "outputs": [],
   "source": [
    "# subsetting\n",
    "teste = NewTable[['altitude','familia','ordem', 'ano_coleta', 'qualificador_atual', 'numero_catalogo', \n",
    "                  'genero_atual', 'especie_atual', 'subespecie_atual', 'type_status']].copy()\n",
    "\n",
    "# grouping by type, year and order\n",
    "temp = teste.groupby(['type_status','ano_coleta', 'ordem']).count()['familia'].reset_index().rename(columns={\n",
    "    'familia':'counts'\n",
    "})\n",
    "\n",
    "# p.s.: Cótipo and Topótipo are not types\n",
    "temp = temp[(temp['type_status'] != 'Cótipo') & (temp['type_status'] != 'Topótipo')]"
   ]
  },
  {
   "cell_type": "markdown",
   "metadata": {},
   "source": [
    "243 info. de tipos"
   ]
  },
  {
   "cell_type": "markdown",
   "metadata": {},
   "source": [
    "### Gráf. de Tipos"
   ]
  },
  {
   "cell_type": "code",
   "execution_count": 8,
   "metadata": {
    "ExecuteTime": {
     "end_time": "2020-08-29T16:06:36.707124Z",
     "start_time": "2020-08-29T16:06:36.630477Z"
    }
   },
   "outputs": [
    {
     "data": {
      "text/html": [
       "\n",
       "<div id=\"altair-viz-fe2c1d5f76f7424a8e61f8bb4e2d103c\"></div>\n",
       "<script type=\"text/javascript\">\n",
       "  (function(spec, embedOpt){\n",
       "    let outputDiv = document.currentScript.previousElementSibling;\n",
       "    if (outputDiv.id !== \"altair-viz-fe2c1d5f76f7424a8e61f8bb4e2d103c\") {\n",
       "      outputDiv = document.getElementById(\"altair-viz-fe2c1d5f76f7424a8e61f8bb4e2d103c\");\n",
       "    }\n",
       "    const paths = {\n",
       "      \"vega\": \"https://cdn.jsdelivr.net/npm//vega@5?noext\",\n",
       "      \"vega-lib\": \"https://cdn.jsdelivr.net/npm//vega-lib?noext\",\n",
       "      \"vega-lite\": \"https://cdn.jsdelivr.net/npm//vega-lite@4.8.1?noext\",\n",
       "      \"vega-embed\": \"https://cdn.jsdelivr.net/npm//vega-embed@6?noext\",\n",
       "    };\n",
       "\n",
       "    function loadScript(lib) {\n",
       "      return new Promise(function(resolve, reject) {\n",
       "        var s = document.createElement('script');\n",
       "        s.src = paths[lib];\n",
       "        s.async = true;\n",
       "        s.onload = () => resolve(paths[lib]);\n",
       "        s.onerror = () => reject(`Error loading script: ${paths[lib]}`);\n",
       "        document.getElementsByTagName(\"head\")[0].appendChild(s);\n",
       "      });\n",
       "    }\n",
       "\n",
       "    function showError(err) {\n",
       "      outputDiv.innerHTML = `<div class=\"error\" style=\"color:red;\">${err}</div>`;\n",
       "      throw err;\n",
       "    }\n",
       "\n",
       "    function displayChart(vegaEmbed) {\n",
       "      vegaEmbed(outputDiv, spec, embedOpt)\n",
       "        .catch(err => showError(`Javascript Error: ${err.message}<br>This usually means there's a typo in your chart specification. See the javascript console for the full traceback.`));\n",
       "    }\n",
       "\n",
       "    if(typeof define === \"function\" && define.amd) {\n",
       "      requirejs.config({paths});\n",
       "      require([\"vega-embed\"], displayChart, err => showError(`Error loading script: ${err.message}`));\n",
       "    } else if (typeof vegaEmbed === \"function\") {\n",
       "      displayChart(vegaEmbed);\n",
       "    } else {\n",
       "      loadScript(\"vega\")\n",
       "        .then(() => loadScript(\"vega-lite\"))\n",
       "        .then(() => loadScript(\"vega-embed\"))\n",
       "        .catch(showError)\n",
       "        .then(() => displayChart(vegaEmbed));\n",
       "    }\n",
       "  })({\"config\": {\"view\": {\"continuousWidth\": 400, \"continuousHeight\": 300}}, \"data\": {\"name\": \"data-030a59541dce56b1fc3c12ab108dc5e5\"}, \"mark\": \"circle\", \"encoding\": {\"color\": {\"type\": \"nominal\", \"field\": \"ordem\", \"scale\": {\"domain\": [\"Squamata\", \"Testudines\", \"Crocodylia\"], \"range\": [\"#BF4417\", \"#D9CB0B\", \"#284021\"]}, \"title\": \"order\"}, \"size\": {\"type\": \"quantitative\", \"field\": \"counts\", \"scale\": {}}, \"tooltip\": [{\"type\": \"nominal\", \"field\": \"type_status\", \"title\": \"type\"}, {\"type\": \"quantitative\", \"field\": \"ano_coleta\", \"title\": \"collected year\"}, {\"type\": \"quantitative\", \"field\": \"counts\", \"title\": \"counts\"}], \"x\": {\"type\": \"ordinal\", \"field\": \"ano_coleta\", \"title\": \"collected year\"}, \"y\": {\"type\": \"nominal\", \"field\": \"type_status\", \"sort\": {\"field\": \"tipo\", \"op\": \"count\", \"order\": \"descending\"}, \"title\": \"type\"}}, \"height\": 150, \"title\": \"Types per year\", \"$schema\": \"https://vega.github.io/schema/vega-lite/v4.8.1.json\", \"datasets\": {\"data-030a59541dce56b1fc3c12ab108dc5e5\": [{\"type_status\": \"2005\", \"ano_coleta\": 1994.0, \"ordem\": \"Squamata\", \"counts\": 1}, {\"type_status\": \"2005\", \"ano_coleta\": 2001.0, \"ordem\": \"Squamata\", \"counts\": 3}, {\"type_status\": \"2005\", \"ano_coleta\": 2002.0, \"ordem\": \"Squamata\", \"counts\": 1}, {\"type_status\": \"Hol\\u00f3tipo\", \"ano_coleta\": 1957.0, \"ordem\": \"Squamata\", \"counts\": 1}, {\"type_status\": \"Hol\\u00f3tipo\", \"ano_coleta\": 1964.0, \"ordem\": \"Squamata\", \"counts\": 1}, {\"type_status\": \"Hol\\u00f3tipo\", \"ano_coleta\": 1985.0, \"ordem\": \"Squamata\", \"counts\": 1}, {\"type_status\": \"Hol\\u00f3tipo\", \"ano_coleta\": 1988.0, \"ordem\": \"Squamata\", \"counts\": 2}, {\"type_status\": \"Hol\\u00f3tipo\", \"ano_coleta\": 1989.0, \"ordem\": \"Squamata\", \"counts\": 1}, {\"type_status\": \"Hol\\u00f3tipo\", \"ano_coleta\": 1990.0, \"ordem\": \"Squamata\", \"counts\": 1}, {\"type_status\": \"Hol\\u00f3tipo\", \"ano_coleta\": 1991.0, \"ordem\": \"Squamata\", \"counts\": 1}, {\"type_status\": \"Hol\\u00f3tipo\", \"ano_coleta\": 1995.0, \"ordem\": \"Squamata\", \"counts\": 3}, {\"type_status\": \"Hol\\u00f3tipo\", \"ano_coleta\": 1997.0, \"ordem\": \"Squamata\", \"counts\": 1}, {\"type_status\": \"Hol\\u00f3tipo\", \"ano_coleta\": 1998.0, \"ordem\": \"Squamata\", \"counts\": 2}, {\"type_status\": \"Hol\\u00f3tipo\", \"ano_coleta\": 2000.0, \"ordem\": \"Squamata\", \"counts\": 1}, {\"type_status\": \"Hol\\u00f3tipo\", \"ano_coleta\": 2003.0, \"ordem\": \"Squamata\", \"counts\": 1}, {\"type_status\": \"Hol\\u00f3tipo\", \"ano_coleta\": 2005.0, \"ordem\": \"Squamata\", \"counts\": 1}, {\"type_status\": \"Hol\\u00f3tipo\", \"ano_coleta\": 2006.0, \"ordem\": \"Squamata\", \"counts\": 3}, {\"type_status\": \"Hol\\u00f3tipo\", \"ano_coleta\": 2007.0, \"ordem\": \"Squamata\", \"counts\": 2}, {\"type_status\": \"Hol\\u00f3tipo\", \"ano_coleta\": 2008.0, \"ordem\": \"Squamata\", \"counts\": 5}, {\"type_status\": \"Hol\\u00f3tipo\", \"ano_coleta\": 2009.0, \"ordem\": \"Squamata\", \"counts\": 1}, {\"type_status\": \"Hol\\u00f3tipo\", \"ano_coleta\": 2009.0, \"ordem\": \"Testudines\", \"counts\": 1}, {\"type_status\": \"Hol\\u00f3tipo\", \"ano_coleta\": 2012.0, \"ordem\": \"Squamata\", \"counts\": 1}, {\"type_status\": \"Lect\\u00f3tipo\", \"ano_coleta\": 1937.0, \"ordem\": \"Squamata\", \"counts\": 1}, {\"type_status\": \"Par\\u00e1tipo\", \"ano_coleta\": 1947.0, \"ordem\": \"Squamata\", \"counts\": 1}, {\"type_status\": \"Par\\u00e1tipo\", \"ano_coleta\": 1956.0, \"ordem\": \"Squamata\", \"counts\": 2}, {\"type_status\": \"Par\\u00e1tipo\", \"ano_coleta\": 1981.0, \"ordem\": \"Squamata\", \"counts\": 1}, {\"type_status\": \"Par\\u00e1tipo\", \"ano_coleta\": 1984.0, \"ordem\": \"Squamata\", \"counts\": 1}, {\"type_status\": \"Par\\u00e1tipo\", \"ano_coleta\": 1985.0, \"ordem\": \"Squamata\", \"counts\": 9}, {\"type_status\": \"Par\\u00e1tipo\", \"ano_coleta\": 1986.0, \"ordem\": \"Squamata\", \"counts\": 2}, {\"type_status\": \"Par\\u00e1tipo\", \"ano_coleta\": 1987.0, \"ordem\": \"Squamata\", \"counts\": 2}, {\"type_status\": \"Par\\u00e1tipo\", \"ano_coleta\": 1988.0, \"ordem\": \"Squamata\", \"counts\": 2}, {\"type_status\": \"Par\\u00e1tipo\", \"ano_coleta\": 1989.0, \"ordem\": \"Squamata\", \"counts\": 22}, {\"type_status\": \"Par\\u00e1tipo\", \"ano_coleta\": 1990.0, \"ordem\": \"Squamata\", \"counts\": 10}, {\"type_status\": \"Par\\u00e1tipo\", \"ano_coleta\": 1991.0, \"ordem\": \"Squamata\", \"counts\": 83}, {\"type_status\": \"Par\\u00e1tipo\", \"ano_coleta\": 1992.0, \"ordem\": \"Squamata\", \"counts\": 8}, {\"type_status\": \"Par\\u00e1tipo\", \"ano_coleta\": 1993.0, \"ordem\": \"Squamata\", \"counts\": 16}, {\"type_status\": \"Par\\u00e1tipo\", \"ano_coleta\": 1994.0, \"ordem\": \"Squamata\", \"counts\": 7}, {\"type_status\": \"Par\\u00e1tipo\", \"ano_coleta\": 1995.0, \"ordem\": \"Squamata\", \"counts\": 7}, {\"type_status\": \"Par\\u00e1tipo\", \"ano_coleta\": 1997.0, \"ordem\": \"Squamata\", \"counts\": 9}, {\"type_status\": \"Par\\u00e1tipo\", \"ano_coleta\": 1998.0, \"ordem\": \"Squamata\", \"counts\": 40}, {\"type_status\": \"Par\\u00e1tipo\", \"ano_coleta\": 1999.0, \"ordem\": \"Squamata\", \"counts\": 1}, {\"type_status\": \"Par\\u00e1tipo\", \"ano_coleta\": 2000.0, \"ordem\": \"Squamata\", \"counts\": 33}, {\"type_status\": \"Par\\u00e1tipo\", \"ano_coleta\": 2001.0, \"ordem\": \"Squamata\", \"counts\": 1}, {\"type_status\": \"Par\\u00e1tipo\", \"ano_coleta\": 2002.0, \"ordem\": \"Squamata\", \"counts\": 3}, {\"type_status\": \"Par\\u00e1tipo\", \"ano_coleta\": 2004.0, \"ordem\": \"Squamata\", \"counts\": 2}, {\"type_status\": \"Par\\u00e1tipo\", \"ano_coleta\": 2005.0, \"ordem\": \"Squamata\", \"counts\": 1}, {\"type_status\": \"Par\\u00e1tipo\", \"ano_coleta\": 2006.0, \"ordem\": \"Squamata\", \"counts\": 4}, {\"type_status\": \"Par\\u00e1tipo\", \"ano_coleta\": 2007.0, \"ordem\": \"Squamata\", \"counts\": 7}, {\"type_status\": \"Par\\u00e1tipo\", \"ano_coleta\": 2008.0, \"ordem\": \"Squamata\", \"counts\": 28}, {\"type_status\": \"Par\\u00e1tipo\", \"ano_coleta\": 2008.0, \"ordem\": \"Testudines\", \"counts\": 7}, {\"type_status\": \"Par\\u00e1tipo\", \"ano_coleta\": 2009.0, \"ordem\": \"Squamata\", \"counts\": 10}, {\"type_status\": \"Par\\u00e1tipo\", \"ano_coleta\": 2009.0, \"ordem\": \"Testudines\", \"counts\": 2}, {\"type_status\": \"Par\\u00e1tipo\", \"ano_coleta\": 2011.0, \"ordem\": \"Testudines\", \"counts\": 2}, {\"type_status\": \"Par\\u00e1tipo\", \"ano_coleta\": 2012.0, \"ordem\": \"Squamata\", \"counts\": 9}, {\"type_status\": \"Par\\u00e1tipo\", \"ano_coleta\": 2013.0, \"ordem\": \"Squamata\", \"counts\": 3}, {\"type_status\": \"Par\\u00e1tipo\", \"ano_coleta\": 2014.0, \"ordem\": \"Squamata\", \"counts\": 1}, {\"type_status\": \"Par\\u00e1tipo\", \"ano_coleta\": 2015.0, \"ordem\": \"Squamata\", \"counts\": 5}, {\"type_status\": \"S\\u00edntipo\", \"ano_coleta\": 1941.0, \"ordem\": \"Squamata\", \"counts\": 2}]}}, {\"mode\": \"vega-lite\"});\n",
       "</script>"
      ],
      "text/plain": [
       "alt.Chart(...)"
      ]
     },
     "execution_count": 8,
     "metadata": {},
     "output_type": "execute_result"
    }
   ],
   "source": [
    "tipo = alt.Chart(temp, height=150, title='Types per year').mark_circle().encode(\n",
    "    x = alt.X('ano_coleta:O', title='collected year'),\n",
    "    y = alt.Y('type_status:N', title= 'type',\n",
    "              sort=alt.EncodingSortField('tipo', op='count', order='descending')),\n",
    "    color= alt.Color('ordem', scale=alt.Scale(domain=ordens, range=cores), title='order'), \n",
    "    size= alt.Size('counts', scale=alt.Scale()),\n",
    "    tooltip= [alt.Tooltip('type_status', title='type'),\n",
    "              alt.Tooltip('ano_coleta', title='collected year'),\n",
    "              alt.Tooltip('counts', title='counts')]\n",
    ")\n",
    "\n",
    "# tipo.save('./graphs/tipo/tipos_por_ano.html')\n",
    "\n",
    "tipo"
   ]
  },
  {
   "cell_type": "markdown",
   "metadata": {},
   "source": [
    "<br>\n",
    "\n",
    "<font size='6'>Para a base de repteis acaba aqui, por enquanto </font>"
   ]
  },
  {
   "cell_type": "markdown",
   "metadata": {},
   "source": [
    "<br>\n",
    "\n",
    "#### defining some parameters\n",
    "\n",
    "**colors:**\n",
    "<ul>\n",
    "    <li style='color:#d62728;'><b> #d62728 </b> - vermelho 1</li>\n",
    "    <li style='color:#d62729;'><b> #d62729 </b> - vermelho 2</li>\n",
    "    <li style='color:#f58518;'><b> #f58518 </b> - laranja 1</li>\n",
    "    <li style='color:#f58519;'><b> #f58519 </b> - laranja 2</li>\n",
    "    <li style='color:#d95f02;'><b> #d95f02 </b> - laranja escuro</li>\n",
    "    <li style='color:#4daf4a;'><b> #4daf4a </b> - verde</li>\n",
    "    <li style='color:#8c6d31;'><b> #8c6d31 </b> - marrom</li>\n",
    "    <li style='color:#79706e;'><b> #79706e </b> - azul</li>\n",
    "    <li style='color:#bab0ac;'><b> #bab0ac </b> - azul claro</li>\n",
    "    <li style='color:#d8b5a5;'><b> #d8b5a5 </b> - bege</li>\n",
    "    <li style='color:#000000;'><b> #000000 </b> - preto</li>\n",
    "</ul>"
   ]
  },
  {
   "cell_type": "code",
   "execution_count": 66,
   "metadata": {},
   "outputs": [],
   "source": [
    "NewTable['type_status'] = NewTable['type_status'].apply(lambda x:str(x))\n",
    "types = NewTable['type_status'].apply(lambda x:str(x)).unique()"
   ]
  },
  {
   "cell_type": "code",
   "execution_count": 67,
   "metadata": {},
   "outputs": [
    {
     "data": {
      "text/plain": [
       "array(['nan', 'Holótipo', 'Parátipo', 'Topótipo', 'Lectótipo', 'Síntipo',\n",
       "       '2005'], dtype=object)"
      ]
     },
     "execution_count": 67,
     "metadata": {},
     "output_type": "execute_result"
    }
   ],
   "source": [
    "types"
   ]
  },
  {
   "cell_type": "code",
   "execution_count": 40,
   "metadata": {
    "ExecuteTime": {
     "end_time": "2020-03-12T00:04:15.647165Z",
     "start_time": "2020-03-12T00:04:15.542566Z"
    }
   },
   "outputs": [],
   "source": [
    "# dictionary with type:color\n",
    "type_color = {\n",
    "    'nan':'#000000',      # preto\n",
    "    'Holótipo':'#d62728',  # vermelho 1\n",
    "    'Síntipo':'#d62729',   # vermelho 2\n",
    "    'Parátipo':'#4daf4a',  # verde\n",
    "    'Topótipo':'#8c6d31',  # marrom\n",
    "    'Lectótipo':'#f58518', # laranja 1\n",
    "    '2005':'#79706e',      # azul  OBS: ERRO NA BASE!\n",
    "}"
   ]
  },
  {
   "cell_type": "markdown",
   "metadata": {},
   "source": [
    "<br>\n",
    "\n",
    "### grouping and counting"
   ]
  },
  {
   "cell_type": "code",
   "execution_count": 46,
   "metadata": {
    "ExecuteTime": {
     "end_time": "2020-03-12T00:04:15.902175Z",
     "start_time": "2020-03-12T00:04:15.649445Z"
    }
   },
   "outputs": [],
   "source": [
    "counts = NewTable.groupby(['determinator_full_name', 'type_status', 'ano_determinacao']).count()['class'].reset_index()\n",
    "counts.rename(columns={'class':'counts'}, inplace=True)"
   ]
  },
  {
   "cell_type": "markdown",
   "metadata": {},
   "source": [
    "## types and non-types per determiner"
   ]
  },
  {
   "cell_type": "code",
   "execution_count": 59,
   "metadata": {
    "ExecuteTime": {
     "end_time": "2020-03-12T00:05:20.079181Z",
     "start_time": "2020-03-12T00:05:17.048876Z"
    }
   },
   "outputs": [
    {
     "data": {
      "text/html": [
       "\n",
       "<div id=\"altair-viz-2b01b296b40646ffb98b1b7f5c2dc070\"></div>\n",
       "<script type=\"text/javascript\">\n",
       "  (function(spec, embedOpt){\n",
       "    let outputDiv = document.currentScript.previousElementSibling;\n",
       "    if (outputDiv.id !== \"altair-viz-2b01b296b40646ffb98b1b7f5c2dc070\") {\n",
       "      outputDiv = document.getElementById(\"altair-viz-2b01b296b40646ffb98b1b7f5c2dc070\");\n",
       "    }\n",
       "    const paths = {\n",
       "      \"vega\": \"https://cdn.jsdelivr.net/npm//vega@5?noext\",\n",
       "      \"vega-lib\": \"https://cdn.jsdelivr.net/npm//vega-lib?noext\",\n",
       "      \"vega-lite\": \"https://cdn.jsdelivr.net/npm//vega-lite@4.8.1?noext\",\n",
       "      \"vega-embed\": \"https://cdn.jsdelivr.net/npm//vega-embed@6?noext\",\n",
       "    };\n",
       "\n",
       "    function loadScript(lib) {\n",
       "      return new Promise(function(resolve, reject) {\n",
       "        var s = document.createElement('script');\n",
       "        s.src = paths[lib];\n",
       "        s.async = true;\n",
       "        s.onload = () => resolve(paths[lib]);\n",
       "        s.onerror = () => reject(`Error loading script: ${paths[lib]}`);\n",
       "        document.getElementsByTagName(\"head\")[0].appendChild(s);\n",
       "      });\n",
       "    }\n",
       "\n",
       "    function showError(err) {\n",
       "      outputDiv.innerHTML = `<div class=\"error\" style=\"color:red;\">${err}</div>`;\n",
       "      throw err;\n",
       "    }\n",
       "\n",
       "    function displayChart(vegaEmbed) {\n",
       "      vegaEmbed(outputDiv, spec, embedOpt)\n",
       "        .catch(err => showError(`Javascript Error: ${err.message}<br>This usually means there's a typo in your chart specification. See the javascript console for the full traceback.`));\n",
       "    }\n",
       "\n",
       "    if(typeof define === \"function\" && define.amd) {\n",
       "      requirejs.config({paths});\n",
       "      require([\"vega-embed\"], displayChart, err => showError(`Error loading script: ${err.message}`));\n",
       "    } else if (typeof vegaEmbed === \"function\") {\n",
       "      displayChart(vegaEmbed);\n",
       "    } else {\n",
       "      loadScript(\"vega\")\n",
       "        .then(() => loadScript(\"vega-lite\"))\n",
       "        .then(() => loadScript(\"vega-embed\"))\n",
       "        .catch(showError)\n",
       "        .then(() => displayChart(vegaEmbed));\n",
       "    }\n",
       "  })({\"config\": {\"view\": {\"continuousWidth\": 400, \"continuousHeight\": 300}}, \"data\": {\"name\": \"data-b453cde96480829eb6deb0e3be6e8800\"}, \"mark\": \"circle\", \"encoding\": {\"color\": {\"type\": \"nominal\", \"field\": \"type_status\", \"scale\": {\"domain\": [\"nan\", \"Hol\\u00f3tipo\", \"S\\u00edntipo\", \"Par\\u00e1tipo\", \"Top\\u00f3tipo\", \"Lect\\u00f3tipo\", \"2005\"], \"range\": [\"#000000\", \"#d62728\", \"#d62729\", \"#4daf4a\", \"#8c6d31\", \"#f58518\", \"#79706e\"]}, \"title\": \"Tipo\"}, \"size\": {\"type\": \"quantitative\", \"field\": \"counts\"}, \"tooltip\": [{\"type\": \"nominal\", \"field\": \"determinator_full_name\"}, {\"type\": \"nominal\", \"field\": \"type_status\"}, {\"type\": \"quantitative\", \"field\": \"ano_determinacao\"}, {\"type\": \"quantitative\", \"field\": \"counts\"}], \"x\": {\"type\": \"ordinal\", \"field\": \"ano_determinacao\", \"title\": \"Ano de Determina\\u00e7\\u00e3o\"}, \"y\": {\"type\": \"nominal\", \"field\": \"determinator_full_name\", \"sort\": {\"field\": \"counts\", \"op\": \"sum\", \"order\": \"descending\"}, \"title\": \"\"}}, \"height\": 300, \"title\": \"Tipos por Determinador\", \"width\": 400, \"$schema\": \"https://vega.github.io/schema/vega-lite/v4.8.1.json\", \"datasets\": {\"data-b453cde96480829eb6deb0e3be6e8800\": [{\"determinator_full_name\": \"A. Lima\", \"type_status\": \"Par\\u00e1tipo\", \"ano_determinacao\": 2009.0, \"counts\": 2}, {\"determinator_full_name\": \"A. Silveira\", \"type_status\": \"Hol\\u00f3tipo\", \"ano_determinacao\": 2007.0, \"counts\": 1}, {\"determinator_full_name\": \"A. Silveira\", \"type_status\": \"Par\\u00e1tipo\", \"ano_determinacao\": 2007.0, \"counts\": 3}, {\"determinator_full_name\": \"A. Silveira\", \"type_status\": \"Par\\u00e1tipo\", \"ano_determinacao\": 2010.0, \"counts\": 1}, {\"determinator_full_name\": \"D. Borges-nojosa\", \"type_status\": \"Par\\u00e1tipo\", \"ano_determinacao\": 2016.0, \"counts\": 1}, {\"determinator_full_name\": \"D. Fernandes\", \"type_status\": \"Par\\u00e1tipo\", \"ano_determinacao\": 2010.0, \"counts\": 1}, {\"determinator_full_name\": \"F. Curcio\", \"type_status\": \"Hol\\u00f3tipo\", \"ano_determinacao\": 2010.0, \"counts\": 1}, {\"determinator_full_name\": \"I. Ros\\u00e1rio\", \"type_status\": \"Par\\u00e1tipo\", \"ano_determinacao\": 2012.0, \"counts\": 3}, {\"determinator_full_name\": \"P. Passos\", \"type_status\": \"2005\", \"ano_determinacao\": 2003.0, \"counts\": 5}, {\"determinator_full_name\": \"P. Passos\", \"type_status\": \"Hol\\u00f3tipo\", \"ano_determinacao\": 2000.0, \"counts\": 1}, {\"determinator_full_name\": \"P. Passos\", \"type_status\": \"Hol\\u00f3tipo\", \"ano_determinacao\": 2006.0, \"counts\": 1}, {\"determinator_full_name\": \"P. Passos\", \"type_status\": \"Hol\\u00f3tipo\", \"ano_determinacao\": 2008.0, \"counts\": 2}, {\"determinator_full_name\": \"P. Passos\", \"type_status\": \"Par\\u00e1tipo\", \"ano_determinacao\": 2006.0, \"counts\": 3}, {\"determinator_full_name\": \"P. Passos\", \"type_status\": \"Par\\u00e1tipo\", \"ano_determinacao\": 2007.0, \"counts\": 3}, {\"determinator_full_name\": \"P. Passos\", \"type_status\": \"Par\\u00e1tipo\", \"ano_determinacao\": 2008.0, \"counts\": 11}, {\"determinator_full_name\": \"P. Passos\", \"type_status\": \"Par\\u00e1tipo\", \"ano_determinacao\": 2009.0, \"counts\": 2}, {\"determinator_full_name\": \"P. Passos\", \"type_status\": \"Par\\u00e1tipo\", \"ano_determinacao\": 2012.0, \"counts\": 1}, {\"determinator_full_name\": \"P. Passos\", \"type_status\": \"Par\\u00e1tipo\", \"ano_determinacao\": 2013.0, \"counts\": 2}, {\"determinator_full_name\": \"P. Passos\", \"type_status\": \"Par\\u00e1tipo\", \"ano_determinacao\": 2014.0, \"counts\": 1}, {\"determinator_full_name\": \"P. Sampaio\", \"type_status\": \"Par\\u00e1tipo\", \"ano_determinacao\": 2015.0, \"counts\": 5}, {\"determinator_full_name\": \"R. Fernandes\", \"type_status\": \"Hol\\u00f3tipo\", \"ano_determinacao\": 2007.0, \"counts\": 1}, {\"determinator_full_name\": \"R. Pinto\", \"type_status\": \"Par\\u00e1tipo\", \"ano_determinacao\": 2004.0, \"counts\": 1}, {\"determinator_full_name\": \"T. L.\", \"type_status\": \"Hol\\u00f3tipo\", \"ano_determinacao\": 1998.0, \"counts\": 1}, {\"determinator_full_name\": \"T. L.\", \"type_status\": \"Par\\u00e1tipo\", \"ano_determinacao\": 1998.0, \"counts\": 1}, {\"determinator_full_name\": \"T. Lewi\", \"type_status\": \"Hol\\u00f3tipo\", \"ano_determinacao\": 2005.0, \"counts\": 1}, {\"determinator_full_name\": \"U. Caramaschi\", \"type_status\": \"Hol\\u00f3tipo\", \"ano_determinacao\": 2012.0, \"counts\": 1}, {\"determinator_full_name\": \"U. Caramaschi\", \"type_status\": \"Par\\u00e1tipo\", \"ano_determinacao\": 2012.0, \"counts\": 11}, {\"determinator_full_name\": \"V. Trevine\", \"type_status\": \"Par\\u00e1tipo\", \"ano_determinacao\": 2013.0, \"counts\": 1}, {\"determinator_full_name\": \"W. Hoogmoed\", \"type_status\": \"Hol\\u00f3tipo\", \"ano_determinacao\": 2007.0, \"counts\": 1}, {\"determinator_full_name\": \"W. Hoogmoed\", \"type_status\": \"Par\\u00e1tipo\", \"ano_determinacao\": 2007.0, \"counts\": 1}, {\"determinator_full_name\": \"W. Silva\", \"type_status\": \"Hol\\u00f3tipo\", \"ano_determinacao\": 2015.0, \"counts\": 1}, {\"determinator_full_name\": \"W. Silva\", \"type_status\": \"Par\\u00e1tipo\", \"ano_determinacao\": 2015.0, \"counts\": 9}]}}, {\"mode\": \"vega-lite\"});\n",
       "</script>"
      ],
      "text/plain": [
       "alt.Chart(...)"
      ]
     },
     "execution_count": 59,
     "metadata": {},
     "output_type": "execute_result"
    }
   ],
   "source": [
    "g1 = alt.Chart(counts[counts['type_status'] != 'nan'], title='Tipos por Determinador', \n",
    "               height=300, width=400).mark_circle().encode(\n",
    "    x = alt.X('ano_determinacao:O', title='Ano de Determinação'),\n",
    "    y = alt.Y('determinator_full_name:N', title='', \n",
    "             sort= alt.EncodingSortField(field= 'counts', op='sum', order='descending')),\n",
    "    color = alt.Color('type_status:N', title='Tipo', \n",
    "                     scale = alt.Scale(domain=list(type_color.keys()), range= list(type_color.values()))), \n",
    "    size = alt.Size('counts:Q'), \n",
    "    tooltip = alt.Tooltip(['determinator_full_name', 'type_status', 'ano_determinacao', 'counts'])\n",
    ")\n",
    "\n",
    "# saving graph\n",
    "g1.save('./graphs/tipo/tipos_por_determinador.html')\n",
    "\n",
    "\n",
    "g1"
   ]
  },
  {
   "cell_type": "code",
   "execution_count": 65,
   "metadata": {},
   "outputs": [],
   "source": [
    "g1 = alt.Chart(counts[counts['type_status'] == 'nan'], title='Não-tipos por Determinador', \n",
    "               height=1000, width=400).mark_circle(color='#000000').encode(\n",
    "    x = alt.X('ano_determinacao:O', title='Ano de Determinação'),\n",
    "    y = alt.Y('determinator_full_name:N', title='', \n",
    "             sort= alt.EncodingSortField(field= 'counts', op='sum', order='descending')),\n",
    "    size = alt.Size('counts:Q'), \n",
    "    tooltip = alt.Tooltip(['determinator_full_name', 'ano_determinacao', 'counts'])\n",
    ")\n",
    "\n",
    "# saving graph\n",
    "# g1.save('./graphs/tipo/nao-tipos_por_determinador.html')\n",
    "\n",
    "# g1"
   ]
  },
  {
   "cell_type": "markdown",
   "metadata": {},
   "source": [
    "<br>\n",
    "\n",
    "## types per collector\n",
    "\n",
    "-----\n",
    "\n",
    "### grouping and counting"
   ]
  },
  {
   "cell_type": "code",
   "execution_count": 89,
   "metadata": {
    "ExecuteTime": {
     "end_time": "2020-03-12T00:04:15.902175Z",
     "start_time": "2020-03-12T00:04:15.649445Z"
    }
   },
   "outputs": [],
   "source": [
    "counts = NewTable.groupby(['collector_full_name', 'type_status', 'ano_coleta']).count()['class'].reset_index()\n",
    "counts.rename(columns={'class':'counts'}, inplace=True)\n",
    "counts.sort_values('counts', inplace=True, ascending=False)"
   ]
  },
  {
   "cell_type": "code",
   "execution_count": 91,
   "metadata": {},
   "outputs": [
    {
     "data": {
      "text/html": [
       "\n",
       "<div id=\"altair-viz-363cf5833e924eb1bbfe74e155e07b24\"></div>\n",
       "<script type=\"text/javascript\">\n",
       "  (function(spec, embedOpt){\n",
       "    let outputDiv = document.currentScript.previousElementSibling;\n",
       "    if (outputDiv.id !== \"altair-viz-363cf5833e924eb1bbfe74e155e07b24\") {\n",
       "      outputDiv = document.getElementById(\"altair-viz-363cf5833e924eb1bbfe74e155e07b24\");\n",
       "    }\n",
       "    const paths = {\n",
       "      \"vega\": \"https://cdn.jsdelivr.net/npm//vega@5?noext\",\n",
       "      \"vega-lib\": \"https://cdn.jsdelivr.net/npm//vega-lib?noext\",\n",
       "      \"vega-lite\": \"https://cdn.jsdelivr.net/npm//vega-lite@4.8.1?noext\",\n",
       "      \"vega-embed\": \"https://cdn.jsdelivr.net/npm//vega-embed@6?noext\",\n",
       "    };\n",
       "\n",
       "    function loadScript(lib) {\n",
       "      return new Promise(function(resolve, reject) {\n",
       "        var s = document.createElement('script');\n",
       "        s.src = paths[lib];\n",
       "        s.async = true;\n",
       "        s.onload = () => resolve(paths[lib]);\n",
       "        s.onerror = () => reject(`Error loading script: ${paths[lib]}`);\n",
       "        document.getElementsByTagName(\"head\")[0].appendChild(s);\n",
       "      });\n",
       "    }\n",
       "\n",
       "    function showError(err) {\n",
       "      outputDiv.innerHTML = `<div class=\"error\" style=\"color:red;\">${err}</div>`;\n",
       "      throw err;\n",
       "    }\n",
       "\n",
       "    function displayChart(vegaEmbed) {\n",
       "      vegaEmbed(outputDiv, spec, embedOpt)\n",
       "        .catch(err => showError(`Javascript Error: ${err.message}<br>This usually means there's a typo in your chart specification. See the javascript console for the full traceback.`));\n",
       "    }\n",
       "\n",
       "    if(typeof define === \"function\" && define.amd) {\n",
       "      requirejs.config({paths});\n",
       "      require([\"vega-embed\"], displayChart, err => showError(`Error loading script: ${err.message}`));\n",
       "    } else if (typeof vegaEmbed === \"function\") {\n",
       "      displayChart(vegaEmbed);\n",
       "    } else {\n",
       "      loadScript(\"vega\")\n",
       "        .then(() => loadScript(\"vega-lite\"))\n",
       "        .then(() => loadScript(\"vega-embed\"))\n",
       "        .catch(showError)\n",
       "        .then(() => displayChart(vegaEmbed));\n",
       "    }\n",
       "  })({\"config\": {\"view\": {\"continuousWidth\": 400, \"continuousHeight\": 300}}, \"data\": {\"name\": \"data-e659dc0e0d124613fc1cc16b3426c485\"}, \"mark\": \"circle\", \"encoding\": {\"color\": {\"type\": \"nominal\", \"field\": \"type_status\", \"scale\": {\"domain\": [\"nan\", \"Hol\\u00f3tipo\", \"S\\u00edntipo\", \"Par\\u00e1tipo\", \"Top\\u00f3tipo\", \"Lect\\u00f3tipo\", \"2005\"], \"range\": [\"#000000\", \"#d62728\", \"#d62729\", \"#4daf4a\", \"#8c6d31\", \"#f58518\", \"#79706e\"]}, \"title\": \"Tipo\"}, \"size\": {\"type\": \"quantitative\", \"field\": \"counts\"}, \"tooltip\": [{\"type\": \"nominal\", \"field\": \"collector_full_name\"}, {\"type\": \"nominal\", \"field\": \"type_status\"}, {\"type\": \"quantitative\", \"field\": \"ano_coleta\"}, {\"type\": \"quantitative\", \"field\": \"counts\"}], \"x\": {\"type\": \"ordinal\", \"field\": \"ano_coleta\", \"title\": \"Ano de Determina\\u00e7\\u00e3o\"}, \"y\": {\"type\": \"nominal\", \"field\": \"collector_full_name\", \"sort\": {\"field\": \"counts\", \"op\": \"sum\", \"order\": \"descending\"}, \"title\": \"\"}}, \"height\": 700, \"title\": \"Tipos por Coletor\", \"width\": 400, \"$schema\": \"https://vega.github.io/schema/vega-lite/v4.8.1.json\", \"datasets\": {\"data-e659dc0e0d124613fc1cc16b3426c485\": [{\"collector_full_name\": \"E. Dias\", \"type_status\": \"Par\\u00e1tipo\", \"ano_coleta\": 1998.0, \"counts\": 37}, {\"collector_full_name\": \"P. Teixeira-filho\", \"type_status\": \"Par\\u00e1tipo\", \"ano_coleta\": 1991.0, \"counts\": 33}, {\"collector_full_name\": \"E. Dias\", \"type_status\": \"Par\\u00e1tipo\", \"ano_coleta\": 2000.0, \"counts\": 33}, {\"collector_full_name\": \"D. Vrcibradic\", \"type_status\": \"Par\\u00e1tipo\", \"ano_coleta\": 1991.0, \"counts\": 26}, {\"collector_full_name\": \"C. Rocha\", \"type_status\": \"Par\\u00e1tipo\", \"ano_coleta\": 1991.0, \"counts\": 17}, {\"collector_full_name\": \"L. Fonseca\", \"type_status\": \"Par\\u00e1tipo\", \"ano_coleta\": 1989.0, \"counts\": 10}, {\"collector_full_name\": \"E. Freire\", \"type_status\": \"Par\\u00e1tipo\", \"ano_coleta\": 1985.0, \"counts\": 9}, {\"collector_full_name\": \"J. Carmo\", \"type_status\": \"Par\\u00e1tipo\", \"ano_coleta\": 2012.0, \"counts\": 9}, {\"collector_full_name\": \"E. Dias\", \"type_status\": \"Par\\u00e1tipo\", \"ano_coleta\": 1997.0, \"counts\": 9}, {\"collector_full_name\": \"A. Mendon\\u00e7a\", \"type_status\": \"Par\\u00e1tipo\", \"ano_coleta\": 2008.0, \"counts\": 7}, {\"collector_full_name\": \"V. Pancieri\", \"type_status\": \"Par\\u00e1tipo\", \"ano_coleta\": 2008.0, \"counts\": 6}, {\"collector_full_name\": \"C. Rocha\", \"type_status\": \"Par\\u00e1tipo\", \"ano_coleta\": 1995.0, \"counts\": 6}, {\"collector_full_name\": \"C. Rocha\", \"type_status\": \"Par\\u00e1tipo\", \"ano_coleta\": 1993.0, \"counts\": 6}, {\"collector_full_name\": \"P. Sampaio\", \"type_status\": \"Par\\u00e1tipo\", \"ano_coleta\": 2015.0, \"counts\": 5}, {\"collector_full_name\": \"M. Ara\\u00fajo\", \"type_status\": \"Par\\u00e1tipo\", \"ano_coleta\": 1994.0, \"counts\": 5}, {\"collector_full_name\": \"D. Vrcibradic\", \"type_status\": \"Par\\u00e1tipo\", \"ano_coleta\": 1993.0, \"counts\": 5}, {\"collector_full_name\": \"A. Bocchiglieri\", \"type_status\": \"Par\\u00e1tipo\", \"ano_coleta\": 2008.0, \"counts\": 4}, {\"collector_full_name\": \"L. Martins\", \"type_status\": \"Par\\u00e1tipo\", \"ano_coleta\": 1991.0, \"counts\": 4}, {\"collector_full_name\": \"A. Giaretta\", \"type_status\": \"Par\\u00e1tipo\", \"ano_coleta\": 1993.0, \"counts\": 4}, {\"collector_full_name\": \"M. Porto\", \"type_status\": \"Par\\u00e1tipo\", \"ano_coleta\": 1990.0, \"counts\": 4}, {\"collector_full_name\": \"A. Silveira\", \"type_status\": \"Par\\u00e1tipo\", \"ano_coleta\": 2007.0, \"counts\": 3}, {\"collector_full_name\": \"E. Pereira\", \"type_status\": \"Par\\u00e1tipo\", \"ano_coleta\": 2007.0, \"counts\": 3}, {\"collector_full_name\": \"E. Pereira\", \"type_status\": \"Par\\u00e1tipo\", \"ano_coleta\": 2006.0, \"counts\": 3}, {\"collector_full_name\": \"P. Teixeira-filho\", \"type_status\": \"Par\\u00e1tipo\", \"ano_coleta\": 1989.0, \"counts\": 3}, {\"collector_full_name\": \"N. Zanella\", \"type_status\": \"2005\", \"ano_coleta\": 2001.0, \"counts\": 3}, {\"collector_full_name\": \"P. Teixeira-filho\", \"type_status\": \"Par\\u00e1tipo\", \"ano_coleta\": 1990.0, \"counts\": 3}, {\"collector_full_name\": \"P. Teixeira-filho\", \"type_status\": \"Par\\u00e1tipo\", \"ano_coleta\": 1992.0, \"counts\": 3}, {\"collector_full_name\": \"F. Pimenta\", \"type_status\": \"Par\\u00e1tipo\", \"ano_coleta\": 2009.0, \"counts\": 2}, {\"collector_full_name\": \"F. Barbosa\", \"type_status\": \"Par\\u00e1tipo\", \"ano_coleta\": 2011.0, \"counts\": 2}, {\"collector_full_name\": \"G. Colli\", \"type_status\": \"Par\\u00e1tipo\", \"ano_coleta\": 1998.0, \"counts\": 2}, {\"collector_full_name\": \"F. Souza\", \"type_status\": \"Par\\u00e1tipo\", \"ano_coleta\": 1988.0, \"counts\": 2}, {\"collector_full_name\": \"D. Vrcibradic\", \"type_status\": \"Par\\u00e1tipo\", \"ano_coleta\": 1992.0, \"counts\": 2}, {\"collector_full_name\": \"R. Silveira\", \"type_status\": \"Par\\u00e1tipo\", \"ano_coleta\": 1989.0, \"counts\": 2}, {\"collector_full_name\": \"A. Martins\", \"type_status\": \"Par\\u00e1tipo\", \"ano_coleta\": 2009.0, \"counts\": 2}, {\"collector_full_name\": \"A. Martins\", \"type_status\": \"Par\\u00e1tipo\", \"ano_coleta\": 2008.0, \"counts\": 2}, {\"collector_full_name\": \"C. Rocha\", \"type_status\": \"Hol\\u00f3tipo\", \"ano_coleta\": 1995.0, \"counts\": 2}, {\"collector_full_name\": \"S. Balbino\", \"type_status\": \"Par\\u00e1tipo\", \"ano_coleta\": 2002.0, \"counts\": 2}, {\"collector_full_name\": \"R. Fialito\", \"type_status\": \"Par\\u00e1tipo\", \"ano_coleta\": 1989.0, \"counts\": 2}, {\"collector_full_name\": \"W. Vaz\", \"type_status\": \"Par\\u00e1tipo\", \"ano_coleta\": 2013.0, \"counts\": 2}, {\"collector_full_name\": \"A. Bocchiglieri\", \"type_status\": \"Par\\u00e1tipo\", \"ano_coleta\": 2009.0, \"counts\": 2}, {\"collector_full_name\": \"W. Ver\\u00edssimo\", \"type_status\": \"Par\\u00e1tipo\", \"ano_coleta\": 1991.0, \"counts\": 2}, {\"collector_full_name\": \"R. Feio\", \"type_status\": \"Par\\u00e1tipo\", \"ano_coleta\": 1986.0, \"counts\": 2}, {\"collector_full_name\": \"B. Lutz\", \"type_status\": \"S\\u00edntipo\", \"ano_coleta\": 1941.0, \"counts\": 2}, {\"collector_full_name\": \"S. Silva\", \"type_status\": \"Hol\\u00f3tipo\", \"ano_coleta\": 1995.0, \"counts\": 1}, {\"collector_full_name\": \"M. Porto\", \"type_status\": \"Par\\u00e1tipo\", \"ano_coleta\": 1987.0, \"counts\": 1}, {\"collector_full_name\": \"M. Rodrigues\", \"type_status\": \"Par\\u00e1tipo\", \"ano_coleta\": 2013.0, \"counts\": 1}, {\"collector_full_name\": \"T. Pires\", \"type_status\": \"Par\\u00e1tipo\", \"ano_coleta\": 2008.0, \"counts\": 1}, {\"collector_full_name\": \"M. Rocha\", \"type_status\": \"Par\\u00e1tipo\", \"ano_coleta\": 2002.0, \"counts\": 1}, {\"collector_full_name\": \"M. Carlo\", \"type_status\": \"Hol\\u00f3tipo\", \"ano_coleta\": 2006.0, \"counts\": 1}, {\"collector_full_name\": \"W. Ver\\u00edssimo\", \"type_status\": \"Par\\u00e1tipo\", \"ano_coleta\": 1992.0, \"counts\": 1}, {\"collector_full_name\": \"M. Locks\", \"type_status\": \"Hol\\u00f3tipo\", \"ano_coleta\": 1991.0, \"counts\": 1}, {\"collector_full_name\": \"V. Gon\\u00e7alves\", \"type_status\": \"Hol\\u00f3tipo\", \"ano_coleta\": 2006.0, \"counts\": 1}, {\"collector_full_name\": \"V. Pancieri\", \"type_status\": \"Par\\u00e1tipo\", \"ano_coleta\": 2009.0, \"counts\": 1}, {\"collector_full_name\": \"R. Otoch\", \"type_status\": \"Par\\u00e1tipo\", \"ano_coleta\": 1994.0, \"counts\": 1}, {\"collector_full_name\": \"P. Filho\", \"type_status\": \"Par\\u00e1tipo\", \"ano_coleta\": 1989.0, \"counts\": 1}, {\"collector_full_name\": \"R. Castro\", \"type_status\": \"Par\\u00e1tipo\", \"ano_coleta\": 2008.0, \"counts\": 1}, {\"collector_full_name\": \"R. B\\u00e9rnils\", \"type_status\": \"Hol\\u00f3tipo\", \"ano_coleta\": 2008.0, \"counts\": 1}, {\"collector_full_name\": \"R. Carvalho\", \"type_status\": \"Hol\\u00f3tipo\", \"ano_coleta\": 2003.0, \"counts\": 1}, {\"collector_full_name\": \"P. San-martin\", \"type_status\": \"Par\\u00e1tipo\", \"ano_coleta\": 1956.0, \"counts\": 1}, {\"collector_full_name\": \"P. Pombal-jr.\", \"type_status\": \"Par\\u00e1tipo\", \"ano_coleta\": 1981.0, \"counts\": 1}, {\"collector_full_name\": \"R. Fialho\", \"type_status\": \"Par\\u00e1tipo\", \"ano_coleta\": 1989.0, \"counts\": 1}, {\"collector_full_name\": \"O. Carvajal\", \"type_status\": \"Par\\u00e1tipo\", \"ano_coleta\": 2009.0, \"counts\": 1}, {\"collector_full_name\": \"R. Schasse\", \"type_status\": \"Par\\u00e1tipo\", \"ano_coleta\": 1989.0, \"counts\": 1}, {\"collector_full_name\": \"R. Silveira\", \"type_status\": \"Par\\u00e1tipo\", \"ano_coleta\": 1990.0, \"counts\": 1}, {\"collector_full_name\": \"N. Zanella\", \"type_status\": \"2005\", \"ano_coleta\": 2002.0, \"counts\": 1}, {\"collector_full_name\": \"N. Zanella\", \"type_status\": \"2005\", \"ano_coleta\": 1994.0, \"counts\": 1}, {\"collector_full_name\": \"C. Siqueira\", \"type_status\": \"Hol\\u00f3tipo\", \"ano_coleta\": 2005.0, \"counts\": 1}, {\"collector_full_name\": \"C. Rocha\", \"type_status\": \"Hol\\u00f3tipo\", \"ano_coleta\": 1997.0, \"counts\": 1}, {\"collector_full_name\": \"C. Rocha\", \"type_status\": \"Par\\u00e1tipo\", \"ano_coleta\": 1989.0, \"counts\": 1}, {\"collector_full_name\": \"D. Borges-nojosa\", \"type_status\": \"Par\\u00e1tipo\", \"ano_coleta\": 2014.0, \"counts\": 1}, {\"collector_full_name\": \"E. Dias\", \"type_status\": \"Hol\\u00f3tipo\", \"ano_coleta\": 2000.0, \"counts\": 1}, {\"collector_full_name\": \"E. Freire\", \"type_status\": \"Hol\\u00f3tipo\", \"ano_coleta\": 1998.0, \"counts\": 1}, {\"collector_full_name\": \"E. Freire\", \"type_status\": \"Par\\u00e1tipo\", \"ano_coleta\": 1984.0, \"counts\": 1}, {\"collector_full_name\": \"E. Freire\", \"type_status\": \"Par\\u00e1tipo\", \"ano_coleta\": 1994.0, \"counts\": 1}, {\"collector_full_name\": \"E. Freire\", \"type_status\": \"Par\\u00e1tipo\", \"ano_coleta\": 1995.0, \"counts\": 1}, {\"collector_full_name\": \"E. Carellos-filho\", \"type_status\": \"Par\\u00e1tipo\", \"ano_coleta\": 1990.0, \"counts\": 1}, {\"collector_full_name\": \"E. Freire\", \"type_status\": \"Par\\u00e1tipo\", \"ano_coleta\": 2001.0, \"counts\": 1}, {\"collector_full_name\": \"D. Nojosa\", \"type_status\": \"Hol\\u00f3tipo\", \"ano_coleta\": 1998.0, \"counts\": 1}, {\"collector_full_name\": \"D. Nojosa\", \"type_status\": \"Par\\u00e1tipo\", \"ano_coleta\": 1998.0, \"counts\": 1}, {\"collector_full_name\": \"D. Nojosa\", \"type_status\": \"Par\\u00e1tipo\", \"ano_coleta\": 1999.0, \"counts\": 1}, {\"collector_full_name\": \"A. Giupponi\", \"type_status\": \"Par\\u00e1tipo\", \"ano_coleta\": 2005.0, \"counts\": 1}, {\"collector_full_name\": \"A. Lopes\", \"type_status\": \"Hol\\u00f3tipo\", \"ano_coleta\": 2008.0, \"counts\": 1}, {\"collector_full_name\": \"A. Martins\", \"type_status\": \"Par\\u00e1tipo\", \"ano_coleta\": 2004.0, \"counts\": 1}, {\"collector_full_name\": \"A. Bocchiglieri\", \"type_status\": \"Hol\\u00f3tipo\", \"ano_coleta\": 2008.0, \"counts\": 1}, {\"collector_full_name\": \"A. Bochiglieri\", \"type_status\": \"Hol\\u00f3tipo\", \"ano_coleta\": 2009.0, \"counts\": 1}, {\"collector_full_name\": \"A. Bochiglieri\", \"type_status\": \"Par\\u00e1tipo\", \"ano_coleta\": 2008.0, \"counts\": 1}, {\"collector_full_name\": \"A. Abreu\", \"type_status\": \"Par\\u00e1tipo\", \"ano_coleta\": 2009.0, \"counts\": 1}, {\"collector_full_name\": \"A. Almeida\", \"type_status\": \"Hol\\u00f3tipo\", \"ano_coleta\": 2009.0, \"counts\": 1}, {\"collector_full_name\": \"A. Chagas\", \"type_status\": \"Par\\u00e1tipo\", \"ano_coleta\": 2007.0, \"counts\": 1}, {\"collector_full_name\": \"A. Martins\", \"type_status\": \"Hol\\u00f3tipo\", \"ano_coleta\": 2008.0, \"counts\": 1}, {\"collector_full_name\": \"B. Lutz\", \"type_status\": \"Lect\\u00f3tipo\", \"ano_coleta\": 1937.0, \"counts\": 1}, {\"collector_full_name\": \"A. Mendon\\u00e7a\", \"type_status\": \"Hol\\u00f3tipo\", \"ano_coleta\": 2008.0, \"counts\": 1}, {\"collector_full_name\": \"A. Mendon\\u00e7a\", \"type_status\": \"Par\\u00e1tipo\", \"ano_coleta\": 2009.0, \"counts\": 1}, {\"collector_full_name\": \"A. Silveira\", \"type_status\": \"Hol\\u00f3tipo\", \"ano_coleta\": 2007.0, \"counts\": 1}, {\"collector_full_name\": \"A. Silveira\", \"type_status\": \"Par\\u00e1tipo\", \"ano_coleta\": 2008.0, \"counts\": 1}, {\"collector_full_name\": \"J. Costa\", \"type_status\": \"Par\\u00e1tipo\", \"ano_coleta\": 2008.0, \"counts\": 1}, {\"collector_full_name\": \"J. Luiz\", \"type_status\": \"Par\\u00e1tipo\", \"ano_coleta\": 1993.0, \"counts\": 1}, {\"collector_full_name\": \"L. Nascimento\", \"type_status\": \"Par\\u00e1tipo\", \"ano_coleta\": 2004.0, \"counts\": 1}, {\"collector_full_name\": \"L. Verde\", \"type_status\": \"Par\\u00e1tipo\", \"ano_coleta\": 1989.0, \"counts\": 1}, {\"collector_full_name\": \"L. Lobato\", \"type_status\": \"Par\\u00e1tipo\", \"ano_coleta\": 1987.0, \"counts\": 1}, {\"collector_full_name\": \"L. Lima\", \"type_status\": \"Par\\u00e1tipo\", \"ano_coleta\": 2009.0, \"counts\": 1}, {\"collector_full_name\": \"L. Fonseca\", \"type_status\": \"Par\\u00e1tipo\", \"ano_coleta\": 1990.0, \"counts\": 1}, {\"collector_full_name\": \"L. Fonseca\", \"type_status\": \"Par\\u00e1tipo\", \"ano_coleta\": 1991.0, \"counts\": 1}, {\"collector_full_name\": \"F. Oliveira\", \"type_status\": \"Hol\\u00f3tipo\", \"ano_coleta\": 1964.0, \"counts\": 1}, {\"collector_full_name\": \"G. Kisteumacher\", \"type_status\": \"Hol\\u00f3tipo\", \"ano_coleta\": 1985.0, \"counts\": 1}, {\"collector_full_name\": \"E. Pereira\", \"type_status\": \"Hol\\u00f3tipo\", \"ano_coleta\": 2006.0, \"counts\": 1}, {\"collector_full_name\": \"E. Pereira\", \"type_status\": \"Hol\\u00f3tipo\", \"ano_coleta\": 2007.0, \"counts\": 1}, {\"collector_full_name\": \"H. Zalvar\", \"type_status\": \"Par\\u00e1tipo\", \"ano_coleta\": 1992.0, \"counts\": 1}, {\"collector_full_name\": \"J. Carmo\", \"type_status\": \"Hol\\u00f3tipo\", \"ano_coleta\": 2012.0, \"counts\": 1}, {\"collector_full_name\": \"H. Sick\", \"type_status\": \"Hol\\u00f3tipo\", \"ano_coleta\": 1957.0, \"counts\": 1}, {\"collector_full_name\": \"H. Klappenbach\", \"type_status\": \"Par\\u00e1tipo\", \"ano_coleta\": 1956.0, \"counts\": 1}]}}, {\"mode\": \"vega-lite\"});\n",
       "</script>"
      ],
      "text/plain": [
       "alt.Chart(...)"
      ]
     },
     "execution_count": 91,
     "metadata": {},
     "output_type": "execute_result"
    }
   ],
   "source": [
    "g1 = alt.Chart(counts[counts['type_status'] != 'nan'], title='Tipos por Coletor', \n",
    "               height=700, width=400).mark_circle().encode(\n",
    "    x = alt.X('ano_coleta:O', title='Ano de Determinação'),\n",
    "    y = alt.Y('collector_full_name:N', title='', \n",
    "             sort= alt.EncodingSortField(field= 'counts', op='sum', order='descending')),\n",
    "    color = alt.Color('type_status:N', title='Tipo', \n",
    "                     scale = alt.Scale(domain=list(type_color.keys()), range= list(type_color.values()))), \n",
    "    size = alt.Size('counts:Q'), \n",
    "    tooltip = alt.Tooltip(['collector_full_name', 'type_status', 'ano_coleta', 'counts'])\n",
    ")\n",
    "\n",
    "# saving graph\n",
    "# g1.save('./graphs/tipo/tipos_por_coletor.html')\n",
    "\n",
    "g1"
   ]
  },
  {
   "cell_type": "code",
   "execution_count": 95,
   "metadata": {},
   "outputs": [
    {
     "data": {
      "text/html": [
       "\n",
       "<div id=\"altair-viz-88887f529c184dc09d2e36a47278a47e\"></div>\n",
       "<script type=\"text/javascript\">\n",
       "  (function(spec, embedOpt){\n",
       "    let outputDiv = document.currentScript.previousElementSibling;\n",
       "    if (outputDiv.id !== \"altair-viz-88887f529c184dc09d2e36a47278a47e\") {\n",
       "      outputDiv = document.getElementById(\"altair-viz-88887f529c184dc09d2e36a47278a47e\");\n",
       "    }\n",
       "    const paths = {\n",
       "      \"vega\": \"https://cdn.jsdelivr.net/npm//vega@5?noext\",\n",
       "      \"vega-lib\": \"https://cdn.jsdelivr.net/npm//vega-lib?noext\",\n",
       "      \"vega-lite\": \"https://cdn.jsdelivr.net/npm//vega-lite@4.8.1?noext\",\n",
       "      \"vega-embed\": \"https://cdn.jsdelivr.net/npm//vega-embed@6?noext\",\n",
       "    };\n",
       "\n",
       "    function loadScript(lib) {\n",
       "      return new Promise(function(resolve, reject) {\n",
       "        var s = document.createElement('script');\n",
       "        s.src = paths[lib];\n",
       "        s.async = true;\n",
       "        s.onload = () => resolve(paths[lib]);\n",
       "        s.onerror = () => reject(`Error loading script: ${paths[lib]}`);\n",
       "        document.getElementsByTagName(\"head\")[0].appendChild(s);\n",
       "      });\n",
       "    }\n",
       "\n",
       "    function showError(err) {\n",
       "      outputDiv.innerHTML = `<div class=\"error\" style=\"color:red;\">${err}</div>`;\n",
       "      throw err;\n",
       "    }\n",
       "\n",
       "    function displayChart(vegaEmbed) {\n",
       "      vegaEmbed(outputDiv, spec, embedOpt)\n",
       "        .catch(err => showError(`Javascript Error: ${err.message}<br>This usually means there's a typo in your chart specification. See the javascript console for the full traceback.`));\n",
       "    }\n",
       "\n",
       "    if(typeof define === \"function\" && define.amd) {\n",
       "      requirejs.config({paths});\n",
       "      require([\"vega-embed\"], displayChart, err => showError(`Error loading script: ${err.message}`));\n",
       "    } else if (typeof vegaEmbed === \"function\") {\n",
       "      displayChart(vegaEmbed);\n",
       "    } else {\n",
       "      loadScript(\"vega\")\n",
       "        .then(() => loadScript(\"vega-lite\"))\n",
       "        .then(() => loadScript(\"vega-embed\"))\n",
       "        .catch(showError)\n",
       "        .then(() => displayChart(vegaEmbed));\n",
       "    }\n",
       "  })({\"config\": {\"view\": {\"continuousWidth\": 400, \"continuousHeight\": 300}}, \"data\": {\"name\": \"data-b0c7e746303bcb54449e27f09343bf29\"}, \"mark\": {\"type\": \"circle\", \"color\": \"#000000\"}, \"encoding\": {\"size\": {\"type\": \"quantitative\", \"field\": \"counts\"}, \"tooltip\": [{\"type\": \"nominal\", \"field\": \"collector_full_name\"}, {\"type\": \"nominal\", \"field\": \"type_status\"}, {\"type\": \"quantitative\", \"field\": \"ano_coleta\"}, {\"type\": \"quantitative\", \"field\": \"counts\"}], \"x\": {\"type\": \"ordinal\", \"field\": \"ano_coleta\", \"title\": \"Ano de Determina\\u00e7\\u00e3o\"}, \"y\": {\"type\": \"nominal\", \"field\": \"collector_full_name\", \"sort\": {\"field\": \"counts\", \"op\": \"sum\", \"order\": \"descending\"}, \"title\": \"\"}}, \"height\": 700, \"title\": \"N\\u00e3o-tipos por Coletor\", \"width\": 400, \"$schema\": \"https://vega.github.io/schema/vega-lite/v4.8.1.json\", \"datasets\": {\"data-b0c7e746303bcb54449e27f09343bf29\": [{\"collector_full_name\": \"G. Levy\", \"type_status\": \"nan\", \"ano_coleta\": 2015.0, \"counts\": 293}, {\"collector_full_name\": \"A. Carvalho\", \"type_status\": \"nan\", \"ano_coleta\": 1945.0, \"counts\": 273}, {\"collector_full_name\": \"A. Silveira\", \"type_status\": \"nan\", \"ano_coleta\": 2007.0, \"counts\": 232}, {\"collector_full_name\": \"D. Vrcibradic\", \"type_status\": \"nan\", \"ano_coleta\": 1994.0, \"counts\": 227}, {\"collector_full_name\": \"A. Silveira\", \"type_status\": \"nan\", \"ano_coleta\": 2008.0, \"counts\": 209}, {\"collector_full_name\": \"A. Carvalho\", \"type_status\": \"nan\", \"ano_coleta\": 1939.0, \"counts\": 197}, {\"collector_full_name\": \"S. Braz\", \"type_status\": \"nan\", \"ano_coleta\": 2002.0, \"counts\": 174}, {\"collector_full_name\": \"M. Guedes\", \"type_status\": \"nan\", \"ano_coleta\": 1988.0, \"counts\": 173}, {\"collector_full_name\": \"A. Bochiglieri\", \"type_status\": \"nan\", \"ano_coleta\": 2008.0, \"counts\": 161}, {\"collector_full_name\": \"U. Caramaschi\", \"type_status\": \"nan\", \"ano_coleta\": 1995.0, \"counts\": 134}, {\"collector_full_name\": \"R. Salles\", \"type_status\": \"nan\", \"ano_coleta\": 2013.0, \"counts\": 131}, {\"collector_full_name\": \"A. Silveira\", \"type_status\": \"nan\", \"ano_coleta\": 2010.0, \"counts\": 120}, {\"collector_full_name\": \"A. Fontes\", \"type_status\": \"nan\", \"ano_coleta\": 2002.0, \"counts\": 118}, {\"collector_full_name\": \"M. Kieffer\", \"type_status\": \"nan\", \"ano_coleta\": 1997.0, \"counts\": 117}, {\"collector_full_name\": \"G. Kisteumacher\", \"type_status\": \"nan\", \"ano_coleta\": 1986.0, \"counts\": 117}, {\"collector_full_name\": \"M. Sluys\", \"type_status\": \"nan\", \"ano_coleta\": 2000.0, \"counts\": 116}, {\"collector_full_name\": \"S. Braz\", \"type_status\": \"nan\", \"ano_coleta\": 2001.0, \"counts\": 110}, {\"collector_full_name\": \"U. Caramaschi\", \"type_status\": \"nan\", \"ano_coleta\": 1998.0, \"counts\": 109}, {\"collector_full_name\": \"A. Fontes\", \"type_status\": \"nan\", \"ano_coleta\": 2005.0, \"counts\": 109}, {\"collector_full_name\": \"A. Silveira\", \"type_status\": \"nan\", \"ano_coleta\": 2006.0, \"counts\": 106}, {\"collector_full_name\": \"J. Miranda\", \"type_status\": \"nan\", \"ano_coleta\": 1999.0, \"counts\": 101}, {\"collector_full_name\": \"U. Caramaschi\", \"type_status\": \"nan\", \"ano_coleta\": 1997.0, \"counts\": 96}, {\"collector_full_name\": \"M. Vansluys\", \"type_status\": \"nan\", \"ano_coleta\": 1988.0, \"counts\": 94}, {\"collector_full_name\": \"D. Vrcibradic\", \"type_status\": \"nan\", \"ano_coleta\": 1999.0, \"counts\": 91}, {\"collector_full_name\": \"T. Soares\", \"type_status\": \"nan\", \"ano_coleta\": 2010.0, \"counts\": 90}, {\"collector_full_name\": \"D. Vrcibradic\", \"type_status\": \"nan\", \"ano_coleta\": 1998.0, \"counts\": 90}, {\"collector_full_name\": \"G. Dutra\", \"type_status\": \"nan\", \"ano_coleta\": 1997.0, \"counts\": 90}, {\"collector_full_name\": \"G. Kisteumacher\", \"type_status\": \"nan\", \"ano_coleta\": 1987.0, \"counts\": 88}, {\"collector_full_name\": \"C. Rocha\", \"type_status\": \"nan\", \"ano_coleta\": 1987.0, \"counts\": 86}, {\"collector_full_name\": \"C. Dias\", \"type_status\": \"nan\", \"ano_coleta\": 2011.0, \"counts\": 85}, {\"collector_full_name\": \"A. Silveira\", \"type_status\": \"nan\", \"ano_coleta\": 2009.0, \"counts\": 82}, {\"collector_full_name\": \"C. Rocha\", \"type_status\": \"nan\", \"ano_coleta\": 1999.0, \"counts\": 78}, {\"collector_full_name\": \"C. Bueno\", \"type_status\": \"nan\", \"ano_coleta\": 2014.0, \"counts\": 76}, {\"collector_full_name\": \"M. Porto\", \"type_status\": \"nan\", \"ano_coleta\": 1990.0, \"counts\": 75}, {\"collector_full_name\": \"E. Pereira\", \"type_status\": \"nan\", \"ano_coleta\": 2009.0, \"counts\": 66}, {\"collector_full_name\": \"D. Fernandes\", \"type_status\": \"nan\", \"ano_coleta\": 2010.0, \"counts\": 66}, {\"collector_full_name\": \"A. Fontes\", \"type_status\": \"nan\", \"ano_coleta\": 2003.0, \"counts\": 63}, {\"collector_full_name\": \"D. Fernandes\", \"type_status\": \"nan\", \"ano_coleta\": 2015.0, \"counts\": 62}, {\"collector_full_name\": \"T. Soares\", \"type_status\": \"nan\", \"ano_coleta\": 2013.0, \"counts\": 60}, {\"collector_full_name\": \"A. Parko\", \"type_status\": \"nan\", \"ano_coleta\": 1942.0, \"counts\": 59}, {\"collector_full_name\": \"C. Bueno\", \"type_status\": \"nan\", \"ano_coleta\": 2015.0, \"counts\": 57}, {\"collector_full_name\": \"M. Kieffer\", \"type_status\": \"nan\", \"ano_coleta\": 1996.0, \"counts\": 55}, {\"collector_full_name\": \"W. Silva\", \"type_status\": \"nan\", \"ano_coleta\": 2006.0, \"counts\": 54}, {\"collector_full_name\": \"M. Ara\\u00fajo\", \"type_status\": \"nan\", \"ano_coleta\": 1994.0, \"counts\": 53}, {\"collector_full_name\": \"E. Pereira\", \"type_status\": \"nan\", \"ano_coleta\": 2006.0, \"counts\": 53}, {\"collector_full_name\": \"S. Olsen\", \"type_status\": \"nan\", \"ano_coleta\": 1976.0, \"counts\": 53}, {\"collector_full_name\": \"C. Rocha\", \"type_status\": \"nan\", \"ano_coleta\": 2005.0, \"counts\": 52}, {\"collector_full_name\": \"A. Almeida\", \"type_status\": \"nan\", \"ano_coleta\": 2008.0, \"counts\": 51}, {\"collector_full_name\": \"C. Rocha\", \"type_status\": \"nan\", \"ano_coleta\": 1991.0, \"counts\": 51}, {\"collector_full_name\": \"L. Machado\", \"type_status\": \"nan\", \"ano_coleta\": 2010.0, \"counts\": 51}, {\"collector_full_name\": \"M. Cardoso\", \"type_status\": \"nan\", \"ano_coleta\": 2014.0, \"counts\": 51}, {\"collector_full_name\": \"S. Thiago\", \"type_status\": \"nan\", \"ano_coleta\": 2012.0, \"counts\": 50}, {\"collector_full_name\": \"U. Caramaschi\", \"type_status\": \"nan\", \"ano_coleta\": 2006.0, \"counts\": 49}, {\"collector_full_name\": \"C. Galdino\", \"type_status\": \"nan\", \"ano_coleta\": 1999.0, \"counts\": 47}, {\"collector_full_name\": \"M. Valle\", \"type_status\": \"nan\", \"ano_coleta\": 1944.0, \"counts\": 47}, {\"collector_full_name\": \"E. Pereira\", \"type_status\": \"nan\", \"ano_coleta\": 2007.0, \"counts\": 46}, {\"collector_full_name\": \"R. Ribeiro\", \"type_status\": \"nan\", \"ano_coleta\": 2009.0, \"counts\": 46}, {\"collector_full_name\": \"P. Sampaio\", \"type_status\": \"nan\", \"ano_coleta\": 2015.0, \"counts\": 45}, {\"collector_full_name\": \"H. Sick\", \"type_status\": \"nan\", \"ano_coleta\": 1947.0, \"counts\": 45}, {\"collector_full_name\": \"R. Pontes\", \"type_status\": \"nan\", \"ano_coleta\": 2009.0, \"counts\": 44}, {\"collector_full_name\": \"P. Fatorelli\", \"type_status\": \"nan\", \"ano_coleta\": 2008.0, \"counts\": 44}, {\"collector_full_name\": \"C. Gans\", \"type_status\": \"nan\", \"ano_coleta\": 1969.0, \"counts\": 44}, {\"collector_full_name\": \"D. Fernandes\", \"type_status\": \"nan\", \"ano_coleta\": 2011.0, \"counts\": 44}, {\"collector_full_name\": \"D. Maciel\", \"type_status\": \"nan\", \"ano_coleta\": 2014.0, \"counts\": 43}, {\"collector_full_name\": \"I. Caramaschi\", \"type_status\": \"nan\", \"ano_coleta\": 1998.0, \"counts\": 42}, {\"collector_full_name\": \"B. Pimenta\", \"type_status\": \"nan\", \"ano_coleta\": 2006.0, \"counts\": 42}, {\"collector_full_name\": \"D. Fernandes\", \"type_status\": \"nan\", \"ano_coleta\": 2014.0, \"counts\": 42}, {\"collector_full_name\": \"U. Caramaschi\", \"type_status\": \"nan\", \"ano_coleta\": 2005.0, \"counts\": 41}, {\"collector_full_name\": \"N. Lemos\", \"type_status\": \"nan\", \"ano_coleta\": 2014.0, \"counts\": 41}, {\"collector_full_name\": \"D. Vrcibradic\", \"type_status\": \"nan\", \"ano_coleta\": 1997.0, \"counts\": 41}, {\"collector_full_name\": \"T. Soares\", \"type_status\": \"nan\", \"ano_coleta\": 2012.0, \"counts\": 41}, {\"collector_full_name\": \"E. Dias\", \"type_status\": \"nan\", \"ano_coleta\": 2000.0, \"counts\": 40}, {\"collector_full_name\": \"D. Vrcibradic\", \"type_status\": \"nan\", \"ano_coleta\": 2000.0, \"counts\": 37}, {\"collector_full_name\": \"A. Martins\", \"type_status\": \"nan\", \"ano_coleta\": 2009.0, \"counts\": 37}, {\"collector_full_name\": \"H. Sick\", \"type_status\": \"nan\", \"ano_coleta\": 1952.0, \"counts\": 37}, {\"collector_full_name\": \"M. Gomes\", \"type_status\": \"nan\", \"ano_coleta\": 2007.0, \"counts\": 37}, {\"collector_full_name\": \"C. Rocha\", \"type_status\": \"nan\", \"ano_coleta\": 1988.0, \"counts\": 37}, {\"collector_full_name\": \"A. Lima\", \"type_status\": \"nan\", \"ano_coleta\": 2009.0, \"counts\": 37}, {\"collector_full_name\": \"R. B\\u00e9rnils\", \"type_status\": \"nan\", \"ano_coleta\": 2011.0, \"counts\": 37}, {\"collector_full_name\": \"A. Silveira\", \"type_status\": \"nan\", \"ano_coleta\": 1996.0, \"counts\": 37}, {\"collector_full_name\": \"M. Vansluys\", \"type_status\": \"nan\", \"ano_coleta\": 1989.0, \"counts\": 36}, {\"collector_full_name\": \"A. Carvalho\", \"type_status\": \"nan\", \"ano_coleta\": 1940.0, \"counts\": 36}, {\"collector_full_name\": \"L. Weber\", \"type_status\": \"nan\", \"ano_coleta\": 2007.0, \"counts\": 36}, {\"collector_full_name\": \"L. Weber\", \"type_status\": \"nan\", \"ano_coleta\": 2008.0, \"counts\": 35}, {\"collector_full_name\": \"R. Fernandes\", \"type_status\": \"nan\", \"ano_coleta\": 2004.0, \"counts\": 35}, {\"collector_full_name\": \"M. Porto\", \"type_status\": \"nan\", \"ano_coleta\": 1986.0, \"counts\": 34}, {\"collector_full_name\": \"R. B\\u00e9rnils\", \"type_status\": \"nan\", \"ano_coleta\": 2012.0, \"counts\": 34}, {\"collector_full_name\": \"J. Pombal\", \"type_status\": \"nan\", \"ano_coleta\": 1998.0, \"counts\": 34}, {\"collector_full_name\": \"R. Fialho\", \"type_status\": \"nan\", \"ano_coleta\": 1986.0, \"counts\": 33}, {\"collector_full_name\": \"P. Fatorelli\", \"type_status\": \"nan\", \"ano_coleta\": 2007.0, \"counts\": 33}, {\"collector_full_name\": \"T. Barros\", \"type_status\": \"nan\", \"ano_coleta\": 2007.0, \"counts\": 32}, {\"collector_full_name\": \"M. Wachlevski\", \"type_status\": \"nan\", \"ano_coleta\": 2009.0, \"counts\": 32}, {\"collector_full_name\": \"A. Silveira\", \"type_status\": \"nan\", \"ano_coleta\": 2005.0, \"counts\": 32}, {\"collector_full_name\": \"A. Silveira\", \"type_status\": \"nan\", \"ano_coleta\": 2004.0, \"counts\": 32}, {\"collector_full_name\": \"M. Wachlevski\", \"type_status\": \"nan\", \"ano_coleta\": 2008.0, \"counts\": 31}, {\"collector_full_name\": \"F. Bottona\", \"type_status\": \"nan\", \"ano_coleta\": 2012.0, \"counts\": 31}, {\"collector_full_name\": \"D. Vrcibradic\", \"type_status\": \"nan\", \"ano_coleta\": 1993.0, \"counts\": 31}, {\"collector_full_name\": \"R. Reis\", \"type_status\": \"nan\", \"ano_coleta\": 2012.0, \"counts\": 31}, {\"collector_full_name\": \"A. Almeida\", \"type_status\": \"nan\", \"ano_coleta\": 2011.0, \"counts\": 31}, {\"collector_full_name\": \"J. Pontes\", \"type_status\": \"nan\", \"ano_coleta\": 2003.0, \"counts\": 30}, {\"collector_full_name\": \"A. Almeida\", \"type_status\": \"nan\", \"ano_coleta\": 2009.0, \"counts\": 30}, {\"collector_full_name\": \"L. Fusinatto\", \"type_status\": \"nan\", \"ano_coleta\": 2007.0, \"counts\": 30}, {\"collector_full_name\": \"U. Caramaschi\", \"type_status\": \"nan\", \"ano_coleta\": 2007.0, \"counts\": 30}, {\"collector_full_name\": \"M. Gomes\", \"type_status\": \"nan\", \"ano_coleta\": 2009.0, \"counts\": 29}, {\"collector_full_name\": \"R. Salles\", \"type_status\": \"nan\", \"ano_coleta\": 2010.0, \"counts\": 29}, {\"collector_full_name\": \"G. Munay\", \"type_status\": \"nan\", \"ano_coleta\": 2011.0, \"counts\": 29}, {\"collector_full_name\": \"D. Moraes\", \"type_status\": \"nan\", \"ano_coleta\": 2000.0, \"counts\": 29}, {\"collector_full_name\": \"U. Caramaschi\", \"type_status\": \"nan\", \"ano_coleta\": 2009.0, \"counts\": 28}, {\"collector_full_name\": \"P. Passos\", \"type_status\": \"nan\", \"ano_coleta\": 2009.0, \"counts\": 28}, {\"collector_full_name\": \"A. Silveira\", \"type_status\": \"nan\", \"ano_coleta\": 2011.0, \"counts\": 28}, {\"collector_full_name\": \"M. Soares\", \"type_status\": \"nan\", \"ano_coleta\": 1987.0, \"counts\": 27}, {\"collector_full_name\": \"J. Pontes\", \"type_status\": \"nan\", \"ano_coleta\": 2014.0, \"counts\": 27}, {\"collector_full_name\": \"R. Carvalho\", \"type_status\": \"nan\", \"ano_coleta\": 2010.0, \"counts\": 27}, {\"collector_full_name\": \"M. Gandolfi\", \"type_status\": \"nan\", \"ano_coleta\": 1999.0, \"counts\": 27}, {\"collector_full_name\": \"I. Jr.\", \"type_status\": \"nan\", \"ano_coleta\": 2010.0, \"counts\": 27}, {\"collector_full_name\": \"H. Sick\", \"type_status\": \"nan\", \"ano_coleta\": 1946.0, \"counts\": 26}, {\"collector_full_name\": \"R. Reis\", \"type_status\": \"nan\", \"ano_coleta\": 2011.0, \"counts\": 26}, {\"collector_full_name\": \"D. Vrcibradic\", \"type_status\": \"nan\", \"ano_coleta\": 2002.0, \"counts\": 26}, {\"collector_full_name\": \"M. Bilate\", \"type_status\": \"nan\", \"ano_coleta\": 2012.0, \"counts\": 26}, {\"collector_full_name\": \"P. Sampaio\", \"type_status\": \"nan\", \"ano_coleta\": 2016.0, \"counts\": 26}, {\"collector_full_name\": \"U. Caramaschi\", \"type_status\": \"nan\", \"ano_coleta\": 1994.0, \"counts\": 25}, {\"collector_full_name\": \"R. Salles\", \"type_status\": \"nan\", \"ano_coleta\": 2008.0, \"counts\": 25}, {\"collector_full_name\": \"R. Pinto\", \"type_status\": \"nan\", \"ano_coleta\": 2012.0, \"counts\": 25}, {\"collector_full_name\": \"R. Teixeira\", \"type_status\": \"nan\", \"ano_coleta\": 2000.0, \"counts\": 25}, {\"collector_full_name\": \"A. Abreu\", \"type_status\": \"nan\", \"ano_coleta\": 2012.0, \"counts\": 24}, {\"collector_full_name\": \"J. Pontes\", \"type_status\": \"nan\", \"ano_coleta\": 2013.0, \"counts\": 24}, {\"collector_full_name\": \"F. Teles\", \"type_status\": \"nan\", \"ano_coleta\": 2013.0, \"counts\": 24}, {\"collector_full_name\": \"M. Porto\", \"type_status\": \"nan\", \"ano_coleta\": 1989.0, \"counts\": 23}, {\"collector_full_name\": \"A. Louren\\u00e7o\", \"type_status\": \"nan\", \"ano_coleta\": 2009.0, \"counts\": 23}, {\"collector_full_name\": \"J. Carvalho\", \"type_status\": \"nan\", \"ano_coleta\": 1948.0, \"counts\": 23}, {\"collector_full_name\": \"U. Caramaschi\", \"type_status\": \"nan\", \"ano_coleta\": 1987.0, \"counts\": 23}, {\"collector_full_name\": \"E. Dubauskas\", \"type_status\": \"nan\", \"ano_coleta\": 2000.0, \"counts\": 23}, {\"collector_full_name\": \"A. Bochiglieri\", \"type_status\": \"nan\", \"ano_coleta\": 2009.0, \"counts\": 23}, {\"collector_full_name\": \"D. Nojosa\", \"type_status\": \"nan\", \"ano_coleta\": 1998.0, \"counts\": 22}, {\"collector_full_name\": \"J. Santos\", \"type_status\": \"nan\", \"ano_coleta\": 1944.0, \"counts\": 22}, {\"collector_full_name\": \"U. Caramaschi\", \"type_status\": \"nan\", \"ano_coleta\": 1986.0, \"counts\": 22}, {\"collector_full_name\": \"U. Caramaschi\", \"type_status\": \"nan\", \"ano_coleta\": 1990.0, \"counts\": 22}, {\"collector_full_name\": \"C. Bueno\", \"type_status\": \"nan\", \"ano_coleta\": 2013.0, \"counts\": 21}, {\"collector_full_name\": \"C. Canedo\", \"type_status\": \"nan\", \"ano_coleta\": 2003.0, \"counts\": 21}, {\"collector_full_name\": \"D. Fernandes\", \"type_status\": \"nan\", \"ano_coleta\": 2004.0, \"counts\": 21}, {\"collector_full_name\": \"D. Maciel\", \"type_status\": \"nan\", \"ano_coleta\": 2013.0, \"counts\": 21}, {\"collector_full_name\": \"U. Caramaschi\", \"type_status\": \"nan\", \"ano_coleta\": 2008.0, \"counts\": 21}, {\"collector_full_name\": \"H. Silva\", \"type_status\": \"nan\", \"ano_coleta\": 1986.0, \"counts\": 21}, {\"collector_full_name\": \"M. Ven\\u00e2ncio\", \"type_status\": \"nan\", \"ano_coleta\": 2013.0, \"counts\": 21}, {\"collector_full_name\": \"W. Vaz\", \"type_status\": \"nan\", \"ano_coleta\": 2013.0, \"counts\": 21}, {\"collector_full_name\": \"A. Carvalho\", \"type_status\": \"nan\", \"ano_coleta\": 1937.0, \"counts\": 21}, {\"collector_full_name\": \"H. Sick\", \"type_status\": \"nan\", \"ano_coleta\": 1957.0, \"counts\": 20}, {\"collector_full_name\": \"J. Jim\", \"type_status\": \"nan\", \"ano_coleta\": 1973.0, \"counts\": 20}, {\"collector_full_name\": \"R. Feio\", \"type_status\": \"nan\", \"ano_coleta\": 1989.0, \"counts\": 20}, {\"collector_full_name\": \"A. Silveira\", \"type_status\": \"nan\", \"ano_coleta\": 2001.0, \"counts\": 20}, {\"collector_full_name\": \"E. Dubauskas\", \"type_status\": \"nan\", \"ano_coleta\": 2001.0, \"counts\": 20}, {\"collector_full_name\": \"D. Vrcibradic\", \"type_status\": \"nan\", \"ano_coleta\": 1996.0, \"counts\": 20}, {\"collector_full_name\": \"A. Abreu\", \"type_status\": \"nan\", \"ano_coleta\": 2009.0, \"counts\": 20}, {\"collector_full_name\": \"R. Salles\", \"type_status\": \"nan\", \"ano_coleta\": 2009.0, \"counts\": 19}, {\"collector_full_name\": \"R. Rodrigues\", \"type_status\": \"nan\", \"ano_coleta\": 2012.0, \"counts\": 19}, {\"collector_full_name\": \"A. Parko\", \"type_status\": \"nan\", \"ano_coleta\": 1944.0, \"counts\": 19}, {\"collector_full_name\": \"T. Soares\", \"type_status\": \"nan\", \"ano_coleta\": 2015.0, \"counts\": 19}, {\"collector_full_name\": \"P. Fatorelli\", \"type_status\": \"nan\", \"ano_coleta\": 2009.0, \"counts\": 19}, {\"collector_full_name\": \"E. Gasparian\", \"type_status\": \"nan\", \"ano_coleta\": 1985.0, \"counts\": 19}, {\"collector_full_name\": \"A. Martins\", \"type_status\": \"nan\", \"ano_coleta\": 2008.0, \"counts\": 18}, {\"collector_full_name\": \"D. Vrcibradic\", \"type_status\": \"nan\", \"ano_coleta\": 1991.0, \"counts\": 18}, {\"collector_full_name\": \"R. Valinhos\", \"type_status\": \"nan\", \"ano_coleta\": 2008.0, \"counts\": 18}, {\"collector_full_name\": \"I. Roberto\", \"type_status\": \"nan\", \"ano_coleta\": 2009.0, \"counts\": 18}, {\"collector_full_name\": \"J. Carvalho\", \"type_status\": \"nan\", \"ano_coleta\": 1947.0, \"counts\": 18}, {\"collector_full_name\": \"D. Teixeira\", \"type_status\": \"nan\", \"ano_coleta\": 1984.0, \"counts\": 17}, {\"collector_full_name\": \"R. B\\u00e9rnils\", \"type_status\": \"nan\", \"ano_coleta\": 1996.0, \"counts\": 17}, {\"collector_full_name\": \"J. Jim\", \"type_status\": \"nan\", \"ano_coleta\": 1975.0, \"counts\": 17}, {\"collector_full_name\": \"H. Silva\", \"type_status\": \"nan\", \"ano_coleta\": 1988.0, \"counts\": 17}, {\"collector_full_name\": \"M. Wachlevski\", \"type_status\": \"nan\", \"ano_coleta\": 2010.0, \"counts\": 17}, {\"collector_full_name\": \"D. Fernandes\", \"type_status\": \"nan\", \"ano_coleta\": 2013.0, \"counts\": 17}, {\"collector_full_name\": \"U. Caramaschi\", \"type_status\": \"nan\", \"ano_coleta\": 1975.0, \"counts\": 17}, {\"collector_full_name\": \"C. Caetano\", \"type_status\": \"nan\", \"ano_coleta\": 1996.0, \"counts\": 17}, {\"collector_full_name\": \"D. Fernandes\", \"type_status\": \"nan\", \"ano_coleta\": 2012.0, \"counts\": 17}, {\"collector_full_name\": \"A. Carneiro\", \"type_status\": \"nan\", \"ano_coleta\": 1996.0, \"counts\": 17}, {\"collector_full_name\": \"T. Soares\", \"type_status\": \"nan\", \"ano_coleta\": 2011.0, \"counts\": 17}, {\"collector_full_name\": \"J. Pombal\", \"type_status\": \"nan\", \"ano_coleta\": 2010.0, \"counts\": 17}, {\"collector_full_name\": \"M. Santos\", \"type_status\": \"nan\", \"ano_coleta\": 2009.0, \"counts\": 16}, {\"collector_full_name\": \"J. Jr.\", \"type_status\": \"nan\", \"ano_coleta\": 1998.0, \"counts\": 16}, {\"collector_full_name\": \"M. Napoli\", \"type_status\": \"nan\", \"ano_coleta\": 1988.0, \"counts\": 16}, {\"collector_full_name\": \"M. Calleffo\", \"type_status\": \"nan\", \"ano_coleta\": 2005.0, \"counts\": 16}, {\"collector_full_name\": \"B. Pimenta\", \"type_status\": \"nan\", \"ano_coleta\": 2007.0, \"counts\": 16}, {\"collector_full_name\": \"S. Rangel\", \"type_status\": \"nan\", \"ano_coleta\": 1995.0, \"counts\": 16}, {\"collector_full_name\": \"S. Siciliano\", \"type_status\": \"nan\", \"ano_coleta\": 2010.0, \"counts\": 16}, {\"collector_full_name\": \"P. Ivo\", \"type_status\": \"nan\", \"ano_coleta\": 2011.0, \"counts\": 15}, {\"collector_full_name\": \"R. Junior\", \"type_status\": \"nan\", \"ano_coleta\": 2008.0, \"counts\": 15}, {\"collector_full_name\": \"D. Santos\", \"type_status\": \"nan\", \"ano_coleta\": 1989.0, \"counts\": 15}, {\"collector_full_name\": \"J. Pombal\", \"type_status\": \"nan\", \"ano_coleta\": 2008.0, \"counts\": 15}, {\"collector_full_name\": \"C. Bueno\", \"type_status\": \"nan\", \"ano_coleta\": 2016.0, \"counts\": 15}, {\"collector_full_name\": \"J. Pontes\", \"type_status\": \"nan\", \"ano_coleta\": 2006.0, \"counts\": 15}, {\"collector_full_name\": \"L. Thales\", \"type_status\": \"nan\", \"ano_coleta\": 1954.0, \"counts\": 15}, {\"collector_full_name\": \"R. Carvalho\", \"type_status\": \"nan\", \"ano_coleta\": 2003.0, \"counts\": 15}, {\"collector_full_name\": \"J. Pontes\", \"type_status\": \"nan\", \"ano_coleta\": 2005.0, \"counts\": 15}, {\"collector_full_name\": \"D. Vrcibradic\", \"type_status\": \"nan\", \"ano_coleta\": 2001.0, \"counts\": 15}, {\"collector_full_name\": \"A. Silveira\", \"type_status\": \"nan\", \"ano_coleta\": 1997.0, \"counts\": 15}, {\"collector_full_name\": \"M. Madeira\", \"type_status\": \"nan\", \"ano_coleta\": 2013.0, \"counts\": 15}, {\"collector_full_name\": \"R. Carvalho\", \"type_status\": \"nan\", \"ano_coleta\": 2008.0, \"counts\": 15}, {\"collector_full_name\": \"A. Bachiglieri\", \"type_status\": \"nan\", \"ano_coleta\": 2008.0, \"counts\": 15}, {\"collector_full_name\": \"I. Jr.\", \"type_status\": \"nan\", \"ano_coleta\": 2011.0, \"counts\": 14}, {\"collector_full_name\": \"B. Prazeres\", \"type_status\": \"nan\", \"ano_coleta\": 1976.0, \"counts\": 14}, {\"collector_full_name\": \"A. Silveira\", \"type_status\": \"nan\", \"ano_coleta\": 2002.0, \"counts\": 14}]}}, {\"mode\": \"vega-lite\"});\n",
       "</script>"
      ],
      "text/plain": [
       "alt.Chart(...)"
      ]
     },
     "execution_count": 95,
     "metadata": {},
     "output_type": "execute_result"
    }
   ],
   "source": [
    "g1 = alt.Chart(counts[counts['type_status'] == 'nan'].iloc[0:200], title='Não-tipos por Coletor', \n",
    "               height=700, width=400).mark_circle(color= '#000000').encode(\n",
    "    x = alt.X('ano_coleta:O', title='Ano de Determinação'),\n",
    "    y = alt.Y('collector_full_name:N', title='', \n",
    "             sort= alt.EncodingSortField(field= 'counts', op='sum', order='descending')),\n",
    "    size = alt.Size('counts:Q'), \n",
    "    tooltip = alt.Tooltip(['collector_full_name', 'type_status', 'ano_coleta', 'counts'])\n",
    ")\n",
    "\n",
    "# saving graph\n",
    "# g1.save('./graphs/tipo/nao-tipos_por_coletor.html')\n",
    "\n",
    "g1"
   ]
  },
  {
   "cell_type": "markdown",
   "metadata": {},
   "source": [
    "<br>\n",
    "\n",
    "**The end!**\n",
    "\n",
    "-----"
   ]
  }
 ],
 "metadata": {
  "kernelspec": {
   "display_name": "Python 3",
   "language": "python",
   "name": "python3"
  },
  "language_info": {
   "codemirror_mode": {
    "name": "ipython",
    "version": 3
   },
   "file_extension": ".py",
   "mimetype": "text/x-python",
   "name": "python",
   "nbconvert_exporter": "python",
   "pygments_lexer": "ipython3",
   "version": "3.8.3"
  },
  "latex_envs": {
   "LaTeX_envs_menu_present": true,
   "autoclose": false,
   "autocomplete": true,
   "bibliofile": "biblio.bib",
   "cite_by": "apalike",
   "current_citInitial": 1,
   "eqLabelWithNumbers": true,
   "eqNumInitial": 1,
   "hotkeys": {
    "equation": "Ctrl-E",
    "itemize": "Ctrl-I"
   },
   "labels_anchors": false,
   "latex_user_defs": false,
   "report_style_numbering": false,
   "user_envs_cfg": false
  },
  "toc": {
   "base_numbering": 1,
   "nav_menu": {},
   "number_sections": false,
   "sideBar": true,
   "skip_h1_title": false,
   "title_cell": "Table of Contents",
   "title_sidebar": "Contents",
   "toc_cell": false,
   "toc_position": {},
   "toc_section_display": true,
   "toc_window_display": false
  },
  "varInspector": {
   "cols": {
    "lenName": 16,
    "lenType": 16,
    "lenVar": 40
   },
   "kernels_config": {
    "python": {
     "delete_cmd_postfix": "",
     "delete_cmd_prefix": "del ",
     "library": "var_list.py",
     "varRefreshCmd": "print(var_dic_list())"
    },
    "r": {
     "delete_cmd_postfix": ") ",
     "delete_cmd_prefix": "rm(",
     "library": "var_list.r",
     "varRefreshCmd": "cat(var_dic_list()) "
    }
   },
   "position": {
    "height": "391.35px",
    "left": "900.5px",
    "right": "20px",
    "top": "96px",
    "width": "536.5px"
   },
   "types_to_exclude": [
    "module",
    "function",
    "builtin_function_or_method",
    "instance",
    "_Feature"
   ],
   "window_display": false
  }
 },
 "nbformat": 4,
 "nbformat_minor": 2
}
