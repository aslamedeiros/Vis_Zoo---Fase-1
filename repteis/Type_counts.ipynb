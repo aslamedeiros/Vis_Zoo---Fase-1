{
 "cells": [
  {
   "cell_type": "markdown",
   "metadata": {},
   "source": [
    "# Type charts\n",
    "\n",
    "By **Franklin Oliveira**\n",
    "\n",
    "-----\n",
    "This notebook contains all code necessary to make the \"type\" charts from `repteis` database. Here you'll find some basic data treatment and charts' code. \n",
    "\n",
    "Database: <font color='blue'>'Compilacao Livros Repteis - 2 a 10 - 2020_04_28.xls'</font>."
   ]
  },
  {
   "cell_type": "code",
   "execution_count": 5,
   "metadata": {
    "ExecuteTime": {
     "end_time": "2020-07-24T16:01:28.458983Z",
     "start_time": "2020-07-24T16:01:28.452639Z"
    }
   },
   "outputs": [
    {
     "data": {
      "text/plain": [
       "DataTransformerRegistry.enable('default')"
      ]
     },
     "execution_count": 5,
     "metadata": {},
     "output_type": "execute_result"
    }
   ],
   "source": [
    "import datetime\n",
    "import numpy as np\n",
    "import pandas as pd\n",
    "\n",
    "from collections import defaultdict\n",
    "\n",
    "# pacotes para visualização rápida\n",
    "import seaborn as sns\n",
    "import matplotlib.pyplot as plt\n",
    "\n",
    "# pacote para visualização principal\n",
    "import altair as alt\n",
    "\n",
    "# habilitando renderizador para notebook\n",
    "# alt.renderers.enable('notebook')\n",
    "alt.renderers.enable('default')\n",
    "\n",
    "\n",
    "# desabilitando limite de linhas\n",
    "alt.data_transformers.disable_max_rows()"
   ]
  },
  {
   "cell_type": "markdown",
   "metadata": {},
   "source": [
    "## Importing data..."
   ]
  },
  {
   "cell_type": "code",
   "execution_count": 6,
   "metadata": {
    "ExecuteTime": {
     "end_time": "2020-07-24T16:01:30.138178Z",
     "start_time": "2020-07-24T16:01:28.469488Z"
    }
   },
   "outputs": [
    {
     "name": "stdout",
     "output_type": "stream",
     "text": [
      "The excel file contains the following sheets: ['Repteis-2020-02-11-csv']\n",
      "\n",
      "Database is in sheet: Repteis-2020-02-11-csv\n"
     ]
    }
   ],
   "source": [
    "excel = pd.ExcelFile('Compilacao Livros Repteis - 2 a 10 - 2020_04_28.xls')\n",
    "sheet_name = excel.sheet_names\n",
    "\n",
    "print('The excel file contains the following sheets:', sheet_name)\n",
    "print('\\nDatabase is in sheet:', sheet_name[0])"
   ]
  },
  {
   "cell_type": "code",
   "execution_count": 7,
   "metadata": {
    "ExecuteTime": {
     "end_time": "2020-07-24T16:01:31.595525Z",
     "start_time": "2020-07-24T16:01:30.140368Z"
    }
   },
   "outputs": [
    {
     "name": "stdout",
     "output_type": "stream",
     "text": [
      "The database has 23119 rows and 114 columns.\n"
     ]
    }
   ],
   "source": [
    "db = excel.parse(sheet_name[0], sep=';', encoding='utf-8-sig')\n",
    "\n",
    "# p.s.: I'm parsing a pre-treated file provided by Asla\n",
    "#db = pd.read_excel('db.csv', sep=',', encoding='utf-8-sig', low_memory=False)\n",
    "print(f'The database has {db.shape[0]} rows and {db.shape[1]} columns.')"
   ]
  },
  {
   "cell_type": "code",
   "execution_count": 8,
   "metadata": {
    "ExecuteTime": {
     "end_time": "2020-07-24T16:01:31.618603Z",
     "start_time": "2020-07-24T16:01:31.598077Z"
    }
   },
   "outputs": [],
   "source": [
    "# copying database to another variable to make a few changes keeping the original intact\n",
    "repteis = db.copy()"
   ]
  },
  {
   "cell_type": "markdown",
   "metadata": {},
   "source": [
    "<br>\n",
    "\n",
    "<font color='red' size='5'>**p.s.:** We were told by the Curator that some names in this database may remain confidential. So, I'm gonna skip this step for now until we know how to treat this data appropriately </font>\n",
    "\n",
    "### Name columns\n",
    "\n",
    "`DeterminatorFirstName1` e `DeterminatorLastName1`\n",
    "\n",
    "#### treating determiner's name \n",
    "\n",
    "In this step, we're going to put together 'determinator's' first and last name. \n",
    "\n",
    "`DeterminatorFirstName1` + `DeterminatorLastName1`\n",
    "\n",
    "Just concatenating those two columns is not satisfactory because there's some dirt in these data columns. So, let's begin by treating them..."
   ]
  },
  {
   "cell_type": "code",
   "execution_count": 9,
   "metadata": {
    "ExecuteTime": {
     "end_time": "2020-07-24T16:01:31.723118Z",
     "start_time": "2020-07-24T16:01:31.620698Z"
    }
   },
   "outputs": [],
   "source": [
    "# repteis['DeterminatorFirstName1'].value_counts()\n",
    "# repteis['DeterminatorLastName1'].value_counts()"
   ]
  },
  {
   "cell_type": "code",
   "execution_count": 10,
   "metadata": {
    "ExecuteTime": {
     "end_time": "2020-07-24T16:01:31.819742Z",
     "start_time": "2020-07-24T16:01:31.727075Z"
    }
   },
   "outputs": [],
   "source": [
    "def treat_names(name, pos='first'):\n",
    "    '''\n",
    "    Treat names keeping NaN as such.\n",
    "    \n",
    "    Arguments: \n",
    "        - name: name to be treated. \n",
    "        - pos (str): name position. One of ['first', 'last']\n",
    "    '''\n",
    "    if type(name) == str and pos == 'first':     # first name\n",
    "        \n",
    "        if len(name.split(' ')) > 1:             # treats composite names (+ 1 name)\n",
    "            return str(name).strip().split(' ')[0].capitalize()\n",
    "        else:\n",
    "            return str(name).strip().capitalize()\n",
    "    \n",
    "    elif type(name) == str and pos == 'last':    # last name\n",
    "        \n",
    "        if len(name.split(' ')) > 1:             # treats composite last name (+ 1 surname)\n",
    "            return str(name).strip().split(' ')[-1].capitalize()\n",
    "        else:\n",
    "            return str(name).strip().capitalize()   \n",
    "    else:\n",
    "        return name"
   ]
  },
  {
   "cell_type": "markdown",
   "metadata": {},
   "source": [
    "applying function to the two column names"
   ]
  },
  {
   "cell_type": "code",
   "execution_count": 11,
   "metadata": {
    "ExecuteTime": {
     "end_time": "2020-07-24T16:01:31.918542Z",
     "start_time": "2020-07-24T16:01:31.821955Z"
    }
   },
   "outputs": [],
   "source": [
    "#crustaceas['Determiner First Name1'] = crustaceas['Determiner First Name1'].apply(treat_names)\n",
    "# crustaceas['Determiner First Name1'].value_counts()"
   ]
  },
  {
   "cell_type": "code",
   "execution_count": 12,
   "metadata": {
    "ExecuteTime": {
     "end_time": "2020-07-24T16:01:32.054097Z",
     "start_time": "2020-07-24T16:01:31.922113Z"
    }
   },
   "outputs": [],
   "source": [
    "#crustaceas['Determiner Last Name1'] = crustaceas['Determiner Last Name1'].apply(lambda x:\n",
    "#                                                                treat_names(x, pos='last'))\n",
    "# crustaceas['Determiner Last Name1'].value_counts()"
   ]
  },
  {
   "cell_type": "code",
   "execution_count": 13,
   "metadata": {
    "ExecuteTime": {
     "end_time": "2020-07-24T16:01:32.139635Z",
     "start_time": "2020-07-24T16:01:32.060209Z"
    }
   },
   "outputs": [],
   "source": [
    "# creating column with First and Last name for identification\n",
    "#crustaceas['Determiner First_and_Last Name'] = crustaceas['Determiner First Name1'] + ' ' + crustaceas['Determiner Last Name1']"
   ]
  },
  {
   "cell_type": "markdown",
   "metadata": {},
   "source": [
    "<br>\n",
    "\n",
    "## Adjusting columns names\n",
    "\n",
    "### removing '\\n'"
   ]
  },
  {
   "cell_type": "code",
   "execution_count": 14,
   "metadata": {
    "ExecuteTime": {
     "end_time": "2020-07-24T16:01:32.234215Z",
     "start_time": "2020-07-24T16:01:32.142463Z"
    }
   },
   "outputs": [],
   "source": [
    "repteis.columns = [str(col).replace(r'\\n','') for col in repteis.columns]"
   ]
  },
  {
   "cell_type": "markdown",
   "metadata": {},
   "source": [
    "#### closer look on some columns..."
   ]
  },
  {
   "cell_type": "code",
   "execution_count": 15,
   "metadata": {
    "ExecuteTime": {
     "end_time": "2020-07-24T16:01:32.348340Z",
     "start_time": "2020-07-24T16:01:32.236254Z"
    }
   },
   "outputs": [
    {
     "name": "stdout",
     "output_type": "stream",
     "text": [
      "- NumeroDeCatalogo\n",
      "- NumeroDeCampo\n",
      "- DataDeEntrada\n",
      "- DataDaDeterminacao\n",
      "- Kingdom\n",
      "- Phylum\n",
      "- Class\n",
      "- Ordem\n",
      "- Familia\n",
      "- Genero_ent\n",
      "- Qualificador_ent\n",
      "- Especie_ent\n",
      "- Subespecie_ent\n",
      "- Type Status 1\n",
      "- Current 1\n",
      "- Determined Date 2\n",
      "- Class2\n",
      "- Order2\n",
      "- Family2\n",
      "- Genero_atual\n",
      "- Qualificador_atual\n",
      "- Especie_atual\n",
      "- Subespecie_atual\n",
      "- NotasTaxonomicas\n",
      "- Current 2\n",
      "- DeterminatorLastName1\n",
      "- DeterminatorFirstName1\n",
      "- DeterminatorMiddleInitial1\n",
      "- DeterminatorLastName2\n",
      "- DeterminatorFirstName2\n",
      "- DeterminatorMiddleInitial2\n",
      "- DeterminationRemark\n",
      "- AssociatedTaxa\n",
      "- TypeOf\n",
      "- ColecaoEspecial\n",
      "- DataColetaInicial\n",
      "- DataColetaFinal\n",
      "- Complemento\n",
      "- NomeDaLocalidade\n",
      "- Municipio\n",
      "- EstadoOuProvincia\n",
      "- Pais\n",
      "- Continente\n",
      "- LocalityRemark\n",
      "- UtmDatum\n",
      "- UtmZone\n",
      "- UtmEasting\n",
      "- UtmNorthing\n",
      "- VerbatimLatitude\n",
      "- VerbatimLongitude\n",
      "- Lat\n",
      "- Long\n",
      "- PrecisaoDaCoordenada\n",
      "- GrupoDeColeta\n",
      "- MinAltitude\n",
      "- MaxAltitude\n",
      "- CollectingInformationRemark\n",
      "- CollectorLastName1\n",
      "- CollectorFirstName1\n",
      "- CollectorMiddleName1\n",
      "- CollectorLastName2\n",
      "- CollectorFirstName2\n",
      "- CollectorMiddleName2\n",
      "- CollectorLastName3\n",
      "- CollectorFirstName3\n",
      "- CollectorMiddleName3\n",
      "- CollectorLastName4\n",
      "- CollectorFirstName4\n",
      "- CollectorMiddleName4\n",
      "- CollectorLastName5\n",
      "- CollectorFirstName5\n",
      "- CollectorMiddleName5\n",
      "- CollectorLastName6\n",
      "- CollectorFirstName6\n",
      "- CollectorMiddleName6\n",
      "- CollectorLastName7\n",
      "- CollectorFirstName7\n",
      "- CollectorMiddleName7\n",
      "- CollectorLastName8\n",
      "- CollectorFirstName8\n",
      "- CollectorMiddleName8\n",
      "- CollectorRemark\n",
      "- Observacões\n",
      "- AltCatNumber\n",
      "- DoadosPor\n",
      "- DoadosPara\n",
      "- PermutaSaida\n",
      "- PermutaEntrada\n",
      "- Massa\n",
      "- CRC\n",
      "- Sexo\n",
      "- EstagioDeVida\n",
      "- CollectionObjectAttributeRemarks\n",
      "- Medidas\n",
      "- PrepType1\n",
      "- PrepType2\n",
      "- PrepType3\n",
      "- Preparation\n",
      "- Preparação 2\n",
      "- Preparação 3\n",
      "- PreparacaoRemark\n",
      "- Remarks 2\n",
      "- Remarks 3\n",
      "- PreparationCount\n",
      "- Count 2\n",
      "- Count 3\n",
      "- DataDaMorte\n",
      "- DataDeObtencao\n",
      "- CollectionObjectAttribute_Count\n",
      "- Desdobramento\n",
      "- CollectionObjectRemarks\n",
      "- DataVerbatim\n",
      "- DataUltimaAtualizacao\n",
      "- Yes No1\n"
     ]
    }
   ],
   "source": [
    "for col in repteis.columns:\n",
    "    print('-', col)"
   ]
  },
  {
   "cell_type": "code",
   "execution_count": 16,
   "metadata": {
    "ExecuteTime": {
     "end_time": "2020-07-24T16:01:32.429248Z",
     "start_time": "2020-07-24T16:01:32.351053Z"
    }
   },
   "outputs": [
    {
     "data": {
      "text/plain": [
       "torquatus       1403\n",
       "ocellifera       779\n",
       "jararaca         635\n",
       "hispidus         607\n",
       "ameiva           558\n",
       "                ... \n",
       "nurinus            1\n",
       "leucosticta        1\n",
       "superciliosa       1\n",
       "0                  1\n",
       "aurata             1\n",
       "Name: Especie_atual, Length: 803, dtype: int64"
      ]
     },
     "execution_count": 16,
     "metadata": {},
     "output_type": "execute_result"
    }
   ],
   "source": [
    "repteis['Especie_atual'].value_counts()"
   ]
  },
  {
   "cell_type": "markdown",
   "metadata": {},
   "source": [
    "<font size='5'>**Equivalência de colunas:** </font>\n",
    "\n",
    "**Nome diferente:** <br>\n",
    "- Species1: Especie_ent ou Especie_atual\n",
    "- Species Author1: ?\n",
    "- Type Status1: Type Status 1\n",
    "- Qualifier1: Qualificador_ent Qualificador_atual\n",
    "- Determiner First Name1: DeterminatorFirstName1\n",
    "- Determiner Middle1: DeterminatorMiddleInitial1\n",
    "- Determiner Last Name1: DeterminatorLastName1\n",
    "- Determined Date1: DataDaDeterminacao"
   ]
  },
  {
   "cell_type": "code",
   "execution_count": 17,
   "metadata": {
    "ExecuteTime": {
     "end_time": "2020-07-24T16:01:32.574423Z",
     "start_time": "2020-07-24T16:01:32.431354Z"
    }
   },
   "outputs": [
    {
     "data": {
      "text/html": [
       "<div>\n",
       "<style scoped>\n",
       "    .dataframe tbody tr th:only-of-type {\n",
       "        vertical-align: middle;\n",
       "    }\n",
       "\n",
       "    .dataframe tbody tr th {\n",
       "        vertical-align: top;\n",
       "    }\n",
       "\n",
       "    .dataframe thead th {\n",
       "        text-align: right;\n",
       "    }\n",
       "</style>\n",
       "<table border=\"1\" class=\"dataframe\">\n",
       "  <thead>\n",
       "    <tr style=\"text-align: right;\">\n",
       "      <th></th>\n",
       "      <th>Especie_atual</th>\n",
       "      <th>Type Status 1</th>\n",
       "      <th>Qualificador_atual</th>\n",
       "      <th>DeterminatorFirstName1</th>\n",
       "      <th>DeterminatorMiddleInitial1</th>\n",
       "      <th>DeterminatorLastName1</th>\n",
       "      <th>DataDaDeterminacao</th>\n",
       "    </tr>\n",
       "  </thead>\n",
       "  <tbody>\n",
       "    <tr>\n",
       "      <th>0</th>\n",
       "      <td>geoffroanus</td>\n",
       "      <td>NaN</td>\n",
       "      <td>-</td>\n",
       "      <td>L.</td>\n",
       "      <td>M.F.</td>\n",
       "      <td>Cunha</td>\n",
       "      <td>00/11/2018</td>\n",
       "    </tr>\n",
       "    <tr>\n",
       "      <th>1</th>\n",
       "      <td>suspectum</td>\n",
       "      <td>NaN</td>\n",
       "      <td>NaN</td>\n",
       "      <td>NaN</td>\n",
       "      <td>NaN</td>\n",
       "      <td>NaN</td>\n",
       "      <td>NaN</td>\n",
       "    </tr>\n",
       "    <tr>\n",
       "      <th>2</th>\n",
       "      <td>alba</td>\n",
       "      <td>NaN</td>\n",
       "      <td>NaN</td>\n",
       "      <td>NaN</td>\n",
       "      <td>NaN</td>\n",
       "      <td>NaN</td>\n",
       "      <td>NaN</td>\n",
       "    </tr>\n",
       "    <tr>\n",
       "      <th>3</th>\n",
       "      <td>corais</td>\n",
       "      <td>NaN</td>\n",
       "      <td>NaN</td>\n",
       "      <td>NaN</td>\n",
       "      <td>NaN</td>\n",
       "      <td>NaN</td>\n",
       "      <td>NaN</td>\n",
       "    </tr>\n",
       "    <tr>\n",
       "      <th>4</th>\n",
       "      <td>bottae</td>\n",
       "      <td>NaN</td>\n",
       "      <td>NaN</td>\n",
       "      <td>NaN</td>\n",
       "      <td>NaN</td>\n",
       "      <td>NaN</td>\n",
       "      <td>NaN</td>\n",
       "    </tr>\n",
       "    <tr>\n",
       "      <th>...</th>\n",
       "      <td>...</td>\n",
       "      <td>...</td>\n",
       "      <td>...</td>\n",
       "      <td>...</td>\n",
       "      <td>...</td>\n",
       "      <td>...</td>\n",
       "      <td>...</td>\n",
       "    </tr>\n",
       "    <tr>\n",
       "      <th>23114</th>\n",
       "      <td>ibiboboca</td>\n",
       "      <td>NaN</td>\n",
       "      <td>NaN</td>\n",
       "      <td>P.</td>\n",
       "      <td>NaN</td>\n",
       "      <td>Passos</td>\n",
       "      <td>00/10/2016</td>\n",
       "    </tr>\n",
       "    <tr>\n",
       "      <th>23115</th>\n",
       "      <td>ibiboboca</td>\n",
       "      <td>NaN</td>\n",
       "      <td>NaN</td>\n",
       "      <td>P.</td>\n",
       "      <td>NaN</td>\n",
       "      <td>Passos</td>\n",
       "      <td>00/10/2016</td>\n",
       "    </tr>\n",
       "    <tr>\n",
       "      <th>23116</th>\n",
       "      <td>quadricarinatus</td>\n",
       "      <td>NaN</td>\n",
       "      <td>NaN</td>\n",
       "      <td>P.</td>\n",
       "      <td>NaN</td>\n",
       "      <td>Passos</td>\n",
       "      <td>00/10/2016</td>\n",
       "    </tr>\n",
       "    <tr>\n",
       "      <th>23117</th>\n",
       "      <td>bicarinatus</td>\n",
       "      <td>NaN</td>\n",
       "      <td>NaN</td>\n",
       "      <td>P.</td>\n",
       "      <td>NaN</td>\n",
       "      <td>Pinna</td>\n",
       "      <td>00/10/2016</td>\n",
       "    </tr>\n",
       "    <tr>\n",
       "      <th>23118</th>\n",
       "      <td>bicarinatus</td>\n",
       "      <td>NaN</td>\n",
       "      <td>NaN</td>\n",
       "      <td>P.</td>\n",
       "      <td>NaN</td>\n",
       "      <td>Pinna</td>\n",
       "      <td>00/10/2016</td>\n",
       "    </tr>\n",
       "  </tbody>\n",
       "</table>\n",
       "<p>23119 rows × 7 columns</p>\n",
       "</div>"
      ],
      "text/plain": [
       "         Especie_atual  Type Status 1 Qualificador_atual  \\\n",
       "0          geoffroanus            NaN                  -   \n",
       "1            suspectum            NaN                NaN   \n",
       "2                 alba            NaN                NaN   \n",
       "3               corais            NaN                NaN   \n",
       "4               bottae            NaN                NaN   \n",
       "...                ...            ...                ...   \n",
       "23114        ibiboboca            NaN                NaN   \n",
       "23115        ibiboboca            NaN                NaN   \n",
       "23116  quadricarinatus            NaN                NaN   \n",
       "23117      bicarinatus            NaN                NaN   \n",
       "23118      bicarinatus            NaN                NaN   \n",
       "\n",
       "      DeterminatorFirstName1 DeterminatorMiddleInitial1 DeterminatorLastName1  \\\n",
       "0                         L.                       M.F.                 Cunha   \n",
       "1                        NaN                        NaN                   NaN   \n",
       "2                        NaN                        NaN                   NaN   \n",
       "3                        NaN                        NaN                   NaN   \n",
       "4                        NaN                        NaN                   NaN   \n",
       "...                      ...                        ...                   ...   \n",
       "23114                     P.                        NaN                Passos   \n",
       "23115                     P.                        NaN                Passos   \n",
       "23116                     P.                        NaN                Passos   \n",
       "23117                     P.                        NaN                 Pinna   \n",
       "23118                     P.                        NaN                 Pinna   \n",
       "\n",
       "      DataDaDeterminacao  \n",
       "0             00/11/2018  \n",
       "1                    NaN  \n",
       "2                    NaN  \n",
       "3                    NaN  \n",
       "4                    NaN  \n",
       "...                  ...  \n",
       "23114         00/10/2016  \n",
       "23115         00/10/2016  \n",
       "23116         00/10/2016  \n",
       "23117         00/10/2016  \n",
       "23118         00/10/2016  \n",
       "\n",
       "[23119 rows x 7 columns]"
      ]
     },
     "execution_count": 17,
     "metadata": {},
     "output_type": "execute_result"
    }
   ],
   "source": [
    "repteis[['Especie_atual', 'Type Status 1', 'Qualificador_atual', 'DeterminatorFirstName1',\n",
    "       'DeterminatorMiddleInitial1', 'DeterminatorLastName1', 'DataDaDeterminacao']]"
   ]
  },
  {
   "cell_type": "markdown",
   "metadata": {},
   "source": [
    "<br>\n",
    "\n",
    "## preparing data for charts..."
   ]
  },
  {
   "cell_type": "markdown",
   "metadata": {},
   "source": [
    "### Column: `Type Status1`\n",
    "\n",
    "contains info on species type"
   ]
  },
  {
   "cell_type": "code",
   "execution_count": 18,
   "metadata": {
    "ExecuteTime": {
     "end_time": "2020-07-24T16:01:32.663626Z",
     "start_time": "2020-07-24T16:01:32.582999Z"
    }
   },
   "outputs": [
    {
     "data": {
      "text/plain": [
       "Series([], Name: Type Status 1, dtype: int64)"
      ]
     },
     "execution_count": 18,
     "metadata": {},
     "output_type": "execute_result"
    }
   ],
   "source": [
    "repteis['Type Status 1'].value_counts().head()  # essa coluna está vazia!?"
   ]
  },
  {
   "cell_type": "markdown",
   "metadata": {},
   "source": [
    "#### Let's begin cleaning this data and lowering all cases."
   ]
  },
  {
   "cell_type": "code",
   "execution_count": 19,
   "metadata": {
    "ExecuteTime": {
     "end_time": "2020-07-24T16:01:32.867633Z",
     "start_time": "2020-07-24T16:01:32.668662Z"
    }
   },
   "outputs": [],
   "source": [
    "#repteis['Type Status 1'] = repteis['Type Status 1'].str.strip().str.lower().str.capitalize()"
   ]
  },
  {
   "cell_type": "code",
   "execution_count": 20,
   "metadata": {
    "ExecuteTime": {
     "end_time": "2020-07-24T16:01:33.036407Z",
     "start_time": "2020-07-24T16:01:32.872190Z"
    }
   },
   "outputs": [
    {
     "data": {
      "text/plain": [
       "Series([], Name: Type Status 1, dtype: int64)"
      ]
     },
     "execution_count": 20,
     "metadata": {},
     "output_type": "execute_result"
    }
   ],
   "source": [
    "repteis['Type Status 1'].value_counts().head()"
   ]
  },
  {
   "cell_type": "markdown",
   "metadata": {},
   "source": [
    "### preparing taxonomy columns\n",
    "\n",
    "`Kingdom` - `Phylum` - `Class` - `Ordem` - `Familia` - `Genero_ent`- `Genero_atual` - `Especie_ent` - `Especie_atual`\n",
    "\n",
    "**Colunas faltando:**\n",
    "- `Subphylum1`\n",
    "- `Subclass1`\n",
    "- `Infraclass1`\n",
    "- `Superorder1`\n",
    "- `Suborder1` \n",
    "- `Infraorder1` \n",
    "- `Superfamily1`\n",
    "- `Subfamily1` \n",
    "- `Tribe1`"
   ]
  },
  {
   "cell_type": "code",
   "execution_count": 21,
   "metadata": {
    "ExecuteTime": {
     "end_time": "2020-07-24T16:01:33.404652Z",
     "start_time": "2020-07-24T16:01:33.038559Z"
    }
   },
   "outputs": [
    {
     "name": "stdout",
     "output_type": "stream",
     "text": [
      "Adjusting column Kingdom\n",
      "Adjusting column Phylum\n",
      "Adjusting column Class\n",
      "Adjusting column Ordem\n",
      "Adjusting column Familia\n",
      "Adjusting column Genero_ent\n",
      "Adjusting column Genero_atual\n",
      "Adjusting column Especie_ent\n",
      "Adjusting column Especie_atual\n",
      "Adjusting column Subespecie_ent\n",
      "Adjusting column Subespecie_atual\n"
     ]
    }
   ],
   "source": [
    "taxon_columns = ['Kingdom', 'Phylum', 'Class', 'Ordem', 'Familia', 'Genero_ent',\n",
    "                 'Genero_atual', 'Especie_ent', 'Especie_atual', 'Subespecie_ent',\n",
    "                 'Subespecie_atual']  # selecting taxonomy columns\n",
    "\n",
    "# defining function\n",
    "def treat_str(x):\n",
    "    return str(x).lower().capitalize().strip()\n",
    "\n",
    "# applying treatment\n",
    "for col in taxon_columns:\n",
    "    print(f'Adjusting column {col}')\n",
    "    repteis[col] = repteis[col].apply(treat_str)"
   ]
  },
  {
   "cell_type": "markdown",
   "metadata": {},
   "source": [
    "### adding `Genero` and `Especie`together (they completely identify each animal's species)"
   ]
  },
  {
   "cell_type": "code",
   "execution_count": 22,
   "metadata": {
    "ExecuteTime": {
     "end_time": "2020-07-24T16:01:33.474140Z",
     "start_time": "2020-07-24T16:01:33.406658Z"
    }
   },
   "outputs": [],
   "source": [
    "repteis['genero_e_especie_ent'] = repteis['Genero_ent'] + ' ' + repteis['Especie_ent']\n",
    "repteis['genero_e_especie_atual'] = repteis['Genero_atual'] + ' ' + repteis['Especie_atual']\n",
    "\n",
    "repteis['genero_e_especie_ent'] = repteis['genero_e_especie_ent'].str.lower().str.capitalize()\n",
    "repteis['genero_e_especie_atual'] = repteis['genero_e_especie_atual'].str.lower().str.capitalize()"
   ]
  },
  {
   "cell_type": "markdown",
   "metadata": {},
   "source": [
    "<br>\n",
    "\n",
    "### Collecting date (year) and sclicing main DB to a smaller dataset \n",
    "\n",
    "Columns: `Determined Date1` - `Class1` - `Kingdom` and more..."
   ]
  },
  {
   "cell_type": "code",
   "execution_count": 23,
   "metadata": {
    "ExecuteTime": {
     "end_time": "2020-07-24T16:01:58.095605Z",
     "start_time": "2020-07-24T16:01:33.476132Z"
    }
   },
   "outputs": [
    {
     "data": {
      "text/html": [
       "<div>\n",
       "<style scoped>\n",
       "    .dataframe tbody tr th:only-of-type {\n",
       "        vertical-align: middle;\n",
       "    }\n",
       "\n",
       "    .dataframe tbody tr th {\n",
       "        vertical-align: top;\n",
       "    }\n",
       "\n",
       "    .dataframe thead th {\n",
       "        text-align: right;\n",
       "    }\n",
       "</style>\n",
       "<table border=\"1\" class=\"dataframe\">\n",
       "  <thead>\n",
       "    <tr style=\"text-align: right;\">\n",
       "      <th></th>\n",
       "      <th>ano_coleta</th>\n",
       "      <th>mes_coleta</th>\n",
       "      <th>numero_catalogo</th>\n",
       "      <th>class</th>\n",
       "      <th>kingdom</th>\n",
       "      <th>genero_ent</th>\n",
       "      <th>genero_atual</th>\n",
       "      <th>especie_ent</th>\n",
       "      <th>especie_atual</th>\n",
       "      <th>subespecie_atual</th>\n",
       "      <th>...</th>\n",
       "      <th>determinator_last_name</th>\n",
       "      <th>altitude</th>\n",
       "      <th>max_altitude</th>\n",
       "      <th>ordem</th>\n",
       "      <th>familia</th>\n",
       "      <th>phylum</th>\n",
       "      <th>tipo</th>\n",
       "      <th>qualificador_atual</th>\n",
       "      <th>ano_determinacao</th>\n",
       "      <th>ano_entrada</th>\n",
       "    </tr>\n",
       "  </thead>\n",
       "  <tbody>\n",
       "    <tr>\n",
       "      <th>0</th>\n",
       "      <td>NaN</td>\n",
       "      <td>NaN</td>\n",
       "      <td>2438</td>\n",
       "      <td>Reptilia</td>\n",
       "      <td>Animalia</td>\n",
       "      <td>Nan</td>\n",
       "      <td>Phrynops</td>\n",
       "      <td>Nan</td>\n",
       "      <td>Geoffroanus</td>\n",
       "      <td>-</td>\n",
       "      <td>...</td>\n",
       "      <td>Cunha</td>\n",
       "      <td>NaN</td>\n",
       "      <td>NaN</td>\n",
       "      <td>Testudines</td>\n",
       "      <td>Chelidae</td>\n",
       "      <td>Chordata</td>\n",
       "      <td>NaN</td>\n",
       "      <td>-</td>\n",
       "      <td>2018.0</td>\n",
       "      <td>NaN</td>\n",
       "    </tr>\n",
       "    <tr>\n",
       "      <th>1</th>\n",
       "      <td>NaN</td>\n",
       "      <td>NaN</td>\n",
       "      <td>3194</td>\n",
       "      <td>Reptilia</td>\n",
       "      <td>Animalia</td>\n",
       "      <td>Heloderma</td>\n",
       "      <td>Heloderma</td>\n",
       "      <td>Suspectum</td>\n",
       "      <td>Suspectum</td>\n",
       "      <td>Nan</td>\n",
       "      <td>...</td>\n",
       "      <td>NaN</td>\n",
       "      <td>NaN</td>\n",
       "      <td>NaN</td>\n",
       "      <td>Squamata</td>\n",
       "      <td>Helodermatidae</td>\n",
       "      <td>Chordata</td>\n",
       "      <td>NaN</td>\n",
       "      <td>NaN</td>\n",
       "      <td>NaN</td>\n",
       "      <td>NaN</td>\n",
       "    </tr>\n",
       "  </tbody>\n",
       "</table>\n",
       "<p>2 rows × 24 columns</p>\n",
       "</div>"
      ],
      "text/plain": [
       "   ano_coleta  mes_coleta  numero_catalogo     class   kingdom genero_ent  \\\n",
       "0         NaN         NaN             2438  Reptilia  Animalia        Nan   \n",
       "1         NaN         NaN             3194  Reptilia  Animalia  Heloderma   \n",
       "\n",
       "  genero_atual especie_ent especie_atual subespecie_atual  ...  \\\n",
       "0     Phrynops         Nan   Geoffroanus                -  ...   \n",
       "1    Heloderma   Suspectum     Suspectum              Nan  ...   \n",
       "\n",
       "  determinator_last_name altitude  max_altitude       ordem         familia  \\\n",
       "0                  Cunha      NaN           NaN  Testudines        Chelidae   \n",
       "1                    NaN      NaN           NaN    Squamata  Helodermatidae   \n",
       "\n",
       "     phylum tipo qualificador_atual ano_determinacao ano_entrada  \n",
       "0  Chordata  NaN                  -           2018.0         NaN  \n",
       "1  Chordata  NaN                NaN              NaN         NaN  \n",
       "\n",
       "[2 rows x 24 columns]"
      ]
     },
     "execution_count": 23,
     "metadata": {},
     "output_type": "execute_result"
    }
   ],
   "source": [
    "# slicing main database (repteis)\n",
    "Table = repteis[['NumeroDeCatalogo','DataDeEntrada','DataDaDeterminacao','DataColetaInicial','Class','Kingdom', \n",
    "                    'Genero_ent', 'Genero_atual', 'Especie_ent', 'Especie_atual','Subespecie_atual','Type Status 1',\n",
    "                    'DeterminatorFirstName1', 'DeterminatorLastName1', 'genero_e_especie_ent',\n",
    "                    'genero_e_especie_atual','MinAltitude','MaxAltitude',\n",
    "                    'Ordem', 'Familia', 'Phylum', 'Qualificador_atual', 'NotasTaxonomicas']].copy()\n",
    "\n",
    "# OBS: Determined Date1 has many missing values... CHECK THAT\n",
    "d = []\n",
    "counter=0\n",
    "for row in Table['DataColetaInicial']:\n",
    "    if not str(row).find('/')==-1:\n",
    "        dates_values = str(row).split(\"/\")\n",
    "        year = int(dates_values[-1])\n",
    "        month = int(dates_values[1])\n",
    "#        if (month>1) and (month<12):\n",
    "            #store the year and month in a datetime datatype for later sorting\n",
    "#            dateRecord = datetime.datetime(year,month,1) \n",
    "    else:\n",
    "        year = Table.loc[counter, 'DataColetaInicial']\n",
    "        month = Table.loc[counter, 'DataColetaInicial']\n",
    "    \n",
    "    # mais um condicional para tratar anos vazios ' '\n",
    "    if year == ' ':\n",
    "        year = np.NAN\n",
    "        month = np.NAN\n",
    "        \n",
    "    d.append({'ano_coleta':year,\n",
    "              'mes_coleta':month,\n",
    "              'numero_catalogo':Table.loc[counter,'NumeroDeCatalogo'],\n",
    "              'class':Table.loc[counter,'Class'],\n",
    "              'kingdom':Table.loc[counter,'Kingdom'], 'genero_ent':Table.loc[counter,'Genero_ent'],\n",
    "              'genero_atual':Table.loc[counter,'Genero_atual'],\n",
    "              'especie_ent':Table.loc[counter,'Especie_ent'],\n",
    "              'especie_atual':Table.loc[counter,'Especie_atual'],\n",
    "              'subespecie_atual':Table.loc[counter, 'Subespecie_atual'],\n",
    "              'genero_e_especie_ent': Table.loc[counter,'genero_e_especie_ent'],\n",
    "              'genero_e_especie_atual': Table.loc[counter,'genero_e_especie_atual'],\n",
    "              'type_status':Table.loc[counter,'Type Status 1'], \n",
    "              'determinator_first_name':Table.loc[counter,'DeterminatorFirstName1'],\n",
    "              'determinator_last_name':Table.loc[counter,'DeterminatorLastName1'],\n",
    "              'altitude':Table.loc[counter,'MinAltitude'],\n",
    "              'max_altitude':Table.loc[counter,'MaxAltitude'],\n",
    "              'ordem':Table.loc[counter,'Ordem'],\n",
    "              'familia':Table.loc[counter,'Familia'],\n",
    "              'phylum': Table.loc[counter,'Phylum'],\n",
    "              'tipo': Table.loc[counter,'NotasTaxonomicas'],\n",
    "              'qualificador_atual': Table.loc[counter,'Qualificador_atual']\n",
    "              })\n",
    "    counter = counter+1\n",
    "\n",
    "    \n",
    "NewTable = pd.DataFrame(d)\n",
    "\n",
    "\n",
    "### collecting determined year (p.s.: being careful to keep NaNs as they show up)\n",
    "NewTable['ano_determinacao'] = np.nan\n",
    "\n",
    "d1 = []\n",
    "counter=0\n",
    "for row in Table['DataDaDeterminacao']:\n",
    "    try:  # if Determined Date1 is empty, keep it so \n",
    "        if np.isnan(row):\n",
    "            year= np.NAN\n",
    "    \n",
    "    except:\n",
    "        if not str(row).find('/')==-1:\n",
    "            dates_values = str(row).split(\"/\")\n",
    "            year = int(dates_values[-1])\n",
    "            month = int(dates_values[1])\n",
    "#            if (month>1) and (month<12):\n",
    "                #store the year and month in a datetime datatype for later sorting\n",
    "#                dateRecord = datetime.datetime(year,month,1)    \n",
    "    \n",
    "    NewTable.loc[counter, 'ano_determinacao'] = year\n",
    "    counter = counter+1\n",
    "\n",
    "    \n",
    "### collecting start year (p.s.: being careful to keep NaNs as they show up)  \n",
    "NewTable['ano_entrada'] = np.nan\n",
    "d1 = []\n",
    "counter=0\n",
    "for row in Table['DataDeEntrada']:\n",
    "    try:  # if Start Date is empty, keep it so \n",
    "        if np.isnan(row):\n",
    "            year= np.NAN\n",
    "    \n",
    "    except:\n",
    "        if not str(row).find('/')==-1:\n",
    "            dates_values = str(row).split(\"/\")\n",
    "            year = int(dates_values[-1])\n",
    "            month = int(dates_values[1])\n",
    "#            if (month>1) and (month<12):\n",
    "                #store the year and month in a datetime datatype for later sorting\n",
    "#                dateRecord = datetime.datetime(year,month,1)    \n",
    "\n",
    "    NewTable.loc[counter, 'ano_entrada'] = year\n",
    "    counter = counter+1\n",
    "\n",
    "# NewTable['determined_year'] = pd.Series(year, index=NewTable.index)\n",
    "NewTable.head(2)"
   ]
  },
  {
   "cell_type": "code",
   "execution_count": 24,
   "metadata": {
    "ExecuteTime": {
     "end_time": "2020-07-24T16:01:58.108452Z",
     "start_time": "2020-07-24T16:01:58.098165Z"
    }
   },
   "outputs": [
    {
     "name": "stdout",
     "output_type": "stream",
     "text": [
      "ano_entrada info is valid.\n"
     ]
    }
   ],
   "source": [
    "# checks if NaNs are in the same position \n",
    "result = (NewTable['ano_entrada'].isna() == repteis['DataDeEntrada'].isna()).sum() == NewTable.shape[0]\n",
    "\n",
    "if result:\n",
    "    print('ano_entrada info is valid.')\n",
    "else:\n",
    "    print(\"There's something wrong with NewTable. Check how you're collecting Start Year info.\")"
   ]
  },
  {
   "cell_type": "code",
   "execution_count": 25,
   "metadata": {
    "ExecuteTime": {
     "end_time": "2020-07-24T16:01:58.244759Z",
     "start_time": "2020-07-24T16:01:58.112567Z"
    }
   },
   "outputs": [],
   "source": [
    "# year in which the holotipo was \"firstly\" found \n",
    "#NewTable['holotipo_year'] = NewTable['species_author'].str.extract('(\\d+)')"
   ]
  },
  {
   "cell_type": "markdown",
   "metadata": {},
   "source": [
    "<br>\n",
    "\n",
    "### creating `years` columns in repteis"
   ]
  },
  {
   "cell_type": "code",
   "execution_count": 26,
   "metadata": {
    "ExecuteTime": {
     "end_time": "2020-07-24T16:01:58.344854Z",
     "start_time": "2020-07-24T16:01:58.249948Z"
    }
   },
   "outputs": [],
   "source": [
    "def catch_year(row):\n",
    "    if not str(row).find('/')==-1:\n",
    "        dates_values = str(row).split(\"/\")\n",
    "        year = int(dates_values[-1])\n",
    "        month = int(dates_values[1])\n",
    "        return year\n",
    "    else:\n",
    "        return np.NaN"
   ]
  },
  {
   "cell_type": "code",
   "execution_count": 27,
   "metadata": {
    "ExecuteTime": {
     "end_time": "2020-07-24T16:01:58.500623Z",
     "start_time": "2020-07-24T16:01:58.348822Z"
    }
   },
   "outputs": [],
   "source": [
    "repteis['ano_determinacao'] = repteis['DataDaDeterminacao'].apply(catch_year)\n",
    "repteis['ano_coleta'] = repteis['DataColetaInicial'].apply(catch_year)\n",
    "repteis['ano_entrada'] = repteis['DataDeEntrada'].apply(catch_year)"
   ]
  },
  {
   "cell_type": "markdown",
   "metadata": {},
   "source": [
    "<br>\n",
    "\n",
    "<font size=5>**Paleta de cores por Ordem**</font>\n",
    "\n",
    "Abaixo está a imagem usada como inspiração (https://color.adobe.com/create/image)\n",
    "\n",
    "<img src=\"./paleta_cores.jpeg\" width='500px'>\n",
    "\n",
    "Cores: \n",
    "\n",
    "- verde_escuro: #284021\n",
    "- verde_claro: #88BF11\n",
    "- amarelo: #D9CB0B\n",
    "- laranja: #D99311\n",
    "- laranja_escuro: #BF4417\n",
    "- marrom-_laro: #BF8D7A"
   ]
  },
  {
   "cell_type": "code",
   "execution_count": 28,
   "metadata": {
    "ExecuteTime": {
     "end_time": "2020-07-24T16:01:58.525669Z",
     "start_time": "2020-07-24T16:01:58.507359Z"
    }
   },
   "outputs": [],
   "source": [
    "# OBS: caudata é erro na base. Deve ser retirada. \n",
    "cores_ordem = {\n",
    "    'Squamata': '#BF4417',\n",
    "    'Testudines': '#D9CB0B', \n",
    "    'Crocodylia': '#284021'\n",
    "}"
   ]
  },
  {
   "cell_type": "code",
   "execution_count": 30,
   "metadata": {
    "ExecuteTime": {
     "end_time": "2020-07-24T16:03:31.414235Z",
     "start_time": "2020-07-24T16:03:31.408580Z"
    }
   },
   "outputs": [],
   "source": [
    "ordens = list(cores_ordem.keys())\n",
    "cores = list(cores_ordem.values())"
   ]
  },
  {
   "cell_type": "markdown",
   "metadata": {},
   "source": [
    "<br>\n",
    "\n",
    "\n",
    "## Graphs\n",
    "\n",
    "---\n",
    "\n",
    "### Types (*per year*) per genus\n",
    "\n",
    "x: Species1, cor: Type Status1, size: counts"
   ]
  },
  {
   "cell_type": "code",
   "execution_count": 58,
   "metadata": {
    "ExecuteTime": {
     "end_time": "2020-07-24T16:14:16.399938Z",
     "start_time": "2020-07-24T16:14:16.391334Z"
    }
   },
   "outputs": [
    {
     "data": {
      "text/plain": [
       "259"
      ]
     },
     "execution_count": 58,
     "metadata": {},
     "output_type": "execute_result"
    }
   ],
   "source": [
    "repteis['NotasTaxonomicas'].value_counts().sum()"
   ]
  },
  {
   "cell_type": "code",
   "execution_count": 59,
   "metadata": {
    "ExecuteTime": {
     "end_time": "2020-07-24T16:14:45.310697Z",
     "start_time": "2020-07-24T16:14:45.295946Z"
    }
   },
   "outputs": [
    {
     "data": {
      "text/plain": [
       "ano_coleta    16\n",
       "tipo           0\n",
       "dtype: int64"
      ]
     },
     "execution_count": 59,
     "metadata": {},
     "output_type": "execute_result"
    }
   ],
   "source": [
    "# só temos tipos preenchidos para 259 registros. Nesses casos, ainda há 16 sem ano de coleta...\n",
    "NewTable[~NewTable['tipo'].isna()][['ano_coleta', 'tipo']].isna().sum()"
   ]
  },
  {
   "cell_type": "code",
   "execution_count": 33,
   "metadata": {
    "ExecuteTime": {
     "end_time": "2020-07-24T16:06:08.312383Z",
     "start_time": "2020-07-24T16:06:08.298940Z"
    }
   },
   "outputs": [],
   "source": [
    "teste = NewTable[['altitude','familia','ordem', 'ano_coleta', 'qualificador_atual', 'numero_catalogo', \n",
    "                  'genero_atual', 'especie_atual', 'subespecie_atual', 'tipo']].copy()"
   ]
  },
  {
   "cell_type": "code",
   "execution_count": 96,
   "metadata": {
    "ExecuteTime": {
     "end_time": "2020-07-24T16:56:08.696996Z",
     "start_time": "2020-07-24T16:56:08.651553Z"
    }
   },
   "outputs": [],
   "source": [
    "temp = teste.groupby(['tipo','ano_coleta', 'ordem']).count()['familia'].reset_index().rename(columns={\n",
    "    'familia':'counts'\n",
    "})"
   ]
  },
  {
   "cell_type": "code",
   "execution_count": 104,
   "metadata": {
    "ExecuteTime": {
     "end_time": "2020-07-24T16:57:28.438961Z",
     "start_time": "2020-07-24T16:57:28.430150Z"
    }
   },
   "outputs": [
    {
     "data": {
      "text/plain": [
       "True"
      ]
     },
     "execution_count": 104,
     "metadata": {},
     "output_type": "execute_result"
    }
   ],
   "source": [
    "## 16 registros de tipo não tem ano de coleta registrado\n",
    "teste['tipo'].value_counts().sum() - 16 == temp['counts'].sum()"
   ]
  },
  {
   "cell_type": "markdown",
   "metadata": {},
   "source": [
    "243 info. de tipos"
   ]
  },
  {
   "cell_type": "markdown",
   "metadata": {},
   "source": [
    "### Gráf. de Tipos"
   ]
  },
  {
   "cell_type": "code",
   "execution_count": 119,
   "metadata": {
    "ExecuteTime": {
     "end_time": "2020-07-24T17:11:56.183282Z",
     "start_time": "2020-07-24T17:11:56.149910Z"
    }
   },
   "outputs": [
    {
     "data": {
      "text/html": [
       "\n",
       "<div id=\"altair-viz-b091d6966f5749d7b4b5be9c63b9fc71\"></div>\n",
       "<script type=\"text/javascript\">\n",
       "  (function(spec, embedOpt){\n",
       "    let outputDiv = document.currentScript.previousElementSibling;\n",
       "    if (outputDiv.id !== \"altair-viz-b091d6966f5749d7b4b5be9c63b9fc71\") {\n",
       "      outputDiv = document.getElementById(\"altair-viz-b091d6966f5749d7b4b5be9c63b9fc71\");\n",
       "    }\n",
       "    const paths = {\n",
       "      \"vega\": \"https://cdn.jsdelivr.net/npm//vega@5?noext\",\n",
       "      \"vega-lib\": \"https://cdn.jsdelivr.net/npm//vega-lib?noext\",\n",
       "      \"vega-lite\": \"https://cdn.jsdelivr.net/npm//vega-lite@4.8.1?noext\",\n",
       "      \"vega-embed\": \"https://cdn.jsdelivr.net/npm//vega-embed@6?noext\",\n",
       "    };\n",
       "\n",
       "    function loadScript(lib) {\n",
       "      return new Promise(function(resolve, reject) {\n",
       "        var s = document.createElement('script');\n",
       "        s.src = paths[lib];\n",
       "        s.async = true;\n",
       "        s.onload = () => resolve(paths[lib]);\n",
       "        s.onerror = () => reject(`Error loading script: ${paths[lib]}`);\n",
       "        document.getElementsByTagName(\"head\")[0].appendChild(s);\n",
       "      });\n",
       "    }\n",
       "\n",
       "    function showError(err) {\n",
       "      outputDiv.innerHTML = `<div class=\"error\" style=\"color:red;\">${err}</div>`;\n",
       "      throw err;\n",
       "    }\n",
       "\n",
       "    function displayChart(vegaEmbed) {\n",
       "      vegaEmbed(outputDiv, spec, embedOpt)\n",
       "        .catch(err => showError(`Javascript Error: ${err.message}<br>This usually means there's a typo in your chart specification. See the javascript console for the full traceback.`));\n",
       "    }\n",
       "\n",
       "    if(typeof define === \"function\" && define.amd) {\n",
       "      requirejs.config({paths});\n",
       "      require([\"vega-embed\"], displayChart, err => showError(`Error loading script: ${err.message}`));\n",
       "    } else if (typeof vegaEmbed === \"function\") {\n",
       "      displayChart(vegaEmbed);\n",
       "    } else {\n",
       "      loadScript(\"vega\")\n",
       "        .then(() => loadScript(\"vega-lite\"))\n",
       "        .then(() => loadScript(\"vega-embed\"))\n",
       "        .catch(showError)\n",
       "        .then(() => displayChart(vegaEmbed));\n",
       "    }\n",
       "  })({\"config\": {\"view\": {\"continuousWidth\": 400, \"continuousHeight\": 300}}, \"data\": {\"name\": \"data-b2e23489bd77ae13d2758e8498d1685f\"}, \"mark\": \"circle\", \"encoding\": {\"color\": {\"type\": \"nominal\", \"field\": \"ordem\", \"scale\": {\"domain\": [\"Squamata\", \"Testudines\", \"Crocodylia\"], \"range\": [\"#BF4417\", \"#D9CB0B\", \"#284021\"]}, \"title\": \"order\"}, \"size\": {\"type\": \"quantitative\", \"field\": \"counts\", \"scale\": {}}, \"tooltip\": [{\"type\": \"nominal\", \"field\": \"tipo\"}, {\"type\": \"quantitative\", \"field\": \"ano_coleta\"}, {\"type\": \"quantitative\", \"field\": \"counts\"}], \"x\": {\"type\": \"ordinal\", \"field\": \"ano_coleta\", \"title\": \"collected year\"}, \"y\": {\"type\": \"nominal\", \"field\": \"tipo\", \"sort\": {\"field\": \"tipo\", \"op\": \"count\", \"order\": \"descending\"}, \"title\": \"type\"}}, \"height\": 150, \"title\": \"Types per year\", \"$schema\": \"https://vega.github.io/schema/vega-lite/v4.8.1.json\", \"datasets\": {\"data-b2e23489bd77ae13d2758e8498d1685f\": [{\"tipo\": \"C\\u00f3tipo\", \"ano_coleta\": 1941.0, \"ordem\": \"Squamata\", \"counts\": 2}, {\"tipo\": \"Hol\\u00f3tipo\", \"ano_coleta\": 1957.0, \"ordem\": \"Squamata\", \"counts\": 1}, {\"tipo\": \"Hol\\u00f3tipo\", \"ano_coleta\": 1964.0, \"ordem\": \"Squamata\", \"counts\": 1}, {\"tipo\": \"Hol\\u00f3tipo\", \"ano_coleta\": 1985.0, \"ordem\": \"Squamata\", \"counts\": 1}, {\"tipo\": \"Hol\\u00f3tipo\", \"ano_coleta\": 1988.0, \"ordem\": \"Squamata\", \"counts\": 2}, {\"tipo\": \"Hol\\u00f3tipo\", \"ano_coleta\": 1989.0, \"ordem\": \"Squamata\", \"counts\": 1}, {\"tipo\": \"Hol\\u00f3tipo\", \"ano_coleta\": 1990.0, \"ordem\": \"Squamata\", \"counts\": 1}, {\"tipo\": \"Hol\\u00f3tipo\", \"ano_coleta\": 1991.0, \"ordem\": \"Squamata\", \"counts\": 1}, {\"tipo\": \"Hol\\u00f3tipo\", \"ano_coleta\": 1994.0, \"ordem\": \"Squamata\", \"counts\": 1}, {\"tipo\": \"Hol\\u00f3tipo\", \"ano_coleta\": 1995.0, \"ordem\": \"Squamata\", \"counts\": 3}, {\"tipo\": \"Hol\\u00f3tipo\", \"ano_coleta\": 1997.0, \"ordem\": \"Squamata\", \"counts\": 1}, {\"tipo\": \"Hol\\u00f3tipo\", \"ano_coleta\": 1998.0, \"ordem\": \"Squamata\", \"counts\": 2}, {\"tipo\": \"Hol\\u00f3tipo\", \"ano_coleta\": 2000.0, \"ordem\": \"Squamata\", \"counts\": 1}, {\"tipo\": \"Hol\\u00f3tipo\", \"ano_coleta\": 2005.0, \"ordem\": \"Squamata\", \"counts\": 1}, {\"tipo\": \"Hol\\u00f3tipo\", \"ano_coleta\": 2006.0, \"ordem\": \"Squamata\", \"counts\": 3}, {\"tipo\": \"Hol\\u00f3tipo\", \"ano_coleta\": 2007.0, \"ordem\": \"Squamata\", \"counts\": 1}, {\"tipo\": \"Hol\\u00f3tipo\", \"ano_coleta\": 2008.0, \"ordem\": \"Squamata\", \"counts\": 3}, {\"tipo\": \"Hol\\u00f3tipo\", \"ano_coleta\": 2009.0, \"ordem\": \"Squamata\", \"counts\": 1}, {\"tipo\": \"Hol\\u00f3tipo\", \"ano_coleta\": 2009.0, \"ordem\": \"Testudines\", \"counts\": 1}, {\"tipo\": \"Hol\\u00f3tipo\", \"ano_coleta\": 2012.0, \"ordem\": \"Squamata\", \"counts\": 1}, {\"tipo\": \"Lect\\u00f3tipo\", \"ano_coleta\": 1937.0, \"ordem\": \"Squamata\", \"counts\": 1}, {\"tipo\": \"Par\\u00e1tipo\", \"ano_coleta\": 1947.0, \"ordem\": \"Squamata\", \"counts\": 1}, {\"tipo\": \"Par\\u00e1tipo\", \"ano_coleta\": 1956.0, \"ordem\": \"Squamata\", \"counts\": 2}, {\"tipo\": \"Par\\u00e1tipo\", \"ano_coleta\": 1981.0, \"ordem\": \"Squamata\", \"counts\": 1}, {\"tipo\": \"Par\\u00e1tipo\", \"ano_coleta\": 1984.0, \"ordem\": \"Squamata\", \"counts\": 1}, {\"tipo\": \"Par\\u00e1tipo\", \"ano_coleta\": 1985.0, \"ordem\": \"Squamata\", \"counts\": 9}, {\"tipo\": \"Par\\u00e1tipo\", \"ano_coleta\": 1986.0, \"ordem\": \"Squamata\", \"counts\": 2}, {\"tipo\": \"Par\\u00e1tipo\", \"ano_coleta\": 1987.0, \"ordem\": \"Squamata\", \"counts\": 2}, {\"tipo\": \"Par\\u00e1tipo\", \"ano_coleta\": 1988.0, \"ordem\": \"Squamata\", \"counts\": 2}, {\"tipo\": \"Par\\u00e1tipo\", \"ano_coleta\": 1989.0, \"ordem\": \"Squamata\", \"counts\": 4}, {\"tipo\": \"Par\\u00e1tipo\", \"ano_coleta\": 1990.0, \"ordem\": \"#n/d\", \"counts\": 1}, {\"tipo\": \"Par\\u00e1tipo\", \"ano_coleta\": 1990.0, \"ordem\": \"Squamata\", \"counts\": 3}, {\"tipo\": \"Par\\u00e1tipo\", \"ano_coleta\": 1991.0, \"ordem\": \"Squamata\", \"counts\": 11}, {\"tipo\": \"Par\\u00e1tipo\", \"ano_coleta\": 1992.0, \"ordem\": \"Squamata\", \"counts\": 1}, {\"tipo\": \"Par\\u00e1tipo\", \"ano_coleta\": 1993.0, \"ordem\": \"Squamata\", \"counts\": 16}, {\"tipo\": \"Par\\u00e1tipo\", \"ano_coleta\": 1994.0, \"ordem\": \"Squamata\", \"counts\": 7}, {\"tipo\": \"Par\\u00e1tipo\", \"ano_coleta\": 1995.0, \"ordem\": \"Squamata\", \"counts\": 7}, {\"tipo\": \"Par\\u00e1tipo\", \"ano_coleta\": 1997.0, \"ordem\": \"Squamata\", \"counts\": 9}, {\"tipo\": \"Par\\u00e1tipo\", \"ano_coleta\": 1998.0, \"ordem\": \"Squamata\", \"counts\": 40}, {\"tipo\": \"Par\\u00e1tipo\", \"ano_coleta\": 1999.0, \"ordem\": \"Squamata\", \"counts\": 1}, {\"tipo\": \"Par\\u00e1tipo\", \"ano_coleta\": 2000.0, \"ordem\": \"Squamata\", \"counts\": 33}, {\"tipo\": \"Par\\u00e1tipo\", \"ano_coleta\": 2001.0, \"ordem\": \"Squamata\", \"counts\": 4}, {\"tipo\": \"Par\\u00e1tipo\", \"ano_coleta\": 2002.0, \"ordem\": \"Squamata\", \"counts\": 4}, {\"tipo\": \"Par\\u00e1tipo\", \"ano_coleta\": 2004.0, \"ordem\": \"Squamata\", \"counts\": 1}, {\"tipo\": \"Par\\u00e1tipo\", \"ano_coleta\": 2006.0, \"ordem\": \"Squamata\", \"counts\": 2}, {\"tipo\": \"Par\\u00e1tipo\", \"ano_coleta\": 2007.0, \"ordem\": \"Squamata\", \"counts\": 3}, {\"tipo\": \"Par\\u00e1tipo\", \"ano_coleta\": 2008.0, \"ordem\": \"Squamata\", \"counts\": 18}, {\"tipo\": \"Par\\u00e1tipo\", \"ano_coleta\": 2008.0, \"ordem\": \"Testudines\", \"counts\": 7}, {\"tipo\": \"Par\\u00e1tipo\", \"ano_coleta\": 2009.0, \"ordem\": \"Squamata\", \"counts\": 4}, {\"tipo\": \"Par\\u00e1tipo\", \"ano_coleta\": 2009.0, \"ordem\": \"Testudines\", \"counts\": 2}, {\"tipo\": \"Par\\u00e1tipo\", \"ano_coleta\": 2011.0, \"ordem\": \"Testudines\", \"counts\": 2}, {\"tipo\": \"Par\\u00e1tipo\", \"ano_coleta\": 2012.0, \"ordem\": \"Squamata\", \"counts\": 9}, {\"tipo\": \"Par\\u00e1tipo\", \"ano_coleta\": 2013.0, \"ordem\": \"Squamata\", \"counts\": 3}, {\"tipo\": \"Par\\u00e1tipo\", \"ano_coleta\": 2014.0, \"ordem\": \"Squamata\", \"counts\": 1}]}}, {\"mode\": \"vega-lite\"});\n",
       "</script>"
      ],
      "text/plain": [
       "alt.Chart(...)"
      ]
     },
     "execution_count": 119,
     "metadata": {},
     "output_type": "execute_result"
    }
   ],
   "source": [
    "# teste[(~teste['tipo'].isna()) & (teste['tipo'] != 'Topótipo')]\n",
    "tipo = alt.Chart(temp, height=150, title='Types per year').mark_circle().encode(\n",
    "    x = alt.X('ano_coleta:O', title='collected year'),\n",
    "    y = alt.Y('tipo:N', title= 'type',\n",
    "              sort=alt.EncodingSortField('tipo', op='count', order='descending')),\n",
    "    color= alt.Color('ordem', scale=alt.Scale(domain=ordens, range=cores), title='order'), \n",
    "    size= alt.Size('counts', scale=alt.Scale()),\n",
    "    tooltip= alt.Tooltip(['tipo', 'ano_coleta', 'counts'])\n",
    ")\n",
    "\n",
    "tipo.save('./graphs/tipo/tipos_por_ano.html')\n",
    "\n",
    "tipo"
   ]
  },
  {
   "cell_type": "markdown",
   "metadata": {},
   "source": [
    "<br>\n",
    "\n",
    "<font size='6'>Para a base de repteis acaba aqui, por enquanto </font>"
   ]
  },
  {
   "cell_type": "markdown",
   "metadata": {},
   "source": [
    "<br>\n",
    "\n",
    "#### defining some parameters"
   ]
  },
  {
   "cell_type": "code",
   "execution_count": 26,
   "metadata": {
    "ExecuteTime": {
     "end_time": "2020-03-12T00:04:15.647165Z",
     "start_time": "2020-03-12T00:04:15.542566Z"
    }
   },
   "outputs": [],
   "source": [
    "colors = ['#d62728', '#f58518', '#d95f02',\n",
    "          '#d62729', '#f58519', '#d95f03',\n",
    "          '#4daf4a', '#8c6d31',\n",
    "          '#79706e', '#bab0ac', '#d8b5a5'\n",
    "         ]\n",
    "\n",
    "types = ['Holotipo', 'Alotipo', 'Neotipo',\n",
    "          'Sintipo', 'Lectotipo', 'Paralectotipo',\n",
    "          'Paratipo', 'Topotipo', \n",
    "          'Tipo', 'Co-tipo', 'Material tipo'\n",
    "        ]\n",
    "\n",
    "opacities= [1, 1, 1,\n",
    "           0.4,0.4,0.4,\n",
    "           1,1,1,\n",
    "           1,1,1]\n",
    "\n",
    "# creating dictionary with type:color\n",
    "type_color = defaultdict()\n",
    "for t in range(len(types)):\n",
    "    type_color[types[t]] = colors[t] "
   ]
  },
  {
   "cell_type": "markdown",
   "metadata": {},
   "source": [
    "<br>\n",
    "\n",
    "### ordering per holotype year (year in which the holotype was discovered)"
   ]
  },
  {
   "cell_type": "code",
   "execution_count": 27,
   "metadata": {
    "ExecuteTime": {
     "end_time": "2020-03-12T00:04:15.902175Z",
     "start_time": "2020-03-12T00:04:15.649445Z"
    }
   },
   "outputs": [],
   "source": [
    "counts = teste1.groupby(['determiner_first_and_last_name', 'type_status','holotipo_year']).count()['class'].reset_index()\n",
    "counts.rename(columns={'class':'counts'}, inplace=True)"
   ]
  },
  {
   "cell_type": "code",
   "execution_count": 28,
   "metadata": {
    "ExecuteTime": {
     "end_time": "2020-03-12T00:04:15.977595Z",
     "start_time": "2020-03-12T00:04:15.903980Z"
    }
   },
   "outputs": [],
   "source": [
    "teste1 = pd.merge(teste1, counts, on=['determiner_first_and_last_name', 'type_status','holotipo_year'])"
   ]
  },
  {
   "cell_type": "code",
   "execution_count": 29,
   "metadata": {
    "ExecuteTime": {
     "end_time": "2020-03-12T00:04:16.092594Z",
     "start_time": "2020-03-12T00:04:15.982992Z"
    }
   },
   "outputs": [],
   "source": [
    "# sorting in subsample (again)\n",
    "temp = teste1[(~teste1['determiner_first_and_last_name'].isna()) & (~teste1['type_status'].isna())\n",
    "                      & (~teste1['start_year'].isna())].copy()\n",
    "\n",
    "teste1.sort_values(['holotipo_year','determiner_first_and_last_name', 'counts'], inplace=True)\n",
    "\n",
    "# names ordering for y axis\n",
    "names_ordering = list(\n",
    "    temp[~temp['determiner_first_and_last_name'].isna()]['determiner_first_and_last_name'].unique()\n",
    ")"
   ]
  },
  {
   "cell_type": "code",
   "execution_count": 30,
   "metadata": {
    "ExecuteTime": {
     "end_time": "2020-03-12T00:04:16.216770Z",
     "start_time": "2020-03-12T00:04:16.099085Z"
    }
   },
   "outputs": [],
   "source": [
    "holotipo = teste1[(teste1['type_status'] == 'Holotipo')].copy()  # filtering only holotype\n",
    "holotipo = holotipo[~holotipo['determiner_first_and_last_name'].isna()].copy()  # making sure names are \n",
    "#                                                                                nonempty...\n",
    "# sorting\n",
    "holotipo.sort_values('holotipo_year', inplace=True)\n",
    "\n",
    "# sorting per holotipo year\n",
    "names_ordering = list(holotipo['determiner_first_and_last_name'].values)\n",
    "\n",
    "temp = holotipo.groupby(['order','start_year']).count()['count'].reset_index()"
   ]
  },
  {
   "cell_type": "code",
   "execution_count": 32,
   "metadata": {
    "ExecuteTime": {
     "end_time": "2020-03-12T00:05:20.079181Z",
     "start_time": "2020-03-12T00:05:17.048876Z"
    }
   },
   "outputs": [
    {
     "data": {
      "application/javascript": [
       "const spec = {\"config\": {\"view\": {\"width\": 400, \"height\": 300}, \"mark\": {\"tooltip\": null}}, \"data\": {\"name\": \"data-dae727c4534cd133511fed91e119d04d\"}, \"mark\": {\"type\": \"circle\", \"color\": \"red\", \"size\": 60}, \"encoding\": {\"size\": {\"type\": \"quantitative\", \"field\": \"count\"}, \"x\": {\"type\": \"ordinal\", \"field\": \"start_year\", \"title\": \"Year\"}, \"y\": {\"type\": \"nominal\", \"field\": \"order\", \"sort\": {\"field\": \"count\", \"op\": \"max\", \"order\": \"descending\"}, \"title\": \"Order\"}}, \"height\": 400, \"title\": \"Number of holotypes of each order per year\", \"width\": 800, \"$schema\": \"https://vega.github.io/schema/vega-lite/v3.4.0.json\", \"datasets\": {\"data-dae727c4534cd133511fed91e119d04d\": [{\"order\": \"Amphipoda\", \"start_year\": 1967.0, \"count\": 1}, {\"order\": \"Amphipoda\", \"start_year\": 1968.0, \"count\": 1}, {\"order\": \"Amphipoda\", \"start_year\": 1969.0, \"count\": 1}, {\"order\": \"Amphipoda\", \"start_year\": 1977.0, \"count\": 1}, {\"order\": \"Amphipoda\", \"start_year\": 1981.0, \"count\": 1}, {\"order\": \"Amphipoda\", \"start_year\": 1983.0, \"count\": 1}, {\"order\": \"Amphipoda\", \"start_year\": 1985.0, \"count\": 1}, {\"order\": \"Amphipoda\", \"start_year\": 1987.0, \"count\": 2}, {\"order\": \"Amphipoda\", \"start_year\": 1988.0, \"count\": 1}, {\"order\": \"Amphipoda\", \"start_year\": 1989.0, \"count\": 2}, {\"order\": \"Amphipoda\", \"start_year\": 1994.0, \"count\": 3}, {\"order\": \"Amphipoda\", \"start_year\": 1995.0, \"count\": 3}, {\"order\": \"Amphipoda\", \"start_year\": 1996.0, \"count\": 1}, {\"order\": \"Amphipoda\", \"start_year\": 1997.0, \"count\": 3}, {\"order\": \"Amphipoda\", \"start_year\": 1998.0, \"count\": 3}, {\"order\": \"Amphipoda\", \"start_year\": 1999.0, \"count\": 1}, {\"order\": \"Amphipoda\", \"start_year\": 2000.0, \"count\": 8}, {\"order\": \"Amphipoda\", \"start_year\": 2001.0, \"count\": 5}, {\"order\": \"Amphipoda\", \"start_year\": 2002.0, \"count\": 11}, {\"order\": \"Amphipoda\", \"start_year\": 2003.0, \"count\": 14}, {\"order\": \"Amphipoda\", \"start_year\": 2005.0, \"count\": 1}, {\"order\": \"Amphipoda\", \"start_year\": 2006.0, \"count\": 2}, {\"order\": \"Amphipoda\", \"start_year\": 2008.0, \"count\": 1}, {\"order\": \"Amphipoda\", \"start_year\": 2009.0, \"count\": 2}, {\"order\": \"Anomopoda\", \"start_year\": 1998.0, \"count\": 1}, {\"order\": \"Anomopoda\", \"start_year\": 2001.0, \"count\": 1}, {\"order\": \"Anostraca\", \"start_year\": 1989.0, \"count\": 1}, {\"order\": \"Anostraca\", \"start_year\": 1993.0, \"count\": 1}, {\"order\": \"Arguloida\", \"start_year\": 1947.0, \"count\": 1}, {\"order\": \"Arguloida\", \"start_year\": 1948.0, \"count\": 1}, {\"order\": \"Cumacea\", \"start_year\": 1962.0, \"count\": 1}, {\"order\": \"Cumacea\", \"start_year\": 1963.0, \"count\": 1}, {\"order\": \"Cyclopoida\", \"start_year\": 1998.0, \"count\": 1}, {\"order\": \"Cyclopoida\", \"start_year\": 2013.0, \"count\": 1}, {\"order\": \"Cyclopoida\", \"start_year\": 2014.0, \"count\": 1}, {\"order\": \"Decapoda\", \"start_year\": 1964.0, \"count\": 1}, {\"order\": \"Decapoda\", \"start_year\": 1967.0, \"count\": 1}, {\"order\": \"Decapoda\", \"start_year\": 1972.0, \"count\": 1}, {\"order\": \"Decapoda\", \"start_year\": 1986.0, \"count\": 1}, {\"order\": \"Decapoda\", \"start_year\": 1987.0, \"count\": 4}, {\"order\": \"Decapoda\", \"start_year\": 2000.0, \"count\": 6}, {\"order\": \"Decapoda\", \"start_year\": 2008.0, \"count\": 1}, {\"order\": \"Isopoda\", \"start_year\": 1939.0, \"count\": 1}, {\"order\": \"Isopoda\", \"start_year\": 1944.0, \"count\": 1}, {\"order\": \"Isopoda\", \"start_year\": 1950.0, \"count\": 2}, {\"order\": \"Isopoda\", \"start_year\": 1951.0, \"count\": 2}, {\"order\": \"Isopoda\", \"start_year\": 1952.0, \"count\": 2}, {\"order\": \"Isopoda\", \"start_year\": 1953.0, \"count\": 1}, {\"order\": \"Isopoda\", \"start_year\": 1955.0, \"count\": 1}, {\"order\": \"Isopoda\", \"start_year\": 1956.0, \"count\": 2}, {\"order\": \"Isopoda\", \"start_year\": 1957.0, \"count\": 2}, {\"order\": \"Isopoda\", \"start_year\": 1958.0, \"count\": 1}, {\"order\": \"Isopoda\", \"start_year\": 1959.0, \"count\": 4}, {\"order\": \"Isopoda\", \"start_year\": 1961.0, \"count\": 2}, {\"order\": \"Isopoda\", \"start_year\": 1963.0, \"count\": 3}, {\"order\": \"Isopoda\", \"start_year\": 1964.0, \"count\": 6}, {\"order\": \"Isopoda\", \"start_year\": 1965.0, \"count\": 3}, {\"order\": \"Isopoda\", \"start_year\": 1966.0, \"count\": 3}, {\"order\": \"Isopoda\", \"start_year\": 1967.0, \"count\": 2}, {\"order\": \"Isopoda\", \"start_year\": 1970.0, \"count\": 1}, {\"order\": \"Isopoda\", \"start_year\": 1973.0, \"count\": 3}, {\"order\": \"Isopoda\", \"start_year\": 1974.0, \"count\": 1}, {\"order\": \"Isopoda\", \"start_year\": 1976.0, \"count\": 4}, {\"order\": \"Isopoda\", \"start_year\": 1979.0, \"count\": 1}, {\"order\": \"Isopoda\", \"start_year\": 1980.0, \"count\": 1}, {\"order\": \"Isopoda\", \"start_year\": 1983.0, \"count\": 1}, {\"order\": \"Isopoda\", \"start_year\": 1992.0, \"count\": 1}, {\"order\": \"Isopoda\", \"start_year\": 2000.0, \"count\": 1}, {\"order\": \"Isopoda\", \"start_year\": 2003.0, \"count\": 1}, {\"order\": \"Isopoda\", \"start_year\": 2004.0, \"count\": 1}, {\"order\": \"Isopoda\", \"start_year\": 2007.0, \"count\": 1}, {\"order\": \"Monstrilloida\", \"start_year\": 1993.0, \"count\": 1}, {\"order\": \"Monstrilloida\", \"start_year\": 1995.0, \"count\": 1}, {\"order\": \"Monstrilloida\", \"start_year\": 1999.0, \"count\": 2}, {\"order\": \"Podocopida\", \"start_year\": 1995.0, \"count\": 1}, {\"order\": \"Podocopida\", \"start_year\": 2000.0, \"count\": 2}, {\"order\": \"Poecilostomatoida\", \"start_year\": 2000.0, \"count\": 1}, {\"order\": \"Poecilostomatoida\", \"start_year\": 2001.0, \"count\": 1}, {\"order\": \"Poecilostomatoida\", \"start_year\": 2009.0, \"count\": 1}, {\"order\": \"Poecilostomatoida\", \"start_year\": 2015.0, \"count\": 1}, {\"order\": \"Siphonostomatoida\", \"start_year\": 1910.0, \"count\": 1}, {\"order\": \"Siphonostomatoida\", \"start_year\": 1991.0, \"count\": 1}, {\"order\": \"Siphonostomatoida\", \"start_year\": 1992.0, \"count\": 2}, {\"order\": \"Siphonostomatoida\", \"start_year\": 1994.0, \"count\": 10}, {\"order\": \"Siphonostomatoida\", \"start_year\": 1995.0, \"count\": 3}, {\"order\": \"Siphonostomatoida\", \"start_year\": 1996.0, \"count\": 2}, {\"order\": \"Siphonostomatoida\", \"start_year\": 1997.0, \"count\": 7}, {\"order\": \"Stomatopoda\", \"start_year\": 1944.0, \"count\": 1}, {\"order\": \"Tanaidacea\", \"start_year\": 1962.0, \"count\": 1}, {\"order\": \"Tanaidacea\", \"start_year\": 1969.0, \"count\": 3}, {\"order\": \"Tanaidacea\", \"start_year\": 1973.0, \"count\": 1}, {\"order\": \"Tanaidacea\", \"start_year\": 2002.0, \"count\": 1}, {\"order\": \"Tanaidacea\", \"start_year\": 2004.0, \"count\": 1}, {\"order\": \"Tanaidacea\", \"start_year\": 2009.0, \"count\": 4}, {\"order\": \"Thoracica\", \"start_year\": 1987.0, \"count\": 2}, {\"order\": \"Thoracica\", \"start_year\": 1997.0, \"count\": 1}, {\"order\": \"Thoracica\", \"start_year\": 2002.0, \"count\": 2}]}};\n",
       "const opt = {};\n",
       "const type = \"vega-lite\";\n",
       "const id = \"b6e3d735-9610-4f31-b99c-69a3c86ee347\";\n",
       "\n",
       "const output_area = this;\n",
       "\n",
       "require([\"nbextensions/jupyter-vega/index\"], function(vega) {\n",
       "  const target = document.createElement(\"div\");\n",
       "  target.id = id;\n",
       "  target.className = \"vega-embed\";\n",
       "\n",
       "  const style = document.createElement(\"style\");\n",
       "  style.textContent = [\n",
       "    \".vega-embed .error p {\",\n",
       "    \"  color: firebrick;\",\n",
       "    \"  font-size: 14px;\",\n",
       "    \"}\",\n",
       "  ].join(\"\\\\n\");\n",
       "\n",
       "  // element is a jQuery wrapped DOM element inside the output area\n",
       "  // see http://ipython.readthedocs.io/en/stable/api/generated/\\\n",
       "  // IPython.display.html#IPython.display.Javascript.__init__\n",
       "  element[0].appendChild(target);\n",
       "  element[0].appendChild(style);\n",
       "\n",
       "  vega.render(\"#\" + id, spec, type, opt, output_area);\n",
       "}, function (err) {\n",
       "  if (err.requireType !== \"scripterror\") {\n",
       "    throw(err);\n",
       "  }\n",
       "});\n"
      ],
      "text/plain": [
       "<vega.vegalite.VegaLite at 0x7f593cd7fe50>"
      ]
     },
     "metadata": {
      "jupyter-vega": "#b6e3d735-9610-4f31-b99c-69a3c86ee347"
     },
     "output_type": "display_data"
    },
    {
     "data": {
      "image/png": "[encoded data removed]"
     },
     "metadata": {
      "jupyter-vega": "#b6e3d735-9610-4f31-b99c-69a3c86ee347"
     },
     "output_type": "display_data"
    },
    {
     "data": {
      "text/plain": []
     },
     "execution_count": 32,
     "metadata": {},
     "output_type": "execute_result"
    }
   ],
   "source": [
    "g1 = alt.Chart(temp[temp['order'] != 'Nan'],\n",
    "               width=800, height=400, title='Number of holotypes of each order per year').mark_circle(size=60,\n",
    "                                                                                color='red').encode(\n",
    "    x= alt.X('start_year', type='ordinal', title='Year'),\n",
    "    y= alt.Y('order', type='nominal', title='Order',\n",
    "            sort= alt.EncodingSortField(field='count', op='max', order='descending')),\n",
    "    size = alt.Size('count'),\n",
    ")\n",
    "\n",
    "# saving graph\n",
    "# g1.save(f'./types/counts_per_year/holotypes_per_order.svg')\n",
    "# g1.save(f'./types/counts_per_year/holotypes_per_order.png')\n",
    "# g1.save(f'./types/counts_per_year/holotypes_per_order.html')\n",
    "\n",
    "g1"
   ]
  },
  {
   "cell_type": "markdown",
   "metadata": {},
   "source": [
    "### separating and grouping types"
   ]
  },
  {
   "cell_type": "code",
   "execution_count": 31,
   "metadata": {
    "ExecuteTime": {
     "end_time": "2020-03-02T16:11:36.106250Z",
     "start_time": "2020-03-02T16:11:35.972614Z"
    }
   },
   "outputs": [],
   "source": [
    "types = teste1['type_status'].unique()\n",
    "\n",
    "group_types = []\n",
    "for t in types:\n",
    "    if t not in ['Holotipo', 'Alotipo', 'Paratipo']:\n",
    "        group_types.append(t)"
   ]
  },
  {
   "cell_type": "code",
   "execution_count": 32,
   "metadata": {
    "ExecuteTime": {
     "end_time": "2020-03-02T16:11:36.296420Z",
     "start_time": "2020-03-02T16:11:36.108144Z"
    }
   },
   "outputs": [],
   "source": [
    "# replicating for ALL types\n",
    "for t in ['Holotipo', 'Alotipo', 'Paratipo']:\n",
    "    # preparing data\n",
    "    temp1 = teste1[(teste1['type_status'] == t)].copy()                   # filtering only holotype\n",
    "    temp = temp1[~temp1['determiner_first_and_last_name'].isna()].copy()  # making sure names are \n",
    "                                                                          # nonempty...\n",
    "    # sorting\n",
    "    temp.sort_values('holotipo_year', inplace=True)\n",
    "\n",
    "    # sorting per holotipo year\n",
    "    names_ordering = list(temp['determiner_first_and_last_name'].values)\n",
    "    \n",
    "    # grouping and counting per order and year\n",
    "    temp = temp.groupby(['order','start_year']).count()['count'].reset_index()\n",
    "\n",
    "    ### Chart\n",
    "    g1 = alt.Chart(temp[temp['order'] != 'Nan'],\n",
    "                   width=800, height=400, title=f'Number of {t} of each order per year').mark_circle(size=60,\n",
    "                                                                     color=f'{type_color[t]}').encode(\n",
    "        x= alt.X('start_year', type='ordinal', title='Year'),\n",
    "        y= alt.Y('order', type='nominal', title='Order',\n",
    "                sort= alt.EncodingSortField(field='count', op='max', order='descending')),\n",
    "        size = alt.Size('count'),\n",
    "    #     color= alt.Color('holotipo_year', type='quantitative', scale= alt.Scale(scheme='reds')), \n",
    "    #     opacity= alt.Opacity(scale= alt.Scale(domain=types,range=opacities), type='quantitative')\n",
    "    #     size=alt.Size('depth')\n",
    "    )\n",
    "\n",
    "    # saving graph\n",
    "#     g1.save(f'./types/counts_per_year/{t}_per_order.svg')\n",
    "#     g1.save(f'./types/counts_per_year/{t}_per_order.png')\n",
    "#     g1.save(f'./types/counts_per_year/{t}_per_order.html')\n",
    "\n",
    "# g1"
   ]
  },
  {
   "cell_type": "markdown",
   "metadata": {},
   "source": [
    "<br>\n",
    "\n",
    "#### graph of other types"
   ]
  },
  {
   "cell_type": "code",
   "execution_count": 33,
   "metadata": {
    "ExecuteTime": {
     "end_time": "2020-03-02T16:11:36.375639Z",
     "start_time": "2020-03-02T16:11:36.298455Z"
    }
   },
   "outputs": [],
   "source": [
    "t = teste1['order'].unique()"
   ]
  },
  {
   "cell_type": "code",
   "execution_count": 34,
   "metadata": {
    "ExecuteTime": {
     "end_time": "2020-03-02T16:11:36.485024Z",
     "start_time": "2020-03-02T16:11:36.377682Z"
    }
   },
   "outputs": [],
   "source": [
    "temp = teste1[(teste1['order'] != 'Nan') & (teste1['type_status'].isin(group_types))]\n",
    "temp = temp.groupby(['order','start_year','type_status']).count()['count'].reset_index()"
   ]
  },
  {
   "cell_type": "code",
   "execution_count": 36,
   "metadata": {
    "ExecuteTime": {
     "end_time": "2020-03-02T16:12:23.770407Z",
     "start_time": "2020-03-02T16:12:23.767218Z"
    }
   },
   "outputs": [],
   "source": [
    "colors = ['']"
   ]
  },
  {
   "cell_type": "markdown",
   "metadata": {},
   "source": [
    "<font color='red' size='5'>**p.s.:** temporary adjustment!!!! </font>\n",
    "\n",
    "I'm grouping (replacing) `Material tipo` and `co-tipo` in (for) `tipo`."
   ]
  },
  {
   "cell_type": "code",
   "execution_count": 53,
   "metadata": {
    "ExecuteTime": {
     "end_time": "2020-03-02T16:19:47.635814Z",
     "start_time": "2020-03-02T16:19:47.623351Z"
    }
   },
   "outputs": [],
   "source": [
    "temp['type_status'] = temp['type_status'].str.replace('Material tipo', 'Tipo')\n",
    "temp['type_status'] = temp['type_status'].str.replace('Topotipo', 'Tipo')\n",
    "temp['type_status'] = temp['type_status'].str.replace('Co-tipo', 'Tipo')"
   ]
  },
  {
   "cell_type": "markdown",
   "metadata": {},
   "source": [
    "**graph**"
   ]
  },
  {
   "cell_type": "code",
   "execution_count": 55,
   "metadata": {
    "ExecuteTime": {
     "end_time": "2020-03-02T16:21:07.191895Z",
     "start_time": "2020-03-02T16:20:53.513090Z"
    }
   },
   "outputs": [
    {
     "data": {
      "application/javascript": [
       "const spec = {\"config\": {\"view\": {\"width\": 400, \"height\": 300}, \"mark\": {\"tooltip\": null}}, \"data\": {\"name\": \"data-85f2f6e6476e527c081046312e0465a9\"}, \"mark\": {\"type\": \"circle\", \"size\": 60}, \"encoding\": {\"color\": {\"type\": \"nominal\", \"field\": \"type_status\", \"scale\": {\"domain\": [\"Tipo\", \"Lectotipo\", \"Paralectotipo\", \"Sintipo\", \"Neotipo\"], \"range\": [\"#79706e\", \"#f58519\", \"#d95f03\", \"#d62729\", \"#d95f02\"]}, \"title\": \"type\"}, \"size\": {\"type\": \"quantitative\", \"field\": \"count\", \"scale\": {\"type\": \"bin-ordinal\"}}, \"x\": {\"type\": \"ordinal\", \"field\": \"start_year\", \"title\": \"Year\"}, \"y\": {\"type\": \"nominal\", \"field\": \"order\", \"sort\": {\"field\": \"count\", \"op\": \"max\", \"order\": \"descending\"}, \"title\": \"Order\"}}, \"height\": 400, \"title\": \"Number of types of each order per year\", \"width\": 800, \"$schema\": \"https://vega.github.io/schema/vega-lite/v3.4.0.json\", \"datasets\": {\"data-85f2f6e6476e527c081046312e0465a9\": [{\"order\": \"Amphipoda\", \"start_year\": 2000.0, \"type_status\": \"Tipo\", \"count\": 1}, {\"order\": \"Amphipoda\", \"start_year\": 2005.0, \"type_status\": \"Tipo\", \"count\": 1}, {\"order\": \"Decapoda\", \"start_year\": 1903.0, \"type_status\": \"Lectotipo\", \"count\": 1}, {\"order\": \"Decapoda\", \"start_year\": 1903.0, \"type_status\": \"Paralectotipo\", \"count\": 3}, {\"order\": \"Decapoda\", \"start_year\": 1965.0, \"type_status\": \"Sintipo\", \"count\": 2}, {\"order\": \"Decapoda\", \"start_year\": 1986.0, \"type_status\": \"Tipo\", \"count\": 1}, {\"order\": \"Isopoda\", \"start_year\": 1948.0, \"type_status\": \"Neotipo\", \"count\": 1}, {\"order\": \"Isopoda\", \"start_year\": 1952.0, \"type_status\": \"Sintipo\", \"count\": 1}, {\"order\": \"Isopoda\", \"start_year\": 1953.0, \"type_status\": \"Neotipo\", \"count\": 1}, {\"order\": \"Isopoda\", \"start_year\": 1964.0, \"type_status\": \"Sintipo\", \"count\": 1}, {\"order\": \"Isopoda\", \"start_year\": 1971.0, \"type_status\": \"Neotipo\", \"count\": 1}, {\"order\": \"Isopoda\", \"start_year\": 1973.0, \"type_status\": \"Tipo\", \"count\": 1}, {\"order\": \"Isopoda\", \"start_year\": 1988.0, \"type_status\": \"Lectotipo\", \"count\": 1}, {\"order\": \"Stomatopoda\", \"start_year\": 1903.0, \"type_status\": \"Tipo\", \"count\": 1}, {\"order\": \"Stomatopoda\", \"start_year\": 2001.0, \"type_status\": \"Neotipo\", \"count\": 1}]}};\n",
       "const opt = {};\n",
       "const type = \"vega-lite\";\n",
       "const id = \"fdd037a2-14a2-473d-9162-f512f204879b\";\n",
       "\n",
       "const output_area = this;\n",
       "\n",
       "require([\"nbextensions/jupyter-vega/index\"], function(vega) {\n",
       "  const target = document.createElement(\"div\");\n",
       "  target.id = id;\n",
       "  target.className = \"vega-embed\";\n",
       "\n",
       "  const style = document.createElement(\"style\");\n",
       "  style.textContent = [\n",
       "    \".vega-embed .error p {\",\n",
       "    \"  color: firebrick;\",\n",
       "    \"  font-size: 14px;\",\n",
       "    \"}\",\n",
       "  ].join(\"\\\\n\");\n",
       "\n",
       "  // element is a jQuery wrapped DOM element inside the output area\n",
       "  // see http://ipython.readthedocs.io/en/stable/api/generated/\\\n",
       "  // IPython.display.html#IPython.display.Javascript.__init__\n",
       "  element[0].appendChild(target);\n",
       "  element[0].appendChild(style);\n",
       "\n",
       "  vega.render(\"#\" + id, spec, type, opt, output_area);\n",
       "}, function (err) {\n",
       "  if (err.requireType !== \"scripterror\") {\n",
       "    throw(err);\n",
       "  }\n",
       "});\n"
      ],
      "text/plain": [
       "<vega.vegalite.VegaLite at 0x7f499dc7ec10>"
      ]
     },
     "metadata": {
      "jupyter-vega": "#fdd037a2-14a2-473d-9162-f512f204879b"
     },
     "output_type": "display_data"
    },
    {
     "data": {
      "image/png": "[encoded data removed]"
     },
     "metadata": {
      "jupyter-vega": "#fdd037a2-14a2-473d-9162-f512f204879b"
     },
     "output_type": "display_data"
    },
    {
     "data": {
      "text/plain": []
     },
     "execution_count": 55,
     "metadata": {},
     "output_type": "execute_result"
    }
   ],
   "source": [
    "# making graph for other types (group_types)\n",
    "g1 = alt.Chart(temp,\n",
    "               width=800, height=400, title='Number of types of each order per year').mark_circle(\n",
    "                                                                                size=60).encode(\n",
    "    x= alt.X('start_year', type='ordinal', title='Year'),\n",
    "    y= alt.Y('order', type='nominal', title='Order',\n",
    "            sort= alt.EncodingSortField(field='count', op='max', order='descending')),\n",
    "    color= alt.Color('type_status', title='type',\n",
    "                     scale= alt.Scale(domain= list(temp['type_status'].unique()),\n",
    "                                      range=[type_color[t] for t in list(temp['type_status'].unique())])),\n",
    "    size = alt.Size('count', type='quantitative', scale = alt.Scale(type='bin-ordinal')),\n",
    ")\n",
    "\n",
    "# saving graph\n",
    "# g1.save(f'./types/counts_per_year/other-types_per_order.svg')\n",
    "# g1.save(f'./types/counts_per_year/other-types_per_order.png')\n",
    "# g1.save(f'./types/counts_per_year/other-types_per_order.html')\n",
    "\n",
    "g1"
   ]
  },
  {
   "cell_type": "markdown",
   "metadata": {},
   "source": [
    "<br>\n",
    "\n",
    "## New proposal\n",
    "\n",
    "compare: Year in which the holotype was discovered v.s. Year in which it was firstly cataloged in the Museum"
   ]
  },
  {
   "cell_type": "code",
   "execution_count": 52,
   "metadata": {
    "ExecuteTime": {
     "end_time": "2020-02-18T21:00:10.754935Z",
     "start_time": "2020-02-18T21:00:06.771791Z"
    }
   },
   "outputs": [
    {
     "data": {
      "application/javascript": [
       "const spec = {\"config\": {\"view\": {\"width\": 400, \"height\": 300}, \"mark\": {\"tooltip\": null}}, \"data\": {\"name\": \"data-fd8fe646c18dbd98fe40691b24b806d3\"}, \"mark\": {\"type\": \"circle\", \"size\": 60}, \"encoding\": {\"color\": {\"type\": \"nominal\", \"field\": \"order\", \"scale\": {\"scheme\": \"reds\"}}, \"tooltip\": [{\"type\": \"nominal\", \"field\": \"holotipo_year\"}, {\"type\": \"quantitative\", \"field\": \"start_year\"}], \"x\": {\"type\": \"ordinal\", \"field\": \"start_year\", \"title\": \"Discovered Year\"}, \"y\": {\"type\": \"ordinal\", \"field\": \"holotipo_year\", \"sort\": {\"field\": \"holotipo_year\", \"order\": \"descending\"}, \"title\": \"Start Year\"}}, \"height\": 500, \"title\": \"Holotypes discovered and determined years\", \"width\": 600, \"$schema\": \"https://vega.github.io/schema/vega-lite/v3.4.0.json\", \"datasets\": {\"data-fd8fe646c18dbd98fe40691b24b806d3\": [{\"cataloged_year\": 2000, \"count\": \"1\", \"class\": \"Malacostraca\", \"kingdom\": \"Animalia\", \"genus\": \"Symethis\", \"species\": \"Variolosa\", \"genus_and_species\": \"Symethis variolosa\", \"type_status\": \"Holotipo\", \"determiner_first_and_last_name\": \"Gustavo Melo\", \"determiner_first_name\": \"Gustavo\", \"determiner_last_name\": \"Melo\", \"depth\": \"0\", \"species_author\": \"(Fabricius, 1793)\", \"order\": \"Amphipoda\", \"suborder\": \"Nan\", \"infraorder\": \"Nan\", \"superfamily\": \"Nan\", \"family\": \"Raninidae\", \"subfamily\": \"Ranininae\", \"tribe\": \"Raninini\", \"determined_year\": null, \"start_year\": 1981.0, \"holotipo_year\": \"1793\", \"counts_x\": 1, \"counts_y\": 1, \"counts\": 1}, {\"cataloged_year\": 2017, \"count\": \"1\", \"class\": \"Malacostraca\", \"kingdom\": \"Animalia\", \"genus\": \"Pseudione\", \"species\": \"Serejoae\", \"genus_and_species\": \"Pseudione serejoae\", \"type_status\": \"Holotipo\", \"determiner_first_and_last_name\": \"Ayrton Brito\", \"determiner_first_name\": \"Ayrton\", \"determiner_last_name\": \"Brito\", \"depth\": \"1127\", \"species_author\": \"Rafinesque, 1815\", \"order\": \"Isopoda\", \"suborder\": \"Cymothoida\", \"infraorder\": \"Epicaridea\", \"superfamily\": \"Bopyroidea\", \"family\": \"Bopyridae\", \"subfamily\": \"Pseudioninae\", \"tribe\": \"Nan\", \"determined_year\": null, \"start_year\": 2003.0, \"holotipo_year\": \"1815\", \"counts_x\": 1, \"counts_y\": 1, \"counts\": 1}, {\"cataloged_year\": 2006, \"count\": \"24\", \"class\": \"Malacostraca\", \"kingdom\": \"Animalia\", \"genus\": \"Ilyocryptus\", \"species\": \"Spinifer\", \"genus_and_species\": \"Ilyocryptus spinifer\", \"type_status\": \"Holotipo\", \"determiner_first_and_last_name\": \"Lourdes Loureiro\", \"determiner_first_name\": \"Lourdes\", \"determiner_last_name\": \"Loureiro\", \"depth\": \"0\", \"species_author\": \"Herrick, 1882\", \"order\": \"Anomopoda\", \"suborder\": \"Nan\", \"infraorder\": \"Nan\", \"superfamily\": \"Nan\", \"family\": \"Ilyocryptidae\", \"subfamily\": \"Llyocryptinae\", \"tribe\": \"Llyocryptini\", \"determined_year\": null, \"start_year\": 1998.0, \"holotipo_year\": \"1882\", \"counts_x\": 1, \"counts_y\": 1, \"counts\": 1}, {\"cataloged_year\": 2015, \"count\": \"9\", \"class\": \"Malacostraca\", \"kingdom\": \"Animalia\", \"genus\": \"Nototanais\", \"species\": \"Dimorphus\", \"genus_and_species\": \"Nototanais dimorphus\", \"type_status\": \"Holotipo\", \"determiner_first_and_last_name\": \"Juliana Segadilha\", \"determiner_first_name\": \"Juliana\", \"determiner_last_name\": \"Segadilha\", \"depth\": \"120\", \"species_author\": \"(Beddard, 1886)\\u00a0\", \"order\": \"Tanaidacea\", \"suborder\": \"Nan\", \"infraorder\": \"Nan\", \"superfamily\": \"Nan\", \"family\": \"Nototanaidae\", \"subfamily\": \"Nototanainae\", \"tribe\": \"Nototanaini\", \"determined_year\": null, \"start_year\": 2009.0, \"holotipo_year\": \"1886\", \"counts_x\": 1, \"counts_y\": 1, \"counts\": 1}, {\"cataloged_year\": 1978, \"count\": \"2\", \"class\": \"Malacostraca\", \"kingdom\": \"Animalia\", \"genus\": \"Trichodactylus\", \"species\": \"Petropolitanus\", \"genus_and_species\": \"Trichodactylus petropolitanus\", \"type_status\": \"Holotipo\", \"determiner_first_and_last_name\": \"Nilton Hebling\", \"determiner_first_name\": \"Nilton\", \"determiner_last_name\": \"Hebling\", \"depth\": \"0\", \"species_author\": \"(Goeldi, 1886)\", \"order\": \"Decapoda\", \"suborder\": \"Nan\", \"infraorder\": \"Nan\", \"superfamily\": \"Nan\", \"family\": \"Trichodactylidae\", \"subfamily\": \"Trichodactylinae\", \"tribe\": \"Trichodactylini\", \"determined_year\": null, \"start_year\": null, \"holotipo_year\": \"1886\", \"counts_x\": 1, \"counts_y\": 1, \"counts\": 1}, {\"cataloged_year\": 2003, \"count\": \"1\", \"class\": \"Malacostraca\", \"kingdom\": \"Animalia\", \"genus\": \"Themisto\", \"species\": \"Australis\", \"genus_and_species\": \"Themisto australis\", \"type_status\": \"Holotipo\", \"determiner_first_and_last_name\": \"M Lima\", \"determiner_first_name\": \"M\", \"determiner_last_name\": \"Lima\", \"depth\": \"0\", \"species_author\": \"(Stebbing, 1888)\", \"order\": \"Amphipoda\", \"suborder\": \"Nan\", \"infraorder\": \"Nan\", \"superfamily\": \"Nan\", \"family\": \"Hyperiidae\", \"subfamily\": \"Hyperiinae\", \"tribe\": \"Hyperiini\", \"determined_year\": 2001.0, \"start_year\": 1977.0, \"holotipo_year\": \"1888\", \"counts_x\": 1, \"counts_y\": 1, \"counts\": 1}, {\"cataloged_year\": 2006, \"count\": \"30\", \"class\": \"Malacostraca\", \"kingdom\": \"Animalia\", \"genus\": \"Bosminopsis\", \"species\": \"Deitersi\", \"genus_and_species\": \"Bosminopsis deitersi\", \"type_status\": \"Holotipo\", \"determiner_first_and_last_name\": \"Lourdes Loureiro\", \"determiner_first_name\": \"Lourdes\", \"determiner_last_name\": \"Loureiro\", \"depth\": \"0\", \"species_author\": \"Richard, 1895\", \"order\": \"Anomopoda\", \"suborder\": \"Nan\", \"infraorder\": \"Nan\", \"superfamily\": \"Nan\", \"family\": \"Bosminidae\", \"subfamily\": \"Bosmininae\", \"tribe\": \"Bosminini\", \"determined_year\": null, \"start_year\": 2001.0, \"holotipo_year\": \"1895\", \"counts_x\": 1, \"counts_y\": 1, \"counts\": 1}, {\"cataloged_year\": 1997, \"count\": \"1\", \"class\": \"Malacostraca\", \"kingdom\": \"Animalia\", \"genus\": \"Hyalella\", \"species\": \"Warmingi\", \"genus_and_species\": \"Hyalella warmingi\", \"type_status\": \"Holotipo\", \"determiner_first_and_last_name\": \"Cristiana Serejo\", \"determiner_first_name\": \"Cristiana\", \"determiner_last_name\": \"Serejo\", \"depth\": \"0\", \"species_author\": \"Stebbing, 1899\", \"order\": \"Amphipoda\", \"suborder\": \"Nan\", \"infraorder\": \"Nan\", \"superfamily\": \"Nan\", \"family\": \"Hyalellidae\", \"subfamily\": \"Hyalellinae\", \"tribe\": \"Hyalellini\", \"determined_year\": 1997.0, \"start_year\": 1967.0, \"holotipo_year\": \"1899\", \"counts_x\": 1, \"counts_y\": 1, \"counts\": 1}, {\"cataloged_year\": 1995, \"count\": \"1\", \"class\": \"Malacostraca\", \"kingdom\": \"Animalia\", \"genus\": \"Loxopagurus\", \"species\": \"Loxochelis\", \"genus_and_species\": \"Loxopagurus loxochelis\", \"type_status\": \"Holotipo\", \"determiner_first_and_last_name\": \"Carlos Moreira\", \"determiner_first_name\": \"Carlos\", \"determiner_last_name\": \"Moreira\", \"depth\": \"0\", \"species_author\": \"(Moreira, 1901)\", \"order\": \"Decapoda\", \"suborder\": \"Nan\", \"infraorder\": \"Nan\", \"superfamily\": \"Nan\", \"family\": \"Diogenidae\", \"subfamily\": \"Diogeninae\", \"tribe\": \"Diogenini\", \"determined_year\": null, \"start_year\": null, \"holotipo_year\": \"1901\", \"counts_x\": 1, \"counts_y\": 1, \"counts\": 1}, {\"cataloged_year\": 2000, \"count\": \"3\", \"class\": \"Malacostraca\", \"kingdom\": \"Animalia\", \"genus\": \"Parapenaeus\", \"species\": \"Americanus\", \"genus_and_species\": \"Parapenaeus americanus\", \"type_status\": \"Holotipo\", \"determiner_first_and_last_name\": \"Fernando D'incao\", \"determiner_first_name\": \"Fernando\", \"determiner_last_name\": \"D'incao\", \"depth\": \"0\", \"species_author\": \"Rathbun, 1901\", \"order\": \"Decapoda\", \"suborder\": \"Nan\", \"infraorder\": \"Nan\", \"superfamily\": \"Nan\", \"family\": \"Penaeidae\", \"subfamily\": \"Penaeinae\", \"tribe\": \"Penaeini\", \"determined_year\": null, \"start_year\": 2000.0, \"holotipo_year\": \"1901\", \"counts_x\": 1, \"counts_y\": 1, \"counts\": 1}, {\"cataloged_year\": 1952, \"count\": \"1\", \"class\": \"Malacostraca\", \"kingdom\": \"Animalia\", \"genus\": \"Moreirocarcinus\", \"species\": \"Laevifrons\", \"genus_and_species\": \"Moreirocarcinus laevifrons\", \"type_status\": \"Holotipo\", \"determiner_first_and_last_name\": \"Walter Zwink\", \"determiner_first_name\": \"Walter\", \"determiner_last_name\": \"Zwink\", \"depth\": \"0\", \"species_author\": \"(Moreira, 1901)\", \"order\": \"Decapoda\", \"suborder\": \"Nan\", \"infraorder\": \"Nan\", \"superfamily\": \"Nan\", \"family\": \"Trichodactylidae\", \"subfamily\": \"Trichodactylinae\", \"tribe\": \"Trichodactylini\", \"determined_year\": 2005.0, \"start_year\": null, \"holotipo_year\": \"1901\", \"counts_x\": 1, \"counts_y\": 1, \"counts\": 1}, {\"cataloged_year\": 2015, \"count\": \"5\", \"class\": \"Malacostraca\", \"kingdom\": \"Animalia\", \"genus\": \"Nototanais\", \"species\": \"Antarcticus\", \"genus_and_species\": \"Nototanais antarcticus\", \"type_status\": \"Holotipo\", \"determiner_first_and_last_name\": \"Juliana Segadilha\", \"determiner_first_name\": \"Juliana\", \"determiner_last_name\": \"Segadilha\", \"depth\": \"120\", \"species_author\": \"(Hodgson, 1902)\\u00a0\", \"order\": \"Tanaidacea\", \"suborder\": \"Nan\", \"infraorder\": \"Nan\", \"superfamily\": \"Nan\", \"family\": \"Nototanaidae\", \"subfamily\": \"Nototanainae\", \"tribe\": \"Nototanaini\", \"determined_year\": null, \"start_year\": 2009.0, \"holotipo_year\": \"1902\", \"counts_x\": 1, \"counts_y\": 1, \"counts\": 1}, {\"cataloged_year\": 2014, \"count\": \"1\", \"class\": \"Malacostraca\", \"kingdom\": \"Animalia\", \"genus\": \"Deutella\", \"species\": \"Incerta\", \"genus_and_species\": \"Deutella incerta\", \"type_status\": \"Holotipo\", \"determiner_first_and_last_name\": \"Fabio Mauro\", \"determiner_first_name\": \"Fabio\", \"determiner_last_name\": \"Mauro\", \"depth\": \"105\", \"species_author\": \"(Mayer, 1903)\", \"order\": \"Amphipoda\", \"suborder\": \"Nan\", \"infraorder\": \"Nan\", \"superfamily\": \"Nan\", \"family\": \"Caprellidae\", \"subfamily\": \"Caprellinae\", \"tribe\": \"Caprellini\", \"determined_year\": null, \"start_year\": 2009.0, \"holotipo_year\": \"1903\", \"counts_x\": 1, \"counts_y\": 1, \"counts\": 1}, {\"cataloged_year\": 1999, \"count\": \"1\", \"class\": \"Malacostraca\", \"kingdom\": \"Animalia\", \"genus\": \"Acanthoserolis\", \"species\": \"Polaris\", \"genus_and_species\": \"Acanthoserolis polaris\", \"type_status\": \"Holotipo\", \"determiner_first_and_last_name\": \"Ingrid Costa\", \"determiner_first_name\": \"Ingrid\", \"determiner_last_name\": \"Costa\", \"depth\": \"0\", \"species_author\": \"(Richardson, 1911)\", \"order\": \"Isopoda\", \"suborder\": \"Nan\", \"infraorder\": \"Nan\", \"superfamily\": \"Nan\", \"family\": \"Serolidae\", \"subfamily\": \"Serolinae\", \"tribe\": \"Serolini\", \"determined_year\": 2015.0, \"start_year\": 1992.0, \"holotipo_year\": \"1911\", \"counts_x\": 1, \"counts_y\": 1, \"counts\": 1}, {\"cataloged_year\": 2009, \"count\": \"30\", \"class\": \"Malacostraca\", \"kingdom\": \"Animalia\", \"genus\": \"Talitroides\", \"species\": \"Topitotum\", \"genus_and_species\": \"Talitroides topitotum\", \"type_status\": \"Holotipo\", \"determiner_first_and_last_name\": \"Cristiana Serejo\", \"determiner_first_name\": \"Cristiana\", \"determiner_last_name\": \"Serejo\", \"depth\": \"0\", \"species_author\": \"Burt, 1934\", \"order\": \"Amphipoda\", \"suborder\": \"Nan\", \"infraorder\": \"Nan\", \"superfamily\": \"Nan\", \"family\": \"Talitridae\", \"subfamily\": \"Talitrinae\", \"tribe\": \"Talitrini\", \"determined_year\": null, \"start_year\": 2000.0, \"holotipo_year\": \"1934\", \"counts_x\": 1, \"counts_y\": 1, \"counts\": 1}, {\"cataloged_year\": 1995, \"count\": \"1\", \"class\": \"Malacostraca\", \"kingdom\": \"Animalia\", \"genus\": \"Dolops\", \"species\": \"Carvalhoi\", \"genus_and_species\": \"Dolops carvalhoi\", \"type_status\": \"Holotipo\", \"determiner_first_and_last_name\": \"Alceu Castro\", \"determiner_first_name\": \"Alceu\", \"determiner_last_name\": \"Castro\", \"depth\": \"0\", \"species_author\": \"Lemos de Castro, 1949\", \"order\": \"Arguloida\", \"suborder\": \"Nan\", \"infraorder\": \"Nan\", \"superfamily\": \"Nan\", \"family\": \"Argulidae\", \"subfamily\": \"Argulinae\", \"tribe\": \"Argulini\", \"determined_year\": null, \"start_year\": 1947.0, \"holotipo_year\": \"1949\", \"counts_x\": 2, \"counts_y\": 2, \"counts\": 2}, {\"cataloged_year\": 1995, \"count\": \"1\", \"class\": \"Malacostraca\", \"kingdom\": \"Animalia\", \"genus\": \"Paradasygyius\", \"species\": \"Tuberculatus\", \"genus_and_species\": \"Paradasygyius tuberculatus\", \"type_status\": \"Holotipo\", \"determiner_first_and_last_name\": \"Alceu Castro\", \"determiner_first_name\": \"Alceu\", \"determiner_last_name\": \"Castro\", \"depth\": \"0\", \"species_author\": \"(Lemos de Castro, 1949)\", \"order\": \"Decapoda\", \"suborder\": \"Nan\", \"infraorder\": \"Nan\", \"superfamily\": \"Nan\", \"family\": \"Inachoididae\", \"subfamily\": \"Majinae\", \"tribe\": \"Majini\", \"determined_year\": null, \"start_year\": null, \"holotipo_year\": \"1949\", \"counts_x\": 2, \"counts_y\": 2, \"counts\": 2}, {\"cataloged_year\": 1995, \"count\": \"1\", \"class\": \"Malacostraca\", \"kingdom\": \"Animalia\", \"genus\": \"Argulus\", \"species\": \"Juparanaensis\", \"genus_and_species\": \"Argulus juparanaensis\", \"type_status\": \"Holotipo\", \"determiner_first_and_last_name\": \"Alceu Castro\", \"determiner_first_name\": \"Alceu\", \"determiner_last_name\": \"Castro\", \"depth\": \"0\", \"species_author\": \"Lemos de Castro, 1950\", \"order\": \"Arguloida\", \"suborder\": \"Nan\", \"infraorder\": \"Nan\", \"superfamily\": \"Nan\", \"family\": \"Argulidae\", \"subfamily\": \"Argulinae\", \"tribe\": \"Argulini\", \"determined_year\": null, \"start_year\": 1948.0, \"holotipo_year\": \"1950\", \"counts_x\": 1, \"counts_y\": 1, \"counts\": 1}, {\"cataloged_year\": 1995, \"count\": \"1\", \"class\": \"Malacostraca\", \"kingdom\": \"Animalia\", \"genus\": \"Meiosquilla\", \"species\": \"Schmittii\", \"genus_and_species\": \"Meiosquilla schmittii\", \"type_status\": \"Holotipo\", \"determiner_first_and_last_name\": \"Alceu Castro\", \"determiner_first_name\": \"Alceu\", \"determiner_last_name\": \"Castro\", \"depth\": \"0\", \"species_author\": \"(Lemos de Castro, 1955)\", \"order\": \"Stomatopoda\", \"suborder\": \"Nan\", \"infraorder\": \"Nan\", \"superfamily\": \"Nan\", \"family\": \"Squillidae\", \"subfamily\": \"Squillinae\", \"tribe\": \"Squillini\", \"determined_year\": null, \"start_year\": 1944.0, \"holotipo_year\": \"1955\", \"counts_x\": 3, \"counts_y\": 3, \"counts\": 3}, {\"cataloged_year\": 1995, \"count\": \"1\", \"class\": \"Malacostraca\", \"kingdom\": \"Animalia\", \"genus\": \"Ischioscia\", \"species\": \"Amazonica\", \"genus_and_species\": \"Ischioscia amazonica\", \"type_status\": \"Holotipo\", \"determiner_first_and_last_name\": \"Alceu Castro\", \"determiner_first_name\": \"Alceu\", \"determiner_last_name\": \"Castro\", \"depth\": \"0\", \"species_author\": \"Lemos de Castro, 1955\", \"order\": \"Isopoda\", \"suborder\": \"Nan\", \"infraorder\": \"Nan\", \"superfamily\": \"Nan\", \"family\": \"Philosciidae\", \"subfamily\": \"Philosciinae\", \"tribe\": \"Philosciini\", \"determined_year\": null, \"start_year\": 1950.0, \"holotipo_year\": \"1955\", \"counts_x\": 3, \"counts_y\": 3, \"counts\": 3}, {\"cataloged_year\": 1995, \"count\": \"1\", \"class\": \"Malacostraca\", \"kingdom\": \"Animalia\", \"genus\": \"Paracymothoa\", \"species\": \"Astyanaxi\", \"genus_and_species\": \"Paracymothoa astyanaxi\", \"type_status\": \"Holotipo\", \"determiner_first_and_last_name\": \"Alceu Castro\", \"determiner_first_name\": \"Alceu\", \"determiner_last_name\": \"Castro\", \"depth\": \"0\", \"species_author\": \"Lemos de Castro, 1955\", \"order\": \"Isopoda\", \"suborder\": \"Nan\", \"infraorder\": \"Nan\", \"superfamily\": \"Nan\", \"family\": \"Cymothoidae\", \"subfamily\": \"Cymothoinae\", \"tribe\": \"Cymothoini\", \"determined_year\": 1955.0, \"start_year\": 1953.0, \"holotipo_year\": \"1955\", \"counts_x\": 3, \"counts_y\": 3, \"counts\": 3}, {\"cataloged_year\": 2008, \"count\": \"1\", \"class\": \"Copepoda\", \"kingdom\": \"Animalia\", \"genus\": \"Attheyella (canthosella)\", \"species\": \"Aliena\", \"genus_and_species\": \"Attheyella (canthosella) aliena\", \"type_status\": \"Holotipo\", \"determiner_first_and_last_name\": \"S Gaviria\", \"determiner_first_name\": \"S\", \"determiner_last_name\": \"Gaviria\", \"depth\": \"0\", \"species_author\": \"Noodt, 1956\", \"order\": \"Cyclopoida\", \"suborder\": \"Nan\", \"infraorder\": \"Nan\", \"superfamily\": \"Nan\", \"family\": \"Cyclopidae\", \"subfamily\": \"Cyclopinae\", \"tribe\": \"Cyclopini\", \"determined_year\": null, \"start_year\": 1998.0, \"holotipo_year\": \"1956\", \"counts_x\": 1, \"counts_y\": 1, \"counts\": 1}, {\"cataloged_year\": 1995, \"count\": \"1\", \"class\": \"Malacostraca\", \"kingdom\": \"Animalia\", \"genus\": \"Benthana\", \"species\": \"Schubarti\", \"genus_and_species\": \"Benthana schubarti\", \"type_status\": \"Holotipo\", \"determiner_first_and_last_name\": \"Alceu Castro\", \"determiner_first_name\": \"Alceu\", \"determiner_last_name\": \"Castro\", \"depth\": \"0\", \"species_author\": \"Lemos de Castro, 1958\", \"order\": \"Isopoda\", \"suborder\": \"Nan\", \"infraorder\": \"Nan\", \"superfamily\": \"Nan\", \"family\": \"Philosciidae\", \"subfamily\": \"Philosciinae\", \"tribe\": \"Philosciini\", \"determined_year\": null, \"start_year\": null, \"holotipo_year\": \"1958\", \"counts_x\": 6, \"counts_y\": 6, \"counts\": 6}, {\"cataloged_year\": 1995, \"count\": \"1\", \"class\": \"Malacostraca\", \"kingdom\": \"Animalia\", \"genus\": \"Benthana\", \"species\": \"Albomarginata\", \"genus_and_species\": \"Benthana albomarginata\", \"type_status\": \"Holotipo\", \"determiner_first_and_last_name\": \"Alceu Castro\", \"determiner_first_name\": \"Alceu\", \"determiner_last_name\": \"Castro\", \"depth\": \"0\", \"species_author\": \"Lemos de Castro, 1958\", \"order\": \"Isopoda\", \"suborder\": \"Nan\", \"infraorder\": \"Nan\", \"superfamily\": \"Nan\", \"family\": \"Philosciidae\", \"subfamily\": \"Philosciinae\", \"tribe\": \"Philosciini\", \"determined_year\": 1958.0, \"start_year\": 1955.0, \"holotipo_year\": \"1958\", \"counts_x\": 6, \"counts_y\": 6, \"counts\": 6}, {\"cataloged_year\": 1995, \"count\": \"1\", \"class\": \"Malacostraca\", \"kingdom\": \"Animalia\", \"genus\": \"Benthana\", \"species\": \"Werneri\", \"genus_and_species\": \"Benthana werneri\", \"type_status\": \"Holotipo\", \"determiner_first_and_last_name\": \"Alceu Castro\", \"determiner_first_name\": \"Alceu\", \"determiner_last_name\": \"Castro\", \"depth\": \"0\", \"species_author\": \"Lemos de Castro, 1958\", \"order\": \"Isopoda\", \"suborder\": \"Nan\", \"infraorder\": \"Nan\", \"superfamily\": \"Nan\", \"family\": \"Philosciidae\", \"subfamily\": \"Philosciinae\", \"tribe\": \"Philosciini\", \"determined_year\": null, \"start_year\": null, \"holotipo_year\": \"1958\", \"counts_x\": 6, \"counts_y\": 6, \"counts\": 6}, {\"cataloged_year\": 1995, \"count\": \"1\", \"class\": \"Malacostraca\", \"kingdom\": \"Animalia\", \"genus\": \"Benthana\", \"species\": \"Longipenis\", \"genus_and_species\": \"Benthana longipenis\", \"type_status\": \"Holotipo\", \"determiner_first_and_last_name\": \"Alceu Castro\", \"determiner_first_name\": \"Alceu\", \"determiner_last_name\": \"Castro\", \"depth\": \"0\", \"species_author\": \"Lemos de Castro, 1958\", \"order\": \"Isopoda\", \"suborder\": \"Nan\", \"infraorder\": \"Nan\", \"superfamily\": \"Nan\", \"family\": \"Philosciidae\", \"subfamily\": \"Philosciinae\", \"tribe\": \"Philosciini\", \"determined_year\": null, \"start_year\": 1951.0, \"holotipo_year\": \"1958\", \"counts_x\": 6, \"counts_y\": 6, \"counts\": 6}, {\"cataloged_year\": 1995, \"count\": \"1\", \"class\": \"Malacostraca\", \"kingdom\": \"Animalia\", \"genus\": \"Benthana\", \"species\": \"Bocainensis\", \"genus_and_species\": \"Benthana bocainensis\", \"type_status\": \"Holotipo\", \"determiner_first_and_last_name\": \"Alceu Castro\", \"determiner_first_name\": \"Alceu\", \"determiner_last_name\": \"Castro\", \"depth\": \"0\", \"species_author\": \"Lemos de Castro, 1958\", \"order\": \"Isopoda\", \"suborder\": \"Nan\", \"infraorder\": \"Nan\", \"superfamily\": \"Nan\", \"family\": \"Philosciidae\", \"subfamily\": \"Philosciinae\", \"tribe\": \"Philosciini\", \"determined_year\": 1958.0, \"start_year\": 1950.0, \"holotipo_year\": \"1958\", \"counts_x\": 6, \"counts_y\": 6, \"counts\": 6}, {\"cataloged_year\": 1995, \"count\": \"1\", \"class\": \"Malacostraca\", \"kingdom\": \"Animalia\", \"genus\": \"Benthana\", \"species\": \"Convexa\", \"genus_and_species\": \"Benthana convexa\", \"type_status\": \"Holotipo\", \"determiner_first_and_last_name\": \"Alceu Castro\", \"determiner_first_name\": \"Alceu\", \"determiner_last_name\": \"Castro\", \"depth\": \"0\", \"species_author\": \"Lemos de Castro, 1958\", \"order\": \"Isopoda\", \"suborder\": \"Nan\", \"infraorder\": \"Nan\", \"superfamily\": \"Nan\", \"family\": \"Philosciidae\", \"subfamily\": \"Philosciinae\", \"tribe\": \"Philosciini\", \"determined_year\": null, \"start_year\": 1952.0, \"holotipo_year\": \"1958\", \"counts_x\": 6, \"counts_y\": 6, \"counts\": 6}, {\"cataloged_year\": 1995, \"count\": \"1\", \"class\": \"Malacostraca\", \"kingdom\": \"Animalia\", \"genus\": \"Phalloniscus\", \"species\": \"Dissimilis\", \"genus_and_species\": \"Phalloniscus dissimilis\", \"type_status\": \"Holotipo\", \"determiner_first_and_last_name\": \"Alceu Castro\", \"determiner_first_name\": \"Alceu\", \"determiner_last_name\": \"Castro\", \"depth\": \"0\", \"species_author\": \"Lemos de Castro, 1959\", \"order\": \"Isopoda\", \"suborder\": \"Nan\", \"infraorder\": \"Nan\", \"superfamily\": \"Nan\", \"family\": \"Oniscidae\", \"subfamily\": \"Oniscinae\", \"tribe\": \"Oniscini\", \"determined_year\": 1958.0, \"start_year\": 1951.0, \"holotipo_year\": \"1959\", \"counts_x\": 3, \"counts_y\": 3, \"counts\": 3}, {\"cataloged_year\": 1995, \"count\": \"1\", \"class\": \"Malacostraca\", \"kingdom\": \"Animalia\", \"genus\": \"Novamundoniscus\", \"species\": \"Vandeli\", \"genus_and_species\": \"Novamundoniscus vandeli\", \"type_status\": \"Holotipo\", \"determiner_first_and_last_name\": \"Alceu Castro\", \"determiner_first_name\": \"Alceu\", \"determiner_last_name\": \"Castro\", \"depth\": \"0\", \"species_author\": \"(Lemos de Castro, 1959)\", \"order\": \"Isopoda\", \"suborder\": \"Nan\", \"infraorder\": \"Nan\", \"superfamily\": \"Nan\", \"family\": \"Dubioniscidae\", \"subfamily\": \"Dubioniscinae\", \"tribe\": \"Dubioniscini\", \"determined_year\": null, \"start_year\": 1952.0, \"holotipo_year\": \"1959\", \"counts_x\": 3, \"counts_y\": 3, \"counts\": 3}, {\"cataloged_year\": 1995, \"count\": \"1\", \"class\": \"Malacostraca\", \"kingdom\": \"Animalia\", \"genus\": \"Ancinus\", \"species\": \"Brasiliensis\", \"genus_and_species\": \"Ancinus brasiliensis\", \"type_status\": \"Holotipo\", \"determiner_first_and_last_name\": \"Alceu Castro\", \"determiner_first_name\": \"Alceu\", \"determiner_last_name\": \"Castro\", \"depth\": \"1.5\", \"species_author\": \"Lemos de Castro, 1959\", \"order\": \"Isopoda\", \"suborder\": \"Nan\", \"infraorder\": \"Nan\", \"superfamily\": \"Nan\", \"family\": \"Ancinidae\", \"subfamily\": \"Sphaeromatinae\", \"tribe\": \"Sphaeromatini\", \"determined_year\": 1965.0, \"start_year\": 1959.0, \"holotipo_year\": \"1959\", \"counts_x\": 3, \"counts_y\": 3, \"counts\": 3}, {\"cataloged_year\": 1995, \"count\": \"1\", \"class\": \"Malacostraca\", \"kingdom\": \"Animalia\", \"genus\": \"Trichorhina\", \"species\": \"Heterophthalma\", \"genus_and_species\": \"Trichorhina heterophthalma\", \"type_status\": \"Holotipo\", \"determiner_first_and_last_name\": \"Alceu Castro\", \"determiner_first_name\": \"Alceu\", \"determiner_last_name\": \"Castro\", \"depth\": \"0\", \"species_author\": \"Lemos de Castro, 1964\", \"order\": \"Isopoda\", \"suborder\": \"Nan\", \"infraorder\": \"Nan\", \"superfamily\": \"Nan\", \"family\": \"Platyarthridae\", \"subfamily\": \"Platyarthrinae\", \"tribe\": \"Platyarthrini\", \"determined_year\": null, \"start_year\": 1958.0, \"holotipo_year\": \"1964\", \"counts_x\": 1, \"counts_y\": 1, \"counts\": 1}, {\"cataloged_year\": 1995, \"count\": \"1\", \"class\": \"Malacostraca\", \"kingdom\": \"Animalia\", \"genus\": \"Pseudostegias\", \"species\": \"Atlantica\", \"genus_and_species\": \"Pseudostegias atlantica\", \"type_status\": \"Holotipo\", \"determiner_first_and_last_name\": \"Alceu Castro\", \"determiner_first_name\": \"Alceu\", \"determiner_last_name\": \"Castro\", \"depth\": \"0\", \"species_author\": \"Lemos de Castro, 1965\", \"order\": \"Isopoda\", \"suborder\": \"Nan\", \"infraorder\": \"Nan\", \"superfamily\": \"Nan\", \"family\": \"Bopyridae\", \"subfamily\": \"Bopyrinae\", \"tribe\": \"Bopyrini\", \"determined_year\": 1965.0, \"start_year\": null, \"holotipo_year\": \"1965\", \"counts_x\": 1, \"counts_y\": 1, \"counts\": 1}, {\"cataloged_year\": 1994, \"count\": \"4\", \"class\": \"Malacostraca\", \"kingdom\": \"Animalia\", \"genus\": \"Oxyurostilis\", \"species\": \"Salinoi\", \"genus_and_species\": \"Oxyurostilis salinoi\", \"type_status\": \"Holotipo\", \"determiner_first_and_last_name\": \"Ivanilce Brum\", \"determiner_first_name\": \"Ivanilce\", \"determiner_last_name\": \"Brum\", \"depth\": \"6\", \"species_author\": \"Silva-Brum, 1966\", \"order\": \"Cumacea\", \"suborder\": \"Nan\", \"infraorder\": \"Nan\", \"superfamily\": \"Nan\", \"family\": \"Diastylidae\", \"subfamily\": \"Diastylinae\", \"tribe\": \"Diastylini\", \"determined_year\": 1966.0, \"start_year\": 1962.0, \"holotipo_year\": \"1966\", \"counts_x\": 1, \"counts_y\": 1, \"counts\": 1}, {\"cataloged_year\": 1995, \"count\": \"1\", \"class\": \"Malacostraca\", \"kingdom\": \"Animalia\", \"genus\": \"Novamundoniscus\", \"species\": \"Setosus\", \"genus_and_species\": \"Novamundoniscus setosus\", \"type_status\": \"Holotipo\", \"determiner_first_and_last_name\": \"Alceu Castro\", \"determiner_first_name\": \"Alceu\", \"determiner_last_name\": \"Castro\", \"depth\": \"0\", \"species_author\": \"(Lemos de Castro, 1967)\", \"order\": \"Isopoda\", \"suborder\": \"Nan\", \"infraorder\": \"Nan\", \"superfamily\": \"Nan\", \"family\": \"Dubioniscidae\", \"subfamily\": \"Dubioniscinae\", \"tribe\": \"Dubioniscini\", \"determined_year\": null, \"start_year\": 1956.0, \"holotipo_year\": \"1967\", \"counts_x\": 6, \"counts_y\": 6, \"counts\": 6}, {\"cataloged_year\": 1995, \"count\": \"1\", \"class\": \"Malacostraca\", \"kingdom\": \"Animalia\", \"genus\": \"Amazoniscus\", \"species\": \"Arlei\", \"genus_and_species\": \"Amazoniscus arlei\", \"type_status\": \"Holotipo\", \"determiner_first_and_last_name\": \"Alceu Castro\", \"determiner_first_name\": \"Alceu\", \"determiner_last_name\": \"Castro\", \"depth\": \"0\", \"species_author\": \"Lemos de Castro, 1967\", \"order\": \"Isopoda\", \"suborder\": \"Nan\", \"infraorder\": \"Nan\", \"superfamily\": \"Nan\", \"family\": \"Scleropactidae\", \"subfamily\": \"Scleropactinae\", \"tribe\": \"Scleropactini\", \"determined_year\": 1967.0, \"start_year\": 1959.0, \"holotipo_year\": \"1967\", \"counts_x\": 6, \"counts_y\": 6, \"counts\": 6}, {\"cataloged_year\": 1995, \"count\": \"1\", \"class\": \"Malacostraca\", \"kingdom\": \"Animalia\", \"genus\": \"Novamundoniscus\", \"species\": \"Singularis\", \"genus_and_species\": \"Novamundoniscus singularis\", \"type_status\": \"Holotipo\", \"determiner_first_and_last_name\": \"Alceu Castro\", \"determiner_first_name\": \"Alceu\", \"determiner_last_name\": \"Castro\", \"depth\": \"0\", \"species_author\": \"(Lemos de Castro, 1967)\", \"order\": \"Isopoda\", \"suborder\": \"Nan\", \"infraorder\": \"Nan\", \"superfamily\": \"Nan\", \"family\": \"Dubioniscidae\", \"subfamily\": \"Dubioniscinae\", \"tribe\": \"Dubioniscini\", \"determined_year\": null, \"start_year\": 1961.0, \"holotipo_year\": \"1967\", \"counts_x\": 6, \"counts_y\": 6, \"counts\": 6}, {\"cataloged_year\": 1995, \"count\": \"1\", \"class\": \"Malacostraca\", \"kingdom\": \"Animalia\", \"genus\": \"Parsphaeroniscus\", \"species\": \"Apeuensis\", \"genus_and_species\": \"Parsphaeroniscus apeuensis\", \"type_status\": \"Holotipo\", \"determiner_first_and_last_name\": \"Alceu Castro\", \"determiner_first_name\": \"Alceu\", \"determiner_last_name\": \"Castro\", \"depth\": \"0\", \"species_author\": \"Lemos de Castro, 1967\", \"order\": \"Isopoda\", \"suborder\": \"Nan\", \"infraorder\": \"Nan\", \"superfamily\": \"Nan\", \"family\": \"Eubelidae\", \"subfamily\": \"Eubelinae\", \"tribe\": \"Eubelini\", \"determined_year\": 1967.0, \"start_year\": 1964.0, \"holotipo_year\": \"1967\", \"counts_x\": 6, \"counts_y\": 6, \"counts\": 6}, {\"cataloged_year\": 1995, \"count\": \"1\", \"class\": \"Malacostraca\", \"kingdom\": \"Animalia\", \"genus\": \"Chaetophiloscia\", \"species\": \"Frontalis\", \"genus_and_species\": \"Chaetophiloscia frontalis\", \"type_status\": \"Holotipo\", \"determiner_first_and_last_name\": \"Alceu Castro\", \"determiner_first_name\": \"Alceu\", \"determiner_last_name\": \"Castro\", \"depth\": \"0\", \"species_author\": \"Lemos de Castro, 1967\", \"order\": \"Isopoda\", \"suborder\": \"Nan\", \"infraorder\": \"Nan\", \"superfamily\": \"Nan\", \"family\": \"Philosciidae\", \"subfamily\": \"Philosciinae\", \"tribe\": \"Philosciini\", \"determined_year\": 1967.0, \"start_year\": 1964.0, \"holotipo_year\": \"1967\", \"counts_x\": 6, \"counts_y\": 6, \"counts\": 6}, {\"cataloged_year\": 1995, \"count\": \"1\", \"class\": \"Malacostraca\", \"kingdom\": \"Animalia\", \"genus\": \"Hileioniscus\", \"species\": \"Goeldii\", \"genus_and_species\": \"Hileioniscus goeldii\", \"type_status\": \"Holotipo\", \"determiner_first_and_last_name\": \"Alceu Castro\", \"determiner_first_name\": \"Alceu\", \"determiner_last_name\": \"Castro\", \"depth\": \"0\", \"species_author\": \"Lemos de Castro, 1967\", \"order\": \"Isopoda\", \"suborder\": \"Nan\", \"infraorder\": \"Nan\", \"superfamily\": \"Nan\", \"family\": \"Bathytropidae\", \"subfamily\": \"Bathytropinae\", \"tribe\": \"Bathytropini\", \"determined_year\": 1967.0, \"start_year\": 1965.0, \"holotipo_year\": \"1967\", \"counts_x\": 6, \"counts_y\": 6, \"counts\": 6}, {\"cataloged_year\": 1994, \"count\": \"4\", \"class\": \"Malacostraca\", \"kingdom\": \"Animalia\", \"genus\": \"Upogebia\", \"species\": \"Omissa\", \"genus_and_species\": \"Upogebia omissa\", \"type_status\": \"Holotipo\", \"determiner_first_and_last_name\": \"Maria Correa\", \"determiner_first_name\": \"Maria\", \"determiner_last_name\": \"Correa\", \"depth\": \"0\", \"species_author\": \"Gomes Correa, 1968\", \"order\": \"Decapoda\", \"suborder\": \"Nan\", \"infraorder\": \"Nan\", \"superfamily\": \"Nan\", \"family\": \"Upogebiidae\", \"subfamily\": \"Upogebiinae\", \"tribe\": \"Upogebiini\", \"determined_year\": 1968.0, \"start_year\": 1964.0, \"holotipo_year\": \"1968\", \"counts_x\": 1, \"counts_y\": 1, \"counts\": 1}, {\"cataloged_year\": 1995, \"count\": \"1\", \"class\": \"Malacostraca\", \"kingdom\": \"Animalia\", \"genus\": \"Neotroponiscus\", \"species\": \"Perlatus\", \"genus_and_species\": \"Neotroponiscus perlatus\", \"type_status\": \"Holotipo\", \"determiner_first_and_last_name\": \"Alceu Castro\", \"determiner_first_name\": \"Alceu\", \"determiner_last_name\": \"Castro\", \"depth\": \"0\", \"species_author\": \"Lemos de Castro, 1970\", \"order\": \"Isopoda\", \"suborder\": \"Nan\", \"infraorder\": \"Nan\", \"superfamily\": \"Nan\", \"family\": \"Bathytropidae\", \"subfamily\": \"Bathytropinae\", \"tribe\": \"Bathytropini\", \"determined_year\": null, \"start_year\": 1944.0, \"holotipo_year\": \"1970\", \"counts_x\": 7, \"counts_y\": 7, \"counts\": 7}, {\"cataloged_year\": 1995, \"count\": \"1\", \"class\": \"Malacostraca\", \"kingdom\": \"Animalia\", \"genus\": \"Neotroponiscus\", \"species\": \"Lobatus\", \"genus_and_species\": \"Neotroponiscus lobatus\", \"type_status\": \"Holotipo\", \"determiner_first_and_last_name\": \"Alceu Castro\", \"determiner_first_name\": \"Alceu\", \"determiner_last_name\": \"Castro\", \"depth\": \"0\", \"species_author\": \"Lemos de Castro, 1970\", \"order\": \"Isopoda\", \"suborder\": \"Nan\", \"infraorder\": \"Nan\", \"superfamily\": \"Nan\", \"family\": \"Bathytropidae\", \"subfamily\": \"Bathytropinae\", \"tribe\": \"Bathytropini\", \"determined_year\": null, \"start_year\": 1957.0, \"holotipo_year\": \"1970\", \"counts_x\": 7, \"counts_y\": 7, \"counts\": 7}, {\"cataloged_year\": 1995, \"count\": \"1\", \"class\": \"Malacostraca\", \"kingdom\": \"Animalia\", \"genus\": \"Dubioniscus\", \"species\": \"Marmoratus\", \"genus_and_species\": \"Dubioniscus marmoratus\", \"type_status\": \"Holotipo\", \"determiner_first_and_last_name\": \"Alceu Castro\", \"determiner_first_name\": \"Alceu\", \"determiner_last_name\": \"Castro\", \"depth\": \"0\", \"species_author\": \"Lemos de Castro, 1970\", \"order\": \"Isopoda\", \"suborder\": \"Nan\", \"infraorder\": \"Nan\", \"superfamily\": \"Nan\", \"family\": \"Bathytropidae\", \"subfamily\": \"Bathytropinae\", \"tribe\": \"Bathytropini\", \"determined_year\": null, \"start_year\": 1963.0, \"holotipo_year\": \"1970\", \"counts_x\": 7, \"counts_y\": 7, \"counts\": 7}, {\"cataloged_year\": 1995, \"count\": \"1\", \"class\": \"Malacostraca\", \"kingdom\": \"Animalia\", \"genus\": \"Cabirops\", \"species\": \"Pseudioni\", \"genus_and_species\": \"Cabirops pseudioni\", \"type_status\": \"Holotipo\", \"determiner_first_and_last_name\": \"Alceu Castro\", \"determiner_first_name\": \"Alceu\", \"determiner_last_name\": \"Castro\", \"depth\": \"0\", \"species_author\": \"Lemos de Castro, 1970\", \"order\": \"Isopoda\", \"suborder\": \"Nan\", \"infraorder\": \"Nan\", \"superfamily\": \"Nan\", \"family\": \"Cabiropidae\", \"subfamily\": \"Cabiropsinae\", \"tribe\": \"Cabiropsini\", \"determined_year\": null, \"start_year\": 1964.0, \"holotipo_year\": \"1970\", \"counts_x\": 7, \"counts_y\": 7, \"counts\": 7}, {\"cataloged_year\": 1995, \"count\": \"1\", \"class\": \"Malacostraca\", \"kingdom\": \"Animalia\", \"genus\": \"Neotroponiscus\", \"species\": \"Lenkoi\", \"genus_and_species\": \"Neotroponiscus lenkoi\", \"type_status\": \"Holotipo\", \"determiner_first_and_last_name\": \"Alceu Castro\", \"determiner_first_name\": \"Alceu\", \"determiner_last_name\": \"Castro\", \"depth\": \"0\", \"species_author\": \"Lemos de Castro, 1970\", \"order\": \"Isopoda\", \"suborder\": \"Nan\", \"infraorder\": \"Nan\", \"superfamily\": \"Nan\", \"family\": \"Bathytropidae\", \"subfamily\": \"Bathytropinae\", \"tribe\": \"Bathytropini\", \"determined_year\": null, \"start_year\": 1964.0, \"holotipo_year\": \"1970\", \"counts_x\": 7, \"counts_y\": 7, \"counts\": 7}, {\"cataloged_year\": 1995, \"count\": \"1\", \"class\": \"Malacostraca\", \"kingdom\": \"Animalia\", \"genus\": \"Neotroponiscus\", \"species\": \"Littoralis\", \"genus_and_species\": \"Neotroponiscus littoralis\", \"type_status\": \"Holotipo\", \"determiner_first_and_last_name\": \"Alceu Castro\", \"determiner_first_name\": \"Alceu\", \"determiner_last_name\": \"Castro\", \"depth\": \"0\", \"species_author\": \"Lemos de Castro, 1970\", \"order\": \"Isopoda\", \"suborder\": \"Nan\", \"infraorder\": \"Nan\", \"superfamily\": \"Nan\", \"family\": \"Bathytropidae\", \"subfamily\": \"Bathytropinae\", \"tribe\": \"Bathytropini\", \"determined_year\": null, \"start_year\": 1965.0, \"holotipo_year\": \"1970\", \"counts_x\": 7, \"counts_y\": 7, \"counts\": 7}, {\"cataloged_year\": 1995, \"count\": \"1\", \"class\": \"Malacostraca\", \"kingdom\": \"Animalia\", \"genus\": \"Cabirops\", \"species\": \"Lobiformis\", \"genus_and_species\": \"Cabirops lobiformis\", \"type_status\": \"Holotipo\", \"determiner_first_and_last_name\": \"Alceu Castro\", \"determiner_first_name\": \"Alceu\", \"determiner_last_name\": \"Castro\", \"depth\": \"0\", \"species_author\": \"Lemos de Castro, 1970\", \"order\": \"Isopoda\", \"suborder\": \"Nan\", \"infraorder\": \"Nan\", \"superfamily\": \"Nan\", \"family\": \"Cabiropidae\", \"subfamily\": \"Cabiropsinae\", \"tribe\": \"Cabiropsini\", \"determined_year\": null, \"start_year\": null, \"holotipo_year\": \"1970\", \"counts_x\": 7, \"counts_y\": 7, \"counts\": 7}, {\"cataloged_year\": 2010, \"count\": \"1\", \"class\": \"Malacostraca\", \"kingdom\": \"Animalia\", \"genus\": \"Bathypalaemonella\", \"species\": \"Texana\", \"genus_and_species\": \"Bathypalaemonella texana\", \"type_status\": \"Holotipo\", \"determiner_first_and_last_name\": \"Irene Cardoso\", \"determiner_first_name\": \"Irene\", \"determiner_last_name\": \"Cardoso\", \"depth\": \"610\", \"species_author\": \"Pequegnat, 1970\", \"order\": \"Decapoda\", \"suborder\": \"Nan\", \"infraorder\": \"Nan\", \"superfamily\": \"Nan\", \"family\": \"Bathypalaemonellidae\", \"subfamily\": \"Bathypalaemonellinae\", \"tribe\": \"Bathypalaemonellini\", \"determined_year\": 2010.0, \"start_year\": 2008.0, \"holotipo_year\": \"1970\", \"counts_x\": 1, \"counts_y\": 1, \"counts\": 1}, {\"cataloged_year\": 1995, \"count\": \"1\", \"class\": \"Malacostraca\", \"kingdom\": \"Animalia\", \"genus\": \"Saltipedis (saltipedis)\", \"species\": \"Paulensis\", \"genus_and_species\": \"Saltipedis (saltipedis) paulensis\", \"type_status\": \"Holotipo\", \"determiner_first_and_last_name\": \"Ivanilce Brum\", \"determiner_first_name\": \"Ivanilce\", \"determiner_last_name\": \"Brum\", \"depth\": \"0\", \"species_author\": \"(Brum, 1971)\", \"order\": \"Tanaidacea\", \"suborder\": \"Nan\", \"infraorder\": \"Nan\", \"superfamily\": \"Nan\", \"family\": \"Parapseudidae\", \"subfamily\": \"Parapseudinae\", \"tribe\": \"Parapseudini\", \"determined_year\": 1971.0, \"start_year\": 1962.0, \"holotipo_year\": \"1971\", \"counts_x\": 2, \"counts_y\": 2, \"counts\": 2}, {\"cataloged_year\": 1994, \"count\": \"1\", \"class\": \"Malacostraca\", \"kingdom\": \"Animalia\", \"genus\": \"Makrokylindrus (makrokylindrus)\", \"species\": \"Bacescui\", \"genus_and_species\": \"Makrokylindrus (makrokylindrus) bacescui\", \"type_status\": \"Holotipo\", \"determiner_first_and_last_name\": \"Ivanilce Brum\", \"determiner_first_name\": \"Ivanilce\", \"determiner_last_name\": \"Brum\", \"depth\": \"18\", \"species_author\": \"Silva-Brum, 1971\", \"order\": \"Cumacea\", \"suborder\": \"Nan\", \"infraorder\": \"Nan\", \"superfamily\": \"Nan\", \"family\": \"Diastylidae\", \"subfamily\": \"Diastylinae\", \"tribe\": \"Diastylini\", \"determined_year\": 1971.0, \"start_year\": 1963.0, \"holotipo_year\": \"1971\", \"counts_x\": 2, \"counts_y\": 2, \"counts\": 2}, {\"cataloged_year\": 1995, \"count\": \"1\", \"class\": \"Malacostraca\", \"kingdom\": \"Animalia\", \"genus\": \"Reductoniscus\", \"species\": \"Gibbus\", \"genus_and_species\": \"Reductoniscus gibbus\", \"type_status\": \"Holotipo\", \"determiner_first_and_last_name\": \"Alceu Castro\", \"determiner_first_name\": \"Alceu\", \"determiner_last_name\": \"Castro\", \"depth\": \"0\", \"species_author\": \"(Lemos de Castro, 1972)\", \"order\": \"Isopoda\", \"suborder\": \"Nan\", \"infraorder\": \"Nan\", \"superfamily\": \"Nan\", \"family\": \"Oniscidae\", \"subfamily\": \"Oniscinae\", \"tribe\": \"Oniscini\", \"determined_year\": 1972.0, \"start_year\": 1961.0, \"holotipo_year\": \"1972\", \"counts_x\": 1, \"counts_y\": 1, \"counts\": 1}, {\"cataloged_year\": 1994, \"count\": \"4\", \"class\": \"Malacostraca\", \"kingdom\": \"Animalia\", \"genus\": \"Podochela\", \"species\": \"Brasiliensis\", \"genus_and_species\": \"Podochela brasiliensis\", \"type_status\": \"Holotipo\", \"determiner_first_and_last_name\": \"Petronio Coelho\", \"determiner_first_name\": \"Petronio\", \"determiner_last_name\": \"Coelho\", \"depth\": \"0\", \"species_author\": \"Coelho, 1972\", \"order\": \"Decapoda\", \"suborder\": \"Nan\", \"infraorder\": \"Nan\", \"superfamily\": \"Nan\", \"family\": \"Inachidae\", \"subfamily\": \"Majinae\", \"tribe\": \"Majini\", \"determined_year\": null, \"start_year\": 1967.0, \"holotipo_year\": \"1972\", \"counts_x\": 1, \"counts_y\": 1, \"counts\": 1}, {\"cataloged_year\": 1987, \"count\": \"1\", \"class\": \"Malacostraca\", \"kingdom\": \"Animalia\", \"genus\": \"Cryphiops\", \"species\": \"Brasiliensis\", \"genus_and_species\": \"Cryphiops brasiliensis\", \"type_status\": \"Holotipo\", \"determiner_first_and_last_name\": \"Maria Correa\", \"determiner_first_name\": \"Maria\", \"determiner_last_name\": \"Correa\", \"depth\": \"0\", \"species_author\": \"Gomes Correa, 1973\", \"order\": \"Decapoda\", \"suborder\": \"Nan\", \"infraorder\": \"Nan\", \"superfamily\": \"Nan\", \"family\": \"Palaemonidae\", \"subfamily\": \"Nan\", \"tribe\": \"Palaemonini\", \"determined_year\": null, \"start_year\": 1972.0, \"holotipo_year\": \"1973\", \"counts_x\": 1, \"counts_y\": 1, \"counts\": 1}, {\"cataloged_year\": 1994, \"count\": \"1\", \"class\": \"Malacostraca\", \"kingdom\": \"Animalia\", \"genus\": \"Parapagurapseudopsis\", \"species\": \"Carinatus\", \"genus_and_species\": \"Parapagurapseudopsis carinatus\", \"type_status\": \"Holotipo\", \"determiner_first_and_last_name\": \"Ivanilce Brum\", \"determiner_first_name\": \"Ivanilce\", \"determiner_last_name\": \"Brum\", \"depth\": \"0\", \"species_author\": \"Brum, 1973\", \"order\": \"Tanaidacea\", \"suborder\": \"Nan\", \"infraorder\": \"Nan\", \"superfamily\": \"Nan\", \"family\": \"Pagurapseudidae\", \"subfamily\": \"Pagurapseudinae\", \"tribe\": \"Pagurapseudini\", \"determined_year\": 1973.0, \"start_year\": 1969.0, \"holotipo_year\": \"1973\", \"counts_x\": 3, \"counts_y\": 3, \"counts\": 3}, {\"cataloged_year\": 1994, \"count\": \"1\", \"class\": \"Malacostraca\", \"kingdom\": \"Animalia\", \"genus\": \"Psammokalliapseudes\", \"species\": \"Granulosus\", \"genus_and_species\": \"Psammokalliapseudes granulosus\", \"type_status\": \"Holotipo\", \"determiner_first_and_last_name\": \"Ivanilce Brum\", \"determiner_first_name\": \"Ivanilce\", \"determiner_last_name\": \"Brum\", \"depth\": \"0\", \"species_author\": \"Brum, 1973\", \"order\": \"Tanaidacea\", \"suborder\": \"Nan\", \"infraorder\": \"Nan\", \"superfamily\": \"Nan\", \"family\": \"Kalliapseudidae\", \"subfamily\": \"Kalliapseudinae\", \"tribe\": \"Kalliapseudini\", \"determined_year\": 1973.0, \"start_year\": 1969.0, \"holotipo_year\": \"1973\", \"counts_x\": 3, \"counts_y\": 3, \"counts\": 3}, {\"cataloged_year\": 1995, \"count\": \"1\", \"class\": \"Malacostraca\", \"kingdom\": \"Animalia\", \"genus\": \"Brasiloniscus\", \"species\": \"Verrucosus\", \"genus_and_species\": \"Brasiloniscus verrucosus\", \"type_status\": \"Holotipo\", \"determiner_first_and_last_name\": \"Alceu Castro\", \"determiner_first_name\": \"Alceu\", \"determiner_last_name\": \"Castro\", \"depth\": \"0\", \"species_author\": \"Lemos de Castro, 1973\", \"order\": \"Isopoda\", \"suborder\": \"Nan\", \"infraorder\": \"Nan\", \"superfamily\": \"Nan\", \"family\": \"Pudeoniscidae\", \"subfamily\": \"Pudeoniscinae\", \"tribe\": \"Pudeoniscini\", \"determined_year\": null, \"start_year\": 1959.0, \"holotipo_year\": \"1973\", \"counts_x\": 3, \"counts_y\": 3, \"counts\": 3}, {\"cataloged_year\": 1995, \"count\": \"1\", \"class\": \"Malacostraca\", \"kingdom\": \"Animalia\", \"genus\": \"Pudeoniscus\", \"species\": \"Obscurus\", \"genus_and_species\": \"Pudeoniscus obscurus\", \"type_status\": \"Holotipo\", \"determiner_first_and_last_name\": \"Alceu Castro\", \"determiner_first_name\": \"Alceu\", \"determiner_last_name\": \"Castro\", \"depth\": \"0\", \"species_author\": \"Lemos de Castro, 1973\", \"order\": \"Isopoda\", \"suborder\": \"Nan\", \"infraorder\": \"Nan\", \"superfamily\": \"Nan\", \"family\": \"Pudeoniscidae\", \"subfamily\": \"Pudeoniscinae\", \"tribe\": \"Pudeoniscini\", \"determined_year\": null, \"start_year\": null, \"holotipo_year\": \"1973\", \"counts_x\": 3, \"counts_y\": 3, \"counts\": 3}, {\"cataloged_year\": 1995, \"count\": \"1\", \"class\": \"Malacostraca\", \"kingdom\": \"Animalia\", \"genus\": \"Brasiloniscus\", \"species\": \"Maculatus\", \"genus_and_species\": \"Brasiloniscus maculatus\", \"type_status\": \"Holotipo\", \"determiner_first_and_last_name\": \"Alceu Castro\", \"determiner_first_name\": \"Alceu\", \"determiner_last_name\": \"Castro\", \"depth\": \"0\", \"species_author\": \"Lemos de Castro, 1973\", \"order\": \"Isopoda\", \"suborder\": \"Nan\", \"infraorder\": \"Nan\", \"superfamily\": \"Nan\", \"family\": \"Pudeoniscidae\", \"subfamily\": \"Pudeoniscinae\", \"tribe\": \"Pudeoniscini\", \"determined_year\": null, \"start_year\": 1965.0, \"holotipo_year\": \"1973\", \"counts_x\": 3, \"counts_y\": 3, \"counts\": 3}, {\"cataloged_year\": 1994, \"count\": \"1\", \"class\": \"Malacostraca\", \"kingdom\": \"Animalia\", \"genus\": \"Parapseudes\", \"species\": \"Inermis\", \"genus_and_species\": \"Parapseudes inermis\", \"type_status\": \"Holotipo\", \"determiner_first_and_last_name\": \"Ivanilce Brum\", \"determiner_first_name\": \"Ivanilce\", \"determiner_last_name\": \"Brum\", \"depth\": \"0\", \"species_author\": \"(Brum, 1973)\", \"order\": \"Tanaidacea\", \"suborder\": \"Nan\", \"infraorder\": \"Nan\", \"superfamily\": \"Nan\", \"family\": \"Parapseudidae\", \"subfamily\": \"Apseudinae\", \"tribe\": \"Apseudini\", \"determined_year\": 1973.0, \"start_year\": 1969.0, \"holotipo_year\": \"1973\", \"counts_x\": 3, \"counts_y\": 3, \"counts\": 3}, {\"cataloged_year\": 1995, \"count\": \"1\", \"class\": \"Malacostraca\", \"kingdom\": \"Animalia\", \"genus\": \"Pleurocrypta\", \"species\": \"Meridionalis\", \"genus_and_species\": \"Pleurocrypta meridionalis\", \"type_status\": \"Holotipo\", \"determiner_first_and_last_name\": \"Alceu Castro\", \"determiner_first_name\": \"Alceu\", \"determiner_last_name\": \"Castro\", \"depth\": \"133\", \"species_author\": \"Lemos de Castro & Brasil Lima, 1974\", \"order\": \"Isopoda\", \"suborder\": \"Nan\", \"infraorder\": \"Nan\", \"superfamily\": \"Nan\", \"family\": \"Bopyridae\", \"subfamily\": \"Bopyrinae\", \"tribe\": \"Bopyrini\", \"determined_year\": null, \"start_year\": 1966.0, \"holotipo_year\": \"1974\", \"counts_x\": 2, \"counts_y\": 2, \"counts\": 2}, {\"cataloged_year\": 1995, \"count\": \"1\", \"class\": \"Malacostraca\", \"kingdom\": \"Animalia\", \"genus\": \"Probopyrus\", \"species\": \"Palaemoni\", \"genus_and_species\": \"Probopyrus palaemoni\", \"type_status\": \"Holotipo\", \"determiner_first_and_last_name\": \"Alceu Castro\", \"determiner_first_name\": \"Alceu\", \"determiner_last_name\": \"Castro\", \"depth\": \"0\", \"species_author\": \"Lemos de Castro & Brasil Lima, 1974\", \"order\": \"Isopoda\", \"suborder\": \"Nan\", \"infraorder\": \"Nan\", \"superfamily\": \"Nan\", \"family\": \"Bopyridae\", \"subfamily\": \"Bopyrinae\", \"tribe\": \"Bopyrini\", \"determined_year\": null, \"start_year\": 1973.0, \"holotipo_year\": \"1974\", \"counts_x\": 2, \"counts_y\": 2, \"counts\": 2}, {\"cataloged_year\": 1995, \"count\": \"1\", \"class\": \"Malacostraca\", \"kingdom\": \"Animalia\", \"genus\": \"Upogebione\", \"species\": \"Tropica\", \"genus_and_species\": \"Upogebione tropica\", \"type_status\": \"Holotipo\", \"determiner_first_and_last_name\": \"Alceu Castro\", \"determiner_first_name\": \"Alceu\", \"determiner_last_name\": \"Castro\", \"depth\": \"0\", \"species_author\": \"(Lemos de Castro & Brasil-Lima, 1975)\", \"order\": \"Isopoda\", \"suborder\": \"Nan\", \"infraorder\": \"Nan\", \"superfamily\": \"Nan\", \"family\": \"Bopyridae\", \"subfamily\": \"Bopyrinae\", \"tribe\": \"Bopyrini\", \"determined_year\": null, \"start_year\": 1964.0, \"holotipo_year\": \"1975\", \"counts_x\": 1, \"counts_y\": 1, \"counts\": 1}, {\"cataloged_year\": 1995, \"count\": \"1\", \"class\": \"Malacostraca\", \"kingdom\": \"Animalia\", \"genus\": \"Spelaeogammarus\", \"species\": \"Bahiensis\", \"genus_and_species\": \"Spelaeogammarus bahiensis\", \"type_status\": \"Holotipo\", \"determiner_first_and_last_name\": \"Ivanilce Brum\", \"determiner_first_name\": \"Ivanilce\", \"determiner_last_name\": \"Brum\", \"depth\": \"0\", \"species_author\": \"Brum, 1975\", \"order\": \"Amphipoda\", \"suborder\": \"Nan\", \"infraorder\": \"Nan\", \"superfamily\": \"Nan\", \"family\": \"Bogidiellidae\", \"subfamily\": \"Bogidiellinae\", \"tribe\": \"Bogidiellini\", \"determined_year\": 1975.0, \"start_year\": null, \"holotipo_year\": \"1975\", \"counts_x\": 1, \"counts_y\": 1, \"counts\": 1}, {\"cataloged_year\": 1995, \"count\": \"1\", \"class\": \"Malacostraca\", \"kingdom\": \"Animalia\", \"genus\": \"Metacirolana\", \"species\": \"Riobaldoi\", \"genus_and_species\": \"Metacirolana riobaldoi\", \"type_status\": \"Holotipo\", \"determiner_first_and_last_name\": \"Alceu Castro\", \"determiner_first_name\": \"Alceu\", \"determiner_last_name\": \"Castro\", \"depth\": \"0\", \"species_author\": \"(Lemos de Castro & Brasil-Lima, 1976)\", \"order\": \"Isopoda\", \"suborder\": \"Nan\", \"infraorder\": \"Nan\", \"superfamily\": \"Nan\", \"family\": \"Cirolanidae\", \"subfamily\": \"Cirolaninae\", \"tribe\": \"Cirolanini\", \"determined_year\": null, \"start_year\": 1974.0, \"holotipo_year\": \"1976\", \"counts_x\": 1, \"counts_y\": 1, \"counts\": 1}, {\"cataloged_year\": 1995, \"count\": \"1\", \"class\": \"Malacostraca\", \"kingdom\": \"Animalia\", \"genus\": \"Paraleiopus\", \"species\": \"Macrochelis\", \"genus_and_species\": \"Paraleiopus macrochelis\", \"type_status\": \"Holotipo\", \"determiner_first_and_last_name\": \"Ivanilce Brum\", \"determiner_first_name\": \"Ivanilce\", \"determiner_last_name\": \"Brum\", \"depth\": \"0\", \"species_author\": \"Silva-brum, 1978\", \"order\": \"Tanaidacea\", \"suborder\": \"Nan\", \"infraorder\": \"Nan\", \"superfamily\": \"Nan\", \"family\": \"Kalliapseudidae\", \"subfamily\": \"Leiopinae\", \"tribe\": \"Leiopini\", \"determined_year\": 1978.0, \"start_year\": 1973.0, \"holotipo_year\": \"1978\", \"counts_x\": 1, \"counts_y\": 1, \"counts\": 1}, {\"cataloged_year\": 1995, \"count\": \"1\", \"class\": \"Malacostraca\", \"kingdom\": \"Animalia\", \"genus\": \"Coxicerberus\", \"species\": \"Parvulus\", \"genus_and_species\": \"Coxicerberus parvulus\", \"type_status\": \"Holotipo\", \"determiner_first_and_last_name\": \"Elaine Albuquerque\", \"determiner_first_name\": \"Elaine\", \"determiner_last_name\": \"Albuquerque\", \"depth\": \"0\", \"species_author\": \"Albuquerque, 1978\", \"order\": \"Isopoda\", \"suborder\": \"Nan\", \"infraorder\": \"Nan\", \"superfamily\": \"Nan\", \"family\": \"Microcerberidae\", \"subfamily\": \"Microcerberinae\", \"tribe\": \"Microcerberini\", \"determined_year\": null, \"start_year\": 1976.0, \"holotipo_year\": \"1978\", \"counts_x\": 4, \"counts_y\": 4, \"counts\": 4}, {\"cataloged_year\": 1995, \"count\": \"1\", \"class\": \"Malacostraca\", \"kingdom\": \"Animalia\", \"genus\": \"Coxicerberus\", \"species\": \"Brasiliensis\", \"genus_and_species\": \"Coxicerberus brasiliensis\", \"type_status\": \"Holotipo\", \"determiner_first_and_last_name\": \"Elaine Albuquerque\", \"determiner_first_name\": \"Elaine\", \"determiner_last_name\": \"Albuquerque\", \"depth\": \"0\", \"species_author\": \"Albuquerque, 1978\", \"order\": \"Isopoda\", \"suborder\": \"Nan\", \"infraorder\": \"Nan\", \"superfamily\": \"Nan\", \"family\": \"Microcerberidae\", \"subfamily\": \"Microcerberinae\", \"tribe\": \"Microcerberini\", \"determined_year\": null, \"start_year\": 1976.0, \"holotipo_year\": \"1978\", \"counts_x\": 4, \"counts_y\": 4, \"counts\": 4}, {\"cataloged_year\": 1995, \"count\": \"1\", \"class\": \"Malacostraca\", \"kingdom\": \"Animalia\", \"genus\": \"Coxicerberus\", \"species\": \"Magnus\", \"genus_and_species\": \"Coxicerberus magnus\", \"type_status\": \"Holotipo\", \"determiner_first_and_last_name\": \"Elaine Albuquerque\", \"determiner_first_name\": \"Elaine\", \"determiner_last_name\": \"Albuquerque\", \"depth\": \"0\", \"species_author\": \"Albuquerque, 1978\", \"order\": \"Isopoda\", \"suborder\": \"Nan\", \"infraorder\": \"Nan\", \"superfamily\": \"Nan\", \"family\": \"Microcerberidae\", \"subfamily\": \"Microcerberinae\", \"tribe\": \"Microcerberini\", \"determined_year\": null, \"start_year\": 1976.0, \"holotipo_year\": \"1978\", \"counts_x\": 4, \"counts_y\": 4, \"counts\": 4}, {\"cataloged_year\": 1995, \"count\": \"1\", \"class\": \"Malacostraca\", \"kingdom\": \"Animalia\", \"genus\": \"Bathynomus\", \"species\": \"Miyarei\", \"genus_and_species\": \"Bathynomus miyarei\", \"type_status\": \"Holotipo\", \"determiner_first_and_last_name\": \"Alceu Castro\", \"determiner_first_name\": \"Alceu\", \"determiner_last_name\": \"Castro\", \"depth\": \"280\", \"species_author\": \"Lemos de Castro, 1978\", \"order\": \"Isopoda\", \"suborder\": \"Nan\", \"infraorder\": \"Nan\", \"superfamily\": \"Nan\", \"family\": \"Cirolanidae\", \"subfamily\": \"Cirolaninae\", \"tribe\": \"Cirolanini\", \"determined_year\": 1978.0, \"start_year\": 1973.0, \"holotipo_year\": \"1978\", \"counts_x\": 1, \"counts_y\": 1, \"counts\": 1}, {\"cataloged_year\": 1995, \"count\": \"1\", \"class\": \"Malacostraca\", \"kingdom\": \"Animalia\", \"genus\": \"Coxicerberus\", \"species\": \"Ramosae\", \"genus_and_species\": \"Coxicerberus ramosae\", \"type_status\": \"Holotipo\", \"determiner_first_and_last_name\": \"Elaine Albuquerque\", \"determiner_first_name\": \"Elaine\", \"determiner_last_name\": \"Albuquerque\", \"depth\": \"0\", \"species_author\": \"Albuquerque, 1978\", \"order\": \"Isopoda\", \"suborder\": \"Nan\", \"infraorder\": \"Nan\", \"superfamily\": \"Nan\", \"family\": \"Microcerberidae\", \"subfamily\": \"Microcerberinae\", \"tribe\": \"Microcerberini\", \"determined_year\": null, \"start_year\": 1976.0, \"holotipo_year\": \"1978\", \"counts_x\": 4, \"counts_y\": 4, \"counts\": 4}, {\"cataloged_year\": 2007, \"count\": \"4\", \"class\": \"Malacostraca\", \"kingdom\": \"Animalia\", \"genus\": \"Pseudopalaemon\", \"species\": \"Amazonensis\", \"genus_and_species\": \"Pseudopalaemon amazonensis\", \"type_status\": \"Holotipo\", \"determiner_first_and_last_name\": \"Jesser Filho\", \"determiner_first_name\": \"Jesser\", \"determiner_last_name\": \"Filho\", \"depth\": \"0\", \"species_author\": \"Ramos-Porto, 1979\", \"order\": \"Decapoda\", \"suborder\": \"Nan\", \"infraorder\": \"Nan\", \"superfamily\": \"Nan\", \"family\": \"Palaemonidae\", \"subfamily\": \"Palaemoninae\", \"tribe\": \"Palaemonini\", \"determined_year\": 2007.0, \"start_year\": 1986.0, \"holotipo_year\": \"1979\", \"counts_x\": 1, \"counts_y\": 1, \"counts\": 1}, {\"cataloged_year\": 1995, \"count\": \"1\", \"class\": \"Malacostraca\", \"kingdom\": \"Animalia\", \"genus\": \"Hemicepon\", \"species\": \"Muelleri\", \"genus_and_species\": \"Hemicepon muelleri\", \"type_status\": \"Holotipo\", \"determiner_first_and_last_name\": \"Alceu Castro\", \"determiner_first_name\": \"Alceu\", \"determiner_last_name\": \"Castro\", \"depth\": \"0\", \"species_author\": \"Lemos de Castro & Brasil-Lima, 1980\", \"order\": \"Isopoda\", \"suborder\": \"Nan\", \"infraorder\": \"Nan\", \"superfamily\": \"Nan\", \"family\": \"Bopyridae\", \"subfamily\": \"Bopyrinae\", \"tribe\": \"Bopyrini\", \"determined_year\": null, \"start_year\": 1959.0, \"holotipo_year\": \"1980\", \"counts_x\": 1, \"counts_y\": 1, \"counts\": 1}, {\"cataloged_year\": 1995, \"count\": \"1\", \"class\": \"Malacostraca\", \"kingdom\": \"Animalia\", \"genus\": \"Castrione\", \"species\": \"Longicaudata\", \"genus_and_species\": \"Castrione longicaudata\", \"type_status\": \"Holotipo\", \"determiner_first_and_last_name\": \"I Lima\", \"determiner_first_name\": \"I\", \"determiner_last_name\": \"Lima\", \"depth\": \"0\", \"species_author\": \"Brasil-Lima, 1980\", \"order\": \"Isopoda\", \"suborder\": \"Nan\", \"infraorder\": \"Nan\", \"superfamily\": \"Nan\", \"family\": \"Bopyridae\", \"subfamily\": \"Bopyrinae\", \"tribe\": \"Bopyrini\", \"determined_year\": null, \"start_year\": null, \"holotipo_year\": \"1980\", \"counts_x\": 1, \"counts_y\": 1, \"counts\": 1}, {\"cataloged_year\": 1998, \"count\": \"1\", \"class\": \"Malacostraca\", \"kingdom\": \"Animalia\", \"genus\": \"Benthana\", \"species\": \"Dimorpha\", \"genus_and_species\": \"Benthana dimorpha\", \"type_status\": \"Holotipo\", \"determiner_first_and_last_name\": \"Alceu Castro\", \"determiner_first_name\": \"Alceu\", \"determiner_last_name\": \"Castro\", \"depth\": \"0\", \"species_author\": \"Lemos de Castro, 1985\", \"order\": \"Isopoda\", \"suborder\": \"Nan\", \"infraorder\": \"Nan\", \"superfamily\": \"Nan\", \"family\": \"Philosciidae\", \"subfamily\": \"Philosciinae\", \"tribe\": \"Philosciini\", \"determined_year\": null, \"start_year\": 1956.0, \"holotipo_year\": \"1985\", \"counts_x\": 1, \"counts_y\": 1, \"counts\": 1}, {\"cataloged_year\": 1997, \"count\": \"4\", \"class\": \"Malacostraca\", \"kingdom\": \"Animalia\", \"genus\": \"Prosekia\", \"species\": \"Silvatica\", \"genus_and_species\": \"Prosekia silvatica\", \"type_status\": \"Holotipo\", \"determiner_first_and_last_name\": \"Alceu Castro\", \"determiner_first_name\": \"Alceu\", \"determiner_last_name\": \"Castro\", \"depth\": \"0\", \"species_author\": \"Lemos de Castro & Souza, 1986\", \"order\": \"Isopoda\", \"suborder\": \"Nan\", \"infraorder\": \"Nan\", \"superfamily\": \"Nan\", \"family\": \"Philosciidae\", \"subfamily\": \"Philosciinae\", \"tribe\": \"Philosciini\", \"determined_year\": null, \"start_year\": 1966.0, \"holotipo_year\": \"1986\", \"counts_x\": 1, \"counts_y\": 1, \"counts\": 1}, {\"cataloged_year\": 1995, \"count\": \"1\", \"class\": \"Malacostraca\", \"kingdom\": \"Animalia\", \"genus\": \"Rocinela\", \"species\": \"Tropica\", \"genus_and_species\": \"Rocinela tropica\", \"type_status\": \"Holotipo\", \"determiner_first_and_last_name\": \"I Lima\", \"determiner_first_name\": \"I\", \"determiner_last_name\": \"Lima\", \"depth\": \"0\", \"species_author\": \"Brasil-Lima, 1986\", \"order\": \"Isopoda\", \"suborder\": \"Nan\", \"infraorder\": \"Nan\", \"superfamily\": \"Nan\", \"family\": \"Aegidae\", \"subfamily\": \"Aeginae\", \"tribe\": \"Aegini\", \"determined_year\": null, \"start_year\": null, \"holotipo_year\": \"1986\", \"counts_x\": 2, \"counts_y\": 2, \"counts\": 2}, {\"cataloged_year\": 1995, \"count\": \"1\", \"class\": \"Malacostraca\", \"kingdom\": \"Animalia\", \"genus\": \"Rocinela\", \"species\": \"Patriciae\", \"genus_and_species\": \"Rocinela patriciae\", \"type_status\": \"Holotipo\", \"determiner_first_and_last_name\": \"I Lima\", \"determiner_first_name\": \"I\", \"determiner_last_name\": \"Lima\", \"depth\": \"0\", \"species_author\": \"Brasil-Lima, 1986\", \"order\": \"Isopoda\", \"suborder\": \"Nan\", \"infraorder\": \"Nan\", \"superfamily\": \"Nan\", \"family\": \"Aegidae\", \"subfamily\": \"Aeginae\", \"tribe\": \"Aegini\", \"determined_year\": null, \"start_year\": null, \"holotipo_year\": \"1986\", \"counts_x\": 2, \"counts_y\": 2, \"counts\": 2}, {\"cataloged_year\": 1994, \"count\": \"1\", \"class\": \"Malacostraca\", \"kingdom\": \"Animalia\", \"genus\": \"Vadosiapus\", \"species\": \"Copacabanus\", \"genus_and_species\": \"Vadosiapus copacabanus\", \"type_status\": \"Holotipo\", \"determiner_first_and_last_name\": \"James Barnard\", \"determiner_first_name\": \"James\", \"determiner_last_name\": \"Barnard\", \"depth\": \"0\", \"species_author\": \"Barnard & Thomas, 1988\", \"order\": \"Amphipoda\", \"suborder\": \"Nan\", \"infraorder\": \"Nan\", \"superfamily\": \"Nan\", \"family\": \"E0oedicerotidae\", \"subfamily\": \"Exoegicerotinae\", \"tribe\": \"Exoegicerotini\", \"determined_year\": 1987.0, \"start_year\": 1985.0, \"holotipo_year\": \"1988\", \"counts_x\": 2, \"counts_y\": 2, \"counts\": 2}, {\"cataloged_year\": 1995, \"count\": \"1\", \"class\": \"Malacostraca\", \"kingdom\": \"Animalia\", \"genus\": \"Ipanema\", \"species\": \"Talpa\", \"genus_and_species\": \"Ipanema talpa\", \"type_status\": \"Holotipo\", \"determiner_first_and_last_name\": \"James Barnard\", \"determiner_first_name\": \"James\", \"determiner_last_name\": \"Barnard\", \"depth\": \"0\", \"species_author\": \"Barnard & Thomas, 1988\", \"order\": \"Amphipoda\", \"suborder\": \"Nan\", \"infraorder\": \"Nan\", \"superfamily\": \"Nan\", \"family\": \"Ipanemidae\", \"subfamily\": \"Ipaneminae\", \"tribe\": \"Ipanemini\", \"determined_year\": null, \"start_year\": null, \"holotipo_year\": \"1988\", \"counts_x\": 2, \"counts_y\": 2, \"counts\": 2}, {\"cataloged_year\": 1980, \"count\": \"1\", \"class\": \"Malacostraca\", \"kingdom\": \"Animalia\", \"genus\": \"Chaceon\", \"species\": \"Ramosae\", \"genus_and_species\": \"Chaceon ramosae\", \"type_status\": \"Holotipo\", \"determiner_first_and_last_name\": \"Equipe Mnrj\", \"determiner_first_name\": \"Equipe\", \"determiner_last_name\": \"Mnrj\", \"depth\": \"0\", \"species_author\": \"Manning, Tavares & Albuquerque, 1989\", \"order\": \"Decapoda\", \"suborder\": \"Nan\", \"infraorder\": \"Nan\", \"superfamily\": \"Nan\", \"family\": \"Geryonidae\", \"subfamily\": \"Geryoninae\", \"tribe\": \"Geryonini\", \"determined_year\": null, \"start_year\": 1987.0, \"holotipo_year\": \"1989\", \"counts_x\": 1, \"counts_y\": 1, \"counts\": 1}, {\"cataloged_year\": 1994, \"count\": \"1\", \"class\": \"Malacostraca\", \"kingdom\": \"Animalia\", \"genus\": \"Circoniscus\", \"species\": \"Incisus\", \"genus_and_species\": \"Circoniscus incisus\", \"type_status\": \"Holotipo\", \"determiner_first_and_last_name\": \"Luiz Souza\", \"determiner_first_name\": \"Luiz\", \"determiner_last_name\": \"Souza\", \"depth\": \"0\", \"species_author\": \"Souza & Lemos de Castro, 1991\", \"order\": \"Isopoda\", \"suborder\": \"Nan\", \"infraorder\": \"Nan\", \"superfamily\": \"Nan\", \"family\": \"Scleropactidae\", \"subfamily\": \"Scleropactinae\", \"tribe\": \"Scleropactini\", \"determined_year\": null, \"start_year\": null, \"holotipo_year\": \"1991\", \"counts_x\": 2, \"counts_y\": 2, \"counts\": 2}, {\"cataloged_year\": 1994, \"count\": \"1\", \"class\": \"Malacostraca\", \"kingdom\": \"Animalia\", \"genus\": \"Circoniscus\", \"species\": \"Intermedius\", \"genus_and_species\": \"Circoniscus intermedius\", \"type_status\": \"Holotipo\", \"determiner_first_and_last_name\": \"Luiz Souza\", \"determiner_first_name\": \"Luiz\", \"determiner_last_name\": \"Souza\", \"depth\": \"0\", \"species_author\": \"Souza & Lemos de Castro, 1991\", \"order\": \"Isopoda\", \"suborder\": \"Nan\", \"infraorder\": \"Nan\", \"superfamily\": \"Nan\", \"family\": \"Scleropactidae\", \"subfamily\": \"Scleropactinae\", \"tribe\": \"Scleropactini\", \"determined_year\": null, \"start_year\": 1979.0, \"holotipo_year\": \"1991\", \"counts_x\": 2, \"counts_y\": 2, \"counts\": 2}, {\"cataloged_year\": 1994, \"count\": \"1\", \"class\": \"Maxillopoda\", \"kingdom\": \"Animalia\", \"genus\": \"Circoniscus\", \"species\": \"Gracilidens\", \"genus_and_species\": \"Circoniscus gracilidens\", \"type_status\": \"Holotipo\", \"determiner_first_and_last_name\": \"Alceu Castro\", \"determiner_first_name\": \"Alceu\", \"determiner_last_name\": \"Castro\", \"depth\": \"0\", \"species_author\": \"Souza & Lemos de Castro, 1991\", \"order\": \"Isopoda\", \"suborder\": \"Nan\", \"infraorder\": \"Nan\", \"superfamily\": \"Nan\", \"family\": \"Scleropactidae\", \"subfamily\": \"Scleropactinae\", \"tribe\": \"Scleropactini\", \"determined_year\": null, \"start_year\": 1939.0, \"holotipo_year\": \"1991\", \"counts_x\": 1, \"counts_y\": 1, \"counts\": 1}, {\"cataloged_year\": 2009, \"count\": \"1\", \"class\": \"Malacostraca\", \"kingdom\": \"Animalia\", \"genus\": \"Rochinia\", \"species\": \"Confusa\", \"genus_and_species\": \"Rochinia confusa\", \"type_status\": \"Holotipo\", \"determiner_first_and_last_name\": \"Cristiana Serejo\", \"determiner_first_name\": \"Cristiana\", \"determiner_last_name\": \"Serejo\", \"depth\": \"0\", \"species_author\": \"Tavares, 1991\", \"order\": \"Decapoda\", \"suborder\": \"Nan\", \"infraorder\": \"Nan\", \"superfamily\": \"Nan\", \"family\": \"Epialtidae\", \"subfamily\": \"Majinae\", \"tribe\": \"Majini\", \"determined_year\": null, \"start_year\": 1987.0, \"holotipo_year\": \"1991\", \"counts_x\": 1, \"counts_y\": 1, \"counts\": 1}, {\"cataloged_year\": 1995, \"count\": \"1\", \"class\": \"Malacostraca\", \"kingdom\": \"Animalia\", \"genus\": \"Benthana\", \"species\": \"Iporangensis\", \"genus_and_species\": \"Benthana iporangensis\", \"type_status\": \"Holotipo\", \"determiner_first_and_last_name\": \"I Lima\", \"determiner_first_name\": \"I\", \"determiner_last_name\": \"Lima\", \"depth\": \"0\", \"species_author\": \"Brasil-Lima & Serejo, 1993\", \"order\": \"Isopoda\", \"suborder\": \"Nan\", \"infraorder\": \"Nan\", \"superfamily\": \"Nan\", \"family\": \"Philosciidae\", \"subfamily\": \"Philosciinae\", \"tribe\": \"Philosciini\", \"determined_year\": null, \"start_year\": 1983.0, \"holotipo_year\": \"1993\", \"counts_x\": 1, \"counts_y\": 1, \"counts\": 1}, {\"cataloged_year\": 1994, \"count\": \"4\", \"class\": \"Malacostraca\", \"kingdom\": \"Animalia\", \"genus\": \"Trichorhina\", \"species\": \"Macrops\", \"genus_and_species\": \"Trichorhina macrops\", \"type_status\": \"Holotipo\", \"determiner_first_and_last_name\": \"L Kury\", \"determiner_first_name\": \"L\", \"determiner_last_name\": \"Kury\", \"depth\": \"0\", \"species_author\": \"Souza-Kury, 1993\", \"order\": \"Isopoda\", \"suborder\": \"Nan\", \"infraorder\": \"Nan\", \"superfamily\": \"Nan\", \"family\": \"Platyarthridae\", \"subfamily\": \"Platyarthrinae\", \"tribe\": \"Platyarthrini\", \"determined_year\": 1991.0, \"start_year\": 1980.0, \"holotipo_year\": \"1993\", \"counts_x\": 1, \"counts_y\": 1, \"counts\": 1}, {\"cataloged_year\": 1995, \"count\": \"1\", \"class\": \"Malacostraca\", \"kingdom\": \"Animalia\", \"genus\": \"Podocerus\", \"species\": \"Fissipes\", \"genus_and_species\": \"Podocerus fissipes\", \"type_status\": \"Holotipo\", \"determiner_first_and_last_name\": \"Cristiana Serejo\", \"determiner_first_name\": \"Cristiana\", \"determiner_last_name\": \"Serejo\", \"depth\": \"0\", \"species_author\": \"Serejo, 1996\", \"order\": \"Amphipoda\", \"suborder\": \"Nan\", \"infraorder\": \"Nan\", \"superfamily\": \"Nan\", \"family\": \"Podoceridae\", \"subfamily\": \"Podocerinae\", \"tribe\": \"Podocerini\", \"determined_year\": 1995.0, \"start_year\": 1994.0, \"holotipo_year\": \"1996\", \"counts_x\": 1, \"counts_y\": 1, \"counts\": 1}, {\"cataloged_year\": 1994, \"count\": \"4\", \"class\": \"Copepoda\", \"kingdom\": \"Animalia\", \"genus\": \"Caligus\", \"species\": \"Sepetibensis\", \"genus_and_species\": \"Caligus sepetibensis\", \"type_status\": \"Holotipo\", \"determiner_first_and_last_name\": \"Jose Luque\", \"determiner_first_name\": \"Jose\", \"determiner_last_name\": \"Luque\", \"depth\": \"0\", \"species_author\": \"Luque & Takemoto, 1996\", \"order\": \"Siphonostomatoida\", \"suborder\": \"Nan\", \"infraorder\": \"Nan\", \"superfamily\": \"Nan\", \"family\": \"Caligidae\", \"subfamily\": \"Caliginae\", \"tribe\": \"Caligini\", \"determined_year\": null, \"start_year\": 1991.0, \"holotipo_year\": \"1996\", \"counts_x\": 1, \"counts_y\": 1, \"counts\": 1}, {\"cataloged_year\": 1994, \"count\": \"1\", \"class\": \"Branchiopoda\", \"kingdom\": \"Animalia\", \"genus\": \"Dendrocephalus\", \"species\": \"Goiasensis\", \"genus_and_species\": \"Dendrocephalus goiasensis\", \"type_status\": \"Holotipo\", \"determiner_first_and_last_name\": \"Nicolas Rabet\", \"determiner_first_name\": \"Nicolas\", \"determiner_last_name\": \"Rabet\", \"depth\": \"0\", \"species_author\": \"Rabet & Thiery, 1996\", \"order\": \"Anostraca\", \"suborder\": \"Nan\", \"infraorder\": \"Nan\", \"superfamily\": \"Nan\", \"family\": \"Thamnocephalidae\", \"subfamily\": \"Thamnocephalinae\", \"tribe\": \"Thamnocephalini\", \"determined_year\": 1993.0, \"start_year\": 1989.0, \"holotipo_year\": \"1996\", \"counts_x\": 2, \"counts_y\": 2, \"counts\": 2}, {\"cataloged_year\": 1994, \"count\": \"1\", \"class\": \"Branchiopoda\", \"kingdom\": \"Animalia\", \"genus\": \"Dendrocephalus\", \"species\": \"Orientalis\", \"genus_and_species\": \"Dendrocephalus orientalis\", \"type_status\": \"Holotipo\", \"determiner_first_and_last_name\": \"Nicolas Rabet\", \"determiner_first_name\": \"Nicolas\", \"determiner_last_name\": \"Rabet\", \"depth\": \"0\", \"species_author\": \"Rabet & Thiery, 1996\", \"order\": \"Anostraca\", \"suborder\": \"Nan\", \"infraorder\": \"Nan\", \"superfamily\": \"Nan\", \"family\": \"Thamnocephalidae\", \"subfamily\": \"Thamnocephalinae\", \"tribe\": \"Thamnocephalini\", \"determined_year\": 1993.0, \"start_year\": 1993.0, \"holotipo_year\": \"1996\", \"counts_x\": 2, \"counts_y\": 2, \"counts\": 2}, {\"cataloged_year\": 1994, \"count\": \"4\", \"class\": \"Malacostraca\", \"kingdom\": \"Animalia\", \"genus\": \"Trichorhina\", \"species\": \"Amazonica\", \"genus_and_species\": \"Trichorhina amazonica\", \"type_status\": \"Holotipo\", \"determiner_first_and_last_name\": \"L Kury\", \"determiner_first_name\": \"L\", \"determiner_last_name\": \"Kury\", \"depth\": \"0\", \"species_author\": \"Souza-Kury, 1997\", \"order\": \"Isopoda\", \"suborder\": \"Nan\", \"infraorder\": \"Nan\", \"superfamily\": \"Nan\", \"family\": \"Platyarthridae\", \"subfamily\": \"Platyarthrinae\", \"tribe\": \"Platyarthrini\", \"determined_year\": 1991.0, \"start_year\": null, \"holotipo_year\": \"1997\", \"counts_x\": 2, \"counts_y\": 2, \"counts\": 2}, {\"cataloged_year\": 2009, \"count\": \"1\", \"class\": \"Malacostraca\", \"kingdom\": \"Animalia\", \"genus\": \"Bathyarctus\", \"species\": \"Ramosae\", \"genus_and_species\": \"Bathyarctus ramosae\", \"type_status\": \"Holotipo\", \"determiner_first_and_last_name\": \"Cristiana Serejo\", \"determiner_first_name\": \"Cristiana\", \"determiner_last_name\": \"Serejo\", \"depth\": \"0\", \"species_author\": \"(Tavares, 1997)\", \"order\": \"Decapoda\", \"suborder\": \"Nan\", \"infraorder\": \"Nan\", \"superfamily\": \"Nan\", \"family\": \"Scyllaridae\", \"subfamily\": \"Scyllarinae\", \"tribe\": \"Scyllarini\", \"determined_year\": null, \"start_year\": 1987.0, \"holotipo_year\": \"1997\", \"counts_x\": 1, \"counts_y\": 1, \"counts\": 1}, {\"cataloged_year\": 1994, \"count\": \"4\", \"class\": \"Malacostraca\", \"kingdom\": \"Animalia\", \"genus\": \"Trichorhina\", \"species\": \"Paraensis\", \"genus_and_species\": \"Trichorhina paraensis\", \"type_status\": \"Holotipo\", \"determiner_first_and_last_name\": \"L Kury\", \"determiner_first_name\": \"L\", \"determiner_last_name\": \"Kury\", \"depth\": \"0\", \"species_author\": \"Souza-Kury, 1997\", \"order\": \"Isopoda\", \"suborder\": \"Nan\", \"infraorder\": \"Nan\", \"superfamily\": \"Nan\", \"family\": \"Platyarthridae\", \"subfamily\": \"Platyarthrinae\", \"tribe\": \"Platyarthrini\", \"determined_year\": 1991.0, \"start_year\": 1967.0, \"holotipo_year\": \"1997\", \"counts_x\": 2, \"counts_y\": 2, \"counts\": 2}, {\"cataloged_year\": 1997, \"count\": \"1\", \"class\": \"Copepoda\", \"kingdom\": \"Animalia\", \"genus\": \"Monocheres\", \"species\": \"Cagarrensis\", \"genus_and_species\": \"Monocheres cagarrensis\", \"type_status\": \"Holotipo\", \"determiner_first_and_last_name\": \"Rodrigo Johnsson\", \"determiner_first_name\": \"Rodrigo\", \"determiner_last_name\": \"Johnsson\", \"depth\": \"7\", \"species_author\": \"Johnsson & Bustamante, 1997\", \"order\": \"Siphonostomatoida\", \"suborder\": \"Nan\", \"infraorder\": \"Nan\", \"superfamily\": \"Nan\", \"family\": \"Asterocheridae\", \"subfamily\": \"Asterocherinae\", \"tribe\": \"Asterocherini\", \"determined_year\": null, \"start_year\": 1994.0, \"holotipo_year\": \"1997\", \"counts_x\": 1, \"counts_y\": 1, \"counts\": 1}, {\"cataloged_year\": 1996, \"count\": \"1\", \"class\": \"Copepoda\", \"kingdom\": \"Animalia\", \"genus\": \"Orecturus\", \"species\": \"Bahiensis\", \"genus_and_species\": \"Orecturus bahiensis\", \"type_status\": \"Holotipo\", \"determiner_first_and_last_name\": \"Rodrigo Johnsson\", \"determiner_first_name\": \"Rodrigo\", \"determiner_last_name\": \"Johnsson\", \"depth\": \"0\", \"species_author\": \"Johnsson, 1998\", \"order\": \"Siphonostomatoida\", \"suborder\": \"Nan\", \"infraorder\": \"Nan\", \"superfamily\": \"Nan\", \"family\": \"Asterocheridae\", \"subfamily\": \"Asterocherinae\", \"tribe\": \"Asterocherini\", \"determined_year\": null, \"start_year\": 1995.0, \"holotipo_year\": \"1998\", \"counts_x\": 2, \"counts_y\": 2, \"counts\": 2}, {\"cataloged_year\": 1996, \"count\": \"1\", \"class\": \"Copepoda\", \"kingdom\": \"Animalia\", \"genus\": \"Asteropontoides\", \"species\": \"Elephantinus\", \"genus_and_species\": \"Asteropontoides elephantinus\", \"type_status\": \"Holotipo\", \"determiner_first_and_last_name\": \"Rodrigo Johnsson\", \"determiner_first_name\": \"Rodrigo\", \"determiner_last_name\": \"Johnsson\", \"depth\": \"0\", \"species_author\": \"Johnsson, 1998\", \"order\": \"Siphonostomatoida\", \"suborder\": \"Nan\", \"infraorder\": \"Nan\", \"superfamily\": \"Nan\", \"family\": \"Asterocheridae\", \"subfamily\": \"Asterocherinae\", \"tribe\": \"Asterocherini\", \"determined_year\": 1996.0, \"start_year\": 1994.0, \"holotipo_year\": \"1998\", \"counts_x\": 2, \"counts_y\": 2, \"counts\": 2}, {\"cataloged_year\": 1997, \"count\": \"1\", \"class\": \"Malacostraca\", \"kingdom\": \"Animalia\", \"genus\": \"Leucothoe\", \"species\": \"Basilobata\", \"genus_and_species\": \"Leucothoe basilobata\", \"type_status\": \"Holotipo\", \"determiner_first_and_last_name\": \"Cristiana Serejo\", \"determiner_first_name\": \"Cristiana\", \"determiner_last_name\": \"Serejo\", \"depth\": \"0\", \"species_author\": \"Serejo, 1998\", \"order\": \"Amphipoda\", \"suborder\": \"Nan\", \"infraorder\": \"Nan\", \"superfamily\": \"Nan\", \"family\": \"Leucothoidae\", \"subfamily\": \"Leucothoinae\", \"tribe\": \"Leucothoini\", \"determined_year\": null, \"start_year\": 1995.0, \"holotipo_year\": \"1998\", \"counts_x\": 4, \"counts_y\": 4, \"counts\": 4}, {\"cataloged_year\": 1997, \"count\": \"1\", \"class\": \"Malacostraca\", \"kingdom\": \"Animalia\", \"genus\": \"Leucothoe\", \"species\": \"Urospinosa\", \"genus_and_species\": \"Leucothoe urospinosa\", \"type_status\": \"Holotipo\", \"determiner_first_and_last_name\": \"Cristiana Serejo\", \"determiner_first_name\": \"Cristiana\", \"determiner_last_name\": \"Serejo\", \"depth\": \"0\", \"species_author\": \"Serejo, 1998\", \"order\": \"Amphipoda\", \"suborder\": \"Nan\", \"infraorder\": \"Nan\", \"superfamily\": \"Nan\", \"family\": \"Leucothoidae\", \"subfamily\": \"Leucothoinae\", \"tribe\": \"Leucothoini\", \"determined_year\": null, \"start_year\": 1994.0, \"holotipo_year\": \"1998\", \"counts_x\": 4, \"counts_y\": 4, \"counts\": 4}, {\"cataloged_year\": 1997, \"count\": \"1\", \"class\": \"Malacostraca\", \"kingdom\": \"Animalia\", \"genus\": \"Leucothoe\", \"species\": \"Cheiriserra\", \"genus_and_species\": \"Leucothoe cheiriserra\", \"type_status\": \"Holotipo\", \"determiner_first_and_last_name\": \"Cristiana Serejo\", \"determiner_first_name\": \"Cristiana\", \"determiner_last_name\": \"Serejo\", \"depth\": \"0\", \"species_author\": \"Serejo, 1998\", \"order\": \"Amphipoda\", \"suborder\": \"Nan\", \"infraorder\": \"Nan\", \"superfamily\": \"Nan\", \"family\": \"Leucothoidae\", \"subfamily\": \"Leucothoinae\", \"tribe\": \"Leucothoini\", \"determined_year\": null, \"start_year\": 1994.0, \"holotipo_year\": \"1998\", \"counts_x\": 4, \"counts_y\": 4, \"counts\": 4}, {\"cataloged_year\": 1997, \"count\": \"1\", \"class\": \"Malacostraca\", \"kingdom\": \"Animalia\", \"genus\": \"Leucothoe\", \"species\": \"Leptosa\", \"genus_and_species\": \"Leucothoe leptosa\", \"type_status\": \"Holotipo\", \"determiner_first_and_last_name\": \"Cristiana Serejo\", \"determiner_first_name\": \"Cristiana\", \"determiner_last_name\": \"Serejo\", \"depth\": \"30\", \"species_author\": \"Serejo, 1998\", \"order\": \"Amphipoda\", \"suborder\": \"Nan\", \"infraorder\": \"Nan\", \"superfamily\": \"Nan\", \"family\": \"Leucothoidae\", \"subfamily\": \"Leucothoinae\", \"tribe\": \"Leucothoini\", \"determined_year\": null, \"start_year\": 1995.0, \"holotipo_year\": \"1998\", \"counts_x\": 4, \"counts_y\": 4, \"counts\": 4}, {\"cataloged_year\": 1997, \"count\": \"1\", \"class\": \"Copepoda\", \"kingdom\": \"Animalia\", \"genus\": \"Asterocheres\", \"species\": \"Crenulatus\", \"genus_and_species\": \"Asterocheres crenulatus\", \"type_status\": \"Holotipo\", \"determiner_first_and_last_name\": \"Rodrigo Johnsson\", \"determiner_first_name\": \"Rodrigo\", \"determiner_last_name\": \"Johnsson\", \"depth\": \"0\", \"species_author\": \"Johnsson, 1999\", \"order\": \"Siphonostomatoida\", \"suborder\": \"Nan\", \"infraorder\": \"Nan\", \"superfamily\": \"Nan\", \"family\": \"Asterocheridae\", \"subfamily\": \"Asterocherinae\", \"tribe\": \"Asterocherini\", \"determined_year\": null, \"start_year\": 1994.0, \"holotipo_year\": \"1999\", \"counts_x\": 9, \"counts_y\": 9, \"counts\": 9}, {\"cataloged_year\": 1997, \"count\": \"1\", \"class\": \"Copepoda\", \"kingdom\": \"Animalia\", \"genus\": \"Asterocheres\", \"species\": \"Tetrasetosus\", \"genus_and_species\": \"Asterocheres tetrasetosus\", \"type_status\": \"Holotipo\", \"determiner_first_and_last_name\": \"Rodrigo Johnsson\", \"determiner_first_name\": \"Rodrigo\", \"determiner_last_name\": \"Johnsson\", \"depth\": \"0\", \"species_author\": \"Johnsson, 1999\", \"order\": \"Siphonostomatoida\", \"suborder\": \"Nan\", \"infraorder\": \"Nan\", \"superfamily\": \"Nan\", \"family\": \"Asterocheridae\", \"subfamily\": \"Asterocherinae\", \"tribe\": \"Asterocherini\", \"determined_year\": null, \"start_year\": 1994.0, \"holotipo_year\": \"1999\", \"counts_x\": 9, \"counts_y\": 9, \"counts\": 9}, {\"cataloged_year\": 1997, \"count\": \"1\", \"class\": \"Copepoda\", \"kingdom\": \"Animalia\", \"genus\": \"Asterocheres\", \"species\": \"Lunatus\", \"genus_and_species\": \"Asterocheres lunatus\", \"type_status\": \"Holotipo\", \"determiner_first_and_last_name\": \"Rodrigo Johnsson\", \"determiner_first_name\": \"Rodrigo\", \"determiner_last_name\": \"Johnsson\", \"depth\": \"0\", \"species_author\": \"Johnsson, 1999\", \"order\": \"Siphonostomatoida\", \"suborder\": \"Nan\", \"infraorder\": \"Nan\", \"superfamily\": \"Nan\", \"family\": \"Asterocheridae\", \"subfamily\": \"Asterocherinae\", \"tribe\": \"Asterocherini\", \"determined_year\": null, \"start_year\": 1994.0, \"holotipo_year\": \"1999\", \"counts_x\": 9, \"counts_y\": 9, \"counts\": 9}, {\"cataloged_year\": 1998, \"count\": \"1\", \"class\": \"Copepoda\", \"kingdom\": \"Animalia\", \"genus\": \"Asteropontius\", \"species\": \"Elizabethae\", \"genus_and_species\": \"Asteropontius elizabethae\", \"type_status\": \"Holotipo\", \"determiner_first_and_last_name\": \"Rodrigo Johnsson\", \"determiner_first_name\": \"Rodrigo\", \"determiner_last_name\": \"Johnsson\", \"depth\": \"30\", \"species_author\": \"Johnsson, 1999\", \"order\": \"Siphonostomatoida\", \"suborder\": \"Nan\", \"infraorder\": \"Nan\", \"superfamily\": \"Nan\", \"family\": \"Asterocheridae\", \"subfamily\": \"Asterocherinae\", \"tribe\": \"Asterocherini\", \"determined_year\": null, \"start_year\": 1997.0, \"holotipo_year\": \"1999\", \"counts_x\": 9, \"counts_y\": 9, \"counts\": 9}, {\"cataloged_year\": 1997, \"count\": \"1\", \"class\": \"Copepoda\", \"kingdom\": \"Animalia\", \"genus\": \"Kolocheres\", \"species\": \"Angustus\", \"genus_and_species\": \"Kolocheres angustus\", \"type_status\": \"Holotipo\", \"determiner_first_and_last_name\": \"Rodrigo Johnsson\", \"determiner_first_name\": \"Rodrigo\", \"determiner_last_name\": \"Johnsson\", \"depth\": \"0\", \"species_author\": \"Johnsson, 1999\", \"order\": \"Siphonostomatoida\", \"suborder\": \"Nan\", \"infraorder\": \"Nan\", \"superfamily\": \"Nan\", \"family\": \"Asterocheridae\", \"subfamily\": \"Asterocherinae\", \"tribe\": \"Asterocherini\", \"determined_year\": null, \"start_year\": 1994.0, \"holotipo_year\": \"1999\", \"counts_x\": 9, \"counts_y\": 9, \"counts\": 9}, {\"cataloged_year\": 1996, \"count\": \"1\", \"class\": \"Copepoda\", \"kingdom\": \"Animalia\", \"genus\": \"Cletopontius\", \"species\": \"Titanus\", \"genus_and_species\": \"Cletopontius titanus\", \"type_status\": \"Holotipo\", \"determiner_first_and_last_name\": \"Rodrigo Johnsson\", \"determiner_first_name\": \"Rodrigo\", \"determiner_last_name\": \"Johnsson\", \"depth\": \"0\", \"species_author\": \"Johnsson, 1999\", \"order\": \"Siphonostomatoida\", \"suborder\": \"Nan\", \"infraorder\": \"Nan\", \"superfamily\": \"Nan\", \"family\": \"Asterocheridae\", \"subfamily\": \"Asterocherinae\", \"tribe\": \"Asterocherini\", \"determined_year\": null, \"start_year\": 1994.0, \"holotipo_year\": \"1999\", \"counts_x\": 9, \"counts_y\": 9, \"counts\": 9}, {\"cataloged_year\": 1997, \"count\": \"1\", \"class\": \"Copepoda\", \"kingdom\": \"Animalia\", \"genus\": \"Asterocheres\", \"species\": \"Spinopaulus\", \"genus_and_species\": \"Asterocheres spinopaulus\", \"type_status\": \"Holotipo\", \"determiner_first_and_last_name\": \"Rodrigo Johnsson\", \"determiner_first_name\": \"Rodrigo\", \"determiner_last_name\": \"Johnsson\", \"depth\": \"0\", \"species_author\": \"Johnsson, 1999\", \"order\": \"Siphonostomatoida\", \"suborder\": \"Nan\", \"infraorder\": \"Nan\", \"superfamily\": \"Nan\", \"family\": \"Asterocheridae\", \"subfamily\": \"Asterocherinae\", \"tribe\": \"Asterocherini\", \"determined_year\": null, \"start_year\": 1994.0, \"holotipo_year\": \"1999\", \"counts_x\": 9, \"counts_y\": 9, \"counts\": 9}, {\"cataloged_year\": 1997, \"count\": \"1\", \"class\": \"Copepoda\", \"kingdom\": \"Animalia\", \"genus\": \"Asterocheres\", \"species\": \"Abrolhensis\", \"genus_and_species\": \"Asterocheres abrolhensis\", \"type_status\": \"Holotipo\", \"determiner_first_and_last_name\": \"Rodrigo Johnsson\", \"determiner_first_name\": \"Rodrigo\", \"determiner_last_name\": \"Johnsson\", \"depth\": \"0\", \"species_author\": \"Johnsson, 1999\", \"order\": \"Siphonostomatoida\", \"suborder\": \"Nan\", \"infraorder\": \"Nan\", \"superfamily\": \"Nan\", \"family\": \"Asterocheridae\", \"subfamily\": \"Asterocherinae\", \"tribe\": \"Asterocherini\", \"determined_year\": null, \"start_year\": 1994.0, \"holotipo_year\": \"1999\", \"counts_x\": 9, \"counts_y\": 9, \"counts\": 9}, {\"cataloged_year\": 1998, \"count\": \"1\", \"class\": \"Maxillopoda\", \"kingdom\": \"Animalia\", \"genus\": \"Scillaelepas\", \"species\": \"Brasiliensis\", \"genus_and_species\": \"Scillaelepas brasiliensis\", \"type_status\": \"Holotipo\", \"determiner_first_and_last_name\": \"Paulo Young\", \"determiner_first_name\": \"Paulo\", \"determiner_last_name\": \"Young\", \"depth\": \"0\", \"species_author\": \"Young, 1999\", \"order\": \"Thoracica\", \"suborder\": \"Nan\", \"infraorder\": \"Nan\", \"superfamily\": \"Nan\", \"family\": \"Calanticidae\", \"subfamily\": \"Calanticinae\", \"tribe\": \"Calanticini\", \"determined_year\": null, \"start_year\": 1987.0, \"holotipo_year\": \"1999\", \"counts_x\": 2, \"counts_y\": 2, \"counts\": 2}, {\"cataloged_year\": 1997, \"count\": \"1\", \"class\": \"Copepoda\", \"kingdom\": \"Animalia\", \"genus\": \"Asterocheres\", \"species\": \"Paraboecki\", \"genus_and_species\": \"Asterocheres paraboecki\", \"type_status\": \"Holotipo\", \"determiner_first_and_last_name\": \"Rodrigo Johnsson\", \"determiner_first_name\": \"Rodrigo\", \"determiner_last_name\": \"Johnsson\", \"depth\": \"0\", \"species_author\": \"Johnsson, 1999\", \"order\": \"Siphonostomatoida\", \"suborder\": \"Nan\", \"infraorder\": \"Nan\", \"superfamily\": \"Nan\", \"family\": \"Asterocheridae\", \"subfamily\": \"Asterocherinae\", \"tribe\": \"Asterocherini\", \"determined_year\": null, \"start_year\": 1994.0, \"holotipo_year\": \"1999\", \"counts_x\": 9, \"counts_y\": 9, \"counts\": 9}, {\"cataloged_year\": 1998, \"count\": \"1\", \"class\": \"Maxillopoda\", \"kingdom\": \"Animalia\", \"genus\": \"Aurivillialepas\", \"species\": \"Rhabdota\", \"genus_and_species\": \"Aurivillialepas rhabdota\", \"type_status\": \"Holotipo\", \"determiner_first_and_last_name\": \"Paulo Young\", \"determiner_first_name\": \"Paulo\", \"determiner_last_name\": \"Young\", \"depth\": \"0\", \"species_author\": \"(Young, 1999)\", \"order\": \"Thoracica\", \"suborder\": \"Nan\", \"infraorder\": \"Nan\", \"superfamily\": \"Nan\", \"family\": \"Calanticidae\", \"subfamily\": \"Calanticinae\", \"tribe\": \"Calanticini\", \"determined_year\": null, \"start_year\": 1987.0, \"holotipo_year\": \"1999\", \"counts_x\": 2, \"counts_y\": 2, \"counts\": 2}, {\"cataloged_year\": 2003, \"count\": \"1\", \"class\": \"Malacostraca\", \"kingdom\": \"Animalia\", \"genus\": \"Heterocarpus\", \"species\": \"Inopinatus\", \"genus_and_species\": \"Heterocarpus inopinatus\", \"type_status\": \"Holotipo\", \"determiner_first_and_last_name\": \"Marcos Tavares\", \"determiner_first_name\": \"Marcos\", \"determiner_last_name\": \"Tavares\", \"depth\": \"0\", \"species_author\": \"Tavares, 1999\", \"order\": \"Decapoda\", \"suborder\": \"Nan\", \"infraorder\": \"Nan\", \"superfamily\": \"Nan\", \"family\": \"Pandalidae\", \"subfamily\": \"Pandalinae\", \"tribe\": \"Pandalini\", \"determined_year\": null, \"start_year\": 1987.0, \"holotipo_year\": \"1999\", \"counts_x\": 1, \"counts_y\": 1, \"counts\": 1}, {\"cataloged_year\": 1997, \"count\": \"1\", \"class\": \"Copepoda\", \"kingdom\": \"Animalia\", \"genus\": \"Lepeophtheirus\", \"species\": \"Rhinobati\", \"genus_and_species\": \"Lepeophtheirus rhinobati\", \"type_status\": \"Holotipo\", \"determiner_first_and_last_name\": \"Jose Luque\", \"determiner_first_name\": \"Jose\", \"determiner_last_name\": \"Luque\", \"depth\": \"0\", \"species_author\": \"Luque, Chaves & Cesar, 1999\", \"order\": \"Siphonostomatoida\", \"suborder\": \"Nan\", \"infraorder\": \"Nan\", \"superfamily\": \"Nan\", \"family\": \"Caligidae\", \"subfamily\": \"Caliginae\", \"tribe\": \"Caligini\", \"determined_year\": null, \"start_year\": 1910.0, \"holotipo_year\": \"1999\", \"counts_x\": 1, \"counts_y\": 1, \"counts\": 1}, {\"cataloged_year\": 1998, \"count\": \"1\", \"class\": \"Malacostraca\", \"kingdom\": \"Animalia\", \"genus\": \"Apohyale\", \"species\": \"Wakabarae\", \"genus_and_species\": \"Apohyale wakabarae\", \"type_status\": \"Holotipo\", \"determiner_first_and_last_name\": \"Cristiana Serejo\", \"determiner_first_name\": \"Cristiana\", \"determiner_last_name\": \"Serejo\", \"depth\": \"0\", \"species_author\": \"(Serejo, 1999)\", \"order\": \"Amphipoda\", \"suborder\": \"Nan\", \"infraorder\": \"Nan\", \"superfamily\": \"Nan\", \"family\": \"Hyalidae\", \"subfamily\": \"Hyalinae\", \"tribe\": \"Hyalini\", \"determined_year\": null, \"start_year\": 1983.0, \"holotipo_year\": \"1999\", \"counts_x\": 1, \"counts_y\": 1, \"counts\": 1}, {\"cataloged_year\": 1999, \"count\": \"1\", \"class\": \"Malacostraca\", \"kingdom\": \"Animalia\", \"genus\": \"Spelaeogammarus\", \"species\": \"Trajanoae\", \"genus_and_species\": \"Spelaeogammarus trajanoae\", \"type_status\": \"Holotipo\", \"determiner_first_and_last_name\": \"S Koenemann\", \"determiner_first_name\": \"S\", \"determiner_last_name\": \"Koenemann\", \"depth\": \"0\", \"species_author\": \"Koenemann & Holsinger, 2000\", \"order\": \"Amphipoda\", \"suborder\": \"Nan\", \"infraorder\": \"Nan\", \"superfamily\": \"Nan\", \"family\": \"Bogidiellidae\", \"subfamily\": \"Bogidiellinae\", \"tribe\": \"Bogidiellini\", \"determined_year\": null, \"start_year\": 1989.0, \"holotipo_year\": \"2000\", \"counts_x\": 2, \"counts_y\": 2, \"counts\": 2}, {\"cataloged_year\": 1997, \"count\": \"1\", \"class\": \"Copepoda\", \"kingdom\": \"Animalia\", \"genus\": \"Spongiopsyllus\", \"species\": \"Adventicius\", \"genus_and_species\": \"Spongiopsyllus adventicius\", \"type_status\": \"Holotipo\", \"determiner_first_and_last_name\": \"Rodrigo Johnsson\", \"determiner_first_name\": \"Rodrigo\", \"determiner_last_name\": \"Johnsson\", \"depth\": \"0\", \"species_author\": \"Johnsson, 2000\", \"order\": \"Siphonostomatoida\", \"suborder\": \"Nan\", \"infraorder\": \"Nan\", \"superfamily\": \"Nan\", \"family\": \"Entomolepididae\", \"subfamily\": \"Entomolepidinae\", \"tribe\": \"Entomolepidini\", \"determined_year\": null, \"start_year\": 1995.0, \"holotipo_year\": \"2000\", \"counts_x\": 1, \"counts_y\": 1, \"counts\": 1}, {\"cataloged_year\": 1999, \"count\": \"1\", \"class\": \"Malacostraca\", \"kingdom\": \"Animalia\", \"genus\": \"Spelaeogammarus\", \"species\": \"Santanensis\", \"genus_and_species\": \"Spelaeogammarus santanensis\", \"type_status\": \"Holotipo\", \"determiner_first_and_last_name\": \"S Koenemann\", \"determiner_first_name\": \"S\", \"determiner_last_name\": \"Koenemann\", \"depth\": \"0\", \"species_author\": \"Koenemann & Holsinger, 2000\", \"order\": \"Amphipoda\", \"suborder\": \"Nan\", \"infraorder\": \"Nan\", \"superfamily\": \"Nan\", \"family\": \"Bogidiellidae\", \"subfamily\": \"Bogidiellinae\", \"tribe\": \"Bogidiellini\", \"determined_year\": null, \"start_year\": 1987.0, \"holotipo_year\": \"2000\", \"counts_x\": 2, \"counts_y\": 2, \"counts\": 2}, {\"cataloged_year\": 2000, \"count\": \"1\", \"class\": \"Copepoda\", \"kingdom\": \"Animalia\", \"genus\": \"Caligus\", \"species\": \"Itacurussensis\", \"genus_and_species\": \"Caligus itacurussensis\", \"type_status\": \"Holotipo\", \"determiner_first_and_last_name\": \"Jose Luque\", \"determiner_first_name\": \"Jose\", \"determiner_last_name\": \"Luque\", \"depth\": \"0\", \"species_author\": \"Luque & Cezar, 2000\", \"order\": \"Siphonostomatoida\", \"suborder\": \"Nan\", \"infraorder\": \"Nan\", \"superfamily\": \"Nan\", \"family\": \"Caligidae\", \"subfamily\": \"Caliginae\", \"tribe\": \"Caligini\", \"determined_year\": null, \"start_year\": 1992.0, \"holotipo_year\": \"2000\", \"counts_x\": 2, \"counts_y\": 2, \"counts\": 2}, {\"cataloged_year\": 1997, \"count\": \"1\", \"class\": \"Copepoda\", \"kingdom\": \"Animalia\", \"genus\": \"Caligus\", \"species\": \"Littoralis\", \"genus_and_species\": \"Caligus littoralis\", \"type_status\": \"Holotipo\", \"determiner_first_and_last_name\": \"Jose Luque\", \"determiner_first_name\": \"Jose\", \"determiner_last_name\": \"Luque\", \"depth\": \"0\", \"species_author\": \"Luque & Cezar, 2000\", \"order\": \"Siphonostomatoida\", \"suborder\": \"Nan\", \"infraorder\": \"Nan\", \"superfamily\": \"Nan\", \"family\": \"Caligidae\", \"subfamily\": \"Caliginae\", \"tribe\": \"Caligini\", \"determined_year\": null, \"start_year\": 1992.0, \"holotipo_year\": \"2000\", \"counts_x\": 2, \"counts_y\": 2, \"counts\": 2}, {\"cataloged_year\": 1998, \"count\": \"1\", \"class\": \"Maxillopoda\", \"kingdom\": \"Animalia\", \"genus\": \"Verruca\", \"species\": \"Minuta\", \"genus_and_species\": \"Verruca minuta\", \"type_status\": \"Holotipo\", \"determiner_first_and_last_name\": \"Paulo Young\", \"determiner_first_name\": \"Paulo\", \"determiner_last_name\": \"Young\", \"depth\": \"0\", \"species_author\": \"Young, 2000\", \"order\": \"Thoracica\", \"suborder\": \"Nan\", \"infraorder\": \"Nan\", \"superfamily\": \"Nan\", \"family\": \"Verrucidae\", \"subfamily\": \"Verrucinae\", \"tribe\": \"Verrucini\", \"determined_year\": null, \"start_year\": 1997.0, \"holotipo_year\": \"2000\", \"counts_x\": 1, \"counts_y\": 1, \"counts\": 1}, {\"cataloged_year\": 2001, \"count\": \"1\", \"class\": \"Malacostraca\", \"kingdom\": \"Animalia\", \"genus\": \"Serejohyale\", \"species\": \"Youngi\", \"genus_and_species\": \"Serejohyale youngi\", \"type_status\": \"Holotipo\", \"determiner_first_and_last_name\": \"Cristiana Serejo\", \"determiner_first_name\": \"Cristiana\", \"determiner_last_name\": \"Serejo\", \"depth\": \"0\", \"species_author\": \"(Serejo, 2001)\", \"order\": \"Amphipoda\", \"suborder\": \"Nan\", \"infraorder\": \"Nan\", \"superfamily\": \"Nan\", \"family\": \"Hyalidae\", \"subfamily\": \"Hyalinae\", \"tribe\": \"Hyalini\", \"determined_year\": null, \"start_year\": 1996.0, \"holotipo_year\": \"2001\", \"counts_x\": 1, \"counts_y\": 1, \"counts\": 1}, {\"cataloged_year\": 2000, \"count\": \"1\", \"class\": \"Copepoda\", \"kingdom\": \"Animalia\", \"genus\": \"Monstrillopsis\", \"species\": \"Fosshageni\", \"genus_and_species\": \"Monstrillopsis fosshageni\", \"type_status\": \"Holotipo\", \"determiner_first_and_last_name\": \"Eduardo Morales\", \"determiner_first_name\": \"Eduardo\", \"determiner_last_name\": \"Morales\", \"depth\": \"0\", \"species_author\": \"Suarez-Morales & Dias, 2001\", \"order\": \"Monstrilloida\", \"suborder\": \"Nan\", \"infraorder\": \"Nan\", \"superfamily\": \"Nan\", \"family\": \"Monstrillidae\", \"subfamily\": \"Monstrillinae\", \"tribe\": \"Monstrillini\", \"determined_year\": null, \"start_year\": 1993.0, \"holotipo_year\": \"2001\", \"counts_x\": 4, \"counts_y\": 4, \"counts\": 4}, {\"cataloged_year\": 2000, \"count\": \"1\", \"class\": \"Copepoda\", \"kingdom\": \"Animalia\", \"genus\": \"Cymbasoma\", \"species\": \"Rochai\", \"genus_and_species\": \"Cymbasoma rochai\", \"type_status\": \"Holotipo\", \"determiner_first_and_last_name\": \"Eduardo Morales\", \"determiner_first_name\": \"Eduardo\", \"determiner_last_name\": \"Morales\", \"depth\": \"0\", \"species_author\": \"Suarez-Morales & Dias, 2001\", \"order\": \"Monstrilloida\", \"suborder\": \"Nan\", \"infraorder\": \"Nan\", \"superfamily\": \"Nan\", \"family\": \"Monstrillidae\", \"subfamily\": \"Monstrillinae\", \"tribe\": \"Monstrillini\", \"determined_year\": null, \"start_year\": 1995.0, \"holotipo_year\": \"2001\", \"counts_x\": 4, \"counts_y\": 4, \"counts\": 4}, {\"cataloged_year\": 2000, \"count\": \"1\", \"class\": \"Copepoda\", \"kingdom\": \"Animalia\", \"genus\": \"Monstrilla\", \"species\": \"Satchmoi\", \"genus_and_species\": \"Monstrilla satchmoi\", \"type_status\": \"Holotipo\", \"determiner_first_and_last_name\": \"Eduardo Morales\", \"determiner_first_name\": \"Eduardo\", \"determiner_last_name\": \"Morales\", \"depth\": \"0\", \"species_author\": \"Suarez-Morales & Dias, 2001\", \"order\": \"Monstrilloida\", \"suborder\": \"Nan\", \"infraorder\": \"Nan\", \"superfamily\": \"Nan\", \"family\": \"Monstrillidae\", \"subfamily\": \"Monstrillinae\", \"tribe\": \"Monstrillini\", \"determined_year\": null, \"start_year\": 1999.0, \"holotipo_year\": \"2001\", \"counts_x\": 4, \"counts_y\": 4, \"counts\": 4}, {\"cataloged_year\": 2000, \"count\": \"1\", \"class\": \"Copepoda\", \"kingdom\": \"Animalia\", \"genus\": \"Monstrilla\", \"species\": \"Bahiana\", \"genus_and_species\": \"Monstrilla bahiana\", \"type_status\": \"Holotipo\", \"determiner_first_and_last_name\": \"Eduardo Morales\", \"determiner_first_name\": \"Eduardo\", \"determiner_last_name\": \"Morales\", \"depth\": \"0\", \"species_author\": \"Suarez-Morales & Dias, 2001\", \"order\": \"Monstrilloida\", \"suborder\": \"Nan\", \"infraorder\": \"Nan\", \"superfamily\": \"Nan\", \"family\": \"Monstrillidae\", \"subfamily\": \"Monstrillinae\", \"tribe\": \"Monstrillini\", \"determined_year\": null, \"start_year\": 1999.0, \"holotipo_year\": \"2001\", \"counts_x\": 4, \"counts_y\": 4, \"counts\": 4}, {\"cataloged_year\": 2000, \"count\": \"1\", \"class\": \"Copepoda\", \"kingdom\": \"Animalia\", \"genus\": \"Cryptopontius\", \"species\": \"Madeirensis\", \"genus_and_species\": \"Cryptopontius madeirensis\", \"type_status\": \"Holotipo\", \"determiner_first_and_last_name\": \"Rodrigo Johnsson\", \"determiner_first_name\": \"Rodrigo\", \"determiner_last_name\": \"Johnsson\", \"depth\": \"0\", \"species_author\": \"Johnsson, 2001\", \"order\": \"Siphonostomatoida\", \"suborder\": \"Nan\", \"infraorder\": \"Nan\", \"superfamily\": \"Nan\", \"family\": \"Artotrogidae\", \"subfamily\": \"Artotroginae\", \"tribe\": \"Artotrogini\", \"determined_year\": null, \"start_year\": 1997.0, \"holotipo_year\": \"2001\", \"counts_x\": 2, \"counts_y\": 2, \"counts\": 2}, {\"cataloged_year\": 2000, \"count\": \"2\", \"class\": \"Copepoda\", \"kingdom\": \"Animalia\", \"genus\": \"Dyspontius\", \"species\": \"Gerardius\", \"genus_and_species\": \"Dyspontius gerardius\", \"type_status\": \"Holotipo\", \"determiner_first_and_last_name\": \"Rodrigo Johnsson\", \"determiner_first_name\": \"Rodrigo\", \"determiner_last_name\": \"Johnsson\", \"depth\": \"0\", \"species_author\": \"Johnsson, 2001\", \"order\": \"Siphonostomatoida\", \"suborder\": \"Nan\", \"infraorder\": \"Nan\", \"superfamily\": \"Nan\", \"family\": \"Artotrogidae\", \"subfamily\": \"Artotroginae\", \"tribe\": \"Artotrogini\", \"determined_year\": null, \"start_year\": 1997.0, \"holotipo_year\": \"2001\", \"counts_x\": 2, \"counts_y\": 2, \"counts\": 2}, {\"cataloged_year\": 1998, \"count\": \"1\", \"class\": \"Copepoda\", \"kingdom\": \"Animalia\", \"genus\": \"Scottocheres\", \"species\": \"Youngi\", \"genus_and_species\": \"Scottocheres youngi\", \"type_status\": \"Holotipo\", \"determiner_first_and_last_name\": \"Rodrigo Johnsson\", \"determiner_first_name\": \"Rodrigo\", \"determiner_last_name\": \"Johnsson\", \"depth\": \"0\", \"species_author\": \"Johnsson, 2002\", \"order\": \"Siphonostomatoida\", \"suborder\": \"Nan\", \"infraorder\": \"Nan\", \"superfamily\": \"Nan\", \"family\": \"Asterocheridae\", \"subfamily\": \"Asterocherinae\", \"tribe\": \"Asterocherini\", \"determined_year\": null, \"start_year\": 1997.0, \"holotipo_year\": \"2002\", \"counts_x\": 7, \"counts_y\": 7, \"counts\": 7}, {\"cataloged_year\": 1998, \"count\": \"1\", \"class\": \"Copepoda\", \"kingdom\": \"Animalia\", \"genus\": \"Asterocheres\", \"species\": \"Spongus\", \"genus_and_species\": \"Asterocheres spongus\", \"type_status\": \"Holotipo\", \"determiner_first_and_last_name\": \"Rodrigo Johnsson\", \"determiner_first_name\": \"Rodrigo\", \"determiner_last_name\": \"Johnsson\", \"depth\": \"0\", \"species_author\": \"Johnsson, 2002\", \"order\": \"Siphonostomatoida\", \"suborder\": \"Nan\", \"infraorder\": \"Nan\", \"superfamily\": \"Nan\", \"family\": \"Asterocheridae\", \"subfamily\": \"Asterocherinae\", \"tribe\": \"Asterocherini\", \"determined_year\": null, \"start_year\": 1997.0, \"holotipo_year\": \"2002\", \"counts_x\": 7, \"counts_y\": 7, \"counts\": 7}, {\"cataloged_year\": 1998, \"count\": \"1\", \"class\": \"Copepoda\", \"kingdom\": \"Animalia\", \"genus\": \"Asterocheres\", \"species\": \"Aplysinus\", \"genus_and_species\": \"Asterocheres aplysinus\", \"type_status\": \"Holotipo\", \"determiner_first_and_last_name\": \"Rodrigo Johnsson\", \"determiner_first_name\": \"Rodrigo\", \"determiner_last_name\": \"Johnsson\", \"depth\": \"0\", \"species_author\": \"Johnsson, 2002\", \"order\": \"Siphonostomatoida\", \"suborder\": \"Nan\", \"infraorder\": \"Nan\", \"superfamily\": \"Nan\", \"family\": \"Asterocheridae\", \"subfamily\": \"Asterocherinae\", \"tribe\": \"Asterocherini\", \"determined_year\": null, \"start_year\": 1997.0, \"holotipo_year\": \"2002\", \"counts_x\": 7, \"counts_y\": 7, \"counts\": 7}, {\"cataloged_year\": 1998, \"count\": \"1\", \"class\": \"Copepoda\", \"kingdom\": \"Animalia\", \"genus\": \"Asterocheres\", \"species\": \"Neptunei\", \"genus_and_species\": \"Asterocheres neptunei\", \"type_status\": \"Holotipo\", \"determiner_first_and_last_name\": \"Rodrigo Johnsson\", \"determiner_first_name\": \"Rodrigo\", \"determiner_last_name\": \"Johnsson\", \"depth\": \"0\", \"species_author\": \"Johnsson, In: Johnsson, Rocha & Neves, 2002 \", \"order\": \"Siphonostomatoida\", \"suborder\": \"Nan\", \"infraorder\": \"Nan\", \"superfamily\": \"Nan\", \"family\": \"Asterocheridae\", \"subfamily\": \"Asterocherinae\", \"tribe\": \"Asterocherini\", \"determined_year\": null, \"start_year\": 1996.0, \"holotipo_year\": \"2002\", \"counts_x\": 7, \"counts_y\": 7, \"counts\": 7}, {\"cataloged_year\": 1998, \"count\": \"1\", \"class\": \"Copepoda\", \"kingdom\": \"Animalia\", \"genus\": \"Acontiophorus\", \"species\": \"Monanchorae\", \"genus_and_species\": \"Acontiophorus monanchorae\", \"type_status\": \"Holotipo\", \"determiner_first_and_last_name\": \"Rodrigo Johnsson\", \"determiner_first_name\": \"Rodrigo\", \"determiner_last_name\": \"Johnsson\", \"depth\": \"0\", \"species_author\": \"Johnsson, 2002\", \"order\": \"Siphonostomatoida\", \"suborder\": \"Nan\", \"infraorder\": \"Nan\", \"superfamily\": \"Nan\", \"family\": \"Asterocheridae\", \"subfamily\": \"Asterocherinae\", \"tribe\": \"Asterocherini\", \"determined_year\": null, \"start_year\": 1997.0, \"holotipo_year\": \"2002\", \"counts_x\": 7, \"counts_y\": 7, \"counts\": 7}, {\"cataloged_year\": 1998, \"count\": \"8\", \"class\": \"Copepoda\", \"kingdom\": \"Animalia\", \"genus\": \"Asterocheres\", \"species\": \"Picinguabensis\", \"genus_and_species\": \"Asterocheres picinguabensis\", \"type_status\": \"Holotipo\", \"determiner_first_and_last_name\": \"Rodrigo Johnsson\", \"determiner_first_name\": \"Rodrigo\", \"determiner_last_name\": \"Johnsson\", \"depth\": \"0\", \"species_author\": \"Johnsson, In: Johnsson, Rocha & Neves, 2002 \", \"order\": \"Siphonostomatoida\", \"suborder\": \"Nan\", \"infraorder\": \"Nan\", \"superfamily\": \"Nan\", \"family\": \"Asterocheridae\", \"subfamily\": \"Asterocherinae\", \"tribe\": \"Asterocherini\", \"determined_year\": null, \"start_year\": 1995.0, \"holotipo_year\": \"2002\", \"counts_x\": 7, \"counts_y\": 7, \"counts\": 7}, {\"cataloged_year\": 1997, \"count\": \"1\", \"class\": \"Malacostraca\", \"kingdom\": \"Animalia\", \"genus\": \"Microphoxus\", \"species\": \"Uroserratus\", \"genus_and_species\": \"Microphoxus uroserratus\", \"type_status\": \"Holotipo\", \"determiner_first_and_last_name\": \"Alice Bustamante\", \"determiner_first_name\": \"Alice\", \"determiner_last_name\": \"Bustamante\", \"depth\": \"0\", \"species_author\": \"Bustamante, 2002\", \"order\": \"Amphipoda\", \"suborder\": \"Nan\", \"infraorder\": \"Nan\", \"superfamily\": \"Nan\", \"family\": \"phoxocephalidae\", \"subfamily\": \"Phoxocephalinae\", \"tribe\": \"Phoxocephalini\", \"determined_year\": 2000.0, \"start_year\": null, \"holotipo_year\": \"2002\", \"counts_x\": 3, \"counts_y\": 3, \"counts\": 3}, {\"cataloged_year\": 1997, \"count\": \"1\", \"class\": \"Malacostraca\", \"kingdom\": \"Animalia\", \"genus\": \"Microphoxus\", \"species\": \"Moraesi\", \"genus_and_species\": \"Microphoxus moraesi\", \"type_status\": \"Holotipo\", \"determiner_first_and_last_name\": \"Alice Bustamante\", \"determiner_first_name\": \"Alice\", \"determiner_last_name\": \"Bustamante\", \"depth\": \"5\", \"species_author\": \"Bustamante, 2002\", \"order\": \"Amphipoda\", \"suborder\": \"Nan\", \"infraorder\": \"Nan\", \"superfamily\": \"Nan\", \"family\": \"phoxocephalidae\", \"subfamily\": \"Phoxocephalinae\", \"tribe\": \"Phoxocephalini\", \"determined_year\": 2000.0, \"start_year\": 1989.0, \"holotipo_year\": \"2002\", \"counts_x\": 3, \"counts_y\": 3, \"counts\": 3}, {\"cataloged_year\": 1997, \"count\": \"1\", \"class\": \"Malacostraca\", \"kingdom\": \"Animalia\", \"genus\": \"Microphoxus\", \"species\": \"Breviramus\", \"genus_and_species\": \"Microphoxus breviramus\", \"type_status\": \"Holotipo\", \"determiner_first_and_last_name\": \"Alice Bustamante\", \"determiner_first_name\": \"Alice\", \"determiner_last_name\": \"Bustamante\", \"depth\": \"20\", \"species_author\": \"Bustamante, 2002\", \"order\": \"Amphipoda\", \"suborder\": \"Nan\", \"infraorder\": \"Nan\", \"superfamily\": \"Nan\", \"family\": \"phoxocephalidae\", \"subfamily\": \"Phoxocephalinae\", \"tribe\": \"Phoxocephalini\", \"determined_year\": 2000.0, \"start_year\": 1988.0, \"holotipo_year\": \"2002\", \"counts_x\": 3, \"counts_y\": 3, \"counts\": 3}, {\"cataloged_year\": 1998, \"count\": \"1\", \"class\": \"Copepoda\", \"kingdom\": \"Animalia\", \"genus\": \"Asterocheres\", \"species\": \"Unicus\", \"genus_and_species\": \"Asterocheres unicus\", \"type_status\": \"Holotipo\", \"determiner_first_and_last_name\": \"Rodrigo Johnsson\", \"determiner_first_name\": \"Rodrigo\", \"determiner_last_name\": \"Johnsson\", \"depth\": \"0\", \"species_author\": \"Johnsson, In: Johnsson, Rocha & Neves, 2002 \", \"order\": \"Siphonostomatoida\", \"suborder\": \"Nan\", \"infraorder\": \"Nan\", \"superfamily\": \"Nan\", \"family\": \"Asterocheridae\", \"subfamily\": \"Asterocherinae\", \"tribe\": \"Asterocherini\", \"determined_year\": null, \"start_year\": 1996.0, \"holotipo_year\": \"2002\", \"counts_x\": 7, \"counts_y\": 7, \"counts\": 7}, {\"cataloged_year\": 2003, \"count\": \"1\", \"class\": \"Copepoda\", \"kingdom\": \"Animalia\", \"genus\": \"Hamaticolax\", \"species\": \"Unisagittatus\", \"genus_and_species\": \"Hamaticolax unisagittatus\", \"type_status\": \"Holotipo\", \"determiner_first_and_last_name\": \"Luiz Tavares\", \"determiner_first_name\": \"Luiz\", \"determiner_last_name\": \"Tavares\", \"depth\": \"0\", \"species_author\": \"(Tavares & Luque, 2003)\", \"order\": \"Poecilostomatoida\", \"suborder\": \"Nan\", \"infraorder\": \"Nan\", \"superfamily\": \"Nan\", \"family\": \"Bomolochidae\", \"subfamily\": \"Bomolochinae\", \"tribe\": \"Bomolochini\", \"determined_year\": null, \"start_year\": 2000.0, \"holotipo_year\": \"2003\", \"counts_x\": 1, \"counts_y\": 1, \"counts\": 1}, {\"cataloged_year\": 2003, \"count\": \"1\", \"class\": \"Copepoda\", \"kingdom\": \"Animalia\", \"genus\": \"Acanthochondria\", \"species\": \"Triangularis\", \"genus_and_species\": \"Acanthochondria triangularis\", \"type_status\": \"Holotipo\", \"determiner_first_and_last_name\": \"Dimitri Alves\", \"determiner_first_name\": \"Dimitri\", \"determiner_last_name\": \"Alves\", \"depth\": \"0\", \"species_author\": \"Alves, Luque & Paraguasu, 2003\", \"order\": \"Poecilostomatoida\", \"suborder\": \"Nan\", \"infraorder\": \"Nan\", \"superfamily\": \"Nan\", \"family\": \"Chondracanthidae\", \"subfamily\": \"Chondracanthinae\", \"tribe\": \"Chondracanthini\", \"determined_year\": null, \"start_year\": 2001.0, \"holotipo_year\": \"2003\", \"counts_x\": 1, \"counts_y\": 1, \"counts\": 1}, {\"cataloged_year\": 2002, \"count\": \"1\", \"class\": \"Malacostraca\", \"kingdom\": \"Animalia\", \"genus\": \"Bathynomus\", \"species\": \"Obtusus\", \"genus_and_species\": \"Bathynomus obtusus\", \"type_status\": \"Holotipo\", \"determiner_first_and_last_name\": \"Noa Magalhaes\", \"determiner_first_name\": \"Noa\", \"determiner_last_name\": \"Magalhaes\", \"depth\": \"0\", \"species_author\": \"Magalhaes & Young, 2003\", \"order\": \"Isopoda\", \"suborder\": \"Nan\", \"infraorder\": \"Nan\", \"superfamily\": \"Nan\", \"family\": \"Cirolanidae\", \"subfamily\": \"Cirolaninae\", \"tribe\": \"Cirolanini\", \"determined_year\": null, \"start_year\": 2000.0, \"holotipo_year\": \"2003\", \"counts_x\": 1, \"counts_y\": 1, \"counts\": 1}, {\"cataloged_year\": 2002, \"count\": \"1\", \"class\": \"Malacostraca\", \"kingdom\": \"Animalia\", \"genus\": \"Tectovalopsis\", \"species\": \"Ruffoi\", \"genus_and_species\": \"Tectovalopsis ruffoi\", \"type_status\": \"Holotipo\", \"determiner_first_and_last_name\": \"Cristiana Serejo\", \"determiner_first_name\": \"Cristiana\", \"determiner_last_name\": \"Serejo\", \"depth\": \"0\", \"species_author\": \"(Serejo & Wakabara, 2003)\\u00a0\", \"order\": \"Amphipoda\", \"suborder\": \"Nan\", \"infraorder\": \"Nan\", \"superfamily\": \"Nan\", \"family\": \"Alicellidae\", \"subfamily\": \"Lysianassinae\", \"tribe\": \"Lysianassini\", \"determined_year\": null, \"start_year\": 1987.0, \"holotipo_year\": \"2003\", \"counts_x\": 2, \"counts_y\": 2, \"counts\": 2}, {\"cataloged_year\": 1995, \"count\": \"1\", \"class\": \"Malacostraca\", \"kingdom\": \"Animalia\", \"genus\": \"Novamundoniscus\", \"species\": \"Gracilis\", \"genus_and_species\": \"Novamundoniscus gracilis\", \"type_status\": \"Holotipo\", \"determiner_first_and_last_name\": \"Alceu Castro\", \"determiner_first_name\": \"Alceu\", \"determiner_last_name\": \"Castro\", \"depth\": \"0\", \"species_author\": \"Lopes & Araujo, 2003\", \"order\": \"Isopoda\", \"suborder\": \"Nan\", \"infraorder\": \"Nan\", \"superfamily\": \"Nan\", \"family\": \"Dubioniscidae\", \"subfamily\": \"Dubioniscinae\", \"tribe\": \"Dubioniscini\", \"determined_year\": null, \"start_year\": 1957.0, \"holotipo_year\": \"2003\", \"counts_x\": 1, \"counts_y\": 1, \"counts\": 1}, {\"cataloged_year\": 2003, \"count\": \"1\", \"class\": \"Malacostraca\", \"kingdom\": \"Animalia\", \"genus\": \"Monoliropus\", \"species\": \"Enodis\", \"genus_and_species\": \"Monoliropus enodis\", \"type_status\": \"Holotipo\", \"determiner_first_and_last_name\": \"Cristiana Serejo\", \"determiner_first_name\": \"Cristiana\", \"determiner_last_name\": \"Serejo\", \"depth\": \"0\", \"species_author\": \"Rayol & Serejo, 2003\", \"order\": \"Amphipoda\", \"suborder\": \"Nan\", \"infraorder\": \"Nan\", \"superfamily\": \"Nan\", \"family\": \"Oedicerotidae\", \"subfamily\": \"Oedicerotinae\", \"tribe\": \"Oedicerotini\", \"determined_year\": null, \"start_year\": 2001.0, \"holotipo_year\": \"2003\", \"counts_x\": 2, \"counts_y\": 2, \"counts\": 2}, {\"cataloged_year\": 2001, \"count\": \"1\", \"class\": \"Malacostraca\", \"kingdom\": \"Animalia\", \"genus\": \"Trischizostoma\", \"species\": \"Costai\", \"genus_and_species\": \"Trischizostoma costai\", \"type_status\": \"Holotipo\", \"determiner_first_and_last_name\": \"P Freire\", \"determiner_first_name\": \"P\", \"determiner_last_name\": \"Freire\", \"depth\": \"1364\", \"species_author\": \"Freire & Serejo, 2004\", \"order\": \"Amphipoda\", \"suborder\": \"Nan\", \"infraorder\": \"Nan\", \"superfamily\": \"Nan\", \"family\": \"Trischizostomidae\", \"subfamily\": \"Trischizostominae\", \"tribe\": \"Trischizostomini\", \"determined_year\": null, \"start_year\": 2000.0, \"holotipo_year\": \"2004\", \"counts_x\": 1, \"counts_y\": 1, \"counts\": 1}, {\"cataloged_year\": 2006, \"count\": \"1\", \"class\": \"Ostracoda\", \"kingdom\": \"Animalia\", \"genus\": \"Yemanja\", \"species\": \"Coimbrai\", \"genus_and_species\": \"Yemanja coimbrai\", \"type_status\": \"Holotipo\", \"determiner_first_and_last_name\": \"Simone Brandao\", \"determiner_first_name\": \"Simone\", \"determiner_last_name\": \"Brandao\", \"depth\": \"0\", \"species_author\": \"(Brandao, 2005)\", \"order\": \"Podocopida\", \"suborder\": \"Nan\", \"infraorder\": \"Nan\", \"superfamily\": \"Nan\", \"family\": \"Macrocyprididae\", \"subfamily\": \"Macrocypridinae\", \"tribe\": \"Macrocypridini\", \"determined_year\": 2001.0, \"start_year\": 1995.0, \"holotipo_year\": \"2005\", \"counts_x\": 3, \"counts_y\": 3, \"counts\": 3}, {\"cataloged_year\": 2006, \"count\": \"1\", \"class\": \"Ostracoda\", \"kingdom\": \"Animalia\", \"genus\": \"Yemanja\", \"species\": \"Youngi\", \"genus_and_species\": \"Yemanja youngi\", \"type_status\": \"Holotipo\", \"determiner_first_and_last_name\": \"Simone Brandao\", \"determiner_first_name\": \"Simone\", \"determiner_last_name\": \"Brandao\", \"depth\": \"0\", \"species_author\": \"(Brandao, 2005)\", \"order\": \"Podocopida\", \"suborder\": \"Nan\", \"infraorder\": \"Nan\", \"superfamily\": \"Nan\", \"family\": \"Macrocyprididae\", \"subfamily\": \"Macrocypridinae\", \"tribe\": \"Macrocypridini\", \"determined_year\": null, \"start_year\": 2000.0, \"holotipo_year\": \"2005\", \"counts_x\": 3, \"counts_y\": 3, \"counts\": 3}, {\"cataloged_year\": 2006, \"count\": \"1\", \"class\": \"Ostracoda\", \"kingdom\": \"Animalia\", \"genus\": \"Yemanja\", \"species\": \"Rocas\", \"genus_and_species\": \"Yemanja rocas\", \"type_status\": \"Holotipo\", \"determiner_first_and_last_name\": \"Simone Brandao\", \"determiner_first_name\": \"Simone\", \"determiner_last_name\": \"Brandao\", \"depth\": \"19\", \"species_author\": \"(Brandao, 2005)\", \"order\": \"Podocopida\", \"suborder\": \"Nan\", \"infraorder\": \"Nan\", \"superfamily\": \"Nan\", \"family\": \"Macrocyprididae\", \"subfamily\": \"Macrocypridinae\", \"tribe\": \"Macrocypridini\", \"determined_year\": null, \"start_year\": 2000.0, \"holotipo_year\": \"2005\", \"counts_x\": 3, \"counts_y\": 3, \"counts\": 3}, {\"cataloged_year\": 2014, \"count\": \"1\", \"class\": \"Malacostraca\", \"kingdom\": \"Animalia\", \"genus\": \"Hyalella\", \"species\": \"Castroi\", \"genus_and_species\": \"Hyalella castroi\", \"type_status\": \"Holotipo\", \"determiner_first_and_last_name\": \"Paula Araujo\", \"determiner_first_name\": \"Paula\", \"determiner_last_name\": \"Araujo\", \"depth\": \"0\", \"species_author\": \"Gonzalez, Bond-Buckup & Araujo, 2006\", \"order\": \"Amphipoda\", \"suborder\": \"Nan\", \"infraorder\": \"Nan\", \"superfamily\": \"Nan\", \"family\": \"Hyalellidae\", \"subfamily\": \"Hyalellinae\", \"tribe\": \"Hyalellini\", \"determined_year\": null, \"start_year\": 2000.0, \"holotipo_year\": \"2006\", \"counts_x\": 1, \"counts_y\": 1, \"counts\": 1}, {\"cataloged_year\": 2006, \"count\": \"1\", \"class\": \"Maxillopoda\", \"kingdom\": \"Animalia\", \"genus\": \"Chthamalus\", \"species\": \"Hedgecocki\", \"genus_and_species\": \"Chthamalus hedgecocki\", \"type_status\": \"Holotipo\", \"determiner_first_and_last_name\": \"Fabio Pitombo\", \"determiner_first_name\": \"Fabio\", \"determiner_last_name\": \"Pitombo\", \"depth\": \"0\", \"species_author\": \"Pitombo & Burton, 2007\", \"order\": \"Thoracica\", \"suborder\": \"Nan\", \"infraorder\": \"Nan\", \"superfamily\": \"Nan\", \"family\": \"Chthamalidae\", \"subfamily\": \"Chthamalinae\", \"tribe\": \"Chthamalini\", \"determined_year\": null, \"start_year\": 2002.0, \"holotipo_year\": \"2007\", \"counts_x\": 2, \"counts_y\": 2, \"counts\": 2}, {\"cataloged_year\": 2015, \"count\": \"4\", \"class\": \"Malacostraca\", \"kingdom\": \"Animalia\", \"genus\": \"Meromonakantha\", \"species\": \"Nutae\", \"genus_and_species\": \"Meromonakantha nutae\", \"type_status\": \"Holotipo\", \"determiner_first_and_last_name\": \"Juliana Segadilha\", \"determiner_first_name\": \"Juliana\", \"determiner_last_name\": \"Segadilha\", \"depth\": \"1153\", \"species_author\": \"Blazewicz-Paszkowycz, 2007\", \"order\": \"Tanaidacea\", \"suborder\": \"Nan\", \"infraorder\": \"Nan\", \"superfamily\": \"Nan\", \"family\": \"Typhlotanaidae\", \"subfamily\": \"Typhlotanainae\", \"tribe\": \"Typhlotanaini\", \"determined_year\": null, \"start_year\": 2009.0, \"holotipo_year\": \"2007\", \"counts_x\": 1, \"counts_y\": 1, \"counts\": 1}, {\"cataloged_year\": 2006, \"count\": \"1\", \"class\": \"Malacostraca\", \"kingdom\": \"Animalia\", \"genus\": \"Periclimenaeus\", \"species\": \"Crosnieri\", \"genus_and_species\": \"Periclimenaeus crosnieri\", \"type_status\": \"Holotipo\", \"determiner_first_and_last_name\": \"Irene Cardoso\", \"determiner_first_name\": \"Irene\", \"determiner_last_name\": \"Cardoso\", \"depth\": \"20\", \"species_author\": \"Cardoso & Young, 2007\", \"order\": \"Decapoda\", \"suborder\": \"Nan\", \"infraorder\": \"Nan\", \"superfamily\": \"Nan\", \"family\": \"Palaemonidae\", \"subfamily\": \"Pontoniinae\", \"tribe\": \"Pontoniini\", \"determined_year\": null, \"start_year\": 2000.0, \"holotipo_year\": \"2007\", \"counts_x\": 2, \"counts_y\": 2, \"counts\": 2}, {\"cataloged_year\": 2006, \"count\": \"1\", \"class\": \"Malacostraca\", \"kingdom\": \"Animalia\", \"genus\": \"Periclimenaeus\", \"species\": \"Brucei\", \"genus_and_species\": \"Periclimenaeus brucei\", \"type_status\": \"Holotipo\", \"determiner_first_and_last_name\": \"Irene Cardoso\", \"determiner_first_name\": \"Irene\", \"determiner_last_name\": \"Cardoso\", \"depth\": \"20\", \"species_author\": \"Cardoso & Young, 2007\", \"order\": \"Decapoda\", \"suborder\": \"Nan\", \"infraorder\": \"Nan\", \"superfamily\": \"Nan\", \"family\": \"Palaemonidae\", \"subfamily\": \"Pontoniinae\", \"tribe\": \"Pontoniini\", \"determined_year\": null, \"start_year\": 2000.0, \"holotipo_year\": \"2007\", \"counts_x\": 2, \"counts_y\": 2, \"counts\": 2}, {\"cataloged_year\": 2006, \"count\": \"4\", \"class\": \"Maxillopoda\", \"kingdom\": \"Animalia\", \"genus\": \"Chthamalus\", \"species\": \"Hedgecocki\", \"genus_and_species\": \"Chthamalus hedgecocki\", \"type_status\": \"Holotipo\", \"determiner_first_and_last_name\": \"Fabio Pitombo\", \"determiner_first_name\": \"Fabio\", \"determiner_last_name\": \"Pitombo\", \"depth\": \"0\", \"species_author\": \"Pitombo & Burton, 2007\", \"order\": \"Thoracica\", \"suborder\": \"Nan\", \"infraorder\": \"Nan\", \"superfamily\": \"Nan\", \"family\": \"Chthamalidae\", \"subfamily\": \"Chthamalinae\", \"tribe\": \"Chthamalini\", \"determined_year\": null, \"start_year\": 2002.0, \"holotipo_year\": \"2007\", \"counts_x\": 2, \"counts_y\": 2, \"counts\": 2}, {\"cataloged_year\": 2007, \"count\": \"1\", \"class\": \"Malacostraca\", \"kingdom\": \"Animalia\", \"genus\": \"Batea\", \"species\": \"Intermedia\", \"genus_and_species\": \"Batea intermedia\", \"type_status\": \"Holotipo\", \"determiner_first_and_last_name\": \"Cristiana Serejo\", \"determiner_first_name\": \"Cristiana\", \"determiner_last_name\": \"Serejo\", \"depth\": \"77\", \"species_author\": \"Serejo, 2007\", \"order\": \"Amphipoda\", \"suborder\": \"Nan\", \"infraorder\": \"Nan\", \"superfamily\": \"Nan\", \"family\": \"Bateidae\", \"subfamily\": \"Bateinae\", \"tribe\": \"Bateini\", \"determined_year\": 2004.0, \"start_year\": 2002.0, \"holotipo_year\": \"2007\", \"counts_x\": 1, \"counts_y\": 1, \"counts\": 1}, {\"cataloged_year\": 2006, \"count\": \"1\", \"class\": \"Malacostraca\", \"kingdom\": \"Animalia\", \"genus\": \"Quadrimaera\", \"species\": \"Rocasensis\", \"genus_and_species\": \"Quadrimaera rocasensis\", \"type_status\": \"Holotipo\", \"determiner_first_and_last_name\": \"Andre Senna\", \"determiner_first_name\": \"Andre\", \"determiner_last_name\": \"Senna\", \"depth\": \"0\", \"species_author\": \"Senna & Serejo, 2007\", \"order\": \"Amphipoda\", \"suborder\": \"Nan\", \"infraorder\": \"Nan\", \"superfamily\": \"Nan\", \"family\": \"Maeridae\", \"subfamily\": \"Melitinae\", \"tribe\": \"Melitini\", \"determined_year\": null, \"start_year\": 2000.0, \"holotipo_year\": \"2007\", \"counts_x\": 4, \"counts_y\": 4, \"counts\": 4}, {\"cataloged_year\": 2006, \"count\": \"1\", \"class\": \"Malacostraca\", \"kingdom\": \"Animalia\", \"genus\": \"Salmoneus\", \"species\": \"Rocas\", \"genus_and_species\": \"Salmoneus rocas\", \"type_status\": \"Holotipo\", \"determiner_first_and_last_name\": \"Arthur Anker\", \"determiner_first_name\": \"Arthur\", \"determiner_last_name\": \"Anker\", \"depth\": \"1\", \"species_author\": \"Anker, 2007\\u00a0\", \"order\": \"Decapoda\", \"suborder\": \"Nan\", \"infraorder\": \"Nan\", \"superfamily\": \"Nan\", \"family\": \"Alpheidae\", \"subfamily\": \"Alpheinae\", \"tribe\": \"Alpheini\", \"determined_year\": 2005.0, \"start_year\": 2000.0, \"holotipo_year\": \"2007\", \"counts_x\": 2, \"counts_y\": 2, \"counts\": 2}, {\"cataloged_year\": 2003, \"count\": \"1\", \"class\": \"Malacostraca\", \"kingdom\": \"Animalia\", \"genus\": \"Alpheus\", \"species\": \"Christofferseni\", \"genus_and_species\": \"Alpheus christofferseni\", \"type_status\": \"Holotipo\", \"determiner_first_and_last_name\": \"Arthur Anker\", \"determiner_first_name\": \"Arthur\", \"determiner_last_name\": \"Anker\", \"depth\": \"0\", \"species_author\": \"Anker, Hurt & Knowlton, 2007\", \"order\": \"Decapoda\", \"suborder\": \"Nan\", \"infraorder\": \"Nan\", \"superfamily\": \"Nan\", \"family\": \"Alpheidae\", \"subfamily\": \"Alpheinae\", \"tribe\": \"Alpheini\", \"determined_year\": 2005.0, \"start_year\": 2000.0, \"holotipo_year\": \"2007\", \"counts_x\": 2, \"counts_y\": 2, \"counts\": 2}, {\"cataloged_year\": 2001, \"count\": \"1\", \"class\": \"Malacostraca\", \"kingdom\": \"Animalia\", \"genus\": \"Stephonyx\", \"species\": \"Uncinatus\", \"genus_and_species\": \"Stephonyx uncinatus\", \"type_status\": \"Holotipo\", \"determiner_first_and_last_name\": \"Andre Senna\", \"determiner_first_name\": \"Andre\", \"determiner_last_name\": \"Senna\", \"depth\": \"0\", \"species_author\": \"Senna & Serejo, 2007\", \"order\": \"Amphipoda\", \"suborder\": \"Nan\", \"infraorder\": \"Nan\", \"superfamily\": \"Nan\", \"family\": \"Uristidae\", \"subfamily\": \"Uristinae\", \"tribe\": \"Uristinii\", \"determined_year\": null, \"start_year\": 2001.0, \"holotipo_year\": \"2007\", \"counts_x\": 4, \"counts_y\": 4, \"counts\": 4}, {\"cataloged_year\": 2006, \"count\": \"8\", \"class\": \"Malacostraca\", \"kingdom\": \"Animalia\", \"genus\": \"Lysianopsis\", \"species\": \"Concavus\", \"genus_and_species\": \"Lysianopsis concavus\", \"type_status\": \"Holotipo\", \"determiner_first_and_last_name\": \"Andre Senna\", \"determiner_first_name\": \"Andre\", \"determiner_last_name\": \"Senna\", \"depth\": \"20\", \"species_author\": \"Senna, 2007\", \"order\": \"Amphipoda\", \"suborder\": \"Nan\", \"infraorder\": \"Nan\", \"superfamily\": \"Nan\", \"family\": \"Lysianassidae\", \"subfamily\": \"Lysianassinae\", \"tribe\": \"Lysianassini\", \"determined_year\": 2001.0, \"start_year\": 2001.0, \"holotipo_year\": \"2007\", \"counts_x\": 4, \"counts_y\": 4, \"counts\": 4}, {\"cataloged_year\": 2006, \"count\": \"1\", \"class\": \"Malacostraca\", \"kingdom\": \"Animalia\", \"genus\": \"Quadrimaera\", \"species\": \"Chaelata\", \"genus_and_species\": \"Quadrimaera chaelata\", \"type_status\": \"Holotipo\", \"determiner_first_and_last_name\": \"Andre Senna\", \"determiner_first_name\": \"Andre\", \"determiner_last_name\": \"Senna\", \"depth\": \"0\", \"species_author\": \"Senna & Serejo, 2007\", \"order\": \"Amphipoda\", \"suborder\": \"Nan\", \"infraorder\": \"Nan\", \"superfamily\": \"Nan\", \"family\": \"Maeridae\", \"subfamily\": \"Melitinae\", \"tribe\": \"Melitini\", \"determined_year\": 2003.0, \"start_year\": 2000.0, \"holotipo_year\": \"2007\", \"counts_x\": 4, \"counts_y\": 4, \"counts\": 4}, {\"cataloged_year\": 1994, \"count\": \"1\", \"class\": \"Malacostraca\", \"kingdom\": \"Animalia\", \"genus\": \"Heptapactes\", \"species\": \"Quadrisaetosus\", \"genus_and_species\": \"Heptapactes quadrisaetosus\", \"type_status\": \"Holotipo\", \"determiner_first_and_last_name\": \"Christian Schmidt\", \"determiner_first_name\": \"Christian\", \"determiner_last_name\": \"Schmidt\", \"depth\": \"0\", \"species_author\": \"Schmidt, 2007\", \"order\": \"Isopoda\", \"suborder\": \"Nan\", \"infraorder\": \"Nan\", \"superfamily\": \"Nan\", \"family\": \"Eubelidae\", \"subfamily\": \"Eubelinae\", \"tribe\": \"Eubelini\", \"determined_year\": null, \"start_year\": 1966.0, \"holotipo_year\": \"2007\", \"counts_x\": 1, \"counts_y\": 1, \"counts\": 1}, {\"cataloged_year\": 2006, \"count\": \"1\", \"class\": \"Malacostraca\", \"kingdom\": \"Animalia\", \"genus\": \"Haploops\", \"species\": \"Meloi\", \"genus_and_species\": \"Haploops meloi\", \"type_status\": \"Holotipo\", \"determiner_first_and_last_name\": \"Maria Berardo\", \"determiner_first_name\": \"Maria\", \"determiner_last_name\": \"Berardo\", \"depth\": \"1050\", \"species_author\": \"Valerio-Berardo, 2008\", \"order\": \"Amphipoda\", \"suborder\": \"Nan\", \"infraorder\": \"Nan\", \"superfamily\": \"Nan\", \"family\": \"Ampeliscidae\", \"subfamily\": \"Ampeliscinae\", \"tribe\": \"Ampeliscini\", \"determined_year\": 2008.0, \"start_year\": 2003.0, \"holotipo_year\": \"2008\", \"counts_x\": 4, \"counts_y\": 4, \"counts\": 4}, {\"cataloged_year\": 2006, \"count\": \"1\", \"class\": \"Malacostraca\", \"kingdom\": \"Animalia\", \"genus\": \"Ampelisca\", \"species\": \"Campensis\", \"genus_and_species\": \"Ampelisca campensis\", \"type_status\": \"Holotipo\", \"determiner_first_and_last_name\": \"Maria Berardo\", \"determiner_first_name\": \"Maria\", \"determiner_last_name\": \"Berardo\", \"depth\": \"1650\", \"species_author\": \"Valerio-Berardo, 2008\", \"order\": \"Amphipoda\", \"suborder\": \"Nan\", \"infraorder\": \"Nan\", \"superfamily\": \"Nan\", \"family\": \"Ampeliscidae\", \"subfamily\": \"Ampeliscinae\", \"tribe\": \"Ampeliscini\", \"determined_year\": 2008.0, \"start_year\": 2003.0, \"holotipo_year\": \"2008\", \"counts_x\": 4, \"counts_y\": 4, \"counts\": 4}, {\"cataloged_year\": 2006, \"count\": \"1\", \"class\": \"Malacostraca\", \"kingdom\": \"Animalia\", \"genus\": \"Ampelisca\", \"species\": \"Wakabarae\", \"genus_and_species\": \"Ampelisca wakabarae\", \"type_status\": \"Holotipo\", \"determiner_first_and_last_name\": \"Maria Berardo\", \"determiner_first_name\": \"Maria\", \"determiner_last_name\": \"Berardo\", \"depth\": \"1050\", \"species_author\": \"Valerio-Berardo, 2008\", \"order\": \"Amphipoda\", \"suborder\": \"Nan\", \"infraorder\": \"Nan\", \"superfamily\": \"Nan\", \"family\": \"Ampeliscidae\", \"subfamily\": \"Ampeliscinae\", \"tribe\": \"Ampeliscini\", \"determined_year\": 2008.0, \"start_year\": 2003.0, \"holotipo_year\": \"2008\", \"counts_x\": 4, \"counts_y\": 4, \"counts\": 4}, {\"cataloged_year\": 2007, \"count\": \"1\", \"class\": \"Malacostraca\", \"kingdom\": \"Animalia\", \"genus\": \"Benthana\", \"species\": \"Cairensis\", \"genus_and_species\": \"Benthana cairensis\", \"type_status\": \"Holotipo\", \"determiner_first_and_last_name\": \"Paula Araujo\", \"determiner_first_name\": \"Paula\", \"determiner_last_name\": \"Araujo\", \"depth\": \"0\", \"species_author\": \"Sokolowicz, Araujo & Boelter, 2008\", \"order\": \"Isopoda\", \"suborder\": \"Nan\", \"infraorder\": \"Nan\", \"superfamily\": \"Nan\", \"family\": \"Philosciidae\", \"subfamily\": \"Philosciinae\", \"tribe\": \"Philosciini\", \"determined_year\": 2004.0, \"start_year\": 2004.0, \"holotipo_year\": \"2008\", \"counts_x\": 1, \"counts_y\": 1, \"counts\": 1}, {\"cataloged_year\": 2007, \"count\": \"1\", \"class\": \"Malacostraca\", \"kingdom\": \"Animalia\", \"genus\": \"Ampelisca\", \"species\": \"Minuta\", \"genus_and_species\": \"Ampelisca minuta\", \"type_status\": \"Holotipo\", \"determiner_first_and_last_name\": \"Maria Berardo\", \"determiner_first_name\": \"Maria\", \"determiner_last_name\": \"Berardo\", \"depth\": \"750\", \"species_author\": \"Valerio-Berardo, 2008\", \"order\": \"Amphipoda\", \"suborder\": \"Nan\", \"infraorder\": \"Nan\", \"superfamily\": \"Nan\", \"family\": \"Ampeliscidae\", \"subfamily\": \"Ampeliscinae\", \"tribe\": \"Ampeliscini\", \"determined_year\": null, \"start_year\": 2002.0, \"holotipo_year\": \"2008\", \"counts_x\": 4, \"counts_y\": 4, \"counts\": 4}, {\"cataloged_year\": 2007, \"count\": \"1\", \"class\": \"Malacostraca\", \"kingdom\": \"Animalia\", \"genus\": \"Ampelisca\", \"species\": \"Anae\", \"genus_and_species\": \"Ampelisca anae\", \"type_status\": \"Holotipo\", \"determiner_first_and_last_name\": \"Andre Senna\", \"determiner_first_name\": \"Andre\", \"determiner_last_name\": \"Senna\", \"depth\": \"750\", \"species_author\": \"Valerio-Berardo, 2008\", \"order\": \"Amphipoda\", \"suborder\": \"Nan\", \"infraorder\": \"Nan\", \"superfamily\": \"Nan\", \"family\": \"Ampeliscidae\", \"subfamily\": \"Ampeliscinae\", \"tribe\": \"Ampeliscini\", \"determined_year\": 2008.0, \"start_year\": 2002.0, \"holotipo_year\": \"2008\", \"counts_x\": 4, \"counts_y\": 4, \"counts\": 4}, {\"cataloged_year\": 2007, \"count\": \"1\", \"class\": \"Malacostraca\", \"kingdom\": \"Animalia\", \"genus\": \"Byblis\", \"species\": \"Bjornbergae\", \"genus_and_species\": \"Byblis bjornbergae\", \"type_status\": \"Holotipo\", \"determiner_first_and_last_name\": \"Andre Senna\", \"determiner_first_name\": \"Andre\", \"determiner_last_name\": \"Senna\", \"depth\": \"750\", \"species_author\": \"Valerio-Berardo, 2008\", \"order\": \"Amphipoda\", \"suborder\": \"Nan\", \"infraorder\": \"Nan\", \"superfamily\": \"Nan\", \"family\": \"Ampeliscidae\", \"subfamily\": \"Ampeliscinae\", \"tribe\": \"Ampeliscini\", \"determined_year\": 2007.0, \"start_year\": 2002.0, \"holotipo_year\": \"2008\", \"counts_x\": 4, \"counts_y\": 4, \"counts\": 4}, {\"cataloged_year\": 2003, \"count\": \"1\", \"class\": \"Malacostraca\", \"kingdom\": \"Animalia\", \"genus\": \"Bonassa\", \"species\": \"Brasiliensis\", \"genus_and_species\": \"Bonassa brasiliensis\", \"type_status\": \"Holotipo\", \"determiner_first_and_last_name\": \"Andre Senna\", \"determiner_first_name\": \"Andre\", \"determiner_last_name\": \"Senna\", \"depth\": \"50\", \"species_author\": \"Senna & Serejo, 2008\", \"order\": \"Amphipoda\", \"suborder\": \"Nan\", \"infraorder\": \"Nan\", \"superfamily\": \"Nan\", \"family\": \"Lysianassidae\", \"subfamily\": \"Lysianassinae\", \"tribe\": \"Lysianassini\", \"determined_year\": 2001.0, \"start_year\": 2001.0, \"holotipo_year\": \"2008\", \"counts_x\": 4, \"counts_y\": 4, \"counts\": 4}, {\"cataloged_year\": 2007, \"count\": \"1\", \"class\": \"Malacostraca\", \"kingdom\": \"Animalia\", \"genus\": \"Curidia\", \"species\": \"Wakabarae\", \"genus_and_species\": \"Curidia wakabarae\", \"type_status\": \"Holotipo\", \"determiner_first_and_last_name\": \"Jesser Filho\", \"determiner_first_name\": \"Jesser\", \"determiner_last_name\": \"Filho\", \"depth\": \"0\", \"species_author\": \"De Souza-Filho & Serejo, 2008\\u00a0\", \"order\": \"Amphipoda\", \"suborder\": \"Nan\", \"infraorder\": \"Nan\", \"superfamily\": \"Nan\", \"family\": \"Ochlesidae\", \"subfamily\": \"Ochlesinae\", \"tribe\": \"Ochlesini\", \"determined_year\": 2007.0, \"start_year\": 1998.0, \"holotipo_year\": \"2008\", \"counts_x\": 1, \"counts_y\": 1, \"counts\": 1}, {\"cataloged_year\": 2006, \"count\": \"1\", \"class\": \"Malacostraca\", \"kingdom\": \"Animalia\", \"genus\": \"Amaryllis\", \"species\": \"Atlantica\", \"genus_and_species\": \"Amaryllis atlantica\", \"type_status\": \"Holotipo\", \"determiner_first_and_last_name\": \"Andre Senna\", \"determiner_first_name\": \"Andre\", \"determiner_last_name\": \"Senna\", \"depth\": \"20\", \"species_author\": \"Senna & Serejo, 2008\", \"order\": \"Amphipoda\", \"suborder\": \"Nan\", \"infraorder\": \"Nan\", \"superfamily\": \"Nan\", \"family\": \"Amaryllididae\", \"subfamily\": \"Lysianassinae\", \"tribe\": \"Lysianassini\", \"determined_year\": 2005.0, \"start_year\": 2001.0, \"holotipo_year\": \"2008\", \"counts_x\": 4, \"counts_y\": 4, \"counts\": 4}, {\"cataloged_year\": 2006, \"count\": \"1\", \"class\": \"Malacostraca\", \"kingdom\": \"Animalia\", \"genus\": \"Lepechinella\", \"species\": \"Campensis\", \"genus_and_species\": \"Lepechinella campensis\", \"type_status\": \"Holotipo\", \"determiner_first_and_last_name\": \"Daniela Sittrop\", \"determiner_first_name\": \"Daniela\", \"determiner_last_name\": \"Sittrop\", \"depth\": \"1050\", \"species_author\": \"Sittrop & Serejo, 2009\", \"order\": \"Amphipoda\", \"suborder\": \"Nan\", \"infraorder\": \"Nan\", \"superfamily\": \"Nan\", \"family\": \"Lepechinellidae\", \"subfamily\": \"Lepechinellinae\", \"tribe\": \"Lepechinellini\", \"determined_year\": null, \"start_year\": 2002.0, \"holotipo_year\": \"2009\", \"counts_x\": 3, \"counts_y\": 3, \"counts\": 3}, {\"cataloged_year\": 2009, \"count\": \"1\", \"class\": \"Malacostraca\", \"kingdom\": \"Animalia\", \"genus\": \"Lepechinella\", \"species\": \"Hirsuta\", \"genus_and_species\": \"Lepechinella hirsuta\", \"type_status\": \"Holotipo\", \"determiner_first_and_last_name\": \"Daniela Sittrop\", \"determiner_first_name\": \"Daniela\", \"determiner_last_name\": \"Sittrop\", \"depth\": \"1050\", \"species_author\": \"Sittrop & Serejo, 2009\", \"order\": \"Amphipoda\", \"suborder\": \"Nan\", \"infraorder\": \"Nan\", \"superfamily\": \"Nan\", \"family\": \"Lepechinellidae\", \"subfamily\": \"Lepechinellinae\", \"tribe\": \"Lepechinellini\", \"determined_year\": null, \"start_year\": 2002.0, \"holotipo_year\": \"2009\", \"counts_x\": 3, \"counts_y\": 3, \"counts\": 3}, {\"cataloged_year\": 2006, \"count\": \"1\", \"class\": \"Malacostraca\", \"kingdom\": \"Animalia\", \"genus\": \"Lepechinella\", \"species\": \"Laurensi\", \"genus_and_species\": \"Lepechinella laurensi\", \"type_status\": \"Holotipo\", \"determiner_first_and_last_name\": \"Daniela Sittrop\", \"determiner_first_name\": \"Daniela\", \"determiner_last_name\": \"Sittrop\", \"depth\": \"1950\", \"species_author\": \"Sittrop & Serejo, 2009\", \"order\": \"Amphipoda\", \"suborder\": \"Nan\", \"infraorder\": \"Nan\", \"superfamily\": \"Nan\", \"family\": \"Lepechinellidae\", \"subfamily\": \"Lepechinellinae\", \"tribe\": \"Lepechinellini\", \"determined_year\": null, \"start_year\": 2003.0, \"holotipo_year\": \"2009\", \"counts_x\": 3, \"counts_y\": 3, \"counts\": 3}, {\"cataloged_year\": 2009, \"count\": \"1\", \"class\": \"Malacostraca\", \"kingdom\": \"Animalia\", \"genus\": \"Ampelisca\", \"species\": \"Angraensis\", \"genus_and_species\": \"Ampelisca angraensis\", \"type_status\": \"Holotipo\", \"determiner_first_and_last_name\": \"Jesser Filho\", \"determiner_first_name\": \"Jesser\", \"determiner_last_name\": \"Filho\", \"depth\": \"12\", \"species_author\": \"Souza-Filho, Souza & Valerio-Berardo, 2009\", \"order\": \"Amphipoda\", \"suborder\": \"Nan\", \"infraorder\": \"Nan\", \"superfamily\": \"Nan\", \"family\": \"Ampeliscidae\", \"subfamily\": \"Ampeliscinae\", \"tribe\": \"Ampeliscini\", \"determined_year\": null, \"start_year\": 1969.0, \"holotipo_year\": \"2009\", \"counts_x\": 4, \"counts_y\": 4, \"counts\": 4}, {\"cataloged_year\": 2009, \"count\": \"1\", \"class\": \"Malacostraca\", \"kingdom\": \"Animalia\", \"genus\": \"Ampelisca\", \"species\": \"Pseudobicarinata\", \"genus_and_species\": \"Ampelisca pseudobicarinata\", \"type_status\": \"Holotipo\", \"determiner_first_and_last_name\": \"Jesser Filho\", \"determiner_first_name\": \"Jesser\", \"determiner_last_name\": \"Filho\", \"depth\": \"0\", \"species_author\": \"Souza-Filho, Souza & Valerio-Berardo, 2009 \", \"order\": \"Amphipoda\", \"suborder\": \"Nan\", \"infraorder\": \"Nan\", \"superfamily\": \"Nan\", \"family\": \"Ampeliscidae\", \"subfamily\": \"Ampeliscinae\", \"tribe\": \"Ampeliscini\", \"determined_year\": null, \"start_year\": 1997.0, \"holotipo_year\": \"2009\", \"counts_x\": 4, \"counts_y\": 4, \"counts\": 4}, {\"cataloged_year\": 2009, \"count\": \"16\", \"class\": \"Malacostraca\", \"kingdom\": \"Animalia\", \"genus\": \"Ampelisca\", \"species\": \"Cristianae\", \"genus_and_species\": \"Ampelisca cristianae\", \"type_status\": \"Holotipo\", \"determiner_first_and_last_name\": \"Jesser Filho\", \"determiner_first_name\": \"Jesser\", \"determiner_last_name\": \"Filho\", \"depth\": \"22\", \"species_author\": \"Souza-Filho, Souza & Valerio-Berardo, 2009 \", \"order\": \"Amphipoda\", \"suborder\": \"Nan\", \"infraorder\": \"Nan\", \"superfamily\": \"Nan\", \"family\": \"Ampeliscidae\", \"subfamily\": \"Ampeliscinae\", \"tribe\": \"Ampeliscini\", \"determined_year\": null, \"start_year\": 1998.0, \"holotipo_year\": \"2009\", \"counts_x\": 4, \"counts_y\": 4, \"counts\": 4}, {\"cataloged_year\": 2009, \"count\": \"1\", \"class\": \"Malacostraca\", \"kingdom\": \"Animalia\", \"genus\": \"Ampelisca\", \"species\": \"Rocasensis\", \"genus_and_species\": \"Ampelisca rocasensis\", \"type_status\": \"Holotipo\", \"determiner_first_and_last_name\": \"Jesser Filho\", \"determiner_first_name\": \"Jesser\", \"determiner_last_name\": \"Filho\", \"depth\": \"70.7\", \"species_author\": \"Souza-Filho, Souza & Valerio-Berardo, 2009\", \"order\": \"Amphipoda\", \"suborder\": \"Nan\", \"infraorder\": \"Nan\", \"superfamily\": \"Nan\", \"family\": \"Ampeliscidae\", \"subfamily\": \"Ampeliscinae\", \"tribe\": \"Ampeliscini\", \"determined_year\": null, \"start_year\": 2000.0, \"holotipo_year\": \"2009\", \"counts_x\": 4, \"counts_y\": 4, \"counts\": 4}, {\"cataloged_year\": 2007, \"count\": \"1\", \"class\": \"Malacostraca\", \"kingdom\": \"Animalia\", \"genus\": \"Leptophoxoides\", \"species\": \"Marina\", \"genus_and_species\": \"Leptophoxoides marina\", \"type_status\": \"Holotipo\", \"determiner_first_and_last_name\": \"Andre Senna\", \"determiner_first_name\": \"Andre\", \"determiner_last_name\": \"Senna\", \"depth\": \"750\", \"species_author\": \"Senna, 2010\", \"order\": \"Amphipoda\", \"suborder\": \"Nan\", \"infraorder\": \"Nan\", \"superfamily\": \"Nan\", \"family\": \"Phoxocephalidae\", \"subfamily\": \"Phoxocephalinae\", \"tribe\": \"Phoxocephalini\", \"determined_year\": null, \"start_year\": 2002.0, \"holotipo_year\": \"2010\", \"counts_x\": 5, \"counts_y\": 5, \"counts\": 5}, {\"cataloged_year\": 2010, \"count\": \"1\", \"class\": \"Malacostraca\", \"kingdom\": \"Animalia\", \"genus\": \"Chevalia\", \"species\": \"Setosa\", \"genus_and_species\": \"Chevalia setosa\", \"type_status\": \"Holotipo\", \"determiner_first_and_last_name\": \"Jesser Filho\", \"determiner_first_name\": \"Jesser\", \"determiner_last_name\": \"Filho\", \"depth\": \"19\", \"species_author\": \"Souza-Filho, Souza & Valerio-Berardo, 2010\", \"order\": \"Amphipoda\", \"suborder\": \"Nan\", \"infraorder\": \"Nan\", \"superfamily\": \"Nan\", \"family\": \"Chevaliidae\", \"subfamily\": \"Chevaliinae\", \"tribe\": \"Chevaliini\", \"determined_year\": null, \"start_year\": 2000.0, \"holotipo_year\": \"2010\", \"counts_x\": 6, \"counts_y\": 6, \"counts\": 6}, {\"cataloged_year\": 2009, \"count\": \"1\", \"class\": \"Malacostraca\", \"kingdom\": \"Animalia\", \"genus\": \"Rocasphotis\", \"species\": \"Aiso\", \"genus_and_species\": \"Rocasphotis aiso\", \"type_status\": \"Holotipo\", \"determiner_first_and_last_name\": \"Jesser Filho\", \"determiner_first_name\": \"Jesser\", \"determiner_last_name\": \"Filho\", \"depth\": \"16\", \"species_author\": \"Souza-Filho & Serejo, 2010\", \"order\": \"Amphipoda\", \"suborder\": \"Nan\", \"infraorder\": \"Nan\", \"superfamily\": \"Nan\", \"family\": \"Photidae\", \"subfamily\": \"Photinae\", \"tribe\": \"Photini\", \"determined_year\": null, \"start_year\": 2000.0, \"holotipo_year\": \"2010\", \"counts_x\": 6, \"counts_y\": 6, \"counts\": 6}, {\"cataloged_year\": 2010, \"count\": \"1\", \"class\": \"Malacostraca\", \"kingdom\": \"Animalia\", \"genus\": \"Chevalia\", \"species\": \"Convexa\", \"genus_and_species\": \"Chevalia convexa\", \"type_status\": \"Holotipo\", \"determiner_first_and_last_name\": \"Jesser Filho\", \"determiner_first_name\": \"Jesser\", \"determiner_last_name\": \"Filho\", \"depth\": \"22\", \"species_author\": \"Souza-Filho, Souza & Valerio-Berardo, 2010\", \"order\": \"Amphipoda\", \"suborder\": \"Nan\", \"infraorder\": \"Nan\", \"superfamily\": \"Nan\", \"family\": \"Chevaliidae\", \"subfamily\": \"Chevaliinae\", \"tribe\": \"Chevaliini\", \"determined_year\": null, \"start_year\": 1998.0, \"holotipo_year\": \"2010\", \"counts_x\": 6, \"counts_y\": 6, \"counts\": 6}, {\"cataloged_year\": 2009, \"count\": \"1\", \"class\": \"Malacostraca\", \"kingdom\": \"Animalia\", \"genus\": \"Photis\", \"species\": \"Sarae\", \"genus_and_species\": \"Photis sarae\", \"type_status\": \"Holotipo\", \"determiner_first_and_last_name\": \"Jesser Filho\", \"determiner_first_name\": \"Jesser\", \"determiner_last_name\": \"Filho\", \"depth\": \"0\", \"species_author\": \"Souza-Filho & Serejo, 2010\", \"order\": \"Amphipoda\", \"suborder\": \"Nan\", \"infraorder\": \"Nan\", \"superfamily\": \"Nan\", \"family\": \"Photidae\", \"subfamily\": \"Photinae\", \"tribe\": \"Photini\", \"determined_year\": null, \"start_year\": 1997.0, \"holotipo_year\": \"2010\", \"counts_x\": 6, \"counts_y\": 6, \"counts\": 6}, {\"cataloged_year\": 2002, \"count\": \"1\", \"class\": \"Malacostraca\", \"kingdom\": \"Animalia\", \"genus\": \"Chevalia\", \"species\": \"Thomasi\", \"genus_and_species\": \"Chevalia thomasi\", \"type_status\": \"Holotipo\", \"determiner_first_and_last_name\": \"Jesser Filho\", \"determiner_first_name\": \"Jesser\", \"determiner_last_name\": \"Filho\", \"depth\": \"16\", \"species_author\": \"Souza-Filho, Souza & Valerio-Berardo, 2010\", \"order\": \"Amphipoda\", \"suborder\": \"Nan\", \"infraorder\": \"Nan\", \"superfamily\": \"Nan\", \"family\": \"Chevaliidae\", \"subfamily\": \"Chevaliinae\", \"tribe\": \"Chevaliini\", \"determined_year\": null, \"start_year\": 1997.0, \"holotipo_year\": \"2010\", \"counts_x\": 6, \"counts_y\": 6, \"counts\": 6}, {\"cataloged_year\": 2006, \"count\": \"1\", \"class\": \"Malacostraca\", \"kingdom\": \"Animalia\", \"genus\": \"Pseudharpinia\", \"species\": \"Ovata\", \"genus_and_species\": \"Pseudharpinia ovata\", \"type_status\": \"Holotipo\", \"determiner_first_and_last_name\": \"Andre Senna\", \"determiner_first_name\": \"Andre\", \"determiner_last_name\": \"Senna\", \"depth\": \"1100\", \"species_author\": \"Senna, 2010\", \"order\": \"Amphipoda\", \"suborder\": \"Nan\", \"infraorder\": \"Nan\", \"superfamily\": \"Nan\", \"family\": \"Phoxocephalidae\", \"subfamily\": \"Harpiniinae\", \"tribe\": \"Harpiniini\", \"determined_year\": 2007.0, \"start_year\": 2002.0, \"holotipo_year\": \"2010\", \"counts_x\": 5, \"counts_y\": 5, \"counts\": 5}, {\"cataloged_year\": 2010, \"count\": \"1\", \"class\": \"Malacostraca\", \"kingdom\": \"Animalia\", \"genus\": \"Lysianassa\", \"species\": \"Tememino\", \"genus_and_species\": \"Lysianassa tememino\", \"type_status\": \"Holotipo\", \"determiner_first_and_last_name\": \"Andre Senna\", \"determiner_first_name\": \"Andre\", \"determiner_last_name\": \"Senna\", \"depth\": \"2\", \"species_author\": \"Senna & Souza-Filho, 2010\\u00a0\", \"order\": \"Amphipoda\", \"suborder\": \"Nan\", \"infraorder\": \"Nan\", \"superfamily\": \"Nan\", \"family\": \"Lysianassidae\", \"subfamily\": \"Lysianassinae\", \"tribe\": \"Lysianassini\", \"determined_year\": 2010.0, \"start_year\": 2005.0, \"holotipo_year\": \"2010\", \"counts_x\": 5, \"counts_y\": 5, \"counts\": 5}, {\"cataloged_year\": 2007, \"count\": \"1\", \"class\": \"Malacostraca\", \"kingdom\": \"Animalia\", \"genus\": \"Bathybirubius\", \"species\": \"Margaretae\", \"genus_and_species\": \"Bathybirubius margaretae\", \"type_status\": \"Holotipo\", \"determiner_first_and_last_name\": \"Andre Senna\", \"determiner_first_name\": \"Andre\", \"determiner_last_name\": \"Senna\", \"depth\": null, \"species_author\": \"Senna, 2010\", \"order\": \"Amphipoda\", \"suborder\": \"Gammaridea\", \"infraorder\": \"Nan\", \"superfamily\": \"Nan\", \"family\": \"Phoxocephalidae\", \"subfamily\": \"Birubiinae\", \"tribe\": \"Nan\", \"determined_year\": 2007.0, \"start_year\": 2003.0, \"holotipo_year\": \"2010\", \"counts_x\": 5, \"counts_y\": 5, \"counts\": 5}, {\"cataloged_year\": 2006, \"count\": \"1\", \"class\": \"Malacostraca\", \"kingdom\": \"Animalia\", \"genus\": \"Pseudharpinia\", \"species\": \"Berardo\", \"genus_and_species\": \"Pseudharpinia berardo\", \"type_status\": \"Holotipo\", \"determiner_first_and_last_name\": \"Andre Senna\", \"determiner_first_name\": \"Andre\", \"determiner_last_name\": \"Senna\", \"depth\": \"900\", \"species_author\": \"Senna, 2010\", \"order\": \"Amphipoda\", \"suborder\": \"Nan\", \"infraorder\": \"Nan\", \"superfamily\": \"Nan\", \"family\": \"Phoxocephalidae\", \"subfamily\": \"Harpiniinae\", \"tribe\": \"Harpiniini\", \"determined_year\": null, \"start_year\": 2002.0, \"holotipo_year\": \"2010\", \"counts_x\": 5, \"counts_y\": 5, \"counts\": 5}, {\"cataloged_year\": 2010, \"count\": \"2\", \"class\": \"Malacostraca\", \"kingdom\": \"Animalia\", \"genus\": \"Gabunillo\", \"species\": \"Aridicola\", \"genus_and_species\": \"Gabunillo aridicola\", \"type_status\": \"Holotipo\", \"determiner_first_and_last_name\": \"Adriano Kury\", \"determiner_first_name\": \"Adriano\", \"determiner_last_name\": \"Kury\", \"depth\": \"0\", \"species_author\": \"Souza, Senna & Kury 2010\", \"order\": \"Isopoda\", \"suborder\": \"Nan\", \"infraorder\": \"Nan\", \"superfamily\": \"Nan\", \"family\": \"Armadillidae\", \"subfamily\": \"Armadillinae\", \"tribe\": \"Armadillini\", \"determined_year\": null, \"start_year\": 2007.0, \"holotipo_year\": \"2010\", \"counts_x\": 1, \"counts_y\": 1, \"counts\": 1}, {\"cataloged_year\": 1996, \"count\": \"1\", \"class\": \"Malacostraca\", \"kingdom\": \"Animalia\", \"genus\": \"Chevalia\", \"species\": \"Caetes\", \"genus_and_species\": \"Chevalia caetes\", \"type_status\": \"Holotipo\", \"determiner_first_and_last_name\": \"Jesser Filho\", \"determiner_first_name\": \"Jesser\", \"determiner_last_name\": \"Filho\", \"depth\": \"0\", \"species_author\": \"Souza-Filho, Souza & Valerio-Berardo, 2010\", \"order\": \"Amphipoda\", \"suborder\": \"Nan\", \"infraorder\": \"Nan\", \"superfamily\": \"Nan\", \"family\": \"Chevaliidae\", \"subfamily\": \"Chevaliinae\", \"tribe\": \"Chevaliini\", \"determined_year\": null, \"start_year\": 1995.0, \"holotipo_year\": \"2010\", \"counts_x\": 6, \"counts_y\": 6, \"counts\": 6}, {\"cataloged_year\": 1994, \"count\": \"4\", \"class\": \"Malacostraca\", \"kingdom\": \"Animalia\", \"genus\": \"Trichorhina\", \"species\": \"Crassisetae\", \"genus_and_species\": \"Trichorhina crassisetae\", \"type_status\": \"Holotipo\", \"determiner_first_and_last_name\": \"L Kury\", \"determiner_first_name\": \"L\", \"determiner_last_name\": \"Kury\", \"depth\": \"0\", \"species_author\": \"Souza, Araujo & Campos-Filho, 2011\", \"order\": \"Isopoda\", \"suborder\": \"Nan\", \"infraorder\": \"Nan\", \"superfamily\": \"Nan\", \"family\": \"Platyarthridae\", \"subfamily\": \"Platyarthrinae\", \"tribe\": \"Platyarthrini\", \"determined_year\": 1991.0, \"start_year\": 1964.0, \"holotipo_year\": \"2011\", \"counts_x\": 6, \"counts_y\": 6, \"counts\": 6}, {\"cataloged_year\": 1994, \"count\": \"4\", \"class\": \"Malacostraca\", \"kingdom\": \"Animalia\", \"genus\": \"Trichorhina\", \"species\": \"Lenkoi\", \"genus_and_species\": \"Trichorhina lenkoi\", \"type_status\": \"Holotipo\", \"determiner_first_and_last_name\": \"L Kury\", \"determiner_first_name\": \"L\", \"determiner_last_name\": \"Kury\", \"depth\": \"0\", \"species_author\": \"Souza, Araujo & Campos-Filho, 2011\", \"order\": \"Isopoda\", \"suborder\": \"Nan\", \"infraorder\": \"Nan\", \"superfamily\": \"Nan\", \"family\": \"Platyarthridae\", \"subfamily\": \"Platyarthrinae\", \"tribe\": \"Platyarthrini\", \"determined_year\": 1991.0, \"start_year\": 1970.0, \"holotipo_year\": \"2011\", \"counts_x\": 6, \"counts_y\": 6, \"counts\": 6}, {\"cataloged_year\": 1994, \"count\": \"4\", \"class\": \"Malacostraca\", \"kingdom\": \"Animalia\", \"genus\": \"Trichorhina\", \"species\": \"Myrmecophila\", \"genus_and_species\": \"Trichorhina myrmecophila\", \"type_status\": \"Holotipo\", \"determiner_first_and_last_name\": \"L Kury\", \"determiner_first_name\": \"L\", \"determiner_last_name\": \"Kury\", \"depth\": \"0\", \"species_author\": \"Souza, Araujo & Campos-Filho, 2011\", \"order\": \"Isopoda\", \"suborder\": \"Nan\", \"infraorder\": \"Nan\", \"superfamily\": \"Nan\", \"family\": \"Platyarthridae\", \"subfamily\": \"Platyarthrinae\", \"tribe\": \"Platyarthrini\", \"determined_year\": 1991.0, \"start_year\": 1967.0, \"holotipo_year\": \"2011\", \"counts_x\": 6, \"counts_y\": 6, \"counts\": 6}, {\"cataloged_year\": 1994, \"count\": \"4\", \"class\": \"Malacostraca\", \"kingdom\": \"Animalia\", \"genus\": \"Trichorhina\", \"species\": \"Orensis\", \"genus_and_species\": \"Trichorhina orensis\", \"type_status\": \"Holotipo\", \"determiner_first_and_last_name\": \"L Kury\", \"determiner_first_name\": \"L\", \"determiner_last_name\": \"Kury\", \"depth\": \"0\", \"species_author\": \"Souza, Araujo & Campos-Filho, 2011\", \"order\": \"Isopoda\", \"suborder\": \"Nan\", \"infraorder\": \"Nan\", \"superfamily\": \"Nan\", \"family\": \"Platyarthridae\", \"subfamily\": \"Platyarthrinae\", \"tribe\": \"Platyarthrini\", \"determined_year\": 1991.0, \"start_year\": 1973.0, \"holotipo_year\": \"2011\", \"counts_x\": 6, \"counts_y\": 6, \"counts\": 6}, {\"cataloged_year\": 1994, \"count\": \"4\", \"class\": \"Malacostraca\", \"kingdom\": \"Animalia\", \"genus\": \"Trichorhina\", \"species\": \"Sexdens\", \"genus_and_species\": \"Trichorhina sexdens\", \"type_status\": \"Holotipo\", \"determiner_first_and_last_name\": \"L Kury\", \"determiner_first_name\": \"L\", \"determiner_last_name\": \"Kury\", \"depth\": \"0\", \"species_author\": \"Souza, Araujo & Campos-Filho, 2011\", \"order\": \"Isopoda\", \"suborder\": \"Nan\", \"infraorder\": \"Nan\", \"superfamily\": \"Nan\", \"family\": \"Platyarthridae\", \"subfamily\": \"Platyarthrinae\", \"tribe\": \"Platyarthrini\", \"determined_year\": 1991.0, \"start_year\": 1963.0, \"holotipo_year\": \"2011\", \"counts_x\": 6, \"counts_y\": 6, \"counts\": 6}, {\"cataloged_year\": 2010, \"count\": \"1\", \"class\": \"Malacostraca\", \"kingdom\": \"Animalia\", \"genus\": \"Microcheus\", \"species\": \"Nortoni\", \"genus_and_species\": \"Microcheus nortoni\", \"type_status\": \"Holotipo\", \"determiner_first_and_last_name\": \"Jesser Filho\", \"determiner_first_name\": \"Jesser\", \"determiner_last_name\": \"Filho\", \"depth\": \"1\", \"species_author\": \"Souza-Filho, 2011 \", \"order\": \"Amphipoda\", \"suborder\": \"Nan\", \"infraorder\": \"Nan\", \"superfamily\": \"Nan\", \"family\": \"Cheidae\", \"subfamily\": \"Cheinae\", \"tribe\": \"Cheini\", \"determined_year\": null, \"start_year\": 2003.0, \"holotipo_year\": \"2011\", \"counts_x\": 1, \"counts_y\": 1, \"counts\": 1}, {\"cataloged_year\": 2000, \"count\": \"1\", \"class\": \"Malacostraca\", \"kingdom\": \"Animalia\", \"genus\": \"Plesionika\", \"species\": \"Revizeei\", \"genus_and_species\": \"Plesionika revizeei\", \"type_status\": \"Holotipo\", \"determiner_first_and_last_name\": \"Irene Cardoso\", \"determiner_first_name\": \"Irene\", \"determiner_last_name\": \"Cardoso\", \"depth\": \"573\", \"species_author\": \"Cardoso, 2011\", \"order\": \"Decapoda\", \"suborder\": \"Nan\", \"infraorder\": \"Nan\", \"superfamily\": \"Nan\", \"family\": \"Pandalidae\", \"subfamily\": \"Pandalinae\", \"tribe\": \"Pandalini\", \"determined_year\": null, \"start_year\": 2000.0, \"holotipo_year\": \"2011\", \"counts_x\": 1, \"counts_y\": 1, \"counts\": 1}, {\"cataloged_year\": 2013, \"count\": \"1\", \"class\": \"Malacostraca\", \"kingdom\": \"Animalia\", \"genus\": \"Pseudharpinia\", \"species\": \"Tupinamba\", \"genus_and_species\": \"Pseudharpinia tupinamba\", \"type_status\": \"Holotipo\", \"determiner_first_and_last_name\": \"Andre Senna\", \"determiner_first_name\": \"Andre\", \"determiner_last_name\": \"Senna\", \"depth\": \"58\", \"species_author\": \"Senna & Souza-Filho, 2011\", \"order\": \"Amphipoda\", \"suborder\": \"Nan\", \"infraorder\": \"Nan\", \"superfamily\": \"Nan\", \"family\": \"Phoxocephalidae\", \"subfamily\": \"Harpiniinae\", \"tribe\": \"Harpiniini\", \"determined_year\": 2011.0, \"start_year\": 2006.0, \"holotipo_year\": \"2011\", \"counts_x\": 1, \"counts_y\": 1, \"counts\": 1}, {\"cataloged_year\": 1994, \"count\": \"4\", \"class\": \"Malacostraca\", \"kingdom\": \"Animalia\", \"genus\": \"Trichorhina\", \"species\": \"Tropidocerata\", \"genus_and_species\": \"Trichorhina tropidocerata\", \"type_status\": \"Holotipo\", \"determiner_first_and_last_name\": \"L Kury\", \"determiner_first_name\": \"L\", \"determiner_last_name\": \"Kury\", \"depth\": \"0\", \"species_author\": \"Souza, Araujo & Campos-Filho, 2011\", \"order\": \"Isopoda\", \"suborder\": \"Nan\", \"infraorder\": \"Nan\", \"superfamily\": \"Nan\", \"family\": \"Platyarthridae\", \"subfamily\": \"Platyarthrinae\", \"tribe\": \"Platyarthrini\", \"determined_year\": 1991.0, \"start_year\": 1963.0, \"holotipo_year\": \"2011\", \"counts_x\": 6, \"counts_y\": 6, \"counts\": 6}, {\"cataloged_year\": 2011, \"count\": \"1\", \"class\": \"Malacostraca\", \"kingdom\": \"Animalia\", \"genus\": \"Cuneimelita\", \"species\": \"Danielle\", \"genus_and_species\": \"Cuneimelita danielle\", \"type_status\": \"Holotipo\", \"determiner_first_and_last_name\": \"Andre Senna\", \"determiner_first_name\": \"Andre\", \"determiner_last_name\": \"Senna\", \"depth\": \"132\", \"species_author\": \"Senna & Serejo, 2012\", \"order\": \"Amphipoda\", \"suborder\": \"Nan\", \"infraorder\": \"Nan\", \"superfamily\": \"Nan\", \"family\": \"Melitidae\", \"subfamily\": \"Melitinae\", \"tribe\": \"Melitini\", \"determined_year\": 2011.0, \"start_year\": 1968.0, \"holotipo_year\": \"2012\", \"counts_x\": 4, \"counts_y\": 4, \"counts\": 4}, {\"cataloged_year\": 2011, \"count\": \"1\", \"class\": \"Malacostraca\", \"kingdom\": \"Animalia\", \"genus\": \"Melita\", \"species\": \"Petronioi\", \"genus_and_species\": \"Melita petronioi\", \"type_status\": \"Holotipo\", \"determiner_first_and_last_name\": \"Andre Senna\", \"determiner_first_name\": \"Andre\", \"determiner_last_name\": \"Senna\", \"depth\": \"0\", \"species_author\": \"Senna, Sorrentino, Machado & Torrent, 2012\", \"order\": \"Amphipoda\", \"suborder\": \"Nan\", \"infraorder\": \"Nan\", \"superfamily\": \"Nan\", \"family\": \"Melitidae\", \"subfamily\": \"Melitinae\", \"tribe\": \"Melitini\", \"determined_year\": null, \"start_year\": 1999.0, \"holotipo_year\": \"2012\", \"counts_x\": 4, \"counts_y\": 4, \"counts\": 4}, {\"cataloged_year\": 2007, \"count\": \"1\", \"class\": \"Malacostraca\", \"kingdom\": \"Animalia\", \"genus\": \"Megamphopus\", \"species\": \"Robustisetae\", \"genus_and_species\": \"Megamphopus robustisetae\", \"type_status\": \"Holotipo\", \"determiner_first_and_last_name\": \"Andre Senna\", \"determiner_first_name\": \"Andre\", \"determiner_last_name\": \"Senna\", \"depth\": \"1050\", \"species_author\": \"Souza-Filho & Senna, 2012\", \"order\": \"Amphipoda\", \"suborder\": \"Nan\", \"infraorder\": \"Nan\", \"superfamily\": \"Nan\", \"family\": \"Photidae\", \"subfamily\": \"Photinae\", \"tribe\": \"Photini\", \"determined_year\": null, \"start_year\": 2002.0, \"holotipo_year\": \"2012\", \"counts_x\": 4, \"counts_y\": 4, \"counts\": 4}, {\"cataloged_year\": 2011, \"count\": \"1\", \"class\": \"Malacostraca\", \"kingdom\": \"Animalia\", \"genus\": \"Nuuanu\", \"species\": \"Peroa\", \"genus_and_species\": \"Nuuanu peroa\", \"type_status\": \"Holotipo\", \"determiner_first_and_last_name\": \"Andre Senna\", \"determiner_first_name\": \"Andre\", \"determiner_last_name\": \"Senna\", \"depth\": \"50\", \"species_author\": \"Senna & Serejo, 2012\", \"order\": \"Amphipoda\", \"suborder\": \"Nan\", \"infraorder\": \"Nan\", \"superfamily\": \"Nan\", \"family\": \"Melitidae\", \"subfamily\": \"Melitinae\", \"tribe\": \"Melitini\", \"determined_year\": null, \"start_year\": 2008.0, \"holotipo_year\": \"2012\", \"counts_x\": 4, \"counts_y\": 4, \"counts\": 4}, {\"cataloged_year\": 2014, \"count\": \"1\", \"class\": \"Malacostraca\", \"kingdom\": \"Animalia\", \"genus\": \"Postispinatus\", \"species\": \"Youngi\", \"genus_and_species\": \"Postispinatus youngi\", \"type_status\": \"Holotipo\", \"determiner_first_and_last_name\": \"William Santana\", \"determiner_first_name\": \"William\", \"determiner_last_name\": \"Santana\", \"depth\": \"26\", \"species_author\": \"Santos, Santana & Vanin, 2012\", \"order\": \"Tanaidacea\", \"suborder\": \"Nan\", \"infraorder\": \"Nan\", \"superfamily\": \"Nan\", \"family\": \"Kalliapseudidae\", \"subfamily\": \"Hemikalliapseudinae\", \"tribe\": \"Kalliapseudini\", \"determined_year\": null, \"start_year\": 2002.0, \"holotipo_year\": \"2012\", \"counts_x\": 1, \"counts_y\": 1, \"counts\": 1}, {\"cataloged_year\": 2012, \"count\": \"1\", \"class\": \"Copepoda\", \"kingdom\": \"Animalia\", \"genus\": \"Acantholochus\", \"species\": \"Lamellatus\", \"genus_and_species\": \"Acantholochus lamellatus\", \"type_status\": \"Holotipo\", \"determiner_first_and_last_name\": \"F Oliveira\", \"determiner_first_name\": \"F\", \"determiner_last_name\": \"Oliveira\", \"depth\": \"0\", \"species_author\": \"Paschoal, Cezar & Luque, 2013\", \"order\": \"Poecilostomatoida\", \"suborder\": \"Nan\", \"infraorder\": \"Nan\", \"superfamily\": \"Nan\", \"family\": \"Bomolochidae\", \"subfamily\": \"Bomolochinae\", \"tribe\": \"Bomolochini\", \"determined_year\": null, \"start_year\": 2009.0, \"holotipo_year\": \"2013\", \"counts_x\": 1, \"counts_y\": 1, \"counts\": 1}, {\"cataloged_year\": 2007, \"count\": \"1\", \"class\": \"Malacostraca\", \"kingdom\": \"Animalia\", \"genus\": \"Cheirimedon\", \"species\": \"Foscae\", \"genus_and_species\": \"Cheirimedon foscae\", \"type_status\": \"Holotipo\", \"determiner_first_and_last_name\": \"Silvana Siqueira\", \"determiner_first_name\": \"Silvana\", \"determiner_last_name\": \"Siqueira\", \"depth\": \"750\", \"species_author\": \"Siqueira & Senna, 2014\", \"order\": \"Amphipoda\", \"suborder\": \"Nan\", \"infraorder\": \"Nan\", \"superfamily\": \"Nan\", \"family\": \"Lysianassidae\", \"subfamily\": \"Tryphosinae\", \"tribe\": \"Tryphosini\", \"determined_year\": null, \"start_year\": 2003.0, \"holotipo_year\": \"2014\", \"counts_x\": 1, \"counts_y\": 1, \"counts\": 1}, {\"cataloged_year\": 2009, \"count\": \"1\", \"class\": \"Malacostraca\", \"kingdom\": \"Animalia\", \"genus\": \"Pseudischyrocerus\", \"species\": \"Caecus\", \"genus_and_species\": \"Pseudischyrocerus caecus\", \"type_status\": \"Holotipo\", \"determiner_first_and_last_name\": \"Jesser Filho\", \"determiner_first_name\": \"Jesser\", \"determiner_last_name\": \"Filho\", \"depth\": \"1058\", \"species_author\": \"Souza-Filho & Serejo, 2014\", \"order\": \"Amphipoda\", \"suborder\": \"Nan\", \"infraorder\": \"Nan\", \"superfamily\": \"Nan\", \"family\": \"Ischyroceridae\", \"subfamily\": \"Ischyrocerinae\", \"tribe\": \"Ischyrocerini\", \"determined_year\": null, \"start_year\": 2006.0, \"holotipo_year\": \"2014\", \"counts_x\": 7, \"counts_y\": 7, \"counts\": 7}, {\"cataloged_year\": 2007, \"count\": \"1\", \"class\": \"Malacostraca\", \"kingdom\": \"Animalia\", \"genus\": \"Notopoma\", \"species\": \"Teresae\", \"genus_and_species\": \"Notopoma teresae\", \"type_status\": \"Holotipo\", \"determiner_first_and_last_name\": \"Jesser Filho\", \"determiner_first_name\": \"Jesser\", \"determiner_last_name\": \"Filho\", \"depth\": \"750\", \"species_author\": \"Souza-Filho & Serejo, 2014\", \"order\": \"Amphipoda\", \"suborder\": \"Nan\", \"infraorder\": \"Nan\", \"superfamily\": \"Nan\", \"family\": \"Ischyroceridae\", \"subfamily\": \"Ischyrocerinae\", \"tribe\": \"Siphonoecetini\", \"determined_year\": null, \"start_year\": 2003.0, \"holotipo_year\": \"2014\", \"counts_x\": 7, \"counts_y\": 7, \"counts\": 7}, {\"cataloged_year\": 2007, \"count\": \"1\", \"class\": \"Malacostraca\", \"kingdom\": \"Animalia\", \"genus\": \"Myersius\", \"species\": \"Denticaudatus\", \"genus_and_species\": \"Myersius denticaudatus\", \"type_status\": \"Holotipo\", \"determiner_first_and_last_name\": \"Jesser Filho\", \"determiner_first_name\": \"Jesser\", \"determiner_last_name\": \"Filho\", \"depth\": \"750\", \"species_author\": \"Souza-Filho & Serejo, 2014\", \"order\": \"Amphipoda\", \"suborder\": \"Nan\", \"infraorder\": \"Nan\", \"superfamily\": \"Nan\", \"family\": \"Ischyroceridae\", \"subfamily\": \"Bonnierellinae\", \"tribe\": \"Bonnierellini\", \"determined_year\": null, \"start_year\": 2003.0, \"holotipo_year\": \"2014\", \"counts_x\": 7, \"counts_y\": 7, \"counts\": 7}, {\"cataloged_year\": 2007, \"count\": \"1\", \"class\": \"Malacostraca\", \"kingdom\": \"Animalia\", \"genus\": \"Pseudericthonius\", \"species\": \"Bousfieldi\", \"genus_and_species\": \"Pseudericthonius bousfieldi\", \"type_status\": \"Holotipo\", \"determiner_first_and_last_name\": \"Jesser Filho\", \"determiner_first_name\": \"Jesser\", \"determiner_last_name\": \"Filho\", \"depth\": \"750\", \"species_author\": \"Souza-Filho & Serejo, 2014\", \"order\": \"Amphipoda\", \"suborder\": \"Nan\", \"infraorder\": \"Nan\", \"superfamily\": \"Nan\", \"family\": \"Ischyroceridae\", \"subfamily\": \"Ischyrocerinae\", \"tribe\": \"Siphonoecetini\", \"determined_year\": null, \"start_year\": 2003.0, \"holotipo_year\": \"2014\", \"counts_x\": 7, \"counts_y\": 7, \"counts\": 7}, {\"cataloged_year\": 2007, \"count\": \"1\", \"class\": \"Malacostraca\", \"kingdom\": \"Animalia\", \"genus\": \"Bonnierella\", \"species\": \"Laurensi\", \"genus_and_species\": \"Bonnierella laurensi\", \"type_status\": \"Holotipo\", \"determiner_first_and_last_name\": \"Jesser Filho\", \"determiner_first_name\": \"Jesser\", \"determiner_last_name\": \"Filho\", \"depth\": \"1050\", \"species_author\": \"Souza-Filho & Serejo, 2014\", \"order\": \"Amphipoda\", \"suborder\": \"Nan\", \"infraorder\": \"Nan\", \"superfamily\": \"Nan\", \"family\": \"Ischyroceridae\", \"subfamily\": \"Ischyrocerinae\", \"tribe\": \"Ischyrocerini\", \"determined_year\": null, \"start_year\": 2003.0, \"holotipo_year\": \"2014\", \"counts_x\": 7, \"counts_y\": 7, \"counts\": 7}, {\"cataloged_year\": 2007, \"count\": \"1\", \"class\": \"Malacostraca\", \"kingdom\": \"Animalia\", \"genus\": \"Bonnierella\", \"species\": \"Campensis\", \"genus_and_species\": \"Bonnierella campensis\", \"type_status\": \"Holotipo\", \"determiner_first_and_last_name\": \"Jesser Filho\", \"determiner_first_name\": \"Jesser\", \"determiner_last_name\": \"Filho\", \"depth\": \"775\", \"species_author\": \"Souza-Filho & Serejo, 2014\", \"order\": \"Amphipoda\", \"suborder\": \"Nan\", \"infraorder\": \"Nan\", \"superfamily\": \"Nan\", \"family\": \"Ischyroceridae\", \"subfamily\": \"Ischyrocerinae\", \"tribe\": \"Ischyrocerini\", \"determined_year\": null, \"start_year\": 2002.0, \"holotipo_year\": \"2014\", \"counts_x\": 7, \"counts_y\": 7, \"counts\": 7}, {\"cataloged_year\": 2007, \"count\": \"1\", \"class\": \"Malacostraca\", \"kingdom\": \"Animalia\", \"genus\": \"Pseudericthonius\", \"species\": \"Concavus\", \"genus_and_species\": \"Pseudericthonius concavus\", \"type_status\": \"Holotipo\", \"determiner_first_and_last_name\": \"Jesser Filho\", \"determiner_first_name\": \"Jesser\", \"determiner_last_name\": \"Filho\", \"depth\": \"1050\", \"species_author\": \"Souza-Filho & Serejo, 2014\", \"order\": \"Amphipoda\", \"suborder\": \"Nan\", \"infraorder\": \"Nan\", \"superfamily\": \"Nan\", \"family\": \"Ischyroceridae\", \"subfamily\": \"Ischyrocerinae\", \"tribe\": \"Siphonoecetini\", \"determined_year\": null, \"start_year\": 2003.0, \"holotipo_year\": \"2014\", \"counts_x\": 7, \"counts_y\": 7, \"counts\": 7}, {\"cataloged_year\": 2008, \"count\": \"1\", \"class\": \"Malacostraca\", \"kingdom\": \"Animalia\", \"genus\": \"Carangolioides\", \"species\": \"Hamatus\", \"genus_and_species\": \"Carangolioides hamatus\", \"type_status\": \"Holotipo\", \"determiner_first_and_last_name\": \"Daniela Sittrop\", \"determiner_first_name\": \"Daniela\", \"determiner_last_name\": \"Sittrop\", \"depth\": \"750\", \"species_author\": \"Sittrop, Serejo, Souza-Filho & Senna, 2015\", \"order\": \"Amphipoda\", \"suborder\": \"Nan\", \"infraorder\": \"Nan\", \"superfamily\": \"Nan\", \"family\": \"Urothoidae\", \"subfamily\": \"Urothoinae\", \"tribe\": \"Urothoini\", \"determined_year\": null, \"start_year\": 2003.0, \"holotipo_year\": \"2015\", \"counts_x\": 2, \"counts_y\": 2, \"counts\": 2}, {\"cataloged_year\": 2008, \"count\": \"1\", \"class\": \"Malacostraca\", \"kingdom\": \"Animalia\", \"genus\": \"Coronaurothoe\", \"species\": \"Rotunda\", \"genus_and_species\": \"Coronaurothoe rotunda\", \"type_status\": \"Holotipo\", \"determiner_first_and_last_name\": \"Daniela Sittrop\", \"determiner_first_name\": \"Daniela\", \"determiner_last_name\": \"Sittrop\", \"depth\": \"750\", \"species_author\": \"Sittrop, Serejo, Souza-Filho & Senna, 2015\", \"order\": \"Amphipoda\", \"suborder\": \"Nan\", \"infraorder\": \"Nan\", \"superfamily\": \"Nan\", \"family\": \"Urothoidae\", \"subfamily\": \"Urothoinae\", \"tribe\": \"Urothoini\", \"determined_year\": null, \"start_year\": 2003.0, \"holotipo_year\": \"2015\", \"counts_x\": 2, \"counts_y\": 2, \"counts\": 2}, {\"cataloged_year\": 2015, \"count\": \"1\", \"class\": \"Copepoda\", \"kingdom\": \"Animalia\", \"genus\": \"Colobomatus\", \"species\": \"Kimi\", \"genus_and_species\": \"Colobomatus kimi\", \"type_status\": \"Holotipo\", \"determiner_first_and_last_name\": \"Fabiano Paschoal\", \"determiner_first_name\": \"Fabiano\", \"determiner_last_name\": \"Paschoal\", \"depth\": \"0\", \"species_author\": \"Paschoal, Pereira & Luque, 2015\", \"order\": \"Cyclopoida\", \"suborder\": \"Nan\", \"infraorder\": \"Nan\", \"superfamily\": \"Nan\", \"family\": \"Philichthyidae\", \"subfamily\": \"Philichthyinae\", \"tribe\": \"Philichthyini\", \"determined_year\": null, \"start_year\": 2014.0, \"holotipo_year\": \"2015\", \"counts_x\": 1, \"counts_y\": 1, \"counts\": 1}, {\"cataloged_year\": 2015, \"count\": \"1\", \"class\": \"Malacostraca\", \"kingdom\": \"Animalia\", \"genus\": \"Tanaopsis\", \"species\": \"Bamberi\", \"genus_and_species\": \"Tanaopsis bamberi\", \"type_status\": \"Holotipo\", \"determiner_first_and_last_name\": \"Juliana Segadilha\", \"determiner_first_name\": \"Juliana\", \"determiner_last_name\": \"Segadilha\", \"depth\": \"50\", \"species_author\": \"Segadilha & Araujo-Silva, 2015\", \"order\": \"Tanaidacea\", \"suborder\": \"Nan\", \"infraorder\": \"Nan\", \"superfamily\": \"Nan\", \"family\": \"Tanaopsidae\", \"subfamily\": \"Tanaopsinae\", \"tribe\": \"Tanaopsini\", \"determined_year\": 2015.0, \"start_year\": 2004.0, \"holotipo_year\": \"2015\", \"counts_x\": 2, \"counts_y\": 2, \"counts\": 2}, {\"cataloged_year\": 2015, \"count\": \"1\", \"class\": \"Malacostraca\", \"kingdom\": \"Animalia\", \"genus\": \"Tanaopsis\", \"species\": \"Brevicorpus\", \"genus_and_species\": \"Tanaopsis brevicorpus\", \"type_status\": \"Holotipo\", \"determiner_first_and_last_name\": \"Juliana Segadilha\", \"determiner_first_name\": \"Juliana\", \"determiner_last_name\": \"Segadilha\", \"depth\": \"125\", \"species_author\": \"Segadilha & Araujo-Silva, 2015\", \"order\": \"Tanaidacea\", \"suborder\": \"Nan\", \"infraorder\": \"Nan\", \"superfamily\": \"Nan\", \"family\": \"Tanaopsidae\", \"subfamily\": \"Tanaopsinae\", \"tribe\": \"Tanaopsini\", \"determined_year\": 2015.0, \"start_year\": 2009.0, \"holotipo_year\": \"2015\", \"counts_x\": 2, \"counts_y\": 2, \"counts\": 2}, {\"cataloged_year\": 2014, \"count\": \"1\", \"class\": \"Malacostraca\", \"kingdom\": \"Animalia\", \"genus\": \"Metharpinia\", \"species\": \"Taylorae\", \"genus_and_species\": \"Metharpinia taylorae\", \"type_status\": \"Holotipo\", \"determiner_first_and_last_name\": \"Luis Andrade\", \"determiner_first_name\": \"Luis\", \"determiner_last_name\": \"Andrade\", \"depth\": \"22\", \"species_author\": \"Andrade, Johnsson & Senna, 2015\", \"order\": \"Amphipoda\", \"suborder\": \"Nan\", \"infraorder\": \"Nan\", \"superfamily\": \"Nan\", \"family\": \"Phoxocephalidae\", \"subfamily\": \"Nan\", \"tribe\": \"Metharpinini\", \"determined_year\": 2015.0, \"start_year\": 2009.0, \"holotipo_year\": \"2015\", \"counts_x\": 1, \"counts_y\": 1, \"counts\": 1}, {\"cataloged_year\": 2016, \"count\": \"1\", \"class\": \"Maxillopoda\", \"kingdom\": \"Animalia\", \"genus\": \"Leposphilus\", \"species\": \"Vogti\", \"genus_and_species\": \"Leposphilus vogti\", \"type_status\": \"Holotipo\", \"determiner_first_and_last_name\": \"Fabiano Paschoal\", \"determiner_first_name\": \"Fabiano\", \"determiner_last_name\": \"Paschoal\", \"depth\": \"1\", \"species_author\": \"Paschoal, Nagasawa & Luque, 2016\\u00a0\", \"order\": \"Poecilostomatoida\", \"suborder\": \"Nan\", \"infraorder\": \"Nan\", \"superfamily\": \"Indeterminado\", \"family\": \"Philichthyidae\", \"subfamily\": \"Indeterminado\", \"tribe\": \"Indeterminado\", \"determined_year\": 2015.0, \"start_year\": 2015.0, \"holotipo_year\": \"2016\", \"counts_x\": 1, \"counts_y\": 1, \"counts\": 1}, {\"cataloged_year\": 2016, \"count\": \"1\", \"class\": \"Maxillopoda\", \"kingdom\": \"Animalia\", \"genus\": \"Ergasilus\", \"species\": \"Xinguensis\", \"genus_and_species\": \"Ergasilus xinguensis\", \"type_status\": \"Holotipo\", \"determiner_first_and_last_name\": \"N Taborda\", \"determiner_first_name\": \"N\", \"determiner_last_name\": \"Taborda\", \"depth\": \"3\", \"species_author\": \"Taborda, Paschoal & Luque, 2016\", \"order\": \"Cyclopoida\", \"suborder\": \"Nan\", \"infraorder\": \"Nan\", \"superfamily\": \"Indeterminado\", \"family\": \"Ergasilidae\", \"subfamily\": \"Indeterminado\", \"tribe\": \"Indeterminado\", \"determined_year\": 2015.0, \"start_year\": 2013.0, \"holotipo_year\": \"2016\", \"counts_x\": 1, \"counts_y\": 1, \"counts\": 1}]}};\n",
       "const opt = {};\n",
       "const type = \"vega-lite\";\n",
       "const id = \"d4f292c9-e5b0-415c-8ef6-f3fa046ddcc7\";\n",
       "\n",
       "const output_area = this;\n",
       "\n",
       "require([\"nbextensions/jupyter-vega/index\"], function(vega) {\n",
       "  const target = document.createElement(\"div\");\n",
       "  target.id = id;\n",
       "  target.className = \"vega-embed\";\n",
       "\n",
       "  const style = document.createElement(\"style\");\n",
       "  style.textContent = [\n",
       "    \".vega-embed .error p {\",\n",
       "    \"  color: firebrick;\",\n",
       "    \"  font-size: 14px;\",\n",
       "    \"}\",\n",
       "  ].join(\"\\\\n\");\n",
       "\n",
       "  // element is a jQuery wrapped DOM element inside the output area\n",
       "  // see http://ipython.readthedocs.io/en/stable/api/generated/\\\n",
       "  // IPython.display.html#IPython.display.Javascript.__init__\n",
       "  element[0].appendChild(target);\n",
       "  element[0].appendChild(style);\n",
       "\n",
       "  vega.render(\"#\" + id, spec, type, opt, output_area);\n",
       "}, function (err) {\n",
       "  if (err.requireType !== \"scripterror\") {\n",
       "    throw(err);\n",
       "  }\n",
       "});\n"
      ],
      "text/plain": [
       "<vega.vegalite.VegaLite at 0x7f9d9f67bb50>"
      ]
     },
     "metadata": {
      "jupyter-vega": "#d4f292c9-e5b0-415c-8ef6-f3fa046ddcc7"
     },
     "output_type": "display_data"
    },
    {
     "data": {
      "text/plain": []
     },
     "execution_count": 52,
     "metadata": {},
     "output_type": "execute_result"
    },
    {
     "data": {
      "image/png": "[encoded data removed]"
     },
     "metadata": {
      "jupyter-vega": "#d4f292c9-e5b0-415c-8ef6-f3fa046ddcc7"
     },
     "output_type": "display_data"
    }
   ],
   "source": [
    "# p.s.: there are overlapping points (it's affecting opacity)\n",
    "g1 = alt.Chart(holotipo, title='Holotypes discovered and determined years',\n",
    "               width=600, height=500).mark_circle(size=60).encode(\n",
    "    x= alt.X('start_year', type='ordinal', title='Discovered Year'),\n",
    "    y= alt.Y('holotipo_year', type='ordinal', title='Start Year',\n",
    "            sort= alt.EncodingSortField(field='holotipo_year', order='descending')),\n",
    "    tooltip= alt.Tooltip(['holotipo_year', 'start_year']),\n",
    "    color= alt.Color('order', type='nominal', scale= alt.Scale(scheme='reds')), \n",
    "#     opacity= alt.Opacity(scale= alt.Scale(domain=types,range=opacities), type='quantitative')\n",
    "#     size=alt.Size('depth')\n",
    ")\n",
    "\n",
    "# saving graph\n",
    "# g1.save(f'./types/holotipo_discoreved_vs_start_year.svg')\n",
    "# g1.save(f'./types/holotipo_discoreved_vs_start_year.png')\n",
    "# g1.save(f'./types/holotipo_discoreved_vs_start_year.html')\n",
    "\n",
    "g1"
   ]
  },
  {
   "cell_type": "markdown",
   "metadata": {},
   "source": [
    "<br>\n",
    "\n",
    "**The end!**\n",
    "\n",
    "-----"
   ]
  }
 ],
 "metadata": {
  "kernelspec": {
   "display_name": "Python 3",
   "language": "python",
   "name": "python3"
  },
  "language_info": {
   "codemirror_mode": {
    "name": "ipython",
    "version": 3
   },
   "file_extension": ".py",
   "mimetype": "text/x-python",
   "name": "python",
   "nbconvert_exporter": "python",
   "pygments_lexer": "ipython3",
   "version": "3.8.2"
  },
  "latex_envs": {
   "LaTeX_envs_menu_present": true,
   "autoclose": false,
   "autocomplete": true,
   "bibliofile": "biblio.bib",
   "cite_by": "apalike",
   "current_citInitial": 1,
   "eqLabelWithNumbers": true,
   "eqNumInitial": 1,
   "hotkeys": {
    "equation": "Ctrl-E",
    "itemize": "Ctrl-I"
   },
   "labels_anchors": false,
   "latex_user_defs": false,
   "report_style_numbering": false,
   "user_envs_cfg": false
  },
  "toc": {
   "base_numbering": 1,
   "nav_menu": {},
   "number_sections": false,
   "sideBar": true,
   "skip_h1_title": false,
   "title_cell": "Table of Contents",
   "title_sidebar": "Contents",
   "toc_cell": false,
   "toc_position": {},
   "toc_section_display": true,
   "toc_window_display": false
  },
  "varInspector": {
   "cols": {
    "lenName": 16,
    "lenType": 16,
    "lenVar": 40
   },
   "kernels_config": {
    "python": {
     "delete_cmd_postfix": "",
     "delete_cmd_prefix": "del ",
     "library": "var_list.py",
     "varRefreshCmd": "print(var_dic_list())"
    },
    "r": {
     "delete_cmd_postfix": ") ",
     "delete_cmd_prefix": "rm(",
     "library": "var_list.r",
     "varRefreshCmd": "cat(var_dic_list()) "
    }
   },
   "position": {
    "height": "391.35px",
    "left": "900.5px",
    "right": "20px",
    "top": "96px",
    "width": "536.5px"
   },
   "types_to_exclude": [
    "module",
    "function",
    "builtin_function_or_method",
    "instance",
    "_Feature"
   ],
   "window_display": false
  }
 },
 "nbformat": 4,
 "nbformat_minor": 2
}
