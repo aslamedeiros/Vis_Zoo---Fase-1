{
 "cells": [
  {
   "cell_type": "markdown",
   "metadata": {},
   "source": [
    "# Type charts\n",
    "\n",
    "By **Franklin Oliveira**\n",
    "\n",
    "-----\n",
    "This notebook contains all code necessary to make the \"type\" charts from `repteis` database. Here you'll find some basic data treatment and charts' code. \n",
    "\n",
    "Database: <font color='blue'>'Compilacao Livros Repteis - 2 a 10 - 2020_04_28.xls'</font>."
   ]
  },
  {
   "cell_type": "code",
   "execution_count": 2,
   "metadata": {
    "ExecuteTime": {
     "end_time": "2020-08-01T19:01:56.392650Z",
     "start_time": "2020-08-01T19:01:54.659797Z"
    }
   },
   "outputs": [
    {
     "data": {
      "text/plain": [
       "DataTransformerRegistry.enable('default')"
      ]
     },
     "execution_count": 2,
     "metadata": {},
     "output_type": "execute_result"
    }
   ],
   "source": [
    "import datetime\n",
    "import numpy as np\n",
    "import pandas as pd\n",
    "\n",
    "from collections import defaultdict\n",
    "\n",
    "# pacotes para visualização rápida\n",
    "import seaborn as sns\n",
    "import matplotlib.pyplot as plt\n",
    "\n",
    "# pacote para visualização principal\n",
    "import altair as alt\n",
    "\n",
    "# habilitando renderizador para notebook\n",
    "# alt.renderers.enable('notebook')\n",
    "alt.renderers.enable('default')\n",
    "\n",
    "\n",
    "# desabilitando limite de linhas\n",
    "alt.data_transformers.disable_max_rows()"
   ]
  },
  {
   "cell_type": "markdown",
   "metadata": {},
   "source": [
    "## Importing data..."
   ]
  },
  {
   "cell_type": "code",
   "execution_count": null,
   "metadata": {},
   "outputs": [],
   "source": [
    "NewTable = pd.read_csv('./data/treated_db.csv', sep=';', encoding='utf-8-sig')"
   ]
  },
  {
   "cell_type": "markdown",
   "metadata": {},
   "source": [
    "<br>\n",
    "\n",
    "<font size=5>**Paleta de cores por Ordem**</font>\n",
    "\n",
    "Abaixo está a imagem usada como inspiração (https://color.adobe.com/create/image)\n",
    "\n",
    "<img src=\"./src/paleta_cores.jpeg\" width='500px'>\n",
    "\n",
    "Cores: \n",
    "\n",
    "- verde_escuro: #284021\n",
    "- verde_claro: #88BF11\n",
    "- amarelo: #D9CB0B\n",
    "- laranja: #D99311\n",
    "- laranja_escuro: #BF4417\n",
    "- marrom-_laro: #BF8D7A"
   ]
  },
  {
   "cell_type": "code",
   "execution_count": 4,
   "metadata": {
    "ExecuteTime": {
     "end_time": "2020-08-01T19:02:03.976113Z",
     "start_time": "2020-08-01T19:02:03.967230Z"
    }
   },
   "outputs": [],
   "source": [
    "# OBS: caudata é erro na base. Deve ser retirada. \n",
    "cores_ordem = {\n",
    "    'Squamata': '#BF4417',\n",
    "    'Testudines': '#D9CB0B', \n",
    "    'Crocodylia': '#284021'\n",
    "}\n",
    "\n",
    "ordens = list(cores_ordem.keys())\n",
    "cores = list(cores_ordem.values())"
   ]
  },
  {
   "cell_type": "markdown",
   "metadata": {},
   "source": [
    "<br>\n",
    "\n",
    "\n",
    "## Graphs\n",
    "\n",
    "---\n",
    "\n",
    "### Types (*per year*) per genus\n",
    "\n",
    "x: Species1, cor: Type Status1, size: counts"
   ]
  },
  {
   "cell_type": "code",
   "execution_count": 31,
   "metadata": {
    "ExecuteTime": {
     "end_time": "2020-08-01T19:10:05.495929Z",
     "start_time": "2020-08-01T19:10:05.479936Z"
    }
   },
   "outputs": [
    {
     "data": {
      "text/plain": [
       "Parátipo     227\n",
       "Holótipo      28\n",
       "Cótipo         2\n",
       "Lectótipo      1\n",
       "Topótipo       1\n",
       "Name: notas_taxonomicas, dtype: int64"
      ]
     },
     "execution_count": 31,
     "metadata": {},
     "output_type": "execute_result"
    }
   ],
   "source": [
    "# type info is in this column\n",
    "NewTable['notas_taxonomicas'].value_counts()"
   ]
  },
  {
   "cell_type": "code",
   "execution_count": 28,
   "metadata": {
    "ExecuteTime": {
     "end_time": "2020-08-01T19:09:05.271732Z",
     "start_time": "2020-08-01T19:09:05.239390Z"
    }
   },
   "outputs": [],
   "source": [
    "# subsetting\n",
    "teste = NewTable[['altitude','familia','ordem', 'ano_coleta', 'qualificador_atual', 'numero_catalogo', \n",
    "                  'genero_atual', 'especie_atual', 'subespecie_atual', 'notas_taxonomicas']].copy()\n",
    "\n",
    "# grouping by type, year and order\n",
    "temp = teste.groupby(['notas_taxonomicas','ano_coleta', 'ordem']).count()['familia'].reset_index().rename(columns={\n",
    "    'familia':'counts'\n",
    "})\n",
    "\n",
    "# p.s.: Cótipo and Topótipo are not types\n",
    "temp = temp[(temp['notas_taxonomicas'] != 'Cótipo') & (temp['notas_taxonomicas'] != 'Topótipo')]"
   ]
  },
  {
   "cell_type": "markdown",
   "metadata": {},
   "source": [
    "243 info. de tipos"
   ]
  },
  {
   "cell_type": "markdown",
   "metadata": {},
   "source": [
    "### Gráf. de Tipos"
   ]
  },
  {
   "cell_type": "code",
   "execution_count": 29,
   "metadata": {
    "ExecuteTime": {
     "end_time": "2020-08-01T19:09:08.046628Z",
     "start_time": "2020-08-01T19:09:07.986196Z"
    }
   },
   "outputs": [
    {
     "data": {
      "text/html": [
       "\n",
       "<div id=\"altair-viz-3d47e88c611c447e8f4fa7e55cfeb8a8\"></div>\n",
       "<script type=\"text/javascript\">\n",
       "  (function(spec, embedOpt){\n",
       "    let outputDiv = document.currentScript.previousElementSibling;\n",
       "    if (outputDiv.id !== \"altair-viz-3d47e88c611c447e8f4fa7e55cfeb8a8\") {\n",
       "      outputDiv = document.getElementById(\"altair-viz-3d47e88c611c447e8f4fa7e55cfeb8a8\");\n",
       "    }\n",
       "    const paths = {\n",
       "      \"vega\": \"https://cdn.jsdelivr.net/npm//vega@5?noext\",\n",
       "      \"vega-lib\": \"https://cdn.jsdelivr.net/npm//vega-lib?noext\",\n",
       "      \"vega-lite\": \"https://cdn.jsdelivr.net/npm//vega-lite@4.8.1?noext\",\n",
       "      \"vega-embed\": \"https://cdn.jsdelivr.net/npm//vega-embed@6?noext\",\n",
       "    };\n",
       "\n",
       "    function loadScript(lib) {\n",
       "      return new Promise(function(resolve, reject) {\n",
       "        var s = document.createElement('script');\n",
       "        s.src = paths[lib];\n",
       "        s.async = true;\n",
       "        s.onload = () => resolve(paths[lib]);\n",
       "        s.onerror = () => reject(`Error loading script: ${paths[lib]}`);\n",
       "        document.getElementsByTagName(\"head\")[0].appendChild(s);\n",
       "      });\n",
       "    }\n",
       "\n",
       "    function showError(err) {\n",
       "      outputDiv.innerHTML = `<div class=\"error\" style=\"color:red;\">${err}</div>`;\n",
       "      throw err;\n",
       "    }\n",
       "\n",
       "    function displayChart(vegaEmbed) {\n",
       "      vegaEmbed(outputDiv, spec, embedOpt)\n",
       "        .catch(err => showError(`Javascript Error: ${err.message}<br>This usually means there's a typo in your chart specification. See the javascript console for the full traceback.`));\n",
       "    }\n",
       "\n",
       "    if(typeof define === \"function\" && define.amd) {\n",
       "      requirejs.config({paths});\n",
       "      require([\"vega-embed\"], displayChart, err => showError(`Error loading script: ${err.message}`));\n",
       "    } else if (typeof vegaEmbed === \"function\") {\n",
       "      displayChart(vegaEmbed);\n",
       "    } else {\n",
       "      loadScript(\"vega\")\n",
       "        .then(() => loadScript(\"vega-lite\"))\n",
       "        .then(() => loadScript(\"vega-embed\"))\n",
       "        .catch(showError)\n",
       "        .then(() => displayChart(vegaEmbed));\n",
       "    }\n",
       "  })({\"config\": {\"view\": {\"continuousWidth\": 400, \"continuousHeight\": 300}}, \"data\": {\"name\": \"data-10db5090c12c565e9287fcec4a4bbc74\"}, \"mark\": \"circle\", \"encoding\": {\"color\": {\"type\": \"nominal\", \"field\": \"ordem\", \"scale\": {\"domain\": [\"Squamata\", \"Testudines\", \"Crocodylia\"], \"range\": [\"#BF4417\", \"#D9CB0B\", \"#284021\"]}, \"title\": \"order\"}, \"size\": {\"type\": \"quantitative\", \"field\": \"counts\", \"scale\": {}}, \"tooltip\": [{\"type\": \"nominal\", \"field\": \"notas_taxonomicas\", \"title\": \"type\"}, {\"type\": \"quantitative\", \"field\": \"ano_coleta\", \"title\": \"collected year\"}, {\"type\": \"quantitative\", \"field\": \"counts\", \"title\": \"counts\"}], \"x\": {\"type\": \"ordinal\", \"field\": \"ano_coleta\", \"title\": \"collected year\"}, \"y\": {\"type\": \"nominal\", \"field\": \"notas_taxonomicas\", \"sort\": {\"field\": \"tipo\", \"op\": \"count\", \"order\": \"descending\"}, \"title\": \"type\"}}, \"height\": 150, \"title\": \"Types per year\", \"$schema\": \"https://vega.github.io/schema/vega-lite/v4.8.1.json\", \"datasets\": {\"data-10db5090c12c565e9287fcec4a4bbc74\": [{\"notas_taxonomicas\": \"Hol\\u00f3tipo\", \"ano_coleta\": 1957.0, \"ordem\": \"Squamata\", \"counts\": 1}, {\"notas_taxonomicas\": \"Hol\\u00f3tipo\", \"ano_coleta\": 1964.0, \"ordem\": \"Squamata\", \"counts\": 1}, {\"notas_taxonomicas\": \"Hol\\u00f3tipo\", \"ano_coleta\": 1985.0, \"ordem\": \"Squamata\", \"counts\": 1}, {\"notas_taxonomicas\": \"Hol\\u00f3tipo\", \"ano_coleta\": 1988.0, \"ordem\": \"Squamata\", \"counts\": 2}, {\"notas_taxonomicas\": \"Hol\\u00f3tipo\", \"ano_coleta\": 1989.0, \"ordem\": \"Squamata\", \"counts\": 1}, {\"notas_taxonomicas\": \"Hol\\u00f3tipo\", \"ano_coleta\": 1990.0, \"ordem\": \"Squamata\", \"counts\": 1}, {\"notas_taxonomicas\": \"Hol\\u00f3tipo\", \"ano_coleta\": 1991.0, \"ordem\": \"Squamata\", \"counts\": 1}, {\"notas_taxonomicas\": \"Hol\\u00f3tipo\", \"ano_coleta\": 1994.0, \"ordem\": \"Squamata\", \"counts\": 1}, {\"notas_taxonomicas\": \"Hol\\u00f3tipo\", \"ano_coleta\": 1995.0, \"ordem\": \"Squamata\", \"counts\": 3}, {\"notas_taxonomicas\": \"Hol\\u00f3tipo\", \"ano_coleta\": 1997.0, \"ordem\": \"Squamata\", \"counts\": 1}, {\"notas_taxonomicas\": \"Hol\\u00f3tipo\", \"ano_coleta\": 1998.0, \"ordem\": \"Squamata\", \"counts\": 2}, {\"notas_taxonomicas\": \"Hol\\u00f3tipo\", \"ano_coleta\": 2000.0, \"ordem\": \"Squamata\", \"counts\": 1}, {\"notas_taxonomicas\": \"Hol\\u00f3tipo\", \"ano_coleta\": 2005.0, \"ordem\": \"Squamata\", \"counts\": 1}, {\"notas_taxonomicas\": \"Hol\\u00f3tipo\", \"ano_coleta\": 2006.0, \"ordem\": \"Squamata\", \"counts\": 3}, {\"notas_taxonomicas\": \"Hol\\u00f3tipo\", \"ano_coleta\": 2007.0, \"ordem\": \"Squamata\", \"counts\": 1}, {\"notas_taxonomicas\": \"Hol\\u00f3tipo\", \"ano_coleta\": 2008.0, \"ordem\": \"Squamata\", \"counts\": 3}, {\"notas_taxonomicas\": \"Hol\\u00f3tipo\", \"ano_coleta\": 2009.0, \"ordem\": \"Squamata\", \"counts\": 1}, {\"notas_taxonomicas\": \"Hol\\u00f3tipo\", \"ano_coleta\": 2009.0, \"ordem\": \"Testudines\", \"counts\": 1}, {\"notas_taxonomicas\": \"Hol\\u00f3tipo\", \"ano_coleta\": 2012.0, \"ordem\": \"Squamata\", \"counts\": 1}, {\"notas_taxonomicas\": \"Lect\\u00f3tipo\", \"ano_coleta\": 1937.0, \"ordem\": \"Squamata\", \"counts\": 1}, {\"notas_taxonomicas\": \"Par\\u00e1tipo\", \"ano_coleta\": 1947.0, \"ordem\": \"Squamata\", \"counts\": 1}, {\"notas_taxonomicas\": \"Par\\u00e1tipo\", \"ano_coleta\": 1956.0, \"ordem\": \"Squamata\", \"counts\": 2}, {\"notas_taxonomicas\": \"Par\\u00e1tipo\", \"ano_coleta\": 1981.0, \"ordem\": \"Squamata\", \"counts\": 1}, {\"notas_taxonomicas\": \"Par\\u00e1tipo\", \"ano_coleta\": 1984.0, \"ordem\": \"Squamata\", \"counts\": 1}, {\"notas_taxonomicas\": \"Par\\u00e1tipo\", \"ano_coleta\": 1985.0, \"ordem\": \"Squamata\", \"counts\": 9}, {\"notas_taxonomicas\": \"Par\\u00e1tipo\", \"ano_coleta\": 1986.0, \"ordem\": \"Squamata\", \"counts\": 2}, {\"notas_taxonomicas\": \"Par\\u00e1tipo\", \"ano_coleta\": 1987.0, \"ordem\": \"Squamata\", \"counts\": 2}, {\"notas_taxonomicas\": \"Par\\u00e1tipo\", \"ano_coleta\": 1988.0, \"ordem\": \"Squamata\", \"counts\": 2}, {\"notas_taxonomicas\": \"Par\\u00e1tipo\", \"ano_coleta\": 1989.0, \"ordem\": \"Squamata\", \"counts\": 4}, {\"notas_taxonomicas\": \"Par\\u00e1tipo\", \"ano_coleta\": 1990.0, \"ordem\": \"Squamata\", \"counts\": 3}, {\"notas_taxonomicas\": \"Par\\u00e1tipo\", \"ano_coleta\": 1991.0, \"ordem\": \"Squamata\", \"counts\": 11}, {\"notas_taxonomicas\": \"Par\\u00e1tipo\", \"ano_coleta\": 1992.0, \"ordem\": \"Squamata\", \"counts\": 1}, {\"notas_taxonomicas\": \"Par\\u00e1tipo\", \"ano_coleta\": 1993.0, \"ordem\": \"Squamata\", \"counts\": 16}, {\"notas_taxonomicas\": \"Par\\u00e1tipo\", \"ano_coleta\": 1994.0, \"ordem\": \"Squamata\", \"counts\": 7}, {\"notas_taxonomicas\": \"Par\\u00e1tipo\", \"ano_coleta\": 1995.0, \"ordem\": \"Squamata\", \"counts\": 7}, {\"notas_taxonomicas\": \"Par\\u00e1tipo\", \"ano_coleta\": 1997.0, \"ordem\": \"Squamata\", \"counts\": 9}, {\"notas_taxonomicas\": \"Par\\u00e1tipo\", \"ano_coleta\": 1998.0, \"ordem\": \"Squamata\", \"counts\": 40}, {\"notas_taxonomicas\": \"Par\\u00e1tipo\", \"ano_coleta\": 1999.0, \"ordem\": \"Squamata\", \"counts\": 1}, {\"notas_taxonomicas\": \"Par\\u00e1tipo\", \"ano_coleta\": 2000.0, \"ordem\": \"Squamata\", \"counts\": 33}, {\"notas_taxonomicas\": \"Par\\u00e1tipo\", \"ano_coleta\": 2001.0, \"ordem\": \"Squamata\", \"counts\": 4}, {\"notas_taxonomicas\": \"Par\\u00e1tipo\", \"ano_coleta\": 2002.0, \"ordem\": \"Squamata\", \"counts\": 4}, {\"notas_taxonomicas\": \"Par\\u00e1tipo\", \"ano_coleta\": 2004.0, \"ordem\": \"Squamata\", \"counts\": 1}, {\"notas_taxonomicas\": \"Par\\u00e1tipo\", \"ano_coleta\": 2006.0, \"ordem\": \"Squamata\", \"counts\": 2}, {\"notas_taxonomicas\": \"Par\\u00e1tipo\", \"ano_coleta\": 2007.0, \"ordem\": \"Squamata\", \"counts\": 3}, {\"notas_taxonomicas\": \"Par\\u00e1tipo\", \"ano_coleta\": 2008.0, \"ordem\": \"Squamata\", \"counts\": 18}, {\"notas_taxonomicas\": \"Par\\u00e1tipo\", \"ano_coleta\": 2008.0, \"ordem\": \"Testudines\", \"counts\": 7}, {\"notas_taxonomicas\": \"Par\\u00e1tipo\", \"ano_coleta\": 2009.0, \"ordem\": \"Squamata\", \"counts\": 4}, {\"notas_taxonomicas\": \"Par\\u00e1tipo\", \"ano_coleta\": 2009.0, \"ordem\": \"Testudines\", \"counts\": 2}, {\"notas_taxonomicas\": \"Par\\u00e1tipo\", \"ano_coleta\": 2011.0, \"ordem\": \"Testudines\", \"counts\": 2}, {\"notas_taxonomicas\": \"Par\\u00e1tipo\", \"ano_coleta\": 2012.0, \"ordem\": \"Squamata\", \"counts\": 9}, {\"notas_taxonomicas\": \"Par\\u00e1tipo\", \"ano_coleta\": 2013.0, \"ordem\": \"Squamata\", \"counts\": 3}, {\"notas_taxonomicas\": \"Par\\u00e1tipo\", \"ano_coleta\": 2014.0, \"ordem\": \"Squamata\", \"counts\": 1}]}}, {\"mode\": \"vega-lite\"});\n",
       "</script>"
      ],
      "text/plain": [
       "alt.Chart(...)"
      ]
     },
     "execution_count": 29,
     "metadata": {},
     "output_type": "execute_result"
    }
   ],
   "source": [
    "# teste[(~teste['tipo'].isna()) & (teste['tipo'] != 'Topótipo')]\n",
    "tipo = alt.Chart(temp, height=150, title='Types per year').mark_circle().encode(\n",
    "    x = alt.X('ano_coleta:O', title='collected year'),\n",
    "    y = alt.Y('notas_taxonomicas:N', title= 'type',\n",
    "              sort=alt.EncodingSortField('tipo', op='count', order='descending')),\n",
    "    color= alt.Color('ordem', scale=alt.Scale(domain=ordens, range=cores), title='order'), \n",
    "    size= alt.Size('counts', scale=alt.Scale()),\n",
    "    tooltip= [alt.Tooltip('notas_taxonomicas', title='type'),\n",
    "              alt.Tooltip('ano_coleta', title='collected year'),\n",
    "              alt.Tooltip('counts', title='counts')]\n",
    ")\n",
    "\n",
    "tipo.save('./graphs/tipo/tipos_por_ano.html')\n",
    "\n",
    "tipo"
   ]
  },
  {
   "cell_type": "markdown",
   "metadata": {},
   "source": [
    "<br>\n",
    "\n",
    "<font size='6'>Para a base de repteis acaba aqui, por enquanto </font>"
   ]
  },
  {
   "cell_type": "markdown",
   "metadata": {},
   "source": [
    "<br>\n",
    "\n",
    "#### defining some parameters"
   ]
  },
  {
   "cell_type": "markdown",
   "metadata": {
    "ExecuteTime": {
     "end_time": "2020-03-12T00:04:15.647165Z",
     "start_time": "2020-03-12T00:04:15.542566Z"
    }
   },
   "source": [
    "colors = ['#d62728', '#f58518', '#d95f02',\n",
    "          '#d62729', '#f58519', '#d95f03',\n",
    "          '#4daf4a', '#8c6d31',\n",
    "          '#79706e', '#bab0ac', '#d8b5a5'\n",
    "         ]\n",
    "\n",
    "types = ['Holotipo', 'Alotipo', 'Neotipo',\n",
    "          'Sintipo', 'Lectotipo', 'Paralectotipo',\n",
    "          'Paratipo', 'Topotipo', \n",
    "          'Tipo', 'Co-tipo', 'Material tipo'\n",
    "        ]\n",
    "\n",
    "opacities= [1, 1, 1,\n",
    "           0.4,0.4,0.4,\n",
    "           1,1,1,\n",
    "           1,1,1]\n",
    "\n",
    "# creating dictionary with type:color\n",
    "type_color = defaultdict()\n",
    "for t in range(len(types)):\n",
    "    type_color[types[t]] = colors[t] "
   ]
  },
  {
   "cell_type": "markdown",
   "metadata": {},
   "source": [
    "<br>\n",
    "\n",
    "### ordering per holotype year (year in which the holotype was discovered)"
   ]
  },
  {
   "cell_type": "markdown",
   "metadata": {
    "ExecuteTime": {
     "end_time": "2020-03-12T00:04:15.902175Z",
     "start_time": "2020-03-12T00:04:15.649445Z"
    }
   },
   "source": [
    "counts = teste1.groupby(['determiner_first_and_last_name', 'type_status','holotipo_year']).count()['class'].reset_index()\n",
    "counts.rename(columns={'class':'counts'}, inplace=True)"
   ]
  },
  {
   "cell_type": "markdown",
   "metadata": {
    "ExecuteTime": {
     "end_time": "2020-03-12T00:04:15.977595Z",
     "start_time": "2020-03-12T00:04:15.903980Z"
    }
   },
   "source": [
    "teste1 = pd.merge(teste1, counts, on=['determiner_first_and_last_name', 'type_status','holotipo_year'])"
   ]
  },
  {
   "cell_type": "markdown",
   "metadata": {
    "ExecuteTime": {
     "end_time": "2020-03-12T00:04:16.092594Z",
     "start_time": "2020-03-12T00:04:15.982992Z"
    }
   },
   "source": [
    "# sorting in subsample (again)\n",
    "temp = teste1[(~teste1['determiner_first_and_last_name'].isna()) & (~teste1['type_status'].isna())\n",
    "                      & (~teste1['start_year'].isna())].copy()\n",
    "\n",
    "teste1.sort_values(['holotipo_year','determiner_first_and_last_name', 'counts'], inplace=True)\n",
    "\n",
    "# names ordering for y axis\n",
    "names_ordering = list(\n",
    "    temp[~temp['determiner_first_and_last_name'].isna()]['determiner_first_and_last_name'].unique()\n",
    ")"
   ]
  },
  {
   "cell_type": "markdown",
   "metadata": {
    "ExecuteTime": {
     "end_time": "2020-03-12T00:04:16.216770Z",
     "start_time": "2020-03-12T00:04:16.099085Z"
    }
   },
   "source": [
    "holotipo = teste1[(teste1['type_status'] == 'Holotipo')].copy()  # filtering only holotype\n",
    "holotipo = holotipo[~holotipo['determiner_first_and_last_name'].isna()].copy()  # making sure names are \n",
    "#                                                                                nonempty...\n",
    "# sorting\n",
    "holotipo.sort_values('holotipo_year', inplace=True)\n",
    "\n",
    "# sorting per holotipo year\n",
    "names_ordering = list(holotipo['determiner_first_and_last_name'].values)\n",
    "\n",
    "temp = holotipo.groupby(['order','start_year']).count()['count'].reset_index()"
   ]
  },
  {
   "cell_type": "markdown",
   "metadata": {
    "ExecuteTime": {
     "end_time": "2020-03-12T00:05:20.079181Z",
     "start_time": "2020-03-12T00:05:17.048876Z"
    }
   },
   "source": [
    "g1 = alt.Chart(temp[temp['order'] != 'Nan'],\n",
    "               width=800, height=400, title='Number of holotypes of each order per year').mark_circle(size=60,\n",
    "                                                                                color='red').encode(\n",
    "    x= alt.X('start_year', type='ordinal', title='Year'),\n",
    "    y= alt.Y('order', type='nominal', title='Order',\n",
    "            sort= alt.EncodingSortField(field='count', op='max', order='descending')),\n",
    "    size = alt.Size('count'),\n",
    ")\n",
    "\n",
    "# saving graph\n",
    "# g1.save(f'./types/counts_per_year/holotypes_per_order.svg')\n",
    "# g1.save(f'./types/counts_per_year/holotypes_per_order.png')\n",
    "# g1.save(f'./types/counts_per_year/holotypes_per_order.html')\n",
    "\n",
    "g1"
   ]
  },
  {
   "cell_type": "markdown",
   "metadata": {},
   "source": [
    "### separating and grouping types"
   ]
  },
  {
   "cell_type": "markdown",
   "metadata": {
    "ExecuteTime": {
     "end_time": "2020-03-02T16:11:36.106250Z",
     "start_time": "2020-03-02T16:11:35.972614Z"
    }
   },
   "source": [
    "types = teste1['type_status'].unique()\n",
    "\n",
    "group_types = []\n",
    "for t in types:\n",
    "    if t not in ['Holotipo', 'Alotipo', 'Paratipo']:\n",
    "        group_types.append(t)"
   ]
  },
  {
   "cell_type": "markdown",
   "metadata": {
    "ExecuteTime": {
     "end_time": "2020-03-02T16:11:36.296420Z",
     "start_time": "2020-03-02T16:11:36.108144Z"
    }
   },
   "source": [
    "# replicating for ALL types\n",
    "for t in ['Holotipo', 'Alotipo', 'Paratipo']:\n",
    "    # preparing data\n",
    "    temp1 = teste1[(teste1['type_status'] == t)].copy()                   # filtering only holotype\n",
    "    temp = temp1[~temp1['determiner_first_and_last_name'].isna()].copy()  # making sure names are \n",
    "                                                                          # nonempty...\n",
    "    # sorting\n",
    "    temp.sort_values('holotipo_year', inplace=True)\n",
    "\n",
    "    # sorting per holotipo year\n",
    "    names_ordering = list(temp['determiner_first_and_last_name'].values)\n",
    "    \n",
    "    # grouping and counting per order and year\n",
    "    temp = temp.groupby(['order','start_year']).count()['count'].reset_index()\n",
    "\n",
    "    ### Chart\n",
    "    g1 = alt.Chart(temp[temp['order'] != 'Nan'],\n",
    "                   width=800, height=400, title=f'Number of {t} of each order per year').mark_circle(size=60,\n",
    "                                                                     color=f'{type_color[t]}').encode(\n",
    "        x= alt.X('start_year', type='ordinal', title='Year'),\n",
    "        y= alt.Y('order', type='nominal', title='Order',\n",
    "                sort= alt.EncodingSortField(field='count', op='max', order='descending')),\n",
    "        size = alt.Size('count'),\n",
    "    #     color= alt.Color('holotipo_year', type='quantitative', scale= alt.Scale(scheme='reds')), \n",
    "    #     opacity= alt.Opacity(scale= alt.Scale(domain=types,range=opacities), type='quantitative')\n",
    "    #     size=alt.Size('depth')\n",
    "    )\n",
    "\n",
    "    # saving graph\n",
    "#     g1.save(f'./types/counts_per_year/{t}_per_order.svg')\n",
    "#     g1.save(f'./types/counts_per_year/{t}_per_order.png')\n",
    "#     g1.save(f'./types/counts_per_year/{t}_per_order.html')\n",
    "\n",
    "# g1"
   ]
  },
  {
   "cell_type": "markdown",
   "metadata": {},
   "source": [
    "<br>\n",
    "\n",
    "#### graph of other types"
   ]
  },
  {
   "cell_type": "markdown",
   "metadata": {
    "ExecuteTime": {
     "end_time": "2020-03-02T16:11:36.375639Z",
     "start_time": "2020-03-02T16:11:36.298455Z"
    }
   },
   "source": [
    "t = teste1['order'].unique()"
   ]
  },
  {
   "cell_type": "markdown",
   "metadata": {
    "ExecuteTime": {
     "end_time": "2020-03-02T16:11:36.485024Z",
     "start_time": "2020-03-02T16:11:36.377682Z"
    }
   },
   "source": [
    "temp = teste1[(teste1['order'] != 'Nan') & (teste1['type_status'].isin(group_types))]\n",
    "temp = temp.groupby(['order','start_year','type_status']).count()['count'].reset_index()"
   ]
  },
  {
   "cell_type": "markdown",
   "metadata": {
    "ExecuteTime": {
     "end_time": "2020-03-02T16:12:23.770407Z",
     "start_time": "2020-03-02T16:12:23.767218Z"
    }
   },
   "source": [
    "colors = ['']"
   ]
  },
  {
   "cell_type": "markdown",
   "metadata": {},
   "source": [
    "<font color='red' size='5'>**p.s.:** temporary adjustment!!!! </font>\n",
    "\n",
    "I'm grouping (replacing) `Material tipo` and `co-tipo` in (for) `tipo`."
   ]
  },
  {
   "cell_type": "markdown",
   "metadata": {
    "ExecuteTime": {
     "end_time": "2020-03-02T16:19:47.635814Z",
     "start_time": "2020-03-02T16:19:47.623351Z"
    }
   },
   "source": [
    "temp['type_status'] = temp['type_status'].str.replace('Material tipo', 'Tipo')\n",
    "temp['type_status'] = temp['type_status'].str.replace('Topotipo', 'Tipo')\n",
    "temp['type_status'] = temp['type_status'].str.replace('Co-tipo', 'Tipo')"
   ]
  },
  {
   "cell_type": "markdown",
   "metadata": {},
   "source": [
    "**graph**"
   ]
  },
  {
   "cell_type": "markdown",
   "metadata": {
    "ExecuteTime": {
     "end_time": "2020-03-02T16:21:07.191895Z",
     "start_time": "2020-03-02T16:20:53.513090Z"
    }
   },
   "source": [
    "# making graph for other types (group_types)\n",
    "g1 = alt.Chart(temp,\n",
    "               width=800, height=400, title='Number of types of each order per year').mark_circle(\n",
    "                                                                                size=60).encode(\n",
    "    x= alt.X('start_year', type='ordinal', title='Year'),\n",
    "    y= alt.Y('order', type='nominal', title='Order',\n",
    "            sort= alt.EncodingSortField(field='count', op='max', order='descending')),\n",
    "    color= alt.Color('type_status', title='type',\n",
    "                     scale= alt.Scale(domain= list(temp['type_status'].unique()),\n",
    "                                      range=[type_color[t] for t in list(temp['type_status'].unique())])),\n",
    "    size = alt.Size('count', type='quantitative', scale = alt.Scale(type='bin-ordinal')),\n",
    ")\n",
    "\n",
    "# saving graph\n",
    "# g1.save(f'./types/counts_per_year/other-types_per_order.svg')\n",
    "# g1.save(f'./types/counts_per_year/other-types_per_order.png')\n",
    "# g1.save(f'./types/counts_per_year/other-types_per_order.html')\n",
    "\n",
    "g1"
   ]
  },
  {
   "cell_type": "markdown",
   "metadata": {},
   "source": [
    "<br>\n",
    "\n",
    "## New proposal\n",
    "\n",
    "compare: Year in which the holotype was discovered v.s. Year in which it was firstly cataloged in the Museum"
   ]
  },
  {
   "cell_type": "markdown",
   "metadata": {
    "ExecuteTime": {
     "end_time": "2020-02-18T21:00:10.754935Z",
     "start_time": "2020-02-18T21:00:06.771791Z"
    }
   },
   "source": [
    "# p.s.: there are overlapping points (it's affecting opacity)\n",
    "g1 = alt.Chart(holotipo, title='Holotypes discovered and determined years',\n",
    "               width=600, height=500).mark_circle(size=60).encode(\n",
    "    x= alt.X('start_year', type='ordinal', title='Discovered Year'),\n",
    "    y= alt.Y('holotipo_year', type='ordinal', title='Start Year',\n",
    "            sort= alt.EncodingSortField(field='holotipo_year', order='descending')),\n",
    "    tooltip= alt.Tooltip(['holotipo_year', 'start_year']),\n",
    "    color= alt.Color('order', type='nominal', scale= alt.Scale(scheme='reds')), \n",
    "#     opacity= alt.Opacity(scale= alt.Scale(domain=types,range=opacities), type='quantitative')\n",
    "#     size=alt.Size('depth')\n",
    ")\n",
    "\n",
    "# saving graph\n",
    "# g1.save(f'./types/holotipo_discoreved_vs_start_year.svg')\n",
    "# g1.save(f'./types/holotipo_discoreved_vs_start_year.png')\n",
    "# g1.save(f'./types/holotipo_discoreved_vs_start_year.html')\n",
    "\n",
    "g1"
   ]
  },
  {
   "cell_type": "markdown",
   "metadata": {},
   "source": [
    "<br>\n",
    "\n",
    "**The end!**\n",
    "\n",
    "-----"
   ]
  }
 ],
 "metadata": {
  "kernelspec": {
   "display_name": "Python 3",
   "language": "python",
   "name": "python3"
  },
  "language_info": {
   "codemirror_mode": {
    "name": "ipython",
    "version": 3
   },
   "file_extension": ".py",
   "mimetype": "text/x-python",
   "name": "python",
   "nbconvert_exporter": "python",
   "pygments_lexer": "ipython3",
   "version": "3.8.2"
  },
  "latex_envs": {
   "LaTeX_envs_menu_present": true,
   "autoclose": false,
   "autocomplete": true,
   "bibliofile": "biblio.bib",
   "cite_by": "apalike",
   "current_citInitial": 1,
   "eqLabelWithNumbers": true,
   "eqNumInitial": 1,
   "hotkeys": {
    "equation": "Ctrl-E",
    "itemize": "Ctrl-I"
   },
   "labels_anchors": false,
   "latex_user_defs": false,
   "report_style_numbering": false,
   "user_envs_cfg": false
  },
  "toc": {
   "base_numbering": 1,
   "nav_menu": {},
   "number_sections": false,
   "sideBar": true,
   "skip_h1_title": false,
   "title_cell": "Table of Contents",
   "title_sidebar": "Contents",
   "toc_cell": false,
   "toc_position": {},
   "toc_section_display": true,
   "toc_window_display": false
  },
  "varInspector": {
   "cols": {
    "lenName": 16,
    "lenType": 16,
    "lenVar": 40
   },
   "kernels_config": {
    "python": {
     "delete_cmd_postfix": "",
     "delete_cmd_prefix": "del ",
     "library": "var_list.py",
     "varRefreshCmd": "print(var_dic_list())"
    },
    "r": {
     "delete_cmd_postfix": ") ",
     "delete_cmd_prefix": "rm(",
     "library": "var_list.r",
     "varRefreshCmd": "cat(var_dic_list()) "
    }
   },
   "position": {
    "height": "391.35px",
    "left": "900.5px",
    "right": "20px",
    "top": "96px",
    "width": "536.5px"
   },
   "types_to_exclude": [
    "module",
    "function",
    "builtin_function_or_method",
    "instance",
    "_Feature"
   ],
   "window_display": false
  }
 },
 "nbformat": 4,
 "nbformat_minor": 2
}
