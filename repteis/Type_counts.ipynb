{
 "cells": [
  {
   "cell_type": "markdown",
   "metadata": {},
   "source": [
    "# Type charts\n",
    "\n",
    "By **Franklin Oliveira**\n",
    "\n",
    "-----\n",
    "This notebook contains all code necessary to make the \"type\" charts from `repteis` database. Here you'll find some basic data treatment and charts' code. \n",
    "\n",
    "Database: <font color='blue'>'Compilacao Livros Repteis - 2 a 10 - 2020_04_28.xls'</font>."
   ]
  },
  {
   "cell_type": "code",
   "execution_count": 1,
   "metadata": {
    "ExecuteTime": {
     "end_time": "2021-02-16T00:37:08.710744Z",
     "start_time": "2021-02-16T00:37:01.497143Z"
    }
   },
   "outputs": [
    {
     "data": {
      "text/plain": [
       "DataTransformerRegistry.enable('default')"
      ]
     },
     "execution_count": 1,
     "metadata": {},
     "output_type": "execute_result"
    }
   ],
   "source": [
    "import datetime\n",
    "import numpy as np\n",
    "import pandas as pd\n",
    "\n",
    "from collections import defaultdict\n",
    "\n",
    "# pacotes para visualização rápida\n",
    "import seaborn as sns\n",
    "import matplotlib.pyplot as plt\n",
    "\n",
    "# pacote para visualização principal\n",
    "import altair as alt\n",
    "\n",
    "# habilitando renderizador para notebook\n",
    "# alt.renderers.enable('notebook')\n",
    "# alt.renderers.enable('default')\n",
    "\n",
    "\n",
    "# desabilitando limite de linhas\n",
    "alt.data_transformers.disable_max_rows()"
   ]
  },
  {
   "cell_type": "markdown",
   "metadata": {},
   "source": [
    "## Importing data..."
   ]
  },
  {
   "cell_type": "code",
   "execution_count": 2,
   "metadata": {
    "ExecuteTime": {
     "end_time": "2021-02-16T00:37:10.903614Z",
     "start_time": "2021-02-16T00:37:10.472512Z"
    }
   },
   "outputs": [],
   "source": [
    "NewTable = pd.read_csv('./data/treated_db.csv', sep=';', encoding='utf-8-sig', low_memory= False)"
   ]
  },
  {
   "cell_type": "code",
   "execution_count": 5,
   "metadata": {
    "ExecuteTime": {
     "end_time": "2021-02-16T00:39:51.733751Z",
     "start_time": "2021-02-16T00:39:51.722822Z"
    }
   },
   "outputs": [],
   "source": [
    "# parsing columns into string so we don't lose information while grouping\n",
    "NewTable['type_status'] = NewTable['type_status'].astype(str)\n",
    "NewTable['first_author'] = NewTable['first_author'].astype(str)"
   ]
  },
  {
   "cell_type": "markdown",
   "metadata": {},
   "source": [
    "<br>\n",
    "\n",
    "<font size=5>**Color Palette**</font>\n",
    "\n",
    "<!-- <img src=\"./src/paleta_cores.jpeg\" width='500px'> -->\n",
    "\n",
    "<!-- Cores: \n",
    "\n",
    "- verde_escuro: #284021\n",
    "- verde_claro: #88BF11\n",
    "- amarelo: #D9CB0B\n",
    "- laranja: #D99311\n",
    "- laranja_escuro: #BF4417\n",
    "- marrom-_laro: #BF8D7A -->"
   ]
  },
  {
   "cell_type": "code",
   "execution_count": 6,
   "metadata": {
    "ExecuteTime": {
     "end_time": "2021-02-16T00:39:53.227855Z",
     "start_time": "2021-02-16T00:39:53.225502Z"
    }
   },
   "outputs": [],
   "source": [
    "# importing customized color palettes\n",
    "from src.MNViz_colors import *"
   ]
  },
  {
   "cell_type": "code",
   "execution_count": 7,
   "metadata": {
    "ExecuteTime": {
     "end_time": "2021-02-16T00:39:53.744796Z",
     "start_time": "2021-02-16T00:39:53.739283Z"
    }
   },
   "outputs": [],
   "source": [
    "# p.s.: caudata is an error and should be removed. \n",
    "# cores_ordem = {\n",
    "#     'Squamata': '#BF4417',\n",
    "#     'Testudines': '#D9CB0B', \n",
    "#     'Crocodylia': '#284021'\n",
    "# }\n",
    "\n",
    "ordens = list(cores_ordem.keys())\n",
    "cores = list(cores_ordem.values())"
   ]
  },
  {
   "cell_type": "markdown",
   "metadata": {},
   "source": [
    "small comment on the rationale behind the color palette (to see this, uncoment the content in this cell)\n",
    "<!-- **Paleta de Cores - Família:**\n",
    "\n",
    "- grupo 1: 1 cor  (verde escuro)\n",
    "<ul>\n",
    "    <li style=\"color:#142611\"><b>centroide 1</b></li>\n",
    "</ul>\n",
    "- grupo 2: 8 cores\n",
    "<ul>\n",
    "    <li style=\"color:#85D907\"><b>centroide 2</b></li>\n",
    "</ul>\n",
    "\n",
    "['#d7ff81', '#bafd62', '#9feb3f', '#85d907', '#6cc700', '#52b700', '#35a600', '#0b9700', '#008800']\n",
    "\n",
    "<font color=\"#d7ff81\"><b>cor 1</b> (ficou fora)</font>\n",
    "<font color=\"#bafd62\"><b>cor 2</b></font>\n",
    "<font color=\"#9feb3f\"><b>cor 3</b></font>\n",
    "<font color=\"#85d907\"><b>cor 4</b></font>\n",
    "<font color=\"#6cc700\"><b>cor 5</b></font>\n",
    "<font color=\"#52b700\"><b>cor 6</b></font>\n",
    "<font color=\"#35a600\"><b>cor 7</b></font>\n",
    "<font color=\"#0b9700\"><b>cor 8</b></font>\n",
    "<font color=\"#008800\"><b>cor 9</b></font>\n",
    "\n",
    "\n",
    "- grupo 3: 2 cores\n",
    "#888C03\n",
    "<ul>\n",
    "    <li style=\"color:#22401E\"><b>centroide 3 (puxando para tons frios mais claros)</b></li>\n",
    "</ul>\n",
    "\n",
    "<font color=\"#99b6b2\"><b>cor 1</b></font>\n",
    "<font color=\"#81a58b\"><b>cor 2</b></font>\n",
    "\n",
    "\n",
    "- grupo 4: 1 cor  (amarelo)\n",
    "<ul>\n",
    "    <li style=\"color:#F2CB07\"><b>centroide 4</b></li>\n",
    "</ul>\n",
    "\n",
    "- grupo 5: 10 cores\n",
    "<ul>\n",
    "    <li style=\"color:#cb97d4\"><b>centroide 5 (puxando para o roxo)</b></li>\n",
    "</ul>\n",
    "\n",
    "['#f8dcf9', '#ebc5ed', '#ddafe2', '#ce9ad6', '#bf86cc', '#af73c2', '#a160b8', '#924fae', '#833fa4'] #803da1\n",
    "\n",
    "<font color=\"#f8dcf9\"><b>cor 1</b></font>\n",
    "<font color=\"#ebc5ed\"><b>cor 2</b></font>\n",
    "<font color=\"#ddafe2\"><b>cor 3</b></font>\n",
    "<font color=\"#ce9ad6\"><b>cor 4</b></font>\n",
    "<font color=\"#bf86cc\"><b>cor 5</b></font>\n",
    "<font color=\"#af73c2\"><b>cor 6</b></font>\n",
    "<font color=\"#a160b8\"><b>cor 7</b></font>\n",
    "<font color=\"#924fae\"><b>cor 8</b></font>\n",
    "<font color=\"#833fa4\"><b>cor 9</b></font>\n",
    "<font color=\"#803da1\"><b>cor 10</b></font>\n",
    "\n",
    "\n",
    "- grupo 6: 12 cores\n",
    "<ul>\n",
    "    <li style=\"color:#91F2E9\"><b>centroide 6</b></li>\n",
    "</ul>\n",
    "\n",
    "['#c9fff9', '#b3eff2', '#9cdcea', '#83c9e2', '#68b7da', '#4aa6d2', '#2096ca', '#0087c1', '#0079b7']\n",
    "\n",
    "['#cee5d8', '#b3d2d1', '#9bbfc9', '#83adc2', '#6d9bba', '#568ab2', '#3e7baa', '#226ca2', '#005e98']\n",
    "\n",
    "\n",
    "<font color=\"#c9fff9\"><b>cor 1</b></font>\n",
    "<font color=\"#b3eff2\"><b>cor 2</b></font>\n",
    "<font color=\"#9cdcea\"><b>cor 3</b></font>\n",
    "<font color=\"#83c9e2\"><b>cor 4</b></font>\n",
    "<font color=\"#68b7da\"><b>cor 5</b></font>\n",
    "<font color=\"#4aa6d2\"><b>cor 6</b></font>\n",
    "<font color=\"#2096ca\"><b>cor 7</b></font>\n",
    "<font color=\"#0087c1\"><b>cor 8</b></font>\n",
    "<font color=\"#0079b7\"><b>cor 9</b></font>\n",
    "<font color=\"#3e7baa\"><b>cor 10</b></font>\n",
    "<font color=\"#226ca2\"><b>cor 11</b></font>\n",
    "<font color=\"#005e98\"><b>cor 12</b></font>\n",
    "\n",
    "\n",
    "- grupo 7: 3 cores\n",
    "<ul>\n",
    "    <li style=\"color:#8C1A0F\"><b>centroide 7 (puxando para o marrom)</b></li>\n",
    "</ul>\n",
    "\n",
    "['#fde5bf', '#efd09f', '#e1bb82', '#d3a767', '#c6934d', '#b98033', '#ac6f18', '#9e5e00', '#914e00']\n",
    "\n",
    "<font color=\"#ac6f18\"><b>cor 1</b></font>\n",
    "<font color=\"#9e5e00\"><b>cor 2</b></font>\n",
    "<font color=\"#914e00\"><b>cor 3</b></font>\n",
    "\n",
    "\n",
    "- grupo 8: 13 cores\n",
    "<ul>\n",
    "    <li style=\"color:#D9430D\"><b>centroide 8</b></li>\n",
    "</ul>\n",
    "\n",
    "['#ffce9f', '#ffb683', '#ff9f69', '#ff8851', '#f5723b', '#e75b25', '#d9430d', '#cb2800', '#bc0000']\n",
    "\n",
    "['#ff8f68', '#ff7e56', '#ff6b40', '#ee5829', '#d9430d', '#c62f00', '#b41b00', '#a40300', '#930000']\n",
    "\n",
    "<font color=\"#ffce9f\"><b>cor 1</b></font>\n",
    "<font color=\"#ffb683\"><b>cor 2</b></font>\n",
    "<font color=\"#ff9f69\"><b>cor 3</b></font>\n",
    "<font color=\"#ff8851\"><b>cor 4</b></font>\n",
    "<font color=\"#f5723b\"><b>cor 5</b></font>\n",
    "<font color=\"#e75b25\"><b>cor 6</b></font>\n",
    "<font color=\"#d9430d\"><b>cor 7</b></font>\n",
    "<font color=\"#cb2800\"><b>cor 8</b></font>\n",
    "<font color=\"#bc0000\"><b>cor 9</b></font>\n",
    "<font color=\"#c62f00\"><b>cor 10</b></font>\n",
    "<font color=\"#b41b00\"><b>cor 11</b></font>\n",
    "<font color=\"#a40300\"><b>cor 12</b></font>\n",
    "<font color=\"#930000\"><b>cor 13</b></font>\n",
    "\n",
    "<br>\n",
    "\n",
    "**TOTAL: 50 cores** -->"
   ]
  },
  {
   "cell_type": "markdown",
   "metadata": {},
   "source": [
    "<br>\n",
    "\n",
    "\n",
    "## Graphs\n",
    "\n",
    "---\n",
    "\n",
    "### Types (*per year*) per genus\n",
    "\n",
    "x: Species1, cor: Type Status1, size: counts"
   ]
  },
  {
   "cell_type": "code",
   "execution_count": 8,
   "metadata": {
    "ExecuteTime": {
     "end_time": "2021-02-16T00:39:55.604928Z",
     "start_time": "2021-02-16T00:39:55.595424Z"
    }
   },
   "outputs": [
    {
     "data": {
      "text/plain": [
       "nan          22731\n",
       "Parátipo       358\n",
       "Holótipo        32\n",
       "2005             5\n",
       "Síntipo          4\n",
       "Topótipo         1\n",
       "Lectótipo        1\n",
       "Name: type_status, dtype: int64"
      ]
     },
     "execution_count": 8,
     "metadata": {},
     "output_type": "execute_result"
    }
   ],
   "source": [
    "# type info is in this column\n",
    "NewTable['type_status'].value_counts(dropna= False)"
   ]
  },
  {
   "cell_type": "code",
   "execution_count": 9,
   "metadata": {
    "ExecuteTime": {
     "end_time": "2021-02-16T00:40:02.597745Z",
     "start_time": "2021-02-16T00:40:02.440616Z"
    }
   },
   "outputs": [],
   "source": [
    "# subsetting\n",
    "teste = NewTable[['altitude','familia','ordem', 'ano_descricao', 'qualificador_atual', 'numero_catalogo', \n",
    "                  'genero_atual', 'especie_atual', 'subespecie_atual', 'type_status']].copy()\n",
    "\n",
    "# grouping by type, year and order\n",
    "temp = teste.groupby(['type_status','ano_descricao', 'ordem']).count()['familia'].reset_index().rename(columns={\n",
    "    'familia':'counts'\n",
    "})\n",
    "\n",
    "# p.s.: Cótipo and Topótipo are not types\n",
    "temp = temp[(temp['type_status'] != 'Cótipo') & (temp['type_status'] != 'Topótipo')]"
   ]
  },
  {
   "cell_type": "markdown",
   "metadata": {},
   "source": [
    "243 info. de tipos"
   ]
  },
  {
   "cell_type": "markdown",
   "metadata": {},
   "source": [
    "### Chart: Types per year\n",
    "\n",
    "with color palette per order"
   ]
  },
  {
   "cell_type": "code",
   "execution_count": 13,
   "metadata": {
    "ExecuteTime": {
     "end_time": "2021-02-16T00:41:13.604216Z",
     "start_time": "2021-02-16T00:41:13.595121Z"
    }
   },
   "outputs": [],
   "source": [
    "tipo = alt.Chart(temp, height=150, title='Types per year').mark_circle().encode(\n",
    "    x = alt.X('ano_descricao:O', title='description year'),\n",
    "    y = alt.Y('type_status:N', title= 'type',\n",
    "              sort=alt.EncodingSortField('tipo', op='count', order='descending')),\n",
    "    color= alt.Color('ordem', scale=alt.Scale(domain=ordens, range=cores), title='order'), \n",
    "    size= alt.Size('counts', scale=alt.Scale(range=[10,600])),\n",
    "    order= alt.Order('counts', sort='descending'),  # smaller points in front\n",
    "    tooltip= [alt.Tooltip('type_status', title='type'),\n",
    "              alt.Tooltip('ano_descricao', title='description year'),\n",
    "              alt.Tooltip('counts', title='counts')]\n",
    ")\n",
    "\n",
    "tipo = tipo.configure_title(fontSize=16).configure_axis(\n",
    "    labelFontSize=12,\n",
    "    titleFontSize=12\n",
    ").configure_legend(\n",
    "    labelFontSize=12,\n",
    "    titleFontSize=12\n",
    ")\n",
    "\n",
    "# tipo.save('./graphs/type/types_per_year.html')\n",
    "# tipo"
   ]
  },
  {
   "cell_type": "markdown",
   "metadata": {},
   "source": [
    "<br>\n",
    "\n",
    "### Chart: types per year \n",
    "\n",
    "color palette per family"
   ]
  },
  {
   "cell_type": "code",
   "execution_count": 36,
   "metadata": {
    "ExecuteTime": {
     "end_time": "2021-02-16T00:51:53.829557Z",
     "start_time": "2021-02-16T00:51:53.795979Z"
    }
   },
   "outputs": [],
   "source": [
    "# subsetting\n",
    "teste = NewTable[['altitude','familia','ordem', 'ano_descricao', 'qualificador_atual', 'numero_catalogo', \n",
    "                  'genero_atual', 'especie_atual', 'subespecie_atual', 'type_status']].copy()\n",
    "\n",
    "# grouping by type, year and order\n",
    "temp = teste.groupby(['type_status','ano_descricao', 'familia']).count()['ordem'].reset_index().rename(columns={\n",
    "    'ordem':'counts'\n",
    "})\n",
    "\n",
    "# p.s.: Cótipo and Topótipo are not types\n",
    "temp = temp[(temp['type_status'] != 'Cótipo') & (temp['type_status'] != 'Topótipo')]"
   ]
  },
  {
   "cell_type": "code",
   "execution_count": 66,
   "metadata": {
    "ExecuteTime": {
     "end_time": "2021-02-16T01:01:30.485262Z",
     "start_time": "2021-02-16T01:01:30.459747Z"
    }
   },
   "outputs": [],
   "source": [
    "# database\n",
    "db = temp\n",
    "\n",
    "# aux. variables\n",
    "# families = [f for f in cores_familia.keys() if f in db['familia'].unique()]\n",
    "# cores_temp = [cores_familia[f] for f in families]\n",
    "x_labels = db.sort_values('ano_descricao')['ano_descricao'].unique()\n",
    "# y labels sorted by sum\n",
    "y_labels = db.groupby('type_status').sum().reset_index().sort_values('counts')['type_status'].unique()[::-1]\n",
    "counts = db['counts'].unique()\n",
    "counts = list(range(counts.min(), counts.max(), 20))\n",
    "\n",
    "# selector\n",
    "select_family = alt.selection_multi(fields=['familia'], bind='legend')\n",
    "\n",
    "tipo = alt.Chart(db, height=200,width=500, title='Types per year').mark_circle().encode(\n",
    "    x = alt.X('ano_descricao:O', title='Description Year', \n",
    "              scale= alt.Scale(domain= x_labels)),\n",
    "    y = alt.Y('type_status:N', title= 'Type',\n",
    "              scale= alt.Scale(domain= y_labels),\n",
    "              sort=alt.EncodingSortField('counts', op='sum', order='descending')),\n",
    "    color= alt.Color('familia:N', title='Family', \n",
    "                     scale=alt.Scale(domain= list(cores_familia.keys()), \n",
    "                                     range=list(cores_familia.values())),\n",
    "                    legend= alt.Legend(columns=3, symbolLimit=50, direction='vertical')), \n",
    "    size= alt.Size('counts', title='Counts', \n",
    "                   legend= alt.Legend(orient= 'right', direction= 'horizontal'),\n",
    "                   scale=alt.Scale(domain= counts, range=[20,120])),\n",
    "    order= alt.Order('counts', sort='descending'),  # smaller points in front\n",
    "    tooltip= [alt.Tooltip('familia', title='Family'),\n",
    "              alt.Tooltip('type_status', title='Type'),\n",
    "              alt.Tooltip('ano_descricao', title='Description Year'),\n",
    "              alt.Tooltip('counts', title='Counts')]\n",
    ").add_selection(select_family).transform_filter(select_family)\n",
    "\n",
    "tipo = tipo.configure_title(fontSize=16).configure_axis(\n",
    "    labelFontSize=12,\n",
    "    titleFontSize=12\n",
    ").configure_legend(\n",
    "    labelFontSize=12,\n",
    "    titleFontSize=12\n",
    ")\n",
    "\n",
    "# tipo.save('./graphs/type/types_per_year-wFamilies.html')\n",
    "# tipo"
   ]
  },
  {
   "cell_type": "markdown",
   "metadata": {},
   "source": [
    "<br>\n",
    "\n",
    "#### defining some parameters\n",
    "\n",
    "**colors:**\n",
    "<ul>\n",
    "    <li style='color:#d62728;'><b> #d62728 </b> - red1 1</li>\n",
    "    <li style='color:#d62729;'><b> #d62729 </b> - red2 2</li>\n",
    "    <li style='color:#f58518;'><b> #f58518 </b> - orange 1</li>\n",
    "    <li style='color:#f58519;'><b> #f58519 </b> - orange2 2</li>\n",
    "    <li style='color:#d95f02;'><b> #d95f02 </b> - dark orange</li>\n",
    "    <li style='color:#4daf4a;'><b> #4daf4a </b> - green</li>\n",
    "    <li style='color:#8c6d31;'><b> #8c6d31 </b> - brown</li>\n",
    "    <li style='color:#79706e;'><b> #79706e </b> - blue</li>\n",
    "    <li style='color:#bab0ac;'><b> #bab0ac </b> - light blue</li>\n",
    "    <li style='color:#d8b5a5;'><b> #d8b5a5 </b> - beige</li>\n",
    "    <li style='color:#000000;'><b> #000000 </b> - black</li>\n",
    "</ul>"
   ]
  },
  {
   "cell_type": "code",
   "execution_count": 67,
   "metadata": {
    "ExecuteTime": {
     "end_time": "2021-02-16T01:02:31.488199Z",
     "start_time": "2021-02-16T01:02:31.465375Z"
    }
   },
   "outputs": [],
   "source": [
    "NewTable['type_status'] = NewTable['type_status'].apply(lambda x:str(x))\n",
    "types = NewTable['type_status'].apply(lambda x:str(x)).unique()"
   ]
  },
  {
   "cell_type": "code",
   "execution_count": 74,
   "metadata": {
    "ExecuteTime": {
     "end_time": "2021-02-16T01:05:37.264182Z",
     "start_time": "2021-02-16T01:05:37.257601Z"
    }
   },
   "outputs": [],
   "source": [
    "# dictionary with type:color\n",
    "type_color = {\n",
    "#     'nan':'#000000',      # preto\n",
    "    'Holótipo':'#d62728',  # vermelho 1\n",
    "    'Síntipo':'#d62729',   # vermelho 2\n",
    "    'Parátipo':'#4daf4a',  # verde\n",
    "    'Topótipo':'#8c6d31',  # marrom\n",
    "    'Lectótipo':'#f58518', # laranja 1\n",
    "    '2005':'#79706e',      # azul  OBS: ERRO NA BASE!\n",
    "}"
   ]
  },
  {
   "cell_type": "markdown",
   "metadata": {},
   "source": [
    "<br>\n",
    "\n",
    "## Chart: Sampling Year x Description Year for types"
   ]
  },
  {
   "cell_type": "code",
   "execution_count": 77,
   "metadata": {
    "ExecuteTime": {
     "end_time": "2021-02-16T01:06:09.496307Z",
     "start_time": "2021-02-16T01:06:09.468235Z"
    }
   },
   "outputs": [],
   "source": [
    "# database\n",
    "db = NewTable[NewTable['type_status'] != 'nan']\n",
    "\n",
    "g1 = alt.Chart(db, title= 'Sampling year vs. Description year',width=500, height=500).mark_circle().encode(\n",
    "    x = alt.X('ano_descricao:O', title='Description Year'),\n",
    "    y = alt.Y('ano_coleta:O', title='Sampling Year', \n",
    "             sort= alt.EncodingSortField('ano_coleta', op='min', order='descending')),\n",
    "    color = alt.Color('type_status:N', title='Type', \n",
    "                     scale= alt.Scale(domain= list(type_color.keys()), range= list(type_color.values()))),\n",
    "    tooltip = alt.Tooltip(['numero_catalogo', 'familia', 'ordem', 'type_status', \n",
    "                           'ano_coleta', 'ano_descricao'])\n",
    ")\n",
    "\n",
    "g1 = g1.configure_title(fontSize=16).configure_axis(\n",
    "    labelFontSize=12,\n",
    "    titleFontSize=12\n",
    ").configure_legend(\n",
    "    labelFontSize=12,\n",
    "    titleFontSize=12\n",
    ")\n",
    "\n",
    "# g1.save('./graphs/type/sampling_year-vs-description_year.html')\n",
    "# g1"
   ]
  },
  {
   "cell_type": "markdown",
   "metadata": {},
   "source": [
    "## Chart: types and non-types per author\n",
    "\n",
    "<br>\n",
    "\n",
    "### grouping and counting"
   ]
  },
  {
   "cell_type": "code",
   "execution_count": 93,
   "metadata": {
    "ExecuteTime": {
     "end_time": "2021-02-16T01:14:37.763499Z",
     "start_time": "2021-02-16T01:14:37.688641Z"
    }
   },
   "outputs": [],
   "source": [
    "temp = NewTable.groupby(['first_author', 'type_status', 'ano_descricao']).count()['class'].reset_index()\n",
    "temp.rename(columns={'class':'counts'}, inplace=True)"
   ]
  },
  {
   "cell_type": "code",
   "execution_count": 95,
   "metadata": {
    "ExecuteTime": {
     "end_time": "2021-02-16T01:15:22.064559Z",
     "start_time": "2021-02-16T01:15:22.041993Z"
    }
   },
   "outputs": [],
   "source": [
    "# database  (filtering out non-types)\n",
    "db = temp[temp['type_status'] != 'nan']\n",
    "\n",
    "# aux. variables\n",
    "# families = [f for f in cores_familia.keys() if f in db['familia'].unique()]\n",
    "# cores_temp = [cores_familia[f] for f in families]\n",
    "x_labels = db.sort_values('ano_descricao')['ano_descricao'].unique()\n",
    "y_labels = db.groupby('first_author').sum().reset_index().sort_values('counts')['first_author'].unique()[::-1]\n",
    "counts = db['counts'].unique()\n",
    "counts = list(range(counts.min(), counts.max(), 20))\n",
    "\n",
    "# selector\n",
    "select_type = alt.selection_multi(fields=['type_status'], bind= 'legend')\n",
    "\n",
    "g1 = alt.Chart(db, title='Types per Author', \n",
    "               height=300, width=400).mark_circle().encode(\n",
    "    x = alt.X('ano_descricao:O', title='Description Year', \n",
    "              scale= alt.Scale(domain= x_labels)),\n",
    "    y = alt.Y('first_author:N', title='Author', \n",
    "              scale= alt.Scale(domain= y_labels)),  # AJUSTAR DEPOIS\n",
    "#              sort= sort_determiners),\n",
    "    color = alt.Color('type_status:N', title='Type', \n",
    "                     scale = alt.Scale(domain=list(type_color.keys()), range= list(type_color.values()))), \n",
    "    size = alt.Size('counts:Q', title= 'Counts',\n",
    "                    scale= alt.Scale(domain= counts, range=[20,60])), \n",
    "    order= alt.Order('counts', sort='descending'),  # smaller points in front\n",
    "    tooltip = alt.Tooltip(['first_author', 'type_status', 'ano_descricao', 'counts'])\n",
    ").add_selection(select_type).transform_filter(select_type)\n",
    "\n",
    "g1 = g1.configure_title(fontSize=16).configure_axis(\n",
    "    labelFontSize=12,\n",
    "    titleFontSize=12\n",
    ").configure_legend(\n",
    "    labelFontSize=12,\n",
    "    titleFontSize=12\n",
    ")\n",
    "\n",
    "# saving graph\n",
    "# g1.save('./graphs/type/types_per_author.html')\n",
    "# g1"
   ]
  },
  {
   "cell_type": "markdown",
   "metadata": {},
   "source": [
    "<br>\n",
    "\n",
    "## types per collector\n",
    "\n",
    "-----\n",
    "\n",
    "### grouping and counting"
   ]
  },
  {
   "cell_type": "code",
   "execution_count": 120,
   "metadata": {
    "ExecuteTime": {
     "end_time": "2021-02-16T01:23:37.349305Z",
     "start_time": "2021-02-16T01:23:37.280600Z"
    }
   },
   "outputs": [],
   "source": [
    "counts = NewTable.groupby(['collector_full_name', 'type_status', 'ano_coleta']).count()['class'].reset_index()\n",
    "counts.rename(columns={'class':'counts'}, inplace=True)\n",
    "counts.sort_values('counts', inplace=True, ascending=False)"
   ]
  },
  {
   "cell_type": "code",
   "execution_count": 121,
   "metadata": {
    "ExecuteTime": {
     "end_time": "2021-02-16T01:23:37.585944Z",
     "start_time": "2021-02-16T01:23:37.559395Z"
    }
   },
   "outputs": [],
   "source": [
    "sort_determiners = list(counts[counts['type_status'] != 'nan'].groupby(['collector_full_name']).min()['ano_coleta'].reset_index(\n",
    ").sort_values('ano_coleta')['collector_full_name'])"
   ]
  },
  {
   "cell_type": "code",
   "execution_count": 134,
   "metadata": {
    "ExecuteTime": {
     "end_time": "2021-02-16T01:27:14.313019Z",
     "start_time": "2021-02-16T01:27:14.280047Z"
    }
   },
   "outputs": [],
   "source": [
    "# database\n",
    "db = counts[counts['type_status'] != 'nan']\n",
    "\n",
    "# aux. variables\n",
    "x_labels = db.sort_values('ano_coleta')['ano_coleta'].unique()\n",
    "y_labels = db.sort_values('ano_coleta')['collector_full_name'].unique()\n",
    "ct = db['counts'].unique()\n",
    "ct = list(range(ct.min(), ct.max(), 10))\n",
    "\n",
    "# selector\n",
    "select_type = alt.selection_multi(fields= ['type_status'], bind='legend')\n",
    "\n",
    "g1 = alt.Chart(db, title='Types per collector', \n",
    "               height=700, width=400).mark_circle().encode(\n",
    "    x = alt.X('ano_coleta:O', title='Sampling Year', \n",
    "              scale= alt.Scale(domain= x_labels)),\n",
    "    y = alt.Y('collector_full_name:N', title='Collector', \n",
    "             sort= sort_determiners, \n",
    "             scale= alt.Scale(domain= y_labels)),\n",
    "    color = alt.Color('type_status:N', title='Type', \n",
    "                     scale = alt.Scale(domain=list(type_color.keys()), range= list(type_color.values()))), \n",
    "    size = alt.Size('counts:Q', title= 'Counts', \n",
    "                    legend= alt.Legend(orient= 'right', direction='horizontal', tickCount=4),\n",
    "                    scale= alt.Scale(domain= ct, range= [20, 60], zero=True)), \n",
    "    order= alt.Order('counts', sort='descending'),  # smaller points in front\n",
    "    tooltip = alt.Tooltip(['collector_full_name', 'type_status', 'ano_coleta', 'counts'])\n",
    ").add_selection(select_type).transform_filter(select_type)\n",
    "\n",
    "g1 = g1.configure_title(fontSize=16).configure_axis(\n",
    "    labelFontSize=12,\n",
    "    titleFontSize=12\n",
    ").configure_legend(\n",
    "    labelFontSize=12,\n",
    "    titleFontSize=12\n",
    ")\n",
    "\n",
    "# saving graph\n",
    "# g1.save('./graphs/type/types_per_collector.html')\n",
    "# g1"
   ]
  },
  {
   "cell_type": "markdown",
   "metadata": {},
   "source": [
    "<br>\n",
    "\n",
    "## Types per family"
   ]
  },
  {
   "cell_type": "code",
   "execution_count": 137,
   "metadata": {
    "ExecuteTime": {
     "end_time": "2021-02-16T01:28:39.845136Z",
     "start_time": "2021-02-16T01:28:39.775456Z"
    }
   },
   "outputs": [],
   "source": [
    "# grouping by type, year and order\n",
    "temp = NewTable.groupby(['type_status','ano_descricao', 'familia', 'ordem']).count()['class'].reset_index().rename(columns={\n",
    "    'class':'counts'\n",
    "})\n",
    "\n",
    "temp = temp[temp['type_status'] != 'nan'].copy()"
   ]
  },
  {
   "cell_type": "code",
   "execution_count": 158,
   "metadata": {
    "ExecuteTime": {
     "end_time": "2021-02-16T01:40:21.533637Z",
     "start_time": "2021-02-16T01:40:21.489201Z"
    }
   },
   "outputs": [],
   "source": [
    "# database\n",
    "db = temp\n",
    "\n",
    "# aux. variables\n",
    "families = [f for f in cores_familia.keys() if f in db['familia'].unique()]\n",
    "cores_temp = [cores_familia[f] for f in families]\n",
    "x_labels = db.sort_values('ano_descricao')['ano_descricao'].unique()\n",
    "y_labels = db.groupby('familia').sum().reset_index().sort_values('counts')['familia'].unique()[::-1]\n",
    "ct = db['counts'].unique()\n",
    "ct = list(range(ct.min(), ct.max(), 20))\n",
    "tp = db['type_status'].unique()\n",
    "\n",
    "# selectors\n",
    "select_family = alt.selection_multi(fields= ['familia'], bind='legend')\n",
    "select_type = alt.selection_multi(fields= ['type_status'], bind='legend')\n",
    "\n",
    "tipo = alt.Chart(db, height=400, width=400, title='Types per Family').mark_point(filled=False).encode(\n",
    "    x = alt.X('ano_descricao:O', title='Description Year', \n",
    "              scale= alt.Scale(domain= x_labels)),\n",
    "    y = alt.Y('familia:N', title= 'Family', \n",
    "              scale= alt.Scale(domain= y_labels)), \n",
    "#               sort= family_order),\n",
    "    color= alt.Color('familia:N', title='Family',\n",
    "                     legend= alt.Legend(columns=2, symbolLimit= 50),\n",
    "                    scale= alt.Scale(domain= families, \n",
    "                                     range= cores_temp)), \n",
    "    size= alt.Size('counts', title='Counts',\n",
    "                   legend= alt.Legend(orient= 'right', direction= 'horizontal'),\n",
    "                   scale=alt.Scale(domain= ct, range=[20,120])),\n",
    "    order= alt.Order('counts', sort='descending'),  # smaller points in front\n",
    "    shape= alt.Shape('type_status:N', title='Type', \n",
    "                     legend= alt.Legend(columns=3),\n",
    "                     scale= alt.Scale(domain= tp)), \n",
    "    tooltip= [alt.Tooltip('familia', title='family'),\n",
    "              alt.Tooltip('type_status', title='type'),\n",
    "              alt.Tooltip('ano_descricao', title='description year'),\n",
    "              alt.Tooltip('counts', title='counts')]\n",
    ").add_selection(select_family, select_type).transform_filter(select_family).transform_filter(select_type)\n",
    "\n",
    "tipo = tipo.configure_title(fontSize=16).configure_axis(\n",
    "    labelFontSize=12,\n",
    "    titleFontSize=12\n",
    ").configure_legend(\n",
    "    labelFontSize=12,\n",
    "    titleFontSize=12\n",
    ")\n",
    "\n",
    "# tipo.save('./graphs/type/types_per_family.html')\n",
    "# tipo"
   ]
  },
  {
   "cell_type": "markdown",
   "metadata": {},
   "source": [
    "<br>\n",
    "\n",
    "## Types per Genus \n",
    "\n",
    "same graph as above, with gender on Y axis and colored by type"
   ]
  },
  {
   "cell_type": "code",
   "execution_count": 160,
   "metadata": {
    "ExecuteTime": {
     "end_time": "2021-02-16T01:41:16.960511Z",
     "start_time": "2021-02-16T01:41:16.888651Z"
    }
   },
   "outputs": [],
   "source": [
    "# grouping by type, year and order\n",
    "temp = NewTable.groupby(['type_status','ano_descricao', 'genero_atual', 'familia']).count()['class'].reset_index().rename(columns={\n",
    "    'class':'counts'\n",
    "})\n",
    "\n",
    "# p.s.: Cótipo and Topótipo are not types\n",
    "temp = temp[(temp['type_status'] != 'nan')]"
   ]
  },
  {
   "cell_type": "code",
   "execution_count": 161,
   "metadata": {
    "ExecuteTime": {
     "end_time": "2021-02-16T01:41:19.823315Z",
     "start_time": "2021-02-16T01:41:19.818235Z"
    }
   },
   "outputs": [],
   "source": [
    "# AJUSTAR DEPOIS: preciso que a coluna ano_descricao esteja limpa para conseguir odenar!\n",
    "# genus_order = list(temp.groupby(['genero_atual']).min()['ano_coleta'].reset_index().sort_values('ano_coleta')['genero_atual'])"
   ]
  },
  {
   "cell_type": "code",
   "execution_count": 185,
   "metadata": {
    "ExecuteTime": {
     "end_time": "2021-02-16T01:49:43.699519Z",
     "start_time": "2021-02-16T01:49:43.642429Z"
    }
   },
   "outputs": [],
   "source": [
    "# database\n",
    "db = temp\n",
    "\n",
    "# aux. variables\n",
    "families = [f for f in cores_familia.keys() if f in db['familia'].unique()]\n",
    "cores_temp = [cores_familia[f] for f in families]\n",
    "x_labels = db.sort_values('ano_descricao')['ano_descricao'].unique()\n",
    "y_labels = db.groupby('genero_atual').sum().reset_index().sort_values('counts')['genero_atual'].unique()[::-1]\n",
    "ct = db['counts'].unique()\n",
    "ct = list(range(ct.min(), ct.max(), 20))\n",
    "tp = db['type_status'].unique()\n",
    "\n",
    "# selectors\n",
    "select_family = alt.selection_multi(fields= ['familia'], bind='legend')\n",
    "select_type = alt.selection_multi(fields= ['type_status'], bind='legend')\n",
    "\n",
    "tipo = alt.Chart(temp, height=400, width= 400, title='Types per Genus').mark_point(filled=False).encode(\n",
    "    x = alt.X('ano_descricao:O', title='Description Year',\n",
    "              scale= alt.Scale(domain= x_labels)),\n",
    "    y = alt.Y('genero_atual:N', title= 'Genus',\n",
    "              scale= alt.Scale(domain= y_labels)),\n",
    "#               sort=genus_order),\n",
    "    color= alt.Color('familia:N', title='Family',\n",
    "                     legend= alt.Legend(columns=2, symbolLimit=50),\n",
    "                    scale= alt.Scale(domain=families, range= cores_temp)), \n",
    "    size= alt.Size('counts', title='Counts',\n",
    "                   legend= alt.Legend(orient= 'right', direction= 'horizontal'),\n",
    "                   scale=alt.Scale(domain= ct, range=[20,120])),\n",
    "    order= alt.Order('counts', sort='descending'),  # smaller points in front\n",
    "    shape= alt.Shape('type_status:N', title='Type',\n",
    "                    legend= alt.Legend(columns=3),\n",
    "                    scale= alt.Scale(domain= tp)), \n",
    "    tooltip= [alt.Tooltip('familia', title='family'),\n",
    "              alt.Tooltip('type_status', title='type'),\n",
    "              alt.Tooltip('ano_descricao', title='description year'),\n",
    "              alt.Tooltip('counts', title='counts')]\n",
    ").add_selection(select_family, select_type).transform_filter(select_family).transform_filter(select_type)\n",
    "\n",
    "tipo = tipo.configure_title(fontSize=16).configure_axis(\n",
    "    labelFontSize=12,\n",
    "    titleFontSize=12\n",
    ").configure_legend(\n",
    "    labelFontSize=12,\n",
    "    titleFontSize=12\n",
    ")\n",
    "\n",
    "# tipo.save('./graphs/type/types_per_genus.html')\n",
    "# tipo"
   ]
  },
  {
   "cell_type": "markdown",
   "metadata": {},
   "source": [
    "<br>\n",
    "\n",
    "**The end!**\n",
    "\n",
    "-----"
   ]
  }
 ],
 "metadata": {
  "kernelspec": {
   "display_name": "Python 3",
   "language": "python",
   "name": "python3"
  },
  "language_info": {
   "codemirror_mode": {
    "name": "ipython",
    "version": 3
   },
   "file_extension": ".py",
   "mimetype": "text/x-python",
   "name": "python",
   "nbconvert_exporter": "python",
   "pygments_lexer": "ipython3",
   "version": "3.9.1"
  },
  "latex_envs": {
   "LaTeX_envs_menu_present": true,
   "autoclose": false,
   "autocomplete": true,
   "bibliofile": "biblio.bib",
   "cite_by": "apalike",
   "current_citInitial": 1,
   "eqLabelWithNumbers": true,
   "eqNumInitial": 1,
   "hotkeys": {
    "equation": "Ctrl-E",
    "itemize": "Ctrl-I"
   },
   "labels_anchors": false,
   "latex_user_defs": false,
   "report_style_numbering": false,
   "user_envs_cfg": false
  },
  "toc": {
   "base_numbering": 1,
   "nav_menu": {},
   "number_sections": false,
   "sideBar": true,
   "skip_h1_title": false,
   "title_cell": "Table of Contents",
   "title_sidebar": "Contents",
   "toc_cell": false,
   "toc_position": {},
   "toc_section_display": true,
   "toc_window_display": false
  },
  "varInspector": {
   "cols": {
    "lenName": 16,
    "lenType": 16,
    "lenVar": 40
   },
   "kernels_config": {
    "python": {
     "delete_cmd_postfix": "",
     "delete_cmd_prefix": "del ",
     "library": "var_list.py",
     "varRefreshCmd": "print(var_dic_list())"
    },
    "r": {
     "delete_cmd_postfix": ") ",
     "delete_cmd_prefix": "rm(",
     "library": "var_list.r",
     "varRefreshCmd": "cat(var_dic_list()) "
    }
   },
   "position": {
    "height": "391.35px",
    "left": "900.5px",
    "right": "20px",
    "top": "96px",
    "width": "536.5px"
   },
   "types_to_exclude": [
    "module",
    "function",
    "builtin_function_or_method",
    "instance",
    "_Feature"
   ],
   "window_display": false
  }
 },
 "nbformat": 4,
 "nbformat_minor": 2
}
