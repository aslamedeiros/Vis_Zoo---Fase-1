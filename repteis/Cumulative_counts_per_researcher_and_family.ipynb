{
 "cells": [
  {
   "cell_type": "markdown",
   "metadata": {},
   "source": [
    "# Cumulative Counts per researcher & family\n",
    "\n",
    "By **Franklin Oliveira**\n",
    "\n",
    "-----\n",
    "This notebook contains all code necessary to make the cumulative counts line charts for `repteis` database. Here you'll find some basic data treatment and charts' code. \n",
    "\n",
    "Database: <font color='blue'>'Compilacao Livros Repteis - 2 a 10 - 2020_04_28.xls'</font>."
   ]
  },
  {
   "cell_type": "code",
   "execution_count": 1,
   "metadata": {
    "ExecuteTime": {
     "end_time": "2021-02-15T03:14:48.427389Z",
     "start_time": "2021-02-15T03:14:47.509470Z"
    }
   },
   "outputs": [
    {
     "data": {
      "text/plain": [
       "DataTransformerRegistry.enable('default')"
      ]
     },
     "execution_count": 1,
     "metadata": {},
     "output_type": "execute_result"
    }
   ],
   "source": [
    "import datetime\n",
    "import numpy as np\n",
    "import pandas as pd\n",
    "\n",
    "from collections import defaultdict\n",
    "\n",
    "# quick visualization\n",
    "import matplotlib.pyplot as plt\n",
    "import seaborn as sns\n",
    "\n",
    "# Waffle Charts\n",
    "# from pywaffle import Waffle \n",
    "# docs: https://pywaffle.readthedocs.io/en/latest/examples/block_shape_distance_location_and_direction.html\n",
    "\n",
    "# visualization\n",
    "import altair as alt\n",
    "\n",
    "# enabling notebook renderer\n",
    "# alt.renderers.enable('notebook')\n",
    "# alt.renderers.enable('default')\n",
    "\n",
    "# disabling rows limit\n",
    "alt.data_transformers.disable_max_rows()"
   ]
  },
  {
   "cell_type": "markdown",
   "metadata": {},
   "source": [
    "## Importing data..."
   ]
  },
  {
   "cell_type": "code",
   "execution_count": 2,
   "metadata": {
    "ExecuteTime": {
     "end_time": "2021-02-15T03:14:48.606688Z",
     "start_time": "2021-02-15T03:14:48.429385Z"
    }
   },
   "outputs": [],
   "source": [
    "NewTable = pd.read_csv('./data/treated_db.csv', sep=';', encoding='utf-8-sig', low_memory= False)"
   ]
  },
  {
   "cell_type": "markdown",
   "metadata": {},
   "source": [
    "<br>\n",
    "\n",
    "<font size=5>**Color Palette**</font>\n",
    "\n",
    "<!-- <img src=\"./src/paleta_cores.jpeg\" width='500px'> -->"
   ]
  },
  {
   "cell_type": "code",
   "execution_count": 3,
   "metadata": {
    "ExecuteTime": {
     "end_time": "2021-02-15T03:14:48.612259Z",
     "start_time": "2021-02-15T03:14:48.608753Z"
    }
   },
   "outputs": [],
   "source": [
    "# importing customized color palettes\n",
    "from src.MNViz_colors import *"
   ]
  },
  {
   "cell_type": "markdown",
   "metadata": {},
   "source": [
    "<br>\n",
    "\n",
    "\n",
    "## Graphs\n",
    "\n",
    "---\n",
    "\n",
    "### Creating chart: counts per determiner per year\n",
    "\n",
    "To calculate the cumulative counts, we need to consider ALL determiner's columns, in this case:\n",
    "\n",
    "    - 'determinator_full_name'\n",
    "    - 'determinator_full_name2': as I'm writing this script, it's all empty"
   ]
  },
  {
   "cell_type": "code",
   "execution_count": 4,
   "metadata": {
    "ExecuteTime": {
     "end_time": "2021-02-15T03:14:48.669911Z",
     "start_time": "2021-02-15T03:14:48.614163Z"
    }
   },
   "outputs": [],
   "source": [
    "determiner_columns = ['determinator_full_name', 'determinator_full_name2']\n",
    "\n",
    "# name of all determiners (first and second)\n",
    "determiners = set(NewTable['determinator_full_name'].str.strip()).union(set(NewTable['determinator_full_name2']))\n",
    "\n",
    "determiners = [name for name in determiners if 'nan' not in str(name)]  # removing NaN and parsing into a list"
   ]
  },
  {
   "cell_type": "code",
   "execution_count": 5,
   "metadata": {
    "ExecuteTime": {
     "end_time": "2021-02-15T03:14:48.758584Z",
     "start_time": "2021-02-15T03:14:48.671600Z"
    }
   },
   "outputs": [],
   "source": [
    "# subsetting (p.s.: kingdom is a non-empty column used only for counting)\n",
    "df = NewTable[[determiner_columns[0], 'ano_determinacao', 'kingdom']].copy()\n",
    "\n",
    "# concatenating all columns into just one to make grouping per determiner and year easier\n",
    "if len(determiner_columns) > 1:\n",
    "    for det_col in determiner_columns[1:]:\n",
    "        temp = NewTable[[det_col, 'ano_determinacao', 'kingdom']].copy()\n",
    "        temp.columns = [determiner_columns[0], 'ano_determinacao', 'kingdom']\n",
    "        \n",
    "        df = pd.concat([df, temp])\n",
    "        \n",
    "# parsing columns into strings so we don't lose information while grouping\n",
    "df[determiner_columns[0]] = df[determiner_columns[0]].astype(str)\n",
    "df['ano_determinacao'] = df['ano_determinacao'].astype(str)"
   ]
  },
  {
   "cell_type": "code",
   "execution_count": 6,
   "metadata": {
    "ExecuteTime": {
     "end_time": "2021-02-15T03:14:49.157566Z",
     "start_time": "2021-02-15T03:14:48.760279Z"
    }
   },
   "outputs": [],
   "source": [
    "# grouping\n",
    "grouped = df.groupby([determiner_columns[0], 'ano_determinacao']).count().reset_index().rename(columns=\n",
    "                                                        {'kingdom':'count'})\n",
    "\n",
    "# sorting\n",
    "grouped.sort_values('ano_determinacao', inplace=True)\n",
    "\n",
    "# cumulatively counting for each determiner\n",
    "counts = pd.DataFrame()\n",
    "for det in determiners:\n",
    "    temp = grouped[grouped[determiner_columns[0]] == det].copy()\n",
    "    temp['cumulative_sum'] = temp['count'].cumsum()\n",
    "    \n",
    "    counts = pd.concat([counts, temp])\n",
    "    \n",
    "# grouped['cumulative_sum'] = cumCounts"
   ]
  },
  {
   "cell_type": "code",
   "execution_count": 7,
   "metadata": {
    "ExecuteTime": {
     "end_time": "2021-02-15T03:14:49.162873Z",
     "start_time": "2021-02-15T03:14:49.159176Z"
    }
   },
   "outputs": [],
   "source": [
    "# temporary adjustment for axis labels only\n",
    "counts['ano_determinacao'] = counts['ano_determinacao'].apply(lambda x:str(x).split('.')[0])"
   ]
  },
  {
   "cell_type": "code",
   "execution_count": 8,
   "metadata": {
    "ExecuteTime": {
     "end_time": "2021-02-15T03:14:49.257383Z",
     "start_time": "2021-02-15T03:14:49.166026Z"
    }
   },
   "outputs": [],
   "source": [
    "select = alt.selection(type='single', on='mouseover', nearest=True, fields=['determinator_full_name'])\n",
    "\n",
    "base = alt.Chart(counts, title='Cumulative contribution of each determiner', width=800,\n",
    "              height=500).encode(\n",
    "    x= alt.X('ano_determinacao', type=\"ordinal\", title='Determination Year'),\n",
    "    y= alt.Y('cumulative_sum', title='', \n",
    "             sort=alt.EncodingSortField('counts', op=\"count\", order='descending')),\n",
    "    color= alt.Color('determinator_full_name:N', title='', legend=None,\n",
    "                     scale= alt.Scale(scheme= 'warmgreys')),\n",
    "    \n",
    ")\n",
    "\n",
    "points = base.mark_circle(size=40).encode(\n",
    "    opacity=alt.value(0.5),\n",
    "    tooltip= alt.Tooltip(['determinator_full_name','ano_determinacao','count','cumulative_sum'])\n",
    ").add_selection(\n",
    "    select\n",
    ")\n",
    "\n",
    "lines = base.mark_line(point=True).encode(\n",
    "    size=alt.condition(~select, alt.value(1), alt.value(4)),\n",
    "    opacity= alt.value(1),\n",
    "#     color = alt.condition(~select, alt.value('lightgray'), alt.value('black'))\n",
    "#     tooltip= alt.Tooltip(['determinator_full_name','det_year','cumulative_sum'])\n",
    ")\n",
    "\n",
    "g1 = points + lines\n",
    "\n",
    "g1 = g1.configure_title(fontSize=16).configure_axis(\n",
    "    labelFontSize=12,\n",
    "    titleFontSize=12\n",
    ").configure_legend(\n",
    "    labelFontSize=12,\n",
    "    titleFontSize=12\n",
    ")\n",
    "\n",
    "# g1.save('./graphs/cumCounts/determiner/cumCount-per-year.html')\n",
    "# g1"
   ]
  },
  {
   "cell_type": "markdown",
   "metadata": {},
   "source": [
    "<br>\n",
    "\n",
    "### Collector's cumulative contribution per year\n",
    "\n",
    "<font color='red' size='5'> Collectors name is sensitive data. Do not publish it without curator's permission </font>\n",
    "\n",
    "To calculate the cumulative counts, we need to consider ALL collector's columns, in this case:\n",
    "\n",
    "    - 'collector_full_name'\n",
    "    - 'collector_full_name2' ... 'collector_full_name6'"
   ]
  },
  {
   "cell_type": "code",
   "execution_count": 9,
   "metadata": {
    "ExecuteTime": {
     "end_time": "2021-02-15T03:14:49.309173Z",
     "start_time": "2021-02-15T03:14:49.259675Z"
    }
   },
   "outputs": [],
   "source": [
    "collector_columns = ['collector_full_name', 'collector_full_name2', \n",
    "                     'collector_full_name3', 'collector_full_name4', \n",
    "                     'collector_full_name5', 'collector_full_name6']\n",
    "\n",
    "# name of all collectors (first through sixth)\n",
    "collectors = set(NewTable['collector_full_name'].str.strip())\n",
    "\n",
    "for col in collector_columns[1:]:\n",
    "    collectors = collectors.union(set(NewTable[col]))\n",
    "\n",
    "collectors = [name for name in collectors if 'nan' not in str(name)]  # removing NaN and parsing into a list"
   ]
  },
  {
   "cell_type": "code",
   "execution_count": 10,
   "metadata": {
    "ExecuteTime": {
     "end_time": "2021-02-15T03:14:49.621250Z",
     "start_time": "2021-02-15T03:14:49.312749Z"
    }
   },
   "outputs": [],
   "source": [
    "# subsetting (p.s.: kingdom is a non-empty column used only for counting)\n",
    "df = NewTable[[collector_columns[0], 'ano_coleta', 'kingdom']].copy()\n",
    "\n",
    "# concatenating all columns into just one to make grouping per determiner and year easier\n",
    "if len(collector_columns) > 1:\n",
    "    for col in collector_columns[1:]:\n",
    "        temp = NewTable[[col, 'ano_coleta', 'kingdom']].copy()\n",
    "        temp.columns = [collector_columns[0], 'ano_coleta', 'kingdom']\n",
    "        \n",
    "        df = pd.concat([df, temp])\n",
    "        \n",
    "# parsing columns into strings so we don't lose information while grouping\n",
    "df[collector_columns[0]] = df[collector_columns[0]].astype(str)\n",
    "df['ano_coleta'] = df['ano_coleta'].astype(str)"
   ]
  },
  {
   "cell_type": "code",
   "execution_count": 11,
   "metadata": {
    "ExecuteTime": {
     "end_time": "2021-02-15T03:14:54.221905Z",
     "start_time": "2021-02-15T03:14:49.622841Z"
    }
   },
   "outputs": [],
   "source": [
    "# grouping\n",
    "grouped = df.groupby([collector_columns[0], 'ano_coleta']).count().reset_index().rename(columns=\n",
    "                                                        {'kingdom':'count'})\n",
    "\n",
    "# sorting\n",
    "grouped.sort_values('ano_coleta', inplace=True)\n",
    "\n",
    "# cumulatively counting for each determiner\n",
    "counts = pd.DataFrame()\n",
    "for col in collectors:\n",
    "    temp = grouped[grouped[collector_columns[0]] == col].copy()\n",
    "    temp['cumulative_sum'] = temp['count'].cumsum()\n",
    "    \n",
    "    counts = pd.concat([counts, temp])\n",
    "    \n",
    "# grouped['cumulative_sum'] = cumCounts"
   ]
  },
  {
   "cell_type": "code",
   "execution_count": 12,
   "metadata": {
    "ExecuteTime": {
     "end_time": "2021-02-15T03:14:54.228974Z",
     "start_time": "2021-02-15T03:14:54.223413Z"
    }
   },
   "outputs": [],
   "source": [
    "# temporary adjustment for axis labels only\n",
    "counts['ano_coleta'] = counts['ano_coleta'].apply(lambda x:str(x).split('.')[0])"
   ]
  },
  {
   "cell_type": "code",
   "execution_count": 13,
   "metadata": {
    "ExecuteTime": {
     "end_time": "2021-02-15T03:14:54.363554Z",
     "start_time": "2021-02-15T03:14:54.230677Z"
    }
   },
   "outputs": [],
   "source": [
    "select = alt.selection(type='single', on='mouseover', nearest=True, fields=['collector_full_name'])\n",
    "\n",
    "base = alt.Chart(counts, title='Cumulative contribution of each Collector', width=800,\n",
    "              height=500).encode(\n",
    "    x= alt.X('ano_coleta', type=\"ordinal\", title='Sampling Year'),\n",
    "    y= alt.Y('cumulative_sum', title='', \n",
    "             sort=alt.EncodingSortField('counts', op=\"count\", order='descending')),\n",
    "    color= alt.Color('collector_full_name:N', title='', legend=None, \n",
    "                     scale= alt.Scale(scheme='warmgreys')),\n",
    ")\n",
    "\n",
    "points = base.mark_circle(size=40).encode(\n",
    "    opacity=alt.value(0.5),\n",
    "    tooltip= alt.Tooltip(['collector_full_name','ano_coleta','count', 'cumulative_sum'])\n",
    ").add_selection(\n",
    "    select\n",
    ")\n",
    "\n",
    "front = base.mark_line(point=True).encode(\n",
    "    size=alt.condition(~select, alt.value(1), alt.value(4)),\n",
    "    opacity= alt.value(1),\n",
    ")\n",
    "\n",
    "g1 = points + front\n",
    "\n",
    "g1 = g1.configure_title(fontSize=16).configure_axis(\n",
    "    labelFontSize=12,\n",
    "    titleFontSize=12\n",
    ").configure_legend(\n",
    "    labelFontSize=12,\n",
    "    titleFontSize=12\n",
    ")\n",
    "\n",
    "# g1.save('./graphs/cumCounts/collector/cumCount-per-year.html')\n",
    "# g1"
   ]
  },
  {
   "cell_type": "markdown",
   "metadata": {},
   "source": [
    "<br>\n",
    "\n",
    "## Cumulative counts per Family\n"
   ]
  },
  {
   "cell_type": "code",
   "execution_count": 22,
   "metadata": {
    "ExecuteTime": {
     "end_time": "2021-02-15T03:15:18.312103Z",
     "start_time": "2021-02-15T03:15:18.255835Z"
    }
   },
   "outputs": [],
   "source": [
    "# grouping per Year and Family\n",
    "teste = NewTable.groupby(['ano_coleta','familia']).count()['class'].reset_index().rename(columns={\n",
    "    'class':'counts'\n",
    "})\n",
    "\n",
    "# sorting...\n",
    "teste = teste.sort_values(['familia', 'ano_coleta'])"
   ]
  },
  {
   "cell_type": "code",
   "execution_count": 23,
   "metadata": {
    "ExecuteTime": {
     "end_time": "2021-02-15T03:15:18.481179Z",
     "start_time": "2021-02-15T03:15:18.435147Z"
    }
   },
   "outputs": [],
   "source": [
    "# cumulatively counting\n",
    "cumSum = []\n",
    "for family in teste['familia'].unique():\n",
    "    cumSum.extend(list(teste[teste['familia'] == family]['counts'].cumsum()))\n",
    "    \n",
    "teste['cumulative_sum'] = cumSum"
   ]
  },
  {
   "cell_type": "markdown",
   "metadata": {},
   "source": [
    "### Chart: per collected year"
   ]
  },
  {
   "cell_type": "code",
   "execution_count": 24,
   "metadata": {
    "ExecuteTime": {
     "end_time": "2021-02-15T03:15:19.942046Z",
     "start_time": "2021-02-15T03:15:19.900183Z"
    }
   },
   "outputs": [],
   "source": [
    "# filtering out some families lost while grouping\n",
    "# familias = [f for f in cores_familia.keys() if f in teste['familia'].unique()]\n",
    "# cores_temp = [cores_familia[f] for f in familias] \n",
    "\n",
    "# selector\n",
    "select_family = alt.selection_multi(fields=['familia'], bind='legend')\n",
    "\n",
    "# aux. variables for encoding fields\n",
    "x_labels = teste.sort_values('ano_coleta')['ano_coleta'].unique()\n",
    "# x_labels = [str(y).split('.')[0] for y in x_labels]\n",
    "y_max = np.ceil(max(teste['cumulative_sum'].unique()))\n",
    "\n",
    "g1 = alt.Chart(teste, title='Cumulative amount of specimens per family', \n",
    "               width=600, height=400).mark_line(point=True).encode(\n",
    "    x= alt.X('ano_coleta', type=\"ordinal\", title='Sampling Year',\n",
    "             scale= alt.Scale(domain= x_labels)),\n",
    "    y= alt.Y('cumulative_sum', title='', \n",
    "             scale= alt.Scale(domain=[0, y_max]),\n",
    "             sort=alt.EncodingSortField('counts', op=\"count\", order='descending')),\n",
    "    color= alt.Color('familia:N', title='Family',\n",
    "                     legend= alt.Legend(columns=2, symbolLimit=50),\n",
    "                     scale=alt.Scale(domain=list(cores_familia.keys()), \n",
    "                                     range= list(cores_familia.values()))),\n",
    "    tooltip= alt.Tooltip(['familia','ano_coleta','counts', 'cumulative_sum']),\n",
    "    opacity= alt.condition(select_family, alt.value(1), alt.value(0))\n",
    ").add_selection(select_family).transform_filter(select_family)\n",
    "\n",
    "g1 = g1.configure_title(fontSize=16).configure_axis(\n",
    "    labelFontSize=12,\n",
    "    titleFontSize=12\n",
    ").configure_legend(\n",
    "    labelFontSize=12,\n",
    "    titleFontSize=12\n",
    ")\n",
    "\n",
    "# g1.save('./graphs/cumCounts/family/temporal_evolution_per_family.html')\n",
    "# g1"
   ]
  },
  {
   "cell_type": "markdown",
   "metadata": {},
   "source": [
    "<br>\n",
    "\n",
    "### Chart: per determination year"
   ]
  },
  {
   "cell_type": "code",
   "execution_count": 17,
   "metadata": {
    "ExecuteTime": {
     "end_time": "2021-02-15T03:14:54.713226Z",
     "start_time": "2021-02-15T03:14:54.654832Z"
    }
   },
   "outputs": [],
   "source": [
    "# grouping per Year and Family\n",
    "teste = NewTable.groupby(['ano_determinacao','familia']).count()['class'].reset_index().rename(columns={\n",
    "    'class':'counts'\n",
    "})\n",
    "\n",
    "# sorting...\n",
    "teste = teste.sort_values(['familia', 'ano_determinacao'])"
   ]
  },
  {
   "cell_type": "code",
   "execution_count": 18,
   "metadata": {
    "ExecuteTime": {
     "end_time": "2021-02-15T03:14:54.762581Z",
     "start_time": "2021-02-15T03:14:54.715109Z"
    }
   },
   "outputs": [],
   "source": [
    "# cumulatively counting\n",
    "cumSum = []\n",
    "for family in teste['familia'].unique():\n",
    "    cumSum.extend(list(teste[teste['familia'] == family]['counts'].cumsum()))\n",
    "    \n",
    "teste['cumulative_sum'] = cumSum"
   ]
  },
  {
   "cell_type": "code",
   "execution_count": 20,
   "metadata": {
    "ExecuteTime": {
     "end_time": "2021-02-15T03:15:10.685665Z",
     "start_time": "2021-02-15T03:15:10.659555Z"
    }
   },
   "outputs": [],
   "source": [
    "# filtering out some families lost while grouping\n",
    "# familias = [f for f in cores_familia.keys() if f in teste['familia'].unique()]\n",
    "# cores_temp = [cores_familia[f] for f in familias] \n",
    "\n",
    "# selector\n",
    "select_family = alt.selection_multi(fields=['familia'], bind='legend')\n",
    "\n",
    "# aux. variables for encoding fields\n",
    "x_labels = teste.sort_values('ano_determinacao')['ano_determinacao'].unique()\n",
    "# x_labels = [str(y).split('.')[0] for y in x_labels]\n",
    "y_max = np.ceil(max(teste['cumulative_sum'].unique()))\n",
    "\n",
    "\n",
    "g1 = alt.Chart(teste, title='Cumulative amount of specimens per family', \n",
    "               width=600, height=400).mark_line(point=True).encode(\n",
    "    x= alt.X('ano_determinacao', type=\"ordinal\", title='Determination Year',\n",
    "             scale= alt.Scale(domain= x_labels)),\n",
    "    y= alt.Y('cumulative_sum', title='', \n",
    "             scale= alt.Scale(domain= [0, y_max]),\n",
    "             sort=alt.EncodingSortField('counts', op=\"count\", order='descending')),\n",
    "    color= alt.Color('familia:N', title='Família',\n",
    "                     legend= alt.Legend(columns=2, symbolLimit=50),\n",
    "                     scale=alt.Scale(domain=list(cores_familia.keys()), \n",
    "                                     range= list(cores_familia.values()))),\n",
    "    tooltip= alt.Tooltip(['familia','ano_determinacao','counts', 'cumulative_sum']),\n",
    "    opacity= alt.condition(select_family, alt.value(1), alt.value(0))\n",
    ").add_selection(select_family).transform_filter(select_family)\n",
    "\n",
    "g1 = g1.configure_title(fontSize=16).configure_axis(\n",
    "    labelFontSize=12,\n",
    "    titleFontSize=12\n",
    ").configure_legend(\n",
    "    labelFontSize=12,\n",
    "    titleFontSize=12\n",
    ")\n",
    "\n",
    "# g1.save('./graphs/cumCounts/family/temporal_evolution_per_family-det_year.html')\n",
    "# g1"
   ]
  },
  {
   "cell_type": "markdown",
   "metadata": {},
   "source": [
    "<br>\n",
    "\n",
    "**The end!**\n",
    "\n",
    "-----"
   ]
  }
 ],
 "metadata": {
  "kernelspec": {
   "display_name": "Python 3",
   "language": "python",
   "name": "python3"
  },
  "language_info": {
   "codemirror_mode": {
    "name": "ipython",
    "version": 3
   },
   "file_extension": ".py",
   "mimetype": "text/x-python",
   "name": "python",
   "nbconvert_exporter": "python",
   "pygments_lexer": "ipython3",
   "version": "3.9.1"
  },
  "latex_envs": {
   "LaTeX_envs_menu_present": true,
   "autoclose": false,
   "autocomplete": true,
   "bibliofile": "biblio.bib",
   "cite_by": "apalike",
   "current_citInitial": 1,
   "eqLabelWithNumbers": true,
   "eqNumInitial": 1,
   "hotkeys": {
    "equation": "Ctrl-E",
    "itemize": "Ctrl-I"
   },
   "labels_anchors": false,
   "latex_user_defs": false,
   "report_style_numbering": false,
   "user_envs_cfg": false
  },
  "toc": {
   "base_numbering": 1,
   "nav_menu": {},
   "number_sections": false,
   "sideBar": true,
   "skip_h1_title": false,
   "title_cell": "Table of Contents",
   "title_sidebar": "Contents",
   "toc_cell": false,
   "toc_position": {},
   "toc_section_display": true,
   "toc_window_display": false
  },
  "varInspector": {
   "cols": {
    "lenName": 16,
    "lenType": 16,
    "lenVar": 40
   },
   "kernels_config": {
    "python": {
     "delete_cmd_postfix": "",
     "delete_cmd_prefix": "del ",
     "library": "var_list.py",
     "varRefreshCmd": "print(var_dic_list())"
    },
    "r": {
     "delete_cmd_postfix": ") ",
     "delete_cmd_prefix": "rm(",
     "library": "var_list.r",
     "varRefreshCmd": "cat(var_dic_list()) "
    }
   },
   "position": {
    "height": "391.35px",
    "left": "900.5px",
    "right": "20px",
    "top": "96px",
    "width": "536.5px"
   },
   "types_to_exclude": [
    "module",
    "function",
    "builtin_function_or_method",
    "instance",
    "_Feature"
   ],
   "window_display": false
  }
 },
 "nbformat": 4,
 "nbformat_minor": 2
}
