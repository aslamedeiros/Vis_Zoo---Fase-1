{
 "cells": [
  {
   "cell_type": "markdown",
   "metadata": {},
   "source": [
    "# Database Exploration\n",
    "\n",
    "By **Franklin Oliveira**\n",
    "\n",
    "-----\n",
    "\n",
    "This notebook contains some code written to I (Franklin) get accquainted with the `repteis` database. Here you'll find some basic data treatment and adjustments that presented necessary as I started to understand the nature of the information in file <font color='blue'>'Compilacao Livros Repteis - 2 a 10 - 2020_04_28.xls'</font>."
   ]
  },
  {
   "cell_type": "code",
   "execution_count": 1,
   "metadata": {
    "ExecuteTime": {
     "end_time": "2021-02-08T14:17:50.866222Z",
     "start_time": "2021-02-08T14:17:49.926581Z"
    }
   },
   "outputs": [
    {
     "data": {
      "text/plain": [
       "DataTransformerRegistry.enable('default')"
      ]
     },
     "execution_count": 1,
     "metadata": {},
     "output_type": "execute_result"
    }
   ],
   "source": [
    "import datetime\n",
    "import numpy as np\n",
    "import pandas as pd\n",
    "\n",
    "from collections import defaultdict\n",
    "\n",
    "# pacotes para visualização rápida\n",
    "import seaborn as sns\n",
    "import matplotlib.pyplot as plt\n",
    "\n",
    "# pacote para visualização principal\n",
    "import altair as alt\n",
    "\n",
    "# habilitando renderizador para notebook\n",
    "# alt.renderers.enable('notebook')\n",
    "# alt.renderers.enable('default')\n",
    "\n",
    "\n",
    "# desabilitando limite de linhas\n",
    "alt.data_transformers.disable_max_rows()"
   ]
  },
  {
   "cell_type": "markdown",
   "metadata": {},
   "source": [
    "## Importing data...\n",
    "\n",
    "Importing pre-treated data in `1-data_treatment.ipynb`. In this notebook, I'm doing only some minnor adjustments for visualization purposes only. For a full traceback of data treatment, please see the `1-data_treatment` notebook."
   ]
  },
  {
   "cell_type": "code",
   "execution_count": 2,
   "metadata": {
    "ExecuteTime": {
     "end_time": "2021-02-08T14:17:51.060074Z",
     "start_time": "2021-02-08T14:17:50.883394Z"
    }
   },
   "outputs": [
    {
     "name": "stderr",
     "output_type": "stream",
     "text": [
      "/home/franklin/anaconda3/envs/viz/lib/python3.9/site-packages/IPython/core/interactiveshell.py:3146: DtypeWarning: Columns (2,45) have mixed types.Specify dtype option on import or set low_memory=False.\n",
      "  has_raised = await self.run_ast_nodes(code_ast.body, cell_name,\n"
     ]
    }
   ],
   "source": [
    "NewTable = pd.read_csv('./data/treated_db.csv', sep=';', encoding='utf-8')"
   ]
  },
  {
   "cell_type": "markdown",
   "metadata": {},
   "source": [
    "<br>\n",
    "\n",
    "<font size=5>**Color palette per Order**</font>\n",
    "\n",
    "The image below was used as inspiration (https://color.adobe.com/create/image)\n",
    "\n",
    "<img src=\"./src/paleta_cores.jpeg\" width='500px'>\n",
    "\n",
    "Colors: \n",
    "\n",
    "- dark_green: #284021\n",
    "- light_green: #88BF11\n",
    "- yellow: #D9CB0B\n",
    "- orange: #D99311\n",
    "- dark_orange: #BF4417\n",
    "- light_brown: #BF8D7A"
   ]
  },
  {
   "cell_type": "code",
   "execution_count": 4,
   "metadata": {
    "ExecuteTime": {
     "end_time": "2021-02-08T14:18:11.000083Z",
     "start_time": "2021-02-08T14:18:10.988814Z"
    }
   },
   "outputs": [],
   "source": [
    "# importing customized color palettes\n",
    "from src.MNViz_colors import *"
   ]
  },
  {
   "cell_type": "code",
   "execution_count": 5,
   "metadata": {
    "ExecuteTime": {
     "end_time": "2021-02-08T14:18:11.885511Z",
     "start_time": "2021-02-08T14:18:11.879726Z"
    }
   },
   "outputs": [],
   "source": [
    "# OBS: caudata is an error and should be removed. \n",
    "# cores_ordem = {\n",
    "#     'Squamata': '#BF4417',\n",
    "#     'Testudines': '#D9CB0B', \n",
    "#     'Crocodylia': '#284021'\n",
    "# }\n",
    "\n",
    "ordens = list(cores_ordem.keys())\n",
    "cores = list(cores_ordem.values())"
   ]
  },
  {
   "cell_type": "markdown",
   "metadata": {},
   "source": [
    "**Paleta de Cores - Família:**\n",
    "\n",
    "- grupo 1: 1 cor  (verde escuro)\n",
    "<ul>\n",
    "    <li style=\"color:#142611\"><b>centroide 1</b></li>\n",
    "</ul>\n",
    "- grupo 2: 8 cores\n",
    "<ul>\n",
    "    <li style=\"color:#85D907\"><b>centroide 2</b></li>\n",
    "</ul>\n",
    "\n",
    "['#d7ff81', '#bafd62', '#9feb3f', '#85d907', '#6cc700', '#52b700', '#35a600', '#0b9700', '#008800']\n",
    "\n",
    "<font color=\"#d7ff81\"><b>cor 1</b> (ficou fora)</font>\n",
    "<font color=\"#bafd62\"><b>cor 2</b></font>\n",
    "<font color=\"#9feb3f\"><b>cor 3</b></font>\n",
    "<font color=\"#85d907\"><b>cor 4</b></font>\n",
    "<font color=\"#6cc700\"><b>cor 5</b></font>\n",
    "<font color=\"#52b700\"><b>cor 6</b></font>\n",
    "<font color=\"#35a600\"><b>cor 7</b></font>\n",
    "<font color=\"#0b9700\"><b>cor 8</b></font>\n",
    "<font color=\"#008800\"><b>cor 9</b></font>\n",
    "\n",
    "\n",
    "- grupo 3: 2 cores <font color='red'>Esse grupo foi incorporado ao anterior</font>\n",
    "#888C03\n",
    "<ul>\n",
    "    <li style=\"color:#22401E\"><b>centroide 3 (puxando para tons frios mais claros)</b></li>\n",
    "</ul>\n",
    "\n",
    "<font color=\"#99b6b2\"><b>cor 1</b></font>\n",
    "<font color=\"#81a58b\"><b>cor 2</b></font>\n",
    "\n",
    "\n",
    "- grupo 4: 1 cor  (amarelo)\n",
    "<ul>\n",
    "    <li style=\"color:#F2CB07\"><b>centroide 4</b></li>\n",
    "</ul>\n",
    "\n",
    "- grupo 5: 10 cores\n",
    "<ul>\n",
    "    <li style=\"color:#cb97d4\"><b>centroide 5 (puxando para o roxo)</b></li>\n",
    "</ul>\n",
    "\n",
    "['#f8dcf9', '#ebc5ed', '#ddafe2', '#ce9ad6', '#bf86cc', '#af73c2', '#a160b8', '#924fae', '#833fa4'] #803da1\n",
    "\n",
    "<font color=\"#f8dcf9\"><b>cor 1</b></font>\n",
    "<font color=\"#ebc5ed\"><b>cor 2</b></font>\n",
    "<font color=\"#ddafe2\"><b>cor 3</b></font>\n",
    "<font color=\"#ce9ad6\"><b>cor 4</b></font>\n",
    "<font color=\"#bf86cc\"><b>cor 5</b></font>\n",
    "<font color=\"#af73c2\"><b>cor 6</b></font>\n",
    "<font color=\"#a160b8\"><b>cor 7</b></font>\n",
    "<font color=\"#924fae\"><b>cor 8</b></font>\n",
    "<font color=\"#833fa4\"><b>cor 9</b></font>\n",
    "<font color=\"#803da1\"><b>cor 10</b></font>\n",
    "\n",
    "\n",
    "- grupo 6: 12 cores\n",
    "<ul>\n",
    "    <li style=\"color:#91F2E9\"><b>centroide 6</b></li>\n",
    "</ul>\n",
    "\n",
    "['#c9fff9', '#b3eff2', '#9cdcea', '#83c9e2', '#68b7da', '#4aa6d2', '#2096ca', '#0087c1', '#0079b7']\n",
    "\n",
    "['#cee5d8', '#b3d2d1', '#9bbfc9', '#83adc2', '#6d9bba', '#568ab2', '#3e7baa', '#226ca2', '#005e98']\n",
    "\n",
    "\n",
    "<font color=\"#c9fff9\"><b>cor 1</b></font>\n",
    "<font color=\"#b3eff2\"><b>cor 2</b></font>\n",
    "<font color=\"#9cdcea\"><b>cor 3</b></font>\n",
    "<font color=\"#83c9e2\"><b>cor 4</b></font>\n",
    "<font color=\"#68b7da\"><b>cor 5</b></font>\n",
    "<font color=\"#4aa6d2\"><b>cor 6</b></font>\n",
    "<font color=\"#2096ca\"><b>cor 7</b></font>\n",
    "<font color=\"#0087c1\"><b>cor 8</b></font>\n",
    "<font color=\"#0079b7\"><b>cor 9</b></font>\n",
    "<font color=\"#3e7baa\"><b>cor 10</b></font>\n",
    "<font color=\"#226ca2\"><b>cor 11</b></font>\n",
    "<font color=\"#005e98\"><b>cor 12</b></font>\n",
    "\n",
    "\n",
    "- grupo 7: 3 cores  <font color='red'>Pedido: representar em tons de cinza</font>\n",
    "<ul>\n",
    "    <li style=\"color:#8C1A0F\"><b>centroide 7 (puxando para o marrom)</b></li>\n",
    "</ul>\n",
    "\n",
    "['#fde5bf', '#efd09f', '#e1bb82', '#d3a767', '#c6934d', '#b98033', '#ac6f18', '#9e5e00', '#914e00']\n",
    "\n",
    "<font color=\"#ac6f18\"><b>cor 1</b></font>\n",
    "<font color=\"#9e5e00\"><b>cor 2</b></font>\n",
    "<font color=\"#914e00\"><b>cor 3</b></font>\n",
    "\n",
    "\n",
    "- grupo 8: 13 cores\n",
    "<ul>\n",
    "    <li style=\"color:#D9430D\"><b>centroide 8</b></li>\n",
    "</ul>\n",
    "\n",
    "['#ffce9f', '#ffb683', '#ff9f69', '#ff8851', '#f5723b', '#e75b25', '#d9430d', '#cb2800', '#bc0000']\n",
    "\n",
    "['#ff8f68', '#ff7e56', '#ff6b40', '#ee5829', '#d9430d', '#c62f00', '#b41b00', '#a40300', '#930000']\n",
    "\n",
    "<font color=\"#ffce9f\"><b>cor 1</b></font>\n",
    "<font color=\"#ffb683\"><b>cor 2</b></font>\n",
    "<font color=\"#ff9f69\"><b>cor 3</b></font>\n",
    "<font color=\"#ff8851\"><b>cor 4</b></font>\n",
    "<font color=\"#f5723b\"><b>cor 5</b></font>\n",
    "<font color=\"#e75b25\"><b>cor 6</b></font>\n",
    "<font color=\"#d9430d\"><b>cor 7</b></font>\n",
    "<font color=\"#cb2800\"><b>cor 8</b></font>\n",
    "<font color=\"#bc0000\"><b>cor 9</b></font>\n",
    "<font color=\"#c62f00\"><b>cor 10</b></font>\n",
    "<font color=\"#b41b00\"><b>cor 11</b></font>\n",
    "<font color=\"#a40300\"><b>cor 12</b></font>\n",
    "<font color=\"#930000\"><b>cor 13</b></font>\n",
    "\n",
    "<br>\n",
    "\n",
    "**TOTAL: 50 cores**"
   ]
  },
  {
   "cell_type": "code",
   "execution_count": 6,
   "metadata": {
    "ExecuteTime": {
     "end_time": "2021-02-08T14:18:17.411315Z",
     "start_time": "2021-02-08T14:18:17.404847Z"
    }
   },
   "outputs": [],
   "source": [
    "# cores_familia = {\n",
    "#     # known errors treatment\n",
    "# #     '#n/d':'#000000',\n",
    "# #     'nan':'#000000',\n",
    "#     # grupo 1: Crocodylia\n",
    "#     'Alligatoridae':'#142611',\n",
    "#     # grupo 2: Testudines - Cryptodira\n",
    "#     'Cheloniidae':'#bafd62',\n",
    "#     'Chelydridae':'#9feb3f',\n",
    "#     'Dermochelyidae':'#85d907',\n",
    "#     'Emydidae':'#6cc700',\n",
    "#     'Geoemydidae':'#52b700',\n",
    "#     'Kinosternidae':'#35a600',\n",
    "#     'Testudinidae':'#0b9700',\n",
    "#     'Trionychidae':'#008800',\n",
    "#     # grupo 3: Testudines - Pleurodira\n",
    "#     'Chelidae':'#99b6b2' ,\n",
    "#     'Podocnemididae':'#81a58b',\n",
    "#     # grupo 4: Amphisbaenia - Amphisbaenia\n",
    "#     'Amphisbaenidae':'#F2CB07',\n",
    "#     # grupo 5: Sauria - Iguania\n",
    "#     'Agamidae':'#f8dcf9',\n",
    "#     'Chamaeleonidae':'#ebc5ed',\n",
    "#     'Dactyloidae':'#ddafe2',\n",
    "#     'Iguanidae':'#ce9ad6',\n",
    "#     'Hoplocercidae':'#bf86cc',\n",
    "#     'Leiosauridae':'#af73c2',\n",
    "#     'Liolaemidae':'#a160b8', \n",
    "#     'Phrynosomatidae':'#924fae',\n",
    "#     'Polychrotidae':'#833fa4',\n",
    "#     'Tropiduridae':'#803da1',\n",
    "#     # grupo 6: Sauria - Scleroglossa\n",
    "#     'Anguidae':'#c9fff9',\n",
    "#     'Gekkonidae':'#b3eff2',\n",
    "#     'Gymnophthalmidae':'#9cdcea',\n",
    "#     'Helodermatidae':'#83c9e2',\n",
    "#     'Lacertidae':'#68b7da',\n",
    "#     'Mabuyinae':'#4aa6d2',\n",
    "#     'Phyllodactylidae':'#2096ca',\n",
    "#     'Scincidae':'#0087c1',\n",
    "#     'Sphaerodactylidae':'#0079b7',\n",
    "#     'Teiidae':'#3e7baa',\n",
    "#     'Varanidae':'#226ca2',\n",
    "#     'Xantusiidae':'#005e98',\n",
    "#     # grupo 7: Serpentes - Scolecophidia\n",
    "#     'Anomalepididae':'#ac6f18',\n",
    "#     'Leptotyphlopidae':'#9e5e00',\n",
    "#     'Typhlopidae':'#914e00', \n",
    "#     # grupo 8: Alethinophidia\n",
    "#     'Aniliidae':'#ffce9f',\n",
    "#     'Boidae':'#ffb683',\n",
    "#     'Colubridae':'#ff9f69',\n",
    "#     'Dipsadidae':'#ff8851',\n",
    "#     'Elapidae':'#f5723b',\n",
    "#     'Homalopsidae':'#e75b25',\n",
    "#     'Lamprophiidae':'#d9430d', \n",
    "#     'Loxocemidae':'#cb2800',\n",
    "#     'Natricidae':'#bc0000',\n",
    "#     'Pythonidae':'#c62f00',\n",
    "#     'Tropidophiidae':'#b41b00',\n",
    "#     'Viperidae':'#a40300',\n",
    "#     'Xenopeltidae':'#930000'\n",
    "# }"
   ]
  },
  {
   "cell_type": "markdown",
   "metadata": {},
   "source": [
    "<br>\n",
    "\n",
    "---\n",
    "\n",
    "## Graphs\n",
    "\n",
    "### Total amount of catalogations per year\n",
    "\n",
    "x: Start Year (from Start Date)\n",
    "y: number of catalogations per year"
   ]
  },
  {
   "cell_type": "code",
   "execution_count": 7,
   "metadata": {
    "ExecuteTime": {
     "end_time": "2021-02-08T14:18:18.358865Z",
     "start_time": "2021-02-08T14:18:18.352317Z"
    }
   },
   "outputs": [],
   "source": [
    "# counting catalog. per year\n",
    "teste = NewTable['ano_coleta'].value_counts()\n",
    "teste = teste.reset_index().rename(columns={'index':'year', 'ano_coleta':'counts'})"
   ]
  },
  {
   "cell_type": "code",
   "execution_count": 8,
   "metadata": {
    "ExecuteTime": {
     "end_time": "2021-02-08T14:18:19.733258Z",
     "start_time": "2021-02-08T14:18:19.716936Z"
    }
   },
   "outputs": [],
   "source": [
    "# adjusting columns for graphs\n",
    "teste['year'] = teste['year'].apply(lambda x:str(x).split('/')[0].split('.')[0]).astype(int)\n",
    "teste = teste.groupby('year').sum().reset_index() # soma do total de bichos coletados por ano"
   ]
  },
  {
   "cell_type": "code",
   "execution_count": 9,
   "metadata": {
    "ExecuteTime": {
     "end_time": "2021-02-08T14:18:20.052463Z",
     "start_time": "2021-02-08T14:18:20.047074Z"
    }
   },
   "outputs": [],
   "source": [
    "# min e max para eixo X (year)\n",
    "min_x = teste['year'].min()\n",
    "max_x = teste['year'].max()"
   ]
  },
  {
   "cell_type": "code",
   "execution_count": 10,
   "metadata": {
    "ExecuteTime": {
     "end_time": "2021-02-08T14:18:20.459023Z",
     "start_time": "2021-02-08T14:18:20.453582Z"
    }
   },
   "outputs": [],
   "source": [
    "# taking natural log\n",
    "teste['ln_counts'] = np.log(teste['counts'])"
   ]
  },
  {
   "cell_type": "markdown",
   "metadata": {},
   "source": [
    "<font color='red'>**ideia:** fazer crescimento em log (referencias em Bio. fazem isso)</font>"
   ]
  },
  {
   "cell_type": "code",
   "execution_count": 12,
   "metadata": {
    "ExecuteTime": {
     "end_time": "2021-02-08T14:18:26.272649Z",
     "start_time": "2021-02-08T14:18:26.268882Z"
    }
   },
   "outputs": [],
   "source": [
    "temp = alt.Chart(data= teste, width=800, title= 'Natural Logarithm collected animals per year').mark_line().encode(\n",
    "    x= alt.X('year', type='ordinal', title='Ano de Coleta'),\n",
    "    y= alt.Y('ln_counts', type='quantitative', title='Contagem')\n",
    ")\n",
    "\n",
    "# temp.save('./graphs/log_coletas_por_ano.html')\n",
    "# temp"
   ]
  },
  {
   "cell_type": "markdown",
   "metadata": {},
   "source": [
    "-----\n",
    "\n",
    "## Altitude per family"
   ]
  },
  {
   "cell_type": "code",
   "execution_count": 13,
   "metadata": {
    "ExecuteTime": {
     "end_time": "2021-02-08T14:18:27.813949Z",
     "start_time": "2021-02-08T14:18:27.778434Z"
    }
   },
   "outputs": [],
   "source": [
    "# subsetting\n",
    "teste = NewTable[['altitude','familia','ordem','subordem', 'ano_coleta', 'qualificador_atual', 'numero_catalogo', \n",
    "                  'genero_atual', 'especie_atual', 'subespecie_atual']].copy()\n",
    "\n",
    "# sorting\n",
    "teste = teste.sort_values(['altitude','familia'])\n",
    "\n",
    "# dropping na\n",
    "teste.dropna(subset=['altitude'], inplace=True)\n",
    "\n",
    "# making sure altitude is a floating point number\n",
    "teste['altitude'] = teste['altitude'].astype(float)\n",
    "\n",
    "# removing outlier\n",
    "teste = teste[teste['altitude'] < 7000].copy()"
   ]
  },
  {
   "cell_type": "markdown",
   "metadata": {},
   "source": [
    "<br>\n",
    "\n",
    "**OBS:** ainda na paleta antiga (por ordem)"
   ]
  },
  {
   "cell_type": "code",
   "execution_count": 15,
   "metadata": {
    "ExecuteTime": {
     "end_time": "2021-02-08T14:18:35.252098Z",
     "start_time": "2021-02-08T14:18:35.121118Z"
    }
   },
   "outputs": [
    {
     "data": {
      "text/html": [
       "\n",
       "<div id=\"altair-viz-18aaf5bdddae4b5c9cfb64e3f87044b9\"></div>\n",
       "<script type=\"text/javascript\">\n",
       "  (function(spec, embedOpt){\n",
       "    let outputDiv = document.currentScript.previousElementSibling;\n",
       "    if (outputDiv.id !== \"altair-viz-18aaf5bdddae4b5c9cfb64e3f87044b9\") {\n",
       "      outputDiv = document.getElementById(\"altair-viz-18aaf5bdddae4b5c9cfb64e3f87044b9\");\n",
       "    }\n",
       "    const paths = {\n",
       "      \"vega\": \"https://cdn.jsdelivr.net/npm//vega@5?noext\",\n",
       "      \"vega-lib\": \"https://cdn.jsdelivr.net/npm//vega-lib?noext\",\n",
       "      \"vega-lite\": \"https://cdn.jsdelivr.net/npm//vega-lite@4.8.1?noext\",\n",
       "      \"vega-embed\": \"https://cdn.jsdelivr.net/npm//vega-embed@6?noext\",\n",
       "    };\n",
       "\n",
       "    function loadScript(lib) {\n",
       "      return new Promise(function(resolve, reject) {\n",
       "        var s = document.createElement('script');\n",
       "        s.src = paths[lib];\n",
       "        s.async = true;\n",
       "        s.onload = () => resolve(paths[lib]);\n",
       "        s.onerror = () => reject(`Error loading script: ${paths[lib]}`);\n",
       "        document.getElementsByTagName(\"head\")[0].appendChild(s);\n",
       "      });\n",
       "    }\n",
       "\n",
       "    function showError(err) {\n",
       "      outputDiv.innerHTML = `<div class=\"error\" style=\"color:red;\">${err}</div>`;\n",
       "      throw err;\n",
       "    }\n",
       "\n",
       "    function displayChart(vegaEmbed) {\n",
       "      vegaEmbed(outputDiv, spec, embedOpt)\n",
       "        .catch(err => showError(`Javascript Error: ${err.message}<br>This usually means there's a typo in your chart specification. See the javascript console for the full traceback.`));\n",
       "    }\n",
       "\n",
       "    if(typeof define === \"function\" && define.amd) {\n",
       "      requirejs.config({paths});\n",
       "      require([\"vega-embed\"], displayChart, err => showError(`Error loading script: ${err.message}`));\n",
       "    } else if (typeof vegaEmbed === \"function\") {\n",
       "      displayChart(vegaEmbed);\n",
       "    } else {\n",
       "      loadScript(\"vega\")\n",
       "        .then(() => loadScript(\"vega-lite\"))\n",
       "        .then(() => loadScript(\"vega-embed\"))\n",
       "        .catch(showError)\n",
       "        .then(() => displayChart(vegaEmbed));\n",
       "    }\n",
       "  })({\"config\": {\"view\": {\"continuousWidth\": 400, \"continuousHeight\": 300}, \"axis\": {\"labelFontSize\": 12, \"titleFontSize\": 12}, \"legend\": {\"labelFontSize\": 12, \"titleFontSize\": 12}, \"title\": {\"fontSize\": 16}}, \"data\": {\"name\": \"data-10c2b8ebb63072fde564792c509016c2\"}, \"mark\": {\"type\": \"circle\", \"color\": \"#BF4417\"}, \"encoding\": {\"tooltip\": [{\"type\": \"quantitative\", \"field\": \"numero_catalogo\"}, {\"type\": \"nominal\", \"field\": \"genero_atual\"}, {\"type\": \"nominal\", \"field\": \"especie_atual\"}, {\"type\": \"nominal\", \"field\": \"subespecie_atual\"}, {\"type\": \"nominal\", \"field\": \"ordem\"}, {\"type\": \"nominal\", \"field\": \"subordem\"}, {\"type\": \"nominal\", \"field\": \"qualificador_atual\"}, {\"type\": \"quantitative\", \"field\": \"ano_coleta\"}, {\"type\": \"quantitative\", \"field\": \"altitude\"}], \"x\": {\"type\": \"nominal\", \"field\": \"familia\", \"sort\": {\"field\": \"altitude\", \"op\": \"max\", \"order\": \"ascending\"}, \"title\": \"Family\"}, \"y\": {\"type\": \"quantitative\", \"field\": \"altitude\", \"title\": \"Altitude (in meters)\"}}, \"title\": \"Altitude per family (Squamata)\", \"$schema\": \"https://vega.github.io/schema/vega-lite/v4.8.1.json\", \"datasets\": {\"data-10c2b8ebb63072fde564792c509016c2\": [{\"altitude\": 0.0, \"familia\": \"Dipsadidae\", \"ordem\": \"Squamata\", \"subordem\": \"Serpentes\", \"ano_coleta\": 2008.0, \"qualificador_atual\": null, \"numero_catalogo\": 16400, \"genero_atual\": \"Philodryas\", \"especie_atual\": \"patagoniensis\", \"subespecie_atual\": null}, {\"altitude\": 0.0, \"familia\": \"Gekkonidae\", \"ordem\": \"Squamata\", \"subordem\": \"Sauria\", \"ano_coleta\": 2008.0, \"qualificador_atual\": null, \"numero_catalogo\": 16399, \"genero_atual\": \"Hemidactylus\", \"especie_atual\": \"mabouia\", \"subespecie_atual\": null}, {\"altitude\": 1.0, \"familia\": \"Gekkonidae\", \"ordem\": \"Squamata\", \"subordem\": \"Sauria\", \"ano_coleta\": 2008.0, \"qualificador_atual\": null, \"numero_catalogo\": 16545, \"genero_atual\": \"Hemidactylus\", \"especie_atual\": \"mabouia\", \"subespecie_atual\": null}, {\"altitude\": 1.0, \"familia\": \"Tropiduridae\", \"ordem\": \"Squamata\", \"subordem\": \"Sauria\", \"ano_coleta\": null, \"qualificador_atual\": null, \"numero_catalogo\": 16544, \"genero_atual\": \"Tropidurus\", \"especie_atual\": \"torquatus\", \"subespecie_atual\": null}, {\"altitude\": 3.0, \"familia\": \"Gekkonidae\", \"ordem\": \"Squamata\", \"subordem\": \"Sauria\", \"ano_coleta\": 2016.0, \"qualificador_atual\": null, \"numero_catalogo\": 26218, \"genero_atual\": \"Hemidactylus\", \"especie_atual\": \"mabouia\", \"subespecie_atual\": null}, {\"altitude\": 3.0, \"familia\": \"Gymnophthalmidae\", \"ordem\": \"Squamata\", \"subordem\": \"Sauria\", \"ano_coleta\": 2015.0, \"qualificador_atual\": null, \"numero_catalogo\": 25302, \"genero_atual\": \"Ecpleopus\", \"especie_atual\": \"gaudichaudii\", \"subespecie_atual\": null}, {\"altitude\": 3.0, \"familia\": \"Phyllodactylidae\", \"ordem\": \"Squamata\", \"subordem\": \"Sauria\", \"ano_coleta\": 2014.0, \"qualificador_atual\": null, \"numero_catalogo\": 24777, \"genero_atual\": \"Gymnodactylus\", \"especie_atual\": \"darwinii\", \"subespecie_atual\": null}, {\"altitude\": 3.0, \"familia\": \"Scincidae\", \"ordem\": \"Squamata\", \"subordem\": \"Sauria\", \"ano_coleta\": 2014.0, \"qualificador_atual\": null, \"numero_catalogo\": 24786, \"genero_atual\": \"Psychosaura\", \"especie_atual\": \"macrorhyncha\", \"subespecie_atual\": null}, {\"altitude\": 3.0, \"familia\": \"Teiidae\", \"ordem\": \"Squamata\", \"subordem\": \"Sauria\", \"ano_coleta\": 2015.0, \"qualificador_atual\": null, \"numero_catalogo\": 25322, \"genero_atual\": \"Ameiva\", \"especie_atual\": \"ameiva\", \"subespecie_atual\": null}, {\"altitude\": 3.0, \"familia\": \"Teiidae\", \"ordem\": \"Squamata\", \"subordem\": \"Sauria\", \"ano_coleta\": 2015.0, \"qualificador_atual\": null, \"numero_catalogo\": 25332, \"genero_atual\": \"Salvator\", \"especie_atual\": \"merianae\", \"subespecie_atual\": null}, {\"altitude\": 4.0, \"familia\": \"Scincidae\", \"ordem\": \"Squamata\", \"subordem\": \"Sauria\", \"ano_coleta\": 2014.0, \"qualificador_atual\": null, \"numero_catalogo\": 25424, \"genero_atual\": \"Psychosaura\", \"especie_atual\": \"macrorhyncha\", \"subespecie_atual\": null}, {\"altitude\": 5.0, \"familia\": \"Dipsadidae\", \"ordem\": \"Squamata\", \"subordem\": \"Serpentes\", \"ano_coleta\": 2015.0, \"qualificador_atual\": null, \"numero_catalogo\": 25317, \"genero_atual\": \"Liophis\", \"especie_atual\": \"miliaris\", \"subespecie_atual\": null}, {\"altitude\": 5.0, \"familia\": \"Dipsadidae\", \"ordem\": \"Squamata\", \"subordem\": \"Serpentes\", \"ano_coleta\": 2016.0, \"qualificador_atual\": null, \"numero_catalogo\": 26221, \"genero_atual\": \"Pseudoboa\", \"especie_atual\": \"nigra\", \"subespecie_atual\": null}, {\"altitude\": 5.0, \"familia\": \"Gekkonidae\", \"ordem\": \"Squamata\", \"subordem\": \"Sauria\", \"ano_coleta\": 2014.0, \"qualificador_atual\": null, \"numero_catalogo\": 24782, \"genero_atual\": \"Hemidactylus\", \"especie_atual\": \"mabouia\", \"subespecie_atual\": null}, {\"altitude\": 5.0, \"familia\": \"Gekkonidae\", \"ordem\": \"Squamata\", \"subordem\": \"Sauria\", \"ano_coleta\": 2014.0, \"qualificador_atual\": null, \"numero_catalogo\": 24783, \"genero_atual\": \"Hemidactylus\", \"especie_atual\": \"mabouia\", \"subespecie_atual\": null}, {\"altitude\": 5.0, \"familia\": \"Tropiduridae\", \"ordem\": \"Squamata\", \"subordem\": \"Sauria\", \"ano_coleta\": 2014.0, \"qualificador_atual\": null, \"numero_catalogo\": 24799, \"genero_atual\": \"Tropidurus\", \"especie_atual\": \"torquatus\", \"subespecie_atual\": null}, {\"altitude\": 7.0, \"familia\": \"Dipsadidae\", \"ordem\": \"Squamata\", \"subordem\": \"Serpentes\", \"ano_coleta\": 2014.0, \"qualificador_atual\": null, \"numero_catalogo\": 25315, \"genero_atual\": \"Liophis\", \"especie_atual\": \"miliaris\", \"subespecie_atual\": null}, {\"altitude\": 7.0, \"familia\": \"Dipsadidae\", \"ordem\": \"Squamata\", \"subordem\": \"Serpentes\", \"ano_coleta\": 2015.0, \"qualificador_atual\": null, \"numero_catalogo\": 25316, \"genero_atual\": \"Liophis\", \"especie_atual\": \"miliaris\", \"subespecie_atual\": null}, {\"altitude\": 7.0, \"familia\": \"Gekkonidae\", \"ordem\": \"Squamata\", \"subordem\": \"Sauria\", \"ano_coleta\": 2015.0, \"qualificador_atual\": null, \"numero_catalogo\": 25330, \"genero_atual\": \"Hemidactylus\", \"especie_atual\": \"mabouia\", \"subespecie_atual\": null}, {\"altitude\": 7.0, \"familia\": \"Phyllodactylidae\", \"ordem\": \"Squamata\", \"subordem\": \"Sauria\", \"ano_coleta\": 2014.0, \"qualificador_atual\": null, \"numero_catalogo\": 24775, \"genero_atual\": \"Gymnodactylus\", \"especie_atual\": \"darwinii\", \"subespecie_atual\": null}, {\"altitude\": 7.0, \"familia\": \"Phyllodactylidae\", \"ordem\": \"Squamata\", \"subordem\": \"Sauria\", \"ano_coleta\": 2014.0, \"qualificador_atual\": null, \"numero_catalogo\": 24776, \"genero_atual\": \"Gymnodactylus\", \"especie_atual\": \"darwinii\", \"subespecie_atual\": null}, {\"altitude\": 7.0, \"familia\": \"Phyllodactylidae\", \"ordem\": \"Squamata\", \"subordem\": \"Sauria\", \"ano_coleta\": 2014.0, \"qualificador_atual\": null, \"numero_catalogo\": 25307, \"genero_atual\": \"Gymnodactylus\", \"especie_atual\": \"darwinii\", \"subespecie_atual\": null}, {\"altitude\": 7.0, \"familia\": \"Phyllodactylidae\", \"ordem\": \"Squamata\", \"subordem\": \"Sauria\", \"ano_coleta\": 2014.0, \"qualificador_atual\": null, \"numero_catalogo\": 25308, \"genero_atual\": \"Gymnodactylus\", \"especie_atual\": \"darwinii\", \"subespecie_atual\": null}, {\"altitude\": 7.0, \"familia\": \"Scincidae\", \"ordem\": \"Squamata\", \"subordem\": \"Sauria\", \"ano_coleta\": 2014.0, \"qualificador_atual\": null, \"numero_catalogo\": 24787, \"genero_atual\": \"Psychosaura\", \"especie_atual\": \"macrorhyncha\", \"subespecie_atual\": null}, {\"altitude\": 7.0, \"familia\": \"Scincidae\", \"ordem\": \"Squamata\", \"subordem\": \"Sauria\", \"ano_coleta\": 2014.0, \"qualificador_atual\": null, \"numero_catalogo\": 25347, \"genero_atual\": \"Psychosaura\", \"especie_atual\": \"macrorhyncha\", \"subespecie_atual\": null}, {\"altitude\": 7.0, \"familia\": \"Scincidae\", \"ordem\": \"Squamata\", \"subordem\": \"Sauria\", \"ano_coleta\": 2014.0, \"qualificador_atual\": null, \"numero_catalogo\": 25348, \"genero_atual\": \"Psychosaura\", \"especie_atual\": \"macrorhyncha\", \"subespecie_atual\": null}, {\"altitude\": 7.0, \"familia\": \"Teiidae\", \"ordem\": \"Squamata\", \"subordem\": \"Sauria\", \"ano_coleta\": 2014.0, \"qualificador_atual\": null, \"numero_catalogo\": 24807, \"genero_atual\": \"Glaucomastix\", \"especie_atual\": \"littoralis\", \"subespecie_atual\": null}, {\"altitude\": 7.0, \"familia\": \"Tropiduridae\", \"ordem\": \"Squamata\", \"subordem\": \"Sauria\", \"ano_coleta\": 2014.0, \"qualificador_atual\": null, \"numero_catalogo\": 24798, \"genero_atual\": \"Tropidurus\", \"especie_atual\": \"torquatus\", \"subespecie_atual\": null}, {\"altitude\": 7.0, \"familia\": \"Typhlopidae\", \"ordem\": \"Squamata\", \"subordem\": \"Serpentes\", \"ano_coleta\": 2015.0, \"qualificador_atual\": null, \"numero_catalogo\": 25299, \"genero_atual\": \"Amerotyphlops\", \"especie_atual\": \"brongersmianus\", \"subespecie_atual\": null}, {\"altitude\": 7.0, \"familia\": \"Typhlopidae\", \"ordem\": \"Squamata\", \"subordem\": \"Serpentes\", \"ano_coleta\": 2015.0, \"qualificador_atual\": null, \"numero_catalogo\": 25366, \"genero_atual\": \"Amerotyphlops\", \"especie_atual\": \"brongersmianus\", \"subespecie_atual\": null}, {\"altitude\": 7.0, \"familia\": \"Viperidae\", \"ordem\": \"Squamata\", \"subordem\": \"Serpentes\", \"ano_coleta\": 2015.0, \"qualificador_atual\": null, \"numero_catalogo\": 25372, \"genero_atual\": \"Bothrops\", \"especie_atual\": \"jararaca\", \"subespecie_atual\": null}, {\"altitude\": 8.0, \"familia\": \"Colubridae\", \"ordem\": \"Squamata\", \"subordem\": \"Serpentes\", \"ano_coleta\": 2015.0, \"qualificador_atual\": null, \"numero_catalogo\": 25320, \"genero_atual\": \"Tantilla\", \"especie_atual\": \"melanocephala\", \"subespecie_atual\": null}, {\"altitude\": 8.0, \"familia\": \"Typhlopidae\", \"ordem\": \"Squamata\", \"subordem\": \"Serpentes\", \"ano_coleta\": 2014.0, \"qualificador_atual\": null, \"numero_catalogo\": 24810, \"genero_atual\": \"Amerotyphlops\", \"especie_atual\": \"brongersmianus\", \"subespecie_atual\": null}, {\"altitude\": 8.0, \"familia\": \"Typhlopidae\", \"ordem\": \"Squamata\", \"subordem\": \"Serpentes\", \"ano_coleta\": 2014.0, \"qualificador_atual\": null, \"numero_catalogo\": 24811, \"genero_atual\": \"Amerotyphlops\", \"especie_atual\": \"brongersmianus\", \"subespecie_atual\": null}, {\"altitude\": 8.0, \"familia\": \"Typhlopidae\", \"ordem\": \"Squamata\", \"subordem\": \"Serpentes\", \"ano_coleta\": 2014.0, \"qualificador_atual\": null, \"numero_catalogo\": 24812, \"genero_atual\": \"Amerotyphlops\", \"especie_atual\": \"brongersmianus\", \"subespecie_atual\": null}, {\"altitude\": 8.0, \"familia\": \"Typhlopidae\", \"ordem\": \"Squamata\", \"subordem\": \"Serpentes\", \"ano_coleta\": 2014.0, \"qualificador_atual\": null, \"numero_catalogo\": 24813, \"genero_atual\": \"Amerotyphlops\", \"especie_atual\": \"brongersmianus\", \"subespecie_atual\": null}, {\"altitude\": 8.0, \"familia\": \"Typhlopidae\", \"ordem\": \"Squamata\", \"subordem\": \"Serpentes\", \"ano_coleta\": 2014.0, \"qualificador_atual\": null, \"numero_catalogo\": 24814, \"genero_atual\": \"Amerotyphlops\", \"especie_atual\": \"brongersmianus\", \"subespecie_atual\": null}, {\"altitude\": 8.0, \"familia\": \"Typhlopidae\", \"ordem\": \"Squamata\", \"subordem\": \"Serpentes\", \"ano_coleta\": 2014.0, \"qualificador_atual\": null, \"numero_catalogo\": 24815, \"genero_atual\": \"Amerotyphlops\", \"especie_atual\": \"brongersmianus\", \"subespecie_atual\": null}, {\"altitude\": 8.0, \"familia\": \"Typhlopidae\", \"ordem\": \"Squamata\", \"subordem\": \"Serpentes\", \"ano_coleta\": 2014.0, \"qualificador_atual\": null, \"numero_catalogo\": 25287, \"genero_atual\": \"Amerotyphlops\", \"especie_atual\": \"brongersmianus\", \"subespecie_atual\": null}, {\"altitude\": 8.0, \"familia\": \"Typhlopidae\", \"ordem\": \"Squamata\", \"subordem\": \"Serpentes\", \"ano_coleta\": 2015.0, \"qualificador_atual\": null, \"numero_catalogo\": 25293, \"genero_atual\": \"Amerotyphlops\", \"especie_atual\": \"brongersmianus\", \"subespecie_atual\": null}, {\"altitude\": 8.0, \"familia\": \"Typhlopidae\", \"ordem\": \"Squamata\", \"subordem\": \"Serpentes\", \"ano_coleta\": 2015.0, \"qualificador_atual\": null, \"numero_catalogo\": 25297, \"genero_atual\": \"Amerotyphlops\", \"especie_atual\": \"brongersmianus\", \"subespecie_atual\": null}, {\"altitude\": 8.0, \"familia\": \"Typhlopidae\", \"ordem\": \"Squamata\", \"subordem\": \"Serpentes\", \"ano_coleta\": 2015.0, \"qualificador_atual\": null, \"numero_catalogo\": 25359, \"genero_atual\": \"Amerotyphlops\", \"especie_atual\": \"brongersmianus\", \"subespecie_atual\": null}, {\"altitude\": 8.0, \"familia\": \"Typhlopidae\", \"ordem\": \"Squamata\", \"subordem\": \"Serpentes\", \"ano_coleta\": 2015.0, \"qualificador_atual\": null, \"numero_catalogo\": 25360, \"genero_atual\": \"Amerotyphlops\", \"especie_atual\": \"brongersmianus\", \"subespecie_atual\": null}, {\"altitude\": 9.0, \"familia\": \"Colubridae\", \"ordem\": \"Squamata\", \"subordem\": \"Serpentes\", \"ano_coleta\": 2010.0, \"qualificador_atual\": null, \"numero_catalogo\": 25909, \"genero_atual\": \"Tantilla\", \"especie_atual\": \"melanocephala\", \"subespecie_atual\": null}, {\"altitude\": 9.0, \"familia\": \"Colubridae\", \"ordem\": \"Squamata\", \"subordem\": \"Serpentes\", \"ano_coleta\": 2010.0, \"qualificador_atual\": null, \"numero_catalogo\": 25910, \"genero_atual\": \"Tantilla\", \"especie_atual\": \"melanocephala\", \"subespecie_atual\": null}, {\"altitude\": 9.0, \"familia\": \"Dipsadidae\", \"ordem\": \"Squamata\", \"subordem\": \"Serpentes\", \"ano_coleta\": 2008.0, \"qualificador_atual\": null, \"numero_catalogo\": 16398, \"genero_atual\": \"Liophis\", \"especie_atual\": \"miliaris\", \"subespecie_atual\": null}, {\"altitude\": 9.0, \"familia\": \"Dipsadidae\", \"ordem\": \"Squamata\", \"subordem\": \"Serpentes\", \"ano_coleta\": 2014.0, \"qualificador_atual\": null, \"numero_catalogo\": 25319, \"genero_atual\": \"Philodryas\", \"especie_atual\": \"olfersii\", \"subespecie_atual\": null}, {\"altitude\": 9.0, \"familia\": \"Dipsadidae\", \"ordem\": \"Squamata\", \"subordem\": \"Serpentes\", \"ano_coleta\": 2010.0, \"qualificador_atual\": null, \"numero_catalogo\": 25902, \"genero_atual\": \"Liophis\", \"especie_atual\": \"miliaris\", \"subespecie_atual\": null}, {\"altitude\": 9.0, \"familia\": \"Dipsadidae\", \"ordem\": \"Squamata\", \"subordem\": \"Serpentes\", \"ano_coleta\": 2011.0, \"qualificador_atual\": null, \"numero_catalogo\": 25904, \"genero_atual\": \"Liophis\", \"especie_atual\": \"miliaris\", \"subespecie_atual\": null}, {\"altitude\": 9.0, \"familia\": \"Elapidae\", \"ordem\": \"Squamata\", \"subordem\": \"Serpentes\", \"ano_coleta\": 2011.0, \"qualificador_atual\": null, \"numero_catalogo\": 25905, \"genero_atual\": \"Micrurus\", \"especie_atual\": \"corallinus\", \"subespecie_atual\": null}, {\"altitude\": 9.0, \"familia\": \"Gekkonidae\", \"ordem\": \"Squamata\", \"subordem\": \"Sauria\", \"ano_coleta\": 2008.0, \"qualificador_atual\": null, \"numero_catalogo\": 16547, \"genero_atual\": \"Hemidactylus\", \"especie_atual\": \"mabouia\", \"subespecie_atual\": null}, {\"altitude\": 9.0, \"familia\": \"Gekkonidae\", \"ordem\": \"Squamata\", \"subordem\": \"Sauria\", \"ano_coleta\": 2011.0, \"qualificador_atual\": null, \"numero_catalogo\": 24545, \"genero_atual\": \"Hemidactylus\", \"especie_atual\": \"mabouia\", \"subespecie_atual\": null}, {\"altitude\": 9.0, \"familia\": \"Phyllodactylidae\", \"ordem\": \"Squamata\", \"subordem\": \"Sauria\", \"ano_coleta\": 2010.0, \"qualificador_atual\": null, \"numero_catalogo\": 21646, \"genero_atual\": \"Gymnodactylus\", \"especie_atual\": \"darwinii\", \"subespecie_atual\": null}, {\"altitude\": 9.0, \"familia\": \"Teiidae\", \"ordem\": \"Squamata\", \"subordem\": \"Sauria\", \"ano_coleta\": 2011.0, \"qualificador_atual\": null, \"numero_catalogo\": 21629, \"genero_atual\": \"Ameivula\", \"especie_atual\": \"littoralis\", \"subespecie_atual\": null}, {\"altitude\": 9.0, \"familia\": \"Teiidae\", \"ordem\": \"Squamata\", \"subordem\": \"Sauria\", \"ano_coleta\": 2011.0, \"qualificador_atual\": null, \"numero_catalogo\": 21630, \"genero_atual\": \"Ameivula\", \"especie_atual\": \"littoralis\", \"subespecie_atual\": null}, {\"altitude\": 9.0, \"familia\": \"Teiidae\", \"ordem\": \"Squamata\", \"subordem\": \"Sauria\", \"ano_coleta\": 2011.0, \"qualificador_atual\": null, \"numero_catalogo\": 21631, \"genero_atual\": \"Ameivula\", \"especie_atual\": \"littoralis\", \"subespecie_atual\": null}, {\"altitude\": 9.0, \"familia\": \"Teiidae\", \"ordem\": \"Squamata\", \"subordem\": \"Sauria\", \"ano_coleta\": 2011.0, \"qualificador_atual\": null, \"numero_catalogo\": 21632, \"genero_atual\": \"Ameivula\", \"especie_atual\": \"littoralis\", \"subespecie_atual\": null}, {\"altitude\": 9.0, \"familia\": \"Teiidae\", \"ordem\": \"Squamata\", \"subordem\": \"Sauria\", \"ano_coleta\": 2011.0, \"qualificador_atual\": null, \"numero_catalogo\": 21633, \"genero_atual\": \"Ameivula\", \"especie_atual\": \"littoralis\", \"subespecie_atual\": null}, {\"altitude\": 9.0, \"familia\": \"Teiidae\", \"ordem\": \"Squamata\", \"subordem\": \"Sauria\", \"ano_coleta\": 2011.0, \"qualificador_atual\": null, \"numero_catalogo\": 21634, \"genero_atual\": \"Ameivula\", \"especie_atual\": \"littoralis\", \"subespecie_atual\": null}, {\"altitude\": 9.0, \"familia\": \"Teiidae\", \"ordem\": \"Squamata\", \"subordem\": \"Sauria\", \"ano_coleta\": 2011.0, \"qualificador_atual\": null, \"numero_catalogo\": 21635, \"genero_atual\": \"Ameivula\", \"especie_atual\": \"littoralis\", \"subespecie_atual\": null}, {\"altitude\": 9.0, \"familia\": \"Teiidae\", \"ordem\": \"Squamata\", \"subordem\": \"Sauria\", \"ano_coleta\": 2011.0, \"qualificador_atual\": null, \"numero_catalogo\": 21636, \"genero_atual\": \"Ameivula\", \"especie_atual\": \"littoralis\", \"subespecie_atual\": null}, {\"altitude\": 9.0, \"familia\": \"Teiidae\", \"ordem\": \"Squamata\", \"subordem\": \"Sauria\", \"ano_coleta\": 2010.0, \"qualificador_atual\": null, \"numero_catalogo\": 21638, \"genero_atual\": \"Ameivula\", \"especie_atual\": \"littoralis\", \"subespecie_atual\": null}, {\"altitude\": 9.0, \"familia\": \"Teiidae\", \"ordem\": \"Squamata\", \"subordem\": \"Sauria\", \"ano_coleta\": 2010.0, \"qualificador_atual\": null, \"numero_catalogo\": 21639, \"genero_atual\": \"Ameivula\", \"especie_atual\": \"littoralis\", \"subespecie_atual\": null}, {\"altitude\": 9.0, \"familia\": \"Teiidae\", \"ordem\": \"Squamata\", \"subordem\": \"Sauria\", \"ano_coleta\": 2010.0, \"qualificador_atual\": null, \"numero_catalogo\": 21640, \"genero_atual\": \"Ameivula\", \"especie_atual\": \"littoralis\", \"subespecie_atual\": null}, {\"altitude\": 9.0, \"familia\": \"Teiidae\", \"ordem\": \"Squamata\", \"subordem\": \"Sauria\", \"ano_coleta\": 2010.0, \"qualificador_atual\": null, \"numero_catalogo\": 21641, \"genero_atual\": \"Ameivula\", \"especie_atual\": \"littoralis\", \"subespecie_atual\": null}, {\"altitude\": 9.0, \"familia\": \"Teiidae\", \"ordem\": \"Squamata\", \"subordem\": \"Sauria\", \"ano_coleta\": 2010.0, \"qualificador_atual\": null, \"numero_catalogo\": 21642, \"genero_atual\": \"Ameivula\", \"especie_atual\": \"littoralis\", \"subespecie_atual\": null}, {\"altitude\": 9.0, \"familia\": \"Tropiduridae\", \"ordem\": \"Squamata\", \"subordem\": \"Sauria\", \"ano_coleta\": 2011.0, \"qualificador_atual\": null, \"numero_catalogo\": 24544, \"genero_atual\": \"Tropidurus\", \"especie_atual\": \"torquatus\", \"subespecie_atual\": null}, {\"altitude\": 9.0, \"familia\": \"Typhlopidae\", \"ordem\": \"Squamata\", \"subordem\": \"Serpentes\", \"ano_coleta\": 2014.0, \"qualificador_atual\": null, \"numero_catalogo\": 24817, \"genero_atual\": \"Amerotyphlops\", \"especie_atual\": \"brongersmianus\", \"subespecie_atual\": null}, {\"altitude\": 9.0, \"familia\": \"Typhlopidae\", \"ordem\": \"Squamata\", \"subordem\": \"Serpentes\", \"ano_coleta\": 2014.0, \"qualificador_atual\": null, \"numero_catalogo\": 25285, \"genero_atual\": \"Amerotyphlops\", \"especie_atual\": \"brongersmianus\", \"subespecie_atual\": null}, {\"altitude\": 9.0, \"familia\": \"Typhlopidae\", \"ordem\": \"Squamata\", \"subordem\": \"Serpentes\", \"ano_coleta\": 2014.0, \"qualificador_atual\": null, \"numero_catalogo\": 25286, \"genero_atual\": \"Amerotyphlops\", \"especie_atual\": \"brongersmianus\", \"subespecie_atual\": null}, {\"altitude\": 9.0, \"familia\": \"Typhlopidae\", \"ordem\": \"Squamata\", \"subordem\": \"Serpentes\", \"ano_coleta\": 2014.0, \"qualificador_atual\": null, \"numero_catalogo\": 25288, \"genero_atual\": \"Amerotyphlops\", \"especie_atual\": \"brongersmianus\", \"subespecie_atual\": null}, {\"altitude\": 9.0, \"familia\": \"Typhlopidae\", \"ordem\": \"Squamata\", \"subordem\": \"Serpentes\", \"ano_coleta\": 2015.0, \"qualificador_atual\": null, \"numero_catalogo\": 25292, \"genero_atual\": \"Amerotyphlops\", \"especie_atual\": \"brongersmianus\", \"subespecie_atual\": null}, {\"altitude\": 9.0, \"familia\": \"Typhlopidae\", \"ordem\": \"Squamata\", \"subordem\": \"Serpentes\", \"ano_coleta\": 2015.0, \"qualificador_atual\": null, \"numero_catalogo\": 25363, \"genero_atual\": \"Amerotyphlops\", \"especie_atual\": \"brongersmianus\", \"subespecie_atual\": null}, {\"altitude\": 9.0, \"familia\": \"Typhlopidae\", \"ordem\": \"Squamata\", \"subordem\": \"Serpentes\", \"ano_coleta\": 2015.0, \"qualificador_atual\": null, \"numero_catalogo\": 25364, \"genero_atual\": \"Amerotyphlops\", \"especie_atual\": \"brongersmianus\", \"subespecie_atual\": null}, {\"altitude\": 9.0, \"familia\": \"Typhlopidae\", \"ordem\": \"Squamata\", \"subordem\": \"Serpentes\", \"ano_coleta\": 2015.0, \"qualificador_atual\": null, \"numero_catalogo\": 25365, \"genero_atual\": \"Amerotyphlops\", \"especie_atual\": \"brongersmianus\", \"subespecie_atual\": null}, {\"altitude\": 9.0, \"familia\": \"Viperidae\", \"ordem\": \"Squamata\", \"subordem\": \"Serpentes\", \"ano_coleta\": 2015.0, \"qualificador_atual\": null, \"numero_catalogo\": 25373, \"genero_atual\": \"Bothrops\", \"especie_atual\": \"jararaca\", \"subespecie_atual\": null}, {\"altitude\": 10.0, \"familia\": \"Dipsadidae\", \"ordem\": \"Squamata\", \"subordem\": \"Serpentes\", \"ano_coleta\": 2015.0, \"qualificador_atual\": null, \"numero_catalogo\": 25318, \"genero_atual\": \"Oxyrhopus\", \"especie_atual\": \"petolarius\", \"subespecie_atual\": null}, {\"altitude\": 10.0, \"familia\": \"Gymnophthalmidae\", \"ordem\": \"Squamata\", \"subordem\": \"Sauria\", \"ano_coleta\": 2015.0, \"qualificador_atual\": null, \"numero_catalogo\": 25304, \"genero_atual\": \"Ecpleopus\", \"especie_atual\": \"gaudichaudii\", \"subespecie_atual\": null}, {\"altitude\": 13.0, \"familia\": \"Anguidae\", \"ordem\": \"Squamata\", \"subordem\": \"Sauria\", \"ano_coleta\": 2013.0, \"qualificador_atual\": null, \"numero_catalogo\": 23630, \"genero_atual\": \"Ophiodes\", \"especie_atual\": \"fragilis\", \"subespecie_atual\": null}, {\"altitude\": 13.0, \"familia\": \"Dipsadidae\", \"ordem\": \"Squamata\", \"subordem\": \"Serpentes\", \"ano_coleta\": 2015.0, \"qualificador_atual\": null, \"numero_catalogo\": 25380, \"genero_atual\": \"Oxyrhopus\", \"especie_atual\": \"trigeminus\", \"subespecie_atual\": null}, {\"altitude\": 13.0, \"familia\": \"Gekkonidae\", \"ordem\": \"Squamata\", \"subordem\": \"Sauria\", \"ano_coleta\": 2015.0, \"qualificador_atual\": null, \"numero_catalogo\": 25331, \"genero_atual\": \"Hemidactylus\", \"especie_atual\": \"mabouia\", \"subespecie_atual\": null}, {\"altitude\": 14.0, \"familia\": \"Dipsadidae\", \"ordem\": \"Squamata\", \"subordem\": \"Serpentes\", \"ano_coleta\": 2014.0, \"qualificador_atual\": null, \"numero_catalogo\": 24808, \"genero_atual\": \"Liophis\", \"especie_atual\": \"miliaris\", \"subespecie_atual\": null}, {\"altitude\": 14.0, \"familia\": \"Gekkonidae\", \"ordem\": \"Squamata\", \"subordem\": \"Sauria\", \"ano_coleta\": 2015.0, \"qualificador_atual\": null, \"numero_catalogo\": 25377, \"genero_atual\": \"Hemidactylus\", \"especie_atual\": \"mabouia\", \"subespecie_atual\": null}, {\"altitude\": 14.0, \"familia\": \"Gekkonidae\", \"ordem\": \"Squamata\", \"subordem\": \"Sauria\", \"ano_coleta\": 2015.0, \"qualificador_atual\": null, \"numero_catalogo\": 25378, \"genero_atual\": \"Hemidactylus\", \"especie_atual\": \"mabouia\", \"subespecie_atual\": null}, {\"altitude\": 14.0, \"familia\": \"Scincidae\", \"ordem\": \"Squamata\", \"subordem\": \"Sauria\", \"ano_coleta\": 2014.0, \"qualificador_atual\": null, \"numero_catalogo\": 24788, \"genero_atual\": \"Psychosaura\", \"especie_atual\": \"macrorhyncha\", \"subespecie_atual\": null}, {\"altitude\": 14.0, \"familia\": \"Typhlopidae\", \"ordem\": \"Squamata\", \"subordem\": \"Serpentes\", \"ano_coleta\": 2014.0, \"qualificador_atual\": null, \"numero_catalogo\": 25283, \"genero_atual\": \"Amerotyphlops\", \"especie_atual\": \"brongersmianus\", \"subespecie_atual\": null}, {\"altitude\": 14.0, \"familia\": \"Typhlopidae\", \"ordem\": \"Squamata\", \"subordem\": \"Serpentes\", \"ano_coleta\": 2014.0, \"qualificador_atual\": null, \"numero_catalogo\": 25284, \"genero_atual\": \"Amerotyphlops\", \"especie_atual\": \"brongersmianus\", \"subespecie_atual\": null}, {\"altitude\": 14.0, \"familia\": \"Typhlopidae\", \"ordem\": \"Squamata\", \"subordem\": \"Serpentes\", \"ano_coleta\": 2015.0, \"qualificador_atual\": null, \"numero_catalogo\": 25290, \"genero_atual\": \"Amerotyphlops\", \"especie_atual\": \"brongersmianus\", \"subespecie_atual\": null}, {\"altitude\": 15.0, \"familia\": \"Teiidae\", \"ordem\": \"Squamata\", \"subordem\": \"Sauria\", \"ano_coleta\": 2014.0, \"qualificador_atual\": null, \"numero_catalogo\": 25323, \"genero_atual\": \"Glaucomastix\", \"especie_atual\": \"littoralis\", \"subespecie_atual\": null}, {\"altitude\": 15.0, \"familia\": \"Teiidae\", \"ordem\": \"Squamata\", \"subordem\": \"Sauria\", \"ano_coleta\": 2014.0, \"qualificador_atual\": null, \"numero_catalogo\": 25324, \"genero_atual\": \"Glaucomastix\", \"especie_atual\": \"littoralis\", \"subespecie_atual\": null}, {\"altitude\": 15.0, \"familia\": \"Tropiduridae\", \"ordem\": \"Squamata\", \"subordem\": \"Sauria\", \"ano_coleta\": 2014.0, \"qualificador_atual\": null, \"numero_catalogo\": 24794, \"genero_atual\": \"Tropidurus\", \"especie_atual\": \"torquatus\", \"subespecie_atual\": null}, {\"altitude\": 15.0, \"familia\": \"Tropiduridae\", \"ordem\": \"Squamata\", \"subordem\": \"Sauria\", \"ano_coleta\": 2014.0, \"qualificador_atual\": null, \"numero_catalogo\": 24795, \"genero_atual\": \"Tropidurus\", \"especie_atual\": \"torquatus\", \"subespecie_atual\": null}, {\"altitude\": 15.0, \"familia\": \"Tropiduridae\", \"ordem\": \"Squamata\", \"subordem\": \"Sauria\", \"ano_coleta\": 2014.0, \"qualificador_atual\": null, \"numero_catalogo\": 24796, \"genero_atual\": \"Tropidurus\", \"especie_atual\": \"torquatus\", \"subespecie_atual\": null}, {\"altitude\": 15.0, \"familia\": \"Tropiduridae\", \"ordem\": \"Squamata\", \"subordem\": \"Sauria\", \"ano_coleta\": 2014.0, \"qualificador_atual\": null, \"numero_catalogo\": 24797, \"genero_atual\": \"Tropidurus\", \"especie_atual\": \"torquatus\", \"subespecie_atual\": null}, {\"altitude\": 15.0, \"familia\": \"Tropiduridae\", \"ordem\": \"Squamata\", \"subordem\": \"Sauria\", \"ano_coleta\": 2014.0, \"qualificador_atual\": null, \"numero_catalogo\": 24801, \"genero_atual\": \"Tropidurus\", \"especie_atual\": \"torquatus\", \"subespecie_atual\": null}, {\"altitude\": 15.0, \"familia\": \"Tropiduridae\", \"ordem\": \"Squamata\", \"subordem\": \"Sauria\", \"ano_coleta\": 2015.0, \"qualificador_atual\": null, \"numero_catalogo\": 25369, \"genero_atual\": \"Tropidurus\", \"especie_atual\": \"torquatus\", \"subespecie_atual\": null}, {\"altitude\": 15.0, \"familia\": \"Typhlopidae\", \"ordem\": \"Squamata\", \"subordem\": \"Serpentes\", \"ano_coleta\": 2014.0, \"qualificador_atual\": null, \"numero_catalogo\": 24819, \"genero_atual\": \"Amerotyphlops\", \"especie_atual\": \"brongersmianus\", \"subespecie_atual\": null}, {\"altitude\": 15.0, \"familia\": \"Typhlopidae\", \"ordem\": \"Squamata\", \"subordem\": \"Serpentes\", \"ano_coleta\": 2014.0, \"qualificador_atual\": null, \"numero_catalogo\": 25289, \"genero_atual\": \"Amerotyphlops\", \"especie_atual\": \"brongersmianus\", \"subespecie_atual\": null}, {\"altitude\": 15.0, \"familia\": \"Typhlopidae\", \"ordem\": \"Squamata\", \"subordem\": \"Serpentes\", \"ano_coleta\": 2015.0, \"qualificador_atual\": null, \"numero_catalogo\": 25291, \"genero_atual\": \"Amerotyphlops\", \"especie_atual\": \"brongersmianus\", \"subespecie_atual\": null}, {\"altitude\": 15.0, \"familia\": \"Typhlopidae\", \"ordem\": \"Squamata\", \"subordem\": \"Serpentes\", \"ano_coleta\": 2015.0, \"qualificador_atual\": null, \"numero_catalogo\": 25296, \"genero_atual\": \"Amerotyphlops\", \"especie_atual\": \"brongersmianus\", \"subespecie_atual\": null}, {\"altitude\": 15.0, \"familia\": \"Typhlopidae\", \"ordem\": \"Squamata\", \"subordem\": \"Serpentes\", \"ano_coleta\": 2015.0, \"qualificador_atual\": null, \"numero_catalogo\": 25358, \"genero_atual\": \"Amerotyphlops\", \"especie_atual\": \"brongersmianus\", \"subespecie_atual\": null}, {\"altitude\": 16.0, \"familia\": \"Gekkonidae\", \"ordem\": \"Squamata\", \"subordem\": \"Sauria\", \"ano_coleta\": 2014.0, \"qualificador_atual\": null, \"numero_catalogo\": 25329, \"genero_atual\": \"Hemidactylus\", \"especie_atual\": \"mabouia\", \"subespecie_atual\": null}, {\"altitude\": 16.0, \"familia\": \"Gekkonidae\", \"ordem\": \"Squamata\", \"subordem\": \"Sauria\", \"ano_coleta\": 2015.0, \"qualificador_atual\": null, \"numero_catalogo\": 25376, \"genero_atual\": \"Hemidactylus\", \"especie_atual\": \"mabouia\", \"subespecie_atual\": null}, {\"altitude\": 16.0, \"familia\": \"Gymnophthalmidae\", \"ordem\": \"Squamata\", \"subordem\": \"Sauria\", \"ano_coleta\": 2015.0, \"qualificador_atual\": null, \"numero_catalogo\": 25303, \"genero_atual\": \"Ecpleopus\", \"especie_atual\": \"gaudichaudii\", \"subespecie_atual\": null}, {\"altitude\": 16.0, \"familia\": \"Phyllodactylidae\", \"ordem\": \"Squamata\", \"subordem\": \"Sauria\", \"ano_coleta\": 2014.0, \"qualificador_atual\": null, \"numero_catalogo\": 24771, \"genero_atual\": \"Gymnodactylus\", \"especie_atual\": \"darwinii\", \"subespecie_atual\": null}, {\"altitude\": 16.0, \"familia\": \"Phyllodactylidae\", \"ordem\": \"Squamata\", \"subordem\": \"Sauria\", \"ano_coleta\": 2014.0, \"qualificador_atual\": null, \"numero_catalogo\": 24780, \"genero_atual\": \"Gymnodactylus\", \"especie_atual\": \"darwinii\", \"subespecie_atual\": null}, {\"altitude\": 16.0, \"familia\": \"Phyllodactylidae\", \"ordem\": \"Squamata\", \"subordem\": \"Sauria\", \"ano_coleta\": 2014.0, \"qualificador_atual\": null, \"numero_catalogo\": 25305, \"genero_atual\": \"Gymnodactylus\", \"especie_atual\": \"darwinii\", \"subespecie_atual\": null}, {\"altitude\": 16.0, \"familia\": \"Phyllodactylidae\", \"ordem\": \"Squamata\", \"subordem\": \"Sauria\", \"ano_coleta\": 2014.0, \"qualificador_atual\": null, \"numero_catalogo\": 25306, \"genero_atual\": \"Gymnodactylus\", \"especie_atual\": \"darwinii\", \"subespecie_atual\": null}, {\"altitude\": 16.0, \"familia\": \"Scincidae\", \"ordem\": \"Squamata\", \"subordem\": \"Sauria\", \"ano_coleta\": 2014.0, \"qualificador_atual\": null, \"numero_catalogo\": 25345, \"genero_atual\": \"Psychosaura\", \"especie_atual\": \"macrorhyncha\", \"subespecie_atual\": null}, {\"altitude\": 16.0, \"familia\": \"Teiidae\", \"ordem\": \"Squamata\", \"subordem\": \"Sauria\", \"ano_coleta\": 2014.0, \"qualificador_atual\": null, \"numero_catalogo\": 25327, \"genero_atual\": \"Glaucomastix\", \"especie_atual\": \"littoralis\", \"subespecie_atual\": null}, {\"altitude\": 16.0, \"familia\": \"Tropiduridae\", \"ordem\": \"Squamata\", \"subordem\": \"Sauria\", \"ano_coleta\": 2014.0, \"qualificador_atual\": null, \"numero_catalogo\": 24790, \"genero_atual\": \"Tropidurus\", \"especie_atual\": \"torquatus\", \"subespecie_atual\": null}, {\"altitude\": 16.0, \"familia\": \"Tropiduridae\", \"ordem\": \"Squamata\", \"subordem\": \"Sauria\", \"ano_coleta\": 2014.0, \"qualificador_atual\": null, \"numero_catalogo\": 24791, \"genero_atual\": \"Tropidurus\", \"especie_atual\": \"torquatus\", \"subespecie_atual\": null}, {\"altitude\": 16.0, \"familia\": \"Tropiduridae\", \"ordem\": \"Squamata\", \"subordem\": \"Sauria\", \"ano_coleta\": 2014.0, \"qualificador_atual\": null, \"numero_catalogo\": 24792, \"genero_atual\": \"Tropidurus\", \"especie_atual\": \"torquatus\", \"subespecie_atual\": null}, {\"altitude\": 16.0, \"familia\": \"Tropiduridae\", \"ordem\": \"Squamata\", \"subordem\": \"Sauria\", \"ano_coleta\": 2014.0, \"qualificador_atual\": null, \"numero_catalogo\": 24793, \"genero_atual\": \"Tropidurus\", \"especie_atual\": \"torquatus\", \"subespecie_atual\": null}, {\"altitude\": 16.0, \"familia\": \"Typhlopidae\", \"ordem\": \"Squamata\", \"subordem\": \"Serpentes\", \"ano_coleta\": 2015.0, \"qualificador_atual\": null, \"numero_catalogo\": 25295, \"genero_atual\": \"Amerotyphlops\", \"especie_atual\": \"brongersmianus\", \"subespecie_atual\": null}, {\"altitude\": 16.0, \"familia\": \"Typhlopidae\", \"ordem\": \"Squamata\", \"subordem\": \"Serpentes\", \"ano_coleta\": 2015.0, \"qualificador_atual\": null, \"numero_catalogo\": 25367, \"genero_atual\": \"Amerotyphlops\", \"especie_atual\": \"brongersmianus\", \"subespecie_atual\": null}, {\"altitude\": 16.0, \"familia\": \"Typhlopidae\", \"ordem\": \"Squamata\", \"subordem\": \"Serpentes\", \"ano_coleta\": 2016.0, \"qualificador_atual\": null, \"numero_catalogo\": 26220, \"genero_atual\": \"Amerotyphlops\", \"especie_atual\": \"brongersmianus\", \"subespecie_atual\": null}, {\"altitude\": 17.0, \"familia\": \"Anguidae\", \"ordem\": \"Squamata\", \"subordem\": \"Sauria\", \"ano_coleta\": 2013.0, \"qualificador_atual\": null, \"numero_catalogo\": 24403, \"genero_atual\": \"Ophiodes\", \"especie_atual\": \"striatus\", \"subespecie_atual\": null}, {\"altitude\": 17.0, \"familia\": \"Viperidae\", \"ordem\": \"Squamata\", \"subordem\": \"Serpentes\", \"ano_coleta\": 2014.0, \"qualificador_atual\": null, \"numero_catalogo\": 25300, \"genero_atual\": \"Bothrops\", \"especie_atual\": \"jararaca\", \"subespecie_atual\": null}, {\"altitude\": 18.0, \"familia\": \"Colubridae\", \"ordem\": \"Squamata\", \"subordem\": \"Serpentes\", \"ano_coleta\": 2010.0, \"qualificador_atual\": null, \"numero_catalogo\": 25900, \"genero_atual\": \"Leptophis\", \"especie_atual\": \"ahaetulla\", \"subespecie_atual\": null}, {\"altitude\": 18.0, \"familia\": \"Dipsadidae\", \"ordem\": \"Squamata\", \"subordem\": \"Serpentes\", \"ano_coleta\": 2003.0, \"qualificador_atual\": null, \"numero_catalogo\": 10955, \"genero_atual\": \"Liophis\", \"especie_atual\": \"miliaris\", \"subespecie_atual\": null}, {\"altitude\": 18.0, \"familia\": \"Dipsadidae\", \"ordem\": \"Squamata\", \"subordem\": \"Serpentes\", \"ano_coleta\": 2010.0, \"qualificador_atual\": null, \"numero_catalogo\": 25906, \"genero_atual\": \"Oxyrhopus\", \"especie_atual\": \"trigeminus\", \"subespecie_atual\": null}, {\"altitude\": 18.0, \"familia\": \"Dipsadidae\", \"ordem\": \"Squamata\", \"subordem\": \"Serpentes\", \"ano_coleta\": 2010.0, \"qualificador_atual\": null, \"numero_catalogo\": 25907, \"genero_atual\": \"Oxyrhopus\", \"especie_atual\": \"trigeminus\", \"subespecie_atual\": null}, {\"altitude\": 18.0, \"familia\": \"Dipsadidae\", \"ordem\": \"Squamata\", \"subordem\": \"Serpentes\", \"ano_coleta\": 2010.0, \"qualificador_atual\": null, \"numero_catalogo\": 25908, \"genero_atual\": \"Oxyrhopus\", \"especie_atual\": \"trigeminus\", \"subespecie_atual\": null}, {\"altitude\": 18.0, \"familia\": \"Gymnophthalmidae\", \"ordem\": \"Squamata\", \"subordem\": \"Sauria\", \"ano_coleta\": 2010.0, \"qualificador_atual\": null, \"numero_catalogo\": 25894, \"genero_atual\": \"Ecpleopus\", \"especie_atual\": \"gaudichaudii\", \"subespecie_atual\": null}, {\"altitude\": 18.0, \"familia\": \"Gymnophthalmidae\", \"ordem\": \"Squamata\", \"subordem\": \"Sauria\", \"ano_coleta\": 2010.0, \"qualificador_atual\": null, \"numero_catalogo\": 25895, \"genero_atual\": \"Ecpleopus\", \"especie_atual\": \"gaudichaudii\", \"subespecie_atual\": null}, {\"altitude\": 18.0, \"familia\": \"Gymnophthalmidae\", \"ordem\": \"Squamata\", \"subordem\": \"Sauria\", \"ano_coleta\": 2010.0, \"qualificador_atual\": null, \"numero_catalogo\": 25896, \"genero_atual\": \"Ecpleopus\", \"especie_atual\": \"gaudichaudii\", \"subespecie_atual\": null}, {\"altitude\": 18.0, \"familia\": \"Gymnophthalmidae\", \"ordem\": \"Squamata\", \"subordem\": \"Sauria\", \"ano_coleta\": 2010.0, \"qualificador_atual\": null, \"numero_catalogo\": 25897, \"genero_atual\": \"Ecpleopus\", \"especie_atual\": \"gaudichaudii\", \"subespecie_atual\": null}, {\"altitude\": 18.0, \"familia\": \"Gymnophthalmidae\", \"ordem\": \"Squamata\", \"subordem\": \"Sauria\", \"ano_coleta\": 2010.0, \"qualificador_atual\": null, \"numero_catalogo\": 25898, \"genero_atual\": \"Ecpleopus\", \"especie_atual\": \"gaudichaudii\", \"subespecie_atual\": null}, {\"altitude\": 18.0, \"familia\": \"Gymnophthalmidae\", \"ordem\": \"Squamata\", \"subordem\": \"Sauria\", \"ano_coleta\": 2010.0, \"qualificador_atual\": null, \"numero_catalogo\": 25899, \"genero_atual\": \"Ecpleopus\", \"especie_atual\": \"gaudichaudii\", \"subespecie_atual\": null}, {\"altitude\": 18.0, \"familia\": \"Phyllodactylidae\", \"ordem\": \"Squamata\", \"subordem\": \"Sauria\", \"ano_coleta\": 2010.0, \"qualificador_atual\": null, \"numero_catalogo\": 21643, \"genero_atual\": \"Gymnodactylus\", \"especie_atual\": \"darwinii\", \"subespecie_atual\": null}, {\"altitude\": 18.0, \"familia\": \"Phyllodactylidae\", \"ordem\": \"Squamata\", \"subordem\": \"Sauria\", \"ano_coleta\": 2010.0, \"qualificador_atual\": null, \"numero_catalogo\": 21644, \"genero_atual\": \"Gymnodactylus\", \"especie_atual\": \"darwinii\", \"subespecie_atual\": null}, {\"altitude\": 18.0, \"familia\": \"Phyllodactylidae\", \"ordem\": \"Squamata\", \"subordem\": \"Sauria\", \"ano_coleta\": 2010.0, \"qualificador_atual\": null, \"numero_catalogo\": 21645, \"genero_atual\": \"Gymnodactylus\", \"especie_atual\": \"darwinii\", \"subespecie_atual\": null}, {\"altitude\": 19.0, \"familia\": \"Amphisbaenidae\", \"ordem\": \"Squamata\", \"subordem\": \"Amphisbaenia\", \"ano_coleta\": 2015.0, \"qualificador_atual\": \"sp.\", \"numero_catalogo\": 25328, \"genero_atual\": \"Amphisbaena\", \"especie_atual\": null, \"subespecie_atual\": null}, {\"altitude\": 19.0, \"familia\": \"Phyllodactylidae\", \"ordem\": \"Squamata\", \"subordem\": \"Sauria\", \"ano_coleta\": 2014.0, \"qualificador_atual\": null, \"numero_catalogo\": 24773, \"genero_atual\": \"Gymnodactylus\", \"especie_atual\": \"darwinii\", \"subespecie_atual\": null}, {\"altitude\": 19.0, \"familia\": \"Phyllodactylidae\", \"ordem\": \"Squamata\", \"subordem\": \"Sauria\", \"ano_coleta\": 2014.0, \"qualificador_atual\": null, \"numero_catalogo\": 24778, \"genero_atual\": \"Gymnodactylus\", \"especie_atual\": \"darwinii\", \"subespecie_atual\": null}, {\"altitude\": 19.0, \"familia\": \"Phyllodactylidae\", \"ordem\": \"Squamata\", \"subordem\": \"Sauria\", \"ano_coleta\": 2015.0, \"qualificador_atual\": null, \"numero_catalogo\": 25312, \"genero_atual\": \"Gymnodactylus\", \"especie_atual\": \"darwinii\", \"subespecie_atual\": null}, {\"altitude\": 19.0, \"familia\": \"Phyllodactylidae\", \"ordem\": \"Squamata\", \"subordem\": \"Sauria\", \"ano_coleta\": 2015.0, \"qualificador_atual\": null, \"numero_catalogo\": 25314, \"genero_atual\": \"Gymnodactylus\", \"especie_atual\": \"darwinii\", \"subespecie_atual\": null}, {\"altitude\": 19.0, \"familia\": \"Scincidae\", \"ordem\": \"Squamata\", \"subordem\": \"Sauria\", \"ano_coleta\": 2014.0, \"qualificador_atual\": null, \"numero_catalogo\": 25334, \"genero_atual\": \"Brasiliscincus\", \"especie_atual\": \"agilis\", \"subespecie_atual\": null}, {\"altitude\": 19.0, \"familia\": \"Scincidae\", \"ordem\": \"Squamata\", \"subordem\": \"Sauria\", \"ano_coleta\": 2014.0, \"qualificador_atual\": null, \"numero_catalogo\": 25335, \"genero_atual\": \"Brasiliscincus\", \"especie_atual\": \"agilis\", \"subespecie_atual\": null}, {\"altitude\": 19.0, \"familia\": \"Scincidae\", \"ordem\": \"Squamata\", \"subordem\": \"Sauria\", \"ano_coleta\": 2014.0, \"qualificador_atual\": null, \"numero_catalogo\": 25337, \"genero_atual\": \"Brasiliscincus\", \"especie_atual\": \"agilis\", \"subespecie_atual\": null}, {\"altitude\": 19.0, \"familia\": \"Scincidae\", \"ordem\": \"Squamata\", \"subordem\": \"Sauria\", \"ano_coleta\": 2014.0, \"qualificador_atual\": null, \"numero_catalogo\": 25339, \"genero_atual\": \"Psychosaura\", \"especie_atual\": \"macrorhyncha\", \"subespecie_atual\": null}, {\"altitude\": 19.0, \"familia\": \"Scincidae\", \"ordem\": \"Squamata\", \"subordem\": \"Sauria\", \"ano_coleta\": 2014.0, \"qualificador_atual\": null, \"numero_catalogo\": 25340, \"genero_atual\": \"Psychosaura\", \"especie_atual\": \"macrorhyncha\", \"subespecie_atual\": null}, {\"altitude\": 19.0, \"familia\": \"Scincidae\", \"ordem\": \"Squamata\", \"subordem\": \"Sauria\", \"ano_coleta\": 2014.0, \"qualificador_atual\": null, \"numero_catalogo\": 25341, \"genero_atual\": \"Psychosaura\", \"especie_atual\": \"macrorhyncha\", \"subespecie_atual\": null}, {\"altitude\": 19.0, \"familia\": \"Scincidae\", \"ordem\": \"Squamata\", \"subordem\": \"Sauria\", \"ano_coleta\": 2014.0, \"qualificador_atual\": null, \"numero_catalogo\": 25342, \"genero_atual\": \"Psychosaura\", \"especie_atual\": \"macrorhyncha\", \"subespecie_atual\": null}, {\"altitude\": 19.0, \"familia\": \"Scincidae\", \"ordem\": \"Squamata\", \"subordem\": \"Sauria\", \"ano_coleta\": 2014.0, \"qualificador_atual\": null, \"numero_catalogo\": 25343, \"genero_atual\": \"Psychosaura\", \"especie_atual\": \"macrorhyncha\", \"subespecie_atual\": null}, {\"altitude\": 19.0, \"familia\": \"Scincidae\", \"ordem\": \"Squamata\", \"subordem\": \"Sauria\", \"ano_coleta\": 2014.0, \"qualificador_atual\": null, \"numero_catalogo\": 25344, \"genero_atual\": \"Psychosaura\", \"especie_atual\": \"macrorhyncha\", \"subespecie_atual\": null}, {\"altitude\": 19.0, \"familia\": \"Teiidae\", \"ordem\": \"Squamata\", \"subordem\": \"Sauria\", \"ano_coleta\": 2014.0, \"qualificador_atual\": null, \"numero_catalogo\": 24802, \"genero_atual\": \"Salvator\", \"especie_atual\": \"merianae\", \"subespecie_atual\": null}, {\"altitude\": 19.0, \"familia\": \"Teiidae\", \"ordem\": \"Squamata\", \"subordem\": \"Sauria\", \"ano_coleta\": 2014.0, \"qualificador_atual\": null, \"numero_catalogo\": 25325, \"genero_atual\": \"Glaucomastix\", \"especie_atual\": \"littoralis\", \"subespecie_atual\": null}, {\"altitude\": 19.0, \"familia\": \"Teiidae\", \"ordem\": \"Squamata\", \"subordem\": \"Sauria\", \"ano_coleta\": 2014.0, \"qualificador_atual\": null, \"numero_catalogo\": 25326, \"genero_atual\": \"Glaucomastix\", \"especie_atual\": \"littoralis\", \"subespecie_atual\": null}, {\"altitude\": 19.0, \"familia\": \"Typhlopidae\", \"ordem\": \"Squamata\", \"subordem\": \"Serpentes\", \"ano_coleta\": 2014.0, \"qualificador_atual\": null, \"numero_catalogo\": 24818, \"genero_atual\": \"Amerotyphlops\", \"especie_atual\": \"brongersmianus\", \"subespecie_atual\": null}, {\"altitude\": 19.0, \"familia\": \"Typhlopidae\", \"ordem\": \"Squamata\", \"subordem\": \"Serpentes\", \"ano_coleta\": 2014.0, \"qualificador_atual\": null, \"numero_catalogo\": 24820, \"genero_atual\": \"Amerotyphlops\", \"especie_atual\": \"brongersmianus\", \"subespecie_atual\": null}, {\"altitude\": 19.0, \"familia\": \"Typhlopidae\", \"ordem\": \"Squamata\", \"subordem\": \"Serpentes\", \"ano_coleta\": 2015.0, \"qualificador_atual\": null, \"numero_catalogo\": 25298, \"genero_atual\": \"Amerotyphlops\", \"especie_atual\": \"brongersmianus\", \"subespecie_atual\": null}, {\"altitude\": 19.0, \"familia\": \"Typhlopidae\", \"ordem\": \"Squamata\", \"subordem\": \"Serpentes\", \"ano_coleta\": 2015.0, \"qualificador_atual\": null, \"numero_catalogo\": 25361, \"genero_atual\": \"Amerotyphlops\", \"especie_atual\": \"brongersmianus\", \"subespecie_atual\": null}, {\"altitude\": 19.0, \"familia\": \"Typhlopidae\", \"ordem\": \"Squamata\", \"subordem\": \"Serpentes\", \"ano_coleta\": 2015.0, \"qualificador_atual\": null, \"numero_catalogo\": 25362, \"genero_atual\": \"Amerotyphlops\", \"especie_atual\": \"brongersmianus\", \"subespecie_atual\": null}, {\"altitude\": 19.0, \"familia\": \"Viperidae\", \"ordem\": \"Squamata\", \"subordem\": \"Serpentes\", \"ano_coleta\": 2016.0, \"qualificador_atual\": null, \"numero_catalogo\": 26219, \"genero_atual\": \"Bothrops\", \"especie_atual\": \"jararaca\", \"subespecie_atual\": null}, {\"altitude\": 20.0, \"familia\": \"Dipsadidae\", \"ordem\": \"Squamata\", \"subordem\": \"Serpentes\", \"ano_coleta\": 2003.0, \"qualificador_atual\": null, \"numero_catalogo\": 10973, \"genero_atual\": \"Helicops\", \"especie_atual\": \"carinicaudus\", \"subespecie_atual\": null}, {\"altitude\": 22.0, \"familia\": \"Dipsadidae\", \"ordem\": \"Squamata\", \"subordem\": \"Serpentes\", \"ano_coleta\": 2009.0, \"qualificador_atual\": null, \"numero_catalogo\": 17829, \"genero_atual\": \"Helicops\", \"especie_atual\": \"carinicaudus\", \"subespecie_atual\": null}, {\"altitude\": 22.0, \"familia\": \"Dipsadidae\", \"ordem\": \"Squamata\", \"subordem\": \"Serpentes\", \"ano_coleta\": 2013.0, \"qualificador_atual\": null, \"numero_catalogo\": 23628, \"genero_atual\": \"Helicops\", \"especie_atual\": \"carinicaudus\", \"subespecie_atual\": null}, {\"altitude\": 22.0, \"familia\": \"Dipsadidae\", \"ordem\": \"Squamata\", \"subordem\": \"Serpentes\", \"ano_coleta\": 2013.0, \"qualificador_atual\": null, \"numero_catalogo\": 23632, \"genero_atual\": \"Sibynomorphus\", \"especie_atual\": \"neuwiedi\", \"subespecie_atual\": null}, {\"altitude\": 22.0, \"familia\": \"Gekkonidae\", \"ordem\": \"Squamata\", \"subordem\": \"Sauria\", \"ano_coleta\": 2013.0, \"qualificador_atual\": null, \"numero_catalogo\": 23629, \"genero_atual\": \"Hemidactylus\", \"especie_atual\": \"mabouia\", \"subespecie_atual\": null}, {\"altitude\": 22.0, \"familia\": \"Scincidae\", \"ordem\": \"Squamata\", \"subordem\": \"Sauria\", \"ano_coleta\": 2013.0, \"qualificador_atual\": null, \"numero_catalogo\": 23631, \"genero_atual\": \"Mabuya\", \"especie_atual\": \"macrorhyncha\", \"subespecie_atual\": null}, {\"altitude\": 22.0, \"familia\": \"Tropiduridae\", \"ordem\": \"Squamata\", \"subordem\": \"Sauria\", \"ano_coleta\": 2013.0, \"qualificador_atual\": null, \"numero_catalogo\": 23633, \"genero_atual\": \"Tropidurus\", \"especie_atual\": \"torquatus\", \"subespecie_atual\": null}, {\"altitude\": 24.0, \"familia\": \"Dipsadidae\", \"ordem\": \"Squamata\", \"subordem\": \"Serpentes\", \"ano_coleta\": 2015.0, \"qualificador_atual\": null, \"numero_catalogo\": 25379, \"genero_atual\": \"Oxyrhopus\", \"especie_atual\": \"trigeminus\", \"subespecie_atual\": null}, {\"altitude\": 24.0, \"familia\": \"Dipsadidae\", \"ordem\": \"Squamata\", \"subordem\": \"Serpentes\", \"ano_coleta\": 2016.0, \"qualificador_atual\": null, \"numero_catalogo\": 26217, \"genero_atual\": \"Liophis\", \"especie_atual\": \"miliaris\", \"subespecie_atual\": null}, {\"altitude\": 24.0, \"familia\": \"Gekkonidae\", \"ordem\": \"Squamata\", \"subordem\": \"Sauria\", \"ano_coleta\": 2015.0, \"qualificador_atual\": null, \"numero_catalogo\": 25374, \"genero_atual\": \"Hemidactylus\", \"especie_atual\": \"mabouia\", \"subespecie_atual\": null}, {\"altitude\": 24.0, \"familia\": \"Phyllodactylidae\", \"ordem\": \"Squamata\", \"subordem\": \"Sauria\", \"ano_coleta\": 2014.0, \"qualificador_atual\": null, \"numero_catalogo\": 24779, \"genero_atual\": \"Gymnodactylus\", \"especie_atual\": \"darwinii\", \"subespecie_atual\": null}, {\"altitude\": 24.0, \"familia\": \"Phyllodactylidae\", \"ordem\": \"Squamata\", \"subordem\": \"Sauria\", \"ano_coleta\": 2014.0, \"qualificador_atual\": null, \"numero_catalogo\": 25309, \"genero_atual\": \"Gymnodactylus\", \"especie_atual\": \"darwinii\", \"subespecie_atual\": null}, {\"altitude\": 24.0, \"familia\": \"Phyllodactylidae\", \"ordem\": \"Squamata\", \"subordem\": \"Sauria\", \"ano_coleta\": 2014.0, \"qualificador_atual\": null, \"numero_catalogo\": 25310, \"genero_atual\": \"Gymnodactylus\", \"especie_atual\": \"darwinii\", \"subespecie_atual\": null}, {\"altitude\": 24.0, \"familia\": \"Phyllodactylidae\", \"ordem\": \"Squamata\", \"subordem\": \"Sauria\", \"ano_coleta\": 2015.0, \"qualificador_atual\": null, \"numero_catalogo\": 25313, \"genero_atual\": \"Gymnodactylus\", \"especie_atual\": \"darwinii\", \"subespecie_atual\": null}, {\"altitude\": 24.0, \"familia\": \"Teiidae\", \"ordem\": \"Squamata\", \"subordem\": \"Sauria\", \"ano_coleta\": 2014.0, \"qualificador_atual\": null, \"numero_catalogo\": 24803, \"genero_atual\": \"Glaucomastix\", \"especie_atual\": \"littoralis\", \"subespecie_atual\": null}, {\"altitude\": 24.0, \"familia\": \"Teiidae\", \"ordem\": \"Squamata\", \"subordem\": \"Sauria\", \"ano_coleta\": 2014.0, \"qualificador_atual\": null, \"numero_catalogo\": 24804, \"genero_atual\": \"Glaucomastix\", \"especie_atual\": \"littoralis\", \"subespecie_atual\": null}, {\"altitude\": 24.0, \"familia\": \"Teiidae\", \"ordem\": \"Squamata\", \"subordem\": \"Sauria\", \"ano_coleta\": 2014.0, \"qualificador_atual\": null, \"numero_catalogo\": 24805, \"genero_atual\": \"Glaucomastix\", \"especie_atual\": \"littoralis\", \"subespecie_atual\": null}, {\"altitude\": 24.0, \"familia\": \"Teiidae\", \"ordem\": \"Squamata\", \"subordem\": \"Sauria\", \"ano_coleta\": 2014.0, \"qualificador_atual\": null, \"numero_catalogo\": 24806, \"genero_atual\": \"Glaucomastix\", \"especie_atual\": \"littoralis\", \"subespecie_atual\": null}, {\"altitude\": 24.0, \"familia\": \"Tropiduridae\", \"ordem\": \"Squamata\", \"subordem\": \"Sauria\", \"ano_coleta\": 2014.0, \"qualificador_atual\": null, \"numero_catalogo\": 24800, \"genero_atual\": \"Tropidurus\", \"especie_atual\": \"torquatus\", \"subespecie_atual\": null}, {\"altitude\": 24.0, \"familia\": \"Typhlopidae\", \"ordem\": \"Squamata\", \"subordem\": \"Serpentes\", \"ano_coleta\": 2015.0, \"qualificador_atual\": null, \"numero_catalogo\": 25357, \"genero_atual\": \"Amerotyphlops\", \"especie_atual\": \"brongersmianus\", \"subespecie_atual\": null}, {\"altitude\": 24.0, \"familia\": \"Viperidae\", \"ordem\": \"Squamata\", \"subordem\": \"Serpentes\", \"ano_coleta\": 2015.0, \"qualificador_atual\": null, \"numero_catalogo\": 25371, \"genero_atual\": \"Bothrops\", \"especie_atual\": \"jararaca\", \"subespecie_atual\": null}, {\"altitude\": 25.0, \"familia\": \"Dipsadidae\", \"ordem\": \"Squamata\", \"subordem\": \"Serpentes\", \"ano_coleta\": null, \"qualificador_atual\": null, \"numero_catalogo\": 18098, \"genero_atual\": \"Oxyrhopus\", \"especie_atual\": \"petolarius\", \"subespecie_atual\": \"digitalis\"}, {\"altitude\": 25.0, \"familia\": \"Gymnophthalmidae\", \"ordem\": \"Squamata\", \"subordem\": \"Sauria\", \"ano_coleta\": 2008.0, \"qualificador_atual\": null, \"numero_catalogo\": 16433, \"genero_atual\": \"Ecpleopus\", \"especie_atual\": \"gaudichaudii\", \"subespecie_atual\": null}, {\"altitude\": 25.0, \"familia\": \"Gymnophthalmidae\", \"ordem\": \"Squamata\", \"subordem\": \"Sauria\", \"ano_coleta\": 2008.0, \"qualificador_atual\": null, \"numero_catalogo\": 16434, \"genero_atual\": \"Ecpleopus\", \"especie_atual\": \"gaudichaudii\", \"subespecie_atual\": null}, {\"altitude\": 25.0, \"familia\": \"Gymnophthalmidae\", \"ordem\": \"Squamata\", \"subordem\": \"Sauria\", \"ano_coleta\": 1971.0, \"qualificador_atual\": null, \"numero_catalogo\": 16435, \"genero_atual\": \"Ecpleopus\", \"especie_atual\": \"gaudichaudii\", \"subespecie_atual\": null}, {\"altitude\": 25.0, \"familia\": \"Phyllodactylidae\", \"ordem\": \"Squamata\", \"subordem\": \"Sauria\", \"ano_coleta\": 2008.0, \"qualificador_atual\": null, \"numero_catalogo\": 16391, \"genero_atual\": \"Gymnodactylus\", \"especie_atual\": \"darwinii\", \"subespecie_atual\": null}, {\"altitude\": 25.0, \"familia\": \"Phyllodactylidae\", \"ordem\": \"Squamata\", \"subordem\": \"Sauria\", \"ano_coleta\": 2008.0, \"qualificador_atual\": null, \"numero_catalogo\": 16392, \"genero_atual\": \"Gymnodactylus\", \"especie_atual\": \"darwinii\", \"subespecie_atual\": null}, {\"altitude\": 25.0, \"familia\": \"Phyllodactylidae\", \"ordem\": \"Squamata\", \"subordem\": \"Sauria\", \"ano_coleta\": 2008.0, \"qualificador_atual\": null, \"numero_catalogo\": 16393, \"genero_atual\": \"Gymnodactylus\", \"especie_atual\": \"darwinii\", \"subespecie_atual\": null}, {\"altitude\": 25.0, \"familia\": \"Phyllodactylidae\", \"ordem\": \"Squamata\", \"subordem\": \"Sauria\", \"ano_coleta\": 2008.0, \"qualificador_atual\": null, \"numero_catalogo\": 16394, \"genero_atual\": \"Gymnodactylus\", \"especie_atual\": \"darwinii\", \"subespecie_atual\": null}, {\"altitude\": 25.0, \"familia\": \"Phyllodactylidae\", \"ordem\": \"Squamata\", \"subordem\": \"Sauria\", \"ano_coleta\": 2008.0, \"qualificador_atual\": null, \"numero_catalogo\": 16395, \"genero_atual\": \"Gymnodactylus\", \"especie_atual\": \"darwinii\", \"subespecie_atual\": null}, {\"altitude\": 25.0, \"familia\": \"Phyllodactylidae\", \"ordem\": \"Squamata\", \"subordem\": \"Sauria\", \"ano_coleta\": 2008.0, \"qualificador_atual\": null, \"numero_catalogo\": 16396, \"genero_atual\": \"Gymnodactylus\", \"especie_atual\": \"darwinii\", \"subespecie_atual\": null}, {\"altitude\": 25.0, \"familia\": \"Phyllodactylidae\", \"ordem\": \"Squamata\", \"subordem\": \"Sauria\", \"ano_coleta\": 2008.0, \"qualificador_atual\": null, \"numero_catalogo\": 16397, \"genero_atual\": \"Gymnodactylus\", \"especie_atual\": \"darwinii\", \"subespecie_atual\": null}, {\"altitude\": 25.0, \"familia\": \"Typhlopidae\", \"ordem\": \"Squamata\", \"subordem\": \"Serpentes\", \"ano_coleta\": 2015.0, \"qualificador_atual\": null, \"numero_catalogo\": 25356, \"genero_atual\": \"Amerotyphlops\", \"especie_atual\": \"brongersmianus\", \"subespecie_atual\": null}, {\"altitude\": 26.0, \"familia\": \"Dipsadidae\", \"ordem\": \"Squamata\", \"subordem\": \"Serpentes\", \"ano_coleta\": 2004.0, \"qualificador_atual\": null, \"numero_catalogo\": 12507, \"genero_atual\": \"Liophis\", \"especie_atual\": \"miliaris\", \"subespecie_atual\": null}, {\"altitude\": 26.0, \"familia\": \"Dipsadidae\", \"ordem\": \"Squamata\", \"subordem\": \"Serpentes\", \"ano_coleta\": 2006.0, \"qualificador_atual\": null, \"numero_catalogo\": 15205, \"genero_atual\": \"Liophis\", \"especie_atual\": \"poecilogyrus\", \"subespecie_atual\": null}, {\"altitude\": 26.0, \"familia\": \"Dipsadidae\", \"ordem\": \"Squamata\", \"subordem\": \"Serpentes\", \"ano_coleta\": 2006.0, \"qualificador_atual\": null, \"numero_catalogo\": 15206, \"genero_atual\": \"Liophis\", \"especie_atual\": \"poecilogyrus\", \"subespecie_atual\": null}, {\"altitude\": 27.0, \"familia\": \"Phyllodactylidae\", \"ordem\": \"Squamata\", \"subordem\": \"Sauria\", \"ano_coleta\": 2014.0, \"qualificador_atual\": null, \"numero_catalogo\": 25311, \"genero_atual\": \"Gymnodactylus\", \"especie_atual\": \"darwinii\", \"subespecie_atual\": null}, {\"altitude\": 27.0, \"familia\": \"Typhlopidae\", \"ordem\": \"Squamata\", \"subordem\": \"Serpentes\", \"ano_coleta\": 2015.0, \"qualificador_atual\": null, \"numero_catalogo\": 25368, \"genero_atual\": \"Amerotyphlops\", \"especie_atual\": \"brongersmianus\", \"subespecie_atual\": null}, {\"altitude\": 28.0, \"familia\": \"Gekkonidae\", \"ordem\": \"Squamata\", \"subordem\": \"Sauria\", \"ano_coleta\": 2015.0, \"qualificador_atual\": null, \"numero_catalogo\": 25375, \"genero_atual\": \"Hemidactylus\", \"especie_atual\": \"mabouia\", \"subespecie_atual\": null}, {\"altitude\": 28.0, \"familia\": \"Gymnophthalmidae\", \"ordem\": \"Squamata\", \"subordem\": \"Sauria\", \"ano_coleta\": 2014.0, \"qualificador_atual\": null, \"numero_catalogo\": 24770, \"genero_atual\": \"Ecpleopus\", \"especie_atual\": \"gaudichaudii\", \"subespecie_atual\": null}, {\"altitude\": 28.0, \"familia\": \"Gymnophthalmidae\", \"ordem\": \"Squamata\", \"subordem\": \"Sauria\", \"ano_coleta\": 2014.0, \"qualificador_atual\": null, \"numero_catalogo\": 25301, \"genero_atual\": \"Ecpleopus\", \"especie_atual\": \"gaudichaudii\", \"subespecie_atual\": null}, {\"altitude\": 28.0, \"familia\": \"Typhlopidae\", \"ordem\": \"Squamata\", \"subordem\": \"Serpentes\", \"ano_coleta\": 2015.0, \"qualificador_atual\": null, \"numero_catalogo\": 25294, \"genero_atual\": \"Amerotyphlops\", \"especie_atual\": \"brongersmianus\", \"subespecie_atual\": null}, {\"altitude\": 30.0, \"familia\": \"Dipsadidae\", \"ordem\": \"Squamata\", \"subordem\": \"Serpentes\", \"ano_coleta\": 2004.0, \"qualificador_atual\": null, \"numero_catalogo\": 12506, \"genero_atual\": \"Philodryas\", \"especie_atual\": \"olfersii\", \"subespecie_atual\": null}, {\"altitude\": 30.0, \"familia\": \"Dipsadidae\", \"ordem\": \"Squamata\", \"subordem\": \"Serpentes\", \"ano_coleta\": 2008.0, \"qualificador_atual\": null, \"numero_catalogo\": 24864, \"genero_atual\": \"Atractus\", \"especie_atual\": \"boimirim\", \"subespecie_atual\": null}, {\"altitude\": 30.0, \"familia\": \"Tropiduridae\", \"ordem\": \"Squamata\", \"subordem\": \"Sauria\", \"ano_coleta\": 2013.0, \"qualificador_atual\": null, \"numero_catalogo\": 23634, \"genero_atual\": \"Tropidurus\", \"especie_atual\": \"torquatus\", \"subespecie_atual\": null}, {\"altitude\": 32.0, \"familia\": \"Phyllodactylidae\", \"ordem\": \"Squamata\", \"subordem\": \"Sauria\", \"ano_coleta\": 2013.0, \"qualificador_atual\": null, \"numero_catalogo\": 23627, \"genero_atual\": \"Gymnodactylus\", \"especie_atual\": \"darwinii\", \"subespecie_atual\": null}, {\"altitude\": 32.0, \"familia\": \"Teiidae\", \"ordem\": \"Squamata\", \"subordem\": \"Sauria\", \"ano_coleta\": 2013.0, \"qualificador_atual\": null, \"numero_catalogo\": 23635, \"genero_atual\": \"Salvator\", \"especie_atual\": \"merianae\", \"subespecie_atual\": null}, {\"altitude\": 33.0, \"familia\": \"Dipsadidae\", \"ordem\": \"Squamata\", \"subordem\": \"Serpentes\", \"ano_coleta\": 2010.0, \"qualificador_atual\": null, \"numero_catalogo\": 25901, \"genero_atual\": \"Liophis\", \"especie_atual\": \"miliaris\", \"subespecie_atual\": null}, {\"altitude\": 33.0, \"familia\": \"Dipsadidae\", \"ordem\": \"Squamata\", \"subordem\": \"Serpentes\", \"ano_coleta\": 2011.0, \"qualificador_atual\": null, \"numero_catalogo\": 25912, \"genero_atual\": \"Oxyrhopus\", \"especie_atual\": \"petolarius\", \"subespecie_atual\": null}, {\"altitude\": 33.0, \"familia\": \"Gekkonidae\", \"ordem\": \"Squamata\", \"subordem\": \"Sauria\", \"ano_coleta\": 2010.0, \"qualificador_atual\": null, \"numero_catalogo\": 24541, \"genero_atual\": \"Hemidactylus\", \"especie_atual\": \"mabouia\", \"subespecie_atual\": null}, {\"altitude\": 33.0, \"familia\": \"Gymnophthalmidae\", \"ordem\": \"Squamata\", \"subordem\": \"Sauria\", \"ano_coleta\": 2010.0, \"qualificador_atual\": null, \"numero_catalogo\": 21647, \"genero_atual\": \"Ecpleopus\", \"especie_atual\": \"gaudichaudii\", \"subespecie_atual\": null}, {\"altitude\": 33.0, \"familia\": \"Gymnophthalmidae\", \"ordem\": \"Squamata\", \"subordem\": \"Sauria\", \"ano_coleta\": 2010.0, \"qualificador_atual\": null, \"numero_catalogo\": 24540, \"genero_atual\": \"Ecpleopus\", \"especie_atual\": \"gaudichaudii\", \"subespecie_atual\": null}, {\"altitude\": 33.0, \"familia\": \"Gymnophthalmidae\", \"ordem\": \"Squamata\", \"subordem\": \"Sauria\", \"ano_coleta\": 2010.0, \"qualificador_atual\": null, \"numero_catalogo\": 25890, \"genero_atual\": \"Ecpleopus\", \"especie_atual\": \"gaudichaudii\", \"subespecie_atual\": null}, {\"altitude\": 33.0, \"familia\": \"Gymnophthalmidae\", \"ordem\": \"Squamata\", \"subordem\": \"Sauria\", \"ano_coleta\": 2010.0, \"qualificador_atual\": null, \"numero_catalogo\": 25891, \"genero_atual\": \"Ecpleopus\", \"especie_atual\": \"gaudichaudii\", \"subespecie_atual\": null}, {\"altitude\": 33.0, \"familia\": \"Gymnophthalmidae\", \"ordem\": \"Squamata\", \"subordem\": \"Sauria\", \"ano_coleta\": 2010.0, \"qualificador_atual\": null, \"numero_catalogo\": 25892, \"genero_atual\": \"Ecpleopus\", \"especie_atual\": \"gaudichaudii\", \"subespecie_atual\": null}, {\"altitude\": 33.0, \"familia\": \"Gymnophthalmidae\", \"ordem\": \"Squamata\", \"subordem\": \"Sauria\", \"ano_coleta\": 2010.0, \"qualificador_atual\": null, \"numero_catalogo\": 25893, \"genero_atual\": \"Ecpleopus\", \"especie_atual\": \"gaudichaudii\", \"subespecie_atual\": null}, {\"altitude\": 33.0, \"familia\": \"Phyllodactylidae\", \"ordem\": \"Squamata\", \"subordem\": \"Sauria\", \"ano_coleta\": 2010.0, \"qualificador_atual\": null, \"numero_catalogo\": 24542, \"genero_atual\": \"Gymnodactylus\", \"especie_atual\": \"darwinii\", \"subespecie_atual\": null}, {\"altitude\": 33.0, \"familia\": \"Phyllodactylidae\", \"ordem\": \"Squamata\", \"subordem\": \"Sauria\", \"ano_coleta\": 2010.0, \"qualificador_atual\": null, \"numero_catalogo\": 24543, \"genero_atual\": \"Gymnodactylus\", \"especie_atual\": \"darwinii\", \"subespecie_atual\": null}, {\"altitude\": 33.0, \"familia\": \"Scincidae\", \"ordem\": \"Squamata\", \"subordem\": \"Sauria\", \"ano_coleta\": 2010.0, \"qualificador_atual\": null, \"numero_catalogo\": 24539, \"genero_atual\": \"Mabuya\", \"especie_atual\": \"macrorhyncha\", \"subespecie_atual\": null}, {\"altitude\": 35.0, \"familia\": \"Colubridae\", \"ordem\": \"Squamata\", \"subordem\": \"Serpentes\", \"ano_coleta\": 2007.0, \"qualificador_atual\": null, \"numero_catalogo\": 15203, \"genero_atual\": \"Chironius\", \"especie_atual\": \"bicarinatus\", \"subespecie_atual\": null}, {\"altitude\": 35.0, \"familia\": \"Leiosauridae\", \"ordem\": \"Squamata\", \"subordem\": \"Sauria\", \"ano_coleta\": 2013.0, \"qualificador_atual\": null, \"numero_catalogo\": 23623, \"genero_atual\": \"Enyalius\", \"especie_atual\": \"brasiliensis\", \"subespecie_atual\": null}, {\"altitude\": 35.0, \"familia\": \"Leiosauridae\", \"ordem\": \"Squamata\", \"subordem\": \"Sauria\", \"ano_coleta\": 2013.0, \"qualificador_atual\": null, \"numero_catalogo\": 23624, \"genero_atual\": \"Enyalius\", \"especie_atual\": \"brasiliensis\", \"subespecie_atual\": null}, {\"altitude\": 35.0, \"familia\": \"Phyllodactylidae\", \"ordem\": \"Squamata\", \"subordem\": \"Sauria\", \"ano_coleta\": 2013.0, \"qualificador_atual\": null, \"numero_catalogo\": 23626, \"genero_atual\": \"Gymnodactylus\", \"especie_atual\": \"darwinii\", \"subespecie_atual\": null}, {\"altitude\": 36.0, \"familia\": \"Colubridae\", \"ordem\": \"Squamata\", \"subordem\": \"Serpentes\", \"ano_coleta\": 2003.0, \"qualificador_atual\": null, \"numero_catalogo\": 10949, \"genero_atual\": \"Chironius\", \"especie_atual\": \"exoletus\", \"subespecie_atual\": null}, {\"altitude\": 36.0, \"familia\": \"Colubridae\", \"ordem\": \"Squamata\", \"subordem\": \"Serpentes\", \"ano_coleta\": 2003.0, \"qualificador_atual\": null, \"numero_catalogo\": 10961, \"genero_atual\": \"Chironius\", \"especie_atual\": \"exoletus\", \"subespecie_atual\": null}, {\"altitude\": 36.0, \"familia\": \"Dipsadidae\", \"ordem\": \"Squamata\", \"subordem\": \"Serpentes\", \"ano_coleta\": 2003.0, \"qualificador_atual\": null, \"numero_catalogo\": 10950, \"genero_atual\": \"Liophis\", \"especie_atual\": \"poecilogyrus\", \"subespecie_atual\": null}, {\"altitude\": 36.0, \"familia\": \"Dipsadidae\", \"ordem\": \"Squamata\", \"subordem\": \"Serpentes\", \"ano_coleta\": 2003.0, \"qualificador_atual\": null, \"numero_catalogo\": 10951, \"genero_atual\": \"Oxyrhopus\", \"especie_atual\": \"petolarius\", \"subespecie_atual\": null}, {\"altitude\": 36.0, \"familia\": \"Dipsadidae\", \"ordem\": \"Squamata\", \"subordem\": \"Serpentes\", \"ano_coleta\": 2003.0, \"qualificador_atual\": null, \"numero_catalogo\": 10974, \"genero_atual\": \"Xenodon\", \"especie_atual\": \"neuwiedii\", \"subespecie_atual\": null}, {\"altitude\": 36.0, \"familia\": \"Dipsadidae\", \"ordem\": \"Squamata\", \"subordem\": \"Serpentes\", \"ano_coleta\": 2003.0, \"qualificador_atual\": null, \"numero_catalogo\": 10975, \"genero_atual\": \"Liophis\", \"especie_atual\": \"miliaris\", \"subespecie_atual\": null}, {\"altitude\": 36.0, \"familia\": \"Dipsadidae\", \"ordem\": \"Squamata\", \"subordem\": \"Serpentes\", \"ano_coleta\": 2005.0, \"qualificador_atual\": null, \"numero_catalogo\": 15209, \"genero_atual\": \"Liophis\", \"especie_atual\": \"miliaris\", \"subespecie_atual\": null}, {\"altitude\": 36.0, \"familia\": \"Elapidae\", \"ordem\": \"Squamata\", \"subordem\": \"Serpentes\", \"ano_coleta\": 2003.0, \"qualificador_atual\": null, \"numero_catalogo\": 10969, \"genero_atual\": \"Micrurus\", \"especie_atual\": \"corallinus\", \"subespecie_atual\": null}, {\"altitude\": 36.0, \"familia\": \"Viperidae\", \"ordem\": \"Squamata\", \"subordem\": \"Serpentes\", \"ano_coleta\": 2003.0, \"qualificador_atual\": null, \"numero_catalogo\": 10957, \"genero_atual\": \"Bothrops\", \"especie_atual\": \"jararaca\", \"subespecie_atual\": null}, {\"altitude\": 38.0, \"familia\": \"Phyllodactylidae\", \"ordem\": \"Squamata\", \"subordem\": \"Sauria\", \"ano_coleta\": 2013.0, \"qualificador_atual\": null, \"numero_catalogo\": 23625, \"genero_atual\": \"Gymnodactylus\", \"especie_atual\": \"darwinii\", \"subespecie_atual\": null}, {\"altitude\": 53.0, \"familia\": \"Elapidae\", \"ordem\": \"Squamata\", \"subordem\": \"Serpentes\", \"ano_coleta\": 2015.0, \"qualificador_atual\": null, \"numero_catalogo\": 25579, \"genero_atual\": \"Micrurus\", \"especie_atual\": \"corallinus\", \"subespecie_atual\": null}, {\"altitude\": 60.0, \"familia\": \"Colubridae\", \"ordem\": \"Squamata\", \"subordem\": \"Serpentes\", \"ano_coleta\": 2013.0, \"qualificador_atual\": null, \"numero_catalogo\": 23622, \"genero_atual\": \"Chironius\", \"especie_atual\": \"bicarinatus\", \"subespecie_atual\": null}, {\"altitude\": 60.0, \"familia\": \"Elapidae\", \"ordem\": \"Squamata\", \"subordem\": \"Serpentes\", \"ano_coleta\": 2003.0, \"qualificador_atual\": null, \"numero_catalogo\": 10964, \"genero_atual\": \"Micrurus\", \"especie_atual\": \"corallinus\", \"subespecie_atual\": null}, {\"altitude\": 61.0, \"familia\": \"Colubridae\", \"ordem\": \"Squamata\", \"subordem\": \"Serpentes\", \"ano_coleta\": 2004.0, \"qualificador_atual\": null, \"numero_catalogo\": 10966, \"genero_atual\": \"Leptophis\", \"especie_atual\": \"ahaetulla\", \"subespecie_atual\": null}, {\"altitude\": 62.0, \"familia\": \"Amphisbaenidae\", \"ordem\": \"Squamata\", \"subordem\": \"Amphisbaenia\", \"ano_coleta\": 2003.0, \"qualificador_atual\": null, \"numero_catalogo\": 10940, \"genero_atual\": \"Leposternon\", \"especie_atual\": \"microcephalum\", \"subespecie_atual\": null}, {\"altitude\": 62.0, \"familia\": \"Colubridae\", \"ordem\": \"Squamata\", \"subordem\": \"Serpentes\", \"ano_coleta\": 2002.0, \"qualificador_atual\": null, \"numero_catalogo\": 10977, \"genero_atual\": \"Spilotes\", \"especie_atual\": \"pullatus\", \"subespecie_atual\": null}, {\"altitude\": 63.0, \"familia\": \"Colubridae\", \"ordem\": \"Squamata\", \"subordem\": \"Serpentes\", \"ano_coleta\": 2004.0, \"qualificador_atual\": null, \"numero_catalogo\": 10968, \"genero_atual\": \"Chironius\", \"especie_atual\": \"laevicollis\", \"subespecie_atual\": null}, {\"altitude\": 63.0, \"familia\": \"Viperidae\", \"ordem\": \"Squamata\", \"subordem\": \"Serpentes\", \"ano_coleta\": 2003.0, \"qualificador_atual\": null, \"numero_catalogo\": 10965, \"genero_atual\": \"Bothrops\", \"especie_atual\": \"jararaca\", \"subespecie_atual\": null}, {\"altitude\": 64.0, \"familia\": \"Dipsadidae\", \"ordem\": \"Squamata\", \"subordem\": \"Serpentes\", \"ano_coleta\": 2008.0, \"qualificador_atual\": null, \"numero_catalogo\": 16413, \"genero_atual\": \"Helicops\", \"especie_atual\": \"carinicaudus\", \"subespecie_atual\": null}, {\"altitude\": 65.0, \"familia\": \"Dipsadidae\", \"ordem\": \"Squamata\", \"subordem\": \"Serpentes\", \"ano_coleta\": 2011.0, \"qualificador_atual\": null, \"numero_catalogo\": 20780, \"genero_atual\": \"Siphlophis\", \"especie_atual\": \"cervinus\", \"subespecie_atual\": null}, {\"altitude\": 65.0, \"familia\": \"Polychrotidae\", \"ordem\": \"Squamata\", \"subordem\": \"Sauria\", \"ano_coleta\": 2006.0, \"qualificador_atual\": null, \"numero_catalogo\": 14829, \"genero_atual\": \"Polychrus\", \"especie_atual\": \"marmoratus\", \"subespecie_atual\": null}, {\"altitude\": 67.0, \"familia\": \"Dipsadidae\", \"ordem\": \"Squamata\", \"subordem\": \"Serpentes\", \"ano_coleta\": 2014.0, \"qualificador_atual\": null, \"numero_catalogo\": 25432, \"genero_atual\": \"Philodryas\", \"especie_atual\": \"olfersii\", \"subespecie_atual\": null}, {\"altitude\": 67.0, \"familia\": \"Gekkonidae\", \"ordem\": \"Squamata\", \"subordem\": \"Sauria\", \"ano_coleta\": 2008.0, \"qualificador_atual\": null, \"numero_catalogo\": 16389, \"genero_atual\": \"Hemidactylus\", \"especie_atual\": \"mabouia\", \"subespecie_atual\": null}, {\"altitude\": 68.0, \"familia\": \"Colubridae\", \"ordem\": \"Squamata\", \"subordem\": \"Serpentes\", \"ano_coleta\": 2003.0, \"qualificador_atual\": null, \"numero_catalogo\": 10967, \"genero_atual\": \"Leptophis\", \"especie_atual\": \"ahaetulla\", \"subespecie_atual\": null}, {\"altitude\": 68.0, \"familia\": \"Dipsadidae\", \"ordem\": \"Squamata\", \"subordem\": \"Serpentes\", \"ano_coleta\": 2003.0, \"qualificador_atual\": null, \"numero_catalogo\": 10982, \"genero_atual\": \"Xenodon\", \"especie_atual\": \"neuwiedii\", \"subespecie_atual\": null}, {\"altitude\": 70.0, \"familia\": \"Amphisbaenidae\", \"ordem\": \"Squamata\", \"subordem\": \"Amphisbaenia\", \"ano_coleta\": 2003.0, \"qualificador_atual\": null, \"numero_catalogo\": 10939, \"genero_atual\": \"Leposternon\", \"especie_atual\": \"microcephalum\", \"subespecie_atual\": null}, {\"altitude\": 70.0, \"familia\": \"Anguidae\", \"ordem\": \"Squamata\", \"subordem\": \"Sauria\", \"ano_coleta\": 2004.0, \"qualificador_atual\": null, \"numero_catalogo\": 10942, \"genero_atual\": \"Ophiodes\", \"especie_atual\": \"fragilis\", \"subespecie_atual\": null}, {\"altitude\": 70.0, \"familia\": \"Dipsadidae\", \"ordem\": \"Squamata\", \"subordem\": \"Serpentes\", \"ano_coleta\": 2002.0, \"qualificador_atual\": null, \"numero_catalogo\": 10948, \"genero_atual\": \"Cercophis\", \"especie_atual\": \"aurata\", \"subespecie_atual\": null}, {\"altitude\": 70.0, \"familia\": \"Dipsadidae\", \"ordem\": \"Squamata\", \"subordem\": \"Serpentes\", \"ano_coleta\": 2003.0, \"qualificador_atual\": \"cf.\", \"numero_catalogo\": 10952, \"genero_atual\": \"Thamnodynastes\", \"especie_atual\": \"nattereri\", \"subespecie_atual\": null}, {\"altitude\": 70.0, \"familia\": \"Dipsadidae\", \"ordem\": \"Squamata\", \"subordem\": \"Serpentes\", \"ano_coleta\": 2002.0, \"qualificador_atual\": null, \"numero_catalogo\": 10962, \"genero_atual\": \"Xenodon\", \"especie_atual\": \"neuwiedii\", \"subespecie_atual\": null}, {\"altitude\": 70.0, \"familia\": \"Elapidae\", \"ordem\": \"Squamata\", \"subordem\": \"Serpentes\", \"ano_coleta\": 2003.0, \"qualificador_atual\": null, \"numero_catalogo\": 10947, \"genero_atual\": \"Micrurus\", \"especie_atual\": \"corallinus\", \"subespecie_atual\": null}, {\"altitude\": 70.0, \"familia\": \"Elapidae\", \"ordem\": \"Squamata\", \"subordem\": \"Serpentes\", \"ano_coleta\": 2003.0, \"qualificador_atual\": null, \"numero_catalogo\": 10971, \"genero_atual\": \"Micrurus\", \"especie_atual\": \"corallinus\", \"subespecie_atual\": null}, {\"altitude\": 71.0, \"familia\": \"Dipsadidae\", \"ordem\": \"Squamata\", \"subordem\": \"Serpentes\", \"ano_coleta\": 2005.0, \"qualificador_atual\": null, \"numero_catalogo\": 14016, \"genero_atual\": \"Oxyrhopus\", \"especie_atual\": \"petolarius\", \"subespecie_atual\": \"digitalis\"}, {\"altitude\": 71.0, \"familia\": \"Leptotyphlopidae\", \"ordem\": \"Squamata\", \"subordem\": \"Serpentes\", \"ano_coleta\": 2005.0, \"qualificador_atual\": null, \"numero_catalogo\": 14014, \"genero_atual\": \"Trilepida\", \"especie_atual\": \"salgueiroi\", \"subespecie_atual\": null}, {\"altitude\": 71.0, \"familia\": \"Leptotyphlopidae\", \"ordem\": \"Squamata\", \"subordem\": \"Serpentes\", \"ano_coleta\": 2005.0, \"qualificador_atual\": null, \"numero_catalogo\": 14015, \"genero_atual\": \"Trilepida\", \"especie_atual\": \"salgueiroi\", \"subespecie_atual\": null}, {\"altitude\": 72.0, \"familia\": \"Colubridae\", \"ordem\": \"Squamata\", \"subordem\": \"Serpentes\", \"ano_coleta\": 2004.0, \"qualificador_atual\": null, \"numero_catalogo\": 12505, \"genero_atual\": \"Chironius\", \"especie_atual\": \"laevicollis\", \"subespecie_atual\": null}, {\"altitude\": 72.0, \"familia\": \"Dipsadidae\", \"ordem\": \"Squamata\", \"subordem\": \"Serpentes\", \"ano_coleta\": 2003.0, \"qualificador_atual\": null, \"numero_catalogo\": 10979, \"genero_atual\": \"Echinanthera\", \"especie_atual\": \"cephalostriata\", \"subespecie_atual\": null}, {\"altitude\": 74.0, \"familia\": \"Dipsadidae\", \"ordem\": \"Squamata\", \"subordem\": \"Serpentes\", \"ano_coleta\": 2014.0, \"qualificador_atual\": null, \"numero_catalogo\": 25468, \"genero_atual\": \"Echinanthera\", \"especie_atual\": \"cephalostriata\", \"subespecie_atual\": null}, {\"altitude\": 75.0, \"familia\": \"Amphisbaenidae\", \"ordem\": \"Squamata\", \"subordem\": \"Amphisbaenia\", \"ano_coleta\": 2004.0, \"qualificador_atual\": null, \"numero_catalogo\": 11069, \"genero_atual\": \"Leposternon\", \"especie_atual\": \"microcephalum\", \"subespecie_atual\": null}, {\"altitude\": 75.0, \"familia\": \"Colubridae\", \"ordem\": \"Squamata\", \"subordem\": \"Serpentes\", \"ano_coleta\": 2002.0, \"qualificador_atual\": null, \"numero_catalogo\": 10959, \"genero_atual\": \"Chironius\", \"especie_atual\": \"fuscus\", \"subespecie_atual\": null}, {\"altitude\": 75.0, \"familia\": \"Colubridae\", \"ordem\": \"Squamata\", \"subordem\": \"Serpentes\", \"ano_coleta\": 2002.0, \"qualificador_atual\": null, \"numero_catalogo\": 10960, \"genero_atual\": \"Chironius\", \"especie_atual\": \"fuscus\", \"subespecie_atual\": null}, {\"altitude\": 75.0, \"familia\": \"Dipsadidae\", \"ordem\": \"Squamata\", \"subordem\": \"Serpentes\", \"ano_coleta\": 2011.0, \"qualificador_atual\": null, \"numero_catalogo\": 21001, \"genero_atual\": \"Thamnodynastes\", \"especie_atual\": \"chaquensis\", \"subespecie_atual\": null}, {\"altitude\": 75.0, \"familia\": \"Viperidae\", \"ordem\": \"Squamata\", \"subordem\": \"Serpentes\", \"ano_coleta\": 2011.0, \"qualificador_atual\": null, \"numero_catalogo\": 23191, \"genero_atual\": \"Bothrops\", \"especie_atual\": \"moojeni\", \"subespecie_atual\": null}, {\"altitude\": 75.0, \"familia\": \"Viperidae\", \"ordem\": \"Squamata\", \"subordem\": \"Serpentes\", \"ano_coleta\": 2011.0, \"qualificador_atual\": null, \"numero_catalogo\": 23192, \"genero_atual\": \"Bothrops\", \"especie_atual\": \"moojeni\", \"subespecie_atual\": null}, {\"altitude\": 76.0, \"familia\": \"Dipsadidae\", \"ordem\": \"Squamata\", \"subordem\": \"Serpentes\", \"ano_coleta\": 2002.0, \"qualificador_atual\": null, \"numero_catalogo\": 10953, \"genero_atual\": \"Liophis\", \"especie_atual\": \"miliaris\", \"subespecie_atual\": null}, {\"altitude\": 78.0, \"familia\": \"Colubridae\", \"ordem\": \"Squamata\", \"subordem\": \"Serpentes\", \"ano_coleta\": 2002.0, \"qualificador_atual\": null, \"numero_catalogo\": 10958, \"genero_atual\": \"Chironius\", \"especie_atual\": \"fuscus\", \"subespecie_atual\": null}, {\"altitude\": 80.0, \"familia\": \"Amphisbaenidae\", \"ordem\": \"Squamata\", \"subordem\": \"Amphisbaenia\", \"ano_coleta\": 2003.0, \"qualificador_atual\": null, \"numero_catalogo\": 10941, \"genero_atual\": \"Leposternon\", \"especie_atual\": \"microcephalum\", \"subespecie_atual\": null}, {\"altitude\": 80.0, \"familia\": \"Colubridae\", \"ordem\": \"Squamata\", \"subordem\": \"Serpentes\", \"ano_coleta\": 2003.0, \"qualificador_atual\": null, \"numero_catalogo\": 10954, \"genero_atual\": \"Chironius\", \"especie_atual\": \"fuscus\", \"subespecie_atual\": null}, {\"altitude\": 80.0, \"familia\": \"Tropiduridae\", \"ordem\": \"Squamata\", \"subordem\": \"Sauria\", \"ano_coleta\": 2003.0, \"qualificador_atual\": null, \"numero_catalogo\": 10944, \"genero_atual\": \"Tropidurus\", \"especie_atual\": \"torquatus\", \"subespecie_atual\": null}, {\"altitude\": 83.0, \"familia\": \"Amphisbaenidae\", \"ordem\": \"Squamata\", \"subordem\": \"Amphisbaenia\", \"ano_coleta\": 2006.0, \"qualificador_atual\": null, \"numero_catalogo\": 15324, \"genero_atual\": \"Mesobaena\", \"especie_atual\": \"rhachicephala\", \"subespecie_atual\": null}, {\"altitude\": 83.0, \"familia\": \"Amphisbaenidae\", \"ordem\": \"Squamata\", \"subordem\": \"Amphisbaenia\", \"ano_coleta\": 2006.0, \"qualificador_atual\": null, \"numero_catalogo\": 15325, \"genero_atual\": \"Mesobaena\", \"especie_atual\": \"rhachicephala\", \"subespecie_atual\": null}, {\"altitude\": 84.0, \"familia\": \"Boidae\", \"ordem\": \"Squamata\", \"subordem\": \"Serpentes\", \"ano_coleta\": 2011.0, \"qualificador_atual\": null, \"numero_catalogo\": 20959, \"genero_atual\": \"Eunectes\", \"especie_atual\": \"notaeus\", \"subespecie_atual\": null}, {\"altitude\": 84.0, \"familia\": \"Dipsadidae\", \"ordem\": \"Squamata\", \"subordem\": \"Serpentes\", \"ano_coleta\": 2011.0, \"qualificador_atual\": null, \"numero_catalogo\": 20954, \"genero_atual\": \"Oxyrhopus\", \"especie_atual\": \"petolarius\", \"subespecie_atual\": null}, {\"altitude\": 84.0, \"familia\": \"Dipsadidae\", \"ordem\": \"Squamata\", \"subordem\": \"Serpentes\", \"ano_coleta\": 2011.0, \"qualificador_atual\": null, \"numero_catalogo\": 20955, \"genero_atual\": \"Sibynomorphus\", \"especie_atual\": \"turgidus\", \"subespecie_atual\": null}, {\"altitude\": 87.0, \"familia\": \"Dipsadidae\", \"ordem\": \"Squamata\", \"subordem\": \"Serpentes\", \"ano_coleta\": 2011.0, \"qualificador_atual\": null, \"numero_catalogo\": 21002, \"genero_atual\": \"Thamnodynastes\", \"especie_atual\": \"chaquensis\", \"subespecie_atual\": null}, {\"altitude\": 87.0, \"familia\": \"Teiidae\", \"ordem\": \"Squamata\", \"subordem\": \"Sauria\", \"ano_coleta\": 2011.0, \"qualificador_atual\": null, \"numero_catalogo\": 23187, \"genero_atual\": \"Ameiva\", \"especie_atual\": \"ameiva\", \"subespecie_atual\": null}, {\"altitude\": 87.0, \"familia\": \"Teiidae\", \"ordem\": \"Squamata\", \"subordem\": \"Sauria\", \"ano_coleta\": 2011.0, \"qualificador_atual\": null, \"numero_catalogo\": 23188, \"genero_atual\": \"Ameiva\", \"especie_atual\": \"ameiva\", \"subespecie_atual\": null}, {\"altitude\": 88.0, \"familia\": \"Dipsadidae\", \"ordem\": \"Squamata\", \"subordem\": \"Serpentes\", \"ano_coleta\": 2011.0, \"qualificador_atual\": null, \"numero_catalogo\": 20939, \"genero_atual\": \"Xenodon\", \"especie_atual\": \"merremi\", \"subespecie_atual\": null}, {\"altitude\": 88.0, \"familia\": \"Dipsadidae\", \"ordem\": \"Squamata\", \"subordem\": \"Serpentes\", \"ano_coleta\": 2011.0, \"qualificador_atual\": null, \"numero_catalogo\": 21003, \"genero_atual\": \"Thamnodynastes\", \"especie_atual\": \"chaquensis\", \"subespecie_atual\": null}, {\"altitude\": 90.0, \"familia\": \"Colubridae\", \"ordem\": \"Squamata\", \"subordem\": \"Serpentes\", \"ano_coleta\": 2011.0, \"qualificador_atual\": null, \"numero_catalogo\": 23196, \"genero_atual\": \"Leptophis\", \"especie_atual\": \"ahaetulla\", \"subespecie_atual\": null}, {\"altitude\": 95.0, \"familia\": \"Dipsadidae\", \"ordem\": \"Squamata\", \"subordem\": \"Serpentes\", \"ano_coleta\": 2011.0, \"qualificador_atual\": null, \"numero_catalogo\": 20982, \"genero_atual\": \"Sibynomorphus\", \"especie_atual\": \"turgidus\", \"subespecie_atual\": null}, {\"altitude\": 95.0, \"familia\": \"Dipsadidae\", \"ordem\": \"Squamata\", \"subordem\": \"Serpentes\", \"ano_coleta\": 2011.0, \"qualificador_atual\": null, \"numero_catalogo\": 21000, \"genero_atual\": \"Hydrops\", \"especie_atual\": \"caesurus\", \"subespecie_atual\": null}, {\"altitude\": 95.0, \"familia\": \"Dipsadidae\", \"ordem\": \"Squamata\", \"subordem\": \"Serpentes\", \"ano_coleta\": 2011.0, \"qualificador_atual\": null, \"numero_catalogo\": 26189, \"genero_atual\": \"Thamnodynastes\", \"especie_atual\": \"chaquensis\", \"subespecie_atual\": null}, {\"altitude\": 95.0, \"familia\": \"Sphaerodactylidae\", \"ordem\": \"Squamata\", \"subordem\": \"Sauria\", \"ano_coleta\": 2011.0, \"qualificador_atual\": null, \"numero_catalogo\": 26183, \"genero_atual\": \"Gonatodes\", \"especie_atual\": \"humeralis\", \"subespecie_atual\": null}, {\"altitude\": 95.0, \"familia\": \"Sphaerodactylidae\", \"ordem\": \"Squamata\", \"subordem\": \"Sauria\", \"ano_coleta\": 2011.0, \"qualificador_atual\": null, \"numero_catalogo\": 26184, \"genero_atual\": \"Gonatodes\", \"especie_atual\": \"humeralis\", \"subespecie_atual\": null}, {\"altitude\": 97.0, \"familia\": \"Dipsadidae\", \"ordem\": \"Squamata\", \"subordem\": \"Serpentes\", \"ano_coleta\": 2007.0, \"qualificador_atual\": null, \"numero_catalogo\": 14914, \"genero_atual\": \"Atractus\", \"especie_atual\": \"dapsilis\", \"subespecie_atual\": null}, {\"altitude\": 100.0, \"familia\": \"Iguanidae\", \"ordem\": \"Squamata\", \"subordem\": \"Sauria\", \"ano_coleta\": 2011.0, \"qualificador_atual\": null, \"numero_catalogo\": 20786, \"genero_atual\": \"Iguana\", \"especie_atual\": \"iguana\", \"subespecie_atual\": null}, {\"altitude\": 100.0, \"familia\": \"Phyllodactylidae\", \"ordem\": \"Squamata\", \"subordem\": \"Sauria\", \"ano_coleta\": 2011.0, \"qualificador_atual\": null, \"numero_catalogo\": 20784, \"genero_atual\": \"Thecadactylus\", \"especie_atual\": \"rapicauda\", \"subespecie_atual\": null}, {\"altitude\": 100.0, \"familia\": \"Tropiduridae\", \"ordem\": \"Squamata\", \"subordem\": \"Sauria\", \"ano_coleta\": 2011.0, \"qualificador_atual\": null, \"numero_catalogo\": 20785, \"genero_atual\": \"Plica\", \"especie_atual\": \"umbra\", \"subespecie_atual\": null}, {\"altitude\": 105.0, \"familia\": \"Dipsadidae\", \"ordem\": \"Squamata\", \"subordem\": \"Serpentes\", \"ano_coleta\": 2011.0, \"qualificador_atual\": null, \"numero_catalogo\": 23198, \"genero_atual\": \"Liophis\", \"especie_atual\": \"typhlus\", \"subespecie_atual\": null}, {\"altitude\": 105.0, \"familia\": \"Elapidae\", \"ordem\": \"Squamata\", \"subordem\": \"Serpentes\", \"ano_coleta\": 2011.0, \"qualificador_atual\": null, \"numero_catalogo\": 23201, \"genero_atual\": \"Micrurus\", \"especie_atual\": \"pyrrhocryptus\", \"subespecie_atual\": null}, {\"altitude\": 108.0, \"familia\": \"Dipsadidae\", \"ordem\": \"Squamata\", \"subordem\": \"Serpentes\", \"ano_coleta\": 2011.0, \"qualificador_atual\": null, \"numero_catalogo\": 23197, \"genero_atual\": \"Liophis\", \"especie_atual\": \"poecilogyrus\", \"subespecie_atual\": null}, {\"altitude\": 109.0, \"familia\": \"Dipsadidae\", \"ordem\": \"Squamata\", \"subordem\": \"Serpentes\", \"ano_coleta\": 2011.0, \"qualificador_atual\": null, \"numero_catalogo\": 20940, \"genero_atual\": \"Xenodon\", \"especie_atual\": \"merremi\", \"subespecie_atual\": null}, {\"altitude\": 109.0, \"familia\": \"Dipsadidae\", \"ordem\": \"Squamata\", \"subordem\": \"Serpentes\", \"ano_coleta\": 2011.0, \"qualificador_atual\": null, \"numero_catalogo\": 20943, \"genero_atual\": \"Philodryas\", \"especie_atual\": \"patagoniensis\", \"subespecie_atual\": null}, {\"altitude\": 115.0, \"familia\": \"Boidae\", \"ordem\": \"Squamata\", \"subordem\": \"Serpentes\", \"ano_coleta\": 2008.0, \"qualificador_atual\": null, \"numero_catalogo\": 17695, \"genero_atual\": \"Epicrates\", \"especie_atual\": \"crassus\", \"subespecie_atual\": null}, {\"altitude\": 119.0, \"familia\": \"Dipsadidae\", \"ordem\": \"Squamata\", \"subordem\": \"Serpentes\", \"ano_coleta\": 2011.0, \"qualificador_atual\": null, \"numero_catalogo\": 20985, \"genero_atual\": \"Philodryas\", \"especie_atual\": \"olfersii\", \"subespecie_atual\": null}, {\"altitude\": 126.0, \"familia\": \"Viperidae\", \"ordem\": \"Squamata\", \"subordem\": \"Serpentes\", \"ano_coleta\": 2012.0, \"qualificador_atual\": null, \"numero_catalogo\": 22760, \"genero_atual\": \"Bothrops\", \"especie_atual\": \"jararaca\", \"subespecie_atual\": null}, {\"altitude\": 128.0, \"familia\": \"Gymnophthalmidae\", \"ordem\": \"Squamata\", \"subordem\": \"Sauria\", \"ano_coleta\": 2011.0, \"qualificador_atual\": null, \"numero_catalogo\": 20997, \"genero_atual\": \"Micrablepharus\", \"especie_atual\": \"maximiliani\", \"subespecie_atual\": null}, {\"altitude\": 128.0, \"familia\": \"Gymnophthalmidae\", \"ordem\": \"Squamata\", \"subordem\": \"Sauria\", \"ano_coleta\": 2011.0, \"qualificador_atual\": null, \"numero_catalogo\": 23199, \"genero_atual\": \"Micrablepharus\", \"especie_atual\": \"maximiliani\", \"subespecie_atual\": null}, {\"altitude\": 128.0, \"familia\": \"Gymnophthalmidae\", \"ordem\": \"Squamata\", \"subordem\": \"Sauria\", \"ano_coleta\": 2011.0, \"qualificador_atual\": null, \"numero_catalogo\": 23200, \"genero_atual\": \"Micrablepharus\", \"especie_atual\": \"maximiliani\", \"subespecie_atual\": null}, {\"altitude\": 128.0, \"familia\": \"Phyllodactylidae\", \"ordem\": \"Squamata\", \"subordem\": \"Sauria\", \"ano_coleta\": 2011.0, \"qualificador_atual\": null, \"numero_catalogo\": 26188, \"genero_atual\": \"Phyllopezus\", \"especie_atual\": \"pollicaris\", \"subespecie_atual\": null}, {\"altitude\": 128.0, \"familia\": \"Phyllodactylidae\", \"ordem\": \"Squamata\", \"subordem\": \"Sauria\", \"ano_coleta\": 2011.0, \"qualificador_atual\": null, \"numero_catalogo\": 26198, \"genero_atual\": \"Phyllopezus\", \"especie_atual\": \"pollicaris\", \"subespecie_atual\": null}, {\"altitude\": 128.0, \"familia\": \"Scincidae\", \"ordem\": \"Squamata\", \"subordem\": \"Sauria\", \"ano_coleta\": 2011.0, \"qualificador_atual\": null, \"numero_catalogo\": 20937, \"genero_atual\": \"Mabuya\", \"especie_atual\": \"frenata\", \"subespecie_atual\": null}, {\"altitude\": 128.0, \"familia\": \"Scincidae\", \"ordem\": \"Squamata\", \"subordem\": \"Sauria\", \"ano_coleta\": 2011.0, \"qualificador_atual\": null, \"numero_catalogo\": 26186, \"genero_atual\": \"Notomabuya\", \"especie_atual\": \"frenata\", \"subespecie_atual\": null}, {\"altitude\": 128.0, \"familia\": \"Sphaerodactylidae\", \"ordem\": \"Squamata\", \"subordem\": \"Sauria\", \"ano_coleta\": 2011.0, \"qualificador_atual\": null, \"numero_catalogo\": 20987, \"genero_atual\": \"Gonatodes\", \"especie_atual\": \"humeralis\", \"subespecie_atual\": null}, {\"altitude\": 128.0, \"familia\": \"Sphaerodactylidae\", \"ordem\": \"Squamata\", \"subordem\": \"Sauria\", \"ano_coleta\": 2011.0, \"qualificador_atual\": null, \"numero_catalogo\": 23193, \"genero_atual\": \"Gonatodes\", \"especie_atual\": \"humeralis\", \"subespecie_atual\": null}, {\"altitude\": 128.0, \"familia\": \"Teiidae\", \"ordem\": \"Squamata\", \"subordem\": \"Sauria\", \"ano_coleta\": 2011.0, \"qualificador_atual\": null, \"numero_catalogo\": 23206, \"genero_atual\": \"Salvator\", \"especie_atual\": \"merianae\", \"subespecie_atual\": null}, {\"altitude\": 128.0, \"familia\": \"Tropiduridae\", \"ordem\": \"Squamata\", \"subordem\": \"Sauria\", \"ano_coleta\": 2011.0, \"qualificador_atual\": null, \"numero_catalogo\": 23205, \"genero_atual\": \"Tropidurus\", \"especie_atual\": \"spinulosus\", \"subespecie_atual\": null}, {\"altitude\": 135.0, \"familia\": \"Teiidae\", \"ordem\": \"Squamata\", \"subordem\": \"Sauria\", \"ano_coleta\": 2006.0, \"qualificador_atual\": null, \"numero_catalogo\": 15211, \"genero_atual\": \"Salvator\", \"especie_atual\": \"merianae\", \"subespecie_atual\": null}, {\"altitude\": 142.0, \"familia\": \"Dipsadidae\", \"ordem\": \"Squamata\", \"subordem\": \"Serpentes\", \"ano_coleta\": 2011.0, \"qualificador_atual\": null, \"numero_catalogo\": 20976, \"genero_atual\": \"Pseudoboa\", \"especie_atual\": \"nigra\", \"subespecie_atual\": null}, {\"altitude\": 144.0, \"familia\": \"Viperidae\", \"ordem\": \"Squamata\", \"subordem\": \"Serpentes\", \"ano_coleta\": 2011.0, \"qualificador_atual\": null, \"numero_catalogo\": 20936, \"genero_atual\": \"Crotalus\", \"especie_atual\": \"durissus\", \"subespecie_atual\": null}, {\"altitude\": 149.0, \"familia\": \"Colubridae\", \"ordem\": \"Squamata\", \"subordem\": \"Serpentes\", \"ano_coleta\": 2011.0, \"qualificador_atual\": null, \"numero_catalogo\": 20787, \"genero_atual\": \"Rhinobothryum\", \"especie_atual\": \"lentiginosum\", \"subespecie_atual\": null}, {\"altitude\": 149.0, \"familia\": \"Sphaerodactylidae\", \"ordem\": \"Squamata\", \"subordem\": \"Sauria\", \"ano_coleta\": 2011.0, \"qualificador_atual\": null, \"numero_catalogo\": 20791, \"genero_atual\": \"Gonatodes\", \"especie_atual\": \"humeralis\", \"subespecie_atual\": null}, {\"altitude\": 150.0, \"familia\": \"Amphisbaenidae\", \"ordem\": \"Squamata\", \"subordem\": \"Amphisbaenia\", \"ano_coleta\": 1989.0, \"qualificador_atual\": null, \"numero_catalogo\": 7206, \"genero_atual\": \"Amphisbaena\", \"especie_atual\": \"alba\", \"subespecie_atual\": null}, {\"altitude\": 150.0, \"familia\": \"Phyllodactylidae\", \"ordem\": \"Squamata\", \"subordem\": \"Sauria\", \"ano_coleta\": 2004.0, \"qualificador_atual\": null, \"numero_catalogo\": 10946, \"genero_atual\": \"Gymnodactylus\", \"especie_atual\": \"geckoides\", \"subespecie_atual\": null}, {\"altitude\": 150.0, \"familia\": \"Viperidae\", \"ordem\": \"Squamata\", \"subordem\": \"Serpentes\", \"ano_coleta\": 2007.0, \"qualificador_atual\": null, \"numero_catalogo\": 15208, \"genero_atual\": \"Bothrops\", \"especie_atual\": \"jararacussu\", \"subespecie_atual\": null}, {\"altitude\": 159.0, \"familia\": \"Gekkonidae\", \"ordem\": \"Squamata\", \"subordem\": \"Sauria\", \"ano_coleta\": 2007.0, \"qualificador_atual\": null, \"numero_catalogo\": 15207, \"genero_atual\": \"Hemidactylus\", \"especie_atual\": \"mabouia\", \"subespecie_atual\": null}, {\"altitude\": 169.0, \"familia\": \"Boidae\", \"ordem\": \"Squamata\", \"subordem\": \"Serpentes\", \"ano_coleta\": 1952.0, \"qualificador_atual\": null, \"numero_catalogo\": 8872, \"genero_atual\": \"Corallus\", \"especie_atual\": \"hortulanus\", \"subespecie_atual\": null}, {\"altitude\": 169.0, \"familia\": \"Boidae\", \"ordem\": \"Squamata\", \"subordem\": \"Serpentes\", \"ano_coleta\": 1995.0, \"qualificador_atual\": null, \"numero_catalogo\": 8873, \"genero_atual\": \"Boa\", \"especie_atual\": \"constrictor\", \"subespecie_atual\": null}, {\"altitude\": 170.0, \"familia\": \"Dipsadidae\", \"ordem\": \"Squamata\", \"subordem\": \"Serpentes\", \"ano_coleta\": 2008.0, \"qualificador_atual\": null, \"numero_catalogo\": 18035, \"genero_atual\": \"Atractus\", \"especie_atual\": \"tartarus\", \"subespecie_atual\": null}, {\"altitude\": 175.0, \"familia\": \"Dipsadidae\", \"ordem\": \"Squamata\", \"subordem\": \"Serpentes\", \"ano_coleta\": 2011.0, \"qualificador_atual\": null, \"numero_catalogo\": 20944, \"genero_atual\": \"Liophis\", \"especie_atual\": \"typhlus\", \"subespecie_atual\": null}, {\"altitude\": 175.0, \"familia\": \"Dipsadidae\", \"ordem\": \"Squamata\", \"subordem\": \"Serpentes\", \"ano_coleta\": 2011.0, \"qualificador_atual\": null, \"numero_catalogo\": 20983, \"genero_atual\": \"Taeniophallus\", \"especie_atual\": \"occipitalis\", \"subespecie_atual\": null}, {\"altitude\": 175.0, \"familia\": \"Dipsadidae\", \"ordem\": \"Squamata\", \"subordem\": \"Serpentes\", \"ano_coleta\": 2011.0, \"qualificador_atual\": null, \"numero_catalogo\": 20993, \"genero_atual\": \"Liophis\", \"especie_atual\": \"poecilogyrus\", \"subespecie_atual\": null}, {\"altitude\": 175.0, \"familia\": \"Dipsadidae\", \"ordem\": \"Squamata\", \"subordem\": \"Serpentes\", \"ano_coleta\": 2011.0, \"qualificador_atual\": null, \"numero_catalogo\": 23204, \"genero_atual\": \"Philodryas\", \"especie_atual\": \"olfersii\", \"subespecie_atual\": null}, {\"altitude\": 175.0, \"familia\": \"Phyllodactylidae\", \"ordem\": \"Squamata\", \"subordem\": \"Sauria\", \"ano_coleta\": 2011.0, \"qualificador_atual\": null, \"numero_catalogo\": 20930, \"genero_atual\": \"Phyllopezus\", \"especie_atual\": \"pollicaris\", \"subespecie_atual\": null}, {\"altitude\": 175.0, \"familia\": \"Phyllodactylidae\", \"ordem\": \"Squamata\", \"subordem\": \"Sauria\", \"ano_coleta\": 2011.0, \"qualificador_atual\": null, \"numero_catalogo\": 20931, \"genero_atual\": \"Phyllopezus\", \"especie_atual\": \"pollicaris\", \"subespecie_atual\": null}, {\"altitude\": 175.0, \"familia\": \"Phyllodactylidae\", \"ordem\": \"Squamata\", \"subordem\": \"Sauria\", \"ano_coleta\": 2011.0, \"qualificador_atual\": null, \"numero_catalogo\": 20932, \"genero_atual\": \"Phyllopezus\", \"especie_atual\": \"pollicaris\", \"subespecie_atual\": null}, {\"altitude\": 175.0, \"familia\": \"Scincidae\", \"ordem\": \"Squamata\", \"subordem\": \"Sauria\", \"ano_coleta\": 2011.0, \"qualificador_atual\": null, \"numero_catalogo\": 20938, \"genero_atual\": \"Mabuya\", \"especie_atual\": \"frenata\", \"subespecie_atual\": null}, {\"altitude\": 175.0, \"familia\": \"Tropiduridae\", \"ordem\": \"Squamata\", \"subordem\": \"Sauria\", \"ano_coleta\": 2011.0, \"qualificador_atual\": null, \"numero_catalogo\": 20958, \"genero_atual\": \"Tropidurus\", \"especie_atual\": \"spinulosus\", \"subespecie_atual\": null}, {\"altitude\": 178.0, \"familia\": \"Gekkonidae\", \"ordem\": \"Squamata\", \"subordem\": \"Sauria\", \"ano_coleta\": 2008.0, \"qualificador_atual\": null, \"numero_catalogo\": 16385, \"genero_atual\": \"Hemidactylus\", \"especie_atual\": \"mabouia\", \"subespecie_atual\": null}, {\"altitude\": 178.0, \"familia\": \"Gekkonidae\", \"ordem\": \"Squamata\", \"subordem\": \"Sauria\", \"ano_coleta\": 2008.0, \"qualificador_atual\": null, \"numero_catalogo\": 16386, \"genero_atual\": \"Hemidactylus\", \"especie_atual\": \"mabouia\", \"subespecie_atual\": null}, {\"altitude\": 178.0, \"familia\": \"Gekkonidae\", \"ordem\": \"Squamata\", \"subordem\": \"Sauria\", \"ano_coleta\": 2008.0, \"qualificador_atual\": null, \"numero_catalogo\": 16387, \"genero_atual\": \"Hemidactylus\", \"especie_atual\": \"mabouia\", \"subespecie_atual\": null}, {\"altitude\": 178.0, \"familia\": \"Tropiduridae\", \"ordem\": \"Squamata\", \"subordem\": \"Sauria\", \"ano_coleta\": 2008.0, \"qualificador_atual\": null, \"numero_catalogo\": 16378, \"genero_atual\": \"Tropidurus\", \"especie_atual\": \"torquatus\", \"subespecie_atual\": null}, {\"altitude\": 180.0, \"familia\": \"Amphisbaenidae\", \"ordem\": \"Squamata\", \"subordem\": \"Amphisbaenia\", \"ano_coleta\": 2003.0, \"qualificador_atual\": null, \"numero_catalogo\": 10938, \"genero_atual\": \"Leposternon\", \"especie_atual\": \"microcephalum\", \"subespecie_atual\": null}, {\"altitude\": 180.0, \"familia\": \"Dipsadidae\", \"ordem\": \"Squamata\", \"subordem\": \"Serpentes\", \"ano_coleta\": 2008.0, \"qualificador_atual\": null, \"numero_catalogo\": 16372, \"genero_atual\": \"Oxyrhopus\", \"especie_atual\": \"clathratus\", \"subespecie_atual\": null}, {\"altitude\": 180.0, \"familia\": \"Dipsadidae\", \"ordem\": \"Squamata\", \"subordem\": \"Serpentes\", \"ano_coleta\": 2008.0, \"qualificador_atual\": null, \"numero_catalogo\": 16414, \"genero_atual\": \"Pseudoboa\", \"especie_atual\": \"nigra\", \"subespecie_atual\": null}, {\"altitude\": 180.0, \"familia\": \"Gekkonidae\", \"ordem\": \"Squamata\", \"subordem\": \"Sauria\", \"ano_coleta\": 2003.0, \"qualificador_atual\": null, \"numero_catalogo\": 10945, \"genero_atual\": \"Hemidactylus\", \"especie_atual\": \"mabouia\", \"subespecie_atual\": null}, {\"altitude\": 195.0, \"familia\": \"Dipsadidae\", \"ordem\": \"Squamata\", \"subordem\": \"Serpentes\", \"ano_coleta\": 2011.0, \"qualificador_atual\": null, \"numero_catalogo\": 20977, \"genero_atual\": \"Pseudoboa\", \"especie_atual\": \"nigra\", \"subespecie_atual\": null}, {\"altitude\": 195.0, \"familia\": \"Dipsadidae\", \"ordem\": \"Squamata\", \"subordem\": \"Serpentes\", \"ano_coleta\": 2011.0, \"qualificador_atual\": null, \"numero_catalogo\": 21006, \"genero_atual\": \"Oxyrhopus\", \"especie_atual\": \"rhombifer\", \"subespecie_atual\": null}, {\"altitude\": 200.0, \"familia\": \"Colubridae\", \"ordem\": \"Squamata\", \"subordem\": \"Serpentes\", \"ano_coleta\": 2009.0, \"qualificador_atual\": null, \"numero_catalogo\": 18479, \"genero_atual\": \"Chironius\", \"especie_atual\": \"foveatus\", \"subespecie_atual\": null}, {\"altitude\": 200.0, \"familia\": \"Colubridae\", \"ordem\": \"Squamata\", \"subordem\": \"Serpentes\", \"ano_coleta\": 2011.0, \"qualificador_atual\": null, \"numero_catalogo\": 20988, \"genero_atual\": \"Drymarchon\", \"especie_atual\": \"corais\", \"subespecie_atual\": null}, {\"altitude\": 200.0, \"familia\": \"Dipsadidae\", \"ordem\": \"Squamata\", \"subordem\": \"Serpentes\", \"ano_coleta\": 2008.0, \"qualificador_atual\": null, \"numero_catalogo\": 16511, \"genero_atual\": \"Atractus\", \"especie_atual\": \"tartarus\", \"subespecie_atual\": null}, {\"altitude\": 200.0, \"familia\": \"Dipsadidae\", \"ordem\": \"Squamata\", \"subordem\": \"Serpentes\", \"ano_coleta\": 2009.0, \"qualificador_atual\": null, \"numero_catalogo\": 18462, \"genero_atual\": \"Liophis\", \"especie_atual\": \"reginae\", \"subespecie_atual\": null}, {\"altitude\": 200.0, \"familia\": \"Phyllodactylidae\", \"ordem\": \"Squamata\", \"subordem\": \"Sauria\", \"ano_coleta\": 1997.0, \"qualificador_atual\": null, \"numero_catalogo\": 17713, \"genero_atual\": \"Gymnodactylus\", \"especie_atual\": \"darwinii\", \"subespecie_atual\": null}, {\"altitude\": 218.0, \"familia\": \"Leptotyphlopidae\", \"ordem\": \"Squamata\", \"subordem\": \"Serpentes\", \"ano_coleta\": 2011.0, \"qualificador_atual\": null, \"numero_catalogo\": 20933, \"genero_atual\": \"Epictia\", \"especie_atual\": \"munoai\", \"subespecie_atual\": null}, {\"altitude\": 219.0, \"familia\": \"Dipsadidae\", \"ordem\": \"Squamata\", \"subordem\": \"Serpentes\", \"ano_coleta\": 2008.0, \"qualificador_atual\": null, \"numero_catalogo\": 16373, \"genero_atual\": \"Elapomorphus\", \"especie_atual\": \"quinquelineatus\", \"subespecie_atual\": null}, {\"altitude\": 222.0, \"familia\": \"Polychrotidae\", \"ordem\": \"Squamata\", \"subordem\": \"Sauria\", \"ano_coleta\": 2011.0, \"qualificador_atual\": null, \"numero_catalogo\": 20946, \"genero_atual\": \"Polychrus\", \"especie_atual\": \"acutirostris\", \"subespecie_atual\": null}, {\"altitude\": 227.0, \"familia\": \"Tropiduridae\", \"ordem\": \"Squamata\", \"subordem\": \"Sauria\", \"ano_coleta\": 2008.0, \"qualificador_atual\": null, \"numero_catalogo\": 16415, \"genero_atual\": \"Tropidurus\", \"especie_atual\": \"torquatus\", \"subespecie_atual\": null}, {\"altitude\": 227.0, \"familia\": \"Tropiduridae\", \"ordem\": \"Squamata\", \"subordem\": \"Sauria\", \"ano_coleta\": 2008.0, \"qualificador_atual\": null, \"numero_catalogo\": 16416, \"genero_atual\": \"Tropidurus\", \"especie_atual\": \"torquatus\", \"subespecie_atual\": null}, {\"altitude\": 227.0, \"familia\": \"Tropiduridae\", \"ordem\": \"Squamata\", \"subordem\": \"Sauria\", \"ano_coleta\": 2008.0, \"qualificador_atual\": null, \"numero_catalogo\": 16417, \"genero_atual\": \"Tropidurus\", \"especie_atual\": \"torquatus\", \"subespecie_atual\": null}, {\"altitude\": 227.0, \"familia\": \"Tropiduridae\", \"ordem\": \"Squamata\", \"subordem\": \"Sauria\", \"ano_coleta\": 2008.0, \"qualificador_atual\": null, \"numero_catalogo\": 16418, \"genero_atual\": \"Tropidurus\", \"especie_atual\": \"torquatus\", \"subespecie_atual\": null}, {\"altitude\": 230.0, \"familia\": \"Dipsadidae\", \"ordem\": \"Squamata\", \"subordem\": \"Serpentes\", \"ano_coleta\": 2006.0, \"qualificador_atual\": null, \"numero_catalogo\": 15202, \"genero_atual\": \"Echinanthera\", \"especie_atual\": \"cephalostriata\", \"subespecie_atual\": null}, {\"altitude\": 235.0, \"familia\": \"Boidae\", \"ordem\": \"Squamata\", \"subordem\": \"Serpentes\", \"ano_coleta\": 2008.0, \"qualificador_atual\": null, \"numero_catalogo\": 16626, \"genero_atual\": \"Corallus\", \"especie_atual\": \"hortulanus\", \"subespecie_atual\": null}, {\"altitude\": 242.0, \"familia\": \"Dipsadidae\", \"ordem\": \"Squamata\", \"subordem\": \"Serpentes\", \"ano_coleta\": 2008.0, \"qualificador_atual\": null, \"numero_catalogo\": 16402, \"genero_atual\": \"Philodryas\", \"especie_atual\": \"patagoniensis\", \"subespecie_atual\": null}, {\"altitude\": 242.0, \"familia\": \"Tropiduridae\", \"ordem\": \"Squamata\", \"subordem\": \"Sauria\", \"ano_coleta\": 2008.0, \"qualificador_atual\": null, \"numero_catalogo\": 16374, \"genero_atual\": \"Tropidurus\", \"especie_atual\": \"torquatus\", \"subespecie_atual\": null}, {\"altitude\": 245.0, \"familia\": \"Amphisbaenidae\", \"ordem\": \"Squamata\", \"subordem\": \"Amphisbaenia\", \"ano_coleta\": 2011.0, \"qualificador_atual\": null, \"numero_catalogo\": 20934, \"genero_atual\": \"Amphisbaena\", \"especie_atual\": \"alba\", \"subespecie_atual\": null}, {\"altitude\": 245.0, \"familia\": \"Scincidae\", \"ordem\": \"Squamata\", \"subordem\": \"Sauria\", \"ano_coleta\": 2011.0, \"qualificador_atual\": null, \"numero_catalogo\": 21004, \"genero_atual\": \"Mabuya\", \"especie_atual\": \"frenata\", \"subespecie_atual\": null}, {\"altitude\": 245.0, \"familia\": \"Sphaerodactylidae\", \"ordem\": \"Squamata\", \"subordem\": \"Sauria\", \"ano_coleta\": 2011.0, \"qualificador_atual\": null, \"numero_catalogo\": 20986, \"genero_atual\": \"Gonatodes\", \"especie_atual\": \"humeralis\", \"subespecie_atual\": null}, {\"altitude\": 245.0, \"familia\": \"Tropiduridae\", \"ordem\": \"Squamata\", \"subordem\": \"Sauria\", \"ano_coleta\": 2011.0, \"qualificador_atual\": null, \"numero_catalogo\": 20991, \"genero_atual\": \"Stenocercus\", \"especie_atual\": \"caducus\", \"subespecie_atual\": null}, {\"altitude\": 250.0, \"familia\": \"Colubridae\", \"ordem\": \"Squamata\", \"subordem\": \"Serpentes\", \"ano_coleta\": 2008.0, \"qualificador_atual\": null, \"numero_catalogo\": 17331, \"genero_atual\": \"Tantilla\", \"especie_atual\": \"melanocephala\", \"subespecie_atual\": null}, {\"altitude\": 265.0, \"familia\": \"Dipsadidae\", \"ordem\": \"Squamata\", \"subordem\": \"Serpentes\", \"ano_coleta\": null, \"qualificador_atual\": null, \"numero_catalogo\": 24959, \"genero_atual\": \"Atractus\", \"especie_atual\": \"collaris\", \"subespecie_atual\": null}, {\"altitude\": 280.0, \"familia\": \"Teiidae\", \"ordem\": \"Squamata\", \"subordem\": \"Sauria\", \"ano_coleta\": null, \"qualificador_atual\": null, \"numero_catalogo\": 9008, \"genero_atual\": \"Salvator\", \"especie_atual\": \"duseni\", \"subespecie_atual\": null}, {\"altitude\": 280.0, \"familia\": \"Teiidae\", \"ordem\": \"Squamata\", \"subordem\": \"Sauria\", \"ano_coleta\": null, \"qualificador_atual\": null, \"numero_catalogo\": 9009, \"genero_atual\": \"Salvator\", \"especie_atual\": \"duseni\", \"subespecie_atual\": null}, {\"altitude\": 300.0, \"familia\": \"Amphisbaenidae\", \"ordem\": \"Squamata\", \"subordem\": \"Amphisbaenia\", \"ano_coleta\": 1988.0, \"qualificador_atual\": null, \"numero_catalogo\": 3936, \"genero_atual\": \"Amphisbaena\", \"especie_atual\": \"vermicularis\", \"subespecie_atual\": null}, {\"altitude\": 300.0, \"familia\": \"Dactyloidae\", \"ordem\": \"Squamata\", \"subordem\": \"Sauria\", \"ano_coleta\": 2007.0, \"qualificador_atual\": null, \"numero_catalogo\": 19133, \"genero_atual\": \"Anolis\", \"especie_atual\": \"punctatus\", \"subespecie_atual\": null}, {\"altitude\": 300.0, \"familia\": \"Dipsadidae\", \"ordem\": \"Squamata\", \"subordem\": \"Serpentes\", \"ano_coleta\": 2008.0, \"qualificador_atual\": null, \"numero_catalogo\": 24940, \"genero_atual\": \"Erythrolamprus\", \"especie_atual\": \"mimus\", \"subespecie_atual\": null}, {\"altitude\": 316.0, \"familia\": \"Dipsadidae\", \"ordem\": \"Squamata\", \"subordem\": \"Serpentes\", \"ano_coleta\": 2007.0, \"qualificador_atual\": null, \"numero_catalogo\": 15577, \"genero_atual\": \"Sibynomorphus\", \"especie_atual\": \"neuwiedi\", \"subespecie_atual\": null}, {\"altitude\": 320.0, \"familia\": \"Colubridae\", \"ordem\": \"Squamata\", \"subordem\": \"Serpentes\", \"ano_coleta\": 2008.0, \"qualificador_atual\": null, \"numero_catalogo\": 19430, \"genero_atual\": \"Tantilla\", \"especie_atual\": \"melanocephala\", \"subespecie_atual\": null}, {\"altitude\": 320.0, \"familia\": \"Viperidae\", \"ordem\": \"Squamata\", \"subordem\": \"Serpentes\", \"ano_coleta\": 2006.0, \"qualificador_atual\": null, \"numero_catalogo\": 15210, \"genero_atual\": \"Bothrops\", \"especie_atual\": \"jararaca\", \"subespecie_atual\": null}, {\"altitude\": 330.0, \"familia\": \"Dipsadidae\", \"ordem\": \"Squamata\", \"subordem\": \"Serpentes\", \"ano_coleta\": 2007.0, \"qualificador_atual\": null, \"numero_catalogo\": 15125, \"genero_atual\": \"Oxyrhopus\", \"especie_atual\": \"guibei\", \"subespecie_atual\": null}, {\"altitude\": 336.0, \"familia\": \"Tropiduridae\", \"ordem\": \"Squamata\", \"subordem\": \"Sauria\", \"ano_coleta\": 2007.0, \"qualificador_atual\": null, \"numero_catalogo\": 15502, \"genero_atual\": \"Tropidurus\", \"especie_atual\": \"torquatus\", \"subespecie_atual\": null}, {\"altitude\": 337.0, \"familia\": \"Gekkonidae\", \"ordem\": \"Squamata\", \"subordem\": \"Sauria\", \"ano_coleta\": 2007.0, \"qualificador_atual\": null, \"numero_catalogo\": 15581, \"genero_atual\": \"Hemidactylus\", \"especie_atual\": \"mabouia\", \"subespecie_atual\": null}, {\"altitude\": 337.0, \"familia\": \"Tropiduridae\", \"ordem\": \"Squamata\", \"subordem\": \"Sauria\", \"ano_coleta\": 2007.0, \"qualificador_atual\": null, \"numero_catalogo\": 15582, \"genero_atual\": \"Tropidurus\", \"especie_atual\": \"torquatus\", \"subespecie_atual\": null}, {\"altitude\": 337.0, \"familia\": \"Tropiduridae\", \"ordem\": \"Squamata\", \"subordem\": \"Sauria\", \"ano_coleta\": 2007.0, \"qualificador_atual\": null, \"numero_catalogo\": 15583, \"genero_atual\": \"Tropidurus\", \"especie_atual\": \"torquatus\", \"subespecie_atual\": null}, {\"altitude\": 345.0, \"familia\": \"Colubridae\", \"ordem\": \"Squamata\", \"subordem\": \"Serpentes\", \"ano_coleta\": 2007.0, \"qualificador_atual\": null, \"numero_catalogo\": 15585, \"genero_atual\": \"Chironius\", \"especie_atual\": \"quadricarinatus\", \"subespecie_atual\": null}, {\"altitude\": 347.0, \"familia\": \"Dipsadidae\", \"ordem\": \"Squamata\", \"subordem\": \"Serpentes\", \"ano_coleta\": 2007.0, \"qualificador_atual\": null, \"numero_catalogo\": 15573, \"genero_atual\": \"Liophis\", \"especie_atual\": \"typhlus\", \"subespecie_atual\": null}, {\"altitude\": 347.0, \"familia\": \"Dipsadidae\", \"ordem\": \"Squamata\", \"subordem\": \"Serpentes\", \"ano_coleta\": 2007.0, \"qualificador_atual\": null, \"numero_catalogo\": 15587, \"genero_atual\": \"Xenodon\", \"especie_atual\": \"merremi\", \"subespecie_atual\": null}, {\"altitude\": 350.0, \"familia\": \"Dipsadidae\", \"ordem\": \"Squamata\", \"subordem\": \"Serpentes\", \"ano_coleta\": 1946.0, \"qualificador_atual\": null, \"numero_catalogo\": 8167, \"genero_atual\": \"Xenodon\", \"especie_atual\": \"merremi\", \"subespecie_atual\": null}, {\"altitude\": 357.0, \"familia\": \"Teiidae\", \"ordem\": \"Squamata\", \"subordem\": \"Sauria\", \"ano_coleta\": 2008.0, \"qualificador_atual\": null, \"numero_catalogo\": 16432, \"genero_atual\": \"Salvator\", \"especie_atual\": \"merianae\", \"subespecie_atual\": null}, {\"altitude\": 359.0, \"familia\": \"Anguidae\", \"ordem\": \"Squamata\", \"subordem\": \"Sauria\", \"ano_coleta\": 2007.0, \"qualificador_atual\": \"aff.\", \"numero_catalogo\": 15571, \"genero_atual\": \"Ophiodes\", \"especie_atual\": \"striatus\", \"subespecie_atual\": null}, {\"altitude\": 360.0, \"familia\": \"Dipsadidae\", \"ordem\": \"Squamata\", \"subordem\": \"Serpentes\", \"ano_coleta\": 2007.0, \"qualificador_atual\": null, \"numero_catalogo\": 15107, \"genero_atual\": \"Oxyrhopus\", \"especie_atual\": \"clathratus\", \"subespecie_atual\": null}, {\"altitude\": 363.0, \"familia\": \"Dipsadidae\", \"ordem\": \"Squamata\", \"subordem\": \"Serpentes\", \"ano_coleta\": 2007.0, \"qualificador_atual\": null, \"numero_catalogo\": 15578, \"genero_atual\": \"Sibynomorphus\", \"especie_atual\": \"neuwiedi\", \"subespecie_atual\": null}, {\"altitude\": 370.0, \"familia\": \"Dipsadidae\", \"ordem\": \"Squamata\", \"subordem\": \"Serpentes\", \"ano_coleta\": null, \"qualificador_atual\": null, \"numero_catalogo\": 15572, \"genero_atual\": \"Sibynomorphus\", \"especie_atual\": \"neuwiedi\", \"subespecie_atual\": null}, {\"altitude\": 371.0, \"familia\": \"Viperidae\", \"ordem\": \"Squamata\", \"subordem\": \"Serpentes\", \"ano_coleta\": 2007.0, \"qualificador_atual\": null, \"numero_catalogo\": 15109, \"genero_atual\": \"Bothrops\", \"especie_atual\": \"jararaca\", \"subespecie_atual\": null}, {\"altitude\": 378.0, \"familia\": \"Anguidae\", \"ordem\": \"Squamata\", \"subordem\": \"Sauria\", \"ano_coleta\": 2007.0, \"qualificador_atual\": \"cf.\", \"numero_catalogo\": 15112, \"genero_atual\": \"Ophiodes\", \"especie_atual\": \"striatus\", \"subespecie_atual\": null}, {\"altitude\": 378.0, \"familia\": \"Viperidae\", \"ordem\": \"Squamata\", \"subordem\": \"Serpentes\", \"ano_coleta\": 2007.0, \"qualificador_atual\": null, \"numero_catalogo\": 15110, \"genero_atual\": \"Bothrops\", \"especie_atual\": \"jararaca\", \"subespecie_atual\": null}, {\"altitude\": 386.0, \"familia\": \"Dipsadidae\", \"ordem\": \"Squamata\", \"subordem\": \"Serpentes\", \"ano_coleta\": 2007.0, \"qualificador_atual\": null, \"numero_catalogo\": 15105, \"genero_atual\": \"Sibynomorphus\", \"especie_atual\": \"neuwiedi\", \"subespecie_atual\": null}, {\"altitude\": 386.0, \"familia\": \"Dipsadidae\", \"ordem\": \"Squamata\", \"subordem\": \"Serpentes\", \"ano_coleta\": 2007.0, \"qualificador_atual\": null, \"numero_catalogo\": 15568, \"genero_atual\": \"Liophis\", \"especie_atual\": \"miliaris\", \"subespecie_atual\": null}, {\"altitude\": 400.0, \"familia\": \"Boidae\", \"ordem\": \"Squamata\", \"subordem\": \"Serpentes\", \"ano_coleta\": 2009.0, \"qualificador_atual\": null, \"numero_catalogo\": 18550, \"genero_atual\": \"Corallus\", \"especie_atual\": \"hortulanus\", \"subespecie_atual\": null}, {\"altitude\": 400.0, \"familia\": \"Leiosauridae\", \"ordem\": \"Squamata\", \"subordem\": \"Sauria\", \"ano_coleta\": 2007.0, \"qualificador_atual\": null, \"numero_catalogo\": 15423, \"genero_atual\": \"Enyalius\", \"especie_atual\": \"brasiliensis\", \"subespecie_atual\": null}, {\"altitude\": 403.0, \"familia\": \"Dipsadidae\", \"ordem\": \"Squamata\", \"subordem\": \"Serpentes\", \"ano_coleta\": 2007.0, \"qualificador_atual\": null, \"numero_catalogo\": 15106, \"genero_atual\": \"Liophis\", \"especie_atual\": \"miliaris\", \"subespecie_atual\": \"merremi\"}, {\"altitude\": 409.0, \"familia\": \"Dipsadidae\", \"ordem\": \"Squamata\", \"subordem\": \"Serpentes\", \"ano_coleta\": 2007.0, \"qualificador_atual\": null, \"numero_catalogo\": 15576, \"genero_atual\": \"Oxyrhopus\", \"especie_atual\": \"clathratus\", \"subespecie_atual\": null}, {\"altitude\": 412.0, \"familia\": \"Dipsadidae\", \"ordem\": \"Squamata\", \"subordem\": \"Serpentes\", \"ano_coleta\": 2006.0, \"qualificador_atual\": null, \"numero_catalogo\": 15108, \"genero_atual\": \"Oxyrhopus\", \"especie_atual\": \"clathratus\", \"subespecie_atual\": null}, {\"altitude\": 426.0, \"familia\": \"Dipsadidae\", \"ordem\": \"Squamata\", \"subordem\": \"Serpentes\", \"ano_coleta\": 2007.0, \"qualificador_atual\": null, \"numero_catalogo\": 15574, \"genero_atual\": \"Elapomorphus\", \"especie_atual\": \"quinquelineatus\", \"subespecie_atual\": null}, {\"altitude\": 428.0, \"familia\": \"Colubridae\", \"ordem\": \"Squamata\", \"subordem\": \"Serpentes\", \"ano_coleta\": 2008.0, \"qualificador_atual\": null, \"numero_catalogo\": 16404, \"genero_atual\": \"Chironius\", \"especie_atual\": \"fuscus\", \"subespecie_atual\": null}, {\"altitude\": 428.0, \"familia\": \"Gekkonidae\", \"ordem\": \"Squamata\", \"subordem\": \"Sauria\", \"ano_coleta\": 2008.0, \"qualificador_atual\": null, \"numero_catalogo\": 16405, \"genero_atual\": \"Hemidactylus\", \"especie_atual\": \"mabouia\", \"subespecie_atual\": null}, {\"altitude\": 428.0, \"familia\": \"Gekkonidae\", \"ordem\": \"Squamata\", \"subordem\": \"Sauria\", \"ano_coleta\": 2008.0, \"qualificador_atual\": null, \"numero_catalogo\": 16406, \"genero_atual\": \"Hemidactylus\", \"especie_atual\": \"mabouia\", \"subespecie_atual\": null}, {\"altitude\": 428.0, \"familia\": \"Gekkonidae\", \"ordem\": \"Squamata\", \"subordem\": \"Sauria\", \"ano_coleta\": 2008.0, \"qualificador_atual\": null, \"numero_catalogo\": 16407, \"genero_atual\": \"Hemidactylus\", \"especie_atual\": \"mabouia\", \"subespecie_atual\": null}, {\"altitude\": 428.0, \"familia\": \"Gekkonidae\", \"ordem\": \"Squamata\", \"subordem\": \"Sauria\", \"ano_coleta\": 2008.0, \"qualificador_atual\": null, \"numero_catalogo\": 16408, \"genero_atual\": \"Hemidactylus\", \"especie_atual\": \"mabouia\", \"subespecie_atual\": null}, {\"altitude\": 440.0, \"familia\": \"Colubridae\", \"ordem\": \"Squamata\", \"subordem\": \"Serpentes\", \"ano_coleta\": 2013.0, \"qualificador_atual\": null, \"numero_catalogo\": 24134, \"genero_atual\": \"Chironius\", \"especie_atual\": \"fuscus\", \"subespecie_atual\": null}, {\"altitude\": 442.0, \"familia\": \"Leiosauridae\", \"ordem\": \"Squamata\", \"subordem\": \"Sauria\", \"ano_coleta\": 2007.0, \"qualificador_atual\": null, \"numero_catalogo\": 15575, \"genero_atual\": \"Enyalius\", \"especie_atual\": \"bilineatus\", \"subespecie_atual\": null}, {\"altitude\": 442.0, \"familia\": \"Phyllodactylidae\", \"ordem\": \"Squamata\", \"subordem\": \"Sauria\", \"ano_coleta\": 2007.0, \"qualificador_atual\": null, \"numero_catalogo\": 15569, \"genero_atual\": \"Gymnodactylus\", \"especie_atual\": \"darwinii\", \"subespecie_atual\": null}, {\"altitude\": 448.0, \"familia\": \"Dipsadidae\", \"ordem\": \"Squamata\", \"subordem\": \"Serpentes\", \"ano_coleta\": 2002.0, \"qualificador_atual\": null, \"numero_catalogo\": 10978, \"genero_atual\": \"Echinanthera\", \"especie_atual\": \"cephalostriata\", \"subespecie_atual\": null}, {\"altitude\": 450.0, \"familia\": \"Tropiduridae\", \"ordem\": \"Squamata\", \"subordem\": \"Sauria\", \"ano_coleta\": 2013.0, \"qualificador_atual\": null, \"numero_catalogo\": 24215, \"genero_atual\": \"Tropidurus\", \"especie_atual\": \"torquatus\", \"subespecie_atual\": null}, {\"altitude\": 450.0, \"familia\": \"Tropiduridae\", \"ordem\": \"Squamata\", \"subordem\": \"Sauria\", \"ano_coleta\": 2013.0, \"qualificador_atual\": null, \"numero_catalogo\": 24216, \"genero_atual\": \"Tropidurus\", \"especie_atual\": \"torquatus\", \"subespecie_atual\": null}, {\"altitude\": 450.0, \"familia\": \"Viperidae\", \"ordem\": \"Squamata\", \"subordem\": \"Serpentes\", \"ano_coleta\": null, \"qualificador_atual\": null, \"numero_catalogo\": 17498, \"genero_atual\": \"Bothrops\", \"especie_atual\": \"jararacussu\", \"subespecie_atual\": null}, {\"altitude\": 454.0, \"familia\": \"Anguidae\", \"ordem\": \"Squamata\", \"subordem\": \"Sauria\", \"ano_coleta\": 2007.0, \"qualificador_atual\": \"aff.\", \"numero_catalogo\": 15567, \"genero_atual\": \"Ophiodes\", \"especie_atual\": \"striatus\", \"subespecie_atual\": null}, {\"altitude\": 457.0, \"familia\": \"Tropiduridae\", \"ordem\": \"Squamata\", \"subordem\": \"Sauria\", \"ano_coleta\": 2007.0, \"qualificador_atual\": null, \"numero_catalogo\": 15113, \"genero_atual\": \"Tropidurus\", \"especie_atual\": \"hispidus\", \"subespecie_atual\": null}, {\"altitude\": 457.0, \"familia\": \"Tropiduridae\", \"ordem\": \"Squamata\", \"subordem\": \"Sauria\", \"ano_coleta\": 2007.0, \"qualificador_atual\": null, \"numero_catalogo\": 15501, \"genero_atual\": \"Tropidurus\", \"especie_atual\": \"hispidus\", \"subespecie_atual\": null}, {\"altitude\": 519.0, \"familia\": \"Colubridae\", \"ordem\": \"Squamata\", \"subordem\": \"Serpentes\", \"ano_coleta\": 2008.0, \"qualificador_atual\": null, \"numero_catalogo\": 19428, \"genero_atual\": \"Tantilla\", \"especie_atual\": \"melanocephala\", \"subespecie_atual\": null}, {\"altitude\": 519.0, \"familia\": \"Colubridae\", \"ordem\": \"Squamata\", \"subordem\": \"Serpentes\", \"ano_coleta\": 2008.0, \"qualificador_atual\": null, \"numero_catalogo\": 19429, \"genero_atual\": \"Tantilla\", \"especie_atual\": \"melanocephala\", \"subespecie_atual\": null}, {\"altitude\": 522.0, \"familia\": \"Gekkonidae\", \"ordem\": \"Squamata\", \"subordem\": \"Sauria\", \"ano_coleta\": 2008.0, \"qualificador_atual\": null, \"numero_catalogo\": 16388, \"genero_atual\": \"Hemidactylus\", \"especie_atual\": \"mabouia\", \"subespecie_atual\": null}, {\"altitude\": 525.0, \"familia\": \"Anguidae\", \"ordem\": \"Squamata\", \"subordem\": \"Sauria\", \"ano_coleta\": 2007.0, \"qualificador_atual\": \"aff.\", \"numero_catalogo\": 15570, \"genero_atual\": \"Ophiodes\", \"especie_atual\": \"striatus\", \"subespecie_atual\": null}, {\"altitude\": 529.0, \"familia\": \"Anguidae\", \"ordem\": \"Squamata\", \"subordem\": \"Sauria\", \"ano_coleta\": 2007.0, \"qualificador_atual\": \"aff.\", \"numero_catalogo\": 15584, \"genero_atual\": \"Ophiodes\", \"especie_atual\": \"striatus\", \"subespecie_atual\": null}, {\"altitude\": 530.0, \"familia\": \"Dipsadidae\", \"ordem\": \"Squamata\", \"subordem\": \"Serpentes\", \"ano_coleta\": 2007.0, \"qualificador_atual\": null, \"numero_catalogo\": 16899, \"genero_atual\": \"Taeniophallus\", \"especie_atual\": \"affinis\", \"subespecie_atual\": null}, {\"altitude\": 540.0, \"familia\": \"Dipsadidae\", \"ordem\": \"Squamata\", \"subordem\": \"Serpentes\", \"ano_coleta\": 2007.0, \"qualificador_atual\": null, \"numero_catalogo\": 15111, \"genero_atual\": \"Xenodon\", \"especie_atual\": \"neuwiedii\", \"subespecie_atual\": null}, {\"altitude\": 544.0, \"familia\": \"Viperidae\", \"ordem\": \"Squamata\", \"subordem\": \"Serpentes\", \"ano_coleta\": 2013.0, \"qualificador_atual\": null, \"numero_catalogo\": 24213, \"genero_atual\": \"Bothrops\", \"especie_atual\": \"jararaca\", \"subespecie_atual\": null}, {\"altitude\": 544.0, \"familia\": \"Viperidae\", \"ordem\": \"Squamata\", \"subordem\": \"Serpentes\", \"ano_coleta\": 2013.0, \"qualificador_atual\": null, \"numero_catalogo\": 24214, \"genero_atual\": \"Bothrops\", \"especie_atual\": \"jararaca\", \"subespecie_atual\": null}, {\"altitude\": 547.0, \"familia\": \"Viperidae\", \"ordem\": \"Squamata\", \"subordem\": \"Serpentes\", \"ano_coleta\": 2013.0, \"qualificador_atual\": null, \"numero_catalogo\": 24983, \"genero_atual\": \"Bothrops\", \"especie_atual\": \"jararacussu\", \"subespecie_atual\": null}, {\"altitude\": 558.0, \"familia\": \"Dipsadidae\", \"ordem\": \"Squamata\", \"subordem\": \"Serpentes\", \"ano_coleta\": 2006.0, \"qualificador_atual\": null, \"numero_catalogo\": 15132, \"genero_atual\": \"Sibynomorphus\", \"especie_atual\": \"mikanii\", \"subespecie_atual\": null}, {\"altitude\": 558.0, \"familia\": \"Dipsadidae\", \"ordem\": \"Squamata\", \"subordem\": \"Serpentes\", \"ano_coleta\": 2006.0, \"qualificador_atual\": null, \"numero_catalogo\": 15139, \"genero_atual\": \"Helicops\", \"especie_atual\": \"leopardinus\", \"subespecie_atual\": null}, {\"altitude\": 558.0, \"familia\": \"Dipsadidae\", \"ordem\": \"Squamata\", \"subordem\": \"Serpentes\", \"ano_coleta\": 2006.0, \"qualificador_atual\": null, \"numero_catalogo\": 15144, \"genero_atual\": \"Helicops\", \"especie_atual\": \"leopardinus\", \"subespecie_atual\": null}, {\"altitude\": 558.0, \"familia\": \"Dipsadidae\", \"ordem\": \"Squamata\", \"subordem\": \"Serpentes\", \"ano_coleta\": 2006.0, \"qualificador_atual\": null, \"numero_catalogo\": 15145, \"genero_atual\": \"Helicops\", \"especie_atual\": \"leopardinus\", \"subespecie_atual\": null}, {\"altitude\": 558.0, \"familia\": \"Dipsadidae\", \"ordem\": \"Squamata\", \"subordem\": \"Serpentes\", \"ano_coleta\": 2006.0, \"qualificador_atual\": null, \"numero_catalogo\": 15146, \"genero_atual\": \"Helicops\", \"especie_atual\": \"leopardinus\", \"subespecie_atual\": null}, {\"altitude\": 558.0, \"familia\": \"Dipsadidae\", \"ordem\": \"Squamata\", \"subordem\": \"Serpentes\", \"ano_coleta\": 2006.0, \"qualificador_atual\": null, \"numero_catalogo\": 15147, \"genero_atual\": \"Helicops\", \"especie_atual\": \"leopardinus\", \"subespecie_atual\": null}, {\"altitude\": 558.0, \"familia\": \"Dipsadidae\", \"ordem\": \"Squamata\", \"subordem\": \"Serpentes\", \"ano_coleta\": 2006.0, \"qualificador_atual\": null, \"numero_catalogo\": 15148, \"genero_atual\": \"Helicops\", \"especie_atual\": \"leopardinus\", \"subespecie_atual\": null}, {\"altitude\": 558.0, \"familia\": \"Polychrotidae\", \"ordem\": \"Squamata\", \"subordem\": \"Sauria\", \"ano_coleta\": 2006.0, \"qualificador_atual\": null, \"numero_catalogo\": 15160, \"genero_atual\": \"Polychrus\", \"especie_atual\": \"acutirostris\", \"subespecie_atual\": null}, {\"altitude\": 568.0, \"familia\": \"Polychrotidae\", \"ordem\": \"Squamata\", \"subordem\": \"Sauria\", \"ano_coleta\": 2008.0, \"qualificador_atual\": null, \"numero_catalogo\": 26264, \"genero_atual\": \"Polychrus\", \"especie_atual\": \"peruvianus\", \"subespecie_atual\": null}, {\"altitude\": 568.0, \"familia\": \"Polychrotidae\", \"ordem\": \"Squamata\", \"subordem\": \"Sauria\", \"ano_coleta\": 2008.0, \"qualificador_atual\": null, \"numero_catalogo\": 26265, \"genero_atual\": \"Polychrus\", \"especie_atual\": \"peruvianus\", \"subespecie_atual\": null}, {\"altitude\": 585.0, \"familia\": \"Anguidae\", \"ordem\": \"Squamata\", \"subordem\": \"Sauria\", \"ano_coleta\": 2007.0, \"qualificador_atual\": null, \"numero_catalogo\": 15222, \"genero_atual\": \"Ophiodes\", \"especie_atual\": \"striatus\", \"subespecie_atual\": null}, {\"altitude\": 585.0, \"familia\": \"Boidae\", \"ordem\": \"Squamata\", \"subordem\": \"Serpentes\", \"ano_coleta\": 2006.0, \"qualificador_atual\": null, \"numero_catalogo\": 15157, \"genero_atual\": \"Boa\", \"especie_atual\": \"constrictor\", \"subespecie_atual\": \"amarali\"}, {\"altitude\": 585.0, \"familia\": \"Dipsadidae\", \"ordem\": \"Squamata\", \"subordem\": \"Serpentes\", \"ano_coleta\": 2006.0, \"qualificador_atual\": null, \"numero_catalogo\": 15218, \"genero_atual\": \"Psomophis\", \"especie_atual\": \"joberti\", \"subespecie_atual\": null}, {\"altitude\": 585.0, \"familia\": \"Dipsadidae\", \"ordem\": \"Squamata\", \"subordem\": \"Serpentes\", \"ano_coleta\": 2007.0, \"qualificador_atual\": null, \"numero_catalogo\": 15223, \"genero_atual\": \"Liophis\", \"especie_atual\": \"poecilogyrus\", \"subespecie_atual\": null}, {\"altitude\": 585.0, \"familia\": \"Dipsadidae\", \"ordem\": \"Squamata\", \"subordem\": \"Serpentes\", \"ano_coleta\": 2007.0, \"qualificador_atual\": null, \"numero_catalogo\": 15224, \"genero_atual\": \"Liophis\", \"especie_atual\": \"poecilogyrus\", \"subespecie_atual\": null}, {\"altitude\": 585.0, \"familia\": \"Dipsadidae\", \"ordem\": \"Squamata\", \"subordem\": \"Serpentes\", \"ano_coleta\": 2007.0, \"qualificador_atual\": null, \"numero_catalogo\": 15225, \"genero_atual\": \"Xenodon\", \"especie_atual\": \"merremi\", \"subespecie_atual\": null}, {\"altitude\": 585.0, \"familia\": \"Dipsadidae\", \"ordem\": \"Squamata\", \"subordem\": \"Serpentes\", \"ano_coleta\": 2006.0, \"qualificador_atual\": null, \"numero_catalogo\": 15227, \"genero_atual\": \"Oxyrhopus\", \"especie_atual\": \"guibei\", \"subespecie_atual\": null}, {\"altitude\": 585.0, \"familia\": \"Dipsadidae\", \"ordem\": \"Squamata\", \"subordem\": \"Serpentes\", \"ano_coleta\": 2006.0, \"qualificador_atual\": null, \"numero_catalogo\": 15228, \"genero_atual\": \"Sibynomorphus\", \"especie_atual\": \"mikanii\", \"subespecie_atual\": null}, {\"altitude\": 585.0, \"familia\": \"Dipsadidae\", \"ordem\": \"Squamata\", \"subordem\": \"Serpentes\", \"ano_coleta\": 2006.0, \"qualificador_atual\": null, \"numero_catalogo\": 15229, \"genero_atual\": \"Liophis\", \"especie_atual\": \"poecilogyrus\", \"subespecie_atual\": null}, {\"altitude\": 585.0, \"familia\": \"Dipsadidae\", \"ordem\": \"Squamata\", \"subordem\": \"Serpentes\", \"ano_coleta\": 2006.0, \"qualificador_atual\": null, \"numero_catalogo\": 15231, \"genero_atual\": \"Liophis\", \"especie_atual\": \"poecilogyrus\", \"subespecie_atual\": null}, {\"altitude\": 585.0, \"familia\": \"Elapidae\", \"ordem\": \"Squamata\", \"subordem\": \"Serpentes\", \"ano_coleta\": 2006.0, \"qualificador_atual\": null, \"numero_catalogo\": 15226, \"genero_atual\": \"Micrurus\", \"especie_atual\": \"lemniscatus\", \"subespecie_atual\": \"carvalhoi\"}, {\"altitude\": 585.0, \"familia\": \"Viperidae\", \"ordem\": \"Squamata\", \"subordem\": \"Serpentes\", \"ano_coleta\": 2006.0, \"qualificador_atual\": null, \"numero_catalogo\": 15230, \"genero_atual\": \"Crotalus\", \"especie_atual\": \"durissus\", \"subespecie_atual\": \"collilineatus\"}, {\"altitude\": 598.0, \"familia\": \"Gekkonidae\", \"ordem\": \"Squamata\", \"subordem\": \"Sauria\", \"ano_coleta\": 2008.0, \"qualificador_atual\": null, \"numero_catalogo\": 16380, \"genero_atual\": \"Hemidactylus\", \"especie_atual\": \"mabouia\", \"subespecie_atual\": null}, {\"altitude\": 598.0, \"familia\": \"Gekkonidae\", \"ordem\": \"Squamata\", \"subordem\": \"Sauria\", \"ano_coleta\": 2008.0, \"qualificador_atual\": null, \"numero_catalogo\": 16381, \"genero_atual\": \"Hemidactylus\", \"especie_atual\": \"mabouia\", \"subespecie_atual\": null}, {\"altitude\": 598.0, \"familia\": \"Gekkonidae\", \"ordem\": \"Squamata\", \"subordem\": \"Sauria\", \"ano_coleta\": 2008.0, \"qualificador_atual\": null, \"numero_catalogo\": 16382, \"genero_atual\": \"Hemidactylus\", \"especie_atual\": \"mabouia\", \"subespecie_atual\": null}, {\"altitude\": 598.0, \"familia\": \"Gekkonidae\", \"ordem\": \"Squamata\", \"subordem\": \"Sauria\", \"ano_coleta\": 2008.0, \"qualificador_atual\": null, \"numero_catalogo\": 16383, \"genero_atual\": \"Hemidactylus\", \"especie_atual\": \"mabouia\", \"subespecie_atual\": null}, {\"altitude\": 598.0, \"familia\": \"Gekkonidae\", \"ordem\": \"Squamata\", \"subordem\": \"Sauria\", \"ano_coleta\": 2008.0, \"qualificador_atual\": null, \"numero_catalogo\": 16384, \"genero_atual\": \"Hemidactylus\", \"especie_atual\": \"mabouia\", \"subespecie_atual\": null}, {\"altitude\": 629.0, \"familia\": \"Dipsadidae\", \"ordem\": \"Squamata\", \"subordem\": \"Serpentes\", \"ano_coleta\": 2014.0, \"qualificador_atual\": null, \"numero_catalogo\": 25426, \"genero_atual\": \"Sibynomorphus\", \"especie_atual\": \"mikanii\", \"subespecie_atual\": null}, {\"altitude\": 630.0, \"familia\": \"Dipsadidae\", \"ordem\": \"Squamata\", \"subordem\": \"Serpentes\", \"ano_coleta\": 2004.0, \"qualificador_atual\": null, \"numero_catalogo\": 14909, \"genero_atual\": \"Psomophis\", \"especie_atual\": \"joberti\", \"subespecie_atual\": null}, {\"altitude\": 649.0, \"familia\": \"Dipsadidae\", \"ordem\": \"Squamata\", \"subordem\": \"Serpentes\", \"ano_coleta\": 2014.0, \"qualificador_atual\": null, \"numero_catalogo\": 25425, \"genero_atual\": \"Thamnodynastes\", \"especie_atual\": \"hypoconia\", \"subespecie_atual\": null}, {\"altitude\": 664.0, \"familia\": \"Dipsadidae\", \"ordem\": \"Squamata\", \"subordem\": \"Serpentes\", \"ano_coleta\": 2014.0, \"qualificador_atual\": null, \"numero_catalogo\": 25435, \"genero_atual\": \"Liophis\", \"especie_atual\": \"miliaris\", \"subespecie_atual\": null}, {\"altitude\": 682.0, \"familia\": \"Dactyloidae\", \"ordem\": \"Squamata\", \"subordem\": \"Sauria\", \"ano_coleta\": 2011.0, \"qualificador_atual\": null, \"numero_catalogo\": 20790, \"genero_atual\": \"Anolis\", \"especie_atual\": \"fuscoauratus\", \"subespecie_atual\": null}, {\"altitude\": 682.0, \"familia\": \"Tropiduridae\", \"ordem\": \"Squamata\", \"subordem\": \"Sauria\", \"ano_coleta\": 2011.0, \"qualificador_atual\": null, \"numero_catalogo\": 20788, \"genero_atual\": \"Tropidurus\", \"especie_atual\": \"hispidus\", \"subespecie_atual\": null}, {\"altitude\": 684.0, \"familia\": \"Dipsadidae\", \"ordem\": \"Squamata\", \"subordem\": \"Serpentes\", \"ano_coleta\": 2011.0, \"qualificador_atual\": null, \"numero_catalogo\": 20984, \"genero_atual\": \"Taeniophallus\", \"especie_atual\": \"occipitalis\", \"subespecie_atual\": null}, {\"altitude\": 684.0, \"familia\": \"Tropiduridae\", \"ordem\": \"Squamata\", \"subordem\": \"Sauria\", \"ano_coleta\": 2011.0, \"qualificador_atual\": null, \"numero_catalogo\": 20990, \"genero_atual\": \"Stenocercus\", \"especie_atual\": \"caducus\", \"subespecie_atual\": null}, {\"altitude\": 684.0, \"familia\": \"Tropiduridae\", \"ordem\": \"Squamata\", \"subordem\": \"Sauria\", \"ano_coleta\": 2011.0, \"qualificador_atual\": null, \"numero_catalogo\": 26199, \"genero_atual\": \"Stenocercus\", \"especie_atual\": \"caducus\", \"subespecie_atual\": null}, {\"altitude\": 684.0, \"familia\": \"Tropiduridae\", \"ordem\": \"Squamata\", \"subordem\": \"Sauria\", \"ano_coleta\": 2011.0, \"qualificador_atual\": null, \"numero_catalogo\": 26200, \"genero_atual\": \"Stenocercus\", \"especie_atual\": \"caducus\", \"subespecie_atual\": null}, {\"altitude\": 687.0, \"familia\": \"Tropiduridae\", \"ordem\": \"Squamata\", \"subordem\": \"Sauria\", \"ano_coleta\": 2011.0, \"qualificador_atual\": null, \"numero_catalogo\": 20992, \"genero_atual\": \"Stenocercus\", \"especie_atual\": \"caducus\", \"subespecie_atual\": null}, {\"altitude\": 687.0, \"familia\": \"Tropiduridae\", \"ordem\": \"Squamata\", \"subordem\": \"Sauria\", \"ano_coleta\": 2011.0, \"qualificador_atual\": null, \"numero_catalogo\": 24656, \"genero_atual\": \"Stenocercus\", \"especie_atual\": \"caducus\", \"subespecie_atual\": null}, {\"altitude\": 687.0, \"familia\": \"Tropiduridae\", \"ordem\": \"Squamata\", \"subordem\": \"Sauria\", \"ano_coleta\": 2011.0, \"qualificador_atual\": null, \"numero_catalogo\": 24657, \"genero_atual\": \"Stenocercus\", \"especie_atual\": \"caducus\", \"subespecie_atual\": null}, {\"altitude\": 699.0, \"familia\": \"Dipsadidae\", \"ordem\": \"Squamata\", \"subordem\": \"Serpentes\", \"ano_coleta\": 2010.0, \"qualificador_atual\": null, \"numero_catalogo\": 19253, \"genero_atual\": \"Sibynomorphus\", \"especie_atual\": \"neuwiedi\", \"subespecie_atual\": null}, {\"altitude\": 699.0, \"familia\": \"Dipsadidae\", \"ordem\": \"Squamata\", \"subordem\": \"Serpentes\", \"ano_coleta\": 2010.0, \"qualificador_atual\": null, \"numero_catalogo\": 19254, \"genero_atual\": \"Sibynomorphus\", \"especie_atual\": \"neuwiedi\", \"subespecie_atual\": null}, {\"altitude\": 700.0, \"familia\": \"Anguidae\", \"ordem\": \"Squamata\", \"subordem\": \"Sauria\", \"ano_coleta\": 1944.0, \"qualificador_atual\": null, \"numero_catalogo\": 8424, \"genero_atual\": \"Diploglossus\", \"especie_atual\": \"fasciatus\", \"subespecie_atual\": null}, {\"altitude\": 700.0, \"familia\": \"Dipsadidae\", \"ordem\": \"Squamata\", \"subordem\": \"Serpentes\", \"ano_coleta\": 2008.0, \"qualificador_atual\": null, \"numero_catalogo\": 16913, \"genero_atual\": \"Taeniophallus\", \"especie_atual\": \"persimilis\", \"subespecie_atual\": null}, {\"altitude\": 700.0, \"familia\": \"Leiosauridae\", \"ordem\": \"Squamata\", \"subordem\": \"Sauria\", \"ano_coleta\": 2013.0, \"qualificador_atual\": null, \"numero_catalogo\": 24217, \"genero_atual\": \"Enyalius\", \"especie_atual\": \"brasiliensis\", \"subespecie_atual\": null}, {\"altitude\": 700.0, \"familia\": \"Scincidae\", \"ordem\": \"Squamata\", \"subordem\": \"Sauria\", \"ano_coleta\": 2011.0, \"qualificador_atual\": null, \"numero_catalogo\": 20789, \"genero_atual\": \"Mabuya\", \"especie_atual\": \"nigropunctata\", \"subespecie_atual\": null}, {\"altitude\": 702.0, \"familia\": \"Teiidae\", \"ordem\": \"Squamata\", \"subordem\": \"Sauria\", \"ano_coleta\": 2013.0, \"qualificador_atual\": null, \"numero_catalogo\": 24984, \"genero_atual\": \"Salvator\", \"especie_atual\": \"merianae\", \"subespecie_atual\": null}, {\"altitude\": 706.0, \"familia\": \"Viperidae\", \"ordem\": \"Squamata\", \"subordem\": \"Serpentes\", \"ano_coleta\": 2011.0, \"qualificador_atual\": null, \"numero_catalogo\": 20948, \"genero_atual\": \"Crotalus\", \"especie_atual\": \"durissus\", \"subespecie_atual\": null}, {\"altitude\": 714.0, \"familia\": \"Scincidae\", \"ordem\": \"Squamata\", \"subordem\": \"Sauria\", \"ano_coleta\": 2010.0, \"qualificador_atual\": null, \"numero_catalogo\": 19252, \"genero_atual\": \"Mabuya\", \"especie_atual\": \"agilis\", \"subespecie_atual\": null}, {\"altitude\": 715.0, \"familia\": \"Polychrotidae\", \"ordem\": \"Squamata\", \"subordem\": \"Sauria\", \"ano_coleta\": 2009.0, \"qualificador_atual\": null, \"numero_catalogo\": 26266, \"genero_atual\": \"Polychrus\", \"especie_atual\": \"femoralis\", \"subespecie_atual\": null}, {\"altitude\": 718.0, \"familia\": \"Colubridae\", \"ordem\": \"Squamata\", \"subordem\": \"Serpentes\", \"ano_coleta\": 2001.0, \"qualificador_atual\": null, \"numero_catalogo\": 14960, \"genero_atual\": \"Spilotes\", \"especie_atual\": \"pullatus\", \"subespecie_atual\": null}, {\"altitude\": 718.0, \"familia\": \"Colubridae\", \"ordem\": \"Squamata\", \"subordem\": \"Serpentes\", \"ano_coleta\": 2007.0, \"qualificador_atual\": null, \"numero_catalogo\": 15149, \"genero_atual\": \"Spilotes\", \"especie_atual\": \"pullatus\", \"subespecie_atual\": null}, {\"altitude\": 718.0, \"familia\": \"Dipsadidae\", \"ordem\": \"Squamata\", \"subordem\": \"Serpentes\", \"ano_coleta\": 1996.0, \"qualificador_atual\": null, \"numero_catalogo\": 14857, \"genero_atual\": \"Philodryas\", \"especie_atual\": \"olfersii\", \"subespecie_atual\": \"olfersii\"}, {\"altitude\": 718.0, \"familia\": \"Dipsadidae\", \"ordem\": \"Squamata\", \"subordem\": \"Serpentes\", \"ano_coleta\": 1996.0, \"qualificador_atual\": null, \"numero_catalogo\": 14858, \"genero_atual\": \"Philodryas\", \"especie_atual\": \"olfersii\", \"subespecie_atual\": \"olfersii\"}, {\"altitude\": 718.0, \"familia\": \"Dipsadidae\", \"ordem\": \"Squamata\", \"subordem\": \"Serpentes\", \"ano_coleta\": 2001.0, \"qualificador_atual\": null, \"numero_catalogo\": 14859, \"genero_atual\": \"Philodryas\", \"especie_atual\": \"olfersii\", \"subespecie_atual\": \"olfersii\"}, {\"altitude\": 718.0, \"familia\": \"Dipsadidae\", \"ordem\": \"Squamata\", \"subordem\": \"Serpentes\", \"ano_coleta\": 1993.0, \"qualificador_atual\": null, \"numero_catalogo\": 14867, \"genero_atual\": \"Oxyrhopus\", \"especie_atual\": \"trigeminus\", \"subespecie_atual\": null}, {\"altitude\": 718.0, \"familia\": \"Dipsadidae\", \"ordem\": \"Squamata\", \"subordem\": \"Serpentes\", \"ano_coleta\": 1996.0, \"qualificador_atual\": null, \"numero_catalogo\": 14892, \"genero_atual\": \"Xenodon\", \"especie_atual\": \"merremi\", \"subespecie_atual\": null}, {\"altitude\": 718.0, \"familia\": \"Dipsadidae\", \"ordem\": \"Squamata\", \"subordem\": \"Serpentes\", \"ano_coleta\": 2002.0, \"qualificador_atual\": null, \"numero_catalogo\": 14893, \"genero_atual\": \"Xenodon\", \"especie_atual\": \"merremi\", \"subespecie_atual\": null}, {\"altitude\": 718.0, \"familia\": \"Dipsadidae\", \"ordem\": \"Squamata\", \"subordem\": \"Serpentes\", \"ano_coleta\": 2006.0, \"qualificador_atual\": null, \"numero_catalogo\": 15155, \"genero_atual\": \"Pseudoboa\", \"especie_atual\": \"nigra\", \"subespecie_atual\": null}, {\"altitude\": 718.0, \"familia\": \"Dipsadidae\", \"ordem\": \"Squamata\", \"subordem\": \"Serpentes\", \"ano_coleta\": 2001.0, \"qualificador_atual\": null, \"numero_catalogo\": 15267, \"genero_atual\": \"Sibynomorphus\", \"especie_atual\": \"mikanii\", \"subespecie_atual\": null}, {\"altitude\": 718.0, \"familia\": \"Dipsadidae\", \"ordem\": \"Squamata\", \"subordem\": \"Serpentes\", \"ano_coleta\": 2005.0, \"qualificador_atual\": null, \"numero_catalogo\": 15271, \"genero_atual\": \"Philodryas\", \"especie_atual\": \"agassizii\", \"subespecie_atual\": null}, {\"altitude\": 718.0, \"familia\": \"Dipsadidae\", \"ordem\": \"Squamata\", \"subordem\": \"Serpentes\", \"ano_coleta\": 2005.0, \"qualificador_atual\": null, \"numero_catalogo\": 15272, \"genero_atual\": \"Oxyrhopus\", \"especie_atual\": \"trigeminus\", \"subespecie_atual\": null}, {\"altitude\": 718.0, \"familia\": \"Dipsadidae\", \"ordem\": \"Squamata\", \"subordem\": \"Serpentes\", \"ano_coleta\": 2004.0, \"qualificador_atual\": null, \"numero_catalogo\": 15275, \"genero_atual\": \"Oxyrhopus\", \"especie_atual\": \"trigeminus\", \"subespecie_atual\": null}, {\"altitude\": 718.0, \"familia\": \"Gekkonidae\", \"ordem\": \"Squamata\", \"subordem\": \"Sauria\", \"ano_coleta\": 2004.0, \"qualificador_atual\": null, \"numero_catalogo\": 15220, \"genero_atual\": \"Hemidactylus\", \"especie_atual\": \"mabouia\", \"subespecie_atual\": null}, {\"altitude\": 718.0, \"familia\": \"Gekkonidae\", \"ordem\": \"Squamata\", \"subordem\": \"Sauria\", \"ano_coleta\": 2004.0, \"qualificador_atual\": null, \"numero_catalogo\": 15221, \"genero_atual\": \"Hemidactylus\", \"especie_atual\": \"mabouia\", \"subespecie_atual\": null}, {\"altitude\": 718.0, \"familia\": \"Gymnophthalmidae\", \"ordem\": \"Squamata\", \"subordem\": \"Sauria\", \"ano_coleta\": 2006.0, \"qualificador_atual\": null, \"numero_catalogo\": 15219, \"genero_atual\": \"Colobosaura\", \"especie_atual\": \"modesta\", \"subespecie_atual\": null}, {\"altitude\": 718.0, \"familia\": \"Scincidae\", \"ordem\": \"Squamata\", \"subordem\": \"Sauria\", \"ano_coleta\": 2007.0, \"qualificador_atual\": null, \"numero_catalogo\": 15212, \"genero_atual\": \"Mabuya\", \"especie_atual\": \"frenata\", \"subespecie_atual\": null}, {\"altitude\": 718.0, \"familia\": \"Viperidae\", \"ordem\": \"Squamata\", \"subordem\": \"Serpentes\", \"ano_coleta\": 2002.0, \"qualificador_atual\": null, \"numero_catalogo\": 14996, \"genero_atual\": \"Crotalus\", \"especie_atual\": \"durissus\", \"subespecie_atual\": \"collilineatus\"}, {\"altitude\": 718.0, \"familia\": \"Viperidae\", \"ordem\": \"Squamata\", \"subordem\": \"Serpentes\", \"ano_coleta\": 2006.0, \"qualificador_atual\": null, \"numero_catalogo\": 15150, \"genero_atual\": \"Crotalus\", \"especie_atual\": \"durissus\", \"subespecie_atual\": \"collilineatus\"}, {\"altitude\": 727.0, \"familia\": \"Amphisbaenidae\", \"ordem\": \"Squamata\", \"subordem\": \"Amphisbaenia\", \"ano_coleta\": 2006.0, \"qualificador_atual\": null, \"numero_catalogo\": 14633, \"genero_atual\": \"Amphisbaena\", \"especie_atual\": \"wiedi\", \"subespecie_atual\": null}, {\"altitude\": 727.0, \"familia\": \"Amphisbaenidae\", \"ordem\": \"Squamata\", \"subordem\": \"Amphisbaenia\", \"ano_coleta\": 2006.0, \"qualificador_atual\": null, \"numero_catalogo\": 14634, \"genero_atual\": \"Amphisbaena\", \"especie_atual\": \"wiedi\", \"subespecie_atual\": null}, {\"altitude\": 727.0, \"familia\": \"Anguidae\", \"ordem\": \"Squamata\", \"subordem\": \"Sauria\", \"ano_coleta\": 2006.0, \"qualificador_atual\": null, \"numero_catalogo\": 14860, \"genero_atual\": \"Ophiodes\", \"especie_atual\": \"striatus\", \"subespecie_atual\": null}, {\"altitude\": 750.0, \"familia\": \"Dipsadidae\", \"ordem\": \"Squamata\", \"subordem\": \"Serpentes\", \"ano_coleta\": 2013.0, \"qualificador_atual\": null, \"numero_catalogo\": 23608, \"genero_atual\": \"Thamnodynastes\", \"especie_atual\": \"hypoconia\", \"subespecie_atual\": null}, {\"altitude\": 764.0, \"familia\": \"Elapidae\", \"ordem\": \"Squamata\", \"subordem\": \"Serpentes\", \"ano_coleta\": 2013.0, \"qualificador_atual\": null, \"numero_catalogo\": 24946, \"genero_atual\": \"Micrurus\", \"especie_atual\": \"corallinus\", \"subespecie_atual\": null}, {\"altitude\": 769.0, \"familia\": \"Viperidae\", \"ordem\": \"Squamata\", \"subordem\": \"Serpentes\", \"ano_coleta\": 2006.0, \"qualificador_atual\": null, \"numero_catalogo\": 15129, \"genero_atual\": \"Bothrops\", \"especie_atual\": \"moojeni\", \"subespecie_atual\": null}, {\"altitude\": 769.0, \"familia\": \"Viperidae\", \"ordem\": \"Squamata\", \"subordem\": \"Serpentes\", \"ano_coleta\": 2006.0, \"qualificador_atual\": null, \"numero_catalogo\": 15153, \"genero_atual\": \"Bothrops\", \"especie_atual\": \"moojeni\", \"subespecie_atual\": null}, {\"altitude\": 786.0, \"familia\": \"Tropiduridae\", \"ordem\": \"Squamata\", \"subordem\": \"Sauria\", \"ano_coleta\": 2011.0, \"qualificador_atual\": null, \"numero_catalogo\": 24655, \"genero_atual\": \"Stenocercus\", \"especie_atual\": \"caducus\", \"subespecie_atual\": null}, {\"altitude\": 800.0, \"familia\": \"Dipsadidae\", \"ordem\": \"Squamata\", \"subordem\": \"Serpentes\", \"ano_coleta\": 2014.0, \"qualificador_atual\": null, \"numero_catalogo\": 25089, \"genero_atual\": \"Helicops\", \"especie_atual\": \"angulatus\", \"subespecie_atual\": null}, {\"altitude\": 800.0, \"familia\": \"Viperidae\", \"ordem\": \"Squamata\", \"subordem\": \"Serpentes\", \"ano_coleta\": 1947.0, \"qualificador_atual\": null, \"numero_catalogo\": 14253, \"genero_atual\": \"Bothrops\", \"especie_atual\": \"jararaca\", \"subespecie_atual\": null}, {\"altitude\": 800.0, \"familia\": \"Viperidae\", \"ordem\": \"Squamata\", \"subordem\": \"Serpentes\", \"ano_coleta\": 2014.0, \"qualificador_atual\": null, \"numero_catalogo\": 25091, \"genero_atual\": \"Bothrops\", \"especie_atual\": \"moojeni\", \"subespecie_atual\": null}, {\"altitude\": 802.0, \"familia\": \"Dipsadidae\", \"ordem\": \"Squamata\", \"subordem\": \"Serpentes\", \"ano_coleta\": 2014.0, \"qualificador_atual\": null, \"numero_catalogo\": 25279, \"genero_atual\": \"Sibynomorphus\", \"especie_atual\": \"neuwiedii\", \"subespecie_atual\": null}, {\"altitude\": 809.0, \"familia\": \"Dipsadidae\", \"ordem\": \"Squamata\", \"subordem\": \"Serpentes\", \"ano_coleta\": 2011.0, \"qualificador_atual\": null, \"numero_catalogo\": 20999, \"genero_atual\": \"Sibynomorphus\", \"especie_atual\": \"lavillai\", \"subespecie_atual\": null}, {\"altitude\": 809.0, \"familia\": \"Gymnophthalmidae\", \"ordem\": \"Squamata\", \"subordem\": \"Sauria\", \"ano_coleta\": 2011.0, \"qualificador_atual\": null, \"numero_catalogo\": 20957, \"genero_atual\": \"Cercosaura\", \"especie_atual\": \"quadrilineata\", \"subespecie_atual\": null}, {\"altitude\": 809.0, \"familia\": \"Tropiduridae\", \"ordem\": \"Squamata\", \"subordem\": \"Sauria\", \"ano_coleta\": 2011.0, \"qualificador_atual\": null, \"numero_catalogo\": 26202, \"genero_atual\": \"Stenocercus\", \"especie_atual\": \"caducus\", \"subespecie_atual\": null}, {\"altitude\": 815.0, \"familia\": \"Elapidae\", \"ordem\": \"Squamata\", \"subordem\": \"Serpentes\", \"ano_coleta\": 1956.0, \"qualificador_atual\": null, \"numero_catalogo\": 8271, \"genero_atual\": \"Micrurus\", \"especie_atual\": \"decoratus\", \"subespecie_atual\": null}, {\"altitude\": 815.0, \"familia\": \"Leiosauridae\", \"ordem\": \"Squamata\", \"subordem\": \"Sauria\", \"ano_coleta\": 1956.0, \"qualificador_atual\": null, \"numero_catalogo\": 10903, \"genero_atual\": \"Enyalius\", \"especie_atual\": \"perditus\", \"subespecie_atual\": null}, {\"altitude\": 830.0, \"familia\": \"Elapidae\", \"ordem\": \"Squamata\", \"subordem\": \"Serpentes\", \"ano_coleta\": 1957.0, \"qualificador_atual\": null, \"numero_catalogo\": 8272, \"genero_atual\": \"Micrurus\", \"especie_atual\": \"decoratus\", \"subespecie_atual\": null}, {\"altitude\": 834.0, \"familia\": \"Viperidae\", \"ordem\": \"Squamata\", \"subordem\": \"Serpentes\", \"ano_coleta\": 2015.0, \"qualificador_atual\": null, \"numero_catalogo\": 25510, \"genero_atual\": \"Crotalus\", \"especie_atual\": \"durissus\", \"subespecie_atual\": \"terrificus\"}, {\"altitude\": 840.0, \"familia\": \"Colubridae\", \"ordem\": \"Squamata\", \"subordem\": \"Serpentes\", \"ano_coleta\": 2008.0, \"qualificador_atual\": null, \"numero_catalogo\": 17334, \"genero_atual\": \"Tantilla\", \"especie_atual\": \"melanocephala\", \"subespecie_atual\": null}, {\"altitude\": 842.0, \"familia\": \"Typhlopidae\", \"ordem\": \"Squamata\", \"subordem\": \"Serpentes\", \"ano_coleta\": 2014.0, \"qualificador_atual\": null, \"numero_catalogo\": 25282, \"genero_atual\": \"Amerotyphlops\", \"especie_atual\": \"brongersmianus\", \"subespecie_atual\": null}, {\"altitude\": 844.0, \"familia\": \"Viperidae\", \"ordem\": \"Squamata\", \"subordem\": \"Serpentes\", \"ano_coleta\": 2014.0, \"qualificador_atual\": null, \"numero_catalogo\": 25427, \"genero_atual\": \"Bothrops\", \"especie_atual\": \"jararaca\", \"subespecie_atual\": null}, {\"altitude\": 848.0, \"familia\": \"Leptotyphlopidae\", \"ordem\": \"Squamata\", \"subordem\": \"Serpentes\", \"ano_coleta\": 2011.0, \"qualificador_atual\": null, \"numero_catalogo\": 20995, \"genero_atual\": \"Epictia\", \"especie_atual\": \"vellardi\", \"subespecie_atual\": null}, {\"altitude\": 848.0, \"familia\": \"Polychrotidae\", \"ordem\": \"Squamata\", \"subordem\": \"Sauria\", \"ano_coleta\": 2011.0, \"qualificador_atual\": null, \"numero_catalogo\": 26196, \"genero_atual\": \"Anolis\", \"especie_atual\": \"meridionalis\", \"subespecie_atual\": null}, {\"altitude\": 848.0, \"familia\": \"Teiidae\", \"ordem\": \"Squamata\", \"subordem\": \"Sauria\", \"ano_coleta\": 2011.0, \"qualificador_atual\": null, \"numero_catalogo\": 20996, \"genero_atual\": \"Kentropyx\", \"especie_atual\": \"viridistriga\", \"subespecie_atual\": null}, {\"altitude\": 848.0, \"familia\": \"Tropiduridae\", \"ordem\": \"Squamata\", \"subordem\": \"Sauria\", \"ano_coleta\": 2011.0, \"qualificador_atual\": null, \"numero_catalogo\": 26201, \"genero_atual\": \"Stenocercus\", \"especie_atual\": \"caducus\", \"subespecie_atual\": null}, {\"altitude\": 851.0, \"familia\": \"Colubridae\", \"ordem\": \"Squamata\", \"subordem\": \"Serpentes\", \"ano_coleta\": 2008.0, \"qualificador_atual\": null, \"numero_catalogo\": 19432, \"genero_atual\": \"Tantilla\", \"especie_atual\": \"melanocephala\", \"subespecie_atual\": null}, {\"altitude\": 863.0, \"familia\": \"Amphisbaenidae\", \"ordem\": \"Squamata\", \"subordem\": \"Amphisbaenia\", \"ano_coleta\": 2007.0, \"qualificador_atual\": \"sp.\", \"numero_catalogo\": 16198, \"genero_atual\": \"Amphisbaena\", \"especie_atual\": null, \"subespecie_atual\": null}, {\"altitude\": 864.0, \"familia\": \"Colubridae\", \"ordem\": \"Squamata\", \"subordem\": \"Serpentes\", \"ano_coleta\": 2009.0, \"qualificador_atual\": null, \"numero_catalogo\": 19427, \"genero_atual\": \"Tantilla\", \"especie_atual\": \"melanocephala\", \"subespecie_atual\": null}, {\"altitude\": 870.0, \"familia\": \"Colubridae\", \"ordem\": \"Squamata\", \"subordem\": \"Serpentes\", \"ano_coleta\": 2008.0, \"qualificador_atual\": null, \"numero_catalogo\": 17332, \"genero_atual\": \"Tantilla\", \"especie_atual\": \"melanocephala\", \"subespecie_atual\": null}, {\"altitude\": 871.0, \"familia\": \"Dipsadidae\", \"ordem\": \"Squamata\", \"subordem\": \"Serpentes\", \"ano_coleta\": 2005.0, \"qualificador_atual\": null, \"numero_catalogo\": 14862, \"genero_atual\": \"Phimophis\", \"especie_atual\": \"guerini\", \"subespecie_atual\": null}, {\"altitude\": 871.0, \"familia\": \"Viperidae\", \"ordem\": \"Squamata\", \"subordem\": \"Serpentes\", \"ano_coleta\": 2004.0, \"qualificador_atual\": null, \"numero_catalogo\": 14856, \"genero_atual\": \"Crotalus\", \"especie_atual\": \"durissus\", \"subespecie_atual\": \"collilineatus\"}, {\"altitude\": 875.0, \"familia\": \"Colubridae\", \"ordem\": \"Squamata\", \"subordem\": \"Serpentes\", \"ano_coleta\": 2009.0, \"qualificador_atual\": null, \"numero_catalogo\": 19431, \"genero_atual\": \"Tantilla\", \"especie_atual\": \"melanocephala\", \"subespecie_atual\": null}, {\"altitude\": 876.0, \"familia\": \"Dipsadidae\", \"ordem\": \"Squamata\", \"subordem\": \"Serpentes\", \"ano_coleta\": 2013.0, \"qualificador_atual\": null, \"numero_catalogo\": 24751, \"genero_atual\": \"Thamnodynastes\", \"especie_atual\": \"lanei\", \"subespecie_atual\": null}, {\"altitude\": 876.0, \"familia\": \"Dipsadidae\", \"ordem\": \"Squamata\", \"subordem\": \"Serpentes\", \"ano_coleta\": 2013.0, \"qualificador_atual\": null, \"numero_catalogo\": 24752, \"genero_atual\": \"Leptodeira\", \"especie_atual\": \"annulata\", \"subespecie_atual\": null}, {\"altitude\": 876.0, \"familia\": \"Viperidae\", \"ordem\": \"Squamata\", \"subordem\": \"Serpentes\", \"ano_coleta\": 2013.0, \"qualificador_atual\": null, \"numero_catalogo\": 24750, \"genero_atual\": \"Bothrops\", \"especie_atual\": \"moojeni\", \"subespecie_atual\": null}, {\"altitude\": 878.0, \"familia\": \"Teiidae\", \"ordem\": \"Squamata\", \"subordem\": \"Sauria\", \"ano_coleta\": 2006.0, \"qualificador_atual\": null, \"numero_catalogo\": 15217, \"genero_atual\": \"Tupinambis\", \"especie_atual\": \"quadrilineatus\", \"subespecie_atual\": null}, {\"altitude\": 880.0, \"familia\": \"Colubridae\", \"ordem\": \"Squamata\", \"subordem\": \"Serpentes\", \"ano_coleta\": 2008.0, \"qualificador_atual\": null, \"numero_catalogo\": 17336, \"genero_atual\": \"Tantilla\", \"especie_atual\": \"melanocephala\", \"subespecie_atual\": null}, {\"altitude\": 889.0, \"familia\": \"Amphisbaenidae\", \"ordem\": \"Squamata\", \"subordem\": \"Amphisbaenia\", \"ano_coleta\": 2014.0, \"qualificador_atual\": null, \"numero_catalogo\": 25127, \"genero_atual\": \"Amphisbaena\", \"especie_atual\": \"pretrei\", \"subespecie_atual\": null}, {\"altitude\": 889.0, \"familia\": \"Tropiduridae\", \"ordem\": \"Squamata\", \"subordem\": \"Sauria\", \"ano_coleta\": 2006.0, \"qualificador_atual\": null, \"numero_catalogo\": 15216, \"genero_atual\": \"Tropidurus\", \"especie_atual\": \"torquatus\", \"subespecie_atual\": null}, {\"altitude\": 894.0, \"familia\": \"Dipsadidae\", \"ordem\": \"Squamata\", \"subordem\": \"Serpentes\", \"ano_coleta\": 2014.0, \"qualificador_atual\": null, \"numero_catalogo\": 24979, \"genero_atual\": \"Atractus\", \"especie_atual\": \"francoi\", \"subespecie_atual\": null}, {\"altitude\": 896.0, \"familia\": \"Colubridae\", \"ordem\": \"Squamata\", \"subordem\": \"Serpentes\", \"ano_coleta\": 2008.0, \"qualificador_atual\": null, \"numero_catalogo\": 17333, \"genero_atual\": \"Tantilla\", \"especie_atual\": \"melanocephala\", \"subespecie_atual\": null}, {\"altitude\": 896.0, \"familia\": \"Colubridae\", \"ordem\": \"Squamata\", \"subordem\": \"Serpentes\", \"ano_coleta\": 2008.0, \"qualificador_atual\": null, \"numero_catalogo\": 17335, \"genero_atual\": \"Tantilla\", \"especie_atual\": \"melanocephala\", \"subespecie_atual\": null}, {\"altitude\": 896.0, \"familia\": \"Colubridae\", \"ordem\": \"Squamata\", \"subordem\": \"Serpentes\", \"ano_coleta\": 2009.0, \"qualificador_atual\": null, \"numero_catalogo\": 19426, \"genero_atual\": \"Tantilla\", \"especie_atual\": \"melanocephala\", \"subespecie_atual\": null}, {\"altitude\": 900.0, \"familia\": \"Dactyloidae\", \"ordem\": \"Squamata\", \"subordem\": \"Sauria\", \"ano_coleta\": 2011.0, \"qualificador_atual\": null, \"numero_catalogo\": 20941, \"genero_atual\": \"Anolis\", \"especie_atual\": \"meridionalis\", \"subespecie_atual\": null}, {\"altitude\": 900.0, \"familia\": \"Dactyloidae\", \"ordem\": \"Squamata\", \"subordem\": \"Sauria\", \"ano_coleta\": 2011.0, \"qualificador_atual\": null, \"numero_catalogo\": 20981, \"genero_atual\": \"Anolis\", \"especie_atual\": \"meridionalis\", \"subespecie_atual\": null}, {\"altitude\": 900.0, \"familia\": \"Dipsadidae\", \"ordem\": \"Squamata\", \"subordem\": \"Serpentes\", \"ano_coleta\": 2008.0, \"qualificador_atual\": null, \"numero_catalogo\": 16910, \"genero_atual\": \"Siphlophis\", \"especie_atual\": \"longicaudatus\", \"subespecie_atual\": null}, {\"altitude\": 900.0, \"familia\": \"Elapidae\", \"ordem\": \"Squamata\", \"subordem\": \"Serpentes\", \"ano_coleta\": 1944.0, \"qualificador_atual\": null, \"numero_catalogo\": 23358, \"genero_atual\": \"Micrurus\", \"especie_atual\": \"decoratus\", \"subespecie_atual\": null}, {\"altitude\": 900.0, \"familia\": \"Polychrotidae\", \"ordem\": \"Squamata\", \"subordem\": \"Sauria\", \"ano_coleta\": 2011.0, \"qualificador_atual\": null, \"numero_catalogo\": 26197, \"genero_atual\": \"Anolis\", \"especie_atual\": \"meridionalis\", \"subespecie_atual\": null}, {\"altitude\": 900.0, \"familia\": \"Teiidae\", \"ordem\": \"Squamata\", \"subordem\": \"Sauria\", \"ano_coleta\": 2011.0, \"qualificador_atual\": null, \"numero_catalogo\": 20949, \"genero_atual\": \"Kentropyx\", \"especie_atual\": \"viridistriga\", \"subespecie_atual\": null}, {\"altitude\": 900.0, \"familia\": \"Viperidae\", \"ordem\": \"Squamata\", \"subordem\": \"Serpentes\", \"ano_coleta\": 2010.0, \"qualificador_atual\": null, \"numero_catalogo\": 21860, \"genero_atual\": \"Bothrops\", \"especie_atual\": \"jararaca\", \"subespecie_atual\": null}, {\"altitude\": 905.0, \"familia\": \"Elapidae\", \"ordem\": \"Squamata\", \"subordem\": \"Serpentes\", \"ano_coleta\": 2006.0, \"qualificador_atual\": null, \"numero_catalogo\": 15127, \"genero_atual\": \"Micrurus\", \"especie_atual\": \"frontalis\", \"subespecie_atual\": null}, {\"altitude\": 918.0, \"familia\": \"Dipsadidae\", \"ordem\": \"Squamata\", \"subordem\": \"Serpentes\", \"ano_coleta\": 2013.0, \"qualificador_atual\": null, \"numero_catalogo\": 24948, \"genero_atual\": \"Oxyrhopus\", \"especie_atual\": \"clathratus\", \"subespecie_atual\": null}, {\"altitude\": 923.0, \"familia\": \"Polychrotidae\", \"ordem\": \"Squamata\", \"subordem\": \"Sauria\", \"ano_coleta\": 2011.0, \"qualificador_atual\": null, \"numero_catalogo\": 20947, \"genero_atual\": \"Polychrus\", \"especie_atual\": \"acutirostris\", \"subespecie_atual\": null}, {\"altitude\": 928.0, \"familia\": \"Dipsadidae\", \"ordem\": \"Squamata\", \"subordem\": \"Serpentes\", \"ano_coleta\": 2014.0, \"qualificador_atual\": null, \"numero_catalogo\": 24981, \"genero_atual\": \"Atractus\", \"especie_atual\": \"francoi\", \"subespecie_atual\": null}, {\"altitude\": 944.0, \"familia\": \"Dipsadidae\", \"ordem\": \"Squamata\", \"subordem\": \"Serpentes\", \"ano_coleta\": 2011.0, \"qualificador_atual\": null, \"numero_catalogo\": 26087, \"genero_atual\": \"Atractus\", \"especie_atual\": \"riveroi\", \"subespecie_atual\": null}, {\"altitude\": 974.0, \"familia\": \"Dactyloidae\", \"ordem\": \"Squamata\", \"subordem\": \"Sauria\", \"ano_coleta\": 2011.0, \"qualificador_atual\": null, \"numero_catalogo\": 20942, \"genero_atual\": \"Anolis\", \"especie_atual\": \"meridionalis\", \"subespecie_atual\": null}, {\"altitude\": 974.0, \"familia\": \"Dactyloidae\", \"ordem\": \"Squamata\", \"subordem\": \"Sauria\", \"ano_coleta\": 2011.0, \"qualificador_atual\": null, \"numero_catalogo\": 20980, \"genero_atual\": \"Anolis\", \"especie_atual\": \"meridionalis\", \"subespecie_atual\": null}, {\"altitude\": 974.0, \"familia\": \"Polychrotidae\", \"ordem\": \"Squamata\", \"subordem\": \"Sauria\", \"ano_coleta\": 2011.0, \"qualificador_atual\": null, \"numero_catalogo\": 26194, \"genero_atual\": \"Anolis\", \"especie_atual\": \"meridionalis\", \"subespecie_atual\": null}, {\"altitude\": 974.0, \"familia\": \"Polychrotidae\", \"ordem\": \"Squamata\", \"subordem\": \"Sauria\", \"ano_coleta\": 2011.0, \"qualificador_atual\": null, \"numero_catalogo\": 26195, \"genero_atual\": \"Anolis\", \"especie_atual\": \"meridionalis\", \"subespecie_atual\": null}, {\"altitude\": 974.0, \"familia\": \"Scincidae\", \"ordem\": \"Squamata\", \"subordem\": \"Sauria\", \"ano_coleta\": 2011.0, \"qualificador_atual\": null, \"numero_catalogo\": 21005, \"genero_atual\": \"Mabuya\", \"especie_atual\": \"guaporicola\", \"subespecie_atual\": null}, {\"altitude\": 976.0, \"familia\": \"Dipsadidae\", \"ordem\": \"Squamata\", \"subordem\": \"Serpentes\", \"ano_coleta\": 2013.0, \"qualificador_atual\": \"cf.\", \"numero_catalogo\": 24965, \"genero_atual\": \"Thamnodynastes\", \"especie_atual\": \"lanei\", \"subespecie_atual\": null}, {\"altitude\": 980.0, \"familia\": \"Leiosauridae\", \"ordem\": \"Squamata\", \"subordem\": \"Sauria\", \"ano_coleta\": 2013.0, \"qualificador_atual\": null, \"numero_catalogo\": 24978, \"genero_atual\": \"Enyalius\", \"especie_atual\": \"perditus\", \"subespecie_atual\": null}, {\"altitude\": 990.0, \"familia\": \"Dipsadidae\", \"ordem\": \"Squamata\", \"subordem\": \"Serpentes\", \"ano_coleta\": 2011.0, \"qualificador_atual\": null, \"numero_catalogo\": 26088, \"genero_atual\": \"Atractus\", \"especie_atual\": \"riveroi\", \"subespecie_atual\": null}, {\"altitude\": 996.0, \"familia\": \"Polychrotidae\", \"ordem\": \"Squamata\", \"subordem\": \"Sauria\", \"ano_coleta\": 2015.0, \"qualificador_atual\": \"sp.\", \"numero_catalogo\": 25116, \"genero_atual\": \"Anolis\", \"especie_atual\": null, \"subespecie_atual\": null}, {\"altitude\": 996.0, \"familia\": \"Polychrotidae\", \"ordem\": \"Squamata\", \"subordem\": \"Sauria\", \"ano_coleta\": 2015.0, \"qualificador_atual\": \"sp.\", \"numero_catalogo\": 25117, \"genero_atual\": \"Anolis\", \"especie_atual\": null, \"subespecie_atual\": null}, {\"altitude\": 996.0, \"familia\": \"Polychrotidae\", \"ordem\": \"Squamata\", \"subordem\": \"Sauria\", \"ano_coleta\": 2015.0, \"qualificador_atual\": \"sp.\", \"numero_catalogo\": 25118, \"genero_atual\": \"Anolis\", \"especie_atual\": null, \"subespecie_atual\": null}, {\"altitude\": 996.0, \"familia\": \"Polychrotidae\", \"ordem\": \"Squamata\", \"subordem\": \"Sauria\", \"ano_coleta\": 2015.0, \"qualificador_atual\": \"sp.\", \"numero_catalogo\": 25119, \"genero_atual\": \"Anolis\", \"especie_atual\": null, \"subespecie_atual\": null}, {\"altitude\": 996.0, \"familia\": \"Polychrotidae\", \"ordem\": \"Squamata\", \"subordem\": \"Sauria\", \"ano_coleta\": 2015.0, \"qualificador_atual\": \"sp.\", \"numero_catalogo\": 25120, \"genero_atual\": \"Anolis\", \"especie_atual\": null, \"subespecie_atual\": null}, {\"altitude\": 1050.0, \"familia\": \"Colubridae\", \"ordem\": \"Squamata\", \"subordem\": \"Serpentes\", \"ano_coleta\": 1990.0, \"qualificador_atual\": null, \"numero_catalogo\": 6525, \"genero_atual\": \"Tantilla\", \"especie_atual\": \"marcovani\", \"subespecie_atual\": null}, {\"altitude\": 1050.0, \"familia\": \"Dipsadidae\", \"ordem\": \"Squamata\", \"subordem\": \"Serpentes\", \"ano_coleta\": 2010.0, \"qualificador_atual\": null, \"numero_catalogo\": 19595, \"genero_atual\": \"Dipsas\", \"especie_atual\": \"alternans\", \"subespecie_atual\": null}, {\"altitude\": 1078.0, \"familia\": \"Tropiduridae\", \"ordem\": \"Squamata\", \"subordem\": \"Sauria\", \"ano_coleta\": 2010.0, \"qualificador_atual\": null, \"numero_catalogo\": 19251, \"genero_atual\": \"Tropidurus\", \"especie_atual\": \"torquatus\", \"subespecie_atual\": null}, {\"altitude\": 1086.0, \"familia\": \"Leiosauridae\", \"ordem\": \"Squamata\", \"subordem\": \"Sauria\", \"ano_coleta\": 2007.0, \"qualificador_atual\": null, \"numero_catalogo\": 15124, \"genero_atual\": \"Enyalius\", \"especie_atual\": \"bilineatus\", \"subespecie_atual\": null}, {\"altitude\": 1100.0, \"familia\": \"Gymnophthalmidae\", \"ordem\": \"Squamata\", \"subordem\": \"Sauria\", \"ano_coleta\": null, \"qualificador_atual\": \"c.\", \"numero_catalogo\": 4449, \"genero_atual\": \"Placosoma\", \"especie_atual\": \"cordylinum\", \"subespecie_atual\": null}, {\"altitude\": 1130.0, \"familia\": \"Leiosauridae\", \"ordem\": \"Squamata\", \"subordem\": \"Sauria\", \"ano_coleta\": 2014.0, \"qualificador_atual\": null, \"numero_catalogo\": 25281, \"genero_atual\": \"Enyalius\", \"especie_atual\": \"perditus\", \"subespecie_atual\": null}, {\"altitude\": 1138.0, \"familia\": \"Elapidae\", \"ordem\": \"Squamata\", \"subordem\": \"Serpentes\", \"ano_coleta\": 2013.0, \"qualificador_atual\": null, \"numero_catalogo\": 24945, \"genero_atual\": \"Micrurus\", \"especie_atual\": \"decoratus\", \"subespecie_atual\": null}, {\"altitude\": 1150.0, \"familia\": \"Dipsadidae\", \"ordem\": \"Squamata\", \"subordem\": \"Serpentes\", \"ano_coleta\": null, \"qualificador_atual\": \"cf.\", \"numero_catalogo\": 19180, \"genero_atual\": \"Thamnodynastes\", \"especie_atual\": \"nattereri\", \"subespecie_atual\": null}, {\"altitude\": 1179.0, \"familia\": \"Dipsadidae\", \"ordem\": \"Squamata\", \"subordem\": \"Serpentes\", \"ano_coleta\": 2014.0, \"qualificador_atual\": null, \"numero_catalogo\": 24980, \"genero_atual\": \"Atractus\", \"especie_atual\": \"francoi\", \"subespecie_atual\": null}, {\"altitude\": 1198.0, \"familia\": \"Dipsadidae\", \"ordem\": \"Squamata\", \"subordem\": \"Serpentes\", \"ano_coleta\": 2014.0, \"qualificador_atual\": null, \"numero_catalogo\": 24974, \"genero_atual\": \"Xenodon\", \"especie_atual\": \"neuwiedii\", \"subespecie_atual\": null}, {\"altitude\": 1200.0, \"familia\": \"Dipsadidae\", \"ordem\": \"Squamata\", \"subordem\": \"Serpentes\", \"ano_coleta\": null, \"qualificador_atual\": null, \"numero_catalogo\": 7705, \"genero_atual\": \"Lygophis\", \"especie_atual\": \"meridionalis\", \"subespecie_atual\": null}, {\"altitude\": 1200.0, \"familia\": \"Viperidae\", \"ordem\": \"Squamata\", \"subordem\": \"Serpentes\", \"ano_coleta\": 1994.0, \"qualificador_atual\": null, \"numero_catalogo\": 7946, \"genero_atual\": \"Bothrops\", \"especie_atual\": \"jararaca\", \"subespecie_atual\": null}, {\"altitude\": 1200.0, \"familia\": \"Viperidae\", \"ordem\": \"Squamata\", \"subordem\": \"Serpentes\", \"ano_coleta\": 1994.0, \"qualificador_atual\": null, \"numero_catalogo\": 7947, \"genero_atual\": \"Bothrops\", \"especie_atual\": \"jararaca\", \"subespecie_atual\": null}, {\"altitude\": 1200.0, \"familia\": \"Viperidae\", \"ordem\": \"Squamata\", \"subordem\": \"Serpentes\", \"ano_coleta\": 1968.0, \"qualificador_atual\": null, \"numero_catalogo\": 7972, \"genero_atual\": \"Bothrops\", \"especie_atual\": \"jararaca\", \"subespecie_atual\": null}, {\"altitude\": 1200.0, \"familia\": \"Viperidae\", \"ordem\": \"Squamata\", \"subordem\": \"Serpentes\", \"ano_coleta\": 1968.0, \"qualificador_atual\": null, \"numero_catalogo\": 7973, \"genero_atual\": \"Bothrops\", \"especie_atual\": \"jararaca\", \"subespecie_atual\": null}, {\"altitude\": 1210.0, \"familia\": \"Dipsadidae\", \"ordem\": \"Squamata\", \"subordem\": \"Serpentes\", \"ano_coleta\": 2014.0, \"qualificador_atual\": null, \"numero_catalogo\": 25276, \"genero_atual\": \"Echinanthera\", \"especie_atual\": \"cephalostriata\", \"subespecie_atual\": null}, {\"altitude\": 1233.0, \"familia\": \"Dipsadidae\", \"ordem\": \"Squamata\", \"subordem\": \"Serpentes\", \"ano_coleta\": 2015.0, \"qualificador_atual\": null, \"numero_catalogo\": 25273, \"genero_atual\": \"Tomodon\", \"especie_atual\": \"dorsatus\", \"subespecie_atual\": null}, {\"altitude\": 1249.0, \"familia\": \"Dipsadidae\", \"ordem\": \"Squamata\", \"subordem\": \"Serpentes\", \"ano_coleta\": 2014.0, \"qualificador_atual\": null, \"numero_catalogo\": 25275, \"genero_atual\": \"Atractus\", \"especie_atual\": \"francoi\", \"subespecie_atual\": null}, {\"altitude\": 1260.0, \"familia\": \"Dipsadidae\", \"ordem\": \"Squamata\", \"subordem\": \"Serpentes\", \"ano_coleta\": 2014.0, \"qualificador_atual\": null, \"numero_catalogo\": 24952, \"genero_atual\": \"Taeniophallus\", \"especie_atual\": \"affinis\", \"subespecie_atual\": null}, {\"altitude\": 1274.0, \"familia\": \"Dipsadidae\", \"ordem\": \"Squamata\", \"subordem\": \"Serpentes\", \"ano_coleta\": 2013.0, \"qualificador_atual\": null, \"numero_catalogo\": 24973, \"genero_atual\": \"Xenodon\", \"especie_atual\": \"neuwiedii\", \"subespecie_atual\": null}, {\"altitude\": 1280.0, \"familia\": \"Leiosauridae\", \"ordem\": \"Squamata\", \"subordem\": \"Sauria\", \"ano_coleta\": 1996.0, \"qualificador_atual\": null, \"numero_catalogo\": 6347, \"genero_atual\": \"Enyalius\", \"especie_atual\": \"perditus\", \"subespecie_atual\": null}, {\"altitude\": 1280.0, \"familia\": \"Leiosauridae\", \"ordem\": \"Squamata\", \"subordem\": \"Sauria\", \"ano_coleta\": 1996.0, \"qualificador_atual\": null, \"numero_catalogo\": 6348, \"genero_atual\": \"Enyalius\", \"especie_atual\": \"perditus\", \"subespecie_atual\": null}, {\"altitude\": 1284.0, \"familia\": \"Elapidae\", \"ordem\": \"Squamata\", \"subordem\": \"Serpentes\", \"ano_coleta\": 2013.0, \"qualificador_atual\": null, \"numero_catalogo\": 24944, \"genero_atual\": \"Micrurus\", \"especie_atual\": \"decoratus\", \"subespecie_atual\": null}, {\"altitude\": 1298.0, \"familia\": \"Viperidae\", \"ordem\": \"Squamata\", \"subordem\": \"Serpentes\", \"ano_coleta\": 2013.0, \"qualificador_atual\": null, \"numero_catalogo\": 24968, \"genero_atual\": \"Bothrops\", \"especie_atual\": \"fonsecai\", \"subespecie_atual\": null}, {\"altitude\": 1300.0, \"familia\": \"Dipsadidae\", \"ordem\": \"Squamata\", \"subordem\": \"Serpentes\", \"ano_coleta\": null, \"qualificador_atual\": null, \"numero_catalogo\": 6497, \"genero_atual\": \"Atractus\", \"especie_atual\": \"maculatus\", \"subespecie_atual\": null}, {\"altitude\": 1300.0, \"familia\": \"Dipsadidae\", \"ordem\": \"Squamata\", \"subordem\": \"Serpentes\", \"ano_coleta\": 1993.0, \"qualificador_atual\": null, \"numero_catalogo\": 8425, \"genero_atual\": \"Liophis\", \"especie_atual\": \"jaegeri\", \"subespecie_atual\": null}, {\"altitude\": 1300.0, \"familia\": \"Viperidae\", \"ordem\": \"Squamata\", \"subordem\": \"Serpentes\", \"ano_coleta\": null, \"qualificador_atual\": null, \"numero_catalogo\": 8292, \"genero_atual\": \"Bothrops\", \"especie_atual\": \"jararaca\", \"subespecie_atual\": null}, {\"altitude\": 1301.0, \"familia\": \"Amphisbaenidae\", \"ordem\": \"Squamata\", \"subordem\": \"Amphisbaenia\", \"ano_coleta\": 2014.0, \"qualificador_atual\": null, \"numero_catalogo\": 24977, \"genero_atual\": \"Amphisbaena\", \"especie_atual\": \"microcephalum\", \"subespecie_atual\": null}, {\"altitude\": 1301.0, \"familia\": \"Anguidae\", \"ordem\": \"Squamata\", \"subordem\": \"Sauria\", \"ano_coleta\": 2004.0, \"qualificador_atual\": \"sp.\", \"numero_catalogo\": 14168, \"genero_atual\": \"Ophiodes\", \"especie_atual\": null, \"subespecie_atual\": null}, {\"altitude\": 1302.0, \"familia\": \"Dipsadidae\", \"ordem\": \"Squamata\", \"subordem\": \"Serpentes\", \"ano_coleta\": 2013.0, \"qualificador_atual\": null, \"numero_catalogo\": 24970, \"genero_atual\": \"Tropidodryas\", \"especie_atual\": \"striaticeps\", \"subespecie_atual\": null}, {\"altitude\": 1318.0, \"familia\": \"Dipsadidae\", \"ordem\": \"Squamata\", \"subordem\": \"Serpentes\", \"ano_coleta\": 2014.0, \"qualificador_atual\": null, \"numero_catalogo\": 24949, \"genero_atual\": \"Oxyrhopus\", \"especie_atual\": \"clathratus\", \"subespecie_atual\": null}, {\"altitude\": 1328.0, \"familia\": \"Dipsadidae\", \"ordem\": \"Squamata\", \"subordem\": \"Serpentes\", \"ano_coleta\": 2013.0, \"qualificador_atual\": null, \"numero_catalogo\": 25280, \"genero_atual\": \"Xenodon\", \"especie_atual\": \"neuwiedii\", \"subespecie_atual\": null}, {\"altitude\": 1344.0, \"familia\": \"Elapidae\", \"ordem\": \"Squamata\", \"subordem\": \"Serpentes\", \"ano_coleta\": 2013.0, \"qualificador_atual\": null, \"numero_catalogo\": 24947, \"genero_atual\": \"Micrurus\", \"especie_atual\": \"corallinus\", \"subespecie_atual\": null}, {\"altitude\": 1355.0, \"familia\": \"Dipsadidae\", \"ordem\": \"Squamata\", \"subordem\": \"Serpentes\", \"ano_coleta\": 2013.0, \"qualificador_atual\": null, \"numero_catalogo\": 24972, \"genero_atual\": \"Echinanthera\", \"especie_atual\": \"undulata\", \"subespecie_atual\": null}, {\"altitude\": 1367.0, \"familia\": \"Dipsadidae\", \"ordem\": \"Squamata\", \"subordem\": \"Serpentes\", \"ano_coleta\": 2015.0, \"qualificador_atual\": null, \"numero_catalogo\": 25277, \"genero_atual\": \"Taeniophallus\", \"especie_atual\": \"affinis\", \"subespecie_atual\": null}, {\"altitude\": 1400.0, \"familia\": \"Viperidae\", \"ordem\": \"Squamata\", \"subordem\": \"Serpentes\", \"ano_coleta\": 1989.0, \"qualificador_atual\": null, \"numero_catalogo\": 9016, \"genero_atual\": \"Bothrops\", \"especie_atual\": \"bilineata\", \"subespecie_atual\": \"smaragdina\"}, {\"altitude\": 1412.0, \"familia\": \"Dipsadidae\", \"ordem\": \"Squamata\", \"subordem\": \"Serpentes\", \"ano_coleta\": 2013.0, \"qualificador_atual\": null, \"numero_catalogo\": 24971, \"genero_atual\": \"Echinanthera\", \"especie_atual\": \"undulata\", \"subespecie_atual\": null}, {\"altitude\": 1420.0, \"familia\": \"Dipsadidae\", \"ordem\": \"Squamata\", \"subordem\": \"Serpentes\", \"ano_coleta\": 2010.0, \"qualificador_atual\": null, \"numero_catalogo\": 19281, \"genero_atual\": \"Atractus\", \"especie_atual\": \"francoi\", \"subespecie_atual\": null}, {\"altitude\": 1420.0, \"familia\": \"Viperidae\", \"ordem\": \"Squamata\", \"subordem\": \"Serpentes\", \"ano_coleta\": 2015.0, \"qualificador_atual\": null, \"numero_catalogo\": 25272, \"genero_atual\": \"Bothrops\", \"especie_atual\": \"jararaca\", \"subespecie_atual\": null}, {\"altitude\": 1421.0, \"familia\": \"Viperidae\", \"ordem\": \"Squamata\", \"subordem\": \"Serpentes\", \"ano_coleta\": 2014.0, \"qualificador_atual\": null, \"numero_catalogo\": 25271, \"genero_atual\": \"Bothrops\", \"especie_atual\": \"fonsecai\", \"subespecie_atual\": null}, {\"altitude\": 1430.0, \"familia\": \"Dipsadidae\", \"ordem\": \"Squamata\", \"subordem\": \"Serpentes\", \"ano_coleta\": 2013.0, \"qualificador_atual\": null, \"numero_catalogo\": 23357, \"genero_atual\": \"Atractus\", \"especie_atual\": \"spinalis\", \"subespecie_atual\": null}, {\"altitude\": 1440.0, \"familia\": \"Viperidae\", \"ordem\": \"Squamata\", \"subordem\": \"Serpentes\", \"ano_coleta\": 2014.0, \"qualificador_atual\": null, \"numero_catalogo\": 25270, \"genero_atual\": \"Bothrops\", \"especie_atual\": \"fonsecai\", \"subespecie_atual\": null}, {\"altitude\": 1469.0, \"familia\": \"Dipsadidae\", \"ordem\": \"Squamata\", \"subordem\": \"Serpentes\", \"ano_coleta\": 2013.0, \"qualificador_atual\": null, \"numero_catalogo\": 24953, \"genero_atual\": \"Taeniophallus\", \"especie_atual\": \"affinis\", \"subespecie_atual\": null}, {\"altitude\": 1480.0, \"familia\": \"Viperidae\", \"ordem\": \"Squamata\", \"subordem\": \"Serpentes\", \"ano_coleta\": 2014.0, \"qualificador_atual\": null, \"numero_catalogo\": 24969, \"genero_atual\": \"Bothrops\", \"especie_atual\": \"fonsecai\", \"subespecie_atual\": null}, {\"altitude\": 1490.0, \"familia\": \"Dipsadidae\", \"ordem\": \"Squamata\", \"subordem\": \"Serpentes\", \"ano_coleta\": 2010.0, \"qualificador_atual\": null, \"numero_catalogo\": 25980, \"genero_atual\": \"Atractus\", \"especie_atual\": \"biseriatus\", \"subespecie_atual\": null}, {\"altitude\": 1498.0, \"familia\": \"Anguidae\", \"ordem\": \"Squamata\", \"subordem\": \"Sauria\", \"ano_coleta\": 2014.0, \"qualificador_atual\": null, \"numero_catalogo\": 24975, \"genero_atual\": \"Ophiodes\", \"especie_atual\": \"fragilis\", \"subespecie_atual\": null}, {\"altitude\": 1498.0, \"familia\": \"Teiidae\", \"ordem\": \"Squamata\", \"subordem\": \"Sauria\", \"ano_coleta\": 2014.0, \"qualificador_atual\": null, \"numero_catalogo\": 24976, \"genero_atual\": \"Salvator\", \"especie_atual\": \"merianae\", \"subespecie_atual\": null}, {\"altitude\": 1498.0, \"familia\": \"Viperidae\", \"ordem\": \"Squamata\", \"subordem\": \"Serpentes\", \"ano_coleta\": 2014.0, \"qualificador_atual\": null, \"numero_catalogo\": 24954, \"genero_atual\": \"Bothrops\", \"especie_atual\": \"jararaca\", \"subespecie_atual\": null}, {\"altitude\": 1500.0, \"familia\": \"Colubridae\", \"ordem\": \"Squamata\", \"subordem\": \"Serpentes\", \"ano_coleta\": 2014.0, \"qualificador_atual\": null, \"numero_catalogo\": 24967, \"genero_atual\": \"Chironius\", \"especie_atual\": \"bicarinatus\", \"subespecie_atual\": null}, {\"altitude\": 1500.0, \"familia\": \"Dipsadidae\", \"ordem\": \"Squamata\", \"subordem\": \"Serpentes\", \"ano_coleta\": 1992.0, \"qualificador_atual\": \"aff.\", \"numero_catalogo\": 24957, \"genero_atual\": \"Atractus\", \"especie_atual\": \"senthlageae\", \"subespecie_atual\": null}, {\"altitude\": 1500.0, \"familia\": \"Scincidae\", \"ordem\": \"Squamata\", \"subordem\": \"Sauria\", \"ano_coleta\": 1998.0, \"qualificador_atual\": \"cf.\", \"numero_catalogo\": 6691, \"genero_atual\": \"Mabuya\", \"especie_atual\": \"dorsivittata\", \"subespecie_atual\": null}, {\"altitude\": 1511.0, \"familia\": \"Dipsadidae\", \"ordem\": \"Squamata\", \"subordem\": \"Serpentes\", \"ano_coleta\": 2014.0, \"qualificador_atual\": null, \"numero_catalogo\": 24951, \"genero_atual\": \"Oxyrhopus\", \"especie_atual\": \"clathratus\", \"subespecie_atual\": null}, {\"altitude\": 1527.0, \"familia\": \"Dipsadidae\", \"ordem\": \"Squamata\", \"subordem\": \"Serpentes\", \"ano_coleta\": 2014.0, \"qualificador_atual\": null, \"numero_catalogo\": 25278, \"genero_atual\": \"Xenodon\", \"especie_atual\": \"neuwiedii\", \"subespecie_atual\": null}, {\"altitude\": 1700.0, \"familia\": \"Leiosauridae\", \"ordem\": \"Squamata\", \"subordem\": \"Sauria\", \"ano_coleta\": 1948.0, \"qualificador_atual\": null, \"numero_catalogo\": 19181, \"genero_atual\": \"Urostrophus\", \"especie_atual\": \"vautieri\", \"subespecie_atual\": null}, {\"altitude\": 1740.0, \"familia\": \"Leiosauridae\", \"ordem\": \"Squamata\", \"subordem\": \"Sauria\", \"ano_coleta\": 2004.0, \"qualificador_atual\": null, \"numero_catalogo\": 14167, \"genero_atual\": \"Anisolepis\", \"especie_atual\": \"grilli\", \"subespecie_atual\": null}, {\"altitude\": 1802.0, \"familia\": \"Dipsadidae\", \"ordem\": \"Squamata\", \"subordem\": \"Serpentes\", \"ano_coleta\": 2007.0, \"qualificador_atual\": null, \"numero_catalogo\": 26263, \"genero_atual\": \"Atractus\", \"especie_atual\": \"nigricaudus\", \"subespecie_atual\": null}, {\"altitude\": 1850.0, \"familia\": \"Scincidae\", \"ordem\": \"Squamata\", \"subordem\": \"Sauria\", \"ano_coleta\": 2009.0, \"qualificador_atual\": null, \"numero_catalogo\": 20624, \"genero_atual\": \"Mabuya\", \"especie_atual\": \"dorsivittata\", \"subespecie_atual\": null}, {\"altitude\": 2070.0, \"familia\": \"Dipsadidae\", \"ordem\": \"Squamata\", \"subordem\": \"Serpentes\", \"ano_coleta\": 1989.0, \"qualificador_atual\": null, \"numero_catalogo\": 24960, \"genero_atual\": \"Atractus\", \"especie_atual\": \"carrioni\", \"subespecie_atual\": null}, {\"altitude\": 2100.0, \"familia\": \"Dipsadidae\", \"ordem\": \"Squamata\", \"subordem\": \"Serpentes\", \"ano_coleta\": 1999.0, \"qualificador_atual\": \"sp.\", \"numero_catalogo\": 8128, \"genero_atual\": \"Thamnodynastes\", \"especie_atual\": \"ramonriveroi\", \"subespecie_atual\": null}, {\"altitude\": 2100.0, \"familia\": \"Dipsadidae\", \"ordem\": \"Squamata\", \"subordem\": \"Serpentes\", \"ano_coleta\": null, \"qualificador_atual\": null, \"numero_catalogo\": 8134, \"genero_atual\": \"Sibon\", \"especie_atual\": \"nebulatus\", \"subespecie_atual\": null}, {\"altitude\": 2100.0, \"familia\": \"Dipsadidae\", \"ordem\": \"Squamata\", \"subordem\": \"Serpentes\", \"ano_coleta\": 1996.0, \"qualificador_atual\": null, \"numero_catalogo\": 24962, \"genero_atual\": \"Atractus\", \"especie_atual\": \"gigas\", \"subespecie_atual\": null}, {\"altitude\": 2100.0, \"familia\": \"Scincidae\", \"ordem\": \"Squamata\", \"subordem\": \"Sauria\", \"ano_coleta\": 1999.0, \"qualificador_atual\": null, \"numero_catalogo\": 8126, \"genero_atual\": \"Panopa\", \"especie_atual\": \"croizati\", \"subespecie_atual\": null}, {\"altitude\": 2130.0, \"familia\": \"Dipsadidae\", \"ordem\": \"Squamata\", \"subordem\": \"Serpentes\", \"ano_coleta\": 1999.0, \"qualificador_atual\": null, \"numero_catalogo\": 8127, \"genero_atual\": \"Atractus\", \"especie_atual\": \"matthewi\", \"subespecie_atual\": null}, {\"altitude\": 2134.0, \"familia\": \"Dipsadidae\", \"ordem\": \"Squamata\", \"subordem\": \"Serpentes\", \"ano_coleta\": 2011.0, \"qualificador_atual\": null, \"numero_catalogo\": 24187, \"genero_atual\": \"Atractus\", \"especie_atual\": \"titanicus\", \"subespecie_atual\": null}, {\"altitude\": 2200.0, \"familia\": \"Dipsadidae\", \"ordem\": \"Squamata\", \"subordem\": \"Serpentes\", \"ano_coleta\": 1996.0, \"qualificador_atual\": null, \"numero_catalogo\": 24963, \"genero_atual\": \"Atractus\", \"especie_atual\": \"duboisi\", \"subespecie_atual\": null}, {\"altitude\": 2237.0, \"familia\": \"Dipsadidae\", \"ordem\": \"Squamata\", \"subordem\": \"Serpentes\", \"ano_coleta\": 2009.0, \"qualificador_atual\": null, \"numero_catalogo\": 24941, \"genero_atual\": \"Liophis\", \"especie_atual\": \"vitti\", \"subespecie_atual\": null}, {\"altitude\": 2387.0, \"familia\": \"Gymnophthalmidae\", \"ordem\": \"Squamata\", \"subordem\": \"Sauria\", \"ano_coleta\": 2006.0, \"qualificador_atual\": null, \"numero_catalogo\": 15192, \"genero_atual\": \"Heterodactylus\", \"especie_atual\": \"lundii\", \"subespecie_atual\": null}, {\"altitude\": 2396.0, \"familia\": \"Gymnophthalmidae\", \"ordem\": \"Squamata\", \"subordem\": \"Sauria\", \"ano_coleta\": 2006.0, \"qualificador_atual\": null, \"numero_catalogo\": 15194, \"genero_atual\": \"Heterodactylus\", \"especie_atual\": \"lundii\", \"subespecie_atual\": null}, {\"altitude\": 2400.0, \"familia\": \"Dipsadidae\", \"ordem\": \"Squamata\", \"subordem\": \"Serpentes\", \"ano_coleta\": 2006.0, \"qualificador_atual\": null, \"numero_catalogo\": 14887, \"genero_atual\": \"Thamnodynastes\", \"especie_atual\": \"strigatus\", \"subespecie_atual\": null}, {\"altitude\": 2400.0, \"familia\": \"Gymnophthalmidae\", \"ordem\": \"Squamata\", \"subordem\": \"Sauria\", \"ano_coleta\": 2005.0, \"qualificador_atual\": null, \"numero_catalogo\": 15193, \"genero_atual\": \"Heterodactylus\", \"especie_atual\": \"lundii\", \"subespecie_atual\": null}, {\"altitude\": 2400.0, \"familia\": \"Gymnophthalmidae\", \"ordem\": \"Squamata\", \"subordem\": \"Sauria\", \"ano_coleta\": 2008.0, \"qualificador_atual\": null, \"numero_catalogo\": 18642, \"genero_atual\": \"Colobodactylus\", \"especie_atual\": \"dalcyanus\", \"subespecie_atual\": null}, {\"altitude\": 2400.0, \"familia\": \"Gymnophthalmidae\", \"ordem\": \"Squamata\", \"subordem\": \"Sauria\", \"ano_coleta\": 2008.0, \"qualificador_atual\": null, \"numero_catalogo\": 18643, \"genero_atual\": \"Colobodactylus\", \"especie_atual\": \"dalcyanus\", \"subespecie_atual\": null}, {\"altitude\": 2400.0, \"familia\": \"Gymnophthalmidae\", \"ordem\": \"Squamata\", \"subordem\": \"Sauria\", \"ano_coleta\": 2008.0, \"qualificador_atual\": null, \"numero_catalogo\": 18644, \"genero_atual\": \"Colobodactylus\", \"especie_atual\": \"dalcyanus\", \"subespecie_atual\": null}, {\"altitude\": 2400.0, \"familia\": \"Gymnophthalmidae\", \"ordem\": \"Squamata\", \"subordem\": \"Sauria\", \"ano_coleta\": 2008.0, \"qualificador_atual\": null, \"numero_catalogo\": 18645, \"genero_atual\": \"Colobodactylus\", \"especie_atual\": \"dalcyanus\", \"subespecie_atual\": null}, {\"altitude\": 2400.0, \"familia\": \"Gymnophthalmidae\", \"ordem\": \"Squamata\", \"subordem\": \"Sauria\", \"ano_coleta\": 2008.0, \"qualificador_atual\": null, \"numero_catalogo\": 18646, \"genero_atual\": \"Colobodactylus\", \"especie_atual\": \"dalcyanus\", \"subespecie_atual\": null}, {\"altitude\": 2400.0, \"familia\": \"Gymnophthalmidae\", \"ordem\": \"Squamata\", \"subordem\": \"Sauria\", \"ano_coleta\": 2008.0, \"qualificador_atual\": null, \"numero_catalogo\": 18647, \"genero_atual\": \"Colobodactylus\", \"especie_atual\": \"dalcyanus\", \"subespecie_atual\": null}, {\"altitude\": 2400.0, \"familia\": \"Gymnophthalmidae\", \"ordem\": \"Squamata\", \"subordem\": \"Sauria\", \"ano_coleta\": 2008.0, \"qualificador_atual\": null, \"numero_catalogo\": 18648, \"genero_atual\": \"Colobodactylus\", \"especie_atual\": \"dalcyanus\", \"subespecie_atual\": null}, {\"altitude\": 2400.0, \"familia\": \"Scincidae\", \"ordem\": \"Squamata\", \"subordem\": \"Sauria\", \"ano_coleta\": 2008.0, \"qualificador_atual\": null, \"numero_catalogo\": 17602, \"genero_atual\": \"Mabuya\", \"especie_atual\": \"dorsivittata\", \"subespecie_atual\": null}, {\"altitude\": 2500.0, \"familia\": \"Gymnophthalmidae\", \"ordem\": \"Squamata\", \"subordem\": \"Sauria\", \"ano_coleta\": 1983.0, \"qualificador_atual\": null, \"numero_catalogo\": 16550, \"genero_atual\": \"Cercosaura\", \"especie_atual\": \"schreibersii\", \"subespecie_atual\": null}, {\"altitude\": 2638.0, \"familia\": \"Dipsadidae\", \"ordem\": \"Squamata\", \"subordem\": \"Serpentes\", \"ano_coleta\": 2006.0, \"qualificador_atual\": null, \"numero_catalogo\": 24955, \"genero_atual\": \"Atractus\", \"especie_atual\": \"roulei\", \"subespecie_atual\": null}, {\"altitude\": 2777.0, \"familia\": \"Tropidophiidae\", \"ordem\": \"Squamata\", \"subordem\": \"Serpentes\", \"ano_coleta\": 2000.0, \"qualificador_atual\": null, \"numero_catalogo\": 24943, \"genero_atual\": \"Tropidophis\", \"especie_atual\": \"taczanowskyi\", \"subespecie_atual\": null}, {\"altitude\": 2800.0, \"familia\": \"Anguidae\", \"ordem\": \"Squamata\", \"subordem\": \"Sauria\", \"ano_coleta\": 1989.0, \"qualificador_atual\": null, \"numero_catalogo\": 8418, \"genero_atual\": \"Diploglossus\", \"especie_atual\": \"lessonae\", \"subespecie_atual\": null}]}}, {\"mode\": \"vega-lite\"});\n",
       "</script>"
      ],
      "text/plain": [
       "alt.Chart(...)"
      ]
     },
     "execution_count": 15,
     "metadata": {},
     "output_type": "execute_result"
    }
   ],
   "source": [
    "temp = alt.Chart(teste[teste['familia'] != \"#n/d\"], title='Altitude per family').mark_circle().encode(\n",
    "    x = alt.X('familia', type='nominal', title='Family', \n",
    "              sort= alt.EncodingSortField('altitude', op='max', order='ascending')),\n",
    "    y = alt.Y('altitude', type='quantitative', title='Altitude (in meters)'),\n",
    "    color= alt.Color('ordem', scale=alt.Scale(domain=ordens, range=cores)),\n",
    "    tooltip = alt.Tooltip(['numero_catalogo', 'genero_atual','especie_atual','subespecie_atual', \n",
    "                            'qualificador_atual', 'ano_coleta','altitude'])\n",
    ")\n",
    "\n",
    "temp.save('./graphs/altitude/altitude_per_family.html')\n",
    "temp.facet(column='ordem').configure_title(fontSize=16).configure_axis(\n",
    "    labelFontSize=12,\n",
    "    titleFontSize=12\n",
    ").configure_legend(\n",
    "    labelFontSize=12,\n",
    "    titleFontSize=12\n",
    ").save('./graphs/altitude/altitude_per_family-facetado.html')\n",
    "\n",
    "\n",
    "alt_squam = alt.Chart(teste[(teste['ordem'] == 'Squamata') & (teste['familia'] != \"#n/d\")],\n",
    "                      title='Altitude per family (Squamata)').mark_circle(color= cores[0]).encode(\n",
    "    x = alt.X('familia', type='nominal', title='Family', \n",
    "              sort= alt.EncodingSortField('altitude', op='max', order='ascending')),\n",
    "    y = alt.Y('altitude', type='quantitative', title='Altitude (in meters)'),\n",
    "    tooltip = alt.Tooltip(['numero_catalogo', 'genero_atual','especie_atual','subespecie_atual', \n",
    "                           'ordem', 'subordem',\n",
    "                            'qualificador_atual', 'ano_coleta','altitude'])\n",
    ")\n",
    "\n",
    "alt_squam = alt_squam.configure_title(fontSize=16).configure_axis(\n",
    "    labelFontSize=12,\n",
    "    titleFontSize=12\n",
    ").configure_legend(\n",
    "    labelFontSize=12,\n",
    "    titleFontSize=12\n",
    ")\n",
    "\n",
    "# alt_squam.save('./graphs/altitude/altitude_per_family-squamata.html')\n",
    "alt_squam"
   ]
  },
  {
   "cell_type": "markdown",
   "metadata": {},
   "source": [
    "<br>\n",
    "\n",
    "<font color='red' size=5><b>Paleta nova (por familia)</b></font>"
   ]
  },
  {
   "cell_type": "code",
   "execution_count": 18,
   "metadata": {
    "ExecuteTime": {
     "end_time": "2021-02-08T14:18:48.570346Z",
     "start_time": "2021-02-08T14:18:48.537067Z"
    }
   },
   "outputs": [],
   "source": [
    "familias = [f for f in cores_familia.keys() if f in teste['familia'].unique()]\n",
    "cores_temp = [cores_familia[f] for f in familias]\n",
    "\n",
    "temp = alt.Chart(teste[teste['familia'] != \"#n/d\"], title='Altitude per family', width=500).mark_circle().encode(\n",
    "    x = alt.X('familia', type='nominal', title='Family', \n",
    "              sort= alt.EncodingSortField('altitude', op='max', order='ascending')),\n",
    "    y = alt.Y('altitude', type='quantitative', title='Altitude (in meters)'),\n",
    "    color= alt.Color('familia:N', title= 'Family', \n",
    "                     legend = alt.Legend(columns=1, symbolLimit=42),\n",
    "                     scale=alt.Scale(domain= familias, range= cores_temp)),\n",
    "    tooltip = alt.Tooltip(['numero_catalogo', 'genero_atual','especie_atual','subespecie_atual', \n",
    "                            'qualificador_atual', 'ano_coleta','altitude'])\n",
    ")\n",
    "\n",
    "### Faceted version (per order)\n",
    "# temp.facet(column='ordem').configure_title(fontSize=16).configure_axis(\n",
    "#     labelFontSize=12,\n",
    "#     titleFontSize=12\n",
    "# ).configure_legend(\n",
    "#     labelFontSize=12,\n",
    "#     titleFontSize=12\n",
    "# ).save('./graphs/altitude/altitude_per_family-facetado.html')\n",
    "\n",
    "\n",
    "temp = temp.configure_title(fontSize=16).configure_axis(\n",
    "    labelFontSize=12,\n",
    "    titleFontSize=12\n",
    ").configure_legend(\n",
    "    labelFontSize=12,\n",
    "    titleFontSize=12\n",
    ")\n",
    "\n",
    "# temp.save('./graphs/altitude/altitude_per_family.html')\n",
    "\n",
    "# temp"
   ]
  },
  {
   "cell_type": "code",
   "execution_count": 21,
   "metadata": {
    "ExecuteTime": {
     "end_time": "2021-02-08T14:18:58.773414Z",
     "start_time": "2021-02-08T14:18:58.695623Z"
    }
   },
   "outputs": [],
   "source": [
    "# defining color chanel domain and range, respectively\n",
    "familias = [f for f in cores_familia.keys() if f in teste[teste['ordem'] == 'Squamata']['familia'].unique()]\n",
    "cores_temp = [cores_familia[f] for f in familias]\n",
    "\n",
    "# only order Squamata\n",
    "alt_squam = alt.Chart(teste[(teste['ordem'] == 'Squamata') & (teste['familia'] != \"#n/d\")],\n",
    "                      title='Altitude per family (Squamata)', width=500).mark_circle(color= cores[0]).encode(\n",
    "    x = alt.X('familia', type='nominal', title='Family', \n",
    "              sort= alt.EncodingSortField('altitude', op='max', order='ascending')),\n",
    "    y = alt.Y('altitude', type='quantitative', title='Altitude (in meters)'),\n",
    "    color = alt.Color('familia:N', title='Family', \n",
    "                      legend= alt.Legend(columns=1, symbolLimit=42),\n",
    "                      scale= alt.Scale(domain= familias, range= cores_temp)),\n",
    "    tooltip = alt.Tooltip(['numero_catalogo', 'genero_atual','especie_atual','subespecie_atual', \n",
    "                           'ordem', 'subordem',\n",
    "                            'qualificador_atual', 'ano_coleta','altitude'])\n",
    ")\n",
    "\n",
    "alt_squam = alt_squam.configure_title(fontSize=16).configure_axis(\n",
    "    labelFontSize=12,\n",
    "    titleFontSize=12\n",
    ").configure_legend(\n",
    "    labelFontSize=12,\n",
    "    titleFontSize=12\n",
    ")\n",
    "\n",
    "# alt_squam.save('./graphs/altitude/altitude_per_family-squamata.html')\n",
    "# alt_squam"
   ]
  },
  {
   "cell_type": "markdown",
   "metadata": {},
   "source": [
    "<br>\n",
    "\n",
    "## Altitude per genus"
   ]
  },
  {
   "cell_type": "code",
   "execution_count": 22,
   "metadata": {
    "ExecuteTime": {
     "end_time": "2021-02-08T14:19:01.013839Z",
     "start_time": "2021-02-08T14:19:00.992967Z"
    }
   },
   "outputs": [],
   "source": [
    "teste = NewTable[['altitude','especie_atual','genero_atual','ordem', 'subordem',\n",
    "                 'familia', 'ano_coleta', 'qualificador_atual', 'numero_catalogo', 'subespecie_atual']].copy()\n",
    "\n",
    "# making sure altitude is a floating point number\n",
    "teste['altitude'] = teste['altitude'].astype(float)\n",
    "\n",
    "# sorting\n",
    "teste = teste.sort_values(['altitude','genero_atual'])\n",
    "\n",
    "# dropping na\n",
    "teste = teste.dropna(subset=['altitude'])\n",
    "\n",
    "# removing outlier\n",
    "teste = teste[teste['altitude'] < 7000].copy()"
   ]
  },
  {
   "cell_type": "code",
   "execution_count": 24,
   "metadata": {
    "ExecuteTime": {
     "end_time": "2021-02-08T14:19:06.606567Z",
     "start_time": "2021-02-08T14:19:06.581827Z"
    }
   },
   "outputs": [],
   "source": [
    "# ordering x-axis per mean altitude - OUTLIER: ordem nula\n",
    "temp = alt.Chart(teste[~teste['ordem'].isna()], title='Altitude per genus',\n",
    "                width= 900, height=400).mark_circle().encode(\n",
    "    x = alt.X('genero_atual', type='nominal', title='Genus',\n",
    "             sort=alt.EncodingSortField('altitude', op=\"max\", order=\"ascending\")),\n",
    "    y = alt.Y('altitude', type='quantitative', title='Altitude (in meters)'),\n",
    "    color = alt.Color('familia:N', title='Family',\n",
    "                      legend= alt.Legend(columns=2, symbolLimit=50),\n",
    "                      scale= alt.Scale(domain=list(cores_familia.keys()), range= list(cores_familia.values()))),\n",
    "    tooltip = alt.Tooltip(['numero_catalogo', 'genero_atual','especie_atual','subespecie_atual', \n",
    "                           'ordem', 'subordem',\n",
    "                            'qualificador_atual', 'ano_coleta','altitude'])\n",
    ")\n",
    "\n",
    "temp= temp.configure_title(fontSize=16).configure_axis(\n",
    "    labelFontSize=12,\n",
    "    titleFontSize=12\n",
    ").configure_legend(\n",
    "    labelFontSize=12,\n",
    "    titleFontSize=12\n",
    ")\n",
    "\n",
    "# temp.save('./graphs/altitude/genus/altitude-per-genus.html')\n",
    "# temp"
   ]
  },
  {
   "cell_type": "code",
   "execution_count": 25,
   "metadata": {
    "ExecuteTime": {
     "end_time": "2021-02-08T14:19:08.850468Z",
     "start_time": "2021-02-08T14:19:08.671270Z"
    }
   },
   "outputs": [],
   "source": [
    "# input do especialista: altitude não faz sentido para crocodilianos\n",
    "# separating per order\n",
    "for j in range(2):\n",
    "    # defining color chanel domain and range, respectively\n",
    "    familias = [f for f in cores_familia.keys() if f in teste[teste['ordem'] == ordens[j]]['familia'].unique()]\n",
    "    cores_temp = [cores_familia[f] for f in familias]\n",
    "    \n",
    "    temp = alt.Chart(teste[(~teste['ordem'].isna()) & (teste['ordem'] == ordens[j])], width=800,\n",
    "                     title=f'Altitude per genus ({ordens[j]})').mark_circle(color= cores[j]).encode(\n",
    "        x = alt.X('genero_atual', type='nominal', title='Genus',\n",
    "                 sort=alt.EncodingSortField('altitude', op=\"max\", order=\"ascending\")),\n",
    "        y = alt.Y('altitude', type='quantitative', title='Altitude (in meters)'),\n",
    "        color= alt.Color('familia:N', title='Family', \n",
    "                         legend= alt.Legend(columns=1, symbolLimit=42),\n",
    "                         scale= alt.Scale(domain= familias, range= cores_temp)),\n",
    "        tooltip = alt.Tooltip(['numero_catalogo','especie_atual','subespecie_atual', \n",
    "                               'ordem', 'subordem',\n",
    "                            'qualificador_atual', 'ano_coleta','altitude'])\n",
    "    )\n",
    "    \n",
    "    temp = temp.configure_title(fontSize=16).configure_axis(\n",
    "                labelFontSize=12,\n",
    "                titleFontSize=12\n",
    "            ).configure_legend(\n",
    "                labelFontSize=12,\n",
    "                titleFontSize=12\n",
    "            )\n",
    "    temp.save(f'./graphs/altitude/genus/altitude_per_genus-{ordens[j]}.html')\n",
    "\n",
    "# temp"
   ]
  },
  {
   "cell_type": "markdown",
   "metadata": {},
   "source": [
    "<br>\n",
    "\n",
    "## Separating per variance groups\n",
    "\n",
    "**p.s.:** in this case, variance doesn't make much sense for groups with only one or two observations. So I'm separating per \"density\" (counting) groups as a proxy. \n",
    "\n",
    "<font color='red' size=4>Separando grupos de \"maior variância\" - mais variabilidade ou contagem de pontos para um mesmo gênero/espécie </font>\n",
    "\n",
    "OBS: acabei separando pela contagem de pontos (generos mais e menos representados)"
   ]
  },
  {
   "cell_type": "code",
   "execution_count": 26,
   "metadata": {
    "ExecuteTime": {
     "end_time": "2021-02-08T14:19:10.161454Z",
     "start_time": "2021-02-08T14:19:10.152133Z"
    }
   },
   "outputs": [],
   "source": [
    "# input do especialista: altitude faz mais sentido apenas para a ordem Squamata\n",
    "squamata = teste[teste['ordem'] == 'Squamata'].copy()\n",
    "squamata['altitude'] = squamata['altitude'].astype(float)\n",
    "\n",
    "# counting per gender\n",
    "sort = squamata.groupby('genero_atual').count()['ordem'].reset_index().rename(columns={'ordem':'counts'})"
   ]
  },
  {
   "cell_type": "code",
   "execution_count": 27,
   "metadata": {
    "ExecuteTime": {
     "end_time": "2021-02-08T14:19:10.448119Z",
     "start_time": "2021-02-08T14:19:10.443304Z"
    }
   },
   "outputs": [],
   "source": [
    "threshold = 2\n",
    "\n",
    "# mais variabilidade (threshold: counts >=2)\n",
    "grupo1 = sort[sort['counts'] > threshold]['genero_atual']\n",
    "\n",
    "# menos variabilidade\n",
    "grupo2 = sort[sort['counts'] <= threshold]['genero_atual']"
   ]
  },
  {
   "cell_type": "markdown",
   "metadata": {},
   "source": [
    "#### grupo de maior dispersão\n",
    "\n",
    "coincide com grupo com mais de 2 pontos"
   ]
  },
  {
   "cell_type": "code",
   "execution_count": 30,
   "metadata": {
    "ExecuteTime": {
     "end_time": "2021-02-08T14:19:22.117895Z",
     "start_time": "2021-02-08T14:19:22.045046Z"
    }
   },
   "outputs": [],
   "source": [
    "# defining color chanel domain and range, respectively\n",
    "familias = [f for f in cores_familia.keys() if f in squamata[(squamata['genero_atual'].isin(grupo1))]['familia'].unique()]\n",
    "cores_temp = [cores_familia[f] for f in familias]\n",
    "\n",
    "# ordering x-axis per mean altitude\n",
    "temp = alt.Chart(squamata[(squamata['genero_atual'].isin(grupo1))], width= 800,\n",
    "                 title='Altitude per genus (Squamata)').mark_circle(color= cores[0]).encode(\n",
    "    x = alt.X('genero_atual', type='nominal', title='Genus',\n",
    "             sort=alt.EncodingSortField('altitude', op='max', order=\"ascending\")),\n",
    "    y = alt.Y('altitude', type='quantitative', title='Altitude (in meters)'),\n",
    "    color = alt.Color('familia:N', title='Familia', \n",
    "                      legend= alt.Legend(columns=1, symbolLimit=42), \n",
    "                      scale= alt.Scale(domain= familias, range= cores_temp)),\n",
    "    tooltip = alt.Tooltip(['numero_catalogo','especie_atual','subespecie_atual', \n",
    "                           'ordem', 'subordem', 'familia',\n",
    "                            'qualificador_atual', 'ano_coleta','altitude'])\n",
    ")\n",
    "\n",
    "temp = temp.configure_title(fontSize=16).configure_axis(\n",
    "    labelFontSize=12,\n",
    "    titleFontSize=12\n",
    ").configure_legend(\n",
    "    labelFontSize=12,\n",
    "    titleFontSize=12\n",
    ")\n",
    "\n",
    "# temp.save('./graphs/altitude/genus/altitude_per_genus-maior-var.html')\n",
    "# temp"
   ]
  },
  {
   "cell_type": "markdown",
   "metadata": {},
   "source": [
    "#### grupo de menor dispersão\n",
    "\n",
    "menos pontos (generos menos representados)"
   ]
  },
  {
   "cell_type": "code",
   "execution_count": 31,
   "metadata": {
    "ExecuteTime": {
     "end_time": "2021-02-08T14:19:23.041895Z",
     "start_time": "2021-02-08T14:19:23.030891Z"
    }
   },
   "outputs": [
    {
     "data": {
      "text/plain": [
       "NaN     625\n",
       "sp.      10\n",
       "cf.       5\n",
       "aff.      5\n",
       "c.        1\n",
       "Name: qualificador_atual, dtype: int64"
      ]
     },
     "execution_count": 31,
     "metadata": {},
     "output_type": "execute_result"
    }
   ],
   "source": [
    "# não dá para usar como marca gráfica (muitos valores faltando)\n",
    "teste['qualificador_atual'].value_counts(dropna=False)"
   ]
  },
  {
   "cell_type": "code",
   "execution_count": 33,
   "metadata": {
    "ExecuteTime": {
     "end_time": "2021-02-08T14:19:31.210647Z",
     "start_time": "2021-02-08T14:19:31.143245Z"
    },
    "scrolled": false
   },
   "outputs": [],
   "source": [
    "# defining color chanel domain and range, respectively\n",
    "familias = [f for f in cores_familia.keys() if f in squamata[(squamata['genero_atual'].isin(grupo2))]['familia'].unique()]\n",
    "cores_temp = [cores_familia[f] for f in familias]\n",
    "\n",
    "# ordering x-axis per mean altitude\n",
    "temp = alt.Chart(squamata[(squamata['genero_atual'].isin(grupo2))], title='Altitude per genus (Squamata)',\n",
    "                width=800).mark_circle(color= cores[0]).encode(\n",
    "    x = alt.X('genero_atual', type='nominal', title='Genus',\n",
    "             sort=alt.EncodingSortField('altitude', op=\"max\", order=\"ascending\")),\n",
    "    color = alt.Color('familia:N', title='Familia', \n",
    "                  legend= alt.Legend(columns=1, symbolLimit=42), \n",
    "                  scale= alt.Scale(domain= familias, range= cores_temp)),\n",
    "    y = alt.Y('altitude', type='quantitative', title='Altitude (in meters)'),\n",
    "    tooltip = alt.Tooltip(['numero_catalogo','especie_atual','subespecie_atual', \n",
    "                           'ordem', 'subordem',\n",
    "                            'qualificador_atual', 'ano_coleta','altitude'])\n",
    ")\n",
    "\n",
    "temp = temp.configure_title(fontSize=16).configure_axis(\n",
    "    labelFontSize=12,\n",
    "    titleFontSize=12\n",
    ").configure_legend(\n",
    "    labelFontSize=12,\n",
    "    titleFontSize=12\n",
    ")\n",
    "\n",
    "# temp.save('./graphs/altitude/genus/altitude_per_genus-menor-var.html')\n",
    "# temp"
   ]
  },
  {
   "cell_type": "markdown",
   "metadata": {},
   "source": [
    "<br>\n",
    "\n",
    "**Thats it!**\n",
    "\n",
    "-----"
   ]
  }
 ],
 "metadata": {
  "kernelspec": {
   "display_name": "Python 3",
   "language": "python",
   "name": "python3"
  },
  "language_info": {
   "codemirror_mode": {
    "name": "ipython",
    "version": 3
   },
   "file_extension": ".py",
   "mimetype": "text/x-python",
   "name": "python",
   "nbconvert_exporter": "python",
   "pygments_lexer": "ipython3",
   "version": "3.9.1"
  },
  "latex_envs": {
   "LaTeX_envs_menu_present": true,
   "autoclose": false,
   "autocomplete": true,
   "bibliofile": "biblio.bib",
   "cite_by": "apalike",
   "current_citInitial": 1,
   "eqLabelWithNumbers": true,
   "eqNumInitial": 1,
   "hotkeys": {
    "equation": "Ctrl-E",
    "itemize": "Ctrl-I"
   },
   "labels_anchors": false,
   "latex_user_defs": false,
   "report_style_numbering": false,
   "user_envs_cfg": false
  },
  "toc": {
   "base_numbering": 1,
   "nav_menu": {},
   "number_sections": false,
   "sideBar": true,
   "skip_h1_title": false,
   "title_cell": "Table of Contents",
   "title_sidebar": "Contents",
   "toc_cell": false,
   "toc_position": {},
   "toc_section_display": true,
   "toc_window_display": false
  },
  "varInspector": {
   "cols": {
    "lenName": 16,
    "lenType": 16,
    "lenVar": 40
   },
   "kernels_config": {
    "python": {
     "delete_cmd_postfix": "",
     "delete_cmd_prefix": "del ",
     "library": "var_list.py",
     "varRefreshCmd": "print(var_dic_list())"
    },
    "r": {
     "delete_cmd_postfix": ") ",
     "delete_cmd_prefix": "rm(",
     "library": "var_list.r",
     "varRefreshCmd": "cat(var_dic_list()) "
    }
   },
   "position": {
    "height": "391.35px",
    "left": "900.5px",
    "right": "20px",
    "top": "96px",
    "width": "536.5px"
   },
   "types_to_exclude": [
    "module",
    "function",
    "builtin_function_or_method",
    "instance",
    "_Feature"
   ],
   "window_display": false
  }
 },
 "nbformat": 4,
 "nbformat_minor": 2
}
