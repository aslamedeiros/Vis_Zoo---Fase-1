{
 "cells": [
  {
   "cell_type": "markdown",
   "metadata": {},
   "source": [
    "# Database Exploration\n",
    "\n",
    "By **Franklin Oliveira**\n",
    "\n",
    "-----\n",
    "\n",
    "This notebook contains some code written to I (Franklin) get accquainted with the `repteis` database. Here you'll find some basic data treatment and adjustments that presented necessary as I started to understand the nature of the information in file <font color='blue'>'Compilacao Livros Repteis - 2 a 10 - 2020_04_28.xls'</font>."
   ]
  },
  {
   "cell_type": "code",
   "execution_count": 1,
   "metadata": {
    "ExecuteTime": {
     "end_time": "2021-02-15T14:01:08.970840Z",
     "start_time": "2021-02-15T14:01:08.057742Z"
    }
   },
   "outputs": [
    {
     "data": {
      "text/plain": [
       "DataTransformerRegistry.enable('default')"
      ]
     },
     "execution_count": 1,
     "metadata": {},
     "output_type": "execute_result"
    }
   ],
   "source": [
    "import datetime\n",
    "import numpy as np\n",
    "import pandas as pd\n",
    "\n",
    "from collections import defaultdict\n",
    "\n",
    "# pacotes para visualização rápida\n",
    "import seaborn as sns\n",
    "import matplotlib.pyplot as plt\n",
    "\n",
    "# pacote para visualização principal\n",
    "import altair as alt\n",
    "\n",
    "# habilitando renderizador para notebook\n",
    "# alt.renderers.enable('notebook')\n",
    "# alt.renderers.enable('default')\n",
    "\n",
    "\n",
    "# desabilitando limite de linhas\n",
    "alt.data_transformers.disable_max_rows()"
   ]
  },
  {
   "cell_type": "markdown",
   "metadata": {},
   "source": [
    "## Importing data...\n",
    "\n",
    "Importing pre-treated data in `1-data_treatment.ipynb`. In this notebook, I'm doing only some minnor adjustments for visualization purposes only. For a full traceback of data treatment, please see the `1-data_treatment` notebook."
   ]
  },
  {
   "cell_type": "code",
   "execution_count": 2,
   "metadata": {
    "ExecuteTime": {
     "end_time": "2021-02-15T14:01:09.149664Z",
     "start_time": "2021-02-15T14:01:08.972542Z"
    }
   },
   "outputs": [],
   "source": [
    "NewTable = pd.read_csv('./data/treated_db.csv', sep=';', encoding='utf-8', low_memory= False)"
   ]
  },
  {
   "cell_type": "markdown",
   "metadata": {},
   "source": [
    "<br>\n",
    "\n",
    "<font size=5>**Color palette**</font>\n",
    "\n",
    "<!-- <img src=\"./src/paleta_cores.jpeg\" width='500px'> -->"
   ]
  },
  {
   "cell_type": "code",
   "execution_count": 3,
   "metadata": {
    "ExecuteTime": {
     "end_time": "2021-02-15T14:01:09.155062Z",
     "start_time": "2021-02-15T14:01:09.151537Z"
    }
   },
   "outputs": [],
   "source": [
    "# importing customized color palettes\n",
    "from src.MNViz_colors import *"
   ]
  },
  {
   "cell_type": "markdown",
   "metadata": {},
   "source": [
    "<br>\n",
    "\n",
    "---\n",
    "\n",
    "## Graphs\n",
    "\n",
    "### Total amount of catalogations per year\n",
    "\n",
    "x: Start Year (from Start Date)\n",
    "y: number of catalogations per year"
   ]
  },
  {
   "cell_type": "markdown",
   "metadata": {},
   "source": [
    "-----\n",
    "\n",
    "## Altitude per family"
   ]
  },
  {
   "cell_type": "code",
   "execution_count": 4,
   "metadata": {
    "ExecuteTime": {
     "end_time": "2021-02-15T14:01:09.217432Z",
     "start_time": "2021-02-15T14:01:09.157017Z"
    }
   },
   "outputs": [],
   "source": [
    "# subsetting\n",
    "teste = NewTable[['altitude','familia','ordem','subordem', 'ano_coleta', 'qualificador_atual', 'numero_catalogo', \n",
    "                  'genero_atual', 'especie_atual', 'subespecie_atual']].copy()\n",
    "\n",
    "# sorting\n",
    "teste = teste.sort_values(['altitude','familia'])\n",
    "\n",
    "# dropping na\n",
    "teste.dropna(subset=['altitude'], inplace=True)\n",
    "\n",
    "# making sure altitude is a floating point number\n",
    "teste['altitude'] = teste['altitude'].astype(float)\n",
    "\n",
    "# removing outlier\n",
    "teste = teste[teste['altitude'] < 7000].copy()"
   ]
  },
  {
   "cell_type": "markdown",
   "metadata": {},
   "source": [
    "<br>\n",
    "\n",
    "**OBS:** ainda na paleta antiga (por ordem)"
   ]
  },
  {
   "cell_type": "code",
   "execution_count": 8,
   "metadata": {
    "ExecuteTime": {
     "end_time": "2021-02-15T14:02:00.581662Z",
     "start_time": "2021-02-15T14:02:00.570849Z"
    }
   },
   "outputs": [],
   "source": [
    "# database\n",
    "db = teste[teste['familia'] != \"#n/d\"]\n",
    "\n",
    "# aux. variables\n",
    "ordens = list(cores_ordem.keys())\n",
    "cores = list(cores_ordem.values())\n",
    "\n",
    "temp = alt.Chart(db, title='Altitude per family').mark_circle().encode(\n",
    "    x = alt.X('familia', type='nominal', title='Family', \n",
    "              sort= alt.EncodingSortField('altitude', op='max', order='ascending')),\n",
    "    y = alt.Y('altitude', type='quantitative', title='Altitude (in meters)'),\n",
    "    color= alt.Color('ordem', title='Order',\n",
    "                     scale=alt.Scale(domain=ordens, range=cores)),\n",
    "    tooltip = alt.Tooltip(['numero_catalogo', 'genero_atual','especie_atual','subespecie_atual', \n",
    "                            'qualificador_atual', 'ano_coleta','altitude'])\n",
    ")\n",
    "\n",
    "# temp.facet(column='ordem').configure_title(fontSize=16).configure_axis(\n",
    "#     labelFontSize=12,\n",
    "#     titleFontSize=12\n",
    "# ).configure_legend(\n",
    "#     labelFontSize=12,\n",
    "#     titleFontSize=12\n",
    "# ).save('./graphs/altitude/altitude_per_family-faceted.html')\n",
    "\n",
    "# temp.save('./graphs/altitude/altitude_per_family-order_palette.html')\n",
    "# temp"
   ]
  },
  {
   "cell_type": "markdown",
   "metadata": {},
   "source": [
    "#### Filtering only order `Squamata`"
   ]
  },
  {
   "cell_type": "code",
   "execution_count": 10,
   "metadata": {
    "ExecuteTime": {
     "end_time": "2021-02-15T14:02:11.162834Z",
     "start_time": "2021-02-15T14:02:11.153092Z"
    }
   },
   "outputs": [],
   "source": [
    "# database\n",
    "db = teste[(teste['ordem'] == 'Squamata') & (teste['familia'] != \"#n/d\")]\n",
    "\n",
    "alt_squam = alt.Chart(db,\n",
    "        title='Altitude per family (Squamata)').mark_circle(color= cores[0]).encode(\n",
    "    x = alt.X('familia', type='nominal', title='Family', \n",
    "              sort= alt.EncodingSortField('altitude', op='max', order='ascending')),\n",
    "    y = alt.Y('altitude', type='quantitative', title='Altitude (in meters)'),\n",
    "    tooltip = alt.Tooltip(['numero_catalogo', 'genero_atual','especie_atual','subespecie_atual', \n",
    "                           'ordem', 'subordem',\n",
    "                            'qualificador_atual', 'ano_coleta','altitude'])\n",
    ")\n",
    "\n",
    "alt_squam = alt_squam.configure_title(fontSize=16).configure_axis(\n",
    "    labelFontSize=12,\n",
    "    titleFontSize=12\n",
    ").configure_legend(\n",
    "    labelFontSize=12,\n",
    "    titleFontSize=12\n",
    ")\n",
    "\n",
    "# alt_squam.save('./graphs/altitude/altitude_per_family-squamata.html')\n",
    "# alt_squam"
   ]
  },
  {
   "cell_type": "markdown",
   "metadata": {},
   "source": [
    "<br>\n",
    "\n",
    "### New Palette (per family)"
   ]
  },
  {
   "cell_type": "code",
   "execution_count": 29,
   "metadata": {
    "ExecuteTime": {
     "end_time": "2021-02-15T14:09:56.911224Z",
     "start_time": "2021-02-15T14:09:56.875785Z"
    }
   },
   "outputs": [],
   "source": [
    "# database\n",
    "db = teste[teste['familia'] != \"#n/d\"]\n",
    "\n",
    "# aux. variables\n",
    "# familias = [f for f in cores_familia.keys() if f in teste['familia'].unique()]\n",
    "# cores_temp = [cores_familia[f] for f in familias]\n",
    "x_labels = db.sort_values('altitude', ascending=False)['familia'].unique()[::-1]\n",
    "y_max = db['altitude'].max()\n",
    "y_min = db['altitude'].min()\n",
    "\n",
    "# selector\n",
    "select_family = alt.selection_multi(fields=['familia'], bind='legend')\n",
    "\n",
    "g = alt.Chart(db, title='Altitude per family', width=500).mark_circle().encode(\n",
    "    x = alt.X('familia', type='nominal', title='Family', \n",
    "              scale= alt.Scale(domain= x_labels),\n",
    "              sort= alt.EncodingSortField('altitude', op='max', order='ascending')),\n",
    "    y = alt.Y('altitude', type='quantitative', title='Altitude (in meters)',\n",
    "              scale= alt.Scale(domain= [min(y_min, 0), y_max])),\n",
    "    color= alt.Color('familia:N', title= 'Family', \n",
    "                     legend = alt.Legend(columns=2, symbolLimit=50),\n",
    "                     scale=alt.Scale(domain= list(cores_familia.keys()), \n",
    "                                     range= list(cores_familia.values()))),\n",
    "    tooltip = alt.Tooltip(['numero_catalogo', 'genero_atual','especie_atual','subespecie_atual', \n",
    "                            'qualificador_atual', 'ano_coleta','altitude'])\n",
    ").add_selection(select_family).transform_filter(select_family)\n",
    "\n",
    "### Faceted version (per order)\n",
    "# g.facet(column='ordem').configure_title(fontSize=16).configure_axis(\n",
    "#     labelFontSize=12,\n",
    "#     titleFontSize=12\n",
    "# ).configure_legend(\n",
    "#     labelFontSize=12,\n",
    "#     titleFontSize=12\n",
    "# ).save('./graphs/altitude/altitude_per_family-faceted.html')\n",
    "\n",
    "\n",
    "g = g.configure_title(fontSize=16).configure_axis(\n",
    "    labelFontSize=12,\n",
    "    titleFontSize=12\n",
    ").configure_legend(\n",
    "    labelFontSize=12,\n",
    "    titleFontSize=12\n",
    ")\n",
    "\n",
    "# g.save('./graphs/altitude/altitude_per_family.html')\n",
    "# g"
   ]
  },
  {
   "cell_type": "code",
   "execution_count": 25,
   "metadata": {
    "ExecuteTime": {
     "end_time": "2021-02-15T14:07:46.692862Z",
     "start_time": "2021-02-15T14:07:46.623237Z"
    }
   },
   "outputs": [],
   "source": [
    "# database - filtering only order Squamata\n",
    "db = teste[(teste['ordem'] == 'Squamata') & (teste['familia'] != \"#n/d\")]\n",
    "\n",
    "# aux. variables\n",
    "familias = [f for f in cores_familia.keys() if f in teste[teste['ordem'] == 'Squamata']['familia'].unique()]\n",
    "cores_temp = [cores_familia[f] for f in familias]\n",
    "x_labels = db.sort_values('altitude', ascending=False)['familia'].unique()[::-1]\n",
    "y_max = db['altitude'].max()\n",
    "y_min = db['altitude'].min()\n",
    "\n",
    "# selector\n",
    "select_family = alt.selection_multi(fields=['familia'], bind='legend')\n",
    "\n",
    "# chart\n",
    "alt_squam = alt.Chart(db, title='Altitude per family (Squamata)', width=500).mark_circle(\n",
    "    color= cores[0]).encode(\n",
    "        x = alt.X('familia', type='nominal', title='Family', \n",
    "                  scale= alt.Scale(domain= x_labels),\n",
    "                  sort= alt.EncodingSortField('altitude', op='max', order='ascending')),\n",
    "        y = alt.Y('altitude', type='quantitative', title='Altitude (in meters)', \n",
    "                  scale= alt.Scale(domain= [min(y_min, 0), y_max])),\n",
    "        color = alt.Color('familia:N', title='Family', \n",
    "                          legend= alt.Legend(columns=1, symbolLimit=50),\n",
    "                          scale= alt.Scale(domain= familias, \n",
    "                                           range= cores_temp)),\n",
    "        tooltip = alt.Tooltip(['numero_catalogo', 'genero_atual','especie_atual','subespecie_atual', \n",
    "                               'ordem', 'subordem',\n",
    "                                'qualificador_atual', 'ano_coleta','altitude'])\n",
    ").add_selection(select_family).transform_filter(select_family)\n",
    "\n",
    "alt_squam = alt_squam.configure_title(fontSize=16).configure_axis(\n",
    "    labelFontSize=12,\n",
    "    titleFontSize=12\n",
    ").configure_legend(\n",
    "    labelFontSize=12,\n",
    "    titleFontSize=12\n",
    ")\n",
    "\n",
    "# alt_squam.save('./graphs/altitude/altitude_per_family-squamata.html')\n",
    "# alt_squam"
   ]
  },
  {
   "cell_type": "markdown",
   "metadata": {},
   "source": [
    "<br>\n",
    "\n",
    "## Altitude per genus"
   ]
  },
  {
   "cell_type": "code",
   "execution_count": 9,
   "metadata": {
    "ExecuteTime": {
     "end_time": "2021-02-15T13:43:14.027967Z",
     "start_time": "2021-02-15T13:43:14.010127Z"
    }
   },
   "outputs": [],
   "source": [
    "teste = NewTable[['altitude','especie_atual','genero_atual','ordem', 'subordem',\n",
    "                 'familia', 'ano_coleta', 'qualificador_atual', 'numero_catalogo', 'subespecie_atual']].copy()\n",
    "\n",
    "# making sure altitude is a floating point number\n",
    "teste['altitude'] = teste['altitude'].astype(float)\n",
    "\n",
    "# sorting\n",
    "teste = teste.sort_values(['altitude','genero_atual'])\n",
    "\n",
    "# dropping na\n",
    "teste = teste.dropna(subset=['altitude'])\n",
    "\n",
    "# removing outlier\n",
    "teste = teste[teste['altitude'] < 7000].copy()"
   ]
  },
  {
   "cell_type": "code",
   "execution_count": 24,
   "metadata": {
    "ExecuteTime": {
     "end_time": "2021-02-15T13:49:43.289293Z",
     "start_time": "2021-02-15T13:49:43.269346Z"
    }
   },
   "outputs": [],
   "source": [
    "# database\n",
    "db = teste[~teste['ordem'].isna()]\n",
    "\n",
    "# aux. variables\n",
    "x_labels = db.sort_values('altitude', ascending=False)['genero_atual'].unique()[::-1]\n",
    "y_max = db['altitude'].max()\n",
    "y_min = db['altitude'].min()\n",
    "\n",
    "# selector\n",
    "select_family = alt.selection_multi(fields=['familia'], bind='legend')\n",
    "\n",
    "# ordering x-axis per mean altitude - OUTLIER: ordem nula\n",
    "g = alt.Chart(db, title='Altitude per genus',\n",
    "                width= 900, height=400).mark_circle().encode(\n",
    "    x = alt.X('genero_atual', type='nominal', title='Genus',\n",
    "              scale= alt.Scale(domain= x_labels),\n",
    "              sort=alt.EncodingSortField('altitude', op=\"max\", order=\"ascending\")),\n",
    "    y = alt.Y('altitude', type='quantitative', title='Altitude (in meters)',\n",
    "              scale= alt.Scale(domain= [min(y_min, 0), y_max])),  # shows if there's smecimens below sea level\n",
    "    color = alt.Color('familia:N', title='Family',\n",
    "                      legend= alt.Legend(columns=2, symbolLimit=50),\n",
    "                      scale= alt.Scale(domain=list(cores_familia.keys()), range= list(cores_familia.values()))),\n",
    "    tooltip = alt.Tooltip(['numero_catalogo', 'genero_atual','especie_atual','subespecie_atual', \n",
    "                           'ordem', 'subordem',\n",
    "                            'qualificador_atual', 'ano_coleta','altitude'])\n",
    ").add_selection(select_family).transform_filter(select_family)\n",
    "\n",
    "g = g.configure_title(fontSize=16).configure_axis(\n",
    "    labelFontSize=12,\n",
    "    titleFontSize=12\n",
    ").configure_legend(\n",
    "    labelFontSize=12,\n",
    "    titleFontSize=12\n",
    ")\n",
    "\n",
    "# g.save('./graphs/altitude/genus/altitude-per-genus.html')\n",
    "# g"
   ]
  },
  {
   "cell_type": "code",
   "execution_count": 25,
   "metadata": {
    "ExecuteTime": {
     "end_time": "2021-02-15T13:51:42.489959Z",
     "start_time": "2021-02-15T13:51:42.305741Z"
    }
   },
   "outputs": [],
   "source": [
    "# input do especialista: altitude não faz sentido para crocodilianos\n",
    "# separating per order\n",
    "for j in range(2):\n",
    "    # defining color chanel domain and range, respectively\n",
    "    familias = [f for f in cores_familia.keys() if f in teste[teste['ordem'] == ordens[j]]['familia'].unique()]\n",
    "    cores_temp = [cores_familia[f] for f in familias]\n",
    "    \n",
    "    # aux. variables\n",
    "    x_labels = db.sort_values('altitude', ascending=False)['genero_atual'].unique()[::-1]\n",
    "    y_max = db['altitude'].max()\n",
    "    y_min = db['altitude'].min()\n",
    "\n",
    "    # selector\n",
    "    select_family = alt.selection_multi(fields=['familia'], bind='legend')\n",
    "    \n",
    "    temp = alt.Chart(teste[(~teste['ordem'].isna()) & (teste['ordem'] == ordens[j])], width=800,\n",
    "                     title=f'Altitude per genus ({ordens[j]})').mark_circle(color= cores[j]).encode(\n",
    "        x = alt.X('genero_atual', type='nominal', title='Genus',\n",
    "                  scale= alt.Scale(domain= x_labels),\n",
    "                  sort=alt.EncodingSortField('altitude', op=\"max\", order=\"ascending\")),\n",
    "        y = alt.Y('altitude', type='quantitative', title='Altitude (in meters)',\n",
    "                  scale= alt.Scale(domain= [min(y_min, 0), y_max])),\n",
    "        color= alt.Color('familia:N', title='Family', \n",
    "                         legend= alt.Legend(columns=1, symbolLimit=42),\n",
    "                         scale= alt.Scale(domain= familias, range= cores_temp)),\n",
    "        tooltip = alt.Tooltip(['numero_catalogo','especie_atual','subespecie_atual', \n",
    "                               'ordem', 'subordem',\n",
    "                            'qualificador_atual', 'ano_coleta','altitude'])\n",
    "    ).add_selection(select_family).transform_filter(select_family)\n",
    "    \n",
    "    temp = temp.configure_title(fontSize=16).configure_axis(\n",
    "                labelFontSize=12,\n",
    "                titleFontSize=12\n",
    "            ).configure_legend(\n",
    "                labelFontSize=12,\n",
    "                titleFontSize=12\n",
    "            )\n",
    "    temp.save(f'./graphs/altitude/genus/altitude_per_genus-{ordens[j]}.html')\n",
    "\n",
    "# temp"
   ]
  },
  {
   "cell_type": "markdown",
   "metadata": {},
   "source": [
    "<br>\n",
    "\n",
    "## Separating per variance groups\n",
    "\n",
    "**p.s.:** in this case, variance doesn't make much sense for groups with only one or two observations. So I'm separating per \"density\" (counting) groups as a proxy. \n",
    "\n",
    "p.s.: ended up separating per number of points (i.e., more and less represented genus)"
   ]
  },
  {
   "cell_type": "code",
   "execution_count": 26,
   "metadata": {
    "ExecuteTime": {
     "end_time": "2021-02-15T13:52:54.576640Z",
     "start_time": "2021-02-15T13:52:54.566479Z"
    }
   },
   "outputs": [],
   "source": [
    "# input do especialista: altitude faz mais sentido apenas para a ordem Squamata\n",
    "squamata = teste[teste['ordem'] == 'Squamata'].copy()\n",
    "squamata['altitude'] = squamata['altitude'].astype(float)\n",
    "\n",
    "# counting per gender\n",
    "sort = squamata.groupby('genero_atual').count()['ordem'].reset_index().rename(columns={'ordem':'counts'})"
   ]
  },
  {
   "cell_type": "code",
   "execution_count": 27,
   "metadata": {
    "ExecuteTime": {
     "end_time": "2021-02-15T13:52:56.582291Z",
     "start_time": "2021-02-15T13:52:56.577624Z"
    }
   },
   "outputs": [],
   "source": [
    "threshold = 2\n",
    "\n",
    "# mais variabilidade (threshold: counts >=2)\n",
    "grupo1 = sort[sort['counts'] > threshold]['genero_atual']\n",
    "\n",
    "# menos variabilidade\n",
    "grupo2 = sort[sort['counts'] <= threshold]['genero_atual']"
   ]
  },
  {
   "cell_type": "markdown",
   "metadata": {},
   "source": [
    "#### higher variance group\n",
    "\n",
    "genus with at least 2 points"
   ]
  },
  {
   "cell_type": "code",
   "execution_count": 30,
   "metadata": {
    "ExecuteTime": {
     "end_time": "2021-02-15T13:54:34.944924Z",
     "start_time": "2021-02-15T13:54:34.837472Z"
    }
   },
   "outputs": [],
   "source": [
    "# defining color chanel domain and range, respectively\n",
    "familias = [f for f in cores_familia.keys() if f in squamata[(squamata['genero_atual'].isin(grupo1))]['familia'].unique()]\n",
    "cores_temp = [cores_familia[f] for f in familias]\n",
    "\n",
    "# aux. variables\n",
    "x_labels = db.sort_values('altitude', ascending=False)['genero_atual'].unique()[::-1]\n",
    "y_max = db['altitude'].max()\n",
    "y_min = db['altitude'].min()\n",
    "\n",
    "# selector\n",
    "select_family = alt.selection_multi(fields=['familia'], bind='legend')\n",
    "\n",
    "# ordering x-axis per mean altitude\n",
    "g = alt.Chart(squamata[(squamata['genero_atual'].isin(grupo1))], width= 800,\n",
    "                 title='Altitude per genus (Squamata)').mark_circle(color= cores[0]).encode(\n",
    "    x = alt.X('genero_atual', type='nominal', title='Genus',\n",
    "              scale= alt.Scale(domain= x_labels),\n",
    "              sort=alt.EncodingSortField('altitude', op='max', order=\"ascending\")),\n",
    "    y = alt.Y('altitude', type='quantitative', title='Altitude (in meters)',\n",
    "              scale= alt.Scale(domain= [min(y_min, 0), y_max])),\n",
    "    color = alt.Color('familia:N', title='Family', \n",
    "                      legend= alt.Legend(columns=1, symbolLimit=42), \n",
    "                      scale= alt.Scale(domain= familias, range= cores_temp)),\n",
    "    tooltip = alt.Tooltip(['numero_catalogo','especie_atual','subespecie_atual', \n",
    "                           'ordem', 'subordem', 'familia',\n",
    "                            'qualificador_atual', 'ano_coleta','altitude'])\n",
    ").add_selection(select_family).transform_filter(select_family)\n",
    "\n",
    "g = g.configure_title(fontSize=16).configure_axis(\n",
    "    labelFontSize=12,\n",
    "    titleFontSize=12\n",
    ").configure_legend(\n",
    "    labelFontSize=12,\n",
    "    titleFontSize=12\n",
    ")\n",
    "\n",
    "# g.save('./graphs/altitude/genus/altitude_per_genus-higher-var.html')\n",
    "# g"
   ]
  },
  {
   "cell_type": "markdown",
   "metadata": {},
   "source": [
    "#### lower variance group\n",
    "\n",
    "less represented genus"
   ]
  },
  {
   "cell_type": "code",
   "execution_count": 31,
   "metadata": {
    "ExecuteTime": {
     "end_time": "2021-02-15T13:54:39.046602Z",
     "start_time": "2021-02-15T13:54:39.029267Z"
    }
   },
   "outputs": [
    {
     "data": {
      "text/plain": [
       "NaN     625\n",
       "sp.      10\n",
       "cf.       5\n",
       "aff.      5\n",
       "c.        1\n",
       "Name: qualificador_atual, dtype: int64"
      ]
     },
     "execution_count": 31,
     "metadata": {},
     "output_type": "execute_result"
    }
   ],
   "source": [
    "# não dá para usar como marca gráfica (muitos valores faltando)\n",
    "teste['qualificador_atual'].value_counts(dropna=False)"
   ]
  },
  {
   "cell_type": "code",
   "execution_count": 35,
   "metadata": {
    "ExecuteTime": {
     "end_time": "2021-02-15T13:56:58.626207Z",
     "start_time": "2021-02-15T13:56:58.564683Z"
    },
    "scrolled": false
   },
   "outputs": [],
   "source": [
    "# filtering - defining color chanel's domain and range, respectively\n",
    "familias = [f for f in cores_familia.keys() if f in squamata[(squamata['genero_atual'].isin(grupo2))]['familia'].unique()]\n",
    "cores_temp = [cores_familia[f] for f in familias]\n",
    "\n",
    "# aux. variables\n",
    "x_labels = db.sort_values('altitude', ascending=False)['genero_atual'].unique()[::-1]\n",
    "y_max = db['altitude'].max()\n",
    "y_min = db['altitude'].min()\n",
    "\n",
    "# selector\n",
    "select_family = alt.selection_multi(fields=['familia'], bind='legend')\n",
    "\n",
    "# ordering x-axis per mean altitude\n",
    "g = alt.Chart(squamata[(squamata['genero_atual'].isin(grupo2))], title='Altitude per genus (Squamata)',\n",
    "                width=800).mark_circle(color= cores[0]).encode(\n",
    "    x = alt.X('genero_atual', type='nominal', title='Genus',\n",
    "              scale= alt.Scale(domain= x_labels),\n",
    "              sort=alt.EncodingSortField('altitude', op=\"max\", order=\"ascending\")),\n",
    "    y = alt.Y('altitude', type='quantitative', title='Altitude (in meters)',\n",
    "              scale= alt.Scale(domain= [min(y_min, 0), y_max])),\n",
    "    color = alt.Color('familia:N', title='Family', \n",
    "                  legend= alt.Legend(columns=1, symbolLimit=42), \n",
    "                  scale= alt.Scale(domain= familias, range= cores_temp)),\n",
    "    tooltip = alt.Tooltip(['numero_catalogo','especie_atual','subespecie_atual', \n",
    "                           'ordem', 'subordem',\n",
    "                            'qualificador_atual', 'ano_coleta','altitude'])\n",
    ").add_selection(select_family).transform_filter(select_family)\n",
    "\n",
    "g = g.configure_title(fontSize=16).configure_axis(\n",
    "    labelFontSize=12,\n",
    "    titleFontSize=12\n",
    ").configure_legend(\n",
    "    labelFontSize=12,\n",
    "    titleFontSize=12\n",
    ")\n",
    "\n",
    "# g.save('./graphs/altitude/genus/altitude_per_genus-lower-var.html')\n",
    "# g"
   ]
  },
  {
   "cell_type": "markdown",
   "metadata": {},
   "source": [
    "<br>\n",
    "\n",
    "**Thats it!**\n",
    "\n",
    "-----"
   ]
  }
 ],
 "metadata": {
  "kernelspec": {
   "display_name": "Python 3",
   "language": "python",
   "name": "python3"
  },
  "language_info": {
   "codemirror_mode": {
    "name": "ipython",
    "version": 3
   },
   "file_extension": ".py",
   "mimetype": "text/x-python",
   "name": "python",
   "nbconvert_exporter": "python",
   "pygments_lexer": "ipython3",
   "version": "3.9.1"
  },
  "latex_envs": {
   "LaTeX_envs_menu_present": true,
   "autoclose": false,
   "autocomplete": true,
   "bibliofile": "biblio.bib",
   "cite_by": "apalike",
   "current_citInitial": 1,
   "eqLabelWithNumbers": true,
   "eqNumInitial": 1,
   "hotkeys": {
    "equation": "Ctrl-E",
    "itemize": "Ctrl-I"
   },
   "labels_anchors": false,
   "latex_user_defs": false,
   "report_style_numbering": false,
   "user_envs_cfg": false
  },
  "toc": {
   "base_numbering": 1,
   "nav_menu": {},
   "number_sections": false,
   "sideBar": true,
   "skip_h1_title": false,
   "title_cell": "Table of Contents",
   "title_sidebar": "Contents",
   "toc_cell": false,
   "toc_position": {},
   "toc_section_display": true,
   "toc_window_display": false
  },
  "varInspector": {
   "cols": {
    "lenName": 16,
    "lenType": 16,
    "lenVar": 40
   },
   "kernels_config": {
    "python": {
     "delete_cmd_postfix": "",
     "delete_cmd_prefix": "del ",
     "library": "var_list.py",
     "varRefreshCmd": "print(var_dic_list())"
    },
    "r": {
     "delete_cmd_postfix": ") ",
     "delete_cmd_prefix": "rm(",
     "library": "var_list.r",
     "varRefreshCmd": "cat(var_dic_list()) "
    }
   },
   "position": {
    "height": "391.35px",
    "left": "900.5px",
    "right": "20px",
    "top": "96px",
    "width": "536.5px"
   },
   "types_to_exclude": [
    "module",
    "function",
    "builtin_function_or_method",
    "instance",
    "_Feature"
   ],
   "window_display": false
  }
 },
 "nbformat": 4,
 "nbformat_minor": 2
}
